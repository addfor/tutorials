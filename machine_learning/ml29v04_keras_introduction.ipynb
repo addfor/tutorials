{
 "cells": [
  {
   "cell_type": "markdown",
   "metadata": {},
   "source": [
    "# Introduction to Keras for Deep Learning"
   ]
  },
  {
   "cell_type": "code",
   "execution_count": 1,
   "metadata": {},
   "outputs": [
    {
     "data": {
      "text/html": [
       "<div id='toc-container'><script type='text/javascript'>\n",
       "$(function() {\n",
       "    function regenTOC(){\n",
       "        element = $(\"#toc-container\");\n",
       "\n",
       "\tvar toc = document.createElement(\"div\");\n",
       "\t$(toc).attr(\"class\", \"table-of-contents\");\n",
       "\n",
       "\tvar curLevel = 0;\n",
       "\tvar containerStack = [toc];\n",
       "\tvar levelOfTag = {\"h2\": 1, \"h3\": 2, \"h4\": 3, \"h5\": 4};\n",
       "\n",
       "\tfunction pushLevel() {\n",
       "            var list = document.createElement(\"ul\");\n",
       "            containerStack.push(list);\n",
       "            curLevel++;\n",
       "\t}\n",
       "\t\n",
       "\tfunction popLevel() {\n",
       "            var lastContainer = containerStack.pop();\n",
       "            $(lastContainer).appendTo(containerStack[containerStack.length - 1]);\n",
       "            curLevel--;\n",
       "\t}\n",
       "\t\n",
       "\t$(\".text_cell_render :header\").each(function (i, elem) {\n",
       "            var level = levelOfTag[ elem.tagName.toLowerCase() ];\n",
       "\n",
       "            if (level === undefined)\n",
       "\t\treturn;\n",
       "\n",
       "            while (curLevel < level)\n",
       "\t\tpushLevel();\n",
       "            while (curLevel > level)\n",
       "\t\tpopLevel();\n",
       "            \n",
       "            var listItem = document.createElement(\"li\");\n",
       "            var link = document.createElement(\"a\");\n",
       "            $(link)\n",
       "\t\t.text($(elem).contents().first().text()) // Remove the pilcrow sign\n",
       "\t\t.attr(\"href\", \"#\" + $(elem).attr(\"id\"))\n",
       "\t\t.appendTo(listItem);\n",
       "            $(listItem).appendTo(containerStack[containerStack.length - 1]);\n",
       "\t});\n",
       "\t\n",
       "\twhile (curLevel > 0)\n",
       "            popLevel();\n",
       "\n",
       "        $(\"<a class='btn-update' href='#'>Update</a>\")\n",
       "          .click(regenTOC).prependTo(toc);\n",
       "\n",
       "\t$(toc).prepend(\"<div class='title'>Contents</div>\")\n",
       "          .wrap(\"<div class='toc-headings'/>\");\n",
       "\n",
       "        $(element).empty();\n",
       "        $(element).append(toc);\n",
       "    }\n",
       "\n",
       "    if (typeof(IPython) !== 'undefined')\n",
       "        $([IPython.events]).on('notebook_loaded.Notebook', regenTOC);\n",
       "    regenTOC();\n",
       "});\n",
       "\n",
       "</script></div>"
      ],
      "text/plain": [
       "<IPython.core.display.HTML object>"
      ]
     },
     "execution_count": 1,
     "metadata": {},
     "output_type": "execute_result"
    }
   ],
   "source": [
    "import addutils.toc ; addutils.toc.js(ipy_notebook=True)"
   ]
  },
  {
   "cell_type": "code",
   "execution_count": 2,
   "metadata": {},
   "outputs": [
    {
     "data": {
      "text/html": [
       "<style>\n",
       ".text_cell_render @font-face {\n",
       "    font-family: \"Computer Modern\";\n",
       "    src: url('http://mirrors.ctan.org/fonts/cm-unicode/fonts/otf/cmunss.otf');\n",
       "}\n",
       "\n",
       "div.cell {\n",
       "    width: 900px;\n",
       "    margin-left: 0% !important;\n",
       "    margin-right: 0%;\n",
       "}\n",
       "\n",
       "code {\n",
       "    font-size:10pt;\n",
       "}\n",
       "\n",
       ".text_cell_render  h1 {\n",
       "    font-family: Tahoma, sans-serif;\n",
       "    color: rgb( 10, 88, 126 );\n",
       "    font-size:28pt;\n",
       "}\n",
       ".text_cell_render h2 {\n",
       "    font-family: Tahoma, sans-serif;\n",
       "    color: rgb( 10, 88, 126 );\n",
       "    font-size:24pt;\n",
       "}\n",
       ".text_cell_render h3 {\n",
       "    font-family: Tahoma, sans-serif;\n",
       "    color: rgb( 10, 88, 126 );\n",
       "    font-size:20pt;\n",
       "}\n",
       ".text_cell_render h4 {\n",
       "    font-family: Tahoma, sans-serif;\n",
       "    color: rgb( 10, 88, 126 );\n",
       "    font-size:18pt;\n",
       "    margin-top:12px;\n",
       "    margin-bottom: 3px;\n",
       "}\n",
       "\n",
       ".text_cell_render h5 {\n",
       "    font-weight: 300;\n",
       "    font-size: 11pt;\n",
       "    color: rgb( 48, 48, 48 );\n",
       "    font-style: italic;\n",
       "    margin-bottom: .5em;\n",
       "    margin-top: 0.5em;\n",
       "    display: block;\n",
       "}\n",
       "\n",
       ".text_cell_render ul {\n",
       "    font-family: Tahoma, sans-serif;\n",
       "    color: rgb( 90, 90, 90 );\n",
       "    font-size:11pt;\n",
       "    line-height: 185%;\n",
       "}\n",
       "\n",
       ".text_cell_render yp {\n",
       "    font-family: Tahoma, sans-serif;\n",
       "    color: rgb( 90, 90, 90 );\n",
       "    font-size:11pt;\n",
       "}\n",
       "\n",
       ".text_cell_render strong {\n",
       "    font-family: Tahoma, sans-serif;\n",
       "    color: rgb( 30, 30, 30 );\n",
       "    font-size:11pt;\n",
       "}\n",
       "\n",
       ".text_cell_render a:link {\n",
       "    font-family: Tahoma, sans-serif;\n",
       "    color: rgb( 10, 88, 126 );\n",
       "    font-size:11pt;\n",
       "}\n",
       "\n",
       ".text_cell_render a:visited {\n",
       "    color:rgb( 10, 88, 126 );\n",
       "}\n",
       "\n",
       ".text_cell_render {\n",
       "    font-family: Helvetica, Courier, Computer Modern, \"Helvetica Neue\", Arial, Geneva, sans-serif;\n",
       "    color: rgb( 84, 84, 84 );\n",
       "    font-size:11pt;\n",
       "    line-height: 125%;\n",
       "    font-size: 100%;\n",
       "    width:800px;\n",
       "}\n",
       "\n",
       ".CodeMirror {\n",
       "    font-family: Courier, \"Source Code Pro\", source-code-pro,Consolas, monospace;\n",
       "}\n",
       "\n",
       ".warning {\n",
       "    color: rgb( 240, 20, 20 );\n",
       "}\n",
       "\n",
       "/* Pandas tables */\n",
       "/*\n",
       ".rendered_html td {\n",
       "    text-align: right;\n",
       "}\n",
       "*/\n",
       "\n",
       "table.dataframe td {\n",
       "    text-align: right;\n",
       "}\n",
       "\n",
       ".output .table-of-contents {\n",
       "    border: 1px #cecece solid;\n",
       "    background-color: #fafafa;\n",
       "    padding-top: 10px;\n",
       "    padding-bottom: 5px;\n",
       "    padding-right: 15px;\n",
       "    padding-left: 0px;\n",
       "    margin-bottom: 20px;\n",
       "    display: inline-block;\n",
       "    position: relative;\n",
       "}\n",
       "\n",
       ".output .table-of-contents ul {\n",
       "    list-style-type: none;\n",
       "    padding-left: 20px;\n",
       "}\n",
       "\n",
       ".output .table-of-contents .title {\n",
       "    font-weight: bold;\n",
       "    font-height: 11pt;\n",
       "    padding-left: 20px; /* looks better if it's the same to the <ul> */\n",
       "}\n",
       "\n",
       ".output .table-of-contents .btn-update {\n",
       "    position: absolute;\n",
       "    float: right;\n",
       "    right: 11px;\n",
       "    top: 4px;\n",
       "    font-size: 9pt;\n",
       "}\n",
       "\n",
       "</style>\n",
       "<script>\n",
       "    MathJax.Hub.Config({\n",
       "                        TeX: {\n",
       "                           extensions: [\"AMSmath.js\"]\n",
       "                           },\n",
       "                displayAlign: 'center', // Change this to 'center' to center equations.\n",
       "                \"HTML-CSS\": {\n",
       "                    styles: {'.MathJax_Display': {\"margin\": 4}}\n",
       "                }\n",
       "        });\n",
       "</script>\n"
      ],
      "text/plain": [
       "<IPython.core.display.HTML object>"
      ]
     },
     "execution_count": 2,
     "metadata": {},
     "output_type": "execute_result"
    }
   ],
   "source": [
    "import numpy as np\n",
    "from utilities import cifar10\n",
    "from addutils import css_notebook\n",
    "css_notebook()"
   ]
  },
  {
   "cell_type": "code",
   "execution_count": 3,
   "metadata": {},
   "outputs": [
    {
     "data": {
      "text/html": [
       "\n",
       "    <div class=\"bk-root\">\n",
       "        <a href=\"https://bokeh.pydata.org\" target=\"_blank\" class=\"bk-logo bk-logo-small bk-logo-notebook\"></a>\n",
       "        <span id=\"476706f8-bac8-4fe4-a22c-8b820270fdaf\">Loading BokehJS ...</span>\n",
       "    </div>"
      ]
     },
     "metadata": {},
     "output_type": "display_data"
    },
    {
     "data": {
      "application/javascript": [
       "\n",
       "(function(root) {\n",
       "  function now() {\n",
       "    return new Date();\n",
       "  }\n",
       "\n",
       "  var force = true;\n",
       "\n",
       "  if (typeof (root._bokeh_onload_callbacks) === \"undefined\" || force === true) {\n",
       "    root._bokeh_onload_callbacks = [];\n",
       "    root._bokeh_is_loading = undefined;\n",
       "  }\n",
       "\n",
       "  var JS_MIME_TYPE = 'application/javascript';\n",
       "  var HTML_MIME_TYPE = 'text/html';\n",
       "  var EXEC_MIME_TYPE = 'application/vnd.bokehjs_exec.v0+json';\n",
       "  var CLASS_NAME = 'output_bokeh rendered_html';\n",
       "\n",
       "  /**\n",
       "   * Render data to the DOM node\n",
       "   */\n",
       "  function render(props, node) {\n",
       "    var script = document.createElement(\"script\");\n",
       "    node.appendChild(script);\n",
       "  }\n",
       "\n",
       "  /**\n",
       "   * Handle when an output is cleared or removed\n",
       "   */\n",
       "  function handleClearOutput(event, handle) {\n",
       "    var cell = handle.cell;\n",
       "\n",
       "    var id = cell.output_area._bokeh_element_id;\n",
       "    var server_id = cell.output_area._bokeh_server_id;\n",
       "    // Clean up Bokeh references\n",
       "    if (id !== undefined) {\n",
       "      Bokeh.index[id].model.document.clear();\n",
       "      delete Bokeh.index[id];\n",
       "    }\n",
       "\n",
       "    if (server_id !== undefined) {\n",
       "      // Clean up Bokeh references\n",
       "      var cmd = \"from bokeh.io.state import curstate; print(curstate().uuid_to_server['\" + server_id + \"'].get_sessions()[0].document.roots[0]._id)\";\n",
       "      cell.notebook.kernel.execute(cmd, {\n",
       "        iopub: {\n",
       "          output: function(msg) {\n",
       "            var element_id = msg.content.text.trim();\n",
       "            Bokeh.index[element_id].model.document.clear();\n",
       "            delete Bokeh.index[element_id];\n",
       "          }\n",
       "        }\n",
       "      });\n",
       "      // Destroy server and session\n",
       "      var cmd = \"import bokeh.io.notebook as ion; ion.destroy_server('\" + server_id + \"')\";\n",
       "      cell.notebook.kernel.execute(cmd);\n",
       "    }\n",
       "  }\n",
       "\n",
       "  /**\n",
       "   * Handle when a new output is added\n",
       "   */\n",
       "  function handleAddOutput(event, handle) {\n",
       "    var output_area = handle.output_area;\n",
       "    var output = handle.output;\n",
       "\n",
       "    // limit handleAddOutput to display_data with EXEC_MIME_TYPE content only\n",
       "    if ((output.output_type != \"display_data\") || (!output.data.hasOwnProperty(EXEC_MIME_TYPE))) {\n",
       "      return\n",
       "    }\n",
       "\n",
       "    var toinsert = output_area.element.find(\".\" + CLASS_NAME.split(' ')[0]);\n",
       "\n",
       "    if (output.metadata[EXEC_MIME_TYPE][\"id\"] !== undefined) {\n",
       "      toinsert[0].firstChild.textContent = output.data[JS_MIME_TYPE];\n",
       "      // store reference to embed id on output_area\n",
       "      output_area._bokeh_element_id = output.metadata[EXEC_MIME_TYPE][\"id\"];\n",
       "    }\n",
       "    if (output.metadata[EXEC_MIME_TYPE][\"server_id\"] !== undefined) {\n",
       "      var bk_div = document.createElement(\"div\");\n",
       "      bk_div.innerHTML = output.data[HTML_MIME_TYPE];\n",
       "      var script_attrs = bk_div.children[0].attributes;\n",
       "      for (var i = 0; i < script_attrs.length; i++) {\n",
       "        toinsert[0].firstChild.setAttribute(script_attrs[i].name, script_attrs[i].value);\n",
       "      }\n",
       "      // store reference to server id on output_area\n",
       "      output_area._bokeh_server_id = output.metadata[EXEC_MIME_TYPE][\"server_id\"];\n",
       "    }\n",
       "  }\n",
       "\n",
       "  function register_renderer(events, OutputArea) {\n",
       "\n",
       "    function append_mime(data, metadata, element) {\n",
       "      // create a DOM node to render to\n",
       "      var toinsert = this.create_output_subarea(\n",
       "        metadata,\n",
       "        CLASS_NAME,\n",
       "        EXEC_MIME_TYPE\n",
       "      );\n",
       "      this.keyboard_manager.register_events(toinsert);\n",
       "      // Render to node\n",
       "      var props = {data: data, metadata: metadata[EXEC_MIME_TYPE]};\n",
       "      render(props, toinsert[0]);\n",
       "      element.append(toinsert);\n",
       "      return toinsert\n",
       "    }\n",
       "\n",
       "    /* Handle when an output is cleared or removed */\n",
       "    events.on('clear_output.CodeCell', handleClearOutput);\n",
       "    events.on('delete.Cell', handleClearOutput);\n",
       "\n",
       "    /* Handle when a new output is added */\n",
       "    events.on('output_added.OutputArea', handleAddOutput);\n",
       "\n",
       "    /**\n",
       "     * Register the mime type and append_mime function with output_area\n",
       "     */\n",
       "    OutputArea.prototype.register_mime_type(EXEC_MIME_TYPE, append_mime, {\n",
       "      /* Is output safe? */\n",
       "      safe: true,\n",
       "      /* Index of renderer in `output_area.display_order` */\n",
       "      index: 0\n",
       "    });\n",
       "  }\n",
       "\n",
       "  // register the mime type if in Jupyter Notebook environment and previously unregistered\n",
       "  if (root.Jupyter !== undefined) {\n",
       "    var events = require('base/js/events');\n",
       "    var OutputArea = require('notebook/js/outputarea').OutputArea;\n",
       "\n",
       "    if (OutputArea.prototype.mime_types().indexOf(EXEC_MIME_TYPE) == -1) {\n",
       "      register_renderer(events, OutputArea);\n",
       "    }\n",
       "  }\n",
       "\n",
       "  \n",
       "  if (typeof (root._bokeh_timeout) === \"undefined\" || force === true) {\n",
       "    root._bokeh_timeout = Date.now() + 5000;\n",
       "    root._bokeh_failed_load = false;\n",
       "  }\n",
       "\n",
       "  var NB_LOAD_WARNING = {'data': {'text/html':\n",
       "     \"<div style='background-color: #fdd'>\\n\"+\n",
       "     \"<p>\\n\"+\n",
       "     \"BokehJS does not appear to have successfully loaded. If loading BokehJS from CDN, this \\n\"+\n",
       "     \"may be due to a slow or bad network connection. Possible fixes:\\n\"+\n",
       "     \"</p>\\n\"+\n",
       "     \"<ul>\\n\"+\n",
       "     \"<li>re-rerun `output_notebook()` to attempt to load from CDN again, or</li>\\n\"+\n",
       "     \"<li>use INLINE resources instead, as so:</li>\\n\"+\n",
       "     \"</ul>\\n\"+\n",
       "     \"<code>\\n\"+\n",
       "     \"from bokeh.resources import INLINE\\n\"+\n",
       "     \"output_notebook(resources=INLINE)\\n\"+\n",
       "     \"</code>\\n\"+\n",
       "     \"</div>\"}};\n",
       "\n",
       "  function display_loaded() {\n",
       "    var el = document.getElementById(\"476706f8-bac8-4fe4-a22c-8b820270fdaf\");\n",
       "    if (el != null) {\n",
       "      el.textContent = \"BokehJS is loading...\";\n",
       "    }\n",
       "    if (root.Bokeh !== undefined) {\n",
       "      if (el != null) {\n",
       "        el.textContent = \"BokehJS \" + root.Bokeh.version + \" successfully loaded.\";\n",
       "      }\n",
       "    } else if (Date.now() < root._bokeh_timeout) {\n",
       "      setTimeout(display_loaded, 100)\n",
       "    }\n",
       "  }\n",
       "\n",
       "\n",
       "  function run_callbacks() {\n",
       "    try {\n",
       "      root._bokeh_onload_callbacks.forEach(function(callback) { callback() });\n",
       "    }\n",
       "    finally {\n",
       "      delete root._bokeh_onload_callbacks\n",
       "    }\n",
       "    console.info(\"Bokeh: all callbacks have finished\");\n",
       "  }\n",
       "\n",
       "  function load_libs(js_urls, callback) {\n",
       "    root._bokeh_onload_callbacks.push(callback);\n",
       "    if (root._bokeh_is_loading > 0) {\n",
       "      console.log(\"Bokeh: BokehJS is being loaded, scheduling callback at\", now());\n",
       "      return null;\n",
       "    }\n",
       "    if (js_urls == null || js_urls.length === 0) {\n",
       "      run_callbacks();\n",
       "      return null;\n",
       "    }\n",
       "    console.log(\"Bokeh: BokehJS not loaded, scheduling load and callback at\", now());\n",
       "    root._bokeh_is_loading = js_urls.length;\n",
       "    for (var i = 0; i < js_urls.length; i++) {\n",
       "      var url = js_urls[i];\n",
       "      var s = document.createElement('script');\n",
       "      s.src = url;\n",
       "      s.async = false;\n",
       "      s.onreadystatechange = s.onload = function() {\n",
       "        root._bokeh_is_loading--;\n",
       "        if (root._bokeh_is_loading === 0) {\n",
       "          console.log(\"Bokeh: all BokehJS libraries loaded\");\n",
       "          run_callbacks()\n",
       "        }\n",
       "      };\n",
       "      s.onerror = function() {\n",
       "        console.warn(\"failed to load library \" + url);\n",
       "      };\n",
       "      console.log(\"Bokeh: injecting script tag for BokehJS library: \", url);\n",
       "      document.getElementsByTagName(\"head\")[0].appendChild(s);\n",
       "    }\n",
       "  };var element = document.getElementById(\"476706f8-bac8-4fe4-a22c-8b820270fdaf\");\n",
       "  if (element == null) {\n",
       "    console.log(\"Bokeh: ERROR: autoload.js configured with elementid '476706f8-bac8-4fe4-a22c-8b820270fdaf' but no matching script tag was found. \")\n",
       "    return false;\n",
       "  }\n",
       "\n",
       "  var js_urls = [\"https://cdn.pydata.org/bokeh/release/bokeh-0.12.13.min.js\", \"https://cdn.pydata.org/bokeh/release/bokeh-widgets-0.12.13.min.js\", \"https://cdn.pydata.org/bokeh/release/bokeh-tables-0.12.13.min.js\", \"https://cdn.pydata.org/bokeh/release/bokeh-gl-0.12.13.min.js\"];\n",
       "\n",
       "  var inline_js = [\n",
       "    function(Bokeh) {\n",
       "      Bokeh.set_log_level(\"info\");\n",
       "    },\n",
       "    \n",
       "    function(Bokeh) {\n",
       "      \n",
       "    },\n",
       "    function(Bokeh) {\n",
       "      console.log(\"Bokeh: injecting CSS: https://cdn.pydata.org/bokeh/release/bokeh-0.12.13.min.css\");\n",
       "      Bokeh.embed.inject_css(\"https://cdn.pydata.org/bokeh/release/bokeh-0.12.13.min.css\");\n",
       "      console.log(\"Bokeh: injecting CSS: https://cdn.pydata.org/bokeh/release/bokeh-widgets-0.12.13.min.css\");\n",
       "      Bokeh.embed.inject_css(\"https://cdn.pydata.org/bokeh/release/bokeh-widgets-0.12.13.min.css\");\n",
       "      console.log(\"Bokeh: injecting CSS: https://cdn.pydata.org/bokeh/release/bokeh-tables-0.12.13.min.css\");\n",
       "      Bokeh.embed.inject_css(\"https://cdn.pydata.org/bokeh/release/bokeh-tables-0.12.13.min.css\");\n",
       "    }\n",
       "  ];\n",
       "\n",
       "  function run_inline_js() {\n",
       "    \n",
       "    if ((root.Bokeh !== undefined) || (force === true)) {\n",
       "      for (var i = 0; i < inline_js.length; i++) {\n",
       "        inline_js[i].call(root, root.Bokeh);\n",
       "      }if (force === true) {\n",
       "        display_loaded();\n",
       "      }} else if (Date.now() < root._bokeh_timeout) {\n",
       "      setTimeout(run_inline_js, 100);\n",
       "    } else if (!root._bokeh_failed_load) {\n",
       "      console.log(\"Bokeh: BokehJS failed to load within specified timeout.\");\n",
       "      root._bokeh_failed_load = true;\n",
       "    } else if (force !== true) {\n",
       "      var cell = $(document.getElementById(\"476706f8-bac8-4fe4-a22c-8b820270fdaf\")).parents('.cell').data().cell;\n",
       "      cell.output_area.append_execute_result(NB_LOAD_WARNING)\n",
       "    }\n",
       "\n",
       "  }\n",
       "\n",
       "  if (root._bokeh_is_loading === 0) {\n",
       "    console.log(\"Bokeh: BokehJS loaded, going straight to plotting\");\n",
       "    run_inline_js();\n",
       "  } else {\n",
       "    load_libs(js_urls, function() {\n",
       "      console.log(\"Bokeh: BokehJS plotting callback run at\", now());\n",
       "      run_inline_js();\n",
       "    });\n",
       "  }\n",
       "}(window));"
      ],
      "application/vnd.bokehjs_load.v0+json": "\n(function(root) {\n  function now() {\n    return new Date();\n  }\n\n  var force = true;\n\n  if (typeof (root._bokeh_onload_callbacks) === \"undefined\" || force === true) {\n    root._bokeh_onload_callbacks = [];\n    root._bokeh_is_loading = undefined;\n  }\n\n  \n\n  \n  if (typeof (root._bokeh_timeout) === \"undefined\" || force === true) {\n    root._bokeh_timeout = Date.now() + 5000;\n    root._bokeh_failed_load = false;\n  }\n\n  var NB_LOAD_WARNING = {'data': {'text/html':\n     \"<div style='background-color: #fdd'>\\n\"+\n     \"<p>\\n\"+\n     \"BokehJS does not appear to have successfully loaded. If loading BokehJS from CDN, this \\n\"+\n     \"may be due to a slow or bad network connection. Possible fixes:\\n\"+\n     \"</p>\\n\"+\n     \"<ul>\\n\"+\n     \"<li>re-rerun `output_notebook()` to attempt to load from CDN again, or</li>\\n\"+\n     \"<li>use INLINE resources instead, as so:</li>\\n\"+\n     \"</ul>\\n\"+\n     \"<code>\\n\"+\n     \"from bokeh.resources import INLINE\\n\"+\n     \"output_notebook(resources=INLINE)\\n\"+\n     \"</code>\\n\"+\n     \"</div>\"}};\n\n  function display_loaded() {\n    var el = document.getElementById(\"476706f8-bac8-4fe4-a22c-8b820270fdaf\");\n    if (el != null) {\n      el.textContent = \"BokehJS is loading...\";\n    }\n    if (root.Bokeh !== undefined) {\n      if (el != null) {\n        el.textContent = \"BokehJS \" + root.Bokeh.version + \" successfully loaded.\";\n      }\n    } else if (Date.now() < root._bokeh_timeout) {\n      setTimeout(display_loaded, 100)\n    }\n  }\n\n\n  function run_callbacks() {\n    try {\n      root._bokeh_onload_callbacks.forEach(function(callback) { callback() });\n    }\n    finally {\n      delete root._bokeh_onload_callbacks\n    }\n    console.info(\"Bokeh: all callbacks have finished\");\n  }\n\n  function load_libs(js_urls, callback) {\n    root._bokeh_onload_callbacks.push(callback);\n    if (root._bokeh_is_loading > 0) {\n      console.log(\"Bokeh: BokehJS is being loaded, scheduling callback at\", now());\n      return null;\n    }\n    if (js_urls == null || js_urls.length === 0) {\n      run_callbacks();\n      return null;\n    }\n    console.log(\"Bokeh: BokehJS not loaded, scheduling load and callback at\", now());\n    root._bokeh_is_loading = js_urls.length;\n    for (var i = 0; i < js_urls.length; i++) {\n      var url = js_urls[i];\n      var s = document.createElement('script');\n      s.src = url;\n      s.async = false;\n      s.onreadystatechange = s.onload = function() {\n        root._bokeh_is_loading--;\n        if (root._bokeh_is_loading === 0) {\n          console.log(\"Bokeh: all BokehJS libraries loaded\");\n          run_callbacks()\n        }\n      };\n      s.onerror = function() {\n        console.warn(\"failed to load library \" + url);\n      };\n      console.log(\"Bokeh: injecting script tag for BokehJS library: \", url);\n      document.getElementsByTagName(\"head\")[0].appendChild(s);\n    }\n  };var element = document.getElementById(\"476706f8-bac8-4fe4-a22c-8b820270fdaf\");\n  if (element == null) {\n    console.log(\"Bokeh: ERROR: autoload.js configured with elementid '476706f8-bac8-4fe4-a22c-8b820270fdaf' but no matching script tag was found. \")\n    return false;\n  }\n\n  var js_urls = [\"https://cdn.pydata.org/bokeh/release/bokeh-0.12.13.min.js\", \"https://cdn.pydata.org/bokeh/release/bokeh-widgets-0.12.13.min.js\", \"https://cdn.pydata.org/bokeh/release/bokeh-tables-0.12.13.min.js\", \"https://cdn.pydata.org/bokeh/release/bokeh-gl-0.12.13.min.js\"];\n\n  var inline_js = [\n    function(Bokeh) {\n      Bokeh.set_log_level(\"info\");\n    },\n    \n    function(Bokeh) {\n      \n    },\n    function(Bokeh) {\n      console.log(\"Bokeh: injecting CSS: https://cdn.pydata.org/bokeh/release/bokeh-0.12.13.min.css\");\n      Bokeh.embed.inject_css(\"https://cdn.pydata.org/bokeh/release/bokeh-0.12.13.min.css\");\n      console.log(\"Bokeh: injecting CSS: https://cdn.pydata.org/bokeh/release/bokeh-widgets-0.12.13.min.css\");\n      Bokeh.embed.inject_css(\"https://cdn.pydata.org/bokeh/release/bokeh-widgets-0.12.13.min.css\");\n      console.log(\"Bokeh: injecting CSS: https://cdn.pydata.org/bokeh/release/bokeh-tables-0.12.13.min.css\");\n      Bokeh.embed.inject_css(\"https://cdn.pydata.org/bokeh/release/bokeh-tables-0.12.13.min.css\");\n    }\n  ];\n\n  function run_inline_js() {\n    \n    if ((root.Bokeh !== undefined) || (force === true)) {\n      for (var i = 0; i < inline_js.length; i++) {\n        inline_js[i].call(root, root.Bokeh);\n      }if (force === true) {\n        display_loaded();\n      }} else if (Date.now() < root._bokeh_timeout) {\n      setTimeout(run_inline_js, 100);\n    } else if (!root._bokeh_failed_load) {\n      console.log(\"Bokeh: BokehJS failed to load within specified timeout.\");\n      root._bokeh_failed_load = true;\n    } else if (force !== true) {\n      var cell = $(document.getElementById(\"476706f8-bac8-4fe4-a22c-8b820270fdaf\")).parents('.cell').data().cell;\n      cell.output_area.append_execute_result(NB_LOAD_WARNING)\n    }\n\n  }\n\n  if (root._bokeh_is_loading === 0) {\n    console.log(\"Bokeh: BokehJS loaded, going straight to plotting\");\n    run_inline_js();\n  } else {\n    load_libs(js_urls, function() {\n      console.log(\"Bokeh: BokehJS plotting callback run at\", now());\n      run_inline_js();\n    });\n  }\n}(window));"
     },
     "metadata": {},
     "output_type": "display_data"
    }
   ],
   "source": [
    "import bokeh.plotting as bk\n",
    "from bokeh.io import push_notebook\n",
    "from bokeh.layouts import gridplot\n",
    "from bokeh.models import ColumnDataSource\n",
    "bk.output_notebook()"
   ]
  },
  {
   "cell_type": "markdown",
   "metadata": {},
   "source": [
    "## 1 Keras"
   ]
  },
  {
   "cell_type": "markdown",
   "metadata": {
    "collapsed": true
   },
   "source": [
    "Keras is designed to be modular, minimalist and easily extensible. Francois Chollet, the author of Keras, says:\n",
    "\n",
    ">The library was developed with a focus on enabling fast experimentation. Being able to go from\n",
    "idea to result with the least possible delay is key to doing good research.\n",
    "\n",
    "Keras defines high-level Neural Network modules on top of either TensorFlow or Theano (nowadays has gained less attention thatn TensorFlow). It is possible to compose layer in a modular fashion and even extend the framework with  user defined models."
   ]
  },
  {
   "cell_type": "markdown",
   "metadata": {},
   "source": [
    "### 1.1 Installation"
   ]
  },
  {
   "cell_type": "markdown",
   "metadata": {},
   "source": [
    "Installation is easy. By now you should have the environment *addfor_tutorials* with TensorFlow installed. If either case is not true please refer to the *README.md* to install anaconda and notebook *ml25v04_tensorflow_basic_concepts.ipynb* to install TensorFlow.\n",
    "\n",
    "Activate your addfor_tutorials environment and from the command-line type:\n",
    "```\n",
    "pip install keras\n",
    "```\n",
    "Now you can import Keras and check that it is using TensorFlow as its backend."
   ]
  },
  {
   "cell_type": "code",
   "execution_count": 4,
   "metadata": {},
   "outputs": [
    {
     "name": "stderr",
     "output_type": "stream",
     "text": [
      "Using TensorFlow backend.\n"
     ]
    }
   ],
   "source": [
    "import keras"
   ]
  },
  {
   "cell_type": "code",
   "execution_count": 5,
   "metadata": {},
   "outputs": [
    {
     "name": "stdout",
     "output_type": "stream",
     "text": [
      "2.1.3\n"
     ]
    }
   ],
   "source": [
    "print(keras.__version__)"
   ]
  },
  {
   "cell_type": "markdown",
   "metadata": {
    "collapsed": true
   },
   "source": [
    "### 1.2 Keras architecture"
   ]
  },
  {
   "cell_type": "markdown",
   "metadata": {},
   "source": [
    "### 1.2.1 Introduction"
   ]
  },
  {
   "cell_type": "markdown",
   "metadata": {},
   "source": [
    "Keras uses the backend to perform efficient symbolic computation on Tensors. There are two ways to compose models in Keras: \n",
    " - **Sequential** composition\n",
    " - **Functional** composition\n",
    "\n",
    "The sequential composer build a lists of modules that constituites the architecture of the network, for example a simple feed forward neural network for MNIST can be written as:\n",
    "```python\n",
    "model = Sequential()\n",
    "model.add(Dense(32, input_shape=(784,)))\n",
    "model.add(Activation('relu'))\n",
    "model.add(Dense(10))\n",
    "model.add(Activation('softmax'))\n",
    "```\n",
    "\n",
    "The functional API treat each layer as a function and allows to compose functions into a complex neural network. For example the network defined before can be expressed as somethign like: $$y=relu(f(\\sigma(g(x)))$$\n",
    "The same network can be defined with functional API with:\n",
    "```python\n",
    "inputs = Input(shape=(784,))\n",
    "x = Dense(32)(inputs)\n",
    "x = Activation(\"relu\")(x)\n",
    "x = Dense(10)(x)\n",
    "predictions = Activation(\"softmax\")(x)\n",
    "model = Model(inputs=inputs, outputs=predictions)\n",
    "```\n",
    "Each layer is a function, and since a model is a composition of layers, a model is also a function and can be treated as another layer by calling it on appropriately shaped input tensor. \n",
    "\n",
    "Functional API can be used to define any kind of network, but there are some kind of networks that can be defined only using functional API. For example networks with multiple input and outputs or networks that use shared layers. As an example to define a multiple input-output network you can use:\n",
    "\n",
    "```python\n",
    "model = Model(inputs=[input1, input2], outputs=[output1, output2])\n",
    "```"
   ]
  },
  {
   "cell_type": "markdown",
   "metadata": {},
   "source": [
    "### 1.2.2 Layers Overview"
   ]
  },
  {
   "cell_type": "markdown",
   "metadata": {},
   "source": [
    "A *Dense model* is a fully connected neural network layer. \n",
    "\n",
    "```python\n",
    "keras.layers.Dense\n",
    "```\n",
    "\n",
    "*Convolutional layers* are principally:\n",
    "```python\n",
    "keras.layers.convolutional.Conv1D\n",
    "keras.layers.convolutional.Conv2D\n",
    "keras.layers.pooling.MaxPooling1D\n",
    "keras.layers.pooling.MaxPooling2D\n",
    "```\n",
    "\n",
    "*Regularization layers:*\n",
    "```python\n",
    "keras.layers.core.Dropout\n",
    "keras.layers.normalization.BatchNormalization\n",
    "```\n",
    "\n",
    "*Activation functions*: all principal activation functions are supported.\n",
    "\n",
    "*Losses*: cross entropy, mean squared error and all popular losses are supported.\n",
    "\n",
    "*Metrics*: a measure that tells how the model is performing.\n",
    "\n",
    "*Optimizers*: such as Adam, Adagrad, RMSProp and plain SGD are all supported in module `keras.optimizers`."
   ]
  },
  {
   "cell_type": "markdown",
   "metadata": {},
   "source": [
    "### 1.2.3 Training"
   ]
  },
  {
   "cell_type": "markdown",
   "metadata": {
    "collapsed": true
   },
   "source": [
    "Beofre training a model, it is necessary to `compile` it. Compile takes three arguments: an optimizer, a loss and a metric.\n",
    "\n",
    "```python\n",
    "# For a multi-class classification problem\n",
    "model.compile(optimizer='rmsprop',\n",
    "              loss='categorical_crossentropy',\n",
    "              metrics=['accuracy'])\n",
    "```\n",
    "\n",
    "Once the model is compiled, training is performed by calling the fit method, for example:\n",
    "```python\n",
    "# Train the model, iterating on the data in batches of 32 samples\n",
    "model.fit(data, labels, epochs=10, batch_size=32)\n",
    "```"
   ]
  },
  {
   "cell_type": "markdown",
   "metadata": {
    "collapsed": true
   },
   "source": [
    "### 1.2.4 Additional operations"
   ]
  },
  {
   "cell_type": "markdown",
   "metadata": {},
   "source": [
    "In Keras is possible to save model architecture to yaml or json format by calling:\n",
    "\n",
    "```python\n",
    "# model saving\n",
    "json_string = model.to_json()\n",
    "yaml_string = model.to_yaml() \n",
    "# model reconstruction\n",
    "model = model_from_json(json_string)\n",
    "model = model_from_yaml(yaml_string)\n",
    "```\n",
    "\n",
    "Weights are saved in hdf5 format instead, by calling:\n",
    "```python\n",
    "model.save('my_model.h5')\n",
    "```\n",
    "and restoring with:\n",
    "```python\n",
    "model = load_model('my_model.h5')\n",
    "```\n",
    "\n",
    "One of the coolest things about Keras is the possiblity of adding callbacks during training. For example the model can decice when to stop based on a EarlyStopping condition or loss history can be saved (and later viewed with TensorBoard) at each iteration. Keras support model checkpointing in a similar way to TensorFlow."
   ]
  },
  {
   "cell_type": "markdown",
   "metadata": {},
   "source": [
    "## 2 Simple example"
   ]
  },
  {
   "cell_type": "code",
   "execution_count": 6,
   "metadata": {
    "collapsed": true
   },
   "outputs": [],
   "source": [
    "#from keras.datasets import cifar10\n",
    "#from keras.utils import np_utils\n",
    "from keras.models import Sequential\n",
    "from keras.layers.core import Dense, Dropout, Activation, Flatten\n",
    "from keras.layers.convolutional import Conv2D, MaxPooling2D\n",
    "from keras.optimizers import SGD, Adam, RMSprop\n",
    "from keras.callbacks import TensorBoard"
   ]
  },
  {
   "cell_type": "code",
   "execution_count": 7,
   "metadata": {
    "collapsed": true
   },
   "outputs": [],
   "source": [
    "# image format\n",
    "IMG_CHANNELS = 3\n",
    "IMG_ROWS = 32\n",
    "IMG_COLS = 32"
   ]
  },
  {
   "cell_type": "code",
   "execution_count": 8,
   "metadata": {},
   "outputs": [
    {
     "name": "stdout",
     "output_type": "stream",
     "text": [
      "Data has apparently already been downloaded and unpacked.\n"
     ]
    }
   ],
   "source": [
    "cifar10.data_path = \"example_data/CIFAR-10/\"\n",
    "cifar10.maybe_download_and_extract()"
   ]
  },
  {
   "cell_type": "code",
   "execution_count": 9,
   "metadata": {},
   "outputs": [
    {
     "name": "stdout",
     "output_type": "stream",
     "text": [
      "Loading data: example_data/CIFAR-10/cifar-10-batches-py/batches.meta\n",
      "Loading data: example_data/CIFAR-10/cifar-10-batches-py/data_batch_1\n",
      "Loading data: example_data/CIFAR-10/cifar-10-batches-py/data_batch_2\n",
      "Loading data: example_data/CIFAR-10/cifar-10-batches-py/data_batch_3\n",
      "Loading data: example_data/CIFAR-10/cifar-10-batches-py/data_batch_4\n",
      "Loading data: example_data/CIFAR-10/cifar-10-batches-py/data_batch_5\n",
      "Loading data: example_data/CIFAR-10/cifar-10-batches-py/test_batch\n"
     ]
    }
   ],
   "source": [
    "class_names = cifar10.load_class_names()\n",
    "images_train, cls_train, labels_train = cifar10.load_training_data()\n",
    "images_test, cls_test, labels_test = cifar10.load_test_data()"
   ]
  },
  {
   "cell_type": "code",
   "execution_count": 10,
   "metadata": {
    "collapsed": true
   },
   "outputs": [],
   "source": [
    "# constants\n",
    "BATCH_SIZE = 128\n",
    "NB_EPOCH = 6\n",
    "NB_CLASSES = 10\n",
    "VERBOSE = 0\n",
    "VALIDATION_SPLIT = 0.2"
   ]
  },
  {
   "cell_type": "code",
   "execution_count": 11,
   "metadata": {
    "collapsed": true
   },
   "outputs": [],
   "source": [
    "model = Sequential()\n",
    "model.add(Conv2D(32, (3, 3), padding='same', \n",
    "                 input_shape=(IMG_ROWS, IMG_COLS, IMG_CHANNELS)))\n",
    "model.add(Activation('relu'))\n",
    "model.add(MaxPooling2D(pool_size=(2, 2)))\n",
    "model.add(Conv2D(64, (3, 3), padding='same'))\n",
    "model.add(Activation('relu'))\n",
    "model.add(MaxPooling2D(pool_size=(2, 2)))\n",
    "model.add(Flatten())\n",
    "model.add(Dense(512))\n",
    "model.add(Activation('relu'))\n",
    "model.add(Dropout(0.7))\n",
    "model.add(Dense(NB_CLASSES))\n",
    "model.add(Activation('softmax'))"
   ]
  },
  {
   "cell_type": "code",
   "execution_count": 12,
   "metadata": {},
   "outputs": [
    {
     "name": "stdout",
     "output_type": "stream",
     "text": [
      "_________________________________________________________________\n",
      "Layer (type)                 Output Shape              Param #   \n",
      "=================================================================\n",
      "conv2d_1 (Conv2D)            (None, 32, 32, 32)        896       \n",
      "_________________________________________________________________\n",
      "activation_1 (Activation)    (None, 32, 32, 32)        0         \n",
      "_________________________________________________________________\n",
      "max_pooling2d_1 (MaxPooling2 (None, 16, 16, 32)        0         \n",
      "_________________________________________________________________\n",
      "conv2d_2 (Conv2D)            (None, 16, 16, 64)        18496     \n",
      "_________________________________________________________________\n",
      "activation_2 (Activation)    (None, 16, 16, 64)        0         \n",
      "_________________________________________________________________\n",
      "max_pooling2d_2 (MaxPooling2 (None, 8, 8, 64)          0         \n",
      "_________________________________________________________________\n",
      "flatten_1 (Flatten)          (None, 4096)              0         \n",
      "_________________________________________________________________\n",
      "dense_1 (Dense)              (None, 512)               2097664   \n",
      "_________________________________________________________________\n",
      "activation_3 (Activation)    (None, 512)               0         \n",
      "_________________________________________________________________\n",
      "dropout_1 (Dropout)          (None, 512)               0         \n",
      "_________________________________________________________________\n",
      "dense_2 (Dense)              (None, 10)                5130      \n",
      "_________________________________________________________________\n",
      "activation_4 (Activation)    (None, 10)                0         \n",
      "=================================================================\n",
      "Total params: 2,122,186\n",
      "Trainable params: 2,122,186\n",
      "Non-trainable params: 0\n",
      "_________________________________________________________________\n"
     ]
    }
   ],
   "source": [
    "model.summary()"
   ]
  },
  {
   "cell_type": "code",
   "execution_count": 13,
   "metadata": {
    "collapsed": true
   },
   "outputs": [],
   "source": [
    "model.compile(loss='categorical_crossentropy', optimizer=RMSprop(), metrics=['accuracy'])"
   ]
  },
  {
   "cell_type": "code",
   "execution_count": 14,
   "metadata": {
    "collapsed": true
   },
   "outputs": [],
   "source": [
    "class LossHistory(keras.callbacks.Callback):\n",
    "    def on_train_begin(self, logs={}):\n",
    "        self.losses = []\n",
    "        self.accuracy = []\n",
    "\n",
    "    def on_batch_end(self, batch, logs={}):\n",
    "        self.losses.append(logs.get('loss'))\n",
    "        self.accuracy.append(logs.get('acc'))"
   ]
  },
  {
   "cell_type": "code",
   "execution_count": 15,
   "metadata": {
    "collapsed": true
   },
   "outputs": [],
   "source": [
    "callbacks = []\n",
    "callbacks.append(TensorBoard(log_dir='temp/keras/logs'))"
   ]
  },
  {
   "cell_type": "code",
   "execution_count": 16,
   "metadata": {
    "collapsed": true
   },
   "outputs": [],
   "source": [
    "history_new = LossHistory()\n",
    "callbacks.append(history_new)"
   ]
  },
  {
   "cell_type": "code",
   "execution_count": 17,
   "metadata": {},
   "outputs": [],
   "source": [
    "hist = model.fit(images_train, labels_train, batch_size=BATCH_SIZE,\n",
    "                 epochs=NB_EPOCH, validation_split=VALIDATION_SPLIT, \n",
    "                 verbose=VERBOSE, callbacks=callbacks)"
   ]
  },
  {
   "cell_type": "code",
   "execution_count": 18,
   "metadata": {},
   "outputs": [
    {
     "name": "stdout",
     "output_type": "stream",
     "text": [
      "Test accuracy: 0.6635\n"
     ]
    }
   ],
   "source": [
    "score = model.evaluate(images_test, labels_test, batch_size=BATCH_SIZE, verbose=VERBOSE)\n",
    "print('Test accuracy: {}'.format(score[1])) "
   ]
  },
  {
   "cell_type": "code",
   "execution_count": 19,
   "metadata": {},
   "outputs": [
    {
     "name": "stdout",
     "output_type": "stream",
     "text": [
      "{'val_loss': [1.2854390144348145, 1.1528461042404174, 1.0491638912200927, 0.9538292743682861, 1.049972660446167, 0.9514888729095459], 'val_acc': [0.5575, 0.5949, 0.6337, 0.6694, 0.6411, 0.6674], 'loss': [1.6673770608901977, 1.2886534355163575, 1.1307520782470704, 1.0347720762252808, 0.9603295879364013, 0.9029679985046387], 'acc': [0.40125, 0.544675, 0.60585, 0.636675, 0.665725, 0.689625]}\n"
     ]
    }
   ],
   "source": [
    "print(hist.history)"
   ]
  },
  {
   "cell_type": "code",
   "execution_count": 20,
   "metadata": {},
   "outputs": [
    {
     "data": {
      "text/html": [
       "\n",
       "<div class=\"bk-root\">\n",
       "    <div class=\"bk-plotdiv\" id=\"600bf22a-e72b-4a18-bf8d-2282cf7151f3\"></div>\n",
       "</div>"
      ]
     },
     "metadata": {},
     "output_type": "display_data"
    },
    {
     "data": {
      "application/javascript": [
       "(function(root) {\n",
       "  function embed_document(root) {\n",
       "    \n",
       "  var docs_json = {\"c0512fa4-a59e-42ad-9d0a-f9d653083167\":{\"roots\":{\"references\":[{\"attributes\":{},\"id\":\"0aa76383-047a-41a1-a7fe-3ce40d2c60f8\",\"type\":\"LinearScale\"},{\"attributes\":{\"formatter\":{\"id\":\"caa61bd3-8def-47ab-8009-bfb91599031f\",\"type\":\"BasicTickFormatter\"},\"plot\":{\"id\":\"97852763-a4ae-4ef2-8fdb-b9884d675ed0\",\"subtype\":\"Figure\",\"type\":\"Plot\"},\"ticker\":{\"id\":\"759320c1-0f09-48b2-b861-f4adb51101e5\",\"type\":\"BasicTicker\"}},\"id\":\"ce4934f4-394b-4193-a81a-daa64d463e9e\",\"type\":\"LinearAxis\"},{\"attributes\":{\"line_color\":\"red\",\"x\":{\"field\":\"x\"},\"y\":{\"field\":\"y\"}},\"id\":\"b5e52b45-8816-49f8-a9c9-eb537e99e4f4\",\"type\":\"Line\"},{\"attributes\":{\"formatter\":{\"id\":\"65175d00-8ef6-4e86-83c2-38900d36e7c1\",\"type\":\"BasicTickFormatter\"},\"plot\":{\"id\":\"97852763-a4ae-4ef2-8fdb-b9884d675ed0\",\"subtype\":\"Figure\",\"type\":\"Plot\"},\"ticker\":{\"id\":\"a28e3e23-c5b9-4973-ae5c-a279b293a576\",\"type\":\"BasicTicker\"}},\"id\":\"b9bd5d73-3951-4014-a831-28b931057651\",\"type\":\"LinearAxis\"},{\"attributes\":{\"line_alpha\":0.1,\"line_color\":\"#1f77b4\",\"x\":{\"field\":\"x\"},\"y\":{\"field\":\"y\"}},\"id\":\"7ce0ad0d-4e1d-4998-8fa2-03b148293f28\",\"type\":\"Line\"},{\"attributes\":{\"plot\":{\"id\":\"97852763-a4ae-4ef2-8fdb-b9884d675ed0\",\"subtype\":\"Figure\",\"type\":\"Plot\"},\"ticker\":{\"id\":\"a28e3e23-c5b9-4973-ae5c-a279b293a576\",\"type\":\"BasicTicker\"}},\"id\":\"69bd183d-ae0e-4eca-9560-c250f40f6d37\",\"type\":\"Grid\"},{\"attributes\":{\"data_source\":{\"id\":\"20e07adb-c37f-4647-83c7-7652e6a09a4c\",\"type\":\"ColumnDataSource\"},\"glyph\":{\"id\":\"b5e52b45-8816-49f8-a9c9-eb537e99e4f4\",\"type\":\"Line\"},\"hover_glyph\":null,\"muted_glyph\":null,\"nonselection_glyph\":{\"id\":\"7ce0ad0d-4e1d-4998-8fa2-03b148293f28\",\"type\":\"Line\"},\"selection_glyph\":null,\"view\":{\"id\":\"6b331412-497f-416f-b3c6-765d62d43b6b\",\"type\":\"CDSView\"}},\"id\":\"a105678b-5eb7-4b1b-92ea-7173f2b5a345\",\"type\":\"GlyphRenderer\"},{\"attributes\":{},\"id\":\"759320c1-0f09-48b2-b861-f4adb51101e5\",\"type\":\"BasicTicker\"},{\"attributes\":{\"source\":{\"id\":\"20e07adb-c37f-4647-83c7-7652e6a09a4c\",\"type\":\"ColumnDataSource\"}},\"id\":\"6b331412-497f-416f-b3c6-765d62d43b6b\",\"type\":\"CDSView\"},{\"attributes\":{\"dimension\":1,\"plot\":{\"id\":\"97852763-a4ae-4ef2-8fdb-b9884d675ed0\",\"subtype\":\"Figure\",\"type\":\"Plot\"},\"ticker\":{\"id\":\"759320c1-0f09-48b2-b861-f4adb51101e5\",\"type\":\"BasicTicker\"}},\"id\":\"3fe230a1-cb59-471b-8133-d59d340f20ab\",\"type\":\"Grid\"},{\"attributes\":{\"data_source\":{\"id\":\"d74b2b70-c970-4858-9f8a-8d6618f2be60\",\"type\":\"ColumnDataSource\"},\"glyph\":{\"id\":\"97cfa28a-5bb9-472e-a7f6-ac7394d1937e\",\"type\":\"Line\"},\"hover_glyph\":null,\"muted_glyph\":null,\"nonselection_glyph\":{\"id\":\"fc1318ef-1e61-40e2-89f9-59a8e7335c48\",\"type\":\"Line\"},\"selection_glyph\":null,\"view\":{\"id\":\"3715450a-c1ed-4766-9d29-cdfc78ec6bdb\",\"type\":\"CDSView\"}},\"id\":\"008c7cd8-3417-42d7-b925-f41a0a8f1520\",\"type\":\"GlyphRenderer\"},{\"attributes\":{\"callback\":null,\"column_names\":[\"x\",\"y\"],\"data\":{\"x\":[0,1,2,3,4,5,6,7,8,9,10,11,12,13,14,15,16,17,18,19,20,21,22,23,24,25,26,27,28,29,30,31,32,33,34,35,36,37,38,39,40,41,42,43,44,45,46,47,48,49,50,51,52,53,54,55,56,57,58,59,60,61,62,63,64,65,66,67,68,69,70,71,72,73,74,75,76,77,78,79,80,81,82,83,84,85,86,87,88,89,90,91,92,93,94,95,96,97,98,99,100,101,102,103,104,105,106,107,108,109,110,111,112,113,114,115,116,117,118,119,120,121,122,123,124,125,126,127,128,129,130,131,132,133,134,135,136,137,138,139,140,141,142,143,144,145,146,147,148,149,150,151,152,153,154,155,156,157,158,159,160,161,162,163,164,165,166,167,168,169,170,171,172,173,174,175,176,177,178,179,180,181,182,183,184,185,186,187,188,189,190,191,192,193,194,195,196,197,198,199,200,201,202,203,204,205,206,207,208,209,210,211,212,213,214,215,216,217,218,219,220,221,222,223,224,225,226,227,228,229,230,231,232,233,234,235,236,237,238,239,240,241,242,243,244,245,246,247,248,249,250,251,252,253,254,255,256,257,258,259,260,261,262,263,264,265,266,267,268,269,270,271,272,273,274,275,276,277,278,279,280,281,282,283,284,285,286,287,288,289,290,291,292,293,294,295,296,297,298,299,300,301,302,303,304,305,306,307,308,309,310,311,312,313,314,315,316,317,318,319,320,321,322,323,324,325,326,327,328,329,330,331,332,333,334,335,336,337,338,339,340,341,342,343,344,345,346,347,348,349,350,351,352,353,354,355,356,357,358,359,360,361,362,363,364,365,366,367,368,369,370,371,372,373,374,375,376,377,378,379,380,381,382,383,384,385,386,387,388,389,390,391,392,393,394,395,396,397,398,399,400,401,402,403,404,405,406,407,408,409,410,411,412,413,414,415,416,417,418,419,420,421,422,423,424,425,426,427,428,429,430,431,432,433,434,435,436,437,438,439,440,441,442,443,444,445,446,447,448,449,450,451,452,453,454,455,456,457,458,459,460,461,462,463,464,465,466,467,468,469,470,471,472,473,474,475,476,477,478,479,480,481,482,483,484,485,486,487,488,489,490,491,492,493,494,495,496,497,498,499,500,501,502,503,504,505,506,507,508,509,510,511,512,513,514,515,516,517,518,519,520,521,522,523,524,525,526,527,528,529,530,531,532,533,534,535,536,537,538,539,540,541,542,543,544,545,546,547,548,549,550,551,552,553,554,555,556,557,558,559,560,561,562,563,564,565,566,567,568,569,570,571,572,573,574,575,576,577,578,579,580,581,582,583,584,585,586,587,588,589,590,591,592,593,594,595,596,597,598,599,600,601,602,603,604,605,606,607,608,609,610,611,612,613,614,615,616,617,618,619,620,621,622,623,624,625,626,627,628,629,630,631,632,633,634,635,636,637,638,639,640,641,642,643,644,645,646,647,648,649,650,651,652,653,654,655,656,657,658,659,660,661,662,663,664,665,666,667,668,669,670,671,672,673,674,675,676,677,678,679,680,681,682,683,684,685,686,687,688,689,690,691,692,693,694,695,696,697,698,699,700,701,702,703,704,705,706,707,708,709,710,711,712,713,714,715,716,717,718,719,720,721,722,723,724,725,726,727,728,729,730,731,732,733,734,735,736,737,738,739,740,741,742,743,744,745,746,747,748,749,750,751,752,753,754,755,756,757,758,759,760,761,762,763,764,765,766,767,768,769,770,771,772,773,774,775,776,777,778,779,780,781,782,783,784,785,786,787,788,789,790,791,792,793,794,795,796,797,798,799,800,801,802,803,804,805,806,807,808,809,810,811,812,813,814,815,816,817,818,819,820,821,822,823,824,825,826,827,828,829,830,831,832,833,834,835,836,837,838,839,840,841,842,843,844,845,846,847,848,849,850,851,852,853,854,855,856,857,858,859,860,861,862,863,864,865,866,867,868,869,870,871,872,873,874,875,876,877,878,879,880,881,882,883,884,885,886,887,888,889,890,891,892,893,894,895,896,897,898,899,900,901,902,903,904,905,906,907,908,909,910,911,912,913,914,915,916,917,918,919,920,921,922,923,924,925,926,927,928,929,930,931,932,933,934,935,936,937,938,939,940,941,942,943,944,945,946,947,948,949,950,951,952,953,954,955,956,957,958,959,960,961,962,963,964,965,966,967,968,969,970,971,972,973,974,975,976,977,978,979,980,981,982,983,984,985,986,987,988,989,990,991,992,993,994,995,996,997,998,999,1000,1001,1002,1003,1004,1005,1006,1007,1008,1009,1010,1011,1012,1013,1014,1015,1016,1017,1018,1019,1020,1021,1022,1023,1024,1025,1026,1027,1028,1029,1030,1031,1032,1033,1034,1035,1036,1037,1038,1039,1040,1041,1042,1043,1044,1045,1046,1047,1048,1049,1050,1051,1052,1053,1054,1055,1056,1057,1058,1059,1060,1061,1062,1063,1064,1065,1066,1067,1068,1069,1070,1071,1072,1073,1074,1075,1076,1077,1078,1079,1080,1081,1082,1083,1084,1085,1086,1087,1088,1089,1090,1091,1092,1093,1094,1095,1096,1097,1098,1099,1100,1101,1102,1103,1104,1105,1106,1107,1108,1109,1110,1111,1112,1113,1114,1115,1116,1117,1118,1119,1120,1121,1122,1123,1124,1125,1126,1127,1128,1129,1130,1131,1132,1133,1134,1135,1136,1137,1138,1139,1140,1141,1142,1143,1144,1145,1146,1147,1148,1149,1150,1151,1152,1153,1154,1155,1156,1157,1158,1159,1160,1161,1162,1163,1164,1165,1166,1167,1168,1169,1170,1171,1172,1173,1174,1175,1176,1177,1178,1179,1180,1181,1182,1183,1184,1185,1186,1187,1188,1189,1190,1191,1192,1193,1194,1195,1196,1197,1198,1199,1200,1201,1202,1203,1204,1205,1206,1207,1208,1209,1210,1211,1212,1213,1214,1215,1216,1217,1218,1219,1220,1221,1222,1223,1224,1225,1226,1227,1228,1229,1230,1231,1232,1233,1234,1235,1236,1237,1238,1239,1240,1241,1242,1243,1244,1245,1246,1247,1248,1249,1250,1251,1252,1253,1254,1255,1256,1257,1258,1259,1260,1261,1262,1263,1264,1265,1266,1267,1268,1269,1270,1271,1272,1273,1274,1275,1276,1277,1278,1279,1280,1281,1282,1283,1284,1285,1286,1287,1288,1289,1290,1291,1292,1293,1294,1295,1296,1297,1298,1299,1300,1301,1302,1303,1304,1305,1306,1307,1308,1309,1310,1311,1312,1313,1314,1315,1316,1317,1318,1319,1320,1321,1322,1323,1324,1325,1326,1327,1328,1329,1330,1331,1332,1333,1334,1335,1336,1337,1338,1339,1340,1341,1342,1343,1344,1345,1346,1347,1348,1349,1350,1351,1352,1353,1354,1355,1356,1357,1358,1359,1360,1361,1362,1363,1364,1365,1366,1367,1368,1369,1370,1371,1372,1373,1374,1375,1376,1377,1378,1379,1380,1381,1382,1383,1384,1385,1386,1387,1388,1389,1390,1391,1392,1393,1394,1395,1396,1397,1398,1399,1400,1401,1402,1403,1404,1405,1406,1407,1408,1409,1410,1411,1412,1413,1414,1415,1416,1417,1418,1419,1420,1421,1422,1423,1424,1425,1426,1427,1428,1429,1430,1431,1432,1433,1434,1435,1436,1437,1438,1439,1440,1441,1442,1443,1444,1445,1446,1447,1448,1449,1450,1451,1452,1453,1454,1455,1456,1457,1458,1459,1460,1461,1462,1463,1464,1465,1466,1467,1468,1469,1470,1471,1472,1473,1474,1475,1476,1477,1478,1479,1480,1481,1482,1483,1484,1485,1486,1487,1488,1489,1490,1491,1492,1493,1494,1495,1496,1497,1498,1499,1500,1501,1502,1503,1504,1505,1506,1507,1508,1509,1510,1511,1512,1513,1514,1515,1516,1517,1518,1519,1520,1521,1522,1523,1524,1525,1526,1527,1528,1529,1530,1531,1532,1533,1534,1535,1536,1537,1538,1539,1540,1541,1542,1543,1544,1545,1546,1547,1548,1549,1550,1551,1552,1553,1554,1555,1556,1557,1558,1559,1560,1561,1562,1563,1564,1565,1566,1567,1568,1569,1570,1571,1572,1573,1574,1575,1576,1577,1578,1579,1580,1581,1582,1583,1584,1585,1586,1587,1588,1589,1590,1591,1592,1593,1594,1595,1596,1597,1598,1599,1600,1601,1602,1603,1604,1605,1606,1607,1608,1609,1610,1611,1612,1613,1614,1615,1616,1617,1618,1619,1620,1621,1622,1623,1624,1625,1626,1627,1628,1629,1630,1631,1632,1633,1634,1635,1636,1637,1638,1639,1640,1641,1642,1643,1644,1645,1646,1647,1648,1649,1650,1651,1652,1653,1654,1655,1656,1657,1658,1659,1660,1661,1662,1663,1664,1665,1666,1667,1668,1669,1670,1671,1672,1673,1674,1675,1676,1677,1678,1679,1680,1681,1682,1683,1684,1685,1686,1687,1688,1689,1690,1691,1692,1693,1694,1695,1696,1697,1698,1699,1700,1701,1702,1703,1704,1705,1706,1707,1708,1709,1710,1711,1712,1713,1714,1715,1716,1717,1718,1719,1720,1721,1722,1723,1724,1725,1726,1727,1728,1729,1730,1731,1732,1733,1734,1735,1736,1737,1738,1739,1740,1741,1742,1743,1744,1745,1746,1747,1748,1749,1750,1751,1752,1753,1754,1755,1756,1757,1758,1759,1760,1761,1762,1763,1764,1765,1766,1767,1768,1769,1770,1771,1772,1773,1774,1775,1776,1777,1778,1779,1780,1781,1782,1783,1784,1785,1786,1787,1788,1789,1790,1791,1792,1793,1794,1795,1796,1797,1798,1799,1800,1801,1802,1803,1804,1805,1806,1807,1808,1809,1810,1811,1812,1813,1814,1815,1816,1817,1818,1819,1820,1821,1822,1823,1824,1825,1826,1827,1828,1829,1830,1831,1832,1833,1834,1835,1836,1837,1838,1839,1840,1841,1842,1843,1844,1845,1846,1847,1848,1849,1850,1851,1852,1853,1854,1855,1856,1857,1858,1859,1860,1861,1862,1863,1864,1865,1866,1867,1868,1869,1870,1871,1872,1873,1874,1875,1876,1877],\"y\":{\"__ndarray__\":\"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\",\"dtype\":\"float32\",\"shape\":[1878]}}},\"id\":\"20e07adb-c37f-4647-83c7-7652e6a09a4c\",\"type\":\"ColumnDataSource\"},{\"attributes\":{\"below\":[{\"id\":\"b9bd5d73-3951-4014-a831-28b931057651\",\"type\":\"LinearAxis\"}],\"left\":[{\"id\":\"ce4934f4-394b-4193-a81a-daa64d463e9e\",\"type\":\"LinearAxis\"}],\"plot_height\":300,\"plot_width\":500,\"renderers\":[{\"id\":\"b9bd5d73-3951-4014-a831-28b931057651\",\"type\":\"LinearAxis\"},{\"id\":\"69bd183d-ae0e-4eca-9560-c250f40f6d37\",\"type\":\"Grid\"},{\"id\":\"ce4934f4-394b-4193-a81a-daa64d463e9e\",\"type\":\"LinearAxis\"},{\"id\":\"3fe230a1-cb59-471b-8133-d59d340f20ab\",\"type\":\"Grid\"},{\"id\":\"8fea99a2-50b2-4777-9299-4d70baaf4734\",\"type\":\"BoxAnnotation\"},{\"id\":\"008c7cd8-3417-42d7-b925-f41a0a8f1520\",\"type\":\"GlyphRenderer\"},{\"id\":\"a105678b-5eb7-4b1b-92ea-7173f2b5a345\",\"type\":\"GlyphRenderer\"}],\"title\":null,\"toolbar\":{\"id\":\"801c3693-a760-478c-98ee-8112111fce75\",\"type\":\"Toolbar\"},\"x_range\":{\"id\":\"b29fc981-aa97-4ec5-9ec5-92953139ca9d\",\"type\":\"DataRange1d\"},\"x_scale\":{\"id\":\"15c73ef0-858a-45a7-96c4-123b386ea2d6\",\"type\":\"LinearScale\"},\"y_range\":{\"id\":\"40468420-51e8-4740-ae4d-33ef3395f56e\",\"type\":\"DataRange1d\"},\"y_scale\":{\"id\":\"0aa76383-047a-41a1-a7fe-3ce40d2c60f8\",\"type\":\"LinearScale\"}},\"id\":\"97852763-a4ae-4ef2-8fdb-b9884d675ed0\",\"subtype\":\"Figure\",\"type\":\"Plot\"},{\"attributes\":{\"bottom_units\":\"screen\",\"fill_alpha\":{\"value\":0.5},\"fill_color\":{\"value\":\"lightgrey\"},\"left_units\":\"screen\",\"level\":\"overlay\",\"line_alpha\":{\"value\":1.0},\"line_color\":{\"value\":\"black\"},\"line_dash\":[4,4],\"line_width\":{\"value\":2},\"plot\":null,\"render_mode\":\"css\",\"right_units\":\"screen\",\"top_units\":\"screen\"},\"id\":\"8fea99a2-50b2-4777-9299-4d70baaf4734\",\"type\":\"BoxAnnotation\"},{\"attributes\":{\"source\":{\"id\":\"d74b2b70-c970-4858-9f8a-8d6618f2be60\",\"type\":\"ColumnDataSource\"}},\"id\":\"3715450a-c1ed-4766-9d29-cdfc78ec6bdb\",\"type\":\"CDSView\"},{\"attributes\":{\"line_color\":\"#1f77b4\",\"x\":{\"field\":\"x\"},\"y\":{\"field\":\"y\"}},\"id\":\"97cfa28a-5bb9-472e-a7f6-ac7394d1937e\",\"type\":\"Line\"},{\"attributes\":{},\"id\":\"07016b7f-0614-45ff-bc51-868afa296d36\",\"type\":\"PanTool\"},{\"attributes\":{\"callback\":null,\"column_names\":[\"x\",\"y\"],\"data\":{\"x\":[0,1,2,3,4,5,6,7,8,9,10,11,12,13,14,15,16,17,18,19,20,21,22,23,24,25,26,27,28,29,30,31,32,33,34,35,36,37,38,39,40,41,42,43,44,45,46,47,48,49,50,51,52,53,54,55,56,57,58,59,60,61,62,63,64,65,66,67,68,69,70,71,72,73,74,75,76,77,78,79,80,81,82,83,84,85,86,87,88,89,90,91,92,93,94,95,96,97,98,99,100,101,102,103,104,105,106,107,108,109,110,111,112,113,114,115,116,117,118,119,120,121,122,123,124,125,126,127,128,129,130,131,132,133,134,135,136,137,138,139,140,141,142,143,144,145,146,147,148,149,150,151,152,153,154,155,156,157,158,159,160,161,162,163,164,165,166,167,168,169,170,171,172,173,174,175,176,177,178,179,180,181,182,183,184,185,186,187,188,189,190,191,192,193,194,195,196,197,198,199,200,201,202,203,204,205,206,207,208,209,210,211,212,213,214,215,216,217,218,219,220,221,222,223,224,225,226,227,228,229,230,231,232,233,234,235,236,237,238,239,240,241,242,243,244,245,246,247,248,249,250,251,252,253,254,255,256,257,258,259,260,261,262,263,264,265,266,267,268,269,270,271,272,273,274,275,276,277,278,279,280,281,282,283,284,285,286,287,288,289,290,291,292,293,294,295,296,297,298,299,300,301,302,303,304,305,306,307,308,309,310,311,312,313,314,315,316,317,318,319,320,321,322,323,324,325,326,327,328,329,330,331,332,333,334,335,336,337,338,339,340,341,342,343,344,345,346,347,348,349,350,351,352,353,354,355,356,357,358,359,360,361,362,363,364,365,366,367,368,369,370,371,372,373,374,375,376,377,378,379,380,381,382,383,384,385,386,387,388,389,390,391,392,393,394,395,396,397,398,399,400,401,402,403,404,405,406,407,408,409,410,411,412,413,414,415,416,417,418,419,420,421,422,423,424,425,426,427,428,429,430,431,432,433,434,435,436,437,438,439,440,441,442,443,444,445,446,447,448,449,450,451,452,453,454,455,456,457,458,459,460,461,462,463,464,465,466,467,468,469,470,471,472,473,474,475,476,477,478,479,480,481,482,483,484,485,486,487,488,489,490,491,492,493,494,495,496,497,498,499,500,501,502,503,504,505,506,507,508,509,510,511,512,513,514,515,516,517,518,519,520,521,522,523,524,525,526,527,528,529,530,531,532,533,534,535,536,537,538,539,540,541,542,543,544,545,546,547,548,549,550,551,552,553,554,555,556,557,558,559,560,561,562,563,564,565,566,567,568,569,570,571,572,573,574,575,576,577,578,579,580,581,582,583,584,585,586,587,588,589,590,591,592,593,594,595,596,597,598,599,600,601,602,603,604,605,606,607,608,609,610,611,612,613,614,615,616,617,618,619,620,621,622,623,624,625,626,627,628,629,630,631,632,633,634,635,636,637,638,639,640,641,642,643,644,645,646,647,648,649,650,651,652,653,654,655,656,657,658,659,660,661,662,663,664,665,666,667,668,669,670,671,672,673,674,675,676,677,678,679,680,681,682,683,684,685,686,687,688,689,690,691,692,693,694,695,696,697,698,699,700,701,702,703,704,705,706,707,708,709,710,711,712,713,714,715,716,717,718,719,720,721,722,723,724,725,726,727,728,729,730,731,732,733,734,735,736,737,738,739,740,741,742,743,744,745,746,747,748,749,750,751,752,753,754,755,756,757,758,759,760,761,762,763,764,765,766,767,768,769,770,771,772,773,774,775,776,777,778,779,780,781,782,783,784,785,786,787,788,789,790,791,792,793,794,795,796,797,798,799,800,801,802,803,804,805,806,807,808,809,810,811,812,813,814,815,816,817,818,819,820,821,822,823,824,825,826,827,828,829,830,831,832,833,834,835,836,837,838,839,840,841,842,843,844,845,846,847,848,849,850,851,852,853,854,855,856,857,858,859,860,861,862,863,864,865,866,867,868,869,870,871,872,873,874,875,876,877,878,879,880,881,882,883,884,885,886,887,888,889,890,891,892,893,894,895,896,897,898,899,900,901,902,903,904,905,906,907,908,909,910,911,912,913,914,915,916,917,918,919,920,921,922,923,924,925,926,927,928,929,930,931,932,933,934,935,936,937,938,939,940,941,942,943,944,945,946,947,948,949,950,951,952,953,954,955,956,957,958,959,960,961,962,963,964,965,966,967,968,969,970,971,972,973,974,975,976,977,978,979,980,981,982,983,984,985,986,987,988,989,990,991,992,993,994,995,996,997,998,999,1000,1001,1002,1003,1004,1005,1006,1007,1008,1009,1010,1011,1012,1013,1014,1015,1016,1017,1018,1019,1020,1021,1022,1023,1024,1025,1026,1027,1028,1029,1030,1031,1032,1033,1034,1035,1036,1037,1038,1039,1040,1041,1042,1043,1044,1045,1046,1047,1048,1049,1050,1051,1052,1053,1054,1055,1056,1057,1058,1059,1060,1061,1062,1063,1064,1065,1066,1067,1068,1069,1070,1071,1072,1073,1074,1075,1076,1077,1078,1079,1080,1081,1082,1083,1084,1085,1086,1087,1088,1089,1090,1091,1092,1093,1094,1095,1096,1097,1098,1099,1100,1101,1102,1103,1104,1105,1106,1107,1108,1109,1110,1111,1112,1113,1114,1115,1116,1117,1118,1119,1120,1121,1122,1123,1124,1125,1126,1127,1128,1129,1130,1131,1132,1133,1134,1135,1136,1137,1138,1139,1140,1141,1142,1143,1144,1145,1146,1147,1148,1149,1150,1151,1152,1153,1154,1155,1156,1157,1158,1159,1160,1161,1162,1163,1164,1165,1166,1167,1168,1169,1170,1171,1172,1173,1174,1175,1176,1177,1178,1179,1180,1181,1182,1183,1184,1185,1186,1187,1188,1189,1190,1191,1192,1193,1194,1195,1196,1197,1198,1199,1200,1201,1202,1203,1204,1205,1206,1207,1208,1209,1210,1211,1212,1213,1214,1215,1216,1217,1218,1219,1220,1221,1222,1223,1224,1225,1226,1227,1228,1229,1230,1231,1232,1233,1234,1235,1236,1237,1238,1239,1240,1241,1242,1243,1244,1245,1246,1247,1248,1249,1250,1251,1252,1253,1254,1255,1256,1257,1258,1259,1260,1261,1262,1263,1264,1265,1266,1267,1268,1269,1270,1271,1272,1273,1274,1275,1276,1277,1278,1279,1280,1281,1282,1283,1284,1285,1286,1287,1288,1289,1290,1291,1292,1293,1294,1295,1296,1297,1298,1299,1300,1301,1302,1303,1304,1305,1306,1307,1308,1309,1310,1311,1312,1313,1314,1315,1316,1317,1318,1319,1320,1321,1322,1323,1324,1325,1326,1327,1328,1329,1330,1331,1332,1333,1334,1335,1336,1337,1338,1339,1340,1341,1342,1343,1344,1345,1346,1347,1348,1349,1350,1351,1352,1353,1354,1355,1356,1357,1358,1359,1360,1361,1362,1363,1364,1365,1366,1367,1368,1369,1370,1371,1372,1373,1374,1375,1376,1377,1378,1379,1380,1381,1382,1383,1384,1385,1386,1387,1388,1389,1390,1391,1392,1393,1394,1395,1396,1397,1398,1399,1400,1401,1402,1403,1404,1405,1406,1407,1408,1409,1410,1411,1412,1413,1414,1415,1416,1417,1418,1419,1420,1421,1422,1423,1424,1425,1426,1427,1428,1429,1430,1431,1432,1433,1434,1435,1436,1437,1438,1439,1440,1441,1442,1443,1444,1445,1446,1447,1448,1449,1450,1451,1452,1453,1454,1455,1456,1457,1458,1459,1460,1461,1462,1463,1464,1465,1466,1467,1468,1469,1470,1471,1472,1473,1474,1475,1476,1477,1478,1479,1480,1481,1482,1483,1484,1485,1486,1487,1488,1489,1490,1491,1492,1493,1494,1495,1496,1497,1498,1499,1500,1501,1502,1503,1504,1505,1506,1507,1508,1509,1510,1511,1512,1513,1514,1515,1516,1517,1518,1519,1520,1521,1522,1523,1524,1525,1526,1527,1528,1529,1530,1531,1532,1533,1534,1535,1536,1537,1538,1539,1540,1541,1542,1543,1544,1545,1546,1547,1548,1549,1550,1551,1552,1553,1554,1555,1556,1557,1558,1559,1560,1561,1562,1563,1564,1565,1566,1567,1568,1569,1570,1571,1572,1573,1574,1575,1576,1577,1578,1579,1580,1581,1582,1583,1584,1585,1586,1587,1588,1589,1590,1591,1592,1593,1594,1595,1596,1597,1598,1599,1600,1601,1602,1603,1604,1605,1606,1607,1608,1609,1610,1611,1612,1613,1614,1615,1616,1617,1618,1619,1620,1621,1622,1623,1624,1625,1626,1627,1628,1629,1630,1631,1632,1633,1634,1635,1636,1637,1638,1639,1640,1641,1642,1643,1644,1645,1646,1647,1648,1649,1650,1651,1652,1653,1654,1655,1656,1657,1658,1659,1660,1661,1662,1663,1664,1665,1666,1667,1668,1669,1670,1671,1672,1673,1674,1675,1676,1677,1678,1679,1680,1681,1682,1683,1684,1685,1686,1687,1688,1689,1690,1691,1692,1693,1694,1695,1696,1697,1698,1699,1700,1701,1702,1703,1704,1705,1706,1707,1708,1709,1710,1711,1712,1713,1714,1715,1716,1717,1718,1719,1720,1721,1722,1723,1724,1725,1726,1727,1728,1729,1730,1731,1732,1733,1734,1735,1736,1737,1738,1739,1740,1741,1742,1743,1744,1745,1746,1747,1748,1749,1750,1751,1752,1753,1754,1755,1756,1757,1758,1759,1760,1761,1762,1763,1764,1765,1766,1767,1768,1769,1770,1771,1772,1773,1774,1775,1776,1777,1778,1779,1780,1781,1782,1783,1784,1785,1786,1787,1788,1789,1790,1791,1792,1793,1794,1795,1796,1797,1798,1799,1800,1801,1802,1803,1804,1805,1806,1807,1808,1809,1810,1811,1812,1813,1814,1815,1816,1817,1818,1819,1820,1821,1822,1823,1824,1825,1826,1827,1828,1829,1830,1831,1832,1833,1834,1835,1836,1837,1838,1839,1840,1841,1842,1843,1844,1845,1846,1847,1848,1849,1850,1851,1852,1853,1854,1855,1856,1857,1858,1859,1860,1861,1862,1863,1864,1865,1866,1867,1868,1869,1870,1871,1872,1873,1874,1875,1876,1877],\"y\":{\"__ndarray__\":\"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\",\"dtype\":\"float32\",\"shape\":[1878]}}},\"id\":\"d74b2b70-c970-4858-9f8a-8d6618f2be60\",\"type\":\"ColumnDataSource\"},{\"attributes\":{},\"id\":\"65175d00-8ef6-4e86-83c2-38900d36e7c1\",\"type\":\"BasicTickFormatter\"},{\"attributes\":{\"active_drag\":\"auto\",\"active_inspect\":\"auto\",\"active_scroll\":\"auto\",\"active_tap\":\"auto\",\"tools\":[{\"id\":\"07016b7f-0614-45ff-bc51-868afa296d36\",\"type\":\"PanTool\"},{\"id\":\"b6f2ccd6-5e24-410e-9776-18a3a7c7d8b1\",\"type\":\"WheelZoomTool\"},{\"id\":\"3db17c3e-8f6d-4367-9757-1f9c95b5f529\",\"type\":\"BoxZoomTool\"},{\"id\":\"77586b0f-7b20-417f-9d06-e1cf37df66e5\",\"type\":\"SaveTool\"},{\"id\":\"18595c8b-61e1-40ff-92cb-a550586b2e39\",\"type\":\"ResetTool\"},{\"id\":\"c39c2517-a60d-498e-9f92-09775bdbbc4a\",\"type\":\"HelpTool\"}]},\"id\":\"801c3693-a760-478c-98ee-8112111fce75\",\"type\":\"Toolbar\"},{\"attributes\":{},\"id\":\"b6f2ccd6-5e24-410e-9776-18a3a7c7d8b1\",\"type\":\"WheelZoomTool\"},{\"attributes\":{\"callback\":null},\"id\":\"b29fc981-aa97-4ec5-9ec5-92953139ca9d\",\"type\":\"DataRange1d\"},{\"attributes\":{\"overlay\":{\"id\":\"8fea99a2-50b2-4777-9299-4d70baaf4734\",\"type\":\"BoxAnnotation\"}},\"id\":\"3db17c3e-8f6d-4367-9757-1f9c95b5f529\",\"type\":\"BoxZoomTool\"},{\"attributes\":{},\"id\":\"a28e3e23-c5b9-4973-ae5c-a279b293a576\",\"type\":\"BasicTicker\"},{\"attributes\":{},\"id\":\"77586b0f-7b20-417f-9d06-e1cf37df66e5\",\"type\":\"SaveTool\"},{\"attributes\":{\"line_alpha\":0.1,\"line_color\":\"#1f77b4\",\"x\":{\"field\":\"x\"},\"y\":{\"field\":\"y\"}},\"id\":\"fc1318ef-1e61-40e2-89f9-59a8e7335c48\",\"type\":\"Line\"},{\"attributes\":{},\"id\":\"18595c8b-61e1-40ff-92cb-a550586b2e39\",\"type\":\"ResetTool\"},{\"attributes\":{},\"id\":\"c39c2517-a60d-498e-9f92-09775bdbbc4a\",\"type\":\"HelpTool\"},{\"attributes\":{},\"id\":\"15c73ef0-858a-45a7-96c4-123b386ea2d6\",\"type\":\"LinearScale\"},{\"attributes\":{},\"id\":\"caa61bd3-8def-47ab-8009-bfb91599031f\",\"type\":\"BasicTickFormatter\"},{\"attributes\":{\"callback\":null},\"id\":\"40468420-51e8-4740-ae4d-33ef3395f56e\",\"type\":\"DataRange1d\"}],\"root_ids\":[\"97852763-a4ae-4ef2-8fdb-b9884d675ed0\"]},\"title\":\"Bokeh Application\",\"version\":\"0.12.13\"}};\n",
       "  var render_items = [{\"docid\":\"c0512fa4-a59e-42ad-9d0a-f9d653083167\",\"elementid\":\"600bf22a-e72b-4a18-bf8d-2282cf7151f3\",\"modelid\":\"97852763-a4ae-4ef2-8fdb-b9884d675ed0\"}];\n",
       "  root.Bokeh.embed.embed_items_notebook(docs_json, render_items);\n",
       "\n",
       "  }\n",
       "  if (root.Bokeh !== undefined) {\n",
       "    embed_document(root);\n",
       "  } else {\n",
       "    var attempts = 0;\n",
       "    var timer = setInterval(function(root) {\n",
       "      if (root.Bokeh !== undefined) {\n",
       "        embed_document(root);\n",
       "        clearInterval(timer);\n",
       "      }\n",
       "      attempts++;\n",
       "      if (attempts > 100) {\n",
       "        console.log(\"Bokeh: ERROR: Unable to run BokehJS code because BokehJS library is missing\")\n",
       "        clearInterval(timer);\n",
       "      }\n",
       "    }, 10, root)\n",
       "  }\n",
       "})(window);"
      ],
      "application/vnd.bokehjs_exec.v0+json": ""
     },
     "metadata": {
      "application/vnd.bokehjs_exec.v0+json": {
       "id": "97852763-a4ae-4ef2-8fdb-b9884d675ed0"
      }
     },
     "output_type": "display_data"
    }
   ],
   "source": [
    "fig = bk.figure(plot_width=500, plot_height=300, title=None)\n",
    "fig.line(np.array(range(len(history_new.losses))), np.array(history_new.losses))\n",
    "fig.line(np.array(range(len(history_new.accuracy))), np.array(history_new.accuracy), \n",
    "         color='red')\n",
    "bk.show(fig)"
   ]
  },
  {
   "cell_type": "markdown",
   "metadata": {},
   "source": [
    "---\n",
    "\n",
    "Visit [www.add-for.com](<http://www.add-for.com/IT>) for more tutorials and updates.\n",
    "\n",
    "This work is licensed under a <a rel=\"license\" href=\"http://creativecommons.org/licenses/by-sa/4.0/\">Creative Commons Attribution-ShareAlike 4.0 International License</a>."
   ]
  }
 ],
 "metadata": {
  "kernelspec": {
   "display_name": "Python [conda env:addfor_tutorials]",
   "language": "python",
   "name": "conda-env-addfor_tutorials-py"
  },
  "language_info": {
   "codemirror_mode": {
    "name": "ipython",
    "version": 3
   },
   "file_extension": ".py",
   "mimetype": "text/x-python",
   "name": "python",
   "nbconvert_exporter": "python",
   "pygments_lexer": "ipython3",
   "version": "3.6.4"
  }
 },
 "nbformat": 4,
 "nbformat_minor": 2
}
