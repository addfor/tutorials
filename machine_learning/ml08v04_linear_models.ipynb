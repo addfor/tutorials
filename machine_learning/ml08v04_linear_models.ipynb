{
 "cells": [
  {
   "cell_type": "markdown",
   "metadata": {},
   "source": [
    "# Linear Models"
   ]
  },
  {
   "cell_type": "code",
   "execution_count": 1,
   "metadata": {
    "collapsed": false,
    "scrolled": false
   },
   "outputs": [
    {
     "data": {
      "text/html": [
       "<div id='toc-container'><script type='text/javascript'>\n",
       "$(function() {\n",
       "    function regenTOC(){\n",
       "        element = $(\"#toc-container\");\n",
       "\n",
       "\tvar toc = document.createElement(\"div\");\n",
       "\t$(toc).attr(\"class\", \"table-of-contents\");\n",
       "\n",
       "\tvar curLevel = 0;\n",
       "\tvar containerStack = [toc];\n",
       "\tvar levelOfTag = {\"h2\": 1, \"h3\": 2, \"h4\": 3, \"h5\": 4};\n",
       "\n",
       "\tfunction pushLevel() {\n",
       "            var list = document.createElement(\"ul\");\n",
       "            containerStack.push(list);\n",
       "            curLevel++;\n",
       "\t}\n",
       "\t\n",
       "\tfunction popLevel() {\n",
       "            var lastContainer = containerStack.pop();\n",
       "            $(lastContainer).appendTo(containerStack[containerStack.length - 1]);\n",
       "            curLevel--;\n",
       "\t}\n",
       "\t\n",
       "\t$(\".text_cell_render :header\").each(function (i, elem) {\n",
       "            var level = levelOfTag[ elem.tagName.toLowerCase() ];\n",
       "\n",
       "            if (level === undefined)\n",
       "\t\treturn;\n",
       "\n",
       "            while (curLevel < level)\n",
       "\t\tpushLevel();\n",
       "            while (curLevel > level)\n",
       "\t\tpopLevel();\n",
       "            \n",
       "            var listItem = document.createElement(\"li\");\n",
       "            var link = document.createElement(\"a\");\n",
       "            $(link)\n",
       "\t\t.text($(elem).contents().first().text()) // Remove the pilcrow sign\n",
       "\t\t.attr(\"href\", \"#\" + $(elem).attr(\"id\"))\n",
       "\t\t.appendTo(listItem);\n",
       "            $(listItem).appendTo(containerStack[containerStack.length - 1]);\n",
       "\t});\n",
       "\t\n",
       "\twhile (curLevel > 0)\n",
       "            popLevel();\n",
       "\n",
       "        $(\"<a class='btn-update' href='#'>Update</a>\")\n",
       "          .click(regenTOC).prependTo(toc);\n",
       "\n",
       "\t$(toc).prepend(\"<div class='title'>Contents</div>\")\n",
       "          .wrap(\"<div class='toc-headings'/>\");\n",
       "\n",
       "        $(element).empty();\n",
       "        $(element).append(toc);\n",
       "    }\n",
       "\n",
       "    if (typeof(IPython) !== 'undefined')\n",
       "        $([IPython.events]).on('notebook_loaded.Notebook', regenTOC);\n",
       "    regenTOC();\n",
       "});\n",
       "\n",
       "</script></div>"
      ],
      "text/plain": [
       "<IPython.core.display.HTML object>"
      ]
     },
     "execution_count": 1,
     "metadata": {},
     "output_type": "execute_result"
    }
   ],
   "source": [
    "import addutils.toc ; addutils.toc.js(ipy_notebook=True)"
   ]
  },
  {
   "cell_type": "code",
   "execution_count": 2,
   "metadata": {
    "collapsed": false
   },
   "outputs": [
    {
     "data": {
      "text/html": [
       "<style>\n",
       ".text_cell_render @font-face {\n",
       "    font-family: \"Computer Modern\";\n",
       "    src: url('http://mirrors.ctan.org/fonts/cm-unicode/fonts/otf/cmunss.otf');\n",
       "}\n",
       "\n",
       "div.cell {\n",
       "    width: 900px;\n",
       "    margin-left: 0% !important;\n",
       "    margin-right: 0%;\n",
       "}\n",
       "\n",
       "code {\n",
       "    font-size:10pt;\n",
       "}\n",
       "\n",
       ".text_cell_render  h1 {\n",
       "    font-family: Tahoma, sans-serif;\n",
       "    color: rgb( 10, 88, 126 );\n",
       "    font-size:28pt;\n",
       "}\n",
       ".text_cell_render h2 {\n",
       "    font-family: Tahoma, sans-serif;\n",
       "    color: rgb( 10, 88, 126 );\n",
       "    font-size:24pt;\n",
       "}\n",
       ".text_cell_render h3 {\n",
       "    font-family: Tahoma, sans-serif;\n",
       "    color: rgb( 10, 88, 126 );\n",
       "    font-size:20pt;\n",
       "}\n",
       ".text_cell_render h4 {\n",
       "    font-family: Tahoma, sans-serif;\n",
       "    color: rgb( 10, 88, 126 );\n",
       "    font-size:18pt;\n",
       "    margin-top:12px;\n",
       "    margin-bottom: 3px;\n",
       "}\n",
       "\n",
       ".text_cell_render h5 {\n",
       "    font-weight: 300;\n",
       "    font-size: 11pt;\n",
       "    color: rgb( 48, 48, 48 );\n",
       "    font-style: italic;\n",
       "    margin-bottom: .5em;\n",
       "    margin-top: 0.5em;\n",
       "    display: block;\n",
       "}\n",
       "\n",
       ".text_cell_render ul {\n",
       "    font-family: Tahoma, sans-serif;\n",
       "    color: rgb( 90, 90, 90 );\n",
       "    font-size:11pt;\n",
       "    line-height: 185%;\n",
       "}\n",
       "\n",
       ".text_cell_render yp {\n",
       "    font-family: Tahoma, sans-serif;\n",
       "    color: rgb( 90, 90, 90 );\n",
       "    font-size:11pt;\n",
       "}\n",
       "\n",
       ".text_cell_render strong {\n",
       "    font-family: Tahoma, sans-serif;\n",
       "    color: rgb( 30, 30, 30 );\n",
       "    font-size:11pt;\n",
       "}\n",
       "\n",
       ".text_cell_render a:link {\n",
       "    font-family: Tahoma, sans-serif;\n",
       "    color: rgb( 10, 88, 126 );\n",
       "    font-size:11pt;\n",
       "}\n",
       "\n",
       ".text_cell_render a:visited {\n",
       "    color:rgb( 10, 88, 126 );\n",
       "}\n",
       "\n",
       ".text_cell_render {\n",
       "    font-family: Helvetica, Courier, Computer Modern, \"Helvetica Neue\", Arial, Geneva, sans-serif;\n",
       "    color: rgb( 84, 84, 84 );\n",
       "    font-size:11pt;\n",
       "    line-height: 125%;\n",
       "    font-size: 100%;\n",
       "    width:800px;\n",
       "}\n",
       "\n",
       ".CodeMirror {\n",
       "    font-family: Courier, \"Source Code Pro\", source-code-pro,Consolas, monospace;\n",
       "}\n",
       "\n",
       ".warning {\n",
       "    color: rgb( 240, 20, 20 );\n",
       "}\n",
       "\n",
       "/* Pandas tables */\n",
       "/*\n",
       ".rendered_html td {\n",
       "    text-align: right;\n",
       "}\n",
       "*/\n",
       "\n",
       "table.dataframe td {\n",
       "    text-align: right;\n",
       "}\n",
       "\n",
       ".output .table-of-contents {\n",
       "    border: 1px #cecece solid;\n",
       "    background-color: #fafafa;\n",
       "    padding-top: 10px;\n",
       "    padding-bottom: 5px;\n",
       "    padding-right: 15px;\n",
       "    padding-left: 0px;\n",
       "    margin-bottom: 20px;\n",
       "    display: inline-block;\n",
       "    position: relative;\n",
       "}\n",
       "\n",
       ".output .table-of-contents ul {\n",
       "    list-style-type: none;\n",
       "    padding-left: 20px;\n",
       "}\n",
       "\n",
       ".output .table-of-contents .title {\n",
       "    font-weight: bold;\n",
       "    font-height: 11pt;\n",
       "    padding-left: 20px; /* looks better if it's the same to the <ul> */\n",
       "}\n",
       "\n",
       ".output .table-of-contents .btn-update {\n",
       "    position: absolute;\n",
       "    float: right;\n",
       "    right: 11px;\n",
       "    top: 4px;\n",
       "    font-size: 9pt;\n",
       "}\n",
       "\n",
       "</style>\n",
       "<script>\n",
       "    MathJax.Hub.Config({\n",
       "                        TeX: {\n",
       "                           extensions: [\"AMSmath.js\"]\n",
       "                           },\n",
       "                displayAlign: 'center', // Change this to 'center' to center equations.\n",
       "                \"HTML-CSS\": {\n",
       "                    styles: {'.MathJax_Display': {\"margin\": 4}}\n",
       "                }\n",
       "        });\n",
       "</script>\n"
      ],
      "text/plain": [
       "<IPython.core.display.HTML object>"
      ]
     },
     "execution_count": 2,
     "metadata": {},
     "output_type": "execute_result"
    }
   ],
   "source": [
    "import numpy as np\n",
    "import pandas as pd\n",
    "from addutils import css_notebook\n",
    "from sklearn.datasets.samples_generator import make_regression\n",
    "from sklearn import linear_model, neighbors\n",
    "from sklearn import metrics\n",
    "css_notebook()"
   ]
  },
  {
   "cell_type": "code",
   "execution_count": 3,
   "metadata": {
    "collapsed": false
   },
   "outputs": [
    {
     "data": {
      "text/html": [
       "\n",
       "    <div class=\"bk-root\">\n",
       "        <a href=\"http://bokeh.pydata.org\" target=\"_blank\" class=\"bk-logo bk-logo-small bk-logo-notebook\"></a>\n",
       "        <span id=\"170550c3-2588-4fc4-a0d3-b03acfba567c\">Loading BokehJS ...</span>\n",
       "    </div>"
      ]
     },
     "metadata": {},
     "output_type": "display_data"
    },
    {
     "data": {
      "application/javascript": [
       "\n",
       "(function(global) {\n",
       "  function now() {\n",
       "    return new Date();\n",
       "  }\n",
       "\n",
       "  var force = true;\n",
       "\n",
       "  if (typeof (window._bokeh_onload_callbacks) === \"undefined\" || force === true) {\n",
       "    window._bokeh_onload_callbacks = [];\n",
       "    window._bokeh_is_loading = undefined;\n",
       "  }\n",
       "\n",
       "\n",
       "  \n",
       "  if (typeof (window._bokeh_timeout) === \"undefined\" || force === true) {\n",
       "    window._bokeh_timeout = Date.now() + 5000;\n",
       "    window._bokeh_failed_load = false;\n",
       "  }\n",
       "\n",
       "  var NB_LOAD_WARNING = {'data': {'text/html':\n",
       "     \"<div style='background-color: #fdd'>\\n\"+\n",
       "     \"<p>\\n\"+\n",
       "     \"BokehJS does not appear to have successfully loaded. If loading BokehJS from CDN, this \\n\"+\n",
       "     \"may be due to a slow or bad network connection. Possible fixes:\\n\"+\n",
       "     \"</p>\\n\"+\n",
       "     \"<ul>\\n\"+\n",
       "     \"<li>re-rerun `output_notebook()` to attempt to load from CDN again, or</li>\\n\"+\n",
       "     \"<li>use INLINE resources instead, as so:</li>\\n\"+\n",
       "     \"</ul>\\n\"+\n",
       "     \"<code>\\n\"+\n",
       "     \"from bokeh.resources import INLINE\\n\"+\n",
       "     \"output_notebook(resources=INLINE)\\n\"+\n",
       "     \"</code>\\n\"+\n",
       "     \"</div>\"}};\n",
       "\n",
       "  function display_loaded() {\n",
       "    if (window.Bokeh !== undefined) {\n",
       "      document.getElementById(\"170550c3-2588-4fc4-a0d3-b03acfba567c\").textContent = \"BokehJS successfully loaded.\";\n",
       "    } else if (Date.now() < window._bokeh_timeout) {\n",
       "      setTimeout(display_loaded, 100)\n",
       "    }\n",
       "  }\n",
       "\n",
       "  function run_callbacks() {\n",
       "    window._bokeh_onload_callbacks.forEach(function(callback) { callback() });\n",
       "    delete window._bokeh_onload_callbacks\n",
       "    console.info(\"Bokeh: all callbacks have finished\");\n",
       "  }\n",
       "\n",
       "  function load_libs(js_urls, callback) {\n",
       "    window._bokeh_onload_callbacks.push(callback);\n",
       "    if (window._bokeh_is_loading > 0) {\n",
       "      console.log(\"Bokeh: BokehJS is being loaded, scheduling callback at\", now());\n",
       "      return null;\n",
       "    }\n",
       "    if (js_urls == null || js_urls.length === 0) {\n",
       "      run_callbacks();\n",
       "      return null;\n",
       "    }\n",
       "    console.log(\"Bokeh: BokehJS not loaded, scheduling load and callback at\", now());\n",
       "    window._bokeh_is_loading = js_urls.length;\n",
       "    for (var i = 0; i < js_urls.length; i++) {\n",
       "      var url = js_urls[i];\n",
       "      var s = document.createElement('script');\n",
       "      s.src = url;\n",
       "      s.async = false;\n",
       "      s.onreadystatechange = s.onload = function() {\n",
       "        window._bokeh_is_loading--;\n",
       "        if (window._bokeh_is_loading === 0) {\n",
       "          console.log(\"Bokeh: all BokehJS libraries loaded\");\n",
       "          run_callbacks()\n",
       "        }\n",
       "      };\n",
       "      s.onerror = function() {\n",
       "        console.warn(\"failed to load library \" + url);\n",
       "      };\n",
       "      console.log(\"Bokeh: injecting script tag for BokehJS library: \", url);\n",
       "      document.getElementsByTagName(\"head\")[0].appendChild(s);\n",
       "    }\n",
       "  };var element = document.getElementById(\"170550c3-2588-4fc4-a0d3-b03acfba567c\");\n",
       "  if (element == null) {\n",
       "    console.log(\"Bokeh: ERROR: autoload.js configured with elementid '170550c3-2588-4fc4-a0d3-b03acfba567c' but no matching script tag was found. \")\n",
       "    return false;\n",
       "  }\n",
       "\n",
       "  var js_urls = [\"https://cdn.pydata.org/bokeh/release/bokeh-0.12.4.min.js\", \"https://cdn.pydata.org/bokeh/release/bokeh-widgets-0.12.4.min.js\"];\n",
       "\n",
       "  var inline_js = [\n",
       "    function(Bokeh) {\n",
       "      Bokeh.set_log_level(\"info\");\n",
       "    },\n",
       "    \n",
       "    function(Bokeh) {\n",
       "      \n",
       "      document.getElementById(\"170550c3-2588-4fc4-a0d3-b03acfba567c\").textContent = \"BokehJS is loading...\";\n",
       "    },\n",
       "    function(Bokeh) {\n",
       "      console.log(\"Bokeh: injecting CSS: https://cdn.pydata.org/bokeh/release/bokeh-0.12.4.min.css\");\n",
       "      Bokeh.embed.inject_css(\"https://cdn.pydata.org/bokeh/release/bokeh-0.12.4.min.css\");\n",
       "      console.log(\"Bokeh: injecting CSS: https://cdn.pydata.org/bokeh/release/bokeh-widgets-0.12.4.min.css\");\n",
       "      Bokeh.embed.inject_css(\"https://cdn.pydata.org/bokeh/release/bokeh-widgets-0.12.4.min.css\");\n",
       "    }\n",
       "  ];\n",
       "\n",
       "  function run_inline_js() {\n",
       "    \n",
       "    if ((window.Bokeh !== undefined) || (force === true)) {\n",
       "      for (var i = 0; i < inline_js.length; i++) {\n",
       "        inline_js[i](window.Bokeh);\n",
       "      }if (force === true) {\n",
       "        display_loaded();\n",
       "      }} else if (Date.now() < window._bokeh_timeout) {\n",
       "      setTimeout(run_inline_js, 100);\n",
       "    } else if (!window._bokeh_failed_load) {\n",
       "      console.log(\"Bokeh: BokehJS failed to load within specified timeout.\");\n",
       "      window._bokeh_failed_load = true;\n",
       "    } else if (force !== true) {\n",
       "      var cell = $(document.getElementById(\"170550c3-2588-4fc4-a0d3-b03acfba567c\")).parents('.cell').data().cell;\n",
       "      cell.output_area.append_execute_result(NB_LOAD_WARNING)\n",
       "    }\n",
       "\n",
       "  }\n",
       "\n",
       "  if (window._bokeh_is_loading === 0) {\n",
       "    console.log(\"Bokeh: BokehJS loaded, going straight to plotting\");\n",
       "    run_inline_js();\n",
       "  } else {\n",
       "    load_libs(js_urls, function() {\n",
       "      console.log(\"Bokeh: BokehJS plotting callback run at\", now());\n",
       "      run_inline_js();\n",
       "    });\n",
       "  }\n",
       "}(this));"
      ]
     },
     "metadata": {},
     "output_type": "display_data"
    }
   ],
   "source": [
    "import bokeh.plotting as bk\n",
    "from bokeh import palettes\n",
    "from bokeh.models import Range1d, FixedTicker\n",
    "from bokeh.layouts import gridplot\n",
    "bk.output_notebook()"
   ]
  },
  {
   "cell_type": "code",
   "execution_count": 4,
   "metadata": {
    "collapsed": false
   },
   "outputs": [],
   "source": [
    "import matplotlib.pyplot as plt\n",
    "%matplotlib notebook"
   ]
  },
  {
   "cell_type": "markdown",
   "metadata": {},
   "source": [
    "## 1 Introduction"
   ]
  },
  {
   "cell_type": "markdown",
   "metadata": {},
   "source": [
    "In this notebook we introduce linear models for regression and classification. This introduction serves also to introduce the main terminology of ML as well one important aspect of ML practice: the *curse of dimensionality*."
   ]
  },
  {
   "cell_type": "markdown",
   "metadata": {},
   "source": [
    "## 2 Linear Model for Regression"
   ]
  },
  {
   "cell_type": "markdown",
   "metadata": {},
   "source": [
    "`LinearRegression` fits a linear model with coefficients $w = (w_1, \\ldots, w_p)$ to minimize the residual sum of squares between the observed responses in the dataset, and the responses predicted by the linear approximation.\n",
    "\n",
    "Mathematically it solves a problem of the form: \n",
    "$$ \\underset{w}{min} \\|Xw -y\\|_2^2$$"
   ]
  },
  {
   "cell_type": "markdown",
   "metadata": {},
   "source": [
    "### 2.1 Simple Linear Regression"
   ]
  },
  {
   "cell_type": "markdown",
   "metadata": {},
   "source": [
    "Simple linear regression is an approach for predicting a **quantitative response** using a **single feature** (or \"predictor\" or \"input variable\"). It has the following mathematical definition:\n",
    "\n",
    "$y = \\beta_0 + \\beta_1x$\n",
    "\n",
    "Where:\n",
    "- $y$ is the response or **target**\n",
    "- $x$ is the **feature**\n",
    "- $\\beta_0$ is the intercept\n",
    "- $\\beta_1$ is the coefficient for x\n",
    "\n",
    "$\\beta_0$ and $\\beta_1$ are called the **model coefficients** or **parameters**. To build the model, it is necessary to **learn** the values of these coefficients. And once the model has learned these coefficients, it can be used for prediction. We are learning a function, sometimes called **hypothesis** that is $h(x) = \\beta_0 + \\beta_1x$\n",
    "\n",
    "In supervised learning we are going to learn model from examples. What are examples? They are given couples feature, response. For example suppose we want to learn to predict the price of a house based on its size in feet$^2$. You are presented a **dataset** that is a table with two columns one that represent the size and the other that represent the price."
   ]
  },
  {
   "cell_type": "markdown",
   "metadata": {},
   "source": [
    "<img src=\"images/trainset_example.png\" alt=\"\" height=\"400\" width=\"400\">"
   ]
  },
  {
   "cell_type": "markdown",
   "metadata": {},
   "source": [
    "An **example** is a line in the table. The number of example $n$ is the size of the dataset. A couple $(x, y)$ is one training example, $(x_i, y_i)$ refers to the $i^{th}$ training example."
   ]
  },
  {
   "cell_type": "markdown",
   "metadata": {},
   "source": [
    "<img src=\"images/train_cycle.png\" alt=\"\" height=\"400\" width=\"400\">"
   ]
  },
  {
   "cell_type": "markdown",
   "metadata": {},
   "source": [
    "### 2.2 Interpreting Model Coefficients"
   ]
  },
  {
   "cell_type": "markdown",
   "metadata": {},
   "source": [
    "How do we interpret the coefficient $\\beta_1$? A *unit* **increase** in the variable $x$ is **associated with** $\\beta_1$ *unit* **increase** in variable $y$. Note that if an increase in $x$ is associated with a **decrease** in $y$, $\\beta_1$ would be **negative**."
   ]
  },
  {
   "cell_type": "code",
   "execution_count": 5,
   "metadata": {
    "collapsed": false
   },
   "outputs": [],
   "source": [
    "X, y = make_regression(n_samples=100000, n_features=1, n_informative=1,\n",
    "                       random_state=0, noise=35)"
   ]
  },
  {
   "cell_type": "code",
   "execution_count": 6,
   "metadata": {
    "collapsed": false
   },
   "outputs": [
    {
     "data": {
      "text/html": [
       "\n",
       "\n",
       "    <div class=\"bk-root\">\n",
       "        <div class=\"bk-plotdiv\" id=\"56348bd5-ec0b-4943-b60f-8305516b847e\"></div>\n",
       "    </div>\n",
       "<script type=\"text/javascript\">\n",
       "  \n",
       "  (function(global) {\n",
       "    function now() {\n",
       "      return new Date();\n",
       "    }\n",
       "  \n",
       "    var force = false;\n",
       "  \n",
       "    if (typeof (window._bokeh_onload_callbacks) === \"undefined\" || force === true) {\n",
       "      window._bokeh_onload_callbacks = [];\n",
       "      window._bokeh_is_loading = undefined;\n",
       "    }\n",
       "  \n",
       "  \n",
       "    \n",
       "    if (typeof (window._bokeh_timeout) === \"undefined\" || force === true) {\n",
       "      window._bokeh_timeout = Date.now() + 0;\n",
       "      window._bokeh_failed_load = false;\n",
       "    }\n",
       "  \n",
       "    var NB_LOAD_WARNING = {'data': {'text/html':\n",
       "       \"<div style='background-color: #fdd'>\\n\"+\n",
       "       \"<p>\\n\"+\n",
       "       \"BokehJS does not appear to have successfully loaded. If loading BokehJS from CDN, this \\n\"+\n",
       "       \"may be due to a slow or bad network connection. Possible fixes:\\n\"+\n",
       "       \"</p>\\n\"+\n",
       "       \"<ul>\\n\"+\n",
       "       \"<li>re-rerun `output_notebook()` to attempt to load from CDN again, or</li>\\n\"+\n",
       "       \"<li>use INLINE resources instead, as so:</li>\\n\"+\n",
       "       \"</ul>\\n\"+\n",
       "       \"<code>\\n\"+\n",
       "       \"from bokeh.resources import INLINE\\n\"+\n",
       "       \"output_notebook(resources=INLINE)\\n\"+\n",
       "       \"</code>\\n\"+\n",
       "       \"</div>\"}};\n",
       "  \n",
       "    function display_loaded() {\n",
       "      if (window.Bokeh !== undefined) {\n",
       "        document.getElementById(\"56348bd5-ec0b-4943-b60f-8305516b847e\").textContent = \"BokehJS successfully loaded.\";\n",
       "      } else if (Date.now() < window._bokeh_timeout) {\n",
       "        setTimeout(display_loaded, 100)\n",
       "      }\n",
       "    }\n",
       "  \n",
       "    function run_callbacks() {\n",
       "      window._bokeh_onload_callbacks.forEach(function(callback) { callback() });\n",
       "      delete window._bokeh_onload_callbacks\n",
       "      console.info(\"Bokeh: all callbacks have finished\");\n",
       "    }\n",
       "  \n",
       "    function load_libs(js_urls, callback) {\n",
       "      window._bokeh_onload_callbacks.push(callback);\n",
       "      if (window._bokeh_is_loading > 0) {\n",
       "        console.log(\"Bokeh: BokehJS is being loaded, scheduling callback at\", now());\n",
       "        return null;\n",
       "      }\n",
       "      if (js_urls == null || js_urls.length === 0) {\n",
       "        run_callbacks();\n",
       "        return null;\n",
       "      }\n",
       "      console.log(\"Bokeh: BokehJS not loaded, scheduling load and callback at\", now());\n",
       "      window._bokeh_is_loading = js_urls.length;\n",
       "      for (var i = 0; i < js_urls.length; i++) {\n",
       "        var url = js_urls[i];\n",
       "        var s = document.createElement('script');\n",
       "        s.src = url;\n",
       "        s.async = false;\n",
       "        s.onreadystatechange = s.onload = function() {\n",
       "          window._bokeh_is_loading--;\n",
       "          if (window._bokeh_is_loading === 0) {\n",
       "            console.log(\"Bokeh: all BokehJS libraries loaded\");\n",
       "            run_callbacks()\n",
       "          }\n",
       "        };\n",
       "        s.onerror = function() {\n",
       "          console.warn(\"failed to load library \" + url);\n",
       "        };\n",
       "        console.log(\"Bokeh: injecting script tag for BokehJS library: \", url);\n",
       "        document.getElementsByTagName(\"head\")[0].appendChild(s);\n",
       "      }\n",
       "    };var element = document.getElementById(\"56348bd5-ec0b-4943-b60f-8305516b847e\");\n",
       "    if (element == null) {\n",
       "      console.log(\"Bokeh: ERROR: autoload.js configured with elementid '56348bd5-ec0b-4943-b60f-8305516b847e' but no matching script tag was found. \")\n",
       "      return false;\n",
       "    }\n",
       "  \n",
       "    var js_urls = [];\n",
       "  \n",
       "    var inline_js = [\n",
       "      function(Bokeh) {\n",
       "        (function() {\n",
       "          var fn = function() {\n",
       "            var docs_json = {\"aefbf710-3d19-45f5-a324-5b741602d944\":{\"roots\":{\"references\":[{\"attributes\":{\"formatter\":{\"id\":\"e2dac307-0ffa-46cb-a23d-31ed9d2d17d7\",\"type\":\"BasicTickFormatter\"},\"minor_tick_out\":0,\"plot\":{\"id\":\"36cb511f-512e-44f5-932f-a3701b957d2a\",\"subtype\":\"Figure\",\"type\":\"Plot\"},\"ticker\":{\"id\":\"e0641bb8-5fef-463a-86f0-4a315b6e2fd7\",\"type\":\"BasicTicker\"}},\"id\":\"3177a90c-e899-4d33-b61e-42fce92bcbaf\",\"type\":\"LinearAxis\"},{\"attributes\":{},\"id\":\"e0641bb8-5fef-463a-86f0-4a315b6e2fd7\",\"type\":\"BasicTicker\"},{\"attributes\":{\"plot\":{\"id\":\"36cb511f-512e-44f5-932f-a3701b957d2a\",\"subtype\":\"Figure\",\"type\":\"Plot\"}},\"id\":\"1e0972f8-ce0b-4ba2-9a53-7f442e23d5f6\",\"type\":\"PanTool\"},{\"attributes\":{\"active_drag\":\"auto\",\"active_scroll\":\"auto\",\"active_tap\":\"auto\",\"tools\":[{\"id\":\"1e0972f8-ce0b-4ba2-9a53-7f442e23d5f6\",\"type\":\"PanTool\"},{\"id\":\"fc53480a-bcee-4130-9b5a-27e45dab836d\",\"type\":\"WheelZoomTool\"},{\"id\":\"9cec9491-168e-4f8e-96b0-150a47fda1ef\",\"type\":\"BoxZoomTool\"},{\"id\":\"9e281bc8-11e6-497b-8a51-3517a1a8433c\",\"type\":\"SaveTool\"},{\"id\":\"a865c3e4-41a7-48f4-a788-61b90877d76d\",\"type\":\"ResetTool\"},{\"id\":\"f30084a1-8495-48c9-b9f1-b0cab88e198c\",\"type\":\"HelpTool\"}]},\"id\":\"bbebd09e-b11c-41f4-92ee-6d20e0294152\",\"type\":\"Toolbar\"},{\"attributes\":{\"dimension\":1,\"grid_line_color\":{\"value\":null},\"plot\":{\"id\":\"36cb511f-512e-44f5-932f-a3701b957d2a\",\"subtype\":\"Figure\",\"type\":\"Plot\"},\"ticker\":{\"id\":\"e0641bb8-5fef-463a-86f0-4a315b6e2fd7\",\"type\":\"BasicTicker\"}},\"id\":\"06344ba7-f3c7-4312-8f6f-6964fbb33546\",\"type\":\"Grid\"},{\"attributes\":{\"bottom_units\":\"screen\",\"fill_alpha\":{\"value\":0.5},\"fill_color\":{\"value\":\"lightgrey\"},\"left_units\":\"screen\",\"level\":\"overlay\",\"line_alpha\":{\"value\":1.0},\"line_color\":{\"value\":\"black\"},\"line_dash\":[4,4],\"line_width\":{\"value\":2},\"plot\":null,\"render_mode\":\"css\",\"right_units\":\"screen\",\"top_units\":\"screen\"},\"id\":\"e7a7b64f-07cc-4b44-8618-44013dc2af3c\",\"type\":\"BoxAnnotation\"},{\"attributes\":{\"grid_line_color\":{\"value\":null},\"plot\":{\"id\":\"36cb511f-512e-44f5-932f-a3701b957d2a\",\"subtype\":\"Figure\",\"type\":\"Plot\"},\"ticker\":{\"id\":\"5c1b2aee-8527-4961-aea3-aa855808b1b1\",\"type\":\"BasicTicker\"}},\"id\":\"803afbf0-c0e1-4d28-a6f3-597716ba2575\",\"type\":\"Grid\"},{\"attributes\":{\"callback\":null},\"id\":\"6ab27007-287a-4ed5-9ceb-5d6dcc550fe1\",\"type\":\"DataRange1d\"},{\"attributes\":{\"callback\":null},\"id\":\"338fe3d6-436a-46e3-a682-952aa191211e\",\"type\":\"DataRange1d\"},{\"attributes\":{\"formatter\":{\"id\":\"7d9300f8-b4cc-4d0a-84a5-0bc8c11a1a8f\",\"type\":\"BasicTickFormatter\"},\"minor_tick_out\":0,\"plot\":{\"id\":\"36cb511f-512e-44f5-932f-a3701b957d2a\",\"subtype\":\"Figure\",\"type\":\"Plot\"},\"ticker\":{\"id\":\"5c1b2aee-8527-4961-aea3-aa855808b1b1\",\"type\":\"BasicTicker\"}},\"id\":\"d7b180c0-cd23-41bf-819d-aeddcf956bd9\",\"type\":\"LinearAxis\"},{\"attributes\":{},\"id\":\"5c1b2aee-8527-4961-aea3-aa855808b1b1\",\"type\":\"BasicTicker\"},{\"attributes\":{\"data_source\":{\"id\":\"0dedcb61-c04b-48eb-90c0-8ba16a229602\",\"type\":\"ColumnDataSource\"},\"glyph\":{\"id\":\"c6964d1e-4193-47eb-881c-38d2e5b93bdc\",\"type\":\"Line\"},\"hover_glyph\":null,\"nonselection_glyph\":{\"id\":\"cfe419e3-a89c-46a9-8c99-61b67a75386f\",\"type\":\"Line\"},\"selection_glyph\":null},\"id\":\"6419b74a-6c0d-4356-bd03-0ad23f5232d6\",\"type\":\"GlyphRenderer\"},{\"attributes\":{\"callback\":null,\"column_names\":[\"x\",\"y\"],\"data\":{\"x\":{\"__ndarray__\":\"MqNhARb47z/xq5BPfCXwPwoV11+YwH8/+OB1NJ4u6j+UnUAMN7TuvwI9nTkwj/i/mg4SYvTd8D8upzHE0Hz6P4Iha/CxjvS/IWCvl2sc9r/wh7HgDBjIPxhfXwUXf/G/9lsYNUWx4T+PiounKkL6P4XiHNE6/vy/WFkCwlYM4L81AycenmnnP9mV7eZVxsK/tVQpYCFa8L8wNELzK++wP6hvNYGW6Na/GTzlruiq978b9nYKuJ7tP61nUWXKweo/WrRpmaFT47/lqMgGVHf0P0KcFdSIBwBA4wlsELGI4D+vhc/9qVfSv09M47hI1QlAo5i2DiSj8r8SgTPnrPTwP5AKD3ZoEsQ/8MDx3O2W1z8zkiKLHunKPx9eMUTM85g/KLMYS8mt4D/yeW3e4vTPP6t4atNROPW/2YUTzmAZ8D+qEaaB1nfuv5LiWYyX7c6/nZuf9OsK+D+04b42qdjVPwZG8ZaijNc/D7ELYtSt3D/gHC4CZEDov4k85SuoqvI/Huhf90Ksqr+3hGfOUqzfP5CTPjhXKem/u31ZcZR0z7/kkLxWjvzmv7KKfsNYNe6/gpJ4EQ5jy7/yTNz1JuXNv7H+7WuzVAPAy5bBgvjeyb+igHDcolzWP+TQDa2wp/I/0HqaRczU6r/bgPzJBcn7vxrL5y0lrfC/MDqqh/8Z8j8LFNUNlt74P18VC34N/No//YiOjl5Z+L/jW0APwgLwPyHRzDjse8m/urB9OU/zAsCCVwZfS9pvv6JuW36dtuQ/yLbpi8t//T9//7VBbpC9v4cCOncTKPY/U0kQqyuQwb8tUEqGLjzzv9LMEzwpN/c/FmZ1NG6c0b+YjH9ar3bsvxKIRq1GyNg/b6GxptwC1z+PT4uHrjbmvytM9iksStE/m+DoE+hT9L9mgjBdBvnyv78iGoBbqeG/lx0Mxuc/9j9t7ZVqclz3v1UYLCeFPvS/bSbjGLbQwD8rEI4ili/mv6irRA6xIOW/bdZ6NmUB+T81Jru8cAAAwG3pvW24qT2/TTH4IuJKAEBMtV/aW4zxP0RUTZjVYao/ckpVmKLO5j8=\",\"dtype\":\"float64\",\"shape\":[100]},\"y\":{\"__ndarray__\":\"HKyN58TfNkAqcCmmHGtLQKfLccn0vDHAnJ8AJl76UUCsp1WUWqljwKIHgeqGVlTA9tbCX+HeWECBjYHasbNiQMvjOqK1F2PAThyQJb67YcBZ4Wa5fTQwwL2avafZXlzAbqrnAhfFU0CcutvIKJ5lQFr5kqGx7WbA/ai+4iWOQcByzvurxLlTQIb6JFZ6ODzAq67P/ymQWcCuaCNKwAszQLyF4yx2oSzANppNmW8ZTMB4JDaGTshmQJD3pI1nKjpAiGLwGul6QsAsCuZOEmJJQLbz+3ePA2BALD6q3e1UIsBvuY2rU2w5QIxSsCAlTHFANOunMO9eQcBX3cFVYDFCQBCS7xah2v2/MrpXblTTQ8A7cj5YFnQ+wDrbJxVw3yJAf5IsVPcDQUBR9iclGOtSQGJbQcoLklbAKRi7qq96VEDGtPWytmhbwBDpl7XbMiZAj2cryny2ZEA8zFgguD4dQA4lMw3Sp0JAkXU7KBQKREB+MWh9I/c3wAFQEbuxCVZATYR9CJcUNMBJbCk9U+05QOiHOMpwYFfANjzQ/RnrRMAalzQSgA47wGahuGE0QUzA9QftGJJCSsAufSsCT9EzQF+C1gciIGPAKdtpRq9mRcB6l4qBNQE7QGANk/m4lVdA8JzBNdyXWcCHjH6vBBFfwGCdfP3y1VnAcOBJh7WLX0Damn+bvFdSQLj6ywMM2ynACZ5AoSPlXsA2E/oDqF9JQO622A9LPUjA/NDJp/X7acA5oAWyoS8yQDOe6hzkMlRAT+338HNiZ0DZMTKDvawxQJ4hHQ/VS1pApHlcEj2oN8AG+Iht9PlfwK3rJrF5p2FAPDlm1osBHkA3Yu/Y6WhWwCbbCjvnbDBAbed7Zn1fS0DQ+9q3LoNVwL/bJgGUIFRAE/3bQeVgZ8BgKfH7YGIwwIm5h0QbsTLA8CaETUYHXEBcs+iFvLZdwE4/qWmmAk/AbvyD5A1mOMCN9V8iiQZAwF5pxKBjK1nAWz8lSoX7YUASnd7VmkhlwN7w6vNNBDdAQZ2OKZUzaUAFU9iuNzFFQIGj7QzEVT3AmFqPMWWtV0A=\",\"dtype\":\"float64\",\"shape\":[100]}}},\"id\":\"067ac2c2-c5f0-44b2-9841-2eccf99d6c2e\",\"type\":\"ColumnDataSource\"},{\"attributes\":{\"line_color\":{\"value\":\"red\"},\"line_width\":{\"value\":3},\"x\":{\"field\":\"x\"},\"y\":{\"field\":\"y\"}},\"id\":\"c6964d1e-4193-47eb-881c-38d2e5b93bdc\",\"type\":\"Line\"},{\"attributes\":{},\"id\":\"7d9300f8-b4cc-4d0a-84a5-0bc8c11a1a8f\",\"type\":\"BasicTickFormatter\"},{\"attributes\":{\"fill_color\":{\"value\":\"black\"},\"x\":{\"field\":\"x\"},\"y\":{\"field\":\"y\"}},\"id\":\"7d7fc0c6-7486-4a5c-ac0c-91c3c3422f57\",\"type\":\"Circle\"},{\"attributes\":{\"data_source\":{\"id\":\"067ac2c2-c5f0-44b2-9841-2eccf99d6c2e\",\"type\":\"ColumnDataSource\"},\"glyph\":{\"id\":\"7d7fc0c6-7486-4a5c-ac0c-91c3c3422f57\",\"type\":\"Circle\"},\"hover_glyph\":null,\"nonselection_glyph\":{\"id\":\"8fb71159-2ff8-4581-b3e1-990182c15421\",\"type\":\"Circle\"},\"selection_glyph\":null},\"id\":\"867d8256-6f5c-4c20-8e98-aa8f69ceea5b\",\"type\":\"GlyphRenderer\"},{\"attributes\":{\"fill_alpha\":{\"value\":0.1},\"fill_color\":{\"value\":\"#1f77b4\"},\"line_alpha\":{\"value\":0.1},\"line_color\":{\"value\":\"#1f77b4\"},\"x\":{\"field\":\"x\"},\"y\":{\"field\":\"y\"}},\"id\":\"8fb71159-2ff8-4581-b3e1-990182c15421\",\"type\":\"Circle\"},{\"attributes\":{},\"id\":\"2f70cda3-2721-430f-b9ea-0accdacf25d5\",\"type\":\"ToolEvents\"},{\"attributes\":{\"below\":[{\"id\":\"d7b180c0-cd23-41bf-819d-aeddcf956bd9\",\"type\":\"LinearAxis\"}],\"left\":[{\"id\":\"3177a90c-e899-4d33-b61e-42fce92bcbaf\",\"type\":\"LinearAxis\"}],\"plot_height\":300,\"plot_width\":630,\"renderers\":[{\"id\":\"d7b180c0-cd23-41bf-819d-aeddcf956bd9\",\"type\":\"LinearAxis\"},{\"id\":\"803afbf0-c0e1-4d28-a6f3-597716ba2575\",\"type\":\"Grid\"},{\"id\":\"3177a90c-e899-4d33-b61e-42fce92bcbaf\",\"type\":\"LinearAxis\"},{\"id\":\"06344ba7-f3c7-4312-8f6f-6964fbb33546\",\"type\":\"Grid\"},{\"id\":\"e7a7b64f-07cc-4b44-8618-44013dc2af3c\",\"type\":\"BoxAnnotation\"},{\"id\":\"867d8256-6f5c-4c20-8e98-aa8f69ceea5b\",\"type\":\"GlyphRenderer\"},{\"id\":\"6419b74a-6c0d-4356-bd03-0ad23f5232d6\",\"type\":\"GlyphRenderer\"}],\"title\":null,\"tool_events\":{\"id\":\"2f70cda3-2721-430f-b9ea-0accdacf25d5\",\"type\":\"ToolEvents\"},\"toolbar\":{\"id\":\"bbebd09e-b11c-41f4-92ee-6d20e0294152\",\"type\":\"Toolbar\"},\"x_range\":{\"id\":\"338fe3d6-436a-46e3-a682-952aa191211e\",\"type\":\"DataRange1d\"},\"y_range\":{\"id\":\"6ab27007-287a-4ed5-9ceb-5d6dcc550fe1\",\"type\":\"DataRange1d\"}},\"id\":\"36cb511f-512e-44f5-932f-a3701b957d2a\",\"subtype\":\"Figure\",\"type\":\"Plot\"},{\"attributes\":{\"plot\":{\"id\":\"36cb511f-512e-44f5-932f-a3701b957d2a\",\"subtype\":\"Figure\",\"type\":\"Plot\"}},\"id\":\"9e281bc8-11e6-497b-8a51-3517a1a8433c\",\"type\":\"SaveTool\"},{\"attributes\":{\"plot\":{\"id\":\"36cb511f-512e-44f5-932f-a3701b957d2a\",\"subtype\":\"Figure\",\"type\":\"Plot\"}},\"id\":\"f30084a1-8495-48c9-b9f1-b0cab88e198c\",\"type\":\"HelpTool\"},{\"attributes\":{\"callback\":null,\"column_names\":[\"x\",\"y\"],\"data\":{\"x\":{\"__ndarray__\":\"MqNhARb47z/xq5BPfCXwPwoV11+YwH8/+OB1NJ4u6j+UnUAMN7TuvwI9nTkwj/i/mg4SYvTd8D8upzHE0Hz6P4Iha/CxjvS/IWCvl2sc9r/wh7HgDBjIPxhfXwUXf/G/9lsYNUWx4T+PiounKkL6P4XiHNE6/vy/WFkCwlYM4L81AycenmnnP9mV7eZVxsK/tVQpYCFa8L8wNELzK++wP6hvNYGW6Na/GTzlruiq978b9nYKuJ7tP61nUWXKweo/WrRpmaFT47/lqMgGVHf0P0KcFdSIBwBA4wlsELGI4D+vhc/9qVfSv09M47hI1QlAo5i2DiSj8r8SgTPnrPTwP5AKD3ZoEsQ/8MDx3O2W1z8zkiKLHunKPx9eMUTM85g/KLMYS8mt4D/yeW3e4vTPP6t4atNROPW/2YUTzmAZ8D+qEaaB1nfuv5LiWYyX7c6/nZuf9OsK+D+04b42qdjVPwZG8ZaijNc/D7ELYtSt3D/gHC4CZEDov4k85SuoqvI/Huhf90Ksqr+3hGfOUqzfP5CTPjhXKem/u31ZcZR0z7/kkLxWjvzmv7KKfsNYNe6/gpJ4EQ5jy7/yTNz1JuXNv7H+7WuzVAPAy5bBgvjeyb+igHDcolzWP+TQDa2wp/I/0HqaRczU6r/bgPzJBcn7vxrL5y0lrfC/MDqqh/8Z8j8LFNUNlt74P18VC34N/No//YiOjl5Z+L/jW0APwgLwPyHRzDjse8m/urB9OU/zAsCCVwZfS9pvv6JuW36dtuQ/yLbpi8t//T9//7VBbpC9v4cCOncTKPY/U0kQqyuQwb8tUEqGLjzzv9LMEzwpN/c/FmZ1NG6c0b+YjH9ar3bsvxKIRq1GyNg/b6GxptwC1z+PT4uHrjbmvytM9iksStE/m+DoE+hT9L9mgjBdBvnyv78iGoBbqeG/lx0Mxuc/9j9t7ZVqclz3v1UYLCeFPvS/bSbjGLbQwD8rEI4ili/mv6irRA6xIOW/bdZ6NmUB+T81Jru8cAAAwG3pvW24qT2/TTH4IuJKAEBMtV/aW4zxP0RUTZjVYao/ckpVmKLO5j8=\",\"dtype\":\"float64\",\"shape\":[100]},\"y\":{\"__ndarray__\":\"loYIQhndU0Ck4li5dhBUQGHy3ZDwVOo/884UQwNHUED3cnwNxvlSwI6a3zk0Y17AbrE+hxn1VEA9ad5/0XBgQPuxPkZrbVnAecR12l5aW8D4aSkxUkcuQLu3rIoyolXAJhOJr1EIRkAmYaYMeUxgQNnzt6wA8WHAOu2CnV7JQ8CSZWRnRR9NQI5wOOGh2ibAvFetaRg3VMCcgmWJEtIVQE6wRal+LzzAOs6hqURIXcA2NRxdbGhSQBZrNLY3olBAXCVHh5zZR8B/NiZIE2tZQJ9DFuav5GNAvGvhOruYREBY38XXsoY2wOX/imyrBXBAi4tqXiwMV8BFmZiuQhFVQCwHZ4MnSylAACIbmQxyPUCSh2dPhOIwQJzWQ3l9IAFA0PedHbXGREAi2pPbCgM0QIWMYgaoP1rAOjSlHHUBVECHuElsW9RSwEBHqnxn9TLARld5CePZXUAUrEep7kg7QJoYRF5KZT1ALd+rJnPgQUA5SlMnO/RNwHbSS1IbMFdANCxWzT9lD8DJOG3ddLtDQIkyian0FE/AEiq93Q5JM8CDy6mP3GJMwI4hEdEmq1LAlhhIYpzDMMAgY838hlEywLKTt4bm7mfADTjcNjimL8CmhsODgew7QCleZ/ttLFdAWNUhAmGTUMA6jPD7YTFhwIEleXr8nVTAM6n+DdB8VkCOlD/EOuBeQPDeleCh00BALQ7azn8gXsCHGWrna+VTQI8ZDPB0Ky/Afely4TB2Z8BUNKvxALm5v3EkJubSxklAZGWl3ZpOYkABNDLlyechwDGu7kxvg1tAmutqlTRaJcCh2vs628lXwADeK8ps01xAbCHT4KKeNcDdE8RnWZZRwPir4SiB7D5AWi3914e6PEBxfElenG1LwMpck5QnozVAzPy9EI4kWcAOCh3MnnZXwJv5oalGyUXAhuVKMPigW0A9C/kxBedcwAUOUUsMClnAmwxEDdlBJUDDSlMU0WRLwIrdAfAPFUrA7HsCgF8LX0D6ubvolc5jwEOyXZKrBcY/mQsqPyk4ZEDZoEDSQs1VQC0fALhiLhFAH8Vbei5fTEA=\",\"dtype\":\"float64\",\"shape\":[100]}}},\"id\":\"0dedcb61-c04b-48eb-90c0-8ba16a229602\",\"type\":\"ColumnDataSource\"},{\"attributes\":{},\"id\":\"e2dac307-0ffa-46cb-a23d-31ed9d2d17d7\",\"type\":\"BasicTickFormatter\"},{\"attributes\":{\"line_alpha\":{\"value\":0.1},\"line_color\":{\"value\":\"#1f77b4\"},\"line_width\":{\"value\":3},\"x\":{\"field\":\"x\"},\"y\":{\"field\":\"y\"}},\"id\":\"cfe419e3-a89c-46a9-8c99-61b67a75386f\",\"type\":\"Line\"},{\"attributes\":{\"plot\":{\"id\":\"36cb511f-512e-44f5-932f-a3701b957d2a\",\"subtype\":\"Figure\",\"type\":\"Plot\"}},\"id\":\"a865c3e4-41a7-48f4-a788-61b90877d76d\",\"type\":\"ResetTool\"},{\"attributes\":{\"plot\":{\"id\":\"36cb511f-512e-44f5-932f-a3701b957d2a\",\"subtype\":\"Figure\",\"type\":\"Plot\"}},\"id\":\"fc53480a-bcee-4130-9b5a-27e45dab836d\",\"type\":\"WheelZoomTool\"},{\"attributes\":{\"overlay\":{\"id\":\"e7a7b64f-07cc-4b44-8618-44013dc2af3c\",\"type\":\"BoxAnnotation\"},\"plot\":{\"id\":\"36cb511f-512e-44f5-932f-a3701b957d2a\",\"subtype\":\"Figure\",\"type\":\"Plot\"}},\"id\":\"9cec9491-168e-4f8e-96b0-150a47fda1ef\",\"type\":\"BoxZoomTool\"}],\"root_ids\":[\"36cb511f-512e-44f5-932f-a3701b957d2a\"]},\"title\":\"Bokeh Application\",\"version\":\"0.12.4\"}};\n",
       "            var render_items = [{\"docid\":\"aefbf710-3d19-45f5-a324-5b741602d944\",\"elementid\":\"56348bd5-ec0b-4943-b60f-8305516b847e\",\"modelid\":\"36cb511f-512e-44f5-932f-a3701b957d2a\"}];\n",
       "            \n",
       "            Bokeh.embed.embed_items(docs_json, render_items);\n",
       "          };\n",
       "          if (document.readyState != \"loading\") fn();\n",
       "          else document.addEventListener(\"DOMContentLoaded\", fn);\n",
       "        })();\n",
       "      },\n",
       "      function(Bokeh) {\n",
       "      }\n",
       "    ];\n",
       "  \n",
       "    function run_inline_js() {\n",
       "      \n",
       "      if ((window.Bokeh !== undefined) || (force === true)) {\n",
       "        for (var i = 0; i < inline_js.length; i++) {\n",
       "          inline_js[i](window.Bokeh);\n",
       "        }if (force === true) {\n",
       "          display_loaded();\n",
       "        }} else if (Date.now() < window._bokeh_timeout) {\n",
       "        setTimeout(run_inline_js, 100);\n",
       "      } else if (!window._bokeh_failed_load) {\n",
       "        console.log(\"Bokeh: BokehJS failed to load within specified timeout.\");\n",
       "        window._bokeh_failed_load = true;\n",
       "      } else if (force !== true) {\n",
       "        var cell = $(document.getElementById(\"56348bd5-ec0b-4943-b60f-8305516b847e\")).parents('.cell').data().cell;\n",
       "        cell.output_area.append_execute_result(NB_LOAD_WARNING)\n",
       "      }\n",
       "  \n",
       "    }\n",
       "  \n",
       "    if (window._bokeh_is_loading === 0) {\n",
       "      console.log(\"Bokeh: BokehJS loaded, going straight to plotting\");\n",
       "      run_inline_js();\n",
       "    } else {\n",
       "      load_libs(js_urls, function() {\n",
       "        console.log(\"Bokeh: BokehJS plotting callback run at\", now());\n",
       "        run_inline_js();\n",
       "      });\n",
       "    }\n",
       "  }(this));\n",
       "</script>"
      ]
     },
     "metadata": {},
     "output_type": "display_data"
    }
   ],
   "source": [
    "regr = linear_model.LinearRegression()\n",
    "regr.fit(X, y)\n",
    "\n",
    "fig = bk.figure(plot_width=630, plot_height=300, title=None)\n",
    "fig.circle(X[::1000, 0], y[::1000],  color='black')\n",
    "fig.line(X[::1000, 0], regr.predict(X[::1000]), color='red', line_width=3)\n",
    "fig.grid.grid_line_color = None\n",
    "fig.axis.minor_tick_out = 0\n",
    "bk.show(fig)"
   ]
  },
  {
   "cell_type": "markdown",
   "metadata": {},
   "source": [
    "### 2.3 Estimating Coefficients"
   ]
  },
  {
   "cell_type": "markdown",
   "metadata": {},
   "source": [
    "Generally speaking, coefficients are estimated using the **least squares criterion**, which finds the line that minimizes the **sum of squared residuals** (or \"sum of squared errors\"):"
   ]
  },
  {
   "cell_type": "markdown",
   "metadata": {},
   "source": [
    "<img src=\"images/estimating_coefficients.png\">"
   ]
  },
  {
   "cell_type": "markdown",
   "metadata": {},
   "source": [
    "Where:\n",
    "- The black dots are the **observed values** of x and y.\n",
    "- The blue line is our **least squares line**.\n",
    "- The red lines are the **residuals**, which are the distances between the observed values and the least squares line.\n",
    "\n",
    "How do the model coefficients relate to the least squares line?\n",
    "- $\\beta_0$ is the **intercept** (the value of $y$ when $x$=0)\n",
    "- $\\beta_1$ is the **slope** (the change in $y$ divided by change in $x$)\n",
    "\n",
    "Here is a graphical representation:"
   ]
  },
  {
   "cell_type": "markdown",
   "metadata": {},
   "source": [
    "<img src=\"images/slope_intercept.png\">"
   ]
  },
  {
   "cell_type": "markdown",
   "metadata": {},
   "source": [
    "Different choices of $\\beta_0$ and $\\beta_1$ give us different hypothesis. How do I choose $\\beta_0$ and $\\beta_1$ in order to get the best regression line? That is we want to find the best couple of $\\beta_0$ and $\\beta_1$ that minimizes the difference between the output of our hypothesis and the target. Using the notation above:\n",
    "$$min_{\\beta_0, \\beta_1} \\quad J(\\beta_0, \\beta_1) = \\frac{1}{2n}\\sum_i^n (h(x_i)-y_i)^2$$\n",
    "the second part of the expression is the **cost function** (*mean squared error* in this case) and it depends on $\\beta_0$ and $\\beta_1$, so changing their values changes the cost. Why we use the squared error? It is one of the most used functions, but there are many other. We will see why it is useful. \n",
    "\n",
    "To recap, we have:\n",
    "- an *hypothesis*: the equation of the line\n",
    "- *parameters* to learn: $\\beta_0$ and $\\beta_1$\n",
    "- *cost function*: mean squared error\n",
    "- *goal*: minimize error\n",
    "\n",
    "In order to ease the discussion we will make an example with a single parameter hypothesis:  $h(x) = \\beta_1x$; we are going to find a value for $\\beta_1$ that minimize $J(\\beta_1) = \\frac{1}{2n}\\sum_i^n (h(x_i)-y_i)^2$. How does varying the parameter affect the cost function? How varies the error?"
   ]
  },
  {
   "cell_type": "markdown",
   "metadata": {},
   "source": [
    "<img src=\"images/beta_cost.jpg\" alt=\"\" height=\"600\" width=\"600\">"
   ]
  },
  {
   "cell_type": "markdown",
   "metadata": {},
   "source": [
    "What happens if we keep both the coefficients $\\beta_0$ and $\\beta_1$? We have a quadratic bowl, such as the one in the picture below. "
   ]
  },
  {
   "cell_type": "markdown",
   "metadata": {},
   "source": [
    "<img src=\"images/quadratic_bowl.png\" alt=\"\" height=\"600\" width=\"600\">"
   ]
  },
  {
   "cell_type": "markdown",
   "metadata": {},
   "source": [
    "### 2.4 Learning algorithm"
   ]
  },
  {
   "cell_type": "markdown",
   "metadata": {},
   "source": [
    "How do we learn the parameters? We have a quadratic surface, how about starting with some random value for the parameters $\\beta_0$, $\\beta_1$ and then keep changing them until the cost function reaches its minimum? There could be different **local minima** as well as a **global minima**. Changing the initialization slightly changes the outcome of the optimization. "
   ]
  },
  {
   "cell_type": "markdown",
   "metadata": {},
   "source": [
    "<img src=\"images/gradient_descent.png\" alt=\"\" height=\"600\" width=\"600\">"
   ]
  },
  {
   "cell_type": "markdown",
   "metadata": {},
   "source": [
    "What is the update step? We are moving in the direction of the slove, using the derivative of the error function. How further we move? By a fixed proportion of this derivative, $\\alpha$ called the *learning rate* \n",
    "\n",
    "$$\\beta_i = \\beta_i - \\alpha \\frac{\\delta}{\\delta \\beta_i} J(\\beta_0, \\beta_1) \\quad i=0,1$$\n",
    "\n",
    "How do we apply gradient descent to minimize the mean squared error cost function? We plug our $J$ into the parameter update function and we take the derivative. \n",
    "\n",
    "$$\\frac{\\delta}{\\delta \\beta_0} J(\\beta_0, \\beta_1) =  \\frac{\\delta}{\\delta \\beta_0}\\frac{1}{2n}\\sum_i^n [(\\beta_0 + \\beta_1 x_i)-y_i]^2 = \\frac{1}{n} \\sum_i^n (h(x_i)-y_i)$$\n",
    "$$\\frac{\\delta}{\\delta \\beta_1} J(\\beta_0, \\beta_1) =  \\frac{\\delta}{\\delta \\beta_1}\\frac{1}{2n}\\sum_i^n [(\\beta_0 + \\beta_1 x_i)-y_i]^2 = \\frac{1}{n} \\sum_i^n (h(x_i)-y_i) x_i$$\n",
    "\n",
    "Actually the graph for the cost function for the linear regression is a convex function that always return the global minima. "
   ]
  },
  {
   "cell_type": "markdown",
   "metadata": {},
   "source": [
    "### 2.5 Multiple features"
   ]
  },
  {
   "cell_type": "markdown",
   "metadata": {},
   "source": [
    "At the moment we are trying to predict an outcome based on a single input variable (or feature). What if we have multiple variables as input? Does the accuracy of the model improve?"
   ]
  },
  {
   "cell_type": "markdown",
   "metadata": {},
   "source": [
    "<img src=\"images/trainset_multiple_example.png\" alt=\"\" height=\"600\" width=\"600\">"
   ]
  },
  {
   "cell_type": "markdown",
   "metadata": {},
   "source": [
    "In this case I can call the first four features as $x_1, x_2, x_3, x_4$ and the target (the price) is $y$. Here we introduce another concept in ML. The concept of dimensionality. The dimensionality of a dataset is the number of features that it has. We will denote the number of features of a dataset with the letter $p$. Here $p = 4$ (whereas in the previous example $p=1$). To simplify, $n$ is the number of rows in the table, while $p$ is the number of columns of the table.\n",
    "\n",
    "If we look at the previous notation, we can upgrade it so that now $x_i^{(j)}$ denotes the $i^{th}$ example and the $j^{th}$ feature. With multiple features the table is a matrix and each example $x_i$ is a $p$ dimensional vector. Talking again about notation, if we have multiple features our hypothesis become: \n",
    "\n",
    "$$ h(x) = \\beta_0 + \\beta_1x^{(1)} + \\beta_2x^{(2)} + \\ldots + \\beta_px^{(p)}$$\n",
    "\n",
    "Since it is no longer possible to use such notation to express the computation of the hypothesis we switch to the vectorized notation. We use a fake $x^{(0)}$ for the intercept  that we set it to $1$ for each example so that our notation becomes:\n",
    "\n",
    "$$ h(x) = \\beta_0x^{(0)} + \\beta_1x^{(1)} + \\beta_2x^{(2)} + \\ldots + \\beta_px^{(p)}$$ \n",
    "\n",
    "where $x_i^{(0)} = 1 \\quad \\forall i$. This way we can simplify the expression of the hypothesis as a dot product betwee the input and the paramteres:\n",
    "\n",
    "$$ h(X) = \\beta^TX$$ \n",
    "\n",
    "How does the update rule for the gradient descent algorithm? We use vector notation for the parameter $\\beta$ that now denotes a $p$ dimensional vector, lile $x$. Since we added our fake $x_i^{(0)}$ we are going to use a single update rule for each parameter:\n",
    "\n",
    "$$\\beta_j = \\beta_j - \\alpha \\frac{\\delta}{\\delta \\beta_j} J(\\beta) = \\beta_j - \\alpha \\frac{1}{n} \\sum_i^n (h(x_i)-y_i) x_j \\quad \\forall i$$\n",
    "\n",
    "**Problems** with gradient descent:\n",
    "- you need to find the correct learning rate\n",
    "- you have to scale data to use it effectively\n",
    "- you need many iterations"
   ]
  },
  {
   "cell_type": "markdown",
   "metadata": {},
   "source": [
    "### 2.6 Normal equation"
   ]
  },
  {
   "cell_type": "markdown",
   "metadata": {},
   "source": [
    "Instead of gradient descent we can solve for the vector of parameters analytically. Let's see how we can do it. We have switched to vectorized notation. Now the input is no longer a vector of length $n$ but a $n \\times p$ matrix. We can rewrite our hypothesis in matrix notation as:\n",
    "\n",
    "$$Y = XB$$\n",
    "\n",
    "where $Y$ is a $n$-dimensional vector and $B$ is a $p$-dimensional vector. Can we solve directly for $B$? Yes, we can obtain it from the residual sum of squares that we see at the beginning. \n",
    "\n",
    "$$RSS(\\beta) = \\sum_{i=1}^n (y_i - h(x_i))^2 = \\sum_{i=1}^n (y_i - \\sum_{j=1}^p(x_{ij}\\beta_j))^2 $$\n",
    "\n",
    "How to minimize this? If we switch to the matrix notation above we obtain the following equation:\n",
    "\n",
    "$$RSS(\\beta) = (y - X\\beta)^T(y - X\\beta)$$\n",
    "\n",
    "This is a quadratic function in the $p+1$ parameters. Differentiating with respect to $\\beta$ we obtain:\n",
    "\n",
    "$$\\frac{\\delta RSS(\\beta)}{\\delta \\beta} = -2X^T(y - X\\beta)$$\n",
    "\n",
    "Assuming (for the moment) that X has full column rank, and hence $X^T X$ is positive definite, if we set this derivative to zero we get:\n",
    "\n",
    "$$X^T(y - X\\beta) = 0$$\n",
    "\n",
    "we can obtain the solution: \n",
    "\n",
    "$$\\hat B = (X^T X)^{−1} X^T Y$$\n",
    "\n",
    "It might happen that the columns of X are not linearly independent, so that X is not of full rank. This would occur, for example, if two of the inputs were perfectly correlated, (e.g., x 2 = 3x 1 ). Then $X^T X$ is singular and the least squares coefficients $\\beta$ are not uniquely defined. This implies that the matrix is not invertible. It is possible to remove redundant features or use pseudo-inverse.\n",
    "\n",
    "**Problems** with Normal equation:\n",
    "- computing $(X^T X)^{−1}$ is done in $O(n^3)$\n",
    "- slow if $n$ is large"
   ]
  },
  {
   "cell_type": "markdown",
   "metadata": {},
   "source": [
    "## 3 Nearest Neighbors"
   ]
  },
  {
   "cell_type": "markdown",
   "metadata": {},
   "source": [
    "It is tempting to ask if there is an ideal $h(x)$. In particular whatis a good value of $h(x)$ at anly selected value of $x$? If the dataset has some noise, there can be many $y$ values for each $x$. An approximation for our target function can thus be:\n",
    "\n",
    "$$ h(x) = E(y \\mid x=v) $$\n",
    "\n",
    "So the correct value might be the expected value of the target at that particular point. The case of linear regression is a particular case where we might have a single value at each data point. This is an ideal form of *regression function*. $x$ can also be a vector. It is *ideal* because is the function that minimizes $E[(Y-g(x))^2 \\mid x=v]$ over all function $g$ at all points $x$. We are still making mistakes, called *irreducible error* (remember the noise in the measurements?). \n",
    "\n",
    "Typically we don't have many (sometimes we don't even have a value for each point), so we cannot compute $E(y \\mid x=v)$! What can we do? We can relax the definition and let\n",
    "\n",
    "$$ \\hat h(x) = Ave(y \\mid x \\in \\mathcal{N}(x)) $$\n",
    "\n",
    "where $\\mathcal{N}(x)$ is some neighborhood of $x$.\n",
    "\n",
    "This algorithm is called **Nearest Neighbour (NN)** (or local averaging). "
   ]
  },
  {
   "cell_type": "code",
   "execution_count": 7,
   "metadata": {
    "collapsed": false
   },
   "outputs": [
    {
     "data": {
      "text/html": [
       "\n",
       "\n",
       "    <div class=\"bk-root\">\n",
       "        <div class=\"bk-plotdiv\" id=\"9689a289-9638-4d18-b9e7-0703dee81226\"></div>\n",
       "    </div>\n",
       "<script type=\"text/javascript\">\n",
       "  \n",
       "  (function(global) {\n",
       "    function now() {\n",
       "      return new Date();\n",
       "    }\n",
       "  \n",
       "    var force = false;\n",
       "  \n",
       "    if (typeof (window._bokeh_onload_callbacks) === \"undefined\" || force === true) {\n",
       "      window._bokeh_onload_callbacks = [];\n",
       "      window._bokeh_is_loading = undefined;\n",
       "    }\n",
       "  \n",
       "  \n",
       "    \n",
       "    if (typeof (window._bokeh_timeout) === \"undefined\" || force === true) {\n",
       "      window._bokeh_timeout = Date.now() + 0;\n",
       "      window._bokeh_failed_load = false;\n",
       "    }\n",
       "  \n",
       "    var NB_LOAD_WARNING = {'data': {'text/html':\n",
       "       \"<div style='background-color: #fdd'>\\n\"+\n",
       "       \"<p>\\n\"+\n",
       "       \"BokehJS does not appear to have successfully loaded. If loading BokehJS from CDN, this \\n\"+\n",
       "       \"may be due to a slow or bad network connection. Possible fixes:\\n\"+\n",
       "       \"</p>\\n\"+\n",
       "       \"<ul>\\n\"+\n",
       "       \"<li>re-rerun `output_notebook()` to attempt to load from CDN again, or</li>\\n\"+\n",
       "       \"<li>use INLINE resources instead, as so:</li>\\n\"+\n",
       "       \"</ul>\\n\"+\n",
       "       \"<code>\\n\"+\n",
       "       \"from bokeh.resources import INLINE\\n\"+\n",
       "       \"output_notebook(resources=INLINE)\\n\"+\n",
       "       \"</code>\\n\"+\n",
       "       \"</div>\"}};\n",
       "  \n",
       "    function display_loaded() {\n",
       "      if (window.Bokeh !== undefined) {\n",
       "        document.getElementById(\"9689a289-9638-4d18-b9e7-0703dee81226\").textContent = \"BokehJS successfully loaded.\";\n",
       "      } else if (Date.now() < window._bokeh_timeout) {\n",
       "        setTimeout(display_loaded, 100)\n",
       "      }\n",
       "    }\n",
       "  \n",
       "    function run_callbacks() {\n",
       "      window._bokeh_onload_callbacks.forEach(function(callback) { callback() });\n",
       "      delete window._bokeh_onload_callbacks\n",
       "      console.info(\"Bokeh: all callbacks have finished\");\n",
       "    }\n",
       "  \n",
       "    function load_libs(js_urls, callback) {\n",
       "      window._bokeh_onload_callbacks.push(callback);\n",
       "      if (window._bokeh_is_loading > 0) {\n",
       "        console.log(\"Bokeh: BokehJS is being loaded, scheduling callback at\", now());\n",
       "        return null;\n",
       "      }\n",
       "      if (js_urls == null || js_urls.length === 0) {\n",
       "        run_callbacks();\n",
       "        return null;\n",
       "      }\n",
       "      console.log(\"Bokeh: BokehJS not loaded, scheduling load and callback at\", now());\n",
       "      window._bokeh_is_loading = js_urls.length;\n",
       "      for (var i = 0; i < js_urls.length; i++) {\n",
       "        var url = js_urls[i];\n",
       "        var s = document.createElement('script');\n",
       "        s.src = url;\n",
       "        s.async = false;\n",
       "        s.onreadystatechange = s.onload = function() {\n",
       "          window._bokeh_is_loading--;\n",
       "          if (window._bokeh_is_loading === 0) {\n",
       "            console.log(\"Bokeh: all BokehJS libraries loaded\");\n",
       "            run_callbacks()\n",
       "          }\n",
       "        };\n",
       "        s.onerror = function() {\n",
       "          console.warn(\"failed to load library \" + url);\n",
       "        };\n",
       "        console.log(\"Bokeh: injecting script tag for BokehJS library: \", url);\n",
       "        document.getElementsByTagName(\"head\")[0].appendChild(s);\n",
       "      }\n",
       "    };var element = document.getElementById(\"9689a289-9638-4d18-b9e7-0703dee81226\");\n",
       "    if (element == null) {\n",
       "      console.log(\"Bokeh: ERROR: autoload.js configured with elementid '9689a289-9638-4d18-b9e7-0703dee81226' but no matching script tag was found. \")\n",
       "      return false;\n",
       "    }\n",
       "  \n",
       "    var js_urls = [];\n",
       "  \n",
       "    var inline_js = [\n",
       "      function(Bokeh) {\n",
       "        (function() {\n",
       "          var fn = function() {\n",
       "            var docs_json = {\"c1bfc11b-fac8-402c-b75d-9c98b7d45cb1\":{\"roots\":{\"references\":[{\"attributes\":{\"below\":[{\"id\":\"98c23964-1572-40aa-92d0-67c587591e45\",\"type\":\"LinearAxis\"}],\"left\":[{\"id\":\"add56fcd-7c02-41c7-ab52-db2392c54ed6\",\"type\":\"LinearAxis\"}],\"plot_height\":300,\"plot_width\":630,\"renderers\":[{\"id\":\"98c23964-1572-40aa-92d0-67c587591e45\",\"type\":\"LinearAxis\"},{\"id\":\"bbaa4340-d727-4bc3-80a9-7845c6ac430a\",\"type\":\"Grid\"},{\"id\":\"add56fcd-7c02-41c7-ab52-db2392c54ed6\",\"type\":\"LinearAxis\"},{\"id\":\"9a9b8311-0cd5-420b-a907-bd9a58d47162\",\"type\":\"Grid\"},{\"id\":\"3bbe5acc-2b79-4fba-a3dd-7f1b47ef7ce4\",\"type\":\"BoxAnnotation\"},{\"id\":\"f2fb0e29-09db-403d-a14d-4fe9e34a78b6\",\"type\":\"GlyphRenderer\"},{\"id\":\"453cfdc2-904b-4d8e-aac2-234c8682bc42\",\"type\":\"GlyphRenderer\"}],\"title\":null,\"tool_events\":{\"id\":\"6c196e67-1417-45a3-acfc-b57f3ac1e0fe\",\"type\":\"ToolEvents\"},\"toolbar\":{\"id\":\"896cc60b-a2b6-473f-b317-c33c122b7939\",\"type\":\"Toolbar\"},\"x_range\":{\"id\":\"9d68ad3d-ccbf-443e-984c-7341fab3090d\",\"type\":\"DataRange1d\"},\"y_range\":{\"id\":\"8e5bb93d-5b51-46a1-ac62-c361dfd683b5\",\"type\":\"DataRange1d\"}},\"id\":\"4b35bd40-4f7c-4df5-8b18-323a0a442801\",\"subtype\":\"Figure\",\"type\":\"Plot\"},{\"attributes\":{\"dimension\":1,\"grid_line_color\":{\"value\":null},\"plot\":{\"id\":\"4b35bd40-4f7c-4df5-8b18-323a0a442801\",\"subtype\":\"Figure\",\"type\":\"Plot\"},\"ticker\":{\"id\":\"49143521-8238-4b00-a130-d75371532ffa\",\"type\":\"BasicTicker\"}},\"id\":\"9a9b8311-0cd5-420b-a907-bd9a58d47162\",\"type\":\"Grid\"},{\"attributes\":{\"plot\":{\"id\":\"4b35bd40-4f7c-4df5-8b18-323a0a442801\",\"subtype\":\"Figure\",\"type\":\"Plot\"}},\"id\":\"3616fc98-d128-4434-94be-40761f26f8d9\",\"type\":\"ResetTool\"},{\"attributes\":{\"callback\":null},\"id\":\"9d68ad3d-ccbf-443e-984c-7341fab3090d\",\"type\":\"DataRange1d\"},{\"attributes\":{\"fill_color\":{\"value\":\"black\"},\"x\":{\"field\":\"x\"},\"y\":{\"field\":\"y\"}},\"id\":\"09367fc1-998c-4ecb-9195-6eae701c4d74\",\"type\":\"Circle\"},{\"attributes\":{\"plot\":{\"id\":\"4b35bd40-4f7c-4df5-8b18-323a0a442801\",\"subtype\":\"Figure\",\"type\":\"Plot\"}},\"id\":\"0655cbfc-160a-4c65-8b3f-2986287b9889\",\"type\":\"SaveTool\"},{\"attributes\":{\"plot\":{\"id\":\"4b35bd40-4f7c-4df5-8b18-323a0a442801\",\"subtype\":\"Figure\",\"type\":\"Plot\"}},\"id\":\"518d30fc-9f6a-4adb-a80f-b065c2e3c57f\",\"type\":\"WheelZoomTool\"},{\"attributes\":{\"active_drag\":\"auto\",\"active_scroll\":\"auto\",\"active_tap\":\"auto\",\"tools\":[{\"id\":\"88ec6786-eb6c-4b78-aea2-5915bbe73cda\",\"type\":\"PanTool\"},{\"id\":\"518d30fc-9f6a-4adb-a80f-b065c2e3c57f\",\"type\":\"WheelZoomTool\"},{\"id\":\"755f4f90-5f42-4b2b-ae94-aa3a03c4a59f\",\"type\":\"BoxZoomTool\"},{\"id\":\"0655cbfc-160a-4c65-8b3f-2986287b9889\",\"type\":\"SaveTool\"},{\"id\":\"3616fc98-d128-4434-94be-40761f26f8d9\",\"type\":\"ResetTool\"},{\"id\":\"942b9fd8-e0ba-4e3d-9740-7fbea3c233a4\",\"type\":\"HelpTool\"}]},\"id\":\"896cc60b-a2b6-473f-b317-c33c122b7939\",\"type\":\"Toolbar\"},{\"attributes\":{\"overlay\":{\"id\":\"3bbe5acc-2b79-4fba-a3dd-7f1b47ef7ce4\",\"type\":\"BoxAnnotation\"},\"plot\":{\"id\":\"4b35bd40-4f7c-4df5-8b18-323a0a442801\",\"subtype\":\"Figure\",\"type\":\"Plot\"}},\"id\":\"755f4f90-5f42-4b2b-ae94-aa3a03c4a59f\",\"type\":\"BoxZoomTool\"},{\"attributes\":{\"data_source\":{\"id\":\"d3bb68b9-b8a1-4483-b204-deb8f3c61723\",\"type\":\"ColumnDataSource\"},\"glyph\":{\"id\":\"09367fc1-998c-4ecb-9195-6eae701c4d74\",\"type\":\"Circle\"},\"hover_glyph\":null,\"nonselection_glyph\":{\"id\":\"5485d312-6ede-455f-a876-9d38ae3005eb\",\"type\":\"Circle\"},\"selection_glyph\":null},\"id\":\"f2fb0e29-09db-403d-a14d-4fe9e34a78b6\",\"type\":\"GlyphRenderer\"},{\"attributes\":{\"line_alpha\":{\"value\":0.1},\"line_color\":{\"value\":\"#1f77b4\"},\"line_width\":{\"value\":3},\"x\":{\"field\":\"x\"},\"y\":{\"field\":\"y\"}},\"id\":\"1aa8868a-802a-4242-86e9-409dbb9e048c\",\"type\":\"Line\"},{\"attributes\":{},\"id\":\"1f33043d-b943-4f37-ad7b-8a0a2defdaf9\",\"type\":\"BasicTicker\"},{\"attributes\":{\"callback\":null,\"column_names\":[\"x\",\"y\"],\"data\":{\"x\":{\"__ndarray__\":\"sf7ta7NUA8C6sH05T/MCwDUmu7xwAADAheIc0Tr+/L/bgPzJBcn7vwI9nTkwj/i//YiOjl5Z+L8ZPOWu6Kr3v23tlWpyXPe/IWCvl2sc9r+reGrTUTj1v4Iha/CxjvS/m+DoE+hT9L9VGCwnhT70vy1QSoYuPPO/ZoIwXQb58r+jmLYOJKPyvxhfXwUXf/G/GsvnLSWt8L+1VClgIVrwv5SdQAw3tO6/qhGmgdZ37r+yin7DWDXuv5iMf1qvduy/0HqaRczU6r+Qkz44Vynpv+AcLgJkQOi/5JC8Vo785r+PT4uHrjbmvysQjiKWL+a/qKtEDrEg5b9atGmZoVPjv78iGoBbqeG/WFkCwlYM4L+obzWBlujWv6+Fz/2pV9K/FmZ1NG6c0b+7fVlxlHTPv5LiWYyX7c6/8kzc9Sblzb+CkngRDmPLv8uWwYL43sm/IdHMOOx7yb/Zle3mVcbCv1NJEKsrkMG/f/+1QW6Qvb8e6F/3Qqyqv4JXBl9L2m+/bem9bbipPb8KFddfmMB/Px9eMUTM85g/RFRNmNVhqj8wNELzK++wP20m4xi20MA/kAoPdmgSxD/wh7HgDBjIPzOSIose6co/8nlt3uL0zz8rTPYpLErRP7Thvjap2NU/ooBw3KJc1j9vobGm3ALXPwZG8ZaijNc/8MDx3O2W1z8SiEatRsjYP18VC34N/No/D7ELYtSt3D+3hGfOUqzfP+MJbBCxiOA/KLMYS8mt4D/2Wxg1RbHhP6JuW36dtuQ/ckpVmKLO5j81AycenmnnP/jgdTSeLuo/rWdRZcrB6j8b9nYKuJ7tPzKjYQEW+O8/41tAD8IC8D/ZhRPOYBnwP/GrkE98JfA/mg4SYvTd8D8SgTPnrPTwP0y1X9pbjPE/MDqqh/8Z8j/k0A2tsKfyP4k85SuoqvI/5ajIBlR39D+HAjp3Eyj2P5cdDMbnP/Y/0swTPCk39z+dm5/06wr4PwsU1Q2W3vg/bdZ6NmUB+T+PiounKkL6Py6nMcTQfPo/yLbpi8t//T9CnBXUiAcAQE0x+CLiSgBAT0zjuEjVCUA=\",\"dtype\":\"float64\",\"shape\":[100]},\"y\":{\"__ndarray__\":\"+jOWT/uWZcCed1VZF79nwL5+23yvkmLAOwI6J2PYYMC+sAutyHlhwGb3HWyHD13AFdovYjvmX8CCIGkIzY1VwCIDOT0R01rAnwCGbwIaYMCIJAENCedUwBYMlO0UN1fAor9cS878XMDGAB30ePVbwFOP52yUHV7ATlMA31kvUMCWdOFMc81VwKNA6f9aSFTAIuY1CreZTsATyjc0zZdRwJ8zom2DYVTAzETk1eP6UMBoo0486SBSwBaomE9MT0vAPSP0AwZRTsCRQCkASTJSwOo3yW7ib0rASGSAc/QSTsACYoKv871IwP67MQTFJlHAFmYcEQr8RcArW7wbW6pDwDWPtIFExTrADmN2H8LyQsAgjbGh8is/wPobBo/hiDjAfZbe/ORhK8BSYSi7CEQ2wAjKoyR/LSfAa3+z36uUK8DXxdmocWw2wGqkM5f45zLAVnQrgEgpN8Du24msJ88xwJYYNjQ4FhTAs8kDemiRJsAaVY4QPCMjwPtN0esS8fS/GEQBAMQjFMDqfWU8WYsBwMLjil7yRCFAMyhfPkwBKsAyOfWS0GoYQM7iGE6uXBNAQN5/IacAI0CtKWbtbAEyQAtvJTNiyzdAtx5BZ6MEQ0A+RXz7i887QGFkcgb1yTVA2U27qj9INkBI9Yu7h6E/QE0DOfG/FTdAqmh6iq90N0BbZclPUk5AQH3Ano21jT5AcBrHbx2YS0ApvkSyWj0zQFOoatcepytANifIu5ZbQ0Di6Nm3G/dFQI+tEnDGtUZADYybb55dUUBQpkooI1ZMQOjuIu9DBVJAq4r7BJS0TkBERRhNfItYQGcKh4phlFRA0M0MvLQQT0DQn5G4zp9XQJ2PZCnYslZAODP68YI8VkCohAtlTyhQQO+EmI9fslJAaxQmg76IVUATuO/aXARYQPyABLgIwlFAH5kdPIP4VkA2WoMRMKhaQAVmknx0g11Ag3eEWQ5BXUAyWaTN61xdQNPTkq6KG1pA+lWq8C6ZYEAwOr4yq8NgQKQw9TX+A2JAa5SjFP8pYkAehI9itlBlQLsa+IwhLmNAEpBMO9xub0A=\",\"dtype\":\"float64\",\"shape\":[100]}}},\"id\":\"f5e2e2b0-ef44-49ec-b4db-2e6e8a9f6479\",\"type\":\"ColumnDataSource\"},{\"attributes\":{\"plot\":{\"id\":\"4b35bd40-4f7c-4df5-8b18-323a0a442801\",\"subtype\":\"Figure\",\"type\":\"Plot\"}},\"id\":\"88ec6786-eb6c-4b78-aea2-5915bbe73cda\",\"type\":\"PanTool\"},{\"attributes\":{\"plot\":{\"id\":\"4b35bd40-4f7c-4df5-8b18-323a0a442801\",\"subtype\":\"Figure\",\"type\":\"Plot\"}},\"id\":\"942b9fd8-e0ba-4e3d-9740-7fbea3c233a4\",\"type\":\"HelpTool\"},{\"attributes\":{},\"id\":\"6c196e67-1417-45a3-acfc-b57f3ac1e0fe\",\"type\":\"ToolEvents\"},{\"attributes\":{},\"id\":\"578bbbeb-4520-4305-89f4-6c7fbd9e8e36\",\"type\":\"BasicTickFormatter\"},{\"attributes\":{},\"id\":\"093faee8-198f-4061-85b0-ce6b5fa00fc1\",\"type\":\"BasicTickFormatter\"},{\"attributes\":{\"grid_line_color\":{\"value\":null},\"plot\":{\"id\":\"4b35bd40-4f7c-4df5-8b18-323a0a442801\",\"subtype\":\"Figure\",\"type\":\"Plot\"},\"ticker\":{\"id\":\"1f33043d-b943-4f37-ad7b-8a0a2defdaf9\",\"type\":\"BasicTicker\"}},\"id\":\"bbaa4340-d727-4bc3-80a9-7845c6ac430a\",\"type\":\"Grid\"},{\"attributes\":{\"fill_alpha\":{\"value\":0.1},\"fill_color\":{\"value\":\"#1f77b4\"},\"line_alpha\":{\"value\":0.1},\"line_color\":{\"value\":\"#1f77b4\"},\"x\":{\"field\":\"x\"},\"y\":{\"field\":\"y\"}},\"id\":\"5485d312-6ede-455f-a876-9d38ae3005eb\",\"type\":\"Circle\"},{\"attributes\":{\"line_color\":{\"value\":\"red\"},\"line_width\":{\"value\":3},\"x\":{\"field\":\"x\"},\"y\":{\"field\":\"y\"}},\"id\":\"5cf7142c-e74a-4d85-8345-1f4d6763b247\",\"type\":\"Line\"},{\"attributes\":{\"callback\":null,\"column_names\":[\"x\",\"y\"],\"data\":{\"x\":{\"__ndarray__\":\"MqNhARb47z/xq5BPfCXwPwoV11+YwH8/+OB1NJ4u6j+UnUAMN7TuvwI9nTkwj/i/mg4SYvTd8D8upzHE0Hz6P4Iha/CxjvS/IWCvl2sc9r/wh7HgDBjIPxhfXwUXf/G/9lsYNUWx4T+PiounKkL6P4XiHNE6/vy/WFkCwlYM4L81AycenmnnP9mV7eZVxsK/tVQpYCFa8L8wNELzK++wP6hvNYGW6Na/GTzlruiq978b9nYKuJ7tP61nUWXKweo/WrRpmaFT47/lqMgGVHf0P0KcFdSIBwBA4wlsELGI4D+vhc/9qVfSv09M47hI1QlAo5i2DiSj8r8SgTPnrPTwP5AKD3ZoEsQ/8MDx3O2W1z8zkiKLHunKPx9eMUTM85g/KLMYS8mt4D/yeW3e4vTPP6t4atNROPW/2YUTzmAZ8D+qEaaB1nfuv5LiWYyX7c6/nZuf9OsK+D+04b42qdjVPwZG8ZaijNc/D7ELYtSt3D/gHC4CZEDov4k85SuoqvI/Huhf90Ksqr+3hGfOUqzfP5CTPjhXKem/u31ZcZR0z7/kkLxWjvzmv7KKfsNYNe6/gpJ4EQ5jy7/yTNz1JuXNv7H+7WuzVAPAy5bBgvjeyb+igHDcolzWP+TQDa2wp/I/0HqaRczU6r/bgPzJBcn7vxrL5y0lrfC/MDqqh/8Z8j8LFNUNlt74P18VC34N/No//YiOjl5Z+L/jW0APwgLwPyHRzDjse8m/urB9OU/zAsCCVwZfS9pvv6JuW36dtuQ/yLbpi8t//T9//7VBbpC9v4cCOncTKPY/U0kQqyuQwb8tUEqGLjzzv9LMEzwpN/c/FmZ1NG6c0b+YjH9ar3bsvxKIRq1GyNg/b6GxptwC1z+PT4uHrjbmvytM9iksStE/m+DoE+hT9L9mgjBdBvnyv78iGoBbqeG/lx0Mxuc/9j9t7ZVqclz3v1UYLCeFPvS/bSbjGLbQwD8rEI4ili/mv6irRA6xIOW/bdZ6NmUB+T81Jru8cAAAwG3pvW24qT2/TTH4IuJKAEBMtV/aW4zxP0RUTZjVYao/ckpVmKLO5j8=\",\"dtype\":\"float64\",\"shape\":[100]},\"y\":{\"__ndarray__\":\"HKyN58TfNkAqcCmmHGtLQKfLccn0vDHAnJ8AJl76UUCsp1WUWqljwKIHgeqGVlTA9tbCX+HeWECBjYHasbNiQMvjOqK1F2PAThyQJb67YcBZ4Wa5fTQwwL2avafZXlzAbqrnAhfFU0CcutvIKJ5lQFr5kqGx7WbA/ai+4iWOQcByzvurxLlTQIb6JFZ6ODzAq67P/ymQWcCuaCNKwAszQLyF4yx2oSzANppNmW8ZTMB4JDaGTshmQJD3pI1nKjpAiGLwGul6QsAsCuZOEmJJQLbz+3ePA2BALD6q3e1UIsBvuY2rU2w5QIxSsCAlTHFANOunMO9eQcBX3cFVYDFCQBCS7xah2v2/MrpXblTTQ8A7cj5YFnQ+wDrbJxVw3yJAf5IsVPcDQUBR9iclGOtSQGJbQcoLklbAKRi7qq96VEDGtPWytmhbwBDpl7XbMiZAj2cryny2ZEA8zFgguD4dQA4lMw3Sp0JAkXU7KBQKREB+MWh9I/c3wAFQEbuxCVZATYR9CJcUNMBJbCk9U+05QOiHOMpwYFfANjzQ/RnrRMAalzQSgA47wGahuGE0QUzA9QftGJJCSsAufSsCT9EzQF+C1gciIGPAKdtpRq9mRcB6l4qBNQE7QGANk/m4lVdA8JzBNdyXWcCHjH6vBBFfwGCdfP3y1VnAcOBJh7WLX0Damn+bvFdSQLj6ywMM2ynACZ5AoSPlXsA2E/oDqF9JQO622A9LPUjA/NDJp/X7acA5oAWyoS8yQDOe6hzkMlRAT+338HNiZ0DZMTKDvawxQJ4hHQ/VS1pApHlcEj2oN8AG+Iht9PlfwK3rJrF5p2FAPDlm1osBHkA3Yu/Y6WhWwCbbCjvnbDBAbed7Zn1fS0DQ+9q3LoNVwL/bJgGUIFRAE/3bQeVgZ8BgKfH7YGIwwIm5h0QbsTLA8CaETUYHXEBcs+iFvLZdwE4/qWmmAk/AbvyD5A1mOMCN9V8iiQZAwF5pxKBjK1nAWz8lSoX7YUASnd7VmkhlwN7w6vNNBDdAQZ2OKZUzaUAFU9iuNzFFQIGj7QzEVT3AmFqPMWWtV0A=\",\"dtype\":\"float64\",\"shape\":[100]}}},\"id\":\"d3bb68b9-b8a1-4483-b204-deb8f3c61723\",\"type\":\"ColumnDataSource\"},{\"attributes\":{},\"id\":\"49143521-8238-4b00-a130-d75371532ffa\",\"type\":\"BasicTicker\"},{\"attributes\":{\"data_source\":{\"id\":\"f5e2e2b0-ef44-49ec-b4db-2e6e8a9f6479\",\"type\":\"ColumnDataSource\"},\"glyph\":{\"id\":\"5cf7142c-e74a-4d85-8345-1f4d6763b247\",\"type\":\"Line\"},\"hover_glyph\":null,\"nonselection_glyph\":{\"id\":\"1aa8868a-802a-4242-86e9-409dbb9e048c\",\"type\":\"Line\"},\"selection_glyph\":null},\"id\":\"453cfdc2-904b-4d8e-aac2-234c8682bc42\",\"type\":\"GlyphRenderer\"},{\"attributes\":{\"callback\":null},\"id\":\"8e5bb93d-5b51-46a1-ac62-c361dfd683b5\",\"type\":\"DataRange1d\"},{\"attributes\":{\"formatter\":{\"id\":\"093faee8-198f-4061-85b0-ce6b5fa00fc1\",\"type\":\"BasicTickFormatter\"},\"minor_tick_out\":0,\"plot\":{\"id\":\"4b35bd40-4f7c-4df5-8b18-323a0a442801\",\"subtype\":\"Figure\",\"type\":\"Plot\"},\"ticker\":{\"id\":\"49143521-8238-4b00-a130-d75371532ffa\",\"type\":\"BasicTicker\"}},\"id\":\"add56fcd-7c02-41c7-ab52-db2392c54ed6\",\"type\":\"LinearAxis\"},{\"attributes\":{\"formatter\":{\"id\":\"578bbbeb-4520-4305-89f4-6c7fbd9e8e36\",\"type\":\"BasicTickFormatter\"},\"minor_tick_out\":0,\"plot\":{\"id\":\"4b35bd40-4f7c-4df5-8b18-323a0a442801\",\"subtype\":\"Figure\",\"type\":\"Plot\"},\"ticker\":{\"id\":\"1f33043d-b943-4f37-ad7b-8a0a2defdaf9\",\"type\":\"BasicTicker\"}},\"id\":\"98c23964-1572-40aa-92d0-67c587591e45\",\"type\":\"LinearAxis\"},{\"attributes\":{\"bottom_units\":\"screen\",\"fill_alpha\":{\"value\":0.5},\"fill_color\":{\"value\":\"lightgrey\"},\"left_units\":\"screen\",\"level\":\"overlay\",\"line_alpha\":{\"value\":1.0},\"line_color\":{\"value\":\"black\"},\"line_dash\":[4,4],\"line_width\":{\"value\":2},\"plot\":null,\"render_mode\":\"css\",\"right_units\":\"screen\",\"top_units\":\"screen\"},\"id\":\"3bbe5acc-2b79-4fba-a3dd-7f1b47ef7ce4\",\"type\":\"BoxAnnotation\"}],\"root_ids\":[\"4b35bd40-4f7c-4df5-8b18-323a0a442801\"]},\"title\":\"Bokeh Application\",\"version\":\"0.12.4\"}};\n",
       "            var render_items = [{\"docid\":\"c1bfc11b-fac8-402c-b75d-9c98b7d45cb1\",\"elementid\":\"9689a289-9638-4d18-b9e7-0703dee81226\",\"modelid\":\"4b35bd40-4f7c-4df5-8b18-323a0a442801\"}];\n",
       "            \n",
       "            Bokeh.embed.embed_items(docs_json, render_items);\n",
       "          };\n",
       "          if (document.readyState != \"loading\") fn();\n",
       "          else document.addEventListener(\"DOMContentLoaded\", fn);\n",
       "        })();\n",
       "      },\n",
       "      function(Bokeh) {\n",
       "      }\n",
       "    ];\n",
       "  \n",
       "    function run_inline_js() {\n",
       "      \n",
       "      if ((window.Bokeh !== undefined) || (force === true)) {\n",
       "        for (var i = 0; i < inline_js.length; i++) {\n",
       "          inline_js[i](window.Bokeh);\n",
       "        }if (force === true) {\n",
       "          display_loaded();\n",
       "        }} else if (Date.now() < window._bokeh_timeout) {\n",
       "        setTimeout(run_inline_js, 100);\n",
       "      } else if (!window._bokeh_failed_load) {\n",
       "        console.log(\"Bokeh: BokehJS failed to load within specified timeout.\");\n",
       "        window._bokeh_failed_load = true;\n",
       "      } else if (force !== true) {\n",
       "        var cell = $(document.getElementById(\"9689a289-9638-4d18-b9e7-0703dee81226\")).parents('.cell').data().cell;\n",
       "        cell.output_area.append_execute_result(NB_LOAD_WARNING)\n",
       "      }\n",
       "  \n",
       "    }\n",
       "  \n",
       "    if (window._bokeh_is_loading === 0) {\n",
       "      console.log(\"Bokeh: BokehJS loaded, going straight to plotting\");\n",
       "      run_inline_js();\n",
       "    } else {\n",
       "      load_libs(js_urls, function() {\n",
       "        console.log(\"Bokeh: BokehJS plotting callback run at\", now());\n",
       "        run_inline_js();\n",
       "      });\n",
       "    }\n",
       "  }(this));\n",
       "</script>"
      ]
     },
     "metadata": {},
     "output_type": "display_data"
    }
   ],
   "source": [
    "n_neighbors = 10\n",
    "sample = 1000\n",
    "\n",
    "knn = neighbors.KNeighborsRegressor(n_neighbors, weights='uniform')\n",
    "knn.fit(X, y)\n",
    "\n",
    "fig = bk.figure(plot_width=630, plot_height=300, title=None)\n",
    "fig.circle(X[::sample, 0], y[::sample],  color='black')\n",
    "a = np.hstack([np.atleast_2d(X[::sample, 0]).T, \n",
    "               np.atleast_2d(knn.predict(X[::sample])).T])\n",
    "a = a[a[:,0].argsort()]\n",
    "fig.line(a[:,0], a[:,1], color='red', line_width=3)\n",
    "fig.grid.grid_line_color = None\n",
    "fig.axis.minor_tick_out = 0\n",
    "bk.show(fig)"
   ]
  },
  {
   "cell_type": "markdown",
   "metadata": {},
   "source": [
    "Albeit it is a pretty cool idea, it does not work in higher dimension. This introduces a major topic in ML."
   ]
  },
  {
   "cell_type": "markdown",
   "metadata": {},
   "source": [
    "### 3.1 The Curse of Dimensionality"
   ]
  },
  {
   "cell_type": "markdown",
   "metadata": {},
   "source": [
    "Nearest Neighbor averaging can be pretty good for small $p$ (tipycally $p \\leq 4$) and larger $n$. But what happens when $p$ is large? This method can be pretty lousy. The reason is the curse of dimensionality. Nearest Neighbors tend to be far away in high dimensions. \n",
    "\n",
    "We need to get a reasonable fraction of the N values of $y_i$ to average to bring the variance down. A $10\\%$ neighborhood in high dimensions need no longer be local, so we lose the spirit of estimating $E(y \\mid x=v)$ by local averaging. \n",
    "\n",
    "For a better understanding take a look at the picture below."
   ]
  },
  {
   "cell_type": "markdown",
   "metadata": {},
   "source": [
    "<img src=\"images/curse_dimensionality.png\" alt=\"\" height=\"600\" width=\"600\">"
   ]
  },
  {
   "cell_type": "markdown",
   "metadata": {},
   "source": [
    "So let's look at a little example of that. In the left panel, we've got values of two variables, $x1$ and $x2$, that are uniformly distributed in this cube with edges $-1$ to $+1$, $-1$ to $+1$. We form two 10% neighborhoods in this case. The first neighborhood is just involving the variable $x1$, ignoring $x2$. \n",
    "\n",
    "That's indicated by the vertical dotted lines. Our target point is at $0$. And we spread out a neighborhood to the left and right until we capture $10\\%$ of the data points with respect to the variable $x1$. The dotted line indicates the width of the neighborhood.\n",
    "\n",
    "Alternatively, if we want to find a neighborhood in two dimensions, we spread out a circle centered at the target point, which is the red dot there, until we've captured $10\\%$ of the points. Notice the radius of the circle in two dimensions? It is much bigger than the radius of the circle in one dimension which is just the width between these two dotted lines. To capture $10\\%$ of the points in two dimensions, we have to go out further and we are less local than we are in one dimension! \n",
    "\n",
    "We can take this example further. On the right hand plot, we can see far you have to go out in one, two, three, five, and ten dimensions. In ten dimensions, these are different versions of this problem as the dimensions get higher, in order to capture a certain fraction of the volume. Take, for example, $10\\%$ or $0.1$ fraction of the volume. For $p=1$, if the data is uniform, you roughly go out $10\\%$ of the distance. In two dimensions, we showed you went more. Look what happens in five dimensions. In five dimensions, you have to go out to about $0.9$ on each coordinate axes to get $10\\%$ of the data. That's just about the whole radius of this sphere. And in ten dimensions, you actually have to go break out of this sphere in order to get points in the corner to capture the $10\\%$. The take home lesson here is: it's really hard to find new neighborhoods in high dimensions and stay local! If we didn't have this issue we could use NN for every problem!\n",
    "\n",
    "**Question:** a hypercube with side length $1$ in $d$ dimensions is defined to be the set of points $(x_1, x_2, \\ldots, x_d)$ such that $0\\leq x_j \\leq 1$ for all $j = 1, 2, \\ldots, d$. Define the boundary region of the hypercube to be the set of all points such that there exists a $j$ for which $0 \\leq x_j \\leq 0.05$ or $0.95 \\leq x_j \\leq 1$ (i.e., it is the set of all points that have at least one dimension in the most extreme $10\\%$ of possible values). What proportion of the volume of a hypercube of dimension $50$ is in the boundary region?\n",
    "\n",
    " <a href=\"#Answer\">**Answer**</a> "
   ]
  },
  {
   "cell_type": "markdown",
   "metadata": {},
   "source": [
    "## 4 Linear Models for classification"
   ]
  },
  {
   "cell_type": "markdown",
   "metadata": {},
   "source": [
    "In classification the output that we want to predict is a discrete value that has typically few values that we call **classes**. Recall the example that we did before: \n",
    "- email: spam/not spam\n",
    "- transaction: fraudolent/not fraudolent\n",
    "- tumor: malignant/benign\n",
    "\n",
    "we can assign numerical values to those classes and our target variable becomes $y \\in (0,1)$ where $0$ is the *negative class* (not spam) and $1$ is the *positive class* (spam). \n",
    "\n",
    "Let's see if we can apply simple linear regression to one of this problems. For example we want to learn if a tumor is malignant or not based on its size. Suppose that we see the following example, that is our dataset is composed of various tumor measurements and to each one is associated the value $1$ malignant and $0$ benign. Suppose that I find an hypothesis such that is represented by the line in the picture. How can I decide to which class each example belongs?"
   ]
  },
  {
   "cell_type": "markdown",
   "metadata": {},
   "source": [
    "<img src=\"images/logistic_regression.jpg\" alt=\"\" height=\"500\" width=\"500\">"
   ]
  },
  {
   "cell_type": "markdown",
   "metadata": {},
   "source": [
    "I can use a threshold at $0.5$ for example such that: \n",
    "- if $h(x) \\geq 0.5$ predict $1$ \n",
    "- if $h(x) < 0.5$ predict $0$\n",
    "\n",
    "what happens if we change the dataset a little bit? Let's say we add one more example to the right."
   ]
  },
  {
   "cell_type": "markdown",
   "metadata": {},
   "source": [
    "<img src=\"images/logistic_regression2.jpg\" alt=\"\" height=\"600\" width=\"600\">"
   ]
  },
  {
   "cell_type": "markdown",
   "metadata": {},
   "source": [
    "What happened? Linear regression changed because of the single value, and using our threshold of $0.5$ now gives wrong results. How can we overcome this kind of situations? Is it possible to use a different algorithm that estimates the class correctly? Linear regression output can be $>1$ and $<0$ while in a two-class classification problem the class can be $0$ or $1$. "
   ]
  },
  {
   "cell_type": "markdown",
   "metadata": {},
   "source": [
    "### 4.1 Logistic Regression"
   ]
  },
  {
   "cell_type": "markdown",
   "metadata": {},
   "source": [
    "The logistic regression model arises from the desire to model the posterior probabilities of the $K$ classes via linear functions in $x$, while at the same time ensuring that they sum to one and remain in $[0, 1]$.\n",
    "\n",
    "We apply the logistic function to hour hypothesis. What is the logistic function? "
   ]
  },
  {
   "cell_type": "markdown",
   "metadata": {},
   "source": [
    "<img src=\"images/logistic_function.png\" alt=\"\" height=\"500\" width=\"500\">"
   ]
  },
  {
   "cell_type": "markdown",
   "metadata": {},
   "source": [
    "$$g(z) = \\frac{1}{1+e^{-z}} $$\n",
    "\n",
    "We can apply this function to our previous linear regression hypothesis:\n",
    "\n",
    "$$ h(x) = g(\\beta^Tx)$$\n",
    "\n",
    "Now the $z$ in the previous function has now the value of $\\beta^Tx$ and the output of my hypothesis is no longer the value of $\\hat y$ but the probability of being in that class that is $P(Y=c \\mid X=x)$, given $x$ parametrized by $\\beta$."
   ]
  },
  {
   "cell_type": "markdown",
   "metadata": {},
   "source": [
    "### 4.2 Decision Boundary"
   ]
  },
  {
   "cell_type": "markdown",
   "metadata": {},
   "source": [
    "Why the logistic regression is a linear model if its function is clearly non linear? Let's discuss how the class is computed. \n",
    "\n",
    "Again we are using a threshold, suppose to predict $y=1$  if $h(x) \\geq 0.5$ and  $y=1$  if $h(x) < 0.5$. In this case $g(z) \\geq 0.5$. But when it is such the case? $g(z)$ is $\\geq 0.5$ when $z \\geq 0$, so basically when $\\beta^Tx \\geq 0$.\n",
    "\n",
    "What happens in the other case? $y=0$  if $h(x) < 0.5$. In this case $g(z) < 0.5$ when $z < 0$, so basically when $\\beta^Tx < 0$"
   ]
  },
  {
   "cell_type": "markdown",
   "metadata": {},
   "source": [
    "<img src=\"images/decision_boundary.jpg\" alt=\"\" height=\"500\" width=\"500\">"
   ]
  },
  {
   "cell_type": "markdown",
   "metadata": {},
   "source": [
    "Suppose that we are looking at the region boundary in the picture above. In this case the line that divides the two planes has equation $-3+x_1+x_2 = 0$. In this case we are classifying the examples with class 1 when $x_1 + x_2 \\geq 3$ and we are classifying examples with class 0 when $x_1 + x_2 < 3$"
   ]
  },
  {
   "cell_type": "markdown",
   "metadata": {},
   "source": [
    "### 4.3 Cost function"
   ]
  },
  {
   "cell_type": "markdown",
   "metadata": {},
   "source": [
    "Using mean squared error as the cost for the logistic gives us a non-convex function in the parameter $\\beta$. What do we mean for non convex? See the picture below! This happens because the $h(x)$ in the cost function has nonlinearities (the logistic function). In this way it is really hard to find the global minimum of the error function and thus the optimal solution. "
   ]
  },
  {
   "cell_type": "markdown",
   "metadata": {},
   "source": [
    "<img src=\"images/non_convex.png\" alt=\"\" height=\"600\" width=\"600\">"
   ]
  },
  {
   "cell_type": "markdown",
   "metadata": {},
   "source": [
    "We need another cost function.\n",
    "\n",
    "$$J(h(x),y) = \\Bigg\\{\\begin{array}{lr}\n",
    "    -log(h(x)) & if y=1\\\\\n",
    "    -log(1-h(x)) & if y=0\n",
    "  \\end{array}$$\n",
    "  \n",
    "Let's see if it works. If $y=1$ and $h(x)=1$ the cost is zero. So if the model is predicting the correct label the error is zero as expected. If however $y=1$ and $h(x)=0$ the cost is $\\inf$ because we have $-log(0)$. This capture the notion that if we are making a mistake we are going to penalize the model by a large quantity. "
   ]
  },
  {
   "cell_type": "markdown",
   "metadata": {},
   "source": [
    "<img src=\"images/logistic_cost.png\" alt=\"\" height=\"700\" width=\"700\">"
   ]
  },
  {
   "cell_type": "markdown",
   "metadata": {},
   "source": [
    "The same applies for the case where $y=0$."
   ]
  },
  {
   "cell_type": "code",
   "execution_count": 8,
   "metadata": {
    "collapsed": false
   },
   "outputs": [
    {
     "data": {
      "text/html": [
       "\n",
       "\n",
       "    <div class=\"bk-root\">\n",
       "        <div class=\"bk-plotdiv\" id=\"37817d16-5374-4dbd-b448-189fda79219e\"></div>\n",
       "    </div>\n",
       "<script type=\"text/javascript\">\n",
       "  \n",
       "  (function(global) {\n",
       "    function now() {\n",
       "      return new Date();\n",
       "    }\n",
       "  \n",
       "    var force = false;\n",
       "  \n",
       "    if (typeof (window._bokeh_onload_callbacks) === \"undefined\" || force === true) {\n",
       "      window._bokeh_onload_callbacks = [];\n",
       "      window._bokeh_is_loading = undefined;\n",
       "    }\n",
       "  \n",
       "  \n",
       "    \n",
       "    if (typeof (window._bokeh_timeout) === \"undefined\" || force === true) {\n",
       "      window._bokeh_timeout = Date.now() + 0;\n",
       "      window._bokeh_failed_load = false;\n",
       "    }\n",
       "  \n",
       "    var NB_LOAD_WARNING = {'data': {'text/html':\n",
       "       \"<div style='background-color: #fdd'>\\n\"+\n",
       "       \"<p>\\n\"+\n",
       "       \"BokehJS does not appear to have successfully loaded. If loading BokehJS from CDN, this \\n\"+\n",
       "       \"may be due to a slow or bad network connection. Possible fixes:\\n\"+\n",
       "       \"</p>\\n\"+\n",
       "       \"<ul>\\n\"+\n",
       "       \"<li>re-rerun `output_notebook()` to attempt to load from CDN again, or</li>\\n\"+\n",
       "       \"<li>use INLINE resources instead, as so:</li>\\n\"+\n",
       "       \"</ul>\\n\"+\n",
       "       \"<code>\\n\"+\n",
       "       \"from bokeh.resources import INLINE\\n\"+\n",
       "       \"output_notebook(resources=INLINE)\\n\"+\n",
       "       \"</code>\\n\"+\n",
       "       \"</div>\"}};\n",
       "  \n",
       "    function display_loaded() {\n",
       "      if (window.Bokeh !== undefined) {\n",
       "        document.getElementById(\"37817d16-5374-4dbd-b448-189fda79219e\").textContent = \"BokehJS successfully loaded.\";\n",
       "      } else if (Date.now() < window._bokeh_timeout) {\n",
       "        setTimeout(display_loaded, 100)\n",
       "      }\n",
       "    }\n",
       "  \n",
       "    function run_callbacks() {\n",
       "      window._bokeh_onload_callbacks.forEach(function(callback) { callback() });\n",
       "      delete window._bokeh_onload_callbacks\n",
       "      console.info(\"Bokeh: all callbacks have finished\");\n",
       "    }\n",
       "  \n",
       "    function load_libs(js_urls, callback) {\n",
       "      window._bokeh_onload_callbacks.push(callback);\n",
       "      if (window._bokeh_is_loading > 0) {\n",
       "        console.log(\"Bokeh: BokehJS is being loaded, scheduling callback at\", now());\n",
       "        return null;\n",
       "      }\n",
       "      if (js_urls == null || js_urls.length === 0) {\n",
       "        run_callbacks();\n",
       "        return null;\n",
       "      }\n",
       "      console.log(\"Bokeh: BokehJS not loaded, scheduling load and callback at\", now());\n",
       "      window._bokeh_is_loading = js_urls.length;\n",
       "      for (var i = 0; i < js_urls.length; i++) {\n",
       "        var url = js_urls[i];\n",
       "        var s = document.createElement('script');\n",
       "        s.src = url;\n",
       "        s.async = false;\n",
       "        s.onreadystatechange = s.onload = function() {\n",
       "          window._bokeh_is_loading--;\n",
       "          if (window._bokeh_is_loading === 0) {\n",
       "            console.log(\"Bokeh: all BokehJS libraries loaded\");\n",
       "            run_callbacks()\n",
       "          }\n",
       "        };\n",
       "        s.onerror = function() {\n",
       "          console.warn(\"failed to load library \" + url);\n",
       "        };\n",
       "        console.log(\"Bokeh: injecting script tag for BokehJS library: \", url);\n",
       "        document.getElementsByTagName(\"head\")[0].appendChild(s);\n",
       "      }\n",
       "    };var element = document.getElementById(\"37817d16-5374-4dbd-b448-189fda79219e\");\n",
       "    if (element == null) {\n",
       "      console.log(\"Bokeh: ERROR: autoload.js configured with elementid '37817d16-5374-4dbd-b448-189fda79219e' but no matching script tag was found. \")\n",
       "      return false;\n",
       "    }\n",
       "  \n",
       "    var js_urls = [];\n",
       "  \n",
       "    var inline_js = [\n",
       "      function(Bokeh) {\n",
       "        (function() {\n",
       "          var fn = function() {\n",
       "            var docs_json = {\"05800014-7ef3-4a16-82f4-d8a3681b941b\":{\"roots\":{\"references\":[{\"attributes\":{\"grid_line_color\":{\"value\":null},\"plot\":{\"id\":\"c4c28628-9788-4ff7-8f5f-01197d1169e9\",\"subtype\":\"Figure\",\"type\":\"Plot\"},\"ticker\":{\"id\":\"9b44fc74-02f5-4b90-911f-df34273f34ab\",\"type\":\"BasicTicker\"}},\"id\":\"23dbd912-c936-4cd5-9b4c-904b54eea17c\",\"type\":\"Grid\"},{\"attributes\":{\"formatter\":{\"id\":\"353079b2-e460-4846-a06c-dcb341524035\",\"type\":\"BasicTickFormatter\"},\"minor_tick_out\":0,\"plot\":{\"id\":\"c4c28628-9788-4ff7-8f5f-01197d1169e9\",\"subtype\":\"Figure\",\"type\":\"Plot\"},\"ticker\":{\"id\":\"aceb0d3f-6b85-4402-b36f-226b52080fa2\",\"type\":\"FixedTicker\"}},\"id\":\"3292c71e-2811-4195-9046-22f8c8f4323f\",\"type\":\"LinearAxis\"},{\"attributes\":{\"data_source\":{\"id\":\"31ff11d9-3850-40ad-82e6-8767d6e103b0\",\"type\":\"ColumnDataSource\"},\"glyph\":{\"id\":\"d28552da-cc1f-4142-a31f-072f8620cbf4\",\"type\":\"Circle\"},\"hover_glyph\":null,\"nonselection_glyph\":{\"id\":\"bcf05696-4865-47bd-b33c-2d45afb05879\",\"type\":\"Circle\"},\"selection_glyph\":null},\"id\":\"cdd49cac-41d7-4df0-9b09-e83a02ca42ce\",\"type\":\"GlyphRenderer\"},{\"attributes\":{\"plot\":{\"id\":\"c4c28628-9788-4ff7-8f5f-01197d1169e9\",\"subtype\":\"Figure\",\"type\":\"Plot\"}},\"id\":\"3f1275e4-54a2-45c1-a7fa-756bb29e15eb\",\"type\":\"HelpTool\"},{\"attributes\":{\"fill_color\":{\"value\":\"black\"},\"x\":{\"field\":\"x\"},\"y\":{\"field\":\"y\"}},\"id\":\"d28552da-cc1f-4142-a31f-072f8620cbf4\",\"type\":\"Circle\"},{\"attributes\":{\"callback\":null,\"end\":1.25,\"start\":-0.25},\"id\":\"a762e82f-292c-4480-8a85-b0b3633a6324\",\"type\":\"Range1d\"},{\"attributes\":{\"line_color\":{\"value\":\"red\"},\"line_width\":{\"value\":3},\"x\":{\"field\":\"x\"},\"y\":{\"field\":\"y\"}},\"id\":\"ccd089c9-20ba-4019-a99e-fa733da49876\",\"type\":\"Line\"},{\"attributes\":{\"plot\":{\"id\":\"c4c28628-9788-4ff7-8f5f-01197d1169e9\",\"subtype\":\"Figure\",\"type\":\"Plot\"}},\"id\":\"7cbd393c-9e3d-49a5-8d70-289757a4e515\",\"type\":\"PanTool\"},{\"attributes\":{\"callback\":null,\"column_names\":[\"x\",\"y\"],\"data\":{\"x\":{\"__ndarray__\":\"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\",\"dtype\":\"float64\",\"shape\":[300]},\"y\":{\"__ndarray__\":\"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\",\"dtype\":\"float64\",\"shape\":[300]}}},\"id\":\"1e9e6383-abcf-45cb-af80-c8b39cf5a2ae\",\"type\":\"ColumnDataSource\"},{\"attributes\":{\"bottom_units\":\"screen\",\"fill_alpha\":{\"value\":0.5},\"fill_color\":{\"value\":\"lightgrey\"},\"left_units\":\"screen\",\"level\":\"overlay\",\"line_alpha\":{\"value\":1.0},\"line_color\":{\"value\":\"black\"},\"line_dash\":[4,4],\"line_width\":{\"value\":2},\"plot\":null,\"render_mode\":\"css\",\"right_units\":\"screen\",\"top_units\":\"screen\"},\"id\":\"a9103e96-c623-452d-96be-a1ae0d146c0a\",\"type\":\"BoxAnnotation\"},{\"attributes\":{},\"id\":\"4979d5a1-a643-479d-b1a6-11123ee8a79a\",\"type\":\"BasicTickFormatter\"},{\"attributes\":{\"overlay\":{\"id\":\"a9103e96-c623-452d-96be-a1ae0d146c0a\",\"type\":\"BoxAnnotation\"},\"plot\":{\"id\":\"c4c28628-9788-4ff7-8f5f-01197d1169e9\",\"subtype\":\"Figure\",\"type\":\"Plot\"}},\"id\":\"65779c98-62da-4dc0-878a-321e81774c4c\",\"type\":\"BoxZoomTool\"},{\"attributes\":{\"callback\":null,\"column_names\":[\"x\",\"y\"],\"data\":{\"x\":{\"__ndarray__\":\"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\",\"dtype\":\"float64\",\"shape\":[300]},\"y\":{\"__ndarray__\":\"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\",\"dtype\":\"float64\",\"shape\":[300]}}},\"id\":\"351b1879-fa52-451c-9831-cd6c4280fa19\",\"type\":\"ColumnDataSource\"},{\"attributes\":{},\"id\":\"02ceb81e-d472-45bd-87ab-035d0fdbebb2\",\"type\":\"ToolEvents\"},{\"attributes\":{},\"id\":\"353079b2-e460-4846-a06c-dcb341524035\",\"type\":\"BasicTickFormatter\"},{\"attributes\":{\"line_color\":{\"value\":\"#1f77b4\"},\"line_width\":{\"value\":3},\"x\":{\"field\":\"x\"},\"y\":{\"field\":\"y\"}},\"id\":\"042f1cce-6f4e-4db7-ace0-23c1166a7c13\",\"type\":\"Line\"},{\"attributes\":{\"formatter\":{\"id\":\"4979d5a1-a643-479d-b1a6-11123ee8a79a\",\"type\":\"BasicTickFormatter\"},\"minor_tick_out\":0,\"plot\":{\"id\":\"c4c28628-9788-4ff7-8f5f-01197d1169e9\",\"subtype\":\"Figure\",\"type\":\"Plot\"},\"ticker\":{\"id\":\"9b44fc74-02f5-4b90-911f-df34273f34ab\",\"type\":\"BasicTicker\"}},\"id\":\"7b4923ea-898e-4148-8dcd-3ce5fd24d0dd\",\"type\":\"LinearAxis\"},{\"attributes\":{\"plot\":{\"id\":\"c4c28628-9788-4ff7-8f5f-01197d1169e9\",\"subtype\":\"Figure\",\"type\":\"Plot\"}},\"id\":\"9e812ac9-2095-4300-b0d5-cd4770e1b6ca\",\"type\":\"SaveTool\"},{\"attributes\":{\"below\":[{\"id\":\"7b4923ea-898e-4148-8dcd-3ce5fd24d0dd\",\"type\":\"LinearAxis\"}],\"left\":[{\"id\":\"3292c71e-2811-4195-9046-22f8c8f4323f\",\"type\":\"LinearAxis\"}],\"plot_height\":300,\"plot_width\":630,\"renderers\":[{\"id\":\"7b4923ea-898e-4148-8dcd-3ce5fd24d0dd\",\"type\":\"LinearAxis\"},{\"id\":\"23dbd912-c936-4cd5-9b4c-904b54eea17c\",\"type\":\"Grid\"},{\"id\":\"3292c71e-2811-4195-9046-22f8c8f4323f\",\"type\":\"LinearAxis\"},{\"id\":\"5d950d25-6110-4c46-a3d8-b0fa18bff04e\",\"type\":\"Grid\"},{\"id\":\"a9103e96-c623-452d-96be-a1ae0d146c0a\",\"type\":\"BoxAnnotation\"},{\"id\":\"cdd49cac-41d7-4df0-9b09-e83a02ca42ce\",\"type\":\"GlyphRenderer\"},{\"id\":\"960edf75-d0f9-4cff-bcdc-4b10835ba8e0\",\"type\":\"Legend\"},{\"id\":\"a2ff6735-641c-41b4-b596-3beb7cd95a38\",\"type\":\"GlyphRenderer\"},{\"id\":\"d3d8aa85-143a-4746-b9b6-6f3eb478ac0a\",\"type\":\"GlyphRenderer\"}],\"title\":null,\"tool_events\":{\"id\":\"02ceb81e-d472-45bd-87ab-035d0fdbebb2\",\"type\":\"ToolEvents\"},\"toolbar\":{\"id\":\"22476a2a-df6f-4937-8dca-0816e9e71d5d\",\"type\":\"Toolbar\"},\"x_range\":{\"id\":\"f00c24fe-f54f-4b54-ae51-502ec25fba2c\",\"type\":\"Range1d\"},\"y_range\":{\"id\":\"a762e82f-292c-4480-8a85-b0b3633a6324\",\"type\":\"Range1d\"}},\"id\":\"c4c28628-9788-4ff7-8f5f-01197d1169e9\",\"subtype\":\"Figure\",\"type\":\"Plot\"},{\"attributes\":{\"callback\":null,\"end\":10,\"start\":-4},\"id\":\"f00c24fe-f54f-4b54-ae51-502ec25fba2c\",\"type\":\"Range1d\"},{\"attributes\":{\"ticks\":[0,0.5,1]},\"id\":\"aceb0d3f-6b85-4402-b36f-226b52080fa2\",\"type\":\"FixedTicker\"},{\"attributes\":{\"label\":{\"value\":\"Linear Regression Model\"},\"renderers\":[{\"id\":\"d3d8aa85-143a-4746-b9b6-6f3eb478ac0a\",\"type\":\"GlyphRenderer\"}]},\"id\":\"fe315d1e-b24c-4ed2-bdb7-e934c18e4fab\",\"type\":\"LegendItem\"},{\"attributes\":{\"line_alpha\":{\"value\":0.1},\"line_color\":{\"value\":\"#1f77b4\"},\"line_width\":{\"value\":3},\"x\":{\"field\":\"x\"},\"y\":{\"field\":\"y\"}},\"id\":\"e2326661-5ae2-4370-8ecf-94de55fabc5b\",\"type\":\"Line\"},{\"attributes\":{\"data_source\":{\"id\":\"1e9e6383-abcf-45cb-af80-c8b39cf5a2ae\",\"type\":\"ColumnDataSource\"},\"glyph\":{\"id\":\"042f1cce-6f4e-4db7-ace0-23c1166a7c13\",\"type\":\"Line\"},\"hover_glyph\":null,\"nonselection_glyph\":{\"id\":\"0fe783ca-f4be-44fc-93ff-b4fd78ee9bda\",\"type\":\"Line\"},\"selection_glyph\":null},\"id\":\"d3d8aa85-143a-4746-b9b6-6f3eb478ac0a\",\"type\":\"GlyphRenderer\"},{\"attributes\":{},\"id\":\"f39c85bd-29f1-45a8-876f-1b86bd2f2a23\",\"type\":\"BasicTicker\"},{\"attributes\":{\"data_source\":{\"id\":\"351b1879-fa52-451c-9831-cd6c4280fa19\",\"type\":\"ColumnDataSource\"},\"glyph\":{\"id\":\"ccd089c9-20ba-4019-a99e-fa733da49876\",\"type\":\"Line\"},\"hover_glyph\":null,\"nonselection_glyph\":{\"id\":\"e2326661-5ae2-4370-8ecf-94de55fabc5b\",\"type\":\"Line\"},\"selection_glyph\":null},\"id\":\"a2ff6735-641c-41b4-b596-3beb7cd95a38\",\"type\":\"GlyphRenderer\"},{\"attributes\":{},\"id\":\"9b44fc74-02f5-4b90-911f-df34273f34ab\",\"type\":\"BasicTicker\"},{\"attributes\":{\"callback\":null,\"column_names\":[\"x\",\"y\"],\"data\":{\"x\":{\"__ndarray__\":\"C5Ea8w98HkC4KVqjDCTzP5RBJk88RQxA0DmqpD+CIkDSRvpOInkcQBocLhZvOtm/1bM9L/9oDUC8+bD0uQnYvwLmfcmBUN4/UqysT0CxAEASry3H3S7yP7W7UIwKWxhASKEks0hJBkD4iyV9nPTwP5nhAcPuHvs/Z1x0hfo0+T9aylhivgoZQMtoX/Y3G9C/V+++x+H79j/zBXNRVnriv4mQ0k4/hQPAH1mNwPhGAkBor33psmAMQF32GwMuCNa/Q1W+l8W9IUCRHN/l8/z3vyxBjia136o/qrwcTq6G1z9lGZToylQZQIc6tnGq/xdAfOXvzlfi2D8orlWyccr6PxO7kor9cPG/dzcQnDqK/7/KFBpswDzhv56ghT6lgeo/p21NOmZgFEACxSJf9fwSQHe3aqiCL9G/PeoeqMUq5L/PL+SMVO/3v+jC/Ax4nPS/Yqj1BROA+r802kUqdfkfQJjN+NP7Rso/7mQQIzXOw7/gktkwIG34vxqk5+x+jwtAqkYxncERAMCimypBUXrWv3JZPWVfT+2/D6gY2y5+AEB/QTg8037nvxTogahl2/a/2ManOTaNrb+BdQnbgTr4P8JP4O90VOM/xOg8BlxZ7D/UeIKzYlDvv9I2PNUfn9+/7ByvssJM6r/ABCrhOxLMP+BPr23/5+C/GwVSREUz+7+0La77ieTVPzJMJcUhAcO/Ti2AZ1vi/r8Mgwd/AjT2P1Ba6dzioOG/InaXOSFi0z9Mr8lMfIoJQJsBcC3RkeM/ag4GHTRCE0DQzcSp0+H2vxevA30WyfQ/VuDAUcG93r8j+7DRA8rxvzMX2fCSJOm/W9F7koKv3L8yBIzmh23NPwVj6gNxV/S/dKr97cyGCUDIcZH9iLb6PyYVFTVJoAHAO1kCvPOPGED2s7HyaGkcQBQRT7oDiRFAMv1cMvkGxb8jgEXnk670v6OBI2EMuRJA1HWukyZQ6b9qcwtMLOETQBMq+Yg2SOo/9bKaSfNyDEDjcQKctVH5P48Pjm3ZMgZANHbdX6KB0T9/vt7w548dQG6TcxaDgfI/IfaZd0ISAEA=\",\"dtype\":\"float64\",\"shape\":[100]},\"y\":{\"__ndarray__\":\"AAAAAAAA8D8AAAAAAADwPwAAAAAAAPA/AAAAAAAA8D8AAAAAAADwPwAAAAAAAAAAAAAAAAAA8D8AAAAAAAAAAAAAAAAAAAAAAAAAAAAA8D8AAAAAAADwPwAAAAAAAPA/AAAAAAAA8D8AAAAAAADwPwAAAAAAAPA/AAAAAAAA8D8AAAAAAADwPwAAAAAAAAAAAAAAAAAA8D8AAAAAAAAAAAAAAAAAAAAAAAAAAAAA8D8AAAAAAADwPwAAAAAAAAAAAAAAAAAA8D8AAAAAAAAAAAAAAAAAAPA/AAAAAAAAAAAAAAAAAADwPwAAAAAAAPA/AAAAAAAA8D8AAAAAAADwPwAAAAAAAAAAAAAAAAAAAAAAAAAAAAAAAAAAAAAAAPA/AAAAAAAA8D8AAAAAAADwPwAAAAAAAAAAAAAAAAAAAAAAAAAAAAAAAAAAAAAAAAAAAAAAAAAAAAAAAAAAAADwPwAAAAAAAAAAAAAAAAAAAAAAAAAAAAAAAAAAAAAAAPA/AAAAAAAAAAAAAAAAAAAAAAAAAAAAAAAAAAAAAAAA8D8AAAAAAAAAAAAAAAAAAAAAAAAAAAAAAAAAAAAAAADwPwAAAAAAAPA/AAAAAAAA8D8AAAAAAAAAAAAAAAAAAAAAAAAAAAAAAAAAAAAAAAAAAAAAAAAAAAAAAAAAAAAAAAAAAAAAAADwPwAAAAAAAAAAAAAAAAAAAAAAAAAAAADwPwAAAAAAAAAAAAAAAAAA8D8AAAAAAADwPwAAAAAAAPA/AAAAAAAA8D8AAAAAAAAAAAAAAAAAAPA/AAAAAAAAAAAAAAAAAAAAAAAAAAAAAAAAAAAAAAAAAAAAAAAAAADwPwAAAAAAAAAAAAAAAAAA8D8AAAAAAADwPwAAAAAAAAAAAAAAAAAA8D8AAAAAAADwPwAAAAAAAPA/AAAAAAAAAAAAAAAAAAAAAAAAAAAAAPA/AAAAAAAAAAAAAAAAAADwPwAAAAAAAPA/AAAAAAAA8D8AAAAAAADwPwAAAAAAAPA/AAAAAAAA8D8AAAAAAADwPwAAAAAAAPA/AAAAAAAA8D8=\",\"dtype\":\"float64\",\"shape\":[100]}}},\"id\":\"31ff11d9-3850-40ad-82e6-8767d6e103b0\",\"type\":\"ColumnDataSource\"},{\"attributes\":{\"dimension\":1,\"grid_line_color\":{\"value\":null},\"plot\":{\"id\":\"c4c28628-9788-4ff7-8f5f-01197d1169e9\",\"subtype\":\"Figure\",\"type\":\"Plot\"},\"ticker\":{\"id\":\"f39c85bd-29f1-45a8-876f-1b86bd2f2a23\",\"type\":\"BasicTicker\"}},\"id\":\"5d950d25-6110-4c46-a3d8-b0fa18bff04e\",\"type\":\"Grid\"},{\"attributes\":{\"active_drag\":\"auto\",\"active_scroll\":\"auto\",\"active_tap\":\"auto\",\"tools\":[{\"id\":\"7cbd393c-9e3d-49a5-8d70-289757a4e515\",\"type\":\"PanTool\"},{\"id\":\"cd72a8a0-b0e6-42ce-bdba-4edacb6e97a7\",\"type\":\"WheelZoomTool\"},{\"id\":\"65779c98-62da-4dc0-878a-321e81774c4c\",\"type\":\"BoxZoomTool\"},{\"id\":\"9e812ac9-2095-4300-b0d5-cd4770e1b6ca\",\"type\":\"SaveTool\"},{\"id\":\"4720a2cd-b8c2-458c-8c48-cec815d9d6b2\",\"type\":\"ResetTool\"},{\"id\":\"3f1275e4-54a2-45c1-a7fa-756bb29e15eb\",\"type\":\"HelpTool\"}]},\"id\":\"22476a2a-df6f-4937-8dca-0816e9e71d5d\",\"type\":\"Toolbar\"},{\"attributes\":{\"plot\":{\"id\":\"c4c28628-9788-4ff7-8f5f-01197d1169e9\",\"subtype\":\"Figure\",\"type\":\"Plot\"}},\"id\":\"cd72a8a0-b0e6-42ce-bdba-4edacb6e97a7\",\"type\":\"WheelZoomTool\"},{\"attributes\":{\"fill_alpha\":{\"value\":0.1},\"fill_color\":{\"value\":\"#1f77b4\"},\"line_alpha\":{\"value\":0.1},\"line_color\":{\"value\":\"#1f77b4\"},\"x\":{\"field\":\"x\"},\"y\":{\"field\":\"y\"}},\"id\":\"bcf05696-4865-47bd-b33c-2d45afb05879\",\"type\":\"Circle\"},{\"attributes\":{\"label\":{\"value\":\"Logistic Regression Model\"},\"renderers\":[{\"id\":\"a2ff6735-641c-41b4-b596-3beb7cd95a38\",\"type\":\"GlyphRenderer\"}]},\"id\":\"2c01bcfb-fcf7-4296-8eee-187dddc01f8c\",\"type\":\"LegendItem\"},{\"attributes\":{\"line_alpha\":{\"value\":0.1},\"line_color\":{\"value\":\"#1f77b4\"},\"line_width\":{\"value\":3},\"x\":{\"field\":\"x\"},\"y\":{\"field\":\"y\"}},\"id\":\"0fe783ca-f4be-44fc-93ff-b4fd78ee9bda\",\"type\":\"Line\"},{\"attributes\":{\"items\":[{\"id\":\"2c01bcfb-fcf7-4296-8eee-187dddc01f8c\",\"type\":\"LegendItem\"},{\"id\":\"fe315d1e-b24c-4ed2-bdb7-e934c18e4fab\",\"type\":\"LegendItem\"}],\"location\":\"bottom_right\",\"plot\":{\"id\":\"c4c28628-9788-4ff7-8f5f-01197d1169e9\",\"subtype\":\"Figure\",\"type\":\"Plot\"}},\"id\":\"960edf75-d0f9-4cff-bcdc-4b10835ba8e0\",\"type\":\"Legend\"},{\"attributes\":{\"plot\":{\"id\":\"c4c28628-9788-4ff7-8f5f-01197d1169e9\",\"subtype\":\"Figure\",\"type\":\"Plot\"}},\"id\":\"4720a2cd-b8c2-458c-8c48-cec815d9d6b2\",\"type\":\"ResetTool\"}],\"root_ids\":[\"c4c28628-9788-4ff7-8f5f-01197d1169e9\"]},\"title\":\"Bokeh Application\",\"version\":\"0.12.4\"}};\n",
       "            var render_items = [{\"docid\":\"05800014-7ef3-4a16-82f4-d8a3681b941b\",\"elementid\":\"37817d16-5374-4dbd-b448-189fda79219e\",\"modelid\":\"c4c28628-9788-4ff7-8f5f-01197d1169e9\"}];\n",
       "            \n",
       "            Bokeh.embed.embed_items(docs_json, render_items);\n",
       "          };\n",
       "          if (document.readyState != \"loading\") fn();\n",
       "          else document.addEventListener(\"DOMContentLoaded\", fn);\n",
       "        })();\n",
       "      },\n",
       "      function(Bokeh) {\n",
       "      }\n",
       "    ];\n",
       "  \n",
       "    function run_inline_js() {\n",
       "      \n",
       "      if ((window.Bokeh !== undefined) || (force === true)) {\n",
       "        for (var i = 0; i < inline_js.length; i++) {\n",
       "          inline_js[i](window.Bokeh);\n",
       "        }if (force === true) {\n",
       "          display_loaded();\n",
       "        }} else if (Date.now() < window._bokeh_timeout) {\n",
       "        setTimeout(run_inline_js, 100);\n",
       "      } else if (!window._bokeh_failed_load) {\n",
       "        console.log(\"Bokeh: BokehJS failed to load within specified timeout.\");\n",
       "        window._bokeh_failed_load = true;\n",
       "      } else if (force !== true) {\n",
       "        var cell = $(document.getElementById(\"37817d16-5374-4dbd-b448-189fda79219e\")).parents('.cell').data().cell;\n",
       "        cell.output_area.append_execute_result(NB_LOAD_WARNING)\n",
       "      }\n",
       "  \n",
       "    }\n",
       "  \n",
       "    if (window._bokeh_is_loading === 0) {\n",
       "      console.log(\"Bokeh: BokehJS loaded, going straight to plotting\");\n",
       "      run_inline_js();\n",
       "    } else {\n",
       "      load_libs(js_urls, function() {\n",
       "        console.log(\"Bokeh: BokehJS plotting callback run at\", now());\n",
       "        run_inline_js();\n",
       "      });\n",
       "    }\n",
       "  }(this));\n",
       "</script>"
      ]
     },
     "metadata": {},
     "output_type": "display_data"
    }
   ],
   "source": [
    "# this is our test set, it's just a straight line with some\n",
    "# Gaussian noise\n",
    "xmin, xmax = -5, 5\n",
    "n_samples = 100\n",
    "np.random.seed(0)\n",
    "X = np.random.normal(size=n_samples)\n",
    "y = (X > 0).astype(np.float)\n",
    "X[X > 0] *= 4\n",
    "X += .3 * np.random.normal(size=n_samples)\n",
    "\n",
    "X = X[:, np.newaxis]\n",
    "# run the classifier\n",
    "clf = linear_model.LogisticRegression(C=1e5)\n",
    "clf.fit(X, y)\n",
    "\n",
    "# and plot the result\n",
    "fig = bk.figure(plot_width=630, plot_height=300, title=None)\n",
    "fig.circle(X.ravel(), y,  color='black')\n",
    "X_test = np.linspace(-5, 10, 300)\n",
    "\n",
    "def model(x):\n",
    "    return 1 / (1 + np.exp(-x))\n",
    "\n",
    "loss = model(X_test * clf.coef_ + clf.intercept_).ravel()\n",
    "fig.line(X_test, loss, color='red', line_width=3, \n",
    "         legend='Logistic Regression Model')\n",
    "\n",
    "ols = linear_model.LinearRegression()\n",
    "ols.fit(X, y)\n",
    "\n",
    "fig.line(X_test, ols.coef_ * X_test + ols.intercept_, line_width=3, \n",
    "         legend='Linear Regression Model')\n",
    "\n",
    "fig.x_range=Range1d(-4, 10)\n",
    "fig.y_range=Range1d(-0.25, 1.25)\n",
    "fig.grid.grid_line_color = None\n",
    "fig.axis.minor_tick_out = 0\n",
    "fig.yaxis[0].ticker=FixedTicker(ticks=[0, 0.5, 1])\n",
    "fig.legend.location = \"bottom_right\"\n",
    "bk.show(fig)"
   ]
  },
  {
   "cell_type": "markdown",
   "metadata": {},
   "source": [
    "### 4.4 Multiclass Classification"
   ]
  },
  {
   "cell_type": "markdown",
   "metadata": {},
   "source": [
    "So far we have assumed that the logistic regression can calssfify problems with an outcome consisting in two classes. It is possible to extend to a multiclass setting, that is, a problem where the discrete output variable can assume more than two values. \n",
    "\n",
    "One simple extension to the basic binary classification is to use a one-vs-all approach, that is turn the problem in three separate problems, each of which is binary."
   ]
  },
  {
   "cell_type": "markdown",
   "metadata": {},
   "source": [
    "<img src=\"images/one_vs_all.png\" alt=\"\" height=\"700\" width=\"700\">"
   ]
  },
  {
   "cell_type": "markdown",
   "metadata": {},
   "source": [
    "Train a logistic regression classifier for each class:\n",
    "\n",
    "$$h_i(x) = P(y=i \\mid x, \\beta) \\quad (i=1,2,3)$$\n",
    "\n",
    "on new input $x$ output the class that maximizes the probability \n",
    "\n",
    "$$\\underset{i}{max} \\, h_i(x)$$"
   ]
  },
  {
   "cell_type": "markdown",
   "metadata": {},
   "source": [
    "##### Answer\n",
    "We know that the volume of the whole hypercube is $1^{50} = 1$. The volume of the interior of the hypercube is $0.9^{50} = 0.005$. Thus, the volume of the boundary is $1-0.005 = 0.995$."
   ]
  },
  {
   "cell_type": "markdown",
   "metadata": {},
   "source": [
    "---\n",
    "\n",
    "Visit [www.add-for.com](<http://www.add-for.com/IT>) for more tutorials and updates.\n",
    "\n",
    "This work is licensed under a <a rel=\"license\" href=\"http://creativecommons.org/licenses/by-sa/4.0/\">Creative Commons Attribution-ShareAlike 4.0 International License</a>."
   ]
  }
 ],
 "metadata": {
  "anaconda-cloud": {},
  "kernelspec": {
   "display_name": "Python [conda env:addtrain]",
   "language": "python",
   "name": "conda-env-addtrain-py"
  },
  "language_info": {
   "codemirror_mode": {
    "name": "ipython",
    "version": 3
   },
   "file_extension": ".py",
   "mimetype": "text/x-python",
   "name": "python",
   "nbconvert_exporter": "python",
   "pygments_lexer": "ipython3",
   "version": "3.5.2"
  }
 },
 "nbformat": 4,
 "nbformat_minor": 0
}
