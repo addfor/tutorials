{
 "cells": [
  {
   "cell_type": "markdown",
   "metadata": {},
   "source": [
    "# Linear Models"
   ]
  },
  {
   "cell_type": "code",
   "execution_count": 1,
   "metadata": {
    "collapsed": false,
    "scrolled": false
   },
   "outputs": [
    {
     "data": {
      "text/html": [
       "<div id='toc-container'><script type='text/javascript'>\n",
       "$(function() {\n",
       "    function regenTOC(){\n",
       "        element = $(\"#toc-container\");\n",
       "\n",
       "\tvar toc = document.createElement(\"div\");\n",
       "\t$(toc).attr(\"class\", \"table-of-contents\");\n",
       "\n",
       "\tvar curLevel = 0;\n",
       "\tvar containerStack = [toc];\n",
       "\tvar levelOfTag = {\"h2\": 1, \"h3\": 2, \"h4\": 3, \"h5\": 4};\n",
       "\n",
       "\tfunction pushLevel() {\n",
       "            var list = document.createElement(\"ul\");\n",
       "            containerStack.push(list);\n",
       "            curLevel++;\n",
       "\t}\n",
       "\t\n",
       "\tfunction popLevel() {\n",
       "            var lastContainer = containerStack.pop();\n",
       "            $(lastContainer).appendTo(containerStack[containerStack.length - 1]);\n",
       "            curLevel--;\n",
       "\t}\n",
       "\t\n",
       "\t$(\".text_cell_render :header\").each(function (i, elem) {\n",
       "            var level = levelOfTag[ elem.tagName.toLowerCase() ];\n",
       "\n",
       "            if (level === undefined)\n",
       "\t\treturn;\n",
       "\n",
       "            while (curLevel < level)\n",
       "\t\tpushLevel();\n",
       "            while (curLevel > level)\n",
       "\t\tpopLevel();\n",
       "            \n",
       "            var listItem = document.createElement(\"li\");\n",
       "            var link = document.createElement(\"a\");\n",
       "            $(link)\n",
       "\t\t.text($(elem).contents().first().text()) // Remove the pilcrow sign\n",
       "\t\t.attr(\"href\", \"#\" + $(elem).attr(\"id\"))\n",
       "\t\t.appendTo(listItem);\n",
       "            $(listItem).appendTo(containerStack[containerStack.length - 1]);\n",
       "\t});\n",
       "\t\n",
       "\twhile (curLevel > 0)\n",
       "            popLevel();\n",
       "\n",
       "        $(\"<a class='btn-update' href='#'>Update</a>\")\n",
       "          .click(regenTOC).prependTo(toc);\n",
       "\n",
       "\t$(toc).prepend(\"<div class='title'>Contents</div>\")\n",
       "          .wrap(\"<div class='toc-headings'/>\");\n",
       "\n",
       "        $(element).empty();\n",
       "        $(element).append(toc);\n",
       "    }\n",
       "\n",
       "    if (typeof(IPython) !== 'undefined')\n",
       "        $([IPython.events]).on('notebook_loaded.Notebook', regenTOC);\n",
       "    regenTOC();\n",
       "});\n",
       "\n",
       "</script></div>"
      ],
      "text/plain": [
       "<IPython.core.display.HTML object>"
      ]
     },
     "execution_count": 1,
     "metadata": {},
     "output_type": "execute_result"
    }
   ],
   "source": [
    "import addutils.toc ; addutils.toc.js(ipy_notebook=True)"
   ]
  },
  {
   "cell_type": "code",
   "execution_count": 2,
   "metadata": {
    "collapsed": false
   },
   "outputs": [
    {
     "data": {
      "text/html": [
       "<style>\n",
       ".text_cell_render @font-face {\n",
       "    font-family: \"Computer Modern\";\n",
       "    src: url('http://mirrors.ctan.org/fonts/cm-unicode/fonts/otf/cmunss.otf');\n",
       "}\n",
       "\n",
       "div.cell {\n",
       "    width: 900px;\n",
       "    margin-left: 0% !important;\n",
       "    margin-right: 0%;\n",
       "}\n",
       "\n",
       "code {\n",
       "    font-size:10pt;\n",
       "}\n",
       "\n",
       ".text_cell_render  h1 {\n",
       "    font-family: Tahoma, sans-serif;\n",
       "    color: rgb( 10, 88, 126 );\n",
       "    font-size:28pt;\n",
       "}\n",
       ".text_cell_render h2 {\n",
       "    font-family: Tahoma, sans-serif;\n",
       "    color: rgb( 10, 88, 126 );\n",
       "    font-size:24pt;\n",
       "}\n",
       ".text_cell_render h3 {\n",
       "    font-family: Tahoma, sans-serif;\n",
       "    color: rgb( 10, 88, 126 );\n",
       "    font-size:20pt;\n",
       "}\n",
       ".text_cell_render h4 {\n",
       "    font-family: Tahoma, sans-serif;\n",
       "    color: rgb( 10, 88, 126 );\n",
       "    font-size:18pt;\n",
       "    margin-top:12px;\n",
       "    margin-bottom: 3px;\n",
       "}\n",
       "\n",
       ".text_cell_render h5 {\n",
       "    font-weight: 300;\n",
       "    font-size: 11pt;\n",
       "    color: rgb( 48, 48, 48 );\n",
       "    font-style: italic;\n",
       "    margin-bottom: .5em;\n",
       "    margin-top: 0.5em;\n",
       "    display: block;\n",
       "}\n",
       "\n",
       ".text_cell_render ul {\n",
       "    font-family: Tahoma, sans-serif;\n",
       "    color: rgb( 90, 90, 90 );\n",
       "    font-size:11pt;\n",
       "    line-height: 185%;\n",
       "}\n",
       "\n",
       ".text_cell_render yp {\n",
       "    font-family: Tahoma, sans-serif;\n",
       "    color: rgb( 90, 90, 90 );\n",
       "    font-size:11pt;\n",
       "}\n",
       "\n",
       ".text_cell_render strong {\n",
       "    font-family: Tahoma, sans-serif;\n",
       "    color: rgb( 30, 30, 30 );\n",
       "    font-size:11pt;\n",
       "}\n",
       "\n",
       ".text_cell_render a:link {\n",
       "    font-family: Tahoma, sans-serif;\n",
       "    color: rgb( 10, 88, 126 );\n",
       "    font-size:11pt;\n",
       "}\n",
       "\n",
       ".text_cell_render a:visited {\n",
       "    color:rgb( 10, 88, 126 );\n",
       "}\n",
       "\n",
       ".text_cell_render {\n",
       "    font-family: Helvetica, Courier, Computer Modern, \"Helvetica Neue\", Arial, Geneva, sans-serif;\n",
       "    color: rgb( 84, 84, 84 );\n",
       "    font-size:11pt;\n",
       "    line-height: 125%;\n",
       "    font-size: 100%;\n",
       "    width:800px;\n",
       "}\n",
       "\n",
       ".CodeMirror {\n",
       "    font-family: Courier, \"Source Code Pro\", source-code-pro,Consolas, monospace;\n",
       "}\n",
       "\n",
       ".warning {\n",
       "    color: rgb( 240, 20, 20 );\n",
       "}\n",
       "\n",
       "/* Pandas tables */\n",
       "/*\n",
       ".rendered_html td {\n",
       "    text-align: right;\n",
       "}\n",
       "*/\n",
       "\n",
       "table.dataframe td {\n",
       "    text-align: right;\n",
       "}\n",
       "\n",
       ".output .table-of-contents {\n",
       "    border: 1px #cecece solid;\n",
       "    background-color: #fafafa;\n",
       "    padding-top: 10px;\n",
       "    padding-bottom: 5px;\n",
       "    padding-right: 15px;\n",
       "    padding-left: 0px;\n",
       "    margin-bottom: 20px;\n",
       "    display: inline-block;\n",
       "    position: relative;\n",
       "}\n",
       "\n",
       ".output .table-of-contents ul {\n",
       "    list-style-type: none;\n",
       "    padding-left: 20px;\n",
       "}\n",
       "\n",
       ".output .table-of-contents .title {\n",
       "    font-weight: bold;\n",
       "    font-height: 11pt;\n",
       "    padding-left: 20px; /* looks better if it's the same to the <ul> */\n",
       "}\n",
       "\n",
       ".output .table-of-contents .btn-update {\n",
       "    position: absolute;\n",
       "    float: right;\n",
       "    right: 11px;\n",
       "    top: 4px;\n",
       "    font-size: 9pt;\n",
       "}\n",
       "\n",
       "</style>\n",
       "<script>\n",
       "    MathJax.Hub.Config({\n",
       "                        TeX: {\n",
       "                           extensions: [\"AMSmath.js\"]\n",
       "                           },\n",
       "                displayAlign: 'center', // Change this to 'center' to center equations.\n",
       "                \"HTML-CSS\": {\n",
       "                    styles: {'.MathJax_Display': {\"margin\": 4}}\n",
       "                }\n",
       "        });\n",
       "</script>\n"
      ],
      "text/plain": [
       "<IPython.core.display.HTML object>"
      ]
     },
     "execution_count": 2,
     "metadata": {},
     "output_type": "execute_result"
    }
   ],
   "source": [
    "import numpy as np\n",
    "import pandas as pd\n",
    "from addutils import css_notebook\n",
    "from sklearn.datasets.samples_generator import make_regression\n",
    "from sklearn import linear_model, neighbors\n",
    "from sklearn import metrics\n",
    "css_notebook()"
   ]
  },
  {
   "cell_type": "code",
   "execution_count": 3,
   "metadata": {
    "collapsed": false
   },
   "outputs": [
    {
     "data": {
      "text/html": [
       "\n",
       "    <div class=\"bk-root\">\n",
       "        <a href=\"http://bokeh.pydata.org\" target=\"_blank\" class=\"bk-logo bk-logo-small bk-logo-notebook\"></a>\n",
       "        <span id=\"cd6b6b44-95db-4ec5-be24-174af089c380\">Loading BokehJS ...</span>\n",
       "    </div>"
      ]
     },
     "metadata": {},
     "output_type": "display_data"
    },
    {
     "data": {
      "application/javascript": [
       "\n",
       "(function(global) {\n",
       "  function now() {\n",
       "    return new Date();\n",
       "  }\n",
       "\n",
       "  var force = true;\n",
       "\n",
       "  if (typeof (window._bokeh_onload_callbacks) === \"undefined\" || force === true) {\n",
       "    window._bokeh_onload_callbacks = [];\n",
       "    window._bokeh_is_loading = undefined;\n",
       "  }\n",
       "\n",
       "\n",
       "  \n",
       "  if (typeof (window._bokeh_timeout) === \"undefined\" || force === true) {\n",
       "    window._bokeh_timeout = Date.now() + 5000;\n",
       "    window._bokeh_failed_load = false;\n",
       "  }\n",
       "\n",
       "  var NB_LOAD_WARNING = {'data': {'text/html':\n",
       "     \"<div style='background-color: #fdd'>\\n\"+\n",
       "     \"<p>\\n\"+\n",
       "     \"BokehJS does not appear to have successfully loaded. If loading BokehJS from CDN, this \\n\"+\n",
       "     \"may be due to a slow or bad network connection. Possible fixes:\\n\"+\n",
       "     \"</p>\\n\"+\n",
       "     \"<ul>\\n\"+\n",
       "     \"<li>re-rerun `output_notebook()` to attempt to load from CDN again, or</li>\\n\"+\n",
       "     \"<li>use INLINE resources instead, as so:</li>\\n\"+\n",
       "     \"</ul>\\n\"+\n",
       "     \"<code>\\n\"+\n",
       "     \"from bokeh.resources import INLINE\\n\"+\n",
       "     \"output_notebook(resources=INLINE)\\n\"+\n",
       "     \"</code>\\n\"+\n",
       "     \"</div>\"}};\n",
       "\n",
       "  function display_loaded() {\n",
       "    if (window.Bokeh !== undefined) {\n",
       "      document.getElementById(\"cd6b6b44-95db-4ec5-be24-174af089c380\").textContent = \"BokehJS successfully loaded.\";\n",
       "    } else if (Date.now() < window._bokeh_timeout) {\n",
       "      setTimeout(display_loaded, 100)\n",
       "    }\n",
       "  }\n",
       "\n",
       "  function run_callbacks() {\n",
       "    window._bokeh_onload_callbacks.forEach(function(callback) { callback() });\n",
       "    delete window._bokeh_onload_callbacks\n",
       "    console.info(\"Bokeh: all callbacks have finished\");\n",
       "  }\n",
       "\n",
       "  function load_libs(js_urls, callback) {\n",
       "    window._bokeh_onload_callbacks.push(callback);\n",
       "    if (window._bokeh_is_loading > 0) {\n",
       "      console.log(\"Bokeh: BokehJS is being loaded, scheduling callback at\", now());\n",
       "      return null;\n",
       "    }\n",
       "    if (js_urls == null || js_urls.length === 0) {\n",
       "      run_callbacks();\n",
       "      return null;\n",
       "    }\n",
       "    console.log(\"Bokeh: BokehJS not loaded, scheduling load and callback at\", now());\n",
       "    window._bokeh_is_loading = js_urls.length;\n",
       "    for (var i = 0; i < js_urls.length; i++) {\n",
       "      var url = js_urls[i];\n",
       "      var s = document.createElement('script');\n",
       "      s.src = url;\n",
       "      s.async = false;\n",
       "      s.onreadystatechange = s.onload = function() {\n",
       "        window._bokeh_is_loading--;\n",
       "        if (window._bokeh_is_loading === 0) {\n",
       "          console.log(\"Bokeh: all BokehJS libraries loaded\");\n",
       "          run_callbacks()\n",
       "        }\n",
       "      };\n",
       "      s.onerror = function() {\n",
       "        console.warn(\"failed to load library \" + url);\n",
       "      };\n",
       "      console.log(\"Bokeh: injecting script tag for BokehJS library: \", url);\n",
       "      document.getElementsByTagName(\"head\")[0].appendChild(s);\n",
       "    }\n",
       "  };var element = document.getElementById(\"cd6b6b44-95db-4ec5-be24-174af089c380\");\n",
       "  if (element == null) {\n",
       "    console.log(\"Bokeh: ERROR: autoload.js configured with elementid 'cd6b6b44-95db-4ec5-be24-174af089c380' but no matching script tag was found. \")\n",
       "    return false;\n",
       "  }\n",
       "\n",
       "  var js_urls = [\"https://cdn.pydata.org/bokeh/release/bokeh-0.12.4.min.js\", \"https://cdn.pydata.org/bokeh/release/bokeh-widgets-0.12.4.min.js\"];\n",
       "\n",
       "  var inline_js = [\n",
       "    function(Bokeh) {\n",
       "      Bokeh.set_log_level(\"info\");\n",
       "    },\n",
       "    \n",
       "    function(Bokeh) {\n",
       "      \n",
       "      document.getElementById(\"cd6b6b44-95db-4ec5-be24-174af089c380\").textContent = \"BokehJS is loading...\";\n",
       "    },\n",
       "    function(Bokeh) {\n",
       "      console.log(\"Bokeh: injecting CSS: https://cdn.pydata.org/bokeh/release/bokeh-0.12.4.min.css\");\n",
       "      Bokeh.embed.inject_css(\"https://cdn.pydata.org/bokeh/release/bokeh-0.12.4.min.css\");\n",
       "      console.log(\"Bokeh: injecting CSS: https://cdn.pydata.org/bokeh/release/bokeh-widgets-0.12.4.min.css\");\n",
       "      Bokeh.embed.inject_css(\"https://cdn.pydata.org/bokeh/release/bokeh-widgets-0.12.4.min.css\");\n",
       "    }\n",
       "  ];\n",
       "\n",
       "  function run_inline_js() {\n",
       "    \n",
       "    if ((window.Bokeh !== undefined) || (force === true)) {\n",
       "      for (var i = 0; i < inline_js.length; i++) {\n",
       "        inline_js[i](window.Bokeh);\n",
       "      }if (force === true) {\n",
       "        display_loaded();\n",
       "      }} else if (Date.now() < window._bokeh_timeout) {\n",
       "      setTimeout(run_inline_js, 100);\n",
       "    } else if (!window._bokeh_failed_load) {\n",
       "      console.log(\"Bokeh: BokehJS failed to load within specified timeout.\");\n",
       "      window._bokeh_failed_load = true;\n",
       "    } else if (force !== true) {\n",
       "      var cell = $(document.getElementById(\"cd6b6b44-95db-4ec5-be24-174af089c380\")).parents('.cell').data().cell;\n",
       "      cell.output_area.append_execute_result(NB_LOAD_WARNING)\n",
       "    }\n",
       "\n",
       "  }\n",
       "\n",
       "  if (window._bokeh_is_loading === 0) {\n",
       "    console.log(\"Bokeh: BokehJS loaded, going straight to plotting\");\n",
       "    run_inline_js();\n",
       "  } else {\n",
       "    load_libs(js_urls, function() {\n",
       "      console.log(\"Bokeh: BokehJS plotting callback run at\", now());\n",
       "      run_inline_js();\n",
       "    });\n",
       "  }\n",
       "}(this));"
      ]
     },
     "metadata": {},
     "output_type": "display_data"
    }
   ],
   "source": [
    "import bokeh.plotting as bk\n",
    "from bokeh import palettes\n",
    "from bokeh.models import Range1d, FixedTicker\n",
    "from bokeh.layouts import gridplot\n",
    "bk.output_notebook()"
   ]
  },
  {
   "cell_type": "code",
   "execution_count": 4,
   "metadata": {
    "collapsed": false
   },
   "outputs": [],
   "source": [
    "import matplotlib.pyplot as plt\n",
    "%matplotlib notebook"
   ]
  },
  {
   "cell_type": "markdown",
   "metadata": {},
   "source": [
    "## 1 Introduction"
   ]
  },
  {
   "cell_type": "markdown",
   "metadata": {},
   "source": [
    "In this notebook we introduce linear models for regression and classification. This introduction serves also to introduce the main terminology of ML as well one important aspect of ML practice: the *curse of dimensionality*."
   ]
  },
  {
   "cell_type": "markdown",
   "metadata": {},
   "source": [
    "## 2 Linear Model for Regression"
   ]
  },
  {
   "cell_type": "markdown",
   "metadata": {},
   "source": [
    "`LinearRegression` fits a linear model with coefficients $w = (w_1, \\ldots, w_p)$ to minimize the residual sum of squares between the observed responses in the dataset, and the responses predicted by the linear approximation.\n",
    "\n",
    "Mathematically it solves a problem of the form: \n",
    "$$ \\underset{w}{min} \\|Xw -y\\|_2^2$$"
   ]
  },
  {
   "cell_type": "markdown",
   "metadata": {},
   "source": [
    "### 2.1 Simple Linear Regression"
   ]
  },
  {
   "cell_type": "markdown",
   "metadata": {},
   "source": [
    "Simple linear regression is an approach for predicting a **quantitative response** using a **single feature** (or \"predictor\" or \"input variable\"). It has the following mathematical definition:\n",
    "\n",
    "$y = \\beta_0 + \\beta_1x$\n",
    "\n",
    "Where:\n",
    "- $y$ is the response or **target**\n",
    "- $x$ is the **feature**\n",
    "- $\\beta_0$ is the intercept\n",
    "- $\\beta_1$ is the coefficient for x\n",
    "\n",
    "$\\beta_0$ and $\\beta_1$ are called the **model coefficients** or **parameters**. To build the model, it is necessary to **learn** the values of these coefficients. And once the model has learned these coefficients, it can be used for prediction. We are learning a function, sometimes called **hypothesis** that is $h(x) = \\beta_0 + \\beta_1x$\n",
    "\n",
    "In supervised learning we are going to learn model from examples. What are examples? They are given couples feature, response. For example suppose we want to learn to predict the price of a house based on its size in feet$^2$. You are presented a **dataset** that is a table with two columns one that represent the size and the other that represent the price."
   ]
  },
  {
   "cell_type": "markdown",
   "metadata": {},
   "source": [
    "<img src=\"images/trainset_example.png\" alt=\"\" height=\"500\" width=\"500\">"
   ]
  },
  {
   "cell_type": "markdown",
   "metadata": {},
   "source": [
    "An **example** is a line in the table. The number of example $n$ is the size of the dataset. A couple $(x, y)$ is one training example, $(x_i, y_i)$ refers to the $i^{th}$ training example."
   ]
  },
  {
   "cell_type": "markdown",
   "metadata": {},
   "source": [
    "<img src=\"images/train_cycle.png\" alt=\"\" height=\"400\" width=\"400\">"
   ]
  },
  {
   "cell_type": "markdown",
   "metadata": {},
   "source": [
    "### 2.2 Interpreting Model Coefficients"
   ]
  },
  {
   "cell_type": "markdown",
   "metadata": {},
   "source": [
    "How do we interpret the coefficient $\\beta_1$? A *unit* **increase** in the variable $x$ is **associated with** $\\beta_1$ *unit* **increase** in variable $y$. Note that if an increase in $x$ is associated with a **decrease** in $y$, $\\beta_1$ would be **negative**."
   ]
  },
  {
   "cell_type": "code",
   "execution_count": 5,
   "metadata": {
    "collapsed": false
   },
   "outputs": [],
   "source": [
    "X, y = make_regression(n_samples=100000, n_features=1, n_informative=1,\n",
    "                       random_state=0, noise=35)"
   ]
  },
  {
   "cell_type": "code",
   "execution_count": 6,
   "metadata": {
    "collapsed": false
   },
   "outputs": [
    {
     "data": {
      "text/html": [
       "\n",
       "\n",
       "    <div class=\"bk-root\">\n",
       "        <div class=\"bk-plotdiv\" id=\"3b539b0b-73fd-4c6e-80d4-5848452cc25e\"></div>\n",
       "    </div>\n",
       "<script type=\"text/javascript\">\n",
       "  \n",
       "  (function(global) {\n",
       "    function now() {\n",
       "      return new Date();\n",
       "    }\n",
       "  \n",
       "    var force = false;\n",
       "  \n",
       "    if (typeof (window._bokeh_onload_callbacks) === \"undefined\" || force === true) {\n",
       "      window._bokeh_onload_callbacks = [];\n",
       "      window._bokeh_is_loading = undefined;\n",
       "    }\n",
       "  \n",
       "  \n",
       "    \n",
       "    if (typeof (window._bokeh_timeout) === \"undefined\" || force === true) {\n",
       "      window._bokeh_timeout = Date.now() + 0;\n",
       "      window._bokeh_failed_load = false;\n",
       "    }\n",
       "  \n",
       "    var NB_LOAD_WARNING = {'data': {'text/html':\n",
       "       \"<div style='background-color: #fdd'>\\n\"+\n",
       "       \"<p>\\n\"+\n",
       "       \"BokehJS does not appear to have successfully loaded. If loading BokehJS from CDN, this \\n\"+\n",
       "       \"may be due to a slow or bad network connection. Possible fixes:\\n\"+\n",
       "       \"</p>\\n\"+\n",
       "       \"<ul>\\n\"+\n",
       "       \"<li>re-rerun `output_notebook()` to attempt to load from CDN again, or</li>\\n\"+\n",
       "       \"<li>use INLINE resources instead, as so:</li>\\n\"+\n",
       "       \"</ul>\\n\"+\n",
       "       \"<code>\\n\"+\n",
       "       \"from bokeh.resources import INLINE\\n\"+\n",
       "       \"output_notebook(resources=INLINE)\\n\"+\n",
       "       \"</code>\\n\"+\n",
       "       \"</div>\"}};\n",
       "  \n",
       "    function display_loaded() {\n",
       "      if (window.Bokeh !== undefined) {\n",
       "        document.getElementById(\"3b539b0b-73fd-4c6e-80d4-5848452cc25e\").textContent = \"BokehJS successfully loaded.\";\n",
       "      } else if (Date.now() < window._bokeh_timeout) {\n",
       "        setTimeout(display_loaded, 100)\n",
       "      }\n",
       "    }\n",
       "  \n",
       "    function run_callbacks() {\n",
       "      window._bokeh_onload_callbacks.forEach(function(callback) { callback() });\n",
       "      delete window._bokeh_onload_callbacks\n",
       "      console.info(\"Bokeh: all callbacks have finished\");\n",
       "    }\n",
       "  \n",
       "    function load_libs(js_urls, callback) {\n",
       "      window._bokeh_onload_callbacks.push(callback);\n",
       "      if (window._bokeh_is_loading > 0) {\n",
       "        console.log(\"Bokeh: BokehJS is being loaded, scheduling callback at\", now());\n",
       "        return null;\n",
       "      }\n",
       "      if (js_urls == null || js_urls.length === 0) {\n",
       "        run_callbacks();\n",
       "        return null;\n",
       "      }\n",
       "      console.log(\"Bokeh: BokehJS not loaded, scheduling load and callback at\", now());\n",
       "      window._bokeh_is_loading = js_urls.length;\n",
       "      for (var i = 0; i < js_urls.length; i++) {\n",
       "        var url = js_urls[i];\n",
       "        var s = document.createElement('script');\n",
       "        s.src = url;\n",
       "        s.async = false;\n",
       "        s.onreadystatechange = s.onload = function() {\n",
       "          window._bokeh_is_loading--;\n",
       "          if (window._bokeh_is_loading === 0) {\n",
       "            console.log(\"Bokeh: all BokehJS libraries loaded\");\n",
       "            run_callbacks()\n",
       "          }\n",
       "        };\n",
       "        s.onerror = function() {\n",
       "          console.warn(\"failed to load library \" + url);\n",
       "        };\n",
       "        console.log(\"Bokeh: injecting script tag for BokehJS library: \", url);\n",
       "        document.getElementsByTagName(\"head\")[0].appendChild(s);\n",
       "      }\n",
       "    };var element = document.getElementById(\"3b539b0b-73fd-4c6e-80d4-5848452cc25e\");\n",
       "    if (element == null) {\n",
       "      console.log(\"Bokeh: ERROR: autoload.js configured with elementid '3b539b0b-73fd-4c6e-80d4-5848452cc25e' but no matching script tag was found. \")\n",
       "      return false;\n",
       "    }\n",
       "  \n",
       "    var js_urls = [];\n",
       "  \n",
       "    var inline_js = [\n",
       "      function(Bokeh) {\n",
       "        (function() {\n",
       "          var fn = function() {\n",
       "            var docs_json = {\"c551bbb1-76a7-4eac-bbd8-d45b6ac8f606\":{\"roots\":{\"references\":[{\"attributes\":{\"formatter\":{\"id\":\"66f8f9ac-3b22-4ce9-af22-b4cfb97b40fd\",\"type\":\"BasicTickFormatter\"},\"minor_tick_out\":0,\"plot\":{\"id\":\"ce9b3b61-5704-4e20-8c8f-b6cf1d145d2f\",\"subtype\":\"Figure\",\"type\":\"Plot\"},\"ticker\":{\"id\":\"e78b6ae4-24a8-4aa2-b28b-d4241704512c\",\"type\":\"BasicTicker\"}},\"id\":\"70de7f71-5562-47d8-83ce-859b8f9afc5a\",\"type\":\"LinearAxis\"},{\"attributes\":{\"bottom_units\":\"screen\",\"fill_alpha\":{\"value\":0.5},\"fill_color\":{\"value\":\"lightgrey\"},\"left_units\":\"screen\",\"level\":\"overlay\",\"line_alpha\":{\"value\":1.0},\"line_color\":{\"value\":\"black\"},\"line_dash\":[4,4],\"line_width\":{\"value\":2},\"plot\":null,\"render_mode\":\"css\",\"right_units\":\"screen\",\"top_units\":\"screen\"},\"id\":\"46f2ca87-c57e-4d15-99ad-80a269cc4643\",\"type\":\"BoxAnnotation\"},{\"attributes\":{\"line_alpha\":{\"value\":0.1},\"line_color\":{\"value\":\"#1f77b4\"},\"line_width\":{\"value\":3},\"x\":{\"field\":\"x\"},\"y\":{\"field\":\"y\"}},\"id\":\"10975a68-2c2b-441d-9a70-df8cfe23025c\",\"type\":\"Line\"},{\"attributes\":{},\"id\":\"66f8f9ac-3b22-4ce9-af22-b4cfb97b40fd\",\"type\":\"BasicTickFormatter\"},{\"attributes\":{\"formatter\":{\"id\":\"d83c43d1-22c7-4140-bddf-918e66b2a33d\",\"type\":\"BasicTickFormatter\"},\"minor_tick_out\":0,\"plot\":{\"id\":\"ce9b3b61-5704-4e20-8c8f-b6cf1d145d2f\",\"subtype\":\"Figure\",\"type\":\"Plot\"},\"ticker\":{\"id\":\"1c61b3b8-9ef2-4abc-b627-44006175a94a\",\"type\":\"BasicTicker\"}},\"id\":\"ae371490-c5e6-4e47-805c-c1f35f3c99da\",\"type\":\"LinearAxis\"},{\"attributes\":{\"plot\":{\"id\":\"ce9b3b61-5704-4e20-8c8f-b6cf1d145d2f\",\"subtype\":\"Figure\",\"type\":\"Plot\"}},\"id\":\"c623124c-a239-473f-b4b1-6141253a49e2\",\"type\":\"SaveTool\"},{\"attributes\":{\"overlay\":{\"id\":\"46f2ca87-c57e-4d15-99ad-80a269cc4643\",\"type\":\"BoxAnnotation\"},\"plot\":{\"id\":\"ce9b3b61-5704-4e20-8c8f-b6cf1d145d2f\",\"subtype\":\"Figure\",\"type\":\"Plot\"}},\"id\":\"a6154f03-38c8-4ccc-8cbd-ddf2af684559\",\"type\":\"BoxZoomTool\"},{\"attributes\":{\"plot\":{\"id\":\"ce9b3b61-5704-4e20-8c8f-b6cf1d145d2f\",\"subtype\":\"Figure\",\"type\":\"Plot\"}},\"id\":\"cc936d25-7555-4ba3-80de-2578c94b7064\",\"type\":\"ResetTool\"},{\"attributes\":{\"plot\":{\"id\":\"ce9b3b61-5704-4e20-8c8f-b6cf1d145d2f\",\"subtype\":\"Figure\",\"type\":\"Plot\"}},\"id\":\"e71c13f9-2efa-4908-98e4-55c53ec2a215\",\"type\":\"HelpTool\"},{\"attributes\":{\"callback\":null,\"column_names\":[\"y\",\"x\"],\"data\":{\"x\":{\"__ndarray__\":\"MqNhARb47z/xq5BPfCXwPwoV11+YwH8/+OB1NJ4u6j+UnUAMN7TuvwI9nTkwj/i/mg4SYvTd8D8upzHE0Hz6P4Iha/CxjvS/IWCvl2sc9r/wh7HgDBjIPxhfXwUXf/G/9lsYNUWx4T+PiounKkL6P4XiHNE6/vy/WFkCwlYM4L81AycenmnnP9mV7eZVxsK/tVQpYCFa8L8wNELzK++wP6hvNYGW6Na/GTzlruiq978b9nYKuJ7tP61nUWXKweo/WrRpmaFT47/lqMgGVHf0P0KcFdSIBwBA4wlsELGI4D+vhc/9qVfSv09M47hI1QlAo5i2DiSj8r8SgTPnrPTwP5AKD3ZoEsQ/8MDx3O2W1z8zkiKLHunKPx9eMUTM85g/KLMYS8mt4D/yeW3e4vTPP6t4atNROPW/2YUTzmAZ8D+qEaaB1nfuv5LiWYyX7c6/nZuf9OsK+D+04b42qdjVPwZG8ZaijNc/D7ELYtSt3D/gHC4CZEDov4k85SuoqvI/Huhf90Ksqr+3hGfOUqzfP5CTPjhXKem/u31ZcZR0z7/kkLxWjvzmv7KKfsNYNe6/gpJ4EQ5jy7/yTNz1JuXNv7H+7WuzVAPAy5bBgvjeyb+igHDcolzWP+TQDa2wp/I/0HqaRczU6r/bgPzJBcn7vxrL5y0lrfC/MDqqh/8Z8j8LFNUNlt74P18VC34N/No//YiOjl5Z+L/jW0APwgLwPyHRzDjse8m/urB9OU/zAsCCVwZfS9pvv6JuW36dtuQ/yLbpi8t//T9//7VBbpC9v4cCOncTKPY/U0kQqyuQwb8tUEqGLjzzv9LMEzwpN/c/FmZ1NG6c0b+YjH9ar3bsvxKIRq1GyNg/b6GxptwC1z+PT4uHrjbmvytM9iksStE/m+DoE+hT9L9mgjBdBvnyv78iGoBbqeG/lx0Mxuc/9j9t7ZVqclz3v1UYLCeFPvS/bSbjGLbQwD8rEI4ili/mv6irRA6xIOW/bdZ6NmUB+T81Jru8cAAAwG3pvW24qT2/TTH4IuJKAEBMtV/aW4zxP0RUTZjVYao/ckpVmKLO5j8=\",\"dtype\":\"float64\",\"shape\":[100]},\"y\":{\"__ndarray__\":\"loYIQhndU0Ck4li5dhBUQGHy3ZDwVOo/884UQwNHUED3cnwNxvlSwI6a3zk0Y17AbrE+hxn1VEA9ad5/0XBgQPuxPkZrbVnAecR12l5aW8D4aSkxUkcuQLu3rIoyolXAJhOJr1EIRkAmYaYMeUxgQNnzt6wA8WHAOu2CnV7JQ8CSZWRnRR9NQI5wOOGh2ibAvFetaRg3VMCcgmWJEtIVQE6wRal+LzzAOs6hqURIXcA2NRxdbGhSQBZrNLY3olBAXCVHh5zZR8B/NiZIE2tZQJ9DFuav5GNAvGvhOruYREBY38XXsoY2wOX/imyrBXBAi4tqXiwMV8BFmZiuQhFVQCwHZ4MnSylAACIbmQxyPUCSh2dPhOIwQJzWQ3l9IAFA0PedHbXGREAi2pPbCgM0QIWMYgaoP1rAOjSlHHUBVECHuElsW9RSwEBHqnxn9TLARld5CePZXUAUrEep7kg7QJoYRF5KZT1ALd+rJnPgQUA5SlMnO/RNwHbSS1IbMFdANCxWzT9lD8DJOG3ddLtDQIkyian0FE/AEiq93Q5JM8CDy6mP3GJMwI4hEdEmq1LAlhhIYpzDMMAgY838hlEywLKTt4bm7mfADTjcNjimL8CmhsODgew7QCleZ/ttLFdAWNUhAmGTUMA6jPD7YTFhwIEleXr8nVTAM6n+DdB8VkCOlD/EOuBeQPDeleCh00BALQ7azn8gXsCHGWrna+VTQI8ZDPB0Ky/Afely4TB2Z8BUNKvxALm5v3EkJubSxklAZGWl3ZpOYkABNDLlyechwDGu7kxvg1tAmutqlTRaJcCh2vs628lXwADeK8ps01xAbCHT4KKeNcDdE8RnWZZRwPir4SiB7D5AWi3914e6PEBxfElenG1LwMpck5QnozVAzPy9EI4kWcAOCh3MnnZXwJv5oalGyUXAhuVKMPigW0A9C/kxBedcwAUOUUsMClnAmwxEDdlBJUDDSlMU0WRLwIrdAfAPFUrA7HsCgF8LX0D6ubvolc5jwEOyXZKrBcY/mQsqPyk4ZEDZoEDSQs1VQC0fALhiLhFAH8Vbei5fTEA=\",\"dtype\":\"float64\",\"shape\":[100]}}},\"id\":\"a9da796f-2931-43ca-bbd3-398a6f720923\",\"type\":\"ColumnDataSource\"},{\"attributes\":{\"fill_color\":{\"value\":\"black\"},\"x\":{\"field\":\"x\"},\"y\":{\"field\":\"y\"}},\"id\":\"738cd191-2d7c-4048-9518-601a4846260c\",\"type\":\"Circle\"},{\"attributes\":{\"data_source\":{\"id\":\"a9da796f-2931-43ca-bbd3-398a6f720923\",\"type\":\"ColumnDataSource\"},\"glyph\":{\"id\":\"5d728618-a2e9-45d1-b442-dc53ae2a579d\",\"type\":\"Line\"},\"hover_glyph\":null,\"nonselection_glyph\":{\"id\":\"10975a68-2c2b-441d-9a70-df8cfe23025c\",\"type\":\"Line\"},\"selection_glyph\":null},\"id\":\"baa6ee71-7446-43af-b4bc-ab50f5a3d19d\",\"type\":\"GlyphRenderer\"},{\"attributes\":{\"plot\":{\"id\":\"ce9b3b61-5704-4e20-8c8f-b6cf1d145d2f\",\"subtype\":\"Figure\",\"type\":\"Plot\"}},\"id\":\"25668998-b459-413f-90c5-978c389f56b5\",\"type\":\"WheelZoomTool\"},{\"attributes\":{\"callback\":null},\"id\":\"fc46476d-da1c-41c5-89b7-01118885e0fb\",\"type\":\"DataRange1d\"},{\"attributes\":{\"grid_line_color\":{\"value\":null},\"plot\":{\"id\":\"ce9b3b61-5704-4e20-8c8f-b6cf1d145d2f\",\"subtype\":\"Figure\",\"type\":\"Plot\"},\"ticker\":{\"id\":\"e78b6ae4-24a8-4aa2-b28b-d4241704512c\",\"type\":\"BasicTicker\"}},\"id\":\"1b94604f-a276-4a89-8be9-9cc054d0db99\",\"type\":\"Grid\"},{\"attributes\":{\"fill_alpha\":{\"value\":0.1},\"fill_color\":{\"value\":\"#1f77b4\"},\"line_alpha\":{\"value\":0.1},\"line_color\":{\"value\":\"#1f77b4\"},\"x\":{\"field\":\"x\"},\"y\":{\"field\":\"y\"}},\"id\":\"5e984952-4e56-4085-a680-32f7e8eb298c\",\"type\":\"Circle\"},{\"attributes\":{\"callback\":null,\"column_names\":[\"y\",\"x\"],\"data\":{\"x\":{\"__ndarray__\":\"MqNhARb47z/xq5BPfCXwPwoV11+YwH8/+OB1NJ4u6j+UnUAMN7TuvwI9nTkwj/i/mg4SYvTd8D8upzHE0Hz6P4Iha/CxjvS/IWCvl2sc9r/wh7HgDBjIPxhfXwUXf/G/9lsYNUWx4T+PiounKkL6P4XiHNE6/vy/WFkCwlYM4L81AycenmnnP9mV7eZVxsK/tVQpYCFa8L8wNELzK++wP6hvNYGW6Na/GTzlruiq978b9nYKuJ7tP61nUWXKweo/WrRpmaFT47/lqMgGVHf0P0KcFdSIBwBA4wlsELGI4D+vhc/9qVfSv09M47hI1QlAo5i2DiSj8r8SgTPnrPTwP5AKD3ZoEsQ/8MDx3O2W1z8zkiKLHunKPx9eMUTM85g/KLMYS8mt4D/yeW3e4vTPP6t4atNROPW/2YUTzmAZ8D+qEaaB1nfuv5LiWYyX7c6/nZuf9OsK+D+04b42qdjVPwZG8ZaijNc/D7ELYtSt3D/gHC4CZEDov4k85SuoqvI/Huhf90Ksqr+3hGfOUqzfP5CTPjhXKem/u31ZcZR0z7/kkLxWjvzmv7KKfsNYNe6/gpJ4EQ5jy7/yTNz1JuXNv7H+7WuzVAPAy5bBgvjeyb+igHDcolzWP+TQDa2wp/I/0HqaRczU6r/bgPzJBcn7vxrL5y0lrfC/MDqqh/8Z8j8LFNUNlt74P18VC34N/No//YiOjl5Z+L/jW0APwgLwPyHRzDjse8m/urB9OU/zAsCCVwZfS9pvv6JuW36dtuQ/yLbpi8t//T9//7VBbpC9v4cCOncTKPY/U0kQqyuQwb8tUEqGLjzzv9LMEzwpN/c/FmZ1NG6c0b+YjH9ar3bsvxKIRq1GyNg/b6GxptwC1z+PT4uHrjbmvytM9iksStE/m+DoE+hT9L9mgjBdBvnyv78iGoBbqeG/lx0Mxuc/9j9t7ZVqclz3v1UYLCeFPvS/bSbjGLbQwD8rEI4ili/mv6irRA6xIOW/bdZ6NmUB+T81Jru8cAAAwG3pvW24qT2/TTH4IuJKAEBMtV/aW4zxP0RUTZjVYao/ckpVmKLO5j8=\",\"dtype\":\"float64\",\"shape\":[100]},\"y\":{\"__ndarray__\":\"HKyN58TfNkAqcCmmHGtLQKfLccn0vDHAnJ8AJl76UUCsp1WUWqljwKIHgeqGVlTA9tbCX+HeWECBjYHasbNiQMvjOqK1F2PAThyQJb67YcBZ4Wa5fTQwwL2avafZXlzAbqrnAhfFU0CcutvIKJ5lQFr5kqGx7WbA/ai+4iWOQcByzvurxLlTQIb6JFZ6ODzAq67P/ymQWcCuaCNKwAszQLyF4yx2oSzANppNmW8ZTMB4JDaGTshmQJD3pI1nKjpAiGLwGul6QsAsCuZOEmJJQLbz+3ePA2BALD6q3e1UIsBvuY2rU2w5QIxSsCAlTHFANOunMO9eQcBX3cFVYDFCQBCS7xah2v2/MrpXblTTQ8A7cj5YFnQ+wDrbJxVw3yJAf5IsVPcDQUBR9iclGOtSQGJbQcoLklbAKRi7qq96VEDGtPWytmhbwBDpl7XbMiZAj2cryny2ZEA8zFgguD4dQA4lMw3Sp0JAkXU7KBQKREB+MWh9I/c3wAFQEbuxCVZATYR9CJcUNMBJbCk9U+05QOiHOMpwYFfANjzQ/RnrRMAalzQSgA47wGahuGE0QUzA9QftGJJCSsAufSsCT9EzQF+C1gciIGPAKdtpRq9mRcB6l4qBNQE7QGANk/m4lVdA8JzBNdyXWcCHjH6vBBFfwGCdfP3y1VnAcOBJh7WLX0Damn+bvFdSQLj6ywMM2ynACZ5AoSPlXsA2E/oDqF9JQO622A9LPUjA/NDJp/X7acA5oAWyoS8yQDOe6hzkMlRAT+338HNiZ0DZMTKDvawxQJ4hHQ/VS1pApHlcEj2oN8AG+Iht9PlfwK3rJrF5p2FAPDlm1osBHkA3Yu/Y6WhWwCbbCjvnbDBAbed7Zn1fS0DQ+9q3LoNVwL/bJgGUIFRAE/3bQeVgZ8BgKfH7YGIwwIm5h0QbsTLA8CaETUYHXEBcs+iFvLZdwE4/qWmmAk/AbvyD5A1mOMCN9V8iiQZAwF5pxKBjK1nAWz8lSoX7YUASnd7VmkhlwN7w6vNNBDdAQZ2OKZUzaUAFU9iuNzFFQIGj7QzEVT3AmFqPMWWtV0A=\",\"dtype\":\"float64\",\"shape\":[100]}}},\"id\":\"502254e7-48d0-4b0e-b3ea-dd5a2ec68fbb\",\"type\":\"ColumnDataSource\"},{\"attributes\":{\"active_drag\":\"auto\",\"active_scroll\":\"auto\",\"active_tap\":\"auto\",\"tools\":[{\"id\":\"3c0e1e10-85db-4cfc-91b0-a06ade7c2f7d\",\"type\":\"PanTool\"},{\"id\":\"25668998-b459-413f-90c5-978c389f56b5\",\"type\":\"WheelZoomTool\"},{\"id\":\"a6154f03-38c8-4ccc-8cbd-ddf2af684559\",\"type\":\"BoxZoomTool\"},{\"id\":\"c623124c-a239-473f-b4b1-6141253a49e2\",\"type\":\"SaveTool\"},{\"id\":\"cc936d25-7555-4ba3-80de-2578c94b7064\",\"type\":\"ResetTool\"},{\"id\":\"e71c13f9-2efa-4908-98e4-55c53ec2a215\",\"type\":\"HelpTool\"}]},\"id\":\"99c7240e-f471-4270-9bd8-f85ba7b4008b\",\"type\":\"Toolbar\"},{\"attributes\":{},\"id\":\"db12cd07-d2c9-4775-9b36-6ec4310738e8\",\"type\":\"ToolEvents\"},{\"attributes\":{},\"id\":\"1c61b3b8-9ef2-4abc-b627-44006175a94a\",\"type\":\"BasicTicker\"},{\"attributes\":{},\"id\":\"d83c43d1-22c7-4140-bddf-918e66b2a33d\",\"type\":\"BasicTickFormatter\"},{\"attributes\":{\"callback\":null},\"id\":\"e2731d6c-fb2b-4de4-a6bc-d4b14c5ec5bb\",\"type\":\"DataRange1d\"},{\"attributes\":{\"plot\":{\"id\":\"ce9b3b61-5704-4e20-8c8f-b6cf1d145d2f\",\"subtype\":\"Figure\",\"type\":\"Plot\"}},\"id\":\"3c0e1e10-85db-4cfc-91b0-a06ade7c2f7d\",\"type\":\"PanTool\"},{\"attributes\":{\"data_source\":{\"id\":\"502254e7-48d0-4b0e-b3ea-dd5a2ec68fbb\",\"type\":\"ColumnDataSource\"},\"glyph\":{\"id\":\"738cd191-2d7c-4048-9518-601a4846260c\",\"type\":\"Circle\"},\"hover_glyph\":null,\"nonselection_glyph\":{\"id\":\"5e984952-4e56-4085-a680-32f7e8eb298c\",\"type\":\"Circle\"},\"selection_glyph\":null},\"id\":\"afee79cf-ed97-4d6e-b343-d2670c0a51a7\",\"type\":\"GlyphRenderer\"},{\"attributes\":{\"below\":[{\"id\":\"70de7f71-5562-47d8-83ce-859b8f9afc5a\",\"type\":\"LinearAxis\"}],\"left\":[{\"id\":\"ae371490-c5e6-4e47-805c-c1f35f3c99da\",\"type\":\"LinearAxis\"}],\"plot_height\":300,\"plot_width\":630,\"renderers\":[{\"id\":\"70de7f71-5562-47d8-83ce-859b8f9afc5a\",\"type\":\"LinearAxis\"},{\"id\":\"1b94604f-a276-4a89-8be9-9cc054d0db99\",\"type\":\"Grid\"},{\"id\":\"ae371490-c5e6-4e47-805c-c1f35f3c99da\",\"type\":\"LinearAxis\"},{\"id\":\"22630167-67cc-4fd1-879e-2e872d33359e\",\"type\":\"Grid\"},{\"id\":\"46f2ca87-c57e-4d15-99ad-80a269cc4643\",\"type\":\"BoxAnnotation\"},{\"id\":\"afee79cf-ed97-4d6e-b343-d2670c0a51a7\",\"type\":\"GlyphRenderer\"},{\"id\":\"baa6ee71-7446-43af-b4bc-ab50f5a3d19d\",\"type\":\"GlyphRenderer\"}],\"title\":null,\"tool_events\":{\"id\":\"db12cd07-d2c9-4775-9b36-6ec4310738e8\",\"type\":\"ToolEvents\"},\"toolbar\":{\"id\":\"99c7240e-f471-4270-9bd8-f85ba7b4008b\",\"type\":\"Toolbar\"},\"x_range\":{\"id\":\"fc46476d-da1c-41c5-89b7-01118885e0fb\",\"type\":\"DataRange1d\"},\"y_range\":{\"id\":\"e2731d6c-fb2b-4de4-a6bc-d4b14c5ec5bb\",\"type\":\"DataRange1d\"}},\"id\":\"ce9b3b61-5704-4e20-8c8f-b6cf1d145d2f\",\"subtype\":\"Figure\",\"type\":\"Plot\"},{\"attributes\":{},\"id\":\"e78b6ae4-24a8-4aa2-b28b-d4241704512c\",\"type\":\"BasicTicker\"},{\"attributes\":{\"dimension\":1,\"grid_line_color\":{\"value\":null},\"plot\":{\"id\":\"ce9b3b61-5704-4e20-8c8f-b6cf1d145d2f\",\"subtype\":\"Figure\",\"type\":\"Plot\"},\"ticker\":{\"id\":\"1c61b3b8-9ef2-4abc-b627-44006175a94a\",\"type\":\"BasicTicker\"}},\"id\":\"22630167-67cc-4fd1-879e-2e872d33359e\",\"type\":\"Grid\"},{\"attributes\":{\"line_color\":{\"value\":\"red\"},\"line_width\":{\"value\":3},\"x\":{\"field\":\"x\"},\"y\":{\"field\":\"y\"}},\"id\":\"5d728618-a2e9-45d1-b442-dc53ae2a579d\",\"type\":\"Line\"}],\"root_ids\":[\"ce9b3b61-5704-4e20-8c8f-b6cf1d145d2f\"]},\"title\":\"Bokeh Application\",\"version\":\"0.12.4\"}};\n",
       "            var render_items = [{\"docid\":\"c551bbb1-76a7-4eac-bbd8-d45b6ac8f606\",\"elementid\":\"3b539b0b-73fd-4c6e-80d4-5848452cc25e\",\"modelid\":\"ce9b3b61-5704-4e20-8c8f-b6cf1d145d2f\"}];\n",
       "            \n",
       "            Bokeh.embed.embed_items(docs_json, render_items);\n",
       "          };\n",
       "          if (document.readyState != \"loading\") fn();\n",
       "          else document.addEventListener(\"DOMContentLoaded\", fn);\n",
       "        })();\n",
       "      },\n",
       "      function(Bokeh) {\n",
       "      }\n",
       "    ];\n",
       "  \n",
       "    function run_inline_js() {\n",
       "      \n",
       "      if ((window.Bokeh !== undefined) || (force === true)) {\n",
       "        for (var i = 0; i < inline_js.length; i++) {\n",
       "          inline_js[i](window.Bokeh);\n",
       "        }if (force === true) {\n",
       "          display_loaded();\n",
       "        }} else if (Date.now() < window._bokeh_timeout) {\n",
       "        setTimeout(run_inline_js, 100);\n",
       "      } else if (!window._bokeh_failed_load) {\n",
       "        console.log(\"Bokeh: BokehJS failed to load within specified timeout.\");\n",
       "        window._bokeh_failed_load = true;\n",
       "      } else if (force !== true) {\n",
       "        var cell = $(document.getElementById(\"3b539b0b-73fd-4c6e-80d4-5848452cc25e\")).parents('.cell').data().cell;\n",
       "        cell.output_area.append_execute_result(NB_LOAD_WARNING)\n",
       "      }\n",
       "  \n",
       "    }\n",
       "  \n",
       "    if (window._bokeh_is_loading === 0) {\n",
       "      console.log(\"Bokeh: BokehJS loaded, going straight to plotting\");\n",
       "      run_inline_js();\n",
       "    } else {\n",
       "      load_libs(js_urls, function() {\n",
       "        console.log(\"Bokeh: BokehJS plotting callback run at\", now());\n",
       "        run_inline_js();\n",
       "      });\n",
       "    }\n",
       "  }(this));\n",
       "</script>"
      ]
     },
     "metadata": {},
     "output_type": "display_data"
    }
   ],
   "source": [
    "regr = linear_model.LinearRegression()\n",
    "regr.fit(X, y)\n",
    "\n",
    "fig = bk.figure(plot_width=630, plot_height=300, title=None)\n",
    "fig.circle(X[::1000, 0], y[::1000],  color='black')\n",
    "fig.line(X[::1000, 0], regr.predict(X[::1000]), color='red', line_width=3)\n",
    "fig.grid.grid_line_color = None\n",
    "fig.axis.minor_tick_out = 0\n",
    "bk.show(fig)"
   ]
  },
  {
   "cell_type": "markdown",
   "metadata": {},
   "source": [
    "### 2.3 Estimating Coefficients"
   ]
  },
  {
   "cell_type": "markdown",
   "metadata": {},
   "source": [
    "Generally speaking, coefficients are estimated using the **least squares criterion**, which finds the line that minimizes the **sum of squared residuals** (or \"sum of squared errors\"):"
   ]
  },
  {
   "cell_type": "markdown",
   "metadata": {},
   "source": [
    "<img src=\"images/estimating_coefficients.png\">"
   ]
  },
  {
   "cell_type": "markdown",
   "metadata": {},
   "source": [
    "Where:\n",
    "- The black dots are the **observed values** of x and y.\n",
    "- The blue line is our **least squares line**.\n",
    "- The red lines are the **residuals**, which are the distances between the observed values and the least squares line.\n",
    "\n",
    "How do the model coefficients relate to the least squares line?\n",
    "- $\\beta_0$ is the **intercept** (the value of $y$ when $x$=0)\n",
    "- $\\beta_1$ is the **slope** (the change in $y$ divided by change in $x$)\n",
    "\n",
    "Here is a graphical representation:"
   ]
  },
  {
   "cell_type": "markdown",
   "metadata": {},
   "source": [
    "<img src=\"images/slope_intercept.png\">"
   ]
  },
  {
   "cell_type": "markdown",
   "metadata": {},
   "source": [
    "Different choices of $\\beta_0$ and $\\beta_1$ give us different hypothesis. How do I choose $\\beta_0$ and $\\beta_1$ in order to get the best regression line? That is we want to find the best couple of $\\beta_0$ and $\\beta_1$ that minimizes the difference between the output of our hypothesis and the target. Using the notation above:\n",
    "$$min_{\\beta_0, \\beta_1} \\quad J(\\beta_0, \\beta_1) = \\frac{1}{2n}\\sum_i^n (h(x_i)-y_i)^2$$\n",
    "the second part of the expression is the **cost function** (*mean squared error* in this case) and it depends on $\\beta_0$ and $\\beta_1$, so changing their values changes the cost. Why we use the squared error? It is one of the most used functions, but there are many other. We will see why it is useful. \n",
    "\n",
    "To recap, we have:\n",
    "- an *hypothesis*: the equation of the line\n",
    "- *parameters* to learn: $\\beta_0$ and $\\beta_1$\n",
    "- *cost function*: mean squared error\n",
    "- *goal*: minimize error\n",
    "\n",
    "In order to ease the discussion we will make an example with a single parameter hypothesis:  $h(x) = \\beta_1x$; we are going to find a value for $\\beta_1$ that minimize $J(\\beta_1) = \\frac{1}{2n}\\sum_i^n (h(x_i)-y_i)^2$. How does varying the parameter affect the cost function? How varies the error?"
   ]
  },
  {
   "cell_type": "markdown",
   "metadata": {},
   "source": [
    "<img src=\"images/beta_cost.jpg\" alt=\"\" height=\"600\" width=\"600\">"
   ]
  },
  {
   "cell_type": "markdown",
   "metadata": {},
   "source": [
    "What happens if we keep both the coefficients $\\beta_0$ and $\\beta_1$? We have a quadratic bowl, such as the one in the picture below. "
   ]
  },
  {
   "cell_type": "markdown",
   "metadata": {},
   "source": [
    "<img src=\"images/quadratic_bowl.png\" alt=\"\" height=\"600\" width=\"600\">"
   ]
  },
  {
   "cell_type": "markdown",
   "metadata": {},
   "source": [
    "### 2.4 Learning algorithm"
   ]
  },
  {
   "cell_type": "markdown",
   "metadata": {},
   "source": [
    "How do we learn the parameters? We have a quadratic surface, how about starting with some random value for the parameters $\\beta_0$, $\\beta_1$ and then keep changing them until the cost function reaches its minimum? There could be different **local minima** as well as a **global minima**. Changing the initialization slightly changes the outcome of the optimization. "
   ]
  },
  {
   "cell_type": "markdown",
   "metadata": {},
   "source": [
    "<img src=\"images/gradient_descent.png\" alt=\"\" height=\"600\" width=\"600\">"
   ]
  },
  {
   "cell_type": "markdown",
   "metadata": {},
   "source": [
    "What is the update step? We are moving in the direction of the slove, using the derivative of the error function. How further we move? By a fixed proportion of this derivative, $\\alpha$ called the *learning rate* \n",
    "\n",
    "$$\\beta_i = \\beta_i - \\alpha \\frac{\\delta}{\\delta \\beta_i} J(\\beta_0, \\beta_1) \\quad i=0,1$$\n",
    "\n",
    "How do we apply gradient descent to minimize the mean squared error cost function? We plug our $J$ into the parameter update function and we take the derivative. \n",
    "\n",
    "$$\\frac{\\delta}{\\delta \\beta_0} J(\\beta_0, \\beta_1) =  \\frac{\\delta}{\\delta \\beta_0}\\frac{1}{2n}\\sum_i^n [(\\beta_0 + \\beta_1 x_i)-y_i]^2 = \\frac{1}{n} \\sum_i^n (h(x_i)-y_i)$$\n",
    "$$\\frac{\\delta}{\\delta \\beta_1} J(\\beta_0, \\beta_1) =  \\frac{\\delta}{\\delta \\beta_1}\\frac{1}{2n}\\sum_i^n [(\\beta_0 + \\beta_1 x_i)-y_i]^2 = \\frac{1}{n} \\sum_i^n (h(x_i)-y_i) x_i$$\n",
    "\n",
    "Actually the graph for the cost function for the linear regression is a convex function that always return the global minima. "
   ]
  },
  {
   "cell_type": "markdown",
   "metadata": {},
   "source": [
    "### 2.5 Multiple features"
   ]
  },
  {
   "cell_type": "markdown",
   "metadata": {},
   "source": [
    "At the moment we are trying to predict an outcome based on a single input variable (or feature). What if we have multiple variables as input? Does the accuracy of the model improve?"
   ]
  },
  {
   "cell_type": "markdown",
   "metadata": {},
   "source": [
    "<img src=\"images/trainset_multiple_example.png\" alt=\"\" height=\"500\" width=\"500\">"
   ]
  },
  {
   "cell_type": "markdown",
   "metadata": {},
   "source": [
    "In this case I can call the first four features as $x_1, x_2, x_3, x_4$ and the target (the price) is $y$. Here we introduce another concept in ML. The concept of dimensionality. The dimensionality of a dataset is the number of features that it has. We will denote the number of features of a dataset with the letter $p$. Here $p = 4$ (whereas in the previous example $p=1$). To simplify, $n$ is the number of rows in the table, while $p$ is the number of columns of the table.\n",
    "\n",
    "If we look at the previous notation, we can upgrade it so that now $x_i^{(j)}$ denotes the $i^{th}$ example and the $j^{th}$ feature. With multiple features the table is a matrix and each example $x_i$ is a $p$ dimensional vector. Talking again about notation, if we have multiple features our hypothesis become: \n",
    "\n",
    "$$ h(x) = \\beta_0 + \\beta_1x^{(1)} + \\beta_2x^{(2)} + \\ldots + \\beta_px^{(p)}$$\n",
    "\n",
    "Since it is no longer possible to use such notation to express the computation of the hypothesis we switch to the vectorized notation. We use a fake $x^{(0)}$ for the intercept  that we set it to $1$ for each example so that our notation becomes:\n",
    "\n",
    "$$ h(x) = \\beta_0x^{(0)} + \\beta_1x^{(1)} + \\beta_2x^{(2)} + \\ldots + \\beta_px^{(p)}$$ \n",
    "\n",
    "where $x_i^{(0)} = 1 \\quad \\forall i$. This way we can simplify the expression of the hypothesis as a dot product betwee the input and the paramteres:\n",
    "\n",
    "$$ h(X) = \\beta^TX$$ \n",
    "\n",
    "How does the update rule for the gradient descent algorithm? We use vector notation for the parameter $\\beta$ that now denotes a $p$ dimensional vector, lile $x$. Since we added our fake $x_i^{(0)}$ we are going to use a single update rule for each parameter:\n",
    "\n",
    "$$\\beta_j = \\beta_j - \\alpha \\frac{\\delta}{\\delta \\beta_j} J(\\beta) = \\beta_j - \\alpha \\frac{1}{n} \\sum_i^n (h(x_i)-y_i) x_j \\quad \\forall i$$\n",
    "\n",
    "**Problems** with gradient descent:\n",
    "- you need to find the correct learning rate\n",
    "- you have to scale data to use it effectively\n",
    "- you need many iterations"
   ]
  },
  {
   "cell_type": "markdown",
   "metadata": {},
   "source": [
    "### 2.6 Normal equation"
   ]
  },
  {
   "cell_type": "markdown",
   "metadata": {},
   "source": [
    "Instead of gradient descent we can solve for the vector of parameters analytically. Let's see how we can do it. We have switched to vectorized notation. Now the input is no longer a vector of length $n$ but a $n \\times p$ matrix. We can rewrite our hypothesis in matrix notation as:\n",
    "\n",
    "$$Y = XB$$\n",
    "\n",
    "where $Y$ is a $n$-dimensional vector and $B$ is a $p$-dimensional vector. Can we solve directly for $B$? Yes, we can obtain it from the residual sum of squares that we see at the beginning. \n",
    "\n",
    "$$RSS(\\beta) = \\sum_{i=1}^n (y_i - h(x_i))^2 = \\sum_{i=1}^n (y_i - \\sum_{j=1}^p(x_{ij}\\beta_j))^2 $$\n",
    "\n",
    "How to minimize this? If we switch to the matrix notation above we obtain the following equation:\n",
    "\n",
    "$$RSS(\\beta) = (y - X\\beta)^T(y - X\\beta)$$\n",
    "\n",
    "This is a quadratic function in the $p+1$ parameters. Differentiating with respect to $\\beta$ we obtain:\n",
    "\n",
    "$$\\frac{\\delta RSS(\\beta)}{\\delta \\beta} = -2X^T(y - X\\beta)$$\n",
    "\n",
    "Assuming (for the moment) that X has full column rank, and hence $X^T X$ is positive definite, if we set this derivative to zero we get:\n",
    "\n",
    "$$X^T(y - X\\beta) = 0$$\n",
    "\n",
    "we can obtain the solution: \n",
    "\n",
    "$$\\hat B = (X^T X)^{−1} X^T Y$$\n",
    "\n",
    "It might happen that the columns of X are not linearly independent, so that X is not of full rank. This would occur, for example, if two of the inputs were perfectly correlated, (e.g., x 2 = 3x 1 ). Then $X^T X$ is singular and the least squares coefficients $\\beta$ are not uniquely defined. This implies that the matrix is not invertible. It is possible to remove redundant features or use pseudo-inverse.\n",
    "\n",
    "**Problems** with Normal equation:\n",
    "- computing $(X^T X)^{−1}$ is done in $O(n^3)$\n",
    "- slow if $n$ is large"
   ]
  },
  {
   "cell_type": "markdown",
   "metadata": {},
   "source": [
    "## 3 Nearest Neighbors"
   ]
  },
  {
   "cell_type": "markdown",
   "metadata": {},
   "source": [
    "It is tempting to ask if there is an ideal $h(x)$. In particular whatis a good value of $h(x)$ at anly selected value of $x$? If the dataset has some noise, there can be many $y$ values for each $x$. An approximation for our target function can thus be:\n",
    "\n",
    "$$ h(x) = E(y \\mid x=v) $$\n",
    "\n",
    "So the correct value might be the expected value of the target at that particular point. The case of linear regression is a particular case where we might have a single value at each data point. This is an ideal form of *regression function*. $x$ can also be a vector. It is *ideal* because is the function that minimizes $E[(Y-g(x))^2 \\mid x=v]$ over all function $g$ at all points $x$. We are still making mistakes, called *irreducible error* (remember the noise in the measurements?). \n",
    "\n",
    "Typically we don't have many (sometimes we don't even have a value for each point), so we cannot compute $E(y \\mid x=v)$! What can we do? We can relax the definition and let\n",
    "\n",
    "$$ \\hat h(x) = Ave(y \\mid x \\in \\mathcal{N}(x)) $$\n",
    "\n",
    "where $\\mathcal{N}(x)$ is some neighborhood of $x$.\n",
    "\n",
    "This algorithm is called **Nearest Neighbour (NN)** (or local averaging). "
   ]
  },
  {
   "cell_type": "code",
   "execution_count": 7,
   "metadata": {
    "collapsed": false
   },
   "outputs": [
    {
     "data": {
      "text/html": [
       "\n",
       "\n",
       "    <div class=\"bk-root\">\n",
       "        <div class=\"bk-plotdiv\" id=\"645bcd06-fbf2-4e5a-8698-0e3671c2d89f\"></div>\n",
       "    </div>\n",
       "<script type=\"text/javascript\">\n",
       "  \n",
       "  (function(global) {\n",
       "    function now() {\n",
       "      return new Date();\n",
       "    }\n",
       "  \n",
       "    var force = false;\n",
       "  \n",
       "    if (typeof (window._bokeh_onload_callbacks) === \"undefined\" || force === true) {\n",
       "      window._bokeh_onload_callbacks = [];\n",
       "      window._bokeh_is_loading = undefined;\n",
       "    }\n",
       "  \n",
       "  \n",
       "    \n",
       "    if (typeof (window._bokeh_timeout) === \"undefined\" || force === true) {\n",
       "      window._bokeh_timeout = Date.now() + 0;\n",
       "      window._bokeh_failed_load = false;\n",
       "    }\n",
       "  \n",
       "    var NB_LOAD_WARNING = {'data': {'text/html':\n",
       "       \"<div style='background-color: #fdd'>\\n\"+\n",
       "       \"<p>\\n\"+\n",
       "       \"BokehJS does not appear to have successfully loaded. If loading BokehJS from CDN, this \\n\"+\n",
       "       \"may be due to a slow or bad network connection. Possible fixes:\\n\"+\n",
       "       \"</p>\\n\"+\n",
       "       \"<ul>\\n\"+\n",
       "       \"<li>re-rerun `output_notebook()` to attempt to load from CDN again, or</li>\\n\"+\n",
       "       \"<li>use INLINE resources instead, as so:</li>\\n\"+\n",
       "       \"</ul>\\n\"+\n",
       "       \"<code>\\n\"+\n",
       "       \"from bokeh.resources import INLINE\\n\"+\n",
       "       \"output_notebook(resources=INLINE)\\n\"+\n",
       "       \"</code>\\n\"+\n",
       "       \"</div>\"}};\n",
       "  \n",
       "    function display_loaded() {\n",
       "      if (window.Bokeh !== undefined) {\n",
       "        document.getElementById(\"645bcd06-fbf2-4e5a-8698-0e3671c2d89f\").textContent = \"BokehJS successfully loaded.\";\n",
       "      } else if (Date.now() < window._bokeh_timeout) {\n",
       "        setTimeout(display_loaded, 100)\n",
       "      }\n",
       "    }\n",
       "  \n",
       "    function run_callbacks() {\n",
       "      window._bokeh_onload_callbacks.forEach(function(callback) { callback() });\n",
       "      delete window._bokeh_onload_callbacks\n",
       "      console.info(\"Bokeh: all callbacks have finished\");\n",
       "    }\n",
       "  \n",
       "    function load_libs(js_urls, callback) {\n",
       "      window._bokeh_onload_callbacks.push(callback);\n",
       "      if (window._bokeh_is_loading > 0) {\n",
       "        console.log(\"Bokeh: BokehJS is being loaded, scheduling callback at\", now());\n",
       "        return null;\n",
       "      }\n",
       "      if (js_urls == null || js_urls.length === 0) {\n",
       "        run_callbacks();\n",
       "        return null;\n",
       "      }\n",
       "      console.log(\"Bokeh: BokehJS not loaded, scheduling load and callback at\", now());\n",
       "      window._bokeh_is_loading = js_urls.length;\n",
       "      for (var i = 0; i < js_urls.length; i++) {\n",
       "        var url = js_urls[i];\n",
       "        var s = document.createElement('script');\n",
       "        s.src = url;\n",
       "        s.async = false;\n",
       "        s.onreadystatechange = s.onload = function() {\n",
       "          window._bokeh_is_loading--;\n",
       "          if (window._bokeh_is_loading === 0) {\n",
       "            console.log(\"Bokeh: all BokehJS libraries loaded\");\n",
       "            run_callbacks()\n",
       "          }\n",
       "        };\n",
       "        s.onerror = function() {\n",
       "          console.warn(\"failed to load library \" + url);\n",
       "        };\n",
       "        console.log(\"Bokeh: injecting script tag for BokehJS library: \", url);\n",
       "        document.getElementsByTagName(\"head\")[0].appendChild(s);\n",
       "      }\n",
       "    };var element = document.getElementById(\"645bcd06-fbf2-4e5a-8698-0e3671c2d89f\");\n",
       "    if (element == null) {\n",
       "      console.log(\"Bokeh: ERROR: autoload.js configured with elementid '645bcd06-fbf2-4e5a-8698-0e3671c2d89f' but no matching script tag was found. \")\n",
       "      return false;\n",
       "    }\n",
       "  \n",
       "    var js_urls = [];\n",
       "  \n",
       "    var inline_js = [\n",
       "      function(Bokeh) {\n",
       "        (function() {\n",
       "          var fn = function() {\n",
       "            var docs_json = {\"ff8363e4-997f-4d0f-826d-536a8cb1daf5\":{\"roots\":{\"references\":[{\"attributes\":{\"plot\":{\"id\":\"a8991c77-5bfb-46a6-8eb1-4257ae4c577d\",\"subtype\":\"Figure\",\"type\":\"Plot\"}},\"id\":\"bf3ef694-6064-4cdd-b053-809167d3fcb8\",\"type\":\"WheelZoomTool\"},{\"attributes\":{\"grid_line_color\":{\"value\":null},\"plot\":{\"id\":\"a8991c77-5bfb-46a6-8eb1-4257ae4c577d\",\"subtype\":\"Figure\",\"type\":\"Plot\"},\"ticker\":{\"id\":\"0aaf26f7-42f8-489c-bb12-e203e01fe52b\",\"type\":\"BasicTicker\"}},\"id\":\"5dbb1ce9-1276-4fc2-a3e4-53dca0bae703\",\"type\":\"Grid\"},{\"attributes\":{\"plot\":{\"id\":\"a8991c77-5bfb-46a6-8eb1-4257ae4c577d\",\"subtype\":\"Figure\",\"type\":\"Plot\"}},\"id\":\"7ad103ee-765f-4e83-8f90-3172f2ecd0d1\",\"type\":\"SaveTool\"},{\"attributes\":{\"below\":[{\"id\":\"fbe05eab-140f-439c-b42a-a6533393c0d8\",\"type\":\"LinearAxis\"}],\"left\":[{\"id\":\"93101772-d700-4898-bb25-bdf65ff78d75\",\"type\":\"LinearAxis\"}],\"plot_height\":300,\"plot_width\":630,\"renderers\":[{\"id\":\"fbe05eab-140f-439c-b42a-a6533393c0d8\",\"type\":\"LinearAxis\"},{\"id\":\"5dbb1ce9-1276-4fc2-a3e4-53dca0bae703\",\"type\":\"Grid\"},{\"id\":\"93101772-d700-4898-bb25-bdf65ff78d75\",\"type\":\"LinearAxis\"},{\"id\":\"8f326291-4578-4686-a05f-8d8151103b59\",\"type\":\"Grid\"},{\"id\":\"d0861822-e1c4-4b71-828e-a0722f0d19ae\",\"type\":\"BoxAnnotation\"},{\"id\":\"bc301083-44df-4e17-a194-ad985ee07328\",\"type\":\"GlyphRenderer\"},{\"id\":\"7c091c64-0ba3-48dc-a004-f4625d8c1fc4\",\"type\":\"GlyphRenderer\"}],\"title\":null,\"tool_events\":{\"id\":\"7aebe40a-6a03-4755-b46b-8faabde68901\",\"type\":\"ToolEvents\"},\"toolbar\":{\"id\":\"99f6e154-7cd7-4635-9a08-d2823cbdb81c\",\"type\":\"Toolbar\"},\"x_range\":{\"id\":\"492da76d-c284-49c3-84b3-90e980f4bfc2\",\"type\":\"DataRange1d\"},\"y_range\":{\"id\":\"49e858f8-f607-4797-9a80-9ed43584fb19\",\"type\":\"DataRange1d\"}},\"id\":\"a8991c77-5bfb-46a6-8eb1-4257ae4c577d\",\"subtype\":\"Figure\",\"type\":\"Plot\"},{\"attributes\":{},\"id\":\"7aebe40a-6a03-4755-b46b-8faabde68901\",\"type\":\"ToolEvents\"},{\"attributes\":{\"callback\":null},\"id\":\"49e858f8-f607-4797-9a80-9ed43584fb19\",\"type\":\"DataRange1d\"},{\"attributes\":{\"dimension\":1,\"grid_line_color\":{\"value\":null},\"plot\":{\"id\":\"a8991c77-5bfb-46a6-8eb1-4257ae4c577d\",\"subtype\":\"Figure\",\"type\":\"Plot\"},\"ticker\":{\"id\":\"bca2bf8c-1ae4-4d3a-8626-39e1f2804ae3\",\"type\":\"BasicTicker\"}},\"id\":\"8f326291-4578-4686-a05f-8d8151103b59\",\"type\":\"Grid\"},{\"attributes\":{\"plot\":{\"id\":\"a8991c77-5bfb-46a6-8eb1-4257ae4c577d\",\"subtype\":\"Figure\",\"type\":\"Plot\"}},\"id\":\"80ff703f-3da0-45b6-930c-60f70129e18d\",\"type\":\"PanTool\"},{\"attributes\":{\"active_drag\":\"auto\",\"active_scroll\":\"auto\",\"active_tap\":\"auto\",\"tools\":[{\"id\":\"80ff703f-3da0-45b6-930c-60f70129e18d\",\"type\":\"PanTool\"},{\"id\":\"bf3ef694-6064-4cdd-b053-809167d3fcb8\",\"type\":\"WheelZoomTool\"},{\"id\":\"062d944b-471a-43ad-b73a-77fb13249cd7\",\"type\":\"BoxZoomTool\"},{\"id\":\"7ad103ee-765f-4e83-8f90-3172f2ecd0d1\",\"type\":\"SaveTool\"},{\"id\":\"fbc38924-342e-409c-bbf3-d590d920347b\",\"type\":\"ResetTool\"},{\"id\":\"ade12189-559e-4532-a59d-951cbafb462b\",\"type\":\"HelpTool\"}]},\"id\":\"99f6e154-7cd7-4635-9a08-d2823cbdb81c\",\"type\":\"Toolbar\"},{\"attributes\":{},\"id\":\"9c146995-4c9c-4e0f-8d7e-be4d09ae126f\",\"type\":\"BasicTickFormatter\"},{\"attributes\":{\"callback\":null,\"column_names\":[\"y\",\"x\"],\"data\":{\"x\":{\"__ndarray__\":\"MqNhARb47z/xq5BPfCXwPwoV11+YwH8/+OB1NJ4u6j+UnUAMN7TuvwI9nTkwj/i/mg4SYvTd8D8upzHE0Hz6P4Iha/CxjvS/IWCvl2sc9r/wh7HgDBjIPxhfXwUXf/G/9lsYNUWx4T+PiounKkL6P4XiHNE6/vy/WFkCwlYM4L81AycenmnnP9mV7eZVxsK/tVQpYCFa8L8wNELzK++wP6hvNYGW6Na/GTzlruiq978b9nYKuJ7tP61nUWXKweo/WrRpmaFT47/lqMgGVHf0P0KcFdSIBwBA4wlsELGI4D+vhc/9qVfSv09M47hI1QlAo5i2DiSj8r8SgTPnrPTwP5AKD3ZoEsQ/8MDx3O2W1z8zkiKLHunKPx9eMUTM85g/KLMYS8mt4D/yeW3e4vTPP6t4atNROPW/2YUTzmAZ8D+qEaaB1nfuv5LiWYyX7c6/nZuf9OsK+D+04b42qdjVPwZG8ZaijNc/D7ELYtSt3D/gHC4CZEDov4k85SuoqvI/Huhf90Ksqr+3hGfOUqzfP5CTPjhXKem/u31ZcZR0z7/kkLxWjvzmv7KKfsNYNe6/gpJ4EQ5jy7/yTNz1JuXNv7H+7WuzVAPAy5bBgvjeyb+igHDcolzWP+TQDa2wp/I/0HqaRczU6r/bgPzJBcn7vxrL5y0lrfC/MDqqh/8Z8j8LFNUNlt74P18VC34N/No//YiOjl5Z+L/jW0APwgLwPyHRzDjse8m/urB9OU/zAsCCVwZfS9pvv6JuW36dtuQ/yLbpi8t//T9//7VBbpC9v4cCOncTKPY/U0kQqyuQwb8tUEqGLjzzv9LMEzwpN/c/FmZ1NG6c0b+YjH9ar3bsvxKIRq1GyNg/b6GxptwC1z+PT4uHrjbmvytM9iksStE/m+DoE+hT9L9mgjBdBvnyv78iGoBbqeG/lx0Mxuc/9j9t7ZVqclz3v1UYLCeFPvS/bSbjGLbQwD8rEI4ili/mv6irRA6xIOW/bdZ6NmUB+T81Jru8cAAAwG3pvW24qT2/TTH4IuJKAEBMtV/aW4zxP0RUTZjVYao/ckpVmKLO5j8=\",\"dtype\":\"float64\",\"shape\":[100]},\"y\":{\"__ndarray__\":\"HKyN58TfNkAqcCmmHGtLQKfLccn0vDHAnJ8AJl76UUCsp1WUWqljwKIHgeqGVlTA9tbCX+HeWECBjYHasbNiQMvjOqK1F2PAThyQJb67YcBZ4Wa5fTQwwL2avafZXlzAbqrnAhfFU0CcutvIKJ5lQFr5kqGx7WbA/ai+4iWOQcByzvurxLlTQIb6JFZ6ODzAq67P/ymQWcCuaCNKwAszQLyF4yx2oSzANppNmW8ZTMB4JDaGTshmQJD3pI1nKjpAiGLwGul6QsAsCuZOEmJJQLbz+3ePA2BALD6q3e1UIsBvuY2rU2w5QIxSsCAlTHFANOunMO9eQcBX3cFVYDFCQBCS7xah2v2/MrpXblTTQ8A7cj5YFnQ+wDrbJxVw3yJAf5IsVPcDQUBR9iclGOtSQGJbQcoLklbAKRi7qq96VEDGtPWytmhbwBDpl7XbMiZAj2cryny2ZEA8zFgguD4dQA4lMw3Sp0JAkXU7KBQKREB+MWh9I/c3wAFQEbuxCVZATYR9CJcUNMBJbCk9U+05QOiHOMpwYFfANjzQ/RnrRMAalzQSgA47wGahuGE0QUzA9QftGJJCSsAufSsCT9EzQF+C1gciIGPAKdtpRq9mRcB6l4qBNQE7QGANk/m4lVdA8JzBNdyXWcCHjH6vBBFfwGCdfP3y1VnAcOBJh7WLX0Damn+bvFdSQLj6ywMM2ynACZ5AoSPlXsA2E/oDqF9JQO622A9LPUjA/NDJp/X7acA5oAWyoS8yQDOe6hzkMlRAT+338HNiZ0DZMTKDvawxQJ4hHQ/VS1pApHlcEj2oN8AG+Iht9PlfwK3rJrF5p2FAPDlm1osBHkA3Yu/Y6WhWwCbbCjvnbDBAbed7Zn1fS0DQ+9q3LoNVwL/bJgGUIFRAE/3bQeVgZ8BgKfH7YGIwwIm5h0QbsTLA8CaETUYHXEBcs+iFvLZdwE4/qWmmAk/AbvyD5A1mOMCN9V8iiQZAwF5pxKBjK1nAWz8lSoX7YUASnd7VmkhlwN7w6vNNBDdAQZ2OKZUzaUAFU9iuNzFFQIGj7QzEVT3AmFqPMWWtV0A=\",\"dtype\":\"float64\",\"shape\":[100]}}},\"id\":\"c429f442-2289-401b-b795-03670fd293e1\",\"type\":\"ColumnDataSource\"},{\"attributes\":{\"overlay\":{\"id\":\"d0861822-e1c4-4b71-828e-a0722f0d19ae\",\"type\":\"BoxAnnotation\"},\"plot\":{\"id\":\"a8991c77-5bfb-46a6-8eb1-4257ae4c577d\",\"subtype\":\"Figure\",\"type\":\"Plot\"}},\"id\":\"062d944b-471a-43ad-b73a-77fb13249cd7\",\"type\":\"BoxZoomTool\"},{\"attributes\":{\"plot\":{\"id\":\"a8991c77-5bfb-46a6-8eb1-4257ae4c577d\",\"subtype\":\"Figure\",\"type\":\"Plot\"}},\"id\":\"ade12189-559e-4532-a59d-951cbafb462b\",\"type\":\"HelpTool\"},{\"attributes\":{},\"id\":\"0aaf26f7-42f8-489c-bb12-e203e01fe52b\",\"type\":\"BasicTicker\"},{\"attributes\":{},\"id\":\"bca2bf8c-1ae4-4d3a-8626-39e1f2804ae3\",\"type\":\"BasicTicker\"},{\"attributes\":{\"line_color\":{\"value\":\"red\"},\"line_width\":{\"value\":3},\"x\":{\"field\":\"x\"},\"y\":{\"field\":\"y\"}},\"id\":\"0628f28f-5fa2-41a6-99df-da6183ba538f\",\"type\":\"Line\"},{\"attributes\":{\"line_alpha\":{\"value\":0.1},\"line_color\":{\"value\":\"#1f77b4\"},\"line_width\":{\"value\":3},\"x\":{\"field\":\"x\"},\"y\":{\"field\":\"y\"}},\"id\":\"4e2368f5-af81-46ab-bfaa-9c3fbd184616\",\"type\":\"Line\"},{\"attributes\":{\"callback\":null},\"id\":\"492da76d-c284-49c3-84b3-90e980f4bfc2\",\"type\":\"DataRange1d\"},{\"attributes\":{\"fill_alpha\":{\"value\":0.1},\"fill_color\":{\"value\":\"#1f77b4\"},\"line_alpha\":{\"value\":0.1},\"line_color\":{\"value\":\"#1f77b4\"},\"x\":{\"field\":\"x\"},\"y\":{\"field\":\"y\"}},\"id\":\"4bd6722c-c44c-4903-89d4-c5f4b9d9711f\",\"type\":\"Circle\"},{\"attributes\":{\"callback\":null,\"column_names\":[\"y\",\"x\"],\"data\":{\"x\":{\"__ndarray__\":\"sf7ta7NUA8C6sH05T/MCwDUmu7xwAADAheIc0Tr+/L/bgPzJBcn7vwI9nTkwj/i//YiOjl5Z+L8ZPOWu6Kr3v23tlWpyXPe/IWCvl2sc9r+reGrTUTj1v4Iha/CxjvS/m+DoE+hT9L9VGCwnhT70vy1QSoYuPPO/ZoIwXQb58r+jmLYOJKPyvxhfXwUXf/G/GsvnLSWt8L+1VClgIVrwv5SdQAw3tO6/qhGmgdZ37r+yin7DWDXuv5iMf1qvduy/0HqaRczU6r+Qkz44Vynpv+AcLgJkQOi/5JC8Vo785r+PT4uHrjbmvysQjiKWL+a/qKtEDrEg5b9atGmZoVPjv78iGoBbqeG/WFkCwlYM4L+obzWBlujWv6+Fz/2pV9K/FmZ1NG6c0b+7fVlxlHTPv5LiWYyX7c6/8kzc9Sblzb+CkngRDmPLv8uWwYL43sm/IdHMOOx7yb/Zle3mVcbCv1NJEKsrkMG/f/+1QW6Qvb8e6F/3Qqyqv4JXBl9L2m+/bem9bbipPb8KFddfmMB/Px9eMUTM85g/RFRNmNVhqj8wNELzK++wP20m4xi20MA/kAoPdmgSxD/wh7HgDBjIPzOSIose6co/8nlt3uL0zz8rTPYpLErRP7Thvjap2NU/ooBw3KJc1j9vobGm3ALXPwZG8ZaijNc/8MDx3O2W1z8SiEatRsjYP18VC34N/No/D7ELYtSt3D+3hGfOUqzfP+MJbBCxiOA/KLMYS8mt4D/2Wxg1RbHhP6JuW36dtuQ/ckpVmKLO5j81AycenmnnP/jgdTSeLuo/rWdRZcrB6j8b9nYKuJ7tPzKjYQEW+O8/41tAD8IC8D/ZhRPOYBnwP/GrkE98JfA/mg4SYvTd8D8SgTPnrPTwP0y1X9pbjPE/MDqqh/8Z8j/k0A2tsKfyP4k85SuoqvI/5ajIBlR39D+HAjp3Eyj2P5cdDMbnP/Y/0swTPCk39z+dm5/06wr4PwsU1Q2W3vg/bdZ6NmUB+T+PiounKkL6Py6nMcTQfPo/yLbpi8t//T9CnBXUiAcAQE0x+CLiSgBAT0zjuEjVCUA=\",\"dtype\":\"float64\",\"shape\":[100]},\"y\":{\"__ndarray__\":\"+jOWT/uWZcCed1VZF79nwL5+23yvkmLAOwI6J2PYYMC+sAutyHlhwGb3HWyHD13AFdovYjvmX8CCIGkIzY1VwCIDOT0R01rAnwCGbwIaYMCIJAENCedUwBYMlO0UN1fAor9cS878XMDGAB30ePVbwFOP52yUHV7ATlMA31kvUMCWdOFMc81VwKNA6f9aSFTAIuY1CreZTsATyjc0zZdRwJ8zom2DYVTAzETk1eP6UMBoo0486SBSwBaomE9MT0vAPSP0AwZRTsCRQCkASTJSwOo3yW7ib0rASGSAc/QSTsACYoKv871IwP67MQTFJlHAFmYcEQr8RcArW7wbW6pDwDWPtIFExTrADmN2H8LyQsAgjbGh8is/wPobBo/hiDjAfZbe/ORhK8BSYSi7CEQ2wAjKoyR/LSfAa3+z36uUK8DXxdmocWw2wGqkM5f45zLAVnQrgEgpN8Du24msJ88xwJYYNjQ4FhTAs8kDemiRJsAaVY4QPCMjwPtN0esS8fS/GEQBAMQjFMDqfWU8WYsBwMLjil7yRCFAMyhfPkwBKsAyOfWS0GoYQM7iGE6uXBNAQN5/IacAI0CtKWbtbAEyQAtvJTNiyzdAtx5BZ6MEQ0A+RXz7i887QGFkcgb1yTVA2U27qj9INkBI9Yu7h6E/QE0DOfG/FTdAqmh6iq90N0BbZclPUk5AQH3Ano21jT5AcBrHbx2YS0ApvkSyWj0zQFOoatcepytANifIu5ZbQ0Di6Nm3G/dFQI+tEnDGtUZADYybb55dUUBQpkooI1ZMQOjuIu9DBVJAq4r7BJS0TkBERRhNfItYQGcKh4phlFRA0M0MvLQQT0DQn5G4zp9XQJ2PZCnYslZAODP68YI8VkCohAtlTyhQQO+EmI9fslJAaxQmg76IVUATuO/aXARYQPyABLgIwlFAH5kdPIP4VkA2WoMRMKhaQAVmknx0g11Ag3eEWQ5BXUAyWaTN61xdQNPTkq6KG1pA+lWq8C6ZYEAwOr4yq8NgQKQw9TX+A2JAa5SjFP8pYkAehI9itlBlQLsa+IwhLmNAEpBMO9xub0A=\",\"dtype\":\"float64\",\"shape\":[100]}}},\"id\":\"346d3e4e-5b86-400f-8a7f-b675a34949a1\",\"type\":\"ColumnDataSource\"},{\"attributes\":{\"data_source\":{\"id\":\"c429f442-2289-401b-b795-03670fd293e1\",\"type\":\"ColumnDataSource\"},\"glyph\":{\"id\":\"c2c0d70b-4113-4bb4-93bc-201e497fa604\",\"type\":\"Circle\"},\"hover_glyph\":null,\"nonselection_glyph\":{\"id\":\"4bd6722c-c44c-4903-89d4-c5f4b9d9711f\",\"type\":\"Circle\"},\"selection_glyph\":null},\"id\":\"bc301083-44df-4e17-a194-ad985ee07328\",\"type\":\"GlyphRenderer\"},{\"attributes\":{\"plot\":{\"id\":\"a8991c77-5bfb-46a6-8eb1-4257ae4c577d\",\"subtype\":\"Figure\",\"type\":\"Plot\"}},\"id\":\"fbc38924-342e-409c-bbf3-d590d920347b\",\"type\":\"ResetTool\"},{\"attributes\":{\"fill_color\":{\"value\":\"black\"},\"x\":{\"field\":\"x\"},\"y\":{\"field\":\"y\"}},\"id\":\"c2c0d70b-4113-4bb4-93bc-201e497fa604\",\"type\":\"Circle\"},{\"attributes\":{\"bottom_units\":\"screen\",\"fill_alpha\":{\"value\":0.5},\"fill_color\":{\"value\":\"lightgrey\"},\"left_units\":\"screen\",\"level\":\"overlay\",\"line_alpha\":{\"value\":1.0},\"line_color\":{\"value\":\"black\"},\"line_dash\":[4,4],\"line_width\":{\"value\":2},\"plot\":null,\"render_mode\":\"css\",\"right_units\":\"screen\",\"top_units\":\"screen\"},\"id\":\"d0861822-e1c4-4b71-828e-a0722f0d19ae\",\"type\":\"BoxAnnotation\"},{\"attributes\":{\"formatter\":{\"id\":\"9c146995-4c9c-4e0f-8d7e-be4d09ae126f\",\"type\":\"BasicTickFormatter\"},\"minor_tick_out\":0,\"plot\":{\"id\":\"a8991c77-5bfb-46a6-8eb1-4257ae4c577d\",\"subtype\":\"Figure\",\"type\":\"Plot\"},\"ticker\":{\"id\":\"0aaf26f7-42f8-489c-bb12-e203e01fe52b\",\"type\":\"BasicTicker\"}},\"id\":\"fbe05eab-140f-439c-b42a-a6533393c0d8\",\"type\":\"LinearAxis\"},{\"attributes\":{\"data_source\":{\"id\":\"346d3e4e-5b86-400f-8a7f-b675a34949a1\",\"type\":\"ColumnDataSource\"},\"glyph\":{\"id\":\"0628f28f-5fa2-41a6-99df-da6183ba538f\",\"type\":\"Line\"},\"hover_glyph\":null,\"nonselection_glyph\":{\"id\":\"4e2368f5-af81-46ab-bfaa-9c3fbd184616\",\"type\":\"Line\"},\"selection_glyph\":null},\"id\":\"7c091c64-0ba3-48dc-a004-f4625d8c1fc4\",\"type\":\"GlyphRenderer\"},{\"attributes\":{\"formatter\":{\"id\":\"1c33b55d-456e-4fdb-8c41-d86f9dce1f47\",\"type\":\"BasicTickFormatter\"},\"minor_tick_out\":0,\"plot\":{\"id\":\"a8991c77-5bfb-46a6-8eb1-4257ae4c577d\",\"subtype\":\"Figure\",\"type\":\"Plot\"},\"ticker\":{\"id\":\"bca2bf8c-1ae4-4d3a-8626-39e1f2804ae3\",\"type\":\"BasicTicker\"}},\"id\":\"93101772-d700-4898-bb25-bdf65ff78d75\",\"type\":\"LinearAxis\"},{\"attributes\":{},\"id\":\"1c33b55d-456e-4fdb-8c41-d86f9dce1f47\",\"type\":\"BasicTickFormatter\"}],\"root_ids\":[\"a8991c77-5bfb-46a6-8eb1-4257ae4c577d\"]},\"title\":\"Bokeh Application\",\"version\":\"0.12.4\"}};\n",
       "            var render_items = [{\"docid\":\"ff8363e4-997f-4d0f-826d-536a8cb1daf5\",\"elementid\":\"645bcd06-fbf2-4e5a-8698-0e3671c2d89f\",\"modelid\":\"a8991c77-5bfb-46a6-8eb1-4257ae4c577d\"}];\n",
       "            \n",
       "            Bokeh.embed.embed_items(docs_json, render_items);\n",
       "          };\n",
       "          if (document.readyState != \"loading\") fn();\n",
       "          else document.addEventListener(\"DOMContentLoaded\", fn);\n",
       "        })();\n",
       "      },\n",
       "      function(Bokeh) {\n",
       "      }\n",
       "    ];\n",
       "  \n",
       "    function run_inline_js() {\n",
       "      \n",
       "      if ((window.Bokeh !== undefined) || (force === true)) {\n",
       "        for (var i = 0; i < inline_js.length; i++) {\n",
       "          inline_js[i](window.Bokeh);\n",
       "        }if (force === true) {\n",
       "          display_loaded();\n",
       "        }} else if (Date.now() < window._bokeh_timeout) {\n",
       "        setTimeout(run_inline_js, 100);\n",
       "      } else if (!window._bokeh_failed_load) {\n",
       "        console.log(\"Bokeh: BokehJS failed to load within specified timeout.\");\n",
       "        window._bokeh_failed_load = true;\n",
       "      } else if (force !== true) {\n",
       "        var cell = $(document.getElementById(\"645bcd06-fbf2-4e5a-8698-0e3671c2d89f\")).parents('.cell').data().cell;\n",
       "        cell.output_area.append_execute_result(NB_LOAD_WARNING)\n",
       "      }\n",
       "  \n",
       "    }\n",
       "  \n",
       "    if (window._bokeh_is_loading === 0) {\n",
       "      console.log(\"Bokeh: BokehJS loaded, going straight to plotting\");\n",
       "      run_inline_js();\n",
       "    } else {\n",
       "      load_libs(js_urls, function() {\n",
       "        console.log(\"Bokeh: BokehJS plotting callback run at\", now());\n",
       "        run_inline_js();\n",
       "      });\n",
       "    }\n",
       "  }(this));\n",
       "</script>"
      ]
     },
     "metadata": {},
     "output_type": "display_data"
    }
   ],
   "source": [
    "n_neighbors = 10\n",
    "sample = 1000\n",
    "\n",
    "knn = neighbors.KNeighborsRegressor(n_neighbors, weights='uniform')\n",
    "knn.fit(X, y)\n",
    "\n",
    "fig = bk.figure(plot_width=630, plot_height=300, title=None)\n",
    "fig.circle(X[::sample, 0], y[::sample],  color='black')\n",
    "a = np.hstack([np.atleast_2d(X[::sample, 0]).T, \n",
    "               np.atleast_2d(knn.predict(X[::sample])).T])\n",
    "a = a[a[:,0].argsort()]\n",
    "fig.line(a[:,0], a[:,1], color='red', line_width=3)\n",
    "fig.grid.grid_line_color = None\n",
    "fig.axis.minor_tick_out = 0\n",
    "bk.show(fig)"
   ]
  },
  {
   "cell_type": "markdown",
   "metadata": {},
   "source": [
    "Albeit it is a pretty cool idea, it does not work in higher dimension. This introduces a major topic in ML."
   ]
  },
  {
   "cell_type": "markdown",
   "metadata": {},
   "source": [
    "### 3.1 The Curse of Dimensionality"
   ]
  },
  {
   "cell_type": "markdown",
   "metadata": {},
   "source": [
    "Nearest Neighbor averaging can be pretty good for small $p$ (tipycally $p \\leq 4$) and larger $n$. But what happens when $p$ is large? This method can be pretty lousy. The reason is the curse of dimensionality. Nearest Neighbors tend to be far away in high dimensions. \n",
    "\n",
    "We need to get a reasonable fraction of the N values of $y_i$ to average to bring the variance down. A $10\\%$ neighborhood in high dimensions need no longer be local, so we lose the spirit of estimating $E(y \\mid x=v)$ by local averaging. \n",
    "\n",
    "For a better understanding take a look at the picture below."
   ]
  },
  {
   "cell_type": "markdown",
   "metadata": {},
   "source": [
    "<img src=\"images/curse_dimensionality.png\" alt=\"\" height=\"600\" width=\"600\">"
   ]
  },
  {
   "cell_type": "markdown",
   "metadata": {},
   "source": [
    "So let's look at a little example of that. In the left panel, we've got values of two variables, $x1$ and $x2$, that are uniformly distributed in this cube with edges $-1$ to $+1$, $-1$ to $+1$. We form two 10% neighborhoods in this case. The first neighborhood is just involving the variable $x1$, ignoring $x2$. \n",
    "\n",
    "That's indicated by the vertical dotted lines. Our target point is at $0$. And we spread out a neighborhood to the left and right until we capture $10\\%$ of the data points with respect to the variable $x1$. The dotted line indicates the width of the neighborhood.\n",
    "\n",
    "Alternatively, if we want to find a neighborhood in two dimensions, we spread out a circle centered at the target point, which is the red dot there, until we've captured $10\\%$ of the points. Notice the radius of the circle in two dimensions? It is much bigger than the radius of the circle in one dimension which is just the width between these two dotted lines. To capture $10\\%$ of the points in two dimensions, we have to go out further and we are less local than we are in one dimension! \n",
    "\n",
    "We can take this example further. On the right hand plot, we can see far you have to go out in one, two, three, five, and ten dimensions. In ten dimensions, these are different versions of this problem as the dimensions get higher, in order to capture a certain fraction of the volume. Take, for example, $10\\%$ or $0.1$ fraction of the volume. For $p=1$, if the data is uniform, you roughly go out $10\\%$ of the distance. In two dimensions, we showed you went more. Look what happens in five dimensions. In five dimensions, you have to go out to about $0.9$ on each coordinate axes to get $10\\%$ of the data. That's just about the whole radius of this sphere. And in ten dimensions, you actually have to go break out of this sphere in order to get points in the corner to capture the $10\\%$. The take home lesson here is: it's really hard to find new neighborhoods in high dimensions and stay local! If we didn't have this issue we could use NN for every problem!\n",
    "\n",
    "**Question:** a hypercube with side length $1$ in $d$ dimensions is defined to be the set of points $(x_1, x_2, \\ldots, x_d)$ such that $0\\leq x_j \\leq 1$ for all $j = 1, 2, \\ldots, d$. Define the boundary region of the hypercube to be the set of all points such that there exists a $j$ for which $0 \\leq x_j \\leq 0.05$ or $0.95 \\leq x_j \\leq 1$ (i.e., it is the set of all points that have at least one dimension in the most extreme $10\\%$ of possible values). What proportion of the volume of a hypercube of dimension $50$ is in the boundary region?\n",
    "\n",
    " <a href=\"#Answer\">**Answer**</a> "
   ]
  },
  {
   "cell_type": "markdown",
   "metadata": {},
   "source": [
    "## 4 Linear Models for classification"
   ]
  },
  {
   "cell_type": "markdown",
   "metadata": {},
   "source": [
    "In classification the output that we want to predict is a discrete value that has typically few values that we call **classes**. Recall the example that we did before: \n",
    "- email: spam/not spam\n",
    "- transaction: fraudolent/not fraudolent\n",
    "- tumor: malignant/benign\n",
    "\n",
    "we can assign numerical values to those classes and our target variable becomes $y \\in (0,1)$ where $0$ is the *negative class* (not spam) and $1$ is the *positive class* (spam). \n",
    "\n",
    "Let's see if we can apply simple linear regression to one of this problems. For example we want to learn if a tumor is malignant or not based on its size. Suppose that we see the following example, that is our dataset is composed of various tumor measurements and to each one is associated the value $1$ malignant and $0$ benign. Suppose that I find an hypothesis such that is represented by the line in the picture. How can I decide to which class each example belongs?"
   ]
  },
  {
   "cell_type": "markdown",
   "metadata": {},
   "source": [
    "<img src=\"images/logistic_regression.jpg\" alt=\"\" height=\"500\" width=\"500\">"
   ]
  },
  {
   "cell_type": "markdown",
   "metadata": {},
   "source": [
    "I can use a threshold at $0.5$ for example such that: \n",
    "- if $h(x) \\geq 0.5$ predict $1$ \n",
    "- if $h(x) < 0.5$ predict $0$\n",
    "\n",
    "what happens if we change the dataset a little bit? Let's say we add one more example to the right."
   ]
  },
  {
   "cell_type": "markdown",
   "metadata": {},
   "source": [
    "<img src=\"images/logistic_regression2.jpg\" alt=\"\" height=\"600\" width=\"600\">"
   ]
  },
  {
   "cell_type": "markdown",
   "metadata": {},
   "source": [
    "What happened? Linear regression changed because of the single value, and using our threshold of $0.5$ now gives wrong results. How can we overcome this kind of situations? Is it possible to use a different algorithm that estimates the class correctly? Linear regression output can be $>1$ and $<0$ while in a two-class classification problem the class can be $0$ or $1$. "
   ]
  },
  {
   "cell_type": "markdown",
   "metadata": {},
   "source": [
    "### 4.1 Logistic Regression"
   ]
  },
  {
   "cell_type": "markdown",
   "metadata": {},
   "source": [
    "The logistic regression model arises from the desire to model the posterior probabilities of the $K$ classes via linear functions in $x$, while at the same time ensuring that they sum to one and remain in $[0, 1]$.\n",
    "\n",
    "We apply the logistic function to hour hypothesis. What is the logistic function? "
   ]
  },
  {
   "cell_type": "markdown",
   "metadata": {},
   "source": [
    "<img src=\"images/logistic_function.png\" alt=\"\" height=\"500\" width=\"500\">"
   ]
  },
  {
   "cell_type": "markdown",
   "metadata": {},
   "source": [
    "$$g(z) = \\frac{1}{1+e^{-z}} $$\n",
    "\n",
    "We can apply this function to our previous linear regression hypothesis:\n",
    "\n",
    "$$ h(x) = g(\\beta^Tx)$$\n",
    "\n",
    "Now the $z$ in the previous function has now the value of $\\beta^Tx$ and the output of my hypothesis is no longer the value of $\\hat y$ but the probability of being in that class that is $P(Y=c \\mid X=x)$, given $x$ parametrized by $\\beta$."
   ]
  },
  {
   "cell_type": "markdown",
   "metadata": {},
   "source": [
    "### 4.2 Decision Boundary"
   ]
  },
  {
   "cell_type": "markdown",
   "metadata": {},
   "source": [
    "Why the logistic regression is a linear model if its function is clearly non linear? Let's discuss how the class is computed. \n",
    "\n",
    "Again we are using a threshold, suppose to predict $y=1$  if $h(x) \\geq 0.5$ and  $y=1$  if $h(x) < 0.5$. In this case $g(z) \\geq 0.5$. But when it is such the case? $g(z)$ is $\\geq 0.5$ when $z \\geq 0$, so basically when $\\beta^Tx \\geq 0$.\n",
    "\n",
    "What happens in the other case? $y=0$  if $h(x) < 0.5$. In this case $g(z) < 0.5$ when $z < 0$, so basically when $\\beta^Tx < 0$"
   ]
  },
  {
   "cell_type": "markdown",
   "metadata": {},
   "source": [
    "<img src=\"images/decision_boundary.jpg\" alt=\"\" height=\"500\" width=\"500\">"
   ]
  },
  {
   "cell_type": "markdown",
   "metadata": {},
   "source": [
    "Suppose that we are looking at the region boundary in the picture above. In this case the line that divides the two planes has equation $-3+x_1+x_2 = 0$. In this case we are classifying the examples with class 1 when $x_1 + x_2 \\geq 3$ and we are classifying examples with class 0 when $x_1 + x_2 < 3$"
   ]
  },
  {
   "cell_type": "markdown",
   "metadata": {},
   "source": [
    "### 4.3 Cost function"
   ]
  },
  {
   "cell_type": "markdown",
   "metadata": {},
   "source": [
    "Using mean squared error as the cost for the logistic gives us a non-convex function in the parameter $\\beta$. What do we mean for non convex? See the picture below! This happens because the $h(x)$ in the cost function has nonlinearities (the logistic function). In this way it is really hard to find the global minimum of the error function and thus the optimal solution. "
   ]
  },
  {
   "cell_type": "markdown",
   "metadata": {},
   "source": [
    "<img src=\"images/non_convex.png\" alt=\"\" height=\"600\" width=\"600\">"
   ]
  },
  {
   "cell_type": "markdown",
   "metadata": {},
   "source": [
    "We need another cost function.\n",
    "\n",
    "$$J(h(x),y) = \\Bigg\\{\\begin{array}{lr}\n",
    "    -log(h(x)) & if y=1\\\\\n",
    "    -log(1-h(x)) & if y=0\n",
    "  \\end{array}$$\n",
    "  \n",
    "Let's see if it works. If $y=1$ and $h(x)=1$ the cost is zero. So if the model is predicting the correct label the error is zero as expected. If however $y=1$ and $h(x)=0$ the cost is $\\inf$ because we have $-log(0)$. This capture the notion that if we are making a mistake we are going to penalize the model by a large quantity. "
   ]
  },
  {
   "cell_type": "markdown",
   "metadata": {},
   "source": [
    "<img src=\"images/logistic_cost.png\" alt=\"\" height=\"700\" width=\"700\">"
   ]
  },
  {
   "cell_type": "markdown",
   "metadata": {},
   "source": [
    "The same applies for the case where $y=0$."
   ]
  },
  {
   "cell_type": "code",
   "execution_count": 8,
   "metadata": {
    "collapsed": false
   },
   "outputs": [
    {
     "data": {
      "text/html": [
       "\n",
       "\n",
       "    <div class=\"bk-root\">\n",
       "        <div class=\"bk-plotdiv\" id=\"e7345fa5-8517-4da4-9ab7-38525b701b34\"></div>\n",
       "    </div>\n",
       "<script type=\"text/javascript\">\n",
       "  \n",
       "  (function(global) {\n",
       "    function now() {\n",
       "      return new Date();\n",
       "    }\n",
       "  \n",
       "    var force = false;\n",
       "  \n",
       "    if (typeof (window._bokeh_onload_callbacks) === \"undefined\" || force === true) {\n",
       "      window._bokeh_onload_callbacks = [];\n",
       "      window._bokeh_is_loading = undefined;\n",
       "    }\n",
       "  \n",
       "  \n",
       "    \n",
       "    if (typeof (window._bokeh_timeout) === \"undefined\" || force === true) {\n",
       "      window._bokeh_timeout = Date.now() + 0;\n",
       "      window._bokeh_failed_load = false;\n",
       "    }\n",
       "  \n",
       "    var NB_LOAD_WARNING = {'data': {'text/html':\n",
       "       \"<div style='background-color: #fdd'>\\n\"+\n",
       "       \"<p>\\n\"+\n",
       "       \"BokehJS does not appear to have successfully loaded. If loading BokehJS from CDN, this \\n\"+\n",
       "       \"may be due to a slow or bad network connection. Possible fixes:\\n\"+\n",
       "       \"</p>\\n\"+\n",
       "       \"<ul>\\n\"+\n",
       "       \"<li>re-rerun `output_notebook()` to attempt to load from CDN again, or</li>\\n\"+\n",
       "       \"<li>use INLINE resources instead, as so:</li>\\n\"+\n",
       "       \"</ul>\\n\"+\n",
       "       \"<code>\\n\"+\n",
       "       \"from bokeh.resources import INLINE\\n\"+\n",
       "       \"output_notebook(resources=INLINE)\\n\"+\n",
       "       \"</code>\\n\"+\n",
       "       \"</div>\"}};\n",
       "  \n",
       "    function display_loaded() {\n",
       "      if (window.Bokeh !== undefined) {\n",
       "        document.getElementById(\"e7345fa5-8517-4da4-9ab7-38525b701b34\").textContent = \"BokehJS successfully loaded.\";\n",
       "      } else if (Date.now() < window._bokeh_timeout) {\n",
       "        setTimeout(display_loaded, 100)\n",
       "      }\n",
       "    }\n",
       "  \n",
       "    function run_callbacks() {\n",
       "      window._bokeh_onload_callbacks.forEach(function(callback) { callback() });\n",
       "      delete window._bokeh_onload_callbacks\n",
       "      console.info(\"Bokeh: all callbacks have finished\");\n",
       "    }\n",
       "  \n",
       "    function load_libs(js_urls, callback) {\n",
       "      window._bokeh_onload_callbacks.push(callback);\n",
       "      if (window._bokeh_is_loading > 0) {\n",
       "        console.log(\"Bokeh: BokehJS is being loaded, scheduling callback at\", now());\n",
       "        return null;\n",
       "      }\n",
       "      if (js_urls == null || js_urls.length === 0) {\n",
       "        run_callbacks();\n",
       "        return null;\n",
       "      }\n",
       "      console.log(\"Bokeh: BokehJS not loaded, scheduling load and callback at\", now());\n",
       "      window._bokeh_is_loading = js_urls.length;\n",
       "      for (var i = 0; i < js_urls.length; i++) {\n",
       "        var url = js_urls[i];\n",
       "        var s = document.createElement('script');\n",
       "        s.src = url;\n",
       "        s.async = false;\n",
       "        s.onreadystatechange = s.onload = function() {\n",
       "          window._bokeh_is_loading--;\n",
       "          if (window._bokeh_is_loading === 0) {\n",
       "            console.log(\"Bokeh: all BokehJS libraries loaded\");\n",
       "            run_callbacks()\n",
       "          }\n",
       "        };\n",
       "        s.onerror = function() {\n",
       "          console.warn(\"failed to load library \" + url);\n",
       "        };\n",
       "        console.log(\"Bokeh: injecting script tag for BokehJS library: \", url);\n",
       "        document.getElementsByTagName(\"head\")[0].appendChild(s);\n",
       "      }\n",
       "    };var element = document.getElementById(\"e7345fa5-8517-4da4-9ab7-38525b701b34\");\n",
       "    if (element == null) {\n",
       "      console.log(\"Bokeh: ERROR: autoload.js configured with elementid 'e7345fa5-8517-4da4-9ab7-38525b701b34' but no matching script tag was found. \")\n",
       "      return false;\n",
       "    }\n",
       "  \n",
       "    var js_urls = [];\n",
       "  \n",
       "    var inline_js = [\n",
       "      function(Bokeh) {\n",
       "        (function() {\n",
       "          var fn = function() {\n",
       "            var docs_json = {\"0ab039f7-6752-469e-9d96-1cdfd7b25ce6\":{\"roots\":{\"references\":[{\"attributes\":{\"bottom_units\":\"screen\",\"fill_alpha\":{\"value\":0.5},\"fill_color\":{\"value\":\"lightgrey\"},\"left_units\":\"screen\",\"level\":\"overlay\",\"line_alpha\":{\"value\":1.0},\"line_color\":{\"value\":\"black\"},\"line_dash\":[4,4],\"line_width\":{\"value\":2},\"plot\":null,\"render_mode\":\"css\",\"right_units\":\"screen\",\"top_units\":\"screen\"},\"id\":\"7bd77882-0cae-47c0-925c-1629a280b125\",\"type\":\"BoxAnnotation\"},{\"attributes\":{\"data_source\":{\"id\":\"35e20100-f1e2-4a91-a0ab-3298a108ff1d\",\"type\":\"ColumnDataSource\"},\"glyph\":{\"id\":\"26ea3b1e-1716-4a30-bf00-cf6e853b9541\",\"type\":\"Circle\"},\"hover_glyph\":null,\"nonselection_glyph\":{\"id\":\"e6fdaf1f-b965-4931-be9b-35a366de2dd7\",\"type\":\"Circle\"},\"selection_glyph\":null},\"id\":\"ca5430a3-8e07-4523-a2b0-be2571ab501e\",\"type\":\"GlyphRenderer\"},{\"attributes\":{\"grid_line_color\":{\"value\":null},\"plot\":{\"id\":\"8847a624-2176-41cd-a4fd-4b72ab2a500e\",\"subtype\":\"Figure\",\"type\":\"Plot\"},\"ticker\":{\"id\":\"626d97a3-7bbb-447c-b271-523bf66977ec\",\"type\":\"BasicTicker\"}},\"id\":\"8b36f1cb-b12e-4c4a-9da2-bea8d48a6702\",\"type\":\"Grid\"},{\"attributes\":{\"fill_color\":{\"value\":\"black\"},\"x\":{\"field\":\"x\"},\"y\":{\"field\":\"y\"}},\"id\":\"26ea3b1e-1716-4a30-bf00-cf6e853b9541\",\"type\":\"Circle\"},{\"attributes\":{\"dimension\":1,\"grid_line_color\":{\"value\":null},\"plot\":{\"id\":\"8847a624-2176-41cd-a4fd-4b72ab2a500e\",\"subtype\":\"Figure\",\"type\":\"Plot\"},\"ticker\":{\"id\":\"e53bafe4-bed7-4a66-8627-b7937772a4f9\",\"type\":\"BasicTicker\"}},\"id\":\"d65e45d4-6028-4235-ae1f-e4ec2829bb59\",\"type\":\"Grid\"},{\"attributes\":{\"plot\":{\"id\":\"8847a624-2176-41cd-a4fd-4b72ab2a500e\",\"subtype\":\"Figure\",\"type\":\"Plot\"}},\"id\":\"72b376a5-dc8d-4b7b-8aa7-800c2037404c\",\"type\":\"PanTool\"},{\"attributes\":{\"callback\":null,\"end\":10,\"start\":-4},\"id\":\"8b9777ed-465b-41f1-b2db-f33c64fda778\",\"type\":\"Range1d\"},{\"attributes\":{},\"id\":\"e53bafe4-bed7-4a66-8627-b7937772a4f9\",\"type\":\"BasicTicker\"},{\"attributes\":{\"items\":[{\"id\":\"357779e4-dad2-4ded-bcdb-a91b3c2bc325\",\"type\":\"LegendItem\"},{\"id\":\"24cf4ff8-14c0-49e0-b6dd-095b71b04bee\",\"type\":\"LegendItem\"}],\"location\":\"bottom_right\",\"plot\":{\"id\":\"8847a624-2176-41cd-a4fd-4b72ab2a500e\",\"subtype\":\"Figure\",\"type\":\"Plot\"}},\"id\":\"d49a7cc6-4f10-4a63-b1ae-1c73beecddb4\",\"type\":\"Legend\"},{\"attributes\":{\"plot\":{\"id\":\"8847a624-2176-41cd-a4fd-4b72ab2a500e\",\"subtype\":\"Figure\",\"type\":\"Plot\"}},\"id\":\"216833aa-7aaa-492c-b389-dcfb88101947\",\"type\":\"ResetTool\"},{\"attributes\":{\"data_source\":{\"id\":\"196e1a42-934a-4d9d-8820-03a63fd1cd3a\",\"type\":\"ColumnDataSource\"},\"glyph\":{\"id\":\"f69b92c1-df8c-413b-bd88-3ee9be1b165f\",\"type\":\"Line\"},\"hover_glyph\":null,\"nonselection_glyph\":{\"id\":\"020e557f-d02c-4536-bb39-5ee603dc4d11\",\"type\":\"Line\"},\"selection_glyph\":null},\"id\":\"314df5c8-a797-4dfb-aefa-4264e39ddbd6\",\"type\":\"GlyphRenderer\"},{\"attributes\":{\"label\":{\"value\":\"Logistic Regression Model\"},\"renderers\":[{\"id\":\"314df5c8-a797-4dfb-aefa-4264e39ddbd6\",\"type\":\"GlyphRenderer\"}]},\"id\":\"357779e4-dad2-4ded-bcdb-a91b3c2bc325\",\"type\":\"LegendItem\"},{\"attributes\":{\"formatter\":{\"id\":\"e95ede19-1414-4005-a712-21c551521cf8\",\"type\":\"BasicTickFormatter\"},\"minor_tick_out\":0,\"plot\":{\"id\":\"8847a624-2176-41cd-a4fd-4b72ab2a500e\",\"subtype\":\"Figure\",\"type\":\"Plot\"},\"ticker\":{\"id\":\"71da942e-b54e-40e4-a232-b0d7435ac7c3\",\"type\":\"FixedTicker\"}},\"id\":\"44506dff-6064-480d-884b-8da27a7abb0e\",\"type\":\"LinearAxis\"},{\"attributes\":{\"formatter\":{\"id\":\"4e217b33-32ef-447d-a2b2-a6db30f8be8c\",\"type\":\"BasicTickFormatter\"},\"minor_tick_out\":0,\"plot\":{\"id\":\"8847a624-2176-41cd-a4fd-4b72ab2a500e\",\"subtype\":\"Figure\",\"type\":\"Plot\"},\"ticker\":{\"id\":\"626d97a3-7bbb-447c-b271-523bf66977ec\",\"type\":\"BasicTicker\"}},\"id\":\"56729234-59e4-4c05-a081-4e209b6ee835\",\"type\":\"LinearAxis\"},{\"attributes\":{\"callback\":null,\"column_names\":[\"y\",\"x\"],\"data\":{\"x\":{\"__ndarray__\":\"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\",\"dtype\":\"float64\",\"shape\":[300]},\"y\":{\"__ndarray__\":\"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\",\"dtype\":\"float64\",\"shape\":[300]}}},\"id\":\"7fb018ab-60f4-4ba5-9d1d-f7fe00c2c1d2\",\"type\":\"ColumnDataSource\"},{\"attributes\":{\"label\":{\"value\":\"Linear Regression Model\"},\"renderers\":[{\"id\":\"58ed6c78-e760-4009-92bd-c2dc404269b8\",\"type\":\"GlyphRenderer\"}]},\"id\":\"24cf4ff8-14c0-49e0-b6dd-095b71b04bee\",\"type\":\"LegendItem\"},{\"attributes\":{},\"id\":\"e95ede19-1414-4005-a712-21c551521cf8\",\"type\":\"BasicTickFormatter\"},{\"attributes\":{\"line_alpha\":{\"value\":0.1},\"line_color\":{\"value\":\"#1f77b4\"},\"line_width\":{\"value\":3},\"x\":{\"field\":\"x\"},\"y\":{\"field\":\"y\"}},\"id\":\"020e557f-d02c-4536-bb39-5ee603dc4d11\",\"type\":\"Line\"},{\"attributes\":{\"below\":[{\"id\":\"56729234-59e4-4c05-a081-4e209b6ee835\",\"type\":\"LinearAxis\"}],\"left\":[{\"id\":\"44506dff-6064-480d-884b-8da27a7abb0e\",\"type\":\"LinearAxis\"}],\"plot_height\":300,\"plot_width\":630,\"renderers\":[{\"id\":\"56729234-59e4-4c05-a081-4e209b6ee835\",\"type\":\"LinearAxis\"},{\"id\":\"8b36f1cb-b12e-4c4a-9da2-bea8d48a6702\",\"type\":\"Grid\"},{\"id\":\"44506dff-6064-480d-884b-8da27a7abb0e\",\"type\":\"LinearAxis\"},{\"id\":\"d65e45d4-6028-4235-ae1f-e4ec2829bb59\",\"type\":\"Grid\"},{\"id\":\"7bd77882-0cae-47c0-925c-1629a280b125\",\"type\":\"BoxAnnotation\"},{\"id\":\"ca5430a3-8e07-4523-a2b0-be2571ab501e\",\"type\":\"GlyphRenderer\"},{\"id\":\"d49a7cc6-4f10-4a63-b1ae-1c73beecddb4\",\"type\":\"Legend\"},{\"id\":\"314df5c8-a797-4dfb-aefa-4264e39ddbd6\",\"type\":\"GlyphRenderer\"},{\"id\":\"58ed6c78-e760-4009-92bd-c2dc404269b8\",\"type\":\"GlyphRenderer\"}],\"title\":null,\"tool_events\":{\"id\":\"3c15519d-07fd-444b-b024-8bcf6ff1292d\",\"type\":\"ToolEvents\"},\"toolbar\":{\"id\":\"236e7e33-efe6-4115-a18d-839ef93a2845\",\"type\":\"Toolbar\"},\"x_range\":{\"id\":\"8b9777ed-465b-41f1-b2db-f33c64fda778\",\"type\":\"Range1d\"},\"y_range\":{\"id\":\"28acc162-d279-41a4-8b44-fcd2f4b48d6c\",\"type\":\"Range1d\"}},\"id\":\"8847a624-2176-41cd-a4fd-4b72ab2a500e\",\"subtype\":\"Figure\",\"type\":\"Plot\"},{\"attributes\":{},\"id\":\"4e217b33-32ef-447d-a2b2-a6db30f8be8c\",\"type\":\"BasicTickFormatter\"},{\"attributes\":{\"data_source\":{\"id\":\"7fb018ab-60f4-4ba5-9d1d-f7fe00c2c1d2\",\"type\":\"ColumnDataSource\"},\"glyph\":{\"id\":\"1ecfed7f-d60d-4175-b77e-92c60cbca6fc\",\"type\":\"Line\"},\"hover_glyph\":null,\"nonselection_glyph\":{\"id\":\"d075c3b0-8428-4403-97fa-108cf7e5e73f\",\"type\":\"Line\"},\"selection_glyph\":null},\"id\":\"58ed6c78-e760-4009-92bd-c2dc404269b8\",\"type\":\"GlyphRenderer\"},{\"attributes\":{\"line_color\":{\"value\":\"red\"},\"line_width\":{\"value\":3},\"x\":{\"field\":\"x\"},\"y\":{\"field\":\"y\"}},\"id\":\"f69b92c1-df8c-413b-bd88-3ee9be1b165f\",\"type\":\"Line\"},{\"attributes\":{},\"id\":\"626d97a3-7bbb-447c-b271-523bf66977ec\",\"type\":\"BasicTicker\"},{\"attributes\":{\"plot\":{\"id\":\"8847a624-2176-41cd-a4fd-4b72ab2a500e\",\"subtype\":\"Figure\",\"type\":\"Plot\"}},\"id\":\"dda8403b-2e13-4847-b89d-4c95e4265732\",\"type\":\"WheelZoomTool\"},{\"attributes\":{},\"id\":\"3c15519d-07fd-444b-b024-8bcf6ff1292d\",\"type\":\"ToolEvents\"},{\"attributes\":{\"active_drag\":\"auto\",\"active_scroll\":\"auto\",\"active_tap\":\"auto\",\"tools\":[{\"id\":\"72b376a5-dc8d-4b7b-8aa7-800c2037404c\",\"type\":\"PanTool\"},{\"id\":\"dda8403b-2e13-4847-b89d-4c95e4265732\",\"type\":\"WheelZoomTool\"},{\"id\":\"5b244b11-96ba-451f-a4b8-4dd366da2461\",\"type\":\"BoxZoomTool\"},{\"id\":\"55f2a733-3e26-4cd1-acf5-6da71974d61e\",\"type\":\"SaveTool\"},{\"id\":\"216833aa-7aaa-492c-b389-dcfb88101947\",\"type\":\"ResetTool\"},{\"id\":\"969af9bd-4757-4c4c-aa0e-e67c83b677cf\",\"type\":\"HelpTool\"}]},\"id\":\"236e7e33-efe6-4115-a18d-839ef93a2845\",\"type\":\"Toolbar\"},{\"attributes\":{\"plot\":{\"id\":\"8847a624-2176-41cd-a4fd-4b72ab2a500e\",\"subtype\":\"Figure\",\"type\":\"Plot\"}},\"id\":\"55f2a733-3e26-4cd1-acf5-6da71974d61e\",\"type\":\"SaveTool\"},{\"attributes\":{\"plot\":{\"id\":\"8847a624-2176-41cd-a4fd-4b72ab2a500e\",\"subtype\":\"Figure\",\"type\":\"Plot\"}},\"id\":\"969af9bd-4757-4c4c-aa0e-e67c83b677cf\",\"type\":\"HelpTool\"},{\"attributes\":{\"callback\":null,\"end\":1.25,\"start\":-0.25},\"id\":\"28acc162-d279-41a4-8b44-fcd2f4b48d6c\",\"type\":\"Range1d\"},{\"attributes\":{\"callback\":null,\"column_names\":[\"y\",\"x\"],\"data\":{\"x\":{\"__ndarray__\":\"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\",\"dtype\":\"float64\",\"shape\":[300]},\"y\":{\"__ndarray__\":\"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\",\"dtype\":\"float64\",\"shape\":[300]}}},\"id\":\"196e1a42-934a-4d9d-8820-03a63fd1cd3a\",\"type\":\"ColumnDataSource\"},{\"attributes\":{\"fill_alpha\":{\"value\":0.1},\"fill_color\":{\"value\":\"#1f77b4\"},\"line_alpha\":{\"value\":0.1},\"line_color\":{\"value\":\"#1f77b4\"},\"x\":{\"field\":\"x\"},\"y\":{\"field\":\"y\"}},\"id\":\"e6fdaf1f-b965-4931-be9b-35a366de2dd7\",\"type\":\"Circle\"},{\"attributes\":{\"ticks\":[0,0.5,1]},\"id\":\"71da942e-b54e-40e4-a232-b0d7435ac7c3\",\"type\":\"FixedTicker\"},{\"attributes\":{\"callback\":null,\"column_names\":[\"y\",\"x\"],\"data\":{\"x\":{\"__ndarray__\":\"C5Ea8w98HkC4KVqjDCTzP5RBJk88RQxA0DmqpD+CIkDSRvpOInkcQBocLhZvOtm/1bM9L/9oDUC8+bD0uQnYvwLmfcmBUN4/UqysT0CxAEASry3H3S7yP7W7UIwKWxhASKEks0hJBkD4iyV9nPTwP5nhAcPuHvs/Z1x0hfo0+T9aylhivgoZQMtoX/Y3G9C/V+++x+H79j/zBXNRVnriv4mQ0k4/hQPAH1mNwPhGAkBor33psmAMQF32GwMuCNa/Q1W+l8W9IUCRHN/l8/z3vyxBjia136o/qrwcTq6G1z9lGZToylQZQIc6tnGq/xdAfOXvzlfi2D8orlWyccr6PxO7kor9cPG/dzcQnDqK/7/KFBpswDzhv56ghT6lgeo/p21NOmZgFEACxSJf9fwSQHe3aqiCL9G/PeoeqMUq5L/PL+SMVO/3v+jC/Ax4nPS/Yqj1BROA+r802kUqdfkfQJjN+NP7Rso/7mQQIzXOw7/gktkwIG34vxqk5+x+jwtAqkYxncERAMCimypBUXrWv3JZPWVfT+2/D6gY2y5+AEB/QTg8037nvxTogahl2/a/2ManOTaNrb+BdQnbgTr4P8JP4O90VOM/xOg8BlxZ7D/UeIKzYlDvv9I2PNUfn9+/7ByvssJM6r/ABCrhOxLMP+BPr23/5+C/GwVSREUz+7+0La77ieTVPzJMJcUhAcO/Ti2AZ1vi/r8Mgwd/AjT2P1Ba6dzioOG/InaXOSFi0z9Mr8lMfIoJQJsBcC3RkeM/ag4GHTRCE0DQzcSp0+H2vxevA30WyfQ/VuDAUcG93r8j+7DRA8rxvzMX2fCSJOm/W9F7koKv3L8yBIzmh23NPwVj6gNxV/S/dKr97cyGCUDIcZH9iLb6PyYVFTVJoAHAO1kCvPOPGED2s7HyaGkcQBQRT7oDiRFAMv1cMvkGxb8jgEXnk670v6OBI2EMuRJA1HWukyZQ6b9qcwtMLOETQBMq+Yg2SOo/9bKaSfNyDEDjcQKctVH5P48Pjm3ZMgZANHbdX6KB0T9/vt7w548dQG6TcxaDgfI/IfaZd0ISAEA=\",\"dtype\":\"float64\",\"shape\":[100]},\"y\":{\"__ndarray__\":\"AAAAAAAA8D8AAAAAAADwPwAAAAAAAPA/AAAAAAAA8D8AAAAAAADwPwAAAAAAAAAAAAAAAAAA8D8AAAAAAAAAAAAAAAAAAAAAAAAAAAAA8D8AAAAAAADwPwAAAAAAAPA/AAAAAAAA8D8AAAAAAADwPwAAAAAAAPA/AAAAAAAA8D8AAAAAAADwPwAAAAAAAAAAAAAAAAAA8D8AAAAAAAAAAAAAAAAAAAAAAAAAAAAA8D8AAAAAAADwPwAAAAAAAAAAAAAAAAAA8D8AAAAAAAAAAAAAAAAAAPA/AAAAAAAAAAAAAAAAAADwPwAAAAAAAPA/AAAAAAAA8D8AAAAAAADwPwAAAAAAAAAAAAAAAAAAAAAAAAAAAAAAAAAAAAAAAPA/AAAAAAAA8D8AAAAAAADwPwAAAAAAAAAAAAAAAAAAAAAAAAAAAAAAAAAAAAAAAAAAAAAAAAAAAAAAAAAAAADwPwAAAAAAAAAAAAAAAAAAAAAAAAAAAAAAAAAAAAAAAPA/AAAAAAAAAAAAAAAAAAAAAAAAAAAAAAAAAAAAAAAA8D8AAAAAAAAAAAAAAAAAAAAAAAAAAAAAAAAAAAAAAADwPwAAAAAAAPA/AAAAAAAA8D8AAAAAAAAAAAAAAAAAAAAAAAAAAAAAAAAAAAAAAAAAAAAAAAAAAAAAAAAAAAAAAAAAAAAAAADwPwAAAAAAAAAAAAAAAAAAAAAAAAAAAADwPwAAAAAAAAAAAAAAAAAA8D8AAAAAAADwPwAAAAAAAPA/AAAAAAAA8D8AAAAAAAAAAAAAAAAAAPA/AAAAAAAAAAAAAAAAAAAAAAAAAAAAAAAAAAAAAAAAAAAAAAAAAADwPwAAAAAAAAAAAAAAAAAA8D8AAAAAAADwPwAAAAAAAAAAAAAAAAAA8D8AAAAAAADwPwAAAAAAAPA/AAAAAAAAAAAAAAAAAAAAAAAAAAAAAPA/AAAAAAAAAAAAAAAAAADwPwAAAAAAAPA/AAAAAAAA8D8AAAAAAADwPwAAAAAAAPA/AAAAAAAA8D8AAAAAAADwPwAAAAAAAPA/AAAAAAAA8D8=\",\"dtype\":\"float64\",\"shape\":[100]}}},\"id\":\"35e20100-f1e2-4a91-a0ab-3298a108ff1d\",\"type\":\"ColumnDataSource\"},{\"attributes\":{\"overlay\":{\"id\":\"7bd77882-0cae-47c0-925c-1629a280b125\",\"type\":\"BoxAnnotation\"},\"plot\":{\"id\":\"8847a624-2176-41cd-a4fd-4b72ab2a500e\",\"subtype\":\"Figure\",\"type\":\"Plot\"}},\"id\":\"5b244b11-96ba-451f-a4b8-4dd366da2461\",\"type\":\"BoxZoomTool\"},{\"attributes\":{\"line_color\":{\"value\":\"#1f77b4\"},\"line_width\":{\"value\":3},\"x\":{\"field\":\"x\"},\"y\":{\"field\":\"y\"}},\"id\":\"1ecfed7f-d60d-4175-b77e-92c60cbca6fc\",\"type\":\"Line\"},{\"attributes\":{\"line_alpha\":{\"value\":0.1},\"line_color\":{\"value\":\"#1f77b4\"},\"line_width\":{\"value\":3},\"x\":{\"field\":\"x\"},\"y\":{\"field\":\"y\"}},\"id\":\"d075c3b0-8428-4403-97fa-108cf7e5e73f\",\"type\":\"Line\"}],\"root_ids\":[\"8847a624-2176-41cd-a4fd-4b72ab2a500e\"]},\"title\":\"Bokeh Application\",\"version\":\"0.12.4\"}};\n",
       "            var render_items = [{\"docid\":\"0ab039f7-6752-469e-9d96-1cdfd7b25ce6\",\"elementid\":\"e7345fa5-8517-4da4-9ab7-38525b701b34\",\"modelid\":\"8847a624-2176-41cd-a4fd-4b72ab2a500e\"}];\n",
       "            \n",
       "            Bokeh.embed.embed_items(docs_json, render_items);\n",
       "          };\n",
       "          if (document.readyState != \"loading\") fn();\n",
       "          else document.addEventListener(\"DOMContentLoaded\", fn);\n",
       "        })();\n",
       "      },\n",
       "      function(Bokeh) {\n",
       "      }\n",
       "    ];\n",
       "  \n",
       "    function run_inline_js() {\n",
       "      \n",
       "      if ((window.Bokeh !== undefined) || (force === true)) {\n",
       "        for (var i = 0; i < inline_js.length; i++) {\n",
       "          inline_js[i](window.Bokeh);\n",
       "        }if (force === true) {\n",
       "          display_loaded();\n",
       "        }} else if (Date.now() < window._bokeh_timeout) {\n",
       "        setTimeout(run_inline_js, 100);\n",
       "      } else if (!window._bokeh_failed_load) {\n",
       "        console.log(\"Bokeh: BokehJS failed to load within specified timeout.\");\n",
       "        window._bokeh_failed_load = true;\n",
       "      } else if (force !== true) {\n",
       "        var cell = $(document.getElementById(\"e7345fa5-8517-4da4-9ab7-38525b701b34\")).parents('.cell').data().cell;\n",
       "        cell.output_area.append_execute_result(NB_LOAD_WARNING)\n",
       "      }\n",
       "  \n",
       "    }\n",
       "  \n",
       "    if (window._bokeh_is_loading === 0) {\n",
       "      console.log(\"Bokeh: BokehJS loaded, going straight to plotting\");\n",
       "      run_inline_js();\n",
       "    } else {\n",
       "      load_libs(js_urls, function() {\n",
       "        console.log(\"Bokeh: BokehJS plotting callback run at\", now());\n",
       "        run_inline_js();\n",
       "      });\n",
       "    }\n",
       "  }(this));\n",
       "</script>"
      ]
     },
     "metadata": {},
     "output_type": "display_data"
    }
   ],
   "source": [
    "# this is our test set, it's just a straight line with some\n",
    "# Gaussian noise\n",
    "xmin, xmax = -5, 5\n",
    "n_samples = 100\n",
    "np.random.seed(0)\n",
    "X = np.random.normal(size=n_samples)\n",
    "y = (X > 0).astype(np.float)\n",
    "X[X > 0] *= 4\n",
    "X += .3 * np.random.normal(size=n_samples)\n",
    "\n",
    "X = X[:, np.newaxis]\n",
    "# run the classifier\n",
    "clf = linear_model.LogisticRegression(C=1e5)\n",
    "clf.fit(X, y)\n",
    "\n",
    "# and plot the result\n",
    "fig = bk.figure(plot_width=630, plot_height=300, title=None)\n",
    "fig.circle(X.ravel(), y,  color='black')\n",
    "X_test = np.linspace(-5, 10, 300)\n",
    "\n",
    "def model(x):\n",
    "    return 1 / (1 + np.exp(-x))\n",
    "\n",
    "loss = model(X_test * clf.coef_ + clf.intercept_).ravel()\n",
    "fig.line(X_test, loss, color='red', line_width=3, \n",
    "         legend='Logistic Regression Model')\n",
    "\n",
    "ols = linear_model.LinearRegression()\n",
    "ols.fit(X, y)\n",
    "\n",
    "fig.line(X_test, ols.coef_ * X_test + ols.intercept_, line_width=3, \n",
    "         legend='Linear Regression Model')\n",
    "\n",
    "fig.x_range=Range1d(-4, 10)\n",
    "fig.y_range=Range1d(-0.25, 1.25)\n",
    "fig.grid.grid_line_color = None\n",
    "fig.axis.minor_tick_out = 0\n",
    "fig.yaxis[0].ticker=FixedTicker(ticks=[0, 0.5, 1])\n",
    "fig.legend.location = \"bottom_right\"\n",
    "bk.show(fig)"
   ]
  },
  {
   "cell_type": "markdown",
   "metadata": {},
   "source": [
    "### 4.4 Multiclass Classification"
   ]
  },
  {
   "cell_type": "markdown",
   "metadata": {},
   "source": [
    "So far we have assumed that the logistic regression can calssfify problems with an outcome consisting in two classes. It is possible to extend to a multiclass setting, that is, a problem where the discrete output variable can assume more than two values. \n",
    "\n",
    "One simple extension to the basic binary classification is to use a one-vs-all approach, that is turn the problem in three separate problems, each of which is binary."
   ]
  },
  {
   "cell_type": "markdown",
   "metadata": {},
   "source": [
    "<img src=\"images/one_vs_all.png\" alt=\"\" height=\"700\" width=\"700\">"
   ]
  },
  {
   "cell_type": "markdown",
   "metadata": {},
   "source": [
    "Train a logistic regression classifier for each class:\n",
    "\n",
    "$$h_i(x) = P(y=i \\mid x, \\beta) \\quad (i=1,2,3)$$\n",
    "\n",
    "on new input $x$ output the class that maximizes the probability \n",
    "\n",
    "$$\\underset{i}{max} \\, h_i(x)$$"
   ]
  },
  {
   "cell_type": "markdown",
   "metadata": {},
   "source": [
    "##### Answer\n",
    "We know that the volume of the whole hypercube is $1^{50} = 1$. The volume of the interior of the hypercube is $0.9^{50} = 0.005$. Thus, the volume of the boundary is $1-0.005 = 0.995$."
   ]
  },
  {
   "cell_type": "markdown",
   "metadata": {},
   "source": [
    "---\n",
    "\n",
    "Visit [www.add-for.com](<http://www.add-for.com/IT>) for more tutorials and updates.\n",
    "\n",
    "This work is licensed under a <a rel=\"license\" href=\"http://creativecommons.org/licenses/by-sa/4.0/\">Creative Commons Attribution-ShareAlike 4.0 International License</a>."
   ]
  }
 ],
 "metadata": {
  "anaconda-cloud": {},
  "kernelspec": {
   "display_name": "Python [conda env:addtrain]",
   "language": "python",
   "name": "conda-env-addtrain-py"
  },
  "language_info": {
   "codemirror_mode": {
    "name": "ipython",
    "version": 3
   },
   "file_extension": ".py",
   "mimetype": "text/x-python",
   "name": "python",
   "nbconvert_exporter": "python",
   "pygments_lexer": "ipython3",
   "version": "3.5.2"
  }
 },
 "nbformat": 4,
 "nbformat_minor": 0
}
