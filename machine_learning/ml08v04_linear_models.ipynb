{
 "cells": [
  {
   "cell_type": "markdown",
   "metadata": {},
   "source": [
    "# Linear Models"
   ]
  },
  {
   "cell_type": "code",
   "execution_count": 1,
   "metadata": {
    "collapsed": false,
    "scrolled": false
   },
   "outputs": [
    {
     "data": {
      "text/html": [
       "<div id='toc-container'><script type='text/javascript'>\n",
       "$(function() {\n",
       "    function regenTOC(){\n",
       "        element = $(\"#toc-container\");\n",
       "\n",
       "\tvar toc = document.createElement(\"div\");\n",
       "\t$(toc).attr(\"class\", \"table-of-contents\");\n",
       "\n",
       "\tvar curLevel = 0;\n",
       "\tvar containerStack = [toc];\n",
       "\tvar levelOfTag = {\"h2\": 1, \"h3\": 2, \"h4\": 3, \"h5\": 4};\n",
       "\n",
       "\tfunction pushLevel() {\n",
       "            var list = document.createElement(\"ul\");\n",
       "            containerStack.push(list);\n",
       "            curLevel++;\n",
       "\t}\n",
       "\t\n",
       "\tfunction popLevel() {\n",
       "            var lastContainer = containerStack.pop();\n",
       "            $(lastContainer).appendTo(containerStack[containerStack.length - 1]);\n",
       "            curLevel--;\n",
       "\t}\n",
       "\t\n",
       "\t$(\".text_cell_render :header\").each(function (i, elem) {\n",
       "            var level = levelOfTag[ elem.tagName.toLowerCase() ];\n",
       "\n",
       "            if (level === undefined)\n",
       "\t\treturn;\n",
       "\n",
       "            while (curLevel < level)\n",
       "\t\tpushLevel();\n",
       "            while (curLevel > level)\n",
       "\t\tpopLevel();\n",
       "            \n",
       "            var listItem = document.createElement(\"li\");\n",
       "            var link = document.createElement(\"a\");\n",
       "            $(link)\n",
       "\t\t.text($(elem).contents().first().text()) // Remove the pilcrow sign\n",
       "\t\t.attr(\"href\", \"#\" + $(elem).attr(\"id\"))\n",
       "\t\t.appendTo(listItem);\n",
       "            $(listItem).appendTo(containerStack[containerStack.length - 1]);\n",
       "\t});\n",
       "\t\n",
       "\twhile (curLevel > 0)\n",
       "            popLevel();\n",
       "\n",
       "        $(\"<a class='btn-update' href='#'>Update</a>\")\n",
       "          .click(regenTOC).prependTo(toc);\n",
       "\n",
       "\t$(toc).prepend(\"<div class='title'>Contents</div>\")\n",
       "          .wrap(\"<div class='toc-headings'/>\");\n",
       "\n",
       "        $(element).empty();\n",
       "        $(element).append(toc);\n",
       "    }\n",
       "\n",
       "    if (typeof(IPython) !== 'undefined')\n",
       "        $([IPython.events]).on('notebook_loaded.Notebook', regenTOC);\n",
       "    regenTOC();\n",
       "});\n",
       "\n",
       "</script></div>"
      ],
      "text/plain": [
       "<IPython.core.display.HTML object>"
      ]
     },
     "execution_count": 1,
     "metadata": {},
     "output_type": "execute_result"
    }
   ],
   "source": [
    "import addutils.toc ; addutils.toc.js(ipy_notebook=True)"
   ]
  },
  {
   "cell_type": "code",
   "execution_count": 2,
   "metadata": {
    "collapsed": false
   },
   "outputs": [
    {
     "data": {
      "text/html": [
       "<style>\n",
       ".text_cell_render @font-face {\n",
       "    font-family: \"Computer Modern\";\n",
       "    src: url('http://mirrors.ctan.org/fonts/cm-unicode/fonts/otf/cmunss.otf');\n",
       "}\n",
       "\n",
       "div.cell {\n",
       "    width: 900px;\n",
       "    margin-left: 0% !important;\n",
       "    margin-right: 0%;\n",
       "}\n",
       "\n",
       "code {\n",
       "    font-size:10pt;\n",
       "}\n",
       "\n",
       ".text_cell_render  h1 {\n",
       "    font-family: Tahoma, sans-serif;\n",
       "    color: rgb( 10, 88, 126 );\n",
       "    font-size:28pt;\n",
       "}\n",
       ".text_cell_render h2 {\n",
       "    font-family: Tahoma, sans-serif;\n",
       "    color: rgb( 10, 88, 126 );\n",
       "    font-size:24pt;\n",
       "}\n",
       ".text_cell_render h3 {\n",
       "    font-family: Tahoma, sans-serif;\n",
       "    color: rgb( 10, 88, 126 );\n",
       "    font-size:20pt;\n",
       "}\n",
       ".text_cell_render h4 {\n",
       "    font-family: Tahoma, sans-serif;\n",
       "    color: rgb( 10, 88, 126 );\n",
       "    font-size:18pt;\n",
       "    margin-top:12px;\n",
       "    margin-bottom: 3px;\n",
       "}\n",
       "\n",
       ".text_cell_render h5 {\n",
       "    font-weight: 300;\n",
       "    font-size: 11pt;\n",
       "    color: rgb( 48, 48, 48 );\n",
       "    font-style: italic;\n",
       "    margin-bottom: .5em;\n",
       "    margin-top: 0.5em;\n",
       "    display: block;\n",
       "}\n",
       "\n",
       ".text_cell_render ul {\n",
       "    font-family: Tahoma, sans-serif;\n",
       "    color: rgb( 90, 90, 90 );\n",
       "    font-size:11pt;\n",
       "    line-height: 185%;\n",
       "}\n",
       "\n",
       ".text_cell_render yp {\n",
       "    font-family: Tahoma, sans-serif;\n",
       "    color: rgb( 90, 90, 90 );\n",
       "    font-size:11pt;\n",
       "}\n",
       "\n",
       ".text_cell_render strong {\n",
       "    font-family: Tahoma, sans-serif;\n",
       "    color: rgb( 30, 30, 30 );\n",
       "    font-size:11pt;\n",
       "}\n",
       "\n",
       ".text_cell_render a:link {\n",
       "    font-family: Tahoma, sans-serif;\n",
       "    color: rgb( 10, 88, 126 );\n",
       "    font-size:11pt;\n",
       "}\n",
       "\n",
       ".text_cell_render a:visited {\n",
       "    color:rgb( 10, 88, 126 );\n",
       "}\n",
       "\n",
       ".text_cell_render {\n",
       "    font-family: Helvetica, Courier, Computer Modern, \"Helvetica Neue\", Arial, Geneva, sans-serif;\n",
       "    color: rgb( 84, 84, 84 );\n",
       "    font-size:11pt;\n",
       "    line-height: 125%;\n",
       "    font-size: 100%;\n",
       "    width:800px;\n",
       "}\n",
       "\n",
       ".CodeMirror {\n",
       "    font-family: Courier, \"Source Code Pro\", source-code-pro,Consolas, monospace;\n",
       "}\n",
       "\n",
       ".warning {\n",
       "    color: rgb( 240, 20, 20 );\n",
       "}\n",
       "\n",
       "/* Pandas tables */\n",
       "/*\n",
       ".rendered_html td {\n",
       "    text-align: right;\n",
       "}\n",
       "*/\n",
       "\n",
       "table.dataframe td {\n",
       "    text-align: right;\n",
       "}\n",
       "\n",
       ".output .table-of-contents {\n",
       "    border: 1px #cecece solid;\n",
       "    background-color: #fafafa;\n",
       "    padding-top: 10px;\n",
       "    padding-bottom: 5px;\n",
       "    padding-right: 15px;\n",
       "    padding-left: 0px;\n",
       "    margin-bottom: 20px;\n",
       "    display: inline-block;\n",
       "    position: relative;\n",
       "}\n",
       "\n",
       ".output .table-of-contents ul {\n",
       "    list-style-type: none;\n",
       "    padding-left: 20px;\n",
       "}\n",
       "\n",
       ".output .table-of-contents .title {\n",
       "    font-weight: bold;\n",
       "    font-height: 11pt;\n",
       "    padding-left: 20px; /* looks better if it's the same to the <ul> */\n",
       "}\n",
       "\n",
       ".output .table-of-contents .btn-update {\n",
       "    position: absolute;\n",
       "    float: right;\n",
       "    right: 11px;\n",
       "    top: 4px;\n",
       "    font-size: 9pt;\n",
       "}\n",
       "\n",
       "</style>\n",
       "<script>\n",
       "    MathJax.Hub.Config({\n",
       "                        TeX: {\n",
       "                           extensions: [\"AMSmath.js\"]\n",
       "                           },\n",
       "                displayAlign: 'center', // Change this to 'center' to center equations.\n",
       "                \"HTML-CSS\": {\n",
       "                    styles: {'.MathJax_Display': {\"margin\": 4}}\n",
       "                }\n",
       "        });\n",
       "</script>\n"
      ],
      "text/plain": [
       "<IPython.core.display.HTML object>"
      ]
     },
     "execution_count": 2,
     "metadata": {},
     "output_type": "execute_result"
    }
   ],
   "source": [
    "import numpy as np\n",
    "import pandas as pd\n",
    "from addutils import css_notebook\n",
    "from sklearn.datasets.samples_generator import make_regression\n",
    "from sklearn import linear_model\n",
    "from sklearn import metrics\n",
    "css_notebook()"
   ]
  },
  {
   "cell_type": "code",
   "execution_count": 3,
   "metadata": {
    "collapsed": false
   },
   "outputs": [
    {
     "data": {
      "text/html": [
       "\n",
       "    <div class=\"bk-root\">\n",
       "        <a href=\"http://bokeh.pydata.org\" target=\"_blank\" class=\"bk-logo bk-logo-small bk-logo-notebook\"></a>\n",
       "        <span id=\"d0ee4452-1bb6-4112-800b-6a4a594f27c2\">Loading BokehJS ...</span>\n",
       "    </div>"
      ]
     },
     "metadata": {},
     "output_type": "display_data"
    },
    {
     "data": {
      "application/javascript": [
       "\n",
       "(function(global) {\n",
       "  function now() {\n",
       "    return new Date();\n",
       "  }\n",
       "\n",
       "  var force = true;\n",
       "\n",
       "  if (typeof (window._bokeh_onload_callbacks) === \"undefined\" || force === true) {\n",
       "    window._bokeh_onload_callbacks = [];\n",
       "    window._bokeh_is_loading = undefined;\n",
       "  }\n",
       "\n",
       "\n",
       "  \n",
       "  if (typeof (window._bokeh_timeout) === \"undefined\" || force === true) {\n",
       "    window._bokeh_timeout = Date.now() + 5000;\n",
       "    window._bokeh_failed_load = false;\n",
       "  }\n",
       "\n",
       "  var NB_LOAD_WARNING = {'data': {'text/html':\n",
       "     \"<div style='background-color: #fdd'>\\n\"+\n",
       "     \"<p>\\n\"+\n",
       "     \"BokehJS does not appear to have successfully loaded. If loading BokehJS from CDN, this \\n\"+\n",
       "     \"may be due to a slow or bad network connection. Possible fixes:\\n\"+\n",
       "     \"</p>\\n\"+\n",
       "     \"<ul>\\n\"+\n",
       "     \"<li>re-rerun `output_notebook()` to attempt to load from CDN again, or</li>\\n\"+\n",
       "     \"<li>use INLINE resources instead, as so:</li>\\n\"+\n",
       "     \"</ul>\\n\"+\n",
       "     \"<code>\\n\"+\n",
       "     \"from bokeh.resources import INLINE\\n\"+\n",
       "     \"output_notebook(resources=INLINE)\\n\"+\n",
       "     \"</code>\\n\"+\n",
       "     \"</div>\"}};\n",
       "\n",
       "  function display_loaded() {\n",
       "    if (window.Bokeh !== undefined) {\n",
       "      document.getElementById(\"d0ee4452-1bb6-4112-800b-6a4a594f27c2\").textContent = \"BokehJS successfully loaded.\";\n",
       "    } else if (Date.now() < window._bokeh_timeout) {\n",
       "      setTimeout(display_loaded, 100)\n",
       "    }\n",
       "  }\n",
       "\n",
       "  function run_callbacks() {\n",
       "    window._bokeh_onload_callbacks.forEach(function(callback) { callback() });\n",
       "    delete window._bokeh_onload_callbacks\n",
       "    console.info(\"Bokeh: all callbacks have finished\");\n",
       "  }\n",
       "\n",
       "  function load_libs(js_urls, callback) {\n",
       "    window._bokeh_onload_callbacks.push(callback);\n",
       "    if (window._bokeh_is_loading > 0) {\n",
       "      console.log(\"Bokeh: BokehJS is being loaded, scheduling callback at\", now());\n",
       "      return null;\n",
       "    }\n",
       "    if (js_urls == null || js_urls.length === 0) {\n",
       "      run_callbacks();\n",
       "      return null;\n",
       "    }\n",
       "    console.log(\"Bokeh: BokehJS not loaded, scheduling load and callback at\", now());\n",
       "    window._bokeh_is_loading = js_urls.length;\n",
       "    for (var i = 0; i < js_urls.length; i++) {\n",
       "      var url = js_urls[i];\n",
       "      var s = document.createElement('script');\n",
       "      s.src = url;\n",
       "      s.async = false;\n",
       "      s.onreadystatechange = s.onload = function() {\n",
       "        window._bokeh_is_loading--;\n",
       "        if (window._bokeh_is_loading === 0) {\n",
       "          console.log(\"Bokeh: all BokehJS libraries loaded\");\n",
       "          run_callbacks()\n",
       "        }\n",
       "      };\n",
       "      s.onerror = function() {\n",
       "        console.warn(\"failed to load library \" + url);\n",
       "      };\n",
       "      console.log(\"Bokeh: injecting script tag for BokehJS library: \", url);\n",
       "      document.getElementsByTagName(\"head\")[0].appendChild(s);\n",
       "    }\n",
       "  };var element = document.getElementById(\"d0ee4452-1bb6-4112-800b-6a4a594f27c2\");\n",
       "  if (element == null) {\n",
       "    console.log(\"Bokeh: ERROR: autoload.js configured with elementid 'd0ee4452-1bb6-4112-800b-6a4a594f27c2' but no matching script tag was found. \")\n",
       "    return false;\n",
       "  }\n",
       "\n",
       "  var js_urls = [\"https://cdn.pydata.org/bokeh/release/bokeh-0.12.4.min.js\", \"https://cdn.pydata.org/bokeh/release/bokeh-widgets-0.12.4.min.js\"];\n",
       "\n",
       "  var inline_js = [\n",
       "    function(Bokeh) {\n",
       "      Bokeh.set_log_level(\"info\");\n",
       "    },\n",
       "    \n",
       "    function(Bokeh) {\n",
       "      \n",
       "      document.getElementById(\"d0ee4452-1bb6-4112-800b-6a4a594f27c2\").textContent = \"BokehJS is loading...\";\n",
       "    },\n",
       "    function(Bokeh) {\n",
       "      console.log(\"Bokeh: injecting CSS: https://cdn.pydata.org/bokeh/release/bokeh-0.12.4.min.css\");\n",
       "      Bokeh.embed.inject_css(\"https://cdn.pydata.org/bokeh/release/bokeh-0.12.4.min.css\");\n",
       "      console.log(\"Bokeh: injecting CSS: https://cdn.pydata.org/bokeh/release/bokeh-widgets-0.12.4.min.css\");\n",
       "      Bokeh.embed.inject_css(\"https://cdn.pydata.org/bokeh/release/bokeh-widgets-0.12.4.min.css\");\n",
       "    }\n",
       "  ];\n",
       "\n",
       "  function run_inline_js() {\n",
       "    \n",
       "    if ((window.Bokeh !== undefined) || (force === true)) {\n",
       "      for (var i = 0; i < inline_js.length; i++) {\n",
       "        inline_js[i](window.Bokeh);\n",
       "      }if (force === true) {\n",
       "        display_loaded();\n",
       "      }} else if (Date.now() < window._bokeh_timeout) {\n",
       "      setTimeout(run_inline_js, 100);\n",
       "    } else if (!window._bokeh_failed_load) {\n",
       "      console.log(\"Bokeh: BokehJS failed to load within specified timeout.\");\n",
       "      window._bokeh_failed_load = true;\n",
       "    } else if (force !== true) {\n",
       "      var cell = $(document.getElementById(\"d0ee4452-1bb6-4112-800b-6a4a594f27c2\")).parents('.cell').data().cell;\n",
       "      cell.output_area.append_execute_result(NB_LOAD_WARNING)\n",
       "    }\n",
       "\n",
       "  }\n",
       "\n",
       "  if (window._bokeh_is_loading === 0) {\n",
       "    console.log(\"Bokeh: BokehJS loaded, going straight to plotting\");\n",
       "    run_inline_js();\n",
       "  } else {\n",
       "    load_libs(js_urls, function() {\n",
       "      console.log(\"Bokeh: BokehJS plotting callback run at\", now());\n",
       "      run_inline_js();\n",
       "    });\n",
       "  }\n",
       "}(this));"
      ]
     },
     "metadata": {},
     "output_type": "display_data"
    }
   ],
   "source": [
    "import bokeh.plotting as bk\n",
    "from bokeh import palettes\n",
    "from bokeh.layouts import gridplot\n",
    "bk.output_notebook()"
   ]
  },
  {
   "cell_type": "markdown",
   "metadata": {},
   "source": [
    "## 1 Introduction"
   ]
  },
  {
   "cell_type": "markdown",
   "metadata": {},
   "source": []
  },
  {
   "cell_type": "markdown",
   "metadata": {},
   "source": [
    "## 2 Linear Model for Regression"
   ]
  },
  {
   "cell_type": "markdown",
   "metadata": {},
   "source": [
    "`LinearRegression` fits a linear model with coefficients $w = (w_1, \\ldots, w_p)$ to minimize the residual sum of squares between the observed responses in the dataset, and the responses predicted by the linear approximation.\n",
    "\n",
    "Mathematically it solves a problem of the form: \n",
    "$$ \\underset{w}{min} \\|Xw -y\\|_2^2$$"
   ]
  },
  {
   "cell_type": "markdown",
   "metadata": {},
   "source": [
    "### 2.1 Simple Linear Regression"
   ]
  },
  {
   "cell_type": "markdown",
   "metadata": {},
   "source": [
    "Simple linear regression is an approach for predicting a **quantitative response** using a **single feature** (or \"predictor\" or \"input variable\"). It has the following mathematical definition:\n",
    "\n",
    "$y = \\beta_0 + \\beta_1x$\n",
    "\n",
    "Where:\n",
    "- $y$ is the response or **target**\n",
    "- $x$ is the **feature**\n",
    "- $\\beta_0$ is the intercept\n",
    "- $\\beta_1$ is the coefficient for x\n",
    "\n",
    "$\\beta_0$ and $\\beta_1$ are called the **model coefficients** or **parameters**. To build the model, it is necessary to **learn** the values of these coefficients. And once the model has learned these coefficients, it can be used for prediction. We are learning a function, sometimes called **hypothesis** that is $h(x) = \\beta_0 + \\beta_1x$\n",
    "\n",
    "In supervised learning we are going to learn model from examples. What are examples? They are given couples feature, response. For example suppose we want to learn to predict the price of a house based on its size in feet$^2$. You are presented a **dataset** that is a table with two columns one that represent the size and the other that represent the price."
   ]
  },
  {
   "cell_type": "markdown",
   "metadata": {},
   "source": [
    "<img src=\"images/trainset_example.png\" alt=\"\" height=\"500\" width=\"500\">"
   ]
  },
  {
   "cell_type": "markdown",
   "metadata": {},
   "source": [
    "An **example** is a line in the table. The number of example $n$ is the size of the dataset. A couple $(x, y)$ is one training example, $(x_i, y_i)$ refers to the $i^{th}$ training example."
   ]
  },
  {
   "cell_type": "markdown",
   "metadata": {},
   "source": [
    "<img src=\"images/train_cycle.png\" alt=\"\" height=\"400\" width=\"400\">"
   ]
  },
  {
   "cell_type": "markdown",
   "metadata": {},
   "source": [
    "### 2.2 Interpreting Model Coefficients"
   ]
  },
  {
   "cell_type": "markdown",
   "metadata": {},
   "source": [
    "How do we interpret the coefficient $\\beta_1$? A *unit* **increase** in the variable $x$ is **associated with** $\\beta_1$ *unit* **increase** in variable $y$. Note that if an increase in $x$ is associated with a **decrease** in $y$, $\\beta_1$ would be **negative**."
   ]
  },
  {
   "cell_type": "code",
   "execution_count": 4,
   "metadata": {
    "collapsed": false
   },
   "outputs": [],
   "source": [
    "X, y = make_regression(n_samples=100000, n_features=1, n_informative=1,\n",
    "                       random_state=0, noise=35)"
   ]
  },
  {
   "cell_type": "code",
   "execution_count": 5,
   "metadata": {
    "collapsed": false
   },
   "outputs": [
    {
     "data": {
      "text/html": [
       "\n",
       "\n",
       "    <div class=\"bk-root\">\n",
       "        <div class=\"bk-plotdiv\" id=\"ef76088e-31f7-4769-998c-6eaafed063b4\"></div>\n",
       "    </div>\n",
       "<script type=\"text/javascript\">\n",
       "  \n",
       "  (function(global) {\n",
       "    function now() {\n",
       "      return new Date();\n",
       "    }\n",
       "  \n",
       "    var force = false;\n",
       "  \n",
       "    if (typeof (window._bokeh_onload_callbacks) === \"undefined\" || force === true) {\n",
       "      window._bokeh_onload_callbacks = [];\n",
       "      window._bokeh_is_loading = undefined;\n",
       "    }\n",
       "  \n",
       "  \n",
       "    \n",
       "    if (typeof (window._bokeh_timeout) === \"undefined\" || force === true) {\n",
       "      window._bokeh_timeout = Date.now() + 0;\n",
       "      window._bokeh_failed_load = false;\n",
       "    }\n",
       "  \n",
       "    var NB_LOAD_WARNING = {'data': {'text/html':\n",
       "       \"<div style='background-color: #fdd'>\\n\"+\n",
       "       \"<p>\\n\"+\n",
       "       \"BokehJS does not appear to have successfully loaded. If loading BokehJS from CDN, this \\n\"+\n",
       "       \"may be due to a slow or bad network connection. Possible fixes:\\n\"+\n",
       "       \"</p>\\n\"+\n",
       "       \"<ul>\\n\"+\n",
       "       \"<li>re-rerun `output_notebook()` to attempt to load from CDN again, or</li>\\n\"+\n",
       "       \"<li>use INLINE resources instead, as so:</li>\\n\"+\n",
       "       \"</ul>\\n\"+\n",
       "       \"<code>\\n\"+\n",
       "       \"from bokeh.resources import INLINE\\n\"+\n",
       "       \"output_notebook(resources=INLINE)\\n\"+\n",
       "       \"</code>\\n\"+\n",
       "       \"</div>\"}};\n",
       "  \n",
       "    function display_loaded() {\n",
       "      if (window.Bokeh !== undefined) {\n",
       "        document.getElementById(\"ef76088e-31f7-4769-998c-6eaafed063b4\").textContent = \"BokehJS successfully loaded.\";\n",
       "      } else if (Date.now() < window._bokeh_timeout) {\n",
       "        setTimeout(display_loaded, 100)\n",
       "      }\n",
       "    }\n",
       "  \n",
       "    function run_callbacks() {\n",
       "      window._bokeh_onload_callbacks.forEach(function(callback) { callback() });\n",
       "      delete window._bokeh_onload_callbacks\n",
       "      console.info(\"Bokeh: all callbacks have finished\");\n",
       "    }\n",
       "  \n",
       "    function load_libs(js_urls, callback) {\n",
       "      window._bokeh_onload_callbacks.push(callback);\n",
       "      if (window._bokeh_is_loading > 0) {\n",
       "        console.log(\"Bokeh: BokehJS is being loaded, scheduling callback at\", now());\n",
       "        return null;\n",
       "      }\n",
       "      if (js_urls == null || js_urls.length === 0) {\n",
       "        run_callbacks();\n",
       "        return null;\n",
       "      }\n",
       "      console.log(\"Bokeh: BokehJS not loaded, scheduling load and callback at\", now());\n",
       "      window._bokeh_is_loading = js_urls.length;\n",
       "      for (var i = 0; i < js_urls.length; i++) {\n",
       "        var url = js_urls[i];\n",
       "        var s = document.createElement('script');\n",
       "        s.src = url;\n",
       "        s.async = false;\n",
       "        s.onreadystatechange = s.onload = function() {\n",
       "          window._bokeh_is_loading--;\n",
       "          if (window._bokeh_is_loading === 0) {\n",
       "            console.log(\"Bokeh: all BokehJS libraries loaded\");\n",
       "            run_callbacks()\n",
       "          }\n",
       "        };\n",
       "        s.onerror = function() {\n",
       "          console.warn(\"failed to load library \" + url);\n",
       "        };\n",
       "        console.log(\"Bokeh: injecting script tag for BokehJS library: \", url);\n",
       "        document.getElementsByTagName(\"head\")[0].appendChild(s);\n",
       "      }\n",
       "    };var element = document.getElementById(\"ef76088e-31f7-4769-998c-6eaafed063b4\");\n",
       "    if (element == null) {\n",
       "      console.log(\"Bokeh: ERROR: autoload.js configured with elementid 'ef76088e-31f7-4769-998c-6eaafed063b4' but no matching script tag was found. \")\n",
       "      return false;\n",
       "    }\n",
       "  \n",
       "    var js_urls = [];\n",
       "  \n",
       "    var inline_js = [\n",
       "      function(Bokeh) {\n",
       "        (function() {\n",
       "          var fn = function() {\n",
       "            var docs_json = {\"c3ac9f16-1725-4935-ac96-cc8a3843ef6a\":{\"roots\":{\"references\":[{\"attributes\":{\"callback\":null,\"column_names\":[\"y\",\"x\"],\"data\":{\"x\":{\"__ndarray__\":\"MqNhARb47z/xq5BPfCXwPwoV11+YwH8/+OB1NJ4u6j+UnUAMN7TuvwI9nTkwj/i/mg4SYvTd8D8upzHE0Hz6P4Iha/CxjvS/IWCvl2sc9r/wh7HgDBjIPxhfXwUXf/G/9lsYNUWx4T+PiounKkL6P4XiHNE6/vy/WFkCwlYM4L81AycenmnnP9mV7eZVxsK/tVQpYCFa8L8wNELzK++wP6hvNYGW6Na/GTzlruiq978b9nYKuJ7tP61nUWXKweo/WrRpmaFT47/lqMgGVHf0P0KcFdSIBwBA4wlsELGI4D+vhc/9qVfSv09M47hI1QlAo5i2DiSj8r8SgTPnrPTwP5AKD3ZoEsQ/8MDx3O2W1z8zkiKLHunKPx9eMUTM85g/KLMYS8mt4D/yeW3e4vTPP6t4atNROPW/2YUTzmAZ8D+qEaaB1nfuv5LiWYyX7c6/nZuf9OsK+D+04b42qdjVPwZG8ZaijNc/D7ELYtSt3D/gHC4CZEDov4k85SuoqvI/Huhf90Ksqr+3hGfOUqzfP5CTPjhXKem/u31ZcZR0z7/kkLxWjvzmv7KKfsNYNe6/gpJ4EQ5jy7/yTNz1JuXNv7H+7WuzVAPAy5bBgvjeyb+igHDcolzWP+TQDa2wp/I/0HqaRczU6r/bgPzJBcn7vxrL5y0lrfC/MDqqh/8Z8j8LFNUNlt74P18VC34N/No//YiOjl5Z+L/jW0APwgLwPyHRzDjse8m/urB9OU/zAsCCVwZfS9pvv6JuW36dtuQ/yLbpi8t//T9//7VBbpC9v4cCOncTKPY/U0kQqyuQwb8tUEqGLjzzv9LMEzwpN/c/FmZ1NG6c0b+YjH9ar3bsvxKIRq1GyNg/b6GxptwC1z+PT4uHrjbmvytM9iksStE/m+DoE+hT9L9mgjBdBvnyv78iGoBbqeG/lx0Mxuc/9j9t7ZVqclz3v1UYLCeFPvS/bSbjGLbQwD8rEI4ili/mv6irRA6xIOW/bdZ6NmUB+T81Jru8cAAAwG3pvW24qT2/TTH4IuJKAEBMtV/aW4zxP0RUTZjVYao/ckpVmKLO5j8=\",\"dtype\":\"float64\",\"shape\":[100]},\"y\":{\"__ndarray__\":\"HKyN58TfNkAqcCmmHGtLQKfLccn0vDHAnJ8AJl76UUCsp1WUWqljwKIHgeqGVlTA9tbCX+HeWECBjYHasbNiQMvjOqK1F2PAThyQJb67YcBZ4Wa5fTQwwL2avafZXlzAbqrnAhfFU0CcutvIKJ5lQFr5kqGx7WbA/ai+4iWOQcByzvurxLlTQIb6JFZ6ODzAq67P/ymQWcCuaCNKwAszQLyF4yx2oSzANppNmW8ZTMB4JDaGTshmQJD3pI1nKjpAiGLwGul6QsAsCuZOEmJJQLbz+3ePA2BALD6q3e1UIsBvuY2rU2w5QIxSsCAlTHFANOunMO9eQcBX3cFVYDFCQBCS7xah2v2/MrpXblTTQ8A7cj5YFnQ+wDrbJxVw3yJAf5IsVPcDQUBR9iclGOtSQGJbQcoLklbAKRi7qq96VEDGtPWytmhbwBDpl7XbMiZAj2cryny2ZEA8zFgguD4dQA4lMw3Sp0JAkXU7KBQKREB+MWh9I/c3wAFQEbuxCVZATYR9CJcUNMBJbCk9U+05QOiHOMpwYFfANjzQ/RnrRMAalzQSgA47wGahuGE0QUzA9QftGJJCSsAufSsCT9EzQF+C1gciIGPAKdtpRq9mRcB6l4qBNQE7QGANk/m4lVdA8JzBNdyXWcCHjH6vBBFfwGCdfP3y1VnAcOBJh7WLX0Damn+bvFdSQLj6ywMM2ynACZ5AoSPlXsA2E/oDqF9JQO622A9LPUjA/NDJp/X7acA5oAWyoS8yQDOe6hzkMlRAT+338HNiZ0DZMTKDvawxQJ4hHQ/VS1pApHlcEj2oN8AG+Iht9PlfwK3rJrF5p2FAPDlm1osBHkA3Yu/Y6WhWwCbbCjvnbDBAbed7Zn1fS0DQ+9q3LoNVwL/bJgGUIFRAE/3bQeVgZ8BgKfH7YGIwwIm5h0QbsTLA8CaETUYHXEBcs+iFvLZdwE4/qWmmAk/AbvyD5A1mOMCN9V8iiQZAwF5pxKBjK1nAWz8lSoX7YUASnd7VmkhlwN7w6vNNBDdAQZ2OKZUzaUAFU9iuNzFFQIGj7QzEVT3AmFqPMWWtV0A=\",\"dtype\":\"float64\",\"shape\":[100]}}},\"id\":\"a1553f50-f3fd-4b1b-9f3b-90cd53cd81f0\",\"type\":\"ColumnDataSource\"},{\"attributes\":{\"callback\":null},\"id\":\"c9db4913-2299-47e5-8780-93c61da78b50\",\"type\":\"DataRange1d\"},{\"attributes\":{\"callback\":null,\"column_names\":[\"y\",\"x\"],\"data\":{\"x\":{\"__ndarray__\":\"MqNhARb47z/xq5BPfCXwPwoV11+YwH8/+OB1NJ4u6j+UnUAMN7TuvwI9nTkwj/i/mg4SYvTd8D8upzHE0Hz6P4Iha/CxjvS/IWCvl2sc9r/wh7HgDBjIPxhfXwUXf/G/9lsYNUWx4T+PiounKkL6P4XiHNE6/vy/WFkCwlYM4L81AycenmnnP9mV7eZVxsK/tVQpYCFa8L8wNELzK++wP6hvNYGW6Na/GTzlruiq978b9nYKuJ7tP61nUWXKweo/WrRpmaFT47/lqMgGVHf0P0KcFdSIBwBA4wlsELGI4D+vhc/9qVfSv09M47hI1QlAo5i2DiSj8r8SgTPnrPTwP5AKD3ZoEsQ/8MDx3O2W1z8zkiKLHunKPx9eMUTM85g/KLMYS8mt4D/yeW3e4vTPP6t4atNROPW/2YUTzmAZ8D+qEaaB1nfuv5LiWYyX7c6/nZuf9OsK+D+04b42qdjVPwZG8ZaijNc/D7ELYtSt3D/gHC4CZEDov4k85SuoqvI/Huhf90Ksqr+3hGfOUqzfP5CTPjhXKem/u31ZcZR0z7/kkLxWjvzmv7KKfsNYNe6/gpJ4EQ5jy7/yTNz1JuXNv7H+7WuzVAPAy5bBgvjeyb+igHDcolzWP+TQDa2wp/I/0HqaRczU6r/bgPzJBcn7vxrL5y0lrfC/MDqqh/8Z8j8LFNUNlt74P18VC34N/No//YiOjl5Z+L/jW0APwgLwPyHRzDjse8m/urB9OU/zAsCCVwZfS9pvv6JuW36dtuQ/yLbpi8t//T9//7VBbpC9v4cCOncTKPY/U0kQqyuQwb8tUEqGLjzzv9LMEzwpN/c/FmZ1NG6c0b+YjH9ar3bsvxKIRq1GyNg/b6GxptwC1z+PT4uHrjbmvytM9iksStE/m+DoE+hT9L9mgjBdBvnyv78iGoBbqeG/lx0Mxuc/9j9t7ZVqclz3v1UYLCeFPvS/bSbjGLbQwD8rEI4ili/mv6irRA6xIOW/bdZ6NmUB+T81Jru8cAAAwG3pvW24qT2/TTH4IuJKAEBMtV/aW4zxP0RUTZjVYao/ckpVmKLO5j8=\",\"dtype\":\"float64\",\"shape\":[100]},\"y\":{\"__ndarray__\":\"fYYIQhndU0CL4li5dhBUQE3y3ZDwVOo/3s4UQwNHUEDfcnwNxvlSwGea3zk0Y17AVLE+hxn1VEAoad5/0XBgQNuxPkZrbVnAVsR12l5aW8DTaSkxUkcuQKC3rIoyolXAChOJr1EIRkARYaYMeUxgQMPzt6wA8WHAIO2CnV7JQ8BtZWRnRR9NQHBwOOGh2ibAoletaRg3VMCCgmWJEtIVQCmwRal+LzzAFc6hqURIXcAfNRxdbGhSQAFrNLY3olBAPSVHh5zZR8BfNiZIE2tZQIZDFuav5GNAomvhOruYREA638XXsoY2wNH/imyrBXBAbotqXiwMV8ArmZiuQhFVQA0HZ4MnSylA3CEbmQxyPUB9h2dPhOIwQIrWQ3l9IAFAtfedHbXGREAJ2pPbCgM0QGSMYgaoP1rAIDSlHHUBVEBvuElsW9RSwCdHqnxn9TLAIFd5CePZXUDyq0ep7kg7QHYYRF5KZT1AF9+rJnPgQUATSlMnO/RNwFjSS1IbMFdACSxWzT9lD8CwOG3ddLtDQGEyian0FE/A+Sm93Q5JM8Bfy6mP3GJMwHYhEdEmq1LAfxhIYpzDMMAHY838hlEywJSTt4bm7mfA5TfcNjimL8CDhsODgew7QAteZ/ttLFdAQ9UhAmGTUMAkjPD7YTFhwGcleXr8nVTAF6n+DdB8VkBnlD/EOuBeQNveleCh00BABw7azn8gXsBuGWrna+VTQGgZDPB0Ky/AX+ly4TB2Z8DMM6vxALm5v1EkJubSxklATGWl3ZpOYkDqMzLlyechwA+u7kxvg1tAfutqlTRaJcCD2vs628lXwNzdK8ps01xATyHT4KKeNcDHE8RnWZZRwNGr4SiB7D5ANy3914e6PEBOfElenG1LwLBck5QnozVArPy9EI4kWcDwCR3MnnZXwH/5oalGyUXAY+VKMPigW0AYC/kxBedcwOUNUUsMClnAgQxEDdlBJUCgSlMU0WRLwGndAfAPFUrAxXsCgF8LX0Dhubvolc5jwF2yXZKrBcY/fwsqPyk4ZEC9oEDSQs1VQBkfALhiLhFA/MRbei5fTEA=\",\"dtype\":\"float64\",\"shape\":[100]}}},\"id\":\"1dda4b72-a740-4dfc-b32f-61c8a8eef492\",\"type\":\"ColumnDataSource\"},{\"attributes\":{\"plot\":{\"id\":\"e63f9052-8fcd-4f7b-afff-bd13c86de23e\",\"subtype\":\"Figure\",\"type\":\"Plot\"}},\"id\":\"ba6828a1-34b1-4685-85f2-c82a9e874849\",\"type\":\"PanTool\"},{\"attributes\":{\"data_source\":{\"id\":\"1dda4b72-a740-4dfc-b32f-61c8a8eef492\",\"type\":\"ColumnDataSource\"},\"glyph\":{\"id\":\"1e58535a-a12f-4bc7-9a15-b012e5a7561c\",\"type\":\"Line\"},\"hover_glyph\":null,\"nonselection_glyph\":{\"id\":\"c70f6acf-59bb-4bdb-9648-dacbd7bcde86\",\"type\":\"Line\"},\"selection_glyph\":null},\"id\":\"8fb6a96e-f7f6-4d97-9ec8-de0d5472e879\",\"type\":\"GlyphRenderer\"},{\"attributes\":{},\"id\":\"3b617cba-d99f-4d67-8cac-9dd700933d35\",\"type\":\"BasicTickFormatter\"},{\"attributes\":{\"active_drag\":\"auto\",\"active_scroll\":\"auto\",\"active_tap\":\"auto\",\"tools\":[{\"id\":\"ba6828a1-34b1-4685-85f2-c82a9e874849\",\"type\":\"PanTool\"},{\"id\":\"704e7be1-012f-4aad-8855-f129eaae182e\",\"type\":\"WheelZoomTool\"},{\"id\":\"adfb12bd-f81b-4073-abf3-b277e6cc8469\",\"type\":\"BoxZoomTool\"},{\"id\":\"6d838a1d-b374-4d4c-987e-162dd2c42495\",\"type\":\"SaveTool\"},{\"id\":\"28fb38a8-d8eb-4591-a1fc-7c0857c97898\",\"type\":\"ResetTool\"},{\"id\":\"885a82c7-7c07-4fbd-a1c5-e65f3db37bd9\",\"type\":\"HelpTool\"}]},\"id\":\"28baaac2-5a76-46a7-b98f-a19b45f4173b\",\"type\":\"Toolbar\"},{\"attributes\":{\"formatter\":{\"id\":\"3b617cba-d99f-4d67-8cac-9dd700933d35\",\"type\":\"BasicTickFormatter\"},\"minor_tick_out\":0,\"plot\":{\"id\":\"e63f9052-8fcd-4f7b-afff-bd13c86de23e\",\"subtype\":\"Figure\",\"type\":\"Plot\"},\"ticker\":{\"id\":\"34afcc08-8ed0-43b6-856a-e5cd3785b89c\",\"type\":\"BasicTicker\"}},\"id\":\"2f99eda3-32ab-4d6e-89f0-793f31c2e395\",\"type\":\"LinearAxis\"},{\"attributes\":{\"plot\":{\"id\":\"e63f9052-8fcd-4f7b-afff-bd13c86de23e\",\"subtype\":\"Figure\",\"type\":\"Plot\"}},\"id\":\"6d838a1d-b374-4d4c-987e-162dd2c42495\",\"type\":\"SaveTool\"},{\"attributes\":{},\"id\":\"34afcc08-8ed0-43b6-856a-e5cd3785b89c\",\"type\":\"BasicTicker\"},{\"attributes\":{\"plot\":{\"id\":\"e63f9052-8fcd-4f7b-afff-bd13c86de23e\",\"subtype\":\"Figure\",\"type\":\"Plot\"}},\"id\":\"28fb38a8-d8eb-4591-a1fc-7c0857c97898\",\"type\":\"ResetTool\"},{\"attributes\":{\"dimension\":1,\"grid_line_color\":{\"value\":null},\"plot\":{\"id\":\"e63f9052-8fcd-4f7b-afff-bd13c86de23e\",\"subtype\":\"Figure\",\"type\":\"Plot\"},\"ticker\":{\"id\":\"34afcc08-8ed0-43b6-856a-e5cd3785b89c\",\"type\":\"BasicTicker\"}},\"id\":\"2558e551-4db2-41f5-823e-a87fae78b6dd\",\"type\":\"Grid\"},{\"attributes\":{\"fill_color\":{\"value\":\"black\"},\"x\":{\"field\":\"x\"},\"y\":{\"field\":\"y\"}},\"id\":\"e343e35a-a99c-4172-a507-0ec35c10d5a5\",\"type\":\"Circle\"},{\"attributes\":{\"formatter\":{\"id\":\"4e0dca0d-4617-4a70-bc88-2b5269cb9e6c\",\"type\":\"BasicTickFormatter\"},\"minor_tick_out\":0,\"plot\":{\"id\":\"e63f9052-8fcd-4f7b-afff-bd13c86de23e\",\"subtype\":\"Figure\",\"type\":\"Plot\"},\"ticker\":{\"id\":\"7976583e-fffd-49c9-a457-a2b11d1c86cf\",\"type\":\"BasicTicker\"}},\"id\":\"bc693f9a-6fe8-4d1c-8225-5f24a1809c38\",\"type\":\"LinearAxis\"},{\"attributes\":{\"callback\":null},\"id\":\"7e1b8647-bc36-4e1b-b830-2380ad07df23\",\"type\":\"DataRange1d\"},{\"attributes\":{\"grid_line_color\":{\"value\":null},\"plot\":{\"id\":\"e63f9052-8fcd-4f7b-afff-bd13c86de23e\",\"subtype\":\"Figure\",\"type\":\"Plot\"},\"ticker\":{\"id\":\"7976583e-fffd-49c9-a457-a2b11d1c86cf\",\"type\":\"BasicTicker\"}},\"id\":\"7b013b98-7d27-4558-8d54-a19cc0d78c8d\",\"type\":\"Grid\"},{\"attributes\":{\"plot\":{\"id\":\"e63f9052-8fcd-4f7b-afff-bd13c86de23e\",\"subtype\":\"Figure\",\"type\":\"Plot\"}},\"id\":\"704e7be1-012f-4aad-8855-f129eaae182e\",\"type\":\"WheelZoomTool\"},{\"attributes\":{\"plot\":{\"id\":\"e63f9052-8fcd-4f7b-afff-bd13c86de23e\",\"subtype\":\"Figure\",\"type\":\"Plot\"}},\"id\":\"885a82c7-7c07-4fbd-a1c5-e65f3db37bd9\",\"type\":\"HelpTool\"},{\"attributes\":{\"below\":[{\"id\":\"bc693f9a-6fe8-4d1c-8225-5f24a1809c38\",\"type\":\"LinearAxis\"}],\"left\":[{\"id\":\"2f99eda3-32ab-4d6e-89f0-793f31c2e395\",\"type\":\"LinearAxis\"}],\"plot_height\":300,\"plot_width\":630,\"renderers\":[{\"id\":\"bc693f9a-6fe8-4d1c-8225-5f24a1809c38\",\"type\":\"LinearAxis\"},{\"id\":\"7b013b98-7d27-4558-8d54-a19cc0d78c8d\",\"type\":\"Grid\"},{\"id\":\"2f99eda3-32ab-4d6e-89f0-793f31c2e395\",\"type\":\"LinearAxis\"},{\"id\":\"2558e551-4db2-41f5-823e-a87fae78b6dd\",\"type\":\"Grid\"},{\"id\":\"50e61911-58af-4124-8397-bdf10c869df3\",\"type\":\"BoxAnnotation\"},{\"id\":\"31465ef6-4ddd-4a7b-b469-081acb61776c\",\"type\":\"GlyphRenderer\"},{\"id\":\"8fb6a96e-f7f6-4d97-9ec8-de0d5472e879\",\"type\":\"GlyphRenderer\"}],\"title\":null,\"tool_events\":{\"id\":\"67a5650f-6996-4da5-b06f-b63e1e2a3497\",\"type\":\"ToolEvents\"},\"toolbar\":{\"id\":\"28baaac2-5a76-46a7-b98f-a19b45f4173b\",\"type\":\"Toolbar\"},\"x_range\":{\"id\":\"c9db4913-2299-47e5-8780-93c61da78b50\",\"type\":\"DataRange1d\"},\"y_range\":{\"id\":\"7e1b8647-bc36-4e1b-b830-2380ad07df23\",\"type\":\"DataRange1d\"}},\"id\":\"e63f9052-8fcd-4f7b-afff-bd13c86de23e\",\"subtype\":\"Figure\",\"type\":\"Plot\"},{\"attributes\":{\"data_source\":{\"id\":\"a1553f50-f3fd-4b1b-9f3b-90cd53cd81f0\",\"type\":\"ColumnDataSource\"},\"glyph\":{\"id\":\"e343e35a-a99c-4172-a507-0ec35c10d5a5\",\"type\":\"Circle\"},\"hover_glyph\":null,\"nonselection_glyph\":{\"id\":\"d754c706-e943-4e93-a5ab-6911b1b3f3e4\",\"type\":\"Circle\"},\"selection_glyph\":null},\"id\":\"31465ef6-4ddd-4a7b-b469-081acb61776c\",\"type\":\"GlyphRenderer\"},{\"attributes\":{},\"id\":\"7976583e-fffd-49c9-a457-a2b11d1c86cf\",\"type\":\"BasicTicker\"},{\"attributes\":{},\"id\":\"67a5650f-6996-4da5-b06f-b63e1e2a3497\",\"type\":\"ToolEvents\"},{\"attributes\":{\"bottom_units\":\"screen\",\"fill_alpha\":{\"value\":0.5},\"fill_color\":{\"value\":\"lightgrey\"},\"left_units\":\"screen\",\"level\":\"overlay\",\"line_alpha\":{\"value\":1.0},\"line_color\":{\"value\":\"black\"},\"line_dash\":[4,4],\"line_width\":{\"value\":2},\"plot\":null,\"render_mode\":\"css\",\"right_units\":\"screen\",\"top_units\":\"screen\"},\"id\":\"50e61911-58af-4124-8397-bdf10c869df3\",\"type\":\"BoxAnnotation\"},{\"attributes\":{\"line_color\":{\"value\":\"red\"},\"line_width\":{\"value\":3},\"x\":{\"field\":\"x\"},\"y\":{\"field\":\"y\"}},\"id\":\"1e58535a-a12f-4bc7-9a15-b012e5a7561c\",\"type\":\"Line\"},{\"attributes\":{\"line_alpha\":{\"value\":0.1},\"line_color\":{\"value\":\"#1f77b4\"},\"line_width\":{\"value\":3},\"x\":{\"field\":\"x\"},\"y\":{\"field\":\"y\"}},\"id\":\"c70f6acf-59bb-4bdb-9648-dacbd7bcde86\",\"type\":\"Line\"},{\"attributes\":{\"fill_alpha\":{\"value\":0.1},\"fill_color\":{\"value\":\"#1f77b4\"},\"line_alpha\":{\"value\":0.1},\"line_color\":{\"value\":\"#1f77b4\"},\"x\":{\"field\":\"x\"},\"y\":{\"field\":\"y\"}},\"id\":\"d754c706-e943-4e93-a5ab-6911b1b3f3e4\",\"type\":\"Circle\"},{\"attributes\":{\"overlay\":{\"id\":\"50e61911-58af-4124-8397-bdf10c869df3\",\"type\":\"BoxAnnotation\"},\"plot\":{\"id\":\"e63f9052-8fcd-4f7b-afff-bd13c86de23e\",\"subtype\":\"Figure\",\"type\":\"Plot\"}},\"id\":\"adfb12bd-f81b-4073-abf3-b277e6cc8469\",\"type\":\"BoxZoomTool\"},{\"attributes\":{},\"id\":\"4e0dca0d-4617-4a70-bc88-2b5269cb9e6c\",\"type\":\"BasicTickFormatter\"}],\"root_ids\":[\"e63f9052-8fcd-4f7b-afff-bd13c86de23e\"]},\"title\":\"Bokeh Application\",\"version\":\"0.12.4\"}};\n",
       "            var render_items = [{\"docid\":\"c3ac9f16-1725-4935-ac96-cc8a3843ef6a\",\"elementid\":\"ef76088e-31f7-4769-998c-6eaafed063b4\",\"modelid\":\"e63f9052-8fcd-4f7b-afff-bd13c86de23e\"}];\n",
       "            \n",
       "            Bokeh.embed.embed_items(docs_json, render_items);\n",
       "          };\n",
       "          if (document.readyState != \"loading\") fn();\n",
       "          else document.addEventListener(\"DOMContentLoaded\", fn);\n",
       "        })();\n",
       "      },\n",
       "      function(Bokeh) {\n",
       "      }\n",
       "    ];\n",
       "  \n",
       "    function run_inline_js() {\n",
       "      \n",
       "      if ((window.Bokeh !== undefined) || (force === true)) {\n",
       "        for (var i = 0; i < inline_js.length; i++) {\n",
       "          inline_js[i](window.Bokeh);\n",
       "        }if (force === true) {\n",
       "          display_loaded();\n",
       "        }} else if (Date.now() < window._bokeh_timeout) {\n",
       "        setTimeout(run_inline_js, 100);\n",
       "      } else if (!window._bokeh_failed_load) {\n",
       "        console.log(\"Bokeh: BokehJS failed to load within specified timeout.\");\n",
       "        window._bokeh_failed_load = true;\n",
       "      } else if (force !== true) {\n",
       "        var cell = $(document.getElementById(\"ef76088e-31f7-4769-998c-6eaafed063b4\")).parents('.cell').data().cell;\n",
       "        cell.output_area.append_execute_result(NB_LOAD_WARNING)\n",
       "      }\n",
       "  \n",
       "    }\n",
       "  \n",
       "    if (window._bokeh_is_loading === 0) {\n",
       "      console.log(\"Bokeh: BokehJS loaded, going straight to plotting\");\n",
       "      run_inline_js();\n",
       "    } else {\n",
       "      load_libs(js_urls, function() {\n",
       "        console.log(\"Bokeh: BokehJS plotting callback run at\", now());\n",
       "        run_inline_js();\n",
       "      });\n",
       "    }\n",
       "  }(this));\n",
       "</script>"
      ]
     },
     "metadata": {},
     "output_type": "display_data"
    }
   ],
   "source": [
    "regr = linear_model.LinearRegression()\n",
    "regr.fit(X, y)\n",
    "\n",
    "fig = bk.figure(plot_width=630, plot_height=300, title=None)\n",
    "fig.circle(X[::1000, 0], y[::1000],  color='black')\n",
    "fig.line(X[::1000, 0], regr.predict(X[::1000]), color='red', line_width=3)\n",
    "fig.grid.grid_line_color = None\n",
    "fig.axis.minor_tick_out = 0\n",
    "bk.show(fig)"
   ]
  },
  {
   "cell_type": "markdown",
   "metadata": {},
   "source": [
    "### 2.3 Estimating Coefficients"
   ]
  },
  {
   "cell_type": "markdown",
   "metadata": {},
   "source": [
    "Generally speaking, coefficients are estimated using the **least squares criterion**, which finds the line that minimizes the **sum of squared residuals** (or \"sum of squared errors\"):"
   ]
  },
  {
   "cell_type": "markdown",
   "metadata": {},
   "source": [
    "<img src=\"images/estimating_coefficients.png\">"
   ]
  },
  {
   "cell_type": "markdown",
   "metadata": {},
   "source": [
    "Where:\n",
    "- The black dots are the **observed values** of x and y.\n",
    "- The blue line is our **least squares line**.\n",
    "- The red lines are the **residuals**, which are the distances between the observed values and the least squares line.\n",
    "\n",
    "How do the model coefficients relate to the least squares line?\n",
    "- $\\beta_0$ is the **intercept** (the value of $y$ when $x$=0)\n",
    "- $\\beta_1$ is the **slope** (the change in $y$ divided by change in $x$)\n",
    "\n",
    "Here is a graphical representation:"
   ]
  },
  {
   "cell_type": "markdown",
   "metadata": {},
   "source": [
    "<img src=\"images/slope_intercept.png\">"
   ]
  },
  {
   "cell_type": "markdown",
   "metadata": {},
   "source": [
    "Different choices of $\\beta_0$ and $\\beta_1$ give us different hypothesis. How do I choose $\\beta_0$ and $\\beta_1$ in order to get the best regression line? That is we want to find the best couple of $\\beta_0$ and $\\beta_1$ that minimizes the difference between the output of our hypothesis and the target. Using the notation above:\n",
    "$$min_{\\beta_0, \\beta_1} \\quad J(\\beta_0, \\beta_1) = \\frac{1}{2n}\\sum_i^n (h(x_i)-y_i)^2$$\n",
    "the second part of the expression is the **cost function** (*mean squared error* in this case) and it depends on $\\beta_0$ and $\\beta_1$, so changing their values changes the cost. Why we use the squared error? It is one of the most used functions, but there are many other. We will see why it is useful. \n",
    "\n",
    "To recap, we have:\n",
    "- an *hypothesis*: the equation of the line\n",
    "- *parameters* to learn: $\\beta_0$ and $\\beta_1$\n",
    "- *cost function*: mean squared error\n",
    "- *goal*: minimize error\n",
    "\n",
    "In order to ease the discussion we will make an example with a single parameter hypothesis:  $h(x) = \\beta_1x$; we are going to find a value for $\\beta_1$ that minimize $J(\\beta_1) = \\frac{1}{2n}\\sum_i^n (h(x_i)-y_i)^2$. How does varying the parameter affect the cost function? How varies the error?"
   ]
  },
  {
   "cell_type": "markdown",
   "metadata": {},
   "source": [
    "<img src=\"images/beta_cost.png\" alt=\"\" height=\"600\" width=\"600\">"
   ]
  },
  {
   "cell_type": "markdown",
   "metadata": {},
   "source": [
    "What happens if we keep both the coefficients $\\beta_0$ and $\\beta_1$? We have a quadratic bowl, such as the one in the picture below. "
   ]
  },
  {
   "cell_type": "markdown",
   "metadata": {},
   "source": [
    "<img src=\"images/quadratic_bowl.png\" alt=\"\" height=\"600\" width=\"600\">"
   ]
  },
  {
   "cell_type": "markdown",
   "metadata": {},
   "source": [
    "### 2.4 Learning algorithm"
   ]
  },
  {
   "cell_type": "markdown",
   "metadata": {},
   "source": [
    "How do we learn the parameters? We have a quadratic surface, how about starting with some random value for the parameters $\\beta_0$, $\\beta_1$ and then keep changing them until the cost function reaches its minimum? There could be different **local minima** as well as a **global minima**. Changing the initialization slightly changes the outcome of the optimization. "
   ]
  },
  {
   "cell_type": "markdown",
   "metadata": {},
   "source": [
    "<img src=\"images/gradient_descent.png\" alt=\"\" height=\"600\" width=\"600\">"
   ]
  },
  {
   "cell_type": "markdown",
   "metadata": {},
   "source": [
    "What is the update step? We are moving in the direction of the slove, using the derivative of the error function. How further we move? By a fixed proportion of this derivative, $\\alpha$ called the *learning rate* \n",
    "\n",
    "$$\\beta_i = \\beta_i - \\alpha \\frac{\\delta}{\\delta \\beta_i} J(\\beta_0, \\beta_1) \\quad i=0,1$$\n",
    "\n",
    "How do we apply gradient descent to minimize the mean squared error cost function? We plug our $J$ into the parameter update function and we take the derivative. \n",
    "\n",
    "$$\\frac{\\delta}{\\delta \\beta_0} J(\\beta_0, \\beta_1) =  \\frac{\\delta}{\\delta \\beta_0}\\frac{1}{2n}\\sum_i^n [(\\beta_0 + \\beta_1 x_i)-y_i]^2 = \\frac{1}{n} \\sum_i^n (h(x_i)-y_i)$$\n",
    "$$\\frac{\\delta}{\\delta \\beta_1} J(\\beta_0, \\beta_1) =  \\frac{\\delta}{\\delta \\beta_1}\\frac{1}{2n}\\sum_i^n [(\\beta_0 + \\beta_1 x_i)-y_i]^2 = \\frac{1}{n} \\sum_i^n (h(x_i)-y_i) x_i$$\n",
    "\n",
    "Actually the graph for the cost function for the linear regression is a convex function that always return the global minima. "
   ]
  },
  {
   "cell_type": "markdown",
   "metadata": {},
   "source": [
    "### 2.5 Multiple features"
   ]
  },
  {
   "cell_type": "markdown",
   "metadata": {},
   "source": [
    "At the moment we are trying to predict an outcome based on a single input variable (or feature). What if we have multiple variables as input? Does the accuracy of the model improve?"
   ]
  },
  {
   "cell_type": "markdown",
   "metadata": {},
   "source": [
    "<img src=\"images/trainset_multiple_example.png\" alt=\"\" height=\"500\" width=\"500\">"
   ]
  },
  {
   "cell_type": "markdown",
   "metadata": {},
   "source": [
    "In this case I can call the first four features as $x_1, x_2, x_3, x_4$ and the target (the price) is $y$. Here we introduce another concept in ML. The concept of dimensionality. The dimensionality of a dataset is the number of features that it has. We will denote the number of features of a dataset with the letter $p$. Here $p = 4$ (whereas in the previous example $p=1$). To simplify, $n$ is the number of rows in the table, while $p$ is the number of columns of the table.\n",
    "\n",
    "If we look at the previous notation, we can upgrade it so that now $x_i^{(j)}$ denotes the $i^{th}$ example and the $j^{th}$ feature. With multiple features the table is a matrix and each example $x_i$ is a $p$ dimensional vector. Talking again about notation, if we have multiple features our hypothesis become: \n",
    "\n",
    "$$ h(x) = \\beta_0 + \\beta_1x^{(1)} + \\beta_2x^{(2)} + \\ldots + \\beta_px^{(p)}$$\n",
    "\n",
    "Since it is no longer possible to use such notation to express the computation of the hypothesis we switch to the vectorized notation. We use a fake $x^{(0)}$ for the intercept  that we set it to $1$ for each example so that our notation becomes:\n",
    "\n",
    "$$ h(x) = \\beta_0x^{(0)} + \\beta_1x^{(1)} + \\beta_2x^{(2)} + \\ldots + \\beta_px^{(p)}$$ \n",
    "\n",
    "where $x_i^{(0)} = 1 \\quad \\forall i$. This way we can simplify the expression of the hypothesis as a dot product betwee the input and the paramteres:\n",
    "\n",
    "$$ h(X) = \\beta^TX$$ \n",
    "\n",
    "How does the update rule for the gradient descent algorithm? We use vector notation for the parameter $\\beta$ that now denotes a $p$ dimensional vector, lile $x$. Since we added our fake $x_i^{(0)}$ we are going to use a single update rule for each parameter:\n",
    "\n",
    "$$\\beta_j = \\beta_j - \\alpha \\frac{\\delta}{\\delta \\beta_j} J(\\beta) = \\beta_j - \\alpha \\frac{1}{n} \\sum_i^n (h(x_i)-y_i) x_j \\quad \\forall i$$\n",
    "\n",
    "**Problems** with gradient descent:\n",
    "- you need to find the correct learning rate\n",
    "- you have to scale data to use it effectively\n",
    "- you need many iterations"
   ]
  },
  {
   "cell_type": "markdown",
   "metadata": {},
   "source": [
    "### 2.6 Normal equation"
   ]
  },
  {
   "cell_type": "markdown",
   "metadata": {},
   "source": [
    "Instead of gradient descent we can solve for the vector of parameters analytically. Let's see how we can do it. We have switched to vectorized notation. Now the input is no longer a vector of length $n$ but a $n \\times p$ matrix. We can rewrite our hypothesis in matrix notation as:\n",
    "\n",
    "$$Y = XB$$\n",
    "\n",
    "where $Y$ is a $n$-dimensional vector and $B$ is a $p$-dimensional vector. Can we solve directly for $B$? Yes, we can obtain it from the residual sum of squares that we see at the beginning. \n",
    "\n",
    "$$RSS(\\beta) = \\sum_{i=1}^n (y_i - h(x_i))^2 = \\sum_{i=1}^n (y_i - \\sum_{j=1}^p(x_{ij}\\beta_j))^2 $$\n",
    "\n",
    "How to minimize this? If we switch to the matrix notation above we obtain the following equation:\n",
    "\n",
    "$$RSS(\\beta) = (y - X\\beta)^T(y - X\\beta)$$\n",
    "\n",
    "This is a quadratic function in the $p+1$ parameters. Differentiating with respect to $\\beta$ we obtain:\n",
    "\n",
    "$$\\frac{\\delta RSS(\\beta)}{\\delta \\beta} = -2X^T(y - X\\beta)$$\n",
    "\n",
    "Assuming (for the moment) that X has full column rank, and hence $X^T X$ is positive definite, if we set this derivative to zero we get:\n",
    "\n",
    "$$X^T(y - X\\beta) = 0$$\n",
    "\n",
    "we can obtain the solution: \n",
    "\n",
    "$$\\hat B = (X^T X)^{−1} X^T Y$$\n",
    "\n",
    "It might happen that the columns of X are not linearly independent, so that X is not of full rank. This would occur, for example, if two of the inputs were perfectly correlated, (e.g., x 2 = 3x 1 ). Then $X^T X$ is singular and the least squares coefficients $\\beta$ are not uniquely defined. This implies that the matrix is not invertible. It is possible to remove redundant features or use pseudo-inverse.\n",
    "\n",
    "**Problems** with Normal equation:\n",
    "- computing $(X^T X)^{−1}$ is done in $O(n^3)$\n",
    "- slow if $n$ is large"
   ]
  },
  {
   "cell_type": "markdown",
   "metadata": {},
   "source": [
    "## 3 Linear Models for classification"
   ]
  },
  {
   "cell_type": "markdown",
   "metadata": {},
   "source": [
    "In classification the output that we want to predict is a discrete value that has typically few values that we call **classes**. Recall the example that we did before: \n",
    "- email: spam/not spam\n",
    "- transaction: fraudolent/not fraudolent\n",
    "- tumor: malignant/benign\n",
    "\n",
    "we can assign numerical values to those classes and our target variable becomes $y \\in (0,1)$ where $0$ is the *negative class* (not spam) and $1$ is the *positive class* (spam). \n",
    "\n",
    "Let's see if we can apply simple linear regression to one of this problems. For example we want to learn if a tumor is malignant or not based on its size. Suppose that we see the following example, that is our dataset is composed of various tumor measurements and to each one is associated the value $1$ malignant and $0$ benign. Suppose that I find an hypothesis such that is represented by the line in the picture. How can I decide to which class each example belongs?"
   ]
  },
  {
   "cell_type": "markdown",
   "metadata": {},
   "source": [
    "<img src=\"images/logistic_regression.png\" alt=\"\" height=\"500\" width=\"500\">"
   ]
  },
  {
   "cell_type": "markdown",
   "metadata": {},
   "source": [
    "I can use a threshold at $0.5$ for example such that: \n",
    "- if $h(x) \\geq 0.5$ predict $1$ \n",
    "- if $h(x) < 0.5$ predict $0$\n",
    "\n",
    "what happens if we change the dataset a little bit? Let's say we add one more example to the right."
   ]
  },
  {
   "cell_type": "markdown",
   "metadata": {},
   "source": [
    "<img src=\"images/logistic_regression2.png\" alt=\"\" height=\"600\" width=\"600\">"
   ]
  },
  {
   "cell_type": "markdown",
   "metadata": {},
   "source": [
    "What happened? Linear regression changed because of the single value, and using our threshold of $0.5$ now gives wrong results. How can we overcome this kind of situations? Is it possible to use a different algorithm that estimates the class correctly? Linear regression output can be $>1$ and $<0$ while in a two-class classification problem the class can be $0$ or $1$. "
   ]
  },
  {
   "cell_type": "markdown",
   "metadata": {},
   "source": [
    "### 3.1 Logistic Regression"
   ]
  },
  {
   "cell_type": "markdown",
   "metadata": {},
   "source": [
    "The logistic regression model arises from the desire to model the posterior probabilities of the $K$ classes via linear functions in $x$, while at the same time ensuring that they sum to one and remain in $[0, 1]$.\n",
    "\n",
    "We apply the logistic function to hour hypothesis. What is the logistic function? "
   ]
  },
  {
   "cell_type": "markdown",
   "metadata": {},
   "source": [
    "<img src=\"images/logistic_function.png\" alt=\"\" height=\"500\" width=\"500\">"
   ]
  },
  {
   "cell_type": "markdown",
   "metadata": {},
   "source": [
    "$$g(z) = \\frac{1}{1+e^{-z}} $$\n",
    "\n",
    "We can apply this function to our previous linear regression hypothesis:\n",
    "\n",
    "$$ h(x) = g(\\beta^Tx)$$\n",
    "\n",
    "Now the $z$ in the previous function has now the value of $\\beta^Tx$ and the output of my hypothesis is no longer the value of $\\hat y$ but the probability of being in that class that is $P(Y=c \\mid X=x)$, given $x$ parametrized by $\\beta$."
   ]
  },
  {
   "cell_type": "markdown",
   "metadata": {},
   "source": [
    "### 3.2 Decision Boundary"
   ]
  },
  {
   "cell_type": "markdown",
   "metadata": {},
   "source": [
    "Why the logistic regression is a linear model if its function is clearly non linear? Let's discuss how the class is computed. \n",
    "\n",
    "Again we are using a threshold, suppose to predict $y=1$  if $h(x) \\geq 0.5$ and  $y=1$  if $h(x) < 0.5$. In this case $g(z) \\geq 0.5$. But when it is such the case? $g(z)$ is $\\geq 0.5$ when $z \\geq 0$, so basically when $\\beta^Tx \\geq 0$.\n",
    "\n",
    "What happens in the other case? $y=0$  if $h(x) < 0.5$. In this case $g(z) < 0.5$ when $z < 0$, so basically when $\\beta^Tx < 0$"
   ]
  },
  {
   "cell_type": "markdown",
   "metadata": {},
   "source": [
    "<img src=\"images/decision_boundary.png\" alt=\"\" height=\"500\" width=\"500\">"
   ]
  },
  {
   "cell_type": "markdown",
   "metadata": {},
   "source": [
    "### 3.3 Cost function"
   ]
  },
  {
   "cell_type": "markdown",
   "metadata": {},
   "source": []
  },
  {
   "cell_type": "markdown",
   "metadata": {},
   "source": [
    "### 3.4 Multiclass Classification"
   ]
  },
  {
   "cell_type": "markdown",
   "metadata": {},
   "source": []
  },
  {
   "cell_type": "markdown",
   "metadata": {},
   "source": [
    "---\n",
    "\n",
    "Visit [www.add-for.com](<http://www.add-for.com/IT>) for more tutorials and updates.\n",
    "\n",
    "This work is licensed under a <a rel=\"license\" href=\"http://creativecommons.org/licenses/by-sa/4.0/\">Creative Commons Attribution-ShareAlike 4.0 International License</a>."
   ]
  }
 ],
 "metadata": {
  "anaconda-cloud": {},
  "kernelspec": {
   "display_name": "Python [conda env:addtrain]",
   "language": "python",
   "name": "conda-env-addtrain-py"
  },
  "language_info": {
   "codemirror_mode": {
    "name": "ipython",
    "version": 3
   },
   "file_extension": ".py",
   "mimetype": "text/x-python",
   "name": "python",
   "nbconvert_exporter": "python",
   "pygments_lexer": "ipython3",
   "version": "3.5.2"
  }
 },
 "nbformat": 4,
 "nbformat_minor": 0
}
