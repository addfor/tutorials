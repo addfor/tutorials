{
 "cells": [
  {
   "cell_type": "markdown",
   "metadata": {},
   "source": [
    "# Table of contents"
   ]
  },
  {
   "cell_type": "markdown",
   "metadata": {},
   "source": [
    "* [__Definitions and Advices__](ml00v04_definitions.ipynb)\n",
    "    * [1 What is Machine Learning ?](ml00v04_definitions.ipynb#1-What-is-Machine-Learning-?)\n",
    "        * [1.1 Documentation and reference:](ml00v04_definitions.ipynb#1.1-Documentation-and-reference:)\n",
    "    * [2 Supervised and Unsupervised Learning](ml00v04_definitions.ipynb#2-Supervised-and-Unsupervised-Learning)\n",
    "    * [3 Cheat Sheet - scikit-learn Algorithm Selection](ml00v04_definitions.ipynb#3-Cheat-Sheet---scikit-learn-Algorithm-Selection)\n",
    "    * [4 Machine Learning Wisdom](ml00v04_definitions.ipynb#4-Machine-Learning-Wisdom)\n",
    "* [__Prepare the Data__](ml01v02_prepare_the_data.ipynb)\n",
    "    * [1 Datasets available in scikit-learn](ml01v02_prepare_the_data.ipynb#1-Datasets-available-in-scikit-learn)\n",
    "        * [1.1 Example: the \"Iris\" Packaged Dataset](ml01v02_prepare_the_data.ipynb#1.1-Example:-the-\"Iris\"-Packaged-Dataset)\n",
    "        * [1.2 Example: the \"Digits\" Packaged Dataset](ml01v02_prepare_the_data.ipynb#1.2-Example:-the-\"Digits\"-Packaged-Dataset)\n",
    "        * [1.3 Example: the \"S-Curve\" Generated Dataset](ml01v02_prepare_the_data.ipynb#1.3-Example:-the-\"S-Curve\"-Generated-Dataset)\n",
    "    * [2 Using pandas](ml01v02_prepare_the_data.ipynb#2-Using-pandas)\n",
    "    * [3 Working with MATLAB files](ml01v02_prepare_the_data.ipynb#3-Working-with-MATLAB-files)\n",
    "    * [4 Preprocessing Data](ml01v02_prepare_the_data.ipynb#4-Preprocessing-Data)\n",
    "        * [4.1 Standardizing = Mean Removal + Variance Scaling:](ml01v02_prepare_the_data.ipynb#4.1-Standardizing-=-Mean-Removal-+-Variance-Scaling:)\n",
    "        * [4.2 Using the preprocessing.StandardScaler with pandas:](ml01v02_prepare_the_data.ipynb#4.2-Using-the-preprocessing.StandardScaler-with-pandas:)\n",
    "        * [4.3 Normalizing = Dividing by a Norm of the Vector:](ml01v02_prepare_the_data.ipynb#4.3-Normalizing-=-Dividing-by-a-Norm-of-the-Vector:)\n",
    "    * [5 Features Extraction](ml01v02_prepare_the_data.ipynb#5-Features-Extraction)\n",
    "        * [5.1 Derived Features:](ml01v02_prepare_the_data.ipynb#5.1-Derived-Features:)\n",
    "        * [5.2 DictVectorizer uses \"one-hot\" encoder for categorical features:](ml01v02_prepare_the_data.ipynb#5.2-DictVectorizer-uses-\"one-hot\"-encoder-for-categorical-features:)\n",
    "        * [5.3 The Bag of Words representation:](ml01v02_prepare_the_data.ipynb#5.3-The-Bag-of-Words-representation:)\n",
    "* [__The scikit-learn interface__](ml02v02_the_scikit-learn_interface.ipynb)\n",
    "    * [1 Simple estimator example: fit a linear regression model](ml02v02_the_scikit-learn_interface.ipynb#1-Simple-estimator-example:-fit-a-linear-regression-model)\n",
    "    * [2 Separate Training and Validation Sets](ml02v02_the_scikit-learn_interface.ipynb#2-Separate-Training-and-Validation-Sets)\n",
    "        * [2.1 Example: Do a Regression Analysis on MATLAB<sup>&reg;</sup> data](ml02v02_the_scikit-learn_interface.ipynb#2.1-Example:-Do-a-Regression-Analysis-on-MATLAB<sup>&reg;</sup>-data)\n",
    "        * [2.2 Example: Training and a Validation Sets on a Classification Problem](ml02v02_the_scikit-learn_interface.ipynb#2.2-Example:-Training-and-a-Validation-Sets-on-a-Classification-Problem)\n",
    "    * [3 Cross Validation (CV)](ml02v02_the_scikit-learn_interface.ipynb#3-Cross-Validation-(CV))\n",
    "        * [3.1 Cross Validation: test many estimators on the same dataset:](ml02v02_the_scikit-learn_interface.ipynb#3.1-Cross-Validation:-test-many-estimators-on-the-same-dataset:)\n",
    "        * [3.2 Cross Validation: test many hyperparamaters and estimators on the same dataset:](ml02v02_the_scikit-learn_interface.ipynb#3.2-Cross-Validation:-test-many-hyperparamaters-and-estimators-on-the-same-dataset:)\n",
    "        * [3.3 Model specific Cross Validation:](ml02v02_the_scikit-learn_interface.ipynb#3.3-Model-specific-Cross-Validation:)\n",
    "        * [3.4 Cross-validation iterators](ml02v02_the_scikit-learn_interface.ipynb#3.4-Cross-validation-iterators)\n",
    "    * [4 Grid Search: Searching for estimator hyperparameters](ml02v02_the_scikit-learn_interface.ipynb#4-Grid-Search:-Searching-for-estimator-hyperparameters)\n",
    "        * [4.1 Exhaustive Grid Search](ml02v02_the_scikit-learn_interface.ipynb#4.1-Exhaustive-Grid-Search)\n",
    "        * [4.2 Randomized Parameter Optimization](ml02v02_the_scikit-learn_interface.ipynb#4.2-Randomized-Parameter-Optimization)\n",
    "* [__Visualizing the Data__](ml03v02_visualizing_the_data.ipynb)\n",
    "    * [1 Principal Component Analysis (PCA)](ml03v02_visualizing_the_data.ipynb#1-Principal-Component-Analysis-(PCA))\n",
    "    * [2 Linear Discriminant Alanysis (LDA)](ml03v02_visualizing_the_data.ipynb#2-Linear-Discriminant-Alanysis-(LDA))\n",
    "    * [3 Manifold Learning](ml03v02_visualizing_the_data.ipynb#3-Manifold-Learning)\n",
    "        * [3.1 Another example un a specific test dataset: the S-Curve](ml03v02_visualizing_the_data.ipynb#3.1-Another-example-un-a-specific-test-dataset:-the-S-Curve)\n",
    "        * [3.2 Some Tips on Manifold Learning practical use](ml03v02_visualizing_the_data.ipynb#3.2-Some-Tips-on-Manifold-Learning-practical-use)\n",
    "    * [4 Totally Random Trees Embedding](ml03v02_visualizing_the_data.ipynb#4-Totally-Random-Trees-Embedding)\n"
   ]
  },
  {
   "cell_type": "markdown",
   "metadata": {},
   "source": [
    "---\n",
    "\n",
    "Visit [www.add-for.com](<http://www.add-for.com/IT>) for more tutorials and updates.\n",
    "\n",
    "This work is licensed under a <a rel=\"license\" href=\"http://creativecommons.org/licenses/by-sa/4.0/\">Creative Commons Attribution-ShareAlike 4.0 International License</a>."
   ]
  }
 ],
 "metadata": {
  "anaconda-cloud": {},
  "kernelspec": {
   "display_name": "Python [default]",
   "language": "python",
   "name": "python3"
  },
  "language_info": {
   "codemirror_mode": {
    "name": "ipython",
    "version": 3
   },
   "file_extension": ".py",
   "mimetype": "text/x-python",
   "name": "python",
   "nbconvert_exporter": "python",
   "pygments_lexer": "ipython3",
   "version": "3.5.2"
  }
 },
 "nbformat": 4,
 "nbformat_minor": 0
}
