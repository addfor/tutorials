{
 "cells": [
  {
   "cell_type": "markdown",
   "metadata": {},
   "source": [
    "# Dealing with Bias and Variance"
   ]
  },
  {
   "cell_type": "code",
   "execution_count": 1,
   "metadata": {
    "collapsed": false
   },
   "outputs": [
    {
     "data": {
      "text/html": [
       "<div id='toc-container'><script type='text/javascript'>\n",
       "$(function() {\n",
       "    function regenTOC(){\n",
       "        element = $(\"#toc-container\");\n",
       "\n",
       "\tvar toc = document.createElement(\"div\");\n",
       "\t$(toc).attr(\"class\", \"table-of-contents\");\n",
       "\n",
       "\tvar curLevel = 0;\n",
       "\tvar containerStack = [toc];\n",
       "\tvar levelOfTag = {\"h2\": 1, \"h3\": 2, \"h4\": 3, \"h5\": 4};\n",
       "\n",
       "\tfunction pushLevel() {\n",
       "            var list = document.createElement(\"ul\");\n",
       "            containerStack.push(list);\n",
       "            curLevel++;\n",
       "\t}\n",
       "\t\n",
       "\tfunction popLevel() {\n",
       "            var lastContainer = containerStack.pop();\n",
       "            $(lastContainer).appendTo(containerStack[containerStack.length - 1]);\n",
       "            curLevel--;\n",
       "\t}\n",
       "\t\n",
       "\t$(\".text_cell_render :header\").each(function (i, elem) {\n",
       "            var level = levelOfTag[ elem.tagName.toLowerCase() ];\n",
       "\n",
       "            if (level === undefined)\n",
       "\t\treturn;\n",
       "\n",
       "            while (curLevel < level)\n",
       "\t\tpushLevel();\n",
       "            while (curLevel > level)\n",
       "\t\tpopLevel();\n",
       "            \n",
       "            var listItem = document.createElement(\"li\");\n",
       "            var link = document.createElement(\"a\");\n",
       "            $(link)\n",
       "\t\t.text($(elem).contents().first().text()) // Remove the pilcrow sign\n",
       "\t\t.attr(\"href\", \"#\" + $(elem).attr(\"id\"))\n",
       "\t\t.appendTo(listItem);\n",
       "            $(listItem).appendTo(containerStack[containerStack.length - 1]);\n",
       "\t});\n",
       "\t\n",
       "\twhile (curLevel > 0)\n",
       "            popLevel();\n",
       "\n",
       "        $(\"<a class='btn-update' href='#'>Update</a>\")\n",
       "          .click(regenTOC).prependTo(toc);\n",
       "\n",
       "\t$(toc).prepend(\"<div class='title'>Contents</div>\")\n",
       "          .wrap(\"<div class='toc-headings'/>\");\n",
       "\n",
       "        $(element).empty();\n",
       "        $(element).append(toc);\n",
       "    }\n",
       "\n",
       "    if (typeof(IPython) !== 'undefined')\n",
       "        $([IPython.events]).on('notebook_loaded.Notebook', regenTOC);\n",
       "    regenTOC();\n",
       "});\n",
       "\n",
       "</script></div>"
      ],
      "text/plain": [
       "<IPython.core.display.HTML object>"
      ]
     },
     "execution_count": 1,
     "metadata": {},
     "output_type": "execute_result"
    }
   ],
   "source": [
    "import addutils.toc ; addutils.toc.js(ipy_notebook=True)"
   ]
  },
  {
   "cell_type": "code",
   "execution_count": 2,
   "metadata": {
    "collapsed": false
   },
   "outputs": [
    {
     "data": {
      "text/html": [
       "<style>\n",
       ".text_cell_render @font-face {\n",
       "    font-family: \"Computer Modern\";\n",
       "    src: url('http://mirrors.ctan.org/fonts/cm-unicode/fonts/otf/cmunss.otf');\n",
       "}\n",
       "\n",
       "div.cell {\n",
       "    width: 900px;\n",
       "    margin-left: 0% !important;\n",
       "    margin-right: 0%;\n",
       "}\n",
       "\n",
       "code {\n",
       "    font-size:10pt;\n",
       "}\n",
       "\n",
       ".text_cell_render  h1 {\n",
       "    font-family: Tahoma, sans-serif;\n",
       "    color: rgb( 10, 88, 126 );\n",
       "    font-size:28pt;\n",
       "}\n",
       ".text_cell_render h2 {\n",
       "    font-family: Tahoma, sans-serif;\n",
       "    color: rgb( 10, 88, 126 );\n",
       "    font-size:24pt;\n",
       "}\n",
       ".text_cell_render h3 {\n",
       "    font-family: Tahoma, sans-serif;\n",
       "    color: rgb( 10, 88, 126 );\n",
       "    font-size:20pt;\n",
       "}\n",
       ".text_cell_render h4 {\n",
       "    font-family: Tahoma, sans-serif;\n",
       "    color: rgb( 10, 88, 126 );\n",
       "    font-size:18pt;\n",
       "    margin-top:12px;\n",
       "    margin-bottom: 3px;\n",
       "}\n",
       "\n",
       ".text_cell_render h5 {\n",
       "    font-weight: 300;\n",
       "    font-size: 11pt;\n",
       "    color: rgb( 48, 48, 48 );\n",
       "    font-style: italic;\n",
       "    margin-bottom: .5em;\n",
       "    margin-top: 0.5em;\n",
       "    display: block;\n",
       "}\n",
       "\n",
       ".text_cell_render ul {\n",
       "    font-family: Tahoma, sans-serif;\n",
       "    color: rgb( 90, 90, 90 );\n",
       "    font-size:11pt;\n",
       "    line-height: 185%;\n",
       "}\n",
       "\n",
       ".text_cell_render yp {\n",
       "    font-family: Tahoma, sans-serif;\n",
       "    color: rgb( 90, 90, 90 );\n",
       "    font-size:11pt;\n",
       "}\n",
       "\n",
       ".text_cell_render strong {\n",
       "    font-family: Tahoma, sans-serif;\n",
       "    color: rgb( 30, 30, 30 );\n",
       "    font-size:11pt;\n",
       "}\n",
       "\n",
       ".text_cell_render a:link {\n",
       "    font-family: Tahoma, sans-serif;\n",
       "    color: rgb( 10, 88, 126 );\n",
       "    font-size:11pt;\n",
       "}\n",
       "\n",
       ".text_cell_render a:visited {\n",
       "    color:rgb( 10, 88, 126 );\n",
       "}\n",
       "\n",
       ".text_cell_render {\n",
       "    font-family: Helvetica, Courier, Computer Modern, \"Helvetica Neue\", Arial, Geneva, sans-serif;\n",
       "    color: rgb( 84, 84, 84 );\n",
       "    font-size:11pt;\n",
       "    line-height: 125%;\n",
       "    font-size: 100%;\n",
       "    width:800px;\n",
       "}\n",
       "\n",
       ".CodeMirror {\n",
       "    font-family: Courier, \"Source Code Pro\", source-code-pro,Consolas, monospace;\n",
       "}\n",
       "\n",
       ".warning {\n",
       "    color: rgb( 240, 20, 20 );\n",
       "}\n",
       "\n",
       "/* Pandas tables */\n",
       "/*\n",
       ".rendered_html td {\n",
       "    text-align: right;\n",
       "}\n",
       "*/\n",
       "\n",
       "table.dataframe td {\n",
       "    text-align: right;\n",
       "}\n",
       "\n",
       ".output .table-of-contents {\n",
       "    border: 1px #cecece solid;\n",
       "    background-color: #fafafa;\n",
       "    padding-top: 10px;\n",
       "    padding-bottom: 5px;\n",
       "    padding-right: 15px;\n",
       "    padding-left: 0px;\n",
       "    margin-bottom: 20px;\n",
       "    display: inline-block;\n",
       "    position: relative;\n",
       "}\n",
       "\n",
       ".output .table-of-contents ul {\n",
       "    list-style-type: none;\n",
       "    padding-left: 20px;\n",
       "}\n",
       "\n",
       ".output .table-of-contents .title {\n",
       "    font-weight: bold;\n",
       "    font-height: 11pt;\n",
       "    padding-left: 20px; /* looks better if it's the same to the <ul> */\n",
       "}\n",
       "\n",
       ".output .table-of-contents .btn-update {\n",
       "    position: absolute;\n",
       "    float: right;\n",
       "    right: 11px;\n",
       "    top: 4px;\n",
       "    font-size: 9pt;\n",
       "}\n",
       "\n",
       "</style>\n",
       "<script>\n",
       "    MathJax.Hub.Config({\n",
       "                        TeX: {\n",
       "                           extensions: [\"AMSmath.js\"]\n",
       "                           },\n",
       "                displayAlign: 'center', // Change this to 'center' to center equations.\n",
       "                \"HTML-CSS\": {\n",
       "                    styles: {'.MathJax_Display': {\"margin\": 4}}\n",
       "                }\n",
       "        });\n",
       "</script>\n"
      ],
      "text/plain": [
       "<IPython.core.display.HTML object>"
      ]
     },
     "execution_count": 2,
     "metadata": {},
     "output_type": "execute_result"
    }
   ],
   "source": [
    "import scipy.io\n",
    "import numpy as np\n",
    "import pandas as pd\n",
    "from time import time\n",
    "from addutils import css_notebook\n",
    "from sklearn import metrics\n",
    "import sys\n",
    "import os\n",
    "from IPython.core.display import Image\n",
    "css_notebook()"
   ]
  },
  {
   "cell_type": "code",
   "execution_count": 3,
   "metadata": {
    "collapsed": false
   },
   "outputs": [
    {
     "data": {
      "text/html": [
       "\n",
       "    <div class=\"bk-root\">\n",
       "        <a href=\"http://bokeh.pydata.org\" target=\"_blank\" class=\"bk-logo bk-logo-small bk-logo-notebook\"></a>\n",
       "        <span id=\"28c1da87-09cd-4038-9016-e613fcbad627\">Loading BokehJS ...</span>\n",
       "    </div>"
      ]
     },
     "metadata": {},
     "output_type": "display_data"
    },
    {
     "data": {
      "application/javascript": [
       "\n",
       "(function(global) {\n",
       "  function now() {\n",
       "    return new Date();\n",
       "  }\n",
       "\n",
       "  var force = true;\n",
       "\n",
       "  if (typeof (window._bokeh_onload_callbacks) === \"undefined\" || force === true) {\n",
       "    window._bokeh_onload_callbacks = [];\n",
       "    window._bokeh_is_loading = undefined;\n",
       "  }\n",
       "\n",
       "\n",
       "  \n",
       "  if (typeof (window._bokeh_timeout) === \"undefined\" || force === true) {\n",
       "    window._bokeh_timeout = Date.now() + 5000;\n",
       "    window._bokeh_failed_load = false;\n",
       "  }\n",
       "\n",
       "  var NB_LOAD_WARNING = {'data': {'text/html':\n",
       "     \"<div style='background-color: #fdd'>\\n\"+\n",
       "     \"<p>\\n\"+\n",
       "     \"BokehJS does not appear to have successfully loaded. If loading BokehJS from CDN, this \\n\"+\n",
       "     \"may be due to a slow or bad network connection. Possible fixes:\\n\"+\n",
       "     \"</p>\\n\"+\n",
       "     \"<ul>\\n\"+\n",
       "     \"<li>re-rerun `output_notebook()` to attempt to load from CDN again, or</li>\\n\"+\n",
       "     \"<li>use INLINE resources instead, as so:</li>\\n\"+\n",
       "     \"</ul>\\n\"+\n",
       "     \"<code>\\n\"+\n",
       "     \"from bokeh.resources import INLINE\\n\"+\n",
       "     \"output_notebook(resources=INLINE)\\n\"+\n",
       "     \"</code>\\n\"+\n",
       "     \"</div>\"}};\n",
       "\n",
       "  function display_loaded() {\n",
       "    if (window.Bokeh !== undefined) {\n",
       "      document.getElementById(\"28c1da87-09cd-4038-9016-e613fcbad627\").textContent = \"BokehJS successfully loaded.\";\n",
       "    } else if (Date.now() < window._bokeh_timeout) {\n",
       "      setTimeout(display_loaded, 100)\n",
       "    }\n",
       "  }\n",
       "\n",
       "  function run_callbacks() {\n",
       "    window._bokeh_onload_callbacks.forEach(function(callback) { callback() });\n",
       "    delete window._bokeh_onload_callbacks\n",
       "    console.info(\"Bokeh: all callbacks have finished\");\n",
       "  }\n",
       "\n",
       "  function load_libs(js_urls, callback) {\n",
       "    window._bokeh_onload_callbacks.push(callback);\n",
       "    if (window._bokeh_is_loading > 0) {\n",
       "      console.log(\"Bokeh: BokehJS is being loaded, scheduling callback at\", now());\n",
       "      return null;\n",
       "    }\n",
       "    if (js_urls == null || js_urls.length === 0) {\n",
       "      run_callbacks();\n",
       "      return null;\n",
       "    }\n",
       "    console.log(\"Bokeh: BokehJS not loaded, scheduling load and callback at\", now());\n",
       "    window._bokeh_is_loading = js_urls.length;\n",
       "    for (var i = 0; i < js_urls.length; i++) {\n",
       "      var url = js_urls[i];\n",
       "      var s = document.createElement('script');\n",
       "      s.src = url;\n",
       "      s.async = false;\n",
       "      s.onreadystatechange = s.onload = function() {\n",
       "        window._bokeh_is_loading--;\n",
       "        if (window._bokeh_is_loading === 0) {\n",
       "          console.log(\"Bokeh: all BokehJS libraries loaded\");\n",
       "          run_callbacks()\n",
       "        }\n",
       "      };\n",
       "      s.onerror = function() {\n",
       "        console.warn(\"failed to load library \" + url);\n",
       "      };\n",
       "      console.log(\"Bokeh: injecting script tag for BokehJS library: \", url);\n",
       "      document.getElementsByTagName(\"head\")[0].appendChild(s);\n",
       "    }\n",
       "  };var element = document.getElementById(\"28c1da87-09cd-4038-9016-e613fcbad627\");\n",
       "  if (element == null) {\n",
       "    console.log(\"Bokeh: ERROR: autoload.js configured with elementid '28c1da87-09cd-4038-9016-e613fcbad627' but no matching script tag was found. \")\n",
       "    return false;\n",
       "  }\n",
       "\n",
       "  var js_urls = [\"https://cdn.pydata.org/bokeh/release/bokeh-0.12.4.min.js\", \"https://cdn.pydata.org/bokeh/release/bokeh-widgets-0.12.4.min.js\"];\n",
       "\n",
       "  var inline_js = [\n",
       "    function(Bokeh) {\n",
       "      Bokeh.set_log_level(\"info\");\n",
       "    },\n",
       "    \n",
       "    function(Bokeh) {\n",
       "      \n",
       "      document.getElementById(\"28c1da87-09cd-4038-9016-e613fcbad627\").textContent = \"BokehJS is loading...\";\n",
       "    },\n",
       "    function(Bokeh) {\n",
       "      console.log(\"Bokeh: injecting CSS: https://cdn.pydata.org/bokeh/release/bokeh-0.12.4.min.css\");\n",
       "      Bokeh.embed.inject_css(\"https://cdn.pydata.org/bokeh/release/bokeh-0.12.4.min.css\");\n",
       "      console.log(\"Bokeh: injecting CSS: https://cdn.pydata.org/bokeh/release/bokeh-widgets-0.12.4.min.css\");\n",
       "      Bokeh.embed.inject_css(\"https://cdn.pydata.org/bokeh/release/bokeh-widgets-0.12.4.min.css\");\n",
       "    }\n",
       "  ];\n",
       "\n",
       "  function run_inline_js() {\n",
       "    \n",
       "    if ((window.Bokeh !== undefined) || (force === true)) {\n",
       "      for (var i = 0; i < inline_js.length; i++) {\n",
       "        inline_js[i](window.Bokeh);\n",
       "      }if (force === true) {\n",
       "        display_loaded();\n",
       "      }} else if (Date.now() < window._bokeh_timeout) {\n",
       "      setTimeout(run_inline_js, 100);\n",
       "    } else if (!window._bokeh_failed_load) {\n",
       "      console.log(\"Bokeh: BokehJS failed to load within specified timeout.\");\n",
       "      window._bokeh_failed_load = true;\n",
       "    } else if (force !== true) {\n",
       "      var cell = $(document.getElementById(\"28c1da87-09cd-4038-9016-e613fcbad627\")).parents('.cell').data().cell;\n",
       "      cell.output_area.append_execute_result(NB_LOAD_WARNING)\n",
       "    }\n",
       "\n",
       "  }\n",
       "\n",
       "  if (window._bokeh_is_loading === 0) {\n",
       "    console.log(\"Bokeh: BokehJS loaded, going straight to plotting\");\n",
       "    run_inline_js();\n",
       "  } else {\n",
       "    load_libs(js_urls, function() {\n",
       "      console.log(\"Bokeh: BokehJS plotting callback run at\", now());\n",
       "      run_inline_js();\n",
       "    });\n",
       "  }\n",
       "}(this));"
      ]
     },
     "metadata": {},
     "output_type": "display_data"
    }
   ],
   "source": [
    "import bokeh.plotting as bk\n",
    "bk.output_notebook()"
   ]
  },
  {
   "cell_type": "markdown",
   "metadata": {},
   "source": [
    "## 1 Bias-Variance Tradeoff"
   ]
  },
  {
   "cell_type": "markdown",
   "metadata": {},
   "source": [
    "### 1.1 (In)Formal introduction to Bias and Variance\n",
    "\n",
    "Roughly speaking Machine Learning algorithms try to characterize a tradeoff between generalization (how well the model represents the general concept or function to learn) and apporoximation (how well the model fits the data). A small error denotes a good approximation of the function _out of sample_. A more complex model has a better chance of approximating $f$, in contrast a less complex model has a better chance of generalizing (picking the right approximation) out of sample.\n",
    "\n",
    "A more formal definition can be given after *Hastie, et al. 2009*.\n",
    "Let's explain Bias-Variance using linear regression problems, and specifically we'll use a squared-error measure as loss function. Assume further that the output $Y = f(X) + \\epsilon$ where $E(\\epsilon) = 0$ and $Var(\\epsilon) = \\sigma_\\epsilon^2$\n",
    "\n",
    "We estimate a model $\\widehat{f}(X)$ of a function $f(X)$, and the expected squared error of a given point $x_0$ is:\n",
    "\n",
    "$$Err(x_0) = E[(Y - \\widehat{f}(x_0))^2]$$\n",
    "\n",
    "It is possible to decompose this error in its Bias and Variance components:\n",
    "\n",
    "$$Err(x_0) = \\big(E[\\widehat{f}(x_0)] - f(x_0)\\big)^2 + E\\big[\\widehat{f}(x_0) - E[\\widehat{f}(x_0)]\\big]^2 + \\sigma_{\\epsilon}^2$$\n",
    "\n",
    "$$Err(x_0) = Bias^2 + Variance + Irreducible Error$$\n",
    "\n",
    "Where $Irreducible Error$ is the variance in the true relationship that cannot be captured by any model no matter how well we estimate $f(X)$. $Bias^2$ is the difference between the average of our estimate from the true mean. $Variance$ is the expected squared deviation of $\\widehat{f}(x_0)$ around its mean. Usually the more complex is the model the lower the Bias but the higher the variance. We can give a pictorial illustration of the relationship with the image below. (The image is taken from [this](http://scott.fortmann-roe.com/docs/BiasVariance.html) blog)"
   ]
  },
  {
   "cell_type": "code",
   "execution_count": 4,
   "metadata": {
    "collapsed": false
   },
   "outputs": [
    {
     "data": {
      "image/png": "[encoded data removed]",
      "text/plain": [
       "<IPython.core.display.Image object>"
      ]
     },
     "execution_count": 4,
     "metadata": {},
     "output_type": "execute_result"
    }
   ],
   "source": [
    "Image('utilities/bias_variance.png') "
   ]
  },
  {
   "cell_type": "markdown",
   "metadata": {},
   "source": [
    "Suppose the center (red) of each diagram is the real function to learn. As we move away from the center the prediction gets worse and worse. Each dot in the picture is a realization of the model given a subsample of the dataset; each circle is a different model (whose particular realizations are the dots) and model's characteristics are described by the two corresponding labels (horizontal and vertical).\n",
    "\n",
    "Having a model (top left) with both Low Bias and Low Variance is practically impossible since, as we will see next, if we decrese one the other increase (in this case both generalization and approximation will be good and we could learn almost the real function); the hard part is hence finding the best possible balance between the two. In case of Low Bias and High Variance (top right), the model is capable of representing the correct function but the model may be too complex, and thus more supsceptible in variation on the dataset. For this reason each dot (function approximation) draw from this model may vary considerably from estimate to estimate, depending on the particular subsample used for training. For High Bias and Low Variance (bottom left) the model is constantly learning a substantially different function respect to the true one, but each run is independent from the particular subsample of data (it generalize well but it approximate poorly). If we have a model that has both High Varianche and High Bias (bottom right) the model si constantly learning a wrong model with high variability between subsamples and thus the probability of picking a good model is very low. \n",
    "\n",
    "One can think of Bias and Variance as urn that contains a bunch of candidate approximations of an unknown function $f$. If we have few candidates in the urn (think about degenerating and have only one function in it), but each candidate is far away from the true value of $f$; in this case the Bias is high and the Variance is low, no matter of the dataset we will always return the same function. If we have a bigger urn containing a lot of candidates the probability that it contains the true function is higher, but it is difficult to navigate through the candidates to find the right one. In this case the Bias is lower but the Variance is higher, we have so many varieties that depending on which sample we get the function differs.\n",
    "\n",
    "Next we will show what we mean by complexity of the model with some practical examples in order to further understand the Bias-Variance tradeoff."
   ]
  },
  {
   "cell_type": "code",
   "execution_count": 5,
   "metadata": {
    "collapsed": false
   },
   "outputs": [],
   "source": [
    "from utilities import biasvariance\n",
    "from bokeh.models.ranges import Range1d"
   ]
  },
  {
   "cell_type": "markdown",
   "metadata": {},
   "source": [
    "In this figure, we use polynomials with different degrees `d` to fit the same data.\n",
    "\n",
    "For `d=1`, the model suffers from **high bias**: the model complexity is not enough to represent the data.\n",
    "\n",
    "At the other extreme, for `d=6` the model suffers from **high variance**: the mode overfit the data because it has too many free parameters.  In this case a typical behaviour is that if any of the input points are varied slightly, it could result in a very different approximation. This kind of model will fit perfectly the training data while failing to do so on validation data.\n",
    "\n",
    "In the middle picture, for `d=2`, we have found a good model."
   ]
  },
  {
   "cell_type": "code",
   "execution_count": 6,
   "metadata": {
    "collapsed": false
   },
   "outputs": [],
   "source": [
    "%matplotlib inline\n",
    "import matplotlib.pyplot as plt"
   ]
  },
  {
   "cell_type": "code",
   "execution_count": 7,
   "metadata": {
    "collapsed": false
   },
   "outputs": [
    {
     "data": {
      "text/html": [
       "\n",
       "\n",
       "    <div class=\"bk-root\">\n",
       "        <div class=\"bk-plotdiv\" id=\"e54d5cb5-bb81-4114-a6f3-4f1f9a1b33ca\"></div>\n",
       "    </div>\n",
       "<script type=\"text/javascript\">\n",
       "  \n",
       "  (function(global) {\n",
       "    function now() {\n",
       "      return new Date();\n",
       "    }\n",
       "  \n",
       "    var force = false;\n",
       "  \n",
       "    if (typeof (window._bokeh_onload_callbacks) === \"undefined\" || force === true) {\n",
       "      window._bokeh_onload_callbacks = [];\n",
       "      window._bokeh_is_loading = undefined;\n",
       "    }\n",
       "  \n",
       "  \n",
       "    \n",
       "    if (typeof (window._bokeh_timeout) === \"undefined\" || force === true) {\n",
       "      window._bokeh_timeout = Date.now() + 0;\n",
       "      window._bokeh_failed_load = false;\n",
       "    }\n",
       "  \n",
       "    var NB_LOAD_WARNING = {'data': {'text/html':\n",
       "       \"<div style='background-color: #fdd'>\\n\"+\n",
       "       \"<p>\\n\"+\n",
       "       \"BokehJS does not appear to have successfully loaded. If loading BokehJS from CDN, this \\n\"+\n",
       "       \"may be due to a slow or bad network connection. Possible fixes:\\n\"+\n",
       "       \"</p>\\n\"+\n",
       "       \"<ul>\\n\"+\n",
       "       \"<li>re-rerun `output_notebook()` to attempt to load from CDN again, or</li>\\n\"+\n",
       "       \"<li>use INLINE resources instead, as so:</li>\\n\"+\n",
       "       \"</ul>\\n\"+\n",
       "       \"<code>\\n\"+\n",
       "       \"from bokeh.resources import INLINE\\n\"+\n",
       "       \"output_notebook(resources=INLINE)\\n\"+\n",
       "       \"</code>\\n\"+\n",
       "       \"</div>\"}};\n",
       "  \n",
       "    function display_loaded() {\n",
       "      if (window.Bokeh !== undefined) {\n",
       "        document.getElementById(\"e54d5cb5-bb81-4114-a6f3-4f1f9a1b33ca\").textContent = \"BokehJS successfully loaded.\";\n",
       "      } else if (Date.now() < window._bokeh_timeout) {\n",
       "        setTimeout(display_loaded, 100)\n",
       "      }\n",
       "    }\n",
       "  \n",
       "    function run_callbacks() {\n",
       "      window._bokeh_onload_callbacks.forEach(function(callback) { callback() });\n",
       "      delete window._bokeh_onload_callbacks\n",
       "      console.info(\"Bokeh: all callbacks have finished\");\n",
       "    }\n",
       "  \n",
       "    function load_libs(js_urls, callback) {\n",
       "      window._bokeh_onload_callbacks.push(callback);\n",
       "      if (window._bokeh_is_loading > 0) {\n",
       "        console.log(\"Bokeh: BokehJS is being loaded, scheduling callback at\", now());\n",
       "        return null;\n",
       "      }\n",
       "      if (js_urls == null || js_urls.length === 0) {\n",
       "        run_callbacks();\n",
       "        return null;\n",
       "      }\n",
       "      console.log(\"Bokeh: BokehJS not loaded, scheduling load and callback at\", now());\n",
       "      window._bokeh_is_loading = js_urls.length;\n",
       "      for (var i = 0; i < js_urls.length; i++) {\n",
       "        var url = js_urls[i];\n",
       "        var s = document.createElement('script');\n",
       "        s.src = url;\n",
       "        s.async = false;\n",
       "        s.onreadystatechange = s.onload = function() {\n",
       "          window._bokeh_is_loading--;\n",
       "          if (window._bokeh_is_loading === 0) {\n",
       "            console.log(\"Bokeh: all BokehJS libraries loaded\");\n",
       "            run_callbacks()\n",
       "          }\n",
       "        };\n",
       "        s.onerror = function() {\n",
       "          console.warn(\"failed to load library \" + url);\n",
       "        };\n",
       "        console.log(\"Bokeh: injecting script tag for BokehJS library: \", url);\n",
       "        document.getElementsByTagName(\"head\")[0].appendChild(s);\n",
       "      }\n",
       "    };var element = document.getElementById(\"e54d5cb5-bb81-4114-a6f3-4f1f9a1b33ca\");\n",
       "    if (element == null) {\n",
       "      console.log(\"Bokeh: ERROR: autoload.js configured with elementid 'e54d5cb5-bb81-4114-a6f3-4f1f9a1b33ca' but no matching script tag was found. \")\n",
       "      return false;\n",
       "    }\n",
       "  \n",
       "    var js_urls = [];\n",
       "  \n",
       "    var inline_js = [\n",
       "      function(Bokeh) {\n",
       "        (function() {\n",
       "          var fn = function() {\n",
       "            var docs_json = {\"f28ab2ec-9a3e-44a5-9a97-697632205f53\":{\"roots\":{\"references\":[{\"attributes\":{\"below\":[{\"id\":\"01c05d47-c7b5-4432-a088-d2d986e0a954\",\"type\":\"LinearAxis\"}],\"left\":[{\"id\":\"4149928d-72de-412b-8360-abf8f9a8d726\",\"type\":\"LinearAxis\"}],\"plot_height\":240,\"plot_width\":240,\"renderers\":[{\"id\":\"01c05d47-c7b5-4432-a088-d2d986e0a954\",\"type\":\"LinearAxis\"},{\"id\":\"8fc30b8d-1874-4235-8f09-cee8d2d663fd\",\"type\":\"Grid\"},{\"id\":\"4149928d-72de-412b-8360-abf8f9a8d726\",\"type\":\"LinearAxis\"},{\"id\":\"37d4fc7e-ac22-4e2a-a69c-8dd7dde5c4cd\",\"type\":\"Grid\"},{\"id\":\"e195995a-50b4-4922-b9d7-c04c24fa135f\",\"type\":\"BoxAnnotation\"},{\"id\":\"4f85c856-51f2-4984-90ca-65cf18b30bd2\",\"type\":\"GlyphRenderer\"},{\"id\":\"23297bf6-d9ae-454d-8715-cded7be3ae93\",\"type\":\"GlyphRenderer\"}],\"title\":{\"id\":\"4511d49b-7e82-4556-8eba-13fd65be9449\",\"type\":\"Title\"},\"tool_events\":{\"id\":\"65c22d9c-2037-42dc-9877-1a8f1c1f259f\",\"type\":\"ToolEvents\"},\"toolbar\":{\"id\":\"d8c56502-86ef-4615-ba92-ed10b2cfafa7\",\"type\":\"Toolbar\"},\"toolbar_location\":null,\"x_range\":{\"id\":\"19209f36-ad3d-4410-9838-81ca1ab8bbee\",\"type\":\"Range1d\"},\"y_range\":{\"id\":\"36ad050c-210f-4c32-ba1d-6a7ce11924ed\",\"type\":\"Range1d\"}},\"id\":\"b16c9c6a-1f5b-4492-9eb6-304c6e79522f\",\"subtype\":\"Figure\",\"type\":\"Plot\"},{\"attributes\":{\"plot\":{\"id\":\"b16c9c6a-1f5b-4492-9eb6-304c6e79522f\",\"subtype\":\"Figure\",\"type\":\"Plot\"}},\"id\":\"c36e8e33-67a0-4142-8471-f9433c4c2fdb\",\"type\":\"ResetTool\"},{\"attributes\":{},\"id\":\"1a273079-ac11-4728-87f0-9e8983fe6eef\",\"type\":\"BasicTickFormatter\"},{\"attributes\":{\"overlay\":{\"id\":\"f6e30ae9-e3e0-44f5-b646-a6577a337f1a\",\"type\":\"BoxAnnotation\"},\"plot\":{\"id\":\"945d927d-b74e-4fb9-9dbe-48f87e76cd51\",\"subtype\":\"Figure\",\"type\":\"Plot\"}},\"id\":\"b5a8dc22-65e4-4e86-9255-8d80cece67ea\",\"type\":\"BoxZoomTool\"},{\"attributes\":{\"callback\":null,\"column_names\":[\"x\",\"y\"],\"data\":{\"x\":{\"__ndarray__\":\"exSuR+F6hD8qHSlQNcWTP7U4bubUFaM/NdvkMohssj8ESFBNGcnBP2JlpStUK9E/d9N4kQaT4D8AAAAAAADwPw==\",\"dtype\":\"float64\",\"shape\":[8]},\"y\":{\"__ndarray__\":\"mFTPLeiE8j/9CkHYOsn4P+9CRWpgUAhAuf5G+DbJE0D01/ulsMoWQAHhRdOMqxxA1ilwpbpXIkDvQCA9AvMiQA==\",\"dtype\":\"float64\",\"shape\":[8]}}},\"id\":\"716116c1-1447-49c3-94f3-0b0eaf72cb94\",\"type\":\"ColumnDataSource\"},{\"attributes\":{\"data_source\":{\"id\":\"6445234d-ae84-402a-845b-999cdbae2217\",\"type\":\"ColumnDataSource\"},\"glyph\":{\"id\":\"bd07de4e-f19e-4e36-a671-901a2afbd19b\",\"type\":\"Line\"},\"hover_glyph\":null,\"nonselection_glyph\":{\"id\":\"40255c60-86ba-4809-b1f6-bd92263c2bcc\",\"type\":\"Line\"},\"selection_glyph\":null},\"id\":\"f535c7d9-95f2-4254-a051-25fd9e688c58\",\"type\":\"GlyphRenderer\"},{\"attributes\":{\"children\":[{\"id\":\"b52f7ec2-7ec8-4233-afe3-0417995488be\",\"type\":\"Row\"}]},\"id\":\"fade746b-be89-4bc3-a35c-8d0dfff1624e\",\"type\":\"Column\"},{\"attributes\":{\"dimension\":1,\"plot\":{\"id\":\"945d927d-b74e-4fb9-9dbe-48f87e76cd51\",\"subtype\":\"Figure\",\"type\":\"Plot\"},\"ticker\":{\"id\":\"4b9b6d87-23a1-47d7-b308-9732d22c4c8c\",\"type\":\"BasicTicker\"}},\"id\":\"ec0ca766-00e8-4193-8092-401739530922\",\"type\":\"Grid\"},{\"attributes\":{\"line_alpha\":{\"value\":0.1},\"line_color\":{\"value\":\"#1f77b4\"},\"x\":{\"field\":\"x\"},\"y\":{\"field\":\"y\"}},\"id\":\"8912c847-4efa-463d-bdb9-00b0f7a3a54f\",\"type\":\"Line\"},{\"attributes\":{\"plot\":{\"id\":\"945d927d-b74e-4fb9-9dbe-48f87e76cd51\",\"subtype\":\"Figure\",\"type\":\"Plot\"}},\"id\":\"13587c3b-fbd7-4879-b3cd-af64bc9b61d5\",\"type\":\"PanTool\"},{\"attributes\":{\"data_source\":{\"id\":\"ed0e0825-8e7b-4504-9515-37667cb641de\",\"type\":\"ColumnDataSource\"},\"glyph\":{\"id\":\"dd13e7e2-bccc-43c7-a6bc-ba505028c8f6\",\"type\":\"X\"},\"hover_glyph\":null,\"nonselection_glyph\":{\"id\":\"9d7eaec6-5a14-4251-9daa-bbca462d82ba\",\"type\":\"X\"},\"selection_glyph\":null},\"id\":\"54871a9b-a1f7-411f-bf15-c649c85b5909\",\"type\":\"GlyphRenderer\"},{\"attributes\":{\"plot\":{\"id\":\"b16c9c6a-1f5b-4492-9eb6-304c6e79522f\",\"subtype\":\"Figure\",\"type\":\"Plot\"}},\"id\":\"13255962-97bd-4bd6-9366-b7f06443e2a0\",\"type\":\"SaveTool\"},{\"attributes\":{\"plot\":{\"id\":\"b16c9c6a-1f5b-4492-9eb6-304c6e79522f\",\"subtype\":\"Figure\",\"type\":\"Plot\"}},\"id\":\"755a8a1e-07c3-407f-8b74-708ae6a8bb23\",\"type\":\"HelpTool\"},{\"attributes\":{\"axis_label\":\"price\",\"axis_label_text_font_size\":{\"value\":\"9pt\"},\"formatter\":{\"id\":\"1a273079-ac11-4728-87f0-9e8983fe6eef\",\"type\":\"BasicTickFormatter\"},\"plot\":{\"id\":\"b16c9c6a-1f5b-4492-9eb6-304c6e79522f\",\"subtype\":\"Figure\",\"type\":\"Plot\"},\"ticker\":{\"id\":\"7b1a5f1f-48e0-4a7d-abdb-95f45de0a842\",\"type\":\"BasicTicker\"}},\"id\":\"4149928d-72de-412b-8360-abf8f9a8d726\",\"type\":\"LinearAxis\"},{\"attributes\":{\"line_color\":{\"value\":\"blue\"},\"x\":{\"field\":\"x\"},\"y\":{\"field\":\"y\"}},\"id\":\"0db426a1-b49a-4145-8144-b80a2b02c5a8\",\"type\":\"Line\"},{\"attributes\":{},\"id\":\"7a95f509-b550-4b93-80f6-07db59801c43\",\"type\":\"BasicTicker\"},{\"attributes\":{\"axis_label\":\"house size\",\"axis_label_text_font_size\":{\"value\":\"9pt\"},\"formatter\":{\"id\":\"ae597184-4876-4f8b-90f2-501744b3e3ee\",\"type\":\"BasicTickFormatter\"},\"plot\":{\"id\":\"b16c9c6a-1f5b-4492-9eb6-304c6e79522f\",\"subtype\":\"Figure\",\"type\":\"Plot\"},\"ticker\":{\"id\":\"7a95f509-b550-4b93-80f6-07db59801c43\",\"type\":\"BasicTicker\"}},\"id\":\"01c05d47-c7b5-4432-a088-d2d986e0a954\",\"type\":\"LinearAxis\"},{\"attributes\":{\"fill_color\":{\"value\":\"black\"},\"size\":{\"units\":\"screen\",\"value\":12},\"x\":{\"field\":\"x\"},\"y\":{\"field\":\"y\"}},\"id\":\"8a168ae5-50b3-4ab1-b9ae-2d7f7d885873\",\"type\":\"X\"},{\"attributes\":{\"callback\":null,\"end\":1.2,\"start\":-0.2},\"id\":\"fe2ebf24-db92-45a5-8ebb-cdf9788157c1\",\"type\":\"Range1d\"},{\"attributes\":{\"data_source\":{\"id\":\"a7376656-3499-49e4-b168-bedf61af7353\",\"type\":\"ColumnDataSource\"},\"glyph\":{\"id\":\"5725e060-28c5-4b2e-88e6-8a8048fee358\",\"type\":\"Line\"},\"hover_glyph\":null,\"nonselection_glyph\":{\"id\":\"09adb094-7521-46cd-9c34-5e1ccd8f4ef6\",\"type\":\"Line\"},\"selection_glyph\":null},\"id\":\"23297bf6-d9ae-454d-8715-cded7be3ae93\",\"type\":\"GlyphRenderer\"},{\"attributes\":{},\"id\":\"65c22d9c-2037-42dc-9877-1a8f1c1f259f\",\"type\":\"ToolEvents\"},{\"attributes\":{},\"id\":\"7b1a5f1f-48e0-4a7d-abdb-95f45de0a842\",\"type\":\"BasicTicker\"},{\"attributes\":{},\"id\":\"ae597184-4876-4f8b-90f2-501744b3e3ee\",\"type\":\"BasicTickFormatter\"},{\"attributes\":{\"fill_color\":{\"value\":\"black\"},\"size\":{\"units\":\"screen\",\"value\":12},\"x\":{\"field\":\"x\"},\"y\":{\"field\":\"y\"}},\"id\":\"dd13e7e2-bccc-43c7-a6bc-ba505028c8f6\",\"type\":\"X\"},{\"attributes\":{},\"id\":\"4b238baa-5acb-4cf5-b9a7-ba3d952026ca\",\"type\":\"BasicTicker\"},{\"attributes\":{\"plot\":{\"id\":\"945d927d-b74e-4fb9-9dbe-48f87e76cd51\",\"subtype\":\"Figure\",\"type\":\"Plot\"}},\"id\":\"42f75eae-f323-44fa-9645-6b69d5db9c46\",\"type\":\"HelpTool\"},{\"attributes\":{\"plot\":{\"id\":\"945d927d-b74e-4fb9-9dbe-48f87e76cd51\",\"subtype\":\"Figure\",\"type\":\"Plot\"}},\"id\":\"d7b666ff-8cf0-466c-a44f-3261de3458a0\",\"type\":\"ResetTool\"},{\"attributes\":{\"callback\":null,\"end\":12},\"id\":\"6210973d-39c1-41fe-8c69-328bf162da87\",\"type\":\"Range1d\"},{\"attributes\":{\"plot\":{\"id\":\"27f46c71-6f00-411a-9047-9159bafbcfcf\",\"subtype\":\"Figure\",\"type\":\"Plot\"}},\"id\":\"59c7db05-c4aa-4bef-8e6e-ef8b5369dda3\",\"type\":\"PanTool\"},{\"attributes\":{\"callback\":null,\"end\":1.2,\"start\":-0.2},\"id\":\"19209f36-ad3d-4410-9838-81ca1ab8bbee\",\"type\":\"Range1d\"},{\"attributes\":{\"data_source\":{\"id\":\"716116c1-1447-49c3-94f3-0b0eaf72cb94\",\"type\":\"ColumnDataSource\"},\"glyph\":{\"id\":\"57ce24af-cf20-4986-a902-924c9604d00e\",\"type\":\"X\"},\"hover_glyph\":null,\"nonselection_glyph\":{\"id\":\"df56428f-02f9-479d-b833-c2f0f256a79b\",\"type\":\"X\"},\"selection_glyph\":null},\"id\":\"29e4d9c1-314c-409e-9e8c-9512d2ab27bc\",\"type\":\"GlyphRenderer\"},{\"attributes\":{\"bottom_units\":\"screen\",\"fill_alpha\":{\"value\":0.5},\"fill_color\":{\"value\":\"lightgrey\"},\"left_units\":\"screen\",\"level\":\"overlay\",\"line_alpha\":{\"value\":1.0},\"line_color\":{\"value\":\"black\"},\"line_dash\":[4,4],\"line_width\":{\"value\":2},\"plot\":null,\"render_mode\":\"css\",\"right_units\":\"screen\",\"top_units\":\"screen\"},\"id\":\"e195995a-50b4-4922-b9d7-c04c24fa135f\",\"type\":\"BoxAnnotation\"},{\"attributes\":{\"plot\":null,\"text\":\"d = 1 (under-fit; high bias)\",\"text_font_size\":{\"value\":\"11pt\"}},\"id\":\"4511d49b-7e82-4556-8eba-13fd65be9449\",\"type\":\"Title\"},{\"attributes\":{},\"id\":\"70138e2c-9c78-4f75-8417-2ce53c284b96\",\"type\":\"BasicTicker\"},{\"attributes\":{\"axis_label_text_font_size\":{\"value\":\"9pt\"},\"formatter\":{\"id\":\"db88d917-ec0d-4461-ac2b-1172f15934cd\",\"type\":\"BasicTickFormatter\"},\"plot\":{\"id\":\"27f46c71-6f00-411a-9047-9159bafbcfcf\",\"subtype\":\"Figure\",\"type\":\"Plot\"},\"ticker\":{\"id\":\"70138e2c-9c78-4f75-8417-2ce53c284b96\",\"type\":\"BasicTicker\"}},\"id\":\"03f6c0df-f6c0-4be5-a6c3-59d5042b1cba\",\"type\":\"LinearAxis\"},{\"attributes\":{\"plot\":{\"id\":\"27f46c71-6f00-411a-9047-9159bafbcfcf\",\"subtype\":\"Figure\",\"type\":\"Plot\"}},\"id\":\"86553853-32cf-40f3-86a0-cf046ea82338\",\"type\":\"HelpTool\"},{\"attributes\":{\"plot\":{\"id\":\"27f46c71-6f00-411a-9047-9159bafbcfcf\",\"subtype\":\"Figure\",\"type\":\"Plot\"}},\"id\":\"54926286-71c3-406c-b5b9-1a67bb3582e3\",\"type\":\"ResetTool\"},{\"attributes\":{\"plot\":{\"id\":\"27f46c71-6f00-411a-9047-9159bafbcfcf\",\"subtype\":\"Figure\",\"type\":\"Plot\"},\"ticker\":{\"id\":\"9521e046-0b13-44e9-9c46-c5fe2ff5851c\",\"type\":\"BasicTicker\"}},\"id\":\"080fc862-c44a-4ab5-9f38-0b8685d57093\",\"type\":\"Grid\"},{\"attributes\":{},\"id\":\"db96a49b-3f42-4424-9f2c-1ec769862ed6\",\"type\":\"ToolEvents\"},{\"attributes\":{\"fill_alpha\":{\"value\":0.1},\"fill_color\":{\"value\":\"#1f77b4\"},\"line_alpha\":{\"value\":0.1},\"line_color\":{\"value\":\"#1f77b4\"},\"size\":{\"units\":\"screen\",\"value\":12},\"x\":{\"field\":\"x\"},\"y\":{\"field\":\"y\"}},\"id\":\"df56428f-02f9-479d-b833-c2f0f256a79b\",\"type\":\"X\"},{\"attributes\":{\"data_source\":{\"id\":\"ee1b6bd9-1ec5-44d4-97ae-d0c1c1969177\",\"type\":\"ColumnDataSource\"},\"glyph\":{\"id\":\"0db426a1-b49a-4145-8144-b80a2b02c5a8\",\"type\":\"Line\"},\"hover_glyph\":null,\"nonselection_glyph\":{\"id\":\"8912c847-4efa-463d-bdb9-00b0f7a3a54f\",\"type\":\"Line\"},\"selection_glyph\":null},\"id\":\"9cf33169-dfd0-44f6-8768-7e23396f85e1\",\"type\":\"GlyphRenderer\"},{\"attributes\":{\"active_drag\":\"auto\",\"active_scroll\":\"auto\",\"active_tap\":\"auto\",\"tools\":[{\"id\":\"861cab3f-ac60-44cb-8543-e1cdd70e94a2\",\"type\":\"PanTool\"},{\"id\":\"4742e8e6-b7e3-4d72-b37c-33d2ff603522\",\"type\":\"WheelZoomTool\"},{\"id\":\"19869341-e801-4ee1-9398-b9bfb1c8cbc3\",\"type\":\"BoxZoomTool\"},{\"id\":\"13255962-97bd-4bd6-9366-b7f06443e2a0\",\"type\":\"SaveTool\"},{\"id\":\"c36e8e33-67a0-4142-8471-f9433c4c2fdb\",\"type\":\"ResetTool\"},{\"id\":\"755a8a1e-07c3-407f-8b74-708ae6a8bb23\",\"type\":\"HelpTool\"}]},\"id\":\"d8c56502-86ef-4615-ba92-ed10b2cfafa7\",\"type\":\"Toolbar\"},{\"attributes\":{\"plot\":{\"id\":\"945d927d-b74e-4fb9-9dbe-48f87e76cd51\",\"subtype\":\"Figure\",\"type\":\"Plot\"}},\"id\":\"66425f88-a49f-4584-8be3-d7be252286ef\",\"type\":\"WheelZoomTool\"},{\"attributes\":{\"bottom_units\":\"screen\",\"fill_alpha\":{\"value\":0.5},\"fill_color\":{\"value\":\"lightgrey\"},\"left_units\":\"screen\",\"level\":\"overlay\",\"line_alpha\":{\"value\":1.0},\"line_color\":{\"value\":\"black\"},\"line_dash\":[4,4],\"line_width\":{\"value\":2},\"plot\":null,\"render_mode\":\"css\",\"right_units\":\"screen\",\"top_units\":\"screen\"},\"id\":\"f6e30ae9-e3e0-44f5-b646-a6577a337f1a\",\"type\":\"BoxAnnotation\"},{\"attributes\":{\"dimension\":1,\"plot\":{\"id\":\"b16c9c6a-1f5b-4492-9eb6-304c6e79522f\",\"subtype\":\"Figure\",\"type\":\"Plot\"},\"ticker\":{\"id\":\"7b1a5f1f-48e0-4a7d-abdb-95f45de0a842\",\"type\":\"BasicTicker\"}},\"id\":\"37d4fc7e-ac22-4e2a-a69c-8dd7dde5c4cd\",\"type\":\"Grid\"},{\"attributes\":{\"line_color\":{\"value\":\"blue\"},\"x\":{\"field\":\"x\"},\"y\":{\"field\":\"y\"}},\"id\":\"5725e060-28c5-4b2e-88e6-8a8048fee358\",\"type\":\"Line\"},{\"attributes\":{\"callback\":null,\"column_names\":[\"x\",\"y\"],\"data\":{\"x\":{\"__ndarray__\":\"exSuR+F6hD8qHSlQNcWTP7U4bubUFaM/NdvkMohssj8ESFBNGcnBP2JlpStUK9E/d9N4kQaT4D8AAAAAAADwPw==\",\"dtype\":\"float64\",\"shape\":[8]},\"y\":{\"__ndarray__\":\"mFTPLeiE8j/9CkHYOsn4P+9CRWpgUAhAuf5G+DbJE0D01/ulsMoWQAHhRdOMqxxA1ilwpbpXIkDvQCA9AvMiQA==\",\"dtype\":\"float64\",\"shape\":[8]}}},\"id\":\"d867b043-4703-4594-b518-754653388129\",\"type\":\"ColumnDataSource\"},{\"attributes\":{\"active_drag\":\"auto\",\"active_scroll\":\"auto\",\"active_tap\":\"auto\",\"tools\":[{\"id\":\"59c7db05-c4aa-4bef-8e6e-ef8b5369dda3\",\"type\":\"PanTool\"},{\"id\":\"43c4e067-1c5c-4976-857b-644edd5a4346\",\"type\":\"WheelZoomTool\"},{\"id\":\"f19e8d4b-c759-4cb9-a74f-f75c6cfa37f2\",\"type\":\"BoxZoomTool\"},{\"id\":\"9bd0cfe1-fe03-4cf2-b1cb-54e58a8e43dc\",\"type\":\"SaveTool\"},{\"id\":\"54926286-71c3-406c-b5b9-1a67bb3582e3\",\"type\":\"ResetTool\"},{\"id\":\"86553853-32cf-40f3-86a0-cf046ea82338\",\"type\":\"HelpTool\"}]},\"id\":\"bf20052e-9325-43d6-9ec1-bd3001afeed3\",\"type\":\"Toolbar\"},{\"attributes\":{\"axis_label_text_font_size\":{\"value\":\"9pt\"},\"formatter\":{\"id\":\"748d3ff4-7bce-4524-b2be-341b12899ed8\",\"type\":\"BasicTickFormatter\"},\"plot\":{\"id\":\"945d927d-b74e-4fb9-9dbe-48f87e76cd51\",\"subtype\":\"Figure\",\"type\":\"Plot\"},\"ticker\":{\"id\":\"4b9b6d87-23a1-47d7-b308-9732d22c4c8c\",\"type\":\"BasicTicker\"}},\"id\":\"23e8f125-f719-4860-99c8-18347be0a11f\",\"type\":\"LinearAxis\"},{\"attributes\":{},\"id\":\"841a0124-5d27-4fc9-8440-ec6884ca1b39\",\"type\":\"ToolEvents\"},{\"attributes\":{\"callback\":null,\"column_names\":[\"x\",\"y\"],\"data\":{\"x\":{\"__ndarray__\":\"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\",\"dtype\":\"float64\",\"shape\":[1000]},\"y\":{\"__ndarray__\":\"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\",\"dtype\":\"float64\",\"shape\":[1000]}}},\"id\":\"a7376656-3499-49e4-b168-bedf61af7353\",\"type\":\"ColumnDataSource\"},{\"attributes\":{\"fill_color\":{\"value\":\"black\"},\"size\":{\"units\":\"screen\",\"value\":12},\"x\":{\"field\":\"x\"},\"y\":{\"field\":\"y\"}},\"id\":\"57ce24af-cf20-4986-a902-924c9604d00e\",\"type\":\"X\"},{\"attributes\":{\"callback\":null,\"end\":12},\"id\":\"71799ca1-fad2-428d-aee4-9ed1558379cb\",\"type\":\"Range1d\"},{\"attributes\":{\"callback\":null,\"column_names\":[\"x\",\"y\"],\"data\":{\"x\":{\"__ndarray__\":\"exSuR+F6hD8qHSlQNcWTP7U4bubUFaM/NdvkMohssj8ESFBNGcnBP2JlpStUK9E/d9N4kQaT4D8AAAAAAADwPw==\",\"dtype\":\"float64\",\"shape\":[8]},\"y\":{\"__ndarray__\":\"mFTPLeiE8j/9CkHYOsn4P+9CRWpgUAhAuf5G+DbJE0D01/ulsMoWQAHhRdOMqxxA1ilwpbpXIkDvQCA9AvMiQA==\",\"dtype\":\"float64\",\"shape\":[8]}}},\"id\":\"ed0e0825-8e7b-4504-9515-37667cb641de\",\"type\":\"ColumnDataSource\"},{\"attributes\":{\"callback\":null,\"end\":12},\"id\":\"36ad050c-210f-4c32-ba1d-6a7ce11924ed\",\"type\":\"Range1d\"},{\"attributes\":{\"axis_label\":\"house size\",\"axis_label_text_font_size\":{\"value\":\"9pt\"},\"formatter\":{\"id\":\"2495cc7e-4727-4f48-99bf-91a84c732475\",\"type\":\"BasicTickFormatter\"},\"plot\":{\"id\":\"945d927d-b74e-4fb9-9dbe-48f87e76cd51\",\"subtype\":\"Figure\",\"type\":\"Plot\"},\"ticker\":{\"id\":\"4b238baa-5acb-4cf5-b9a7-ba3d952026ca\",\"type\":\"BasicTicker\"}},\"id\":\"243c17f3-5790-462c-99c7-12e305d59089\",\"type\":\"LinearAxis\"},{\"attributes\":{\"callback\":null,\"column_names\":[\"x\",\"y\"],\"data\":{\"x\":{\"__ndarray__\":\"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\",\"dtype\":\"float64\",\"shape\":[1000]},\"y\":{\"__ndarray__\":\"8OzHW+GxC8BgT5wd7loLwJTadqEcBAvAio5X52ytCsBCaz7v3lYKwL5wK7lyAArAAJ8eRSiqCcAE9heT/1MJwMp1F6P4/QjAVB4ddROoCMCk7ygJUFIIwLTpOl+u/AfAiAxTdy6nB8AgWHFR0FEHwHzMle2T/AbAmmnAS3mnBsB8L/FrgFIGwCQeKE6p/QXAjDVl8vOoBcC4dahYYFQFwKbe8YDu/wTAXHBBa56rBMDSKpcXcFcEwAwO84VjAwTACBpVtnivA8DKTr2or1sDwE6sK10ICAPAlDKg04K0AsCi4RoMH2ECwG65mwbdDQLAALoiw7y6AcBW469BvmcBwGw1Q4LhFAHASrDchCbCAMDoU3xJjW8AwEsgItAVHQDA5iqcMYCV/7+4ZgBHGPH+vxD0cODzTP6/8NLt/RKp/b9WA3efdQX9v0aFDMUbYvy/uliubgW/+7+0fVycMhz7vzr0Fk6jefq/RLzdg1fX+b/S1bA9TzX5v+xAkHuKk/i/hv17PQny97+qC3SDy1D3v1preE3Rr/a/hhyJmxoP9r9AH6Ztp271v4Bzz8N3zvS/SBkFnosu9L+SEEf84o7zv2hZld597/K/wPPvRFxQ8r+k31YvfrHxvwwdyp3jEvG/+qtJkIx08L/gGKsN8qzvv9h82wJSce6/4IMkADk27b/0LYYFp/vrvxh7ABOcweq/RGuTKBiI6b+E/j5GG0/ov8w0A2ylFue/JA7gmbbe5b+IitXPTqfkv/yp4w1ucOO/fGwKVBQ64r8M0kmiQQThv1C1Q/Hrnd+/qAwlrmI03b8Qqjd758vav5iNe1h6ZNi/OLfwRRv+1b8AJ5dDypjTv9DcblGHNNG/oLHv3qSizb/ANWQ7V97IvxBGO7glHMS/YMXpqiC4vr/AFiImLjy1v6ABP8TniKe/gBgQ946Hgr8AiFmOX3mcP+CuSWVpibA/IOM3pkLwuT+QfzDTcanBP1iB4jKmWMY/yPYxcr4Fyz8o4B6RurDPP6Se1EfNLNI/DIfoNi+A1D9sKcsVg9LWP6iFfOTII9k/0Jv8ogB02z/Ma0tRKsPdP956tPeiCOA/yJyqvikv4T+kG4h9KVXiP2z3TDSieuM/LjD54pOf5D/ixYyJ/sPlP4a4Byji5+Y/Gghqvj4L6D+ktLNMFC7pPyK+5NJiUOo/kiT9UCpy6z/s5/zGapPsP0II5DQktO0/iIWymlbU7j+8X2j4AfTvP3TLAieTifA/hBXFzeEY8T8MDnvw7KfxPwq1JI+0NvI/hQrCqTjF8j94DlNAeVPzP+bA11J24fM/yiFQ4S9v9D8pMbzrpfz0PwLvG3LYifU/VFtvdMcW9j8cdrbycqP2P2A/8ezaL/c/HrcfY/+79z9S3UFV4Ef4PwKyV8N90/g/LDVhrdde+T/OZl4T7un5P+dGT/XAdPo/fNUzU1D/+j+KEgwtnIn7PxL+14KkE/w/EJiXVGmd/D+J4Eqi6ib9P3zX8WsosP0/6XyMsSI5/j/L0Bpz2cH+PyrTnLBMSv8/AoQSanzS/z+o8b1PNC0AQI14bKgIcQBAr9YUP7u0AEANDLcTTPgAQKcYUya7OwFAf/zodgh/AUCTt3gFNMIBQORJAtI9BQJAcLOF3CVIAkA69AIl7IoCQEAMequQzQJAhPvqbxMQA0ACwlVydFIDQL5furKzlANAuNQYMdHWA0DtIHHtzBgEQF5Ew+emWgRADT8PIF+cBED4EFWW9d0EQB+6lEpqHwVAhDrOPL1gBUAlkgFt7qEFQAPBLtv94gVAHMdVh+sjBkBzpHZxt2QGQAdZkZlhpQZA2OSl/+nlBkDjR7SjUCYHQCyCvIWVZgdAs5O+pbimB0B2fLoDuuYHQHQ8sJ+ZJghAsNOfeVdmCEAoQomR86UIQN2HbOdt5QhAzqRJe8YkCUD7mCBN/WMJQGdk8VwSowlADge8qgXiCUDzgIA21yAKQBLSPgCHXwpAb/r2BxWeCkAK+qhNgdwKQODQVNHLGgtA8X76kvRYC0BCBJqS+5YLQM5gM9Dg1AtAlpTGS6QSDECcn1MFRlAMQN6B2vzFjQxAXjtbMiTLDEAYzNWlYAgNQA80Sld7RQ1ARHO4RnSCDUC1iSB0S78NQGJ3gt8A/A1ATjzeiJQ4DkB02DNwBnUOQNhLg5VWsQ5AeJbM+ITtDkBTuA+akSkPQG6xTHl8ZQ9Aw4GDlkWhD0BUKbTx7NwPQBJUb0U5DBBAGH8BMespEEC8lZA7jEcQQP6XHGUcZRBA34WlrZuCEEBfXysVCqAQQHwkrptnvRBAN9UtQbTaEECScaoF8PcQQIr5I+kaFRFAIG2a6zQyEUBWzA0NPk8RQCgXfk02bBFAmk3rrB2JEUCqb1Ur9KURQFh9vMi5whFApXYghW7fEUCOW4FgEvwRQBgs31qlGBJAQOg5dCc1EkAEkJGsmFESQGgj5gP5bRJAa6I3ekiKEkAMDYYPh6YSQEtj0cO0whJAKKUZl9HeEkCi0l6J3foSQL3roJrYFhNAdPDfysIyE0DK4BsanE4TQMC8VIhkahNAUoSKFRyGE0CEN73BwqETQFTW7IxYvRNAwWAZd93YE0DO1kKAUfQTQHg4aai0DxRAwIWM7wYrFECovqxVSEYUQC7jydp4YRRAUPPjfph8FEAT7/pBp5cUQHLWDiSlshRAcqkfJZLNFEAPaC1FbugUQEoSOIQ5AxVAJKg/4vMdFUCbKURfnTgVQLGWRfs1UxVAZu9Dtr1tFUC4Mz+QNIgVQKljN4maohVAOX8soe+8FUBmhh7YM9cVQDN5DS5n8RVAnVf5ookLFkCkIeI2myUWQEzXx+mbPxZAkniqu4tZFkB0BYqsanMWQPZ9Zrw4jRZAFuI/6/WmFkDWMRY5osAWQDJt6aU92hZALJS5McjzFkDGpobcQQ0XQP6kUKaqJhdA1I4XjwJAF0BIZNuWSVkXQFolnL1/chdACtJZA6WLF0BaahRouaQXQEfuy+u8vRdA1F2Ajq/WF0D9uDFQke8XQMX/3zBiCBhALTKLMCIhGEAxUDNP0TkYQNRZ2IxvUhhAFk966fxqGED2LxlleYMYQHT8tP/kmxhAkLRNuT+0GEBLWOORicwYQKTndYnC5BhAnGIFoOr8GEAwyZHVARUZQGYbGyoILRlAN1mhnf1EGUCngiQw4lwZQLeXpOG1dBlAZJghsniMGUCwhJuhKqQZQJlcErDLuxlAISCG3VvTGUBIz/Yp2+oZQA1qZJVJAhpAb/DOH6cZGkBxYjbJ8zAaQBHAmpEvSBpATgn8eFpfGkArPlp/dHYaQKVetaR9jRpAv2oN6XWkGkB2YmJMXbsaQMpFtM4z0hpAvxQDcPnoGkBQz04wrv8aQIB1lw9SFhtATwfdDeUsG0C8hB8rZ0MbQMjtXmfYWRtAcUKbwjhwG0C5gtQ8iIYbQKCuCtbGnBtAJMY9jvSyG0BGyW1lEckbQAi4mlsd3xtAZ5LEcBj1G0BkWOukAgscQAAKD/jbIBxAO6cvaqQ2HEAUME37W0wcQIqkZ6sCYhxAoAR/eph3HEBTUJNoHY0cQKWHpHWRohxAlaqyofS3HEAkub3sRs0cQFGzxVaI4hxAG5nK37j3HECFasyH2AwdQI0ny07nIR1AM9DGNOU2HUB2ZL850ksdQFnktF2uYB1A20+noHl1HUD5ppYCNIodQLbpgoPdnh1AEhhsI3azHUAMMlLi/ccdQKY3NcB03B1A3CgVvdrwHUCxBfLYLwUeQCTOyxN0GR5ANoKibactHkDmIXbmyUEeQDStRn7bVR5AHyQUNdxpHkCrht4KzH0eQNPUpf+qkR5Amw5qE3mlHkACNCtGNrkeQARF6ZfizB5Ap0GkCH7gHkDoKVyYCPQeQMj9EEeCBx9ARL3CFOsaH0BgaHEBQy4fQBv/HA2KQR9AcoHFN8BUH0Bp72qB5WcfQP1IDer5eh9AL46scf2NH0ACv0gY8KAfQHLb4d3Rsx9Af+N3wqLGH0Ar1wrGYtkfQHe2mugR7B9AX4EnKrD+H0Dzm1jFngggQAbtGwXdESBA57Nd1BIbIECZ8B0zQCQgQBmjXCFlLSBAaMsZn4E2IECGaVWslT8gQHR9D0mhSCBAMgdIdaRRIEC9Bv8wn1ogQBh8NHyRYyBAQ2foVntsIEA8yBrBXHUgQASfy7o1fiBAnev6QwaHIEADrqhczo8gQDnm1ASOmCBAP5R/PEWhIEASuKgD9KkgQLZRUFqasiBAKWF2QDi7IEBq5hq2zcMgQHzhPbtazCBAXFLfT9/UIEAKOf9zW90gQImVnSfP5SBA2Ge6ajruIED0r1U9nfYgQOBtb5/3/iBAmqEHkUkHIUAlSx4Skw8hQH5qsyLUFyFApv/GwgwgIUCeClnyPCghQGSLabFkMCFA+4H4/4M4IUBg7gXemkAhQJTQkUupSCFAlyicSK9QIUBq9iTVrFghQAw6LPGhYCFAfPOxnI5oIUC8IrbXcnAhQMrHOKJOeCFAquI5/CGAIUBYc7nl7IchQNR5t16vjyFAIPYzZ2mXIUA66C7/Gp8hQCVQqCbEpiFA3i2g3WSuIUBmgRYk/bUhQL5KC/qMvSFA5Il+XxTFIUDaPnBUk8whQJ9p4NgJ1CFAMwrP7HfbIUCWIDyQ3eIhQMmsJ8M66iFAyq6RhY/xIUCbJnrX2/ghQDoU4bgfACJAqXfGKVsHIkDoUCoqjg4iQPWfDLq4FSJA0mRt2docIkB9n0yI9CMiQPhPqsYFKyJAQnaGlA4yIkBbEuHxDjkiQEMkut4GQCJA+6sRW/ZGIkCBqedm3U0iQNYcPAK8VCJA/AUPLZJbIkDwZGDnX2IiQLM5MDElaSJARoR+CuJvIkCnREtzlnYiQNh6lmtCfSJA1yZg8+WDIkCmSKgKgYoiQETgbrETkSJAsu2z552XIkDucHetH54iQPhpuQKZpCJA1Nh55wmrIkB+vbhbcrEiQPYXdl/StyJAPuix8im+IkBWLmwVecQiQDzqpMe/yiJA8htcCf7QIkB2w5HaM9ciQMrgRTth3SJA7nN4K4bjIkDgfCmroukiQKD7WLq27yJAMfAGWcL1IkCSWjOHxfsiQMA63kTAASNAvpAHkrIHI0CMXK9unA0jQCee1dp9EyNAklV61lYZI0DOgp1hJx8jQNglP3zvJCNAsD5fJq8qI0BYzf1fZjAjQM/RGikVNiNAFUy2gbs7I0ArPNBpWUEjQBCiaOHuRiNAwn1/6HtMI0BGzxR/AFIjQJiWKKV8VyNAudO6WvBcI0CqhsufW2IjQGmvWnS+ZyNA+E1o2BhtI0BWYvTLanIjQIPs/k60dyNAfuyHYfV8I0BKYo8DLoIjQORNFTVehyNATq8Z9oWMI0CHhpxGpZEjQI/TnSa8liNAZpYdlsqbI0AMzxuV0KAjQIF9mCPOpSNAxqGTQcOqI0DaOw3vr68jQLxLBSyUtCNAbtF7+G+5I0DvzHBUQ74jQEA+5D8OwyNAXyXWutDHI0BOgkbFiswjQAxVNV880SNAmJ2iiOXVI0D0W45BhtojQCCQ+Ike3yNAGjrhYa7jI0DjWUjJNegjQHzvLcC07CNA5PqRRivxI0AbfHRcmfUjQCBz1QH/+SNA9d+0Nlz+I0CawhL7sAIkQA4b7079BiRAUelJMkELJEBjLSOlfA8kQEPneqevEyRA8xZROdoXJEBzvKVa/BskQMHXeAsWICRA32jKSyckJEDLb5obMCgkQIfs6HowLCRAEt+1aSgwJEBtRwHoFzQkQJYly/X+NyRAj3kTk907JEBWQ9q/sz8kQO2CH3yBQyRAUzjjx0ZHJECIYyWjA0skQI0E5g24TiRAYBslCGRSJEACqOKRB1YkQHSqHquiWSRAtSLZUzVdJEDFEBKMv2AkQKR0yVNBZCRAUk7/qrpnJEDQnbORK2skQB1j5geUbiRAOJ6XDfRxJEAjT8eiS3UkQN11dceaeCRAZxKie+F7JEC/JE2/H38kQOesdpJVgiRA3qoe9YKFJECjHkXnp4gkQDgI6mjEiyRAnGcNetiOJEDQPK8a5JEkQNKHz0rnlCRApEhuCuKXJEBEf4tZ1JokQLQrJzi+nSRA801Bpp+gJEAC5tmjeKMkQN/z8DBJpiRAjHeGTRGpJEAHcZr50KskQFLgLDWIriRAbMU9ADexJEBVIM1a3bMkQA7x2kR7tiRAlTdnvhC5JEDs83HHnbskQBEm+18iviRABs4CiJ7AJEDK64g/EsMkQF5/jYZ9xSRAwIgQXeDHJEDxBxLDOsokQPL8kbiMzCRAwmeQPdbOJEBhSA1SF9EkQM+eCPZP0yRADGuCKYDVJEAZrXrsp9ckQPRk8T7H2SRAn5LmIN7bJEAZNlqS7N0kQGFPTJPy3yRAet68I/DhJEBh46tD5eMkQBheGfPR5SRAnU4FMrbnJEDytG8AkukkQBaRWF5l6yRACeO/SzDtJEDMqqXI8u4kQF3oCdWs8CRAvZvscF7yJEDtxE2cB/QkQOxjLVeo9SRAuniLoUD3JEBXA2h70PgkQMQDw+RX+iRA/nmc3db7JEAJZvRlTf0kQOPHyn27/iRAjJ8fJSEAJUAE7fJbfgElQEywRCLTAiVAYukUeB8EJUBHmGNdYwUlQPy8MNKeBiVAgFd81tEHJUDTZ0Zq/AglQPTtjo0eCiVA5ulVQDgLJUCmW5uCSQwlQDZDX1RSDSVAlaChtVIOJUDDc2KmSg8lQL+8oSY6ECVAjHtfNiERJUAnsJvV/xElQJJaVgTWEiVAzHqPwqMTJUDUEEcQaRQlQKwcfe0lFSVAU54xWtoVJUDKlWRWhhYlQA8DFuIpFyVAJOZF/cQXJUAHP/SnVxglQLoNIeLhGCVAPFLMq2MZJUCNDPYE3RklQK48nu1NGiVAneLEZbYaJUBb/mltFhslQOmPjQRuGyVARpcvK70bJUByFFDhAxwlQG4H7yZCHCVAOHAM/HccJUDRTqhgpRwlQDqjwlTKHCVAcm1b2OYcJUB5rXLr+hwlQE9jCI4GHSVA9I4cwAkdJUBpMK+BBB0lQKxHwNL2HCVAv9RPs+AcJUCh110jwhwlQFJQ6iKbHCVA0j71sWscJUAio37QMxwlQEB9hn7zGyVALs0MvKobJUDqkhGJWRslQHbOlOX/GiVA0n+W0Z0aJUD8phZNMxolQPZDFVjAGSVAvlaS8kQZJUBV340cwRglQLzdB9Y0GCVA81EAH6AXJUD4O3f3AhclQMybbF9dFiVAb3HgVq8VJUDivNLd+BQlQCR+Q/Q5FCVANbUymnITJUAVYqDPohIlQMWEjJTKESVAQh336OkQJUCQK+DMABAlQK2vR0APDyVAmaktQxUOJUBUGZLVEg0lQN3+dPcHDCVAN1rWqPQKJUBfK7bp2AklQFdyFLq0CCVAHi/xGYgHJUC0YUwJUwYlQBkKJogVBSVATSh+ls8DJUBQvFQ0gQIlQCPGqWEqASVAxUV9Hsv/JEA1O89qY/4kQHWmn0bz/CRAhYfusXr7JEBj3rus+fkkQBGrBzdw+CRAjO3RUN72JEDYpRr6Q/UkQPPT4TKh8yRA3ncn+/XxJECXketSQvAkQB8hLjqG7iRAdibvsMHsJECdoS639OokQJOS7Ewf6SRAWPkockHnJEDs1eMmW+UkQE8oHWts4yRAgfDUPnXhJECDLguidd8kQFTiv5Rt3SRA9AvzFl3bJEBjq6QoRNkkQKHA1Mki1yRArkuD+vjUJECLTLC6xtIkQDbDWwqM0CRAsa+F6UjOJED6ES5Y/cskQBTqVFapySRA/Df640zHJEC0+x0B6MQkQDo1wK16wiRAkOTg6QTAJEC0CYC1hr0kQKmknRAAuyRAbLU5+3C4JED+O1R12bUkQGA47X45syRAkKoEGJGwJECPkppA4K0kQF/wrvgmqyRA/cNBQGWoJEBqDVMXm6UkQKfM4n3IoiRAsgHxc+2fJECMrH35CZ0kQDbNiA4emiRAsGMSsymXJED4bxrnLJQkQA7yoKonkSRA9eml/RmOJECqVyngA4skQC87K1LlhyRAhJSrU76EJECnY6rkjoEkQJioJwVXfiRAWmMjtRZ7JEDqk530zXckQEo6lsN8dCRAeVYNIiNxJEB26AIQwW0kQETwdo1WaiRA4G1pmuNmJEBLYdo2aGMkQIbKyWLkXyRAkKk3HlhcJEBo/iNpw1gkQBDJjkMmVSRAiAl4rYBRJEDOv9+m0k0kQOTrxS8cSiRAx40qSF1GJEB8pQ3wlUIkQP8ybyfGPiRAUTZP7u06JEByr61EDTckQGOeiiokMyRAIQPmnzIvJECx3b+kOCskQA8uGDk2JyRAPPTuXCsjJEA4MEQQGB8kQALiF1P8GiRAnQlqJdgWJEAHpzqHqxIkQEC6iXh2DiRASENX+TgKJEAfQqMJ8wUkQMS2bamkASRAOqG22E39I0B+AX6X7vgjQJPXw+WG9CNAdSOIwxbwI0Am5cownusjQKgcjC0d5yNA+MnLuZPiI0AY7YnVAd4jQAaGxoBn2SNAxJSBu8TUI0BQGbuFGdAjQKwTc99lyyNA2IOpyKnGI0DSaV5B5cEjQJzFkUkYvSNANJdD4UK4I0Cc3nMIZbMjQNObIr9+riNA2c5PBZCpI0Cud/vamKQjQFKWJUCZnyNAxirONJGaI0AJNfW4gJUjQBu1msxnkCNA/Kq+b0aLI0CsFmGiHIYjQCr4gWTqgCNAek8htq97I0CYHD+XbHYjQIRf2wchcSNAQBj2B81rI0DKRo+XcGYjQCTrprYLYSNATgU9ZZ5bI0BIlVGjKFYjQA+b5HCqUCNAphb2zSNLI0ALCIa6lEUjQEBvlDb9PyNAREwhQl06I0AYnyzdtDQjQLtntgcELyNALaa+wUopI0BtWkULiSMjQH2ESuS+HSNAXCTOTOwXI0AMOtBEERIjQInFUMwtDCNA1MZP40EGI0DyPc2JTQAjQNwqyb9Q+iJAlI1DhUv0IkAgZjzaPe4iQHi0s74n6CJAoHipMgniIkCWsh024tsiQFpiEMmy1SJA8IeB63rPIkBUI3GdOskiQIk0397xwiJAirvLr6C8IkBduDYQR7YiQP0qIADlryJAbBOIf3qpIkCscW6OB6MiQLpF0yyMnCJAmI+2WgiWIkBETxgYfI8iQL+E+GTniCJACjBXQUqCIkAkUTStpHsiQA/oj6j2dCJAxvRpM0BuIkBMd8JNgWciQKRvmfe5YCJAyd3uMOpZIkC/wcL5EVMiQIIbFVIxTCJAFevlOUhFIkB4MDWxVj4iQKnrArhcNyJAqhxPTlowIkB6wxl0TykiQBrgYik8IiJAiHIqbiAbIkDEenBC/BMiQNL4NKbPDCJArOx3mZoFIkBYVjkcXf4hQNA1eS4X9yFAGos30MjvIUAzVnQBcughQBmXL8IS4SFA0E1pEqvZIUBVeiHyOtIhQKkcWGHCyiFAzjQNYEHDIUDBwkDut7shQITG8gsmtCFAFUAjuYusIUB0L9L16KQhQKWU/8E9nSFAom+rHYqVIUBzwNUIzo0hQA+HfoMJhiFAfMOljTx+IUC3dUsnZ3YhQMCdb1CJbiFAmzsSCaNmIUBETzNRtF4hQL7Y0ii9ViFABNjwj71OIUAZTY2GtUYhQAA4qAylPiFAs5hBIow2IUA4b1nHai4hQIu77/tAJiFArH0EwA4eIUCetZcT1BUhQF5jqfaQDSFA7oY5aUUFIUBMIEhr8fwgQHov1fyU9CBAeLTgHTDsIEBEr2rOwuMgQOAfcw5N2yBASQb63c7SIECCYv88SMogQI00gyu5wSBAZHyFqSG5IEAMOga3gbAgQIFtBVTZpyBAyBaDgCifIEDbNX88b5YgQL7K+YetjSBAc9XyYuOEIED0VWrNEHwgQEZMYMc1cyBAZbjUUFJqIEBUmsdpZmEgQBPyOBJyWCBAob8oSnVPIED/ApcRcEYgQCq8g2hiPSBAJOvuTkw0IEDwj9jELSsgQIiqQMoGIiBA9DonX9cYIEAqQYyDnw8gQDC9bzdfBiBADl6j9Sz6H0BWLWSbiucfQEHoIWDX1B9AyY7cQxPCH0DxIJRGPq8fQLKeSGhYnB9AEgj6qGGJH0AVXagIWnYfQLGdU4dBYx9A8Mn7JBhQH0DM4aDh3TwfQETlQr2SKR9AXtThtzYWH0ARr33RyQIfQGh1FgpM7x5AWSesYb3bHkDrxD7YHcgeQBxOzm1ttB5A6MJaIqygHkBWI+T12YweQF5vauj2eB5ABKft+QJlHkBQym0q/lAeQDPZ6nnoPB5AudNk6MEoHkDYudt1ihQeQJuLTyJCAB5A90jA7ejrHUDx8S3YftcdQJKGmOEDwx1AyQYACniuHUCjcmRR25kdQBbKxbcthR1AKA0kPW9wHUDdO3/hn1sdQC9W16S/Rh1AIFwsh84xHUCrTX6IzBwdQNUqzai5Bx1AofMY6JXyHEAHqGFGYd0cQBNIp8MbyBxAttPpX8WyHED3SikbXp0cQNutZfXlhxxAWPye7lxyHEB5NtUGw1wcQDNcCD4YRxxAk204lFwxHECKamUJkBscQB9Tj52yBRxAVye2UMTvG0Ao59kixdkbQJ2S+hO1wxtArykYJJStG0BbrDJTYpcbQKsaSqEfgRtAlHReDsxqG0A=\",\"dtype\":\"float64\",\"shape\":[1000]}}},\"id\":\"ee1b6bd9-1ec5-44d4-97ae-d0c1c1969177\",\"type\":\"ColumnDataSource\"},{\"attributes\":{\"line_alpha\":{\"value\":0.1},\"line_color\":{\"value\":\"#1f77b4\"},\"x\":{\"field\":\"x\"},\"y\":{\"field\":\"y\"}},\"id\":\"40255c60-86ba-4809-b1f6-bd92263c2bcc\",\"type\":\"Line\"},{\"attributes\":{\"plot\":null,\"text\":\"d = 2\",\"text_font_size\":{\"value\":\"11pt\"}},\"id\":\"442456cc-4eb7-4863-b20c-3b88c979cdce\",\"type\":\"Title\"},{\"attributes\":{\"children\":[{\"id\":\"b16c9c6a-1f5b-4492-9eb6-304c6e79522f\",\"subtype\":\"Figure\",\"type\":\"Plot\"},{\"id\":\"945d927d-b74e-4fb9-9dbe-48f87e76cd51\",\"subtype\":\"Figure\",\"type\":\"Plot\"},{\"id\":\"27f46c71-6f00-411a-9047-9159bafbcfcf\",\"subtype\":\"Figure\",\"type\":\"Plot\"}]},\"id\":\"b52f7ec2-7ec8-4233-afe3-0417995488be\",\"type\":\"Row\"},{\"attributes\":{\"line_color\":{\"value\":\"blue\"},\"x\":{\"field\":\"x\"},\"y\":{\"field\":\"y\"}},\"id\":\"bd07de4e-f19e-4e36-a671-901a2afbd19b\",\"type\":\"Line\"},{\"attributes\":{\"plot\":{\"id\":\"27f46c71-6f00-411a-9047-9159bafbcfcf\",\"subtype\":\"Figure\",\"type\":\"Plot\"}},\"id\":\"43c4e067-1c5c-4976-857b-644edd5a4346\",\"type\":\"WheelZoomTool\"},{\"attributes\":{\"callback\":null,\"column_names\":[\"x\",\"y\"],\"data\":{\"x\":{\"__ndarray__\":\"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\",\"dtype\":\"float64\",\"shape\":[1000]},\"y\":{\"__ndarray__\":\"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\",\"dtype\":\"float64\",\"shape\":[1000]}}},\"id\":\"6445234d-ae84-402a-845b-999cdbae2217\",\"type\":\"ColumnDataSource\"},{\"attributes\":{\"fill_alpha\":{\"value\":0.1},\"fill_color\":{\"value\":\"#1f77b4\"},\"line_alpha\":{\"value\":0.1},\"line_color\":{\"value\":\"#1f77b4\"},\"size\":{\"units\":\"screen\",\"value\":12},\"x\":{\"field\":\"x\"},\"y\":{\"field\":\"y\"}},\"id\":\"997e895d-3ff3-4dc2-a904-2b152452d04a\",\"type\":\"X\"},{\"attributes\":{\"children\":[{\"id\":\"d19c750a-781b-45dc-bfe9-fcb631e053a7\",\"type\":\"ToolbarBox\"},{\"id\":\"fade746b-be89-4bc3-a35c-8d0dfff1624e\",\"type\":\"Column\"}]},\"id\":\"48725ec0-2e8b-43fa-a66a-839b1b077d87\",\"type\":\"Column\"},{\"attributes\":{},\"id\":\"9521e046-0b13-44e9-9c46-c5fe2ff5851c\",\"type\":\"BasicTicker\"},{\"attributes\":{\"below\":[{\"id\":\"243c17f3-5790-462c-99c7-12e305d59089\",\"type\":\"LinearAxis\"}],\"left\":[{\"id\":\"23e8f125-f719-4860-99c8-18347be0a11f\",\"type\":\"LinearAxis\"}],\"plot_height\":240,\"plot_width\":240,\"renderers\":[{\"id\":\"243c17f3-5790-462c-99c7-12e305d59089\",\"type\":\"LinearAxis\"},{\"id\":\"4c55e900-dfc5-4eb8-a4ec-808f3cfb55d5\",\"type\":\"Grid\"},{\"id\":\"23e8f125-f719-4860-99c8-18347be0a11f\",\"type\":\"LinearAxis\"},{\"id\":\"ec0ca766-00e8-4193-8092-401739530922\",\"type\":\"Grid\"},{\"id\":\"f6e30ae9-e3e0-44f5-b646-a6577a337f1a\",\"type\":\"BoxAnnotation\"},{\"id\":\"54871a9b-a1f7-411f-bf15-c649c85b5909\",\"type\":\"GlyphRenderer\"},{\"id\":\"9cf33169-dfd0-44f6-8768-7e23396f85e1\",\"type\":\"GlyphRenderer\"}],\"title\":{\"id\":\"442456cc-4eb7-4863-b20c-3b88c979cdce\",\"type\":\"Title\"},\"tool_events\":{\"id\":\"db96a49b-3f42-4424-9f2c-1ec769862ed6\",\"type\":\"ToolEvents\"},\"toolbar\":{\"id\":\"3e7d8295-9528-4cf9-8923-a4fa081cf168\",\"type\":\"Toolbar\"},\"toolbar_location\":null,\"x_range\":{\"id\":\"0a62101f-9eb7-4f4c-8b54-ce55417e7cf2\",\"type\":\"Range1d\"},\"y_range\":{\"id\":\"6210973d-39c1-41fe-8c69-328bf162da87\",\"type\":\"Range1d\"}},\"id\":\"945d927d-b74e-4fb9-9dbe-48f87e76cd51\",\"subtype\":\"Figure\",\"type\":\"Plot\"},{\"attributes\":{\"overlay\":{\"id\":\"73859534-28c0-43e1-ae6c-462c782c2ba9\",\"type\":\"BoxAnnotation\"},\"plot\":{\"id\":\"27f46c71-6f00-411a-9047-9159bafbcfcf\",\"subtype\":\"Figure\",\"type\":\"Plot\"}},\"id\":\"f19e8d4b-c759-4cb9-a74f-f75c6cfa37f2\",\"type\":\"BoxZoomTool\"},{\"attributes\":{\"fill_alpha\":{\"value\":0.1},\"fill_color\":{\"value\":\"#1f77b4\"},\"line_alpha\":{\"value\":0.1},\"line_color\":{\"value\":\"#1f77b4\"},\"size\":{\"units\":\"screen\",\"value\":12},\"x\":{\"field\":\"x\"},\"y\":{\"field\":\"y\"}},\"id\":\"9d7eaec6-5a14-4251-9daa-bbca462d82ba\",\"type\":\"X\"},{\"attributes\":{\"axis_label\":\"house size\",\"axis_label_text_font_size\":{\"value\":\"9pt\"},\"formatter\":{\"id\":\"f542e215-6912-4935-aa2f-5e9bde7534be\",\"type\":\"BasicTickFormatter\"},\"plot\":{\"id\":\"27f46c71-6f00-411a-9047-9159bafbcfcf\",\"subtype\":\"Figure\",\"type\":\"Plot\"},\"ticker\":{\"id\":\"9521e046-0b13-44e9-9c46-c5fe2ff5851c\",\"type\":\"BasicTicker\"}},\"id\":\"673b0d57-c815-4599-8c6c-e60cfe5d1b0e\",\"type\":\"LinearAxis\"},{\"attributes\":{},\"id\":\"2495cc7e-4727-4f48-99bf-91a84c732475\",\"type\":\"BasicTickFormatter\"},{\"attributes\":{\"plot\":{\"id\":\"945d927d-b74e-4fb9-9dbe-48f87e76cd51\",\"subtype\":\"Figure\",\"type\":\"Plot\"},\"ticker\":{\"id\":\"4b238baa-5acb-4cf5-b9a7-ba3d952026ca\",\"type\":\"BasicTicker\"}},\"id\":\"4c55e900-dfc5-4eb8-a4ec-808f3cfb55d5\",\"type\":\"Grid\"},{\"attributes\":{\"overlay\":{\"id\":\"e195995a-50b4-4922-b9d7-c04c24fa135f\",\"type\":\"BoxAnnotation\"},\"plot\":{\"id\":\"b16c9c6a-1f5b-4492-9eb6-304c6e79522f\",\"subtype\":\"Figure\",\"type\":\"Plot\"}},\"id\":\"19869341-e801-4ee1-9398-b9bfb1c8cbc3\",\"type\":\"BoxZoomTool\"},{\"attributes\":{\"active_drag\":\"auto\",\"active_scroll\":\"auto\",\"active_tap\":\"auto\",\"tools\":[{\"id\":\"13587c3b-fbd7-4879-b3cd-af64bc9b61d5\",\"type\":\"PanTool\"},{\"id\":\"66425f88-a49f-4584-8be3-d7be252286ef\",\"type\":\"WheelZoomTool\"},{\"id\":\"b5a8dc22-65e4-4e86-9255-8d80cece67ea\",\"type\":\"BoxZoomTool\"},{\"id\":\"8c3c13ae-837e-48b6-b327-3a359a8b86f2\",\"type\":\"SaveTool\"},{\"id\":\"d7b666ff-8cf0-466c-a44f-3261de3458a0\",\"type\":\"ResetTool\"},{\"id\":\"42f75eae-f323-44fa-9645-6b69d5db9c46\",\"type\":\"HelpTool\"}]},\"id\":\"3e7d8295-9528-4cf9-8923-a4fa081cf168\",\"type\":\"Toolbar\"},{\"attributes\":{\"plot\":{\"id\":\"b16c9c6a-1f5b-4492-9eb6-304c6e79522f\",\"subtype\":\"Figure\",\"type\":\"Plot\"}},\"id\":\"861cab3f-ac60-44cb-8543-e1cdd70e94a2\",\"type\":\"PanTool\"},{\"attributes\":{\"plot\":null,\"text\":\"d = 6 (over-fit; high variance)\",\"text_font_size\":{\"value\":\"11pt\"}},\"id\":\"9165e7b6-fe2e-4340-aa24-2582f17df819\",\"type\":\"Title\"},{\"attributes\":{\"line_alpha\":{\"value\":0.1},\"line_color\":{\"value\":\"#1f77b4\"},\"x\":{\"field\":\"x\"},\"y\":{\"field\":\"y\"}},\"id\":\"09adb094-7521-46cd-9c34-5e1ccd8f4ef6\",\"type\":\"Line\"},{\"attributes\":{},\"id\":\"f542e215-6912-4935-aa2f-5e9bde7534be\",\"type\":\"BasicTickFormatter\"},{\"attributes\":{\"plot\":{\"id\":\"945d927d-b74e-4fb9-9dbe-48f87e76cd51\",\"subtype\":\"Figure\",\"type\":\"Plot\"}},\"id\":\"8c3c13ae-837e-48b6-b327-3a359a8b86f2\",\"type\":\"SaveTool\"},{\"attributes\":{\"dimension\":1,\"plot\":{\"id\":\"27f46c71-6f00-411a-9047-9159bafbcfcf\",\"subtype\":\"Figure\",\"type\":\"Plot\"},\"ticker\":{\"id\":\"70138e2c-9c78-4f75-8417-2ce53c284b96\",\"type\":\"BasicTicker\"}},\"id\":\"a961cab1-3941-422e-9ce3-58f3238e28f1\",\"type\":\"Grid\"},{\"attributes\":{\"data_source\":{\"id\":\"d867b043-4703-4594-b518-754653388129\",\"type\":\"ColumnDataSource\"},\"glyph\":{\"id\":\"8a168ae5-50b3-4ab1-b9ae-2d7f7d885873\",\"type\":\"X\"},\"hover_glyph\":null,\"nonselection_glyph\":{\"id\":\"997e895d-3ff3-4dc2-a904-2b152452d04a\",\"type\":\"X\"},\"selection_glyph\":null},\"id\":\"4f85c856-51f2-4984-90ca-65cf18b30bd2\",\"type\":\"GlyphRenderer\"},{\"attributes\":{\"below\":[{\"id\":\"673b0d57-c815-4599-8c6c-e60cfe5d1b0e\",\"type\":\"LinearAxis\"}],\"left\":[{\"id\":\"03f6c0df-f6c0-4be5-a6c3-59d5042b1cba\",\"type\":\"LinearAxis\"}],\"plot_height\":240,\"plot_width\":240,\"renderers\":[{\"id\":\"673b0d57-c815-4599-8c6c-e60cfe5d1b0e\",\"type\":\"LinearAxis\"},{\"id\":\"080fc862-c44a-4ab5-9f38-0b8685d57093\",\"type\":\"Grid\"},{\"id\":\"03f6c0df-f6c0-4be5-a6c3-59d5042b1cba\",\"type\":\"LinearAxis\"},{\"id\":\"a961cab1-3941-422e-9ce3-58f3238e28f1\",\"type\":\"Grid\"},{\"id\":\"73859534-28c0-43e1-ae6c-462c782c2ba9\",\"type\":\"BoxAnnotation\"},{\"id\":\"29e4d9c1-314c-409e-9e8c-9512d2ab27bc\",\"type\":\"GlyphRenderer\"},{\"id\":\"f535c7d9-95f2-4254-a051-25fd9e688c58\",\"type\":\"GlyphRenderer\"}],\"title\":{\"id\":\"9165e7b6-fe2e-4340-aa24-2582f17df819\",\"type\":\"Title\"},\"tool_events\":{\"id\":\"841a0124-5d27-4fc9-8440-ec6884ca1b39\",\"type\":\"ToolEvents\"},\"toolbar\":{\"id\":\"bf20052e-9325-43d6-9ec1-bd3001afeed3\",\"type\":\"Toolbar\"},\"toolbar_location\":null,\"x_range\":{\"id\":\"fe2ebf24-db92-45a5-8ebb-cdf9788157c1\",\"type\":\"Range1d\"},\"y_range\":{\"id\":\"71799ca1-fad2-428d-aee4-9ed1558379cb\",\"type\":\"Range1d\"}},\"id\":\"27f46c71-6f00-411a-9047-9159bafbcfcf\",\"subtype\":\"Figure\",\"type\":\"Plot\"},{\"attributes\":{\"sizing_mode\":\"scale_width\",\"toolbar_location\":\"above\",\"tools\":[{\"id\":\"861cab3f-ac60-44cb-8543-e1cdd70e94a2\",\"type\":\"PanTool\"},{\"id\":\"4742e8e6-b7e3-4d72-b37c-33d2ff603522\",\"type\":\"WheelZoomTool\"},{\"id\":\"19869341-e801-4ee1-9398-b9bfb1c8cbc3\",\"type\":\"BoxZoomTool\"},{\"id\":\"13255962-97bd-4bd6-9366-b7f06443e2a0\",\"type\":\"SaveTool\"},{\"id\":\"c36e8e33-67a0-4142-8471-f9433c4c2fdb\",\"type\":\"ResetTool\"},{\"id\":\"755a8a1e-07c3-407f-8b74-708ae6a8bb23\",\"type\":\"HelpTool\"},{\"id\":\"13587c3b-fbd7-4879-b3cd-af64bc9b61d5\",\"type\":\"PanTool\"},{\"id\":\"66425f88-a49f-4584-8be3-d7be252286ef\",\"type\":\"WheelZoomTool\"},{\"id\":\"b5a8dc22-65e4-4e86-9255-8d80cece67ea\",\"type\":\"BoxZoomTool\"},{\"id\":\"8c3c13ae-837e-48b6-b327-3a359a8b86f2\",\"type\":\"SaveTool\"},{\"id\":\"d7b666ff-8cf0-466c-a44f-3261de3458a0\",\"type\":\"ResetTool\"},{\"id\":\"42f75eae-f323-44fa-9645-6b69d5db9c46\",\"type\":\"HelpTool\"},{\"id\":\"59c7db05-c4aa-4bef-8e6e-ef8b5369dda3\",\"type\":\"PanTool\"},{\"id\":\"43c4e067-1c5c-4976-857b-644edd5a4346\",\"type\":\"WheelZoomTool\"},{\"id\":\"f19e8d4b-c759-4cb9-a74f-f75c6cfa37f2\",\"type\":\"BoxZoomTool\"},{\"id\":\"9bd0cfe1-fe03-4cf2-b1cb-54e58a8e43dc\",\"type\":\"SaveTool\"},{\"id\":\"54926286-71c3-406c-b5b9-1a67bb3582e3\",\"type\":\"ResetTool\"},{\"id\":\"86553853-32cf-40f3-86a0-cf046ea82338\",\"type\":\"HelpTool\"}]},\"id\":\"d19c750a-781b-45dc-bfe9-fcb631e053a7\",\"type\":\"ToolbarBox\"},{\"attributes\":{\"plot\":{\"id\":\"b16c9c6a-1f5b-4492-9eb6-304c6e79522f\",\"subtype\":\"Figure\",\"type\":\"Plot\"},\"ticker\":{\"id\":\"7a95f509-b550-4b93-80f6-07db59801c43\",\"type\":\"BasicTicker\"}},\"id\":\"8fc30b8d-1874-4235-8f09-cee8d2d663fd\",\"type\":\"Grid\"},{\"attributes\":{},\"id\":\"db88d917-ec0d-4461-ac2b-1172f15934cd\",\"type\":\"BasicTickFormatter\"},{\"attributes\":{\"plot\":{\"id\":\"b16c9c6a-1f5b-4492-9eb6-304c6e79522f\",\"subtype\":\"Figure\",\"type\":\"Plot\"}},\"id\":\"4742e8e6-b7e3-4d72-b37c-33d2ff603522\",\"type\":\"WheelZoomTool\"},{\"attributes\":{\"callback\":null,\"end\":1.2,\"start\":-0.2},\"id\":\"0a62101f-9eb7-4f4c-8b54-ce55417e7cf2\",\"type\":\"Range1d\"},{\"attributes\":{\"plot\":{\"id\":\"27f46c71-6f00-411a-9047-9159bafbcfcf\",\"subtype\":\"Figure\",\"type\":\"Plot\"}},\"id\":\"9bd0cfe1-fe03-4cf2-b1cb-54e58a8e43dc\",\"type\":\"SaveTool\"},{\"attributes\":{},\"id\":\"4b9b6d87-23a1-47d7-b308-9732d22c4c8c\",\"type\":\"BasicTicker\"},{\"attributes\":{\"bottom_units\":\"screen\",\"fill_alpha\":{\"value\":0.5},\"fill_color\":{\"value\":\"lightgrey\"},\"left_units\":\"screen\",\"level\":\"overlay\",\"line_alpha\":{\"value\":1.0},\"line_color\":{\"value\":\"black\"},\"line_dash\":[4,4],\"line_width\":{\"value\":2},\"plot\":null,\"render_mode\":\"css\",\"right_units\":\"screen\",\"top_units\":\"screen\"},\"id\":\"73859534-28c0-43e1-ae6c-462c782c2ba9\",\"type\":\"BoxAnnotation\"},{\"attributes\":{},\"id\":\"748d3ff4-7bce-4524-b2be-341b12899ed8\",\"type\":\"BasicTickFormatter\"}],\"root_ids\":[\"48725ec0-2e8b-43fa-a66a-839b1b077d87\"]},\"title\":\"Bokeh Application\",\"version\":\"0.12.4\"}};\n",
       "            var render_items = [{\"docid\":\"f28ab2ec-9a3e-44a5-9a97-697632205f53\",\"elementid\":\"e54d5cb5-bb81-4114-a6f3-4f1f9a1b33ca\",\"modelid\":\"48725ec0-2e8b-43fa-a66a-839b1b077d87\"}];\n",
       "            \n",
       "            Bokeh.embed.embed_items(docs_json, render_items);\n",
       "          };\n",
       "          if (document.readyState != \"loading\") fn();\n",
       "          else document.addEventListener(\"DOMContentLoaded\", fn);\n",
       "        })();\n",
       "      },\n",
       "      function(Bokeh) {\n",
       "      }\n",
       "    ];\n",
       "  \n",
       "    function run_inline_js() {\n",
       "      \n",
       "      if ((window.Bokeh !== undefined) || (force === true)) {\n",
       "        for (var i = 0; i < inline_js.length; i++) {\n",
       "          inline_js[i](window.Bokeh);\n",
       "        }if (force === true) {\n",
       "          display_loaded();\n",
       "        }} else if (Date.now() < window._bokeh_timeout) {\n",
       "        setTimeout(run_inline_js, 100);\n",
       "      } else if (!window._bokeh_failed_load) {\n",
       "        console.log(\"Bokeh: BokehJS failed to load within specified timeout.\");\n",
       "        window._bokeh_failed_load = true;\n",
       "      } else if (force !== true) {\n",
       "        var cell = $(document.getElementById(\"e54d5cb5-bb81-4114-a6f3-4f1f9a1b33ca\")).parents('.cell').data().cell;\n",
       "        cell.output_area.append_execute_result(NB_LOAD_WARNING)\n",
       "      }\n",
       "  \n",
       "    }\n",
       "  \n",
       "    if (window._bokeh_is_loading === 0) {\n",
       "      console.log(\"Bokeh: BokehJS loaded, going straight to plotting\");\n",
       "      run_inline_js();\n",
       "    } else {\n",
       "      load_libs(js_urls, function() {\n",
       "        console.log(\"Bokeh: BokehJS plotting callback run at\", now());\n",
       "        run_inline_js();\n",
       "      });\n",
       "    }\n",
       "  }(this));\n",
       "</script>"
      ]
     },
     "metadata": {},
     "output_type": "display_data"
    }
   ],
   "source": [
    "biasvariance.plot_bias_variance(8, random_seed=42, err=10)"
   ]
  },
  {
   "cell_type": "markdown",
   "metadata": {},
   "source": [
    "### 1.2 Bias-Variance Tradeoff explained with a regression example"
   ]
  },
  {
   "cell_type": "markdown",
   "metadata": {},
   "source": [
    "In this section we will explore a simple **linear regression** problem.\n",
    "This can be accomplished within scikit-learn with the `sklearn.linear_model` module.\n",
    "\n",
    "We consider the situation where we have only 2 data points: "
   ]
  },
  {
   "cell_type": "code",
   "execution_count": 8,
   "metadata": {
    "collapsed": false
   },
   "outputs": [
    {
     "data": {
      "text/html": [
       "\n",
       "\n",
       "    <div class=\"bk-root\">\n",
       "        <div class=\"bk-plotdiv\" id=\"473f9e56-f340-4c29-b176-7163c064609a\"></div>\n",
       "    </div>\n",
       "<script type=\"text/javascript\">\n",
       "  \n",
       "  (function(global) {\n",
       "    function now() {\n",
       "      return new Date();\n",
       "    }\n",
       "  \n",
       "    var force = false;\n",
       "  \n",
       "    if (typeof (window._bokeh_onload_callbacks) === \"undefined\" || force === true) {\n",
       "      window._bokeh_onload_callbacks = [];\n",
       "      window._bokeh_is_loading = undefined;\n",
       "    }\n",
       "  \n",
       "  \n",
       "    \n",
       "    if (typeof (window._bokeh_timeout) === \"undefined\" || force === true) {\n",
       "      window._bokeh_timeout = Date.now() + 0;\n",
       "      window._bokeh_failed_load = false;\n",
       "    }\n",
       "  \n",
       "    var NB_LOAD_WARNING = {'data': {'text/html':\n",
       "       \"<div style='background-color: #fdd'>\\n\"+\n",
       "       \"<p>\\n\"+\n",
       "       \"BokehJS does not appear to have successfully loaded. If loading BokehJS from CDN, this \\n\"+\n",
       "       \"may be due to a slow or bad network connection. Possible fixes:\\n\"+\n",
       "       \"</p>\\n\"+\n",
       "       \"<ul>\\n\"+\n",
       "       \"<li>re-rerun `output_notebook()` to attempt to load from CDN again, or</li>\\n\"+\n",
       "       \"<li>use INLINE resources instead, as so:</li>\\n\"+\n",
       "       \"</ul>\\n\"+\n",
       "       \"<code>\\n\"+\n",
       "       \"from bokeh.resources import INLINE\\n\"+\n",
       "       \"output_notebook(resources=INLINE)\\n\"+\n",
       "       \"</code>\\n\"+\n",
       "       \"</div>\"}};\n",
       "  \n",
       "    function display_loaded() {\n",
       "      if (window.Bokeh !== undefined) {\n",
       "        document.getElementById(\"473f9e56-f340-4c29-b176-7163c064609a\").textContent = \"BokehJS successfully loaded.\";\n",
       "      } else if (Date.now() < window._bokeh_timeout) {\n",
       "        setTimeout(display_loaded, 100)\n",
       "      }\n",
       "    }\n",
       "  \n",
       "    function run_callbacks() {\n",
       "      window._bokeh_onload_callbacks.forEach(function(callback) { callback() });\n",
       "      delete window._bokeh_onload_callbacks\n",
       "      console.info(\"Bokeh: all callbacks have finished\");\n",
       "    }\n",
       "  \n",
       "    function load_libs(js_urls, callback) {\n",
       "      window._bokeh_onload_callbacks.push(callback);\n",
       "      if (window._bokeh_is_loading > 0) {\n",
       "        console.log(\"Bokeh: BokehJS is being loaded, scheduling callback at\", now());\n",
       "        return null;\n",
       "      }\n",
       "      if (js_urls == null || js_urls.length === 0) {\n",
       "        run_callbacks();\n",
       "        return null;\n",
       "      }\n",
       "      console.log(\"Bokeh: BokehJS not loaded, scheduling load and callback at\", now());\n",
       "      window._bokeh_is_loading = js_urls.length;\n",
       "      for (var i = 0; i < js_urls.length; i++) {\n",
       "        var url = js_urls[i];\n",
       "        var s = document.createElement('script');\n",
       "        s.src = url;\n",
       "        s.async = false;\n",
       "        s.onreadystatechange = s.onload = function() {\n",
       "          window._bokeh_is_loading--;\n",
       "          if (window._bokeh_is_loading === 0) {\n",
       "            console.log(\"Bokeh: all BokehJS libraries loaded\");\n",
       "            run_callbacks()\n",
       "          }\n",
       "        };\n",
       "        s.onerror = function() {\n",
       "          console.warn(\"failed to load library \" + url);\n",
       "        };\n",
       "        console.log(\"Bokeh: injecting script tag for BokehJS library: \", url);\n",
       "        document.getElementsByTagName(\"head\")[0].appendChild(s);\n",
       "      }\n",
       "    };var element = document.getElementById(\"473f9e56-f340-4c29-b176-7163c064609a\");\n",
       "    if (element == null) {\n",
       "      console.log(\"Bokeh: ERROR: autoload.js configured with elementid '473f9e56-f340-4c29-b176-7163c064609a' but no matching script tag was found. \")\n",
       "      return false;\n",
       "    }\n",
       "  \n",
       "    var js_urls = [];\n",
       "  \n",
       "    var inline_js = [\n",
       "      function(Bokeh) {\n",
       "        (function() {\n",
       "          var fn = function() {\n",
       "            var docs_json = {\"57107906-1d02-4dd1-8d59-fa207c4116b5\":{\"roots\":{\"references\":[{\"attributes\":{\"line_alpha\":{\"value\":0.1},\"line_color\":{\"value\":\"#1f77b4\"},\"x\":{\"field\":\"x\"},\"y\":{\"field\":\"y\"}},\"id\":\"1c6ab7c3-fb83-45a8-9b59-fb967fd0c5a7\",\"type\":\"Line\"},{\"attributes\":{\"callback\":null,\"column_names\":[\"x\",\"y\"],\"data\":{\"x\":{\"__ndarray__\":\"AAAAAAAAAAAAAAAAAAAAQA==\",\"dtype\":\"float64\",\"shape\":[2]},\"y\":{\"__ndarray__\":\"AAAAAAAAsDz/////////Pw==\",\"dtype\":\"float64\",\"shape\":[2]}}},\"id\":\"946ae38e-b9b9-4372-a6dc-e3ab099161a8\",\"type\":\"ColumnDataSource\"},{\"attributes\":{},\"id\":\"c70e47fc-a7f1-466a-ae5a-712901ffffd0\",\"type\":\"BasicTickFormatter\"},{\"attributes\":{},\"id\":\"bfb9fa24-7dac-4492-9890-f72582d44fd1\",\"type\":\"ToolEvents\"},{\"attributes\":{\"line_color\":{\"value\":\"green\"},\"x\":{\"field\":\"x\"},\"y\":{\"field\":\"y\"}},\"id\":\"42bfefb6-d9e4-4cbd-986f-b1a49211dcb6\",\"type\":\"Line\"},{\"attributes\":{\"plot\":{\"id\":\"43918d5d-6c5f-4bcb-b475-16eb79f2e312\",\"subtype\":\"Figure\",\"type\":\"Plot\"}},\"id\":\"aa529a1b-a02b-4240-a1df-86117f80061c\",\"type\":\"ResetTool\"},{\"attributes\":{},\"id\":\"743b2302-8813-4ca1-a5b1-2b553db08342\",\"type\":\"BasicTicker\"},{\"attributes\":{\"dimension\":1,\"plot\":{\"id\":\"43918d5d-6c5f-4bcb-b475-16eb79f2e312\",\"subtype\":\"Figure\",\"type\":\"Plot\"},\"ticker\":{\"id\":\"743b2302-8813-4ca1-a5b1-2b553db08342\",\"type\":\"BasicTicker\"}},\"id\":\"920b94d5-0bf2-4a50-b5e6-1d43c9746150\",\"type\":\"Grid\"},{\"attributes\":{\"bottom_units\":\"screen\",\"fill_alpha\":{\"value\":0.5},\"fill_color\":{\"value\":\"lightgrey\"},\"left_units\":\"screen\",\"level\":\"overlay\",\"line_alpha\":{\"value\":1.0},\"line_color\":{\"value\":\"black\"},\"line_dash\":[4,4],\"line_width\":{\"value\":2},\"plot\":null,\"render_mode\":\"css\",\"right_units\":\"screen\",\"top_units\":\"screen\"},\"id\":\"8190940c-010b-4432-a056-07c117a47050\",\"type\":\"BoxAnnotation\"},{\"attributes\":{\"data_source\":{\"id\":\"ee396014-6a1b-4ff7-9650-f97ebbe9da2f\",\"type\":\"ColumnDataSource\"},\"glyph\":{\"id\":\"536fc90c-8cad-4cc0-ac15-5980ef48eea3\",\"type\":\"Circle\"},\"hover_glyph\":null,\"nonselection_glyph\":{\"id\":\"991fd491-65b5-4bff-b38f-25fc23018b35\",\"type\":\"Circle\"},\"selection_glyph\":null},\"id\":\"20db6bd0-4ab3-451e-a8c8-2ceed2fda6a0\",\"type\":\"GlyphRenderer\"},{\"attributes\":{\"overlay\":{\"id\":\"8190940c-010b-4432-a056-07c117a47050\",\"type\":\"BoxAnnotation\"},\"plot\":{\"id\":\"43918d5d-6c5f-4bcb-b475-16eb79f2e312\",\"subtype\":\"Figure\",\"type\":\"Plot\"}},\"id\":\"b9db8c5f-7c69-4de2-ae8d-31a41f4f8848\",\"type\":\"BoxZoomTool\"},{\"attributes\":{},\"id\":\"4bfa563e-8a2f-4b4a-813a-19a5a19006ff\",\"type\":\"BasicTicker\"},{\"attributes\":{\"formatter\":{\"id\":\"c70e47fc-a7f1-466a-ae5a-712901ffffd0\",\"type\":\"BasicTickFormatter\"},\"plot\":{\"id\":\"43918d5d-6c5f-4bcb-b475-16eb79f2e312\",\"subtype\":\"Figure\",\"type\":\"Plot\"},\"ticker\":{\"id\":\"743b2302-8813-4ca1-a5b1-2b553db08342\",\"type\":\"BasicTicker\"}},\"id\":\"22c2a976-54e8-4131-9856-d5dd34f8446b\",\"type\":\"LinearAxis\"},{\"attributes\":{\"data_source\":{\"id\":\"946ae38e-b9b9-4372-a6dc-e3ab099161a8\",\"type\":\"ColumnDataSource\"},\"glyph\":{\"id\":\"42bfefb6-d9e4-4cbd-986f-b1a49211dcb6\",\"type\":\"Line\"},\"hover_glyph\":null,\"nonselection_glyph\":{\"id\":\"1c6ab7c3-fb83-45a8-9b59-fb967fd0c5a7\",\"type\":\"Line\"},\"selection_glyph\":null},\"id\":\"c77acd12-0975-42e3-9877-d0e81f3f63cc\",\"type\":\"GlyphRenderer\"},{\"attributes\":{\"callback\":null},\"id\":\"9d995072-0d02-4420-8cd0-d1261bf37ad6\",\"type\":\"DataRange1d\"},{\"attributes\":{\"plot\":{\"id\":\"43918d5d-6c5f-4bcb-b475-16eb79f2e312\",\"subtype\":\"Figure\",\"type\":\"Plot\"}},\"id\":\"0deb91dd-4172-4188-b426-fb7e72c40009\",\"type\":\"PanTool\"},{\"attributes\":{\"fill_alpha\":{\"value\":0.1},\"fill_color\":{\"value\":\"#1f77b4\"},\"line_alpha\":{\"value\":0.1},\"line_color\":{\"value\":\"#1f77b4\"},\"size\":{\"units\":\"screen\",\"value\":5},\"x\":{\"field\":\"x\"},\"y\":{\"field\":\"y\"}},\"id\":\"991fd491-65b5-4bff-b38f-25fc23018b35\",\"type\":\"Circle\"},{\"attributes\":{},\"id\":\"2be09f20-bdbb-4c52-9146-57cb85dced4f\",\"type\":\"BasicTickFormatter\"},{\"attributes\":{\"active_drag\":\"auto\",\"active_scroll\":\"auto\",\"active_tap\":\"auto\",\"tools\":[{\"id\":\"0deb91dd-4172-4188-b426-fb7e72c40009\",\"type\":\"PanTool\"},{\"id\":\"ab85aa6c-45e5-4462-b164-8890b1c470de\",\"type\":\"WheelZoomTool\"},{\"id\":\"b9db8c5f-7c69-4de2-ae8d-31a41f4f8848\",\"type\":\"BoxZoomTool\"},{\"id\":\"7fed688f-46ad-4675-9561-02008c8eca56\",\"type\":\"SaveTool\"},{\"id\":\"aa529a1b-a02b-4240-a1df-86117f80061c\",\"type\":\"ResetTool\"},{\"id\":\"f9baffba-3852-49db-9309-35edc87b209f\",\"type\":\"HelpTool\"}]},\"id\":\"af86f0c8-a8fc-4380-96bc-4f6d40721c6c\",\"type\":\"Toolbar\"},{\"attributes\":{\"plot\":{\"id\":\"43918d5d-6c5f-4bcb-b475-16eb79f2e312\",\"subtype\":\"Figure\",\"type\":\"Plot\"}},\"id\":\"f9baffba-3852-49db-9309-35edc87b209f\",\"type\":\"HelpTool\"},{\"attributes\":{\"fill_color\":{\"value\":\"#1f77b4\"},\"line_color\":{\"value\":\"#1f77b4\"},\"size\":{\"units\":\"screen\",\"value\":5},\"x\":{\"field\":\"x\"},\"y\":{\"field\":\"y\"}},\"id\":\"536fc90c-8cad-4cc0-ac15-5980ef48eea3\",\"type\":\"Circle\"},{\"attributes\":{\"formatter\":{\"id\":\"2be09f20-bdbb-4c52-9146-57cb85dced4f\",\"type\":\"BasicTickFormatter\"},\"plot\":{\"id\":\"43918d5d-6c5f-4bcb-b475-16eb79f2e312\",\"subtype\":\"Figure\",\"type\":\"Plot\"},\"ticker\":{\"id\":\"4bfa563e-8a2f-4b4a-813a-19a5a19006ff\",\"type\":\"BasicTicker\"}},\"id\":\"f200e0d9-36a5-482b-8225-bb8c5e815520\",\"type\":\"LinearAxis\"},{\"attributes\":{\"callback\":null},\"id\":\"327ad193-f614-41ae-bb77-e57efc9b573a\",\"type\":\"DataRange1d\"},{\"attributes\":{\"plot\":{\"id\":\"43918d5d-6c5f-4bcb-b475-16eb79f2e312\",\"subtype\":\"Figure\",\"type\":\"Plot\"},\"ticker\":{\"id\":\"4bfa563e-8a2f-4b4a-813a-19a5a19006ff\",\"type\":\"BasicTicker\"}},\"id\":\"93f9c0f8-7f06-49fb-b679-7b8072e48595\",\"type\":\"Grid\"},{\"attributes\":{\"callback\":null,\"column_names\":[\"x\",\"y\"],\"data\":{\"x\":{\"__ndarray__\":\"AAAAAAAA4D8AAAAAAADwPw==\",\"dtype\":\"float64\",\"shape\":[2]},\"y\":{\"__ndarray__\":\"AAAAAAAA4D8AAAAAAADwPw==\",\"dtype\":\"float64\",\"shape\":[2]}}},\"id\":\"ee396014-6a1b-4ff7-9650-f97ebbe9da2f\",\"type\":\"ColumnDataSource\"},{\"attributes\":{\"plot\":{\"id\":\"43918d5d-6c5f-4bcb-b475-16eb79f2e312\",\"subtype\":\"Figure\",\"type\":\"Plot\"}},\"id\":\"7fed688f-46ad-4675-9561-02008c8eca56\",\"type\":\"SaveTool\"},{\"attributes\":{\"plot\":{\"id\":\"43918d5d-6c5f-4bcb-b475-16eb79f2e312\",\"subtype\":\"Figure\",\"type\":\"Plot\"}},\"id\":\"ab85aa6c-45e5-4462-b164-8890b1c470de\",\"type\":\"WheelZoomTool\"},{\"attributes\":{\"below\":[{\"id\":\"f200e0d9-36a5-482b-8225-bb8c5e815520\",\"type\":\"LinearAxis\"}],\"left\":[{\"id\":\"22c2a976-54e8-4131-9856-d5dd34f8446b\",\"type\":\"LinearAxis\"}],\"plot_height\":300,\"plot_width\":400,\"renderers\":[{\"id\":\"f200e0d9-36a5-482b-8225-bb8c5e815520\",\"type\":\"LinearAxis\"},{\"id\":\"93f9c0f8-7f06-49fb-b679-7b8072e48595\",\"type\":\"Grid\"},{\"id\":\"22c2a976-54e8-4131-9856-d5dd34f8446b\",\"type\":\"LinearAxis\"},{\"id\":\"920b94d5-0bf2-4a50-b5e6-1d43c9746150\",\"type\":\"Grid\"},{\"id\":\"8190940c-010b-4432-a056-07c117a47050\",\"type\":\"BoxAnnotation\"},{\"id\":\"20db6bd0-4ab3-451e-a8c8-2ceed2fda6a0\",\"type\":\"GlyphRenderer\"},{\"id\":\"c77acd12-0975-42e3-9877-d0e81f3f63cc\",\"type\":\"GlyphRenderer\"}],\"title\":null,\"tool_events\":{\"id\":\"bfb9fa24-7dac-4492-9890-f72582d44fd1\",\"type\":\"ToolEvents\"},\"toolbar\":{\"id\":\"af86f0c8-a8fc-4380-96bc-4f6d40721c6c\",\"type\":\"Toolbar\"},\"x_range\":{\"id\":\"327ad193-f614-41ae-bb77-e57efc9b573a\",\"type\":\"DataRange1d\"},\"y_range\":{\"id\":\"9d995072-0d02-4420-8cd0-d1261bf37ad6\",\"type\":\"DataRange1d\"}},\"id\":\"43918d5d-6c5f-4bcb-b475-16eb79f2e312\",\"subtype\":\"Figure\",\"type\":\"Plot\"}],\"root_ids\":[\"43918d5d-6c5f-4bcb-b475-16eb79f2e312\"]},\"title\":\"Bokeh Application\",\"version\":\"0.12.4\"}};\n",
       "            var render_items = [{\"docid\":\"57107906-1d02-4dd1-8d59-fa207c4116b5\",\"elementid\":\"473f9e56-f340-4c29-b176-7163c064609a\",\"modelid\":\"43918d5d-6c5f-4bcb-b475-16eb79f2e312\"}];\n",
       "            \n",
       "            Bokeh.embed.embed_items(docs_json, render_items);\n",
       "          };\n",
       "          if (document.readyState != \"loading\") fn();\n",
       "          else document.addEventListener(\"DOMContentLoaded\", fn);\n",
       "        })();\n",
       "      },\n",
       "      function(Bokeh) {\n",
       "      }\n",
       "    ];\n",
       "  \n",
       "    function run_inline_js() {\n",
       "      \n",
       "      if ((window.Bokeh !== undefined) || (force === true)) {\n",
       "        for (var i = 0; i < inline_js.length; i++) {\n",
       "          inline_js[i](window.Bokeh);\n",
       "        }if (force === true) {\n",
       "          display_loaded();\n",
       "        }} else if (Date.now() < window._bokeh_timeout) {\n",
       "        setTimeout(run_inline_js, 100);\n",
       "      } else if (!window._bokeh_failed_load) {\n",
       "        console.log(\"Bokeh: BokehJS failed to load within specified timeout.\");\n",
       "        window._bokeh_failed_load = true;\n",
       "      } else if (force !== true) {\n",
       "        var cell = $(document.getElementById(\"473f9e56-f340-4c29-b176-7163c064609a\")).parents('.cell').data().cell;\n",
       "        cell.output_area.append_execute_result(NB_LOAD_WARNING)\n",
       "      }\n",
       "  \n",
       "    }\n",
       "  \n",
       "    if (window._bokeh_is_loading === 0) {\n",
       "      console.log(\"Bokeh: BokehJS loaded, going straight to plotting\");\n",
       "      run_inline_js();\n",
       "    } else {\n",
       "      load_libs(js_urls, function() {\n",
       "        console.log(\"Bokeh: BokehJS plotting callback run at\", now());\n",
       "        run_inline_js();\n",
       "      });\n",
       "    }\n",
       "  }(this));\n",
       "</script>"
      ]
     },
     "metadata": {},
     "output_type": "display_data"
    }
   ],
   "source": [
    "from sklearn import linear_model\n",
    "X = np.array([0.5, 1.0]).reshape(2,1)\n",
    "y = np.array([0.5, 1.0])\n",
    "X_test = np.array([0.0, 2.0]).reshape(2,1)\n",
    "regr = linear_model.LinearRegression()\n",
    "regr.fit(X, y)\n",
    "fig = bk.figure(plot_width=400, plot_height=300, title=None)\n",
    "fig.circle(X[:,0], y, size=5)\n",
    "fig.line(X_test[:,0], regr.predict(X_test), color='green')\n",
    "bk.show(fig)"
   ]
  },
  {
   "cell_type": "markdown",
   "metadata": {},
   "source": [
    "In real life situation, we have noise (e.g. measurement noise) in our data:"
   ]
  },
  {
   "cell_type": "code",
   "execution_count": 9,
   "metadata": {
    "collapsed": false
   },
   "outputs": [],
   "source": [
    "import seaborn as sns\n",
    "import addutils.palette as pal\n",
    "import random\n",
    "cat_colors = list(map(pal.to_hex, sns.color_palette('bright', 6)))\n",
    "random.shuffle(cat_colors)"
   ]
  },
  {
   "cell_type": "code",
   "execution_count": 10,
   "metadata": {
    "collapsed": false
   },
   "outputs": [
    {
     "data": {
      "text/html": [
       "\n",
       "\n",
       "    <div class=\"bk-root\">\n",
       "        <div class=\"bk-plotdiv\" id=\"55997438-389e-4fad-b710-2932cea6da59\"></div>\n",
       "    </div>\n",
       "<script type=\"text/javascript\">\n",
       "  \n",
       "  (function(global) {\n",
       "    function now() {\n",
       "      return new Date();\n",
       "    }\n",
       "  \n",
       "    var force = false;\n",
       "  \n",
       "    if (typeof (window._bokeh_onload_callbacks) === \"undefined\" || force === true) {\n",
       "      window._bokeh_onload_callbacks = [];\n",
       "      window._bokeh_is_loading = undefined;\n",
       "    }\n",
       "  \n",
       "  \n",
       "    \n",
       "    if (typeof (window._bokeh_timeout) === \"undefined\" || force === true) {\n",
       "      window._bokeh_timeout = Date.now() + 0;\n",
       "      window._bokeh_failed_load = false;\n",
       "    }\n",
       "  \n",
       "    var NB_LOAD_WARNING = {'data': {'text/html':\n",
       "       \"<div style='background-color: #fdd'>\\n\"+\n",
       "       \"<p>\\n\"+\n",
       "       \"BokehJS does not appear to have successfully loaded. If loading BokehJS from CDN, this \\n\"+\n",
       "       \"may be due to a slow or bad network connection. Possible fixes:\\n\"+\n",
       "       \"</p>\\n\"+\n",
       "       \"<ul>\\n\"+\n",
       "       \"<li>re-rerun `output_notebook()` to attempt to load from CDN again, or</li>\\n\"+\n",
       "       \"<li>use INLINE resources instead, as so:</li>\\n\"+\n",
       "       \"</ul>\\n\"+\n",
       "       \"<code>\\n\"+\n",
       "       \"from bokeh.resources import INLINE\\n\"+\n",
       "       \"output_notebook(resources=INLINE)\\n\"+\n",
       "       \"</code>\\n\"+\n",
       "       \"</div>\"}};\n",
       "  \n",
       "    function display_loaded() {\n",
       "      if (window.Bokeh !== undefined) {\n",
       "        document.getElementById(\"55997438-389e-4fad-b710-2932cea6da59\").textContent = \"BokehJS successfully loaded.\";\n",
       "      } else if (Date.now() < window._bokeh_timeout) {\n",
       "        setTimeout(display_loaded, 100)\n",
       "      }\n",
       "    }\n",
       "  \n",
       "    function run_callbacks() {\n",
       "      window._bokeh_onload_callbacks.forEach(function(callback) { callback() });\n",
       "      delete window._bokeh_onload_callbacks\n",
       "      console.info(\"Bokeh: all callbacks have finished\");\n",
       "    }\n",
       "  \n",
       "    function load_libs(js_urls, callback) {\n",
       "      window._bokeh_onload_callbacks.push(callback);\n",
       "      if (window._bokeh_is_loading > 0) {\n",
       "        console.log(\"Bokeh: BokehJS is being loaded, scheduling callback at\", now());\n",
       "        return null;\n",
       "      }\n",
       "      if (js_urls == null || js_urls.length === 0) {\n",
       "        run_callbacks();\n",
       "        return null;\n",
       "      }\n",
       "      console.log(\"Bokeh: BokehJS not loaded, scheduling load and callback at\", now());\n",
       "      window._bokeh_is_loading = js_urls.length;\n",
       "      for (var i = 0; i < js_urls.length; i++) {\n",
       "        var url = js_urls[i];\n",
       "        var s = document.createElement('script');\n",
       "        s.src = url;\n",
       "        s.async = false;\n",
       "        s.onreadystatechange = s.onload = function() {\n",
       "          window._bokeh_is_loading--;\n",
       "          if (window._bokeh_is_loading === 0) {\n",
       "            console.log(\"Bokeh: all BokehJS libraries loaded\");\n",
       "            run_callbacks()\n",
       "          }\n",
       "        };\n",
       "        s.onerror = function() {\n",
       "          console.warn(\"failed to load library \" + url);\n",
       "        };\n",
       "        console.log(\"Bokeh: injecting script tag for BokehJS library: \", url);\n",
       "        document.getElementsByTagName(\"head\")[0].appendChild(s);\n",
       "      }\n",
       "    };var element = document.getElementById(\"55997438-389e-4fad-b710-2932cea6da59\");\n",
       "    if (element == null) {\n",
       "      console.log(\"Bokeh: ERROR: autoload.js configured with elementid '55997438-389e-4fad-b710-2932cea6da59' but no matching script tag was found. \")\n",
       "      return false;\n",
       "    }\n",
       "  \n",
       "    var js_urls = [];\n",
       "  \n",
       "    var inline_js = [\n",
       "      function(Bokeh) {\n",
       "        (function() {\n",
       "          var fn = function() {\n",
       "            var docs_json = {\"10f46726-cab9-4273-8531-01b03215ca1d\":{\"roots\":{\"references\":[{\"attributes\":{\"callback\":null},\"id\":\"90d3d1b5-4a59-406f-a3a8-9b28dc46a1c7\",\"type\":\"DataRange1d\"},{\"attributes\":{\"plot\":{\"id\":\"4c236fe7-fe6b-4bfe-827d-5766d9f58d33\",\"subtype\":\"Figure\",\"type\":\"Plot\"}},\"id\":\"73058745-d829-4312-9e3c-013d4144400b\",\"type\":\"ResetTool\"},{\"attributes\":{\"fill_color\":{\"value\":\"#003fff\"},\"size\":{\"units\":\"screen\",\"value\":8},\"x\":{\"field\":\"x\"},\"y\":{\"field\":\"y\"}},\"id\":\"e9c47fd4-c838-474f-a6f3-80ed8bfa64c2\",\"type\":\"Circle\"},{\"attributes\":{\"bottom_units\":\"screen\",\"fill_alpha\":{\"value\":0.5},\"fill_color\":{\"value\":\"lightgrey\"},\"left_units\":\"screen\",\"level\":\"overlay\",\"line_alpha\":{\"value\":1.0},\"line_color\":{\"value\":\"black\"},\"line_dash\":[4,4],\"line_width\":{\"value\":2},\"plot\":null,\"render_mode\":\"css\",\"right_units\":\"screen\",\"top_units\":\"screen\"},\"id\":\"e6cad371-d730-4708-ada3-ddb8f3e3dde9\",\"type\":\"BoxAnnotation\"},{\"attributes\":{\"plot\":{\"id\":\"4c236fe7-fe6b-4bfe-827d-5766d9f58d33\",\"subtype\":\"Figure\",\"type\":\"Plot\"}},\"id\":\"c3b91ba4-5855-4617-b79d-f8010ef37a12\",\"type\":\"PanTool\"},{\"attributes\":{\"below\":[{\"id\":\"d3d453cd-17f6-40d9-b096-d6bbaa395161\",\"type\":\"LinearAxis\"}],\"left\":[{\"id\":\"865bb877-fcef-4ca8-8530-31d29df18d7e\",\"type\":\"LinearAxis\"}],\"plot_height\":300,\"plot_width\":400,\"renderers\":[{\"id\":\"d3d453cd-17f6-40d9-b096-d6bbaa395161\",\"type\":\"LinearAxis\"},{\"id\":\"912ef561-08ee-48cb-ba2d-bbf0afecc1dc\",\"type\":\"Grid\"},{\"id\":\"865bb877-fcef-4ca8-8530-31d29df18d7e\",\"type\":\"LinearAxis\"},{\"id\":\"e3da8cf2-91a1-498d-88a5-e90916af7f9f\",\"type\":\"Grid\"},{\"id\":\"e6cad371-d730-4708-ada3-ddb8f3e3dde9\",\"type\":\"BoxAnnotation\"},{\"id\":\"28250f99-abb3-431f-a989-79b89317d9cf\",\"type\":\"GlyphRenderer\"},{\"id\":\"a8ce16e0-2055-4841-b81e-d1a7712511b4\",\"type\":\"GlyphRenderer\"},{\"id\":\"acbd769a-2741-4658-9ee2-7e9097b91766\",\"type\":\"GlyphRenderer\"},{\"id\":\"c2d0b398-28bf-4ca4-97bb-c6045094ca51\",\"type\":\"GlyphRenderer\"},{\"id\":\"fa372814-958d-4b53-be3d-49641846cf82\",\"type\":\"GlyphRenderer\"},{\"id\":\"526e8303-8359-4ddc-89fc-f9ae13758caf\",\"type\":\"GlyphRenderer\"},{\"id\":\"a34c4484-5492-4002-b248-e9d09630b468\",\"type\":\"GlyphRenderer\"},{\"id\":\"60d6317b-840f-45cb-bdae-7d5ce69d1326\",\"type\":\"GlyphRenderer\"},{\"id\":\"7aad2d67-745d-442b-a814-78e6265171a7\",\"type\":\"GlyphRenderer\"},{\"id\":\"ef588e4f-44a2-40b6-bd6f-c933e8539de5\",\"type\":\"GlyphRenderer\"},{\"id\":\"0fbeb8de-0a5c-46de-84ee-046369bff6cf\",\"type\":\"GlyphRenderer\"},{\"id\":\"5371a717-7a1a-43ae-833e-7a6041e45e3a\",\"type\":\"GlyphRenderer\"}],\"title\":null,\"tool_events\":{\"id\":\"18a8a1f4-79e2-42f3-b1c4-5002c5a699bd\",\"type\":\"ToolEvents\"},\"toolbar\":{\"id\":\"396f0a9a-6ce0-4b47-91cf-4617647d8b01\",\"type\":\"Toolbar\"},\"x_range\":{\"id\":\"90d3d1b5-4a59-406f-a3a8-9b28dc46a1c7\",\"type\":\"DataRange1d\"},\"y_range\":{\"id\":\"5b36e696-401f-45c7-9de4-f0012c9ec37b\",\"type\":\"DataRange1d\"}},\"id\":\"4c236fe7-fe6b-4bfe-827d-5766d9f58d33\",\"subtype\":\"Figure\",\"type\":\"Plot\"},{\"attributes\":{\"line_alpha\":{\"value\":0.1},\"line_color\":{\"value\":\"#1f77b4\"},\"x\":{\"field\":\"x\"},\"y\":{\"field\":\"y\"}},\"id\":\"f4cca185-47e1-4112-9d4b-f155a0621b50\",\"type\":\"Line\"},{\"attributes\":{},\"id\":\"56a38756-fdb6-4ee4-b603-3465bd40750a\",\"type\":\"BasicTicker\"},{\"attributes\":{},\"id\":\"18a8a1f4-79e2-42f3-b1c4-5002c5a699bd\",\"type\":\"ToolEvents\"},{\"attributes\":{\"callback\":null,\"column_names\":[\"x\",\"y\"],\"data\":{\"x\":{\"__ndarray__\":\"+OBpO8gh4z/cCceu3pXzPw==\",\"dtype\":\"float64\",\"shape\":[2]},\"y\":{\"__ndarray__\":\"AAAAAAAA4D8AAAAAAADwPw==\",\"dtype\":\"float64\",\"shape\":[2]}}},\"id\":\"426b0f46-715e-4b42-ade9-aac2e0877807\",\"type\":\"ColumnDataSource\"},{\"attributes\":{\"line_color\":{\"value\":\"#00d7ff\"},\"x\":{\"field\":\"x\"},\"y\":{\"field\":\"y\"}},\"id\":\"8e732af4-ff2d-4910-af71-b7406956fe49\",\"type\":\"Line\"},{\"attributes\":{\"plot\":{\"id\":\"4c236fe7-fe6b-4bfe-827d-5766d9f58d33\",\"subtype\":\"Figure\",\"type\":\"Plot\"}},\"id\":\"1bd0616a-4f93-491a-a710-4f4f3109d94a\",\"type\":\"SaveTool\"},{\"attributes\":{\"callback\":null,\"column_names\":[\"x\",\"y\"],\"data\":{\"x\":{\"__ndarray__\":\"/g6F+08K4z+yHMEXAoTvPw==\",\"dtype\":\"float64\",\"shape\":[2]},\"y\":{\"__ndarray__\":\"AAAAAAAA4D8AAAAAAADwPw==\",\"dtype\":\"float64\",\"shape\":[2]}}},\"id\":\"d0b83239-6cfc-41b5-aeb4-a03728de625b\",\"type\":\"ColumnDataSource\"},{\"attributes\":{\"data_source\":{\"id\":\"93e0067e-ffc5-4580-9d80-72e089478ad4\",\"type\":\"ColumnDataSource\"},\"glyph\":{\"id\":\"e9c47fd4-c838-474f-a6f3-80ed8bfa64c2\",\"type\":\"Circle\"},\"hover_glyph\":null,\"nonselection_glyph\":{\"id\":\"408ea71d-13cc-4cb2-80b2-9f0797fb0f9b\",\"type\":\"Circle\"},\"selection_glyph\":null},\"id\":\"0fbeb8de-0a5c-46de-84ee-046369bff6cf\",\"type\":\"GlyphRenderer\"},{\"attributes\":{\"fill_alpha\":{\"value\":0.1},\"fill_color\":{\"value\":\"#1f77b4\"},\"line_alpha\":{\"value\":0.1},\"line_color\":{\"value\":\"#1f77b4\"},\"size\":{\"units\":\"screen\",\"value\":8},\"x\":{\"field\":\"x\"},\"y\":{\"field\":\"y\"}},\"id\":\"408ea71d-13cc-4cb2-80b2-9f0797fb0f9b\",\"type\":\"Circle\"},{\"attributes\":{\"dimension\":1,\"plot\":{\"id\":\"4c236fe7-fe6b-4bfe-827d-5766d9f58d33\",\"subtype\":\"Figure\",\"type\":\"Plot\"},\"ticker\":{\"id\":\"776a0cec-f6c8-4dc9-9c02-53c67c1fd0b3\",\"type\":\"BasicTicker\"}},\"id\":\"e3da8cf2-91a1-498d-88a5-e90916af7f9f\",\"type\":\"Grid\"},{\"attributes\":{\"data_source\":{\"id\":\"9e527725-c39e-4030-8f48-f50b06001722\",\"type\":\"ColumnDataSource\"},\"glyph\":{\"id\":\"f543d85c-ba68-461c-ada4-903969d1cdc0\",\"type\":\"Line\"},\"hover_glyph\":null,\"nonselection_glyph\":{\"id\":\"806c4239-ff9c-4bde-a616-83337d1c33fa\",\"type\":\"Line\"},\"selection_glyph\":null},\"id\":\"526e8303-8359-4ddc-89fc-f9ae13758caf\",\"type\":\"GlyphRenderer\"},{\"attributes\":{\"data_source\":{\"id\":\"c3ca7b6b-6988-43e4-b1d2-7ccefbe60bc7\",\"type\":\"ColumnDataSource\"},\"glyph\":{\"id\":\"712f22e1-1b61-4ba3-9a25-1917f4a5ea9d\",\"type\":\"Circle\"},\"hover_glyph\":null,\"nonselection_glyph\":{\"id\":\"ae53db61-7e4c-4dd4-85fa-1e2518bf5a66\",\"type\":\"Circle\"},\"selection_glyph\":null},\"id\":\"fa372814-958d-4b53-be3d-49641846cf82\",\"type\":\"GlyphRenderer\"},{\"attributes\":{\"callback\":null,\"column_names\":[\"x\",\"y\"],\"data\":{\"x\":{\"__ndarray__\":\"AAAAAAAAAAAAAAAAAAAAQA==\",\"dtype\":\"float64\",\"shape\":[2]},\"y\":{\"__ndarray__\":\"zLieGd/W0L+mdxfPXmoCQA==\",\"dtype\":\"float64\",\"shape\":[2]}}},\"id\":\"c5d9aa53-e524-42d1-9dfc-ac58ac37be9b\",\"type\":\"ColumnDataSource\"},{\"attributes\":{\"line_color\":{\"value\":\"#ffc400\"},\"x\":{\"field\":\"x\"},\"y\":{\"field\":\"y\"}},\"id\":\"46761265-147b-43d0-9d64-5c18f83e6688\",\"type\":\"Line\"},{\"attributes\":{\"callback\":null,\"column_names\":[\"x\",\"y\"],\"data\":{\"x\":{\"__ndarray__\":\"AAAAAAAAAAAAAAAAAAAAQA==\",\"dtype\":\"float64\",\"shape\":[2]},\"y\":{\"__ndarray__\":\"U/b/uRJ+8b+QnqpOuF8MQA==\",\"dtype\":\"float64\",\"shape\":[2]}}},\"id\":\"9e527725-c39e-4030-8f48-f50b06001722\",\"type\":\"ColumnDataSource\"},{\"attributes\":{\"line_color\":{\"value\":\"#003fff\"},\"x\":{\"field\":\"x\"},\"y\":{\"field\":\"y\"}},\"id\":\"be934691-888f-487c-820e-f8fb5b379799\",\"type\":\"Line\"},{\"attributes\":{\"data_source\":{\"id\":\"426b0f46-715e-4b42-ade9-aac2e0877807\",\"type\":\"ColumnDataSource\"},\"glyph\":{\"id\":\"2275ea2a-8e46-4cbf-8777-802a39a1aa62\",\"type\":\"Circle\"},\"hover_glyph\":null,\"nonselection_glyph\":{\"id\":\"63b147dc-a725-4856-ba19-4d79d350e994\",\"type\":\"Circle\"},\"selection_glyph\":null},\"id\":\"acbd769a-2741-4658-9ee2-7e9097b91766\",\"type\":\"GlyphRenderer\"},{\"attributes\":{\"line_color\":{\"value\":\"#8a2be2\"},\"x\":{\"field\":\"x\"},\"y\":{\"field\":\"y\"}},\"id\":\"f543d85c-ba68-461c-ada4-903969d1cdc0\",\"type\":\"Line\"},{\"attributes\":{\"callback\":null},\"id\":\"5b36e696-401f-45c7-9de4-f0012c9ec37b\",\"type\":\"DataRange1d\"},{\"attributes\":{\"data_source\":{\"id\":\"3cc96fb9-4ae0-4d86-aac3-dffc91d67398\",\"type\":\"ColumnDataSource\"},\"glyph\":{\"id\":\"8e732af4-ff2d-4910-af71-b7406956fe49\",\"type\":\"Line\"},\"hover_glyph\":null,\"nonselection_glyph\":{\"id\":\"f4cca185-47e1-4112-9d4b-f155a0621b50\",\"type\":\"Line\"},\"selection_glyph\":null},\"id\":\"ef588e4f-44a2-40b6-bd6f-c933e8539de5\",\"type\":\"GlyphRenderer\"},{\"attributes\":{\"fill_alpha\":{\"value\":0.1},\"fill_color\":{\"value\":\"#1f77b4\"},\"line_alpha\":{\"value\":0.1},\"line_color\":{\"value\":\"#1f77b4\"},\"size\":{\"units\":\"screen\",\"value\":8},\"x\":{\"field\":\"x\"},\"y\":{\"field\":\"y\"}},\"id\":\"d7332eee-fd39-47b9-b24a-ff67f4ea948c\",\"type\":\"Circle\"},{\"attributes\":{\"formatter\":{\"id\":\"eed4ab06-ee06-4a20-85eb-dcf2625f30ff\",\"type\":\"BasicTickFormatter\"},\"plot\":{\"id\":\"4c236fe7-fe6b-4bfe-827d-5766d9f58d33\",\"subtype\":\"Figure\",\"type\":\"Plot\"},\"ticker\":{\"id\":\"56a38756-fdb6-4ee4-b603-3465bd40750a\",\"type\":\"BasicTicker\"}},\"id\":\"d3d453cd-17f6-40d9-b096-d6bbaa395161\",\"type\":\"LinearAxis\"},{\"attributes\":{\"callback\":null,\"column_names\":[\"x\",\"y\"],\"data\":{\"x\":{\"__ndarray__\":\"AAAAAAAAAAAAAAAAAAAAQA==\",\"dtype\":\"float64\",\"shape\":[2]},\"y\":{\"__ndarray__\":\"QAzELycslz+9ObGnken5Pw==\",\"dtype\":\"float64\",\"shape\":[2]}}},\"id\":\"e92fd978-d5a8-4cf1-941f-f609b22eb1ef\",\"type\":\"ColumnDataSource\"},{\"attributes\":{\"callback\":null,\"column_names\":[\"x\",\"y\"],\"data\":{\"x\":{\"__ndarray__\":\"AAAAAAAAAAAAAAAAAAAAQA==\",\"dtype\":\"float64\",\"shape\":[2]},\"y\":{\"__ndarray__\":\"kHhEUPSlrD8oy4nay+n9Pw==\",\"dtype\":\"float64\",\"shape\":[2]}}},\"id\":\"3cc96fb9-4ae0-4d86-aac3-dffc91d67398\",\"type\":\"ColumnDataSource\"},{\"attributes\":{\"fill_alpha\":{\"value\":0.1},\"fill_color\":{\"value\":\"#1f77b4\"},\"line_alpha\":{\"value\":0.1},\"line_color\":{\"value\":\"#1f77b4\"},\"size\":{\"units\":\"screen\",\"value\":8},\"x\":{\"field\":\"x\"},\"y\":{\"field\":\"y\"}},\"id\":\"c9634d80-2426-4f21-a7e6-668d286d6456\",\"type\":\"Circle\"},{\"attributes\":{\"line_alpha\":{\"value\":0.1},\"line_color\":{\"value\":\"#1f77b4\"},\"x\":{\"field\":\"x\"},\"y\":{\"field\":\"y\"}},\"id\":\"fd3722e2-1e49-48fb-9404-ffc6b37a9112\",\"type\":\"Line\"},{\"attributes\":{\"plot\":{\"id\":\"4c236fe7-fe6b-4bfe-827d-5766d9f58d33\",\"subtype\":\"Figure\",\"type\":\"Plot\"},\"ticker\":{\"id\":\"56a38756-fdb6-4ee4-b603-3465bd40750a\",\"type\":\"BasicTicker\"}},\"id\":\"912ef561-08ee-48cb-ba2d-bbf0afecc1dc\",\"type\":\"Grid\"},{\"attributes\":{\"data_source\":{\"id\":\"85790b14-e063-4f1b-a91f-f577760118ea\",\"type\":\"ColumnDataSource\"},\"glyph\":{\"id\":\"45f68210-c9fd-474b-ad5e-d91c8c1155ac\",\"type\":\"Circle\"},\"hover_glyph\":null,\"nonselection_glyph\":{\"id\":\"7fc4951e-8c67-4211-a0d0-c5f0bfc3f181\",\"type\":\"Circle\"},\"selection_glyph\":null},\"id\":\"28250f99-abb3-431f-a989-79b89317d9cf\",\"type\":\"GlyphRenderer\"},{\"attributes\":{\"data_source\":{\"id\":\"bb76351f-ff2f-4893-ac6f-522492faec1e\",\"type\":\"ColumnDataSource\"},\"glyph\":{\"id\":\"15f90217-1a58-42bd-984b-2322517ca7cd\",\"type\":\"Circle\"},\"hover_glyph\":null,\"nonselection_glyph\":{\"id\":\"c9634d80-2426-4f21-a7e6-668d286d6456\",\"type\":\"Circle\"},\"selection_glyph\":null},\"id\":\"7aad2d67-745d-442b-a814-78e6265171a7\",\"type\":\"GlyphRenderer\"},{\"attributes\":{\"plot\":{\"id\":\"4c236fe7-fe6b-4bfe-827d-5766d9f58d33\",\"subtype\":\"Figure\",\"type\":\"Plot\"}},\"id\":\"daac3e79-d093-4c02-9fdd-e55722998e57\",\"type\":\"WheelZoomTool\"},{\"attributes\":{\"callback\":null,\"column_names\":[\"x\",\"y\"],\"data\":{\"x\":{\"__ndarray__\":\"sS4u4OJW3z/WLZxfLqjwPw==\",\"dtype\":\"float64\",\"shape\":[2]},\"y\":{\"__ndarray__\":\"AAAAAAAA4D8AAAAAAADwPw==\",\"dtype\":\"float64\",\"shape\":[2]}}},\"id\":\"bb76351f-ff2f-4893-ac6f-522492faec1e\",\"type\":\"ColumnDataSource\"},{\"attributes\":{\"formatter\":{\"id\":\"f9f29e35-0d08-4ac6-bc89-0b2d835c53ee\",\"type\":\"BasicTickFormatter\"},\"plot\":{\"id\":\"4c236fe7-fe6b-4bfe-827d-5766d9f58d33\",\"subtype\":\"Figure\",\"type\":\"Plot\"},\"ticker\":{\"id\":\"776a0cec-f6c8-4dc9-9c02-53c67c1fd0b3\",\"type\":\"BasicTicker\"}},\"id\":\"865bb877-fcef-4ca8-8530-31d29df18d7e\",\"type\":\"LinearAxis\"},{\"attributes\":{\"data_source\":{\"id\":\"d0b83239-6cfc-41b5-aeb4-a03728de625b\",\"type\":\"ColumnDataSource\"},\"glyph\":{\"id\":\"405e9fa5-718b-43ba-93b3-591b8cceb5d4\",\"type\":\"Circle\"},\"hover_glyph\":null,\"nonselection_glyph\":{\"id\":\"d7332eee-fd39-47b9-b24a-ff67f4ea948c\",\"type\":\"Circle\"},\"selection_glyph\":null},\"id\":\"a34c4484-5492-4002-b248-e9d09630b468\",\"type\":\"GlyphRenderer\"},{\"attributes\":{\"line_alpha\":{\"value\":0.1},\"line_color\":{\"value\":\"#1f77b4\"},\"x\":{\"field\":\"x\"},\"y\":{\"field\":\"y\"}},\"id\":\"806c4239-ff9c-4bde-a616-83337d1c33fa\",\"type\":\"Line\"},{\"attributes\":{\"overlay\":{\"id\":\"e6cad371-d730-4708-ada3-ddb8f3e3dde9\",\"type\":\"BoxAnnotation\"},\"plot\":{\"id\":\"4c236fe7-fe6b-4bfe-827d-5766d9f58d33\",\"subtype\":\"Figure\",\"type\":\"Plot\"}},\"id\":\"dd026bb3-9ce7-441c-a1bf-bd3d759984f9\",\"type\":\"BoxZoomTool\"},{\"attributes\":{\"callback\":null,\"column_names\":[\"x\",\"y\"],\"data\":{\"x\":{\"__ndarray__\":\"2XhXIAB24D/M8zKhq1PyPw==\",\"dtype\":\"float64\",\"shape\":[2]},\"y\":{\"__ndarray__\":\"AAAAAAAA4D8AAAAAAADwPw==\",\"dtype\":\"float64\",\"shape\":[2]}}},\"id\":\"93e0067e-ffc5-4580-9d80-72e089478ad4\",\"type\":\"ColumnDataSource\"},{\"attributes\":{\"callback\":null,\"column_names\":[\"x\",\"y\"],\"data\":{\"x\":{\"__ndarray__\":\"AAAAAAAAAAAAAAAAAAAAQA==\",\"dtype\":\"float64\",\"shape\":[2]},\"y\":{\"__ndarray__\":\"DBD0PiSH27+qmB0Ugo8CQA==\",\"dtype\":\"float64\",\"shape\":[2]}}},\"id\":\"0d9ce1e5-60b7-47a0-93ba-a0362fb2dd44\",\"type\":\"ColumnDataSource\"},{\"attributes\":{\"fill_color\":{\"value\":\"#e8000b\"},\"size\":{\"units\":\"screen\",\"value\":8},\"x\":{\"field\":\"x\"},\"y\":{\"field\":\"y\"}},\"id\":\"405e9fa5-718b-43ba-93b3-591b8cceb5d4\",\"type\":\"Circle\"},{\"attributes\":{\"data_source\":{\"id\":\"dd64be1c-0e6d-4d92-9ac7-cbd78a5cbdb1\",\"type\":\"ColumnDataSource\"},\"glyph\":{\"id\":\"be934691-888f-487c-820e-f8fb5b379799\",\"type\":\"Line\"},\"hover_glyph\":null,\"nonselection_glyph\":{\"id\":\"fd3722e2-1e49-48fb-9404-ffc6b37a9112\",\"type\":\"Line\"},\"selection_glyph\":null},\"id\":\"5371a717-7a1a-43ae-833e-7a6041e45e3a\",\"type\":\"GlyphRenderer\"},{\"attributes\":{\"callback\":null,\"column_names\":[\"x\",\"y\"],\"data\":{\"x\":{\"__ndarray__\":\"xXIjTOf55T9Z2FX5ad/sPw==\",\"dtype\":\"float64\",\"shape\":[2]},\"y\":{\"__ndarray__\":\"AAAAAAAA4D8AAAAAAADwPw==\",\"dtype\":\"float64\",\"shape\":[2]}}},\"id\":\"c3ca7b6b-6988-43e4-b1d2-7ccefbe60bc7\",\"type\":\"ColumnDataSource\"},{\"attributes\":{\"line_alpha\":{\"value\":0.1},\"line_color\":{\"value\":\"#1f77b4\"},\"x\":{\"field\":\"x\"},\"y\":{\"field\":\"y\"}},\"id\":\"2bb5a080-38ae-45d7-9aa3-673514c783d7\",\"type\":\"Line\"},{\"attributes\":{\"fill_color\":{\"value\":\"#ffc400\"},\"size\":{\"units\":\"screen\",\"value\":8},\"x\":{\"field\":\"x\"},\"y\":{\"field\":\"y\"}},\"id\":\"2275ea2a-8e46-4cbf-8777-802a39a1aa62\",\"type\":\"Circle\"},{\"attributes\":{\"fill_alpha\":{\"value\":0.1},\"fill_color\":{\"value\":\"#1f77b4\"},\"line_alpha\":{\"value\":0.1},\"line_color\":{\"value\":\"#1f77b4\"},\"size\":{\"units\":\"screen\",\"value\":8},\"x\":{\"field\":\"x\"},\"y\":{\"field\":\"y\"}},\"id\":\"ae53db61-7e4c-4dd4-85fa-1e2518bf5a66\",\"type\":\"Circle\"},{\"attributes\":{\"callback\":null,\"column_names\":[\"x\",\"y\"],\"data\":{\"x\":{\"__ndarray__\":\"VPYtlxyl5T8IHUWG56PwPw==\",\"dtype\":\"float64\",\"shape\":[2]},\"y\":{\"__ndarray__\":\"AAAAAAAA4D8AAAAAAADwPw==\",\"dtype\":\"float64\",\"shape\":[2]}}},\"id\":\"85790b14-e063-4f1b-a91f-f577760118ea\",\"type\":\"ColumnDataSource\"},{\"attributes\":{\"line_alpha\":{\"value\":0.1},\"line_color\":{\"value\":\"#1f77b4\"},\"x\":{\"field\":\"x\"},\"y\":{\"field\":\"y\"}},\"id\":\"89a5da5d-e743-4fc8-b0a4-39efa3234a76\",\"type\":\"Line\"},{\"attributes\":{\"fill_color\":{\"value\":\"#03ed3a\"},\"size\":{\"units\":\"screen\",\"value\":8},\"x\":{\"field\":\"x\"},\"y\":{\"field\":\"y\"}},\"id\":\"45f68210-c9fd-474b-ad5e-d91c8c1155ac\",\"type\":\"Circle\"},{\"attributes\":{\"fill_alpha\":{\"value\":0.1},\"fill_color\":{\"value\":\"#1f77b4\"},\"line_alpha\":{\"value\":0.1},\"line_color\":{\"value\":\"#1f77b4\"},\"size\":{\"units\":\"screen\",\"value\":8},\"x\":{\"field\":\"x\"},\"y\":{\"field\":\"y\"}},\"id\":\"7fc4951e-8c67-4211-a0d0-c5f0bfc3f181\",\"type\":\"Circle\"},{\"attributes\":{},\"id\":\"776a0cec-f6c8-4dc9-9c02-53c67c1fd0b3\",\"type\":\"BasicTicker\"},{\"attributes\":{\"plot\":{\"id\":\"4c236fe7-fe6b-4bfe-827d-5766d9f58d33\",\"subtype\":\"Figure\",\"type\":\"Plot\"}},\"id\":\"7fc3d6d8-55c0-4863-9722-c51727f25cf9\",\"type\":\"HelpTool\"},{\"attributes\":{},\"id\":\"eed4ab06-ee06-4a20-85eb-dcf2625f30ff\",\"type\":\"BasicTickFormatter\"},{\"attributes\":{\"callback\":null,\"column_names\":[\"x\",\"y\"],\"data\":{\"x\":{\"__ndarray__\":\"AAAAAAAAAAAAAAAAAAAAQA==\",\"dtype\":\"float64\",\"shape\":[2]},\"y\":{\"__ndarray__\":\"uB+PCNGntz/KpSIiidX6Pw==\",\"dtype\":\"float64\",\"shape\":[2]}}},\"id\":\"dd64be1c-0e6d-4d92-9ac7-cbd78a5cbdb1\",\"type\":\"ColumnDataSource\"},{\"attributes\":{\"fill_color\":{\"value\":\"#8a2be2\"},\"size\":{\"units\":\"screen\",\"value\":8},\"x\":{\"field\":\"x\"},\"y\":{\"field\":\"y\"}},\"id\":\"712f22e1-1b61-4ba3-9a25-1917f4a5ea9d\",\"type\":\"Circle\"},{\"attributes\":{\"data_source\":{\"id\":\"0d9ce1e5-60b7-47a0-93ba-a0362fb2dd44\",\"type\":\"ColumnDataSource\"},\"glyph\":{\"id\":\"622beed7-5cdd-4e54-a91a-86ce7f305ac5\",\"type\":\"Line\"},\"hover_glyph\":null,\"nonselection_glyph\":{\"id\":\"f9ea3d89-dc0f-482a-809b-b0df0dc202bd\",\"type\":\"Line\"},\"selection_glyph\":null},\"id\":\"a8ce16e0-2055-4841-b81e-d1a7712511b4\",\"type\":\"GlyphRenderer\"},{\"attributes\":{\"line_color\":{\"value\":\"#03ed3a\"},\"x\":{\"field\":\"x\"},\"y\":{\"field\":\"y\"}},\"id\":\"622beed7-5cdd-4e54-a91a-86ce7f305ac5\",\"type\":\"Line\"},{\"attributes\":{\"line_alpha\":{\"value\":0.1},\"line_color\":{\"value\":\"#1f77b4\"},\"x\":{\"field\":\"x\"},\"y\":{\"field\":\"y\"}},\"id\":\"f9ea3d89-dc0f-482a-809b-b0df0dc202bd\",\"type\":\"Line\"},{\"attributes\":{\"active_drag\":\"auto\",\"active_scroll\":\"auto\",\"active_tap\":\"auto\",\"tools\":[{\"id\":\"c3b91ba4-5855-4617-b79d-f8010ef37a12\",\"type\":\"PanTool\"},{\"id\":\"daac3e79-d093-4c02-9fdd-e55722998e57\",\"type\":\"WheelZoomTool\"},{\"id\":\"dd026bb3-9ce7-441c-a1bf-bd3d759984f9\",\"type\":\"BoxZoomTool\"},{\"id\":\"1bd0616a-4f93-491a-a710-4f4f3109d94a\",\"type\":\"SaveTool\"},{\"id\":\"73058745-d829-4312-9e3c-013d4144400b\",\"type\":\"ResetTool\"},{\"id\":\"7fc3d6d8-55c0-4863-9722-c51727f25cf9\",\"type\":\"HelpTool\"}]},\"id\":\"396f0a9a-6ce0-4b47-91cf-4617647d8b01\",\"type\":\"Toolbar\"},{\"attributes\":{\"data_source\":{\"id\":\"c5d9aa53-e524-42d1-9dfc-ac58ac37be9b\",\"type\":\"ColumnDataSource\"},\"glyph\":{\"id\":\"1f4e0576-3a53-4c2b-b7e0-4afb5b5aef34\",\"type\":\"Line\"},\"hover_glyph\":null,\"nonselection_glyph\":{\"id\":\"89a5da5d-e743-4fc8-b0a4-39efa3234a76\",\"type\":\"Line\"},\"selection_glyph\":null},\"id\":\"60d6317b-840f-45cb-bdae-7d5ce69d1326\",\"type\":\"GlyphRenderer\"},{\"attributes\":{},\"id\":\"f9f29e35-0d08-4ac6-bc89-0b2d835c53ee\",\"type\":\"BasicTickFormatter\"},{\"attributes\":{\"fill_alpha\":{\"value\":0.1},\"fill_color\":{\"value\":\"#1f77b4\"},\"line_alpha\":{\"value\":0.1},\"line_color\":{\"value\":\"#1f77b4\"},\"size\":{\"units\":\"screen\",\"value\":8},\"x\":{\"field\":\"x\"},\"y\":{\"field\":\"y\"}},\"id\":\"63b147dc-a725-4856-ba19-4d79d350e994\",\"type\":\"Circle\"},{\"attributes\":{\"data_source\":{\"id\":\"e92fd978-d5a8-4cf1-941f-f609b22eb1ef\",\"type\":\"ColumnDataSource\"},\"glyph\":{\"id\":\"46761265-147b-43d0-9d64-5c18f83e6688\",\"type\":\"Line\"},\"hover_glyph\":null,\"nonselection_glyph\":{\"id\":\"2bb5a080-38ae-45d7-9aa3-673514c783d7\",\"type\":\"Line\"},\"selection_glyph\":null},\"id\":\"c2d0b398-28bf-4ca4-97bb-c6045094ca51\",\"type\":\"GlyphRenderer\"},{\"attributes\":{\"line_color\":{\"value\":\"#e8000b\"},\"x\":{\"field\":\"x\"},\"y\":{\"field\":\"y\"}},\"id\":\"1f4e0576-3a53-4c2b-b7e0-4afb5b5aef34\",\"type\":\"Line\"},{\"attributes\":{\"fill_color\":{\"value\":\"#00d7ff\"},\"size\":{\"units\":\"screen\",\"value\":8},\"x\":{\"field\":\"x\"},\"y\":{\"field\":\"y\"}},\"id\":\"15f90217-1a58-42bd-984b-2322517ca7cd\",\"type\":\"Circle\"}],\"root_ids\":[\"4c236fe7-fe6b-4bfe-827d-5766d9f58d33\"]},\"title\":\"Bokeh Application\",\"version\":\"0.12.4\"}};\n",
       "            var render_items = [{\"docid\":\"10f46726-cab9-4273-8531-01b03215ca1d\",\"elementid\":\"55997438-389e-4fad-b710-2932cea6da59\",\"modelid\":\"4c236fe7-fe6b-4bfe-827d-5766d9f58d33\"}];\n",
       "            \n",
       "            Bokeh.embed.embed_items(docs_json, render_items);\n",
       "          };\n",
       "          if (document.readyState != \"loading\") fn();\n",
       "          else document.addEventListener(\"DOMContentLoaded\", fn);\n",
       "        })();\n",
       "      },\n",
       "      function(Bokeh) {\n",
       "      }\n",
       "    ];\n",
       "  \n",
       "    function run_inline_js() {\n",
       "      \n",
       "      if ((window.Bokeh !== undefined) || (force === true)) {\n",
       "        for (var i = 0; i < inline_js.length; i++) {\n",
       "          inline_js[i](window.Bokeh);\n",
       "        }if (force === true) {\n",
       "          display_loaded();\n",
       "        }} else if (Date.now() < window._bokeh_timeout) {\n",
       "        setTimeout(run_inline_js, 100);\n",
       "      } else if (!window._bokeh_failed_load) {\n",
       "        console.log(\"Bokeh: BokehJS failed to load within specified timeout.\");\n",
       "        window._bokeh_failed_load = true;\n",
       "      } else if (force !== true) {\n",
       "        var cell = $(document.getElementById(\"55997438-389e-4fad-b710-2932cea6da59\")).parents('.cell').data().cell;\n",
       "        cell.output_area.append_execute_result(NB_LOAD_WARNING)\n",
       "      }\n",
       "  \n",
       "    }\n",
       "  \n",
       "    if (window._bokeh_is_loading === 0) {\n",
       "      console.log(\"Bokeh: BokehJS loaded, going straight to plotting\");\n",
       "      run_inline_js();\n",
       "    } else {\n",
       "      load_libs(js_urls, function() {\n",
       "        console.log(\"Bokeh: BokehJS plotting callback run at\", now());\n",
       "        run_inline_js();\n",
       "      });\n",
       "    }\n",
       "  }(this));\n",
       "</script>"
      ]
     },
     "metadata": {},
     "output_type": "display_data"
    }
   ],
   "source": [
    "np.random.seed(0)\n",
    "fig = bk.figure(plot_width=400, plot_height=300, title=None)\n",
    "\n",
    "for i in range(6):\n",
    "    noise = np.random.normal(loc=0, scale=.1, size=X.shape)\n",
    "    noisy_X = X + noise\n",
    "    regr.fit(noisy_X, y)\n",
    "    \n",
    "    fig.circle(noisy_X[:,0], y, size=8, fill_color=cat_colors[i], line_color='black')\n",
    "    fig.line(X_test[:,0], regr.predict(X_test), color=cat_colors[i])\n",
    "bk.show(fig)"
   ]
  },
  {
   "cell_type": "markdown",
   "metadata": {},
   "source": [
    "As we can see, our linear model captures and amplifies the noise in the data. It displays a lot of variance. This means that if we subsample the data and we fit a different model to each subsample (each pair of points) we obtain a model that differ substantially from the true model. There are several techniques to reduce variance. **Regularization** is one of those, it is a way to change the tradeoff between Bias and Variance by putting more weights on either one. We will briefly use it in this example while we leave a more detailed explanation for the next section.\n",
    "\n",
    "We can use another linear estimator that uses **regularization**: the Ridge estimator. This estimator regularizes the coefficients by shrinking them to zero, under the assumption that very high correlations are often spurious. High alphas give high regularization (shrinkage):"
   ]
  },
  {
   "cell_type": "code",
   "execution_count": 11,
   "metadata": {
    "collapsed": false
   },
   "outputs": [
    {
     "data": {
      "text/html": [
       "\n",
       "\n",
       "    <div class=\"bk-root\">\n",
       "        <div class=\"bk-plotdiv\" id=\"2ede3ed2-6e31-4f46-a151-79bffe05eb53\"></div>\n",
       "    </div>\n",
       "<script type=\"text/javascript\">\n",
       "  \n",
       "  (function(global) {\n",
       "    function now() {\n",
       "      return new Date();\n",
       "    }\n",
       "  \n",
       "    var force = false;\n",
       "  \n",
       "    if (typeof (window._bokeh_onload_callbacks) === \"undefined\" || force === true) {\n",
       "      window._bokeh_onload_callbacks = [];\n",
       "      window._bokeh_is_loading = undefined;\n",
       "    }\n",
       "  \n",
       "  \n",
       "    \n",
       "    if (typeof (window._bokeh_timeout) === \"undefined\" || force === true) {\n",
       "      window._bokeh_timeout = Date.now() + 0;\n",
       "      window._bokeh_failed_load = false;\n",
       "    }\n",
       "  \n",
       "    var NB_LOAD_WARNING = {'data': {'text/html':\n",
       "       \"<div style='background-color: #fdd'>\\n\"+\n",
       "       \"<p>\\n\"+\n",
       "       \"BokehJS does not appear to have successfully loaded. If loading BokehJS from CDN, this \\n\"+\n",
       "       \"may be due to a slow or bad network connection. Possible fixes:\\n\"+\n",
       "       \"</p>\\n\"+\n",
       "       \"<ul>\\n\"+\n",
       "       \"<li>re-rerun `output_notebook()` to attempt to load from CDN again, or</li>\\n\"+\n",
       "       \"<li>use INLINE resources instead, as so:</li>\\n\"+\n",
       "       \"</ul>\\n\"+\n",
       "       \"<code>\\n\"+\n",
       "       \"from bokeh.resources import INLINE\\n\"+\n",
       "       \"output_notebook(resources=INLINE)\\n\"+\n",
       "       \"</code>\\n\"+\n",
       "       \"</div>\"}};\n",
       "  \n",
       "    function display_loaded() {\n",
       "      if (window.Bokeh !== undefined) {\n",
       "        document.getElementById(\"2ede3ed2-6e31-4f46-a151-79bffe05eb53\").textContent = \"BokehJS successfully loaded.\";\n",
       "      } else if (Date.now() < window._bokeh_timeout) {\n",
       "        setTimeout(display_loaded, 100)\n",
       "      }\n",
       "    }\n",
       "  \n",
       "    function run_callbacks() {\n",
       "      window._bokeh_onload_callbacks.forEach(function(callback) { callback() });\n",
       "      delete window._bokeh_onload_callbacks\n",
       "      console.info(\"Bokeh: all callbacks have finished\");\n",
       "    }\n",
       "  \n",
       "    function load_libs(js_urls, callback) {\n",
       "      window._bokeh_onload_callbacks.push(callback);\n",
       "      if (window._bokeh_is_loading > 0) {\n",
       "        console.log(\"Bokeh: BokehJS is being loaded, scheduling callback at\", now());\n",
       "        return null;\n",
       "      }\n",
       "      if (js_urls == null || js_urls.length === 0) {\n",
       "        run_callbacks();\n",
       "        return null;\n",
       "      }\n",
       "      console.log(\"Bokeh: BokehJS not loaded, scheduling load and callback at\", now());\n",
       "      window._bokeh_is_loading = js_urls.length;\n",
       "      for (var i = 0; i < js_urls.length; i++) {\n",
       "        var url = js_urls[i];\n",
       "        var s = document.createElement('script');\n",
       "        s.src = url;\n",
       "        s.async = false;\n",
       "        s.onreadystatechange = s.onload = function() {\n",
       "          window._bokeh_is_loading--;\n",
       "          if (window._bokeh_is_loading === 0) {\n",
       "            console.log(\"Bokeh: all BokehJS libraries loaded\");\n",
       "            run_callbacks()\n",
       "          }\n",
       "        };\n",
       "        s.onerror = function() {\n",
       "          console.warn(\"failed to load library \" + url);\n",
       "        };\n",
       "        console.log(\"Bokeh: injecting script tag for BokehJS library: \", url);\n",
       "        document.getElementsByTagName(\"head\")[0].appendChild(s);\n",
       "      }\n",
       "    };var element = document.getElementById(\"2ede3ed2-6e31-4f46-a151-79bffe05eb53\");\n",
       "    if (element == null) {\n",
       "      console.log(\"Bokeh: ERROR: autoload.js configured with elementid '2ede3ed2-6e31-4f46-a151-79bffe05eb53' but no matching script tag was found. \")\n",
       "      return false;\n",
       "    }\n",
       "  \n",
       "    var js_urls = [];\n",
       "  \n",
       "    var inline_js = [\n",
       "      function(Bokeh) {\n",
       "        (function() {\n",
       "          var fn = function() {\n",
       "            var docs_json = {\"d8667b60-cdd4-4857-8700-094c516b32be\":{\"roots\":{\"references\":[{\"attributes\":{},\"id\":\"8b2db412-0a92-496a-b304-f69addfcad38\",\"type\":\"BasicTickFormatter\"},{\"attributes\":{\"fill_color\":{\"value\":\"#8a2be2\"},\"size\":{\"units\":\"screen\",\"value\":8},\"x\":{\"field\":\"x\"},\"y\":{\"field\":\"y\"}},\"id\":\"a948e838-ec5d-480f-a4f8-4dc7ab8fdaba\",\"type\":\"Circle\"},{\"attributes\":{\"plot\":{\"id\":\"6de5fef9-7185-4814-88a3-d055cf4c8da3\",\"subtype\":\"Figure\",\"type\":\"Plot\"}},\"id\":\"94f7a1fa-c777-4f31-9a35-4c1ab4f4387e\",\"type\":\"HelpTool\"},{\"attributes\":{\"line_color\":{\"value\":\"#003fff\"},\"x\":{\"field\":\"x\"},\"y\":{\"field\":\"y\"}},\"id\":\"b5c92577-f5ce-480a-93ef-f909c419bd62\",\"type\":\"Line\"},{\"attributes\":{\"callback\":null,\"column_names\":[\"x\",\"y\"],\"data\":{\"x\":{\"__ndarray__\":\"cut1F/PH5D+IMJUx71fvPw==\",\"dtype\":\"float64\",\"shape\":[2]},\"y\":{\"__ndarray__\":\"AAAAAAAA4D8AAAAAAADwPw==\",\"dtype\":\"float64\",\"shape\":[2]}}},\"id\":\"05ec36ae-45ce-40e3-8c76-e85499436e21\",\"type\":\"ColumnDataSource\"},{\"attributes\":{\"callback\":null,\"column_names\":[\"x\",\"y\"],\"data\":{\"x\":{\"__ndarray__\":\"Ctay61xSzz+sW5LguAvxPw==\",\"dtype\":\"float64\",\"shape\":[2]},\"y\":{\"__ndarray__\":\"AAAAAAAA4D8AAAAAAADwPw==\",\"dtype\":\"float64\",\"shape\":[2]}}},\"id\":\"023a46b0-c7d7-43a2-a916-95cc80208b24\",\"type\":\"ColumnDataSource\"},{\"attributes\":{\"line_color\":{\"value\":\"#03ed3a\"},\"x\":{\"field\":\"x\"},\"y\":{\"field\":\"y\"}},\"id\":\"6271f0a0-af1d-48b7-ae27-797edc9c3f47\",\"type\":\"Line\"},{\"attributes\":{\"fill_color\":{\"value\":\"#e8000b\"},\"size\":{\"units\":\"screen\",\"value\":8},\"x\":{\"field\":\"x\"},\"y\":{\"field\":\"y\"}},\"id\":\"f1577e72-86af-4ffc-9849-25bd4dc31e40\",\"type\":\"Circle\"},{\"attributes\":{\"data_source\":{\"id\":\"3ce78bca-0d16-4d01-8faf-731189d4c27e\",\"type\":\"ColumnDataSource\"},\"glyph\":{\"id\":\"6271f0a0-af1d-48b7-ae27-797edc9c3f47\",\"type\":\"Line\"},\"hover_glyph\":null,\"nonselection_glyph\":{\"id\":\"b8a9bbe6-635a-4b7e-890a-5109868b6ca7\",\"type\":\"Line\"},\"selection_glyph\":null},\"id\":\"78a14c60-51f5-4d14-bf92-5a62ca91e1c8\",\"type\":\"GlyphRenderer\"},{\"attributes\":{\"line_alpha\":{\"value\":0.1},\"line_color\":{\"value\":\"#1f77b4\"},\"x\":{\"field\":\"x\"},\"y\":{\"field\":\"y\"}},\"id\":\"41ac4ca0-f16b-4405-8074-9908cb3ce4a0\",\"type\":\"Line\"},{\"attributes\":{\"below\":[{\"id\":\"5d2f68c8-fe39-4396-8188-38476c165704\",\"type\":\"LinearAxis\"}],\"left\":[{\"id\":\"171378eb-bdd1-41b2-988f-99796a0c95fb\",\"type\":\"LinearAxis\"}],\"plot_height\":300,\"plot_width\":400,\"renderers\":[{\"id\":\"5d2f68c8-fe39-4396-8188-38476c165704\",\"type\":\"LinearAxis\"},{\"id\":\"858de734-83c3-49b0-9deb-421f57956c29\",\"type\":\"Grid\"},{\"id\":\"171378eb-bdd1-41b2-988f-99796a0c95fb\",\"type\":\"LinearAxis\"},{\"id\":\"8724f0d3-8e23-48df-9ace-efeddd27cc04\",\"type\":\"Grid\"},{\"id\":\"c37c00c4-7b77-4878-a043-afb190143094\",\"type\":\"BoxAnnotation\"},{\"id\":\"9ed8c9a7-1937-4be9-8115-aebcb9157b3b\",\"type\":\"GlyphRenderer\"},{\"id\":\"78a14c60-51f5-4d14-bf92-5a62ca91e1c8\",\"type\":\"GlyphRenderer\"},{\"id\":\"c47b5c75-734f-469b-a44e-fabfdc737321\",\"type\":\"GlyphRenderer\"},{\"id\":\"f367fad9-6581-405a-9d94-01140327f686\",\"type\":\"GlyphRenderer\"},{\"id\":\"d398b106-0969-431e-a7e7-9e4009720ed3\",\"type\":\"GlyphRenderer\"},{\"id\":\"76a6e491-80af-41d0-b8ce-f37c30566a53\",\"type\":\"GlyphRenderer\"},{\"id\":\"d18134ba-1727-4ac3-99a6-f0274e7f95c2\",\"type\":\"GlyphRenderer\"},{\"id\":\"da6df28e-df82-4dd6-b244-b775023fa0af\",\"type\":\"GlyphRenderer\"},{\"id\":\"9e640fd6-79e2-4ea8-aa6e-0748bc3da2a9\",\"type\":\"GlyphRenderer\"},{\"id\":\"9dc8fe2a-0d87-4b87-bc33-d315e4d3bddf\",\"type\":\"GlyphRenderer\"},{\"id\":\"291a2205-e4c7-46e6-9a14-e1ebb06aa08c\",\"type\":\"GlyphRenderer\"},{\"id\":\"9020e41c-3a4d-42be-b91f-2789dda66955\",\"type\":\"GlyphRenderer\"}],\"title\":null,\"tool_events\":{\"id\":\"c83e1e0d-6631-4542-9cb2-0def6484d065\",\"type\":\"ToolEvents\"},\"toolbar\":{\"id\":\"03ddfde6-977f-40c9-b828-e68ac2f73959\",\"type\":\"Toolbar\"},\"x_range\":{\"id\":\"1ba6d6f6-72ef-46fb-a9df-311f8d4e434f\",\"type\":\"DataRange1d\"},\"y_range\":{\"id\":\"1ced293a-ac41-4011-a944-852b3cdd71ca\",\"type\":\"DataRange1d\"}},\"id\":\"6de5fef9-7185-4814-88a3-d055cf4c8da3\",\"subtype\":\"Figure\",\"type\":\"Plot\"},{\"attributes\":{\"data_source\":{\"id\":\"023a46b0-c7d7-43a2-a916-95cc80208b24\",\"type\":\"ColumnDataSource\"},\"glyph\":{\"id\":\"82b1a099-358a-420e-9d46-a829dd4a507e\",\"type\":\"Circle\"},\"hover_glyph\":null,\"nonselection_glyph\":{\"id\":\"6a815a9a-15e3-47b8-a081-8554f520ceed\",\"type\":\"Circle\"},\"selection_glyph\":null},\"id\":\"9e640fd6-79e2-4ea8-aa6e-0748bc3da2a9\",\"type\":\"GlyphRenderer\"},{\"attributes\":{\"line_alpha\":{\"value\":0.1},\"line_color\":{\"value\":\"#1f77b4\"},\"x\":{\"field\":\"x\"},\"y\":{\"field\":\"y\"}},\"id\":\"e96bdf1f-24d7-4ecf-a97f-b279ac46a719\",\"type\":\"Line\"},{\"attributes\":{\"callback\":null},\"id\":\"1ced293a-ac41-4011-a944-852b3cdd71ca\",\"type\":\"DataRange1d\"},{\"attributes\":{\"data_source\":{\"id\":\"f868cca6-4e1f-469d-bf4c-f9c3f703ca41\",\"type\":\"ColumnDataSource\"},\"glyph\":{\"id\":\"86c9b8e8-4c03-40a1-bf7e-68854106d467\",\"type\":\"Circle\"},\"hover_glyph\":null,\"nonselection_glyph\":{\"id\":\"c7272e0f-e42d-49a1-bd48-74a69f670e6b\",\"type\":\"Circle\"},\"selection_glyph\":null},\"id\":\"c47b5c75-734f-469b-a44e-fabfdc737321\",\"type\":\"GlyphRenderer\"},{\"attributes\":{\"data_source\":{\"id\":\"95bbaa1a-9803-42ef-b041-3ff9999c6a60\",\"type\":\"ColumnDataSource\"},\"glyph\":{\"id\":\"a9058720-9a4d-4d83-ba4a-eff6e21310be\",\"type\":\"Line\"},\"hover_glyph\":null,\"nonselection_glyph\":{\"id\":\"46607537-699a-4b2c-a3ed-f56a35eaf552\",\"type\":\"Line\"},\"selection_glyph\":null},\"id\":\"da6df28e-df82-4dd6-b244-b775023fa0af\",\"type\":\"GlyphRenderer\"},{\"attributes\":{\"line_color\":{\"value\":\"#ffc400\"},\"x\":{\"field\":\"x\"},\"y\":{\"field\":\"y\"}},\"id\":\"a1243cbf-4ebe-482f-a941-d367ae6e5140\",\"type\":\"Line\"},{\"attributes\":{\"line_color\":{\"value\":\"#e8000b\"},\"x\":{\"field\":\"x\"},\"y\":{\"field\":\"y\"}},\"id\":\"a9058720-9a4d-4d83-ba4a-eff6e21310be\",\"type\":\"Line\"},{\"attributes\":{\"data_source\":{\"id\":\"77253c4d-126c-44ac-b004-31ea8ecc1250\",\"type\":\"ColumnDataSource\"},\"glyph\":{\"id\":\"1e3fe195-5645-4839-a571-3c92324c8bd1\",\"type\":\"Line\"},\"hover_glyph\":null,\"nonselection_glyph\":{\"id\":\"e2c9fcae-1415-4b4c-8e1a-4d3a57453fe5\",\"type\":\"Line\"},\"selection_glyph\":null},\"id\":\"9dc8fe2a-0d87-4b87-bc33-d315e4d3bddf\",\"type\":\"GlyphRenderer\"},{\"attributes\":{\"fill_alpha\":{\"value\":0.1},\"fill_color\":{\"value\":\"#1f77b4\"},\"line_alpha\":{\"value\":0.1},\"line_color\":{\"value\":\"#1f77b4\"},\"size\":{\"units\":\"screen\",\"value\":8},\"x\":{\"field\":\"x\"},\"y\":{\"field\":\"y\"}},\"id\":\"a6d7865e-2a60-4d4d-b345-b8ad4d22bac2\",\"type\":\"Circle\"},{\"attributes\":{\"callback\":null,\"column_names\":[\"x\",\"y\"],\"data\":{\"x\":{\"__ndarray__\":\"2HQLaSXE4j9qLt22BKDtPw==\",\"dtype\":\"float64\",\"shape\":[2]},\"y\":{\"__ndarray__\":\"AAAAAAAA4D8AAAAAAADwPw==\",\"dtype\":\"float64\",\"shape\":[2]}}},\"id\":\"72b6c063-0bc0-4e0b-afd9-acf09077d792\",\"type\":\"ColumnDataSource\"},{\"attributes\":{\"fill_color\":{\"value\":\"#03ed3a\"},\"size\":{\"units\":\"screen\",\"value\":8},\"x\":{\"field\":\"x\"},\"y\":{\"field\":\"y\"}},\"id\":\"0ad8090a-4f4e-45e5-a62f-fa587d9b6d2d\",\"type\":\"Circle\"},{\"attributes\":{\"formatter\":{\"id\":\"bbae5523-aaa4-4d78-bbfd-c1f3b4de4fc5\",\"type\":\"BasicTickFormatter\"},\"plot\":{\"id\":\"6de5fef9-7185-4814-88a3-d055cf4c8da3\",\"subtype\":\"Figure\",\"type\":\"Plot\"},\"ticker\":{\"id\":\"6d1e44ea-8ad6-490f-bb1d-70de24a11902\",\"type\":\"BasicTicker\"}},\"id\":\"171378eb-bdd1-41b2-988f-99796a0c95fb\",\"type\":\"LinearAxis\"},{\"attributes\":{\"callback\":null,\"column_names\":[\"x\",\"y\"],\"data\":{\"x\":{\"__ndarray__\":\"ArHBLXFv4j/shdqM1jHwPw==\",\"dtype\":\"float64\",\"shape\":[2]},\"y\":{\"__ndarray__\":\"AAAAAAAA4D8AAAAAAADwPw==\",\"dtype\":\"float64\",\"shape\":[2]}}},\"id\":\"78d8f26f-e422-4233-8aab-db274e8e5227\",\"type\":\"ColumnDataSource\"},{\"attributes\":{\"callback\":null,\"column_names\":[\"x\",\"y\"],\"data\":{\"x\":{\"__ndarray__\":\"sVLb3Zxr4T9ZvQVKrIjwPw==\",\"dtype\":\"float64\",\"shape\":[2]},\"y\":{\"__ndarray__\":\"AAAAAAAA4D8AAAAAAADwPw==\",\"dtype\":\"float64\",\"shape\":[2]}}},\"id\":\"f868cca6-4e1f-469d-bf4c-f9c3f703ca41\",\"type\":\"ColumnDataSource\"},{\"attributes\":{\"active_drag\":\"auto\",\"active_scroll\":\"auto\",\"active_tap\":\"auto\",\"tools\":[{\"id\":\"e3e14422-bffb-40fc-bd73-48a1da181d02\",\"type\":\"PanTool\"},{\"id\":\"46fd2e16-988f-490f-a5bc-7e67a9a95fb1\",\"type\":\"WheelZoomTool\"},{\"id\":\"c0e5a62a-ae61-43f6-a5d8-379ec2ed3e76\",\"type\":\"BoxZoomTool\"},{\"id\":\"a14de803-a7f5-4e60-b9f6-34903bc0febd\",\"type\":\"SaveTool\"},{\"id\":\"6060d1f2-dfac-4b89-85d8-f33e4dada0c8\",\"type\":\"ResetTool\"},{\"id\":\"94f7a1fa-c777-4f31-9a35-4c1ab4f4387e\",\"type\":\"HelpTool\"}]},\"id\":\"03ddfde6-977f-40c9-b828-e68ac2f73959\",\"type\":\"Toolbar\"},{\"attributes\":{\"data_source\":{\"id\":\"a742d915-1bb5-429c-a3ad-e84d745c3cfe\",\"type\":\"ColumnDataSource\"},\"glyph\":{\"id\":\"a1243cbf-4ebe-482f-a941-d367ae6e5140\",\"type\":\"Line\"},\"hover_glyph\":null,\"nonselection_glyph\":{\"id\":\"45b0354a-8c63-4f58-9834-c9d004ec375c\",\"type\":\"Line\"},\"selection_glyph\":null},\"id\":\"f367fad9-6581-405a-9d94-01140327f686\",\"type\":\"GlyphRenderer\"},{\"attributes\":{\"line_alpha\":{\"value\":0.1},\"line_color\":{\"value\":\"#1f77b4\"},\"x\":{\"field\":\"x\"},\"y\":{\"field\":\"y\"}},\"id\":\"b8a9bbe6-635a-4b7e-890a-5109868b6ca7\",\"type\":\"Line\"},{\"attributes\":{},\"id\":\"0a0e0a78-dd86-4cdd-9cc2-a4bdfc497900\",\"type\":\"BasicTicker\"},{\"attributes\":{\"data_source\":{\"id\":\"10be8630-d732-4de1-989e-bf2a1e1f497a\",\"type\":\"ColumnDataSource\"},\"glyph\":{\"id\":\"f1577e72-86af-4ffc-9849-25bd4dc31e40\",\"type\":\"Circle\"},\"hover_glyph\":null,\"nonselection_glyph\":{\"id\":\"d19b901a-ad4d-487c-82d7-92c84d7461f9\",\"type\":\"Circle\"},\"selection_glyph\":null},\"id\":\"d18134ba-1727-4ac3-99a6-f0274e7f95c2\",\"type\":\"GlyphRenderer\"},{\"attributes\":{\"callback\":null,\"column_names\":[\"x\",\"y\"],\"data\":{\"x\":{\"__ndarray__\":\"AAAAAAAAAAAAAAAAAAAAQA==\",\"dtype\":\"float64\",\"shape\":[2]},\"y\":{\"__ndarray__\":\"+1PBQIpc2z9m1rnxHZj2Pw==\",\"dtype\":\"float64\",\"shape\":[2]}}},\"id\":\"77253c4d-126c-44ac-b004-31ea8ecc1250\",\"type\":\"ColumnDataSource\"},{\"attributes\":{\"data_source\":{\"id\":\"05ec36ae-45ce-40e3-8c76-e85499436e21\",\"type\":\"ColumnDataSource\"},\"glyph\":{\"id\":\"a948e838-ec5d-480f-a4f8-4dc7ab8fdaba\",\"type\":\"Circle\"},\"hover_glyph\":null,\"nonselection_glyph\":{\"id\":\"0c76c9bd-f9c4-4d94-a544-3a9ef76b7948\",\"type\":\"Circle\"},\"selection_glyph\":null},\"id\":\"d398b106-0969-431e-a7e7-9e4009720ed3\",\"type\":\"GlyphRenderer\"},{\"attributes\":{\"line_color\":{\"value\":\"#8a2be2\"},\"x\":{\"field\":\"x\"},\"y\":{\"field\":\"y\"}},\"id\":\"19c9d792-6683-4377-ace1-358bf3e0fe20\",\"type\":\"Line\"},{\"attributes\":{\"line_color\":{\"value\":\"#00d7ff\"},\"x\":{\"field\":\"x\"},\"y\":{\"field\":\"y\"}},\"id\":\"1e3fe195-5645-4839-a571-3c92324c8bd1\",\"type\":\"Line\"},{\"attributes\":{\"data_source\":{\"id\":\"b5a3f2ce-cddc-4fec-8302-f6cf4ae2a983\",\"type\":\"ColumnDataSource\"},\"glyph\":{\"id\":\"19c9d792-6683-4377-ace1-358bf3e0fe20\",\"type\":\"Line\"},\"hover_glyph\":null,\"nonselection_glyph\":{\"id\":\"41ac4ca0-f16b-4405-8074-9908cb3ce4a0\",\"type\":\"Line\"},\"selection_glyph\":null},\"id\":\"76a6e491-80af-41d0-b8ce-f37c30566a53\",\"type\":\"GlyphRenderer\"},{\"attributes\":{},\"id\":\"bbae5523-aaa4-4d78-bbfd-c1f3b4de4fc5\",\"type\":\"BasicTickFormatter\"},{\"attributes\":{\"callback\":null,\"column_names\":[\"x\",\"y\"],\"data\":{\"x\":{\"__ndarray__\":\"ExRADncA4T81jCYkU0TtPw==\",\"dtype\":\"float64\",\"shape\":[2]},\"y\":{\"__ndarray__\":\"AAAAAAAA4D8AAAAAAADwPw==\",\"dtype\":\"float64\",\"shape\":[2]}}},\"id\":\"10be8630-d732-4de1-989e-bf2a1e1f497a\",\"type\":\"ColumnDataSource\"},{\"attributes\":{\"plot\":{\"id\":\"6de5fef9-7185-4814-88a3-d055cf4c8da3\",\"subtype\":\"Figure\",\"type\":\"Plot\"}},\"id\":\"e3e14422-bffb-40fc-bd73-48a1da181d02\",\"type\":\"PanTool\"},{\"attributes\":{\"callback\":null,\"column_names\":[\"x\",\"y\"],\"data\":{\"x\":{\"__ndarray__\":\"AAAAAAAAAAAAAAAAAAAAQA==\",\"dtype\":\"float64\",\"shape\":[2]},\"y\":{\"__ndarray__\":\"MA9yw68D0D9OkIT416P3Pw==\",\"dtype\":\"float64\",\"shape\":[2]}}},\"id\":\"b5a3f2ce-cddc-4fec-8302-f6cf4ae2a983\",\"type\":\"ColumnDataSource\"},{\"attributes\":{},\"id\":\"6d1e44ea-8ad6-490f-bb1d-70de24a11902\",\"type\":\"BasicTicker\"},{\"attributes\":{\"line_alpha\":{\"value\":0.1},\"line_color\":{\"value\":\"#1f77b4\"},\"x\":{\"field\":\"x\"},\"y\":{\"field\":\"y\"}},\"id\":\"e2c9fcae-1415-4b4c-8e1a-4d3a57453fe5\",\"type\":\"Line\"},{\"attributes\":{\"plot\":{\"id\":\"6de5fef9-7185-4814-88a3-d055cf4c8da3\",\"subtype\":\"Figure\",\"type\":\"Plot\"}},\"id\":\"a14de803-a7f5-4e60-b9f6-34903bc0febd\",\"type\":\"SaveTool\"},{\"attributes\":{\"line_alpha\":{\"value\":0.1},\"line_color\":{\"value\":\"#1f77b4\"},\"x\":{\"field\":\"x\"},\"y\":{\"field\":\"y\"}},\"id\":\"46607537-699a-4b2c-a3ed-f56a35eaf552\",\"type\":\"Line\"},{\"attributes\":{\"data_source\":{\"id\":\"78d8f26f-e422-4233-8aab-db274e8e5227\",\"type\":\"ColumnDataSource\"},\"glyph\":{\"id\":\"0ad8090a-4f4e-45e5-a62f-fa587d9b6d2d\",\"type\":\"Circle\"},\"hover_glyph\":null,\"nonselection_glyph\":{\"id\":\"a6d7865e-2a60-4d4d-b345-b8ad4d22bac2\",\"type\":\"Circle\"},\"selection_glyph\":null},\"id\":\"9ed8c9a7-1937-4be9-8115-aebcb9157b3b\",\"type\":\"GlyphRenderer\"},{\"attributes\":{\"callback\":null,\"column_names\":[\"x\",\"y\"],\"data\":{\"x\":{\"__ndarray__\":\"AAAAAAAAAAAAAAAAAAAAQA==\",\"dtype\":\"float64\",\"shape\":[2]},\"y\":{\"__ndarray__\":\"h60ltCgS0T93i2dR9973Pw==\",\"dtype\":\"float64\",\"shape\":[2]}}},\"id\":\"a742d915-1bb5-429c-a3ad-e84d745c3cfe\",\"type\":\"ColumnDataSource\"},{\"attributes\":{\"callback\":null,\"column_names\":[\"x\",\"y\"],\"data\":{\"x\":{\"__ndarray__\":\"AAAAAAAAAAAAAAAAAAAAQA==\",\"dtype\":\"float64\",\"shape\":[2]},\"y\":{\"__ndarray__\":\"XvkMu/Ao0j8qLDaxw0X4Pw==\",\"dtype\":\"float64\",\"shape\":[2]}}},\"id\":\"1838c332-1a08-4bff-9baa-897debdaafa8\",\"type\":\"ColumnDataSource\"},{\"attributes\":{\"fill_alpha\":{\"value\":0.1},\"fill_color\":{\"value\":\"#1f77b4\"},\"line_alpha\":{\"value\":0.1},\"line_color\":{\"value\":\"#1f77b4\"},\"size\":{\"units\":\"screen\",\"value\":8},\"x\":{\"field\":\"x\"},\"y\":{\"field\":\"y\"}},\"id\":\"6a815a9a-15e3-47b8-a081-8554f520ceed\",\"type\":\"Circle\"},{\"attributes\":{\"callback\":null},\"id\":\"1ba6d6f6-72ef-46fb-a9df-311f8d4e434f\",\"type\":\"DataRange1d\"},{\"attributes\":{\"bottom_units\":\"screen\",\"fill_alpha\":{\"value\":0.5},\"fill_color\":{\"value\":\"lightgrey\"},\"left_units\":\"screen\",\"level\":\"overlay\",\"line_alpha\":{\"value\":1.0},\"line_color\":{\"value\":\"black\"},\"line_dash\":[4,4],\"line_width\":{\"value\":2},\"plot\":null,\"render_mode\":\"css\",\"right_units\":\"screen\",\"top_units\":\"screen\"},\"id\":\"c37c00c4-7b77-4878-a043-afb190143094\",\"type\":\"BoxAnnotation\"},{\"attributes\":{\"data_source\":{\"id\":\"72b6c063-0bc0-4e0b-afd9-acf09077d792\",\"type\":\"ColumnDataSource\"},\"glyph\":{\"id\":\"534526e1-9247-487d-a61f-db2fddd1383a\",\"type\":\"Circle\"},\"hover_glyph\":null,\"nonselection_glyph\":{\"id\":\"5f351c1a-9f49-4095-9904-c6283c915e72\",\"type\":\"Circle\"},\"selection_glyph\":null},\"id\":\"291a2205-e4c7-46e6-9a14-e1ebb06aa08c\",\"type\":\"GlyphRenderer\"},{\"attributes\":{\"callback\":null,\"column_names\":[\"x\",\"y\"],\"data\":{\"x\":{\"__ndarray__\":\"AAAAAAAAAAAAAAAAAAAAQA==\",\"dtype\":\"float64\",\"shape\":[2]},\"y\":{\"__ndarray__\":\"eMuwkkFa0D9sXt7kiwP4Pw==\",\"dtype\":\"float64\",\"shape\":[2]}}},\"id\":\"3ce78bca-0d16-4d01-8faf-731189d4c27e\",\"type\":\"ColumnDataSource\"},{\"attributes\":{},\"id\":\"c83e1e0d-6631-4542-9cb2-0def6484d065\",\"type\":\"ToolEvents\"},{\"attributes\":{\"fill_alpha\":{\"value\":0.1},\"fill_color\":{\"value\":\"#1f77b4\"},\"line_alpha\":{\"value\":0.1},\"line_color\":{\"value\":\"#1f77b4\"},\"size\":{\"units\":\"screen\",\"value\":8},\"x\":{\"field\":\"x\"},\"y\":{\"field\":\"y\"}},\"id\":\"c7272e0f-e42d-49a1-bd48-74a69f670e6b\",\"type\":\"Circle\"},{\"attributes\":{\"callback\":null,\"column_names\":[\"x\",\"y\"],\"data\":{\"x\":{\"__ndarray__\":\"AAAAAAAAAAAAAAAAAAAAQA==\",\"dtype\":\"float64\",\"shape\":[2]},\"y\":{\"__ndarray__\":\"Wo6/Kb8b0z9YEJxjRsL4Pw==\",\"dtype\":\"float64\",\"shape\":[2]}}},\"id\":\"95bbaa1a-9803-42ef-b041-3ff9999c6a60\",\"type\":\"ColumnDataSource\"},{\"attributes\":{\"plot\":{\"id\":\"6de5fef9-7185-4814-88a3-d055cf4c8da3\",\"subtype\":\"Figure\",\"type\":\"Plot\"}},\"id\":\"46fd2e16-988f-490f-a5bc-7e67a9a95fb1\",\"type\":\"WheelZoomTool\"},{\"attributes\":{\"fill_color\":{\"value\":\"#00d7ff\"},\"size\":{\"units\":\"screen\",\"value\":8},\"x\":{\"field\":\"x\"},\"y\":{\"field\":\"y\"}},\"id\":\"82b1a099-358a-420e-9d46-a829dd4a507e\",\"type\":\"Circle\"},{\"attributes\":{\"fill_alpha\":{\"value\":0.1},\"fill_color\":{\"value\":\"#1f77b4\"},\"line_alpha\":{\"value\":0.1},\"line_color\":{\"value\":\"#1f77b4\"},\"size\":{\"units\":\"screen\",\"value\":8},\"x\":{\"field\":\"x\"},\"y\":{\"field\":\"y\"}},\"id\":\"5f351c1a-9f49-4095-9904-c6283c915e72\",\"type\":\"Circle\"},{\"attributes\":{\"dimension\":1,\"plot\":{\"id\":\"6de5fef9-7185-4814-88a3-d055cf4c8da3\",\"subtype\":\"Figure\",\"type\":\"Plot\"},\"ticker\":{\"id\":\"6d1e44ea-8ad6-490f-bb1d-70de24a11902\",\"type\":\"BasicTicker\"}},\"id\":\"8724f0d3-8e23-48df-9ace-efeddd27cc04\",\"type\":\"Grid\"},{\"attributes\":{\"fill_color\":{\"value\":\"#ffc400\"},\"size\":{\"units\":\"screen\",\"value\":8},\"x\":{\"field\":\"x\"},\"y\":{\"field\":\"y\"}},\"id\":\"86c9b8e8-4c03-40a1-bf7e-68854106d467\",\"type\":\"Circle\"},{\"attributes\":{\"fill_alpha\":{\"value\":0.1},\"fill_color\":{\"value\":\"#1f77b4\"},\"line_alpha\":{\"value\":0.1},\"line_color\":{\"value\":\"#1f77b4\"},\"size\":{\"units\":\"screen\",\"value\":8},\"x\":{\"field\":\"x\"},\"y\":{\"field\":\"y\"}},\"id\":\"0c76c9bd-f9c4-4d94-a544-3a9ef76b7948\",\"type\":\"Circle\"},{\"attributes\":{\"plot\":{\"id\":\"6de5fef9-7185-4814-88a3-d055cf4c8da3\",\"subtype\":\"Figure\",\"type\":\"Plot\"}},\"id\":\"6060d1f2-dfac-4b89-85d8-f33e4dada0c8\",\"type\":\"ResetTool\"},{\"attributes\":{\"fill_alpha\":{\"value\":0.1},\"fill_color\":{\"value\":\"#1f77b4\"},\"line_alpha\":{\"value\":0.1},\"line_color\":{\"value\":\"#1f77b4\"},\"size\":{\"units\":\"screen\",\"value\":8},\"x\":{\"field\":\"x\"},\"y\":{\"field\":\"y\"}},\"id\":\"d19b901a-ad4d-487c-82d7-92c84d7461f9\",\"type\":\"Circle\"},{\"attributes\":{\"overlay\":{\"id\":\"c37c00c4-7b77-4878-a043-afb190143094\",\"type\":\"BoxAnnotation\"},\"plot\":{\"id\":\"6de5fef9-7185-4814-88a3-d055cf4c8da3\",\"subtype\":\"Figure\",\"type\":\"Plot\"}},\"id\":\"c0e5a62a-ae61-43f6-a5d8-379ec2ed3e76\",\"type\":\"BoxZoomTool\"},{\"attributes\":{\"line_alpha\":{\"value\":0.1},\"line_color\":{\"value\":\"#1f77b4\"},\"x\":{\"field\":\"x\"},\"y\":{\"field\":\"y\"}},\"id\":\"45b0354a-8c63-4f58-9834-c9d004ec375c\",\"type\":\"Line\"},{\"attributes\":{\"data_source\":{\"id\":\"1838c332-1a08-4bff-9baa-897debdaafa8\",\"type\":\"ColumnDataSource\"},\"glyph\":{\"id\":\"b5c92577-f5ce-480a-93ef-f909c419bd62\",\"type\":\"Line\"},\"hover_glyph\":null,\"nonselection_glyph\":{\"id\":\"e96bdf1f-24d7-4ecf-a97f-b279ac46a719\",\"type\":\"Line\"},\"selection_glyph\":null},\"id\":\"9020e41c-3a4d-42be-b91f-2789dda66955\",\"type\":\"GlyphRenderer\"},{\"attributes\":{\"formatter\":{\"id\":\"8b2db412-0a92-496a-b304-f69addfcad38\",\"type\":\"BasicTickFormatter\"},\"plot\":{\"id\":\"6de5fef9-7185-4814-88a3-d055cf4c8da3\",\"subtype\":\"Figure\",\"type\":\"Plot\"},\"ticker\":{\"id\":\"0a0e0a78-dd86-4cdd-9cc2-a4bdfc497900\",\"type\":\"BasicTicker\"}},\"id\":\"5d2f68c8-fe39-4396-8188-38476c165704\",\"type\":\"LinearAxis\"},{\"attributes\":{\"fill_color\":{\"value\":\"#003fff\"},\"size\":{\"units\":\"screen\",\"value\":8},\"x\":{\"field\":\"x\"},\"y\":{\"field\":\"y\"}},\"id\":\"534526e1-9247-487d-a61f-db2fddd1383a\",\"type\":\"Circle\"},{\"attributes\":{\"plot\":{\"id\":\"6de5fef9-7185-4814-88a3-d055cf4c8da3\",\"subtype\":\"Figure\",\"type\":\"Plot\"},\"ticker\":{\"id\":\"0a0e0a78-dd86-4cdd-9cc2-a4bdfc497900\",\"type\":\"BasicTicker\"}},\"id\":\"858de734-83c3-49b0-9deb-421f57956c29\",\"type\":\"Grid\"}],\"root_ids\":[\"6de5fef9-7185-4814-88a3-d055cf4c8da3\"]},\"title\":\"Bokeh Application\",\"version\":\"0.12.4\"}};\n",
       "            var render_items = [{\"docid\":\"d8667b60-cdd4-4857-8700-094c516b32be\",\"elementid\":\"2ede3ed2-6e31-4f46-a151-79bffe05eb53\",\"modelid\":\"6de5fef9-7185-4814-88a3-d055cf4c8da3\"}];\n",
       "            \n",
       "            Bokeh.embed.embed_items(docs_json, render_items);\n",
       "          };\n",
       "          if (document.readyState != \"loading\") fn();\n",
       "          else document.addEventListener(\"DOMContentLoaded\", fn);\n",
       "        })();\n",
       "      },\n",
       "      function(Bokeh) {\n",
       "      }\n",
       "    ];\n",
       "  \n",
       "    function run_inline_js() {\n",
       "      \n",
       "      if ((window.Bokeh !== undefined) || (force === true)) {\n",
       "        for (var i = 0; i < inline_js.length; i++) {\n",
       "          inline_js[i](window.Bokeh);\n",
       "        }if (force === true) {\n",
       "          display_loaded();\n",
       "        }} else if (Date.now() < window._bokeh_timeout) {\n",
       "        setTimeout(run_inline_js, 100);\n",
       "      } else if (!window._bokeh_failed_load) {\n",
       "        console.log(\"Bokeh: BokehJS failed to load within specified timeout.\");\n",
       "        window._bokeh_failed_load = true;\n",
       "      } else if (force !== true) {\n",
       "        var cell = $(document.getElementById(\"2ede3ed2-6e31-4f46-a151-79bffe05eb53\")).parents('.cell').data().cell;\n",
       "        cell.output_area.append_execute_result(NB_LOAD_WARNING)\n",
       "      }\n",
       "  \n",
       "    }\n",
       "  \n",
       "    if (window._bokeh_is_loading === 0) {\n",
       "      console.log(\"Bokeh: BokehJS loaded, going straight to plotting\");\n",
       "      run_inline_js();\n",
       "    } else {\n",
       "      load_libs(js_urls, function() {\n",
       "        console.log(\"Bokeh: BokehJS plotting callback run at\", now());\n",
       "        run_inline_js();\n",
       "      });\n",
       "    }\n",
       "  }(this));\n",
       "</script>"
      ]
     },
     "metadata": {},
     "output_type": "display_data"
    }
   ],
   "source": [
    "regr = linear_model.Ridge(alpha=0.08)\n",
    "\n",
    "fig = bk.figure(plot_width=400, plot_height=300, title=None)\n",
    "for i in range(6):\n",
    "    noise = np.random.normal(loc=0, scale=.1, size=X.shape)\n",
    "    noisy_X = X + noise\n",
    "    regr.fit(noisy_X, y)\n",
    "    fig.circle(noisy_X[:,0], y, size=8, color=cat_colors[i], line_color='black')\n",
    "    fig.line(X_test[:,0], regr.predict(X_test), color=cat_colors[i])\n",
    "bk.show(fig)"
   ]
  },
  {
   "cell_type": "markdown",
   "metadata": {},
   "source": [
    "As we can see, the estimator displays much less variance. However it systematically under-estimates the coefficient. It displays a biased behavior. As explained earlier we changed the tradeoff between Bias and Variance with regularization. Changing one quantity (for example decreasing Variance) inevitably increases the other (Bias). \n",
    "\n",
    "With the next examples we will try to answer the following question: **If our estimator is underperforming, how should we move forward?**\n",
    "\n",
    "- Do I need a Simple or more Complicated Model ?\n",
    "- Do I need More Training Samples ?\n",
    "- Do I need more features for each observed data point ?\n",
    "\n",
    "The answer is often counter-intuitive. In particular, **Sometimes using a more complicated model will give _worse_ results.**  Also, **Sometimes adding training data will not improve your results.**  The ability to determine what steps will improve your model is what separates the successful machine learning practitioners from the unsuccessful."
   ]
  },
  {
   "cell_type": "markdown",
   "metadata": {},
   "source": [
    "## 2 Regularization: what it is and why it is necessary"
   ]
  },
  {
   "cell_type": "markdown",
   "metadata": {},
   "source": [
    "**The core idea behind regularization is that we are going to prefer models that are simpler**, even if they lead to more errors on the training set. We start by defining a 9th order polynomial function. This represents our 'ground truth'. You can imagine it like a signal measured at diffrent times:"
   ]
  },
  {
   "cell_type": "code",
   "execution_count": 12,
   "metadata": {
    "collapsed": false
   },
   "outputs": [],
   "source": [
    "f = lambda t: 1.2*t**2 + 0.1*t**3 - 0.6*t**5 - 0.8*t**9\n",
    "gt_coeff = [0, 0, 1.2, 0.1, 0., -0.6, 0., 0., 0., -0.8]"
   ]
  },
  {
   "cell_type": "markdown",
   "metadata": {},
   "source": [
    "Unfortunately in real life situation every signal is affected by a measurement error; in this example we simulate it with the variable `noise_level`. Our ground truth is a 9th order polynomial.\n",
    "\n",
    "At first it would seem an obvius choice to use a 9th order polynomial to fit the signal. If you play a little with the following code you will discover that not using a regularization technique (`LinearRegression` doesn't allow any regularization), most of the time could be a bad choice, and a simpler (lower-order) model it is much better to avoid overfitting.\n",
    "\n",
    "Try to change the following variables:\n",
    "\n",
    "* `orders`: orders of the polynomials to fit\n",
    "* `n_samples`: when the number of the samples is small it's difficult to fit a high-order model and you have overfitting\n",
    "* `noise_level`: whit very low noise it's easier to fit higher-order polynomials\n",
    "\n",
    "*Keep in mind that we didn't fix the random generator seed, so every time you run the cell you'll have a different noise distribution on the samples*.\n",
    "\n",
    "**As you can see we use a linear algorithm to fit a nonlinear function, this is possible because we use the linear algorithm to fit the nonlinear coefficients that we define in the regressors**."
   ]
  },
  {
   "cell_type": "code",
   "execution_count": 13,
   "metadata": {
    "collapsed": false
   },
   "outputs": [
    {
     "name": "stdout",
     "output_type": "stream",
     "text": [
      "Ground Truth coeff.:   +0.0  +0.0  +1.2  +0.1  +0.0  -0.6  +0.0  +0.0  +0.0  -0.8\n",
      "LinReg coefficients:   +0.0  -0.9  +4.3 +11.6 -18.2 -42.8 +35.3 +61.7 -21.4 -31.9\n"
     ]
    },
    {
     "data": {
      "text/html": [
       "\n",
       "\n",
       "    <div class=\"bk-root\">\n",
       "        <div class=\"bk-plotdiv\" id=\"7a836a39-c7c1-4a93-91d5-f0f17f5c742b\"></div>\n",
       "    </div>\n",
       "<script type=\"text/javascript\">\n",
       "  \n",
       "  (function(global) {\n",
       "    function now() {\n",
       "      return new Date();\n",
       "    }\n",
       "  \n",
       "    var force = false;\n",
       "  \n",
       "    if (typeof (window._bokeh_onload_callbacks) === \"undefined\" || force === true) {\n",
       "      window._bokeh_onload_callbacks = [];\n",
       "      window._bokeh_is_loading = undefined;\n",
       "    }\n",
       "  \n",
       "  \n",
       "    \n",
       "    if (typeof (window._bokeh_timeout) === \"undefined\" || force === true) {\n",
       "      window._bokeh_timeout = Date.now() + 0;\n",
       "      window._bokeh_failed_load = false;\n",
       "    }\n",
       "  \n",
       "    var NB_LOAD_WARNING = {'data': {'text/html':\n",
       "       \"<div style='background-color: #fdd'>\\n\"+\n",
       "       \"<p>\\n\"+\n",
       "       \"BokehJS does not appear to have successfully loaded. If loading BokehJS from CDN, this \\n\"+\n",
       "       \"may be due to a slow or bad network connection. Possible fixes:\\n\"+\n",
       "       \"</p>\\n\"+\n",
       "       \"<ul>\\n\"+\n",
       "       \"<li>re-rerun `output_notebook()` to attempt to load from CDN again, or</li>\\n\"+\n",
       "       \"<li>use INLINE resources instead, as so:</li>\\n\"+\n",
       "       \"</ul>\\n\"+\n",
       "       \"<code>\\n\"+\n",
       "       \"from bokeh.resources import INLINE\\n\"+\n",
       "       \"output_notebook(resources=INLINE)\\n\"+\n",
       "       \"</code>\\n\"+\n",
       "       \"</div>\"}};\n",
       "  \n",
       "    function display_loaded() {\n",
       "      if (window.Bokeh !== undefined) {\n",
       "        document.getElementById(\"7a836a39-c7c1-4a93-91d5-f0f17f5c742b\").textContent = \"BokehJS successfully loaded.\";\n",
       "      } else if (Date.now() < window._bokeh_timeout) {\n",
       "        setTimeout(display_loaded, 100)\n",
       "      }\n",
       "    }\n",
       "  \n",
       "    function run_callbacks() {\n",
       "      window._bokeh_onload_callbacks.forEach(function(callback) { callback() });\n",
       "      delete window._bokeh_onload_callbacks\n",
       "      console.info(\"Bokeh: all callbacks have finished\");\n",
       "    }\n",
       "  \n",
       "    function load_libs(js_urls, callback) {\n",
       "      window._bokeh_onload_callbacks.push(callback);\n",
       "      if (window._bokeh_is_loading > 0) {\n",
       "        console.log(\"Bokeh: BokehJS is being loaded, scheduling callback at\", now());\n",
       "        return null;\n",
       "      }\n",
       "      if (js_urls == null || js_urls.length === 0) {\n",
       "        run_callbacks();\n",
       "        return null;\n",
       "      }\n",
       "      console.log(\"Bokeh: BokehJS not loaded, scheduling load and callback at\", now());\n",
       "      window._bokeh_is_loading = js_urls.length;\n",
       "      for (var i = 0; i < js_urls.length; i++) {\n",
       "        var url = js_urls[i];\n",
       "        var s = document.createElement('script');\n",
       "        s.src = url;\n",
       "        s.async = false;\n",
       "        s.onreadystatechange = s.onload = function() {\n",
       "          window._bokeh_is_loading--;\n",
       "          if (window._bokeh_is_loading === 0) {\n",
       "            console.log(\"Bokeh: all BokehJS libraries loaded\");\n",
       "            run_callbacks()\n",
       "          }\n",
       "        };\n",
       "        s.onerror = function() {\n",
       "          console.warn(\"failed to load library \" + url);\n",
       "        };\n",
       "        console.log(\"Bokeh: injecting script tag for BokehJS library: \", url);\n",
       "        document.getElementsByTagName(\"head\")[0].appendChild(s);\n",
       "      }\n",
       "    };var element = document.getElementById(\"7a836a39-c7c1-4a93-91d5-f0f17f5c742b\");\n",
       "    if (element == null) {\n",
       "      console.log(\"Bokeh: ERROR: autoload.js configured with elementid '7a836a39-c7c1-4a93-91d5-f0f17f5c742b' but no matching script tag was found. \")\n",
       "      return false;\n",
       "    }\n",
       "  \n",
       "    var js_urls = [];\n",
       "  \n",
       "    var inline_js = [\n",
       "      function(Bokeh) {\n",
       "        (function() {\n",
       "          var fn = function() {\n",
       "            var docs_json = {\"f5b25c7e-0b56-4a45-92c9-7e873958df77\":{\"roots\":{\"references\":[{\"attributes\":{},\"id\":\"1c8089dc-b681-48bf-bdc1-4c05227dca22\",\"type\":\"BasicTicker\"},{\"attributes\":{\"line_alpha\":{\"value\":0.1},\"line_color\":{\"value\":\"#1f77b4\"},\"line_width\":{\"value\":4.0},\"x\":{\"field\":\"x\"},\"y\":{\"field\":\"y\"}},\"id\":\"2823455d-f1cd-481f-af88-ee1ca9a7ee56\",\"type\":\"Line\"},{\"attributes\":{\"items\":[{\"id\":\"f79265e5-a52b-4d9c-9d17-65b4a4a0cb87\",\"type\":\"LegendItem\"},{\"id\":\"2b3297d0-8920-4354-9603-2f89acfbcd19\",\"type\":\"LegendItem\"},{\"id\":\"c8c1ea1e-125d-4622-bddb-d4be443547c3\",\"type\":\"LegendItem\"}],\"label_text_font_size\":{\"value\":\"14pt\"},\"location\":\"top_left\",\"plot\":{\"id\":\"dae0895b-a2aa-406b-ac63-0b808c803edf\",\"subtype\":\"Figure\",\"type\":\"Plot\"}},\"id\":\"fe259b66-ca45-4f38-b628-dde99a57b586\",\"type\":\"Legend\"},{\"attributes\":{\"fill_alpha\":{\"value\":0.1},\"fill_color\":{\"value\":\"#1f77b4\"},\"line_alpha\":{\"value\":0.1},\"line_color\":{\"value\":\"#1f77b4\"},\"size\":{\"units\":\"screen\",\"value\":8},\"x\":{\"field\":\"x\"},\"y\":{\"field\":\"y\"}},\"id\":\"8c8bee27-2258-461a-b88b-2b352a66788c\",\"type\":\"Circle\"},{\"attributes\":{\"data_source\":{\"id\":\"41baabce-e0e6-4921-85a6-56ee07961d06\",\"type\":\"ColumnDataSource\"},\"glyph\":{\"id\":\"81df75b2-5e59-4f17-a744-521655d627c3\",\"type\":\"Line\"},\"hover_glyph\":null,\"nonselection_glyph\":{\"id\":\"551d1dee-759a-4c9b-96e7-2d1134909c88\",\"type\":\"Line\"},\"selection_glyph\":null},\"id\":\"6fd670ac-3afe-45da-9791-eb4c3742e5cc\",\"type\":\"GlyphRenderer\"},{\"attributes\":{\"formatter\":{\"id\":\"b0b4a3d2-a2d1-4327-a70c-76be088ab894\",\"type\":\"BasicTickFormatter\"},\"plot\":{\"id\":\"dae0895b-a2aa-406b-ac63-0b808c803edf\",\"subtype\":\"Figure\",\"type\":\"Plot\"},\"ticker\":{\"id\":\"6912e038-40d2-4e08-906b-7602312c63e3\",\"type\":\"BasicTicker\"}},\"id\":\"93906fa3-52d4-4c86-8611-4412daa4d372\",\"type\":\"LinearAxis\"},{\"attributes\":{\"plot\":{\"id\":\"dae0895b-a2aa-406b-ac63-0b808c803edf\",\"subtype\":\"Figure\",\"type\":\"Plot\"},\"ticker\":{\"id\":\"1c8089dc-b681-48bf-bdc1-4c05227dca22\",\"type\":\"BasicTicker\"}},\"id\":\"589fe88c-b936-4175-a001-9957803f9508\",\"type\":\"Grid\"},{\"attributes\":{\"line_color\":{\"value\":\"green\"},\"line_width\":{\"value\":3.0},\"x\":{\"field\":\"x\"},\"y\":{\"field\":\"y\"}},\"id\":\"81df75b2-5e59-4f17-a744-521655d627c3\",\"type\":\"Line\"},{\"attributes\":{\"callback\":null,\"column_names\":[\"x\",\"y\"],\"data\":{\"x\":{\"__ndarray__\":\"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\",\"dtype\":\"float64\",\"shape\":[200]},\"y\":{\"__ndarray__\":\"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\",\"dtype\":\"float64\",\"shape\":[200]}}},\"id\":\"ef3480b5-a1a1-4064-b917-ac9c432f5522\",\"type\":\"ColumnDataSource\"},{\"attributes\":{},\"id\":\"ef36f4f7-a7c1-4678-a0e9-065e3af55721\",\"type\":\"ToolEvents\"},{\"attributes\":{\"callback\":null,\"column_names\":[\"x\",\"y\"],\"data\":{\"x\":{\"__ndarray__\":\"UGpLI1m0zL+IJBFmX2naP/6j3L6dmPG/ALqdfTnE3b/btmpwh1bpvyn+d0Gu/uy/nDwkp+2u5r/Q9CU/5vTXvwBvSEAPE9G/oBxYq8AioD+MJUYK2h7Mv9jGnEWJsdU/7jITkfd15b9oSIfZOs/nP4j/WtsFrvC/LF70LPm10z886Dxa46DMv/CXJEBswLI/GrNPbRjE6b+q80JwOOPlv67SNkErnOI/8D++Xv/d7T98ewo0mkbcv2x4tMjtpdY/hvAQdH+x5z8=\",\"dtype\":\"float64\",\"shape\":[25]},\"y\":{\"__ndarray__\":\"t8XmNxdKxT+5FyFE0b/HP8movBszMhJAF9TBh20X1T9BXYVrp3PzP7BjiAUsF/Y/yWtVbNFO4T8J3K6WbwPXP2adJoyl6aQ/X1cWd//XoD8YZaq8Nq3NP4i9FUDv470/xkfUXqHw2T/tx6p2oOXTP2BCAv70DAdA5cN0+mCHzz8yp0BGZO+nP9VtzKQc19W/89xyvT8D8T8wjY3N7azgPwr+Fxmg0ds/qBecwXhpqz9Kds309T29P6cU2mAkNss/qs2G+Ysx6z8=\",\"dtype\":\"float64\",\"shape\":[25]}}},\"id\":\"32fc09c0-1bdd-4fa2-81e4-c079d66b5166\",\"type\":\"ColumnDataSource\"},{\"attributes\":{},\"id\":\"6912e038-40d2-4e08-906b-7602312c63e3\",\"type\":\"BasicTicker\"},{\"attributes\":{\"below\":[{\"id\":\"4f54120a-9bb2-4170-8efd-f2d970d030df\",\"type\":\"LinearAxis\"}],\"left\":[{\"id\":\"93906fa3-52d4-4c86-8611-4412daa4d372\",\"type\":\"LinearAxis\"}],\"plot_height\":400,\"plot_width\":700,\"renderers\":[{\"id\":\"4f54120a-9bb2-4170-8efd-f2d970d030df\",\"type\":\"LinearAxis\"},{\"id\":\"589fe88c-b936-4175-a001-9957803f9508\",\"type\":\"Grid\"},{\"id\":\"93906fa3-52d4-4c86-8611-4412daa4d372\",\"type\":\"LinearAxis\"},{\"id\":\"f0ddf02f-7a2d-426a-bc7c-b103eb1e7d38\",\"type\":\"Grid\"},{\"id\":\"84610761-dac8-498d-afcd-1c3bd6ac4728\",\"type\":\"BoxAnnotation\"},{\"id\":\"6637e20e-56aa-4d26-85fc-0dbc6abcd935\",\"type\":\"GlyphRenderer\"},{\"id\":\"fe259b66-ca45-4f38-b628-dde99a57b586\",\"type\":\"Legend\"},{\"id\":\"6fd670ac-3afe-45da-9791-eb4c3742e5cc\",\"type\":\"GlyphRenderer\"},{\"id\":\"e15810c4-d2e2-438f-bf1e-16fafcbe911b\",\"type\":\"GlyphRenderer\"},{\"id\":\"3dbf375c-67ce-4071-bde8-52fdc0813e66\",\"type\":\"GlyphRenderer\"}],\"title\":{\"id\":\"60bcde4e-df48-47ad-b9a1-444552af28fa\",\"type\":\"Title\"},\"tool_events\":{\"id\":\"ef36f4f7-a7c1-4678-a0e9-065e3af55721\",\"type\":\"ToolEvents\"},\"toolbar\":{\"id\":\"eddae87d-6d4f-4b45-97a1-86632849609f\",\"type\":\"Toolbar\"},\"x_range\":{\"id\":\"e7d5399b-42f5-4969-bfb0-8873b439f7ff\",\"type\":\"DataRange1d\"},\"y_range\":{\"id\":\"21907d7a-2c53-4eb9-84ce-bdefdc4922b8\",\"type\":\"DataRange1d\"}},\"id\":\"dae0895b-a2aa-406b-ac63-0b808c803edf\",\"subtype\":\"Figure\",\"type\":\"Plot\"},{\"attributes\":{\"plot\":{\"id\":\"dae0895b-a2aa-406b-ac63-0b808c803edf\",\"subtype\":\"Figure\",\"type\":\"Plot\"}},\"id\":\"0969d823-de0e-4c8f-9dc4-bac49e895dea\",\"type\":\"SaveTool\"},{\"attributes\":{\"data_source\":{\"id\":\"32fc09c0-1bdd-4fa2-81e4-c079d66b5166\",\"type\":\"ColumnDataSource\"},\"glyph\":{\"id\":\"7854ac2d-0066-4f39-8e89-a3ec6c6e6ede\",\"type\":\"Circle\"},\"hover_glyph\":null,\"nonselection_glyph\":{\"id\":\"8c8bee27-2258-461a-b88b-2b352a66788c\",\"type\":\"Circle\"},\"selection_glyph\":null},\"id\":\"6637e20e-56aa-4d26-85fc-0dbc6abcd935\",\"type\":\"GlyphRenderer\"},{\"attributes\":{\"data_source\":{\"id\":\"a53df44b-6eb4-4656-ac37-c9b4dee31b58\",\"type\":\"ColumnDataSource\"},\"glyph\":{\"id\":\"94d65356-b55c-494a-9799-53e3c6fc8703\",\"type\":\"Line\"},\"hover_glyph\":null,\"nonselection_glyph\":{\"id\":\"ef12bc33-25f0-439f-859a-4d976269d100\",\"type\":\"Line\"},\"selection_glyph\":null},\"id\":\"e15810c4-d2e2-438f-bf1e-16fafcbe911b\",\"type\":\"GlyphRenderer\"},{\"attributes\":{\"plot\":{\"id\":\"dae0895b-a2aa-406b-ac63-0b808c803edf\",\"subtype\":\"Figure\",\"type\":\"Plot\"}},\"id\":\"920c4bb4-8bbe-470d-9079-af3a8950ae8f\",\"type\":\"HelpTool\"},{\"attributes\":{\"label\":{\"value\":\"linreg order: 09\"},\"renderers\":[{\"id\":\"e15810c4-d2e2-438f-bf1e-16fafcbe911b\",\"type\":\"GlyphRenderer\"}]},\"id\":\"2b3297d0-8920-4354-9603-2f89acfbcd19\",\"type\":\"LegendItem\"},{\"attributes\":{\"active_drag\":\"auto\",\"active_scroll\":\"auto\",\"active_tap\":\"auto\",\"tools\":[{\"id\":\"a5bd013f-708c-483c-b0e3-d2e4b49f2f09\",\"type\":\"PanTool\"},{\"id\":\"baa24f6f-9700-4765-8df0-1a48e03faf3b\",\"type\":\"WheelZoomTool\"},{\"id\":\"0dd6982d-c301-4d8f-a261-36f22741ee2f\",\"type\":\"BoxZoomTool\"},{\"id\":\"0969d823-de0e-4c8f-9dc4-bac49e895dea\",\"type\":\"SaveTool\"},{\"id\":\"f5f35ae6-27cc-446d-8407-b3b9f165cf36\",\"type\":\"ResetTool\"},{\"id\":\"920c4bb4-8bbe-470d-9079-af3a8950ae8f\",\"type\":\"HelpTool\"}]},\"id\":\"eddae87d-6d4f-4b45-97a1-86632849609f\",\"type\":\"Toolbar\"},{\"attributes\":{\"dimension\":1,\"plot\":{\"id\":\"dae0895b-a2aa-406b-ac63-0b808c803edf\",\"subtype\":\"Figure\",\"type\":\"Plot\"},\"ticker\":{\"id\":\"6912e038-40d2-4e08-906b-7602312c63e3\",\"type\":\"BasicTicker\"}},\"id\":\"f0ddf02f-7a2d-426a-bc7c-b103eb1e7d38\",\"type\":\"Grid\"},{\"attributes\":{\"plot\":{\"id\":\"dae0895b-a2aa-406b-ac63-0b808c803edf\",\"subtype\":\"Figure\",\"type\":\"Plot\"}},\"id\":\"baa24f6f-9700-4765-8df0-1a48e03faf3b\",\"type\":\"WheelZoomTool\"},{\"attributes\":{\"line_color\":{\"value\":\"red\"},\"line_width\":{\"value\":4.0},\"x\":{\"field\":\"x\"},\"y\":{\"field\":\"y\"}},\"id\":\"5fe74c0e-b4ac-46d0-899e-02db439ce112\",\"type\":\"Line\"},{\"attributes\":{\"label\":{\"value\":\"linreg order: 04\"},\"renderers\":[{\"id\":\"6fd670ac-3afe-45da-9791-eb4c3742e5cc\",\"type\":\"GlyphRenderer\"}]},\"id\":\"f79265e5-a52b-4d9c-9d17-65b4a4a0cb87\",\"type\":\"LegendItem\"},{\"attributes\":{\"data_source\":{\"id\":\"ef3480b5-a1a1-4064-b917-ac9c432f5522\",\"type\":\"ColumnDataSource\"},\"glyph\":{\"id\":\"5fe74c0e-b4ac-46d0-899e-02db439ce112\",\"type\":\"Line\"},\"hover_glyph\":null,\"nonselection_glyph\":{\"id\":\"2823455d-f1cd-481f-af88-ee1ca9a7ee56\",\"type\":\"Line\"},\"selection_glyph\":null},\"id\":\"3dbf375c-67ce-4071-bde8-52fdc0813e66\",\"type\":\"GlyphRenderer\"},{\"attributes\":{\"bottom_units\":\"screen\",\"fill_alpha\":{\"value\":0.5},\"fill_color\":{\"value\":\"lightgrey\"},\"left_units\":\"screen\",\"level\":\"overlay\",\"line_alpha\":{\"value\":1.0},\"line_color\":{\"value\":\"black\"},\"line_dash\":[4,4],\"line_width\":{\"value\":2},\"plot\":null,\"render_mode\":\"css\",\"right_units\":\"screen\",\"top_units\":\"screen\"},\"id\":\"84610761-dac8-498d-afcd-1c3bd6ac4728\",\"type\":\"BoxAnnotation\"},{\"attributes\":{\"callback\":null},\"id\":\"21907d7a-2c53-4eb9-84ce-bdefdc4922b8\",\"type\":\"DataRange1d\"},{\"attributes\":{\"plot\":{\"id\":\"dae0895b-a2aa-406b-ac63-0b808c803edf\",\"subtype\":\"Figure\",\"type\":\"Plot\"}},\"id\":\"a5bd013f-708c-483c-b0e3-d2e4b49f2f09\",\"type\":\"PanTool\"},{\"attributes\":{\"fill_alpha\":{\"value\":0.4},\"fill_color\":{\"value\":\"#1f77b4\"},\"line_color\":{\"value\":\"#1f77b4\"},\"size\":{\"units\":\"screen\",\"value\":8},\"x\":{\"field\":\"x\"},\"y\":{\"field\":\"y\"}},\"id\":\"7854ac2d-0066-4f39-8e89-a3ec6c6e6ede\",\"type\":\"Circle\"},{\"attributes\":{\"label\":{\"value\":\"truth\"},\"renderers\":[{\"id\":\"3dbf375c-67ce-4071-bde8-52fdc0813e66\",\"type\":\"GlyphRenderer\"}]},\"id\":\"c8c1ea1e-125d-4622-bddb-d4be443547c3\",\"type\":\"LegendItem\"},{\"attributes\":{\"plot\":{\"id\":\"dae0895b-a2aa-406b-ac63-0b808c803edf\",\"subtype\":\"Figure\",\"type\":\"Plot\"}},\"id\":\"f5f35ae6-27cc-446d-8407-b3b9f165cf36\",\"type\":\"ResetTool\"},{\"attributes\":{\"overlay\":{\"id\":\"84610761-dac8-498d-afcd-1c3bd6ac4728\",\"type\":\"BoxAnnotation\"},\"plot\":{\"id\":\"dae0895b-a2aa-406b-ac63-0b808c803edf\",\"subtype\":\"Figure\",\"type\":\"Plot\"}},\"id\":\"0dd6982d-c301-4d8f-a261-36f22741ee2f\",\"type\":\"BoxZoomTool\"},{\"attributes\":{\"callback\":null},\"id\":\"e7d5399b-42f5-4969-bfb0-8873b439f7ff\",\"type\":\"DataRange1d\"},{\"attributes\":{\"line_color\":{\"value\":\"royalblue\"},\"line_width\":{\"value\":3.0},\"x\":{\"field\":\"x\"},\"y\":{\"field\":\"y\"}},\"id\":\"94d65356-b55c-494a-9799-53e3c6fc8703\",\"type\":\"Line\"},{\"attributes\":{\"line_alpha\":{\"value\":0.1},\"line_color\":{\"value\":\"#1f77b4\"},\"line_width\":{\"value\":3.0},\"x\":{\"field\":\"x\"},\"y\":{\"field\":\"y\"}},\"id\":\"551d1dee-759a-4c9b-96e7-2d1134909c88\",\"type\":\"Line\"},{\"attributes\":{\"plot\":null,\"text\":\"4th and a 9th order polynomial with Ground truth\"},\"id\":\"60bcde4e-df48-47ad-b9a1-444552af28fa\",\"type\":\"Title\"},{\"attributes\":{\"line_alpha\":{\"value\":0.1},\"line_color\":{\"value\":\"#1f77b4\"},\"line_width\":{\"value\":3.0},\"x\":{\"field\":\"x\"},\"y\":{\"field\":\"y\"}},\"id\":\"ef12bc33-25f0-439f-859a-4d976269d100\",\"type\":\"Line\"},{\"attributes\":{},\"id\":\"e88734e8-7b28-4d25-aac1-df74d45b7dfe\",\"type\":\"BasicTickFormatter\"},{\"attributes\":{\"callback\":null,\"column_names\":[\"x\",\"y\"],\"data\":{\"x\":{\"__ndarray__\":\"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\",\"dtype\":\"float64\",\"shape\":[200]},\"y\":{\"__ndarray__\":\"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\",\"dtype\":\"float64\",\"shape\":[200]}}},\"id\":\"a53df44b-6eb4-4656-ac37-c9b4dee31b58\",\"type\":\"ColumnDataSource\"},{\"attributes\":{\"callback\":null,\"column_names\":[\"x\",\"y\"],\"data\":{\"x\":{\"__ndarray__\":\"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\",\"dtype\":\"float64\",\"shape\":[200]},\"y\":{\"__ndarray__\":\"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\",\"dtype\":\"float64\",\"shape\":[200]}}},\"id\":\"41baabce-e0e6-4921-85a6-56ee07961d06\",\"type\":\"ColumnDataSource\"},{\"attributes\":{},\"id\":\"b0b4a3d2-a2d1-4327-a70c-76be088ab894\",\"type\":\"BasicTickFormatter\"},{\"attributes\":{\"formatter\":{\"id\":\"e88734e8-7b28-4d25-aac1-df74d45b7dfe\",\"type\":\"BasicTickFormatter\"},\"plot\":{\"id\":\"dae0895b-a2aa-406b-ac63-0b808c803edf\",\"subtype\":\"Figure\",\"type\":\"Plot\"},\"ticker\":{\"id\":\"1c8089dc-b681-48bf-bdc1-4c05227dca22\",\"type\":\"BasicTicker\"}},\"id\":\"4f54120a-9bb2-4170-8efd-f2d970d030df\",\"type\":\"LinearAxis\"}],\"root_ids\":[\"dae0895b-a2aa-406b-ac63-0b808c803edf\"]},\"title\":\"Bokeh Application\",\"version\":\"0.12.4\"}};\n",
       "            var render_items = [{\"docid\":\"f5b25c7e-0b56-4a45-92c9-7e873958df77\",\"elementid\":\"7a836a39-c7c1-4a93-91d5-f0f17f5c742b\",\"modelid\":\"dae0895b-a2aa-406b-ac63-0b808c803edf\"}];\n",
       "            \n",
       "            Bokeh.embed.embed_items(docs_json, render_items);\n",
       "          };\n",
       "          if (document.readyState != \"loading\") fn();\n",
       "          else document.addEventListener(\"DOMContentLoaded\", fn);\n",
       "        })();\n",
       "      },\n",
       "      function(Bokeh) {\n",
       "      }\n",
       "    ];\n",
       "  \n",
       "    function run_inline_js() {\n",
       "      \n",
       "      if ((window.Bokeh !== undefined) || (force === true)) {\n",
       "        for (var i = 0; i < inline_js.length; i++) {\n",
       "          inline_js[i](window.Bokeh);\n",
       "        }if (force === true) {\n",
       "          display_loaded();\n",
       "        }} else if (Date.now() < window._bokeh_timeout) {\n",
       "        setTimeout(run_inline_js, 100);\n",
       "      } else if (!window._bokeh_failed_load) {\n",
       "        console.log(\"Bokeh: BokehJS failed to load within specified timeout.\");\n",
       "        window._bokeh_failed_load = true;\n",
       "      } else if (force !== true) {\n",
       "        var cell = $(document.getElementById(\"7a836a39-c7c1-4a93-91d5-f0f17f5c742b\")).parents('.cell').data().cell;\n",
       "        cell.output_area.append_execute_result(NB_LOAD_WARNING)\n",
       "      }\n",
       "  \n",
       "    }\n",
       "  \n",
       "    if (window._bokeh_is_loading === 0) {\n",
       "      console.log(\"Bokeh: BokehJS loaded, going straight to plotting\");\n",
       "      run_inline_js();\n",
       "    } else {\n",
       "      load_libs(js_urls, function() {\n",
       "        console.log(\"Bokeh: BokehJS plotting callback run at\", now());\n",
       "        run_inline_js();\n",
       "      });\n",
       "    }\n",
       "  }(this));\n",
       "</script>"
      ]
     },
     "metadata": {},
     "output_type": "display_data"
    }
   ],
   "source": [
    "tmin, tmax = -1.1, 1.0\n",
    "n_samples = 25\n",
    "noise_level = 0.2\n",
    "orders = [4, 9]\n",
    "np.random.seed(1)\n",
    "t = tmin + np.random.rand(n_samples) * (tmax-tmin)              # Sample points\n",
    "y_noisy = f(t) + noise_level*np.random.normal(size=n_samples)   # Noisy measure\n",
    "\n",
    "fig = bk.figure(plot_width=700, plot_height=400,\n",
    "                title='4th and a 9th order polynomial with Ground truth')\n",
    "fig.circle(t, y_noisy, size=8, fill_alpha=0.4)\n",
    "\n",
    "p = np.linspace(tmin, tmax, 200)                                # Array to calc. the prediction\n",
    "colors = ['royalblue', 'green']\n",
    "for order in orders:\n",
    "    X = np.array([t**i for i in range(order+1)]).T              # Regressor\n",
    "    Xp = np.array([p**i for i in range(order+1)]).T             # Regressor for prediction\n",
    "    poly_linreg = linear_model.LinearRegression().fit(X, y_noisy)\n",
    "    fig.line(p, poly_linreg.predict(Xp), legend='linreg order: %02i' % order,\n",
    "             color=colors.pop(), line_width=3.0)\n",
    "\n",
    "fig.line(p, f(p), legend=\"truth\", color='red', line_width=4.0)\n",
    "fig.legend.label_text_font_size = '14pt'\n",
    "fig.legend.location = 'top_left'\n",
    "np.set_printoptions(precision=2)\n",
    "print('Ground Truth coeff.: ', ' '.join(['%+5.1f' %n for n in gt_coeff]))\n",
    "print('LinReg coefficients: ', ' '.join(['%+5.1f' %n for n in poly_linreg.coef_]))\n",
    "bk.show(fig)"
   ]
  },
  {
   "cell_type": "markdown",
   "metadata": {},
   "source": [
    "Now we compare the previous `LinearRegression` algorithm with the `Lasso` algorithm.\n",
    "\n",
    "`Lasso` (least absolute shrinkage and selection operator) is an alternative regularized version of least squares: it is a **shrinkage estimator**: unlike `ridge regression`, as the penalty term increases, lasso sets more coefficients to zero, this means that the lasso estimator produces smaller models."
   ]
  },
  {
   "cell_type": "code",
   "execution_count": 14,
   "metadata": {
    "collapsed": false
   },
   "outputs": [
    {
     "name": "stdout",
     "output_type": "stream",
     "text": [
      "Ground Truth coeff.:   +0.0  +0.0  +1.2  +0.1  +0.0  -0.6  +0.0  +0.0  +0.0  -0.8\n",
      "LinReg coefficients:   +0.0  -0.0  +1.0  -0.0  +0.0  -0.0  +0.0  -0.0  +0.0  -1.3\n"
     ]
    },
    {
     "data": {
      "text/html": [
       "\n",
       "\n",
       "    <div class=\"bk-root\">\n",
       "        <div class=\"bk-plotdiv\" id=\"6d6eecb5-7e8e-43f7-9b0f-387f72b3a2cd\"></div>\n",
       "    </div>\n",
       "<script type=\"text/javascript\">\n",
       "  \n",
       "  (function(global) {\n",
       "    function now() {\n",
       "      return new Date();\n",
       "    }\n",
       "  \n",
       "    var force = false;\n",
       "  \n",
       "    if (typeof (window._bokeh_onload_callbacks) === \"undefined\" || force === true) {\n",
       "      window._bokeh_onload_callbacks = [];\n",
       "      window._bokeh_is_loading = undefined;\n",
       "    }\n",
       "  \n",
       "  \n",
       "    \n",
       "    if (typeof (window._bokeh_timeout) === \"undefined\" || force === true) {\n",
       "      window._bokeh_timeout = Date.now() + 0;\n",
       "      window._bokeh_failed_load = false;\n",
       "    }\n",
       "  \n",
       "    var NB_LOAD_WARNING = {'data': {'text/html':\n",
       "       \"<div style='background-color: #fdd'>\\n\"+\n",
       "       \"<p>\\n\"+\n",
       "       \"BokehJS does not appear to have successfully loaded. If loading BokehJS from CDN, this \\n\"+\n",
       "       \"may be due to a slow or bad network connection. Possible fixes:\\n\"+\n",
       "       \"</p>\\n\"+\n",
       "       \"<ul>\\n\"+\n",
       "       \"<li>re-rerun `output_notebook()` to attempt to load from CDN again, or</li>\\n\"+\n",
       "       \"<li>use INLINE resources instead, as so:</li>\\n\"+\n",
       "       \"</ul>\\n\"+\n",
       "       \"<code>\\n\"+\n",
       "       \"from bokeh.resources import INLINE\\n\"+\n",
       "       \"output_notebook(resources=INLINE)\\n\"+\n",
       "       \"</code>\\n\"+\n",
       "       \"</div>\"}};\n",
       "  \n",
       "    function display_loaded() {\n",
       "      if (window.Bokeh !== undefined) {\n",
       "        document.getElementById(\"6d6eecb5-7e8e-43f7-9b0f-387f72b3a2cd\").textContent = \"BokehJS successfully loaded.\";\n",
       "      } else if (Date.now() < window._bokeh_timeout) {\n",
       "        setTimeout(display_loaded, 100)\n",
       "      }\n",
       "    }\n",
       "  \n",
       "    function run_callbacks() {\n",
       "      window._bokeh_onload_callbacks.forEach(function(callback) { callback() });\n",
       "      delete window._bokeh_onload_callbacks\n",
       "      console.info(\"Bokeh: all callbacks have finished\");\n",
       "    }\n",
       "  \n",
       "    function load_libs(js_urls, callback) {\n",
       "      window._bokeh_onload_callbacks.push(callback);\n",
       "      if (window._bokeh_is_loading > 0) {\n",
       "        console.log(\"Bokeh: BokehJS is being loaded, scheduling callback at\", now());\n",
       "        return null;\n",
       "      }\n",
       "      if (js_urls == null || js_urls.length === 0) {\n",
       "        run_callbacks();\n",
       "        return null;\n",
       "      }\n",
       "      console.log(\"Bokeh: BokehJS not loaded, scheduling load and callback at\", now());\n",
       "      window._bokeh_is_loading = js_urls.length;\n",
       "      for (var i = 0; i < js_urls.length; i++) {\n",
       "        var url = js_urls[i];\n",
       "        var s = document.createElement('script');\n",
       "        s.src = url;\n",
       "        s.async = false;\n",
       "        s.onreadystatechange = s.onload = function() {\n",
       "          window._bokeh_is_loading--;\n",
       "          if (window._bokeh_is_loading === 0) {\n",
       "            console.log(\"Bokeh: all BokehJS libraries loaded\");\n",
       "            run_callbacks()\n",
       "          }\n",
       "        };\n",
       "        s.onerror = function() {\n",
       "          console.warn(\"failed to load library \" + url);\n",
       "        };\n",
       "        console.log(\"Bokeh: injecting script tag for BokehJS library: \", url);\n",
       "        document.getElementsByTagName(\"head\")[0].appendChild(s);\n",
       "      }\n",
       "    };var element = document.getElementById(\"6d6eecb5-7e8e-43f7-9b0f-387f72b3a2cd\");\n",
       "    if (element == null) {\n",
       "      console.log(\"Bokeh: ERROR: autoload.js configured with elementid '6d6eecb5-7e8e-43f7-9b0f-387f72b3a2cd' but no matching script tag was found. \")\n",
       "      return false;\n",
       "    }\n",
       "  \n",
       "    var js_urls = [];\n",
       "  \n",
       "    var inline_js = [\n",
       "      function(Bokeh) {\n",
       "        (function() {\n",
       "          var fn = function() {\n",
       "            var docs_json = {\"baef7f3e-ef25-4f54-a594-598b0d444fce\":{\"roots\":{\"references\":[{\"attributes\":{\"label\":{\"value\":\"lasso order: 09\"},\"renderers\":[{\"id\":\"ebf64552-b726-495c-bdb1-00b0394ee234\",\"type\":\"GlyphRenderer\"}]},\"id\":\"3f3eafcf-6b0b-4446-86e5-9fbf481810a5\",\"type\":\"LegendItem\"},{\"attributes\":{\"data_source\":{\"id\":\"4d85979c-7d9c-41ed-91a4-bc6fd3ec9e8b\",\"type\":\"ColumnDataSource\"},\"glyph\":{\"id\":\"c32d9e6a-70e0-4372-bacd-c6b3524a8684\",\"type\":\"Line\"},\"hover_glyph\":null,\"nonselection_glyph\":{\"id\":\"67d8b1e1-e9c6-441b-849f-38e31c6a354a\",\"type\":\"Line\"},\"selection_glyph\":null},\"id\":\"1680aa91-285e-42f5-9e1e-8840cca79af2\",\"type\":\"GlyphRenderer\"},{\"attributes\":{\"plot\":{\"id\":\"313aa4fd-2fb7-4f18-ac4c-b37621db1610\",\"subtype\":\"Figure\",\"type\":\"Plot\"}},\"id\":\"c1e891b2-89fa-4d65-81b6-3fdc37a16164\",\"type\":\"SaveTool\"},{\"attributes\":{\"fill_alpha\":{\"value\":0.4},\"fill_color\":{\"value\":\"#1f77b4\"},\"line_alpha\":{\"value\":0.4},\"line_color\":{\"value\":\"#1f77b4\"},\"size\":{\"units\":\"screen\",\"value\":8},\"x\":{\"field\":\"x\"},\"y\":{\"field\":\"y\"}},\"id\":\"6f1fe9f1-7a1f-430f-b97e-0470f845d5bd\",\"type\":\"Circle\"},{\"attributes\":{\"items\":[{\"id\":\"5c17c5bf-a17c-4a0d-8ce0-8c8d09670292\",\"type\":\"LegendItem\"},{\"id\":\"3f3eafcf-6b0b-4446-86e5-9fbf481810a5\",\"type\":\"LegendItem\"},{\"id\":\"be373dac-2305-435c-9927-5dccd648e2ab\",\"type\":\"LegendItem\"}],\"label_text_font_size\":{\"value\":\"15pt\"},\"location\":\"top_left\",\"plot\":{\"id\":\"313aa4fd-2fb7-4f18-ac4c-b37621db1610\",\"subtype\":\"Figure\",\"type\":\"Plot\"}},\"id\":\"3cfc59d9-8f1e-4749-812d-50c7754b5da2\",\"type\":\"Legend\"},{\"attributes\":{\"plot\":{\"id\":\"313aa4fd-2fb7-4f18-ac4c-b37621db1610\",\"subtype\":\"Figure\",\"type\":\"Plot\"}},\"id\":\"6d5df076-7c72-4eb0-97aa-6cdebb9b6319\",\"type\":\"PanTool\"},{\"attributes\":{\"callback\":null,\"column_names\":[\"x\",\"y\"],\"data\":{\"x\":{\"__ndarray__\":\"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\",\"dtype\":\"float64\",\"shape\":[200]},\"y\":{\"__ndarray__\":\"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\",\"dtype\":\"float64\",\"shape\":[200]}}},\"id\":\"4d85979c-7d9c-41ed-91a4-bc6fd3ec9e8b\",\"type\":\"ColumnDataSource\"},{\"attributes\":{\"line_alpha\":{\"value\":0.1},\"line_color\":{\"value\":\"#1f77b4\"},\"line_width\":{\"value\":3.0},\"x\":{\"field\":\"x\"},\"y\":{\"field\":\"y\"}},\"id\":\"82a82596-ceed-49f2-9b0a-678b5a1168fd\",\"type\":\"Line\"},{\"attributes\":{\"data_source\":{\"id\":\"97ac7b15-b8fc-4b1f-a538-8aa81409c356\",\"type\":\"ColumnDataSource\"},\"glyph\":{\"id\":\"5e1a19cb-e988-4a96-86bd-b4afa67b8854\",\"type\":\"Line\"},\"hover_glyph\":null,\"nonselection_glyph\":{\"id\":\"a06f5f9a-f3ab-4100-9aaa-24b4989ba236\",\"type\":\"Line\"},\"selection_glyph\":null},\"id\":\"e11ead20-69a9-456c-8984-e5fe84d30ff9\",\"type\":\"GlyphRenderer\"},{\"attributes\":{\"label\":{\"value\":\"truth\"},\"renderers\":[{\"id\":\"e11ead20-69a9-456c-8984-e5fe84d30ff9\",\"type\":\"GlyphRenderer\"}]},\"id\":\"be373dac-2305-435c-9927-5dccd648e2ab\",\"type\":\"LegendItem\"},{\"attributes\":{\"callback\":null,\"column_names\":[\"x\",\"y\"],\"data\":{\"x\":{\"__ndarray__\":\"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\",\"dtype\":\"float64\",\"shape\":[200]},\"y\":{\"__ndarray__\":\"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\",\"dtype\":\"float64\",\"shape\":[200]}}},\"id\":\"97ac7b15-b8fc-4b1f-a538-8aa81409c356\",\"type\":\"ColumnDataSource\"},{\"attributes\":{\"line_color\":{\"value\":\"royalblue\"},\"line_width\":{\"value\":3.0},\"x\":{\"field\":\"x\"},\"y\":{\"field\":\"y\"}},\"id\":\"c32d9e6a-70e0-4372-bacd-c6b3524a8684\",\"type\":\"Line\"},{\"attributes\":{\"line_alpha\":{\"value\":0.1},\"line_color\":{\"value\":\"#1f77b4\"},\"line_width\":{\"value\":3.0},\"x\":{\"field\":\"x\"},\"y\":{\"field\":\"y\"}},\"id\":\"67d8b1e1-e9c6-441b-849f-38e31c6a354a\",\"type\":\"Line\"},{\"attributes\":{},\"id\":\"dde41596-4001-4b2f-95cf-744e5ecb33ad\",\"type\":\"ToolEvents\"},{\"attributes\":{\"bottom_units\":\"screen\",\"fill_alpha\":{\"value\":0.5},\"fill_color\":{\"value\":\"lightgrey\"},\"left_units\":\"screen\",\"level\":\"overlay\",\"line_alpha\":{\"value\":1.0},\"line_color\":{\"value\":\"black\"},\"line_dash\":[4,4],\"line_width\":{\"value\":2},\"plot\":null,\"render_mode\":\"css\",\"right_units\":\"screen\",\"top_units\":\"screen\"},\"id\":\"dcd3154a-0f28-43ec-9423-f37f0d79af01\",\"type\":\"BoxAnnotation\"},{\"attributes\":{\"plot\":{\"id\":\"313aa4fd-2fb7-4f18-ac4c-b37621db1610\",\"subtype\":\"Figure\",\"type\":\"Plot\"},\"ticker\":{\"id\":\"dcf1752c-2ee4-48ea-a06c-adedb070dd69\",\"type\":\"BasicTicker\"}},\"id\":\"c3722125-65e4-468a-9f2b-c0d3ffa45f78\",\"type\":\"Grid\"},{\"attributes\":{\"line_alpha\":{\"value\":0.1},\"line_color\":{\"value\":\"#1f77b4\"},\"line_width\":{\"value\":4.0},\"x\":{\"field\":\"x\"},\"y\":{\"field\":\"y\"}},\"id\":\"a06f5f9a-f3ab-4100-9aaa-24b4989ba236\",\"type\":\"Line\"},{\"attributes\":{\"plot\":{\"id\":\"313aa4fd-2fb7-4f18-ac4c-b37621db1610\",\"subtype\":\"Figure\",\"type\":\"Plot\"}},\"id\":\"0bb86763-137d-405e-b740-b2638c2c4a86\",\"type\":\"WheelZoomTool\"},{\"attributes\":{\"fill_alpha\":{\"value\":0.1},\"fill_color\":{\"value\":\"#1f77b4\"},\"line_alpha\":{\"value\":0.1},\"line_color\":{\"value\":\"#1f77b4\"},\"size\":{\"units\":\"screen\",\"value\":8},\"x\":{\"field\":\"x\"},\"y\":{\"field\":\"y\"}},\"id\":\"ddd23104-27c5-465a-bc46-e24949305bf5\",\"type\":\"Circle\"},{\"attributes\":{\"plot\":{\"id\":\"313aa4fd-2fb7-4f18-ac4c-b37621db1610\",\"subtype\":\"Figure\",\"type\":\"Plot\"}},\"id\":\"1fd51195-f382-41bd-9e96-3a996b0cc864\",\"type\":\"HelpTool\"},{\"attributes\":{},\"id\":\"d4228bde-a551-44fb-80d8-cb7bf788b4da\",\"type\":\"BasicTickFormatter\"},{\"attributes\":{},\"id\":\"6bd065da-cc5d-4753-b434-18d656dcc0df\",\"type\":\"BasicTicker\"},{\"attributes\":{\"callback\":null,\"column_names\":[\"x\",\"y\"],\"data\":{\"x\":{\"__ndarray__\":\"mpmZmZmZ8b9L1aE5YG7xv/wQqtkmQ/G/rEyyee0X8b9diLoZtOzwvw7Ewrl6wfC/vv/KWUGW8L9vO9P5B2vwvyB325nOP/C/0bLjOZUU8L8D3dezt9Lvv2RU6PNEfO+/xsv4M9Il778oQwl0X8/uv4m6GbTseO6/6jEq9Hki7r9MqTo0B8ztv64gS3SUde2/D5hbtCEf7b9wD2z0rsjsv9KGfDQ8cuy/NP6MdMkb7L+VdZ20VsXrv/bsrfTjbuu/WGS+NHEY67+62850/sHqvxtT37SLa+q/fMrv9BgV6r/eQQA1pr7pv0C5EHUzaOm/oTAhtcAR6b8CqDH1Tbvov2QfQjXbZOi/xpZSdWgO6L8nDmO19bfnv4iFc/WCYee/6vyDNRAL579MdJR1nbTmv63rpLUqXua/DmO19bcH5r9w2sU1RbHlv9JR1nXSWuW/M8nmtV8E5b+UQPf17K3kv/a3BzZ6V+S/WC8YdgcB5L+5pii2lKrjvxoeOfYhVOO/fJVJNq/94r/eDFp2PKfivz+EarbJUOK/oPt69lb64b8Cc4s25KPhv2Tqm3ZxTeG/xWGstv724L8m2bz2i6Dgv4hQzTYZSuC/1I+77Uzn37+WftxtZzrfv1ht/e2Bjd6/HFwebpzg3b/gSj/utjPdv6I5YG7Rhty/ZCiB7uvZ278oF6JuBi3bv+wFw+4ggNq/rvTjbjvT2b9w4wTvVSbZvzTSJW9wedi/+MBG74rM17+6r2dvpR/Xv3yeiO+/cta/QI2pb9rF1b8EfMrv9BjVv8Zq628PbNS/iFkM8Cm/079MSC1wRBLTvxA3TvBeZdK/0iVvcHm40b+UFJDwkwvRv1gDsXCuXtC/OOSj4ZFjz7+8weXhxgnOv0CfJ+L7r8y/yHxp4jBWy79QWqviZfzJv9Q37eKaosi/WBUv489Ix7/g8nDjBO/Fv2jQsuM5lcS/7K304247w79wizbko+HBv/hoeOTYh8C/AI10yRtcvr8ISPjJhai7vxADfMrv9Li/IL7/yllBtr8weYPLw42zv0A0B8wt2rC/gN4VmS9NrL+gVB2aA+amv8DKJJvXfqG/gIFYOFcvmL+A2850/sGKvwDQsuM5lWS/gHP1gmF3gD+AzWu/CAqTP4DhXL1g2J0/oPqmXVxTpD+AhJ9ciLqpP4AOmFu0Ia8/MExILXBEsj8gkcQsBvi0PxDWQCycq7c/ABu9KzJfuj8AYDkryBK9P/CktSpexr8/8PQYFfo8wT9wF9cUxZbCP+g5lRSQ8MM/YFxTFFtKxT/YfhEUJqTGP1ChzxPx/cc/0MONE7xXyT9I5ksTh7HKP8AIChNSC8w/QCvIEh1lzT+4TYYS6L7OPxg4IolZDNA/VEkBCT+50D+QWuCIJGbRP9BrvwgKE9I/DH2eiO+/0j9Ijn0I1WzTP4ifXIi6GdQ/xLA7CKDG1D8AwhqIhXPVPzzT+QdrINY/eOTYh1DN1j+49bcHNnrXP/QGl4cbJ9g/MBh2BwHU2D9wKVWH5oDZP6w6NAfMLdo/6EsTh7Ha2j8kXfIGl4fbP2Bu0YZ8NNw/oH+wBmLh3D/ckI+GR47dPxiibgYtO94/WLNNhhLo3j+UxCwG+JTfP+jqBcPuIOA/hnP1gmF34D8k/ORC1M3gP8SE1AJHJOE/Yg3Ewrl64T8AlrOCLNHhP6Aeo0KfJ+I/PqeSAhJ+4j/cL4LChNTiP3q4cYL3KuM/GEFhQmqB4z+4yVAC3dfjP1ZSQMJPLuQ/9NovgsKE5D+UYx9CNdvkPzLsDgKoMeU/0HT+wRqI5T9u/e2Bjd7lPwyG3UEANeY/rA7NAXOL5j9Kl7zB5eHmP+gfrIFYOOc/iKibQcuO5z8mMYsBPuXnP8S5esGwO+g/YkJqgSOS6D8Ay1lBlujoP6BTSQEJP+k/Ptw4wXuV6T/cZCiB7uvpP3ztF0FhQuo/GnYHAdSY6j+4/vbARu/qP1aH5oC5Res/9A/WQCyc6z+UmMUAn/LrPzIhtcARSew/0KmkgISf7D9wMpRA9/XsPwy7gwBqTO0/rENzwNyi7T9MzGKAT/ntP+hUUkDCT+4/iN1BADWm7j8kZjHAp/zuP8TuIIAaU+8/ZHcQQI2p7z8AAAAAAADwPw==\",\"dtype\":\"float64\",\"shape\":[200]},\"y\":{\"__ndarray__\":\"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\",\"dtype\":\"float64\",\"shape\":[200]}}},\"id\":\"1d3537de-a91d-45f0-a03f-0dc1cf57bf0a\",\"type\":\"ColumnDataSource\"},{\"attributes\":{\"line_color\":{\"value\":\"green\"},\"line_width\":{\"value\":3.0},\"x\":{\"field\":\"x\"},\"y\":{\"field\":\"y\"}},\"id\":\"3b376393-eca1-48b1-8dd4-b58042e73d1b\",\"type\":\"Line\"},{\"attributes\":{\"callback\":null},\"id\":\"a1062e29-e027-4e08-8d6a-b102c1c066ae\",\"type\":\"DataRange1d\"},{\"attributes\":{\"active_drag\":\"auto\",\"active_scroll\":\"auto\",\"active_tap\":\"auto\",\"tools\":[{\"id\":\"6d5df076-7c72-4eb0-97aa-6cdebb9b6319\",\"type\":\"PanTool\"},{\"id\":\"0bb86763-137d-405e-b740-b2638c2c4a86\",\"type\":\"WheelZoomTool\"},{\"id\":\"901d4a25-0f23-4234-ac20-a70f39a77609\",\"type\":\"BoxZoomTool\"},{\"id\":\"c1e891b2-89fa-4d65-81b6-3fdc37a16164\",\"type\":\"SaveTool\"},{\"id\":\"e3c3db3e-fe36-47dc-914f-4b8501e40f16\",\"type\":\"ResetTool\"},{\"id\":\"1fd51195-f382-41bd-9e96-3a996b0cc864\",\"type\":\"HelpTool\"}]},\"id\":\"1e237639-a989-4f24-8bb0-41254b6e9ac7\",\"type\":\"Toolbar\"},{\"attributes\":{\"callback\":null},\"id\":\"c05aadc4-9507-475b-8075-b1f245e42237\",\"type\":\"DataRange1d\"},{\"attributes\":{\"plot\":{\"id\":\"313aa4fd-2fb7-4f18-ac4c-b37621db1610\",\"subtype\":\"Figure\",\"type\":\"Plot\"}},\"id\":\"e3c3db3e-fe36-47dc-914f-4b8501e40f16\",\"type\":\"ResetTool\"},{\"attributes\":{\"below\":[{\"id\":\"f884166f-9805-405a-92cb-8ee715b8d21b\",\"type\":\"LinearAxis\"}],\"left\":[{\"id\":\"54fed40f-4a3d-4924-876c-beb26370530d\",\"type\":\"LinearAxis\"}],\"plot_height\":400,\"plot_width\":700,\"renderers\":[{\"id\":\"f884166f-9805-405a-92cb-8ee715b8d21b\",\"type\":\"LinearAxis\"},{\"id\":\"c3722125-65e4-468a-9f2b-c0d3ffa45f78\",\"type\":\"Grid\"},{\"id\":\"54fed40f-4a3d-4924-876c-beb26370530d\",\"type\":\"LinearAxis\"},{\"id\":\"c4ebcd4c-523d-43fa-bb84-d6154e970a1c\",\"type\":\"Grid\"},{\"id\":\"dcd3154a-0f28-43ec-9423-f37f0d79af01\",\"type\":\"BoxAnnotation\"},{\"id\":\"e354f7c4-57a8-4a0b-aad0-adf1e77a670c\",\"type\":\"GlyphRenderer\"},{\"id\":\"3cfc59d9-8f1e-4749-812d-50c7754b5da2\",\"type\":\"Legend\"},{\"id\":\"1680aa91-285e-42f5-9e1e-8840cca79af2\",\"type\":\"GlyphRenderer\"},{\"id\":\"ebf64552-b726-495c-bdb1-00b0394ee234\",\"type\":\"GlyphRenderer\"},{\"id\":\"e11ead20-69a9-456c-8984-e5fe84d30ff9\",\"type\":\"GlyphRenderer\"}],\"title\":{\"id\":\"f781fb97-01b7-46d1-977b-a32f7283a696\",\"type\":\"Title\"},\"tool_events\":{\"id\":\"dde41596-4001-4b2f-95cf-744e5ecb33ad\",\"type\":\"ToolEvents\"},\"toolbar\":{\"id\":\"1e237639-a989-4f24-8bb0-41254b6e9ac7\",\"type\":\"Toolbar\"},\"x_range\":{\"id\":\"a1062e29-e027-4e08-8d6a-b102c1c066ae\",\"type\":\"DataRange1d\"},\"y_range\":{\"id\":\"c05aadc4-9507-475b-8075-b1f245e42237\",\"type\":\"DataRange1d\"}},\"id\":\"313aa4fd-2fb7-4f18-ac4c-b37621db1610\",\"subtype\":\"Figure\",\"type\":\"Plot\"},{\"attributes\":{\"data_source\":{\"id\":\"1d3537de-a91d-45f0-a03f-0dc1cf57bf0a\",\"type\":\"ColumnDataSource\"},\"glyph\":{\"id\":\"3b376393-eca1-48b1-8dd4-b58042e73d1b\",\"type\":\"Line\"},\"hover_glyph\":null,\"nonselection_glyph\":{\"id\":\"82a82596-ceed-49f2-9b0a-678b5a1168fd\",\"type\":\"Line\"},\"selection_glyph\":null},\"id\":\"ebf64552-b726-495c-bdb1-00b0394ee234\",\"type\":\"GlyphRenderer\"},{\"attributes\":{\"formatter\":{\"id\":\"d4228bde-a551-44fb-80d8-cb7bf788b4da\",\"type\":\"BasicTickFormatter\"},\"plot\":{\"id\":\"313aa4fd-2fb7-4f18-ac4c-b37621db1610\",\"subtype\":\"Figure\",\"type\":\"Plot\"},\"ticker\":{\"id\":\"6bd065da-cc5d-4753-b434-18d656dcc0df\",\"type\":\"BasicTicker\"}},\"id\":\"54fed40f-4a3d-4924-876c-beb26370530d\",\"type\":\"LinearAxis\"},{\"attributes\":{\"dimension\":1,\"plot\":{\"id\":\"313aa4fd-2fb7-4f18-ac4c-b37621db1610\",\"subtype\":\"Figure\",\"type\":\"Plot\"},\"ticker\":{\"id\":\"6bd065da-cc5d-4753-b434-18d656dcc0df\",\"type\":\"BasicTicker\"}},\"id\":\"c4ebcd4c-523d-43fa-bb84-d6154e970a1c\",\"type\":\"Grid\"},{\"attributes\":{\"data_source\":{\"id\":\"f78e1e35-0159-4a33-a2b6-8521ee4dd2d1\",\"type\":\"ColumnDataSource\"},\"glyph\":{\"id\":\"6f1fe9f1-7a1f-430f-b97e-0470f845d5bd\",\"type\":\"Circle\"},\"hover_glyph\":null,\"nonselection_glyph\":{\"id\":\"ddd23104-27c5-465a-bc46-e24949305bf5\",\"type\":\"Circle\"},\"selection_glyph\":null},\"id\":\"e354f7c4-57a8-4a0b-aad0-adf1e77a670c\",\"type\":\"GlyphRenderer\"},{\"attributes\":{},\"id\":\"dcf1752c-2ee4-48ea-a06c-adedb070dd69\",\"type\":\"BasicTicker\"},{\"attributes\":{\"plot\":null,\"text\":\"9th order LinReg and Lasso with Ground truth\"},\"id\":\"f781fb97-01b7-46d1-977b-a32f7283a696\",\"type\":\"Title\"},{\"attributes\":{\"formatter\":{\"id\":\"610ea60b-b32a-45d2-b20a-66482b7bf590\",\"type\":\"BasicTickFormatter\"},\"plot\":{\"id\":\"313aa4fd-2fb7-4f18-ac4c-b37621db1610\",\"subtype\":\"Figure\",\"type\":\"Plot\"},\"ticker\":{\"id\":\"dcf1752c-2ee4-48ea-a06c-adedb070dd69\",\"type\":\"BasicTicker\"}},\"id\":\"f884166f-9805-405a-92cb-8ee715b8d21b\",\"type\":\"LinearAxis\"},{\"attributes\":{\"callback\":null,\"column_names\":[\"x\",\"y\"],\"data\":{\"x\":{\"__ndarray__\":\"UGpLI1m0zL+IJBFmX2naP/6j3L6dmPG/ALqdfTnE3b/btmpwh1bpvyn+d0Gu/uy/nDwkp+2u5r/Q9CU/5vTXvwBvSEAPE9G/oBxYq8AioD+MJUYK2h7Mv9jGnEWJsdU/7jITkfd15b9oSIfZOs/nP4j/WtsFrvC/LF70LPm10z886Dxa46DMv/CXJEBswLI/GrNPbRjE6b+q80JwOOPlv67SNkErnOI/8D++Xv/d7T98ewo0mkbcv2x4tMjtpdY/hvAQdH+x5z8=\",\"dtype\":\"float64\",\"shape\":[25]},\"y\":{\"__ndarray__\":\"t8XmNxdKxT+5FyFE0b/HP8movBszMhJAF9TBh20X1T9BXYVrp3PzP7BjiAUsF/Y/yWtVbNFO4T8J3K6WbwPXP2adJoyl6aQ/X1cWd//XoD8YZaq8Nq3NP4i9FUDv470/xkfUXqHw2T/tx6p2oOXTP2BCAv70DAdA5cN0+mCHzz8yp0BGZO+nP9VtzKQc19W/89xyvT8D8T8wjY3N7azgPwr+Fxmg0ds/qBecwXhpqz9Kds309T29P6cU2mAkNss/qs2G+Ysx6z8=\",\"dtype\":\"float64\",\"shape\":[25]}}},\"id\":\"f78e1e35-0159-4a33-a2b6-8521ee4dd2d1\",\"type\":\"ColumnDataSource\"},{\"attributes\":{\"overlay\":{\"id\":\"dcd3154a-0f28-43ec-9423-f37f0d79af01\",\"type\":\"BoxAnnotation\"},\"plot\":{\"id\":\"313aa4fd-2fb7-4f18-ac4c-b37621db1610\",\"subtype\":\"Figure\",\"type\":\"Plot\"}},\"id\":\"901d4a25-0f23-4234-ac20-a70f39a77609\",\"type\":\"BoxZoomTool\"},{\"attributes\":{\"label\":{\"value\":\"linreg order: 09\"},\"renderers\":[{\"id\":\"1680aa91-285e-42f5-9e1e-8840cca79af2\",\"type\":\"GlyphRenderer\"}]},\"id\":\"5c17c5bf-a17c-4a0d-8ce0-8c8d09670292\",\"type\":\"LegendItem\"},{\"attributes\":{},\"id\":\"610ea60b-b32a-45d2-b20a-66482b7bf590\",\"type\":\"BasicTickFormatter\"},{\"attributes\":{\"line_color\":{\"value\":\"red\"},\"line_width\":{\"value\":4.0},\"x\":{\"field\":\"x\"},\"y\":{\"field\":\"y\"}},\"id\":\"5e1a19cb-e988-4a96-86bd-b4afa67b8854\",\"type\":\"Line\"}],\"root_ids\":[\"313aa4fd-2fb7-4f18-ac4c-b37621db1610\"]},\"title\":\"Bokeh Application\",\"version\":\"0.12.4\"}};\n",
       "            var render_items = [{\"docid\":\"baef7f3e-ef25-4f54-a594-598b0d444fce\",\"elementid\":\"6d6eecb5-7e8e-43f7-9b0f-387f72b3a2cd\",\"modelid\":\"313aa4fd-2fb7-4f18-ac4c-b37621db1610\"}];\n",
       "            \n",
       "            Bokeh.embed.embed_items(docs_json, render_items);\n",
       "          };\n",
       "          if (document.readyState != \"loading\") fn();\n",
       "          else document.addEventListener(\"DOMContentLoaded\", fn);\n",
       "        })();\n",
       "      },\n",
       "      function(Bokeh) {\n",
       "      }\n",
       "    ];\n",
       "  \n",
       "    function run_inline_js() {\n",
       "      \n",
       "      if ((window.Bokeh !== undefined) || (force === true)) {\n",
       "        for (var i = 0; i < inline_js.length; i++) {\n",
       "          inline_js[i](window.Bokeh);\n",
       "        }if (force === true) {\n",
       "          display_loaded();\n",
       "        }} else if (Date.now() < window._bokeh_timeout) {\n",
       "        setTimeout(run_inline_js, 100);\n",
       "      } else if (!window._bokeh_failed_load) {\n",
       "        console.log(\"Bokeh: BokehJS failed to load within specified timeout.\");\n",
       "        window._bokeh_failed_load = true;\n",
       "      } else if (force !== true) {\n",
       "        var cell = $(document.getElementById(\"6d6eecb5-7e8e-43f7-9b0f-387f72b3a2cd\")).parents('.cell').data().cell;\n",
       "        cell.output_area.append_execute_result(NB_LOAD_WARNING)\n",
       "      }\n",
       "  \n",
       "    }\n",
       "  \n",
       "    if (window._bokeh_is_loading === 0) {\n",
       "      console.log(\"Bokeh: BokehJS loaded, going straight to plotting\");\n",
       "      run_inline_js();\n",
       "    } else {\n",
       "      load_libs(js_urls, function() {\n",
       "        console.log(\"Bokeh: BokehJS plotting callback run at\", now());\n",
       "        run_inline_js();\n",
       "      });\n",
       "    }\n",
       "  }(this));\n",
       "</script>"
      ]
     },
     "metadata": {},
     "output_type": "display_data"
    }
   ],
   "source": [
    "order = 9\n",
    "np.random.seed(1)\n",
    "X = np.array([t**i for i in range(order+1)]).T\n",
    "Xp = np.array([p**i for i in range(order+1)]).T\n",
    "poly_linreg = linear_model.LinearRegression().fit(X, y_noisy)\n",
    "poly_lasso = linear_model.Lasso(alpha = 0.005).fit(X, y_noisy)\n",
    "\n",
    "fig = bk.figure(plot_width=700, plot_height=400)\n",
    "fig.circle(t, y_noisy, size=8, alpha=0.4)\n",
    "fig.line(p, poly_linreg.predict(Xp), legend='linreg order: %02i' % order,\n",
    "         color='royalblue', line_width=3.0)\n",
    "fig.line(p, poly_lasso.predict(Xp), legend='lasso order: %02i' % order,\n",
    "         line_width=3.0, color='green')\n",
    "fig.line(p, f(p), legend=\"truth\", color='red', line_width=4.0)\n",
    "\n",
    "fig.legend.label_text_font_size = '15pt'\n",
    "fig.legend.location = 'top_left'\n",
    "fig.title.text = '9th order LinReg and Lasso with Ground truth'\n",
    "\n",
    "np.set_printoptions(precision=2)\n",
    "print('Ground Truth coeff.: ', ' '.join(['%+5.1f' %n for n in gt_coeff]))\n",
    "print('LinReg coefficients: ', ' '.join(['%+5.1f' %n for n in poly_lasso.coef_]))\n",
    "bk.show(fig)"
   ]
  },
  {
   "cell_type": "markdown",
   "metadata": {},
   "source": [
    "Try by yourself: play a little with the code of the two previous cells by changing `n_samples` and `noise_level` to verify that:\n",
    "\n",
    "* When `n_samples` is very high (>1000) it's very unlikely to have overfitting. This means that with more data it's possible to fit more complex models without overfitting.\n",
    "* When `n_samples` is very low (<40) it's almost impossible to fit with Linear Regression without overfitting. In this case regularization is always required\n",
    "* When `n_samples` is very high (>1000) and `noise_level` is very low, the Lasso algorithm keeps just the coefficients actually used to calculate the ground truth function. This means that Lasso can deal with high dimesional problems where most of the features can be neglected producing compact linear models.\n",
    "\n",
    "Another way to look at the Bias-Variance tradeoff in previous examples is to consider how the model fits the data. As stated at the beginning of this section when model complexity increases Bias decrease while Variance increses. The optimal model performance is achieved when the level of complexity is such that an increase in Bias is equivalent in reduction of Variance. If the model complexity exceed this threshold we are overfitting (the model is to adapted to the data and does not generalize well) if the model is behind this threshold is said to be underfitting (the model does not fit well the data and it has a poor error for out of sample data)."
   ]
  },
  {
   "cell_type": "markdown",
   "metadata": {},
   "source": [
    "## 3 Do I need a Simple or a Complex Model?"
   ]
  },
  {
   "cell_type": "markdown",
   "metadata": {},
   "source": [
    "In order to show the relation between the size of the training dataset and the complexity of the model we generate some example data in the same way we did in the very first example but with more than ten times the number of samples. The we fit a polynomial model and we plot the error w.r.t. the degree of polynomial.\n",
    "\n",
    "Here **Training Data** are plotted in **Blue** while **Validation Data** are **Red**:"
   ]
  },
  {
   "cell_type": "code",
   "execution_count": 15,
   "metadata": {
    "collapsed": false
   },
   "outputs": [
    {
     "data": {
      "text/html": [
       "\n",
       "\n",
       "    <div class=\"bk-root\">\n",
       "        <div class=\"bk-plotdiv\" id=\"2ca0acad-900c-4cac-b284-9ecab634ac7b\"></div>\n",
       "    </div>\n",
       "<script type=\"text/javascript\">\n",
       "  \n",
       "  (function(global) {\n",
       "    function now() {\n",
       "      return new Date();\n",
       "    }\n",
       "  \n",
       "    var force = false;\n",
       "  \n",
       "    if (typeof (window._bokeh_onload_callbacks) === \"undefined\" || force === true) {\n",
       "      window._bokeh_onload_callbacks = [];\n",
       "      window._bokeh_is_loading = undefined;\n",
       "    }\n",
       "  \n",
       "  \n",
       "    \n",
       "    if (typeof (window._bokeh_timeout) === \"undefined\" || force === true) {\n",
       "      window._bokeh_timeout = Date.now() + 0;\n",
       "      window._bokeh_failed_load = false;\n",
       "    }\n",
       "  \n",
       "    var NB_LOAD_WARNING = {'data': {'text/html':\n",
       "       \"<div style='background-color: #fdd'>\\n\"+\n",
       "       \"<p>\\n\"+\n",
       "       \"BokehJS does not appear to have successfully loaded. If loading BokehJS from CDN, this \\n\"+\n",
       "       \"may be due to a slow or bad network connection. Possible fixes:\\n\"+\n",
       "       \"</p>\\n\"+\n",
       "       \"<ul>\\n\"+\n",
       "       \"<li>re-rerun `output_notebook()` to attempt to load from CDN again, or</li>\\n\"+\n",
       "       \"<li>use INLINE resources instead, as so:</li>\\n\"+\n",
       "       \"</ul>\\n\"+\n",
       "       \"<code>\\n\"+\n",
       "       \"from bokeh.resources import INLINE\\n\"+\n",
       "       \"output_notebook(resources=INLINE)\\n\"+\n",
       "       \"</code>\\n\"+\n",
       "       \"</div>\"}};\n",
       "  \n",
       "    function display_loaded() {\n",
       "      if (window.Bokeh !== undefined) {\n",
       "        document.getElementById(\"2ca0acad-900c-4cac-b284-9ecab634ac7b\").textContent = \"BokehJS successfully loaded.\";\n",
       "      } else if (Date.now() < window._bokeh_timeout) {\n",
       "        setTimeout(display_loaded, 100)\n",
       "      }\n",
       "    }\n",
       "  \n",
       "    function run_callbacks() {\n",
       "      window._bokeh_onload_callbacks.forEach(function(callback) { callback() });\n",
       "      delete window._bokeh_onload_callbacks\n",
       "      console.info(\"Bokeh: all callbacks have finished\");\n",
       "    }\n",
       "  \n",
       "    function load_libs(js_urls, callback) {\n",
       "      window._bokeh_onload_callbacks.push(callback);\n",
       "      if (window._bokeh_is_loading > 0) {\n",
       "        console.log(\"Bokeh: BokehJS is being loaded, scheduling callback at\", now());\n",
       "        return null;\n",
       "      }\n",
       "      if (js_urls == null || js_urls.length === 0) {\n",
       "        run_callbacks();\n",
       "        return null;\n",
       "      }\n",
       "      console.log(\"Bokeh: BokehJS not loaded, scheduling load and callback at\", now());\n",
       "      window._bokeh_is_loading = js_urls.length;\n",
       "      for (var i = 0; i < js_urls.length; i++) {\n",
       "        var url = js_urls[i];\n",
       "        var s = document.createElement('script');\n",
       "        s.src = url;\n",
       "        s.async = false;\n",
       "        s.onreadystatechange = s.onload = function() {\n",
       "          window._bokeh_is_loading--;\n",
       "          if (window._bokeh_is_loading === 0) {\n",
       "            console.log(\"Bokeh: all BokehJS libraries loaded\");\n",
       "            run_callbacks()\n",
       "          }\n",
       "        };\n",
       "        s.onerror = function() {\n",
       "          console.warn(\"failed to load library \" + url);\n",
       "        };\n",
       "        console.log(\"Bokeh: injecting script tag for BokehJS library: \", url);\n",
       "        document.getElementsByTagName(\"head\")[0].appendChild(s);\n",
       "      }\n",
       "    };var element = document.getElementById(\"2ca0acad-900c-4cac-b284-9ecab634ac7b\");\n",
       "    if (element == null) {\n",
       "      console.log(\"Bokeh: ERROR: autoload.js configured with elementid '2ca0acad-900c-4cac-b284-9ecab634ac7b' but no matching script tag was found. \")\n",
       "      return false;\n",
       "    }\n",
       "  \n",
       "    var js_urls = [];\n",
       "  \n",
       "    var inline_js = [\n",
       "      function(Bokeh) {\n",
       "        (function() {\n",
       "          var fn = function() {\n",
       "            var docs_json = {\"9bc69dbe-258a-44d3-b936-416229e9e020\":{\"roots\":{\"references\":[{\"attributes\":{\"dimension\":1,\"plot\":{\"id\":\"014b931e-4380-4f32-94af-3ef907699edc\",\"subtype\":\"Figure\",\"type\":\"Plot\"},\"ticker\":{\"id\":\"48672f3f-bc28-46c3-8759-7c35965af42f\",\"type\":\"BasicTicker\"}},\"id\":\"b3f04563-f2d1-4720-8c8f-78576d42e000\",\"type\":\"Grid\"},{\"attributes\":{\"fill_alpha\":{\"value\":0.5},\"fill_color\":{\"value\":\"red\"},\"line_alpha\":{\"value\":0.5},\"line_color\":{\"value\":\"red\"},\"size\":{\"units\":\"screen\",\"value\":6},\"x\":{\"field\":\"x\"},\"y\":{\"field\":\"y\"}},\"id\":\"2a826c00-5019-434e-9397-6543d1687037\",\"type\":\"Circle\"},{\"attributes\":{\"formatter\":{\"id\":\"a17fee72-2410-47ac-aef1-74060516ab0d\",\"type\":\"BasicTickFormatter\"},\"plot\":{\"id\":\"014b931e-4380-4f32-94af-3ef907699edc\",\"subtype\":\"Figure\",\"type\":\"Plot\"},\"ticker\":{\"id\":\"48672f3f-bc28-46c3-8759-7c35965af42f\",\"type\":\"BasicTicker\"}},\"id\":\"6bdd0a52-352a-487a-b9a5-9c42cdd10702\",\"type\":\"LinearAxis\"},{\"attributes\":{\"fill_alpha\":{\"value\":0.1},\"fill_color\":{\"value\":\"#1f77b4\"},\"line_alpha\":{\"value\":0.1},\"line_color\":{\"value\":\"#1f77b4\"},\"size\":{\"units\":\"screen\",\"value\":6},\"x\":{\"field\":\"x\"},\"y\":{\"field\":\"y\"}},\"id\":\"3104f5a6-235b-4614-b383-17ea0341d605\",\"type\":\"Circle\"},{\"attributes\":{},\"id\":\"a17fee72-2410-47ac-aef1-74060516ab0d\",\"type\":\"BasicTickFormatter\"},{\"attributes\":{\"overlay\":{\"id\":\"71ed464b-409e-48f3-aad3-81662efcf3cb\",\"type\":\"BoxAnnotation\"},\"plot\":{\"id\":\"014b931e-4380-4f32-94af-3ef907699edc\",\"subtype\":\"Figure\",\"type\":\"Plot\"}},\"id\":\"4822ffb7-1cb3-4111-ad47-eaf379a671a8\",\"type\":\"BoxZoomTool\"},{\"attributes\":{\"callback\":null,\"column_names\":[\"x\",\"y\"],\"data\":{\"x\":{\"__ndarray__\":\"2Jc0FZVb4j/YtC75/V+9PwiUZbjGpMA/opmcsKa/4z9E7SpnxZjBP9hrK7v4eeA/uKul8Qen7j/k4TTmX9fHPwDuSBeDg2c/neT4rYY45j+QAhLRljK6Pyp5ma/kf9o/IADBm0mq3D8ikEts7uTjP5VwpuVAteo/MLX98H+TqT/z2gKTGavsPxAGNrP/++4/YcQpIqvo7D9YHIwadcW1P/aukVvL8tE/Ej4LSZfb4j8C8ws8+N/uP8CsZ0R+C5w/8NBvilMqxT+asU6MiXPZPwEljRqnBug/XCZTxOmB2j+guV+EKbqSP9yqBv8y+ME/sX2kAsCk7z+wWIEgYDvnP55Ll2of9eM/ShbrvIkZ7D/9xMIiC0TsP/yo8tAAvcU/QDBGrs7TwT+QpnkR/f6jP/t6YuA2E+0/8PwMl9hl2z8AwGFmkPsdP/8cFit86Ow/4A8jeWgx1D/dmkFMN2LuP4hk+hJCLbk//lqoMx+12j8wHSLL0PflPycjGXJR7eU/Am9qbbgH6D9o7nF5Jq7tP00Q/qnpOuU/VPhNfwDIwj/AqDEZ+fDnP1SfYpf8PeE/eDVkarf+0D+s6zRs5lbOP/Ss10Jcy9w/R1OPRM495T9YDr5IJA/UP5SWEsKBJ+Y/\",\"dtype\":\"float64\",\"shape\":[60]},\"y\":{\"__ndarray__\":\"bMFaU47VIkBYJsL0q1oXQBrjPviweh5AYBbTvsG2IEDmuSTD97QXQADov1M8iyBAFowrsy6XI0AbyorHKyMZQH7zfalzdQZAXXi2DAaGIkDvUgj352YXQKup2uyAuR1AGnvQct4qIUA4c7DxraIgQAwVKHiMfSJAooIV+1GIEECziR2q0n4fQD84n5NQSCJAnDmMdtIQI0AuSU7jU5gQQML49qfIVB1AYEW7Cd5GHUBLQ4DpsiAgQOBbmzOSLAJA4qKeifCnG0CHuq7VQXIgQF/g5qYZuiNAGwnFzaukG0DXDtBwTSMDQNiVI83o2xVAwdTBcUPdIkA3wLyZ4PMlQIBVv8Y3CSFAKm6Drtu1IkBkQqdESdkiQF22ZQYzyhpAjypkSh6YF0C0825J5CEQQKvRSW/C9yFAPJWQrG9bHkBYub8+q93SvyVt7c2AtiBA26OdSf2AHkBtwuUUsr4hQDFf8OBF6A5A/v8WxBmIIkAmkaRp9WsdQD539KzisCFATSDtV3RgIUCkYwFz7W4hQDJKTuO84CFAXLeci0ZfFUDHAggU6QgeQCRJavF2sCFAQKc2CtdoHkCqL1lDy4sUQABAxB7yVSJAGDdvlyMCIUCq7jzUBPMcQLDgc8MekCFA\",\"dtype\":\"float64\",\"shape\":[60]}}},\"id\":\"806ccc2d-16f0-4b72-b118-42d243c9e75f\",\"type\":\"ColumnDataSource\"},{\"attributes\":{},\"id\":\"48672f3f-bc28-46c3-8759-7c35965af42f\",\"type\":\"BasicTicker\"},{\"attributes\":{\"plot\":{\"id\":\"014b931e-4380-4f32-94af-3ef907699edc\",\"subtype\":\"Figure\",\"type\":\"Plot\"},\"ticker\":{\"id\":\"511bcce1-46c9-49ed-9dad-8138cf661630\",\"type\":\"BasicTicker\"}},\"id\":\"87186086-4dde-4dbc-938c-17cbc41b1e61\",\"type\":\"Grid\"},{\"attributes\":{\"fill_alpha\":{\"value\":0.1},\"fill_color\":{\"value\":\"#1f77b4\"},\"line_alpha\":{\"value\":0.1},\"line_color\":{\"value\":\"#1f77b4\"},\"size\":{\"units\":\"screen\",\"value\":6},\"x\":{\"field\":\"x\"},\"y\":{\"field\":\"y\"}},\"id\":\"b60dc717-fa73-46b6-8b6c-a3711e192ce4\",\"type\":\"Circle\"},{\"attributes\":{\"plot\":{\"id\":\"014b931e-4380-4f32-94af-3ef907699edc\",\"subtype\":\"Figure\",\"type\":\"Plot\"}},\"id\":\"70ab4ef9-712e-4d0f-924a-e3a754628451\",\"type\":\"WheelZoomTool\"},{\"attributes\":{\"data_source\":{\"id\":\"e4af82d4-dcc6-46f8-8339-846b4a089982\",\"type\":\"ColumnDataSource\"},\"glyph\":{\"id\":\"2a826c00-5019-434e-9397-6543d1687037\",\"type\":\"Circle\"},\"hover_glyph\":null,\"nonselection_glyph\":{\"id\":\"3104f5a6-235b-4614-b383-17ea0341d605\",\"type\":\"Circle\"},\"selection_glyph\":null},\"id\":\"f9cef780-fc18-4ec5-b35e-7e882925233b\",\"type\":\"GlyphRenderer\"},{\"attributes\":{\"plot\":{\"id\":\"014b931e-4380-4f32-94af-3ef907699edc\",\"subtype\":\"Figure\",\"type\":\"Plot\"}},\"id\":\"363989c0-1386-45c8-be14-e35296b282b7\",\"type\":\"ResetTool\"},{\"attributes\":{\"callback\":null},\"id\":\"ab96527d-2532-44c6-843a-40ae93c442ad\",\"type\":\"DataRange1d\"},{\"attributes\":{\"bottom_units\":\"screen\",\"fill_alpha\":{\"value\":0.5},\"fill_color\":{\"value\":\"lightgrey\"},\"left_units\":\"screen\",\"level\":\"overlay\",\"line_alpha\":{\"value\":1.0},\"line_color\":{\"value\":\"black\"},\"line_dash\":[4,4],\"line_width\":{\"value\":2},\"plot\":null,\"render_mode\":\"css\",\"right_units\":\"screen\",\"top_units\":\"screen\"},\"id\":\"71ed464b-409e-48f3-aad3-81662efcf3cb\",\"type\":\"BoxAnnotation\"},{\"attributes\":{\"fill_alpha\":{\"value\":0.5},\"fill_color\":{\"value\":\"blue\"},\"line_alpha\":{\"value\":0.5},\"line_color\":{\"value\":\"blue\"},\"size\":{\"units\":\"screen\",\"value\":6},\"x\":{\"field\":\"x\"},\"y\":{\"field\":\"y\"}},\"id\":\"8acb8cef-9a6c-4849-8adf-fd28c8b9f25f\",\"type\":\"Circle\"},{\"attributes\":{},\"id\":\"511bcce1-46c9-49ed-9dad-8138cf661630\",\"type\":\"BasicTicker\"},{\"attributes\":{\"plot\":{\"id\":\"014b931e-4380-4f32-94af-3ef907699edc\",\"subtype\":\"Figure\",\"type\":\"Plot\"}},\"id\":\"e221591c-f2e7-43f4-8d1d-4fd092c49c08\",\"type\":\"HelpTool\"},{\"attributes\":{\"callback\":null,\"column_names\":[\"x\",\"y\"],\"data\":{\"x\":{\"__ndarray__\":\"REh0vGNbyT+KlYE6FdTaPy6MX2Vt89o/TC3aon9G0T/0CP63alnTP6nlp0d4dOU/PAXHo+XIwj8MYhjHfSvKP+dwxO8qguI/UfC68+UM5z94pYJBJtbpP06P7KRrZOY/HG8uOBAm4T/nnq5OvhnsPzTUrETvdd8/0P9YAgVtuj8LCbl9yeDhP+j7e2ejZNk/3sd1Q2EL7D+AKLSK7tSTP55047jGQek/P6x04itf4j/uGRu2WVTWP86jW72qHdY/UDKRTqEWyz+y3apLBbnlP+MLUSeeoOw/TtYJ0+ke2j+slCh52yPmP18n3RKzn+k/EMqwjICjtz8Q5zfkVVKrP7cBf6YuAeg/C1KIEw/F4j8iGjr/ksrSP8hKyqSwD+E/arf0QOlq0j8GPPoPfbDaPz+EHsgeOu4/7myRvMtB1j8=\",\"dtype\":\"float64\",\"shape\":[40]},\"y\":{\"__ndarray__\":\"tA6USt4GGEBweF/zYosgQIDAjoQzgCBA0GjnXrhBHUBmq7gOWK8gQCJUqqDDqSNAlvoKScS1GED6Od4L0y0YQFZGfM+ZeiFAQojTvPoIG0DvhPETWwgjQKoQQIyumSJAEhN1C67yIECCMXWZeCQjQGtVQsT4cBxARL/3RZvNGECKbi/ef1UhQP6dDCzbWCBAzsZCsS22IEAgmySyLSXOv6lbFXT0CR1ADJyHf9urIEAPwmHM8pweQCVrOzAyOB5A7Ezjil/WIEDKnLY4hucjQF52wLSdYiNAUvhmHAlyJECT55GTIfEgQNtVthRpoCJAwLYx31pAFkAUstSnE18RQDo/ObNa2x9A2OSoXXWWIkDwa0+2s7waQBJRm6wj3h1Ai/6Uls9jIUANRRaEUcMgQHyyezy60iNA0IJnDtFTFUA=\",\"dtype\":\"float64\",\"shape\":[40]}}},\"id\":\"e4af82d4-dcc6-46f8-8339-846b4a089982\",\"type\":\"ColumnDataSource\"},{\"attributes\":{\"plot\":{\"id\":\"014b931e-4380-4f32-94af-3ef907699edc\",\"subtype\":\"Figure\",\"type\":\"Plot\"}},\"id\":\"06c6c6f3-6a2d-4877-95e2-135463617006\",\"type\":\"PanTool\"},{\"attributes\":{},\"id\":\"f706bbb9-45ae-46ec-b3a8-0e27b6ecc497\",\"type\":\"ToolEvents\"},{\"attributes\":{},\"id\":\"1b19251d-f570-46ad-9be6-b5dd1ffb1013\",\"type\":\"BasicTickFormatter\"},{\"attributes\":{\"formatter\":{\"id\":\"1b19251d-f570-46ad-9be6-b5dd1ffb1013\",\"type\":\"BasicTickFormatter\"},\"plot\":{\"id\":\"014b931e-4380-4f32-94af-3ef907699edc\",\"subtype\":\"Figure\",\"type\":\"Plot\"},\"ticker\":{\"id\":\"511bcce1-46c9-49ed-9dad-8138cf661630\",\"type\":\"BasicTicker\"}},\"id\":\"69f4d44a-27c4-44e2-93d1-ef805a1e9cb0\",\"type\":\"LinearAxis\"},{\"attributes\":{\"active_drag\":\"auto\",\"active_scroll\":\"auto\",\"active_tap\":\"auto\",\"tools\":[{\"id\":\"06c6c6f3-6a2d-4877-95e2-135463617006\",\"type\":\"PanTool\"},{\"id\":\"70ab4ef9-712e-4d0f-924a-e3a754628451\",\"type\":\"WheelZoomTool\"},{\"id\":\"4822ffb7-1cb3-4111-ad47-eaf379a671a8\",\"type\":\"BoxZoomTool\"},{\"id\":\"a85ba109-4e3b-475c-b957-f5da4e44c52f\",\"type\":\"SaveTool\"},{\"id\":\"363989c0-1386-45c8-be14-e35296b282b7\",\"type\":\"ResetTool\"},{\"id\":\"e221591c-f2e7-43f4-8d1d-4fd092c49c08\",\"type\":\"HelpTool\"}]},\"id\":\"ac2574b6-b65c-4194-97ed-dd150e1d5b24\",\"type\":\"Toolbar\"},{\"attributes\":{\"plot\":{\"id\":\"014b931e-4380-4f32-94af-3ef907699edc\",\"subtype\":\"Figure\",\"type\":\"Plot\"}},\"id\":\"a85ba109-4e3b-475c-b957-f5da4e44c52f\",\"type\":\"SaveTool\"},{\"attributes\":{\"callback\":null},\"id\":\"505e1073-85e4-4107-8a50-b9754e35b636\",\"type\":\"DataRange1d\"},{\"attributes\":{\"below\":[{\"id\":\"69f4d44a-27c4-44e2-93d1-ef805a1e9cb0\",\"type\":\"LinearAxis\"}],\"left\":[{\"id\":\"6bdd0a52-352a-487a-b9a5-9c42cdd10702\",\"type\":\"LinearAxis\"}],\"plot_height\":400,\"plot_width\":700,\"renderers\":[{\"id\":\"69f4d44a-27c4-44e2-93d1-ef805a1e9cb0\",\"type\":\"LinearAxis\"},{\"id\":\"87186086-4dde-4dbc-938c-17cbc41b1e61\",\"type\":\"Grid\"},{\"id\":\"6bdd0a52-352a-487a-b9a5-9c42cdd10702\",\"type\":\"LinearAxis\"},{\"id\":\"b3f04563-f2d1-4720-8c8f-78576d42e000\",\"type\":\"Grid\"},{\"id\":\"71ed464b-409e-48f3-aad3-81662efcf3cb\",\"type\":\"BoxAnnotation\"},{\"id\":\"03f5f4f6-4e93-41f1-a9cb-c463f788c9a4\",\"type\":\"GlyphRenderer\"},{\"id\":\"f9cef780-fc18-4ec5-b35e-7e882925233b\",\"type\":\"GlyphRenderer\"}],\"title\":null,\"tool_events\":{\"id\":\"f706bbb9-45ae-46ec-b3a8-0e27b6ecc497\",\"type\":\"ToolEvents\"},\"toolbar\":{\"id\":\"ac2574b6-b65c-4194-97ed-dd150e1d5b24\",\"type\":\"Toolbar\"},\"x_range\":{\"id\":\"505e1073-85e4-4107-8a50-b9754e35b636\",\"type\":\"DataRange1d\"},\"y_range\":{\"id\":\"ab96527d-2532-44c6-843a-40ae93c442ad\",\"type\":\"DataRange1d\"}},\"id\":\"014b931e-4380-4f32-94af-3ef907699edc\",\"subtype\":\"Figure\",\"type\":\"Plot\"},{\"attributes\":{\"data_source\":{\"id\":\"806ccc2d-16f0-4b72-b118-42d243c9e75f\",\"type\":\"ColumnDataSource\"},\"glyph\":{\"id\":\"8acb8cef-9a6c-4849-8adf-fd28c8b9f25f\",\"type\":\"Circle\"},\"hover_glyph\":null,\"nonselection_glyph\":{\"id\":\"b60dc717-fa73-46b6-8b6c-a3711e192ce4\",\"type\":\"Circle\"},\"selection_glyph\":null},\"id\":\"03f5f4f6-4e93-41f1-a9cb-c463f788c9a4\",\"type\":\"GlyphRenderer\"}],\"root_ids\":[\"014b931e-4380-4f32-94af-3ef907699edc\"]},\"title\":\"Bokeh Application\",\"version\":\"0.12.4\"}};\n",
       "            var render_items = [{\"docid\":\"9bc69dbe-258a-44d3-b936-416229e9e020\",\"elementid\":\"2ca0acad-900c-4cac-b284-9ecab634ac7b\",\"modelid\":\"014b931e-4380-4f32-94af-3ef907699edc\"}];\n",
       "            \n",
       "            Bokeh.embed.embed_items(docs_json, render_items);\n",
       "          };\n",
       "          if (document.readyState != \"loading\") fn();\n",
       "          else document.addEventListener(\"DOMContentLoaded\", fn);\n",
       "        })();\n",
       "      },\n",
       "      function(Bokeh) {\n",
       "      }\n",
       "    ];\n",
       "  \n",
       "    function run_inline_js() {\n",
       "      \n",
       "      if ((window.Bokeh !== undefined) || (force === true)) {\n",
       "        for (var i = 0; i < inline_js.length; i++) {\n",
       "          inline_js[i](window.Bokeh);\n",
       "        }if (force === true) {\n",
       "          display_loaded();\n",
       "        }} else if (Date.now() < window._bokeh_timeout) {\n",
       "        setTimeout(run_inline_js, 100);\n",
       "      } else if (!window._bokeh_failed_load) {\n",
       "        console.log(\"Bokeh: BokehJS failed to load within specified timeout.\");\n",
       "        window._bokeh_failed_load = true;\n",
       "      } else if (force !== true) {\n",
       "        var cell = $(document.getElementById(\"2ca0acad-900c-4cac-b284-9ecab634ac7b\")).parents('.cell').data().cell;\n",
       "        cell.output_area.append_execute_result(NB_LOAD_WARNING)\n",
       "      }\n",
       "  \n",
       "    }\n",
       "  \n",
       "    if (window._bokeh_is_loading === 0) {\n",
       "      console.log(\"Bokeh: BokehJS loaded, going straight to plotting\");\n",
       "      run_inline_js();\n",
       "    } else {\n",
       "      load_libs(js_urls, function() {\n",
       "        console.log(\"Bokeh: BokehJS plotting callback run at\", now());\n",
       "        run_inline_js();\n",
       "      });\n",
       "    }\n",
       "  }(this));\n",
       "</script>"
      ]
     },
     "metadata": {},
     "output_type": "display_data"
    }
   ],
   "source": [
    "from sklearn import model_selection\n",
    "N = 100\n",
    "test_size = 0.40\n",
    "error = 1.0\n",
    "np.random.seed(1)\n",
    "x = np.random.random(N)\n",
    "y = biasvariance.test_func(x, error)\n",
    "x_tr, x_valid, y_tr, y_valid = model_selection.train_test_split(x, y, test_size=test_size)\n",
    "fig = bk.figure(plot_width=700, plot_height=400, title=None)\n",
    "fig.circle(x_tr, y_tr, color='blue', size=6, alpha=0.5)\n",
    "fig.circle(x_valid, y_valid, color='red', size=6, alpha=0.5)\n",
    "bk.show(fig)"
   ]
  },
  {
   "cell_type": "markdown",
   "metadata": {},
   "source": [
    "The **model parameters** *(in our case, the coefficients of the polynomials)* are learned using the **training set**.\n",
    "\n",
    "The **meta-parameters** *(in our case, the degree of the polynomial)* are adjusted so that this **validation error** is minimized.\n",
    "\n",
    "Finally, the labels are predicted for the **test set**.\n",
    "\n",
    "The **validation error** of our polynomial classifier can be visualized by plotting the error as a function of the polynomial degree:"
   ]
  },
  {
   "cell_type": "code",
   "execution_count": 16,
   "metadata": {
    "collapsed": false
   },
   "outputs": [
    {
     "data": {
      "text/html": [
       "\n",
       "\n",
       "    <div class=\"bk-root\">\n",
       "        <div class=\"bk-plotdiv\" id=\"72f9ab11-d1d7-4984-88ce-40945f47cb14\"></div>\n",
       "    </div>\n",
       "<script type=\"text/javascript\">\n",
       "  \n",
       "  (function(global) {\n",
       "    function now() {\n",
       "      return new Date();\n",
       "    }\n",
       "  \n",
       "    var force = false;\n",
       "  \n",
       "    if (typeof (window._bokeh_onload_callbacks) === \"undefined\" || force === true) {\n",
       "      window._bokeh_onload_callbacks = [];\n",
       "      window._bokeh_is_loading = undefined;\n",
       "    }\n",
       "  \n",
       "  \n",
       "    \n",
       "    if (typeof (window._bokeh_timeout) === \"undefined\" || force === true) {\n",
       "      window._bokeh_timeout = Date.now() + 0;\n",
       "      window._bokeh_failed_load = false;\n",
       "    }\n",
       "  \n",
       "    var NB_LOAD_WARNING = {'data': {'text/html':\n",
       "       \"<div style='background-color: #fdd'>\\n\"+\n",
       "       \"<p>\\n\"+\n",
       "       \"BokehJS does not appear to have successfully loaded. If loading BokehJS from CDN, this \\n\"+\n",
       "       \"may be due to a slow or bad network connection. Possible fixes:\\n\"+\n",
       "       \"</p>\\n\"+\n",
       "       \"<ul>\\n\"+\n",
       "       \"<li>re-rerun `output_notebook()` to attempt to load from CDN again, or</li>\\n\"+\n",
       "       \"<li>use INLINE resources instead, as so:</li>\\n\"+\n",
       "       \"</ul>\\n\"+\n",
       "       \"<code>\\n\"+\n",
       "       \"from bokeh.resources import INLINE\\n\"+\n",
       "       \"output_notebook(resources=INLINE)\\n\"+\n",
       "       \"</code>\\n\"+\n",
       "       \"</div>\"}};\n",
       "  \n",
       "    function display_loaded() {\n",
       "      if (window.Bokeh !== undefined) {\n",
       "        document.getElementById(\"72f9ab11-d1d7-4984-88ce-40945f47cb14\").textContent = \"BokehJS successfully loaded.\";\n",
       "      } else if (Date.now() < window._bokeh_timeout) {\n",
       "        setTimeout(display_loaded, 100)\n",
       "      }\n",
       "    }\n",
       "  \n",
       "    function run_callbacks() {\n",
       "      window._bokeh_onload_callbacks.forEach(function(callback) { callback() });\n",
       "      delete window._bokeh_onload_callbacks\n",
       "      console.info(\"Bokeh: all callbacks have finished\");\n",
       "    }\n",
       "  \n",
       "    function load_libs(js_urls, callback) {\n",
       "      window._bokeh_onload_callbacks.push(callback);\n",
       "      if (window._bokeh_is_loading > 0) {\n",
       "        console.log(\"Bokeh: BokehJS is being loaded, scheduling callback at\", now());\n",
       "        return null;\n",
       "      }\n",
       "      if (js_urls == null || js_urls.length === 0) {\n",
       "        run_callbacks();\n",
       "        return null;\n",
       "      }\n",
       "      console.log(\"Bokeh: BokehJS not loaded, scheduling load and callback at\", now());\n",
       "      window._bokeh_is_loading = js_urls.length;\n",
       "      for (var i = 0; i < js_urls.length; i++) {\n",
       "        var url = js_urls[i];\n",
       "        var s = document.createElement('script');\n",
       "        s.src = url;\n",
       "        s.async = false;\n",
       "        s.onreadystatechange = s.onload = function() {\n",
       "          window._bokeh_is_loading--;\n",
       "          if (window._bokeh_is_loading === 0) {\n",
       "            console.log(\"Bokeh: all BokehJS libraries loaded\");\n",
       "            run_callbacks()\n",
       "          }\n",
       "        };\n",
       "        s.onerror = function() {\n",
       "          console.warn(\"failed to load library \" + url);\n",
       "        };\n",
       "        console.log(\"Bokeh: injecting script tag for BokehJS library: \", url);\n",
       "        document.getElementsByTagName(\"head\")[0].appendChild(s);\n",
       "      }\n",
       "    };var element = document.getElementById(\"72f9ab11-d1d7-4984-88ce-40945f47cb14\");\n",
       "    if (element == null) {\n",
       "      console.log(\"Bokeh: ERROR: autoload.js configured with elementid '72f9ab11-d1d7-4984-88ce-40945f47cb14' but no matching script tag was found. \")\n",
       "      return false;\n",
       "    }\n",
       "  \n",
       "    var js_urls = [];\n",
       "  \n",
       "    var inline_js = [\n",
       "      function(Bokeh) {\n",
       "        (function() {\n",
       "          var fn = function() {\n",
       "            var docs_json = {\"5727b4a4-12d0-4e80-8c87-8a9996c3dcda\":{\"roots\":{\"references\":[{\"attributes\":{\"plot\":{\"id\":\"344ebbfb-ba97-4a94-825d-58715a3d0c72\",\"subtype\":\"Figure\",\"type\":\"Plot\"}},\"id\":\"b124afcc-7011-4e9c-b509-1514c0d7745e\",\"type\":\"SaveTool\"},{\"attributes\":{},\"id\":\"74833dc5-ca02-4652-9ba4-669db704d912\",\"type\":\"BasicTicker\"},{\"attributes\":{\"data_source\":{\"id\":\"f9da22f9-4db9-44f7-98b3-9ccf8be56c04\",\"type\":\"ColumnDataSource\"},\"glyph\":{\"id\":\"6f65b309-0153-4448-9e0e-3432f40e3abf\",\"type\":\"Line\"},\"hover_glyph\":null,\"nonselection_glyph\":{\"id\":\"8e21e5ae-8c58-4f4a-a59d-0e1fea971fc7\",\"type\":\"Line\"},\"selection_glyph\":null},\"id\":\"ae3991d8-6397-4db4-a56b-8f9a9c7241ef\",\"type\":\"GlyphRenderer\"},{\"attributes\":{\"line_color\":{\"value\":\"green\"},\"line_width\":{\"value\":2},\"x\":{\"field\":\"x\"},\"y\":{\"field\":\"y\"}},\"id\":\"6f65b309-0153-4448-9e0e-3432f40e3abf\",\"type\":\"Line\"},{\"attributes\":{\"axis_label\":\"degree of fit\",\"formatter\":{\"id\":\"c68dbb2a-86c1-4a29-abed-1c0c3a0e305c\",\"type\":\"BasicTickFormatter\"},\"plot\":{\"id\":\"344ebbfb-ba97-4a94-825d-58715a3d0c72\",\"subtype\":\"Figure\",\"type\":\"Plot\"},\"ticker\":{\"id\":\"5e31d8db-bf11-4d60-b83d-6e2b768e0db5\",\"type\":\"BasicTicker\"}},\"id\":\"d8eaeade-b792-4a0f-9ed5-aaaa0855bf32\",\"type\":\"LinearAxis\"},{\"attributes\":{\"grid_line_color\":{\"value\":null},\"plot\":{\"id\":\"344ebbfb-ba97-4a94-825d-58715a3d0c72\",\"subtype\":\"Figure\",\"type\":\"Plot\"},\"ticker\":{\"id\":\"5e31d8db-bf11-4d60-b83d-6e2b768e0db5\",\"type\":\"BasicTicker\"}},\"id\":\"3b726f96-d8a4-47b2-a71a-597448c1cb92\",\"type\":\"Grid\"},{\"attributes\":{\"overlay\":{\"id\":\"0857db5b-a880-40d2-8e12-df8644653bd4\",\"type\":\"BoxAnnotation\"},\"plot\":{\"id\":\"344ebbfb-ba97-4a94-825d-58715a3d0c72\",\"subtype\":\"Figure\",\"type\":\"Plot\"}},\"id\":\"99f09d6a-d568-47ef-91f5-255f0c4033b7\",\"type\":\"BoxZoomTool\"},{\"attributes\":{\"below\":[{\"id\":\"d8eaeade-b792-4a0f-9ed5-aaaa0855bf32\",\"type\":\"LinearAxis\"}],\"left\":[{\"id\":\"04ce1ebd-13e4-4c22-8c56-e359050790eb\",\"type\":\"LinearAxis\"}],\"plot_height\":400,\"plot_width\":700,\"renderers\":[{\"id\":\"d8eaeade-b792-4a0f-9ed5-aaaa0855bf32\",\"type\":\"LinearAxis\"},{\"id\":\"3b726f96-d8a4-47b2-a71a-597448c1cb92\",\"type\":\"Grid\"},{\"id\":\"04ce1ebd-13e4-4c22-8c56-e359050790eb\",\"type\":\"LinearAxis\"},{\"id\":\"b4a37bfa-8de0-4fed-8a30-2d12af1986e5\",\"type\":\"Grid\"},{\"id\":\"0857db5b-a880-40d2-8e12-df8644653bd4\",\"type\":\"BoxAnnotation\"},{\"id\":\"49a1f2a7-af17-4329-8222-6a52725ae6ad\",\"type\":\"Legend\"},{\"id\":\"be78b30b-3808-4c4a-a586-229b35a0c7ea\",\"type\":\"GlyphRenderer\"},{\"id\":\"ae3991d8-6397-4db4-a56b-8f9a9c7241ef\",\"type\":\"GlyphRenderer\"},{\"id\":\"9fd98f4c-8c2e-46b7-a832-bef1c7f53716\",\"type\":\"GlyphRenderer\"}],\"title\":null,\"tool_events\":{\"id\":\"61958c22-3b37-42ef-91c0-0c0eb8e853e9\",\"type\":\"ToolEvents\"},\"toolbar\":{\"id\":\"e3a8283e-69e8-4824-a53b-35c591a70ddd\",\"type\":\"Toolbar\"},\"x_range\":{\"id\":\"e5e19196-1b19-42d6-aa1e-d73e405532a5\",\"type\":\"DataRange1d\"},\"y_range\":{\"id\":\"2a3e7245-2e94-4e87-af5d-34c67bba76cb\",\"type\":\"DataRange1d\"}},\"id\":\"344ebbfb-ba97-4a94-825d-58715a3d0c72\",\"subtype\":\"Figure\",\"type\":\"Plot\"},{\"attributes\":{\"plot\":{\"id\":\"344ebbfb-ba97-4a94-825d-58715a3d0c72\",\"subtype\":\"Figure\",\"type\":\"Plot\"}},\"id\":\"62615186-a615-418f-af50-e0c3c089ba89\",\"type\":\"WheelZoomTool\"},{\"attributes\":{\"callback\":null,\"column_names\":[\"x\",\"y\"],\"data\":{\"x\":[0,20],\"y\":[1.0,1.0]}},\"id\":\"89f2a24e-eaf0-4e9e-ab2a-30a45ef1bcec\",\"type\":\"ColumnDataSource\"},{\"attributes\":{\"label\":{\"value\":\"intrinsic error\"},\"renderers\":[{\"id\":\"9fd98f4c-8c2e-46b7-a832-bef1c7f53716\",\"type\":\"GlyphRenderer\"}]},\"id\":\"8ddb7e3d-fdb1-49e5-92ca-fcfa6eb7e46e\",\"type\":\"LegendItem\"},{\"attributes\":{\"callback\":null},\"id\":\"e5e19196-1b19-42d6-aa1e-d73e405532a5\",\"type\":\"DataRange1d\"},{\"attributes\":{\"line_alpha\":{\"value\":0.1},\"line_color\":{\"value\":\"#1f77b4\"},\"line_width\":{\"value\":2},\"x\":{\"field\":\"x\"},\"y\":{\"field\":\"y\"}},\"id\":\"8e21e5ae-8c58-4f4a-a59d-0e1fea971fc7\",\"type\":\"Line\"},{\"attributes\":{\"dimension\":1,\"grid_line_color\":{\"value\":null},\"plot\":{\"id\":\"344ebbfb-ba97-4a94-825d-58715a3d0c72\",\"subtype\":\"Figure\",\"type\":\"Plot\"},\"ticker\":{\"id\":\"74833dc5-ca02-4652-9ba4-669db704d912\",\"type\":\"BasicTicker\"}},\"id\":\"b4a37bfa-8de0-4fed-8a30-2d12af1986e5\",\"type\":\"Grid\"},{\"attributes\":{\"plot\":{\"id\":\"344ebbfb-ba97-4a94-825d-58715a3d0c72\",\"subtype\":\"Figure\",\"type\":\"Plot\"}},\"id\":\"78929b0f-d1cf-4da5-bb9b-2d48ae9c798a\",\"type\":\"HelpTool\"},{\"attributes\":{},\"id\":\"61958c22-3b37-42ef-91c0-0c0eb8e853e9\",\"type\":\"ToolEvents\"},{\"attributes\":{\"data_source\":{\"id\":\"6b668a7e-d101-4ddb-93a8-b237482439a8\",\"type\":\"ColumnDataSource\"},\"glyph\":{\"id\":\"8506c569-43b4-4c02-965b-6838c067df5d\",\"type\":\"Line\"},\"hover_glyph\":null,\"nonselection_glyph\":{\"id\":\"4b70643d-8b7d-422e-983e-cacb0385d750\",\"type\":\"Line\"},\"selection_glyph\":null},\"id\":\"be78b30b-3808-4c4a-a586-229b35a0c7ea\",\"type\":\"GlyphRenderer\"},{\"attributes\":{\"line_dash\":[6],\"x\":{\"field\":\"x\"},\"y\":{\"field\":\"y\"}},\"id\":\"2799603c-4b71-4212-823c-7ee69fa80dcd\",\"type\":\"Line\"},{\"attributes\":{},\"id\":\"ae36563c-b43c-4146-af68-f461de39a694\",\"type\":\"BasicTickFormatter\"},{\"attributes\":{\"plot\":{\"id\":\"344ebbfb-ba97-4a94-825d-58715a3d0c72\",\"subtype\":\"Figure\",\"type\":\"Plot\"}},\"id\":\"c1af3ab7-5962-42bc-a50e-2881ac4917d5\",\"type\":\"ResetTool\"},{\"attributes\":{},\"id\":\"5e31d8db-bf11-4d60-b83d-6e2b768e0db5\",\"type\":\"BasicTicker\"},{\"attributes\":{\"line_alpha\":{\"value\":0.1},\"line_color\":{\"value\":\"#1f77b4\"},\"line_dash\":[6],\"x\":{\"field\":\"x\"},\"y\":{\"field\":\"y\"}},\"id\":\"30af2db2-a962-45a6-b8cb-2683e42ddebf\",\"type\":\"Line\"},{\"attributes\":{\"callback\":null,\"column_names\":[\"x\",\"y\"],\"data\":{\"x\":[0,1,2,3,4,5,6,7,8,9,10,11,12,13,14,15,16,17,18,19,20,21,22,23,24,25,26,27,28,29,30,31,32,33,34,35,36,37,38,39,40],\"y\":{\"__ndarray__\":\"qC7ypKIP/z/L297JjFz3P/wGX/3aPfM/kdzC4g9L8T+GFcSjysXwP/Cc+POhi/A/LUAcn+Zl8D9GI5kX2MDwP6z0RsRr7fA/1kyIXYXu8D8NMK+z9GHxP/dveeyNX/E/38wKksJu8T9lb8JWTRzyP3WzxoUTSfI/NNmEk79f8j8n9ryIzH/yPxmzIwNSkvI/ecDoNyGc8j99qaFgpHryP6OlqDz/wvI/mr2dh8a18j9ne8VB76HyP86GPSgXm/M/tFifCUC48z91MnxX17rzP4jB9hHxIPM/1sWHDLMy8z9O9ryRKk3zPzkf050EcvM/lRL+rbn78j/9roUgcPzyPxAyk1/9BvM/B52jRWkh8z/Wmyes0U/zPxxPLxW++/U/QWHrVB9o9T+OjOEY9tn0P/YQHbdLZvQ/KDKbfj0Z9D/ki9ue8LH6Pw==\",\"dtype\":\"float64\",\"shape\":[41]}}},\"id\":\"6b668a7e-d101-4ddb-93a8-b237482439a8\",\"type\":\"ColumnDataSource\"},{\"attributes\":{},\"id\":\"c68dbb2a-86c1-4a29-abed-1c0c3a0e305c\",\"type\":\"BasicTickFormatter\"},{\"attributes\":{\"plot\":{\"id\":\"344ebbfb-ba97-4a94-825d-58715a3d0c72\",\"subtype\":\"Figure\",\"type\":\"Plot\"}},\"id\":\"25510b32-d2f1-40ba-b7f1-e80a72350903\",\"type\":\"PanTool\"},{\"attributes\":{\"bottom_units\":\"screen\",\"fill_alpha\":{\"value\":0.5},\"fill_color\":{\"value\":\"lightgrey\"},\"left_units\":\"screen\",\"level\":\"overlay\",\"line_alpha\":{\"value\":1.0},\"line_color\":{\"value\":\"black\"},\"line_dash\":[4,4],\"line_width\":{\"value\":2},\"plot\":null,\"render_mode\":\"css\",\"right_units\":\"screen\",\"top_units\":\"screen\"},\"id\":\"0857db5b-a880-40d2-8e12-df8644653bd4\",\"type\":\"BoxAnnotation\"},{\"attributes\":{\"callback\":null},\"id\":\"2a3e7245-2e94-4e87-af5d-34c67bba76cb\",\"type\":\"DataRange1d\"},{\"attributes\":{\"axis_label\":\"rms error\",\"formatter\":{\"id\":\"ae36563c-b43c-4146-af68-f461de39a694\",\"type\":\"BasicTickFormatter\"},\"plot\":{\"id\":\"344ebbfb-ba97-4a94-825d-58715a3d0c72\",\"subtype\":\"Figure\",\"type\":\"Plot\"},\"ticker\":{\"id\":\"74833dc5-ca02-4652-9ba4-669db704d912\",\"type\":\"BasicTicker\"}},\"id\":\"04ce1ebd-13e4-4c22-8c56-e359050790eb\",\"type\":\"LinearAxis\"},{\"attributes\":{\"line_alpha\":{\"value\":0.1},\"line_color\":{\"value\":\"#1f77b4\"},\"line_width\":{\"value\":2},\"x\":{\"field\":\"x\"},\"y\":{\"field\":\"y\"}},\"id\":\"4b70643d-8b7d-422e-983e-cacb0385d750\",\"type\":\"Line\"},{\"attributes\":{\"active_drag\":\"auto\",\"active_scroll\":\"auto\",\"active_tap\":\"auto\",\"tools\":[{\"id\":\"25510b32-d2f1-40ba-b7f1-e80a72350903\",\"type\":\"PanTool\"},{\"id\":\"62615186-a615-418f-af50-e0c3c089ba89\",\"type\":\"WheelZoomTool\"},{\"id\":\"99f09d6a-d568-47ef-91f5-255f0c4033b7\",\"type\":\"BoxZoomTool\"},{\"id\":\"b124afcc-7011-4e9c-b509-1514c0d7745e\",\"type\":\"SaveTool\"},{\"id\":\"c1af3ab7-5962-42bc-a50e-2881ac4917d5\",\"type\":\"ResetTool\"},{\"id\":\"78929b0f-d1cf-4da5-bb9b-2d48ae9c798a\",\"type\":\"HelpTool\"}]},\"id\":\"e3a8283e-69e8-4824-a53b-35c591a70ddd\",\"type\":\"Toolbar\"},{\"attributes\":{\"callback\":null,\"column_names\":[\"x\",\"y\"],\"data\":{\"x\":[0,1,2,3,4,5,6,7,8,9,10,11,12,13,14,15,16,17,18,19,20,21,22,23,24,25,26,27,28,29,30,31,32,33,34,35,36,37,38,39,40],\"y\":{\"__ndarray__\":\"P1dp/luKAUAZEvIUYuH0Pz3LCcCX2+4/GQHqbXpf6z8M01mk+QbqP8SyDSmihuk/icQmSV1g6T9J5iGu9vnoP9j8xuVr3Og/BNH08hfZ6D+wt5V1arroP5cOL42Pr+g/zqLB2Ryp6D9Y+yEuznHoP680ri+pTug/S4p1lDtF6D9dYYGPCeznPzVp1CC/2+c/2e0rflDb5z8yusJvG9vnPyNn9w3Zbec/v7s4tqiY5z9AFBpcfbTnP8lV5kjokOY/6a1WFjS+5j/Kv9b4vO3mPxzvDamrgOY/BL24G5aS5j/kP+fwdqXmP7sPzcO3t+Y/nZ0AqeqU5j/31jge9KTmP2b4OzZmteY/C0zlNSLF5j+ukW9pMNPmP2Y5r3+HUuY/H5AJoM9w5j8QzHA2WI/mP0wt8N46rOY/MUx7zbjF5j+8IzAt0bflPw==\",\"dtype\":\"float64\",\"shape\":[41]}}},\"id\":\"f9da22f9-4db9-44f7-98b3-9ccf8be56c04\",\"type\":\"ColumnDataSource\"},{\"attributes\":{\"label\":{\"value\":\"training error\"},\"renderers\":[{\"id\":\"ae3991d8-6397-4db4-a56b-8f9a9c7241ef\",\"type\":\"GlyphRenderer\"}]},\"id\":\"aa7d564d-4be9-48cd-9f61-69fd6513843f\",\"type\":\"LegendItem\"},{\"attributes\":{\"data_source\":{\"id\":\"89f2a24e-eaf0-4e9e-ab2a-30a45ef1bcec\",\"type\":\"ColumnDataSource\"},\"glyph\":{\"id\":\"2799603c-4b71-4212-823c-7ee69fa80dcd\",\"type\":\"Line\"},\"hover_glyph\":null,\"nonselection_glyph\":{\"id\":\"30af2db2-a962-45a6-b8cb-2683e42ddebf\",\"type\":\"Line\"},\"selection_glyph\":null},\"id\":\"9fd98f4c-8c2e-46b7-a832-bef1c7f53716\",\"type\":\"GlyphRenderer\"},{\"attributes\":{\"line_color\":{\"value\":\"royalblue\"},\"line_width\":{\"value\":2},\"x\":{\"field\":\"x\"},\"y\":{\"field\":\"y\"}},\"id\":\"8506c569-43b4-4c02-965b-6838c067df5d\",\"type\":\"Line\"},{\"attributes\":{\"label\":{\"value\":\"cross-validation error\"},\"renderers\":[{\"id\":\"be78b30b-3808-4c4a-a586-229b35a0c7ea\",\"type\":\"GlyphRenderer\"}]},\"id\":\"91f5a91f-223f-4060-919b-02581eccb74e\",\"type\":\"LegendItem\"},{\"attributes\":{\"items\":[{\"id\":\"91f5a91f-223f-4060-919b-02581eccb74e\",\"type\":\"LegendItem\"},{\"id\":\"aa7d564d-4be9-48cd-9f61-69fd6513843f\",\"type\":\"LegendItem\"},{\"id\":\"8ddb7e3d-fdb1-49e5-92ca-fcfa6eb7e46e\",\"type\":\"LegendItem\"}],\"plot\":{\"id\":\"344ebbfb-ba97-4a94-825d-58715a3d0c72\",\"subtype\":\"Figure\",\"type\":\"Plot\"}},\"id\":\"49a1f2a7-af17-4329-8222-6a52725ae6ad\",\"type\":\"Legend\"}],\"root_ids\":[\"344ebbfb-ba97-4a94-825d-58715a3d0c72\"]},\"title\":\"Bokeh Application\",\"version\":\"0.12.4\"}};\n",
       "            var render_items = [{\"docid\":\"5727b4a4-12d0-4e80-8c87-8a9996c3dcda\",\"elementid\":\"72f9ab11-d1d7-4984-88ce-40945f47cb14\",\"modelid\":\"344ebbfb-ba97-4a94-825d-58715a3d0c72\"}];\n",
       "            \n",
       "            Bokeh.embed.embed_items(docs_json, render_items);\n",
       "          };\n",
       "          if (document.readyState != \"loading\") fn();\n",
       "          else document.addEventListener(\"DOMContentLoaded\", fn);\n",
       "        })();\n",
       "      },\n",
       "      function(Bokeh) {\n",
       "      }\n",
       "    ];\n",
       "  \n",
       "    function run_inline_js() {\n",
       "      \n",
       "      if ((window.Bokeh !== undefined) || (force === true)) {\n",
       "        for (var i = 0; i < inline_js.length; i++) {\n",
       "          inline_js[i](window.Bokeh);\n",
       "        }if (force === true) {\n",
       "          display_loaded();\n",
       "        }} else if (Date.now() < window._bokeh_timeout) {\n",
       "        setTimeout(run_inline_js, 100);\n",
       "      } else if (!window._bokeh_failed_load) {\n",
       "        console.log(\"Bokeh: BokehJS failed to load within specified timeout.\");\n",
       "        window._bokeh_failed_load = true;\n",
       "      } else if (force !== true) {\n",
       "        var cell = $(document.getElementById(\"72f9ab11-d1d7-4984-88ce-40945f47cb14\")).parents('.cell').data().cell;\n",
       "        cell.output_area.append_execute_result(NB_LOAD_WARNING)\n",
       "      }\n",
       "  \n",
       "    }\n",
       "  \n",
       "    if (window._bokeh_is_loading === 0) {\n",
       "      console.log(\"Bokeh: BokehJS loaded, going straight to plotting\");\n",
       "      run_inline_js();\n",
       "    } else {\n",
       "      load_libs(js_urls, function() {\n",
       "        console.log(\"Bokeh: BokehJS plotting callback run at\", now());\n",
       "        run_inline_js();\n",
       "      });\n",
       "    }\n",
       "  }(this));\n",
       "</script>"
      ]
     },
     "metadata": {},
     "output_type": "display_data"
    }
   ],
   "source": [
    "import warnings\n",
    "warnings.filterwarnings('ignore', message='Polyfit*')\n",
    "\n",
    "degrees = np.arange(41)\n",
    "train_err = np.zeros(len(degrees))\n",
    "validation_err = np.zeros(len(degrees))\n",
    "\n",
    "for i, d in enumerate(degrees):\n",
    "    p = np.polyfit(x_tr, y_tr, d)\n",
    "    train_err[i] = biasvariance.compute_error(x_tr, y_tr, p)\n",
    "    validation_err[i] = biasvariance.compute_error(x_valid, y_valid, p)\n",
    "\n",
    "fig = bk.figure(plot_width=700, plot_height=400, title=None)\n",
    "\n",
    "fig.line(degrees, validation_err,\n",
    "         line_width=2, legend='cross-validation error', color='royalblue')\n",
    "fig.line(degrees, train_err, line_width=2, legend='training error', color='green')\n",
    "fig.line([0, 20], [error, error], line_dash='dashed', legend='intrinsic error', color='black')\n",
    "\n",
    "fig.xaxis.axis_label = 'degree of fit'\n",
    "fig.yaxis.axis_label = 'rms error'\n",
    "\n",
    "fig.grid.grid_line_color = None\n",
    "\n",
    "bk.show(fig)"
   ]
  },
  {
   "cell_type": "markdown",
   "metadata": {},
   "source": [
    "For this toy dataset, error = 1.0 is the best we can hope to obtain. Choosing `d=6` in this case gets us very close to the optimal error.\n",
    "\n",
    "Notice that in the above plot, `d=6` gives the best results. But in the very first example, we found that `d=6` vastly over-fits the data. What’s going on here? The difference is the **number of training points** used:\n",
    "\n",
    "**As a general rule of thumb, the more the training points, the more complex the model can be.**"
   ]
  },
  {
   "cell_type": "markdown",
   "metadata": {},
   "source": [
    "## 4 Do I need More Training Samples?"
   ]
  },
  {
   "cell_type": "markdown",
   "metadata": {},
   "source": [
    "In order to exploit the relationship outlined above, between the complexity of the model and the number of examples, we use a tool called **Learning Curves**. Learning Curves works by plotting the training error and validation (or test) error as a **function of the number of training points**:"
   ]
  },
  {
   "cell_type": "code",
   "execution_count": 17,
   "metadata": {
    "collapsed": false
   },
   "outputs": [],
   "source": [
    "def plot_learning_curve(d, N=100, y_range=None):\n",
    "    test_size = 0.40\n",
    "    n_sizes = 50       # Number of testing point in which to split the size\n",
    "    n_runs = 20        # Number of times to run the test for each training set size\n",
    "    sizes = np.linspace(2, N, n_sizes).astype(int)\n",
    "    train_err = np.zeros((n_runs, n_sizes))\n",
    "    validation_err = np.zeros((n_runs, n_sizes))\n",
    "    for run in range(n_runs):\n",
    "        for nsize, size in enumerate(sizes):\n",
    "            x_tr, x_valid, y_tr, y_valid = model_selection.train_test_split(x, y,\n",
    "                                           test_size=test_size, random_state=run)\n",
    "            # Train on only the first `size` points\n",
    "            p = np.polyfit(x_tr[:size], y_tr[:size], d)\n",
    "            # Validation error is on the *entire* validation set\n",
    "            validation_err[run, nsize] = biasvariance.compute_error(x_valid, y_valid, p)\n",
    "            # Training error is on only the points used for training\n",
    "            train_err[run, nsize] = biasvariance.compute_error(x_tr[:size], y_tr[:size], p)\n",
    "\n",
    "    fig = bk.figure(plot_width=400, plot_height=300, title='d = %i' % d,\n",
    "                    x_range=(0, N-1)) \n",
    "    fig.title.text_font_size = '11pt'\n",
    "    fig.xaxis.axis_label_text_font_size = '9pt'\n",
    "    fig.yaxis.axis_label_text_font_size = '9pt'\n",
    "    \n",
    "    fig.line(sizes, validation_err.mean(axis=0), \n",
    "             line_width=2, legend='mean validation error', color='royalblue')\n",
    "    fig.line(sizes, train_err.mean(axis=0),\n",
    "             line_width=2, legend='mean training error', color='green')\n",
    "    fig.line([0, N], [error, error],\n",
    "             line_dash='dashed', legend='intrinsic error', color='black')\n",
    "    \n",
    "    fig.xaxis.axis_label = 'traning set size'\n",
    "    fig.yaxis.axis_label = 'rms error'\n",
    "    fig.legend.location = 'top_right'\n",
    "    \n",
    "    if y_range:\n",
    "        fig.y_range = Range1d(y_range[0], y_range[1])\n",
    "\n",
    "    fig.grid.grid_line_color = None\n",
    "    bk.show(fig)"
   ]
  },
  {
   "cell_type": "markdown",
   "metadata": {},
   "source": [
    "Now we look at the behavior of <font color=\"royalblue\">$E_{train}$</font> and <font color=\"red\">$E_{test}$</font>.\n",
    "\n",
    "<font color=\"red\">As we increase $N$, $E_{test}$ decreases</font> until the limit of the algorithm, that is its $Bias$.\n",
    "\n",
    "<font color=\"royalblue\">As we increase $N$, $E_{train}$ increases</font>, because with few datapoints the task is simpler, while adding more data increase the difficulty of the algorithm to fit them.\n",
    "\n",
    "The discrepancy of the two curves is the **generalization error**. It should shrink and get tighter as generalization increases."
   ]
  },
  {
   "cell_type": "code",
   "execution_count": 18,
   "metadata": {
    "collapsed": false
   },
   "outputs": [
    {
     "data": {
      "image/png": "[encoded data removed]",
      "text/plain": [
       "<IPython.core.display.Image object>"
      ]
     },
     "execution_count": 18,
     "metadata": {},
     "output_type": "execute_result"
    }
   ],
   "source": [
    "Image('utilities/learning_curves.png') "
   ]
  },
  {
   "cell_type": "markdown",
   "metadata": {},
   "source": [
    "In the left picture (simple model) we can see that the model \"true\" error (the best the model can do) is high and pretty soon (that is for lower values of $N$) we reach the point were both $E_{train}$ and $E_{test}$ are closer. In the right picture (complex model) we can see that, since it is more complex, it has a better approximation of the target function and thus can achieve (in principle) a lower $E_{test}$ error. The function is so complex that with few data points it fits them perfectly reaching a training error of zero. However if we look at the corresponding $E_{test}$ we can see that it is very high, we haven't learn anything. As the number of examples grows, $E_{test}$ starts lowering and it gets lower than the other model, but the discrepancy between the two errors remains higher than that of the previous example. \n",
    "\n",
    "Let's see a practical example:"
   ]
  },
  {
   "cell_type": "code",
   "execution_count": 19,
   "metadata": {
    "collapsed": false
   },
   "outputs": [
    {
     "data": {
      "text/html": [
       "\n",
       "\n",
       "    <div class=\"bk-root\">\n",
       "        <div class=\"bk-plotdiv\" id=\"0c559eb2-6d65-419d-bece-2e18ed016cce\"></div>\n",
       "    </div>\n",
       "<script type=\"text/javascript\">\n",
       "  \n",
       "  (function(global) {\n",
       "    function now() {\n",
       "      return new Date();\n",
       "    }\n",
       "  \n",
       "    var force = false;\n",
       "  \n",
       "    if (typeof (window._bokeh_onload_callbacks) === \"undefined\" || force === true) {\n",
       "      window._bokeh_onload_callbacks = [];\n",
       "      window._bokeh_is_loading = undefined;\n",
       "    }\n",
       "  \n",
       "  \n",
       "    \n",
       "    if (typeof (window._bokeh_timeout) === \"undefined\" || force === true) {\n",
       "      window._bokeh_timeout = Date.now() + 0;\n",
       "      window._bokeh_failed_load = false;\n",
       "    }\n",
       "  \n",
       "    var NB_LOAD_WARNING = {'data': {'text/html':\n",
       "       \"<div style='background-color: #fdd'>\\n\"+\n",
       "       \"<p>\\n\"+\n",
       "       \"BokehJS does not appear to have successfully loaded. If loading BokehJS from CDN, this \\n\"+\n",
       "       \"may be due to a slow or bad network connection. Possible fixes:\\n\"+\n",
       "       \"</p>\\n\"+\n",
       "       \"<ul>\\n\"+\n",
       "       \"<li>re-rerun `output_notebook()` to attempt to load from CDN again, or</li>\\n\"+\n",
       "       \"<li>use INLINE resources instead, as so:</li>\\n\"+\n",
       "       \"</ul>\\n\"+\n",
       "       \"<code>\\n\"+\n",
       "       \"from bokeh.resources import INLINE\\n\"+\n",
       "       \"output_notebook(resources=INLINE)\\n\"+\n",
       "       \"</code>\\n\"+\n",
       "       \"</div>\"}};\n",
       "  \n",
       "    function display_loaded() {\n",
       "      if (window.Bokeh !== undefined) {\n",
       "        document.getElementById(\"0c559eb2-6d65-419d-bece-2e18ed016cce\").textContent = \"BokehJS successfully loaded.\";\n",
       "      } else if (Date.now() < window._bokeh_timeout) {\n",
       "        setTimeout(display_loaded, 100)\n",
       "      }\n",
       "    }\n",
       "  \n",
       "    function run_callbacks() {\n",
       "      window._bokeh_onload_callbacks.forEach(function(callback) { callback() });\n",
       "      delete window._bokeh_onload_callbacks\n",
       "      console.info(\"Bokeh: all callbacks have finished\");\n",
       "    }\n",
       "  \n",
       "    function load_libs(js_urls, callback) {\n",
       "      window._bokeh_onload_callbacks.push(callback);\n",
       "      if (window._bokeh_is_loading > 0) {\n",
       "        console.log(\"Bokeh: BokehJS is being loaded, scheduling callback at\", now());\n",
       "        return null;\n",
       "      }\n",
       "      if (js_urls == null || js_urls.length === 0) {\n",
       "        run_callbacks();\n",
       "        return null;\n",
       "      }\n",
       "      console.log(\"Bokeh: BokehJS not loaded, scheduling load and callback at\", now());\n",
       "      window._bokeh_is_loading = js_urls.length;\n",
       "      for (var i = 0; i < js_urls.length; i++) {\n",
       "        var url = js_urls[i];\n",
       "        var s = document.createElement('script');\n",
       "        s.src = url;\n",
       "        s.async = false;\n",
       "        s.onreadystatechange = s.onload = function() {\n",
       "          window._bokeh_is_loading--;\n",
       "          if (window._bokeh_is_loading === 0) {\n",
       "            console.log(\"Bokeh: all BokehJS libraries loaded\");\n",
       "            run_callbacks()\n",
       "          }\n",
       "        };\n",
       "        s.onerror = function() {\n",
       "          console.warn(\"failed to load library \" + url);\n",
       "        };\n",
       "        console.log(\"Bokeh: injecting script tag for BokehJS library: \", url);\n",
       "        document.getElementsByTagName(\"head\")[0].appendChild(s);\n",
       "      }\n",
       "    };var element = document.getElementById(\"0c559eb2-6d65-419d-bece-2e18ed016cce\");\n",
       "    if (element == null) {\n",
       "      console.log(\"Bokeh: ERROR: autoload.js configured with elementid '0c559eb2-6d65-419d-bece-2e18ed016cce' but no matching script tag was found. \")\n",
       "      return false;\n",
       "    }\n",
       "  \n",
       "    var js_urls = [];\n",
       "  \n",
       "    var inline_js = [\n",
       "      function(Bokeh) {\n",
       "        (function() {\n",
       "          var fn = function() {\n",
       "            var docs_json = {\"2d356976-8ac9-4b21-9feb-fc587ba647da\":{\"roots\":{\"references\":[{\"attributes\":{\"data_source\":{\"id\":\"d7a29e55-e1f6-4d7b-a53b-f7800ca7d468\",\"type\":\"ColumnDataSource\"},\"glyph\":{\"id\":\"90a27e20-efec-45cf-bb3a-a3b7f309a4fa\",\"type\":\"Line\"},\"hover_glyph\":null,\"nonselection_glyph\":{\"id\":\"2d0ab712-1155-44aa-a096-1f762173bc01\",\"type\":\"Line\"},\"selection_glyph\":null},\"id\":\"08f5a018-e363-4fe0-9e1b-3e9070b0bcab\",\"type\":\"GlyphRenderer\"},{\"attributes\":{\"items\":[{\"id\":\"1c6ca885-757a-4e98-bbf9-733c833b0b16\",\"type\":\"LegendItem\"},{\"id\":\"1f8153ce-8a32-417c-999a-7cae34f861c8\",\"type\":\"LegendItem\"},{\"id\":\"550132b3-adea-405f-9e0e-c1d178d6f6e8\",\"type\":\"LegendItem\"}],\"plot\":{\"id\":\"0898ab47-778e-4156-b40d-4fb172a38b0f\",\"subtype\":\"Figure\",\"type\":\"Plot\"}},\"id\":\"c2a3af96-c88d-45f3-8ab5-7c34df874581\",\"type\":\"Legend\"},{\"attributes\":{\"data_source\":{\"id\":\"bb2d836e-5a7a-40d7-9d24-3f879462fb76\",\"type\":\"ColumnDataSource\"},\"glyph\":{\"id\":\"5bef1735-30fe-422e-8cf7-e2d7607fed66\",\"type\":\"Line\"},\"hover_glyph\":null,\"nonselection_glyph\":{\"id\":\"33ad3ebc-fcb3-4da2-ab9d-04e38c8a4dcb\",\"type\":\"Line\"},\"selection_glyph\":null},\"id\":\"44cbcd80-35cc-4734-b743-3552b30a89bf\",\"type\":\"GlyphRenderer\"},{\"attributes\":{\"axis_label\":\"traning set size\",\"axis_label_text_font_size\":{\"value\":\"9pt\"},\"formatter\":{\"id\":\"173fed58-d02c-4983-adb5-088a3904e9f1\",\"type\":\"BasicTickFormatter\"},\"plot\":{\"id\":\"0898ab47-778e-4156-b40d-4fb172a38b0f\",\"subtype\":\"Figure\",\"type\":\"Plot\"},\"ticker\":{\"id\":\"791e97d9-13db-47c2-b59c-94d1b8454bf9\",\"type\":\"BasicTicker\"}},\"id\":\"804deb07-ac8a-4dd2-967f-43093dc6d299\",\"type\":\"LinearAxis\"},{\"attributes\":{\"line_color\":{\"value\":\"royalblue\"},\"line_width\":{\"value\":2},\"x\":{\"field\":\"x\"},\"y\":{\"field\":\"y\"}},\"id\":\"90a27e20-efec-45cf-bb3a-a3b7f309a4fa\",\"type\":\"Line\"},{\"attributes\":{\"axis_label\":\"rms error\",\"axis_label_text_font_size\":{\"value\":\"9pt\"},\"formatter\":{\"id\":\"c46574a5-fc93-4618-8be7-fd27582ca6e1\",\"type\":\"BasicTickFormatter\"},\"plot\":{\"id\":\"0898ab47-778e-4156-b40d-4fb172a38b0f\",\"subtype\":\"Figure\",\"type\":\"Plot\"},\"ticker\":{\"id\":\"62887591-b977-478f-93e9-9b9f993ba8c7\",\"type\":\"BasicTicker\"}},\"id\":\"25f59b46-9b33-4487-b01c-bba64f7fb9cf\",\"type\":\"LinearAxis\"},{\"attributes\":{\"plot\":{\"id\":\"0898ab47-778e-4156-b40d-4fb172a38b0f\",\"subtype\":\"Figure\",\"type\":\"Plot\"}},\"id\":\"fd8075e8-c099-4e6f-ac37-62f01cedcd1a\",\"type\":\"ResetTool\"},{\"attributes\":{\"overlay\":{\"id\":\"bc37e1d5-50cb-4254-a97a-a98d0f6c7677\",\"type\":\"BoxAnnotation\"},\"plot\":{\"id\":\"0898ab47-778e-4156-b40d-4fb172a38b0f\",\"subtype\":\"Figure\",\"type\":\"Plot\"}},\"id\":\"9df6094d-484c-41df-897b-bfb3fa82ddf5\",\"type\":\"BoxZoomTool\"},{\"attributes\":{\"line_color\":{\"value\":\"green\"},\"line_width\":{\"value\":2},\"x\":{\"field\":\"x\"},\"y\":{\"field\":\"y\"}},\"id\":\"0174e8ef-436b-43e6-b1fa-64b299ec6834\",\"type\":\"Line\"},{\"attributes\":{\"line_alpha\":{\"value\":0.1},\"line_color\":{\"value\":\"#1f77b4\"},\"line_width\":{\"value\":2},\"x\":{\"field\":\"x\"},\"y\":{\"field\":\"y\"}},\"id\":\"2d0ab712-1155-44aa-a096-1f762173bc01\",\"type\":\"Line\"},{\"attributes\":{},\"id\":\"62887591-b977-478f-93e9-9b9f993ba8c7\",\"type\":\"BasicTicker\"},{\"attributes\":{\"label\":{\"value\":\"mean validation error\"},\"renderers\":[{\"id\":\"08f5a018-e363-4fe0-9e1b-3e9070b0bcab\",\"type\":\"GlyphRenderer\"}]},\"id\":\"1c6ca885-757a-4e98-bbf9-733c833b0b16\",\"type\":\"LegendItem\"},{\"attributes\":{\"plot\":{\"id\":\"0898ab47-778e-4156-b40d-4fb172a38b0f\",\"subtype\":\"Figure\",\"type\":\"Plot\"}},\"id\":\"1d2b2d85-d1cf-461c-84f4-bd3ca78279c1\",\"type\":\"WheelZoomTool\"},{\"attributes\":{\"plot\":{\"id\":\"0898ab47-778e-4156-b40d-4fb172a38b0f\",\"subtype\":\"Figure\",\"type\":\"Plot\"}},\"id\":\"b97b950d-2a1e-4f71-a729-5beb967411c6\",\"type\":\"PanTool\"},{\"attributes\":{\"line_dash\":[6],\"x\":{\"field\":\"x\"},\"y\":{\"field\":\"y\"}},\"id\":\"5bef1735-30fe-422e-8cf7-e2d7607fed66\",\"type\":\"Line\"},{\"attributes\":{\"callback\":null,\"column_names\":[\"x\",\"y\"],\"data\":{\"x\":[0,100],\"y\":[1.0,1.0]}},\"id\":\"bb2d836e-5a7a-40d7-9d24-3f879462fb76\",\"type\":\"ColumnDataSource\"},{\"attributes\":{},\"id\":\"c46574a5-fc93-4618-8be7-fd27582ca6e1\",\"type\":\"BasicTickFormatter\"},{\"attributes\":{\"callback\":null,\"end\":99},\"id\":\"ab2d7a4f-e392-41d6-bea5-8155859b57bd\",\"type\":\"Range1d\"},{\"attributes\":{\"data_source\":{\"id\":\"6a1c9423-aa34-49f1-ad65-49483b770fc0\",\"type\":\"ColumnDataSource\"},\"glyph\":{\"id\":\"0174e8ef-436b-43e6-b1fa-64b299ec6834\",\"type\":\"Line\"},\"hover_glyph\":null,\"nonselection_glyph\":{\"id\":\"318e2420-5ead-400a-a866-60c222490f8f\",\"type\":\"Line\"},\"selection_glyph\":null},\"id\":\"3ea1932e-3f6c-4781-8ed2-720d6aeb1572\",\"type\":\"GlyphRenderer\"},{\"attributes\":{\"plot\":null,\"text\":\"d = 1\",\"text_font_size\":{\"value\":\"11pt\"}},\"id\":\"37abdc49-edda-4cf1-a71d-fc5aee461c61\",\"type\":\"Title\"},{\"attributes\":{\"callback\":null},\"id\":\"e49d3a92-bdc6-4f80-8fa4-447237b98ffa\",\"type\":\"DataRange1d\"},{\"attributes\":{\"callback\":null,\"column_names\":[\"x\",\"y\"],\"data\":{\"x\":[2,4,6,8,10,12,14,16,18,20,22,24,26,28,30,32,34,36,38,40,42,44,46,48,50,52,54,56,58,60,62,64,66,68,70,72,74,76,78,80,82,84,86,88,90,92,94,96,98,100],\"y\":{\"__ndarray__\":\"s3bVA+FUE0Bb4ndMQXP+P8LPsJ0iX/k/+rRoW2pw+D/AYD+9xN73P06ZndZ///c/g4uwoRrv9z8YslrGnez3P0t2oq6rzvc/6pTEV09r9z98NffbUWH3P7Lk3yN+gvc/r5WNy4VL9z9wr2DG6VD3PzWQQlAfXPc/YAxYxKxY9z8pLrXzTBr3PyXuNDE+CPc/SpFLYUcF9z9C49iN/fb2P/4yDIEg/vY/iv82Aun/9j836zWyH+D2Px6+rPkM2fY/++mj00rV9j8STjMk8772PzaZoldowvY//k6lcSHH9j9uGV2qBbn2P+QdGRrbtfY/5B0ZGtu19j/kHRka27X2P+QdGRrbtfY/5B0ZGtu19j/kHRka27X2P+QdGRrbtfY/5B0ZGtu19j/kHRka27X2P+QdGRrbtfY/5B0ZGtu19j/kHRka27X2P+QdGRrbtfY/5B0ZGtu19j/kHRka27X2P+QdGRrbtfY/5B0ZGtu19j/kHRka27X2P+QdGRrbtfY/5B0ZGtu19j/kHRka27X2Pw==\",\"dtype\":\"float64\",\"shape\":[50]}}},\"id\":\"d7a29e55-e1f6-4d7b-a53b-f7800ca7d468\",\"type\":\"ColumnDataSource\"},{\"attributes\":{},\"id\":\"3ba66a6c-cd86-47d7-8c84-97c2d2bf7bf3\",\"type\":\"ToolEvents\"},{\"attributes\":{\"dimension\":1,\"grid_line_color\":{\"value\":null},\"plot\":{\"id\":\"0898ab47-778e-4156-b40d-4fb172a38b0f\",\"subtype\":\"Figure\",\"type\":\"Plot\"},\"ticker\":{\"id\":\"62887591-b977-478f-93e9-9b9f993ba8c7\",\"type\":\"BasicTicker\"}},\"id\":\"e190cefb-bc62-43f6-9289-f27b7d1fdd93\",\"type\":\"Grid\"},{\"attributes\":{\"below\":[{\"id\":\"804deb07-ac8a-4dd2-967f-43093dc6d299\",\"type\":\"LinearAxis\"}],\"left\":[{\"id\":\"25f59b46-9b33-4487-b01c-bba64f7fb9cf\",\"type\":\"LinearAxis\"}],\"plot_height\":300,\"plot_width\":400,\"renderers\":[{\"id\":\"804deb07-ac8a-4dd2-967f-43093dc6d299\",\"type\":\"LinearAxis\"},{\"id\":\"529b5c89-b24e-4cf1-91e4-2c35b360236e\",\"type\":\"Grid\"},{\"id\":\"25f59b46-9b33-4487-b01c-bba64f7fb9cf\",\"type\":\"LinearAxis\"},{\"id\":\"e190cefb-bc62-43f6-9289-f27b7d1fdd93\",\"type\":\"Grid\"},{\"id\":\"bc37e1d5-50cb-4254-a97a-a98d0f6c7677\",\"type\":\"BoxAnnotation\"},{\"id\":\"c2a3af96-c88d-45f3-8ab5-7c34df874581\",\"type\":\"Legend\"},{\"id\":\"08f5a018-e363-4fe0-9e1b-3e9070b0bcab\",\"type\":\"GlyphRenderer\"},{\"id\":\"3ea1932e-3f6c-4781-8ed2-720d6aeb1572\",\"type\":\"GlyphRenderer\"},{\"id\":\"44cbcd80-35cc-4734-b743-3552b30a89bf\",\"type\":\"GlyphRenderer\"}],\"title\":{\"id\":\"37abdc49-edda-4cf1-a71d-fc5aee461c61\",\"type\":\"Title\"},\"tool_events\":{\"id\":\"3ba66a6c-cd86-47d7-8c84-97c2d2bf7bf3\",\"type\":\"ToolEvents\"},\"toolbar\":{\"id\":\"62c30c78-a564-46a5-aa87-e16cbdd9546d\",\"type\":\"Toolbar\"},\"x_range\":{\"id\":\"ab2d7a4f-e392-41d6-bea5-8155859b57bd\",\"type\":\"Range1d\"},\"y_range\":{\"id\":\"e49d3a92-bdc6-4f80-8fa4-447237b98ffa\",\"type\":\"DataRange1d\"}},\"id\":\"0898ab47-778e-4156-b40d-4fb172a38b0f\",\"subtype\":\"Figure\",\"type\":\"Plot\"},{\"attributes\":{},\"id\":\"173fed58-d02c-4983-adb5-088a3904e9f1\",\"type\":\"BasicTickFormatter\"},{\"attributes\":{\"line_alpha\":{\"value\":0.1},\"line_color\":{\"value\":\"#1f77b4\"},\"line_width\":{\"value\":2},\"x\":{\"field\":\"x\"},\"y\":{\"field\":\"y\"}},\"id\":\"318e2420-5ead-400a-a866-60c222490f8f\",\"type\":\"Line\"},{\"attributes\":{\"plot\":{\"id\":\"0898ab47-778e-4156-b40d-4fb172a38b0f\",\"subtype\":\"Figure\",\"type\":\"Plot\"}},\"id\":\"bf7df288-125c-43d0-99b6-633572ff60bc\",\"type\":\"HelpTool\"},{\"attributes\":{\"line_alpha\":{\"value\":0.1},\"line_color\":{\"value\":\"#1f77b4\"},\"line_dash\":[6],\"x\":{\"field\":\"x\"},\"y\":{\"field\":\"y\"}},\"id\":\"33ad3ebc-fcb3-4da2-ab9d-04e38c8a4dcb\",\"type\":\"Line\"},{\"attributes\":{\"active_drag\":\"auto\",\"active_scroll\":\"auto\",\"active_tap\":\"auto\",\"tools\":[{\"id\":\"b97b950d-2a1e-4f71-a729-5beb967411c6\",\"type\":\"PanTool\"},{\"id\":\"1d2b2d85-d1cf-461c-84f4-bd3ca78279c1\",\"type\":\"WheelZoomTool\"},{\"id\":\"9df6094d-484c-41df-897b-bfb3fa82ddf5\",\"type\":\"BoxZoomTool\"},{\"id\":\"4b456306-2335-4573-8642-d1d9091d8a16\",\"type\":\"SaveTool\"},{\"id\":\"fd8075e8-c099-4e6f-ac37-62f01cedcd1a\",\"type\":\"ResetTool\"},{\"id\":\"bf7df288-125c-43d0-99b6-633572ff60bc\",\"type\":\"HelpTool\"}]},\"id\":\"62c30c78-a564-46a5-aa87-e16cbdd9546d\",\"type\":\"Toolbar\"},{\"attributes\":{},\"id\":\"791e97d9-13db-47c2-b59c-94d1b8454bf9\",\"type\":\"BasicTicker\"},{\"attributes\":{\"plot\":{\"id\":\"0898ab47-778e-4156-b40d-4fb172a38b0f\",\"subtype\":\"Figure\",\"type\":\"Plot\"}},\"id\":\"4b456306-2335-4573-8642-d1d9091d8a16\",\"type\":\"SaveTool\"},{\"attributes\":{\"callback\":null,\"column_names\":[\"x\",\"y\"],\"data\":{\"x\":[2,4,6,8,10,12,14,16,18,20,22,24,26,28,30,32,34,36,38,40,42,44,46,48,50,52,54,56,58,60,62,64,66,68,70,72,74,76,78,80,82,84,86,88,90,92,94,96,98,100],\"y\":{\"__ndarray__\":\"sCTTQWWr5jxnpHmMVG3mP2J9rHp6Cu8/RUe8xzW47z83PBdEiafwP62+RJr3EPE/wq0+Rt9a8j+vEOyDhdLyPxQggfWYvfI/m9pAviPR8j8+Yu8bsXTzPwb/Z7/cxvM/JlTIz4mm9D+d3WZ0Bw71P2+BA3+3EfU/fKh5wIDd9D9udurvCjr1P6p/BuTXFPU/OiBJy4rx9D+DDXywgwz1P2ItK7tE4/Q/61zHet3R9D+yltYv2Yj1PxvntT/RV/U/Sdzgm0tF9T8DNr0whlv1P/e+jxYeavU/L6dhXUZH9T+SKqyJPT31P9B/hZggFfU/0H+FmCAV9T/Qf4WYIBX1P9B/hZggFfU/0H+FmCAV9T/Qf4WYIBX1P9B/hZggFfU/0H+FmCAV9T/Qf4WYIBX1P9B/hZggFfU/0H+FmCAV9T/Qf4WYIBX1P9B/hZggFfU/0H+FmCAV9T/Qf4WYIBX1P9B/hZggFfU/0H+FmCAV9T/Qf4WYIBX1P9B/hZggFfU/0H+FmCAV9T/Qf4WYIBX1Pw==\",\"dtype\":\"float64\",\"shape\":[50]}}},\"id\":\"6a1c9423-aa34-49f1-ad65-49483b770fc0\",\"type\":\"ColumnDataSource\"},{\"attributes\":{\"bottom_units\":\"screen\",\"fill_alpha\":{\"value\":0.5},\"fill_color\":{\"value\":\"lightgrey\"},\"left_units\":\"screen\",\"level\":\"overlay\",\"line_alpha\":{\"value\":1.0},\"line_color\":{\"value\":\"black\"},\"line_dash\":[4,4],\"line_width\":{\"value\":2},\"plot\":null,\"render_mode\":\"css\",\"right_units\":\"screen\",\"top_units\":\"screen\"},\"id\":\"bc37e1d5-50cb-4254-a97a-a98d0f6c7677\",\"type\":\"BoxAnnotation\"},{\"attributes\":{\"grid_line_color\":{\"value\":null},\"plot\":{\"id\":\"0898ab47-778e-4156-b40d-4fb172a38b0f\",\"subtype\":\"Figure\",\"type\":\"Plot\"},\"ticker\":{\"id\":\"791e97d9-13db-47c2-b59c-94d1b8454bf9\",\"type\":\"BasicTicker\"}},\"id\":\"529b5c89-b24e-4cf1-91e4-2c35b360236e\",\"type\":\"Grid\"},{\"attributes\":{\"label\":{\"value\":\"intrinsic error\"},\"renderers\":[{\"id\":\"44cbcd80-35cc-4734-b743-3552b30a89bf\",\"type\":\"GlyphRenderer\"}]},\"id\":\"550132b3-adea-405f-9e0e-c1d178d6f6e8\",\"type\":\"LegendItem\"},{\"attributes\":{\"label\":{\"value\":\"mean training error\"},\"renderers\":[{\"id\":\"3ea1932e-3f6c-4781-8ed2-720d6aeb1572\",\"type\":\"GlyphRenderer\"}]},\"id\":\"1f8153ce-8a32-417c-999a-7cae34f861c8\",\"type\":\"LegendItem\"}],\"root_ids\":[\"0898ab47-778e-4156-b40d-4fb172a38b0f\"]},\"title\":\"Bokeh Application\",\"version\":\"0.12.4\"}};\n",
       "            var render_items = [{\"docid\":\"2d356976-8ac9-4b21-9feb-fc587ba647da\",\"elementid\":\"0c559eb2-6d65-419d-bece-2e18ed016cce\",\"modelid\":\"0898ab47-778e-4156-b40d-4fb172a38b0f\"}];\n",
       "            \n",
       "            Bokeh.embed.embed_items(docs_json, render_items);\n",
       "          };\n",
       "          if (document.readyState != \"loading\") fn();\n",
       "          else document.addEventListener(\"DOMContentLoaded\", fn);\n",
       "        })();\n",
       "      },\n",
       "      function(Bokeh) {\n",
       "      }\n",
       "    ];\n",
       "  \n",
       "    function run_inline_js() {\n",
       "      \n",
       "      if ((window.Bokeh !== undefined) || (force === true)) {\n",
       "        for (var i = 0; i < inline_js.length; i++) {\n",
       "          inline_js[i](window.Bokeh);\n",
       "        }if (force === true) {\n",
       "          display_loaded();\n",
       "        }} else if (Date.now() < window._bokeh_timeout) {\n",
       "        setTimeout(run_inline_js, 100);\n",
       "      } else if (!window._bokeh_failed_load) {\n",
       "        console.log(\"Bokeh: BokehJS failed to load within specified timeout.\");\n",
       "        window._bokeh_failed_load = true;\n",
       "      } else if (force !== true) {\n",
       "        var cell = $(document.getElementById(\"0c559eb2-6d65-419d-bece-2e18ed016cce\")).parents('.cell').data().cell;\n",
       "        cell.output_area.append_execute_result(NB_LOAD_WARNING)\n",
       "      }\n",
       "  \n",
       "    }\n",
       "  \n",
       "    if (window._bokeh_is_loading === 0) {\n",
       "      console.log(\"Bokeh: BokehJS loaded, going straight to plotting\");\n",
       "      run_inline_js();\n",
       "    } else {\n",
       "      load_libs(js_urls, function() {\n",
       "        console.log(\"Bokeh: BokehJS plotting callback run at\", now());\n",
       "        run_inline_js();\n",
       "      });\n",
       "    }\n",
       "  }(this));\n",
       "</script>"
      ]
     },
     "metadata": {},
     "output_type": "display_data"
    }
   ],
   "source": [
    "plot_learning_curve(d=1, N=100)"
   ]
  },
  {
   "cell_type": "markdown",
   "metadata": {},
   "source": [
    "A polynomial model with `d=1` is a **high-biased estimator** which under-fits the data. This is indicated by the fact that **both the training and validation errors are very high**.\n",
    "\n",
    "*Adding more data WON'T work in this case.*\n",
    "\n",
    "**When both TRAINING and VALIDATION curves converge to an high error, we have a HIGH BIAS model.** In this situation we can try one of the following actions:\n",
    "\n",
    "* Using a more sophisticated model (i.e. in this case, increase ``d``)\n",
    "* Gather more features for each sample.\n",
    "* Decrease regularlization.\n",
    "\n",
    "Now let's look at a model with higher degree (and thus higher variance):"
   ]
  },
  {
   "cell_type": "code",
   "execution_count": 20,
   "metadata": {
    "collapsed": false
   },
   "outputs": [
    {
     "data": {
      "text/html": [
       "\n",
       "\n",
       "    <div class=\"bk-root\">\n",
       "        <div class=\"bk-plotdiv\" id=\"5c6985fb-8103-4f1e-b998-56b13e456d3a\"></div>\n",
       "    </div>\n",
       "<script type=\"text/javascript\">\n",
       "  \n",
       "  (function(global) {\n",
       "    function now() {\n",
       "      return new Date();\n",
       "    }\n",
       "  \n",
       "    var force = false;\n",
       "  \n",
       "    if (typeof (window._bokeh_onload_callbacks) === \"undefined\" || force === true) {\n",
       "      window._bokeh_onload_callbacks = [];\n",
       "      window._bokeh_is_loading = undefined;\n",
       "    }\n",
       "  \n",
       "  \n",
       "    \n",
       "    if (typeof (window._bokeh_timeout) === \"undefined\" || force === true) {\n",
       "      window._bokeh_timeout = Date.now() + 0;\n",
       "      window._bokeh_failed_load = false;\n",
       "    }\n",
       "  \n",
       "    var NB_LOAD_WARNING = {'data': {'text/html':\n",
       "       \"<div style='background-color: #fdd'>\\n\"+\n",
       "       \"<p>\\n\"+\n",
       "       \"BokehJS does not appear to have successfully loaded. If loading BokehJS from CDN, this \\n\"+\n",
       "       \"may be due to a slow or bad network connection. Possible fixes:\\n\"+\n",
       "       \"</p>\\n\"+\n",
       "       \"<ul>\\n\"+\n",
       "       \"<li>re-rerun `output_notebook()` to attempt to load from CDN again, or</li>\\n\"+\n",
       "       \"<li>use INLINE resources instead, as so:</li>\\n\"+\n",
       "       \"</ul>\\n\"+\n",
       "       \"<code>\\n\"+\n",
       "       \"from bokeh.resources import INLINE\\n\"+\n",
       "       \"output_notebook(resources=INLINE)\\n\"+\n",
       "       \"</code>\\n\"+\n",
       "       \"</div>\"}};\n",
       "  \n",
       "    function display_loaded() {\n",
       "      if (window.Bokeh !== undefined) {\n",
       "        document.getElementById(\"5c6985fb-8103-4f1e-b998-56b13e456d3a\").textContent = \"BokehJS successfully loaded.\";\n",
       "      } else if (Date.now() < window._bokeh_timeout) {\n",
       "        setTimeout(display_loaded, 100)\n",
       "      }\n",
       "    }\n",
       "  \n",
       "    function run_callbacks() {\n",
       "      window._bokeh_onload_callbacks.forEach(function(callback) { callback() });\n",
       "      delete window._bokeh_onload_callbacks\n",
       "      console.info(\"Bokeh: all callbacks have finished\");\n",
       "    }\n",
       "  \n",
       "    function load_libs(js_urls, callback) {\n",
       "      window._bokeh_onload_callbacks.push(callback);\n",
       "      if (window._bokeh_is_loading > 0) {\n",
       "        console.log(\"Bokeh: BokehJS is being loaded, scheduling callback at\", now());\n",
       "        return null;\n",
       "      }\n",
       "      if (js_urls == null || js_urls.length === 0) {\n",
       "        run_callbacks();\n",
       "        return null;\n",
       "      }\n",
       "      console.log(\"Bokeh: BokehJS not loaded, scheduling load and callback at\", now());\n",
       "      window._bokeh_is_loading = js_urls.length;\n",
       "      for (var i = 0; i < js_urls.length; i++) {\n",
       "        var url = js_urls[i];\n",
       "        var s = document.createElement('script');\n",
       "        s.src = url;\n",
       "        s.async = false;\n",
       "        s.onreadystatechange = s.onload = function() {\n",
       "          window._bokeh_is_loading--;\n",
       "          if (window._bokeh_is_loading === 0) {\n",
       "            console.log(\"Bokeh: all BokehJS libraries loaded\");\n",
       "            run_callbacks()\n",
       "          }\n",
       "        };\n",
       "        s.onerror = function() {\n",
       "          console.warn(\"failed to load library \" + url);\n",
       "        };\n",
       "        console.log(\"Bokeh: injecting script tag for BokehJS library: \", url);\n",
       "        document.getElementsByTagName(\"head\")[0].appendChild(s);\n",
       "      }\n",
       "    };var element = document.getElementById(\"5c6985fb-8103-4f1e-b998-56b13e456d3a\");\n",
       "    if (element == null) {\n",
       "      console.log(\"Bokeh: ERROR: autoload.js configured with elementid '5c6985fb-8103-4f1e-b998-56b13e456d3a' but no matching script tag was found. \")\n",
       "      return false;\n",
       "    }\n",
       "  \n",
       "    var js_urls = [];\n",
       "  \n",
       "    var inline_js = [\n",
       "      function(Bokeh) {\n",
       "        (function() {\n",
       "          var fn = function() {\n",
       "            var docs_json = {\"1c8cc3b1-9c47-4db9-9ab4-a7de82737c60\":{\"roots\":{\"references\":[{\"attributes\":{},\"id\":\"677fd4f5-4a51-4738-9d77-1aa124ebfeda\",\"type\":\"BasicTicker\"},{\"attributes\":{\"axis_label\":\"rms error\",\"axis_label_text_font_size\":{\"value\":\"9pt\"},\"formatter\":{\"id\":\"8adbff94-a6e5-42ed-a441-3db390f68424\",\"type\":\"BasicTickFormatter\"},\"plot\":{\"id\":\"2930cafb-0838-4544-87ac-f671f526a5f1\",\"subtype\":\"Figure\",\"type\":\"Plot\"},\"ticker\":{\"id\":\"677fd4f5-4a51-4738-9d77-1aa124ebfeda\",\"type\":\"BasicTicker\"}},\"id\":\"c89ff9da-be88-44ef-bd8c-655054b79026\",\"type\":\"LinearAxis\"},{\"attributes\":{\"plot\":{\"id\":\"2930cafb-0838-4544-87ac-f671f526a5f1\",\"subtype\":\"Figure\",\"type\":\"Plot\"}},\"id\":\"fe048a36-1134-40a3-8ef6-557120a76ad9\",\"type\":\"HelpTool\"},{\"attributes\":{\"plot\":{\"id\":\"2930cafb-0838-4544-87ac-f671f526a5f1\",\"subtype\":\"Figure\",\"type\":\"Plot\"}},\"id\":\"385d320f-3f14-4c4e-8826-7f9508946c4f\",\"type\":\"SaveTool\"},{\"attributes\":{\"dimension\":1,\"grid_line_color\":{\"value\":null},\"plot\":{\"id\":\"2930cafb-0838-4544-87ac-f671f526a5f1\",\"subtype\":\"Figure\",\"type\":\"Plot\"},\"ticker\":{\"id\":\"677fd4f5-4a51-4738-9d77-1aa124ebfeda\",\"type\":\"BasicTicker\"}},\"id\":\"54f773fb-85e1-4e9b-a15f-e17a192bd344\",\"type\":\"Grid\"},{\"attributes\":{},\"id\":\"d297bafd-c92d-4a99-9c64-5628d30b0f01\",\"type\":\"BasicTickFormatter\"},{\"attributes\":{\"line_dash\":[6],\"x\":{\"field\":\"x\"},\"y\":{\"field\":\"y\"}},\"id\":\"b2eb6ced-ef93-461d-b8b9-9cc77da004fb\",\"type\":\"Line\"},{\"attributes\":{\"callback\":null,\"column_names\":[\"x\",\"y\"],\"data\":{\"x\":[2,4,6,8,10,12,14,16,18,20,22,24,26,28,30,32,34,36,38,40,42,44,46,48,50,52,54,56,58,60,62,64,66,68,70,72,74,76,78,80,82,84,86,88,90,92,94,96,98,100],\"y\":{\"__ndarray__\":\"G5XJ08ve7Dwy6Qo0Wa8pPSeZn3PK5KQ9cl8OxF+k+T0GJOh2X1FYPgjL+dnz3c4/v4zLUFZ+2D8sie/7lMjgP8AXUB8G7eI/GQLVr3pM5D+rnacuF3blP3Bv5mpPduY/8g/9ydWL5z+YObwTsb3oP2Kj70faA+k/uMs2QS9x6T9wU+ut5tzpP+A+tzhOEeo/8pqOwamV6j+G2JWgBnrqP9DhKEhSguo/EuPWAKua6j+NaEtBZ8rqP2vxKY8A/uo/q+uZGYch6z+6Old3PXDrP84MeZhekes/ztiP8Tdt6z/leCrwxl/rP8Ya/sOyZOs/xhr+w7Jk6z/GGv7DsmTrP8Ya/sOyZOs/xhr+w7Jk6z/GGv7DsmTrP8Ya/sOyZOs/xhr+w7Jk6z/GGv7DsmTrP8Ya/sOyZOs/xhr+w7Jk6z/GGv7DsmTrP8Ya/sOyZOs/xhr+w7Jk6z/GGv7DsmTrP8Ya/sOyZOs/xhr+w7Jk6z/GGv7DsmTrP8Ya/sOyZOs/xhr+w7Jk6z/GGv7DsmTrPw==\",\"dtype\":\"float64\",\"shape\":[50]}}},\"id\":\"c99fdcb4-3759-450b-a0ee-029af3eaab07\",\"type\":\"ColumnDataSource\"},{\"attributes\":{\"plot\":null,\"text\":\"d = 10\",\"text_font_size\":{\"value\":\"11pt\"}},\"id\":\"e486b235-37c0-4b09-8b5d-b52b2ffdb9ec\",\"type\":\"Title\"},{\"attributes\":{},\"id\":\"62a441ba-947d-4f6e-b050-0f6cadafced4\",\"type\":\"ToolEvents\"},{\"attributes\":{\"active_drag\":\"auto\",\"active_scroll\":\"auto\",\"active_tap\":\"auto\",\"tools\":[{\"id\":\"5cfd6896-1bb0-463a-8005-37b649444a38\",\"type\":\"PanTool\"},{\"id\":\"bdbd2c10-c2c5-4d4e-bea6-eda8d81ba906\",\"type\":\"WheelZoomTool\"},{\"id\":\"2330b193-d9f0-416e-8531-91858fee0ded\",\"type\":\"BoxZoomTool\"},{\"id\":\"385d320f-3f14-4c4e-8826-7f9508946c4f\",\"type\":\"SaveTool\"},{\"id\":\"0b491a18-bb40-4f9b-b907-8e0c166a59f5\",\"type\":\"ResetTool\"},{\"id\":\"fe048a36-1134-40a3-8ef6-557120a76ad9\",\"type\":\"HelpTool\"}]},\"id\":\"3afbb7cb-4311-484a-9f79-bcbe7127a6fb\",\"type\":\"Toolbar\"},{\"attributes\":{\"line_alpha\":{\"value\":0.1},\"line_color\":{\"value\":\"#1f77b4\"},\"line_width\":{\"value\":2},\"x\":{\"field\":\"x\"},\"y\":{\"field\":\"y\"}},\"id\":\"839ccd21-02ee-4912-9695-4d67dd1345cf\",\"type\":\"Line\"},{\"attributes\":{\"grid_line_color\":{\"value\":null},\"plot\":{\"id\":\"2930cafb-0838-4544-87ac-f671f526a5f1\",\"subtype\":\"Figure\",\"type\":\"Plot\"},\"ticker\":{\"id\":\"0cdb9e56-d377-4bca-972a-47522fc7ab1a\",\"type\":\"BasicTicker\"}},\"id\":\"88f5637c-5231-4f99-ba54-efebc6434c94\",\"type\":\"Grid\"},{\"attributes\":{\"plot\":{\"id\":\"2930cafb-0838-4544-87ac-f671f526a5f1\",\"subtype\":\"Figure\",\"type\":\"Plot\"}},\"id\":\"0b491a18-bb40-4f9b-b907-8e0c166a59f5\",\"type\":\"ResetTool\"},{\"attributes\":{},\"id\":\"0cdb9e56-d377-4bca-972a-47522fc7ab1a\",\"type\":\"BasicTicker\"},{\"attributes\":{\"label\":{\"value\":\"mean training error\"},\"renderers\":[{\"id\":\"477bee28-e8be-450d-aafb-feeef8082bfa\",\"type\":\"GlyphRenderer\"}]},\"id\":\"28d581a7-22af-4a41-b163-47edd12e4f98\",\"type\":\"LegendItem\"},{\"attributes\":{\"bottom_units\":\"screen\",\"fill_alpha\":{\"value\":0.5},\"fill_color\":{\"value\":\"lightgrey\"},\"left_units\":\"screen\",\"level\":\"overlay\",\"line_alpha\":{\"value\":1.0},\"line_color\":{\"value\":\"black\"},\"line_dash\":[4,4],\"line_width\":{\"value\":2},\"plot\":null,\"render_mode\":\"css\",\"right_units\":\"screen\",\"top_units\":\"screen\"},\"id\":\"b02ea0c6-60bd-4713-8375-07a481ce12cb\",\"type\":\"BoxAnnotation\"},{\"attributes\":{\"overlay\":{\"id\":\"b02ea0c6-60bd-4713-8375-07a481ce12cb\",\"type\":\"BoxAnnotation\"},\"plot\":{\"id\":\"2930cafb-0838-4544-87ac-f671f526a5f1\",\"subtype\":\"Figure\",\"type\":\"Plot\"}},\"id\":\"2330b193-d9f0-416e-8531-91858fee0ded\",\"type\":\"BoxZoomTool\"},{\"attributes\":{\"plot\":{\"id\":\"2930cafb-0838-4544-87ac-f671f526a5f1\",\"subtype\":\"Figure\",\"type\":\"Plot\"}},\"id\":\"bdbd2c10-c2c5-4d4e-bea6-eda8d81ba906\",\"type\":\"WheelZoomTool\"},{\"attributes\":{\"line_color\":{\"value\":\"royalblue\"},\"line_width\":{\"value\":2},\"x\":{\"field\":\"x\"},\"y\":{\"field\":\"y\"}},\"id\":\"e1cb9e19-f0e7-43ad-9d06-0265ebe209df\",\"type\":\"Line\"},{\"attributes\":{\"line_alpha\":{\"value\":0.1},\"line_color\":{\"value\":\"#1f77b4\"},\"line_dash\":[6],\"x\":{\"field\":\"x\"},\"y\":{\"field\":\"y\"}},\"id\":\"30d5e7e9-c891-4716-b7f1-1d5bf4eb9675\",\"type\":\"Line\"},{\"attributes\":{\"callback\":null,\"end\":99},\"id\":\"51c856ae-6365-4448-920b-4850645b0c1a\",\"type\":\"Range1d\"},{\"attributes\":{\"axis_label\":\"traning set size\",\"axis_label_text_font_size\":{\"value\":\"9pt\"},\"formatter\":{\"id\":\"d297bafd-c92d-4a99-9c64-5628d30b0f01\",\"type\":\"BasicTickFormatter\"},\"plot\":{\"id\":\"2930cafb-0838-4544-87ac-f671f526a5f1\",\"subtype\":\"Figure\",\"type\":\"Plot\"},\"ticker\":{\"id\":\"0cdb9e56-d377-4bca-972a-47522fc7ab1a\",\"type\":\"BasicTicker\"}},\"id\":\"c685b02c-8875-44ee-94a6-e5f8d9dfb5fa\",\"type\":\"LinearAxis\"},{\"attributes\":{\"callback\":null,\"column_names\":[\"x\",\"y\"],\"data\":{\"x\":[2,4,6,8,10,12,14,16,18,20,22,24,26,28,30,32,34,36,38,40,42,44,46,48,50,52,54,56,58,60,62,64,66,68,70,72,74,76,78,80,82,84,86,88,90,92,94,96,98,100],\"y\":{\"__ndarray__\":\"IqziHKreT0G6781Tmol0QMMgO9DF6sBAPjX05Y5M40AmmDJEm9YxQSYr8Yv5zT9BK8goP/NbvkATSoegz0eMQMhLTI0XX39Arx6FSQBVZkCzIZLyoBkiQCBrEyjcDRVA+LSRvksyDkBlpRqTR5QGQMB3t15wEwNAtk7N6swJAEB/3uXJZJr4P1UwBplCK/g/1H/Imkqj9j9sbtXzqFb2P6M626S3H/U/NCRywJDr9D/273v25eLyP8G1U6oK2PI/JlehwbxO8j86kUuctVLyP7ozbKmoOvI/HoVQyNOh8T8nLMu1QGnxP0Mhr1QpDPE/QyGvVCkM8T9DIa9UKQzxP0Mhr1QpDPE/QyGvVCkM8T9DIa9UKQzxP0Mhr1QpDPE/QyGvVCkM8T9DIa9UKQzxP0Mhr1QpDPE/QyGvVCkM8T9DIa9UKQzxP0Mhr1QpDPE/QyGvVCkM8T9DIa9UKQzxP0Mhr1QpDPE/QyGvVCkM8T9DIa9UKQzxP0Mhr1QpDPE/QyGvVCkM8T9DIa9UKQzxPw==\",\"dtype\":\"float64\",\"shape\":[50]}}},\"id\":\"0a1a1663-605c-42dc-a2c2-81d87ffa3385\",\"type\":\"ColumnDataSource\"},{\"attributes\":{\"data_source\":{\"id\":\"c99fdcb4-3759-450b-a0ee-029af3eaab07\",\"type\":\"ColumnDataSource\"},\"glyph\":{\"id\":\"6e17d7b6-af38-4fcd-9268-6790f7f9ca16\",\"type\":\"Line\"},\"hover_glyph\":null,\"nonselection_glyph\":{\"id\":\"839ccd21-02ee-4912-9695-4d67dd1345cf\",\"type\":\"Line\"},\"selection_glyph\":null},\"id\":\"477bee28-e8be-450d-aafb-feeef8082bfa\",\"type\":\"GlyphRenderer\"},{\"attributes\":{\"below\":[{\"id\":\"c685b02c-8875-44ee-94a6-e5f8d9dfb5fa\",\"type\":\"LinearAxis\"}],\"left\":[{\"id\":\"c89ff9da-be88-44ef-bd8c-655054b79026\",\"type\":\"LinearAxis\"}],\"plot_height\":300,\"plot_width\":400,\"renderers\":[{\"id\":\"c685b02c-8875-44ee-94a6-e5f8d9dfb5fa\",\"type\":\"LinearAxis\"},{\"id\":\"88f5637c-5231-4f99-ba54-efebc6434c94\",\"type\":\"Grid\"},{\"id\":\"c89ff9da-be88-44ef-bd8c-655054b79026\",\"type\":\"LinearAxis\"},{\"id\":\"54f773fb-85e1-4e9b-a15f-e17a192bd344\",\"type\":\"Grid\"},{\"id\":\"b02ea0c6-60bd-4713-8375-07a481ce12cb\",\"type\":\"BoxAnnotation\"},{\"id\":\"7df0caca-9450-4125-991b-bbdd8c736b6c\",\"type\":\"Legend\"},{\"id\":\"02bc8c24-6434-48dc-a3d0-dd389a4105f8\",\"type\":\"GlyphRenderer\"},{\"id\":\"477bee28-e8be-450d-aafb-feeef8082bfa\",\"type\":\"GlyphRenderer\"},{\"id\":\"b6bafc91-d7c0-4be1-8ed9-df0e159ebd5e\",\"type\":\"GlyphRenderer\"}],\"title\":{\"id\":\"e486b235-37c0-4b09-8b5d-b52b2ffdb9ec\",\"type\":\"Title\"},\"tool_events\":{\"id\":\"62a441ba-947d-4f6e-b050-0f6cadafced4\",\"type\":\"ToolEvents\"},\"toolbar\":{\"id\":\"3afbb7cb-4311-484a-9f79-bcbe7127a6fb\",\"type\":\"Toolbar\"},\"x_range\":{\"id\":\"51c856ae-6365-4448-920b-4850645b0c1a\",\"type\":\"Range1d\"},\"y_range\":{\"id\":\"f73b6841-76ae-4db9-9d18-daa5ad21ea45\",\"type\":\"Range1d\"}},\"id\":\"2930cafb-0838-4544-87ac-f671f526a5f1\",\"subtype\":\"Figure\",\"type\":\"Plot\"},{\"attributes\":{\"callback\":null,\"end\":12},\"id\":\"f73b6841-76ae-4db9-9d18-daa5ad21ea45\",\"type\":\"Range1d\"},{\"attributes\":{\"plot\":{\"id\":\"2930cafb-0838-4544-87ac-f671f526a5f1\",\"subtype\":\"Figure\",\"type\":\"Plot\"}},\"id\":\"5cfd6896-1bb0-463a-8005-37b649444a38\",\"type\":\"PanTool\"},{\"attributes\":{\"items\":[{\"id\":\"da6746f6-5ddf-4e44-b06f-546a3e79b5a8\",\"type\":\"LegendItem\"},{\"id\":\"28d581a7-22af-4a41-b163-47edd12e4f98\",\"type\":\"LegendItem\"},{\"id\":\"afeec5a4-c794-4bf4-9a33-1a689a1bd2c3\",\"type\":\"LegendItem\"}],\"plot\":{\"id\":\"2930cafb-0838-4544-87ac-f671f526a5f1\",\"subtype\":\"Figure\",\"type\":\"Plot\"}},\"id\":\"7df0caca-9450-4125-991b-bbdd8c736b6c\",\"type\":\"Legend\"},{\"attributes\":{},\"id\":\"8adbff94-a6e5-42ed-a441-3db390f68424\",\"type\":\"BasicTickFormatter\"},{\"attributes\":{\"data_source\":{\"id\":\"250a1005-09f6-4410-8d45-6e8f62c07753\",\"type\":\"ColumnDataSource\"},\"glyph\":{\"id\":\"b2eb6ced-ef93-461d-b8b9-9cc77da004fb\",\"type\":\"Line\"},\"hover_glyph\":null,\"nonselection_glyph\":{\"id\":\"30d5e7e9-c891-4716-b7f1-1d5bf4eb9675\",\"type\":\"Line\"},\"selection_glyph\":null},\"id\":\"b6bafc91-d7c0-4be1-8ed9-df0e159ebd5e\",\"type\":\"GlyphRenderer\"},{\"attributes\":{\"line_alpha\":{\"value\":0.1},\"line_color\":{\"value\":\"#1f77b4\"},\"line_width\":{\"value\":2},\"x\":{\"field\":\"x\"},\"y\":{\"field\":\"y\"}},\"id\":\"cbfcae39-d807-4345-a10a-19f37f5a9968\",\"type\":\"Line\"},{\"attributes\":{\"label\":{\"value\":\"mean validation error\"},\"renderers\":[{\"id\":\"02bc8c24-6434-48dc-a3d0-dd389a4105f8\",\"type\":\"GlyphRenderer\"}]},\"id\":\"da6746f6-5ddf-4e44-b06f-546a3e79b5a8\",\"type\":\"LegendItem\"},{\"attributes\":{\"label\":{\"value\":\"intrinsic error\"},\"renderers\":[{\"id\":\"b6bafc91-d7c0-4be1-8ed9-df0e159ebd5e\",\"type\":\"GlyphRenderer\"}]},\"id\":\"afeec5a4-c794-4bf4-9a33-1a689a1bd2c3\",\"type\":\"LegendItem\"},{\"attributes\":{\"callback\":null,\"column_names\":[\"x\",\"y\"],\"data\":{\"x\":[0,100],\"y\":[1.0,1.0]}},\"id\":\"250a1005-09f6-4410-8d45-6e8f62c07753\",\"type\":\"ColumnDataSource\"},{\"attributes\":{\"data_source\":{\"id\":\"0a1a1663-605c-42dc-a2c2-81d87ffa3385\",\"type\":\"ColumnDataSource\"},\"glyph\":{\"id\":\"e1cb9e19-f0e7-43ad-9d06-0265ebe209df\",\"type\":\"Line\"},\"hover_glyph\":null,\"nonselection_glyph\":{\"id\":\"cbfcae39-d807-4345-a10a-19f37f5a9968\",\"type\":\"Line\"},\"selection_glyph\":null},\"id\":\"02bc8c24-6434-48dc-a3d0-dd389a4105f8\",\"type\":\"GlyphRenderer\"},{\"attributes\":{\"line_color\":{\"value\":\"green\"},\"line_width\":{\"value\":2},\"x\":{\"field\":\"x\"},\"y\":{\"field\":\"y\"}},\"id\":\"6e17d7b6-af38-4fcd-9268-6790f7f9ca16\",\"type\":\"Line\"}],\"root_ids\":[\"2930cafb-0838-4544-87ac-f671f526a5f1\"]},\"title\":\"Bokeh Application\",\"version\":\"0.12.4\"}};\n",
       "            var render_items = [{\"docid\":\"1c8cc3b1-9c47-4db9-9ab4-a7de82737c60\",\"elementid\":\"5c6985fb-8103-4f1e-b998-56b13e456d3a\",\"modelid\":\"2930cafb-0838-4544-87ac-f671f526a5f1\"}];\n",
       "            \n",
       "            Bokeh.embed.embed_items(docs_json, render_items);\n",
       "          };\n",
       "          if (document.readyState != \"loading\") fn();\n",
       "          else document.addEventListener(\"DOMContentLoaded\", fn);\n",
       "        })();\n",
       "      },\n",
       "      function(Bokeh) {\n",
       "      }\n",
       "    ];\n",
       "  \n",
       "    function run_inline_js() {\n",
       "      \n",
       "      if ((window.Bokeh !== undefined) || (force === true)) {\n",
       "        for (var i = 0; i < inline_js.length; i++) {\n",
       "          inline_js[i](window.Bokeh);\n",
       "        }if (force === true) {\n",
       "          display_loaded();\n",
       "        }} else if (Date.now() < window._bokeh_timeout) {\n",
       "        setTimeout(run_inline_js, 100);\n",
       "      } else if (!window._bokeh_failed_load) {\n",
       "        console.log(\"Bokeh: BokehJS failed to load within specified timeout.\");\n",
       "        window._bokeh_failed_load = true;\n",
       "      } else if (force !== true) {\n",
       "        var cell = $(document.getElementById(\"5c6985fb-8103-4f1e-b998-56b13e456d3a\")).parents('.cell').data().cell;\n",
       "        cell.output_area.append_execute_result(NB_LOAD_WARNING)\n",
       "      }\n",
       "  \n",
       "    }\n",
       "  \n",
       "    if (window._bokeh_is_loading === 0) {\n",
       "      console.log(\"Bokeh: BokehJS loaded, going straight to plotting\");\n",
       "      run_inline_js();\n",
       "    } else {\n",
       "      load_libs(js_urls, function() {\n",
       "        console.log(\"Bokeh: BokehJS plotting callback run at\", now());\n",
       "        run_inline_js();\n",
       "      });\n",
       "    }\n",
       "  }(this));\n",
       "</script>"
      ]
     },
     "metadata": {},
     "output_type": "display_data"
    }
   ],
   "source": [
    "plot_learning_curve(d=10, N=100, y_range=(0,12))"
   ]
  },
  {
   "cell_type": "markdown",
   "metadata": {},
   "source": [
    "In this example it is possible to see that with `d=10` a **high-variance** estimator may **overfit data** when the number of samples is not sufficent. It is possible to note it by looking at the discrepancy between the two curves. When the number of samples is low we have a low training error, but the corresponding test error is really high. As the number of samples increase the test error decrease and converge to the model error but it may be to slow to converge and still have an higher discrepancy between the two curves.\n",
    "\n",
    "**When the learning curves does not converge using the full training set, it indicates a HIGH VARIANCE model, and the model is OVERFITTING the data.**\n",
    "\n",
    "A high-variance model can be improved by:\n",
    "\n",
    "* Gathering more training samples.\n",
    "* Using a less-sophisticated model (i.e. in this case, make `d` smaller)\n",
    "* Increase regularization.\n",
    "\n",
    "*In particular, gathering more features for each sample will not help the results.*"
   ]
  },
  {
   "cell_type": "markdown",
   "metadata": {},
   "source": [
    "## 6 Do the right thing"
   ]
  },
  {
   "cell_type": "markdown",
   "metadata": {},
   "source": [
    "### 6.1 High Bias"
   ]
  },
  {
   "cell_type": "markdown",
   "metadata": {},
   "source": [
    "If our algorithm shows high **bias**, the following actions might help:\n",
    "\n",
    "- **Add more features**. In our example of predicting home prices,\n",
    "  it may be helpful to make use of information such as the neighborhood\n",
    "  the house is in, the year the house was built, the size of the lot, etc.\n",
    "  Adding these features to the training and test sets can improve\n",
    "  a high-bias estimator\n",
    "- **Use a more sophisticated model**. Adding complexity to the model can\n",
    "  help improve on bias. For a polynomial fit, this can be accomplished\n",
    "  by increasing the degree d. Each learning technique has its own\n",
    "  methods of adding complexity.\n",
    "- **Use fewer samples**. Though this will not improve the classification,\n",
    "  a high-bias algorithm can attain nearly the same error with a smaller\n",
    "  training sample. For algorithms which are computationally expensive,\n",
    "  reducing the training sample size can lead to very large improvements\n",
    "  in speed.\n",
    "- **Decrease regularization**. Regularization is a technique used to impose\n",
    "  simplicity in some machine learning models, by adding a penalty term that\n",
    "  depends on the characteristics of the parameters. If a model has high bias,\n",
    "  decreasing the effect of regularization can lead to better results."
   ]
  },
  {
   "cell_type": "markdown",
   "metadata": {},
   "source": [
    "### 6.2 High Variance"
   ]
  },
  {
   "cell_type": "markdown",
   "metadata": {},
   "source": [
    "If our algorithm shows **high variance**, the following actions might help:\n",
    "\n",
    "- **Use fewer features**. Using a feature selection technique may be\n",
    "  useful, and decrease the over-fitting of the estimator.\n",
    "- **Use a simpler model**.  Model complexity and over-fitting go hand-in-hand.\n",
    "- **Use more training samples**. Adding training samples can reduce\n",
    "  the effect of over-fitting, and lead to improvements in a high\n",
    "  variance estimator.\n",
    "- **Increase Regularization**. Regularization is designed to prevent\n",
    "  over-fitting. In a high-variance model, increasing regularization\n",
    "  can lead to better results.\n",
    "\n",
    "These choices become very important in real-world situations. For example,\n",
    "due to limited telescope time, astronomers must seek a balance between\n",
    "observing a large number of objects, and observing a large number of\n",
    "features for each object. Determining which is more important for a\n",
    "particular learning task can inform the observing strategy that the\n",
    "astronomer employs. In a later exercise, we will explore the use of\n",
    "learning curves for the photometric redshift problem."
   ]
  },
  {
   "cell_type": "markdown",
   "metadata": {},
   "source": [
    "### 6.3 More Sophisticate Methods"
   ]
  },
  {
   "cell_type": "markdown",
   "metadata": {},
   "source": [
    "There are a lot more options for performing validation and model testing.\n",
    "In particular, there are several schemes for cross-validation, in which\n",
    "the model is fit multiple times with different training and test sets.\n",
    "The details are different, but the principles are the same as what we've\n",
    "seen here.\n",
    "\n",
    "For more information see the ``sklearn.model_selection`` module documentation,\n",
    "and the information on the scikit-learn website."
   ]
  },
  {
   "cell_type": "markdown",
   "metadata": {},
   "source": [
    "### 6.4 One Last Caution"
   ]
  },
  {
   "cell_type": "markdown",
   "metadata": {},
   "source": [
    "Using validation schemes to determine hyper-parameters means that we are\n",
    "fitting the hyper-parameters to the particular validation set.  In the same\n",
    "way that parameters can be over-fit to the training set, hyperparameters can\n",
    "be over-fit to the validation set.  Because of this, the validation error\n",
    "tends to under-predict the classification error of new data.\n",
    "\n",
    "For this reason, it is recommended to split the data into three sets:\n",
    "\n",
    "- The **training set**, used to train the model (usually ~60% of the data)\n",
    "- The **validation set**, used to validate the model (usually ~20% of the data)\n",
    "- The **test set**, used to evaluate the expected error of the validated model (usually ~20% of the data)\n",
    "\n",
    "*This may seem excessive, and many machine learning practitioners ignore the need\n",
    "for a test set.  But if your goal is to predict the error of a model on unknown\n",
    "data, using a test set is vital*."
   ]
  },
  {
   "cell_type": "markdown",
   "metadata": {},
   "source": [
    "## 7 Separate Training and Validation Sets"
   ]
  },
  {
   "cell_type": "markdown",
   "metadata": {},
   "source": [
    "**Fitting a model and testing it on the same data is a methodological mistake:** a model could have a perfect score but would fail to predict anything useful on yet-unseen data. This situation is called <font color=\"Red\">overfitting</font>. To avoid it, it is common practice to hold out part of the available data as a **Validation  Set** `X_valid, y_valid`."
   ]
  },
  {
   "cell_type": "code",
   "execution_count": 21,
   "metadata": {
    "collapsed": false
   },
   "outputs": [
    {
     "name": "stdout",
     "output_type": "stream",
     "text": [
      "LinearRegression(copy_X=True, fit_intercept=True, n_jobs=1, normalize=False)\n",
      "Model coefficient: 275.99550, and intercept: -145.41186\n",
      "Mean Squared Error: 23.04\n"
     ]
    }
   ],
   "source": [
    "from sklearn import datasets, preprocessing, metrics\n",
    "X, y = datasets.samples_generator.make_regression(n_samples=70,\n",
    "                                                  n_features=1, n_informative=1,\n",
    "                                                  random_state=0, noise=5)\n",
    "scaler = preprocessing.MinMaxScaler()\n",
    "X_sc = scaler.fit_transform(X)\n",
    "\n",
    "lin = linear_model.LinearRegression(fit_intercept=True)\n",
    "lin.fit(X_sc, y)\n",
    "\n",
    "print(lin)\n",
    "print(\"Model coefficient: %.5f, and intercept: %.5f\" % (lin.coef_, lin.intercept_))\n",
    "err = metrics.mean_squared_error(lin.predict(X_sc), y)\n",
    "print(\"Mean Squared Error: %.2f\" % err)"
   ]
  },
  {
   "cell_type": "markdown",
   "metadata": {},
   "source": [
    "In scikit-learn a random split into **Training** and **Validation** sets can be quickly computed with the `train_test_split` helper function:"
   ]
  },
  {
   "cell_type": "code",
   "execution_count": 22,
   "metadata": {
    "collapsed": false
   },
   "outputs": [
    {
     "name": "stdout",
     "output_type": "stream",
     "text": [
      "Mean Squared Error: 23.34\n",
      "Model coefficient: 273.00288, and intercept: -143.70277\n"
     ]
    },
    {
     "data": {
      "text/html": [
       "\n",
       "\n",
       "    <div class=\"bk-root\">\n",
       "        <div class=\"bk-plotdiv\" id=\"0a284356-1d92-4b30-90d5-100f6b78ccf7\"></div>\n",
       "    </div>\n",
       "<script type=\"text/javascript\">\n",
       "  \n",
       "  (function(global) {\n",
       "    function now() {\n",
       "      return new Date();\n",
       "    }\n",
       "  \n",
       "    var force = false;\n",
       "  \n",
       "    if (typeof (window._bokeh_onload_callbacks) === \"undefined\" || force === true) {\n",
       "      window._bokeh_onload_callbacks = [];\n",
       "      window._bokeh_is_loading = undefined;\n",
       "    }\n",
       "  \n",
       "  \n",
       "    \n",
       "    if (typeof (window._bokeh_timeout) === \"undefined\" || force === true) {\n",
       "      window._bokeh_timeout = Date.now() + 0;\n",
       "      window._bokeh_failed_load = false;\n",
       "    }\n",
       "  \n",
       "    var NB_LOAD_WARNING = {'data': {'text/html':\n",
       "       \"<div style='background-color: #fdd'>\\n\"+\n",
       "       \"<p>\\n\"+\n",
       "       \"BokehJS does not appear to have successfully loaded. If loading BokehJS from CDN, this \\n\"+\n",
       "       \"may be due to a slow or bad network connection. Possible fixes:\\n\"+\n",
       "       \"</p>\\n\"+\n",
       "       \"<ul>\\n\"+\n",
       "       \"<li>re-rerun `output_notebook()` to attempt to load from CDN again, or</li>\\n\"+\n",
       "       \"<li>use INLINE resources instead, as so:</li>\\n\"+\n",
       "       \"</ul>\\n\"+\n",
       "       \"<code>\\n\"+\n",
       "       \"from bokeh.resources import INLINE\\n\"+\n",
       "       \"output_notebook(resources=INLINE)\\n\"+\n",
       "       \"</code>\\n\"+\n",
       "       \"</div>\"}};\n",
       "  \n",
       "    function display_loaded() {\n",
       "      if (window.Bokeh !== undefined) {\n",
       "        document.getElementById(\"0a284356-1d92-4b30-90d5-100f6b78ccf7\").textContent = \"BokehJS successfully loaded.\";\n",
       "      } else if (Date.now() < window._bokeh_timeout) {\n",
       "        setTimeout(display_loaded, 100)\n",
       "      }\n",
       "    }\n",
       "  \n",
       "    function run_callbacks() {\n",
       "      window._bokeh_onload_callbacks.forEach(function(callback) { callback() });\n",
       "      delete window._bokeh_onload_callbacks\n",
       "      console.info(\"Bokeh: all callbacks have finished\");\n",
       "    }\n",
       "  \n",
       "    function load_libs(js_urls, callback) {\n",
       "      window._bokeh_onload_callbacks.push(callback);\n",
       "      if (window._bokeh_is_loading > 0) {\n",
       "        console.log(\"Bokeh: BokehJS is being loaded, scheduling callback at\", now());\n",
       "        return null;\n",
       "      }\n",
       "      if (js_urls == null || js_urls.length === 0) {\n",
       "        run_callbacks();\n",
       "        return null;\n",
       "      }\n",
       "      console.log(\"Bokeh: BokehJS not loaded, scheduling load and callback at\", now());\n",
       "      window._bokeh_is_loading = js_urls.length;\n",
       "      for (var i = 0; i < js_urls.length; i++) {\n",
       "        var url = js_urls[i];\n",
       "        var s = document.createElement('script');\n",
       "        s.src = url;\n",
       "        s.async = false;\n",
       "        s.onreadystatechange = s.onload = function() {\n",
       "          window._bokeh_is_loading--;\n",
       "          if (window._bokeh_is_loading === 0) {\n",
       "            console.log(\"Bokeh: all BokehJS libraries loaded\");\n",
       "            run_callbacks()\n",
       "          }\n",
       "        };\n",
       "        s.onerror = function() {\n",
       "          console.warn(\"failed to load library \" + url);\n",
       "        };\n",
       "        console.log(\"Bokeh: injecting script tag for BokehJS library: \", url);\n",
       "        document.getElementsByTagName(\"head\")[0].appendChild(s);\n",
       "      }\n",
       "    };var element = document.getElementById(\"0a284356-1d92-4b30-90d5-100f6b78ccf7\");\n",
       "    if (element == null) {\n",
       "      console.log(\"Bokeh: ERROR: autoload.js configured with elementid '0a284356-1d92-4b30-90d5-100f6b78ccf7' but no matching script tag was found. \")\n",
       "      return false;\n",
       "    }\n",
       "  \n",
       "    var js_urls = [];\n",
       "  \n",
       "    var inline_js = [\n",
       "      function(Bokeh) {\n",
       "        (function() {\n",
       "          var fn = function() {\n",
       "            var docs_json = {\"f7101e1b-4e5d-4fd8-a2bb-10e8463a15b4\":{\"roots\":{\"references\":[{\"attributes\":{\"callback\":null,\"column_names\":[\"x\",\"y\"],\"data\":{\"x\":{\"__ndarray__\":\"YAjFGS3i7T9XeZSI6d7fPwT2MVkd3t0/t5KhDwGq4z9zL7svEUHRP2Z6cqkqdtk/EYnKIbMd2z+Wj6IqIyjfP37mQVkgyOM/ED0IvIBfvj+dbHyhimHhPw+NuzBkPuc/Dxl0puas5j9mDyyFyhDdP7DLqGvNRuU/wbF6YDNl3z9KNWaiEOnUP8I3BHNs2uo/TCVBKlYE4z+4xXLJO7/hP2xx5TMrQ90/\",\"dtype\":\"float64\",\"shape\":[21]},\"y\":{\"__ndarray__\":\"qk9BquS2XUAQdeVNj/EtwChV8/1VIDrAq4xPJNUfM0AolOpHYD5TwMfwaz+fXUHAWH7zJyHDOMClguZOoN0ewEDqdjBL6zhA6logX/cdXsBk23/Iehfrv2Il4fLGNkxAJ/HVjNNTS0Dmf6Lh6NkywKJYsTSaL0JAMnEDfkGLJcDylGRtKZlJwLlwgWJZGlZA0IICQZGRNkCrYWZDiskhQMLJ7MLUsi/A\",\"dtype\":\"float64\",\"shape\":[21]}}},\"id\":\"3898786e-28c6-4b83-9936-ff4917b2efd0\",\"type\":\"ColumnDataSource\"},{\"attributes\":{\"label\":{\"value\":\"Linear Regression\"},\"renderers\":[{\"id\":\"b684b6bf-26bd-430d-b787-900ae7f1d182\",\"type\":\"GlyphRenderer\"}]},\"id\":\"c37c35ad-a1f2-45bb-95e7-2c698c73b8f4\",\"type\":\"LegendItem\"},{\"attributes\":{},\"id\":\"d76d4377-17c7-4bd4-836b-39eca95fcb6d\",\"type\":\"BasicTicker\"},{\"attributes\":{\"bottom_units\":\"screen\",\"fill_alpha\":{\"value\":0.5},\"fill_color\":{\"value\":\"lightgrey\"},\"left_units\":\"screen\",\"level\":\"overlay\",\"line_alpha\":{\"value\":1.0},\"line_color\":{\"value\":\"black\"},\"line_dash\":[4,4],\"line_width\":{\"value\":2},\"plot\":null,\"render_mode\":\"css\",\"right_units\":\"screen\",\"top_units\":\"screen\"},\"id\":\"a80b4556-4234-4f7d-8ba0-807268a9e46f\",\"type\":\"BoxAnnotation\"},{\"attributes\":{\"fill_alpha\":{\"value\":0.1},\"fill_color\":{\"value\":\"#1f77b4\"},\"line_alpha\":{\"value\":0.1},\"line_color\":{\"value\":\"#1f77b4\"},\"size\":{\"units\":\"screen\",\"value\":5},\"x\":{\"field\":\"x\"},\"y\":{\"field\":\"y\"}},\"id\":\"9a01537c-5c03-4925-bd0b-ce4410048b1e\",\"type\":\"Circle\"},{\"attributes\":{\"data_source\":{\"id\":\"4ab90719-6d01-40cf-8b54-9da3d4849ffa\",\"type\":\"ColumnDataSource\"},\"glyph\":{\"id\":\"d42d8b71-1097-485d-aad6-e00894e4c349\",\"type\":\"Line\"},\"hover_glyph\":null,\"nonselection_glyph\":{\"id\":\"1cf60f6d-cddc-408e-8db0-4cdf30fb8bf0\",\"type\":\"Line\"},\"selection_glyph\":null},\"id\":\"b684b6bf-26bd-430d-b787-900ae7f1d182\",\"type\":\"GlyphRenderer\"},{\"attributes\":{\"plot\":null,\"text\":\"Training and Validation Sets\"},\"id\":\"5eed07ea-d09f-4cb3-8571-c1c656e945b6\",\"type\":\"Title\"},{\"attributes\":{\"callback\":null,\"column_names\":[\"x\",\"y\"],\"data\":{\"x\":{\"__ndarray__\":\"AAAAAAAAAAAAAAAAAADwPw==\",\"dtype\":\"float64\",\"shape\":[2]},\"y\":{\"__ndarray__\":\"yrT4GH32YcBuxIaGmilgQA==\",\"dtype\":\"float64\",\"shape\":[2]}}},\"id\":\"4ab90719-6d01-40cf-8b54-9da3d4849ffa\",\"type\":\"ColumnDataSource\"},{\"attributes\":{\"fill_color\":{\"value\":\"orangered\"},\"line_alpha\":{\"value\":0.85},\"line_color\":{\"value\":\"#1f77b4\"},\"size\":{\"units\":\"screen\",\"value\":5},\"x\":{\"field\":\"x\"},\"y\":{\"field\":\"y\"}},\"id\":\"a2b1e9ef-4c34-48c9-b4ce-15c3c6ce4d5e\",\"type\":\"Circle\"},{\"attributes\":{\"fill_alpha\":{\"value\":0.1},\"fill_color\":{\"value\":\"#1f77b4\"},\"line_alpha\":{\"value\":0.1},\"line_color\":{\"value\":\"#1f77b4\"},\"size\":{\"units\":\"screen\",\"value\":5},\"x\":{\"field\":\"x\"},\"y\":{\"field\":\"y\"}},\"id\":\"3a931608-5ffd-4b3d-b8db-b0fbf11e669f\",\"type\":\"Circle\"},{\"attributes\":{\"dimension\":1,\"plot\":{\"id\":\"f635cdb7-6787-4bfd-bbc2-006c7a482127\",\"subtype\":\"Figure\",\"type\":\"Plot\"},\"ticker\":{\"id\":\"d76d4377-17c7-4bd4-836b-39eca95fcb6d\",\"type\":\"BasicTicker\"}},\"id\":\"4e1933fe-00cf-4830-8af9-ef5510049e31\",\"type\":\"Grid\"},{\"attributes\":{\"overlay\":{\"id\":\"a80b4556-4234-4f7d-8ba0-807268a9e46f\",\"type\":\"BoxAnnotation\"},\"plot\":{\"id\":\"f635cdb7-6787-4bfd-bbc2-006c7a482127\",\"subtype\":\"Figure\",\"type\":\"Plot\"}},\"id\":\"e49596ff-1c3b-4fc4-ab1a-ef2b355a1819\",\"type\":\"BoxZoomTool\"},{\"attributes\":{\"fill_color\":{\"value\":\"green\"},\"line_alpha\":{\"value\":0.85},\"line_color\":{\"value\":\"darkgreen\"},\"size\":{\"units\":\"screen\",\"value\":5},\"x\":{\"field\":\"x\"},\"y\":{\"field\":\"y\"}},\"id\":\"27f0d7dd-a7d6-4e61-a246-59340037a288\",\"type\":\"Circle\"},{\"attributes\":{\"callback\":null},\"id\":\"f42ec590-cbab-44dc-92a4-c1ce766e1f2f\",\"type\":\"DataRange1d\"},{\"attributes\":{\"active_drag\":\"auto\",\"active_scroll\":\"auto\",\"active_tap\":\"auto\",\"tools\":[{\"id\":\"e919f700-9aea-4963-8f4a-08cfbe8c8b3d\",\"type\":\"PanTool\"},{\"id\":\"b0ff06c0-c287-4108-a74d-50c96d8005a9\",\"type\":\"WheelZoomTool\"},{\"id\":\"e49596ff-1c3b-4fc4-ab1a-ef2b355a1819\",\"type\":\"BoxZoomTool\"},{\"id\":\"92eb6324-454f-4fc2-8047-e6d0f5f19444\",\"type\":\"SaveTool\"},{\"id\":\"8b771791-1d06-4b9f-b34d-abb331af9351\",\"type\":\"ResetTool\"},{\"id\":\"b4af28b4-4979-43f3-a057-d72769196842\",\"type\":\"HelpTool\"}]},\"id\":\"d9e42d05-5e44-4156-a60b-13e0078157bb\",\"type\":\"Toolbar\"},{\"attributes\":{\"plot\":{\"id\":\"f635cdb7-6787-4bfd-bbc2-006c7a482127\",\"subtype\":\"Figure\",\"type\":\"Plot\"}},\"id\":\"92eb6324-454f-4fc2-8047-e6d0f5f19444\",\"type\":\"SaveTool\"},{\"attributes\":{\"plot\":{\"id\":\"f635cdb7-6787-4bfd-bbc2-006c7a482127\",\"subtype\":\"Figure\",\"type\":\"Plot\"}},\"id\":\"e919f700-9aea-4963-8f4a-08cfbe8c8b3d\",\"type\":\"PanTool\"},{\"attributes\":{\"formatter\":{\"id\":\"d4186bcb-0a4b-45cc-b0af-3fc37ca8d82a\",\"type\":\"BasicTickFormatter\"},\"plot\":{\"id\":\"f635cdb7-6787-4bfd-bbc2-006c7a482127\",\"subtype\":\"Figure\",\"type\":\"Plot\"},\"ticker\":{\"id\":\"d76d4377-17c7-4bd4-836b-39eca95fcb6d\",\"type\":\"BasicTicker\"}},\"id\":\"0b6b54f6-51ee-405f-9a2a-fe26a7708e50\",\"type\":\"LinearAxis\"},{\"attributes\":{},\"id\":\"d4186bcb-0a4b-45cc-b0af-3fc37ca8d82a\",\"type\":\"BasicTickFormatter\"},{\"attributes\":{\"below\":[{\"id\":\"1fd3c877-31a1-49a8-9447-3dec4175c298\",\"type\":\"LinearAxis\"}],\"left\":[{\"id\":\"0b6b54f6-51ee-405f-9a2a-fe26a7708e50\",\"type\":\"LinearAxis\"}],\"plot_height\":400,\"plot_width\":700,\"renderers\":[{\"id\":\"1fd3c877-31a1-49a8-9447-3dec4175c298\",\"type\":\"LinearAxis\"},{\"id\":\"ed5ee8f6-6d44-41cd-85d7-a0bfe4aa3e40\",\"type\":\"Grid\"},{\"id\":\"0b6b54f6-51ee-405f-9a2a-fe26a7708e50\",\"type\":\"LinearAxis\"},{\"id\":\"4e1933fe-00cf-4830-8af9-ef5510049e31\",\"type\":\"Grid\"},{\"id\":\"a80b4556-4234-4f7d-8ba0-807268a9e46f\",\"type\":\"BoxAnnotation\"},{\"id\":\"02954b4f-0f94-4ceb-b74c-0987952dd82e\",\"type\":\"Legend\"},{\"id\":\"0569e1c4-788f-4bf3-8851-1ed57b0009c3\",\"type\":\"GlyphRenderer\"},{\"id\":\"8f22bf55-b983-4cb5-b7af-064ddd52715d\",\"type\":\"GlyphRenderer\"},{\"id\":\"b684b6bf-26bd-430d-b787-900ae7f1d182\",\"type\":\"GlyphRenderer\"}],\"title\":{\"id\":\"5eed07ea-d09f-4cb3-8571-c1c656e945b6\",\"type\":\"Title\"},\"tool_events\":{\"id\":\"2ef55b84-6e12-485d-a474-476954f77ca5\",\"type\":\"ToolEvents\"},\"toolbar\":{\"id\":\"d9e42d05-5e44-4156-a60b-13e0078157bb\",\"type\":\"Toolbar\"},\"x_range\":{\"id\":\"f9be868f-4830-4c81-892d-0b3cbbe79b6d\",\"type\":\"DataRange1d\"},\"y_range\":{\"id\":\"f42ec590-cbab-44dc-92a4-c1ce766e1f2f\",\"type\":\"DataRange1d\"}},\"id\":\"f635cdb7-6787-4bfd-bbc2-006c7a482127\",\"subtype\":\"Figure\",\"type\":\"Plot\"},{\"attributes\":{\"items\":[{\"id\":\"7c53bb22-4083-410f-81e9-c4e87d654267\",\"type\":\"LegendItem\"},{\"id\":\"c0b75147-ac2a-40f6-8ed0-8ead9272242d\",\"type\":\"LegendItem\"},{\"id\":\"c37c35ad-a1f2-45bb-95e7-2c698c73b8f4\",\"type\":\"LegendItem\"}],\"location\":\"bottom_right\",\"plot\":{\"id\":\"f635cdb7-6787-4bfd-bbc2-006c7a482127\",\"subtype\":\"Figure\",\"type\":\"Plot\"}},\"id\":\"02954b4f-0f94-4ceb-b74c-0987952dd82e\",\"type\":\"Legend\"},{\"attributes\":{\"label\":{\"value\":\"Validation Set\"},\"renderers\":[{\"id\":\"8f22bf55-b983-4cb5-b7af-064ddd52715d\",\"type\":\"GlyphRenderer\"}]},\"id\":\"c0b75147-ac2a-40f6-8ed0-8ead9272242d\",\"type\":\"LegendItem\"},{\"attributes\":{\"data_source\":{\"id\":\"b753ad8d-e2c5-456f-8f50-b88d00c442c9\",\"type\":\"ColumnDataSource\"},\"glyph\":{\"id\":\"27f0d7dd-a7d6-4e61-a246-59340037a288\",\"type\":\"Circle\"},\"hover_glyph\":null,\"nonselection_glyph\":{\"id\":\"3a931608-5ffd-4b3d-b8db-b0fbf11e669f\",\"type\":\"Circle\"},\"selection_glyph\":null},\"id\":\"0569e1c4-788f-4bf3-8851-1ed57b0009c3\",\"type\":\"GlyphRenderer\"},{\"attributes\":{\"plot\":{\"id\":\"f635cdb7-6787-4bfd-bbc2-006c7a482127\",\"subtype\":\"Figure\",\"type\":\"Plot\"}},\"id\":\"8b771791-1d06-4b9f-b34d-abb331af9351\",\"type\":\"ResetTool\"},{\"attributes\":{\"callback\":null},\"id\":\"f9be868f-4830-4c81-892d-0b3cbbe79b6d\",\"type\":\"DataRange1d\"},{\"attributes\":{\"line_alpha\":{\"value\":0.1},\"line_color\":{\"value\":\"#1f77b4\"},\"x\":{\"field\":\"x\"},\"y\":{\"field\":\"y\"}},\"id\":\"1cf60f6d-cddc-408e-8db0-4cdf30fb8bf0\",\"type\":\"Line\"},{\"attributes\":{\"plot\":{\"id\":\"f635cdb7-6787-4bfd-bbc2-006c7a482127\",\"subtype\":\"Figure\",\"type\":\"Plot\"},\"ticker\":{\"id\":\"675af6fb-9fe3-4c6f-93da-863f39a73218\",\"type\":\"BasicTicker\"}},\"id\":\"ed5ee8f6-6d44-41cd-85d7-a0bfe4aa3e40\",\"type\":\"Grid\"},{\"attributes\":{},\"id\":\"2ef55b84-6e12-485d-a474-476954f77ca5\",\"type\":\"ToolEvents\"},{\"attributes\":{},\"id\":\"675af6fb-9fe3-4c6f-93da-863f39a73218\",\"type\":\"BasicTicker\"},{\"attributes\":{\"formatter\":{\"id\":\"0a390e8d-7b49-4566-9689-1d910fd4b274\",\"type\":\"BasicTickFormatter\"},\"plot\":{\"id\":\"f635cdb7-6787-4bfd-bbc2-006c7a482127\",\"subtype\":\"Figure\",\"type\":\"Plot\"},\"ticker\":{\"id\":\"675af6fb-9fe3-4c6f-93da-863f39a73218\",\"type\":\"BasicTicker\"}},\"id\":\"1fd3c877-31a1-49a8-9447-3dec4175c298\",\"type\":\"LinearAxis\"},{\"attributes\":{\"plot\":{\"id\":\"f635cdb7-6787-4bfd-bbc2-006c7a482127\",\"subtype\":\"Figure\",\"type\":\"Plot\"}},\"id\":\"b4af28b4-4979-43f3-a057-d72769196842\",\"type\":\"HelpTool\"},{\"attributes\":{\"plot\":{\"id\":\"f635cdb7-6787-4bfd-bbc2-006c7a482127\",\"subtype\":\"Figure\",\"type\":\"Plot\"}},\"id\":\"b0ff06c0-c287-4108-a74d-50c96d8005a9\",\"type\":\"WheelZoomTool\"},{\"attributes\":{\"data_source\":{\"id\":\"3898786e-28c6-4b83-9936-ff4917b2efd0\",\"type\":\"ColumnDataSource\"},\"glyph\":{\"id\":\"a2b1e9ef-4c34-48c9-b4ce-15c3c6ce4d5e\",\"type\":\"Circle\"},\"hover_glyph\":null,\"nonselection_glyph\":{\"id\":\"9a01537c-5c03-4925-bd0b-ce4410048b1e\",\"type\":\"Circle\"},\"selection_glyph\":null},\"id\":\"8f22bf55-b983-4cb5-b7af-064ddd52715d\",\"type\":\"GlyphRenderer\"},{\"attributes\":{\"line_color\":{\"value\":\"blue\"},\"x\":{\"field\":\"x\"},\"y\":{\"field\":\"y\"}},\"id\":\"d42d8b71-1097-485d-aad6-e00894e4c349\",\"type\":\"Line\"},{\"attributes\":{\"label\":{\"value\":\"Training Set\"},\"renderers\":[{\"id\":\"0569e1c4-788f-4bf3-8851-1ed57b0009c3\",\"type\":\"GlyphRenderer\"}]},\"id\":\"7c53bb22-4083-410f-81e9-c4e87d654267\",\"type\":\"LegendItem\"},{\"attributes\":{\"callback\":null,\"column_names\":[\"x\",\"y\"],\"data\":{\"x\":{\"__ndarray__\":\"lisXDJIozT9CCqfgVifjPwAAAAAAAAAAZvDQDikc6z+UHSXuKYzcP1P5ujzt9tM/38J5626w6j8wkXXz7h3iP6q/Gt7dENw/zNY7uPnO7z9F7UVqyBnbP2XNbZ8h+uE/IF6eJs+W6j8kvAd+zAfYP01MBxNZGuk/h+qEyUc+4T/W4jMuA3nGP45JjfekAuQ/AVK28cCB4z8IIhdi4X3IP0eTJJFEvdw/SgTUBpr02D/y+bTlCfHFP2CGNFD//tU/zubkZehy4z9sprxLAaXsP7AXcxqfG90/Y3Lfqjrl4T+1gxhCFxnWP9ZZ2Sfw6ug/MW+0767A4D8abVW0RJjjP4umvirA9+E/kk6aoagW1z/9wU9YDm/nP79+0UjN1tU/vgIblTYZ5j+U8Ak5ouzIP////////+8/VhYXjDlB4D8NMHozi4vWP/6gDiVhDt8/zLkZ+vERzj9fHgU4RP3lPz/iKRqC4uM/+Cx0VNJU7T+a5gbzODbSPwMUxZ5W8uI/zNquIMpI4T8=\",\"dtype\":\"float64\",\"shape\":[49]},\"y\":{\"__ndarray__\":\"xpRtyxvEU8DwK951GD02QPrzF2w5y2HArZqwqQ/VVEAiiBJS+/U4wDWg0kuMYkrALv6xn05/V0CEbO9MiesyQIdIxT5VBjrA5AWqUQRfYEDDc4CX7048wHTaPQpx3vg/Hg5wvLLYVkCcxi0+qtpEwCi7IBd0YFBAmVeLfGirFkBWRAxSK/RWwAcS65kLkDZA+TX6+gHHN0BHVRGG8MpVwDjyE7j7SDPAX5nTjYM3SMB/0pqS2mFZwHcvCYFnQEvARmNgK/8LNkAQspkDWCRZQOgamcrj9yrA9H8um7yDMUBr6MX0Iv1GwEAgo8QeDVFAJJYSR1Oh/b+sBxsnMn05QHWfnnsG4B5Al+pCVC3vRsAxBAVZ1hZKQMveFg7G60nAOJgoZaZpQUBJMVbgNCBXwG77dXMqB2FAzPW/JPwY9b8Tyrc0aw9KwClFxYBbWyfAOyYFfOwdUsBcXJmhUE1CQHfJasQbNjlAg4sGVNamWUCZoYGhnnRQwGAMd06S2zJAaz0zkUe1C8A=\",\"dtype\":\"float64\",\"shape\":[49]}}},\"id\":\"b753ad8d-e2c5-456f-8f50-b88d00c442c9\",\"type\":\"ColumnDataSource\"},{\"attributes\":{},\"id\":\"0a390e8d-7b49-4566-9689-1d910fd4b274\",\"type\":\"BasicTickFormatter\"}],\"root_ids\":[\"f635cdb7-6787-4bfd-bbc2-006c7a482127\"]},\"title\":\"Bokeh Application\",\"version\":\"0.12.4\"}};\n",
       "            var render_items = [{\"docid\":\"f7101e1b-4e5d-4fd8-a2bb-10e8463a15b4\",\"elementid\":\"0a284356-1d92-4b30-90d5-100f6b78ccf7\",\"modelid\":\"f635cdb7-6787-4bfd-bbc2-006c7a482127\"}];\n",
       "            \n",
       "            Bokeh.embed.embed_items(docs_json, render_items);\n",
       "          };\n",
       "          if (document.readyState != \"loading\") fn();\n",
       "          else document.addEventListener(\"DOMContentLoaded\", fn);\n",
       "        })();\n",
       "      },\n",
       "      function(Bokeh) {\n",
       "      }\n",
       "    ];\n",
       "  \n",
       "    function run_inline_js() {\n",
       "      \n",
       "      if ((window.Bokeh !== undefined) || (force === true)) {\n",
       "        for (var i = 0; i < inline_js.length; i++) {\n",
       "          inline_js[i](window.Bokeh);\n",
       "        }if (force === true) {\n",
       "          display_loaded();\n",
       "        }} else if (Date.now() < window._bokeh_timeout) {\n",
       "        setTimeout(run_inline_js, 100);\n",
       "      } else if (!window._bokeh_failed_load) {\n",
       "        console.log(\"Bokeh: BokehJS failed to load within specified timeout.\");\n",
       "        window._bokeh_failed_load = true;\n",
       "      } else if (force !== true) {\n",
       "        var cell = $(document.getElementById(\"0a284356-1d92-4b30-90d5-100f6b78ccf7\")).parents('.cell').data().cell;\n",
       "        cell.output_area.append_execute_result(NB_LOAD_WARNING)\n",
       "      }\n",
       "  \n",
       "    }\n",
       "  \n",
       "    if (window._bokeh_is_loading === 0) {\n",
       "      console.log(\"Bokeh: BokehJS loaded, going straight to plotting\");\n",
       "      run_inline_js();\n",
       "    } else {\n",
       "      load_libs(js_urls, function() {\n",
       "        console.log(\"Bokeh: BokehJS plotting callback run at\", now());\n",
       "        run_inline_js();\n",
       "      });\n",
       "    }\n",
       "  }(this));\n",
       "</script>"
      ]
     },
     "metadata": {},
     "output_type": "display_data"
    }
   ],
   "source": [
    "from sklearn import model_selection\n",
    "X_tr, X_valid, y_tr, y_valid = model_selection.train_test_split(X_sc, y,\n",
    "                                                                test_size=0.30, \n",
    "                                                                random_state=0)\n",
    "lin.fit(X_tr, y_tr)\n",
    "MSE = metrics.mean_squared_error(lin.predict(X_valid), y_valid)\n",
    "print(\"Mean Squared Error: %.2f\" % MSE)\n",
    "print(\"Model coefficient: %.5f, and intercept: %.5f\" % (lin.coef_, lin.intercept_))\n",
    "\n",
    "X_predicted = np.linspace(0, 1, 2)[:, np.newaxis]\n",
    "y_predicted = lin.predict(X_predicted)\n",
    "fig = bk.figure(title='Training and Validation Sets', \n",
    "                plot_width=700, plot_height=400)\n",
    "fig.circle(X_tr.squeeze(), y_tr,\n",
    "           size=5, line_alpha=0.85, fill_color='green', line_color='darkgreen',\n",
    "           legend='Training Set')\n",
    "fig.circle(X_valid.squeeze(), y_valid, \n",
    "           size=5, line_alpha=0.85, fill_color='orangered', legend='Validation Set')\n",
    "fig.line(X_predicted.ravel(), y_predicted, line_color='blue', legend='Linear Regression')\n",
    "fig.legend.location = 'bottom_right'\n",
    "bk.show(fig)"
   ]
  },
  {
   "cell_type": "markdown",
   "metadata": {},
   "source": [
    "### 7.1 Example: Do a Regression Analysis on MATLAB<sup>&reg;</sup> data"
   ]
  },
  {
   "cell_type": "markdown",
   "metadata": {},
   "source": [
    "The data are generated with the following MATLAB code:\n",
    "\n",
    "    % Generate Regression Test Data 02 ----------------------------------------\n",
    "    samples = 100; features = 5;\n",
    "    \n",
    "    X = rand(samples, features)\n",
    "    for i = 1:samples\n",
    "        X(i,:) = (X(i,:)*i)+i+0.1;\n",
    "    end\n",
    "    % Calculate y as a linear combination of features with coeff. 1.5, 2.5, ...\n",
    "    % and add some noise\n",
    "    noise = 0.1;\n",
    "    lin_comb = (1:features) + 0.5\n",
    "    y = (X+rand(samples, features)*noise)*lin_comb'\n",
    "    % Define feature names as 'F001', ... , 'Fnnn' up to 9999 features\n",
    "    feat_names = sprintf('F%04i',1);\n",
    "    for i = 2:features\n",
    "        feat_names = strvcat(feat_names, sprintf('F%04i',i));\n",
    "    end\n",
    "    \n",
    "    save ('matlab_test_data_02', 'X','y', 'feat_names')"
   ]
  },
  {
   "cell_type": "code",
   "execution_count": 23,
   "metadata": {
    "collapsed": true
   },
   "outputs": [],
   "source": [
    "from sklearn import preprocessing, linear_model\n",
    "mat = scipy.io.loadmat('example_data/matlab_test_data_02.mat')\n",
    "col = [s.strip() for s in list(mat['feat_names'])]"
   ]
  },
  {
   "cell_type": "code",
   "execution_count": 24,
   "metadata": {
    "collapsed": true
   },
   "outputs": [],
   "source": [
    "Xt,Xv,yt,yv = model_selection.train_test_split(mat['X'], mat['y'],test_size=0.30,\n",
    "                                                random_state=0)\n",
    "Xt = pd.DataFrame(Xt, columns=col)\n",
    "Xv = pd.DataFrame(Xv, columns=col)\n",
    "yt = pd.DataFrame(yt, columns=['measured'])\n",
    "yv = pd.DataFrame(yv, columns=['measured'])"
   ]
  },
  {
   "cell_type": "code",
   "execution_count": 25,
   "metadata": {
    "collapsed": false
   },
   "outputs": [
    {
     "data": {
      "text/html": [
       "<div>\n",
       "<table border=\"1\" class=\"dataframe\">\n",
       "  <thead>\n",
       "    <tr style=\"text-align: right;\">\n",
       "      <th></th>\n",
       "      <th>F0001</th>\n",
       "      <th>F0002</th>\n",
       "      <th>F0003</th>\n",
       "      <th>F0004</th>\n",
       "      <th>F0005</th>\n",
       "      <th>F0006</th>\n",
       "    </tr>\n",
       "  </thead>\n",
       "  <tbody>\n",
       "    <tr>\n",
       "      <th>0</th>\n",
       "      <td>131.391611</td>\n",
       "      <td>178.588071</td>\n",
       "      <td>191.836028</td>\n",
       "      <td>206.928031</td>\n",
       "      <td>188.601869</td>\n",
       "      <td>195.879822</td>\n",
       "    </tr>\n",
       "    <tr>\n",
       "      <th>1</th>\n",
       "      <td>137.771630</td>\n",
       "      <td>91.462643</td>\n",
       "      <td>76.438656</td>\n",
       "      <td>104.585583</td>\n",
       "      <td>123.265090</td>\n",
       "      <td>73.587835</td>\n",
       "    </tr>\n",
       "    <tr>\n",
       "      <th>2</th>\n",
       "      <td>789.737369</td>\n",
       "      <td>671.934539</td>\n",
       "      <td>835.830887</td>\n",
       "      <td>515.921167</td>\n",
       "      <td>901.167154</td>\n",
       "      <td>813.659391</td>\n",
       "    </tr>\n",
       "  </tbody>\n",
       "</table>\n",
       "</div>"
      ],
      "text/plain": [
       "        F0001       F0002       F0003       F0004       F0005       F0006\n",
       "0  131.391611  178.588071  191.836028  206.928031  188.601869  195.879822\n",
       "1  137.771630   91.462643   76.438656  104.585583  123.265090   73.587835\n",
       "2  789.737369  671.934539  835.830887  515.921167  901.167154  813.659391"
      ]
     },
     "execution_count": 25,
     "metadata": {},
     "output_type": "execute_result"
    }
   ],
   "source": [
    "Xt.head(3)"
   ]
  },
  {
   "cell_type": "code",
   "execution_count": 26,
   "metadata": {
    "collapsed": false
   },
   "outputs": [
    {
     "data": {
      "text/plain": [
       "array([[ 2.46,  0.88,  1.49,  2.39,  2.1 ,  2.5 ],\n",
       "       [ 0.5 ,  0.64,  0.64,  0.54,  0.43,  0.96],\n",
       "       [-0.75, -0.93, -0.81, -0.61, -0.44, -0.83],\n",
       "       ..., \n",
       "       [ 1.24,  2.17,  0.7 ,  2.22,  1.78,  2.63],\n",
       "       [ 0.4 , -0.15, -0.38,  0.05, -0.17,  0.4 ],\n",
       "       [-1.53, -1.55, -1.55, -1.55, -1.58, -1.55]])"
      ]
     },
     "execution_count": 26,
     "metadata": {},
     "output_type": "execute_result"
    }
   ],
   "source": [
    "# Scaler is fitted only on training data\n",
    "Xts = Xt.copy()\n",
    "Xvs = Xv.copy()\n",
    "scaler = preprocessing.StandardScaler(copy=False, with_mean=True, with_std=True).fit(Xt)\n",
    "scaler.transform(Xts)\n",
    "scaler.transform(Xv)"
   ]
  },
  {
   "cell_type": "code",
   "execution_count": 27,
   "metadata": {
    "collapsed": false
   },
   "outputs": [
    {
     "data": {
      "text/html": [
       "<div>\n",
       "<table border=\"1\" class=\"dataframe\">\n",
       "  <thead>\n",
       "    <tr style=\"text-align: right;\">\n",
       "      <th></th>\n",
       "      <th>F0001</th>\n",
       "      <th>F0002</th>\n",
       "      <th>F0003</th>\n",
       "      <th>F0004</th>\n",
       "      <th>F0005</th>\n",
       "      <th>F0006</th>\n",
       "    </tr>\n",
       "  </thead>\n",
       "  <tbody>\n",
       "    <tr>\n",
       "      <th>0</th>\n",
       "      <td>-1.294851</td>\n",
       "      <td>-1.210162</td>\n",
       "      <td>-1.171325</td>\n",
       "      <td>-1.148142</td>\n",
       "      <td>-1.198971</td>\n",
       "      <td>-1.160278</td>\n",
       "    </tr>\n",
       "    <tr>\n",
       "      <th>1</th>\n",
       "      <td>-1.281377</td>\n",
       "      <td>-1.399557</td>\n",
       "      <td>-1.416333</td>\n",
       "      <td>-1.371187</td>\n",
       "      <td>-1.344097</td>\n",
       "      <td>-1.424161</td>\n",
       "    </tr>\n",
       "    <tr>\n",
       "      <th>2</th>\n",
       "      <td>0.095500</td>\n",
       "      <td>-0.137716</td>\n",
       "      <td>0.195982</td>\n",
       "      <td>-0.474723</td>\n",
       "      <td>0.383782</td>\n",
       "      <td>0.172776</td>\n",
       "    </tr>\n",
       "  </tbody>\n",
       "</table>\n",
       "</div>"
      ],
      "text/plain": [
       "      F0001     F0002     F0003     F0004     F0005     F0006\n",
       "0 -1.294851 -1.210162 -1.171325 -1.148142 -1.198971 -1.160278\n",
       "1 -1.281377 -1.399557 -1.416333 -1.371187 -1.344097 -1.424161\n",
       "2  0.095500 -0.137716  0.195982 -0.474723  0.383782  0.172776"
      ]
     },
     "execution_count": 27,
     "metadata": {},
     "output_type": "execute_result"
    }
   ],
   "source": [
    "Xts.head(3)"
   ]
  },
  {
   "cell_type": "code",
   "execution_count": 28,
   "metadata": {
    "collapsed": false
   },
   "outputs": [
    {
     "name": "stdout",
     "output_type": "stream",
     "text": [
      "[[  708.82  1153.81  1647.24  2066.73  2474.24  3011.71]]\n",
      "[ 17692.81]\n"
     ]
    }
   ],
   "source": [
    "model = linear_model.LinearRegression(fit_intercept=True, normalize=True)\n",
    "model.fit(Xts, yt)\n",
    "# NOTICE: coefficients are much different from 1.5, 2.5, ... when fitting on scaled data\n",
    "print(model.coef_)\n",
    "print(model.intercept_)"
   ]
  },
  {
   "cell_type": "code",
   "execution_count": 29,
   "metadata": {
    "collapsed": false
   },
   "outputs": [
    {
     "data": {
      "text/html": [
       "\n",
       "\n",
       "    <div class=\"bk-root\">\n",
       "        <div class=\"bk-plotdiv\" id=\"041b6c2f-3eb8-4833-91b6-a19c7c4113f3\"></div>\n",
       "    </div>\n",
       "<script type=\"text/javascript\">\n",
       "  \n",
       "  (function(global) {\n",
       "    function now() {\n",
       "      return new Date();\n",
       "    }\n",
       "  \n",
       "    var force = false;\n",
       "  \n",
       "    if (typeof (window._bokeh_onload_callbacks) === \"undefined\" || force === true) {\n",
       "      window._bokeh_onload_callbacks = [];\n",
       "      window._bokeh_is_loading = undefined;\n",
       "    }\n",
       "  \n",
       "  \n",
       "    \n",
       "    if (typeof (window._bokeh_timeout) === \"undefined\" || force === true) {\n",
       "      window._bokeh_timeout = Date.now() + 0;\n",
       "      window._bokeh_failed_load = false;\n",
       "    }\n",
       "  \n",
       "    var NB_LOAD_WARNING = {'data': {'text/html':\n",
       "       \"<div style='background-color: #fdd'>\\n\"+\n",
       "       \"<p>\\n\"+\n",
       "       \"BokehJS does not appear to have successfully loaded. If loading BokehJS from CDN, this \\n\"+\n",
       "       \"may be due to a slow or bad network connection. Possible fixes:\\n\"+\n",
       "       \"</p>\\n\"+\n",
       "       \"<ul>\\n\"+\n",
       "       \"<li>re-rerun `output_notebook()` to attempt to load from CDN again, or</li>\\n\"+\n",
       "       \"<li>use INLINE resources instead, as so:</li>\\n\"+\n",
       "       \"</ul>\\n\"+\n",
       "       \"<code>\\n\"+\n",
       "       \"from bokeh.resources import INLINE\\n\"+\n",
       "       \"output_notebook(resources=INLINE)\\n\"+\n",
       "       \"</code>\\n\"+\n",
       "       \"</div>\"}};\n",
       "  \n",
       "    function display_loaded() {\n",
       "      if (window.Bokeh !== undefined) {\n",
       "        document.getElementById(\"041b6c2f-3eb8-4833-91b6-a19c7c4113f3\").textContent = \"BokehJS successfully loaded.\";\n",
       "      } else if (Date.now() < window._bokeh_timeout) {\n",
       "        setTimeout(display_loaded, 100)\n",
       "      }\n",
       "    }\n",
       "  \n",
       "    function run_callbacks() {\n",
       "      window._bokeh_onload_callbacks.forEach(function(callback) { callback() });\n",
       "      delete window._bokeh_onload_callbacks\n",
       "      console.info(\"Bokeh: all callbacks have finished\");\n",
       "    }\n",
       "  \n",
       "    function load_libs(js_urls, callback) {\n",
       "      window._bokeh_onload_callbacks.push(callback);\n",
       "      if (window._bokeh_is_loading > 0) {\n",
       "        console.log(\"Bokeh: BokehJS is being loaded, scheduling callback at\", now());\n",
       "        return null;\n",
       "      }\n",
       "      if (js_urls == null || js_urls.length === 0) {\n",
       "        run_callbacks();\n",
       "        return null;\n",
       "      }\n",
       "      console.log(\"Bokeh: BokehJS not loaded, scheduling load and callback at\", now());\n",
       "      window._bokeh_is_loading = js_urls.length;\n",
       "      for (var i = 0; i < js_urls.length; i++) {\n",
       "        var url = js_urls[i];\n",
       "        var s = document.createElement('script');\n",
       "        s.src = url;\n",
       "        s.async = false;\n",
       "        s.onreadystatechange = s.onload = function() {\n",
       "          window._bokeh_is_loading--;\n",
       "          if (window._bokeh_is_loading === 0) {\n",
       "            console.log(\"Bokeh: all BokehJS libraries loaded\");\n",
       "            run_callbacks()\n",
       "          }\n",
       "        };\n",
       "        s.onerror = function() {\n",
       "          console.warn(\"failed to load library \" + url);\n",
       "        };\n",
       "        console.log(\"Bokeh: injecting script tag for BokehJS library: \", url);\n",
       "        document.getElementsByTagName(\"head\")[0].appendChild(s);\n",
       "      }\n",
       "    };var element = document.getElementById(\"041b6c2f-3eb8-4833-91b6-a19c7c4113f3\");\n",
       "    if (element == null) {\n",
       "      console.log(\"Bokeh: ERROR: autoload.js configured with elementid '041b6c2f-3eb8-4833-91b6-a19c7c4113f3' but no matching script tag was found. \")\n",
       "      return false;\n",
       "    }\n",
       "  \n",
       "    var js_urls = [];\n",
       "  \n",
       "    var inline_js = [\n",
       "      function(Bokeh) {\n",
       "        (function() {\n",
       "          var fn = function() {\n",
       "            var docs_json = {\"98b6995d-fab4-49a3-b922-65cd41eca272\":{\"roots\":{\"references\":[{\"attributes\":{},\"id\":\"a4f3cff0-9c15-40c2-aa2a-d8b566718cc4\",\"type\":\"BasicTickFormatter\"},{\"attributes\":{\"plot\":{\"id\":\"68fc2263-c872-41f7-af87-04256e476ad9\",\"subtype\":\"Figure\",\"type\":\"Plot\"}},\"id\":\"dc3a2c82-19f9-49ae-a42e-7d50f269b846\",\"type\":\"WheelZoomTool\"},{\"attributes\":{\"plot\":{\"id\":\"68fc2263-c872-41f7-af87-04256e476ad9\",\"subtype\":\"Figure\",\"type\":\"Plot\"}},\"id\":\"0dab19f3-fad1-4798-b405-afdd1ac8d1e8\",\"type\":\"HelpTool\"},{\"attributes\":{\"overlay\":{\"id\":\"7eacf3c6-7199-415f-be10-5b5068bd5112\",\"type\":\"BoxAnnotation\"},\"plot\":{\"id\":\"68fc2263-c872-41f7-af87-04256e476ad9\",\"subtype\":\"Figure\",\"type\":\"Plot\"}},\"id\":\"d1b7409d-ccca-4c8c-a112-57702e863d71\",\"type\":\"BoxZoomTool\"},{\"attributes\":{\"dimension\":1,\"plot\":{\"id\":\"68fc2263-c872-41f7-af87-04256e476ad9\",\"subtype\":\"Figure\",\"type\":\"Plot\"},\"ticker\":{\"id\":\"f7f4b60c-cd9d-484f-b96a-9cde067a6e42\",\"type\":\"BasicTicker\"}},\"id\":\"1a93a6a0-4be8-4627-b5f1-de9419044db1\",\"type\":\"Grid\"},{\"attributes\":{},\"id\":\"c678aedd-d16c-4641-8439-3c898ea80ca1\",\"type\":\"BasicTickFormatter\"},{\"attributes\":{\"fill_alpha\":{\"value\":0.1},\"fill_color\":{\"value\":\"#1f77b4\"},\"line_alpha\":{\"value\":0.1},\"line_color\":{\"value\":\"#1f77b4\"},\"size\":{\"units\":\"screen\",\"value\":8},\"x\":{\"field\":\"x\"},\"y\":{\"field\":\"y\"}},\"id\":\"c5caf30b-2835-41fb-87bf-6d500f7fa41d\",\"type\":\"Circle\"},{\"attributes\":{\"callback\":null,\"column_names\":[\"x\",\"y\"],\"data\":{\"x\":{\"__ndarray__\":\"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\",\"dtype\":\"float64\",\"shape\":[300]},\"y\":{\"__ndarray__\":\"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\",\"dtype\":\"float64\",\"shape\":[300]}}},\"id\":\"edaf0131-f309-4e9f-82e1-19064f6e01d5\",\"type\":\"ColumnDataSource\"},{\"attributes\":{\"active_drag\":\"auto\",\"active_scroll\":\"auto\",\"active_tap\":\"auto\",\"tools\":[{\"id\":\"58ad3b7f-34f2-4da0-92d1-c00c20121c87\",\"type\":\"PanTool\"},{\"id\":\"dc3a2c82-19f9-49ae-a42e-7d50f269b846\",\"type\":\"WheelZoomTool\"},{\"id\":\"d1b7409d-ccca-4c8c-a112-57702e863d71\",\"type\":\"BoxZoomTool\"},{\"id\":\"4b53ccf8-cdce-4e44-b837-2cec50a17fc3\",\"type\":\"SaveTool\"},{\"id\":\"39bc286b-6de4-4b98-bc47-073bae7e7867\",\"type\":\"ResetTool\"},{\"id\":\"0dab19f3-fad1-4798-b405-afdd1ac8d1e8\",\"type\":\"HelpTool\"}]},\"id\":\"3772a2cc-d9ca-4ad5-bf5f-aae5243b7c8a\",\"type\":\"Toolbar\"},{\"attributes\":{\"plot\":{\"id\":\"68fc2263-c872-41f7-af87-04256e476ad9\",\"subtype\":\"Figure\",\"type\":\"Plot\"},\"ticker\":{\"id\":\"a557bf92-922a-46e5-a4dd-e8246140e987\",\"type\":\"BasicTicker\"}},\"id\":\"9cfeb18a-bf00-477b-82e9-ef01f5a6e5eb\",\"type\":\"Grid\"},{\"attributes\":{\"data_source\":{\"id\":\"edaf0131-f309-4e9f-82e1-19064f6e01d5\",\"type\":\"ColumnDataSource\"},\"glyph\":{\"id\":\"bc86885e-8b24-445e-b9d1-71f2c580dbbb\",\"type\":\"Circle\"},\"hover_glyph\":null,\"nonselection_glyph\":{\"id\":\"c5caf30b-2835-41fb-87bf-6d500f7fa41d\",\"type\":\"Circle\"},\"selection_glyph\":null},\"id\":\"ebee9078-7fb7-4bbf-9547-aa4c61fe9ab7\",\"type\":\"GlyphRenderer\"},{\"attributes\":{\"axis_label\":\"y val\",\"formatter\":{\"id\":\"c678aedd-d16c-4641-8439-3c898ea80ca1\",\"type\":\"BasicTickFormatter\"},\"plot\":{\"id\":\"68fc2263-c872-41f7-af87-04256e476ad9\",\"subtype\":\"Figure\",\"type\":\"Plot\"},\"ticker\":{\"id\":\"a557bf92-922a-46e5-a4dd-e8246140e987\",\"type\":\"BasicTicker\"}},\"id\":\"b0fac377-4306-4dab-a974-170b2d85e91a\",\"type\":\"LinearAxis\"},{\"attributes\":{},\"id\":\"7b70a391-711e-44f5-b259-30ec9251ea6c\",\"type\":\"ToolEvents\"},{\"attributes\":{},\"id\":\"a557bf92-922a-46e5-a4dd-e8246140e987\",\"type\":\"BasicTicker\"},{\"attributes\":{\"callback\":null},\"id\":\"8646339f-7eaa-4105-a4ef-1b337be4b7e9\",\"type\":\"DataRange1d\"},{\"attributes\":{\"plot\":{\"id\":\"68fc2263-c872-41f7-af87-04256e476ad9\",\"subtype\":\"Figure\",\"type\":\"Plot\"}},\"id\":\"39bc286b-6de4-4b98-bc47-073bae7e7867\",\"type\":\"ResetTool\"},{\"attributes\":{\"below\":[{\"id\":\"b0fac377-4306-4dab-a974-170b2d85e91a\",\"type\":\"LinearAxis\"}],\"left\":[{\"id\":\"bfd2d508-7135-42f2-902b-4e07d42fbd6e\",\"type\":\"LinearAxis\"}],\"plot_height\":400,\"renderers\":[{\"id\":\"b0fac377-4306-4dab-a974-170b2d85e91a\",\"type\":\"LinearAxis\"},{\"id\":\"9cfeb18a-bf00-477b-82e9-ef01f5a6e5eb\",\"type\":\"Grid\"},{\"id\":\"bfd2d508-7135-42f2-902b-4e07d42fbd6e\",\"type\":\"LinearAxis\"},{\"id\":\"1a93a6a0-4be8-4627-b5f1-de9419044db1\",\"type\":\"Grid\"},{\"id\":\"7eacf3c6-7199-415f-be10-5b5068bd5112\",\"type\":\"BoxAnnotation\"},{\"id\":\"ebee9078-7fb7-4bbf-9547-aa4c61fe9ab7\",\"type\":\"GlyphRenderer\"}],\"title\":{\"id\":\"ec19adf7-b76d-4793-972c-8ca0224253e1\",\"type\":\"Title\"},\"tool_events\":{\"id\":\"7b70a391-711e-44f5-b259-30ec9251ea6c\",\"type\":\"ToolEvents\"},\"toolbar\":{\"id\":\"3772a2cc-d9ca-4ad5-bf5f-aae5243b7c8a\",\"type\":\"Toolbar\"},\"x_range\":{\"id\":\"8646339f-7eaa-4105-a4ef-1b337be4b7e9\",\"type\":\"DataRange1d\"},\"y_range\":{\"id\":\"02e63c55-8c41-42ff-b1b8-cd63a45dd4eb\",\"type\":\"DataRange1d\"}},\"id\":\"68fc2263-c872-41f7-af87-04256e476ad9\",\"subtype\":\"Figure\",\"type\":\"Plot\"},{\"attributes\":{\"plot\":{\"id\":\"68fc2263-c872-41f7-af87-04256e476ad9\",\"subtype\":\"Figure\",\"type\":\"Plot\"}},\"id\":\"4b53ccf8-cdce-4e44-b837-2cec50a17fc3\",\"type\":\"SaveTool\"},{\"attributes\":{},\"id\":\"f7f4b60c-cd9d-484f-b96a-9cde067a6e42\",\"type\":\"BasicTicker\"},{\"attributes\":{\"axis_label\":\"y pred\",\"formatter\":{\"id\":\"a4f3cff0-9c15-40c2-aa2a-d8b566718cc4\",\"type\":\"BasicTickFormatter\"},\"plot\":{\"id\":\"68fc2263-c872-41f7-af87-04256e476ad9\",\"subtype\":\"Figure\",\"type\":\"Plot\"},\"ticker\":{\"id\":\"f7f4b60c-cd9d-484f-b96a-9cde067a6e42\",\"type\":\"BasicTicker\"}},\"id\":\"bfd2d508-7135-42f2-902b-4e07d42fbd6e\",\"type\":\"LinearAxis\"},{\"attributes\":{\"callback\":null},\"id\":\"02e63c55-8c41-42ff-b1b8-cd63a45dd4eb\",\"type\":\"DataRange1d\"},{\"attributes\":{\"fill_alpha\":{\"value\":0.5},\"fill_color\":{\"value\":\"blue\"},\"line_alpha\":{\"value\":0.2},\"size\":{\"units\":\"screen\",\"value\":8},\"x\":{\"field\":\"x\"},\"y\":{\"field\":\"y\"}},\"id\":\"bc86885e-8b24-445e-b9d1-71f2c580dbbb\",\"type\":\"Circle\"},{\"attributes\":{\"plot\":{\"id\":\"68fc2263-c872-41f7-af87-04256e476ad9\",\"subtype\":\"Figure\",\"type\":\"Plot\"}},\"id\":\"58ad3b7f-34f2-4da0-92d1-c00c20121c87\",\"type\":\"PanTool\"},{\"attributes\":{\"plot\":null,\"text\":\"Measured Values VS Predicted Values\"},\"id\":\"ec19adf7-b76d-4793-972c-8ca0224253e1\",\"type\":\"Title\"},{\"attributes\":{\"bottom_units\":\"screen\",\"fill_alpha\":{\"value\":0.5},\"fill_color\":{\"value\":\"lightgrey\"},\"left_units\":\"screen\",\"level\":\"overlay\",\"line_alpha\":{\"value\":1.0},\"line_color\":{\"value\":\"black\"},\"line_dash\":[4,4],\"line_width\":{\"value\":2},\"plot\":null,\"render_mode\":\"css\",\"right_units\":\"screen\",\"top_units\":\"screen\"},\"id\":\"7eacf3c6-7199-415f-be10-5b5068bd5112\",\"type\":\"BoxAnnotation\"}],\"root_ids\":[\"68fc2263-c872-41f7-af87-04256e476ad9\"]},\"title\":\"Bokeh Application\",\"version\":\"0.12.4\"}};\n",
       "            var render_items = [{\"docid\":\"98b6995d-fab4-49a3-b922-65cd41eca272\",\"elementid\":\"041b6c2f-3eb8-4833-91b6-a19c7c4113f3\",\"modelid\":\"68fc2263-c872-41f7-af87-04256e476ad9\"}];\n",
       "            \n",
       "            Bokeh.embed.embed_items(docs_json, render_items);\n",
       "          };\n",
       "          if (document.readyState != \"loading\") fn();\n",
       "          else document.addEventListener(\"DOMContentLoaded\", fn);\n",
       "        })();\n",
       "      },\n",
       "      function(Bokeh) {\n",
       "      }\n",
       "    ];\n",
       "  \n",
       "    function run_inline_js() {\n",
       "      \n",
       "      if ((window.Bokeh !== undefined) || (force === true)) {\n",
       "        for (var i = 0; i < inline_js.length; i++) {\n",
       "          inline_js[i](window.Bokeh);\n",
       "        }if (force === true) {\n",
       "          display_loaded();\n",
       "        }} else if (Date.now() < window._bokeh_timeout) {\n",
       "        setTimeout(run_inline_js, 100);\n",
       "      } else if (!window._bokeh_failed_load) {\n",
       "        console.log(\"Bokeh: BokehJS failed to load within specified timeout.\");\n",
       "        window._bokeh_failed_load = true;\n",
       "      } else if (force !== true) {\n",
       "        var cell = $(document.getElementById(\"041b6c2f-3eb8-4833-91b6-a19c7c4113f3\")).parents('.cell').data().cell;\n",
       "        cell.output_area.append_execute_result(NB_LOAD_WARNING)\n",
       "      }\n",
       "  \n",
       "    }\n",
       "  \n",
       "    if (window._bokeh_is_loading === 0) {\n",
       "      console.log(\"Bokeh: BokehJS loaded, going straight to plotting\");\n",
       "      run_inline_js();\n",
       "    } else {\n",
       "      load_libs(js_urls, function() {\n",
       "        console.log(\"Bokeh: BokehJS plotting callback run at\", now());\n",
       "        run_inline_js();\n",
       "      });\n",
       "    }\n",
       "  }(this));\n",
       "</script>"
      ]
     },
     "metadata": {},
     "output_type": "display_data"
    }
   ],
   "source": [
    "# Plot the data and the model prediction\n",
    "yp = model.predict(Xvs)\n",
    "fig = bk.figure(title='Measured Values VS Predicted Values',\n",
    "                x_axis_label='y val', y_axis_label='y pred',\n",
    "                plot_width=600, plot_height=400)\n",
    "fig.circle(yv['measured'], yp[:,0], size=8,\n",
    "           fill_color='blue', fill_alpha=0.5, line_color='black', alpha=0.2)\n",
    "bk.show(fig)"
   ]
  },
  {
   "cell_type": "markdown",
   "metadata": {},
   "source": [
    "### 7.2 Example: Training and a Validation Sets on a Classification Problem"
   ]
  },
  {
   "cell_type": "markdown",
   "metadata": {},
   "source": [
    "The K-neighbors is an instance-based classifier that predicts the label of an unknown point based on the labels of the *K* nearest points in the parameter space:"
   ]
  },
  {
   "cell_type": "code",
   "execution_count": 30,
   "metadata": {
    "collapsed": false
   },
   "outputs": [
    {
     "name": "stdout",
     "output_type": "stream",
     "text": [
      "[[178   0   0   0   0   0   0   0   0   0]\n",
      " [  0 182   0   0   0   0   0   0   0   0]\n",
      " [  0   0 177   0   0   0   0   0   0   0]\n",
      " [  0   0   0 183   0   0   0   0   0   0]\n",
      " [  0   0   0   0 181   0   0   0   0   0]\n",
      " [  0   0   0   0   0 182   0   0   0   0]\n",
      " [  0   0   0   0   0   0 181   0   0   0]\n",
      " [  0   0   0   0   0   0   0 179   0   0]\n",
      " [  0   0   0   0   0   0   0   0 174   0]\n",
      " [  0   0   0   0   0   0   0   0   0 180]]\n",
      "\n",
      "F1 Score:   1.0\n"
     ]
    }
   ],
   "source": [
    "from sklearn import neighbors\n",
    "digits = datasets.load_digits()\n",
    "X, y = digits.data, digits.target\n",
    "\n",
    "clf = neighbors.KNeighborsClassifier(n_neighbors=1)\n",
    "clf.fit(X, y)\n",
    "y_pred = clf.predict(X)\n",
    "print(metrics.confusion_matrix(y_pred, y))\n",
    "print('\\nF1 Score:  ', metrics.f1_score(y_pred, y, average='weighted'))"
   ]
  },
  {
   "cell_type": "markdown",
   "metadata": {},
   "source": [
    "Apparently, we've found a perfect classifier!  But this is misleading for the reasons we saw before: the classifier essentially \"memorizes\" all the samples it has already seen.  To really test how well this algorithm does, we need to try some samples it *hasn't* yet seen.\n",
    "\n",
    "Here we split the original data in **Training** and **Validation** sets and run again the previous algorithm. In this case we see that we still have a good classifier but the precision is reduced:"
   ]
  },
  {
   "cell_type": "code",
   "execution_count": 31,
   "metadata": {
    "collapsed": false
   },
   "outputs": [
    {
     "name": "stdout",
     "output_type": "stream",
     "text": [
      "[[60  0  0  0  0  0  0  0  0  0]\n",
      " [ 0 73  0  0  0  0  0  0  0  0]\n",
      " [ 0  0 71  0  0  0  0  0  0  0]\n",
      " [ 0  0  0 70  0  0  0  0  0  0]\n",
      " [ 0  0  0  0 63  0  0  0  0  0]\n",
      " [ 0  0  0  0  0 87  1  0  0  1]\n",
      " [ 0  0  0  0  0  0 76  0  0  0]\n",
      " [ 0  0  0  0  0  0  0 65  0  0]\n",
      " [ 0  2  0  1  0  0  0  0 74  1]\n",
      " [ 0  0  0  2  0  1  0  0  0 71]]\n",
      "\n",
      "F1 Score:   0.987441080752\n"
     ]
    }
   ],
   "source": [
    "X_tr, X_valid, y_tr, y_valid = model_selection.train_test_split(X, \n",
    "                                                                 y,\n",
    "                                                                 test_size=0.40, \n",
    "                                                                 random_state=0)\n",
    "clf = neighbors.KNeighborsClassifier(n_neighbors=1).fit(X_tr, y_tr)\n",
    "y_pred = clf.predict(X_valid)\n",
    "print(metrics.confusion_matrix(y_valid, y_pred))\n",
    "print('\\nF1 Score:  ', metrics.f1_score(y_valid, y_pred, average='weighted'))"
   ]
  },
  {
   "cell_type": "markdown",
   "metadata": {},
   "source": [
    "## 8 Cross Validation (CV)"
   ]
  },
  {
   "cell_type": "markdown",
   "metadata": {},
   "source": [
    "By partitioning the available data into **Training** and **Validation** sets, we reduce the number of samples which can be used for learning the model.\n",
    "\n",
    "By using cross-validation **(CV)** the *validation set is defined automatically by the CV algoritm. * The training set is split into k smaller sets and:\n",
    "\n",
    "* A model is trained using k-1 of the folds as training data\n",
    "* The resulting model is validated on the remaining part of the data"
   ]
  },
  {
   "cell_type": "code",
   "execution_count": 32,
   "metadata": {
    "collapsed": false
   },
   "outputs": [
    {
     "data": {
      "image/png": "[encoded data removed]",
      "text/plain": [
       "<IPython.core.display.Image object>"
      ]
     },
     "execution_count": 32,
     "metadata": {},
     "output_type": "execute_result"
    }
   ],
   "source": [
    "Image('images/k-fold.png') "
   ]
  },
  {
   "cell_type": "markdown",
   "metadata": {},
   "source": [
    "In this example we first calculate the Mean Squared Error on the Train DatasetSet (which is a methodological error) and then we calculate again the same MSE using a KFold CV. The MSE calculated with Cv is much larger:"
   ]
  },
  {
   "cell_type": "code",
   "execution_count": 33,
   "metadata": {
    "collapsed": false
   },
   "outputs": [
    {
     "name": "stdout",
     "output_type": "stream",
     "text": [
      "MSE Calculated on the Training Set:    19.5876545263\n",
      "MSE Calculated with Cross Validation: 49.85 (+/- 80.06)\n"
     ]
    }
   ],
   "source": [
    "X, y = datasets.samples_generator.make_regression(n_samples=7,\n",
    "                                                  n_features=1, n_informative=1,\n",
    "                                                  random_state=0, noise=5)\n",
    "lin = linear_model.LinearRegression(fit_intercept=True)\n",
    "lin.fit(X, y)\n",
    "MSE = metrics.mean_squared_error(lin.predict(X), y)\n",
    "print('MSE Calculated on the Training Set:   ', MSE)\n",
    "MSE_CV = model_selection.cross_val_score(lin, X, y, cv=5, scoring='neg_mean_squared_error')\n",
    "print(\"MSE Calculated with Cross Validation: %0.2f (+/- %0.2f)\"\n",
    "      % (abs(MSE_CV).mean(), abs(MSE_CV).std() * 2))"
   ]
  },
  {
   "cell_type": "markdown",
   "metadata": {},
   "source": [
    "When the `cv` argument is an integer like `cv=10`, `cross_val_score` uses the `KFold` or `StratifiedKFold` strategies. It is also possible to use other cross validation strategies by passing a cross validation iterator instead, for instance we can use `model_selection.ShuffleSplit` where `n_iter` is the number of re-shuffling and splitting operations:"
   ]
  },
  {
   "cell_type": "code",
   "execution_count": 34,
   "metadata": {
    "collapsed": false
   },
   "outputs": [
    {
     "name": "stdout",
     "output_type": "stream",
     "text": [
      "MSE Calculated with Cross Validation: 31.07 (+/- 36.74)\n"
     ]
    }
   ],
   "source": [
    "n_samples = X.shape[0]\n",
    "cv_iter = model_selection.ShuffleSplit(n_samples, test_size=0.2, random_state=0)\n",
    "MSE_CV = model_selection.cross_val_score(lin, X, y, cv=cv_iter, scoring='neg_mean_squared_error')\n",
    "print(\"MSE Calculated with Cross Validation: %0.2f (+/- %0.2f)\"\n",
    "      % (abs(MSE_CV).mean(), abs(MSE_CV).std() * 2))"
   ]
  },
  {
   "cell_type": "markdown",
   "metadata": {},
   "source": [
    "### 8.1 Cross Validation: test many estimators on the same dataset:"
   ]
  },
  {
   "cell_type": "markdown",
   "metadata": {},
   "source": [
    "In this example *we use the \"diabetes\" dataset* to fit tree different linear models. For each model the default CV score is calculated and displayed:"
   ]
  },
  {
   "cell_type": "code",
   "execution_count": 35,
   "metadata": {
    "collapsed": false
   },
   "outputs": [
    {
     "name": "stdout",
     "output_type": "stream",
     "text": [
      "LinearRegression :  0.488702767247\n",
      "Ridge :  0.409427438303\n",
      "Lasso :  0.353800083299\n"
     ]
    }
   ],
   "source": [
    "data = datasets.load_diabetes()\n",
    "X, y = data.data, data.target\n",
    "\n",
    "for Model in [linear_model.LinearRegression,\n",
    "              linear_model.Ridge,\n",
    "              linear_model.Lasso]:\n",
    "    model = Model()\n",
    "    print(Model.__name__, ': ', model_selection.cross_val_score(model, X, y).mean())"
   ]
  },
  {
   "cell_type": "markdown",
   "metadata": {},
   "source": [
    "### 8.2 Cross Validation: test many hyperparamaters and estimators on the same dataset:"
   ]
  },
  {
   "cell_type": "markdown",
   "metadata": {},
   "source": [
    "`Lasso` and `Ridge` accept a regularization parameter `alpha`. Here we plot the CV Score for different values of alpha"
   ]
  },
  {
   "cell_type": "code",
   "execution_count": 36,
   "metadata": {
    "collapsed": false
   },
   "outputs": [
    {
     "data": {
      "text/html": [
       "\n",
       "\n",
       "    <div class=\"bk-root\">\n",
       "        <div class=\"bk-plotdiv\" id=\"7a4c1bf2-a9ce-4fc0-903a-d2bec99a87b4\"></div>\n",
       "    </div>\n",
       "<script type=\"text/javascript\">\n",
       "  \n",
       "  (function(global) {\n",
       "    function now() {\n",
       "      return new Date();\n",
       "    }\n",
       "  \n",
       "    var force = false;\n",
       "  \n",
       "    if (typeof (window._bokeh_onload_callbacks) === \"undefined\" || force === true) {\n",
       "      window._bokeh_onload_callbacks = [];\n",
       "      window._bokeh_is_loading = undefined;\n",
       "    }\n",
       "  \n",
       "  \n",
       "    \n",
       "    if (typeof (window._bokeh_timeout) === \"undefined\" || force === true) {\n",
       "      window._bokeh_timeout = Date.now() + 0;\n",
       "      window._bokeh_failed_load = false;\n",
       "    }\n",
       "  \n",
       "    var NB_LOAD_WARNING = {'data': {'text/html':\n",
       "       \"<div style='background-color: #fdd'>\\n\"+\n",
       "       \"<p>\\n\"+\n",
       "       \"BokehJS does not appear to have successfully loaded. If loading BokehJS from CDN, this \\n\"+\n",
       "       \"may be due to a slow or bad network connection. Possible fixes:\\n\"+\n",
       "       \"</p>\\n\"+\n",
       "       \"<ul>\\n\"+\n",
       "       \"<li>re-rerun `output_notebook()` to attempt to load from CDN again, or</li>\\n\"+\n",
       "       \"<li>use INLINE resources instead, as so:</li>\\n\"+\n",
       "       \"</ul>\\n\"+\n",
       "       \"<code>\\n\"+\n",
       "       \"from bokeh.resources import INLINE\\n\"+\n",
       "       \"output_notebook(resources=INLINE)\\n\"+\n",
       "       \"</code>\\n\"+\n",
       "       \"</div>\"}};\n",
       "  \n",
       "    function display_loaded() {\n",
       "      if (window.Bokeh !== undefined) {\n",
       "        document.getElementById(\"7a4c1bf2-a9ce-4fc0-903a-d2bec99a87b4\").textContent = \"BokehJS successfully loaded.\";\n",
       "      } else if (Date.now() < window._bokeh_timeout) {\n",
       "        setTimeout(display_loaded, 100)\n",
       "      }\n",
       "    }\n",
       "  \n",
       "    function run_callbacks() {\n",
       "      window._bokeh_onload_callbacks.forEach(function(callback) { callback() });\n",
       "      delete window._bokeh_onload_callbacks\n",
       "      console.info(\"Bokeh: all callbacks have finished\");\n",
       "    }\n",
       "  \n",
       "    function load_libs(js_urls, callback) {\n",
       "      window._bokeh_onload_callbacks.push(callback);\n",
       "      if (window._bokeh_is_loading > 0) {\n",
       "        console.log(\"Bokeh: BokehJS is being loaded, scheduling callback at\", now());\n",
       "        return null;\n",
       "      }\n",
       "      if (js_urls == null || js_urls.length === 0) {\n",
       "        run_callbacks();\n",
       "        return null;\n",
       "      }\n",
       "      console.log(\"Bokeh: BokehJS not loaded, scheduling load and callback at\", now());\n",
       "      window._bokeh_is_loading = js_urls.length;\n",
       "      for (var i = 0; i < js_urls.length; i++) {\n",
       "        var url = js_urls[i];\n",
       "        var s = document.createElement('script');\n",
       "        s.src = url;\n",
       "        s.async = false;\n",
       "        s.onreadystatechange = s.onload = function() {\n",
       "          window._bokeh_is_loading--;\n",
       "          if (window._bokeh_is_loading === 0) {\n",
       "            console.log(\"Bokeh: all BokehJS libraries loaded\");\n",
       "            run_callbacks()\n",
       "          }\n",
       "        };\n",
       "        s.onerror = function() {\n",
       "          console.warn(\"failed to load library \" + url);\n",
       "        };\n",
       "        console.log(\"Bokeh: injecting script tag for BokehJS library: \", url);\n",
       "        document.getElementsByTagName(\"head\")[0].appendChild(s);\n",
       "      }\n",
       "    };var element = document.getElementById(\"7a4c1bf2-a9ce-4fc0-903a-d2bec99a87b4\");\n",
       "    if (element == null) {\n",
       "      console.log(\"Bokeh: ERROR: autoload.js configured with elementid '7a4c1bf2-a9ce-4fc0-903a-d2bec99a87b4' but no matching script tag was found. \")\n",
       "      return false;\n",
       "    }\n",
       "  \n",
       "    var js_urls = [];\n",
       "  \n",
       "    var inline_js = [\n",
       "      function(Bokeh) {\n",
       "        (function() {\n",
       "          var fn = function() {\n",
       "            var docs_json = {\"d24ea19d-ea81-4740-bd83-ad83976f1e13\":{\"roots\":{\"references\":[{\"attributes\":{\"line_color\":{\"value\":\"green\"},\"x\":{\"field\":\"x\"},\"y\":{\"field\":\"y\"}},\"id\":\"bcdea05a-23c1-4637-8b69-f152b257de0d\",\"type\":\"Line\"},{\"attributes\":{\"plot\":{\"id\":\"fc7c6509-dcde-4e30-ba4d-9b4cf5116c30\",\"subtype\":\"Figure\",\"type\":\"Plot\"}},\"id\":\"ceab9ae7-8e69-46dd-ae79-e0ec47c9f95a\",\"type\":\"SaveTool\"},{\"attributes\":{\"line_alpha\":{\"value\":0.1},\"line_color\":{\"value\":\"#1f77b4\"},\"x\":{\"field\":\"x\"},\"y\":{\"field\":\"y\"}},\"id\":\"53cb07e5-f6fb-4f95-b9cd-723a5ae42e0b\",\"type\":\"Line\"},{\"attributes\":{\"formatter\":{\"id\":\"bf1261d3-9a3d-4b4a-b0af-32b5a8e05b5d\",\"type\":\"BasicTickFormatter\"},\"plot\":{\"id\":\"fc7c6509-dcde-4e30-ba4d-9b4cf5116c30\",\"subtype\":\"Figure\",\"type\":\"Plot\"},\"ticker\":{\"id\":\"d19eea77-ac92-42b0-810e-8ae84580cff0\",\"type\":\"BasicTicker\"}},\"id\":\"21916d68-601d-4e51-a24d-e7467397cc82\",\"type\":\"LinearAxis\"},{\"attributes\":{\"bottom_units\":\"screen\",\"fill_alpha\":{\"value\":0.5},\"fill_color\":{\"value\":\"lightgrey\"},\"left_units\":\"screen\",\"level\":\"overlay\",\"line_alpha\":{\"value\":1.0},\"line_color\":{\"value\":\"black\"},\"line_dash\":[4,4],\"line_width\":{\"value\":2},\"plot\":null,\"render_mode\":\"css\",\"right_units\":\"screen\",\"top_units\":\"screen\"},\"id\":\"cc1c3a0f-a47b-4c44-b0fc-7050e3bbe6b4\",\"type\":\"BoxAnnotation\"},{\"attributes\":{},\"id\":\"2b7b07d8-8579-4b5b-91fc-787551ee1de8\",\"type\":\"ToolEvents\"},{\"attributes\":{\"num_minor_ticks\":10},\"id\":\"f27aa1cb-f263-4ffd-b03d-41e9eadde9e2\",\"type\":\"LogTicker\"},{\"attributes\":{\"plot\":{\"id\":\"fc7c6509-dcde-4e30-ba4d-9b4cf5116c30\",\"subtype\":\"Figure\",\"type\":\"Plot\"}},\"id\":\"538d9658-b9f0-4123-9c19-3c76e4a3ca8b\",\"type\":\"HelpTool\"},{\"attributes\":{\"plot\":{\"id\":\"fc7c6509-dcde-4e30-ba4d-9b4cf5116c30\",\"subtype\":\"Figure\",\"type\":\"Plot\"}},\"id\":\"68226e26-b80a-46b6-945c-961a202d4c13\",\"type\":\"ResetTool\"},{\"attributes\":{\"line_color\":{\"value\":\"blue\"},\"x\":{\"field\":\"x\"},\"y\":{\"field\":\"y\"}},\"id\":\"770ab571-e3fd-438a-bbd7-71d18088c493\",\"type\":\"Line\"},{\"attributes\":{\"data_source\":{\"id\":\"7a9bbe36-656a-43b9-8bbe-39fc6bd1b44f\",\"type\":\"ColumnDataSource\"},\"glyph\":{\"id\":\"770ab571-e3fd-438a-bbd7-71d18088c493\",\"type\":\"Line\"},\"hover_glyph\":null,\"nonselection_glyph\":{\"id\":\"d1a8661f-7029-4b06-8fb9-d21d13ee43d2\",\"type\":\"Line\"},\"selection_glyph\":null},\"id\":\"97cccdb4-21cc-472c-b666-8dc5c8a8bdb4\",\"type\":\"GlyphRenderer\"},{\"attributes\":{},\"id\":\"d19eea77-ac92-42b0-810e-8ae84580cff0\",\"type\":\"BasicTicker\"},{\"attributes\":{\"callback\":null,\"column_names\":[\"x\",\"y\"],\"data\":{\"x\":{\"__ndarray__\":\"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\",\"dtype\":\"float64\",\"shape\":[200]},\"y\":[0.4823231384163485,0.48232328486323006,0.4823234343437866,0.4823235868189588,0.48232374223859775,0.4823239005404606,0.48232406164913294,0.4823242254748778,0.482324391912403,0.4823245608395462,0.48232473211587035,0.48232490558116464,0.4823250810538474,0.48232525832926376,0.48232543717787435,0.4823256173433281,0.4823257985404131,0.48232598045288133,0.48232616273113893,0.4823263449897969,0.4823265268050762,0.4823267077120601,0.4823268872017862,0.4823270647181747,0.48232723965478375,0.4823274113513853,0.4823275790903562,0.4823277420928795,0.4823278995149451,0.4823280504431498,0.48232819389028736,0.48232832879072385,0.48232845399555613,0.48232856826754544,0.48232867027582743,0.48232875859039037,0.48232883167632623,0.4823288878878489,0.4823289254620818,0.4823289425126182,0.4823289370228558,0.4823289068391105,0.4823288496635188,0.4823287630467341,0.4823286443804314,0.48232849088963226,0.4823282996248672,0.48232806745419377,0.48232779105509616,0.482327466906286,0.48232709127944096,0.4823266602309103,0.482326169593425,0.48232561496785814,0.48232499171507676,0.48232429494794216,0.48232351952351216,0.4823226600355074,0.48232171080710984,0.4823206658841673,0.48231951902888,0.4823182637140572,0.4823168931180296,0.4823154001203186,0.4823137772981596,0.4823120169239884,0.4823101109640035,0.48230805107791924,0.48230582862003324,0.4823034346417322,0.4823008598955667,0.4822980948410214,0.48229512965212057,0.48229195422699433,0.4822885581995452,0.48228493095334,0.4822810616378598,0.48227693918722625,0.4822725523415256,0.48226788967083356,0.48226293960204336,0.4822576904485816,0.48225213044308307,0.48224624777308234,0.482240030619758,0.4822334671997469,0.4822265458100226,0.48221925487580786,0.4822115830014605,0.4822035190242513,0.48219505207091035,0.4821861716167987,0.4821768675475172,0.48216713022273777,0.4821569505420043,0.4821463200122128,0.48213523081644905,0.48212367588382155,0.4821116489598998,0.4820991446773282,0.4820861586261608,0.48207268742342996,0.48205872878143846,0.482044281574243,0.48202934590177604,0.4820139231510437,0.4819980160538244,0.4819816287402941,0.48196476678799993,0.48194743726561773,0.48192964877093897,0.4819114114625521,0.4818927370847114,0.48187363898491586,0.48185413212375555,0.48183423307663115,0.48181396002699295,0.48179333275080094,0.4817723725919619,0.4817511024285569,0.48172954662973666,0.48170773100321773,0.4816856827333845,0.481663430310057,0.48164100344805105,0.48161843299771423,0.4815957508466827,0.48157298981314955,0.4815501835309945,0.48152736632716076,0.4815045730917055,0.4814818391409861,0.48145920007446286,0.4814366916256233,0.4814143495075406,0.4813922092535834,0.48137030605378894,0.48134867458740355,0.48132734885206985,0.48130636199012305,0.48128574611241814,0.48126553212007794,0.4812457495245047,0.48122642626595413,0.4812075885309107,0.48118926056845435,0.48117146450574316,0.4811542201626784,0.48113754486575316,0.4811214532610223,0.4811059571260648,0.4810910651807472,0.4810767828965325,0.481063112304016,0.48105005179830995,0.4810375959418402,0.4810257352640681,0.481014456057587,0.4810037401700134,0.48099356479102945,0.4809839022339101,0.48097471971082156,0.480965979101156,0.48095763671213776,0.48094964303091753,0.4809419424673611,0.4809344730867252,0.4809271663314171,0.48091994673103555,0.48091273159990544,0.48090543072133307,0.4808979460178399,0.4808901712066616,0.48088199143984395,0.4808732829283164,0.48086391254938166,0.48085373743712934,0.4808426045553581,0.48083035025267806,0.48081679979956304,0.4808017669072296,0.4807850532283398,0.48076644783965394,0.48074572670690047,0.48072265213228516,0.48069697218522467,0.480668420117066,0.4806367137607433,0.48060155491652007,0.48056262872517913,0.48051960303023994,0.4804721277310173,0.4804198341285775,0.4803623342668929,0.48029922027175764,0.4802300636902882,0.4801544148341005,0.4800718021295253,0.4799817314784969,0.47988368563401884]}},\"id\":\"7a9bbe36-656a-43b9-8bbe-39fc6bd1b44f\",\"type\":\"ColumnDataSource\"},{\"attributes\":{\"ticker\":null},\"id\":\"acadff2a-d319-4da8-b5e6-80204c23f589\",\"type\":\"LogTickFormatter\"},{\"attributes\":{\"label\":{\"value\":\"Lasso\"},\"renderers\":[{\"id\":\"ed215dcd-e75a-45a1-88b7-5be36e01e48b\",\"type\":\"GlyphRenderer\"}]},\"id\":\"341090c1-c92e-4fb8-89f6-fee697fb4482\",\"type\":\"LegendItem\"},{\"attributes\":{\"dimension\":1,\"plot\":{\"id\":\"fc7c6509-dcde-4e30-ba4d-9b4cf5116c30\",\"subtype\":\"Figure\",\"type\":\"Plot\"},\"ticker\":{\"id\":\"d19eea77-ac92-42b0-810e-8ae84580cff0\",\"type\":\"BasicTicker\"}},\"id\":\"4c61a12d-2abf-491d-b977-290af23af170\",\"type\":\"Grid\"},{\"attributes\":{\"plot\":{\"id\":\"fc7c6509-dcde-4e30-ba4d-9b4cf5116c30\",\"subtype\":\"Figure\",\"type\":\"Plot\"}},\"id\":\"7290c41a-6447-4b21-99bb-08330179cab2\",\"type\":\"WheelZoomTool\"},{\"attributes\":{\"label\":{\"value\":\"Ridge\"},\"renderers\":[{\"id\":\"97cccdb4-21cc-472c-b666-8dc5c8a8bdb4\",\"type\":\"GlyphRenderer\"}]},\"id\":\"51fa6d4d-5160-4792-9d09-264ed107c935\",\"type\":\"LegendItem\"},{\"attributes\":{\"callback\":null,\"column_names\":[\"x\",\"y\"],\"data\":{\"x\":{\"__ndarray__\":\"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\",\"dtype\":\"float64\",\"shape\":[200]},\"y\":[0.4823198719804237,0.48231991884559244,0.482319967003774,0.48232001435008487,0.4823200641088564,0.4823201143892562,0.4823201651660526,0.48232021628554095,0.48232026882353873,0.4823203150648057,0.48232036463835326,0.4823204159736383,0.4823204655320986,0.482320516352849,0.48232056525531153,0.4823206147625639,0.4823206609496345,0.48232070830886686,0.4823207512358608,0.48232079720675697,0.48232083950672955,0.48232086987668144,0.48232090355724566,0.48232093772119233,0.48232097014338826,0.48232099370282866,0.4823210121764812,0.48232102938033955,0.4823210383036353,0.48232103822463984,0.4823210367267542,0.48232102291351364,0.48232100188189336,0.4823209750026871,0.48232092776527874,0.48232087933243156,0.48232080072971273,0.4823207262236314,0.48232062869260883,0.4823205123628168,0.48232038389357185,0.4823202340984404,0.4823200606957142,0.48231986306826347,0.4823196435370619,0.48231939042330463,0.4823191108923064,0.48231878968779507,0.4823184388432516,0.4823180502151848,0.4823176188202652,0.48231712705368296,0.4823166057788962,0.4823160117270618,0.4823153648336955,0.48231465857648625,0.4823138863846255,0.48231304096732475,0.4823121039781089,0.4823110821803337,0.48230996012143984,0.4823087455313269,0.48230741896421864,0.482305978413876,0.48230440645479195,0.4823027044475655,0.48230545853492474,0.48231236488885976,0.4823219841978103,0.4823319259216494,0.48234208133076917,0.48235254829327623,0.48236328171946086,0.48237432164243293,0.48238559388143454,0.48239721511385414,0.48240912808098074,0.4824213411520935,0.48243387894468726,0.48244661269627187,0.48245976034662946,0.48246824575154346,0.48247049879835613,0.4824726143270068,0.48247456686107026,0.48247632449469996,0.4824778429299572,0.48247920875228684,0.4824802464699304,0.4824810677509467,0.48248142894293655,0.4824815421097517,0.48248688644729876,0.48249238411036577,0.48249777820428585,0.48250292043971843,0.4825077757035716,0.48251230922974847,0.4825165537139526,0.4825202985083378,0.48252364861963076,0.4825265118354819,0.482528745396613,0.48253037056428844,0.48253113755992205,0.4825312510779879,0.48252725863151724,0.4825191245111321,0.4825095818562353,0.4824991672498398,0.4824871432992429,0.48247327753684444,0.48245738377572567,0.4824355164872955,0.4823875197195983,0.48233330431589894,0.4822766797802669,0.4822171802659293,0.482154217861989,0.4820878622482356,0.48201796066394687,0.4819445464894012,0.4818668451908086,0.4817850519347996,0.4816987820363474,0.4816077538268825,0.4815119907254618,0.48141173238577817,0.48131684493045845,0.48125683521420565,0.481215021836905,0.4811689242359861,0.4811179249238876,0.4810983464073743,0.4810991293643679,0.48111933133830787,0.48115650678595134,0.4811802956093871,0.48119981627094555,0.4812176290120429,0.4812332914470539,0.48124695209799845,0.4812844503876915,0.48134172073405657,0.4814039306194536,0.48146432253306076,0.4815202900430967,0.48157635653669484,0.4816320306416987,0.481687577177062,0.481717153147682,0.4817349085093469,0.4817519852888578,0.4817686187602728,0.4817853006058924,0.4818002392200416,0.4818144922628633,0.48182754219497453,0.481840393524093,0.48184994624149996,0.4818827756845915,0.48191589616215663,0.48194828087696584,0.4819797313850289,0.48200985547698927,0.482038668903985,0.48206586949108116,0.48208595408295735,0.48209951105828386,0.4821082651529761,0.48211527131896076,0.48211654452643826,0.48211416669872625,0.48210766275813344,0.4820967786702234,0.4820808590918288,0.4820630346952136,0.48204909514844074,0.4820428973029266,0.4820423170478307,0.48203535099700207,0.48202268559982064,0.4820029592061702,0.4819759672586835,0.4819411629935084,0.4818878476797265,0.48181757338938336,0.4817395167678075,0.4816510140889866,0.4815350476045719,0.4814049519025782,0.48126275860241974,0.4811058827242256,0.4809344025096176,0.48074660077664505,0.4805416840899059,0.48031758713672235,0.4800731162349868,0.47980638365214234,0.4795161392064994]}},\"id\":\"f47b3307-82f0-45bd-a7d2-31d5bc5c514f\",\"type\":\"ColumnDataSource\"},{\"attributes\":{},\"id\":\"bf1261d3-9a3d-4b4a-b0af-32b5a8e05b5d\",\"type\":\"BasicTickFormatter\"},{\"attributes\":{\"plot\":{\"id\":\"fc7c6509-dcde-4e30-ba4d-9b4cf5116c30\",\"subtype\":\"Figure\",\"type\":\"Plot\"}},\"id\":\"72e46cc7-9be7-4b80-81d2-f113af64c3bb\",\"type\":\"PanTool\"},{\"attributes\":{\"overlay\":{\"id\":\"cc1c3a0f-a47b-4c44-b0fc-7050e3bbe6b4\",\"type\":\"BoxAnnotation\"},\"plot\":{\"id\":\"fc7c6509-dcde-4e30-ba4d-9b4cf5116c30\",\"subtype\":\"Figure\",\"type\":\"Plot\"}},\"id\":\"74093e49-1a32-4a04-9569-c812daa2465d\",\"type\":\"BoxZoomTool\"},{\"attributes\":{\"active_drag\":\"auto\",\"active_scroll\":\"auto\",\"active_tap\":\"auto\",\"tools\":[{\"id\":\"72e46cc7-9be7-4b80-81d2-f113af64c3bb\",\"type\":\"PanTool\"},{\"id\":\"7290c41a-6447-4b21-99bb-08330179cab2\",\"type\":\"WheelZoomTool\"},{\"id\":\"74093e49-1a32-4a04-9569-c812daa2465d\",\"type\":\"BoxZoomTool\"},{\"id\":\"ceab9ae7-8e69-46dd-ae79-e0ec47c9f95a\",\"type\":\"SaveTool\"},{\"id\":\"68226e26-b80a-46b6-945c-961a202d4c13\",\"type\":\"ResetTool\"},{\"id\":\"538d9658-b9f0-4123-9c19-3c76e4a3ca8b\",\"type\":\"HelpTool\"}]},\"id\":\"56301178-b111-4d47-9c68-423f50982c40\",\"type\":\"Toolbar\"},{\"attributes\":{\"plot\":{\"id\":\"fc7c6509-dcde-4e30-ba4d-9b4cf5116c30\",\"subtype\":\"Figure\",\"type\":\"Plot\"},\"ticker\":{\"id\":\"f27aa1cb-f263-4ffd-b03d-41e9eadde9e2\",\"type\":\"LogTicker\"}},\"id\":\"d695ae0d-f62f-4e86-a2e9-0e1655795f70\",\"type\":\"Grid\"},{\"attributes\":{\"below\":[{\"id\":\"b45e8773-e306-42ac-b2e6-5575f2208138\",\"type\":\"LogAxis\"}],\"left\":[{\"id\":\"21916d68-601d-4e51-a24d-e7467397cc82\",\"type\":\"LinearAxis\"}],\"plot_height\":300,\"plot_width\":700,\"renderers\":[{\"id\":\"b45e8773-e306-42ac-b2e6-5575f2208138\",\"type\":\"LogAxis\"},{\"id\":\"d695ae0d-f62f-4e86-a2e9-0e1655795f70\",\"type\":\"Grid\"},{\"id\":\"21916d68-601d-4e51-a24d-e7467397cc82\",\"type\":\"LinearAxis\"},{\"id\":\"4c61a12d-2abf-491d-b977-290af23af170\",\"type\":\"Grid\"},{\"id\":\"cc1c3a0f-a47b-4c44-b0fc-7050e3bbe6b4\",\"type\":\"BoxAnnotation\"},{\"id\":\"492545e3-6008-4761-ad14-804658f20abe\",\"type\":\"Legend\"},{\"id\":\"97cccdb4-21cc-472c-b666-8dc5c8a8bdb4\",\"type\":\"GlyphRenderer\"},{\"id\":\"ed215dcd-e75a-45a1-88b7-5be36e01e48b\",\"type\":\"GlyphRenderer\"}],\"title\":{\"id\":\"54808a9a-48a9-4c64-b843-96957954d6b0\",\"type\":\"Title\"},\"tool_events\":{\"id\":\"2b7b07d8-8579-4b5b-91fc-787551ee1de8\",\"type\":\"ToolEvents\"},\"toolbar\":{\"id\":\"56301178-b111-4d47-9c68-423f50982c40\",\"type\":\"Toolbar\"},\"x_mapper_type\":\"log\",\"x_range\":{\"id\":\"a87977e3-c56e-49fa-a66f-8db607462221\",\"type\":\"Range1d\"},\"y_range\":{\"id\":\"d3abc47d-c0b6-4014-98c8-cd15a5de6ca6\",\"type\":\"DataRange1d\"}},\"id\":\"fc7c6509-dcde-4e30-ba4d-9b4cf5116c30\",\"subtype\":\"Figure\",\"type\":\"Plot\"},{\"attributes\":{\"plot\":null,\"text\":\"Alpha sensitiveness on different models\"},\"id\":\"54808a9a-48a9-4c64-b843-96957954d6b0\",\"type\":\"Title\"},{\"attributes\":{\"items\":[{\"id\":\"51fa6d4d-5160-4792-9d09-264ed107c935\",\"type\":\"LegendItem\"},{\"id\":\"341090c1-c92e-4fb8-89f6-fee697fb4482\",\"type\":\"LegendItem\"}],\"location\":\"bottom_left\",\"plot\":{\"id\":\"fc7c6509-dcde-4e30-ba4d-9b4cf5116c30\",\"subtype\":\"Figure\",\"type\":\"Plot\"}},\"id\":\"492545e3-6008-4761-ad14-804658f20abe\",\"type\":\"Legend\"},{\"attributes\":{\"callback\":null,\"end\":0.1,\"start\":0.0001},\"id\":\"a87977e3-c56e-49fa-a66f-8db607462221\",\"type\":\"Range1d\"},{\"attributes\":{\"line_alpha\":{\"value\":0.1},\"line_color\":{\"value\":\"#1f77b4\"},\"x\":{\"field\":\"x\"},\"y\":{\"field\":\"y\"}},\"id\":\"d1a8661f-7029-4b06-8fb9-d21d13ee43d2\",\"type\":\"Line\"},{\"attributes\":{\"formatter\":{\"id\":\"acadff2a-d319-4da8-b5e6-80204c23f589\",\"type\":\"LogTickFormatter\"},\"plot\":{\"id\":\"fc7c6509-dcde-4e30-ba4d-9b4cf5116c30\",\"subtype\":\"Figure\",\"type\":\"Plot\"},\"ticker\":{\"id\":\"f27aa1cb-f263-4ffd-b03d-41e9eadde9e2\",\"type\":\"LogTicker\"}},\"id\":\"b45e8773-e306-42ac-b2e6-5575f2208138\",\"type\":\"LogAxis\"},{\"attributes\":{\"data_source\":{\"id\":\"f47b3307-82f0-45bd-a7d2-31d5bc5c514f\",\"type\":\"ColumnDataSource\"},\"glyph\":{\"id\":\"bcdea05a-23c1-4637-8b69-f152b257de0d\",\"type\":\"Line\"},\"hover_glyph\":null,\"nonselection_glyph\":{\"id\":\"53cb07e5-f6fb-4f95-b9cd-723a5ae42e0b\",\"type\":\"Line\"},\"selection_glyph\":null},\"id\":\"ed215dcd-e75a-45a1-88b7-5be36e01e48b\",\"type\":\"GlyphRenderer\"},{\"attributes\":{\"callback\":null},\"id\":\"d3abc47d-c0b6-4014-98c8-cd15a5de6ca6\",\"type\":\"DataRange1d\"}],\"root_ids\":[\"fc7c6509-dcde-4e30-ba4d-9b4cf5116c30\"]},\"title\":\"Bokeh Application\",\"version\":\"0.12.4\"}};\n",
       "            var render_items = [{\"docid\":\"d24ea19d-ea81-4740-bd83-ad83976f1e13\",\"elementid\":\"7a4c1bf2-a9ce-4fc0-903a-d2bec99a87b4\",\"modelid\":\"fc7c6509-dcde-4e30-ba4d-9b4cf5116c30\"}];\n",
       "            \n",
       "            Bokeh.embed.embed_items(docs_json, render_items);\n",
       "          };\n",
       "          if (document.readyState != \"loading\") fn();\n",
       "          else document.addEventListener(\"DOMContentLoaded\", fn);\n",
       "        })();\n",
       "      },\n",
       "      function(Bokeh) {\n",
       "      }\n",
       "    ];\n",
       "  \n",
       "    function run_inline_js() {\n",
       "      \n",
       "      if ((window.Bokeh !== undefined) || (force === true)) {\n",
       "        for (var i = 0; i < inline_js.length; i++) {\n",
       "          inline_js[i](window.Bokeh);\n",
       "        }if (force === true) {\n",
       "          display_loaded();\n",
       "        }} else if (Date.now() < window._bokeh_timeout) {\n",
       "        setTimeout(run_inline_js, 100);\n",
       "      } else if (!window._bokeh_failed_load) {\n",
       "        console.log(\"Bokeh: BokehJS failed to load within specified timeout.\");\n",
       "        window._bokeh_failed_load = true;\n",
       "      } else if (force !== true) {\n",
       "        var cell = $(document.getElementById(\"7a4c1bf2-a9ce-4fc0-903a-d2bec99a87b4\")).parents('.cell').data().cell;\n",
       "        cell.output_area.append_execute_result(NB_LOAD_WARNING)\n",
       "      }\n",
       "  \n",
       "    }\n",
       "  \n",
       "    if (window._bokeh_is_loading === 0) {\n",
       "      console.log(\"Bokeh: BokehJS loaded, going straight to plotting\");\n",
       "      run_inline_js();\n",
       "    } else {\n",
       "      load_libs(js_urls, function() {\n",
       "        console.log(\"Bokeh: BokehJS plotting callback run at\", now());\n",
       "        run_inline_js();\n",
       "      });\n",
       "    }\n",
       "  }(this));\n",
       "</script>"
      ]
     },
     "metadata": {},
     "output_type": "display_data"
    }
   ],
   "source": [
    "from bokeh.models.axes import LogAxis\n",
    "\n",
    "alphas = np.logspace(-4, -1, 200)\n",
    "fig = bk.figure(title='Alpha sensitiveness on different models',\n",
    "                plot_width=700, plot_height=300,\n",
    "                x_axis_type='log', \n",
    "                x_range=(min(alphas), max(alphas)))\n",
    "\n",
    "for Model, color in [(linear_model.Ridge, 'blue'), (linear_model.Lasso, 'green')]:\n",
    "    scores = [model_selection.cross_val_score(Model(alpha=a), X, y, cv=5).mean()\n",
    "              for a in alphas]\n",
    "    fig.line(alphas, scores, line_color=color, legend=Model.__name__)\n",
    "\n",
    "fig.legend.location = 'bottom_left'\n",
    "bk.show(fig)"
   ]
  },
  {
   "cell_type": "markdown",
   "metadata": {},
   "source": [
    "### 8.3 Model specific Cross Validation:"
   ]
  },
  {
   "cell_type": "markdown",
   "metadata": {},
   "source": [
    "Some models can fit data for a range of parameters almost as efficiently as fitting for a single parameter. The most common parameter amenable to this strategy is the strength of the regularizer. In this case we say that we compute the regularization path of the estimator.\n",
    "\n",
    "This is a particular case of what we are going to see in the next paragraph: **Grid Search**.\n",
    "\n",
    "Model Specific Cross Validation is supported by the following models:\n",
    "\n",
    "* **RidgeCV**\n",
    "* **RidgeClassifierCV**\n",
    "* **LarsCV**\n",
    "* **LassoLarsCV**\n",
    "* **LassoCV**\n",
    "* **ElasticNetCV**"
   ]
  },
  {
   "cell_type": "code",
   "execution_count": 37,
   "metadata": {
    "collapsed": false
   },
   "outputs": [
    {
     "name": "stdout",
     "output_type": "stream",
     "text": [
      "RidgeCV :  0.000373993730248\n",
      "LassoCV :  0.00382749447852\n"
     ]
    }
   ],
   "source": [
    "for Model in [linear_model.RidgeCV, linear_model.LassoCV]:\n",
    "    model = Model(alphas=alphas, cv=5).fit(X, y)\n",
    "    print(Model.__name__, ': ', model.alpha_)"
   ]
  },
  {
   "cell_type": "markdown",
   "metadata": {},
   "source": [
    "### 8.4 Cross-validation iterators"
   ]
  },
  {
   "cell_type": "markdown",
   "metadata": {},
   "source": [
    "* **K-fold** - divide all samples in *K* groups, if *K=n* it is equivalent to leave-one-out.\n",
    "* **Statified K-fold** - each set contains the same prercentage of the target classes as the whole set\n",
    "* **Leave-One-Out (LOO)** - all samples except one\n",
    "* **Leave-P-Out (LPO)** - create all possible training sets by removing *p* samples from the whole set\n",
    "* **Leave-One-Label-Out (LOLO)** - holds out the samples according to a third-party provided label\n",
    "* **ShuffleSplit** - shuffles then split data in train and test sets\n",
    "* **StratifiedShuffleSplit** - ShuffleSplits by preserving percentage\n",
    "* **Bootstrap** - generate independent splits and then resample with replacement each split"
   ]
  },
  {
   "cell_type": "code",
   "execution_count": 38,
   "metadata": {
    "collapsed": true
   },
   "outputs": [],
   "source": [
    "X = np.arange(20).reshape(10,2)\n",
    "y = np.arange(10)"
   ]
  },
  {
   "cell_type": "markdown",
   "metadata": {},
   "source": [
    "**KFold** split dataset into k consecutive folds (without shuffling):"
   ]
  },
  {
   "cell_type": "code",
   "execution_count": 39,
   "metadata": {
    "collapsed": false
   },
   "outputs": [
    {
     "name": "stdout",
     "output_type": "stream",
     "text": [
      "[2 3 4 5 6 7 8 9] [0 1]\n",
      "[0 1 4 5 6 7 8 9] [2 3]\n",
      "[0 1 2 3 6 7 8 9] [4 5]\n",
      "[0 1 2 3 4 5 8 9] [6 7]\n",
      "[0 1 2 3 4 5 6 7] [8 9]\n"
     ]
    }
   ],
   "source": [
    "kf = model_selection.KFold(n_splits=5)\n",
    "for train, test in kf.split(X):\n",
    "    print(train, test)"
   ]
  },
  {
   "cell_type": "markdown",
   "metadata": {},
   "source": [
    "**ShuffleSplit** do not guarantee that all folds will be different:"
   ]
  },
  {
   "cell_type": "code",
   "execution_count": 40,
   "metadata": {
    "collapsed": false
   },
   "outputs": [
    {
     "name": "stdout",
     "output_type": "stream",
     "text": [
      "[5 3 9 8 0 7 1 4] [6 2]\n",
      "[1 9 2 3 5 8 7 4] [0 6]\n",
      "[4 3 6 2 9 5 7 0] [8 1]\n",
      "[9 5 8 7 2 0 1 6] [4 3]\n",
      "[5 8 2 3 1 6 4 7] [9 0]\n"
     ]
    }
   ],
   "source": [
    "ss = model_selection.ShuffleSplit(n_splits=5, test_size=0.2)\n",
    "for train, test in ss.split(X):\n",
    "    print(train, test)"
   ]
  },
  {
   "cell_type": "markdown",
   "metadata": {},
   "source": [
    "**Bootstrap** example:"
   ]
  },
  {
   "cell_type": "code",
   "execution_count": 41,
   "metadata": {
    "collapsed": false
   },
   "outputs": [
    {
     "name": "stdout",
     "output_type": "stream",
     "text": [
      "[1 2 3 4 5 6 7 8 9] [0]\n",
      "[0 2 3 4 5 6 7 8 9] [1]\n",
      "[0 1 3 4 5 6 7 8 9] [2]\n",
      "[0 1 2 4 5 6 7 8 9] [3]\n",
      "[0 1 2 3 5 6 7 8 9] [4]\n",
      "[0 1 2 3 4 6 7 8 9] [5]\n",
      "[0 1 2 3 4 5 7 8 9] [6]\n",
      "[0 1 2 3 4 5 6 8 9] [7]\n",
      "[0 1 2 3 4 5 6 7 9] [8]\n",
      "[0 1 2 3 4 5 6 7 8] [9]\n"
     ]
    }
   ],
   "source": [
    "bs = model_selection.LeaveOneOut()\n",
    "for train, test in bs.split(X):\n",
    "    print(train, test)"
   ]
  },
  {
   "cell_type": "markdown",
   "metadata": {},
   "source": [
    "## 9 Grid Search: Searching for estimator hyperparameters"
   ]
  },
  {
   "cell_type": "markdown",
   "metadata": {},
   "source": [
    "`GridSearchCV` can optimize any parameter provided by `estimator.get_params()` by exhaustively fitting the model with any parameter combination.\n",
    "\n",
    "When evaluating different settings (“hyperparameters”) for estimators.\n",
    "\n",
    "`GridSearchCV` will optimize the hyperparameters on the **TRAINING set** (whereas the **VALIDATION set** is generated by CV). After the optimization has been done, the performances of the estimator can be evaluated on a third set called **TEST set**:"
   ]
  },
  {
   "cell_type": "markdown",
   "metadata": {},
   "source": [
    "### 9.1 Exhaustive Grid Search"
   ]
  },
  {
   "cell_type": "markdown",
   "metadata": {},
   "source": [
    "We'll pass to `GridSearchCV` a dictionary of parameters containing a list of hyperparameters to be searched. In this case we set `verbose=2` to see an output about all the searches done by the algorithm:"
   ]
  },
  {
   "cell_type": "code",
   "execution_count": 42,
   "metadata": {
    "collapsed": false
   },
   "outputs": [
    {
     "name": "stdout",
     "output_type": "stream",
     "text": [
      "Fitting 5 folds for each of 4 candidates, totalling 20 fits\n",
      "[CV] C=1, kernel=linear ..............................................\n",
      "[CV] C=1, kernel=linear ..............................................\n",
      "[CV] C=1, kernel=linear ..............................................\n",
      "[CV] C=1, kernel=linear ..............................................\n",
      "[CV] ............................... C=1, kernel=linear, total=   0.0s\n",
      "[CV] ............................... C=1, kernel=linear, total=   0.0s\n",
      "[CV] .............................. C=10, kernel=linear, total=   0.0s\n",
      "[CV] ............................... C=1, kernel=linear, total=   0.0s\n",
      "[CV] C=10, kernel=linear .............................................\n",
      "[CV] C=1, kernel=linear ..............................................\n",
      "[CV] ............................... C=1, kernel=linear, total=   0.0s\n",
      "[CV] C=10, kernel=linear .............................................\n",
      "[CV] C=10, kernel=linear .............................................\n",
      "[CV] .............................. C=10, kernel=linear, total=   0.0s\n",
      "[CV] ............................... C=1, kernel=linear, total=   0.0s\n",
      "[CV] .............................. C=10, kernel=linear, total=   0.0s\n",
      "[CV] C=10, kernel=linear .............................................\n",
      "[CV] .............................. C=10, kernel=linear, total=   0.0s\n",
      "[CV] C=10, kernel=linear .............................................\n",
      "[CV] .............................. C=10, kernel=linear, total=   0.0s\n",
      "[CV] C=2, gamma=0.1, kernel=rbf ......................................\n",
      "[CV] ....................... C=2, gamma=0.1, kernel=rbf, total=   0.0s\n",
      "[CV] C=2, gamma=0.1, kernel=rbf ......................................\n",
      "[CV] ....................... C=2, gamma=0.1, kernel=rbf, total=   0.0s\n",
      "[CV] C=2, gamma=0.1, kernel=rbf ......................................\n",
      "[CV] ....................... C=2, gamma=0.1, kernel=rbf, total=   0.0s\n",
      "[CV] C=2, gamma=0.1, kernel=rbf ......................................\n",
      "[CV] ....................... C=2, gamma=0.1, kernel=rbf, total=   0.0s\n",
      "[CV] C=2, gamma=0.1, kernel=rbf ......................................\n",
      "[CV] ....................... C=2, gamma=0.1, kernel=rbf, total=   0.0s\n",
      "[CV] C=2, gamma=0.01, kernel=rbf .....................................\n",
      "[CV] ...................... C=2, gamma=0.01, kernel=rbf, total=   0.0s\n",
      "[CV] C=2, gamma=0.01, kernel=rbf .....................................\n",
      "[CV] ...................... C=2, gamma=0.01, kernel=rbf, total=   0.0s\n",
      "[CV] C=2, gamma=0.01, kernel=rbf .....................................\n",
      "[CV] ...................... C=2, gamma=0.01, kernel=rbf, total=   0.0s\n",
      "[CV] C=2, gamma=0.01, kernel=rbf .....................................\n",
      "[CV] ...................... C=2, gamma=0.01, kernel=rbf, total=   0.0s\n",
      "[CV] C=2, gamma=0.01, kernel=rbf .....................................\n",
      "[CV] ...................... C=2, gamma=0.01, kernel=rbf, total=   0.0s\n"
     ]
    },
    {
     "name": "stderr",
     "output_type": "stream",
     "text": [
      "[Parallel(n_jobs=-1)]: Done  20 out of  20 | elapsed:    0.1s finished\n"
     ]
    },
    {
     "data": {
      "text/plain": [
       "GridSearchCV(cv=5, error_score='raise',\n",
       "       estimator=SVC(C=1.0, cache_size=200, class_weight=None, coef0=0.0,\n",
       "  decision_function_shape=None, degree=3, gamma='auto', kernel='rbf',\n",
       "  max_iter=-1, probability=False, random_state=None, shrinking=True,\n",
       "  tol=0.001, verbose=False),\n",
       "       fit_params={}, iid=True, n_jobs=-1,\n",
       "       param_grid=[{'kernel': ['linear'], 'C': [1, 10]}, {'kernel': ['rbf'], 'gamma': [0.1, 0.01], 'C': [2]}],\n",
       "       pre_dispatch='2*n_jobs', refit=True, return_train_score=True,\n",
       "       scoring=None, verbose=2)"
      ]
     },
     "execution_count": 42,
     "metadata": {},
     "output_type": "execute_result"
    }
   ],
   "source": [
    "from sklearn import svm\n",
    "# Standardize the data\n",
    "iris = datasets.load_iris()\n",
    "scaler = preprocessing.StandardScaler(copy=True, with_mean=True, with_std=True)\n",
    "X = scaler.fit_transform(iris.data)\n",
    "# Keep out the Test Set\n",
    "X_tr, X_test, y_tr, y_test = model_selection.train_test_split(X, iris.target,\n",
    "                                                              test_size=0.30, random_state=0)\n",
    "# Define the Search Grid\n",
    "param_grid = [{'C': [1, 10], 'kernel': ['linear']},\n",
    "              {'C': [2], 'gamma': [0.1, 0.01], 'kernel': ['rbf']}]\n",
    "# GridSearchCV\n",
    "clf = model_selection.GridSearchCV(svm.SVC(), param_grid, cv=5, n_jobs=-1, verbose=2)\n",
    "clf.fit(X_tr, y_tr)"
   ]
  },
  {
   "cell_type": "code",
   "execution_count": 43,
   "metadata": {
    "collapsed": false
   },
   "outputs": [
    {
     "name": "stdout",
     "output_type": "stream",
     "text": [
      "mean: 0.943, std: 0.0348, params: {'kernel': 'linear', 'C': 1}\n",
      "mean: 0.933, std: 0.0469, params: {'kernel': 'linear', 'C': 10}\n",
      "mean: 0.943, std: 0.0348, params: {'kernel': 'rbf', 'gamma': 0.1, 'C': 2}\n",
      "mean: 0.895, std: 0.0981, params: {'kernel': 'rbf', 'gamma': 0.01, 'C': 2}\n"
     ]
    }
   ],
   "source": [
    "for a,b,c in zip(clf.cv_results_['mean_test_score'], \n",
    "                 clf.cv_results_['std_test_score'], \n",
    "                 clf.cv_results_['params']):\n",
    "    print('mean: {:.3f}, std: {:.4f}, params: {}'.format(a,b,c))"
   ]
  },
  {
   "cell_type": "markdown",
   "metadata": {},
   "source": [
    "Then we can check the accuracy on the **Test Set**:"
   ]
  },
  {
   "cell_type": "code",
   "execution_count": 44,
   "metadata": {
    "collapsed": false
   },
   "outputs": [
    {
     "name": "stdout",
     "output_type": "stream",
     "text": [
      "Best estimator:  SVC(C=1, cache_size=200, class_weight=None, coef0=0.0,\n",
      "  decision_function_shape=None, degree=3, gamma='auto', kernel='linear',\n",
      "  max_iter=-1, probability=False, random_state=None, shrinking=True,\n",
      "  tol=0.001, verbose=False)\n",
      "Accuracy: 0.91 (+/- 0.22)\n"
     ]
    }
   ],
   "source": [
    "best = clf.best_estimator_\n",
    "print('Best estimator: ', best)\n",
    "scores = model_selection.cross_val_score(best, X_test, y_test, cv=10)\n",
    "print(\"Accuracy: %0.2f (+/- %0.2f)\" % (scores.mean(), scores.std() * 2))"
   ]
  },
  {
   "cell_type": "markdown",
   "metadata": {},
   "source": [
    "Different `score` metrics can be used while doing `GridSearchCV`:"
   ]
  },
  {
   "cell_type": "code",
   "execution_count": 45,
   "metadata": {
    "collapsed": false
   },
   "outputs": [
    {
     "name": "stdout",
     "output_type": "stream",
     "text": [
      "PRECISION: fraction of retrieved instances that are relevant\n",
      "RECALL:    fraction of relevant instances that are retrieved\n",
      "\n",
      "Tuning hyper-parameters for: precision_weighted\n",
      "\n",
      "Best parameters set found on development (training) set:\n",
      "SVC(C=0.5, cache_size=200, class_weight=None, coef0=0.0,\n",
      "  decision_function_shape=None, degree=3, gamma='auto', kernel='linear',\n",
      "  max_iter=-1, probability=False, random_state=None, shrinking=True,\n",
      "  tol=0.001, verbose=False)\n",
      "\n",
      "Grid Scores on development set:\n",
      "mean: 0.920, std: 0.0815, params: {'kernel': 'linear', 'C': 0.125}\n",
      "mean: 0.953, std: 0.0648, params: {'kernel': 'linear', 'C': 0.25}\n",
      "mean: 0.987, std: 0.0267, params: {'kernel': 'linear', 'C': 0.5}\n",
      "mean: 0.974, std: 0.0340, params: {'kernel': 'linear', 'C': 1.0}\n",
      "mean: 0.941, std: 0.0617, params: {'kernel': 'rbf', 'gamma': 0.1, 'C': 1}\n",
      "mean: 0.974, std: 0.0340, params: {'kernel': 'rbf', 'gamma': 0.1, 'C': 10}\n",
      "\n",
      "Detailed classification report (on Testing Set)\n",
      "             precision    recall  f1-score   support\n",
      "\n",
      "          0       1.00      1.00      1.00        26\n",
      "          1       0.89      1.00      0.94        33\n",
      "          2       1.00      0.87      0.93        31\n",
      "\n",
      "avg / total       0.96      0.96      0.96        90\n",
      "\n",
      "-----------------------------------------------------\n",
      "\n",
      "Tuning hyper-parameters for: recall_weighted\n",
      "\n",
      "Best parameters set found on development (training) set:\n",
      "SVC(C=0.5, cache_size=200, class_weight=None, coef0=0.0,\n",
      "  decision_function_shape=None, degree=3, gamma='auto', kernel='linear',\n",
      "  max_iter=-1, probability=False, random_state=None, shrinking=True,\n",
      "  tol=0.001, verbose=False)\n",
      "\n",
      "Grid Scores on development set:\n",
      "mean: 0.917, std: 0.0810, params: {'kernel': 'linear', 'C': 0.125}\n",
      "mean: 0.950, std: 0.0659, params: {'kernel': 'linear', 'C': 0.25}\n",
      "mean: 0.983, std: 0.0333, params: {'kernel': 'linear', 'C': 0.5}\n",
      "mean: 0.967, std: 0.0441, params: {'kernel': 'linear', 'C': 1.0}\n",
      "mean: 0.933, std: 0.0637, params: {'kernel': 'rbf', 'gamma': 0.1, 'C': 1}\n",
      "mean: 0.967, std: 0.0441, params: {'kernel': 'rbf', 'gamma': 0.1, 'C': 10}\n",
      "\n",
      "Detailed classification report (on Testing Set)\n",
      "             precision    recall  f1-score   support\n",
      "\n",
      "          0       1.00      1.00      1.00        26\n",
      "          1       0.89      1.00      0.94        33\n",
      "          2       1.00      0.87      0.93        31\n",
      "\n",
      "avg / total       0.96      0.96      0.96        90\n",
      "\n",
      "-----------------------------------------------------\n"
     ]
    }
   ],
   "source": [
    "X_tr, X_test, y_tr, y_test = model_selection.train_test_split(X, \n",
    "                                                              iris.target,\n",
    "                                                              test_size=0.60, \n",
    "                                                              random_state=0)\n",
    "scores = ['precision_weighted', 'recall_weighted']\n",
    "param_grid = [{'C': np.logspace(-3,0,4, base=2), 'kernel': ['linear']},\n",
    "              {'C': [1, 10], 'gamma': [0.1], 'kernel': ['rbf']}]\n",
    "print('PRECISION: fraction of retrieved instances that are relevant')\n",
    "print('RECALL:    fraction of relevant instances that are retrieved')\n",
    "for score in scores:\n",
    "    print('\\nTuning hyper-parameters for: %s' % score)\n",
    "    clf = model_selection.GridSearchCV(svm.SVC(), param_grid, cv=5, scoring=score)\n",
    "    clf.fit(X_tr, y_tr)\n",
    "    print('\\nBest parameters set found on development (training) set:')\n",
    "    print(clf.best_estimator_)\n",
    "    print('\\nGrid Scores on development set:')\n",
    "    for a,b,c in zip(clf.cv_results_['mean_test_score'], \n",
    "                     clf.cv_results_['std_test_score'], \n",
    "                     clf.cv_results_['params']):\n",
    "        print('mean: {:.3f}, std: {:.4f}, params: {}'.format(a,b,c))\n",
    "    print('\\nDetailed classification report (on Testing Set)')\n",
    "    y_true, y_pred = y_test, clf.predict(X_test)\n",
    "    print(metrics.classification_report(y_true, y_pred))\n",
    "    print('-----------------------------------------------------')"
   ]
  },
  {
   "cell_type": "markdown",
   "metadata": {},
   "source": [
    "### 9.2 Randomized Parameter Optimization"
   ]
  },
  {
   "cell_type": "markdown",
   "metadata": {},
   "source": [
    "`RandomizedSearchCV` implements a randomized search over parameters, where each setting is sampled from a distribution over possible parameter values. This has two main benefits:\n",
    "\n",
    "* A budget can be chosen independent of the number of parameters and possible values.\n",
    "* Adding parameters that do not influence the performance does not decrease efficiency.\n",
    "\n",
    "Specifying how parameters should be sampled is done using a dictionary. The number of sampling iterations, is specified using the `n_iter` parameter. For each parameter, either a distribution over possible values or a list of discrete choices (which will be sampled uniformly) can be specified. This is a little example of the many statistical distributions available in `scipy`:"
   ]
  },
  {
   "cell_type": "code",
   "execution_count": 46,
   "metadata": {
    "collapsed": false
   },
   "outputs": [
    {
     "data": {
      "text/html": [
       "\n",
       "\n",
       "    <div class=\"bk-root\">\n",
       "        <div class=\"bk-plotdiv\" id=\"f101c1a2-4e91-4b4a-bc18-11cebcfef940\"></div>\n",
       "    </div>\n",
       "<script type=\"text/javascript\">\n",
       "  \n",
       "  (function(global) {\n",
       "    function now() {\n",
       "      return new Date();\n",
       "    }\n",
       "  \n",
       "    var force = false;\n",
       "  \n",
       "    if (typeof (window._bokeh_onload_callbacks) === \"undefined\" || force === true) {\n",
       "      window._bokeh_onload_callbacks = [];\n",
       "      window._bokeh_is_loading = undefined;\n",
       "    }\n",
       "  \n",
       "  \n",
       "    \n",
       "    if (typeof (window._bokeh_timeout) === \"undefined\" || force === true) {\n",
       "      window._bokeh_timeout = Date.now() + 0;\n",
       "      window._bokeh_failed_load = false;\n",
       "    }\n",
       "  \n",
       "    var NB_LOAD_WARNING = {'data': {'text/html':\n",
       "       \"<div style='background-color: #fdd'>\\n\"+\n",
       "       \"<p>\\n\"+\n",
       "       \"BokehJS does not appear to have successfully loaded. If loading BokehJS from CDN, this \\n\"+\n",
       "       \"may be due to a slow or bad network connection. Possible fixes:\\n\"+\n",
       "       \"</p>\\n\"+\n",
       "       \"<ul>\\n\"+\n",
       "       \"<li>re-rerun `output_notebook()` to attempt to load from CDN again, or</li>\\n\"+\n",
       "       \"<li>use INLINE resources instead, as so:</li>\\n\"+\n",
       "       \"</ul>\\n\"+\n",
       "       \"<code>\\n\"+\n",
       "       \"from bokeh.resources import INLINE\\n\"+\n",
       "       \"output_notebook(resources=INLINE)\\n\"+\n",
       "       \"</code>\\n\"+\n",
       "       \"</div>\"}};\n",
       "  \n",
       "    function display_loaded() {\n",
       "      if (window.Bokeh !== undefined) {\n",
       "        document.getElementById(\"f101c1a2-4e91-4b4a-bc18-11cebcfef940\").textContent = \"BokehJS successfully loaded.\";\n",
       "      } else if (Date.now() < window._bokeh_timeout) {\n",
       "        setTimeout(display_loaded, 100)\n",
       "      }\n",
       "    }\n",
       "  \n",
       "    function run_callbacks() {\n",
       "      window._bokeh_onload_callbacks.forEach(function(callback) { callback() });\n",
       "      delete window._bokeh_onload_callbacks\n",
       "      console.info(\"Bokeh: all callbacks have finished\");\n",
       "    }\n",
       "  \n",
       "    function load_libs(js_urls, callback) {\n",
       "      window._bokeh_onload_callbacks.push(callback);\n",
       "      if (window._bokeh_is_loading > 0) {\n",
       "        console.log(\"Bokeh: BokehJS is being loaded, scheduling callback at\", now());\n",
       "        return null;\n",
       "      }\n",
       "      if (js_urls == null || js_urls.length === 0) {\n",
       "        run_callbacks();\n",
       "        return null;\n",
       "      }\n",
       "      console.log(\"Bokeh: BokehJS not loaded, scheduling load and callback at\", now());\n",
       "      window._bokeh_is_loading = js_urls.length;\n",
       "      for (var i = 0; i < js_urls.length; i++) {\n",
       "        var url = js_urls[i];\n",
       "        var s = document.createElement('script');\n",
       "        s.src = url;\n",
       "        s.async = false;\n",
       "        s.onreadystatechange = s.onload = function() {\n",
       "          window._bokeh_is_loading--;\n",
       "          if (window._bokeh_is_loading === 0) {\n",
       "            console.log(\"Bokeh: all BokehJS libraries loaded\");\n",
       "            run_callbacks()\n",
       "          }\n",
       "        };\n",
       "        s.onerror = function() {\n",
       "          console.warn(\"failed to load library \" + url);\n",
       "        };\n",
       "        console.log(\"Bokeh: injecting script tag for BokehJS library: \", url);\n",
       "        document.getElementsByTagName(\"head\")[0].appendChild(s);\n",
       "      }\n",
       "    };var element = document.getElementById(\"f101c1a2-4e91-4b4a-bc18-11cebcfef940\");\n",
       "    if (element == null) {\n",
       "      console.log(\"Bokeh: ERROR: autoload.js configured with elementid 'f101c1a2-4e91-4b4a-bc18-11cebcfef940' but no matching script tag was found. \")\n",
       "      return false;\n",
       "    }\n",
       "  \n",
       "    var js_urls = [];\n",
       "  \n",
       "    var inline_js = [\n",
       "      function(Bokeh) {\n",
       "        (function() {\n",
       "          var fn = function() {\n",
       "            var docs_json = {\"965e96c3-1036-47c0-bcd6-9d228ed5dd1c\":{\"roots\":{\"references\":[{\"attributes\":{\"data_source\":{\"id\":\"8268dbc0-a08b-4234-912a-940162e8dd9a\",\"type\":\"ColumnDataSource\"},\"glyph\":{\"id\":\"2db3e173-6bb8-4c0a-88cc-313db5369c3e\",\"type\":\"Rect\"},\"hover_glyph\":null,\"nonselection_glyph\":null,\"selection_glyph\":null},\"id\":\"c0f99dfb-fde9-41f7-9118-944f61b973e5\",\"type\":\"GlyphRenderer\"},{\"attributes\":{\"plot\":null,\"text\":null},\"id\":\"0a8b869e-6c8d-48c2-ada3-7ab36cfb6942\",\"type\":\"Title\"},{\"attributes\":{\"callback\":null,\"end\":254.10000000000002},\"id\":\"d6bdb214-cb11-4dcd-97fc-ff8cb2142a9c\",\"type\":\"Range1d\"},{\"attributes\":{\"callback\":null,\"column_names\":[\"height\",\"line_color\",\"color\",\"y\",\"label\",\"x\",\"width\",\"line_alpha\",\"fill_alpha\"],\"data\":{\"chart_index\":[\"(22.006809, 24.006389]\"],\"color\":[\"#f22c40\"],\"fill_alpha\":[0.8],\"height\":[197.0],\"label\":[\"(22.006809, 24.006389]\"],\"line_alpha\":[1.0],\"line_color\":[\"black\"],\"width\":[1.9995804859201378],\"x\":[\"23.006599\"],\"y\":[98.5]}},\"id\":\"7b0b9b2b-3733-48e1-9062-604f3388c0c1\",\"type\":\"ColumnDataSource\"},{\"attributes\":{\"callback\":null,\"column_names\":[\"height\",\"line_color\",\"color\",\"y\",\"label\",\"x\",\"width\",\"line_alpha\",\"fill_alpha\"],\"data\":{\"chart_index\":[\"(72.310975, 74.287956]\"],\"color\":[\"#f22c40\"],\"fill_alpha\":[0.8],\"height\":[287.0],\"label\":[\"(72.310975, 74.287956]\"],\"line_alpha\":[1.0],\"line_color\":[\"black\"],\"width\":[1.9769801650449352],\"x\":[\"73.2994655\"],\"y\":[143.5]}},\"id\":\"fee5cc3d-aa95-450d-9853-0f11a6d81992\",\"type\":\"ColumnDataSource\"},{\"attributes\":{\"fill_alpha\":{\"field\":\"fill_alpha\"},\"fill_color\":{\"field\":\"color\"},\"height\":{\"field\":\"height\",\"units\":\"data\"},\"line_color\":{\"field\":\"line_color\"},\"width\":{\"field\":\"width\",\"units\":\"data\"},\"x\":{\"field\":\"x\"},\"y\":{\"field\":\"y\"}},\"id\":\"6e8b1160-8374-46cf-ac1e-c48e133fb085\",\"type\":\"Rect\"},{\"attributes\":{\"data_source\":{\"id\":\"45eb39dc-d4df-4277-94e3-f1f14658da42\",\"type\":\"ColumnDataSource\"},\"glyph\":{\"id\":\"1b1875c5-d6a9-4385-95af-7c8622d91c06\",\"type\":\"Rect\"},\"hover_glyph\":null,\"nonselection_glyph\":null,\"selection_glyph\":null},\"id\":\"18828b43-21ef-4549-94ee-9bbd653b9070\",\"type\":\"GlyphRenderer\"},{\"attributes\":{\"data_source\":{\"id\":\"b07053a9-6dc0-403a-9853-467d54678fd8\",\"type\":\"ColumnDataSource\"},\"glyph\":{\"id\":\"bbc0299f-bcdc-4f1b-bd92-f171f3e0e207\",\"type\":\"Rect\"},\"hover_glyph\":null,\"nonselection_glyph\":null,\"selection_glyph\":null},\"id\":\"4714fc97-2bbc-4c21-963a-e263f9b38ab8\",\"type\":\"GlyphRenderer\"},{\"attributes\":{\"data_source\":{\"id\":\"d96426e5-dc08-48ea-8f04-4bc15a0700d1\",\"type\":\"ColumnDataSource\"},\"glyph\":{\"id\":\"e3554afa-415a-4976-8e62-6cc90ae9d089\",\"type\":\"Rect\"},\"hover_glyph\":null,\"nonselection_glyph\":null,\"selection_glyph\":null},\"id\":\"e24274f9-ed62-4255-b21e-40803e921873\",\"type\":\"GlyphRenderer\"},{\"attributes\":{\"callback\":null,\"column_names\":[\"height\",\"line_color\",\"color\",\"y\",\"label\",\"x\",\"width\",\"line_alpha\",\"fill_alpha\"],\"data\":{\"chart_index\":[\"(50.564194, 52.541174]\"],\"color\":[\"#f22c40\"],\"fill_alpha\":[0.8],\"height\":[235.0],\"label\":[\"(50.564194, 52.541174]\"],\"line_alpha\":[1.0],\"line_color\":[\"black\"],\"width\":[1.976980165044921],\"x\":[\"51.552684\"],\"y\":[117.5]}},\"id\":\"1dd31aa9-026b-4876-aba1-ea58f5ad4a1f\",\"type\":\"ColumnDataSource\"},{\"attributes\":{\"fill_alpha\":{\"field\":\"fill_alpha\"},\"fill_color\":{\"field\":\"color\"},\"height\":{\"field\":\"height\",\"units\":\"data\"},\"line_color\":{\"field\":\"line_color\"},\"width\":{\"field\":\"width\",\"units\":\"data\"},\"x\":{\"field\":\"x\"},\"y\":{\"field\":\"y\"}},\"id\":\"26734a91-5618-43dd-8538-cc434cc4ff0c\",\"type\":\"Rect\"},{\"attributes\":{\"data_source\":{\"id\":\"a0c959e6-17dc-4886-b3fe-88cd6395c345\",\"type\":\"ColumnDataSource\"},\"glyph\":{\"id\":\"3ff521d4-aaca-4985-a611-aada57369b8c\",\"type\":\"Rect\"},\"hover_glyph\":null,\"nonselection_glyph\":null,\"selection_glyph\":null},\"id\":\"cc0f01a7-4053-4290-a1a4-1f9f739561d3\",\"type\":\"GlyphRenderer\"},{\"attributes\":{\"callback\":null,\"column_names\":[\"height\",\"line_color\",\"color\",\"y\",\"label\",\"x\",\"width\",\"line_alpha\",\"fill_alpha\"],\"data\":{\"chart_index\":[\"(34.004292, 36.003872]\"],\"color\":[\"#f22c40\"],\"fill_alpha\":[0.8],\"height\":[208.0],\"label\":[\"(34.004292, 36.003872]\"],\"line_alpha\":[1.0],\"line_color\":[\"black\"],\"width\":[1.9995804859201343],\"x\":[\"35.004082\"],\"y\":[104.0]}},\"id\":\"054577da-3893-4994-94c9-7fba73a76a5a\",\"type\":\"ColumnDataSource\"},{\"attributes\":{\"data_source\":{\"id\":\"76d1e89e-d0e3-4ec9-875f-eeef0db9b349\",\"type\":\"ColumnDataSource\"},\"glyph\":{\"id\":\"043154d7-a44a-429d-869c-969a13626c15\",\"type\":\"Rect\"},\"hover_glyph\":null,\"nonselection_glyph\":null,\"selection_glyph\":null},\"id\":\"22e09157-1e7e-419e-9c85-13446a9590af\",\"type\":\"GlyphRenderer\"},{\"attributes\":{\"callback\":null,\"column_names\":[\"height\",\"line_color\",\"color\",\"y\",\"label\",\"x\",\"width\",\"line_alpha\",\"fill_alpha\"],\"data\":{\"chart_index\":[\"(111.987931, 113.987511]\"],\"color\":[\"#f22c40\"],\"fill_alpha\":[0.8],\"height\":[205.0],\"label\":[\"(111.987931, 113.987511]\"],\"line_alpha\":[1.0],\"line_color\":[\"black\"],\"width\":[1.9995804859201343],\"x\":[\"112.987721\"],\"y\":[102.5]}},\"id\":\"3f455480-1234-4e37-a296-a85beaf1be48\",\"type\":\"ColumnDataSource\"},{\"attributes\":{\"callback\":null,\"column_names\":[\"height\",\"line_color\",\"color\",\"y\",\"label\",\"x\",\"width\",\"line_alpha\",\"fill_alpha\"],\"data\":{\"chart_index\":[\"(78.952501, 80.603295]\"],\"color\":[\"#f22c40\"],\"fill_alpha\":[0.8],\"height\":[1.0],\"label\":[\"(78.952501, 80.603295]\"],\"line_alpha\":[1.0],\"line_color\":[\"black\"],\"width\":[1.650793957214745],\"x\":[\"79.777898\"],\"y\":[0.5]}},\"id\":\"947df1ef-278f-4a2d-bef4-ae1e373a6031\",\"type\":\"ColumnDataSource\"},{\"attributes\":{\"plot\":{\"id\":\"9129a667-4e61-4c45-8c2b-bebd7acb11a8\",\"subtype\":\"Chart\",\"type\":\"Plot\"}},\"id\":\"2b09c321-9a54-405b-a88e-d7f7849692ce\",\"type\":\"SaveTool\"},{\"attributes\":{\"data_source\":{\"id\":\"fe284a1d-4683-49c7-8419-8fe7cbe4a8e6\",\"type\":\"ColumnDataSource\"},\"glyph\":{\"id\":\"1e9fce59-3c92-496b-993f-26d27ab0a315\",\"type\":\"Rect\"},\"hover_glyph\":null,\"nonselection_glyph\":null,\"selection_glyph\":null},\"id\":\"7c5bab8b-7d50-4aec-9beb-b4841c781aba\",\"type\":\"GlyphRenderer\"},{\"attributes\":{\"fill_alpha\":{\"field\":\"fill_alpha\"},\"fill_color\":{\"field\":\"color\"},\"height\":{\"field\":\"height\",\"units\":\"data\"},\"line_color\":{\"field\":\"line_color\"},\"width\":{\"field\":\"width\",\"units\":\"data\"},\"x\":{\"field\":\"x\"},\"y\":{\"field\":\"y\"}},\"id\":\"5a18bcf8-cccd-468d-8f18-adef2e089495\",\"type\":\"Rect\"},{\"attributes\":{\"fill_alpha\":{\"field\":\"fill_alpha\"},\"fill_color\":{\"field\":\"color\"},\"height\":{\"field\":\"height\",\"units\":\"data\"},\"line_color\":{\"field\":\"line_color\"},\"width\":{\"field\":\"width\",\"units\":\"data\"},\"x\":{\"field\":\"x\"},\"y\":{\"field\":\"y\"}},\"id\":\"043154d7-a44a-429d-869c-969a13626c15\",\"type\":\"Rect\"},{\"attributes\":{\"fill_alpha\":{\"field\":\"fill_alpha\"},\"fill_color\":{\"field\":\"color\"},\"height\":{\"field\":\"height\",\"units\":\"data\"},\"line_color\":{\"field\":\"line_color\"},\"width\":{\"field\":\"width\",\"units\":\"data\"},\"x\":{\"field\":\"x\"},\"y\":{\"field\":\"y\"}},\"id\":\"122a960e-e223-4879-b9c9-14c7431cde3f\",\"type\":\"Rect\"},{\"attributes\":{\"callback\":null,\"column_names\":[\"height\",\"line_color\",\"color\",\"y\",\"label\",\"x\",\"width\",\"line_alpha\",\"fill_alpha\"],\"data\":{\"chart_index\":[\"[20.007228, 22.006809]\"],\"color\":[\"#f22c40\"],\"fill_alpha\":[0.8],\"height\":[213.0],\"label\":[\"[20.007228, 22.006809]\"],\"line_alpha\":[1.0],\"line_color\":[\"black\"],\"width\":[1.9995804859201343],\"x\":[\"21.0070185\"],\"y\":[106.5]}},\"id\":\"daea5e07-4d20-4589-8e5d-7d83cf87a262\",\"type\":\"ColumnDataSource\"},{\"attributes\":{\"fill_alpha\":{\"field\":\"fill_alpha\"},\"fill_color\":{\"field\":\"color\"},\"height\":{\"field\":\"height\",\"units\":\"data\"},\"line_color\":{\"field\":\"line_color\"},\"width\":{\"field\":\"width\",\"units\":\"data\"},\"x\":{\"field\":\"x\"},\"y\":{\"field\":\"y\"}},\"id\":\"78cd08fb-43ef-4049-b9ef-f9f7bdfade52\",\"type\":\"Rect\"},{\"attributes\":{\"data_source\":{\"id\":\"6af25e76-3d87-4ab0-b49c-2ff0d495aeb2\",\"type\":\"ColumnDataSource\"},\"glyph\":{\"id\":\"59d896a8-2d4f-4500-9b64-ce9b5a235fb9\",\"type\":\"Rect\"},\"hover_glyph\":null,\"nonselection_glyph\":null,\"selection_glyph\":null},\"id\":\"b1634694-056f-4ad3-91f8-03ad7a45e0c3\",\"type\":\"GlyphRenderer\"},{\"attributes\":{\"fill_alpha\":{\"field\":\"fill_alpha\"},\"fill_color\":{\"field\":\"color\"},\"height\":{\"field\":\"height\",\"units\":\"data\"},\"line_color\":{\"field\":\"line_color\"},\"width\":{\"field\":\"width\",\"units\":\"data\"},\"x\":{\"field\":\"x\"},\"y\":{\"field\":\"y\"}},\"id\":\"a4c17e29-f711-4e8d-a479-f23d17dd61f1\",\"type\":\"Rect\"},{\"attributes\":{\"data_source\":{\"id\":\"1dd31aa9-026b-4876-aba1-ea58f5ad4a1f\",\"type\":\"ColumnDataSource\"},\"glyph\":{\"id\":\"0333286c-b93f-4b71-909d-a30d12b2fb3c\",\"type\":\"Rect\"},\"hover_glyph\":null,\"nonselection_glyph\":null,\"selection_glyph\":null},\"id\":\"ca67220a-41a6-4407-91c3-f0c63375ee82\",\"type\":\"GlyphRenderer\"},{\"attributes\":{\"dimension\":1,\"plot\":{\"id\":\"0b2f8ac5-d11b-4931-a14f-4bea83cd8bf4\",\"subtype\":\"Chart\",\"type\":\"Plot\"},\"ticker\":{\"id\":\"603b0b53-b81c-42cd-a0a8-d4d1456bc65c\",\"type\":\"BasicTicker\"}},\"id\":\"a1c74642-9e12-491a-b8da-163f06740a1e\",\"type\":\"Grid\"},{\"attributes\":{\"callback\":null,\"end\":716.1},\"id\":\"aa4bb259-0cc8-488b-857e-95a2e2ecd4ff\",\"type\":\"Range1d\"},{\"attributes\":{\"plot\":{\"id\":\"0b2f8ac5-d11b-4931-a14f-4bea83cd8bf4\",\"subtype\":\"Chart\",\"type\":\"Plot\"}},\"id\":\"5e52448e-29b2-4555-92e5-9fe247223be2\",\"type\":\"HelpTool\"},{\"attributes\":{\"callback\":null,\"column_names\":[\"height\",\"line_color\",\"color\",\"y\",\"label\",\"x\",\"width\",\"line_alpha\",\"fill_alpha\"],\"data\":{\"chart_index\":[\"(14.571537, 16.222331]\"],\"color\":[\"#f22c40\"],\"fill_alpha\":[0.8],\"height\":[29.0],\"label\":[\"(14.571537, 16.222331]\"],\"line_alpha\":[1.0],\"line_color\":[\"black\"],\"width\":[1.650793957214745],\"x\":[\"15.396934\"],\"y\":[14.5]}},\"id\":\"a8d74d02-e796-480d-97a1-253855fc3c16\",\"type\":\"ColumnDataSource\"},{\"attributes\":{\"data_source\":{\"id\":\"584b6f19-4a42-4fd4-9228-077962c89080\",\"type\":\"ColumnDataSource\"},\"glyph\":{\"id\":\"dbac5fda-571c-4ae5-ae4c-3810a622290a\",\"type\":\"Rect\"},\"hover_glyph\":null,\"nonselection_glyph\":null,\"selection_glyph\":null},\"id\":\"4d2f8576-fe0d-471e-bebb-bd48ca7bd32b\",\"type\":\"GlyphRenderer\"},{\"attributes\":{\"callback\":null,\"column_names\":[\"height\",\"line_color\",\"color\",\"y\",\"label\",\"x\",\"width\",\"line_alpha\",\"fill_alpha\"],\"data\":{\"chart_index\":[\"(827.403973, 845.390913]\"],\"color\":[\"#f22c40\"],\"fill_alpha\":[0.8],\"height\":[1.0],\"label\":[\"(827.403973, 845.390913]\"],\"line_alpha\":[1.0],\"line_color\":[\"black\"],\"width\":[17.986940433955965],\"x\":[\"836.397443\"],\"y\":[0.5]}},\"id\":\"9a85c5d5-70b1-407a-acb8-bbc9de8dbd86\",\"type\":\"ColumnDataSource\"},{\"attributes\":{\"callback\":null,\"column_names\":[\"height\",\"line_color\",\"color\",\"y\",\"label\",\"x\",\"width\",\"line_alpha\",\"fill_alpha\"],\"data\":{\"chart_index\":[\"(36.031858, 37.682652]\"],\"color\":[\"#f22c40\"],\"fill_alpha\":[0.8],\"height\":[616.0],\"label\":[\"(36.031858, 37.682652]\"],\"line_alpha\":[1.0],\"line_color\":[\"black\"],\"width\":[1.650793957214745],\"x\":[\"36.857254999999995\"],\"y\":[308.0]}},\"id\":\"d23a895b-53dc-40f7-8ca4-761966b32812\",\"type\":\"ColumnDataSource\"},{\"attributes\":{\"axis_label\":\"Count( A )\",\"formatter\":{\"id\":\"2ec7ba26-4b7b-4409-bf1e-b426ecf0ade2\",\"type\":\"BasicTickFormatter\"},\"plot\":{\"id\":\"9129a667-4e61-4c45-8c2b-bebd7acb11a8\",\"subtype\":\"Chart\",\"type\":\"Plot\"},\"ticker\":{\"id\":\"27d1b5f5-4f8f-4a0b-89da-8292e5de3ece\",\"type\":\"BasicTicker\"}},\"id\":\"6abb8704-d050-44e2-8396-12f9a6c80aa6\",\"type\":\"LinearAxis\"},{\"attributes\":{\"data_source\":{\"id\":\"47c34c38-8cfb-46c5-bf16-ffb8de76830a\",\"type\":\"ColumnDataSource\"},\"glyph\":{\"id\":\"3fa2402b-bf4c-4bbb-946f-038bcc454cd8\",\"type\":\"Rect\"},\"hover_glyph\":null,\"nonselection_glyph\":null,\"selection_glyph\":null},\"id\":\"c810c65b-1577-4a17-a744-9bb5f15a6197\",\"type\":\"GlyphRenderer\"},{\"attributes\":{\"dimension\":1,\"plot\":{\"id\":\"9129a667-4e61-4c45-8c2b-bebd7acb11a8\",\"subtype\":\"Chart\",\"type\":\"Plot\"},\"ticker\":{\"id\":\"27d1b5f5-4f8f-4a0b-89da-8292e5de3ece\",\"type\":\"BasicTicker\"}},\"id\":\"de6a1bbf-19f4-47c9-a5ae-ee4fd6788333\",\"type\":\"Grid\"},{\"attributes\":{\"data_source\":{\"id\":\"c12cd00b-2cdd-4453-a0c8-672c47f378ca\",\"type\":\"ColumnDataSource\"},\"glyph\":{\"id\":\"69c33155-f95a-4129-99dc-68c202d74b25\",\"type\":\"Rect\"},\"hover_glyph\":null,\"nonselection_glyph\":null,\"selection_glyph\":null},\"id\":\"2a05f647-b109-4bc7-b2a4-b54aa5705607\",\"type\":\"GlyphRenderer\"},{\"attributes\":{\"data_source\":{\"id\":\"58c1edb8-5fc6-44a0-94e5-f32685e4758f\",\"type\":\"ColumnDataSource\"},\"glyph\":{\"id\":\"d4373f87-6ea1-4c61-8331-1084db703e7f\",\"type\":\"Rect\"},\"hover_glyph\":null,\"nonselection_glyph\":null,\"selection_glyph\":null},\"id\":\"21ee1377-0701-44bc-acf7-0de3bb6c8e59\",\"type\":\"GlyphRenderer\"},{\"attributes\":{\"callback\":null,\"column_names\":[\"height\",\"line_color\",\"color\",\"y\",\"label\",\"x\",\"width\",\"line_alpha\",\"fill_alpha\"],\"data\":{\"chart_index\":[\"(73.995901, 75.995482]\"],\"color\":[\"#f22c40\"],\"fill_alpha\":[0.8],\"height\":[204.0],\"label\":[\"(73.995901, 75.995482]\"],\"line_alpha\":[1.0],\"line_color\":[\"black\"],\"width\":[1.9995804859201343],\"x\":[\"74.99569149999999\"],\"y\":[102.0]}},\"id\":\"3189e594-a921-4d09-bf24-e2f4d378bcb7\",\"type\":\"ColumnDataSource\"},{\"attributes\":{\"data_source\":{\"id\":\"ad3bd613-ed83-4f28-8b51-a0b469474561\",\"type\":\"ColumnDataSource\"},\"glyph\":{\"id\":\"08724ae2-c4f7-4e5f-8e5c-37badf10fbe5\",\"type\":\"Rect\"},\"hover_glyph\":null,\"nonselection_glyph\":null,\"selection_glyph\":null},\"id\":\"214becdf-492f-4812-91e0-191e232774c8\",\"type\":\"GlyphRenderer\"},{\"attributes\":{\"fill_alpha\":{\"field\":\"fill_alpha\"},\"fill_color\":{\"field\":\"color\"},\"height\":{\"field\":\"height\",\"units\":\"data\"},\"line_color\":{\"field\":\"line_color\"},\"width\":{\"field\":\"width\",\"units\":\"data\"},\"x\":{\"field\":\"x\"},\"y\":{\"field\":\"y\"}},\"id\":\"a6232c51-6367-4f71-a12b-188959eb4dfd\",\"type\":\"Rect\"},{\"attributes\":{\"data_source\":{\"id\":\"3275444e-30f1-44e7-a28d-4afd1f313d3c\",\"type\":\"ColumnDataSource\"},\"glyph\":{\"id\":\"1e6aec17-3910-4b57-ba3b-b4d7eb5b9fbb\",\"type\":\"Rect\"},\"hover_glyph\":null,\"nonselection_glyph\":null,\"selection_glyph\":null},\"id\":\"502740bf-165f-4933-8997-606b8bdf5780\",\"type\":\"GlyphRenderer\"},{\"attributes\":{},\"id\":\"4ef90966-e09c-4de7-b36e-38074f83d547\",\"type\":\"ToolEvents\"},{\"attributes\":{\"callback\":null,\"column_names\":[\"height\",\"line_color\",\"color\",\"y\",\"label\",\"x\",\"width\",\"line_alpha\",\"fill_alpha\"],\"data\":{\"chart_index\":[\"(719.482330, 737.469271]\"],\"color\":[\"#f22c40\"],\"fill_alpha\":[0.8],\"height\":[0.0],\"label\":[\"(719.482330, 737.469271]\"],\"line_alpha\":[1.0],\"line_color\":[\"black\"],\"width\":[17.98694043395585],\"x\":[\"728.4758005000001\"],\"y\":[0.0]}},\"id\":\"c65afd4b-91de-48e4-aae3-6312ad072a02\",\"type\":\"ColumnDataSource\"},{\"attributes\":{\"callback\":null,\"column_names\":[\"height\",\"line_color\",\"color\",\"y\",\"label\",\"x\",\"width\",\"line_alpha\",\"fill_alpha\"],\"data\":{\"chart_index\":[\"(737.469271, 755.456211]\"],\"color\":[\"#f22c40\"],\"fill_alpha\":[0.8],\"height\":[2.0],\"label\":[\"(737.469271, 755.456211]\"],\"line_alpha\":[1.0],\"line_color\":[\"black\"],\"width\":[17.98694043395585],\"x\":[\"746.462741\"],\"y\":[1.0]}},\"id\":\"0a57255a-85a0-4b37-a148-d4bb56549852\",\"type\":\"ColumnDataSource\"},{\"attributes\":{\"fill_alpha\":{\"field\":\"fill_alpha\"},\"fill_color\":{\"field\":\"color\"},\"height\":{\"field\":\"height\",\"units\":\"data\"},\"line_color\":{\"field\":\"line_color\"},\"width\":{\"field\":\"width\",\"units\":\"data\"},\"x\":{\"field\":\"x\"},\"y\":{\"field\":\"y\"}},\"id\":\"03701449-a142-4331-a345-5c1438ee9fb3\",\"type\":\"Rect\"},{\"attributes\":{\"axis_label\":\"Count( A )\",\"formatter\":{\"id\":\"c173d333-de77-493c-a983-505c2e1b6fde\",\"type\":\"BasicTickFormatter\"},\"plot\":{\"id\":\"d4a8ccfb-05b2-4bd8-997e-90be3fcf5ef4\",\"subtype\":\"Chart\",\"type\":\"Plot\"},\"ticker\":{\"id\":\"3110ad42-1959-4fac-890d-b8e041803c8b\",\"type\":\"BasicTicker\"}},\"id\":\"c24cb514-221a-426a-bec4-be962703565c\",\"type\":\"LinearAxis\"},{\"attributes\":{\"callback\":null,\"column_names\":[\"height\",\"line_color\",\"color\",\"y\",\"label\",\"x\",\"width\",\"line_alpha\",\"fill_alpha\"],\"data\":{\"chart_index\":[\"(1.365185, 3.015979]\"],\"color\":[\"#f22c40\"],\"fill_alpha\":[0.8],\"height\":[1.0],\"label\":[\"(1.365185, 3.015979]\"],\"line_alpha\":[1.0],\"line_color\":[\"black\"],\"width\":[1.650793957214744],\"x\":[\"2.190582\"],\"y\":[0.5]}},\"id\":\"7a9c7e6f-92c4-42f5-9c9d-3650f53b4be9\",\"type\":\"ColumnDataSource\"},{\"attributes\":{\"data_source\":{\"id\":\"a67924d4-8e1c-44e9-9be9-d8495dab8d6a\",\"type\":\"ColumnDataSource\"},\"glyph\":{\"id\":\"d6772d3f-af55-4904-80c1-f38f394184e4\",\"type\":\"Rect\"},\"hover_glyph\":null,\"nonselection_glyph\":null,\"selection_glyph\":null},\"id\":\"98d317ce-77bc-4dee-bbdb-cd495da31cbb\",\"type\":\"GlyphRenderer\"},{\"attributes\":{\"data_source\":{\"id\":\"d2d11013-dd2f-45bd-905c-0ee1b35eb2f7\",\"type\":\"ColumnDataSource\"},\"glyph\":{\"id\":\"92c86a6d-4400-467e-8e6a-ff53506b3ec4\",\"type\":\"Rect\"},\"hover_glyph\":null,\"nonselection_glyph\":null,\"selection_glyph\":null},\"id\":\"712de294-34a4-430a-90d2-6a46c724046a\",\"type\":\"GlyphRenderer\"},{\"attributes\":{\"callback\":null,\"column_names\":[\"height\",\"line_color\",\"color\",\"y\",\"label\",\"x\",\"width\",\"line_alpha\",\"fill_alpha\"],\"data\":{\"chart_index\":[\"(77.995062, 79.994643]\"],\"color\":[\"#f22c40\"],\"fill_alpha\":[0.8],\"height\":[223.0],\"label\":[\"(77.995062, 79.994643]\"],\"line_alpha\":[1.0],\"line_color\":[\"black\"],\"width\":[1.9995804859201343],\"x\":[\"78.99485250000001\"],\"y\":[111.5]}},\"id\":\"d96426e5-dc08-48ea-8f04-4bc15a0700d1\",\"type\":\"ColumnDataSource\"},{\"attributes\":{\"callback\":null,\"column_names\":[\"height\",\"line_color\",\"color\",\"y\",\"label\",\"x\",\"width\",\"line_alpha\",\"fill_alpha\"],\"data\":{\"chart_index\":[\"(179.874117, 197.861058]\"],\"color\":[\"#f22c40\"],\"fill_alpha\":[0.8],\"height\":[269.0],\"label\":[\"(179.874117, 197.861058]\"],\"line_alpha\":[1.0],\"line_color\":[\"black\"],\"width\":[17.98694043395588],\"x\":[\"188.8675875\"],\"y\":[134.5]}},\"id\":\"90ed7290-eb7b-4542-b533-35cb17e99459\",\"type\":\"ColumnDataSource\"},{\"attributes\":{\"callback\":null,\"column_names\":[\"height\",\"line_color\",\"color\",\"y\",\"label\",\"x\",\"width\",\"line_alpha\",\"fill_alpha\"],\"data\":{\"chart_index\":[\"(6.317567, 7.968361]\"],\"color\":[\"#f22c40\"],\"fill_alpha\":[0.8],\"height\":[4.0],\"label\":[\"(6.317567, 7.968361]\"],\"line_alpha\":[1.0],\"line_color\":[\"black\"],\"width\":[1.650793957214745],\"x\":[\"7.142964\"],\"y\":[2.0]}},\"id\":\"956284a9-f4de-4e1c-928c-75ec14db699c\",\"type\":\"ColumnDataSource\"},{\"attributes\":{\"fill_alpha\":{\"field\":\"fill_alpha\"},\"fill_color\":{\"field\":\"color\"},\"height\":{\"field\":\"height\",\"units\":\"data\"},\"line_color\":{\"field\":\"line_color\"},\"width\":{\"field\":\"width\",\"units\":\"data\"},\"x\":{\"field\":\"x\"},\"y\":{\"field\":\"y\"}},\"id\":\"05648487-b56e-4ea9-907e-bf1642293494\",\"type\":\"Rect\"},{\"attributes\":{\"data_source\":{\"id\":\"ee258214-3430-4b3f-ba12-0cc595f8296c\",\"type\":\"ColumnDataSource\"},\"glyph\":{\"id\":\"102b9db1-4311-489b-a57a-24237cd67b4e\",\"type\":\"Rect\"},\"hover_glyph\":null,\"nonselection_glyph\":null,\"selection_glyph\":null},\"id\":\"2c7a7a6d-6168-4782-a35c-37cb3e50af60\",\"type\":\"GlyphRenderer\"},{\"attributes\":{\"fill_alpha\":{\"field\":\"fill_alpha\"},\"fill_color\":{\"field\":\"color\"},\"height\":{\"field\":\"height\",\"units\":\"data\"},\"line_color\":{\"field\":\"line_color\"},\"width\":{\"field\":\"width\",\"units\":\"data\"},\"x\":{\"field\":\"x\"},\"y\":{\"field\":\"y\"}},\"id\":\"bbc0299f-bcdc-4f1b-bd92-f171f3e0e207\",\"type\":\"Rect\"},{\"attributes\":{\"fill_alpha\":{\"field\":\"fill_alpha\"},\"fill_color\":{\"field\":\"color\"},\"height\":{\"field\":\"height\",\"units\":\"data\"},\"line_color\":{\"field\":\"line_color\"},\"width\":{\"field\":\"width\",\"units\":\"data\"},\"x\":{\"field\":\"x\"},\"y\":{\"field\":\"y\"}},\"id\":\"9bc8b290-32a5-47e7-b942-b831abaf668f\",\"type\":\"Rect\"},{\"attributes\":{\"data_source\":{\"id\":\"b4ec2265-d0cb-4515-968b-135734ae9db4\",\"type\":\"ColumnDataSource\"},\"glyph\":{\"id\":\"55c9dc69-7527-4819-905e-2bde470444b0\",\"type\":\"Rect\"},\"hover_glyph\":null,\"nonselection_glyph\":null,\"selection_glyph\":null},\"id\":\"71060147-c512-4ddf-a405-8301862e3bb7\",\"type\":\"GlyphRenderer\"},{\"attributes\":{\"data_source\":{\"id\":\"6f2dd8ad-8d88-4a15-95a5-bafdace96669\",\"type\":\"ColumnDataSource\"},\"glyph\":{\"id\":\"07975514-7868-4901-821c-c310d51c96d4\",\"type\":\"Rect\"},\"hover_glyph\":null,\"nonselection_glyph\":null,\"selection_glyph\":null},\"id\":\"dd06bbe4-aa8d-48d4-b5bf-c7500e7fe262\",\"type\":\"GlyphRenderer\"},{\"attributes\":{\"data_source\":{\"id\":\"08ded4b5-0c8b-49eb-acb8-dff3f21b4a7d\",\"type\":\"ColumnDataSource\"},\"glyph\":{\"id\":\"62a0c1f1-1678-446a-a235-7bb57686c2c8\",\"type\":\"Rect\"},\"hover_glyph\":null,\"nonselection_glyph\":null,\"selection_glyph\":null},\"id\":\"444a7dd6-7fea-4443-84ea-81504aa682ea\",\"type\":\"GlyphRenderer\"},{\"attributes\":{\"callback\":null,\"column_names\":[\"height\",\"line_color\",\"color\",\"y\",\"label\",\"x\",\"width\",\"line_alpha\",\"fill_alpha\"],\"data\":{\"chart_index\":[\"(28.005550, 30.005131]\"],\"color\":[\"#f22c40\"],\"fill_alpha\":[0.8],\"height\":[220.0],\"label\":[\"(28.005550, 30.005131]\"],\"line_alpha\":[1.0],\"line_color\":[\"black\"],\"width\":[1.9995804859201378],\"x\":[\"29.0053405\"],\"y\":[110.0]}},\"id\":\"930d355c-9d5e-45fc-a6ed-06ca827edf16\",\"type\":\"ColumnDataSource\"},{\"attributes\":{\"data_source\":{\"id\":\"08fec7a6-b75e-4140-92e1-dc5eb2f5bdc7\",\"type\":\"ColumnDataSource\"},\"glyph\":{\"id\":\"450d713f-9ba9-4038-92b6-f7e31c51b49e\",\"type\":\"Rect\"},\"hover_glyph\":null,\"nonselection_glyph\":null,\"selection_glyph\":null},\"id\":\"50a1c9ed-937f-4c5b-8693-2071561b56ca\",\"type\":\"GlyphRenderer\"},{\"attributes\":{\"fill_alpha\":{\"field\":\"fill_alpha\"},\"fill_color\":{\"field\":\"color\"},\"height\":{\"field\":\"height\",\"units\":\"data\"},\"line_color\":{\"field\":\"line_color\"},\"width\":{\"field\":\"width\",\"units\":\"data\"},\"x\":{\"field\":\"x\"},\"y\":{\"field\":\"y\"}},\"id\":\"e6433931-c63d-4748-9aa9-9accb5d95f53\",\"type\":\"Rect\"},{\"attributes\":{\"callback\":null,\"column_names\":[\"height\",\"line_color\",\"color\",\"y\",\"label\",\"x\",\"width\",\"line_alpha\",\"fill_alpha\"],\"data\":{\"chart_index\":[\"(683.508450, 701.495390]\"],\"color\":[\"#f22c40\"],\"fill_alpha\":[0.8],\"height\":[1.0],\"label\":[\"(683.508450, 701.495390]\"],\"line_alpha\":[1.0],\"line_color\":[\"black\"],\"width\":[17.98694043395585],\"x\":[\"692.50192\"],\"y\":[0.5]}},\"id\":\"30b810eb-918d-42b1-a037-e550d2e2d483\",\"type\":\"ColumnDataSource\"},{\"attributes\":{\"data_source\":{\"id\":\"09f41158-aa70-4c5e-9c1c-8bcea6d3fef6\",\"type\":\"ColumnDataSource\"},\"glyph\":{\"id\":\"260322ce-d9c7-4205-9ffc-34f17262070d\",\"type\":\"Rect\"},\"hover_glyph\":null,\"nonselection_glyph\":null,\"selection_glyph\":null},\"id\":\"55dccdbf-6b4c-4ba3-80a8-21c6d8819964\",\"type\":\"GlyphRenderer\"},{\"attributes\":{\"fill_alpha\":{\"field\":\"fill_alpha\"},\"fill_color\":{\"field\":\"color\"},\"height\":{\"field\":\"height\",\"units\":\"data\"},\"line_color\":{\"field\":\"line_color\"},\"width\":{\"field\":\"width\",\"units\":\"data\"},\"x\":{\"field\":\"x\"},\"y\":{\"field\":\"y\"}},\"id\":\"df118eac-66f0-4014-83fa-4c082017eae0\",\"type\":\"Rect\"},{\"attributes\":{\"fill_alpha\":{\"field\":\"fill_alpha\"},\"fill_color\":{\"field\":\"color\"},\"height\":{\"field\":\"height\",\"units\":\"data\"},\"line_color\":{\"field\":\"line_color\"},\"width\":{\"field\":\"width\",\"units\":\"data\"},\"x\":{\"field\":\"x\"},\"y\":{\"field\":\"y\"}},\"id\":\"1843040f-23b9-480c-a3ca-1bea24b6e38a\",\"type\":\"Rect\"},{\"attributes\":{\"plot\":{\"id\":\"d4a8ccfb-05b2-4bd8-997e-90be3fcf5ef4\",\"subtype\":\"Chart\",\"type\":\"Plot\"}},\"id\":\"ae395cbf-2a8a-4c30-a4d5-9721732642e1\",\"type\":\"PanTool\"},{\"attributes\":{\"fill_alpha\":{\"field\":\"fill_alpha\"},\"fill_color\":{\"field\":\"color\"},\"height\":{\"field\":\"height\",\"units\":\"data\"},\"line_color\":{\"field\":\"line_color\"},\"width\":{\"field\":\"width\",\"units\":\"data\"},\"x\":{\"field\":\"x\"},\"y\":{\"field\":\"y\"}},\"id\":\"d1553851-01ea-444d-8b82-25bb3aa5ded7\",\"type\":\"Rect\"},{\"attributes\":{\"callback\":null,\"column_names\":[\"height\",\"line_color\",\"color\",\"y\",\"label\",\"x\",\"width\",\"line_alpha\",\"fill_alpha\"],\"data\":{\"chart_index\":[\"(42.002614, 44.002194]\"],\"color\":[\"#f22c40\"],\"fill_alpha\":[0.8],\"height\":[216.0],\"label\":[\"(42.002614, 44.002194]\"],\"line_alpha\":[1.0],\"line_color\":[\"black\"],\"width\":[1.9995804859201343],\"x\":[\"43.002404\"],\"y\":[108.0]}},\"id\":\"874bd1ae-c63a-4069-82e1-091a79dcab1f\",\"type\":\"ColumnDataSource\"},{\"attributes\":{\"callback\":null,\"column_names\":[\"height\",\"line_color\",\"color\",\"y\",\"label\",\"x\",\"width\",\"line_alpha\",\"fill_alpha\"],\"data\":{\"chart_index\":[\"(88.126817, 90.103797]\"],\"color\":[\"#f22c40\"],\"fill_alpha\":[0.8],\"height\":[240.0],\"label\":[\"(88.126817, 90.103797]\"],\"line_alpha\":[1.0],\"line_color\":[\"black\"],\"width\":[1.976980165044921],\"x\":[\"89.115307\"],\"y\":[120.0]}},\"id\":\"950f70df-644f-416f-accc-a05693495af4\",\"type\":\"ColumnDataSource\"},{\"attributes\":{\"overlay\":{\"id\":\"7b796b0f-f5d1-4b8b-9762-80aad40ef377\",\"type\":\"BoxAnnotation\"},\"plot\":{\"id\":\"d4a8ccfb-05b2-4bd8-997e-90be3fcf5ef4\",\"subtype\":\"Chart\",\"type\":\"Plot\"}},\"id\":\"1a9e53ca-33e6-446a-be68-1cb1575f9da9\",\"type\":\"BoxZoomTool\"},{\"attributes\":{\"callback\":null,\"column_names\":[\"height\",\"line_color\",\"color\",\"y\",\"label\",\"x\",\"width\",\"line_alpha\",\"fill_alpha\"],\"data\":{\"chart_index\":[\"(37.682652, 39.333446]\"],\"color\":[\"#f22c40\"],\"fill_alpha\":[0.8],\"height\":[641.0],\"label\":[\"(37.682652, 39.333446]\"],\"line_alpha\":[1.0],\"line_color\":[\"black\"],\"width\":[1.6507939572147379],\"x\":[\"38.508049\"],\"y\":[320.5]}},\"id\":\"2381e3e3-186a-45a1-ba18-a738b7163be2\",\"type\":\"ColumnDataSource\"},{\"attributes\":{\"plot\":{\"id\":\"5a86ce13-08ff-4742-a236-b5d321602846\",\"subtype\":\"Chart\",\"type\":\"Plot\"}},\"id\":\"81f36cdb-026a-4bb5-ab7e-288aa0386dce\",\"type\":\"SaveTool\"},{\"attributes\":{\"data_source\":{\"id\":\"39018940-f39d-4792-b6d0-273cc4d5a86b\",\"type\":\"ColumnDataSource\"},\"glyph\":{\"id\":\"5c43bf03-9aeb-4a84-bff2-eb5b155a9aff\",\"type\":\"Rect\"},\"hover_glyph\":null,\"nonselection_glyph\":null,\"selection_glyph\":null},\"id\":\"937ff50d-81b3-4bd3-91ea-32bfaf4ec4e3\",\"type\":\"GlyphRenderer\"},{\"attributes\":{\"callback\":null,\"column_names\":[\"height\",\"line_color\",\"color\",\"y\",\"label\",\"x\",\"width\",\"line_alpha\",\"fill_alpha\"],\"data\":{\"chart_index\":[\"(377.730462, 395.717403]\"],\"color\":[\"#f22c40\"],\"fill_alpha\":[0.8],\"height\":[49.0],\"label\":[\"(377.730462, 395.717403]\"],\"line_alpha\":[1.0],\"line_color\":[\"black\"],\"width\":[17.98694043395591],\"x\":[\"386.7239325\"],\"y\":[24.5]}},\"id\":\"0039e1e0-8a47-460b-a858-b033d77fc12d\",\"type\":\"ColumnDataSource\"},{\"attributes\":{\"callback\":null,\"column_names\":[\"height\",\"line_color\",\"color\",\"y\",\"label\",\"x\",\"width\",\"line_alpha\",\"fill_alpha\"],\"data\":{\"chart_index\":[\"(111.850579, 113.827559]\"],\"color\":[\"#f22c40\"],\"fill_alpha\":[0.8],\"height\":[89.0],\"label\":[\"(111.850579, 113.827559]\"],\"line_alpha\":[1.0],\"line_color\":[\"black\"],\"width\":[1.9769801650449352],\"x\":[\"112.839069\"],\"y\":[44.5]}},\"id\":\"07857d7a-c504-496f-85fb-14a7d8923058\",\"type\":\"ColumnDataSource\"},{\"attributes\":{\"callback\":null,\"column_names\":[\"height\",\"line_color\",\"color\",\"y\",\"label\",\"x\",\"width\",\"line_alpha\",\"fill_alpha\"],\"data\":{\"chart_index\":[\"(395.717403, 413.704343]\"],\"color\":[\"#f22c40\"],\"fill_alpha\":[0.8],\"height\":[31.0],\"label\":[\"(395.717403, 413.704343]\"],\"line_alpha\":[1.0],\"line_color\":[\"black\"],\"width\":[17.98694043395591],\"x\":[\"404.710873\"],\"y\":[15.5]}},\"id\":\"9507cb79-0c90-446e-8ff9-fd375cb20a07\",\"type\":\"ColumnDataSource\"},{\"attributes\":{\"callback\":null,\"column_names\":[\"height\",\"line_color\",\"color\",\"y\",\"label\",\"x\",\"width\",\"line_alpha\",\"fill_alpha\"],\"data\":{\"chart_index\":[\"(83.993804, 85.993384]\"],\"color\":[\"#f22c40\"],\"fill_alpha\":[0.8],\"height\":[189.0],\"label\":[\"(83.993804, 85.993384]\"],\"line_alpha\":[1.0],\"line_color\":[\"black\"],\"width\":[1.9995804859201343],\"x\":[\"84.993594\"],\"y\":[94.5]}},\"id\":\"b4ec2265-d0cb-4515-968b-135734ae9db4\",\"type\":\"ColumnDataSource\"},{\"attributes\":{\"callback\":null,\"column_names\":[\"height\",\"line_color\",\"color\",\"y\",\"label\",\"x\",\"width\",\"line_alpha\",\"fill_alpha\"],\"data\":{\"chart_index\":[\"(44.002194, 46.001775]\"],\"color\":[\"#f22c40\"],\"fill_alpha\":[0.8],\"height\":[175.0],\"label\":[\"(44.002194, 46.001775]\"],\"line_alpha\":[1.0],\"line_color\":[\"black\"],\"width\":[1.9995804859201414],\"x\":[\"45.001984500000006\"],\"y\":[87.5]}},\"id\":\"a3681e1f-9101-44b8-aaf8-11fd2c5dffa6\",\"type\":\"ColumnDataSource\"},{\"attributes\":{\"data_source\":{\"id\":\"d7192004-297e-414d-8af5-7820b588277f\",\"type\":\"ColumnDataSource\"},\"glyph\":{\"id\":\"3745fbcf-2020-432a-ba96-bf3430eec2c2\",\"type\":\"Rect\"},\"hover_glyph\":null,\"nonselection_glyph\":null,\"selection_glyph\":null},\"id\":\"645540dd-b9c1-4b87-8484-9dd668479cb0\",\"type\":\"GlyphRenderer\"},{\"attributes\":{\"plot\":{\"id\":\"9129a667-4e61-4c45-8c2b-bebd7acb11a8\",\"subtype\":\"Chart\",\"type\":\"Plot\"}},\"id\":\"ee452427-33a4-4a2f-95de-e45c44f4f59d\",\"type\":\"PanTool\"},{\"attributes\":{\"active_drag\":\"auto\",\"active_scroll\":\"auto\",\"active_tap\":\"auto\",\"tools\":[{\"id\":\"ee452427-33a4-4a2f-95de-e45c44f4f59d\",\"type\":\"PanTool\"},{\"id\":\"db21d2bb-6405-420b-a016-48d2dbbc62e2\",\"type\":\"WheelZoomTool\"},{\"id\":\"3eaa668d-d085-4e68-8edf-189fcc747fb0\",\"type\":\"BoxZoomTool\"},{\"id\":\"2b09c321-9a54-405b-a88e-d7f7849692ce\",\"type\":\"SaveTool\"},{\"id\":\"bfe9d560-b6cf-44ab-86b5-018bd2b208a6\",\"type\":\"ResetTool\"},{\"id\":\"a00aa37d-11b0-4911-a407-d4c9549f2efa\",\"type\":\"HelpTool\"}]},\"id\":\"30ac3b71-0ba7-4626-9f87-359611c930d7\",\"type\":\"Toolbar\"},{\"attributes\":{\"callback\":null,\"column_names\":[\"height\",\"line_color\",\"color\",\"y\",\"label\",\"x\",\"width\",\"line_alpha\",\"fill_alpha\"],\"data\":{\"chart_index\":[\"(38.003453, 40.003033]\"],\"color\":[\"#f22c40\"],\"fill_alpha\":[0.8],\"height\":[231.0],\"label\":[\"(38.003453, 40.003033]\"],\"line_alpha\":[1.0],\"line_color\":[\"black\"],\"width\":[1.9995804859201343],\"x\":[\"39.003243\"],\"y\":[115.5]}},\"id\":\"94adc28c-7eda-43a9-a972-7eea2d4b31d7\",\"type\":\"ColumnDataSource\"},{\"attributes\":{\"fill_alpha\":{\"field\":\"fill_alpha\"},\"fill_color\":{\"field\":\"color\"},\"height\":{\"field\":\"height\",\"units\":\"data\"},\"line_color\":{\"field\":\"line_color\"},\"width\":{\"field\":\"width\",\"units\":\"data\"},\"x\":{\"field\":\"x\"},\"y\":{\"field\":\"y\"}},\"id\":\"707fe5ca-f211-4da8-984a-0db248f7fab7\",\"type\":\"Rect\"},{\"attributes\":{\"data_source\":{\"id\":\"2a8c347e-5c6e-460c-be20-620427449beb\",\"type\":\"ColumnDataSource\"},\"glyph\":{\"id\":\"5b9f236c-2125-40cb-bd67-7a3914cd36a8\",\"type\":\"Rect\"},\"hover_glyph\":null,\"nonselection_glyph\":null,\"selection_glyph\":null},\"id\":\"9777ab75-4b56-435b-a852-2a912d549dac\",\"type\":\"GlyphRenderer\"},{\"attributes\":{\"data_source\":{\"id\":\"6f466a40-0613-4143-b5d9-0f184d74ca3a\",\"type\":\"ColumnDataSource\"},\"glyph\":{\"id\":\"4201dd87-e22e-43e3-b0dd-7c63823073dc\",\"type\":\"Rect\"},\"hover_glyph\":null,\"nonselection_glyph\":null,\"selection_glyph\":null},\"id\":\"bdb165f4-7c78-4693-9a81-048cf15e807c\",\"type\":\"GlyphRenderer\"},{\"attributes\":{\"data_source\":{\"id\":\"938736d3-7889-497c-9d6a-eb3c673d219d\",\"type\":\"ColumnDataSource\"},\"glyph\":{\"id\":\"d48ada2d-d5b6-4d2a-8097-533beea69abb\",\"type\":\"Rect\"},\"hover_glyph\":null,\"nonselection_glyph\":null,\"selection_glyph\":null},\"id\":\"b6cd6623-5280-4280-b6fd-eff4d3da4e53\",\"type\":\"GlyphRenderer\"},{\"attributes\":{\"fill_alpha\":{\"field\":\"fill_alpha\"},\"fill_color\":{\"field\":\"color\"},\"height\":{\"field\":\"height\",\"units\":\"data\"},\"line_color\":{\"field\":\"line_color\"},\"width\":{\"field\":\"width\",\"units\":\"data\"},\"x\":{\"field\":\"x\"},\"y\":{\"field\":\"y\"}},\"id\":\"bf6b96cd-81f3-4a76-97de-d9e34b67c216\",\"type\":\"Rect\"},{\"attributes\":{\"data_source\":{\"id\":\"9913de04-d204-42e1-acf6-c1d828075c03\",\"type\":\"ColumnDataSource\"},\"glyph\":{\"id\":\"037818f8-2bd1-4175-8253-3af4f723bb3d\",\"type\":\"Rect\"},\"hover_glyph\":null,\"nonselection_glyph\":null,\"selection_glyph\":null},\"id\":\"82a2ac65-4062-4572-ad4b-29b099fcbafe\",\"type\":\"GlyphRenderer\"},{\"attributes\":{\"callback\":null,\"column_names\":[\"height\",\"line_color\",\"color\",\"y\",\"label\",\"x\",\"width\",\"line_alpha\",\"fill_alpha\"],\"data\":{\"chart_index\":[\"(17.873125, 19.523919]\"],\"color\":[\"#f22c40\"],\"fill_alpha\":[0.8],\"height\":[72.0],\"label\":[\"(17.873125, 19.523919]\"],\"line_alpha\":[1.0],\"line_color\":[\"black\"],\"width\":[1.6507939572147414],\"x\":[\"18.698522\"],\"y\":[36.0]}},\"id\":\"6f466a40-0613-4143-b5d9-0f184d74ca3a\",\"type\":\"ColumnDataSource\"},{\"attributes\":{\"data_source\":{\"id\":\"c515d7a0-e4bb-472b-a7ca-26e59228ae8c\",\"type\":\"ColumnDataSource\"},\"glyph\":{\"id\":\"56585a75-732d-4dac-96f9-70725f8c2b26\",\"type\":\"Rect\"},\"hover_glyph\":null,\"nonselection_glyph\":null,\"selection_glyph\":null},\"id\":\"17a95514-802f-4eff-bf1d-fd1acba432f2\",\"type\":\"GlyphRenderer\"},{\"attributes\":{\"plot\":{\"id\":\"d4a8ccfb-05b2-4bd8-997e-90be3fcf5ef4\",\"subtype\":\"Chart\",\"type\":\"Plot\"}},\"id\":\"e38b0ba1-b8ac-47a0-b2c4-10997a9034a0\",\"type\":\"WheelZoomTool\"},{\"attributes\":{\"data_source\":{\"id\":\"e760a7b6-5db9-4fb3-88d2-0e96170d11b5\",\"type\":\"ColumnDataSource\"},\"glyph\":{\"id\":\"4df5cc45-978b-4201-ac61-6eea2f5e1c53\",\"type\":\"Rect\"},\"hover_glyph\":null,\"nonselection_glyph\":null,\"selection_glyph\":null},\"id\":\"9de37825-a3e7-4d8f-9f7c-4b17e18f92d6\",\"type\":\"GlyphRenderer\"},{\"attributes\":{\"fill_alpha\":{\"field\":\"fill_alpha\"},\"fill_color\":{\"field\":\"color\"},\"height\":{\"field\":\"height\",\"units\":\"data\"},\"line_color\":{\"field\":\"line_color\"},\"width\":{\"field\":\"width\",\"units\":\"data\"},\"x\":{\"field\":\"x\"},\"y\":{\"field\":\"y\"}},\"id\":\"e0851b0f-dafc-432c-b6a0-35580b7d866f\",\"type\":\"Rect\"},{\"attributes\":{\"plot\":{\"id\":\"0b2f8ac5-d11b-4931-a14f-4bea83cd8bf4\",\"subtype\":\"Chart\",\"type\":\"Plot\"}},\"id\":\"65c141b4-ead7-46ce-a2cc-918cb548ed79\",\"type\":\"ResetTool\"},{\"attributes\":{\"callback\":null,\"column_names\":[\"height\",\"line_color\",\"color\",\"y\",\"label\",\"x\",\"width\",\"line_alpha\",\"fill_alpha\"],\"data\":{\"chart_index\":[\"(449.678224, 467.665164]\"],\"color\":[\"#f22c40\"],\"fill_alpha\":[0.8],\"height\":[21.0],\"label\":[\"(449.678224, 467.665164]\"],\"line_alpha\":[1.0],\"line_color\":[\"black\"],\"width\":[17.98694043395591],\"x\":[\"458.671694\"],\"y\":[10.5]}},\"id\":\"7e435099-45eb-4ad0-bdb8-9261382e6a70\",\"type\":\"ColumnDataSource\"},{\"attributes\":{\"data_source\":{\"id\":\"bcca344b-05e1-4c05-890f-920b4b1b7d73\",\"type\":\"ColumnDataSource\"},\"glyph\":{\"id\":\"90052ebe-3670-488b-95ca-eaecabf08793\",\"type\":\"Rect\"},\"hover_glyph\":null,\"nonselection_glyph\":null,\"selection_glyph\":null},\"id\":\"fb2b12c2-9ce8-4ce9-8d70-3b17aa907a97\",\"type\":\"GlyphRenderer\"},{\"attributes\":{},\"id\":\"2ec7ba26-4b7b-4409-bf1e-b426ecf0ade2\",\"type\":\"BasicTickFormatter\"},{\"attributes\":{\"axis_label\":\"a\",\"formatter\":{\"id\":\"ebe88113-9f85-4f31-95b6-259c1e91549b\",\"type\":\"BasicTickFormatter\"},\"plot\":{\"id\":\"0b2f8ac5-d11b-4931-a14f-4bea83cd8bf4\",\"subtype\":\"Chart\",\"type\":\"Plot\"},\"ticker\":{\"id\":\"cb2123f0-f79c-487c-a8bd-ed76bad74e4b\",\"type\":\"BasicTicker\"}},\"id\":\"d8285e8f-782e-4764-8391-39e9df4a573c\",\"type\":\"LinearAxis\"},{\"attributes\":{\"callback\":null,\"column_names\":[\"height\",\"line_color\",\"color\",\"y\",\"label\",\"x\",\"width\",\"line_alpha\",\"fill_alpha\"],\"data\":{\"chart_index\":[\"[0.004713, 17.991653]\"],\"color\":[\"#f22c40\"],\"fill_alpha\":[0.8],\"height\":[1640.0],\"label\":[\"[0.004713, 17.991653]\"],\"line_alpha\":[1.0],\"line_color\":[\"black\"],\"width\":[17.9869404339559],\"x\":[\"8.998183\"],\"y\":[820.0]}},\"id\":\"5e3a575f-8039-4e7c-9fea-c29dd09f0f77\",\"type\":\"ColumnDataSource\"},{\"attributes\":{\"callback\":null,\"column_names\":[\"height\",\"line_color\",\"color\",\"y\",\"label\",\"x\",\"width\",\"line_alpha\",\"fill_alpha\"],\"data\":{\"chart_index\":[\"(323.769641, 341.756581]\"],\"color\":[\"#f22c40\"],\"fill_alpha\":[0.8],\"height\":[55.0],\"label\":[\"(323.769641, 341.756581]\"],\"line_alpha\":[1.0],\"line_color\":[\"black\"],\"width\":[17.98694043395591],\"x\":[\"332.763111\"],\"y\":[27.5]}},\"id\":\"dfec6aa4-8613-4653-87fd-1e06a041d7d3\",\"type\":\"ColumnDataSource\"},{\"attributes\":{\"fill_alpha\":{\"field\":\"fill_alpha\"},\"fill_color\":{\"field\":\"color\"},\"height\":{\"field\":\"height\",\"units\":\"data\"},\"line_color\":{\"field\":\"line_color\"},\"width\":{\"field\":\"width\",\"units\":\"data\"},\"x\":{\"field\":\"x\"},\"y\":{\"field\":\"y\"}},\"id\":\"7e1ef308-fd50-4337-aedc-6439f18f5963\",\"type\":\"Rect\"},{\"attributes\":{\"data_source\":{\"id\":\"3f455480-1234-4e37-a296-a85beaf1be48\",\"type\":\"ColumnDataSource\"},\"glyph\":{\"id\":\"e07cd208-9a56-449f-9e89-4094258a7483\",\"type\":\"Rect\"},\"hover_glyph\":null,\"nonselection_glyph\":null,\"selection_glyph\":null},\"id\":\"dd08dfdf-a667-4d33-a6b4-f013611c77ff\",\"type\":\"GlyphRenderer\"},{\"attributes\":{\"data_source\":{\"id\":\"90ed7290-eb7b-4542-b533-35cb17e99459\",\"type\":\"ColumnDataSource\"},\"glyph\":{\"id\":\"9bc8b290-32a5-47e7-b942-b831abaf668f\",\"type\":\"Rect\"},\"hover_glyph\":null,\"nonselection_glyph\":null,\"selection_glyph\":null},\"id\":\"728d9c2a-ba2c-4b68-9214-0e7a7f5ff090\",\"type\":\"GlyphRenderer\"},{\"attributes\":{\"callback\":null,\"column_names\":[\"height\",\"line_color\",\"color\",\"y\",\"label\",\"x\",\"width\",\"line_alpha\",\"fill_alpha\"],\"data\":{\"chart_index\":[\"(81.994223, 83.993804]\"],\"color\":[\"#f22c40\"],\"fill_alpha\":[0.8],\"height\":[201.0],\"label\":[\"(81.994223, 83.993804]\"],\"line_alpha\":[1.0],\"line_color\":[\"black\"],\"width\":[1.9995804859201343],\"x\":[\"82.9940135\"],\"y\":[100.5]}},\"id\":\"5bc47a23-731e-4b5e-9e63-2d59e296ba64\",\"type\":\"ColumnDataSource\"},{\"attributes\":{\"data_source\":{\"id\":\"33a573b3-7287-4e23-970a-9db936e0c960\",\"type\":\"ColumnDataSource\"},\"glyph\":{\"id\":\"8069c5d4-1bef-4b39-ba9d-3c2b305b31b4\",\"type\":\"Rect\"},\"hover_glyph\":null,\"nonselection_glyph\":null,\"selection_glyph\":null},\"id\":\"1700e7a3-903d-4d93-8052-03255ab3dc63\",\"type\":\"GlyphRenderer\"},{\"attributes\":{\"fill_alpha\":{\"field\":\"fill_alpha\"},\"fill_color\":{\"field\":\"color\"},\"height\":{\"field\":\"height\",\"units\":\"data\"},\"line_color\":{\"field\":\"line_color\"},\"width\":{\"field\":\"width\",\"units\":\"data\"},\"x\":{\"field\":\"x\"},\"y\":{\"field\":\"y\"}},\"id\":\"6d4c1994-d6bb-49fc-841c-fea1dc978ac5\",\"type\":\"Rect\"},{\"attributes\":{},\"id\":\"27d1b5f5-4f8f-4a0b-89da-8292e5de3ece\",\"type\":\"BasicTicker\"},{\"attributes\":{\"bottom_units\":\"screen\",\"fill_alpha\":{\"value\":0.5},\"fill_color\":{\"value\":\"lightgrey\"},\"left_units\":\"screen\",\"level\":\"overlay\",\"line_alpha\":{\"value\":1.0},\"line_color\":{\"value\":\"black\"},\"line_dash\":[4,4],\"line_width\":{\"value\":2},\"plot\":null,\"render_mode\":\"css\",\"right_units\":\"screen\",\"top_units\":\"screen\"},\"id\":\"7b796b0f-f5d1-4b8b-9762-80aad40ef377\",\"type\":\"BoxAnnotation\"},{\"attributes\":{\"callback\":null,\"column_names\":[\"height\",\"line_color\",\"color\",\"y\",\"label\",\"x\",\"width\",\"line_alpha\",\"fill_alpha\"],\"data\":{\"chart_index\":[\"(52.541174, 54.518154]\"],\"color\":[\"#f22c40\"],\"fill_alpha\":[0.8],\"height\":[296.0],\"label\":[\"(52.541174, 54.518154]\"],\"line_alpha\":[1.0],\"line_color\":[\"black\"],\"width\":[1.976980165044921],\"x\":[\"53.529664\"],\"y\":[148.0]}},\"id\":\"39018940-f39d-4792-b6d0-273cc4d5a86b\",\"type\":\"ColumnDataSource\"},{\"attributes\":{\"data_source\":{\"id\":\"956284a9-f4de-4e1c-928c-75ec14db699c\",\"type\":\"ColumnDataSource\"},\"glyph\":{\"id\":\"e6433931-c63d-4748-9aa9-9accb5d95f53\",\"type\":\"Rect\"},\"hover_glyph\":null,\"nonselection_glyph\":null,\"selection_glyph\":null},\"id\":\"0553bc22-efaf-423b-ad09-ed4c9f14d418\",\"type\":\"GlyphRenderer\"},{\"attributes\":{\"fill_alpha\":{\"field\":\"fill_alpha\"},\"fill_color\":{\"field\":\"color\"},\"height\":{\"field\":\"height\",\"units\":\"data\"},\"line_color\":{\"field\":\"line_color\"},\"width\":{\"field\":\"width\",\"units\":\"data\"},\"x\":{\"field\":\"x\"},\"y\":{\"field\":\"y\"}},\"id\":\"07975514-7868-4901-821c-c310d51c96d4\",\"type\":\"Rect\"},{\"attributes\":{\"callback\":null,\"column_names\":[\"height\",\"line_color\",\"color\",\"y\",\"label\",\"x\",\"width\",\"line_alpha\",\"fill_alpha\"],\"data\":{\"chart_index\":[\"(47.587416, 49.238210]\"],\"color\":[\"#f22c40\"],\"fill_alpha\":[0.8],\"height\":[465.0],\"label\":[\"(47.587416, 49.238210]\"],\"line_alpha\":[1.0],\"line_color\":[\"black\"],\"width\":[1.650793957214745],\"x\":[\"48.412813\"],\"y\":[232.5]}},\"id\":\"d006665a-8c0e-4fec-8d6c-14c31024a21b\",\"type\":\"ColumnDataSource\"},{\"attributes\":{\"data_source\":{\"id\":\"f04e2faa-6d2f-4531-98cd-5522150bea7b\",\"type\":\"ColumnDataSource\"},\"glyph\":{\"id\":\"8cc5e19d-44a2-47ce-8eea-36613b509e67\",\"type\":\"Rect\"},\"hover_glyph\":null,\"nonselection_glyph\":null,\"selection_glyph\":null},\"id\":\"65bc74fc-eb53-4ee9-b7e9-b7162be5864f\",\"type\":\"GlyphRenderer\"},{\"attributes\":{\"callback\":null,\"column_names\":[\"height\",\"line_color\",\"color\",\"y\",\"label\",\"x\",\"width\",\"line_alpha\",\"fill_alpha\"],\"data\":{\"chart_index\":[\"(115.987092, 117.986672]\"],\"color\":[\"#f22c40\"],\"fill_alpha\":[0.8],\"height\":[201.0],\"label\":[\"(115.987092, 117.986672]\"],\"line_alpha\":[1.0],\"line_color\":[\"black\"],\"width\":[1.9995804859201485],\"x\":[\"116.98688200000001\"],\"y\":[100.5]}},\"id\":\"c728c376-5b0e-4f08-8e8f-9e3c52778b20\",\"type\":\"ColumnDataSource\"},{\"attributes\":{\"callback\":null,\"column_names\":[\"height\",\"line_color\",\"color\",\"y\",\"label\",\"x\",\"width\",\"line_alpha\",\"fill_alpha\"],\"data\":{\"chart_index\":[\"(55.999677, 57.999258]\"],\"color\":[\"#f22c40\"],\"fill_alpha\":[0.8],\"height\":[208.0],\"label\":[\"(55.999677, 57.999258]\"],\"line_alpha\":[1.0],\"line_color\":[\"black\"],\"width\":[1.9995804859201343],\"x\":[\"56.999467499999994\"],\"y\":[104.0]}},\"id\":\"18dcf187-5bd4-4dbf-81f1-3dcf7eaee9bf\",\"type\":\"ColumnDataSource\"},{\"attributes\":{\"data_source\":{\"id\":\"5bc47a23-731e-4b5e-9e63-2d59e296ba64\",\"type\":\"ColumnDataSource\"},\"glyph\":{\"id\":\"c3feb789-3a32-468a-8805-02e5a4cc83a1\",\"type\":\"Rect\"},\"hover_glyph\":null,\"nonselection_glyph\":null,\"selection_glyph\":null},\"id\":\"f614d738-fb45-4c17-ae29-1af3b2ee823e\",\"type\":\"GlyphRenderer\"},{\"attributes\":{},\"id\":\"2d67ce1b-61b9-4a72-978d-79b51c881069\",\"type\":\"BasicTicker\"},{\"attributes\":{\"fill_alpha\":{\"field\":\"fill_alpha\"},\"fill_color\":{\"field\":\"color\"},\"height\":{\"field\":\"height\",\"units\":\"data\"},\"line_color\":{\"field\":\"line_color\"},\"width\":{\"field\":\"width\",\"units\":\"data\"},\"x\":{\"field\":\"x\"},\"y\":{\"field\":\"y\"}},\"id\":\"c4e065e7-cc51-4a21-9c39-a0128ae736b0\",\"type\":\"Rect\"},{\"attributes\":{\"fill_alpha\":{\"field\":\"fill_alpha\"},\"fill_color\":{\"field\":\"color\"},\"height\":{\"field\":\"height\",\"units\":\"data\"},\"line_color\":{\"field\":\"line_color\"},\"width\":{\"field\":\"width\",\"units\":\"data\"},\"x\":{\"field\":\"x\"},\"y\":{\"field\":\"y\"}},\"id\":\"8622c56f-be19-4545-8d52-bb56fa4a19cb\",\"type\":\"Rect\"},{\"attributes\":{\"data_source\":{\"id\":\"f7aef287-3d12-4e5f-a594-942618542617\",\"type\":\"ColumnDataSource\"},\"glyph\":{\"id\":\"74bcbd8b-21be-4668-a963-ced0fad868e9\",\"type\":\"Rect\"},\"hover_glyph\":null,\"nonselection_glyph\":null,\"selection_glyph\":null},\"id\":\"aa91678d-c2bb-49cc-8d60-79622c6b6f39\",\"type\":\"GlyphRenderer\"},{\"attributes\":{\"callback\":null,\"column_names\":[\"height\",\"line_color\",\"color\",\"y\",\"label\",\"x\",\"width\",\"line_alpha\",\"fill_alpha\"],\"data\":{\"chart_index\":[\"(98.011718, 99.988698]\"],\"color\":[\"#f22c40\"],\"fill_alpha\":[0.8],\"height\":[200.0],\"label\":[\"(98.011718, 99.988698]\"],\"line_alpha\":[1.0],\"line_color\":[\"black\"],\"width\":[1.9769801650449352],\"x\":[\"99.000208\"],\"y\":[100.0]}},\"id\":\"df78eebc-19a9-4abc-b208-759cc90e53ad\",\"type\":\"ColumnDataSource\"},{\"attributes\":{\"callback\":null,\"end\":123.27519883252246,\"start\":17.39279116747754},\"id\":\"4cb4fdce-d986-410e-8149-6485a6eb624f\",\"type\":\"Range1d\"},{\"attributes\":{\"fill_alpha\":{\"field\":\"fill_alpha\"},\"fill_color\":{\"field\":\"color\"},\"height\":{\"field\":\"height\",\"units\":\"data\"},\"line_color\":{\"field\":\"line_color\"},\"width\":{\"field\":\"width\",\"units\":\"data\"},\"x\":{\"field\":\"x\"},\"y\":{\"field\":\"y\"}},\"id\":\"eaa87745-624f-4238-9fda-18cd9d57ebc0\",\"type\":\"Rect\"},{\"attributes\":{\"callback\":null,\"column_names\":[\"height\",\"line_color\",\"color\",\"y\",\"label\",\"x\",\"width\",\"line_alpha\",\"fill_alpha\"],\"data\":{\"chart_index\":[\"(92.080777, 94.057757]\"],\"color\":[\"#f22c40\"],\"fill_alpha\":[0.8],\"height\":[235.0],\"label\":[\"(92.080777, 94.057757]\"],\"line_alpha\":[1.0],\"line_color\":[\"black\"],\"width\":[1.976980165044921],\"x\":[\"93.069267\"],\"y\":[117.5]}},\"id\":\"c0f24551-1d88-43ec-b64f-28061bfb3258\",\"type\":\"ColumnDataSource\"},{\"attributes\":{\"fill_alpha\":{\"field\":\"fill_alpha\"},\"fill_color\":{\"field\":\"color\"},\"height\":{\"field\":\"height\",\"units\":\"data\"},\"line_color\":{\"field\":\"line_color\"},\"width\":{\"field\":\"width\",\"units\":\"data\"},\"x\":{\"field\":\"x\"},\"y\":{\"field\":\"y\"}},\"id\":\"8cc5e19d-44a2-47ce-8eea-36613b509e67\",\"type\":\"Rect\"},{\"attributes\":{\"fill_alpha\":{\"field\":\"fill_alpha\"},\"fill_color\":{\"field\":\"color\"},\"height\":{\"field\":\"height\",\"units\":\"data\"},\"line_color\":{\"field\":\"line_color\"},\"width\":{\"field\":\"width\",\"units\":\"data\"},\"x\":{\"field\":\"x\"},\"y\":{\"field\":\"y\"}},\"id\":\"230c10bc-a141-494c-a172-e343e716f35c\",\"type\":\"Rect\"},{\"attributes\":{\"fill_alpha\":{\"field\":\"fill_alpha\"},\"fill_color\":{\"field\":\"color\"},\"height\":{\"field\":\"height\",\"units\":\"data\"},\"line_color\":{\"field\":\"line_color\"},\"width\":{\"field\":\"width\",\"units\":\"data\"},\"x\":{\"field\":\"x\"},\"y\":{\"field\":\"y\"}},\"id\":\"369f0f62-93d4-4913-bf4e-e7b9afef1956\",\"type\":\"Rect\"},{\"attributes\":{\"fill_alpha\":{\"field\":\"fill_alpha\"},\"fill_color\":{\"field\":\"color\"},\"height\":{\"field\":\"height\",\"units\":\"data\"},\"line_color\":{\"field\":\"line_color\"},\"width\":{\"field\":\"width\",\"units\":\"data\"},\"x\":{\"field\":\"x\"},\"y\":{\"field\":\"y\"}},\"id\":\"9ffc550a-8403-4a23-9bce-865f37b7f9af\",\"type\":\"Rect\"},{\"attributes\":{\"callback\":null,\"column_names\":[\"height\",\"line_color\",\"color\",\"y\",\"label\",\"x\",\"width\",\"line_alpha\",\"fill_alpha\"],\"data\":{\"chart_index\":[\"(103.942658, 105.919638]\"],\"color\":[\"#f22c40\"],\"fill_alpha\":[0.8],\"height\":[146.0],\"label\":[\"(103.942658, 105.919638]\"],\"line_alpha\":[1.0],\"line_color\":[\"black\"],\"width\":[1.976980165044921],\"x\":[\"104.93114800000001\"],\"y\":[73.0]}},\"id\":\"0da6d5cd-8467-4f15-beb5-75f1db1a168c\",\"type\":\"ColumnDataSource\"},{\"attributes\":{\"fill_alpha\":{\"field\":\"fill_alpha\"},\"fill_color\":{\"field\":\"color\"},\"height\":{\"field\":\"height\",\"units\":\"data\"},\"line_color\":{\"field\":\"line_color\"},\"width\":{\"field\":\"width\",\"units\":\"data\"},\"x\":{\"field\":\"x\"},\"y\":{\"field\":\"y\"}},\"id\":\"90fde5b6-9617-46c4-88fc-3b44317af109\",\"type\":\"Rect\"},{\"attributes\":{\"callback\":null,\"column_names\":[\"height\",\"line_color\",\"color\",\"y\",\"label\",\"x\",\"width\",\"line_alpha\",\"fill_alpha\"],\"data\":{\"chart_index\":[\"(64.095356, 65.746150]\"],\"color\":[\"#f22c40\"],\"fill_alpha\":[0.8],\"height\":[33.0],\"label\":[\"(64.095356, 65.746150]\"],\"line_alpha\":[1.0],\"line_color\":[\"black\"],\"width\":[1.650793957214745],\"x\":[\"64.92075299999999\"],\"y\":[16.5]}},\"id\":\"f7a99e8d-3b4b-4caf-8b22-8f59652c88ea\",\"type\":\"ColumnDataSource\"},{\"attributes\":{\"fill_alpha\":{\"field\":\"fill_alpha\"},\"fill_color\":{\"field\":\"color\"},\"height\":{\"field\":\"height\",\"units\":\"data\"},\"line_color\":{\"field\":\"line_color\"},\"width\":{\"field\":\"width\",\"units\":\"data\"},\"x\":{\"field\":\"x\"},\"y\":{\"field\":\"y\"}},\"id\":\"59f883fe-c5f4-4d75-a224-ef6500cf4ed8\",\"type\":\"Rect\"},{\"attributes\":{},\"id\":\"34a377ee-4e8d-4b47-83ce-cb0b395e96cf\",\"type\":\"BasicTicker\"},{\"attributes\":{\"data_source\":{\"id\":\"3189e594-a921-4d09-bf24-e2f4d378bcb7\",\"type\":\"ColumnDataSource\"},\"glyph\":{\"id\":\"e2d3de10-c7e3-432c-bbc1-732e542d3250\",\"type\":\"Rect\"},\"hover_glyph\":null,\"nonselection_glyph\":null,\"selection_glyph\":null},\"id\":\"0a9ea495-d653-4f54-8d30-e8f87710896a\",\"type\":\"GlyphRenderer\"},{\"attributes\":{\"location\":\"top_left\",\"plot\":{\"id\":\"5a86ce13-08ff-4742-a236-b5d321602846\",\"subtype\":\"Chart\",\"type\":\"Plot\"}},\"id\":\"5673b360-4633-4a0e-9954-2f12f40f0926\",\"type\":\"Legend\"},{\"attributes\":{\"callback\":null,\"column_names\":[\"height\",\"line_color\",\"color\",\"y\",\"label\",\"x\",\"width\",\"line_alpha\",\"fill_alpha\"],\"data\":{\"chart_index\":[\"(65.997580, 67.997160]\"],\"color\":[\"#f22c40\"],\"fill_alpha\":[0.8],\"height\":[201.0],\"label\":[\"(65.997580, 67.997160]\"],\"line_alpha\":[1.0],\"line_color\":[\"black\"],\"width\":[1.9995804859201343],\"x\":[\"66.99736999999999\"],\"y\":[100.5]}},\"id\":\"638b6f73-560f-4810-b571-0dbdf679c486\",\"type\":\"ColumnDataSource\"},{\"attributes\":{\"data_source\":{\"id\":\"4766ca56-bda3-4822-85ca-f0ee86392f2d\",\"type\":\"ColumnDataSource\"},\"glyph\":{\"id\":\"1f48225e-8664-4d72-adc8-61d8d9be05d6\",\"type\":\"Rect\"},\"hover_glyph\":null,\"nonselection_glyph\":null,\"selection_glyph\":null},\"id\":\"6b816729-b3b6-419b-a7b3-8bfa72b35ad8\",\"type\":\"GlyphRenderer\"},{\"attributes\":{\"data_source\":{\"id\":\"a789b498-a2f6-4a50-929a-a44556349406\",\"type\":\"ColumnDataSource\"},\"glyph\":{\"id\":\"21107cf2-ede3-4ad1-9d14-42043df7cbcb\",\"type\":\"Rect\"},\"hover_glyph\":null,\"nonselection_glyph\":null,\"selection_glyph\":null},\"id\":\"3476ae80-1b67-4143-9670-a4f88602d1be\",\"type\":\"GlyphRenderer\"},{\"attributes\":{\"fill_alpha\":{\"field\":\"fill_alpha\"},\"fill_color\":{\"field\":\"color\"},\"height\":{\"field\":\"height\",\"units\":\"data\"},\"line_color\":{\"field\":\"line_color\"},\"width\":{\"field\":\"width\",\"units\":\"data\"},\"x\":{\"field\":\"x\"},\"y\":{\"field\":\"y\"}},\"id\":\"8e797bbe-5f6a-4e8f-a222-61ba4bc197ab\",\"type\":\"Rect\"},{\"attributes\":{\"callback\":null,\"end\":82.56996727860736,\"start\":-3.903075278607372},\"id\":\"50e6d4c4-2eac-4de2-acfa-9c1a1e02d671\",\"type\":\"Range1d\"},{\"attributes\":{\"fill_alpha\":{\"field\":\"fill_alpha\"},\"fill_color\":{\"field\":\"color\"},\"height\":{\"field\":\"height\",\"units\":\"data\"},\"line_color\":{\"field\":\"line_color\"},\"width\":{\"field\":\"width\",\"units\":\"data\"},\"x\":{\"field\":\"x\"},\"y\":{\"field\":\"y\"}},\"id\":\"6d9548a0-c8b7-497d-9b5c-74b2b7789d06\",\"type\":\"Rect\"},{\"attributes\":{\"fill_alpha\":{\"field\":\"fill_alpha\"},\"fill_color\":{\"field\":\"color\"},\"height\":{\"field\":\"height\",\"units\":\"data\"},\"line_color\":{\"field\":\"line_color\"},\"width\":{\"field\":\"width\",\"units\":\"data\"},\"x\":{\"field\":\"x\"},\"y\":{\"field\":\"y\"}},\"id\":\"260322ce-d9c7-4205-9ffc-34f17262070d\",\"type\":\"Rect\"},{\"attributes\":{\"callback\":null,\"column_names\":[\"height\",\"line_color\",\"color\",\"y\",\"label\",\"x\",\"width\",\"line_alpha\",\"fill_alpha\"],\"data\":{\"chart_index\":[\"(54.518154, 56.495134]\"],\"color\":[\"#f22c40\"],\"fill_alpha\":[0.8],\"height\":[286.0],\"label\":[\"(54.518154, 56.495134]\"],\"line_alpha\":[1.0],\"line_color\":[\"black\"],\"width\":[1.976980165044921],\"x\":[\"55.506644\"],\"y\":[143.0]}},\"id\":\"a8cf9117-4993-4f78-b9e2-43863e64b8c9\",\"type\":\"ColumnDataSource\"},{\"attributes\":{\"plot\":null,\"text\":null},\"id\":\"5f873ffe-fa0b-4f4b-b660-5e22a30e45eb\",\"type\":\"Title\"},{\"attributes\":{\"fill_alpha\":{\"field\":\"fill_alpha\"},\"fill_color\":{\"field\":\"color\"},\"height\":{\"field\":\"height\",\"units\":\"data\"},\"line_color\":{\"field\":\"line_color\"},\"width\":{\"field\":\"width\",\"units\":\"data\"},\"x\":{\"field\":\"x\"},\"y\":{\"field\":\"y\"}},\"id\":\"5c43bf03-9aeb-4a84-bff2-eb5b155a9aff\",\"type\":\"Rect\"},{\"attributes\":{\"fill_alpha\":{\"field\":\"fill_alpha\"},\"fill_color\":{\"field\":\"color\"},\"height\":{\"field\":\"height\",\"units\":\"data\"},\"line_color\":{\"field\":\"line_color\"},\"width\":{\"field\":\"width\",\"units\":\"data\"},\"x\":{\"field\":\"x\"},\"y\":{\"field\":\"y\"}},\"id\":\"ddb5a154-714e-4af3-ab86-6c3b16524d71\",\"type\":\"Rect\"},{\"attributes\":{\"fill_alpha\":{\"field\":\"fill_alpha\"},\"fill_color\":{\"field\":\"color\"},\"height\":{\"field\":\"height\",\"units\":\"data\"},\"line_color\":{\"field\":\"line_color\"},\"width\":{\"field\":\"width\",\"units\":\"data\"},\"x\":{\"field\":\"x\"},\"y\":{\"field\":\"y\"}},\"id\":\"5d212fe2-ecb2-4624-8da1-0dadd4bb3195\",\"type\":\"Rect\"},{\"attributes\":{\"data_source\":{\"id\":\"348c7c40-5c78-45b4-976f-1afe77176959\",\"type\":\"ColumnDataSource\"},\"glyph\":{\"id\":\"92362444-cda6-4609-8f81-9c33c893ba22\",\"type\":\"Rect\"},\"hover_glyph\":null,\"nonselection_glyph\":null,\"selection_glyph\":null},\"id\":\"a80b9957-e51a-4c4f-bfd0-92bc39a5ae43\",\"type\":\"GlyphRenderer\"},{\"attributes\":{\"callback\":null,\"end\":1804.0000000000002},\"id\":\"3a52794b-ebe2-4294-90b7-f1333a863996\",\"type\":\"Range1d\"},{\"attributes\":{\"fill_alpha\":{\"field\":\"fill_alpha\"},\"fill_color\":{\"field\":\"color\"},\"height\":{\"field\":\"height\",\"units\":\"data\"},\"line_color\":{\"field\":\"line_color\"},\"width\":{\"field\":\"width\",\"units\":\"data\"},\"x\":{\"field\":\"x\"},\"y\":{\"field\":\"y\"}},\"id\":\"ee7ef78b-181c-4c26-8c1e-096cc1d8c638\",\"type\":\"Rect\"},{\"attributes\":{\"fill_alpha\":{\"field\":\"fill_alpha\"},\"fill_color\":{\"field\":\"color\"},\"height\":{\"field\":\"height\",\"units\":\"data\"},\"line_color\":{\"field\":\"line_color\"},\"width\":{\"field\":\"width\",\"units\":\"data\"},\"x\":{\"field\":\"x\"},\"y\":{\"field\":\"y\"}},\"id\":\"de8d8d8c-047a-4c2f-b133-2e55f8d11a63\",\"type\":\"Rect\"},{\"attributes\":{\"callback\":null,\"column_names\":[\"height\",\"line_color\",\"color\",\"y\",\"label\",\"x\",\"width\",\"line_alpha\",\"fill_alpha\"],\"data\":{\"chart_index\":[\"(105.989189, 107.988770]\"],\"color\":[\"#f22c40\"],\"fill_alpha\":[0.8],\"height\":[211.0],\"label\":[\"(105.989189, 107.988770]\"],\"line_alpha\":[1.0],\"line_color\":[\"black\"],\"width\":[1.9995804859201343],\"x\":[\"106.9889795\"],\"y\":[105.5]}},\"id\":\"efe230a3-d2dc-4b8c-87c8-6eb9126d6ce5\",\"type\":\"ColumnDataSource\"},{\"attributes\":{\"data_source\":{\"id\":\"4ddd8eca-f014-404a-ae6c-deffa12d454f\",\"type\":\"ColumnDataSource\"},\"glyph\":{\"id\":\"615e34c3-2856-4f79-bd61-5360206cd99d\",\"type\":\"Rect\"},\"hover_glyph\":null,\"nonselection_glyph\":null,\"selection_glyph\":null},\"id\":\"feadcf66-4ff2-4867-a0b8-0f5dc5a81b36\",\"type\":\"GlyphRenderer\"},{\"attributes\":{\"fill_alpha\":{\"field\":\"fill_alpha\"},\"fill_color\":{\"field\":\"color\"},\"height\":{\"field\":\"height\",\"units\":\"data\"},\"line_color\":{\"field\":\"line_color\"},\"width\":{\"field\":\"width\",\"units\":\"data\"},\"x\":{\"field\":\"x\"},\"y\":{\"field\":\"y\"}},\"id\":\"0bf04567-6f7c-4b84-9539-ac167be53dcf\",\"type\":\"Rect\"},{\"attributes\":{\"data_source\":{\"id\":\"aa727ef3-3c35-47eb-8b7e-a623b3dbfd52\",\"type\":\"ColumnDataSource\"},\"glyph\":{\"id\":\"75562a64-a523-4e10-b89b-edcbe1a3054a\",\"type\":\"Rect\"},\"hover_glyph\":null,\"nonselection_glyph\":null,\"selection_glyph\":null},\"id\":\"873fb9c3-52a9-40b3-a41d-73ed7ccfd8c5\",\"type\":\"GlyphRenderer\"},{\"attributes\":{\"data_source\":{\"id\":\"3ace5e06-c4d4-4deb-8808-79709ea7f6f4\",\"type\":\"ColumnDataSource\"},\"glyph\":{\"id\":\"5ae9802c-f74b-4f4e-9102-133c5d720775\",\"type\":\"Rect\"},\"hover_glyph\":null,\"nonselection_glyph\":null,\"selection_glyph\":null},\"id\":\"a050e728-188e-4e3d-a8c5-4db68ef966c6\",\"type\":\"GlyphRenderer\"},{\"attributes\":{\"data_source\":{\"id\":\"d9379f7a-8a04-4381-a988-df8aa52a5c83\",\"type\":\"ColumnDataSource\"},\"glyph\":{\"id\":\"16cf0305-742a-4d85-a615-f389ace42406\",\"type\":\"Rect\"},\"hover_glyph\":null,\"nonselection_glyph\":null,\"selection_glyph\":null},\"id\":\"88b5bb27-2a22-4b4d-9ed4-71eb6d4fcfbd\",\"type\":\"GlyphRenderer\"},{\"attributes\":{\"callback\":null,\"column_names\":[\"height\",\"line_color\",\"color\",\"y\",\"label\",\"x\",\"width\",\"line_alpha\",\"fill_alpha\"],\"data\":{\"chart_index\":[\"(42.656273, 44.633253]\"],\"color\":[\"#f22c40\"],\"fill_alpha\":[0.8],\"height\":[218.0],\"label\":[\"(42.656273, 44.633253]\"],\"line_alpha\":[1.0],\"line_color\":[\"black\"],\"width\":[1.9769801650449281],\"x\":[\"43.644763\"],\"y\":[109.0]}},\"id\":\"caefbbf9-0d7b-485b-b623-2949f16d3a65\",\"type\":\"ColumnDataSource\"},{\"attributes\":{\"data_source\":{\"id\":\"a63204b8-e504-4f48-8b0c-5ec5cf94bca7\",\"type\":\"ColumnDataSource\"},\"glyph\":{\"id\":\"72ef7dbe-64a6-49a3-9717-79bfadc45081\",\"type\":\"Rect\"},\"hover_glyph\":null,\"nonselection_glyph\":null,\"selection_glyph\":null},\"id\":\"44594c6b-e2f5-422c-9732-a90a3a8c2e49\",\"type\":\"GlyphRenderer\"},{\"attributes\":{\"data_source\":{\"id\":\"77782a57-2570-4733-a051-3c040094f0a8\",\"type\":\"ColumnDataSource\"},\"glyph\":{\"id\":\"3c9482ef-07fc-46ce-8186-c2147f9790a6\",\"type\":\"Rect\"},\"hover_glyph\":null,\"nonselection_glyph\":null,\"selection_glyph\":null},\"id\":\"3c7bec4c-89ef-4cb6-9ad8-b8a4cabc8c6e\",\"type\":\"GlyphRenderer\"},{\"attributes\":{\"dimension\":1,\"plot\":{\"id\":\"5a86ce13-08ff-4742-a236-b5d321602846\",\"subtype\":\"Chart\",\"type\":\"Plot\"},\"ticker\":{\"id\":\"09354e85-7e5d-4119-9b5d-e9d5e858be5c\",\"type\":\"BasicTicker\"}},\"id\":\"ab12c890-6fd7-4e14-b6f4-e0ebea422b5a\",\"type\":\"Grid\"},{\"attributes\":{\"callback\":null,\"column_names\":[\"height\",\"line_color\",\"color\",\"y\",\"label\",\"x\",\"width\",\"line_alpha\",\"fill_alpha\"],\"data\":{\"chart_index\":[\"(89.992545, 91.992126]\"],\"color\":[\"#f22c40\"],\"fill_alpha\":[0.8],\"height\":[192.0],\"label\":[\"(89.992545, 91.992126]\"],\"line_alpha\":[1.0],\"line_color\":[\"black\"],\"width\":[1.9995804859201343],\"x\":[\"90.9923355\"],\"y\":[96.0]}},\"id\":\"70b91a39-d77a-4629-9d8c-1bf99fd95d8e\",\"type\":\"ColumnDataSource\"},{\"attributes\":{\"data_source\":{\"id\":\"381d190a-70fb-4167-a100-d49626970e67\",\"type\":\"ColumnDataSource\"},\"glyph\":{\"id\":\"6453686e-5278-474f-a4c9-24e6b3af76ee\",\"type\":\"Rect\"},\"hover_glyph\":null,\"nonselection_glyph\":null,\"selection_glyph\":null},\"id\":\"f92c67e5-d019-4c99-951f-c6a0fe2b1a7d\",\"type\":\"GlyphRenderer\"},{\"attributes\":{\"data_source\":{\"id\":\"0a57255a-85a0-4b37-a148-d4bb56549852\",\"type\":\"ColumnDataSource\"},\"glyph\":{\"id\":\"eb24612a-68cc-4159-b8c1-990180cfc865\",\"type\":\"Rect\"},\"hover_glyph\":null,\"nonselection_glyph\":null,\"selection_glyph\":null},\"id\":\"cd675021-ef00-4bca-b454-2093586f9b26\",\"type\":\"GlyphRenderer\"},{\"attributes\":{},\"id\":\"ebe88113-9f85-4f31-95b6-259c1e91549b\",\"type\":\"BasicTickFormatter\"},{\"attributes\":{\"callback\":null,\"column_names\":[\"height\",\"line_color\",\"color\",\"y\",\"label\",\"x\",\"width\",\"line_alpha\",\"fill_alpha\"],\"data\":{\"chart_index\":[\"(755.456211, 773.443152]\"],\"color\":[\"#f22c40\"],\"fill_alpha\":[0.8],\"height\":[0.0],\"label\":[\"(755.456211, 773.443152]\"],\"line_alpha\":[1.0],\"line_color\":[\"black\"],\"width\":[17.986940433955965],\"x\":[\"764.4496815\"],\"y\":[0.0]}},\"id\":\"00d26c08-637e-44cb-8e2b-0afa9f5f00b5\",\"type\":\"ColumnDataSource\"},{\"attributes\":{\"fill_alpha\":{\"field\":\"fill_alpha\"},\"fill_color\":{\"field\":\"color\"},\"height\":{\"field\":\"height\",\"units\":\"data\"},\"line_color\":{\"field\":\"line_color\"},\"width\":{\"field\":\"width\",\"units\":\"data\"},\"x\":{\"field\":\"x\"},\"y\":{\"field\":\"y\"}},\"id\":\"b34c75da-030f-4da7-9f2d-6bb702e8b6f4\",\"type\":\"Rect\"},{\"attributes\":{\"data_source\":{\"id\":\"9a85c5d5-70b1-407a-acb8-bbc9de8dbd86\",\"type\":\"ColumnDataSource\"},\"glyph\":{\"id\":\"bcd6ddf4-f6ff-4007-943e-0dce45b9f4a8\",\"type\":\"Rect\"},\"hover_glyph\":null,\"nonselection_glyph\":null,\"selection_glyph\":null},\"id\":\"7c5b793e-b5d6-417f-9bb1-ea54f417146d\",\"type\":\"GlyphRenderer\"},{\"attributes\":{\"fill_alpha\":{\"field\":\"fill_alpha\"},\"fill_color\":{\"field\":\"color\"},\"height\":{\"field\":\"height\",\"units\":\"data\"},\"line_color\":{\"field\":\"line_color\"},\"width\":{\"field\":\"width\",\"units\":\"data\"},\"x\":{\"field\":\"x\"},\"y\":{\"field\":\"y\"}},\"id\":\"a6deec0c-65bc-42a9-afe2-d916a2b02654\",\"type\":\"Rect\"},{\"attributes\":{\"callback\":null,\"column_names\":[\"height\",\"line_color\",\"color\",\"y\",\"label\",\"x\",\"width\",\"line_alpha\",\"fill_alpha\"],\"data\":{\"chart_index\":[\"(91.992126, 93.991706]\"],\"color\":[\"#f22c40\"],\"fill_alpha\":[0.8],\"height\":[191.0],\"label\":[\"(91.992126, 93.991706]\"],\"line_alpha\":[1.0],\"line_color\":[\"black\"],\"width\":[1.9995804859201343],\"x\":[\"92.991916\"],\"y\":[95.5]}},\"id\":\"cf772f93-9cd3-4899-a36d-539aa3128cca\",\"type\":\"ColumnDataSource\"},{\"attributes\":{\"callback\":null,\"column_names\":[\"height\",\"line_color\",\"color\",\"y\",\"label\",\"x\",\"width\",\"line_alpha\",\"fill_alpha\"],\"data\":{\"chart_index\":[\"(26.127095, 27.777889]\"],\"color\":[\"#f22c40\"],\"fill_alpha\":[0.8],\"height\":[260.0],\"label\":[\"(26.127095, 27.777889]\"],\"line_alpha\":[1.0],\"line_color\":[\"black\"],\"width\":[1.6507939572147414],\"x\":[\"26.952492\"],\"y\":[130.0]}},\"id\":\"e773d1c1-9a91-4465-8c1c-fc71a486c00e\",\"type\":\"ColumnDataSource\"},{\"attributes\":{\"fill_alpha\":{\"field\":\"fill_alpha\"},\"fill_color\":{\"field\":\"color\"},\"height\":{\"field\":\"height\",\"units\":\"data\"},\"line_color\":{\"field\":\"line_color\"},\"width\":{\"field\":\"width\",\"units\":\"data\"},\"x\":{\"field\":\"x\"},\"y\":{\"field\":\"y\"}},\"id\":\"3745fbcf-2020-432a-ba96-bf3430eec2c2\",\"type\":\"Rect\"},{\"attributes\":{\"fill_alpha\":{\"field\":\"fill_alpha\"},\"fill_color\":{\"field\":\"color\"},\"height\":{\"field\":\"height\",\"units\":\"data\"},\"line_color\":{\"field\":\"line_color\"},\"width\":{\"field\":\"width\",\"units\":\"data\"},\"x\":{\"field\":\"x\"},\"y\":{\"field\":\"y\"}},\"id\":\"983e8cb1-44ff-4cc5-835b-1cf22c4928c6\",\"type\":\"Rect\"},{\"attributes\":{\"fill_alpha\":{\"field\":\"fill_alpha\"},\"fill_color\":{\"field\":\"color\"},\"height\":{\"field\":\"height\",\"units\":\"data\"},\"line_color\":{\"field\":\"line_color\"},\"width\":{\"field\":\"width\",\"units\":\"data\"},\"x\":{\"field\":\"x\"},\"y\":{\"field\":\"y\"}},\"id\":\"4e9876e8-b7de-4838-9bdb-9e1c334a2e7a\",\"type\":\"Rect\"},{\"attributes\":{\"data_source\":{\"id\":\"9532af21-a1bb-4773-ad24-1b1f3fa2c0bf\",\"type\":\"ColumnDataSource\"},\"glyph\":{\"id\":\"3a413b27-e44e-414b-9754-8a64a1b322f5\",\"type\":\"Rect\"},\"hover_glyph\":null,\"nonselection_glyph\":null,\"selection_glyph\":null},\"id\":\"a49996eb-d494-4f1f-a05e-e38d62745c14\",\"type\":\"GlyphRenderer\"},{\"attributes\":{\"fill_alpha\":{\"field\":\"fill_alpha\"},\"fill_color\":{\"field\":\"color\"},\"height\":{\"field\":\"height\",\"units\":\"data\"},\"line_color\":{\"field\":\"line_color\"},\"width\":{\"field\":\"width\",\"units\":\"data\"},\"x\":{\"field\":\"x\"},\"y\":{\"field\":\"y\"}},\"id\":\"f25a0ca2-eef2-4386-a0e6-1e2a46de61b3\",\"type\":\"Rect\"},{\"attributes\":{\"fill_alpha\":{\"field\":\"fill_alpha\"},\"fill_color\":{\"field\":\"color\"},\"height\":{\"field\":\"height\",\"units\":\"data\"},\"line_color\":{\"field\":\"line_color\"},\"width\":{\"field\":\"width\",\"units\":\"data\"},\"x\":{\"field\":\"x\"},\"y\":{\"field\":\"y\"}},\"id\":\"615e34c3-2856-4f79-bd61-5360206cd99d\",\"type\":\"Rect\"},{\"attributes\":{\"data_source\":{\"id\":\"57d5077c-1536-4169-9aec-706ff9060457\",\"type\":\"ColumnDataSource\"},\"glyph\":{\"id\":\"15f93d8c-546a-4334-a5c0-9c3f07c0cdc8\",\"type\":\"Rect\"},\"hover_glyph\":null,\"nonselection_glyph\":null,\"selection_glyph\":null},\"id\":\"716ebf82-3e41-46eb-b379-ce6ea3456004\",\"type\":\"GlyphRenderer\"},{\"attributes\":{\"overlay\":{\"id\":\"2c312845-8eb0-4ce1-9bd6-b59ccd5938ac\",\"type\":\"BoxAnnotation\"},\"plot\":{\"id\":\"9129a667-4e61-4c45-8c2b-bebd7acb11a8\",\"subtype\":\"Chart\",\"type\":\"Plot\"}},\"id\":\"3eaa668d-d085-4e68-8edf-189fcc747fb0\",\"type\":\"BoxZoomTool\"},{\"attributes\":{\"data_source\":{\"id\":\"89297409-146d-4692-81b2-ccab5689e0c2\",\"type\":\"ColumnDataSource\"},\"glyph\":{\"id\":\"05e1844b-859f-4623-8953-a6d66d4a6dce\",\"type\":\"Rect\"},\"hover_glyph\":null,\"nonselection_glyph\":null,\"selection_glyph\":null},\"id\":\"a55599db-7d74-4a05-83be-bf28bd57f76f\",\"type\":\"GlyphRenderer\"},{\"attributes\":{\"data_source\":{\"id\":\"9c770197-d3e0-41c8-a360-9550f3b9c645\",\"type\":\"ColumnDataSource\"},\"glyph\":{\"id\":\"44affc40-af65-436e-ab29-8af8ed968a11\",\"type\":\"Rect\"},\"hover_glyph\":null,\"nonselection_glyph\":null,\"selection_glyph\":null},\"id\":\"6d98e4bd-146d-4488-9a00-e7109a0b05a7\",\"type\":\"GlyphRenderer\"},{\"attributes\":{\"callback\":null,\"column_names\":[\"height\",\"line_color\",\"color\",\"y\",\"label\",\"x\",\"width\",\"line_alpha\",\"fill_alpha\"],\"data\":{\"chart_index\":[\"(431.691283, 449.678224]\"],\"color\":[\"#f22c40\"],\"fill_alpha\":[0.8],\"height\":[24.0],\"label\":[\"(431.691283, 449.678224]\"],\"line_alpha\":[1.0],\"line_color\":[\"black\"],\"width\":[17.98694043395591],\"x\":[\"440.6847535\"],\"y\":[12.0]}},\"id\":\"a2c9ec95-fe93-4cd4-8965-f8a1990b77a7\",\"type\":\"ColumnDataSource\"},{\"attributes\":{\"callback\":null,\"column_names\":[\"height\",\"line_color\",\"color\",\"y\",\"label\",\"x\",\"width\",\"line_alpha\",\"fill_alpha\"],\"data\":{\"chart_index\":[\"(143.900237, 161.887177]\"],\"color\":[\"#f22c40\"],\"fill_alpha\":[0.8],\"height\":[393.0],\"label\":[\"(143.900237, 161.887177]\"],\"line_alpha\":[1.0],\"line_color\":[\"black\"],\"width\":[17.98694043395591],\"x\":[\"152.893707\"],\"y\":[196.5]}},\"id\":\"9532af21-a1bb-4773-ad24-1b1f3fa2c0bf\",\"type\":\"ColumnDataSource\"},{\"attributes\":{\"fill_alpha\":{\"field\":\"fill_alpha\"},\"fill_color\":{\"field\":\"color\"},\"height\":{\"field\":\"height\",\"units\":\"data\"},\"line_color\":{\"field\":\"line_color\"},\"width\":{\"field\":\"width\",\"units\":\"data\"},\"x\":{\"field\":\"x\"},\"y\":{\"field\":\"y\"}},\"id\":\"9a9ed93f-1e2d-41b3-b386-bb695b26afaf\",\"type\":\"Rect\"},{\"attributes\":{\"fill_alpha\":{\"field\":\"fill_alpha\"},\"fill_color\":{\"field\":\"color\"},\"height\":{\"field\":\"height\",\"units\":\"data\"},\"line_color\":{\"field\":\"line_color\"},\"width\":{\"field\":\"width\",\"units\":\"data\"},\"x\":{\"field\":\"x\"},\"y\":{\"field\":\"y\"}},\"id\":\"43de89bc-f5b5-4f6d-82d8-c8be087cf9a9\",\"type\":\"Rect\"},{\"attributes\":{\"data_source\":{\"id\":\"9caf7f11-4f6a-49d9-b654-c1fc0911e9cf\",\"type\":\"ColumnDataSource\"},\"glyph\":{\"id\":\"64afd3a3-2567-41ba-8ae9-303baf8bbe0d\",\"type\":\"Rect\"},\"hover_glyph\":null,\"nonselection_glyph\":null,\"selection_glyph\":null},\"id\":\"660f4a6e-c844-4db9-9d8b-defa8b0dba6e\",\"type\":\"GlyphRenderer\"},{\"attributes\":{\"callback\":null,\"column_names\":[\"height\",\"line_color\",\"color\",\"y\",\"label\",\"x\",\"width\",\"line_alpha\",\"fill_alpha\"],\"data\":{\"chart_index\":[\"(19.523919, 21.174713]\"],\"color\":[\"#f22c40\"],\"fill_alpha\":[0.8],\"height\":[93.0],\"label\":[\"(19.523919, 21.174713]\"],\"line_alpha\":[1.0],\"line_color\":[\"black\"],\"width\":[1.650793957214745],\"x\":[\"20.349316\"],\"y\":[46.5]}},\"id\":\"bd8ca7bc-bfec-4b0c-93f8-5017cec5279c\",\"type\":\"ColumnDataSource\"},{\"attributes\":{\"fill_alpha\":{\"field\":\"fill_alpha\"},\"fill_color\":{\"field\":\"color\"},\"height\":{\"field\":\"height\",\"units\":\"data\"},\"line_color\":{\"field\":\"line_color\"},\"width\":{\"field\":\"width\",\"units\":\"data\"},\"x\":{\"field\":\"x\"},\"y\":{\"field\":\"y\"}},\"id\":\"ef51b194-f017-4dc3-8ee1-1df826ab83ae\",\"type\":\"Rect\"},{\"attributes\":{\"data_source\":{\"id\":\"510428aa-612b-45a8-9608-4fa84bc89947\",\"type\":\"ColumnDataSource\"},\"glyph\":{\"id\":\"3b6f566d-d047-4e75-a5b7-6ff62bb17954\",\"type\":\"Rect\"},\"hover_glyph\":null,\"nonselection_glyph\":null,\"selection_glyph\":null},\"id\":\"e61ce2c4-ded1-489d-9d57-1919f4ff8ace\",\"type\":\"GlyphRenderer\"},{\"attributes\":{\"data_source\":{\"id\":\"ea74330c-d67c-4b3d-a0aa-2b1d37ed09b9\",\"type\":\"ColumnDataSource\"},\"glyph\":{\"id\":\"009dc954-e05c-4569-817c-fd956f0f37d5\",\"type\":\"Rect\"},\"hover_glyph\":null,\"nonselection_glyph\":null,\"selection_glyph\":null},\"id\":\"4f8e4e38-3f3a-43a2-bd55-107a01f16035\",\"type\":\"GlyphRenderer\"},{\"attributes\":{\"data_source\":{\"id\":\"09ae21f5-ed77-4234-8ffb-52ed53f901cf\",\"type\":\"ColumnDataSource\"},\"glyph\":{\"id\":\"c4e065e7-cc51-4a21-9c39-a0128ae736b0\",\"type\":\"Rect\"},\"hover_glyph\":null,\"nonselection_glyph\":null,\"selection_glyph\":null},\"id\":\"120c87f9-028c-424a-bad9-cf248dfd810a\",\"type\":\"GlyphRenderer\"},{\"attributes\":{\"data_source\":{\"id\":\"9fd6a09e-b68a-442a-a345-dc0d97a530b0\",\"type\":\"ColumnDataSource\"},\"glyph\":{\"id\":\"b34c75da-030f-4da7-9f2d-6bb702e8b6f4\",\"type\":\"Rect\"},\"hover_glyph\":null,\"nonselection_glyph\":null,\"selection_glyph\":null},\"id\":\"c346b5ba-f9a5-44d5-8382-2f408fbe6089\",\"type\":\"GlyphRenderer\"},{\"attributes\":{\"data_source\":{\"id\":\"c0f24551-1d88-43ec-b64f-28061bfb3258\",\"type\":\"ColumnDataSource\"},\"glyph\":{\"id\":\"b9e154a7-5b38-4b0d-bfcd-d43da1c56510\",\"type\":\"Rect\"},\"hover_glyph\":null,\"nonselection_glyph\":null,\"selection_glyph\":null},\"id\":\"73f68a21-e066-49f8-aa47-5ba851b79d03\",\"type\":\"GlyphRenderer\"},{\"attributes\":{\"data_source\":{\"id\":\"2fb3f63d-38a0-44f3-b138-96b73fd5537d\",\"type\":\"ColumnDataSource\"},\"glyph\":{\"id\":\"3f3e1591-86a5-4cb5-b066-8ecc9f1c76ba\",\"type\":\"Rect\"},\"hover_glyph\":null,\"nonselection_glyph\":null,\"selection_glyph\":null},\"id\":\"c2e70395-13e8-4bb3-b9b7-2414ae91c4c4\",\"type\":\"GlyphRenderer\"},{\"attributes\":{\"data_source\":{\"id\":\"d23a895b-53dc-40f7-8ca4-761966b32812\",\"type\":\"ColumnDataSource\"},\"glyph\":{\"id\":\"67c0592a-276c-4d7c-8d67-116139c1b8ce\",\"type\":\"Rect\"},\"hover_glyph\":null,\"nonselection_glyph\":null,\"selection_glyph\":null},\"id\":\"efafc50d-a218-4ded-b5a9-2bc1445e7796\",\"type\":\"GlyphRenderer\"},{\"attributes\":{\"data_source\":{\"id\":\"ce95b277-fd45-484d-be70-4b0fc58185c8\",\"type\":\"ColumnDataSource\"},\"glyph\":{\"id\":\"676a6988-4b28-4150-862a-b3bf0f429cc4\",\"type\":\"Rect\"},\"hover_glyph\":null,\"nonselection_glyph\":null,\"selection_glyph\":null},\"id\":\"7466370a-6bdd-4276-9b1f-7ae76a6682c1\",\"type\":\"GlyphRenderer\"},{\"attributes\":{\"fill_alpha\":{\"field\":\"fill_alpha\"},\"fill_color\":{\"field\":\"color\"},\"height\":{\"field\":\"height\",\"units\":\"data\"},\"line_color\":{\"field\":\"line_color\"},\"width\":{\"field\":\"width\",\"units\":\"data\"},\"x\":{\"field\":\"x\"},\"y\":{\"field\":\"y\"}},\"id\":\"dbac5fda-571c-4ae5-ae4c-3810a622290a\",\"type\":\"Rect\"},{\"attributes\":{\"data_source\":{\"id\":\"1ad41753-c4c9-46f3-87bf-80ced6afe019\",\"type\":\"ColumnDataSource\"},\"glyph\":{\"id\":\"d1553851-01ea-444d-8b82-25bb3aa5ded7\",\"type\":\"Rect\"},\"hover_glyph\":null,\"nonselection_glyph\":null,\"selection_glyph\":null},\"id\":\"ce211565-39a2-44b9-8ac0-fc7a7f6e9f8d\",\"type\":\"GlyphRenderer\"},{\"attributes\":{\"callback\":null,\"column_names\":[\"height\",\"line_color\",\"color\",\"y\",\"label\",\"x\",\"width\",\"line_alpha\",\"fill_alpha\"],\"data\":{\"chart_index\":[\"[-1.936403, -0.285609]\"],\"color\":[\"#f22c40\"],\"fill_alpha\":[0.8],\"height\":[1.0],\"label\":[\"[-1.936403, -0.285609]\"],\"line_alpha\":[1.0],\"line_color\":[\"black\"],\"width\":[1.6507939572147436],\"x\":[\"-1.1110060000000002\"],\"y\":[0.5]}},\"id\":\"77782a57-2570-4733-a051-3c040094f0a8\",\"type\":\"ColumnDataSource\"},{\"attributes\":{\"callback\":null,\"column_names\":[\"height\",\"line_color\",\"color\",\"y\",\"label\",\"x\",\"width\",\"line_alpha\",\"fill_alpha\"],\"data\":{\"chart_index\":[\"(21.174713, 22.825507]\"],\"color\":[\"#f22c40\"],\"fill_alpha\":[0.8],\"height\":[123.0],\"label\":[\"(21.174713, 22.825507]\"],\"line_alpha\":[1.0],\"line_color\":[\"black\"],\"width\":[1.6507939572147414],\"x\":[\"22.00011\"],\"y\":[61.5]}},\"id\":\"d2d11013-dd2f-45bd-905c-0ee1b35eb2f7\",\"type\":\"ColumnDataSource\"},{\"attributes\":{\"callback\":null,\"column_names\":[\"height\",\"line_color\",\"color\",\"y\",\"label\",\"x\",\"width\",\"line_alpha\",\"fill_alpha\"],\"data\":{\"chart_index\":[\"(60.793768, 62.444562]\"],\"color\":[\"#f22c40\"],\"fill_alpha\":[0.8],\"height\":[58.0],\"label\":[\"(60.793768, 62.444562]\"],\"line_alpha\":[1.0],\"line_color\":[\"black\"],\"width\":[1.6507939572147379],\"x\":[\"61.619164999999995\"],\"y\":[29.0]}},\"id\":\"d9379f7a-8a04-4381-a988-df8aa52a5c83\",\"type\":\"ColumnDataSource\"},{\"attributes\":{\"data_source\":{\"id\":\"4fd9a8b1-f66f-4b75-97c4-b3fbe7bfe31a\",\"type\":\"ColumnDataSource\"},\"glyph\":{\"id\":\"9f74ccf7-a11f-451b-a6c5-99f6c7b96d2d\",\"type\":\"Rect\"},\"hover_glyph\":null,\"nonselection_glyph\":null,\"selection_glyph\":null},\"id\":\"b51d8efc-690c-4662-85b4-a5f772d38b8e\",\"type\":\"GlyphRenderer\"},{\"attributes\":{\"callback\":null,\"column_names\":[\"height\",\"line_color\",\"color\",\"y\",\"label\",\"x\",\"width\",\"line_alpha\",\"fill_alpha\"],\"data\":{\"chart_index\":[\"(61.998419, 63.997999]\"],\"color\":[\"#f22c40\"],\"fill_alpha\":[0.8],\"height\":[190.0],\"label\":[\"(61.998419, 63.997999]\"],\"line_alpha\":[1.0],\"line_color\":[\"black\"],\"width\":[1.9995804859201343],\"x\":[\"62.998209\"],\"y\":[95.0]}},\"id\":\"a63204b8-e504-4f48-8b0c-5ec5cf94bca7\",\"type\":\"ColumnDataSource\"},{\"attributes\":{\"fill_alpha\":{\"field\":\"fill_alpha\"},\"fill_color\":{\"field\":\"color\"},\"height\":{\"field\":\"height\",\"units\":\"data\"},\"line_color\":{\"field\":\"line_color\"},\"width\":{\"field\":\"width\",\"units\":\"data\"},\"x\":{\"field\":\"x\"},\"y\":{\"field\":\"y\"}},\"id\":\"65e70d1c-d346-4ceb-bd59-595a44eb02ca\",\"type\":\"Rect\"},{\"attributes\":{\"data_source\":{\"id\":\"b402493b-2211-4a8c-9aa8-4229552e0a8a\",\"type\":\"ColumnDataSource\"},\"glyph\":{\"id\":\"58a5c354-02a6-425f-9bd2-d3371bffa264\",\"type\":\"Rect\"},\"hover_glyph\":null,\"nonselection_glyph\":null,\"selection_glyph\":null},\"id\":\"a0b25aea-2169-41d9-b621-3d2c87a52022\",\"type\":\"GlyphRenderer\"},{\"attributes\":{\"callback\":null,\"column_names\":[\"height\",\"line_color\",\"color\",\"y\",\"label\",\"x\",\"width\",\"line_alpha\",\"fill_alpha\"],\"data\":{\"chart_index\":[\"(32.004711, 34.004292]\"],\"color\":[\"#f22c40\"],\"fill_alpha\":[0.8],\"height\":[210.0],\"label\":[\"(32.004711, 34.004292]\"],\"line_alpha\":[1.0],\"line_color\":[\"black\"],\"width\":[1.9995804859201343],\"x\":[\"33.0045015\"],\"y\":[105.0]}},\"id\":\"57b4b399-4bfd-4a76-8aef-d6363256b50f\",\"type\":\"ColumnDataSource\"},{\"attributes\":{\"fill_alpha\":{\"field\":\"fill_alpha\"},\"fill_color\":{\"field\":\"color\"},\"height\":{\"field\":\"height\",\"units\":\"data\"},\"line_color\":{\"field\":\"line_color\"},\"width\":{\"field\":\"width\",\"units\":\"data\"},\"x\":{\"field\":\"x\"},\"y\":{\"field\":\"y\"}},\"id\":\"bf76e645-41e5-4b71-8371-886c6781d7cc\",\"type\":\"Rect\"},{\"attributes\":{\"fill_alpha\":{\"field\":\"fill_alpha\"},\"fill_color\":{\"field\":\"color\"},\"height\":{\"field\":\"height\",\"units\":\"data\"},\"line_color\":{\"field\":\"line_color\"},\"width\":{\"field\":\"width\",\"units\":\"data\"},\"x\":{\"field\":\"x\"},\"y\":{\"field\":\"y\"}},\"id\":\"4f1122e9-814f-4061-bb88-00e0512260e7\",\"type\":\"Rect\"},{\"attributes\":{\"fill_alpha\":{\"field\":\"fill_alpha\"},\"fill_color\":{\"field\":\"color\"},\"height\":{\"field\":\"height\",\"units\":\"data\"},\"line_color\":{\"field\":\"line_color\"},\"width\":{\"field\":\"width\",\"units\":\"data\"},\"x\":{\"field\":\"x\"},\"y\":{\"field\":\"y\"}},\"id\":\"037818f8-2bd1-4175-8253-3af4f723bb3d\",\"type\":\"Rect\"},{\"attributes\":{\"data_source\":{\"id\":\"4fbdd5e7-ddd2-4cd2-add1-8ae011258af8\",\"type\":\"ColumnDataSource\"},\"glyph\":{\"id\":\"ddb5a154-714e-4af3-ab86-6c3b16524d71\",\"type\":\"Rect\"},\"hover_glyph\":null,\"nonselection_glyph\":null,\"selection_glyph\":null},\"id\":\"daa469a3-84a0-41d9-8427-ab76ad878e89\",\"type\":\"GlyphRenderer\"},{\"attributes\":{\"callback\":null,\"column_names\":[\"height\",\"line_color\",\"color\",\"y\",\"label\",\"x\",\"width\",\"line_alpha\",\"fill_alpha\"],\"data\":{\"chart_index\":[\"(485.652105, 503.639045]\"],\"color\":[\"#f22c40\"],\"fill_alpha\":[0.8],\"height\":[9.0],\"label\":[\"(485.652105, 503.639045]\"],\"line_alpha\":[1.0],\"line_color\":[\"black\"],\"width\":[17.98694043395585],\"x\":[\"494.645575\"],\"y\":[4.5]}},\"id\":\"6ea391b3-846c-4d7e-8ca9-a4d35a3ea275\",\"type\":\"ColumnDataSource\"},{\"attributes\":{\"fill_alpha\":{\"field\":\"fill_alpha\"},\"fill_color\":{\"field\":\"color\"},\"height\":{\"field\":\"height\",\"units\":\"data\"},\"line_color\":{\"field\":\"line_color\"},\"width\":{\"field\":\"width\",\"units\":\"data\"},\"x\":{\"field\":\"x\"},\"y\":{\"field\":\"y\"}},\"id\":\"94aff68f-fb3d-478b-a1bb-a126f045a899\",\"type\":\"Rect\"},{\"attributes\":{\"callback\":null,\"column_names\":[\"height\",\"line_color\",\"color\",\"y\",\"label\",\"x\",\"width\",\"line_alpha\",\"fill_alpha\"],\"data\":{\"chart_index\":[\"(467.665164, 485.652105]\"],\"color\":[\"#f22c40\"],\"fill_alpha\":[0.8],\"height\":[17.0],\"label\":[\"(467.665164, 485.652105]\"],\"line_alpha\":[1.0],\"line_color\":[\"black\"],\"width\":[17.98694043395591],\"x\":[\"476.6586345\"],\"y\":[8.5]}},\"id\":\"e760a7b6-5db9-4fb3-88d2-0e96170d11b5\",\"type\":\"ColumnDataSource\"},{\"attributes\":{\"fill_alpha\":{\"field\":\"fill_alpha\"},\"fill_color\":{\"field\":\"color\"},\"height\":{\"field\":\"height\",\"units\":\"data\"},\"line_color\":{\"field\":\"line_color\"},\"width\":{\"field\":\"width\",\"units\":\"data\"},\"x\":{\"field\":\"x\"},\"y\":{\"field\":\"y\"}},\"id\":\"4df5cc45-978b-4201-ac61-6eea2f5e1c53\",\"type\":\"Rect\"},{\"attributes\":{\"callback\":null,\"column_names\":[\"height\",\"line_color\",\"color\",\"y\",\"label\",\"x\",\"width\",\"line_alpha\",\"fill_alpha\"],\"data\":{\"chart_index\":[\"(76.264936, 78.241916]\"],\"color\":[\"#f22c40\"],\"fill_alpha\":[0.8],\"height\":[302.0],\"label\":[\"(76.264936, 78.241916]\"],\"line_alpha\":[1.0],\"line_color\":[\"black\"],\"width\":[1.976980165044921],\"x\":[\"77.253426\"],\"y\":[151.0]}},\"id\":\"c2b8d23c-36ea-49c0-b7f0-92c1bb16521c\",\"type\":\"ColumnDataSource\"},{\"attributes\":{\"fill_alpha\":{\"field\":\"fill_alpha\"},\"fill_color\":{\"field\":\"color\"},\"height\":{\"field\":\"height\",\"units\":\"data\"},\"line_color\":{\"field\":\"line_color\"},\"width\":{\"field\":\"width\",\"units\":\"data\"},\"x\":{\"field\":\"x\"},\"y\":{\"field\":\"y\"}},\"id\":\"74859115-7363-433f-a4aa-0a769726d673\",\"type\":\"Rect\"},{\"attributes\":{\"data_source\":{\"id\":\"f7a99e8d-3b4b-4caf-8b22-8f59652c88ea\",\"type\":\"ColumnDataSource\"},\"glyph\":{\"id\":\"8e797bbe-5f6a-4e8f-a222-61ba4bc197ab\",\"type\":\"Rect\"},\"hover_glyph\":null,\"nonselection_glyph\":null,\"selection_glyph\":null},\"id\":\"924e7902-669f-4db5-b841-d377c13ba777\",\"type\":\"GlyphRenderer\"},{\"attributes\":{\"callback\":null,\"column_names\":[\"height\",\"line_color\",\"color\",\"y\",\"label\",\"x\",\"width\",\"line_alpha\",\"fill_alpha\"],\"data\":{\"chart_index\":[\"(269.808820, 287.795760]\"],\"color\":[\"#f22c40\"],\"fill_alpha\":[0.8],\"height\":[120.0],\"label\":[\"(269.808820, 287.795760]\"],\"line_alpha\":[1.0],\"line_color\":[\"black\"],\"width\":[17.98694043395591],\"x\":[\"278.80228999999997\"],\"y\":[60.0]}},\"id\":\"d7192004-297e-414d-8af5-7820b588277f\",\"type\":\"ColumnDataSource\"},{\"attributes\":{\"callback\":null,\"column_names\":[\"height\",\"line_color\",\"color\",\"y\",\"label\",\"x\",\"width\",\"line_alpha\",\"fill_alpha\"],\"data\":{\"chart_index\":[\"(39.333446, 40.984240]\"],\"color\":[\"#f22c40\"],\"fill_alpha\":[0.8],\"height\":[614.0],\"label\":[\"(39.333446, 40.984240]\"],\"line_alpha\":[1.0],\"line_color\":[\"black\"],\"width\":[1.650793957214745],\"x\":[\"40.158843000000005\"],\"y\":[307.0]}},\"id\":\"a77904c7-70ec-486e-b37c-67edc7c5c519\",\"type\":\"ColumnDataSource\"},{\"attributes\":{\"fill_alpha\":{\"field\":\"fill_alpha\"},\"fill_color\":{\"field\":\"color\"},\"height\":{\"field\":\"height\",\"units\":\"data\"},\"line_color\":{\"field\":\"line_color\"},\"width\":{\"field\":\"width\",\"units\":\"data\"},\"x\":{\"field\":\"x\"},\"y\":{\"field\":\"y\"}},\"id\":\"5af9ed23-9d81-4439-b37e-61a6b6959a9e\",\"type\":\"Rect\"},{\"attributes\":{\"fill_alpha\":{\"field\":\"fill_alpha\"},\"fill_color\":{\"field\":\"color\"},\"height\":{\"field\":\"height\",\"units\":\"data\"},\"line_color\":{\"field\":\"line_color\"},\"width\":{\"field\":\"width\",\"units\":\"data\"},\"x\":{\"field\":\"x\"},\"y\":{\"field\":\"y\"}},\"id\":\"c3feb789-3a32-468a-8805-02e5a4cc83a1\",\"type\":\"Rect\"},{\"attributes\":{\"plot\":{\"id\":\"9129a667-4e61-4c45-8c2b-bebd7acb11a8\",\"subtype\":\"Chart\",\"type\":\"Plot\"}},\"id\":\"bfe9d560-b6cf-44ab-86b5-018bd2b208a6\",\"type\":\"ResetTool\"},{\"attributes\":{\"data_source\":{\"id\":\"96e392a0-813c-4233-b1ea-4a6440ec47ef\",\"type\":\"ColumnDataSource\"},\"glyph\":{\"id\":\"c784bc0f-1961-426d-b85f-e6e2c7f55d41\",\"type\":\"Rect\"},\"hover_glyph\":null,\"nonselection_glyph\":null,\"selection_glyph\":null},\"id\":\"370980fb-0635-42e4-a116-da64a520fe82\",\"type\":\"GlyphRenderer\"},{\"attributes\":{\"fill_alpha\":{\"field\":\"fill_alpha\"},\"fill_color\":{\"field\":\"color\"},\"height\":{\"field\":\"height\",\"units\":\"data\"},\"line_color\":{\"field\":\"line_color\"},\"width\":{\"field\":\"width\",\"units\":\"data\"},\"x\":{\"field\":\"x\"},\"y\":{\"field\":\"y\"}},\"id\":\"6302392a-3278-45ff-b5a4-1726efc1fb28\",\"type\":\"Rect\"},{\"attributes\":{\"callback\":null,\"column_names\":[\"height\",\"line_color\",\"color\",\"y\",\"label\",\"x\",\"width\",\"line_alpha\",\"fill_alpha\"],\"data\":{\"chart_index\":[\"(22.825507, 24.476301]\"],\"color\":[\"#f22c40\"],\"fill_alpha\":[0.8],\"height\":[168.0],\"label\":[\"(22.825507, 24.476301]\"],\"line_alpha\":[1.0],\"line_color\":[\"black\"],\"width\":[1.650793957214745],\"x\":[\"23.650904\"],\"y\":[84.0]}},\"id\":\"f4d26d2f-4d2c-4d10-b484-496e3ec9fd0c\",\"type\":\"ColumnDataSource\"},{\"attributes\":{\"data_source\":{\"id\":\"5e3a575f-8039-4e7c-9fea-c29dd09f0f77\",\"type\":\"ColumnDataSource\"},\"glyph\":{\"id\":\"70e7d0a9-efff-4112-8ee8-e74ef13aa040\",\"type\":\"Rect\"},\"hover_glyph\":null,\"nonselection_glyph\":null,\"selection_glyph\":null},\"id\":\"2e685ae9-cfce-42ab-9b6e-8027b6cd231f\",\"type\":\"GlyphRenderer\"},{\"attributes\":{\"callback\":null,\"column_names\":[\"height\",\"line_color\",\"color\",\"y\",\"label\",\"x\",\"width\",\"line_alpha\",\"fill_alpha\"],\"data\":{\"chart_index\":[\"(46.610233, 48.587213]\"],\"color\":[\"#f22c40\"],\"fill_alpha\":[0.8],\"height\":[240.0],\"label\":[\"(46.610233, 48.587213]\"],\"line_alpha\":[1.0],\"line_color\":[\"black\"],\"width\":[1.9769801650449281],\"x\":[\"47.598723\"],\"y\":[120.0]}},\"id\":\"ac7718f7-2043-465d-8066-aecbe8f5c979\",\"type\":\"ColumnDataSource\"},{\"attributes\":{\"active_drag\":\"auto\",\"active_scroll\":\"auto\",\"active_tap\":\"auto\",\"tools\":[{\"id\":\"1c97f2a5-a613-4f31-98de-42a6ce4f168e\",\"type\":\"PanTool\"},{\"id\":\"5d3a2416-a442-47a5-b441-542e3a779dd1\",\"type\":\"WheelZoomTool\"},{\"id\":\"40ee6a6c-d29b-45c0-b2c0-9521068ae66d\",\"type\":\"BoxZoomTool\"},{\"id\":\"81f36cdb-026a-4bb5-ab7e-288aa0386dce\",\"type\":\"SaveTool\"},{\"id\":\"a1c0a30a-8755-48b5-9899-79a4d2ae7bad\",\"type\":\"ResetTool\"},{\"id\":\"36e6f2e2-fb07-406f-8929-902a9b013180\",\"type\":\"HelpTool\"}]},\"id\":\"c42f08cd-b011-4eec-9e69-6e5bc3a9d0bb\",\"type\":\"Toolbar\"},{\"attributes\":{\"callback\":null,\"column_names\":[\"height\",\"line_color\",\"color\",\"y\",\"label\",\"x\",\"width\",\"line_alpha\",\"fill_alpha\"],\"data\":{\"chart_index\":[\"(99.990448, 101.990028]\"],\"color\":[\"#f22c40\"],\"fill_alpha\":[0.8],\"height\":[219.0],\"label\":[\"(99.990448, 101.990028]\"],\"line_alpha\":[1.0],\"line_color\":[\"black\"],\"width\":[1.9995804859201343],\"x\":[\"100.990238\"],\"y\":[109.5]}},\"id\":\"89ed4f83-6d30-4fc8-b30e-c9191f83d52c\",\"type\":\"ColumnDataSource\"},{\"attributes\":{\"fill_alpha\":{\"field\":\"fill_alpha\"},\"fill_color\":{\"field\":\"color\"},\"height\":{\"field\":\"height\",\"units\":\"data\"},\"line_color\":{\"field\":\"line_color\"},\"width\":{\"field\":\"width\",\"units\":\"data\"},\"x\":{\"field\":\"x\"},\"y\":{\"field\":\"y\"}},\"id\":\"745b7c79-daaa-449c-8580-ac732d85eaf2\",\"type\":\"Rect\"},{\"attributes\":{\"plot\":null,\"text\":null},\"id\":\"05b0e6c6-6fff-41aa-924f-0d5e23e81902\",\"type\":\"Title\"},{\"attributes\":{\"callback\":null,\"column_names\":[\"height\",\"line_color\",\"color\",\"y\",\"label\",\"x\",\"width\",\"line_alpha\",\"fill_alpha\"],\"data\":{\"chart_index\":[\"(52.539798, 54.190592]\"],\"color\":[\"#f22c40\"],\"fill_alpha\":[0.8],\"height\":[274.0],\"label\":[\"(52.539798, 54.190592]\"],\"line_alpha\":[1.0],\"line_color\":[\"black\"],\"width\":[1.650793957214745],\"x\":[\"53.365195\"],\"y\":[137.0]}},\"id\":\"3275444e-30f1-44e7-a28d-4afd1f313d3c\",\"type\":\"ColumnDataSource\"},{\"attributes\":{\"fill_alpha\":{\"field\":\"fill_alpha\"},\"fill_color\":{\"field\":\"color\"},\"height\":{\"field\":\"height\",\"units\":\"data\"},\"line_color\":{\"field\":\"line_color\"},\"width\":{\"field\":\"width\",\"units\":\"data\"},\"x\":{\"field\":\"x\"},\"y\":{\"field\":\"y\"}},\"id\":\"5d029078-51de-43a6-958a-928a08db9c03\",\"type\":\"Rect\"},{\"attributes\":{\"callback\":null,\"column_names\":[\"height\",\"line_color\",\"color\",\"y\",\"label\",\"x\",\"width\",\"line_alpha\",\"fill_alpha\"],\"data\":{\"chart_index\":[\"(809.417033, 827.403973]\"],\"color\":[\"#f22c40\"],\"fill_alpha\":[0.8],\"height\":[0.0],\"label\":[\"(809.417033, 827.403973]\"],\"line_alpha\":[1.0],\"line_color\":[\"black\"],\"width\":[17.98694043395585],\"x\":[\"818.410503\"],\"y\":[0.0]}},\"id\":\"f04e2faa-6d2f-4531-98cd-5522150bea7b\",\"type\":\"ColumnDataSource\"},{\"attributes\":{\"callback\":null,\"column_names\":[\"height\",\"line_color\",\"color\",\"y\",\"label\",\"x\",\"width\",\"line_alpha\",\"fill_alpha\"],\"data\":{\"chart_index\":[\"(69.047738, 70.698532]\"],\"color\":[\"#f22c40\"],\"fill_alpha\":[0.8],\"height\":[9.0],\"label\":[\"(69.047738, 70.698532]\"],\"line_alpha\":[1.0],\"line_color\":[\"black\"],\"width\":[1.650793957214745],\"x\":[\"69.87313499999999\"],\"y\":[4.5]}},\"id\":\"a67924d4-8e1c-44e9-9be9-d8495dab8d6a\",\"type\":\"ColumnDataSource\"},{\"attributes\":{\"callback\":null,\"column_names\":[\"height\",\"line_color\",\"color\",\"y\",\"label\",\"x\",\"width\",\"line_alpha\",\"fill_alpha\"],\"data\":{\"chart_index\":[\"(99.988698, 101.965678]\"],\"color\":[\"#f22c40\"],\"fill_alpha\":[0.8],\"height\":[192.0],\"label\":[\"(99.988698, 101.965678]\"],\"line_alpha\":[1.0],\"line_color\":[\"black\"],\"width\":[1.976980165044921],\"x\":[\"100.977188\"],\"y\":[96.0]}},\"id\":\"09ae21f5-ed77-4234-8ffb-52ed53f901cf\",\"type\":\"ColumnDataSource\"},{\"attributes\":{\"plot\":{\"id\":\"9129a667-4e61-4c45-8c2b-bebd7acb11a8\",\"subtype\":\"Chart\",\"type\":\"Plot\"}},\"id\":\"a00aa37d-11b0-4911-a407-d4c9549f2efa\",\"type\":\"HelpTool\"},{\"attributes\":{\"callback\":null,\"column_names\":[\"height\",\"line_color\",\"color\",\"y\",\"label\",\"x\",\"width\",\"line_alpha\",\"fill_alpha\"],\"data\":{\"chart_index\":[\"(62.444562, 64.095356]\"],\"color\":[\"#f22c40\"],\"fill_alpha\":[0.8],\"height\":[44.0],\"label\":[\"(62.444562, 64.095356]\"],\"line_alpha\":[1.0],\"line_color\":[\"black\"],\"width\":[1.650793957214745],\"x\":[\"63.269959\"],\"y\":[22.0]}},\"id\":\"9fd6a09e-b68a-442a-a345-dc0d97a530b0\",\"type\":\"ColumnDataSource\"},{\"attributes\":{\"data_source\":{\"id\":\"43f0b3ae-6f10-4f80-b0bb-1ee47a4c290f\",\"type\":\"ColumnDataSource\"},\"glyph\":{\"id\":\"86afc245-7d92-484c-b4a0-021fc0e8de7b\",\"type\":\"Rect\"},\"hover_glyph\":null,\"nonselection_glyph\":null,\"selection_glyph\":null},\"id\":\"f5f2ad6a-b96a-4b89-9248-773138aada20\",\"type\":\"GlyphRenderer\"},{\"attributes\":{\"callback\":null,\"column_names\":[\"height\",\"line_color\",\"color\",\"y\",\"label\",\"x\",\"width\",\"line_alpha\",\"fill_alpha\"],\"data\":{\"chart_index\":[\"(215.847998, 233.834939]\"],\"color\":[\"#f22c40\"],\"fill_alpha\":[0.8],\"height\":[169.0],\"label\":[\"(215.847998, 233.834939]\"],\"line_alpha\":[1.0],\"line_color\":[\"black\"],\"width\":[17.98694043395591],\"x\":[\"224.8414685\"],\"y\":[84.5]}},\"id\":\"360205eb-fe5d-4eff-b6d7-dc4c756e9dfc\",\"type\":\"ColumnDataSource\"},{\"attributes\":{\"fill_alpha\":{\"field\":\"fill_alpha\"},\"fill_color\":{\"field\":\"color\"},\"height\":{\"field\":\"height\",\"units\":\"data\"},\"line_color\":{\"field\":\"line_color\"},\"width\":{\"field\":\"width\",\"units\":\"data\"},\"x\":{\"field\":\"x\"},\"y\":{\"field\":\"y\"}},\"id\":\"b014c042-79a1-4efa-afed-a0cfc30c8d99\",\"type\":\"Rect\"},{\"attributes\":{\"fill_alpha\":{\"field\":\"fill_alpha\"},\"fill_color\":{\"field\":\"color\"},\"height\":{\"field\":\"height\",\"units\":\"data\"},\"line_color\":{\"field\":\"line_color\"},\"width\":{\"field\":\"width\",\"units\":\"data\"},\"x\":{\"field\":\"x\"},\"y\":{\"field\":\"y\"}},\"id\":\"62a0c1f1-1678-446a-a235-7bb57686c2c8\",\"type\":\"Rect\"},{\"attributes\":{\"callback\":null,\"column_names\":[\"height\",\"line_color\",\"color\",\"y\",\"label\",\"x\",\"width\",\"line_alpha\",\"fill_alpha\"],\"data\":{\"chart_index\":[\"(97.990867, 99.990448]\"],\"color\":[\"#f22c40\"],\"fill_alpha\":[0.8],\"height\":[212.0],\"label\":[\"(97.990867, 99.990448]\"],\"line_alpha\":[1.0],\"line_color\":[\"black\"],\"width\":[1.9995804859201343],\"x\":[\"98.9906575\"],\"y\":[106.0]}},\"id\":\"510428aa-612b-45a8-9608-4fa84bc89947\",\"type\":\"ColumnDataSource\"},{\"attributes\":{\"fill_alpha\":{\"field\":\"fill_alpha\"},\"fill_color\":{\"field\":\"color\"},\"height\":{\"field\":\"height\",\"units\":\"data\"},\"line_color\":{\"field\":\"line_color\"},\"width\":{\"field\":\"width\",\"units\":\"data\"},\"x\":{\"field\":\"x\"},\"y\":{\"field\":\"y\"}},\"id\":\"b385f7a1-2a19-403b-82a2-2bd14caad745\",\"type\":\"Rect\"},{\"attributes\":{\"fill_alpha\":{\"field\":\"fill_alpha\"},\"fill_color\":{\"field\":\"color\"},\"height\":{\"field\":\"height\",\"units\":\"data\"},\"line_color\":{\"field\":\"line_color\"},\"width\":{\"field\":\"width\",\"units\":\"data\"},\"x\":{\"field\":\"x\"},\"y\":{\"field\":\"y\"}},\"id\":\"ca584732-42ba-470c-9662-58a0b68e52bc\",\"type\":\"Rect\"},{\"attributes\":{},\"id\":\"976e5d7f-1653-49e8-978b-99602c74017a\",\"type\":\"BasicTickFormatter\"},{\"attributes\":{\"fill_alpha\":{\"field\":\"fill_alpha\"},\"fill_color\":{\"field\":\"color\"},\"height\":{\"field\":\"height\",\"units\":\"data\"},\"line_color\":{\"field\":\"line_color\"},\"width\":{\"field\":\"width\",\"units\":\"data\"},\"x\":{\"field\":\"x\"},\"y\":{\"field\":\"y\"}},\"id\":\"26b30866-cd2c-4448-b7ce-ce59a080384d\",\"type\":\"Rect\"},{\"attributes\":{\"fill_alpha\":{\"field\":\"fill_alpha\"},\"fill_color\":{\"field\":\"color\"},\"height\":{\"field\":\"height\",\"units\":\"data\"},\"line_color\":{\"field\":\"line_color\"},\"width\":{\"field\":\"width\",\"units\":\"data\"},\"x\":{\"field\":\"x\"},\"y\":{\"field\":\"y\"}},\"id\":\"3f3e1591-86a5-4cb5-b066-8ecc9f1c76ba\",\"type\":\"Rect\"},{\"attributes\":{\"data_source\":{\"id\":\"c2aecab4-47b2-4b9d-ae2a-2ac474732f25\",\"type\":\"ColumnDataSource\"},\"glyph\":{\"id\":\"e0851b0f-dafc-432c-b6a0-35580b7d866f\",\"type\":\"Rect\"},\"hover_glyph\":null,\"nonselection_glyph\":null,\"selection_glyph\":null},\"id\":\"5844a572-8e8b-4d4a-9204-5d4dab1082fc\",\"type\":\"GlyphRenderer\"},{\"attributes\":{\"callback\":null,\"column_names\":[\"height\",\"line_color\",\"color\",\"y\",\"label\",\"x\",\"width\",\"line_alpha\",\"fill_alpha\"],\"data\":{\"chart_index\":[\"(341.756581, 359.743522]\"],\"color\":[\"#f22c40\"],\"fill_alpha\":[0.8],\"height\":[53.0],\"label\":[\"(341.756581, 359.743522]\"],\"line_alpha\":[1.0],\"line_color\":[\"black\"],\"width\":[17.98694043395591],\"x\":[\"350.7500515\"],\"y\":[26.5]}},\"id\":\"be71967c-c4ee-4c0f-bbcb-21ca6174d930\",\"type\":\"ColumnDataSource\"},{\"attributes\":{\"callback\":null,\"column_names\":[\"height\",\"line_color\",\"color\",\"y\",\"label\",\"x\",\"width\",\"line_alpha\",\"fill_alpha\"],\"data\":{\"chart_index\":[\"(55.841386, 57.492180]\"],\"color\":[\"#f22c40\"],\"fill_alpha\":[0.8],\"height\":[162.0],\"label\":[\"(55.841386, 57.492180]\"],\"line_alpha\":[1.0],\"line_color\":[\"black\"],\"width\":[1.650793957214745],\"x\":[\"56.666782999999995\"],\"y\":[81.0]}},\"id\":\"a3610e6f-2e17-40b8-ba60-ff76a7b59ae7\",\"type\":\"ColumnDataSource\"},{\"attributes\":{\"data_source\":{\"id\":\"950f70df-644f-416f-accc-a05693495af4\",\"type\":\"ColumnDataSource\"},\"glyph\":{\"id\":\"44f6be74-948d-4f8f-8049-e855b915d25f\",\"type\":\"Rect\"},\"hover_glyph\":null,\"nonselection_glyph\":null,\"selection_glyph\":null},\"id\":\"7fed9700-cc32-429a-ba59-a8e5427ba509\",\"type\":\"GlyphRenderer\"},{\"attributes\":{\"callback\":null,\"column_names\":[\"height\",\"line_color\",\"color\",\"y\",\"label\",\"x\",\"width\",\"line_alpha\",\"fill_alpha\"],\"data\":{\"chart_index\":[\"(38.702313, 40.679293]\"],\"color\":[\"#f22c40\"],\"fill_alpha\":[0.8],\"height\":[181.0],\"label\":[\"(38.702313, 40.679293]\"],\"line_alpha\":[1.0],\"line_color\":[\"black\"],\"width\":[1.976980165044921],\"x\":[\"39.690803\"],\"y\":[90.5]}},\"id\":\"7a9e43c5-6aa0-49eb-a116-5b818453bf56\",\"type\":\"ColumnDataSource\"},{\"attributes\":{\"callback\":null,\"column_names\":[\"height\",\"line_color\",\"color\",\"y\",\"label\",\"x\",\"width\",\"line_alpha\",\"fill_alpha\"],\"data\":{\"chart_index\":[\"[20.909491, 22.886471]\"],\"color\":[\"#f22c40\"],\"fill_alpha\":[0.8],\"height\":[19.0],\"label\":[\"[20.909491, 22.886471]\"],\"line_alpha\":[1.0],\"line_color\":[\"black\"],\"width\":[1.9769801650449246],\"x\":[\"21.897981\"],\"y\":[9.5]}},\"id\":\"0d0e50ae-6558-4d85-8c1e-4ead73edafad\",\"type\":\"ColumnDataSource\"},{\"attributes\":{\"callback\":null,\"column_names\":[\"height\",\"line_color\",\"color\",\"y\",\"label\",\"x\",\"width\",\"line_alpha\",\"fill_alpha\"],\"data\":{\"chart_index\":[\"(60.449094, 62.426075]\"],\"color\":[\"#f22c40\"],\"fill_alpha\":[0.8],\"height\":[306.0],\"label\":[\"(60.449094, 62.426075]\"],\"line_alpha\":[1.0],\"line_color\":[\"black\"],\"width\":[1.976980165044921],\"x\":[\"61.4375845\"],\"y\":[153.0]}},\"id\":\"c2aecab4-47b2-4b9d-ae2a-2ac474732f25\",\"type\":\"ColumnDataSource\"},{\"attributes\":{\"callback\":null,\"column_names\":[\"height\",\"line_color\",\"color\",\"y\",\"label\",\"x\",\"width\",\"line_alpha\",\"fill_alpha\"],\"data\":{\"chart_index\":[\"(94.057757, 96.034737]\"],\"color\":[\"#f22c40\"],\"fill_alpha\":[0.8],\"height\":[222.0],\"label\":[\"(94.057757, 96.034737]\"],\"line_alpha\":[1.0],\"line_color\":[\"black\"],\"width\":[1.976980165044921],\"x\":[\"95.046247\"],\"y\":[111.0]}},\"id\":\"fe284a1d-4683-49c7-8419-8fe7cbe4a8e6\",\"type\":\"ColumnDataSource\"},{\"attributes\":{\"data_source\":{\"id\":\"daea5e07-4d20-4589-8e5d-7d83cf87a262\",\"type\":\"ColumnDataSource\"},\"glyph\":{\"id\":\"8e479377-cabf-41a7-9e15-b27a8d193b6c\",\"type\":\"Rect\"},\"hover_glyph\":null,\"nonselection_glyph\":null,\"selection_glyph\":null},\"id\":\"54627379-2b79-46bb-976a-e4714a806dca\",\"type\":\"GlyphRenderer\"},{\"attributes\":{},\"id\":\"603b0b53-b81c-42cd-a0a8-d4d1456bc65c\",\"type\":\"BasicTicker\"},{\"attributes\":{\"data_source\":{\"id\":\"8d0d2542-21b8-4d05-848f-ccdd2f85b025\",\"type\":\"ColumnDataSource\"},\"glyph\":{\"id\":\"0ec83429-19f4-4b6c-967b-0a7284994085\",\"type\":\"Rect\"},\"hover_glyph\":null,\"nonselection_glyph\":null,\"selection_glyph\":null},\"id\":\"204cc156-0772-4e64-a629-25b114ef359f\",\"type\":\"GlyphRenderer\"},{\"attributes\":{\"fill_alpha\":{\"field\":\"fill_alpha\"},\"fill_color\":{\"field\":\"color\"},\"height\":{\"field\":\"height\",\"units\":\"data\"},\"line_color\":{\"field\":\"line_color\"},\"width\":{\"field\":\"width\",\"units\":\"data\"},\"x\":{\"field\":\"x\"},\"y\":{\"field\":\"y\"}},\"id\":\"9f74ccf7-a11f-451b-a6c5-99f6c7b96d2d\",\"type\":\"Rect\"},{\"attributes\":{\"callback\":null,\"column_names\":[\"height\",\"line_color\",\"color\",\"y\",\"label\",\"x\",\"width\",\"line_alpha\",\"fill_alpha\"],\"data\":{\"chart_index\":[\"(58.472114, 60.449094]\"],\"color\":[\"#f22c40\"],\"fill_alpha\":[0.8],\"height\":[276.0],\"label\":[\"(58.472114, 60.449094]\"],\"line_alpha\":[1.0],\"line_color\":[\"black\"],\"width\":[1.9769801650449352],\"x\":[\"59.460604000000004\"],\"y\":[138.0]}},\"id\":\"47c34c38-8cfb-46c5-bf16-ffb8de76830a\",\"type\":\"ColumnDataSource\"},{\"attributes\":{},\"id\":\"d0b51854-117d-4879-9423-e550f6c43b22\",\"type\":\"BasicTicker\"},{\"attributes\":{\"location\":\"top_left\",\"plot\":{\"id\":\"d4a8ccfb-05b2-4bd8-997e-90be3fcf5ef4\",\"subtype\":\"Chart\",\"type\":\"Plot\"}},\"id\":\"93396c1f-7c5e-4d39-acdd-47c99e4699e3\",\"type\":\"Legend\"},{\"attributes\":{\"fill_alpha\":{\"field\":\"fill_alpha\"},\"fill_color\":{\"field\":\"color\"},\"height\":{\"field\":\"height\",\"units\":\"data\"},\"line_color\":{\"field\":\"line_color\"},\"width\":{\"field\":\"width\",\"units\":\"data\"},\"x\":{\"field\":\"x\"},\"y\":{\"field\":\"y\"}},\"id\":\"17680595-ce30-40b5-9629-c05ddbe044c5\",\"type\":\"Rect\"},{\"attributes\":{\"callback\":null,\"column_names\":[\"height\",\"line_color\",\"color\",\"y\",\"label\",\"x\",\"width\",\"line_alpha\",\"fill_alpha\"],\"data\":{\"chart_index\":[\"(96.034737, 98.011718]\"],\"color\":[\"#f22c40\"],\"fill_alpha\":[0.8],\"height\":[191.0],\"label\":[\"(96.034737, 98.011718]\"],\"line_alpha\":[1.0],\"line_color\":[\"black\"],\"width\":[1.976980165044921],\"x\":[\"97.0232275\"],\"y\":[95.5]}},\"id\":\"7ea85e35-d6b3-441e-8108-abc9202464fe\",\"type\":\"ColumnDataSource\"},{\"attributes\":{\"callback\":null,\"column_names\":[\"height\",\"line_color\",\"color\",\"y\",\"label\",\"x\",\"width\",\"line_alpha\",\"fill_alpha\"],\"data\":{\"chart_index\":[\"(251.821879, 269.808820]\"],\"color\":[\"#f22c40\"],\"fill_alpha\":[0.8],\"height\":[128.0],\"label\":[\"(251.821879, 269.808820]\"],\"line_alpha\":[1.0],\"line_color\":[\"black\"],\"width\":[17.98694043395588],\"x\":[\"260.8153495\"],\"y\":[64.0]}},\"id\":\"01367fdc-e9ea-4136-b5da-f60a3937f1b4\",\"type\":\"ColumnDataSource\"},{\"attributes\":{\"below\":[{\"id\":\"d8285e8f-782e-4764-8391-39e9df4a573c\",\"type\":\"LinearAxis\"}],\"css_classes\":null,\"height\":300,\"left\":[{\"id\":\"3a217b4d-1432-464d-bd16-738acc7a64fd\",\"type\":\"LinearAxis\"}],\"renderers\":[{\"id\":\"5a9e5947-7860-4ad7-9f34-c81c7c245a3e\",\"type\":\"BoxAnnotation\"},{\"id\":\"54627379-2b79-46bb-976a-e4714a806dca\",\"type\":\"GlyphRenderer\"},{\"id\":\"577d4a02-1661-4cea-9d29-d2fbd5f2102d\",\"type\":\"GlyphRenderer\"},{\"id\":\"cc0f01a7-4053-4290-a1a4-1f9f739561d3\",\"type\":\"GlyphRenderer\"},{\"id\":\"7d99b724-16b8-4d02-9bbf-dfdb14060d3a\",\"type\":\"GlyphRenderer\"},{\"id\":\"b18f6f9a-2b8c-431c-8751-adaf9bddc003\",\"type\":\"GlyphRenderer\"},{\"id\":\"214becdf-492f-4812-91e0-191e232774c8\",\"type\":\"GlyphRenderer\"},{\"id\":\"600b0195-6582-4917-b55b-a249ca7013d7\",\"type\":\"GlyphRenderer\"},{\"id\":\"5b66a791-a552-460a-ad54-2c3e119f69ca\",\"type\":\"GlyphRenderer\"},{\"id\":\"544b768b-db41-4c65-bcf9-fec6ecac785d\",\"type\":\"GlyphRenderer\"},{\"id\":\"4fcbc633-48e0-41e3-8ff5-780a36bcce54\",\"type\":\"GlyphRenderer\"},{\"id\":\"fae49744-78d8-4ab0-af10-e13c062a293b\",\"type\":\"GlyphRenderer\"},{\"id\":\"70223ce7-c45e-49d0-b554-7ebde8591f8f\",\"type\":\"GlyphRenderer\"},{\"id\":\"365c63eb-afb8-4ec7-8a2b-3948a7ffb853\",\"type\":\"GlyphRenderer\"},{\"id\":\"f5f2ad6a-b96a-4b89-9248-773138aada20\",\"type\":\"GlyphRenderer\"},{\"id\":\"1700e7a3-903d-4d93-8052-03255ab3dc63\",\"type\":\"GlyphRenderer\"},{\"id\":\"2c7a7a6d-6168-4782-a35c-37cb3e50af60\",\"type\":\"GlyphRenderer\"},{\"id\":\"7f8b7e8c-66fb-4f26-bd32-c2751d0ebc78\",\"type\":\"GlyphRenderer\"},{\"id\":\"50a1c9ed-937f-4c5b-8693-2071561b56ca\",\"type\":\"GlyphRenderer\"},{\"id\":\"3f451c9e-d449-434c-8cf1-ad12c9c8db00\",\"type\":\"GlyphRenderer\"},{\"id\":\"4f8e4e38-3f3a-43a2-bd55-107a01f16035\",\"type\":\"GlyphRenderer\"},{\"id\":\"fa225009-f034-4f7c-b29b-c9aeeda9ecd3\",\"type\":\"GlyphRenderer\"},{\"id\":\"44594c6b-e2f5-422c-9732-a90a3a8c2e49\",\"type\":\"GlyphRenderer\"},{\"id\":\"0bcbf8c0-b19c-4476-94b4-26b4adefac68\",\"type\":\"GlyphRenderer\"},{\"id\":\"63dd5b5a-2822-4b73-aab1-49ddd1596c11\",\"type\":\"GlyphRenderer\"},{\"id\":\"4714fc97-2bbc-4c21-963a-e263f9b38ab8\",\"type\":\"GlyphRenderer\"},{\"id\":\"b6cd6623-5280-4280-b6fd-eff4d3da4e53\",\"type\":\"GlyphRenderer\"},{\"id\":\"90f1cb27-9344-4491-bbd6-ffb114400d83\",\"type\":\"GlyphRenderer\"},{\"id\":\"0a9ea495-d653-4f54-8d30-e8f87710896a\",\"type\":\"GlyphRenderer\"},{\"id\":\"1fa21aa3-3ee5-4bc0-9826-cc26f7619ebf\",\"type\":\"GlyphRenderer\"},{\"id\":\"e24274f9-ed62-4255-b21e-40803e921873\",\"type\":\"GlyphRenderer\"},{\"id\":\"88e7e547-392e-440b-b2cd-c26dc4cbc8c2\",\"type\":\"GlyphRenderer\"},{\"id\":\"f614d738-fb45-4c17-ae29-1af3b2ee823e\",\"type\":\"GlyphRenderer\"},{\"id\":\"71060147-c512-4ddf-a405-8301862e3bb7\",\"type\":\"GlyphRenderer\"},{\"id\":\"fb52670b-10f5-4f76-93fb-d58fb0e34985\",\"type\":\"GlyphRenderer\"},{\"id\":\"04754cf3-5782-456f-aca3-f629d16f5c3a\",\"type\":\"GlyphRenderer\"},{\"id\":\"1919c5f6-3db6-42da-9fa2-c0b9c8cc80ee\",\"type\":\"GlyphRenderer\"},{\"id\":\"f8ccb67d-aaf6-4644-87f7-b607712243c6\",\"type\":\"GlyphRenderer\"},{\"id\":\"444a7dd6-7fea-4443-84ea-81504aa682ea\",\"type\":\"GlyphRenderer\"},{\"id\":\"c9c1ed9b-82c6-4376-b766-fe426d4be92e\",\"type\":\"GlyphRenderer\"},{\"id\":\"e61ce2c4-ded1-489d-9d57-1919f4ff8ace\",\"type\":\"GlyphRenderer\"},{\"id\":\"b9fb3a2f-fc07-4562-8aaa-92173a31a048\",\"type\":\"GlyphRenderer\"},{\"id\":\"483abaa1-bb93-42e7-82b4-71cd78b55a40\",\"type\":\"GlyphRenderer\"},{\"id\":\"149a7790-83ad-443a-bb0a-29daa09c5cf3\",\"type\":\"GlyphRenderer\"},{\"id\":\"2f221cb4-a7e2-4726-b115-f406de4b9585\",\"type\":\"GlyphRenderer\"},{\"id\":\"1b1180d6-2b64-4ccc-b585-ecc7b4c32d57\",\"type\":\"GlyphRenderer\"},{\"id\":\"18828b43-21ef-4549-94ee-9bbd653b9070\",\"type\":\"GlyphRenderer\"},{\"id\":\"dd08dfdf-a667-4d33-a6b4-f013611c77ff\",\"type\":\"GlyphRenderer\"},{\"id\":\"b51d8efc-690c-4662-85b4-a5f772d38b8e\",\"type\":\"GlyphRenderer\"},{\"id\":\"11c39f33-04aa-4573-9891-118e6a132a8c\",\"type\":\"GlyphRenderer\"},{\"id\":\"9f972466-77ca-4efa-b6c9-8ec1a2f16fbb\",\"type\":\"GlyphRenderer\"},{\"id\":\"2d4dbf25-3b0e-4c29-a578-167bb5b48e94\",\"type\":\"Legend\"},{\"id\":\"d8285e8f-782e-4764-8391-39e9df4a573c\",\"type\":\"LinearAxis\"},{\"id\":\"3a217b4d-1432-464d-bd16-738acc7a64fd\",\"type\":\"LinearAxis\"},{\"id\":\"a1c74642-9e12-491a-b8da-163f06740a1e\",\"type\":\"Grid\"}],\"title\":{\"id\":\"5f873ffe-fa0b-4f4b-b660-5e22a30e45eb\",\"type\":\"Title\"},\"tool_events\":{\"id\":\"142734a8-4355-444c-b276-bb196438a2b7\",\"type\":\"ToolEvents\"},\"toolbar\":{\"id\":\"9866a2b2-9ad4-4172-9af4-27926e5b2f9b\",\"type\":\"Toolbar\"},\"toolbar_location\":null,\"width\":350,\"x_mapper_type\":\"auto\",\"x_range\":{\"id\":\"a3557575-7450-4348-b677-ee280e4ca8f7\",\"type\":\"Range1d\"},\"y_mapper_type\":\"auto\",\"y_range\":{\"id\":\"d6bdb214-cb11-4dcd-97fc-ff8cb2142a9c\",\"type\":\"Range1d\"}},\"id\":\"0b2f8ac5-d11b-4931-a14f-4bea83cd8bf4\",\"subtype\":\"Chart\",\"type\":\"Plot\"},{\"attributes\":{\"callback\":null,\"column_names\":[\"height\",\"line_color\",\"color\",\"y\",\"label\",\"x\",\"width\",\"line_alpha\",\"fill_alpha\"],\"data\":{\"chart_index\":[\"(36.725332, 38.702313]\"],\"color\":[\"#f22c40\"],\"fill_alpha\":[0.8],\"height\":[174.0],\"label\":[\"(36.725332, 38.702313]\"],\"line_alpha\":[1.0],\"line_color\":[\"black\"],\"width\":[1.976980165044921],\"x\":[\"37.7138225\"],\"y\":[87.0]}},\"id\":\"6ea43fad-79c2-4f14-b7d5-740d830791d2\",\"type\":\"ColumnDataSource\"},{\"attributes\":{\"data_source\":{\"id\":\"c728c376-5b0e-4f08-8e8f-9e3c52778b20\",\"type\":\"ColumnDataSource\"},\"glyph\":{\"id\":\"9bf71513-4414-41c4-8415-4c9522e5f741\",\"type\":\"Rect\"},\"hover_glyph\":null,\"nonselection_glyph\":null,\"selection_glyph\":null},\"id\":\"11c39f33-04aa-4573-9891-118e6a132a8c\",\"type\":\"GlyphRenderer\"},{\"attributes\":{\"callback\":null,\"column_names\":[\"height\",\"line_color\",\"color\",\"y\",\"label\",\"x\",\"width\",\"line_alpha\",\"fill_alpha\"],\"data\":{\"chart_index\":[\"(593.573747, 611.560688]\"],\"color\":[\"#f22c40\"],\"fill_alpha\":[0.8],\"height\":[7.0],\"label\":[\"(593.573747, 611.560688]\"],\"line_alpha\":[1.0],\"line_color\":[\"black\"],\"width\":[17.986940433955965],\"x\":[\"602.5672175\"],\"y\":[3.5]}},\"id\":\"0fc47af2-af18-431f-9237-e69b42a87246\",\"type\":\"ColumnDataSource\"},{\"attributes\":{\"data_source\":{\"id\":\"290a5ccd-c497-4163-8bfb-77dca9546d0c\",\"type\":\"ColumnDataSource\"},\"glyph\":{\"id\":\"90fde5b6-9617-46c4-88fc-3b44317af109\",\"type\":\"Rect\"},\"hover_glyph\":null,\"nonselection_glyph\":null,\"selection_glyph\":null},\"id\":\"88e7e547-392e-440b-b2cd-c26dc4cbc8c2\",\"type\":\"GlyphRenderer\"},{\"attributes\":{\"callback\":null,\"column_names\":[\"height\",\"line_color\",\"color\",\"y\",\"label\",\"x\",\"width\",\"line_alpha\",\"fill_alpha\"],\"data\":{\"chart_index\":[\"(40.984240, 42.635034]\"],\"color\":[\"#f22c40\"],\"fill_alpha\":[0.8],\"height\":[651.0],\"label\":[\"(40.984240, 42.635034]\"],\"line_alpha\":[1.0],\"line_color\":[\"black\"],\"width\":[1.650793957214745],\"x\":[\"41.809636999999995\"],\"y\":[325.5]}},\"id\":\"c6d20f98-0b8e-4e36-854c-ff5f3ce90431\",\"type\":\"ColumnDataSource\"},{\"attributes\":{\"callback\":null,\"column_names\":[\"height\",\"line_color\",\"color\",\"y\",\"label\",\"x\",\"width\",\"line_alpha\",\"fill_alpha\"],\"data\":{\"chart_index\":[\"(125.913296, 143.900237]\"],\"color\":[\"#f22c40\"],\"fill_alpha\":[0.8],\"height\":[461.0],\"label\":[\"(125.913296, 143.900237]\"],\"line_alpha\":[1.0],\"line_color\":[\"black\"],\"width\":[17.986940433955922],\"x\":[\"134.9067665\"],\"y\":[230.5]}},\"id\":\"568368c6-121b-4a0d-83d3-597cea80ed63\",\"type\":\"ColumnDataSource\"},{\"attributes\":{\"fill_alpha\":{\"field\":\"fill_alpha\"},\"fill_color\":{\"field\":\"color\"},\"height\":{\"field\":\"height\",\"units\":\"data\"},\"line_color\":{\"field\":\"line_color\"},\"width\":{\"field\":\"width\",\"units\":\"data\"},\"x\":{\"field\":\"x\"},\"y\":{\"field\":\"y\"}},\"id\":\"5c4c927a-d202-4da2-b032-4ca686b85aef\",\"type\":\"Rect\"},{\"attributes\":{\"fill_alpha\":{\"field\":\"fill_alpha\"},\"fill_color\":{\"field\":\"color\"},\"height\":{\"field\":\"height\",\"units\":\"data\"},\"line_color\":{\"field\":\"line_color\"},\"width\":{\"field\":\"width\",\"units\":\"data\"},\"x\":{\"field\":\"x\"},\"y\":{\"field\":\"y\"}},\"id\":\"d6772d3f-af55-4904-80c1-f38f394184e4\",\"type\":\"Rect\"},{\"attributes\":{\"fill_alpha\":{\"field\":\"fill_alpha\"},\"fill_color\":{\"field\":\"color\"},\"height\":{\"field\":\"height\",\"units\":\"data\"},\"line_color\":{\"field\":\"line_color\"},\"width\":{\"field\":\"width\",\"units\":\"data\"},\"x\":{\"field\":\"x\"},\"y\":{\"field\":\"y\"}},\"id\":\"759a1b2d-531e-4a9e-9613-4367437a2112\",\"type\":\"Rect\"},{\"attributes\":{\"data_source\":{\"id\":\"cdd97c01-5e85-4f7e-8429-e3899a149dbc\",\"type\":\"ColumnDataSource\"},\"glyph\":{\"id\":\"6917506d-799b-42fc-85c3-23e90eac05f9\",\"type\":\"Rect\"},\"hover_glyph\":null,\"nonselection_glyph\":null,\"selection_glyph\":null},\"id\":\"810c6367-9cda-4b43-8438-5c86933a93af\",\"type\":\"GlyphRenderer\"},{\"attributes\":{\"data_source\":{\"id\":\"d006665a-8c0e-4fec-8d6c-14c31024a21b\",\"type\":\"ColumnDataSource\"},\"glyph\":{\"id\":\"bd335e55-b124-4bd1-85d4-3e6bbb6dd1d4\",\"type\":\"Rect\"},\"hover_glyph\":null,\"nonselection_glyph\":null,\"selection_glyph\":null},\"id\":\"4cdc0c7c-e692-4d2e-9727-6d99f6de6459\",\"type\":\"GlyphRenderer\"},{\"attributes\":{\"fill_alpha\":{\"field\":\"fill_alpha\"},\"fill_color\":{\"field\":\"color\"},\"height\":{\"field\":\"height\",\"units\":\"data\"},\"line_color\":{\"field\":\"line_color\"},\"width\":{\"field\":\"width\",\"units\":\"data\"},\"x\":{\"field\":\"x\"},\"y\":{\"field\":\"y\"}},\"id\":\"2190ec82-c9ba-41ac-bbc2-ce68ddefd104\",\"type\":\"Rect\"},{\"attributes\":{\"fill_alpha\":{\"field\":\"fill_alpha\"},\"fill_color\":{\"field\":\"color\"},\"height\":{\"field\":\"height\",\"units\":\"data\"},\"line_color\":{\"field\":\"line_color\"},\"width\":{\"field\":\"width\",\"units\":\"data\"},\"x\":{\"field\":\"x\"},\"y\":{\"field\":\"y\"}},\"id\":\"baecc905-c053-4f68-b369-fcb67cf88bd1\",\"type\":\"Rect\"},{\"attributes\":{\"plot\":{\"id\":\"5a86ce13-08ff-4742-a236-b5d321602846\",\"subtype\":\"Chart\",\"type\":\"Plot\"}},\"id\":\"5d3a2416-a442-47a5-b441-542e3a779dd1\",\"type\":\"WheelZoomTool\"},{\"attributes\":{\"data_source\":{\"id\":\"30b810eb-918d-42b1-a037-e550d2e2d483\",\"type\":\"ColumnDataSource\"},\"glyph\":{\"id\":\"33b06429-2924-4c3c-90f0-e97e3f071b54\",\"type\":\"Rect\"},\"hover_glyph\":null,\"nonselection_glyph\":null,\"selection_glyph\":null},\"id\":\"be987258-da06-447f-92e3-c5416665928e\",\"type\":\"GlyphRenderer\"},{\"attributes\":{\"fill_alpha\":{\"field\":\"fill_alpha\"},\"fill_color\":{\"field\":\"color\"},\"height\":{\"field\":\"height\",\"units\":\"data\"},\"line_color\":{\"field\":\"line_color\"},\"width\":{\"field\":\"width\",\"units\":\"data\"},\"x\":{\"field\":\"x\"},\"y\":{\"field\":\"y\"}},\"id\":\"3d9659a7-fd5a-45ae-987b-42d075a15c0c\",\"type\":\"Rect\"},{\"attributes\":{\"fill_alpha\":{\"field\":\"fill_alpha\"},\"fill_color\":{\"field\":\"color\"},\"height\":{\"field\":\"height\",\"units\":\"data\"},\"line_color\":{\"field\":\"line_color\"},\"width\":{\"field\":\"width\",\"units\":\"data\"},\"x\":{\"field\":\"x\"},\"y\":{\"field\":\"y\"}},\"id\":\"92e49de1-7fa5-442f-ae79-1da4428c91b1\",\"type\":\"Rect\"},{\"attributes\":{\"fill_alpha\":{\"field\":\"fill_alpha\"},\"fill_color\":{\"field\":\"color\"},\"height\":{\"field\":\"height\",\"units\":\"data\"},\"line_color\":{\"field\":\"line_color\"},\"width\":{\"field\":\"width\",\"units\":\"data\"},\"x\":{\"field\":\"x\"},\"y\":{\"field\":\"y\"}},\"id\":\"69dbdbae-3957-4283-a7c3-e53133c54d98\",\"type\":\"Rect\"},{\"attributes\":{\"data_source\":{\"id\":\"607f5c9e-a987-4580-b2e9-9d876d31a738\",\"type\":\"ColumnDataSource\"},\"glyph\":{\"id\":\"9a9ed93f-1e2d-41b3-b386-bb695b26afaf\",\"type\":\"Rect\"},\"hover_glyph\":null,\"nonselection_glyph\":null,\"selection_glyph\":null},\"id\":\"9278c6b5-099f-48ed-b881-634bdc6271d4\",\"type\":\"GlyphRenderer\"},{\"attributes\":{\"fill_alpha\":{\"field\":\"fill_alpha\"},\"fill_color\":{\"field\":\"color\"},\"height\":{\"field\":\"height\",\"units\":\"data\"},\"line_color\":{\"field\":\"line_color\"},\"width\":{\"field\":\"width\",\"units\":\"data\"},\"x\":{\"field\":\"x\"},\"y\":{\"field\":\"y\"}},\"id\":\"3b6f566d-d047-4e75-a5b7-6ff62bb17954\",\"type\":\"Rect\"},{\"attributes\":{\"bottom_units\":\"screen\",\"fill_alpha\":{\"value\":0.5},\"fill_color\":{\"value\":\"lightgrey\"},\"left_units\":\"screen\",\"level\":\"overlay\",\"line_alpha\":{\"value\":1.0},\"line_color\":{\"value\":\"black\"},\"line_dash\":[4,4],\"line_width\":{\"value\":2},\"plot\":null,\"render_mode\":\"css\",\"right_units\":\"screen\",\"top_units\":\"screen\"},\"id\":\"99dd76fa-ec45-43e7-93d8-c4db4b7510ff\",\"type\":\"BoxAnnotation\"},{\"attributes\":{\"data_source\":{\"id\":\"07857d7a-c504-496f-85fb-14a7d8923058\",\"type\":\"ColumnDataSource\"},\"glyph\":{\"id\":\"bf6b96cd-81f3-4a76-97de-d9e34b67c216\",\"type\":\"Rect\"},\"hover_glyph\":null,\"nonselection_glyph\":null,\"selection_glyph\":null},\"id\":\"b0501444-9dee-4edf-a09c-1966bb176cd0\",\"type\":\"GlyphRenderer\"},{\"attributes\":{\"callback\":null,\"column_names\":[\"height\",\"line_color\",\"color\",\"y\",\"label\",\"x\",\"width\",\"line_alpha\",\"fill_alpha\"],\"data\":{\"chart_index\":[\"(287.795760, 305.782700]\"],\"color\":[\"#f22c40\"],\"fill_alpha\":[0.8],\"height\":[82.0],\"label\":[\"(287.795760, 305.782700]\"],\"line_alpha\":[1.0],\"line_color\":[\"black\"],\"width\":[17.98694043395591],\"x\":[\"296.78923\"],\"y\":[41.0]}},\"id\":\"9d3e7ab3-df94-4ba0-966c-9f19fedc26ba\",\"type\":\"ColumnDataSource\"},{\"attributes\":{\"callback\":null,\"column_names\":[\"height\",\"line_color\",\"color\",\"y\",\"label\",\"x\",\"width\",\"line_alpha\",\"fill_alpha\"],\"data\":{\"chart_index\":[\"(89.939415, 107.926356]\"],\"color\":[\"#f22c40\"],\"fill_alpha\":[0.8],\"height\":[626.0],\"label\":[\"(89.939415, 107.926356]\"],\"line_alpha\":[1.0],\"line_color\":[\"black\"],\"width\":[17.986940433955894],\"x\":[\"98.9328855\"],\"y\":[313.0]}},\"id\":\"12cbd09d-298d-4a10-9348-7625d7e3d314\",\"type\":\"ColumnDataSource\"},{\"attributes\":{\"fill_alpha\":{\"field\":\"fill_alpha\"},\"fill_color\":{\"field\":\"color\"},\"height\":{\"field\":\"height\",\"units\":\"data\"},\"line_color\":{\"field\":\"line_color\"},\"width\":{\"field\":\"width\",\"units\":\"data\"},\"x\":{\"field\":\"x\"},\"y\":{\"field\":\"y\"}},\"id\":\"3a413b27-e44e-414b-9754-8a64a1b322f5\",\"type\":\"Rect\"},{\"attributes\":{\"fill_alpha\":{\"field\":\"fill_alpha\"},\"fill_color\":{\"field\":\"color\"},\"height\":{\"field\":\"height\",\"units\":\"data\"},\"line_color\":{\"field\":\"line_color\"},\"width\":{\"field\":\"width\",\"units\":\"data\"},\"x\":{\"field\":\"x\"},\"y\":{\"field\":\"y\"}},\"id\":\"ad67db41-6c38-43f5-9111-ac7d3bbb0973\",\"type\":\"Rect\"},{\"attributes\":{\"data_source\":{\"id\":\"de5d3c11-8735-40f8-8344-49f521bbd0af\",\"type\":\"ColumnDataSource\"},\"glyph\":{\"id\":\"aa997a46-04c0-4a33-8427-92e9684742cc\",\"type\":\"Rect\"},\"hover_glyph\":null,\"nonselection_glyph\":null,\"selection_glyph\":null},\"id\":\"0f134f29-919e-47b8-8a7b-85abee358b88\",\"type\":\"GlyphRenderer\"},{\"attributes\":{\"data_source\":{\"id\":\"638b6f73-560f-4810-b571-0dbdf679c486\",\"type\":\"ColumnDataSource\"},\"glyph\":{\"id\":\"26b30866-cd2c-4448-b7ce-ce59a080384d\",\"type\":\"Rect\"},\"hover_glyph\":null,\"nonselection_glyph\":null,\"selection_glyph\":null},\"id\":\"63dd5b5a-2822-4b73-aab1-49ddd1596c11\",\"type\":\"GlyphRenderer\"},{\"attributes\":{\"fill_alpha\":{\"field\":\"fill_alpha\"},\"fill_color\":{\"field\":\"color\"},\"height\":{\"field\":\"height\",\"units\":\"data\"},\"line_color\":{\"field\":\"line_color\"},\"width\":{\"field\":\"width\",\"units\":\"data\"},\"x\":{\"field\":\"x\"},\"y\":{\"field\":\"y\"}},\"id\":\"883ef6c6-d698-4f9d-92bb-0e2277c2c1c3\",\"type\":\"Rect\"},{\"attributes\":{\"callback\":null,\"column_names\":[\"height\",\"line_color\",\"color\",\"y\",\"label\",\"x\",\"width\",\"line_alpha\",\"fill_alpha\"],\"data\":{\"chart_index\":[\"(50.889004, 52.539798]\"],\"color\":[\"#f22c40\"],\"fill_alpha\":[0.8],\"height\":[362.0],\"label\":[\"(50.889004, 52.539798]\"],\"line_alpha\":[1.0],\"line_color\":[\"black\"],\"width\":[1.650793957214745],\"x\":[\"51.714400999999995\"],\"y\":[181.0]}},\"id\":\"a69934aa-096e-452a-a2a4-5277410a0e02\",\"type\":\"ColumnDataSource\"},{\"attributes\":{\"fill_alpha\":{\"field\":\"fill_alpha\"},\"fill_color\":{\"field\":\"color\"},\"height\":{\"field\":\"height\",\"units\":\"data\"},\"line_color\":{\"field\":\"line_color\"},\"width\":{\"field\":\"width\",\"units\":\"data\"},\"x\":{\"field\":\"x\"},\"y\":{\"field\":\"y\"}},\"id\":\"44affc40-af65-436e-ab29-8af8ed968a11\",\"type\":\"Rect\"},{\"attributes\":{\"fill_alpha\":{\"field\":\"fill_alpha\"},\"fill_color\":{\"field\":\"color\"},\"height\":{\"field\":\"height\",\"units\":\"data\"},\"line_color\":{\"field\":\"line_color\"},\"width\":{\"field\":\"width\",\"units\":\"data\"},\"x\":{\"field\":\"x\"},\"y\":{\"field\":\"y\"}},\"id\":\"70e7d0a9-efff-4112-8ee8-e74ef13aa040\",\"type\":\"Rect\"},{\"attributes\":{\"fill_alpha\":{\"field\":\"fill_alpha\"},\"fill_color\":{\"field\":\"color\"},\"height\":{\"field\":\"height\",\"units\":\"data\"},\"line_color\":{\"field\":\"line_color\"},\"width\":{\"field\":\"width\",\"units\":\"data\"},\"x\":{\"field\":\"x\"},\"y\":{\"field\":\"y\"}},\"id\":\"b2a9452c-e6ae-4d87-9fbe-415429f863af\",\"type\":\"Rect\"},{\"attributes\":{\"callback\":null,\"column_names\":[\"height\",\"line_color\",\"color\",\"y\",\"label\",\"x\",\"width\",\"line_alpha\",\"fill_alpha\"],\"data\":{\"chart_index\":[\"(32.771372, 34.748352]\"],\"color\":[\"#f22c40\"],\"fill_alpha\":[0.8],\"height\":[143.0],\"label\":[\"(32.771372, 34.748352]\"],\"line_alpha\":[1.0],\"line_color\":[\"black\"],\"width\":[1.9769801650449281],\"x\":[\"33.759862\"],\"y\":[71.5]}},\"id\":\"374aab03-e400-4470-939e-7a8e78df8c25\",\"type\":\"ColumnDataSource\"},{\"attributes\":{\"fill_alpha\":{\"field\":\"fill_alpha\"},\"fill_color\":{\"field\":\"color\"},\"height\":{\"field\":\"height\",\"units\":\"data\"},\"line_color\":{\"field\":\"line_color\"},\"width\":{\"field\":\"width\",\"units\":\"data\"},\"x\":{\"field\":\"x\"},\"y\":{\"field\":\"y\"}},\"id\":\"d58ddec7-062e-4bf9-8aa3-7d2ceabc3835\",\"type\":\"Rect\"},{\"attributes\":{\"fill_alpha\":{\"field\":\"fill_alpha\"},\"fill_color\":{\"field\":\"color\"},\"height\":{\"field\":\"height\",\"units\":\"data\"},\"line_color\":{\"field\":\"line_color\"},\"width\":{\"field\":\"width\",\"units\":\"data\"},\"x\":{\"field\":\"x\"},\"y\":{\"field\":\"y\"}},\"id\":\"c977a16e-0017-4af9-a240-36d113be0e50\",\"type\":\"Rect\"},{\"attributes\":{\"callback\":null,\"column_names\":[\"height\",\"line_color\",\"color\",\"y\",\"label\",\"x\",\"width\",\"line_alpha\",\"fill_alpha\"],\"data\":{\"chart_index\":[\"(24.476301, 26.127095]\"],\"color\":[\"#f22c40\"],\"fill_alpha\":[0.8],\"height\":[215.0],\"label\":[\"(24.476301, 26.127095]\"],\"line_alpha\":[1.0],\"line_color\":[\"black\"],\"width\":[1.650793957214745],\"x\":[\"25.301698000000002\"],\"y\":[107.5]}},\"id\":\"9588e865-c11e-4e9b-9eb9-8808af4d046c\",\"type\":\"ColumnDataSource\"},{\"attributes\":{\"fill_alpha\":{\"field\":\"fill_alpha\"},\"fill_color\":{\"field\":\"color\"},\"height\":{\"field\":\"height\",\"units\":\"data\"},\"line_color\":{\"field\":\"line_color\"},\"width\":{\"field\":\"width\",\"units\":\"data\"},\"x\":{\"field\":\"x\"},\"y\":{\"field\":\"y\"}},\"id\":\"8e479377-cabf-41a7-9e15-b27a8d193b6c\",\"type\":\"Rect\"},{\"attributes\":{\"location\":\"top_left\",\"plot\":{\"id\":\"9129a667-4e61-4c45-8c2b-bebd7acb11a8\",\"subtype\":\"Chart\",\"type\":\"Plot\"}},\"id\":\"ac5722c9-c870-4fcd-81b4-6d1c6f252e69\",\"type\":\"Legend\"},{\"attributes\":{\"fill_alpha\":{\"field\":\"fill_alpha\"},\"fill_color\":{\"field\":\"color\"},\"height\":{\"field\":\"height\",\"units\":\"data\"},\"line_color\":{\"field\":\"line_color\"},\"width\":{\"field\":\"width\",\"units\":\"data\"},\"x\":{\"field\":\"x\"},\"y\":{\"field\":\"y\"}},\"id\":\"0ec83429-19f4-4b6c-967b-0a7284994085\",\"type\":\"Rect\"},{\"attributes\":{\"plot\":{\"id\":\"5a86ce13-08ff-4742-a236-b5d321602846\",\"subtype\":\"Chart\",\"type\":\"Plot\"}},\"id\":\"a1c0a30a-8755-48b5-9899-79a4d2ae7bad\",\"type\":\"ResetTool\"},{\"attributes\":{\"data_source\":{\"id\":\"bd8ca7bc-bfec-4b0c-93f8-5017cec5279c\",\"type\":\"ColumnDataSource\"},\"glyph\":{\"id\":\"cf916bde-d343-4a2e-8720-36e0fea11eb3\",\"type\":\"Rect\"},\"hover_glyph\":null,\"nonselection_glyph\":null,\"selection_glyph\":null},\"id\":\"cf96e5b0-1c00-4fdb-89ef-ac40cc04b445\",\"type\":\"GlyphRenderer\"},{\"attributes\":{\"fill_alpha\":{\"field\":\"fill_alpha\"},\"fill_color\":{\"field\":\"color\"},\"height\":{\"field\":\"height\",\"units\":\"data\"},\"line_color\":{\"field\":\"line_color\"},\"width\":{\"field\":\"width\",\"units\":\"data\"},\"x\":{\"field\":\"x\"},\"y\":{\"field\":\"y\"}},\"id\":\"fc33e692-da67-4d4d-bc26-948cc3da82d4\",\"type\":\"Rect\"},{\"attributes\":{\"fill_alpha\":{\"field\":\"fill_alpha\"},\"fill_color\":{\"field\":\"color\"},\"height\":{\"field\":\"height\",\"units\":\"data\"},\"line_color\":{\"field\":\"line_color\"},\"width\":{\"field\":\"width\",\"units\":\"data\"},\"x\":{\"field\":\"x\"},\"y\":{\"field\":\"y\"}},\"id\":\"1f48225e-8664-4d72-adc8-61d8d9be05d6\",\"type\":\"Rect\"},{\"attributes\":{\"bottom_units\":\"screen\",\"fill_alpha\":{\"value\":0.5},\"fill_color\":{\"value\":\"lightgrey\"},\"left_units\":\"screen\",\"level\":\"overlay\",\"line_alpha\":{\"value\":1.0},\"line_color\":{\"value\":\"black\"},\"line_dash\":[4,4],\"line_width\":{\"value\":2},\"plot\":null,\"render_mode\":\"css\",\"right_units\":\"screen\",\"top_units\":\"screen\"},\"id\":\"2c312845-8eb0-4ce1-9bd6-b59ccd5938ac\",\"type\":\"BoxAnnotation\"},{\"attributes\":{\"fill_alpha\":{\"field\":\"fill_alpha\"},\"fill_color\":{\"field\":\"color\"},\"height\":{\"field\":\"height\",\"units\":\"data\"},\"line_color\":{\"field\":\"line_color\"},\"width\":{\"field\":\"width\",\"units\":\"data\"},\"x\":{\"field\":\"x\"},\"y\":{\"field\":\"y\"}},\"id\":\"4a0c7157-e928-4304-9ed6-672ce4421e1b\",\"type\":\"Rect\"},{\"attributes\":{\"data_source\":{\"id\":\"c72e1031-2e55-4318-adc8-241fc32a8a84\",\"type\":\"ColumnDataSource\"},\"glyph\":{\"id\":\"6d4c1994-d6bb-49fc-841c-fea1dc978ac5\",\"type\":\"Rect\"},\"hover_glyph\":null,\"nonselection_glyph\":null,\"selection_glyph\":null},\"id\":\"dc4cab02-ad54-43ad-aeed-01c5badc73fa\",\"type\":\"GlyphRenderer\"},{\"attributes\":{\"fill_alpha\":{\"field\":\"fill_alpha\"},\"fill_color\":{\"field\":\"color\"},\"height\":{\"field\":\"height\",\"units\":\"data\"},\"line_color\":{\"field\":\"line_color\"},\"width\":{\"field\":\"width\",\"units\":\"data\"},\"x\":{\"field\":\"x\"},\"y\":{\"field\":\"y\"}},\"id\":\"7d73ef8c-c35a-4210-98ad-15199c219100\",\"type\":\"Rect\"},{\"attributes\":{\"bottom_units\":\"screen\",\"fill_alpha\":{\"value\":0.5},\"fill_color\":{\"value\":\"lightgrey\"},\"left_units\":\"screen\",\"level\":\"overlay\",\"line_alpha\":{\"value\":1.0},\"line_color\":{\"value\":\"black\"},\"line_dash\":[4,4],\"line_width\":{\"value\":2},\"plot\":null,\"render_mode\":\"css\",\"right_units\":\"screen\",\"top_units\":\"screen\"},\"id\":\"5a9e5947-7860-4ad7-9f34-c81c7c245a3e\",\"type\":\"BoxAnnotation\"},{\"attributes\":{\"data_source\":{\"id\":\"a77904c7-70ec-486e-b37c-67edc7c5c519\",\"type\":\"ColumnDataSource\"},\"glyph\":{\"id\":\"a6232c51-6367-4f71-a12b-188959eb4dfd\",\"type\":\"Rect\"},\"hover_glyph\":null,\"nonselection_glyph\":null,\"selection_glyph\":null},\"id\":\"dfdb7bb4-90a0-45c7-adbc-0b5e8df77d08\",\"type\":\"GlyphRenderer\"},{\"attributes\":{\"fill_alpha\":{\"field\":\"fill_alpha\"},\"fill_color\":{\"field\":\"color\"},\"height\":{\"field\":\"height\",\"units\":\"data\"},\"line_color\":{\"field\":\"line_color\"},\"width\":{\"field\":\"width\",\"units\":\"data\"},\"x\":{\"field\":\"x\"},\"y\":{\"field\":\"y\"}},\"id\":\"05e1844b-859f-4623-8953-a6d66d4a6dce\",\"type\":\"Rect\"},{\"attributes\":{\"callback\":null,\"column_names\":[\"height\",\"line_color\",\"color\",\"y\",\"label\",\"x\",\"width\",\"line_alpha\",\"fill_alpha\"],\"data\":{\"chart_index\":[\"(629.547628, 647.534569]\"],\"color\":[\"#f22c40\"],\"fill_alpha\":[0.8],\"height\":[8.0],\"label\":[\"(629.547628, 647.534569]\"],\"line_alpha\":[1.0],\"line_color\":[\"black\"],\"width\":[17.986940433955965],\"x\":[\"638.5410985000001\"],\"y\":[4.0]}},\"id\":\"6d1b79c1-fdeb-4437-9610-0a59673bfbf0\",\"type\":\"ColumnDataSource\"},{\"attributes\":{\"data_source\":{\"id\":\"6958dfc3-dc43-4b06-8b10-24403c5ebb26\",\"type\":\"ColumnDataSource\"},\"glyph\":{\"id\":\"0a34cc61-d805-4fe2-8275-2a98779536df\",\"type\":\"Rect\"},\"hover_glyph\":null,\"nonselection_glyph\":null,\"selection_glyph\":null},\"id\":\"4f7baeed-f710-4a31-a2c1-a299bc995eea\",\"type\":\"GlyphRenderer\"},{\"attributes\":{\"data_source\":{\"id\":\"cd9feb6a-50b1-4ba1-9aab-d883dd721f25\",\"type\":\"ColumnDataSource\"},\"glyph\":{\"id\":\"b7303192-8c52-4e94-8030-87b4f37ecbd2\",\"type\":\"Rect\"},\"hover_glyph\":null,\"nonselection_glyph\":null,\"selection_glyph\":null},\"id\":\"fae49744-78d8-4ab0-af10-e13c062a293b\",\"type\":\"GlyphRenderer\"},{\"attributes\":{\"fill_alpha\":{\"field\":\"fill_alpha\"},\"fill_color\":{\"field\":\"color\"},\"height\":{\"field\":\"height\",\"units\":\"data\"},\"line_color\":{\"field\":\"line_color\"},\"width\":{\"field\":\"width\",\"units\":\"data\"},\"x\":{\"field\":\"x\"},\"y\":{\"field\":\"y\"}},\"id\":\"a9241eaa-77d7-47f2-a187-f70599d6355e\",\"type\":\"Rect\"},{\"attributes\":{\"data_source\":{\"id\":\"12d0927c-0b95-4c1c-beb9-d91076fbdf7d\",\"type\":\"ColumnDataSource\"},\"glyph\":{\"id\":\"4f1122e9-814f-4061-bb88-00e0512260e7\",\"type\":\"Rect\"},\"hover_glyph\":null,\"nonselection_glyph\":null,\"selection_glyph\":null},\"id\":\"a7780e12-d219-4960-affc-a710e38a8827\",\"type\":\"GlyphRenderer\"},{\"attributes\":{\"fill_alpha\":{\"field\":\"fill_alpha\"},\"fill_color\":{\"field\":\"color\"},\"height\":{\"field\":\"height\",\"units\":\"data\"},\"line_color\":{\"field\":\"line_color\"},\"width\":{\"field\":\"width\",\"units\":\"data\"},\"x\":{\"field\":\"x\"},\"y\":{\"field\":\"y\"}},\"id\":\"3ff521d4-aaca-4985-a611-aada57369b8c\",\"type\":\"Rect\"},{\"attributes\":{\"plot\":{\"id\":\"0b2f8ac5-d11b-4931-a14f-4bea83cd8bf4\",\"subtype\":\"Chart\",\"type\":\"Plot\"}},\"id\":\"8fab52f3-66f5-4570-b4ed-87ac0cc585b5\",\"type\":\"SaveTool\"},{\"attributes\":{\"overlay\":{\"id\":\"5a9e5947-7860-4ad7-9f34-c81c7c245a3e\",\"type\":\"BoxAnnotation\"},\"plot\":{\"id\":\"0b2f8ac5-d11b-4931-a14f-4bea83cd8bf4\",\"subtype\":\"Chart\",\"type\":\"Plot\"}},\"id\":\"ef99b137-27cc-41ec-aac0-6a6737402dea\",\"type\":\"BoxZoomTool\"},{\"attributes\":{\"fill_alpha\":{\"field\":\"fill_alpha\"},\"fill_color\":{\"field\":\"color\"},\"height\":{\"field\":\"height\",\"units\":\"data\"},\"line_color\":{\"field\":\"line_color\"},\"width\":{\"field\":\"width\",\"units\":\"data\"},\"x\":{\"field\":\"x\"},\"y\":{\"field\":\"y\"}},\"id\":\"0333286c-b93f-4b71-909d-a30d12b2fb3c\",\"type\":\"Rect\"},{\"attributes\":{\"callback\":null,\"column_names\":[\"height\",\"line_color\",\"color\",\"y\",\"label\",\"x\",\"width\",\"line_alpha\",\"fill_alpha\"],\"data\":{\"chart_index\":[\"(113.827559, 115.804539]\"],\"color\":[\"#f22c40\"],\"fill_alpha\":[0.8],\"height\":[63.0],\"label\":[\"(113.827559, 115.804539]\"],\"line_alpha\":[1.0],\"line_color\":[\"black\"],\"width\":[1.976980165044921],\"x\":[\"114.81604899999999\"],\"y\":[31.5]}},\"id\":\"f7aef287-3d12-4e5f-a594-942618542617\",\"type\":\"ColumnDataSource\"},{\"attributes\":{\"fill_alpha\":{\"field\":\"fill_alpha\"},\"fill_color\":{\"field\":\"color\"},\"height\":{\"field\":\"height\",\"units\":\"data\"},\"line_color\":{\"field\":\"line_color\"},\"width\":{\"field\":\"width\",\"units\":\"data\"},\"x\":{\"field\":\"x\"},\"y\":{\"field\":\"y\"}},\"id\":\"44f6be74-948d-4f8f-8049-e855b915d25f\",\"type\":\"Rect\"},{\"attributes\":{\"callback\":null,\"column_names\":[\"height\",\"line_color\",\"color\",\"y\",\"label\",\"x\",\"width\",\"line_alpha\",\"fill_alpha\"],\"data\":{\"chart_index\":[\"(59.998838, 61.998419]\"],\"color\":[\"#f22c40\"],\"fill_alpha\":[0.8],\"height\":[212.0],\"label\":[\"(59.998838, 61.998419]\"],\"line_alpha\":[1.0],\"line_color\":[\"black\"],\"width\":[1.9995804859201343],\"x\":[\"60.998628499999995\"],\"y\":[106.0]}},\"id\":\"50c64f27-7e46-40ac-91c9-62df3cd5469c\",\"type\":\"ColumnDataSource\"},{\"attributes\":{\"fill_alpha\":{\"field\":\"fill_alpha\"},\"fill_color\":{\"field\":\"color\"},\"height\":{\"field\":\"height\",\"units\":\"data\"},\"line_color\":{\"field\":\"line_color\"},\"width\":{\"field\":\"width\",\"units\":\"data\"},\"x\":{\"field\":\"x\"},\"y\":{\"field\":\"y\"}},\"id\":\"cc1fbc87-91c7-424c-8350-8d50caedf7e7\",\"type\":\"Rect\"},{\"attributes\":{\"data_source\":{\"id\":\"b7e3660b-1d34-4b16-8369-2eca1da0966d\",\"type\":\"ColumnDataSource\"},\"glyph\":{\"id\":\"122a960e-e223-4879-b9c9-14c7431cde3f\",\"type\":\"Rect\"},\"hover_glyph\":null,\"nonselection_glyph\":null,\"selection_glyph\":null},\"id\":\"0bcbf8c0-b19c-4476-94b4-26b4adefac68\",\"type\":\"GlyphRenderer\"},{\"attributes\":{\"data_source\":{\"id\":\"42612034-cd79-437a-a22b-3731738fbe85\",\"type\":\"ColumnDataSource\"},\"glyph\":{\"id\":\"3d9659a7-fd5a-45ae-987b-42d075a15c0c\",\"type\":\"Rect\"},\"hover_glyph\":null,\"nonselection_glyph\":null,\"selection_glyph\":null},\"id\":\"3a68b2f3-8c3d-414d-ac75-50887475fe78\",\"type\":\"GlyphRenderer\"},{\"attributes\":{\"fill_alpha\":{\"field\":\"fill_alpha\"},\"fill_color\":{\"field\":\"color\"},\"height\":{\"field\":\"height\",\"units\":\"data\"},\"line_color\":{\"field\":\"line_color\"},\"width\":{\"field\":\"width\",\"units\":\"data\"},\"x\":{\"field\":\"x\"},\"y\":{\"field\":\"y\"}},\"id\":\"bf3559e7-70b2-4687-8ca0-665cf60d68cf\",\"type\":\"Rect\"},{\"attributes\":{\"fill_alpha\":{\"field\":\"fill_alpha\"},\"fill_color\":{\"field\":\"color\"},\"height\":{\"field\":\"height\",\"units\":\"data\"},\"line_color\":{\"field\":\"line_color\"},\"width\":{\"field\":\"width\",\"units\":\"data\"},\"x\":{\"field\":\"x\"},\"y\":{\"field\":\"y\"}},\"id\":\"e6772b43-de7e-46ef-8647-40ec00e25349\",\"type\":\"Rect\"},{\"attributes\":{\"fill_alpha\":{\"field\":\"fill_alpha\"},\"fill_color\":{\"field\":\"color\"},\"height\":{\"field\":\"height\",\"units\":\"data\"},\"line_color\":{\"field\":\"line_color\"},\"width\":{\"field\":\"width\",\"units\":\"data\"},\"x\":{\"field\":\"x\"},\"y\":{\"field\":\"y\"}},\"id\":\"feeb442a-e3bd-4f3d-85d5-735df6bde911\",\"type\":\"Rect\"},{\"attributes\":{\"data_source\":{\"id\":\"7a9c7e6f-92c4-42f5-9c9d-3650f53b4be9\",\"type\":\"ColumnDataSource\"},\"glyph\":{\"id\":\"bf3559e7-70b2-4687-8ca0-665cf60d68cf\",\"type\":\"Rect\"},\"hover_glyph\":null,\"nonselection_glyph\":null,\"selection_glyph\":null},\"id\":\"48c75777-c3cd-40c1-9713-b02c954198f3\",\"type\":\"GlyphRenderer\"},{\"attributes\":{\"data_source\":{\"id\":\"df78eebc-19a9-4abc-b208-759cc90e53ad\",\"type\":\"ColumnDataSource\"},\"glyph\":{\"id\":\"04001aae-4786-43f4-b38b-a3f45c6f9492\",\"type\":\"Rect\"},\"hover_glyph\":null,\"nonselection_glyph\":null,\"selection_glyph\":null},\"id\":\"ef8e4c10-2408-47d5-8d6a-c082276a4e1f\",\"type\":\"GlyphRenderer\"},{\"attributes\":{},\"id\":\"cb2123f0-f79c-487c-a8bd-ed76bad74e4b\",\"type\":\"BasicTicker\"},{\"attributes\":{\"callback\":null,\"column_names\":[\"height\",\"line_color\",\"color\",\"y\",\"label\",\"x\",\"width\",\"line_alpha\",\"fill_alpha\"],\"data\":{\"chart_index\":[\"(71.996321, 73.995901]\"],\"color\":[\"#f22c40\"],\"fill_alpha\":[0.8],\"height\":[201.0],\"label\":[\"(71.996321, 73.995901]\"],\"line_alpha\":[1.0],\"line_color\":[\"black\"],\"width\":[1.9995804859201343],\"x\":[\"72.996111\"],\"y\":[100.5]}},\"id\":\"493040ca-3c19-4a7e-a5bd-607be890c88a\",\"type\":\"ColumnDataSource\"},{\"attributes\":{\"data_source\":{\"id\":\"c6283f79-5f47-4b28-b39b-10dc4fdba992\",\"type\":\"ColumnDataSource\"},\"glyph\":{\"id\":\"f73871b4-2b6a-4ba9-a833-9f60f53774c9\",\"type\":\"Rect\"},\"hover_glyph\":null,\"nonselection_glyph\":null,\"selection_glyph\":null},\"id\":\"f29f6fcb-94c7-42c5-9893-665ac4226238\",\"type\":\"GlyphRenderer\"},{\"attributes\":{\"plot\":null,\"text\":null},\"id\":\"82b6685b-954e-4f2f-a303-942b821fb36b\",\"type\":\"Title\"},{\"attributes\":{\"data_source\":{\"id\":\"3d6a8369-5bf2-4caf-9eb6-f811710a6b6f\",\"type\":\"ColumnDataSource\"},\"glyph\":{\"id\":\"4d30bc19-bec6-46e6-b234-6e3511d91c7f\",\"type\":\"Rect\"},\"hover_glyph\":null,\"nonselection_glyph\":null,\"selection_glyph\":null},\"id\":\"ef16da4c-64e3-41bf-8c60-4f707c2cf1d5\",\"type\":\"GlyphRenderer\"},{\"attributes\":{\"callback\":null,\"column_names\":[\"height\",\"line_color\",\"color\",\"y\",\"label\",\"x\",\"width\",\"line_alpha\",\"fill_alpha\"],\"data\":{\"chart_index\":[\"(57.999258, 59.998838]\"],\"color\":[\"#f22c40\"],\"fill_alpha\":[0.8],\"height\":[193.0],\"label\":[\"(57.999258, 59.998838]\"],\"line_alpha\":[1.0],\"line_color\":[\"black\"],\"width\":[1.9995804859201343],\"x\":[\"58.999048\"],\"y\":[96.5]}},\"id\":\"ea74330c-d67c-4b3d-a0aa-2b1d37ed09b9\",\"type\":\"ColumnDataSource\"},{\"attributes\":{\"data_source\":{\"id\":\"30389bb4-81e0-4e6b-b9bd-f6d428c6c4eb\",\"type\":\"ColumnDataSource\"},\"glyph\":{\"id\":\"93e0200a-c98a-4033-9794-fcec6b172464\",\"type\":\"Rect\"},\"hover_glyph\":null,\"nonselection_glyph\":null,\"selection_glyph\":null},\"id\":\"38f9377c-4866-4ee4-b14d-9927aa58f66f\",\"type\":\"GlyphRenderer\"},{\"attributes\":{\"data_source\":{\"id\":\"89ed4f83-6d30-4fc8-b30e-c9191f83d52c\",\"type\":\"ColumnDataSource\"},\"glyph\":{\"id\":\"0bf04567-6f7c-4b84-9539-ac167be53dcf\",\"type\":\"Rect\"},\"hover_glyph\":null,\"nonselection_glyph\":null,\"selection_glyph\":null},\"id\":\"b9fb3a2f-fc07-4562-8aaa-92173a31a048\",\"type\":\"GlyphRenderer\"},{\"attributes\":{\"callback\":null,\"column_names\":[\"height\",\"line_color\",\"color\",\"y\",\"label\",\"x\",\"width\",\"line_alpha\",\"fill_alpha\"],\"data\":{\"chart_index\":[\"(63.997999, 65.997580]\"],\"color\":[\"#f22c40\"],\"fill_alpha\":[0.8],\"height\":[188.0],\"label\":[\"(63.997999, 65.997580]\"],\"line_alpha\":[1.0],\"line_color\":[\"black\"],\"width\":[1.9995804859201343],\"x\":[\"64.9977895\"],\"y\":[94.0]}},\"id\":\"b7e3660b-1d34-4b16-8369-2eca1da0966d\",\"type\":\"ColumnDataSource\"},{\"attributes\":{\"callback\":null,\"column_names\":[\"height\",\"line_color\",\"color\",\"y\",\"label\",\"x\",\"width\",\"line_alpha\",\"fill_alpha\"],\"data\":{\"chart_index\":[\"(647.534569, 665.521509]\"],\"color\":[\"#f22c40\"],\"fill_alpha\":[0.8],\"height\":[2.0],\"label\":[\"(647.534569, 665.521509]\"],\"line_alpha\":[1.0],\"line_color\":[\"black\"],\"width\":[17.98694043395585],\"x\":[\"656.528039\"],\"y\":[1.0]}},\"id\":\"58c1edb8-5fc6-44a0-94e5-f32685e4758f\",\"type\":\"ColumnDataSource\"},{\"attributes\":{\"data_source\":{\"id\":\"c6d20f98-0b8e-4e36-854c-ff5f3ce90431\",\"type\":\"ColumnDataSource\"},\"glyph\":{\"id\":\"fc33e692-da67-4d4d-bc26-948cc3da82d4\",\"type\":\"Rect\"},\"hover_glyph\":null,\"nonselection_glyph\":null,\"selection_glyph\":null},\"id\":\"705600d4-a9c2-45ae-b587-3366009c177a\",\"type\":\"GlyphRenderer\"},{\"attributes\":{\"fill_alpha\":{\"field\":\"fill_alpha\"},\"fill_color\":{\"field\":\"color\"},\"height\":{\"field\":\"height\",\"units\":\"data\"},\"line_color\":{\"field\":\"line_color\"},\"width\":{\"field\":\"width\",\"units\":\"data\"},\"x\":{\"field\":\"x\"},\"y\":{\"field\":\"y\"}},\"id\":\"c62055e7-6a26-41c6-9de6-33ec335f5672\",\"type\":\"Rect\"},{\"attributes\":{\"callback\":null,\"column_names\":[\"height\",\"line_color\",\"color\",\"y\",\"label\",\"x\",\"width\",\"line_alpha\",\"fill_alpha\"],\"data\":{\"chart_index\":[\"(575.586807, 593.573747]\"],\"color\":[\"#f22c40\"],\"fill_alpha\":[0.8],\"height\":[5.0],\"label\":[\"(575.586807, 593.573747]\"],\"line_alpha\":[1.0],\"line_color\":[\"black\"],\"width\":[17.98694043395585],\"x\":[\"584.580277\"],\"y\":[2.5]}},\"id\":\"d554aa22-0e33-4a4c-b2be-2465199d351b\",\"type\":\"ColumnDataSource\"},{\"attributes\":{\"callback\":null,\"column_names\":[\"height\",\"line_color\",\"color\",\"y\",\"label\",\"x\",\"width\",\"line_alpha\",\"fill_alpha\"],\"data\":{\"chart_index\":[\"(40.003033, 42.002614]\"],\"color\":[\"#f22c40\"],\"fill_alpha\":[0.8],\"height\":[220.0],\"label\":[\"(40.003033, 42.002614]\"],\"line_alpha\":[1.0],\"line_color\":[\"black\"],\"width\":[1.9995804859201343],\"x\":[\"41.002823500000005\"],\"y\":[110.0]}},\"id\":\"cd9feb6a-50b1-4ba1-9aab-d883dd721f25\",\"type\":\"ColumnDataSource\"},{\"attributes\":{\"fill_alpha\":{\"field\":\"fill_alpha\"},\"fill_color\":{\"field\":\"color\"},\"height\":{\"field\":\"height\",\"units\":\"data\"},\"line_color\":{\"field\":\"line_color\"},\"width\":{\"field\":\"width\",\"units\":\"data\"},\"x\":{\"field\":\"x\"},\"y\":{\"field\":\"y\"}},\"id\":\"59d896a8-2d4f-4500-9b64-ce9b5a235fb9\",\"type\":\"Rect\"},{\"attributes\":{\"below\":[{\"id\":\"30662c61-8427-4b96-8bd8-fd6a13a01c80\",\"type\":\"LinearAxis\"}],\"css_classes\":null,\"height\":300,\"left\":[{\"id\":\"6abb8704-d050-44e2-8396-12f9a6c80aa6\",\"type\":\"LinearAxis\"}],\"renderers\":[{\"id\":\"2c312845-8eb0-4ce1-9bd6-b59ccd5938ac\",\"type\":\"BoxAnnotation\"},{\"id\":\"3c7bec4c-89ef-4cb6-9ad8-b8a4cabc8c6e\",\"type\":\"GlyphRenderer\"},{\"id\":\"962df777-e006-4225-9f8a-e4d2962af576\",\"type\":\"GlyphRenderer\"},{\"id\":\"48c75777-c3cd-40c1-9713-b02c954198f3\",\"type\":\"GlyphRenderer\"},{\"id\":\"660f4a6e-c844-4db9-9d8b-defa8b0dba6e\",\"type\":\"GlyphRenderer\"},{\"id\":\"6bb8306a-c30b-4010-ac91-27787ce52111\",\"type\":\"GlyphRenderer\"},{\"id\":\"0553bc22-efaf-423b-ad09-ed4c9f14d418\",\"type\":\"GlyphRenderer\"},{\"id\":\"fce8263b-bdc7-42a2-bec4-2c8c32e84c68\",\"type\":\"GlyphRenderer\"},{\"id\":\"dd06bbe4-aa8d-48d4-b5bf-c7500e7fe262\",\"type\":\"GlyphRenderer\"},{\"id\":\"370980fb-0635-42e4-a116-da64a520fe82\",\"type\":\"GlyphRenderer\"},{\"id\":\"95897327-2b44-4e55-bf62-5198d101e435\",\"type\":\"GlyphRenderer\"},{\"id\":\"15edcbea-8f40-4690-8fce-84dc539dbd0c\",\"type\":\"GlyphRenderer\"},{\"id\":\"590f93ec-e2d9-49ba-9905-33974ac65ddb\",\"type\":\"GlyphRenderer\"},{\"id\":\"bdb165f4-7c78-4693-9a81-048cf15e807c\",\"type\":\"GlyphRenderer\"},{\"id\":\"cf96e5b0-1c00-4fdb-89ef-ac40cc04b445\",\"type\":\"GlyphRenderer\"},{\"id\":\"712de294-34a4-430a-90d2-6a46c724046a\",\"type\":\"GlyphRenderer\"},{\"id\":\"f40bc81c-97cf-4aeb-99d5-89552c74b5af\",\"type\":\"GlyphRenderer\"},{\"id\":\"34ffd6c2-09a3-436e-83ef-dc2f837260dc\",\"type\":\"GlyphRenderer\"},{\"id\":\"6000be90-59d4-4bd6-9090-e7648ef8dc8c\",\"type\":\"GlyphRenderer\"},{\"id\":\"e833f116-3cc9-46bb-8914-a1db674e3bdd\",\"type\":\"GlyphRenderer\"},{\"id\":\"2d65ce66-c6f8-43c2-8501-a039f4890264\",\"type\":\"GlyphRenderer\"},{\"id\":\"600ffa30-6077-4445-94d1-e5bcb75c2502\",\"type\":\"GlyphRenderer\"},{\"id\":\"6d98e4bd-146d-4488-9a00-e7109a0b05a7\",\"type\":\"GlyphRenderer\"},{\"id\":\"dda18628-9c31-4ae4-b61a-ec1e3081f5a7\",\"type\":\"GlyphRenderer\"},{\"id\":\"efafc50d-a218-4ded-b5a9-2bc1445e7796\",\"type\":\"GlyphRenderer\"},{\"id\":\"991e30e3-fefb-4290-8070-e8d05c0b3da5\",\"type\":\"GlyphRenderer\"},{\"id\":\"dfdb7bb4-90a0-45c7-adbc-0b5e8df77d08\",\"type\":\"GlyphRenderer\"},{\"id\":\"705600d4-a9c2-45ae-b587-3366009c177a\",\"type\":\"GlyphRenderer\"},{\"id\":\"4d2f8576-fe0d-471e-bebb-bd48ca7bd32b\",\"type\":\"GlyphRenderer\"},{\"id\":\"a80b9957-e51a-4c4f-bfd0-92bc39a5ae43\",\"type\":\"GlyphRenderer\"},{\"id\":\"94a0d1df-3829-4436-82fa-4f70e6b02d62\",\"type\":\"GlyphRenderer\"},{\"id\":\"4cdc0c7c-e692-4d2e-9727-6d99f6de6459\",\"type\":\"GlyphRenderer\"},{\"id\":\"93aa58c9-1804-4895-ae42-a692f982b016\",\"type\":\"GlyphRenderer\"},{\"id\":\"bb46f2a6-bf7d-4aa6-904c-9fb8c9935a76\",\"type\":\"GlyphRenderer\"},{\"id\":\"502740bf-165f-4933-8997-606b8bdf5780\",\"type\":\"GlyphRenderer\"},{\"id\":\"ebc69890-75e5-41be-9fdf-fb771c396785\",\"type\":\"GlyphRenderer\"},{\"id\":\"89cad9eb-aadf-4ad8-80c7-7dd029b26a44\",\"type\":\"GlyphRenderer\"},{\"id\":\"a55599db-7d74-4a05-83be-bf28bd57f76f\",\"type\":\"GlyphRenderer\"},{\"id\":\"c7fc1e73-1a53-4103-98ef-bd2b691cbb75\",\"type\":\"GlyphRenderer\"},{\"id\":\"88b5bb27-2a22-4b4d-9ed4-71eb6d4fcfbd\",\"type\":\"GlyphRenderer\"},{\"id\":\"c346b5ba-f9a5-44d5-8382-2f408fbe6089\",\"type\":\"GlyphRenderer\"},{\"id\":\"924e7902-669f-4db5-b841-d377c13ba777\",\"type\":\"GlyphRenderer\"},{\"id\":\"a050e728-188e-4e3d-a8c5-4db68ef966c6\",\"type\":\"GlyphRenderer\"},{\"id\":\"32958e6e-2c3d-4652-b313-f99e96e817d7\",\"type\":\"GlyphRenderer\"},{\"id\":\"98d317ce-77bc-4dee-bbdb-cd495da31cbb\",\"type\":\"GlyphRenderer\"},{\"id\":\"38f9377c-4866-4ee4-b14d-9927aa58f66f\",\"type\":\"GlyphRenderer\"},{\"id\":\"f29f6fcb-94c7-42c5-9893-665ac4226238\",\"type\":\"GlyphRenderer\"},{\"id\":\"55dccdbf-6b4c-4ba3-80a8-21c6d8819964\",\"type\":\"GlyphRenderer\"},{\"id\":\"17a95514-802f-4eff-bf1d-fd1acba432f2\",\"type\":\"GlyphRenderer\"},{\"id\":\"82a2ac65-4062-4572-ad4b-29b099fcbafe\",\"type\":\"GlyphRenderer\"},{\"id\":\"576fb134-0705-4ab3-8d08-32f8ec375c80\",\"type\":\"GlyphRenderer\"},{\"id\":\"ac5722c9-c870-4fcd-81b4-6d1c6f252e69\",\"type\":\"Legend\"},{\"id\":\"30662c61-8427-4b96-8bd8-fd6a13a01c80\",\"type\":\"LinearAxis\"},{\"id\":\"6abb8704-d050-44e2-8396-12f9a6c80aa6\",\"type\":\"LinearAxis\"},{\"id\":\"de6a1bbf-19f4-47c9-a5ae-ee4fd6788333\",\"type\":\"Grid\"}],\"title\":{\"id\":\"0a8b869e-6c8d-48c2-ada3-7ab36cfb6942\",\"type\":\"Title\"},\"tool_events\":{\"id\":\"25da3170-515b-470e-ad59-5c6afee0ce1b\",\"type\":\"ToolEvents\"},\"toolbar\":{\"id\":\"30ac3b71-0ba7-4626-9f87-359611c930d7\",\"type\":\"Toolbar\"},\"toolbar_location\":null,\"width\":350,\"x_mapper_type\":\"auto\",\"x_range\":{\"id\":\"50e6d4c4-2eac-4de2-acfa-9c1a1e02d671\",\"type\":\"Range1d\"},\"y_mapper_type\":\"auto\",\"y_range\":{\"id\":\"aa4bb259-0cc8-488b-857e-95a2e2ecd4ff\",\"type\":\"Range1d\"}},\"id\":\"9129a667-4e61-4c45-8c2b-bebd7acb11a8\",\"subtype\":\"Chart\",\"type\":\"Plot\"},{\"attributes\":{\"fill_alpha\":{\"field\":\"fill_alpha\"},\"fill_color\":{\"field\":\"color\"},\"height\":{\"field\":\"height\",\"units\":\"data\"},\"line_color\":{\"field\":\"line_color\"},\"width\":{\"field\":\"width\",\"units\":\"data\"},\"x\":{\"field\":\"x\"},\"y\":{\"field\":\"y\"}},\"id\":\"69c33155-f95a-4129-99dc-68c202d74b25\",\"type\":\"Rect\"},{\"attributes\":{\"plot\":{\"id\":\"5a86ce13-08ff-4742-a236-b5d321602846\",\"subtype\":\"Chart\",\"type\":\"Plot\"}},\"id\":\"1c97f2a5-a613-4f31-98de-42a6ce4f168e\",\"type\":\"PanTool\"},{\"attributes\":{\"callback\":null,\"column_names\":[\"height\",\"line_color\",\"color\",\"y\",\"label\",\"x\",\"width\",\"line_alpha\",\"fill_alpha\"],\"data\":{\"chart_index\":[\"(71.952475, 89.939415]\"],\"color\":[\"#f22c40\"],\"fill_alpha\":[0.8],\"height\":[856.0],\"label\":[\"(71.952475, 89.939415]\"],\"line_alpha\":[1.0],\"line_color\":[\"black\"],\"width\":[17.98694043395591],\"x\":[\"80.945945\"],\"y\":[428.0]}},\"id\":\"b606a9cf-c0e8-48a4-b23e-0925e5e79aeb\",\"type\":\"ColumnDataSource\"},{\"attributes\":{\"fill_alpha\":{\"field\":\"fill_alpha\"},\"fill_color\":{\"field\":\"color\"},\"height\":{\"field\":\"height\",\"units\":\"data\"},\"line_color\":{\"field\":\"line_color\"},\"width\":{\"field\":\"width\",\"units\":\"data\"},\"x\":{\"field\":\"x\"},\"y\":{\"field\":\"y\"}},\"id\":\"eeb12b0d-8f12-4a16-8af1-e5e39a2e86a9\",\"type\":\"Rect\"},{\"attributes\":{\"callback\":null,\"end\":344.3},\"id\":\"2e644059-ae6b-43ed-a336-045ec8bf7222\",\"type\":\"Range1d\"},{\"attributes\":{\"axis_label\":\"Count( A )\",\"formatter\":{\"id\":\"13e73102-e145-4b7d-a234-8b9b09d808fe\",\"type\":\"BasicTickFormatter\"},\"plot\":{\"id\":\"0b2f8ac5-d11b-4931-a14f-4bea83cd8bf4\",\"subtype\":\"Chart\",\"type\":\"Plot\"},\"ticker\":{\"id\":\"603b0b53-b81c-42cd-a0a8-d4d1456bc65c\",\"type\":\"BasicTicker\"}},\"id\":\"3a217b4d-1432-464d-bd16-738acc7a64fd\",\"type\":\"LinearAxis\"},{\"attributes\":{\"fill_alpha\":{\"field\":\"fill_alpha\"},\"fill_color\":{\"field\":\"color\"},\"height\":{\"field\":\"height\",\"units\":\"data\"},\"line_color\":{\"field\":\"line_color\"},\"width\":{\"field\":\"width\",\"units\":\"data\"},\"x\":{\"field\":\"x\"},\"y\":{\"field\":\"y\"}},\"id\":\"b724147c-80ae-4bdb-b2d2-09dbd62ff7ea\",\"type\":\"Rect\"},{\"attributes\":{\"below\":[{\"id\":\"ee1829cb-4716-42c5-803b-69e3f90edeb3\",\"type\":\"LinearAxis\"}],\"css_classes\":null,\"height\":300,\"left\":[{\"id\":\"75be6f1f-699b-49bf-aea9-522ca2852a94\",\"type\":\"LinearAxis\"}],\"renderers\":[{\"id\":\"99dd76fa-ec45-43e7-93d8-c4db4b7510ff\",\"type\":\"BoxAnnotation\"},{\"id\":\"2e685ae9-cfce-42ab-9b6e-8027b6cd231f\",\"type\":\"GlyphRenderer\"},{\"id\":\"6b816729-b3b6-419b-a7b3-8bfa72b35ad8\",\"type\":\"GlyphRenderer\"},{\"id\":\"ce211565-39a2-44b9-8ac0-fc7a7f6e9f8d\",\"type\":\"GlyphRenderer\"},{\"id\":\"84c8c945-a282-4f9f-a6dd-bd4b77789b0b\",\"type\":\"GlyphRenderer\"},{\"id\":\"9ca4469d-bb34-41df-a644-02ae87204df8\",\"type\":\"GlyphRenderer\"},{\"id\":\"29adc6f5-f645-46a8-82ee-5f8c9435a434\",\"type\":\"GlyphRenderer\"},{\"id\":\"d7248ff5-e23b-4b03-b171-83334a0f8fa5\",\"type\":\"GlyphRenderer\"},{\"id\":\"51144923-d99a-42d4-8d9f-84ad751fc7d2\",\"type\":\"GlyphRenderer\"},{\"id\":\"a49996eb-d494-4f1f-a05e-e38d62745c14\",\"type\":\"GlyphRenderer\"},{\"id\":\"22e8b9c7-8d52-46e2-8d9c-0dc670db7fcd\",\"type\":\"GlyphRenderer\"},{\"id\":\"728d9c2a-ba2c-4b68-9214-0e7a7f5ff090\",\"type\":\"GlyphRenderer\"},{\"id\":\"ea4fb61d-23c8-4569-85d3-d4a17ce7bcf2\",\"type\":\"GlyphRenderer\"},{\"id\":\"400cfb26-cef9-4b5b-bc32-efc9818afbad\",\"type\":\"GlyphRenderer\"},{\"id\":\"8264da3c-d028-43d5-8463-ca13ae16be14\",\"type\":\"GlyphRenderer\"},{\"id\":\"4ac01892-8d03-4073-a86e-7e3376f06cf7\",\"type\":\"GlyphRenderer\"},{\"id\":\"645540dd-b9c1-4b87-8484-9dd668479cb0\",\"type\":\"GlyphRenderer\"},{\"id\":\"627cb4e1-d3a3-44b0-9282-4f6890c019ef\",\"type\":\"GlyphRenderer\"},{\"id\":\"fb2b12c2-9ce8-4ce9-8d70-3b17aa907a97\",\"type\":\"GlyphRenderer\"},{\"id\":\"121ba0f0-6708-458d-baec-b29a1d0ad21d\",\"type\":\"GlyphRenderer\"},{\"id\":\"bf0b3919-716a-41ab-bccf-11d5088bb41c\",\"type\":\"GlyphRenderer\"},{\"id\":\"755cdfeb-9d0a-4588-a22e-58bb06492476\",\"type\":\"GlyphRenderer\"},{\"id\":\"56a61fff-1c3a-43d2-b348-1f9b4f52424c\",\"type\":\"GlyphRenderer\"},{\"id\":\"ed142ff3-51ff-4e90-83bb-511f10f8a00e\",\"type\":\"GlyphRenderer\"},{\"id\":\"268d060a-26b1-4483-8637-691d1641663a\",\"type\":\"GlyphRenderer\"},{\"id\":\"795f77ac-b846-405c-a4eb-d0391dcc26df\",\"type\":\"GlyphRenderer\"},{\"id\":\"d0d46e6e-63cd-4ba9-8dd2-ec7240981214\",\"type\":\"GlyphRenderer\"},{\"id\":\"9de37825-a3e7-4d8f-9f7c-4b17e18f92d6\",\"type\":\"GlyphRenderer\"},{\"id\":\"f6b7b6b3-e23a-45b8-aa1e-79d6dc654f59\",\"type\":\"GlyphRenderer\"},{\"id\":\"dc4cab02-ad54-43ad-aeed-01c5badc73fa\",\"type\":\"GlyphRenderer\"},{\"id\":\"590e2b88-6fcd-4c53-88c2-ace9b491868c\",\"type\":\"GlyphRenderer\"},{\"id\":\"f33e75bc-0ae8-487f-8156-a826d2cd5154\",\"type\":\"GlyphRenderer\"},{\"id\":\"79a4dd12-df82-4c9e-a840-4dd83ad893d0\",\"type\":\"GlyphRenderer\"},{\"id\":\"88e43ea1-4755-40a3-bd33-4b55ea404a0a\",\"type\":\"GlyphRenderer\"},{\"id\":\"c0b3b7e6-5957-45ac-8f02-45d0e4ca4014\",\"type\":\"GlyphRenderer\"},{\"id\":\"00d02dd1-e954-4bc7-b518-13b352524a8a\",\"type\":\"GlyphRenderer\"},{\"id\":\"d017da41-f251-4b85-b1e1-4c9db2c71354\",\"type\":\"GlyphRenderer\"},{\"id\":\"21ee1377-0701-44bc-acf7-0de3bb6c8e59\",\"type\":\"GlyphRenderer\"},{\"id\":\"7c83926a-5ae0-480f-b150-cb414e009957\",\"type\":\"GlyphRenderer\"},{\"id\":\"be987258-da06-447f-92e3-c5416665928e\",\"type\":\"GlyphRenderer\"},{\"id\":\"2356dae0-928d-478e-bfbe-2b7b14a7bb0c\",\"type\":\"GlyphRenderer\"},{\"id\":\"06a111fe-bfaa-4a22-9abe-b099144854fd\",\"type\":\"GlyphRenderer\"},{\"id\":\"cd675021-ef00-4bca-b454-2093586f9b26\",\"type\":\"GlyphRenderer\"},{\"id\":\"999117d8-6677-4e89-bc00-a889e3b68219\",\"type\":\"GlyphRenderer\"},{\"id\":\"c2e70395-13e8-4bb3-b9b7-2414ae91c4c4\",\"type\":\"GlyphRenderer\"},{\"id\":\"feadcf66-4ff2-4867-a0b8-0f5dc5a81b36\",\"type\":\"GlyphRenderer\"},{\"id\":\"65bc74fc-eb53-4ee9-b7e9-b7162be5864f\",\"type\":\"GlyphRenderer\"},{\"id\":\"7c5b793e-b5d6-417f-9bb1-ea54f417146d\",\"type\":\"GlyphRenderer\"},{\"id\":\"4f7baeed-f710-4a31-a2c1-a299bc995eea\",\"type\":\"GlyphRenderer\"},{\"id\":\"afb7d8b0-c616-4bb6-8f70-4e9d3ad2c99c\",\"type\":\"GlyphRenderer\"},{\"id\":\"daa469a3-84a0-41d9-8427-ab76ad878e89\",\"type\":\"GlyphRenderer\"},{\"id\":\"5673b360-4633-4a0e-9954-2f12f40f0926\",\"type\":\"Legend\"},{\"id\":\"ee1829cb-4716-42c5-803b-69e3f90edeb3\",\"type\":\"LinearAxis\"},{\"id\":\"75be6f1f-699b-49bf-aea9-522ca2852a94\",\"type\":\"LinearAxis\"},{\"id\":\"ab12c890-6fd7-4e14-b6f4-e0ebea422b5a\",\"type\":\"Grid\"}],\"title\":{\"id\":\"82b6685b-954e-4f2f-a303-942b821fb36b\",\"type\":\"Title\"},\"tool_events\":{\"id\":\"20c7e26b-baa6-4713-a9cc-a0b4237de70c\",\"type\":\"ToolEvents\"},\"toolbar\":{\"id\":\"c42f08cd-b011-4eec-9e69-6e5bc3a9d0bb\",\"type\":\"Toolbar\"},\"toolbar_location\":null,\"width\":350,\"x_mapper_type\":\"auto\",\"x_range\":{\"id\":\"00b9b6e1-b88c-40d0-8667-7384348017f3\",\"type\":\"Range1d\"},\"y_mapper_type\":\"auto\",\"y_range\":{\"id\":\"3a52794b-ebe2-4294-90b7-f1333a863996\",\"type\":\"Range1d\"}},\"id\":\"5a86ce13-08ff-4742-a236-b5d321602846\",\"subtype\":\"Chart\",\"type\":\"Plot\"},{\"attributes\":{\"fill_alpha\":{\"field\":\"fill_alpha\"},\"fill_color\":{\"field\":\"color\"},\"height\":{\"field\":\"height\",\"units\":\"data\"},\"line_color\":{\"field\":\"line_color\"},\"width\":{\"field\":\"width\",\"units\":\"data\"},\"x\":{\"field\":\"x\"},\"y\":{\"field\":\"y\"}},\"id\":\"1b1875c5-d6a9-4385-95af-7c8622d91c06\",\"type\":\"Rect\"},{\"attributes\":{\"callback\":null,\"column_names\":[\"height\",\"line_color\",\"color\",\"y\",\"label\",\"x\",\"width\",\"line_alpha\",\"fill_alpha\"],\"data\":{\"chart_index\":[\"(70.333995, 72.310975]\"],\"color\":[\"#f22c40\"],\"fill_alpha\":[0.8],\"height\":[289.0],\"label\":[\"(70.333995, 72.310975]\"],\"line_alpha\":[1.0],\"line_color\":[\"black\"],\"width\":[1.976980165044921],\"x\":[\"71.322485\"],\"y\":[144.5]}},\"id\":\"cdd97c01-5e85-4f7e-8429-e3899a149dbc\",\"type\":\"ColumnDataSource\"},{\"attributes\":{\"data_source\":{\"id\":\"1c25d153-4597-4ac2-8bc9-c09f205c11f0\",\"type\":\"ColumnDataSource\"},\"glyph\":{\"id\":\"6302392a-3278-45ff-b5a4-1726efc1fb28\",\"type\":\"Rect\"},\"hover_glyph\":null,\"nonselection_glyph\":null,\"selection_glyph\":null},\"id\":\"84c8c945-a282-4f9f-a6dd-bd4b77789b0b\",\"type\":\"GlyphRenderer\"},{\"attributes\":{\"callback\":null,\"column_names\":[\"height\",\"line_color\",\"color\",\"y\",\"label\",\"x\",\"width\",\"line_alpha\",\"fill_alpha\"],\"data\":{\"chart_index\":[\"(53.965534, 71.952475]\"],\"color\":[\"#f22c40\"],\"fill_alpha\":[0.8],\"height\":[984.0],\"label\":[\"(53.965534, 71.952475]\"],\"line_alpha\":[1.0],\"line_color\":[\"black\"],\"width\":[17.9869404339559],\"x\":[\"62.959004500000006\"],\"y\":[492.0]}},\"id\":\"1c25d153-4597-4ac2-8bc9-c09f205c11f0\",\"type\":\"ColumnDataSource\"},{\"attributes\":{\"data_source\":{\"id\":\"c2b8d23c-36ea-49c0-b7f0-92c1bb16521c\",\"type\":\"ColumnDataSource\"},\"glyph\":{\"id\":\"b7ca2861-4eae-48fc-8856-f01fdd3e9a8b\",\"type\":\"Rect\"},\"hover_glyph\":null,\"nonselection_glyph\":null,\"selection_glyph\":null},\"id\":\"1d606e5a-2ea2-4db8-83fc-4b65ad107773\",\"type\":\"GlyphRenderer\"},{\"attributes\":{\"data_source\":{\"id\":\"493040ca-3c19-4a7e-a5bd-607be890c88a\",\"type\":\"ColumnDataSource\"},\"glyph\":{\"id\":\"4c90ddf4-fd21-469e-b073-fbfb200659a8\",\"type\":\"Rect\"},\"hover_glyph\":null,\"nonselection_glyph\":null,\"selection_glyph\":null},\"id\":\"90f1cb27-9344-4491-bbd6-ffb114400d83\",\"type\":\"GlyphRenderer\"},{\"attributes\":{\"fill_alpha\":{\"field\":\"fill_alpha\"},\"fill_color\":{\"field\":\"color\"},\"height\":{\"field\":\"height\",\"units\":\"data\"},\"line_color\":{\"field\":\"line_color\"},\"width\":{\"field\":\"width\",\"units\":\"data\"},\"x\":{\"field\":\"x\"},\"y\":{\"field\":\"y\"}},\"id\":\"9abfe737-4d4d-4367-80b6-4eb37f71ca59\",\"type\":\"Rect\"},{\"attributes\":{\"fill_alpha\":{\"field\":\"fill_alpha\"},\"fill_color\":{\"field\":\"color\"},\"height\":{\"field\":\"height\",\"units\":\"data\"},\"line_color\":{\"field\":\"line_color\"},\"width\":{\"field\":\"width\",\"units\":\"data\"},\"x\":{\"field\":\"x\"},\"y\":{\"field\":\"y\"}},\"id\":\"c784bc0f-1961-426d-b85f-e6e2c7f55d41\",\"type\":\"Rect\"},{\"attributes\":{\"fill_alpha\":{\"field\":\"fill_alpha\"},\"fill_color\":{\"field\":\"color\"},\"height\":{\"field\":\"height\",\"units\":\"data\"},\"line_color\":{\"field\":\"line_color\"},\"width\":{\"field\":\"width\",\"units\":\"data\"},\"x\":{\"field\":\"x\"},\"y\":{\"field\":\"y\"}},\"id\":\"4d30bc19-bec6-46e6-b234-6e3511d91c7f\",\"type\":\"Rect\"},{\"attributes\":{},\"id\":\"13e73102-e145-4b7d-a234-8b9b09d808fe\",\"type\":\"BasicTickFormatter\"},{\"attributes\":{\"callback\":null,\"column_names\":[\"height\",\"line_color\",\"color\",\"y\",\"label\",\"x\",\"width\",\"line_alpha\",\"fill_alpha\"],\"data\":{\"chart_index\":[\"(24.006389, 26.005970]\"],\"color\":[\"#f22c40\"],\"fill_alpha\":[0.8],\"height\":[180.0],\"label\":[\"(24.006389, 26.005970]\"],\"line_alpha\":[1.0],\"line_color\":[\"black\"],\"width\":[1.9995804859201343],\"x\":[\"25.006179500000002\"],\"y\":[90.0]}},\"id\":\"a0c959e6-17dc-4886-b3fe-88cd6395c345\",\"type\":\"ColumnDataSource\"},{\"attributes\":{\"callback\":null,\"column_names\":[\"height\",\"line_color\",\"color\",\"y\",\"label\",\"x\",\"width\",\"line_alpha\",\"fill_alpha\"],\"data\":{\"chart_index\":[\"(32.730271, 34.381065]\"],\"color\":[\"#f22c40\"],\"fill_alpha\":[0.8],\"height\":[555.0],\"label\":[\"(32.730271, 34.381065]\"],\"line_alpha\":[1.0],\"line_color\":[\"black\"],\"width\":[1.650793957214745],\"x\":[\"33.555668\"],\"y\":[277.5]}},\"id\":\"9c770197-d3e0-41c8-a360-9550f3b9c645\",\"type\":\"ColumnDataSource\"},{\"attributes\":{\"callback\":null,\"column_names\":[\"height\",\"line_color\",\"color\",\"y\",\"label\",\"x\",\"width\",\"line_alpha\",\"fill_alpha\"],\"data\":{\"chart_index\":[\"(115.804539, 117.781519]\"],\"color\":[\"#f22c40\"],\"fill_alpha\":[0.8],\"height\":[41.0],\"label\":[\"(115.804539, 117.781519]\"],\"line_alpha\":[1.0],\"line_color\":[\"black\"],\"width\":[1.976980165044921],\"x\":[\"116.793029\"],\"y\":[20.5]}},\"id\":\"12d0927c-0b95-4c1c-beb9-d91076fbdf7d\",\"type\":\"ColumnDataSource\"},{\"attributes\":{\"plot\":{\"id\":\"d4a8ccfb-05b2-4bd8-997e-90be3fcf5ef4\",\"subtype\":\"Chart\",\"type\":\"Plot\"}},\"id\":\"b7f19c9d-b2df-494b-838a-9c493e79f395\",\"type\":\"HelpTool\"},{\"attributes\":{\"location\":\"top_left\",\"plot\":{\"id\":\"0b2f8ac5-d11b-4931-a14f-4bea83cd8bf4\",\"subtype\":\"Chart\",\"type\":\"Plot\"}},\"id\":\"2d4dbf25-3b0e-4c29-a578-167bb5b48e94\",\"type\":\"Legend\"},{\"attributes\":{\"data_source\":{\"id\":\"0bd13cc0-3074-40be-8555-4dcb5ce4a741\",\"type\":\"ColumnDataSource\"},\"glyph\":{\"id\":\"baecc905-c053-4f68-b369-fcb67cf88bd1\",\"type\":\"Rect\"},\"hover_glyph\":null,\"nonselection_glyph\":null,\"selection_glyph\":null},\"id\":\"7f8b7e8c-66fb-4f26-bd32-c2751d0ebc78\",\"type\":\"GlyphRenderer\"},{\"attributes\":{},\"id\":\"3110ad42-1959-4fac-890d-b8e041803c8b\",\"type\":\"BasicTicker\"},{\"attributes\":{\"callback\":null,\"column_names\":[\"height\",\"line_color\",\"color\",\"y\",\"label\",\"x\",\"width\",\"line_alpha\",\"fill_alpha\"],\"data\":{\"chart_index\":[\"(557.599866, 575.586807]\"],\"color\":[\"#f22c40\"],\"fill_alpha\":[0.8],\"height\":[5.0],\"label\":[\"(557.599866, 575.586807]\"],\"line_alpha\":[1.0],\"line_color\":[\"black\"],\"width\":[17.98694043395585],\"x\":[\"566.5933365000001\"],\"y\":[2.5]}},\"id\":\"2b0f6b8f-3e67-47eb-86c8-62991729bf97\",\"type\":\"ColumnDataSource\"},{\"attributes\":{\"callback\":null,\"column_names\":[\"height\",\"line_color\",\"color\",\"y\",\"label\",\"x\",\"width\",\"line_alpha\",\"fill_alpha\"],\"data\":{\"chart_index\":[\"(80.218896, 82.195876]\"],\"color\":[\"#f22c40\"],\"fill_alpha\":[0.8],\"height\":[286.0],\"label\":[\"(80.218896, 82.195876]\"],\"line_alpha\":[1.0],\"line_color\":[\"black\"],\"width\":[1.976980165044921],\"x\":[\"81.207386\"],\"y\":[143.0]}},\"id\":\"c12cd00b-2cdd-4453-a0c8-672c47f378ca\",\"type\":\"ColumnDataSource\"},{\"attributes\":{\"callback\":null,\"column_names\":[\"height\",\"line_color\",\"color\",\"y\",\"label\",\"x\",\"width\",\"line_alpha\",\"fill_alpha\"],\"data\":{\"chart_index\":[\"(48.001355, 50.000936]\"],\"color\":[\"#f22c40\"],\"fill_alpha\":[0.8],\"height\":[209.0],\"label\":[\"(48.001355, 50.000936]\"],\"line_alpha\":[1.0],\"line_color\":[\"black\"],\"width\":[1.9995804859201414],\"x\":[\"49.0011455\"],\"y\":[104.5]}},\"id\":\"33a573b3-7287-4e23-970a-9db936e0c960\",\"type\":\"ColumnDataSource\"},{\"attributes\":{\"fill_alpha\":{\"field\":\"fill_alpha\"},\"fill_color\":{\"field\":\"color\"},\"height\":{\"field\":\"height\",\"units\":\"data\"},\"line_color\":{\"field\":\"line_color\"},\"width\":{\"field\":\"width\",\"units\":\"data\"},\"x\":{\"field\":\"x\"},\"y\":{\"field\":\"y\"}},\"id\":\"3a16b8f8-9052-4874-a4bb-83baf0091bbe\",\"type\":\"Rect\"},{\"attributes\":{\"data_source\":{\"id\":\"054577da-3893-4994-94c9-7fba73a76a5a\",\"type\":\"ColumnDataSource\"},\"glyph\":{\"id\":\"ee7ef78b-181c-4c26-8c1e-096cc1d8c638\",\"type\":\"Rect\"},\"hover_glyph\":null,\"nonselection_glyph\":null,\"selection_glyph\":null},\"id\":\"5b66a791-a552-460a-ad54-2c3e119f69ca\",\"type\":\"GlyphRenderer\"},{\"attributes\":{\"callback\":null,\"column_names\":[\"height\",\"line_color\",\"color\",\"y\",\"label\",\"x\",\"width\",\"line_alpha\",\"fill_alpha\"],\"data\":{\"chart_index\":[\"(95.991287, 97.990867]\"],\"color\":[\"#f22c40\"],\"fill_alpha\":[0.8],\"height\":[184.0],\"label\":[\"(95.991287, 97.990867]\"],\"line_alpha\":[1.0],\"line_color\":[\"black\"],\"width\":[1.9995804859201343],\"x\":[\"96.99107699999999\"],\"y\":[92.0]}},\"id\":\"bb401f29-80de-4f70-b12a-87861309239c\",\"type\":\"ColumnDataSource\"},{\"attributes\":{\"fill_alpha\":{\"field\":\"fill_alpha\"},\"fill_color\":{\"field\":\"color\"},\"height\":{\"field\":\"height\",\"units\":\"data\"},\"line_color\":{\"field\":\"line_color\"},\"width\":{\"field\":\"width\",\"units\":\"data\"},\"x\":{\"field\":\"x\"},\"y\":{\"field\":\"y\"}},\"id\":\"bd335e55-b124-4bd1-85d4-3e6bbb6dd1d4\",\"type\":\"Rect\"},{\"attributes\":{\"plot\":{\"id\":\"0b2f8ac5-d11b-4931-a14f-4bea83cd8bf4\",\"subtype\":\"Chart\",\"type\":\"Plot\"}},\"id\":\"32a35164-1617-4ba6-8f74-5f0e51b60c29\",\"type\":\"PanTool\"},{\"attributes\":{\"fill_alpha\":{\"field\":\"fill_alpha\"},\"fill_color\":{\"field\":\"color\"},\"height\":{\"field\":\"height\",\"units\":\"data\"},\"line_color\":{\"field\":\"line_color\"},\"width\":{\"field\":\"width\",\"units\":\"data\"},\"x\":{\"field\":\"x\"},\"y\":{\"field\":\"y\"}},\"id\":\"0aa50e50-507b-4b77-9593-fd48b74e8fe6\",\"type\":\"Rect\"},{\"attributes\":{\"data_source\":{\"id\":\"70b91a39-d77a-4629-9d8c-1bf99fd95d8e\",\"type\":\"ColumnDataSource\"},\"glyph\":{\"id\":\"17680595-ce30-40b5-9629-c05ddbe044c5\",\"type\":\"Rect\"},\"hover_glyph\":null,\"nonselection_glyph\":null,\"selection_glyph\":null},\"id\":\"1919c5f6-3db6-42da-9fa2-c0b9c8cc80ee\",\"type\":\"GlyphRenderer\"},{\"attributes\":{\"data_source\":{\"id\":\"3c42c730-b3f9-40bb-918c-1a2cbf93df58\",\"type\":\"ColumnDataSource\"},\"glyph\":{\"id\":\"cc1fbc87-91c7-424c-8350-8d50caedf7e7\",\"type\":\"Rect\"},\"hover_glyph\":null,\"nonselection_glyph\":null,\"selection_glyph\":null},\"id\":\"590f93ec-e2d9-49ba-9905-33974ac65ddb\",\"type\":\"GlyphRenderer\"},{\"attributes\":{\"fill_alpha\":{\"field\":\"fill_alpha\"},\"fill_color\":{\"field\":\"color\"},\"height\":{\"field\":\"height\",\"units\":\"data\"},\"line_color\":{\"field\":\"line_color\"},\"width\":{\"field\":\"width\",\"units\":\"data\"},\"x\":{\"field\":\"x\"},\"y\":{\"field\":\"y\"}},\"id\":\"0024bdf4-a6c8-4620-8047-c867da1d22ac\",\"type\":\"Rect\"},{\"attributes\":{\"data_source\":{\"id\":\"0d0e50ae-6558-4d85-8c1e-4ead73edafad\",\"type\":\"ColumnDataSource\"},\"glyph\":{\"id\":\"6e8b1160-8374-46cf-ac1e-c48e133fb085\",\"type\":\"Rect\"},\"hover_glyph\":null,\"nonselection_glyph\":null,\"selection_glyph\":null},\"id\":\"488c0698-688a-4c13-9b8d-f28d84580ea1\",\"type\":\"GlyphRenderer\"},{\"attributes\":{\"fill_alpha\":{\"field\":\"fill_alpha\"},\"fill_color\":{\"field\":\"color\"},\"height\":{\"field\":\"height\",\"units\":\"data\"},\"line_color\":{\"field\":\"line_color\"},\"width\":{\"field\":\"width\",\"units\":\"data\"},\"x\":{\"field\":\"x\"},\"y\":{\"field\":\"y\"}},\"id\":\"7489ef4d-a2c1-4ee3-9923-204cd02b5cab\",\"type\":\"Rect\"},{\"attributes\":{\"callback\":null,\"column_names\":[\"height\",\"line_color\",\"color\",\"y\",\"label\",\"x\",\"width\",\"line_alpha\",\"fill_alpha\"],\"data\":{\"chart_index\":[\"(665.521509, 683.508450]\"],\"color\":[\"#f22c40\"],\"fill_alpha\":[0.8],\"height\":[2.0],\"label\":[\"(665.521509, 683.508450]\"],\"line_alpha\":[1.0],\"line_color\":[\"black\"],\"width\":[17.986940433955965],\"x\":[\"674.5149795\"],\"y\":[1.0]}},\"id\":\"7ebb0d9d-fe21-4147-a231-dc5d67ac0351\",\"type\":\"ColumnDataSource\"},{\"attributes\":{\"data_source\":{\"id\":\"0da6d5cd-8467-4f15-beb5-75f1db1a168c\",\"type\":\"ColumnDataSource\"},\"glyph\":{\"id\":\"5c4c927a-d202-4da2-b032-4ca686b85aef\",\"type\":\"Rect\"},\"hover_glyph\":null,\"nonselection_glyph\":null,\"selection_glyph\":null},\"id\":\"a0b0061c-708c-4ed9-b516-91e87afc0303\",\"type\":\"GlyphRenderer\"},{\"attributes\":{\"callback\":null,\"column_names\":[\"height\",\"line_color\",\"color\",\"y\",\"label\",\"x\",\"width\",\"line_alpha\",\"fill_alpha\"],\"data\":{\"chart_index\":[\"(105.919638, 107.896618]\"],\"color\":[\"#f22c40\"],\"fill_alpha\":[0.8],\"height\":[123.0],\"label\":[\"(105.919638, 107.896618]\"],\"line_alpha\":[1.0],\"line_color\":[\"black\"],\"width\":[1.976980165044921],\"x\":[\"106.908128\"],\"y\":[61.5]}},\"id\":\"e7d8b52c-c121-4a16-be57-f733088fda96\",\"type\":\"ColumnDataSource\"},{\"attributes\":{\"children\":[{\"id\":\"5a86ce13-08ff-4742-a236-b5d321602846\",\"subtype\":\"Chart\",\"type\":\"Plot\"},{\"id\":\"9129a667-4e61-4c45-8c2b-bebd7acb11a8\",\"subtype\":\"Chart\",\"type\":\"Plot\"}]},\"id\":\"8352535a-7a40-44f3-8d07-9031555df963\",\"type\":\"Row\"},{\"attributes\":{\"callback\":null,\"column_names\":[\"height\",\"line_color\",\"color\",\"y\",\"label\",\"x\",\"width\",\"line_alpha\",\"fill_alpha\"],\"data\":{\"chart_index\":[\"(3.015979, 4.666773]\"],\"color\":[\"#f22c40\"],\"fill_alpha\":[0.8],\"height\":[0.0],\"label\":[\"(3.015979, 4.666773]\"],\"line_alpha\":[1.0],\"line_color\":[\"black\"],\"width\":[1.6507939572147432],\"x\":[\"3.8413760000000003\"],\"y\":[0.0]}},\"id\":\"9caf7f11-4f6a-49d9-b654-c1fc0911e9cf\",\"type\":\"ColumnDataSource\"},{\"attributes\":{\"data_source\":{\"id\":\"94adc28c-7eda-43a9-a972-7eea2d4b31d7\",\"type\":\"ColumnDataSource\"},\"glyph\":{\"id\":\"b014c042-79a1-4efa-afed-a0cfc30c8d99\",\"type\":\"Rect\"},\"hover_glyph\":null,\"nonselection_glyph\":null,\"selection_glyph\":null},\"id\":\"4fcbc633-48e0-41e3-8ff5-780a36bcce54\",\"type\":\"GlyphRenderer\"},{\"attributes\":{\"callback\":null,\"column_names\":[\"height\",\"line_color\",\"color\",\"y\",\"label\",\"x\",\"width\",\"line_alpha\",\"fill_alpha\"],\"data\":{\"chart_index\":[\"(109.873599, 111.850579]\"],\"color\":[\"#f22c40\"],\"fill_alpha\":[0.8],\"height\":[90.0],\"label\":[\"(109.873599, 111.850579]\"],\"line_alpha\":[1.0],\"line_color\":[\"black\"],\"width\":[1.976980165044921],\"x\":[\"110.862089\"],\"y\":[45.0]}},\"id\":\"ce95b277-fd45-484d-be70-4b0fc58185c8\",\"type\":\"ColumnDataSource\"},{\"attributes\":{\"data_source\":{\"id\":\"874bd1ae-c63a-4069-82e1-091a79dcab1f\",\"type\":\"ColumnDataSource\"},\"glyph\":{\"id\":\"65e70d1c-d346-4ceb-bd59-595a44eb02ca\",\"type\":\"Rect\"},\"hover_glyph\":null,\"nonselection_glyph\":null,\"selection_glyph\":null},\"id\":\"70223ce7-c45e-49d0-b554-7ebde8591f8f\",\"type\":\"GlyphRenderer\"},{\"attributes\":{\"callback\":null,\"column_names\":[\"height\",\"line_color\",\"color\",\"y\",\"label\",\"x\",\"width\",\"line_alpha\",\"fill_alpha\"],\"data\":{\"chart_index\":[\"(24.863451, 26.840432]\"],\"color\":[\"#f22c40\"],\"fill_alpha\":[0.8],\"height\":[67.0],\"label\":[\"(24.863451, 26.840432]\"],\"line_alpha\":[1.0],\"line_color\":[\"black\"],\"width\":[1.9769801650449246],\"x\":[\"25.851941500000002\"],\"y\":[33.5]}},\"id\":\"9297bf92-b8e0-4d0a-b59a-b11b05f0a80e\",\"type\":\"ColumnDataSource\"},{\"attributes\":{\"callback\":null,\"column_names\":[\"height\",\"line_color\",\"color\",\"y\",\"label\",\"x\",\"width\",\"line_alpha\",\"fill_alpha\"],\"data\":{\"chart_index\":[\"(72.349326, 74.000120]\"],\"color\":[\"#f22c40\"],\"fill_alpha\":[0.8],\"height\":[5.0],\"label\":[\"(72.349326, 74.000120]\"],\"line_alpha\":[1.0],\"line_color\":[\"black\"],\"width\":[1.650793957214745],\"x\":[\"73.174723\"],\"y\":[2.5]}},\"id\":\"c6283f79-5f47-4b28-b39b-10dc4fdba992\",\"type\":\"ColumnDataSource\"},{\"attributes\":{\"fill_alpha\":{\"field\":\"fill_alpha\"},\"fill_color\":{\"field\":\"color\"},\"height\":{\"field\":\"height\",\"units\":\"data\"},\"line_color\":{\"field\":\"line_color\"},\"width\":{\"field\":\"width\",\"units\":\"data\"},\"x\":{\"field\":\"x\"},\"y\":{\"field\":\"y\"}},\"id\":\"07692f71-0e05-4204-8e39-0edc1b66417f\",\"type\":\"Rect\"},{\"attributes\":{\"callback\":null,\"column_names\":[\"height\",\"line_color\",\"color\",\"y\",\"label\",\"x\",\"width\",\"line_alpha\",\"fill_alpha\"],\"data\":{\"chart_index\":[\"(50.000936, 52.000516]\"],\"color\":[\"#f22c40\"],\"fill_alpha\":[0.8],\"height\":[197.0],\"label\":[\"(50.000936, 52.000516]\"],\"line_alpha\":[1.0],\"line_color\":[\"black\"],\"width\":[1.9995804859201343],\"x\":[\"51.000726\"],\"y\":[98.5]}},\"id\":\"ee258214-3430-4b3f-ba12-0cc595f8296c\",\"type\":\"ColumnDataSource\"},{\"attributes\":{\"fill_alpha\":{\"field\":\"fill_alpha\"},\"fill_color\":{\"field\":\"color\"},\"height\":{\"field\":\"height\",\"units\":\"data\"},\"line_color\":{\"field\":\"line_color\"},\"width\":{\"field\":\"width\",\"units\":\"data\"},\"x\":{\"field\":\"x\"},\"y\":{\"field\":\"y\"}},\"id\":\"90052ebe-3670-488b-95ca-eaecabf08793\",\"type\":\"Rect\"},{\"attributes\":{\"callback\":null,\"column_names\":[\"height\",\"line_color\",\"color\",\"y\",\"label\",\"x\",\"width\",\"line_alpha\",\"fill_alpha\"],\"data\":{\"chart_index\":[\"(27.777889, 29.428683]\"],\"color\":[\"#f22c40\"],\"fill_alpha\":[0.8],\"height\":[363.0],\"label\":[\"(27.777889, 29.428683]\"],\"line_alpha\":[1.0],\"line_color\":[\"black\"],\"width\":[1.650793957214745],\"x\":[\"28.603285999999997\"],\"y\":[181.5]}},\"id\":\"22393aae-d157-4f97-9dfc-815b8b4f7517\",\"type\":\"ColumnDataSource\"},{\"attributes\":{\"data_source\":{\"id\":\"9507cb79-0c90-446e-8ff9-fd375cb20a07\",\"type\":\"ColumnDataSource\"},\"glyph\":{\"id\":\"5d029078-51de-43a6-958a-928a08db9c03\",\"type\":\"Rect\"},\"hover_glyph\":null,\"nonselection_glyph\":null,\"selection_glyph\":null},\"id\":\"ed142ff3-51ff-4e90-83bb-511f10f8a00e\",\"type\":\"GlyphRenderer\"},{\"attributes\":{\"data_source\":{\"id\":\"57b4b399-4bfd-4a76-8aef-d6363256b50f\",\"type\":\"ColumnDataSource\"},\"glyph\":{\"id\":\"1843040f-23b9-480c-a3ca-1bea24b6e38a\",\"type\":\"Rect\"},\"hover_glyph\":null,\"nonselection_glyph\":null,\"selection_glyph\":null},\"id\":\"600b0195-6582-4917-b55b-a249ca7013d7\",\"type\":\"GlyphRenderer\"},{\"attributes\":{\"data_source\":{\"id\":\"6ea391b3-846c-4d7e-8ca9-a4d35a3ea275\",\"type\":\"ColumnDataSource\"},\"glyph\":{\"id\":\"e6772b43-de7e-46ef-8647-40ec00e25349\",\"type\":\"Rect\"},\"hover_glyph\":null,\"nonselection_glyph\":null,\"selection_glyph\":null},\"id\":\"f6b7b6b3-e23a-45b8-aa1e-79d6dc654f59\",\"type\":\"GlyphRenderer\"},{\"attributes\":{},\"id\":\"20c7e26b-baa6-4713-a9cc-a0b4237de70c\",\"type\":\"ToolEvents\"},{\"attributes\":{\"fill_alpha\":{\"field\":\"fill_alpha\"},\"fill_color\":{\"field\":\"color\"},\"height\":{\"field\":\"height\",\"units\":\"data\"},\"line_color\":{\"field\":\"line_color\"},\"width\":{\"field\":\"width\",\"units\":\"data\"},\"x\":{\"field\":\"x\"},\"y\":{\"field\":\"y\"}},\"id\":\"f7929736-196e-48e9-8611-5992b37cd9e3\",\"type\":\"Rect\"},{\"attributes\":{\"fill_alpha\":{\"field\":\"fill_alpha\"},\"fill_color\":{\"field\":\"color\"},\"height\":{\"field\":\"height\",\"units\":\"data\"},\"line_color\":{\"field\":\"line_color\"},\"width\":{\"field\":\"width\",\"units\":\"data\"},\"x\":{\"field\":\"x\"},\"y\":{\"field\":\"y\"}},\"id\":\"92c86a6d-4400-467e-8e6a-ff53506b3ec4\",\"type\":\"Rect\"},{\"attributes\":{\"fill_alpha\":{\"field\":\"fill_alpha\"},\"fill_color\":{\"field\":\"color\"},\"height\":{\"field\":\"height\",\"units\":\"data\"},\"line_color\":{\"field\":\"line_color\"},\"width\":{\"field\":\"width\",\"units\":\"data\"},\"x\":{\"field\":\"x\"},\"y\":{\"field\":\"y\"}},\"id\":\"16cf0305-742a-4d85-a615-f389ace42406\",\"type\":\"Rect\"},{\"attributes\":{\"callback\":null,\"column_names\":[\"height\",\"line_color\",\"color\",\"y\",\"label\",\"x\",\"width\",\"line_alpha\",\"fill_alpha\"],\"data\":{\"chart_index\":[\"(359.743522, 377.730462]\"],\"color\":[\"#f22c40\"],\"fill_alpha\":[0.8],\"height\":[37.0],\"label\":[\"(359.743522, 377.730462]\"],\"line_alpha\":[1.0],\"line_color\":[\"black\"],\"width\":[17.98694043395585],\"x\":[\"368.736992\"],\"y\":[18.5]}},\"id\":\"4b0b6fc4-7f03-4613-862a-9690f79ede85\",\"type\":\"ColumnDataSource\"},{\"attributes\":{\"callback\":null,\"column_names\":[\"height\",\"line_color\",\"color\",\"y\",\"label\",\"x\",\"width\",\"line_alpha\",\"fill_alpha\"],\"data\":{\"chart_index\":[\"(881.364794, 899.351735]\"],\"color\":[\"#f22c40\"],\"fill_alpha\":[0.8],\"height\":[1.0],\"label\":[\"(881.364794, 899.351735]\"],\"line_alpha\":[1.0],\"line_color\":[\"black\"],\"width\":[17.986940433955965],\"x\":[\"890.3582644999999\"],\"y\":[0.5]}},\"id\":\"4fbdd5e7-ddd2-4cd2-add1-8ae011258af8\",\"type\":\"ColumnDataSource\"},{\"attributes\":{\"callback\":null,\"column_names\":[\"height\",\"line_color\",\"color\",\"y\",\"label\",\"x\",\"width\",\"line_alpha\",\"fill_alpha\"],\"data\":{\"chart_index\":[\"(74.287956, 76.264936]\"],\"color\":[\"#f22c40\"],\"fill_alpha\":[0.8],\"height\":[271.0],\"label\":[\"(74.287956, 76.264936]\"],\"line_alpha\":[1.0],\"line_color\":[\"black\"],\"width\":[1.976980165044921],\"x\":[\"75.27644599999999\"],\"y\":[135.5]}},\"id\":\"3d6a8369-5bf2-4caf-9eb6-f811710a6b6f\",\"type\":\"ColumnDataSource\"},{\"attributes\":{\"fill_alpha\":{\"field\":\"fill_alpha\"},\"fill_color\":{\"field\":\"color\"},\"height\":{\"field\":\"height\",\"units\":\"data\"},\"line_color\":{\"field\":\"line_color\"},\"width\":{\"field\":\"width\",\"units\":\"data\"},\"x\":{\"field\":\"x\"},\"y\":{\"field\":\"y\"}},\"id\":\"bbeac0b2-20aa-415b-928f-3c51d7ee1011\",\"type\":\"Rect\"},{\"attributes\":{\"data_source\":{\"id\":\"0f23e6fa-80ce-48b3-aee1-b6a1d943e636\",\"type\":\"ColumnDataSource\"},\"glyph\":{\"id\":\"bbeac0b2-20aa-415b-928f-3c51d7ee1011\",\"type\":\"Rect\"},\"hover_glyph\":null,\"nonselection_glyph\":null,\"selection_glyph\":null},\"id\":\"de529c30-dbc5-4b3b-b379-b6c718265cae\",\"type\":\"GlyphRenderer\"},{\"attributes\":{\"callback\":null,\"column_names\":[\"height\",\"line_color\",\"color\",\"y\",\"label\",\"x\",\"width\",\"line_alpha\",\"fill_alpha\"],\"data\":{\"chart_index\":[\"(9.619155, 11.269949]\"],\"color\":[\"#f22c40\"],\"fill_alpha\":[0.8],\"height\":[12.0],\"label\":[\"(9.619155, 11.269949]\"],\"line_alpha\":[1.0],\"line_color\":[\"black\"],\"width\":[1.6507939572147432],\"x\":[\"10.444552\"],\"y\":[6.0]}},\"id\":\"6f2dd8ad-8d88-4a15-95a5-bafdace96669\",\"type\":\"ColumnDataSource\"},{\"attributes\":{\"data_source\":{\"id\":\"7ccaec09-38f6-423f-a008-85f077183a55\",\"type\":\"ColumnDataSource\"},\"glyph\":{\"id\":\"ca584732-42ba-470c-9662-58a0b68e52bc\",\"type\":\"Rect\"},\"hover_glyph\":null,\"nonselection_glyph\":null,\"selection_glyph\":null},\"id\":\"7d99b724-16b8-4d02-9bbf-dfdb14060d3a\",\"type\":\"GlyphRenderer\"},{\"attributes\":{\"data_source\":{\"id\":\"870e2d6c-34b8-4a54-a70f-545ced747bf8\",\"type\":\"ColumnDataSource\"},\"glyph\":{\"id\":\"de8d8d8c-047a-4c2f-b133-2e55f8d11a63\",\"type\":\"Rect\"},\"hover_glyph\":null,\"nonselection_glyph\":null,\"selection_glyph\":null},\"id\":\"544b768b-db41-4c65-bcf9-fec6ecac785d\",\"type\":\"GlyphRenderer\"},{\"attributes\":{\"data_source\":{\"id\":\"6d1b79c1-fdeb-4437-9610-0a59673bfbf0\",\"type\":\"ColumnDataSource\"},\"glyph\":{\"id\":\"74859115-7363-433f-a4aa-0a769726d673\",\"type\":\"Rect\"},\"hover_glyph\":null,\"nonselection_glyph\":null,\"selection_glyph\":null},\"id\":\"d017da41-f251-4b85-b1e1-4c9db2c71354\",\"type\":\"GlyphRenderer\"},{\"attributes\":{\"data_source\":{\"id\":\"01367fdc-e9ea-4136-b5da-f60a3937f1b4\",\"type\":\"ColumnDataSource\"},\"glyph\":{\"id\":\"69dbdbae-3957-4283-a7c3-e53133c54d98\",\"type\":\"Rect\"},\"hover_glyph\":null,\"nonselection_glyph\":null,\"selection_glyph\":null},\"id\":\"4ac01892-8d03-4073-a86e-7e3376f06cf7\",\"type\":\"GlyphRenderer\"},{\"attributes\":{\"fill_alpha\":{\"field\":\"fill_alpha\"},\"fill_color\":{\"field\":\"color\"},\"height\":{\"field\":\"height\",\"units\":\"data\"},\"line_color\":{\"field\":\"line_color\"},\"width\":{\"field\":\"width\",\"units\":\"data\"},\"x\":{\"field\":\"x\"},\"y\":{\"field\":\"y\"}},\"id\":\"04001aae-4786-43f4-b38b-a3f45c6f9492\",\"type\":\"Rect\"},{\"attributes\":{\"data_source\":{\"id\":\"4b0b6fc4-7f03-4613-862a-9690f79ede85\",\"type\":\"ColumnDataSource\"},\"glyph\":{\"id\":\"b2a9452c-e6ae-4d87-9fbe-415429f863af\",\"type\":\"Rect\"},\"hover_glyph\":null,\"nonselection_glyph\":null,\"selection_glyph\":null},\"id\":\"755cdfeb-9d0a-4588-a22e-58bb06492476\",\"type\":\"GlyphRenderer\"},{\"attributes\":{\"callback\":null,\"column_names\":[\"height\",\"line_color\",\"color\",\"y\",\"label\",\"x\",\"width\",\"line_alpha\",\"fill_alpha\"],\"data\":{\"chart_index\":[\"(44.285828, 45.936622]\"],\"color\":[\"#f22c40\"],\"fill_alpha\":[0.8],\"height\":[589.0],\"label\":[\"(44.285828, 45.936622]\"],\"line_alpha\":[1.0],\"line_color\":[\"black\"],\"width\":[1.650793957214745],\"x\":[\"45.111225000000005\"],\"y\":[294.5]}},\"id\":\"348c7c40-5c78-45b4-976f-1afe77176959\",\"type\":\"ColumnDataSource\"},{\"attributes\":{\"plot\":{\"id\":\"9129a667-4e61-4c45-8c2b-bebd7acb11a8\",\"subtype\":\"Chart\",\"type\":\"Plot\"}},\"id\":\"db21d2bb-6405-420b-a016-48d2dbbc62e2\",\"type\":\"WheelZoomTool\"},{\"attributes\":{\"data_source\":{\"id\":\"7108f18b-074d-4992-ab23-572bd40c0395\",\"type\":\"ColumnDataSource\"},\"glyph\":{\"id\":\"759a1b2d-531e-4a9e-9613-4367437a2112\",\"type\":\"Rect\"},\"hover_glyph\":null,\"nonselection_glyph\":null,\"selection_glyph\":null},\"id\":\"c7fc1e73-1a53-4103-98ef-bd2b691cbb75\",\"type\":\"GlyphRenderer\"},{\"attributes\":{\"fill_alpha\":{\"field\":\"fill_alpha\"},\"fill_color\":{\"field\":\"color\"},\"height\":{\"field\":\"height\",\"units\":\"data\"},\"line_color\":{\"field\":\"line_color\"},\"width\":{\"field\":\"width\",\"units\":\"data\"},\"x\":{\"field\":\"x\"},\"y\":{\"field\":\"y\"}},\"id\":\"d4373f87-6ea1-4c61-8331-1084db703e7f\",\"type\":\"Rect\"},{\"attributes\":{\"fill_alpha\":{\"field\":\"fill_alpha\"},\"fill_color\":{\"field\":\"color\"},\"height\":{\"field\":\"height\",\"units\":\"data\"},\"line_color\":{\"field\":\"line_color\"},\"width\":{\"field\":\"width\",\"units\":\"data\"},\"x\":{\"field\":\"x\"},\"y\":{\"field\":\"y\"}},\"id\":\"b7ca2861-4eae-48fc-8856-f01fdd3e9a8b\",\"type\":\"Rect\"},{\"attributes\":{\"data_source\":{\"id\":\"876adf63-673a-4bdd-a87b-ab70bd3f55d9\",\"type\":\"ColumnDataSource\"},\"glyph\":{\"id\":\"983e8cb1-44ff-4cc5-835b-1cf22c4928c6\",\"type\":\"Rect\"},\"hover_glyph\":null,\"nonselection_glyph\":null,\"selection_glyph\":null},\"id\":\"962df777-e006-4225-9f8a-e4d2962af576\",\"type\":\"GlyphRenderer\"},{\"attributes\":{\"callback\":null,\"column_names\":[\"height\",\"line_color\",\"color\",\"y\",\"label\",\"x\",\"width\",\"line_alpha\",\"fill_alpha\"],\"data\":{\"chart_index\":[\"(34.381065, 36.031858]\"],\"color\":[\"#f22c40\"],\"fill_alpha\":[0.8],\"height\":[576.0],\"label\":[\"(34.381065, 36.031858]\"],\"line_alpha\":[1.0],\"line_color\":[\"black\"],\"width\":[1.650793957214745],\"x\":[\"35.2064615\"],\"y\":[288.0]}},\"id\":\"d670ff85-836a-45cb-bbc6-099283b4da95\",\"type\":\"ColumnDataSource\"},{\"attributes\":{\"data_source\":{\"id\":\"f4d26d2f-4d2c-4d10-b484-496e3ec9fd0c\",\"type\":\"ColumnDataSource\"},\"glyph\":{\"id\":\"a4c17e29-f711-4e8d-a479-f23d17dd61f1\",\"type\":\"Rect\"},\"hover_glyph\":null,\"nonselection_glyph\":null,\"selection_glyph\":null},\"id\":\"f40bc81c-97cf-4aeb-99d5-89552c74b5af\",\"type\":\"GlyphRenderer\"},{\"attributes\":{\"callback\":null,\"column_names\":[\"height\",\"line_color\",\"color\",\"y\",\"label\",\"x\",\"width\",\"line_alpha\",\"fill_alpha\"],\"data\":{\"chart_index\":[\"(68.357015, 70.333995]\"],\"color\":[\"#f22c40\"],\"fill_alpha\":[0.8],\"height\":[313.0],\"label\":[\"(68.357015, 70.333995]\"],\"line_alpha\":[1.0],\"line_color\":[\"black\"],\"width\":[1.976980165044921],\"x\":[\"69.345505\"],\"y\":[156.5]}},\"id\":\"8268dbc0-a08b-4234-912a-940162e8dd9a\",\"type\":\"ColumnDataSource\"},{\"attributes\":{\"data_source\":{\"id\":\"9127aae4-cad8-4013-9b39-2d74f1d44bec\",\"type\":\"ColumnDataSource\"},\"glyph\":{\"id\":\"86bc2ec7-65a2-4a6e-a2c1-5c094a176747\",\"type\":\"Rect\"},\"hover_glyph\":null,\"nonselection_glyph\":null,\"selection_glyph\":null},\"id\":\"d4954f8c-aba3-44fb-86c8-207c8424a9e1\",\"type\":\"GlyphRenderer\"},{\"attributes\":{\"data_source\":{\"id\":\"a69934aa-096e-452a-a2a4-5277410a0e02\",\"type\":\"ColumnDataSource\"},\"glyph\":{\"id\":\"eaa87745-624f-4238-9fda-18cd9d57ebc0\",\"type\":\"Rect\"},\"hover_glyph\":null,\"nonselection_glyph\":null,\"selection_glyph\":null},\"id\":\"bb46f2a6-bf7d-4aa6-904c-9fb8c9935a76\",\"type\":\"GlyphRenderer\"},{\"attributes\":{\"fill_alpha\":{\"field\":\"fill_alpha\"},\"fill_color\":{\"field\":\"color\"},\"height\":{\"field\":\"height\",\"units\":\"data\"},\"line_color\":{\"field\":\"line_color\"},\"width\":{\"field\":\"width\",\"units\":\"data\"},\"x\":{\"field\":\"x\"},\"y\":{\"field\":\"y\"}},\"id\":\"f6ea7eb1-638d-45cc-b16b-1076ede08fd6\",\"type\":\"Rect\"},{\"attributes\":{\"fill_alpha\":{\"field\":\"fill_alpha\"},\"fill_color\":{\"field\":\"color\"},\"height\":{\"field\":\"height\",\"units\":\"data\"},\"line_color\":{\"field\":\"line_color\"},\"width\":{\"field\":\"width\",\"units\":\"data\"},\"x\":{\"field\":\"x\"},\"y\":{\"field\":\"y\"}},\"id\":\"07c7b9b2-e5c8-416e-9940-1f0d2dd62f90\",\"type\":\"Rect\"},{\"attributes\":{\"data_source\":{\"id\":\"454eb0a4-4307-4e5f-a899-79044f4fcef8\",\"type\":\"ColumnDataSource\"},\"glyph\":{\"id\":\"883ef6c6-d698-4f9d-92bb-0e2277c2c1c3\",\"type\":\"Rect\"},\"hover_glyph\":null,\"nonselection_glyph\":null,\"selection_glyph\":null},\"id\":\"94a0d1df-3829-4436-82fa-4f70e6b02d62\",\"type\":\"GlyphRenderer\"},{\"attributes\":{\"children\":[{\"id\":\"b672f422-68b5-40a5-a371-6f6c54c26a42\",\"type\":\"ToolbarBox\"},{\"id\":\"2f23d141-464d-4ad4-8b39-17705824ffc1\",\"type\":\"Column\"}]},\"id\":\"a2e3eeaf-eaef-45e3-b7fc-5d330c9cca08\",\"type\":\"Column\"},{\"attributes\":{\"callback\":null,\"column_names\":[\"height\",\"line_color\",\"color\",\"y\",\"label\",\"x\",\"width\",\"line_alpha\",\"fill_alpha\"],\"data\":{\"chart_index\":[\"(117.781519, 119.758499]\"],\"color\":[\"#f22c40\"],\"fill_alpha\":[0.8],\"height\":[18.0],\"label\":[\"(117.781519, 119.758499]\"],\"line_alpha\":[1.0],\"line_color\":[\"black\"],\"width\":[1.976980165044921],\"x\":[\"118.770009\"],\"y\":[9.0]}},\"id\":\"6af25e76-3d87-4ab0-b49c-2ff0d495aeb2\",\"type\":\"ColumnDataSource\"},{\"attributes\":{\"children\":[{\"id\":\"8352535a-7a40-44f3-8d07-9031555df963\",\"type\":\"Row\"},{\"id\":\"ac92f88d-a667-4d4f-a093-af6607f9574f\",\"type\":\"Row\"}]},\"id\":\"2f23d141-464d-4ad4-8b39-17705824ffc1\",\"type\":\"Column\"},{\"attributes\":{\"overlay\":{\"id\":\"99dd76fa-ec45-43e7-93d8-c4db4b7510ff\",\"type\":\"BoxAnnotation\"},\"plot\":{\"id\":\"5a86ce13-08ff-4742-a236-b5d321602846\",\"subtype\":\"Chart\",\"type\":\"Plot\"}},\"id\":\"40ee6a6c-d29b-45c0-b2c0-9521068ae66d\",\"type\":\"BoxZoomTool\"},{\"attributes\":{\"fill_alpha\":{\"field\":\"fill_alpha\"},\"fill_color\":{\"field\":\"color\"},\"height\":{\"field\":\"height\",\"units\":\"data\"},\"line_color\":{\"field\":\"line_color\"},\"width\":{\"field\":\"width\",\"units\":\"data\"},\"x\":{\"field\":\"x\"},\"y\":{\"field\":\"y\"}},\"id\":\"99c807e3-db57-4eae-acc7-2c1f48205be5\",\"type\":\"Rect\"},{\"attributes\":{\"data_source\":{\"id\":\"c65afd4b-91de-48e4-aae3-6312ad072a02\",\"type\":\"ColumnDataSource\"},\"glyph\":{\"id\":\"7e1ef308-fd50-4337-aedc-6439f18f5963\",\"type\":\"Rect\"},\"hover_glyph\":null,\"nonselection_glyph\":null,\"selection_glyph\":null},\"id\":\"06a111fe-bfaa-4a22-9abe-b099144854fd\",\"type\":\"GlyphRenderer\"},{\"attributes\":{\"fill_alpha\":{\"field\":\"fill_alpha\"},\"fill_color\":{\"field\":\"color\"},\"height\":{\"field\":\"height\",\"units\":\"data\"},\"line_color\":{\"field\":\"line_color\"},\"width\":{\"field\":\"width\",\"units\":\"data\"},\"x\":{\"field\":\"x\"},\"y\":{\"field\":\"y\"}},\"id\":\"450d713f-9ba9-4038-92b6-f7e31c51b49e\",\"type\":\"Rect\"},{\"attributes\":{\"data_source\":{\"id\":\"cf772f93-9cd3-4899-a36d-539aa3128cca\",\"type\":\"ColumnDataSource\"},\"glyph\":{\"id\":\"5d212fe2-ecb2-4624-8da1-0dadd4bb3195\",\"type\":\"Rect\"},\"hover_glyph\":null,\"nonselection_glyph\":null,\"selection_glyph\":null},\"id\":\"f8ccb67d-aaf6-4644-87f7-b607712243c6\",\"type\":\"GlyphRenderer\"},{\"attributes\":{\"data_source\":{\"id\":\"a8d74d02-e796-480d-97a1-253855fc3c16\",\"type\":\"ColumnDataSource\"},\"glyph\":{\"id\":\"1485822d-fe16-4631-9eef-91a7e6cd56eb\",\"type\":\"Rect\"},\"hover_glyph\":null,\"nonselection_glyph\":null,\"selection_glyph\":null},\"id\":\"15edcbea-8f40-4690-8fce-84dc539dbd0c\",\"type\":\"GlyphRenderer\"},{\"attributes\":{},\"id\":\"09354e85-7e5d-4119-9b5d-e9d5e858be5c\",\"type\":\"BasicTicker\"},{\"attributes\":{\"fill_alpha\":{\"field\":\"fill_alpha\"},\"fill_color\":{\"field\":\"color\"},\"height\":{\"field\":\"height\",\"units\":\"data\"},\"line_color\":{\"field\":\"line_color\"},\"width\":{\"field\":\"width\",\"units\":\"data\"},\"x\":{\"field\":\"x\"},\"y\":{\"field\":\"y\"}},\"id\":\"72ef7dbe-64a6-49a3-9717-79bfadc45081\",\"type\":\"Rect\"},{\"attributes\":{\"data_source\":{\"id\":\"d2040917-ea7a-4b44-9766-bd7a67f1b1bc\",\"type\":\"ColumnDataSource\"},\"glyph\":{\"id\":\"ced8803d-3bea-4e35-841b-2d1dba0bce99\",\"type\":\"Rect\"},\"hover_glyph\":null,\"nonselection_glyph\":null,\"selection_glyph\":null},\"id\":\"483abaa1-bb93-42e7-82b4-71cd78b55a40\",\"type\":\"GlyphRenderer\"},{\"attributes\":{\"callback\":null,\"column_names\":[\"height\",\"line_color\",\"color\",\"y\",\"label\",\"x\",\"width\",\"line_alpha\",\"fill_alpha\"],\"data\":{\"chart_index\":[\"(30.794392, 32.771372]\"],\"color\":[\"#f22c40\"],\"fill_alpha\":[0.8],\"height\":[106.0],\"label\":[\"(30.794392, 32.771372]\"],\"line_alpha\":[1.0],\"line_color\":[\"black\"],\"width\":[1.976980165044921],\"x\":[\"31.782882\"],\"y\":[53.0]}},\"id\":\"4d5fca93-9076-46c5-a20a-c6ddbfcaa8bc\",\"type\":\"ColumnDataSource\"},{\"attributes\":{\"data_source\":{\"id\":\"48a0ce9d-7960-4615-89fd-79960e5daaae\",\"type\":\"ColumnDataSource\"},\"glyph\":{\"id\":\"ff99612e-4d1a-4cdc-b1f2-eb6a30ba000b\",\"type\":\"Rect\"},\"hover_glyph\":null,\"nonselection_glyph\":null,\"selection_glyph\":null},\"id\":\"6bb8306a-c30b-4010-ac91-27787ce52111\",\"type\":\"GlyphRenderer\"},{\"attributes\":{\"data_source\":{\"id\":\"0568e767-9dfb-46dd-bf42-21afaf1333b3\",\"type\":\"ColumnDataSource\"},\"glyph\":{\"id\":\"bb905bc8-7ad2-4cb6-9ad2-06fbc452a751\",\"type\":\"Rect\"},\"hover_glyph\":null,\"nonselection_glyph\":null,\"selection_glyph\":null},\"id\":\"0b62ee1b-a0ce-4fc3-a23f-d6da3387070f\",\"type\":\"GlyphRenderer\"},{\"attributes\":{\"callback\":null,\"column_names\":[\"height\",\"line_color\",\"color\",\"y\",\"label\",\"x\",\"width\",\"line_alpha\",\"fill_alpha\"],\"data\":{\"chart_index\":[\"(54.190592, 55.841386]\"],\"color\":[\"#f22c40\"],\"fill_alpha\":[0.8],\"height\":[212.0],\"label\":[\"(54.190592, 55.841386]\"],\"line_alpha\":[1.0],\"line_color\":[\"black\"],\"width\":[1.6507939572147379],\"x\":[\"55.015989000000005\"],\"y\":[106.0]}},\"id\":\"9e5dd779-503f-4221-a358-a86eac0617df\",\"type\":\"ColumnDataSource\"},{\"attributes\":{\"data_source\":{\"id\":\"4a9992c3-d536-41fa-932d-9f4beb35b40f\",\"type\":\"ColumnDataSource\"},\"glyph\":{\"id\":\"020cc4b3-edba-4ec5-86fe-f66bfa25b463\",\"type\":\"Rect\"},\"hover_glyph\":null,\"nonselection_glyph\":null,\"selection_glyph\":null},\"id\":\"f33e75bc-0ae8-487f-8156-a826d2cd5154\",\"type\":\"GlyphRenderer\"},{\"attributes\":{\"fill_alpha\":{\"field\":\"fill_alpha\"},\"fill_color\":{\"field\":\"color\"},\"height\":{\"field\":\"height\",\"units\":\"data\"},\"line_color\":{\"field\":\"line_color\"},\"width\":{\"field\":\"width\",\"units\":\"data\"},\"x\":{\"field\":\"x\"},\"y\":{\"field\":\"y\"}},\"id\":\"8c3bb407-5a4f-4667-b349-e02d65d51d02\",\"type\":\"Rect\"},{\"attributes\":{\"callback\":null,\"column_names\":[\"height\",\"line_color\",\"color\",\"y\",\"label\",\"x\",\"width\",\"line_alpha\",\"fill_alpha\"],\"data\":{\"chart_index\":[\"(64.403055, 66.380035]\"],\"color\":[\"#f22c40\"],\"fill_alpha\":[0.8],\"height\":[294.0],\"label\":[\"(64.403055, 66.380035]\"],\"line_alpha\":[1.0],\"line_color\":[\"black\"],\"width\":[1.976980165044921],\"x\":[\"65.39154500000001\"],\"y\":[147.0]}},\"id\":\"607f5c9e-a987-4580-b2e9-9d876d31a738\",\"type\":\"ColumnDataSource\"},{\"attributes\":{\"fill_alpha\":{\"field\":\"fill_alpha\"},\"fill_color\":{\"field\":\"color\"},\"height\":{\"field\":\"height\",\"units\":\"data\"},\"line_color\":{\"field\":\"line_color\"},\"width\":{\"field\":\"width\",\"units\":\"data\"},\"x\":{\"field\":\"x\"},\"y\":{\"field\":\"y\"}},\"id\":\"d954f06d-e7a7-4099-b906-b0d9b699ae44\",\"type\":\"Rect\"},{\"attributes\":{},\"id\":\"142734a8-4355-444c-b276-bb196438a2b7\",\"type\":\"ToolEvents\"},{\"attributes\":{\"fill_alpha\":{\"field\":\"fill_alpha\"},\"fill_color\":{\"field\":\"color\"},\"height\":{\"field\":\"height\",\"units\":\"data\"},\"line_color\":{\"field\":\"line_color\"},\"width\":{\"field\":\"width\",\"units\":\"data\"},\"x\":{\"field\":\"x\"},\"y\":{\"field\":\"y\"}},\"id\":\"58a5c354-02a6-425f-9bd2-d3371bffa264\",\"type\":\"Rect\"},{\"attributes\":{\"data_source\":{\"id\":\"18dcf187-5bd4-4dbf-81f1-3dcf7eaee9bf\",\"type\":\"ColumnDataSource\"},\"glyph\":{\"id\":\"707fe5ca-f211-4da8-984a-0db248f7fab7\",\"type\":\"Rect\"},\"hover_glyph\":null,\"nonselection_glyph\":null,\"selection_glyph\":null},\"id\":\"3f451c9e-d449-434c-8cf1-ad12c9c8db00\",\"type\":\"GlyphRenderer\"},{\"attributes\":{\"data_source\":{\"id\":\"0039e1e0-8a47-460b-a858-b033d77fc12d\",\"type\":\"ColumnDataSource\"},\"glyph\":{\"id\":\"d954f06d-e7a7-4099-b906-b0d9b699ae44\",\"type\":\"Rect\"},\"hover_glyph\":null,\"nonselection_glyph\":null,\"selection_glyph\":null},\"id\":\"56a61fff-1c3a-43d2-b348-1f9b4f52424c\",\"type\":\"GlyphRenderer\"},{\"attributes\":{\"callback\":null,\"column_names\":[\"height\",\"line_color\",\"color\",\"y\",\"label\",\"x\",\"width\",\"line_alpha\",\"fill_alpha\"],\"data\":{\"chart_index\":[\"(62.426075, 64.403055]\"],\"color\":[\"#f22c40\"],\"fill_alpha\":[0.8],\"height\":[303.0],\"label\":[\"(62.426075, 64.403055]\"],\"line_alpha\":[1.0],\"line_color\":[\"black\"],\"width\":[1.976980165044921],\"x\":[\"63.414564999999996\"],\"y\":[151.5]}},\"id\":\"0f23e6fa-80ce-48b3-aee1-b6a1d943e636\",\"type\":\"ColumnDataSource\"},{\"attributes\":{\"data_source\":{\"id\":\"b606a9cf-c0e8-48a4-b23e-0925e5e79aeb\",\"type\":\"ColumnDataSource\"},\"glyph\":{\"id\":\"a6deec0c-65bc-42a9-afe2-d916a2b02654\",\"type\":\"Rect\"},\"hover_glyph\":null,\"nonselection_glyph\":null,\"selection_glyph\":null},\"id\":\"9ca4469d-bb34-41df-a644-02ae87204df8\",\"type\":\"GlyphRenderer\"},{\"attributes\":{\"fill_alpha\":{\"field\":\"fill_alpha\"},\"fill_color\":{\"field\":\"color\"},\"height\":{\"field\":\"height\",\"units\":\"data\"},\"line_color\":{\"field\":\"line_color\"},\"width\":{\"field\":\"width\",\"units\":\"data\"},\"x\":{\"field\":\"x\"},\"y\":{\"field\":\"y\"}},\"id\":\"d7cb3dc2-594c-4f07-bdf2-433678776791\",\"type\":\"Rect\"},{\"attributes\":{\"fill_alpha\":{\"field\":\"fill_alpha\"},\"fill_color\":{\"field\":\"color\"},\"height\":{\"field\":\"height\",\"units\":\"data\"},\"line_color\":{\"field\":\"line_color\"},\"width\":{\"field\":\"width\",\"units\":\"data\"},\"x\":{\"field\":\"x\"},\"y\":{\"field\":\"y\"}},\"id\":\"75562a64-a523-4e10-b89b-edcbe1a3054a\",\"type\":\"Rect\"},{\"attributes\":{\"fill_alpha\":{\"field\":\"fill_alpha\"},\"fill_color\":{\"field\":\"color\"},\"height\":{\"field\":\"height\",\"units\":\"data\"},\"line_color\":{\"field\":\"line_color\"},\"width\":{\"field\":\"width\",\"units\":\"data\"},\"x\":{\"field\":\"x\"},\"y\":{\"field\":\"y\"}},\"id\":\"a7fb461f-886c-4b7b-9816-e052acb877e7\",\"type\":\"Rect\"},{\"attributes\":{\"data_source\":{\"id\":\"2b0f6b8f-3e67-47eb-86c8-62991729bf97\",\"type\":\"ColumnDataSource\"},\"glyph\":{\"id\":\"5af9ed23-9d81-4439-b37e-61a6b6959a9e\",\"type\":\"Rect\"},\"hover_glyph\":null,\"nonselection_glyph\":null,\"selection_glyph\":null},\"id\":\"79a4dd12-df82-4c9e-a840-4dd83ad893d0\",\"type\":\"GlyphRenderer\"},{\"attributes\":{\"data_source\":{\"id\":\"9588e865-c11e-4e9b-9eb9-8808af4d046c\",\"type\":\"ColumnDataSource\"},\"glyph\":{\"id\":\"6d9548a0-c8b7-497d-9b5c-74b2b7789d06\",\"type\":\"Rect\"},\"hover_glyph\":null,\"nonselection_glyph\":null,\"selection_glyph\":null},\"id\":\"34ffd6c2-09a3-436e-83ef-dc2f837260dc\",\"type\":\"GlyphRenderer\"},{\"attributes\":{\"callback\":null,\"column_names\":[\"height\",\"line_color\",\"color\",\"y\",\"label\",\"x\",\"width\",\"line_alpha\",\"fill_alpha\"],\"data\":{\"chart_index\":[\"(17.991653, 35.978594]\"],\"color\":[\"#f22c40\"],\"fill_alpha\":[0.8],\"height\":[1429.0],\"label\":[\"(17.991653, 35.978594]\"],\"line_alpha\":[1.0],\"line_color\":[\"black\"],\"width\":[17.986940433955898],\"x\":[\"26.9851235\"],\"y\":[714.5]}},\"id\":\"4766ca56-bda3-4822-85ca-f0ee86392f2d\",\"type\":\"ColumnDataSource\"},{\"attributes\":{\"fill_alpha\":{\"field\":\"fill_alpha\"},\"fill_color\":{\"field\":\"color\"},\"height\":{\"field\":\"height\",\"units\":\"data\"},\"line_color\":{\"field\":\"line_color\"},\"width\":{\"field\":\"width\",\"units\":\"data\"},\"x\":{\"field\":\"x\"},\"y\":{\"field\":\"y\"}},\"id\":\"8c15f56a-1ba6-41a9-b288-87b1075639ef\",\"type\":\"Rect\"},{\"attributes\":{\"fill_alpha\":{\"field\":\"fill_alpha\"},\"fill_color\":{\"field\":\"color\"},\"height\":{\"field\":\"height\",\"units\":\"data\"},\"line_color\":{\"field\":\"line_color\"},\"width\":{\"field\":\"width\",\"units\":\"data\"},\"x\":{\"field\":\"x\"},\"y\":{\"field\":\"y\"}},\"id\":\"74bcbd8b-21be-4668-a963-ced0fad868e9\",\"type\":\"Rect\"},{\"attributes\":{\"data_source\":{\"id\":\"be71967c-c4ee-4c0f-bbcb-21ca6174d930\",\"type\":\"ColumnDataSource\"},\"glyph\":{\"id\":\"e7fc2bd2-e938-4b7c-8b07-c8940d248fd9\",\"type\":\"Rect\"},\"hover_glyph\":null,\"nonselection_glyph\":null,\"selection_glyph\":null},\"id\":\"bf0b3919-716a-41ab-bccf-11d5088bb41c\",\"type\":\"GlyphRenderer\"},{\"attributes\":{\"fill_alpha\":{\"field\":\"fill_alpha\"},\"fill_color\":{\"field\":\"color\"},\"height\":{\"field\":\"height\",\"units\":\"data\"},\"line_color\":{\"field\":\"line_color\"},\"width\":{\"field\":\"width\",\"units\":\"data\"},\"x\":{\"field\":\"x\"},\"y\":{\"field\":\"y\"}},\"id\":\"cf916bde-d343-4a2e-8720-36e0fea11eb3\",\"type\":\"Rect\"},{\"attributes\":{\"fill_alpha\":{\"field\":\"fill_alpha\"},\"fill_color\":{\"field\":\"color\"},\"height\":{\"field\":\"height\",\"units\":\"data\"},\"line_color\":{\"field\":\"line_color\"},\"width\":{\"field\":\"width\",\"units\":\"data\"},\"x\":{\"field\":\"x\"},\"y\":{\"field\":\"y\"}},\"id\":\"a136a897-e52d-4f0b-ace0-f3ae601ed02b\",\"type\":\"Rect\"},{\"attributes\":{\"callback\":null,\"column_names\":[\"height\",\"line_color\",\"color\",\"y\",\"label\",\"x\",\"width\",\"line_alpha\",\"fill_alpha\"],\"data\":{\"chart_index\":[\"(791.430092, 809.417033]\"],\"color\":[\"#f22c40\"],\"fill_alpha\":[0.8],\"height\":[0.0],\"label\":[\"(791.430092, 809.417033]\"],\"line_alpha\":[1.0],\"line_color\":[\"black\"],\"width\":[17.986940433955965],\"x\":[\"800.4235624999999\"],\"y\":[0.0]}},\"id\":\"4ddd8eca-f014-404a-ae6c-deffa12d454f\",\"type\":\"ColumnDataSource\"},{\"attributes\":{\"fill_alpha\":{\"field\":\"fill_alpha\"},\"fill_color\":{\"field\":\"color\"},\"height\":{\"field\":\"height\",\"units\":\"data\"},\"line_color\":{\"field\":\"line_color\"},\"width\":{\"field\":\"width\",\"units\":\"data\"},\"x\":{\"field\":\"x\"},\"y\":{\"field\":\"y\"}},\"id\":\"ced8803d-3bea-4e35-841b-2d1dba0bce99\",\"type\":\"Rect\"},{\"attributes\":{\"fill_alpha\":{\"field\":\"fill_alpha\"},\"fill_color\":{\"field\":\"color\"},\"height\":{\"field\":\"height\",\"units\":\"data\"},\"line_color\":{\"field\":\"line_color\"},\"width\":{\"field\":\"width\",\"units\":\"data\"},\"x\":{\"field\":\"x\"},\"y\":{\"field\":\"y\"}},\"id\":\"21107cf2-ede3-4ad1-9d14-42043df7cbcb\",\"type\":\"Rect\"},{\"attributes\":{\"data_source\":{\"id\":\"7e435099-45eb-4ad0-bdb8-9261382e6a70\",\"type\":\"ColumnDataSource\"},\"glyph\":{\"id\":\"0fd7a58c-5b7c-4647-a916-8ec4f6fede9f\",\"type\":\"Rect\"},\"hover_glyph\":null,\"nonselection_glyph\":null,\"selection_glyph\":null},\"id\":\"d0d46e6e-63cd-4ba9-8dd2-ec7240981214\",\"type\":\"GlyphRenderer\"},{\"attributes\":{\"data_source\":{\"id\":\"f6b87257-1554-420d-88fa-2aae19d9e462\",\"type\":\"ColumnDataSource\"},\"glyph\":{\"id\":\"43de89bc-f5b5-4f6d-82d8-c8be087cf9a9\",\"type\":\"Rect\"},\"hover_glyph\":null,\"nonselection_glyph\":null,\"selection_glyph\":null},\"id\":\"00d02dd1-e954-4bc7-b518-13b352524a8a\",\"type\":\"GlyphRenderer\"},{\"attributes\":{\"callback\":null,\"column_names\":[\"height\",\"line_color\",\"color\",\"y\",\"label\",\"x\",\"width\",\"line_alpha\",\"fill_alpha\"],\"data\":{\"chart_index\":[\"(7.968361, 9.619155]\"],\"color\":[\"#f22c40\"],\"fill_alpha\":[0.8],\"height\":[5.0],\"label\":[\"(7.968361, 9.619155]\"],\"line_alpha\":[1.0],\"line_color\":[\"black\"],\"width\":[1.6507939572147432],\"x\":[\"8.793758\"],\"y\":[2.5]}},\"id\":\"604718ee-46d8-4b9e-b60e-0c631b01f82a\",\"type\":\"ColumnDataSource\"},{\"attributes\":{\"fill_alpha\":{\"field\":\"fill_alpha\"},\"fill_color\":{\"field\":\"color\"},\"height\":{\"field\":\"height\",\"units\":\"data\"},\"line_color\":{\"field\":\"line_color\"},\"width\":{\"field\":\"width\",\"units\":\"data\"},\"x\":{\"field\":\"x\"},\"y\":{\"field\":\"y\"}},\"id\":\"0d35c19f-056e-4513-a1e3-8899648c882f\",\"type\":\"Rect\"},{\"attributes\":{\"data_source\":{\"id\":\"dfec6aa4-8613-4653-87fd-1e06a041d7d3\",\"type\":\"ColumnDataSource\"},\"glyph\":{\"id\":\"26734a91-5618-43dd-8538-cc434cc4ff0c\",\"type\":\"Rect\"},\"hover_glyph\":null,\"nonselection_glyph\":null,\"selection_glyph\":null},\"id\":\"121ba0f0-6708-458d-baec-b29a1d0ad21d\",\"type\":\"GlyphRenderer\"},{\"attributes\":{\"plot\":{\"id\":\"5a86ce13-08ff-4742-a236-b5d321602846\",\"subtype\":\"Chart\",\"type\":\"Plot\"}},\"id\":\"36e6f2e2-fb07-406f-8929-902a9b013180\",\"type\":\"HelpTool\"},{\"attributes\":{\"data_source\":{\"id\":\"9b258b17-5f94-4271-b512-58449fefb7e9\",\"type\":\"ColumnDataSource\"},\"glyph\":{\"id\":\"9abfe737-4d4d-4367-80b6-4eb37f71ca59\",\"type\":\"Rect\"},\"hover_glyph\":null,\"nonselection_glyph\":null,\"selection_glyph\":null},\"id\":\"20dffb40-cc81-4641-a926-f9cab08ece53\",\"type\":\"GlyphRenderer\"},{\"attributes\":{\"callback\":null,\"column_names\":[\"height\",\"line_color\",\"color\",\"y\",\"label\",\"x\",\"width\",\"line_alpha\",\"fill_alpha\"],\"data\":{\"chart_index\":[\"(113.987511, 115.987092]\"],\"color\":[\"#f22c40\"],\"fill_alpha\":[0.8],\"height\":[194.0],\"label\":[\"(113.987511, 115.987092]\"],\"line_alpha\":[1.0],\"line_color\":[\"black\"],\"width\":[1.9995804859201343],\"x\":[\"114.9873015\"],\"y\":[97.0]}},\"id\":\"4fd9a8b1-f66f-4b75-97c4-b3fbe7bfe31a\",\"type\":\"ColumnDataSource\"},{\"attributes\":{\"data_source\":{\"id\":\"7ebb0d9d-fe21-4147-a231-dc5d67ac0351\",\"type\":\"ColumnDataSource\"},\"glyph\":{\"id\":\"745b7c79-daaa-449c-8580-ac732d85eaf2\",\"type\":\"Rect\"},\"hover_glyph\":null,\"nonselection_glyph\":null,\"selection_glyph\":null},\"id\":\"7c83926a-5ae0-480f-b150-cb414e009957\",\"type\":\"GlyphRenderer\"},{\"attributes\":{\"below\":[{\"id\":\"c29248c1-0dae-4fb2-8b6b-3835890a3032\",\"type\":\"LinearAxis\"}],\"css_classes\":null,\"height\":300,\"left\":[{\"id\":\"c24cb514-221a-426a-bec4-be962703565c\",\"type\":\"LinearAxis\"}],\"renderers\":[{\"id\":\"7b796b0f-f5d1-4b8b-9762-80aad40ef377\",\"type\":\"BoxAnnotation\"},{\"id\":\"488c0698-688a-4c13-9b8d-f28d84580ea1\",\"type\":\"GlyphRenderer\"},{\"id\":\"a10f242e-9fb2-435b-9cf4-b77582e9fcec\",\"type\":\"GlyphRenderer\"},{\"id\":\"f24899f5-74a0-49e3-bb86-0530772f4060\",\"type\":\"GlyphRenderer\"},{\"id\":\"873fb9c3-52a9-40b3-a41d-73ed7ccfd8c5\",\"type\":\"GlyphRenderer\"},{\"id\":\"9777ab75-4b56-435b-a852-2a912d549dac\",\"type\":\"GlyphRenderer\"},{\"id\":\"ca97eda1-2eaa-49a9-913a-465c0d938b31\",\"type\":\"GlyphRenderer\"},{\"id\":\"bd95ddb5-eadd-414f-86ff-31f717041155\",\"type\":\"GlyphRenderer\"},{\"id\":\"20dffb40-cc81-4641-a926-f9cab08ece53\",\"type\":\"GlyphRenderer\"},{\"id\":\"f094279f-3727-4bce-ab4a-657da580b358\",\"type\":\"GlyphRenderer\"},{\"id\":\"a2d9d1c3-7766-409a-8028-5140885526e3\",\"type\":\"GlyphRenderer\"},{\"id\":\"204cc156-0772-4e64-a629-25b114ef359f\",\"type\":\"GlyphRenderer\"},{\"id\":\"6cbfeb4b-6d76-40f8-84b6-16f1874fee4f\",\"type\":\"GlyphRenderer\"},{\"id\":\"3476ae80-1b67-4143-9670-a4f88602d1be\",\"type\":\"GlyphRenderer\"},{\"id\":\"d35a7af9-f132-4487-a874-2568ff06e9b1\",\"type\":\"GlyphRenderer\"},{\"id\":\"0b62ee1b-a0ce-4fc3-a23f-d6da3387070f\",\"type\":\"GlyphRenderer\"},{\"id\":\"ca67220a-41a6-4407-91c3-f0c63375ee82\",\"type\":\"GlyphRenderer\"},{\"id\":\"937ff50d-81b3-4bd3-91ea-32bfaf4ec4e3\",\"type\":\"GlyphRenderer\"},{\"id\":\"5fc465a4-c75e-4320-9701-b93c7bccc113\",\"type\":\"GlyphRenderer\"},{\"id\":\"0f134f29-919e-47b8-8a7b-85abee358b88\",\"type\":\"GlyphRenderer\"},{\"id\":\"c810c65b-1577-4a17-a744-9bb5f15a6197\",\"type\":\"GlyphRenderer\"},{\"id\":\"5844a572-8e8b-4d4a-9204-5d4dab1082fc\",\"type\":\"GlyphRenderer\"},{\"id\":\"de529c30-dbc5-4b3b-b379-b6c718265cae\",\"type\":\"GlyphRenderer\"},{\"id\":\"9278c6b5-099f-48ed-b881-634bdc6271d4\",\"type\":\"GlyphRenderer\"},{\"id\":\"f92c67e5-d019-4c99-951f-c6a0fe2b1a7d\",\"type\":\"GlyphRenderer\"},{\"id\":\"c0f99dfb-fde9-41f7-9118-944f61b973e5\",\"type\":\"GlyphRenderer\"},{\"id\":\"810c6367-9cda-4b43-8438-5c86933a93af\",\"type\":\"GlyphRenderer\"},{\"id\":\"5565c4ad-a87d-40f4-b109-bd089de6240c\",\"type\":\"GlyphRenderer\"},{\"id\":\"ef16da4c-64e3-41bf-8c60-4f707c2cf1d5\",\"type\":\"GlyphRenderer\"},{\"id\":\"1d606e5a-2ea2-4db8-83fc-4b65ad107773\",\"type\":\"GlyphRenderer\"},{\"id\":\"6f7b2985-f8a9-4aec-95d4-4cc3370a2669\",\"type\":\"GlyphRenderer\"},{\"id\":\"2a05f647-b109-4bc7-b2a4-b54aa5705607\",\"type\":\"GlyphRenderer\"},{\"id\":\"716ebf82-3e41-46eb-b379-ce6ea3456004\",\"type\":\"GlyphRenderer\"},{\"id\":\"fea9726b-4789-4909-b557-41c94cfcefc7\",\"type\":\"GlyphRenderer\"},{\"id\":\"d4954f8c-aba3-44fb-86c8-207c8424a9e1\",\"type\":\"GlyphRenderer\"},{\"id\":\"7fed9700-cc32-429a-ba59-a8e5427ba509\",\"type\":\"GlyphRenderer\"},{\"id\":\"a0b25aea-2169-41d9-b621-3d2c87a52022\",\"type\":\"GlyphRenderer\"},{\"id\":\"73f68a21-e066-49f8-aa47-5ba851b79d03\",\"type\":\"GlyphRenderer\"},{\"id\":\"7c5bab8b-7d50-4aec-9beb-b4841c781aba\",\"type\":\"GlyphRenderer\"},{\"id\":\"2234029c-8249-43f3-b9df-a43c3a300f8c\",\"type\":\"GlyphRenderer\"},{\"id\":\"ef8e4c10-2408-47d5-8d6a-c082276a4e1f\",\"type\":\"GlyphRenderer\"},{\"id\":\"120c87f9-028c-424a-bad9-cf248dfd810a\",\"type\":\"GlyphRenderer\"},{\"id\":\"3a68b2f3-8c3d-414d-ac75-50887475fe78\",\"type\":\"GlyphRenderer\"},{\"id\":\"a0b0061c-708c-4ed9-b516-91e87afc0303\",\"type\":\"GlyphRenderer\"},{\"id\":\"637ebf05-24f2-4d64-918d-00c8599d0fd6\",\"type\":\"GlyphRenderer\"},{\"id\":\"22e09157-1e7e-419e-9c85-13446a9590af\",\"type\":\"GlyphRenderer\"},{\"id\":\"7466370a-6bdd-4276-9b1f-7ae76a6682c1\",\"type\":\"GlyphRenderer\"},{\"id\":\"b0501444-9dee-4edf-a09c-1966bb176cd0\",\"type\":\"GlyphRenderer\"},{\"id\":\"aa91678d-c2bb-49cc-8d60-79622c6b6f39\",\"type\":\"GlyphRenderer\"},{\"id\":\"a7780e12-d219-4960-affc-a710e38a8827\",\"type\":\"GlyphRenderer\"},{\"id\":\"b1634694-056f-4ad3-91f8-03ad7a45e0c3\",\"type\":\"GlyphRenderer\"},{\"id\":\"93396c1f-7c5e-4d39-acdd-47c99e4699e3\",\"type\":\"Legend\"},{\"id\":\"c29248c1-0dae-4fb2-8b6b-3835890a3032\",\"type\":\"LinearAxis\"},{\"id\":\"c24cb514-221a-426a-bec4-be962703565c\",\"type\":\"LinearAxis\"},{\"id\":\"c00c3414-1585-472d-b1cc-1db67af556ae\",\"type\":\"Grid\"}],\"title\":{\"id\":\"05b0e6c6-6fff-41aa-924f-0d5e23e81902\",\"type\":\"Title\"},\"tool_events\":{\"id\":\"4ef90966-e09c-4de7-b36e-38074f83d547\",\"type\":\"ToolEvents\"},\"toolbar\":{\"id\":\"48dbbe59-6754-4a17-a537-3a14f87b75c8\",\"type\":\"Toolbar\"},\"toolbar_location\":null,\"width\":350,\"x_mapper_type\":\"auto\",\"x_range\":{\"id\":\"4cb4fdce-d986-410e-8149-6485a6eb624f\",\"type\":\"Range1d\"},\"y_mapper_type\":\"auto\",\"y_range\":{\"id\":\"2e644059-ae6b-43ed-a336-045ec8bf7222\",\"type\":\"Range1d\"}},\"id\":\"d4a8ccfb-05b2-4bd8-997e-90be3fcf5ef4\",\"subtype\":\"Chart\",\"type\":\"Plot\"},{\"attributes\":{\"data_source\":{\"id\":\"a2c9ec95-fe93-4cd4-8965-f8a1990b77a7\",\"type\":\"ColumnDataSource\"},\"glyph\":{\"id\":\"644c9197-ff66-4b6c-b72d-296ea1ce7c75\",\"type\":\"Rect\"},\"hover_glyph\":null,\"nonselection_glyph\":null,\"selection_glyph\":null},\"id\":\"795f77ac-b846-405c-a4eb-d0391dcc26df\",\"type\":\"GlyphRenderer\"},{\"attributes\":{\"data_source\":{\"id\":\"d554aa22-0e33-4a4c-b2be-2465199d351b\",\"type\":\"ColumnDataSource\"},\"glyph\":{\"id\":\"afbcf3e6-8524-4a6c-a646-884632411f4e\",\"type\":\"Rect\"},\"hover_glyph\":null,\"nonselection_glyph\":null,\"selection_glyph\":null},\"id\":\"88e43ea1-4755-40a3-bd33-4b55ea404a0a\",\"type\":\"GlyphRenderer\"},{\"attributes\":{\"fill_alpha\":{\"field\":\"fill_alpha\"},\"fill_color\":{\"field\":\"color\"},\"height\":{\"field\":\"height\",\"units\":\"data\"},\"line_color\":{\"field\":\"line_color\"},\"width\":{\"field\":\"width\",\"units\":\"data\"},\"x\":{\"field\":\"x\"},\"y\":{\"field\":\"y\"}},\"id\":\"67ef426a-60c5-4b1c-8b50-c14ee190ab5f\",\"type\":\"Rect\"},{\"attributes\":{\"data_source\":{\"id\":\"d670ff85-836a-45cb-bbc6-099283b4da95\",\"type\":\"ColumnDataSource\"},\"glyph\":{\"id\":\"3a16b8f8-9052-4874-a4bb-83baf0091bbe\",\"type\":\"Rect\"},\"hover_glyph\":null,\"nonselection_glyph\":null,\"selection_glyph\":null},\"id\":\"dda18628-9c31-4ae4-b61a-ec1e3081f5a7\",\"type\":\"GlyphRenderer\"},{\"attributes\":{\"fill_alpha\":{\"field\":\"fill_alpha\"},\"fill_color\":{\"field\":\"color\"},\"height\":{\"field\":\"height\",\"units\":\"data\"},\"line_color\":{\"field\":\"line_color\"},\"width\":{\"field\":\"width\",\"units\":\"data\"},\"x\":{\"field\":\"x\"},\"y\":{\"field\":\"y\"}},\"id\":\"e3554afa-415a-4976-8e62-6cc90ae9d089\",\"type\":\"Rect\"},{\"attributes\":{\"data_source\":{\"id\":\"9e5dd779-503f-4221-a358-a86eac0617df\",\"type\":\"ColumnDataSource\"},\"glyph\":{\"id\":\"8c3bb407-5a4f-4667-b349-e02d65d51d02\",\"type\":\"Rect\"},\"hover_glyph\":null,\"nonselection_glyph\":null,\"selection_glyph\":null},\"id\":\"ebc69890-75e5-41be-9fdf-fb771c396785\",\"type\":\"GlyphRenderer\"},{\"attributes\":{\"data_source\":{\"id\":\"ba1b179f-f976-44f0-ae94-73d84257e759\",\"type\":\"ColumnDataSource\"},\"glyph\":{\"id\":\"df118eac-66f0-4014-83fa-4c082017eae0\",\"type\":\"Rect\"},\"hover_glyph\":null,\"nonselection_glyph\":null,\"selection_glyph\":null},\"id\":\"22e8b9c7-8d52-46e2-8d9c-0dc670db7fcd\",\"type\":\"GlyphRenderer\"},{\"attributes\":{\"callback\":null,\"column_names\":[\"height\",\"line_color\",\"color\",\"y\",\"label\",\"x\",\"width\",\"line_alpha\",\"fill_alpha\"],\"data\":{\"chart_index\":[\"(52.000516, 54.000097]\"],\"color\":[\"#f22c40\"],\"fill_alpha\":[0.8],\"height\":[194.0],\"label\":[\"(52.000516, 54.000097]\"],\"line_alpha\":[1.0],\"line_color\":[\"black\"],\"width\":[1.9995804859201343],\"x\":[\"53.00030649999999\"],\"y\":[97.0]}},\"id\":\"0bd13cc0-3074-40be-8555-4dcb5ce4a741\",\"type\":\"ColumnDataSource\"},{\"attributes\":{\"callback\":null,\"column_names\":[\"height\",\"line_color\",\"color\",\"y\",\"label\",\"x\",\"width\",\"line_alpha\",\"fill_alpha\"],\"data\":{\"chart_index\":[\"(109.988350, 111.987931]\"],\"color\":[\"#f22c40\"],\"fill_alpha\":[0.8],\"height\":[212.0],\"label\":[\"(109.988350, 111.987931]\"],\"line_alpha\":[1.0],\"line_color\":[\"black\"],\"width\":[1.9995804859201343],\"x\":[\"110.9881405\"],\"y\":[106.0]}},\"id\":\"45eb39dc-d4df-4277-94e3-f1f14658da42\",\"type\":\"ColumnDataSource\"},{\"attributes\":{\"data_source\":{\"id\":\"2381e3e3-186a-45a1-ba18-a738b7163be2\",\"type\":\"ColumnDataSource\"},\"glyph\":{\"id\":\"9ffc550a-8403-4a23-9bce-865f37b7f9af\",\"type\":\"Rect\"},\"hover_glyph\":null,\"nonselection_glyph\":null,\"selection_glyph\":null},\"id\":\"991e30e3-fefb-4290-8070-e8d05c0b3da5\",\"type\":\"GlyphRenderer\"},{\"attributes\":{\"callback\":null,\"column_names\":[\"height\",\"line_color\",\"color\",\"y\",\"label\",\"x\",\"width\",\"line_alpha\",\"fill_alpha\"],\"data\":{\"chart_index\":[\"(863.377854, 881.364794]\"],\"color\":[\"#f22c40\"],\"fill_alpha\":[0.8],\"height\":[0.0],\"label\":[\"(863.377854, 881.364794]\"],\"line_alpha\":[1.0],\"line_color\":[\"black\"],\"width\":[17.98694043395585],\"x\":[\"872.371324\"],\"y\":[0.0]}},\"id\":\"99df5641-6440-4f48-b1d8-6c12707a49ad\",\"type\":\"ColumnDataSource\"},{\"attributes\":{\"fill_alpha\":{\"field\":\"fill_alpha\"},\"fill_color\":{\"field\":\"color\"},\"height\":{\"field\":\"height\",\"units\":\"data\"},\"line_color\":{\"field\":\"line_color\"},\"width\":{\"field\":\"width\",\"units\":\"data\"},\"x\":{\"field\":\"x\"},\"y\":{\"field\":\"y\"}},\"id\":\"56585a75-732d-4dac-96f9-70725f8c2b26\",\"type\":\"Rect\"},{\"attributes\":{\"callback\":null,\"column_names\":[\"height\",\"line_color\",\"color\",\"y\",\"label\",\"x\",\"width\",\"line_alpha\",\"fill_alpha\"],\"data\":{\"chart_index\":[\"(103.989609, 105.989189]\"],\"color\":[\"#f22c40\"],\"fill_alpha\":[0.8],\"height\":[176.0],\"label\":[\"(103.989609, 105.989189]\"],\"line_alpha\":[1.0],\"line_color\":[\"black\"],\"width\":[1.9995804859201343],\"x\":[\"104.98939899999999\"],\"y\":[88.0]}},\"id\":\"422f7b9d-b6bb-4314-84c8-77ad790346e1\",\"type\":\"ColumnDataSource\"},{\"attributes\":{\"callback\":null,\"column_names\":[\"height\",\"line_color\",\"color\",\"y\",\"label\",\"x\",\"width\",\"line_alpha\",\"fill_alpha\"],\"data\":{\"chart_index\":[\"(11.269949, 12.920743]\"],\"color\":[\"#f22c40\"],\"fill_alpha\":[0.8],\"height\":[15.0],\"label\":[\"(11.269949, 12.920743]\"],\"line_alpha\":[1.0],\"line_color\":[\"black\"],\"width\":[1.6507939572147432],\"x\":[\"12.095346\"],\"y\":[7.5]}},\"id\":\"96e392a0-813c-4233-b1ea-4a6440ec47ef\",\"type\":\"ColumnDataSource\"},{\"attributes\":{\"callback\":null,\"column_names\":[\"height\",\"line_color\",\"color\",\"y\",\"label\",\"x\",\"width\",\"line_alpha\",\"fill_alpha\"],\"data\":{\"chart_index\":[\"(197.861058, 215.847998]\"],\"color\":[\"#f22c40\"],\"fill_alpha\":[0.8],\"height\":[265.0],\"label\":[\"(197.861058, 215.847998]\"],\"line_alpha\":[1.0],\"line_color\":[\"black\"],\"width\":[17.98694043395591],\"x\":[\"206.85452800000002\"],\"y\":[132.5]}},\"id\":\"1bd56bd1-f244-42ff-a358-eb970f0fd9f9\",\"type\":\"ColumnDataSource\"},{\"attributes\":{\"data_source\":{\"id\":\"568368c6-121b-4a0d-83d3-597cea80ed63\",\"type\":\"ColumnDataSource\"},\"glyph\":{\"id\":\"089622a7-fa70-4e45-8e14-97abface9dc9\",\"type\":\"Rect\"},\"hover_glyph\":null,\"nonselection_glyph\":null,\"selection_glyph\":null},\"id\":\"51144923-d99a-42d4-8d9f-84ad751fc7d2\",\"type\":\"GlyphRenderer\"},{\"attributes\":{\"data_source\":{\"id\":\"5d345712-408a-4c6b-afdb-f8ab5428c719\",\"type\":\"ColumnDataSource\"},\"glyph\":{\"id\":\"8c15f56a-1ba6-41a9-b288-87b1075639ef\",\"type\":\"Rect\"},\"hover_glyph\":null,\"nonselection_glyph\":null,\"selection_glyph\":null},\"id\":\"590e2b88-6fcd-4c53-88c2-ace9b491868c\",\"type\":\"GlyphRenderer\"},{\"attributes\":{\"axis_label\":\"a\",\"formatter\":{\"id\":\"69e7264e-9621-4779-8e24-1a90c7cc8079\",\"type\":\"BasicTickFormatter\"},\"plot\":{\"id\":\"d4a8ccfb-05b2-4bd8-997e-90be3fcf5ef4\",\"subtype\":\"Chart\",\"type\":\"Plot\"},\"ticker\":{\"id\":\"34a377ee-4e8d-4b47-83ce-cb0b395e96cf\",\"type\":\"BasicTicker\"}},\"id\":\"c29248c1-0dae-4fb2-8b6b-3835890a3032\",\"type\":\"LinearAxis\"},{\"attributes\":{\"fill_alpha\":{\"field\":\"fill_alpha\"},\"fill_color\":{\"field\":\"color\"},\"height\":{\"field\":\"height\",\"units\":\"data\"},\"line_color\":{\"field\":\"line_color\"},\"width\":{\"field\":\"width\",\"units\":\"data\"},\"x\":{\"field\":\"x\"},\"y\":{\"field\":\"y\"}},\"id\":\"df4b959c-1836-4a68-9aa7-a871347460bc\",\"type\":\"Rect\"},{\"attributes\":{},\"id\":\"4fe21795-a2b7-496a-9a94-f2392a9c16dd\",\"type\":\"BasicTickFormatter\"},{\"attributes\":{\"data_source\":{\"id\":\"947df1ef-278f-4a2d-bef4-ae1e373a6031\",\"type\":\"ColumnDataSource\"},\"glyph\":{\"id\":\"0024bdf4-a6c8-4620-8047-c867da1d22ac\",\"type\":\"Rect\"},\"hover_glyph\":null,\"nonselection_glyph\":null,\"selection_glyph\":null},\"id\":\"576fb134-0705-4ab3-8d08-32f8ec375c80\",\"type\":\"GlyphRenderer\"},{\"attributes\":{\"data_source\":{\"id\":\"9d3e7ab3-df94-4ba0-966c-9f19fedc26ba\",\"type\":\"ColumnDataSource\"},\"glyph\":{\"id\":\"03701449-a142-4331-a345-5c1438ee9fb3\",\"type\":\"Rect\"},\"hover_glyph\":null,\"nonselection_glyph\":null,\"selection_glyph\":null},\"id\":\"627cb4e1-d3a3-44b0-9282-4f6890c019ef\",\"type\":\"GlyphRenderer\"},{\"attributes\":{\"data_source\":{\"id\":\"a8cf9117-4993-4f78-b9e2-43863e64b8c9\",\"type\":\"ColumnDataSource\"},\"glyph\":{\"id\":\"df4b959c-1836-4a68-9aa7-a871347460bc\",\"type\":\"Rect\"},\"hover_glyph\":null,\"nonselection_glyph\":null,\"selection_glyph\":null},\"id\":\"5fc465a4-c75e-4320-9701-b93c7bccc113\",\"type\":\"GlyphRenderer\"},{\"attributes\":{},\"id\":\"c173d333-de77-493c-a983-505c2e1b6fde\",\"type\":\"BasicTickFormatter\"},{\"attributes\":{\"fill_alpha\":{\"field\":\"fill_alpha\"},\"fill_color\":{\"field\":\"color\"},\"height\":{\"field\":\"height\",\"units\":\"data\"},\"line_color\":{\"field\":\"line_color\"},\"width\":{\"field\":\"width\",\"units\":\"data\"},\"x\":{\"field\":\"x\"},\"y\":{\"field\":\"y\"}},\"id\":\"6917506d-799b-42fc-85c3-23e90eac05f9\",\"type\":\"Rect\"},{\"attributes\":{\"data_source\":{\"id\":\"fee5cc3d-aa95-450d-9853-0f11a6d81992\",\"type\":\"ColumnDataSource\"},\"glyph\":{\"id\":\"7489ef4d-a2c1-4ee3-9923-204cd02b5cab\",\"type\":\"Rect\"},\"hover_glyph\":null,\"nonselection_glyph\":null,\"selection_glyph\":null},\"id\":\"5565c4ad-a87d-40f4-b109-bd089de6240c\",\"type\":\"GlyphRenderer\"},{\"attributes\":{\"callback\":null,\"column_names\":[\"height\",\"line_color\",\"color\",\"y\",\"label\",\"x\",\"width\",\"line_alpha\",\"fill_alpha\"],\"data\":{\"chart_index\":[\"(35.978594, 53.965534]\"],\"color\":[\"#f22c40\"],\"fill_alpha\":[0.8],\"height\":[1078.0],\"label\":[\"(35.978594, 53.965534]\"],\"line_alpha\":[1.0],\"line_color\":[\"black\"],\"width\":[17.9869404339559],\"x\":[\"44.972064\"],\"y\":[539.0]}},\"id\":\"1ad41753-c4c9-46f3-87bf-80ced6afe019\",\"type\":\"ColumnDataSource\"},{\"attributes\":{\"callback\":null,\"column_names\":[\"height\",\"line_color\",\"color\",\"y\",\"label\",\"x\",\"width\",\"line_alpha\",\"fill_alpha\"],\"data\":{\"chart_index\":[\"(31.079477, 32.730271]\"],\"color\":[\"#f22c40\"],\"fill_alpha\":[0.8],\"height\":[482.0],\"label\":[\"(31.079477, 32.730271]\"],\"line_alpha\":[1.0],\"line_color\":[\"black\"],\"width\":[1.650793957214745],\"x\":[\"31.904874\"],\"y\":[241.0]}},\"id\":\"d6bd0208-bee2-4cb1-8b21-422f07fea596\",\"type\":\"ColumnDataSource\"},{\"attributes\":{\"callback\":null,\"column_names\":[\"height\",\"line_color\",\"color\",\"y\",\"label\",\"x\",\"width\",\"line_alpha\",\"fill_alpha\"],\"data\":{\"chart_index\":[\"(93.991706, 95.991287]\"],\"color\":[\"#f22c40\"],\"fill_alpha\":[0.8],\"height\":[200.0],\"label\":[\"(93.991706, 95.991287]\"],\"line_alpha\":[1.0],\"line_color\":[\"black\"],\"width\":[1.9995804859201485],\"x\":[\"94.9914965\"],\"y\":[100.0]}},\"id\":\"08ded4b5-0c8b-49eb-acb8-dff3f21b4a7d\",\"type\":\"ColumnDataSource\"},{\"attributes\":{\"fill_alpha\":{\"field\":\"fill_alpha\"},\"fill_color\":{\"field\":\"color\"},\"height\":{\"field\":\"height\",\"units\":\"data\"},\"line_color\":{\"field\":\"line_color\"},\"width\":{\"field\":\"width\",\"units\":\"data\"},\"x\":{\"field\":\"x\"},\"y\":{\"field\":\"y\"}},\"id\":\"5ae9802c-f74b-4f4e-9102-133c5d720775\",\"type\":\"Rect\"},{\"attributes\":{\"fill_alpha\":{\"field\":\"fill_alpha\"},\"fill_color\":{\"field\":\"color\"},\"height\":{\"field\":\"height\",\"units\":\"data\"},\"line_color\":{\"field\":\"line_color\"},\"width\":{\"field\":\"width\",\"units\":\"data\"},\"x\":{\"field\":\"x\"},\"y\":{\"field\":\"y\"}},\"id\":\"644c9197-ff66-4b6c-b72d-296ea1ce7c75\",\"type\":\"Rect\"},{\"attributes\":{\"callback\":null,\"column_names\":[\"height\",\"line_color\",\"color\",\"y\",\"label\",\"x\",\"width\",\"line_alpha\",\"fill_alpha\"],\"data\":{\"chart_index\":[\"(101.990028, 103.989609]\"],\"color\":[\"#f22c40\"],\"fill_alpha\":[0.8],\"height\":[176.0],\"label\":[\"(101.990028, 103.989609]\"],\"line_alpha\":[1.0],\"line_color\":[\"black\"],\"width\":[1.9995804859201343],\"x\":[\"102.9898185\"],\"y\":[88.0]}},\"id\":\"d2040917-ea7a-4b44-9766-bd7a67f1b1bc\",\"type\":\"ColumnDataSource\"},{\"attributes\":{\"data_source\":{\"id\":\"39737ffd-99b7-41ba-a21a-ac36e4b597d9\",\"type\":\"ColumnDataSource\"},\"glyph\":{\"id\":\"f7929736-196e-48e9-8611-5992b37cd9e3\",\"type\":\"Rect\"},\"hover_glyph\":null,\"nonselection_glyph\":null,\"selection_glyph\":null},\"id\":\"fea9726b-4789-4909-b557-41c94cfcefc7\",\"type\":\"GlyphRenderer\"},{\"attributes\":{\"data_source\":{\"id\":\"0fc47af2-af18-431f-9237-e69b42a87246\",\"type\":\"ColumnDataSource\"},\"glyph\":{\"id\":\"8622c56f-be19-4545-8d52-bb56fa4a19cb\",\"type\":\"Rect\"},\"hover_glyph\":null,\"nonselection_glyph\":null,\"selection_glyph\":null},\"id\":\"c0b3b7e6-5957-45ac-8f02-45d0e4ca4014\",\"type\":\"GlyphRenderer\"},{\"attributes\":{\"fill_alpha\":{\"field\":\"fill_alpha\"},\"fill_color\":{\"field\":\"color\"},\"height\":{\"field\":\"height\",\"units\":\"data\"},\"line_color\":{\"field\":\"line_color\"},\"width\":{\"field\":\"width\",\"units\":\"data\"},\"x\":{\"field\":\"x\"},\"y\":{\"field\":\"y\"}},\"id\":\"93e0200a-c98a-4033-9794-fcec6b172464\",\"type\":\"Rect\"},{\"attributes\":{\"callback\":null,\"column_names\":[\"height\",\"line_color\",\"color\",\"y\",\"label\",\"x\",\"width\",\"line_alpha\",\"fill_alpha\"],\"data\":{\"chart_index\":[\"(75.650913, 77.301707]\"],\"color\":[\"#f22c40\"],\"fill_alpha\":[0.8],\"height\":[1.0],\"label\":[\"(75.650913, 77.301707]\"],\"line_alpha\":[1.0],\"line_color\":[\"black\"],\"width\":[1.650793957214745],\"x\":[\"76.47631\"],\"y\":[0.5]}},\"id\":\"c515d7a0-e4bb-472b-a7ca-26e59228ae8c\",\"type\":\"ColumnDataSource\"},{\"attributes\":{\"callback\":null,\"column_names\":[\"height\",\"line_color\",\"color\",\"y\",\"label\",\"x\",\"width\",\"line_alpha\",\"fill_alpha\"],\"data\":{\"chart_index\":[\"(40.679293, 42.656273]\"],\"color\":[\"#f22c40\"],\"fill_alpha\":[0.8],\"height\":[206.0],\"label\":[\"(40.679293, 42.656273]\"],\"line_alpha\":[1.0],\"line_color\":[\"black\"],\"width\":[1.976980165044921],\"x\":[\"41.667783\"],\"y\":[103.0]}},\"id\":\"8d0d2542-21b8-4d05-848f-ccdd2f85b025\",\"type\":\"ColumnDataSource\"},{\"attributes\":{\"fill_alpha\":{\"field\":\"fill_alpha\"},\"fill_color\":{\"field\":\"color\"},\"height\":{\"field\":\"height\",\"units\":\"data\"},\"line_color\":{\"field\":\"line_color\"},\"width\":{\"field\":\"width\",\"units\":\"data\"},\"x\":{\"field\":\"x\"},\"y\":{\"field\":\"y\"}},\"id\":\"676a6988-4b28-4150-862a-b3bf0f429cc4\",\"type\":\"Rect\"},{\"attributes\":{\"axis_label\":\"Count( A )\",\"formatter\":{\"id\":\"c4928fe7-fccb-4d6d-88c9-c725f653e755\",\"type\":\"BasicTickFormatter\"},\"plot\":{\"id\":\"5a86ce13-08ff-4742-a236-b5d321602846\",\"subtype\":\"Chart\",\"type\":\"Plot\"},\"ticker\":{\"id\":\"09354e85-7e5d-4119-9b5d-e9d5e858be5c\",\"type\":\"BasicTicker\"}},\"id\":\"75be6f1f-699b-49bf-aea9-522ca2852a94\",\"type\":\"LinearAxis\"},{\"attributes\":{\"callback\":null,\"column_names\":[\"height\",\"line_color\",\"color\",\"y\",\"label\",\"x\",\"width\",\"line_alpha\",\"fill_alpha\"],\"data\":{\"chart_index\":[\"(84.172856, 86.149837]\"],\"color\":[\"#f22c40\"],\"fill_alpha\":[0.8],\"height\":[257.0],\"label\":[\"(84.172856, 86.149837]\"],\"line_alpha\":[1.0],\"line_color\":[\"black\"],\"width\":[1.9769801650449352],\"x\":[\"85.16134650000001\"],\"y\":[128.5]}},\"id\":\"39737ffd-99b7-41ba-a21a-ac36e4b597d9\",\"type\":\"ColumnDataSource\"},{\"attributes\":{\"callback\":null,\"column_names\":[\"height\",\"line_color\",\"color\",\"y\",\"label\",\"x\",\"width\",\"line_alpha\",\"fill_alpha\"],\"data\":{\"chart_index\":[\"(12.920743, 14.571537]\"],\"color\":[\"#f22c40\"],\"fill_alpha\":[0.8],\"height\":[28.0],\"label\":[\"(12.920743, 14.571537]\"],\"line_alpha\":[1.0],\"line_color\":[\"black\"],\"width\":[1.6507939572147432],\"x\":[\"13.74614\"],\"y\":[14.0]}},\"id\":\"60cb87ad-feff-4f61-8057-b042e3fa42cd\",\"type\":\"ColumnDataSource\"},{\"attributes\":{\"callback\":null,\"column_names\":[\"height\",\"line_color\",\"color\",\"y\",\"label\",\"x\",\"width\",\"line_alpha\",\"fill_alpha\"],\"data\":{\"chart_index\":[\"(65.746150, 67.396944]\"],\"color\":[\"#f22c40\"],\"fill_alpha\":[0.8],\"height\":[25.0],\"label\":[\"(65.746150, 67.396944]\"],\"line_alpha\":[1.0],\"line_color\":[\"black\"],\"width\":[1.650793957214745],\"x\":[\"66.57154700000001\"],\"y\":[12.5]}},\"id\":\"3ace5e06-c4d4-4deb-8808-79709ea7f6f4\",\"type\":\"ColumnDataSource\"},{\"attributes\":{\"fill_alpha\":{\"field\":\"fill_alpha\"},\"fill_color\":{\"field\":\"color\"},\"height\":{\"field\":\"height\",\"units\":\"data\"},\"line_color\":{\"field\":\"line_color\"},\"width\":{\"field\":\"width\",\"units\":\"data\"},\"x\":{\"field\":\"x\"},\"y\":{\"field\":\"y\"}},\"id\":\"f8457ff4-bece-4939-82f8-528597efb145\",\"type\":\"Rect\"},{\"attributes\":{\"callback\":null,\"column_names\":[\"height\",\"line_color\",\"color\",\"y\",\"label\",\"x\",\"width\",\"line_alpha\",\"fill_alpha\"],\"data\":{\"chart_index\":[\"(69.996741, 71.996321]\"],\"color\":[\"#f22c40\"],\"fill_alpha\":[0.8],\"height\":[189.0],\"label\":[\"(69.996741, 71.996321]\"],\"line_alpha\":[1.0],\"line_color\":[\"black\"],\"width\":[1.9995804859201343],\"x\":[\"70.996531\"],\"y\":[94.5]}},\"id\":\"938736d3-7889-497c-9d6a-eb3c673d219d\",\"type\":\"ColumnDataSource\"},{\"attributes\":{\"callback\":null,\"column_names\":[\"height\",\"line_color\",\"color\",\"y\",\"label\",\"x\",\"width\",\"line_alpha\",\"fill_alpha\"],\"data\":{\"chart_index\":[\"(107.896618, 109.873599]\"],\"color\":[\"#f22c40\"],\"fill_alpha\":[0.8],\"height\":[126.0],\"label\":[\"(107.896618, 109.873599]\"],\"line_alpha\":[1.0],\"line_color\":[\"black\"],\"width\":[1.976980165044921],\"x\":[\"108.8851085\"],\"y\":[63.0]}},\"id\":\"76d1e89e-d0e3-4ec9-875f-eeef0db9b349\",\"type\":\"ColumnDataSource\"},{\"attributes\":{\"callback\":null,\"column_names\":[\"height\",\"line_color\",\"color\",\"y\",\"label\",\"x\",\"width\",\"line_alpha\",\"fill_alpha\"],\"data\":{\"chart_index\":[\"(30.005131, 32.004711]\"],\"color\":[\"#f22c40\"],\"fill_alpha\":[0.8],\"height\":[197.0],\"label\":[\"(30.005131, 32.004711]\"],\"line_alpha\":[1.0],\"line_color\":[\"black\"],\"width\":[1.9995804859201378],\"x\":[\"31.004921\"],\"y\":[98.5]}},\"id\":\"ad3bd613-ed83-4f28-8b51-a0b469474561\",\"type\":\"ColumnDataSource\"},{\"attributes\":{\"fill_alpha\":{\"field\":\"fill_alpha\"},\"fill_color\":{\"field\":\"color\"},\"height\":{\"field\":\"height\",\"units\":\"data\"},\"line_color\":{\"field\":\"line_color\"},\"width\":{\"field\":\"width\",\"units\":\"data\"},\"x\":{\"field\":\"x\"},\"y\":{\"field\":\"y\"}},\"id\":\"ff99612e-4d1a-4cdc-b1f2-eb6a30ba000b\",\"type\":\"Rect\"},{\"attributes\":{\"data_source\":{\"id\":\"99df5641-6440-4f48-b1d8-6c12707a49ad\",\"type\":\"ColumnDataSource\"},\"glyph\":{\"id\":\"bf76e645-41e5-4b71-8371-886c6781d7cc\",\"type\":\"Rect\"},\"hover_glyph\":null,\"nonselection_glyph\":null,\"selection_glyph\":null},\"id\":\"afb7d8b0-c616-4bb6-8f70-4e9d3ad2c99c\",\"type\":\"GlyphRenderer\"},{\"attributes\":{\"fill_alpha\":{\"field\":\"fill_alpha\"},\"fill_color\":{\"field\":\"color\"},\"height\":{\"field\":\"height\",\"units\":\"data\"},\"line_color\":{\"field\":\"line_color\"},\"width\":{\"field\":\"width\",\"units\":\"data\"},\"x\":{\"field\":\"x\"},\"y\":{\"field\":\"y\"}},\"id\":\"7b8359d5-c75e-471c-9c92-e1f2228f0ac8\",\"type\":\"Rect\"},{\"attributes\":{\"data_source\":{\"id\":\"1bd56bd1-f244-42ff-a358-eb970f0fd9f9\",\"type\":\"ColumnDataSource\"},\"glyph\":{\"id\":\"d58ddec7-062e-4bf9-8aa3-7d2ceabc3835\",\"type\":\"Rect\"},\"hover_glyph\":null,\"nonselection_glyph\":null,\"selection_glyph\":null},\"id\":\"ea4fb61d-23c8-4569-85d3-d4a17ce7bcf2\",\"type\":\"GlyphRenderer\"},{\"attributes\":{\"data_source\":{\"id\":\"caefbbf9-0d7b-485b-b623-2949f16d3a65\",\"type\":\"ColumnDataSource\"},\"glyph\":{\"id\":\"d7cb3dc2-594c-4f07-bdf2-433678776791\",\"type\":\"Rect\"},\"hover_glyph\":null,\"nonselection_glyph\":null,\"selection_glyph\":null},\"id\":\"6cbfeb4b-6d76-40f8-84b6-16f1874fee4f\",\"type\":\"GlyphRenderer\"},{\"attributes\":{\"fill_alpha\":{\"field\":\"fill_alpha\"},\"fill_color\":{\"field\":\"color\"},\"height\":{\"field\":\"height\",\"units\":\"data\"},\"line_color\":{\"field\":\"line_color\"},\"width\":{\"field\":\"width\",\"units\":\"data\"},\"x\":{\"field\":\"x\"},\"y\":{\"field\":\"y\"}},\"id\":\"47822fd2-a6f5-4ff6-9206-3969efb7cdd0\",\"type\":\"Rect\"},{\"attributes\":{\"data_source\":{\"id\":\"7a9e43c5-6aa0-49eb-a116-5b818453bf56\",\"type\":\"ColumnDataSource\"},\"glyph\":{\"id\":\"78cd08fb-43ef-4049-b9ef-f9f7bdfade52\",\"type\":\"Rect\"},\"hover_glyph\":null,\"nonselection_glyph\":null,\"selection_glyph\":null},\"id\":\"a2d9d1c3-7766-409a-8028-5140885526e3\",\"type\":\"GlyphRenderer\"},{\"attributes\":{\"callback\":null,\"column_names\":[\"height\",\"line_color\",\"color\",\"y\",\"label\",\"x\",\"width\",\"line_alpha\",\"fill_alpha\"],\"data\":{\"chart_index\":[\"(773.443152, 791.430092]\"],\"color\":[\"#f22c40\"],\"fill_alpha\":[0.8],\"height\":[0.0],\"label\":[\"(773.443152, 791.430092]\"],\"line_alpha\":[1.0],\"line_color\":[\"black\"],\"width\":[17.98694043395585],\"x\":[\"782.4366219999999\"],\"y\":[0.0]}},\"id\":\"2fb3f63d-38a0-44f3-b138-96b73fd5537d\",\"type\":\"ColumnDataSource\"},{\"attributes\":{\"data_source\":{\"id\":\"e1654a4a-edea-4bba-a499-f7ea459352cc\",\"type\":\"ColumnDataSource\"},\"glyph\":{\"id\":\"a7fb461f-886c-4b7b-9816-e052acb877e7\",\"type\":\"Rect\"},\"hover_glyph\":null,\"nonselection_glyph\":null,\"selection_glyph\":null},\"id\":\"fb52670b-10f5-4f76-93fb-d58fb0e34985\",\"type\":\"GlyphRenderer\"},{\"attributes\":{\"data_source\":{\"id\":\"00290ccd-351c-4c1e-85f0-8db10858c0e9\",\"type\":\"ColumnDataSource\"},\"glyph\":{\"id\":\"72450541-3add-4a11-a8a9-c9c7b55a3941\",\"type\":\"Rect\"},\"hover_glyph\":null,\"nonselection_glyph\":null,\"selection_glyph\":null},\"id\":\"93aa58c9-1804-4895-ae42-a692f982b016\",\"type\":\"GlyphRenderer\"},{\"attributes\":{},\"id\":\"25da3170-515b-470e-ad59-5c6afee0ce1b\",\"type\":\"ToolEvents\"},{\"attributes\":{},\"id\":\"69e7264e-9621-4779-8e24-1a90c7cc8079\",\"type\":\"BasicTickFormatter\"},{\"attributes\":{\"fill_alpha\":{\"field\":\"fill_alpha\"},\"fill_color\":{\"field\":\"color\"},\"height\":{\"field\":\"height\",\"units\":\"data\"},\"line_color\":{\"field\":\"line_color\"},\"width\":{\"field\":\"width\",\"units\":\"data\"},\"x\":{\"field\":\"x\"},\"y\":{\"field\":\"y\"}},\"id\":\"55c9dc69-7527-4819-905e-2bde470444b0\",\"type\":\"Rect\"},{\"attributes\":{\"callback\":null,\"column_names\":[\"height\",\"line_color\",\"color\",\"y\",\"label\",\"x\",\"width\",\"line_alpha\",\"fill_alpha\"],\"data\":{\"chart_index\":[\"(87.992965, 89.992545]\"],\"color\":[\"#f22c40\"],\"fill_alpha\":[0.8],\"height\":[179.0],\"label\":[\"(87.992965, 89.992545]\"],\"line_alpha\":[1.0],\"line_color\":[\"black\"],\"width\":[1.9995804859201343],\"x\":[\"88.992755\"],\"y\":[89.5]}},\"id\":\"85dd6ff4-4203-4ba5-a66b-b46286bd8009\",\"type\":\"ColumnDataSource\"},{\"attributes\":{\"active_drag\":\"auto\",\"active_scroll\":\"auto\",\"active_tap\":\"auto\",\"tools\":[{\"id\":\"ae395cbf-2a8a-4c30-a4d5-9721732642e1\",\"type\":\"PanTool\"},{\"id\":\"e38b0ba1-b8ac-47a0-b2c4-10997a9034a0\",\"type\":\"WheelZoomTool\"},{\"id\":\"1a9e53ca-33e6-446a-be68-1cb1575f9da9\",\"type\":\"BoxZoomTool\"},{\"id\":\"d012b910-3647-404f-af54-5a8ab61e4c53\",\"type\":\"SaveTool\"},{\"id\":\"fcbb40cf-e204-4319-ac46-7805ae1695a8\",\"type\":\"ResetTool\"},{\"id\":\"b7f19c9d-b2df-494b-838a-9c493e79f395\",\"type\":\"HelpTool\"}]},\"id\":\"48dbbe59-6754-4a17-a537-3a14f87b75c8\",\"type\":\"Toolbar\"},{\"attributes\":{\"fill_alpha\":{\"field\":\"fill_alpha\"},\"fill_color\":{\"field\":\"color\"},\"height\":{\"field\":\"height\",\"units\":\"data\"},\"line_color\":{\"field\":\"line_color\"},\"width\":{\"field\":\"width\",\"units\":\"data\"},\"x\":{\"field\":\"x\"},\"y\":{\"field\":\"y\"}},\"id\":\"afbcf3e6-8524-4a6c-a646-884632411f4e\",\"type\":\"Rect\"},{\"attributes\":{},\"id\":\"c4928fe7-fccb-4d6d-88c9-c725f653e755\",\"type\":\"BasicTickFormatter\"},{\"attributes\":{\"fill_alpha\":{\"field\":\"fill_alpha\"},\"fill_color\":{\"field\":\"color\"},\"height\":{\"field\":\"height\",\"units\":\"data\"},\"line_color\":{\"field\":\"line_color\"},\"width\":{\"field\":\"width\",\"units\":\"data\"},\"x\":{\"field\":\"x\"},\"y\":{\"field\":\"y\"}},\"id\":\"15f93d8c-546a-4334-a5c0-9c3f07c0cdc8\",\"type\":\"Rect\"},{\"attributes\":{\"callback\":null,\"column_names\":[\"height\",\"line_color\",\"color\",\"y\",\"label\",\"x\",\"width\",\"line_alpha\",\"fill_alpha\"],\"data\":{\"chart_index\":[\"(78.241916, 80.218896]\"],\"color\":[\"#f22c40\"],\"fill_alpha\":[0.8],\"height\":[270.0],\"label\":[\"(78.241916, 80.218896]\"],\"line_alpha\":[1.0],\"line_color\":[\"black\"],\"width\":[1.976980165044921],\"x\":[\"79.230406\"],\"y\":[135.0]}},\"id\":\"a69e2b63-f49f-41f8-bd2d-4a649674ed04\",\"type\":\"ColumnDataSource\"},{\"attributes\":{\"callback\":null,\"column_names\":[\"height\",\"line_color\",\"color\",\"y\",\"label\",\"x\",\"width\",\"line_alpha\",\"fill_alpha\"],\"data\":{\"chart_index\":[\"(34.748352, 36.725332]\"],\"color\":[\"#f22c40\"],\"fill_alpha\":[0.8],\"height\":[159.0],\"label\":[\"(34.748352, 36.725332]\"],\"line_alpha\":[1.0],\"line_color\":[\"black\"],\"width\":[1.976980165044921],\"x\":[\"35.736841999999996\"],\"y\":[79.5]}},\"id\":\"9b258b17-5f94-4271-b512-58449fefb7e9\",\"type\":\"ColumnDataSource\"},{\"attributes\":{\"data_source\":{\"id\":\"6ea43fad-79c2-4f14-b7d5-740d830791d2\",\"type\":\"ColumnDataSource\"},\"glyph\":{\"id\":\"a136a897-e52d-4f0b-ace0-f3ae601ed02b\",\"type\":\"Rect\"},\"hover_glyph\":null,\"nonselection_glyph\":null,\"selection_glyph\":null},\"id\":\"f094279f-3727-4bce-ab4a-657da580b358\",\"type\":\"GlyphRenderer\"},{\"attributes\":{\"data_source\":{\"id\":\"374aab03-e400-4470-939e-7a8e78df8c25\",\"type\":\"ColumnDataSource\"},\"glyph\":{\"id\":\"47822fd2-a6f5-4ff6-9206-3969efb7cdd0\",\"type\":\"Rect\"},\"hover_glyph\":null,\"nonselection_glyph\":null,\"selection_glyph\":null},\"id\":\"bd95ddb5-eadd-414f-86ff-31f717041155\",\"type\":\"GlyphRenderer\"},{\"attributes\":{\"fill_alpha\":{\"field\":\"fill_alpha\"},\"fill_color\":{\"field\":\"color\"},\"height\":{\"field\":\"height\",\"units\":\"data\"},\"line_color\":{\"field\":\"line_color\"},\"width\":{\"field\":\"width\",\"units\":\"data\"},\"x\":{\"field\":\"x\"},\"y\":{\"field\":\"y\"}},\"id\":\"3fa2402b-bf4c-4bbb-946f-038bcc454cd8\",\"type\":\"Rect\"},{\"attributes\":{\"fill_alpha\":{\"field\":\"fill_alpha\"},\"fill_color\":{\"field\":\"color\"},\"height\":{\"field\":\"height\",\"units\":\"data\"},\"line_color\":{\"field\":\"line_color\"},\"width\":{\"field\":\"width\",\"units\":\"data\"},\"x\":{\"field\":\"x\"},\"y\":{\"field\":\"y\"}},\"id\":\"4c90ddf4-fd21-469e-b073-fbfb200659a8\",\"type\":\"Rect\"},{\"attributes\":{\"callback\":null,\"end\":921.8356459044779,\"start\":-22.47919840447795},\"id\":\"00b9b6e1-b88c-40d0-8667-7384348017f3\",\"type\":\"Range1d\"},{\"attributes\":{\"data_source\":{\"id\":\"e773d1c1-9a91-4465-8c1c-fc71a486c00e\",\"type\":\"ColumnDataSource\"},\"glyph\":{\"id\":\"7d73ef8c-c35a-4210-98ad-15199c219100\",\"type\":\"Rect\"},\"hover_glyph\":null,\"nonselection_glyph\":null,\"selection_glyph\":null},\"id\":\"6000be90-59d4-4bd6-9090-e7648ef8dc8c\",\"type\":\"GlyphRenderer\"},{\"attributes\":{\"fill_alpha\":{\"field\":\"fill_alpha\"},\"fill_color\":{\"field\":\"color\"},\"height\":{\"field\":\"height\",\"units\":\"data\"},\"line_color\":{\"field\":\"line_color\"},\"width\":{\"field\":\"width\",\"units\":\"data\"},\"x\":{\"field\":\"x\"},\"y\":{\"field\":\"y\"}},\"id\":\"bb905bc8-7ad2-4cb6-9ad2-06fbc452a751\",\"type\":\"Rect\"},{\"attributes\":{\"callback\":null,\"column_names\":[\"height\",\"line_color\",\"color\",\"y\",\"label\",\"x\",\"width\",\"line_alpha\",\"fill_alpha\"],\"data\":{\"chart_index\":[\"(845.390913, 863.377854]\"],\"color\":[\"#f22c40\"],\"fill_alpha\":[0.8],\"height\":[0.0],\"label\":[\"(845.390913, 863.377854]\"],\"line_alpha\":[1.0],\"line_color\":[\"black\"],\"width\":[17.98694043395585],\"x\":[\"854.3843835\"],\"y\":[0.0]}},\"id\":\"6958dfc3-dc43-4b06-8b10-24403c5ebb26\",\"type\":\"ColumnDataSource\"},{\"attributes\":{\"data_source\":{\"id\":\"ac7718f7-2043-465d-8066-aecbe8f5c979\",\"type\":\"ColumnDataSource\"},\"glyph\":{\"id\":\"f25a0ca2-eef2-4386-a0e6-1e2a46de61b3\",\"type\":\"Rect\"},\"hover_glyph\":null,\"nonselection_glyph\":null,\"selection_glyph\":null},\"id\":\"d35a7af9-f132-4487-a874-2568ff06e9b1\",\"type\":\"GlyphRenderer\"},{\"attributes\":{\"data_source\":{\"id\":\"efe230a3-d2dc-4b8c-87c8-6eb9126d6ce5\",\"type\":\"ColumnDataSource\"},\"glyph\":{\"id\":\"feeb442a-e3bd-4f3d-85d5-735df6bde911\",\"type\":\"Rect\"},\"hover_glyph\":null,\"nonselection_glyph\":null,\"selection_glyph\":null},\"id\":\"2f221cb4-a7e2-4726-b115-f406de4b9585\",\"type\":\"GlyphRenderer\"},{\"attributes\":{\"fill_alpha\":{\"field\":\"fill_alpha\"},\"fill_color\":{\"field\":\"color\"},\"height\":{\"field\":\"height\",\"units\":\"data\"},\"line_color\":{\"field\":\"line_color\"},\"width\":{\"field\":\"width\",\"units\":\"data\"},\"x\":{\"field\":\"x\"},\"y\":{\"field\":\"y\"}},\"id\":\"8069c5d4-1bef-4b39-ba9d-3c2b305b31b4\",\"type\":\"Rect\"},{\"attributes\":{\"dimension\":1,\"plot\":{\"id\":\"d4a8ccfb-05b2-4bd8-997e-90be3fcf5ef4\",\"subtype\":\"Chart\",\"type\":\"Plot\"},\"ticker\":{\"id\":\"3110ad42-1959-4fac-890d-b8e041803c8b\",\"type\":\"BasicTicker\"}},\"id\":\"c00c3414-1585-472d-b1cc-1db67af556ae\",\"type\":\"Grid\"},{\"attributes\":{\"data_source\":{\"id\":\"60cb87ad-feff-4f61-8057-b042e3fa42cd\",\"type\":\"ColumnDataSource\"},\"glyph\":{\"id\":\"4e9876e8-b7de-4838-9bdb-9e1c334a2e7a\",\"type\":\"Rect\"},\"hover_glyph\":null,\"nonselection_glyph\":null,\"selection_glyph\":null},\"id\":\"95897327-2b44-4e55-bf62-5198d101e435\",\"type\":\"GlyphRenderer\"},{\"attributes\":{\"callback\":null,\"column_names\":[\"height\",\"line_color\",\"color\",\"y\",\"label\",\"x\",\"width\",\"line_alpha\",\"fill_alpha\"],\"data\":{\"chart_index\":[\"(701.495390, 719.482330]\"],\"color\":[\"#f22c40\"],\"fill_alpha\":[0.8],\"height\":[1.0],\"label\":[\"(701.495390, 719.482330]\"],\"line_alpha\":[1.0],\"line_color\":[\"black\"],\"width\":[17.986940433955965],\"x\":[\"710.48886\"],\"y\":[0.5]}},\"id\":\"b3da40b9-28dd-4bb4-a298-82d556dd8787\",\"type\":\"ColumnDataSource\"},{\"attributes\":{\"data_source\":{\"id\":\"7785dc4a-22d3-4bbd-880c-87d0c90278d9\",\"type\":\"ColumnDataSource\"},\"glyph\":{\"id\":\"a9241eaa-77d7-47f2-a187-f70599d6355e\",\"type\":\"Rect\"},\"hover_glyph\":null,\"nonselection_glyph\":null,\"selection_glyph\":null},\"id\":\"1fa21aa3-3ee5-4bc0-9826-cc26f7619ebf\",\"type\":\"GlyphRenderer\"},{\"attributes\":{\"data_source\":{\"id\":\"22393aae-d157-4f97-9dfc-815b8b4f7517\",\"type\":\"ColumnDataSource\"},\"glyph\":{\"id\":\"ef51b194-f017-4dc3-8ee1-1df826ab83ae\",\"type\":\"Rect\"},\"hover_glyph\":null,\"nonselection_glyph\":null,\"selection_glyph\":null},\"id\":\"e833f116-3cc9-46bb-8914-a1db674e3bdd\",\"type\":\"GlyphRenderer\"},{\"attributes\":{\"data_source\":{\"id\":\"27a84430-5da6-4b08-a64f-88131c64e03b\",\"type\":\"ColumnDataSource\"},\"glyph\":{\"id\":\"94aff68f-fb3d-478b-a1bb-a126f045a899\",\"type\":\"Rect\"},\"hover_glyph\":null,\"nonselection_glyph\":null,\"selection_glyph\":null},\"id\":\"d7248ff5-e23b-4b03-b171-83334a0f8fa5\",\"type\":\"GlyphRenderer\"},{\"attributes\":{\"callback\":null,\"column_names\":[\"height\",\"line_color\",\"color\",\"y\",\"label\",\"x\",\"width\",\"line_alpha\",\"fill_alpha\"],\"data\":{\"chart_index\":[\"(26.840432, 28.817412]\"],\"color\":[\"#f22c40\"],\"fill_alpha\":[0.8],\"height\":[80.0],\"label\":[\"(26.840432, 28.817412]\"],\"line_alpha\":[1.0],\"line_color\":[\"black\"],\"width\":[1.976980165044921],\"x\":[\"27.828922\"],\"y\":[40.0]}},\"id\":\"aa727ef3-3c35-47eb-8b7e-a623b3dbfd52\",\"type\":\"ColumnDataSource\"},{\"attributes\":{\"callback\":null,\"column_names\":[\"height\",\"line_color\",\"color\",\"y\",\"label\",\"x\",\"width\",\"line_alpha\",\"fill_alpha\"],\"data\":{\"chart_index\":[\"(75.995482, 77.995062]\"],\"color\":[\"#f22c40\"],\"fill_alpha\":[0.8],\"height\":[199.0],\"label\":[\"(75.995482, 77.995062]\"],\"line_alpha\":[1.0],\"line_color\":[\"black\"],\"width\":[1.9995804859201343],\"x\":[\"76.995272\"],\"y\":[99.5]}},\"id\":\"7785dc4a-22d3-4bbd-880c-87d0c90278d9\",\"type\":\"ColumnDataSource\"},{\"attributes\":{\"callback\":null,\"column_names\":[\"height\",\"line_color\",\"color\",\"y\",\"label\",\"x\",\"width\",\"line_alpha\",\"fill_alpha\"],\"data\":{\"chart_index\":[\"(44.633253, 46.610233]\"],\"color\":[\"#f22c40\"],\"fill_alpha\":[0.8],\"height\":[235.0],\"label\":[\"(44.633253, 46.610233]\"],\"line_alpha\":[1.0],\"line_color\":[\"black\"],\"width\":[1.976980165044921],\"x\":[\"45.621743\"],\"y\":[117.5]}},\"id\":\"a789b498-a2f6-4a50-929a-a44556349406\",\"type\":\"ColumnDataSource\"},{\"attributes\":{\"data_source\":{\"id\":\"a69e2b63-f49f-41f8-bd2d-4a649674ed04\",\"type\":\"ColumnDataSource\"},\"glyph\":{\"id\":\"05648487-b56e-4ea9-907e-bf1642293494\",\"type\":\"Rect\"},\"hover_glyph\":null,\"nonselection_glyph\":null,\"selection_glyph\":null},\"id\":\"6f7b2985-f8a9-4aec-95d4-4cc3370a2669\",\"type\":\"GlyphRenderer\"},{\"attributes\":{\"fill_alpha\":{\"field\":\"fill_alpha\"},\"fill_color\":{\"field\":\"color\"},\"height\":{\"field\":\"height\",\"units\":\"data\"},\"line_color\":{\"field\":\"line_color\"},\"width\":{\"field\":\"width\",\"units\":\"data\"},\"x\":{\"field\":\"x\"},\"y\":{\"field\":\"y\"}},\"id\":\"6453686e-5278-474f-a4c9-24e6b3af76ee\",\"type\":\"Rect\"},{\"attributes\":{\"plot\":{\"id\":\"d4a8ccfb-05b2-4bd8-997e-90be3fcf5ef4\",\"subtype\":\"Chart\",\"type\":\"Plot\"}},\"id\":\"d012b910-3647-404f-af54-5a8ab61e4c53\",\"type\":\"SaveTool\"},{\"attributes\":{\"fill_alpha\":{\"field\":\"fill_alpha\"},\"fill_color\":{\"field\":\"color\"},\"height\":{\"field\":\"height\",\"units\":\"data\"},\"line_color\":{\"field\":\"line_color\"},\"width\":{\"field\":\"width\",\"units\":\"data\"},\"x\":{\"field\":\"x\"},\"y\":{\"field\":\"y\"}},\"id\":\"72450541-3add-4a11-a8a9-c9c7b55a3941\",\"type\":\"Rect\"},{\"attributes\":{\"callback\":null,\"column_names\":[\"height\",\"line_color\",\"color\",\"y\",\"label\",\"x\",\"width\",\"line_alpha\",\"fill_alpha\"],\"data\":{\"chart_index\":[\"(28.817412, 30.794392]\"],\"color\":[\"#f22c40\"],\"fill_alpha\":[0.8],\"height\":[110.0],\"label\":[\"(28.817412, 30.794392]\"],\"line_alpha\":[1.0],\"line_color\":[\"black\"],\"width\":[1.9769801650449246],\"x\":[\"29.805902\"],\"y\":[55.0]}},\"id\":\"2a8c347e-5c6e-460c-be20-620427449beb\",\"type\":\"ColumnDataSource\"},{\"attributes\":{\"fill_alpha\":{\"field\":\"fill_alpha\"},\"fill_color\":{\"field\":\"color\"},\"height\":{\"field\":\"height\",\"units\":\"data\"},\"line_color\":{\"field\":\"line_color\"},\"width\":{\"field\":\"width\",\"units\":\"data\"},\"x\":{\"field\":\"x\"},\"y\":{\"field\":\"y\"}},\"id\":\"009dc954-e05c-4569-817c-fd956f0f37d5\",\"type\":\"Rect\"},{\"attributes\":{\"data_source\":{\"id\":\"51a6282d-1424-431e-8be7-8bce4c372520\",\"type\":\"ColumnDataSource\"},\"glyph\":{\"id\":\"ad67db41-6c38-43f5-9111-ac7d3bbb0973\",\"type\":\"Rect\"},\"hover_glyph\":null,\"nonselection_glyph\":null,\"selection_glyph\":null},\"id\":\"1b1180d6-2b64-4ccc-b585-ecc7b4c32d57\",\"type\":\"GlyphRenderer\"},{\"attributes\":{\"fill_alpha\":{\"field\":\"fill_alpha\"},\"fill_color\":{\"field\":\"color\"},\"height\":{\"field\":\"height\",\"units\":\"data\"},\"line_color\":{\"field\":\"line_color\"},\"width\":{\"field\":\"width\",\"units\":\"data\"},\"x\":{\"field\":\"x\"},\"y\":{\"field\":\"y\"}},\"id\":\"089622a7-fa70-4e45-8e14-97abface9dc9\",\"type\":\"Rect\"},{\"attributes\":{\"callback\":null,\"column_names\":[\"height\",\"line_color\",\"color\",\"y\",\"label\",\"x\",\"width\",\"line_alpha\",\"fill_alpha\"],\"data\":{\"chart_index\":[\"(36.003872, 38.003453]\"],\"color\":[\"#f22c40\"],\"fill_alpha\":[0.8],\"height\":[189.0],\"label\":[\"(36.003872, 38.003453]\"],\"line_alpha\":[1.0],\"line_color\":[\"black\"],\"width\":[1.9995804859201343],\"x\":[\"37.003662500000004\"],\"y\":[94.5]}},\"id\":\"870e2d6c-34b8-4a54-a70f-545ced747bf8\",\"type\":\"ColumnDataSource\"},{\"attributes\":{\"callback\":null,\"column_names\":[\"height\",\"line_color\",\"color\",\"y\",\"label\",\"x\",\"width\",\"line_alpha\",\"fill_alpha\"],\"data\":{\"chart_index\":[\"(85.993384, 87.992965]\"],\"color\":[\"#f22c40\"],\"fill_alpha\":[0.8],\"height\":[191.0],\"label\":[\"(85.993384, 87.992965]\"],\"line_alpha\":[1.0],\"line_color\":[\"black\"],\"width\":[1.9995804859201343],\"x\":[\"86.99317450000001\"],\"y\":[95.5]}},\"id\":\"e1654a4a-edea-4bba-a499-f7ea459352cc\",\"type\":\"ColumnDataSource\"},{\"attributes\":{\"fill_alpha\":{\"field\":\"fill_alpha\"},\"fill_color\":{\"field\":\"color\"},\"height\":{\"field\":\"height\",\"units\":\"data\"},\"line_color\":{\"field\":\"line_color\"},\"width\":{\"field\":\"width\",\"units\":\"data\"},\"x\":{\"field\":\"x\"},\"y\":{\"field\":\"y\"}},\"id\":\"1e6aec17-3910-4b57-ba3b-b4d7eb5b9fbb\",\"type\":\"Rect\"},{\"attributes\":{\"callback\":null,\"column_names\":[\"height\",\"line_color\",\"color\",\"y\",\"label\",\"x\",\"width\",\"line_alpha\",\"fill_alpha\"],\"data\":{\"chart_index\":[\"(26.005970, 28.005550]\"],\"color\":[\"#f22c40\"],\"fill_alpha\":[0.8],\"height\":[217.0],\"label\":[\"(26.005970, 28.005550]\"],\"line_alpha\":[1.0],\"line_color\":[\"black\"],\"width\":[1.9995804859201343],\"x\":[\"27.005760000000002\"],\"y\":[108.5]}},\"id\":\"7ccaec09-38f6-423f-a008-85f077183a55\",\"type\":\"ColumnDataSource\"},{\"attributes\":{\"callback\":null,\"column_names\":[\"height\",\"line_color\",\"color\",\"y\",\"label\",\"x\",\"width\",\"line_alpha\",\"fill_alpha\"],\"data\":{\"chart_index\":[\"(101.965678, 103.942658]\"],\"color\":[\"#f22c40\"],\"fill_alpha\":[0.8],\"height\":[140.0],\"label\":[\"(101.965678, 103.942658]\"],\"line_alpha\":[1.0],\"line_color\":[\"black\"],\"width\":[1.976980165044921],\"x\":[\"102.954168\"],\"y\":[70.0]}},\"id\":\"42612034-cd79-437a-a22b-3731738fbe85\",\"type\":\"ColumnDataSource\"},{\"attributes\":{\"sizing_mode\":\"scale_width\",\"toolbar_location\":\"above\",\"tools\":[{\"id\":\"1c97f2a5-a613-4f31-98de-42a6ce4f168e\",\"type\":\"PanTool\"},{\"id\":\"5d3a2416-a442-47a5-b441-542e3a779dd1\",\"type\":\"WheelZoomTool\"},{\"id\":\"40ee6a6c-d29b-45c0-b2c0-9521068ae66d\",\"type\":\"BoxZoomTool\"},{\"id\":\"81f36cdb-026a-4bb5-ab7e-288aa0386dce\",\"type\":\"SaveTool\"},{\"id\":\"a1c0a30a-8755-48b5-9899-79a4d2ae7bad\",\"type\":\"ResetTool\"},{\"id\":\"36e6f2e2-fb07-406f-8929-902a9b013180\",\"type\":\"HelpTool\"},{\"id\":\"ee452427-33a4-4a2f-95de-e45c44f4f59d\",\"type\":\"PanTool\"},{\"id\":\"db21d2bb-6405-420b-a016-48d2dbbc62e2\",\"type\":\"WheelZoomTool\"},{\"id\":\"3eaa668d-d085-4e68-8edf-189fcc747fb0\",\"type\":\"BoxZoomTool\"},{\"id\":\"2b09c321-9a54-405b-a88e-d7f7849692ce\",\"type\":\"SaveTool\"},{\"id\":\"bfe9d560-b6cf-44ab-86b5-018bd2b208a6\",\"type\":\"ResetTool\"},{\"id\":\"a00aa37d-11b0-4911-a407-d4c9549f2efa\",\"type\":\"HelpTool\"},{\"id\":\"32a35164-1617-4ba6-8f74-5f0e51b60c29\",\"type\":\"PanTool\"},{\"id\":\"7cda7851-4c3d-4983-9b8c-5de1439a3140\",\"type\":\"WheelZoomTool\"},{\"id\":\"ef99b137-27cc-41ec-aac0-6a6737402dea\",\"type\":\"BoxZoomTool\"},{\"id\":\"8fab52f3-66f5-4570-b4ed-87ac0cc585b5\",\"type\":\"SaveTool\"},{\"id\":\"65c141b4-ead7-46ce-a2cc-918cb548ed79\",\"type\":\"ResetTool\"},{\"id\":\"5e52448e-29b2-4555-92e5-9fe247223be2\",\"type\":\"HelpTool\"},{\"id\":\"ae395cbf-2a8a-4c30-a4d5-9721732642e1\",\"type\":\"PanTool\"},{\"id\":\"e38b0ba1-b8ac-47a0-b2c4-10997a9034a0\",\"type\":\"WheelZoomTool\"},{\"id\":\"1a9e53ca-33e6-446a-be68-1cb1575f9da9\",\"type\":\"BoxZoomTool\"},{\"id\":\"d012b910-3647-404f-af54-5a8ab61e4c53\",\"type\":\"SaveTool\"},{\"id\":\"fcbb40cf-e204-4319-ac46-7805ae1695a8\",\"type\":\"ResetTool\"},{\"id\":\"b7f19c9d-b2df-494b-838a-9c493e79f395\",\"type\":\"HelpTool\"}]},\"id\":\"b672f422-68b5-40a5-a371-6f6c54c26a42\",\"type\":\"ToolbarBox\"},{\"attributes\":{\"data_source\":{\"id\":\"50c64f27-7e46-40ac-91c9-62df3cd5469c\",\"type\":\"ColumnDataSource\"},\"glyph\":{\"id\":\"59f883fe-c5f4-4d75-a224-ef6500cf4ed8\",\"type\":\"Rect\"},\"hover_glyph\":null,\"nonselection_glyph\":null,\"selection_glyph\":null},\"id\":\"fa225009-f034-4f7c-b29b-c9aeeda9ecd3\",\"type\":\"GlyphRenderer\"},{\"attributes\":{\"data_source\":{\"id\":\"e7e9bc99-a0e2-488e-a347-0941fa295b8f\",\"type\":\"ColumnDataSource\"},\"glyph\":{\"id\":\"eeb12b0d-8f12-4a16-8af1-e5e39a2e86a9\",\"type\":\"Rect\"},\"hover_glyph\":null,\"nonselection_glyph\":null,\"selection_glyph\":null},\"id\":\"32958e6e-2c3d-4652-b313-f99e96e817d7\",\"type\":\"GlyphRenderer\"},{\"attributes\":{\"data_source\":{\"id\":\"7ea85e35-d6b3-441e-8108-abc9202464fe\",\"type\":\"ColumnDataSource\"},\"glyph\":{\"id\":\"369f0f62-93d4-4913-bf4e-e7b9afef1956\",\"type\":\"Rect\"},\"hover_glyph\":null,\"nonselection_glyph\":null,\"selection_glyph\":null},\"id\":\"2234029c-8249-43f3-b9df-a43c3a300f8c\",\"type\":\"GlyphRenderer\"},{\"attributes\":{\"fill_alpha\":{\"field\":\"fill_alpha\"},\"fill_color\":{\"field\":\"color\"},\"height\":{\"field\":\"height\",\"units\":\"data\"},\"line_color\":{\"field\":\"line_color\"},\"width\":{\"field\":\"width\",\"units\":\"data\"},\"x\":{\"field\":\"x\"},\"y\":{\"field\":\"y\"}},\"id\":\"5b9f236c-2125-40cb-bd67-7a3914cd36a8\",\"type\":\"Rect\"},{\"attributes\":{\"fill_alpha\":{\"field\":\"fill_alpha\"},\"fill_color\":{\"field\":\"color\"},\"height\":{\"field\":\"height\",\"units\":\"data\"},\"line_color\":{\"field\":\"line_color\"},\"width\":{\"field\":\"width\",\"units\":\"data\"},\"x\":{\"field\":\"x\"},\"y\":{\"field\":\"y\"}},\"id\":\"2db3e173-6bb8-4c0a-88cc-313db5369c3e\",\"type\":\"Rect\"},{\"attributes\":{\"fill_alpha\":{\"field\":\"fill_alpha\"},\"fill_color\":{\"field\":\"color\"},\"height\":{\"field\":\"height\",\"units\":\"data\"},\"line_color\":{\"field\":\"line_color\"},\"width\":{\"field\":\"width\",\"units\":\"data\"},\"x\":{\"field\":\"x\"},\"y\":{\"field\":\"y\"}},\"id\":\"b7303192-8c52-4e94-8030-87b4f37ecbd2\",\"type\":\"Rect\"},{\"attributes\":{\"callback\":null,\"column_names\":[\"height\",\"line_color\",\"color\",\"y\",\"label\",\"x\",\"width\",\"line_alpha\",\"fill_alpha\"],\"data\":{\"chart_index\":[\"(107.926356, 125.913296]\"],\"color\":[\"#f22c40\"],\"fill_alpha\":[0.8],\"height\":[599.0],\"label\":[\"(107.926356, 125.913296]\"],\"line_alpha\":[1.0],\"line_color\":[\"black\"],\"width\":[17.986940433955894],\"x\":[\"116.919826\"],\"y\":[299.5]}},\"id\":\"27a84430-5da6-4b08-a64f-88131c64e03b\",\"type\":\"ColumnDataSource\"},{\"attributes\":{\"data_source\":{\"id\":\"422f7b9d-b6bb-4314-84c8-77ad790346e1\",\"type\":\"ColumnDataSource\"},\"glyph\":{\"id\":\"07692f71-0e05-4204-8e39-0edc1b66417f\",\"type\":\"Rect\"},\"hover_glyph\":null,\"nonselection_glyph\":null,\"selection_glyph\":null},\"id\":\"149a7790-83ad-443a-bb0a-29daa09c5cf3\",\"type\":\"GlyphRenderer\"},{\"attributes\":{\"callback\":null,\"column_names\":[\"height\",\"line_color\",\"color\",\"y\",\"label\",\"x\",\"width\",\"line_alpha\",\"fill_alpha\"],\"data\":{\"chart_index\":[\"(79.994643, 81.994223]\"],\"color\":[\"#f22c40\"],\"fill_alpha\":[0.8],\"height\":[191.0],\"label\":[\"(79.994643, 81.994223]\"],\"line_alpha\":[1.0],\"line_color\":[\"black\"],\"width\":[1.9995804859201343],\"x\":[\"80.994433\"],\"y\":[95.5]}},\"id\":\"290a5ccd-c497-4163-8bfb-77dca9546d0c\",\"type\":\"ColumnDataSource\"},{\"attributes\":{\"callback\":null,\"column_names\":[\"height\",\"line_color\",\"color\",\"y\",\"label\",\"x\",\"width\",\"line_alpha\",\"fill_alpha\"],\"data\":{\"chart_index\":[\"(54.000097, 55.999677]\"],\"color\":[\"#f22c40\"],\"fill_alpha\":[0.8],\"height\":[199.0],\"label\":[\"(54.000097, 55.999677]\"],\"line_alpha\":[1.0],\"line_color\":[\"black\"],\"width\":[1.9995804859201343],\"x\":[\"54.999887\"],\"y\":[99.5]}},\"id\":\"08fec7a6-b75e-4140-92e1-dc5eb2f5bdc7\",\"type\":\"ColumnDataSource\"},{\"attributes\":{\"fill_alpha\":{\"field\":\"fill_alpha\"},\"fill_color\":{\"field\":\"color\"},\"height\":{\"field\":\"height\",\"units\":\"data\"},\"line_color\":{\"field\":\"line_color\"},\"width\":{\"field\":\"width\",\"units\":\"data\"},\"x\":{\"field\":\"x\"},\"y\":{\"field\":\"y\"}},\"id\":\"aa997a46-04c0-4a33-8427-92e9684742cc\",\"type\":\"Rect\"},{\"attributes\":{\"fill_alpha\":{\"field\":\"fill_alpha\"},\"fill_color\":{\"field\":\"color\"},\"height\":{\"field\":\"height\",\"units\":\"data\"},\"line_color\":{\"field\":\"line_color\"},\"width\":{\"field\":\"width\",\"units\":\"data\"},\"x\":{\"field\":\"x\"},\"y\":{\"field\":\"y\"}},\"id\":\"74a9392f-337c-48a9-9a80-18bd4d97669e\",\"type\":\"Rect\"},{\"attributes\":{\"fill_alpha\":{\"field\":\"fill_alpha\"},\"fill_color\":{\"field\":\"color\"},\"height\":{\"field\":\"height\",\"units\":\"data\"},\"line_color\":{\"field\":\"line_color\"},\"width\":{\"field\":\"width\",\"units\":\"data\"},\"x\":{\"field\":\"x\"},\"y\":{\"field\":\"y\"}},\"id\":\"f7cd750d-b552-4d00-836d-21a82ab77d72\",\"type\":\"Rect\"},{\"attributes\":{\"fill_alpha\":{\"field\":\"fill_alpha\"},\"fill_color\":{\"field\":\"color\"},\"height\":{\"field\":\"height\",\"units\":\"data\"},\"line_color\":{\"field\":\"line_color\"},\"width\":{\"field\":\"width\",\"units\":\"data\"},\"x\":{\"field\":\"x\"},\"y\":{\"field\":\"y\"}},\"id\":\"e7fc2bd2-e938-4b7c-8b07-c8940d248fd9\",\"type\":\"Rect\"},{\"attributes\":{\"callback\":null,\"column_names\":[\"height\",\"line_color\",\"color\",\"y\",\"label\",\"x\",\"width\",\"line_alpha\",\"fill_alpha\"],\"data\":{\"chart_index\":[\"(4.666773, 6.317567]\"],\"color\":[\"#f22c40\"],\"fill_alpha\":[0.8],\"height\":[1.0],\"label\":[\"(4.666773, 6.317567]\"],\"line_alpha\":[1.0],\"line_color\":[\"black\"],\"width\":[1.6507939572147432],\"x\":[\"5.49217\"],\"y\":[0.5]}},\"id\":\"48a0ce9d-7960-4615-89fd-79960e5daaae\",\"type\":\"ColumnDataSource\"},{\"attributes\":{\"fill_alpha\":{\"field\":\"fill_alpha\"},\"fill_color\":{\"field\":\"color\"},\"height\":{\"field\":\"height\",\"units\":\"data\"},\"line_color\":{\"field\":\"line_color\"},\"width\":{\"field\":\"width\",\"units\":\"data\"},\"x\":{\"field\":\"x\"},\"y\":{\"field\":\"y\"}},\"id\":\"0fd7a58c-5b7c-4647-a916-8ec4f6fede9f\",\"type\":\"Rect\"},{\"attributes\":{\"callback\":null,\"column_names\":[\"height\",\"line_color\",\"color\",\"y\",\"label\",\"x\",\"width\",\"line_alpha\",\"fill_alpha\"],\"data\":{\"chart_index\":[\"(521.625986, 539.612926]\"],\"color\":[\"#f22c40\"],\"fill_alpha\":[0.8],\"height\":[5.0],\"label\":[\"(521.625986, 539.612926]\"],\"line_alpha\":[1.0],\"line_color\":[\"black\"],\"width\":[17.98694043395585],\"x\":[\"530.619456\"],\"y\":[2.5]}},\"id\":\"5d345712-408a-4c6b-afdb-f8ab5428c719\",\"type\":\"ColumnDataSource\"},{\"attributes\":{\"fill_alpha\":{\"field\":\"fill_alpha\"},\"fill_color\":{\"field\":\"color\"},\"height\":{\"field\":\"height\",\"units\":\"data\"},\"line_color\":{\"field\":\"line_color\"},\"width\":{\"field\":\"width\",\"units\":\"data\"},\"x\":{\"field\":\"x\"},\"y\":{\"field\":\"y\"}},\"id\":\"3c9482ef-07fc-46ce-8186-c2147f9790a6\",\"type\":\"Rect\"},{\"attributes\":{\"callback\":null,\"column_names\":[\"height\",\"line_color\",\"color\",\"y\",\"label\",\"x\",\"width\",\"line_alpha\",\"fill_alpha\"],\"data\":{\"chart_index\":[\"(56.495134, 58.472114]\"],\"color\":[\"#f22c40\"],\"fill_alpha\":[0.8],\"height\":[273.0],\"label\":[\"(56.495134, 58.472114]\"],\"line_alpha\":[1.0],\"line_color\":[\"black\"],\"width\":[1.976980165044921],\"x\":[\"57.483624\"],\"y\":[136.5]}},\"id\":\"de5d3c11-8735-40f8-8344-49f521bbd0af\",\"type\":\"ColumnDataSource\"},{\"attributes\":{\"callback\":null,\"column_names\":[\"height\",\"line_color\",\"color\",\"y\",\"label\",\"x\",\"width\",\"line_alpha\",\"fill_alpha\"],\"data\":{\"chart_index\":[\"(161.887177, 179.874117]\"],\"color\":[\"#f22c40\"],\"fill_alpha\":[0.8],\"height\":[308.0],\"label\":[\"(161.887177, 179.874117]\"],\"line_alpha\":[1.0],\"line_color\":[\"black\"],\"width\":[17.98694043395591],\"x\":[\"170.880647\"],\"y\":[154.0]}},\"id\":\"ba1b179f-f976-44f0-ae94-73d84257e759\",\"type\":\"ColumnDataSource\"},{\"attributes\":{\"data_source\":{\"id\":\"930d355c-9d5e-45fc-a6ed-06ca827edf16\",\"type\":\"ColumnDataSource\"},\"glyph\":{\"id\":\"0aa50e50-507b-4b77-9593-fd48b74e8fe6\",\"type\":\"Rect\"},\"hover_glyph\":null,\"nonselection_glyph\":null,\"selection_glyph\":null},\"id\":\"b18f6f9a-2b8c-431c-8751-adaf9bddc003\",\"type\":\"GlyphRenderer\"},{\"attributes\":{\"fill_alpha\":{\"field\":\"fill_alpha\"},\"fill_color\":{\"field\":\"color\"},\"height\":{\"field\":\"height\",\"units\":\"data\"},\"line_color\":{\"field\":\"line_color\"},\"width\":{\"field\":\"width\",\"units\":\"data\"},\"x\":{\"field\":\"x\"},\"y\":{\"field\":\"y\"}},\"id\":\"4201dd87-e22e-43e3-b0dd-7c63823073dc\",\"type\":\"Rect\"},{\"attributes\":{\"data_source\":{\"id\":\"0cbc0b97-1dca-4e3a-af04-c6950ff0d575\",\"type\":\"ColumnDataSource\"},\"glyph\":{\"id\":\"2190ec82-c9ba-41ac-bbc2-ce68ddefd104\",\"type\":\"Rect\"},\"hover_glyph\":null,\"nonselection_glyph\":null,\"selection_glyph\":null},\"id\":\"268d060a-26b1-4483-8637-691d1641663a\",\"type\":\"GlyphRenderer\"},{\"attributes\":{\"fill_alpha\":{\"field\":\"fill_alpha\"},\"fill_color\":{\"field\":\"color\"},\"height\":{\"field\":\"height\",\"units\":\"data\"},\"line_color\":{\"field\":\"line_color\"},\"width\":{\"field\":\"width\",\"units\":\"data\"},\"x\":{\"field\":\"x\"},\"y\":{\"field\":\"y\"}},\"id\":\"eb24612a-68cc-4159-b8c1-990180cfc865\",\"type\":\"Rect\"},{\"attributes\":{\"callback\":null,\"column_names\":[\"height\",\"line_color\",\"color\",\"y\",\"label\",\"x\",\"width\",\"line_alpha\",\"fill_alpha\"],\"data\":{\"chart_index\":[\"(539.612926, 557.599866]\"],\"color\":[\"#f22c40\"],\"fill_alpha\":[0.8],\"height\":[11.0],\"label\":[\"(539.612926, 557.599866]\"],\"line_alpha\":[1.0],\"line_color\":[\"black\"],\"width\":[17.986940433955965],\"x\":[\"548.606396\"],\"y\":[5.5]}},\"id\":\"4a9992c3-d536-41fa-932d-9f4beb35b40f\",\"type\":\"ColumnDataSource\"},{\"attributes\":{\"data_source\":{\"id\":\"bb401f29-80de-4f70-b12a-87861309239c\",\"type\":\"ColumnDataSource\"},\"glyph\":{\"id\":\"4a0c7157-e928-4304-9ed6-672ce4421e1b\",\"type\":\"Rect\"},\"hover_glyph\":null,\"nonselection_glyph\":null,\"selection_glyph\":null},\"id\":\"c9c1ed9b-82c6-4376-b766-fe426d4be92e\",\"type\":\"GlyphRenderer\"},{\"attributes\":{\"callback\":null,\"column_names\":[\"height\",\"line_color\",\"color\",\"y\",\"label\",\"x\",\"width\",\"line_alpha\",\"fill_alpha\"],\"data\":{\"chart_index\":[\"(66.380035, 68.357015]\"],\"color\":[\"#f22c40\"],\"fill_alpha\":[0.8],\"height\":[292.0],\"label\":[\"(66.380035, 68.357015]\"],\"line_alpha\":[1.0],\"line_color\":[\"black\"],\"width\":[1.976980165044921],\"x\":[\"67.368525\"],\"y\":[146.0]}},\"id\":\"381d190a-70fb-4167-a100-d49626970e67\",\"type\":\"ColumnDataSource\"},{\"attributes\":{\"children\":[{\"id\":\"0b2f8ac5-d11b-4931-a14f-4bea83cd8bf4\",\"subtype\":\"Chart\",\"type\":\"Plot\"},{\"id\":\"d4a8ccfb-05b2-4bd8-997e-90be3fcf5ef4\",\"subtype\":\"Chart\",\"type\":\"Plot\"}]},\"id\":\"ac92f88d-a667-4d4f-a093-af6607f9574f\",\"type\":\"Row\"},{\"attributes\":{\"callback\":null,\"column_names\":[\"height\",\"line_color\",\"color\",\"y\",\"label\",\"x\",\"width\",\"line_alpha\",\"fill_alpha\"],\"data\":{\"chart_index\":[\"(117.986672, 119.986253]\"],\"color\":[\"#f22c40\"],\"fill_alpha\":[0.8],\"height\":[206.0],\"label\":[\"(117.986672, 119.986253]\"],\"line_alpha\":[1.0],\"line_color\":[\"black\"],\"width\":[1.9995804859201343],\"x\":[\"118.9864625\"],\"y\":[103.0]}},\"id\":\"533efd05-abc9-4a87-9521-8f25b2bcd142\",\"type\":\"ColumnDataSource\"},{\"attributes\":{\"plot\":{\"id\":\"0b2f8ac5-d11b-4931-a14f-4bea83cd8bf4\",\"subtype\":\"Chart\",\"type\":\"Plot\"}},\"id\":\"7cda7851-4c3d-4983-9b8c-5de1439a3140\",\"type\":\"WheelZoomTool\"},{\"attributes\":{\"fill_alpha\":{\"field\":\"fill_alpha\"},\"fill_color\":{\"field\":\"color\"},\"height\":{\"field\":\"height\",\"units\":\"data\"},\"line_color\":{\"field\":\"line_color\"},\"width\":{\"field\":\"width\",\"units\":\"data\"},\"x\":{\"field\":\"x\"},\"y\":{\"field\":\"y\"}},\"id\":\"1485822d-fe16-4631-9eef-91a7e6cd56eb\",\"type\":\"Rect\"},{\"attributes\":{\"data_source\":{\"id\":\"360205eb-fe5d-4eff-b6d7-dc4c756e9dfc\",\"type\":\"ColumnDataSource\"},\"glyph\":{\"id\":\"92e49de1-7fa5-442f-ae79-1da4428c91b1\",\"type\":\"Rect\"},\"hover_glyph\":null,\"nonselection_glyph\":null,\"selection_glyph\":null},\"id\":\"400cfb26-cef9-4b5b-bc32-efc9818afbad\",\"type\":\"GlyphRenderer\"},{\"attributes\":{\"callback\":null,\"column_names\":[\"height\",\"line_color\",\"color\",\"y\",\"label\",\"x\",\"width\",\"line_alpha\",\"fill_alpha\"],\"data\":{\"chart_index\":[\"(305.782700, 323.769641]\"],\"color\":[\"#f22c40\"],\"fill_alpha\":[0.8],\"height\":[65.0],\"label\":[\"(305.782700, 323.769641]\"],\"line_alpha\":[1.0],\"line_color\":[\"black\"],\"width\":[17.98694043395591],\"x\":[\"314.7761705\"],\"y\":[32.5]}},\"id\":\"bcca344b-05e1-4c05-890f-920b4b1b7d73\",\"type\":\"ColumnDataSource\"},{\"attributes\":{\"data_source\":{\"id\":\"8dd92ebd-4c92-4690-aea9-a4413e0ce29b\",\"type\":\"ColumnDataSource\"},\"glyph\":{\"id\":\"c62055e7-6a26-41c6-9de6-33ec335f5672\",\"type\":\"Rect\"},\"hover_glyph\":null,\"nonselection_glyph\":null,\"selection_glyph\":null},\"id\":\"a10f242e-9fb2-435b-9cf4-b77582e9fcec\",\"type\":\"GlyphRenderer\"},{\"attributes\":{\"data_source\":{\"id\":\"85dd6ff4-4203-4ba5-a66b-b46286bd8009\",\"type\":\"ColumnDataSource\"},\"glyph\":{\"id\":\"7b8359d5-c75e-471c-9c92-e1f2228f0ac8\",\"type\":\"Rect\"},\"hover_glyph\":null,\"nonselection_glyph\":null,\"selection_glyph\":null},\"id\":\"04754cf3-5782-456f-aca3-f629d16f5c3a\",\"type\":\"GlyphRenderer\"},{\"attributes\":{\"fill_alpha\":{\"field\":\"fill_alpha\"},\"fill_color\":{\"field\":\"color\"},\"height\":{\"field\":\"height\",\"units\":\"data\"},\"line_color\":{\"field\":\"line_color\"},\"width\":{\"field\":\"width\",\"units\":\"data\"},\"x\":{\"field\":\"x\"},\"y\":{\"field\":\"y\"}},\"id\":\"e07cd208-9a56-449f-9e89-4094258a7483\",\"type\":\"Rect\"},{\"attributes\":{\"callback\":null,\"column_names\":[\"height\",\"line_color\",\"color\",\"y\",\"label\",\"x\",\"width\",\"line_alpha\",\"fill_alpha\"],\"data\":{\"chart_index\":[\"(90.103797, 92.080777]\"],\"color\":[\"#f22c40\"],\"fill_alpha\":[0.8],\"height\":[258.0],\"label\":[\"(90.103797, 92.080777]\"],\"line_alpha\":[1.0],\"line_color\":[\"black\"],\"width\":[1.976980165044921],\"x\":[\"91.092287\"],\"y\":[129.0]}},\"id\":\"b402493b-2211-4a8c-9aa8-4229552e0a8a\",\"type\":\"ColumnDataSource\"},{\"attributes\":{\"fill_alpha\":{\"field\":\"fill_alpha\"},\"fill_color\":{\"field\":\"color\"},\"height\":{\"field\":\"height\",\"units\":\"data\"},\"line_color\":{\"field\":\"line_color\"},\"width\":{\"field\":\"width\",\"units\":\"data\"},\"x\":{\"field\":\"x\"},\"y\":{\"field\":\"y\"}},\"id\":\"0a34cc61-d805-4fe2-8275-2a98779536df\",\"type\":\"Rect\"},{\"attributes\":{\"callback\":null,\"column_names\":[\"height\",\"line_color\",\"color\",\"y\",\"label\",\"x\",\"width\",\"line_alpha\",\"fill_alpha\"],\"data\":{\"chart_index\":[\"(107.988770, 109.988350]\"],\"color\":[\"#f22c40\"],\"fill_alpha\":[0.8],\"height\":[201.0],\"label\":[\"(107.988770, 109.988350]\"],\"line_alpha\":[1.0],\"line_color\":[\"black\"],\"width\":[1.9995804859201343],\"x\":[\"108.98856\"],\"y\":[100.5]}},\"id\":\"51a6282d-1424-431e-8be7-8bce4c372520\",\"type\":\"ColumnDataSource\"},{\"attributes\":{\"callback\":null,\"column_names\":[\"height\",\"line_color\",\"color\",\"y\",\"label\",\"x\",\"width\",\"line_alpha\",\"fill_alpha\"],\"data\":{\"chart_index\":[\"(-0.285609, 1.365185]\"],\"color\":[\"#f22c40\"],\"fill_alpha\":[0.8],\"height\":[0.0],\"label\":[\"(-0.285609, 1.365185]\"],\"line_alpha\":[1.0],\"line_color\":[\"black\"],\"width\":[1.6507939572147436],\"x\":[\"0.539788\"],\"y\":[0.0]}},\"id\":\"876adf63-673a-4bdd-a87b-ab70bd3f55d9\",\"type\":\"ColumnDataSource\"},{\"attributes\":{\"data_source\":{\"id\":\"7b0b9b2b-3733-48e1-9062-604f3388c0c1\",\"type\":\"ColumnDataSource\"},\"glyph\":{\"id\":\"b724147c-80ae-4bdb-b2d2-09dbd62ff7ea\",\"type\":\"Rect\"},\"hover_glyph\":null,\"nonselection_glyph\":null,\"selection_glyph\":null},\"id\":\"577d4a02-1661-4cea-9d29-d2fbd5f2102d\",\"type\":\"GlyphRenderer\"},{\"attributes\":{\"callback\":null,\"column_names\":[\"height\",\"line_color\",\"color\",\"y\",\"label\",\"x\",\"width\",\"line_alpha\",\"fill_alpha\"],\"data\":{\"chart_index\":[\"(59.142974, 60.793768]\"],\"color\":[\"#f22c40\"],\"fill_alpha\":[0.8],\"height\":[100.0],\"label\":[\"(59.142974, 60.793768]\"],\"line_alpha\":[1.0],\"line_color\":[\"black\"],\"width\":[1.650793957214745],\"x\":[\"59.968371000000005\"],\"y\":[50.0]}},\"id\":\"7108f18b-074d-4992-ab23-572bd40c0395\",\"type\":\"ColumnDataSource\"},{\"attributes\":{\"fill_alpha\":{\"field\":\"fill_alpha\"},\"fill_color\":{\"field\":\"color\"},\"height\":{\"field\":\"height\",\"units\":\"data\"},\"line_color\":{\"field\":\"line_color\"},\"width\":{\"field\":\"width\",\"units\":\"data\"},\"x\":{\"field\":\"x\"},\"y\":{\"field\":\"y\"}},\"id\":\"1e9fce59-3c92-496b-993f-26d27ab0a315\",\"type\":\"Rect\"},{\"attributes\":{\"callback\":null,\"column_names\":[\"height\",\"line_color\",\"color\",\"y\",\"label\",\"x\",\"width\",\"line_alpha\",\"fill_alpha\"],\"data\":{\"chart_index\":[\"(49.238210, 50.889004]\"],\"color\":[\"#f22c40\"],\"fill_alpha\":[0.8],\"height\":[386.0],\"label\":[\"(49.238210, 50.889004]\"],\"line_alpha\":[1.0],\"line_color\":[\"black\"],\"width\":[1.650793957214745],\"x\":[\"50.063607000000005\"],\"y\":[193.0]}},\"id\":\"00290ccd-351c-4c1e-85f0-8db10858c0e9\",\"type\":\"ColumnDataSource\"},{\"attributes\":{\"callback\":null,\"column_names\":[\"height\",\"line_color\",\"color\",\"y\",\"label\",\"x\",\"width\",\"line_alpha\",\"fill_alpha\"],\"data\":{\"chart_index\":[\"(413.704343, 431.691283]\"],\"color\":[\"#f22c40\"],\"fill_alpha\":[0.8],\"height\":[23.0],\"label\":[\"(413.704343, 431.691283]\"],\"line_alpha\":[1.0],\"line_color\":[\"black\"],\"width\":[17.98694043395591],\"x\":[\"422.697813\"],\"y\":[11.5]}},\"id\":\"0cbc0b97-1dca-4e3a-af04-c6950ff0d575\",\"type\":\"ColumnDataSource\"},{\"attributes\":{\"data_source\":{\"id\":\"604718ee-46d8-4b9e-b60e-0c631b01f82a\",\"type\":\"ColumnDataSource\"},\"glyph\":{\"id\":\"b385f7a1-2a19-403b-82a2-2bd14caad745\",\"type\":\"Rect\"},\"hover_glyph\":null,\"nonselection_glyph\":null,\"selection_glyph\":null},\"id\":\"fce8263b-bdc7-42a2-bec4-2c8c32e84c68\",\"type\":\"GlyphRenderer\"},{\"attributes\":{\"fill_alpha\":{\"field\":\"fill_alpha\"},\"fill_color\":{\"field\":\"color\"},\"height\":{\"field\":\"height\",\"units\":\"data\"},\"line_color\":{\"field\":\"line_color\"},\"width\":{\"field\":\"width\",\"units\":\"data\"},\"x\":{\"field\":\"x\"},\"y\":{\"field\":\"y\"}},\"id\":\"f73871b4-2b6a-4ba9-a833-9f60f53774c9\",\"type\":\"Rect\"},{\"attributes\":{\"fill_alpha\":{\"field\":\"fill_alpha\"},\"fill_color\":{\"field\":\"color\"},\"height\":{\"field\":\"height\",\"units\":\"data\"},\"line_color\":{\"field\":\"line_color\"},\"width\":{\"field\":\"width\",\"units\":\"data\"},\"x\":{\"field\":\"x\"},\"y\":{\"field\":\"y\"}},\"id\":\"bcd6ddf4-f6ff-4007-943e-0dce45b9f4a8\",\"type\":\"Rect\"},{\"attributes\":{\"fill_alpha\":{\"field\":\"fill_alpha\"},\"fill_color\":{\"field\":\"color\"},\"height\":{\"field\":\"height\",\"units\":\"data\"},\"line_color\":{\"field\":\"line_color\"},\"width\":{\"field\":\"width\",\"units\":\"data\"},\"x\":{\"field\":\"x\"},\"y\":{\"field\":\"y\"}},\"id\":\"33b06429-2924-4c3c-90f0-e97e3f071b54\",\"type\":\"Rect\"},{\"attributes\":{\"callback\":null,\"column_names\":[\"height\",\"line_color\",\"color\",\"y\",\"label\",\"x\",\"width\",\"line_alpha\",\"fill_alpha\"],\"data\":{\"chart_index\":[\"(48.587213, 50.564194]\"],\"color\":[\"#f22c40\"],\"fill_alpha\":[0.8],\"height\":[257.0],\"label\":[\"(48.587213, 50.564194]\"],\"line_alpha\":[1.0],\"line_color\":[\"black\"],\"width\":[1.976980165044921],\"x\":[\"49.5757035\"],\"y\":[128.5]}},\"id\":\"0568e767-9dfb-46dd-bf42-21afaf1333b3\",\"type\":\"ColumnDataSource\"},{\"attributes\":{\"fill_alpha\":{\"field\":\"fill_alpha\"},\"fill_color\":{\"field\":\"color\"},\"height\":{\"field\":\"height\",\"units\":\"data\"},\"line_color\":{\"field\":\"line_color\"},\"width\":{\"field\":\"width\",\"units\":\"data\"},\"x\":{\"field\":\"x\"},\"y\":{\"field\":\"y\"}},\"id\":\"92362444-cda6-4609-8f81-9c33c893ba22\",\"type\":\"Rect\"},{\"attributes\":{\"axis_label\":\"a\",\"formatter\":{\"id\":\"976e5d7f-1653-49e8-978b-99602c74017a\",\"type\":\"BasicTickFormatter\"},\"plot\":{\"id\":\"9129a667-4e61-4c45-8c2b-bebd7acb11a8\",\"subtype\":\"Chart\",\"type\":\"Plot\"},\"ticker\":{\"id\":\"d0b51854-117d-4879-9423-e550f6c43b22\",\"type\":\"BasicTicker\"}},\"id\":\"30662c61-8427-4b96-8bd8-fd6a13a01c80\",\"type\":\"LinearAxis\"},{\"attributes\":{\"callback\":null,\"column_names\":[\"height\",\"line_color\",\"color\",\"y\",\"label\",\"x\",\"width\",\"line_alpha\",\"fill_alpha\"],\"data\":{\"chart_index\":[\"(74.000120, 75.650913]\"],\"color\":[\"#f22c40\"],\"fill_alpha\":[0.8],\"height\":[1.0],\"label\":[\"(74.000120, 75.650913]\"],\"line_alpha\":[1.0],\"line_color\":[\"black\"],\"width\":[1.650793957214745],\"x\":[\"74.82551649999999\"],\"y\":[0.5]}},\"id\":\"09f41158-aa70-4c5e-9c1c-8bcea6d3fef6\",\"type\":\"ColumnDataSource\"},{\"attributes\":{\"fill_alpha\":{\"field\":\"fill_alpha\"},\"fill_color\":{\"field\":\"color\"},\"height\":{\"field\":\"height\",\"units\":\"data\"},\"line_color\":{\"field\":\"line_color\"},\"width\":{\"field\":\"width\",\"units\":\"data\"},\"x\":{\"field\":\"x\"},\"y\":{\"field\":\"y\"}},\"id\":\"08724ae2-c4f7-4e5f-8e5c-37badf10fbe5\",\"type\":\"Rect\"},{\"attributes\":{\"data_source\":{\"id\":\"12cbd09d-298d-4a10-9348-7625d7e3d314\",\"type\":\"ColumnDataSource\"},\"glyph\":{\"id\":\"02476064-ab7a-49ce-8419-ea0528155c0c\",\"type\":\"Rect\"},\"hover_glyph\":null,\"nonselection_glyph\":null,\"selection_glyph\":null},\"id\":\"29adc6f5-f645-46a8-82ee-5f8c9435a434\",\"type\":\"GlyphRenderer\"},{\"attributes\":{\"active_drag\":\"auto\",\"active_scroll\":\"auto\",\"active_tap\":\"auto\",\"tools\":[{\"id\":\"32a35164-1617-4ba6-8f74-5f0e51b60c29\",\"type\":\"PanTool\"},{\"id\":\"7cda7851-4c3d-4983-9b8c-5de1439a3140\",\"type\":\"WheelZoomTool\"},{\"id\":\"ef99b137-27cc-41ec-aac0-6a6737402dea\",\"type\":\"BoxZoomTool\"},{\"id\":\"8fab52f3-66f5-4570-b4ed-87ac0cc585b5\",\"type\":\"SaveTool\"},{\"id\":\"65c141b4-ead7-46ce-a2cc-918cb548ed79\",\"type\":\"ResetTool\"},{\"id\":\"5e52448e-29b2-4555-92e5-9fe247223be2\",\"type\":\"HelpTool\"}]},\"id\":\"9866a2b2-9ad4-4172-9af4-27926e5b2f9b\",\"type\":\"Toolbar\"},{\"attributes\":{\"fill_alpha\":{\"field\":\"fill_alpha\"},\"fill_color\":{\"field\":\"color\"},\"height\":{\"field\":\"height\",\"units\":\"data\"},\"line_color\":{\"field\":\"line_color\"},\"width\":{\"field\":\"width\",\"units\":\"data\"},\"x\":{\"field\":\"x\"},\"y\":{\"field\":\"y\"}},\"id\":\"020cc4b3-edba-4ec5-86fe-f66bfa25b463\",\"type\":\"Rect\"},{\"attributes\":{\"data_source\":{\"id\":\"9297bf92-b8e0-4d0a-b59a-b11b05f0a80e\",\"type\":\"ColumnDataSource\"},\"glyph\":{\"id\":\"5a18bcf8-cccd-468d-8f18-adef2e089495\",\"type\":\"Rect\"},\"hover_glyph\":null,\"nonselection_glyph\":null,\"selection_glyph\":null},\"id\":\"f24899f5-74a0-49e3-bb86-0530772f4060\",\"type\":\"GlyphRenderer\"},{\"attributes\":{\"data_source\":{\"id\":\"00d26c08-637e-44cb-8e2b-0afa9f5f00b5\",\"type\":\"ColumnDataSource\"},\"glyph\":{\"id\":\"f7cd750d-b552-4d00-836d-21a82ab77d72\",\"type\":\"Rect\"},\"hover_glyph\":null,\"nonselection_glyph\":null,\"selection_glyph\":null},\"id\":\"999117d8-6677-4e89-bc00-a889e3b68219\",\"type\":\"GlyphRenderer\"},{\"attributes\":{\"fill_alpha\":{\"field\":\"fill_alpha\"},\"fill_color\":{\"field\":\"color\"},\"height\":{\"field\":\"height\",\"units\":\"data\"},\"line_color\":{\"field\":\"line_color\"},\"width\":{\"field\":\"width\",\"units\":\"data\"},\"x\":{\"field\":\"x\"},\"y\":{\"field\":\"y\"}},\"id\":\"86bc2ec7-65a2-4a6e-a2c1-5c094a176747\",\"type\":\"Rect\"},{\"attributes\":{\"callback\":null,\"column_names\":[\"height\",\"line_color\",\"color\",\"y\",\"label\",\"x\",\"width\",\"line_alpha\",\"fill_alpha\"],\"data\":{\"chart_index\":[\"(233.834939, 251.821879]\"],\"color\":[\"#f22c40\"],\"fill_alpha\":[0.8],\"height\":[151.0],\"label\":[\"(233.834939, 251.821879]\"],\"line_alpha\":[1.0],\"line_color\":[\"black\"],\"width\":[17.98694043395588],\"x\":[\"242.828409\"],\"y\":[75.5]}},\"id\":\"5e037fa9-2b5c-4b8f-b05d-8aeacfb8ec8f\",\"type\":\"ColumnDataSource\"},{\"attributes\":{\"callback\":null,\"column_names\":[\"height\",\"line_color\",\"color\",\"y\",\"label\",\"x\",\"width\",\"line_alpha\",\"fill_alpha\"],\"data\":{\"chart_index\":[\"(503.639045, 521.625986]\"],\"color\":[\"#f22c40\"],\"fill_alpha\":[0.8],\"height\":[6.0],\"label\":[\"(503.639045, 521.625986]\"],\"line_alpha\":[1.0],\"line_color\":[\"black\"],\"width\":[17.986940433956022],\"x\":[\"512.6325155\"],\"y\":[3.0]}},\"id\":\"c72e1031-2e55-4318-adc8-241fc32a8a84\",\"type\":\"ColumnDataSource\"},{\"attributes\":{\"callback\":null,\"column_names\":[\"height\",\"line_color\",\"color\",\"y\",\"label\",\"x\",\"width\",\"line_alpha\",\"fill_alpha\"],\"data\":{\"chart_index\":[\"(22.886471, 24.863451]\"],\"color\":[\"#f22c40\"],\"fill_alpha\":[0.8],\"height\":[47.0],\"label\":[\"(22.886471, 24.863451]\"],\"line_alpha\":[1.0],\"line_color\":[\"black\"],\"width\":[1.976980165044921],\"x\":[\"23.874961\"],\"y\":[23.5]}},\"id\":\"8dd92ebd-4c92-4690-aea9-a4413e0ce29b\",\"type\":\"ColumnDataSource\"},{\"attributes\":{\"fill_alpha\":{\"field\":\"fill_alpha\"},\"fill_color\":{\"field\":\"color\"},\"height\":{\"field\":\"height\",\"units\":\"data\"},\"line_color\":{\"field\":\"line_color\"},\"width\":{\"field\":\"width\",\"units\":\"data\"},\"x\":{\"field\":\"x\"},\"y\":{\"field\":\"y\"}},\"id\":\"67c0592a-276c-4d7c-8d67-116139c1b8ce\",\"type\":\"Rect\"},{\"attributes\":{\"callback\":null,\"column_names\":[\"height\",\"line_color\",\"color\",\"y\",\"label\",\"x\",\"width\",\"line_alpha\",\"fill_alpha\"],\"data\":{\"chart_index\":[\"(29.428683, 31.079477]\"],\"color\":[\"#f22c40\"],\"fill_alpha\":[0.8],\"height\":[398.0],\"label\":[\"(29.428683, 31.079477]\"],\"line_alpha\":[1.0],\"line_color\":[\"black\"],\"width\":[1.6507939572147414],\"x\":[\"30.254080000000002\"],\"y\":[199.0]}},\"id\":\"557684ab-e291-478d-a013-bab39c9452c2\",\"type\":\"ColumnDataSource\"},{\"attributes\":{\"fill_alpha\":{\"field\":\"fill_alpha\"},\"fill_color\":{\"field\":\"color\"},\"height\":{\"field\":\"height\",\"units\":\"data\"},\"line_color\":{\"field\":\"line_color\"},\"width\":{\"field\":\"width\",\"units\":\"data\"},\"x\":{\"field\":\"x\"},\"y\":{\"field\":\"y\"}},\"id\":\"64afd3a3-2567-41ba-8ae9-303baf8bbe0d\",\"type\":\"Rect\"},{\"attributes\":{\"fill_alpha\":{\"field\":\"fill_alpha\"},\"fill_color\":{\"field\":\"color\"},\"height\":{\"field\":\"height\",\"units\":\"data\"},\"line_color\":{\"field\":\"line_color\"},\"width\":{\"field\":\"width\",\"units\":\"data\"},\"x\":{\"field\":\"x\"},\"y\":{\"field\":\"y\"}},\"id\":\"02476064-ab7a-49ce-8419-ea0528155c0c\",\"type\":\"Rect\"},{\"attributes\":{\"callback\":null,\"column_names\":[\"height\",\"line_color\",\"color\",\"y\",\"label\",\"x\",\"width\",\"line_alpha\",\"fill_alpha\"],\"data\":{\"chart_index\":[\"(77.301707, 78.952501]\"],\"color\":[\"#f22c40\"],\"fill_alpha\":[0.8],\"height\":[1.0],\"label\":[\"(77.301707, 78.952501]\"],\"line_alpha\":[1.0],\"line_color\":[\"black\"],\"width\":[1.6507939572147308],\"x\":[\"78.127104\"],\"y\":[0.5]}},\"id\":\"9913de04-d204-42e1-acf6-c1d828075c03\",\"type\":\"ColumnDataSource\"},{\"attributes\":{\"callback\":null,\"column_names\":[\"height\",\"line_color\",\"color\",\"y\",\"label\",\"x\",\"width\",\"line_alpha\",\"fill_alpha\"],\"data\":{\"chart_index\":[\"(82.195876, 84.172856]\"],\"color\":[\"#f22c40\"],\"fill_alpha\":[0.8],\"height\":[274.0],\"label\":[\"(82.195876, 84.172856]\"],\"line_alpha\":[1.0],\"line_color\":[\"black\"],\"width\":[1.976980165044921],\"x\":[\"83.184366\"],\"y\":[137.0]}},\"id\":\"57d5077c-1536-4169-9aec-706ff9060457\",\"type\":\"ColumnDataSource\"},{\"attributes\":{\"axis_label\":\"a\",\"formatter\":{\"id\":\"4fe21795-a2b7-496a-9a94-f2392a9c16dd\",\"type\":\"BasicTickFormatter\"},\"plot\":{\"id\":\"5a86ce13-08ff-4742-a236-b5d321602846\",\"subtype\":\"Chart\",\"type\":\"Plot\"},\"ticker\":{\"id\":\"2d67ce1b-61b9-4a72-978d-79b51c881069\",\"type\":\"BasicTicker\"}},\"id\":\"ee1829cb-4716-42c5-803b-69e3f90edeb3\",\"type\":\"LinearAxis\"},{\"attributes\":{\"fill_alpha\":{\"field\":\"fill_alpha\"},\"fill_color\":{\"field\":\"color\"},\"height\":{\"field\":\"height\",\"units\":\"data\"},\"line_color\":{\"field\":\"line_color\"},\"width\":{\"field\":\"width\",\"units\":\"data\"},\"x\":{\"field\":\"x\"},\"y\":{\"field\":\"y\"}},\"id\":\"e2d3de10-c7e3-432c-bbc1-732e542d3250\",\"type\":\"Rect\"},{\"attributes\":{\"data_source\":{\"id\":\"557684ab-e291-478d-a013-bab39c9452c2\",\"type\":\"ColumnDataSource\"},\"glyph\":{\"id\":\"c977a16e-0017-4af9-a240-36d113be0e50\",\"type\":\"Rect\"},\"hover_glyph\":null,\"nonselection_glyph\":null,\"selection_glyph\":null},\"id\":\"2d65ce66-c6f8-43c2-8501-a039f4890264\",\"type\":\"GlyphRenderer\"},{\"attributes\":{\"callback\":null,\"column_names\":[\"height\",\"line_color\",\"color\",\"y\",\"label\",\"x\",\"width\",\"line_alpha\",\"fill_alpha\"],\"data\":{\"chart_index\":[\"(57.492180, 59.142974]\"],\"color\":[\"#f22c40\"],\"fill_alpha\":[0.8],\"height\":[116.0],\"label\":[\"(57.492180, 59.142974]\"],\"line_alpha\":[1.0],\"line_color\":[\"black\"],\"width\":[1.650793957214745],\"x\":[\"58.317577\"],\"y\":[58.0]}},\"id\":\"89297409-146d-4692-81b2-ccab5689e0c2\",\"type\":\"ColumnDataSource\"},{\"attributes\":{\"callback\":null,\"column_names\":[\"height\",\"line_color\",\"color\",\"y\",\"label\",\"x\",\"width\",\"line_alpha\",\"fill_alpha\"],\"data\":{\"chart_index\":[\"(86.149837, 88.126817]\"],\"color\":[\"#f22c40\"],\"fill_alpha\":[0.8],\"height\":[274.0],\"label\":[\"(86.149837, 88.126817]\"],\"line_alpha\":[1.0],\"line_color\":[\"black\"],\"width\":[1.976980165044921],\"x\":[\"87.138327\"],\"y\":[137.0]}},\"id\":\"9127aae4-cad8-4013-9b39-2d74f1d44bec\",\"type\":\"ColumnDataSource\"},{\"attributes\":{\"fill_alpha\":{\"field\":\"fill_alpha\"},\"fill_color\":{\"field\":\"color\"},\"height\":{\"field\":\"height\",\"units\":\"data\"},\"line_color\":{\"field\":\"line_color\"},\"width\":{\"field\":\"width\",\"units\":\"data\"},\"x\":{\"field\":\"x\"},\"y\":{\"field\":\"y\"}},\"id\":\"b9e154a7-5b38-4b0d-bfcd-d43da1c56510\",\"type\":\"Rect\"},{\"attributes\":{\"fill_alpha\":{\"field\":\"fill_alpha\"},\"fill_color\":{\"field\":\"color\"},\"height\":{\"field\":\"height\",\"units\":\"data\"},\"line_color\":{\"field\":\"line_color\"},\"width\":{\"field\":\"width\",\"units\":\"data\"},\"x\":{\"field\":\"x\"},\"y\":{\"field\":\"y\"}},\"id\":\"102b9db1-4311-489b-a57a-24237cd67b4e\",\"type\":\"Rect\"},{\"attributes\":{\"data_source\":{\"id\":\"e7d8b52c-c121-4a16-be57-f733088fda96\",\"type\":\"ColumnDataSource\"},\"glyph\":{\"id\":\"f8457ff4-bece-4939-82f8-528597efb145\",\"type\":\"Rect\"},\"hover_glyph\":null,\"nonselection_glyph\":null,\"selection_glyph\":null},\"id\":\"637ebf05-24f2-4d64-918d-00c8599d0fd6\",\"type\":\"GlyphRenderer\"},{\"attributes\":{\"callback\":null,\"column_names\":[\"height\",\"line_color\",\"color\",\"y\",\"label\",\"x\",\"width\",\"line_alpha\",\"fill_alpha\"],\"data\":{\"chart_index\":[\"(16.222331, 17.873125]\"],\"color\":[\"#f22c40\"],\"fill_alpha\":[0.8],\"height\":[47.0],\"label\":[\"(16.222331, 17.873125]\"],\"line_alpha\":[1.0],\"line_color\":[\"black\"],\"width\":[1.650793957214745],\"x\":[\"17.047728\"],\"y\":[23.5]}},\"id\":\"3c42c730-b3f9-40bb-918c-1a2cbf93df58\",\"type\":\"ColumnDataSource\"},{\"attributes\":{\"callback\":null,\"column_names\":[\"height\",\"line_color\",\"color\",\"y\",\"label\",\"x\",\"width\",\"line_alpha\",\"fill_alpha\"],\"data\":{\"chart_index\":[\"(42.635034, 44.285828]\"],\"color\":[\"#f22c40\"],\"fill_alpha\":[0.8],\"height\":[639.0],\"label\":[\"(42.635034, 44.285828]\"],\"line_alpha\":[1.0],\"line_color\":[\"black\"],\"width\":[1.650793957214745],\"x\":[\"43.460431\"],\"y\":[319.5]}},\"id\":\"584b6f19-4a42-4fd4-9228-077962c89080\",\"type\":\"ColumnDataSource\"},{\"attributes\":{\"callback\":null,\"column_names\":[\"height\",\"line_color\",\"color\",\"y\",\"label\",\"x\",\"width\",\"line_alpha\",\"fill_alpha\"],\"data\":{\"chart_index\":[\"(67.396944, 69.047738]\"],\"color\":[\"#f22c40\"],\"fill_alpha\":[0.8],\"height\":[11.0],\"label\":[\"(67.396944, 69.047738]\"],\"line_alpha\":[1.0],\"line_color\":[\"black\"],\"width\":[1.650793957214745],\"x\":[\"68.222341\"],\"y\":[5.5]}},\"id\":\"e7e9bc99-a0e2-488e-a347-0941fa295b8f\",\"type\":\"ColumnDataSource\"},{\"attributes\":{\"data_source\":{\"id\":\"a3681e1f-9101-44b8-aaf8-11fd2c5dffa6\",\"type\":\"ColumnDataSource\"},\"glyph\":{\"id\":\"67ef426a-60c5-4b1c-8b50-c14ee190ab5f\",\"type\":\"Rect\"},\"hover_glyph\":null,\"nonselection_glyph\":null,\"selection_glyph\":null},\"id\":\"365c63eb-afb8-4ec7-8a2b-3948a7ffb853\",\"type\":\"GlyphRenderer\"},{\"attributes\":{\"plot\":{\"id\":\"d4a8ccfb-05b2-4bd8-997e-90be3fcf5ef4\",\"subtype\":\"Chart\",\"type\":\"Plot\"}},\"id\":\"fcbb40cf-e204-4319-ac46-7805ae1695a8\",\"type\":\"ResetTool\"},{\"attributes\":{\"data_source\":{\"id\":\"d6bd0208-bee2-4cb1-8b21-422f07fea596\",\"type\":\"ColumnDataSource\"},\"glyph\":{\"id\":\"230c10bc-a141-494c-a172-e343e716f35c\",\"type\":\"Rect\"},\"hover_glyph\":null,\"nonselection_glyph\":null,\"selection_glyph\":null},\"id\":\"600ffa30-6077-4445-94d1-e5bcb75c2502\",\"type\":\"GlyphRenderer\"},{\"attributes\":{\"callback\":null,\"column_names\":[\"height\",\"line_color\",\"color\",\"y\",\"label\",\"x\",\"width\",\"line_alpha\",\"fill_alpha\"],\"data\":{\"chart_index\":[\"(45.936622, 47.587416]\"],\"color\":[\"#f22c40\"],\"fill_alpha\":[0.8],\"height\":[531.0],\"label\":[\"(45.936622, 47.587416]\"],\"line_alpha\":[1.0],\"line_color\":[\"black\"],\"width\":[1.6507939572147379],\"x\":[\"46.762018999999995\"],\"y\":[265.5]}},\"id\":\"454eb0a4-4307-4e5f-a899-79044f4fcef8\",\"type\":\"ColumnDataSource\"},{\"attributes\":{\"data_source\":{\"id\":\"5e037fa9-2b5c-4b8f-b05d-8aeacfb8ec8f\",\"type\":\"ColumnDataSource\"},\"glyph\":{\"id\":\"07c7b9b2-e5c8-416e-9940-1f0d2dd62f90\",\"type\":\"Rect\"},\"hover_glyph\":null,\"nonselection_glyph\":null,\"selection_glyph\":null},\"id\":\"8264da3c-d028-43d5-8463-ca13ae16be14\",\"type\":\"GlyphRenderer\"},{\"attributes\":{\"fill_alpha\":{\"field\":\"fill_alpha\"},\"fill_color\":{\"field\":\"color\"},\"height\":{\"field\":\"height\",\"units\":\"data\"},\"line_color\":{\"field\":\"line_color\"},\"width\":{\"field\":\"width\",\"units\":\"data\"},\"x\":{\"field\":\"x\"},\"y\":{\"field\":\"y\"}},\"id\":\"86afc245-7d92-484c-b4a0-021fc0e8de7b\",\"type\":\"Rect\"},{\"attributes\":{\"data_source\":{\"id\":\"a3610e6f-2e17-40b8-ba60-ff76a7b59ae7\",\"type\":\"ColumnDataSource\"},\"glyph\":{\"id\":\"f6ea7eb1-638d-45cc-b16b-1076ede08fd6\",\"type\":\"Rect\"},\"hover_glyph\":null,\"nonselection_glyph\":null,\"selection_glyph\":null},\"id\":\"89cad9eb-aadf-4ad8-80c7-7dd029b26a44\",\"type\":\"GlyphRenderer\"},{\"attributes\":{\"callback\":null,\"column_names\":[\"height\",\"line_color\",\"color\",\"y\",\"label\",\"x\",\"width\",\"line_alpha\",\"fill_alpha\"],\"data\":{\"chart_index\":[\"(67.997160, 69.996741]\"],\"color\":[\"#f22c40\"],\"fill_alpha\":[0.8],\"height\":[194.0],\"label\":[\"(67.997160, 69.996741]\"],\"line_alpha\":[1.0],\"line_color\":[\"black\"],\"width\":[1.9995804859201485],\"x\":[\"68.9969505\"],\"y\":[97.0]}},\"id\":\"b07053a9-6dc0-403a-9853-467d54678fd8\",\"type\":\"ColumnDataSource\"},{\"attributes\":{\"fill_alpha\":{\"field\":\"fill_alpha\"},\"fill_color\":{\"field\":\"color\"},\"height\":{\"field\":\"height\",\"units\":\"data\"},\"line_color\":{\"field\":\"line_color\"},\"width\":{\"field\":\"width\",\"units\":\"data\"},\"x\":{\"field\":\"x\"},\"y\":{\"field\":\"y\"}},\"id\":\"9bf71513-4414-41c4-8415-4c9522e5f741\",\"type\":\"Rect\"},{\"attributes\":{\"callback\":null,\"end\":123.48608976796007,\"start\":16.507391232039932},\"id\":\"a3557575-7450-4348-b677-ee280e4ca8f7\",\"type\":\"Range1d\"},{\"attributes\":{\"data_source\":{\"id\":\"533efd05-abc9-4a87-9521-8f25b2bcd142\",\"type\":\"ColumnDataSource\"},\"glyph\":{\"id\":\"0d35c19f-056e-4513-a1e3-8899648c882f\",\"type\":\"Rect\"},\"hover_glyph\":null,\"nonselection_glyph\":null,\"selection_glyph\":null},\"id\":\"9f972466-77ca-4efa-b6c9-8ec1a2f16fbb\",\"type\":\"GlyphRenderer\"},{\"attributes\":{\"callback\":null,\"column_names\":[\"height\",\"line_color\",\"color\",\"y\",\"label\",\"x\",\"width\",\"line_alpha\",\"fill_alpha\"],\"data\":{\"chart_index\":[\"(611.560688, 629.547628]\"],\"color\":[\"#f22c40\"],\"fill_alpha\":[0.8],\"height\":[1.0],\"label\":[\"(611.560688, 629.547628]\"],\"line_alpha\":[1.0],\"line_color\":[\"black\"],\"width\":[17.98694043395585],\"x\":[\"620.554158\"],\"y\":[0.5]}},\"id\":\"f6b87257-1554-420d-88fa-2aae19d9e462\",\"type\":\"ColumnDataSource\"},{\"attributes\":{\"callback\":null,\"column_names\":[\"height\",\"line_color\",\"color\",\"y\",\"label\",\"x\",\"width\",\"line_alpha\",\"fill_alpha\"],\"data\":{\"chart_index\":[\"(70.698532, 72.349326]\"],\"color\":[\"#f22c40\"],\"fill_alpha\":[0.8],\"height\":[5.0],\"label\":[\"(70.698532, 72.349326]\"],\"line_alpha\":[1.0],\"line_color\":[\"black\"],\"width\":[1.650793957214745],\"x\":[\"71.52392900000001\"],\"y\":[2.5]}},\"id\":\"30389bb4-81e0-4e6b-b9bd-f6d428c6c4eb\",\"type\":\"ColumnDataSource\"},{\"attributes\":{\"data_source\":{\"id\":\"b3da40b9-28dd-4bb4-a298-82d556dd8787\",\"type\":\"ColumnDataSource\"},\"glyph\":{\"id\":\"99c807e3-db57-4eae-acc7-2c1f48205be5\",\"type\":\"Rect\"},\"hover_glyph\":null,\"nonselection_glyph\":null,\"selection_glyph\":null},\"id\":\"2356dae0-928d-478e-bfbe-2b7b14a7bb0c\",\"type\":\"GlyphRenderer\"},{\"attributes\":{\"callback\":null,\"column_names\":[\"height\",\"line_color\",\"color\",\"y\",\"label\",\"x\",\"width\",\"line_alpha\",\"fill_alpha\"],\"data\":{\"chart_index\":[\"(46.001775, 48.001355]\"],\"color\":[\"#f22c40\"],\"fill_alpha\":[0.8],\"height\":[195.0],\"label\":[\"(46.001775, 48.001355]\"],\"line_alpha\":[1.0],\"line_color\":[\"black\"],\"width\":[1.9995804859201343],\"x\":[\"47.001565\"],\"y\":[97.5]}},\"id\":\"43f0b3ae-6f10-4f80-b0bb-1ee47a4c290f\",\"type\":\"ColumnDataSource\"},{\"attributes\":{\"data_source\":{\"id\":\"4d5fca93-9076-46c5-a20a-c6ddbfcaa8bc\",\"type\":\"ColumnDataSource\"},\"glyph\":{\"id\":\"74a9392f-337c-48a9-9a80-18bd4d97669e\",\"type\":\"Rect\"},\"hover_glyph\":null,\"nonselection_glyph\":null,\"selection_glyph\":null},\"id\":\"ca97eda1-2eaa-49a9-913a-465c0d938b31\",\"type\":\"GlyphRenderer\"},{\"attributes\":{\"fill_alpha\":{\"field\":\"fill_alpha\"},\"fill_color\":{\"field\":\"color\"},\"height\":{\"field\":\"height\",\"units\":\"data\"},\"line_color\":{\"field\":\"line_color\"},\"width\":{\"field\":\"width\",\"units\":\"data\"},\"x\":{\"field\":\"x\"},\"y\":{\"field\":\"y\"}},\"id\":\"d48ada2d-d5b6-4d2a-8097-533beea69abb\",\"type\":\"Rect\"}],\"root_ids\":[\"a2e3eeaf-eaef-45e3-b7fc-5d330c9cca08\"]},\"title\":\"Bokeh Application\",\"version\":\"0.12.4\"}};\n",
       "            var render_items = [{\"docid\":\"965e96c3-1036-47c0-bcd6-9d228ed5dd1c\",\"elementid\":\"f101c1a2-4e91-4b4a-bc18-11cebcfef940\",\"modelid\":\"a2e3eeaf-eaef-45e3-b7fc-5d330c9cca08\"}];\n",
       "            \n",
       "            Bokeh.embed.embed_items(docs_json, render_items);\n",
       "          };\n",
       "          if (document.readyState != \"loading\") fn();\n",
       "          else document.addEventListener(\"DOMContentLoaded\", fn);\n",
       "        })();\n",
       "      },\n",
       "      function(Bokeh) {\n",
       "      }\n",
       "    ];\n",
       "  \n",
       "    function run_inline_js() {\n",
       "      \n",
       "      if ((window.Bokeh !== undefined) || (force === true)) {\n",
       "        for (var i = 0; i < inline_js.length; i++) {\n",
       "          inline_js[i](window.Bokeh);\n",
       "        }if (force === true) {\n",
       "          display_loaded();\n",
       "        }} else if (Date.now() < window._bokeh_timeout) {\n",
       "        setTimeout(run_inline_js, 100);\n",
       "      } else if (!window._bokeh_failed_load) {\n",
       "        console.log(\"Bokeh: BokehJS failed to load within specified timeout.\");\n",
       "        window._bokeh_failed_load = true;\n",
       "      } else if (force !== true) {\n",
       "        var cell = $(document.getElementById(\"f101c1a2-4e91-4b4a-bc18-11cebcfef940\")).parents('.cell').data().cell;\n",
       "        cell.output_area.append_execute_result(NB_LOAD_WARNING)\n",
       "      }\n",
       "  \n",
       "    }\n",
       "  \n",
       "    if (window._bokeh_is_loading === 0) {\n",
       "      console.log(\"Bokeh: BokehJS loaded, going straight to plotting\");\n",
       "      run_inline_js();\n",
       "    } else {\n",
       "      load_libs(js_urls, function() {\n",
       "        console.log(\"Bokeh: BokehJS plotting callback run at\", now());\n",
       "        run_inline_js();\n",
       "      });\n",
       "    }\n",
       "  }(this));\n",
       "</script>"
      ]
     },
     "metadata": {},
     "output_type": "display_data"
    }
   ],
   "source": [
    "import scipy.stats\n",
    "from bokeh.charts import Histogram\n",
    "\n",
    "w, h = 350, 300\n",
    "\n",
    "dists = [\n",
    "    scipy.stats.expon(scale=100), # the frozed uniform distribution\n",
    "    scipy.stats.norm(loc=40, scale=10), # the frozed uniform distribution\n",
    "    scipy.stats.uniform(loc=20, scale=100), # the frozed uniform distribution\n",
    "    scipy.stats.beta(2,2,loc=20, scale=100) # the frozed uniform distribution\n",
    "]\n",
    "\n",
    "figs = [ Histogram(dist.rvs(int(1e4)), bins=50, \n",
    "                   width=w, height=h, \n",
    "                   xlabel=None, ylabel=None)\n",
    "        for dist in dists ]\n",
    "\n",
    "bk.show(bk.gridplot([[figs[0], figs[1]],\n",
    "                     [figs[2], figs[3]] \n",
    "                     ]))"
   ]
  },
  {
   "cell_type": "code",
   "execution_count": 47,
   "metadata": {
    "collapsed": false
   },
   "outputs": [
    {
     "name": "stdout",
     "output_type": "stream",
     "text": [
      "Fitting 5 folds for each of 10 candidates, totalling 50 fits\n",
      "[CV] C=26.4144799458, gamma=8.46192098141, kernel=linear .............\n",
      "[CV] C=26.4144799458, gamma=8.46192098141, kernel=linear .............\n",
      "[CV] C=26.4144799458, gamma=8.46192098141, kernel=linear .............\n",
      "[CV] C=26.4144799458, gamma=8.46192098141, kernel=linear .............\n",
      "[CV]  C=26.4144799458, gamma=8.46192098141, kernel=linear, total=   0.0s\n",
      "[CV]  C=26.4144799458, gamma=8.46192098141, kernel=linear, total=   0.0s\n",
      "[CV] C=26.4144799458, gamma=8.46192098141, kernel=linear .............\n",
      "[CV]  C=26.4144799458, gamma=8.46192098141, kernel=linear, total=   0.0s\n",
      "[CV]  C=26.4144799458, gamma=8.46192098141, kernel=linear, total=   0.0s\n",
      "[CV]  C=26.4144799458, gamma=8.46192098141, kernel=linear, total=   0.0s\n",
      "[CV] C=55.9344693089, gamma=3.89438593875, kernel=linear .............\n",
      "[CV]  C=55.9344693089, gamma=3.89438593875, kernel=linear, total=   0.0s\n",
      "[CV] C=55.9344693089, gamma=3.89438593875, kernel=linear .............\n",
      "[CV] C=55.9344693089, gamma=3.89438593875, kernel=linear .............\n",
      "[CV]  C=55.9344693089, gamma=3.89438593875, kernel=linear, total=   0.0s\n",
      "[CV]  C=55.9344693089, gamma=3.89438593875, kernel=linear, total=   0.0s\n",
      "[CV]  C=55.9344693089, gamma=3.89438593875, kernel=linear, total=   0.0s\n",
      "[CV] C=55.9344693089, gamma=3.89438593875, kernel=linear .............\n",
      "[CV] C=55.9344693089, gamma=3.89438593875, kernel=linear .............\n",
      "[CV] C=17.1558595654, gamma=1.69134862471, kernel=linear .............\n",
      "[CV]  C=55.9344693089, gamma=3.89438593875, kernel=linear, total=   0.0s\n",
      "[CV]  C=17.1558595654, gamma=1.69134862471, kernel=linear, total=   0.0s\n",
      "[CV] C=17.1558595654, gamma=1.69134862471, kernel=linear .............\n",
      "[CV] C=93.3155461618, gamma=1.38880610756, kernel=linear .............\n",
      "[CV]  C=17.1558595654, gamma=1.69134862471, kernel=linear, total=   0.0s\n",
      "[CV] C=17.1558595654, gamma=1.69134862471, kernel=linear .............\n",
      "[CV]  C=17.1558595654, gamma=1.69134862471, kernel=linear, total=   0.0s\n",
      "[CV] C=17.1558595654, gamma=1.69134862471, kernel=linear .............\n",
      "[CV]  C=93.3155461618, gamma=1.38880610756, kernel=linear, total=   0.0s\n",
      "[CV] C=93.3155461618, gamma=1.38880610756, kernel=linear .............\n",
      "[CV] C=48.061537876, gamma=8.83503861242, kernel=rbf .................\n",
      "[CV] .. C=48.061537876, gamma=8.83503861242, kernel=rbf, total=   0.0s\n",
      "[CV]  C=17.1558595654, gamma=1.69134862471, kernel=linear, total=   0.0s\n",
      "[CV]  C=93.3155461618, gamma=1.38880610756, kernel=linear, total=   0.0s\n",
      "[CV] C=83.3401698121, gamma=6.42331831398, kernel=rbf ................\n",
      "[CV] C=17.1558595654, gamma=1.69134862471, kernel=linear .............\n",
      "[CV] C=93.3155461618, gamma=1.38880610756, kernel=linear .............\n",
      "[CV] C=66.9557236794, gamma=9.53708478181, kernel=linear .............\n",
      "[CV]  C=17.1558595654, gamma=1.69134862471, kernel=linear, total=   0.0s\n",
      "[CV] C=93.3155461618, gamma=1.38880610756, kernel=linear .............\n",
      "[CV]  C=93.3155461618, gamma=1.38880610756, kernel=linear, total=   0.0s\n",
      "[CV] . C=83.3401698121, gamma=6.42331831398, kernel=rbf, total=   0.0s\n",
      "[CV]  C=93.3155461618, gamma=1.38880610756, kernel=linear, total=   0.0s\n",
      "[CV] C=83.3401698121, gamma=6.42331831398, kernel=rbf ................\n",
      "[CV] C=93.3155461618, gamma=1.38880610756, kernel=linear .............\n",
      "[CV] C=60.9588235105, gamma=8.31572018383, kernel=linear .............\n",
      "[CV] C=66.9557236794, gamma=9.53708478181, kernel=linear .............\n",
      "[CV]  C=66.9557236794, gamma=9.53708478181, kernel=linear, total=   0.0s\n",
      "[CV] . C=83.3401698121, gamma=6.42331831398, kernel=rbf, total=   0.0s\n",
      "[CV]  C=60.9588235105, gamma=8.31572018383, kernel=linear, total=   0.0s\n",
      "[CV]  C=93.3155461618, gamma=1.38880610756, kernel=linear, total=   0.0s\n",
      "[CV] C=60.9588235105, gamma=8.31572018383, kernel=linear .............\n",
      "[CV] C=48.061537876, gamma=8.83503861242, kernel=rbf .................\n",
      "[CV]  C=66.9557236794, gamma=9.53708478181, kernel=linear, total=   0.0s\n",
      "[CV]  C=60.9588235105, gamma=8.31572018383, kernel=linear, total=   0.0s\n",
      "[CV] C=83.3401698121, gamma=6.42331831398, kernel=rbf ................\n",
      "[CV] C=60.9588235105, gamma=8.31572018383, kernel=linear .............\n",
      "[CV] .. C=48.061537876, gamma=8.83503861242, kernel=rbf, total=   0.0s\n",
      "[CV] C=48.061537876, gamma=8.83503861242, kernel=rbf .................\n",
      "[CV]  C=60.9588235105, gamma=8.31572018383, kernel=linear, total=   0.0s\n",
      "[CV] C=66.9557236794, gamma=9.53708478181, kernel=linear .............\n",
      "[CV] C=60.9588235105, gamma=8.31572018383, kernel=linear .............\n",
      "[CV] .. C=48.061537876, gamma=8.83503861242, kernel=rbf, total=   0.0s\n",
      "[CV]  C=66.9557236794, gamma=9.53708478181, kernel=linear, total=   0.0s\n",
      "[CV] C=48.061537876, gamma=8.83503861242, kernel=rbf .................\n",
      "[CV] C=66.9557236794, gamma=9.53708478181, kernel=linear .............\n",
      "[CV]  C=60.9588235105, gamma=8.31572018383, kernel=linear, total=   0.0s\n",
      "[CV] .. C=48.061537876, gamma=8.83503861242, kernel=rbf, total=   0.0s\n",
      "[CV] . C=83.3401698121, gamma=6.42331831398, kernel=rbf, total=   0.0s\n",
      "[CV] C=68.482529463, gamma=9.51544160624, kernel=rbf .................\n",
      "[CV] C=60.9588235105, gamma=8.31572018383, kernel=linear .............\n",
      "[CV] C=48.061537876, gamma=8.83503861242, kernel=rbf .................\n",
      "[CV]  C=66.9557236794, gamma=9.53708478181, kernel=linear, total=   0.0s\n",
      "[CV] C=66.9557236794, gamma=9.53708478181, kernel=linear .............\n",
      "[CV] .. C=68.482529463, gamma=9.51544160624, kernel=rbf, total=   0.0s\n",
      "[CV]  C=60.9588235105, gamma=8.31572018383, kernel=linear, total=   0.0s\n",
      "[CV] .. C=48.061537876, gamma=8.83503861242, kernel=rbf, total=   0.0s\n",
      "[CV] C=68.482529463, gamma=9.51544160624, kernel=rbf .................\n",
      "[CV]  C=66.9557236794, gamma=9.53708478181, kernel=linear, total=   0.0s\n",
      "[CV] C=3.43844955959, gamma=5.02748732669, kernel=rbf ................\n",
      "[CV] C=3.43844955959, gamma=5.02748732669, kernel=rbf ................\n",
      "[CV] C=83.3401698121, gamma=6.42331831398, kernel=rbf ................\n",
      "[CV] .. C=68.482529463, gamma=9.51544160624, kernel=rbf, total=   0.0s\n",
      "[CV] C=68.482529463, gamma=9.51544160624, kernel=rbf .................\n",
      "[CV] . C=83.3401698121, gamma=6.42331831398, kernel=rbf, total=   0.0s\n",
      "[CV] C=83.3401698121, gamma=6.42331831398, kernel=rbf ................\n",
      "[CV] .. C=68.482529463, gamma=9.51544160624, kernel=rbf, total=   0.0s\n",
      "[CV] C=68.482529463, gamma=9.51544160624, kernel=rbf .................\n",
      "[CV] . C=83.3401698121, gamma=6.42331831398, kernel=rbf, total=   0.0s\n",
      "[CV] . C=3.43844955959, gamma=5.02748732669, kernel=rbf, total=   0.0s\n",
      "[CV] C=3.43844955959, gamma=5.02748732669, kernel=rbf ................\n",
      "[CV] .. C=68.482529463, gamma=9.51544160624, kernel=rbf, total=   0.0s\n",
      "[CV] C=68.482529463, gamma=9.51544160624, kernel=rbf .................\n",
      "[CV] . C=3.43844955959, gamma=5.02748732669, kernel=rbf, total=   0.0s\n",
      "[CV] . C=3.43844955959, gamma=5.02748732669, kernel=rbf, total=   0.0s\n",
      "[CV] C=3.43844955959, gamma=5.02748732669, kernel=rbf ................\n",
      "[CV] .. C=68.482529463, gamma=9.51544160624, kernel=rbf, total=   0.0s\n",
      "[CV] . C=3.43844955959, gamma=5.02748732669, kernel=rbf, total=   0.0s\n",
      "[CV] C=3.43844955959, gamma=5.02748732669, kernel=rbf ................\n",
      "[CV] . C=3.43844955959, gamma=5.02748732669, kernel=rbf, total=   0.0s\n"
     ]
    },
    {
     "name": "stderr",
     "output_type": "stream",
     "text": [
      "[Parallel(n_jobs=-1)]: Done  50 out of  50 | elapsed:    0.4s finished\n"
     ]
    },
    {
     "data": {
      "text/plain": [
       "RandomizedSearchCV(cv=5, error_score='raise',\n",
       "          estimator=SVC(C=1.0, cache_size=200, class_weight=None, coef0=0.0,\n",
       "  decision_function_shape=None, degree=3, gamma='auto', kernel='rbf',\n",
       "  max_iter=-1, probability=False, random_state=None, shrinking=True,\n",
       "  tol=0.001, verbose=False),\n",
       "          fit_params={}, iid=True, n_iter=10, n_jobs=-1,\n",
       "          param_distributions={'gamma': <scipy.stats._distn_infrastructure.rv_frozen object at 0x7fc5efe2fa58>, 'kernel': ['linear', 'rbf'], 'C': <scipy.stats._distn_infrastructure.rv_frozen object at 0x7fc5fda95208>},\n",
       "          pre_dispatch='2*n_jobs', random_state=None, refit=True,\n",
       "          return_train_score=True, scoring=None, verbose=2)"
      ]
     },
     "execution_count": 47,
     "metadata": {},
     "output_type": "execute_result"
    }
   ],
   "source": [
    "# Standardize the data\n",
    "iris = datasets.load_iris()\n",
    "scaler = preprocessing.StandardScaler(copy=True, with_mean=True, with_std=True)\n",
    "X = scaler.fit_transform(iris.data)\n",
    "# Keep out the Test Set\n",
    "X_tr, X_test, y_tr, y_test = model_selection.train_test_split(X, iris.target,\n",
    "                                                              test_size=0.30, random_state=0)\n",
    "# Define the Search Grid\n",
    "param_grid = {'C': scipy.stats.uniform(loc=1, scale=100), 'kernel': ['linear','rbf'], \n",
    "              'gamma': scipy.stats.uniform(loc=0.01, scale=10)}\n",
    "# GridSearchCV\n",
    "clf = model_selection.RandomizedSearchCV(svm.SVC(), param_grid, cv=5, n_jobs=-1, verbose=2, n_iter=10)\n",
    "clf.fit(X_tr, y_tr)"
   ]
  },
  {
   "cell_type": "code",
   "execution_count": 48,
   "metadata": {
    "collapsed": false
   },
   "outputs": [
    {
     "name": "stdout",
     "output_type": "stream",
     "text": [
      "mean: 0.962, std: 0.0360, params: {'kernel': 'linear', 'gamma': 8.4619209814075855, 'C': 26.414479945822865}\n",
      "mean: 0.962, std: 0.0360, params: {'kernel': 'linear', 'gamma': 3.894385938747857, 'C': 55.93446930891519}\n",
      "mean: 0.943, std: 0.0348, params: {'kernel': 'linear', 'gamma': 1.6913486247050757, 'C': 17.155859565449827}\n",
      "mean: 0.962, std: 0.0360, params: {'kernel': 'linear', 'gamma': 1.3888061075606983, 'C': 93.315546161767415}\n",
      "mean: 0.857, std: 0.0813, params: {'kernel': 'rbf', 'gamma': 8.8350386124204494, 'C': 48.061537875975347}\n",
      "mean: 0.962, std: 0.0360, params: {'kernel': 'linear', 'gamma': 9.5370847818124513, 'C': 66.955723679369328}\n",
      "mean: 0.895, std: 0.0676, params: {'kernel': 'rbf', 'gamma': 6.4233183139802144, 'C': 83.340169812073199}\n",
      "mean: 0.857, std: 0.0813, params: {'kernel': 'rbf', 'gamma': 9.5154416062423, 'C': 68.482529462998272}\n",
      "mean: 0.962, std: 0.0360, params: {'kernel': 'linear', 'gamma': 8.3157201838255208, 'C': 60.958823510479341}\n",
      "mean: 0.895, std: 0.0738, params: {'kernel': 'rbf', 'gamma': 5.027487326691249, 'C': 3.4384495595874522}\n"
     ]
    }
   ],
   "source": [
    "for a,b,c in zip(clf.cv_results_['mean_test_score'], \n",
    "                 clf.cv_results_['std_test_score'], \n",
    "                 clf.cv_results_['params']):\n",
    "    print('mean: {:.3f}, std: {:.4f}, params: {}'.format(a,b,c))"
   ]
  },
  {
   "cell_type": "code",
   "execution_count": 49,
   "metadata": {
    "collapsed": false
   },
   "outputs": [
    {
     "name": "stdout",
     "output_type": "stream",
     "text": [
      "Best estimator:  SVC(C=26.414479945822865, cache_size=200, class_weight=None, coef0=0.0,\n",
      "  decision_function_shape=None, degree=3, gamma=8.4619209814075855,\n",
      "  kernel='linear', max_iter=-1, probability=False, random_state=None,\n",
      "  shrinking=True, tol=0.001, verbose=False)\n",
      "Accuracy: 0.96 (+/- 0.18)\n"
     ]
    }
   ],
   "source": [
    "best = clf.best_estimator_\n",
    "print('Best estimator: ', best)\n",
    "scores = model_selection.cross_val_score(best, X_test, y_test, cv=10)\n",
    "print(\"Accuracy: %0.2f (+/- %0.2f)\" % (scores.mean(), scores.std() * 2))"
   ]
  },
  {
   "cell_type": "markdown",
   "metadata": {},
   "source": [
    "## 10 Pipelines"
   ]
  },
  {
   "cell_type": "markdown",
   "metadata": {},
   "source": [
    "When we applied different preprocessing techniques, such as standardization for feature scaling or principal component analysis you learned that we have to reuse the parameters that were obtained during the fitting of the training data to scale and compress any new data, for example, the samples in the separate test dataset.\n",
    "\n",
    "In this section, you will learn about an extremely handy tool, the Pipeline class in scikit-learn. It allows us to fit a model including an arbitrary number of transformation steps and apply it to make predictions about new data.\n",
    "\n",
    "In this chapter, we will be working with the Breast Cancer Wisconsin dataset, which contains 569 samples of malignant and benign tumor cells. The first two columns in the dataset store the unique ID numbers of the samples and the corresponding diagnosis (M=malignant, B=benign), respectively. The columns 3-32 contain 30 real-value features that have been computed from digitized images of the cell nuclei, which can be used to build a model to predict whether a tumor is benign or malignant. The Breast Cancer Wisconsin dataset has been deposited on the UCI\n",
    "machine learning repository and more detailed information about this dataset can be found at [https://archive.ics.uci.edu/ml/datasets/Breast+Cancer+Wisconsin+(Diagnostic)](https://archive.ics.uci.edu/ml/datasets/Breast+Cancer+Wisconsin+(Diagnostic))\n",
    "\n",
    "In this section we will read in the dataset, and split it into training and test datasets in three simple steps.\n",
    "\n",
    "- We will start by reading in the dataset directly from the UCI websiteusing pandas:"
   ]
  },
  {
   "cell_type": "code",
   "execution_count": 50,
   "metadata": {
    "collapsed": true
   },
   "outputs": [],
   "source": [
    "import pandas as pd\n",
    "df = pd.read_csv('https://archive.ics.uci.edu/ml/machine-learning-databases/breast-cancer-wisconsin/wdbc.data', \n",
    "                 header=None)"
   ]
  },
  {
   "cell_type": "markdown",
   "metadata": {},
   "source": [
    "- Next, we assign the 30 features to a NumPy array X . Using LabelEncoder, we transform the class labels from their original string representation ( M and B ) into integers:"
   ]
  },
  {
   "cell_type": "code",
   "execution_count": 51,
   "metadata": {
    "collapsed": true
   },
   "outputs": [],
   "source": [
    "from sklearn.preprocessing import LabelEncoder\n",
    "X = df.loc[:, 2:].values\n",
    "y = df.loc[:, 1].values\n",
    "le = LabelEncoder()\n",
    "y = le.fit_transform(y)"
   ]
  },
  {
   "cell_type": "markdown",
   "metadata": {},
   "source": [
    "After encoding the class labels (diagnosis) in an array y , the malignant\n",
    "tumors are now represented as class 1 , and the benign tumors are\n",
    "represented as class 0 , respectively, which we can illustrate by calling\n",
    "the transform method of LabelEncoder on two dummy class labels:"
   ]
  },
  {
   "cell_type": "code",
   "execution_count": 52,
   "metadata": {
    "collapsed": false
   },
   "outputs": [
    {
     "data": {
      "text/plain": [
       "array([1, 0])"
      ]
     },
     "execution_count": 52,
     "metadata": {},
     "output_type": "execute_result"
    }
   ],
   "source": [
    "le.transform(['M', 'B'])"
   ]
  },
  {
   "cell_type": "markdown",
   "metadata": {},
   "source": [
    "- Before we construct our first model pipeline in the following subsection, let's divide the dataset into a separate training dataset (80 percent of the data) and a separate test dataset (20 percent of the data):"
   ]
  },
  {
   "cell_type": "code",
   "execution_count": 53,
   "metadata": {
    "collapsed": false
   },
   "outputs": [],
   "source": [
    "from sklearn.model_selection import train_test_split\n",
    "X_train, X_test, y_train, y_test = train_test_split(X, y, test_size=0.20, random_state=1)"
   ]
  },
  {
   "cell_type": "markdown",
   "metadata": {},
   "source": [
    "Many learning algorithms require input features on the same scale for optimal performance. Thus, we need to standardize the columns in the Breast Cancer Wisconsin dataset before we can feed them to a linear classifier, such as logistic regression. Furthermore, let's assume that we want to compress our data from the initial 30 dimensions onto a lower two-dimensional subspace via principal component analysis (PCA). Instead of going through the fitting and transformation steps for the training and test dataset separately, we can chain the StandardScaler, PCA , and LogisticRegression objects in a pipeline:"
   ]
  },
  {
   "cell_type": "code",
   "execution_count": 54,
   "metadata": {
    "collapsed": false
   },
   "outputs": [
    {
     "name": "stdout",
     "output_type": "stream",
     "text": [
      "Test Accuracy: 0.947\n"
     ]
    }
   ],
   "source": [
    "from sklearn.preprocessing import StandardScaler\n",
    "from sklearn.decomposition import PCA\n",
    "from sklearn.linear_model import LogisticRegression\n",
    "from sklearn.pipeline import Pipeline\n",
    "pipe_lr = Pipeline([('scl', StandardScaler()), ('pca', PCA(n_components=2)), \n",
    "                    ('clf', LogisticRegression(random_state=1))])\n",
    "pipe_lr.fit(X_train, y_train)\n",
    "print('Test Accuracy: %.3f' % pipe_lr.score(X_test, y_test))"
   ]
  },
  {
   "cell_type": "markdown",
   "metadata": {},
   "source": [
    "The intermediate steps in a pipeline constitute scikit-learn transformers, and the last step is an estimator. In the preceding code example, we built a pipeline that consisted of two intermediate steps, a StandardScaler and a PCA transformer, and a logistic regression classifier as a final estimator. When we executed the fit method on the pipeline pipe_lr , the StandardScaler performed fit and transform on the training data, and the transformed training data was then passed onto the next object in the pipeline, the PCA. Similar to the previous step, PCA also executed fit and transform on the scaled input data and passed it to the final element of the pipeline, the estimator. We should note that there is no limit to the number of intermediate steps in this pipeline. "
   ]
  },
  {
   "cell_type": "markdown",
   "metadata": {},
   "source": [
    "## 11 Performance Metrics"
   ]
  },
  {
   "cell_type": "markdown",
   "metadata": {},
   "source": [
    "In the previous sections and chapters, we evaluated our models using the mean squared error, which is a useful metric to quantify the performance of a model in general. However, there are several other performance metrics that can be used to measure a model's relevance, such as precision, recall, and the F1-score.\n",
    "\n",
    "Before we get into the details of different scoring metrics, let's print a so-called confusion matrix, a matrix that lays out the performance of a learning algorithm. The confusion matrix is simply a square matrix that reports the counts of the true positive, true negative, false positive, and false negative predictions of a classifier.\n",
    "\n",
    "Although these metrics can be easily computed manually by comparing the true and predicted class labels, cikit-learn provides a convenient confusion_matrix function that we can use as follows:"
   ]
  },
  {
   "cell_type": "code",
   "execution_count": 55,
   "metadata": {
    "collapsed": false
   },
   "outputs": [
    {
     "name": "stdout",
     "output_type": "stream",
     "text": [
      "[[71  1]\n",
      " [ 5 37]]\n"
     ]
    }
   ],
   "source": [
    "from sklearn.metrics import confusion_matrix\n",
    "y_pred = pipe_lr.predict(X_test)\n",
    "confmat = confusion_matrix(y_true=y_test, y_pred=y_pred)\n",
    "print(confmat)"
   ]
  },
  {
   "cell_type": "markdown",
   "metadata": {},
   "source": [
    "The array that was returned after executing the preceding code provides us with information about the different types of errors the classifier made on the test dataset that we can map onto the confusion matrix illustration in the previous figure using matplotlib's matshow function:"
   ]
  },
  {
   "cell_type": "code",
   "execution_count": 56,
   "metadata": {
    "collapsed": false
   },
   "outputs": [
    {
     "data": {
      "image/png": "[encoded data removed]",
      "text/plain": [
       "<matplotlib.figure.Figure at 0x7fc5fc0e3be0>"
      ]
     },
     "metadata": {},
     "output_type": "display_data"
    }
   ],
   "source": [
    "fig, ax = plt.subplots(figsize=(5.5, 5.5))\n",
    "ax.matshow(confmat, cmap=plt.cm.Blues, alpha=0.3)\n",
    "for i in range(confmat.shape[0]):\n",
    "    for j in range(confmat.shape[1]):\n",
    "        ax.text(x=j, y=i,\n",
    "                s=confmat[i, j],\n",
    "                va='center', ha='center')\n",
    "plt.xlabel('predicted label')\n",
    "plt.ylabel('true label')\n",
    "plt.show()"
   ]
  },
  {
   "cell_type": "markdown",
   "metadata": {},
   "source": [
    "Assuming that class 1 (malignant) is the positive class in this example, our model correctly classified 71 of the samples that belong to class 0 (false negatives) and 37 samples that belong to class 1 (true positives), respectively. However, our model also incorrectly misclassified 5 samples from class 0 as class 1 (false negatives), and it predicted that 1 sample is benign although it is a malignant tumor (false positive). In the next section, we will learn how we can use this information to calculate various different error metrics.\n",
    "\n",
    "Both the prediction error (ERR) and accuracy (ACC) provide general information about how many samples are misclassified. The error can be understood as the sum of all false predictions divided by the number of total predictions, and the accuracy is calculated as the sum of correct predictions divided by the total number\n",
    "of predictions, respectively:\n",
    "\n",
    "$$ERR = \\frac{FP + FN}{Total}$$\n",
    "\n",
    "The prediction accuracy can then be calculated directly from the error:\n",
    "\n",
    "$$ACC = \\frac{TP + TN}{Total} = 1 − ERR$$\n",
    "\n",
    "In tumor diagnosis, for example, we are more concerned about the detection of malignant tumors in order to help a patient with the appropriate treatment. However, it is also important to decrease the number of benign tumors that were incorrectly classified as malignant (false positives) to not unnecessarily concern a patient. \n",
    "\n",
    "Precision (P) is defined as the number of true positives ($T_p$) over the number of true positives plus the number of false positives ($F_p$).\n",
    "\n",
    "$$P = \\frac{T_p}{T_p+F_p}$$\n",
    "\n",
    "Recall (R) is defined as the number of true positives ($T_p$) over the number of true positives plus the number of false negatives ($F_n$).\n",
    "\n",
    "$$R = \\frac{T_p}{T_p + F_n}$$\n",
    "\n",
    "These quantities are also related to the ($F_1$) score, which is defined as the harmonic mean of precision and recall.\n",
    "\n",
    "$$F_1 = 2\\frac{P \\times R}{P+R}$$\n",
    "\n",
    "It is important to note that the precision may not decrease with recall. The definition of precision ($\\frac{T_p}{T_p + F_p}$) shows that lowering the threshold of a classifier may increase the denominator, by increasing the number of results returned. If the threshold was previously set too high, the new results may all be true positives, which will increase precision. If the previous threshold was about right or too low, further lowering the threshold will introduce false positives, decreasing precision.\n",
    "\n",
    "Recall is defined as $\\frac{T_p}{T_p+F_n}$, where $T_p+F_n$ does not depend on the classifier threshold. This means that lowering the classifier threshold may increase recall, by increasing the number of true positive results. It is also possible that lowering the threshold may leave recall unchanged, while the precision fluctuates.\n",
    "\n",
    "These scoring metrics are all implemented in scikit-learn and can be imported from the sklearn.metrics module:"
   ]
  },
  {
   "cell_type": "code",
   "execution_count": 57,
   "metadata": {
    "collapsed": false
   },
   "outputs": [
    {
     "name": "stdout",
     "output_type": "stream",
     "text": [
      "Precision: 0.974\n",
      "Recall: 0.881\n",
      "F1: 0.925\n"
     ]
    }
   ],
   "source": [
    "from sklearn.metrics import precision_score\n",
    "from sklearn.metrics import recall_score, f1_score\n",
    "print('Precision: %.3f' % precision_score(y_true=y_test, y_pred=y_pred))\n",
    "print('Recall: %.3f' % recall_score(y_true=y_test, y_pred=y_pred))\n",
    "print('F1: %.3f' % f1_score(y_true=y_test, y_pred=y_pred))"
   ]
  },
  {
   "cell_type": "markdown",
   "metadata": {},
   "source": [
    "---\n",
    "\n",
    "Visit [www.add-for.com](<http://www.add-for.com/IT>) for more tutorials and updates.\n",
    "\n",
    "This work is licensed under a <a rel=\"license\" href=\"http://creativecommons.org/licenses/by-sa/4.0/\">Creative Commons Attribution-ShareAlike 4.0 International License</a>."
   ]
  }
 ],
 "metadata": {
  "anaconda-cloud": {},
  "kernelspec": {
   "display_name": "Python [conda env:addtrain]",
   "language": "python",
   "name": "conda-env-addtrain-py"
  },
  "language_info": {
   "codemirror_mode": {
    "name": "ipython",
    "version": 3
   },
   "file_extension": ".py",
   "mimetype": "text/x-python",
   "name": "python",
   "nbconvert_exporter": "python",
   "pygments_lexer": "ipython3",
   "version": "3.5.2"
  }
 },
 "nbformat": 4,
 "nbformat_minor": 0
}
