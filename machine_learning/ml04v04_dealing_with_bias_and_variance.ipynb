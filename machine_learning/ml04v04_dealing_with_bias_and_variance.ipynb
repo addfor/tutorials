{
 "cells": [
  {
   "cell_type": "markdown",
   "metadata": {},
   "source": [
    "# Dealing with Bias and Variance"
   ]
  },
  {
   "cell_type": "code",
   "execution_count": 1,
   "metadata": {
    "collapsed": false
   },
   "outputs": [
    {
     "data": {
      "text/html": [
       "<div id='toc-container'><script type='text/javascript'>\n",
       "$(function() {\n",
       "    function regenTOC(){\n",
       "        element = $(\"#toc-container\");\n",
       "\n",
       "\tvar toc = document.createElement(\"div\");\n",
       "\t$(toc).attr(\"class\", \"table-of-contents\");\n",
       "\n",
       "\tvar curLevel = 0;\n",
       "\tvar containerStack = [toc];\n",
       "\tvar levelOfTag = {\"h2\": 1, \"h3\": 2, \"h4\": 3, \"h5\": 4};\n",
       "\n",
       "\tfunction pushLevel() {\n",
       "            var list = document.createElement(\"ul\");\n",
       "            containerStack.push(list);\n",
       "            curLevel++;\n",
       "\t}\n",
       "\t\n",
       "\tfunction popLevel() {\n",
       "            var lastContainer = containerStack.pop();\n",
       "            $(lastContainer).appendTo(containerStack[containerStack.length - 1]);\n",
       "            curLevel--;\n",
       "\t}\n",
       "\t\n",
       "\t$(\".text_cell_render :header\").each(function (i, elem) {\n",
       "            var level = levelOfTag[ elem.tagName.toLowerCase() ];\n",
       "\n",
       "            if (level === undefined)\n",
       "\t\treturn;\n",
       "\n",
       "            while (curLevel < level)\n",
       "\t\tpushLevel();\n",
       "            while (curLevel > level)\n",
       "\t\tpopLevel();\n",
       "            \n",
       "            var listItem = document.createElement(\"li\");\n",
       "            var link = document.createElement(\"a\");\n",
       "            $(link)\n",
       "\t\t.text($(elem).contents().first().text()) // Remove the pilcrow sign\n",
       "\t\t.attr(\"href\", \"#\" + $(elem).attr(\"id\"))\n",
       "\t\t.appendTo(listItem);\n",
       "            $(listItem).appendTo(containerStack[containerStack.length - 1]);\n",
       "\t});\n",
       "\t\n",
       "\twhile (curLevel > 0)\n",
       "            popLevel();\n",
       "\n",
       "        $(\"<a class='btn-update' href='#'>Update</a>\")\n",
       "          .click(regenTOC).prependTo(toc);\n",
       "\n",
       "\t$(toc).prepend(\"<div class='title'>Contents</div>\")\n",
       "          .wrap(\"<div class='toc-headings'/>\");\n",
       "\n",
       "        $(element).empty();\n",
       "        $(element).append(toc);\n",
       "    }\n",
       "\n",
       "    if (typeof(IPython) !== 'undefined')\n",
       "        $([IPython.events]).on('notebook_loaded.Notebook', regenTOC);\n",
       "    regenTOC();\n",
       "});\n",
       "\n",
       "</script></div>"
      ],
      "text/plain": [
       "<IPython.core.display.HTML object>"
      ]
     },
     "execution_count": 1,
     "metadata": {},
     "output_type": "execute_result"
    }
   ],
   "source": [
    "import addutils.toc ; addutils.toc.js(ipy_notebook=True)"
   ]
  },
  {
   "cell_type": "code",
   "execution_count": 2,
   "metadata": {
    "collapsed": false
   },
   "outputs": [
    {
     "data": {
      "text/html": [
       "<style>\n",
       ".text_cell_render @font-face {\n",
       "    font-family: \"Computer Modern\";\n",
       "    src: url('http://mirrors.ctan.org/fonts/cm-unicode/fonts/otf/cmunss.otf');\n",
       "}\n",
       "\n",
       "div.cell {\n",
       "    width: 900px;\n",
       "    margin-left: 0% !important;\n",
       "    margin-right: 0%;\n",
       "}\n",
       "\n",
       "code {\n",
       "    font-size:10pt;\n",
       "}\n",
       "\n",
       ".text_cell_render  h1 {\n",
       "    font-family: Tahoma, sans-serif;\n",
       "    color: rgb( 10, 88, 126 );\n",
       "    font-size:28pt;\n",
       "}\n",
       ".text_cell_render h2 {\n",
       "    font-family: Tahoma, sans-serif;\n",
       "    color: rgb( 10, 88, 126 );\n",
       "    font-size:24pt;\n",
       "}\n",
       ".text_cell_render h3 {\n",
       "    font-family: Tahoma, sans-serif;\n",
       "    color: rgb( 10, 88, 126 );\n",
       "    font-size:20pt;\n",
       "}\n",
       ".text_cell_render h4 {\n",
       "    font-family: Tahoma, sans-serif;\n",
       "    color: rgb( 10, 88, 126 );\n",
       "    font-size:18pt;\n",
       "    margin-top:12px;\n",
       "    margin-bottom: 3px;\n",
       "}\n",
       "\n",
       ".text_cell_render h5 {\n",
       "    font-weight: 300;\n",
       "    font-size: 11pt;\n",
       "    color: rgb( 48, 48, 48 );\n",
       "    font-style: italic;\n",
       "    margin-bottom: .5em;\n",
       "    margin-top: 0.5em;\n",
       "    display: block;\n",
       "}\n",
       "\n",
       ".text_cell_render ul {\n",
       "    font-family: Tahoma, sans-serif;\n",
       "    color: rgb( 90, 90, 90 );\n",
       "    font-size:11pt;\n",
       "    line-height: 185%;\n",
       "}\n",
       "\n",
       ".text_cell_render yp {\n",
       "    font-family: Tahoma, sans-serif;\n",
       "    color: rgb( 90, 90, 90 );\n",
       "    font-size:11pt;\n",
       "}\n",
       "\n",
       ".text_cell_render strong {\n",
       "    font-family: Tahoma, sans-serif;\n",
       "    color: rgb( 30, 30, 30 );\n",
       "    font-size:11pt;\n",
       "}\n",
       "\n",
       ".text_cell_render a:link {\n",
       "    font-family: Tahoma, sans-serif;\n",
       "    color: rgb( 10, 88, 126 );\n",
       "    font-size:11pt;\n",
       "}\n",
       "\n",
       ".text_cell_render a:visited {\n",
       "    color:rgb( 10, 88, 126 );\n",
       "}\n",
       "\n",
       ".text_cell_render {\n",
       "    font-family: Helvetica, Courier, Computer Modern, \"Helvetica Neue\", Arial, Geneva, sans-serif;\n",
       "    color: rgb( 84, 84, 84 );\n",
       "    font-size:11pt;\n",
       "    line-height: 125%;\n",
       "    font-size: 100%;\n",
       "    width:800px;\n",
       "}\n",
       "\n",
       ".CodeMirror {\n",
       "    font-family: Courier, \"Source Code Pro\", source-code-pro,Consolas, monospace;\n",
       "}\n",
       "\n",
       ".warning {\n",
       "    color: rgb( 240, 20, 20 );\n",
       "}\n",
       "\n",
       "/* Pandas tables */\n",
       "/*\n",
       ".rendered_html td {\n",
       "    text-align: right;\n",
       "}\n",
       "*/\n",
       "\n",
       "table.dataframe td {\n",
       "    text-align: right;\n",
       "}\n",
       "\n",
       ".output .table-of-contents {\n",
       "    border: 1px #cecece solid;\n",
       "    background-color: #fafafa;\n",
       "    padding-top: 10px;\n",
       "    padding-bottom: 5px;\n",
       "    padding-right: 15px;\n",
       "    padding-left: 0px;\n",
       "    margin-bottom: 20px;\n",
       "    display: inline-block;\n",
       "    position: relative;\n",
       "}\n",
       "\n",
       ".output .table-of-contents ul {\n",
       "    list-style-type: none;\n",
       "    padding-left: 20px;\n",
       "}\n",
       "\n",
       ".output .table-of-contents .title {\n",
       "    font-weight: bold;\n",
       "    font-height: 11pt;\n",
       "    padding-left: 20px; /* looks better if it's the same to the <ul> */\n",
       "}\n",
       "\n",
       ".output .table-of-contents .btn-update {\n",
       "    position: absolute;\n",
       "    float: right;\n",
       "    right: 11px;\n",
       "    top: 4px;\n",
       "    font-size: 9pt;\n",
       "}\n",
       "\n",
       "</style>\n",
       "<script>\n",
       "    MathJax.Hub.Config({\n",
       "                        TeX: {\n",
       "                           extensions: [\"AMSmath.js\"]\n",
       "                           },\n",
       "                displayAlign: 'center', // Change this to 'center' to center equations.\n",
       "                \"HTML-CSS\": {\n",
       "                    styles: {'.MathJax_Display': {\"margin\": 4}}\n",
       "                }\n",
       "        });\n",
       "</script>\n"
      ],
      "text/plain": [
       "<IPython.core.display.HTML object>"
      ]
     },
     "execution_count": 2,
     "metadata": {},
     "output_type": "execute_result"
    }
   ],
   "source": [
    "import scipy.io\n",
    "import numpy as np\n",
    "import pandas as pd\n",
    "from time import time\n",
    "from addutils import css_notebook\n",
    "from sklearn import metrics\n",
    "import sys\n",
    "import os\n",
    "from IPython.core.display import Image\n",
    "css_notebook()"
   ]
  },
  {
   "cell_type": "code",
   "execution_count": 3,
   "metadata": {
    "collapsed": false
   },
   "outputs": [
    {
     "data": {
      "text/html": [
       "\n",
       "    <div class=\"bk-root\">\n",
       "        <a href=\"http://bokeh.pydata.org\" target=\"_blank\" class=\"bk-logo bk-logo-small bk-logo-notebook\"></a>\n",
       "        <span id=\"df8a6d01-1ba4-4cdc-8fb3-0eea582016e0\">Loading BokehJS ...</span>\n",
       "    </div>"
      ]
     },
     "metadata": {},
     "output_type": "display_data"
    },
    {
     "data": {
      "application/javascript": [
       "\n",
       "(function(global) {\n",
       "  function now() {\n",
       "    return new Date();\n",
       "  }\n",
       "\n",
       "  var force = true;\n",
       "\n",
       "  if (typeof (window._bokeh_onload_callbacks) === \"undefined\" || force === true) {\n",
       "    window._bokeh_onload_callbacks = [];\n",
       "    window._bokeh_is_loading = undefined;\n",
       "  }\n",
       "\n",
       "\n",
       "  \n",
       "  if (typeof (window._bokeh_timeout) === \"undefined\" || force === true) {\n",
       "    window._bokeh_timeout = Date.now() + 5000;\n",
       "    window._bokeh_failed_load = false;\n",
       "  }\n",
       "\n",
       "  var NB_LOAD_WARNING = {'data': {'text/html':\n",
       "     \"<div style='background-color: #fdd'>\\n\"+\n",
       "     \"<p>\\n\"+\n",
       "     \"BokehJS does not appear to have successfully loaded. If loading BokehJS from CDN, this \\n\"+\n",
       "     \"may be due to a slow or bad network connection. Possible fixes:\\n\"+\n",
       "     \"</p>\\n\"+\n",
       "     \"<ul>\\n\"+\n",
       "     \"<li>re-rerun `output_notebook()` to attempt to load from CDN again, or</li>\\n\"+\n",
       "     \"<li>use INLINE resources instead, as so:</li>\\n\"+\n",
       "     \"</ul>\\n\"+\n",
       "     \"<code>\\n\"+\n",
       "     \"from bokeh.resources import INLINE\\n\"+\n",
       "     \"output_notebook(resources=INLINE)\\n\"+\n",
       "     \"</code>\\n\"+\n",
       "     \"</div>\"}};\n",
       "\n",
       "  function display_loaded() {\n",
       "    if (window.Bokeh !== undefined) {\n",
       "      document.getElementById(\"df8a6d01-1ba4-4cdc-8fb3-0eea582016e0\").textContent = \"BokehJS successfully loaded.\";\n",
       "    } else if (Date.now() < window._bokeh_timeout) {\n",
       "      setTimeout(display_loaded, 100)\n",
       "    }\n",
       "  }\n",
       "\n",
       "  function run_callbacks() {\n",
       "    window._bokeh_onload_callbacks.forEach(function(callback) { callback() });\n",
       "    delete window._bokeh_onload_callbacks\n",
       "    console.info(\"Bokeh: all callbacks have finished\");\n",
       "  }\n",
       "\n",
       "  function load_libs(js_urls, callback) {\n",
       "    window._bokeh_onload_callbacks.push(callback);\n",
       "    if (window._bokeh_is_loading > 0) {\n",
       "      console.log(\"Bokeh: BokehJS is being loaded, scheduling callback at\", now());\n",
       "      return null;\n",
       "    }\n",
       "    if (js_urls == null || js_urls.length === 0) {\n",
       "      run_callbacks();\n",
       "      return null;\n",
       "    }\n",
       "    console.log(\"Bokeh: BokehJS not loaded, scheduling load and callback at\", now());\n",
       "    window._bokeh_is_loading = js_urls.length;\n",
       "    for (var i = 0; i < js_urls.length; i++) {\n",
       "      var url = js_urls[i];\n",
       "      var s = document.createElement('script');\n",
       "      s.src = url;\n",
       "      s.async = false;\n",
       "      s.onreadystatechange = s.onload = function() {\n",
       "        window._bokeh_is_loading--;\n",
       "        if (window._bokeh_is_loading === 0) {\n",
       "          console.log(\"Bokeh: all BokehJS libraries loaded\");\n",
       "          run_callbacks()\n",
       "        }\n",
       "      };\n",
       "      s.onerror = function() {\n",
       "        console.warn(\"failed to load library \" + url);\n",
       "      };\n",
       "      console.log(\"Bokeh: injecting script tag for BokehJS library: \", url);\n",
       "      document.getElementsByTagName(\"head\")[0].appendChild(s);\n",
       "    }\n",
       "  };var element = document.getElementById(\"df8a6d01-1ba4-4cdc-8fb3-0eea582016e0\");\n",
       "  if (element == null) {\n",
       "    console.log(\"Bokeh: ERROR: autoload.js configured with elementid 'df8a6d01-1ba4-4cdc-8fb3-0eea582016e0' but no matching script tag was found. \")\n",
       "    return false;\n",
       "  }\n",
       "\n",
       "  var js_urls = [\"https://cdn.pydata.org/bokeh/release/bokeh-0.12.4.min.js\", \"https://cdn.pydata.org/bokeh/release/bokeh-widgets-0.12.4.min.js\"];\n",
       "\n",
       "  var inline_js = [\n",
       "    function(Bokeh) {\n",
       "      Bokeh.set_log_level(\"info\");\n",
       "    },\n",
       "    \n",
       "    function(Bokeh) {\n",
       "      \n",
       "      document.getElementById(\"df8a6d01-1ba4-4cdc-8fb3-0eea582016e0\").textContent = \"BokehJS is loading...\";\n",
       "    },\n",
       "    function(Bokeh) {\n",
       "      console.log(\"Bokeh: injecting CSS: https://cdn.pydata.org/bokeh/release/bokeh-0.12.4.min.css\");\n",
       "      Bokeh.embed.inject_css(\"https://cdn.pydata.org/bokeh/release/bokeh-0.12.4.min.css\");\n",
       "      console.log(\"Bokeh: injecting CSS: https://cdn.pydata.org/bokeh/release/bokeh-widgets-0.12.4.min.css\");\n",
       "      Bokeh.embed.inject_css(\"https://cdn.pydata.org/bokeh/release/bokeh-widgets-0.12.4.min.css\");\n",
       "    }\n",
       "  ];\n",
       "\n",
       "  function run_inline_js() {\n",
       "    \n",
       "    if ((window.Bokeh !== undefined) || (force === true)) {\n",
       "      for (var i = 0; i < inline_js.length; i++) {\n",
       "        inline_js[i](window.Bokeh);\n",
       "      }if (force === true) {\n",
       "        display_loaded();\n",
       "      }} else if (Date.now() < window._bokeh_timeout) {\n",
       "      setTimeout(run_inline_js, 100);\n",
       "    } else if (!window._bokeh_failed_load) {\n",
       "      console.log(\"Bokeh: BokehJS failed to load within specified timeout.\");\n",
       "      window._bokeh_failed_load = true;\n",
       "    } else if (force !== true) {\n",
       "      var cell = $(document.getElementById(\"df8a6d01-1ba4-4cdc-8fb3-0eea582016e0\")).parents('.cell').data().cell;\n",
       "      cell.output_area.append_execute_result(NB_LOAD_WARNING)\n",
       "    }\n",
       "\n",
       "  }\n",
       "\n",
       "  if (window._bokeh_is_loading === 0) {\n",
       "    console.log(\"Bokeh: BokehJS loaded, going straight to plotting\");\n",
       "    run_inline_js();\n",
       "  } else {\n",
       "    load_libs(js_urls, function() {\n",
       "      console.log(\"Bokeh: BokehJS plotting callback run at\", now());\n",
       "      run_inline_js();\n",
       "    });\n",
       "  }\n",
       "}(this));"
      ]
     },
     "metadata": {},
     "output_type": "display_data"
    }
   ],
   "source": [
    "import bokeh.plotting as bk\n",
    "bk.output_notebook()"
   ]
  },
  {
   "cell_type": "markdown",
   "metadata": {},
   "source": [
    "## 1 Bias-Variance Tradeoff"
   ]
  },
  {
   "cell_type": "markdown",
   "metadata": {},
   "source": [
    "### 1.1 (In)Formal introduction to Bias and Variance\n",
    "\n",
    "Roughly speaking Machine Learning algorithms try to characterize a tradeoff between generalization (how well the model represents the general concept or function to learn) and apporoximation (how well the model fits the data). A small error denotes a good approximation of the function _out of sample_. A more complex model has a better chance of approximating $f$, in contrast a less complex model has a better chance of generalizing (picking the right approximation) out of sample.\n",
    "\n",
    "A more formal definition can be given after *Hastie, et al. 2009*.\n",
    "Let's explain Bias-Variance using linear regression problems, and specifically we'll use a squared-error measure as loss function. Assume further that the output $Y = f(X) + \\epsilon$ where $E(\\epsilon) = 0$ and $Var(\\epsilon) = \\sigma_\\epsilon^2$\n",
    "\n",
    "We estimate a model $\\widehat{f}(X)$ of a function $f(X)$, and the expected squared error of a given point $x_0$ is:\n",
    "\n",
    "$$Err(x_0) = E[(Y - \\widehat{f}(x_0))^2]$$\n",
    "\n",
    "It is possible to decompose this error in its Bias and Variance components:"
   ]
  },
  {
   "cell_type": "markdown",
   "metadata": {},
   "source": [
    "<img src=\"images/bias_variance_proof.jpg\" alt=\"bias-variance proof\" height=\"600\" width=\"600\"> "
   ]
  },
  {
   "cell_type": "markdown",
   "metadata": {},
   "source": [
    "$$Err(x_0) = \\big(E[\\widehat{f}(x_0)] - f(x_0)\\big)^2 + E\\big[\\widehat{f}(x_0) - E[\\widehat{f}(x_0)]\\big]^2 + \\sigma_{\\epsilon}^2$$\n",
    "\n",
    "$$Err(x_0) = Bias^2 + Variance + Irreducible Error$$\n",
    "\n",
    "Where $Irreducible Error$ is the variance in the true relationship that cannot be captured by any model no matter how well we estimate $f(X)$. $Bias^2$ is the difference between the average of our estimate from the true mean. $Variance$ is the expected squared deviation of $\\widehat{f}(x_0)$ around its mean. Usually the more complex is the model the lower the Bias but the higher the variance. We can give a pictorial illustration of the relationship with the image below. (The image is taken from [this](http://scott.fortmann-roe.com/docs/BiasVariance.html) blog)"
   ]
  },
  {
   "cell_type": "code",
   "execution_count": 4,
   "metadata": {
    "collapsed": false
   },
   "outputs": [
    {
     "data": {
      "image/png": "[encoded data removed]",
      "text/plain": [
       "<IPython.core.display.Image object>"
      ]
     },
     "execution_count": 4,
     "metadata": {},
     "output_type": "execute_result"
    }
   ],
   "source": [
    "Image('utilities/bias_variance.png') "
   ]
  },
  {
   "cell_type": "markdown",
   "metadata": {},
   "source": [
    "Suppose the center (red) of each diagram is the real function to learn. As we move away from the center the prediction gets worse and worse. Each dot in the picture is a realization of the model given a subsample of the dataset; each circle is a different model (whose particular realizations are the dots) and model's characteristics are described by the two corresponding labels (horizontal and vertical).\n",
    "\n",
    "Having a model (top left) with both Low Bias and Low Variance is practically impossible since, as we will see next, if we decrese one the other increase (in this case both generalization and approximation will be good and we could learn almost the real function); the hard part is hence finding the best possible balance between the two. In case of Low Bias and High Variance (top right), the model is capable of representing the correct function but the model may be too complex, and thus more supsceptible in variation on the dataset. For this reason each dot (function approximation) draw from this model may vary considerably from estimate to estimate, depending on the particular subsample used for training. For High Bias and Low Variance (bottom left) the model is constantly learning a substantially different function respect to the true one, but each run is independent from the particular subsample of data (it generalize well but it approximate poorly). If we have a model that has both High Varianche and High Bias (bottom right) the model si constantly learning a wrong model with high variability between subsamples and thus the probability of picking a good model is very low. \n",
    "\n",
    "One can think of Bias and Variance as urn that contains a bunch of candidate approximations of an unknown function $f$. If we have few candidates in the urn (think about degenerating and have only one function in it), but each candidate is far away from the true value of $f$; in this case the Bias is high and the Variance is low, no matter of the dataset we will always return the same function. If we have a bigger urn containing a lot of candidates the probability that it contains the true function is higher, but it is difficult to navigate through the candidates to find the right one. In this case the Bias is lower but the Variance is higher, we have so many varieties that depending on which sample we get the function differs.\n",
    "\n",
    "Next we will show what we mean by complexity of the model with some practical examples in order to further understand the Bias-Variance tradeoff."
   ]
  },
  {
   "cell_type": "code",
   "execution_count": 5,
   "metadata": {
    "collapsed": false
   },
   "outputs": [],
   "source": [
    "from utilities import biasvariance\n",
    "from bokeh.models.ranges import Range1d"
   ]
  },
  {
   "cell_type": "markdown",
   "metadata": {},
   "source": [
    "In this figure, we use polynomials with different degrees `d` to fit the same data.\n",
    "\n",
    "For `d=1`, the model suffers from **high bias**: the model complexity is not enough to represent the data.\n",
    "\n",
    "At the other extreme, for `d=6` the model suffers from **high variance**: the mode overfit the data because it has too many free parameters.  In this case a typical behaviour is that if any of the input points are varied slightly, it could result in a very different approximation. This kind of model will fit perfectly the training data while failing to do so on validation data.\n",
    "\n",
    "In the middle picture, for `d=2`, we have found a good model."
   ]
  },
  {
   "cell_type": "code",
   "execution_count": 6,
   "metadata": {
    "collapsed": false
   },
   "outputs": [],
   "source": [
    "%matplotlib inline\n",
    "import matplotlib.pyplot as plt"
   ]
  },
  {
   "cell_type": "code",
   "execution_count": 7,
   "metadata": {
    "collapsed": false
   },
   "outputs": [
    {
     "data": {
      "text/html": [
       "\n",
       "\n",
       "    <div class=\"bk-root\">\n",
       "        <div class=\"bk-plotdiv\" id=\"1f22866c-a9d8-4219-a2fb-87bf49c8169a\"></div>\n",
       "    </div>\n",
       "<script type=\"text/javascript\">\n",
       "  \n",
       "  (function(global) {\n",
       "    function now() {\n",
       "      return new Date();\n",
       "    }\n",
       "  \n",
       "    var force = false;\n",
       "  \n",
       "    if (typeof (window._bokeh_onload_callbacks) === \"undefined\" || force === true) {\n",
       "      window._bokeh_onload_callbacks = [];\n",
       "      window._bokeh_is_loading = undefined;\n",
       "    }\n",
       "  \n",
       "  \n",
       "    \n",
       "    if (typeof (window._bokeh_timeout) === \"undefined\" || force === true) {\n",
       "      window._bokeh_timeout = Date.now() + 0;\n",
       "      window._bokeh_failed_load = false;\n",
       "    }\n",
       "  \n",
       "    var NB_LOAD_WARNING = {'data': {'text/html':\n",
       "       \"<div style='background-color: #fdd'>\\n\"+\n",
       "       \"<p>\\n\"+\n",
       "       \"BokehJS does not appear to have successfully loaded. If loading BokehJS from CDN, this \\n\"+\n",
       "       \"may be due to a slow or bad network connection. Possible fixes:\\n\"+\n",
       "       \"</p>\\n\"+\n",
       "       \"<ul>\\n\"+\n",
       "       \"<li>re-rerun `output_notebook()` to attempt to load from CDN again, or</li>\\n\"+\n",
       "       \"<li>use INLINE resources instead, as so:</li>\\n\"+\n",
       "       \"</ul>\\n\"+\n",
       "       \"<code>\\n\"+\n",
       "       \"from bokeh.resources import INLINE\\n\"+\n",
       "       \"output_notebook(resources=INLINE)\\n\"+\n",
       "       \"</code>\\n\"+\n",
       "       \"</div>\"}};\n",
       "  \n",
       "    function display_loaded() {\n",
       "      if (window.Bokeh !== undefined) {\n",
       "        document.getElementById(\"1f22866c-a9d8-4219-a2fb-87bf49c8169a\").textContent = \"BokehJS successfully loaded.\";\n",
       "      } else if (Date.now() < window._bokeh_timeout) {\n",
       "        setTimeout(display_loaded, 100)\n",
       "      }\n",
       "    }\n",
       "  \n",
       "    function run_callbacks() {\n",
       "      window._bokeh_onload_callbacks.forEach(function(callback) { callback() });\n",
       "      delete window._bokeh_onload_callbacks\n",
       "      console.info(\"Bokeh: all callbacks have finished\");\n",
       "    }\n",
       "  \n",
       "    function load_libs(js_urls, callback) {\n",
       "      window._bokeh_onload_callbacks.push(callback);\n",
       "      if (window._bokeh_is_loading > 0) {\n",
       "        console.log(\"Bokeh: BokehJS is being loaded, scheduling callback at\", now());\n",
       "        return null;\n",
       "      }\n",
       "      if (js_urls == null || js_urls.length === 0) {\n",
       "        run_callbacks();\n",
       "        return null;\n",
       "      }\n",
       "      console.log(\"Bokeh: BokehJS not loaded, scheduling load and callback at\", now());\n",
       "      window._bokeh_is_loading = js_urls.length;\n",
       "      for (var i = 0; i < js_urls.length; i++) {\n",
       "        var url = js_urls[i];\n",
       "        var s = document.createElement('script');\n",
       "        s.src = url;\n",
       "        s.async = false;\n",
       "        s.onreadystatechange = s.onload = function() {\n",
       "          window._bokeh_is_loading--;\n",
       "          if (window._bokeh_is_loading === 0) {\n",
       "            console.log(\"Bokeh: all BokehJS libraries loaded\");\n",
       "            run_callbacks()\n",
       "          }\n",
       "        };\n",
       "        s.onerror = function() {\n",
       "          console.warn(\"failed to load library \" + url);\n",
       "        };\n",
       "        console.log(\"Bokeh: injecting script tag for BokehJS library: \", url);\n",
       "        document.getElementsByTagName(\"head\")[0].appendChild(s);\n",
       "      }\n",
       "    };var element = document.getElementById(\"1f22866c-a9d8-4219-a2fb-87bf49c8169a\");\n",
       "    if (element == null) {\n",
       "      console.log(\"Bokeh: ERROR: autoload.js configured with elementid '1f22866c-a9d8-4219-a2fb-87bf49c8169a' but no matching script tag was found. \")\n",
       "      return false;\n",
       "    }\n",
       "  \n",
       "    var js_urls = [];\n",
       "  \n",
       "    var inline_js = [\n",
       "      function(Bokeh) {\n",
       "        (function() {\n",
       "          var fn = function() {\n",
       "            var docs_json = {\"cff5518b-5656-401c-8361-8e40ff3f32c2\":{\"roots\":{\"references\":[{\"attributes\":{},\"id\":\"90144849-a6fb-4847-840a-1a778cc154bf\",\"type\":\"BasicTicker\"},{\"attributes\":{\"plot\":{\"id\":\"14112a07-1363-48d9-8411-9de1430e167e\",\"subtype\":\"Figure\",\"type\":\"Plot\"}},\"id\":\"4fb8b993-22b6-4f3a-88aa-76fced8283e8\",\"type\":\"HelpTool\"},{\"attributes\":{\"fill_alpha\":{\"value\":0.1},\"fill_color\":{\"value\":\"#1f77b4\"},\"line_alpha\":{\"value\":0.1},\"line_color\":{\"value\":\"#1f77b4\"},\"size\":{\"units\":\"screen\",\"value\":12},\"x\":{\"field\":\"x\"},\"y\":{\"field\":\"y\"}},\"id\":\"32f76813-ad29-4208-806a-72967ac7b0af\",\"type\":\"X\"},{\"attributes\":{\"plot\":{\"id\":\"335ec1f3-f116-43fb-a548-d1e0e8ef85fc\",\"subtype\":\"Figure\",\"type\":\"Plot\"}},\"id\":\"49137a38-88e0-4e81-bbc2-acbbb839c04b\",\"type\":\"HelpTool\"},{\"attributes\":{\"plot\":{\"id\":\"2cdd458f-6686-4349-b9dd-458011aea2bc\",\"subtype\":\"Figure\",\"type\":\"Plot\"}},\"id\":\"78becf09-2b0b-4950-865a-216eacd41798\",\"type\":\"ResetTool\"},{\"attributes\":{\"fill_alpha\":{\"value\":0.1},\"fill_color\":{\"value\":\"#1f77b4\"},\"line_alpha\":{\"value\":0.1},\"line_color\":{\"value\":\"#1f77b4\"},\"size\":{\"units\":\"screen\",\"value\":12},\"x\":{\"field\":\"x\"},\"y\":{\"field\":\"y\"}},\"id\":\"603b2224-ad68-49fb-bcec-8400b51caa76\",\"type\":\"X\"},{\"attributes\":{\"below\":[{\"id\":\"c9a0812f-af26-4b9e-b980-7f50bcc79fcc\",\"type\":\"LinearAxis\"}],\"left\":[{\"id\":\"2ac45851-2734-45eb-acd1-f81393d70550\",\"type\":\"LinearAxis\"}],\"plot_height\":240,\"plot_width\":240,\"renderers\":[{\"id\":\"c9a0812f-af26-4b9e-b980-7f50bcc79fcc\",\"type\":\"LinearAxis\"},{\"id\":\"68107919-5813-44c6-a3d7-ad045f3c5054\",\"type\":\"Grid\"},{\"id\":\"2ac45851-2734-45eb-acd1-f81393d70550\",\"type\":\"LinearAxis\"},{\"id\":\"bb6c464c-2e77-440a-9e13-b3760c0e4ad7\",\"type\":\"Grid\"},{\"id\":\"73dc0237-bcd5-4f78-9227-a3462d7c021e\",\"type\":\"BoxAnnotation\"},{\"id\":\"f99694b7-00bd-48c9-8310-57f639b208ce\",\"type\":\"GlyphRenderer\"},{\"id\":\"3f4e061d-faf9-41a0-9cc4-b2e0c739fb36\",\"type\":\"GlyphRenderer\"}],\"title\":{\"id\":\"ad218ea8-0d8f-4058-ab8c-0ddc134800f0\",\"type\":\"Title\"},\"tool_events\":{\"id\":\"7dc79fe5-01fd-4561-a10a-d9e4fd92670d\",\"type\":\"ToolEvents\"},\"toolbar\":{\"id\":\"c8579289-3429-4291-8bdc-62af22e74582\",\"type\":\"Toolbar\"},\"toolbar_location\":null,\"x_range\":{\"id\":\"3932e0b1-6c6b-484f-9216-0592906f7daa\",\"type\":\"Range1d\"},\"y_range\":{\"id\":\"bbeef867-bb8c-4b16-8c83-69f803c70bda\",\"type\":\"Range1d\"}},\"id\":\"2cdd458f-6686-4349-b9dd-458011aea2bc\",\"subtype\":\"Figure\",\"type\":\"Plot\"},{\"attributes\":{\"fill_color\":{\"value\":\"black\"},\"size\":{\"units\":\"screen\",\"value\":12},\"x\":{\"field\":\"x\"},\"y\":{\"field\":\"y\"}},\"id\":\"eb65c48f-d64a-4cc3-818b-9ad029d57735\",\"type\":\"X\"},{\"attributes\":{},\"id\":\"0a55a419-793e-44be-bb15-56b2bda82c13\",\"type\":\"BasicTickFormatter\"},{\"attributes\":{\"axis_label\":\"house size\",\"axis_label_text_font_size\":{\"value\":\"9pt\"},\"formatter\":{\"id\":\"1287b730-39ec-447f-9a44-4190a6fdc4aa\",\"type\":\"BasicTickFormatter\"},\"plot\":{\"id\":\"14112a07-1363-48d9-8411-9de1430e167e\",\"subtype\":\"Figure\",\"type\":\"Plot\"},\"ticker\":{\"id\":\"1a5ba497-c468-4018-a10b-f0e558f39611\",\"type\":\"BasicTicker\"}},\"id\":\"e73efa85-1842-472a-82f3-2fe79427ecdf\",\"type\":\"LinearAxis\"},{\"attributes\":{\"callback\":null,\"end\":1.2,\"start\":-0.2},\"id\":\"66cfeaf5-f9f3-44a1-ad76-8a6b2cfe40e7\",\"type\":\"Range1d\"},{\"attributes\":{\"bottom_units\":\"screen\",\"fill_alpha\":{\"value\":0.5},\"fill_color\":{\"value\":\"lightgrey\"},\"left_units\":\"screen\",\"level\":\"overlay\",\"line_alpha\":{\"value\":1.0},\"line_color\":{\"value\":\"black\"},\"line_dash\":[4,4],\"line_width\":{\"value\":2},\"plot\":null,\"render_mode\":\"css\",\"right_units\":\"screen\",\"top_units\":\"screen\"},\"id\":\"044680e8-9b3a-4bbe-9981-7dbc2ba9fc5e\",\"type\":\"BoxAnnotation\"},{\"attributes\":{\"callback\":null,\"end\":12},\"id\":\"261de5c0-0645-4c01-8e1e-d1425ff2df07\",\"type\":\"Range1d\"},{\"attributes\":{\"plot\":{\"id\":\"2cdd458f-6686-4349-b9dd-458011aea2bc\",\"subtype\":\"Figure\",\"type\":\"Plot\"},\"ticker\":{\"id\":\"90144849-a6fb-4847-840a-1a778cc154bf\",\"type\":\"BasicTicker\"}},\"id\":\"68107919-5813-44c6-a3d7-ad045f3c5054\",\"type\":\"Grid\"},{\"attributes\":{\"data_source\":{\"id\":\"57ff3788-0071-447b-8215-9f355a73580b\",\"type\":\"ColumnDataSource\"},\"glyph\":{\"id\":\"c101fd70-96aa-4044-85cb-7036e78c8ca8\",\"type\":\"Line\"},\"hover_glyph\":null,\"nonselection_glyph\":{\"id\":\"211d4469-bd9e-4f43-a2d3-76aff3a28633\",\"type\":\"Line\"},\"selection_glyph\":null},\"id\":\"ee13153b-0291-43c8-9a44-7278f99ad136\",\"type\":\"GlyphRenderer\"},{\"attributes\":{\"plot\":{\"id\":\"2cdd458f-6686-4349-b9dd-458011aea2bc\",\"subtype\":\"Figure\",\"type\":\"Plot\"}},\"id\":\"302e1092-7474-4661-b801-7ab8e090538b\",\"type\":\"PanTool\"},{\"attributes\":{},\"id\":\"2dbb2432-fb51-40ec-9188-2095f77f1ccb\",\"type\":\"BasicTicker\"},{\"attributes\":{\"line_color\":{\"value\":\"blue\"},\"x\":{\"field\":\"x\"},\"y\":{\"field\":\"y\"}},\"id\":\"9e8faa08-be10-4db6-8dcc-581875c94827\",\"type\":\"Line\"},{\"attributes\":{\"sizing_mode\":\"scale_width\",\"toolbar_location\":\"above\",\"tools\":[{\"id\":\"e1102059-e7db-4478-b8f1-337ce394d0aa\",\"type\":\"PanTool\"},{\"id\":\"fe39f971-8c16-4ba9-a665-fdd57769e314\",\"type\":\"WheelZoomTool\"},{\"id\":\"50cbc16b-5268-449e-87d2-fbe5419febeb\",\"type\":\"BoxZoomTool\"},{\"id\":\"fd617167-2513-4d00-b6a2-64e285755fa6\",\"type\":\"SaveTool\"},{\"id\":\"804eb05d-b89f-4415-adc5-0f0f2822d8c8\",\"type\":\"ResetTool\"},{\"id\":\"4fb8b993-22b6-4f3a-88aa-76fced8283e8\",\"type\":\"HelpTool\"},{\"id\":\"4ec1e3c3-83e1-45b2-a7f3-58de1d34107f\",\"type\":\"PanTool\"},{\"id\":\"88b9f0cb-f114-4958-9766-edf9e8d2a6a6\",\"type\":\"WheelZoomTool\"},{\"id\":\"5e06fcf1-809b-4435-b6ea-3fc46856e73c\",\"type\":\"BoxZoomTool\"},{\"id\":\"e9054216-f070-407e-b00a-4e7c15c7333b\",\"type\":\"SaveTool\"},{\"id\":\"22c24c9c-6475-45ba-bfa9-8aea2e0e262d\",\"type\":\"ResetTool\"},{\"id\":\"49137a38-88e0-4e81-bbc2-acbbb839c04b\",\"type\":\"HelpTool\"},{\"id\":\"302e1092-7474-4661-b801-7ab8e090538b\",\"type\":\"PanTool\"},{\"id\":\"8d634f4c-7c9a-48b8-a792-1af28c34c680\",\"type\":\"WheelZoomTool\"},{\"id\":\"e88115bb-68d7-44ed-9afa-09c2975fd19d\",\"type\":\"BoxZoomTool\"},{\"id\":\"160447fa-f5c9-4a5c-98cc-a1eb2492440f\",\"type\":\"SaveTool\"},{\"id\":\"78becf09-2b0b-4950-865a-216eacd41798\",\"type\":\"ResetTool\"},{\"id\":\"ca9ffe40-2f4b-4263-8b52-dc26681f647f\",\"type\":\"HelpTool\"}]},\"id\":\"eabd57e8-ba7a-4a61-aae6-a644d2444b05\",\"type\":\"ToolbarBox\"},{\"attributes\":{},\"id\":\"1287b730-39ec-447f-9a44-4190a6fdc4aa\",\"type\":\"BasicTickFormatter\"},{\"attributes\":{\"callback\":null,\"column_names\":[\"x\",\"y\"],\"data\":{\"x\":{\"__ndarray__\":\"exSuR+F6hD8qHSlQNcWTP7U4bubUFaM/NdvkMohssj8ESFBNGcnBP2JlpStUK9E/d9N4kQaT4D8AAAAAAADwPw==\",\"dtype\":\"float64\",\"shape\":[8]},\"y\":{\"__ndarray__\":\"mFTPLeiE8j/9CkHYOsn4P+9CRWpgUAhAuf5G+DbJE0D01/ulsMoWQAHhRdOMqxxA1ilwpbpXIkDvQCA9AvMiQA==\",\"dtype\":\"float64\",\"shape\":[8]}}},\"id\":\"879a5681-3a75-4164-ac6a-3ca01a0cd9da\",\"type\":\"ColumnDataSource\"},{\"attributes\":{\"line_alpha\":{\"value\":0.1},\"line_color\":{\"value\":\"#1f77b4\"},\"x\":{\"field\":\"x\"},\"y\":{\"field\":\"y\"}},\"id\":\"211d4469-bd9e-4f43-a2d3-76aff3a28633\",\"type\":\"Line\"},{\"attributes\":{},\"id\":\"4f9a6ce9-42c9-4e74-a39f-c4b69caa9d7c\",\"type\":\"BasicTickFormatter\"},{\"attributes\":{\"callback\":null,\"column_names\":[\"x\",\"y\"],\"data\":{\"x\":{\"__ndarray__\":\"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\",\"dtype\":\"float64\",\"shape\":[1000]},\"y\":{\"__ndarray__\":\"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\",\"dtype\":\"float64\",\"shape\":[1000]}}},\"id\":\"85cf616e-e46d-4242-91a0-981df63de1df\",\"type\":\"ColumnDataSource\"},{\"attributes\":{},\"id\":\"7dc79fe5-01fd-4561-a10a-d9e4fd92670d\",\"type\":\"ToolEvents\"},{\"attributes\":{\"dimension\":1,\"plot\":{\"id\":\"335ec1f3-f116-43fb-a548-d1e0e8ef85fc\",\"subtype\":\"Figure\",\"type\":\"Plot\"},\"ticker\":{\"id\":\"5673efb8-427c-4c0c-8a2e-a379320147af\",\"type\":\"BasicTicker\"}},\"id\":\"b9d902d0-c3b1-4f61-b1bb-33139d6a47ca\",\"type\":\"Grid\"},{\"attributes\":{\"plot\":{\"id\":\"2cdd458f-6686-4349-b9dd-458011aea2bc\",\"subtype\":\"Figure\",\"type\":\"Plot\"}},\"id\":\"160447fa-f5c9-4a5c-98cc-a1eb2492440f\",\"type\":\"SaveTool\"},{\"attributes\":{},\"id\":\"5f06bf43-5c2e-4457-b8a1-5db531d1a278\",\"type\":\"BasicTickFormatter\"},{\"attributes\":{},\"id\":\"0df9782c-2bea-4b43-8168-b7300b77b2b3\",\"type\":\"BasicTickFormatter\"},{\"attributes\":{\"plot\":{\"id\":\"14112a07-1363-48d9-8411-9de1430e167e\",\"subtype\":\"Figure\",\"type\":\"Plot\"}},\"id\":\"fe39f971-8c16-4ba9-a665-fdd57769e314\",\"type\":\"WheelZoomTool\"},{\"attributes\":{\"children\":[{\"id\":\"9dac1a8b-b2a2-4d1e-a72b-713973bf50a8\",\"type\":\"Row\"}]},\"id\":\"d7978e0c-a841-41dd-86f1-8ddb2c179c21\",\"type\":\"Column\"},{\"attributes\":{\"callback\":null,\"end\":1.2,\"start\":-0.2},\"id\":\"16aa6a66-540e-4ade-81ad-13377c35b7bd\",\"type\":\"Range1d\"},{\"attributes\":{\"below\":[{\"id\":\"2c6a625f-0e70-4469-aa14-f0bfa1aac307\",\"type\":\"LinearAxis\"}],\"left\":[{\"id\":\"68d8f51b-b0e3-48dc-b108-75b742da6464\",\"type\":\"LinearAxis\"}],\"plot_height\":240,\"plot_width\":240,\"renderers\":[{\"id\":\"2c6a625f-0e70-4469-aa14-f0bfa1aac307\",\"type\":\"LinearAxis\"},{\"id\":\"be7f7e78-6ad6-417c-aa8e-460272adf511\",\"type\":\"Grid\"},{\"id\":\"68d8f51b-b0e3-48dc-b108-75b742da6464\",\"type\":\"LinearAxis\"},{\"id\":\"b9d902d0-c3b1-4f61-b1bb-33139d6a47ca\",\"type\":\"Grid\"},{\"id\":\"044680e8-9b3a-4bbe-9981-7dbc2ba9fc5e\",\"type\":\"BoxAnnotation\"},{\"id\":\"606edb9f-4f29-4ed0-b23e-74f7965b14e8\",\"type\":\"GlyphRenderer\"},{\"id\":\"71b9fa16-fa16-4d10-b728-9784a1752822\",\"type\":\"GlyphRenderer\"}],\"title\":{\"id\":\"c0a694fb-2fa7-4427-9d07-50ee0653f769\",\"type\":\"Title\"},\"tool_events\":{\"id\":\"dbece326-5a54-46a3-a8f2-95cb02352069\",\"type\":\"ToolEvents\"},\"toolbar\":{\"id\":\"59c89195-62c7-4c68-9100-13fd3fca2d9f\",\"type\":\"Toolbar\"},\"toolbar_location\":null,\"x_range\":{\"id\":\"66cfeaf5-f9f3-44a1-ad76-8a6b2cfe40e7\",\"type\":\"Range1d\"},\"y_range\":{\"id\":\"97f3d494-8d46-4d27-8d79-bb2e3876df40\",\"type\":\"Range1d\"}},\"id\":\"335ec1f3-f116-43fb-a548-d1e0e8ef85fc\",\"subtype\":\"Figure\",\"type\":\"Plot\"},{\"attributes\":{\"plot\":{\"id\":\"14112a07-1363-48d9-8411-9de1430e167e\",\"subtype\":\"Figure\",\"type\":\"Plot\"},\"ticker\":{\"id\":\"1a5ba497-c468-4018-a10b-f0e558f39611\",\"type\":\"BasicTicker\"}},\"id\":\"28c85773-c616-4fa3-b2df-e6caa412f929\",\"type\":\"Grid\"},{\"attributes\":{\"line_alpha\":{\"value\":0.1},\"line_color\":{\"value\":\"#1f77b4\"},\"x\":{\"field\":\"x\"},\"y\":{\"field\":\"y\"}},\"id\":\"56f3ec15-80be-447f-a2d7-9e6f49aac787\",\"type\":\"Line\"},{\"attributes\":{\"axis_label_text_font_size\":{\"value\":\"9pt\"},\"formatter\":{\"id\":\"0a55a419-793e-44be-bb15-56b2bda82c13\",\"type\":\"BasicTickFormatter\"},\"plot\":{\"id\":\"2cdd458f-6686-4349-b9dd-458011aea2bc\",\"subtype\":\"Figure\",\"type\":\"Plot\"},\"ticker\":{\"id\":\"81f61a10-dc72-489f-8808-681e34e5a428\",\"type\":\"BasicTicker\"}},\"id\":\"2ac45851-2734-45eb-acd1-f81393d70550\",\"type\":\"LinearAxis\"},{\"attributes\":{\"callback\":null,\"end\":12},\"id\":\"bbeef867-bb8c-4b16-8c83-69f803c70bda\",\"type\":\"Range1d\"},{\"attributes\":{\"axis_label\":\"price\",\"axis_label_text_font_size\":{\"value\":\"9pt\"},\"formatter\":{\"id\":\"5f06bf43-5c2e-4457-b8a1-5db531d1a278\",\"type\":\"BasicTickFormatter\"},\"plot\":{\"id\":\"14112a07-1363-48d9-8411-9de1430e167e\",\"subtype\":\"Figure\",\"type\":\"Plot\"},\"ticker\":{\"id\":\"2dbb2432-fb51-40ec-9188-2095f77f1ccb\",\"type\":\"BasicTicker\"}},\"id\":\"3bd5c1d5-7c53-4b7a-a797-9269f5c8a7ae\",\"type\":\"LinearAxis\"},{\"attributes\":{\"children\":[{\"id\":\"14112a07-1363-48d9-8411-9de1430e167e\",\"subtype\":\"Figure\",\"type\":\"Plot\"},{\"id\":\"335ec1f3-f116-43fb-a548-d1e0e8ef85fc\",\"subtype\":\"Figure\",\"type\":\"Plot\"},{\"id\":\"2cdd458f-6686-4349-b9dd-458011aea2bc\",\"subtype\":\"Figure\",\"type\":\"Plot\"}]},\"id\":\"9dac1a8b-b2a2-4d1e-a72b-713973bf50a8\",\"type\":\"Row\"},{\"attributes\":{\"callback\":null,\"end\":1.2,\"start\":-0.2},\"id\":\"3932e0b1-6c6b-484f-9216-0592906f7daa\",\"type\":\"Range1d\"},{\"attributes\":{\"callback\":null,\"column_names\":[\"x\",\"y\"],\"data\":{\"x\":{\"__ndarray__\":\"exSuR+F6hD8qHSlQNcWTP7U4bubUFaM/NdvkMohssj8ESFBNGcnBP2JlpStUK9E/d9N4kQaT4D8AAAAAAADwPw==\",\"dtype\":\"float64\",\"shape\":[8]},\"y\":{\"__ndarray__\":\"mFTPLeiE8j/9CkHYOsn4P+9CRWpgUAhAuf5G+DbJE0D01/ulsMoWQAHhRdOMqxxA1ilwpbpXIkDvQCA9AvMiQA==\",\"dtype\":\"float64\",\"shape\":[8]}}},\"id\":\"06ddbbc2-9e4e-4853-91c3-21927b2b5b22\",\"type\":\"ColumnDataSource\"},{\"attributes\":{},\"id\":\"c14a216a-fdf6-476c-a2f9-8e3684217154\",\"type\":\"ToolEvents\"},{\"attributes\":{\"data_source\":{\"id\":\"d5c7ea75-bbc6-414f-97f4-c2dc13d2b58a\",\"type\":\"ColumnDataSource\"},\"glyph\":{\"id\":\"cb27527e-d026-41dd-a3e6-8b91b9d600ef\",\"type\":\"Line\"},\"hover_glyph\":null,\"nonselection_glyph\":{\"id\":\"782bfc4e-15bd-4892-9a3c-45e5db8ef8fd\",\"type\":\"Line\"},\"selection_glyph\":null},\"id\":\"71b9fa16-fa16-4d10-b728-9784a1752822\",\"type\":\"GlyphRenderer\"},{\"attributes\":{\"data_source\":{\"id\":\"06ddbbc2-9e4e-4853-91c3-21927b2b5b22\",\"type\":\"ColumnDataSource\"},\"glyph\":{\"id\":\"0df29b98-c480-48c5-b5ab-c0a88ea7acde\",\"type\":\"X\"},\"hover_glyph\":null,\"nonselection_glyph\":{\"id\":\"32f76813-ad29-4208-806a-72967ac7b0af\",\"type\":\"X\"},\"selection_glyph\":null},\"id\":\"606edb9f-4f29-4ed0-b23e-74f7965b14e8\",\"type\":\"GlyphRenderer\"},{\"attributes\":{\"data_source\":{\"id\":\"85cf616e-e46d-4242-91a0-981df63de1df\",\"type\":\"ColumnDataSource\"},\"glyph\":{\"id\":\"9e8faa08-be10-4db6-8dcc-581875c94827\",\"type\":\"Line\"},\"hover_glyph\":null,\"nonselection_glyph\":{\"id\":\"56f3ec15-80be-447f-a2d7-9e6f49aac787\",\"type\":\"Line\"},\"selection_glyph\":null},\"id\":\"3f4e061d-faf9-41a0-9cc4-b2e0c739fb36\",\"type\":\"GlyphRenderer\"},{\"attributes\":{\"fill_color\":{\"value\":\"black\"},\"size\":{\"units\":\"screen\",\"value\":12},\"x\":{\"field\":\"x\"},\"y\":{\"field\":\"y\"}},\"id\":\"55e56903-e9e4-4226-9341-5e43bca5268a\",\"type\":\"X\"},{\"attributes\":{\"plot\":{\"id\":\"14112a07-1363-48d9-8411-9de1430e167e\",\"subtype\":\"Figure\",\"type\":\"Plot\"}},\"id\":\"804eb05d-b89f-4415-adc5-0f0f2822d8c8\",\"type\":\"ResetTool\"},{\"attributes\":{\"overlay\":{\"id\":\"73dc0237-bcd5-4f78-9227-a3462d7c021e\",\"type\":\"BoxAnnotation\"},\"plot\":{\"id\":\"2cdd458f-6686-4349-b9dd-458011aea2bc\",\"subtype\":\"Figure\",\"type\":\"Plot\"}},\"id\":\"e88115bb-68d7-44ed-9afa-09c2975fd19d\",\"type\":\"BoxZoomTool\"},{\"attributes\":{\"plot\":{\"id\":\"335ec1f3-f116-43fb-a548-d1e0e8ef85fc\",\"subtype\":\"Figure\",\"type\":\"Plot\"}},\"id\":\"e9054216-f070-407e-b00a-4e7c15c7333b\",\"type\":\"SaveTool\"},{\"attributes\":{\"plot\":null,\"text\":\"d = 1 (under-fit; high bias)\",\"text_font_size\":{\"value\":\"11pt\"}},\"id\":\"7fae1701-de7b-45a0-a39d-0c3cffc047a0\",\"type\":\"Title\"},{\"attributes\":{\"children\":[{\"id\":\"eabd57e8-ba7a-4a61-aae6-a644d2444b05\",\"type\":\"ToolbarBox\"},{\"id\":\"d7978e0c-a841-41dd-86f1-8ddb2c179c21\",\"type\":\"Column\"}]},\"id\":\"965a467a-73d7-4f8b-85a2-943d50b4902d\",\"type\":\"Column\"},{\"attributes\":{\"callback\":null,\"column_names\":[\"x\",\"y\"],\"data\":{\"x\":{\"__ndarray__\":\"mpmZmZmZyb+7lgHLrWvJv92TafzBPcm//pDRLdYPyb8fjjlf6uHIv0CLoZD+s8i/YogJwhKGyL+DhXHzJljIv6SC2SQ7Ksi/xX9BVk/8x7/nfKmHY87Hvwh6Ebl3oMe/KXd56otyx79KdOEboETHv2xxSU20Fse/jW6xfsjoxr+uaxmw3LrGv9BogeHwjMa/8WXpEgVfxr8SY1FEGTHGvzNguXUtA8a/VV0hp0HVxb92WonYVafFv5dX8QlqecW/uFRZO35Lxb/aUcFskh3Fv/tOKZ6m78S/HEyRz7rBxL8+SfkAz5PEv19GYTLjZcS/gEPJY/c3xL+hQDGVCwrEv8I9mcYf3MO/5DoB+DOuw78FOGkpSIDDvyY10VpcUsO/SDI5jHAkw79pL6G9hPbCv4osCe+YyMK/qylxIK2awr/MJtlRwWzCv+4jQYPVPsK/DyGptOkQwr8wHhHm/eLBv1IbeRcStcG/cxjhSCaHwb+UFUl6OlnBv7YSsatOK8G/1w8Z3WL9wL/4DIEOd8/AvxoK6T+LocC/OgdRcZ9zwL9cBLmis0XAv30BIdTHF8C/Pf0RC7jTv79/9+Ft4He/v8LxsdAIHL+/BOyBMzHAvr9H5lGWWWS+v4ngIfmBCL6/zNrxW6qsvb8O1cG+0lC9v1HPkSH79Ly/k8lhhCOZvL/WwzHnSz28vxm+AUp04bu/W7jRrJyFu7+esqEPxSm7v+CscXLtzbq/I6dB1RVyur9loRE4Pha6v6ib4Zpmurm/6pWx/Y5eub8tkIFgtwK5v2+KUcPfpri/soQhJghLuL/0fvGIMO+3vzd5wetYk7e/eXORToE3t7+8bWGxqdu2v/5nMRTSf7a/QWIBd/ojtr+EXNHZIsi1v8ZWoTxLbLW/CVFxn3MQtb9LS0ECnLS0v45FEWXEWLS/0D/hx+z8s78TOrEqFaGzv1U0gY09RbO/mC5R8GXpsr/aKCFTjo2yvxwj8bW2MbK/YB3BGN/Vsb+iF5F7B3qxv+QRYd4vHrG/KAwxQVjCsL9qBgGkgGawv6wA0QapCrC/3PVB06Jdr79k6uGY86Wuv+jegV5E7q2/bNMhJJU2rb/wx8Hp5X6sv3i8Ya82x6u//LABdYcPq7+ApaE62FeqvwSaQQApoKm/jI7hxXnoqL8Qg4GLyjCov5R3IVEbeae/GGzBFmzBpr+gYGHcvAmmvyRVAaINUqW/qEmhZ16apL8wPkEtr+Kjv7Qy4fL/KqO/OCeBuFBzor+8GyF+obuhv0QQwUPyA6G/yARhCUNMoL+Y8gGeJymfv6DbQSnJuZ2/sMSBtGpKnL+4rcE/DNuav8CWAcuta5m/yH9BVk/8l7/YaIHh8IyWv+BRwWySHZW/6DoB+DOuk7/4I0GD1T6SvwANgQ53z5C/EOyBMzHAjr8gvgFKdOGLv0CQgWC3Aom/UGIBd/ojhr9gNIGNPUWDv3AGAaSAZoC/ILEBdYcPe79AVQGiDVJ1v8DyAZ4nKW+/ADsB+DOuY78ABwGkgGZQvwCiAaCaPTo/ANgB9E2FXT+AowGgmj1qP6AtASNH3HI/gIkB9sCZeD9g5QHJOld+P5AgAU5aCoI/gE6BNxfphD9wfAEh1MeHP2CqgQqRpoo/QNgB9E2FjT8YA8FuBTKQPxAageNjoZE/CDFBWMIQkz/4RwHNIICUP/BewUF/75U/6HWBtt1elz/gjEErPM6YP9CjAaCaPZo/yLrBFPmsmz/A0YGJVxydP7DoQf61i54/qP8BcxT7nz9QC+FzObWgP8wWQa7obKE/RCKh6Jckoj/ALQEjR9yiPzw5YV32k6M/uETBl6VLpD8wUCHSVAOlP6xbgQwEu6U/KGfhRrNypj+kckGBYiqnPxx+obsR4qc/mIkB9sCZqD8UlWEwcFGpP5CgwWofCao/CKwhpc7Aqj+At4HffXirPwDD4RktMKw/eM5BVNznrD/42aGOi5+tP3DlAck6V64/6PBhA+oOrz9o/ME9mcavP/ADETwkP7A/rAlB2fuasD9sD3F20/awPygVoROrUrE/5BrRsIKusT+kIAFOWgqyP2AmMesxZrI/ICxhiAnCsj/cMZEl4R2zP5g3wcK4ebM/WD3xX5DVsz8UQyH9ZzG0P9BIUZo/jbQ/kE6BNxfptD9MVLHU7kS1Pwxa4XHGoLU/yF8RD578tT+EZUGsdVi2P0RrcUlNtLY/AHGh5iQQtz+8dtGD/Gu3P3x8ASHUx7c/OIIxvqsjuD/0h2Fbg3+4P7SNkfha27g/cJPBlTI3uT8wmfEyCpO5P+yeIdDh7rk/qKRRbblKuj9oqoEKkaa6PySwsadoArs/4LXhREBeuz+guxHiF7q7P1zBQX/vFbw/HMdxHMdxvD/YzKG5ns28P5TS0VZ2Kb0/VNgB9E2FvT8Q3jGRJeG9P8zjYS79PL4/jOmRy9SYvj9I78ForPS+PwT18QWEUL8/xPoho1usvz9AACmgGQTAPyADwW4FMsA//gVZPfFfwD/cCPEL3Y3AP7wLidrIu8A/mg4hqbTpwD94Ebl3oBfBP1gUUUaMRcE/NhfpFHhzwT8UGoHjY6HBP/QcGbJPz8E/0h+xgDv9wT+yIklPJyvCP5Al4R0TWcI/bih57P6Gwj9OKxG76rTCPywuqYnW4sI/CjFBWMIQwz/qM9kmrj7DP8g2cfWZbMM/qDkJxIWawz+GPKGSccjDP2Q/OWFd9sM/RELRL0kkxD8iRWn+NFLEPwBIAc0ggMQ/4EqZmwyuxD++TTFq+NvEP5xQyTjkCcU/fFNhB9A3xT9aVvnVu2XFPzpZkaSnk8U/GFwpc5PBxT/2XsFBf+/FP9ZhWRBrHcY/tGTx3lZLxj+SZ4mtQnnGP3JqIXwup8Y/UG25ShrVxj8wcFEZBgPHPw5z6efxMMc/7HWBtt1exz/MeBmFyYzHP6p7sVO1usc/iH5JIqHoxz9ogeHwjBbIP0aEeb94RMg/JIcRjmRyyD8EiqlcUKDIP+KMQSs8zsg/wo/Z+Sf8yD+gknHIEyrJP36VCZf/V8k/XpihZeuFyT88mzk017PJPxqe0QLD4ck/+qBp0a4Pyj/YowGgmj3KP7ammW6Ga8o/lqkxPXKZyj90rMkLXsfKP1SvYdpJ9co/MrL5qDUjyz8QtZF3IVHLP/C3KUYNf8s/zrrBFPmsyz+svVnj5NrLP4zA8bHQCMw/asOJgLw2zD9KxiFPqGTMPyjJuR2Uksw/BsxR7H/AzD/mzum6a+7MP8TRgYlXHM0/otQZWENKzT+C17EmL3jNP2DaSfUaps0/Pt3hwwbUzT8e4HmS8gHOP/ziEWHeL84/3OWpL8pdzj+66EH+tYvOP5jr2cyhuc4/eO5xm43nzj9W8QlqeRXPPzT0oThlQ88/FPc5B1Fxzz/y+dHVPJ/PP9L8aaQozc8/sP8BcxT7zz9HAc0ggBTQP7cCGQh2K9A/JgRl72tC0D+VBbHWYVnQPwUH/b1XcNA/dAhJpU2H0D/jCZWMQ57QP1ML4XM5tdA/wgwtWy/M0D8yDnlCJePQP6EPxSkb+tA/EBERERER0T+AEl34BijRP+8Tqd/8PtE/XhX1xvJV0T/OFkGu6GzRPz0YjZXeg9E/rBnZfNSa0T8cGyVkyrHRP4sccUvAyNE/+x29Mrbf0T9qHwkarPbRP9kgVQGiDdI/SSKh6Jck0j+4I+3PjTvSPyclObeDUtI/lyaFnnlp0j8GKNGFb4DSP3YpHW1ll9I/5SppVFuu0j9ULLU7UcXSP8QtASNH3NI/My9NCj3z0j+iMJnxMgrTPxIy5dgoIdM/gTMxwB440z/xNH2nFE/TP182yY4KZtM/zzcVdgB90z8/OWFd9pPTP606rUTsqtM/HTz5K+LB0z+NPUUT2NjTP/0+kfrN79M/a0Dd4cMG1D/bQSnJuR3UP0tDdbCvNNQ/uUTBl6VL1D8pRg1/m2LUP5lHWWaRedQ/B0mlTYeQ1D93SvE0fafUP+dLPRxzvtQ/VU2JA2nV1D/FTtXqXuzUPzVQIdJUA9U/o1FtuUoa1T8TU7mgQDHVP4NUBYg2SNU/8VVRbyxf1T9hV51WInbVP9FY6T0YjdU/P1o1JQ6k1T+vW4EMBLvVPx9dzfP50dU/j14Z2+/o1T/9X2XC5f/VP21hsanbFtY/3WL9kNEt1j9LZEl4x0TWP7tllV+9W9Y/K2fhRrNy1j+ZaC0uqYnWPwlqeRWfoNY/eWvF/JS31j/nbBHkis7WP1duXcuA5dY/x2+psnb81j81cfWZbBPXP6VyQYFiKtc/FXSNaFhB1z+DddlPTljXP/N2JTdEb9c/Y3hxHjqG1z/Teb0FMJ3XP0F7Ce0ltNc/sXxV1BvL1z8hfqG7EeLXP49/7aIH+dc//4A5iv0P2D9vgoVx8ybYP92D0VjpPdg/TYUdQN9U2D+9hmkn1WvYPyuItQ7Lgtg/m4kB9sCZ2D8Li03dtrDYP3mMmcSsx9g/6Y3lq6Le2D9ZjzGTmPXYP8eQfXqODNk/N5LJYYQj2T+nkxVJejrZPxeVYTBwUdk/hZatF2Zo2T/1l/n+W3/ZP2WZReZRltk/05qRzUet2T9DnN20PcTZP7OdKZwz29k/IZ91gyny2T+RoMFqHwnaPwGiDVIVINo/b6NZOQs32j/fpKUgAU7aP0+m8Qf3ZNo/vac97+x72j8tqYnW4pLaP52q1b3Yqdo/C6whpc7A2j97rW2MxNfaP+uuuXO67to/W7AFW7AF2z/JsVFCphzbPzmznSmcM9s/qbTpEJJK2z8XtjX4h2HbP4e3gd99eNs/97jNxnOP2z9luhmuaabbP9W7ZZVfvds/Rb2xfFXU2z+zvv1jS+vbPyPASUtBAtw/k8GVMjcZ3D8Bw+EZLTDcP3HELQEjR9w/4cV56Bhe3D9Px8XPDnXcP7/IEbcEjNw/L8pdnvqi3D+fy6mF8LncPw3N9Wzm0Nw/fc5BVNzn3D/tz4070v7cP1vR2SLIFd0/y9IlCr4s3T871HHxs0PdP6nVvdipWt0/GdcJwJ9x3T+J2FWnlYjdP/fZoY6Ln90/Z9vtdYG23T/X3Dldd83dP0XehURt5N0/td/RK2P73T8l4R0TWRLeP5PiafpOKd4/A+S14URA3j9z5QHJOlfeP+HmTbAwbt4/UeiZlyaF3j/B6eV+HJzePzHrMWYSs94/n+x9TQjK3j8P7sk0/uDeP3/vFRz0994/7fBhA+oO3z9d8q3q3yXfP83z+dHVPN8/O/VFuctT3z+r9pGgwWrfPxv43Ye3gd8/ifkpb62Y3z/5+nVWo6/fP2n8wT2Zxt8/1/0NJY/d3z9H/1kMhfTfP1wA03m9BeA/EgF5bTgR4D/KAR9hsxzgP4ICxVQuKOA/OgNrSKkz4D/yAxE8JD/gP6oEty+fSuA/YgVdIxpW4D8YBgMXlWHgP9AGqQoQbeA/iAdP/op44D9ACPXxBYTgP/gIm+WAj+A/sAlB2fua4D9mCufMdqbgPx4LjcDxseA/1gsztGy94D+ODNmn58jgP0YNf5ti1OA//g0lj93f4D+0DsuCWOvgP2wPcXbT9uA/JBAXak4C4T/cEL1dyQ3hP5QRY1FEGeE/TBIJRb8k4T8EE684OjDhP7oTVSy1O+E/chT7HzBH4T8qFaETq1LhP+IVRwcmXuE/mhbt+qBp4T9SF5PuG3XhPwgYOeKWgOE/wBjf1RGM4T94GYXJjJfhPzAaK70Ho+E/6BrRsIKu4T+gG3ek/bnhP1YcHZh4xeE/Dh3Di/PQ4T/GHWl/btzhP34eD3Pp5+E/Nh+1ZmTz4T/uH1ta3/7hP6YgAU5aCuI/XCGnQdUV4j8UIk01UCHiP8wi8yjLLOI/hCOZHEY44j88JD8QwUPiP/Qk5QM8T+I/qiWL97Za4j9iJjHrMWbiPxon196sceI/0id90id94j+KKCPGoojiP0IpybkdlOI/+ClvrZif4j+wKhWhE6viP2gru5SOtuI/ICxhiAnC4j/YLAd8hM3iP5AtrW//2OI/SC5TY3rk4j/+LvlW9e/iP7Yvn0pw++I/bjBFPusG4z8mMesxZhLjP94xkSXhHeM/ljI3GVwp4z9MM90M1zTjPwQ0gwBSQOM/vDQp9MxL4z90Nc/nR1fjPyw2ddvCYuM/5DYbzz1u4z+aN8HCuHnjP1I4Z7YzheM/CjkNqq6Q4z/CObOdKZzjP3o6WZGkp+M/Mjv/hB+z4z/qO6V4mr7jP6A8S2wVyuM/WD3xX5DV4z8QPpdTC+HjP8g+PUeG7OM/gD/jOgH44z84QIkufAPkP+5ALyL3DuQ/pkHVFXIa5D9eQnsJ7SXkPxZDIf1nMeQ/zkPH8OI85D+GRG3kXUjkPzxFE9jYU+Q/9EW5y1Nf5D+sRl+/zmrkP2RHBbNJduQ/HEirpsSB5D/USFGaP43kP4xJ9426mOQ/QkqdgTWk5D/6SkN1sK/kP7JL6Wgru+Q/akyPXKbG5D8iTTVQIdLkP9pN20Oc3eQ/kE6BNxfp5D9ITycrkvTkPwBQzR4NAOU/uFBzEogL5T9wURkGAxflPyhSv/l9IuU/3lJl7fgt5T+WUwvhcznlP05UsdTuROU/BlVXyGlQ5T++Vf275FvlP3ZWo69fZ+U/LldJo9py5T/kV++WVX7lP5xYlYrQieU/VFk7fkuV5T8MWuFxxqDlP8Rah2VBrOU/fFstWby35T8yXNNMN8PlP+pceUCyzuU/ol0fNC3a5T9aXsUnqOXlPxJfaxsj8eU/yl8RD5785T+AYLcCGQjmPzhhXfaTE+Y/8GED6g4f5j+oYqndiSrmP2BjT9EENuY/GGT1xH9B5j/QZJu4+kzmP4ZlQax1WOY/Pmbnn/Bj5j/2Zo2Ta2/mP65nM4fmeuY/ZmjZemGG5j8eaX9u3JHmP9RpJWJXneY/jGrLVdKo5j9Ea3FJTbTmP/xrFz3Iv+Y/tGy9MEPL5j9sbWMkvtbmPyJuCRg54uY/2m6vC7Tt5j+Sb1X/LvnmP0pw+/KpBOc/AnGh5iQQ5z+6cUfanxvnP3By7c0aJ+c/KHOTwZUy5z/gczm1ED7nP5h036iLSec/UHWFnAZV5z8IdiuQgWDnP8B20YP8a+c/dnd3d3d35z8ueB1r8oLnP+Z4w15tjuc/nnlpUuiZ5z9Weg9GY6XnPw57tTnesOc/xHtbLVm85z98fAEh1MfnPzR9pxRP0+c/7H1NCMre5z+kfvP7ROrnP1x/me+/9ec/EoA/4zoB6D/KgOXWtQzoP4KBi8owGOg/OoIxvqsj6D/ygtexJi/oP6qDfaWhOug/YoQjmRxG6D8YhcmMl1HoP9CFb4ASXeg/iIYVdI1o6D9Ah7tnCHToP/iHYVuDf+g/sIgHT/6K6D9mia1CeZboPx6KUzb0oeg/1or5KW+t6D+Oi58d6rjoP0aMRRFlxOg//ozrBODP6D+0jZH4WtvoP2yON+zV5ug/JI/d31Dy6D/cj4PTy/3oP5SQKcdGCek/TJHPusEU6T8EknWuPCDpP7qSG6K3K+k/cpPBlTI36T8qlGeJrULpP+KUDX0oTuk/mpWzcKNZ6T9SlllkHmXpPwiX/1eZcOk/wJelSxR86T94mEs/j4fpPzCZ8TIKk+k/6JmXJoWe6T+gmj0aAKrpP1ib4w17tek/EJyJAfbA6T/GnC/1cMzpP36d1ejr1+k/Np573Gbj6T/uniHQ4e7pP6afx8Nc+uk/XqBtt9cF6j8UoROrUhHqP8yhuZ7NHOo/hKJfkkgo6j88owWGwzPqP/Sjq3k+P+o/rKRRbblK6j9kpfdgNFbqPxqmnVSvYeo/0qZDSCpt6j+Kp+k7pXjqP0Kojy8ghOo/+qg1I5uP6j+yqdsWFpvqP2iqgQqRpuo/IKsn/guy6j/Yq83xhr3qP5Csc+UByeo/SK0Z2XzU6j8Arr/M99/qP7auZcBy6+o/bq8LtO326j8msLGnaALrP96wV5vjDes/lrH9jl4Z6z9OsqOC2STrPwazSXZUMOs/vLPvac876z90tJVdSkfrPyy1O1HFUus/5LXhREBe6z+ctoc4u2nrP1S3LSw2des/CrjTH7GA6z/CuHkTLIzrP3q5Hwenl+s/MrrF+iGj6z/qumvunK7rP6K7EeIXuus/WLy31ZLF6z8QvV3JDdHrP8i9A72I3Os/gL6psAPo6z84v0+kfvPrP/C/9Zf5/us/psCbi3QK7D9ewUF/7xXsPxbC53JqIew/zsKNZuUs7D+GwzNaYDjsPz7E2U3bQ+w/9sR/QVZP7D+sxSU10VrsP2TGyyhMZuw/HMdxHMdx7D/UxxcQQn3sP4zIvQO9iOw/RMlj9zeU7D/6yQnrsp/sP7LKr94tq+w/astV0qi27D8izPvFI8LsP9rMobmezew/ks1HrRnZ7D9Izu2glOTsPwDPk5QP8Ow/uM85iIr77D9w0N97BQftPyjRhW+AEu0/4NErY/sd7T+Y0tFWdintP07Td0rxNO0/BtQdPmxA7T++1MMx50vtP3bVaSViV+0/LtYPGd1i7T/m1rUMWG7tP5zXWwDTee0/VNgB9E2F7T8M2afnyJDtP8TZTdtDnO0/fNrzzr6n7T8025nCObPtP+rbP7a0vu0/otzlqS/K7T9a3YudqtXtPxLeMZEl4e0/yt7XhKDs7T+C3314G/jtPzrgI2yWA+4/8ODJXxEP7j+o4W9TjBruP2DiFUcHJu4/GOO7OoIx7j/Q42Eu/TzuP4jkByJ4SO4/PuWtFfNT7j/25VMJbl/uP67m+fzoau4/Zuef8GN27j8e6EXk3oHuP9bo69dZje4/jOmRy9SY7j9E6je/T6TuP/zq3bLKr+4/tOuDpkW77j9s7CmawMbuPyTtz4070u4/3O11gbbd7j+S7ht1MenuP0rvwWis9O4/AvBnXCcA7z+68A1QogvvP3Lxs0MdF+8/KvJZN5gi7z/g8v8qEy7vP5jzpR6OOe8/UPRLEglF7z8I9fEFhFDvP8D1l/n+W+8/ePY97Xln7z8u9+Pg9HLvP+b3idRvfu8/nvgvyOqJ7z9W+dW7ZZXvPw76e6/goO8/xvoho1us7z9++8eW1rfvPzT8bYpRw+8/7PwTfszO7z+k/blxR9rvP1z+X2XC5e8/FP8FWT3x7z/M/6tMuPzvP0EAKaAZBPA/nQD8GdcJ8D/5AM+TlA/wP1UBog1SFfA/sQF1hw8b8D8NAkgBzSDwP2gCG3uKJvA/xALu9Ecs8D8gA8FuBTLwP3wDlOjCN/A/2ANnYoA98D80BDrcPUPwP5AEDVb7SPA/6wTgz7hO8D9HBbNJdlTwP6MFhsMzWvA//wVZPfFf8D9bBiy3rmXwP7cG/zBsa/A/EgfSqilx8D9uB6Uk53bwP8oHeJ6kfPA/JghLGGKC8D+CCB6SH4jwP94I8QvdjfA/OQnEhZqT8D+VCZf/V5nwP/EJankVn/A/TQo989Kk8D+pChBtkKrwPwUL4+ZNsPA/YQu2YAu28D+8C4nayLvwPxgMXFSGwfA/dAwvzkPH8D/QDAJIAc3wPywN1cG+0vA/iA2oO3zY8D/jDXu1Od7wPz8OTi/34/A/mw4hqbTp8D/3DvQicu/wP1MPx5wv9fA/rw+aFu368D8KEG2QqgDxP2YQQApoBvE/whAThCUM8T8eEeb94hHxP3oRuXegF/E/1hGM8V0d8T8yEl9rGyPxP40SMuXYKPE/6RIFX5Yu8T9FE9jYUzTxP6ETq1IROvE//RN+zM4/8T9ZFFFGjEXxP7QUJMBJS/E/EBX3OQdR8T9sFcqzxFbxP8gVnS2CXPE/JBZwpz9i8T+AFkMh/WfxP9sWFpu6bfE/NxfpFHhz8T+TF7yONXnxP+8XjwjzfvE/SxhigrCE8T+nGDX8bYrxPwMZCHYrkPE/Xhnb7+iV8T+6Ga5pppvxPxYageNjofE/chpUXSGn8T/OGifX3qzxPyob+lCcsvE/hRvNylm48T/hG6BEF77xPz0cc77Uw/E/mRxGOJLJ8T/1HBmyT8/xP1Ed7CsN1fE/rB2/pcra8T8IHpIfiODxP2QeZZlF5vE/wB44EwPs8T8cHwuNwPHxP3gf3gZ+9/E/0x+xgDv98T8vIIT6+ALyP4sgV3S2CPI/5yAq7nMO8j9DIf1nMRTyP58h0OHuGfI/+yGjW6wf8j9WInbVaSXyP7IiSU8nK/I/DiMcyeQw8j9qI+9CojbyP8YjwrxfPPI/IiSVNh1C8j99JGiw2kfyP9kkOyqYTfI/NSUOpFVT8j+RJeEdE1nyP+0ltJfQXvI/SSaHEY5k8j+kJlqLS2ryPwAnLQUJcPI/XCcAf8Z18j+4J9P4g3vyPxQopnJBgfI/cCh57P6G8j/MKExmvIzyPycpH+B5kvI/gynyWTeY8j/fKcXT9J3yPzsqmE2yo/I/lyprx2+p8j/zKj5BLa/yP04rEbvqtPI/qivkNKi68j8GLLeuZcDyP2IsiigjxvI/vixdouDL8j8aLTAcntHyP3UtA5Zb1/I/0S3WDxnd8j8tLqmJ1uLyP4kufAOU6PI/5S5PfVHu8j9BLyL3DvTyP50v9XDM+fI/+C/I6on/8j9UMJtkRwXzP7Awbt4EC/M/DDFBWMIQ8z9oMRTSfxbzP8Qx50s9HPM/HzK6xfoh8z97Mo0/uCfzP9cyYLl1LfM/MzMzMzMz8z8=\",\"dtype\":\"float64\",\"shape\":[1000]},\"y\":{\"__ndarray__\":\"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\",\"dtype\":\"float64\",\"shape\":[1000]}}},\"id\":\"57ff3788-0071-447b-8215-9f355a73580b\",\"type\":\"ColumnDataSource\"},{\"attributes\":{\"plot\":{\"id\":\"335ec1f3-f116-43fb-a548-d1e0e8ef85fc\",\"subtype\":\"Figure\",\"type\":\"Plot\"}},\"id\":\"88b9f0cb-f114-4958-9766-edf9e8d2a6a6\",\"type\":\"WheelZoomTool\"},{\"attributes\":{\"active_drag\":\"auto\",\"active_scroll\":\"auto\",\"active_tap\":\"auto\",\"tools\":[{\"id\":\"e1102059-e7db-4478-b8f1-337ce394d0aa\",\"type\":\"PanTool\"},{\"id\":\"fe39f971-8c16-4ba9-a665-fdd57769e314\",\"type\":\"WheelZoomTool\"},{\"id\":\"50cbc16b-5268-449e-87d2-fbe5419febeb\",\"type\":\"BoxZoomTool\"},{\"id\":\"fd617167-2513-4d00-b6a2-64e285755fa6\",\"type\":\"SaveTool\"},{\"id\":\"804eb05d-b89f-4415-adc5-0f0f2822d8c8\",\"type\":\"ResetTool\"},{\"id\":\"4fb8b993-22b6-4f3a-88aa-76fced8283e8\",\"type\":\"HelpTool\"}]},\"id\":\"baf6a92e-9dbb-4081-a699-9bf39d1fafff\",\"type\":\"Toolbar\"},{\"attributes\":{\"axis_label\":\"house size\",\"axis_label_text_font_size\":{\"value\":\"9pt\"},\"formatter\":{\"id\":\"0df9782c-2bea-4b43-8168-b7300b77b2b3\",\"type\":\"BasicTickFormatter\"},\"plot\":{\"id\":\"2cdd458f-6686-4349-b9dd-458011aea2bc\",\"subtype\":\"Figure\",\"type\":\"Plot\"},\"ticker\":{\"id\":\"90144849-a6fb-4847-840a-1a778cc154bf\",\"type\":\"BasicTicker\"}},\"id\":\"c9a0812f-af26-4b9e-b980-7f50bcc79fcc\",\"type\":\"LinearAxis\"},{\"attributes\":{},\"id\":\"dbece326-5a54-46a3-a8f2-95cb02352069\",\"type\":\"ToolEvents\"},{\"attributes\":{\"overlay\":{\"id\":\"8a696b84-8398-4575-964a-c5f28c6fed79\",\"type\":\"BoxAnnotation\"},\"plot\":{\"id\":\"14112a07-1363-48d9-8411-9de1430e167e\",\"subtype\":\"Figure\",\"type\":\"Plot\"}},\"id\":\"50cbc16b-5268-449e-87d2-fbe5419febeb\",\"type\":\"BoxZoomTool\"},{\"attributes\":{\"line_color\":{\"value\":\"blue\"},\"x\":{\"field\":\"x\"},\"y\":{\"field\":\"y\"}},\"id\":\"c101fd70-96aa-4044-85cb-7036e78c8ca8\",\"type\":\"Line\"},{\"attributes\":{},\"id\":\"1a5ba497-c468-4018-a10b-f0e558f39611\",\"type\":\"BasicTicker\"},{\"attributes\":{\"axis_label_text_font_size\":{\"value\":\"9pt\"},\"formatter\":{\"id\":\"4f9a6ce9-42c9-4e74-a39f-c4b69caa9d7c\",\"type\":\"BasicTickFormatter\"},\"plot\":{\"id\":\"335ec1f3-f116-43fb-a548-d1e0e8ef85fc\",\"subtype\":\"Figure\",\"type\":\"Plot\"},\"ticker\":{\"id\":\"5673efb8-427c-4c0c-8a2e-a379320147af\",\"type\":\"BasicTicker\"}},\"id\":\"68d8f51b-b0e3-48dc-b108-75b742da6464\",\"type\":\"LinearAxis\"},{\"attributes\":{\"plot\":{\"id\":\"14112a07-1363-48d9-8411-9de1430e167e\",\"subtype\":\"Figure\",\"type\":\"Plot\"}},\"id\":\"e1102059-e7db-4478-b8f1-337ce394d0aa\",\"type\":\"PanTool\"},{\"attributes\":{\"bottom_units\":\"screen\",\"fill_alpha\":{\"value\":0.5},\"fill_color\":{\"value\":\"lightgrey\"},\"left_units\":\"screen\",\"level\":\"overlay\",\"line_alpha\":{\"value\":1.0},\"line_color\":{\"value\":\"black\"},\"line_dash\":[4,4],\"line_width\":{\"value\":2},\"plot\":null,\"render_mode\":\"css\",\"right_units\":\"screen\",\"top_units\":\"screen\"},\"id\":\"8a696b84-8398-4575-964a-c5f28c6fed79\",\"type\":\"BoxAnnotation\"},{\"attributes\":{\"callback\":null,\"column_names\":[\"x\",\"y\"],\"data\":{\"x\":{\"__ndarray__\":\"exSuR+F6hD8qHSlQNcWTP7U4bubUFaM/NdvkMohssj8ESFBNGcnBP2JlpStUK9E/d9N4kQaT4D8AAAAAAADwPw==\",\"dtype\":\"float64\",\"shape\":[8]},\"y\":{\"__ndarray__\":\"mFTPLeiE8j/9CkHYOsn4P+9CRWpgUAhAuf5G+DbJE0D01/ulsMoWQAHhRdOMqxxA1ilwpbpXIkDvQCA9AvMiQA==\",\"dtype\":\"float64\",\"shape\":[8]}}},\"id\":\"7eef3207-3559-493f-8469-e18b4e9bd749\",\"type\":\"ColumnDataSource\"},{\"attributes\":{\"plot\":{\"id\":\"335ec1f3-f116-43fb-a548-d1e0e8ef85fc\",\"subtype\":\"Figure\",\"type\":\"Plot\"}},\"id\":\"4ec1e3c3-83e1-45b2-a7f3-58de1d34107f\",\"type\":\"PanTool\"},{\"attributes\":{},\"id\":\"81f61a10-dc72-489f-8808-681e34e5a428\",\"type\":\"BasicTicker\"},{\"attributes\":{\"data_source\":{\"id\":\"879a5681-3a75-4164-ac6a-3ca01a0cd9da\",\"type\":\"ColumnDataSource\"},\"glyph\":{\"id\":\"55e56903-e9e4-4226-9341-5e43bca5268a\",\"type\":\"X\"},\"hover_glyph\":null,\"nonselection_glyph\":{\"id\":\"603b2224-ad68-49fb-bcec-8400b51caa76\",\"type\":\"X\"},\"selection_glyph\":null},\"id\":\"736305cb-faa4-4f7f-8e12-a86739c26b8b\",\"type\":\"GlyphRenderer\"},{\"attributes\":{\"fill_alpha\":{\"value\":0.1},\"fill_color\":{\"value\":\"#1f77b4\"},\"line_alpha\":{\"value\":0.1},\"line_color\":{\"value\":\"#1f77b4\"},\"size\":{\"units\":\"screen\",\"value\":12},\"x\":{\"field\":\"x\"},\"y\":{\"field\":\"y\"}},\"id\":\"2b22ca14-f26e-4ff7-867f-86c075149179\",\"type\":\"X\"},{\"attributes\":{\"active_drag\":\"auto\",\"active_scroll\":\"auto\",\"active_tap\":\"auto\",\"tools\":[{\"id\":\"4ec1e3c3-83e1-45b2-a7f3-58de1d34107f\",\"type\":\"PanTool\"},{\"id\":\"88b9f0cb-f114-4958-9766-edf9e8d2a6a6\",\"type\":\"WheelZoomTool\"},{\"id\":\"5e06fcf1-809b-4435-b6ea-3fc46856e73c\",\"type\":\"BoxZoomTool\"},{\"id\":\"e9054216-f070-407e-b00a-4e7c15c7333b\",\"type\":\"SaveTool\"},{\"id\":\"22c24c9c-6475-45ba-bfa9-8aea2e0e262d\",\"type\":\"ResetTool\"},{\"id\":\"49137a38-88e0-4e81-bbc2-acbbb839c04b\",\"type\":\"HelpTool\"}]},\"id\":\"59c89195-62c7-4c68-9100-13fd3fca2d9f\",\"type\":\"Toolbar\"},{\"attributes\":{\"plot\":{\"id\":\"2cdd458f-6686-4349-b9dd-458011aea2bc\",\"subtype\":\"Figure\",\"type\":\"Plot\"}},\"id\":\"8d634f4c-7c9a-48b8-a792-1af28c34c680\",\"type\":\"WheelZoomTool\"},{\"attributes\":{},\"id\":\"0ce42d07-df4c-4933-a86f-fcf860a88446\",\"type\":\"BasicTicker\"},{\"attributes\":{\"callback\":null,\"column_names\":[\"x\",\"y\"],\"data\":{\"x\":{\"__ndarray__\":\"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\",\"dtype\":\"float64\",\"shape\":[1000]},\"y\":{\"__ndarray__\":\"6OzHW+GxC8BWT5wd7loLwIradqEcBAvAfo5X52ytCsA4az7v3lYKwLRwK7lyAArA9p4eRSiqCcD69ReT/1MJwMB1F6P4/QjASh4ddROoCMCa7ygJUFIIwKrpOl+u/AfAgAxTdy6nB8AWWHFR0FEHwHTMle2T/AbAkmnAS3mnBsB0L/FrgFIGwBoeKE6p/QXAhDVl8vOoBcCudahYYFQFwJ7e8YDu/wTAVHBBa56rBMDKKpcXcFcEwAQO84VjAwTAABpVtnivA8DCTr2or1sDwEasK10ICAPAjDKg04K0AsCa4RoMH2ECwGa5mwbdDQLA+Lkiw7y6AcBM469BvmcBwGY1Q4LhFAHAQrDchCbCAMDiU3xJjW8AwEQgItAVHQDA1iqcMYCV/7+oZgBHGPH+vwD0cODzTP6/4tLt/RKp/b9GA3efdQX9vziFDMUbYvy/rliubgW/+7+mfVycMhz7vyz0Fk6jefq/NLzdg1fX+b/E1bA9TzX5v9xAkHuKk/i/ev17PQny97+eC3SDy1D3v0preE3Rr/a/ehyJmxoP9r80H6Ztp271v3Rzz8N3zvS/PBkFnosu9L+GEEf84o7zv1xZld597/K/tPPvRFxQ8r+Y31YvfrHxv/4cyp3jEvG/7qtJkIx08L/EGKsN8qzvv8R82wJSce6/yIMkADk27b/cLYYFp/vrvwB7ABOcweq/LGuTKBiI6b9s/j5GG0/ov7Q0A2ylFue/EA7gmbbe5b90itXPTqfkv+ip4w1ucOO/aGwKVBQ64r/40UmiQQThvyi1Q/Hrnd+/eAwlrmI03b/oqTd758vav3iNe1h6ZNi/GLfwRRv+1b/YJpdDypjTv7DcblGHNNG/ULHv3qSizb+ANWQ7V97Iv9BFO7glHMS/4MTpqiC4vr9AFiImLjy1v6AAP8TniKe/ABUQ946Hgr8AilmOX3mcP1CvSWVpibA/oOM3pkLwuT/AfzDTcanBP5CB4jKmWMY/APcxcr4Fyz9g4B6RurDPP8Ce1EfNLNI/LIfoNi+A1D+EKcsVg9LWP8SFfOTII9k/6Jv8ogB02z/ka0tRKsPdP+p6tPeiCOA/0pyqvikv4T+wG4h9KVXiP3j3TDSieuM/ODD54pOf5D/sxYyJ/sPlP5C4Byji5+Y/JAhqvj4L6D+utLNMFC7pPyy+5NJiUOo/miT9UCpy6z/25/zGapPsP0oI5DQktO0/kIWymlbU7j/EX2j4AfTvP3jLAieTifA/hxXFzeEY8T8PDnvw7KfxPw21JI+0NvI/iArCqTjF8j98DlNAeVPzP+nA11J24fM/zCFQ4S9v9D8sMbzrpfz0PwTvG3LYifU/VltvdMcW9j8edrbycqP2P2I/8ezaL/c/ILcfY/+79z9U3UFV4Ef4PwSyV8N90/g/LTVhrdde+T/QZl4T7un5P+hGT/XAdPo/fdUzU1D/+j+LEgwtnIn7PxP+14KkE/w/EJiXVGmd/D+K4Eqi6ib9P33X8WsosP0/6XyMsSI5/j/L0Bpz2cH+PyrTnLBMSv8/AoQSanzS/z+o8b1PNC0AQI14bKgIcQBAr9YUP7u0AEANDLcTTPgAQKcYUya7OwFAfvzodgh/AUCSt3gFNMIBQONJAtI9BQJAb7OF3CVIAkA59AIl7IoCQEAMequQzQJAgvvqbxMQA0ABwlVydFIDQL5furKzlANAttQYMdHWA0DsIHHtzBgEQF1Ew+emWgRADD8PIF+cBED3EFWW9d0EQB66lEpqHwVAgjrOPL1gBUAkkgFt7qEFQALBLtv94gVAGsdVh+sjBkBypHZxt2QGQAVZkZlhpQZA1uSl/+nlBkDhR7SjUCYHQCqCvIWVZgdAsJO+pbimB0BzfLoDuuYHQHI8sJ+ZJghArdOfeVdmCEAmQomR86UIQNuHbOdt5QhAy6RJe8YkCUD4mCBN/WMJQGRk8VwSowlACwe8qgXiCUDwgIA21yAKQBDSPgCHXwpAbPr2BxWeCkAH+qhNgdwKQNzQVNHLGgtA7n76kvRYC0BABJqS+5YLQMpgM9Dg1AtAkpTGS6QSDECan1MFRlAMQNqB2vzFjQxAWjtbMiTLDEAUzNWlYAgNQAs0Sld7RQ1AQXO4RnSCDUCxiSB0S78NQF53gt8A/A1ASjzeiJQ4DkBw2DNwBnUOQNRLg5VWsQ5AdJbM+ITtDkBQuA+akSkPQGqxTHl8ZQ9Av4GDlkWhD0BQKbTx7NwPQBBUb0U5DBBAFn8BMespEEC6lZA7jEcQQPyXHGUcZRBA3YWlrZuCEEBcXysVCqAQQHokrptnvRBANdUtQbTaEECQcaoF8PcQQIf5I+kaFRFAHm2a6zQyEUBTzA0NPk8RQCYXfk02bBFAmE3rrB2JEUCob1Ur9KURQFR9vMi5whFAonYghW7fEUCMW4FgEvwRQBQs31qlGBJAPOg5dCc1EkACkJGsmFESQGYj5gP5bRJAaKI3ekiKEkAIDYYPh6YSQEhj0cO0whJAJKUZl9HeEkCg0l6J3foSQLrroJrYFhNAcvDfysIyE0DH4BsanE4TQL28VIhkahNAUISKFRyGE0CAN73BwqETQFDW7IxYvRNAvmAZd93YE0DL1kKAUfQTQHQ4aai0DxRAvYWM7wYrFECkvqxVSEYUQCrjydp4YRRATfPjfph8FEAQ7/pBp5cUQHDWDiSlshRAbqkfJZLNFEAMaC1FbugUQEYSOIQ5AxVAIKg/4vMdFUCXKURfnTgVQK2WRfs1UxVAYu9Dtr1tFUC0Mz+QNIgVQKZjN4maohVANX8soe+8FUBihh7YM9cVQC95DS5n8RVAmVf5ookLFkChIeI2myUWQEjXx+mbPxZAjniqu4tZFkBwBYqsanMWQPN9Zrw4jRZAEuI/6/WmFkDSMRY5osAWQC5t6aU92hZAKJS5McjzFkDCpobcQQ0XQPmkUKaqJhdAz44XjwJAF0BEZNuWSVkXQFYlnL1/chdABtJZA6WLF0BWahRouaQXQEPuy+u8vRdAz12Ajq/WF0D5uDFQke8XQMD/3zBiCBhAKDKLMCIhGEAtUDNP0TkYQM9Z2IxvUhhAEk966fxqGEDxLxlleYMYQG/8tP/kmxhAi7RNuT+0GEBGWOORicwYQJ/ndYnC5BhAl2IFoOr8GEAsyZHVARUZQGAbGyoILRlAM1mhnf1EGUCjgiQw4lwZQLKXpOG1dBlAX5ghsniMGUCrhJuhKqQZQJVcErDLuxlAHCCG3VvTGUBDz/Yp2+oZQAhqZJVJAhpAavDOH6cZGkBsYjbJ8zAaQAvAmpEvSBpASQn8eFpfGkAlPlp/dHYaQKBetaR9jRpAuWoN6XWkGkBwYmJMXbsaQMVFtM4z0hpAuRQDcPnoGkBLz04wrv8aQHt1lw9SFhtASgfdDeUsG0C3hB8rZ0MbQMPtXmfYWRtAa0KbwjhwG0CzgtQ8iIYbQJquCtbGnBtAHsY9jvSyG0BByW1lEckbQAK4mlsd3xtAYZLEcBj1G0BfWOukAgscQPsJD/jbIBxANacvaqQ2HEAOME37W0wcQIWkZ6sCYhxAmgR/eph3HEBOUJNoHY0cQJ+HpHWRohxAj6qyofS3HEAeub3sRs0cQEqzxVaI4hxAFZnK37j3HEB+asyH2AwdQIYny07nIR1ALdDGNOU2HUBwZL850ksdQFPktF2uYB1A1E+noHl1HUDzppYCNIodQLHpgoPdnh1ADBhsI3azHUAFMlLi/ccdQJ83NcB03B1A1igVvdrwHUCqBfLYLwUeQB7OyxN0GR5AL4KibactHkDfIXbmyUEeQC6tRn7bVR5AGSQUNdxpHkCkht4KzH0eQMzUpf+qkR5AlQ5qE3mlHkD7MytGNrkeQP5E6ZfizB5AoEGkCH7gHkDiKVyYCPQeQML9EEeCBx9APb3CFOsaH0BaaHEBQy4fQBP/HA2KQR9Aa4HFN8BUH0Bi72qB5WcfQPdIDer5eh9AKY6scf2NH0D6vkgY8KAfQGvb4d3Rsx9AeON3wqLGH0Ak1wrGYtkfQG+2mugR7B9AV4EnKrD+H0Dwm1jFngggQALtGwXdESBA5LNd1BIbIECV8B0zQCQgQBajXCFlLSBAZMsZn4E2IECDaVWslT8gQHB9D0mhSCBALgdIdaRRIEC6Bv8wn1ogQBR8NHyRYyBAQGfoVntsIEA4yBrBXHUgQAGfy7o1fiBAmuv6QwaHIED/rahczo8gQDbm1ASOmCBAO5R/PEWhIEAOuKgD9KkgQLNRUFqasiBAJmF2QDi7IEBm5hq2zcMgQHjhPbtazCBAWFLfT9/UIEAHOf9zW90gQIaVnSfP5SBA02e6ajruIEDwr1U9nfYgQNxtb5/3/iBAlqEHkUkHIUAgSx4Skw8hQHpqsyLUFyFAov/GwgwgIUCaClnyPCghQGCLabFkMCFA9oH4/4M4IUBc7gXemkAhQJDQkUupSCFAkyicSK9QIUBm9iTVrFghQAg6LPGhYCFAePOxnI5oIUC5IrbXcnAhQMbHOKJOeCFApuI5/CGAIUBTc7nl7IchQNB5t16vjyFAHPYzZ2mXIUA26C7/Gp8hQCBQqCbEpiFA2S2g3WSuIUBigRYk/bUhQLpKC/qMvSFA4Il+XxTFIUDWPnBUk8whQJtp4NgJ1CFALgrP7HfbIUCSIDyQ3eIhQMSsJ8M66iFAxa6RhY/xIUCWJnrX2/ghQDYU4bgfACJApXfGKVsHIkDjUCoqjg4iQPGfDLq4FSJAzmRt2docIkB4n0yI9CMiQPRPqsYFKyJAPnaGlA4yIkBWEuHxDjkiQEAkut4GQCJA9qsRW/ZGIkB9qedm3U0iQNIcPAK8VCJA+AUPLZJbIkDsZGDnX2IiQK45MDElaSJAQIR+CuJvIkCiREtzlnYiQNN6lmtCfSJA0iZg8+WDIkChSKgKgYoiQD/gbrETkSJAre2z552XIkDpcHetH54iQPRpuQKZpCJAzth55wmrIkB5vbhbcrEiQPIXdl/StyJAOuix8im+IkBSLmwVecQiQDfqpMe/yiJA7RtcCf7QIkByw5HaM9ciQMbgRTth3SJA6XN4K4bjIkDbfCmroukiQJz7WLq27yJALfAGWcL1IkCMWjOHxfsiQLs63kTAASNAuZAHkrIHI0CGXK9unA0jQCKe1dp9EyNAjlV61lYZI0DIgp1hJx8jQNIlP3zvJCNAqz5fJq8qI0BTzf1fZjAjQMrRGikVNiNAEEy2gbs7I0AmPNBpWUEjQAuiaOHuRiNAvn1/6HtMI0BBzxR/AFIjQJOWKKV8VyNAtNO6WvBcI0ClhsufW2IjQGSvWnS+ZyNA8k1o2BhtI0BQYvTLanIjQH7s/k60dyNAeeyHYfV8I0BEYo8DLoIjQOBNFTVehyNASa8Z9oWMI0CChpxGpZEjQIrTnSa8liNAYZYdlsqbI0AGzxuV0KAjQHx9mCPOpSNAwaGTQcOqI0DUOw3vr68jQLdLBSyUtCNAatF7+G+5I0DqzHBUQ74jQDo+5D8OwyNAWiXWutDHI0BIgkbFiswjQAZVNV880SNAk52iiOXVI0DuW45BhtojQBqQ+Ike3yNAFDrhYa7jI0DeWUjJNegjQHbvLcC07CNA3vqRRivxI0AWfHRcmfUjQBtz1QH/+SNA8N+0Nlz+I0CVwhL7sAIkQAgb7079BiRAS+lJMkELJEBdLSOlfA8kQD7neqevEyRA7hZROdoXJEBtvKVa/BskQLzXeAsWICRA2mjKSyckJEDGb5obMCgkQILs6HowLCRADd+1aSgwJEBnRwHoFzQkQJEly/X+NyRAiXkTk907JEBRQ9q/sz8kQOiCH3yBQyRATTjjx0ZHJECCYyWjA0skQIcE5g24TiRAWhslCGRSJED9p+KRB1YkQG+qHquiWSRAryLZUzVdJEC/EBKMv2AkQJ90yVNBZCRATU7/qrpnJEDLnbORK2skQBdj5geUbiRAMp6XDfRxJEAeT8eiS3UkQNh1dceaeCRAYRKie+F7JEC5JE2/H38kQOGsdpJVgiRA2Koe9YKFJECdHkXnp4gkQDMI6mjEiyRAl2cNetiOJEDKPK8a5JEkQMyHz0rnlCRAnkhuCuKXJEA/f4tZ1JokQK8rJzi+nSRA7k1Bpp+gJED85dmjeKMkQNnz8DBJpiRAhneGTRGpJEABcZr50KskQEzgLDWIriRAZsU9ADexJEBPIM1a3bMkQAjx2kR7tiRAjzdnvhC5JEDm83HHnbskQAwm+18iviRAAM4CiJ7AJEDE64g/EsMkQFh/jYZ9xSRAuogQXeDHJEDsBxLDOsokQOz8kbiMzCRAvGeQPdbOJEBbSA1SF9EkQMmeCPZP0yRABmuCKYDVJEATrXrsp9ckQO5k8T7H2SRAmZLmIN7bJEATNlqS7N0kQFxPTJPy3yRAdN68I/DhJEBc46tD5eMkQBJeGfPR5SRAl04FMrbnJEDstG8AkukkQBCRWF5l6yRAA+O/SzDtJEDFqqXI8u4kQFfoCdWs8CRAt5vscF7yJEDnxE2cB/QkQOZjLVeo9SRAtHiLoUD3JEBRA2h70PgkQL0Dw+RX+iRA+Hmc3db7JEADZvRlTf0kQN3Hyn27/iRAhp8fJSEAJUD+7PJbfgElQEWwRCLTAiVAW+kUeB8EJUBBmGNdYwUlQPa8MNKeBiVAeld81tEHJUDMZ0Zq/AglQO7tjo0eCiVA4OlVQDgLJUCgW5uCSQwlQDBDX1RSDSVAjqChtVIOJUC8c2KmSg8lQLm8oSY6ECVAhntfNiERJUAhsJvV/xElQIxaVgTWEiVAxXqPwqMTJUDOEEcQaRQlQKYcfe0lFSVATZ4xWtoVJUDDlWRWhhYlQAkDFuIpFyVAHeZF/cQXJUABP/SnVxglQLMNIeLhGCVANlLMq2MZJUCHDPYE3RklQKc8nu1NGiVAluLEZbYaJUBV/mltFhslQOOPjQRuGyVAQJcvK70bJUBsFFDhAxwlQGcH7yZCHCVAMXAM/HccJUDLTqhgpRwlQDSjwlTKHCVAbG1b2OYcJUByrXLr+hwlQEhjCI4GHSVA7o4cwAkdJUBiMK+BBB0lQKZHwNL2HCVAudRPs+AcJUCa110jwhwlQEtQ6iKbHCVAzD71sWscJUAbo37QMxwlQDp9hn7zGyVAJ80MvKobJUDkkhGJWRslQHDOlOX/GiVAy3+W0Z0aJUD1phZNMxolQO9DFVjAGSVAt1aS8kQZJUBP340cwRglQLbdB9Y0GCVA7FEAH6AXJUDxO3f3AhclQMabbF9dFiVAaHHgVq8VJUDbvNLd+BQlQB1+Q/Q5FCVALrUymnITJUAOYqDPohIlQL6EjJTKESVAOx336OkQJUCJK+DMABAlQKavR0APDyVAkqktQxUOJUBNGZLVEg0lQNf+dPcHDCVAMFrWqPQKJUBZK7bp2AklQFByFLq0CCVAFy/xGYgHJUCtYUwJUwYlQBIKJogVBSVARih+ls8DJUBJvFQ0gQIlQBzGqWEqASVAvkV9Hsv/JEAvO89qY/4kQG6mn0bz/CRAfYfusXr7JEBc3rus+fkkQAmrBzdw+CRAhu3RUN72JEDRpRr6Q/UkQOzT4TKh8yRA1ncn+/XxJECQketSQvAkQBghLjqG7iRAcCbvsMHsJECWoS639OokQIyS7Ewf6SRAUfkockHnJEDl1eMmW+UkQEgoHWts4yRAe/DUPnXhJEB8Lguidd8kQE3iv5Rt3SRA7AvzFl3bJEBcq6QoRNkkQJrA1Mki1yRAp0uD+vjUJECDTLC6xtIkQC/DWwqM0CRAqq+F6UjOJED0ES5Y/cskQA3qVFapySRA9Tf640zHJECs+x0B6MQkQDM1wK16wiRAieTg6QTAJECuCYC1hr0kQKKknRAAuyRAZLU5+3C4JED3O1R12bUkQFg47X45syRAiaoEGJGwJECJkppA4K0kQFfwrvgmqyRA9cNBQGWoJEBjDVMXm6UkQJ/M4n3IoiRAqwHxc+2fJECFrH35CZ0kQC7NiA4emiRAqGMSsymXJEDwbxrnLJQkQAjyoKonkSRA7uml/RmOJECkVyngA4skQCg7K1LlhyRAfJSrU76EJECfY6rkjoEkQJGoJwVXfiRAU2MjtRZ7JEDik530zXckQEI6lsN8dCRAcVYNIiNxJEBv6AIQwW0kQD3wdo1WaiRA2W1pmuNmJEBDYdo2aGMkQH7KyWLkXyRAiKk3HlhcJEBh/iNpw1gkQAnJjkMmVSRAgQl4rYBRJEDGv9+m0k0kQNzrxS8cSiRAwI0qSF1GJEB1pQ3wlUIkQPgybyfGPiRASTZP7u06JEBqr61EDTckQFueiiokMyRAGgPmnzIvJECp3b+kOCskQAcuGDk2JyRAM/TuXCsjJEAwMEQQGB8kQPvhF1P8GiRAlQlqJdgWJEAApzqHqxIkQDm6iXh2DiRAQENX+TgKJEAXQqMJ8wUkQL22bamkASRAMqG22E39I0B3AX6X7vgjQIrXw+WG9CNAbSOIwxbwI0Af5cownusjQKAcjC0d5yNA8MnLuZPiI0AQ7YnVAd4jQP6FxoBn2SNAvJSBu8TUI0BJGbuFGdAjQKUTc99lyyNA0IOpyKnGI0DKaV5B5cEjQJTFkUkYvSNALJdD4UK4I0CU3nMIZbMjQMybIr9+riNA0s5PBZCpI0Cmd/vamKQjQEqWJUCZnyNAvirONJGaI0ACNfW4gJUjQBO1msxnkCNA9Kq+b0aLI0CkFmGiHIYjQCP4gWTqgCNAck8htq97I0CQHD+XbHYjQHxf2wchcSNAOBj2B81rI0DCRo+XcGYjQB3rprYLYSNARwU9ZZ5bI0BAlVGjKFYjQAib5HCqUCNAnRb2zSNLI0ADCIa6lEUjQDhvlDb9PyNAPEwhQl06I0ARnyzdtDQjQLRntgcELyNAJKa+wUopI0BlWkULiSMjQHWESuS+HSNAVCTOTOwXI0AEOtBEERIjQIHFUMwtDCNAzcZP40EGI0DqPc2JTQAjQNQqyb9Q+iJAjI1DhUv0IkAYZjzaPe4iQHC0s74n6CJAmHipMgniIkCOsh024tsiQFJiEMmy1SJA6IeB63rPIkBMI3GdOskiQIE0397xwiJAgrvLr6C8IkBVuDYQR7YiQPUqIADlryJAZBOIf3qpIkCkcW6OB6MiQLJF0yyMnCJAkI+2WgiWIkA8TxgYfI8iQLaE+GTniCJAAjBXQUqCIkAcUTStpHsiQAfoj6j2dCJAvvRpM0BuIkBEd8JNgWciQJxvmfe5YCJAwd3uMOpZIkC2wcL5EVMiQHobFVIxTCJAD+vlOUhFIkBwMDWxVj4iQKHrArhcNyJAohxPTlowIkBxwxl0TykiQBHgYik8IiJAgHIqbiAbIkC8enBC/BMiQMn4NKbPDCJApOx3mZoFIkBQVjkcXf4hQMg1eS4X9yFAEos30MjvIUAqVnQBcughQBGXL8IS4SFAyE1pEqvZIUBNeiHyOtIhQKAcWGHCyiFAxjQNYEHDIUC5wkDut7shQHzG8gsmtCFADEAjuYusIUBuL9L16KQhQJyU/8E9nSFAmm+rHYqVIUBqwNUIzo0hQAaHfoMJhiFAdMOljTx+IUCudUsnZ3YhQLidb1CJbiFAkjsSCaNmIUA8TzNRtF4hQLXY0ii9ViFA+9fwj71OIUASTY2GtUYhQPc3qAylPiFAqphBIow2IUAwb1nHai4hQIK77/tAJiFApn0EwA4eIUCWtZcT1BUhQFVjqfaQDSFA5oY5aUUFIUBEIEhr8fwgQHQv1fyU9CBAcLTgHTDsIEA6r2rOwuMgQNcfcw5N2yBAQAb63c7SIEB7Yv88SMogQIQ0gyu5wSBAXXyFqSG5IEADOga3gbAgQHhtBVTZpyBAvhaDgCifIEDSNX88b5YgQLfK+YetjSBAatXyYuOEIEDrVWrNEHwgQD1MYMc1cyBAXLjUUFJqIEBNmsdpZmEgQAryOBJyWCBAmL8oSnVPIED2ApcRcEYgQCG8g2hiPSBAHuvuTkw0IEDmj9jELSsgQH+qQMoGIiBA6jonX9cYIEAhQYyDnw8gQCm9bzdfBiBA/F2j9Sz6H0BJLWSbiucfQC/oIWDX1B9At47cQxPCH0DfIJRGPq8fQKCeSGhYnB9ABQj6qGGJH0ADXagIWnYfQJ+dU4dBYx9A3sn7JBhQH0C64aDh3TwfQDblQr2SKR9AS9ThtzYWH0D/rn3RyQIfQFZ1FgpM7x5ARiesYb3bHkDdxD7YHcgeQApOzm1ttB5A2sJaIqygHkBDI+T12YweQEtvauj2eB5A9qbt+QJlHkA+ym0q/lAeQCXZ6nnoPB5Ap9Nk6MEoHkDGudt1ihQeQIiLTyJCAB5A5EjA7ejrHUDj8S3YftcdQH+GmOEDwx1AtgYACniuHUCQcmRR25kdQATKxbcthR1AGg0kPW9wHUDKO3/hn1sdQCFW16S/Rh1ADlwsh84xHUCZTX6IzBwdQMcqzai5Bx1AjvMY6JXyHED5p2FGYd0cQAFIp8MbyBxAo9PpX8WyHEDpSikbXp0cQMitZfXlhxxASvye7lxyHEBmNtUGw1wcQCBcCD4YRxxAgG04lFwxHEB3amUJkBscQBFTj52yBRxARCe2UMTvG0Aa59kixdkbQIqS+hO1wxtAnCkYJJStG0BNrDJTYpcbQJgaSqEfgRtAhXReDsxqG0A=\",\"dtype\":\"float64\",\"shape\":[1000]}}},\"id\":\"d5c7ea75-bbc6-414f-97f4-c2dc13d2b58a\",\"type\":\"ColumnDataSource\"},{\"attributes\":{\"plot\":{\"id\":\"2cdd458f-6686-4349-b9dd-458011aea2bc\",\"subtype\":\"Figure\",\"type\":\"Plot\"}},\"id\":\"ca9ffe40-2f4b-4263-8b52-dc26681f647f\",\"type\":\"HelpTool\"},{\"attributes\":{},\"id\":\"5673efb8-427c-4c0c-8a2e-a379320147af\",\"type\":\"BasicTicker\"},{\"attributes\":{\"data_source\":{\"id\":\"7eef3207-3559-493f-8469-e18b4e9bd749\",\"type\":\"ColumnDataSource\"},\"glyph\":{\"id\":\"eb65c48f-d64a-4cc3-818b-9ad029d57735\",\"type\":\"X\"},\"hover_glyph\":null,\"nonselection_glyph\":{\"id\":\"2b22ca14-f26e-4ff7-867f-86c075149179\",\"type\":\"X\"},\"selection_glyph\":null},\"id\":\"f99694b7-00bd-48c9-8310-57f639b208ce\",\"type\":\"GlyphRenderer\"},{\"attributes\":{\"plot\":{\"id\":\"14112a07-1363-48d9-8411-9de1430e167e\",\"subtype\":\"Figure\",\"type\":\"Plot\"}},\"id\":\"fd617167-2513-4d00-b6a2-64e285755fa6\",\"type\":\"SaveTool\"},{\"attributes\":{\"plot\":{\"id\":\"335ec1f3-f116-43fb-a548-d1e0e8ef85fc\",\"subtype\":\"Figure\",\"type\":\"Plot\"}},\"id\":\"22c24c9c-6475-45ba-bfa9-8aea2e0e262d\",\"type\":\"ResetTool\"},{\"attributes\":{\"axis_label\":\"house size\",\"axis_label_text_font_size\":{\"value\":\"9pt\"},\"formatter\":{\"id\":\"a0708b08-45b8-442c-bfca-dc1d52b5e203\",\"type\":\"BasicTickFormatter\"},\"plot\":{\"id\":\"335ec1f3-f116-43fb-a548-d1e0e8ef85fc\",\"subtype\":\"Figure\",\"type\":\"Plot\"},\"ticker\":{\"id\":\"0ce42d07-df4c-4933-a86f-fcf860a88446\",\"type\":\"BasicTicker\"}},\"id\":\"2c6a625f-0e70-4469-aa14-f0bfa1aac307\",\"type\":\"LinearAxis\"},{\"attributes\":{},\"id\":\"a0708b08-45b8-442c-bfca-dc1d52b5e203\",\"type\":\"BasicTickFormatter\"},{\"attributes\":{\"plot\":null,\"text\":\"d = 2\",\"text_font_size\":{\"value\":\"11pt\"}},\"id\":\"c0a694fb-2fa7-4427-9d07-50ee0653f769\",\"type\":\"Title\"},{\"attributes\":{\"plot\":{\"id\":\"335ec1f3-f116-43fb-a548-d1e0e8ef85fc\",\"subtype\":\"Figure\",\"type\":\"Plot\"},\"ticker\":{\"id\":\"0ce42d07-df4c-4933-a86f-fcf860a88446\",\"type\":\"BasicTicker\"}},\"id\":\"be7f7e78-6ad6-417c-aa8e-460272adf511\",\"type\":\"Grid\"},{\"attributes\":{\"line_alpha\":{\"value\":0.1},\"line_color\":{\"value\":\"#1f77b4\"},\"x\":{\"field\":\"x\"},\"y\":{\"field\":\"y\"}},\"id\":\"782bfc4e-15bd-4892-9a3c-45e5db8ef8fd\",\"type\":\"Line\"},{\"attributes\":{\"dimension\":1,\"plot\":{\"id\":\"14112a07-1363-48d9-8411-9de1430e167e\",\"subtype\":\"Figure\",\"type\":\"Plot\"},\"ticker\":{\"id\":\"2dbb2432-fb51-40ec-9188-2095f77f1ccb\",\"type\":\"BasicTicker\"}},\"id\":\"3739553d-68cc-494f-a10f-9919c9f80399\",\"type\":\"Grid\"},{\"attributes\":{\"bottom_units\":\"screen\",\"fill_alpha\":{\"value\":0.5},\"fill_color\":{\"value\":\"lightgrey\"},\"left_units\":\"screen\",\"level\":\"overlay\",\"line_alpha\":{\"value\":1.0},\"line_color\":{\"value\":\"black\"},\"line_dash\":[4,4],\"line_width\":{\"value\":2},\"plot\":null,\"render_mode\":\"css\",\"right_units\":\"screen\",\"top_units\":\"screen\"},\"id\":\"73dc0237-bcd5-4f78-9227-a3462d7c021e\",\"type\":\"BoxAnnotation\"},{\"attributes\":{\"below\":[{\"id\":\"e73efa85-1842-472a-82f3-2fe79427ecdf\",\"type\":\"LinearAxis\"}],\"left\":[{\"id\":\"3bd5c1d5-7c53-4b7a-a797-9269f5c8a7ae\",\"type\":\"LinearAxis\"}],\"plot_height\":240,\"plot_width\":240,\"renderers\":[{\"id\":\"e73efa85-1842-472a-82f3-2fe79427ecdf\",\"type\":\"LinearAxis\"},{\"id\":\"28c85773-c616-4fa3-b2df-e6caa412f929\",\"type\":\"Grid\"},{\"id\":\"3bd5c1d5-7c53-4b7a-a797-9269f5c8a7ae\",\"type\":\"LinearAxis\"},{\"id\":\"3739553d-68cc-494f-a10f-9919c9f80399\",\"type\":\"Grid\"},{\"id\":\"8a696b84-8398-4575-964a-c5f28c6fed79\",\"type\":\"BoxAnnotation\"},{\"id\":\"736305cb-faa4-4f7f-8e12-a86739c26b8b\",\"type\":\"GlyphRenderer\"},{\"id\":\"ee13153b-0291-43c8-9a44-7278f99ad136\",\"type\":\"GlyphRenderer\"}],\"title\":{\"id\":\"7fae1701-de7b-45a0-a39d-0c3cffc047a0\",\"type\":\"Title\"},\"tool_events\":{\"id\":\"c14a216a-fdf6-476c-a2f9-8e3684217154\",\"type\":\"ToolEvents\"},\"toolbar\":{\"id\":\"baf6a92e-9dbb-4081-a699-9bf39d1fafff\",\"type\":\"Toolbar\"},\"toolbar_location\":null,\"x_range\":{\"id\":\"16aa6a66-540e-4ade-81ad-13377c35b7bd\",\"type\":\"Range1d\"},\"y_range\":{\"id\":\"261de5c0-0645-4c01-8e1e-d1425ff2df07\",\"type\":\"Range1d\"}},\"id\":\"14112a07-1363-48d9-8411-9de1430e167e\",\"subtype\":\"Figure\",\"type\":\"Plot\"},{\"attributes\":{\"line_color\":{\"value\":\"blue\"},\"x\":{\"field\":\"x\"},\"y\":{\"field\":\"y\"}},\"id\":\"cb27527e-d026-41dd-a3e6-8b91b9d600ef\",\"type\":\"Line\"},{\"attributes\":{\"callback\":null,\"end\":12},\"id\":\"97f3d494-8d46-4d27-8d79-bb2e3876df40\",\"type\":\"Range1d\"},{\"attributes\":{\"fill_color\":{\"value\":\"black\"},\"size\":{\"units\":\"screen\",\"value\":12},\"x\":{\"field\":\"x\"},\"y\":{\"field\":\"y\"}},\"id\":\"0df29b98-c480-48c5-b5ab-c0a88ea7acde\",\"type\":\"X\"},{\"attributes\":{\"overlay\":{\"id\":\"044680e8-9b3a-4bbe-9981-7dbc2ba9fc5e\",\"type\":\"BoxAnnotation\"},\"plot\":{\"id\":\"335ec1f3-f116-43fb-a548-d1e0e8ef85fc\",\"subtype\":\"Figure\",\"type\":\"Plot\"}},\"id\":\"5e06fcf1-809b-4435-b6ea-3fc46856e73c\",\"type\":\"BoxZoomTool\"},{\"attributes\":{\"active_drag\":\"auto\",\"active_scroll\":\"auto\",\"active_tap\":\"auto\",\"tools\":[{\"id\":\"302e1092-7474-4661-b801-7ab8e090538b\",\"type\":\"PanTool\"},{\"id\":\"8d634f4c-7c9a-48b8-a792-1af28c34c680\",\"type\":\"WheelZoomTool\"},{\"id\":\"e88115bb-68d7-44ed-9afa-09c2975fd19d\",\"type\":\"BoxZoomTool\"},{\"id\":\"160447fa-f5c9-4a5c-98cc-a1eb2492440f\",\"type\":\"SaveTool\"},{\"id\":\"78becf09-2b0b-4950-865a-216eacd41798\",\"type\":\"ResetTool\"},{\"id\":\"ca9ffe40-2f4b-4263-8b52-dc26681f647f\",\"type\":\"HelpTool\"}]},\"id\":\"c8579289-3429-4291-8bdc-62af22e74582\",\"type\":\"Toolbar\"},{\"attributes\":{\"plot\":null,\"text\":\"d = 6 (over-fit; high variance)\",\"text_font_size\":{\"value\":\"11pt\"}},\"id\":\"ad218ea8-0d8f-4058-ab8c-0ddc134800f0\",\"type\":\"Title\"},{\"attributes\":{\"dimension\":1,\"plot\":{\"id\":\"2cdd458f-6686-4349-b9dd-458011aea2bc\",\"subtype\":\"Figure\",\"type\":\"Plot\"},\"ticker\":{\"id\":\"81f61a10-dc72-489f-8808-681e34e5a428\",\"type\":\"BasicTicker\"}},\"id\":\"bb6c464c-2e77-440a-9e13-b3760c0e4ad7\",\"type\":\"Grid\"}],\"root_ids\":[\"965a467a-73d7-4f8b-85a2-943d50b4902d\"]},\"title\":\"Bokeh Application\",\"version\":\"0.12.4\"}};\n",
       "            var render_items = [{\"docid\":\"cff5518b-5656-401c-8361-8e40ff3f32c2\",\"elementid\":\"1f22866c-a9d8-4219-a2fb-87bf49c8169a\",\"modelid\":\"965a467a-73d7-4f8b-85a2-943d50b4902d\"}];\n",
       "            \n",
       "            Bokeh.embed.embed_items(docs_json, render_items);\n",
       "          };\n",
       "          if (document.readyState != \"loading\") fn();\n",
       "          else document.addEventListener(\"DOMContentLoaded\", fn);\n",
       "        })();\n",
       "      },\n",
       "      function(Bokeh) {\n",
       "      }\n",
       "    ];\n",
       "  \n",
       "    function run_inline_js() {\n",
       "      \n",
       "      if ((window.Bokeh !== undefined) || (force === true)) {\n",
       "        for (var i = 0; i < inline_js.length; i++) {\n",
       "          inline_js[i](window.Bokeh);\n",
       "        }if (force === true) {\n",
       "          display_loaded();\n",
       "        }} else if (Date.now() < window._bokeh_timeout) {\n",
       "        setTimeout(run_inline_js, 100);\n",
       "      } else if (!window._bokeh_failed_load) {\n",
       "        console.log(\"Bokeh: BokehJS failed to load within specified timeout.\");\n",
       "        window._bokeh_failed_load = true;\n",
       "      } else if (force !== true) {\n",
       "        var cell = $(document.getElementById(\"1f22866c-a9d8-4219-a2fb-87bf49c8169a\")).parents('.cell').data().cell;\n",
       "        cell.output_area.append_execute_result(NB_LOAD_WARNING)\n",
       "      }\n",
       "  \n",
       "    }\n",
       "  \n",
       "    if (window._bokeh_is_loading === 0) {\n",
       "      console.log(\"Bokeh: BokehJS loaded, going straight to plotting\");\n",
       "      run_inline_js();\n",
       "    } else {\n",
       "      load_libs(js_urls, function() {\n",
       "        console.log(\"Bokeh: BokehJS plotting callback run at\", now());\n",
       "        run_inline_js();\n",
       "      });\n",
       "    }\n",
       "  }(this));\n",
       "</script>"
      ]
     },
     "metadata": {},
     "output_type": "display_data"
    }
   ],
   "source": [
    "biasvariance.plot_bias_variance(8, random_seed=42, err=10)"
   ]
  },
  {
   "cell_type": "markdown",
   "metadata": {},
   "source": [
    "### 1.2 Bias-Variance Tradeoff explained with a regression example"
   ]
  },
  {
   "cell_type": "markdown",
   "metadata": {},
   "source": [
    "In this section we will explore a simple **linear regression** problem.\n",
    "This can be accomplished within scikit-learn with the `sklearn.linear_model` module.\n",
    "\n",
    "We consider the situation where we have only 2 data points: "
   ]
  },
  {
   "cell_type": "code",
   "execution_count": 8,
   "metadata": {
    "collapsed": false
   },
   "outputs": [
    {
     "data": {
      "text/html": [
       "\n",
       "\n",
       "    <div class=\"bk-root\">\n",
       "        <div class=\"bk-plotdiv\" id=\"53442e6a-207a-4463-baf3-11374a52fbf1\"></div>\n",
       "    </div>\n",
       "<script type=\"text/javascript\">\n",
       "  \n",
       "  (function(global) {\n",
       "    function now() {\n",
       "      return new Date();\n",
       "    }\n",
       "  \n",
       "    var force = false;\n",
       "  \n",
       "    if (typeof (window._bokeh_onload_callbacks) === \"undefined\" || force === true) {\n",
       "      window._bokeh_onload_callbacks = [];\n",
       "      window._bokeh_is_loading = undefined;\n",
       "    }\n",
       "  \n",
       "  \n",
       "    \n",
       "    if (typeof (window._bokeh_timeout) === \"undefined\" || force === true) {\n",
       "      window._bokeh_timeout = Date.now() + 0;\n",
       "      window._bokeh_failed_load = false;\n",
       "    }\n",
       "  \n",
       "    var NB_LOAD_WARNING = {'data': {'text/html':\n",
       "       \"<div style='background-color: #fdd'>\\n\"+\n",
       "       \"<p>\\n\"+\n",
       "       \"BokehJS does not appear to have successfully loaded. If loading BokehJS from CDN, this \\n\"+\n",
       "       \"may be due to a slow or bad network connection. Possible fixes:\\n\"+\n",
       "       \"</p>\\n\"+\n",
       "       \"<ul>\\n\"+\n",
       "       \"<li>re-rerun `output_notebook()` to attempt to load from CDN again, or</li>\\n\"+\n",
       "       \"<li>use INLINE resources instead, as so:</li>\\n\"+\n",
       "       \"</ul>\\n\"+\n",
       "       \"<code>\\n\"+\n",
       "       \"from bokeh.resources import INLINE\\n\"+\n",
       "       \"output_notebook(resources=INLINE)\\n\"+\n",
       "       \"</code>\\n\"+\n",
       "       \"</div>\"}};\n",
       "  \n",
       "    function display_loaded() {\n",
       "      if (window.Bokeh !== undefined) {\n",
       "        document.getElementById(\"53442e6a-207a-4463-baf3-11374a52fbf1\").textContent = \"BokehJS successfully loaded.\";\n",
       "      } else if (Date.now() < window._bokeh_timeout) {\n",
       "        setTimeout(display_loaded, 100)\n",
       "      }\n",
       "    }\n",
       "  \n",
       "    function run_callbacks() {\n",
       "      window._bokeh_onload_callbacks.forEach(function(callback) { callback() });\n",
       "      delete window._bokeh_onload_callbacks\n",
       "      console.info(\"Bokeh: all callbacks have finished\");\n",
       "    }\n",
       "  \n",
       "    function load_libs(js_urls, callback) {\n",
       "      window._bokeh_onload_callbacks.push(callback);\n",
       "      if (window._bokeh_is_loading > 0) {\n",
       "        console.log(\"Bokeh: BokehJS is being loaded, scheduling callback at\", now());\n",
       "        return null;\n",
       "      }\n",
       "      if (js_urls == null || js_urls.length === 0) {\n",
       "        run_callbacks();\n",
       "        return null;\n",
       "      }\n",
       "      console.log(\"Bokeh: BokehJS not loaded, scheduling load and callback at\", now());\n",
       "      window._bokeh_is_loading = js_urls.length;\n",
       "      for (var i = 0; i < js_urls.length; i++) {\n",
       "        var url = js_urls[i];\n",
       "        var s = document.createElement('script');\n",
       "        s.src = url;\n",
       "        s.async = false;\n",
       "        s.onreadystatechange = s.onload = function() {\n",
       "          window._bokeh_is_loading--;\n",
       "          if (window._bokeh_is_loading === 0) {\n",
       "            console.log(\"Bokeh: all BokehJS libraries loaded\");\n",
       "            run_callbacks()\n",
       "          }\n",
       "        };\n",
       "        s.onerror = function() {\n",
       "          console.warn(\"failed to load library \" + url);\n",
       "        };\n",
       "        console.log(\"Bokeh: injecting script tag for BokehJS library: \", url);\n",
       "        document.getElementsByTagName(\"head\")[0].appendChild(s);\n",
       "      }\n",
       "    };var element = document.getElementById(\"53442e6a-207a-4463-baf3-11374a52fbf1\");\n",
       "    if (element == null) {\n",
       "      console.log(\"Bokeh: ERROR: autoload.js configured with elementid '53442e6a-207a-4463-baf3-11374a52fbf1' but no matching script tag was found. \")\n",
       "      return false;\n",
       "    }\n",
       "  \n",
       "    var js_urls = [];\n",
       "  \n",
       "    var inline_js = [\n",
       "      function(Bokeh) {\n",
       "        (function() {\n",
       "          var fn = function() {\n",
       "            var docs_json = {\"323e03b3-42c9-4f88-aeec-8ddfed0e736e\":{\"roots\":{\"references\":[{\"attributes\":{},\"id\":\"7e94686d-a623-4225-903a-9d327fa92c95\",\"type\":\"BasicTicker\"},{\"attributes\":{\"callback\":null,\"column_names\":[\"x\",\"y\"],\"data\":{\"x\":{\"__ndarray__\":\"AAAAAAAA4D8AAAAAAADwPw==\",\"dtype\":\"float64\",\"shape\":[2]},\"y\":{\"__ndarray__\":\"AAAAAAAA4D8AAAAAAADwPw==\",\"dtype\":\"float64\",\"shape\":[2]}}},\"id\":\"b11ae630-df48-4490-b059-f4e54db0e978\",\"type\":\"ColumnDataSource\"},{\"attributes\":{\"line_alpha\":{\"value\":0.1},\"line_color\":{\"value\":\"#1f77b4\"},\"x\":{\"field\":\"x\"},\"y\":{\"field\":\"y\"}},\"id\":\"08f78d8f-ac46-485b-900f-8b145ef390af\",\"type\":\"Line\"},{\"attributes\":{\"plot\":{\"id\":\"925d33ba-6e65-4b59-b919-2a2ef486193a\",\"subtype\":\"Figure\",\"type\":\"Plot\"},\"ticker\":{\"id\":\"7e94686d-a623-4225-903a-9d327fa92c95\",\"type\":\"BasicTicker\"}},\"id\":\"2353fbdb-bb05-4d1c-abea-b2a32768fb02\",\"type\":\"Grid\"},{\"attributes\":{},\"id\":\"e1a973a2-c3ca-475e-b53f-50fdea572196\",\"type\":\"BasicTickFormatter\"},{\"attributes\":{\"callback\":null},\"id\":\"45273828-f93e-4897-846a-8576e1bf1e34\",\"type\":\"DataRange1d\"},{\"attributes\":{\"formatter\":{\"id\":\"e1a973a2-c3ca-475e-b53f-50fdea572196\",\"type\":\"BasicTickFormatter\"},\"plot\":{\"id\":\"925d33ba-6e65-4b59-b919-2a2ef486193a\",\"subtype\":\"Figure\",\"type\":\"Plot\"},\"ticker\":{\"id\":\"0a9036e7-ecd3-488b-b69c-c4e0237b1cd0\",\"type\":\"BasicTicker\"}},\"id\":\"cd5c01bc-a28a-45e9-93eb-cd9451f07ebd\",\"type\":\"LinearAxis\"},{\"attributes\":{},\"id\":\"1ccf3146-01aa-44c3-913e-85b67a3fe049\",\"type\":\"ToolEvents\"},{\"attributes\":{\"below\":[{\"id\":\"cc3da8bb-8c33-4e6b-962d-e7bfba68fdde\",\"type\":\"LinearAxis\"}],\"left\":[{\"id\":\"cd5c01bc-a28a-45e9-93eb-cd9451f07ebd\",\"type\":\"LinearAxis\"}],\"plot_height\":300,\"plot_width\":400,\"renderers\":[{\"id\":\"cc3da8bb-8c33-4e6b-962d-e7bfba68fdde\",\"type\":\"LinearAxis\"},{\"id\":\"2353fbdb-bb05-4d1c-abea-b2a32768fb02\",\"type\":\"Grid\"},{\"id\":\"cd5c01bc-a28a-45e9-93eb-cd9451f07ebd\",\"type\":\"LinearAxis\"},{\"id\":\"91d40a76-bd2b-4251-a19e-1355900213b9\",\"type\":\"Grid\"},{\"id\":\"7c28ae8a-0d3b-4060-a376-746feac6b4e1\",\"type\":\"BoxAnnotation\"},{\"id\":\"854592d4-1145-49c5-938c-8c11605d38dd\",\"type\":\"GlyphRenderer\"},{\"id\":\"3d7d1847-c322-43d5-9ffb-325a7075efd9\",\"type\":\"GlyphRenderer\"}],\"title\":null,\"tool_events\":{\"id\":\"1ccf3146-01aa-44c3-913e-85b67a3fe049\",\"type\":\"ToolEvents\"},\"toolbar\":{\"id\":\"0bcc0c88-d49e-4ef2-bceb-32b3d70848c6\",\"type\":\"Toolbar\"},\"x_range\":{\"id\":\"3f5eafc8-c48e-49ff-9593-e809ddc956aa\",\"type\":\"DataRange1d\"},\"y_range\":{\"id\":\"45273828-f93e-4897-846a-8576e1bf1e34\",\"type\":\"DataRange1d\"}},\"id\":\"925d33ba-6e65-4b59-b919-2a2ef486193a\",\"subtype\":\"Figure\",\"type\":\"Plot\"},{\"attributes\":{\"plot\":{\"id\":\"925d33ba-6e65-4b59-b919-2a2ef486193a\",\"subtype\":\"Figure\",\"type\":\"Plot\"}},\"id\":\"91e87c39-c3b0-4e00-9496-764eb551ffaf\",\"type\":\"WheelZoomTool\"},{\"attributes\":{},\"id\":\"0a9036e7-ecd3-488b-b69c-c4e0237b1cd0\",\"type\":\"BasicTicker\"},{\"attributes\":{\"dimension\":1,\"plot\":{\"id\":\"925d33ba-6e65-4b59-b919-2a2ef486193a\",\"subtype\":\"Figure\",\"type\":\"Plot\"},\"ticker\":{\"id\":\"0a9036e7-ecd3-488b-b69c-c4e0237b1cd0\",\"type\":\"BasicTicker\"}},\"id\":\"91d40a76-bd2b-4251-a19e-1355900213b9\",\"type\":\"Grid\"},{\"attributes\":{\"plot\":{\"id\":\"925d33ba-6e65-4b59-b919-2a2ef486193a\",\"subtype\":\"Figure\",\"type\":\"Plot\"}},\"id\":\"8905cbe0-4013-49c9-b734-19b69714cce1\",\"type\":\"ResetTool\"},{\"attributes\":{\"data_source\":{\"id\":\"5cc1b556-fe1c-44c9-be82-429acab1dfa4\",\"type\":\"ColumnDataSource\"},\"glyph\":{\"id\":\"842a19f8-e2f4-4c1e-9c32-e0c63465136b\",\"type\":\"Line\"},\"hover_glyph\":null,\"nonselection_glyph\":{\"id\":\"08f78d8f-ac46-485b-900f-8b145ef390af\",\"type\":\"Line\"},\"selection_glyph\":null},\"id\":\"3d7d1847-c322-43d5-9ffb-325a7075efd9\",\"type\":\"GlyphRenderer\"},{\"attributes\":{\"callback\":null,\"column_names\":[\"x\",\"y\"],\"data\":{\"x\":{\"__ndarray__\":\"AAAAAAAAAAAAAAAAAAAAQA==\",\"dtype\":\"float64\",\"shape\":[2]},\"y\":{\"__ndarray__\":\"AAAAAAAAsDz+////////Pw==\",\"dtype\":\"float64\",\"shape\":[2]}}},\"id\":\"5cc1b556-fe1c-44c9-be82-429acab1dfa4\",\"type\":\"ColumnDataSource\"},{\"attributes\":{\"plot\":{\"id\":\"925d33ba-6e65-4b59-b919-2a2ef486193a\",\"subtype\":\"Figure\",\"type\":\"Plot\"}},\"id\":\"db900436-c0a5-469d-b723-37e40d8739d6\",\"type\":\"SaveTool\"},{\"attributes\":{\"data_source\":{\"id\":\"b11ae630-df48-4490-b059-f4e54db0e978\",\"type\":\"ColumnDataSource\"},\"glyph\":{\"id\":\"9a636206-aa20-4a76-90fa-75d6888021e1\",\"type\":\"Circle\"},\"hover_glyph\":null,\"nonselection_glyph\":{\"id\":\"544322d2-3fa9-40ed-920a-a35d69101abb\",\"type\":\"Circle\"},\"selection_glyph\":null},\"id\":\"854592d4-1145-49c5-938c-8c11605d38dd\",\"type\":\"GlyphRenderer\"},{\"attributes\":{\"formatter\":{\"id\":\"7d188f07-bb95-4117-928b-0288260822b5\",\"type\":\"BasicTickFormatter\"},\"plot\":{\"id\":\"925d33ba-6e65-4b59-b919-2a2ef486193a\",\"subtype\":\"Figure\",\"type\":\"Plot\"},\"ticker\":{\"id\":\"7e94686d-a623-4225-903a-9d327fa92c95\",\"type\":\"BasicTicker\"}},\"id\":\"cc3da8bb-8c33-4e6b-962d-e7bfba68fdde\",\"type\":\"LinearAxis\"},{\"attributes\":{\"active_drag\":\"auto\",\"active_scroll\":\"auto\",\"active_tap\":\"auto\",\"tools\":[{\"id\":\"8e5efb16-4790-47f3-b6b7-062bd3f86a04\",\"type\":\"PanTool\"},{\"id\":\"91e87c39-c3b0-4e00-9496-764eb551ffaf\",\"type\":\"WheelZoomTool\"},{\"id\":\"a1b3d658-4558-41a3-98fe-8943c06131bc\",\"type\":\"BoxZoomTool\"},{\"id\":\"db900436-c0a5-469d-b723-37e40d8739d6\",\"type\":\"SaveTool\"},{\"id\":\"8905cbe0-4013-49c9-b734-19b69714cce1\",\"type\":\"ResetTool\"},{\"id\":\"a503e2bd-f3f3-4929-9b50-a902b375a11d\",\"type\":\"HelpTool\"}]},\"id\":\"0bcc0c88-d49e-4ef2-bceb-32b3d70848c6\",\"type\":\"Toolbar\"},{\"attributes\":{\"fill_color\":{\"value\":\"#1f77b4\"},\"line_color\":{\"value\":\"#1f77b4\"},\"size\":{\"units\":\"screen\",\"value\":5},\"x\":{\"field\":\"x\"},\"y\":{\"field\":\"y\"}},\"id\":\"9a636206-aa20-4a76-90fa-75d6888021e1\",\"type\":\"Circle\"},{\"attributes\":{\"line_color\":{\"value\":\"green\"},\"x\":{\"field\":\"x\"},\"y\":{\"field\":\"y\"}},\"id\":\"842a19f8-e2f4-4c1e-9c32-e0c63465136b\",\"type\":\"Line\"},{\"attributes\":{\"bottom_units\":\"screen\",\"fill_alpha\":{\"value\":0.5},\"fill_color\":{\"value\":\"lightgrey\"},\"left_units\":\"screen\",\"level\":\"overlay\",\"line_alpha\":{\"value\":1.0},\"line_color\":{\"value\":\"black\"},\"line_dash\":[4,4],\"line_width\":{\"value\":2},\"plot\":null,\"render_mode\":\"css\",\"right_units\":\"screen\",\"top_units\":\"screen\"},\"id\":\"7c28ae8a-0d3b-4060-a376-746feac6b4e1\",\"type\":\"BoxAnnotation\"},{\"attributes\":{\"plot\":{\"id\":\"925d33ba-6e65-4b59-b919-2a2ef486193a\",\"subtype\":\"Figure\",\"type\":\"Plot\"}},\"id\":\"a503e2bd-f3f3-4929-9b50-a902b375a11d\",\"type\":\"HelpTool\"},{\"attributes\":{\"plot\":{\"id\":\"925d33ba-6e65-4b59-b919-2a2ef486193a\",\"subtype\":\"Figure\",\"type\":\"Plot\"}},\"id\":\"8e5efb16-4790-47f3-b6b7-062bd3f86a04\",\"type\":\"PanTool\"},{\"attributes\":{\"fill_alpha\":{\"value\":0.1},\"fill_color\":{\"value\":\"#1f77b4\"},\"line_alpha\":{\"value\":0.1},\"line_color\":{\"value\":\"#1f77b4\"},\"size\":{\"units\":\"screen\",\"value\":5},\"x\":{\"field\":\"x\"},\"y\":{\"field\":\"y\"}},\"id\":\"544322d2-3fa9-40ed-920a-a35d69101abb\",\"type\":\"Circle\"},{\"attributes\":{},\"id\":\"7d188f07-bb95-4117-928b-0288260822b5\",\"type\":\"BasicTickFormatter\"},{\"attributes\":{\"callback\":null},\"id\":\"3f5eafc8-c48e-49ff-9593-e809ddc956aa\",\"type\":\"DataRange1d\"},{\"attributes\":{\"overlay\":{\"id\":\"7c28ae8a-0d3b-4060-a376-746feac6b4e1\",\"type\":\"BoxAnnotation\"},\"plot\":{\"id\":\"925d33ba-6e65-4b59-b919-2a2ef486193a\",\"subtype\":\"Figure\",\"type\":\"Plot\"}},\"id\":\"a1b3d658-4558-41a3-98fe-8943c06131bc\",\"type\":\"BoxZoomTool\"}],\"root_ids\":[\"925d33ba-6e65-4b59-b919-2a2ef486193a\"]},\"title\":\"Bokeh Application\",\"version\":\"0.12.4\"}};\n",
       "            var render_items = [{\"docid\":\"323e03b3-42c9-4f88-aeec-8ddfed0e736e\",\"elementid\":\"53442e6a-207a-4463-baf3-11374a52fbf1\",\"modelid\":\"925d33ba-6e65-4b59-b919-2a2ef486193a\"}];\n",
       "            \n",
       "            Bokeh.embed.embed_items(docs_json, render_items);\n",
       "          };\n",
       "          if (document.readyState != \"loading\") fn();\n",
       "          else document.addEventListener(\"DOMContentLoaded\", fn);\n",
       "        })();\n",
       "      },\n",
       "      function(Bokeh) {\n",
       "      }\n",
       "    ];\n",
       "  \n",
       "    function run_inline_js() {\n",
       "      \n",
       "      if ((window.Bokeh !== undefined) || (force === true)) {\n",
       "        for (var i = 0; i < inline_js.length; i++) {\n",
       "          inline_js[i](window.Bokeh);\n",
       "        }if (force === true) {\n",
       "          display_loaded();\n",
       "        }} else if (Date.now() < window._bokeh_timeout) {\n",
       "        setTimeout(run_inline_js, 100);\n",
       "      } else if (!window._bokeh_failed_load) {\n",
       "        console.log(\"Bokeh: BokehJS failed to load within specified timeout.\");\n",
       "        window._bokeh_failed_load = true;\n",
       "      } else if (force !== true) {\n",
       "        var cell = $(document.getElementById(\"53442e6a-207a-4463-baf3-11374a52fbf1\")).parents('.cell').data().cell;\n",
       "        cell.output_area.append_execute_result(NB_LOAD_WARNING)\n",
       "      }\n",
       "  \n",
       "    }\n",
       "  \n",
       "    if (window._bokeh_is_loading === 0) {\n",
       "      console.log(\"Bokeh: BokehJS loaded, going straight to plotting\");\n",
       "      run_inline_js();\n",
       "    } else {\n",
       "      load_libs(js_urls, function() {\n",
       "        console.log(\"Bokeh: BokehJS plotting callback run at\", now());\n",
       "        run_inline_js();\n",
       "      });\n",
       "    }\n",
       "  }(this));\n",
       "</script>"
      ]
     },
     "metadata": {},
     "output_type": "display_data"
    }
   ],
   "source": [
    "from sklearn import linear_model\n",
    "X = np.array([0.5, 1.0]).reshape(2,1)\n",
    "y = np.array([0.5, 1.0])\n",
    "X_test = np.array([0.0, 2.0]).reshape(2,1)\n",
    "regr = linear_model.LinearRegression()\n",
    "regr.fit(X, y)\n",
    "fig = bk.figure(plot_width=400, plot_height=300, title=None)\n",
    "fig.circle(X[:,0], y, size=5)\n",
    "fig.line(X_test[:,0], regr.predict(X_test), color='green')\n",
    "bk.show(fig)"
   ]
  },
  {
   "cell_type": "markdown",
   "metadata": {},
   "source": [
    "In real life situation, we have noise (e.g. measurement noise) in our data:"
   ]
  },
  {
   "cell_type": "code",
   "execution_count": 9,
   "metadata": {
    "collapsed": false
   },
   "outputs": [],
   "source": [
    "import seaborn as sns\n",
    "import addutils.palette as pal\n",
    "import random\n",
    "cat_colors = list(map(pal.to_hex, sns.color_palette('bright', 6)))\n",
    "random.shuffle(cat_colors)"
   ]
  },
  {
   "cell_type": "code",
   "execution_count": 10,
   "metadata": {
    "collapsed": false
   },
   "outputs": [
    {
     "data": {
      "text/html": [
       "\n",
       "\n",
       "    <div class=\"bk-root\">\n",
       "        <div class=\"bk-plotdiv\" id=\"7fc93bd3-919b-42e0-b9e5-b3abae64f20f\"></div>\n",
       "    </div>\n",
       "<script type=\"text/javascript\">\n",
       "  \n",
       "  (function(global) {\n",
       "    function now() {\n",
       "      return new Date();\n",
       "    }\n",
       "  \n",
       "    var force = false;\n",
       "  \n",
       "    if (typeof (window._bokeh_onload_callbacks) === \"undefined\" || force === true) {\n",
       "      window._bokeh_onload_callbacks = [];\n",
       "      window._bokeh_is_loading = undefined;\n",
       "    }\n",
       "  \n",
       "  \n",
       "    \n",
       "    if (typeof (window._bokeh_timeout) === \"undefined\" || force === true) {\n",
       "      window._bokeh_timeout = Date.now() + 0;\n",
       "      window._bokeh_failed_load = false;\n",
       "    }\n",
       "  \n",
       "    var NB_LOAD_WARNING = {'data': {'text/html':\n",
       "       \"<div style='background-color: #fdd'>\\n\"+\n",
       "       \"<p>\\n\"+\n",
       "       \"BokehJS does not appear to have successfully loaded. If loading BokehJS from CDN, this \\n\"+\n",
       "       \"may be due to a slow or bad network connection. Possible fixes:\\n\"+\n",
       "       \"</p>\\n\"+\n",
       "       \"<ul>\\n\"+\n",
       "       \"<li>re-rerun `output_notebook()` to attempt to load from CDN again, or</li>\\n\"+\n",
       "       \"<li>use INLINE resources instead, as so:</li>\\n\"+\n",
       "       \"</ul>\\n\"+\n",
       "       \"<code>\\n\"+\n",
       "       \"from bokeh.resources import INLINE\\n\"+\n",
       "       \"output_notebook(resources=INLINE)\\n\"+\n",
       "       \"</code>\\n\"+\n",
       "       \"</div>\"}};\n",
       "  \n",
       "    function display_loaded() {\n",
       "      if (window.Bokeh !== undefined) {\n",
       "        document.getElementById(\"7fc93bd3-919b-42e0-b9e5-b3abae64f20f\").textContent = \"BokehJS successfully loaded.\";\n",
       "      } else if (Date.now() < window._bokeh_timeout) {\n",
       "        setTimeout(display_loaded, 100)\n",
       "      }\n",
       "    }\n",
       "  \n",
       "    function run_callbacks() {\n",
       "      window._bokeh_onload_callbacks.forEach(function(callback) { callback() });\n",
       "      delete window._bokeh_onload_callbacks\n",
       "      console.info(\"Bokeh: all callbacks have finished\");\n",
       "    }\n",
       "  \n",
       "    function load_libs(js_urls, callback) {\n",
       "      window._bokeh_onload_callbacks.push(callback);\n",
       "      if (window._bokeh_is_loading > 0) {\n",
       "        console.log(\"Bokeh: BokehJS is being loaded, scheduling callback at\", now());\n",
       "        return null;\n",
       "      }\n",
       "      if (js_urls == null || js_urls.length === 0) {\n",
       "        run_callbacks();\n",
       "        return null;\n",
       "      }\n",
       "      console.log(\"Bokeh: BokehJS not loaded, scheduling load and callback at\", now());\n",
       "      window._bokeh_is_loading = js_urls.length;\n",
       "      for (var i = 0; i < js_urls.length; i++) {\n",
       "        var url = js_urls[i];\n",
       "        var s = document.createElement('script');\n",
       "        s.src = url;\n",
       "        s.async = false;\n",
       "        s.onreadystatechange = s.onload = function() {\n",
       "          window._bokeh_is_loading--;\n",
       "          if (window._bokeh_is_loading === 0) {\n",
       "            console.log(\"Bokeh: all BokehJS libraries loaded\");\n",
       "            run_callbacks()\n",
       "          }\n",
       "        };\n",
       "        s.onerror = function() {\n",
       "          console.warn(\"failed to load library \" + url);\n",
       "        };\n",
       "        console.log(\"Bokeh: injecting script tag for BokehJS library: \", url);\n",
       "        document.getElementsByTagName(\"head\")[0].appendChild(s);\n",
       "      }\n",
       "    };var element = document.getElementById(\"7fc93bd3-919b-42e0-b9e5-b3abae64f20f\");\n",
       "    if (element == null) {\n",
       "      console.log(\"Bokeh: ERROR: autoload.js configured with elementid '7fc93bd3-919b-42e0-b9e5-b3abae64f20f' but no matching script tag was found. \")\n",
       "      return false;\n",
       "    }\n",
       "  \n",
       "    var js_urls = [];\n",
       "  \n",
       "    var inline_js = [\n",
       "      function(Bokeh) {\n",
       "        (function() {\n",
       "          var fn = function() {\n",
       "            var docs_json = {\"3323af33-53ae-4600-88cc-12d1fbe1a55e\":{\"roots\":{\"references\":[{\"attributes\":{\"line_color\":{\"value\":\"#003fff\"},\"x\":{\"field\":\"x\"},\"y\":{\"field\":\"y\"}},\"id\":\"9ecfaaaa-82fd-4128-bdcd-c9455008d22e\",\"type\":\"Line\"},{\"attributes\":{\"line_color\":{\"value\":\"#00d7ff\"},\"x\":{\"field\":\"x\"},\"y\":{\"field\":\"y\"}},\"id\":\"fe6c9110-7517-4fc8-83c7-4e4d8b5626bf\",\"type\":\"Line\"},{\"attributes\":{\"data_source\":{\"id\":\"332d4e86-9d4f-4035-b052-661b8117b842\",\"type\":\"ColumnDataSource\"},\"glyph\":{\"id\":\"fe6c9110-7517-4fc8-83c7-4e4d8b5626bf\",\"type\":\"Line\"},\"hover_glyph\":null,\"nonselection_glyph\":{\"id\":\"cdf40a0b-a009-4055-bfe9-5d6f394f9647\",\"type\":\"Line\"},\"selection_glyph\":null},\"id\":\"56280e69-e106-4438-a2c9-f08d28ffa5e0\",\"type\":\"GlyphRenderer\"},{\"attributes\":{\"data_source\":{\"id\":\"243269cf-04b1-4f19-ae80-c133a4317250\",\"type\":\"ColumnDataSource\"},\"glyph\":{\"id\":\"eef786a2-9364-4915-bee5-90f6fce593f9\",\"type\":\"Line\"},\"hover_glyph\":null,\"nonselection_glyph\":{\"id\":\"82f2ebb1-8b6c-41a0-970b-0649fbdebf28\",\"type\":\"Line\"},\"selection_glyph\":null},\"id\":\"94775a2c-d9a9-46a3-92ca-9dfe75583757\",\"type\":\"GlyphRenderer\"},{\"attributes\":{\"plot\":{\"id\":\"f81a1db6-a0e4-4ea7-bd3b-7213a4ef19c9\",\"subtype\":\"Figure\",\"type\":\"Plot\"}},\"id\":\"c7af2749-b53a-4f4d-8397-5ac9331a3481\",\"type\":\"HelpTool\"},{\"attributes\":{\"callback\":null,\"column_names\":[\"x\",\"y\"],\"data\":{\"x\":{\"__ndarray__\":\"sS4u4OJW3z/WLZxfLqjwPw==\",\"dtype\":\"float64\",\"shape\":[2]},\"y\":{\"__ndarray__\":\"AAAAAAAA4D8AAAAAAADwPw==\",\"dtype\":\"float64\",\"shape\":[2]}}},\"id\":\"9ae7b382-10b5-47a3-8245-3cb18c869ee2\",\"type\":\"ColumnDataSource\"},{\"attributes\":{\"line_alpha\":{\"value\":0.1},\"line_color\":{\"value\":\"#1f77b4\"},\"x\":{\"field\":\"x\"},\"y\":{\"field\":\"y\"}},\"id\":\"82f2ebb1-8b6c-41a0-970b-0649fbdebf28\",\"type\":\"Line\"},{\"attributes\":{\"callback\":null,\"column_names\":[\"x\",\"y\"],\"data\":{\"x\":{\"__ndarray__\":\"AAAAAAAAAAAAAAAAAAAAQA==\",\"dtype\":\"float64\",\"shape\":[2]},\"y\":{\"__ndarray__\":\"qB+PCNGntz/MpSIiidX6Pw==\",\"dtype\":\"float64\",\"shape\":[2]}}},\"id\":\"613902bd-d60e-47e0-8276-d9dfceeba3d3\",\"type\":\"ColumnDataSource\"},{\"attributes\":{\"fill_color\":{\"value\":\"#8a2be2\"},\"size\":{\"units\":\"screen\",\"value\":8},\"x\":{\"field\":\"x\"},\"y\":{\"field\":\"y\"}},\"id\":\"e717da66-d628-48d6-b9d5-bfce6ff1ca78\",\"type\":\"Circle\"},{\"attributes\":{\"line_alpha\":{\"value\":0.1},\"line_color\":{\"value\":\"#1f77b4\"},\"x\":{\"field\":\"x\"},\"y\":{\"field\":\"y\"}},\"id\":\"818148fe-aaf9-4169-bde0-1796c2b3780a\",\"type\":\"Line\"},{\"attributes\":{\"callback\":null,\"column_names\":[\"x\",\"y\"],\"data\":{\"x\":{\"__ndarray__\":\"AAAAAAAAAAAAAAAAAAAAQA==\",\"dtype\":\"float64\",\"shape\":[2]},\"y\":{\"__ndarray__\":\"YAzELycslz+8ObGnken5Pw==\",\"dtype\":\"float64\",\"shape\":[2]}}},\"id\":\"a0f7b060-30ab-425c-9ff4-207062f86791\",\"type\":\"ColumnDataSource\"},{\"attributes\":{\"formatter\":{\"id\":\"e7210fa7-b850-4180-8c93-94f4dea2ad27\",\"type\":\"BasicTickFormatter\"},\"plot\":{\"id\":\"f81a1db6-a0e4-4ea7-bd3b-7213a4ef19c9\",\"subtype\":\"Figure\",\"type\":\"Plot\"},\"ticker\":{\"id\":\"3f22c90a-d946-4e22-932f-1f6f1eea3610\",\"type\":\"BasicTicker\"}},\"id\":\"1bcdf9ce-dd6f-4fde-8031-e56ee9f1de49\",\"type\":\"LinearAxis\"},{\"attributes\":{\"data_source\":{\"id\":\"119b368c-f162-41b8-b4cb-cc67575fd3ec\",\"type\":\"ColumnDataSource\"},\"glyph\":{\"id\":\"b64aeee2-b2db-481f-9721-046b27e79eef\",\"type\":\"Circle\"},\"hover_glyph\":null,\"nonselection_glyph\":{\"id\":\"6eedf747-26a9-44aa-b63e-a7022eb84858\",\"type\":\"Circle\"},\"selection_glyph\":null},\"id\":\"93bd17c2-fa0c-4984-a29b-e8f813160857\",\"type\":\"GlyphRenderer\"},{\"attributes\":{\"fill_color\":{\"value\":\"#00d7ff\"},\"size\":{\"units\":\"screen\",\"value\":8},\"x\":{\"field\":\"x\"},\"y\":{\"field\":\"y\"}},\"id\":\"060fa21c-7eb4-4e52-9539-214391b3dd1f\",\"type\":\"Circle\"},{\"attributes\":{},\"id\":\"985df98c-804a-4b35-856e-4bf6080633cc\",\"type\":\"ToolEvents\"},{\"attributes\":{\"callback\":null},\"id\":\"f04352df-9fa7-4be2-aabf-daa52a87babd\",\"type\":\"DataRange1d\"},{\"attributes\":{\"plot\":{\"id\":\"f81a1db6-a0e4-4ea7-bd3b-7213a4ef19c9\",\"subtype\":\"Figure\",\"type\":\"Plot\"}},\"id\":\"3638ca8a-8ea0-4297-a9c1-cc5435605ae9\",\"type\":\"WheelZoomTool\"},{\"attributes\":{\"callback\":null,\"column_names\":[\"x\",\"y\"],\"data\":{\"x\":{\"__ndarray__\":\"2XhXIAB24D/M8zKhq1PyPw==\",\"dtype\":\"float64\",\"shape\":[2]},\"y\":{\"__ndarray__\":\"AAAAAAAA4D8AAAAAAADwPw==\",\"dtype\":\"float64\",\"shape\":[2]}}},\"id\":\"7f80d503-b4d7-4d87-832d-d790fcf3bd35\",\"type\":\"ColumnDataSource\"},{\"attributes\":{\"line_color\":{\"value\":\"#ffc400\"},\"x\":{\"field\":\"x\"},\"y\":{\"field\":\"y\"}},\"id\":\"eef786a2-9364-4915-bee5-90f6fce593f9\",\"type\":\"Line\"},{\"attributes\":{\"dimension\":1,\"plot\":{\"id\":\"f81a1db6-a0e4-4ea7-bd3b-7213a4ef19c9\",\"subtype\":\"Figure\",\"type\":\"Plot\"},\"ticker\":{\"id\":\"09c21a23-b965-4241-9c6c-f488ea8fb261\",\"type\":\"BasicTicker\"}},\"id\":\"2dce068d-d44b-4922-b168-8b8afe12d011\",\"type\":\"Grid\"},{\"attributes\":{\"fill_alpha\":{\"value\":0.1},\"fill_color\":{\"value\":\"#1f77b4\"},\"line_alpha\":{\"value\":0.1},\"line_color\":{\"value\":\"#1f77b4\"},\"size\":{\"units\":\"screen\",\"value\":8},\"x\":{\"field\":\"x\"},\"y\":{\"field\":\"y\"}},\"id\":\"e5087a4f-77b4-4cf4-a878-9301cf6dbaf0\",\"type\":\"Circle\"},{\"attributes\":{\"callback\":null,\"column_names\":[\"x\",\"y\"],\"data\":{\"x\":{\"__ndarray__\":\"VPYtlxyl5T8IHUWG56PwPw==\",\"dtype\":\"float64\",\"shape\":[2]},\"y\":{\"__ndarray__\":\"AAAAAAAA4D8AAAAAAADwPw==\",\"dtype\":\"float64\",\"shape\":[2]}}},\"id\":\"0c8214a4-f133-4e19-aa65-95f0b2174e7d\",\"type\":\"ColumnDataSource\"},{\"attributes\":{\"fill_alpha\":{\"value\":0.1},\"fill_color\":{\"value\":\"#1f77b4\"},\"line_alpha\":{\"value\":0.1},\"line_color\":{\"value\":\"#1f77b4\"},\"size\":{\"units\":\"screen\",\"value\":8},\"x\":{\"field\":\"x\"},\"y\":{\"field\":\"y\"}},\"id\":\"2017eb6c-399a-4849-adf3-f093e9693197\",\"type\":\"Circle\"},{\"attributes\":{\"line_alpha\":{\"value\":0.1},\"line_color\":{\"value\":\"#1f77b4\"},\"x\":{\"field\":\"x\"},\"y\":{\"field\":\"y\"}},\"id\":\"b8e3447c-7829-453b-9a7e-3d14963b81ba\",\"type\":\"Line\"},{\"attributes\":{\"callback\":null,\"column_names\":[\"x\",\"y\"],\"data\":{\"x\":{\"__ndarray__\":\"AAAAAAAAAAAAAAAAAAAAQA==\",\"dtype\":\"float64\",\"shape\":[2]},\"y\":{\"__ndarray__\":\"CBD0PiSH27+pmB0Ugo8CQA==\",\"dtype\":\"float64\",\"shape\":[2]}}},\"id\":\"a5569fdd-92c5-467c-8f4d-f1e55fd2fb6b\",\"type\":\"ColumnDataSource\"},{\"attributes\":{\"fill_alpha\":{\"value\":0.1},\"fill_color\":{\"value\":\"#1f77b4\"},\"line_alpha\":{\"value\":0.1},\"line_color\":{\"value\":\"#1f77b4\"},\"size\":{\"units\":\"screen\",\"value\":8},\"x\":{\"field\":\"x\"},\"y\":{\"field\":\"y\"}},\"id\":\"de6f428d-6e55-414e-8922-2770fa3c4c0a\",\"type\":\"Circle\"},{\"attributes\":{\"data_source\":{\"id\":\"9ae7b382-10b5-47a3-8245-3cb18c869ee2\",\"type\":\"ColumnDataSource\"},\"glyph\":{\"id\":\"d0cdf3c2-a0e3-4b0d-b04b-302c203c0f88\",\"type\":\"Circle\"},\"hover_glyph\":null,\"nonselection_glyph\":{\"id\":\"33845778-976a-4a87-a3a6-a930feb964f2\",\"type\":\"Circle\"},\"selection_glyph\":null},\"id\":\"b41b99f0-4066-48fc-9e71-67262a4fed7b\",\"type\":\"GlyphRenderer\"},{\"attributes\":{\"line_alpha\":{\"value\":0.1},\"line_color\":{\"value\":\"#1f77b4\"},\"x\":{\"field\":\"x\"},\"y\":{\"field\":\"y\"}},\"id\":\"0ccca274-2cba-45b5-a22b-f6b499c3381b\",\"type\":\"Line\"},{\"attributes\":{\"plot\":{\"id\":\"f81a1db6-a0e4-4ea7-bd3b-7213a4ef19c9\",\"subtype\":\"Figure\",\"type\":\"Plot\"}},\"id\":\"0cf39831-71e8-4f11-b7a1-0a42d1337e4e\",\"type\":\"SaveTool\"},{\"attributes\":{\"line_color\":{\"value\":\"#8a2be2\"},\"x\":{\"field\":\"x\"},\"y\":{\"field\":\"y\"}},\"id\":\"b9ca5790-a995-48e8-b914-952d8c5d2660\",\"type\":\"Line\"},{\"attributes\":{\"fill_color\":{\"value\":\"#03ed3a\"},\"size\":{\"units\":\"screen\",\"value\":8},\"x\":{\"field\":\"x\"},\"y\":{\"field\":\"y\"}},\"id\":\"d0cdf3c2-a0e3-4b0d-b04b-302c203c0f88\",\"type\":\"Circle\"},{\"attributes\":{\"data_source\":{\"id\":\"87111e34-03c6-4c78-9031-b0c6199e02e5\",\"type\":\"ColumnDataSource\"},\"glyph\":{\"id\":\"060fa21c-7eb4-4e52-9539-214391b3dd1f\",\"type\":\"Circle\"},\"hover_glyph\":null,\"nonselection_glyph\":{\"id\":\"f8b8cc45-2aa6-413c-b4e0-ebb8a3829e70\",\"type\":\"Circle\"},\"selection_glyph\":null},\"id\":\"af1f87f2-67a6-41b9-9728-c6dccbf16c9b\",\"type\":\"GlyphRenderer\"},{\"attributes\":{\"overlay\":{\"id\":\"3fe15bbe-4f2c-4b1d-9020-20e66c9008bc\",\"type\":\"BoxAnnotation\"},\"plot\":{\"id\":\"f81a1db6-a0e4-4ea7-bd3b-7213a4ef19c9\",\"subtype\":\"Figure\",\"type\":\"Plot\"}},\"id\":\"c1c5713b-be22-4702-b1ce-1239ce3153da\",\"type\":\"BoxZoomTool\"},{\"attributes\":{\"callback\":null,\"column_names\":[\"x\",\"y\"],\"data\":{\"x\":{\"__ndarray__\":\"AAAAAAAAAAAAAAAAAAAAQA==\",\"dtype\":\"float64\",\"shape\":[2]},\"y\":{\"__ndarray__\":\"U/b/uRJ+8b+QnqpOuF8MQA==\",\"dtype\":\"float64\",\"shape\":[2]}}},\"id\":\"243269cf-04b1-4f19-ae80-c133a4317250\",\"type\":\"ColumnDataSource\"},{\"attributes\":{},\"id\":\"3f22c90a-d946-4e22-932f-1f6f1eea3610\",\"type\":\"BasicTicker\"},{\"attributes\":{\"fill_color\":{\"value\":\"#003fff\"},\"size\":{\"units\":\"screen\",\"value\":8},\"x\":{\"field\":\"x\"},\"y\":{\"field\":\"y\"}},\"id\":\"7672c004-4d3a-4d9d-965f-46373d1b91f0\",\"type\":\"Circle\"},{\"attributes\":{\"callback\":null,\"column_names\":[\"x\",\"y\"],\"data\":{\"x\":{\"__ndarray__\":\"/g6F+08K4z+yHMEXAoTvPw==\",\"dtype\":\"float64\",\"shape\":[2]},\"y\":{\"__ndarray__\":\"AAAAAAAA4D8AAAAAAADwPw==\",\"dtype\":\"float64\",\"shape\":[2]}}},\"id\":\"87111e34-03c6-4c78-9031-b0c6199e02e5\",\"type\":\"ColumnDataSource\"},{\"attributes\":{\"fill_color\":{\"value\":\"#ffc400\"},\"size\":{\"units\":\"screen\",\"value\":8},\"x\":{\"field\":\"x\"},\"y\":{\"field\":\"y\"}},\"id\":\"b64aeee2-b2db-481f-9721-046b27e79eef\",\"type\":\"Circle\"},{\"attributes\":{\"plot\":{\"id\":\"f81a1db6-a0e4-4ea7-bd3b-7213a4ef19c9\",\"subtype\":\"Figure\",\"type\":\"Plot\"}},\"id\":\"ac905658-1e79-4920-9620-0dffff88aebb\",\"type\":\"ResetTool\"},{\"attributes\":{\"data_source\":{\"id\":\"7f80d503-b4d7-4d87-832d-d790fcf3bd35\",\"type\":\"ColumnDataSource\"},\"glyph\":{\"id\":\"af1b5f80-59d9-4fae-8ed1-7f9c46270d7c\",\"type\":\"Circle\"},\"hover_glyph\":null,\"nonselection_glyph\":{\"id\":\"2017eb6c-399a-4849-adf3-f093e9693197\",\"type\":\"Circle\"},\"selection_glyph\":null},\"id\":\"c2278830-92fb-4b05-8dfc-a37ef64ca22f\",\"type\":\"GlyphRenderer\"},{\"attributes\":{\"callback\":null},\"id\":\"e365e4b8-2d2b-4e1c-8cae-bfec6bde0a97\",\"type\":\"DataRange1d\"},{\"attributes\":{},\"id\":\"3e88d8c9-f41e-4f1d-bee8-319a87c9efaa\",\"type\":\"BasicTickFormatter\"},{\"attributes\":{\"callback\":null,\"column_names\":[\"x\",\"y\"],\"data\":{\"x\":{\"__ndarray__\":\"xXIjTOf55T9Z2FX5ad/sPw==\",\"dtype\":\"float64\",\"shape\":[2]},\"y\":{\"__ndarray__\":\"AAAAAAAA4D8AAAAAAADwPw==\",\"dtype\":\"float64\",\"shape\":[2]}}},\"id\":\"119b368c-f162-41b8-b4cb-cc67575fd3ec\",\"type\":\"ColumnDataSource\"},{\"attributes\":{\"data_source\":{\"id\":\"a0f7b060-30ab-425c-9ff4-207062f86791\",\"type\":\"ColumnDataSource\"},\"glyph\":{\"id\":\"9ecfaaaa-82fd-4128-bdcd-c9455008d22e\",\"type\":\"Line\"},\"hover_glyph\":null,\"nonselection_glyph\":{\"id\":\"a4e89e32-6c2f-4312-a4fe-744d25b3b9bd\",\"type\":\"Line\"},\"selection_glyph\":null},\"id\":\"1bfd6e94-3b5b-4780-8d57-14260f895fb2\",\"type\":\"GlyphRenderer\"},{\"attributes\":{\"plot\":{\"id\":\"f81a1db6-a0e4-4ea7-bd3b-7213a4ef19c9\",\"subtype\":\"Figure\",\"type\":\"Plot\"}},\"id\":\"d2ac97fd-c319-420d-b9f8-a83896900b62\",\"type\":\"PanTool\"},{\"attributes\":{\"line_color\":{\"value\":\"#e8000b\"},\"x\":{\"field\":\"x\"},\"y\":{\"field\":\"y\"}},\"id\":\"efac0ad3-d367-490d-8b7f-8ee435f6c3a1\",\"type\":\"Line\"},{\"attributes\":{\"data_source\":{\"id\":\"007246c0-9839-4961-8aa4-6427eea438d5\",\"type\":\"ColumnDataSource\"},\"glyph\":{\"id\":\"7672c004-4d3a-4d9d-965f-46373d1b91f0\",\"type\":\"Circle\"},\"hover_glyph\":null,\"nonselection_glyph\":{\"id\":\"de6f428d-6e55-414e-8922-2770fa3c4c0a\",\"type\":\"Circle\"},\"selection_glyph\":null},\"id\":\"0ee8b4c0-7a45-4116-8270-aa3695ab5e3e\",\"type\":\"GlyphRenderer\"},{\"attributes\":{\"fill_alpha\":{\"value\":0.1},\"fill_color\":{\"value\":\"#1f77b4\"},\"line_alpha\":{\"value\":0.1},\"line_color\":{\"value\":\"#1f77b4\"},\"size\":{\"units\":\"screen\",\"value\":8},\"x\":{\"field\":\"x\"},\"y\":{\"field\":\"y\"}},\"id\":\"6eedf747-26a9-44aa-b63e-a7022eb84858\",\"type\":\"Circle\"},{\"attributes\":{\"fill_color\":{\"value\":\"#e8000b\"},\"size\":{\"units\":\"screen\",\"value\":8},\"x\":{\"field\":\"x\"},\"y\":{\"field\":\"y\"}},\"id\":\"af1b5f80-59d9-4fae-8ed1-7f9c46270d7c\",\"type\":\"Circle\"},{\"attributes\":{\"below\":[{\"id\":\"1bcdf9ce-dd6f-4fde-8031-e56ee9f1de49\",\"type\":\"LinearAxis\"}],\"left\":[{\"id\":\"81887ec7-ba1c-44c9-8555-8907d005eadd\",\"type\":\"LinearAxis\"}],\"plot_height\":300,\"plot_width\":400,\"renderers\":[{\"id\":\"1bcdf9ce-dd6f-4fde-8031-e56ee9f1de49\",\"type\":\"LinearAxis\"},{\"id\":\"a1db7d30-42d6-45f6-b6bb-41427f9ce255\",\"type\":\"Grid\"},{\"id\":\"81887ec7-ba1c-44c9-8555-8907d005eadd\",\"type\":\"LinearAxis\"},{\"id\":\"2dce068d-d44b-4922-b168-8b8afe12d011\",\"type\":\"Grid\"},{\"id\":\"3fe15bbe-4f2c-4b1d-9020-20e66c9008bc\",\"type\":\"BoxAnnotation\"},{\"id\":\"9e7e1446-641f-4e5e-8e1a-b20604690c63\",\"type\":\"GlyphRenderer\"},{\"id\":\"37303d97-e640-4005-bc24-a64d598b1e9c\",\"type\":\"GlyphRenderer\"},{\"id\":\"0ee8b4c0-7a45-4116-8270-aa3695ab5e3e\",\"type\":\"GlyphRenderer\"},{\"id\":\"1bfd6e94-3b5b-4780-8d57-14260f895fb2\",\"type\":\"GlyphRenderer\"},{\"id\":\"93bd17c2-fa0c-4984-a29b-e8f813160857\",\"type\":\"GlyphRenderer\"},{\"id\":\"94775a2c-d9a9-46a3-92ca-9dfe75583757\",\"type\":\"GlyphRenderer\"},{\"id\":\"af1f87f2-67a6-41b9-9728-c6dccbf16c9b\",\"type\":\"GlyphRenderer\"},{\"id\":\"56280e69-e106-4438-a2c9-f08d28ffa5e0\",\"type\":\"GlyphRenderer\"},{\"id\":\"b41b99f0-4066-48fc-9e71-67262a4fed7b\",\"type\":\"GlyphRenderer\"},{\"id\":\"9b38e374-fa53-476d-88b0-fc1d5f135082\",\"type\":\"GlyphRenderer\"},{\"id\":\"c2278830-92fb-4b05-8dfc-a37ef64ca22f\",\"type\":\"GlyphRenderer\"},{\"id\":\"1edc3182-5333-4bcc-a3d2-89e6744e3b37\",\"type\":\"GlyphRenderer\"}],\"title\":null,\"tool_events\":{\"id\":\"985df98c-804a-4b35-856e-4bf6080633cc\",\"type\":\"ToolEvents\"},\"toolbar\":{\"id\":\"6afeae93-7122-4e46-857d-8fa7e9606b34\",\"type\":\"Toolbar\"},\"x_range\":{\"id\":\"e365e4b8-2d2b-4e1c-8cae-bfec6bde0a97\",\"type\":\"DataRange1d\"},\"y_range\":{\"id\":\"f04352df-9fa7-4be2-aabf-daa52a87babd\",\"type\":\"DataRange1d\"}},\"id\":\"f81a1db6-a0e4-4ea7-bd3b-7213a4ef19c9\",\"subtype\":\"Figure\",\"type\":\"Plot\"},{\"attributes\":{\"data_source\":{\"id\":\"613902bd-d60e-47e0-8276-d9dfceeba3d3\",\"type\":\"ColumnDataSource\"},\"glyph\":{\"id\":\"efac0ad3-d367-490d-8b7f-8ee435f6c3a1\",\"type\":\"Line\"},\"hover_glyph\":null,\"nonselection_glyph\":{\"id\":\"0ccca274-2cba-45b5-a22b-f6b499c3381b\",\"type\":\"Line\"},\"selection_glyph\":null},\"id\":\"1edc3182-5333-4bcc-a3d2-89e6744e3b37\",\"type\":\"GlyphRenderer\"},{\"attributes\":{\"data_source\":{\"id\":\"0c8214a4-f133-4e19-aa65-95f0b2174e7d\",\"type\":\"ColumnDataSource\"},\"glyph\":{\"id\":\"e717da66-d628-48d6-b9d5-bfce6ff1ca78\",\"type\":\"Circle\"},\"hover_glyph\":null,\"nonselection_glyph\":{\"id\":\"e5087a4f-77b4-4cf4-a878-9301cf6dbaf0\",\"type\":\"Circle\"},\"selection_glyph\":null},\"id\":\"9e7e1446-641f-4e5e-8e1a-b20604690c63\",\"type\":\"GlyphRenderer\"},{\"attributes\":{\"callback\":null,\"column_names\":[\"x\",\"y\"],\"data\":{\"x\":{\"__ndarray__\":\"AAAAAAAAAAAAAAAAAAAAQA==\",\"dtype\":\"float64\",\"shape\":[2]},\"y\":{\"__ndarray__\":\"zLieGd/W0L+kdxfPXmoCQA==\",\"dtype\":\"float64\",\"shape\":[2]}}},\"id\":\"332d4e86-9d4f-4035-b052-661b8117b842\",\"type\":\"ColumnDataSource\"},{\"attributes\":{\"data_source\":{\"id\":\"5967309c-69c9-4ea6-8335-aacfc950a7e2\",\"type\":\"ColumnDataSource\"},\"glyph\":{\"id\":\"f0a35d7e-ad26-48fc-a58b-e2a6c08b64e9\",\"type\":\"Line\"},\"hover_glyph\":null,\"nonselection_glyph\":{\"id\":\"818148fe-aaf9-4169-bde0-1796c2b3780a\",\"type\":\"Line\"},\"selection_glyph\":null},\"id\":\"9b38e374-fa53-476d-88b0-fc1d5f135082\",\"type\":\"GlyphRenderer\"},{\"attributes\":{\"data_source\":{\"id\":\"a5569fdd-92c5-467c-8f4d-f1e55fd2fb6b\",\"type\":\"ColumnDataSource\"},\"glyph\":{\"id\":\"b9ca5790-a995-48e8-b914-952d8c5d2660\",\"type\":\"Line\"},\"hover_glyph\":null,\"nonselection_glyph\":{\"id\":\"b8e3447c-7829-453b-9a7e-3d14963b81ba\",\"type\":\"Line\"},\"selection_glyph\":null},\"id\":\"37303d97-e640-4005-bc24-a64d598b1e9c\",\"type\":\"GlyphRenderer\"},{\"attributes\":{\"line_color\":{\"value\":\"#03ed3a\"},\"x\":{\"field\":\"x\"},\"y\":{\"field\":\"y\"}},\"id\":\"f0a35d7e-ad26-48fc-a58b-e2a6c08b64e9\",\"type\":\"Line\"},{\"attributes\":{\"line_alpha\":{\"value\":0.1},\"line_color\":{\"value\":\"#1f77b4\"},\"x\":{\"field\":\"x\"},\"y\":{\"field\":\"y\"}},\"id\":\"cdf40a0b-a009-4055-bfe9-5d6f394f9647\",\"type\":\"Line\"},{\"attributes\":{\"line_alpha\":{\"value\":0.1},\"line_color\":{\"value\":\"#1f77b4\"},\"x\":{\"field\":\"x\"},\"y\":{\"field\":\"y\"}},\"id\":\"a4e89e32-6c2f-4312-a4fe-744d25b3b9bd\",\"type\":\"Line\"},{\"attributes\":{},\"id\":\"e7210fa7-b850-4180-8c93-94f4dea2ad27\",\"type\":\"BasicTickFormatter\"},{\"attributes\":{},\"id\":\"09c21a23-b965-4241-9c6c-f488ea8fb261\",\"type\":\"BasicTicker\"},{\"attributes\":{\"fill_alpha\":{\"value\":0.1},\"fill_color\":{\"value\":\"#1f77b4\"},\"line_alpha\":{\"value\":0.1},\"line_color\":{\"value\":\"#1f77b4\"},\"size\":{\"units\":\"screen\",\"value\":8},\"x\":{\"field\":\"x\"},\"y\":{\"field\":\"y\"}},\"id\":\"33845778-976a-4a87-a3a6-a930feb964f2\",\"type\":\"Circle\"},{\"attributes\":{\"formatter\":{\"id\":\"3e88d8c9-f41e-4f1d-bee8-319a87c9efaa\",\"type\":\"BasicTickFormatter\"},\"plot\":{\"id\":\"f81a1db6-a0e4-4ea7-bd3b-7213a4ef19c9\",\"subtype\":\"Figure\",\"type\":\"Plot\"},\"ticker\":{\"id\":\"09c21a23-b965-4241-9c6c-f488ea8fb261\",\"type\":\"BasicTicker\"}},\"id\":\"81887ec7-ba1c-44c9-8555-8907d005eadd\",\"type\":\"LinearAxis\"},{\"attributes\":{\"fill_alpha\":{\"value\":0.1},\"fill_color\":{\"value\":\"#1f77b4\"},\"line_alpha\":{\"value\":0.1},\"line_color\":{\"value\":\"#1f77b4\"},\"size\":{\"units\":\"screen\",\"value\":8},\"x\":{\"field\":\"x\"},\"y\":{\"field\":\"y\"}},\"id\":\"f8b8cc45-2aa6-413c-b4e0-ebb8a3829e70\",\"type\":\"Circle\"},{\"attributes\":{\"bottom_units\":\"screen\",\"fill_alpha\":{\"value\":0.5},\"fill_color\":{\"value\":\"lightgrey\"},\"left_units\":\"screen\",\"level\":\"overlay\",\"line_alpha\":{\"value\":1.0},\"line_color\":{\"value\":\"black\"},\"line_dash\":[4,4],\"line_width\":{\"value\":2},\"plot\":null,\"render_mode\":\"css\",\"right_units\":\"screen\",\"top_units\":\"screen\"},\"id\":\"3fe15bbe-4f2c-4b1d-9020-20e66c9008bc\",\"type\":\"BoxAnnotation\"},{\"attributes\":{\"callback\":null,\"column_names\":[\"x\",\"y\"],\"data\":{\"x\":{\"__ndarray__\":\"+OBpO8gh4z/cCceu3pXzPw==\",\"dtype\":\"float64\",\"shape\":[2]},\"y\":{\"__ndarray__\":\"AAAAAAAA4D8AAAAAAADwPw==\",\"dtype\":\"float64\",\"shape\":[2]}}},\"id\":\"007246c0-9839-4961-8aa4-6427eea438d5\",\"type\":\"ColumnDataSource\"},{\"attributes\":{\"active_drag\":\"auto\",\"active_scroll\":\"auto\",\"active_tap\":\"auto\",\"tools\":[{\"id\":\"d2ac97fd-c319-420d-b9f8-a83896900b62\",\"type\":\"PanTool\"},{\"id\":\"3638ca8a-8ea0-4297-a9c1-cc5435605ae9\",\"type\":\"WheelZoomTool\"},{\"id\":\"c1c5713b-be22-4702-b1ce-1239ce3153da\",\"type\":\"BoxZoomTool\"},{\"id\":\"0cf39831-71e8-4f11-b7a1-0a42d1337e4e\",\"type\":\"SaveTool\"},{\"id\":\"ac905658-1e79-4920-9620-0dffff88aebb\",\"type\":\"ResetTool\"},{\"id\":\"c7af2749-b53a-4f4d-8397-5ac9331a3481\",\"type\":\"HelpTool\"}]},\"id\":\"6afeae93-7122-4e46-857d-8fa7e9606b34\",\"type\":\"Toolbar\"},{\"attributes\":{\"plot\":{\"id\":\"f81a1db6-a0e4-4ea7-bd3b-7213a4ef19c9\",\"subtype\":\"Figure\",\"type\":\"Plot\"},\"ticker\":{\"id\":\"3f22c90a-d946-4e22-932f-1f6f1eea3610\",\"type\":\"BasicTicker\"}},\"id\":\"a1db7d30-42d6-45f6-b6bb-41427f9ce255\",\"type\":\"Grid\"},{\"attributes\":{\"callback\":null,\"column_names\":[\"x\",\"y\"],\"data\":{\"x\":{\"__ndarray__\":\"AAAAAAAAAAAAAAAAAAAAQA==\",\"dtype\":\"float64\",\"shape\":[2]},\"y\":{\"__ndarray__\":\"gHhEUPSlrD8oy4nay+n9Pw==\",\"dtype\":\"float64\",\"shape\":[2]}}},\"id\":\"5967309c-69c9-4ea6-8335-aacfc950a7e2\",\"type\":\"ColumnDataSource\"}],\"root_ids\":[\"f81a1db6-a0e4-4ea7-bd3b-7213a4ef19c9\"]},\"title\":\"Bokeh Application\",\"version\":\"0.12.4\"}};\n",
       "            var render_items = [{\"docid\":\"3323af33-53ae-4600-88cc-12d1fbe1a55e\",\"elementid\":\"7fc93bd3-919b-42e0-b9e5-b3abae64f20f\",\"modelid\":\"f81a1db6-a0e4-4ea7-bd3b-7213a4ef19c9\"}];\n",
       "            \n",
       "            Bokeh.embed.embed_items(docs_json, render_items);\n",
       "          };\n",
       "          if (document.readyState != \"loading\") fn();\n",
       "          else document.addEventListener(\"DOMContentLoaded\", fn);\n",
       "        })();\n",
       "      },\n",
       "      function(Bokeh) {\n",
       "      }\n",
       "    ];\n",
       "  \n",
       "    function run_inline_js() {\n",
       "      \n",
       "      if ((window.Bokeh !== undefined) || (force === true)) {\n",
       "        for (var i = 0; i < inline_js.length; i++) {\n",
       "          inline_js[i](window.Bokeh);\n",
       "        }if (force === true) {\n",
       "          display_loaded();\n",
       "        }} else if (Date.now() < window._bokeh_timeout) {\n",
       "        setTimeout(run_inline_js, 100);\n",
       "      } else if (!window._bokeh_failed_load) {\n",
       "        console.log(\"Bokeh: BokehJS failed to load within specified timeout.\");\n",
       "        window._bokeh_failed_load = true;\n",
       "      } else if (force !== true) {\n",
       "        var cell = $(document.getElementById(\"7fc93bd3-919b-42e0-b9e5-b3abae64f20f\")).parents('.cell').data().cell;\n",
       "        cell.output_area.append_execute_result(NB_LOAD_WARNING)\n",
       "      }\n",
       "  \n",
       "    }\n",
       "  \n",
       "    if (window._bokeh_is_loading === 0) {\n",
       "      console.log(\"Bokeh: BokehJS loaded, going straight to plotting\");\n",
       "      run_inline_js();\n",
       "    } else {\n",
       "      load_libs(js_urls, function() {\n",
       "        console.log(\"Bokeh: BokehJS plotting callback run at\", now());\n",
       "        run_inline_js();\n",
       "      });\n",
       "    }\n",
       "  }(this));\n",
       "</script>"
      ]
     },
     "metadata": {},
     "output_type": "display_data"
    }
   ],
   "source": [
    "np.random.seed(0)\n",
    "fig = bk.figure(plot_width=400, plot_height=300, title=None)\n",
    "\n",
    "for i in range(6):\n",
    "    noise = np.random.normal(loc=0, scale=.1, size=X.shape)\n",
    "    noisy_X = X + noise\n",
    "    regr.fit(noisy_X, y)\n",
    "    \n",
    "    fig.circle(noisy_X[:,0], y, size=8, fill_color=cat_colors[i], line_color='black')\n",
    "    fig.line(X_test[:,0], regr.predict(X_test), color=cat_colors[i])\n",
    "bk.show(fig)"
   ]
  },
  {
   "cell_type": "markdown",
   "metadata": {},
   "source": [
    "As we can see, our linear model captures and amplifies the noise in the data. It displays a lot of variance. This means that if we subsample the data and we fit a different model to each subsample (each pair of points) we obtain a model that differ substantially from the true model. There are several techniques to reduce variance. **Regularization** is one of those, it is a way to change the tradeoff between Bias and Variance by putting more weights on either one. We will briefly use it in this example while we leave a more detailed explanation for the next section.\n",
    "\n",
    "We can use another linear estimator that uses **regularization**: the Ridge estimator. This estimator regularizes the coefficients by shrinking them to zero, under the assumption that very high correlations are often spurious. High alphas give high regularization (shrinkage):"
   ]
  },
  {
   "cell_type": "code",
   "execution_count": 11,
   "metadata": {
    "collapsed": false
   },
   "outputs": [
    {
     "data": {
      "text/html": [
       "\n",
       "\n",
       "    <div class=\"bk-root\">\n",
       "        <div class=\"bk-plotdiv\" id=\"9cf89fb4-df12-48e0-a704-6cee0184ff07\"></div>\n",
       "    </div>\n",
       "<script type=\"text/javascript\">\n",
       "  \n",
       "  (function(global) {\n",
       "    function now() {\n",
       "      return new Date();\n",
       "    }\n",
       "  \n",
       "    var force = false;\n",
       "  \n",
       "    if (typeof (window._bokeh_onload_callbacks) === \"undefined\" || force === true) {\n",
       "      window._bokeh_onload_callbacks = [];\n",
       "      window._bokeh_is_loading = undefined;\n",
       "    }\n",
       "  \n",
       "  \n",
       "    \n",
       "    if (typeof (window._bokeh_timeout) === \"undefined\" || force === true) {\n",
       "      window._bokeh_timeout = Date.now() + 0;\n",
       "      window._bokeh_failed_load = false;\n",
       "    }\n",
       "  \n",
       "    var NB_LOAD_WARNING = {'data': {'text/html':\n",
       "       \"<div style='background-color: #fdd'>\\n\"+\n",
       "       \"<p>\\n\"+\n",
       "       \"BokehJS does not appear to have successfully loaded. If loading BokehJS from CDN, this \\n\"+\n",
       "       \"may be due to a slow or bad network connection. Possible fixes:\\n\"+\n",
       "       \"</p>\\n\"+\n",
       "       \"<ul>\\n\"+\n",
       "       \"<li>re-rerun `output_notebook()` to attempt to load from CDN again, or</li>\\n\"+\n",
       "       \"<li>use INLINE resources instead, as so:</li>\\n\"+\n",
       "       \"</ul>\\n\"+\n",
       "       \"<code>\\n\"+\n",
       "       \"from bokeh.resources import INLINE\\n\"+\n",
       "       \"output_notebook(resources=INLINE)\\n\"+\n",
       "       \"</code>\\n\"+\n",
       "       \"</div>\"}};\n",
       "  \n",
       "    function display_loaded() {\n",
       "      if (window.Bokeh !== undefined) {\n",
       "        document.getElementById(\"9cf89fb4-df12-48e0-a704-6cee0184ff07\").textContent = \"BokehJS successfully loaded.\";\n",
       "      } else if (Date.now() < window._bokeh_timeout) {\n",
       "        setTimeout(display_loaded, 100)\n",
       "      }\n",
       "    }\n",
       "  \n",
       "    function run_callbacks() {\n",
       "      window._bokeh_onload_callbacks.forEach(function(callback) { callback() });\n",
       "      delete window._bokeh_onload_callbacks\n",
       "      console.info(\"Bokeh: all callbacks have finished\");\n",
       "    }\n",
       "  \n",
       "    function load_libs(js_urls, callback) {\n",
       "      window._bokeh_onload_callbacks.push(callback);\n",
       "      if (window._bokeh_is_loading > 0) {\n",
       "        console.log(\"Bokeh: BokehJS is being loaded, scheduling callback at\", now());\n",
       "        return null;\n",
       "      }\n",
       "      if (js_urls == null || js_urls.length === 0) {\n",
       "        run_callbacks();\n",
       "        return null;\n",
       "      }\n",
       "      console.log(\"Bokeh: BokehJS not loaded, scheduling load and callback at\", now());\n",
       "      window._bokeh_is_loading = js_urls.length;\n",
       "      for (var i = 0; i < js_urls.length; i++) {\n",
       "        var url = js_urls[i];\n",
       "        var s = document.createElement('script');\n",
       "        s.src = url;\n",
       "        s.async = false;\n",
       "        s.onreadystatechange = s.onload = function() {\n",
       "          window._bokeh_is_loading--;\n",
       "          if (window._bokeh_is_loading === 0) {\n",
       "            console.log(\"Bokeh: all BokehJS libraries loaded\");\n",
       "            run_callbacks()\n",
       "          }\n",
       "        };\n",
       "        s.onerror = function() {\n",
       "          console.warn(\"failed to load library \" + url);\n",
       "        };\n",
       "        console.log(\"Bokeh: injecting script tag for BokehJS library: \", url);\n",
       "        document.getElementsByTagName(\"head\")[0].appendChild(s);\n",
       "      }\n",
       "    };var element = document.getElementById(\"9cf89fb4-df12-48e0-a704-6cee0184ff07\");\n",
       "    if (element == null) {\n",
       "      console.log(\"Bokeh: ERROR: autoload.js configured with elementid '9cf89fb4-df12-48e0-a704-6cee0184ff07' but no matching script tag was found. \")\n",
       "      return false;\n",
       "    }\n",
       "  \n",
       "    var js_urls = [];\n",
       "  \n",
       "    var inline_js = [\n",
       "      function(Bokeh) {\n",
       "        (function() {\n",
       "          var fn = function() {\n",
       "            var docs_json = {\"e43dabf8-ff54-4aee-9603-18936bb6bbb9\":{\"roots\":{\"references\":[{\"attributes\":{\"callback\":null,\"column_names\":[\"x\",\"y\"],\"data\":{\"x\":{\"__ndarray__\":\"cut1F/PH5D+IMJUx71fvPw==\",\"dtype\":\"float64\",\"shape\":[2]},\"y\":{\"__ndarray__\":\"AAAAAAAA4D8AAAAAAADwPw==\",\"dtype\":\"float64\",\"shape\":[2]}}},\"id\":\"4949c76b-faec-45ce-b4cf-89c69ff4325b\",\"type\":\"ColumnDataSource\"},{\"attributes\":{\"active_drag\":\"auto\",\"active_scroll\":\"auto\",\"active_tap\":\"auto\",\"tools\":[{\"id\":\"4ad9a2ab-f841-4300-bf4c-3d85a4f78d34\",\"type\":\"PanTool\"},{\"id\":\"c7d3f96a-e285-4f16-b155-a1394c60d2b9\",\"type\":\"WheelZoomTool\"},{\"id\":\"d864a1f8-7195-47d0-b825-4d416c02d9ed\",\"type\":\"BoxZoomTool\"},{\"id\":\"c26ccb81-930e-4a45-8145-9c0147e24798\",\"type\":\"SaveTool\"},{\"id\":\"72a49cb7-404e-4795-a1fc-d701d87ff67f\",\"type\":\"ResetTool\"},{\"id\":\"d16b7ff3-2140-4107-9e39-e028e17689cd\",\"type\":\"HelpTool\"}]},\"id\":\"16899506-024e-4dd4-af61-c8bbd9fd8387\",\"type\":\"Toolbar\"},{\"attributes\":{\"fill_color\":{\"value\":\"#03ed3a\"},\"size\":{\"units\":\"screen\",\"value\":8},\"x\":{\"field\":\"x\"},\"y\":{\"field\":\"y\"}},\"id\":\"ec79bbdd-6635-4b68-9ba7-7fc78ae26a72\",\"type\":\"Circle\"},{\"attributes\":{\"data_source\":{\"id\":\"06f72fbf-f47b-4b7a-bba8-aeab1e51c5b0\",\"type\":\"ColumnDataSource\"},\"glyph\":{\"id\":\"87697989-9fd2-4a16-aa05-fbccc86bc930\",\"type\":\"Line\"},\"hover_glyph\":null,\"nonselection_glyph\":{\"id\":\"a1318c68-5ecf-4844-8436-b4d2cf11af77\",\"type\":\"Line\"},\"selection_glyph\":null},\"id\":\"ec632e37-3111-4b9a-8a4b-12f2f83161fc\",\"type\":\"GlyphRenderer\"},{\"attributes\":{\"line_color\":{\"value\":\"#8a2be2\"},\"x\":{\"field\":\"x\"},\"y\":{\"field\":\"y\"}},\"id\":\"ead805d6-4436-48d4-8ee6-411078fe7469\",\"type\":\"Line\"},{\"attributes\":{\"line_color\":{\"value\":\"#ffc400\"},\"x\":{\"field\":\"x\"},\"y\":{\"field\":\"y\"}},\"id\":\"929a323b-8fa2-40f8-9a95-9eb27de87b25\",\"type\":\"Line\"},{\"attributes\":{\"callback\":null,\"column_names\":[\"x\",\"y\"],\"data\":{\"x\":{\"__ndarray__\":\"ArHBLXFv4j/shdqM1jHwPw==\",\"dtype\":\"float64\",\"shape\":[2]},\"y\":{\"__ndarray__\":\"AAAAAAAA4D8AAAAAAADwPw==\",\"dtype\":\"float64\",\"shape\":[2]}}},\"id\":\"4c05eeb0-2b55-4565-a020-96c2f2adeba0\",\"type\":\"ColumnDataSource\"},{\"attributes\":{\"line_alpha\":{\"value\":0.1},\"line_color\":{\"value\":\"#1f77b4\"},\"x\":{\"field\":\"x\"},\"y\":{\"field\":\"y\"}},\"id\":\"c28c22bb-f63f-472a-b17b-dc7f85a11147\",\"type\":\"Line\"},{\"attributes\":{\"plot\":{\"id\":\"e2595ceb-dff8-4bc7-ac99-fe6f817621da\",\"subtype\":\"Figure\",\"type\":\"Plot\"},\"ticker\":{\"id\":\"85d9a0c4-03e6-41f2-814b-d5cfaf95e807\",\"type\":\"BasicTicker\"}},\"id\":\"9c3cfcbd-8e03-4176-b3e9-9ae8b6e5407e\",\"type\":\"Grid\"},{\"attributes\":{\"callback\":null},\"id\":\"6350f702-6561-48ee-830c-db78c8f6c76d\",\"type\":\"DataRange1d\"},{\"attributes\":{\"callback\":null,\"column_names\":[\"x\",\"y\"],\"data\":{\"x\":{\"__ndarray__\":\"AAAAAAAAAAAAAAAAAAAAQA==\",\"dtype\":\"float64\",\"shape\":[2]},\"y\":{\"__ndarray__\":\"+1PBQIpc2z9m1rnxHZj2Pw==\",\"dtype\":\"float64\",\"shape\":[2]}}},\"id\":\"a2ca12b3-9ffa-4a13-a9b1-d449b3d18862\",\"type\":\"ColumnDataSource\"},{\"attributes\":{\"data_source\":{\"id\":\"21d7ae57-f8f8-41a7-80a5-c1f20cd9f1a9\",\"type\":\"ColumnDataSource\"},\"glyph\":{\"id\":\"b4bf7b53-3a23-4559-be28-c8c18b2051e8\",\"type\":\"Line\"},\"hover_glyph\":null,\"nonselection_glyph\":{\"id\":\"ade393c0-210f-4746-a3ed-f3520c2ed14d\",\"type\":\"Line\"},\"selection_glyph\":null},\"id\":\"81060784-7347-4a48-8571-d47b9fc424de\",\"type\":\"GlyphRenderer\"},{\"attributes\":{\"line_color\":{\"value\":\"#e8000b\"},\"x\":{\"field\":\"x\"},\"y\":{\"field\":\"y\"}},\"id\":\"fae82e75-cd5f-403b-9606-0219aaa3f8c1\",\"type\":\"Line\"},{\"attributes\":{\"line_alpha\":{\"value\":0.1},\"line_color\":{\"value\":\"#1f77b4\"},\"x\":{\"field\":\"x\"},\"y\":{\"field\":\"y\"}},\"id\":\"c65e9fe8-8d60-4e43-8e71-b828748dcf2d\",\"type\":\"Line\"},{\"attributes\":{\"fill_alpha\":{\"value\":0.1},\"fill_color\":{\"value\":\"#1f77b4\"},\"line_alpha\":{\"value\":0.1},\"line_color\":{\"value\":\"#1f77b4\"},\"size\":{\"units\":\"screen\",\"value\":8},\"x\":{\"field\":\"x\"},\"y\":{\"field\":\"y\"}},\"id\":\"8b2deb18-2944-485b-9203-1c86c4d3fe50\",\"type\":\"Circle\"},{\"attributes\":{\"data_source\":{\"id\":\"4c05eeb0-2b55-4565-a020-96c2f2adeba0\",\"type\":\"ColumnDataSource\"},\"glyph\":{\"id\":\"3d14da24-394e-4baf-bb33-1c2af12f7317\",\"type\":\"Circle\"},\"hover_glyph\":null,\"nonselection_glyph\":{\"id\":\"d0656ab8-50e2-4e39-9de3-366d5a8fe094\",\"type\":\"Circle\"},\"selection_glyph\":null},\"id\":\"539d1b40-eda6-4bdf-8241-90f473f6eafe\",\"type\":\"GlyphRenderer\"},{\"attributes\":{\"line_alpha\":{\"value\":0.1},\"line_color\":{\"value\":\"#1f77b4\"},\"x\":{\"field\":\"x\"},\"y\":{\"field\":\"y\"}},\"id\":\"ade393c0-210f-4746-a3ed-f3520c2ed14d\",\"type\":\"Line\"},{\"attributes\":{\"callback\":null,\"column_names\":[\"x\",\"y\"],\"data\":{\"x\":{\"__ndarray__\":\"2HQLaSXE4j9qLt22BKDtPw==\",\"dtype\":\"float64\",\"shape\":[2]},\"y\":{\"__ndarray__\":\"AAAAAAAA4D8AAAAAAADwPw==\",\"dtype\":\"float64\",\"shape\":[2]}}},\"id\":\"cd744f2f-242b-41e2-98cf-e9843089a2b2\",\"type\":\"ColumnDataSource\"},{\"attributes\":{\"data_source\":{\"id\":\"f1214f5c-da0e-4062-ad77-c103bda5258c\",\"type\":\"ColumnDataSource\"},\"glyph\":{\"id\":\"01a0131f-58bb-4dcc-b2d6-a3edc268cf63\",\"type\":\"Circle\"},\"hover_glyph\":null,\"nonselection_glyph\":{\"id\":\"8d1fdd7f-d1bb-416b-8462-0df73824f86a\",\"type\":\"Circle\"},\"selection_glyph\":null},\"id\":\"5fc15a8a-70cf-428b-8862-3ffb9873adad\",\"type\":\"GlyphRenderer\"},{\"attributes\":{\"fill_color\":{\"value\":\"#8a2be2\"},\"size\":{\"units\":\"screen\",\"value\":8},\"x\":{\"field\":\"x\"},\"y\":{\"field\":\"y\"}},\"id\":\"3d14da24-394e-4baf-bb33-1c2af12f7317\",\"type\":\"Circle\"},{\"attributes\":{},\"id\":\"384c16ff-4741-4214-aa0c-0bcb8d64f7ec\",\"type\":\"BasicTickFormatter\"},{\"attributes\":{},\"id\":\"3c2ae3e7-94fe-4b70-a664-d7070676d2b9\",\"type\":\"BasicTickFormatter\"},{\"attributes\":{\"callback\":null,\"column_names\":[\"x\",\"y\"],\"data\":{\"x\":{\"__ndarray__\":\"AAAAAAAAAAAAAAAAAAAAQA==\",\"dtype\":\"float64\",\"shape\":[2]},\"y\":{\"__ndarray__\":\"XvkMu/Ao0j8qLDaxw0X4Pw==\",\"dtype\":\"float64\",\"shape\":[2]}}},\"id\":\"3c9bc503-834e-4f6c-b982-97e60d95bc49\",\"type\":\"ColumnDataSource\"},{\"attributes\":{\"fill_alpha\":{\"value\":0.1},\"fill_color\":{\"value\":\"#1f77b4\"},\"line_alpha\":{\"value\":0.1},\"line_color\":{\"value\":\"#1f77b4\"},\"size\":{\"units\":\"screen\",\"value\":8},\"x\":{\"field\":\"x\"},\"y\":{\"field\":\"y\"}},\"id\":\"d0656ab8-50e2-4e39-9de3-366d5a8fe094\",\"type\":\"Circle\"},{\"attributes\":{\"data_source\":{\"id\":\"bb1a0c10-bdfb-4fe8-bc19-21b578394ec9\",\"type\":\"ColumnDataSource\"},\"glyph\":{\"id\":\"26ca9abe-2601-4f98-93f1-6e501637b4c6\",\"type\":\"Circle\"},\"hover_glyph\":null,\"nonselection_glyph\":{\"id\":\"5d7664ec-6865-48cf-9bc1-66bc876a8c9e\",\"type\":\"Circle\"},\"selection_glyph\":null},\"id\":\"56a30557-a3ba-4266-8d30-d73f318fc7ba\",\"type\":\"GlyphRenderer\"},{\"attributes\":{\"data_source\":{\"id\":\"8b8edb21-2d7d-4297-9c56-c7158617b8b5\",\"type\":\"ColumnDataSource\"},\"glyph\":{\"id\":\"ead805d6-4436-48d4-8ee6-411078fe7469\",\"type\":\"Line\"},\"hover_glyph\":null,\"nonselection_glyph\":{\"id\":\"5484b6ca-6c24-4e26-9508-171c13bba237\",\"type\":\"Line\"},\"selection_glyph\":null},\"id\":\"c4a4229d-4b2e-4f81-a096-b3e95fcfd545\",\"type\":\"GlyphRenderer\"},{\"attributes\":{\"line_alpha\":{\"value\":0.1},\"line_color\":{\"value\":\"#1f77b4\"},\"x\":{\"field\":\"x\"},\"y\":{\"field\":\"y\"}},\"id\":\"5484b6ca-6c24-4e26-9508-171c13bba237\",\"type\":\"Line\"},{\"attributes\":{\"line_alpha\":{\"value\":0.1},\"line_color\":{\"value\":\"#1f77b4\"},\"x\":{\"field\":\"x\"},\"y\":{\"field\":\"y\"}},\"id\":\"8bb05728-0cb8-4df7-bc06-c91d71ad96a1\",\"type\":\"Line\"},{\"attributes\":{\"data_source\":{\"id\":\"3c9bc503-834e-4f6c-b982-97e60d95bc49\",\"type\":\"ColumnDataSource\"},\"glyph\":{\"id\":\"fae82e75-cd5f-403b-9606-0219aaa3f8c1\",\"type\":\"Line\"},\"hover_glyph\":null,\"nonselection_glyph\":{\"id\":\"c28c22bb-f63f-472a-b17b-dc7f85a11147\",\"type\":\"Line\"},\"selection_glyph\":null},\"id\":\"4c38ac1d-6496-40d5-a1ff-4b2ea9401d1d\",\"type\":\"GlyphRenderer\"},{\"attributes\":{},\"id\":\"85d9a0c4-03e6-41f2-814b-d5cfaf95e807\",\"type\":\"BasicTicker\"},{\"attributes\":{\"plot\":{\"id\":\"e2595ceb-dff8-4bc7-ac99-fe6f817621da\",\"subtype\":\"Figure\",\"type\":\"Plot\"}},\"id\":\"c26ccb81-930e-4a45-8145-9c0147e24798\",\"type\":\"SaveTool\"},{\"attributes\":{\"fill_alpha\":{\"value\":0.1},\"fill_color\":{\"value\":\"#1f77b4\"},\"line_alpha\":{\"value\":0.1},\"line_color\":{\"value\":\"#1f77b4\"},\"size\":{\"units\":\"screen\",\"value\":8},\"x\":{\"field\":\"x\"},\"y\":{\"field\":\"y\"}},\"id\":\"34072244-e800-4baf-aa33-b871592b716a\",\"type\":\"Circle\"},{\"attributes\":{\"callback\":null,\"column_names\":[\"x\",\"y\"],\"data\":{\"x\":{\"__ndarray__\":\"AAAAAAAAAAAAAAAAAAAAQA==\",\"dtype\":\"float64\",\"shape\":[2]},\"y\":{\"__ndarray__\":\"h60ltCgS0T93i2dR9973Pw==\",\"dtype\":\"float64\",\"shape\":[2]}}},\"id\":\"06f72fbf-f47b-4b7a-bba8-aeab1e51c5b0\",\"type\":\"ColumnDataSource\"},{\"attributes\":{\"fill_alpha\":{\"value\":0.1},\"fill_color\":{\"value\":\"#1f77b4\"},\"line_alpha\":{\"value\":0.1},\"line_color\":{\"value\":\"#1f77b4\"},\"size\":{\"units\":\"screen\",\"value\":8},\"x\":{\"field\":\"x\"},\"y\":{\"field\":\"y\"}},\"id\":\"8d1fdd7f-d1bb-416b-8462-0df73824f86a\",\"type\":\"Circle\"},{\"attributes\":{\"data_source\":{\"id\":\"cd744f2f-242b-41e2-98cf-e9843089a2b2\",\"type\":\"ColumnDataSource\"},\"glyph\":{\"id\":\"5d2eb8d9-8cee-416c-a94f-5004242b145f\",\"type\":\"Circle\"},\"hover_glyph\":null,\"nonselection_glyph\":{\"id\":\"1cf1a7d9-5aa2-49f6-b9f0-435f97490bd2\",\"type\":\"Circle\"},\"selection_glyph\":null},\"id\":\"da6a1811-6c76-439a-af3c-750d0b0fa4b7\",\"type\":\"GlyphRenderer\"},{\"attributes\":{\"fill_color\":{\"value\":\"#e8000b\"},\"size\":{\"units\":\"screen\",\"value\":8},\"x\":{\"field\":\"x\"},\"y\":{\"field\":\"y\"}},\"id\":\"5d2eb8d9-8cee-416c-a94f-5004242b145f\",\"type\":\"Circle\"},{\"attributes\":{\"callback\":null,\"column_names\":[\"x\",\"y\"],\"data\":{\"x\":{\"__ndarray__\":\"sVLb3Zxr4T9ZvQVKrIjwPw==\",\"dtype\":\"float64\",\"shape\":[2]},\"y\":{\"__ndarray__\":\"AAAAAAAA4D8AAAAAAADwPw==\",\"dtype\":\"float64\",\"shape\":[2]}}},\"id\":\"bb1a0c10-bdfb-4fe8-bc19-21b578394ec9\",\"type\":\"ColumnDataSource\"},{\"attributes\":{\"data_source\":{\"id\":\"977e35d0-bb39-45d7-8f0b-f278707057ae\",\"type\":\"ColumnDataSource\"},\"glyph\":{\"id\":\"929a323b-8fa2-40f8-9a95-9eb27de87b25\",\"type\":\"Line\"},\"hover_glyph\":null,\"nonselection_glyph\":{\"id\":\"c65e9fe8-8d60-4e43-8e71-b828748dcf2d\",\"type\":\"Line\"},\"selection_glyph\":null},\"id\":\"f9e14fa8-54d8-44bf-b269-ea67fba69860\",\"type\":\"GlyphRenderer\"},{\"attributes\":{\"data_source\":{\"id\":\"a2ca12b3-9ffa-4a13-a9b1-d449b3d18862\",\"type\":\"ColumnDataSource\"},\"glyph\":{\"id\":\"fe6fa07f-d537-4eec-9892-784a6166c298\",\"type\":\"Line\"},\"hover_glyph\":null,\"nonselection_glyph\":{\"id\":\"8bb05728-0cb8-4df7-bc06-c91d71ad96a1\",\"type\":\"Line\"},\"selection_glyph\":null},\"id\":\"93a8d2ce-24bc-403e-bfa1-e52a6c8b9eb8\",\"type\":\"GlyphRenderer\"},{\"attributes\":{\"line_alpha\":{\"value\":0.1},\"line_color\":{\"value\":\"#1f77b4\"},\"x\":{\"field\":\"x\"},\"y\":{\"field\":\"y\"}},\"id\":\"a1318c68-5ecf-4844-8436-b4d2cf11af77\",\"type\":\"Line\"},{\"attributes\":{\"data_source\":{\"id\":\"4949c76b-faec-45ce-b4cf-89c69ff4325b\",\"type\":\"ColumnDataSource\"},\"glyph\":{\"id\":\"5b181816-8140-4fa9-8cf9-af2c4393346d\",\"type\":\"Circle\"},\"hover_glyph\":null,\"nonselection_glyph\":{\"id\":\"34072244-e800-4baf-aa33-b871592b716a\",\"type\":\"Circle\"},\"selection_glyph\":null},\"id\":\"8adc983b-668e-488f-abb8-83692f550054\",\"type\":\"GlyphRenderer\"},{\"attributes\":{\"fill_color\":{\"value\":\"#00d7ff\"},\"size\":{\"units\":\"screen\",\"value\":8},\"x\":{\"field\":\"x\"},\"y\":{\"field\":\"y\"}},\"id\":\"01a0131f-58bb-4dcc-b2d6-a3edc268cf63\",\"type\":\"Circle\"},{\"attributes\":{\"fill_alpha\":{\"value\":0.1},\"fill_color\":{\"value\":\"#1f77b4\"},\"line_alpha\":{\"value\":0.1},\"line_color\":{\"value\":\"#1f77b4\"},\"size\":{\"units\":\"screen\",\"value\":8},\"x\":{\"field\":\"x\"},\"y\":{\"field\":\"y\"}},\"id\":\"1cf1a7d9-5aa2-49f6-b9f0-435f97490bd2\",\"type\":\"Circle\"},{\"attributes\":{\"callback\":null,\"column_names\":[\"x\",\"y\"],\"data\":{\"x\":{\"__ndarray__\":\"AAAAAAAAAAAAAAAAAAAAQA==\",\"dtype\":\"float64\",\"shape\":[2]},\"y\":{\"__ndarray__\":\"eMuwkkFa0D9sXt7kiwP4Pw==\",\"dtype\":\"float64\",\"shape\":[2]}}},\"id\":\"8b8edb21-2d7d-4297-9c56-c7158617b8b5\",\"type\":\"ColumnDataSource\"},{\"attributes\":{\"callback\":null,\"column_names\":[\"x\",\"y\"],\"data\":{\"x\":{\"__ndarray__\":\"Ctay61xSzz+sW5LguAvxPw==\",\"dtype\":\"float64\",\"shape\":[2]},\"y\":{\"__ndarray__\":\"AAAAAAAA4D8AAAAAAADwPw==\",\"dtype\":\"float64\",\"shape\":[2]}}},\"id\":\"4786957a-a371-46b5-a593-3e4182397844\",\"type\":\"ColumnDataSource\"},{\"attributes\":{\"plot\":{\"id\":\"e2595ceb-dff8-4bc7-ac99-fe6f817621da\",\"subtype\":\"Figure\",\"type\":\"Plot\"}},\"id\":\"4ad9a2ab-f841-4300-bf4c-3d85a4f78d34\",\"type\":\"PanTool\"},{\"attributes\":{\"formatter\":{\"id\":\"3c2ae3e7-94fe-4b70-a664-d7070676d2b9\",\"type\":\"BasicTickFormatter\"},\"plot\":{\"id\":\"e2595ceb-dff8-4bc7-ac99-fe6f817621da\",\"subtype\":\"Figure\",\"type\":\"Plot\"},\"ticker\":{\"id\":\"85d9a0c4-03e6-41f2-814b-d5cfaf95e807\",\"type\":\"BasicTicker\"}},\"id\":\"e21ff7ef-7515-42b2-aba1-a78d886326b7\",\"type\":\"LinearAxis\"},{\"attributes\":{\"plot\":{\"id\":\"e2595ceb-dff8-4bc7-ac99-fe6f817621da\",\"subtype\":\"Figure\",\"type\":\"Plot\"}},\"id\":\"72a49cb7-404e-4795-a1fc-d701d87ff67f\",\"type\":\"ResetTool\"},{\"attributes\":{\"fill_color\":{\"value\":\"#003fff\"},\"size\":{\"units\":\"screen\",\"value\":8},\"x\":{\"field\":\"x\"},\"y\":{\"field\":\"y\"}},\"id\":\"26ca9abe-2601-4f98-93f1-6e501637b4c6\",\"type\":\"Circle\"},{\"attributes\":{\"below\":[{\"id\":\"e21ff7ef-7515-42b2-aba1-a78d886326b7\",\"type\":\"LinearAxis\"}],\"left\":[{\"id\":\"8ae490a5-9926-4d58-a9a6-cfb6d3ec5887\",\"type\":\"LinearAxis\"}],\"plot_height\":300,\"plot_width\":400,\"renderers\":[{\"id\":\"e21ff7ef-7515-42b2-aba1-a78d886326b7\",\"type\":\"LinearAxis\"},{\"id\":\"9c3cfcbd-8e03-4176-b3e9-9ae8b6e5407e\",\"type\":\"Grid\"},{\"id\":\"8ae490a5-9926-4d58-a9a6-cfb6d3ec5887\",\"type\":\"LinearAxis\"},{\"id\":\"df92f864-e40d-4d59-a376-5b7ea3ca48b6\",\"type\":\"Grid\"},{\"id\":\"57336627-5da0-438f-bed0-28d3fdefa71d\",\"type\":\"BoxAnnotation\"},{\"id\":\"539d1b40-eda6-4bdf-8241-90f473f6eafe\",\"type\":\"GlyphRenderer\"},{\"id\":\"c4a4229d-4b2e-4f81-a096-b3e95fcfd545\",\"type\":\"GlyphRenderer\"},{\"id\":\"56a30557-a3ba-4266-8d30-d73f318fc7ba\",\"type\":\"GlyphRenderer\"},{\"id\":\"ec632e37-3111-4b9a-8a4b-12f2f83161fc\",\"type\":\"GlyphRenderer\"},{\"id\":\"8adc983b-668e-488f-abb8-83692f550054\",\"type\":\"GlyphRenderer\"},{\"id\":\"f9e14fa8-54d8-44bf-b269-ea67fba69860\",\"type\":\"GlyphRenderer\"},{\"id\":\"5fc15a8a-70cf-428b-8862-3ffb9873adad\",\"type\":\"GlyphRenderer\"},{\"id\":\"81060784-7347-4a48-8571-d47b9fc424de\",\"type\":\"GlyphRenderer\"},{\"id\":\"3383c901-3ba4-4c0c-b72f-71d775985156\",\"type\":\"GlyphRenderer\"},{\"id\":\"93a8d2ce-24bc-403e-bfa1-e52a6c8b9eb8\",\"type\":\"GlyphRenderer\"},{\"id\":\"da6a1811-6c76-439a-af3c-750d0b0fa4b7\",\"type\":\"GlyphRenderer\"},{\"id\":\"4c38ac1d-6496-40d5-a1ff-4b2ea9401d1d\",\"type\":\"GlyphRenderer\"}],\"title\":null,\"tool_events\":{\"id\":\"0ee3e8dd-85ff-4183-98d7-98b1934b0416\",\"type\":\"ToolEvents\"},\"toolbar\":{\"id\":\"16899506-024e-4dd4-af61-c8bbd9fd8387\",\"type\":\"Toolbar\"},\"x_range\":{\"id\":\"6350f702-6561-48ee-830c-db78c8f6c76d\",\"type\":\"DataRange1d\"},\"y_range\":{\"id\":\"51235186-37f3-41ec-84ce-aaa3a4924dc6\",\"type\":\"DataRange1d\"}},\"id\":\"e2595ceb-dff8-4bc7-ac99-fe6f817621da\",\"subtype\":\"Figure\",\"type\":\"Plot\"},{\"attributes\":{\"fill_color\":{\"value\":\"#ffc400\"},\"size\":{\"units\":\"screen\",\"value\":8},\"x\":{\"field\":\"x\"},\"y\":{\"field\":\"y\"}},\"id\":\"5b181816-8140-4fa9-8cf9-af2c4393346d\",\"type\":\"Circle\"},{\"attributes\":{\"callback\":null,\"column_names\":[\"x\",\"y\"],\"data\":{\"x\":{\"__ndarray__\":\"AAAAAAAAAAAAAAAAAAAAQA==\",\"dtype\":\"float64\",\"shape\":[2]},\"y\":{\"__ndarray__\":\"MA9yw68D0D9OkIT416P3Pw==\",\"dtype\":\"float64\",\"shape\":[2]}}},\"id\":\"977e35d0-bb39-45d7-8f0b-f278707057ae\",\"type\":\"ColumnDataSource\"},{\"attributes\":{\"dimension\":1,\"plot\":{\"id\":\"e2595ceb-dff8-4bc7-ac99-fe6f817621da\",\"subtype\":\"Figure\",\"type\":\"Plot\"},\"ticker\":{\"id\":\"21d6f3c9-cc01-4fc4-bca3-4648ad3f99bc\",\"type\":\"BasicTicker\"}},\"id\":\"df92f864-e40d-4d59-a376-5b7ea3ca48b6\",\"type\":\"Grid\"},{\"attributes\":{\"line_color\":{\"value\":\"#00d7ff\"},\"x\":{\"field\":\"x\"},\"y\":{\"field\":\"y\"}},\"id\":\"b4bf7b53-3a23-4559-be28-c8c18b2051e8\",\"type\":\"Line\"},{\"attributes\":{\"plot\":{\"id\":\"e2595ceb-dff8-4bc7-ac99-fe6f817621da\",\"subtype\":\"Figure\",\"type\":\"Plot\"}},\"id\":\"d16b7ff3-2140-4107-9e39-e028e17689cd\",\"type\":\"HelpTool\"},{\"attributes\":{\"data_source\":{\"id\":\"4786957a-a371-46b5-a593-3e4182397844\",\"type\":\"ColumnDataSource\"},\"glyph\":{\"id\":\"ec79bbdd-6635-4b68-9ba7-7fc78ae26a72\",\"type\":\"Circle\"},\"hover_glyph\":null,\"nonselection_glyph\":{\"id\":\"8b2deb18-2944-485b-9203-1c86c4d3fe50\",\"type\":\"Circle\"},\"selection_glyph\":null},\"id\":\"3383c901-3ba4-4c0c-b72f-71d775985156\",\"type\":\"GlyphRenderer\"},{\"attributes\":{\"line_color\":{\"value\":\"#03ed3a\"},\"x\":{\"field\":\"x\"},\"y\":{\"field\":\"y\"}},\"id\":\"fe6fa07f-d537-4eec-9892-784a6166c298\",\"type\":\"Line\"},{\"attributes\":{\"callback\":null,\"column_names\":[\"x\",\"y\"],\"data\":{\"x\":{\"__ndarray__\":\"AAAAAAAAAAAAAAAAAAAAQA==\",\"dtype\":\"float64\",\"shape\":[2]},\"y\":{\"__ndarray__\":\"Wo6/Kb8b0z9YEJxjRsL4Pw==\",\"dtype\":\"float64\",\"shape\":[2]}}},\"id\":\"21d7ae57-f8f8-41a7-80a5-c1f20cd9f1a9\",\"type\":\"ColumnDataSource\"},{\"attributes\":{},\"id\":\"0ee3e8dd-85ff-4183-98d7-98b1934b0416\",\"type\":\"ToolEvents\"},{\"attributes\":{\"fill_alpha\":{\"value\":0.1},\"fill_color\":{\"value\":\"#1f77b4\"},\"line_alpha\":{\"value\":0.1},\"line_color\":{\"value\":\"#1f77b4\"},\"size\":{\"units\":\"screen\",\"value\":8},\"x\":{\"field\":\"x\"},\"y\":{\"field\":\"y\"}},\"id\":\"5d7664ec-6865-48cf-9bc1-66bc876a8c9e\",\"type\":\"Circle\"},{\"attributes\":{\"line_color\":{\"value\":\"#003fff\"},\"x\":{\"field\":\"x\"},\"y\":{\"field\":\"y\"}},\"id\":\"87697989-9fd2-4a16-aa05-fbccc86bc930\",\"type\":\"Line\"},{\"attributes\":{\"bottom_units\":\"screen\",\"fill_alpha\":{\"value\":0.5},\"fill_color\":{\"value\":\"lightgrey\"},\"left_units\":\"screen\",\"level\":\"overlay\",\"line_alpha\":{\"value\":1.0},\"line_color\":{\"value\":\"black\"},\"line_dash\":[4,4],\"line_width\":{\"value\":2},\"plot\":null,\"render_mode\":\"css\",\"right_units\":\"screen\",\"top_units\":\"screen\"},\"id\":\"57336627-5da0-438f-bed0-28d3fdefa71d\",\"type\":\"BoxAnnotation\"},{\"attributes\":{\"overlay\":{\"id\":\"57336627-5da0-438f-bed0-28d3fdefa71d\",\"type\":\"BoxAnnotation\"},\"plot\":{\"id\":\"e2595ceb-dff8-4bc7-ac99-fe6f817621da\",\"subtype\":\"Figure\",\"type\":\"Plot\"}},\"id\":\"d864a1f8-7195-47d0-b825-4d416c02d9ed\",\"type\":\"BoxZoomTool\"},{\"attributes\":{\"formatter\":{\"id\":\"384c16ff-4741-4214-aa0c-0bcb8d64f7ec\",\"type\":\"BasicTickFormatter\"},\"plot\":{\"id\":\"e2595ceb-dff8-4bc7-ac99-fe6f817621da\",\"subtype\":\"Figure\",\"type\":\"Plot\"},\"ticker\":{\"id\":\"21d6f3c9-cc01-4fc4-bca3-4648ad3f99bc\",\"type\":\"BasicTicker\"}},\"id\":\"8ae490a5-9926-4d58-a9a6-cfb6d3ec5887\",\"type\":\"LinearAxis\"},{\"attributes\":{},\"id\":\"21d6f3c9-cc01-4fc4-bca3-4648ad3f99bc\",\"type\":\"BasicTicker\"},{\"attributes\":{\"callback\":null,\"column_names\":[\"x\",\"y\"],\"data\":{\"x\":{\"__ndarray__\":\"ExRADncA4T81jCYkU0TtPw==\",\"dtype\":\"float64\",\"shape\":[2]},\"y\":{\"__ndarray__\":\"AAAAAAAA4D8AAAAAAADwPw==\",\"dtype\":\"float64\",\"shape\":[2]}}},\"id\":\"f1214f5c-da0e-4062-ad77-c103bda5258c\",\"type\":\"ColumnDataSource\"},{\"attributes\":{\"plot\":{\"id\":\"e2595ceb-dff8-4bc7-ac99-fe6f817621da\",\"subtype\":\"Figure\",\"type\":\"Plot\"}},\"id\":\"c7d3f96a-e285-4f16-b155-a1394c60d2b9\",\"type\":\"WheelZoomTool\"},{\"attributes\":{\"callback\":null},\"id\":\"51235186-37f3-41ec-84ce-aaa3a4924dc6\",\"type\":\"DataRange1d\"}],\"root_ids\":[\"e2595ceb-dff8-4bc7-ac99-fe6f817621da\"]},\"title\":\"Bokeh Application\",\"version\":\"0.12.4\"}};\n",
       "            var render_items = [{\"docid\":\"e43dabf8-ff54-4aee-9603-18936bb6bbb9\",\"elementid\":\"9cf89fb4-df12-48e0-a704-6cee0184ff07\",\"modelid\":\"e2595ceb-dff8-4bc7-ac99-fe6f817621da\"}];\n",
       "            \n",
       "            Bokeh.embed.embed_items(docs_json, render_items);\n",
       "          };\n",
       "          if (document.readyState != \"loading\") fn();\n",
       "          else document.addEventListener(\"DOMContentLoaded\", fn);\n",
       "        })();\n",
       "      },\n",
       "      function(Bokeh) {\n",
       "      }\n",
       "    ];\n",
       "  \n",
       "    function run_inline_js() {\n",
       "      \n",
       "      if ((window.Bokeh !== undefined) || (force === true)) {\n",
       "        for (var i = 0; i < inline_js.length; i++) {\n",
       "          inline_js[i](window.Bokeh);\n",
       "        }if (force === true) {\n",
       "          display_loaded();\n",
       "        }} else if (Date.now() < window._bokeh_timeout) {\n",
       "        setTimeout(run_inline_js, 100);\n",
       "      } else if (!window._bokeh_failed_load) {\n",
       "        console.log(\"Bokeh: BokehJS failed to load within specified timeout.\");\n",
       "        window._bokeh_failed_load = true;\n",
       "      } else if (force !== true) {\n",
       "        var cell = $(document.getElementById(\"9cf89fb4-df12-48e0-a704-6cee0184ff07\")).parents('.cell').data().cell;\n",
       "        cell.output_area.append_execute_result(NB_LOAD_WARNING)\n",
       "      }\n",
       "  \n",
       "    }\n",
       "  \n",
       "    if (window._bokeh_is_loading === 0) {\n",
       "      console.log(\"Bokeh: BokehJS loaded, going straight to plotting\");\n",
       "      run_inline_js();\n",
       "    } else {\n",
       "      load_libs(js_urls, function() {\n",
       "        console.log(\"Bokeh: BokehJS plotting callback run at\", now());\n",
       "        run_inline_js();\n",
       "      });\n",
       "    }\n",
       "  }(this));\n",
       "</script>"
      ]
     },
     "metadata": {},
     "output_type": "display_data"
    }
   ],
   "source": [
    "regr = linear_model.Ridge(alpha=0.08)\n",
    "\n",
    "fig = bk.figure(plot_width=400, plot_height=300, title=None)\n",
    "for i in range(6):\n",
    "    noise = np.random.normal(loc=0, scale=.1, size=X.shape)\n",
    "    noisy_X = X + noise\n",
    "    regr.fit(noisy_X, y)\n",
    "    fig.circle(noisy_X[:,0], y, size=8, color=cat_colors[i], line_color='black')\n",
    "    fig.line(X_test[:,0], regr.predict(X_test), color=cat_colors[i])\n",
    "bk.show(fig)"
   ]
  },
  {
   "cell_type": "markdown",
   "metadata": {},
   "source": [
    "As we can see, the estimator displays much less variance. However it systematically under-estimates the coefficient. It displays a biased behavior. As explained earlier we changed the tradeoff between Bias and Variance with regularization. Changing one quantity (for example decreasing Variance) inevitably increases the other (Bias). \n",
    "\n",
    "With the next examples we will try to answer the following question: **If our estimator is underperforming, how should we move forward?**\n",
    "\n",
    "- Do I need a Simple or more Complicated Model ?\n",
    "- Do I need More Training Samples ?\n",
    "- Do I need more features for each observed data point ?\n",
    "\n",
    "The answer is often counter-intuitive. In particular, **Sometimes using a more complicated model will give _worse_ results.**  Also, **Sometimes adding training data will not improve your results.**  The ability to determine what steps will improve your model is what separates the successful machine learning practitioners from the unsuccessful."
   ]
  },
  {
   "cell_type": "markdown",
   "metadata": {},
   "source": [
    "## 2 Regularization: what it is and why it is necessary"
   ]
  },
  {
   "cell_type": "markdown",
   "metadata": {},
   "source": [
    "**The core idea behind regularization is that we are going to prefer models that are simpler**, even if they lead to more errors on the training set. We start by defining a 9th order polynomial function. This represents our 'ground truth'. You can imagine it like a signal measured at diffrent times:"
   ]
  },
  {
   "cell_type": "code",
   "execution_count": 12,
   "metadata": {
    "collapsed": false
   },
   "outputs": [],
   "source": [
    "f = lambda t: 1.2*t**2 + 0.1*t**3 - 0.6*t**5 - 0.8*t**9\n",
    "gt_coeff = [0, 0, 1.2, 0.1, 0., -0.6, 0., 0., 0., -0.8]"
   ]
  },
  {
   "cell_type": "markdown",
   "metadata": {},
   "source": [
    "Unfortunately in real life situation every signal is affected by a measurement error; in this example we simulate it with the variable `noise_level`. Our ground truth is a 9th order polynomial.\n",
    "\n",
    "At first it would seem an obvius choice to use a 9th order polynomial to fit the signal. If you play a little with the following code you will discover that not using a regularization technique (`LinearRegression` doesn't allow any regularization), most of the time could be a bad choice, and a simpler (lower-order) model it is much better to avoid overfitting.\n",
    "\n",
    "Try to change the following variables:\n",
    "\n",
    "* `orders`: orders of the polynomials to fit\n",
    "* `n_samples`: when the number of the samples is small it's difficult to fit a high-order model and you have overfitting\n",
    "* `noise_level`: whit very low noise it's easier to fit higher-order polynomials\n",
    "\n",
    "*Keep in mind that we didn't fix the random generator seed, so every time you run the cell you'll have a different noise distribution on the samples*.\n",
    "\n",
    "**As you can see we use a linear algorithm to fit a nonlinear function, this is possible because we use the linear algorithm to fit the nonlinear coefficients that we define in the regressors**."
   ]
  },
  {
   "cell_type": "code",
   "execution_count": 13,
   "metadata": {
    "collapsed": false
   },
   "outputs": [
    {
     "name": "stdout",
     "output_type": "stream",
     "text": [
      "Ground Truth coeff.:   +0.0  +0.0  +1.2  +0.1  +0.0  -0.6  +0.0  +0.0  +0.0  -0.8\n",
      "LinReg coefficients:   +0.0  -0.9  +4.3 +11.6 -18.2 -42.8 +35.3 +61.7 -21.4 -31.9\n"
     ]
    },
    {
     "data": {
      "text/html": [
       "\n",
       "\n",
       "    <div class=\"bk-root\">\n",
       "        <div class=\"bk-plotdiv\" id=\"79e178f7-d8f2-48a8-9b81-0a0d49d27cf3\"></div>\n",
       "    </div>\n",
       "<script type=\"text/javascript\">\n",
       "  \n",
       "  (function(global) {\n",
       "    function now() {\n",
       "      return new Date();\n",
       "    }\n",
       "  \n",
       "    var force = false;\n",
       "  \n",
       "    if (typeof (window._bokeh_onload_callbacks) === \"undefined\" || force === true) {\n",
       "      window._bokeh_onload_callbacks = [];\n",
       "      window._bokeh_is_loading = undefined;\n",
       "    }\n",
       "  \n",
       "  \n",
       "    \n",
       "    if (typeof (window._bokeh_timeout) === \"undefined\" || force === true) {\n",
       "      window._bokeh_timeout = Date.now() + 0;\n",
       "      window._bokeh_failed_load = false;\n",
       "    }\n",
       "  \n",
       "    var NB_LOAD_WARNING = {'data': {'text/html':\n",
       "       \"<div style='background-color: #fdd'>\\n\"+\n",
       "       \"<p>\\n\"+\n",
       "       \"BokehJS does not appear to have successfully loaded. If loading BokehJS from CDN, this \\n\"+\n",
       "       \"may be due to a slow or bad network connection. Possible fixes:\\n\"+\n",
       "       \"</p>\\n\"+\n",
       "       \"<ul>\\n\"+\n",
       "       \"<li>re-rerun `output_notebook()` to attempt to load from CDN again, or</li>\\n\"+\n",
       "       \"<li>use INLINE resources instead, as so:</li>\\n\"+\n",
       "       \"</ul>\\n\"+\n",
       "       \"<code>\\n\"+\n",
       "       \"from bokeh.resources import INLINE\\n\"+\n",
       "       \"output_notebook(resources=INLINE)\\n\"+\n",
       "       \"</code>\\n\"+\n",
       "       \"</div>\"}};\n",
       "  \n",
       "    function display_loaded() {\n",
       "      if (window.Bokeh !== undefined) {\n",
       "        document.getElementById(\"79e178f7-d8f2-48a8-9b81-0a0d49d27cf3\").textContent = \"BokehJS successfully loaded.\";\n",
       "      } else if (Date.now() < window._bokeh_timeout) {\n",
       "        setTimeout(display_loaded, 100)\n",
       "      }\n",
       "    }\n",
       "  \n",
       "    function run_callbacks() {\n",
       "      window._bokeh_onload_callbacks.forEach(function(callback) { callback() });\n",
       "      delete window._bokeh_onload_callbacks\n",
       "      console.info(\"Bokeh: all callbacks have finished\");\n",
       "    }\n",
       "  \n",
       "    function load_libs(js_urls, callback) {\n",
       "      window._bokeh_onload_callbacks.push(callback);\n",
       "      if (window._bokeh_is_loading > 0) {\n",
       "        console.log(\"Bokeh: BokehJS is being loaded, scheduling callback at\", now());\n",
       "        return null;\n",
       "      }\n",
       "      if (js_urls == null || js_urls.length === 0) {\n",
       "        run_callbacks();\n",
       "        return null;\n",
       "      }\n",
       "      console.log(\"Bokeh: BokehJS not loaded, scheduling load and callback at\", now());\n",
       "      window._bokeh_is_loading = js_urls.length;\n",
       "      for (var i = 0; i < js_urls.length; i++) {\n",
       "        var url = js_urls[i];\n",
       "        var s = document.createElement('script');\n",
       "        s.src = url;\n",
       "        s.async = false;\n",
       "        s.onreadystatechange = s.onload = function() {\n",
       "          window._bokeh_is_loading--;\n",
       "          if (window._bokeh_is_loading === 0) {\n",
       "            console.log(\"Bokeh: all BokehJS libraries loaded\");\n",
       "            run_callbacks()\n",
       "          }\n",
       "        };\n",
       "        s.onerror = function() {\n",
       "          console.warn(\"failed to load library \" + url);\n",
       "        };\n",
       "        console.log(\"Bokeh: injecting script tag for BokehJS library: \", url);\n",
       "        document.getElementsByTagName(\"head\")[0].appendChild(s);\n",
       "      }\n",
       "    };var element = document.getElementById(\"79e178f7-d8f2-48a8-9b81-0a0d49d27cf3\");\n",
       "    if (element == null) {\n",
       "      console.log(\"Bokeh: ERROR: autoload.js configured with elementid '79e178f7-d8f2-48a8-9b81-0a0d49d27cf3' but no matching script tag was found. \")\n",
       "      return false;\n",
       "    }\n",
       "  \n",
       "    var js_urls = [];\n",
       "  \n",
       "    var inline_js = [\n",
       "      function(Bokeh) {\n",
       "        (function() {\n",
       "          var fn = function() {\n",
       "            var docs_json = {\"0728e113-b652-4909-affe-2037a62994e0\":{\"roots\":{\"references\":[{\"attributes\":{\"label\":{\"value\":\"linreg order: 09\"},\"renderers\":[{\"id\":\"8fa605e5-0b75-4d14-9049-2cdd385439b9\",\"type\":\"GlyphRenderer\"}]},\"id\":\"5d791225-e31d-4ec0-9904-e1b27539ad46\",\"type\":\"LegendItem\"},{\"attributes\":{\"plot\":{\"id\":\"b1f101e5-705c-47d5-a11e-3286755c4e48\",\"subtype\":\"Figure\",\"type\":\"Plot\"},\"ticker\":{\"id\":\"2ee573b5-362b-420e-9e54-2df7fae1bbe3\",\"type\":\"BasicTicker\"}},\"id\":\"0589a1f6-293a-495b-b52d-e4205e49198d\",\"type\":\"Grid\"},{\"attributes\":{\"callback\":null,\"column_names\":[\"x\",\"y\"],\"data\":{\"x\":{\"__ndarray__\":\"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\",\"dtype\":\"float64\",\"shape\":[200]},\"y\":{\"__ndarray__\":\"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\",\"dtype\":\"float64\",\"shape\":[200]}}},\"id\":\"a926e76f-6456-4eca-a6c5-fb79e764754a\",\"type\":\"ColumnDataSource\"},{\"attributes\":{\"data_source\":{\"id\":\"262654c6-1e4b-445f-8e44-9ee12bcacff3\",\"type\":\"ColumnDataSource\"},\"glyph\":{\"id\":\"2abe532a-aee9-4e40-b0a1-98e3f39c5f9e\",\"type\":\"Line\"},\"hover_glyph\":null,\"nonselection_glyph\":{\"id\":\"9d3b3677-6e07-48dd-8df3-5fffe48bce55\",\"type\":\"Line\"},\"selection_glyph\":null},\"id\":\"8fa605e5-0b75-4d14-9049-2cdd385439b9\",\"type\":\"GlyphRenderer\"},{\"attributes\":{\"line_alpha\":{\"value\":0.1},\"line_color\":{\"value\":\"#1f77b4\"},\"line_width\":{\"value\":3.0},\"x\":{\"field\":\"x\"},\"y\":{\"field\":\"y\"}},\"id\":\"9d3b3677-6e07-48dd-8df3-5fffe48bce55\",\"type\":\"Line\"},{\"attributes\":{\"plot\":{\"id\":\"b1f101e5-705c-47d5-a11e-3286755c4e48\",\"subtype\":\"Figure\",\"type\":\"Plot\"}},\"id\":\"4bcb6bcd-a8cc-45dd-820a-a5519040be85\",\"type\":\"WheelZoomTool\"},{\"attributes\":{\"line_color\":{\"value\":\"green\"},\"line_width\":{\"value\":3.0},\"x\":{\"field\":\"x\"},\"y\":{\"field\":\"y\"}},\"id\":\"2a7039c1-3035-43b1-85fa-145c670115d2\",\"type\":\"Line\"},{\"attributes\":{\"label\":{\"value\":\"truth\"},\"renderers\":[{\"id\":\"0a262bae-54ce-41e5-a71e-479dec927f44\",\"type\":\"GlyphRenderer\"}]},\"id\":\"503df645-2d76-4997-93c7-79fa4d956ae2\",\"type\":\"LegendItem\"},{\"attributes\":{\"plot\":{\"id\":\"b1f101e5-705c-47d5-a11e-3286755c4e48\",\"subtype\":\"Figure\",\"type\":\"Plot\"}},\"id\":\"b219f7bc-3d9c-43d5-914c-601a249a2270\",\"type\":\"ResetTool\"},{\"attributes\":{\"data_source\":{\"id\":\"0d17f077-405c-4c8d-a2e8-769bab473abf\",\"type\":\"ColumnDataSource\"},\"glyph\":{\"id\":\"e3793e95-5ba5-4e85-9af0-f8934ec5c621\",\"type\":\"Circle\"},\"hover_glyph\":null,\"nonselection_glyph\":{\"id\":\"5c13e001-b631-483c-bc55-cbdbcd68e734\",\"type\":\"Circle\"},\"selection_glyph\":null},\"id\":\"6b64bcea-b34f-4a88-a12a-8492928d2dbe\",\"type\":\"GlyphRenderer\"},{\"attributes\":{\"overlay\":{\"id\":\"3452b3f5-2463-4ba7-b733-ff59436ac2e9\",\"type\":\"BoxAnnotation\"},\"plot\":{\"id\":\"b1f101e5-705c-47d5-a11e-3286755c4e48\",\"subtype\":\"Figure\",\"type\":\"Plot\"}},\"id\":\"89f5f393-f891-4c3f-bfba-9660cf4ca299\",\"type\":\"BoxZoomTool\"},{\"attributes\":{\"callback\":null,\"column_names\":[\"x\",\"y\"],\"data\":{\"x\":{\"__ndarray__\":\"UGpLI1m0zL+IJBFmX2naP/6j3L6dmPG/ALqdfTnE3b/btmpwh1bpvyn+d0Gu/uy/nDwkp+2u5r/Q9CU/5vTXvwBvSEAPE9G/oBxYq8AioD+MJUYK2h7Mv9jGnEWJsdU/7jITkfd15b9oSIfZOs/nP4j/WtsFrvC/LF70LPm10z886Dxa46DMv/CXJEBswLI/GrNPbRjE6b+q80JwOOPlv67SNkErnOI/8D++Xv/d7T98ewo0mkbcv2x4tMjtpdY/hvAQdH+x5z8=\",\"dtype\":\"float64\",\"shape\":[25]},\"y\":{\"__ndarray__\":\"t8XmNxdKxT+5FyFE0b/HP8movBszMhJAF9TBh20X1T9BXYVrp3PzP7BjiAUsF/Y/yWtVbNFO4T8J3K6WbwPXP2adJoyl6aQ/X1cWd//XoD8YZaq8Nq3NP4i9FUDv470/xkfUXqHw2T/tx6p2oOXTP2BCAv70DAdA5cN0+mCHzz8yp0BGZO+nP9VtzKQc19W/89xyvT8D8T8wjY3N7azgPwr+Fxmg0ds/qBecwXhpqz9Kds309T29P6cU2mAkNss/qs2G+Ysx6z8=\",\"dtype\":\"float64\",\"shape\":[25]}}},\"id\":\"0d17f077-405c-4c8d-a2e8-769bab473abf\",\"type\":\"ColumnDataSource\"},{\"attributes\":{\"plot\":{\"id\":\"b1f101e5-705c-47d5-a11e-3286755c4e48\",\"subtype\":\"Figure\",\"type\":\"Plot\"}},\"id\":\"1081be47-a931-4bb2-b4b2-0c74aec0642b\",\"type\":\"HelpTool\"},{\"attributes\":{\"fill_alpha\":{\"value\":0.4},\"fill_color\":{\"value\":\"#1f77b4\"},\"line_color\":{\"value\":\"#1f77b4\"},\"size\":{\"units\":\"screen\",\"value\":8},\"x\":{\"field\":\"x\"},\"y\":{\"field\":\"y\"}},\"id\":\"e3793e95-5ba5-4e85-9af0-f8934ec5c621\",\"type\":\"Circle\"},{\"attributes\":{\"plot\":{\"id\":\"b1f101e5-705c-47d5-a11e-3286755c4e48\",\"subtype\":\"Figure\",\"type\":\"Plot\"}},\"id\":\"8dabf31e-3c38-451f-9052-49d0e88dc70f\",\"type\":\"SaveTool\"},{\"attributes\":{\"line_color\":{\"value\":\"red\"},\"line_width\":{\"value\":4.0},\"x\":{\"field\":\"x\"},\"y\":{\"field\":\"y\"}},\"id\":\"6c6643db-0276-4ba3-a9ee-fd43ae09c24a\",\"type\":\"Line\"},{\"attributes\":{},\"id\":\"913d2f67-1c81-49d3-ba46-4b7345f1b38b\",\"type\":\"BasicTickFormatter\"},{\"attributes\":{\"bottom_units\":\"screen\",\"fill_alpha\":{\"value\":0.5},\"fill_color\":{\"value\":\"lightgrey\"},\"left_units\":\"screen\",\"level\":\"overlay\",\"line_alpha\":{\"value\":1.0},\"line_color\":{\"value\":\"black\"},\"line_dash\":[4,4],\"line_width\":{\"value\":2},\"plot\":null,\"render_mode\":\"css\",\"right_units\":\"screen\",\"top_units\":\"screen\"},\"id\":\"3452b3f5-2463-4ba7-b733-ff59436ac2e9\",\"type\":\"BoxAnnotation\"},{\"attributes\":{\"items\":[{\"id\":\"3298463f-df19-4c3e-951f-7c6d873f029e\",\"type\":\"LegendItem\"},{\"id\":\"5d791225-e31d-4ec0-9904-e1b27539ad46\",\"type\":\"LegendItem\"},{\"id\":\"503df645-2d76-4997-93c7-79fa4d956ae2\",\"type\":\"LegendItem\"}],\"label_text_font_size\":{\"value\":\"14pt\"},\"location\":\"top_left\",\"plot\":{\"id\":\"b1f101e5-705c-47d5-a11e-3286755c4e48\",\"subtype\":\"Figure\",\"type\":\"Plot\"}},\"id\":\"111d2457-b74e-4c93-a572-7db1bd159196\",\"type\":\"Legend\"},{\"attributes\":{},\"id\":\"2ee573b5-362b-420e-9e54-2df7fae1bbe3\",\"type\":\"BasicTicker\"},{\"attributes\":{\"dimension\":1,\"plot\":{\"id\":\"b1f101e5-705c-47d5-a11e-3286755c4e48\",\"subtype\":\"Figure\",\"type\":\"Plot\"},\"ticker\":{\"id\":\"bf0b08f9-257f-42bf-a9d7-5af487fec8e5\",\"type\":\"BasicTicker\"}},\"id\":\"82308dbb-7a5f-481d-983c-229bca5e4d50\",\"type\":\"Grid\"},{\"attributes\":{\"fill_alpha\":{\"value\":0.1},\"fill_color\":{\"value\":\"#1f77b4\"},\"line_alpha\":{\"value\":0.1},\"line_color\":{\"value\":\"#1f77b4\"},\"size\":{\"units\":\"screen\",\"value\":8},\"x\":{\"field\":\"x\"},\"y\":{\"field\":\"y\"}},\"id\":\"5c13e001-b631-483c-bc55-cbdbcd68e734\",\"type\":\"Circle\"},{\"attributes\":{\"callback\":null},\"id\":\"bda45df0-100e-4063-b034-2fa4095d684e\",\"type\":\"DataRange1d\"},{\"attributes\":{\"active_drag\":\"auto\",\"active_scroll\":\"auto\",\"active_tap\":\"auto\",\"tools\":[{\"id\":\"c0172ede-d997-4e03-89a0-07c6a9ad46e1\",\"type\":\"PanTool\"},{\"id\":\"4bcb6bcd-a8cc-45dd-820a-a5519040be85\",\"type\":\"WheelZoomTool\"},{\"id\":\"89f5f393-f891-4c3f-bfba-9660cf4ca299\",\"type\":\"BoxZoomTool\"},{\"id\":\"8dabf31e-3c38-451f-9052-49d0e88dc70f\",\"type\":\"SaveTool\"},{\"id\":\"b219f7bc-3d9c-43d5-914c-601a249a2270\",\"type\":\"ResetTool\"},{\"id\":\"1081be47-a931-4bb2-b4b2-0c74aec0642b\",\"type\":\"HelpTool\"}]},\"id\":\"48e3ec58-b4be-4f16-9f56-fd8c910813d6\",\"type\":\"Toolbar\"},{\"attributes\":{\"line_alpha\":{\"value\":0.1},\"line_color\":{\"value\":\"#1f77b4\"},\"line_width\":{\"value\":3.0},\"x\":{\"field\":\"x\"},\"y\":{\"field\":\"y\"}},\"id\":\"9559f11d-0ea0-4137-aa9b-5b7b3d7d4b73\",\"type\":\"Line\"},{\"attributes\":{\"label\":{\"value\":\"linreg order: 04\"},\"renderers\":[{\"id\":\"c38fa44a-ab07-407b-ae09-a1b3eb04d168\",\"type\":\"GlyphRenderer\"}]},\"id\":\"3298463f-df19-4c3e-951f-7c6d873f029e\",\"type\":\"LegendItem\"},{\"attributes\":{\"line_color\":{\"value\":\"royalblue\"},\"line_width\":{\"value\":3.0},\"x\":{\"field\":\"x\"},\"y\":{\"field\":\"y\"}},\"id\":\"2abe532a-aee9-4e40-b0a1-98e3f39c5f9e\",\"type\":\"Line\"},{\"attributes\":{\"plot\":null,\"text\":\"4th and a 9th order polynomial with Ground truth\"},\"id\":\"b4e5c1fd-290f-44fb-9aad-785d6550b95f\",\"type\":\"Title\"},{\"attributes\":{\"formatter\":{\"id\":\"913d2f67-1c81-49d3-ba46-4b7345f1b38b\",\"type\":\"BasicTickFormatter\"},\"plot\":{\"id\":\"b1f101e5-705c-47d5-a11e-3286755c4e48\",\"subtype\":\"Figure\",\"type\":\"Plot\"},\"ticker\":{\"id\":\"2ee573b5-362b-420e-9e54-2df7fae1bbe3\",\"type\":\"BasicTicker\"}},\"id\":\"96db1efc-ab5d-409a-b1ec-1bd4b9161daa\",\"type\":\"LinearAxis\"},{\"attributes\":{},\"id\":\"a2c14bf3-1067-41d7-8a9c-dff1b2ab7b80\",\"type\":\"BasicTickFormatter\"},{\"attributes\":{\"plot\":{\"id\":\"b1f101e5-705c-47d5-a11e-3286755c4e48\",\"subtype\":\"Figure\",\"type\":\"Plot\"}},\"id\":\"c0172ede-d997-4e03-89a0-07c6a9ad46e1\",\"type\":\"PanTool\"},{\"attributes\":{\"callback\":null,\"column_names\":[\"x\",\"y\"],\"data\":{\"x\":{\"__ndarray__\":\"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\",\"dtype\":\"float64\",\"shape\":[200]},\"y\":{\"__ndarray__\":\"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\",\"dtype\":\"float64\",\"shape\":[200]}}},\"id\":\"262654c6-1e4b-445f-8e44-9ee12bcacff3\",\"type\":\"ColumnDataSource\"},{\"attributes\":{},\"id\":\"9f5f11d8-9110-42ae-bc6b-05e8fe1c83af\",\"type\":\"ToolEvents\"},{\"attributes\":{\"data_source\":{\"id\":\"c95a980f-1944-4d2a-aa82-bf247cc6140f\",\"type\":\"ColumnDataSource\"},\"glyph\":{\"id\":\"2a7039c1-3035-43b1-85fa-145c670115d2\",\"type\":\"Line\"},\"hover_glyph\":null,\"nonselection_glyph\":{\"id\":\"9559f11d-0ea0-4137-aa9b-5b7b3d7d4b73\",\"type\":\"Line\"},\"selection_glyph\":null},\"id\":\"c38fa44a-ab07-407b-ae09-a1b3eb04d168\",\"type\":\"GlyphRenderer\"},{\"attributes\":{\"data_source\":{\"id\":\"a926e76f-6456-4eca-a6c5-fb79e764754a\",\"type\":\"ColumnDataSource\"},\"glyph\":{\"id\":\"6c6643db-0276-4ba3-a9ee-fd43ae09c24a\",\"type\":\"Line\"},\"hover_glyph\":null,\"nonselection_glyph\":{\"id\":\"5dc25a47-cb87-425d-bd29-a91cf9ad8e96\",\"type\":\"Line\"},\"selection_glyph\":null},\"id\":\"0a262bae-54ce-41e5-a71e-479dec927f44\",\"type\":\"GlyphRenderer\"},{\"attributes\":{\"callback\":null,\"column_names\":[\"x\",\"y\"],\"data\":{\"x\":{\"__ndarray__\":\"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\",\"dtype\":\"float64\",\"shape\":[200]},\"y\":{\"__ndarray__\":\"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\",\"dtype\":\"float64\",\"shape\":[200]}}},\"id\":\"c95a980f-1944-4d2a-aa82-bf247cc6140f\",\"type\":\"ColumnDataSource\"},{\"attributes\":{\"line_alpha\":{\"value\":0.1},\"line_color\":{\"value\":\"#1f77b4\"},\"line_width\":{\"value\":4.0},\"x\":{\"field\":\"x\"},\"y\":{\"field\":\"y\"}},\"id\":\"5dc25a47-cb87-425d-bd29-a91cf9ad8e96\",\"type\":\"Line\"},{\"attributes\":{\"formatter\":{\"id\":\"a2c14bf3-1067-41d7-8a9c-dff1b2ab7b80\",\"type\":\"BasicTickFormatter\"},\"plot\":{\"id\":\"b1f101e5-705c-47d5-a11e-3286755c4e48\",\"subtype\":\"Figure\",\"type\":\"Plot\"},\"ticker\":{\"id\":\"bf0b08f9-257f-42bf-a9d7-5af487fec8e5\",\"type\":\"BasicTicker\"}},\"id\":\"78996a4a-2475-4b47-8f9f-6f64eb1b57e2\",\"type\":\"LinearAxis\"},{\"attributes\":{\"below\":[{\"id\":\"96db1efc-ab5d-409a-b1ec-1bd4b9161daa\",\"type\":\"LinearAxis\"}],\"left\":[{\"id\":\"78996a4a-2475-4b47-8f9f-6f64eb1b57e2\",\"type\":\"LinearAxis\"}],\"plot_height\":400,\"plot_width\":700,\"renderers\":[{\"id\":\"96db1efc-ab5d-409a-b1ec-1bd4b9161daa\",\"type\":\"LinearAxis\"},{\"id\":\"0589a1f6-293a-495b-b52d-e4205e49198d\",\"type\":\"Grid\"},{\"id\":\"78996a4a-2475-4b47-8f9f-6f64eb1b57e2\",\"type\":\"LinearAxis\"},{\"id\":\"82308dbb-7a5f-481d-983c-229bca5e4d50\",\"type\":\"Grid\"},{\"id\":\"3452b3f5-2463-4ba7-b733-ff59436ac2e9\",\"type\":\"BoxAnnotation\"},{\"id\":\"6b64bcea-b34f-4a88-a12a-8492928d2dbe\",\"type\":\"GlyphRenderer\"},{\"id\":\"111d2457-b74e-4c93-a572-7db1bd159196\",\"type\":\"Legend\"},{\"id\":\"c38fa44a-ab07-407b-ae09-a1b3eb04d168\",\"type\":\"GlyphRenderer\"},{\"id\":\"8fa605e5-0b75-4d14-9049-2cdd385439b9\",\"type\":\"GlyphRenderer\"},{\"id\":\"0a262bae-54ce-41e5-a71e-479dec927f44\",\"type\":\"GlyphRenderer\"}],\"title\":{\"id\":\"b4e5c1fd-290f-44fb-9aad-785d6550b95f\",\"type\":\"Title\"},\"tool_events\":{\"id\":\"9f5f11d8-9110-42ae-bc6b-05e8fe1c83af\",\"type\":\"ToolEvents\"},\"toolbar\":{\"id\":\"48e3ec58-b4be-4f16-9f56-fd8c910813d6\",\"type\":\"Toolbar\"},\"x_range\":{\"id\":\"bda45df0-100e-4063-b034-2fa4095d684e\",\"type\":\"DataRange1d\"},\"y_range\":{\"id\":\"7f7d2899-7c9c-488c-b09d-11dedba2d9ec\",\"type\":\"DataRange1d\"}},\"id\":\"b1f101e5-705c-47d5-a11e-3286755c4e48\",\"subtype\":\"Figure\",\"type\":\"Plot\"},{\"attributes\":{\"callback\":null},\"id\":\"7f7d2899-7c9c-488c-b09d-11dedba2d9ec\",\"type\":\"DataRange1d\"},{\"attributes\":{},\"id\":\"bf0b08f9-257f-42bf-a9d7-5af487fec8e5\",\"type\":\"BasicTicker\"}],\"root_ids\":[\"b1f101e5-705c-47d5-a11e-3286755c4e48\"]},\"title\":\"Bokeh Application\",\"version\":\"0.12.4\"}};\n",
       "            var render_items = [{\"docid\":\"0728e113-b652-4909-affe-2037a62994e0\",\"elementid\":\"79e178f7-d8f2-48a8-9b81-0a0d49d27cf3\",\"modelid\":\"b1f101e5-705c-47d5-a11e-3286755c4e48\"}];\n",
       "            \n",
       "            Bokeh.embed.embed_items(docs_json, render_items);\n",
       "          };\n",
       "          if (document.readyState != \"loading\") fn();\n",
       "          else document.addEventListener(\"DOMContentLoaded\", fn);\n",
       "        })();\n",
       "      },\n",
       "      function(Bokeh) {\n",
       "      }\n",
       "    ];\n",
       "  \n",
       "    function run_inline_js() {\n",
       "      \n",
       "      if ((window.Bokeh !== undefined) || (force === true)) {\n",
       "        for (var i = 0; i < inline_js.length; i++) {\n",
       "          inline_js[i](window.Bokeh);\n",
       "        }if (force === true) {\n",
       "          display_loaded();\n",
       "        }} else if (Date.now() < window._bokeh_timeout) {\n",
       "        setTimeout(run_inline_js, 100);\n",
       "      } else if (!window._bokeh_failed_load) {\n",
       "        console.log(\"Bokeh: BokehJS failed to load within specified timeout.\");\n",
       "        window._bokeh_failed_load = true;\n",
       "      } else if (force !== true) {\n",
       "        var cell = $(document.getElementById(\"79e178f7-d8f2-48a8-9b81-0a0d49d27cf3\")).parents('.cell').data().cell;\n",
       "        cell.output_area.append_execute_result(NB_LOAD_WARNING)\n",
       "      }\n",
       "  \n",
       "    }\n",
       "  \n",
       "    if (window._bokeh_is_loading === 0) {\n",
       "      console.log(\"Bokeh: BokehJS loaded, going straight to plotting\");\n",
       "      run_inline_js();\n",
       "    } else {\n",
       "      load_libs(js_urls, function() {\n",
       "        console.log(\"Bokeh: BokehJS plotting callback run at\", now());\n",
       "        run_inline_js();\n",
       "      });\n",
       "    }\n",
       "  }(this));\n",
       "</script>"
      ]
     },
     "metadata": {},
     "output_type": "display_data"
    }
   ],
   "source": [
    "tmin, tmax = -1.1, 1.0\n",
    "n_samples = 25\n",
    "noise_level = 0.2\n",
    "orders = [4, 9]\n",
    "np.random.seed(1)\n",
    "t = tmin + np.random.rand(n_samples) * (tmax-tmin)              # Sample points\n",
    "y_noisy = f(t) + noise_level*np.random.normal(size=n_samples)   # Noisy measure\n",
    "\n",
    "fig = bk.figure(plot_width=700, plot_height=400,\n",
    "                title='4th and a 9th order polynomial with Ground truth')\n",
    "fig.circle(t, y_noisy, size=8, fill_alpha=0.4)\n",
    "\n",
    "p = np.linspace(tmin, tmax, 200)                                # Array to calc. the prediction\n",
    "colors = ['royalblue', 'green']\n",
    "for order in orders:\n",
    "    X = np.array([t**i for i in range(order+1)]).T              # Regressor\n",
    "    Xp = np.array([p**i for i in range(order+1)]).T             # Regressor for prediction\n",
    "    poly_linreg = linear_model.LinearRegression().fit(X, y_noisy)\n",
    "    fig.line(p, poly_linreg.predict(Xp), legend='linreg order: %02i' % order,\n",
    "             color=colors.pop(), line_width=3.0)\n",
    "\n",
    "fig.line(p, f(p), legend=\"truth\", color='red', line_width=4.0)\n",
    "fig.legend.label_text_font_size = '14pt'\n",
    "fig.legend.location = 'top_left'\n",
    "np.set_printoptions(precision=2)\n",
    "print('Ground Truth coeff.: ', ' '.join(['%+5.1f' %n for n in gt_coeff]))\n",
    "print('LinReg coefficients: ', ' '.join(['%+5.1f' %n for n in poly_linreg.coef_]))\n",
    "bk.show(fig)"
   ]
  },
  {
   "cell_type": "markdown",
   "metadata": {},
   "source": [
    "Now we compare the previous `LinearRegression` algorithm with the `Lasso` algorithm.\n",
    "\n",
    "`Lasso` (least absolute shrinkage and selection operator) is an alternative regularized version of least squares: it is a **shrinkage estimator**: unlike `ridge regression`, as the penalty term increases, lasso sets more coefficients to zero, this means that the lasso estimator produces smaller models."
   ]
  },
  {
   "cell_type": "code",
   "execution_count": 14,
   "metadata": {
    "collapsed": false
   },
   "outputs": [
    {
     "name": "stdout",
     "output_type": "stream",
     "text": [
      "Ground Truth coeff.:   +0.0  +0.0  +1.2  +0.1  +0.0  -0.6  +0.0  +0.0  +0.0  -0.8\n",
      "LinReg coefficients:   +0.0  -0.0  +1.0  -0.0  +0.0  -0.0  +0.0  -0.0  +0.0  -1.3\n"
     ]
    },
    {
     "data": {
      "text/html": [
       "\n",
       "\n",
       "    <div class=\"bk-root\">\n",
       "        <div class=\"bk-plotdiv\" id=\"1c274bbb-e1ad-46c8-a4ec-5f37b358093c\"></div>\n",
       "    </div>\n",
       "<script type=\"text/javascript\">\n",
       "  \n",
       "  (function(global) {\n",
       "    function now() {\n",
       "      return new Date();\n",
       "    }\n",
       "  \n",
       "    var force = false;\n",
       "  \n",
       "    if (typeof (window._bokeh_onload_callbacks) === \"undefined\" || force === true) {\n",
       "      window._bokeh_onload_callbacks = [];\n",
       "      window._bokeh_is_loading = undefined;\n",
       "    }\n",
       "  \n",
       "  \n",
       "    \n",
       "    if (typeof (window._bokeh_timeout) === \"undefined\" || force === true) {\n",
       "      window._bokeh_timeout = Date.now() + 0;\n",
       "      window._bokeh_failed_load = false;\n",
       "    }\n",
       "  \n",
       "    var NB_LOAD_WARNING = {'data': {'text/html':\n",
       "       \"<div style='background-color: #fdd'>\\n\"+\n",
       "       \"<p>\\n\"+\n",
       "       \"BokehJS does not appear to have successfully loaded. If loading BokehJS from CDN, this \\n\"+\n",
       "       \"may be due to a slow or bad network connection. Possible fixes:\\n\"+\n",
       "       \"</p>\\n\"+\n",
       "       \"<ul>\\n\"+\n",
       "       \"<li>re-rerun `output_notebook()` to attempt to load from CDN again, or</li>\\n\"+\n",
       "       \"<li>use INLINE resources instead, as so:</li>\\n\"+\n",
       "       \"</ul>\\n\"+\n",
       "       \"<code>\\n\"+\n",
       "       \"from bokeh.resources import INLINE\\n\"+\n",
       "       \"output_notebook(resources=INLINE)\\n\"+\n",
       "       \"</code>\\n\"+\n",
       "       \"</div>\"}};\n",
       "  \n",
       "    function display_loaded() {\n",
       "      if (window.Bokeh !== undefined) {\n",
       "        document.getElementById(\"1c274bbb-e1ad-46c8-a4ec-5f37b358093c\").textContent = \"BokehJS successfully loaded.\";\n",
       "      } else if (Date.now() < window._bokeh_timeout) {\n",
       "        setTimeout(display_loaded, 100)\n",
       "      }\n",
       "    }\n",
       "  \n",
       "    function run_callbacks() {\n",
       "      window._bokeh_onload_callbacks.forEach(function(callback) { callback() });\n",
       "      delete window._bokeh_onload_callbacks\n",
       "      console.info(\"Bokeh: all callbacks have finished\");\n",
       "    }\n",
       "  \n",
       "    function load_libs(js_urls, callback) {\n",
       "      window._bokeh_onload_callbacks.push(callback);\n",
       "      if (window._bokeh_is_loading > 0) {\n",
       "        console.log(\"Bokeh: BokehJS is being loaded, scheduling callback at\", now());\n",
       "        return null;\n",
       "      }\n",
       "      if (js_urls == null || js_urls.length === 0) {\n",
       "        run_callbacks();\n",
       "        return null;\n",
       "      }\n",
       "      console.log(\"Bokeh: BokehJS not loaded, scheduling load and callback at\", now());\n",
       "      window._bokeh_is_loading = js_urls.length;\n",
       "      for (var i = 0; i < js_urls.length; i++) {\n",
       "        var url = js_urls[i];\n",
       "        var s = document.createElement('script');\n",
       "        s.src = url;\n",
       "        s.async = false;\n",
       "        s.onreadystatechange = s.onload = function() {\n",
       "          window._bokeh_is_loading--;\n",
       "          if (window._bokeh_is_loading === 0) {\n",
       "            console.log(\"Bokeh: all BokehJS libraries loaded\");\n",
       "            run_callbacks()\n",
       "          }\n",
       "        };\n",
       "        s.onerror = function() {\n",
       "          console.warn(\"failed to load library \" + url);\n",
       "        };\n",
       "        console.log(\"Bokeh: injecting script tag for BokehJS library: \", url);\n",
       "        document.getElementsByTagName(\"head\")[0].appendChild(s);\n",
       "      }\n",
       "    };var element = document.getElementById(\"1c274bbb-e1ad-46c8-a4ec-5f37b358093c\");\n",
       "    if (element == null) {\n",
       "      console.log(\"Bokeh: ERROR: autoload.js configured with elementid '1c274bbb-e1ad-46c8-a4ec-5f37b358093c' but no matching script tag was found. \")\n",
       "      return false;\n",
       "    }\n",
       "  \n",
       "    var js_urls = [];\n",
       "  \n",
       "    var inline_js = [\n",
       "      function(Bokeh) {\n",
       "        (function() {\n",
       "          var fn = function() {\n",
       "            var docs_json = {\"ddc2de90-5fd4-4e66-b049-2c7ae9fda385\":{\"roots\":{\"references\":[{\"attributes\":{\"data_source\":{\"id\":\"6b07cf5e-2580-46d6-9464-ad4e3e6ff592\",\"type\":\"ColumnDataSource\"},\"glyph\":{\"id\":\"120d4cf9-ed31-4d9b-8e45-ba27e9042cac\",\"type\":\"Line\"},\"hover_glyph\":null,\"nonselection_glyph\":{\"id\":\"0394acd0-75d3-4b78-b015-bfca8ec37501\",\"type\":\"Line\"},\"selection_glyph\":null},\"id\":\"892838cb-e5e5-47c6-bccd-29b754b68d88\",\"type\":\"GlyphRenderer\"},{\"attributes\":{\"dimension\":1,\"plot\":{\"id\":\"866c773c-6006-42c8-b943-88e3d4506276\",\"subtype\":\"Figure\",\"type\":\"Plot\"},\"ticker\":{\"id\":\"2fda005e-08ff-4736-99cc-a0d41ded7e97\",\"type\":\"BasicTicker\"}},\"id\":\"274ded63-62da-40cd-91ab-98eef30b887d\",\"type\":\"Grid\"},{\"attributes\":{\"formatter\":{\"id\":\"76b68832-85b3-4e9d-b5d1-4d35ab6b2b69\",\"type\":\"BasicTickFormatter\"},\"plot\":{\"id\":\"866c773c-6006-42c8-b943-88e3d4506276\",\"subtype\":\"Figure\",\"type\":\"Plot\"},\"ticker\":{\"id\":\"2fda005e-08ff-4736-99cc-a0d41ded7e97\",\"type\":\"BasicTicker\"}},\"id\":\"45ee8fb0-9b03-43ab-a789-dc9f4a0aa669\",\"type\":\"LinearAxis\"},{\"attributes\":{\"line_color\":{\"value\":\"green\"},\"line_width\":{\"value\":3.0},\"x\":{\"field\":\"x\"},\"y\":{\"field\":\"y\"}},\"id\":\"120d4cf9-ed31-4d9b-8e45-ba27e9042cac\",\"type\":\"Line\"},{\"attributes\":{},\"id\":\"74d96c81-5fd4-4a27-901e-b3c4f5659cab\",\"type\":\"BasicTicker\"},{\"attributes\":{},\"id\":\"76b68832-85b3-4e9d-b5d1-4d35ab6b2b69\",\"type\":\"BasicTickFormatter\"},{\"attributes\":{\"plot\":{\"id\":\"866c773c-6006-42c8-b943-88e3d4506276\",\"subtype\":\"Figure\",\"type\":\"Plot\"},\"ticker\":{\"id\":\"74d96c81-5fd4-4a27-901e-b3c4f5659cab\",\"type\":\"BasicTicker\"}},\"id\":\"55fe785c-8eb9-4901-a340-eab8263c1295\",\"type\":\"Grid\"},{\"attributes\":{\"plot\":{\"id\":\"866c773c-6006-42c8-b943-88e3d4506276\",\"subtype\":\"Figure\",\"type\":\"Plot\"}},\"id\":\"12599793-b635-44e1-8c5a-e48af50ad7c2\",\"type\":\"ResetTool\"},{\"attributes\":{\"plot\":{\"id\":\"866c773c-6006-42c8-b943-88e3d4506276\",\"subtype\":\"Figure\",\"type\":\"Plot\"}},\"id\":\"d58898b6-dc23-41bc-b400-5588cc203c2c\",\"type\":\"SaveTool\"},{\"attributes\":{\"label\":{\"value\":\"truth\"},\"renderers\":[{\"id\":\"5c2937b6-437a-4162-99b3-4dc1905945d3\",\"type\":\"GlyphRenderer\"}]},\"id\":\"6e727760-bf6e-47e2-b992-7ce8f7fc2f25\",\"type\":\"LegendItem\"},{\"attributes\":{\"label\":{\"value\":\"lasso order: 09\"},\"renderers\":[{\"id\":\"892838cb-e5e5-47c6-bccd-29b754b68d88\",\"type\":\"GlyphRenderer\"}]},\"id\":\"98d4bd7c-97d2-4803-b567-b3e22f0accee\",\"type\":\"LegendItem\"},{\"attributes\":{\"plot\":{\"id\":\"866c773c-6006-42c8-b943-88e3d4506276\",\"subtype\":\"Figure\",\"type\":\"Plot\"}},\"id\":\"eabd3949-3006-4935-9b4b-607d087af081\",\"type\":\"PanTool\"},{\"attributes\":{\"below\":[{\"id\":\"135e6b9e-d8ae-421b-af54-24003f834626\",\"type\":\"LinearAxis\"}],\"left\":[{\"id\":\"45ee8fb0-9b03-43ab-a789-dc9f4a0aa669\",\"type\":\"LinearAxis\"}],\"plot_height\":400,\"plot_width\":700,\"renderers\":[{\"id\":\"135e6b9e-d8ae-421b-af54-24003f834626\",\"type\":\"LinearAxis\"},{\"id\":\"55fe785c-8eb9-4901-a340-eab8263c1295\",\"type\":\"Grid\"},{\"id\":\"45ee8fb0-9b03-43ab-a789-dc9f4a0aa669\",\"type\":\"LinearAxis\"},{\"id\":\"274ded63-62da-40cd-91ab-98eef30b887d\",\"type\":\"Grid\"},{\"id\":\"31266814-1d42-47ba-ace0-a278bcb350eb\",\"type\":\"BoxAnnotation\"},{\"id\":\"52e91a65-c250-4eb1-9347-98e55a84a391\",\"type\":\"GlyphRenderer\"},{\"id\":\"9204509f-a908-4917-8f72-c51f2c45ae5d\",\"type\":\"Legend\"},{\"id\":\"1b9b93e7-02ab-4f30-9e53-1258b80adc35\",\"type\":\"GlyphRenderer\"},{\"id\":\"892838cb-e5e5-47c6-bccd-29b754b68d88\",\"type\":\"GlyphRenderer\"},{\"id\":\"5c2937b6-437a-4162-99b3-4dc1905945d3\",\"type\":\"GlyphRenderer\"}],\"title\":{\"id\":\"ac213f47-06a2-46d5-a00b-c02f80dc5b7e\",\"type\":\"Title\"},\"tool_events\":{\"id\":\"a4b0d2a1-f326-4516-86a7-defc25236d3c\",\"type\":\"ToolEvents\"},\"toolbar\":{\"id\":\"2cdf59cf-bdcd-4c47-b8c9-c1e55dde3310\",\"type\":\"Toolbar\"},\"x_range\":{\"id\":\"826e1e54-30fc-47ff-ae95-d1e4b8958efb\",\"type\":\"DataRange1d\"},\"y_range\":{\"id\":\"1812dbd0-bcc0-4601-99e2-496f57338529\",\"type\":\"DataRange1d\"}},\"id\":\"866c773c-6006-42c8-b943-88e3d4506276\",\"subtype\":\"Figure\",\"type\":\"Plot\"},{\"attributes\":{\"callback\":null},\"id\":\"1812dbd0-bcc0-4601-99e2-496f57338529\",\"type\":\"DataRange1d\"},{\"attributes\":{\"bottom_units\":\"screen\",\"fill_alpha\":{\"value\":0.5},\"fill_color\":{\"value\":\"lightgrey\"},\"left_units\":\"screen\",\"level\":\"overlay\",\"line_alpha\":{\"value\":1.0},\"line_color\":{\"value\":\"black\"},\"line_dash\":[4,4],\"line_width\":{\"value\":2},\"plot\":null,\"render_mode\":\"css\",\"right_units\":\"screen\",\"top_units\":\"screen\"},\"id\":\"31266814-1d42-47ba-ace0-a278bcb350eb\",\"type\":\"BoxAnnotation\"},{\"attributes\":{\"items\":[{\"id\":\"85b9c518-7b10-4fa9-b573-c44b8b90c0dc\",\"type\":\"LegendItem\"},{\"id\":\"98d4bd7c-97d2-4803-b567-b3e22f0accee\",\"type\":\"LegendItem\"},{\"id\":\"6e727760-bf6e-47e2-b992-7ce8f7fc2f25\",\"type\":\"LegendItem\"}],\"label_text_font_size\":{\"value\":\"15pt\"},\"location\":\"top_left\",\"plot\":{\"id\":\"866c773c-6006-42c8-b943-88e3d4506276\",\"subtype\":\"Figure\",\"type\":\"Plot\"}},\"id\":\"9204509f-a908-4917-8f72-c51f2c45ae5d\",\"type\":\"Legend\"},{\"attributes\":{\"callback\":null,\"column_names\":[\"x\",\"y\"],\"data\":{\"x\":{\"__ndarray__\":\"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\",\"dtype\":\"float64\",\"shape\":[200]},\"y\":{\"__ndarray__\":\"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\",\"dtype\":\"float64\",\"shape\":[200]}}},\"id\":\"1a68b526-9f89-46d0-9fbc-82dbcdc10a0a\",\"type\":\"ColumnDataSource\"},{\"attributes\":{\"fill_alpha\":{\"value\":0.1},\"fill_color\":{\"value\":\"#1f77b4\"},\"line_alpha\":{\"value\":0.1},\"line_color\":{\"value\":\"#1f77b4\"},\"size\":{\"units\":\"screen\",\"value\":8},\"x\":{\"field\":\"x\"},\"y\":{\"field\":\"y\"}},\"id\":\"1f76bc17-775e-42c5-9a0c-2dbae4af7331\",\"type\":\"Circle\"},{\"attributes\":{\"callback\":null,\"column_names\":[\"x\",\"y\"],\"data\":{\"x\":{\"__ndarray__\":\"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\",\"dtype\":\"float64\",\"shape\":[200]},\"y\":{\"__ndarray__\":\"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\",\"dtype\":\"float64\",\"shape\":[200]}}},\"id\":\"639d1b83-e0ab-408e-b3ae-42661caf083a\",\"type\":\"ColumnDataSource\"},{\"attributes\":{},\"id\":\"2fda005e-08ff-4736-99cc-a0d41ded7e97\",\"type\":\"BasicTicker\"},{\"attributes\":{\"fill_alpha\":{\"value\":0.4},\"fill_color\":{\"value\":\"#1f77b4\"},\"line_alpha\":{\"value\":0.4},\"line_color\":{\"value\":\"#1f77b4\"},\"size\":{\"units\":\"screen\",\"value\":8},\"x\":{\"field\":\"x\"},\"y\":{\"field\":\"y\"}},\"id\":\"a033062f-5c6e-4e76-a167-4fd56a4b9517\",\"type\":\"Circle\"},{\"attributes\":{\"callback\":null,\"column_names\":[\"x\",\"y\"],\"data\":{\"x\":{\"__ndarray__\":\"UGpLI1m0zL+IJBFmX2naP/6j3L6dmPG/ALqdfTnE3b/btmpwh1bpvyn+d0Gu/uy/nDwkp+2u5r/Q9CU/5vTXvwBvSEAPE9G/oBxYq8AioD+MJUYK2h7Mv9jGnEWJsdU/7jITkfd15b9oSIfZOs/nP4j/WtsFrvC/LF70LPm10z886Dxa46DMv/CXJEBswLI/GrNPbRjE6b+q80JwOOPlv67SNkErnOI/8D++Xv/d7T98ewo0mkbcv2x4tMjtpdY/hvAQdH+x5z8=\",\"dtype\":\"float64\",\"shape\":[25]},\"y\":{\"__ndarray__\":\"t8XmNxdKxT+5FyFE0b/HP8movBszMhJAF9TBh20X1T9BXYVrp3PzP7BjiAUsF/Y/yWtVbNFO4T8J3K6WbwPXP2adJoyl6aQ/X1cWd//XoD8YZaq8Nq3NP4i9FUDv470/xkfUXqHw2T/tx6p2oOXTP2BCAv70DAdA5cN0+mCHzz8yp0BGZO+nP9VtzKQc19W/89xyvT8D8T8wjY3N7azgPwr+Fxmg0ds/qBecwXhpqz9Kds309T29P6cU2mAkNss/qs2G+Ysx6z8=\",\"dtype\":\"float64\",\"shape\":[25]}}},\"id\":\"c8fe4867-b662-498a-8865-94e81d7a71d4\",\"type\":\"ColumnDataSource\"},{\"attributes\":{\"overlay\":{\"id\":\"31266814-1d42-47ba-ace0-a278bcb350eb\",\"type\":\"BoxAnnotation\"},\"plot\":{\"id\":\"866c773c-6006-42c8-b943-88e3d4506276\",\"subtype\":\"Figure\",\"type\":\"Plot\"}},\"id\":\"2ac827d4-2d14-44a3-a78b-6feaf9bc0210\",\"type\":\"BoxZoomTool\"},{\"attributes\":{\"plot\":null,\"text\":\"9th order LinReg and Lasso with Ground truth\"},\"id\":\"ac213f47-06a2-46d5-a00b-c02f80dc5b7e\",\"type\":\"Title\"},{\"attributes\":{\"data_source\":{\"id\":\"c8fe4867-b662-498a-8865-94e81d7a71d4\",\"type\":\"ColumnDataSource\"},\"glyph\":{\"id\":\"a033062f-5c6e-4e76-a167-4fd56a4b9517\",\"type\":\"Circle\"},\"hover_glyph\":null,\"nonselection_glyph\":{\"id\":\"1f76bc17-775e-42c5-9a0c-2dbae4af7331\",\"type\":\"Circle\"},\"selection_glyph\":null},\"id\":\"52e91a65-c250-4eb1-9347-98e55a84a391\",\"type\":\"GlyphRenderer\"},{\"attributes\":{\"data_source\":{\"id\":\"1a68b526-9f89-46d0-9fbc-82dbcdc10a0a\",\"type\":\"ColumnDataSource\"},\"glyph\":{\"id\":\"7f1ea992-3eb4-478c-84e8-631af49266bf\",\"type\":\"Line\"},\"hover_glyph\":null,\"nonselection_glyph\":{\"id\":\"1a68d3ef-093e-4d0b-8b25-e81ecc15a0a7\",\"type\":\"Line\"},\"selection_glyph\":null},\"id\":\"5c2937b6-437a-4162-99b3-4dc1905945d3\",\"type\":\"GlyphRenderer\"},{\"attributes\":{\"active_drag\":\"auto\",\"active_scroll\":\"auto\",\"active_tap\":\"auto\",\"tools\":[{\"id\":\"eabd3949-3006-4935-9b4b-607d087af081\",\"type\":\"PanTool\"},{\"id\":\"1f048d9b-4b1e-4213-bf67-a083eed166b5\",\"type\":\"WheelZoomTool\"},{\"id\":\"2ac827d4-2d14-44a3-a78b-6feaf9bc0210\",\"type\":\"BoxZoomTool\"},{\"id\":\"d58898b6-dc23-41bc-b400-5588cc203c2c\",\"type\":\"SaveTool\"},{\"id\":\"12599793-b635-44e1-8c5a-e48af50ad7c2\",\"type\":\"ResetTool\"},{\"id\":\"b874998f-066a-4496-b3f9-5c9e1f80bdcd\",\"type\":\"HelpTool\"}]},\"id\":\"2cdf59cf-bdcd-4c47-b8c9-c1e55dde3310\",\"type\":\"Toolbar\"},{\"attributes\":{\"line_color\":{\"value\":\"red\"},\"line_width\":{\"value\":4.0},\"x\":{\"field\":\"x\"},\"y\":{\"field\":\"y\"}},\"id\":\"7f1ea992-3eb4-478c-84e8-631af49266bf\",\"type\":\"Line\"},{\"attributes\":{\"line_alpha\":{\"value\":0.1},\"line_color\":{\"value\":\"#1f77b4\"},\"line_width\":{\"value\":3.0},\"x\":{\"field\":\"x\"},\"y\":{\"field\":\"y\"}},\"id\":\"7e35b781-3389-4917-b4a2-7b0e94702571\",\"type\":\"Line\"},{\"attributes\":{\"line_alpha\":{\"value\":0.1},\"line_color\":{\"value\":\"#1f77b4\"},\"line_width\":{\"value\":3.0},\"x\":{\"field\":\"x\"},\"y\":{\"field\":\"y\"}},\"id\":\"0394acd0-75d3-4b78-b015-bfca8ec37501\",\"type\":\"Line\"},{\"attributes\":{\"line_color\":{\"value\":\"royalblue\"},\"line_width\":{\"value\":3.0},\"x\":{\"field\":\"x\"},\"y\":{\"field\":\"y\"}},\"id\":\"812b1d3a-4bc0-48cf-bf73-602cf27252c0\",\"type\":\"Line\"},{\"attributes\":{\"plot\":{\"id\":\"866c773c-6006-42c8-b943-88e3d4506276\",\"subtype\":\"Figure\",\"type\":\"Plot\"}},\"id\":\"1f048d9b-4b1e-4213-bf67-a083eed166b5\",\"type\":\"WheelZoomTool\"},{\"attributes\":{\"plot\":{\"id\":\"866c773c-6006-42c8-b943-88e3d4506276\",\"subtype\":\"Figure\",\"type\":\"Plot\"}},\"id\":\"b874998f-066a-4496-b3f9-5c9e1f80bdcd\",\"type\":\"HelpTool\"},{\"attributes\":{\"data_source\":{\"id\":\"639d1b83-e0ab-408e-b3ae-42661caf083a\",\"type\":\"ColumnDataSource\"},\"glyph\":{\"id\":\"812b1d3a-4bc0-48cf-bf73-602cf27252c0\",\"type\":\"Line\"},\"hover_glyph\":null,\"nonselection_glyph\":{\"id\":\"7e35b781-3389-4917-b4a2-7b0e94702571\",\"type\":\"Line\"},\"selection_glyph\":null},\"id\":\"1b9b93e7-02ab-4f30-9e53-1258b80adc35\",\"type\":\"GlyphRenderer\"},{\"attributes\":{\"callback\":null},\"id\":\"826e1e54-30fc-47ff-ae95-d1e4b8958efb\",\"type\":\"DataRange1d\"},{\"attributes\":{\"line_alpha\":{\"value\":0.1},\"line_color\":{\"value\":\"#1f77b4\"},\"line_width\":{\"value\":4.0},\"x\":{\"field\":\"x\"},\"y\":{\"field\":\"y\"}},\"id\":\"1a68d3ef-093e-4d0b-8b25-e81ecc15a0a7\",\"type\":\"Line\"},{\"attributes\":{\"formatter\":{\"id\":\"45e3e81b-92f3-4ebb-89aa-518342c8f7d6\",\"type\":\"BasicTickFormatter\"},\"plot\":{\"id\":\"866c773c-6006-42c8-b943-88e3d4506276\",\"subtype\":\"Figure\",\"type\":\"Plot\"},\"ticker\":{\"id\":\"74d96c81-5fd4-4a27-901e-b3c4f5659cab\",\"type\":\"BasicTicker\"}},\"id\":\"135e6b9e-d8ae-421b-af54-24003f834626\",\"type\":\"LinearAxis\"},{\"attributes\":{},\"id\":\"a4b0d2a1-f326-4516-86a7-defc25236d3c\",\"type\":\"ToolEvents\"},{\"attributes\":{\"callback\":null,\"column_names\":[\"x\",\"y\"],\"data\":{\"x\":{\"__ndarray__\":\"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\",\"dtype\":\"float64\",\"shape\":[200]},\"y\":{\"__ndarray__\":\"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\",\"dtype\":\"float64\",\"shape\":[200]}}},\"id\":\"6b07cf5e-2580-46d6-9464-ad4e3e6ff592\",\"type\":\"ColumnDataSource\"},{\"attributes\":{\"label\":{\"value\":\"linreg order: 09\"},\"renderers\":[{\"id\":\"1b9b93e7-02ab-4f30-9e53-1258b80adc35\",\"type\":\"GlyphRenderer\"}]},\"id\":\"85b9c518-7b10-4fa9-b573-c44b8b90c0dc\",\"type\":\"LegendItem\"},{\"attributes\":{},\"id\":\"45e3e81b-92f3-4ebb-89aa-518342c8f7d6\",\"type\":\"BasicTickFormatter\"}],\"root_ids\":[\"866c773c-6006-42c8-b943-88e3d4506276\"]},\"title\":\"Bokeh Application\",\"version\":\"0.12.4\"}};\n",
       "            var render_items = [{\"docid\":\"ddc2de90-5fd4-4e66-b049-2c7ae9fda385\",\"elementid\":\"1c274bbb-e1ad-46c8-a4ec-5f37b358093c\",\"modelid\":\"866c773c-6006-42c8-b943-88e3d4506276\"}];\n",
       "            \n",
       "            Bokeh.embed.embed_items(docs_json, render_items);\n",
       "          };\n",
       "          if (document.readyState != \"loading\") fn();\n",
       "          else document.addEventListener(\"DOMContentLoaded\", fn);\n",
       "        })();\n",
       "      },\n",
       "      function(Bokeh) {\n",
       "      }\n",
       "    ];\n",
       "  \n",
       "    function run_inline_js() {\n",
       "      \n",
       "      if ((window.Bokeh !== undefined) || (force === true)) {\n",
       "        for (var i = 0; i < inline_js.length; i++) {\n",
       "          inline_js[i](window.Bokeh);\n",
       "        }if (force === true) {\n",
       "          display_loaded();\n",
       "        }} else if (Date.now() < window._bokeh_timeout) {\n",
       "        setTimeout(run_inline_js, 100);\n",
       "      } else if (!window._bokeh_failed_load) {\n",
       "        console.log(\"Bokeh: BokehJS failed to load within specified timeout.\");\n",
       "        window._bokeh_failed_load = true;\n",
       "      } else if (force !== true) {\n",
       "        var cell = $(document.getElementById(\"1c274bbb-e1ad-46c8-a4ec-5f37b358093c\")).parents('.cell').data().cell;\n",
       "        cell.output_area.append_execute_result(NB_LOAD_WARNING)\n",
       "      }\n",
       "  \n",
       "    }\n",
       "  \n",
       "    if (window._bokeh_is_loading === 0) {\n",
       "      console.log(\"Bokeh: BokehJS loaded, going straight to plotting\");\n",
       "      run_inline_js();\n",
       "    } else {\n",
       "      load_libs(js_urls, function() {\n",
       "        console.log(\"Bokeh: BokehJS plotting callback run at\", now());\n",
       "        run_inline_js();\n",
       "      });\n",
       "    }\n",
       "  }(this));\n",
       "</script>"
      ]
     },
     "metadata": {},
     "output_type": "display_data"
    }
   ],
   "source": [
    "order = 9\n",
    "np.random.seed(1)\n",
    "X = np.array([t**i for i in range(order+1)]).T\n",
    "Xp = np.array([p**i for i in range(order+1)]).T\n",
    "poly_linreg = linear_model.LinearRegression().fit(X, y_noisy)\n",
    "poly_lasso = linear_model.Lasso(alpha = 0.005).fit(X, y_noisy)\n",
    "\n",
    "fig = bk.figure(plot_width=700, plot_height=400)\n",
    "fig.circle(t, y_noisy, size=8, alpha=0.4)\n",
    "fig.line(p, poly_linreg.predict(Xp), legend='linreg order: %02i' % order,\n",
    "         color='royalblue', line_width=3.0)\n",
    "fig.line(p, poly_lasso.predict(Xp), legend='lasso order: %02i' % order,\n",
    "         line_width=3.0, color='green')\n",
    "fig.line(p, f(p), legend=\"truth\", color='red', line_width=4.0)\n",
    "\n",
    "fig.legend.label_text_font_size = '15pt'\n",
    "fig.legend.location = 'top_left'\n",
    "fig.title.text = '9th order LinReg and Lasso with Ground truth'\n",
    "\n",
    "np.set_printoptions(precision=2)\n",
    "print('Ground Truth coeff.: ', ' '.join(['%+5.1f' %n for n in gt_coeff]))\n",
    "print('LinReg coefficients: ', ' '.join(['%+5.1f' %n for n in poly_lasso.coef_]))\n",
    "bk.show(fig)"
   ]
  },
  {
   "cell_type": "markdown",
   "metadata": {},
   "source": [
    "Try by yourself: play a little with the code of the two previous cells by changing `n_samples` and `noise_level` to verify that:\n",
    "\n",
    "* When `n_samples` is very high (>1000) it's very unlikely to have overfitting. This means that with more data it's possible to fit more complex models without overfitting.\n",
    "* When `n_samples` is very low (<40) it's almost impossible to fit with Linear Regression without overfitting. In this case regularization is always required\n",
    "* When `n_samples` is very high (>1000) and `noise_level` is very low, the Lasso algorithm keeps just the coefficients actually used to calculate the ground truth function. This means that Lasso can deal with high dimesional problems where most of the features can be neglected producing compact linear models.\n",
    "\n",
    "Another way to look at the Bias-Variance tradeoff in previous examples is to consider how the model fits the data. As stated at the beginning of this section when model complexity increases Bias decrease while Variance increses. The optimal model performance is achieved when the level of complexity is such that an increase in Bias is equivalent in reduction of Variance. If the model complexity exceed this threshold we are overfitting (the model is to adapted to the data and does not generalize well) if the model is behind this threshold is said to be underfitting (the model does not fit well the data and it has a poor error for out of sample data)."
   ]
  },
  {
   "cell_type": "markdown",
   "metadata": {},
   "source": [
    "## 3 Separate Training and Validation Sets"
   ]
  },
  {
   "cell_type": "markdown",
   "metadata": {},
   "source": [
    "**Fitting a model and testing it on the same data is a methodological mistake:** a model could have a perfect score but would fail to predict anything useful on yet-unseen data. This situation is called <font color=\"Red\">overfitting</font>. To avoid it, it is common practice to hold out part of the available data as a **Validation  Set** `X_valid, y_valid`."
   ]
  },
  {
   "cell_type": "code",
   "execution_count": 15,
   "metadata": {
    "collapsed": false
   },
   "outputs": [
    {
     "name": "stdout",
     "output_type": "stream",
     "text": [
      "LinearRegression(copy_X=True, fit_intercept=True, n_jobs=1, normalize=False)\n",
      "Model coefficient: 275.99550, and intercept: -145.41186\n",
      "Mean Squared Error: 23.04\n"
     ]
    }
   ],
   "source": [
    "from sklearn import datasets, preprocessing, metrics\n",
    "X, y = datasets.samples_generator.make_regression(n_samples=70,\n",
    "                                                  n_features=1, n_informative=1,\n",
    "                                                  random_state=0, noise=5)\n",
    "scaler = preprocessing.MinMaxScaler()\n",
    "X_sc = scaler.fit_transform(X)\n",
    "\n",
    "lin = linear_model.LinearRegression(fit_intercept=True)\n",
    "lin.fit(X_sc, y)\n",
    "\n",
    "print(lin)\n",
    "print(\"Model coefficient: %.5f, and intercept: %.5f\" % (lin.coef_, lin.intercept_))\n",
    "err = metrics.mean_squared_error(lin.predict(X_sc), y)\n",
    "print(\"Mean Squared Error: %.2f\" % err)"
   ]
  },
  {
   "cell_type": "markdown",
   "metadata": {},
   "source": [
    "In scikit-learn a random split into **Training** and **Validation** sets can be quickly computed with the `train_test_split` helper function:"
   ]
  },
  {
   "cell_type": "code",
   "execution_count": 16,
   "metadata": {
    "collapsed": false
   },
   "outputs": [
    {
     "name": "stdout",
     "output_type": "stream",
     "text": [
      "Mean Squared Error: 23.34\n",
      "Model coefficient: 273.00288, and intercept: -143.70277\n"
     ]
    },
    {
     "data": {
      "text/html": [
       "\n",
       "\n",
       "    <div class=\"bk-root\">\n",
       "        <div class=\"bk-plotdiv\" id=\"24b73871-27fc-4123-85ad-07a4324682aa\"></div>\n",
       "    </div>\n",
       "<script type=\"text/javascript\">\n",
       "  \n",
       "  (function(global) {\n",
       "    function now() {\n",
       "      return new Date();\n",
       "    }\n",
       "  \n",
       "    var force = false;\n",
       "  \n",
       "    if (typeof (window._bokeh_onload_callbacks) === \"undefined\" || force === true) {\n",
       "      window._bokeh_onload_callbacks = [];\n",
       "      window._bokeh_is_loading = undefined;\n",
       "    }\n",
       "  \n",
       "  \n",
       "    \n",
       "    if (typeof (window._bokeh_timeout) === \"undefined\" || force === true) {\n",
       "      window._bokeh_timeout = Date.now() + 0;\n",
       "      window._bokeh_failed_load = false;\n",
       "    }\n",
       "  \n",
       "    var NB_LOAD_WARNING = {'data': {'text/html':\n",
       "       \"<div style='background-color: #fdd'>\\n\"+\n",
       "       \"<p>\\n\"+\n",
       "       \"BokehJS does not appear to have successfully loaded. If loading BokehJS from CDN, this \\n\"+\n",
       "       \"may be due to a slow or bad network connection. Possible fixes:\\n\"+\n",
       "       \"</p>\\n\"+\n",
       "       \"<ul>\\n\"+\n",
       "       \"<li>re-rerun `output_notebook()` to attempt to load from CDN again, or</li>\\n\"+\n",
       "       \"<li>use INLINE resources instead, as so:</li>\\n\"+\n",
       "       \"</ul>\\n\"+\n",
       "       \"<code>\\n\"+\n",
       "       \"from bokeh.resources import INLINE\\n\"+\n",
       "       \"output_notebook(resources=INLINE)\\n\"+\n",
       "       \"</code>\\n\"+\n",
       "       \"</div>\"}};\n",
       "  \n",
       "    function display_loaded() {\n",
       "      if (window.Bokeh !== undefined) {\n",
       "        document.getElementById(\"24b73871-27fc-4123-85ad-07a4324682aa\").textContent = \"BokehJS successfully loaded.\";\n",
       "      } else if (Date.now() < window._bokeh_timeout) {\n",
       "        setTimeout(display_loaded, 100)\n",
       "      }\n",
       "    }\n",
       "  \n",
       "    function run_callbacks() {\n",
       "      window._bokeh_onload_callbacks.forEach(function(callback) { callback() });\n",
       "      delete window._bokeh_onload_callbacks\n",
       "      console.info(\"Bokeh: all callbacks have finished\");\n",
       "    }\n",
       "  \n",
       "    function load_libs(js_urls, callback) {\n",
       "      window._bokeh_onload_callbacks.push(callback);\n",
       "      if (window._bokeh_is_loading > 0) {\n",
       "        console.log(\"Bokeh: BokehJS is being loaded, scheduling callback at\", now());\n",
       "        return null;\n",
       "      }\n",
       "      if (js_urls == null || js_urls.length === 0) {\n",
       "        run_callbacks();\n",
       "        return null;\n",
       "      }\n",
       "      console.log(\"Bokeh: BokehJS not loaded, scheduling load and callback at\", now());\n",
       "      window._bokeh_is_loading = js_urls.length;\n",
       "      for (var i = 0; i < js_urls.length; i++) {\n",
       "        var url = js_urls[i];\n",
       "        var s = document.createElement('script');\n",
       "        s.src = url;\n",
       "        s.async = false;\n",
       "        s.onreadystatechange = s.onload = function() {\n",
       "          window._bokeh_is_loading--;\n",
       "          if (window._bokeh_is_loading === 0) {\n",
       "            console.log(\"Bokeh: all BokehJS libraries loaded\");\n",
       "            run_callbacks()\n",
       "          }\n",
       "        };\n",
       "        s.onerror = function() {\n",
       "          console.warn(\"failed to load library \" + url);\n",
       "        };\n",
       "        console.log(\"Bokeh: injecting script tag for BokehJS library: \", url);\n",
       "        document.getElementsByTagName(\"head\")[0].appendChild(s);\n",
       "      }\n",
       "    };var element = document.getElementById(\"24b73871-27fc-4123-85ad-07a4324682aa\");\n",
       "    if (element == null) {\n",
       "      console.log(\"Bokeh: ERROR: autoload.js configured with elementid '24b73871-27fc-4123-85ad-07a4324682aa' but no matching script tag was found. \")\n",
       "      return false;\n",
       "    }\n",
       "  \n",
       "    var js_urls = [];\n",
       "  \n",
       "    var inline_js = [\n",
       "      function(Bokeh) {\n",
       "        (function() {\n",
       "          var fn = function() {\n",
       "            var docs_json = {\"522cf1c8-411f-4014-ad11-e98068f4f784\":{\"roots\":{\"references\":[{\"attributes\":{\"label\":{\"value\":\"Validation Set\"},\"renderers\":[{\"id\":\"e088933e-bdcc-4404-a2d0-7ecc4b60a08c\",\"type\":\"GlyphRenderer\"}]},\"id\":\"ceb6b3bc-2d34-4f43-b142-f0a2f64cf51b\",\"type\":\"LegendItem\"},{\"attributes\":{\"callback\":null,\"column_names\":[\"x\",\"y\"],\"data\":{\"x\":{\"__ndarray__\":\"AAAAAAAAAAAAAAAAAADwPw==\",\"dtype\":\"float64\",\"shape\":[2]},\"y\":{\"__ndarray__\":\"y7T4GH32YcBvxIaGmilgQA==\",\"dtype\":\"float64\",\"shape\":[2]}}},\"id\":\"402809de-e2ba-47b2-a114-1cf1381172e2\",\"type\":\"ColumnDataSource\"},{\"attributes\":{\"line_alpha\":{\"value\":0.1},\"line_color\":{\"value\":\"#1f77b4\"},\"x\":{\"field\":\"x\"},\"y\":{\"field\":\"y\"}},\"id\":\"7d9a2366-3625-4721-ad73-bbfb1b10e7ce\",\"type\":\"Line\"},{\"attributes\":{},\"id\":\"aa0bb91e-34d3-4842-8d6a-d0979be82cec\",\"type\":\"BasicTickFormatter\"},{\"attributes\":{\"fill_color\":{\"value\":\"green\"},\"line_alpha\":{\"value\":0.85},\"line_color\":{\"value\":\"darkgreen\"},\"size\":{\"units\":\"screen\",\"value\":5},\"x\":{\"field\":\"x\"},\"y\":{\"field\":\"y\"}},\"id\":\"4cf41b5f-9794-4cb7-8a4d-bcaf0018431c\",\"type\":\"Circle\"},{\"attributes\":{\"plot\":{\"id\":\"065b2630-ca4e-4404-bec5-ac47e50fdd0c\",\"subtype\":\"Figure\",\"type\":\"Plot\"}},\"id\":\"bd310b51-abef-423e-a22b-4fc68c0f707f\",\"type\":\"ResetTool\"},{\"attributes\":{\"callback\":null},\"id\":\"0e0378b9-653b-4bc1-8f6a-6fe0490c43aa\",\"type\":\"DataRange1d\"},{\"attributes\":{\"label\":{\"value\":\"Linear Regression\"},\"renderers\":[{\"id\":\"f0a471ec-b17b-4187-9e44-f65c636fdde8\",\"type\":\"GlyphRenderer\"}]},\"id\":\"56038ddc-e8e8-42a4-8e28-3247d25a46f7\",\"type\":\"LegendItem\"},{\"attributes\":{\"plot\":{\"id\":\"065b2630-ca4e-4404-bec5-ac47e50fdd0c\",\"subtype\":\"Figure\",\"type\":\"Plot\"}},\"id\":\"f38c78d9-8254-4184-b2f6-9bb173667d75\",\"type\":\"WheelZoomTool\"},{\"attributes\":{\"fill_color\":{\"value\":\"orangered\"},\"line_alpha\":{\"value\":0.85},\"line_color\":{\"value\":\"#1f77b4\"},\"size\":{\"units\":\"screen\",\"value\":5},\"x\":{\"field\":\"x\"},\"y\":{\"field\":\"y\"}},\"id\":\"292ca873-d2f1-4cb5-b6d7-409ba804c987\",\"type\":\"Circle\"},{\"attributes\":{\"fill_alpha\":{\"value\":0.1},\"fill_color\":{\"value\":\"#1f77b4\"},\"line_alpha\":{\"value\":0.1},\"line_color\":{\"value\":\"#1f77b4\"},\"size\":{\"units\":\"screen\",\"value\":5},\"x\":{\"field\":\"x\"},\"y\":{\"field\":\"y\"}},\"id\":\"166d1da1-4ce9-411d-a305-df111cdfab8c\",\"type\":\"Circle\"},{\"attributes\":{\"formatter\":{\"id\":\"e9cbc76c-e30a-408e-ab82-050210e0ec97\",\"type\":\"BasicTickFormatter\"},\"plot\":{\"id\":\"065b2630-ca4e-4404-bec5-ac47e50fdd0c\",\"subtype\":\"Figure\",\"type\":\"Plot\"},\"ticker\":{\"id\":\"876a5240-a70c-4804-bd09-1279bc081782\",\"type\":\"BasicTicker\"}},\"id\":\"f70608f4-5395-4848-9991-8e3ae9c6e8f1\",\"type\":\"LinearAxis\"},{\"attributes\":{\"active_drag\":\"auto\",\"active_scroll\":\"auto\",\"active_tap\":\"auto\",\"tools\":[{\"id\":\"8f3a79c5-6e13-4741-87e3-d9df2dd6a657\",\"type\":\"PanTool\"},{\"id\":\"f38c78d9-8254-4184-b2f6-9bb173667d75\",\"type\":\"WheelZoomTool\"},{\"id\":\"d2c0cda9-26bc-4793-91a8-9e13c06156fe\",\"type\":\"BoxZoomTool\"},{\"id\":\"c1070188-3b97-49b1-a709-846f1cae0c90\",\"type\":\"SaveTool\"},{\"id\":\"bd310b51-abef-423e-a22b-4fc68c0f707f\",\"type\":\"ResetTool\"},{\"id\":\"7c02832e-ed62-4de5-a8c4-ee1484e0c630\",\"type\":\"HelpTool\"}]},\"id\":\"2366fbab-8499-45b2-beda-7716ca3fabab\",\"type\":\"Toolbar\"},{\"attributes\":{\"plot\":{\"id\":\"065b2630-ca4e-4404-bec5-ac47e50fdd0c\",\"subtype\":\"Figure\",\"type\":\"Plot\"}},\"id\":\"8f3a79c5-6e13-4741-87e3-d9df2dd6a657\",\"type\":\"PanTool\"},{\"attributes\":{\"items\":[{\"id\":\"7b73da25-763b-4a43-922a-ed6c2602162e\",\"type\":\"LegendItem\"},{\"id\":\"ceb6b3bc-2d34-4f43-b142-f0a2f64cf51b\",\"type\":\"LegendItem\"},{\"id\":\"56038ddc-e8e8-42a4-8e28-3247d25a46f7\",\"type\":\"LegendItem\"}],\"location\":\"bottom_right\",\"plot\":{\"id\":\"065b2630-ca4e-4404-bec5-ac47e50fdd0c\",\"subtype\":\"Figure\",\"type\":\"Plot\"}},\"id\":\"ff1bc8ee-a5d1-4727-8142-ec6274c7dd85\",\"type\":\"Legend\"},{\"attributes\":{\"plot\":null,\"text\":\"Training and Validation Sets\"},\"id\":\"24e477ec-f18a-4ac4-896f-a77f6342bcfa\",\"type\":\"Title\"},{\"attributes\":{\"overlay\":{\"id\":\"bffca136-7785-4799-bcc9-c3358d4f85a4\",\"type\":\"BoxAnnotation\"},\"plot\":{\"id\":\"065b2630-ca4e-4404-bec5-ac47e50fdd0c\",\"subtype\":\"Figure\",\"type\":\"Plot\"}},\"id\":\"d2c0cda9-26bc-4793-91a8-9e13c06156fe\",\"type\":\"BoxZoomTool\"},{\"attributes\":{\"callback\":null},\"id\":\"111db98c-5696-4220-b30c-2bc0c339b945\",\"type\":\"DataRange1d\"},{\"attributes\":{\"data_source\":{\"id\":\"079c4862-3611-4d6e-8ffe-a318e2542620\",\"type\":\"ColumnDataSource\"},\"glyph\":{\"id\":\"4cf41b5f-9794-4cb7-8a4d-bcaf0018431c\",\"type\":\"Circle\"},\"hover_glyph\":null,\"nonselection_glyph\":{\"id\":\"653f3610-d78a-4c70-9a5d-1297bee11427\",\"type\":\"Circle\"},\"selection_glyph\":null},\"id\":\"28d57d26-c74e-4841-9413-51eef1409174\",\"type\":\"GlyphRenderer\"},{\"attributes\":{\"data_source\":{\"id\":\"402809de-e2ba-47b2-a114-1cf1381172e2\",\"type\":\"ColumnDataSource\"},\"glyph\":{\"id\":\"e48b919e-340d-45de-bae3-b95acc96890b\",\"type\":\"Line\"},\"hover_glyph\":null,\"nonselection_glyph\":{\"id\":\"7d9a2366-3625-4721-ad73-bbfb1b10e7ce\",\"type\":\"Line\"},\"selection_glyph\":null},\"id\":\"f0a471ec-b17b-4187-9e44-f65c636fdde8\",\"type\":\"GlyphRenderer\"},{\"attributes\":{\"data_source\":{\"id\":\"5aed9682-c425-4b31-9fb9-2f51a3c717a4\",\"type\":\"ColumnDataSource\"},\"glyph\":{\"id\":\"292ca873-d2f1-4cb5-b6d7-409ba804c987\",\"type\":\"Circle\"},\"hover_glyph\":null,\"nonselection_glyph\":{\"id\":\"166d1da1-4ce9-411d-a305-df111cdfab8c\",\"type\":\"Circle\"},\"selection_glyph\":null},\"id\":\"e088933e-bdcc-4404-a2d0-7ecc4b60a08c\",\"type\":\"GlyphRenderer\"},{\"attributes\":{\"bottom_units\":\"screen\",\"fill_alpha\":{\"value\":0.5},\"fill_color\":{\"value\":\"lightgrey\"},\"left_units\":\"screen\",\"level\":\"overlay\",\"line_alpha\":{\"value\":1.0},\"line_color\":{\"value\":\"black\"},\"line_dash\":[4,4],\"line_width\":{\"value\":2},\"plot\":null,\"render_mode\":\"css\",\"right_units\":\"screen\",\"top_units\":\"screen\"},\"id\":\"bffca136-7785-4799-bcc9-c3358d4f85a4\",\"type\":\"BoxAnnotation\"},{\"attributes\":{\"callback\":null,\"column_names\":[\"y\",\"x\"],\"data\":{\"x\":{\"__ndarray__\":\"YAjFGS3i7T9XeZSI6d7fPwT2MVkd3t0/t5KhDwGq4z9zL7svEUHRP2Z6cqkqdtk/EYnKIbMd2z+Wj6IqIyjfP37mQVkgyOM/ED0IvIBfvj+dbHyhimHhPw+NuzBkPuc/Dxl0puas5j9mDyyFyhDdP7DLqGvNRuU/wbF6YDNl3z9KNWaiEOnUP8I3BHNs2uo/TCVBKlYE4z+4xXLJO7/hP2xx5TMrQ90/\",\"dtype\":\"float64\",\"shape\":[21]},\"y\":{\"__ndarray__\":\"qk9BquS2XUAQdeVNj/EtwChV8/1VIDrAq4xPJNUfM0AolOpHYD5TwMfwaz+fXUHAWH7zJyHDOMClguZOoN0ewEDqdjBL6zhA6logX/cdXsBk23/Iehfrv2Il4fLGNkxAJ/HVjNNTS0Dmf6Lh6NkywKJYsTSaL0JAMnEDfkGLJcDylGRtKZlJwLlwgWJZGlZA0IICQZGRNkCrYWZDiskhQMLJ7MLUsi/A\",\"dtype\":\"float64\",\"shape\":[21]}}},\"id\":\"5aed9682-c425-4b31-9fb9-2f51a3c717a4\",\"type\":\"ColumnDataSource\"},{\"attributes\":{},\"id\":\"741dea39-6930-4ab8-9cd7-2b1c1f481f28\",\"type\":\"BasicTicker\"},{\"attributes\":{\"plot\":{\"id\":\"065b2630-ca4e-4404-bec5-ac47e50fdd0c\",\"subtype\":\"Figure\",\"type\":\"Plot\"},\"ticker\":{\"id\":\"876a5240-a70c-4804-bd09-1279bc081782\",\"type\":\"BasicTicker\"}},\"id\":\"ecdac6ee-b3fa-492c-b4b2-02b0bc543616\",\"type\":\"Grid\"},{\"attributes\":{\"fill_alpha\":{\"value\":0.1},\"fill_color\":{\"value\":\"#1f77b4\"},\"line_alpha\":{\"value\":0.1},\"line_color\":{\"value\":\"#1f77b4\"},\"size\":{\"units\":\"screen\",\"value\":5},\"x\":{\"field\":\"x\"},\"y\":{\"field\":\"y\"}},\"id\":\"653f3610-d78a-4c70-9a5d-1297bee11427\",\"type\":\"Circle\"},{\"attributes\":{\"label\":{\"value\":\"Training Set\"},\"renderers\":[{\"id\":\"28d57d26-c74e-4841-9413-51eef1409174\",\"type\":\"GlyphRenderer\"}]},\"id\":\"7b73da25-763b-4a43-922a-ed6c2602162e\",\"type\":\"LegendItem\"},{\"attributes\":{\"plot\":{\"id\":\"065b2630-ca4e-4404-bec5-ac47e50fdd0c\",\"subtype\":\"Figure\",\"type\":\"Plot\"}},\"id\":\"7c02832e-ed62-4de5-a8c4-ee1484e0c630\",\"type\":\"HelpTool\"},{\"attributes\":{\"line_color\":{\"value\":\"blue\"},\"x\":{\"field\":\"x\"},\"y\":{\"field\":\"y\"}},\"id\":\"e48b919e-340d-45de-bae3-b95acc96890b\",\"type\":\"Line\"},{\"attributes\":{\"dimension\":1,\"plot\":{\"id\":\"065b2630-ca4e-4404-bec5-ac47e50fdd0c\",\"subtype\":\"Figure\",\"type\":\"Plot\"},\"ticker\":{\"id\":\"741dea39-6930-4ab8-9cd7-2b1c1f481f28\",\"type\":\"BasicTicker\"}},\"id\":\"aa4013b6-8c11-4875-8ca4-dfb03bbf9839\",\"type\":\"Grid\"},{\"attributes\":{\"plot\":{\"id\":\"065b2630-ca4e-4404-bec5-ac47e50fdd0c\",\"subtype\":\"Figure\",\"type\":\"Plot\"}},\"id\":\"c1070188-3b97-49b1-a709-846f1cae0c90\",\"type\":\"SaveTool\"},{\"attributes\":{},\"id\":\"3493d7cd-a8aa-477e-ad74-835989680e8c\",\"type\":\"ToolEvents\"},{\"attributes\":{},\"id\":\"876a5240-a70c-4804-bd09-1279bc081782\",\"type\":\"BasicTicker\"},{\"attributes\":{\"callback\":null,\"column_names\":[\"y\",\"x\"],\"data\":{\"x\":{\"__ndarray__\":\"lisXDJIozT9CCqfgVifjPwAAAAAAAAAAZvDQDikc6z+UHSXuKYzcP1P5ujzt9tM/38J5626w6j8wkXXz7h3iP6q/Gt7dENw/zNY7uPnO7z9F7UVqyBnbP2XNbZ8h+uE/IF6eJs+W6j8kvAd+zAfYP01MBxNZGuk/h+qEyUc+4T/W4jMuA3nGP45JjfekAuQ/AVK28cCB4z8IIhdi4X3IP0eTJJFEvdw/SgTUBpr02D/y+bTlCfHFP2CGNFD//tU/zubkZehy4z9sprxLAaXsP7AXcxqfG90/Y3Lfqjrl4T+1gxhCFxnWP9ZZ2Sfw6ug/MW+0767A4D8abVW0RJjjP4umvirA9+E/kk6aoagW1z/9wU9YDm/nP79+0UjN1tU/vgIblTYZ5j+U8Ak5ouzIP////////+8/VhYXjDlB4D8NMHozi4vWP/6gDiVhDt8/zLkZ+vERzj9fHgU4RP3lPz/iKRqC4uM/+Cx0VNJU7T+a5gbzODbSPwMUxZ5W8uI/zNquIMpI4T8=\",\"dtype\":\"float64\",\"shape\":[49]},\"y\":{\"__ndarray__\":\"xpRtyxvEU8DwK951GD02QPrzF2w5y2HArZqwqQ/VVEAiiBJS+/U4wDWg0kuMYkrALv6xn05/V0CEbO9MiesyQIdIxT5VBjrA5AWqUQRfYEDDc4CX7048wHTaPQpx3vg/Hg5wvLLYVkCcxi0+qtpEwCi7IBd0YFBAmVeLfGirFkBWRAxSK/RWwAcS65kLkDZA+TX6+gHHN0BHVRGG8MpVwDjyE7j7SDPAX5nTjYM3SMB/0pqS2mFZwHcvCYFnQEvARmNgK/8LNkAQspkDWCRZQOgamcrj9yrA9H8um7yDMUBr6MX0Iv1GwEAgo8QeDVFAJJYSR1Oh/b+sBxsnMn05QHWfnnsG4B5Al+pCVC3vRsAxBAVZ1hZKQMveFg7G60nAOJgoZaZpQUBJMVbgNCBXwG77dXMqB2FAzPW/JPwY9b8Tyrc0aw9KwClFxYBbWyfAOyYFfOwdUsBcXJmhUE1CQHfJasQbNjlAg4sGVNamWUCZoYGhnnRQwGAMd06S2zJAaz0zkUe1C8A=\",\"dtype\":\"float64\",\"shape\":[49]}}},\"id\":\"079c4862-3611-4d6e-8ffe-a318e2542620\",\"type\":\"ColumnDataSource\"},{\"attributes\":{\"formatter\":{\"id\":\"aa0bb91e-34d3-4842-8d6a-d0979be82cec\",\"type\":\"BasicTickFormatter\"},\"plot\":{\"id\":\"065b2630-ca4e-4404-bec5-ac47e50fdd0c\",\"subtype\":\"Figure\",\"type\":\"Plot\"},\"ticker\":{\"id\":\"741dea39-6930-4ab8-9cd7-2b1c1f481f28\",\"type\":\"BasicTicker\"}},\"id\":\"848d574a-842c-422c-ae6c-17c31d02ad3c\",\"type\":\"LinearAxis\"},{\"attributes\":{},\"id\":\"e9cbc76c-e30a-408e-ab82-050210e0ec97\",\"type\":\"BasicTickFormatter\"},{\"attributes\":{\"below\":[{\"id\":\"f70608f4-5395-4848-9991-8e3ae9c6e8f1\",\"type\":\"LinearAxis\"}],\"left\":[{\"id\":\"848d574a-842c-422c-ae6c-17c31d02ad3c\",\"type\":\"LinearAxis\"}],\"plot_height\":400,\"plot_width\":700,\"renderers\":[{\"id\":\"f70608f4-5395-4848-9991-8e3ae9c6e8f1\",\"type\":\"LinearAxis\"},{\"id\":\"ecdac6ee-b3fa-492c-b4b2-02b0bc543616\",\"type\":\"Grid\"},{\"id\":\"848d574a-842c-422c-ae6c-17c31d02ad3c\",\"type\":\"LinearAxis\"},{\"id\":\"aa4013b6-8c11-4875-8ca4-dfb03bbf9839\",\"type\":\"Grid\"},{\"id\":\"bffca136-7785-4799-bcc9-c3358d4f85a4\",\"type\":\"BoxAnnotation\"},{\"id\":\"ff1bc8ee-a5d1-4727-8142-ec6274c7dd85\",\"type\":\"Legend\"},{\"id\":\"28d57d26-c74e-4841-9413-51eef1409174\",\"type\":\"GlyphRenderer\"},{\"id\":\"e088933e-bdcc-4404-a2d0-7ecc4b60a08c\",\"type\":\"GlyphRenderer\"},{\"id\":\"f0a471ec-b17b-4187-9e44-f65c636fdde8\",\"type\":\"GlyphRenderer\"}],\"title\":{\"id\":\"24e477ec-f18a-4ac4-896f-a77f6342bcfa\",\"type\":\"Title\"},\"tool_events\":{\"id\":\"3493d7cd-a8aa-477e-ad74-835989680e8c\",\"type\":\"ToolEvents\"},\"toolbar\":{\"id\":\"2366fbab-8499-45b2-beda-7716ca3fabab\",\"type\":\"Toolbar\"},\"x_range\":{\"id\":\"111db98c-5696-4220-b30c-2bc0c339b945\",\"type\":\"DataRange1d\"},\"y_range\":{\"id\":\"0e0378b9-653b-4bc1-8f6a-6fe0490c43aa\",\"type\":\"DataRange1d\"}},\"id\":\"065b2630-ca4e-4404-bec5-ac47e50fdd0c\",\"subtype\":\"Figure\",\"type\":\"Plot\"}],\"root_ids\":[\"065b2630-ca4e-4404-bec5-ac47e50fdd0c\"]},\"title\":\"Bokeh Application\",\"version\":\"0.12.4\"}};\n",
       "            var render_items = [{\"docid\":\"522cf1c8-411f-4014-ad11-e98068f4f784\",\"elementid\":\"24b73871-27fc-4123-85ad-07a4324682aa\",\"modelid\":\"065b2630-ca4e-4404-bec5-ac47e50fdd0c\"}];\n",
       "            \n",
       "            Bokeh.embed.embed_items(docs_json, render_items);\n",
       "          };\n",
       "          if (document.readyState != \"loading\") fn();\n",
       "          else document.addEventListener(\"DOMContentLoaded\", fn);\n",
       "        })();\n",
       "      },\n",
       "      function(Bokeh) {\n",
       "      }\n",
       "    ];\n",
       "  \n",
       "    function run_inline_js() {\n",
       "      \n",
       "      if ((window.Bokeh !== undefined) || (force === true)) {\n",
       "        for (var i = 0; i < inline_js.length; i++) {\n",
       "          inline_js[i](window.Bokeh);\n",
       "        }if (force === true) {\n",
       "          display_loaded();\n",
       "        }} else if (Date.now() < window._bokeh_timeout) {\n",
       "        setTimeout(run_inline_js, 100);\n",
       "      } else if (!window._bokeh_failed_load) {\n",
       "        console.log(\"Bokeh: BokehJS failed to load within specified timeout.\");\n",
       "        window._bokeh_failed_load = true;\n",
       "      } else if (force !== true) {\n",
       "        var cell = $(document.getElementById(\"24b73871-27fc-4123-85ad-07a4324682aa\")).parents('.cell').data().cell;\n",
       "        cell.output_area.append_execute_result(NB_LOAD_WARNING)\n",
       "      }\n",
       "  \n",
       "    }\n",
       "  \n",
       "    if (window._bokeh_is_loading === 0) {\n",
       "      console.log(\"Bokeh: BokehJS loaded, going straight to plotting\");\n",
       "      run_inline_js();\n",
       "    } else {\n",
       "      load_libs(js_urls, function() {\n",
       "        console.log(\"Bokeh: BokehJS plotting callback run at\", now());\n",
       "        run_inline_js();\n",
       "      });\n",
       "    }\n",
       "  }(this));\n",
       "</script>"
      ]
     },
     "metadata": {},
     "output_type": "display_data"
    }
   ],
   "source": [
    "from sklearn import model_selection\n",
    "X_tr, X_valid, y_tr, y_valid = model_selection.train_test_split(X_sc, y,\n",
    "                                                                test_size=0.30, \n",
    "                                                                random_state=0)\n",
    "lin.fit(X_tr, y_tr)\n",
    "MSE = metrics.mean_squared_error(lin.predict(X_valid), y_valid)\n",
    "print(\"Mean Squared Error: %.2f\" % MSE)\n",
    "print(\"Model coefficient: %.5f, and intercept: %.5f\" % (lin.coef_, lin.intercept_))\n",
    "\n",
    "X_predicted = np.linspace(0, 1, 2)[:, np.newaxis]\n",
    "y_predicted = lin.predict(X_predicted)\n",
    "fig = bk.figure(title='Training and Validation Sets', \n",
    "                plot_width=700, plot_height=400)\n",
    "fig.circle(X_tr.squeeze(), y_tr,\n",
    "           size=5, line_alpha=0.85, fill_color='green', line_color='darkgreen',\n",
    "           legend='Training Set')\n",
    "fig.circle(X_valid.squeeze(), y_valid, \n",
    "           size=5, line_alpha=0.85, fill_color='orangered', legend='Validation Set')\n",
    "fig.line(X_predicted.ravel(), y_predicted, line_color='blue', legend='Linear Regression')\n",
    "fig.legend.location = 'bottom_right'\n",
    "bk.show(fig)"
   ]
  },
  {
   "cell_type": "markdown",
   "metadata": {},
   "source": [
    "### 3.1 Example: Do a Regression Analysis on MATLAB<sup>&reg;</sup> data"
   ]
  },
  {
   "cell_type": "markdown",
   "metadata": {},
   "source": [
    "The data are generated with the following MATLAB code:\n",
    "\n",
    "    % Generate Regression Test Data 02 ----------------------------------------\n",
    "    samples = 100; features = 5;\n",
    "    \n",
    "    X = rand(samples, features)\n",
    "    for i = 1:samples\n",
    "        X(i,:) = (X(i,:)*i)+i+0.1;\n",
    "    end\n",
    "    % Calculate y as a linear combination of features with coeff. 1.5, 2.5, ...\n",
    "    % and add some noise\n",
    "    noise = 0.1;\n",
    "    lin_comb = (1:features) + 0.5\n",
    "    y = (X+rand(samples, features)*noise)*lin_comb'\n",
    "    % Define feature names as 'F001', ... , 'Fnnn' up to 9999 features\n",
    "    feat_names = sprintf('F%04i',1);\n",
    "    for i = 2:features\n",
    "        feat_names = strvcat(feat_names, sprintf('F%04i',i));\n",
    "    end\n",
    "    \n",
    "    save ('matlab_test_data_02', 'X','y', 'feat_names')"
   ]
  },
  {
   "cell_type": "code",
   "execution_count": 17,
   "metadata": {
    "collapsed": true
   },
   "outputs": [],
   "source": [
    "from sklearn import preprocessing, linear_model\n",
    "mat = scipy.io.loadmat('example_data/matlab_test_data_02.mat')\n",
    "col = [s.strip() for s in list(mat['feat_names'])]"
   ]
  },
  {
   "cell_type": "code",
   "execution_count": 18,
   "metadata": {
    "collapsed": true
   },
   "outputs": [],
   "source": [
    "Xt,Xv,yt,yv = model_selection.train_test_split(mat['X'], mat['y'],test_size=0.30,\n",
    "                                                random_state=0)\n",
    "Xt = pd.DataFrame(Xt, columns=col)\n",
    "Xv = pd.DataFrame(Xv, columns=col)\n",
    "yt = pd.DataFrame(yt, columns=['measured'])\n",
    "yv = pd.DataFrame(yv, columns=['measured'])"
   ]
  },
  {
   "cell_type": "code",
   "execution_count": 19,
   "metadata": {
    "collapsed": false
   },
   "outputs": [
    {
     "data": {
      "text/html": [
       "<div>\n",
       "<table border=\"1\" class=\"dataframe\">\n",
       "  <thead>\n",
       "    <tr style=\"text-align: right;\">\n",
       "      <th></th>\n",
       "      <th>F0001</th>\n",
       "      <th>F0002</th>\n",
       "      <th>F0003</th>\n",
       "      <th>F0004</th>\n",
       "      <th>F0005</th>\n",
       "      <th>F0006</th>\n",
       "    </tr>\n",
       "  </thead>\n",
       "  <tbody>\n",
       "    <tr>\n",
       "      <th>0</th>\n",
       "      <td>131.391611</td>\n",
       "      <td>178.588071</td>\n",
       "      <td>191.836028</td>\n",
       "      <td>206.928031</td>\n",
       "      <td>188.601869</td>\n",
       "      <td>195.879822</td>\n",
       "    </tr>\n",
       "    <tr>\n",
       "      <th>1</th>\n",
       "      <td>137.771630</td>\n",
       "      <td>91.462643</td>\n",
       "      <td>76.438656</td>\n",
       "      <td>104.585583</td>\n",
       "      <td>123.265090</td>\n",
       "      <td>73.587835</td>\n",
       "    </tr>\n",
       "    <tr>\n",
       "      <th>2</th>\n",
       "      <td>789.737369</td>\n",
       "      <td>671.934539</td>\n",
       "      <td>835.830887</td>\n",
       "      <td>515.921167</td>\n",
       "      <td>901.167154</td>\n",
       "      <td>813.659391</td>\n",
       "    </tr>\n",
       "  </tbody>\n",
       "</table>\n",
       "</div>"
      ],
      "text/plain": [
       "        F0001       F0002       F0003       F0004       F0005       F0006\n",
       "0  131.391611  178.588071  191.836028  206.928031  188.601869  195.879822\n",
       "1  137.771630   91.462643   76.438656  104.585583  123.265090   73.587835\n",
       "2  789.737369  671.934539  835.830887  515.921167  901.167154  813.659391"
      ]
     },
     "execution_count": 19,
     "metadata": {},
     "output_type": "execute_result"
    }
   ],
   "source": [
    "Xt.head(3)"
   ]
  },
  {
   "cell_type": "code",
   "execution_count": 20,
   "metadata": {
    "collapsed": false
   },
   "outputs": [
    {
     "data": {
      "text/plain": [
       "array([[ 2.46,  0.88,  1.49,  2.39,  2.1 ,  2.5 ],\n",
       "       [ 0.5 ,  0.64,  0.64,  0.54,  0.43,  0.96],\n",
       "       [-0.75, -0.93, -0.81, -0.61, -0.44, -0.83],\n",
       "       ..., \n",
       "       [ 1.24,  2.17,  0.7 ,  2.22,  1.78,  2.63],\n",
       "       [ 0.4 , -0.15, -0.38,  0.05, -0.17,  0.4 ],\n",
       "       [-1.53, -1.55, -1.55, -1.55, -1.58, -1.55]])"
      ]
     },
     "execution_count": 20,
     "metadata": {},
     "output_type": "execute_result"
    }
   ],
   "source": [
    "# Scaler is fitted only on training data\n",
    "Xts = Xt.copy()\n",
    "Xvs = Xv.copy()\n",
    "scaler = preprocessing.StandardScaler(copy=False, with_mean=True, with_std=True).fit(Xt)\n",
    "scaler.transform(Xts)\n",
    "scaler.transform(Xv)"
   ]
  },
  {
   "cell_type": "code",
   "execution_count": 21,
   "metadata": {
    "collapsed": false
   },
   "outputs": [
    {
     "data": {
      "text/html": [
       "<div>\n",
       "<table border=\"1\" class=\"dataframe\">\n",
       "  <thead>\n",
       "    <tr style=\"text-align: right;\">\n",
       "      <th></th>\n",
       "      <th>F0001</th>\n",
       "      <th>F0002</th>\n",
       "      <th>F0003</th>\n",
       "      <th>F0004</th>\n",
       "      <th>F0005</th>\n",
       "      <th>F0006</th>\n",
       "    </tr>\n",
       "  </thead>\n",
       "  <tbody>\n",
       "    <tr>\n",
       "      <th>0</th>\n",
       "      <td>-1.294851</td>\n",
       "      <td>-1.210162</td>\n",
       "      <td>-1.171325</td>\n",
       "      <td>-1.148142</td>\n",
       "      <td>-1.198971</td>\n",
       "      <td>-1.160278</td>\n",
       "    </tr>\n",
       "    <tr>\n",
       "      <th>1</th>\n",
       "      <td>-1.281377</td>\n",
       "      <td>-1.399557</td>\n",
       "      <td>-1.416333</td>\n",
       "      <td>-1.371187</td>\n",
       "      <td>-1.344097</td>\n",
       "      <td>-1.424161</td>\n",
       "    </tr>\n",
       "    <tr>\n",
       "      <th>2</th>\n",
       "      <td>0.095500</td>\n",
       "      <td>-0.137716</td>\n",
       "      <td>0.195982</td>\n",
       "      <td>-0.474723</td>\n",
       "      <td>0.383782</td>\n",
       "      <td>0.172776</td>\n",
       "    </tr>\n",
       "  </tbody>\n",
       "</table>\n",
       "</div>"
      ],
      "text/plain": [
       "      F0001     F0002     F0003     F0004     F0005     F0006\n",
       "0 -1.294851 -1.210162 -1.171325 -1.148142 -1.198971 -1.160278\n",
       "1 -1.281377 -1.399557 -1.416333 -1.371187 -1.344097 -1.424161\n",
       "2  0.095500 -0.137716  0.195982 -0.474723  0.383782  0.172776"
      ]
     },
     "execution_count": 21,
     "metadata": {},
     "output_type": "execute_result"
    }
   ],
   "source": [
    "Xts.head(3)"
   ]
  },
  {
   "cell_type": "code",
   "execution_count": 22,
   "metadata": {
    "collapsed": false
   },
   "outputs": [
    {
     "name": "stdout",
     "output_type": "stream",
     "text": [
      "[[  708.82  1153.81  1647.24  2066.73  2474.24  3011.71]]\n",
      "[ 17692.81]\n"
     ]
    }
   ],
   "source": [
    "model = linear_model.LinearRegression(fit_intercept=True, normalize=True)\n",
    "model.fit(Xts, yt)\n",
    "# NOTICE: coefficients are much different from 1.5, 2.5, ... when fitting on scaled data\n",
    "print(model.coef_)\n",
    "print(model.intercept_)"
   ]
  },
  {
   "cell_type": "code",
   "execution_count": 23,
   "metadata": {
    "collapsed": false
   },
   "outputs": [
    {
     "data": {
      "text/html": [
       "\n",
       "\n",
       "    <div class=\"bk-root\">\n",
       "        <div class=\"bk-plotdiv\" id=\"7454cf58-0752-4ad0-a193-13aad73cacce\"></div>\n",
       "    </div>\n",
       "<script type=\"text/javascript\">\n",
       "  \n",
       "  (function(global) {\n",
       "    function now() {\n",
       "      return new Date();\n",
       "    }\n",
       "  \n",
       "    var force = false;\n",
       "  \n",
       "    if (typeof (window._bokeh_onload_callbacks) === \"undefined\" || force === true) {\n",
       "      window._bokeh_onload_callbacks = [];\n",
       "      window._bokeh_is_loading = undefined;\n",
       "    }\n",
       "  \n",
       "  \n",
       "    \n",
       "    if (typeof (window._bokeh_timeout) === \"undefined\" || force === true) {\n",
       "      window._bokeh_timeout = Date.now() + 0;\n",
       "      window._bokeh_failed_load = false;\n",
       "    }\n",
       "  \n",
       "    var NB_LOAD_WARNING = {'data': {'text/html':\n",
       "       \"<div style='background-color: #fdd'>\\n\"+\n",
       "       \"<p>\\n\"+\n",
       "       \"BokehJS does not appear to have successfully loaded. If loading BokehJS from CDN, this \\n\"+\n",
       "       \"may be due to a slow or bad network connection. Possible fixes:\\n\"+\n",
       "       \"</p>\\n\"+\n",
       "       \"<ul>\\n\"+\n",
       "       \"<li>re-rerun `output_notebook()` to attempt to load from CDN again, or</li>\\n\"+\n",
       "       \"<li>use INLINE resources instead, as so:</li>\\n\"+\n",
       "       \"</ul>\\n\"+\n",
       "       \"<code>\\n\"+\n",
       "       \"from bokeh.resources import INLINE\\n\"+\n",
       "       \"output_notebook(resources=INLINE)\\n\"+\n",
       "       \"</code>\\n\"+\n",
       "       \"</div>\"}};\n",
       "  \n",
       "    function display_loaded() {\n",
       "      if (window.Bokeh !== undefined) {\n",
       "        document.getElementById(\"7454cf58-0752-4ad0-a193-13aad73cacce\").textContent = \"BokehJS successfully loaded.\";\n",
       "      } else if (Date.now() < window._bokeh_timeout) {\n",
       "        setTimeout(display_loaded, 100)\n",
       "      }\n",
       "    }\n",
       "  \n",
       "    function run_callbacks() {\n",
       "      window._bokeh_onload_callbacks.forEach(function(callback) { callback() });\n",
       "      delete window._bokeh_onload_callbacks\n",
       "      console.info(\"Bokeh: all callbacks have finished\");\n",
       "    }\n",
       "  \n",
       "    function load_libs(js_urls, callback) {\n",
       "      window._bokeh_onload_callbacks.push(callback);\n",
       "      if (window._bokeh_is_loading > 0) {\n",
       "        console.log(\"Bokeh: BokehJS is being loaded, scheduling callback at\", now());\n",
       "        return null;\n",
       "      }\n",
       "      if (js_urls == null || js_urls.length === 0) {\n",
       "        run_callbacks();\n",
       "        return null;\n",
       "      }\n",
       "      console.log(\"Bokeh: BokehJS not loaded, scheduling load and callback at\", now());\n",
       "      window._bokeh_is_loading = js_urls.length;\n",
       "      for (var i = 0; i < js_urls.length; i++) {\n",
       "        var url = js_urls[i];\n",
       "        var s = document.createElement('script');\n",
       "        s.src = url;\n",
       "        s.async = false;\n",
       "        s.onreadystatechange = s.onload = function() {\n",
       "          window._bokeh_is_loading--;\n",
       "          if (window._bokeh_is_loading === 0) {\n",
       "            console.log(\"Bokeh: all BokehJS libraries loaded\");\n",
       "            run_callbacks()\n",
       "          }\n",
       "        };\n",
       "        s.onerror = function() {\n",
       "          console.warn(\"failed to load library \" + url);\n",
       "        };\n",
       "        console.log(\"Bokeh: injecting script tag for BokehJS library: \", url);\n",
       "        document.getElementsByTagName(\"head\")[0].appendChild(s);\n",
       "      }\n",
       "    };var element = document.getElementById(\"7454cf58-0752-4ad0-a193-13aad73cacce\");\n",
       "    if (element == null) {\n",
       "      console.log(\"Bokeh: ERROR: autoload.js configured with elementid '7454cf58-0752-4ad0-a193-13aad73cacce' but no matching script tag was found. \")\n",
       "      return false;\n",
       "    }\n",
       "  \n",
       "    var js_urls = [];\n",
       "  \n",
       "    var inline_js = [\n",
       "      function(Bokeh) {\n",
       "        (function() {\n",
       "          var fn = function() {\n",
       "            var docs_json = {\"959c6e8d-daf3-459f-b77c-4c4df90ea5bd\":{\"roots\":{\"references\":[{\"attributes\":{},\"id\":\"99cc5255-845f-4ffd-9cf4-257071dd0881\",\"type\":\"BasicTicker\"},{\"attributes\":{\"data_source\":{\"id\":\"6e3a75c6-45d7-4708-b60c-7de585b413ed\",\"type\":\"ColumnDataSource\"},\"glyph\":{\"id\":\"11b15eae-1609-4d70-ad7e-c2f517843bee\",\"type\":\"Circle\"},\"hover_glyph\":null,\"nonselection_glyph\":{\"id\":\"a8fc5e72-78c2-45e2-895a-6ed3173e4c2b\",\"type\":\"Circle\"},\"selection_glyph\":null},\"id\":\"0e179692-d0c0-4973-a81c-10bab0a4053c\",\"type\":\"GlyphRenderer\"},{\"attributes\":{\"active_drag\":\"auto\",\"active_scroll\":\"auto\",\"active_tap\":\"auto\",\"tools\":[{\"id\":\"8500fee1-dc93-454a-8605-579f4a0d3c0b\",\"type\":\"PanTool\"},{\"id\":\"efb2f305-0819-4d65-8526-74c74935afa5\",\"type\":\"WheelZoomTool\"},{\"id\":\"2c5b4834-265b-4270-bf04-33007475ccd4\",\"type\":\"BoxZoomTool\"},{\"id\":\"238c67ad-8466-4596-9b5b-f54ec64839cc\",\"type\":\"SaveTool\"},{\"id\":\"fa4ce7cd-8ba0-4c8d-a5ec-f26cd39d9c4e\",\"type\":\"ResetTool\"},{\"id\":\"b283f3be-f327-4975-83a9-56a650556932\",\"type\":\"HelpTool\"}]},\"id\":\"d7ad6b34-8897-494e-9ce2-1f0f68753275\",\"type\":\"Toolbar\"},{\"attributes\":{\"plot\":{\"id\":\"5376a8cb-fb82-48fb-8f56-73fd4b115db5\",\"subtype\":\"Figure\",\"type\":\"Plot\"}},\"id\":\"fa4ce7cd-8ba0-4c8d-a5ec-f26cd39d9c4e\",\"type\":\"ResetTool\"},{\"attributes\":{\"fill_alpha\":{\"value\":0.5},\"fill_color\":{\"value\":\"blue\"},\"line_alpha\":{\"value\":0.2},\"size\":{\"units\":\"screen\",\"value\":8},\"x\":{\"field\":\"x\"},\"y\":{\"field\":\"y\"}},\"id\":\"11b15eae-1609-4d70-ad7e-c2f517843bee\",\"type\":\"Circle\"},{\"attributes\":{\"plot\":{\"id\":\"5376a8cb-fb82-48fb-8f56-73fd4b115db5\",\"subtype\":\"Figure\",\"type\":\"Plot\"}},\"id\":\"238c67ad-8466-4596-9b5b-f54ec64839cc\",\"type\":\"SaveTool\"},{\"attributes\":{\"plot\":{\"id\":\"5376a8cb-fb82-48fb-8f56-73fd4b115db5\",\"subtype\":\"Figure\",\"type\":\"Plot\"}},\"id\":\"8500fee1-dc93-454a-8605-579f4a0d3c0b\",\"type\":\"PanTool\"},{\"attributes\":{\"dimension\":1,\"plot\":{\"id\":\"5376a8cb-fb82-48fb-8f56-73fd4b115db5\",\"subtype\":\"Figure\",\"type\":\"Plot\"},\"ticker\":{\"id\":\"99cc5255-845f-4ffd-9cf4-257071dd0881\",\"type\":\"BasicTicker\"}},\"id\":\"ed554d01-73c2-4283-89c4-261cf9cf17bb\",\"type\":\"Grid\"},{\"attributes\":{\"plot\":{\"id\":\"5376a8cb-fb82-48fb-8f56-73fd4b115db5\",\"subtype\":\"Figure\",\"type\":\"Plot\"}},\"id\":\"efb2f305-0819-4d65-8526-74c74935afa5\",\"type\":\"WheelZoomTool\"},{\"attributes\":{},\"id\":\"99b93499-a245-49d4-a43f-1fee68f7b1ca\",\"type\":\"BasicTickFormatter\"},{\"attributes\":{},\"id\":\"ae7caf62-24b0-431d-b16b-a03dde4ebb86\",\"type\":\"BasicTicker\"},{\"attributes\":{\"callback\":null},\"id\":\"8ca0867e-9702-4169-ac92-60f859731068\",\"type\":\"DataRange1d\"},{\"attributes\":{\"fill_alpha\":{\"value\":0.1},\"fill_color\":{\"value\":\"#1f77b4\"},\"line_alpha\":{\"value\":0.1},\"line_color\":{\"value\":\"#1f77b4\"},\"size\":{\"units\":\"screen\",\"value\":8},\"x\":{\"field\":\"x\"},\"y\":{\"field\":\"y\"}},\"id\":\"a8fc5e72-78c2-45e2-895a-6ed3173e4c2b\",\"type\":\"Circle\"},{\"attributes\":{\"bottom_units\":\"screen\",\"fill_alpha\":{\"value\":0.5},\"fill_color\":{\"value\":\"lightgrey\"},\"left_units\":\"screen\",\"level\":\"overlay\",\"line_alpha\":{\"value\":1.0},\"line_color\":{\"value\":\"black\"},\"line_dash\":[4,4],\"line_width\":{\"value\":2},\"plot\":null,\"render_mode\":\"css\",\"right_units\":\"screen\",\"top_units\":\"screen\"},\"id\":\"1df047d9-f371-48db-8c37-d7abce1cdb4e\",\"type\":\"BoxAnnotation\"},{\"attributes\":{\"plot\":{\"id\":\"5376a8cb-fb82-48fb-8f56-73fd4b115db5\",\"subtype\":\"Figure\",\"type\":\"Plot\"},\"ticker\":{\"id\":\"ae7caf62-24b0-431d-b16b-a03dde4ebb86\",\"type\":\"BasicTicker\"}},\"id\":\"c0c6da41-78fd-45f1-a73e-2db854570f36\",\"type\":\"Grid\"},{\"attributes\":{\"below\":[{\"id\":\"0d1e7173-04ef-433f-9b4e-a992ae6385c1\",\"type\":\"LinearAxis\"}],\"left\":[{\"id\":\"1efccb08-22f7-44a4-81f7-a99b92153315\",\"type\":\"LinearAxis\"}],\"plot_height\":400,\"renderers\":[{\"id\":\"0d1e7173-04ef-433f-9b4e-a992ae6385c1\",\"type\":\"LinearAxis\"},{\"id\":\"c0c6da41-78fd-45f1-a73e-2db854570f36\",\"type\":\"Grid\"},{\"id\":\"1efccb08-22f7-44a4-81f7-a99b92153315\",\"type\":\"LinearAxis\"},{\"id\":\"ed554d01-73c2-4283-89c4-261cf9cf17bb\",\"type\":\"Grid\"},{\"id\":\"1df047d9-f371-48db-8c37-d7abce1cdb4e\",\"type\":\"BoxAnnotation\"},{\"id\":\"0e179692-d0c0-4973-a81c-10bab0a4053c\",\"type\":\"GlyphRenderer\"}],\"title\":{\"id\":\"2e8eaeb4-7f13-4dfd-a231-8bcf7641e29a\",\"type\":\"Title\"},\"tool_events\":{\"id\":\"3c93a5c1-35e7-45e0-bc32-5630f749d5ed\",\"type\":\"ToolEvents\"},\"toolbar\":{\"id\":\"d7ad6b34-8897-494e-9ce2-1f0f68753275\",\"type\":\"Toolbar\"},\"x_range\":{\"id\":\"e819fe0e-99b2-48c0-aef5-0e4c73afd9ea\",\"type\":\"DataRange1d\"},\"y_range\":{\"id\":\"8ca0867e-9702-4169-ac92-60f859731068\",\"type\":\"DataRange1d\"}},\"id\":\"5376a8cb-fb82-48fb-8f56-73fd4b115db5\",\"subtype\":\"Figure\",\"type\":\"Plot\"},{\"attributes\":{\"plot\":null,\"text\":\"Measured Values VS Predicted Values\"},\"id\":\"2e8eaeb4-7f13-4dfd-a231-8bcf7641e29a\",\"type\":\"Title\"},{\"attributes\":{},\"id\":\"e7f4380c-b341-436f-b689-bd60b1876d45\",\"type\":\"BasicTickFormatter\"},{\"attributes\":{\"axis_label\":\"y pred\",\"formatter\":{\"id\":\"e7f4380c-b341-436f-b689-bd60b1876d45\",\"type\":\"BasicTickFormatter\"},\"plot\":{\"id\":\"5376a8cb-fb82-48fb-8f56-73fd4b115db5\",\"subtype\":\"Figure\",\"type\":\"Plot\"},\"ticker\":{\"id\":\"99cc5255-845f-4ffd-9cf4-257071dd0881\",\"type\":\"BasicTicker\"}},\"id\":\"1efccb08-22f7-44a4-81f7-a99b92153315\",\"type\":\"LinearAxis\"},{\"attributes\":{\"callback\":null},\"id\":\"e819fe0e-99b2-48c0-aef5-0e4c73afd9ea\",\"type\":\"DataRange1d\"},{\"attributes\":{\"plot\":{\"id\":\"5376a8cb-fb82-48fb-8f56-73fd4b115db5\",\"subtype\":\"Figure\",\"type\":\"Plot\"}},\"id\":\"b283f3be-f327-4975-83a9-56a650556932\",\"type\":\"HelpTool\"},{\"attributes\":{\"overlay\":{\"id\":\"1df047d9-f371-48db-8c37-d7abce1cdb4e\",\"type\":\"BoxAnnotation\"},\"plot\":{\"id\":\"5376a8cb-fb82-48fb-8f56-73fd4b115db5\",\"subtype\":\"Figure\",\"type\":\"Plot\"}},\"id\":\"2c5b4834-265b-4270-bf04-33007475ccd4\",\"type\":\"BoxZoomTool\"},{\"attributes\":{\"callback\":null,\"column_names\":[\"y\",\"x\"],\"data\":{\"x\":{\"__ndarray__\":\"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\",\"dtype\":\"float64\",\"shape\":[300]},\"y\":{\"__ndarray__\":\"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\",\"dtype\":\"float64\",\"shape\":[300]}}},\"id\":\"6e3a75c6-45d7-4708-b60c-7de585b413ed\",\"type\":\"ColumnDataSource\"},{\"attributes\":{\"axis_label\":\"y val\",\"formatter\":{\"id\":\"99b93499-a245-49d4-a43f-1fee68f7b1ca\",\"type\":\"BasicTickFormatter\"},\"plot\":{\"id\":\"5376a8cb-fb82-48fb-8f56-73fd4b115db5\",\"subtype\":\"Figure\",\"type\":\"Plot\"},\"ticker\":{\"id\":\"ae7caf62-24b0-431d-b16b-a03dde4ebb86\",\"type\":\"BasicTicker\"}},\"id\":\"0d1e7173-04ef-433f-9b4e-a992ae6385c1\",\"type\":\"LinearAxis\"},{\"attributes\":{},\"id\":\"3c93a5c1-35e7-45e0-bc32-5630f749d5ed\",\"type\":\"ToolEvents\"}],\"root_ids\":[\"5376a8cb-fb82-48fb-8f56-73fd4b115db5\"]},\"title\":\"Bokeh Application\",\"version\":\"0.12.4\"}};\n",
       "            var render_items = [{\"docid\":\"959c6e8d-daf3-459f-b77c-4c4df90ea5bd\",\"elementid\":\"7454cf58-0752-4ad0-a193-13aad73cacce\",\"modelid\":\"5376a8cb-fb82-48fb-8f56-73fd4b115db5\"}];\n",
       "            \n",
       "            Bokeh.embed.embed_items(docs_json, render_items);\n",
       "          };\n",
       "          if (document.readyState != \"loading\") fn();\n",
       "          else document.addEventListener(\"DOMContentLoaded\", fn);\n",
       "        })();\n",
       "      },\n",
       "      function(Bokeh) {\n",
       "      }\n",
       "    ];\n",
       "  \n",
       "    function run_inline_js() {\n",
       "      \n",
       "      if ((window.Bokeh !== undefined) || (force === true)) {\n",
       "        for (var i = 0; i < inline_js.length; i++) {\n",
       "          inline_js[i](window.Bokeh);\n",
       "        }if (force === true) {\n",
       "          display_loaded();\n",
       "        }} else if (Date.now() < window._bokeh_timeout) {\n",
       "        setTimeout(run_inline_js, 100);\n",
       "      } else if (!window._bokeh_failed_load) {\n",
       "        console.log(\"Bokeh: BokehJS failed to load within specified timeout.\");\n",
       "        window._bokeh_failed_load = true;\n",
       "      } else if (force !== true) {\n",
       "        var cell = $(document.getElementById(\"7454cf58-0752-4ad0-a193-13aad73cacce\")).parents('.cell').data().cell;\n",
       "        cell.output_area.append_execute_result(NB_LOAD_WARNING)\n",
       "      }\n",
       "  \n",
       "    }\n",
       "  \n",
       "    if (window._bokeh_is_loading === 0) {\n",
       "      console.log(\"Bokeh: BokehJS loaded, going straight to plotting\");\n",
       "      run_inline_js();\n",
       "    } else {\n",
       "      load_libs(js_urls, function() {\n",
       "        console.log(\"Bokeh: BokehJS plotting callback run at\", now());\n",
       "        run_inline_js();\n",
       "      });\n",
       "    }\n",
       "  }(this));\n",
       "</script>"
      ]
     },
     "metadata": {},
     "output_type": "display_data"
    }
   ],
   "source": [
    "# Plot the data and the model prediction\n",
    "yp = model.predict(Xvs)\n",
    "fig = bk.figure(title='Measured Values VS Predicted Values',\n",
    "                x_axis_label='y val', y_axis_label='y pred',\n",
    "                plot_width=600, plot_height=400)\n",
    "fig.circle(yv['measured'], yp[:,0], size=8,\n",
    "           fill_color='blue', fill_alpha=0.5, line_color='black', alpha=0.2)\n",
    "bk.show(fig)"
   ]
  },
  {
   "cell_type": "markdown",
   "metadata": {},
   "source": [
    "### 3.2 Example: Training and a Validation Sets on a Classification Problem"
   ]
  },
  {
   "cell_type": "markdown",
   "metadata": {},
   "source": [
    "The K-neighbors is an instance-based classifier that predicts the label of an unknown point based on the labels of the *K* nearest points in the parameter space:"
   ]
  },
  {
   "cell_type": "code",
   "execution_count": 24,
   "metadata": {
    "collapsed": false
   },
   "outputs": [
    {
     "name": "stdout",
     "output_type": "stream",
     "text": [
      "[[178   0   0   0   0   0   0   0   0   0]\n",
      " [  0 182   0   0   0   0   0   0   0   0]\n",
      " [  0   0 177   0   0   0   0   0   0   0]\n",
      " [  0   0   0 183   0   0   0   0   0   0]\n",
      " [  0   0   0   0 181   0   0   0   0   0]\n",
      " [  0   0   0   0   0 182   0   0   0   0]\n",
      " [  0   0   0   0   0   0 181   0   0   0]\n",
      " [  0   0   0   0   0   0   0 179   0   0]\n",
      " [  0   0   0   0   0   0   0   0 174   0]\n",
      " [  0   0   0   0   0   0   0   0   0 180]]\n",
      "\n",
      "F1 Score:   1.0\n"
     ]
    }
   ],
   "source": [
    "from sklearn import neighbors\n",
    "digits = datasets.load_digits()\n",
    "X, y = digits.data, digits.target\n",
    "\n",
    "clf = neighbors.KNeighborsClassifier(n_neighbors=1)\n",
    "clf.fit(X, y)\n",
    "y_pred = clf.predict(X)\n",
    "print(metrics.confusion_matrix(y_pred, y))\n",
    "print('\\nF1 Score:  ', metrics.f1_score(y_pred, y, average='weighted'))"
   ]
  },
  {
   "cell_type": "markdown",
   "metadata": {},
   "source": [
    "Apparently, we've found a perfect classifier!  But this is misleading for the reasons we saw before: the classifier essentially \"memorizes\" all the samples it has already seen.  To really test how well this algorithm does, we need to try some samples it *hasn't* yet seen.\n",
    "\n",
    "Here we split the original data in **Training** and **Validation** sets and run again the previous algorithm. In this case we see that we still have a good classifier but the precision is reduced:"
   ]
  },
  {
   "cell_type": "code",
   "execution_count": 25,
   "metadata": {
    "collapsed": false
   },
   "outputs": [
    {
     "name": "stdout",
     "output_type": "stream",
     "text": [
      "[[60  0  0  0  0  0  0  0  0  0]\n",
      " [ 0 73  0  0  0  0  0  0  0  0]\n",
      " [ 0  0 71  0  0  0  0  0  0  0]\n",
      " [ 0  0  0 70  0  0  0  0  0  0]\n",
      " [ 0  0  0  0 63  0  0  0  0  0]\n",
      " [ 0  0  0  0  0 87  1  0  0  1]\n",
      " [ 0  0  0  0  0  0 76  0  0  0]\n",
      " [ 0  0  0  0  0  0  0 65  0  0]\n",
      " [ 0  2  0  1  0  0  0  0 74  1]\n",
      " [ 0  0  0  2  0  1  0  0  0 71]]\n",
      "\n",
      "F1 Score:   0.987441080752\n"
     ]
    }
   ],
   "source": [
    "X_tr, X_valid, y_tr, y_valid = model_selection.train_test_split(X, \n",
    "                                                                 y,\n",
    "                                                                 test_size=0.40, \n",
    "                                                                 random_state=0)\n",
    "clf = neighbors.KNeighborsClassifier(n_neighbors=1).fit(X_tr, y_tr)\n",
    "y_pred = clf.predict(X_valid)\n",
    "print(metrics.confusion_matrix(y_valid, y_pred))\n",
    "print('\\nF1 Score:  ', metrics.f1_score(y_valid, y_pred, average='weighted'))"
   ]
  },
  {
   "cell_type": "markdown",
   "metadata": {},
   "source": [
    "## 4 Do I need a Simple or a Complex Model?"
   ]
  },
  {
   "cell_type": "markdown",
   "metadata": {},
   "source": [
    "In order to show the relation between the size of the training dataset and the complexity of the model we generate some example data in the same way we did in the very first example but with more than ten times the number of samples. The we fit a polynomial model and we plot the error w.r.t. the degree of polynomial.\n",
    "\n",
    "Here **Training Data** are plotted in **Blue** while **Validation Data** are **Red**:"
   ]
  },
  {
   "cell_type": "code",
   "execution_count": 26,
   "metadata": {
    "collapsed": false
   },
   "outputs": [
    {
     "data": {
      "text/html": [
       "\n",
       "\n",
       "    <div class=\"bk-root\">\n",
       "        <div class=\"bk-plotdiv\" id=\"1fd9fff8-3987-4e89-b44e-d765d644ff5d\"></div>\n",
       "    </div>\n",
       "<script type=\"text/javascript\">\n",
       "  \n",
       "  (function(global) {\n",
       "    function now() {\n",
       "      return new Date();\n",
       "    }\n",
       "  \n",
       "    var force = false;\n",
       "  \n",
       "    if (typeof (window._bokeh_onload_callbacks) === \"undefined\" || force === true) {\n",
       "      window._bokeh_onload_callbacks = [];\n",
       "      window._bokeh_is_loading = undefined;\n",
       "    }\n",
       "  \n",
       "  \n",
       "    \n",
       "    if (typeof (window._bokeh_timeout) === \"undefined\" || force === true) {\n",
       "      window._bokeh_timeout = Date.now() + 0;\n",
       "      window._bokeh_failed_load = false;\n",
       "    }\n",
       "  \n",
       "    var NB_LOAD_WARNING = {'data': {'text/html':\n",
       "       \"<div style='background-color: #fdd'>\\n\"+\n",
       "       \"<p>\\n\"+\n",
       "       \"BokehJS does not appear to have successfully loaded. If loading BokehJS from CDN, this \\n\"+\n",
       "       \"may be due to a slow or bad network connection. Possible fixes:\\n\"+\n",
       "       \"</p>\\n\"+\n",
       "       \"<ul>\\n\"+\n",
       "       \"<li>re-rerun `output_notebook()` to attempt to load from CDN again, or</li>\\n\"+\n",
       "       \"<li>use INLINE resources instead, as so:</li>\\n\"+\n",
       "       \"</ul>\\n\"+\n",
       "       \"<code>\\n\"+\n",
       "       \"from bokeh.resources import INLINE\\n\"+\n",
       "       \"output_notebook(resources=INLINE)\\n\"+\n",
       "       \"</code>\\n\"+\n",
       "       \"</div>\"}};\n",
       "  \n",
       "    function display_loaded() {\n",
       "      if (window.Bokeh !== undefined) {\n",
       "        document.getElementById(\"1fd9fff8-3987-4e89-b44e-d765d644ff5d\").textContent = \"BokehJS successfully loaded.\";\n",
       "      } else if (Date.now() < window._bokeh_timeout) {\n",
       "        setTimeout(display_loaded, 100)\n",
       "      }\n",
       "    }\n",
       "  \n",
       "    function run_callbacks() {\n",
       "      window._bokeh_onload_callbacks.forEach(function(callback) { callback() });\n",
       "      delete window._bokeh_onload_callbacks\n",
       "      console.info(\"Bokeh: all callbacks have finished\");\n",
       "    }\n",
       "  \n",
       "    function load_libs(js_urls, callback) {\n",
       "      window._bokeh_onload_callbacks.push(callback);\n",
       "      if (window._bokeh_is_loading > 0) {\n",
       "        console.log(\"Bokeh: BokehJS is being loaded, scheduling callback at\", now());\n",
       "        return null;\n",
       "      }\n",
       "      if (js_urls == null || js_urls.length === 0) {\n",
       "        run_callbacks();\n",
       "        return null;\n",
       "      }\n",
       "      console.log(\"Bokeh: BokehJS not loaded, scheduling load and callback at\", now());\n",
       "      window._bokeh_is_loading = js_urls.length;\n",
       "      for (var i = 0; i < js_urls.length; i++) {\n",
       "        var url = js_urls[i];\n",
       "        var s = document.createElement('script');\n",
       "        s.src = url;\n",
       "        s.async = false;\n",
       "        s.onreadystatechange = s.onload = function() {\n",
       "          window._bokeh_is_loading--;\n",
       "          if (window._bokeh_is_loading === 0) {\n",
       "            console.log(\"Bokeh: all BokehJS libraries loaded\");\n",
       "            run_callbacks()\n",
       "          }\n",
       "        };\n",
       "        s.onerror = function() {\n",
       "          console.warn(\"failed to load library \" + url);\n",
       "        };\n",
       "        console.log(\"Bokeh: injecting script tag for BokehJS library: \", url);\n",
       "        document.getElementsByTagName(\"head\")[0].appendChild(s);\n",
       "      }\n",
       "    };var element = document.getElementById(\"1fd9fff8-3987-4e89-b44e-d765d644ff5d\");\n",
       "    if (element == null) {\n",
       "      console.log(\"Bokeh: ERROR: autoload.js configured with elementid '1fd9fff8-3987-4e89-b44e-d765d644ff5d' but no matching script tag was found. \")\n",
       "      return false;\n",
       "    }\n",
       "  \n",
       "    var js_urls = [];\n",
       "  \n",
       "    var inline_js = [\n",
       "      function(Bokeh) {\n",
       "        (function() {\n",
       "          var fn = function() {\n",
       "            var docs_json = {\"3b42bacd-0b95-42e1-b387-5bc316b935b6\":{\"roots\":{\"references\":[{\"attributes\":{},\"id\":\"6ac8c6cb-7bdb-4478-b9e5-698e12dc0500\",\"type\":\"BasicTicker\"},{\"attributes\":{\"formatter\":{\"id\":\"6acfca9b-0be7-4419-9a67-fe870facde9f\",\"type\":\"BasicTickFormatter\"},\"plot\":{\"id\":\"28c1995e-39dd-4ca8-b4a8-e8bf6380646e\",\"subtype\":\"Figure\",\"type\":\"Plot\"},\"ticker\":{\"id\":\"6ac8c6cb-7bdb-4478-b9e5-698e12dc0500\",\"type\":\"BasicTicker\"}},\"id\":\"eed76b2b-5949-4895-8590-ad3df98e2263\",\"type\":\"LinearAxis\"},{\"attributes\":{\"callback\":null},\"id\":\"12b0cca0-d3d5-485b-b09e-4584847f7f48\",\"type\":\"DataRange1d\"},{\"attributes\":{\"plot\":{\"id\":\"28c1995e-39dd-4ca8-b4a8-e8bf6380646e\",\"subtype\":\"Figure\",\"type\":\"Plot\"}},\"id\":\"26822dda-a612-46f1-bed7-5cc8fec934a5\",\"type\":\"HelpTool\"},{\"attributes\":{\"fill_alpha\":{\"value\":0.5},\"fill_color\":{\"value\":\"red\"},\"line_alpha\":{\"value\":0.5},\"line_color\":{\"value\":\"red\"},\"size\":{\"units\":\"screen\",\"value\":6},\"x\":{\"field\":\"x\"},\"y\":{\"field\":\"y\"}},\"id\":\"5bf934a9-1752-489b-bf09-8f1ffad45fba\",\"type\":\"Circle\"},{\"attributes\":{\"dimension\":1,\"plot\":{\"id\":\"28c1995e-39dd-4ca8-b4a8-e8bf6380646e\",\"subtype\":\"Figure\",\"type\":\"Plot\"},\"ticker\":{\"id\":\"49521256-fbe4-4777-8466-fd19297762ab\",\"type\":\"BasicTicker\"}},\"id\":\"f4986b51-0966-4ffe-a615-fe87b5e233cb\",\"type\":\"Grid\"},{\"attributes\":{\"data_source\":{\"id\":\"9886f759-0e68-49dc-baa6-d362a30ba4e2\",\"type\":\"ColumnDataSource\"},\"glyph\":{\"id\":\"e88c384b-1f6c-4799-9dba-38aeec124d2d\",\"type\":\"Circle\"},\"hover_glyph\":null,\"nonselection_glyph\":{\"id\":\"a7c188e9-2f2d-412e-84fa-cba0b9bb7808\",\"type\":\"Circle\"},\"selection_glyph\":null},\"id\":\"c5f41b51-2e84-46db-a607-ad736709f98b\",\"type\":\"GlyphRenderer\"},{\"attributes\":{},\"id\":\"6acfca9b-0be7-4419-9a67-fe870facde9f\",\"type\":\"BasicTickFormatter\"},{\"attributes\":{\"formatter\":{\"id\":\"341b1f02-52cd-48a8-a9fb-64c2376314b0\",\"type\":\"BasicTickFormatter\"},\"plot\":{\"id\":\"28c1995e-39dd-4ca8-b4a8-e8bf6380646e\",\"subtype\":\"Figure\",\"type\":\"Plot\"},\"ticker\":{\"id\":\"49521256-fbe4-4777-8466-fd19297762ab\",\"type\":\"BasicTicker\"}},\"id\":\"3736a053-c684-4280-b647-480f81e0594c\",\"type\":\"LinearAxis\"},{\"attributes\":{},\"id\":\"341b1f02-52cd-48a8-a9fb-64c2376314b0\",\"type\":\"BasicTickFormatter\"},{\"attributes\":{\"plot\":{\"id\":\"28c1995e-39dd-4ca8-b4a8-e8bf6380646e\",\"subtype\":\"Figure\",\"type\":\"Plot\"},\"ticker\":{\"id\":\"6ac8c6cb-7bdb-4478-b9e5-698e12dc0500\",\"type\":\"BasicTicker\"}},\"id\":\"331668fc-7856-4558-8178-cb20420bbc3b\",\"type\":\"Grid\"},{\"attributes\":{\"fill_alpha\":{\"value\":0.5},\"fill_color\":{\"value\":\"blue\"},\"line_alpha\":{\"value\":0.5},\"line_color\":{\"value\":\"blue\"},\"size\":{\"units\":\"screen\",\"value\":6},\"x\":{\"field\":\"x\"},\"y\":{\"field\":\"y\"}},\"id\":\"e88c384b-1f6c-4799-9dba-38aeec124d2d\",\"type\":\"Circle\"},{\"attributes\":{},\"id\":\"738b4784-3d47-4581-9b73-d9b1967005cf\",\"type\":\"ToolEvents\"},{\"attributes\":{\"callback\":null},\"id\":\"8e90bdf9-6990-4e01-a2ed-63307bdec71b\",\"type\":\"DataRange1d\"},{\"attributes\":{\"callback\":null,\"column_names\":[\"x\",\"y\"],\"data\":{\"x\":{\"__ndarray__\":\"2Jc0FZVb4j/YtC75/V+9PwiUZbjGpMA/opmcsKa/4z9E7SpnxZjBP9hrK7v4eeA/uKul8Qen7j/k4TTmX9fHPwDuSBeDg2c/neT4rYY45j+QAhLRljK6Pyp5ma/kf9o/IADBm0mq3D8ikEts7uTjP5VwpuVAteo/MLX98H+TqT/z2gKTGavsPxAGNrP/++4/YcQpIqvo7D9YHIwadcW1P/aukVvL8tE/Ej4LSZfb4j8C8ws8+N/uP8CsZ0R+C5w/8NBvilMqxT+asU6MiXPZPwEljRqnBug/XCZTxOmB2j+guV+EKbqSP9yqBv8y+ME/sX2kAsCk7z+wWIEgYDvnP55Ll2of9eM/ShbrvIkZ7D/9xMIiC0TsP/yo8tAAvcU/QDBGrs7TwT+QpnkR/f6jP/t6YuA2E+0/8PwMl9hl2z8AwGFmkPsdP/8cFit86Ow/4A8jeWgx1D/dmkFMN2LuP4hk+hJCLbk//lqoMx+12j8wHSLL0PflPycjGXJR7eU/Am9qbbgH6D9o7nF5Jq7tP00Q/qnpOuU/VPhNfwDIwj/AqDEZ+fDnP1SfYpf8PeE/eDVkarf+0D+s6zRs5lbOP/Ss10Jcy9w/R1OPRM495T9YDr5IJA/UP5SWEsKBJ+Y/\",\"dtype\":\"float64\",\"shape\":[60]},\"y\":{\"__ndarray__\":\"bMFaU47VIkBYJsL0q1oXQBrjPviweh5AYBbTvsG2IEDmuSTD97QXQADov1M8iyBAFowrsy6XI0AbyorHKyMZQH7zfalzdQZAXXi2DAaGIkDvUgj352YXQKup2uyAuR1AGnvQct4qIUA4c7DxraIgQAwVKHiMfSJAooIV+1GIEECziR2q0n4fQD84n5NQSCJAnDmMdtIQI0AuSU7jU5gQQML49qfIVB1AYEW7Cd5GHUBLQ4DpsiAgQOBbmzOSLAJA4qKeifCnG0CHuq7VQXIgQF/g5qYZuiNAGwnFzaukG0DXDtBwTSMDQNiVI83o2xVAwdTBcUPdIkA3wLyZ4PMlQIBVv8Y3CSFAKm6Drtu1IkBkQqdESdkiQF22ZQYzyhpAjypkSh6YF0C0825J5CEQQKvRSW/C9yFAPJWQrG9bHkBYub8+q93SvyVt7c2AtiBA26OdSf2AHkBtwuUUsr4hQDFf8OBF6A5A/v8WxBmIIkAmkaRp9WsdQD539KzisCFATSDtV3RgIUCkYwFz7W4hQDJKTuO84CFAXLeci0ZfFUDHAggU6QgeQCRJavF2sCFAQKc2CtdoHkCqL1lDy4sUQABAxB7yVSJAGDdvlyMCIUCq7jzUBPMcQLDgc8MekCFA\",\"dtype\":\"float64\",\"shape\":[60]}}},\"id\":\"9886f759-0e68-49dc-baa6-d362a30ba4e2\",\"type\":\"ColumnDataSource\"},{\"attributes\":{\"plot\":{\"id\":\"28c1995e-39dd-4ca8-b4a8-e8bf6380646e\",\"subtype\":\"Figure\",\"type\":\"Plot\"}},\"id\":\"b0021889-853d-4bf9-ae26-f5097332247b\",\"type\":\"WheelZoomTool\"},{\"attributes\":{\"data_source\":{\"id\":\"2d750864-a96f-45ba-9d63-14579b3c7eab\",\"type\":\"ColumnDataSource\"},\"glyph\":{\"id\":\"5bf934a9-1752-489b-bf09-8f1ffad45fba\",\"type\":\"Circle\"},\"hover_glyph\":null,\"nonselection_glyph\":{\"id\":\"29aab9c7-14cb-4e03-a17c-49cdf75c867c\",\"type\":\"Circle\"},\"selection_glyph\":null},\"id\":\"1c243929-f139-4c34-af9f-02394b1bd651\",\"type\":\"GlyphRenderer\"},{\"attributes\":{},\"id\":\"49521256-fbe4-4777-8466-fd19297762ab\",\"type\":\"BasicTicker\"},{\"attributes\":{\"plot\":{\"id\":\"28c1995e-39dd-4ca8-b4a8-e8bf6380646e\",\"subtype\":\"Figure\",\"type\":\"Plot\"}},\"id\":\"5e5c0ac5-ed0c-407e-9945-a528e46a5f12\",\"type\":\"ResetTool\"},{\"attributes\":{\"callback\":null,\"column_names\":[\"x\",\"y\"],\"data\":{\"x\":{\"__ndarray__\":\"REh0vGNbyT+KlYE6FdTaPy6MX2Vt89o/TC3aon9G0T/0CP63alnTP6nlp0d4dOU/PAXHo+XIwj8MYhjHfSvKP+dwxO8qguI/UfC68+UM5z94pYJBJtbpP06P7KRrZOY/HG8uOBAm4T/nnq5OvhnsPzTUrETvdd8/0P9YAgVtuj8LCbl9yeDhP+j7e2ejZNk/3sd1Q2EL7D+AKLSK7tSTP55047jGQek/P6x04itf4j/uGRu2WVTWP86jW72qHdY/UDKRTqEWyz+y3apLBbnlP+MLUSeeoOw/TtYJ0+ke2j+slCh52yPmP18n3RKzn+k/EMqwjICjtz8Q5zfkVVKrP7cBf6YuAeg/C1KIEw/F4j8iGjr/ksrSP8hKyqSwD+E/arf0QOlq0j8GPPoPfbDaPz+EHsgeOu4/7myRvMtB1j8=\",\"dtype\":\"float64\",\"shape\":[40]},\"y\":{\"__ndarray__\":\"tA6USt4GGEBweF/zYosgQIDAjoQzgCBA0GjnXrhBHUBmq7gOWK8gQCJUqqDDqSNAlvoKScS1GED6Od4L0y0YQFZGfM+ZeiFAQojTvPoIG0DvhPETWwgjQKoQQIyumSJAEhN1C67yIECCMXWZeCQjQGtVQsT4cBxARL/3RZvNGECKbi/ef1UhQP6dDCzbWCBAzsZCsS22IEAgmySyLSXOv6lbFXT0CR1ADJyHf9urIEAPwmHM8pweQCVrOzAyOB5A7Ezjil/WIEDKnLY4hucjQF52wLSdYiNAUvhmHAlyJECT55GTIfEgQNtVthRpoCJAwLYx31pAFkAUstSnE18RQDo/ObNa2x9A2OSoXXWWIkDwa0+2s7waQBJRm6wj3h1Ai/6Uls9jIUANRRaEUcMgQHyyezy60iNA0IJnDtFTFUA=\",\"dtype\":\"float64\",\"shape\":[40]}}},\"id\":\"2d750864-a96f-45ba-9d63-14579b3c7eab\",\"type\":\"ColumnDataSource\"},{\"attributes\":{\"active_drag\":\"auto\",\"active_scroll\":\"auto\",\"active_tap\":\"auto\",\"tools\":[{\"id\":\"bdf0f045-2280-4446-a3ad-ac1ebc0d8eb2\",\"type\":\"PanTool\"},{\"id\":\"b0021889-853d-4bf9-ae26-f5097332247b\",\"type\":\"WheelZoomTool\"},{\"id\":\"fc5675d2-99c3-4d47-8b7f-dfeccf0f2414\",\"type\":\"BoxZoomTool\"},{\"id\":\"f653f8b8-b16e-4b67-ad04-1304bdbf065b\",\"type\":\"SaveTool\"},{\"id\":\"5e5c0ac5-ed0c-407e-9945-a528e46a5f12\",\"type\":\"ResetTool\"},{\"id\":\"26822dda-a612-46f1-bed7-5cc8fec934a5\",\"type\":\"HelpTool\"}]},\"id\":\"d7abf9eb-f5ef-4c25-b6a2-3af4b3f14a6e\",\"type\":\"Toolbar\"},{\"attributes\":{\"fill_alpha\":{\"value\":0.1},\"fill_color\":{\"value\":\"#1f77b4\"},\"line_alpha\":{\"value\":0.1},\"line_color\":{\"value\":\"#1f77b4\"},\"size\":{\"units\":\"screen\",\"value\":6},\"x\":{\"field\":\"x\"},\"y\":{\"field\":\"y\"}},\"id\":\"29aab9c7-14cb-4e03-a17c-49cdf75c867c\",\"type\":\"Circle\"},{\"attributes\":{\"plot\":{\"id\":\"28c1995e-39dd-4ca8-b4a8-e8bf6380646e\",\"subtype\":\"Figure\",\"type\":\"Plot\"}},\"id\":\"f653f8b8-b16e-4b67-ad04-1304bdbf065b\",\"type\":\"SaveTool\"},{\"attributes\":{\"bottom_units\":\"screen\",\"fill_alpha\":{\"value\":0.5},\"fill_color\":{\"value\":\"lightgrey\"},\"left_units\":\"screen\",\"level\":\"overlay\",\"line_alpha\":{\"value\":1.0},\"line_color\":{\"value\":\"black\"},\"line_dash\":[4,4],\"line_width\":{\"value\":2},\"plot\":null,\"render_mode\":\"css\",\"right_units\":\"screen\",\"top_units\":\"screen\"},\"id\":\"6c11abd3-b9f4-4faa-ae4b-e3a37ef9dd9d\",\"type\":\"BoxAnnotation\"},{\"attributes\":{\"below\":[{\"id\":\"eed76b2b-5949-4895-8590-ad3df98e2263\",\"type\":\"LinearAxis\"}],\"left\":[{\"id\":\"3736a053-c684-4280-b647-480f81e0594c\",\"type\":\"LinearAxis\"}],\"plot_height\":400,\"plot_width\":700,\"renderers\":[{\"id\":\"eed76b2b-5949-4895-8590-ad3df98e2263\",\"type\":\"LinearAxis\"},{\"id\":\"331668fc-7856-4558-8178-cb20420bbc3b\",\"type\":\"Grid\"},{\"id\":\"3736a053-c684-4280-b647-480f81e0594c\",\"type\":\"LinearAxis\"},{\"id\":\"f4986b51-0966-4ffe-a615-fe87b5e233cb\",\"type\":\"Grid\"},{\"id\":\"6c11abd3-b9f4-4faa-ae4b-e3a37ef9dd9d\",\"type\":\"BoxAnnotation\"},{\"id\":\"c5f41b51-2e84-46db-a607-ad736709f98b\",\"type\":\"GlyphRenderer\"},{\"id\":\"1c243929-f139-4c34-af9f-02394b1bd651\",\"type\":\"GlyphRenderer\"}],\"title\":null,\"tool_events\":{\"id\":\"738b4784-3d47-4581-9b73-d9b1967005cf\",\"type\":\"ToolEvents\"},\"toolbar\":{\"id\":\"d7abf9eb-f5ef-4c25-b6a2-3af4b3f14a6e\",\"type\":\"Toolbar\"},\"x_range\":{\"id\":\"12b0cca0-d3d5-485b-b09e-4584847f7f48\",\"type\":\"DataRange1d\"},\"y_range\":{\"id\":\"8e90bdf9-6990-4e01-a2ed-63307bdec71b\",\"type\":\"DataRange1d\"}},\"id\":\"28c1995e-39dd-4ca8-b4a8-e8bf6380646e\",\"subtype\":\"Figure\",\"type\":\"Plot\"},{\"attributes\":{\"plot\":{\"id\":\"28c1995e-39dd-4ca8-b4a8-e8bf6380646e\",\"subtype\":\"Figure\",\"type\":\"Plot\"}},\"id\":\"bdf0f045-2280-4446-a3ad-ac1ebc0d8eb2\",\"type\":\"PanTool\"},{\"attributes\":{\"fill_alpha\":{\"value\":0.1},\"fill_color\":{\"value\":\"#1f77b4\"},\"line_alpha\":{\"value\":0.1},\"line_color\":{\"value\":\"#1f77b4\"},\"size\":{\"units\":\"screen\",\"value\":6},\"x\":{\"field\":\"x\"},\"y\":{\"field\":\"y\"}},\"id\":\"a7c188e9-2f2d-412e-84fa-cba0b9bb7808\",\"type\":\"Circle\"},{\"attributes\":{\"overlay\":{\"id\":\"6c11abd3-b9f4-4faa-ae4b-e3a37ef9dd9d\",\"type\":\"BoxAnnotation\"},\"plot\":{\"id\":\"28c1995e-39dd-4ca8-b4a8-e8bf6380646e\",\"subtype\":\"Figure\",\"type\":\"Plot\"}},\"id\":\"fc5675d2-99c3-4d47-8b7f-dfeccf0f2414\",\"type\":\"BoxZoomTool\"}],\"root_ids\":[\"28c1995e-39dd-4ca8-b4a8-e8bf6380646e\"]},\"title\":\"Bokeh Application\",\"version\":\"0.12.4\"}};\n",
       "            var render_items = [{\"docid\":\"3b42bacd-0b95-42e1-b387-5bc316b935b6\",\"elementid\":\"1fd9fff8-3987-4e89-b44e-d765d644ff5d\",\"modelid\":\"28c1995e-39dd-4ca8-b4a8-e8bf6380646e\"}];\n",
       "            \n",
       "            Bokeh.embed.embed_items(docs_json, render_items);\n",
       "          };\n",
       "          if (document.readyState != \"loading\") fn();\n",
       "          else document.addEventListener(\"DOMContentLoaded\", fn);\n",
       "        })();\n",
       "      },\n",
       "      function(Bokeh) {\n",
       "      }\n",
       "    ];\n",
       "  \n",
       "    function run_inline_js() {\n",
       "      \n",
       "      if ((window.Bokeh !== undefined) || (force === true)) {\n",
       "        for (var i = 0; i < inline_js.length; i++) {\n",
       "          inline_js[i](window.Bokeh);\n",
       "        }if (force === true) {\n",
       "          display_loaded();\n",
       "        }} else if (Date.now() < window._bokeh_timeout) {\n",
       "        setTimeout(run_inline_js, 100);\n",
       "      } else if (!window._bokeh_failed_load) {\n",
       "        console.log(\"Bokeh: BokehJS failed to load within specified timeout.\");\n",
       "        window._bokeh_failed_load = true;\n",
       "      } else if (force !== true) {\n",
       "        var cell = $(document.getElementById(\"1fd9fff8-3987-4e89-b44e-d765d644ff5d\")).parents('.cell').data().cell;\n",
       "        cell.output_area.append_execute_result(NB_LOAD_WARNING)\n",
       "      }\n",
       "  \n",
       "    }\n",
       "  \n",
       "    if (window._bokeh_is_loading === 0) {\n",
       "      console.log(\"Bokeh: BokehJS loaded, going straight to plotting\");\n",
       "      run_inline_js();\n",
       "    } else {\n",
       "      load_libs(js_urls, function() {\n",
       "        console.log(\"Bokeh: BokehJS plotting callback run at\", now());\n",
       "        run_inline_js();\n",
       "      });\n",
       "    }\n",
       "  }(this));\n",
       "</script>"
      ]
     },
     "metadata": {},
     "output_type": "display_data"
    }
   ],
   "source": [
    "from sklearn import model_selection\n",
    "N = 100\n",
    "test_size = 0.40\n",
    "error = 1.0\n",
    "np.random.seed(1)\n",
    "x = np.random.random(N)\n",
    "y = biasvariance.test_func(x, error)\n",
    "x_tr, x_valid, y_tr, y_valid = model_selection.train_test_split(x, y, test_size=test_size)\n",
    "fig = bk.figure(plot_width=700, plot_height=400, title=None)\n",
    "fig.circle(x_tr, y_tr, color='blue', size=6, alpha=0.5)\n",
    "fig.circle(x_valid, y_valid, color='red', size=6, alpha=0.5)\n",
    "bk.show(fig)"
   ]
  },
  {
   "cell_type": "markdown",
   "metadata": {},
   "source": [
    "The **model parameters** *(in our case, the coefficients of the polynomials)* are learned using the **training set**.\n",
    "\n",
    "The **meta-parameters** *(in our case, the degree of the polynomial)* are adjusted so that this **validation error** is minimized.\n",
    "\n",
    "Finally, the labels are predicted for the **test set**.\n",
    "\n",
    "The **validation error** of our polynomial classifier can be visualized by plotting the error as a function of the polynomial degree:"
   ]
  },
  {
   "cell_type": "code",
   "execution_count": 27,
   "metadata": {
    "collapsed": false
   },
   "outputs": [
    {
     "data": {
      "text/html": [
       "\n",
       "\n",
       "    <div class=\"bk-root\">\n",
       "        <div class=\"bk-plotdiv\" id=\"c9133c95-c1a2-434d-9732-8b7707ca9087\"></div>\n",
       "    </div>\n",
       "<script type=\"text/javascript\">\n",
       "  \n",
       "  (function(global) {\n",
       "    function now() {\n",
       "      return new Date();\n",
       "    }\n",
       "  \n",
       "    var force = false;\n",
       "  \n",
       "    if (typeof (window._bokeh_onload_callbacks) === \"undefined\" || force === true) {\n",
       "      window._bokeh_onload_callbacks = [];\n",
       "      window._bokeh_is_loading = undefined;\n",
       "    }\n",
       "  \n",
       "  \n",
       "    \n",
       "    if (typeof (window._bokeh_timeout) === \"undefined\" || force === true) {\n",
       "      window._bokeh_timeout = Date.now() + 0;\n",
       "      window._bokeh_failed_load = false;\n",
       "    }\n",
       "  \n",
       "    var NB_LOAD_WARNING = {'data': {'text/html':\n",
       "       \"<div style='background-color: #fdd'>\\n\"+\n",
       "       \"<p>\\n\"+\n",
       "       \"BokehJS does not appear to have successfully loaded. If loading BokehJS from CDN, this \\n\"+\n",
       "       \"may be due to a slow or bad network connection. Possible fixes:\\n\"+\n",
       "       \"</p>\\n\"+\n",
       "       \"<ul>\\n\"+\n",
       "       \"<li>re-rerun `output_notebook()` to attempt to load from CDN again, or</li>\\n\"+\n",
       "       \"<li>use INLINE resources instead, as so:</li>\\n\"+\n",
       "       \"</ul>\\n\"+\n",
       "       \"<code>\\n\"+\n",
       "       \"from bokeh.resources import INLINE\\n\"+\n",
       "       \"output_notebook(resources=INLINE)\\n\"+\n",
       "       \"</code>\\n\"+\n",
       "       \"</div>\"}};\n",
       "  \n",
       "    function display_loaded() {\n",
       "      if (window.Bokeh !== undefined) {\n",
       "        document.getElementById(\"c9133c95-c1a2-434d-9732-8b7707ca9087\").textContent = \"BokehJS successfully loaded.\";\n",
       "      } else if (Date.now() < window._bokeh_timeout) {\n",
       "        setTimeout(display_loaded, 100)\n",
       "      }\n",
       "    }\n",
       "  \n",
       "    function run_callbacks() {\n",
       "      window._bokeh_onload_callbacks.forEach(function(callback) { callback() });\n",
       "      delete window._bokeh_onload_callbacks\n",
       "      console.info(\"Bokeh: all callbacks have finished\");\n",
       "    }\n",
       "  \n",
       "    function load_libs(js_urls, callback) {\n",
       "      window._bokeh_onload_callbacks.push(callback);\n",
       "      if (window._bokeh_is_loading > 0) {\n",
       "        console.log(\"Bokeh: BokehJS is being loaded, scheduling callback at\", now());\n",
       "        return null;\n",
       "      }\n",
       "      if (js_urls == null || js_urls.length === 0) {\n",
       "        run_callbacks();\n",
       "        return null;\n",
       "      }\n",
       "      console.log(\"Bokeh: BokehJS not loaded, scheduling load and callback at\", now());\n",
       "      window._bokeh_is_loading = js_urls.length;\n",
       "      for (var i = 0; i < js_urls.length; i++) {\n",
       "        var url = js_urls[i];\n",
       "        var s = document.createElement('script');\n",
       "        s.src = url;\n",
       "        s.async = false;\n",
       "        s.onreadystatechange = s.onload = function() {\n",
       "          window._bokeh_is_loading--;\n",
       "          if (window._bokeh_is_loading === 0) {\n",
       "            console.log(\"Bokeh: all BokehJS libraries loaded\");\n",
       "            run_callbacks()\n",
       "          }\n",
       "        };\n",
       "        s.onerror = function() {\n",
       "          console.warn(\"failed to load library \" + url);\n",
       "        };\n",
       "        console.log(\"Bokeh: injecting script tag for BokehJS library: \", url);\n",
       "        document.getElementsByTagName(\"head\")[0].appendChild(s);\n",
       "      }\n",
       "    };var element = document.getElementById(\"c9133c95-c1a2-434d-9732-8b7707ca9087\");\n",
       "    if (element == null) {\n",
       "      console.log(\"Bokeh: ERROR: autoload.js configured with elementid 'c9133c95-c1a2-434d-9732-8b7707ca9087' but no matching script tag was found. \")\n",
       "      return false;\n",
       "    }\n",
       "  \n",
       "    var js_urls = [];\n",
       "  \n",
       "    var inline_js = [\n",
       "      function(Bokeh) {\n",
       "        (function() {\n",
       "          var fn = function() {\n",
       "            var docs_json = {\"d16f0beb-a3f7-45bc-aafe-27cce5fc7cb2\":{\"roots\":{\"references\":[{\"attributes\":{\"grid_line_color\":{\"value\":null},\"plot\":{\"id\":\"48d60ad6-cefb-4402-83ad-afd3e2be4c6a\",\"subtype\":\"Figure\",\"type\":\"Plot\"},\"ticker\":{\"id\":\"55914dae-9ee9-4c25-9299-f33da140544b\",\"type\":\"BasicTicker\"}},\"id\":\"f88511b6-f1ff-4036-a953-b661a1360f83\",\"type\":\"Grid\"},{\"attributes\":{},\"id\":\"55914dae-9ee9-4c25-9299-f33da140544b\",\"type\":\"BasicTicker\"},{\"attributes\":{\"plot\":{\"id\":\"48d60ad6-cefb-4402-83ad-afd3e2be4c6a\",\"subtype\":\"Figure\",\"type\":\"Plot\"}},\"id\":\"28964613-666c-4d9f-8a20-ff7adcae43d7\",\"type\":\"ResetTool\"},{\"attributes\":{\"data_source\":{\"id\":\"b1abaf14-62bf-4ab5-94b0-9107c0b9201c\",\"type\":\"ColumnDataSource\"},\"glyph\":{\"id\":\"334bc288-b121-4311-9b1f-0b2b930ed686\",\"type\":\"Line\"},\"hover_glyph\":null,\"nonselection_glyph\":{\"id\":\"8f3936d3-fa22-4a80-bc09-2860ba8c5c6b\",\"type\":\"Line\"},\"selection_glyph\":null},\"id\":\"921d5057-4972-4c06-b837-717651babeb1\",\"type\":\"GlyphRenderer\"},{\"attributes\":{\"line_color\":{\"value\":\"royalblue\"},\"line_width\":{\"value\":2},\"x\":{\"field\":\"x\"},\"y\":{\"field\":\"y\"}},\"id\":\"334bc288-b121-4311-9b1f-0b2b930ed686\",\"type\":\"Line\"},{\"attributes\":{\"axis_label\":\"degree of fit\",\"formatter\":{\"id\":\"576a54d2-9071-4b87-8076-6a79ffeaf6b1\",\"type\":\"BasicTickFormatter\"},\"plot\":{\"id\":\"48d60ad6-cefb-4402-83ad-afd3e2be4c6a\",\"subtype\":\"Figure\",\"type\":\"Plot\"},\"ticker\":{\"id\":\"55914dae-9ee9-4c25-9299-f33da140544b\",\"type\":\"BasicTicker\"}},\"id\":\"0f5167ad-2ce7-4aea-9225-0cb94515d1d6\",\"type\":\"LinearAxis\"},{\"attributes\":{\"line_dash\":[6],\"x\":{\"field\":\"x\"},\"y\":{\"field\":\"y\"}},\"id\":\"88a6cfa5-2589-4074-b15e-b9e88380c5f5\",\"type\":\"Line\"},{\"attributes\":{\"overlay\":{\"id\":\"7d2eea1e-4afe-41f1-98d9-caadfaf36daa\",\"type\":\"BoxAnnotation\"},\"plot\":{\"id\":\"48d60ad6-cefb-4402-83ad-afd3e2be4c6a\",\"subtype\":\"Figure\",\"type\":\"Plot\"}},\"id\":\"2cfb80d4-a54d-4b67-a64a-31b26b199d39\",\"type\":\"BoxZoomTool\"},{\"attributes\":{\"active_drag\":\"auto\",\"active_scroll\":\"auto\",\"active_tap\":\"auto\",\"tools\":[{\"id\":\"4b07832b-05d9-4483-9cb1-0fcc44bb5158\",\"type\":\"PanTool\"},{\"id\":\"0c525569-4e78-454b-97c6-011f1e467971\",\"type\":\"WheelZoomTool\"},{\"id\":\"2cfb80d4-a54d-4b67-a64a-31b26b199d39\",\"type\":\"BoxZoomTool\"},{\"id\":\"13ae7c95-53be-424e-9fce-a32346a0daa5\",\"type\":\"SaveTool\"},{\"id\":\"28964613-666c-4d9f-8a20-ff7adcae43d7\",\"type\":\"ResetTool\"},{\"id\":\"fa6ad3a1-137f-4315-8c22-428101d019e9\",\"type\":\"HelpTool\"}]},\"id\":\"a5186300-491f-425a-ae50-82d81ec9a3bc\",\"type\":\"Toolbar\"},{\"attributes\":{\"callback\":null,\"column_names\":[\"x\",\"y\"],\"data\":{\"x\":[0,1,2,3,4,5,6,7,8,9,10,11,12,13,14,15,16,17,18,19,20,21,22,23,24,25,26,27,28,29,30,31,32,33,34,35,36,37,38,39,40],\"y\":{\"__ndarray__\":\"qC7ypKIP/z/P297JjFz3P/sGX/3aPfM/j9zC4g9L8T+PFcSjysXwP92c+POhi/A/1T8cn+Zl8D9WHZkX2MDwP+/4RsRr7fA/gziIXYXu8D+gZrGz9GHxP9lGduyNX/E/lIEUksJu8T8VE6RWTRzyPyEKaIQTSfI/lyCpg79f8j9LRSaKzH/yPzKx+G1RkvI/uBpR8f+b8j9JAJ+wp3ryP3VVMuXbwvI/8IA84dC18j9WLY9U8aHyP7JMgekzm/M/LZ4dAEy48z8oWGOrzrrzPxdX5P0HIfM/FBoZnagy8z/CNT98Pk3zP2goKnUbcvM/rS42OPT78j9HqyUKq/zyP+xNHy/NBvM/zL2JCHoh8z91W4gn1E/zPwckQjZA/PU/5+4TOtZn9T/KttdWEdr0PzLAbHSsZvQ/6DOCqc4Y9D+Zy+6zfLD6Pw==\",\"dtype\":\"float64\",\"shape\":[41]}}},\"id\":\"b1abaf14-62bf-4ab5-94b0-9107c0b9201c\",\"type\":\"ColumnDataSource\"},{\"attributes\":{},\"id\":\"45bcff40-8a95-4972-a217-3f03dd2a60f5\",\"type\":\"BasicTicker\"},{\"attributes\":{\"bottom_units\":\"screen\",\"fill_alpha\":{\"value\":0.5},\"fill_color\":{\"value\":\"lightgrey\"},\"left_units\":\"screen\",\"level\":\"overlay\",\"line_alpha\":{\"value\":1.0},\"line_color\":{\"value\":\"black\"},\"line_dash\":[4,4],\"line_width\":{\"value\":2},\"plot\":null,\"render_mode\":\"css\",\"right_units\":\"screen\",\"top_units\":\"screen\"},\"id\":\"7d2eea1e-4afe-41f1-98d9-caadfaf36daa\",\"type\":\"BoxAnnotation\"},{\"attributes\":{\"below\":[{\"id\":\"0f5167ad-2ce7-4aea-9225-0cb94515d1d6\",\"type\":\"LinearAxis\"}],\"left\":[{\"id\":\"f1a8b4fc-5dbe-467f-9e0e-aaa418a5d131\",\"type\":\"LinearAxis\"}],\"plot_height\":400,\"plot_width\":700,\"renderers\":[{\"id\":\"0f5167ad-2ce7-4aea-9225-0cb94515d1d6\",\"type\":\"LinearAxis\"},{\"id\":\"f88511b6-f1ff-4036-a953-b661a1360f83\",\"type\":\"Grid\"},{\"id\":\"f1a8b4fc-5dbe-467f-9e0e-aaa418a5d131\",\"type\":\"LinearAxis\"},{\"id\":\"10c53a37-062b-4a87-8bd4-4bac63987f9c\",\"type\":\"Grid\"},{\"id\":\"7d2eea1e-4afe-41f1-98d9-caadfaf36daa\",\"type\":\"BoxAnnotation\"},{\"id\":\"774aa73d-8ada-4847-8ffa-5057317722f6\",\"type\":\"Legend\"},{\"id\":\"921d5057-4972-4c06-b837-717651babeb1\",\"type\":\"GlyphRenderer\"},{\"id\":\"fbe7400a-b840-4044-ac30-c6bc4f574c4a\",\"type\":\"GlyphRenderer\"},{\"id\":\"11fb0762-9df7-488a-a07b-3ca0d6e3320c\",\"type\":\"GlyphRenderer\"}],\"title\":null,\"tool_events\":{\"id\":\"97cd63bd-324b-4b31-9a1e-f75f5b3d301a\",\"type\":\"ToolEvents\"},\"toolbar\":{\"id\":\"a5186300-491f-425a-ae50-82d81ec9a3bc\",\"type\":\"Toolbar\"},\"x_range\":{\"id\":\"4d34d049-4bc2-4d12-a950-f95f84974f5d\",\"type\":\"DataRange1d\"},\"y_range\":{\"id\":\"03f8a919-5339-4489-a0f9-a8ebc7e49901\",\"type\":\"DataRange1d\"}},\"id\":\"48d60ad6-cefb-4402-83ad-afd3e2be4c6a\",\"subtype\":\"Figure\",\"type\":\"Plot\"},{\"attributes\":{\"label\":{\"value\":\"cross-validation error\"},\"renderers\":[{\"id\":\"921d5057-4972-4c06-b837-717651babeb1\",\"type\":\"GlyphRenderer\"}]},\"id\":\"b30444b2-6270-42c1-a856-a47e32d05a79\",\"type\":\"LegendItem\"},{\"attributes\":{},\"id\":\"65d9dd88-eddf-4708-80a4-ab1569fe7e20\",\"type\":\"BasicTickFormatter\"},{\"attributes\":{\"plot\":{\"id\":\"48d60ad6-cefb-4402-83ad-afd3e2be4c6a\",\"subtype\":\"Figure\",\"type\":\"Plot\"}},\"id\":\"fa6ad3a1-137f-4315-8c22-428101d019e9\",\"type\":\"HelpTool\"},{\"attributes\":{\"dimension\":1,\"grid_line_color\":{\"value\":null},\"plot\":{\"id\":\"48d60ad6-cefb-4402-83ad-afd3e2be4c6a\",\"subtype\":\"Figure\",\"type\":\"Plot\"},\"ticker\":{\"id\":\"45bcff40-8a95-4972-a217-3f03dd2a60f5\",\"type\":\"BasicTicker\"}},\"id\":\"10c53a37-062b-4a87-8bd4-4bac63987f9c\",\"type\":\"Grid\"},{\"attributes\":{\"plot\":{\"id\":\"48d60ad6-cefb-4402-83ad-afd3e2be4c6a\",\"subtype\":\"Figure\",\"type\":\"Plot\"}},\"id\":\"4b07832b-05d9-4483-9cb1-0fcc44bb5158\",\"type\":\"PanTool\"},{\"attributes\":{\"label\":{\"value\":\"intrinsic error\"},\"renderers\":[{\"id\":\"11fb0762-9df7-488a-a07b-3ca0d6e3320c\",\"type\":\"GlyphRenderer\"}]},\"id\":\"99484ad6-a943-4acb-8810-dd7ca7cc00af\",\"type\":\"LegendItem\"},{\"attributes\":{\"axis_label\":\"rms error\",\"formatter\":{\"id\":\"65d9dd88-eddf-4708-80a4-ab1569fe7e20\",\"type\":\"BasicTickFormatter\"},\"plot\":{\"id\":\"48d60ad6-cefb-4402-83ad-afd3e2be4c6a\",\"subtype\":\"Figure\",\"type\":\"Plot\"},\"ticker\":{\"id\":\"45bcff40-8a95-4972-a217-3f03dd2a60f5\",\"type\":\"BasicTicker\"}},\"id\":\"f1a8b4fc-5dbe-467f-9e0e-aaa418a5d131\",\"type\":\"LinearAxis\"},{\"attributes\":{\"line_color\":{\"value\":\"green\"},\"line_width\":{\"value\":2},\"x\":{\"field\":\"x\"},\"y\":{\"field\":\"y\"}},\"id\":\"d90fef3f-a5a0-4bcb-9d45-91b23a633eee\",\"type\":\"Line\"},{\"attributes\":{\"plot\":{\"id\":\"48d60ad6-cefb-4402-83ad-afd3e2be4c6a\",\"subtype\":\"Figure\",\"type\":\"Plot\"}},\"id\":\"0c525569-4e78-454b-97c6-011f1e467971\",\"type\":\"WheelZoomTool\"},{\"attributes\":{\"label\":{\"value\":\"training error\"},\"renderers\":[{\"id\":\"fbe7400a-b840-4044-ac30-c6bc4f574c4a\",\"type\":\"GlyphRenderer\"}]},\"id\":\"5f10a71d-1c3d-41dd-8868-3f6dfe3b25d1\",\"type\":\"LegendItem\"},{\"attributes\":{},\"id\":\"97cd63bd-324b-4b31-9a1e-f75f5b3d301a\",\"type\":\"ToolEvents\"},{\"attributes\":{\"items\":[{\"id\":\"b30444b2-6270-42c1-a856-a47e32d05a79\",\"type\":\"LegendItem\"},{\"id\":\"5f10a71d-1c3d-41dd-8868-3f6dfe3b25d1\",\"type\":\"LegendItem\"},{\"id\":\"99484ad6-a943-4acb-8810-dd7ca7cc00af\",\"type\":\"LegendItem\"}],\"plot\":{\"id\":\"48d60ad6-cefb-4402-83ad-afd3e2be4c6a\",\"subtype\":\"Figure\",\"type\":\"Plot\"}},\"id\":\"774aa73d-8ada-4847-8ffa-5057317722f6\",\"type\":\"Legend\"},{\"attributes\":{\"data_source\":{\"id\":\"d7c16bff-7928-4a91-a522-68f3b31efb4f\",\"type\":\"ColumnDataSource\"},\"glyph\":{\"id\":\"d90fef3f-a5a0-4bcb-9d45-91b23a633eee\",\"type\":\"Line\"},\"hover_glyph\":null,\"nonselection_glyph\":{\"id\":\"4da4a676-c4f6-46c2-abf7-79c486a7608a\",\"type\":\"Line\"},\"selection_glyph\":null},\"id\":\"fbe7400a-b840-4044-ac30-c6bc4f574c4a\",\"type\":\"GlyphRenderer\"},{\"attributes\":{},\"id\":\"576a54d2-9071-4b87-8076-6a79ffeaf6b1\",\"type\":\"BasicTickFormatter\"},{\"attributes\":{\"line_alpha\":{\"value\":0.1},\"line_color\":{\"value\":\"#1f77b4\"},\"line_width\":{\"value\":2},\"x\":{\"field\":\"x\"},\"y\":{\"field\":\"y\"}},\"id\":\"4da4a676-c4f6-46c2-abf7-79c486a7608a\",\"type\":\"Line\"},{\"attributes\":{\"plot\":{\"id\":\"48d60ad6-cefb-4402-83ad-afd3e2be4c6a\",\"subtype\":\"Figure\",\"type\":\"Plot\"}},\"id\":\"13ae7c95-53be-424e-9fce-a32346a0daa5\",\"type\":\"SaveTool\"},{\"attributes\":{\"data_source\":{\"id\":\"7f8c7da6-a0d3-4804-8ce2-80615d5a2e1e\",\"type\":\"ColumnDataSource\"},\"glyph\":{\"id\":\"88a6cfa5-2589-4074-b15e-b9e88380c5f5\",\"type\":\"Line\"},\"hover_glyph\":null,\"nonselection_glyph\":{\"id\":\"a02bff16-10f0-4e11-b391-1064690e0aa1\",\"type\":\"Line\"},\"selection_glyph\":null},\"id\":\"11fb0762-9df7-488a-a07b-3ca0d6e3320c\",\"type\":\"GlyphRenderer\"},{\"attributes\":{\"callback\":null},\"id\":\"03f8a919-5339-4489-a0f9-a8ebc7e49901\",\"type\":\"DataRange1d\"},{\"attributes\":{\"callback\":null,\"column_names\":[\"x\",\"y\"],\"data\":{\"x\":[0,20],\"y\":[1.0,1.0]}},\"id\":\"7f8c7da6-a0d3-4804-8ce2-80615d5a2e1e\",\"type\":\"ColumnDataSource\"},{\"attributes\":{\"line_alpha\":{\"value\":0.1},\"line_color\":{\"value\":\"#1f77b4\"},\"line_dash\":[6],\"x\":{\"field\":\"x\"},\"y\":{\"field\":\"y\"}},\"id\":\"a02bff16-10f0-4e11-b391-1064690e0aa1\",\"type\":\"Line\"},{\"attributes\":{\"line_alpha\":{\"value\":0.1},\"line_color\":{\"value\":\"#1f77b4\"},\"line_width\":{\"value\":2},\"x\":{\"field\":\"x\"},\"y\":{\"field\":\"y\"}},\"id\":\"8f3936d3-fa22-4a80-bc09-2860ba8c5c6b\",\"type\":\"Line\"},{\"attributes\":{\"callback\":null},\"id\":\"4d34d049-4bc2-4d12-a950-f95f84974f5d\",\"type\":\"DataRange1d\"},{\"attributes\":{\"callback\":null,\"column_names\":[\"x\",\"y\"],\"data\":{\"x\":[0,1,2,3,4,5,6,7,8,9,10,11,12,13,14,15,16,17,18,19,20,21,22,23,24,25,26,27,28,29,30,31,32,33,34,35,36,37,38,39,40],\"y\":{\"__ndarray__\":\"P1dp/luKAUAZEvIUYuH0Pz3LCcCX2+4/GQHqbXpf6z8M01mk+QbqP7SyDSmihuk/qcQmSV1g6T835yGu9vnoP0X+xuVr3Og/f9H08hfZ6D/1u5V1arroP9oFMI2Pr+g/utnC2Ryp6D+HfhkuznHoP6iNyDGpTug/NLVtlDtF6D9w4DK8CeznP1kH+1K/2+c/arUsu1Db5z+TBphnG9vnP3pP6TXfbec/PyWb36aY5z/xAOUVfrTnPwd31b0TkeY/d+C3OSW+5j/R1UjEvu3mP8ZgAQifgOY/E+1BUpCS5j+kN+/6cqXmP9hxRHW6t+Y/kWbRQOKU5j8SWMwI+aTmPzuBUl9qteY/TbVwECbF5j+a2j/uNNPmP2AKvGCgUuY/vh4WT95w5j+pl7RDYY/mPzI64rAxrOY/gONz0rrF5j9bEyXe6LflPw==\",\"dtype\":\"float64\",\"shape\":[41]}}},\"id\":\"d7c16bff-7928-4a91-a522-68f3b31efb4f\",\"type\":\"ColumnDataSource\"}],\"root_ids\":[\"48d60ad6-cefb-4402-83ad-afd3e2be4c6a\"]},\"title\":\"Bokeh Application\",\"version\":\"0.12.4\"}};\n",
       "            var render_items = [{\"docid\":\"d16f0beb-a3f7-45bc-aafe-27cce5fc7cb2\",\"elementid\":\"c9133c95-c1a2-434d-9732-8b7707ca9087\",\"modelid\":\"48d60ad6-cefb-4402-83ad-afd3e2be4c6a\"}];\n",
       "            \n",
       "            Bokeh.embed.embed_items(docs_json, render_items);\n",
       "          };\n",
       "          if (document.readyState != \"loading\") fn();\n",
       "          else document.addEventListener(\"DOMContentLoaded\", fn);\n",
       "        })();\n",
       "      },\n",
       "      function(Bokeh) {\n",
       "      }\n",
       "    ];\n",
       "  \n",
       "    function run_inline_js() {\n",
       "      \n",
       "      if ((window.Bokeh !== undefined) || (force === true)) {\n",
       "        for (var i = 0; i < inline_js.length; i++) {\n",
       "          inline_js[i](window.Bokeh);\n",
       "        }if (force === true) {\n",
       "          display_loaded();\n",
       "        }} else if (Date.now() < window._bokeh_timeout) {\n",
       "        setTimeout(run_inline_js, 100);\n",
       "      } else if (!window._bokeh_failed_load) {\n",
       "        console.log(\"Bokeh: BokehJS failed to load within specified timeout.\");\n",
       "        window._bokeh_failed_load = true;\n",
       "      } else if (force !== true) {\n",
       "        var cell = $(document.getElementById(\"c9133c95-c1a2-434d-9732-8b7707ca9087\")).parents('.cell').data().cell;\n",
       "        cell.output_area.append_execute_result(NB_LOAD_WARNING)\n",
       "      }\n",
       "  \n",
       "    }\n",
       "  \n",
       "    if (window._bokeh_is_loading === 0) {\n",
       "      console.log(\"Bokeh: BokehJS loaded, going straight to plotting\");\n",
       "      run_inline_js();\n",
       "    } else {\n",
       "      load_libs(js_urls, function() {\n",
       "        console.log(\"Bokeh: BokehJS plotting callback run at\", now());\n",
       "        run_inline_js();\n",
       "      });\n",
       "    }\n",
       "  }(this));\n",
       "</script>"
      ]
     },
     "metadata": {},
     "output_type": "display_data"
    }
   ],
   "source": [
    "import warnings\n",
    "warnings.filterwarnings('ignore', message='Polyfit*')\n",
    "\n",
    "degrees = np.arange(41)\n",
    "train_err = np.zeros(len(degrees))\n",
    "validation_err = np.zeros(len(degrees))\n",
    "\n",
    "for i, d in enumerate(degrees):\n",
    "    p = np.polyfit(x_tr, y_tr, d)\n",
    "    train_err[i] = biasvariance.compute_error(x_tr, y_tr, p)\n",
    "    validation_err[i] = biasvariance.compute_error(x_valid, y_valid, p)\n",
    "\n",
    "fig = bk.figure(plot_width=700, plot_height=400, title=None)\n",
    "\n",
    "fig.line(degrees, validation_err,\n",
    "         line_width=2, legend='cross-validation error', color='royalblue')\n",
    "fig.line(degrees, train_err, line_width=2, legend='training error', color='green')\n",
    "fig.line([0, 20], [error, error], line_dash='dashed', legend='intrinsic error', color='black')\n",
    "\n",
    "fig.xaxis.axis_label = 'degree of fit'\n",
    "fig.yaxis.axis_label = 'rms error'\n",
    "\n",
    "fig.grid.grid_line_color = None\n",
    "\n",
    "bk.show(fig)"
   ]
  },
  {
   "cell_type": "markdown",
   "metadata": {},
   "source": [
    "For this toy dataset, error = 1.0 is the best we can hope to obtain. Choosing `d=6` in this case gets us very close to the optimal error.\n",
    "\n",
    "Notice that in the above plot, `d=6` gives the best results. But in the very first example, we found that `d=6` vastly over-fits the data. What’s going on here? The difference is the **number of training points** used:\n",
    "\n",
    "**As a general rule of thumb, the more the training points, the more complex the model can be.**"
   ]
  },
  {
   "cell_type": "markdown",
   "metadata": {},
   "source": [
    "## 5 Do I need More Training Samples?"
   ]
  },
  {
   "cell_type": "markdown",
   "metadata": {},
   "source": [
    "In order to exploit the relationship outlined above, between the complexity of the model and the number of examples, we use a tool called **Learning Curves**. Learning Curves works by plotting the training error and validation (or test) error as a **function of the number of training points**:"
   ]
  },
  {
   "cell_type": "code",
   "execution_count": 28,
   "metadata": {
    "collapsed": false
   },
   "outputs": [],
   "source": [
    "def plot_learning_curve(d, N=100, y_range=None):\n",
    "    test_size = 0.40\n",
    "    n_sizes = 50       # Number of testing point in which to split the size\n",
    "    n_runs = 20        # Number of times to run the test for each training set size\n",
    "    sizes = np.linspace(2, N, n_sizes).astype(int)\n",
    "    train_err = np.zeros((n_runs, n_sizes))\n",
    "    validation_err = np.zeros((n_runs, n_sizes))\n",
    "    for run in range(n_runs):\n",
    "        for nsize, size in enumerate(sizes):\n",
    "            x_tr, x_valid, y_tr, y_valid = model_selection.train_test_split(x, y,\n",
    "                                           test_size=test_size, random_state=run)\n",
    "            # Train on only the first `size` points\n",
    "            p = np.polyfit(x_tr[:size], y_tr[:size], d)\n",
    "            # Validation error is on the *entire* validation set\n",
    "            validation_err[run, nsize] = biasvariance.compute_error(x_valid, y_valid, p)\n",
    "            # Training error is on only the points used for training\n",
    "            train_err[run, nsize] = biasvariance.compute_error(x_tr[:size], y_tr[:size], p)\n",
    "\n",
    "    fig = bk.figure(plot_width=400, plot_height=300, title='d = %i' % d,\n",
    "                    x_range=(0, N-1)) \n",
    "    fig.title.text_font_size = '11pt'\n",
    "    fig.xaxis.axis_label_text_font_size = '9pt'\n",
    "    fig.yaxis.axis_label_text_font_size = '9pt'\n",
    "    \n",
    "    fig.line(sizes, validation_err.mean(axis=0), \n",
    "             line_width=2, legend='mean validation error', color='royalblue')\n",
    "    fig.line(sizes, train_err.mean(axis=0),\n",
    "             line_width=2, legend='mean training error', color='green')\n",
    "    fig.line([0, N], [error, error],\n",
    "             line_dash='dashed', legend='intrinsic error', color='black')\n",
    "    \n",
    "    fig.xaxis.axis_label = 'traning set size'\n",
    "    fig.yaxis.axis_label = 'rms error'\n",
    "    fig.legend.location = 'top_right'\n",
    "    \n",
    "    if y_range:\n",
    "        fig.y_range = Range1d(y_range[0], y_range[1])\n",
    "\n",
    "    fig.grid.grid_line_color = None\n",
    "    bk.show(fig)"
   ]
  },
  {
   "cell_type": "markdown",
   "metadata": {},
   "source": [
    "Now we look at the behavior of <font color=\"royalblue\">$E_{train}$</font> and <font color=\"red\">$E_{test}$</font>.\n",
    "\n",
    "<font color=\"red\">As we increase $N$, $E_{test}$ decreases</font> until the limit of the algorithm, that is its $Bias$.\n",
    "\n",
    "<font color=\"royalblue\">As we increase $N$, $E_{train}$ increases</font>, because with few datapoints the task is simpler, while adding more data increase the difficulty of the algorithm to fit them.\n",
    "\n",
    "The discrepancy of the two curves is the **generalization error**. It should shrink and get tighter as generalization increases."
   ]
  },
  {
   "cell_type": "code",
   "execution_count": 29,
   "metadata": {
    "collapsed": false
   },
   "outputs": [
    {
     "data": {
      "image/png": "[encoded data removed]",
      "text/plain": [
       "<IPython.core.display.Image object>"
      ]
     },
     "execution_count": 29,
     "metadata": {},
     "output_type": "execute_result"
    }
   ],
   "source": [
    "Image('utilities/learning_curves.png') "
   ]
  },
  {
   "cell_type": "markdown",
   "metadata": {},
   "source": [
    "In the left picture (simple model) we can see that the model \"true\" error (the best the model can do) is high and pretty soon (that is for lower values of $N$) we reach the point were both $E_{train}$ and $E_{test}$ are closer. In the right picture (complex model) we can see that, since it is more complex, it has a better approximation of the target function and thus can achieve (in principle) a lower $E_{test}$ error. The function is so complex that with few data points it fits them perfectly reaching a training error of zero. However if we look at the corresponding $E_{test}$ we can see that it is very high, we haven't learn anything. As the number of examples grows, $E_{test}$ starts lowering and it gets lower than the other model, but the discrepancy between the two errors remains higher than that of the previous example. \n",
    "\n",
    "Let's see a practical example:"
   ]
  },
  {
   "cell_type": "code",
   "execution_count": 30,
   "metadata": {
    "collapsed": false
   },
   "outputs": [
    {
     "data": {
      "text/html": [
       "\n",
       "\n",
       "    <div class=\"bk-root\">\n",
       "        <div class=\"bk-plotdiv\" id=\"5fbaa352-bd71-4248-af25-de8df25c8907\"></div>\n",
       "    </div>\n",
       "<script type=\"text/javascript\">\n",
       "  \n",
       "  (function(global) {\n",
       "    function now() {\n",
       "      return new Date();\n",
       "    }\n",
       "  \n",
       "    var force = false;\n",
       "  \n",
       "    if (typeof (window._bokeh_onload_callbacks) === \"undefined\" || force === true) {\n",
       "      window._bokeh_onload_callbacks = [];\n",
       "      window._bokeh_is_loading = undefined;\n",
       "    }\n",
       "  \n",
       "  \n",
       "    \n",
       "    if (typeof (window._bokeh_timeout) === \"undefined\" || force === true) {\n",
       "      window._bokeh_timeout = Date.now() + 0;\n",
       "      window._bokeh_failed_load = false;\n",
       "    }\n",
       "  \n",
       "    var NB_LOAD_WARNING = {'data': {'text/html':\n",
       "       \"<div style='background-color: #fdd'>\\n\"+\n",
       "       \"<p>\\n\"+\n",
       "       \"BokehJS does not appear to have successfully loaded. If loading BokehJS from CDN, this \\n\"+\n",
       "       \"may be due to a slow or bad network connection. Possible fixes:\\n\"+\n",
       "       \"</p>\\n\"+\n",
       "       \"<ul>\\n\"+\n",
       "       \"<li>re-rerun `output_notebook()` to attempt to load from CDN again, or</li>\\n\"+\n",
       "       \"<li>use INLINE resources instead, as so:</li>\\n\"+\n",
       "       \"</ul>\\n\"+\n",
       "       \"<code>\\n\"+\n",
       "       \"from bokeh.resources import INLINE\\n\"+\n",
       "       \"output_notebook(resources=INLINE)\\n\"+\n",
       "       \"</code>\\n\"+\n",
       "       \"</div>\"}};\n",
       "  \n",
       "    function display_loaded() {\n",
       "      if (window.Bokeh !== undefined) {\n",
       "        document.getElementById(\"5fbaa352-bd71-4248-af25-de8df25c8907\").textContent = \"BokehJS successfully loaded.\";\n",
       "      } else if (Date.now() < window._bokeh_timeout) {\n",
       "        setTimeout(display_loaded, 100)\n",
       "      }\n",
       "    }\n",
       "  \n",
       "    function run_callbacks() {\n",
       "      window._bokeh_onload_callbacks.forEach(function(callback) { callback() });\n",
       "      delete window._bokeh_onload_callbacks\n",
       "      console.info(\"Bokeh: all callbacks have finished\");\n",
       "    }\n",
       "  \n",
       "    function load_libs(js_urls, callback) {\n",
       "      window._bokeh_onload_callbacks.push(callback);\n",
       "      if (window._bokeh_is_loading > 0) {\n",
       "        console.log(\"Bokeh: BokehJS is being loaded, scheduling callback at\", now());\n",
       "        return null;\n",
       "      }\n",
       "      if (js_urls == null || js_urls.length === 0) {\n",
       "        run_callbacks();\n",
       "        return null;\n",
       "      }\n",
       "      console.log(\"Bokeh: BokehJS not loaded, scheduling load and callback at\", now());\n",
       "      window._bokeh_is_loading = js_urls.length;\n",
       "      for (var i = 0; i < js_urls.length; i++) {\n",
       "        var url = js_urls[i];\n",
       "        var s = document.createElement('script');\n",
       "        s.src = url;\n",
       "        s.async = false;\n",
       "        s.onreadystatechange = s.onload = function() {\n",
       "          window._bokeh_is_loading--;\n",
       "          if (window._bokeh_is_loading === 0) {\n",
       "            console.log(\"Bokeh: all BokehJS libraries loaded\");\n",
       "            run_callbacks()\n",
       "          }\n",
       "        };\n",
       "        s.onerror = function() {\n",
       "          console.warn(\"failed to load library \" + url);\n",
       "        };\n",
       "        console.log(\"Bokeh: injecting script tag for BokehJS library: \", url);\n",
       "        document.getElementsByTagName(\"head\")[0].appendChild(s);\n",
       "      }\n",
       "    };var element = document.getElementById(\"5fbaa352-bd71-4248-af25-de8df25c8907\");\n",
       "    if (element == null) {\n",
       "      console.log(\"Bokeh: ERROR: autoload.js configured with elementid '5fbaa352-bd71-4248-af25-de8df25c8907' but no matching script tag was found. \")\n",
       "      return false;\n",
       "    }\n",
       "  \n",
       "    var js_urls = [];\n",
       "  \n",
       "    var inline_js = [\n",
       "      function(Bokeh) {\n",
       "        (function() {\n",
       "          var fn = function() {\n",
       "            var docs_json = {\"03bfc306-53d5-414e-bdf5-e91da87e99a5\":{\"roots\":{\"references\":[{\"attributes\":{\"overlay\":{\"id\":\"e4f09a29-a836-4dfe-8bad-fb3367856a50\",\"type\":\"BoxAnnotation\"},\"plot\":{\"id\":\"41e5ebdd-cac1-4be5-9f3e-cb2857146e51\",\"subtype\":\"Figure\",\"type\":\"Plot\"}},\"id\":\"5d7bf5f4-200f-41d7-83fb-aee70cec0a8f\",\"type\":\"BoxZoomTool\"},{\"attributes\":{\"label\":{\"value\":\"mean validation error\"},\"renderers\":[{\"id\":\"8ae11688-8269-4c7c-acc7-7f17c541ec86\",\"type\":\"GlyphRenderer\"}]},\"id\":\"f2451d79-1231-404a-9945-237568789bc3\",\"type\":\"LegendItem\"},{\"attributes\":{\"line_alpha\":{\"value\":0.1},\"line_color\":{\"value\":\"#1f77b4\"},\"line_width\":{\"value\":2},\"x\":{\"field\":\"x\"},\"y\":{\"field\":\"y\"}},\"id\":\"80a5dc0d-e7d2-4069-99ad-6858e924dedf\",\"type\":\"Line\"},{\"attributes\":{\"axis_label\":\"rms error\",\"axis_label_text_font_size\":{\"value\":\"9pt\"},\"formatter\":{\"id\":\"060a8233-9fa1-406a-9fb7-8aa6b01be055\",\"type\":\"BasicTickFormatter\"},\"plot\":{\"id\":\"41e5ebdd-cac1-4be5-9f3e-cb2857146e51\",\"subtype\":\"Figure\",\"type\":\"Plot\"},\"ticker\":{\"id\":\"e78d51b1-a6ad-499c-b92a-ee143ae2a27d\",\"type\":\"BasicTicker\"}},\"id\":\"6f5aa554-e94b-468f-aa36-8fff3a3701b3\",\"type\":\"LinearAxis\"},{\"attributes\":{\"plot\":{\"id\":\"41e5ebdd-cac1-4be5-9f3e-cb2857146e51\",\"subtype\":\"Figure\",\"type\":\"Plot\"}},\"id\":\"1701a0c3-8c5e-4278-9b65-dbfb9d4200c7\",\"type\":\"HelpTool\"},{\"attributes\":{},\"id\":\"e78d51b1-a6ad-499c-b92a-ee143ae2a27d\",\"type\":\"BasicTicker\"},{\"attributes\":{\"items\":[{\"id\":\"f2451d79-1231-404a-9945-237568789bc3\",\"type\":\"LegendItem\"},{\"id\":\"7e891203-7954-472d-b085-82991371f51f\",\"type\":\"LegendItem\"},{\"id\":\"e6b3f61d-6d78-49f2-b4b4-69ad85e6cfbf\",\"type\":\"LegendItem\"}],\"plot\":{\"id\":\"41e5ebdd-cac1-4be5-9f3e-cb2857146e51\",\"subtype\":\"Figure\",\"type\":\"Plot\"}},\"id\":\"e0884e91-5353-4558-9d34-95fdc1897e70\",\"type\":\"Legend\"},{\"attributes\":{\"data_source\":{\"id\":\"1edd1919-7ee2-4b3a-a6d8-19bd195a9370\",\"type\":\"ColumnDataSource\"},\"glyph\":{\"id\":\"18551364-9bfc-4bf4-aac5-d06ccf60dbb3\",\"type\":\"Line\"},\"hover_glyph\":null,\"nonselection_glyph\":{\"id\":\"d2737f58-72ce-4ba5-9cbd-193c893bc9a1\",\"type\":\"Line\"},\"selection_glyph\":null},\"id\":\"1900a1be-b44b-43a6-afd5-e79fc8a68134\",\"type\":\"GlyphRenderer\"},{\"attributes\":{\"label\":{\"value\":\"mean training error\"},\"renderers\":[{\"id\":\"20c387dc-93b0-415b-bda2-bd41f0c74076\",\"type\":\"GlyphRenderer\"}]},\"id\":\"7e891203-7954-472d-b085-82991371f51f\",\"type\":\"LegendItem\"},{\"attributes\":{\"data_source\":{\"id\":\"ac47cd4b-15eb-45e9-b1e2-bbb50c9cc8db\",\"type\":\"ColumnDataSource\"},\"glyph\":{\"id\":\"cb574286-3df8-477f-b8d5-5ff6deed887b\",\"type\":\"Line\"},\"hover_glyph\":null,\"nonselection_glyph\":{\"id\":\"9a34e092-f1e9-4354-90d5-a77a37719703\",\"type\":\"Line\"},\"selection_glyph\":null},\"id\":\"8ae11688-8269-4c7c-acc7-7f17c541ec86\",\"type\":\"GlyphRenderer\"},{\"attributes\":{\"grid_line_color\":{\"value\":null},\"plot\":{\"id\":\"41e5ebdd-cac1-4be5-9f3e-cb2857146e51\",\"subtype\":\"Figure\",\"type\":\"Plot\"},\"ticker\":{\"id\":\"a48f3e60-9e58-433b-aa88-1e9378bf2cd3\",\"type\":\"BasicTicker\"}},\"id\":\"becceb95-6d73-4a9d-9cf6-42d79dd969cc\",\"type\":\"Grid\"},{\"attributes\":{\"active_drag\":\"auto\",\"active_scroll\":\"auto\",\"active_tap\":\"auto\",\"tools\":[{\"id\":\"ae7dcb2c-fde0-47f1-8a94-4a1841fdf94f\",\"type\":\"PanTool\"},{\"id\":\"03c75cf9-8408-4df2-9ed4-6357f70e69bb\",\"type\":\"WheelZoomTool\"},{\"id\":\"5d7bf5f4-200f-41d7-83fb-aee70cec0a8f\",\"type\":\"BoxZoomTool\"},{\"id\":\"bcef9a43-1e4c-4e44-9716-3f7978073929\",\"type\":\"SaveTool\"},{\"id\":\"59413370-c356-4797-8620-fee0e0a9e3f4\",\"type\":\"ResetTool\"},{\"id\":\"1701a0c3-8c5e-4278-9b65-dbfb9d4200c7\",\"type\":\"HelpTool\"}]},\"id\":\"18b660ac-be54-4e4a-97f0-e51a166dc658\",\"type\":\"Toolbar\"},{\"attributes\":{\"label\":{\"value\":\"intrinsic error\"},\"renderers\":[{\"id\":\"1900a1be-b44b-43a6-afd5-e79fc8a68134\",\"type\":\"GlyphRenderer\"}]},\"id\":\"e6b3f61d-6d78-49f2-b4b4-69ad85e6cfbf\",\"type\":\"LegendItem\"},{\"attributes\":{\"axis_label\":\"traning set size\",\"axis_label_text_font_size\":{\"value\":\"9pt\"},\"formatter\":{\"id\":\"3cf02d19-a2b5-4db8-a8d9-329c1baa58b8\",\"type\":\"BasicTickFormatter\"},\"plot\":{\"id\":\"41e5ebdd-cac1-4be5-9f3e-cb2857146e51\",\"subtype\":\"Figure\",\"type\":\"Plot\"},\"ticker\":{\"id\":\"a48f3e60-9e58-433b-aa88-1e9378bf2cd3\",\"type\":\"BasicTicker\"}},\"id\":\"97574ea2-4fdd-4490-a26c-94042e61a597\",\"type\":\"LinearAxis\"},{\"attributes\":{},\"id\":\"3cf02d19-a2b5-4db8-a8d9-329c1baa58b8\",\"type\":\"BasicTickFormatter\"},{\"attributes\":{\"bottom_units\":\"screen\",\"fill_alpha\":{\"value\":0.5},\"fill_color\":{\"value\":\"lightgrey\"},\"left_units\":\"screen\",\"level\":\"overlay\",\"line_alpha\":{\"value\":1.0},\"line_color\":{\"value\":\"black\"},\"line_dash\":[4,4],\"line_width\":{\"value\":2},\"plot\":null,\"render_mode\":\"css\",\"right_units\":\"screen\",\"top_units\":\"screen\"},\"id\":\"e4f09a29-a836-4dfe-8bad-fb3367856a50\",\"type\":\"BoxAnnotation\"},{\"attributes\":{\"line_alpha\":{\"value\":0.1},\"line_color\":{\"value\":\"#1f77b4\"},\"line_dash\":[6],\"x\":{\"field\":\"x\"},\"y\":{\"field\":\"y\"}},\"id\":\"d2737f58-72ce-4ba5-9cbd-193c893bc9a1\",\"type\":\"Line\"},{\"attributes\":{\"callback\":null,\"column_names\":[\"x\",\"y\"],\"data\":{\"x\":[2,4,6,8,10,12,14,16,18,20,22,24,26,28,30,32,34,36,38,40,42,44,46,48,50,52,54,56,58,60,62,64,66,68,70,72,74,76,78,80,82,84,86,88,90,92,94,96,98,100],\"y\":{\"__ndarray__\":\"/klTvtb75DxopHmMVG3mP2N9rHp6Cu8/RUe8xzW47z82PBdEiafwP62+RJr3EPE/wq0+Rt9a8j+vEOyDhdLyPxQggfWYvfI/mtpAviPR8j8+Yu8bsXTzPwb/Z7/cxvM/JlTIz4mm9D+e3WZ0Bw71P3CBA3+3EfU/fKh5wIDd9D9vdurvCjr1P6p/BuTXFPU/OiBJy4rx9D+CDXywgwz1P2ItK7tE4/Q/61zHet3R9D+yltYv2Yj1PxrntT/RV/U/Sdzgm0tF9T8DNr0whlv1P/a+jxYeavU/L6dhXUZH9T+QKqyJPT31P9F/hZggFfU/0X+FmCAV9T/Rf4WYIBX1P9F/hZggFfU/0X+FmCAV9T/Rf4WYIBX1P9F/hZggFfU/0X+FmCAV9T/Rf4WYIBX1P9F/hZggFfU/0X+FmCAV9T/Rf4WYIBX1P9F/hZggFfU/0X+FmCAV9T/Rf4WYIBX1P9F/hZggFfU/0X+FmCAV9T/Rf4WYIBX1P9F/hZggFfU/0X+FmCAV9T/Rf4WYIBX1Pw==\",\"dtype\":\"float64\",\"shape\":[50]}}},\"id\":\"03153818-458a-4fda-afaf-84da2fa45b28\",\"type\":\"ColumnDataSource\"},{\"attributes\":{\"plot\":{\"id\":\"41e5ebdd-cac1-4be5-9f3e-cb2857146e51\",\"subtype\":\"Figure\",\"type\":\"Plot\"}},\"id\":\"59413370-c356-4797-8620-fee0e0a9e3f4\",\"type\":\"ResetTool\"},{\"attributes\":{\"plot\":null,\"text\":\"d = 1\",\"text_font_size\":{\"value\":\"11pt\"}},\"id\":\"1f9587ba-09b3-407a-8178-5dc9b41d0c8a\",\"type\":\"Title\"},{\"attributes\":{\"callback\":null},\"id\":\"bfe44e72-f378-4996-97f0-bfd5589b733d\",\"type\":\"DataRange1d\"},{\"attributes\":{\"callback\":null,\"end\":99},\"id\":\"786410a5-7a49-4bbe-bfe2-7d6885dc7ab3\",\"type\":\"Range1d\"},{\"attributes\":{},\"id\":\"a48f3e60-9e58-433b-aa88-1e9378bf2cd3\",\"type\":\"BasicTicker\"},{\"attributes\":{\"data_source\":{\"id\":\"03153818-458a-4fda-afaf-84da2fa45b28\",\"type\":\"ColumnDataSource\"},\"glyph\":{\"id\":\"ae0de2c9-2973-458d-bfe2-52a47ebb1f78\",\"type\":\"Line\"},\"hover_glyph\":null,\"nonselection_glyph\":{\"id\":\"80a5dc0d-e7d2-4069-99ad-6858e924dedf\",\"type\":\"Line\"},\"selection_glyph\":null},\"id\":\"20c387dc-93b0-415b-bda2-bd41f0c74076\",\"type\":\"GlyphRenderer\"},{\"attributes\":{\"line_alpha\":{\"value\":0.1},\"line_color\":{\"value\":\"#1f77b4\"},\"line_width\":{\"value\":2},\"x\":{\"field\":\"x\"},\"y\":{\"field\":\"y\"}},\"id\":\"9a34e092-f1e9-4354-90d5-a77a37719703\",\"type\":\"Line\"},{\"attributes\":{\"callback\":null,\"column_names\":[\"x\",\"y\"],\"data\":{\"x\":[0,100],\"y\":[1.0,1.0]}},\"id\":\"1edd1919-7ee2-4b3a-a6d8-19bd195a9370\",\"type\":\"ColumnDataSource\"},{\"attributes\":{\"plot\":{\"id\":\"41e5ebdd-cac1-4be5-9f3e-cb2857146e51\",\"subtype\":\"Figure\",\"type\":\"Plot\"}},\"id\":\"03c75cf9-8408-4df2-9ed4-6357f70e69bb\",\"type\":\"WheelZoomTool\"},{\"attributes\":{\"line_color\":{\"value\":\"green\"},\"line_width\":{\"value\":2},\"x\":{\"field\":\"x\"},\"y\":{\"field\":\"y\"}},\"id\":\"ae0de2c9-2973-458d-bfe2-52a47ebb1f78\",\"type\":\"Line\"},{\"attributes\":{\"line_color\":{\"value\":\"royalblue\"},\"line_width\":{\"value\":2},\"x\":{\"field\":\"x\"},\"y\":{\"field\":\"y\"}},\"id\":\"cb574286-3df8-477f-b8d5-5ff6deed887b\",\"type\":\"Line\"},{\"attributes\":{},\"id\":\"44351b6f-f6df-40d2-a965-de9dab0bccca\",\"type\":\"ToolEvents\"},{\"attributes\":{\"dimension\":1,\"grid_line_color\":{\"value\":null},\"plot\":{\"id\":\"41e5ebdd-cac1-4be5-9f3e-cb2857146e51\",\"subtype\":\"Figure\",\"type\":\"Plot\"},\"ticker\":{\"id\":\"e78d51b1-a6ad-499c-b92a-ee143ae2a27d\",\"type\":\"BasicTicker\"}},\"id\":\"6df957dc-a0d2-4511-86d4-93cfd1f35809\",\"type\":\"Grid\"},{\"attributes\":{\"plot\":{\"id\":\"41e5ebdd-cac1-4be5-9f3e-cb2857146e51\",\"subtype\":\"Figure\",\"type\":\"Plot\"}},\"id\":\"ae7dcb2c-fde0-47f1-8a94-4a1841fdf94f\",\"type\":\"PanTool\"},{\"attributes\":{\"callback\":null,\"column_names\":[\"x\",\"y\"],\"data\":{\"x\":[2,4,6,8,10,12,14,16,18,20,22,24,26,28,30,32,34,36,38,40,42,44,46,48,50,52,54,56,58,60,62,64,66,68,70,72,74,76,78,80,82,84,86,88,90,92,94,96,98,100],\"y\":{\"__ndarray__\":\"rnbVA+FUE0Ba4ndMQXP+P8LPsJ0iX/k/+7RoW2pw+D/CYD+9xN73P06ZndZ///c/hIuwoRrv9z8YslrGnez3P0t2oq6rzvc/6pTEV09r9z97NffbUWH3P7Lk3yN+gvc/r5WNy4VL9z9vr2DG6VD3PzWQQlAfXPc/YQxYxKxY9z8oLrXzTBr3PyXuNDE+CPc/SpFLYUcF9z9C49iN/fb2P/0yDIEg/vY/iv82Aun/9j846zWyH+D2Px6+rPkM2fY/++mj00rV9j8TTjMk8772PzSZoldowvY//k6lcSHH9j9uGV2qBbn2P+MdGRrbtfY/4x0ZGtu19j/jHRka27X2P+MdGRrbtfY/4x0ZGtu19j/jHRka27X2P+MdGRrbtfY/4x0ZGtu19j/jHRka27X2P+MdGRrbtfY/4x0ZGtu19j/jHRka27X2P+MdGRrbtfY/4x0ZGtu19j/jHRka27X2P+MdGRrbtfY/4x0ZGtu19j/jHRka27X2P+MdGRrbtfY/4x0ZGtu19j/jHRka27X2Pw==\",\"dtype\":\"float64\",\"shape\":[50]}}},\"id\":\"ac47cd4b-15eb-45e9-b1e2-bbb50c9cc8db\",\"type\":\"ColumnDataSource\"},{\"attributes\":{},\"id\":\"060a8233-9fa1-406a-9fb7-8aa6b01be055\",\"type\":\"BasicTickFormatter\"},{\"attributes\":{\"line_dash\":[6],\"x\":{\"field\":\"x\"},\"y\":{\"field\":\"y\"}},\"id\":\"18551364-9bfc-4bf4-aac5-d06ccf60dbb3\",\"type\":\"Line\"},{\"attributes\":{\"plot\":{\"id\":\"41e5ebdd-cac1-4be5-9f3e-cb2857146e51\",\"subtype\":\"Figure\",\"type\":\"Plot\"}},\"id\":\"bcef9a43-1e4c-4e44-9716-3f7978073929\",\"type\":\"SaveTool\"},{\"attributes\":{\"below\":[{\"id\":\"97574ea2-4fdd-4490-a26c-94042e61a597\",\"type\":\"LinearAxis\"}],\"left\":[{\"id\":\"6f5aa554-e94b-468f-aa36-8fff3a3701b3\",\"type\":\"LinearAxis\"}],\"plot_height\":300,\"plot_width\":400,\"renderers\":[{\"id\":\"97574ea2-4fdd-4490-a26c-94042e61a597\",\"type\":\"LinearAxis\"},{\"id\":\"becceb95-6d73-4a9d-9cf6-42d79dd969cc\",\"type\":\"Grid\"},{\"id\":\"6f5aa554-e94b-468f-aa36-8fff3a3701b3\",\"type\":\"LinearAxis\"},{\"id\":\"6df957dc-a0d2-4511-86d4-93cfd1f35809\",\"type\":\"Grid\"},{\"id\":\"e4f09a29-a836-4dfe-8bad-fb3367856a50\",\"type\":\"BoxAnnotation\"},{\"id\":\"e0884e91-5353-4558-9d34-95fdc1897e70\",\"type\":\"Legend\"},{\"id\":\"8ae11688-8269-4c7c-acc7-7f17c541ec86\",\"type\":\"GlyphRenderer\"},{\"id\":\"20c387dc-93b0-415b-bda2-bd41f0c74076\",\"type\":\"GlyphRenderer\"},{\"id\":\"1900a1be-b44b-43a6-afd5-e79fc8a68134\",\"type\":\"GlyphRenderer\"}],\"title\":{\"id\":\"1f9587ba-09b3-407a-8178-5dc9b41d0c8a\",\"type\":\"Title\"},\"tool_events\":{\"id\":\"44351b6f-f6df-40d2-a965-de9dab0bccca\",\"type\":\"ToolEvents\"},\"toolbar\":{\"id\":\"18b660ac-be54-4e4a-97f0-e51a166dc658\",\"type\":\"Toolbar\"},\"x_range\":{\"id\":\"786410a5-7a49-4bbe-bfe2-7d6885dc7ab3\",\"type\":\"Range1d\"},\"y_range\":{\"id\":\"bfe44e72-f378-4996-97f0-bfd5589b733d\",\"type\":\"DataRange1d\"}},\"id\":\"41e5ebdd-cac1-4be5-9f3e-cb2857146e51\",\"subtype\":\"Figure\",\"type\":\"Plot\"}],\"root_ids\":[\"41e5ebdd-cac1-4be5-9f3e-cb2857146e51\"]},\"title\":\"Bokeh Application\",\"version\":\"0.12.4\"}};\n",
       "            var render_items = [{\"docid\":\"03bfc306-53d5-414e-bdf5-e91da87e99a5\",\"elementid\":\"5fbaa352-bd71-4248-af25-de8df25c8907\",\"modelid\":\"41e5ebdd-cac1-4be5-9f3e-cb2857146e51\"}];\n",
       "            \n",
       "            Bokeh.embed.embed_items(docs_json, render_items);\n",
       "          };\n",
       "          if (document.readyState != \"loading\") fn();\n",
       "          else document.addEventListener(\"DOMContentLoaded\", fn);\n",
       "        })();\n",
       "      },\n",
       "      function(Bokeh) {\n",
       "      }\n",
       "    ];\n",
       "  \n",
       "    function run_inline_js() {\n",
       "      \n",
       "      if ((window.Bokeh !== undefined) || (force === true)) {\n",
       "        for (var i = 0; i < inline_js.length; i++) {\n",
       "          inline_js[i](window.Bokeh);\n",
       "        }if (force === true) {\n",
       "          display_loaded();\n",
       "        }} else if (Date.now() < window._bokeh_timeout) {\n",
       "        setTimeout(run_inline_js, 100);\n",
       "      } else if (!window._bokeh_failed_load) {\n",
       "        console.log(\"Bokeh: BokehJS failed to load within specified timeout.\");\n",
       "        window._bokeh_failed_load = true;\n",
       "      } else if (force !== true) {\n",
       "        var cell = $(document.getElementById(\"5fbaa352-bd71-4248-af25-de8df25c8907\")).parents('.cell').data().cell;\n",
       "        cell.output_area.append_execute_result(NB_LOAD_WARNING)\n",
       "      }\n",
       "  \n",
       "    }\n",
       "  \n",
       "    if (window._bokeh_is_loading === 0) {\n",
       "      console.log(\"Bokeh: BokehJS loaded, going straight to plotting\");\n",
       "      run_inline_js();\n",
       "    } else {\n",
       "      load_libs(js_urls, function() {\n",
       "        console.log(\"Bokeh: BokehJS plotting callback run at\", now());\n",
       "        run_inline_js();\n",
       "      });\n",
       "    }\n",
       "  }(this));\n",
       "</script>"
      ]
     },
     "metadata": {},
     "output_type": "display_data"
    }
   ],
   "source": [
    "plot_learning_curve(d=1, N=100)"
   ]
  },
  {
   "cell_type": "markdown",
   "metadata": {},
   "source": [
    "A polynomial model with `d=1` is a **high-biased estimator** which under-fits the data. This is indicated by the fact that **both the training and validation errors are very high**.\n",
    "\n",
    "*Adding more data WON'T work in this case.*\n",
    "\n",
    "**When both TRAINING and VALIDATION curves converge to an high error, we have a HIGH BIAS model.** In this situation we can try one of the following actions:\n",
    "\n",
    "* Using a more sophisticated model (i.e. in this case, increase ``d``)\n",
    "* Gather more features for each sample.\n",
    "* Decrease regularlization.\n",
    "\n",
    "Now let's look at a model with higher degree (and thus higher variance):"
   ]
  },
  {
   "cell_type": "code",
   "execution_count": 31,
   "metadata": {
    "collapsed": false
   },
   "outputs": [
    {
     "data": {
      "text/html": [
       "\n",
       "\n",
       "    <div class=\"bk-root\">\n",
       "        <div class=\"bk-plotdiv\" id=\"0bafe15b-0962-4732-9cdf-9750500ed2ef\"></div>\n",
       "    </div>\n",
       "<script type=\"text/javascript\">\n",
       "  \n",
       "  (function(global) {\n",
       "    function now() {\n",
       "      return new Date();\n",
       "    }\n",
       "  \n",
       "    var force = false;\n",
       "  \n",
       "    if (typeof (window._bokeh_onload_callbacks) === \"undefined\" || force === true) {\n",
       "      window._bokeh_onload_callbacks = [];\n",
       "      window._bokeh_is_loading = undefined;\n",
       "    }\n",
       "  \n",
       "  \n",
       "    \n",
       "    if (typeof (window._bokeh_timeout) === \"undefined\" || force === true) {\n",
       "      window._bokeh_timeout = Date.now() + 0;\n",
       "      window._bokeh_failed_load = false;\n",
       "    }\n",
       "  \n",
       "    var NB_LOAD_WARNING = {'data': {'text/html':\n",
       "       \"<div style='background-color: #fdd'>\\n\"+\n",
       "       \"<p>\\n\"+\n",
       "       \"BokehJS does not appear to have successfully loaded. If loading BokehJS from CDN, this \\n\"+\n",
       "       \"may be due to a slow or bad network connection. Possible fixes:\\n\"+\n",
       "       \"</p>\\n\"+\n",
       "       \"<ul>\\n\"+\n",
       "       \"<li>re-rerun `output_notebook()` to attempt to load from CDN again, or</li>\\n\"+\n",
       "       \"<li>use INLINE resources instead, as so:</li>\\n\"+\n",
       "       \"</ul>\\n\"+\n",
       "       \"<code>\\n\"+\n",
       "       \"from bokeh.resources import INLINE\\n\"+\n",
       "       \"output_notebook(resources=INLINE)\\n\"+\n",
       "       \"</code>\\n\"+\n",
       "       \"</div>\"}};\n",
       "  \n",
       "    function display_loaded() {\n",
       "      if (window.Bokeh !== undefined) {\n",
       "        document.getElementById(\"0bafe15b-0962-4732-9cdf-9750500ed2ef\").textContent = \"BokehJS successfully loaded.\";\n",
       "      } else if (Date.now() < window._bokeh_timeout) {\n",
       "        setTimeout(display_loaded, 100)\n",
       "      }\n",
       "    }\n",
       "  \n",
       "    function run_callbacks() {\n",
       "      window._bokeh_onload_callbacks.forEach(function(callback) { callback() });\n",
       "      delete window._bokeh_onload_callbacks\n",
       "      console.info(\"Bokeh: all callbacks have finished\");\n",
       "    }\n",
       "  \n",
       "    function load_libs(js_urls, callback) {\n",
       "      window._bokeh_onload_callbacks.push(callback);\n",
       "      if (window._bokeh_is_loading > 0) {\n",
       "        console.log(\"Bokeh: BokehJS is being loaded, scheduling callback at\", now());\n",
       "        return null;\n",
       "      }\n",
       "      if (js_urls == null || js_urls.length === 0) {\n",
       "        run_callbacks();\n",
       "        return null;\n",
       "      }\n",
       "      console.log(\"Bokeh: BokehJS not loaded, scheduling load and callback at\", now());\n",
       "      window._bokeh_is_loading = js_urls.length;\n",
       "      for (var i = 0; i < js_urls.length; i++) {\n",
       "        var url = js_urls[i];\n",
       "        var s = document.createElement('script');\n",
       "        s.src = url;\n",
       "        s.async = false;\n",
       "        s.onreadystatechange = s.onload = function() {\n",
       "          window._bokeh_is_loading--;\n",
       "          if (window._bokeh_is_loading === 0) {\n",
       "            console.log(\"Bokeh: all BokehJS libraries loaded\");\n",
       "            run_callbacks()\n",
       "          }\n",
       "        };\n",
       "        s.onerror = function() {\n",
       "          console.warn(\"failed to load library \" + url);\n",
       "        };\n",
       "        console.log(\"Bokeh: injecting script tag for BokehJS library: \", url);\n",
       "        document.getElementsByTagName(\"head\")[0].appendChild(s);\n",
       "      }\n",
       "    };var element = document.getElementById(\"0bafe15b-0962-4732-9cdf-9750500ed2ef\");\n",
       "    if (element == null) {\n",
       "      console.log(\"Bokeh: ERROR: autoload.js configured with elementid '0bafe15b-0962-4732-9cdf-9750500ed2ef' but no matching script tag was found. \")\n",
       "      return false;\n",
       "    }\n",
       "  \n",
       "    var js_urls = [];\n",
       "  \n",
       "    var inline_js = [\n",
       "      function(Bokeh) {\n",
       "        (function() {\n",
       "          var fn = function() {\n",
       "            var docs_json = {\"3d671104-ec72-4a12-ba30-9616a006a9b5\":{\"roots\":{\"references\":[{\"attributes\":{\"label\":{\"value\":\"mean training error\"},\"renderers\":[{\"id\":\"18f7cc07-d6f6-4c0d-8780-9e0a52b71b20\",\"type\":\"GlyphRenderer\"}]},\"id\":\"b0437779-768c-4ed4-b06e-e46dab06fccc\",\"type\":\"LegendItem\"},{\"attributes\":{\"line_dash\":[6],\"x\":{\"field\":\"x\"},\"y\":{\"field\":\"y\"}},\"id\":\"7a6c36b3-9c9c-43c5-92db-eddb36962a3c\",\"type\":\"Line\"},{\"attributes\":{\"callback\":null,\"column_names\":[\"x\",\"y\"],\"data\":{\"x\":[0,100],\"y\":[1.0,1.0]}},\"id\":\"f72d4d72-b7e2-469b-aeb5-28f7d2b3238b\",\"type\":\"ColumnDataSource\"},{\"attributes\":{\"data_source\":{\"id\":\"b8010f61-13ba-455b-892c-32d575b2e251\",\"type\":\"ColumnDataSource\"},\"glyph\":{\"id\":\"aba06a12-7567-465d-9ba2-ed51aee1c01d\",\"type\":\"Line\"},\"hover_glyph\":null,\"nonselection_glyph\":{\"id\":\"7cd27b0b-5ba6-4672-938e-041db7e611d9\",\"type\":\"Line\"},\"selection_glyph\":null},\"id\":\"18f7cc07-d6f6-4c0d-8780-9e0a52b71b20\",\"type\":\"GlyphRenderer\"},{\"attributes\":{\"callback\":null,\"column_names\":[\"x\",\"y\"],\"data\":{\"x\":[2,4,6,8,10,12,14,16,18,20,22,24,26,28,30,32,34,36,38,40,42,44,46,48,50,52,54,56,58,60,62,64,66,68,70,72,74,76,78,80,82,84,86,88,90,92,94,96,98,100],\"y\":{\"__ndarray__\":\"jnGMHuP35zzmIafsQR4tPYadzKDv6o09BkJdVgSw8D01WrVxcv5hPiZrEdrz3c4/5eHBUFZ+2D/Y6/T7lMjgP3y0Tx8G7eI/aDzQr3pM5D9z5aUuF3blP3WH5mpPduY/onz8ydWL5z+qNbwTsb3oPwzA70faA+k/4Oo2QS9x6T+9Yuut5tzpP30ntzhOEeo/aLyOwamV6j/K65WgBnrqP+3EKEhSguo/NrrWAKua6j8lYUtBZ8rqP1AVKo8A/uo/AvmZGYch6z+dSVd3PXDrP/4ueZhekes/89OP8Tdt6z+Nmyrwxl/rP0YA/sOyZOs/RgD+w7Jk6z9GAP7DsmTrP0YA/sOyZOs/RgD+w7Jk6z9GAP7DsmTrP0YA/sOyZOs/RgD+w7Jk6z9GAP7DsmTrP0YA/sOyZOs/RgD+w7Jk6z9GAP7DsmTrP0YA/sOyZOs/RgD+w7Jk6z9GAP7DsmTrP0YA/sOyZOs/RgD+w7Jk6z9GAP7DsmTrP0YA/sOyZOs/RgD+w7Jk6z9GAP7DsmTrPw==\",\"dtype\":\"float64\",\"shape\":[50]}}},\"id\":\"b8010f61-13ba-455b-892c-32d575b2e251\",\"type\":\"ColumnDataSource\"},{\"attributes\":{},\"id\":\"2ffcd230-3210-4179-a7b0-3c266a975d55\",\"type\":\"BasicTickFormatter\"},{\"attributes\":{},\"id\":\"d9e78813-a55b-430d-adbf-17a158910d5c\",\"type\":\"BasicTicker\"},{\"attributes\":{\"overlay\":{\"id\":\"e13e743c-df2a-4ec5-a741-d9eb812e698e\",\"type\":\"BoxAnnotation\"},\"plot\":{\"id\":\"e96ce316-2942-41b3-b736-b6907484dc61\",\"subtype\":\"Figure\",\"type\":\"Plot\"}},\"id\":\"e0f421fe-fa2b-486e-bbef-965948536fb2\",\"type\":\"BoxZoomTool\"},{\"attributes\":{\"plot\":{\"id\":\"e96ce316-2942-41b3-b736-b6907484dc61\",\"subtype\":\"Figure\",\"type\":\"Plot\"}},\"id\":\"075d14e2-c478-41ac-bb20-9666e3eb3401\",\"type\":\"HelpTool\"},{\"attributes\":{\"line_color\":{\"value\":\"green\"},\"line_width\":{\"value\":2},\"x\":{\"field\":\"x\"},\"y\":{\"field\":\"y\"}},\"id\":\"aba06a12-7567-465d-9ba2-ed51aee1c01d\",\"type\":\"Line\"},{\"attributes\":{\"dimension\":1,\"grid_line_color\":{\"value\":null},\"plot\":{\"id\":\"e96ce316-2942-41b3-b736-b6907484dc61\",\"subtype\":\"Figure\",\"type\":\"Plot\"},\"ticker\":{\"id\":\"d9e78813-a55b-430d-adbf-17a158910d5c\",\"type\":\"BasicTicker\"}},\"id\":\"cb7b9278-ff54-4134-b8f7-5938961117da\",\"type\":\"Grid\"},{\"attributes\":{\"plot\":{\"id\":\"e96ce316-2942-41b3-b736-b6907484dc61\",\"subtype\":\"Figure\",\"type\":\"Plot\"}},\"id\":\"0523565a-0f5b-4cbd-a9a0-38bcb4f8dc07\",\"type\":\"PanTool\"},{\"attributes\":{\"active_drag\":\"auto\",\"active_scroll\":\"auto\",\"active_tap\":\"auto\",\"tools\":[{\"id\":\"0523565a-0f5b-4cbd-a9a0-38bcb4f8dc07\",\"type\":\"PanTool\"},{\"id\":\"fad32459-51a8-40a4-b0b6-ceff9c41975a\",\"type\":\"WheelZoomTool\"},{\"id\":\"e0f421fe-fa2b-486e-bbef-965948536fb2\",\"type\":\"BoxZoomTool\"},{\"id\":\"3cc15c10-1694-46bb-8da6-de33d73a479e\",\"type\":\"SaveTool\"},{\"id\":\"c89a9eee-635d-4265-9aa3-2c3c3524172e\",\"type\":\"ResetTool\"},{\"id\":\"075d14e2-c478-41ac-bb20-9666e3eb3401\",\"type\":\"HelpTool\"}]},\"id\":\"730a47e7-0b49-4c7e-a57a-320293b2b8fd\",\"type\":\"Toolbar\"},{\"attributes\":{\"grid_line_color\":{\"value\":null},\"plot\":{\"id\":\"e96ce316-2942-41b3-b736-b6907484dc61\",\"subtype\":\"Figure\",\"type\":\"Plot\"},\"ticker\":{\"id\":\"2417b389-07ff-4276-9c57-fb9b4ee3ed30\",\"type\":\"BasicTicker\"}},\"id\":\"e8500b35-b21c-4be3-bf4c-0309a9980ac8\",\"type\":\"Grid\"},{\"attributes\":{\"axis_label\":\"rms error\",\"axis_label_text_font_size\":{\"value\":\"9pt\"},\"formatter\":{\"id\":\"2ffcd230-3210-4179-a7b0-3c266a975d55\",\"type\":\"BasicTickFormatter\"},\"plot\":{\"id\":\"e96ce316-2942-41b3-b736-b6907484dc61\",\"subtype\":\"Figure\",\"type\":\"Plot\"},\"ticker\":{\"id\":\"d9e78813-a55b-430d-adbf-17a158910d5c\",\"type\":\"BasicTicker\"}},\"id\":\"150713af-e485-46b9-b915-8e302b895b9d\",\"type\":\"LinearAxis\"},{\"attributes\":{},\"id\":\"6d269f38-7deb-4da8-8300-c7f2bdb72088\",\"type\":\"BasicTickFormatter\"},{\"attributes\":{\"items\":[{\"id\":\"0edcaec5-0b61-4f06-8b48-037486c5d4a2\",\"type\":\"LegendItem\"},{\"id\":\"b0437779-768c-4ed4-b06e-e46dab06fccc\",\"type\":\"LegendItem\"},{\"id\":\"a499dba4-d995-4b5f-8e64-28b11994ba9d\",\"type\":\"LegendItem\"}],\"plot\":{\"id\":\"e96ce316-2942-41b3-b736-b6907484dc61\",\"subtype\":\"Figure\",\"type\":\"Plot\"}},\"id\":\"a74b1345-0541-42f6-94fc-a76a2b0eade9\",\"type\":\"Legend\"},{\"attributes\":{\"line_color\":{\"value\":\"royalblue\"},\"line_width\":{\"value\":2},\"x\":{\"field\":\"x\"},\"y\":{\"field\":\"y\"}},\"id\":\"54f091d8-92a4-49ef-8edd-bc93f59d03d4\",\"type\":\"Line\"},{\"attributes\":{\"data_source\":{\"id\":\"f72d4d72-b7e2-469b-aeb5-28f7d2b3238b\",\"type\":\"ColumnDataSource\"},\"glyph\":{\"id\":\"7a6c36b3-9c9c-43c5-92db-eddb36962a3c\",\"type\":\"Line\"},\"hover_glyph\":null,\"nonselection_glyph\":{\"id\":\"207daa4c-5b64-4923-870e-ac43d69acee1\",\"type\":\"Line\"},\"selection_glyph\":null},\"id\":\"f8ed1c5c-6353-4637-9657-c3841f70acf6\",\"type\":\"GlyphRenderer\"},{\"attributes\":{\"plot\":{\"id\":\"e96ce316-2942-41b3-b736-b6907484dc61\",\"subtype\":\"Figure\",\"type\":\"Plot\"}},\"id\":\"fad32459-51a8-40a4-b0b6-ceff9c41975a\",\"type\":\"WheelZoomTool\"},{\"attributes\":{},\"id\":\"2417b389-07ff-4276-9c57-fb9b4ee3ed30\",\"type\":\"BasicTicker\"},{\"attributes\":{\"callback\":null,\"end\":99},\"id\":\"caed78be-a742-4e2a-8521-3e9299685488\",\"type\":\"Range1d\"},{\"attributes\":{\"line_alpha\":{\"value\":0.1},\"line_color\":{\"value\":\"#1f77b4\"},\"line_width\":{\"value\":2},\"x\":{\"field\":\"x\"},\"y\":{\"field\":\"y\"}},\"id\":\"14ed35f2-bb9e-4cd3-ba20-8126f5580ec4\",\"type\":\"Line\"},{\"attributes\":{\"line_alpha\":{\"value\":0.1},\"line_color\":{\"value\":\"#1f77b4\"},\"line_width\":{\"value\":2},\"x\":{\"field\":\"x\"},\"y\":{\"field\":\"y\"}},\"id\":\"7cd27b0b-5ba6-4672-938e-041db7e611d9\",\"type\":\"Line\"},{\"attributes\":{\"plot\":{\"id\":\"e96ce316-2942-41b3-b736-b6907484dc61\",\"subtype\":\"Figure\",\"type\":\"Plot\"}},\"id\":\"c89a9eee-635d-4265-9aa3-2c3c3524172e\",\"type\":\"ResetTool\"},{\"attributes\":{},\"id\":\"b69e34a3-899f-4c6a-af0a-f390a3eefd6a\",\"type\":\"ToolEvents\"},{\"attributes\":{\"bottom_units\":\"screen\",\"fill_alpha\":{\"value\":0.5},\"fill_color\":{\"value\":\"lightgrey\"},\"left_units\":\"screen\",\"level\":\"overlay\",\"line_alpha\":{\"value\":1.0},\"line_color\":{\"value\":\"black\"},\"line_dash\":[4,4],\"line_width\":{\"value\":2},\"plot\":null,\"render_mode\":\"css\",\"right_units\":\"screen\",\"top_units\":\"screen\"},\"id\":\"e13e743c-df2a-4ec5-a741-d9eb812e698e\",\"type\":\"BoxAnnotation\"},{\"attributes\":{\"plot\":{\"id\":\"e96ce316-2942-41b3-b736-b6907484dc61\",\"subtype\":\"Figure\",\"type\":\"Plot\"}},\"id\":\"3cc15c10-1694-46bb-8da6-de33d73a479e\",\"type\":\"SaveTool\"},{\"attributes\":{\"plot\":null,\"text\":\"d = 10\",\"text_font_size\":{\"value\":\"11pt\"}},\"id\":\"d502e5ef-0c3d-4b54-9de9-c5f2a47e3eb7\",\"type\":\"Title\"},{\"attributes\":{\"callback\":null,\"column_names\":[\"x\",\"y\"],\"data\":{\"x\":[2,4,6,8,10,12,14,16,18,20,22,24,26,28,30,32,34,36,38,40,42,44,46,48,50,52,54,56,58,60,62,64,66,68,70,72,74,76,78,80,82,84,86,88,90,92,94,96,98,100],\"y\":{\"__ndarray__\":\"EqziHKreT0Gy781Tmol0QFYFPNDF6sBAFPas5Y5M40DlwUFHm9YxQYXg1Zv4zT9B6sPiRfNbvkD2ioeiz0eMQLIhkowXX39ACzsVSABVZkCusvrxoBkiQNa8+SbcDRVA2m39vUsyDkBmFkaTR5QGQKtu115wEwNAfk/N6swJAEDvqenJZJr4P5YMAJlCK/g/ZnW4mkqj9j9ewtvzqFb2PzqS16S3H/U/HVZuwJDr9D86eHn25eLyP5gAVqoK2PI/ARulwbxO8j/lUE2ctVLyP062aqmoOvI/9zFSyNOh8T87Rcq1QGnxP0AhsVQpDPE/QCGxVCkM8T9AIbFUKQzxP0AhsVQpDPE/QCGxVCkM8T9AIbFUKQzxP0AhsVQpDPE/QCGxVCkM8T9AIbFUKQzxP0AhsVQpDPE/QCGxVCkM8T9AIbFUKQzxP0AhsVQpDPE/QCGxVCkM8T9AIbFUKQzxP0AhsVQpDPE/QCGxVCkM8T9AIbFUKQzxP0AhsVQpDPE/QCGxVCkM8T9AIbFUKQzxPw==\",\"dtype\":\"float64\",\"shape\":[50]}}},\"id\":\"e09aadd0-fc5b-4f77-a6ba-2b0c827f7785\",\"type\":\"ColumnDataSource\"},{\"attributes\":{\"axis_label\":\"traning set size\",\"axis_label_text_font_size\":{\"value\":\"9pt\"},\"formatter\":{\"id\":\"6d269f38-7deb-4da8-8300-c7f2bdb72088\",\"type\":\"BasicTickFormatter\"},\"plot\":{\"id\":\"e96ce316-2942-41b3-b736-b6907484dc61\",\"subtype\":\"Figure\",\"type\":\"Plot\"},\"ticker\":{\"id\":\"2417b389-07ff-4276-9c57-fb9b4ee3ed30\",\"type\":\"BasicTicker\"}},\"id\":\"833e0073-c96a-4fc9-aa5c-25810839da48\",\"type\":\"LinearAxis\"},{\"attributes\":{\"label\":{\"value\":\"intrinsic error\"},\"renderers\":[{\"id\":\"f8ed1c5c-6353-4637-9657-c3841f70acf6\",\"type\":\"GlyphRenderer\"}]},\"id\":\"a499dba4-d995-4b5f-8e64-28b11994ba9d\",\"type\":\"LegendItem\"},{\"attributes\":{\"line_alpha\":{\"value\":0.1},\"line_color\":{\"value\":\"#1f77b4\"},\"line_dash\":[6],\"x\":{\"field\":\"x\"},\"y\":{\"field\":\"y\"}},\"id\":\"207daa4c-5b64-4923-870e-ac43d69acee1\",\"type\":\"Line\"},{\"attributes\":{\"data_source\":{\"id\":\"e09aadd0-fc5b-4f77-a6ba-2b0c827f7785\",\"type\":\"ColumnDataSource\"},\"glyph\":{\"id\":\"54f091d8-92a4-49ef-8edd-bc93f59d03d4\",\"type\":\"Line\"},\"hover_glyph\":null,\"nonselection_glyph\":{\"id\":\"14ed35f2-bb9e-4cd3-ba20-8126f5580ec4\",\"type\":\"Line\"},\"selection_glyph\":null},\"id\":\"c905126e-f28a-454b-b6aa-0102308dfc35\",\"type\":\"GlyphRenderer\"},{\"attributes\":{\"below\":[{\"id\":\"833e0073-c96a-4fc9-aa5c-25810839da48\",\"type\":\"LinearAxis\"}],\"left\":[{\"id\":\"150713af-e485-46b9-b915-8e302b895b9d\",\"type\":\"LinearAxis\"}],\"plot_height\":300,\"plot_width\":400,\"renderers\":[{\"id\":\"833e0073-c96a-4fc9-aa5c-25810839da48\",\"type\":\"LinearAxis\"},{\"id\":\"e8500b35-b21c-4be3-bf4c-0309a9980ac8\",\"type\":\"Grid\"},{\"id\":\"150713af-e485-46b9-b915-8e302b895b9d\",\"type\":\"LinearAxis\"},{\"id\":\"cb7b9278-ff54-4134-b8f7-5938961117da\",\"type\":\"Grid\"},{\"id\":\"e13e743c-df2a-4ec5-a741-d9eb812e698e\",\"type\":\"BoxAnnotation\"},{\"id\":\"a74b1345-0541-42f6-94fc-a76a2b0eade9\",\"type\":\"Legend\"},{\"id\":\"c905126e-f28a-454b-b6aa-0102308dfc35\",\"type\":\"GlyphRenderer\"},{\"id\":\"18f7cc07-d6f6-4c0d-8780-9e0a52b71b20\",\"type\":\"GlyphRenderer\"},{\"id\":\"f8ed1c5c-6353-4637-9657-c3841f70acf6\",\"type\":\"GlyphRenderer\"}],\"title\":{\"id\":\"d502e5ef-0c3d-4b54-9de9-c5f2a47e3eb7\",\"type\":\"Title\"},\"tool_events\":{\"id\":\"b69e34a3-899f-4c6a-af0a-f390a3eefd6a\",\"type\":\"ToolEvents\"},\"toolbar\":{\"id\":\"730a47e7-0b49-4c7e-a57a-320293b2b8fd\",\"type\":\"Toolbar\"},\"x_range\":{\"id\":\"caed78be-a742-4e2a-8521-3e9299685488\",\"type\":\"Range1d\"},\"y_range\":{\"id\":\"fb18c171-e684-4af1-9376-70a3fed702f8\",\"type\":\"Range1d\"}},\"id\":\"e96ce316-2942-41b3-b736-b6907484dc61\",\"subtype\":\"Figure\",\"type\":\"Plot\"},{\"attributes\":{\"callback\":null,\"end\":12},\"id\":\"fb18c171-e684-4af1-9376-70a3fed702f8\",\"type\":\"Range1d\"},{\"attributes\":{\"label\":{\"value\":\"mean validation error\"},\"renderers\":[{\"id\":\"c905126e-f28a-454b-b6aa-0102308dfc35\",\"type\":\"GlyphRenderer\"}]},\"id\":\"0edcaec5-0b61-4f06-8b48-037486c5d4a2\",\"type\":\"LegendItem\"}],\"root_ids\":[\"e96ce316-2942-41b3-b736-b6907484dc61\"]},\"title\":\"Bokeh Application\",\"version\":\"0.12.4\"}};\n",
       "            var render_items = [{\"docid\":\"3d671104-ec72-4a12-ba30-9616a006a9b5\",\"elementid\":\"0bafe15b-0962-4732-9cdf-9750500ed2ef\",\"modelid\":\"e96ce316-2942-41b3-b736-b6907484dc61\"}];\n",
       "            \n",
       "            Bokeh.embed.embed_items(docs_json, render_items);\n",
       "          };\n",
       "          if (document.readyState != \"loading\") fn();\n",
       "          else document.addEventListener(\"DOMContentLoaded\", fn);\n",
       "        })();\n",
       "      },\n",
       "      function(Bokeh) {\n",
       "      }\n",
       "    ];\n",
       "  \n",
       "    function run_inline_js() {\n",
       "      \n",
       "      if ((window.Bokeh !== undefined) || (force === true)) {\n",
       "        for (var i = 0; i < inline_js.length; i++) {\n",
       "          inline_js[i](window.Bokeh);\n",
       "        }if (force === true) {\n",
       "          display_loaded();\n",
       "        }} else if (Date.now() < window._bokeh_timeout) {\n",
       "        setTimeout(run_inline_js, 100);\n",
       "      } else if (!window._bokeh_failed_load) {\n",
       "        console.log(\"Bokeh: BokehJS failed to load within specified timeout.\");\n",
       "        window._bokeh_failed_load = true;\n",
       "      } else if (force !== true) {\n",
       "        var cell = $(document.getElementById(\"0bafe15b-0962-4732-9cdf-9750500ed2ef\")).parents('.cell').data().cell;\n",
       "        cell.output_area.append_execute_result(NB_LOAD_WARNING)\n",
       "      }\n",
       "  \n",
       "    }\n",
       "  \n",
       "    if (window._bokeh_is_loading === 0) {\n",
       "      console.log(\"Bokeh: BokehJS loaded, going straight to plotting\");\n",
       "      run_inline_js();\n",
       "    } else {\n",
       "      load_libs(js_urls, function() {\n",
       "        console.log(\"Bokeh: BokehJS plotting callback run at\", now());\n",
       "        run_inline_js();\n",
       "      });\n",
       "    }\n",
       "  }(this));\n",
       "</script>"
      ]
     },
     "metadata": {},
     "output_type": "display_data"
    }
   ],
   "source": [
    "plot_learning_curve(d=10, N=100, y_range=(0,12))"
   ]
  },
  {
   "cell_type": "markdown",
   "metadata": {},
   "source": [
    "In this example it is possible to see that with `d=10` a **high-variance** estimator may **overfit data** when the number of samples is not sufficent. It is possible to note it by looking at the discrepancy between the two curves. When the number of samples is low we have a low training error, but the corresponding test error is really high. As the number of samples increase the test error decrease and converge to the model error but it may be to slow to converge and still have an higher discrepancy between the two curves.\n",
    "\n",
    "**When the learning curves does not converge using the full training set, it indicates a HIGH VARIANCE model, and the model is OVERFITTING the data.**\n",
    "\n",
    "A high-variance model can be improved by:\n",
    "\n",
    "* Gathering more training samples.\n",
    "* Using a less-sophisticated model (i.e. in this case, make `d` smaller)\n",
    "* Increase regularization.\n",
    "\n",
    "*In particular, gathering more features for each sample will not help the results.*"
   ]
  },
  {
   "cell_type": "markdown",
   "metadata": {},
   "source": [
    "## 6 Do the right thing"
   ]
  },
  {
   "cell_type": "markdown",
   "metadata": {},
   "source": [
    "### 6.1 High Bias"
   ]
  },
  {
   "cell_type": "markdown",
   "metadata": {},
   "source": [
    "If our algorithm shows high **bias**, the following actions might help:\n",
    "\n",
    "- **Add more features**. In our example of predicting home prices,\n",
    "  it may be helpful to make use of information such as the neighborhood\n",
    "  the house is in, the year the house was built, the size of the lot, etc.\n",
    "  Adding these features to the training and test sets can improve\n",
    "  a high-bias estimator\n",
    "- **Use a more sophisticated model**. Adding complexity to the model can\n",
    "  help improve on bias. For a polynomial fit, this can be accomplished\n",
    "  by increasing the degree d. Each learning technique has its own\n",
    "  methods of adding complexity.\n",
    "- **Use fewer samples**. Though this will not improve the classification,\n",
    "  a high-bias algorithm can attain nearly the same error with a smaller\n",
    "  training sample. For algorithms which are computationally expensive,\n",
    "  reducing the training sample size can lead to very large improvements\n",
    "  in speed.\n",
    "- **Decrease regularization**. Regularization is a technique used to impose\n",
    "  simplicity in some machine learning models, by adding a penalty term that\n",
    "  depends on the characteristics of the parameters. If a model has high bias,\n",
    "  decreasing the effect of regularization can lead to better results."
   ]
  },
  {
   "cell_type": "markdown",
   "metadata": {},
   "source": [
    "### 6.2 High Variance"
   ]
  },
  {
   "cell_type": "markdown",
   "metadata": {},
   "source": [
    "If our algorithm shows **high variance**, the following actions might help:\n",
    "\n",
    "- **Use fewer features**. Using a feature selection technique may be\n",
    "  useful, and decrease the over-fitting of the estimator.\n",
    "- **Use a simpler model**.  Model complexity and over-fitting go hand-in-hand.\n",
    "- **Use more training samples**. Adding training samples can reduce\n",
    "  the effect of over-fitting, and lead to improvements in a high\n",
    "  variance estimator.\n",
    "- **Increase Regularization**. Regularization is designed to prevent\n",
    "  over-fitting. In a high-variance model, increasing regularization\n",
    "  can lead to better results.\n",
    "\n",
    "These choices become very important in real-world situations. For example,\n",
    "due to limited telescope time, astronomers must seek a balance between\n",
    "observing a large number of objects, and observing a large number of\n",
    "features for each object. Determining which is more important for a\n",
    "particular learning task can inform the observing strategy that the\n",
    "astronomer employs. In a later exercise, we will explore the use of\n",
    "learning curves for the photometric redshift problem."
   ]
  },
  {
   "cell_type": "markdown",
   "metadata": {},
   "source": [
    "### 6.3 More Sophisticate Methods"
   ]
  },
  {
   "cell_type": "markdown",
   "metadata": {},
   "source": [
    "There are a lot more options for performing validation and model testing.\n",
    "In particular, there are several schemes for cross-validation, in which\n",
    "the model is fit multiple times with different training and test sets.\n",
    "The details are different, but the principles are the same as what we've\n",
    "seen here.\n",
    "\n",
    "For more information see the ``sklearn.model_selection`` module documentation,\n",
    "and the information on the scikit-learn website."
   ]
  },
  {
   "cell_type": "markdown",
   "metadata": {},
   "source": [
    "### 6.4 One Last Caution"
   ]
  },
  {
   "cell_type": "markdown",
   "metadata": {},
   "source": [
    "Using validation schemes to determine hyper-parameters means that we are\n",
    "fitting the hyper-parameters to the particular validation set.  In the same\n",
    "way that parameters can be over-fit to the training set, hyperparameters can\n",
    "be over-fit to the validation set.  Because of this, the validation error\n",
    "tends to under-predict the classification error of new data.\n",
    "\n",
    "For this reason, it is recommended to split the data into three sets:\n",
    "\n",
    "- The **training set**, used to train the model (usually ~60% of the data)\n",
    "- The **validation set**, used to validate the model (usually ~20% of the data)\n",
    "- The **test set**, used to evaluate the expected error of the validated model (usually ~20% of the data)\n",
    "\n",
    "*This may seem excessive, and many machine learning practitioners ignore the need\n",
    "for a test set.  But if your goal is to predict the error of a model on unknown\n",
    "data, using a test set is vital*."
   ]
  },
  {
   "cell_type": "markdown",
   "metadata": {},
   "source": [
    "## 7 Cross Validation (CV)"
   ]
  },
  {
   "cell_type": "markdown",
   "metadata": {},
   "source": [
    "By partitioning the available data into **Training** and **Validation** sets, we reduce the number of samples which can be used for learning the model.\n",
    "\n",
    "By using cross-validation **(CV)** the *validation set is defined automatically by the CV algoritm. * The training set is split into k smaller sets and:\n",
    "\n",
    "* A model is trained using k-1 of the folds as training data\n",
    "* The resulting model is validated on the remaining part of the data"
   ]
  },
  {
   "cell_type": "code",
   "execution_count": 32,
   "metadata": {
    "collapsed": false
   },
   "outputs": [
    {
     "data": {
      "image/png": "[encoded data removed]",
      "text/plain": [
       "<IPython.core.display.Image object>"
      ]
     },
     "execution_count": 32,
     "metadata": {},
     "output_type": "execute_result"
    }
   ],
   "source": [
    "Image('images/k-fold.png') "
   ]
  },
  {
   "cell_type": "markdown",
   "metadata": {},
   "source": [
    "In this example we first calculate the Mean Squared Error on the Train DatasetSet (which is a methodological error) and then we calculate again the same MSE using a KFold CV. The MSE calculated with Cv is much larger:"
   ]
  },
  {
   "cell_type": "code",
   "execution_count": 33,
   "metadata": {
    "collapsed": false
   },
   "outputs": [
    {
     "name": "stdout",
     "output_type": "stream",
     "text": [
      "MSE Calculated on the Training Set:    19.5876545263\n",
      "MSE Calculated with Cross Validation: 49.85 (+/- 80.06)\n"
     ]
    }
   ],
   "source": [
    "X, y = datasets.samples_generator.make_regression(n_samples=7,\n",
    "                                                  n_features=1, n_informative=1,\n",
    "                                                  random_state=0, noise=5)\n",
    "lin = linear_model.LinearRegression(fit_intercept=True)\n",
    "lin.fit(X, y)\n",
    "MSE = metrics.mean_squared_error(lin.predict(X), y)\n",
    "print('MSE Calculated on the Training Set:   ', MSE)\n",
    "MSE_CV = model_selection.cross_val_score(lin, X, y, cv=5, scoring='neg_mean_squared_error')\n",
    "print(\"MSE Calculated with Cross Validation: %0.2f (+/- %0.2f)\"\n",
    "      % (abs(MSE_CV).mean(), abs(MSE_CV).std() * 2))"
   ]
  },
  {
   "cell_type": "markdown",
   "metadata": {},
   "source": [
    "When the `cv` argument is an integer like `cv=10`, `cross_val_score` uses the `KFold` or `StratifiedKFold` strategies. It is also possible to use other cross validation strategies by passing a cross validation iterator instead, for instance we can use `model_selection.ShuffleSplit` where `n_iter` is the number of re-shuffling and splitting operations:"
   ]
  },
  {
   "cell_type": "code",
   "execution_count": 34,
   "metadata": {
    "collapsed": false
   },
   "outputs": [
    {
     "name": "stdout",
     "output_type": "stream",
     "text": [
      "MSE Calculated with Cross Validation: 31.07 (+/- 36.74)\n"
     ]
    }
   ],
   "source": [
    "n_samples = X.shape[0]\n",
    "cv_iter = model_selection.ShuffleSplit(n_samples, test_size=0.2, random_state=0)\n",
    "MSE_CV = model_selection.cross_val_score(lin, X, y, cv=cv_iter, scoring='neg_mean_squared_error')\n",
    "print(\"MSE Calculated with Cross Validation: %0.2f (+/- %0.2f)\"\n",
    "      % (abs(MSE_CV).mean(), abs(MSE_CV).std() * 2))"
   ]
  },
  {
   "cell_type": "markdown",
   "metadata": {},
   "source": [
    "### 7.1 Cross Validation: test many estimators on the same dataset:"
   ]
  },
  {
   "cell_type": "markdown",
   "metadata": {},
   "source": [
    "In this example *we use the \"diabetes\" dataset* to fit tree different linear models. For each model the default CV score is calculated and displayed:"
   ]
  },
  {
   "cell_type": "code",
   "execution_count": 35,
   "metadata": {
    "collapsed": false
   },
   "outputs": [
    {
     "name": "stdout",
     "output_type": "stream",
     "text": [
      "LinearRegression :  0.488702767247\n",
      "Ridge :  0.409427438303\n",
      "Lasso :  0.353800083299\n"
     ]
    }
   ],
   "source": [
    "data = datasets.load_diabetes()\n",
    "X, y = data.data, data.target\n",
    "\n",
    "for Model in [linear_model.LinearRegression,\n",
    "              linear_model.Ridge,\n",
    "              linear_model.Lasso]:\n",
    "    model = Model()\n",
    "    print(Model.__name__, ': ', model_selection.cross_val_score(model, X, y).mean())"
   ]
  },
  {
   "cell_type": "markdown",
   "metadata": {},
   "source": [
    "### 7.2 Cross Validation: test many hyperparamaters and estimators on the same dataset:"
   ]
  },
  {
   "cell_type": "markdown",
   "metadata": {},
   "source": [
    "`Lasso` and `Ridge` accept a regularization parameter `alpha`. Here we plot the CV Score for different values of alpha"
   ]
  },
  {
   "cell_type": "code",
   "execution_count": 36,
   "metadata": {
    "collapsed": false
   },
   "outputs": [
    {
     "data": {
      "text/html": [
       "\n",
       "\n",
       "    <div class=\"bk-root\">\n",
       "        <div class=\"bk-plotdiv\" id=\"f9711551-112b-45f1-b88b-c8df48681924\"></div>\n",
       "    </div>\n",
       "<script type=\"text/javascript\">\n",
       "  \n",
       "  (function(global) {\n",
       "    function now() {\n",
       "      return new Date();\n",
       "    }\n",
       "  \n",
       "    var force = false;\n",
       "  \n",
       "    if (typeof (window._bokeh_onload_callbacks) === \"undefined\" || force === true) {\n",
       "      window._bokeh_onload_callbacks = [];\n",
       "      window._bokeh_is_loading = undefined;\n",
       "    }\n",
       "  \n",
       "  \n",
       "    \n",
       "    if (typeof (window._bokeh_timeout) === \"undefined\" || force === true) {\n",
       "      window._bokeh_timeout = Date.now() + 0;\n",
       "      window._bokeh_failed_load = false;\n",
       "    }\n",
       "  \n",
       "    var NB_LOAD_WARNING = {'data': {'text/html':\n",
       "       \"<div style='background-color: #fdd'>\\n\"+\n",
       "       \"<p>\\n\"+\n",
       "       \"BokehJS does not appear to have successfully loaded. If loading BokehJS from CDN, this \\n\"+\n",
       "       \"may be due to a slow or bad network connection. Possible fixes:\\n\"+\n",
       "       \"</p>\\n\"+\n",
       "       \"<ul>\\n\"+\n",
       "       \"<li>re-rerun `output_notebook()` to attempt to load from CDN again, or</li>\\n\"+\n",
       "       \"<li>use INLINE resources instead, as so:</li>\\n\"+\n",
       "       \"</ul>\\n\"+\n",
       "       \"<code>\\n\"+\n",
       "       \"from bokeh.resources import INLINE\\n\"+\n",
       "       \"output_notebook(resources=INLINE)\\n\"+\n",
       "       \"</code>\\n\"+\n",
       "       \"</div>\"}};\n",
       "  \n",
       "    function display_loaded() {\n",
       "      if (window.Bokeh !== undefined) {\n",
       "        document.getElementById(\"f9711551-112b-45f1-b88b-c8df48681924\").textContent = \"BokehJS successfully loaded.\";\n",
       "      } else if (Date.now() < window._bokeh_timeout) {\n",
       "        setTimeout(display_loaded, 100)\n",
       "      }\n",
       "    }\n",
       "  \n",
       "    function run_callbacks() {\n",
       "      window._bokeh_onload_callbacks.forEach(function(callback) { callback() });\n",
       "      delete window._bokeh_onload_callbacks\n",
       "      console.info(\"Bokeh: all callbacks have finished\");\n",
       "    }\n",
       "  \n",
       "    function load_libs(js_urls, callback) {\n",
       "      window._bokeh_onload_callbacks.push(callback);\n",
       "      if (window._bokeh_is_loading > 0) {\n",
       "        console.log(\"Bokeh: BokehJS is being loaded, scheduling callback at\", now());\n",
       "        return null;\n",
       "      }\n",
       "      if (js_urls == null || js_urls.length === 0) {\n",
       "        run_callbacks();\n",
       "        return null;\n",
       "      }\n",
       "      console.log(\"Bokeh: BokehJS not loaded, scheduling load and callback at\", now());\n",
       "      window._bokeh_is_loading = js_urls.length;\n",
       "      for (var i = 0; i < js_urls.length; i++) {\n",
       "        var url = js_urls[i];\n",
       "        var s = document.createElement('script');\n",
       "        s.src = url;\n",
       "        s.async = false;\n",
       "        s.onreadystatechange = s.onload = function() {\n",
       "          window._bokeh_is_loading--;\n",
       "          if (window._bokeh_is_loading === 0) {\n",
       "            console.log(\"Bokeh: all BokehJS libraries loaded\");\n",
       "            run_callbacks()\n",
       "          }\n",
       "        };\n",
       "        s.onerror = function() {\n",
       "          console.warn(\"failed to load library \" + url);\n",
       "        };\n",
       "        console.log(\"Bokeh: injecting script tag for BokehJS library: \", url);\n",
       "        document.getElementsByTagName(\"head\")[0].appendChild(s);\n",
       "      }\n",
       "    };var element = document.getElementById(\"f9711551-112b-45f1-b88b-c8df48681924\");\n",
       "    if (element == null) {\n",
       "      console.log(\"Bokeh: ERROR: autoload.js configured with elementid 'f9711551-112b-45f1-b88b-c8df48681924' but no matching script tag was found. \")\n",
       "      return false;\n",
       "    }\n",
       "  \n",
       "    var js_urls = [];\n",
       "  \n",
       "    var inline_js = [\n",
       "      function(Bokeh) {\n",
       "        (function() {\n",
       "          var fn = function() {\n",
       "            var docs_json = {\"d13ad6c6-7514-44e8-b9a5-052fc6b878cb\":{\"roots\":{\"references\":[{\"attributes\":{\"line_alpha\":{\"value\":0.1},\"line_color\":{\"value\":\"#1f77b4\"},\"x\":{\"field\":\"x\"},\"y\":{\"field\":\"y\"}},\"id\":\"ad41d947-b8e0-4cbf-b191-6eee12f68e3b\",\"type\":\"Line\"},{\"attributes\":{\"num_minor_ticks\":10},\"id\":\"f2a48244-42dd-4390-8e84-48a9eae1366e\",\"type\":\"LogTicker\"},{\"attributes\":{\"ticker\":null},\"id\":\"beb9bd3f-257f-4af7-b258-1c5cfacd8a12\",\"type\":\"LogTickFormatter\"},{\"attributes\":{\"plot\":{\"id\":\"b0a023d6-3991-43a2-9021-d5aeb2c7e049\",\"subtype\":\"Figure\",\"type\":\"Plot\"}},\"id\":\"adccf840-deae-4a75-9f86-c2a00bf5e7e3\",\"type\":\"HelpTool\"},{\"attributes\":{\"plot\":{\"id\":\"b0a023d6-3991-43a2-9021-d5aeb2c7e049\",\"subtype\":\"Figure\",\"type\":\"Plot\"},\"ticker\":{\"id\":\"f2a48244-42dd-4390-8e84-48a9eae1366e\",\"type\":\"LogTicker\"}},\"id\":\"cb00cc29-7928-47e8-a3f8-844ebc9346ca\",\"type\":\"Grid\"},{\"attributes\":{\"callback\":null,\"column_names\":[\"x\",\"y\"],\"data\":{\"x\":{\"__ndarray__\":\"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\",\"dtype\":\"float64\",\"shape\":[200]},\"y\":[0.4823198719804238,0.48231991884559233,0.48231996700377405,0.48232001435008465,0.4823200641088565,0.48232011438925626,0.4823201651660526,0.48232021628554095,0.4823202688235386,0.48232031506480577,0.4823203646383532,0.4823204159736383,0.48232046553209856,0.482320516352849,0.4823205652553114,0.4823206147625639,0.4823206609496345,0.48232070830886675,0.4823207512358609,0.482320797206757,0.4823208395067294,0.48232086987668144,0.4823209035572457,0.48232093772119244,0.4823209701433882,0.4823209937028287,0.4823210121764812,0.48232102938033955,0.4823210383036353,0.4823210382246398,0.4823210367267542,0.48232102291351353,0.48232100188189336,0.4823209750026871,0.4823209277652788,0.48232087933243156,0.48232080072971284,0.4823207262236314,0.48232062869260883,0.4823205123628167,0.48232038389357185,0.48232023409844027,0.4823200606957142,0.4823198630682636,0.4823196435370619,0.48231939042330474,0.4823191108923064,0.48231878968779507,0.48231843884325176,0.48231805021518487,0.482317618820265,0.48231712705368307,0.48231660577889623,0.4823160117270618,0.4823153648336954,0.48231465857648625,0.4823138863846255,0.48231304096732464,0.4823121039781089,0.48231108218033364,0.48230996012143973,0.4823087455313269,0.48230741896421864,0.482305978413876,0.482304406454792,0.4823027044475654,0.48230545853492474,0.48231236488885987,0.48232198419781025,0.48233192592164953,0.4823420813307693,0.48235254829327623,0.48236328171946086,0.48237432164243293,0.48238559388143454,0.48239721511385414,0.48240912808098085,0.4824213411520935,0.4824338789446873,0.48244661269627176,0.48245976034662946,0.4824682457515436,0.48247049879835613,0.4824726143270068,0.48247456686107026,0.48247632449469985,0.4824778429299572,0.48247920875228684,0.4824802464699305,0.4824810677509467,0.48248142894293655,0.4824815421097517,0.48248688644729876,0.48249238411036577,0.48249777820428585,0.48250292043971843,0.4825077757035716,0.4825123092297484,0.4825165537139525,0.4825202985083378,0.4825236486196308,0.48252651183548184,0.482528745396613,0.48253037056428844,0.48253113755992205,0.4825312510779879,0.48252725863151724,0.482519124511132,0.4825095818562354,0.4824991672498397,0.482487143299243,0.4824732775368445,0.48245738377572556,0.4824355164872955,0.48238751971959815,0.48233330431589894,0.4822766797802669,0.4822171802659293,0.48215421786198903,0.4820878622482356,0.48201796066394687,0.4819445464894012,0.4818668451908086,0.4817850519347996,0.48169878203634753,0.4816077538268825,0.4815119907254619,0.48141173238577817,0.48131684493045856,0.48125683521420565,0.4812150218369049,0.48116892423598606,0.4811179249238876,0.4810983464073743,0.4810991293643679,0.48111933133830787,0.48115650678595134,0.4811802956093871,0.4811998162709455,0.4812176290120428,0.48123329144705396,0.48124695209799845,0.4812844503876915,0.48134172073405673,0.4814039306194536,0.48146432253306076,0.48152029004309665,0.48157635653669484,0.4816320306416987,0.481687577177062,0.481717153147682,0.4817349085093469,0.4817519852888578,0.4817686187602728,0.48178530060589253,0.4818002392200416,0.4818144922628632,0.4818275421949744,0.481840393524093,0.4818499462414998,0.4818827756845915,0.4819158961621567,0.48194828087696584,0.4819797313850289,0.4820098554769894,0.482038668903985,0.48206586949108116,0.48208595408295735,0.4820995110582837,0.4821082651529761,0.4821152713189608,0.48211654452643826,0.48211416669872625,0.48210766275813344,0.4820967786702234,0.48208085909182874,0.4820630346952136,0.48204909514844074,0.4820428973029266,0.4820423170478307,0.48203535099700207,0.48202268559982053,0.48200295920617026,0.4819759672586835,0.4819411629935084,0.4818878476797265,0.48181757338938336,0.48173951676780763,0.4816510140889866,0.4815350476045719,0.48140495190257815,0.4812627586024198,0.4811058827242256,0.4809344025096175,0.48074660077664505,0.4805416840899059,0.48031758713672235,0.4800731162349868,0.4798063836521422,0.4795161392064994]}},\"id\":\"0f9461db-6527-4857-9ea4-a6dc19b9dbed\",\"type\":\"ColumnDataSource\"},{\"attributes\":{\"dimension\":1,\"plot\":{\"id\":\"b0a023d6-3991-43a2-9021-d5aeb2c7e049\",\"subtype\":\"Figure\",\"type\":\"Plot\"},\"ticker\":{\"id\":\"67752d10-a41c-4203-8da8-4ec3cc5e65e5\",\"type\":\"BasicTicker\"}},\"id\":\"d682c3c3-9771-4003-80c0-d1350ce744ee\",\"type\":\"Grid\"},{\"attributes\":{\"formatter\":{\"id\":\"95083537-b4b8-4022-a84f-1b7ef95d0663\",\"type\":\"BasicTickFormatter\"},\"plot\":{\"id\":\"b0a023d6-3991-43a2-9021-d5aeb2c7e049\",\"subtype\":\"Figure\",\"type\":\"Plot\"},\"ticker\":{\"id\":\"67752d10-a41c-4203-8da8-4ec3cc5e65e5\",\"type\":\"BasicTicker\"}},\"id\":\"e227b31f-28e1-4c1b-aec5-1b26cf73042c\",\"type\":\"LinearAxis\"},{\"attributes\":{\"items\":[{\"id\":\"0caf0d1d-e2a0-433d-bd85-1741a88c1f88\",\"type\":\"LegendItem\"},{\"id\":\"a444ee32-9792-4c3e-8b52-5d5c6979a561\",\"type\":\"LegendItem\"}],\"location\":\"bottom_left\",\"plot\":{\"id\":\"b0a023d6-3991-43a2-9021-d5aeb2c7e049\",\"subtype\":\"Figure\",\"type\":\"Plot\"}},\"id\":\"b6d1f365-eef9-48ad-ba07-94dfc492bad7\",\"type\":\"Legend\"},{\"attributes\":{\"label\":{\"value\":\"Lasso\"},\"renderers\":[{\"id\":\"b95aa5f1-6ebb-4bd1-bf46-29dce6922185\",\"type\":\"GlyphRenderer\"}]},\"id\":\"a444ee32-9792-4c3e-8b52-5d5c6979a561\",\"type\":\"LegendItem\"},{\"attributes\":{\"data_source\":{\"id\":\"0f9461db-6527-4857-9ea4-a6dc19b9dbed\",\"type\":\"ColumnDataSource\"},\"glyph\":{\"id\":\"8755f396-0b4a-48da-b81c-694e1137cf3a\",\"type\":\"Line\"},\"hover_glyph\":null,\"nonselection_glyph\":{\"id\":\"ad41d947-b8e0-4cbf-b191-6eee12f68e3b\",\"type\":\"Line\"},\"selection_glyph\":null},\"id\":\"b95aa5f1-6ebb-4bd1-bf46-29dce6922185\",\"type\":\"GlyphRenderer\"},{\"attributes\":{\"formatter\":{\"id\":\"beb9bd3f-257f-4af7-b258-1c5cfacd8a12\",\"type\":\"LogTickFormatter\"},\"plot\":{\"id\":\"b0a023d6-3991-43a2-9021-d5aeb2c7e049\",\"subtype\":\"Figure\",\"type\":\"Plot\"},\"ticker\":{\"id\":\"f2a48244-42dd-4390-8e84-48a9eae1366e\",\"type\":\"LogTicker\"}},\"id\":\"d710e3f9-8deb-464c-a691-b20bdfa130e6\",\"type\":\"LogAxis\"},{\"attributes\":{\"callback\":null,\"end\":0.1,\"start\":0.0001},\"id\":\"0571b1f3-9d11-4169-80c0-c656d27f570c\",\"type\":\"Range1d\"},{\"attributes\":{\"plot\":{\"id\":\"b0a023d6-3991-43a2-9021-d5aeb2c7e049\",\"subtype\":\"Figure\",\"type\":\"Plot\"}},\"id\":\"7198f80d-fe15-4742-9b91-b1f76b0d9288\",\"type\":\"ResetTool\"},{\"attributes\":{\"bottom_units\":\"screen\",\"fill_alpha\":{\"value\":0.5},\"fill_color\":{\"value\":\"lightgrey\"},\"left_units\":\"screen\",\"level\":\"overlay\",\"line_alpha\":{\"value\":1.0},\"line_color\":{\"value\":\"black\"},\"line_dash\":[4,4],\"line_width\":{\"value\":2},\"plot\":null,\"render_mode\":\"css\",\"right_units\":\"screen\",\"top_units\":\"screen\"},\"id\":\"375ab1f1-4905-4311-b649-33f6a0b16a6e\",\"type\":\"BoxAnnotation\"},{\"attributes\":{\"plot\":{\"id\":\"b0a023d6-3991-43a2-9021-d5aeb2c7e049\",\"subtype\":\"Figure\",\"type\":\"Plot\"}},\"id\":\"83678a89-bb4e-4de0-a48d-2f3946e3f800\",\"type\":\"PanTool\"},{\"attributes\":{\"below\":[{\"id\":\"d710e3f9-8deb-464c-a691-b20bdfa130e6\",\"type\":\"LogAxis\"}],\"left\":[{\"id\":\"e227b31f-28e1-4c1b-aec5-1b26cf73042c\",\"type\":\"LinearAxis\"}],\"plot_height\":300,\"plot_width\":700,\"renderers\":[{\"id\":\"d710e3f9-8deb-464c-a691-b20bdfa130e6\",\"type\":\"LogAxis\"},{\"id\":\"cb00cc29-7928-47e8-a3f8-844ebc9346ca\",\"type\":\"Grid\"},{\"id\":\"e227b31f-28e1-4c1b-aec5-1b26cf73042c\",\"type\":\"LinearAxis\"},{\"id\":\"d682c3c3-9771-4003-80c0-d1350ce744ee\",\"type\":\"Grid\"},{\"id\":\"375ab1f1-4905-4311-b649-33f6a0b16a6e\",\"type\":\"BoxAnnotation\"},{\"id\":\"b6d1f365-eef9-48ad-ba07-94dfc492bad7\",\"type\":\"Legend\"},{\"id\":\"874a15c6-63ae-430d-9ea5-09b0d7858b2a\",\"type\":\"GlyphRenderer\"},{\"id\":\"b95aa5f1-6ebb-4bd1-bf46-29dce6922185\",\"type\":\"GlyphRenderer\"}],\"title\":{\"id\":\"abd4780d-1d35-495d-b807-48c3927fbdcd\",\"type\":\"Title\"},\"tool_events\":{\"id\":\"a2d0d630-994c-4abd-a0de-25be319081ed\",\"type\":\"ToolEvents\"},\"toolbar\":{\"id\":\"9ff7f3b4-ecf0-4a78-9e6b-97c02c98df55\",\"type\":\"Toolbar\"},\"x_mapper_type\":\"log\",\"x_range\":{\"id\":\"0571b1f3-9d11-4169-80c0-c656d27f570c\",\"type\":\"Range1d\"},\"y_range\":{\"id\":\"6f24041f-3c9c-4a14-967e-5c43d8847de8\",\"type\":\"DataRange1d\"}},\"id\":\"b0a023d6-3991-43a2-9021-d5aeb2c7e049\",\"subtype\":\"Figure\",\"type\":\"Plot\"},{\"attributes\":{\"line_color\":{\"value\":\"blue\"},\"x\":{\"field\":\"x\"},\"y\":{\"field\":\"y\"}},\"id\":\"7248fc10-40ba-4ad5-af67-12a2afb359b1\",\"type\":\"Line\"},{\"attributes\":{\"plot\":null,\"text\":\"Alpha sensitiveness on different models\"},\"id\":\"abd4780d-1d35-495d-b807-48c3927fbdcd\",\"type\":\"Title\"},{\"attributes\":{\"callback\":null,\"column_names\":[\"x\",\"y\"],\"data\":{\"x\":{\"__ndarray__\":\"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\",\"dtype\":\"float64\",\"shape\":[200]},\"y\":[0.4823231384163484,0.48232328486322984,0.4823234343437865,0.48232358681895865,0.48232374223859775,0.4823239005404606,0.48232406164913294,0.48232422547487774,0.48232439191240284,0.4823245608395461,0.4823247321158702,0.4823249055811646,0.48232508105384736,0.48232525832926376,0.4823254371778744,0.482325617343328,0.48232579854041296,0.4823259804528813,0.4823261627311388,0.48232634498979665,0.48232652680507615,0.48232670771205993,0.482326887201786,0.48232706471817466,0.48232723965478363,0.4823274113513851,0.4823275790903562,0.4823277420928795,0.48232789951494504,0.48232805044314964,0.48232819389028714,0.48232832879072374,0.482328453995556,0.4823285682675455,0.48232867027582743,0.48232875859039037,0.48232883167632623,0.4823288878878488,0.4823289254620818,0.48232894251261815,0.4823289370228556,0.48232890683911045,0.4823288496635187,0.482328763046734,0.48232864438043127,0.48232849088963226,0.482328299624867,0.4823280674541938,0.4823277910550961,0.4823274669062859,0.4823270912794409,0.48232666023091025,0.482326169593425,0.48232561496785814,0.48232499171507665,0.48232429494794216,0.4823235195235121,0.48232266003550733,0.48232171080710967,0.48232066588416717,0.48231951902888,0.48231826371405706,0.48231689311802955,0.48231540012031865,0.4823137772981596,0.48231201692398845,0.4823101109640035,0.48230805107791924,0.4823058286200331,0.4823034346417322,0.4823008598955666,0.4822980948410214,0.4822951296521204,0.48229195422699433,0.4822885581995452,0.48228493095334,0.48228106163785966,0.4822769391872262,0.4822725523415256,0.4822678896708334,0.48226293960204325,0.4822576904485816,0.48225213044308307,0.48224624777308234,0.48224003061975795,0.4822334671997467,0.4822265458100225,0.48221925487580786,0.48221158300146055,0.4822035190242513,0.48219505207091035,0.4821861716167987,0.48217686754751715,0.48216713022273777,0.4821569505420043,0.4821463200122128,0.48213523081644905,0.48212367588382155,0.48211164895989966,0.4820991446773282,0.4820861586261609,0.4820726874234298,0.4820587287814383,0.482044281574243,0.4820293459017761,0.4820139231510435,0.4819980160538243,0.4819816287402941,0.48196476678799993,0.48194743726561773,0.48192964877093897,0.48191141146255206,0.4818927370847114,0.48187363898491586,0.48185413212375555,0.4818342330766311,0.48181396002699295,0.48179333275080094,0.48177237259196176,0.4817511024285569,0.48172954662973666,0.48170773100321773,0.48168568273338447,0.4816634303100571,0.48164100344805105,0.48161843299771423,0.4815957508466827,0.48157298981314955,0.4815501835309945,0.48152736632716076,0.4815045730917055,0.4814818391409861,0.48145920007446275,0.48143669162562325,0.4814143495075406,0.4813922092535835,0.48137030605378905,0.48134867458740355,0.48132734885206985,0.48130636199012305,0.48128574611241814,0.48126553212007794,0.4812457495245046,0.48122642626595413,0.4812075885309107,0.48118926056845435,0.48117146450574316,0.4811542201626783,0.48113754486575316,0.4811214532610223,0.4811059571260648,0.4810910651807472,0.4810767828965325,0.481063112304016,0.48105005179830995,0.4810375959418403,0.481025735264068,0.481014456057587,0.48100374017001346,0.48099356479102945,0.4809839022339101,0.48097471971082156,0.4809659791011561,0.48095763671213776,0.48094964303091753,0.4809419424673611,0.4809344730867252,0.4809271663314171,0.48091994673103555,0.4809127315999054,0.480905430721333,0.48089794601783986,0.4808901712066616,0.48088199143984395,0.4808732829283164,0.48086391254938166,0.48085373743712934,0.4808426045553581,0.48083035025267806,0.48081679979956304,0.4808017669072296,0.4807850532283398,0.48076644783965394,0.48074572670690047,0.48072265213228516,0.48069697218522467,0.48066842011706595,0.4806367137607433,0.48060155491652,0.48056262872517913,0.48051960303023994,0.4804721277310173,0.4804198341285775,0.48036233426689295,0.48029922027175764,0.48023006369028814,0.4801544148341006,0.4800718021295253,0.4799817314784969,0.47988368563401884]}},\"id\":\"7803cd79-2f27-455e-953d-854d01691275\",\"type\":\"ColumnDataSource\"},{\"attributes\":{\"plot\":{\"id\":\"b0a023d6-3991-43a2-9021-d5aeb2c7e049\",\"subtype\":\"Figure\",\"type\":\"Plot\"}},\"id\":\"62786414-3843-46a6-b2c8-e1515516c275\",\"type\":\"WheelZoomTool\"},{\"attributes\":{\"plot\":{\"id\":\"b0a023d6-3991-43a2-9021-d5aeb2c7e049\",\"subtype\":\"Figure\",\"type\":\"Plot\"}},\"id\":\"e9fb3388-c0db-4459-9010-e3a3783be88b\",\"type\":\"SaveTool\"},{\"attributes\":{},\"id\":\"a2d0d630-994c-4abd-a0de-25be319081ed\",\"type\":\"ToolEvents\"},{\"attributes\":{\"line_color\":{\"value\":\"green\"},\"x\":{\"field\":\"x\"},\"y\":{\"field\":\"y\"}},\"id\":\"8755f396-0b4a-48da-b81c-694e1137cf3a\",\"type\":\"Line\"},{\"attributes\":{\"label\":{\"value\":\"Ridge\"},\"renderers\":[{\"id\":\"874a15c6-63ae-430d-9ea5-09b0d7858b2a\",\"type\":\"GlyphRenderer\"}]},\"id\":\"0caf0d1d-e2a0-433d-bd85-1741a88c1f88\",\"type\":\"LegendItem\"},{\"attributes\":{\"overlay\":{\"id\":\"375ab1f1-4905-4311-b649-33f6a0b16a6e\",\"type\":\"BoxAnnotation\"},\"plot\":{\"id\":\"b0a023d6-3991-43a2-9021-d5aeb2c7e049\",\"subtype\":\"Figure\",\"type\":\"Plot\"}},\"id\":\"77fd1b6c-ee98-4a36-a99c-31a998023c3b\",\"type\":\"BoxZoomTool\"},{\"attributes\":{\"line_alpha\":{\"value\":0.1},\"line_color\":{\"value\":\"#1f77b4\"},\"x\":{\"field\":\"x\"},\"y\":{\"field\":\"y\"}},\"id\":\"e0339007-6fac-4c8d-b4ea-62d682d76f8e\",\"type\":\"Line\"},{\"attributes\":{\"active_drag\":\"auto\",\"active_scroll\":\"auto\",\"active_tap\":\"auto\",\"tools\":[{\"id\":\"83678a89-bb4e-4de0-a48d-2f3946e3f800\",\"type\":\"PanTool\"},{\"id\":\"62786414-3843-46a6-b2c8-e1515516c275\",\"type\":\"WheelZoomTool\"},{\"id\":\"77fd1b6c-ee98-4a36-a99c-31a998023c3b\",\"type\":\"BoxZoomTool\"},{\"id\":\"e9fb3388-c0db-4459-9010-e3a3783be88b\",\"type\":\"SaveTool\"},{\"id\":\"7198f80d-fe15-4742-9b91-b1f76b0d9288\",\"type\":\"ResetTool\"},{\"id\":\"adccf840-deae-4a75-9f86-c2a00bf5e7e3\",\"type\":\"HelpTool\"}]},\"id\":\"9ff7f3b4-ecf0-4a78-9e6b-97c02c98df55\",\"type\":\"Toolbar\"},{\"attributes\":{\"callback\":null},\"id\":\"6f24041f-3c9c-4a14-967e-5c43d8847de8\",\"type\":\"DataRange1d\"},{\"attributes\":{},\"id\":\"67752d10-a41c-4203-8da8-4ec3cc5e65e5\",\"type\":\"BasicTicker\"},{\"attributes\":{\"data_source\":{\"id\":\"7803cd79-2f27-455e-953d-854d01691275\",\"type\":\"ColumnDataSource\"},\"glyph\":{\"id\":\"7248fc10-40ba-4ad5-af67-12a2afb359b1\",\"type\":\"Line\"},\"hover_glyph\":null,\"nonselection_glyph\":{\"id\":\"e0339007-6fac-4c8d-b4ea-62d682d76f8e\",\"type\":\"Line\"},\"selection_glyph\":null},\"id\":\"874a15c6-63ae-430d-9ea5-09b0d7858b2a\",\"type\":\"GlyphRenderer\"},{\"attributes\":{},\"id\":\"95083537-b4b8-4022-a84f-1b7ef95d0663\",\"type\":\"BasicTickFormatter\"}],\"root_ids\":[\"b0a023d6-3991-43a2-9021-d5aeb2c7e049\"]},\"title\":\"Bokeh Application\",\"version\":\"0.12.4\"}};\n",
       "            var render_items = [{\"docid\":\"d13ad6c6-7514-44e8-b9a5-052fc6b878cb\",\"elementid\":\"f9711551-112b-45f1-b88b-c8df48681924\",\"modelid\":\"b0a023d6-3991-43a2-9021-d5aeb2c7e049\"}];\n",
       "            \n",
       "            Bokeh.embed.embed_items(docs_json, render_items);\n",
       "          };\n",
       "          if (document.readyState != \"loading\") fn();\n",
       "          else document.addEventListener(\"DOMContentLoaded\", fn);\n",
       "        })();\n",
       "      },\n",
       "      function(Bokeh) {\n",
       "      }\n",
       "    ];\n",
       "  \n",
       "    function run_inline_js() {\n",
       "      \n",
       "      if ((window.Bokeh !== undefined) || (force === true)) {\n",
       "        for (var i = 0; i < inline_js.length; i++) {\n",
       "          inline_js[i](window.Bokeh);\n",
       "        }if (force === true) {\n",
       "          display_loaded();\n",
       "        }} else if (Date.now() < window._bokeh_timeout) {\n",
       "        setTimeout(run_inline_js, 100);\n",
       "      } else if (!window._bokeh_failed_load) {\n",
       "        console.log(\"Bokeh: BokehJS failed to load within specified timeout.\");\n",
       "        window._bokeh_failed_load = true;\n",
       "      } else if (force !== true) {\n",
       "        var cell = $(document.getElementById(\"f9711551-112b-45f1-b88b-c8df48681924\")).parents('.cell').data().cell;\n",
       "        cell.output_area.append_execute_result(NB_LOAD_WARNING)\n",
       "      }\n",
       "  \n",
       "    }\n",
       "  \n",
       "    if (window._bokeh_is_loading === 0) {\n",
       "      console.log(\"Bokeh: BokehJS loaded, going straight to plotting\");\n",
       "      run_inline_js();\n",
       "    } else {\n",
       "      load_libs(js_urls, function() {\n",
       "        console.log(\"Bokeh: BokehJS plotting callback run at\", now());\n",
       "        run_inline_js();\n",
       "      });\n",
       "    }\n",
       "  }(this));\n",
       "</script>"
      ]
     },
     "metadata": {},
     "output_type": "display_data"
    }
   ],
   "source": [
    "from bokeh.models.axes import LogAxis\n",
    "\n",
    "alphas = np.logspace(-4, -1, 200)\n",
    "fig = bk.figure(title='Alpha sensitiveness on different models',\n",
    "                plot_width=700, plot_height=300,\n",
    "                x_axis_type='log', \n",
    "                x_range=(min(alphas), max(alphas)))\n",
    "\n",
    "for Model, color in [(linear_model.Ridge, 'blue'), (linear_model.Lasso, 'green')]:\n",
    "    scores = [model_selection.cross_val_score(Model(alpha=a), X, y, cv=5).mean()\n",
    "              for a in alphas]\n",
    "    fig.line(alphas, scores, line_color=color, legend=Model.__name__)\n",
    "\n",
    "fig.legend.location = 'bottom_left'\n",
    "bk.show(fig)"
   ]
  },
  {
   "cell_type": "markdown",
   "metadata": {},
   "source": [
    "### 7.3 Model specific Cross Validation:"
   ]
  },
  {
   "cell_type": "markdown",
   "metadata": {},
   "source": [
    "Some models can fit data for a range of parameters almost as efficiently as fitting for a single parameter. The most common parameter amenable to this strategy is the strength of the regularizer. In this case we say that we compute the regularization path of the estimator.\n",
    "\n",
    "This is a particular case of what we are going to see in the next paragraph: **Grid Search**.\n",
    "\n",
    "Model Specific Cross Validation is supported by the following models:\n",
    "\n",
    "* **RidgeCV**\n",
    "* **RidgeClassifierCV**\n",
    "* **LarsCV**\n",
    "* **LassoLarsCV**\n",
    "* **LassoCV**\n",
    "* **ElasticNetCV**"
   ]
  },
  {
   "cell_type": "code",
   "execution_count": 37,
   "metadata": {
    "collapsed": false
   },
   "outputs": [
    {
     "name": "stdout",
     "output_type": "stream",
     "text": [
      "RidgeCV :  0.000373993730248\n",
      "LassoCV :  0.00382749447852\n"
     ]
    }
   ],
   "source": [
    "for Model in [linear_model.RidgeCV, linear_model.LassoCV]:\n",
    "    model = Model(alphas=alphas, cv=5).fit(X, y)\n",
    "    print(Model.__name__, ': ', model.alpha_)"
   ]
  },
  {
   "cell_type": "markdown",
   "metadata": {},
   "source": [
    "### 7.4 Cross-validation iterators"
   ]
  },
  {
   "cell_type": "markdown",
   "metadata": {},
   "source": [
    "* **K-fold** - divide all samples in *K* groups, if *K=n* it is equivalent to leave-one-out.\n",
    "* **Statified K-fold** - each set contains the same prercentage of the target classes as the whole set\n",
    "* **Leave-One-Out (LOO)** - all samples except one\n",
    "* **Leave-P-Out (LPO)** - create all possible training sets by removing *p* samples from the whole set\n",
    "* **Leave-One-Label-Out (LOLO)** - holds out the samples according to a third-party provided label\n",
    "* **ShuffleSplit** - shuffles then split data in train and test sets\n",
    "* **StratifiedShuffleSplit** - ShuffleSplits by preserving percentage\n",
    "* **Bootstrap** - generate independent splits and then resample with replacement each split"
   ]
  },
  {
   "cell_type": "code",
   "execution_count": 38,
   "metadata": {
    "collapsed": true
   },
   "outputs": [],
   "source": [
    "X = np.arange(20).reshape(10,2)\n",
    "y = np.arange(10)"
   ]
  },
  {
   "cell_type": "markdown",
   "metadata": {},
   "source": [
    "**KFold** split dataset into k consecutive folds (without shuffling):"
   ]
  },
  {
   "cell_type": "code",
   "execution_count": 39,
   "metadata": {
    "collapsed": false
   },
   "outputs": [
    {
     "name": "stdout",
     "output_type": "stream",
     "text": [
      "[2 3 4 5 6 7 8 9] [0 1]\n",
      "[0 1 4 5 6 7 8 9] [2 3]\n",
      "[0 1 2 3 6 7 8 9] [4 5]\n",
      "[0 1 2 3 4 5 8 9] [6 7]\n",
      "[0 1 2 3 4 5 6 7] [8 9]\n"
     ]
    }
   ],
   "source": [
    "kf = model_selection.KFold(n_splits=5)\n",
    "for train, test in kf.split(X):\n",
    "    print(train, test)"
   ]
  },
  {
   "cell_type": "markdown",
   "metadata": {},
   "source": [
    "**ShuffleSplit** do not guarantee that all folds will be different:"
   ]
  },
  {
   "cell_type": "code",
   "execution_count": 40,
   "metadata": {
    "collapsed": false
   },
   "outputs": [
    {
     "name": "stdout",
     "output_type": "stream",
     "text": [
      "[5 3 9 8 0 7 1 4] [6 2]\n",
      "[1 9 2 3 5 8 7 4] [0 6]\n",
      "[4 3 6 2 9 5 7 0] [8 1]\n",
      "[9 5 8 7 2 0 1 6] [4 3]\n",
      "[5 8 2 3 1 6 4 7] [9 0]\n"
     ]
    }
   ],
   "source": [
    "ss = model_selection.ShuffleSplit(n_splits=5, test_size=0.2)\n",
    "for train, test in ss.split(X):\n",
    "    print(train, test)"
   ]
  },
  {
   "cell_type": "markdown",
   "metadata": {},
   "source": [
    "**Bootstrap** example:"
   ]
  },
  {
   "cell_type": "code",
   "execution_count": 41,
   "metadata": {
    "collapsed": false
   },
   "outputs": [
    {
     "name": "stdout",
     "output_type": "stream",
     "text": [
      "[1 2 3 4 5 6 7 8 9] [0]\n",
      "[0 2 3 4 5 6 7 8 9] [1]\n",
      "[0 1 3 4 5 6 7 8 9] [2]\n",
      "[0 1 2 4 5 6 7 8 9] [3]\n",
      "[0 1 2 3 5 6 7 8 9] [4]\n",
      "[0 1 2 3 4 6 7 8 9] [5]\n",
      "[0 1 2 3 4 5 7 8 9] [6]\n",
      "[0 1 2 3 4 5 6 8 9] [7]\n",
      "[0 1 2 3 4 5 6 7 9] [8]\n",
      "[0 1 2 3 4 5 6 7 8] [9]\n"
     ]
    }
   ],
   "source": [
    "bs = model_selection.LeaveOneOut()\n",
    "for train, test in bs.split(X):\n",
    "    print(train, test)"
   ]
  },
  {
   "cell_type": "markdown",
   "metadata": {},
   "source": [
    "## 8 Grid Search: Searching for estimator hyperparameters"
   ]
  },
  {
   "cell_type": "markdown",
   "metadata": {},
   "source": [
    "`GridSearchCV` can optimize any parameter provided by `estimator.get_params()` by exhaustively fitting the model with any parameter combination.\n",
    "\n",
    "When evaluating different settings (“hyperparameters”) for estimators.\n",
    "\n",
    "`GridSearchCV` will optimize the hyperparameters on the **TRAINING set** (whereas the **VALIDATION set** is generated by CV). After the optimization has been done, the performances of the estimator can be evaluated on a third set called **TEST set**:"
   ]
  },
  {
   "cell_type": "markdown",
   "metadata": {},
   "source": [
    "### 8.1 Exhaustive Grid Search"
   ]
  },
  {
   "cell_type": "markdown",
   "metadata": {},
   "source": [
    "We'll pass to `GridSearchCV` a dictionary of parameters containing a list of hyperparameters to be searched. In this case we set `verbose=2` to see an output about all the searches done by the algorithm:"
   ]
  },
  {
   "cell_type": "code",
   "execution_count": 42,
   "metadata": {
    "collapsed": false
   },
   "outputs": [
    {
     "name": "stdout",
     "output_type": "stream",
     "text": [
      "Fitting 5 folds for each of 4 candidates, totalling 20 fits\n",
      "[CV] kernel=linear, C=1 ..............................................\n",
      "[CV] kernel=linear, C=1 ..............................................\n",
      "[CV] ............................... kernel=linear, C=1, total=   0.0s\n",
      "[CV] kernel=linear, C=1 ..............................................\n",
      "[CV] kernel=linear, C=1 ..............................................\n",
      "[CV] kernel=linear, C=1 ..............................................\n",
      "[CV] kernel=linear, C=10 .............................................\n",
      "[CV] kernel=linear, C=10 .............................................\n",
      "[CV] kernel=linear, C=10 .............................................\n",
      "[CV] C=2, gamma=0.1, kernel=rbf ......................................\n",
      "[CV] kernel=linear, C=10 .............................................\n",
      "[CV] ............................... kernel=linear, C=1, total=   0.0s\n",
      "[CV] ............................... kernel=linear, C=1, total=   0.0s\n",
      "[CV] C=2, gamma=0.1, kernel=rbf ......................................\n",
      "[CV] C=2, gamma=0.1, kernel=rbf ......................................\n",
      "[CV] C=2, gamma=0.1, kernel=rbf ......................................\n",
      "[CV] kernel=linear, C=10 .............................................\n",
      "[CV] .............................. kernel=linear, C=10, total=   0.0s\n",
      "[CV] ....................... C=2, gamma=0.1, kernel=rbf, total=   0.0s\n",
      "[CV] ....................... C=2, gamma=0.1, kernel=rbf, total=   0.0s\n",
      "[CV] C=2, gamma=0.01, kernel=rbf .....................................\n",
      "[CV] .............................. kernel=linear, C=10, total=   0.0s\n",
      "[CV] .............................. kernel=linear, C=10, total=   0.0s\n",
      "[CV] C=2, gamma=0.01, kernel=rbf .....................................\n",
      "[CV] ............................... kernel=linear, C=1, total=   0.0s\n",
      "[CV] ............................... kernel=linear, C=1, total=   0.0s\n",
      "[CV] C=2, gamma=0.1, kernel=rbf ......................................\n",
      "[CV] .............................. kernel=linear, C=10, total=   0.0s\n",
      "[CV] C=2, gamma=0.01, kernel=rbf .....................................\n",
      "[CV] C=2, gamma=0.01, kernel=rbf .....................................\n",
      "[CV] C=2, gamma=0.01, kernel=rbf .....................................\n",
      "[CV] ...................... C=2, gamma=0.01, kernel=rbf, total=   0.0s\n",
      "[CV] ...................... C=2, gamma=0.01, kernel=rbf, total=   0.0s\n",
      "[CV] ....................... C=2, gamma=0.1, kernel=rbf, total=   0.0s\n",
      "[CV] ....................... C=2, gamma=0.1, kernel=rbf, total=   0.0s\n",
      "[CV] ...................... C=2, gamma=0.01, kernel=rbf, total=   0.0s\n",
      "[CV] ....................... C=2, gamma=0.1, kernel=rbf, total=   0.0s\n",
      "[CV] ...................... C=2, gamma=0.01, kernel=rbf, total=   0.0s\n",
      "[CV] ...................... C=2, gamma=0.01, kernel=rbf, total=   0.0s\n",
      "[CV] .............................. kernel=linear, C=10, total=   0.0s\n"
     ]
    },
    {
     "name": "stderr",
     "output_type": "stream",
     "text": [
      "[Parallel(n_jobs=-1)]: Done   8 out of  20 | elapsed:    0.0s remaining:    0.0s\n",
      "[Parallel(n_jobs=-1)]: Done  20 out of  20 | elapsed:    0.0s finished\n"
     ]
    },
    {
     "data": {
      "text/plain": [
       "GridSearchCV(cv=5, error_score='raise',\n",
       "       estimator=SVC(C=1.0, cache_size=200, class_weight=None, coef0=0.0,\n",
       "  decision_function_shape=None, degree=3, gamma='auto', kernel='rbf',\n",
       "  max_iter=-1, probability=False, random_state=None, shrinking=True,\n",
       "  tol=0.001, verbose=False),\n",
       "       fit_params={}, iid=True, n_jobs=-1,\n",
       "       param_grid=[{'kernel': ['linear'], 'C': [1, 10]}, {'gamma': [0.1, 0.01], 'C': [2], 'kernel': ['rbf']}],\n",
       "       pre_dispatch='2*n_jobs', refit=True, return_train_score=True,\n",
       "       scoring=None, verbose=2)"
      ]
     },
     "execution_count": 42,
     "metadata": {},
     "output_type": "execute_result"
    }
   ],
   "source": [
    "from sklearn import svm\n",
    "# Standardize the data\n",
    "iris = datasets.load_iris()\n",
    "scaler = preprocessing.StandardScaler(copy=True, with_mean=True, with_std=True)\n",
    "X = scaler.fit_transform(iris.data)\n",
    "# Keep out the Test Set\n",
    "X_tr, X_test, y_tr, y_test = model_selection.train_test_split(X, iris.target,\n",
    "                                                              test_size=0.30, random_state=0)\n",
    "# Define the Search Grid\n",
    "param_grid = [{'C': [1, 10], 'kernel': ['linear']},\n",
    "              {'C': [2], 'gamma': [0.1, 0.01], 'kernel': ['rbf']}]\n",
    "# GridSearchCV\n",
    "clf = model_selection.GridSearchCV(svm.SVC(), param_grid, cv=5, n_jobs=-1, verbose=2)\n",
    "clf.fit(X_tr, y_tr)"
   ]
  },
  {
   "cell_type": "code",
   "execution_count": 43,
   "metadata": {
    "collapsed": false
   },
   "outputs": [
    {
     "name": "stdout",
     "output_type": "stream",
     "text": [
      "mean: 0.943, std: 0.0348, params: {'kernel': 'linear', 'C': 1}\n",
      "mean: 0.933, std: 0.0469, params: {'kernel': 'linear', 'C': 10}\n",
      "mean: 0.943, std: 0.0348, params: {'gamma': 0.1, 'C': 2, 'kernel': 'rbf'}\n",
      "mean: 0.895, std: 0.0981, params: {'gamma': 0.01, 'C': 2, 'kernel': 'rbf'}\n"
     ]
    }
   ],
   "source": [
    "for a,b,c in zip(clf.cv_results_['mean_test_score'], \n",
    "                 clf.cv_results_['std_test_score'], \n",
    "                 clf.cv_results_['params']):\n",
    "    print('mean: {:.3f}, std: {:.4f}, params: {}'.format(a,b,c))"
   ]
  },
  {
   "cell_type": "markdown",
   "metadata": {},
   "source": [
    "Then we can check the accuracy on the **Test Set**:"
   ]
  },
  {
   "cell_type": "code",
   "execution_count": 44,
   "metadata": {
    "collapsed": false
   },
   "outputs": [
    {
     "name": "stdout",
     "output_type": "stream",
     "text": [
      "Best estimator:  SVC(C=1, cache_size=200, class_weight=None, coef0=0.0,\n",
      "  decision_function_shape=None, degree=3, gamma='auto', kernel='linear',\n",
      "  max_iter=-1, probability=False, random_state=None, shrinking=True,\n",
      "  tol=0.001, verbose=False)\n",
      "Accuracy: 0.91 (+/- 0.22)\n"
     ]
    }
   ],
   "source": [
    "best = clf.best_estimator_\n",
    "print('Best estimator: ', best)\n",
    "scores = model_selection.cross_val_score(best, X_test, y_test, cv=10)\n",
    "print(\"Accuracy: %0.2f (+/- %0.2f)\" % (scores.mean(), scores.std() * 2))"
   ]
  },
  {
   "cell_type": "markdown",
   "metadata": {},
   "source": [
    "Different `score` metrics can be used while doing `GridSearchCV`:"
   ]
  },
  {
   "cell_type": "code",
   "execution_count": 45,
   "metadata": {
    "collapsed": false
   },
   "outputs": [
    {
     "name": "stdout",
     "output_type": "stream",
     "text": [
      "PRECISION: fraction of retrieved instances that are relevant\n",
      "RECALL:    fraction of relevant instances that are retrieved\n",
      "\n",
      "Tuning hyper-parameters for: precision_weighted\n",
      "\n",
      "Best parameters set found on development (training) set:\n",
      "SVC(C=0.5, cache_size=200, class_weight=None, coef0=0.0,\n",
      "  decision_function_shape=None, degree=3, gamma='auto', kernel='linear',\n",
      "  max_iter=-1, probability=False, random_state=None, shrinking=True,\n",
      "  tol=0.001, verbose=False)\n",
      "\n",
      "Grid Scores on development set:\n",
      "mean: 0.920, std: 0.0815, params: {'kernel': 'linear', 'C': 0.125}\n",
      "mean: 0.953, std: 0.0648, params: {'kernel': 'linear', 'C': 0.25}\n",
      "mean: 0.987, std: 0.0267, params: {'kernel': 'linear', 'C': 0.5}\n",
      "mean: 0.974, std: 0.0340, params: {'kernel': 'linear', 'C': 1.0}\n",
      "mean: 0.941, std: 0.0617, params: {'gamma': 0.1, 'C': 1, 'kernel': 'rbf'}\n",
      "mean: 0.974, std: 0.0340, params: {'gamma': 0.1, 'C': 10, 'kernel': 'rbf'}\n",
      "\n",
      "Detailed classification report (on Testing Set)\n",
      "             precision    recall  f1-score   support\n",
      "\n",
      "          0       1.00      1.00      1.00        26\n",
      "          1       0.89      1.00      0.94        33\n",
      "          2       1.00      0.87      0.93        31\n",
      "\n",
      "avg / total       0.96      0.96      0.96        90\n",
      "\n",
      "-----------------------------------------------------\n",
      "\n",
      "Tuning hyper-parameters for: recall_weighted\n",
      "\n",
      "Best parameters set found on development (training) set:\n",
      "SVC(C=0.5, cache_size=200, class_weight=None, coef0=0.0,\n",
      "  decision_function_shape=None, degree=3, gamma='auto', kernel='linear',\n",
      "  max_iter=-1, probability=False, random_state=None, shrinking=True,\n",
      "  tol=0.001, verbose=False)\n",
      "\n",
      "Grid Scores on development set:\n",
      "mean: 0.917, std: 0.0810, params: {'kernel': 'linear', 'C': 0.125}\n",
      "mean: 0.950, std: 0.0659, params: {'kernel': 'linear', 'C': 0.25}\n",
      "mean: 0.983, std: 0.0333, params: {'kernel': 'linear', 'C': 0.5}\n",
      "mean: 0.967, std: 0.0441, params: {'kernel': 'linear', 'C': 1.0}\n",
      "mean: 0.933, std: 0.0637, params: {'gamma': 0.1, 'C': 1, 'kernel': 'rbf'}\n",
      "mean: 0.967, std: 0.0441, params: {'gamma': 0.1, 'C': 10, 'kernel': 'rbf'}\n",
      "\n",
      "Detailed classification report (on Testing Set)\n",
      "             precision    recall  f1-score   support\n",
      "\n",
      "          0       1.00      1.00      1.00        26\n",
      "          1       0.89      1.00      0.94        33\n",
      "          2       1.00      0.87      0.93        31\n",
      "\n",
      "avg / total       0.96      0.96      0.96        90\n",
      "\n",
      "-----------------------------------------------------\n"
     ]
    }
   ],
   "source": [
    "X_tr, X_test, y_tr, y_test = model_selection.train_test_split(X, \n",
    "                                                              iris.target,\n",
    "                                                              test_size=0.60, \n",
    "                                                              random_state=0)\n",
    "scores = ['precision_weighted', 'recall_weighted']\n",
    "param_grid = [{'C': np.logspace(-3,0,4, base=2), 'kernel': ['linear']},\n",
    "              {'C': [1, 10], 'gamma': [0.1], 'kernel': ['rbf']}]\n",
    "print('PRECISION: fraction of retrieved instances that are relevant')\n",
    "print('RECALL:    fraction of relevant instances that are retrieved')\n",
    "for score in scores:\n",
    "    print('\\nTuning hyper-parameters for: %s' % score)\n",
    "    clf = model_selection.GridSearchCV(svm.SVC(), param_grid, cv=5, scoring=score)\n",
    "    clf.fit(X_tr, y_tr)\n",
    "    print('\\nBest parameters set found on development (training) set:')\n",
    "    print(clf.best_estimator_)\n",
    "    print('\\nGrid Scores on development set:')\n",
    "    for a,b,c in zip(clf.cv_results_['mean_test_score'], \n",
    "                     clf.cv_results_['std_test_score'], \n",
    "                     clf.cv_results_['params']):\n",
    "        print('mean: {:.3f}, std: {:.4f}, params: {}'.format(a,b,c))\n",
    "    print('\\nDetailed classification report (on Testing Set)')\n",
    "    y_true, y_pred = y_test, clf.predict(X_test)\n",
    "    print(metrics.classification_report(y_true, y_pred))\n",
    "    print('-----------------------------------------------------')"
   ]
  },
  {
   "cell_type": "markdown",
   "metadata": {},
   "source": [
    "### 8.2 Randomized Parameter Optimization"
   ]
  },
  {
   "cell_type": "markdown",
   "metadata": {},
   "source": [
    "`RandomizedSearchCV` implements a randomized search over parameters, where each setting is sampled from a distribution over possible parameter values. This has two main benefits:\n",
    "\n",
    "* A budget can be chosen independent of the number of parameters and possible values.\n",
    "* Adding parameters that do not influence the performance does not decrease efficiency.\n",
    "\n",
    "Specifying how parameters should be sampled is done using a dictionary. The number of sampling iterations, is specified using the `n_iter` parameter. For each parameter, either a distribution over possible values or a list of discrete choices (which will be sampled uniformly) can be specified. This is a little example of the many statistical distributions available in `scipy`:"
   ]
  },
  {
   "cell_type": "code",
   "execution_count": 46,
   "metadata": {
    "collapsed": false
   },
   "outputs": [
    {
     "data": {
      "text/html": [
       "\n",
       "\n",
       "    <div class=\"bk-root\">\n",
       "        <div class=\"bk-plotdiv\" id=\"83c921d8-290b-4062-a18f-0ad720a59a81\"></div>\n",
       "    </div>\n",
       "<script type=\"text/javascript\">\n",
       "  \n",
       "  (function(global) {\n",
       "    function now() {\n",
       "      return new Date();\n",
       "    }\n",
       "  \n",
       "    var force = false;\n",
       "  \n",
       "    if (typeof (window._bokeh_onload_callbacks) === \"undefined\" || force === true) {\n",
       "      window._bokeh_onload_callbacks = [];\n",
       "      window._bokeh_is_loading = undefined;\n",
       "    }\n",
       "  \n",
       "  \n",
       "    \n",
       "    if (typeof (window._bokeh_timeout) === \"undefined\" || force === true) {\n",
       "      window._bokeh_timeout = Date.now() + 0;\n",
       "      window._bokeh_failed_load = false;\n",
       "    }\n",
       "  \n",
       "    var NB_LOAD_WARNING = {'data': {'text/html':\n",
       "       \"<div style='background-color: #fdd'>\\n\"+\n",
       "       \"<p>\\n\"+\n",
       "       \"BokehJS does not appear to have successfully loaded. If loading BokehJS from CDN, this \\n\"+\n",
       "       \"may be due to a slow or bad network connection. Possible fixes:\\n\"+\n",
       "       \"</p>\\n\"+\n",
       "       \"<ul>\\n\"+\n",
       "       \"<li>re-rerun `output_notebook()` to attempt to load from CDN again, or</li>\\n\"+\n",
       "       \"<li>use INLINE resources instead, as so:</li>\\n\"+\n",
       "       \"</ul>\\n\"+\n",
       "       \"<code>\\n\"+\n",
       "       \"from bokeh.resources import INLINE\\n\"+\n",
       "       \"output_notebook(resources=INLINE)\\n\"+\n",
       "       \"</code>\\n\"+\n",
       "       \"</div>\"}};\n",
       "  \n",
       "    function display_loaded() {\n",
       "      if (window.Bokeh !== undefined) {\n",
       "        document.getElementById(\"83c921d8-290b-4062-a18f-0ad720a59a81\").textContent = \"BokehJS successfully loaded.\";\n",
       "      } else if (Date.now() < window._bokeh_timeout) {\n",
       "        setTimeout(display_loaded, 100)\n",
       "      }\n",
       "    }\n",
       "  \n",
       "    function run_callbacks() {\n",
       "      window._bokeh_onload_callbacks.forEach(function(callback) { callback() });\n",
       "      delete window._bokeh_onload_callbacks\n",
       "      console.info(\"Bokeh: all callbacks have finished\");\n",
       "    }\n",
       "  \n",
       "    function load_libs(js_urls, callback) {\n",
       "      window._bokeh_onload_callbacks.push(callback);\n",
       "      if (window._bokeh_is_loading > 0) {\n",
       "        console.log(\"Bokeh: BokehJS is being loaded, scheduling callback at\", now());\n",
       "        return null;\n",
       "      }\n",
       "      if (js_urls == null || js_urls.length === 0) {\n",
       "        run_callbacks();\n",
       "        return null;\n",
       "      }\n",
       "      console.log(\"Bokeh: BokehJS not loaded, scheduling load and callback at\", now());\n",
       "      window._bokeh_is_loading = js_urls.length;\n",
       "      for (var i = 0; i < js_urls.length; i++) {\n",
       "        var url = js_urls[i];\n",
       "        var s = document.createElement('script');\n",
       "        s.src = url;\n",
       "        s.async = false;\n",
       "        s.onreadystatechange = s.onload = function() {\n",
       "          window._bokeh_is_loading--;\n",
       "          if (window._bokeh_is_loading === 0) {\n",
       "            console.log(\"Bokeh: all BokehJS libraries loaded\");\n",
       "            run_callbacks()\n",
       "          }\n",
       "        };\n",
       "        s.onerror = function() {\n",
       "          console.warn(\"failed to load library \" + url);\n",
       "        };\n",
       "        console.log(\"Bokeh: injecting script tag for BokehJS library: \", url);\n",
       "        document.getElementsByTagName(\"head\")[0].appendChild(s);\n",
       "      }\n",
       "    };var element = document.getElementById(\"83c921d8-290b-4062-a18f-0ad720a59a81\");\n",
       "    if (element == null) {\n",
       "      console.log(\"Bokeh: ERROR: autoload.js configured with elementid '83c921d8-290b-4062-a18f-0ad720a59a81' but no matching script tag was found. \")\n",
       "      return false;\n",
       "    }\n",
       "  \n",
       "    var js_urls = [];\n",
       "  \n",
       "    var inline_js = [\n",
       "      function(Bokeh) {\n",
       "        (function() {\n",
       "          var fn = function() {\n",
       "            var docs_json = {\"fa768974-f8d7-4572-9abc-80583ba808f4\":{\"roots\":{\"references\":[{\"attributes\":{\"overlay\":{\"id\":\"390819dc-f67a-4df8-9f3b-92330c5d1dd3\",\"type\":\"BoxAnnotation\"},\"plot\":{\"id\":\"190b90fe-bcce-427a-9503-f0ac58c0167a\",\"subtype\":\"Chart\",\"type\":\"Plot\"}},\"id\":\"14363703-af8a-45c8-99ff-eeca094da345\",\"type\":\"BoxZoomTool\"},{\"attributes\":{\"data_source\":{\"id\":\"a7feca64-6c20-4bce-b013-5bc190b95361\",\"type\":\"ColumnDataSource\"},\"glyph\":{\"id\":\"9e9b71d7-c594-404c-a21a-8400d9c36ffd\",\"type\":\"Rect\"},\"hover_glyph\":null,\"nonselection_glyph\":null,\"selection_glyph\":null},\"id\":\"cbaabafa-9480-4f87-9906-ef14d3a5d4f2\",\"type\":\"GlyphRenderer\"},{\"attributes\":{\"data_source\":{\"id\":\"89a4667c-a214-48f8-81c3-04a8afa39275\",\"type\":\"ColumnDataSource\"},\"glyph\":{\"id\":\"24525edc-428c-4e70-82a2-7a013f3ee7dc\",\"type\":\"Rect\"},\"hover_glyph\":null,\"nonselection_glyph\":null,\"selection_glyph\":null},\"id\":\"978f4dec-1ac1-4d86-92f0-c8aea9807ee7\",\"type\":\"GlyphRenderer\"},{\"attributes\":{\"fill_alpha\":{\"field\":\"fill_alpha\"},\"fill_color\":{\"field\":\"color\"},\"height\":{\"field\":\"height\",\"units\":\"data\"},\"line_color\":{\"field\":\"line_color\"},\"width\":{\"field\":\"width\",\"units\":\"data\"},\"x\":{\"field\":\"x\"},\"y\":{\"field\":\"y\"}},\"id\":\"7de4c234-a749-47a6-a57e-e9e5d0e7c3b0\",\"type\":\"Rect\"},{\"attributes\":{\"fill_alpha\":{\"field\":\"fill_alpha\"},\"fill_color\":{\"field\":\"color\"},\"height\":{\"field\":\"height\",\"units\":\"data\"},\"line_color\":{\"field\":\"line_color\"},\"width\":{\"field\":\"width\",\"units\":\"data\"},\"x\":{\"field\":\"x\"},\"y\":{\"field\":\"y\"}},\"id\":\"6a918d8e-b835-4a88-8dce-15e2dc974e68\",\"type\":\"Rect\"},{\"attributes\":{\"fill_alpha\":{\"field\":\"fill_alpha\"},\"fill_color\":{\"field\":\"color\"},\"height\":{\"field\":\"height\",\"units\":\"data\"},\"line_color\":{\"field\":\"line_color\"},\"width\":{\"field\":\"width\",\"units\":\"data\"},\"x\":{\"field\":\"x\"},\"y\":{\"field\":\"y\"}},\"id\":\"28ea097e-5165-4368-9301-611339bcf525\",\"type\":\"Rect\"},{\"attributes\":{},\"id\":\"f5462266-98d5-4f7f-bb45-cd4c977cacbf\",\"type\":\"ToolEvents\"},{\"attributes\":{\"fill_alpha\":{\"field\":\"fill_alpha\"},\"fill_color\":{\"field\":\"color\"},\"height\":{\"field\":\"height\",\"units\":\"data\"},\"line_color\":{\"field\":\"line_color\"},\"width\":{\"field\":\"width\",\"units\":\"data\"},\"x\":{\"field\":\"x\"},\"y\":{\"field\":\"y\"}},\"id\":\"fc5a2983-536b-4331-a80b-8c622888dc2d\",\"type\":\"Rect\"},{\"attributes\":{\"callback\":null,\"column_names\":[\"width\",\"label\",\"line_color\",\"line_alpha\",\"color\",\"y\",\"height\",\"x\",\"fill_alpha\"],\"data\":{\"chart_index\":[\"(115.804539, 117.781519]\"],\"color\":[\"#f22c40\"],\"fill_alpha\":[0.8],\"height\":[41.0],\"label\":[\"(115.804539, 117.781519]\"],\"line_alpha\":[1.0],\"line_color\":[\"black\"],\"width\":[1.976980165044921],\"x\":[\"116.793029\"],\"y\":[20.5]}},\"id\":\"73303ae9-02b1-4f55-b3d5-acb940a17bfb\",\"type\":\"ColumnDataSource\"},{\"attributes\":{\"data_source\":{\"id\":\"cc017f27-7253-481a-85f9-b4d5a090a980\",\"type\":\"ColumnDataSource\"},\"glyph\":{\"id\":\"f6011651-da1e-4a7d-9ff1-22a8181fb8b8\",\"type\":\"Rect\"},\"hover_glyph\":null,\"nonselection_glyph\":null,\"selection_glyph\":null},\"id\":\"2b6b7f3c-8bd1-48a6-ae3c-10f92e7fcc27\",\"type\":\"GlyphRenderer\"},{\"attributes\":{\"axis_label\":\"Count( A )\",\"formatter\":{\"id\":\"e2638f2e-95d2-43d3-91a9-a2249f03b00b\",\"type\":\"BasicTickFormatter\"},\"plot\":{\"id\":\"e4892d86-69c9-4ad7-b82d-3161fd46f8c3\",\"subtype\":\"Chart\",\"type\":\"Plot\"},\"ticker\":{\"id\":\"55089a6a-d7b7-47b9-91cc-04a2a2877bf9\",\"type\":\"BasicTicker\"}},\"id\":\"6c5dcf5a-a67a-4f96-a83f-72f05e648931\",\"type\":\"LinearAxis\"},{\"attributes\":{\"fill_alpha\":{\"field\":\"fill_alpha\"},\"fill_color\":{\"field\":\"color\"},\"height\":{\"field\":\"height\",\"units\":\"data\"},\"line_color\":{\"field\":\"line_color\"},\"width\":{\"field\":\"width\",\"units\":\"data\"},\"x\":{\"field\":\"x\"},\"y\":{\"field\":\"y\"}},\"id\":\"9e9b71d7-c594-404c-a21a-8400d9c36ffd\",\"type\":\"Rect\"},{\"attributes\":{\"data_source\":{\"id\":\"82ce0ec1-5ec9-460a-94d7-6eb4d0a70cfc\",\"type\":\"ColumnDataSource\"},\"glyph\":{\"id\":\"db0a2cb7-2e9f-4f1d-9c8b-0df240b215af\",\"type\":\"Rect\"},\"hover_glyph\":null,\"nonselection_glyph\":null,\"selection_glyph\":null},\"id\":\"9593e96c-5cd9-461c-a2d8-3b652f00d2e3\",\"type\":\"GlyphRenderer\"},{\"attributes\":{\"callback\":null,\"column_names\":[\"width\",\"label\",\"line_color\",\"line_alpha\",\"color\",\"y\",\"height\",\"x\",\"fill_alpha\"],\"data\":{\"chart_index\":[\"(323.769641, 341.756581]\"],\"color\":[\"#f22c40\"],\"fill_alpha\":[0.8],\"height\":[55.0],\"label\":[\"(323.769641, 341.756581]\"],\"line_alpha\":[1.0],\"line_color\":[\"black\"],\"width\":[17.98694043395591],\"x\":[\"332.763111\"],\"y\":[27.5]}},\"id\":\"62787bd1-6a20-4829-b863-34f6505fdc1c\",\"type\":\"ColumnDataSource\"},{\"attributes\":{\"data_source\":{\"id\":\"8387236c-271f-4692-bba2-95ad34d9d3ca\",\"type\":\"ColumnDataSource\"},\"glyph\":{\"id\":\"5c789e5b-f063-47e6-bf92-6e815948d3c1\",\"type\":\"Rect\"},\"hover_glyph\":null,\"nonselection_glyph\":null,\"selection_glyph\":null},\"id\":\"0bd7567f-7c54-4a77-8a75-15470948ea45\",\"type\":\"GlyphRenderer\"},{\"attributes\":{\"data_source\":{\"id\":\"11e7f52f-1363-452d-9692-361bdb8d298c\",\"type\":\"ColumnDataSource\"},\"glyph\":{\"id\":\"960b9246-843a-4384-a35a-ef05463b90c0\",\"type\":\"Rect\"},\"hover_glyph\":null,\"nonselection_glyph\":null,\"selection_glyph\":null},\"id\":\"d9f16ba5-95b2-4281-a8f4-307e79a90e99\",\"type\":\"GlyphRenderer\"},{\"attributes\":{\"data_source\":{\"id\":\"46a44d18-6b99-406b-8868-077fb6d61155\",\"type\":\"ColumnDataSource\"},\"glyph\":{\"id\":\"6af451f5-66f1-4797-9caf-9c52a3c24de3\",\"type\":\"Rect\"},\"hover_glyph\":null,\"nonselection_glyph\":null,\"selection_glyph\":null},\"id\":\"264a47a3-f7ba-4d6e-8e93-2363fe9d5dbf\",\"type\":\"GlyphRenderer\"},{\"attributes\":{\"callback\":null,\"column_names\":[\"width\",\"label\",\"line_color\",\"line_alpha\",\"color\",\"y\",\"height\",\"x\",\"fill_alpha\"],\"data\":{\"chart_index\":[\"(17.873125, 19.523919]\"],\"color\":[\"#f22c40\"],\"fill_alpha\":[0.8],\"height\":[72.0],\"label\":[\"(17.873125, 19.523919]\"],\"line_alpha\":[1.0],\"line_color\":[\"black\"],\"width\":[1.6507939572147414],\"x\":[\"18.698522\"],\"y\":[36.0]}},\"id\":\"8f5430cc-cb6c-48de-b7d0-db33bc9bb655\",\"type\":\"ColumnDataSource\"},{\"attributes\":{\"data_source\":{\"id\":\"da816f4a-7ef8-469f-85d0-1a9cefe0fd2a\",\"type\":\"ColumnDataSource\"},\"glyph\":{\"id\":\"cc0fd7e1-374f-4a2e-9b4d-f2b42b9aa36d\",\"type\":\"Rect\"},\"hover_glyph\":null,\"nonselection_glyph\":null,\"selection_glyph\":null},\"id\":\"4fac830e-93a7-4c82-8611-9719af7d0726\",\"type\":\"GlyphRenderer\"},{\"attributes\":{\"callback\":null,\"end\":123.48608976796007,\"start\":16.507391232039932},\"id\":\"c0a1455a-8768-453f-ba8a-53453f4ea0d5\",\"type\":\"Range1d\"},{\"attributes\":{\"fill_alpha\":{\"field\":\"fill_alpha\"},\"fill_color\":{\"field\":\"color\"},\"height\":{\"field\":\"height\",\"units\":\"data\"},\"line_color\":{\"field\":\"line_color\"},\"width\":{\"field\":\"width\",\"units\":\"data\"},\"x\":{\"field\":\"x\"},\"y\":{\"field\":\"y\"}},\"id\":\"50406115-9fb8-4a74-aa9f-85589e4bb5ec\",\"type\":\"Rect\"},{\"attributes\":{\"callback\":null,\"column_names\":[\"width\",\"label\",\"line_color\",\"line_alpha\",\"color\",\"y\",\"height\",\"x\",\"fill_alpha\"],\"data\":{\"chart_index\":[\"(48.587213, 50.564194]\"],\"color\":[\"#f22c40\"],\"fill_alpha\":[0.8],\"height\":[257.0],\"label\":[\"(48.587213, 50.564194]\"],\"line_alpha\":[1.0],\"line_color\":[\"black\"],\"width\":[1.976980165044921],\"x\":[\"49.5757035\"],\"y\":[128.5]}},\"id\":\"79e8d053-c0e5-4d20-b5de-f5e2d233541f\",\"type\":\"ColumnDataSource\"},{\"attributes\":{\"fill_alpha\":{\"field\":\"fill_alpha\"},\"fill_color\":{\"field\":\"color\"},\"height\":{\"field\":\"height\",\"units\":\"data\"},\"line_color\":{\"field\":\"line_color\"},\"width\":{\"field\":\"width\",\"units\":\"data\"},\"x\":{\"field\":\"x\"},\"y\":{\"field\":\"y\"}},\"id\":\"63b3fc2f-1609-46c0-88bb-8763564f7072\",\"type\":\"Rect\"},{\"attributes\":{\"data_source\":{\"id\":\"8f5430cc-cb6c-48de-b7d0-db33bc9bb655\",\"type\":\"ColumnDataSource\"},\"glyph\":{\"id\":\"78800ebf-44ea-4bf6-be61-25de85b47df7\",\"type\":\"Rect\"},\"hover_glyph\":null,\"nonselection_glyph\":null,\"selection_glyph\":null},\"id\":\"fd0339ae-751e-441f-9825-e661d69d2073\",\"type\":\"GlyphRenderer\"},{\"attributes\":{\"fill_alpha\":{\"field\":\"fill_alpha\"},\"fill_color\":{\"field\":\"color\"},\"height\":{\"field\":\"height\",\"units\":\"data\"},\"line_color\":{\"field\":\"line_color\"},\"width\":{\"field\":\"width\",\"units\":\"data\"},\"x\":{\"field\":\"x\"},\"y\":{\"field\":\"y\"}},\"id\":\"89cf9126-9d96-4174-a9b8-592ac7d68382\",\"type\":\"Rect\"},{\"attributes\":{\"data_source\":{\"id\":\"f93c929c-061c-4ab4-91f8-8e1bef1ffaa4\",\"type\":\"ColumnDataSource\"},\"glyph\":{\"id\":\"65db9a76-4930-4cfc-9296-42f16aedacfe\",\"type\":\"Rect\"},\"hover_glyph\":null,\"nonselection_glyph\":null,\"selection_glyph\":null},\"id\":\"9da5f635-f34f-46b1-b811-f0b6b4d4fd60\",\"type\":\"GlyphRenderer\"},{\"attributes\":{\"callback\":null,\"column_names\":[\"width\",\"label\",\"line_color\",\"line_alpha\",\"color\",\"y\",\"height\",\"x\",\"fill_alpha\"],\"data\":{\"chart_index\":[\"(81.994223, 83.993804]\"],\"color\":[\"#f22c40\"],\"fill_alpha\":[0.8],\"height\":[201.0],\"label\":[\"(81.994223, 83.993804]\"],\"line_alpha\":[1.0],\"line_color\":[\"black\"],\"width\":[1.9995804859201343],\"x\":[\"82.9940135\"],\"y\":[100.5]}},\"id\":\"01302e98-1c69-4829-b7be-a28eee440340\",\"type\":\"ColumnDataSource\"},{\"attributes\":{\"callback\":null,\"column_names\":[\"width\",\"label\",\"line_color\",\"line_alpha\",\"color\",\"y\",\"height\",\"x\",\"fill_alpha\"],\"data\":{\"chart_index\":[\"(36.003872, 38.003453]\"],\"color\":[\"#f22c40\"],\"fill_alpha\":[0.8],\"height\":[189.0],\"label\":[\"(36.003872, 38.003453]\"],\"line_alpha\":[1.0],\"line_color\":[\"black\"],\"width\":[1.9995804859201343],\"x\":[\"37.003662500000004\"],\"y\":[94.5]}},\"id\":\"ea2d3926-f9d8-4a17-a1c1-b35dee40a966\",\"type\":\"ColumnDataSource\"},{\"attributes\":{\"data_source\":{\"id\":\"467b20e4-2d09-406a-99d5-eec0e396da56\",\"type\":\"ColumnDataSource\"},\"glyph\":{\"id\":\"c34edbdf-a3dd-425e-84a0-ee5d7e697d50\",\"type\":\"Rect\"},\"hover_glyph\":null,\"nonselection_glyph\":null,\"selection_glyph\":null},\"id\":\"6d367d3f-ef44-4e89-b94c-27934ff55430\",\"type\":\"GlyphRenderer\"},{\"attributes\":{\"data_source\":{\"id\":\"a66f7248-87a9-4f76-b86b-0dd2a514aeea\",\"type\":\"ColumnDataSource\"},\"glyph\":{\"id\":\"cf55a73e-9a3d-4b62-b18c-b6bade552997\",\"type\":\"Rect\"},\"hover_glyph\":null,\"nonselection_glyph\":null,\"selection_glyph\":null},\"id\":\"3f8519a9-7411-41e4-bbbf-2f5f42271cf7\",\"type\":\"GlyphRenderer\"},{\"attributes\":{\"fill_alpha\":{\"field\":\"fill_alpha\"},\"fill_color\":{\"field\":\"color\"},\"height\":{\"field\":\"height\",\"units\":\"data\"},\"line_color\":{\"field\":\"line_color\"},\"width\":{\"field\":\"width\",\"units\":\"data\"},\"x\":{\"field\":\"x\"},\"y\":{\"field\":\"y\"}},\"id\":\"0b746e25-50bb-4ee0-b5f5-82b162f34ad5\",\"type\":\"Rect\"},{\"attributes\":{\"callback\":null,\"column_names\":[\"width\",\"label\",\"line_color\",\"line_alpha\",\"color\",\"y\",\"height\",\"x\",\"fill_alpha\"],\"data\":{\"chart_index\":[\"(37.682652, 39.333446]\"],\"color\":[\"#f22c40\"],\"fill_alpha\":[0.8],\"height\":[641.0],\"label\":[\"(37.682652, 39.333446]\"],\"line_alpha\":[1.0],\"line_color\":[\"black\"],\"width\":[1.6507939572147379],\"x\":[\"38.508049\"],\"y\":[320.5]}},\"id\":\"3d57a15e-597c-4ac5-abc3-d41ed30ed939\",\"type\":\"ColumnDataSource\"},{\"attributes\":{\"fill_alpha\":{\"field\":\"fill_alpha\"},\"fill_color\":{\"field\":\"color\"},\"height\":{\"field\":\"height\",\"units\":\"data\"},\"line_color\":{\"field\":\"line_color\"},\"width\":{\"field\":\"width\",\"units\":\"data\"},\"x\":{\"field\":\"x\"},\"y\":{\"field\":\"y\"}},\"id\":\"d0d1d631-0a15-4106-ac51-b6a54b399041\",\"type\":\"Rect\"},{\"attributes\":{},\"id\":\"86fb91f1-b757-4d75-8a6d-397432ca4f01\",\"type\":\"BasicTicker\"},{\"attributes\":{\"data_source\":{\"id\":\"7ff5034a-14e4-44be-9e4e-839db056ae50\",\"type\":\"ColumnDataSource\"},\"glyph\":{\"id\":\"12f33c9a-9e44-431d-a7cd-62673e94b9b4\",\"type\":\"Rect\"},\"hover_glyph\":null,\"nonselection_glyph\":null,\"selection_glyph\":null},\"id\":\"34538290-abae-4d3e-9fb7-b2965fa18055\",\"type\":\"GlyphRenderer\"},{\"attributes\":{\"data_source\":{\"id\":\"a441f7c1-a8e9-4981-ad1f-b007f95f1566\",\"type\":\"ColumnDataSource\"},\"glyph\":{\"id\":\"08644004-cac8-45f3-be4e-dcddc4cb5182\",\"type\":\"Rect\"},\"hover_glyph\":null,\"nonselection_glyph\":null,\"selection_glyph\":null},\"id\":\"b5e8b76c-02c8-40a5-aa62-afd22a8aa821\",\"type\":\"GlyphRenderer\"},{\"attributes\":{\"data_source\":{\"id\":\"2d10b429-cd59-49a9-9886-18a53994cdfa\",\"type\":\"ColumnDataSource\"},\"glyph\":{\"id\":\"56551520-b372-4c9b-812d-6341056a5a88\",\"type\":\"Rect\"},\"hover_glyph\":null,\"nonselection_glyph\":null,\"selection_glyph\":null},\"id\":\"b34fb620-ef2a-4be6-8c33-ec78cd766107\",\"type\":\"GlyphRenderer\"},{\"attributes\":{\"callback\":null,\"column_names\":[\"width\",\"label\",\"line_color\",\"line_alpha\",\"color\",\"y\",\"height\",\"x\",\"fill_alpha\"],\"data\":{\"chart_index\":[\"(69.996741, 71.996321]\"],\"color\":[\"#f22c40\"],\"fill_alpha\":[0.8],\"height\":[189.0],\"label\":[\"(69.996741, 71.996321]\"],\"line_alpha\":[1.0],\"line_color\":[\"black\"],\"width\":[1.9995804859201343],\"x\":[\"70.996531\"],\"y\":[94.5]}},\"id\":\"48ae413e-196d-4722-bf70-cbb868b69853\",\"type\":\"ColumnDataSource\"},{\"attributes\":{\"fill_alpha\":{\"field\":\"fill_alpha\"},\"fill_color\":{\"field\":\"color\"},\"height\":{\"field\":\"height\",\"units\":\"data\"},\"line_color\":{\"field\":\"line_color\"},\"width\":{\"field\":\"width\",\"units\":\"data\"},\"x\":{\"field\":\"x\"},\"y\":{\"field\":\"y\"}},\"id\":\"9376148b-b0fe-40ab-a63d-9aac6e8f9ec5\",\"type\":\"Rect\"},{\"attributes\":{\"data_source\":{\"id\":\"e86744fc-3a88-4631-857f-fa1b25e499d2\",\"type\":\"ColumnDataSource\"},\"glyph\":{\"id\":\"e416985a-8fb8-4601-91ec-94027829b718\",\"type\":\"Rect\"},\"hover_glyph\":null,\"nonselection_glyph\":null,\"selection_glyph\":null},\"id\":\"bcdf30c4-e145-41f4-8d27-64ffbe53f272\",\"type\":\"GlyphRenderer\"},{\"attributes\":{\"callback\":null,\"column_names\":[\"width\",\"label\",\"line_color\",\"line_alpha\",\"color\",\"y\",\"height\",\"x\",\"fill_alpha\"],\"data\":{\"chart_index\":[\"(32.730271, 34.381065]\"],\"color\":[\"#f22c40\"],\"fill_alpha\":[0.8],\"height\":[555.0],\"label\":[\"(32.730271, 34.381065]\"],\"line_alpha\":[1.0],\"line_color\":[\"black\"],\"width\":[1.650793957214745],\"x\":[\"33.555668\"],\"y\":[277.5]}},\"id\":\"d15cdf46-33d6-44a6-8425-7c69166767e4\",\"type\":\"ColumnDataSource\"},{\"attributes\":{\"data_source\":{\"id\":\"b3b8a211-d48b-466c-a5df-d5303aeab0ac\",\"type\":\"ColumnDataSource\"},\"glyph\":{\"id\":\"baf6df35-759f-4c57-9bce-911e1dd56012\",\"type\":\"Rect\"},\"hover_glyph\":null,\"nonselection_glyph\":null,\"selection_glyph\":null},\"id\":\"4dafbcc6-0238-415b-b10e-7e2c6f31d642\",\"type\":\"GlyphRenderer\"},{\"attributes\":{\"callback\":null,\"column_names\":[\"width\",\"label\",\"line_color\",\"line_alpha\",\"color\",\"y\",\"height\",\"x\",\"fill_alpha\"],\"data\":{\"chart_index\":[\"(111.987931, 113.987511]\"],\"color\":[\"#f22c40\"],\"fill_alpha\":[0.8],\"height\":[205.0],\"label\":[\"(111.987931, 113.987511]\"],\"line_alpha\":[1.0],\"line_color\":[\"black\"],\"width\":[1.9995804859201343],\"x\":[\"112.987721\"],\"y\":[102.5]}},\"id\":\"7ff5034a-14e4-44be-9e4e-839db056ae50\",\"type\":\"ColumnDataSource\"},{\"attributes\":{\"fill_alpha\":{\"field\":\"fill_alpha\"},\"fill_color\":{\"field\":\"color\"},\"height\":{\"field\":\"height\",\"units\":\"data\"},\"line_color\":{\"field\":\"line_color\"},\"width\":{\"field\":\"width\",\"units\":\"data\"},\"x\":{\"field\":\"x\"},\"y\":{\"field\":\"y\"}},\"id\":\"569fa248-f814-4072-b565-7f86d83a8906\",\"type\":\"Rect\"},{\"attributes\":{\"fill_alpha\":{\"field\":\"fill_alpha\"},\"fill_color\":{\"field\":\"color\"},\"height\":{\"field\":\"height\",\"units\":\"data\"},\"line_color\":{\"field\":\"line_color\"},\"width\":{\"field\":\"width\",\"units\":\"data\"},\"x\":{\"field\":\"x\"},\"y\":{\"field\":\"y\"}},\"id\":\"c4b4dc35-3bca-4245-8c4e-46e2d37074a5\",\"type\":\"Rect\"},{\"attributes\":{\"data_source\":{\"id\":\"77b5cfae-80a0-441d-944d-27152197b256\",\"type\":\"ColumnDataSource\"},\"glyph\":{\"id\":\"f98b3cc5-90ee-4c5a-a1b1-0dbc0781fffb\",\"type\":\"Rect\"},\"hover_glyph\":null,\"nonselection_glyph\":null,\"selection_glyph\":null},\"id\":\"302e2522-4bcf-4b18-ba80-61d6f91a27cb\",\"type\":\"GlyphRenderer\"},{\"attributes\":{\"data_source\":{\"id\":\"8ac8a8c2-65e1-4c78-94c2-b8aa7295a6db\",\"type\":\"ColumnDataSource\"},\"glyph\":{\"id\":\"43c720dc-b3f4-4095-8de0-ed8b4b76eced\",\"type\":\"Rect\"},\"hover_glyph\":null,\"nonselection_glyph\":null,\"selection_glyph\":null},\"id\":\"3a2c4211-637d-496b-a730-023e7e851aeb\",\"type\":\"GlyphRenderer\"},{\"attributes\":{\"data_source\":{\"id\":\"b0cb07c4-1ef6-48e1-be6d-386d117200b0\",\"type\":\"ColumnDataSource\"},\"glyph\":{\"id\":\"df740a1a-09b0-4876-83dc-52481ff609f8\",\"type\":\"Rect\"},\"hover_glyph\":null,\"nonselection_glyph\":null,\"selection_glyph\":null},\"id\":\"5c09877f-1d42-4690-a95b-711c06f3de85\",\"type\":\"GlyphRenderer\"},{\"attributes\":{\"fill_alpha\":{\"field\":\"fill_alpha\"},\"fill_color\":{\"field\":\"color\"},\"height\":{\"field\":\"height\",\"units\":\"data\"},\"line_color\":{\"field\":\"line_color\"},\"width\":{\"field\":\"width\",\"units\":\"data\"},\"x\":{\"field\":\"x\"},\"y\":{\"field\":\"y\"}},\"id\":\"fff1c9bd-f9f3-4d49-9c2b-4bf15f88b9e7\",\"type\":\"Rect\"},{\"attributes\":{\"callback\":null,\"column_names\":[\"width\",\"label\",\"line_color\",\"line_alpha\",\"color\",\"y\",\"height\",\"x\",\"fill_alpha\"],\"data\":{\"chart_index\":[\"(143.900237, 161.887177]\"],\"color\":[\"#f22c40\"],\"fill_alpha\":[0.8],\"height\":[393.0],\"label\":[\"(143.900237, 161.887177]\"],\"line_alpha\":[1.0],\"line_color\":[\"black\"],\"width\":[17.98694043395591],\"x\":[\"152.893707\"],\"y\":[196.5]}},\"id\":\"b3b8a211-d48b-466c-a5df-d5303aeab0ac\",\"type\":\"ColumnDataSource\"},{\"attributes\":{\"callback\":null,\"column_names\":[\"width\",\"label\",\"line_color\",\"line_alpha\",\"color\",\"y\",\"height\",\"x\",\"fill_alpha\"],\"data\":{\"chart_index\":[\"[20.007228, 22.006809]\"],\"color\":[\"#f22c40\"],\"fill_alpha\":[0.8],\"height\":[213.0],\"label\":[\"[20.007228, 22.006809]\"],\"line_alpha\":[1.0],\"line_color\":[\"black\"],\"width\":[1.9995804859201343],\"x\":[\"21.0070185\"],\"y\":[106.5]}},\"id\":\"284f4968-1641-4ef9-8118-32f2ddc79331\",\"type\":\"ColumnDataSource\"},{\"attributes\":{\"data_source\":{\"id\":\"a3040e0a-bedd-4982-9017-26a2c1ade2af\",\"type\":\"ColumnDataSource\"},\"glyph\":{\"id\":\"dfc3ce65-190d-4a33-a759-eea101cbe50d\",\"type\":\"Rect\"},\"hover_glyph\":null,\"nonselection_glyph\":null,\"selection_glyph\":null},\"id\":\"cb8e7284-efbf-4140-aca3-cf0d73e31776\",\"type\":\"GlyphRenderer\"},{\"attributes\":{\"fill_alpha\":{\"field\":\"fill_alpha\"},\"fill_color\":{\"field\":\"color\"},\"height\":{\"field\":\"height\",\"units\":\"data\"},\"line_color\":{\"field\":\"line_color\"},\"width\":{\"field\":\"width\",\"units\":\"data\"},\"x\":{\"field\":\"x\"},\"y\":{\"field\":\"y\"}},\"id\":\"a7a851d3-7c6a-422d-9e9e-c35f3acb96d4\",\"type\":\"Rect\"},{\"attributes\":{\"data_source\":{\"id\":\"989dcced-c13d-485c-a06d-e4e773c07dcc\",\"type\":\"ColumnDataSource\"},\"glyph\":{\"id\":\"31074a4e-f0d2-41d8-96e8-1994704a9e47\",\"type\":\"Rect\"},\"hover_glyph\":null,\"nonselection_glyph\":null,\"selection_glyph\":null},\"id\":\"fa72f7fe-efd7-4053-92b6-66a62d34ebf0\",\"type\":\"GlyphRenderer\"},{\"attributes\":{\"fill_alpha\":{\"field\":\"fill_alpha\"},\"fill_color\":{\"field\":\"color\"},\"height\":{\"field\":\"height\",\"units\":\"data\"},\"line_color\":{\"field\":\"line_color\"},\"width\":{\"field\":\"width\",\"units\":\"data\"},\"x\":{\"field\":\"x\"},\"y\":{\"field\":\"y\"}},\"id\":\"24525edc-428c-4e70-82a2-7a013f3ee7dc\",\"type\":\"Rect\"},{\"attributes\":{\"fill_alpha\":{\"field\":\"fill_alpha\"},\"fill_color\":{\"field\":\"color\"},\"height\":{\"field\":\"height\",\"units\":\"data\"},\"line_color\":{\"field\":\"line_color\"},\"width\":{\"field\":\"width\",\"units\":\"data\"},\"x\":{\"field\":\"x\"},\"y\":{\"field\":\"y\"}},\"id\":\"5c8ce299-4a4f-491a-8dd4-5abf3d3d07a5\",\"type\":\"Rect\"},{\"attributes\":{\"callback\":null,\"column_names\":[\"width\",\"label\",\"line_color\",\"line_alpha\",\"color\",\"y\",\"height\",\"x\",\"fill_alpha\"],\"data\":{\"chart_index\":[\"(40.679293, 42.656273]\"],\"color\":[\"#f22c40\"],\"fill_alpha\":[0.8],\"height\":[206.0],\"label\":[\"(40.679293, 42.656273]\"],\"line_alpha\":[1.0],\"line_color\":[\"black\"],\"width\":[1.976980165044921],\"x\":[\"41.667783\"],\"y\":[103.0]}},\"id\":\"1f0df2d6-6749-4afe-b2bd-2bdac5356802\",\"type\":\"ColumnDataSource\"},{\"attributes\":{\"fill_alpha\":{\"field\":\"fill_alpha\"},\"fill_color\":{\"field\":\"color\"},\"height\":{\"field\":\"height\",\"units\":\"data\"},\"line_color\":{\"field\":\"line_color\"},\"width\":{\"field\":\"width\",\"units\":\"data\"},\"x\":{\"field\":\"x\"},\"y\":{\"field\":\"y\"}},\"id\":\"5e5cf27b-6451-4246-a032-3677ed60e661\",\"type\":\"Rect\"},{\"attributes\":{\"fill_alpha\":{\"field\":\"fill_alpha\"},\"fill_color\":{\"field\":\"color\"},\"height\":{\"field\":\"height\",\"units\":\"data\"},\"line_color\":{\"field\":\"line_color\"},\"width\":{\"field\":\"width\",\"units\":\"data\"},\"x\":{\"field\":\"x\"},\"y\":{\"field\":\"y\"}},\"id\":\"37635071-9e3d-4734-b937-afc8c5f58802\",\"type\":\"Rect\"},{\"attributes\":{\"fill_alpha\":{\"field\":\"fill_alpha\"},\"fill_color\":{\"field\":\"color\"},\"height\":{\"field\":\"height\",\"units\":\"data\"},\"line_color\":{\"field\":\"line_color\"},\"width\":{\"field\":\"width\",\"units\":\"data\"},\"x\":{\"field\":\"x\"},\"y\":{\"field\":\"y\"}},\"id\":\"72632ff9-8df6-477c-a56f-3595e1afa9cf\",\"type\":\"Rect\"},{\"attributes\":{\"data_source\":{\"id\":\"1d7dcfe9-035e-4ac6-8d55-071287110088\",\"type\":\"ColumnDataSource\"},\"glyph\":{\"id\":\"5e5cf27b-6451-4246-a032-3677ed60e661\",\"type\":\"Rect\"},\"hover_glyph\":null,\"nonselection_glyph\":null,\"selection_glyph\":null},\"id\":\"aa3e7a8c-5ff6-4d15-adb7-362bd00d7376\",\"type\":\"GlyphRenderer\"},{\"attributes\":{\"data_source\":{\"id\":\"7b901a8f-67af-4542-863a-0c0d15f6bc4d\",\"type\":\"ColumnDataSource\"},\"glyph\":{\"id\":\"86550a64-b288-479a-825b-2ae2ed9db4d6\",\"type\":\"Rect\"},\"hover_glyph\":null,\"nonselection_glyph\":null,\"selection_glyph\":null},\"id\":\"720813a6-b45a-4151-84e1-c9d7429d4b5c\",\"type\":\"GlyphRenderer\"},{\"attributes\":{\"data_source\":{\"id\":\"079bffbc-7054-4f7f-bd52-556221a926cb\",\"type\":\"ColumnDataSource\"},\"glyph\":{\"id\":\"bb031417-4818-42f9-b3ab-3b1910b77a11\",\"type\":\"Rect\"},\"hover_glyph\":null,\"nonselection_glyph\":null,\"selection_glyph\":null},\"id\":\"276c0bd7-75c3-4a73-9eec-2758ebfb2c66\",\"type\":\"GlyphRenderer\"},{\"attributes\":{\"callback\":null,\"column_names\":[\"width\",\"label\",\"line_color\",\"line_alpha\",\"color\",\"y\",\"height\",\"x\",\"fill_alpha\"],\"data\":{\"chart_index\":[\"(269.808820, 287.795760]\"],\"color\":[\"#f22c40\"],\"fill_alpha\":[0.8],\"height\":[120.0],\"label\":[\"(269.808820, 287.795760]\"],\"line_alpha\":[1.0],\"line_color\":[\"black\"],\"width\":[17.98694043395591],\"x\":[\"278.80228999999997\"],\"y\":[60.0]}},\"id\":\"2e89cf15-2a3a-4b26-9134-102816c03df0\",\"type\":\"ColumnDataSource\"},{\"attributes\":{\"callback\":null,\"column_names\":[\"width\",\"label\",\"line_color\",\"line_alpha\",\"color\",\"y\",\"height\",\"x\",\"fill_alpha\"],\"data\":{\"chart_index\":[\"(59.142974, 60.793768]\"],\"color\":[\"#f22c40\"],\"fill_alpha\":[0.8],\"height\":[100.0],\"label\":[\"(59.142974, 60.793768]\"],\"line_alpha\":[1.0],\"line_color\":[\"black\"],\"width\":[1.650793957214745],\"x\":[\"59.968371000000005\"],\"y\":[50.0]}},\"id\":\"490c722e-6a7c-4361-9026-87f40142aea4\",\"type\":\"ColumnDataSource\"},{\"attributes\":{\"fill_alpha\":{\"field\":\"fill_alpha\"},\"fill_color\":{\"field\":\"color\"},\"height\":{\"field\":\"height\",\"units\":\"data\"},\"line_color\":{\"field\":\"line_color\"},\"width\":{\"field\":\"width\",\"units\":\"data\"},\"x\":{\"field\":\"x\"},\"y\":{\"field\":\"y\"}},\"id\":\"db089c83-a303-4318-954b-359ddd08808c\",\"type\":\"Rect\"},{\"attributes\":{\"callback\":null,\"column_names\":[\"width\",\"label\",\"line_color\",\"line_alpha\",\"color\",\"y\",\"height\",\"x\",\"fill_alpha\"],\"data\":{\"chart_index\":[\"(97.990867, 99.990448]\"],\"color\":[\"#f22c40\"],\"fill_alpha\":[0.8],\"height\":[212.0],\"label\":[\"(97.990867, 99.990448]\"],\"line_alpha\":[1.0],\"line_color\":[\"black\"],\"width\":[1.9995804859201343],\"x\":[\"98.9906575\"],\"y\":[106.0]}},\"id\":\"e0a7a6f6-40f0-4c80-9267-250e551b78d9\",\"type\":\"ColumnDataSource\"},{\"attributes\":{\"data_source\":{\"id\":\"0e6fd8af-8f0c-4acf-8a06-48b85308e50f\",\"type\":\"ColumnDataSource\"},\"glyph\":{\"id\":\"6ab2fb6b-43c8-4ae7-836d-11aed3ee031d\",\"type\":\"Rect\"},\"hover_glyph\":null,\"nonselection_glyph\":null,\"selection_glyph\":null},\"id\":\"588ba242-14d3-45d3-b353-2c3213d20677\",\"type\":\"GlyphRenderer\"},{\"attributes\":{\"callback\":null,\"column_names\":[\"width\",\"label\",\"line_color\",\"line_alpha\",\"color\",\"y\",\"height\",\"x\",\"fill_alpha\"],\"data\":{\"chart_index\":[\"(36.725332, 38.702313]\"],\"color\":[\"#f22c40\"],\"fill_alpha\":[0.8],\"height\":[174.0],\"label\":[\"(36.725332, 38.702313]\"],\"line_alpha\":[1.0],\"line_color\":[\"black\"],\"width\":[1.976980165044921],\"x\":[\"37.7138225\"],\"y\":[87.0]}},\"id\":\"c44ea11b-5182-451c-95d3-8162949094b6\",\"type\":\"ColumnDataSource\"},{\"attributes\":{\"fill_alpha\":{\"field\":\"fill_alpha\"},\"fill_color\":{\"field\":\"color\"},\"height\":{\"field\":\"height\",\"units\":\"data\"},\"line_color\":{\"field\":\"line_color\"},\"width\":{\"field\":\"width\",\"units\":\"data\"},\"x\":{\"field\":\"x\"},\"y\":{\"field\":\"y\"}},\"id\":\"01ee4b3a-168a-44ab-854e-e948cae515a3\",\"type\":\"Rect\"},{\"attributes\":{\"data_source\":{\"id\":\"3d57a15e-597c-4ac5-abc3-d41ed30ed939\",\"type\":\"ColumnDataSource\"},\"glyph\":{\"id\":\"10cbfa04-5a41-43db-a011-9055ef0f6128\",\"type\":\"Rect\"},\"hover_glyph\":null,\"nonselection_glyph\":null,\"selection_glyph\":null},\"id\":\"7079fb0b-ea33-4c5e-aa27-8da6fa763315\",\"type\":\"GlyphRenderer\"},{\"attributes\":{\"data_source\":{\"id\":\"69e12f15-86e1-48dd-b0b3-d35276b07b3f\",\"type\":\"ColumnDataSource\"},\"glyph\":{\"id\":\"a3ec81b4-2caa-4def-b8dd-5bb5b301b7c2\",\"type\":\"Rect\"},\"hover_glyph\":null,\"nonselection_glyph\":null,\"selection_glyph\":null},\"id\":\"a190d12e-8ef7-47da-af00-ef97430ec1e3\",\"type\":\"GlyphRenderer\"},{\"attributes\":{\"fill_alpha\":{\"field\":\"fill_alpha\"},\"fill_color\":{\"field\":\"color\"},\"height\":{\"field\":\"height\",\"units\":\"data\"},\"line_color\":{\"field\":\"line_color\"},\"width\":{\"field\":\"width\",\"units\":\"data\"},\"x\":{\"field\":\"x\"},\"y\":{\"field\":\"y\"}},\"id\":\"cc925690-33f3-4d03-922e-2954d4bb48c2\",\"type\":\"Rect\"},{\"attributes\":{\"fill_alpha\":{\"field\":\"fill_alpha\"},\"fill_color\":{\"field\":\"color\"},\"height\":{\"field\":\"height\",\"units\":\"data\"},\"line_color\":{\"field\":\"line_color\"},\"width\":{\"field\":\"width\",\"units\":\"data\"},\"x\":{\"field\":\"x\"},\"y\":{\"field\":\"y\"}},\"id\":\"585f95ca-4898-4b75-9b54-a43c48043d0e\",\"type\":\"Rect\"},{\"attributes\":{\"fill_alpha\":{\"field\":\"fill_alpha\"},\"fill_color\":{\"field\":\"color\"},\"height\":{\"field\":\"height\",\"units\":\"data\"},\"line_color\":{\"field\":\"line_color\"},\"width\":{\"field\":\"width\",\"units\":\"data\"},\"x\":{\"field\":\"x\"},\"y\":{\"field\":\"y\"}},\"id\":\"fef72002-397f-4607-b058-828d2ae85ab2\",\"type\":\"Rect\"},{\"attributes\":{\"fill_alpha\":{\"field\":\"fill_alpha\"},\"fill_color\":{\"field\":\"color\"},\"height\":{\"field\":\"height\",\"units\":\"data\"},\"line_color\":{\"field\":\"line_color\"},\"width\":{\"field\":\"width\",\"units\":\"data\"},\"x\":{\"field\":\"x\"},\"y\":{\"field\":\"y\"}},\"id\":\"42e7d496-1e09-421c-973f-2b995d6e6875\",\"type\":\"Rect\"},{\"attributes\":{\"data_source\":{\"id\":\"1d4e5099-b6fe-469f-861b-075605597c4d\",\"type\":\"ColumnDataSource\"},\"glyph\":{\"id\":\"f32638d4-cbc0-4d54-95bf-f0bc4703fdb8\",\"type\":\"Rect\"},\"hover_glyph\":null,\"nonselection_glyph\":null,\"selection_glyph\":null},\"id\":\"7d3423f4-d30f-4963-88c3-184ca29059dc\",\"type\":\"GlyphRenderer\"},{\"attributes\":{\"active_drag\":\"auto\",\"active_scroll\":\"auto\",\"active_tap\":\"auto\",\"tools\":[{\"id\":\"c2da738e-2f2b-48ac-8024-53ff49b81adc\",\"type\":\"PanTool\"},{\"id\":\"c8787c5d-f09d-4722-ada9-8d7c6ed5a331\",\"type\":\"WheelZoomTool\"},{\"id\":\"14363703-af8a-45c8-99ff-eeca094da345\",\"type\":\"BoxZoomTool\"},{\"id\":\"714fa2d9-657e-4fb6-80b8-ea5e066e4998\",\"type\":\"SaveTool\"},{\"id\":\"da036669-c440-46c5-9c32-4fa57915593a\",\"type\":\"ResetTool\"},{\"id\":\"5f2e000d-9af3-42d3-9446-0e639ecdb088\",\"type\":\"HelpTool\"}]},\"id\":\"0d2cafcf-103c-470f-af0f-0632411394cf\",\"type\":\"Toolbar\"},{\"attributes\":{\"callback\":null,\"column_names\":[\"width\",\"label\",\"line_color\",\"line_alpha\",\"color\",\"y\",\"height\",\"x\",\"fill_alpha\"],\"data\":{\"chart_index\":[\"(36.031858, 37.682652]\"],\"color\":[\"#f22c40\"],\"fill_alpha\":[0.8],\"height\":[616.0],\"label\":[\"(36.031858, 37.682652]\"],\"line_alpha\":[1.0],\"line_color\":[\"black\"],\"width\":[1.650793957214745],\"x\":[\"36.857254999999995\"],\"y\":[308.0]}},\"id\":\"9741d53c-32f8-417f-a67e-6498a5708470\",\"type\":\"ColumnDataSource\"},{\"attributes\":{\"data_source\":{\"id\":\"64ad3a68-b7fa-4d9c-b888-ed0e49b2b82f\",\"type\":\"ColumnDataSource\"},\"glyph\":{\"id\":\"fc5a2983-536b-4331-a80b-8c622888dc2d\",\"type\":\"Rect\"},\"hover_glyph\":null,\"nonselection_glyph\":null,\"selection_glyph\":null},\"id\":\"f95c10a3-fae5-4cd7-8668-7b4e9ab0a69d\",\"type\":\"GlyphRenderer\"},{\"attributes\":{\"data_source\":{\"id\":\"b6b5d78f-d9b9-4713-909a-9d8aa9a24402\",\"type\":\"ColumnDataSource\"},\"glyph\":{\"id\":\"0c1047a0-cb2a-4ebe-a543-53bc79345b90\",\"type\":\"Rect\"},\"hover_glyph\":null,\"nonselection_glyph\":null,\"selection_glyph\":null},\"id\":\"6a02757b-2603-4526-825b-d8653583c549\",\"type\":\"GlyphRenderer\"},{\"attributes\":{\"fill_alpha\":{\"field\":\"fill_alpha\"},\"fill_color\":{\"field\":\"color\"},\"height\":{\"field\":\"height\",\"units\":\"data\"},\"line_color\":{\"field\":\"line_color\"},\"width\":{\"field\":\"width\",\"units\":\"data\"},\"x\":{\"field\":\"x\"},\"y\":{\"field\":\"y\"}},\"id\":\"759a112a-cd43-4d5f-94ba-7912e0ee01d5\",\"type\":\"Rect\"},{\"attributes\":{\"callback\":null,\"column_names\":[\"width\",\"label\",\"line_color\",\"line_alpha\",\"color\",\"y\",\"height\",\"x\",\"fill_alpha\"],\"data\":{\"chart_index\":[\"(76.264936, 78.241916]\"],\"color\":[\"#f22c40\"],\"fill_alpha\":[0.8],\"height\":[302.0],\"label\":[\"(76.264936, 78.241916]\"],\"line_alpha\":[1.0],\"line_color\":[\"black\"],\"width\":[1.976980165044921],\"x\":[\"77.253426\"],\"y\":[151.0]}},\"id\":\"a3040e0a-bedd-4982-9017-26a2c1ade2af\",\"type\":\"ColumnDataSource\"},{\"attributes\":{\"data_source\":{\"id\":\"ea2d3926-f9d8-4a17-a1c1-b35dee40a966\",\"type\":\"ColumnDataSource\"},\"glyph\":{\"id\":\"21083c2b-8b70-41d7-8860-4105995e1e7d\",\"type\":\"Rect\"},\"hover_glyph\":null,\"nonselection_glyph\":null,\"selection_glyph\":null},\"id\":\"59311d8a-e631-4cd5-8bc3-f151c802670e\",\"type\":\"GlyphRenderer\"},{\"attributes\":{\"data_source\":{\"id\":\"eb894140-2dcf-40c4-93bc-de5a8b9119a7\",\"type\":\"ColumnDataSource\"},\"glyph\":{\"id\":\"2171f221-52f2-43c5-8956-7f4ccc0bdcba\",\"type\":\"Rect\"},\"hover_glyph\":null,\"nonselection_glyph\":null,\"selection_glyph\":null},\"id\":\"549f61d0-ba11-4372-ac91-6deb6aff41f8\",\"type\":\"GlyphRenderer\"},{\"attributes\":{},\"id\":\"9cbba372-3085-49ea-9828-d93f6635a78b\",\"type\":\"BasicTicker\"},{\"attributes\":{\"fill_alpha\":{\"field\":\"fill_alpha\"},\"fill_color\":{\"field\":\"color\"},\"height\":{\"field\":\"height\",\"units\":\"data\"},\"line_color\":{\"field\":\"line_color\"},\"width\":{\"field\":\"width\",\"units\":\"data\"},\"x\":{\"field\":\"x\"},\"y\":{\"field\":\"y\"}},\"id\":\"097958cd-cdcf-452e-b6c7-63590e456eb9\",\"type\":\"Rect\"},{\"attributes\":{\"data_source\":{\"id\":\"066e7a82-82ff-43bd-b396-a0aa8667079c\",\"type\":\"ColumnDataSource\"},\"glyph\":{\"id\":\"42d4f5f3-8c13-4fb8-8274-8d573849169e\",\"type\":\"Rect\"},\"hover_glyph\":null,\"nonselection_glyph\":null,\"selection_glyph\":null},\"id\":\"a756536c-4b02-4f71-9b04-8db03b81bc6d\",\"type\":\"GlyphRenderer\"},{\"attributes\":{\"data_source\":{\"id\":\"64d7503a-e926-47c8-a334-e70a170c5c12\",\"type\":\"ColumnDataSource\"},\"glyph\":{\"id\":\"a5e83823-6d10-4eed-976f-45ea761b171f\",\"type\":\"Rect\"},\"hover_glyph\":null,\"nonselection_glyph\":null,\"selection_glyph\":null},\"id\":\"ec6f84b6-06ac-47f4-9b00-03f47181b2d5\",\"type\":\"GlyphRenderer\"},{\"attributes\":{\"data_source\":{\"id\":\"ef912b57-14a2-48d7-a46f-bf3a411bea5e\",\"type\":\"ColumnDataSource\"},\"glyph\":{\"id\":\"6768b293-c1f4-4f75-8a48-e3ff242817e0\",\"type\":\"Rect\"},\"hover_glyph\":null,\"nonselection_glyph\":null,\"selection_glyph\":null},\"id\":\"d222a760-c514-42bd-9410-410e5ce152ff\",\"type\":\"GlyphRenderer\"},{\"attributes\":{\"callback\":null,\"column_names\":[\"width\",\"label\",\"line_color\",\"line_alpha\",\"color\",\"y\",\"height\",\"x\",\"fill_alpha\"],\"data\":{\"chart_index\":[\"(53.965534, 71.952475]\"],\"color\":[\"#f22c40\"],\"fill_alpha\":[0.8],\"height\":[984.0],\"label\":[\"(53.965534, 71.952475]\"],\"line_alpha\":[1.0],\"line_color\":[\"black\"],\"width\":[17.9869404339559],\"x\":[\"62.959004500000006\"],\"y\":[492.0]}},\"id\":\"f93c929c-061c-4ab4-91f8-8e1bef1ffaa4\",\"type\":\"ColumnDataSource\"},{\"attributes\":{\"axis_label\":\"a\",\"formatter\":{\"id\":\"ffc128b7-1704-4b1a-87c2-3bbb2f0ca764\",\"type\":\"BasicTickFormatter\"},\"plot\":{\"id\":\"d8388f20-687d-47a7-88c3-e785246d4dea\",\"subtype\":\"Chart\",\"type\":\"Plot\"},\"ticker\":{\"id\":\"d76064ad-5de5-4bce-be5c-6c89832fa090\",\"type\":\"BasicTicker\"}},\"id\":\"c0047c1e-75f9-4f1d-ae92-1a6ff38af498\",\"type\":\"LinearAxis\"},{\"attributes\":{\"fill_alpha\":{\"field\":\"fill_alpha\"},\"fill_color\":{\"field\":\"color\"},\"height\":{\"field\":\"height\",\"units\":\"data\"},\"line_color\":{\"field\":\"line_color\"},\"width\":{\"field\":\"width\",\"units\":\"data\"},\"x\":{\"field\":\"x\"},\"y\":{\"field\":\"y\"}},\"id\":\"13051f1d-ac15-434f-8b3d-a0bb016661cd\",\"type\":\"Rect\"},{\"attributes\":{\"callback\":null,\"column_names\":[\"width\",\"label\",\"line_color\",\"line_alpha\",\"color\",\"y\",\"height\",\"x\",\"fill_alpha\"],\"data\":{\"chart_index\":[\"(30.005131, 32.004711]\"],\"color\":[\"#f22c40\"],\"fill_alpha\":[0.8],\"height\":[197.0],\"label\":[\"(30.005131, 32.004711]\"],\"line_alpha\":[1.0],\"line_color\":[\"black\"],\"width\":[1.9995804859201378],\"x\":[\"31.004921\"],\"y\":[98.5]}},\"id\":\"637abe4b-2f75-4e03-8860-6391fbf60b18\",\"type\":\"ColumnDataSource\"},{\"attributes\":{\"fill_alpha\":{\"field\":\"fill_alpha\"},\"fill_color\":{\"field\":\"color\"},\"height\":{\"field\":\"height\",\"units\":\"data\"},\"line_color\":{\"field\":\"line_color\"},\"width\":{\"field\":\"width\",\"units\":\"data\"},\"x\":{\"field\":\"x\"},\"y\":{\"field\":\"y\"}},\"id\":\"d23e1978-4555-496b-9124-830cc4c03361\",\"type\":\"Rect\"},{\"attributes\":{\"data_source\":{\"id\":\"987939b5-20a6-4a2b-92fd-3049e4abd6cf\",\"type\":\"ColumnDataSource\"},\"glyph\":{\"id\":\"7de4c234-a749-47a6-a57e-e9e5d0e7c3b0\",\"type\":\"Rect\"},\"hover_glyph\":null,\"nonselection_glyph\":null,\"selection_glyph\":null},\"id\":\"ddd9af53-3473-4a3b-9113-d7b882464815\",\"type\":\"GlyphRenderer\"},{\"attributes\":{\"plot\":{\"id\":\"d8388f20-687d-47a7-88c3-e785246d4dea\",\"subtype\":\"Chart\",\"type\":\"Plot\"}},\"id\":\"bfbcdcd3-7ba8-4f39-8afe-0f6cf7b136f6\",\"type\":\"HelpTool\"},{\"attributes\":{\"data_source\":{\"id\":\"3ef7405c-ef09-4c05-ba50-268b28321525\",\"type\":\"ColumnDataSource\"},\"glyph\":{\"id\":\"e4035ad3-a571-4a61-8371-72ff65186330\",\"type\":\"Rect\"},\"hover_glyph\":null,\"nonselection_glyph\":null,\"selection_glyph\":null},\"id\":\"11c43991-7d7d-46bc-9494-74253b1b1ef7\",\"type\":\"GlyphRenderer\"},{\"attributes\":{\"fill_alpha\":{\"field\":\"fill_alpha\"},\"fill_color\":{\"field\":\"color\"},\"height\":{\"field\":\"height\",\"units\":\"data\"},\"line_color\":{\"field\":\"line_color\"},\"width\":{\"field\":\"width\",\"units\":\"data\"},\"x\":{\"field\":\"x\"},\"y\":{\"field\":\"y\"}},\"id\":\"b54ecdd2-3ad4-42a9-96f4-48e9ddbcc09a\",\"type\":\"Rect\"},{\"attributes\":{\"bottom_units\":\"screen\",\"fill_alpha\":{\"value\":0.5},\"fill_color\":{\"value\":\"lightgrey\"},\"left_units\":\"screen\",\"level\":\"overlay\",\"line_alpha\":{\"value\":1.0},\"line_color\":{\"value\":\"black\"},\"line_dash\":[4,4],\"line_width\":{\"value\":2},\"plot\":null,\"render_mode\":\"css\",\"right_units\":\"screen\",\"top_units\":\"screen\"},\"id\":\"08fdc483-2ccd-4ff0-8b72-d2f2d5436f6e\",\"type\":\"BoxAnnotation\"},{\"attributes\":{\"data_source\":{\"id\":\"1ac3e997-7e01-45fa-ab33-10a3a94b386f\",\"type\":\"ColumnDataSource\"},\"glyph\":{\"id\":\"87e52811-8e88-4aef-a2ad-d3c408292702\",\"type\":\"Rect\"},\"hover_glyph\":null,\"nonselection_glyph\":null,\"selection_glyph\":null},\"id\":\"150843d1-7f9b-429b-88dd-cc7b37edd41f\",\"type\":\"GlyphRenderer\"},{\"attributes\":{\"fill_alpha\":{\"field\":\"fill_alpha\"},\"fill_color\":{\"field\":\"color\"},\"height\":{\"field\":\"height\",\"units\":\"data\"},\"line_color\":{\"field\":\"line_color\"},\"width\":{\"field\":\"width\",\"units\":\"data\"},\"x\":{\"field\":\"x\"},\"y\":{\"field\":\"y\"}},\"id\":\"82c29b80-80b9-42af-9eb4-3666f796347a\",\"type\":\"Rect\"},{\"attributes\":{\"callback\":null,\"column_names\":[\"width\",\"label\",\"line_color\",\"line_alpha\",\"color\",\"y\",\"height\",\"x\",\"fill_alpha\"],\"data\":{\"chart_index\":[\"(70.698532, 72.349326]\"],\"color\":[\"#f22c40\"],\"fill_alpha\":[0.8],\"height\":[5.0],\"label\":[\"(70.698532, 72.349326]\"],\"line_alpha\":[1.0],\"line_color\":[\"black\"],\"width\":[1.650793957214745],\"x\":[\"71.52392900000001\"],\"y\":[2.5]}},\"id\":\"2d10b429-cd59-49a9-9886-18a53994cdfa\",\"type\":\"ColumnDataSource\"},{\"attributes\":{\"plot\":{\"id\":\"d8388f20-687d-47a7-88c3-e785246d4dea\",\"subtype\":\"Chart\",\"type\":\"Plot\"}},\"id\":\"e93c3873-27a0-48bb-8d15-385bef70e2ef\",\"type\":\"ResetTool\"},{\"attributes\":{\"callback\":null,\"column_names\":[\"width\",\"label\",\"line_color\",\"line_alpha\",\"color\",\"y\",\"height\",\"x\",\"fill_alpha\"],\"data\":{\"chart_index\":[\"(44.285828, 45.936622]\"],\"color\":[\"#f22c40\"],\"fill_alpha\":[0.8],\"height\":[589.0],\"label\":[\"(44.285828, 45.936622]\"],\"line_alpha\":[1.0],\"line_color\":[\"black\"],\"width\":[1.650793957214745],\"x\":[\"45.111225000000005\"],\"y\":[294.5]}},\"id\":\"09a8dec1-68f3-413c-8ac7-9b7038b6137d\",\"type\":\"ColumnDataSource\"},{\"attributes\":{\"data_source\":{\"id\":\"5500c41e-3eed-4ff2-aeb8-9cadfad56c49\",\"type\":\"ColumnDataSource\"},\"glyph\":{\"id\":\"7b5d125e-fc28-4ea0-8455-ccada534a04f\",\"type\":\"Rect\"},\"hover_glyph\":null,\"nonselection_glyph\":null,\"selection_glyph\":null},\"id\":\"855e3b31-15a7-457d-948a-efb0113da752\",\"type\":\"GlyphRenderer\"},{\"attributes\":{\"fill_alpha\":{\"field\":\"fill_alpha\"},\"fill_color\":{\"field\":\"color\"},\"height\":{\"field\":\"height\",\"units\":\"data\"},\"line_color\":{\"field\":\"line_color\"},\"width\":{\"field\":\"width\",\"units\":\"data\"},\"x\":{\"field\":\"x\"},\"y\":{\"field\":\"y\"}},\"id\":\"6907fb77-d5ec-475a-b2e3-a06d1432e9a1\",\"type\":\"Rect\"},{\"attributes\":{\"callback\":null,\"column_names\":[\"width\",\"label\",\"line_color\",\"line_alpha\",\"color\",\"y\",\"height\",\"x\",\"fill_alpha\"],\"data\":{\"chart_index\":[\"(88.126817, 90.103797]\"],\"color\":[\"#f22c40\"],\"fill_alpha\":[0.8],\"height\":[240.0],\"label\":[\"(88.126817, 90.103797]\"],\"line_alpha\":[1.0],\"line_color\":[\"black\"],\"width\":[1.976980165044921],\"x\":[\"89.115307\"],\"y\":[120.0]}},\"id\":\"6b2f0492-630d-46e3-b19f-1d6a6114502a\",\"type\":\"ColumnDataSource\"},{\"attributes\":{\"callback\":null,\"column_names\":[\"width\",\"label\",\"line_color\",\"line_alpha\",\"color\",\"y\",\"height\",\"x\",\"fill_alpha\"],\"data\":{\"chart_index\":[\"(17.991653, 35.978594]\"],\"color\":[\"#f22c40\"],\"fill_alpha\":[0.8],\"height\":[1429.0],\"label\":[\"(17.991653, 35.978594]\"],\"line_alpha\":[1.0],\"line_color\":[\"black\"],\"width\":[17.986940433955898],\"x\":[\"26.9851235\"],\"y\":[714.5]}},\"id\":\"efb920f2-7457-4e9f-aedd-e24877c06821\",\"type\":\"ColumnDataSource\"},{\"attributes\":{\"data_source\":{\"id\":\"8faec553-7cb4-4cb0-a78c-37e6aac5488a\",\"type\":\"ColumnDataSource\"},\"glyph\":{\"id\":\"82c29b80-80b9-42af-9eb4-3666f796347a\",\"type\":\"Rect\"},\"hover_glyph\":null,\"nonselection_glyph\":null,\"selection_glyph\":null},\"id\":\"8aff6543-ce41-4f10-a72b-e16a3e523dff\",\"type\":\"GlyphRenderer\"},{\"attributes\":{\"fill_alpha\":{\"field\":\"fill_alpha\"},\"fill_color\":{\"field\":\"color\"},\"height\":{\"field\":\"height\",\"units\":\"data\"},\"line_color\":{\"field\":\"line_color\"},\"width\":{\"field\":\"width\",\"units\":\"data\"},\"x\":{\"field\":\"x\"},\"y\":{\"field\":\"y\"}},\"id\":\"d07ce366-14fd-48a0-90c5-6e7574f362fe\",\"type\":\"Rect\"},{\"attributes\":{\"fill_alpha\":{\"field\":\"fill_alpha\"},\"fill_color\":{\"field\":\"color\"},\"height\":{\"field\":\"height\",\"units\":\"data\"},\"line_color\":{\"field\":\"line_color\"},\"width\":{\"field\":\"width\",\"units\":\"data\"},\"x\":{\"field\":\"x\"},\"y\":{\"field\":\"y\"}},\"id\":\"870074e5-de1d-49e8-8358-1f3d24c0c73c\",\"type\":\"Rect\"},{\"attributes\":{\"callback\":null,\"column_names\":[\"width\",\"label\",\"line_color\",\"line_alpha\",\"color\",\"y\",\"height\",\"x\",\"fill_alpha\"],\"data\":{\"chart_index\":[\"(83.993804, 85.993384]\"],\"color\":[\"#f22c40\"],\"fill_alpha\":[0.8],\"height\":[189.0],\"label\":[\"(83.993804, 85.993384]\"],\"line_alpha\":[1.0],\"line_color\":[\"black\"],\"width\":[1.9995804859201343],\"x\":[\"84.993594\"],\"y\":[94.5]}},\"id\":\"ec6e2eda-dd06-4ea7-b095-5734954a78c0\",\"type\":\"ColumnDataSource\"},{\"attributes\":{\"callback\":null,\"column_names\":[\"width\",\"label\",\"line_color\",\"line_alpha\",\"color\",\"y\",\"height\",\"x\",\"fill_alpha\"],\"data\":{\"chart_index\":[\"(719.482330, 737.469271]\"],\"color\":[\"#f22c40\"],\"fill_alpha\":[0.8],\"height\":[0.0],\"label\":[\"(719.482330, 737.469271]\"],\"line_alpha\":[1.0],\"line_color\":[\"black\"],\"width\":[17.98694043395585],\"x\":[\"728.4758005000001\"],\"y\":[0.0]}},\"id\":\"c994df12-8158-4693-bb50-60cd51d5a993\",\"type\":\"ColumnDataSource\"},{\"attributes\":{\"fill_alpha\":{\"field\":\"fill_alpha\"},\"fill_color\":{\"field\":\"color\"},\"height\":{\"field\":\"height\",\"units\":\"data\"},\"line_color\":{\"field\":\"line_color\"},\"width\":{\"field\":\"width\",\"units\":\"data\"},\"x\":{\"field\":\"x\"},\"y\":{\"field\":\"y\"}},\"id\":\"28599851-cb81-48b2-8df6-e03532b0231f\",\"type\":\"Rect\"},{\"attributes\":{\"callback\":null,\"column_names\":[\"width\",\"label\",\"line_color\",\"line_alpha\",\"color\",\"y\",\"height\",\"x\",\"fill_alpha\"],\"data\":{\"chart_index\":[\"(56.495134, 58.472114]\"],\"color\":[\"#f22c40\"],\"fill_alpha\":[0.8],\"height\":[273.0],\"label\":[\"(56.495134, 58.472114]\"],\"line_alpha\":[1.0],\"line_color\":[\"black\"],\"width\":[1.976980165044921],\"x\":[\"57.483624\"],\"y\":[136.5]}},\"id\":\"29fe2003-2728-47a4-aae3-d815887efe50\",\"type\":\"ColumnDataSource\"},{\"attributes\":{\"fill_alpha\":{\"field\":\"fill_alpha\"},\"fill_color\":{\"field\":\"color\"},\"height\":{\"field\":\"height\",\"units\":\"data\"},\"line_color\":{\"field\":\"line_color\"},\"width\":{\"field\":\"width\",\"units\":\"data\"},\"x\":{\"field\":\"x\"},\"y\":{\"field\":\"y\"}},\"id\":\"32794fea-f800-424d-a083-db5dd8ce6a32\",\"type\":\"Rect\"},{\"attributes\":{\"callback\":null,\"column_names\":[\"width\",\"label\",\"line_color\",\"line_alpha\",\"color\",\"y\",\"height\",\"x\",\"fill_alpha\"],\"data\":{\"chart_index\":[\"(629.547628, 647.534569]\"],\"color\":[\"#f22c40\"],\"fill_alpha\":[0.8],\"height\":[8.0],\"label\":[\"(629.547628, 647.534569]\"],\"line_alpha\":[1.0],\"line_color\":[\"black\"],\"width\":[17.986940433955965],\"x\":[\"638.5410985000001\"],\"y\":[4.0]}},\"id\":\"1c34f33a-aa74-46d5-b1c6-5c872c60a510\",\"type\":\"ColumnDataSource\"},{\"attributes\":{\"callback\":null,\"column_names\":[\"width\",\"label\",\"line_color\",\"line_alpha\",\"color\",\"y\",\"height\",\"x\",\"fill_alpha\"],\"data\":{\"chart_index\":[\"(80.218896, 82.195876]\"],\"color\":[\"#f22c40\"],\"fill_alpha\":[0.8],\"height\":[286.0],\"label\":[\"(80.218896, 82.195876]\"],\"line_alpha\":[1.0],\"line_color\":[\"black\"],\"width\":[1.976980165044921],\"x\":[\"81.207386\"],\"y\":[143.0]}},\"id\":\"d3533117-fad4-417a-b3ef-68b7120ecd5c\",\"type\":\"ColumnDataSource\"},{\"attributes\":{\"callback\":null,\"column_names\":[\"width\",\"label\",\"line_color\",\"line_alpha\",\"color\",\"y\",\"height\",\"x\",\"fill_alpha\"],\"data\":{\"chart_index\":[\"(21.174713, 22.825507]\"],\"color\":[\"#f22c40\"],\"fill_alpha\":[0.8],\"height\":[123.0],\"label\":[\"(21.174713, 22.825507]\"],\"line_alpha\":[1.0],\"line_color\":[\"black\"],\"width\":[1.6507939572147414],\"x\":[\"22.00011\"],\"y\":[61.5]}},\"id\":\"8023b8b9-e2fa-449c-9774-10041cfcdf10\",\"type\":\"ColumnDataSource\"},{\"attributes\":{\"callback\":null,\"column_names\":[\"width\",\"label\",\"line_color\",\"line_alpha\",\"color\",\"y\",\"height\",\"x\",\"fill_alpha\"],\"data\":{\"chart_index\":[\"(29.428683, 31.079477]\"],\"color\":[\"#f22c40\"],\"fill_alpha\":[0.8],\"height\":[398.0],\"label\":[\"(29.428683, 31.079477]\"],\"line_alpha\":[1.0],\"line_color\":[\"black\"],\"width\":[1.6507939572147414],\"x\":[\"30.254080000000002\"],\"y\":[199.0]}},\"id\":\"eb894140-2dcf-40c4-93bc-de5a8b9119a7\",\"type\":\"ColumnDataSource\"},{\"attributes\":{\"callback\":null,\"column_names\":[\"width\",\"label\",\"line_color\",\"line_alpha\",\"color\",\"y\",\"height\",\"x\",\"fill_alpha\"],\"data\":{\"chart_index\":[\"(38.702313, 40.679293]\"],\"color\":[\"#f22c40\"],\"fill_alpha\":[0.8],\"height\":[181.0],\"label\":[\"(38.702313, 40.679293]\"],\"line_alpha\":[1.0],\"line_color\":[\"black\"],\"width\":[1.976980165044921],\"x\":[\"39.690803\"],\"y\":[90.5]}},\"id\":\"3a4c7628-6bbe-4f10-b4ed-2e58206d074c\",\"type\":\"ColumnDataSource\"},{\"attributes\":{\"callback\":null,\"column_names\":[\"width\",\"label\",\"line_color\",\"line_alpha\",\"color\",\"y\",\"height\",\"x\",\"fill_alpha\"],\"data\":{\"chart_index\":[\"(683.508450, 701.495390]\"],\"color\":[\"#f22c40\"],\"fill_alpha\":[0.8],\"height\":[1.0],\"label\":[\"(683.508450, 701.495390]\"],\"line_alpha\":[1.0],\"line_color\":[\"black\"],\"width\":[17.98694043395585],\"x\":[\"692.50192\"],\"y\":[0.5]}},\"id\":\"7693e3aa-77a3-4b63-b683-719a1bcaa0d6\",\"type\":\"ColumnDataSource\"},{\"attributes\":{\"fill_alpha\":{\"field\":\"fill_alpha\"},\"fill_color\":{\"field\":\"color\"},\"height\":{\"field\":\"height\",\"units\":\"data\"},\"line_color\":{\"field\":\"line_color\"},\"width\":{\"field\":\"width\",\"units\":\"data\"},\"x\":{\"field\":\"x\"},\"y\":{\"field\":\"y\"}},\"id\":\"730a9bfb-174a-42d1-b81d-e1a3000ca811\",\"type\":\"Rect\"},{\"attributes\":{},\"id\":\"e2638f2e-95d2-43d3-91a9-a2249f03b00b\",\"type\":\"BasicTickFormatter\"},{\"attributes\":{\"fill_alpha\":{\"field\":\"fill_alpha\"},\"fill_color\":{\"field\":\"color\"},\"height\":{\"field\":\"height\",\"units\":\"data\"},\"line_color\":{\"field\":\"line_color\"},\"width\":{\"field\":\"width\",\"units\":\"data\"},\"x\":{\"field\":\"x\"},\"y\":{\"field\":\"y\"}},\"id\":\"02587cc6-78ce-4d01-93f9-af1f8b27fe49\",\"type\":\"Rect\"},{\"attributes\":{\"data_source\":{\"id\":\"7298aace-d7af-4ff8-8f8e-af24ba0c24aa\",\"type\":\"ColumnDataSource\"},\"glyph\":{\"id\":\"cf11609e-c6a3-417d-bb6d-81c92bb38bfc\",\"type\":\"Rect\"},\"hover_glyph\":null,\"nonselection_glyph\":null,\"selection_glyph\":null},\"id\":\"330bbd9a-338d-457a-9298-a229705fd685\",\"type\":\"GlyphRenderer\"},{\"attributes\":{},\"id\":\"8652bc8e-6ff2-4330-8b57-fb2b3a98893e\",\"type\":\"BasicTickFormatter\"},{\"attributes\":{\"callback\":null,\"column_names\":[\"width\",\"label\",\"line_color\",\"line_alpha\",\"color\",\"y\",\"height\",\"x\",\"fill_alpha\"],\"data\":{\"chart_index\":[\"(4.666773, 6.317567]\"],\"color\":[\"#f22c40\"],\"fill_alpha\":[0.8],\"height\":[1.0],\"label\":[\"(4.666773, 6.317567]\"],\"line_alpha\":[1.0],\"line_color\":[\"black\"],\"width\":[1.6507939572147432],\"x\":[\"5.49217\"],\"y\":[0.5]}},\"id\":\"aa977abb-296f-41c4-9275-f93b025a50a5\",\"type\":\"ColumnDataSource\"},{\"attributes\":{\"dimension\":1,\"plot\":{\"id\":\"c3ea08f3-860f-46d2-a08d-837617200cb5\",\"subtype\":\"Chart\",\"type\":\"Plot\"},\"ticker\":{\"id\":\"883880bd-2f01-46d6-9114-e28688191d09\",\"type\":\"BasicTicker\"}},\"id\":\"b9b1cf1c-e65d-48c1-a048-e7478df91b84\",\"type\":\"Grid\"},{\"attributes\":{\"data_source\":{\"id\":\"79e8d053-c0e5-4d20-b5de-f5e2d233541f\",\"type\":\"ColumnDataSource\"},\"glyph\":{\"id\":\"c4b4dc35-3bca-4245-8c4e-46e2d37074a5\",\"type\":\"Rect\"},\"hover_glyph\":null,\"nonselection_glyph\":null,\"selection_glyph\":null},\"id\":\"b1943e62-b70b-4336-8492-9ee8aea25f30\",\"type\":\"GlyphRenderer\"},{\"attributes\":{\"callback\":null,\"column_names\":[\"width\",\"label\",\"line_color\",\"line_alpha\",\"color\",\"y\",\"height\",\"x\",\"fill_alpha\"],\"data\":{\"chart_index\":[\"(64.403055, 66.380035]\"],\"color\":[\"#f22c40\"],\"fill_alpha\":[0.8],\"height\":[294.0],\"label\":[\"(64.403055, 66.380035]\"],\"line_alpha\":[1.0],\"line_color\":[\"black\"],\"width\":[1.976980165044921],\"x\":[\"65.39154500000001\"],\"y\":[147.0]}},\"id\":\"6712ce28-d3c5-4958-9848-a1df5410bf26\",\"type\":\"ColumnDataSource\"},{\"attributes\":{\"callback\":null,\"column_names\":[\"width\",\"label\",\"line_color\",\"line_alpha\",\"color\",\"y\",\"height\",\"x\",\"fill_alpha\"],\"data\":{\"chart_index\":[\"(59.998838, 61.998419]\"],\"color\":[\"#f22c40\"],\"fill_alpha\":[0.8],\"height\":[212.0],\"label\":[\"(59.998838, 61.998419]\"],\"line_alpha\":[1.0],\"line_color\":[\"black\"],\"width\":[1.9995804859201343],\"x\":[\"60.998628499999995\"],\"y\":[106.0]}},\"id\":\"23281f53-b52b-45d9-905c-27560e2436f8\",\"type\":\"ColumnDataSource\"},{\"attributes\":{\"axis_label\":\"Count( A )\",\"formatter\":{\"id\":\"7b3e8e44-0f23-4bae-9b50-2caa6f73ea11\",\"type\":\"BasicTickFormatter\"},\"plot\":{\"id\":\"c3ea08f3-860f-46d2-a08d-837617200cb5\",\"subtype\":\"Chart\",\"type\":\"Plot\"},\"ticker\":{\"id\":\"883880bd-2f01-46d6-9114-e28688191d09\",\"type\":\"BasicTicker\"}},\"id\":\"dacacf11-4c69-4af0-80ac-279a48143f64\",\"type\":\"LinearAxis\"},{\"attributes\":{\"plot\":{\"id\":\"190b90fe-bcce-427a-9503-f0ac58c0167a\",\"subtype\":\"Chart\",\"type\":\"Plot\"}},\"id\":\"5f2e000d-9af3-42d3-9446-0e639ecdb088\",\"type\":\"HelpTool\"},{\"attributes\":{\"location\":\"top_left\",\"plot\":{\"id\":\"d8388f20-687d-47a7-88c3-e785246d4dea\",\"subtype\":\"Chart\",\"type\":\"Plot\"}},\"id\":\"f4e6eb4c-744f-46a2-aa52-4f9c381a25ea\",\"type\":\"Legend\"},{\"attributes\":{\"fill_alpha\":{\"field\":\"fill_alpha\"},\"fill_color\":{\"field\":\"color\"},\"height\":{\"field\":\"height\",\"units\":\"data\"},\"line_color\":{\"field\":\"line_color\"},\"width\":{\"field\":\"width\",\"units\":\"data\"},\"x\":{\"field\":\"x\"},\"y\":{\"field\":\"y\"}},\"id\":\"c7ff3d08-e078-4b4f-a70f-ba5428b6b34f\",\"type\":\"Rect\"},{\"attributes\":{\"fill_alpha\":{\"field\":\"fill_alpha\"},\"fill_color\":{\"field\":\"color\"},\"height\":{\"field\":\"height\",\"units\":\"data\"},\"line_color\":{\"field\":\"line_color\"},\"width\":{\"field\":\"width\",\"units\":\"data\"},\"x\":{\"field\":\"x\"},\"y\":{\"field\":\"y\"}},\"id\":\"987886c9-f722-4bb5-886f-eb89eb199bc0\",\"type\":\"Rect\"},{\"attributes\":{\"fill_alpha\":{\"field\":\"fill_alpha\"},\"fill_color\":{\"field\":\"color\"},\"height\":{\"field\":\"height\",\"units\":\"data\"},\"line_color\":{\"field\":\"line_color\"},\"width\":{\"field\":\"width\",\"units\":\"data\"},\"x\":{\"field\":\"x\"},\"y\":{\"field\":\"y\"}},\"id\":\"dfc3ce65-190d-4a33-a759-eea101cbe50d\",\"type\":\"Rect\"},{\"attributes\":{\"data_source\":{\"id\":\"b3ad3fc6-047d-4865-abe2-8c49ea281f71\",\"type\":\"ColumnDataSource\"},\"glyph\":{\"id\":\"0a4bb25f-e31d-4bc5-902e-738d19942750\",\"type\":\"Rect\"},\"hover_glyph\":null,\"nonselection_glyph\":null,\"selection_glyph\":null},\"id\":\"4d1dc09d-2916-407e-a5a1-ef5acb37ca56\",\"type\":\"GlyphRenderer\"},{\"attributes\":{\"children\":[{\"id\":\"ed4b000c-6c29-455c-9653-aec2192a655a\",\"type\":\"ToolbarBox\"},{\"id\":\"6165c40e-4418-4580-975f-d1e1b4c1b28f\",\"type\":\"Column\"}]},\"id\":\"94d70916-46df-459a-a10c-00a7a346ce2c\",\"type\":\"Column\"},{\"attributes\":{\"callback\":null,\"column_names\":[\"width\",\"label\",\"line_color\",\"line_alpha\",\"color\",\"y\",\"height\",\"x\",\"fill_alpha\"],\"data\":{\"chart_index\":[\"(47.587416, 49.238210]\"],\"color\":[\"#f22c40\"],\"fill_alpha\":[0.8],\"height\":[465.0],\"label\":[\"(47.587416, 49.238210]\"],\"line_alpha\":[1.0],\"line_color\":[\"black\"],\"width\":[1.650793957214745],\"x\":[\"48.412813\"],\"y\":[232.5]}},\"id\":\"327401ca-ca91-4478-96c6-1b86245c2838\",\"type\":\"ColumnDataSource\"},{\"attributes\":{\"callback\":null,\"column_names\":[\"width\",\"label\",\"line_color\",\"line_alpha\",\"color\",\"y\",\"height\",\"x\",\"fill_alpha\"],\"data\":{\"chart_index\":[\"(103.989609, 105.989189]\"],\"color\":[\"#f22c40\"],\"fill_alpha\":[0.8],\"height\":[176.0],\"label\":[\"(103.989609, 105.989189]\"],\"line_alpha\":[1.0],\"line_color\":[\"black\"],\"width\":[1.9995804859201343],\"x\":[\"104.98939899999999\"],\"y\":[88.0]}},\"id\":\"89a4667c-a214-48f8-81c3-04a8afa39275\",\"type\":\"ColumnDataSource\"},{\"attributes\":{\"fill_alpha\":{\"field\":\"fill_alpha\"},\"fill_color\":{\"field\":\"color\"},\"height\":{\"field\":\"height\",\"units\":\"data\"},\"line_color\":{\"field\":\"line_color\"},\"width\":{\"field\":\"width\",\"units\":\"data\"},\"x\":{\"field\":\"x\"},\"y\":{\"field\":\"y\"}},\"id\":\"c3267417-f698-4742-a842-aa262a94a1cf\",\"type\":\"Rect\"},{\"attributes\":{\"data_source\":{\"id\":\"793082eb-5b10-4cee-bd1b-e8782077b0d7\",\"type\":\"ColumnDataSource\"},\"glyph\":{\"id\":\"0e27234f-f513-420d-a84b-37957bc951ae\",\"type\":\"Rect\"},\"hover_glyph\":null,\"nonselection_glyph\":null,\"selection_glyph\":null},\"id\":\"eea90c3c-34a6-4d31-aa0a-0631451e5533\",\"type\":\"GlyphRenderer\"},{\"attributes\":{\"fill_alpha\":{\"field\":\"fill_alpha\"},\"fill_color\":{\"field\":\"color\"},\"height\":{\"field\":\"height\",\"units\":\"data\"},\"line_color\":{\"field\":\"line_color\"},\"width\":{\"field\":\"width\",\"units\":\"data\"},\"x\":{\"field\":\"x\"},\"y\":{\"field\":\"y\"}},\"id\":\"69c2c892-ac5c-4e7e-b14e-be5b56eeb36d\",\"type\":\"Rect\"},{\"attributes\":{\"callback\":null,\"column_names\":[\"width\",\"label\",\"line_color\",\"line_alpha\",\"color\",\"y\",\"height\",\"x\",\"fill_alpha\"],\"data\":{\"chart_index\":[\"(791.430092, 809.417033]\"],\"color\":[\"#f22c40\"],\"fill_alpha\":[0.8],\"height\":[0.0],\"label\":[\"(791.430092, 809.417033]\"],\"line_alpha\":[1.0],\"line_color\":[\"black\"],\"width\":[17.986940433955965],\"x\":[\"800.4235624999999\"],\"y\":[0.0]}},\"id\":\"0b097288-d828-41e9-91c5-fe97073dab02\",\"type\":\"ColumnDataSource\"},{\"attributes\":{\"data_source\":{\"id\":\"ccc681c5-32e6-45bf-b1ac-e74bb9a941ac\",\"type\":\"ColumnDataSource\"},\"glyph\":{\"id\":\"33ae5b14-b1c1-4635-a3ff-672ab0fb25ea\",\"type\":\"Rect\"},\"hover_glyph\":null,\"nonselection_glyph\":null,\"selection_glyph\":null},\"id\":\"08a04be5-411c-4027-bcc7-3b24af49174c\",\"type\":\"GlyphRenderer\"},{\"attributes\":{\"axis_label\":\"a\",\"formatter\":{\"id\":\"98abfcb5-9f18-419b-9812-6c5b53cdefc6\",\"type\":\"BasicTickFormatter\"},\"plot\":{\"id\":\"190b90fe-bcce-427a-9503-f0ac58c0167a\",\"subtype\":\"Chart\",\"type\":\"Plot\"},\"ticker\":{\"id\":\"63f60a1b-69c6-466d-81f6-fb5c5c70f54f\",\"type\":\"BasicTicker\"}},\"id\":\"dc2e898a-a3c9-4f23-8221-32f2a7a5a78c\",\"type\":\"LinearAxis\"},{\"attributes\":{\"callback\":null,\"column_names\":[\"width\",\"label\",\"line_color\",\"line_alpha\",\"color\",\"y\",\"height\",\"x\",\"fill_alpha\"],\"data\":{\"chart_index\":[\"(26.840432, 28.817412]\"],\"color\":[\"#f22c40\"],\"fill_alpha\":[0.8],\"height\":[80.0],\"label\":[\"(26.840432, 28.817412]\"],\"line_alpha\":[1.0],\"line_color\":[\"black\"],\"width\":[1.976980165044921],\"x\":[\"27.828922\"],\"y\":[40.0]}},\"id\":\"5ab8340e-3170-4931-b924-10acdc91c0a3\",\"type\":\"ColumnDataSource\"},{\"attributes\":{\"callback\":null,\"column_names\":[\"width\",\"label\",\"line_color\",\"line_alpha\",\"color\",\"y\",\"height\",\"x\",\"fill_alpha\"],\"data\":{\"chart_index\":[\"(593.573747, 611.560688]\"],\"color\":[\"#f22c40\"],\"fill_alpha\":[0.8],\"height\":[7.0],\"label\":[\"(593.573747, 611.560688]\"],\"line_alpha\":[1.0],\"line_color\":[\"black\"],\"width\":[17.986940433955965],\"x\":[\"602.5672175\"],\"y\":[3.5]}},\"id\":\"5e1dfeed-1b14-40d5-8bb8-244a4cec94b8\",\"type\":\"ColumnDataSource\"},{\"attributes\":{\"callback\":null,\"column_names\":[\"width\",\"label\",\"line_color\",\"line_alpha\",\"color\",\"y\",\"height\",\"x\",\"fill_alpha\"],\"data\":{\"chart_index\":[\"(87.992965, 89.992545]\"],\"color\":[\"#f22c40\"],\"fill_alpha\":[0.8],\"height\":[179.0],\"label\":[\"(87.992965, 89.992545]\"],\"line_alpha\":[1.0],\"line_color\":[\"black\"],\"width\":[1.9995804859201343],\"x\":[\"88.992755\"],\"y\":[89.5]}},\"id\":\"c629c8b5-5aea-4a1d-b0fb-7c78d86424e1\",\"type\":\"ColumnDataSource\"},{\"attributes\":{\"data_source\":{\"id\":\"3a4c7628-6bbe-4f10-b4ed-2e58206d074c\",\"type\":\"ColumnDataSource\"},\"glyph\":{\"id\":\"a926bbea-a449-4b24-b74d-c102eeaff32d\",\"type\":\"Rect\"},\"hover_glyph\":null,\"nonselection_glyph\":null,\"selection_glyph\":null},\"id\":\"c6bca704-3b4d-4c0f-b53a-a69f0eeb18b3\",\"type\":\"GlyphRenderer\"},{\"attributes\":{\"fill_alpha\":{\"field\":\"fill_alpha\"},\"fill_color\":{\"field\":\"color\"},\"height\":{\"field\":\"height\",\"units\":\"data\"},\"line_color\":{\"field\":\"line_color\"},\"width\":{\"field\":\"width\",\"units\":\"data\"},\"x\":{\"field\":\"x\"},\"y\":{\"field\":\"y\"}},\"id\":\"42b9c3d2-56f2-4c40-ac78-313e9efb28ae\",\"type\":\"Rect\"},{\"attributes\":{\"callback\":null,\"column_names\":[\"width\",\"label\",\"line_color\",\"line_alpha\",\"color\",\"y\",\"height\",\"x\",\"fill_alpha\"],\"data\":{\"chart_index\":[\"(24.476301, 26.127095]\"],\"color\":[\"#f22c40\"],\"fill_alpha\":[0.8],\"height\":[215.0],\"label\":[\"(24.476301, 26.127095]\"],\"line_alpha\":[1.0],\"line_color\":[\"black\"],\"width\":[1.650793957214745],\"x\":[\"25.301698000000002\"],\"y\":[107.5]}},\"id\":\"b4bd9bcc-b3c2-4eee-b700-17fb7aa06972\",\"type\":\"ColumnDataSource\"},{\"attributes\":{\"data_source\":{\"id\":\"b7fed1d2-bfed-4593-b5b9-123d0fc626d5\",\"type\":\"ColumnDataSource\"},\"glyph\":{\"id\":\"9e4d5bce-137c-43bd-a34c-995d342189e5\",\"type\":\"Rect\"},\"hover_glyph\":null,\"nonselection_glyph\":null,\"selection_glyph\":null},\"id\":\"7ca01169-5d0d-47d4-b59e-c8d438433d5c\",\"type\":\"GlyphRenderer\"},{\"attributes\":{\"fill_alpha\":{\"field\":\"fill_alpha\"},\"fill_color\":{\"field\":\"color\"},\"height\":{\"field\":\"height\",\"units\":\"data\"},\"line_color\":{\"field\":\"line_color\"},\"width\":{\"field\":\"width\",\"units\":\"data\"},\"x\":{\"field\":\"x\"},\"y\":{\"field\":\"y\"}},\"id\":\"a5e83823-6d10-4eed-976f-45ea761b171f\",\"type\":\"Rect\"},{\"attributes\":{\"fill_alpha\":{\"field\":\"fill_alpha\"},\"fill_color\":{\"field\":\"color\"},\"height\":{\"field\":\"height\",\"units\":\"data\"},\"line_color\":{\"field\":\"line_color\"},\"width\":{\"field\":\"width\",\"units\":\"data\"},\"x\":{\"field\":\"x\"},\"y\":{\"field\":\"y\"}},\"id\":\"ecbb470a-3e78-4d46-a59a-9ea8d6f16f8b\",\"type\":\"Rect\"},{\"attributes\":{\"fill_alpha\":{\"field\":\"fill_alpha\"},\"fill_color\":{\"field\":\"color\"},\"height\":{\"field\":\"height\",\"units\":\"data\"},\"line_color\":{\"field\":\"line_color\"},\"width\":{\"field\":\"width\",\"units\":\"data\"},\"x\":{\"field\":\"x\"},\"y\":{\"field\":\"y\"}},\"id\":\"42d4f5f3-8c13-4fb8-8274-8d573849169e\",\"type\":\"Rect\"},{\"attributes\":{\"fill_alpha\":{\"field\":\"fill_alpha\"},\"fill_color\":{\"field\":\"color\"},\"height\":{\"field\":\"height\",\"units\":\"data\"},\"line_color\":{\"field\":\"line_color\"},\"width\":{\"field\":\"width\",\"units\":\"data\"},\"x\":{\"field\":\"x\"},\"y\":{\"field\":\"y\"}},\"id\":\"4fd880ee-8b4d-41db-81c3-ad592d8a9da6\",\"type\":\"Rect\"},{\"attributes\":{\"callback\":null,\"column_names\":[\"width\",\"label\",\"line_color\",\"line_alpha\",\"color\",\"y\",\"height\",\"x\",\"fill_alpha\"],\"data\":{\"chart_index\":[\"(557.599866, 575.586807]\"],\"color\":[\"#f22c40\"],\"fill_alpha\":[0.8],\"height\":[5.0],\"label\":[\"(557.599866, 575.586807]\"],\"line_alpha\":[1.0],\"line_color\":[\"black\"],\"width\":[17.98694043395585],\"x\":[\"566.5933365000001\"],\"y\":[2.5]}},\"id\":\"8ca326ad-65e9-4f3d-9872-1ace36d367f8\",\"type\":\"ColumnDataSource\"},{\"attributes\":{\"data_source\":{\"id\":\"d247fa0c-388b-4334-843b-2d81d1ec8eaa\",\"type\":\"ColumnDataSource\"},\"glyph\":{\"id\":\"3eaba33e-359f-405c-b56e-75d88e246576\",\"type\":\"Rect\"},\"hover_glyph\":null,\"nonselection_glyph\":null,\"selection_glyph\":null},\"id\":\"46f40245-fd96-4291-8516-d91c7611703d\",\"type\":\"GlyphRenderer\"},{\"attributes\":{\"dimension\":1,\"plot\":{\"id\":\"e4892d86-69c9-4ad7-b82d-3161fd46f8c3\",\"subtype\":\"Chart\",\"type\":\"Plot\"},\"ticker\":{\"id\":\"55089a6a-d7b7-47b9-91cc-04a2a2877bf9\",\"type\":\"BasicTicker\"}},\"id\":\"429581f9-4d8d-49d1-b9e1-930e4079e567\",\"type\":\"Grid\"},{\"attributes\":{\"data_source\":{\"id\":\"c3d152c9-dd52-4fdc-a366-99ded197bc7c\",\"type\":\"ColumnDataSource\"},\"glyph\":{\"id\":\"d07ce366-14fd-48a0-90c5-6e7574f362fe\",\"type\":\"Rect\"},\"hover_glyph\":null,\"nonselection_glyph\":null,\"selection_glyph\":null},\"id\":\"abdd02c0-f67d-4425-bb28-917748081040\",\"type\":\"GlyphRenderer\"},{\"attributes\":{\"data_source\":{\"id\":\"e12708cb-3534-49b4-95f1-46c374e9ecc3\",\"type\":\"ColumnDataSource\"},\"glyph\":{\"id\":\"fa4b90f3-3229-4f2f-9e7e-5bb11e7166e5\",\"type\":\"Rect\"},\"hover_glyph\":null,\"nonselection_glyph\":null,\"selection_glyph\":null},\"id\":\"74876b60-fb9c-4f1b-9d48-46bf60a31938\",\"type\":\"GlyphRenderer\"},{\"attributes\":{\"callback\":null,\"column_names\":[\"width\",\"label\",\"line_color\",\"line_alpha\",\"color\",\"y\",\"height\",\"x\",\"fill_alpha\"],\"data\":{\"chart_index\":[\"(103.942658, 105.919638]\"],\"color\":[\"#f22c40\"],\"fill_alpha\":[0.8],\"height\":[146.0],\"label\":[\"(103.942658, 105.919638]\"],\"line_alpha\":[1.0],\"line_color\":[\"black\"],\"width\":[1.976980165044921],\"x\":[\"104.93114800000001\"],\"y\":[73.0]}},\"id\":\"df9e823a-5c4b-4894-86a2-d99f5b9d40b5\",\"type\":\"ColumnDataSource\"},{\"attributes\":{\"data_source\":{\"id\":\"327401ca-ca91-4478-96c6-1b86245c2838\",\"type\":\"ColumnDataSource\"},\"glyph\":{\"id\":\"94d61a6f-75b8-43f6-9440-7cc6a1938418\",\"type\":\"Rect\"},\"hover_glyph\":null,\"nonselection_glyph\":null,\"selection_glyph\":null},\"id\":\"f61e99cf-83bc-4a63-9003-9a7e2ff15c95\",\"type\":\"GlyphRenderer\"},{\"attributes\":{\"fill_alpha\":{\"field\":\"fill_alpha\"},\"fill_color\":{\"field\":\"color\"},\"height\":{\"field\":\"height\",\"units\":\"data\"},\"line_color\":{\"field\":\"line_color\"},\"width\":{\"field\":\"width\",\"units\":\"data\"},\"x\":{\"field\":\"x\"},\"y\":{\"field\":\"y\"}},\"id\":\"a30d20a0-ca00-4f61-be11-79ab24a14c78\",\"type\":\"Rect\"},{\"attributes\":{},\"id\":\"9afbe655-a36d-4932-a1da-4735513a7a25\",\"type\":\"BasicTicker\"},{\"attributes\":{\"data_source\":{\"id\":\"8ca9cae0-0474-468b-a22f-e919cce6b0ee\",\"type\":\"ColumnDataSource\"},\"glyph\":{\"id\":\"9376148b-b0fe-40ab-a63d-9aac6e8f9ec5\",\"type\":\"Rect\"},\"hover_glyph\":null,\"nonselection_glyph\":null,\"selection_glyph\":null},\"id\":\"b3daa52b-ac16-47a2-bba7-e985705485a2\",\"type\":\"GlyphRenderer\"},{\"attributes\":{\"plot\":{\"id\":\"c3ea08f3-860f-46d2-a08d-837617200cb5\",\"subtype\":\"Chart\",\"type\":\"Plot\"}},\"id\":\"8cffc8e5-c4b0-4017-b44f-51d18da45198\",\"type\":\"SaveTool\"},{\"attributes\":{\"data_source\":{\"id\":\"8ec87e70-61b8-40a5-9800-13dc0dee1e66\",\"type\":\"ColumnDataSource\"},\"glyph\":{\"id\":\"dc8e6c4f-ca17-4109-b111-b8528c6ea622\",\"type\":\"Rect\"},\"hover_glyph\":null,\"nonselection_glyph\":null,\"selection_glyph\":null},\"id\":\"4d0c7c88-c09d-42d4-a173-3dc523ecd908\",\"type\":\"GlyphRenderer\"},{\"attributes\":{\"callback\":null,\"column_names\":[\"width\",\"label\",\"line_color\",\"line_alpha\",\"color\",\"y\",\"height\",\"x\",\"fill_alpha\"],\"data\":{\"chart_index\":[\"(28.817412, 30.794392]\"],\"color\":[\"#f22c40\"],\"fill_alpha\":[0.8],\"height\":[110.0],\"label\":[\"(28.817412, 30.794392]\"],\"line_alpha\":[1.0],\"line_color\":[\"black\"],\"width\":[1.9769801650449246],\"x\":[\"29.805902\"],\"y\":[55.0]}},\"id\":\"1d7dcfe9-035e-4ac6-8d55-071287110088\",\"type\":\"ColumnDataSource\"},{\"attributes\":{\"data_source\":{\"id\":\"d70636d2-2cf4-4f6b-b4ca-8d560dc253a6\",\"type\":\"ColumnDataSource\"},\"glyph\":{\"id\":\"265ba871-1a6b-4d90-9f34-8ebf26618fdb\",\"type\":\"Rect\"},\"hover_glyph\":null,\"nonselection_glyph\":null,\"selection_glyph\":null},\"id\":\"df89810f-c56d-431b-b2dc-d8397eee9966\",\"type\":\"GlyphRenderer\"},{\"attributes\":{\"data_source\":{\"id\":\"01ec9a75-53d8-4df4-b44c-9a518b3cd31c\",\"type\":\"ColumnDataSource\"},\"glyph\":{\"id\":\"6a918d8e-b835-4a88-8dce-15e2dc974e68\",\"type\":\"Rect\"},\"hover_glyph\":null,\"nonselection_glyph\":null,\"selection_glyph\":null},\"id\":\"27471a18-6918-4c26-b561-deadd012086d\",\"type\":\"GlyphRenderer\"},{\"attributes\":{\"callback\":null,\"column_names\":[\"width\",\"label\",\"line_color\",\"line_alpha\",\"color\",\"y\",\"height\",\"x\",\"fill_alpha\"],\"data\":{\"chart_index\":[\"(92.080777, 94.057757]\"],\"color\":[\"#f22c40\"],\"fill_alpha\":[0.8],\"height\":[235.0],\"label\":[\"(92.080777, 94.057757]\"],\"line_alpha\":[1.0],\"line_color\":[\"black\"],\"width\":[1.976980165044921],\"x\":[\"93.069267\"],\"y\":[117.5]}},\"id\":\"1e0d6bd3-139f-454e-9c7c-9e1211f5c125\",\"type\":\"ColumnDataSource\"},{\"attributes\":{\"callback\":null,\"column_names\":[\"width\",\"label\",\"line_color\",\"line_alpha\",\"color\",\"y\",\"height\",\"x\",\"fill_alpha\"],\"data\":{\"chart_index\":[\"(233.834939, 251.821879]\"],\"color\":[\"#f22c40\"],\"fill_alpha\":[0.8],\"height\":[151.0],\"label\":[\"(233.834939, 251.821879]\"],\"line_alpha\":[1.0],\"line_color\":[\"black\"],\"width\":[17.98694043395588],\"x\":[\"242.828409\"],\"y\":[75.5]}},\"id\":\"c6ae847d-17a8-431c-b056-1165e2201a41\",\"type\":\"ColumnDataSource\"},{\"attributes\":{\"callback\":null,\"column_names\":[\"width\",\"label\",\"line_color\",\"line_alpha\",\"color\",\"y\",\"height\",\"x\",\"fill_alpha\"],\"data\":{\"chart_index\":[\"[-1.936403, -0.285609]\"],\"color\":[\"#f22c40\"],\"fill_alpha\":[0.8],\"height\":[1.0],\"label\":[\"[-1.936403, -0.285609]\"],\"line_alpha\":[1.0],\"line_color\":[\"black\"],\"width\":[1.6507939572147436],\"x\":[\"-1.1110060000000002\"],\"y\":[0.5]}},\"id\":\"8387236c-271f-4692-bba2-95ad34d9d3ca\",\"type\":\"ColumnDataSource\"},{\"attributes\":{\"fill_alpha\":{\"field\":\"fill_alpha\"},\"fill_color\":{\"field\":\"color\"},\"height\":{\"field\":\"height\",\"units\":\"data\"},\"line_color\":{\"field\":\"line_color\"},\"width\":{\"field\":\"width\",\"units\":\"data\"},\"x\":{\"field\":\"x\"},\"y\":{\"field\":\"y\"}},\"id\":\"175fc53d-2abf-432d-b57f-103a5a99d37c\",\"type\":\"Rect\"},{\"attributes\":{\"location\":\"top_left\",\"plot\":{\"id\":\"c3ea08f3-860f-46d2-a08d-837617200cb5\",\"subtype\":\"Chart\",\"type\":\"Plot\"}},\"id\":\"1ea78efd-19b8-44cf-937b-b5b902af8b3b\",\"type\":\"Legend\"},{\"attributes\":{\"callback\":null,\"end\":123.27519883252246,\"start\":17.39279116747754},\"id\":\"3cb1b278-7d45-49af-bde3-3c3161d15f11\",\"type\":\"Range1d\"},{\"attributes\":{\"callback\":null,\"column_names\":[\"width\",\"label\",\"line_color\",\"line_alpha\",\"color\",\"y\",\"height\",\"x\",\"fill_alpha\"],\"data\":{\"chart_index\":[\"(9.619155, 11.269949]\"],\"color\":[\"#f22c40\"],\"fill_alpha\":[0.8],\"height\":[12.0],\"label\":[\"(9.619155, 11.269949]\"],\"line_alpha\":[1.0],\"line_color\":[\"black\"],\"width\":[1.6507939572147432],\"x\":[\"10.444552\"],\"y\":[6.0]}},\"id\":\"fbbceb98-6bad-41a9-a50d-5908807f077c\",\"type\":\"ColumnDataSource\"},{\"attributes\":{\"callback\":null,\"column_names\":[\"width\",\"label\",\"line_color\",\"line_alpha\",\"color\",\"y\",\"height\",\"x\",\"fill_alpha\"],\"data\":{\"chart_index\":[\"(215.847998, 233.834939]\"],\"color\":[\"#f22c40\"],\"fill_alpha\":[0.8],\"height\":[169.0],\"label\":[\"(215.847998, 233.834939]\"],\"line_alpha\":[1.0],\"line_color\":[\"black\"],\"width\":[17.98694043395591],\"x\":[\"224.8414685\"],\"y\":[84.5]}},\"id\":\"a441f7c1-a8e9-4981-ad1f-b007f95f1566\",\"type\":\"ColumnDataSource\"},{\"attributes\":{\"data_source\":{\"id\":\"d15cdf46-33d6-44a6-8425-7c69166767e4\",\"type\":\"ColumnDataSource\"},\"glyph\":{\"id\":\"669db71f-4040-4845-aeb3-d122ad1a86c9\",\"type\":\"Rect\"},\"hover_glyph\":null,\"nonselection_glyph\":null,\"selection_glyph\":null},\"id\":\"25b9eaeb-bc5d-4ebc-938f-ab1aac29777a\",\"type\":\"GlyphRenderer\"},{\"attributes\":{\"data_source\":{\"id\":\"3a422725-de15-4d6d-aea9-568aaa70e13b\",\"type\":\"ColumnDataSource\"},\"glyph\":{\"id\":\"42b9c3d2-56f2-4c40-ac78-313e9efb28ae\",\"type\":\"Rect\"},\"hover_glyph\":null,\"nonselection_glyph\":null,\"selection_glyph\":null},\"id\":\"ffcbdfec-12a8-4e51-924e-86c5cc296a05\",\"type\":\"GlyphRenderer\"},{\"attributes\":{\"callback\":null,\"column_names\":[\"width\",\"label\",\"line_color\",\"line_alpha\",\"color\",\"y\",\"height\",\"x\",\"fill_alpha\"],\"data\":{\"chart_index\":[\"(755.456211, 773.443152]\"],\"color\":[\"#f22c40\"],\"fill_alpha\":[0.8],\"height\":[0.0],\"label\":[\"(755.456211, 773.443152]\"],\"line_alpha\":[1.0],\"line_color\":[\"black\"],\"width\":[17.986940433955965],\"x\":[\"764.4496815\"],\"y\":[0.0]}},\"id\":\"bdea4395-4334-4102-93eb-d9b56f072d15\",\"type\":\"ColumnDataSource\"},{\"attributes\":{\"fill_alpha\":{\"field\":\"fill_alpha\"},\"fill_color\":{\"field\":\"color\"},\"height\":{\"field\":\"height\",\"units\":\"data\"},\"line_color\":{\"field\":\"line_color\"},\"width\":{\"field\":\"width\",\"units\":\"data\"},\"x\":{\"field\":\"x\"},\"y\":{\"field\":\"y\"}},\"id\":\"299b8fb9-fa82-43db-83e7-f88ec160666a\",\"type\":\"Rect\"},{\"attributes\":{\"data_source\":{\"id\":\"08311f30-c24e-48f6-b501-836cd6f29237\",\"type\":\"ColumnDataSource\"},\"glyph\":{\"id\":\"1ba4168c-466d-4b11-8dd9-24fbc0114b02\",\"type\":\"Rect\"},\"hover_glyph\":null,\"nonselection_glyph\":null,\"selection_glyph\":null},\"id\":\"ea8524c2-cfce-4cb1-ad2a-626a389f53ee\",\"type\":\"GlyphRenderer\"},{\"attributes\":{\"callback\":null,\"column_names\":[\"width\",\"label\",\"line_color\",\"line_alpha\",\"color\",\"y\",\"height\",\"x\",\"fill_alpha\"],\"data\":{\"chart_index\":[\"(70.333995, 72.310975]\"],\"color\":[\"#f22c40\"],\"fill_alpha\":[0.8],\"height\":[289.0],\"label\":[\"(70.333995, 72.310975]\"],\"line_alpha\":[1.0],\"line_color\":[\"black\"],\"width\":[1.976980165044921],\"x\":[\"71.322485\"],\"y\":[144.5]}},\"id\":\"e8749b92-1e3d-45a0-97df-986e5d7d0099\",\"type\":\"ColumnDataSource\"},{\"attributes\":{\"fill_alpha\":{\"field\":\"fill_alpha\"},\"fill_color\":{\"field\":\"color\"},\"height\":{\"field\":\"height\",\"units\":\"data\"},\"line_color\":{\"field\":\"line_color\"},\"width\":{\"field\":\"width\",\"units\":\"data\"},\"x\":{\"field\":\"x\"},\"y\":{\"field\":\"y\"}},\"id\":\"cf11609e-c6a3-417d-bb6d-81c92bb38bfc\",\"type\":\"Rect\"},{\"attributes\":{\"data_source\":{\"id\":\"fdb0cf75-0e59-4245-8225-52bd3e984595\",\"type\":\"ColumnDataSource\"},\"glyph\":{\"id\":\"b0830350-677c-42cf-8c08-e8c87d78fb80\",\"type\":\"Rect\"},\"hover_glyph\":null,\"nonselection_glyph\":null,\"selection_glyph\":null},\"id\":\"d554e092-651b-4ecb-8c8b-c886d7d8950d\",\"type\":\"GlyphRenderer\"},{\"attributes\":{\"data_source\":{\"id\":\"696c6f5a-6633-46b0-8c92-53030e44771e\",\"type\":\"ColumnDataSource\"},\"glyph\":{\"id\":\"a6b4d877-4864-4cec-8c62-94714d60a39d\",\"type\":\"Rect\"},\"hover_glyph\":null,\"nonselection_glyph\":null,\"selection_glyph\":null},\"id\":\"95f455c4-e41c-468d-b3a6-82faba510ac9\",\"type\":\"GlyphRenderer\"},{\"attributes\":{\"callback\":null,\"column_names\":[\"width\",\"label\",\"line_color\",\"line_alpha\",\"color\",\"y\",\"height\",\"x\",\"fill_alpha\"],\"data\":{\"chart_index\":[\"(125.913296, 143.900237]\"],\"color\":[\"#f22c40\"],\"fill_alpha\":[0.8],\"height\":[461.0],\"label\":[\"(125.913296, 143.900237]\"],\"line_alpha\":[1.0],\"line_color\":[\"black\"],\"width\":[17.986940433955922],\"x\":[\"134.9067665\"],\"y\":[230.5]}},\"id\":\"460f73f3-91b2-41e9-9d94-9bd2f482eaa4\",\"type\":\"ColumnDataSource\"},{\"attributes\":{\"callback\":null,\"column_names\":[\"width\",\"label\",\"line_color\",\"line_alpha\",\"color\",\"y\",\"height\",\"x\",\"fill_alpha\"],\"data\":{\"chart_index\":[\"(54.518154, 56.495134]\"],\"color\":[\"#f22c40\"],\"fill_alpha\":[0.8],\"height\":[286.0],\"label\":[\"(54.518154, 56.495134]\"],\"line_alpha\":[1.0],\"line_color\":[\"black\"],\"width\":[1.976980165044921],\"x\":[\"55.506644\"],\"y\":[143.0]}},\"id\":\"0e6fd8af-8f0c-4acf-8a06-48b85308e50f\",\"type\":\"ColumnDataSource\"},{\"attributes\":{},\"id\":\"55089a6a-d7b7-47b9-91cc-04a2a2877bf9\",\"type\":\"BasicTicker\"},{\"attributes\":{\"fill_alpha\":{\"field\":\"fill_alpha\"},\"fill_color\":{\"field\":\"color\"},\"height\":{\"field\":\"height\",\"units\":\"data\"},\"line_color\":{\"field\":\"line_color\"},\"width\":{\"field\":\"width\",\"units\":\"data\"},\"x\":{\"field\":\"x\"},\"y\":{\"field\":\"y\"}},\"id\":\"1a6aa7fc-8cc6-4a37-9332-a6907250f257\",\"type\":\"Rect\"},{\"attributes\":{\"data_source\":{\"id\":\"01302e98-1c69-4829-b7be-a28eee440340\",\"type\":\"ColumnDataSource\"},\"glyph\":{\"id\":\"93cacbd9-4e87-4396-94ae-2048e9c735ca\",\"type\":\"Rect\"},\"hover_glyph\":null,\"nonselection_glyph\":null,\"selection_glyph\":null},\"id\":\"811e2958-cf48-4928-833f-02dabe26cd0a\",\"type\":\"GlyphRenderer\"},{\"attributes\":{\"callback\":null,\"column_names\":[\"width\",\"label\",\"line_color\",\"line_alpha\",\"color\",\"y\",\"height\",\"x\",\"fill_alpha\"],\"data\":{\"chart_index\":[\"(3.015979, 4.666773]\"],\"color\":[\"#f22c40\"],\"fill_alpha\":[0.8],\"height\":[0.0],\"label\":[\"(3.015979, 4.666773]\"],\"line_alpha\":[1.0],\"line_color\":[\"black\"],\"width\":[1.6507939572147432],\"x\":[\"3.8413760000000003\"],\"y\":[0.0]}},\"id\":\"0d77a811-879b-4c6e-a3eb-1c81df5c5789\",\"type\":\"ColumnDataSource\"},{\"attributes\":{\"callback\":null,\"column_names\":[\"width\",\"label\",\"line_color\",\"line_alpha\",\"color\",\"y\",\"height\",\"x\",\"fill_alpha\"],\"data\":{\"chart_index\":[\"(24.006389, 26.005970]\"],\"color\":[\"#f22c40\"],\"fill_alpha\":[0.8],\"height\":[180.0],\"label\":[\"(24.006389, 26.005970]\"],\"line_alpha\":[1.0],\"line_color\":[\"black\"],\"width\":[1.9995804859201343],\"x\":[\"25.006179500000002\"],\"y\":[90.0]}},\"id\":\"20964fc5-5835-4666-92c2-a5ac9db03d23\",\"type\":\"ColumnDataSource\"},{\"attributes\":{\"fill_alpha\":{\"field\":\"fill_alpha\"},\"fill_color\":{\"field\":\"color\"},\"height\":{\"field\":\"height\",\"units\":\"data\"},\"line_color\":{\"field\":\"line_color\"},\"width\":{\"field\":\"width\",\"units\":\"data\"},\"x\":{\"field\":\"x\"},\"y\":{\"field\":\"y\"}},\"id\":\"265ba871-1a6b-4d90-9f34-8ebf26618fdb\",\"type\":\"Rect\"},{\"attributes\":{\"data_source\":{\"id\":\"fe11ea37-0c39-43ca-a4d0-4c7e2421f192\",\"type\":\"ColumnDataSource\"},\"glyph\":{\"id\":\"026ae04d-4ee9-42cb-aba5-2bd0cd28685f\",\"type\":\"Rect\"},\"hover_glyph\":null,\"nonselection_glyph\":null,\"selection_glyph\":null},\"id\":\"c45942a2-c04a-4826-a093-e7175d5281e1\",\"type\":\"GlyphRenderer\"},{\"attributes\":{\"callback\":null,\"column_names\":[\"width\",\"label\",\"line_color\",\"line_alpha\",\"color\",\"y\",\"height\",\"x\",\"fill_alpha\"],\"data\":{\"chart_index\":[\"(881.364794, 899.351735]\"],\"color\":[\"#f22c40\"],\"fill_alpha\":[0.8],\"height\":[1.0],\"label\":[\"(881.364794, 899.351735]\"],\"line_alpha\":[1.0],\"line_color\":[\"black\"],\"width\":[17.986940433955965],\"x\":[\"890.3582644999999\"],\"y\":[0.5]}},\"id\":\"0bffe2cd-fb39-44c6-8515-2e787e1f7f64\",\"type\":\"ColumnDataSource\"},{\"attributes\":{\"callback\":null,\"end\":921.8356459044779,\"start\":-22.47919840447795},\"id\":\"84010b1f-3d36-4831-976a-e0a0487558e6\",\"type\":\"Range1d\"},{\"attributes\":{\"callback\":null,\"end\":254.10000000000002},\"id\":\"d9f62099-68e4-4f66-998a-c9d3ddf00681\",\"type\":\"Range1d\"},{\"attributes\":{\"fill_alpha\":{\"field\":\"fill_alpha\"},\"fill_color\":{\"field\":\"color\"},\"height\":{\"field\":\"height\",\"units\":\"data\"},\"line_color\":{\"field\":\"line_color\"},\"width\":{\"field\":\"width\",\"units\":\"data\"},\"x\":{\"field\":\"x\"},\"y\":{\"field\":\"y\"}},\"id\":\"62db315a-c835-472c-b4ee-f4d725d80c0b\",\"type\":\"Rect\"},{\"attributes\":{\"callback\":null,\"column_names\":[\"width\",\"label\",\"line_color\",\"line_alpha\",\"color\",\"y\",\"height\",\"x\",\"fill_alpha\"],\"data\":{\"chart_index\":[\"(34.748352, 36.725332]\"],\"color\":[\"#f22c40\"],\"fill_alpha\":[0.8],\"height\":[159.0],\"label\":[\"(34.748352, 36.725332]\"],\"line_alpha\":[1.0],\"line_color\":[\"black\"],\"width\":[1.976980165044921],\"x\":[\"35.736841999999996\"],\"y\":[79.5]}},\"id\":\"71359fdc-d7fe-4942-89c2-c13a465edf5e\",\"type\":\"ColumnDataSource\"},{\"attributes\":{\"data_source\":{\"id\":\"9741d53c-32f8-417f-a67e-6498a5708470\",\"type\":\"ColumnDataSource\"},\"glyph\":{\"id\":\"c1fb465e-4a9a-4931-ab00-fac134a89f8b\",\"type\":\"Rect\"},\"hover_glyph\":null,\"nonselection_glyph\":null,\"selection_glyph\":null},\"id\":\"00fb07e6-4096-4db3-b52b-8d34a731958a\",\"type\":\"GlyphRenderer\"},{\"attributes\":{\"data_source\":{\"id\":\"2bf2489b-1d73-489d-9a6c-7b5b885db810\",\"type\":\"ColumnDataSource\"},\"glyph\":{\"id\":\"13051f1d-ac15-434f-8b3d-a0bb016661cd\",\"type\":\"Rect\"},\"hover_glyph\":null,\"nonselection_glyph\":null,\"selection_glyph\":null},\"id\":\"11eb60ba-3219-4311-b27e-db704d97d3ae\",\"type\":\"GlyphRenderer\"},{\"attributes\":{\"data_source\":{\"id\":\"5ab8340e-3170-4931-b924-10acdc91c0a3\",\"type\":\"ColumnDataSource\"},\"glyph\":{\"id\":\"a773dfbb-01ea-4c72-9957-a763e3f17061\",\"type\":\"Rect\"},\"hover_glyph\":null,\"nonselection_glyph\":null,\"selection_glyph\":null},\"id\":\"94fb5d25-4197-448f-a4c4-ce18ed7d78a3\",\"type\":\"GlyphRenderer\"},{\"attributes\":{\"data_source\":{\"id\":\"d583df3f-9feb-482b-b6ca-59a42ff5166a\",\"type\":\"ColumnDataSource\"},\"glyph\":{\"id\":\"f73b4ad6-f958-4536-8d5d-ed8539972b2e\",\"type\":\"Rect\"},\"hover_glyph\":null,\"nonselection_glyph\":null,\"selection_glyph\":null},\"id\":\"3230864f-6869-4a9a-9c59-09e066723752\",\"type\":\"GlyphRenderer\"},{\"attributes\":{\"fill_alpha\":{\"field\":\"fill_alpha\"},\"fill_color\":{\"field\":\"color\"},\"height\":{\"field\":\"height\",\"units\":\"data\"},\"line_color\":{\"field\":\"line_color\"},\"width\":{\"field\":\"width\",\"units\":\"data\"},\"x\":{\"field\":\"x\"},\"y\":{\"field\":\"y\"}},\"id\":\"91770157-331a-4beb-8883-e312cb2ac9b1\",\"type\":\"Rect\"},{\"attributes\":{\"fill_alpha\":{\"field\":\"fill_alpha\"},\"fill_color\":{\"field\":\"color\"},\"height\":{\"field\":\"height\",\"units\":\"data\"},\"line_color\":{\"field\":\"line_color\"},\"width\":{\"field\":\"width\",\"units\":\"data\"},\"x\":{\"field\":\"x\"},\"y\":{\"field\":\"y\"}},\"id\":\"91139d6e-dd82-44d4-b4b4-f6fea9efc088\",\"type\":\"Rect\"},{\"attributes\":{\"fill_alpha\":{\"field\":\"fill_alpha\"},\"fill_color\":{\"field\":\"color\"},\"height\":{\"field\":\"height\",\"units\":\"data\"},\"line_color\":{\"field\":\"line_color\"},\"width\":{\"field\":\"width\",\"units\":\"data\"},\"x\":{\"field\":\"x\"},\"y\":{\"field\":\"y\"}},\"id\":\"baa8d108-76b1-4aa1-95aa-dc02af7d369d\",\"type\":\"Rect\"},{\"attributes\":{\"callback\":null,\"column_names\":[\"width\",\"label\",\"line_color\",\"line_alpha\",\"color\",\"y\",\"height\",\"x\",\"fill_alpha\"],\"data\":{\"chart_index\":[\"(40.003033, 42.002614]\"],\"color\":[\"#f22c40\"],\"fill_alpha\":[0.8],\"height\":[220.0],\"label\":[\"(40.003033, 42.002614]\"],\"line_alpha\":[1.0],\"line_color\":[\"black\"],\"width\":[1.9995804859201343],\"x\":[\"41.002823500000005\"],\"y\":[110.0]}},\"id\":\"b788b94a-0bbf-4be8-81c5-83096260a6d4\",\"type\":\"ColumnDataSource\"},{\"attributes\":{\"data_source\":{\"id\":\"0bffe2cd-fb39-44c6-8515-2e787e1f7f64\",\"type\":\"ColumnDataSource\"},\"glyph\":{\"id\":\"b6f154b3-4d3f-4b3c-9cbd-3ad0f699acda\",\"type\":\"Rect\"},\"hover_glyph\":null,\"nonselection_glyph\":null,\"selection_glyph\":null},\"id\":\"00d5e159-f1ab-4843-8e7e-1cc70ef8cda5\",\"type\":\"GlyphRenderer\"},{\"attributes\":{\"callback\":null,\"column_names\":[\"width\",\"label\",\"line_color\",\"line_alpha\",\"color\",\"y\",\"height\",\"x\",\"fill_alpha\"],\"data\":{\"chart_index\":[\"(49.238210, 50.889004]\"],\"color\":[\"#f22c40\"],\"fill_alpha\":[0.8],\"height\":[386.0],\"label\":[\"(49.238210, 50.889004]\"],\"line_alpha\":[1.0],\"line_color\":[\"black\"],\"width\":[1.650793957214745],\"x\":[\"50.063607000000005\"],\"y\":[193.0]}},\"id\":\"99149f8a-2691-4a63-bb30-9b291f53adfa\",\"type\":\"ColumnDataSource\"},{\"attributes\":{\"active_drag\":\"auto\",\"active_scroll\":\"auto\",\"active_tap\":\"auto\",\"tools\":[{\"id\":\"c77bee5c-5fe2-459e-b992-92f871ed5fdc\",\"type\":\"PanTool\"},{\"id\":\"e9c5d442-27bd-4608-ad27-c21b4605f2d3\",\"type\":\"WheelZoomTool\"},{\"id\":\"fa0dd62a-c22a-4b84-b262-cb71fec2db92\",\"type\":\"BoxZoomTool\"},{\"id\":\"8cffc8e5-c4b0-4017-b44f-51d18da45198\",\"type\":\"SaveTool\"},{\"id\":\"f89fd60f-8bd0-406f-bbb1-0f0b26b3bd85\",\"type\":\"ResetTool\"},{\"id\":\"9ca1636b-241c-4137-ac53-b5fb3e9c0644\",\"type\":\"HelpTool\"}]},\"id\":\"1d816a0a-bbb5-4ba4-aa04-adda85385479\",\"type\":\"Toolbar\"},{\"attributes\":{\"fill_alpha\":{\"field\":\"fill_alpha\"},\"fill_color\":{\"field\":\"color\"},\"height\":{\"field\":\"height\",\"units\":\"data\"},\"line_color\":{\"field\":\"line_color\"},\"width\":{\"field\":\"width\",\"units\":\"data\"},\"x\":{\"field\":\"x\"},\"y\":{\"field\":\"y\"}},\"id\":\"5c789e5b-f063-47e6-bf92-6e815948d3c1\",\"type\":\"Rect\"},{\"attributes\":{\"callback\":null,\"column_names\":[\"width\",\"label\",\"line_color\",\"line_alpha\",\"color\",\"y\",\"height\",\"x\",\"fill_alpha\"],\"data\":{\"chart_index\":[\"(96.034737, 98.011718]\"],\"color\":[\"#f22c40\"],\"fill_alpha\":[0.8],\"height\":[191.0],\"label\":[\"(96.034737, 98.011718]\"],\"line_alpha\":[1.0],\"line_color\":[\"black\"],\"width\":[1.976980165044921],\"x\":[\"97.0232275\"],\"y\":[95.5]}},\"id\":\"48e4178c-16e9-47fb-8680-afe5423dda45\",\"type\":\"ColumnDataSource\"},{\"attributes\":{\"plot\":{\"id\":\"c3ea08f3-860f-46d2-a08d-837617200cb5\",\"subtype\":\"Chart\",\"type\":\"Plot\"}},\"id\":\"e9c5d442-27bd-4608-ad27-c21b4605f2d3\",\"type\":\"WheelZoomTool\"},{\"attributes\":{\"fill_alpha\":{\"field\":\"fill_alpha\"},\"fill_color\":{\"field\":\"color\"},\"height\":{\"field\":\"height\",\"units\":\"data\"},\"line_color\":{\"field\":\"line_color\"},\"width\":{\"field\":\"width\",\"units\":\"data\"},\"x\":{\"field\":\"x\"},\"y\":{\"field\":\"y\"}},\"id\":\"59cf7395-4f48-4840-a4b5-186839760026\",\"type\":\"Rect\"},{\"attributes\":{\"data_source\":{\"id\":\"02986806-c540-4e93-86c7-ab1c3ac10e19\",\"type\":\"ColumnDataSource\"},\"glyph\":{\"id\":\"ecff84bd-9e37-4a9e-8049-4d7b6f8c6ad8\",\"type\":\"Rect\"},\"hover_glyph\":null,\"nonselection_glyph\":null,\"selection_glyph\":null},\"id\":\"96865b20-041d-4b43-bb5f-2cf8374d1ed7\",\"type\":\"GlyphRenderer\"},{\"attributes\":{},\"id\":\"ba28b16f-8809-44b9-b9cb-770137720e05\",\"type\":\"ToolEvents\"},{\"attributes\":{\"callback\":null,\"column_names\":[\"width\",\"label\",\"line_color\",\"line_alpha\",\"color\",\"y\",\"height\",\"x\",\"fill_alpha\"],\"data\":{\"chart_index\":[\"[20.909491, 22.886471]\"],\"color\":[\"#f22c40\"],\"fill_alpha\":[0.8],\"height\":[19.0],\"label\":[\"[20.909491, 22.886471]\"],\"line_alpha\":[1.0],\"line_color\":[\"black\"],\"width\":[1.9769801650449246],\"x\":[\"21.897981\"],\"y\":[9.5]}},\"id\":\"206e10b0-96cc-4e96-9e78-aea0c630d040\",\"type\":\"ColumnDataSource\"},{\"attributes\":{\"callback\":null,\"column_names\":[\"width\",\"label\",\"line_color\",\"line_alpha\",\"color\",\"y\",\"height\",\"x\",\"fill_alpha\"],\"data\":{\"chart_index\":[\"(78.241916, 80.218896]\"],\"color\":[\"#f22c40\"],\"fill_alpha\":[0.8],\"height\":[270.0],\"label\":[\"(78.241916, 80.218896]\"],\"line_alpha\":[1.0],\"line_color\":[\"black\"],\"width\":[1.976980165044921],\"x\":[\"79.230406\"],\"y\":[135.0]}},\"id\":\"68652bc7-9c47-4db2-adca-083e15be6200\",\"type\":\"ColumnDataSource\"},{\"attributes\":{\"fill_alpha\":{\"field\":\"fill_alpha\"},\"fill_color\":{\"field\":\"color\"},\"height\":{\"field\":\"height\",\"units\":\"data\"},\"line_color\":{\"field\":\"line_color\"},\"width\":{\"field\":\"width\",\"units\":\"data\"},\"x\":{\"field\":\"x\"},\"y\":{\"field\":\"y\"}},\"id\":\"f32638d4-cbc0-4d54-95bf-f0bc4703fdb8\",\"type\":\"Rect\"},{\"attributes\":{\"fill_alpha\":{\"field\":\"fill_alpha\"},\"fill_color\":{\"field\":\"color\"},\"height\":{\"field\":\"height\",\"units\":\"data\"},\"line_color\":{\"field\":\"line_color\"},\"width\":{\"field\":\"width\",\"units\":\"data\"},\"x\":{\"field\":\"x\"},\"y\":{\"field\":\"y\"}},\"id\":\"ddef57a7-2ff7-4642-9fd4-c3e857983aff\",\"type\":\"Rect\"},{\"attributes\":{\"data_source\":{\"id\":\"3dff1fb3-61e7-4954-8c06-79265a2c1dfb\",\"type\":\"ColumnDataSource\"},\"glyph\":{\"id\":\"9c402dd2-5983-4ce8-b996-ad90a1cbad82\",\"type\":\"Rect\"},\"hover_glyph\":null,\"nonselection_glyph\":null,\"selection_glyph\":null},\"id\":\"521c594f-af6a-4c4a-b49a-cdf253068fa7\",\"type\":\"GlyphRenderer\"},{\"attributes\":{\"data_source\":{\"id\":\"6ea6ab5d-964b-410f-a5d1-422acf149341\",\"type\":\"ColumnDataSource\"},\"glyph\":{\"id\":\"f5171387-52ba-4976-a4c4-e56454d0a6e7\",\"type\":\"Rect\"},\"hover_glyph\":null,\"nonselection_glyph\":null,\"selection_glyph\":null},\"id\":\"f979342c-1e9d-49c4-9a4c-a3408749d434\",\"type\":\"GlyphRenderer\"},{\"attributes\":{\"callback\":null,\"column_names\":[\"width\",\"label\",\"line_color\",\"line_alpha\",\"color\",\"y\",\"height\",\"x\",\"fill_alpha\"],\"data\":{\"chart_index\":[\"(68.357015, 70.333995]\"],\"color\":[\"#f22c40\"],\"fill_alpha\":[0.8],\"height\":[313.0],\"label\":[\"(68.357015, 70.333995]\"],\"line_alpha\":[1.0],\"line_color\":[\"black\"],\"width\":[1.976980165044921],\"x\":[\"69.345505\"],\"y\":[156.5]}},\"id\":\"01c77274-b9c6-4783-9245-8388c0873d5b\",\"type\":\"ColumnDataSource\"},{\"attributes\":{\"axis_label\":\"a\",\"formatter\":{\"id\":\"8652bc8e-6ff2-4330-8b57-fb2b3a98893e\",\"type\":\"BasicTickFormatter\"},\"plot\":{\"id\":\"e4892d86-69c9-4ad7-b82d-3161fd46f8c3\",\"subtype\":\"Chart\",\"type\":\"Plot\"},\"ticker\":{\"id\":\"86fb91f1-b757-4d75-8a6d-397432ca4f01\",\"type\":\"BasicTicker\"}},\"id\":\"7daf496c-e4a4-44a8-8780-87599dd2211a\",\"type\":\"LinearAxis\"},{\"attributes\":{\"plot\":null,\"text\":null},\"id\":\"c8980a37-58b0-4e41-968f-4dc643f3c4f3\",\"type\":\"Title\"},{\"attributes\":{\"callback\":null,\"column_names\":[\"width\",\"label\",\"line_color\",\"line_alpha\",\"color\",\"y\",\"height\",\"x\",\"fill_alpha\"],\"data\":{\"chart_index\":[\"(28.005550, 30.005131]\"],\"color\":[\"#f22c40\"],\"fill_alpha\":[0.8],\"height\":[220.0],\"label\":[\"(28.005550, 30.005131]\"],\"line_alpha\":[1.0],\"line_color\":[\"black\"],\"width\":[1.9995804859201378],\"x\":[\"29.0053405\"],\"y\":[110.0]}},\"id\":\"51ae52d4-06cb-41cf-ae73-d0ed0bf45b75\",\"type\":\"ColumnDataSource\"},{\"attributes\":{\"data_source\":{\"id\":\"22b6b9ad-4174-4bda-9f38-8316625c365b\",\"type\":\"ColumnDataSource\"},\"glyph\":{\"id\":\"5b5a40cc-4bc0-41cd-a579-560a1fbcffd7\",\"type\":\"Rect\"},\"hover_glyph\":null,\"nonselection_glyph\":null,\"selection_glyph\":null},\"id\":\"c57a1c5b-f557-4d5a-a97d-e10ad1468816\",\"type\":\"GlyphRenderer\"},{\"attributes\":{\"callback\":null,\"column_names\":[\"width\",\"label\",\"line_color\",\"line_alpha\",\"color\",\"y\",\"height\",\"x\",\"fill_alpha\"],\"data\":{\"chart_index\":[\"(52.539798, 54.190592]\"],\"color\":[\"#f22c40\"],\"fill_alpha\":[0.8],\"height\":[274.0],\"label\":[\"(52.539798, 54.190592]\"],\"line_alpha\":[1.0],\"line_color\":[\"black\"],\"width\":[1.650793957214745],\"x\":[\"53.365195\"],\"y\":[137.0]}},\"id\":\"fb2ee668-c430-4859-8233-69ca1ed77d50\",\"type\":\"ColumnDataSource\"},{\"attributes\":{\"fill_alpha\":{\"field\":\"fill_alpha\"},\"fill_color\":{\"field\":\"color\"},\"height\":{\"field\":\"height\",\"units\":\"data\"},\"line_color\":{\"field\":\"line_color\"},\"width\":{\"field\":\"width\",\"units\":\"data\"},\"x\":{\"field\":\"x\"},\"y\":{\"field\":\"y\"}},\"id\":\"a926bbea-a449-4b24-b74d-c102eeaff32d\",\"type\":\"Rect\"},{\"attributes\":{\"callback\":null,\"column_names\":[\"width\",\"label\",\"line_color\",\"line_alpha\",\"color\",\"y\",\"height\",\"x\",\"fill_alpha\"],\"data\":{\"chart_index\":[\"(71.996321, 73.995901]\"],\"color\":[\"#f22c40\"],\"fill_alpha\":[0.8],\"height\":[201.0],\"label\":[\"(71.996321, 73.995901]\"],\"line_alpha\":[1.0],\"line_color\":[\"black\"],\"width\":[1.9995804859201343],\"x\":[\"72.996111\"],\"y\":[100.5]}},\"id\":\"8ca9cae0-0474-468b-a22f-e919cce6b0ee\",\"type\":\"ColumnDataSource\"},{\"attributes\":{\"fill_alpha\":{\"field\":\"fill_alpha\"},\"fill_color\":{\"field\":\"color\"},\"height\":{\"field\":\"height\",\"units\":\"data\"},\"line_color\":{\"field\":\"line_color\"},\"width\":{\"field\":\"width\",\"units\":\"data\"},\"x\":{\"field\":\"x\"},\"y\":{\"field\":\"y\"}},\"id\":\"9c402dd2-5983-4ce8-b996-ad90a1cbad82\",\"type\":\"Rect\"},{\"attributes\":{\"data_source\":{\"id\":\"6cc79643-b942-4006-a741-172c35cfb42d\",\"type\":\"ColumnDataSource\"},\"glyph\":{\"id\":\"d96746ea-1faf-4566-949f-2ee9dc72f5c7\",\"type\":\"Rect\"},\"hover_glyph\":null,\"nonselection_glyph\":null,\"selection_glyph\":null},\"id\":\"c6ed71d3-5f08-4abf-8443-ecdcb2e07889\",\"type\":\"GlyphRenderer\"},{\"attributes\":{\"fill_alpha\":{\"field\":\"fill_alpha\"},\"fill_color\":{\"field\":\"color\"},\"height\":{\"field\":\"height\",\"units\":\"data\"},\"line_color\":{\"field\":\"line_color\"},\"width\":{\"field\":\"width\",\"units\":\"data\"},\"x\":{\"field\":\"x\"},\"y\":{\"field\":\"y\"}},\"id\":\"7ebb8848-e09b-4c52-b417-76437a04961d\",\"type\":\"Rect\"},{\"attributes\":{\"plot\":{\"id\":\"d8388f20-687d-47a7-88c3-e785246d4dea\",\"subtype\":\"Chart\",\"type\":\"Plot\"}},\"id\":\"01ff77d1-7772-4638-9758-77bff58f57cb\",\"type\":\"WheelZoomTool\"},{\"attributes\":{\"callback\":null,\"column_names\":[\"width\",\"label\",\"line_color\",\"line_alpha\",\"color\",\"y\",\"height\",\"x\",\"fill_alpha\"],\"data\":{\"chart_index\":[\"(52.541174, 54.518154]\"],\"color\":[\"#f22c40\"],\"fill_alpha\":[0.8],\"height\":[296.0],\"label\":[\"(52.541174, 54.518154]\"],\"line_alpha\":[1.0],\"line_color\":[\"black\"],\"width\":[1.976980165044921],\"x\":[\"53.529664\"],\"y\":[148.0]}},\"id\":\"3ef7405c-ef09-4c05-ba50-268b28321525\",\"type\":\"ColumnDataSource\"},{\"attributes\":{\"fill_alpha\":{\"field\":\"fill_alpha\"},\"fill_color\":{\"field\":\"color\"},\"height\":{\"field\":\"height\",\"units\":\"data\"},\"line_color\":{\"field\":\"line_color\"},\"width\":{\"field\":\"width\",\"units\":\"data\"},\"x\":{\"field\":\"x\"},\"y\":{\"field\":\"y\"}},\"id\":\"fad6cb43-9626-4d7f-af27-83c3bb9ddcea\",\"type\":\"Rect\"},{\"attributes\":{\"data_source\":{\"id\":\"b4bd9bcc-b3c2-4eee-b700-17fb7aa06972\",\"type\":\"ColumnDataSource\"},\"glyph\":{\"id\":\"237e2b8a-8d5b-412c-90e8-99a6addc4b1e\",\"type\":\"Rect\"},\"hover_glyph\":null,\"nonselection_glyph\":null,\"selection_glyph\":null},\"id\":\"13ce9472-766a-41b3-a8cb-693d7bd02d8f\",\"type\":\"GlyphRenderer\"},{\"attributes\":{\"data_source\":{\"id\":\"62787bd1-6a20-4829-b863-34f6505fdc1c\",\"type\":\"ColumnDataSource\"},\"glyph\":{\"id\":\"c7ff3d08-e078-4b4f-a70f-ba5428b6b34f\",\"type\":\"Rect\"},\"hover_glyph\":null,\"nonselection_glyph\":null,\"selection_glyph\":null},\"id\":\"a847c945-f0df-4141-bc1f-0e1d61f5cbe2\",\"type\":\"GlyphRenderer\"},{\"attributes\":{\"data_source\":{\"id\":\"01c77274-b9c6-4783-9245-8388c0873d5b\",\"type\":\"ColumnDataSource\"},\"glyph\":{\"id\":\"8be61e63-8346-44f7-b6f1-e00f6bbf8dfd\",\"type\":\"Rect\"},\"hover_glyph\":null,\"nonselection_glyph\":null,\"selection_glyph\":null},\"id\":\"04c81a0e-73b9-48d9-8dc3-5ee2bbbfba43\",\"type\":\"GlyphRenderer\"},{\"attributes\":{\"fill_alpha\":{\"field\":\"fill_alpha\"},\"fill_color\":{\"field\":\"color\"},\"height\":{\"field\":\"height\",\"units\":\"data\"},\"line_color\":{\"field\":\"line_color\"},\"width\":{\"field\":\"width\",\"units\":\"data\"},\"x\":{\"field\":\"x\"},\"y\":{\"field\":\"y\"}},\"id\":\"df740a1a-09b0-4876-83dc-52481ff609f8\",\"type\":\"Rect\"},{\"attributes\":{\"callback\":null,\"column_names\":[\"width\",\"label\",\"line_color\",\"line_alpha\",\"color\",\"y\",\"height\",\"x\",\"fill_alpha\"],\"data\":{\"chart_index\":[\"(44.633253, 46.610233]\"],\"color\":[\"#f22c40\"],\"fill_alpha\":[0.8],\"height\":[235.0],\"label\":[\"(44.633253, 46.610233]\"],\"line_alpha\":[1.0],\"line_color\":[\"black\"],\"width\":[1.976980165044921],\"x\":[\"45.621743\"],\"y\":[117.5]}},\"id\":\"c3d152c9-dd52-4fdc-a366-99ded197bc7c\",\"type\":\"ColumnDataSource\"},{\"attributes\":{\"callback\":null,\"end\":716.1},\"id\":\"50c55861-22b1-4fb0-bc1e-d4c7ea546cab\",\"type\":\"Range1d\"},{\"attributes\":{\"data_source\":{\"id\":\"c6ae847d-17a8-431c-b056-1165e2201a41\",\"type\":\"ColumnDataSource\"},\"glyph\":{\"id\":\"fad6cb43-9626-4d7f-af27-83c3bb9ddcea\",\"type\":\"Rect\"},\"hover_glyph\":null,\"nonselection_glyph\":null,\"selection_glyph\":null},\"id\":\"4d2c15d6-a388-4500-b499-81e218abc33a\",\"type\":\"GlyphRenderer\"},{\"attributes\":{\"fill_alpha\":{\"field\":\"fill_alpha\"},\"fill_color\":{\"field\":\"color\"},\"height\":{\"field\":\"height\",\"units\":\"data\"},\"line_color\":{\"field\":\"line_color\"},\"width\":{\"field\":\"width\",\"units\":\"data\"},\"x\":{\"field\":\"x\"},\"y\":{\"field\":\"y\"}},\"id\":\"b8772725-3940-4a66-b617-4648f4c645ca\",\"type\":\"Rect\"},{\"attributes\":{\"data_source\":{\"id\":\"81ebbab3-f698-4bbc-8c17-6735cea80ac0\",\"type\":\"ColumnDataSource\"},\"glyph\":{\"id\":\"c21e7da1-2d69-42ae-92ef-92168251eb68\",\"type\":\"Rect\"},\"hover_glyph\":null,\"nonselection_glyph\":null,\"selection_glyph\":null},\"id\":\"c9345010-158a-474a-b747-4bb5b8672546\",\"type\":\"GlyphRenderer\"},{\"attributes\":{\"callback\":null,\"column_names\":[\"width\",\"label\",\"line_color\",\"line_alpha\",\"color\",\"y\",\"height\",\"x\",\"fill_alpha\"],\"data\":{\"chart_index\":[\"(161.887177, 179.874117]\"],\"color\":[\"#f22c40\"],\"fill_alpha\":[0.8],\"height\":[308.0],\"label\":[\"(161.887177, 179.874117]\"],\"line_alpha\":[1.0],\"line_color\":[\"black\"],\"width\":[17.98694043395591],\"x\":[\"170.880647\"],\"y\":[154.0]}},\"id\":\"77b5cfae-80a0-441d-944d-27152197b256\",\"type\":\"ColumnDataSource\"},{\"attributes\":{\"callback\":null,\"column_names\":[\"width\",\"label\",\"line_color\",\"line_alpha\",\"color\",\"y\",\"height\",\"x\",\"fill_alpha\"],\"data\":{\"chart_index\":[\"(431.691283, 449.678224]\"],\"color\":[\"#f22c40\"],\"fill_alpha\":[0.8],\"height\":[24.0],\"label\":[\"(431.691283, 449.678224]\"],\"line_alpha\":[1.0],\"line_color\":[\"black\"],\"width\":[17.98694043395591],\"x\":[\"440.6847535\"],\"y\":[12.0]}},\"id\":\"c2331793-9629-43cd-aa84-835f786197aa\",\"type\":\"ColumnDataSource\"},{\"attributes\":{\"plot\":{\"id\":\"c3ea08f3-860f-46d2-a08d-837617200cb5\",\"subtype\":\"Chart\",\"type\":\"Plot\"}},\"id\":\"c77bee5c-5fe2-459e-b992-92f871ed5fdc\",\"type\":\"PanTool\"},{\"attributes\":{\"fill_alpha\":{\"field\":\"fill_alpha\"},\"fill_color\":{\"field\":\"color\"},\"height\":{\"field\":\"height\",\"units\":\"data\"},\"line_color\":{\"field\":\"line_color\"},\"width\":{\"field\":\"width\",\"units\":\"data\"},\"x\":{\"field\":\"x\"},\"y\":{\"field\":\"y\"}},\"id\":\"8c22acee-e4e9-488e-af29-1eb17a62ee37\",\"type\":\"Rect\"},{\"attributes\":{\"fill_alpha\":{\"field\":\"fill_alpha\"},\"fill_color\":{\"field\":\"color\"},\"height\":{\"field\":\"height\",\"units\":\"data\"},\"line_color\":{\"field\":\"line_color\"},\"width\":{\"field\":\"width\",\"units\":\"data\"},\"x\":{\"field\":\"x\"},\"y\":{\"field\":\"y\"}},\"id\":\"b31e09c1-cac5-488b-a2e7-b41a96b7df87\",\"type\":\"Rect\"},{\"attributes\":{\"fill_alpha\":{\"field\":\"fill_alpha\"},\"fill_color\":{\"field\":\"color\"},\"height\":{\"field\":\"height\",\"units\":\"data\"},\"line_color\":{\"field\":\"line_color\"},\"width\":{\"field\":\"width\",\"units\":\"data\"},\"x\":{\"field\":\"x\"},\"y\":{\"field\":\"y\"}},\"id\":\"04944095-fd12-4f77-9d67-5c3694009459\",\"type\":\"Rect\"},{\"attributes\":{\"data_source\":{\"id\":\"98c84acc-235a-4a92-a8c2-efb62609b95c\",\"type\":\"ColumnDataSource\"},\"glyph\":{\"id\":\"70402c76-d9ac-4c35-a839-492fd1810c09\",\"type\":\"Rect\"},\"hover_glyph\":null,\"nonselection_glyph\":null,\"selection_glyph\":null},\"id\":\"5cc4d8fa-e8aa-43e3-9a8d-695e5df093da\",\"type\":\"GlyphRenderer\"},{\"attributes\":{\"callback\":null,\"column_names\":[\"width\",\"label\",\"line_color\",\"line_alpha\",\"color\",\"y\",\"height\",\"x\",\"fill_alpha\"],\"data\":{\"chart_index\":[\"(22.825507, 24.476301]\"],\"color\":[\"#f22c40\"],\"fill_alpha\":[0.8],\"height\":[168.0],\"label\":[\"(22.825507, 24.476301]\"],\"line_alpha\":[1.0],\"line_color\":[\"black\"],\"width\":[1.650793957214745],\"x\":[\"23.650904\"],\"y\":[84.0]}},\"id\":\"c851c1ec-ee94-4a41-8e8c-892fb3ebdf46\",\"type\":\"ColumnDataSource\"},{\"attributes\":{\"data_source\":{\"id\":\"b788b94a-0bbf-4be8-81c5-83096260a6d4\",\"type\":\"ColumnDataSource\"},\"glyph\":{\"id\":\"96a14cb1-b96a-4816-b0dd-55f07901397d\",\"type\":\"Rect\"},\"hover_glyph\":null,\"nonselection_glyph\":null,\"selection_glyph\":null},\"id\":\"6b8fa055-e983-4abb-b18c-af6d54091225\",\"type\":\"GlyphRenderer\"},{\"attributes\":{\"location\":\"top_left\",\"plot\":{\"id\":\"e4892d86-69c9-4ad7-b82d-3161fd46f8c3\",\"subtype\":\"Chart\",\"type\":\"Plot\"}},\"id\":\"aca8b077-25ba-4448-ad3f-492de1e2ae0b\",\"type\":\"Legend\"},{\"attributes\":{\"callback\":null,\"column_names\":[\"width\",\"label\",\"line_color\",\"line_alpha\",\"color\",\"y\",\"height\",\"x\",\"fill_alpha\"],\"data\":{\"chart_index\":[\"(95.991287, 97.990867]\"],\"color\":[\"#f22c40\"],\"fill_alpha\":[0.8],\"height\":[184.0],\"label\":[\"(95.991287, 97.990867]\"],\"line_alpha\":[1.0],\"line_color\":[\"black\"],\"width\":[1.9995804859201343],\"x\":[\"96.99107699999999\"],\"y\":[92.0]}},\"id\":\"9cc4f7e5-6bc1-480d-a692-99551658d751\",\"type\":\"ColumnDataSource\"},{\"attributes\":{\"fill_alpha\":{\"field\":\"fill_alpha\"},\"fill_color\":{\"field\":\"color\"},\"height\":{\"field\":\"height\",\"units\":\"data\"},\"line_color\":{\"field\":\"line_color\"},\"width\":{\"field\":\"width\",\"units\":\"data\"},\"x\":{\"field\":\"x\"},\"y\":{\"field\":\"y\"}},\"id\":\"43c720dc-b3f4-4095-8de0-ed8b4b76eced\",\"type\":\"Rect\"},{\"attributes\":{\"below\":[{\"id\":\"c0047c1e-75f9-4f1d-ae92-1a6ff38af498\",\"type\":\"LinearAxis\"}],\"css_classes\":null,\"height\":300,\"left\":[{\"id\":\"1d78eb21-7a26-459b-a146-199921f1b263\",\"type\":\"LinearAxis\"}],\"renderers\":[{\"id\":\"2eda5c29-2fd1-448f-b655-c51ef7b9a153\",\"type\":\"BoxAnnotation\"},{\"id\":\"0bd7567f-7c54-4a77-8a75-15470948ea45\",\"type\":\"GlyphRenderer\"},{\"id\":\"4703687a-365a-4b2b-8483-affa19423b2e\",\"type\":\"GlyphRenderer\"},{\"id\":\"3ae1c790-1b74-4283-b0cd-4f6b3c302bc3\",\"type\":\"GlyphRenderer\"},{\"id\":\"fa8811e0-6987-4a58-9bf8-f97700b13f56\",\"type\":\"GlyphRenderer\"},{\"id\":\"56732ba8-42fd-46bb-8094-60c2703ae227\",\"type\":\"GlyphRenderer\"},{\"id\":\"d554e092-651b-4ecb-8c8b-c886d7d8950d\",\"type\":\"GlyphRenderer\"},{\"id\":\"b5257123-4829-4052-a300-e3796c257a5e\",\"type\":\"GlyphRenderer\"},{\"id\":\"9851b4f3-cf2c-4052-a0ba-47617b66a55b\",\"type\":\"GlyphRenderer\"},{\"id\":\"20d21b1e-e3fa-4eed-b716-44858ebd02fe\",\"type\":\"GlyphRenderer\"},{\"id\":\"521c594f-af6a-4c4a-b49a-cdf253068fa7\",\"type\":\"GlyphRenderer\"},{\"id\":\"04b97699-deeb-4745-820c-0775a97cb27e\",\"type\":\"GlyphRenderer\"},{\"id\":\"17a2d73a-a1c1-4911-a794-0c97196c52bf\",\"type\":\"GlyphRenderer\"},{\"id\":\"fd0339ae-751e-441f-9825-e661d69d2073\",\"type\":\"GlyphRenderer\"},{\"id\":\"7fc3e961-0baf-40cd-8f3d-25670de52d60\",\"type\":\"GlyphRenderer\"},{\"id\":\"b7e5e21b-6b54-46ca-b873-8ffe689710c1\",\"type\":\"GlyphRenderer\"},{\"id\":\"fef157d2-7564-4452-81be-c908b598c075\",\"type\":\"GlyphRenderer\"},{\"id\":\"13ce9472-766a-41b3-a8cb-693d7bd02d8f\",\"type\":\"GlyphRenderer\"},{\"id\":\"9f998e27-d69e-4ad5-8d99-1bdf23f06e31\",\"type\":\"GlyphRenderer\"},{\"id\":\"f1c3b581-6654-4504-8242-9bb07f732d8a\",\"type\":\"GlyphRenderer\"},{\"id\":\"549f61d0-ba11-4372-ac91-6deb6aff41f8\",\"type\":\"GlyphRenderer\"},{\"id\":\"96865b20-041d-4b43-bb5f-2cf8374d1ed7\",\"type\":\"GlyphRenderer\"},{\"id\":\"25b9eaeb-bc5d-4ebc-938f-ab1aac29777a\",\"type\":\"GlyphRenderer\"},{\"id\":\"8a639161-4c78-467d-9066-b186573ca90c\",\"type\":\"GlyphRenderer\"},{\"id\":\"00fb07e6-4096-4db3-b52b-8d34a731958a\",\"type\":\"GlyphRenderer\"},{\"id\":\"7079fb0b-ea33-4c5e-aa27-8da6fa763315\",\"type\":\"GlyphRenderer\"},{\"id\":\"11eb60ba-3219-4311-b27e-db704d97d3ae\",\"type\":\"GlyphRenderer\"},{\"id\":\"cbaabafa-9480-4f87-9906-ef14d3a5d4f2\",\"type\":\"GlyphRenderer\"},{\"id\":\"95f455c4-e41c-468d-b3a6-82faba510ac9\",\"type\":\"GlyphRenderer\"},{\"id\":\"4691ce72-b442-44e3-a877-be2373168b51\",\"type\":\"GlyphRenderer\"},{\"id\":\"ae015dc0-2d33-44a4-bbca-a2ea16a2dfda\",\"type\":\"GlyphRenderer\"},{\"id\":\"f61e99cf-83bc-4a63-9003-9a7e2ff15c95\",\"type\":\"GlyphRenderer\"},{\"id\":\"c2f01ce5-7404-40c6-a843-8195e961cac5\",\"type\":\"GlyphRenderer\"},{\"id\":\"ce0aa549-2e7d-46ee-817d-04d94d9e2a7d\",\"type\":\"GlyphRenderer\"},{\"id\":\"76389294-eef2-4cb2-b85c-b9272461a8df\",\"type\":\"GlyphRenderer\"},{\"id\":\"5ae7f91f-6e1c-4ff3-83f4-88bf80555b3b\",\"type\":\"GlyphRenderer\"},{\"id\":\"f95c10a3-fae5-4cd7-8668-7b4e9ab0a69d\",\"type\":\"GlyphRenderer\"},{\"id\":\"3e06558c-0249-4a21-9853-460708e1b210\",\"type\":\"GlyphRenderer\"},{\"id\":\"6a3dc47d-63e2-417c-932e-f633d5b5172b\",\"type\":\"GlyphRenderer\"},{\"id\":\"6d367d3f-ef44-4e89-b94c-27934ff55430\",\"type\":\"GlyphRenderer\"},{\"id\":\"330bbd9a-338d-457a-9298-a229705fd685\",\"type\":\"GlyphRenderer\"},{\"id\":\"98e67368-ffbf-4100-8449-411fd13528eb\",\"type\":\"GlyphRenderer\"},{\"id\":\"c61cfa0b-39b9-48a4-a7ea-49023666ba41\",\"type\":\"GlyphRenderer\"},{\"id\":\"93fe2e3a-e4be-4059-8ca5-cdff571567e2\",\"type\":\"GlyphRenderer\"},{\"id\":\"a8ead43b-d609-49c4-a997-6036f5641262\",\"type\":\"GlyphRenderer\"},{\"id\":\"b34fb620-ef2a-4be6-8c33-ec78cd766107\",\"type\":\"GlyphRenderer\"},{\"id\":\"ec6f84b6-06ac-47f4-9b00-03f47181b2d5\",\"type\":\"GlyphRenderer\"},{\"id\":\"3afe9fb1-e3f3-4201-a65b-baf2691a695b\",\"type\":\"GlyphRenderer\"},{\"id\":\"38055dee-c360-4cac-99b0-d0564a5cdcf4\",\"type\":\"GlyphRenderer\"},{\"id\":\"4fac830e-93a7-4c82-8611-9719af7d0726\",\"type\":\"GlyphRenderer\"},{\"id\":\"a756536c-4b02-4f71-9b04-8db03b81bc6d\",\"type\":\"GlyphRenderer\"},{\"id\":\"f4e6eb4c-744f-46a2-aa52-4f9c381a25ea\",\"type\":\"Legend\"},{\"id\":\"c0047c1e-75f9-4f1d-ae92-1a6ff38af498\",\"type\":\"LinearAxis\"},{\"id\":\"1d78eb21-7a26-459b-a146-199921f1b263\",\"type\":\"LinearAxis\"},{\"id\":\"49828cd1-ec94-4783-a337-f4d09a952e2e\",\"type\":\"Grid\"}],\"title\":{\"id\":\"c7138184-1da0-442b-8714-1f7cbd5b930a\",\"type\":\"Title\"},\"tool_events\":{\"id\":\"ba28b16f-8809-44b9-b9cb-770137720e05\",\"type\":\"ToolEvents\"},\"toolbar\":{\"id\":\"73b6980e-d0a7-410e-9662-a4d74a5309b9\",\"type\":\"Toolbar\"},\"toolbar_location\":null,\"width\":350,\"x_mapper_type\":\"auto\",\"x_range\":{\"id\":\"f0484d95-5547-4a8d-8c48-800ae97243e1\",\"type\":\"Range1d\"},\"y_mapper_type\":\"auto\",\"y_range\":{\"id\":\"50c55861-22b1-4fb0-bc1e-d4c7ea546cab\",\"type\":\"Range1d\"}},\"id\":\"d8388f20-687d-47a7-88c3-e785246d4dea\",\"subtype\":\"Chart\",\"type\":\"Plot\"},{\"attributes\":{\"data_source\":{\"id\":\"e2ad20c7-9032-451e-a39f-aa815f79a77e\",\"type\":\"ColumnDataSource\"},\"glyph\":{\"id\":\"50406115-9fb8-4a74-aa9f-85589e4bb5ec\",\"type\":\"Rect\"},\"hover_glyph\":null,\"nonselection_glyph\":null,\"selection_glyph\":null},\"id\":\"3afe9fb1-e3f3-4201-a65b-baf2691a695b\",\"type\":\"GlyphRenderer\"},{\"attributes\":{\"fill_alpha\":{\"field\":\"fill_alpha\"},\"fill_color\":{\"field\":\"color\"},\"height\":{\"field\":\"height\",\"units\":\"data\"},\"line_color\":{\"field\":\"line_color\"},\"width\":{\"field\":\"width\",\"units\":\"data\"},\"x\":{\"field\":\"x\"},\"y\":{\"field\":\"y\"}},\"id\":\"e9b1b784-1b3e-4551-b51e-8751ca480829\",\"type\":\"Rect\"},{\"attributes\":{\"data_source\":{\"id\":\"23281f53-b52b-45d9-905c-27560e2436f8\",\"type\":\"ColumnDataSource\"},\"glyph\":{\"id\":\"0af2c448-344e-43a7-9a7b-bad7c859c772\",\"type\":\"Rect\"},\"hover_glyph\":null,\"nonselection_glyph\":null,\"selection_glyph\":null},\"id\":\"77cb464e-e8a5-4283-a8c1-cf7a571f5040\",\"type\":\"GlyphRenderer\"},{\"attributes\":{\"data_source\":{\"id\":\"bdea4395-4334-4102-93eb-d9b56f072d15\",\"type\":\"ColumnDataSource\"},\"glyph\":{\"id\":\"6d86d715-9e9d-4eb7-a9d8-63e095904f37\",\"type\":\"Rect\"},\"hover_glyph\":null,\"nonselection_glyph\":null,\"selection_glyph\":null},\"id\":\"6f66a278-7c88-4401-b1b7-e80f58a8ac80\",\"type\":\"GlyphRenderer\"},{\"attributes\":{\"data_source\":{\"id\":\"aafca249-83dc-4173-a4c1-d3fec22a02ae\",\"type\":\"ColumnDataSource\"},\"glyph\":{\"id\":\"62db315a-c835-472c-b4ee-f4d725d80c0b\",\"type\":\"Rect\"},\"hover_glyph\":null,\"nonselection_glyph\":null,\"selection_glyph\":null},\"id\":\"9f998e27-d69e-4ad5-8d99-1bdf23f06e31\",\"type\":\"GlyphRenderer\"},{\"attributes\":{\"data_source\":{\"id\":\"88a50a4e-b015-4d95-976b-8ca38c67a51b\",\"type\":\"ColumnDataSource\"},\"glyph\":{\"id\":\"89feb40e-a565-436f-b8ee-7e940bba4f98\",\"type\":\"Rect\"},\"hover_glyph\":null,\"nonselection_glyph\":null,\"selection_glyph\":null},\"id\":\"a037fd2f-6cd4-434c-99db-6c139beecc4e\",\"type\":\"GlyphRenderer\"},{\"attributes\":{\"fill_alpha\":{\"field\":\"fill_alpha\"},\"fill_color\":{\"field\":\"color\"},\"height\":{\"field\":\"height\",\"units\":\"data\"},\"line_color\":{\"field\":\"line_color\"},\"width\":{\"field\":\"width\",\"units\":\"data\"},\"x\":{\"field\":\"x\"},\"y\":{\"field\":\"y\"}},\"id\":\"43c69907-31d8-4898-b959-526b5d09159f\",\"type\":\"Rect\"},{\"attributes\":{\"callback\":null,\"column_names\":[\"width\",\"label\",\"line_color\",\"line_alpha\",\"color\",\"y\",\"height\",\"x\",\"fill_alpha\"],\"data\":{\"chart_index\":[\"(179.874117, 197.861058]\"],\"color\":[\"#f22c40\"],\"fill_alpha\":[0.8],\"height\":[269.0],\"label\":[\"(179.874117, 197.861058]\"],\"line_alpha\":[1.0],\"line_color\":[\"black\"],\"width\":[17.98694043395588],\"x\":[\"188.8675875\"],\"y\":[134.5]}},\"id\":\"3b9b1ce9-bdd3-4ba8-ae9a-4f984f51ea88\",\"type\":\"ColumnDataSource\"},{\"attributes\":{\"callback\":null,\"column_names\":[\"width\",\"label\",\"line_color\",\"line_alpha\",\"color\",\"y\",\"height\",\"x\",\"fill_alpha\"],\"data\":{\"chart_index\":[\"(863.377854, 881.364794]\"],\"color\":[\"#f22c40\"],\"fill_alpha\":[0.8],\"height\":[0.0],\"label\":[\"(863.377854, 881.364794]\"],\"line_alpha\":[1.0],\"line_color\":[\"black\"],\"width\":[17.98694043395585],\"x\":[\"872.371324\"],\"y\":[0.0]}},\"id\":\"adc21ef7-6b11-4021-a625-32b6164cf13e\",\"type\":\"ColumnDataSource\"},{\"attributes\":{\"data_source\":{\"id\":\"895c5961-a346-45ab-ab9c-84314303d057\",\"type\":\"ColumnDataSource\"},\"glyph\":{\"id\":\"696aad37-2b14-4006-9e40-57973a77671e\",\"type\":\"Rect\"},\"hover_glyph\":null,\"nonselection_glyph\":null,\"selection_glyph\":null},\"id\":\"727b8eef-c32a-4aa9-b4e7-54ccf3d75df3\",\"type\":\"GlyphRenderer\"},{\"attributes\":{\"callback\":null,\"column_names\":[\"width\",\"label\",\"line_color\",\"line_alpha\",\"color\",\"y\",\"height\",\"x\",\"fill_alpha\"],\"data\":{\"chart_index\":[\"(50.564194, 52.541174]\"],\"color\":[\"#f22c40\"],\"fill_alpha\":[0.8],\"height\":[235.0],\"label\":[\"(50.564194, 52.541174]\"],\"line_alpha\":[1.0],\"line_color\":[\"black\"],\"width\":[1.976980165044921],\"x\":[\"51.552684\"],\"y\":[117.5]}},\"id\":\"b6b5d78f-d9b9-4713-909a-9d8aa9a24402\",\"type\":\"ColumnDataSource\"},{\"attributes\":{\"callback\":null,\"column_names\":[\"width\",\"label\",\"line_color\",\"line_alpha\",\"color\",\"y\",\"height\",\"x\",\"fill_alpha\"],\"data\":{\"chart_index\":[\"(71.952475, 89.939415]\"],\"color\":[\"#f22c40\"],\"fill_alpha\":[0.8],\"height\":[856.0],\"label\":[\"(71.952475, 89.939415]\"],\"line_alpha\":[1.0],\"line_color\":[\"black\"],\"width\":[17.98694043395591],\"x\":[\"80.945945\"],\"y\":[428.0]}},\"id\":\"6e809a53-dca3-472a-a21b-a4e9c7dea000\",\"type\":\"ColumnDataSource\"},{\"attributes\":{\"fill_alpha\":{\"field\":\"fill_alpha\"},\"fill_color\":{\"field\":\"color\"},\"height\":{\"field\":\"height\",\"units\":\"data\"},\"line_color\":{\"field\":\"line_color\"},\"width\":{\"field\":\"width\",\"units\":\"data\"},\"x\":{\"field\":\"x\"},\"y\":{\"field\":\"y\"}},\"id\":\"d53cd740-a093-4d9a-93b0-ee01f4cbc297\",\"type\":\"Rect\"},{\"attributes\":{\"data_source\":{\"id\":\"29fe2003-2728-47a4-aae3-d815887efe50\",\"type\":\"ColumnDataSource\"},\"glyph\":{\"id\":\"5ca20f2b-40de-45ac-9174-9ec25112a6b1\",\"type\":\"Rect\"},\"hover_glyph\":null,\"nonselection_glyph\":null,\"selection_glyph\":null},\"id\":\"a317a7be-0bcc-4b66-adc3-ba48e21d2e16\",\"type\":\"GlyphRenderer\"},{\"attributes\":{\"fill_alpha\":{\"field\":\"fill_alpha\"},\"fill_color\":{\"field\":\"color\"},\"height\":{\"field\":\"height\",\"units\":\"data\"},\"line_color\":{\"field\":\"line_color\"},\"width\":{\"field\":\"width\",\"units\":\"data\"},\"x\":{\"field\":\"x\"},\"y\":{\"field\":\"y\"}},\"id\":\"140ebb8c-5dfb-489c-a055-0b682ea6b201\",\"type\":\"Rect\"},{\"attributes\":{\"fill_alpha\":{\"field\":\"fill_alpha\"},\"fill_color\":{\"field\":\"color\"},\"height\":{\"field\":\"height\",\"units\":\"data\"},\"line_color\":{\"field\":\"line_color\"},\"width\":{\"field\":\"width\",\"units\":\"data\"},\"x\":{\"field\":\"x\"},\"y\":{\"field\":\"y\"}},\"id\":\"1767c9fe-5dd2-4606-b387-9cf42985550b\",\"type\":\"Rect\"},{\"attributes\":{\"data_source\":{\"id\":\"0da22f15-2792-40b6-b057-8f1f6df3829d\",\"type\":\"ColumnDataSource\"},\"glyph\":{\"id\":\"91139d6e-dd82-44d4-b4b4-f6fea9efc088\",\"type\":\"Rect\"},\"hover_glyph\":null,\"nonselection_glyph\":null,\"selection_glyph\":null},\"id\":\"17a2d73a-a1c1-4911-a794-0c97196c52bf\",\"type\":\"GlyphRenderer\"},{\"attributes\":{\"callback\":null,\"column_names\":[\"width\",\"label\",\"line_color\",\"line_alpha\",\"color\",\"y\",\"height\",\"x\",\"fill_alpha\"],\"data\":{\"chart_index\":[\"(52.000516, 54.000097]\"],\"color\":[\"#f22c40\"],\"fill_alpha\":[0.8],\"height\":[194.0],\"label\":[\"(52.000516, 54.000097]\"],\"line_alpha\":[1.0],\"line_color\":[\"black\"],\"width\":[1.9995804859201343],\"x\":[\"53.00030649999999\"],\"y\":[97.0]}},\"id\":\"88a50a4e-b015-4d95-976b-8ca38c67a51b\",\"type\":\"ColumnDataSource\"},{\"attributes\":{\"fill_alpha\":{\"field\":\"fill_alpha\"},\"fill_color\":{\"field\":\"color\"},\"height\":{\"field\":\"height\",\"units\":\"data\"},\"line_color\":{\"field\":\"line_color\"},\"width\":{\"field\":\"width\",\"units\":\"data\"},\"x\":{\"field\":\"x\"},\"y\":{\"field\":\"y\"}},\"id\":\"1ba4168c-466d-4b11-8dd9-24fbc0114b02\",\"type\":\"Rect\"},{\"attributes\":{},\"id\":\"7b3e8e44-0f23-4bae-9b50-2caa6f73ea11\",\"type\":\"BasicTickFormatter\"},{\"attributes\":{\"data_source\":{\"id\":\"71359fdc-d7fe-4942-89c2-c13a465edf5e\",\"type\":\"ColumnDataSource\"},\"glyph\":{\"id\":\"a4d38471-f72b-4b6d-912c-ebe46e37d217\",\"type\":\"Rect\"},\"hover_glyph\":null,\"nonselection_glyph\":null,\"selection_glyph\":null},\"id\":\"e67d869d-5843-4c20-82e1-66180790d31e\",\"type\":\"GlyphRenderer\"},{\"attributes\":{\"data_source\":{\"id\":\"7fb708d9-0ecc-43ca-acc5-8274693a23ed\",\"type\":\"ColumnDataSource\"},\"glyph\":{\"id\":\"b16f7b98-ff81-4dac-bc97-67d5216ca4e2\",\"type\":\"Rect\"},\"hover_glyph\":null,\"nonselection_glyph\":null,\"selection_glyph\":null},\"id\":\"19429a5e-0845-455d-809f-57d62253541b\",\"type\":\"GlyphRenderer\"},{\"attributes\":{\"fill_alpha\":{\"field\":\"fill_alpha\"},\"fill_color\":{\"field\":\"color\"},\"height\":{\"field\":\"height\",\"units\":\"data\"},\"line_color\":{\"field\":\"line_color\"},\"width\":{\"field\":\"width\",\"units\":\"data\"},\"x\":{\"field\":\"x\"},\"y\":{\"field\":\"y\"}},\"id\":\"e1043649-83d8-43c0-9a4f-32177471cdda\",\"type\":\"Rect\"},{\"attributes\":{\"fill_alpha\":{\"field\":\"fill_alpha\"},\"fill_color\":{\"field\":\"color\"},\"height\":{\"field\":\"height\",\"units\":\"data\"},\"line_color\":{\"field\":\"line_color\"},\"width\":{\"field\":\"width\",\"units\":\"data\"},\"x\":{\"field\":\"x\"},\"y\":{\"field\":\"y\"}},\"id\":\"bf723a68-10b8-4708-972a-d1ec69677445\",\"type\":\"Rect\"},{\"attributes\":{\"fill_alpha\":{\"field\":\"fill_alpha\"},\"fill_color\":{\"field\":\"color\"},\"height\":{\"field\":\"height\",\"units\":\"data\"},\"line_color\":{\"field\":\"line_color\"},\"width\":{\"field\":\"width\",\"units\":\"data\"},\"x\":{\"field\":\"x\"},\"y\":{\"field\":\"y\"}},\"id\":\"b096ed4a-577c-4da8-832b-5f84a16ef7e2\",\"type\":\"Rect\"},{\"attributes\":{\"callback\":null,\"column_names\":[\"width\",\"label\",\"line_color\",\"line_alpha\",\"color\",\"y\",\"height\",\"x\",\"fill_alpha\"],\"data\":{\"chart_index\":[\"(107.896618, 109.873599]\"],\"color\":[\"#f22c40\"],\"fill_alpha\":[0.8],\"height\":[126.0],\"label\":[\"(107.896618, 109.873599]\"],\"line_alpha\":[1.0],\"line_color\":[\"black\"],\"width\":[1.976980165044921],\"x\":[\"108.8851085\"],\"y\":[63.0]}},\"id\":\"08311f30-c24e-48f6-b501-836cd6f29237\",\"type\":\"ColumnDataSource\"},{\"attributes\":{\"data_source\":{\"id\":\"24afd8c6-2321-494a-9391-cdff961d04c4\",\"type\":\"ColumnDataSource\"},\"glyph\":{\"id\":\"e1043649-83d8-43c0-9a4f-32177471cdda\",\"type\":\"Rect\"},\"hover_glyph\":null,\"nonselection_glyph\":null,\"selection_glyph\":null},\"id\":\"09d58fd4-db74-4217-a373-43021f3f4aaa\",\"type\":\"GlyphRenderer\"},{\"attributes\":{\"plot\":{\"id\":\"e4892d86-69c9-4ad7-b82d-3161fd46f8c3\",\"subtype\":\"Chart\",\"type\":\"Plot\"}},\"id\":\"26b470f5-516a-48a8-9cce-0f5d67454e1f\",\"type\":\"WheelZoomTool\"},{\"attributes\":{\"data_source\":{\"id\":\"46bec13c-fef4-4f98-9086-c827792f0b36\",\"type\":\"ColumnDataSource\"},\"glyph\":{\"id\":\"72632ff9-8df6-477c-a56f-3595e1afa9cf\",\"type\":\"Rect\"},\"hover_glyph\":null,\"nonselection_glyph\":null,\"selection_glyph\":null},\"id\":\"e82ad2d7-15e9-45c4-8280-d1c3482dea34\",\"type\":\"GlyphRenderer\"},{\"attributes\":{\"data_source\":{\"id\":\"fb9c9992-dddb-4441-b77f-71e15a903f2d\",\"type\":\"ColumnDataSource\"},\"glyph\":{\"id\":\"cd3e8c5b-0386-4d6b-bb7a-59b0c4103172\",\"type\":\"Rect\"},\"hover_glyph\":null,\"nonselection_glyph\":null,\"selection_glyph\":null},\"id\":\"42100751-2ebf-4e0d-868d-a93a2ba73eb8\",\"type\":\"GlyphRenderer\"},{\"attributes\":{\"fill_alpha\":{\"field\":\"fill_alpha\"},\"fill_color\":{\"field\":\"color\"},\"height\":{\"field\":\"height\",\"units\":\"data\"},\"line_color\":{\"field\":\"line_color\"},\"width\":{\"field\":\"width\",\"units\":\"data\"},\"x\":{\"field\":\"x\"},\"y\":{\"field\":\"y\"}},\"id\":\"6af451f5-66f1-4797-9caf-9c52a3c24de3\",\"type\":\"Rect\"},{\"attributes\":{\"data_source\":{\"id\":\"71537455-2c10-4f05-ae61-01b54e42f542\",\"type\":\"ColumnDataSource\"},\"glyph\":{\"id\":\"a1392a9c-fde0-48bf-942a-c61335b25a7e\",\"type\":\"Rect\"},\"hover_glyph\":null,\"nonselection_glyph\":null,\"selection_glyph\":null},\"id\":\"de9e8202-bbb2-4eb2-b9a4-542c26ad7443\",\"type\":\"GlyphRenderer\"},{\"attributes\":{\"callback\":null,\"column_names\":[\"width\",\"label\",\"line_color\",\"line_alpha\",\"color\",\"y\",\"height\",\"x\",\"fill_alpha\"],\"data\":{\"chart_index\":[\"(109.873599, 111.850579]\"],\"color\":[\"#f22c40\"],\"fill_alpha\":[0.8],\"height\":[90.0],\"label\":[\"(109.873599, 111.850579]\"],\"line_alpha\":[1.0],\"line_color\":[\"black\"],\"width\":[1.976980165044921],\"x\":[\"110.862089\"],\"y\":[45.0]}},\"id\":\"8ac8a8c2-65e1-4c78-94c2-b8aa7295a6db\",\"type\":\"ColumnDataSource\"},{\"attributes\":{\"callback\":null,\"column_names\":[\"width\",\"label\",\"line_color\",\"line_alpha\",\"color\",\"y\",\"height\",\"x\",\"fill_alpha\"],\"data\":{\"chart_index\":[\"(305.782700, 323.769641]\"],\"color\":[\"#f22c40\"],\"fill_alpha\":[0.8],\"height\":[65.0],\"label\":[\"(305.782700, 323.769641]\"],\"line_alpha\":[1.0],\"line_color\":[\"black\"],\"width\":[17.98694043395591],\"x\":[\"314.7761705\"],\"y\":[32.5]}},\"id\":\"079bffbc-7054-4f7f-bd52-556221a926cb\",\"type\":\"ColumnDataSource\"},{\"attributes\":{\"below\":[{\"id\":\"dc2e898a-a3c9-4f23-8221-32f2a7a5a78c\",\"type\":\"LinearAxis\"}],\"css_classes\":null,\"height\":300,\"left\":[{\"id\":\"de8c871e-8ee5-4b89-81f9-4d9a12e765e7\",\"type\":\"LinearAxis\"}],\"renderers\":[{\"id\":\"390819dc-f67a-4df8-9f3b-92330c5d1dd3\",\"type\":\"BoxAnnotation\"},{\"id\":\"56af5ac1-60d1-4f72-a064-0154c92fd523\",\"type\":\"GlyphRenderer\"},{\"id\":\"9593e96c-5cd9-461c-a2d8-3b652f00d2e3\",\"type\":\"GlyphRenderer\"},{\"id\":\"beb6dd66-f27c-4570-b04c-950b75a2ff0b\",\"type\":\"GlyphRenderer\"},{\"id\":\"94fb5d25-4197-448f-a4c4-ce18ed7d78a3\",\"type\":\"GlyphRenderer\"},{\"id\":\"aa3e7a8c-5ff6-4d15-adb7-362bd00d7376\",\"type\":\"GlyphRenderer\"},{\"id\":\"f46d4a81-1973-44bc-971d-f1e51cbe6d67\",\"type\":\"GlyphRenderer\"},{\"id\":\"b604a421-0c12-4d3b-9d57-a513ad86c045\",\"type\":\"GlyphRenderer\"},{\"id\":\"e67d869d-5843-4c20-82e1-66180790d31e\",\"type\":\"GlyphRenderer\"},{\"id\":\"b7ba4af4-ccf3-4be6-a311-7ed055a01a7c\",\"type\":\"GlyphRenderer\"},{\"id\":\"c6bca704-3b4d-4c0f-b53a-a69f0eeb18b3\",\"type\":\"GlyphRenderer\"},{\"id\":\"92c5796e-8a15-4dbe-b16d-2f0ef5727d21\",\"type\":\"GlyphRenderer\"},{\"id\":\"720813a6-b45a-4151-84e1-c9d7429d4b5c\",\"type\":\"GlyphRenderer\"},{\"id\":\"abdd02c0-f67d-4425-bb28-917748081040\",\"type\":\"GlyphRenderer\"},{\"id\":\"df89810f-c56d-431b-b2dc-d8397eee9966\",\"type\":\"GlyphRenderer\"},{\"id\":\"b1943e62-b70b-4336-8492-9ee8aea25f30\",\"type\":\"GlyphRenderer\"},{\"id\":\"6a02757b-2603-4526-825b-d8653583c549\",\"type\":\"GlyphRenderer\"},{\"id\":\"11c43991-7d7d-46bc-9494-74253b1b1ef7\",\"type\":\"GlyphRenderer\"},{\"id\":\"588ba242-14d3-45d3-b353-2c3213d20677\",\"type\":\"GlyphRenderer\"},{\"id\":\"a317a7be-0bcc-4b66-adc3-ba48e21d2e16\",\"type\":\"GlyphRenderer\"},{\"id\":\"6ee6d7a5-14fa-4d2c-b751-ab9f813e99ca\",\"type\":\"GlyphRenderer\"},{\"id\":\"42100751-2ebf-4e0d-868d-a93a2ba73eb8\",\"type\":\"GlyphRenderer\"},{\"id\":\"6eb6d74c-c42d-40e4-a045-75046e452da9\",\"type\":\"GlyphRenderer\"},{\"id\":\"61a06003-7735-4025-9a68-392baa2b921d\",\"type\":\"GlyphRenderer\"},{\"id\":\"c57a1c5b-f557-4d5a-a97d-e10ad1468816\",\"type\":\"GlyphRenderer\"},{\"id\":\"04c81a0e-73b9-48d9-8dc3-5ee2bbbfba43\",\"type\":\"GlyphRenderer\"},{\"id\":\"3bd05afa-05e8-4487-992c-368f51642e4b\",\"type\":\"GlyphRenderer\"},{\"id\":\"e6946d4a-8afe-4e41-8534-8ba807d7726a\",\"type\":\"GlyphRenderer\"},{\"id\":\"5c09877f-1d42-4690-a95b-711c06f3de85\",\"type\":\"GlyphRenderer\"},{\"id\":\"cb8e7284-efbf-4140-aca3-cf0d73e31776\",\"type\":\"GlyphRenderer\"},{\"id\":\"71e01477-3f24-4634-9556-520255faa7cb\",\"type\":\"GlyphRenderer\"},{\"id\":\"a42ca2ca-2c4d-48b8-9042-03c9316f2533\",\"type\":\"GlyphRenderer\"},{\"id\":\"e82ad2d7-15e9-45c4-8280-d1c3482dea34\",\"type\":\"GlyphRenderer\"},{\"id\":\"4a5a246c-1ea1-4428-a943-0208a9e16212\",\"type\":\"GlyphRenderer\"},{\"id\":\"7d3423f4-d30f-4963-88c3-184ca29059dc\",\"type\":\"GlyphRenderer\"},{\"id\":\"39fb10c2-150d-46ac-8bdd-193da0f9a65d\",\"type\":\"GlyphRenderer\"},{\"id\":\"9b4592e8-d850-415c-8195-4f6eba496ebd\",\"type\":\"GlyphRenderer\"},{\"id\":\"f0db4399-f2cb-4511-b37d-47ae0601365c\",\"type\":\"GlyphRenderer\"},{\"id\":\"a190d12e-8ef7-47da-af00-ef97430ec1e3\",\"type\":\"GlyphRenderer\"},{\"id\":\"229465f9-b221-49f8-b662-f9e47b2e1726\",\"type\":\"GlyphRenderer\"},{\"id\":\"17446a44-5bf2-4b08-a365-6aad5010fca6\",\"type\":\"GlyphRenderer\"},{\"id\":\"27471a18-6918-4c26-b561-deadd012086d\",\"type\":\"GlyphRenderer\"},{\"id\":\"4d1dc09d-2916-407e-a5a1-ef5acb37ca56\",\"type\":\"GlyphRenderer\"},{\"id\":\"cd66ce42-231b-480f-934e-28213ed6b429\",\"type\":\"GlyphRenderer\"},{\"id\":\"c647a073-fba7-4101-8f4b-ce587d3f0d3c\",\"type\":\"GlyphRenderer\"},{\"id\":\"ea8524c2-cfce-4cb1-ad2a-626a389f53ee\",\"type\":\"GlyphRenderer\"},{\"id\":\"3a2c4211-637d-496b-a730-023e7e851aeb\",\"type\":\"GlyphRenderer\"},{\"id\":\"1d2f13e9-52af-4c6d-9746-a235b6fda738\",\"type\":\"GlyphRenderer\"},{\"id\":\"b6895168-c01f-4058-90e6-5716ce3a1130\",\"type\":\"GlyphRenderer\"},{\"id\":\"8398505f-7343-4352-9059-96e5f796a1a7\",\"type\":\"GlyphRenderer\"},{\"id\":\"ddd9af53-3473-4a3b-9113-d7b882464815\",\"type\":\"GlyphRenderer\"},{\"id\":\"1cc66dde-42df-4c90-9043-c508026d7162\",\"type\":\"Legend\"},{\"id\":\"dc2e898a-a3c9-4f23-8221-32f2a7a5a78c\",\"type\":\"LinearAxis\"},{\"id\":\"de8c871e-8ee5-4b89-81f9-4d9a12e765e7\",\"type\":\"LinearAxis\"},{\"id\":\"f33843d7-7f88-4262-804a-6f69bf9906c9\",\"type\":\"Grid\"}],\"title\":{\"id\":\"a36205d0-b8f9-4374-ac9f-66876881e3a2\",\"type\":\"Title\"},\"tool_events\":{\"id\":\"fbe0002d-f842-4b59-95a0-78d06e537b90\",\"type\":\"ToolEvents\"},\"toolbar\":{\"id\":\"0d2cafcf-103c-470f-af0f-0632411394cf\",\"type\":\"Toolbar\"},\"toolbar_location\":null,\"width\":350,\"x_mapper_type\":\"auto\",\"x_range\":{\"id\":\"3cb1b278-7d45-49af-bde3-3c3161d15f11\",\"type\":\"Range1d\"},\"y_mapper_type\":\"auto\",\"y_range\":{\"id\":\"05e09af2-e619-4ef2-ac77-89c7154569d9\",\"type\":\"Range1d\"}},\"id\":\"190b90fe-bcce-427a-9503-f0ac58c0167a\",\"subtype\":\"Chart\",\"type\":\"Plot\"},{\"attributes\":{\"data_source\":{\"id\":\"b436bb1c-7df6-4c91-ba5d-53ae75c3ed33\",\"type\":\"ColumnDataSource\"},\"glyph\":{\"id\":\"28ea097e-5165-4368-9301-611339bcf525\",\"type\":\"Rect\"},\"hover_glyph\":null,\"nonselection_glyph\":null,\"selection_glyph\":null},\"id\":\"d637381c-5126-4b82-907b-96d88354a4e9\",\"type\":\"GlyphRenderer\"},{\"attributes\":{\"location\":\"top_left\",\"plot\":{\"id\":\"190b90fe-bcce-427a-9503-f0ac58c0167a\",\"subtype\":\"Chart\",\"type\":\"Plot\"}},\"id\":\"1cc66dde-42df-4c90-9043-c508026d7162\",\"type\":\"Legend\"},{\"attributes\":{\"plot\":null,\"text\":null},\"id\":\"c7138184-1da0-442b-8714-1f7cbd5b930a\",\"type\":\"Title\"},{\"attributes\":{\"callback\":null,\"column_names\":[\"width\",\"label\",\"line_color\",\"line_alpha\",\"color\",\"y\",\"height\",\"x\",\"fill_alpha\"],\"data\":{\"chart_index\":[\"(44.002194, 46.001775]\"],\"color\":[\"#f22c40\"],\"fill_alpha\":[0.8],\"height\":[175.0],\"label\":[\"(44.002194, 46.001775]\"],\"line_alpha\":[1.0],\"line_color\":[\"black\"],\"width\":[1.9995804859201414],\"x\":[\"45.001984500000006\"],\"y\":[87.5]}},\"id\":\"fe11ea37-0c39-43ca-a4d0-4c7e2421f192\",\"type\":\"ColumnDataSource\"},{\"attributes\":{\"fill_alpha\":{\"field\":\"fill_alpha\"},\"fill_color\":{\"field\":\"color\"},\"height\":{\"field\":\"height\",\"units\":\"data\"},\"line_color\":{\"field\":\"line_color\"},\"width\":{\"field\":\"width\",\"units\":\"data\"},\"x\":{\"field\":\"x\"},\"y\":{\"field\":\"y\"}},\"id\":\"bd8bb78f-f30c-4255-b848-4772e420d313\",\"type\":\"Rect\"},{\"attributes\":{\"data_source\":{\"id\":\"0d77a811-879b-4c6e-a3eb-1c81df5c5789\",\"type\":\"ColumnDataSource\"},\"glyph\":{\"id\":\"861ef596-5910-428f-8a7e-73944ff2542e\",\"type\":\"Rect\"},\"hover_glyph\":null,\"nonselection_glyph\":null,\"selection_glyph\":null},\"id\":\"fa8811e0-6987-4a58-9bf8-f97700b13f56\",\"type\":\"GlyphRenderer\"},{\"attributes\":{\"data_source\":{\"id\":\"ae32b547-f63b-4eef-ad65-8ebc2d022485\",\"type\":\"ColumnDataSource\"},\"glyph\":{\"id\":\"cc925690-33f3-4d03-922e-2954d4bb48c2\",\"type\":\"Rect\"},\"hover_glyph\":null,\"nonselection_glyph\":null,\"selection_glyph\":null},\"id\":\"b5257123-4829-4052-a300-e3796c257a5e\",\"type\":\"GlyphRenderer\"},{\"attributes\":{\"data_source\":{\"id\":\"1c34f33a-aa74-46d5-b1c6-5c872c60a510\",\"type\":\"ColumnDataSource\"},\"glyph\":{\"id\":\"5c8ce299-4a4f-491a-8dd4-5abf3d3d07a5\",\"type\":\"Rect\"},\"hover_glyph\":null,\"nonselection_glyph\":null,\"selection_glyph\":null},\"id\":\"6bed5ff6-bbb6-4db5-be33-6ac211861c16\",\"type\":\"GlyphRenderer\"},{\"attributes\":{\"callback\":null,\"column_names\":[\"width\",\"label\",\"line_color\",\"line_alpha\",\"color\",\"y\",\"height\",\"x\",\"fill_alpha\"],\"data\":{\"chart_index\":[\"(14.571537, 16.222331]\"],\"color\":[\"#f22c40\"],\"fill_alpha\":[0.8],\"height\":[29.0],\"label\":[\"(14.571537, 16.222331]\"],\"line_alpha\":[1.0],\"line_color\":[\"black\"],\"width\":[1.650793957214745],\"x\":[\"15.396934\"],\"y\":[14.5]}},\"id\":\"bd5ae149-8ec3-4202-990c-19ea7ecbf840\",\"type\":\"ColumnDataSource\"},{\"attributes\":{},\"id\":\"883880bd-2f01-46d6-9114-e28688191d09\",\"type\":\"BasicTicker\"},{\"attributes\":{\"callback\":null,\"column_names\":[\"width\",\"label\",\"line_color\",\"line_alpha\",\"color\",\"y\",\"height\",\"x\",\"fill_alpha\"],\"data\":{\"chart_index\":[\"(34.381065, 36.031858]\"],\"color\":[\"#f22c40\"],\"fill_alpha\":[0.8],\"height\":[576.0],\"label\":[\"(34.381065, 36.031858]\"],\"line_alpha\":[1.0],\"line_color\":[\"black\"],\"width\":[1.650793957214745],\"x\":[\"35.2064615\"],\"y\":[288.0]}},\"id\":\"38a7134f-1136-4900-aa34-60fb3d6799bb\",\"type\":\"ColumnDataSource\"},{\"attributes\":{\"data_source\":{\"id\":\"1f0df2d6-6749-4afe-b2bd-2bdac5356802\",\"type\":\"ColumnDataSource\"},\"glyph\":{\"id\":\"9f2d679a-6c55-4937-a0f5-88b23cee55f5\",\"type\":\"Rect\"},\"hover_glyph\":null,\"nonselection_glyph\":null,\"selection_glyph\":null},\"id\":\"92c5796e-8a15-4dbe-b16d-2f0ef5727d21\",\"type\":\"GlyphRenderer\"},{\"attributes\":{\"callback\":null,\"column_names\":[\"width\",\"label\",\"line_color\",\"line_alpha\",\"color\",\"y\",\"height\",\"x\",\"fill_alpha\"],\"data\":{\"chart_index\":[\"(98.011718, 99.988698]\"],\"color\":[\"#f22c40\"],\"fill_alpha\":[0.8],\"height\":[200.0],\"label\":[\"(98.011718, 99.988698]\"],\"line_alpha\":[1.0],\"line_color\":[\"black\"],\"width\":[1.9769801650449352],\"x\":[\"99.000208\"],\"y\":[100.0]}},\"id\":\"56b53c01-6403-4e08-acad-0eb9a2b5c52e\",\"type\":\"ColumnDataSource\"},{\"attributes\":{\"fill_alpha\":{\"field\":\"fill_alpha\"},\"fill_color\":{\"field\":\"color\"},\"height\":{\"field\":\"height\",\"units\":\"data\"},\"line_color\":{\"field\":\"line_color\"},\"width\":{\"field\":\"width\",\"units\":\"data\"},\"x\":{\"field\":\"x\"},\"y\":{\"field\":\"y\"}},\"id\":\"b860c301-3942-4337-b8c4-8595e25a4a7a\",\"type\":\"Rect\"},{\"attributes\":{\"fill_alpha\":{\"field\":\"fill_alpha\"},\"fill_color\":{\"field\":\"color\"},\"height\":{\"field\":\"height\",\"units\":\"data\"},\"line_color\":{\"field\":\"line_color\"},\"width\":{\"field\":\"width\",\"units\":\"data\"},\"x\":{\"field\":\"x\"},\"y\":{\"field\":\"y\"}},\"id\":\"67ea0e92-fc63-4e3a-93b4-8b8d6ac85e31\",\"type\":\"Rect\"},{\"attributes\":{\"plot\":{\"id\":\"190b90fe-bcce-427a-9503-f0ac58c0167a\",\"subtype\":\"Chart\",\"type\":\"Plot\"}},\"id\":\"da036669-c440-46c5-9c32-4fa57915593a\",\"type\":\"ResetTool\"},{\"attributes\":{\"plot\":{\"id\":\"d8388f20-687d-47a7-88c3-e785246d4dea\",\"subtype\":\"Chart\",\"type\":\"Plot\"}},\"id\":\"fdb36302-96e2-4bea-8aa8-33195f7f9d6a\",\"type\":\"SaveTool\"},{\"attributes\":{\"data_source\":{\"id\":\"51c4c6dd-35e8-485b-b353-14703eb7dd66\",\"type\":\"ColumnDataSource\"},\"glyph\":{\"id\":\"870074e5-de1d-49e8-8358-1f3d24c0c73c\",\"type\":\"Rect\"},\"hover_glyph\":null,\"nonselection_glyph\":null,\"selection_glyph\":null},\"id\":\"e52a1ddf-e778-4491-8d13-aee38b76b827\",\"type\":\"GlyphRenderer\"},{\"attributes\":{\"fill_alpha\":{\"field\":\"fill_alpha\"},\"fill_color\":{\"field\":\"color\"},\"height\":{\"field\":\"height\",\"units\":\"data\"},\"line_color\":{\"field\":\"line_color\"},\"width\":{\"field\":\"width\",\"units\":\"data\"},\"x\":{\"field\":\"x\"},\"y\":{\"field\":\"y\"}},\"id\":\"3eaba33e-359f-405c-b56e-75d88e246576\",\"type\":\"Rect\"},{\"attributes\":{\"data_source\":{\"id\":\"f8ef4086-402e-4cec-a3fb-b667c12518f5\",\"type\":\"ColumnDataSource\"},\"glyph\":{\"id\":\"097958cd-cdcf-452e-b6c7-63590e456eb9\",\"type\":\"Rect\"},\"hover_glyph\":null,\"nonselection_glyph\":null,\"selection_glyph\":null},\"id\":\"400e30b2-ad1f-417a-8829-0a0d9e66544f\",\"type\":\"GlyphRenderer\"},{\"attributes\":{\"callback\":null,\"column_names\":[\"width\",\"label\",\"line_color\",\"line_alpha\",\"color\",\"y\",\"height\",\"x\",\"fill_alpha\"],\"data\":{\"chart_index\":[\"(84.172856, 86.149837]\"],\"color\":[\"#f22c40\"],\"fill_alpha\":[0.8],\"height\":[257.0],\"label\":[\"(84.172856, 86.149837]\"],\"line_alpha\":[1.0],\"line_color\":[\"black\"],\"width\":[1.9769801650449352],\"x\":[\"85.16134650000001\"],\"y\":[128.5]}},\"id\":\"9caaa9bb-a406-4fb6-a0d1-282b1a5ebb80\",\"type\":\"ColumnDataSource\"},{\"attributes\":{\"callback\":null,\"column_names\":[\"width\",\"label\",\"line_color\",\"line_alpha\",\"color\",\"y\",\"height\",\"x\",\"fill_alpha\"],\"data\":{\"chart_index\":[\"(7.968361, 9.619155]\"],\"color\":[\"#f22c40\"],\"fill_alpha\":[0.8],\"height\":[5.0],\"label\":[\"(7.968361, 9.619155]\"],\"line_alpha\":[1.0],\"line_color\":[\"black\"],\"width\":[1.6507939572147432],\"x\":[\"8.793758\"],\"y\":[2.5]}},\"id\":\"ae32b547-f63b-4eef-ad65-8ebc2d022485\",\"type\":\"ColumnDataSource\"},{\"attributes\":{\"callback\":null,\"column_names\":[\"width\",\"label\",\"line_color\",\"line_alpha\",\"color\",\"y\",\"height\",\"x\",\"fill_alpha\"],\"data\":{\"chart_index\":[\"(77.995062, 79.994643]\"],\"color\":[\"#f22c40\"],\"fill_alpha\":[0.8],\"height\":[223.0],\"label\":[\"(77.995062, 79.994643]\"],\"line_alpha\":[1.0],\"line_color\":[\"black\"],\"width\":[1.9995804859201343],\"x\":[\"78.99485250000001\"],\"y\":[111.5]}},\"id\":\"83ebcbd0-54cd-4678-9fc1-e3caeacea3db\",\"type\":\"ColumnDataSource\"},{\"attributes\":{},\"id\":\"d6db2999-ba79-4d47-93d3-978c48dce6a5\",\"type\":\"BasicTicker\"},{\"attributes\":{\"fill_alpha\":{\"field\":\"fill_alpha\"},\"fill_color\":{\"field\":\"color\"},\"height\":{\"field\":\"height\",\"units\":\"data\"},\"line_color\":{\"field\":\"line_color\"},\"width\":{\"field\":\"width\",\"units\":\"data\"},\"x\":{\"field\":\"x\"},\"y\":{\"field\":\"y\"}},\"id\":\"9e4d5bce-137c-43bd-a34c-995d342189e5\",\"type\":\"Rect\"},{\"attributes\":{\"callback\":null,\"column_names\":[\"width\",\"label\",\"line_color\",\"line_alpha\",\"color\",\"y\",\"height\",\"x\",\"fill_alpha\"],\"data\":{\"chart_index\":[\"(93.991706, 95.991287]\"],\"color\":[\"#f22c40\"],\"fill_alpha\":[0.8],\"height\":[200.0],\"label\":[\"(93.991706, 95.991287]\"],\"line_alpha\":[1.0],\"line_color\":[\"black\"],\"width\":[1.9995804859201485],\"x\":[\"94.9914965\"],\"y\":[100.0]}},\"id\":\"e86744fc-3a88-4631-857f-fa1b25e499d2\",\"type\":\"ColumnDataSource\"},{\"attributes\":{\"plot\":null,\"text\":null},\"id\":\"a36205d0-b8f9-4374-ac9f-66876881e3a2\",\"type\":\"Title\"},{\"attributes\":{\"data_source\":{\"id\":\"3d7a19b8-6bd2-4889-9760-49591558472d\",\"type\":\"ColumnDataSource\"},\"glyph\":{\"id\":\"91770157-331a-4beb-8883-e312cb2ac9b1\",\"type\":\"Rect\"},\"hover_glyph\":null,\"nonselection_glyph\":null,\"selection_glyph\":null},\"id\":\"8f9cfed3-91f5-4aa3-9fe7-ea6c83aa8b8f\",\"type\":\"GlyphRenderer\"},{\"attributes\":{\"fill_alpha\":{\"field\":\"fill_alpha\"},\"fill_color\":{\"field\":\"color\"},\"height\":{\"field\":\"height\",\"units\":\"data\"},\"line_color\":{\"field\":\"line_color\"},\"width\":{\"field\":\"width\",\"units\":\"data\"},\"x\":{\"field\":\"x\"},\"y\":{\"field\":\"y\"}},\"id\":\"dc8e6c4f-ca17-4109-b111-b8528c6ea622\",\"type\":\"Rect\"},{\"attributes\":{\"callback\":null,\"column_names\":[\"width\",\"label\",\"line_color\",\"line_alpha\",\"color\",\"y\",\"height\",\"x\",\"fill_alpha\"],\"data\":{\"chart_index\":[\"(-0.285609, 1.365185]\"],\"color\":[\"#f22c40\"],\"fill_alpha\":[0.8],\"height\":[0.0],\"label\":[\"(-0.285609, 1.365185]\"],\"line_alpha\":[1.0],\"line_color\":[\"black\"],\"width\":[1.6507939572147436],\"x\":[\"0.539788\"],\"y\":[0.0]}},\"id\":\"6f9f1902-464f-4d07-a4da-12d534573a00\",\"type\":\"ColumnDataSource\"},{\"attributes\":{\"fill_alpha\":{\"field\":\"fill_alpha\"},\"fill_color\":{\"field\":\"color\"},\"height\":{\"field\":\"height\",\"units\":\"data\"},\"line_color\":{\"field\":\"line_color\"},\"width\":{\"field\":\"width\",\"units\":\"data\"},\"x\":{\"field\":\"x\"},\"y\":{\"field\":\"y\"}},\"id\":\"4a18b810-7fd8-418b-bc90-799650df63fc\",\"type\":\"Rect\"},{\"attributes\":{\"data_source\":{\"id\":\"20964fc5-5835-4666-92c2-a5ac9db03d23\",\"type\":\"ColumnDataSource\"},\"glyph\":{\"id\":\"cfeda135-3836-41ff-9926-767d356e3a3d\",\"type\":\"Rect\"},\"hover_glyph\":null,\"nonselection_glyph\":null,\"selection_glyph\":null},\"id\":\"beb0c19c-b010-4322-92f5-b9b4c42ca08a\",\"type\":\"GlyphRenderer\"},{\"attributes\":{\"plot\":{\"id\":\"e4892d86-69c9-4ad7-b82d-3161fd46f8c3\",\"subtype\":\"Chart\",\"type\":\"Plot\"}},\"id\":\"b11e8357-3ba3-4282-a5de-22c988d755a7\",\"type\":\"PanTool\"},{\"attributes\":{\"fill_alpha\":{\"field\":\"fill_alpha\"},\"fill_color\":{\"field\":\"color\"},\"height\":{\"field\":\"height\",\"units\":\"data\"},\"line_color\":{\"field\":\"line_color\"},\"width\":{\"field\":\"width\",\"units\":\"data\"},\"x\":{\"field\":\"x\"},\"y\":{\"field\":\"y\"}},\"id\":\"ffeba9dd-5564-46ed-8f12-eee2c90679dc\",\"type\":\"Rect\"},{\"attributes\":{\"data_source\":{\"id\":\"90621181-6cf3-4ae1-9ed3-584b293a8d4e\",\"type\":\"ColumnDataSource\"},\"glyph\":{\"id\":\"63b3fc2f-1609-46c0-88bb-8763564f7072\",\"type\":\"Rect\"},\"hover_glyph\":null,\"nonselection_glyph\":null,\"selection_glyph\":null},\"id\":\"42a81fb6-6cf5-4a08-8359-4f3a335f3501\",\"type\":\"GlyphRenderer\"},{\"attributes\":{\"fill_alpha\":{\"field\":\"fill_alpha\"},\"fill_color\":{\"field\":\"color\"},\"height\":{\"field\":\"height\",\"units\":\"data\"},\"line_color\":{\"field\":\"line_color\"},\"width\":{\"field\":\"width\",\"units\":\"data\"},\"x\":{\"field\":\"x\"},\"y\":{\"field\":\"y\"}},\"id\":\"50c8c092-e860-4f64-ab5b-117b1a3e7430\",\"type\":\"Rect\"},{\"attributes\":{\"data_source\":{\"id\":\"adc21ef7-6b11-4021-a625-32b6164cf13e\",\"type\":\"ColumnDataSource\"},\"glyph\":{\"id\":\"4430781c-cc75-4ae4-9642-8f4ed662b505\",\"type\":\"Rect\"},\"hover_glyph\":null,\"nonselection_glyph\":null,\"selection_glyph\":null},\"id\":\"2c47c315-da5b-400e-bcde-d6325be52acb\",\"type\":\"GlyphRenderer\"},{\"attributes\":{\"data_source\":{\"id\":\"c629c8b5-5aea-4a1d-b0fb-7c78d86424e1\",\"type\":\"ColumnDataSource\"},\"glyph\":{\"id\":\"aeb4876d-0b05-478f-8a29-3d260035d720\",\"type\":\"Rect\"},\"hover_glyph\":null,\"nonselection_glyph\":null,\"selection_glyph\":null},\"id\":\"acdaa208-5479-4d0c-8be8-e5fdcaf994fc\",\"type\":\"GlyphRenderer\"},{\"attributes\":{\"data_source\":{\"id\":\"6f9f1902-464f-4d07-a4da-12d534573a00\",\"type\":\"ColumnDataSource\"},\"glyph\":{\"id\":\"bd8bb78f-f30c-4255-b848-4772e420d313\",\"type\":\"Rect\"},\"hover_glyph\":null,\"nonselection_glyph\":null,\"selection_glyph\":null},\"id\":\"4703687a-365a-4b2b-8483-affa19423b2e\",\"type\":\"GlyphRenderer\"},{\"attributes\":{\"callback\":null,\"column_names\":[\"width\",\"label\",\"line_color\",\"line_alpha\",\"color\",\"y\",\"height\",\"x\",\"fill_alpha\"],\"data\":{\"chart_index\":[\"(521.625986, 539.612926]\"],\"color\":[\"#f22c40\"],\"fill_alpha\":[0.8],\"height\":[5.0],\"label\":[\"(521.625986, 539.612926]\"],\"line_alpha\":[1.0],\"line_color\":[\"black\"],\"width\":[17.98694043395585],\"x\":[\"530.619456\"],\"y\":[2.5]}},\"id\":\"1da9565d-05df-4f0a-a02e-ed7e0caa2ddb\",\"type\":\"ColumnDataSource\"},{\"attributes\":{\"data_source\":{\"id\":\"c5dd35cc-a7e7-4a0b-b78a-b5583925a190\",\"type\":\"ColumnDataSource\"},\"glyph\":{\"id\":\"bf723a68-10b8-4708-972a-d1ec69677445\",\"type\":\"Rect\"},\"hover_glyph\":null,\"nonselection_glyph\":null,\"selection_glyph\":null},\"id\":\"beb6dd66-f27c-4570-b04c-950b75a2ff0b\",\"type\":\"GlyphRenderer\"},{\"attributes\":{\"callback\":null,\"column_names\":[\"width\",\"label\",\"line_color\",\"line_alpha\",\"color\",\"y\",\"height\",\"x\",\"fill_alpha\"],\"data\":{\"chart_index\":[\"(62.426075, 64.403055]\"],\"color\":[\"#f22c40\"],\"fill_alpha\":[0.8],\"height\":[303.0],\"label\":[\"(62.426075, 64.403055]\"],\"line_alpha\":[1.0],\"line_color\":[\"black\"],\"width\":[1.976980165044921],\"x\":[\"63.414564999999996\"],\"y\":[151.5]}},\"id\":\"67325298-5df1-48d5-9e46-65eb33158041\",\"type\":\"ColumnDataSource\"},{\"attributes\":{\"callback\":null,\"column_names\":[\"width\",\"label\",\"line_color\",\"line_alpha\",\"color\",\"y\",\"height\",\"x\",\"fill_alpha\"],\"data\":{\"chart_index\":[\"(647.534569, 665.521509]\"],\"color\":[\"#f22c40\"],\"fill_alpha\":[0.8],\"height\":[2.0],\"label\":[\"(647.534569, 665.521509]\"],\"line_alpha\":[1.0],\"line_color\":[\"black\"],\"width\":[17.98694043395585],\"x\":[\"656.528039\"],\"y\":[1.0]}},\"id\":\"3d7a19b8-6bd2-4889-9760-49591558472d\",\"type\":\"ColumnDataSource\"},{\"attributes\":{\"fill_alpha\":{\"field\":\"fill_alpha\"},\"fill_color\":{\"field\":\"color\"},\"height\":{\"field\":\"height\",\"units\":\"data\"},\"line_color\":{\"field\":\"line_color\"},\"width\":{\"field\":\"width\",\"units\":\"data\"},\"x\":{\"field\":\"x\"},\"y\":{\"field\":\"y\"}},\"id\":\"a6b4d877-4864-4cec-8c62-94714d60a39d\",\"type\":\"Rect\"},{\"attributes\":{\"fill_alpha\":{\"field\":\"fill_alpha\"},\"fill_color\":{\"field\":\"color\"},\"height\":{\"field\":\"height\",\"units\":\"data\"},\"line_color\":{\"field\":\"line_color\"},\"width\":{\"field\":\"width\",\"units\":\"data\"},\"x\":{\"field\":\"x\"},\"y\":{\"field\":\"y\"}},\"id\":\"a3ec81b4-2caa-4def-b8dd-5bb5b301b7c2\",\"type\":\"Rect\"},{\"attributes\":{\"callback\":null,\"column_names\":[\"width\",\"label\",\"line_color\",\"line_alpha\",\"color\",\"y\",\"height\",\"x\",\"fill_alpha\"],\"data\":{\"chart_index\":[\"(845.390913, 863.377854]\"],\"color\":[\"#f22c40\"],\"fill_alpha\":[0.8],\"height\":[0.0],\"label\":[\"(845.390913, 863.377854]\"],\"line_alpha\":[1.0],\"line_color\":[\"black\"],\"width\":[17.98694043395585],\"x\":[\"854.3843835\"],\"y\":[0.0]}},\"id\":\"7fb708d9-0ecc-43ca-acc5-8274693a23ed\",\"type\":\"ColumnDataSource\"},{\"attributes\":{\"callback\":null,\"column_names\":[\"width\",\"label\",\"line_color\",\"line_alpha\",\"color\",\"y\",\"height\",\"x\",\"fill_alpha\"],\"data\":{\"chart_index\":[\"(45.936622, 47.587416]\"],\"color\":[\"#f22c40\"],\"fill_alpha\":[0.8],\"height\":[531.0],\"label\":[\"(45.936622, 47.587416]\"],\"line_alpha\":[1.0],\"line_color\":[\"black\"],\"width\":[1.6507939572147379],\"x\":[\"46.762018999999995\"],\"y\":[265.5]}},\"id\":\"b184629c-7ec3-47d5-be19-f441f7f7021f\",\"type\":\"ColumnDataSource\"},{\"attributes\":{\"callback\":null,\"column_names\":[\"width\",\"label\",\"line_color\",\"line_alpha\",\"color\",\"y\",\"height\",\"x\",\"fill_alpha\"],\"data\":{\"chart_index\":[\"(16.222331, 17.873125]\"],\"color\":[\"#f22c40\"],\"fill_alpha\":[0.8],\"height\":[47.0],\"label\":[\"(16.222331, 17.873125]\"],\"line_alpha\":[1.0],\"line_color\":[\"black\"],\"width\":[1.650793957214745],\"x\":[\"17.047728\"],\"y\":[23.5]}},\"id\":\"0da22f15-2792-40b6-b057-8f1f6df3829d\",\"type\":\"ColumnDataSource\"},{\"attributes\":{\"fill_alpha\":{\"field\":\"fill_alpha\"},\"fill_color\":{\"field\":\"color\"},\"height\":{\"field\":\"height\",\"units\":\"data\"},\"line_color\":{\"field\":\"line_color\"},\"width\":{\"field\":\"width\",\"units\":\"data\"},\"x\":{\"field\":\"x\"},\"y\":{\"field\":\"y\"}},\"id\":\"affded98-0f2a-4d38-939e-266c549e8b9b\",\"type\":\"Rect\"},{\"attributes\":{\"fill_alpha\":{\"field\":\"fill_alpha\"},\"fill_color\":{\"field\":\"color\"},\"height\":{\"field\":\"height\",\"units\":\"data\"},\"line_color\":{\"field\":\"line_color\"},\"width\":{\"field\":\"width\",\"units\":\"data\"},\"x\":{\"field\":\"x\"},\"y\":{\"field\":\"y\"}},\"id\":\"5b5a40cc-4bc0-41cd-a579-560a1fbcffd7\",\"type\":\"Rect\"},{\"attributes\":{\"callback\":null,\"column_names\":[\"width\",\"label\",\"line_color\",\"line_alpha\",\"color\",\"y\",\"height\",\"x\",\"fill_alpha\"],\"data\":{\"chart_index\":[\"(27.777889, 29.428683]\"],\"color\":[\"#f22c40\"],\"fill_alpha\":[0.8],\"height\":[363.0],\"label\":[\"(27.777889, 29.428683]\"],\"line_alpha\":[1.0],\"line_color\":[\"black\"],\"width\":[1.650793957214745],\"x\":[\"28.603285999999997\"],\"y\":[181.5]}},\"id\":\"45ce8cec-34ac-4b98-9e5b-f7a836b0150f\",\"type\":\"ColumnDataSource\"},{\"attributes\":{\"callback\":null,\"column_names\":[\"width\",\"label\",\"line_color\",\"line_alpha\",\"color\",\"y\",\"height\",\"x\",\"fill_alpha\"],\"data\":{\"chart_index\":[\"(75.995482, 77.995062]\"],\"color\":[\"#f22c40\"],\"fill_alpha\":[0.8],\"height\":[199.0],\"label\":[\"(75.995482, 77.995062]\"],\"line_alpha\":[1.0],\"line_color\":[\"black\"],\"width\":[1.9995804859201343],\"x\":[\"76.995272\"],\"y\":[99.5]}},\"id\":\"645fd119-846d-43f2-8228-2150b4d04974\",\"type\":\"ColumnDataSource\"},{\"attributes\":{\"plot\":null,\"text\":null},\"id\":\"55abc7f9-c66b-4445-b81e-d67d63e63b5a\",\"type\":\"Title\"},{\"attributes\":{\"fill_alpha\":{\"field\":\"fill_alpha\"},\"fill_color\":{\"field\":\"color\"},\"height\":{\"field\":\"height\",\"units\":\"data\"},\"line_color\":{\"field\":\"line_color\"},\"width\":{\"field\":\"width\",\"units\":\"data\"},\"x\":{\"field\":\"x\"},\"y\":{\"field\":\"y\"}},\"id\":\"ebad4234-f368-4576-9d8b-6d74f9d9eaaa\",\"type\":\"Rect\"},{\"attributes\":{\"bottom_units\":\"screen\",\"fill_alpha\":{\"value\":0.5},\"fill_color\":{\"value\":\"lightgrey\"},\"left_units\":\"screen\",\"level\":\"overlay\",\"line_alpha\":{\"value\":1.0},\"line_color\":{\"value\":\"black\"},\"line_dash\":[4,4],\"line_width\":{\"value\":2},\"plot\":null,\"render_mode\":\"css\",\"right_units\":\"screen\",\"top_units\":\"screen\"},\"id\":\"fe942fa8-95cd-4824-8c34-5551a59ae7ad\",\"type\":\"BoxAnnotation\"},{\"attributes\":{\"callback\":null,\"column_names\":[\"width\",\"label\",\"line_color\",\"line_alpha\",\"color\",\"y\",\"height\",\"x\",\"fill_alpha\"],\"data\":{\"chart_index\":[\"(341.756581, 359.743522]\"],\"color\":[\"#f22c40\"],\"fill_alpha\":[0.8],\"height\":[53.0],\"label\":[\"(341.756581, 359.743522]\"],\"line_alpha\":[1.0],\"line_color\":[\"black\"],\"width\":[17.98694043395591],\"x\":[\"350.7500515\"],\"y\":[26.5]}},\"id\":\"90621181-6cf3-4ae1-9ed3-584b293a8d4e\",\"type\":\"ColumnDataSource\"},{\"attributes\":{\"data_source\":{\"id\":\"ccb6c4e3-6aec-49e6-89a9-d7cd2b87f39a\",\"type\":\"ColumnDataSource\"},\"glyph\":{\"id\":\"3fcb0ec8-d1f9-444e-8778-83dd559d1805\",\"type\":\"Rect\"},\"hover_glyph\":null,\"nonselection_glyph\":null,\"selection_glyph\":null},\"id\":\"1e2e9e95-2b6a-4161-810a-c4c67072711c\",\"type\":\"GlyphRenderer\"},{\"attributes\":{\"data_source\":{\"id\":\"3f572c54-1f09-4f09-98f8-8d049d09fa7f\",\"type\":\"ColumnDataSource\"},\"glyph\":{\"id\":\"69c2c892-ac5c-4e7e-b14e-be5b56eeb36d\",\"type\":\"Rect\"},\"hover_glyph\":null,\"nonselection_glyph\":null,\"selection_glyph\":null},\"id\":\"f4d8bc36-50fd-4411-9077-c09f42c4ab65\",\"type\":\"GlyphRenderer\"},{\"attributes\":{\"fill_alpha\":{\"field\":\"fill_alpha\"},\"fill_color\":{\"field\":\"color\"},\"height\":{\"field\":\"height\",\"units\":\"data\"},\"line_color\":{\"field\":\"line_color\"},\"width\":{\"field\":\"width\",\"units\":\"data\"},\"x\":{\"field\":\"x\"},\"y\":{\"field\":\"y\"}},\"id\":\"f73b4ad6-f958-4536-8d5d-ed8539972b2e\",\"type\":\"Rect\"},{\"attributes\":{\"fill_alpha\":{\"field\":\"fill_alpha\"},\"fill_color\":{\"field\":\"color\"},\"height\":{\"field\":\"height\",\"units\":\"data\"},\"line_color\":{\"field\":\"line_color\"},\"width\":{\"field\":\"width\",\"units\":\"data\"},\"x\":{\"field\":\"x\"},\"y\":{\"field\":\"y\"}},\"id\":\"12f33c9a-9e44-431d-a7cd-62673e94b9b4\",\"type\":\"Rect\"},{\"attributes\":{\"callback\":null,\"column_names\":[\"width\",\"label\",\"line_color\",\"line_alpha\",\"color\",\"y\",\"height\",\"x\",\"fill_alpha\"],\"data\":{\"chart_index\":[\"(113.987511, 115.987092]\"],\"color\":[\"#f22c40\"],\"fill_alpha\":[0.8],\"height\":[194.0],\"label\":[\"(113.987511, 115.987092]\"],\"line_alpha\":[1.0],\"line_color\":[\"black\"],\"width\":[1.9995804859201343],\"x\":[\"114.9873015\"],\"y\":[97.0]}},\"id\":\"46a44d18-6b99-406b-8868-077fb6d61155\",\"type\":\"ColumnDataSource\"},{\"attributes\":{\"data_source\":{\"id\":\"a4da9e0d-06b8-41c9-8610-91f8f6ad1bba\",\"type\":\"ColumnDataSource\"},\"glyph\":{\"id\":\"6907fb77-d5ec-475a-b2e3-a06d1432e9a1\",\"type\":\"Rect\"},\"hover_glyph\":null,\"nonselection_glyph\":null,\"selection_glyph\":null},\"id\":\"753b928b-e8fb-442f-909d-bbd2d7c8e223\",\"type\":\"GlyphRenderer\"},{\"attributes\":{\"callback\":null,\"column_names\":[\"width\",\"label\",\"line_color\",\"line_alpha\",\"color\",\"y\",\"height\",\"x\",\"fill_alpha\"],\"data\":{\"chart_index\":[\"(539.612926, 557.599866]\"],\"color\":[\"#f22c40\"],\"fill_alpha\":[0.8],\"height\":[11.0],\"label\":[\"(539.612926, 557.599866]\"],\"line_alpha\":[1.0],\"line_color\":[\"black\"],\"width\":[17.986940433955965],\"x\":[\"548.606396\"],\"y\":[5.5]}},\"id\":\"98c84acc-235a-4a92-a8c2-efb62609b95c\",\"type\":\"ColumnDataSource\"},{\"attributes\":{\"data_source\":{\"id\":\"f40f3541-68b6-4ef4-9a5d-a3fe1722767b\",\"type\":\"ColumnDataSource\"},\"glyph\":{\"id\":\"450783b3-562d-42ec-8e9f-f3f4840be620\",\"type\":\"Rect\"},\"hover_glyph\":null,\"nonselection_glyph\":null,\"selection_glyph\":null},\"id\":\"3630dc47-9b88-43ea-9a10-52f294dd8cc2\",\"type\":\"GlyphRenderer\"},{\"attributes\":{\"data_source\":{\"id\":\"7293b09b-e59d-4283-aa72-faa5c741053f\",\"type\":\"ColumnDataSource\"},\"glyph\":{\"id\":\"b096ed4a-577c-4da8-832b-5f84a16ef7e2\",\"type\":\"Rect\"},\"hover_glyph\":null,\"nonselection_glyph\":null,\"selection_glyph\":null},\"id\":\"5fd9cc7f-4116-41db-a5ca-582958938fb2\",\"type\":\"GlyphRenderer\"},{\"attributes\":{\"active_drag\":\"auto\",\"active_scroll\":\"auto\",\"active_tap\":\"auto\",\"tools\":[{\"id\":\"091dc7ac-4a33-447c-bb03-7105719ff6a1\",\"type\":\"PanTool\"},{\"id\":\"01ff77d1-7772-4638-9758-77bff58f57cb\",\"type\":\"WheelZoomTool\"},{\"id\":\"6b07ec7b-67d9-4de1-87c8-177282cafb9c\",\"type\":\"BoxZoomTool\"},{\"id\":\"fdb36302-96e2-4bea-8aa8-33195f7f9d6a\",\"type\":\"SaveTool\"},{\"id\":\"e93c3873-27a0-48bb-8d15-385bef70e2ef\",\"type\":\"ResetTool\"},{\"id\":\"bfbcdcd3-7ba8-4f39-8afe-0f6cf7b136f6\",\"type\":\"HelpTool\"}]},\"id\":\"73b6980e-d0a7-410e-9662-a4d74a5309b9\",\"type\":\"Toolbar\"},{\"attributes\":{\"callback\":null,\"column_names\":[\"width\",\"label\",\"line_color\",\"line_alpha\",\"color\",\"y\",\"height\",\"x\",\"fill_alpha\"],\"data\":{\"chart_index\":[\"(22.006809, 24.006389]\"],\"color\":[\"#f22c40\"],\"fill_alpha\":[0.8],\"height\":[197.0],\"label\":[\"(22.006809, 24.006389]\"],\"line_alpha\":[1.0],\"line_color\":[\"black\"],\"width\":[1.9995804859201378],\"x\":[\"23.006599\"],\"y\":[98.5]}},\"id\":\"6cc79643-b942-4006-a741-172c35cfb42d\",\"type\":\"ColumnDataSource\"},{\"attributes\":{\"fill_alpha\":{\"field\":\"fill_alpha\"},\"fill_color\":{\"field\":\"color\"},\"height\":{\"field\":\"height\",\"units\":\"data\"},\"line_color\":{\"field\":\"line_color\"},\"width\":{\"field\":\"width\",\"units\":\"data\"},\"x\":{\"field\":\"x\"},\"y\":{\"field\":\"y\"}},\"id\":\"861ef596-5910-428f-8a7e-73944ff2542e\",\"type\":\"Rect\"},{\"attributes\":{\"fill_alpha\":{\"field\":\"fill_alpha\"},\"fill_color\":{\"field\":\"color\"},\"height\":{\"field\":\"height\",\"units\":\"data\"},\"line_color\":{\"field\":\"line_color\"},\"width\":{\"field\":\"width\",\"units\":\"data\"},\"x\":{\"field\":\"x\"},\"y\":{\"field\":\"y\"}},\"id\":\"df69fa0e-5449-4491-9569-41a6ba0cfac7\",\"type\":\"Rect\"},{\"attributes\":{\"data_source\":{\"id\":\"b04d77ae-feff-49eb-a388-29d2680ad48e\",\"type\":\"ColumnDataSource\"},\"glyph\":{\"id\":\"df69fa0e-5449-4491-9569-41a6ba0cfac7\",\"type\":\"Rect\"},\"hover_glyph\":null,\"nonselection_glyph\":null,\"selection_glyph\":null},\"id\":\"1981f5ad-55e8-4c3c-8ddc-b5ebef054500\",\"type\":\"GlyphRenderer\"},{\"attributes\":{\"fill_alpha\":{\"field\":\"fill_alpha\"},\"fill_color\":{\"field\":\"color\"},\"height\":{\"field\":\"height\",\"units\":\"data\"},\"line_color\":{\"field\":\"line_color\"},\"width\":{\"field\":\"width\",\"units\":\"data\"},\"x\":{\"field\":\"x\"},\"y\":{\"field\":\"y\"}},\"id\":\"78800ebf-44ea-4bf6-be61-25de85b47df7\",\"type\":\"Rect\"},{\"attributes\":{},\"id\":\"06ef162a-b0a0-454d-a50b-0cc8b9118cf0\",\"type\":\"ToolEvents\"},{\"attributes\":{\"fill_alpha\":{\"field\":\"fill_alpha\"},\"fill_color\":{\"field\":\"color\"},\"height\":{\"field\":\"height\",\"units\":\"data\"},\"line_color\":{\"field\":\"line_color\"},\"width\":{\"field\":\"width\",\"units\":\"data\"},\"x\":{\"field\":\"x\"},\"y\":{\"field\":\"y\"}},\"id\":\"612f118c-6a16-4676-a68c-aa4aab833128\",\"type\":\"Rect\"},{\"attributes\":{\"callback\":null,\"column_names\":[\"width\",\"label\",\"line_color\",\"line_alpha\",\"color\",\"y\",\"height\",\"x\",\"fill_alpha\"],\"data\":{\"chart_index\":[\"(251.821879, 269.808820]\"],\"color\":[\"#f22c40\"],\"fill_alpha\":[0.8],\"height\":[128.0],\"label\":[\"(251.821879, 269.808820]\"],\"line_alpha\":[1.0],\"line_color\":[\"black\"],\"width\":[17.98694043395588],\"x\":[\"260.8153495\"],\"y\":[64.0]}},\"id\":\"d247fa0c-388b-4334-843b-2d81d1ec8eaa\",\"type\":\"ColumnDataSource\"},{\"attributes\":{\"callback\":null,\"column_names\":[\"width\",\"label\",\"line_color\",\"line_alpha\",\"color\",\"y\",\"height\",\"x\",\"fill_alpha\"],\"data\":{\"chart_index\":[\"(50.889004, 52.539798]\"],\"color\":[\"#f22c40\"],\"fill_alpha\":[0.8],\"height\":[362.0],\"label\":[\"(50.889004, 52.539798]\"],\"line_alpha\":[1.0],\"line_color\":[\"black\"],\"width\":[1.650793957214745],\"x\":[\"51.714400999999995\"],\"y\":[181.0]}},\"id\":\"1b24336d-9bc6-473b-8900-711858d7b216\",\"type\":\"ColumnDataSource\"},{\"attributes\":{\"callback\":null,\"column_names\":[\"width\",\"label\",\"line_color\",\"line_alpha\",\"color\",\"y\",\"height\",\"x\",\"fill_alpha\"],\"data\":{\"chart_index\":[\"(827.403973, 845.390913]\"],\"color\":[\"#f22c40\"],\"fill_alpha\":[0.8],\"height\":[1.0],\"label\":[\"(827.403973, 845.390913]\"],\"line_alpha\":[1.0],\"line_color\":[\"black\"],\"width\":[17.986940433955965],\"x\":[\"836.397443\"],\"y\":[0.5]}},\"id\":\"b09a246e-3167-48dd-810d-580ac29879b0\",\"type\":\"ColumnDataSource\"},{\"attributes\":{\"data_source\":{\"id\":\"3b9b1ce9-bdd3-4ba8-ae9a-4f984f51ea88\",\"type\":\"ColumnDataSource\"},\"glyph\":{\"id\":\"88a4fe1f-0e44-4770-8ea9-3d1cce6098c3\",\"type\":\"Rect\"},\"hover_glyph\":null,\"nonselection_glyph\":null,\"selection_glyph\":null},\"id\":\"875fcf3b-0872-4bcd-b628-4a5e39a0c81b\",\"type\":\"GlyphRenderer\"},{\"attributes\":{\"callback\":null,\"column_names\":[\"width\",\"label\",\"line_color\",\"line_alpha\",\"color\",\"y\",\"height\",\"x\",\"fill_alpha\"],\"data\":{\"chart_index\":[\"(809.417033, 827.403973]\"],\"color\":[\"#f22c40\"],\"fill_alpha\":[0.8],\"height\":[0.0],\"label\":[\"(809.417033, 827.403973]\"],\"line_alpha\":[1.0],\"line_color\":[\"black\"],\"width\":[17.98694043395585],\"x\":[\"818.410503\"],\"y\":[0.0]}},\"id\":\"8ec87e70-61b8-40a5-9800-13dc0dee1e66\",\"type\":\"ColumnDataSource\"},{\"attributes\":{\"below\":[{\"id\":\"8e4054eb-115e-4fd1-9c0b-fbcdba9c5357\",\"type\":\"LinearAxis\"}],\"css_classes\":null,\"height\":300,\"left\":[{\"id\":\"dacacf11-4c69-4af0-80ac-279a48143f64\",\"type\":\"LinearAxis\"}],\"renderers\":[{\"id\":\"fe942fa8-95cd-4824-8c34-5551a59ae7ad\",\"type\":\"BoxAnnotation\"},{\"id\":\"08a04be5-411c-4027-bcc7-3b24af49174c\",\"type\":\"GlyphRenderer\"},{\"id\":\"c4245004-c0c6-4871-bc6d-2fcd27d64e8a\",\"type\":\"GlyphRenderer\"},{\"id\":\"d637381c-5126-4b82-907b-96d88354a4e9\",\"type\":\"GlyphRenderer\"},{\"id\":\"9da5f635-f34f-46b1-b811-f0b6b4d4fd60\",\"type\":\"GlyphRenderer\"},{\"id\":\"c53a8bc7-8724-49ff-88e0-b0c7560b1cc4\",\"type\":\"GlyphRenderer\"},{\"id\":\"13133bbb-74dd-418d-aed4-a40b46a06eb6\",\"type\":\"GlyphRenderer\"},{\"id\":\"76f709cf-cfba-4495-b955-31535b1a5be0\",\"type\":\"GlyphRenderer\"},{\"id\":\"f25b3606-4e7a-4886-b4e8-30d3d2ccd06d\",\"type\":\"GlyphRenderer\"},{\"id\":\"4dafbcc6-0238-415b-b10e-7e2c6f31d642\",\"type\":\"GlyphRenderer\"},{\"id\":\"302e2522-4bcf-4b18-ba80-61d6f91a27cb\",\"type\":\"GlyphRenderer\"},{\"id\":\"875fcf3b-0872-4bcd-b628-4a5e39a0c81b\",\"type\":\"GlyphRenderer\"},{\"id\":\"22aef197-f5cd-49c8-b8ee-c2ca484294f5\",\"type\":\"GlyphRenderer\"},{\"id\":\"b5e8b76c-02c8-40a5-aa62-afd22a8aa821\",\"type\":\"GlyphRenderer\"},{\"id\":\"4d2c15d6-a388-4500-b499-81e218abc33a\",\"type\":\"GlyphRenderer\"},{\"id\":\"46f40245-fd96-4291-8516-d91c7611703d\",\"type\":\"GlyphRenderer\"},{\"id\":\"700d0969-5e3a-47c8-b2b4-ff571bf53701\",\"type\":\"GlyphRenderer\"},{\"id\":\"52fdd6b8-0847-45e5-9c2d-f6adae16f21a\",\"type\":\"GlyphRenderer\"},{\"id\":\"276c0bd7-75c3-4a73-9eec-2758ebfb2c66\",\"type\":\"GlyphRenderer\"},{\"id\":\"a847c945-f0df-4141-bc1f-0e1d61f5cbe2\",\"type\":\"GlyphRenderer\"},{\"id\":\"42a81fb6-6cf5-4a08-8359-4f3a335f3501\",\"type\":\"GlyphRenderer\"},{\"id\":\"d9f16ba5-95b2-4281-a8f4-307e79a90e99\",\"type\":\"GlyphRenderer\"},{\"id\":\"855e3b31-15a7-457d-948a-efb0113da752\",\"type\":\"GlyphRenderer\"},{\"id\":\"09d58fd4-db74-4217-a373-43021f3f4aaa\",\"type\":\"GlyphRenderer\"},{\"id\":\"753b928b-e8fb-442f-909d-bbd2d7c8e223\",\"type\":\"GlyphRenderer\"},{\"id\":\"2f02c4f6-ec50-487a-9069-12d98142190a\",\"type\":\"GlyphRenderer\"},{\"id\":\"c026f8c9-e814-445c-98ea-decdb638bfa4\",\"type\":\"GlyphRenderer\"},{\"id\":\"1981f5ad-55e8-4c3c-8ddc-b5ebef054500\",\"type\":\"GlyphRenderer\"},{\"id\":\"7ca01169-5d0d-47d4-b59e-c8d438433d5c\",\"type\":\"GlyphRenderer\"},{\"id\":\"d222a760-c514-42bd-9410-410e5ce152ff\",\"type\":\"GlyphRenderer\"},{\"id\":\"6460e06f-cc00-411d-a893-0eea4b2bb867\",\"type\":\"GlyphRenderer\"},{\"id\":\"5cc4d8fa-e8aa-43e3-9a8d-695e5df093da\",\"type\":\"GlyphRenderer\"},{\"id\":\"44cdfa0c-037e-4519-850d-fc19cbba9712\",\"type\":\"GlyphRenderer\"},{\"id\":\"150843d1-7f9b-429b-88dd-cc7b37edd41f\",\"type\":\"GlyphRenderer\"},{\"id\":\"7e745a86-f97c-41a9-8704-2475652e0b8f\",\"type\":\"GlyphRenderer\"},{\"id\":\"5fd9cc7f-4116-41db-a5ca-582958938fb2\",\"type\":\"GlyphRenderer\"},{\"id\":\"6bed5ff6-bbb6-4db5-be33-6ac211861c16\",\"type\":\"GlyphRenderer\"},{\"id\":\"8f9cfed3-91f5-4aa3-9fe7-ea6c83aa8b8f\",\"type\":\"GlyphRenderer\"},{\"id\":\"cbca8df7-6660-4b8a-9f9a-c3354b796f1f\",\"type\":\"GlyphRenderer\"},{\"id\":\"914658f3-7645-4f93-a831-7beea8d89c8b\",\"type\":\"GlyphRenderer\"},{\"id\":\"33e15a87-8758-49a8-9b1d-fa4034ef65fc\",\"type\":\"GlyphRenderer\"},{\"id\":\"728c604b-e425-4a01-be0d-ac7c01c770b4\",\"type\":\"GlyphRenderer\"},{\"id\":\"f979342c-1e9d-49c4-9a4c-a3408749d434\",\"type\":\"GlyphRenderer\"},{\"id\":\"6f66a278-7c88-4401-b1b7-e80f58a8ac80\",\"type\":\"GlyphRenderer\"},{\"id\":\"b5d205c2-a1c5-401e-9eab-b46dc55f4fb4\",\"type\":\"GlyphRenderer\"},{\"id\":\"9bae1e25-d395-4ded-8098-68939e4a8c5a\",\"type\":\"GlyphRenderer\"},{\"id\":\"4d0c7c88-c09d-42d4-a173-3dc523ecd908\",\"type\":\"GlyphRenderer\"},{\"id\":\"0c88a406-038f-4eed-b2cf-8e398bc42f1d\",\"type\":\"GlyphRenderer\"},{\"id\":\"19429a5e-0845-455d-809f-57d62253541b\",\"type\":\"GlyphRenderer\"},{\"id\":\"2c47c315-da5b-400e-bcde-d6325be52acb\",\"type\":\"GlyphRenderer\"},{\"id\":\"00d5e159-f1ab-4843-8e7e-1cc70ef8cda5\",\"type\":\"GlyphRenderer\"},{\"id\":\"1ea78efd-19b8-44cf-937b-b5b902af8b3b\",\"type\":\"Legend\"},{\"id\":\"8e4054eb-115e-4fd1-9c0b-fbcdba9c5357\",\"type\":\"LinearAxis\"},{\"id\":\"dacacf11-4c69-4af0-80ac-279a48143f64\",\"type\":\"LinearAxis\"},{\"id\":\"b9b1cf1c-e65d-48c1-a048-e7478df91b84\",\"type\":\"Grid\"}],\"title\":{\"id\":\"55abc7f9-c66b-4445-b81e-d67d63e63b5a\",\"type\":\"Title\"},\"tool_events\":{\"id\":\"06ef162a-b0a0-454d-a50b-0cc8b9118cf0\",\"type\":\"ToolEvents\"},\"toolbar\":{\"id\":\"1d816a0a-bbb5-4ba4-aa04-adda85385479\",\"type\":\"Toolbar\"},\"toolbar_location\":null,\"width\":350,\"x_mapper_type\":\"auto\",\"x_range\":{\"id\":\"84010b1f-3d36-4831-976a-e0a0487558e6\",\"type\":\"Range1d\"},\"y_mapper_type\":\"auto\",\"y_range\":{\"id\":\"b5ac16ee-f32e-44ba-b1bd-a81614886b68\",\"type\":\"Range1d\"}},\"id\":\"c3ea08f3-860f-46d2-a08d-837617200cb5\",\"subtype\":\"Chart\",\"type\":\"Plot\"},{\"attributes\":{\"data_source\":{\"id\":\"99ac9fdf-8f25-4c36-85d5-0c6b8ddcc8c4\",\"type\":\"ColumnDataSource\"},\"glyph\":{\"id\":\"ec4c8550-f471-4103-890c-840d58a8fce4\",\"type\":\"Rect\"},\"hover_glyph\":null,\"nonselection_glyph\":null,\"selection_glyph\":null},\"id\":\"52fdd6b8-0847-45e5-9c2d-f6adae16f21a\",\"type\":\"GlyphRenderer\"},{\"attributes\":{\"fill_alpha\":{\"field\":\"fill_alpha\"},\"fill_color\":{\"field\":\"color\"},\"height\":{\"field\":\"height\",\"units\":\"data\"},\"line_color\":{\"field\":\"line_color\"},\"width\":{\"field\":\"width\",\"units\":\"data\"},\"x\":{\"field\":\"x\"},\"y\":{\"field\":\"y\"}},\"id\":\"613f9840-7d25-4d3b-8c1c-be9a08129f89\",\"type\":\"Rect\"},{\"attributes\":{\"callback\":null,\"column_names\":[\"width\",\"label\",\"line_color\",\"line_alpha\",\"color\",\"y\",\"height\",\"x\",\"fill_alpha\"],\"data\":{\"chart_index\":[\"(701.495390, 719.482330]\"],\"color\":[\"#f22c40\"],\"fill_alpha\":[0.8],\"height\":[1.0],\"label\":[\"(701.495390, 719.482330]\"],\"line_alpha\":[1.0],\"line_color\":[\"black\"],\"width\":[17.986940433955965],\"x\":[\"710.48886\"],\"y\":[0.5]}},\"id\":\"d617401f-f170-4eb5-b1de-c447558dd5aa\",\"type\":\"ColumnDataSource\"},{\"attributes\":{\"data_source\":{\"id\":\"6e809a53-dca3-472a-a21b-a4e9c7dea000\",\"type\":\"ColumnDataSource\"},\"glyph\":{\"id\":\"c309a4c3-0465-4a11-a971-62e945f42921\",\"type\":\"Rect\"},\"hover_glyph\":null,\"nonselection_glyph\":null,\"selection_glyph\":null},\"id\":\"c53a8bc7-8724-49ff-88e0-b0c7560b1cc4\",\"type\":\"GlyphRenderer\"},{\"attributes\":{\"callback\":null,\"column_names\":[\"width\",\"label\",\"line_color\",\"line_alpha\",\"color\",\"y\",\"height\",\"x\",\"fill_alpha\"],\"data\":{\"chart_index\":[\"(65.997580, 67.997160]\"],\"color\":[\"#f22c40\"],\"fill_alpha\":[0.8],\"height\":[201.0],\"label\":[\"(65.997580, 67.997160]\"],\"line_alpha\":[1.0],\"line_color\":[\"black\"],\"width\":[1.9995804859201343],\"x\":[\"66.99736999999999\"],\"y\":[100.5]}},\"id\":\"793082eb-5b10-4cee-bd1b-e8782077b0d7\",\"type\":\"ColumnDataSource\"},{\"attributes\":{\"plot\":{\"id\":\"190b90fe-bcce-427a-9503-f0ac58c0167a\",\"subtype\":\"Chart\",\"type\":\"Plot\"}},\"id\":\"c8787c5d-f09d-4722-ada9-8d7c6ed5a331\",\"type\":\"WheelZoomTool\"},{\"attributes\":{\"callback\":null,\"column_names\":[\"width\",\"label\",\"line_color\",\"line_alpha\",\"color\",\"y\",\"height\",\"x\",\"fill_alpha\"],\"data\":{\"chart_index\":[\"(117.781519, 119.758499]\"],\"color\":[\"#f22c40\"],\"fill_alpha\":[0.8],\"height\":[18.0],\"label\":[\"(117.781519, 119.758499]\"],\"line_alpha\":[1.0],\"line_color\":[\"black\"],\"width\":[1.976980165044921],\"x\":[\"118.770009\"],\"y\":[9.0]}},\"id\":\"987939b5-20a6-4a2b-92fd-3049e4abd6cf\",\"type\":\"ColumnDataSource\"},{\"attributes\":{\"fill_alpha\":{\"field\":\"fill_alpha\"},\"fill_color\":{\"field\":\"color\"},\"height\":{\"field\":\"height\",\"units\":\"data\"},\"line_color\":{\"field\":\"line_color\"},\"width\":{\"field\":\"width\",\"units\":\"data\"},\"x\":{\"field\":\"x\"},\"y\":{\"field\":\"y\"}},\"id\":\"97ab1150-6711-4064-b463-2b9fb57db16d\",\"type\":\"Rect\"},{\"attributes\":{\"callback\":null,\"column_names\":[\"width\",\"label\",\"line_color\",\"line_alpha\",\"color\",\"y\",\"height\",\"x\",\"fill_alpha\"],\"data\":{\"chart_index\":[\"(117.986672, 119.986253]\"],\"color\":[\"#f22c40\"],\"fill_alpha\":[0.8],\"height\":[206.0],\"label\":[\"(117.986672, 119.986253]\"],\"line_alpha\":[1.0],\"line_color\":[\"black\"],\"width\":[1.9995804859201343],\"x\":[\"118.9864625\"],\"y\":[103.0]}},\"id\":\"e0415e09-3e78-43d2-b06d-e5934a83e6b0\",\"type\":\"ColumnDataSource\"},{\"attributes\":{\"fill_alpha\":{\"field\":\"fill_alpha\"},\"fill_color\":{\"field\":\"color\"},\"height\":{\"field\":\"height\",\"units\":\"data\"},\"line_color\":{\"field\":\"line_color\"},\"width\":{\"field\":\"width\",\"units\":\"data\"},\"x\":{\"field\":\"x\"},\"y\":{\"field\":\"y\"}},\"id\":\"ec4c8550-f471-4103-890c-840d58a8fce4\",\"type\":\"Rect\"},{\"attributes\":{\"callback\":null,\"column_names\":[\"width\",\"label\",\"line_color\",\"line_alpha\",\"color\",\"y\",\"height\",\"x\",\"fill_alpha\"],\"data\":{\"chart_index\":[\"(72.310975, 74.287956]\"],\"color\":[\"#f22c40\"],\"fill_alpha\":[0.8],\"height\":[287.0],\"label\":[\"(72.310975, 74.287956]\"],\"line_alpha\":[1.0],\"line_color\":[\"black\"],\"width\":[1.9769801650449352],\"x\":[\"73.2994655\"],\"y\":[143.5]}},\"id\":\"21c67542-1fdf-4784-a18e-766602c7229b\",\"type\":\"ColumnDataSource\"},{\"attributes\":{\"fill_alpha\":{\"field\":\"fill_alpha\"},\"fill_color\":{\"field\":\"color\"},\"height\":{\"field\":\"height\",\"units\":\"data\"},\"line_color\":{\"field\":\"line_color\"},\"width\":{\"field\":\"width\",\"units\":\"data\"},\"x\":{\"field\":\"x\"},\"y\":{\"field\":\"y\"}},\"id\":\"f6011651-da1e-4a7d-9ff1-22a8181fb8b8\",\"type\":\"Rect\"},{\"attributes\":{\"callback\":null,\"column_names\":[\"width\",\"label\",\"line_color\",\"line_alpha\",\"color\",\"y\",\"height\",\"x\",\"fill_alpha\"],\"data\":{\"chart_index\":[\"(99.988698, 101.965678]\"],\"color\":[\"#f22c40\"],\"fill_alpha\":[0.8],\"height\":[192.0],\"label\":[\"(99.988698, 101.965678]\"],\"line_alpha\":[1.0],\"line_color\":[\"black\"],\"width\":[1.976980165044921],\"x\":[\"100.977188\"],\"y\":[96.0]}},\"id\":\"01ec9a75-53d8-4df4-b44c-9a518b3cd31c\",\"type\":\"ColumnDataSource\"},{\"attributes\":{\"callback\":null,\"column_names\":[\"width\",\"label\",\"line_color\",\"line_alpha\",\"color\",\"y\",\"height\",\"x\",\"fill_alpha\"],\"data\":{\"chart_index\":[\"(94.057757, 96.034737]\"],\"color\":[\"#f22c40\"],\"fill_alpha\":[0.8],\"height\":[222.0],\"label\":[\"(94.057757, 96.034737]\"],\"line_alpha\":[1.0],\"line_color\":[\"black\"],\"width\":[1.976980165044921],\"x\":[\"95.046247\"],\"y\":[111.0]}},\"id\":\"69e12f15-86e1-48dd-b0b3-d35276b07b3f\",\"type\":\"ColumnDataSource\"},{\"attributes\":{\"fill_alpha\":{\"field\":\"fill_alpha\"},\"fill_color\":{\"field\":\"color\"},\"height\":{\"field\":\"height\",\"units\":\"data\"},\"line_color\":{\"field\":\"line_color\"},\"width\":{\"field\":\"width\",\"units\":\"data\"},\"x\":{\"field\":\"x\"},\"y\":{\"field\":\"y\"}},\"id\":\"a4a357d9-0eed-45e9-a0b9-a684c2dff4a8\",\"type\":\"Rect\"},{\"attributes\":{\"fill_alpha\":{\"field\":\"fill_alpha\"},\"fill_color\":{\"field\":\"color\"},\"height\":{\"field\":\"height\",\"units\":\"data\"},\"line_color\":{\"field\":\"line_color\"},\"width\":{\"field\":\"width\",\"units\":\"data\"},\"x\":{\"field\":\"x\"},\"y\":{\"field\":\"y\"}},\"id\":\"b075678e-650b-4f7b-ad56-22d08a3cebce\",\"type\":\"Rect\"},{\"attributes\":{\"callback\":null,\"column_names\":[\"width\",\"label\",\"line_color\",\"line_alpha\",\"color\",\"y\",\"height\",\"x\",\"fill_alpha\"],\"data\":{\"chart_index\":[\"(74.000120, 75.650913]\"],\"color\":[\"#f22c40\"],\"fill_alpha\":[0.8],\"height\":[1.0],\"label\":[\"(74.000120, 75.650913]\"],\"line_alpha\":[1.0],\"line_color\":[\"black\"],\"width\":[1.650793957214745],\"x\":[\"74.82551649999999\"],\"y\":[0.5]}},\"id\":\"e2ad20c7-9032-451e-a39f-aa815f79a77e\",\"type\":\"ColumnDataSource\"},{\"attributes\":{\"data_source\":{\"id\":\"6298c3ac-dd6a-4715-be18-d665e6cf2e57\",\"type\":\"ColumnDataSource\"},\"glyph\":{\"id\":\"613f9840-7d25-4d3b-8c1c-be9a08129f89\",\"type\":\"Rect\"},\"hover_glyph\":null,\"nonselection_glyph\":null,\"selection_glyph\":null},\"id\":\"c026f8c9-e814-445c-98ea-decdb638bfa4\",\"type\":\"GlyphRenderer\"},{\"attributes\":{\"callback\":null,\"column_names\":[\"width\",\"label\",\"line_color\",\"line_alpha\",\"color\",\"y\",\"height\",\"x\",\"fill_alpha\"],\"data\":{\"chart_index\":[\"(287.795760, 305.782700]\"],\"color\":[\"#f22c40\"],\"fill_alpha\":[0.8],\"height\":[82.0],\"label\":[\"(287.795760, 305.782700]\"],\"line_alpha\":[1.0],\"line_color\":[\"black\"],\"width\":[17.98694043395591],\"x\":[\"296.78923\"],\"y\":[41.0]}},\"id\":\"99ac9fdf-8f25-4c36-85d5-0c6b8ddcc8c4\",\"type\":\"ColumnDataSource\"},{\"attributes\":{\"callback\":null,\"column_names\":[\"width\",\"label\",\"line_color\",\"line_alpha\",\"color\",\"y\",\"height\",\"x\",\"fill_alpha\"],\"data\":{\"chart_index\":[\"(11.269949, 12.920743]\"],\"color\":[\"#f22c40\"],\"fill_alpha\":[0.8],\"height\":[15.0],\"label\":[\"(11.269949, 12.920743]\"],\"line_alpha\":[1.0],\"line_color\":[\"black\"],\"width\":[1.6507939572147432],\"x\":[\"12.095346\"],\"y\":[7.5]}},\"id\":\"21abf22a-b4e0-461b-ac86-e19649cfe362\",\"type\":\"ColumnDataSource\"},{\"attributes\":{\"callback\":null,\"column_names\":[\"width\",\"label\",\"line_color\",\"line_alpha\",\"color\",\"y\",\"height\",\"x\",\"fill_alpha\"],\"data\":{\"chart_index\":[\"(66.380035, 68.357015]\"],\"color\":[\"#f22c40\"],\"fill_alpha\":[0.8],\"height\":[292.0],\"label\":[\"(66.380035, 68.357015]\"],\"line_alpha\":[1.0],\"line_color\":[\"black\"],\"width\":[1.976980165044921],\"x\":[\"67.368525\"],\"y\":[146.0]}},\"id\":\"22b6b9ad-4174-4bda-9f38-8316625c365b\",\"type\":\"ColumnDataSource\"},{\"attributes\":{\"callback\":null,\"column_names\":[\"width\",\"label\",\"line_color\",\"line_alpha\",\"color\",\"y\",\"height\",\"x\",\"fill_alpha\"],\"data\":{\"chart_index\":[\"(115.987092, 117.986672]\"],\"color\":[\"#f22c40\"],\"fill_alpha\":[0.8],\"height\":[201.0],\"label\":[\"(115.987092, 117.986672]\"],\"line_alpha\":[1.0],\"line_color\":[\"black\"],\"width\":[1.9995804859201485],\"x\":[\"116.98688200000001\"],\"y\":[100.5]}},\"id\":\"2488a973-e605-4941-b758-51277b8afea6\",\"type\":\"ColumnDataSource\"},{\"attributes\":{\"fill_alpha\":{\"field\":\"fill_alpha\"},\"fill_color\":{\"field\":\"color\"},\"height\":{\"field\":\"height\",\"units\":\"data\"},\"line_color\":{\"field\":\"line_color\"},\"width\":{\"field\":\"width\",\"units\":\"data\"},\"x\":{\"field\":\"x\"},\"y\":{\"field\":\"y\"}},\"id\":\"960b9246-843a-4384-a35a-ef05463b90c0\",\"type\":\"Rect\"},{\"attributes\":{\"data_source\":{\"id\":\"943b8e5d-f699-4bcd-ba95-1211ffcf248a\",\"type\":\"ColumnDataSource\"},\"glyph\":{\"id\":\"1d986ea1-2a8c-484f-b8af-7be89f39c829\",\"type\":\"Rect\"},\"hover_glyph\":null,\"nonselection_glyph\":null,\"selection_glyph\":null},\"id\":\"98e67368-ffbf-4100-8449-411fd13528eb\",\"type\":\"GlyphRenderer\"},{\"attributes\":{\"callback\":null,\"column_names\":[\"width\",\"label\",\"line_color\",\"line_alpha\",\"color\",\"y\",\"height\",\"x\",\"fill_alpha\"],\"data\":{\"chart_index\":[\"(449.678224, 467.665164]\"],\"color\":[\"#f22c40\"],\"fill_alpha\":[0.8],\"height\":[21.0],\"label\":[\"(449.678224, 467.665164]\"],\"line_alpha\":[1.0],\"line_color\":[\"black\"],\"width\":[17.98694043395591],\"x\":[\"458.671694\"],\"y\":[10.5]}},\"id\":\"6298c3ac-dd6a-4715-be18-d665e6cf2e57\",\"type\":\"ColumnDataSource\"},{\"attributes\":{\"callback\":null,\"column_names\":[\"width\",\"label\",\"line_color\",\"line_alpha\",\"color\",\"y\",\"height\",\"x\",\"fill_alpha\"],\"data\":{\"chart_index\":[\"(40.984240, 42.635034]\"],\"color\":[\"#f22c40\"],\"fill_alpha\":[0.8],\"height\":[651.0],\"label\":[\"(40.984240, 42.635034]\"],\"line_alpha\":[1.0],\"line_color\":[\"black\"],\"width\":[1.650793957214745],\"x\":[\"41.809636999999995\"],\"y\":[325.5]}},\"id\":\"a7feca64-6c20-4bce-b013-5bc190b95361\",\"type\":\"ColumnDataSource\"},{\"attributes\":{\"children\":[{\"id\":\"c3ea08f3-860f-46d2-a08d-837617200cb5\",\"subtype\":\"Chart\",\"type\":\"Plot\"},{\"id\":\"d8388f20-687d-47a7-88c3-e785246d4dea\",\"subtype\":\"Chart\",\"type\":\"Plot\"}]},\"id\":\"ce375b00-e984-4f4e-92bf-4fc9f8979782\",\"type\":\"Row\"},{\"attributes\":{\"data_source\":{\"id\":\"32f1fa77-3207-4d53-8b1f-23cc95760f04\",\"type\":\"ColumnDataSource\"},\"glyph\":{\"id\":\"42e7d496-1e09-421c-973f-2b995d6e6875\",\"type\":\"Rect\"},\"hover_glyph\":null,\"nonselection_glyph\":null,\"selection_glyph\":null},\"id\":\"33435156-6f89-4639-9e36-f59f21026a41\",\"type\":\"GlyphRenderer\"},{\"attributes\":{\"data_source\":{\"id\":\"df9e823a-5c4b-4894-86a2-d99f5b9d40b5\",\"type\":\"ColumnDataSource\"},\"glyph\":{\"id\":\"cd2738b4-903b-4f38-86de-fb6a9c9c438a\",\"type\":\"Rect\"},\"hover_glyph\":null,\"nonselection_glyph\":null,\"selection_glyph\":null},\"id\":\"cd66ce42-231b-480f-934e-28213ed6b429\",\"type\":\"GlyphRenderer\"},{\"attributes\":{\"fill_alpha\":{\"field\":\"fill_alpha\"},\"fill_color\":{\"field\":\"color\"},\"height\":{\"field\":\"height\",\"units\":\"data\"},\"line_color\":{\"field\":\"line_color\"},\"width\":{\"field\":\"width\",\"units\":\"data\"},\"x\":{\"field\":\"x\"},\"y\":{\"field\":\"y\"}},\"id\":\"696aad37-2b14-4006-9e40-57973a77671e\",\"type\":\"Rect\"},{\"attributes\":{\"data_source\":{\"id\":\"45ce8cec-34ac-4b98-9e5b-f7a836b0150f\",\"type\":\"ColumnDataSource\"},\"glyph\":{\"id\":\"b8772725-3940-4a66-b617-4648f4c645ca\",\"type\":\"Rect\"},\"hover_glyph\":null,\"nonselection_glyph\":null,\"selection_glyph\":null},\"id\":\"f1c3b581-6654-4504-8242-9bb07f732d8a\",\"type\":\"GlyphRenderer\"},{\"attributes\":{\"callback\":null,\"column_names\":[\"width\",\"label\",\"line_color\",\"line_alpha\",\"color\",\"y\",\"height\",\"x\",\"fill_alpha\"],\"data\":{\"chart_index\":[\"(1.365185, 3.015979]\"],\"color\":[\"#f22c40\"],\"fill_alpha\":[0.8],\"height\":[1.0],\"label\":[\"(1.365185, 3.015979]\"],\"line_alpha\":[1.0],\"line_color\":[\"black\"],\"width\":[1.650793957214744],\"x\":[\"2.190582\"],\"y\":[0.5]}},\"id\":\"122470f1-d657-4bbd-b9d3-3bb42c0dcbf1\",\"type\":\"ColumnDataSource\"},{\"attributes\":{\"fill_alpha\":{\"field\":\"fill_alpha\"},\"fill_color\":{\"field\":\"color\"},\"height\":{\"field\":\"height\",\"units\":\"data\"},\"line_color\":{\"field\":\"line_color\"},\"width\":{\"field\":\"width\",\"units\":\"data\"},\"x\":{\"field\":\"x\"},\"y\":{\"field\":\"y\"}},\"id\":\"a1392a9c-fde0-48bf-942a-c61335b25a7e\",\"type\":\"Rect\"},{\"attributes\":{\"plot\":{\"id\":\"190b90fe-bcce-427a-9503-f0ac58c0167a\",\"subtype\":\"Chart\",\"type\":\"Plot\"}},\"id\":\"714fa2d9-657e-4fb6-80b8-ea5e066e4998\",\"type\":\"SaveTool\"},{\"attributes\":{\"data_source\":{\"id\":\"e0a7a6f6-40f0-4c80-9267-250e551b78d9\",\"type\":\"ColumnDataSource\"},\"glyph\":{\"id\":\"ddef57a7-2ff7-4642-9fd4-c3e857983aff\",\"type\":\"Rect\"},\"hover_glyph\":null,\"nonselection_glyph\":null,\"selection_glyph\":null},\"id\":\"10d16664-0cf0-4924-92b1-0f0029bd7b18\",\"type\":\"GlyphRenderer\"},{\"attributes\":{\"fill_alpha\":{\"field\":\"fill_alpha\"},\"fill_color\":{\"field\":\"color\"},\"height\":{\"field\":\"height\",\"units\":\"data\"},\"line_color\":{\"field\":\"line_color\"},\"width\":{\"field\":\"width\",\"units\":\"data\"},\"x\":{\"field\":\"x\"},\"y\":{\"field\":\"y\"}},\"id\":\"9127ab8c-b40c-4f29-8592-2bd66c9a8543\",\"type\":\"Rect\"},{\"attributes\":{\"callback\":null,\"column_names\":[\"width\",\"label\",\"line_color\",\"line_alpha\",\"color\",\"y\",\"height\",\"x\",\"fill_alpha\"],\"data\":{\"chart_index\":[\"(85.993384, 87.992965]\"],\"color\":[\"#f22c40\"],\"fill_alpha\":[0.8],\"height\":[191.0],\"label\":[\"(85.993384, 87.992965]\"],\"line_alpha\":[1.0],\"line_color\":[\"black\"],\"width\":[1.9995804859201343],\"x\":[\"86.99317450000001\"],\"y\":[95.5]}},\"id\":\"a0a9937f-9b1b-4859-b049-310c53613cd2\",\"type\":\"ColumnDataSource\"},{\"attributes\":{\"data_source\":{\"id\":\"9cc4f7e5-6bc1-480d-a692-99551658d751\",\"type\":\"ColumnDataSource\"},\"glyph\":{\"id\":\"94fca8ef-d4d6-4b4d-bff0-48f35b0e2c26\",\"type\":\"Rect\"},\"hover_glyph\":null,\"nonselection_glyph\":null,\"selection_glyph\":null},\"id\":\"e07dae28-5c22-43d5-952b-da9b4738f301\",\"type\":\"GlyphRenderer\"},{\"attributes\":{\"fill_alpha\":{\"field\":\"fill_alpha\"},\"fill_color\":{\"field\":\"color\"},\"height\":{\"field\":\"height\",\"units\":\"data\"},\"line_color\":{\"field\":\"line_color\"},\"width\":{\"field\":\"width\",\"units\":\"data\"},\"x\":{\"field\":\"x\"},\"y\":{\"field\":\"y\"}},\"id\":\"93cacbd9-4e87-4396-94ae-2048e9c735ca\",\"type\":\"Rect\"},{\"attributes\":{\"fill_alpha\":{\"field\":\"fill_alpha\"},\"fill_color\":{\"field\":\"color\"},\"height\":{\"field\":\"height\",\"units\":\"data\"},\"line_color\":{\"field\":\"line_color\"},\"width\":{\"field\":\"width\",\"units\":\"data\"},\"x\":{\"field\":\"x\"},\"y\":{\"field\":\"y\"}},\"id\":\"f98b3cc5-90ee-4c5a-a1b1-0dbc0781fffb\",\"type\":\"Rect\"},{\"attributes\":{\"fill_alpha\":{\"field\":\"fill_alpha\"},\"fill_color\":{\"field\":\"color\"},\"height\":{\"field\":\"height\",\"units\":\"data\"},\"line_color\":{\"field\":\"line_color\"},\"width\":{\"field\":\"width\",\"units\":\"data\"},\"x\":{\"field\":\"x\"},\"y\":{\"field\":\"y\"}},\"id\":\"9f2d679a-6c55-4937-a0f5-88b23cee55f5\",\"type\":\"Rect\"},{\"attributes\":{\"fill_alpha\":{\"field\":\"fill_alpha\"},\"fill_color\":{\"field\":\"color\"},\"height\":{\"field\":\"height\",\"units\":\"data\"},\"line_color\":{\"field\":\"line_color\"},\"width\":{\"field\":\"width\",\"units\":\"data\"},\"x\":{\"field\":\"x\"},\"y\":{\"field\":\"y\"}},\"id\":\"2cfd716c-0c8a-4e44-aedb-6665dc69aca0\",\"type\":\"Rect\"},{\"attributes\":{\"callback\":null,\"column_names\":[\"width\",\"label\",\"line_color\",\"line_alpha\",\"color\",\"y\",\"height\",\"x\",\"fill_alpha\"],\"data\":{\"chart_index\":[\"(46.610233, 48.587213]\"],\"color\":[\"#f22c40\"],\"fill_alpha\":[0.8],\"height\":[240.0],\"label\":[\"(46.610233, 48.587213]\"],\"line_alpha\":[1.0],\"line_color\":[\"black\"],\"width\":[1.9769801650449281],\"x\":[\"47.598723\"],\"y\":[120.0]}},\"id\":\"d70636d2-2cf4-4f6b-b4ca-8d560dc253a6\",\"type\":\"ColumnDataSource\"},{\"attributes\":{\"active_drag\":\"auto\",\"active_scroll\":\"auto\",\"active_tap\":\"auto\",\"tools\":[{\"id\":\"b11e8357-3ba3-4282-a5de-22c988d755a7\",\"type\":\"PanTool\"},{\"id\":\"26b470f5-516a-48a8-9cce-0f5d67454e1f\",\"type\":\"WheelZoomTool\"},{\"id\":\"c9193492-01af-42c4-b988-4f361c51533d\",\"type\":\"BoxZoomTool\"},{\"id\":\"99ed8895-2225-4b81-8e46-ece580fda3ea\",\"type\":\"SaveTool\"},{\"id\":\"b382a98d-9ced-46ae-9480-cf2eade24772\",\"type\":\"ResetTool\"},{\"id\":\"276f7a15-46e4-4cc3-9142-f0932860545f\",\"type\":\"HelpTool\"}]},\"id\":\"2a209b4b-1798-41bd-9a77-a86d8a5cf43f\",\"type\":\"Toolbar\"},{\"attributes\":{\"fill_alpha\":{\"field\":\"fill_alpha\"},\"fill_color\":{\"field\":\"color\"},\"height\":{\"field\":\"height\",\"units\":\"data\"},\"line_color\":{\"field\":\"line_color\"},\"width\":{\"field\":\"width\",\"units\":\"data\"},\"x\":{\"field\":\"x\"},\"y\":{\"field\":\"y\"}},\"id\":\"bb031417-4818-42f9-b3ab-3b1910b77a11\",\"type\":\"Rect\"},{\"attributes\":{\"fill_alpha\":{\"field\":\"fill_alpha\"},\"fill_color\":{\"field\":\"color\"},\"height\":{\"field\":\"height\",\"units\":\"data\"},\"line_color\":{\"field\":\"line_color\"},\"width\":{\"field\":\"width\",\"units\":\"data\"},\"x\":{\"field\":\"x\"},\"y\":{\"field\":\"y\"}},\"id\":\"19f35382-0e1b-467d-ab4e-0a19a7d59b4c\",\"type\":\"Rect\"},{\"attributes\":{\"fill_alpha\":{\"field\":\"fill_alpha\"},\"fill_color\":{\"field\":\"color\"},\"height\":{\"field\":\"height\",\"units\":\"data\"},\"line_color\":{\"field\":\"line_color\"},\"width\":{\"field\":\"width\",\"units\":\"data\"},\"x\":{\"field\":\"x\"},\"y\":{\"field\":\"y\"}},\"id\":\"c2b2b509-85f0-45c9-a6be-bb9695360da7\",\"type\":\"Rect\"},{\"attributes\":{\"fill_alpha\":{\"field\":\"fill_alpha\"},\"fill_color\":{\"field\":\"color\"},\"height\":{\"field\":\"height\",\"units\":\"data\"},\"line_color\":{\"field\":\"line_color\"},\"width\":{\"field\":\"width\",\"units\":\"data\"},\"x\":{\"field\":\"x\"},\"y\":{\"field\":\"y\"}},\"id\":\"a4d38471-f72b-4b6d-912c-ebe46e37d217\",\"type\":\"Rect\"},{\"attributes\":{\"fill_alpha\":{\"field\":\"fill_alpha\"},\"fill_color\":{\"field\":\"color\"},\"height\":{\"field\":\"height\",\"units\":\"data\"},\"line_color\":{\"field\":\"line_color\"},\"width\":{\"field\":\"width\",\"units\":\"data\"},\"x\":{\"field\":\"x\"},\"y\":{\"field\":\"y\"}},\"id\":\"fa4b90f3-3229-4f2f-9e7e-5bb11e7166e5\",\"type\":\"Rect\"},{\"attributes\":{\"fill_alpha\":{\"field\":\"fill_alpha\"},\"fill_color\":{\"field\":\"color\"},\"height\":{\"field\":\"height\",\"units\":\"data\"},\"line_color\":{\"field\":\"line_color\"},\"width\":{\"field\":\"width\",\"units\":\"data\"},\"x\":{\"field\":\"x\"},\"y\":{\"field\":\"y\"}},\"id\":\"8c3ed967-f0b9-4a21-bbfc-9eb60adea3e8\",\"type\":\"Rect\"},{\"attributes\":{\"data_source\":{\"id\":\"2712a2f4-cf4b-41b4-8506-198161b3ee4e\",\"type\":\"ColumnDataSource\"},\"glyph\":{\"id\":\"89cf9126-9d96-4174-a9b8-592ac7d68382\",\"type\":\"Rect\"},\"hover_glyph\":null,\"nonselection_glyph\":null,\"selection_glyph\":null},\"id\":\"b5d205c2-a1c5-401e-9eab-b46dc55f4fb4\",\"type\":\"GlyphRenderer\"},{\"attributes\":{\"fill_alpha\":{\"field\":\"fill_alpha\"},\"fill_color\":{\"field\":\"color\"},\"height\":{\"field\":\"height\",\"units\":\"data\"},\"line_color\":{\"field\":\"line_color\"},\"width\":{\"field\":\"width\",\"units\":\"data\"},\"x\":{\"field\":\"x\"},\"y\":{\"field\":\"y\"}},\"id\":\"532ba21a-6588-424e-9a4c-2ac80f6478c3\",\"type\":\"Rect\"},{\"attributes\":{\"callback\":null,\"column_names\":[\"width\",\"label\",\"line_color\",\"line_alpha\",\"color\",\"y\",\"height\",\"x\",\"fill_alpha\"],\"data\":{\"chart_index\":[\"(611.560688, 629.547628]\"],\"color\":[\"#f22c40\"],\"fill_alpha\":[0.8],\"height\":[1.0],\"label\":[\"(611.560688, 629.547628]\"],\"line_alpha\":[1.0],\"line_color\":[\"black\"],\"width\":[17.98694043395585],\"x\":[\"620.554158\"],\"y\":[0.5]}},\"id\":\"7293b09b-e59d-4283-aa72-faa5c741053f\",\"type\":\"ColumnDataSource\"},{\"attributes\":{},\"id\":\"bc7c5991-947c-4713-8b45-37f7d3ed2b0f\",\"type\":\"BasicTickFormatter\"},{\"attributes\":{\"callback\":null,\"column_names\":[\"width\",\"label\",\"line_color\",\"line_alpha\",\"color\",\"y\",\"height\",\"x\",\"fill_alpha\"],\"data\":{\"chart_index\":[\"(69.047738, 70.698532]\"],\"color\":[\"#f22c40\"],\"fill_alpha\":[0.8],\"height\":[9.0],\"label\":[\"(69.047738, 70.698532]\"],\"line_alpha\":[1.0],\"line_color\":[\"black\"],\"width\":[1.650793957214745],\"x\":[\"69.87313499999999\"],\"y\":[4.5]}},\"id\":\"619780bc-6b13-4ac6-a65c-36248d51269b\",\"type\":\"ColumnDataSource\"},{\"attributes\":{\"callback\":null,\"column_names\":[\"width\",\"label\",\"line_color\",\"line_alpha\",\"color\",\"y\",\"height\",\"x\",\"fill_alpha\"],\"data\":{\"chart_index\":[\"(38.003453, 40.003033]\"],\"color\":[\"#f22c40\"],\"fill_alpha\":[0.8],\"height\":[231.0],\"label\":[\"(38.003453, 40.003033]\"],\"line_alpha\":[1.0],\"line_color\":[\"black\"],\"width\":[1.9995804859201343],\"x\":[\"39.003243\"],\"y\":[115.5]}},\"id\":\"32f1fa77-3207-4d53-8b1f-23cc95760f04\",\"type\":\"ColumnDataSource\"},{\"attributes\":{\"data_source\":{\"id\":\"1da9565d-05df-4f0a-a02e-ed7e0caa2ddb\",\"type\":\"ColumnDataSource\"},\"glyph\":{\"id\":\"db089c83-a303-4318-954b-359ddd08808c\",\"type\":\"Rect\"},\"hover_glyph\":null,\"nonselection_glyph\":null,\"selection_glyph\":null},\"id\":\"6460e06f-cc00-411d-a893-0eea4b2bb867\",\"type\":\"GlyphRenderer\"},{\"attributes\":{\"plot\":{\"id\":\"e4892d86-69c9-4ad7-b82d-3161fd46f8c3\",\"subtype\":\"Chart\",\"type\":\"Plot\"}},\"id\":\"99ed8895-2225-4b81-8e46-ece580fda3ea\",\"type\":\"SaveTool\"},{\"attributes\":{\"overlay\":{\"id\":\"2eda5c29-2fd1-448f-b655-c51ef7b9a153\",\"type\":\"BoxAnnotation\"},\"plot\":{\"id\":\"d8388f20-687d-47a7-88c3-e785246d4dea\",\"subtype\":\"Chart\",\"type\":\"Plot\"}},\"id\":\"6b07ec7b-67d9-4de1-87c8-177282cafb9c\",\"type\":\"BoxZoomTool\"},{\"attributes\":{\"data_source\":{\"id\":\"e210d235-3c6f-4690-b6e5-6b40cf189930\",\"type\":\"ColumnDataSource\"},\"glyph\":{\"id\":\"730a9bfb-174a-42d1-b81d-e1a3000ca811\",\"type\":\"Rect\"},\"hover_glyph\":null,\"nonselection_glyph\":null,\"selection_glyph\":null},\"id\":\"01e93d57-619e-40e9-9bc2-b2f4c7e165e9\",\"type\":\"GlyphRenderer\"},{\"attributes\":{\"fill_alpha\":{\"field\":\"fill_alpha\"},\"fill_color\":{\"field\":\"color\"},\"height\":{\"field\":\"height\",\"units\":\"data\"},\"line_color\":{\"field\":\"line_color\"},\"width\":{\"field\":\"width\",\"units\":\"data\"},\"x\":{\"field\":\"x\"},\"y\":{\"field\":\"y\"}},\"id\":\"86550a64-b288-479a-825b-2ae2ed9db4d6\",\"type\":\"Rect\"},{\"attributes\":{\"children\":[{\"id\":\"e4892d86-69c9-4ad7-b82d-3161fd46f8c3\",\"subtype\":\"Chart\",\"type\":\"Plot\"},{\"id\":\"190b90fe-bcce-427a-9503-f0ac58c0167a\",\"subtype\":\"Chart\",\"type\":\"Plot\"}]},\"id\":\"a85f454c-c9b2-4353-b498-7eec3b45df03\",\"type\":\"Row\"},{\"attributes\":{\"callback\":null,\"column_names\":[\"width\",\"label\",\"line_color\",\"line_alpha\",\"color\",\"y\",\"height\",\"x\",\"fill_alpha\"],\"data\":{\"chart_index\":[\"(99.990448, 101.990028]\"],\"color\":[\"#f22c40\"],\"fill_alpha\":[0.8],\"height\":[219.0],\"label\":[\"(99.990448, 101.990028]\"],\"line_alpha\":[1.0],\"line_color\":[\"black\"],\"width\":[1.9995804859201343],\"x\":[\"100.990238\"],\"y\":[109.5]}},\"id\":\"f40f3541-68b6-4ef4-9a5d-a3fe1722767b\",\"type\":\"ColumnDataSource\"},{\"attributes\":{\"callback\":null,\"column_names\":[\"width\",\"label\",\"line_color\",\"line_alpha\",\"color\",\"y\",\"height\",\"x\",\"fill_alpha\"],\"data\":{\"chart_index\":[\"(111.850579, 113.827559]\"],\"color\":[\"#f22c40\"],\"fill_alpha\":[0.8],\"height\":[89.0],\"label\":[\"(111.850579, 113.827559]\"],\"line_alpha\":[1.0],\"line_color\":[\"black\"],\"width\":[1.9769801650449352],\"x\":[\"112.839069\"],\"y\":[44.5]}},\"id\":\"8287620a-1c57-4413-9a38-efc5c32751a6\",\"type\":\"ColumnDataSource\"},{\"attributes\":{\"fill_alpha\":{\"field\":\"fill_alpha\"},\"fill_color\":{\"field\":\"color\"},\"height\":{\"field\":\"height\",\"units\":\"data\"},\"line_color\":{\"field\":\"line_color\"},\"width\":{\"field\":\"width\",\"units\":\"data\"},\"x\":{\"field\":\"x\"},\"y\":{\"field\":\"y\"}},\"id\":\"a949b2f3-b054-4588-a360-56c61ba1e1b2\",\"type\":\"Rect\"},{\"attributes\":{\"data_source\":{\"id\":\"490c722e-6a7c-4361-9026-87f40142aea4\",\"type\":\"ColumnDataSource\"},\"glyph\":{\"id\":\"9f350d5d-c81f-4a85-add5-17a31b739b79\",\"type\":\"Rect\"},\"hover_glyph\":null,\"nonselection_glyph\":null,\"selection_glyph\":null},\"id\":\"6a3dc47d-63e2-417c-932e-f633d5b5172b\",\"type\":\"GlyphRenderer\"},{\"attributes\":{\"callback\":null,\"column_names\":[\"width\",\"label\",\"line_color\",\"line_alpha\",\"color\",\"y\",\"height\",\"x\",\"fill_alpha\"],\"data\":{\"chart_index\":[\"(31.079477, 32.730271]\"],\"color\":[\"#f22c40\"],\"fill_alpha\":[0.8],\"height\":[482.0],\"label\":[\"(31.079477, 32.730271]\"],\"line_alpha\":[1.0],\"line_color\":[\"black\"],\"width\":[1.650793957214745],\"x\":[\"31.904874\"],\"y\":[241.0]}},\"id\":\"02986806-c540-4e93-86c7-ab1c3ac10e19\",\"type\":\"ColumnDataSource\"},{\"attributes\":{\"callback\":null,\"column_names\":[\"width\",\"label\",\"line_color\",\"line_alpha\",\"color\",\"y\",\"height\",\"x\",\"fill_alpha\"],\"data\":{\"chart_index\":[\"(34.004292, 36.003872]\"],\"color\":[\"#f22c40\"],\"fill_alpha\":[0.8],\"height\":[208.0],\"label\":[\"(34.004292, 36.003872]\"],\"line_alpha\":[1.0],\"line_color\":[\"black\"],\"width\":[1.9995804859201343],\"x\":[\"35.004082\"],\"y\":[104.0]}},\"id\":\"f8ef4086-402e-4cec-a3fb-b667c12518f5\",\"type\":\"ColumnDataSource\"},{\"attributes\":{\"data_source\":{\"id\":\"6712ce28-d3c5-4958-9848-a1df5410bf26\",\"type\":\"ColumnDataSource\"},\"glyph\":{\"id\":\"532ba21a-6588-424e-9a4c-2ac80f6478c3\",\"type\":\"Rect\"},\"hover_glyph\":null,\"nonselection_glyph\":null,\"selection_glyph\":null},\"id\":\"61a06003-7735-4025-9a68-392baa2b921d\",\"type\":\"GlyphRenderer\"},{\"attributes\":{\"fill_alpha\":{\"field\":\"fill_alpha\"},\"fill_color\":{\"field\":\"color\"},\"height\":{\"field\":\"height\",\"units\":\"data\"},\"line_color\":{\"field\":\"line_color\"},\"width\":{\"field\":\"width\",\"units\":\"data\"},\"x\":{\"field\":\"x\"},\"y\":{\"field\":\"y\"}},\"id\":\"1d986ea1-2a8c-484f-b8af-7be89f39c829\",\"type\":\"Rect\"},{\"attributes\":{\"callback\":null,\"column_names\":[\"width\",\"label\",\"line_color\",\"line_alpha\",\"color\",\"y\",\"height\",\"x\",\"fill_alpha\"],\"data\":{\"chart_index\":[\"(50.000936, 52.000516]\"],\"color\":[\"#f22c40\"],\"fill_alpha\":[0.8],\"height\":[197.0],\"label\":[\"(50.000936, 52.000516]\"],\"line_alpha\":[1.0],\"line_color\":[\"black\"],\"width\":[1.9995804859201343],\"x\":[\"51.000726\"],\"y\":[98.5]}},\"id\":\"90be43f1-a20e-4920-8fdf-59fca522fcdb\",\"type\":\"ColumnDataSource\"},{\"attributes\":{\"callback\":null,\"column_names\":[\"width\",\"label\",\"line_color\",\"line_alpha\",\"color\",\"y\",\"height\",\"x\",\"fill_alpha\"],\"data\":{\"chart_index\":[\"(54.190592, 55.841386]\"],\"color\":[\"#f22c40\"],\"fill_alpha\":[0.8],\"height\":[212.0],\"label\":[\"(54.190592, 55.841386]\"],\"line_alpha\":[1.0],\"line_color\":[\"black\"],\"width\":[1.6507939572147379],\"x\":[\"55.015989000000005\"],\"y\":[106.0]}},\"id\":\"2469fa89-b805-4a21-89bb-a8ab90c0d0f8\",\"type\":\"ColumnDataSource\"},{\"attributes\":{\"fill_alpha\":{\"field\":\"fill_alpha\"},\"fill_color\":{\"field\":\"color\"},\"height\":{\"field\":\"height\",\"units\":\"data\"},\"line_color\":{\"field\":\"line_color\"},\"width\":{\"field\":\"width\",\"units\":\"data\"},\"x\":{\"field\":\"x\"},\"y\":{\"field\":\"y\"}},\"id\":\"792ba854-522a-4760-9318-dbecdc50aea2\",\"type\":\"Rect\"},{\"attributes\":{\"callback\":null,\"column_names\":[\"width\",\"label\",\"line_color\",\"line_alpha\",\"color\",\"y\",\"height\",\"x\",\"fill_alpha\"],\"data\":{\"chart_index\":[\"(107.926356, 125.913296]\"],\"color\":[\"#f22c40\"],\"fill_alpha\":[0.8],\"height\":[599.0],\"label\":[\"(107.926356, 125.913296]\"],\"line_alpha\":[1.0],\"line_color\":[\"black\"],\"width\":[17.986940433955894],\"x\":[\"116.919826\"],\"y\":[299.5]}},\"id\":\"e8c59c06-e80f-42dd-9243-7ea5eef31b02\",\"type\":\"ColumnDataSource\"},{\"attributes\":{\"callback\":null,\"column_names\":[\"width\",\"label\",\"line_color\",\"line_alpha\",\"color\",\"y\",\"height\",\"x\",\"fill_alpha\"],\"data\":{\"chart_index\":[\"(665.521509, 683.508450]\"],\"color\":[\"#f22c40\"],\"fill_alpha\":[0.8],\"height\":[2.0],\"label\":[\"(665.521509, 683.508450]\"],\"line_alpha\":[1.0],\"line_color\":[\"black\"],\"width\":[17.986940433955965],\"x\":[\"674.5149795\"],\"y\":[1.0]}},\"id\":\"f87b0b77-c31f-43b5-b725-93f08b74d0c3\",\"type\":\"ColumnDataSource\"},{\"attributes\":{\"callback\":null,\"column_names\":[\"width\",\"label\",\"line_color\",\"line_alpha\",\"color\",\"y\",\"height\",\"x\",\"fill_alpha\"],\"data\":{\"chart_index\":[\"(6.317567, 7.968361]\"],\"color\":[\"#f22c40\"],\"fill_alpha\":[0.8],\"height\":[4.0],\"label\":[\"(6.317567, 7.968361]\"],\"line_alpha\":[1.0],\"line_color\":[\"black\"],\"width\":[1.650793957214745],\"x\":[\"7.142964\"],\"y\":[2.0]}},\"id\":\"fdb0cf75-0e59-4245-8225-52bd3e984595\",\"type\":\"ColumnDataSource\"},{\"attributes\":{\"data_source\":{\"id\":\"ad8227f0-6085-4095-865f-838914b11dd8\",\"type\":\"ColumnDataSource\"},\"glyph\":{\"id\":\"175fc53d-2abf-432d-b57f-103a5a99d37c\",\"type\":\"Rect\"},\"hover_glyph\":null,\"nonselection_glyph\":null,\"selection_glyph\":null},\"id\":\"22aef197-f5cd-49c8-b8ee-c2ca484294f5\",\"type\":\"GlyphRenderer\"},{\"attributes\":{\"data_source\":{\"id\":\"6b2f0492-630d-46e3-b19f-1d6a6114502a\",\"type\":\"ColumnDataSource\"},\"glyph\":{\"id\":\"ebad4234-f368-4576-9d8b-6d74f9d9eaaa\",\"type\":\"Rect\"},\"hover_glyph\":null,\"nonselection_glyph\":null,\"selection_glyph\":null},\"id\":\"39fb10c2-150d-46ac-8bdd-193da0f9a65d\",\"type\":\"GlyphRenderer\"},{\"attributes\":{\"fill_alpha\":{\"field\":\"fill_alpha\"},\"fill_color\":{\"field\":\"color\"},\"height\":{\"field\":\"height\",\"units\":\"data\"},\"line_color\":{\"field\":\"line_color\"},\"width\":{\"field\":\"width\",\"units\":\"data\"},\"x\":{\"field\":\"x\"},\"y\":{\"field\":\"y\"}},\"id\":\"c1a3e0d2-1595-41fc-a3aa-2ce24aabb96d\",\"type\":\"Rect\"},{\"attributes\":{\"callback\":null,\"column_names\":[\"width\",\"label\",\"line_color\",\"line_alpha\",\"color\",\"y\",\"height\",\"x\",\"fill_alpha\"],\"data\":{\"chart_index\":[\"(67.396944, 69.047738]\"],\"color\":[\"#f22c40\"],\"fill_alpha\":[0.8],\"height\":[11.0],\"label\":[\"(67.396944, 69.047738]\"],\"line_alpha\":[1.0],\"line_color\":[\"black\"],\"width\":[1.650793957214745],\"x\":[\"68.222341\"],\"y\":[5.5]}},\"id\":\"65f66628-1404-4267-ad09-5a136be2487e\",\"type\":\"ColumnDataSource\"},{\"attributes\":{\"axis_label\":\"Count( A )\",\"formatter\":{\"id\":\"bc7c5991-947c-4713-8b45-37f7d3ed2b0f\",\"type\":\"BasicTickFormatter\"},\"plot\":{\"id\":\"d8388f20-687d-47a7-88c3-e785246d4dea\",\"subtype\":\"Chart\",\"type\":\"Plot\"},\"ticker\":{\"id\":\"9cbba372-3085-49ea-9828-d93f6635a78b\",\"type\":\"BasicTicker\"}},\"id\":\"1d78eb21-7a26-459b-a146-199921f1b263\",\"type\":\"LinearAxis\"},{\"attributes\":{\"callback\":null,\"column_names\":[\"width\",\"label\",\"line_color\",\"line_alpha\",\"color\",\"y\",\"height\",\"x\",\"fill_alpha\"],\"data\":{\"chart_index\":[\"(32.771372, 34.748352]\"],\"color\":[\"#f22c40\"],\"fill_alpha\":[0.8],\"height\":[143.0],\"label\":[\"(32.771372, 34.748352]\"],\"line_alpha\":[1.0],\"line_color\":[\"black\"],\"width\":[1.9769801650449281],\"x\":[\"33.759862\"],\"y\":[71.5]}},\"id\":\"c492acce-6782-4813-ae26-c165885b0185\",\"type\":\"ColumnDataSource\"},{\"attributes\":{\"callback\":null,\"column_names\":[\"width\",\"label\",\"line_color\",\"line_alpha\",\"color\",\"y\",\"height\",\"x\",\"fill_alpha\"],\"data\":{\"chart_index\":[\"(57.492180, 59.142974]\"],\"color\":[\"#f22c40\"],\"fill_alpha\":[0.8],\"height\":[116.0],\"label\":[\"(57.492180, 59.142974]\"],\"line_alpha\":[1.0],\"line_color\":[\"black\"],\"width\":[1.650793957214745],\"x\":[\"58.317577\"],\"y\":[58.0]}},\"id\":\"83a764f6-bd6a-4b23-9237-34c0d7139aac\",\"type\":\"ColumnDataSource\"},{\"attributes\":{\"fill_alpha\":{\"field\":\"fill_alpha\"},\"fill_color\":{\"field\":\"color\"},\"height\":{\"field\":\"height\",\"units\":\"data\"},\"line_color\":{\"field\":\"line_color\"},\"width\":{\"field\":\"width\",\"units\":\"data\"},\"x\":{\"field\":\"x\"},\"y\":{\"field\":\"y\"}},\"id\":\"6d86d715-9e9d-4eb7-a9d8-63e095904f37\",\"type\":\"Rect\"},{\"attributes\":{\"callback\":null,\"column_names\":[\"width\",\"label\",\"line_color\",\"line_alpha\",\"color\",\"y\",\"height\",\"x\",\"fill_alpha\"],\"data\":{\"chart_index\":[\"(503.639045, 521.625986]\"],\"color\":[\"#f22c40\"],\"fill_alpha\":[0.8],\"height\":[6.0],\"label\":[\"(503.639045, 521.625986]\"],\"line_alpha\":[1.0],\"line_color\":[\"black\"],\"width\":[17.986940433956022],\"x\":[\"512.6325155\"],\"y\":[3.0]}},\"id\":\"ef912b57-14a2-48d7-a46f-bf3a411bea5e\",\"type\":\"ColumnDataSource\"},{\"attributes\":{\"callback\":null,\"end\":1804.0000000000002},\"id\":\"b5ac16ee-f32e-44ba-b1bd-a81614886b68\",\"type\":\"Range1d\"},{\"attributes\":{\"data_source\":{\"id\":\"65f66628-1404-4267-ad09-5a136be2487e\",\"type\":\"ColumnDataSource\"},\"glyph\":{\"id\":\"dc0fa21e-df84-4b70-800f-c4f184e4f35d\",\"type\":\"Rect\"},\"hover_glyph\":null,\"nonselection_glyph\":null,\"selection_glyph\":null},\"id\":\"93fe2e3a-e4be-4059-8ca5-cdff571567e2\",\"type\":\"GlyphRenderer\"},{\"attributes\":{\"callback\":null,\"column_names\":[\"width\",\"label\",\"line_color\",\"line_alpha\",\"color\",\"y\",\"height\",\"x\",\"fill_alpha\"],\"data\":{\"chart_index\":[\"(79.994643, 81.994223]\"],\"color\":[\"#f22c40\"],\"fill_alpha\":[0.8],\"height\":[191.0],\"label\":[\"(79.994643, 81.994223]\"],\"line_alpha\":[1.0],\"line_color\":[\"black\"],\"width\":[1.9995804859201343],\"x\":[\"80.994433\"],\"y\":[95.5]}},\"id\":\"9a93d83e-c863-4590-844f-bd2a51f53f06\",\"type\":\"ColumnDataSource\"},{\"attributes\":{\"data_source\":{\"id\":\"3dd494a5-229b-4f03-b9c5-9c6d2d958a18\",\"type\":\"ColumnDataSource\"},\"glyph\":{\"id\":\"6d49ddf7-3c39-417f-8dfa-8880b1486f91\",\"type\":\"Rect\"},\"hover_glyph\":null,\"nonselection_glyph\":null,\"selection_glyph\":null},\"id\":\"f46d4a81-1973-44bc-971d-f1e51cbe6d67\",\"type\":\"GlyphRenderer\"},{\"attributes\":{\"callback\":null,\"column_names\":[\"width\",\"label\",\"line_color\",\"line_alpha\",\"color\",\"y\",\"height\",\"x\",\"fill_alpha\"],\"data\":{\"chart_index\":[\"(74.287956, 76.264936]\"],\"color\":[\"#f22c40\"],\"fill_alpha\":[0.8],\"height\":[271.0],\"label\":[\"(74.287956, 76.264936]\"],\"line_alpha\":[1.0],\"line_color\":[\"black\"],\"width\":[1.976980165044921],\"x\":[\"75.27644599999999\"],\"y\":[135.5]}},\"id\":\"b0cb07c4-1ef6-48e1-be6d-386d117200b0\",\"type\":\"ColumnDataSource\"},{\"attributes\":{\"callback\":null,\"column_names\":[\"width\",\"label\",\"line_color\",\"line_alpha\",\"color\",\"y\",\"height\",\"x\",\"fill_alpha\"],\"data\":{\"chart_index\":[\"(89.992545, 91.992126]\"],\"color\":[\"#f22c40\"],\"fill_alpha\":[0.8],\"height\":[192.0],\"label\":[\"(89.992545, 91.992126]\"],\"line_alpha\":[1.0],\"line_color\":[\"black\"],\"width\":[1.9995804859201343],\"x\":[\"90.9923355\"],\"y\":[96.0]}},\"id\":\"81ebbab3-f698-4bbc-8c17-6735cea80ac0\",\"type\":\"ColumnDataSource\"},{\"attributes\":{\"fill_alpha\":{\"field\":\"fill_alpha\"},\"fill_color\":{\"field\":\"color\"},\"height\":{\"field\":\"height\",\"units\":\"data\"},\"line_color\":{\"field\":\"line_color\"},\"width\":{\"field\":\"width\",\"units\":\"data\"},\"x\":{\"field\":\"x\"},\"y\":{\"field\":\"y\"}},\"id\":\"70402c76-d9ac-4c35-a839-492fd1810c09\",\"type\":\"Rect\"},{\"attributes\":{\"data_source\":{\"id\":\"619780bc-6b13-4ac6-a65c-36248d51269b\",\"type\":\"ColumnDataSource\"},\"glyph\":{\"id\":\"28599851-cb81-48b2-8df6-e03532b0231f\",\"type\":\"Rect\"},\"hover_glyph\":null,\"nonselection_glyph\":null,\"selection_glyph\":null},\"id\":\"a8ead43b-d609-49c4-a997-6036f5641262\",\"type\":\"GlyphRenderer\"},{\"attributes\":{\"callback\":null,\"column_names\":[\"width\",\"label\",\"line_color\",\"line_alpha\",\"color\",\"y\",\"height\",\"x\",\"fill_alpha\"],\"data\":{\"chart_index\":[\"(82.195876, 84.172856]\"],\"color\":[\"#f22c40\"],\"fill_alpha\":[0.8],\"height\":[274.0],\"label\":[\"(82.195876, 84.172856]\"],\"line_alpha\":[1.0],\"line_color\":[\"black\"],\"width\":[1.976980165044921],\"x\":[\"83.184366\"],\"y\":[137.0]}},\"id\":\"46bec13c-fef4-4f98-9086-c827792f0b36\",\"type\":\"ColumnDataSource\"},{\"attributes\":{\"callback\":null,\"column_names\":[\"width\",\"label\",\"line_color\",\"line_alpha\",\"color\",\"y\",\"height\",\"x\",\"fill_alpha\"],\"data\":{\"chart_index\":[\"(359.743522, 377.730462]\"],\"color\":[\"#f22c40\"],\"fill_alpha\":[0.8],\"height\":[37.0],\"label\":[\"(359.743522, 377.730462]\"],\"line_alpha\":[1.0],\"line_color\":[\"black\"],\"width\":[17.98694043395585],\"x\":[\"368.736992\"],\"y\":[18.5]}},\"id\":\"11e7f52f-1363-452d-9692-361bdb8d298c\",\"type\":\"ColumnDataSource\"},{\"attributes\":{\"callback\":null,\"column_names\":[\"width\",\"label\",\"line_color\",\"line_alpha\",\"color\",\"y\",\"height\",\"x\",\"fill_alpha\"],\"data\":{\"chart_index\":[\"(61.998419, 63.997999]\"],\"color\":[\"#f22c40\"],\"fill_alpha\":[0.8],\"height\":[190.0],\"label\":[\"(61.998419, 63.997999]\"],\"line_alpha\":[1.0],\"line_color\":[\"black\"],\"width\":[1.9995804859201343],\"x\":[\"62.998209\"],\"y\":[95.0]}},\"id\":\"ccb6c4e3-6aec-49e6-89a9-d7cd2b87f39a\",\"type\":\"ColumnDataSource\"},{\"attributes\":{\"callback\":null,\"column_names\":[\"width\",\"label\",\"line_color\",\"line_alpha\",\"color\",\"y\",\"height\",\"x\",\"fill_alpha\"],\"data\":{\"chart_index\":[\"(485.652105, 503.639045]\"],\"color\":[\"#f22c40\"],\"fill_alpha\":[0.8],\"height\":[9.0],\"label\":[\"(485.652105, 503.639045]\"],\"line_alpha\":[1.0],\"line_color\":[\"black\"],\"width\":[17.98694043395585],\"x\":[\"494.645575\"],\"y\":[4.5]}},\"id\":\"b7fed1d2-bfed-4593-b5b9-123d0fc626d5\",\"type\":\"ColumnDataSource\"},{\"attributes\":{\"fill_alpha\":{\"field\":\"fill_alpha\"},\"fill_color\":{\"field\":\"color\"},\"height\":{\"field\":\"height\",\"units\":\"data\"},\"line_color\":{\"field\":\"line_color\"},\"width\":{\"field\":\"width\",\"units\":\"data\"},\"x\":{\"field\":\"x\"},\"y\":{\"field\":\"y\"}},\"id\":\"f282b4fb-b546-492c-9b20-77a1322f7f27\",\"type\":\"Rect\"},{\"attributes\":{\"data_source\":{\"id\":\"8023b8b9-e2fa-449c-9774-10041cfcdf10\",\"type\":\"ColumnDataSource\"},\"glyph\":{\"id\":\"612f118c-6a16-4676-a68c-aa4aab833128\",\"type\":\"Rect\"},\"hover_glyph\":null,\"nonselection_glyph\":null,\"selection_glyph\":null},\"id\":\"b7e5e21b-6b54-46ca-b873-8ffe689710c1\",\"type\":\"GlyphRenderer\"},{\"attributes\":{\"data_source\":{\"id\":\"83a764f6-bd6a-4b23-9237-34c0d7139aac\",\"type\":\"ColumnDataSource\"},\"glyph\":{\"id\":\"30e6731d-050b-4b9d-a460-60b1c575c8cd\",\"type\":\"Rect\"},\"hover_glyph\":null,\"nonselection_glyph\":null,\"selection_glyph\":null},\"id\":\"3e06558c-0249-4a21-9853-460708e1b210\",\"type\":\"GlyphRenderer\"},{\"attributes\":{\"plot\":{\"id\":\"e4892d86-69c9-4ad7-b82d-3161fd46f8c3\",\"subtype\":\"Chart\",\"type\":\"Plot\"}},\"id\":\"276f7a15-46e4-4cc3-9142-f0932860545f\",\"type\":\"HelpTool\"},{\"attributes\":{\"data_source\":{\"id\":\"f87b0b77-c31f-43b5-b725-93f08b74d0c3\",\"type\":\"ColumnDataSource\"},\"glyph\":{\"id\":\"a7a851d3-7c6a-422d-9e9e-c35f3acb96d4\",\"type\":\"Rect\"},\"hover_glyph\":null,\"nonselection_glyph\":null,\"selection_glyph\":null},\"id\":\"cbca8df7-6660-4b8a-9f9a-c3354b796f1f\",\"type\":\"GlyphRenderer\"},{\"attributes\":{\"fill_alpha\":{\"field\":\"fill_alpha\"},\"fill_color\":{\"field\":\"color\"},\"height\":{\"field\":\"height\",\"units\":\"data\"},\"line_color\":{\"field\":\"line_color\"},\"width\":{\"field\":\"width\",\"units\":\"data\"},\"x\":{\"field\":\"x\"},\"y\":{\"field\":\"y\"}},\"id\":\"2ab487fc-61fe-48b1-91e5-a2d40ac5387b\",\"type\":\"Rect\"},{\"attributes\":{\"data_source\":{\"id\":\"ad5d5926-969a-4496-9d1c-64c57848af02\",\"type\":\"ColumnDataSource\"},\"glyph\":{\"id\":\"32794fea-f800-424d-a083-db5dd8ce6a32\",\"type\":\"Rect\"},\"hover_glyph\":null,\"nonselection_glyph\":null,\"selection_glyph\":null},\"id\":\"29a8ad9b-b687-46ae-adf8-ea096e6574f3\",\"type\":\"GlyphRenderer\"},{\"attributes\":{\"data_source\":{\"id\":\"206e10b0-96cc-4e96-9e78-aea0c630d040\",\"type\":\"ColumnDataSource\"},\"glyph\":{\"id\":\"3f6d78b0-58dd-47ff-8990-748f16300353\",\"type\":\"Rect\"},\"hover_glyph\":null,\"nonselection_glyph\":null,\"selection_glyph\":null},\"id\":\"56af5ac1-60d1-4f72-a064-0154c92fd523\",\"type\":\"GlyphRenderer\"},{\"attributes\":{},\"id\":\"98abfcb5-9f18-419b-9812-6c5b53cdefc6\",\"type\":\"BasicTickFormatter\"},{\"attributes\":{\"overlay\":{\"id\":\"fe942fa8-95cd-4824-8c34-5551a59ae7ad\",\"type\":\"BoxAnnotation\"},\"plot\":{\"id\":\"c3ea08f3-860f-46d2-a08d-837617200cb5\",\"subtype\":\"Chart\",\"type\":\"Plot\"}},\"id\":\"fa0dd62a-c22a-4b84-b262-cb71fec2db92\",\"type\":\"BoxZoomTool\"},{\"attributes\":{\"fill_alpha\":{\"field\":\"fill_alpha\"},\"fill_color\":{\"field\":\"color\"},\"height\":{\"field\":\"height\",\"units\":\"data\"},\"line_color\":{\"field\":\"line_color\"},\"width\":{\"field\":\"width\",\"units\":\"data\"},\"x\":{\"field\":\"x\"},\"y\":{\"field\":\"y\"}},\"id\":\"96a14cb1-b96a-4816-b0dd-55f07901397d\",\"type\":\"Rect\"},{\"attributes\":{\"fill_alpha\":{\"field\":\"fill_alpha\"},\"fill_color\":{\"field\":\"color\"},\"height\":{\"field\":\"height\",\"units\":\"data\"},\"line_color\":{\"field\":\"line_color\"},\"width\":{\"field\":\"width\",\"units\":\"data\"},\"x\":{\"field\":\"x\"},\"y\":{\"field\":\"y\"}},\"id\":\"42d6448f-56ba-47d4-b29f-a88450ff687a\",\"type\":\"Rect\"},{\"attributes\":{\"data_source\":{\"id\":\"c994df12-8158-4693-bb50-60cd51d5a993\",\"type\":\"ColumnDataSource\"},\"glyph\":{\"id\":\"ffeba9dd-5564-46ed-8f12-eee2c90679dc\",\"type\":\"Rect\"},\"hover_glyph\":null,\"nonselection_glyph\":null,\"selection_glyph\":null},\"id\":\"728c604b-e425-4a01-be0d-ac7c01c770b4\",\"type\":\"GlyphRenderer\"},{\"attributes\":{\"plot\":{\"id\":\"c3ea08f3-860f-46d2-a08d-837617200cb5\",\"subtype\":\"Chart\",\"type\":\"Plot\"}},\"id\":\"9ca1636b-241c-4137-ac53-b5fb3e9c0644\",\"type\":\"HelpTool\"},{\"attributes\":{\"data_source\":{\"id\":\"1f09bd7f-8b7c-49b7-b257-b9d2f668b29e\",\"type\":\"ColumnDataSource\"},\"glyph\":{\"id\":\"8c22acee-e4e9-488e-af29-1eb17a62ee37\",\"type\":\"Rect\"},\"hover_glyph\":null,\"nonselection_glyph\":null,\"selection_glyph\":null},\"id\":\"b6895168-c01f-4058-90e6-5716ce3a1130\",\"type\":\"GlyphRenderer\"},{\"attributes\":{\"callback\":null,\"column_names\":[\"width\",\"label\",\"line_color\",\"line_alpha\",\"color\",\"y\",\"height\",\"x\",\"fill_alpha\"],\"data\":{\"chart_index\":[\"(30.794392, 32.771372]\"],\"color\":[\"#f22c40\"],\"fill_alpha\":[0.8],\"height\":[106.0],\"label\":[\"(30.794392, 32.771372]\"],\"line_alpha\":[1.0],\"line_color\":[\"black\"],\"width\":[1.976980165044921],\"x\":[\"31.782882\"],\"y\":[53.0]}},\"id\":\"3dd494a5-229b-4f03-b9c5-9c6d2d958a18\",\"type\":\"ColumnDataSource\"},{\"attributes\":{\"callback\":null,\"column_names\":[\"width\",\"label\",\"line_color\",\"line_alpha\",\"color\",\"y\",\"height\",\"x\",\"fill_alpha\"],\"data\":{\"chart_index\":[\"(60.793768, 62.444562]\"],\"color\":[\"#f22c40\"],\"fill_alpha\":[0.8],\"height\":[58.0],\"label\":[\"(60.793768, 62.444562]\"],\"line_alpha\":[1.0],\"line_color\":[\"black\"],\"width\":[1.6507939572147379],\"x\":[\"61.619164999999995\"],\"y\":[29.0]}},\"id\":\"467b20e4-2d09-406a-99d5-eec0e396da56\",\"type\":\"ColumnDataSource\"},{\"attributes\":{\"callback\":null,\"column_names\":[\"width\",\"label\",\"line_color\",\"line_alpha\",\"color\",\"y\",\"height\",\"x\",\"fill_alpha\"],\"data\":{\"chart_index\":[\"(101.990028, 103.989609]\"],\"color\":[\"#f22c40\"],\"fill_alpha\":[0.8],\"height\":[176.0],\"label\":[\"(101.990028, 103.989609]\"],\"line_alpha\":[1.0],\"line_color\":[\"black\"],\"width\":[1.9995804859201343],\"x\":[\"102.9898185\"],\"y\":[88.0]}},\"id\":\"a66f7248-87a9-4f76-b86b-0dd2a514aeea\",\"type\":\"ColumnDataSource\"},{\"attributes\":{\"fill_alpha\":{\"field\":\"fill_alpha\"},\"fill_color\":{\"field\":\"color\"},\"height\":{\"field\":\"height\",\"units\":\"data\"},\"line_color\":{\"field\":\"line_color\"},\"width\":{\"field\":\"width\",\"units\":\"data\"},\"x\":{\"field\":\"x\"},\"y\":{\"field\":\"y\"}},\"id\":\"30e6731d-050b-4b9d-a460-60b1c575c8cd\",\"type\":\"Rect\"},{\"attributes\":{\"fill_alpha\":{\"field\":\"fill_alpha\"},\"fill_color\":{\"field\":\"color\"},\"height\":{\"field\":\"height\",\"units\":\"data\"},\"line_color\":{\"field\":\"line_color\"},\"width\":{\"field\":\"width\",\"units\":\"data\"},\"x\":{\"field\":\"x\"},\"y\":{\"field\":\"y\"}},\"id\":\"10cbfa04-5a41-43db-a011-9055ef0f6128\",\"type\":\"Rect\"},{\"attributes\":{\"fill_alpha\":{\"field\":\"fill_alpha\"},\"fill_color\":{\"field\":\"color\"},\"height\":{\"field\":\"height\",\"units\":\"data\"},\"line_color\":{\"field\":\"line_color\"},\"width\":{\"field\":\"width\",\"units\":\"data\"},\"x\":{\"field\":\"x\"},\"y\":{\"field\":\"y\"}},\"id\":\"c34edbdf-a3dd-425e-84a0-ee5d7e697d50\",\"type\":\"Rect\"},{\"attributes\":{\"fill_alpha\":{\"field\":\"fill_alpha\"},\"fill_color\":{\"field\":\"color\"},\"height\":{\"field\":\"height\",\"units\":\"data\"},\"line_color\":{\"field\":\"line_color\"},\"width\":{\"field\":\"width\",\"units\":\"data\"},\"x\":{\"field\":\"x\"},\"y\":{\"field\":\"y\"}},\"id\":\"d96746ea-1faf-4566-949f-2ee9dc72f5c7\",\"type\":\"Rect\"},{\"attributes\":{\"callback\":null,\"column_names\":[\"width\",\"label\",\"line_color\",\"line_alpha\",\"color\",\"y\",\"height\",\"x\",\"fill_alpha\"],\"data\":{\"chart_index\":[\"(55.999677, 57.999258]\"],\"color\":[\"#f22c40\"],\"fill_alpha\":[0.8],\"height\":[208.0],\"label\":[\"(55.999677, 57.999258]\"],\"line_alpha\":[1.0],\"line_color\":[\"black\"],\"width\":[1.9995804859201343],\"x\":[\"56.999467499999994\"],\"y\":[104.0]}},\"id\":\"b1276510-0a17-4532-a5e9-ff86643ff255\",\"type\":\"ColumnDataSource\"},{\"attributes\":{\"callback\":null,\"column_names\":[\"width\",\"label\",\"line_color\",\"line_alpha\",\"color\",\"y\",\"height\",\"x\",\"fill_alpha\"],\"data\":{\"chart_index\":[\"(57.999258, 59.998838]\"],\"color\":[\"#f22c40\"],\"fill_alpha\":[0.8],\"height\":[193.0],\"label\":[\"(57.999258, 59.998838]\"],\"line_alpha\":[1.0],\"line_color\":[\"black\"],\"width\":[1.9995804859201343],\"x\":[\"58.999048\"],\"y\":[96.5]}},\"id\":\"51c4c6dd-35e8-485b-b353-14703eb7dd66\",\"type\":\"ColumnDataSource\"},{\"attributes\":{\"data_source\":{\"id\":\"56b53c01-6403-4e08-acad-0eb9a2b5c52e\",\"type\":\"ColumnDataSource\"},\"glyph\":{\"id\":\"d53cd740-a093-4d9a-93b0-ee01f4cbc297\",\"type\":\"Rect\"},\"hover_glyph\":null,\"nonselection_glyph\":null,\"selection_glyph\":null},\"id\":\"17446a44-5bf2-4b08-a365-6aad5010fca6\",\"type\":\"GlyphRenderer\"},{\"attributes\":{\"callback\":null,\"column_names\":[\"width\",\"label\",\"line_color\",\"line_alpha\",\"color\",\"y\",\"height\",\"x\",\"fill_alpha\"],\"data\":{\"chart_index\":[\"(101.965678, 103.942658]\"],\"color\":[\"#f22c40\"],\"fill_alpha\":[0.8],\"height\":[140.0],\"label\":[\"(101.965678, 103.942658]\"],\"line_alpha\":[1.0],\"line_color\":[\"black\"],\"width\":[1.976980165044921],\"x\":[\"102.954168\"],\"y\":[70.0]}},\"id\":\"b3ad3fc6-047d-4865-abe2-8c49ea281f71\",\"type\":\"ColumnDataSource\"},{\"attributes\":{\"fill_alpha\":{\"field\":\"fill_alpha\"},\"fill_color\":{\"field\":\"color\"},\"height\":{\"field\":\"height\",\"units\":\"data\"},\"line_color\":{\"field\":\"line_color\"},\"width\":{\"field\":\"width\",\"units\":\"data\"},\"x\":{\"field\":\"x\"},\"y\":{\"field\":\"y\"}},\"id\":\"88a4fe1f-0e44-4770-8ea9-3d1cce6098c3\",\"type\":\"Rect\"},{\"attributes\":{\"fill_alpha\":{\"field\":\"fill_alpha\"},\"fill_color\":{\"field\":\"color\"},\"height\":{\"field\":\"height\",\"units\":\"data\"},\"line_color\":{\"field\":\"line_color\"},\"width\":{\"field\":\"width\",\"units\":\"data\"},\"x\":{\"field\":\"x\"},\"y\":{\"field\":\"y\"}},\"id\":\"6ab2fb6b-43c8-4ae7-836d-11aed3ee031d\",\"type\":\"Rect\"},{\"attributes\":{\"fill_alpha\":{\"field\":\"fill_alpha\"},\"fill_color\":{\"field\":\"color\"},\"height\":{\"field\":\"height\",\"units\":\"data\"},\"line_color\":{\"field\":\"line_color\"},\"width\":{\"field\":\"width\",\"units\":\"data\"},\"x\":{\"field\":\"x\"},\"y\":{\"field\":\"y\"}},\"id\":\"4430781c-cc75-4ae4-9642-8f4ed662b505\",\"type\":\"Rect\"},{\"attributes\":{\"data_source\":{\"id\":\"9caaa9bb-a406-4fb6-a0d1-282b1a5ebb80\",\"type\":\"ColumnDataSource\"},\"glyph\":{\"id\":\"b075678e-650b-4f7b-ad56-22d08a3cebce\",\"type\":\"Rect\"},\"hover_glyph\":null,\"nonselection_glyph\":null,\"selection_glyph\":null},\"id\":\"4a5a246c-1ea1-4428-a943-0208a9e16212\",\"type\":\"GlyphRenderer\"},{\"attributes\":{\"callback\":null,\"column_names\":[\"width\",\"label\",\"line_color\",\"line_alpha\",\"color\",\"y\",\"height\",\"x\",\"fill_alpha\"],\"data\":{\"chart_index\":[\"(737.469271, 755.456211]\"],\"color\":[\"#f22c40\"],\"fill_alpha\":[0.8],\"height\":[2.0],\"label\":[\"(737.469271, 755.456211]\"],\"line_alpha\":[1.0],\"line_color\":[\"black\"],\"width\":[17.98694043395585],\"x\":[\"746.462741\"],\"y\":[1.0]}},\"id\":\"6ea6ab5d-964b-410f-a5d1-422acf149341\",\"type\":\"ColumnDataSource\"},{\"attributes\":{\"data_source\":{\"id\":\"d617401f-f170-4eb5-b1de-c447558dd5aa\",\"type\":\"ColumnDataSource\"},\"glyph\":{\"id\":\"59cf7395-4f48-4840-a4b5-186839760026\",\"type\":\"Rect\"},\"hover_glyph\":null,\"nonselection_glyph\":null,\"selection_glyph\":null},\"id\":\"33e15a87-8758-49a8-9b1d-fa4034ef65fc\",\"type\":\"GlyphRenderer\"},{\"attributes\":{},\"id\":\"f0c8cedb-d35d-4523-b90e-ddcb06148878\",\"type\":\"BasicTickFormatter\"},{\"attributes\":{\"data_source\":{\"id\":\"8ca326ad-65e9-4f3d-9872-1ace36d367f8\",\"type\":\"ColumnDataSource\"},\"glyph\":{\"id\":\"5c994267-ae3d-4787-8d4a-b1911fcf7add\",\"type\":\"Rect\"},\"hover_glyph\":null,\"nonselection_glyph\":null,\"selection_glyph\":null},\"id\":\"44cdfa0c-037e-4519-850d-fc19cbba9712\",\"type\":\"GlyphRenderer\"},{\"attributes\":{\"fill_alpha\":{\"field\":\"fill_alpha\"},\"fill_color\":{\"field\":\"color\"},\"height\":{\"field\":\"height\",\"units\":\"data\"},\"line_color\":{\"field\":\"line_color\"},\"width\":{\"field\":\"width\",\"units\":\"data\"},\"x\":{\"field\":\"x\"},\"y\":{\"field\":\"y\"}},\"id\":\"62537b3a-51ed-454a-845f-e93e9c07c4ab\",\"type\":\"Rect\"},{\"attributes\":{\"bottom_units\":\"screen\",\"fill_alpha\":{\"value\":0.5},\"fill_color\":{\"value\":\"lightgrey\"},\"left_units\":\"screen\",\"level\":\"overlay\",\"line_alpha\":{\"value\":1.0},\"line_color\":{\"value\":\"black\"},\"line_dash\":[4,4],\"line_width\":{\"value\":2},\"plot\":null,\"render_mode\":\"css\",\"right_units\":\"screen\",\"top_units\":\"screen\"},\"id\":\"390819dc-f67a-4df8-9f3b-92330c5d1dd3\",\"type\":\"BoxAnnotation\"},{\"attributes\":{\"fill_alpha\":{\"field\":\"fill_alpha\"},\"fill_color\":{\"field\":\"color\"},\"height\":{\"field\":\"height\",\"units\":\"data\"},\"line_color\":{\"field\":\"line_color\"},\"width\":{\"field\":\"width\",\"units\":\"data\"},\"x\":{\"field\":\"x\"},\"y\":{\"field\":\"y\"}},\"id\":\"8be61e63-8346-44f7-b6f1-e00f6bbf8dfd\",\"type\":\"Rect\"},{\"attributes\":{\"data_source\":{\"id\":\"c44ea11b-5182-451c-95d3-8162949094b6\",\"type\":\"ColumnDataSource\"},\"glyph\":{\"id\":\"759a112a-cd43-4d5f-94ba-7912e0ee01d5\",\"type\":\"Rect\"},\"hover_glyph\":null,\"nonselection_glyph\":null,\"selection_glyph\":null},\"id\":\"b7ba4af4-ccf3-4be6-a311-7ed055a01a7c\",\"type\":\"GlyphRenderer\"},{\"attributes\":{\"data_source\":{\"id\":\"fbbceb98-6bad-41a9-a50d-5908807f077c\",\"type\":\"ColumnDataSource\"},\"glyph\":{\"id\":\"50c8c092-e860-4f64-ab5b-117b1a3e7430\",\"type\":\"Rect\"},\"hover_glyph\":null,\"nonselection_glyph\":null,\"selection_glyph\":null},\"id\":\"9851b4f3-cf2c-4052-a0ba-47617b66a55b\",\"type\":\"GlyphRenderer\"},{\"attributes\":{\"data_source\":{\"id\":\"e0415e09-3e78-43d2-b06d-e5934a83e6b0\",\"type\":\"ColumnDataSource\"},\"glyph\":{\"id\":\"ecbb470a-3e78-4d46-a59a-9ea8d6f16f8b\",\"type\":\"Rect\"},\"hover_glyph\":null,\"nonselection_glyph\":null,\"selection_glyph\":null},\"id\":\"f88f1724-8c19-48a9-a3b3-98ab6da71e7d\",\"type\":\"GlyphRenderer\"},{\"attributes\":{\"callback\":null,\"column_names\":[\"width\",\"label\",\"line_color\",\"line_alpha\",\"color\",\"y\",\"height\",\"x\",\"fill_alpha\"],\"data\":{\"chart_index\":[\"(55.841386, 57.492180]\"],\"color\":[\"#f22c40\"],\"fill_alpha\":[0.8],\"height\":[162.0],\"label\":[\"(55.841386, 57.492180]\"],\"line_alpha\":[1.0],\"line_color\":[\"black\"],\"width\":[1.650793957214745],\"x\":[\"56.666782999999995\"],\"y\":[81.0]}},\"id\":\"64ad3a68-b7fa-4d9c-b888-ed0e49b2b82f\",\"type\":\"ColumnDataSource\"},{\"attributes\":{\"callback\":null,\"column_names\":[\"width\",\"label\",\"line_color\",\"line_alpha\",\"color\",\"y\",\"height\",\"x\",\"fill_alpha\"],\"data\":{\"chart_index\":[\"(62.444562, 64.095356]\"],\"color\":[\"#f22c40\"],\"fill_alpha\":[0.8],\"height\":[44.0],\"label\":[\"(62.444562, 64.095356]\"],\"line_alpha\":[1.0],\"line_color\":[\"black\"],\"width\":[1.650793957214745],\"x\":[\"63.269959\"],\"y\":[22.0]}},\"id\":\"7298aace-d7af-4ff8-8f8e-af24ba0c24aa\",\"type\":\"ColumnDataSource\"},{\"attributes\":{\"fill_alpha\":{\"field\":\"fill_alpha\"},\"fill_color\":{\"field\":\"color\"},\"height\":{\"field\":\"height\",\"units\":\"data\"},\"line_color\":{\"field\":\"line_color\"},\"width\":{\"field\":\"width\",\"units\":\"data\"},\"x\":{\"field\":\"x\"},\"y\":{\"field\":\"y\"}},\"id\":\"450783b3-562d-42ec-8e9f-f3f4840be620\",\"type\":\"Rect\"},{\"attributes\":{\"callback\":null,\"column_names\":[\"width\",\"label\",\"line_color\",\"line_alpha\",\"color\",\"y\",\"height\",\"x\",\"fill_alpha\"],\"data\":{\"chart_index\":[\"(48.001355, 50.000936]\"],\"color\":[\"#f22c40\"],\"fill_alpha\":[0.8],\"height\":[209.0],\"label\":[\"(48.001355, 50.000936]\"],\"line_alpha\":[1.0],\"line_color\":[\"black\"],\"width\":[1.9995804859201414],\"x\":[\"49.0011455\"],\"y\":[104.5]}},\"id\":\"3bb2e23d-1ae0-448a-91a5-f61e5fdda43a\",\"type\":\"ColumnDataSource\"},{\"attributes\":{\"data_source\":{\"id\":\"bd5ae149-8ec3-4202-990c-19ea7ecbf840\",\"type\":\"ColumnDataSource\"},\"glyph\":{\"id\":\"43c69907-31d8-4898-b959-526b5d09159f\",\"type\":\"Rect\"},\"hover_glyph\":null,\"nonselection_glyph\":null,\"selection_glyph\":null},\"id\":\"04b97699-deeb-4745-820c-0775a97cb27e\",\"type\":\"GlyphRenderer\"},{\"attributes\":{\"data_source\":{\"id\":\"99149f8a-2691-4a63-bb30-9b291f53adfa\",\"type\":\"ColumnDataSource\"},\"glyph\":{\"id\":\"c2b2b509-85f0-45c9-a6be-bb9695360da7\",\"type\":\"Rect\"},\"hover_glyph\":null,\"nonselection_glyph\":null,\"selection_glyph\":null},\"id\":\"c2f01ce5-7404-40c6-a843-8195e961cac5\",\"type\":\"GlyphRenderer\"},{\"attributes\":{\"data_source\":{\"id\":\"3cb4aa1c-be73-4285-905a-c883fd558fb2\",\"type\":\"ColumnDataSource\"},\"glyph\":{\"id\":\"96b0429e-7b83-458e-ad44-6c40a0a3a109\",\"type\":\"Rect\"},\"hover_glyph\":null,\"nonselection_glyph\":null,\"selection_glyph\":null},\"id\":\"6ee6d7a5-14fa-4d2c-b751-ab9f813e99ca\",\"type\":\"GlyphRenderer\"},{\"attributes\":{\"callback\":null,\"column_names\":[\"width\",\"label\",\"line_color\",\"line_alpha\",\"color\",\"y\",\"height\",\"x\",\"fill_alpha\"],\"data\":{\"chart_index\":[\"(42.656273, 44.633253]\"],\"color\":[\"#f22c40\"],\"fill_alpha\":[0.8],\"height\":[218.0],\"label\":[\"(42.656273, 44.633253]\"],\"line_alpha\":[1.0],\"line_color\":[\"black\"],\"width\":[1.9769801650449281],\"x\":[\"43.644763\"],\"y\":[109.0]}},\"id\":\"7b901a8f-67af-4542-863a-0c0d15f6bc4d\",\"type\":\"ColumnDataSource\"},{\"attributes\":{\"plot\":{\"id\":\"190b90fe-bcce-427a-9503-f0ac58c0167a\",\"subtype\":\"Chart\",\"type\":\"Plot\"}},\"id\":\"c2da738e-2f2b-48ac-8024-53ff49b81adc\",\"type\":\"PanTool\"},{\"attributes\":{\"fill_alpha\":{\"field\":\"fill_alpha\"},\"fill_color\":{\"field\":\"color\"},\"height\":{\"field\":\"height\",\"units\":\"data\"},\"line_color\":{\"field\":\"line_color\"},\"width\":{\"field\":\"width\",\"units\":\"data\"},\"x\":{\"field\":\"x\"},\"y\":{\"field\":\"y\"}},\"id\":\"0c1047a0-cb2a-4ebe-a543-53bc79345b90\",\"type\":\"Rect\"},{\"attributes\":{\"fill_alpha\":{\"field\":\"fill_alpha\"},\"fill_color\":{\"field\":\"color\"},\"height\":{\"field\":\"height\",\"units\":\"data\"},\"line_color\":{\"field\":\"line_color\"},\"width\":{\"field\":\"width\",\"units\":\"data\"},\"x\":{\"field\":\"x\"},\"y\":{\"field\":\"y\"}},\"id\":\"08644004-cac8-45f3-be4e-dcddc4cb5182\",\"type\":\"Rect\"},{\"attributes\":{\"fill_alpha\":{\"field\":\"fill_alpha\"},\"fill_color\":{\"field\":\"color\"},\"height\":{\"field\":\"height\",\"units\":\"data\"},\"line_color\":{\"field\":\"line_color\"},\"width\":{\"field\":\"width\",\"units\":\"data\"},\"x\":{\"field\":\"x\"},\"y\":{\"field\":\"y\"}},\"id\":\"0e27234f-f513-420d-a84b-37957bc951ae\",\"type\":\"Rect\"},{\"attributes\":{\"callback\":null,\"column_names\":[\"width\",\"label\",\"line_color\",\"line_alpha\",\"color\",\"y\",\"height\",\"x\",\"fill_alpha\"],\"data\":{\"chart_index\":[\"(24.863451, 26.840432]\"],\"color\":[\"#f22c40\"],\"fill_alpha\":[0.8],\"height\":[67.0],\"label\":[\"(24.863451, 26.840432]\"],\"line_alpha\":[1.0],\"line_color\":[\"black\"],\"width\":[1.9769801650449246],\"x\":[\"25.851941500000002\"],\"y\":[33.5]}},\"id\":\"c5dd35cc-a7e7-4a0b-b78a-b5583925a190\",\"type\":\"ColumnDataSource\"},{\"attributes\":{\"callback\":null,\"column_names\":[\"width\",\"label\",\"line_color\",\"line_alpha\",\"color\",\"y\",\"height\",\"x\",\"fill_alpha\"],\"data\":{\"chart_index\":[\"(32.004711, 34.004292]\"],\"color\":[\"#f22c40\"],\"fill_alpha\":[0.8],\"height\":[210.0],\"label\":[\"(32.004711, 34.004292]\"],\"line_alpha\":[1.0],\"line_color\":[\"black\"],\"width\":[1.9995804859201343],\"x\":[\"33.0045015\"],\"y\":[105.0]}},\"id\":\"e210d235-3c6f-4690-b6e5-6b40cf189930\",\"type\":\"ColumnDataSource\"},{\"attributes\":{\"callback\":null,\"column_names\":[\"width\",\"label\",\"line_color\",\"line_alpha\",\"color\",\"y\",\"height\",\"x\",\"fill_alpha\"],\"data\":{\"chart_index\":[\"(105.989189, 107.988770]\"],\"color\":[\"#f22c40\"],\"fill_alpha\":[0.8],\"height\":[211.0],\"label\":[\"(105.989189, 107.988770]\"],\"line_alpha\":[1.0],\"line_color\":[\"black\"],\"width\":[1.9995804859201343],\"x\":[\"106.9889795\"],\"y\":[105.5]}},\"id\":\"3f572c54-1f09-4f09-98f8-8d049d09fa7f\",\"type\":\"ColumnDataSource\"},{\"attributes\":{\"data_source\":{\"id\":\"09a8dec1-68f3-413c-8ac7-9b7038b6137d\",\"type\":\"ColumnDataSource\"},\"glyph\":{\"id\":\"a949b2f3-b054-4588-a360-56c61ba1e1b2\",\"type\":\"Rect\"},\"hover_glyph\":null,\"nonselection_glyph\":null,\"selection_glyph\":null},\"id\":\"4691ce72-b442-44e3-a877-be2373168b51\",\"type\":\"GlyphRenderer\"},{\"attributes\":{},\"id\":\"63f60a1b-69c6-466d-81f6-fb5c5c70f54f\",\"type\":\"BasicTicker\"},{\"attributes\":{\"callback\":null,\"column_names\":[\"width\",\"label\",\"line_color\",\"line_alpha\",\"color\",\"y\",\"height\",\"x\",\"fill_alpha\"],\"data\":{\"chart_index\":[\"[0.004713, 17.991653]\"],\"color\":[\"#f22c40\"],\"fill_alpha\":[0.8],\"height\":[1640.0],\"label\":[\"[0.004713, 17.991653]\"],\"line_alpha\":[1.0],\"line_color\":[\"black\"],\"width\":[17.9869404339559],\"x\":[\"8.998183\"],\"y\":[820.0]}},\"id\":\"ccc681c5-32e6-45bf-b1ac-e74bb9a941ac\",\"type\":\"ColumnDataSource\"},{\"attributes\":{\"callback\":null,\"column_names\":[\"width\",\"label\",\"line_color\",\"line_alpha\",\"color\",\"y\",\"height\",\"x\",\"fill_alpha\"],\"data\":{\"chart_index\":[\"(42.635034, 44.285828]\"],\"color\":[\"#f22c40\"],\"fill_alpha\":[0.8],\"height\":[639.0],\"label\":[\"(42.635034, 44.285828]\"],\"line_alpha\":[1.0],\"line_color\":[\"black\"],\"width\":[1.650793957214745],\"x\":[\"43.460431\"],\"y\":[319.5]}},\"id\":\"696c6f5a-6633-46b0-8c92-53030e44771e\",\"type\":\"ColumnDataSource\"},{\"attributes\":{\"data_source\":{\"id\":\"2469fa89-b805-4a21-89bb-a8ab90c0d0f8\",\"type\":\"ColumnDataSource\"},\"glyph\":{\"id\":\"2cfd716c-0c8a-4e44-aedb-6665dc69aca0\",\"type\":\"Rect\"},\"hover_glyph\":null,\"nonselection_glyph\":null,\"selection_glyph\":null},\"id\":\"5ae7f91f-6e1c-4ff3-83f4-88bf80555b3b\",\"type\":\"GlyphRenderer\"},{\"attributes\":{\"fill_alpha\":{\"field\":\"fill_alpha\"},\"fill_color\":{\"field\":\"color\"},\"height\":{\"field\":\"height\",\"units\":\"data\"},\"line_color\":{\"field\":\"line_color\"},\"width\":{\"field\":\"width\",\"units\":\"data\"},\"x\":{\"field\":\"x\"},\"y\":{\"field\":\"y\"}},\"id\":\"ce5f8f9d-8414-4d01-bb39-2a323a2443ea\",\"type\":\"Rect\"},{\"attributes\":{\"data_source\":{\"id\":\"c2331793-9629-43cd-aa84-835f786197aa\",\"type\":\"ColumnDataSource\"},\"glyph\":{\"id\":\"f282b4fb-b546-492c-9b20-77a1322f7f27\",\"type\":\"Rect\"},\"hover_glyph\":null,\"nonselection_glyph\":null,\"selection_glyph\":null},\"id\":\"2f02c4f6-ec50-487a-9069-12d98142190a\",\"type\":\"GlyphRenderer\"},{\"attributes\":{\"overlay\":{\"id\":\"08fdc483-2ccd-4ff0-8b72-d2f2d5436f6e\",\"type\":\"BoxAnnotation\"},\"plot\":{\"id\":\"e4892d86-69c9-4ad7-b82d-3161fd46f8c3\",\"subtype\":\"Chart\",\"type\":\"Plot\"}},\"id\":\"c9193492-01af-42c4-b988-4f361c51533d\",\"type\":\"BoxZoomTool\"},{\"attributes\":{\"fill_alpha\":{\"field\":\"fill_alpha\"},\"fill_color\":{\"field\":\"color\"},\"height\":{\"field\":\"height\",\"units\":\"data\"},\"line_color\":{\"field\":\"line_color\"},\"width\":{\"field\":\"width\",\"units\":\"data\"},\"x\":{\"field\":\"x\"},\"y\":{\"field\":\"y\"}},\"id\":\"65db9a76-4930-4cfc-9296-42f16aedacfe\",\"type\":\"Rect\"},{\"attributes\":{\"fill_alpha\":{\"field\":\"fill_alpha\"},\"fill_color\":{\"field\":\"color\"},\"height\":{\"field\":\"height\",\"units\":\"data\"},\"line_color\":{\"field\":\"line_color\"},\"width\":{\"field\":\"width\",\"units\":\"data\"},\"x\":{\"field\":\"x\"},\"y\":{\"field\":\"y\"}},\"id\":\"b0830350-677c-42cf-8c08-e8c87d78fb80\",\"type\":\"Rect\"},{\"attributes\":{\"callback\":null,\"column_names\":[\"width\",\"label\",\"line_color\",\"line_alpha\",\"color\",\"y\",\"height\",\"x\",\"fill_alpha\"],\"data\":{\"chart_index\":[\"(413.704343, 431.691283]\"],\"color\":[\"#f22c40\"],\"fill_alpha\":[0.8],\"height\":[23.0],\"label\":[\"(413.704343, 431.691283]\"],\"line_alpha\":[1.0],\"line_color\":[\"black\"],\"width\":[17.98694043395591],\"x\":[\"422.697813\"],\"y\":[11.5]}},\"id\":\"a4da9e0d-06b8-41c9-8610-91f8f6ad1bba\",\"type\":\"ColumnDataSource\"},{\"attributes\":{\"fill_alpha\":{\"field\":\"fill_alpha\"},\"fill_color\":{\"field\":\"color\"},\"height\":{\"field\":\"height\",\"units\":\"data\"},\"line_color\":{\"field\":\"line_color\"},\"width\":{\"field\":\"width\",\"units\":\"data\"},\"x\":{\"field\":\"x\"},\"y\":{\"field\":\"y\"}},\"id\":\"026ae04d-4ee9-42cb-aba5-2bd0cd28685f\",\"type\":\"Rect\"},{\"attributes\":{\"below\":[{\"id\":\"7daf496c-e4a4-44a8-8780-87599dd2211a\",\"type\":\"LinearAxis\"}],\"css_classes\":null,\"height\":300,\"left\":[{\"id\":\"6c5dcf5a-a67a-4f96-a83f-72f05e648931\",\"type\":\"LinearAxis\"}],\"renderers\":[{\"id\":\"08fdc483-2ccd-4ff0-8b72-d2f2d5436f6e\",\"type\":\"BoxAnnotation\"},{\"id\":\"bbd87970-ba26-461b-881c-6844901aaa5d\",\"type\":\"GlyphRenderer\"},{\"id\":\"c6ed71d3-5f08-4abf-8443-ecdcb2e07889\",\"type\":\"GlyphRenderer\"},{\"id\":\"beb0c19c-b010-4322-92f5-b9b4c42ca08a\",\"type\":\"GlyphRenderer\"},{\"id\":\"2b6b7f3c-8bd1-48a6-ae3c-10f92e7fcc27\",\"type\":\"GlyphRenderer\"},{\"id\":\"4ae40071-ab25-48f7-9bd4-2fc60e473a44\",\"type\":\"GlyphRenderer\"},{\"id\":\"8971fbc4-e786-47aa-ad44-2c336948f672\",\"type\":\"GlyphRenderer\"},{\"id\":\"01e93d57-619e-40e9-9bc2-b2f4c7e165e9\",\"type\":\"GlyphRenderer\"},{\"id\":\"400e30b2-ad1f-417a-8829-0a0d9e66544f\",\"type\":\"GlyphRenderer\"},{\"id\":\"59311d8a-e631-4cd5-8bc3-f151c802670e\",\"type\":\"GlyphRenderer\"},{\"id\":\"33435156-6f89-4639-9e36-f59f21026a41\",\"type\":\"GlyphRenderer\"},{\"id\":\"6b8fa055-e983-4abb-b18c-af6d54091225\",\"type\":\"GlyphRenderer\"},{\"id\":\"8aff6543-ce41-4f10-a72b-e16a3e523dff\",\"type\":\"GlyphRenderer\"},{\"id\":\"c45942a2-c04a-4826-a093-e7175d5281e1\",\"type\":\"GlyphRenderer\"},{\"id\":\"74876b60-fb9c-4f1b-9d48-46bf60a31938\",\"type\":\"GlyphRenderer\"},{\"id\":\"4049e577-ac84-44df-aac4-2646fab702a8\",\"type\":\"GlyphRenderer\"},{\"id\":\"d180e26a-6a1a-40f3-90d7-e03f7cb02345\",\"type\":\"GlyphRenderer\"},{\"id\":\"a037fd2f-6cd4-434c-99db-6c139beecc4e\",\"type\":\"GlyphRenderer\"},{\"id\":\"ffcbdfec-12a8-4e51-924e-86c5cc296a05\",\"type\":\"GlyphRenderer\"},{\"id\":\"5f05e1e4-e240-47d4-ba77-e3913e0e4b9b\",\"type\":\"GlyphRenderer\"},{\"id\":\"e52a1ddf-e778-4491-8d13-aee38b76b827\",\"type\":\"GlyphRenderer\"},{\"id\":\"77cb464e-e8a5-4283-a8c1-cf7a571f5040\",\"type\":\"GlyphRenderer\"},{\"id\":\"1e2e9e95-2b6a-4161-810a-c4c67072711c\",\"type\":\"GlyphRenderer\"},{\"id\":\"29a8ad9b-b687-46ae-adf8-ea096e6574f3\",\"type\":\"GlyphRenderer\"},{\"id\":\"eea90c3c-34a6-4d31-aa0a-0631451e5533\",\"type\":\"GlyphRenderer\"},{\"id\":\"727b8eef-c32a-4aa9-b4e7-54ccf3d75df3\",\"type\":\"GlyphRenderer\"},{\"id\":\"fd839449-6494-4f3e-a5e7-a523467911c5\",\"type\":\"GlyphRenderer\"},{\"id\":\"b3daa52b-ac16-47a2-bba7-e985705485a2\",\"type\":\"GlyphRenderer\"},{\"id\":\"d0cc5212-3c46-4db3-89b7-003e35342c28\",\"type\":\"GlyphRenderer\"},{\"id\":\"6efeccb6-5635-4799-89f9-f8410287ec2e\",\"type\":\"GlyphRenderer\"},{\"id\":\"4e9c0d42-0c4c-44b0-b834-ecfbcb22548c\",\"type\":\"GlyphRenderer\"},{\"id\":\"b01eeb0c-1e06-4291-967e-c2494f5bdf61\",\"type\":\"GlyphRenderer\"},{\"id\":\"811e2958-cf48-4928-833f-02dabe26cd0a\",\"type\":\"GlyphRenderer\"},{\"id\":\"468544df-167c-4f56-87a4-79f6ae0493b5\",\"type\":\"GlyphRenderer\"},{\"id\":\"01d2c061-58bb-4ec1-bbc4-f1be3d1160a6\",\"type\":\"GlyphRenderer\"},{\"id\":\"acdaa208-5479-4d0c-8be8-e5fdcaf994fc\",\"type\":\"GlyphRenderer\"},{\"id\":\"c9345010-158a-474a-b747-4bb5b8672546\",\"type\":\"GlyphRenderer\"},{\"id\":\"3230864f-6869-4a9a-9c59-09e066723752\",\"type\":\"GlyphRenderer\"},{\"id\":\"bcdf30c4-e145-41f4-8d27-64ffbe53f272\",\"type\":\"GlyphRenderer\"},{\"id\":\"e07dae28-5c22-43d5-952b-da9b4738f301\",\"type\":\"GlyphRenderer\"},{\"id\":\"10d16664-0cf0-4924-92b1-0f0029bd7b18\",\"type\":\"GlyphRenderer\"},{\"id\":\"3630dc47-9b88-43ea-9a10-52f294dd8cc2\",\"type\":\"GlyphRenderer\"},{\"id\":\"3f8519a9-7411-41e4-bbbf-2f5f42271cf7\",\"type\":\"GlyphRenderer\"},{\"id\":\"978f4dec-1ac1-4d86-92f0-c8aea9807ee7\",\"type\":\"GlyphRenderer\"},{\"id\":\"f4d8bc36-50fd-4411-9077-c09f42c4ab65\",\"type\":\"GlyphRenderer\"},{\"id\":\"fa72f7fe-efd7-4053-92b6-66a62d34ebf0\",\"type\":\"GlyphRenderer\"},{\"id\":\"de9e8202-bbb2-4eb2-b9a4-542c26ad7443\",\"type\":\"GlyphRenderer\"},{\"id\":\"34538290-abae-4d3e-9fb7-b2965fa18055\",\"type\":\"GlyphRenderer\"},{\"id\":\"264a47a3-f7ba-4d6e-8e93-2363fe9d5dbf\",\"type\":\"GlyphRenderer\"},{\"id\":\"1e7d8ea8-aa07-46f6-a62d-575412674739\",\"type\":\"GlyphRenderer\"},{\"id\":\"f88f1724-8c19-48a9-a3b3-98ab6da71e7d\",\"type\":\"GlyphRenderer\"},{\"id\":\"aca8b077-25ba-4448-ad3f-492de1e2ae0b\",\"type\":\"Legend\"},{\"id\":\"7daf496c-e4a4-44a8-8780-87599dd2211a\",\"type\":\"LinearAxis\"},{\"id\":\"6c5dcf5a-a67a-4f96-a83f-72f05e648931\",\"type\":\"LinearAxis\"},{\"id\":\"429581f9-4d8d-49d1-b9e1-930e4079e567\",\"type\":\"Grid\"}],\"title\":{\"id\":\"c8980a37-58b0-4e41-968f-4dc643f3c4f3\",\"type\":\"Title\"},\"tool_events\":{\"id\":\"f5462266-98d5-4f7f-bb45-cd4c977cacbf\",\"type\":\"ToolEvents\"},\"toolbar\":{\"id\":\"2a209b4b-1798-41bd-9a77-a86d8a5cf43f\",\"type\":\"Toolbar\"},\"toolbar_location\":null,\"width\":350,\"x_mapper_type\":\"auto\",\"x_range\":{\"id\":\"c0a1455a-8768-453f-ba8a-53453f4ea0d5\",\"type\":\"Range1d\"},\"y_mapper_type\":\"auto\",\"y_range\":{\"id\":\"d9f62099-68e4-4f66-998a-c9d3ddf00681\",\"type\":\"Range1d\"}},\"id\":\"e4892d86-69c9-4ad7-b82d-3161fd46f8c3\",\"subtype\":\"Chart\",\"type\":\"Plot\"},{\"attributes\":{\"data_source\":{\"id\":\"efb920f2-7457-4e9f-aedd-e24877c06821\",\"type\":\"ColumnDataSource\"},\"glyph\":{\"id\":\"04944095-fd12-4f77-9d67-5c3694009459\",\"type\":\"Rect\"},\"hover_glyph\":null,\"nonselection_glyph\":null,\"selection_glyph\":null},\"id\":\"c4245004-c0c6-4871-bc6d-2fcd27d64e8a\",\"type\":\"GlyphRenderer\"},{\"attributes\":{\"plot\":{\"id\":\"e4892d86-69c9-4ad7-b82d-3161fd46f8c3\",\"subtype\":\"Chart\",\"type\":\"Plot\"}},\"id\":\"b382a98d-9ced-46ae-9480-cf2eade24772\",\"type\":\"ResetTool\"},{\"attributes\":{\"fill_alpha\":{\"field\":\"fill_alpha\"},\"fill_color\":{\"field\":\"color\"},\"height\":{\"field\":\"height\",\"units\":\"data\"},\"line_color\":{\"field\":\"line_color\"},\"width\":{\"field\":\"width\",\"units\":\"data\"},\"x\":{\"field\":\"x\"},\"y\":{\"field\":\"y\"}},\"id\":\"0af2c448-344e-43a7-9a7b-bad7c859c772\",\"type\":\"Rect\"},{\"attributes\":{\"data_source\":{\"id\":\"aa977abb-296f-41c4-9275-f93b025a50a5\",\"type\":\"ColumnDataSource\"},\"glyph\":{\"id\":\"1767c9fe-5dd2-4606-b387-9cf42985550b\",\"type\":\"Rect\"},\"hover_glyph\":null,\"nonselection_glyph\":null,\"selection_glyph\":null},\"id\":\"56732ba8-42fd-46bb-8094-60c2703ae227\",\"type\":\"GlyphRenderer\"},{\"attributes\":{\"callback\":null,\"column_names\":[\"width\",\"label\",\"line_color\",\"line_alpha\",\"color\",\"y\",\"height\",\"x\",\"fill_alpha\"],\"data\":{\"chart_index\":[\"(42.002614, 44.002194]\"],\"color\":[\"#f22c40\"],\"fill_alpha\":[0.8],\"height\":[216.0],\"label\":[\"(42.002614, 44.002194]\"],\"line_alpha\":[1.0],\"line_color\":[\"black\"],\"width\":[1.9995804859201343],\"x\":[\"43.002404\"],\"y\":[108.0]}},\"id\":\"8faec553-7cb4-4cb0-a78c-37e6aac5488a\",\"type\":\"ColumnDataSource\"},{\"attributes\":{\"callback\":null,\"column_names\":[\"width\",\"label\",\"line_color\",\"line_alpha\",\"color\",\"y\",\"height\",\"x\",\"fill_alpha\"],\"data\":{\"chart_index\":[\"(58.472114, 60.449094]\"],\"color\":[\"#f22c40\"],\"fill_alpha\":[0.8],\"height\":[276.0],\"label\":[\"(58.472114, 60.449094]\"],\"line_alpha\":[1.0],\"line_color\":[\"black\"],\"width\":[1.9769801650449352],\"x\":[\"59.460604000000004\"],\"y\":[138.0]}},\"id\":\"3cb4aa1c-be73-4285-905a-c883fd558fb2\",\"type\":\"ColumnDataSource\"},{\"attributes\":{\"fill_alpha\":{\"field\":\"fill_alpha\"},\"fill_color\":{\"field\":\"color\"},\"height\":{\"field\":\"height\",\"units\":\"data\"},\"line_color\":{\"field\":\"line_color\"},\"width\":{\"field\":\"width\",\"units\":\"data\"},\"x\":{\"field\":\"x\"},\"y\":{\"field\":\"y\"}},\"id\":\"3f6d78b0-58dd-47ff-8990-748f16300353\",\"type\":\"Rect\"},{\"attributes\":{\"data_source\":{\"id\":\"ec6e2eda-dd06-4ea7-b095-5734954a78c0\",\"type\":\"ColumnDataSource\"},\"glyph\":{\"id\":\"57d0ab1e-31fa-4e2d-a280-a47f7a3cb788\",\"type\":\"Rect\"},\"hover_glyph\":null,\"nonselection_glyph\":null,\"selection_glyph\":null},\"id\":\"468544df-167c-4f56-87a4-79f6ae0493b5\",\"type\":\"GlyphRenderer\"},{\"attributes\":{\"dimension\":1,\"plot\":{\"id\":\"d8388f20-687d-47a7-88c3-e785246d4dea\",\"subtype\":\"Chart\",\"type\":\"Plot\"},\"ticker\":{\"id\":\"9cbba372-3085-49ea-9828-d93f6635a78b\",\"type\":\"BasicTicker\"}},\"id\":\"49828cd1-ec94-4783-a337-f4d09a952e2e\",\"type\":\"Grid\"},{\"attributes\":{\"fill_alpha\":{\"field\":\"fill_alpha\"},\"fill_color\":{\"field\":\"color\"},\"height\":{\"field\":\"height\",\"units\":\"data\"},\"line_color\":{\"field\":\"line_color\"},\"width\":{\"field\":\"width\",\"units\":\"data\"},\"x\":{\"field\":\"x\"},\"y\":{\"field\":\"y\"}},\"id\":\"0a4bb25f-e31d-4bc5-902e-738d19942750\",\"type\":\"Rect\"},{\"attributes\":{\"sizing_mode\":\"scale_width\",\"toolbar_location\":\"above\",\"tools\":[{\"id\":\"c77bee5c-5fe2-459e-b992-92f871ed5fdc\",\"type\":\"PanTool\"},{\"id\":\"e9c5d442-27bd-4608-ad27-c21b4605f2d3\",\"type\":\"WheelZoomTool\"},{\"id\":\"fa0dd62a-c22a-4b84-b262-cb71fec2db92\",\"type\":\"BoxZoomTool\"},{\"id\":\"8cffc8e5-c4b0-4017-b44f-51d18da45198\",\"type\":\"SaveTool\"},{\"id\":\"f89fd60f-8bd0-406f-bbb1-0f0b26b3bd85\",\"type\":\"ResetTool\"},{\"id\":\"9ca1636b-241c-4137-ac53-b5fb3e9c0644\",\"type\":\"HelpTool\"},{\"id\":\"091dc7ac-4a33-447c-bb03-7105719ff6a1\",\"type\":\"PanTool\"},{\"id\":\"01ff77d1-7772-4638-9758-77bff58f57cb\",\"type\":\"WheelZoomTool\"},{\"id\":\"6b07ec7b-67d9-4de1-87c8-177282cafb9c\",\"type\":\"BoxZoomTool\"},{\"id\":\"fdb36302-96e2-4bea-8aa8-33195f7f9d6a\",\"type\":\"SaveTool\"},{\"id\":\"e93c3873-27a0-48bb-8d15-385bef70e2ef\",\"type\":\"ResetTool\"},{\"id\":\"bfbcdcd3-7ba8-4f39-8afe-0f6cf7b136f6\",\"type\":\"HelpTool\"},{\"id\":\"b11e8357-3ba3-4282-a5de-22c988d755a7\",\"type\":\"PanTool\"},{\"id\":\"26b470f5-516a-48a8-9cce-0f5d67454e1f\",\"type\":\"WheelZoomTool\"},{\"id\":\"c9193492-01af-42c4-b988-4f361c51533d\",\"type\":\"BoxZoomTool\"},{\"id\":\"99ed8895-2225-4b81-8e46-ece580fda3ea\",\"type\":\"SaveTool\"},{\"id\":\"b382a98d-9ced-46ae-9480-cf2eade24772\",\"type\":\"ResetTool\"},{\"id\":\"276f7a15-46e4-4cc3-9142-f0932860545f\",\"type\":\"HelpTool\"},{\"id\":\"c2da738e-2f2b-48ac-8024-53ff49b81adc\",\"type\":\"PanTool\"},{\"id\":\"c8787c5d-f09d-4722-ada9-8d7c6ed5a331\",\"type\":\"WheelZoomTool\"},{\"id\":\"14363703-af8a-45c8-99ff-eeca094da345\",\"type\":\"BoxZoomTool\"},{\"id\":\"714fa2d9-657e-4fb6-80b8-ea5e066e4998\",\"type\":\"SaveTool\"},{\"id\":\"da036669-c440-46c5-9c32-4fa57915593a\",\"type\":\"ResetTool\"},{\"id\":\"5f2e000d-9af3-42d3-9446-0e639ecdb088\",\"type\":\"HelpTool\"}]},\"id\":\"ed4b000c-6c29-455c-9653-aec2192a655a\",\"type\":\"ToolbarBox\"},{\"attributes\":{\"fill_alpha\":{\"field\":\"fill_alpha\"},\"fill_color\":{\"field\":\"color\"},\"height\":{\"field\":\"height\",\"units\":\"data\"},\"line_color\":{\"field\":\"line_color\"},\"width\":{\"field\":\"width\",\"units\":\"data\"},\"x\":{\"field\":\"x\"},\"y\":{\"field\":\"y\"}},\"id\":\"6d49ddf7-3c39-417f-8dfa-8880b1486f91\",\"type\":\"Rect\"},{\"attributes\":{\"data_source\":{\"id\":\"9a93d83e-c863-4590-844f-bd2a51f53f06\",\"type\":\"ColumnDataSource\"},\"glyph\":{\"id\":\"b860c301-3942-4337-b8c4-8595e25a4a7a\",\"type\":\"Rect\"},\"hover_glyph\":null,\"nonselection_glyph\":null,\"selection_glyph\":null},\"id\":\"b01eeb0c-1e06-4291-967e-c2494f5bdf61\",\"type\":\"GlyphRenderer\"},{\"attributes\":{\"callback\":null,\"column_names\":[\"width\",\"label\",\"line_color\",\"line_alpha\",\"color\",\"y\",\"height\",\"x\",\"fill_alpha\"],\"data\":{\"chart_index\":[\"(78.952501, 80.603295]\"],\"color\":[\"#f22c40\"],\"fill_alpha\":[0.8],\"height\":[1.0],\"label\":[\"(78.952501, 80.603295]\"],\"line_alpha\":[1.0],\"line_color\":[\"black\"],\"width\":[1.650793957214745],\"x\":[\"79.777898\"],\"y\":[0.5]}},\"id\":\"066e7a82-82ff-43bd-b396-a0aa8667079c\",\"type\":\"ColumnDataSource\"},{\"attributes\":{\"callback\":null,\"column_names\":[\"width\",\"label\",\"line_color\",\"line_alpha\",\"color\",\"y\",\"height\",\"x\",\"fill_alpha\"],\"data\":{\"chart_index\":[\"(65.746150, 67.396944]\"],\"color\":[\"#f22c40\"],\"fill_alpha\":[0.8],\"height\":[25.0],\"label\":[\"(65.746150, 67.396944]\"],\"line_alpha\":[1.0],\"line_color\":[\"black\"],\"width\":[1.650793957214745],\"x\":[\"66.57154700000001\"],\"y\":[12.5]}},\"id\":\"cee46518-8a49-47e2-a8ee-7a198abe3122\",\"type\":\"ColumnDataSource\"},{\"attributes\":{\"data_source\":{\"id\":\"1b24336d-9bc6-473b-8900-711858d7b216\",\"type\":\"ColumnDataSource\"},\"glyph\":{\"id\":\"4fd880ee-8b4d-41db-81c3-ad592d8a9da6\",\"type\":\"Rect\"},\"hover_glyph\":null,\"nonselection_glyph\":null,\"selection_glyph\":null},\"id\":\"ce0aa549-2e7d-46ee-817d-04d94d9e2a7d\",\"type\":\"GlyphRenderer\"},{\"attributes\":{\"callback\":null,\"column_names\":[\"width\",\"label\",\"line_color\",\"line_alpha\",\"color\",\"y\",\"height\",\"x\",\"fill_alpha\"],\"data\":{\"chart_index\":[\"(22.886471, 24.863451]\"],\"color\":[\"#f22c40\"],\"fill_alpha\":[0.8],\"height\":[47.0],\"label\":[\"(22.886471, 24.863451]\"],\"line_alpha\":[1.0],\"line_color\":[\"black\"],\"width\":[1.976980165044921],\"x\":[\"23.874961\"],\"y\":[23.5]}},\"id\":\"82ce0ec1-5ec9-460a-94d7-6eb4d0a70cfc\",\"type\":\"ColumnDataSource\"},{\"attributes\":{\"fill_alpha\":{\"field\":\"fill_alpha\"},\"fill_color\":{\"field\":\"color\"},\"height\":{\"field\":\"height\",\"units\":\"data\"},\"line_color\":{\"field\":\"line_color\"},\"width\":{\"field\":\"width\",\"units\":\"data\"},\"x\":{\"field\":\"x\"},\"y\":{\"field\":\"y\"}},\"id\":\"94d61a6f-75b8-43f6-9440-7cc6a1938418\",\"type\":\"Rect\"},{\"attributes\":{\"data_source\":{\"id\":\"67325298-5df1-48d5-9e46-65eb33158041\",\"type\":\"ColumnDataSource\"},\"glyph\":{\"id\":\"67ea0e92-fc63-4e3a-93b4-8b8d6ac85e31\",\"type\":\"Rect\"},\"hover_glyph\":null,\"nonselection_glyph\":null,\"selection_glyph\":null},\"id\":\"6eb6d74c-c42d-40e4-a045-75046e452da9\",\"type\":\"GlyphRenderer\"},{\"attributes\":{\"fill_alpha\":{\"field\":\"fill_alpha\"},\"fill_color\":{\"field\":\"color\"},\"height\":{\"field\":\"height\",\"units\":\"data\"},\"line_color\":{\"field\":\"line_color\"},\"width\":{\"field\":\"width\",\"units\":\"data\"},\"x\":{\"field\":\"x\"},\"y\":{\"field\":\"y\"}},\"id\":\"f5171387-52ba-4976-a4c4-e56454d0a6e7\",\"type\":\"Rect\"},{\"attributes\":{\"data_source\":{\"id\":\"38a7134f-1136-4900-aa34-60fb3d6799bb\",\"type\":\"ColumnDataSource\"},\"glyph\":{\"id\":\"ce5f8f9d-8414-4d01-bb39-2a323a2443ea\",\"type\":\"Rect\"},\"hover_glyph\":null,\"nonselection_glyph\":null,\"selection_glyph\":null},\"id\":\"8a639161-4c78-467d-9066-b186573ca90c\",\"type\":\"GlyphRenderer\"},{\"attributes\":{\"data_source\":{\"id\":\"48ae413e-196d-4722-bf70-cbb868b69853\",\"type\":\"ColumnDataSource\"},\"glyph\":{\"id\":\"affded98-0f2a-4d38-939e-266c549e8b9b\",\"type\":\"Rect\"},\"hover_glyph\":null,\"nonselection_glyph\":null,\"selection_glyph\":null},\"id\":\"fd839449-6494-4f3e-a5e7-a523467911c5\",\"type\":\"GlyphRenderer\"},{\"attributes\":{\"callback\":null,\"column_names\":[\"width\",\"label\",\"line_color\",\"line_alpha\",\"color\",\"y\",\"height\",\"x\",\"fill_alpha\"],\"data\":{\"chart_index\":[\"(91.992126, 93.991706]\"],\"color\":[\"#f22c40\"],\"fill_alpha\":[0.8],\"height\":[191.0],\"label\":[\"(91.992126, 93.991706]\"],\"line_alpha\":[1.0],\"line_color\":[\"black\"],\"width\":[1.9995804859201343],\"x\":[\"92.991916\"],\"y\":[95.5]}},\"id\":\"d583df3f-9feb-482b-b6ca-59a42ff5166a\",\"type\":\"ColumnDataSource\"},{\"attributes\":{\"data_source\":{\"id\":\"3bb2e23d-1ae0-448a-91a5-f61e5fdda43a\",\"type\":\"ColumnDataSource\"},\"glyph\":{\"id\":\"e9b1b784-1b3e-4551-b51e-8751ca480829\",\"type\":\"Rect\"},\"hover_glyph\":null,\"nonselection_glyph\":null,\"selection_glyph\":null},\"id\":\"4049e577-ac84-44df-aac4-2646fab702a8\",\"type\":\"GlyphRenderer\"},{\"attributes\":{\"fill_alpha\":{\"field\":\"fill_alpha\"},\"fill_color\":{\"field\":\"color\"},\"height\":{\"field\":\"height\",\"units\":\"data\"},\"line_color\":{\"field\":\"line_color\"},\"width\":{\"field\":\"width\",\"units\":\"data\"},\"x\":{\"field\":\"x\"},\"y\":{\"field\":\"y\"}},\"id\":\"cf55a73e-9a3d-4b62-b18c-b6bade552997\",\"type\":\"Rect\"},{\"attributes\":{\"callback\":null,\"column_names\":[\"width\",\"label\",\"line_color\",\"line_alpha\",\"color\",\"y\",\"height\",\"x\",\"fill_alpha\"],\"data\":{\"chart_index\":[\"(39.333446, 40.984240]\"],\"color\":[\"#f22c40\"],\"fill_alpha\":[0.8],\"height\":[614.0],\"label\":[\"(39.333446, 40.984240]\"],\"line_alpha\":[1.0],\"line_color\":[\"black\"],\"width\":[1.650793957214745],\"x\":[\"40.158843000000005\"],\"y\":[307.0]}},\"id\":\"2bf2489b-1d73-489d-9a6c-7b5b885db810\",\"type\":\"ColumnDataSource\"},{\"attributes\":{\"fill_alpha\":{\"field\":\"fill_alpha\"},\"fill_color\":{\"field\":\"color\"},\"height\":{\"field\":\"height\",\"units\":\"data\"},\"line_color\":{\"field\":\"line_color\"},\"width\":{\"field\":\"width\",\"units\":\"data\"},\"x\":{\"field\":\"x\"},\"y\":{\"field\":\"y\"}},\"id\":\"cc0fd7e1-374f-4a2e-9b4d-f2b42b9aa36d\",\"type\":\"Rect\"},{\"attributes\":{\"data_source\":{\"id\":\"21c67542-1fdf-4784-a18e-766602c7229b\",\"type\":\"ColumnDataSource\"},\"glyph\":{\"id\":\"987886c9-f722-4bb5-886f-eb89eb199bc0\",\"type\":\"Rect\"},\"hover_glyph\":null,\"nonselection_glyph\":null,\"selection_glyph\":null},\"id\":\"e6946d4a-8afe-4e41-8534-8ba807d7726a\",\"type\":\"GlyphRenderer\"},{\"attributes\":{\"callback\":null,\"column_names\":[\"width\",\"label\",\"line_color\",\"line_alpha\",\"color\",\"y\",\"height\",\"x\",\"fill_alpha\"],\"data\":{\"chart_index\":[\"(113.827559, 115.804539]\"],\"color\":[\"#f22c40\"],\"fill_alpha\":[0.8],\"height\":[63.0],\"label\":[\"(113.827559, 115.804539]\"],\"line_alpha\":[1.0],\"line_color\":[\"black\"],\"width\":[1.976980165044921],\"x\":[\"114.81604899999999\"],\"y\":[31.5]}},\"id\":\"1f09bd7f-8b7c-49b7-b257-b9d2f668b29e\",\"type\":\"ColumnDataSource\"},{\"attributes\":{\"callback\":null,\"column_names\":[\"width\",\"label\",\"line_color\",\"line_alpha\",\"color\",\"y\",\"height\",\"x\",\"fill_alpha\"],\"data\":{\"chart_index\":[\"(12.920743, 14.571537]\"],\"color\":[\"#f22c40\"],\"fill_alpha\":[0.8],\"height\":[28.0],\"label\":[\"(12.920743, 14.571537]\"],\"line_alpha\":[1.0],\"line_color\":[\"black\"],\"width\":[1.6507939572147432],\"x\":[\"13.74614\"],\"y\":[14.0]}},\"id\":\"3dff1fb3-61e7-4954-8c06-79265a2c1dfb\",\"type\":\"ColumnDataSource\"},{\"attributes\":{\"fill_alpha\":{\"field\":\"fill_alpha\"},\"fill_color\":{\"field\":\"color\"},\"height\":{\"field\":\"height\",\"units\":\"data\"},\"line_color\":{\"field\":\"line_color\"},\"width\":{\"field\":\"width\",\"units\":\"data\"},\"x\":{\"field\":\"x\"},\"y\":{\"field\":\"y\"}},\"id\":\"baf6df35-759f-4c57-9bce-911e1dd56012\",\"type\":\"Rect\"},{\"attributes\":{\"callback\":null,\"column_names\":[\"width\",\"label\",\"line_color\",\"line_alpha\",\"color\",\"y\",\"height\",\"x\",\"fill_alpha\"],\"data\":{\"chart_index\":[\"(773.443152, 791.430092]\"],\"color\":[\"#f22c40\"],\"fill_alpha\":[0.8],\"height\":[0.0],\"label\":[\"(773.443152, 791.430092]\"],\"line_alpha\":[1.0],\"line_color\":[\"black\"],\"width\":[17.98694043395585],\"x\":[\"782.4366219999999\"],\"y\":[0.0]}},\"id\":\"2712a2f4-cf4b-41b4-8506-198161b3ee4e\",\"type\":\"ColumnDataSource\"},{\"attributes\":{\"fill_alpha\":{\"field\":\"fill_alpha\"},\"fill_color\":{\"field\":\"color\"},\"height\":{\"field\":\"height\",\"units\":\"data\"},\"line_color\":{\"field\":\"line_color\"},\"width\":{\"field\":\"width\",\"units\":\"data\"},\"x\":{\"field\":\"x\"},\"y\":{\"field\":\"y\"}},\"id\":\"dc0fa21e-df84-4b70-800f-c4f184e4f35d\",\"type\":\"Rect\"},{\"attributes\":{\"data_source\":{\"id\":\"637abe4b-2f75-4e03-8860-6391fbf60b18\",\"type\":\"ColumnDataSource\"},\"glyph\":{\"id\":\"c3267417-f698-4742-a842-aa262a94a1cf\",\"type\":\"Rect\"},\"hover_glyph\":null,\"nonselection_glyph\":null,\"selection_glyph\":null},\"id\":\"8971fbc4-e786-47aa-ad44-2c336948f672\",\"type\":\"GlyphRenderer\"},{\"attributes\":{\"children\":[{\"id\":\"ce375b00-e984-4f4e-92bf-4fc9f8979782\",\"type\":\"Row\"},{\"id\":\"a85f454c-c9b2-4353-b498-7eec3b45df03\",\"type\":\"Row\"}]},\"id\":\"6165c40e-4418-4580-975f-d1e1b4c1b28f\",\"type\":\"Column\"},{\"attributes\":{\"fill_alpha\":{\"field\":\"fill_alpha\"},\"fill_color\":{\"field\":\"color\"},\"height\":{\"field\":\"height\",\"units\":\"data\"},\"line_color\":{\"field\":\"line_color\"},\"width\":{\"field\":\"width\",\"units\":\"data\"},\"x\":{\"field\":\"x\"},\"y\":{\"field\":\"y\"}},\"id\":\"96b0429e-7b83-458e-ad44-6c40a0a3a109\",\"type\":\"Rect\"},{\"attributes\":{\"fill_alpha\":{\"field\":\"fill_alpha\"},\"fill_color\":{\"field\":\"color\"},\"height\":{\"field\":\"height\",\"units\":\"data\"},\"line_color\":{\"field\":\"line_color\"},\"width\":{\"field\":\"width\",\"units\":\"data\"},\"x\":{\"field\":\"x\"},\"y\":{\"field\":\"y\"}},\"id\":\"57d0ab1e-31fa-4e2d-a280-a47f7a3cb788\",\"type\":\"Rect\"},{\"attributes\":{\"fill_alpha\":{\"field\":\"fill_alpha\"},\"fill_color\":{\"field\":\"color\"},\"height\":{\"field\":\"height\",\"units\":\"data\"},\"line_color\":{\"field\":\"line_color\"},\"width\":{\"field\":\"width\",\"units\":\"data\"},\"x\":{\"field\":\"x\"},\"y\":{\"field\":\"y\"}},\"id\":\"3fcb0ec8-d1f9-444e-8778-83dd559d1805\",\"type\":\"Rect\"},{\"attributes\":{\"data_source\":{\"id\":\"a0a9937f-9b1b-4859-b049-310c53613cd2\",\"type\":\"ColumnDataSource\"},\"glyph\":{\"id\":\"569fa248-f814-4072-b565-7f86d83a8906\",\"type\":\"Rect\"},\"hover_glyph\":null,\"nonselection_glyph\":null,\"selection_glyph\":null},\"id\":\"01d2c061-58bb-4ec1-bbc4-f1be3d1160a6\",\"type\":\"GlyphRenderer\"},{\"attributes\":{\"data_source\":{\"id\":\"81eeb857-17b1-4da6-8d95-049bd114f06e\",\"type\":\"ColumnDataSource\"},\"glyph\":{\"id\":\"42d6448f-56ba-47d4-b29f-a88450ff687a\",\"type\":\"Rect\"},\"hover_glyph\":null,\"nonselection_glyph\":null,\"selection_glyph\":null},\"id\":\"d0cc5212-3c46-4db3-89b7-003e35342c28\",\"type\":\"GlyphRenderer\"},{\"attributes\":{\"fill_alpha\":{\"field\":\"fill_alpha\"},\"fill_color\":{\"field\":\"color\"},\"height\":{\"field\":\"height\",\"units\":\"data\"},\"line_color\":{\"field\":\"line_color\"},\"width\":{\"field\":\"width\",\"units\":\"data\"},\"x\":{\"field\":\"x\"},\"y\":{\"field\":\"y\"}},\"id\":\"56551520-b372-4c9b-812d-6341056a5a88\",\"type\":\"Rect\"},{\"attributes\":{\"data_source\":{\"id\":\"21abf22a-b4e0-461b-ac86-e19649cfe362\",\"type\":\"ColumnDataSource\"},\"glyph\":{\"id\":\"b31e09c1-cac5-488b-a2e7-b41a96b7df87\",\"type\":\"Rect\"},\"hover_glyph\":null,\"nonselection_glyph\":null,\"selection_glyph\":null},\"id\":\"20d21b1e-e3fa-4eed-b716-44858ebd02fe\",\"type\":\"GlyphRenderer\"},{\"attributes\":{\"data_source\":{\"id\":\"2e89cf15-2a3a-4b26-9134-102816c03df0\",\"type\":\"ColumnDataSource\"},\"glyph\":{\"id\":\"689a0169-b615-4561-84e6-e201a93640e3\",\"type\":\"Rect\"},\"hover_glyph\":null,\"nonselection_glyph\":null,\"selection_glyph\":null},\"id\":\"700d0969-5e3a-47c8-b2b4-ff571bf53701\",\"type\":\"GlyphRenderer\"},{\"attributes\":{\"fill_alpha\":{\"field\":\"fill_alpha\"},\"fill_color\":{\"field\":\"color\"},\"height\":{\"field\":\"height\",\"units\":\"data\"},\"line_color\":{\"field\":\"line_color\"},\"width\":{\"field\":\"width\",\"units\":\"data\"},\"x\":{\"field\":\"x\"},\"y\":{\"field\":\"y\"}},\"id\":\"2973e735-80b7-4956-b6eb-83a494f391c7\",\"type\":\"Rect\"},{\"attributes\":{\"data_source\":{\"id\":\"b09a246e-3167-48dd-810d-580ac29879b0\",\"type\":\"ColumnDataSource\"},\"glyph\":{\"id\":\"97ab1150-6711-4064-b463-2b9fb57db16d\",\"type\":\"Rect\"},\"hover_glyph\":null,\"nonselection_glyph\":null,\"selection_glyph\":null},\"id\":\"0c88a406-038f-4eed-b2cf-8e398bc42f1d\",\"type\":\"GlyphRenderer\"},{\"attributes\":{\"callback\":null,\"column_names\":[\"width\",\"label\",\"line_color\",\"line_alpha\",\"color\",\"y\",\"height\",\"x\",\"fill_alpha\"],\"data\":{\"chart_index\":[\"(26.127095, 27.777889]\"],\"color\":[\"#f22c40\"],\"fill_alpha\":[0.8],\"height\":[260.0],\"label\":[\"(26.127095, 27.777889]\"],\"line_alpha\":[1.0],\"line_color\":[\"black\"],\"width\":[1.6507939572147414],\"x\":[\"26.952492\"],\"y\":[130.0]}},\"id\":\"aafca249-83dc-4173-a4c1-d3fec22a02ae\",\"type\":\"ColumnDataSource\"},{\"attributes\":{\"callback\":null,\"column_names\":[\"width\",\"label\",\"line_color\",\"line_alpha\",\"color\",\"y\",\"height\",\"x\",\"fill_alpha\"],\"data\":{\"chart_index\":[\"(377.730462, 395.717403]\"],\"color\":[\"#f22c40\"],\"fill_alpha\":[0.8],\"height\":[49.0],\"label\":[\"(377.730462, 395.717403]\"],\"line_alpha\":[1.0],\"line_color\":[\"black\"],\"width\":[17.98694043395591],\"x\":[\"386.7239325\"],\"y\":[24.5]}},\"id\":\"5500c41e-3eed-4ff2-aeb8-9cadfad56c49\",\"type\":\"ColumnDataSource\"},{\"attributes\":{\"callback\":null,\"column_names\":[\"width\",\"label\",\"line_color\",\"line_alpha\",\"color\",\"y\",\"height\",\"x\",\"fill_alpha\"],\"data\":{\"chart_index\":[\"(19.523919, 21.174713]\"],\"color\":[\"#f22c40\"],\"fill_alpha\":[0.8],\"height\":[93.0],\"label\":[\"(19.523919, 21.174713]\"],\"line_alpha\":[1.0],\"line_color\":[\"black\"],\"width\":[1.650793957214745],\"x\":[\"20.349316\"],\"y\":[46.5]}},\"id\":\"71669fb3-2e7e-4734-96f4-79ae3556a4bb\",\"type\":\"ColumnDataSource\"},{\"attributes\":{\"fill_alpha\":{\"field\":\"fill_alpha\"},\"fill_color\":{\"field\":\"color\"},\"height\":{\"field\":\"height\",\"units\":\"data\"},\"line_color\":{\"field\":\"line_color\"},\"width\":{\"field\":\"width\",\"units\":\"data\"},\"x\":{\"field\":\"x\"},\"y\":{\"field\":\"y\"}},\"id\":\"8afbf209-35cf-4d13-b4aa-5588cbb48d9a\",\"type\":\"Rect\"},{\"attributes\":{\"data_source\":{\"id\":\"cee46518-8a49-47e2-a8ee-7a198abe3122\",\"type\":\"ColumnDataSource\"},\"glyph\":{\"id\":\"19f35382-0e1b-467d-ab4e-0a19a7d59b4c\",\"type\":\"Rect\"},\"hover_glyph\":null,\"nonselection_glyph\":null,\"selection_glyph\":null},\"id\":\"c61cfa0b-39b9-48a4-a7ea-49023666ba41\",\"type\":\"GlyphRenderer\"},{\"attributes\":{\"callback\":null,\"end\":82.56996727860736,\"start\":-3.903075278607372},\"id\":\"f0484d95-5547-4a8d-8c48-800ae97243e1\",\"type\":\"Range1d\"},{\"attributes\":{\"fill_alpha\":{\"field\":\"fill_alpha\"},\"fill_color\":{\"field\":\"color\"},\"height\":{\"field\":\"height\",\"units\":\"data\"},\"line_color\":{\"field\":\"line_color\"},\"width\":{\"field\":\"width\",\"units\":\"data\"},\"x\":{\"field\":\"x\"},\"y\":{\"field\":\"y\"}},\"id\":\"9f350d5d-c81f-4a85-add5-17a31b739b79\",\"type\":\"Rect\"},{\"attributes\":{\"callback\":null,\"column_names\":[\"width\",\"label\",\"line_color\",\"line_alpha\",\"color\",\"y\",\"height\",\"x\",\"fill_alpha\"],\"data\":{\"chart_index\":[\"(67.997160, 69.996741]\"],\"color\":[\"#f22c40\"],\"fill_alpha\":[0.8],\"height\":[194.0],\"label\":[\"(67.997160, 69.996741]\"],\"line_alpha\":[1.0],\"line_color\":[\"black\"],\"width\":[1.9995804859201485],\"x\":[\"68.9969505\"],\"y\":[97.0]}},\"id\":\"895c5961-a346-45ab-ab9c-84314303d057\",\"type\":\"ColumnDataSource\"},{\"attributes\":{\"plot\":{\"id\":\"c3ea08f3-860f-46d2-a08d-837617200cb5\",\"subtype\":\"Chart\",\"type\":\"Plot\"}},\"id\":\"f89fd60f-8bd0-406f-bbb1-0f0b26b3bd85\",\"type\":\"ResetTool\"},{\"attributes\":{\"data_source\":{\"id\":\"645fd119-846d-43f2-8228-2150b4d04974\",\"type\":\"ColumnDataSource\"},\"glyph\":{\"id\":\"585f95ca-4898-4b75-9b54-a43c48043d0e\",\"type\":\"Rect\"},\"hover_glyph\":null,\"nonselection_glyph\":null,\"selection_glyph\":null},\"id\":\"6efeccb6-5635-4799-89f9-f8410287ec2e\",\"type\":\"GlyphRenderer\"},{\"attributes\":{\"fill_alpha\":{\"field\":\"fill_alpha\"},\"fill_color\":{\"field\":\"color\"},\"height\":{\"field\":\"height\",\"units\":\"data\"},\"line_color\":{\"field\":\"line_color\"},\"width\":{\"field\":\"width\",\"units\":\"data\"},\"x\":{\"field\":\"x\"},\"y\":{\"field\":\"y\"}},\"id\":\"6768b293-c1f4-4f75-8a48-e3ff242817e0\",\"type\":\"Rect\"},{\"attributes\":{\"data_source\":{\"id\":\"48e4178c-16e9-47fb-8680-afe5423dda45\",\"type\":\"ColumnDataSource\"},\"glyph\":{\"id\":\"792ba854-522a-4760-9318-dbecdc50aea2\",\"type\":\"Rect\"},\"hover_glyph\":null,\"nonselection_glyph\":null,\"selection_glyph\":null},\"id\":\"229465f9-b221-49f8-b662-f9e47b2e1726\",\"type\":\"GlyphRenderer\"},{\"attributes\":{\"callback\":null,\"column_names\":[\"width\",\"label\",\"line_color\",\"line_alpha\",\"color\",\"y\",\"height\",\"x\",\"fill_alpha\"],\"data\":{\"chart_index\":[\"(26.005970, 28.005550]\"],\"color\":[\"#f22c40\"],\"fill_alpha\":[0.8],\"height\":[217.0],\"label\":[\"(26.005970, 28.005550]\"],\"line_alpha\":[1.0],\"line_color\":[\"black\"],\"width\":[1.9995804859201343],\"x\":[\"27.005760000000002\"],\"y\":[108.5]}},\"id\":\"cc017f27-7253-481a-85f9-b4d5a090a980\",\"type\":\"ColumnDataSource\"},{\"attributes\":{\"fill_alpha\":{\"field\":\"fill_alpha\"},\"fill_color\":{\"field\":\"color\"},\"height\":{\"field\":\"height\",\"units\":\"data\"},\"line_color\":{\"field\":\"line_color\"},\"width\":{\"field\":\"width\",\"units\":\"data\"},\"x\":{\"field\":\"x\"},\"y\":{\"field\":\"y\"}},\"id\":\"e4035ad3-a571-4a61-8371-72ff65186330\",\"type\":\"Rect\"},{\"attributes\":{\"callback\":null,\"column_names\":[\"width\",\"label\",\"line_color\",\"line_alpha\",\"color\",\"y\",\"height\",\"x\",\"fill_alpha\"],\"data\":{\"chart_index\":[\"(72.349326, 74.000120]\"],\"color\":[\"#f22c40\"],\"fill_alpha\":[0.8],\"height\":[5.0],\"label\":[\"(72.349326, 74.000120]\"],\"line_alpha\":[1.0],\"line_color\":[\"black\"],\"width\":[1.650793957214745],\"x\":[\"73.174723\"],\"y\":[2.5]}},\"id\":\"64d7503a-e926-47c8-a334-e70a170c5c12\",\"type\":\"ColumnDataSource\"},{\"attributes\":{\"callback\":null,\"column_names\":[\"width\",\"label\",\"line_color\",\"line_alpha\",\"color\",\"y\",\"height\",\"x\",\"fill_alpha\"],\"data\":{\"chart_index\":[\"(73.995901, 75.995482]\"],\"color\":[\"#f22c40\"],\"fill_alpha\":[0.8],\"height\":[204.0],\"label\":[\"(73.995901, 75.995482]\"],\"line_alpha\":[1.0],\"line_color\":[\"black\"],\"width\":[1.9995804859201343],\"x\":[\"74.99569149999999\"],\"y\":[102.0]}},\"id\":\"81eeb857-17b1-4da6-8d95-049bd114f06e\",\"type\":\"ColumnDataSource\"},{\"attributes\":{\"data_source\":{\"id\":\"e8c59c06-e80f-42dd-9243-7ea5eef31b02\",\"type\":\"ColumnDataSource\"},\"glyph\":{\"id\":\"a4a357d9-0eed-45e9-a0b9-a684c2dff4a8\",\"type\":\"Rect\"},\"hover_glyph\":null,\"nonselection_glyph\":null,\"selection_glyph\":null},\"id\":\"76f709cf-cfba-4495-b955-31535b1a5be0\",\"type\":\"GlyphRenderer\"},{\"attributes\":{\"callback\":null,\"column_names\":[\"width\",\"label\",\"line_color\",\"line_alpha\",\"color\",\"y\",\"height\",\"x\",\"fill_alpha\"],\"data\":{\"chart_index\":[\"(89.939415, 107.926356]\"],\"color\":[\"#f22c40\"],\"fill_alpha\":[0.8],\"height\":[626.0],\"label\":[\"(89.939415, 107.926356]\"],\"line_alpha\":[1.0],\"line_color\":[\"black\"],\"width\":[17.986940433955894],\"x\":[\"98.9328855\"],\"y\":[313.0]}},\"id\":\"d5ee9d64-865e-4c09-a740-d8b524a0b961\",\"type\":\"ColumnDataSource\"},{\"attributes\":{\"data_source\":{\"id\":\"90fdbe72-9ac6-48eb-b7ef-e6b17bcebcea\",\"type\":\"ColumnDataSource\"},\"glyph\":{\"id\":\"c1a3e0d2-1595-41fc-a3aa-2ce24aabb96d\",\"type\":\"Rect\"},\"hover_glyph\":null,\"nonselection_glyph\":null,\"selection_glyph\":null},\"id\":\"9b4592e8-d850-415c-8195-4f6eba496ebd\",\"type\":\"GlyphRenderer\"},{\"attributes\":{\"data_source\":{\"id\":\"d5ee9d64-865e-4c09-a740-d8b524a0b961\",\"type\":\"ColumnDataSource\"},\"glyph\":{\"id\":\"b54ecdd2-3ad4-42a9-96f4-48e9ddbcc09a\",\"type\":\"Rect\"},\"hover_glyph\":null,\"nonselection_glyph\":null,\"selection_glyph\":null},\"id\":\"13133bbb-74dd-418d-aed4-a40b46a06eb6\",\"type\":\"GlyphRenderer\"},{\"attributes\":{\"data_source\":{\"id\":\"83ebcbd0-54cd-4678-9fc1-e3caeacea3db\",\"type\":\"ColumnDataSource\"},\"glyph\":{\"id\":\"140ebb8c-5dfb-489c-a055-0b682ea6b201\",\"type\":\"Rect\"},\"hover_glyph\":null,\"nonselection_glyph\":null,\"selection_glyph\":null},\"id\":\"4e9c0d42-0c4c-44b0-b834-ecfbcb22548c\",\"type\":\"GlyphRenderer\"},{\"attributes\":{\"fill_alpha\":{\"field\":\"fill_alpha\"},\"fill_color\":{\"field\":\"color\"},\"height\":{\"field\":\"height\",\"units\":\"data\"},\"line_color\":{\"field\":\"line_color\"},\"width\":{\"field\":\"width\",\"units\":\"data\"},\"x\":{\"field\":\"x\"},\"y\":{\"field\":\"y\"}},\"id\":\"21083c2b-8b70-41d7-8860-4105995e1e7d\",\"type\":\"Rect\"},{\"attributes\":{\"fill_alpha\":{\"field\":\"fill_alpha\"},\"fill_color\":{\"field\":\"color\"},\"height\":{\"field\":\"height\",\"units\":\"data\"},\"line_color\":{\"field\":\"line_color\"},\"width\":{\"field\":\"width\",\"units\":\"data\"},\"x\":{\"field\":\"x\"},\"y\":{\"field\":\"y\"}},\"id\":\"db0a2cb7-2e9f-4f1d-9c8b-0df240b215af\",\"type\":\"Rect\"},{\"attributes\":{\"callback\":null,\"column_names\":[\"width\",\"label\",\"line_color\",\"line_alpha\",\"color\",\"y\",\"height\",\"x\",\"fill_alpha\"],\"data\":{\"chart_index\":[\"(575.586807, 593.573747]\"],\"color\":[\"#f22c40\"],\"fill_alpha\":[0.8],\"height\":[5.0],\"label\":[\"(575.586807, 593.573747]\"],\"line_alpha\":[1.0],\"line_color\":[\"black\"],\"width\":[17.98694043395585],\"x\":[\"584.580277\"],\"y\":[2.5]}},\"id\":\"1ac3e997-7e01-45fa-ab33-10a3a94b386f\",\"type\":\"ColumnDataSource\"},{\"attributes\":{\"callback\":null,\"column_names\":[\"width\",\"label\",\"line_color\",\"line_alpha\",\"color\",\"y\",\"height\",\"x\",\"fill_alpha\"],\"data\":{\"chart_index\":[\"(46.001775, 48.001355]\"],\"color\":[\"#f22c40\"],\"fill_alpha\":[0.8],\"height\":[195.0],\"label\":[\"(46.001775, 48.001355]\"],\"line_alpha\":[1.0],\"line_color\":[\"black\"],\"width\":[1.9995804859201343],\"x\":[\"47.001565\"],\"y\":[97.5]}},\"id\":\"e12708cb-3534-49b4-95f1-46c374e9ecc3\",\"type\":\"ColumnDataSource\"},{\"attributes\":{\"fill_alpha\":{\"field\":\"fill_alpha\"},\"fill_color\":{\"field\":\"color\"},\"height\":{\"field\":\"height\",\"units\":\"data\"},\"line_color\":{\"field\":\"line_color\"},\"width\":{\"field\":\"width\",\"units\":\"data\"},\"x\":{\"field\":\"x\"},\"y\":{\"field\":\"y\"}},\"id\":\"5ca20f2b-40de-45ac-9174-9ec25112a6b1\",\"type\":\"Rect\"},{\"attributes\":{\"data_source\":{\"id\":\"88bade4b-49ba-458f-9223-b8acf4a4bd16\",\"type\":\"ColumnDataSource\"},\"glyph\":{\"id\":\"fff1c9bd-f9f3-4d49-9c2b-4bf15f88b9e7\",\"type\":\"Rect\"},\"hover_glyph\":null,\"nonselection_glyph\":null,\"selection_glyph\":null},\"id\":\"38055dee-c360-4cac-99b0-d0564a5cdcf4\",\"type\":\"GlyphRenderer\"},{\"attributes\":{\"fill_alpha\":{\"field\":\"fill_alpha\"},\"fill_color\":{\"field\":\"color\"},\"height\":{\"field\":\"height\",\"units\":\"data\"},\"line_color\":{\"field\":\"line_color\"},\"width\":{\"field\":\"width\",\"units\":\"data\"},\"x\":{\"field\":\"x\"},\"y\":{\"field\":\"y\"}},\"id\":\"cd3e8c5b-0386-4d6b-bb7a-59b0c4103172\",\"type\":\"Rect\"},{\"attributes\":{\"callback\":null,\"column_names\":[\"width\",\"label\",\"line_color\",\"line_alpha\",\"color\",\"y\",\"height\",\"x\",\"fill_alpha\"],\"data\":{\"chart_index\":[\"(90.103797, 92.080777]\"],\"color\":[\"#f22c40\"],\"fill_alpha\":[0.8],\"height\":[258.0],\"label\":[\"(90.103797, 92.080777]\"],\"line_alpha\":[1.0],\"line_color\":[\"black\"],\"width\":[1.976980165044921],\"x\":[\"91.092287\"],\"y\":[129.0]}},\"id\":\"90fdbe72-9ac6-48eb-b7ef-e6b17bcebcea\",\"type\":\"ColumnDataSource\"},{\"attributes\":{\"fill_alpha\":{\"field\":\"fill_alpha\"},\"fill_color\":{\"field\":\"color\"},\"height\":{\"field\":\"height\",\"units\":\"data\"},\"line_color\":{\"field\":\"line_color\"},\"width\":{\"field\":\"width\",\"units\":\"data\"},\"x\":{\"field\":\"x\"},\"y\":{\"field\":\"y\"}},\"id\":\"c309a4c3-0465-4a11-a971-62e945f42921\",\"type\":\"Rect\"},{\"attributes\":{\"data_source\":{\"id\":\"51ae52d4-06cb-41cf-ae73-d0ed0bf45b75\",\"type\":\"ColumnDataSource\"},\"glyph\":{\"id\":\"e3b13616-c5db-4ff2-904b-7426ab8387ce\",\"type\":\"Rect\"},\"hover_glyph\":null,\"nonselection_glyph\":null,\"selection_glyph\":null},\"id\":\"4ae40071-ab25-48f7-9bd4-2fc60e473a44\",\"type\":\"GlyphRenderer\"},{\"attributes\":{\"bottom_units\":\"screen\",\"fill_alpha\":{\"value\":0.5},\"fill_color\":{\"value\":\"lightgrey\"},\"left_units\":\"screen\",\"level\":\"overlay\",\"line_alpha\":{\"value\":1.0},\"line_color\":{\"value\":\"black\"},\"line_dash\":[4,4],\"line_width\":{\"value\":2},\"plot\":null,\"render_mode\":\"css\",\"right_units\":\"screen\",\"top_units\":\"screen\"},\"id\":\"2eda5c29-2fd1-448f-b655-c51ef7b9a153\",\"type\":\"BoxAnnotation\"},{\"attributes\":{\"data_source\":{\"id\":\"5e1dfeed-1b14-40d5-8bb8-244a4cec94b8\",\"type\":\"ColumnDataSource\"},\"glyph\":{\"id\":\"62537b3a-51ed-454a-845f-e93e9c07c4ab\",\"type\":\"Rect\"},\"hover_glyph\":null,\"nonselection_glyph\":null,\"selection_glyph\":null},\"id\":\"7e745a86-f97c-41a9-8704-2475652e0b8f\",\"type\":\"GlyphRenderer\"},{\"attributes\":{},\"id\":\"d76064ad-5de5-4bce-be5c-6c89832fa090\",\"type\":\"BasicTicker\"},{\"attributes\":{\"fill_alpha\":{\"field\":\"fill_alpha\"},\"fill_color\":{\"field\":\"color\"},\"height\":{\"field\":\"height\",\"units\":\"data\"},\"line_color\":{\"field\":\"line_color\"},\"width\":{\"field\":\"width\",\"units\":\"data\"},\"x\":{\"field\":\"x\"},\"y\":{\"field\":\"y\"}},\"id\":\"e3b13616-c5db-4ff2-904b-7426ab8387ce\",\"type\":\"Rect\"},{\"attributes\":{\"callback\":null,\"column_names\":[\"width\",\"label\",\"line_color\",\"line_alpha\",\"color\",\"y\",\"height\",\"x\",\"fill_alpha\"],\"data\":{\"chart_index\":[\"(63.997999, 65.997580]\"],\"color\":[\"#f22c40\"],\"fill_alpha\":[0.8],\"height\":[188.0],\"label\":[\"(63.997999, 65.997580]\"],\"line_alpha\":[1.0],\"line_color\":[\"black\"],\"width\":[1.9995804859201343],\"x\":[\"64.9977895\"],\"y\":[94.0]}},\"id\":\"ad5d5926-969a-4496-9d1c-64c57848af02\",\"type\":\"ColumnDataSource\"},{\"attributes\":{\"fill_alpha\":{\"field\":\"fill_alpha\"},\"fill_color\":{\"field\":\"color\"},\"height\":{\"field\":\"height\",\"units\":\"data\"},\"line_color\":{\"field\":\"line_color\"},\"width\":{\"field\":\"width\",\"units\":\"data\"},\"x\":{\"field\":\"x\"},\"y\":{\"field\":\"y\"}},\"id\":\"c1fb465e-4a9a-4931-ab00-fac134a89f8b\",\"type\":\"Rect\"},{\"attributes\":{\"callback\":null,\"end\":344.3},\"id\":\"05e09af2-e619-4ef2-ac77-89c7154569d9\",\"type\":\"Range1d\"},{\"attributes\":{\"callback\":null,\"column_names\":[\"width\",\"label\",\"line_color\",\"line_alpha\",\"color\",\"y\",\"height\",\"x\",\"fill_alpha\"],\"data\":{\"chart_index\":[\"(105.919638, 107.896618]\"],\"color\":[\"#f22c40\"],\"fill_alpha\":[0.8],\"height\":[123.0],\"label\":[\"(105.919638, 107.896618]\"],\"line_alpha\":[1.0],\"line_color\":[\"black\"],\"width\":[1.976980165044921],\"x\":[\"106.908128\"],\"y\":[61.5]}},\"id\":\"7c890240-48c8-4ea4-81d6-094f5231c63d\",\"type\":\"ColumnDataSource\"},{\"attributes\":{\"data_source\":{\"id\":\"122470f1-d657-4bbd-b9d3-3bb42c0dcbf1\",\"type\":\"ColumnDataSource\"},\"glyph\":{\"id\":\"299b8fb9-fa82-43db-83e7-f88ec160666a\",\"type\":\"Rect\"},\"hover_glyph\":null,\"nonselection_glyph\":null,\"selection_glyph\":null},\"id\":\"3ae1c790-1b74-4283-b0cd-4f6b3c302bc3\",\"type\":\"GlyphRenderer\"},{\"attributes\":{\"fill_alpha\":{\"field\":\"fill_alpha\"},\"fill_color\":{\"field\":\"color\"},\"height\":{\"field\":\"height\",\"units\":\"data\"},\"line_color\":{\"field\":\"line_color\"},\"width\":{\"field\":\"width\",\"units\":\"data\"},\"x\":{\"field\":\"x\"},\"y\":{\"field\":\"y\"}},\"id\":\"aeb4876d-0b05-478f-8a29-3d260035d720\",\"type\":\"Rect\"},{\"attributes\":{\"fill_alpha\":{\"field\":\"fill_alpha\"},\"fill_color\":{\"field\":\"color\"},\"height\":{\"field\":\"height\",\"units\":\"data\"},\"line_color\":{\"field\":\"line_color\"},\"width\":{\"field\":\"width\",\"units\":\"data\"},\"x\":{\"field\":\"x\"},\"y\":{\"field\":\"y\"}},\"id\":\"cd2738b4-903b-4f38-86de-fb6a9c9c438a\",\"type\":\"Rect\"},{\"attributes\":{\"fill_alpha\":{\"field\":\"fill_alpha\"},\"fill_color\":{\"field\":\"color\"},\"height\":{\"field\":\"height\",\"units\":\"data\"},\"line_color\":{\"field\":\"line_color\"},\"width\":{\"field\":\"width\",\"units\":\"data\"},\"x\":{\"field\":\"x\"},\"y\":{\"field\":\"y\"}},\"id\":\"31074a4e-f0d2-41d8-96e8-1994704a9e47\",\"type\":\"Rect\"},{\"attributes\":{\"data_source\":{\"id\":\"73303ae9-02b1-4f55-b3d5-acb940a17bfb\",\"type\":\"ColumnDataSource\"},\"glyph\":{\"id\":\"fef72002-397f-4607-b058-828d2ae85ab2\",\"type\":\"Rect\"},\"hover_glyph\":null,\"nonselection_glyph\":null,\"selection_glyph\":null},\"id\":\"8398505f-7343-4352-9059-96e5f796a1a7\",\"type\":\"GlyphRenderer\"},{\"attributes\":{\"callback\":null,\"column_names\":[\"width\",\"label\",\"line_color\",\"line_alpha\",\"color\",\"y\",\"height\",\"x\",\"fill_alpha\"],\"data\":{\"chart_index\":[\"(197.861058, 215.847998]\"],\"color\":[\"#f22c40\"],\"fill_alpha\":[0.8],\"height\":[265.0],\"label\":[\"(197.861058, 215.847998]\"],\"line_alpha\":[1.0],\"line_color\":[\"black\"],\"width\":[17.98694043395591],\"x\":[\"206.85452800000002\"],\"y\":[132.5]}},\"id\":\"ad8227f0-6085-4095-865f-838914b11dd8\",\"type\":\"ColumnDataSource\"},{\"attributes\":{\"fill_alpha\":{\"field\":\"fill_alpha\"},\"fill_color\":{\"field\":\"color\"},\"height\":{\"field\":\"height\",\"units\":\"data\"},\"line_color\":{\"field\":\"line_color\"},\"width\":{\"field\":\"width\",\"units\":\"data\"},\"x\":{\"field\":\"x\"},\"y\":{\"field\":\"y\"}},\"id\":\"a773dfbb-01ea-4c72-9957-a763e3f17061\",\"type\":\"Rect\"},{\"attributes\":{\"fill_alpha\":{\"field\":\"fill_alpha\"},\"fill_color\":{\"field\":\"color\"},\"height\":{\"field\":\"height\",\"units\":\"data\"},\"line_color\":{\"field\":\"line_color\"},\"width\":{\"field\":\"width\",\"units\":\"data\"},\"x\":{\"field\":\"x\"},\"y\":{\"field\":\"y\"}},\"id\":\"237e2b8a-8d5b-412c-90e8-99a6addc4b1e\",\"type\":\"Rect\"},{\"attributes\":{\"data_source\":{\"id\":\"d3533117-fad4-417a-b3ef-68b7120ecd5c\",\"type\":\"ColumnDataSource\"},\"glyph\":{\"id\":\"8afbf209-35cf-4d13-b4aa-5588cbb48d9a\",\"type\":\"Rect\"},\"hover_glyph\":null,\"nonselection_glyph\":null,\"selection_glyph\":null},\"id\":\"a42ca2ca-2c4d-48b8-9042-03c9316f2533\",\"type\":\"GlyphRenderer\"},{\"attributes\":{\"callback\":null,\"column_names\":[\"width\",\"label\",\"line_color\",\"line_alpha\",\"color\",\"y\",\"height\",\"x\",\"fill_alpha\"],\"data\":{\"chart_index\":[\"(60.449094, 62.426075]\"],\"color\":[\"#f22c40\"],\"fill_alpha\":[0.8],\"height\":[306.0],\"label\":[\"(60.449094, 62.426075]\"],\"line_alpha\":[1.0],\"line_color\":[\"black\"],\"width\":[1.976980165044921],\"x\":[\"61.4375845\"],\"y\":[153.0]}},\"id\":\"fb9c9992-dddb-4441-b77f-71e15a903f2d\",\"type\":\"ColumnDataSource\"},{\"attributes\":{\"data_source\":{\"id\":\"90be43f1-a20e-4920-8fdf-59fca522fcdb\",\"type\":\"ColumnDataSource\"},\"glyph\":{\"id\":\"9127ab8c-b40c-4f29-8592-2bd66c9a8543\",\"type\":\"Rect\"},\"hover_glyph\":null,\"nonselection_glyph\":null,\"selection_glyph\":null},\"id\":\"d180e26a-6a1a-40f3-90d7-e03f7cb02345\",\"type\":\"GlyphRenderer\"},{\"attributes\":{\"callback\":null,\"column_names\":[\"width\",\"label\",\"line_color\",\"line_alpha\",\"color\",\"y\",\"height\",\"x\",\"fill_alpha\"],\"data\":{\"chart_index\":[\"(54.000097, 55.999677]\"],\"color\":[\"#f22c40\"],\"fill_alpha\":[0.8],\"height\":[199.0],\"label\":[\"(54.000097, 55.999677]\"],\"line_alpha\":[1.0],\"line_color\":[\"black\"],\"width\":[1.9995804859201343],\"x\":[\"54.999887\"],\"y\":[99.5]}},\"id\":\"3a422725-de15-4d6d-aea9-568aaa70e13b\",\"type\":\"ColumnDataSource\"},{\"attributes\":{\"callback\":null,\"column_names\":[\"width\",\"label\",\"line_color\",\"line_alpha\",\"color\",\"y\",\"height\",\"x\",\"fill_alpha\"],\"data\":{\"chart_index\":[\"(107.988770, 109.988350]\"],\"color\":[\"#f22c40\"],\"fill_alpha\":[0.8],\"height\":[201.0],\"label\":[\"(107.988770, 109.988350]\"],\"line_alpha\":[1.0],\"line_color\":[\"black\"],\"width\":[1.9995804859201343],\"x\":[\"108.98856\"],\"y\":[100.5]}},\"id\":\"989dcced-c13d-485c-a06d-e4e773c07dcc\",\"type\":\"ColumnDataSource\"},{\"attributes\":{\"data_source\":{\"id\":\"c851c1ec-ee94-4a41-8e8c-892fb3ebdf46\",\"type\":\"ColumnDataSource\"},\"glyph\":{\"id\":\"d23e1978-4555-496b-9124-830cc4c03361\",\"type\":\"Rect\"},\"hover_glyph\":null,\"nonselection_glyph\":null,\"selection_glyph\":null},\"id\":\"fef157d2-7564-4452-81be-c908b598c075\",\"type\":\"GlyphRenderer\"},{\"attributes\":{\"fill_alpha\":{\"field\":\"fill_alpha\"},\"fill_color\":{\"field\":\"color\"},\"height\":{\"field\":\"height\",\"units\":\"data\"},\"line_color\":{\"field\":\"line_color\"},\"width\":{\"field\":\"width\",\"units\":\"data\"},\"x\":{\"field\":\"x\"},\"y\":{\"field\":\"y\"}},\"id\":\"689a0169-b615-4561-84e6-e201a93640e3\",\"type\":\"Rect\"},{\"attributes\":{\"dimension\":1,\"plot\":{\"id\":\"190b90fe-bcce-427a-9503-f0ac58c0167a\",\"subtype\":\"Chart\",\"type\":\"Plot\"},\"ticker\":{\"id\":\"9afbe655-a36d-4932-a1da-4735513a7a25\",\"type\":\"BasicTicker\"}},\"id\":\"f33843d7-7f88-4262-804a-6f69bf9906c9\",\"type\":\"Grid\"},{\"attributes\":{\"callback\":null,\"column_names\":[\"width\",\"label\",\"line_color\",\"line_alpha\",\"color\",\"y\",\"height\",\"x\",\"fill_alpha\"],\"data\":{\"chart_index\":[\"(35.978594, 53.965534]\"],\"color\":[\"#f22c40\"],\"fill_alpha\":[0.8],\"height\":[1078.0],\"label\":[\"(35.978594, 53.965534]\"],\"line_alpha\":[1.0],\"line_color\":[\"black\"],\"width\":[17.9869404339559],\"x\":[\"44.972064\"],\"y\":[539.0]}},\"id\":\"b436bb1c-7df6-4c91-ba5d-53ae75c3ed33\",\"type\":\"ColumnDataSource\"},{\"attributes\":{\"fill_alpha\":{\"field\":\"fill_alpha\"},\"fill_color\":{\"field\":\"color\"},\"height\":{\"field\":\"height\",\"units\":\"data\"},\"line_color\":{\"field\":\"line_color\"},\"width\":{\"field\":\"width\",\"units\":\"data\"},\"x\":{\"field\":\"x\"},\"y\":{\"field\":\"y\"}},\"id\":\"5c994267-ae3d-4787-8d4a-b1911fcf7add\",\"type\":\"Rect\"},{\"attributes\":{\"data_source\":{\"id\":\"8287620a-1c57-4413-9a38-efc5c32751a6\",\"type\":\"ColumnDataSource\"},\"glyph\":{\"id\":\"0b746e25-50bb-4ee0-b5f5-82b162f34ad5\",\"type\":\"Rect\"},\"hover_glyph\":null,\"nonselection_glyph\":null,\"selection_glyph\":null},\"id\":\"1d2f13e9-52af-4c6d-9746-a235b6fda738\",\"type\":\"GlyphRenderer\"},{\"attributes\":{\"fill_alpha\":{\"field\":\"fill_alpha\"},\"fill_color\":{\"field\":\"color\"},\"height\":{\"field\":\"height\",\"units\":\"data\"},\"line_color\":{\"field\":\"line_color\"},\"width\":{\"field\":\"width\",\"units\":\"data\"},\"x\":{\"field\":\"x\"},\"y\":{\"field\":\"y\"}},\"id\":\"c21e7da1-2d69-42ae-92ef-92168251eb68\",\"type\":\"Rect\"},{\"attributes\":{\"fill_alpha\":{\"field\":\"fill_alpha\"},\"fill_color\":{\"field\":\"color\"},\"height\":{\"field\":\"height\",\"units\":\"data\"},\"line_color\":{\"field\":\"line_color\"},\"width\":{\"field\":\"width\",\"units\":\"data\"},\"x\":{\"field\":\"x\"},\"y\":{\"field\":\"y\"}},\"id\":\"87e52811-8e88-4aef-a2ad-d3c408292702\",\"type\":\"Rect\"},{\"attributes\":{\"callback\":null,\"column_names\":[\"width\",\"label\",\"line_color\",\"line_alpha\",\"color\",\"y\",\"height\",\"x\",\"fill_alpha\"],\"data\":{\"chart_index\":[\"(395.717403, 413.704343]\"],\"color\":[\"#f22c40\"],\"fill_alpha\":[0.8],\"height\":[31.0],\"label\":[\"(395.717403, 413.704343]\"],\"line_alpha\":[1.0],\"line_color\":[\"black\"],\"width\":[17.98694043395591],\"x\":[\"404.710873\"],\"y\":[15.5]}},\"id\":\"24afd8c6-2321-494a-9391-cdff961d04c4\",\"type\":\"ColumnDataSource\"},{\"attributes\":{\"data_source\":{\"id\":\"2488a973-e605-4941-b758-51277b8afea6\",\"type\":\"ColumnDataSource\"},\"glyph\":{\"id\":\"01ee4b3a-168a-44ab-854e-e948cae515a3\",\"type\":\"Rect\"},\"hover_glyph\":null,\"nonselection_glyph\":null,\"selection_glyph\":null},\"id\":\"1e7d8ea8-aa07-46f6-a62d-575412674739\",\"type\":\"GlyphRenderer\"},{\"attributes\":{\"fill_alpha\":{\"field\":\"fill_alpha\"},\"fill_color\":{\"field\":\"color\"},\"height\":{\"field\":\"height\",\"units\":\"data\"},\"line_color\":{\"field\":\"line_color\"},\"width\":{\"field\":\"width\",\"units\":\"data\"},\"x\":{\"field\":\"x\"},\"y\":{\"field\":\"y\"}},\"id\":\"2171f221-52f2-43c5-8956-7f4ccc0bdcba\",\"type\":\"Rect\"},{\"attributes\":{\"axis_label\":\"Count( A )\",\"formatter\":{\"id\":\"f0c8cedb-d35d-4523-b90e-ddcb06148878\",\"type\":\"BasicTickFormatter\"},\"plot\":{\"id\":\"190b90fe-bcce-427a-9503-f0ac58c0167a\",\"subtype\":\"Chart\",\"type\":\"Plot\"},\"ticker\":{\"id\":\"9afbe655-a36d-4932-a1da-4735513a7a25\",\"type\":\"BasicTicker\"}},\"id\":\"de8c871e-8ee5-4b89-81f9-4d9a12e765e7\",\"type\":\"LinearAxis\"},{\"attributes\":{\"data_source\":{\"id\":\"460f73f3-91b2-41e9-9d94-9bd2f482eaa4\",\"type\":\"ColumnDataSource\"},\"glyph\":{\"id\":\"4a18b810-7fd8-418b-bc90-799650df63fc\",\"type\":\"Rect\"},\"hover_glyph\":null,\"nonselection_glyph\":null,\"selection_glyph\":null},\"id\":\"f25b3606-4e7a-4886-b4e8-30d3d2ccd06d\",\"type\":\"GlyphRenderer\"},{\"attributes\":{\"callback\":null,\"column_names\":[\"width\",\"label\",\"line_color\",\"line_alpha\",\"color\",\"y\",\"height\",\"x\",\"fill_alpha\"],\"data\":{\"chart_index\":[\"(86.149837, 88.126817]\"],\"color\":[\"#f22c40\"],\"fill_alpha\":[0.8],\"height\":[274.0],\"label\":[\"(86.149837, 88.126817]\"],\"line_alpha\":[1.0],\"line_color\":[\"black\"],\"width\":[1.976980165044921],\"x\":[\"87.138327\"],\"y\":[137.0]}},\"id\":\"1d4e5099-b6fe-469f-861b-075605597c4d\",\"type\":\"ColumnDataSource\"},{\"attributes\":{\"fill_alpha\":{\"field\":\"fill_alpha\"},\"fill_color\":{\"field\":\"color\"},\"height\":{\"field\":\"height\",\"units\":\"data\"},\"line_color\":{\"field\":\"line_color\"},\"width\":{\"field\":\"width\",\"units\":\"data\"},\"x\":{\"field\":\"x\"},\"y\":{\"field\":\"y\"}},\"id\":\"ecff84bd-9e37-4a9e-8049-4d7b6f8c6ad8\",\"type\":\"Rect\"},{\"attributes\":{\"callback\":null,\"column_names\":[\"width\",\"label\",\"line_color\",\"line_alpha\",\"color\",\"y\",\"height\",\"x\",\"fill_alpha\"],\"data\":{\"chart_index\":[\"(75.650913, 77.301707]\"],\"color\":[\"#f22c40\"],\"fill_alpha\":[0.8],\"height\":[1.0],\"label\":[\"(75.650913, 77.301707]\"],\"line_alpha\":[1.0],\"line_color\":[\"black\"],\"width\":[1.650793957214745],\"x\":[\"76.47631\"],\"y\":[0.5]}},\"id\":\"88bade4b-49ba-458f-9223-b8acf4a4bd16\",\"type\":\"ColumnDataSource\"},{\"attributes\":{\"fill_alpha\":{\"field\":\"fill_alpha\"},\"fill_color\":{\"field\":\"color\"},\"height\":{\"field\":\"height\",\"units\":\"data\"},\"line_color\":{\"field\":\"line_color\"},\"width\":{\"field\":\"width\",\"units\":\"data\"},\"x\":{\"field\":\"x\"},\"y\":{\"field\":\"y\"}},\"id\":\"33ae5b14-b1c1-4635-a3ff-672ab0fb25ea\",\"type\":\"Rect\"},{\"attributes\":{},\"id\":\"a26dc78a-2cb5-43e5-9a6a-35a6cd649976\",\"type\":\"BasicTickFormatter\"},{\"attributes\":{\"data_source\":{\"id\":\"fb2ee668-c430-4859-8233-69ca1ed77d50\",\"type\":\"ColumnDataSource\"},\"glyph\":{\"id\":\"2ab487fc-61fe-48b1-91e5-a2d40ac5387b\",\"type\":\"Rect\"},\"hover_glyph\":null,\"nonselection_glyph\":null,\"selection_glyph\":null},\"id\":\"76389294-eef2-4cb2-b85c-b9272461a8df\",\"type\":\"GlyphRenderer\"},{\"attributes\":{\"data_source\":{\"id\":\"1e0d6bd3-139f-454e-9c7c-9e1211f5c125\",\"type\":\"ColumnDataSource\"},\"glyph\":{\"id\":\"fbc42b25-1f8e-40b1-9217-9d2cadeee282\",\"type\":\"Rect\"},\"hover_glyph\":null,\"nonselection_glyph\":null,\"selection_glyph\":null},\"id\":\"f0db4399-f2cb-4511-b37d-47ae0601365c\",\"type\":\"GlyphRenderer\"},{\"attributes\":{\"data_source\":{\"id\":\"0b097288-d828-41e9-91c5-fe97073dab02\",\"type\":\"ColumnDataSource\"},\"glyph\":{\"id\":\"a30d20a0-ca00-4f61-be11-79ab24a14c78\",\"type\":\"Rect\"},\"hover_glyph\":null,\"nonselection_glyph\":null,\"selection_glyph\":null},\"id\":\"9bae1e25-d395-4ded-8098-68939e4a8c5a\",\"type\":\"GlyphRenderer\"},{\"attributes\":{\"fill_alpha\":{\"field\":\"fill_alpha\"},\"fill_color\":{\"field\":\"color\"},\"height\":{\"field\":\"height\",\"units\":\"data\"},\"line_color\":{\"field\":\"line_color\"},\"width\":{\"field\":\"width\",\"units\":\"data\"},\"x\":{\"field\":\"x\"},\"y\":{\"field\":\"y\"}},\"id\":\"b6f154b3-4d3f-4b3c-9cbd-3ad0f699acda\",\"type\":\"Rect\"},{\"attributes\":{\"data_source\":{\"id\":\"c492acce-6782-4813-ae26-c165885b0185\",\"type\":\"ColumnDataSource\"},\"glyph\":{\"id\":\"37635071-9e3d-4734-b937-afc8c5f58802\",\"type\":\"Rect\"},\"hover_glyph\":null,\"nonselection_glyph\":null,\"selection_glyph\":null},\"id\":\"b604a421-0c12-4d3b-9d57-a513ad86c045\",\"type\":\"GlyphRenderer\"},{\"attributes\":{\"data_source\":{\"id\":\"71669fb3-2e7e-4734-96f4-79ae3556a4bb\",\"type\":\"ColumnDataSource\"},\"glyph\":{\"id\":\"9840987f-2aa1-4a7e-8c05-d76164f214a6\",\"type\":\"Rect\"},\"hover_glyph\":null,\"nonselection_glyph\":null,\"selection_glyph\":null},\"id\":\"7fc3e961-0baf-40cd-8f3d-25670de52d60\",\"type\":\"GlyphRenderer\"},{\"attributes\":{},\"id\":\"ffc128b7-1704-4b1a-87c2-3bbb2f0ca764\",\"type\":\"BasicTickFormatter\"},{\"attributes\":{\"callback\":null,\"column_names\":[\"width\",\"label\",\"line_color\",\"line_alpha\",\"color\",\"y\",\"height\",\"x\",\"fill_alpha\"],\"data\":{\"chart_index\":[\"(77.301707, 78.952501]\"],\"color\":[\"#f22c40\"],\"fill_alpha\":[0.8],\"height\":[1.0],\"label\":[\"(77.301707, 78.952501]\"],\"line_alpha\":[1.0],\"line_color\":[\"black\"],\"width\":[1.6507939572147308],\"x\":[\"78.127104\"],\"y\":[0.5]}},\"id\":\"da816f4a-7ef8-469f-85d0-1a9cefe0fd2a\",\"type\":\"ColumnDataSource\"},{\"attributes\":{\"fill_alpha\":{\"field\":\"fill_alpha\"},\"fill_color\":{\"field\":\"color\"},\"height\":{\"field\":\"height\",\"units\":\"data\"},\"line_color\":{\"field\":\"line_color\"},\"width\":{\"field\":\"width\",\"units\":\"data\"},\"x\":{\"field\":\"x\"},\"y\":{\"field\":\"y\"}},\"id\":\"94fca8ef-d4d6-4b4d-bff0-48f35b0e2c26\",\"type\":\"Rect\"},{\"attributes\":{\"fill_alpha\":{\"field\":\"fill_alpha\"},\"fill_color\":{\"field\":\"color\"},\"height\":{\"field\":\"height\",\"units\":\"data\"},\"line_color\":{\"field\":\"line_color\"},\"width\":{\"field\":\"width\",\"units\":\"data\"},\"x\":{\"field\":\"x\"},\"y\":{\"field\":\"y\"}},\"id\":\"669db71f-4040-4845-aeb3-d122ad1a86c9\",\"type\":\"Rect\"},{\"attributes\":{\"fill_alpha\":{\"field\":\"fill_alpha\"},\"fill_color\":{\"field\":\"color\"},\"height\":{\"field\":\"height\",\"units\":\"data\"},\"line_color\":{\"field\":\"line_color\"},\"width\":{\"field\":\"width\",\"units\":\"data\"},\"x\":{\"field\":\"x\"},\"y\":{\"field\":\"y\"}},\"id\":\"cfeda135-3836-41ff-9926-767d356e3a3d\",\"type\":\"Rect\"},{\"attributes\":{\"callback\":null,\"column_names\":[\"width\",\"label\",\"line_color\",\"line_alpha\",\"color\",\"y\",\"height\",\"x\",\"fill_alpha\"],\"data\":{\"chart_index\":[\"(467.665164, 485.652105]\"],\"color\":[\"#f22c40\"],\"fill_alpha\":[0.8],\"height\":[17.0],\"label\":[\"(467.665164, 485.652105]\"],\"line_alpha\":[1.0],\"line_color\":[\"black\"],\"width\":[17.98694043395591],\"x\":[\"476.6586345\"],\"y\":[8.5]}},\"id\":\"b04d77ae-feff-49eb-a388-29d2680ad48e\",\"type\":\"ColumnDataSource\"},{\"attributes\":{\"data_source\":{\"id\":\"7c890240-48c8-4ea4-81d6-094f5231c63d\",\"type\":\"ColumnDataSource\"},\"glyph\":{\"id\":\"02587cc6-78ce-4d01-93f9-af1f8b27fe49\",\"type\":\"Rect\"},\"hover_glyph\":null,\"nonselection_glyph\":null,\"selection_glyph\":null},\"id\":\"c647a073-fba7-4101-8f4b-ce587d3f0d3c\",\"type\":\"GlyphRenderer\"},{\"attributes\":{\"data_source\":{\"id\":\"284f4968-1641-4ef9-8118-32f2ddc79331\",\"type\":\"ColumnDataSource\"},\"glyph\":{\"id\":\"d0d1d631-0a15-4106-ac51-b6a54b399041\",\"type\":\"Rect\"},\"hover_glyph\":null,\"nonselection_glyph\":null,\"selection_glyph\":null},\"id\":\"bbd87970-ba26-461b-881c-6844901aaa5d\",\"type\":\"GlyphRenderer\"},{\"attributes\":{\"data_source\":{\"id\":\"b1276510-0a17-4532-a5e9-ff86643ff255\",\"type\":\"ColumnDataSource\"},\"glyph\":{\"id\":\"7ebb8848-e09b-4c52-b417-76437a04961d\",\"type\":\"Rect\"},\"hover_glyph\":null,\"nonselection_glyph\":null,\"selection_glyph\":null},\"id\":\"5f05e1e4-e240-47d4-ba77-e3913e0e4b9b\",\"type\":\"GlyphRenderer\"},{\"attributes\":{\"fill_alpha\":{\"field\":\"fill_alpha\"},\"fill_color\":{\"field\":\"color\"},\"height\":{\"field\":\"height\",\"units\":\"data\"},\"line_color\":{\"field\":\"line_color\"},\"width\":{\"field\":\"width\",\"units\":\"data\"},\"x\":{\"field\":\"x\"},\"y\":{\"field\":\"y\"}},\"id\":\"89feb40e-a565-436f-b8ee-7e940bba4f98\",\"type\":\"Rect\"},{\"attributes\":{\"data_source\":{\"id\":\"e8749b92-1e3d-45a0-97df-986e5d7d0099\",\"type\":\"ColumnDataSource\"},\"glyph\":{\"id\":\"baa8d108-76b1-4aa1-95aa-dc02af7d369d\",\"type\":\"Rect\"},\"hover_glyph\":null,\"nonselection_glyph\":null,\"selection_glyph\":null},\"id\":\"3bd05afa-05e8-4487-992c-368f51642e4b\",\"type\":\"GlyphRenderer\"},{\"attributes\":{\"callback\":null,\"column_names\":[\"width\",\"label\",\"line_color\",\"line_alpha\",\"color\",\"y\",\"height\",\"x\",\"fill_alpha\"],\"data\":{\"chart_index\":[\"(64.095356, 65.746150]\"],\"color\":[\"#f22c40\"],\"fill_alpha\":[0.8],\"height\":[33.0],\"label\":[\"(64.095356, 65.746150]\"],\"line_alpha\":[1.0],\"line_color\":[\"black\"],\"width\":[1.650793957214745],\"x\":[\"64.92075299999999\"],\"y\":[16.5]}},\"id\":\"943b8e5d-f699-4bcd-ba95-1211ffcf248a\",\"type\":\"ColumnDataSource\"},{\"attributes\":{\"plot\":{\"id\":\"d8388f20-687d-47a7-88c3-e785246d4dea\",\"subtype\":\"Chart\",\"type\":\"Plot\"}},\"id\":\"091dc7ac-4a33-447c-bb03-7105719ff6a1\",\"type\":\"PanTool\"},{\"attributes\":{\"data_source\":{\"id\":\"68652bc7-9c47-4db2-adca-083e15be6200\",\"type\":\"ColumnDataSource\"},\"glyph\":{\"id\":\"8c3ed967-f0b9-4a21-bbfc-9eb60adea3e8\",\"type\":\"Rect\"},\"hover_glyph\":null,\"nonselection_glyph\":null,\"selection_glyph\":null},\"id\":\"71e01477-3f24-4634-9556-520255faa7cb\",\"type\":\"GlyphRenderer\"},{\"attributes\":{\"axis_label\":\"a\",\"formatter\":{\"id\":\"a26dc78a-2cb5-43e5-9a6a-35a6cd649976\",\"type\":\"BasicTickFormatter\"},\"plot\":{\"id\":\"c3ea08f3-860f-46d2-a08d-837617200cb5\",\"subtype\":\"Chart\",\"type\":\"Plot\"},\"ticker\":{\"id\":\"d6db2999-ba79-4d47-93d3-978c48dce6a5\",\"type\":\"BasicTicker\"}},\"id\":\"8e4054eb-115e-4fd1-9c0b-fbcdba9c5357\",\"type\":\"LinearAxis\"},{\"attributes\":{},\"id\":\"fbe0002d-f842-4b59-95a0-78d06e537b90\",\"type\":\"ToolEvents\"},{\"attributes\":{\"fill_alpha\":{\"field\":\"fill_alpha\"},\"fill_color\":{\"field\":\"color\"},\"height\":{\"field\":\"height\",\"units\":\"data\"},\"line_color\":{\"field\":\"line_color\"},\"width\":{\"field\":\"width\",\"units\":\"data\"},\"x\":{\"field\":\"x\"},\"y\":{\"field\":\"y\"}},\"id\":\"fbc42b25-1f8e-40b1-9217-9d2cadeee282\",\"type\":\"Rect\"},{\"attributes\":{\"callback\":null,\"column_names\":[\"width\",\"label\",\"line_color\",\"line_alpha\",\"color\",\"y\",\"height\",\"x\",\"fill_alpha\"],\"data\":{\"chart_index\":[\"(109.988350, 111.987931]\"],\"color\":[\"#f22c40\"],\"fill_alpha\":[0.8],\"height\":[212.0],\"label\":[\"(109.988350, 111.987931]\"],\"line_alpha\":[1.0],\"line_color\":[\"black\"],\"width\":[1.9995804859201343],\"x\":[\"110.9881405\"],\"y\":[106.0]}},\"id\":\"71537455-2c10-4f05-ae61-01b54e42f542\",\"type\":\"ColumnDataSource\"},{\"attributes\":{\"fill_alpha\":{\"field\":\"fill_alpha\"},\"fill_color\":{\"field\":\"color\"},\"height\":{\"field\":\"height\",\"units\":\"data\"},\"line_color\":{\"field\":\"line_color\"},\"width\":{\"field\":\"width\",\"units\":\"data\"},\"x\":{\"field\":\"x\"},\"y\":{\"field\":\"y\"}},\"id\":\"9840987f-2aa1-4a7e-8c05-d76164f214a6\",\"type\":\"Rect\"},{\"attributes\":{\"fill_alpha\":{\"field\":\"fill_alpha\"},\"fill_color\":{\"field\":\"color\"},\"height\":{\"field\":\"height\",\"units\":\"data\"},\"line_color\":{\"field\":\"line_color\"},\"width\":{\"field\":\"width\",\"units\":\"data\"},\"x\":{\"field\":\"x\"},\"y\":{\"field\":\"y\"}},\"id\":\"b16f7b98-ff81-4dac-bc97-67d5216ca4e2\",\"type\":\"Rect\"},{\"attributes\":{\"data_source\":{\"id\":\"7693e3aa-77a3-4b63-b683-719a1bcaa0d6\",\"type\":\"ColumnDataSource\"},\"glyph\":{\"id\":\"2973e735-80b7-4956-b6eb-83a494f391c7\",\"type\":\"Rect\"},\"hover_glyph\":null,\"nonselection_glyph\":null,\"selection_glyph\":null},\"id\":\"914658f3-7645-4f93-a831-7beea8d89c8b\",\"type\":\"GlyphRenderer\"},{\"attributes\":{\"fill_alpha\":{\"field\":\"fill_alpha\"},\"fill_color\":{\"field\":\"color\"},\"height\":{\"field\":\"height\",\"units\":\"data\"},\"line_color\":{\"field\":\"line_color\"},\"width\":{\"field\":\"width\",\"units\":\"data\"},\"x\":{\"field\":\"x\"},\"y\":{\"field\":\"y\"}},\"id\":\"e416985a-8fb8-4601-91ec-94027829b718\",\"type\":\"Rect\"},{\"attributes\":{\"fill_alpha\":{\"field\":\"fill_alpha\"},\"fill_color\":{\"field\":\"color\"},\"height\":{\"field\":\"height\",\"units\":\"data\"},\"line_color\":{\"field\":\"line_color\"},\"width\":{\"field\":\"width\",\"units\":\"data\"},\"x\":{\"field\":\"x\"},\"y\":{\"field\":\"y\"}},\"id\":\"7b5d125e-fc28-4ea0-8455-ccada534a04f\",\"type\":\"Rect\"},{\"attributes\":{\"data_source\":{\"id\":\"b184629c-7ec3-47d5-be19-f441f7f7021f\",\"type\":\"ColumnDataSource\"},\"glyph\":{\"id\":\"1a6aa7fc-8cc6-4a37-9332-a6907250f257\",\"type\":\"Rect\"},\"hover_glyph\":null,\"nonselection_glyph\":null,\"selection_glyph\":null},\"id\":\"ae015dc0-2d33-44a4-bbca-a2ea16a2dfda\",\"type\":\"GlyphRenderer\"}],\"root_ids\":[\"94d70916-46df-459a-a10c-00a7a346ce2c\"]},\"title\":\"Bokeh Application\",\"version\":\"0.12.4\"}};\n",
       "            var render_items = [{\"docid\":\"fa768974-f8d7-4572-9abc-80583ba808f4\",\"elementid\":\"83c921d8-290b-4062-a18f-0ad720a59a81\",\"modelid\":\"94d70916-46df-459a-a10c-00a7a346ce2c\"}];\n",
       "            \n",
       "            Bokeh.embed.embed_items(docs_json, render_items);\n",
       "          };\n",
       "          if (document.readyState != \"loading\") fn();\n",
       "          else document.addEventListener(\"DOMContentLoaded\", fn);\n",
       "        })();\n",
       "      },\n",
       "      function(Bokeh) {\n",
       "      }\n",
       "    ];\n",
       "  \n",
       "    function run_inline_js() {\n",
       "      \n",
       "      if ((window.Bokeh !== undefined) || (force === true)) {\n",
       "        for (var i = 0; i < inline_js.length; i++) {\n",
       "          inline_js[i](window.Bokeh);\n",
       "        }if (force === true) {\n",
       "          display_loaded();\n",
       "        }} else if (Date.now() < window._bokeh_timeout) {\n",
       "        setTimeout(run_inline_js, 100);\n",
       "      } else if (!window._bokeh_failed_load) {\n",
       "        console.log(\"Bokeh: BokehJS failed to load within specified timeout.\");\n",
       "        window._bokeh_failed_load = true;\n",
       "      } else if (force !== true) {\n",
       "        var cell = $(document.getElementById(\"83c921d8-290b-4062-a18f-0ad720a59a81\")).parents('.cell').data().cell;\n",
       "        cell.output_area.append_execute_result(NB_LOAD_WARNING)\n",
       "      }\n",
       "  \n",
       "    }\n",
       "  \n",
       "    if (window._bokeh_is_loading === 0) {\n",
       "      console.log(\"Bokeh: BokehJS loaded, going straight to plotting\");\n",
       "      run_inline_js();\n",
       "    } else {\n",
       "      load_libs(js_urls, function() {\n",
       "        console.log(\"Bokeh: BokehJS plotting callback run at\", now());\n",
       "        run_inline_js();\n",
       "      });\n",
       "    }\n",
       "  }(this));\n",
       "</script>"
      ]
     },
     "metadata": {},
     "output_type": "display_data"
    }
   ],
   "source": [
    "import scipy.stats\n",
    "from bokeh.charts import Histogram\n",
    "\n",
    "w, h = 350, 300\n",
    "\n",
    "dists = [\n",
    "    scipy.stats.expon(scale=100), # the frozed uniform distribution\n",
    "    scipy.stats.norm(loc=40, scale=10), # the frozed uniform distribution\n",
    "    scipy.stats.uniform(loc=20, scale=100), # the frozed uniform distribution\n",
    "    scipy.stats.beta(2,2,loc=20, scale=100) # the frozed uniform distribution\n",
    "]\n",
    "\n",
    "figs = [ Histogram(dist.rvs(int(1e4)), bins=50, \n",
    "                   width=w, height=h, \n",
    "                   xlabel=None, ylabel=None)\n",
    "        for dist in dists ]\n",
    "\n",
    "bk.show(bk.gridplot([[figs[0], figs[1]],\n",
    "                     [figs[2], figs[3]] \n",
    "                     ]))"
   ]
  },
  {
   "cell_type": "code",
   "execution_count": 47,
   "metadata": {
    "collapsed": false
   },
   "outputs": [
    {
     "name": "stdout",
     "output_type": "stream",
     "text": [
      "Fitting 5 folds for each of 10 candidates, totalling 50 fits\n",
      "[CV] C=26.4144799458, gamma=8.46192098141, kernel=linear .............\n",
      "[CV] C=26.4144799458, gamma=8.46192098141, kernel=linear .............\n",
      "[CV] C=26.4144799458, gamma=8.46192098141, kernel=linear .............\n",
      "[CV] C=26.4144799458, gamma=8.46192098141, kernel=linear .............\n",
      "[CV] C=26.4144799458, gamma=8.46192098141, kernel=linear .............\n",
      "[CV]  C=26.4144799458, gamma=8.46192098141, kernel=linear, total=   0.0s\n",
      "[CV]  C=26.4144799458, gamma=8.46192098141, kernel=linear, total=   0.0s\n",
      "[CV] C=55.9344693089, gamma=3.89438593875, kernel=linear .............\n",
      "[CV] C=55.9344693089, gamma=3.89438593875, kernel=linear .............\n",
      "[CV] C=55.9344693089, gamma=3.89438593875, kernel=linear .............\n",
      "[CV] C=55.9344693089, gamma=3.89438593875, kernel=linear .............\n",
      "[CV]  C=26.4144799458, gamma=8.46192098141, kernel=linear, total=   0.0s\n",
      "[CV]  C=55.9344693089, gamma=3.89438593875, kernel=linear, total=   0.0s\n",
      "[CV] C=17.1558595654, gamma=1.69134862471, kernel=linear .............\n",
      "[CV]  C=55.9344693089, gamma=3.89438593875, kernel=linear, total=   0.0s\n",
      "[CV]  C=26.4144799458, gamma=8.46192098141, kernel=linear, total=   0.0s\n",
      "[CV] C=17.1558595654, gamma=1.69134862471, kernel=linear .............\n",
      "[CV] C=17.1558595654, gamma=1.69134862471, kernel=linear .............\n",
      "[CV] C=17.1558595654, gamma=1.69134862471, kernel=linear .............\n",
      "[CV] C=17.1558595654, gamma=1.69134862471, kernel=linear .............\n",
      "[CV] C=93.3155461618, gamma=1.38880610756, kernel=linear .............\n",
      "[CV]  C=26.4144799458, gamma=8.46192098141, kernel=linear, total=   0.0s\n",
      "[CV] C=55.9344693089, gamma=3.89438593875, kernel=linear .............\n",
      "[CV] C=93.3155461618, gamma=1.38880610756, kernel=linear .............\n",
      "[CV] C=48.061537876, gamma=8.83503861242, kernel=rbf .................\n",
      "[CV]  C=17.1558595654, gamma=1.69134862471, kernel=linear, total=   0.0s\n",
      "[CV]  C=17.1558595654, gamma=1.69134862471, kernel=linear, total=   0.0s\n",
      "[CV]  C=55.9344693089, gamma=3.89438593875, kernel=linear, total=   0.0s\n",
      "[CV] C=48.061537876, gamma=8.83503861242, kernel=rbf .................\n",
      "[CV] C=48.061537876, gamma=8.83503861242, kernel=rbf .................\n",
      "[CV]  C=17.1558595654, gamma=1.69134862471, kernel=linear, total=   0.0s\n",
      "[CV] C=93.3155461618, gamma=1.38880610756, kernel=linear .............\n",
      "[CV] C=93.3155461618, gamma=1.38880610756, kernel=linear .............\n",
      "[CV]  C=93.3155461618, gamma=1.38880610756, kernel=linear, total=   0.0s\n",
      "[CV]  C=17.1558595654, gamma=1.69134862471, kernel=linear, total=   0.0s\n",
      "[CV]  C=17.1558595654, gamma=1.69134862471, kernel=linear, total=   0.0s\n",
      "[CV]  C=55.9344693089, gamma=3.89438593875, kernel=linear, total=   0.0s\n",
      "[CV]  C=55.9344693089, gamma=3.89438593875, kernel=linear, total=   0.0s\n",
      "[CV] C=93.3155461618, gamma=1.38880610756, kernel=linear .............\n",
      "[CV]  C=93.3155461618, gamma=1.38880610756, kernel=linear, total=   0.0s\n",
      "[CV]  C=93.3155461618, gamma=1.38880610756, kernel=linear, total=   0.0s\n",
      "[CV]  C=93.3155461618, gamma=1.38880610756, kernel=linear, total=   0.0s\n",
      "[CV]  C=93.3155461618, gamma=1.38880610756, kernel=linear, total=   0.0s\n",
      "[CV] C=48.061537876, gamma=8.83503861242, kernel=rbf .................\n",
      "[CV] .. C=48.061537876, gamma=8.83503861242, kernel=rbf, total=   0.0s\n",
      "[CV] .. C=48.061537876, gamma=8.83503861242, kernel=rbf, total=   0.0s\n",
      "[CV] C=48.061537876, gamma=8.83503861242, kernel=rbf .................\n",
      "[CV] C=68.482529463, gamma=9.51544160624, kernel=rbf .................\n",
      "[CV] .. C=48.061537876, gamma=8.83503861242, kernel=rbf, total=   0.0s\n",
      "[CV] .. C=48.061537876, gamma=8.83503861242, kernel=rbf, total=   0.0s\n",
      "[CV] C=3.43844955959, gamma=5.02748732669, kernel=rbf ................\n",
      "[CV] .. C=68.482529463, gamma=9.51544160624, kernel=rbf, total=   0.0s\n",
      "[CV] C=68.482529463, gamma=9.51544160624, kernel=rbf .................\n",
      "[CV] .. C=68.482529463, gamma=9.51544160624, kernel=rbf, total=   0.0s\n",
      "[CV] C=68.482529463, gamma=9.51544160624, kernel=rbf .................\n",
      "[CV] .. C=48.061537876, gamma=8.83503861242, kernel=rbf, total=   0.0s\n",
      "[CV] . C=3.43844955959, gamma=5.02748732669, kernel=rbf, total=   0.0s\n",
      "[CV] C=66.9557236794, gamma=9.53708478181, kernel=linear .............\n",
      "[CV] C=3.43844955959, gamma=5.02748732669, kernel=rbf ................\n",
      "[CV] .. C=68.482529463, gamma=9.51544160624, kernel=rbf, total=   0.0s\n",
      "[CV]  C=66.9557236794, gamma=9.53708478181, kernel=linear, total=   0.0s\n",
      "[CV] C=68.482529463, gamma=9.51544160624, kernel=rbf .................\n",
      "[CV] C=66.9557236794, gamma=9.53708478181, kernel=linear .............\n",
      "[CV] . C=3.43844955959, gamma=5.02748732669, kernel=rbf, total=   0.0s\n",
      "[CV] .. C=68.482529463, gamma=9.51544160624, kernel=rbf, total=   0.0s\n",
      "[CV] C=60.9588235105, gamma=8.31572018383, kernel=linear .............\n",
      "[CV]  C=66.9557236794, gamma=9.53708478181, kernel=linear, total=   0.0s\n",
      "[CV] C=66.9557236794, gamma=9.53708478181, kernel=linear .............\n",
      "[CV]  C=60.9588235105, gamma=8.31572018383, kernel=linear, total=   0.0s\n",
      "[CV] C=60.9588235105, gamma=8.31572018383, kernel=linear .............\n",
      "[CV]  C=66.9557236794, gamma=9.53708478181, kernel=linear, total=   0.0s\n",
      "[CV]  C=60.9588235105, gamma=8.31572018383, kernel=linear, total=   0.0s\n",
      "[CV] C=60.9588235105, gamma=8.31572018383, kernel=linear .............\n",
      "[CV]  C=60.9588235105, gamma=8.31572018383, kernel=linear, total=   0.0s\n",
      "[CV] C=66.9557236794, gamma=9.53708478181, kernel=linear .............\n",
      "[CV] C=60.9588235105, gamma=8.31572018383, kernel=linear .............\n",
      "[CV]  C=66.9557236794, gamma=9.53708478181, kernel=linear, total=   0.0s\n",
      "[CV] C=66.9557236794, gamma=9.53708478181, kernel=linear .............\n",
      "[CV]  C=60.9588235105, gamma=8.31572018383, kernel=linear, total=   0.0s\n",
      "[CV] C=60.9588235105, gamma=8.31572018383, kernel=linear .............\n",
      "[CV]  C=66.9557236794, gamma=9.53708478181, kernel=linear, total=   0.0s\n",
      "[CV] C=83.3401698121, gamma=6.42331831398, kernel=rbf ................\n",
      "[CV]  C=60.9588235105, gamma=8.31572018383, kernel=linear, total=   0.0s\n",
      "[CV] C=3.43844955959, gamma=5.02748732669, kernel=rbf ................\n",
      "[CV] . C=83.3401698121, gamma=6.42331831398, kernel=rbf, total=   0.0s\n",
      "[CV] C=83.3401698121, gamma=6.42331831398, kernel=rbf ................\n",
      "[CV] . C=3.43844955959, gamma=5.02748732669, kernel=rbf, total=   0.0s\n",
      "[CV] C=3.43844955959, gamma=5.02748732669, kernel=rbf ................\n",
      "[CV] . C=83.3401698121, gamma=6.42331831398, kernel=rbf, total=   0.0s\n",
      "[CV] C=83.3401698121, gamma=6.42331831398, kernel=rbf ................\n",
      "[CV] . C=3.43844955959, gamma=5.02748732669, kernel=rbf, total=   0.0s\n",
      "[CV] C=3.43844955959, gamma=5.02748732669, kernel=rbf ................\n",
      "[CV] . C=83.3401698121, gamma=6.42331831398, kernel=rbf, total=   0.0s\n",
      "[CV] C=83.3401698121, gamma=6.42331831398, kernel=rbf ................\n",
      "[CV] . C=3.43844955959, gamma=5.02748732669, kernel=rbf, total=   0.0s\n",
      "[CV] . C=83.3401698121, gamma=6.42331831398, kernel=rbf, total=   0.0s\n",
      "[CV] C=83.3401698121, gamma=6.42331831398, kernel=rbf ................\n",
      "[CV] . C=83.3401698121, gamma=6.42331831398, kernel=rbf, total=   0.0s\n",
      "[CV] C=68.482529463, gamma=9.51544160624, kernel=rbf .................\n",
      "[CV] .. C=68.482529463, gamma=9.51544160624, kernel=rbf, total=   0.0s\n"
     ]
    },
    {
     "name": "stderr",
     "output_type": "stream",
     "text": [
      "[Parallel(n_jobs=-1)]: Done  50 out of  50 | elapsed:    0.1s finished\n"
     ]
    },
    {
     "data": {
      "text/plain": [
       "RandomizedSearchCV(cv=5, error_score='raise',\n",
       "          estimator=SVC(C=1.0, cache_size=200, class_weight=None, coef0=0.0,\n",
       "  decision_function_shape=None, degree=3, gamma='auto', kernel='rbf',\n",
       "  max_iter=-1, probability=False, random_state=None, shrinking=True,\n",
       "  tol=0.001, verbose=False),\n",
       "          fit_params={}, iid=True, n_iter=10, n_jobs=-1,\n",
       "          param_distributions={'kernel': ['linear', 'rbf'], 'gamma': <scipy.stats._distn_infrastructure.rv_frozen object at 0x7fca1c03a7b8>, 'C': <scipy.stats._distn_infrastructure.rv_frozen object at 0x7fca21a14dd8>},\n",
       "          pre_dispatch='2*n_jobs', random_state=None, refit=True,\n",
       "          return_train_score=True, scoring=None, verbose=2)"
      ]
     },
     "execution_count": 47,
     "metadata": {},
     "output_type": "execute_result"
    }
   ],
   "source": [
    "# Standardize the data\n",
    "iris = datasets.load_iris()\n",
    "scaler = preprocessing.StandardScaler(copy=True, with_mean=True, with_std=True)\n",
    "X = scaler.fit_transform(iris.data)\n",
    "# Keep out the Test Set\n",
    "X_tr, X_test, y_tr, y_test = model_selection.train_test_split(X, iris.target,\n",
    "                                                              test_size=0.30, random_state=0)\n",
    "# Define the Search Grid\n",
    "param_grid = {'C': scipy.stats.uniform(loc=1, scale=100), 'kernel': ['linear','rbf'], \n",
    "              'gamma': scipy.stats.uniform(loc=0.01, scale=10)}\n",
    "# GridSearchCV\n",
    "clf = model_selection.RandomizedSearchCV(svm.SVC(), param_grid, cv=5, n_jobs=-1, verbose=2, n_iter=10)\n",
    "clf.fit(X_tr, y_tr)"
   ]
  },
  {
   "cell_type": "code",
   "execution_count": 48,
   "metadata": {
    "collapsed": false
   },
   "outputs": [
    {
     "name": "stdout",
     "output_type": "stream",
     "text": [
      "mean: 0.962, std: 0.0360, params: {'gamma': 8.4619209814075855, 'C': 26.414479945822865, 'kernel': 'linear'}\n",
      "mean: 0.962, std: 0.0360, params: {'gamma': 3.894385938747857, 'C': 55.93446930891519, 'kernel': 'linear'}\n",
      "mean: 0.943, std: 0.0348, params: {'gamma': 1.6913486247050757, 'C': 17.155859565449827, 'kernel': 'linear'}\n",
      "mean: 0.962, std: 0.0360, params: {'gamma': 1.3888061075606983, 'C': 93.315546161767415, 'kernel': 'linear'}\n",
      "mean: 0.857, std: 0.0813, params: {'gamma': 8.8350386124204494, 'C': 48.061537875975347, 'kernel': 'rbf'}\n",
      "mean: 0.962, std: 0.0360, params: {'gamma': 9.5370847818124513, 'C': 66.955723679369328, 'kernel': 'linear'}\n",
      "mean: 0.895, std: 0.0676, params: {'gamma': 6.4233183139802144, 'C': 83.340169812073199, 'kernel': 'rbf'}\n",
      "mean: 0.857, std: 0.0813, params: {'gamma': 9.5154416062423, 'C': 68.482529462998272, 'kernel': 'rbf'}\n",
      "mean: 0.962, std: 0.0360, params: {'gamma': 8.3157201838255208, 'C': 60.958823510479341, 'kernel': 'linear'}\n",
      "mean: 0.895, std: 0.0738, params: {'gamma': 5.027487326691249, 'C': 3.4384495595874522, 'kernel': 'rbf'}\n"
     ]
    }
   ],
   "source": [
    "for a,b,c in zip(clf.cv_results_['mean_test_score'], \n",
    "                 clf.cv_results_['std_test_score'], \n",
    "                 clf.cv_results_['params']):\n",
    "    print('mean: {:.3f}, std: {:.4f}, params: {}'.format(a,b,c))"
   ]
  },
  {
   "cell_type": "code",
   "execution_count": 49,
   "metadata": {
    "collapsed": false
   },
   "outputs": [
    {
     "name": "stdout",
     "output_type": "stream",
     "text": [
      "Best estimator:  SVC(C=26.414479945822865, cache_size=200, class_weight=None, coef0=0.0,\n",
      "  decision_function_shape=None, degree=3, gamma=8.4619209814075855,\n",
      "  kernel='linear', max_iter=-1, probability=False, random_state=None,\n",
      "  shrinking=True, tol=0.001, verbose=False)\n",
      "Accuracy: 0.96 (+/- 0.18)\n"
     ]
    }
   ],
   "source": [
    "best = clf.best_estimator_\n",
    "print('Best estimator: ', best)\n",
    "scores = model_selection.cross_val_score(best, X_test, y_test, cv=10)\n",
    "print(\"Accuracy: %0.2f (+/- %0.2f)\" % (scores.mean(), scores.std() * 2))"
   ]
  },
  {
   "cell_type": "markdown",
   "metadata": {},
   "source": [
    "## 9 Pipelines"
   ]
  },
  {
   "cell_type": "markdown",
   "metadata": {},
   "source": [
    "When we applied different preprocessing techniques, such as standardization for feature scaling or principal component analysis you learned that we have to reuse the parameters that were obtained during the fitting of the training data to scale and compress any new data, for example, the samples in the separate test dataset.\n",
    "\n",
    "In this section, you will learn about an extremely handy tool, the Pipeline class in scikit-learn. It allows us to fit a model including an arbitrary number of transformation steps and apply it to make predictions about new data.\n",
    "\n",
    "In this chapter, we will be working with the Breast Cancer Wisconsin dataset, which contains 569 samples of malignant and benign tumor cells. The first two columns in the dataset store the unique ID numbers of the samples and the corresponding diagnosis (M=malignant, B=benign), respectively. The columns 3-32 contain 30 real-value features that have been computed from digitized images of the cell nuclei, which can be used to build a model to predict whether a tumor is benign or malignant. The Breast Cancer Wisconsin dataset has been deposited on the UCI\n",
    "machine learning repository and more detailed information about this dataset can be found at [https://archive.ics.uci.edu/ml/datasets/Breast+Cancer+Wisconsin+(Diagnostic)](https://archive.ics.uci.edu/ml/datasets/Breast+Cancer+Wisconsin+(Diagnostic))\n",
    "\n",
    "In this section we will read in the dataset, and split it into training and test datasets in three simple steps.\n",
    "\n",
    "- We will start by reading in the dataset directly from the UCI website using pandas:"
   ]
  },
  {
   "cell_type": "code",
   "execution_count": 50,
   "metadata": {
    "collapsed": true
   },
   "outputs": [],
   "source": [
    "import pandas as pd\n",
    "df = pd.read_csv('https://archive.ics.uci.edu/ml/machine-learning-databases/breast-cancer-wisconsin/wdbc.data', \n",
    "                 header=None)"
   ]
  },
  {
   "cell_type": "markdown",
   "metadata": {},
   "source": [
    "- Next, we assign the 30 features to a NumPy array X . Using LabelEncoder, we transform the class labels from their original string representation ( M and B ) into integers:"
   ]
  },
  {
   "cell_type": "code",
   "execution_count": 51,
   "metadata": {
    "collapsed": true
   },
   "outputs": [],
   "source": [
    "from sklearn.preprocessing import LabelEncoder\n",
    "X = df.loc[:, 2:].values\n",
    "y = df.loc[:, 1].values\n",
    "le = LabelEncoder()\n",
    "y = le.fit_transform(y)"
   ]
  },
  {
   "cell_type": "markdown",
   "metadata": {},
   "source": [
    "After encoding the class labels (diagnosis) in an array y , the malignant\n",
    "tumors are now represented as class 1 , and the benign tumors are\n",
    "represented as class 0 , respectively, which we can illustrate by calling\n",
    "the transform method of LabelEncoder on two dummy class labels:"
   ]
  },
  {
   "cell_type": "code",
   "execution_count": 52,
   "metadata": {
    "collapsed": false
   },
   "outputs": [
    {
     "data": {
      "text/plain": [
       "array([1, 0])"
      ]
     },
     "execution_count": 52,
     "metadata": {},
     "output_type": "execute_result"
    }
   ],
   "source": [
    "le.transform(['M', 'B'])"
   ]
  },
  {
   "cell_type": "markdown",
   "metadata": {},
   "source": [
    "- Before we construct our first model pipeline in the following subsection, let's divide the dataset into a separate training dataset (80 percent of the data) and a separate test dataset (20 percent of the data):"
   ]
  },
  {
   "cell_type": "code",
   "execution_count": 53,
   "metadata": {
    "collapsed": false
   },
   "outputs": [],
   "source": [
    "from sklearn.model_selection import train_test_split\n",
    "X_train, X_test, y_train, y_test = train_test_split(X, y, test_size=0.20, random_state=1)"
   ]
  },
  {
   "cell_type": "markdown",
   "metadata": {},
   "source": [
    "Many learning algorithms require input features on the same scale for optimal performance. Thus, we need to standardize the columns in the Breast Cancer Wisconsin dataset before we can feed them to a linear classifier, such as logistic regression. Furthermore, let's assume that we want to compress our data from the initial 30 dimensions onto a lower two-dimensional subspace via principal component analysis (PCA). Instead of going through the fitting and transformation steps for the training and test dataset separately, we can chain the StandardScaler, PCA , and LogisticRegression objects in a pipeline:"
   ]
  },
  {
   "cell_type": "code",
   "execution_count": 54,
   "metadata": {
    "collapsed": false
   },
   "outputs": [
    {
     "name": "stdout",
     "output_type": "stream",
     "text": [
      "Test Accuracy: 0.947\n"
     ]
    }
   ],
   "source": [
    "from sklearn.preprocessing import StandardScaler\n",
    "from sklearn.decomposition import PCA\n",
    "from sklearn.linear_model import LogisticRegression\n",
    "from sklearn.pipeline import Pipeline\n",
    "pipe_lr = Pipeline([('scl', StandardScaler()), ('pca', PCA(n_components=2)), \n",
    "                    ('clf', LogisticRegression(random_state=1))])\n",
    "pipe_lr.fit(X_train, y_train)\n",
    "print('Test Accuracy: %.3f' % pipe_lr.score(X_test, y_test))"
   ]
  },
  {
   "cell_type": "markdown",
   "metadata": {},
   "source": [
    "The intermediate steps in a pipeline constitute scikit-learn transformers, and the last step is an estimator. In the preceding code example, we built a pipeline that consisted of two intermediate steps, a StandardScaler and a PCA transformer, and a logistic regression classifier as a final estimator. When we executed the fit method on the pipeline pipe_lr , the StandardScaler performed fit and transform on the training data, and the transformed training data was then passed onto the next object in the pipeline, the PCA. Similar to the previous step, PCA also executed fit and transform on the scaled input data and passed it to the final element of the pipeline, the estimator. We should note that there is no limit to the number of intermediate steps in this pipeline. "
   ]
  },
  {
   "cell_type": "markdown",
   "metadata": {},
   "source": [
    "## 10 Performance Metrics"
   ]
  },
  {
   "cell_type": "markdown",
   "metadata": {},
   "source": [
    "In the previous sections and chapters, we evaluated our models using the mean squared error, which is a useful metric to quantify the performance of a model in general. However, there are several other performance metrics that can be used to measure a model's relevance, such as precision, recall, and the F1-score.\n",
    "\n",
    "Before we get into the details of different scoring metrics, let's print a so-called confusion matrix, a matrix that lays out the performance of a learning algorithm. The confusion matrix is simply a square matrix that reports the counts of the true positive, true negative, false positive, and false negative predictions of a classifier.\n",
    "\n",
    "Although these metrics can be easily computed manually by comparing the true and predicted class labels, cikit-learn provides a convenient confusion_matrix function that we can use as follows:"
   ]
  },
  {
   "cell_type": "code",
   "execution_count": 55,
   "metadata": {
    "collapsed": false
   },
   "outputs": [
    {
     "name": "stdout",
     "output_type": "stream",
     "text": [
      "[[71  1]\n",
      " [ 5 37]]\n"
     ]
    }
   ],
   "source": [
    "from sklearn.metrics import confusion_matrix\n",
    "y_pred = pipe_lr.predict(X_test)\n",
    "confmat = confusion_matrix(y_true=y_test, y_pred=y_pred)\n",
    "print(confmat)"
   ]
  },
  {
   "cell_type": "markdown",
   "metadata": {},
   "source": [
    "The array that was returned after executing the preceding code provides us with information about the different types of errors the classifier made on the test dataset that we can map onto the confusion matrix illustration in the previous figure using matplotlib's matshow function:"
   ]
  },
  {
   "cell_type": "code",
   "execution_count": 56,
   "metadata": {
    "collapsed": false
   },
   "outputs": [
    {
     "data": {
      "image/png": "[encoded data removed]",
      "text/plain": [
       "<matplotlib.figure.Figure at 0x7fca1c2bb7f0>"
      ]
     },
     "metadata": {},
     "output_type": "display_data"
    }
   ],
   "source": [
    "fig, ax = plt.subplots(figsize=(5.5, 5.5))\n",
    "ax.matshow(confmat, cmap=plt.cm.Blues, alpha=0.3)\n",
    "for i in range(confmat.shape[0]):\n",
    "    for j in range(confmat.shape[1]):\n",
    "        ax.text(x=j, y=i,\n",
    "                s=confmat[i, j],\n",
    "                va='center', ha='center')\n",
    "plt.xlabel('predicted label')\n",
    "plt.ylabel('true label')\n",
    "plt.show()"
   ]
  },
  {
   "cell_type": "markdown",
   "metadata": {},
   "source": [
    "Assuming that class 1 (malignant) is the positive class in this example, our model correctly classified 71 of the samples that belong to class 0 (false negatives) and 37 samples that belong to class 1 (true positives), respectively. However, our model also incorrectly misclassified 5 samples from class 0 as class 1 (false negatives), and it predicted that 1 sample is benign although it is a malignant tumor (false positive). In the next section, we will learn how we can use this information to calculate various different error metrics.\n",
    "\n",
    "Both the prediction error (ERR) and accuracy (ACC) provide general information about how many samples are misclassified. The error can be understood as the sum of all false predictions divided by the number of total predictions, and the accuracy is calculated as the sum of correct predictions divided by the total number\n",
    "of predictions, respectively:\n",
    "\n",
    "$$ERR = \\frac{FP + FN}{Total}$$\n",
    "\n",
    "The prediction accuracy can then be calculated directly from the error:\n",
    "\n",
    "$$ACC = \\frac{TP + TN}{Total} = 1 − ERR$$\n",
    "\n",
    "In tumor diagnosis, for example, we are more concerned about the detection of malignant tumors in order to help a patient with the appropriate treatment. However, it is also important to decrease the number of benign tumors that were incorrectly classified as malignant (false positives) to not unnecessarily concern a patient. \n",
    "\n",
    "Precision (P) is defined as the number of true positives ($T_p$) over the number of true positives plus the number of false positives ($F_p$).\n",
    "\n",
    "$$P = \\frac{T_p}{T_p+F_p}$$\n",
    "\n",
    "Recall (R) is defined as the number of true positives ($T_p$) over the number of true positives plus the number of false negatives ($F_n$).\n",
    "\n",
    "$$R = \\frac{T_p}{T_p + F_n}$$\n",
    "\n",
    "These quantities are also related to the ($F_1$) score, which is defined as the harmonic mean of precision and recall.\n",
    "\n",
    "$$F_1 = 2\\frac{P \\times R}{P+R}$$\n",
    "\n",
    "It is important to note that the precision may not decrease with recall. The definition of precision ($\\frac{T_p}{T_p + F_p}$) shows that lowering the threshold of a classifier may increase the denominator, by increasing the number of results returned. If the threshold was previously set too high, the new results may all be true positives, which will increase precision. If the previous threshold was about right or too low, further lowering the threshold will introduce false positives, decreasing precision.\n",
    "\n",
    "Recall is defined as $\\frac{T_p}{T_p+F_n}$, where $T_p+F_n$ does not depend on the classifier threshold. This means that lowering the classifier threshold may increase recall, by increasing the number of true positive results. It is also possible that lowering the threshold may leave recall unchanged, while the precision fluctuates.\n",
    "\n",
    "These scoring metrics are all implemented in scikit-learn and can be imported from the sklearn.metrics module:"
   ]
  },
  {
   "cell_type": "code",
   "execution_count": 57,
   "metadata": {
    "collapsed": false
   },
   "outputs": [
    {
     "name": "stdout",
     "output_type": "stream",
     "text": [
      "Precision: 0.974\n",
      "Recall: 0.881\n",
      "F1: 0.925\n"
     ]
    }
   ],
   "source": [
    "from sklearn.metrics import precision_score\n",
    "from sklearn.metrics import recall_score, f1_score\n",
    "print('Precision: %.3f' % precision_score(y_true=y_test, y_pred=y_pred))\n",
    "print('Recall: %.3f' % recall_score(y_true=y_test, y_pred=y_pred))\n",
    "print('F1: %.3f' % f1_score(y_true=y_test, y_pred=y_pred))"
   ]
  },
  {
   "cell_type": "markdown",
   "metadata": {},
   "source": [
    "---\n",
    "\n",
    "Visit [www.add-for.com](<http://www.add-for.com/IT>) for more tutorials and updates.\n",
    "\n",
    "This work is licensed under a <a rel=\"license\" href=\"http://creativecommons.org/licenses/by-sa/4.0/\">Creative Commons Attribution-ShareAlike 4.0 International License</a>."
   ]
  }
 ],
 "metadata": {
  "anaconda-cloud": {},
  "kernelspec": {
   "display_name": "Python [conda env:addtrain]",
   "language": "python",
   "name": "conda-env-addtrain-py"
  },
  "language_info": {
   "codemirror_mode": {
    "name": "ipython",
    "version": 3
   },
   "file_extension": ".py",
   "mimetype": "text/x-python",
   "name": "python",
   "nbconvert_exporter": "python",
   "pygments_lexer": "ipython3",
   "version": "3.5.2"
  }
 },
 "nbformat": 4,
 "nbformat_minor": 0
}
