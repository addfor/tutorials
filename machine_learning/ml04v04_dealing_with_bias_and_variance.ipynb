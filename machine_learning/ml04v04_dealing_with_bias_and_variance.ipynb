{
 "cells": [
  {
   "cell_type": "markdown",
   "metadata": {},
   "source": [
    "# Dealing with Bias and Variance"
   ]
  },
  {
   "cell_type": "code",
   "execution_count": 1,
   "metadata": {},
   "outputs": [
    {
     "data": {
      "text/html": [
       "<div id='toc-container'><script type='text/javascript'>\n",
       "$(function() {\n",
       "    function regenTOC(){\n",
       "        element = $(\"#toc-container\");\n",
       "\n",
       "\tvar toc = document.createElement(\"div\");\n",
       "\t$(toc).attr(\"class\", \"table-of-contents\");\n",
       "\n",
       "\tvar curLevel = 0;\n",
       "\tvar containerStack = [toc];\n",
       "\tvar levelOfTag = {\"h2\": 1, \"h3\": 2, \"h4\": 3, \"h5\": 4};\n",
       "\n",
       "\tfunction pushLevel() {\n",
       "            var list = document.createElement(\"ul\");\n",
       "            containerStack.push(list);\n",
       "            curLevel++;\n",
       "\t}\n",
       "\t\n",
       "\tfunction popLevel() {\n",
       "            var lastContainer = containerStack.pop();\n",
       "            $(lastContainer).appendTo(containerStack[containerStack.length - 1]);\n",
       "            curLevel--;\n",
       "\t}\n",
       "\t\n",
       "\t$(\".text_cell_render :header\").each(function (i, elem) {\n",
       "            var level = levelOfTag[ elem.tagName.toLowerCase() ];\n",
       "\n",
       "            if (level === undefined)\n",
       "\t\treturn;\n",
       "\n",
       "            while (curLevel < level)\n",
       "\t\tpushLevel();\n",
       "            while (curLevel > level)\n",
       "\t\tpopLevel();\n",
       "            \n",
       "            var listItem = document.createElement(\"li\");\n",
       "            var link = document.createElement(\"a\");\n",
       "            $(link)\n",
       "\t\t.text($(elem).contents().first().text()) // Remove the pilcrow sign\n",
       "\t\t.attr(\"href\", \"#\" + $(elem).attr(\"id\"))\n",
       "\t\t.appendTo(listItem);\n",
       "            $(listItem).appendTo(containerStack[containerStack.length - 1]);\n",
       "\t});\n",
       "\t\n",
       "\twhile (curLevel > 0)\n",
       "            popLevel();\n",
       "\n",
       "        $(\"<a class='btn-update' href='#'>Update</a>\")\n",
       "          .click(regenTOC).prependTo(toc);\n",
       "\n",
       "\t$(toc).prepend(\"<div class='title'>Contents</div>\")\n",
       "          .wrap(\"<div class='toc-headings'/>\");\n",
       "\n",
       "        $(element).empty();\n",
       "        $(element).append(toc);\n",
       "    }\n",
       "\n",
       "    if (typeof(IPython) !== 'undefined')\n",
       "        $([IPython.events]).on('notebook_loaded.Notebook', regenTOC);\n",
       "    regenTOC();\n",
       "});\n",
       "\n",
       "</script></div>"
      ],
      "text/plain": [
       "<IPython.core.display.HTML object>"
      ]
     },
     "execution_count": 1,
     "metadata": {},
     "output_type": "execute_result"
    }
   ],
   "source": [
    "import addutils.toc ; addutils.toc.js(ipy_notebook=True)"
   ]
  },
  {
   "cell_type": "code",
   "execution_count": 2,
   "metadata": {},
   "outputs": [
    {
     "data": {
      "text/html": [
       "<style>\n",
       ".text_cell_render @font-face {\n",
       "    font-family: \"Computer Modern\";\n",
       "    src: url('http://mirrors.ctan.org/fonts/cm-unicode/fonts/otf/cmunss.otf');\n",
       "}\n",
       "\n",
       "div.cell {\n",
       "    width: 900px;\n",
       "    margin-left: 0% !important;\n",
       "    margin-right: 0%;\n",
       "}\n",
       "\n",
       "code {\n",
       "    font-size:10pt;\n",
       "}\n",
       "\n",
       ".text_cell_render  h1 {\n",
       "    font-family: Tahoma, sans-serif;\n",
       "    color: rgb( 10, 88, 126 );\n",
       "    font-size:28pt;\n",
       "}\n",
       ".text_cell_render h2 {\n",
       "    font-family: Tahoma, sans-serif;\n",
       "    color: rgb( 10, 88, 126 );\n",
       "    font-size:24pt;\n",
       "}\n",
       ".text_cell_render h3 {\n",
       "    font-family: Tahoma, sans-serif;\n",
       "    color: rgb( 10, 88, 126 );\n",
       "    font-size:20pt;\n",
       "}\n",
       ".text_cell_render h4 {\n",
       "    font-family: Tahoma, sans-serif;\n",
       "    color: rgb( 10, 88, 126 );\n",
       "    font-size:18pt;\n",
       "    margin-top:12px;\n",
       "    margin-bottom: 3px;\n",
       "}\n",
       "\n",
       ".text_cell_render h5 {\n",
       "    font-weight: 300;\n",
       "    font-size: 11pt;\n",
       "    color: rgb( 48, 48, 48 );\n",
       "    font-style: italic;\n",
       "    margin-bottom: .5em;\n",
       "    margin-top: 0.5em;\n",
       "    display: block;\n",
       "}\n",
       "\n",
       ".text_cell_render ul {\n",
       "    font-family: Tahoma, sans-serif;\n",
       "    color: rgb( 90, 90, 90 );\n",
       "    font-size:11pt;\n",
       "    line-height: 185%;\n",
       "}\n",
       "\n",
       ".text_cell_render yp {\n",
       "    font-family: Tahoma, sans-serif;\n",
       "    color: rgb( 90, 90, 90 );\n",
       "    font-size:11pt;\n",
       "}\n",
       "\n",
       ".text_cell_render strong {\n",
       "    font-family: Tahoma, sans-serif;\n",
       "    color: rgb( 30, 30, 30 );\n",
       "    font-size:11pt;\n",
       "}\n",
       "\n",
       ".text_cell_render a:link {\n",
       "    font-family: Tahoma, sans-serif;\n",
       "    color: rgb( 10, 88, 126 );\n",
       "    font-size:11pt;\n",
       "}\n",
       "\n",
       ".text_cell_render a:visited {\n",
       "    color:rgb( 10, 88, 126 );\n",
       "}\n",
       "\n",
       ".text_cell_render {\n",
       "    font-family: Helvetica, Courier, Computer Modern, \"Helvetica Neue\", Arial, Geneva, sans-serif;\n",
       "    color: rgb( 84, 84, 84 );\n",
       "    font-size:11pt;\n",
       "    line-height: 125%;\n",
       "    font-size: 100%;\n",
       "    width:800px;\n",
       "}\n",
       "\n",
       ".CodeMirror {\n",
       "    font-family: Courier, \"Source Code Pro\", source-code-pro,Consolas, monospace;\n",
       "}\n",
       "\n",
       ".warning {\n",
       "    color: rgb( 240, 20, 20 );\n",
       "}\n",
       "\n",
       "/* Pandas tables */\n",
       "/*\n",
       ".rendered_html td {\n",
       "    text-align: right;\n",
       "}\n",
       "*/\n",
       "\n",
       "table.dataframe td {\n",
       "    text-align: right;\n",
       "}\n",
       "\n",
       ".output .table-of-contents {\n",
       "    border: 1px #cecece solid;\n",
       "    background-color: #fafafa;\n",
       "    padding-top: 10px;\n",
       "    padding-bottom: 5px;\n",
       "    padding-right: 15px;\n",
       "    padding-left: 0px;\n",
       "    margin-bottom: 20px;\n",
       "    display: inline-block;\n",
       "    position: relative;\n",
       "}\n",
       "\n",
       ".output .table-of-contents ul {\n",
       "    list-style-type: none;\n",
       "    padding-left: 20px;\n",
       "}\n",
       "\n",
       ".output .table-of-contents .title {\n",
       "    font-weight: bold;\n",
       "    font-height: 11pt;\n",
       "    padding-left: 20px; /* looks better if it's the same to the <ul> */\n",
       "}\n",
       "\n",
       ".output .table-of-contents .btn-update {\n",
       "    position: absolute;\n",
       "    float: right;\n",
       "    right: 11px;\n",
       "    top: 4px;\n",
       "    font-size: 9pt;\n",
       "}\n",
       "\n",
       "</style>\n",
       "<script>\n",
       "    MathJax.Hub.Config({\n",
       "                        TeX: {\n",
       "                           extensions: [\"AMSmath.js\"]\n",
       "                           },\n",
       "                displayAlign: 'center', // Change this to 'center' to center equations.\n",
       "                \"HTML-CSS\": {\n",
       "                    styles: {'.MathJax_Display': {\"margin\": 4}}\n",
       "                }\n",
       "        });\n",
       "</script>\n"
      ],
      "text/plain": [
       "<IPython.core.display.HTML object>"
      ]
     },
     "execution_count": 2,
     "metadata": {},
     "output_type": "execute_result"
    }
   ],
   "source": [
    "import scipy.io\n",
    "import numpy as np\n",
    "import pandas as pd\n",
    "from time import time\n",
    "from addutils import css_notebook\n",
    "from sklearn import metrics\n",
    "import sys\n",
    "import os\n",
    "from IPython.core.display import Image\n",
    "css_notebook()"
   ]
  },
  {
   "cell_type": "code",
   "execution_count": 3,
   "metadata": {},
   "outputs": [
    {
     "data": {
      "text/html": [
       "\n",
       "    <div class=\"bk-root\">\n",
       "        <a href=\"https://bokeh.pydata.org\" target=\"_blank\" class=\"bk-logo bk-logo-small bk-logo-notebook\"></a>\n",
       "        <span id=\"8001e182-53dc-42cc-bfdf-b1fe2a6ec26a\">Loading BokehJS ...</span>\n",
       "    </div>"
      ]
     },
     "metadata": {},
     "output_type": "display_data"
    },
    {
     "data": {
      "application/javascript": [
       "\n",
       "(function(root) {\n",
       "  function now() {\n",
       "    return new Date();\n",
       "  }\n",
       "\n",
       "  var force = true;\n",
       "\n",
       "  if (typeof (root._bokeh_onload_callbacks) === \"undefined\" || force === true) {\n",
       "    root._bokeh_onload_callbacks = [];\n",
       "    root._bokeh_is_loading = undefined;\n",
       "  }\n",
       "\n",
       "  var JS_MIME_TYPE = 'application/javascript';\n",
       "  var HTML_MIME_TYPE = 'text/html';\n",
       "  var EXEC_MIME_TYPE = 'application/vnd.bokehjs_exec.v0+json';\n",
       "  var CLASS_NAME = 'output_bokeh rendered_html';\n",
       "\n",
       "  /**\n",
       "   * Render data to the DOM node\n",
       "   */\n",
       "  function render(props, node) {\n",
       "    var script = document.createElement(\"script\");\n",
       "    node.appendChild(script);\n",
       "  }\n",
       "\n",
       "  /**\n",
       "   * Handle when an output is cleared or removed\n",
       "   */\n",
       "  function handleClearOutput(event, handle) {\n",
       "    var cell = handle.cell;\n",
       "\n",
       "    var id = cell.output_area._bokeh_element_id;\n",
       "    var server_id = cell.output_area._bokeh_server_id;\n",
       "    // Clean up Bokeh references\n",
       "    if (id !== undefined) {\n",
       "      Bokeh.index[id].model.document.clear();\n",
       "      delete Bokeh.index[id];\n",
       "    }\n",
       "\n",
       "    if (server_id !== undefined) {\n",
       "      // Clean up Bokeh references\n",
       "      var cmd = \"from bokeh.io.state import curstate; print(curstate().uuid_to_server['\" + server_id + \"'].get_sessions()[0].document.roots[0]._id)\";\n",
       "      cell.notebook.kernel.execute(cmd, {\n",
       "        iopub: {\n",
       "          output: function(msg) {\n",
       "            var element_id = msg.content.text.trim();\n",
       "            Bokeh.index[element_id].model.document.clear();\n",
       "            delete Bokeh.index[element_id];\n",
       "          }\n",
       "        }\n",
       "      });\n",
       "      // Destroy server and session\n",
       "      var cmd = \"import bokeh.io.notebook as ion; ion.destroy_server('\" + server_id + \"')\";\n",
       "      cell.notebook.kernel.execute(cmd);\n",
       "    }\n",
       "  }\n",
       "\n",
       "  /**\n",
       "   * Handle when a new output is added\n",
       "   */\n",
       "  function handleAddOutput(event, handle) {\n",
       "    var output_area = handle.output_area;\n",
       "    var output = handle.output;\n",
       "\n",
       "    // limit handleAddOutput to display_data with EXEC_MIME_TYPE content only\n",
       "    if ((output.output_type != \"display_data\") || (!output.data.hasOwnProperty(EXEC_MIME_TYPE))) {\n",
       "      return\n",
       "    }\n",
       "\n",
       "    var toinsert = output_area.element.find(\".\" + CLASS_NAME.split(' ')[0]);\n",
       "\n",
       "    if (output.metadata[EXEC_MIME_TYPE][\"id\"] !== undefined) {\n",
       "      toinsert[0].firstChild.textContent = output.data[JS_MIME_TYPE];\n",
       "      // store reference to embed id on output_area\n",
       "      output_area._bokeh_element_id = output.metadata[EXEC_MIME_TYPE][\"id\"];\n",
       "    }\n",
       "    if (output.metadata[EXEC_MIME_TYPE][\"server_id\"] !== undefined) {\n",
       "      var bk_div = document.createElement(\"div\");\n",
       "      bk_div.innerHTML = output.data[HTML_MIME_TYPE];\n",
       "      var script_attrs = bk_div.children[0].attributes;\n",
       "      for (var i = 0; i < script_attrs.length; i++) {\n",
       "        toinsert[0].firstChild.setAttribute(script_attrs[i].name, script_attrs[i].value);\n",
       "      }\n",
       "      // store reference to server id on output_area\n",
       "      output_area._bokeh_server_id = output.metadata[EXEC_MIME_TYPE][\"server_id\"];\n",
       "    }\n",
       "  }\n",
       "\n",
       "  function register_renderer(events, OutputArea) {\n",
       "\n",
       "    function append_mime(data, metadata, element) {\n",
       "      // create a DOM node to render to\n",
       "      var toinsert = this.create_output_subarea(\n",
       "        metadata,\n",
       "        CLASS_NAME,\n",
       "        EXEC_MIME_TYPE\n",
       "      );\n",
       "      this.keyboard_manager.register_events(toinsert);\n",
       "      // Render to node\n",
       "      var props = {data: data, metadata: metadata[EXEC_MIME_TYPE]};\n",
       "      render(props, toinsert[0]);\n",
       "      element.append(toinsert);\n",
       "      return toinsert\n",
       "    }\n",
       "\n",
       "    /* Handle when an output is cleared or removed */\n",
       "    events.on('clear_output.CodeCell', handleClearOutput);\n",
       "    events.on('delete.Cell', handleClearOutput);\n",
       "\n",
       "    /* Handle when a new output is added */\n",
       "    events.on('output_added.OutputArea', handleAddOutput);\n",
       "\n",
       "    /**\n",
       "     * Register the mime type and append_mime function with output_area\n",
       "     */\n",
       "    OutputArea.prototype.register_mime_type(EXEC_MIME_TYPE, append_mime, {\n",
       "      /* Is output safe? */\n",
       "      safe: true,\n",
       "      /* Index of renderer in `output_area.display_order` */\n",
       "      index: 0\n",
       "    });\n",
       "  }\n",
       "\n",
       "  // register the mime type if in Jupyter Notebook environment and previously unregistered\n",
       "  if (root.Jupyter !== undefined) {\n",
       "    var events = require('base/js/events');\n",
       "    var OutputArea = require('notebook/js/outputarea').OutputArea;\n",
       "\n",
       "    if (OutputArea.prototype.mime_types().indexOf(EXEC_MIME_TYPE) == -1) {\n",
       "      register_renderer(events, OutputArea);\n",
       "    }\n",
       "  }\n",
       "\n",
       "  \n",
       "  if (typeof (root._bokeh_timeout) === \"undefined\" || force === true) {\n",
       "    root._bokeh_timeout = Date.now() + 5000;\n",
       "    root._bokeh_failed_load = false;\n",
       "  }\n",
       "\n",
       "  var NB_LOAD_WARNING = {'data': {'text/html':\n",
       "     \"<div style='background-color: #fdd'>\\n\"+\n",
       "     \"<p>\\n\"+\n",
       "     \"BokehJS does not appear to have successfully loaded. If loading BokehJS from CDN, this \\n\"+\n",
       "     \"may be due to a slow or bad network connection. Possible fixes:\\n\"+\n",
       "     \"</p>\\n\"+\n",
       "     \"<ul>\\n\"+\n",
       "     \"<li>re-rerun `output_notebook()` to attempt to load from CDN again, or</li>\\n\"+\n",
       "     \"<li>use INLINE resources instead, as so:</li>\\n\"+\n",
       "     \"</ul>\\n\"+\n",
       "     \"<code>\\n\"+\n",
       "     \"from bokeh.resources import INLINE\\n\"+\n",
       "     \"output_notebook(resources=INLINE)\\n\"+\n",
       "     \"</code>\\n\"+\n",
       "     \"</div>\"}};\n",
       "\n",
       "  function display_loaded() {\n",
       "    var el = document.getElementById(\"8001e182-53dc-42cc-bfdf-b1fe2a6ec26a\");\n",
       "    if (el != null) {\n",
       "      el.textContent = \"BokehJS is loading...\";\n",
       "    }\n",
       "    if (root.Bokeh !== undefined) {\n",
       "      if (el != null) {\n",
       "        el.textContent = \"BokehJS \" + root.Bokeh.version + \" successfully loaded.\";\n",
       "      }\n",
       "    } else if (Date.now() < root._bokeh_timeout) {\n",
       "      setTimeout(display_loaded, 100)\n",
       "    }\n",
       "  }\n",
       "\n",
       "\n",
       "  function run_callbacks() {\n",
       "    try {\n",
       "      root._bokeh_onload_callbacks.forEach(function(callback) { callback() });\n",
       "    }\n",
       "    finally {\n",
       "      delete root._bokeh_onload_callbacks\n",
       "    }\n",
       "    console.info(\"Bokeh: all callbacks have finished\");\n",
       "  }\n",
       "\n",
       "  function load_libs(js_urls, callback) {\n",
       "    root._bokeh_onload_callbacks.push(callback);\n",
       "    if (root._bokeh_is_loading > 0) {\n",
       "      console.log(\"Bokeh: BokehJS is being loaded, scheduling callback at\", now());\n",
       "      return null;\n",
       "    }\n",
       "    if (js_urls == null || js_urls.length === 0) {\n",
       "      run_callbacks();\n",
       "      return null;\n",
       "    }\n",
       "    console.log(\"Bokeh: BokehJS not loaded, scheduling load and callback at\", now());\n",
       "    root._bokeh_is_loading = js_urls.length;\n",
       "    for (var i = 0; i < js_urls.length; i++) {\n",
       "      var url = js_urls[i];\n",
       "      var s = document.createElement('script');\n",
       "      s.src = url;\n",
       "      s.async = false;\n",
       "      s.onreadystatechange = s.onload = function() {\n",
       "        root._bokeh_is_loading--;\n",
       "        if (root._bokeh_is_loading === 0) {\n",
       "          console.log(\"Bokeh: all BokehJS libraries loaded\");\n",
       "          run_callbacks()\n",
       "        }\n",
       "      };\n",
       "      s.onerror = function() {\n",
       "        console.warn(\"failed to load library \" + url);\n",
       "      };\n",
       "      console.log(\"Bokeh: injecting script tag for BokehJS library: \", url);\n",
       "      document.getElementsByTagName(\"head\")[0].appendChild(s);\n",
       "    }\n",
       "  };var element = document.getElementById(\"8001e182-53dc-42cc-bfdf-b1fe2a6ec26a\");\n",
       "  if (element == null) {\n",
       "    console.log(\"Bokeh: ERROR: autoload.js configured with elementid '8001e182-53dc-42cc-bfdf-b1fe2a6ec26a' but no matching script tag was found. \")\n",
       "    return false;\n",
       "  }\n",
       "\n",
       "  var js_urls = [\"https://cdn.pydata.org/bokeh/release/bokeh-0.12.13.min.js\", \"https://cdn.pydata.org/bokeh/release/bokeh-widgets-0.12.13.min.js\", \"https://cdn.pydata.org/bokeh/release/bokeh-tables-0.12.13.min.js\", \"https://cdn.pydata.org/bokeh/release/bokeh-gl-0.12.13.min.js\"];\n",
       "\n",
       "  var inline_js = [\n",
       "    function(Bokeh) {\n",
       "      Bokeh.set_log_level(\"info\");\n",
       "    },\n",
       "    \n",
       "    function(Bokeh) {\n",
       "      \n",
       "    },\n",
       "    function(Bokeh) {\n",
       "      console.log(\"Bokeh: injecting CSS: https://cdn.pydata.org/bokeh/release/bokeh-0.12.13.min.css\");\n",
       "      Bokeh.embed.inject_css(\"https://cdn.pydata.org/bokeh/release/bokeh-0.12.13.min.css\");\n",
       "      console.log(\"Bokeh: injecting CSS: https://cdn.pydata.org/bokeh/release/bokeh-widgets-0.12.13.min.css\");\n",
       "      Bokeh.embed.inject_css(\"https://cdn.pydata.org/bokeh/release/bokeh-widgets-0.12.13.min.css\");\n",
       "      console.log(\"Bokeh: injecting CSS: https://cdn.pydata.org/bokeh/release/bokeh-tables-0.12.13.min.css\");\n",
       "      Bokeh.embed.inject_css(\"https://cdn.pydata.org/bokeh/release/bokeh-tables-0.12.13.min.css\");\n",
       "    }\n",
       "  ];\n",
       "\n",
       "  function run_inline_js() {\n",
       "    \n",
       "    if ((root.Bokeh !== undefined) || (force === true)) {\n",
       "      for (var i = 0; i < inline_js.length; i++) {\n",
       "        inline_js[i].call(root, root.Bokeh);\n",
       "      }if (force === true) {\n",
       "        display_loaded();\n",
       "      }} else if (Date.now() < root._bokeh_timeout) {\n",
       "      setTimeout(run_inline_js, 100);\n",
       "    } else if (!root._bokeh_failed_load) {\n",
       "      console.log(\"Bokeh: BokehJS failed to load within specified timeout.\");\n",
       "      root._bokeh_failed_load = true;\n",
       "    } else if (force !== true) {\n",
       "      var cell = $(document.getElementById(\"8001e182-53dc-42cc-bfdf-b1fe2a6ec26a\")).parents('.cell').data().cell;\n",
       "      cell.output_area.append_execute_result(NB_LOAD_WARNING)\n",
       "    }\n",
       "\n",
       "  }\n",
       "\n",
       "  if (root._bokeh_is_loading === 0) {\n",
       "    console.log(\"Bokeh: BokehJS loaded, going straight to plotting\");\n",
       "    run_inline_js();\n",
       "  } else {\n",
       "    load_libs(js_urls, function() {\n",
       "      console.log(\"Bokeh: BokehJS plotting callback run at\", now());\n",
       "      run_inline_js();\n",
       "    });\n",
       "  }\n",
       "}(window));"
      ],
      "application/vnd.bokehjs_load.v0+json": "\n(function(root) {\n  function now() {\n    return new Date();\n  }\n\n  var force = true;\n\n  if (typeof (root._bokeh_onload_callbacks) === \"undefined\" || force === true) {\n    root._bokeh_onload_callbacks = [];\n    root._bokeh_is_loading = undefined;\n  }\n\n  \n\n  \n  if (typeof (root._bokeh_timeout) === \"undefined\" || force === true) {\n    root._bokeh_timeout = Date.now() + 5000;\n    root._bokeh_failed_load = false;\n  }\n\n  var NB_LOAD_WARNING = {'data': {'text/html':\n     \"<div style='background-color: #fdd'>\\n\"+\n     \"<p>\\n\"+\n     \"BokehJS does not appear to have successfully loaded. If loading BokehJS from CDN, this \\n\"+\n     \"may be due to a slow or bad network connection. Possible fixes:\\n\"+\n     \"</p>\\n\"+\n     \"<ul>\\n\"+\n     \"<li>re-rerun `output_notebook()` to attempt to load from CDN again, or</li>\\n\"+\n     \"<li>use INLINE resources instead, as so:</li>\\n\"+\n     \"</ul>\\n\"+\n     \"<code>\\n\"+\n     \"from bokeh.resources import INLINE\\n\"+\n     \"output_notebook(resources=INLINE)\\n\"+\n     \"</code>\\n\"+\n     \"</div>\"}};\n\n  function display_loaded() {\n    var el = document.getElementById(\"8001e182-53dc-42cc-bfdf-b1fe2a6ec26a\");\n    if (el != null) {\n      el.textContent = \"BokehJS is loading...\";\n    }\n    if (root.Bokeh !== undefined) {\n      if (el != null) {\n        el.textContent = \"BokehJS \" + root.Bokeh.version + \" successfully loaded.\";\n      }\n    } else if (Date.now() < root._bokeh_timeout) {\n      setTimeout(display_loaded, 100)\n    }\n  }\n\n\n  function run_callbacks() {\n    try {\n      root._bokeh_onload_callbacks.forEach(function(callback) { callback() });\n    }\n    finally {\n      delete root._bokeh_onload_callbacks\n    }\n    console.info(\"Bokeh: all callbacks have finished\");\n  }\n\n  function load_libs(js_urls, callback) {\n    root._bokeh_onload_callbacks.push(callback);\n    if (root._bokeh_is_loading > 0) {\n      console.log(\"Bokeh: BokehJS is being loaded, scheduling callback at\", now());\n      return null;\n    }\n    if (js_urls == null || js_urls.length === 0) {\n      run_callbacks();\n      return null;\n    }\n    console.log(\"Bokeh: BokehJS not loaded, scheduling load and callback at\", now());\n    root._bokeh_is_loading = js_urls.length;\n    for (var i = 0; i < js_urls.length; i++) {\n      var url = js_urls[i];\n      var s = document.createElement('script');\n      s.src = url;\n      s.async = false;\n      s.onreadystatechange = s.onload = function() {\n        root._bokeh_is_loading--;\n        if (root._bokeh_is_loading === 0) {\n          console.log(\"Bokeh: all BokehJS libraries loaded\");\n          run_callbacks()\n        }\n      };\n      s.onerror = function() {\n        console.warn(\"failed to load library \" + url);\n      };\n      console.log(\"Bokeh: injecting script tag for BokehJS library: \", url);\n      document.getElementsByTagName(\"head\")[0].appendChild(s);\n    }\n  };var element = document.getElementById(\"8001e182-53dc-42cc-bfdf-b1fe2a6ec26a\");\n  if (element == null) {\n    console.log(\"Bokeh: ERROR: autoload.js configured with elementid '8001e182-53dc-42cc-bfdf-b1fe2a6ec26a' but no matching script tag was found. \")\n    return false;\n  }\n\n  var js_urls = [\"https://cdn.pydata.org/bokeh/release/bokeh-0.12.13.min.js\", \"https://cdn.pydata.org/bokeh/release/bokeh-widgets-0.12.13.min.js\", \"https://cdn.pydata.org/bokeh/release/bokeh-tables-0.12.13.min.js\", \"https://cdn.pydata.org/bokeh/release/bokeh-gl-0.12.13.min.js\"];\n\n  var inline_js = [\n    function(Bokeh) {\n      Bokeh.set_log_level(\"info\");\n    },\n    \n    function(Bokeh) {\n      \n    },\n    function(Bokeh) {\n      console.log(\"Bokeh: injecting CSS: https://cdn.pydata.org/bokeh/release/bokeh-0.12.13.min.css\");\n      Bokeh.embed.inject_css(\"https://cdn.pydata.org/bokeh/release/bokeh-0.12.13.min.css\");\n      console.log(\"Bokeh: injecting CSS: https://cdn.pydata.org/bokeh/release/bokeh-widgets-0.12.13.min.css\");\n      Bokeh.embed.inject_css(\"https://cdn.pydata.org/bokeh/release/bokeh-widgets-0.12.13.min.css\");\n      console.log(\"Bokeh: injecting CSS: https://cdn.pydata.org/bokeh/release/bokeh-tables-0.12.13.min.css\");\n      Bokeh.embed.inject_css(\"https://cdn.pydata.org/bokeh/release/bokeh-tables-0.12.13.min.css\");\n    }\n  ];\n\n  function run_inline_js() {\n    \n    if ((root.Bokeh !== undefined) || (force === true)) {\n      for (var i = 0; i < inline_js.length; i++) {\n        inline_js[i].call(root, root.Bokeh);\n      }if (force === true) {\n        display_loaded();\n      }} else if (Date.now() < root._bokeh_timeout) {\n      setTimeout(run_inline_js, 100);\n    } else if (!root._bokeh_failed_load) {\n      console.log(\"Bokeh: BokehJS failed to load within specified timeout.\");\n      root._bokeh_failed_load = true;\n    } else if (force !== true) {\n      var cell = $(document.getElementById(\"8001e182-53dc-42cc-bfdf-b1fe2a6ec26a\")).parents('.cell').data().cell;\n      cell.output_area.append_execute_result(NB_LOAD_WARNING)\n    }\n\n  }\n\n  if (root._bokeh_is_loading === 0) {\n    console.log(\"Bokeh: BokehJS loaded, going straight to plotting\");\n    run_inline_js();\n  } else {\n    load_libs(js_urls, function() {\n      console.log(\"Bokeh: BokehJS plotting callback run at\", now());\n      run_inline_js();\n    });\n  }\n}(window));"
     },
     "metadata": {},
     "output_type": "display_data"
    }
   ],
   "source": [
    "import bokeh.plotting as bk\n",
    "bk.output_notebook()"
   ]
  },
  {
   "cell_type": "markdown",
   "metadata": {},
   "source": [
    "## 1 Bias-Variance Tradeoff"
   ]
  },
  {
   "cell_type": "markdown",
   "metadata": {},
   "source": [
    "### 1.1 (In)Formal introduction to Bias and Variance\n",
    "\n",
    "Roughly speaking Machine Learning algorithms try to characterize a tradeoff between generalization (how well the model represents the general concept or function to learn) and apporoximation (how well the model fits the data). A small error denotes a good approximation of the function _out of sample_. A more complex model has a better chance of approximating $f$, in contrast a less complex model has a better chance of generalizing (picking the right approximation) out of sample.\n",
    "\n",
    "A more formal definition can be given after *Hastie, et al. 2009*.\n",
    "Let's explain Bias-Variance using linear regression problems, and specifically we'll use a squared-error measure as loss function. Assume further that the output $Y = f(X) + \\epsilon$ where $E(\\epsilon) = 0$ and $Var(\\epsilon) = \\sigma_\\epsilon^2$\n",
    "\n",
    "We estimate a model $\\widehat{f}(X)$ of a function $f(X)$, and the expected squared error of a given point $x_0$ is:\n",
    "\n",
    "$$Err(x_0) = E[(Y - \\widehat{f}(x_0))^2]$$\n",
    "\n",
    "It is possible to decompose this error in its Bias and Variance components:"
   ]
  },
  {
   "cell_type": "markdown",
   "metadata": {},
   "source": [
    "<img src=\"images/bias_variance_proof.jpg\" alt=\"bias-variance proof\" height=\"600\" width=\"600\"> "
   ]
  },
  {
   "cell_type": "markdown",
   "metadata": {},
   "source": [
    "$$Err(x_0) = \\big(E[\\widehat{f}(x_0)] - f(x_0)\\big)^2 + E\\big[\\widehat{f}(x_0) - E[\\widehat{f}(x_0)]\\big]^2 + \\sigma_{\\epsilon}^2$$\n",
    "\n",
    "$$Err(x_0) = Bias^2 + Variance + Irreducible Error$$\n",
    "\n",
    "Where $Irreducible Error$ is the variance in the true relationship that cannot be captured by any model no matter how well we estimate $f(X)$. $Bias^2$ is the difference between the average of our estimate from the true mean. $Variance$ is the expected squared deviation of $\\widehat{f}(x_0)$ around its mean. Usually the more complex is the model the lower the Bias but the higher the variance. We can give a pictorial illustration of the relationship with the image below. (The image is taken from [this](http://scott.fortmann-roe.com/docs/BiasVariance.html) blog)"
   ]
  },
  {
   "cell_type": "code",
   "execution_count": 4,
   "metadata": {},
   "outputs": [
    {
     "data": {
      "image/png": "[encoded data removed]",
      "text/plain": [
       "<IPython.core.display.Image object>"
      ]
     },
     "execution_count": 4,
     "metadata": {},
     "output_type": "execute_result"
    }
   ],
   "source": [
    "Image('utilities/bias_variance.png') "
   ]
  },
  {
   "cell_type": "markdown",
   "metadata": {},
   "source": [
    "Suppose the center (red) of each diagram is the real function to learn. As we move away from the center the prediction gets worse and worse. Each dot in the picture is a realization of the model given a subsample of the dataset; each circle is a different model (whose particular realizations are the dots) and model's characteristics are described by the two corresponding labels (horizontal and vertical).\n",
    "\n",
    "Having a model (top left) with both Low Bias and Low Variance is practically impossible since, as we will see next, if we decrese one the other increase (in this case both generalization and approximation will be good and we could learn almost the real function); the hard part is hence finding the best possible balance between the two. In case of Low Bias and High Variance (top right), the model is capable of representing the correct function but the model may be too complex, and thus more supsceptible in variation on the dataset. For this reason each dot (function approximation) draw from this model may vary considerably from estimate to estimate, depending on the particular subsample used for training. For High Bias and Low Variance (bottom left) the model is constantly learning a substantially different function respect to the true one, but each run is independent from the particular subsample of data (it generalize well but it approximate poorly). If we have a model that has both High Varianche and High Bias (bottom right) the model si constantly learning a wrong model with high variability between subsamples and thus the probability of picking a good model is very low. \n",
    "\n",
    "One can think of Bias and Variance as urn that contains a bunch of candidate approximations of an unknown function $f$. If we have few candidates in the urn (think about degenerating and have only one function in it), but each candidate is far away from the true value of $f$; in this case the Bias is high and the Variance is low, no matter of the dataset we will always return the same function. If we have a bigger urn containing a lot of candidates the probability that it contains the true function is higher, but it is difficult to navigate through the candidates to find the right one. In this case the Bias is lower but the Variance is higher, we have so many varieties that depending on which sample we get the function differs.\n",
    "\n",
    "Next we will show what we mean by complexity of the model with some practical examples in order to further understand the Bias-Variance tradeoff."
   ]
  },
  {
   "cell_type": "code",
   "execution_count": 5,
   "metadata": {},
   "outputs": [],
   "source": [
    "from utilities import biasvariance\n",
    "from bokeh.models.ranges import Range1d"
   ]
  },
  {
   "cell_type": "markdown",
   "metadata": {},
   "source": [
    "In this figure, we use polynomials with different degrees `d` to fit the same data.\n",
    "\n",
    "For `d=1`, the model suffers from **high bias**: the model complexity is not enough to represent the data.\n",
    "\n",
    "At the other extreme, for `d=6` the model suffers from **high variance**: the mode overfit the data because it has too many free parameters.  In this case a typical behaviour is that if any of the input points are varied slightly, it could result in a very different approximation. This kind of model will fit perfectly the training data while failing to do so on validation data.\n",
    "\n",
    "In the middle picture, for `d=2`, we have found a good model."
   ]
  },
  {
   "cell_type": "code",
   "execution_count": 6,
   "metadata": {},
   "outputs": [],
   "source": [
    "%matplotlib inline\n",
    "import matplotlib.pyplot as plt"
   ]
  },
  {
   "cell_type": "code",
   "execution_count": 7,
   "metadata": {},
   "outputs": [
    {
     "data": {
      "text/html": [
       "\n",
       "<div class=\"bk-root\">\n",
       "    <div class=\"bk-plotdiv\" id=\"a6cfb427-1d5b-49f9-a845-6a01581d5839\"></div>\n",
       "</div>"
      ]
     },
     "metadata": {},
     "output_type": "display_data"
    },
    {
     "data": {
      "application/javascript": [
       "(function(root) {\n",
       "  function embed_document(root) {\n",
       "    \n",
       "  var docs_json = {\"10061b12-65ef-4d80-a354-67a08476bd5d\":{\"roots\":{\"references\":[{\"attributes\":{\"source\":{\"id\":\"80e9a60f-3976-4bc1-b0cc-6a6b29b0c70f\",\"type\":\"ColumnDataSource\"}},\"id\":\"e5354843-0d9b-4c7f-8965-02c8f784b494\",\"type\":\"CDSView\"},{\"attributes\":{\"fill_color\":{\"value\":\"black\"},\"size\":{\"units\":\"screen\",\"value\":12},\"x\":{\"field\":\"x\"},\"y\":{\"field\":\"y\"}},\"id\":\"b407adc1-6afd-4c0d-816b-f1bbe5d86f4c\",\"type\":\"X\"},{\"attributes\":{\"fill_alpha\":{\"value\":0.1},\"fill_color\":{\"value\":\"#1f77b4\"},\"line_alpha\":{\"value\":0.1},\"line_color\":{\"value\":\"#1f77b4\"},\"size\":{\"units\":\"screen\",\"value\":12},\"x\":{\"field\":\"x\"},\"y\":{\"field\":\"y\"}},\"id\":\"8c051251-c5d5-446f-af32-5e7aa87f4b43\",\"type\":\"X\"},{\"attributes\":{},\"id\":\"e37a01b2-9f8f-4520-b64b-2121a3a9b3b1\",\"type\":\"LinearScale\"},{\"attributes\":{\"bottom_units\":\"screen\",\"fill_alpha\":{\"value\":0.5},\"fill_color\":{\"value\":\"lightgrey\"},\"left_units\":\"screen\",\"level\":\"overlay\",\"line_alpha\":{\"value\":1.0},\"line_color\":{\"value\":\"black\"},\"line_dash\":[4,4],\"line_width\":{\"value\":2},\"plot\":null,\"render_mode\":\"css\",\"right_units\":\"screen\",\"top_units\":\"screen\"},\"id\":\"3a7e2ab8-1aba-416f-821a-912d59bdf1d6\",\"type\":\"BoxAnnotation\"},{\"attributes\":{},\"id\":\"633eed45-36c0-4975-bdb8-7e6f5b773593\",\"type\":\"PanTool\"},{\"attributes\":{\"data_source\":{\"id\":\"80e9a60f-3976-4bc1-b0cc-6a6b29b0c70f\",\"type\":\"ColumnDataSource\"},\"glyph\":{\"id\":\"b407adc1-6afd-4c0d-816b-f1bbe5d86f4c\",\"type\":\"X\"},\"hover_glyph\":null,\"muted_glyph\":null,\"nonselection_glyph\":{\"id\":\"8c051251-c5d5-446f-af32-5e7aa87f4b43\",\"type\":\"X\"},\"selection_glyph\":null,\"view\":{\"id\":\"e5354843-0d9b-4c7f-8965-02c8f784b494\",\"type\":\"CDSView\"}},\"id\":\"da74434f-97c3-4431-bb7f-f356b21b76a7\",\"type\":\"GlyphRenderer\"},{\"attributes\":{},\"id\":\"cd4312f2-ab7b-4400-8518-bc817c622027\",\"type\":\"WheelZoomTool\"},{\"attributes\":{\"overlay\":{\"id\":\"3a7e2ab8-1aba-416f-821a-912d59bdf1d6\",\"type\":\"BoxAnnotation\"}},\"id\":\"17534cbb-68f8-4586-88ab-2cab4b1b6788\",\"type\":\"BoxZoomTool\"},{\"attributes\":{},\"id\":\"d33cebce-050f-4333-b3e1-63eec6118fcd\",\"type\":\"SaveTool\"},{\"attributes\":{},\"id\":\"52c1f129-a566-4cbf-979d-f4e9edf6a978\",\"type\":\"ResetTool\"},{\"attributes\":{},\"id\":\"9ccbb402-62ba-4a09-9079-bfb9dda1fc03\",\"type\":\"HelpTool\"},{\"attributes\":{\"callback\":null,\"end\":12},\"id\":\"bc35076c-98f7-4e19-858e-adfd678774de\",\"type\":\"Range1d\"},{\"attributes\":{},\"id\":\"817f6602-d4a5-4404-a703-bbee6bf3e8ef\",\"type\":\"BasicTickFormatter\"},{\"attributes\":{},\"id\":\"de886544-3dbe-4645-80cc-fc499b7aa688\",\"type\":\"BasicTickFormatter\"},{\"attributes\":{\"axis_label\":\"house size\",\"axis_label_text_font_size\":{\"value\":\"9pt\"},\"formatter\":{\"id\":\"cb37f41a-2498-4d6d-931b-f73aef5e3405\",\"type\":\"BasicTickFormatter\"},\"plot\":{\"id\":\"580aeb0c-6f0c-4143-b918-142046c69a79\",\"subtype\":\"Figure\",\"type\":\"Plot\"},\"ticker\":{\"id\":\"b119f27c-5407-4988-8f49-1b8fb73606b3\",\"type\":\"BasicTicker\"}},\"id\":\"269d684a-8e26-4940-a8c7-5dcac349f82e\",\"type\":\"LinearAxis\"},{\"attributes\":{\"callback\":null,\"end\":1.2,\"start\":-0.2},\"id\":\"77c7ba45-427e-4399-a296-5287c60e5726\",\"type\":\"Range1d\"},{\"attributes\":{\"below\":[{\"id\":\"269d684a-8e26-4940-a8c7-5dcac349f82e\",\"type\":\"LinearAxis\"}],\"left\":[{\"id\":\"30fd107b-93ab-4789-a782-14d995a32057\",\"type\":\"LinearAxis\"}],\"plot_height\":240,\"plot_width\":240,\"renderers\":[{\"id\":\"269d684a-8e26-4940-a8c7-5dcac349f82e\",\"type\":\"LinearAxis\"},{\"id\":\"bea82e7b-172d-4a15-85ef-0ed32bd6ab31\",\"type\":\"Grid\"},{\"id\":\"30fd107b-93ab-4789-a782-14d995a32057\",\"type\":\"LinearAxis\"},{\"id\":\"948c8bf8-03cd-4383-bd11-1f198302679e\",\"type\":\"Grid\"},{\"id\":\"5705e4c8-f56c-4184-a616-f538de196656\",\"type\":\"BoxAnnotation\"},{\"id\":\"09183865-03be-4ec0-bb25-9df8a36f6063\",\"type\":\"GlyphRenderer\"},{\"id\":\"c2703fb4-56f6-4fdb-bcb1-524126561112\",\"type\":\"GlyphRenderer\"}],\"title\":{\"id\":\"37f9dca3-50de-41cd-82b2-a9adea5af552\",\"type\":\"Title\"},\"toolbar\":{\"id\":\"0e52eb5f-7086-429e-8aa6-c6bd66fd6060\",\"type\":\"Toolbar\"},\"toolbar_location\":null,\"x_range\":{\"id\":\"77c7ba45-427e-4399-a296-5287c60e5726\",\"type\":\"Range1d\"},\"x_scale\":{\"id\":\"e37a01b2-9f8f-4520-b64b-2121a3a9b3b1\",\"type\":\"LinearScale\"},\"y_range\":{\"id\":\"bc35076c-98f7-4e19-858e-adfd678774de\",\"type\":\"Range1d\"},\"y_scale\":{\"id\":\"8b0e4dfd-1d59-4317-9686-cd847ab1e1a5\",\"type\":\"LinearScale\"}},\"id\":\"580aeb0c-6f0c-4143-b918-142046c69a79\",\"subtype\":\"Figure\",\"type\":\"Plot\"},{\"attributes\":{\"below\":[{\"id\":\"0979809c-b50f-454c-9e76-30e6a17b8a9a\",\"type\":\"LinearAxis\"}],\"left\":[{\"id\":\"4db9d8af-329d-498c-afd6-1964955d7c7a\",\"type\":\"LinearAxis\"}],\"plot_height\":240,\"plot_width\":240,\"renderers\":[{\"id\":\"0979809c-b50f-454c-9e76-30e6a17b8a9a\",\"type\":\"LinearAxis\"},{\"id\":\"ece9c280-463d-4624-96e1-4b0e561eeba2\",\"type\":\"Grid\"},{\"id\":\"4db9d8af-329d-498c-afd6-1964955d7c7a\",\"type\":\"LinearAxis\"},{\"id\":\"e66f7389-7051-4c04-82ef-f4dbf2d1963e\",\"type\":\"Grid\"},{\"id\":\"1f977f3e-334a-47c4-b08f-d7d74067673e\",\"type\":\"BoxAnnotation\"},{\"id\":\"843c72c5-45ee-4475-9c9d-668e2afe4a14\",\"type\":\"GlyphRenderer\"},{\"id\":\"41d50ee7-c413-488a-9d77-cae69f2d20d7\",\"type\":\"GlyphRenderer\"}],\"title\":{\"id\":\"a9e757f7-3242-43ff-b12a-8b9f841d918e\",\"type\":\"Title\"},\"toolbar\":{\"id\":\"e5941ead-1e53-4fcd-b5eb-cbd5bbfab5ec\",\"type\":\"Toolbar\"},\"toolbar_location\":null,\"x_range\":{\"id\":\"6dfde4dc-5cf5-4d3b-b009-9805c71c59c8\",\"type\":\"Range1d\"},\"x_scale\":{\"id\":\"97050535-6841-4ee1-95b6-8d1184f0c7b5\",\"type\":\"LinearScale\"},\"y_range\":{\"id\":\"9a593cad-90ae-41cb-98e9-857ba4ae17e1\",\"type\":\"Range1d\"},\"y_scale\":{\"id\":\"051552c9-da47-4b17-9858-2f690f3879ce\",\"type\":\"LinearScale\"}},\"id\":\"0b2e63f3-0cfa-4fe5-bd03-ef3265ad04a5\",\"subtype\":\"Figure\",\"type\":\"Plot\"},{\"attributes\":{\"plot\":{\"id\":\"580aeb0c-6f0c-4143-b918-142046c69a79\",\"subtype\":\"Figure\",\"type\":\"Plot\"},\"ticker\":{\"id\":\"b119f27c-5407-4988-8f49-1b8fb73606b3\",\"type\":\"BasicTicker\"}},\"id\":\"bea82e7b-172d-4a15-85ef-0ed32bd6ab31\",\"type\":\"Grid\"},{\"attributes\":{\"active_drag\":\"auto\",\"active_inspect\":\"auto\",\"active_scroll\":\"auto\",\"active_tap\":\"auto\",\"tools\":[{\"id\":\"20249262-a6d6-4e3d-94f3-dff6908bf610\",\"type\":\"PanTool\"},{\"id\":\"6e27820a-2ceb-4dc7-acb3-6e1e0d1ec27f\",\"type\":\"WheelZoomTool\"},{\"id\":\"d730e11c-3e9b-4d64-a15c-7c8302cfeb65\",\"type\":\"BoxZoomTool\"},{\"id\":\"f2f9b9ac-0b40-4414-b37b-a08b20aa72ad\",\"type\":\"SaveTool\"},{\"id\":\"a42e50b1-9bd2-4e1b-9289-aa8819972d8c\",\"type\":\"ResetTool\"},{\"id\":\"dc43c82c-549c-41c1-91e8-6392b71636c8\",\"type\":\"HelpTool\"}]},\"id\":\"0e52eb5f-7086-429e-8aa6-c6bd66fd6060\",\"type\":\"Toolbar\"},{\"attributes\":{\"plot\":null,\"text\":\"d = 1 (under-fit; high bias)\",\"text_font_size\":{\"value\":\"11pt\"}},\"id\":\"a9e757f7-3242-43ff-b12a-8b9f841d918e\",\"type\":\"Title\"},{\"attributes\":{\"fill_alpha\":{\"value\":0.1},\"fill_color\":{\"value\":\"#1f77b4\"},\"line_alpha\":{\"value\":0.1},\"line_color\":{\"value\":\"#1f77b4\"},\"size\":{\"units\":\"screen\",\"value\":12},\"x\":{\"field\":\"x\"},\"y\":{\"field\":\"y\"}},\"id\":\"c59a9d34-681a-484e-baf9-68e09d7ff940\",\"type\":\"X\"},{\"attributes\":{},\"id\":\"051552c9-da47-4b17-9858-2f690f3879ce\",\"type\":\"LinearScale\"},{\"attributes\":{},\"id\":\"8b0e4dfd-1d59-4317-9686-cd847ab1e1a5\",\"type\":\"LinearScale\"},{\"attributes\":{\"source\":{\"id\":\"9bb19de8-220d-4111-8c7f-403d869bf0ac\",\"type\":\"ColumnDataSource\"}},\"id\":\"b08907ad-0e04-4c7c-828e-3151e29d3b76\",\"type\":\"CDSView\"},{\"attributes\":{\"source\":{\"id\":\"cf578aae-441a-412d-bde0-09c1428e3158\",\"type\":\"ColumnDataSource\"}},\"id\":\"3a420ebb-b870-4578-816c-2876e01ecd52\",\"type\":\"CDSView\"},{\"attributes\":{\"data_source\":{\"id\":\"cf578aae-441a-412d-bde0-09c1428e3158\",\"type\":\"ColumnDataSource\"},\"glyph\":{\"id\":\"ff963a4e-3e1e-405a-b0db-7f24b399713c\",\"type\":\"Line\"},\"hover_glyph\":null,\"muted_glyph\":null,\"nonselection_glyph\":{\"id\":\"00f3fbd1-f174-45fa-8367-5c27bbb3254a\",\"type\":\"Line\"},\"selection_glyph\":null,\"view\":{\"id\":\"3a420ebb-b870-4578-816c-2876e01ecd52\",\"type\":\"CDSView\"}},\"id\":\"02b832a5-3f59-4c2c-a66b-4fc4840a1e84\",\"type\":\"GlyphRenderer\"},{\"attributes\":{\"line_alpha\":0.1,\"line_color\":\"#1f77b4\",\"x\":{\"field\":\"x\"},\"y\":{\"field\":\"y\"}},\"id\":\"00f3fbd1-f174-45fa-8367-5c27bbb3254a\",\"type\":\"Line\"},{\"attributes\":{\"line_color\":\"blue\",\"x\":{\"field\":\"x\"},\"y\":{\"field\":\"y\"}},\"id\":\"ff963a4e-3e1e-405a-b0db-7f24b399713c\",\"type\":\"Line\"},{\"attributes\":{\"plot\":null,\"text\":\"d = 6 (over-fit; high variance)\",\"text_font_size\":{\"value\":\"11pt\"}},\"id\":\"37f9dca3-50de-41cd-82b2-a9adea5af552\",\"type\":\"Title\"},{\"attributes\":{\"callback\":null,\"column_names\":[\"x\",\"y\"],\"data\":{\"x\":{\"__ndarray__\":\"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\",\"dtype\":\"float64\",\"shape\":[1000]},\"y\":{\"__ndarray__\":\"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\",\"dtype\":\"float64\",\"shape\":[1000]}}},\"id\":\"cf578aae-441a-412d-bde0-09c1428e3158\",\"type\":\"ColumnDataSource\"},{\"attributes\":{},\"id\":\"b119f27c-5407-4988-8f49-1b8fb73606b3\",\"type\":\"BasicTicker\"},{\"attributes\":{\"fill_alpha\":{\"value\":0.1},\"fill_color\":{\"value\":\"#1f77b4\"},\"line_alpha\":{\"value\":0.1},\"line_color\":{\"value\":\"#1f77b4\"},\"size\":{\"units\":\"screen\",\"value\":12},\"x\":{\"field\":\"x\"},\"y\":{\"field\":\"y\"}},\"id\":\"91fb8862-977a-4334-ae3d-985aa864fda7\",\"type\":\"X\"},{\"attributes\":{\"axis_label_text_font_size\":{\"value\":\"9pt\"},\"formatter\":{\"id\":\"16bd6cdf-30c7-4f0e-a8b6-2d0ac834874f\",\"type\":\"BasicTickFormatter\"},\"plot\":{\"id\":\"580aeb0c-6f0c-4143-b918-142046c69a79\",\"subtype\":\"Figure\",\"type\":\"Plot\"},\"ticker\":{\"id\":\"bd24e89a-66bc-4ce4-922f-fac9b7dbc075\",\"type\":\"BasicTicker\"}},\"id\":\"30fd107b-93ab-4789-a782-14d995a32057\",\"type\":\"LinearAxis\"},{\"attributes\":{},\"id\":\"bd24e89a-66bc-4ce4-922f-fac9b7dbc075\",\"type\":\"BasicTicker\"},{\"attributes\":{\"dimension\":1,\"plot\":{\"id\":\"580aeb0c-6f0c-4143-b918-142046c69a79\",\"subtype\":\"Figure\",\"type\":\"Plot\"},\"ticker\":{\"id\":\"bd24e89a-66bc-4ce4-922f-fac9b7dbc075\",\"type\":\"BasicTicker\"}},\"id\":\"948c8bf8-03cd-4383-bd11-1f198302679e\",\"type\":\"Grid\"},{\"attributes\":{},\"id\":\"97050535-6841-4ee1-95b6-8d1184f0c7b5\",\"type\":\"LinearScale\"},{\"attributes\":{\"fill_color\":{\"value\":\"black\"},\"size\":{\"units\":\"screen\",\"value\":12},\"x\":{\"field\":\"x\"},\"y\":{\"field\":\"y\"}},\"id\":\"82e79e42-a341-484f-9eaf-ac1c38c180ec\",\"type\":\"X\"},{\"attributes\":{},\"id\":\"3ba82ab6-e9e1-402a-b040-aaf8f6cd2cdf\",\"type\":\"BasicTicker\"},{\"attributes\":{\"active_drag\":\"auto\",\"active_inspect\":\"auto\",\"active_scroll\":\"auto\",\"active_tap\":\"auto\",\"tools\":[{\"id\":\"5fa12c8d-045f-4ba5-8700-5a635c7a2b70\",\"type\":\"PanTool\"},{\"id\":\"a4ff6726-7f20-4097-91d9-f1ace2998e0d\",\"type\":\"WheelZoomTool\"},{\"id\":\"9a8509b8-bc7d-4533-8d2a-d95886cf47c4\",\"type\":\"BoxZoomTool\"},{\"id\":\"e69d2ba9-41a5-4843-b428-343df1e4cb9c\",\"type\":\"SaveTool\"},{\"id\":\"2b199623-9d5f-478d-bc70-69d8f0f492d6\",\"type\":\"ResetTool\"},{\"id\":\"58cf9b0c-54a1-485a-8197-475171efacfe\",\"type\":\"HelpTool\"}]},\"id\":\"e5941ead-1e53-4fcd-b5eb-cbd5bbfab5ec\",\"type\":\"Toolbar\"},{\"attributes\":{\"callback\":null,\"column_names\":[\"x\",\"y\"],\"data\":{\"x\":{\"__ndarray__\":\"exSuR+F6hD8qHSlQNcWTP7U4bubUFaM/NdvkMohssj8ESFBNGcnBP2JlpStUK9E/d9N4kQaT4D8AAAAAAADwPw==\",\"dtype\":\"float64\",\"shape\":[8]},\"y\":{\"__ndarray__\":\"mFTPLeiE8j/9CkHYOsn4P+9CRWpgUAhAuf5G+DbJE0D01/ulsMoWQAHhRdOMqxxA1ilwpbpXIkDvQCA9AvMiQA==\",\"dtype\":\"float64\",\"shape\":[8]}}},\"id\":\"9bb19de8-220d-4111-8c7f-403d869bf0ac\",\"type\":\"ColumnDataSource\"},{\"attributes\":{},\"id\":\"1a026574-7b91-4162-8bd2-2d55a481258e\",\"type\":\"BasicTickFormatter\"},{\"attributes\":{\"bottom_units\":\"screen\",\"fill_alpha\":{\"value\":0.5},\"fill_color\":{\"value\":\"lightgrey\"},\"left_units\":\"screen\",\"level\":\"overlay\",\"line_alpha\":{\"value\":1.0},\"line_color\":{\"value\":\"black\"},\"line_dash\":[4,4],\"line_width\":{\"value\":2},\"plot\":null,\"render_mode\":\"css\",\"right_units\":\"screen\",\"top_units\":\"screen\"},\"id\":\"5705e4c8-f56c-4184-a616-f538de196656\",\"type\":\"BoxAnnotation\"},{\"attributes\":{\"axis_label\":\"house size\",\"axis_label_text_font_size\":{\"value\":\"9pt\"},\"formatter\":{\"id\":\"96d7005f-986c-4b11-83df-80134154b6d1\",\"type\":\"BasicTickFormatter\"},\"plot\":{\"id\":\"0b2e63f3-0cfa-4fe5-bd03-ef3265ad04a5\",\"subtype\":\"Figure\",\"type\":\"Plot\"},\"ticker\":{\"id\":\"3ba82ab6-e9e1-402a-b040-aaf8f6cd2cdf\",\"type\":\"BasicTicker\"}},\"id\":\"0979809c-b50f-454c-9e76-30e6a17b8a9a\",\"type\":\"LinearAxis\"},{\"attributes\":{},\"id\":\"20249262-a6d6-4e3d-94f3-dff6908bf610\",\"type\":\"PanTool\"},{\"attributes\":{\"plot\":{\"id\":\"0b2e63f3-0cfa-4fe5-bd03-ef3265ad04a5\",\"subtype\":\"Figure\",\"type\":\"Plot\"},\"ticker\":{\"id\":\"3ba82ab6-e9e1-402a-b040-aaf8f6cd2cdf\",\"type\":\"BasicTicker\"}},\"id\":\"ece9c280-463d-4624-96e1-4b0e561eeba2\",\"type\":\"Grid\"},{\"attributes\":{\"data_source\":{\"id\":\"9bb19de8-220d-4111-8c7f-403d869bf0ac\",\"type\":\"ColumnDataSource\"},\"glyph\":{\"id\":\"82e79e42-a341-484f-9eaf-ac1c38c180ec\",\"type\":\"X\"},\"hover_glyph\":null,\"muted_glyph\":null,\"nonselection_glyph\":{\"id\":\"c59a9d34-681a-484e-baf9-68e09d7ff940\",\"type\":\"X\"},\"selection_glyph\":null,\"view\":{\"id\":\"b08907ad-0e04-4c7c-828e-3151e29d3b76\",\"type\":\"CDSView\"}},\"id\":\"09183865-03be-4ec0-bb25-9df8a36f6063\",\"type\":\"GlyphRenderer\"},{\"attributes\":{},\"id\":\"3cc316bd-2316-4648-b6bb-a4466195fa16\",\"type\":\"BasicTicker\"},{\"attributes\":{},\"id\":\"6e27820a-2ceb-4dc7-acb3-6e1e0d1ec27f\",\"type\":\"WheelZoomTool\"},{\"attributes\":{\"overlay\":{\"id\":\"5705e4c8-f56c-4184-a616-f538de196656\",\"type\":\"BoxAnnotation\"}},\"id\":\"d730e11c-3e9b-4d64-a15c-7c8302cfeb65\",\"type\":\"BoxZoomTool\"},{\"attributes\":{\"dimension\":1,\"plot\":{\"id\":\"0b2e63f3-0cfa-4fe5-bd03-ef3265ad04a5\",\"subtype\":\"Figure\",\"type\":\"Plot\"},\"ticker\":{\"id\":\"3cc316bd-2316-4648-b6bb-a4466195fa16\",\"type\":\"BasicTicker\"}},\"id\":\"e66f7389-7051-4c04-82ef-f4dbf2d1963e\",\"type\":\"Grid\"},{\"attributes\":{},\"id\":\"f2f9b9ac-0b40-4414-b37b-a08b20aa72ad\",\"type\":\"SaveTool\"},{\"attributes\":{},\"id\":\"a42e50b1-9bd2-4e1b-9289-aa8819972d8c\",\"type\":\"ResetTool\"},{\"attributes\":{},\"id\":\"dc43c82c-549c-41c1-91e8-6392b71636c8\",\"type\":\"HelpTool\"},{\"attributes\":{\"data_source\":{\"id\":\"d53810fd-7e1a-4016-bc6e-567d4b41982d\",\"type\":\"ColumnDataSource\"},\"glyph\":{\"id\":\"6376a751-4e0f-4679-bc70-3f5a0a5b02c9\",\"type\":\"X\"},\"hover_glyph\":null,\"muted_glyph\":null,\"nonselection_glyph\":{\"id\":\"91fb8862-977a-4334-ae3d-985aa864fda7\",\"type\":\"X\"},\"selection_glyph\":null,\"view\":{\"id\":\"ef40ff4c-c6dc-4092-af26-623434ca92a0\",\"type\":\"CDSView\"}},\"id\":\"843c72c5-45ee-4475-9c9d-668e2afe4a14\",\"type\":\"GlyphRenderer\"},{\"attributes\":{},\"id\":\"96d7005f-986c-4b11-83df-80134154b6d1\",\"type\":\"BasicTickFormatter\"},{\"attributes\":{\"callback\":null,\"column_names\":[\"x\",\"y\"],\"data\":{\"x\":{\"__ndarray__\":\"exSuR+F6hD8qHSlQNcWTP7U4bubUFaM/NdvkMohssj8ESFBNGcnBP2JlpStUK9E/d9N4kQaT4D8AAAAAAADwPw==\",\"dtype\":\"float64\",\"shape\":[8]},\"y\":{\"__ndarray__\":\"mFTPLeiE8j/9CkHYOsn4P+9CRWpgUAhAuf5G+DbJE0D01/ulsMoWQAHhRdOMqxxA1ilwpbpXIkDvQCA9AvMiQA==\",\"dtype\":\"float64\",\"shape\":[8]}}},\"id\":\"d53810fd-7e1a-4016-bc6e-567d4b41982d\",\"type\":\"ColumnDataSource\"},{\"attributes\":{\"bottom_units\":\"screen\",\"fill_alpha\":{\"value\":0.5},\"fill_color\":{\"value\":\"lightgrey\"},\"left_units\":\"screen\",\"level\":\"overlay\",\"line_alpha\":{\"value\":1.0},\"line_color\":{\"value\":\"black\"},\"line_dash\":[4,4],\"line_width\":{\"value\":2},\"plot\":null,\"render_mode\":\"css\",\"right_units\":\"screen\",\"top_units\":\"screen\"},\"id\":\"1f977f3e-334a-47c4-b08f-d7d74067673e\",\"type\":\"BoxAnnotation\"},{\"attributes\":{},\"id\":\"16bd6cdf-30c7-4f0e-a8b6-2d0ac834874f\",\"type\":\"BasicTickFormatter\"},{\"attributes\":{},\"id\":\"5fa12c8d-045f-4ba5-8700-5a635c7a2b70\",\"type\":\"PanTool\"},{\"attributes\":{},\"id\":\"cb37f41a-2498-4d6d-931b-f73aef5e3405\",\"type\":\"BasicTickFormatter\"},{\"attributes\":{},\"id\":\"a4ff6726-7f20-4097-91d9-f1ace2998e0d\",\"type\":\"WheelZoomTool\"},{\"attributes\":{\"overlay\":{\"id\":\"1f977f3e-334a-47c4-b08f-d7d74067673e\",\"type\":\"BoxAnnotation\"}},\"id\":\"9a8509b8-bc7d-4533-8d2a-d95886cf47c4\",\"type\":\"BoxZoomTool\"},{\"attributes\":{\"children\":[{\"id\":\"0b2e63f3-0cfa-4fe5-bd03-ef3265ad04a5\",\"subtype\":\"Figure\",\"type\":\"Plot\"},{\"id\":\"6e3020dd-7bad-43f0-ad11-005609ec3e82\",\"subtype\":\"Figure\",\"type\":\"Plot\"},{\"id\":\"580aeb0c-6f0c-4143-b918-142046c69a79\",\"subtype\":\"Figure\",\"type\":\"Plot\"}]},\"id\":\"9dfe706f-4215-4ab0-8904-9509b07405d7\",\"type\":\"Row\"},{\"attributes\":{},\"id\":\"e69d2ba9-41a5-4843-b428-343df1e4cb9c\",\"type\":\"SaveTool\"},{\"attributes\":{},\"id\":\"2b199623-9d5f-478d-bc70-69d8f0f492d6\",\"type\":\"ResetTool\"},{\"attributes\":{\"children\":[{\"id\":\"28a1dc53-1b6f-45e3-a13d-be87d0ff9100\",\"type\":\"ToolbarBox\"},{\"id\":\"dfb024f2-415c-4dae-8e9a-e094bae98c0b\",\"type\":\"Column\"}]},\"id\":\"2c1e34f8-d12f-4ac3-81c5-6c674f5d1203\",\"type\":\"Column\"},{\"attributes\":{},\"id\":\"58cf9b0c-54a1-485a-8197-475171efacfe\",\"type\":\"HelpTool\"},{\"attributes\":{\"fill_color\":{\"value\":\"black\"},\"size\":{\"units\":\"screen\",\"value\":12},\"x\":{\"field\":\"x\"},\"y\":{\"field\":\"y\"}},\"id\":\"6376a751-4e0f-4679-bc70-3f5a0a5b02c9\",\"type\":\"X\"},{\"attributes\":{\"axis_label\":\"price\",\"axis_label_text_font_size\":{\"value\":\"9pt\"},\"formatter\":{\"id\":\"1a026574-7b91-4162-8bd2-2d55a481258e\",\"type\":\"BasicTickFormatter\"},\"plot\":{\"id\":\"0b2e63f3-0cfa-4fe5-bd03-ef3265ad04a5\",\"subtype\":\"Figure\",\"type\":\"Plot\"},\"ticker\":{\"id\":\"3cc316bd-2316-4648-b6bb-a4466195fa16\",\"type\":\"BasicTicker\"}},\"id\":\"4db9d8af-329d-498c-afd6-1964955d7c7a\",\"type\":\"LinearAxis\"},{\"attributes\":{\"callback\":null,\"end\":1.2,\"start\":-0.2},\"id\":\"6dfde4dc-5cf5-4d3b-b009-9805c71c59c8\",\"type\":\"Range1d\"},{\"attributes\":{\"tools\":[{\"id\":\"5fa12c8d-045f-4ba5-8700-5a635c7a2b70\",\"type\":\"PanTool\"},{\"id\":\"a4ff6726-7f20-4097-91d9-f1ace2998e0d\",\"type\":\"WheelZoomTool\"},{\"id\":\"9a8509b8-bc7d-4533-8d2a-d95886cf47c4\",\"type\":\"BoxZoomTool\"},{\"id\":\"e69d2ba9-41a5-4843-b428-343df1e4cb9c\",\"type\":\"SaveTool\"},{\"id\":\"2b199623-9d5f-478d-bc70-69d8f0f492d6\",\"type\":\"ResetTool\"},{\"id\":\"58cf9b0c-54a1-485a-8197-475171efacfe\",\"type\":\"HelpTool\"},{\"id\":\"633eed45-36c0-4975-bdb8-7e6f5b773593\",\"type\":\"PanTool\"},{\"id\":\"cd4312f2-ab7b-4400-8518-bc817c622027\",\"type\":\"WheelZoomTool\"},{\"id\":\"17534cbb-68f8-4586-88ab-2cab4b1b6788\",\"type\":\"BoxZoomTool\"},{\"id\":\"d33cebce-050f-4333-b3e1-63eec6118fcd\",\"type\":\"SaveTool\"},{\"id\":\"52c1f129-a566-4cbf-979d-f4e9edf6a978\",\"type\":\"ResetTool\"},{\"id\":\"9ccbb402-62ba-4a09-9079-bfb9dda1fc03\",\"type\":\"HelpTool\"},{\"id\":\"20249262-a6d6-4e3d-94f3-dff6908bf610\",\"type\":\"PanTool\"},{\"id\":\"6e27820a-2ceb-4dc7-acb3-6e1e0d1ec27f\",\"type\":\"WheelZoomTool\"},{\"id\":\"d730e11c-3e9b-4d64-a15c-7c8302cfeb65\",\"type\":\"BoxZoomTool\"},{\"id\":\"f2f9b9ac-0b40-4414-b37b-a08b20aa72ad\",\"type\":\"SaveTool\"},{\"id\":\"a42e50b1-9bd2-4e1b-9289-aa8819972d8c\",\"type\":\"ResetTool\"},{\"id\":\"dc43c82c-549c-41c1-91e8-6392b71636c8\",\"type\":\"HelpTool\"}]},\"id\":\"2e4ed920-ef25-4bc3-afbd-e728ad23f346\",\"type\":\"ProxyToolbar\"},{\"attributes\":{\"callback\":null,\"end\":12},\"id\":\"14c97e6c-1a48-4b30-bcc4-aba535ca5157\",\"type\":\"Range1d\"},{\"attributes\":{\"below\":[{\"id\":\"409c3001-432a-46f8-9bdc-53e23deabc2b\",\"type\":\"LinearAxis\"}],\"left\":[{\"id\":\"0cd8e4ff-2aa6-488f-8c40-4ef35c006901\",\"type\":\"LinearAxis\"}],\"plot_height\":240,\"plot_width\":240,\"renderers\":[{\"id\":\"409c3001-432a-46f8-9bdc-53e23deabc2b\",\"type\":\"LinearAxis\"},{\"id\":\"474b3810-1eb7-4a04-a9fa-c5887ff6ce53\",\"type\":\"Grid\"},{\"id\":\"0cd8e4ff-2aa6-488f-8c40-4ef35c006901\",\"type\":\"LinearAxis\"},{\"id\":\"d9ab9036-a89b-43cb-ba8c-eb9bc67fffdd\",\"type\":\"Grid\"},{\"id\":\"3a7e2ab8-1aba-416f-821a-912d59bdf1d6\",\"type\":\"BoxAnnotation\"},{\"id\":\"da74434f-97c3-4431-bb7f-f356b21b76a7\",\"type\":\"GlyphRenderer\"},{\"id\":\"02b832a5-3f59-4c2c-a66b-4fc4840a1e84\",\"type\":\"GlyphRenderer\"}],\"title\":{\"id\":\"e39f5015-75b8-4ce6-ada8-bd358ea233e3\",\"type\":\"Title\"},\"toolbar\":{\"id\":\"407e67ce-9bdd-4db5-861c-43413405be93\",\"type\":\"Toolbar\"},\"toolbar_location\":null,\"x_range\":{\"id\":\"ba7d74ae-438d-45bf-a16b-33ac039bb954\",\"type\":\"Range1d\"},\"x_scale\":{\"id\":\"c2fab182-1c36-4de1-8a2e-85a07cc8bfd7\",\"type\":\"LinearScale\"},\"y_range\":{\"id\":\"14c97e6c-1a48-4b30-bcc4-aba535ca5157\",\"type\":\"Range1d\"},\"y_scale\":{\"id\":\"4cfaba21-4a0f-4368-a7fa-69a6dfdd8299\",\"type\":\"LinearScale\"}},\"id\":\"6e3020dd-7bad-43f0-ad11-005609ec3e82\",\"subtype\":\"Figure\",\"type\":\"Plot\"},{\"attributes\":{\"source\":{\"id\":\"31d31688-b232-4b21-a42b-3b9679af4acd\",\"type\":\"ColumnDataSource\"}},\"id\":\"d78ed0cb-4946-4b23-84ef-162a833df0ec\",\"type\":\"CDSView\"},{\"attributes\":{},\"id\":\"4cfaba21-4a0f-4368-a7fa-69a6dfdd8299\",\"type\":\"LinearScale\"},{\"attributes\":{\"data_source\":{\"id\":\"31d31688-b232-4b21-a42b-3b9679af4acd\",\"type\":\"ColumnDataSource\"},\"glyph\":{\"id\":\"be3b48fc-b297-4410-a58b-e8bdc14585c5\",\"type\":\"Line\"},\"hover_glyph\":null,\"muted_glyph\":null,\"nonselection_glyph\":{\"id\":\"71265515-3e6e-464e-ad5f-6e08f64f8f7f\",\"type\":\"Line\"},\"selection_glyph\":null,\"view\":{\"id\":\"d78ed0cb-4946-4b23-84ef-162a833df0ec\",\"type\":\"CDSView\"}},\"id\":\"c2703fb4-56f6-4fdb-bcb1-524126561112\",\"type\":\"GlyphRenderer\"},{\"attributes\":{\"dimension\":1,\"plot\":{\"id\":\"6e3020dd-7bad-43f0-ad11-005609ec3e82\",\"subtype\":\"Figure\",\"type\":\"Plot\"},\"ticker\":{\"id\":\"aad2e873-b111-488c-a111-58b4a601b813\",\"type\":\"BasicTicker\"}},\"id\":\"d9ab9036-a89b-43cb-ba8c-eb9bc67fffdd\",\"type\":\"Grid\"},{\"attributes\":{\"children\":[{\"id\":\"9dfe706f-4215-4ab0-8904-9509b07405d7\",\"type\":\"Row\"}]},\"id\":\"dfb024f2-415c-4dae-8e9a-e094bae98c0b\",\"type\":\"Column\"},{\"attributes\":{\"line_alpha\":0.1,\"line_color\":\"#1f77b4\",\"x\":{\"field\":\"x\"},\"y\":{\"field\":\"y\"}},\"id\":\"71265515-3e6e-464e-ad5f-6e08f64f8f7f\",\"type\":\"Line\"},{\"attributes\":{\"axis_label\":\"house size\",\"axis_label_text_font_size\":{\"value\":\"9pt\"},\"formatter\":{\"id\":\"de886544-3dbe-4645-80cc-fc499b7aa688\",\"type\":\"BasicTickFormatter\"},\"plot\":{\"id\":\"6e3020dd-7bad-43f0-ad11-005609ec3e82\",\"subtype\":\"Figure\",\"type\":\"Plot\"},\"ticker\":{\"id\":\"56f99154-9004-4853-beaa-dc4c0465f5ed\",\"type\":\"BasicTicker\"}},\"id\":\"409c3001-432a-46f8-9bdc-53e23deabc2b\",\"type\":\"LinearAxis\"},{\"attributes\":{\"source\":{\"id\":\"d53810fd-7e1a-4016-bc6e-567d4b41982d\",\"type\":\"ColumnDataSource\"}},\"id\":\"ef40ff4c-c6dc-4092-af26-623434ca92a0\",\"type\":\"CDSView\"},{\"attributes\":{\"line_color\":\"blue\",\"x\":{\"field\":\"x\"},\"y\":{\"field\":\"y\"}},\"id\":\"be3b48fc-b297-4410-a58b-e8bdc14585c5\",\"type\":\"Line\"},{\"attributes\":{},\"id\":\"56f99154-9004-4853-beaa-dc4c0465f5ed\",\"type\":\"BasicTicker\"},{\"attributes\":{\"toolbar\":{\"id\":\"2e4ed920-ef25-4bc3-afbd-e728ad23f346\",\"type\":\"ProxyToolbar\"},\"toolbar_location\":\"above\"},\"id\":\"28a1dc53-1b6f-45e3-a13d-be87d0ff9100\",\"type\":\"ToolbarBox\"},{\"attributes\":{\"callback\":null,\"end\":12},\"id\":\"9a593cad-90ae-41cb-98e9-857ba4ae17e1\",\"type\":\"Range1d\"},{\"attributes\":{},\"id\":\"c2fab182-1c36-4de1-8a2e-85a07cc8bfd7\",\"type\":\"LinearScale\"},{\"attributes\":{\"callback\":null,\"column_names\":[\"x\",\"y\"],\"data\":{\"x\":{\"__ndarray__\":\"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\",\"dtype\":\"float64\",\"shape\":[1000]},\"y\":{\"__ndarray__\":\"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\",\"dtype\":\"float64\",\"shape\":[1000]}}},\"id\":\"31d31688-b232-4b21-a42b-3b9679af4acd\",\"type\":\"ColumnDataSource\"},{\"attributes\":{\"callback\":null,\"column_names\":[\"x\",\"y\"],\"data\":{\"x\":{\"__ndarray__\":\"exSuR+F6hD8qHSlQNcWTP7U4bubUFaM/NdvkMohssj8ESFBNGcnBP2JlpStUK9E/d9N4kQaT4D8AAAAAAADwPw==\",\"dtype\":\"float64\",\"shape\":[8]},\"y\":{\"__ndarray__\":\"mFTPLeiE8j/9CkHYOsn4P+9CRWpgUAhAuf5G+DbJE0D01/ulsMoWQAHhRdOMqxxA1ilwpbpXIkDvQCA9AvMiQA==\",\"dtype\":\"float64\",\"shape\":[8]}}},\"id\":\"80e9a60f-3976-4bc1-b0cc-6a6b29b0c70f\",\"type\":\"ColumnDataSource\"},{\"attributes\":{\"active_drag\":\"auto\",\"active_inspect\":\"auto\",\"active_scroll\":\"auto\",\"active_tap\":\"auto\",\"tools\":[{\"id\":\"633eed45-36c0-4975-bdb8-7e6f5b773593\",\"type\":\"PanTool\"},{\"id\":\"cd4312f2-ab7b-4400-8518-bc817c622027\",\"type\":\"WheelZoomTool\"},{\"id\":\"17534cbb-68f8-4586-88ab-2cab4b1b6788\",\"type\":\"BoxZoomTool\"},{\"id\":\"d33cebce-050f-4333-b3e1-63eec6118fcd\",\"type\":\"SaveTool\"},{\"id\":\"52c1f129-a566-4cbf-979d-f4e9edf6a978\",\"type\":\"ResetTool\"},{\"id\":\"9ccbb402-62ba-4a09-9079-bfb9dda1fc03\",\"type\":\"HelpTool\"}]},\"id\":\"407e67ce-9bdd-4db5-861c-43413405be93\",\"type\":\"Toolbar\"},{\"attributes\":{\"plot\":{\"id\":\"6e3020dd-7bad-43f0-ad11-005609ec3e82\",\"subtype\":\"Figure\",\"type\":\"Plot\"},\"ticker\":{\"id\":\"56f99154-9004-4853-beaa-dc4c0465f5ed\",\"type\":\"BasicTicker\"}},\"id\":\"474b3810-1eb7-4a04-a9fa-c5887ff6ce53\",\"type\":\"Grid\"},{\"attributes\":{\"plot\":null,\"text\":\"d = 2\",\"text_font_size\":{\"value\":\"11pt\"}},\"id\":\"e39f5015-75b8-4ce6-ada8-bd358ea233e3\",\"type\":\"Title\"},{\"attributes\":{\"source\":{\"id\":\"b4dc629c-7379-4864-9082-7d88849cf332\",\"type\":\"ColumnDataSource\"}},\"id\":\"415112c1-b24a-4b9b-80e3-a7602a04d10d\",\"type\":\"CDSView\"},{\"attributes\":{\"data_source\":{\"id\":\"b4dc629c-7379-4864-9082-7d88849cf332\",\"type\":\"ColumnDataSource\"},\"glyph\":{\"id\":\"b72fa905-f48e-43a7-bb19-a916af700136\",\"type\":\"Line\"},\"hover_glyph\":null,\"muted_glyph\":null,\"nonselection_glyph\":{\"id\":\"da6a843c-1bde-4792-9beb-999a4ad098ff\",\"type\":\"Line\"},\"selection_glyph\":null,\"view\":{\"id\":\"415112c1-b24a-4b9b-80e3-a7602a04d10d\",\"type\":\"CDSView\"}},\"id\":\"41d50ee7-c413-488a-9d77-cae69f2d20d7\",\"type\":\"GlyphRenderer\"},{\"attributes\":{\"line_alpha\":0.1,\"line_color\":\"#1f77b4\",\"x\":{\"field\":\"x\"},\"y\":{\"field\":\"y\"}},\"id\":\"da6a843c-1bde-4792-9beb-999a4ad098ff\",\"type\":\"Line\"},{\"attributes\":{\"line_color\":\"blue\",\"x\":{\"field\":\"x\"},\"y\":{\"field\":\"y\"}},\"id\":\"b72fa905-f48e-43a7-bb19-a916af700136\",\"type\":\"Line\"},{\"attributes\":{\"callback\":null,\"end\":1.2,\"start\":-0.2},\"id\":\"ba7d74ae-438d-45bf-a16b-33ac039bb954\",\"type\":\"Range1d\"},{\"attributes\":{\"callback\":null,\"column_names\":[\"x\",\"y\"],\"data\":{\"x\":{\"__ndarray__\":\"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\",\"dtype\":\"float64\",\"shape\":[1000]},\"y\":{\"__ndarray__\":\"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\",\"dtype\":\"float64\",\"shape\":[1000]}}},\"id\":\"b4dc629c-7379-4864-9082-7d88849cf332\",\"type\":\"ColumnDataSource\"},{\"attributes\":{\"axis_label_text_font_size\":{\"value\":\"9pt\"},\"formatter\":{\"id\":\"817f6602-d4a5-4404-a703-bbee6bf3e8ef\",\"type\":\"BasicTickFormatter\"},\"plot\":{\"id\":\"6e3020dd-7bad-43f0-ad11-005609ec3e82\",\"subtype\":\"Figure\",\"type\":\"Plot\"},\"ticker\":{\"id\":\"aad2e873-b111-488c-a111-58b4a601b813\",\"type\":\"BasicTicker\"}},\"id\":\"0cd8e4ff-2aa6-488f-8c40-4ef35c006901\",\"type\":\"LinearAxis\"},{\"attributes\":{},\"id\":\"aad2e873-b111-488c-a111-58b4a601b813\",\"type\":\"BasicTicker\"}],\"root_ids\":[\"2c1e34f8-d12f-4ac3-81c5-6c674f5d1203\"]},\"title\":\"Bokeh Application\",\"version\":\"0.12.13\"}};\n",
       "  var render_items = [{\"docid\":\"10061b12-65ef-4d80-a354-67a08476bd5d\",\"elementid\":\"a6cfb427-1d5b-49f9-a845-6a01581d5839\",\"modelid\":\"2c1e34f8-d12f-4ac3-81c5-6c674f5d1203\"}];\n",
       "  root.Bokeh.embed.embed_items_notebook(docs_json, render_items);\n",
       "\n",
       "  }\n",
       "  if (root.Bokeh !== undefined) {\n",
       "    embed_document(root);\n",
       "  } else {\n",
       "    var attempts = 0;\n",
       "    var timer = setInterval(function(root) {\n",
       "      if (root.Bokeh !== undefined) {\n",
       "        embed_document(root);\n",
       "        clearInterval(timer);\n",
       "      }\n",
       "      attempts++;\n",
       "      if (attempts > 100) {\n",
       "        console.log(\"Bokeh: ERROR: Unable to run BokehJS code because BokehJS library is missing\")\n",
       "        clearInterval(timer);\n",
       "      }\n",
       "    }, 10, root)\n",
       "  }\n",
       "})(window);"
      ],
      "application/vnd.bokehjs_exec.v0+json": ""
     },
     "metadata": {
      "application/vnd.bokehjs_exec.v0+json": {
       "id": "2c1e34f8-d12f-4ac3-81c5-6c674f5d1203"
      }
     },
     "output_type": "display_data"
    }
   ],
   "source": [
    "biasvariance.plot_bias_variance(8, random_seed=42, err=10)"
   ]
  },
  {
   "cell_type": "markdown",
   "metadata": {},
   "source": [
    "### 1.2 Bias-Variance Tradeoff explained with a regression example"
   ]
  },
  {
   "cell_type": "markdown",
   "metadata": {},
   "source": [
    "In this section we will explore a simple **linear regression** problem.\n",
    "This can be accomplished within scikit-learn with the `sklearn.linear_model` module.\n",
    "\n",
    "We consider the situation where we have only 2 data points: "
   ]
  },
  {
   "cell_type": "code",
   "execution_count": 8,
   "metadata": {},
   "outputs": [
    {
     "data": {
      "text/html": [
       "\n",
       "<div class=\"bk-root\">\n",
       "    <div class=\"bk-plotdiv\" id=\"b716138a-a9ca-4aa9-92e2-d52c5cc9e41a\"></div>\n",
       "</div>"
      ]
     },
     "metadata": {},
     "output_type": "display_data"
    },
    {
     "data": {
      "application/javascript": [
       "(function(root) {\n",
       "  function embed_document(root) {\n",
       "    \n",
       "  var docs_json = {\"4ddc0cf0-754c-4896-845a-7ed0e986c982\":{\"roots\":{\"references\":[{\"attributes\":{},\"id\":\"d0fe0798-7703-443c-9455-34e0e0cf06b2\",\"type\":\"LinearScale\"},{\"attributes\":{},\"id\":\"0fbbd323-b695-441c-b903-26babe709615\",\"type\":\"BasicTickFormatter\"},{\"attributes\":{},\"id\":\"686c5b25-20f9-4eec-838a-28957034cc0b\",\"type\":\"LinearScale\"},{\"attributes\":{},\"id\":\"3174aec7-5946-41b5-95eb-e1150455ac37\",\"type\":\"ResetTool\"},{\"attributes\":{\"line_color\":\"green\",\"x\":{\"field\":\"x\"},\"y\":{\"field\":\"y\"}},\"id\":\"f68e3c91-7485-4ce7-a2ca-ad29d0a0cf8c\",\"type\":\"Line\"},{\"attributes\":{\"source\":{\"id\":\"2b4b3002-c8f8-4d29-be99-54c195e49048\",\"type\":\"ColumnDataSource\"}},\"id\":\"7815675b-0c9d-4c77-b646-de0eb1fe37a4\",\"type\":\"CDSView\"},{\"attributes\":{\"plot\":{\"id\":\"23028191-c47e-4262-a25f-e94754494338\",\"subtype\":\"Figure\",\"type\":\"Plot\"},\"ticker\":{\"id\":\"240a47cb-50a2-4923-8071-ce4e6e11a5d9\",\"type\":\"BasicTicker\"}},\"id\":\"254c0a9f-adbd-4f77-8456-a48d1eecc317\",\"type\":\"Grid\"},{\"attributes\":{\"formatter\":{\"id\":\"0fbbd323-b695-441c-b903-26babe709615\",\"type\":\"BasicTickFormatter\"},\"plot\":{\"id\":\"23028191-c47e-4262-a25f-e94754494338\",\"subtype\":\"Figure\",\"type\":\"Plot\"},\"ticker\":{\"id\":\"240a47cb-50a2-4923-8071-ce4e6e11a5d9\",\"type\":\"BasicTicker\"}},\"id\":\"efb5eda0-98be-47f5-a471-c841479f9b0b\",\"type\":\"LinearAxis\"},{\"attributes\":{\"below\":[{\"id\":\"efb5eda0-98be-47f5-a471-c841479f9b0b\",\"type\":\"LinearAxis\"}],\"left\":[{\"id\":\"924dc8d3-c2f0-4b93-bd44-fbcaa7da7128\",\"type\":\"LinearAxis\"}],\"plot_height\":300,\"plot_width\":400,\"renderers\":[{\"id\":\"efb5eda0-98be-47f5-a471-c841479f9b0b\",\"type\":\"LinearAxis\"},{\"id\":\"254c0a9f-adbd-4f77-8456-a48d1eecc317\",\"type\":\"Grid\"},{\"id\":\"924dc8d3-c2f0-4b93-bd44-fbcaa7da7128\",\"type\":\"LinearAxis\"},{\"id\":\"12ac3c8a-392e-4b09-ad6c-79187c5c46da\",\"type\":\"Grid\"},{\"id\":\"c2378ac8-9827-448d-b970-eaac133cf885\",\"type\":\"BoxAnnotation\"},{\"id\":\"3f70fc8e-9dd8-47e3-bb89-0e28b5bd669d\",\"type\":\"GlyphRenderer\"},{\"id\":\"0a471eda-9095-44e5-94d8-8a3f8648ce8d\",\"type\":\"GlyphRenderer\"}],\"title\":null,\"toolbar\":{\"id\":\"2d4f3823-c521-4b66-8c7c-0c18beedb9cc\",\"type\":\"Toolbar\"},\"x_range\":{\"id\":\"e1125be2-e207-4be5-8b0c-c24214132a47\",\"type\":\"DataRange1d\"},\"x_scale\":{\"id\":\"686c5b25-20f9-4eec-838a-28957034cc0b\",\"type\":\"LinearScale\"},\"y_range\":{\"id\":\"15d69fd1-752a-4f0b-b6e7-c88ebbb6543d\",\"type\":\"DataRange1d\"},\"y_scale\":{\"id\":\"d0fe0798-7703-443c-9455-34e0e0cf06b2\",\"type\":\"LinearScale\"}},\"id\":\"23028191-c47e-4262-a25f-e94754494338\",\"subtype\":\"Figure\",\"type\":\"Plot\"},{\"attributes\":{},\"id\":\"240a47cb-50a2-4923-8071-ce4e6e11a5d9\",\"type\":\"BasicTicker\"},{\"attributes\":{\"data_source\":{\"id\":\"221f40d7-43b0-4765-9cfd-473637669611\",\"type\":\"ColumnDataSource\"},\"glyph\":{\"id\":\"f68e3c91-7485-4ce7-a2ca-ad29d0a0cf8c\",\"type\":\"Line\"},\"hover_glyph\":null,\"muted_glyph\":null,\"nonselection_glyph\":{\"id\":\"63ed00c4-db1b-4c49-83ef-49fdaf19238b\",\"type\":\"Line\"},\"selection_glyph\":null,\"view\":{\"id\":\"1bb3625f-eeb0-48bf-8cf3-e3e52fe1c512\",\"type\":\"CDSView\"}},\"id\":\"0a471eda-9095-44e5-94d8-8a3f8648ce8d\",\"type\":\"GlyphRenderer\"},{\"attributes\":{\"formatter\":{\"id\":\"9710e39b-35f5-4baa-9e06-5fd173cd1ef1\",\"type\":\"BasicTickFormatter\"},\"plot\":{\"id\":\"23028191-c47e-4262-a25f-e94754494338\",\"subtype\":\"Figure\",\"type\":\"Plot\"},\"ticker\":{\"id\":\"b18f4556-cb30-478b-9c6f-92649de1090d\",\"type\":\"BasicTicker\"}},\"id\":\"924dc8d3-c2f0-4b93-bd44-fbcaa7da7128\",\"type\":\"LinearAxis\"},{\"attributes\":{\"line_alpha\":0.1,\"line_color\":\"#1f77b4\",\"x\":{\"field\":\"x\"},\"y\":{\"field\":\"y\"}},\"id\":\"63ed00c4-db1b-4c49-83ef-49fdaf19238b\",\"type\":\"Line\"},{\"attributes\":{},\"id\":\"b18f4556-cb30-478b-9c6f-92649de1090d\",\"type\":\"BasicTicker\"},{\"attributes\":{\"dimension\":1,\"plot\":{\"id\":\"23028191-c47e-4262-a25f-e94754494338\",\"subtype\":\"Figure\",\"type\":\"Plot\"},\"ticker\":{\"id\":\"b18f4556-cb30-478b-9c6f-92649de1090d\",\"type\":\"BasicTicker\"}},\"id\":\"12ac3c8a-392e-4b09-ad6c-79187c5c46da\",\"type\":\"Grid\"},{\"attributes\":{\"active_drag\":\"auto\",\"active_inspect\":\"auto\",\"active_scroll\":\"auto\",\"active_tap\":\"auto\",\"tools\":[{\"id\":\"421a7f93-e715-4dbe-80c3-f2d032201213\",\"type\":\"PanTool\"},{\"id\":\"b1a95d3d-4d80-4ab5-a229-0d4243099a7a\",\"type\":\"WheelZoomTool\"},{\"id\":\"a632d776-f2a1-419a-a211-8866662d24c4\",\"type\":\"BoxZoomTool\"},{\"id\":\"41c40aa5-6fff-450c-8640-c11c3ec3f275\",\"type\":\"SaveTool\"},{\"id\":\"3174aec7-5946-41b5-95eb-e1150455ac37\",\"type\":\"ResetTool\"},{\"id\":\"584f6fd6-559a-424b-91c6-569ac61e2d02\",\"type\":\"HelpTool\"}]},\"id\":\"2d4f3823-c521-4b66-8c7c-0c18beedb9cc\",\"type\":\"Toolbar\"},{\"attributes\":{\"source\":{\"id\":\"221f40d7-43b0-4765-9cfd-473637669611\",\"type\":\"ColumnDataSource\"}},\"id\":\"1bb3625f-eeb0-48bf-8cf3-e3e52fe1c512\",\"type\":\"CDSView\"},{\"attributes\":{\"data_source\":{\"id\":\"2b4b3002-c8f8-4d29-be99-54c195e49048\",\"type\":\"ColumnDataSource\"},\"glyph\":{\"id\":\"195759ba-fc88-4b7e-991d-4eb7cde443a2\",\"type\":\"Circle\"},\"hover_glyph\":null,\"muted_glyph\":null,\"nonselection_glyph\":{\"id\":\"6a51bd00-8cf8-47c0-8f5c-d2f825435b56\",\"type\":\"Circle\"},\"selection_glyph\":null,\"view\":{\"id\":\"7815675b-0c9d-4c77-b646-de0eb1fe37a4\",\"type\":\"CDSView\"}},\"id\":\"3f70fc8e-9dd8-47e3-bb89-0e28b5bd669d\",\"type\":\"GlyphRenderer\"},{\"attributes\":{},\"id\":\"9710e39b-35f5-4baa-9e06-5fd173cd1ef1\",\"type\":\"BasicTickFormatter\"},{\"attributes\":{\"callback\":null,\"column_names\":[\"x\",\"y\"],\"data\":{\"x\":{\"__ndarray__\":\"AAAAAAAAAAAAAAAAAAAAQA==\",\"dtype\":\"float64\",\"shape\":[2]},\"y\":{\"__ndarray__\":\"AAAAAAAAsDz+////////Pw==\",\"dtype\":\"float64\",\"shape\":[2]}}},\"id\":\"221f40d7-43b0-4765-9cfd-473637669611\",\"type\":\"ColumnDataSource\"},{\"attributes\":{\"bottom_units\":\"screen\",\"fill_alpha\":{\"value\":0.5},\"fill_color\":{\"value\":\"lightgrey\"},\"left_units\":\"screen\",\"level\":\"overlay\",\"line_alpha\":{\"value\":1.0},\"line_color\":{\"value\":\"black\"},\"line_dash\":[4,4],\"line_width\":{\"value\":2},\"plot\":null,\"render_mode\":\"css\",\"right_units\":\"screen\",\"top_units\":\"screen\"},\"id\":\"c2378ac8-9827-448d-b970-eaac133cf885\",\"type\":\"BoxAnnotation\"},{\"attributes\":{},\"id\":\"421a7f93-e715-4dbe-80c3-f2d032201213\",\"type\":\"PanTool\"},{\"attributes\":{},\"id\":\"584f6fd6-559a-424b-91c6-569ac61e2d02\",\"type\":\"HelpTool\"},{\"attributes\":{},\"id\":\"b1a95d3d-4d80-4ab5-a229-0d4243099a7a\",\"type\":\"WheelZoomTool\"},{\"attributes\":{\"callback\":null},\"id\":\"15d69fd1-752a-4f0b-b6e7-c88ebbb6543d\",\"type\":\"DataRange1d\"},{\"attributes\":{\"fill_color\":{\"value\":\"#1f77b4\"},\"line_color\":{\"value\":\"#1f77b4\"},\"size\":{\"units\":\"screen\",\"value\":5},\"x\":{\"field\":\"x\"},\"y\":{\"field\":\"y\"}},\"id\":\"195759ba-fc88-4b7e-991d-4eb7cde443a2\",\"type\":\"Circle\"},{\"attributes\":{\"overlay\":{\"id\":\"c2378ac8-9827-448d-b970-eaac133cf885\",\"type\":\"BoxAnnotation\"}},\"id\":\"a632d776-f2a1-419a-a211-8866662d24c4\",\"type\":\"BoxZoomTool\"},{\"attributes\":{\"fill_alpha\":{\"value\":0.1},\"fill_color\":{\"value\":\"#1f77b4\"},\"line_alpha\":{\"value\":0.1},\"line_color\":{\"value\":\"#1f77b4\"},\"size\":{\"units\":\"screen\",\"value\":5},\"x\":{\"field\":\"x\"},\"y\":{\"field\":\"y\"}},\"id\":\"6a51bd00-8cf8-47c0-8f5c-d2f825435b56\",\"type\":\"Circle\"},{\"attributes\":{\"callback\":null,\"column_names\":[\"x\",\"y\"],\"data\":{\"x\":{\"__ndarray__\":\"AAAAAAAA4D8AAAAAAADwPw==\",\"dtype\":\"float64\",\"shape\":[2]},\"y\":{\"__ndarray__\":\"AAAAAAAA4D8AAAAAAADwPw==\",\"dtype\":\"float64\",\"shape\":[2]}}},\"id\":\"2b4b3002-c8f8-4d29-be99-54c195e49048\",\"type\":\"ColumnDataSource\"},{\"attributes\":{\"callback\":null},\"id\":\"e1125be2-e207-4be5-8b0c-c24214132a47\",\"type\":\"DataRange1d\"},{\"attributes\":{},\"id\":\"41c40aa5-6fff-450c-8640-c11c3ec3f275\",\"type\":\"SaveTool\"}],\"root_ids\":[\"23028191-c47e-4262-a25f-e94754494338\"]},\"title\":\"Bokeh Application\",\"version\":\"0.12.13\"}};\n",
       "  var render_items = [{\"docid\":\"4ddc0cf0-754c-4896-845a-7ed0e986c982\",\"elementid\":\"b716138a-a9ca-4aa9-92e2-d52c5cc9e41a\",\"modelid\":\"23028191-c47e-4262-a25f-e94754494338\"}];\n",
       "  root.Bokeh.embed.embed_items_notebook(docs_json, render_items);\n",
       "\n",
       "  }\n",
       "  if (root.Bokeh !== undefined) {\n",
       "    embed_document(root);\n",
       "  } else {\n",
       "    var attempts = 0;\n",
       "    var timer = setInterval(function(root) {\n",
       "      if (root.Bokeh !== undefined) {\n",
       "        embed_document(root);\n",
       "        clearInterval(timer);\n",
       "      }\n",
       "      attempts++;\n",
       "      if (attempts > 100) {\n",
       "        console.log(\"Bokeh: ERROR: Unable to run BokehJS code because BokehJS library is missing\")\n",
       "        clearInterval(timer);\n",
       "      }\n",
       "    }, 10, root)\n",
       "  }\n",
       "})(window);"
      ],
      "application/vnd.bokehjs_exec.v0+json": ""
     },
     "metadata": {
      "application/vnd.bokehjs_exec.v0+json": {
       "id": "23028191-c47e-4262-a25f-e94754494338"
      }
     },
     "output_type": "display_data"
    }
   ],
   "source": [
    "from sklearn import linear_model\n",
    "X = np.array([0.5, 1.0]).reshape(2,1)\n",
    "y = np.array([0.5, 1.0])\n",
    "X_test = np.array([0.0, 2.0]).reshape(2,1)\n",
    "regr = linear_model.LinearRegression()\n",
    "regr.fit(X, y)\n",
    "fig = bk.figure(plot_width=400, plot_height=300, title=None)\n",
    "fig.circle(X[:,0], y, size=5)\n",
    "fig.line(X_test[:,0], regr.predict(X_test), color='green')\n",
    "bk.show(fig)"
   ]
  },
  {
   "cell_type": "markdown",
   "metadata": {},
   "source": [
    "In real life situation, we have noise (e.g. measurement noise) in our data:"
   ]
  },
  {
   "cell_type": "code",
   "execution_count": 9,
   "metadata": {},
   "outputs": [],
   "source": [
    "import seaborn as sns\n",
    "import addutils.palette as pal\n",
    "import random\n",
    "cat_colors = list(map(pal.to_hex, sns.color_palette('bright', 6)))\n",
    "random.shuffle(cat_colors)"
   ]
  },
  {
   "cell_type": "code",
   "execution_count": 10,
   "metadata": {},
   "outputs": [
    {
     "data": {
      "text/html": [
       "\n",
       "<div class=\"bk-root\">\n",
       "    <div class=\"bk-plotdiv\" id=\"c170f656-e0df-4fa3-ae4b-1b264ce2ebe6\"></div>\n",
       "</div>"
      ]
     },
     "metadata": {},
     "output_type": "display_data"
    },
    {
     "data": {
      "application/javascript": [
       "(function(root) {\n",
       "  function embed_document(root) {\n",
       "    \n",
       "  var docs_json = {\"0ae25a63-8c1f-4c12-a6b4-cd5f4a2ee6f8\":{\"roots\":{\"references\":[{\"attributes\":{\"source\":{\"id\":\"b004907d-85f7-4c41-859f-970df4dd2fd5\",\"type\":\"ColumnDataSource\"}},\"id\":\"20818866-9662-4c70-825e-4b970d77d617\",\"type\":\"CDSView\"},{\"attributes\":{\"line_color\":\"#03ed3a\",\"x\":{\"field\":\"x\"},\"y\":{\"field\":\"y\"}},\"id\":\"f1cd85ba-6dab-424e-b344-d4a09696d995\",\"type\":\"Line\"},{\"attributes\":{\"fill_alpha\":{\"value\":0.1},\"fill_color\":{\"value\":\"#1f77b4\"},\"line_alpha\":{\"value\":0.1},\"line_color\":{\"value\":\"#1f77b4\"},\"size\":{\"units\":\"screen\",\"value\":8},\"x\":{\"field\":\"x\"},\"y\":{\"field\":\"y\"}},\"id\":\"600aea70-f8a8-40ed-8b76-2aaa822818f9\",\"type\":\"Circle\"},{\"attributes\":{\"callback\":null,\"column_names\":[\"x\",\"y\"],\"data\":{\"x\":{\"__ndarray__\":\"AAAAAAAAAAAAAAAAAAAAQA==\",\"dtype\":\"float64\",\"shape\":[2]},\"y\":{\"__ndarray__\":\"gHhEUPSlrD8oy4nay+n9Pw==\",\"dtype\":\"float64\",\"shape\":[2]}}},\"id\":\"6f8dadd6-7c5d-4453-bdf5-c37fd09a9aff\",\"type\":\"ColumnDataSource\"},{\"attributes\":{\"fill_color\":{\"value\":\"#ffc400\"},\"size\":{\"units\":\"screen\",\"value\":8},\"x\":{\"field\":\"x\"},\"y\":{\"field\":\"y\"}},\"id\":\"57d075dd-63d0-4840-b954-fa4c09efa181\",\"type\":\"Circle\"},{\"attributes\":{\"line_alpha\":0.1,\"line_color\":\"#1f77b4\",\"x\":{\"field\":\"x\"},\"y\":{\"field\":\"y\"}},\"id\":\"ab7078d1-703c-48d3-8e23-ea55821e91c2\",\"type\":\"Line\"},{\"attributes\":{\"data_source\":{\"id\":\"6f8dadd6-7c5d-4453-bdf5-c37fd09a9aff\",\"type\":\"ColumnDataSource\"},\"glyph\":{\"id\":\"f1cd85ba-6dab-424e-b344-d4a09696d995\",\"type\":\"Line\"},\"hover_glyph\":null,\"muted_glyph\":null,\"nonselection_glyph\":{\"id\":\"ab7078d1-703c-48d3-8e23-ea55821e91c2\",\"type\":\"Line\"},\"selection_glyph\":null,\"view\":{\"id\":\"85c1a2c0-c4a3-4fbd-b516-09c436d5ca23\",\"type\":\"CDSView\"}},\"id\":\"60805500-ba9f-4e51-b5ab-9202e69bf606\",\"type\":\"GlyphRenderer\"},{\"attributes\":{\"source\":{\"id\":\"6f8dadd6-7c5d-4453-bdf5-c37fd09a9aff\",\"type\":\"ColumnDataSource\"}},\"id\":\"85c1a2c0-c4a3-4fbd-b516-09c436d5ca23\",\"type\":\"CDSView\"},{\"attributes\":{\"callback\":null,\"column_names\":[\"x\",\"y\"],\"data\":{\"x\":{\"__ndarray__\":\"2XhXIAB24D/M8zKhq1PyPw==\",\"dtype\":\"float64\",\"shape\":[2]},\"y\":{\"__ndarray__\":\"AAAAAAAA4D8AAAAAAADwPw==\",\"dtype\":\"float64\",\"shape\":[2]}}},\"id\":\"1753bc69-fa6d-4c40-9ee2-3d5332ef7444\",\"type\":\"ColumnDataSource\"},{\"attributes\":{\"source\":{\"id\":\"fb9629ae-0580-4b33-98d2-748a314fba30\",\"type\":\"ColumnDataSource\"}},\"id\":\"2f95e49d-7ef2-49f2-915d-81a72bd5ad28\",\"type\":\"CDSView\"},{\"attributes\":{\"below\":[{\"id\":\"f7a4861c-a377-402d-b2b7-58ba2abd28cf\",\"type\":\"LinearAxis\"}],\"left\":[{\"id\":\"8c99e067-8371-4e11-9346-e97455efdfa0\",\"type\":\"LinearAxis\"}],\"plot_height\":300,\"plot_width\":400,\"renderers\":[{\"id\":\"f7a4861c-a377-402d-b2b7-58ba2abd28cf\",\"type\":\"LinearAxis\"},{\"id\":\"aee6c503-e26a-412b-afba-ee0b5c66bb63\",\"type\":\"Grid\"},{\"id\":\"8c99e067-8371-4e11-9346-e97455efdfa0\",\"type\":\"LinearAxis\"},{\"id\":\"6a7eab48-7740-49c4-82bb-f9c1d3301665\",\"type\":\"Grid\"},{\"id\":\"39dd0899-fb21-4a73-ad1b-232f887e5413\",\"type\":\"BoxAnnotation\"},{\"id\":\"c947405c-09b5-4996-bc5a-3d22da14632a\",\"type\":\"GlyphRenderer\"},{\"id\":\"8e638971-ba0f-4739-bcd3-2b8f0debb73a\",\"type\":\"GlyphRenderer\"},{\"id\":\"54a169e5-8c5a-4eb8-b897-6223c6716e58\",\"type\":\"GlyphRenderer\"},{\"id\":\"2e01f7e2-daeb-4ffc-bd00-283545a6680a\",\"type\":\"GlyphRenderer\"},{\"id\":\"b15072e4-e2b7-4dae-bcac-4a5bc41f4ed4\",\"type\":\"GlyphRenderer\"},{\"id\":\"c9b2bc3d-a79d-462c-bfb7-b19282fa0edb\",\"type\":\"GlyphRenderer\"},{\"id\":\"532e84cb-c27e-43de-b98a-c3eb86b90983\",\"type\":\"GlyphRenderer\"},{\"id\":\"1e9cb8f0-09d5-455e-bad0-2e34a0558d50\",\"type\":\"GlyphRenderer\"},{\"id\":\"a8dcaeb4-609f-46cb-bb0d-99bca8a36b76\",\"type\":\"GlyphRenderer\"},{\"id\":\"60805500-ba9f-4e51-b5ab-9202e69bf606\",\"type\":\"GlyphRenderer\"},{\"id\":\"0716cb8e-e570-4c74-acad-6170f32c2955\",\"type\":\"GlyphRenderer\"},{\"id\":\"46ccce47-ac87-4895-b5d5-1868e5892ef7\",\"type\":\"GlyphRenderer\"}],\"title\":null,\"toolbar\":{\"id\":\"bd513427-7ddf-4b2b-b1e0-f19453fe05db\",\"type\":\"Toolbar\"},\"x_range\":{\"id\":\"0bb49fc9-4100-46fe-bbe0-38bd1c643471\",\"type\":\"DataRange1d\"},\"x_scale\":{\"id\":\"69561bd3-80f1-48a0-b0ce-f4faaedff97f\",\"type\":\"LinearScale\"},\"y_range\":{\"id\":\"0c351d1b-e4fe-4379-bed4-cb500b1576e5\",\"type\":\"DataRange1d\"},\"y_scale\":{\"id\":\"f4c8d5ac-e0d8-490c-a229-8fa8177b21f7\",\"type\":\"LinearScale\"}},\"id\":\"e2492d95-6ad3-4d00-a77b-170276093777\",\"subtype\":\"Figure\",\"type\":\"Plot\"},{\"attributes\":{\"line_color\":\"#ffc400\",\"x\":{\"field\":\"x\"},\"y\":{\"field\":\"y\"}},\"id\":\"e5c7f691-25c2-4623-9dfa-db635abf061b\",\"type\":\"Line\"},{\"attributes\":{\"data_source\":{\"id\":\"1753bc69-fa6d-4c40-9ee2-3d5332ef7444\",\"type\":\"ColumnDataSource\"},\"glyph\":{\"id\":\"57d075dd-63d0-4840-b954-fa4c09efa181\",\"type\":\"Circle\"},\"hover_glyph\":null,\"muted_glyph\":null,\"nonselection_glyph\":{\"id\":\"600aea70-f8a8-40ed-8b76-2aaa822818f9\",\"type\":\"Circle\"},\"selection_glyph\":null,\"view\":{\"id\":\"b5fca5e3-6da9-452d-aef9-22f9a65fdbe0\",\"type\":\"CDSView\"}},\"id\":\"0716cb8e-e570-4c74-acad-6170f32c2955\",\"type\":\"GlyphRenderer\"},{\"attributes\":{\"active_drag\":\"auto\",\"active_inspect\":\"auto\",\"active_scroll\":\"auto\",\"active_tap\":\"auto\",\"tools\":[{\"id\":\"160ae6aa-5980-43cf-9dad-c4aae7574ee9\",\"type\":\"PanTool\"},{\"id\":\"f7e91594-9d15-4b46-be79-fa258f2ca572\",\"type\":\"WheelZoomTool\"},{\"id\":\"5bcf6ece-54f0-4aa3-ab54-43510b6151e7\",\"type\":\"BoxZoomTool\"},{\"id\":\"5126d74c-2279-41c0-9bc5-a0c668aed197\",\"type\":\"SaveTool\"},{\"id\":\"d32fd564-82c7-4f12-9f4d-d4a2eb06f2c8\",\"type\":\"ResetTool\"},{\"id\":\"f7eee0c5-6532-48ff-ac73-4d9551975346\",\"type\":\"HelpTool\"}]},\"id\":\"bd513427-7ddf-4b2b-b1e0-f19453fe05db\",\"type\":\"Toolbar\"},{\"attributes\":{\"fill_color\":{\"value\":\"#e8000b\"},\"size\":{\"units\":\"screen\",\"value\":8},\"x\":{\"field\":\"x\"},\"y\":{\"field\":\"y\"}},\"id\":\"170cb1b8-4536-4741-8412-aa15d2c4ffa5\",\"type\":\"Circle\"},{\"attributes\":{\"source\":{\"id\":\"1753bc69-fa6d-4c40-9ee2-3d5332ef7444\",\"type\":\"ColumnDataSource\"}},\"id\":\"b5fca5e3-6da9-452d-aef9-22f9a65fdbe0\",\"type\":\"CDSView\"},{\"attributes\":{\"fill_alpha\":{\"value\":0.1},\"fill_color\":{\"value\":\"#1f77b4\"},\"line_alpha\":{\"value\":0.1},\"line_color\":{\"value\":\"#1f77b4\"},\"size\":{\"units\":\"screen\",\"value\":8},\"x\":{\"field\":\"x\"},\"y\":{\"field\":\"y\"}},\"id\":\"6c573be8-9aa4-45dc-9a3e-6da3d6a14ba9\",\"type\":\"Circle\"},{\"attributes\":{\"callback\":null,\"column_names\":[\"x\",\"y\"],\"data\":{\"x\":{\"__ndarray__\":\"AAAAAAAAAAAAAAAAAAAAQA==\",\"dtype\":\"float64\",\"shape\":[2]},\"y\":{\"__ndarray__\":\"qB+PCNGntz/MpSIiidX6Pw==\",\"dtype\":\"float64\",\"shape\":[2]}}},\"id\":\"3d3c66e9-39c7-420c-901a-0789a0c0d030\",\"type\":\"ColumnDataSource\"},{\"attributes\":{\"data_source\":{\"id\":\"fb9629ae-0580-4b33-98d2-748a314fba30\",\"type\":\"ColumnDataSource\"},\"glyph\":{\"id\":\"170cb1b8-4536-4741-8412-aa15d2c4ffa5\",\"type\":\"Circle\"},\"hover_glyph\":null,\"muted_glyph\":null,\"nonselection_glyph\":{\"id\":\"6c573be8-9aa4-45dc-9a3e-6da3d6a14ba9\",\"type\":\"Circle\"},\"selection_glyph\":null,\"view\":{\"id\":\"2f95e49d-7ef2-49f2-915d-81a72bd5ad28\",\"type\":\"CDSView\"}},\"id\":\"c947405c-09b5-4996-bc5a-3d22da14632a\",\"type\":\"GlyphRenderer\"},{\"attributes\":{\"formatter\":{\"id\":\"26c67ad1-dd37-4bea-b77b-ec15a704b3f2\",\"type\":\"BasicTickFormatter\"},\"plot\":{\"id\":\"e2492d95-6ad3-4d00-a77b-170276093777\",\"subtype\":\"Figure\",\"type\":\"Plot\"},\"ticker\":{\"id\":\"cc916fb2-2e9d-42ec-8664-ec5cfd40fd7e\",\"type\":\"BasicTicker\"}},\"id\":\"f7a4861c-a377-402d-b2b7-58ba2abd28cf\",\"type\":\"LinearAxis\"},{\"attributes\":{\"line_alpha\":0.1,\"line_color\":\"#1f77b4\",\"x\":{\"field\":\"x\"},\"y\":{\"field\":\"y\"}},\"id\":\"b82ab6d9-a54c-4633-9bff-769e24d122e6\",\"type\":\"Line\"},{\"attributes\":{\"data_source\":{\"id\":\"3d3c66e9-39c7-420c-901a-0789a0c0d030\",\"type\":\"ColumnDataSource\"},\"glyph\":{\"id\":\"e5c7f691-25c2-4623-9dfa-db635abf061b\",\"type\":\"Line\"},\"hover_glyph\":null,\"muted_glyph\":null,\"nonselection_glyph\":{\"id\":\"b82ab6d9-a54c-4633-9bff-769e24d122e6\",\"type\":\"Line\"},\"selection_glyph\":null,\"view\":{\"id\":\"0e140029-521d-4fee-b3ef-f02de18ff5f9\",\"type\":\"CDSView\"}},\"id\":\"46ccce47-ac87-4895-b5d5-1868e5892ef7\",\"type\":\"GlyphRenderer\"},{\"attributes\":{},\"id\":\"561a381c-ce41-4e92-8909-28c0e946f25f\",\"type\":\"BasicTicker\"},{\"attributes\":{\"callback\":null},\"id\":\"0c351d1b-e4fe-4379-bed4-cb500b1576e5\",\"type\":\"DataRange1d\"},{\"attributes\":{\"source\":{\"id\":\"3d3c66e9-39c7-420c-901a-0789a0c0d030\",\"type\":\"ColumnDataSource\"}},\"id\":\"0e140029-521d-4fee-b3ef-f02de18ff5f9\",\"type\":\"CDSView\"},{\"attributes\":{\"plot\":{\"id\":\"e2492d95-6ad3-4d00-a77b-170276093777\",\"subtype\":\"Figure\",\"type\":\"Plot\"},\"ticker\":{\"id\":\"cc916fb2-2e9d-42ec-8664-ec5cfd40fd7e\",\"type\":\"BasicTicker\"}},\"id\":\"aee6c503-e26a-412b-afba-ee0b5c66bb63\",\"type\":\"Grid\"},{\"attributes\":{},\"id\":\"33867661-5251-4b22-90f9-0ea8084c25b1\",\"type\":\"BasicTickFormatter\"},{\"attributes\":{\"formatter\":{\"id\":\"33867661-5251-4b22-90f9-0ea8084c25b1\",\"type\":\"BasicTickFormatter\"},\"plot\":{\"id\":\"e2492d95-6ad3-4d00-a77b-170276093777\",\"subtype\":\"Figure\",\"type\":\"Plot\"},\"ticker\":{\"id\":\"561a381c-ce41-4e92-8909-28c0e946f25f\",\"type\":\"BasicTicker\"}},\"id\":\"8c99e067-8371-4e11-9346-e97455efdfa0\",\"type\":\"LinearAxis\"},{\"attributes\":{},\"id\":\"cc916fb2-2e9d-42ec-8664-ec5cfd40fd7e\",\"type\":\"BasicTicker\"},{\"attributes\":{},\"id\":\"f4c8d5ac-e0d8-490c-a229-8fa8177b21f7\",\"type\":\"LinearScale\"},{\"attributes\":{\"dimension\":1,\"plot\":{\"id\":\"e2492d95-6ad3-4d00-a77b-170276093777\",\"subtype\":\"Figure\",\"type\":\"Plot\"},\"ticker\":{\"id\":\"561a381c-ce41-4e92-8909-28c0e946f25f\",\"type\":\"BasicTicker\"}},\"id\":\"6a7eab48-7740-49c4-82bb-f9c1d3301665\",\"type\":\"Grid\"},{\"attributes\":{\"bottom_units\":\"screen\",\"fill_alpha\":{\"value\":0.5},\"fill_color\":{\"value\":\"lightgrey\"},\"left_units\":\"screen\",\"level\":\"overlay\",\"line_alpha\":{\"value\":1.0},\"line_color\":{\"value\":\"black\"},\"line_dash\":[4,4],\"line_width\":{\"value\":2},\"plot\":null,\"render_mode\":\"css\",\"right_units\":\"screen\",\"top_units\":\"screen\"},\"id\":\"39dd0899-fb21-4a73-ad1b-232f887e5413\",\"type\":\"BoxAnnotation\"},{\"attributes\":{},\"id\":\"160ae6aa-5980-43cf-9dad-c4aae7574ee9\",\"type\":\"PanTool\"},{\"attributes\":{\"fill_alpha\":{\"value\":0.1},\"fill_color\":{\"value\":\"#1f77b4\"},\"line_alpha\":{\"value\":0.1},\"line_color\":{\"value\":\"#1f77b4\"},\"size\":{\"units\":\"screen\",\"value\":8},\"x\":{\"field\":\"x\"},\"y\":{\"field\":\"y\"}},\"id\":\"ce441ac9-34d3-4ad2-9703-5e76b2ff890a\",\"type\":\"Circle\"},{\"attributes\":{},\"id\":\"f7e91594-9d15-4b46-be79-fa258f2ca572\",\"type\":\"WheelZoomTool\"},{\"attributes\":{\"overlay\":{\"id\":\"39dd0899-fb21-4a73-ad1b-232f887e5413\",\"type\":\"BoxAnnotation\"}},\"id\":\"5bcf6ece-54f0-4aa3-ab54-43510b6151e7\",\"type\":\"BoxZoomTool\"},{\"attributes\":{},\"id\":\"5126d74c-2279-41c0-9bc5-a0c668aed197\",\"type\":\"SaveTool\"},{\"attributes\":{},\"id\":\"d32fd564-82c7-4f12-9f4d-d4a2eb06f2c8\",\"type\":\"ResetTool\"},{\"attributes\":{},\"id\":\"f7eee0c5-6532-48ff-ac73-4d9551975346\",\"type\":\"HelpTool\"},{\"attributes\":{\"callback\":null,\"column_names\":[\"x\",\"y\"],\"data\":{\"x\":{\"__ndarray__\":\"AAAAAAAAAAAAAAAAAAAAQA==\",\"dtype\":\"float64\",\"shape\":[2]},\"y\":{\"__ndarray__\":\"CBD0PiSH27+pmB0Ugo8CQA==\",\"dtype\":\"float64\",\"shape\":[2]}}},\"id\":\"6d39d45f-39b9-4221-a474-4b078ca06858\",\"type\":\"ColumnDataSource\"},{\"attributes\":{},\"id\":\"26c67ad1-dd37-4bea-b77b-ec15a704b3f2\",\"type\":\"BasicTickFormatter\"},{\"attributes\":{\"line_color\":\"#e8000b\",\"x\":{\"field\":\"x\"},\"y\":{\"field\":\"y\"}},\"id\":\"c3bc8360-53e8-4dff-89e1-4ba37a2fc2b6\",\"type\":\"Line\"},{\"attributes\":{\"fill_color\":{\"value\":\"#003fff\"},\"size\":{\"units\":\"screen\",\"value\":8},\"x\":{\"field\":\"x\"},\"y\":{\"field\":\"y\"}},\"id\":\"9d8bbb83-9e91-41ae-b8a6-bffd457768dc\",\"type\":\"Circle\"},{\"attributes\":{\"callback\":null,\"column_names\":[\"x\",\"y\"],\"data\":{\"x\":{\"__ndarray__\":\"+OBpO8gh4z/cCceu3pXzPw==\",\"dtype\":\"float64\",\"shape\":[2]},\"y\":{\"__ndarray__\":\"AAAAAAAA4D8AAAAAAADwPw==\",\"dtype\":\"float64\",\"shape\":[2]}}},\"id\":\"3e80ac88-c503-46bc-9f77-6c7c15b70cf6\",\"type\":\"ColumnDataSource\"},{\"attributes\":{\"line_alpha\":0.1,\"line_color\":\"#1f77b4\",\"x\":{\"field\":\"x\"},\"y\":{\"field\":\"y\"}},\"id\":\"bd4a5da5-dd14-496e-acba-8d30d4f84c5c\",\"type\":\"Line\"},{\"attributes\":{\"fill_alpha\":{\"value\":0.1},\"fill_color\":{\"value\":\"#1f77b4\"},\"line_alpha\":{\"value\":0.1},\"line_color\":{\"value\":\"#1f77b4\"},\"size\":{\"units\":\"screen\",\"value\":8},\"x\":{\"field\":\"x\"},\"y\":{\"field\":\"y\"}},\"id\":\"7684b6b6-e72e-49be-9a44-b07e9e52a819\",\"type\":\"Circle\"},{\"attributes\":{\"source\":{\"id\":\"6d39d45f-39b9-4221-a474-4b078ca06858\",\"type\":\"ColumnDataSource\"}},\"id\":\"990f8fa5-0b4c-4245-a4ef-19eeb7f995fa\",\"type\":\"CDSView\"},{\"attributes\":{\"data_source\":{\"id\":\"6d39d45f-39b9-4221-a474-4b078ca06858\",\"type\":\"ColumnDataSource\"},\"glyph\":{\"id\":\"c3bc8360-53e8-4dff-89e1-4ba37a2fc2b6\",\"type\":\"Line\"},\"hover_glyph\":null,\"muted_glyph\":null,\"nonselection_glyph\":{\"id\":\"bd4a5da5-dd14-496e-acba-8d30d4f84c5c\",\"type\":\"Line\"},\"selection_glyph\":null,\"view\":{\"id\":\"990f8fa5-0b4c-4245-a4ef-19eeb7f995fa\",\"type\":\"CDSView\"}},\"id\":\"8e638971-ba0f-4739-bcd3-2b8f0debb73a\",\"type\":\"GlyphRenderer\"},{\"attributes\":{\"fill_color\":{\"value\":\"#8a2be2\"},\"size\":{\"units\":\"screen\",\"value\":8},\"x\":{\"field\":\"x\"},\"y\":{\"field\":\"y\"}},\"id\":\"2e554154-3283-4116-b42e-fe6e1c9add7b\",\"type\":\"Circle\"},{\"attributes\":{\"line_color\":\"#003fff\",\"x\":{\"field\":\"x\"},\"y\":{\"field\":\"y\"}},\"id\":\"b75868e1-ae97-4aaa-83dc-05af3e2b79a9\",\"type\":\"Line\"},{\"attributes\":{\"data_source\":{\"id\":\"3e80ac88-c503-46bc-9f77-6c7c15b70cf6\",\"type\":\"ColumnDataSource\"},\"glyph\":{\"id\":\"9d8bbb83-9e91-41ae-b8a6-bffd457768dc\",\"type\":\"Circle\"},\"hover_glyph\":null,\"muted_glyph\":null,\"nonselection_glyph\":{\"id\":\"ce441ac9-34d3-4ad2-9703-5e76b2ff890a\",\"type\":\"Circle\"},\"selection_glyph\":null,\"view\":{\"id\":\"3627192b-bfe5-4f14-9ef3-e56d5c05f791\",\"type\":\"CDSView\"}},\"id\":\"54a169e5-8c5a-4eb8-b897-6223c6716e58\",\"type\":\"GlyphRenderer\"},{\"attributes\":{\"source\":{\"id\":\"3e80ac88-c503-46bc-9f77-6c7c15b70cf6\",\"type\":\"ColumnDataSource\"}},\"id\":\"3627192b-bfe5-4f14-9ef3-e56d5c05f791\",\"type\":\"CDSView\"},{\"attributes\":{\"callback\":null,\"column_names\":[\"x\",\"y\"],\"data\":{\"x\":{\"__ndarray__\":\"AAAAAAAAAAAAAAAAAAAAQA==\",\"dtype\":\"float64\",\"shape\":[2]},\"y\":{\"__ndarray__\":\"YAzELycslz+8ObGnken5Pw==\",\"dtype\":\"float64\",\"shape\":[2]}}},\"id\":\"51d83cd3-ea1a-4ac5-b496-aa11aca787d7\",\"type\":\"ColumnDataSource\"},{\"attributes\":{\"fill_alpha\":{\"value\":0.1},\"fill_color\":{\"value\":\"#1f77b4\"},\"line_alpha\":{\"value\":0.1},\"line_color\":{\"value\":\"#1f77b4\"},\"size\":{\"units\":\"screen\",\"value\":8},\"x\":{\"field\":\"x\"},\"y\":{\"field\":\"y\"}},\"id\":\"aaec19b9-d5ed-4aa8-a10b-5b42d702b16c\",\"type\":\"Circle\"},{\"attributes\":{\"line_alpha\":0.1,\"line_color\":\"#1f77b4\",\"x\":{\"field\":\"x\"},\"y\":{\"field\":\"y\"}},\"id\":\"9aa0d6d5-b455-433c-b4ed-002ab23b1abe\",\"type\":\"Line\"},{\"attributes\":{\"data_source\":{\"id\":\"51d83cd3-ea1a-4ac5-b496-aa11aca787d7\",\"type\":\"ColumnDataSource\"},\"glyph\":{\"id\":\"b75868e1-ae97-4aaa-83dc-05af3e2b79a9\",\"type\":\"Line\"},\"hover_glyph\":null,\"muted_glyph\":null,\"nonselection_glyph\":{\"id\":\"9aa0d6d5-b455-433c-b4ed-002ab23b1abe\",\"type\":\"Line\"},\"selection_glyph\":null,\"view\":{\"id\":\"ccce0160-5256-49d2-8731-3e4de3cd2f43\",\"type\":\"CDSView\"}},\"id\":\"2e01f7e2-daeb-4ffc-bd00-283545a6680a\",\"type\":\"GlyphRenderer\"},{\"attributes\":{\"source\":{\"id\":\"51d83cd3-ea1a-4ac5-b496-aa11aca787d7\",\"type\":\"ColumnDataSource\"}},\"id\":\"ccce0160-5256-49d2-8731-3e4de3cd2f43\",\"type\":\"CDSView\"},{\"attributes\":{\"callback\":null,\"column_names\":[\"x\",\"y\"],\"data\":{\"x\":{\"__ndarray__\":\"xXIjTOf55T9Z2FX5ad/sPw==\",\"dtype\":\"float64\",\"shape\":[2]},\"y\":{\"__ndarray__\":\"AAAAAAAA4D8AAAAAAADwPw==\",\"dtype\":\"float64\",\"shape\":[2]}}},\"id\":\"7e2621eb-5280-41f3-901a-2f320ec3d54d\",\"type\":\"ColumnDataSource\"},{\"attributes\":{\"callback\":null,\"column_names\":[\"x\",\"y\"],\"data\":{\"x\":{\"__ndarray__\":\"VPYtlxyl5T8IHUWG56PwPw==\",\"dtype\":\"float64\",\"shape\":[2]},\"y\":{\"__ndarray__\":\"AAAAAAAA4D8AAAAAAADwPw==\",\"dtype\":\"float64\",\"shape\":[2]}}},\"id\":\"fb9629ae-0580-4b33-98d2-748a314fba30\",\"type\":\"ColumnDataSource\"},{\"attributes\":{\"fill_color\":{\"value\":\"#00d7ff\"},\"size\":{\"units\":\"screen\",\"value\":8},\"x\":{\"field\":\"x\"},\"y\":{\"field\":\"y\"}},\"id\":\"03c403bd-95f6-420a-9eb8-bef6a2f59f6d\",\"type\":\"Circle\"},{\"attributes\":{\"callback\":null},\"id\":\"0bb49fc9-4100-46fe-bbe0-38bd1c643471\",\"type\":\"DataRange1d\"},{\"attributes\":{\"line_color\":\"#8a2be2\",\"x\":{\"field\":\"x\"},\"y\":{\"field\":\"y\"}},\"id\":\"cc229c1c-628a-43ef-8b02-25afd4fe3657\",\"type\":\"Line\"},{\"attributes\":{\"data_source\":{\"id\":\"7e2621eb-5280-41f3-901a-2f320ec3d54d\",\"type\":\"ColumnDataSource\"},\"glyph\":{\"id\":\"2e554154-3283-4116-b42e-fe6e1c9add7b\",\"type\":\"Circle\"},\"hover_glyph\":null,\"muted_glyph\":null,\"nonselection_glyph\":{\"id\":\"7684b6b6-e72e-49be-9a44-b07e9e52a819\",\"type\":\"Circle\"},\"selection_glyph\":null,\"view\":{\"id\":\"2441c560-07eb-490c-859b-8a49d13714a3\",\"type\":\"CDSView\"}},\"id\":\"b15072e4-e2b7-4dae-bcac-4a5bc41f4ed4\",\"type\":\"GlyphRenderer\"},{\"attributes\":{\"source\":{\"id\":\"7e2621eb-5280-41f3-901a-2f320ec3d54d\",\"type\":\"ColumnDataSource\"}},\"id\":\"2441c560-07eb-490c-859b-8a49d13714a3\",\"type\":\"CDSView\"},{\"attributes\":{\"callback\":null,\"column_names\":[\"x\",\"y\"],\"data\":{\"x\":{\"__ndarray__\":\"AAAAAAAAAAAAAAAAAAAAQA==\",\"dtype\":\"float64\",\"shape\":[2]},\"y\":{\"__ndarray__\":\"U/b/uRJ+8b+QnqpOuF8MQA==\",\"dtype\":\"float64\",\"shape\":[2]}}},\"id\":\"aa2e4445-8791-4519-8ad8-578a347a6e9a\",\"type\":\"ColumnDataSource\"},{\"attributes\":{\"fill_alpha\":{\"value\":0.1},\"fill_color\":{\"value\":\"#1f77b4\"},\"line_alpha\":{\"value\":0.1},\"line_color\":{\"value\":\"#1f77b4\"},\"size\":{\"units\":\"screen\",\"value\":8},\"x\":{\"field\":\"x\"},\"y\":{\"field\":\"y\"}},\"id\":\"3c96a275-7693-49eb-bacd-b914fab1fb58\",\"type\":\"Circle\"},{\"attributes\":{\"line_alpha\":0.1,\"line_color\":\"#1f77b4\",\"x\":{\"field\":\"x\"},\"y\":{\"field\":\"y\"}},\"id\":\"165a57ea-7255-4a8a-a8bf-89dc13d99efe\",\"type\":\"Line\"},{\"attributes\":{},\"id\":\"69561bd3-80f1-48a0-b0ce-f4faaedff97f\",\"type\":\"LinearScale\"},{\"attributes\":{\"data_source\":{\"id\":\"aa2e4445-8791-4519-8ad8-578a347a6e9a\",\"type\":\"ColumnDataSource\"},\"glyph\":{\"id\":\"cc229c1c-628a-43ef-8b02-25afd4fe3657\",\"type\":\"Line\"},\"hover_glyph\":null,\"muted_glyph\":null,\"nonselection_glyph\":{\"id\":\"165a57ea-7255-4a8a-a8bf-89dc13d99efe\",\"type\":\"Line\"},\"selection_glyph\":null,\"view\":{\"id\":\"6d3c889c-5e9e-4705-bc0e-233b0db20769\",\"type\":\"CDSView\"}},\"id\":\"c9b2bc3d-a79d-462c-bfb7-b19282fa0edb\",\"type\":\"GlyphRenderer\"},{\"attributes\":{\"source\":{\"id\":\"aa2e4445-8791-4519-8ad8-578a347a6e9a\",\"type\":\"ColumnDataSource\"}},\"id\":\"6d3c889c-5e9e-4705-bc0e-233b0db20769\",\"type\":\"CDSView\"},{\"attributes\":{\"callback\":null,\"column_names\":[\"x\",\"y\"],\"data\":{\"x\":{\"__ndarray__\":\"/g6F+08K4z+yHMEXAoTvPw==\",\"dtype\":\"float64\",\"shape\":[2]},\"y\":{\"__ndarray__\":\"AAAAAAAA4D8AAAAAAADwPw==\",\"dtype\":\"float64\",\"shape\":[2]}}},\"id\":\"cec14682-704d-41d3-8c06-ae59d9e74fc4\",\"type\":\"ColumnDataSource\"},{\"attributes\":{\"fill_color\":{\"value\":\"#03ed3a\"},\"size\":{\"units\":\"screen\",\"value\":8},\"x\":{\"field\":\"x\"},\"y\":{\"field\":\"y\"}},\"id\":\"9199ff94-9945-486b-ad83-a812cf761a6d\",\"type\":\"Circle\"},{\"attributes\":{\"line_color\":\"#00d7ff\",\"x\":{\"field\":\"x\"},\"y\":{\"field\":\"y\"}},\"id\":\"559f9714-79ac-4c53-aa7c-a6c5e811f4f1\",\"type\":\"Line\"},{\"attributes\":{\"data_source\":{\"id\":\"cec14682-704d-41d3-8c06-ae59d9e74fc4\",\"type\":\"ColumnDataSource\"},\"glyph\":{\"id\":\"03c403bd-95f6-420a-9eb8-bef6a2f59f6d\",\"type\":\"Circle\"},\"hover_glyph\":null,\"muted_glyph\":null,\"nonselection_glyph\":{\"id\":\"aaec19b9-d5ed-4aa8-a10b-5b42d702b16c\",\"type\":\"Circle\"},\"selection_glyph\":null,\"view\":{\"id\":\"d0b47fc4-8370-46cc-bf74-bcade9ca749a\",\"type\":\"CDSView\"}},\"id\":\"532e84cb-c27e-43de-b98a-c3eb86b90983\",\"type\":\"GlyphRenderer\"},{\"attributes\":{\"source\":{\"id\":\"cec14682-704d-41d3-8c06-ae59d9e74fc4\",\"type\":\"ColumnDataSource\"}},\"id\":\"d0b47fc4-8370-46cc-bf74-bcade9ca749a\",\"type\":\"CDSView\"},{\"attributes\":{\"callback\":null,\"column_names\":[\"x\",\"y\"],\"data\":{\"x\":{\"__ndarray__\":\"AAAAAAAAAAAAAAAAAAAAQA==\",\"dtype\":\"float64\",\"shape\":[2]},\"y\":{\"__ndarray__\":\"zLieGd/W0L+kdxfPXmoCQA==\",\"dtype\":\"float64\",\"shape\":[2]}}},\"id\":\"4348cf51-035f-4a3f-9d0e-c8dc50b4208c\",\"type\":\"ColumnDataSource\"},{\"attributes\":{\"data_source\":{\"id\":\"b004907d-85f7-4c41-859f-970df4dd2fd5\",\"type\":\"ColumnDataSource\"},\"glyph\":{\"id\":\"9199ff94-9945-486b-ad83-a812cf761a6d\",\"type\":\"Circle\"},\"hover_glyph\":null,\"muted_glyph\":null,\"nonselection_glyph\":{\"id\":\"3c96a275-7693-49eb-bacd-b914fab1fb58\",\"type\":\"Circle\"},\"selection_glyph\":null,\"view\":{\"id\":\"20818866-9662-4c70-825e-4b970d77d617\",\"type\":\"CDSView\"}},\"id\":\"a8dcaeb4-609f-46cb-bb0d-99bca8a36b76\",\"type\":\"GlyphRenderer\"},{\"attributes\":{\"line_alpha\":0.1,\"line_color\":\"#1f77b4\",\"x\":{\"field\":\"x\"},\"y\":{\"field\":\"y\"}},\"id\":\"16ec5bb0-da28-4bf0-917a-0369cb5d9723\",\"type\":\"Line\"},{\"attributes\":{\"data_source\":{\"id\":\"4348cf51-035f-4a3f-9d0e-c8dc50b4208c\",\"type\":\"ColumnDataSource\"},\"glyph\":{\"id\":\"559f9714-79ac-4c53-aa7c-a6c5e811f4f1\",\"type\":\"Line\"},\"hover_glyph\":null,\"muted_glyph\":null,\"nonselection_glyph\":{\"id\":\"16ec5bb0-da28-4bf0-917a-0369cb5d9723\",\"type\":\"Line\"},\"selection_glyph\":null,\"view\":{\"id\":\"2500c70c-4c34-4661-b63d-544a41321596\",\"type\":\"CDSView\"}},\"id\":\"1e9cb8f0-09d5-455e-bad0-2e34a0558d50\",\"type\":\"GlyphRenderer\"},{\"attributes\":{\"source\":{\"id\":\"4348cf51-035f-4a3f-9d0e-c8dc50b4208c\",\"type\":\"ColumnDataSource\"}},\"id\":\"2500c70c-4c34-4661-b63d-544a41321596\",\"type\":\"CDSView\"},{\"attributes\":{\"callback\":null,\"column_names\":[\"x\",\"y\"],\"data\":{\"x\":{\"__ndarray__\":\"sS4u4OJW3z/WLZxfLqjwPw==\",\"dtype\":\"float64\",\"shape\":[2]},\"y\":{\"__ndarray__\":\"AAAAAAAA4D8AAAAAAADwPw==\",\"dtype\":\"float64\",\"shape\":[2]}}},\"id\":\"b004907d-85f7-4c41-859f-970df4dd2fd5\",\"type\":\"ColumnDataSource\"}],\"root_ids\":[\"e2492d95-6ad3-4d00-a77b-170276093777\"]},\"title\":\"Bokeh Application\",\"version\":\"0.12.13\"}};\n",
       "  var render_items = [{\"docid\":\"0ae25a63-8c1f-4c12-a6b4-cd5f4a2ee6f8\",\"elementid\":\"c170f656-e0df-4fa3-ae4b-1b264ce2ebe6\",\"modelid\":\"e2492d95-6ad3-4d00-a77b-170276093777\"}];\n",
       "  root.Bokeh.embed.embed_items_notebook(docs_json, render_items);\n",
       "\n",
       "  }\n",
       "  if (root.Bokeh !== undefined) {\n",
       "    embed_document(root);\n",
       "  } else {\n",
       "    var attempts = 0;\n",
       "    var timer = setInterval(function(root) {\n",
       "      if (root.Bokeh !== undefined) {\n",
       "        embed_document(root);\n",
       "        clearInterval(timer);\n",
       "      }\n",
       "      attempts++;\n",
       "      if (attempts > 100) {\n",
       "        console.log(\"Bokeh: ERROR: Unable to run BokehJS code because BokehJS library is missing\")\n",
       "        clearInterval(timer);\n",
       "      }\n",
       "    }, 10, root)\n",
       "  }\n",
       "})(window);"
      ],
      "application/vnd.bokehjs_exec.v0+json": ""
     },
     "metadata": {
      "application/vnd.bokehjs_exec.v0+json": {
       "id": "e2492d95-6ad3-4d00-a77b-170276093777"
      }
     },
     "output_type": "display_data"
    }
   ],
   "source": [
    "np.random.seed(0)\n",
    "fig = bk.figure(plot_width=400, plot_height=300, title=None)\n",
    "\n",
    "for i in range(6):\n",
    "    noise = np.random.normal(loc=0, scale=.1, size=X.shape)\n",
    "    noisy_X = X + noise\n",
    "    regr.fit(noisy_X, y)\n",
    "    \n",
    "    fig.circle(noisy_X[:,0], y, size=8, fill_color=cat_colors[i], line_color='black')\n",
    "    fig.line(X_test[:,0], regr.predict(X_test), color=cat_colors[i])\n",
    "bk.show(fig)"
   ]
  },
  {
   "cell_type": "markdown",
   "metadata": {},
   "source": [
    "As we can see, our linear model captures and amplifies the noise in the data. It displays a lot of variance. This means that if we subsample the data and we fit a different model to each subsample (each pair of points) we obtain a model that differ substantially from the true model. There are several techniques to reduce variance. **Regularization** is one of those, it is a way to change the tradeoff between Bias and Variance by putting more weights on either one. We will briefly use it in this example while we leave a more detailed explanation for the next section.\n",
    "\n",
    "We can use another linear estimator that uses **regularization**: the Ridge estimator. This estimator regularizes the coefficients by shrinking them to zero, under the assumption that very high correlations are often spurious. High alphas give high regularization (shrinkage):"
   ]
  },
  {
   "cell_type": "code",
   "execution_count": 11,
   "metadata": {},
   "outputs": [
    {
     "data": {
      "text/html": [
       "\n",
       "<div class=\"bk-root\">\n",
       "    <div class=\"bk-plotdiv\" id=\"28a12713-d864-41c7-9097-09a8546b5c24\"></div>\n",
       "</div>"
      ]
     },
     "metadata": {},
     "output_type": "display_data"
    },
    {
     "data": {
      "application/javascript": [
       "(function(root) {\n",
       "  function embed_document(root) {\n",
       "    \n",
       "  var docs_json = {\"6d78f27a-12f2-4251-a448-e7bcbfd306e7\":{\"roots\":{\"references\":[{\"attributes\":{\"callback\":null,\"column_names\":[\"x\",\"y\"],\"data\":{\"x\":{\"__ndarray__\":\"AAAAAAAAAAAAAAAAAAAAQA==\",\"dtype\":\"float64\",\"shape\":[2]},\"y\":{\"__ndarray__\":\"MA9yw68D0D9OkIT416P3Pw==\",\"dtype\":\"float64\",\"shape\":[2]}}},\"id\":\"4e670684-adc4-4480-b8f1-c961dfcc8736\",\"type\":\"ColumnDataSource\"},{\"attributes\":{\"line_color\":\"#003fff\",\"x\":{\"field\":\"x\"},\"y\":{\"field\":\"y\"}},\"id\":\"cf1bd800-3be9-41e8-93a1-cd55ad66f515\",\"type\":\"Line\"},{\"attributes\":{\"fill_alpha\":{\"value\":0.1},\"fill_color\":{\"value\":\"#1f77b4\"},\"line_alpha\":{\"value\":0.1},\"line_color\":{\"value\":\"#1f77b4\"},\"size\":{\"units\":\"screen\",\"value\":8},\"x\":{\"field\":\"x\"},\"y\":{\"field\":\"y\"}},\"id\":\"2fd56789-7999-434e-b340-8a7d984c8f2c\",\"type\":\"Circle\"},{\"attributes\":{\"data_source\":{\"id\":\"d1bf156f-f15b-4990-8fef-896d552e995c\",\"type\":\"ColumnDataSource\"},\"glyph\":{\"id\":\"cf1bd800-3be9-41e8-93a1-cd55ad66f515\",\"type\":\"Line\"},\"hover_glyph\":null,\"muted_glyph\":null,\"nonselection_glyph\":{\"id\":\"1204c2c0-b880-4111-8ce1-624b98aa6f7c\",\"type\":\"Line\"},\"selection_glyph\":null,\"view\":{\"id\":\"d9b66228-7fd7-4ebf-b954-4af9991ed78c\",\"type\":\"CDSView\"}},\"id\":\"7007745c-cb57-4411-80a3-0e78b8e9fbfb\",\"type\":\"GlyphRenderer\"},{\"attributes\":{\"below\":[{\"id\":\"9e4b9b11-64ae-415b-8714-36b43f4910ed\",\"type\":\"LinearAxis\"}],\"left\":[{\"id\":\"91e2a459-ccce-46c6-9acf-656f1cf85e65\",\"type\":\"LinearAxis\"}],\"plot_height\":300,\"plot_width\":400,\"renderers\":[{\"id\":\"9e4b9b11-64ae-415b-8714-36b43f4910ed\",\"type\":\"LinearAxis\"},{\"id\":\"9c34a5ab-30c0-48d8-aacc-de792a0a8395\",\"type\":\"Grid\"},{\"id\":\"91e2a459-ccce-46c6-9acf-656f1cf85e65\",\"type\":\"LinearAxis\"},{\"id\":\"cd233d61-50eb-41b7-9256-9f982c6dbb53\",\"type\":\"Grid\"},{\"id\":\"58ec576f-d0b6-4e27-a2ab-ca4698367ee3\",\"type\":\"BoxAnnotation\"},{\"id\":\"ba8dd5ef-7c6d-4490-ac1e-798c3d72f0f6\",\"type\":\"GlyphRenderer\"},{\"id\":\"b2000c2d-f12d-4e43-8057-939958652b12\",\"type\":\"GlyphRenderer\"},{\"id\":\"ce3eacb4-f532-48df-8a33-3f23bde063af\",\"type\":\"GlyphRenderer\"},{\"id\":\"7007745c-cb57-4411-80a3-0e78b8e9fbfb\",\"type\":\"GlyphRenderer\"},{\"id\":\"79494fb2-da7c-4d2c-a954-9e461d884e41\",\"type\":\"GlyphRenderer\"},{\"id\":\"7161ef0b-f151-421a-91e4-d4503f7be618\",\"type\":\"GlyphRenderer\"},{\"id\":\"ff1004ad-dd8b-46ba-98a2-1a6aa00e965a\",\"type\":\"GlyphRenderer\"},{\"id\":\"1f962770-582c-4e2f-b6ca-65450391eb4f\",\"type\":\"GlyphRenderer\"},{\"id\":\"41f0b892-7777-4d73-bf99-d83e4ba0c8a9\",\"type\":\"GlyphRenderer\"},{\"id\":\"2ae4d1b6-a758-47f8-8d97-b85f8c5fc46c\",\"type\":\"GlyphRenderer\"},{\"id\":\"17aa0b54-fa03-48c1-bf35-753c031fd747\",\"type\":\"GlyphRenderer\"},{\"id\":\"2224b16c-f20b-4381-84f4-fd5e7a17fe7b\",\"type\":\"GlyphRenderer\"}],\"title\":null,\"toolbar\":{\"id\":\"7ce6f52d-b723-4faf-924e-9a6c7ca67eff\",\"type\":\"Toolbar\"},\"x_range\":{\"id\":\"cfb12d25-6b25-4059-9f10-c81a38f9ea39\",\"type\":\"DataRange1d\"},\"x_scale\":{\"id\":\"d0c04495-6fe8-4d5b-bb79-5d82c6d95a63\",\"type\":\"LinearScale\"},\"y_range\":{\"id\":\"3c79b2ad-8371-4bd8-b5b8-c6c4b0655db5\",\"type\":\"DataRange1d\"},\"y_scale\":{\"id\":\"c83cbd76-0e28-4af3-88cf-9313f852e5dd\",\"type\":\"LinearScale\"}},\"id\":\"8b17f183-c1e8-4bec-b179-a2b6d333bf37\",\"subtype\":\"Figure\",\"type\":\"Plot\"},{\"attributes\":{\"fill_color\":{\"value\":\"#003fff\"},\"size\":{\"units\":\"screen\",\"value\":8},\"x\":{\"field\":\"x\"},\"y\":{\"field\":\"y\"}},\"id\":\"320e4be7-4883-4cfb-bfef-d6499e8d6ba0\",\"type\":\"Circle\"},{\"attributes\":{\"data_source\":{\"id\":\"175ad528-906f-4c6d-bdf5-eb64a1e84285\",\"type\":\"ColumnDataSource\"},\"glyph\":{\"id\":\"320e4be7-4883-4cfb-bfef-d6499e8d6ba0\",\"type\":\"Circle\"},\"hover_glyph\":null,\"muted_glyph\":null,\"nonselection_glyph\":{\"id\":\"2fd56789-7999-434e-b340-8a7d984c8f2c\",\"type\":\"Circle\"},\"selection_glyph\":null,\"view\":{\"id\":\"511ad59d-abf6-4a00-84cb-6a36fe98fa7d\",\"type\":\"CDSView\"}},\"id\":\"ce3eacb4-f532-48df-8a33-3f23bde063af\",\"type\":\"GlyphRenderer\"},{\"attributes\":{\"source\":{\"id\":\"175ad528-906f-4c6d-bdf5-eb64a1e84285\",\"type\":\"ColumnDataSource\"}},\"id\":\"511ad59d-abf6-4a00-84cb-6a36fe98fa7d\",\"type\":\"CDSView\"},{\"attributes\":{\"callback\":null,\"column_names\":[\"x\",\"y\"],\"data\":{\"x\":{\"__ndarray__\":\"AAAAAAAAAAAAAAAAAAAAQA==\",\"dtype\":\"float64\",\"shape\":[2]},\"y\":{\"__ndarray__\":\"Wo6/Kb8b0z9YEJxjRsL4Pw==\",\"dtype\":\"float64\",\"shape\":[2]}}},\"id\":\"c073a2a3-10b1-4942-975b-c9b228e1e631\",\"type\":\"ColumnDataSource\"},{\"attributes\":{\"line_alpha\":0.1,\"line_color\":\"#1f77b4\",\"x\":{\"field\":\"x\"},\"y\":{\"field\":\"y\"}},\"id\":\"1204c2c0-b880-4111-8ce1-624b98aa6f7c\",\"type\":\"Line\"},{\"attributes\":{\"callback\":null,\"column_names\":[\"x\",\"y\"],\"data\":{\"x\":{\"__ndarray__\":\"cut1F/PH5D+IMJUx71fvPw==\",\"dtype\":\"float64\",\"shape\":[2]},\"y\":{\"__ndarray__\":\"AAAAAAAA4D8AAAAAAADwPw==\",\"dtype\":\"float64\",\"shape\":[2]}}},\"id\":\"83914f7b-77af-4e9f-9266-af8c1cd24e49\",\"type\":\"ColumnDataSource\"},{\"attributes\":{\"source\":{\"id\":\"83914f7b-77af-4e9f-9266-af8c1cd24e49\",\"type\":\"ColumnDataSource\"}},\"id\":\"707c8c1f-4fb9-4bb5-bc68-c16a33809f89\",\"type\":\"CDSView\"},{\"attributes\":{\"data_source\":{\"id\":\"83914f7b-77af-4e9f-9266-af8c1cd24e49\",\"type\":\"ColumnDataSource\"},\"glyph\":{\"id\":\"91e537ee-1e00-4dce-a254-9d69e4d8b27f\",\"type\":\"Circle\"},\"hover_glyph\":null,\"muted_glyph\":null,\"nonselection_glyph\":{\"id\":\"6dbf1f56-de09-47b4-813d-41fc5d1c18f8\",\"type\":\"Circle\"},\"selection_glyph\":null,\"view\":{\"id\":\"707c8c1f-4fb9-4bb5-bc68-c16a33809f89\",\"type\":\"CDSView\"}},\"id\":\"79494fb2-da7c-4d2c-a954-9e461d884e41\",\"type\":\"GlyphRenderer\"},{\"attributes\":{\"source\":{\"id\":\"d1bf156f-f15b-4990-8fef-896d552e995c\",\"type\":\"ColumnDataSource\"}},\"id\":\"d9b66228-7fd7-4ebf-b954-4af9991ed78c\",\"type\":\"CDSView\"},{\"attributes\":{\"line_color\":\"#8a2be2\",\"x\":{\"field\":\"x\"},\"y\":{\"field\":\"y\"}},\"id\":\"5eb76eac-7b04-4b8b-80b4-aeea181a7159\",\"type\":\"Line\"},{\"attributes\":{\"data_source\":{\"id\":\"4e670684-adc4-4480-b8f1-c961dfcc8736\",\"type\":\"ColumnDataSource\"},\"glyph\":{\"id\":\"5eb76eac-7b04-4b8b-80b4-aeea181a7159\",\"type\":\"Line\"},\"hover_glyph\":null,\"muted_glyph\":null,\"nonselection_glyph\":{\"id\":\"87149159-9d2d-413f-b81f-d218287af1da\",\"type\":\"Line\"},\"selection_glyph\":null,\"view\":{\"id\":\"06bd9e3c-dc92-4e62-b48d-349fad774794\",\"type\":\"CDSView\"}},\"id\":\"7161ef0b-f151-421a-91e4-d4503f7be618\",\"type\":\"GlyphRenderer\"},{\"attributes\":{\"line_alpha\":0.1,\"line_color\":\"#1f77b4\",\"x\":{\"field\":\"x\"},\"y\":{\"field\":\"y\"}},\"id\":\"d1625669-2178-4354-bfd7-c93401395857\",\"type\":\"Line\"},{\"attributes\":{\"fill_color\":{\"value\":\"#8a2be2\"},\"size\":{\"units\":\"screen\",\"value\":8},\"x\":{\"field\":\"x\"},\"y\":{\"field\":\"y\"}},\"id\":\"91e537ee-1e00-4dce-a254-9d69e4d8b27f\",\"type\":\"Circle\"},{\"attributes\":{\"fill_alpha\":{\"value\":0.1},\"fill_color\":{\"value\":\"#1f77b4\"},\"line_alpha\":{\"value\":0.1},\"line_color\":{\"value\":\"#1f77b4\"},\"size\":{\"units\":\"screen\",\"value\":8},\"x\":{\"field\":\"x\"},\"y\":{\"field\":\"y\"}},\"id\":\"6dbf1f56-de09-47b4-813d-41fc5d1c18f8\",\"type\":\"Circle\"},{\"attributes\":{\"callback\":null,\"column_names\":[\"x\",\"y\"],\"data\":{\"x\":{\"__ndarray__\":\"AAAAAAAAAAAAAAAAAAAAQA==\",\"dtype\":\"float64\",\"shape\":[2]},\"y\":{\"__ndarray__\":\"+1PBQIpc2z9m1rnxHZj2Pw==\",\"dtype\":\"float64\",\"shape\":[2]}}},\"id\":\"7addd1b0-fa4d-4faa-9f84-ebdbfc769ac7\",\"type\":\"ColumnDataSource\"},{\"attributes\":{\"callback\":null},\"id\":\"cfb12d25-6b25-4059-9f10-c81a38f9ea39\",\"type\":\"DataRange1d\"},{\"attributes\":{\"line_alpha\":0.1,\"line_color\":\"#1f77b4\",\"x\":{\"field\":\"x\"},\"y\":{\"field\":\"y\"}},\"id\":\"87149159-9d2d-413f-b81f-d218287af1da\",\"type\":\"Line\"},{\"attributes\":{},\"id\":\"c3d539a9-fad0-452b-9f51-fb880c8e7228\",\"type\":\"BasicTickFormatter\"},{\"attributes\":{\"callback\":null,\"column_names\":[\"x\",\"y\"],\"data\":{\"x\":{\"__ndarray__\":\"ExRADncA4T81jCYkU0TtPw==\",\"dtype\":\"float64\",\"shape\":[2]},\"y\":{\"__ndarray__\":\"AAAAAAAA4D8AAAAAAADwPw==\",\"dtype\":\"float64\",\"shape\":[2]}}},\"id\":\"b8c22155-ed61-4618-804e-16cc9626c551\",\"type\":\"ColumnDataSource\"},{\"attributes\":{},\"id\":\"d43a70a3-5093-499c-a9d7-6e5ad2593eb6\",\"type\":\"BasicTickFormatter\"},{\"attributes\":{\"source\":{\"id\":\"b8c22155-ed61-4618-804e-16cc9626c551\",\"type\":\"ColumnDataSource\"}},\"id\":\"01be5e2b-ae2c-4fe0-925f-0d8ec16bf53d\",\"type\":\"CDSView\"},{\"attributes\":{\"data_source\":{\"id\":\"b8c22155-ed61-4618-804e-16cc9626c551\",\"type\":\"ColumnDataSource\"},\"glyph\":{\"id\":\"93bdaab2-2897-4835-90f7-7b36cea59c77\",\"type\":\"Circle\"},\"hover_glyph\":null,\"muted_glyph\":null,\"nonselection_glyph\":{\"id\":\"172ec4e5-0074-4321-9706-71a48ff87bca\",\"type\":\"Circle\"},\"selection_glyph\":null,\"view\":{\"id\":\"01be5e2b-ae2c-4fe0-925f-0d8ec16bf53d\",\"type\":\"CDSView\"}},\"id\":\"ff1004ad-dd8b-46ba-98a2-1a6aa00e965a\",\"type\":\"GlyphRenderer\"},{\"attributes\":{\"source\":{\"id\":\"4e670684-adc4-4480-b8f1-c961dfcc8736\",\"type\":\"ColumnDataSource\"}},\"id\":\"06bd9e3c-dc92-4e62-b48d-349fad774794\",\"type\":\"CDSView\"},{\"attributes\":{\"line_color\":\"#00d7ff\",\"x\":{\"field\":\"x\"},\"y\":{\"field\":\"y\"}},\"id\":\"052b97be-9452-4974-b1ab-435578485d71\",\"type\":\"Line\"},{\"attributes\":{\"data_source\":{\"id\":\"c073a2a3-10b1-4942-975b-c9b228e1e631\",\"type\":\"ColumnDataSource\"},\"glyph\":{\"id\":\"052b97be-9452-4974-b1ab-435578485d71\",\"type\":\"Line\"},\"hover_glyph\":null,\"muted_glyph\":null,\"nonselection_glyph\":{\"id\":\"4755686e-b65f-40c1-99ad-8514b88261ad\",\"type\":\"Line\"},\"selection_glyph\":null,\"view\":{\"id\":\"0e3a3bb2-7ee7-4401-8721-24fdc488446a\",\"type\":\"CDSView\"}},\"id\":\"1f962770-582c-4e2f-b6ca-65450391eb4f\",\"type\":\"GlyphRenderer\"},{\"attributes\":{\"active_drag\":\"auto\",\"active_inspect\":\"auto\",\"active_scroll\":\"auto\",\"active_tap\":\"auto\",\"tools\":[{\"id\":\"c4320e19-a6ab-4356-a67f-1510ae726808\",\"type\":\"PanTool\"},{\"id\":\"f9083a45-cfa4-4a07-b5a2-03fb650055f3\",\"type\":\"WheelZoomTool\"},{\"id\":\"bea1e83a-7a87-4912-bc2e-ca99a10ede95\",\"type\":\"BoxZoomTool\"},{\"id\":\"5ff05f2e-d5df-447f-abce-8fe2f911379f\",\"type\":\"SaveTool\"},{\"id\":\"09d4484b-5945-4d21-9845-519b82dfc3a8\",\"type\":\"ResetTool\"},{\"id\":\"746bb7bc-e11e-4041-863c-cc09584cfe46\",\"type\":\"HelpTool\"}]},\"id\":\"7ce6f52d-b723-4faf-924e-9a6c7ca67eff\",\"type\":\"Toolbar\"},{\"attributes\":{\"fill_color\":{\"value\":\"#00d7ff\"},\"size\":{\"units\":\"screen\",\"value\":8},\"x\":{\"field\":\"x\"},\"y\":{\"field\":\"y\"}},\"id\":\"93bdaab2-2897-4835-90f7-7b36cea59c77\",\"type\":\"Circle\"},{\"attributes\":{\"fill_alpha\":{\"value\":0.1},\"fill_color\":{\"value\":\"#1f77b4\"},\"line_alpha\":{\"value\":0.1},\"line_color\":{\"value\":\"#1f77b4\"},\"size\":{\"units\":\"screen\",\"value\":8},\"x\":{\"field\":\"x\"},\"y\":{\"field\":\"y\"}},\"id\":\"172ec4e5-0074-4321-9706-71a48ff87bca\",\"type\":\"Circle\"},{\"attributes\":{\"callback\":null,\"column_names\":[\"x\",\"y\"],\"data\":{\"x\":{\"__ndarray__\":\"AAAAAAAAAAAAAAAAAAAAQA==\",\"dtype\":\"float64\",\"shape\":[2]},\"y\":{\"__ndarray__\":\"h60ltCgS0T93i2dR9973Pw==\",\"dtype\":\"float64\",\"shape\":[2]}}},\"id\":\"d1bf156f-f15b-4990-8fef-896d552e995c\",\"type\":\"ColumnDataSource\"},{\"attributes\":{\"callback\":null,\"column_names\":[\"x\",\"y\"],\"data\":{\"x\":{\"__ndarray__\":\"AAAAAAAAAAAAAAAAAAAAQA==\",\"dtype\":\"float64\",\"shape\":[2]},\"y\":{\"__ndarray__\":\"XvkMu/Ao0j8qLDaxw0X4Pw==\",\"dtype\":\"float64\",\"shape\":[2]}}},\"id\":\"c384eb9e-bba1-4f40-8909-940850230b0b\",\"type\":\"ColumnDataSource\"},{\"attributes\":{},\"id\":\"70adc9e4-9014-45aa-9100-89b1b4545403\",\"type\":\"BasicTicker\"},{\"attributes\":{\"line_alpha\":0.1,\"line_color\":\"#1f77b4\",\"x\":{\"field\":\"x\"},\"y\":{\"field\":\"y\"}},\"id\":\"4755686e-b65f-40c1-99ad-8514b88261ad\",\"type\":\"Line\"},{\"attributes\":{\"fill_alpha\":{\"value\":0.1},\"fill_color\":{\"value\":\"#1f77b4\"},\"line_alpha\":{\"value\":0.1},\"line_color\":{\"value\":\"#1f77b4\"},\"size\":{\"units\":\"screen\",\"value\":8},\"x\":{\"field\":\"x\"},\"y\":{\"field\":\"y\"}},\"id\":\"0d661897-df38-4fe5-87d2-f591556a143c\",\"type\":\"Circle\"},{\"attributes\":{\"callback\":null,\"column_names\":[\"x\",\"y\"],\"data\":{\"x\":{\"__ndarray__\":\"Ctay61xSzz+sW5LguAvxPw==\",\"dtype\":\"float64\",\"shape\":[2]},\"y\":{\"__ndarray__\":\"AAAAAAAA4D8AAAAAAADwPw==\",\"dtype\":\"float64\",\"shape\":[2]}}},\"id\":\"f2de2421-58e9-48de-8b0a-b0da55bbc4eb\",\"type\":\"ColumnDataSource\"},{\"attributes\":{},\"id\":\"d0c04495-6fe8-4d5b-bb79-5d82c6d95a63\",\"type\":\"LinearScale\"},{\"attributes\":{\"source\":{\"id\":\"f2de2421-58e9-48de-8b0a-b0da55bbc4eb\",\"type\":\"ColumnDataSource\"}},\"id\":\"9b340096-e7ef-491a-b992-8481fabdccc1\",\"type\":\"CDSView\"},{\"attributes\":{\"formatter\":{\"id\":\"d43a70a3-5093-499c-a9d7-6e5ad2593eb6\",\"type\":\"BasicTickFormatter\"},\"plot\":{\"id\":\"8b17f183-c1e8-4bec-b179-a2b6d333bf37\",\"subtype\":\"Figure\",\"type\":\"Plot\"},\"ticker\":{\"id\":\"503176b7-4659-42f2-94db-7e2841741bad\",\"type\":\"BasicTicker\"}},\"id\":\"91e2a459-ccce-46c6-9acf-656f1cf85e65\",\"type\":\"LinearAxis\"},{\"attributes\":{\"data_source\":{\"id\":\"f2de2421-58e9-48de-8b0a-b0da55bbc4eb\",\"type\":\"ColumnDataSource\"},\"glyph\":{\"id\":\"9769ce7f-73eb-468c-b663-3e2d7d801998\",\"type\":\"Circle\"},\"hover_glyph\":null,\"muted_glyph\":null,\"nonselection_glyph\":{\"id\":\"a76656da-6df2-446a-b5dc-a732c9c4363d\",\"type\":\"Circle\"},\"selection_glyph\":null,\"view\":{\"id\":\"9b340096-e7ef-491a-b992-8481fabdccc1\",\"type\":\"CDSView\"}},\"id\":\"41f0b892-7777-4d73-bf99-d83e4ba0c8a9\",\"type\":\"GlyphRenderer\"},{\"attributes\":{\"source\":{\"id\":\"c073a2a3-10b1-4942-975b-c9b228e1e631\",\"type\":\"ColumnDataSource\"}},\"id\":\"0e3a3bb2-7ee7-4401-8721-24fdc488446a\",\"type\":\"CDSView\"},{\"attributes\":{\"data_source\":{\"id\":\"8e3bb4e9-50ab-498f-afdc-39a85100140c\",\"type\":\"ColumnDataSource\"},\"glyph\":{\"id\":\"7390c2a6-7ff5-4257-832e-b776b037e344\",\"type\":\"Circle\"},\"hover_glyph\":null,\"muted_glyph\":null,\"nonselection_glyph\":{\"id\":\"0d661897-df38-4fe5-87d2-f591556a143c\",\"type\":\"Circle\"},\"selection_glyph\":null,\"view\":{\"id\":\"d2624838-490e-4fdb-bc11-3e840daa231c\",\"type\":\"CDSView\"}},\"id\":\"ba8dd5ef-7c6d-4490-ac1e-798c3d72f0f6\",\"type\":\"GlyphRenderer\"},{\"attributes\":{\"line_color\":\"#03ed3a\",\"x\":{\"field\":\"x\"},\"y\":{\"field\":\"y\"}},\"id\":\"ee179781-278e-430c-807b-0e821f0c266e\",\"type\":\"Line\"},{\"attributes\":{\"data_source\":{\"id\":\"7addd1b0-fa4d-4faa-9f84-ebdbfc769ac7\",\"type\":\"ColumnDataSource\"},\"glyph\":{\"id\":\"ee179781-278e-430c-807b-0e821f0c266e\",\"type\":\"Line\"},\"hover_glyph\":null,\"muted_glyph\":null,\"nonselection_glyph\":{\"id\":\"ed8682d2-1193-4ef0-ba58-59a3a544b4a2\",\"type\":\"Line\"},\"selection_glyph\":null,\"view\":{\"id\":\"a2cf5b14-9d7e-403a-b8a6-5fa6715b740b\",\"type\":\"CDSView\"}},\"id\":\"2ae4d1b6-a758-47f8-8d97-b85f8c5fc46c\",\"type\":\"GlyphRenderer\"},{\"attributes\":{\"fill_color\":{\"value\":\"#03ed3a\"},\"size\":{\"units\":\"screen\",\"value\":8},\"x\":{\"field\":\"x\"},\"y\":{\"field\":\"y\"}},\"id\":\"9769ce7f-73eb-468c-b663-3e2d7d801998\",\"type\":\"Circle\"},{\"attributes\":{\"fill_alpha\":{\"value\":0.1},\"fill_color\":{\"value\":\"#1f77b4\"},\"line_alpha\":{\"value\":0.1},\"line_color\":{\"value\":\"#1f77b4\"},\"size\":{\"units\":\"screen\",\"value\":8},\"x\":{\"field\":\"x\"},\"y\":{\"field\":\"y\"}},\"id\":\"a76656da-6df2-446a-b5dc-a732c9c4363d\",\"type\":\"Circle\"},{\"attributes\":{\"callback\":null},\"id\":\"3c79b2ad-8371-4bd8-b5b8-c6c4b0655db5\",\"type\":\"DataRange1d\"},{\"attributes\":{},\"id\":\"c83cbd76-0e28-4af3-88cf-9313f852e5dd\",\"type\":\"LinearScale\"},{\"attributes\":{\"line_alpha\":0.1,\"line_color\":\"#1f77b4\",\"x\":{\"field\":\"x\"},\"y\":{\"field\":\"y\"}},\"id\":\"ed8682d2-1193-4ef0-ba58-59a3a544b4a2\",\"type\":\"Line\"},{\"attributes\":{\"callback\":null,\"column_names\":[\"x\",\"y\"],\"data\":{\"x\":{\"__ndarray__\":\"2HQLaSXE4j9qLt22BKDtPw==\",\"dtype\":\"float64\",\"shape\":[2]},\"y\":{\"__ndarray__\":\"AAAAAAAA4D8AAAAAAADwPw==\",\"dtype\":\"float64\",\"shape\":[2]}}},\"id\":\"eb88452c-f46b-4b6c-869e-7ca1328d32ac\",\"type\":\"ColumnDataSource\"},{\"attributes\":{\"source\":{\"id\":\"eb88452c-f46b-4b6c-869e-7ca1328d32ac\",\"type\":\"ColumnDataSource\"}},\"id\":\"ba102f81-6f33-4554-a396-1a977461ca23\",\"type\":\"CDSView\"},{\"attributes\":{\"data_source\":{\"id\":\"eb88452c-f46b-4b6c-869e-7ca1328d32ac\",\"type\":\"ColumnDataSource\"},\"glyph\":{\"id\":\"56c35832-d5ca-4d6c-a902-1c6af9fb4947\",\"type\":\"Circle\"},\"hover_glyph\":null,\"muted_glyph\":null,\"nonselection_glyph\":{\"id\":\"30304a56-2633-4da3-bf23-684ac7365e5b\",\"type\":\"Circle\"},\"selection_glyph\":null,\"view\":{\"id\":\"ba102f81-6f33-4554-a396-1a977461ca23\",\"type\":\"CDSView\"}},\"id\":\"17aa0b54-fa03-48c1-bf35-753c031fd747\",\"type\":\"GlyphRenderer\"},{\"attributes\":{\"line_color\":\"#e8000b\",\"x\":{\"field\":\"x\"},\"y\":{\"field\":\"y\"}},\"id\":\"801b5f35-8edc-4fe4-b0bd-5ebb146d6ca6\",\"type\":\"Line\"},{\"attributes\":{\"callback\":null,\"column_names\":[\"x\",\"y\"],\"data\":{\"x\":{\"__ndarray__\":\"sVLb3Zxr4T9ZvQVKrIjwPw==\",\"dtype\":\"float64\",\"shape\":[2]},\"y\":{\"__ndarray__\":\"AAAAAAAA4D8AAAAAAADwPw==\",\"dtype\":\"float64\",\"shape\":[2]}}},\"id\":\"175ad528-906f-4c6d-bdf5-eb64a1e84285\",\"type\":\"ColumnDataSource\"},{\"attributes\":{\"source\":{\"id\":\"7addd1b0-fa4d-4faa-9f84-ebdbfc769ac7\",\"type\":\"ColumnDataSource\"}},\"id\":\"a2cf5b14-9d7e-403a-b8a6-5fa6715b740b\",\"type\":\"CDSView\"},{\"attributes\":{\"line_color\":\"#ffc400\",\"x\":{\"field\":\"x\"},\"y\":{\"field\":\"y\"}},\"id\":\"37621dc9-2165-4587-8425-dbadef640195\",\"type\":\"Line\"},{\"attributes\":{\"data_source\":{\"id\":\"c384eb9e-bba1-4f40-8909-940850230b0b\",\"type\":\"ColumnDataSource\"},\"glyph\":{\"id\":\"37621dc9-2165-4587-8425-dbadef640195\",\"type\":\"Line\"},\"hover_glyph\":null,\"muted_glyph\":null,\"nonselection_glyph\":{\"id\":\"e73f2d6b-7b55-44c1-b99f-8184b8d75052\",\"type\":\"Line\"},\"selection_glyph\":null,\"view\":{\"id\":\"da3e0cb1-d796-4337-8694-c3d8cd09a4e6\",\"type\":\"CDSView\"}},\"id\":\"2224b16c-f20b-4381-84f4-fd5e7a17fe7b\",\"type\":\"GlyphRenderer\"},{\"attributes\":{\"dimension\":1,\"plot\":{\"id\":\"8b17f183-c1e8-4bec-b179-a2b6d333bf37\",\"subtype\":\"Figure\",\"type\":\"Plot\"},\"ticker\":{\"id\":\"503176b7-4659-42f2-94db-7e2841741bad\",\"type\":\"BasicTicker\"}},\"id\":\"cd233d61-50eb-41b7-9256-9f982c6dbb53\",\"type\":\"Grid\"},{\"attributes\":{\"fill_color\":{\"value\":\"#ffc400\"},\"size\":{\"units\":\"screen\",\"value\":8},\"x\":{\"field\":\"x\"},\"y\":{\"field\":\"y\"}},\"id\":\"56c35832-d5ca-4d6c-a902-1c6af9fb4947\",\"type\":\"Circle\"},{\"attributes\":{},\"id\":\"503176b7-4659-42f2-94db-7e2841741bad\",\"type\":\"BasicTicker\"},{\"attributes\":{\"fill_alpha\":{\"value\":0.1},\"fill_color\":{\"value\":\"#1f77b4\"},\"line_alpha\":{\"value\":0.1},\"line_color\":{\"value\":\"#1f77b4\"},\"size\":{\"units\":\"screen\",\"value\":8},\"x\":{\"field\":\"x\"},\"y\":{\"field\":\"y\"}},\"id\":\"30304a56-2633-4da3-bf23-684ac7365e5b\",\"type\":\"Circle\"},{\"attributes\":{\"line_alpha\":0.1,\"line_color\":\"#1f77b4\",\"x\":{\"field\":\"x\"},\"y\":{\"field\":\"y\"}},\"id\":\"e73f2d6b-7b55-44c1-b99f-8184b8d75052\",\"type\":\"Line\"},{\"attributes\":{\"plot\":{\"id\":\"8b17f183-c1e8-4bec-b179-a2b6d333bf37\",\"subtype\":\"Figure\",\"type\":\"Plot\"},\"ticker\":{\"id\":\"70adc9e4-9014-45aa-9100-89b1b4545403\",\"type\":\"BasicTicker\"}},\"id\":\"9c34a5ab-30c0-48d8-aacc-de792a0a8395\",\"type\":\"Grid\"},{\"attributes\":{\"formatter\":{\"id\":\"c3d539a9-fad0-452b-9f51-fb880c8e7228\",\"type\":\"BasicTickFormatter\"},\"plot\":{\"id\":\"8b17f183-c1e8-4bec-b179-a2b6d333bf37\",\"subtype\":\"Figure\",\"type\":\"Plot\"},\"ticker\":{\"id\":\"70adc9e4-9014-45aa-9100-89b1b4545403\",\"type\":\"BasicTicker\"}},\"id\":\"9e4b9b11-64ae-415b-8714-36b43f4910ed\",\"type\":\"LinearAxis\"},{\"attributes\":{\"source\":{\"id\":\"c384eb9e-bba1-4f40-8909-940850230b0b\",\"type\":\"ColumnDataSource\"}},\"id\":\"da3e0cb1-d796-4337-8694-c3d8cd09a4e6\",\"type\":\"CDSView\"},{\"attributes\":{\"callback\":null,\"column_names\":[\"x\",\"y\"],\"data\":{\"x\":{\"__ndarray__\":\"ArHBLXFv4j/shdqM1jHwPw==\",\"dtype\":\"float64\",\"shape\":[2]},\"y\":{\"__ndarray__\":\"AAAAAAAA4D8AAAAAAADwPw==\",\"dtype\":\"float64\",\"shape\":[2]}}},\"id\":\"8e3bb4e9-50ab-498f-afdc-39a85100140c\",\"type\":\"ColumnDataSource\"},{\"attributes\":{\"bottom_units\":\"screen\",\"fill_alpha\":{\"value\":0.5},\"fill_color\":{\"value\":\"lightgrey\"},\"left_units\":\"screen\",\"level\":\"overlay\",\"line_alpha\":{\"value\":1.0},\"line_color\":{\"value\":\"black\"},\"line_dash\":[4,4],\"line_width\":{\"value\":2},\"plot\":null,\"render_mode\":\"css\",\"right_units\":\"screen\",\"top_units\":\"screen\"},\"id\":\"58ec576f-d0b6-4e27-a2ab-ca4698367ee3\",\"type\":\"BoxAnnotation\"},{\"attributes\":{\"fill_color\":{\"value\":\"#e8000b\"},\"size\":{\"units\":\"screen\",\"value\":8},\"x\":{\"field\":\"x\"},\"y\":{\"field\":\"y\"}},\"id\":\"7390c2a6-7ff5-4257-832e-b776b037e344\",\"type\":\"Circle\"},{\"attributes\":{\"callback\":null,\"column_names\":[\"x\",\"y\"],\"data\":{\"x\":{\"__ndarray__\":\"AAAAAAAAAAAAAAAAAAAAQA==\",\"dtype\":\"float64\",\"shape\":[2]},\"y\":{\"__ndarray__\":\"eMuwkkFa0D9sXt7kiwP4Pw==\",\"dtype\":\"float64\",\"shape\":[2]}}},\"id\":\"6d21110c-d027-4402-8abe-36b878d021ed\",\"type\":\"ColumnDataSource\"},{\"attributes\":{},\"id\":\"c4320e19-a6ab-4356-a67f-1510ae726808\",\"type\":\"PanTool\"},{\"attributes\":{\"source\":{\"id\":\"6d21110c-d027-4402-8abe-36b878d021ed\",\"type\":\"ColumnDataSource\"}},\"id\":\"dbbbad1b-ab49-44c0-a9b2-d3af91b7793c\",\"type\":\"CDSView\"},{\"attributes\":{},\"id\":\"746bb7bc-e11e-4041-863c-cc09584cfe46\",\"type\":\"HelpTool\"},{\"attributes\":{\"source\":{\"id\":\"8e3bb4e9-50ab-498f-afdc-39a85100140c\",\"type\":\"ColumnDataSource\"}},\"id\":\"d2624838-490e-4fdb-bc11-3e840daa231c\",\"type\":\"CDSView\"},{\"attributes\":{\"data_source\":{\"id\":\"6d21110c-d027-4402-8abe-36b878d021ed\",\"type\":\"ColumnDataSource\"},\"glyph\":{\"id\":\"801b5f35-8edc-4fe4-b0bd-5ebb146d6ca6\",\"type\":\"Line\"},\"hover_glyph\":null,\"muted_glyph\":null,\"nonselection_glyph\":{\"id\":\"d1625669-2178-4354-bfd7-c93401395857\",\"type\":\"Line\"},\"selection_glyph\":null,\"view\":{\"id\":\"dbbbad1b-ab49-44c0-a9b2-d3af91b7793c\",\"type\":\"CDSView\"}},\"id\":\"b2000c2d-f12d-4e43-8057-939958652b12\",\"type\":\"GlyphRenderer\"},{\"attributes\":{\"overlay\":{\"id\":\"58ec576f-d0b6-4e27-a2ab-ca4698367ee3\",\"type\":\"BoxAnnotation\"}},\"id\":\"bea1e83a-7a87-4912-bc2e-ca99a10ede95\",\"type\":\"BoxZoomTool\"},{\"attributes\":{},\"id\":\"f9083a45-cfa4-4a07-b5a2-03fb650055f3\",\"type\":\"WheelZoomTool\"},{\"attributes\":{},\"id\":\"09d4484b-5945-4d21-9845-519b82dfc3a8\",\"type\":\"ResetTool\"},{\"attributes\":{},\"id\":\"5ff05f2e-d5df-447f-abce-8fe2f911379f\",\"type\":\"SaveTool\"}],\"root_ids\":[\"8b17f183-c1e8-4bec-b179-a2b6d333bf37\"]},\"title\":\"Bokeh Application\",\"version\":\"0.12.13\"}};\n",
       "  var render_items = [{\"docid\":\"6d78f27a-12f2-4251-a448-e7bcbfd306e7\",\"elementid\":\"28a12713-d864-41c7-9097-09a8546b5c24\",\"modelid\":\"8b17f183-c1e8-4bec-b179-a2b6d333bf37\"}];\n",
       "  root.Bokeh.embed.embed_items_notebook(docs_json, render_items);\n",
       "\n",
       "  }\n",
       "  if (root.Bokeh !== undefined) {\n",
       "    embed_document(root);\n",
       "  } else {\n",
       "    var attempts = 0;\n",
       "    var timer = setInterval(function(root) {\n",
       "      if (root.Bokeh !== undefined) {\n",
       "        embed_document(root);\n",
       "        clearInterval(timer);\n",
       "      }\n",
       "      attempts++;\n",
       "      if (attempts > 100) {\n",
       "        console.log(\"Bokeh: ERROR: Unable to run BokehJS code because BokehJS library is missing\")\n",
       "        clearInterval(timer);\n",
       "      }\n",
       "    }, 10, root)\n",
       "  }\n",
       "})(window);"
      ],
      "application/vnd.bokehjs_exec.v0+json": ""
     },
     "metadata": {
      "application/vnd.bokehjs_exec.v0+json": {
       "id": "8b17f183-c1e8-4bec-b179-a2b6d333bf37"
      }
     },
     "output_type": "display_data"
    }
   ],
   "source": [
    "regr = linear_model.Ridge(alpha=0.08)\n",
    "\n",
    "fig = bk.figure(plot_width=400, plot_height=300, title=None)\n",
    "for i in range(6):\n",
    "    noise = np.random.normal(loc=0, scale=.1, size=X.shape)\n",
    "    noisy_X = X + noise\n",
    "    regr.fit(noisy_X, y)\n",
    "    fig.circle(noisy_X[:,0], y, size=8, color=cat_colors[i], line_color='black')\n",
    "    fig.line(X_test[:,0], regr.predict(X_test), color=cat_colors[i])\n",
    "bk.show(fig)"
   ]
  },
  {
   "cell_type": "markdown",
   "metadata": {},
   "source": [
    "As we can see, the estimator displays much less variance. However it systematically under-estimates the coefficient. It displays a biased behavior. As explained earlier we changed the tradeoff between Bias and Variance with regularization. Changing one quantity (for example decreasing Variance) inevitably increases the other (Bias). \n",
    "\n",
    "With the next examples we will try to answer the following question: **If our estimator is underperforming, how should we move forward?**\n",
    "\n",
    "- Do I need a Simple or more Complicated Model ?\n",
    "- Do I need More Training Samples ?\n",
    "- Do I need more features for each observed data point ?\n",
    "\n",
    "The answer is often counter-intuitive. In particular, **Sometimes using a more complicated model will give _worse_ results.**  Also, **Sometimes adding training data will not improve your results.**  The ability to determine what steps will improve your model is what separates the successful machine learning practitioners from the unsuccessful."
   ]
  },
  {
   "cell_type": "markdown",
   "metadata": {},
   "source": [
    "## 2 Regularization: what it is and why it is necessary"
   ]
  },
  {
   "cell_type": "markdown",
   "metadata": {},
   "source": [
    "**The core idea behind regularization is that we are going to prefer models that are simpler**, even if they lead to more errors on the training set. We start by defining a 9th order polynomial function. This represents our 'ground truth'. You can imagine it like a signal measured at diffrent times:"
   ]
  },
  {
   "cell_type": "code",
   "execution_count": 12,
   "metadata": {},
   "outputs": [],
   "source": [
    "f = lambda t: 1.2*t**2 + 0.1*t**3 - 0.6*t**5 - 0.8*t**9\n",
    "gt_coeff = [0, 0, 1.2, 0.1, 0., -0.6, 0., 0., 0., -0.8]"
   ]
  },
  {
   "cell_type": "markdown",
   "metadata": {},
   "source": [
    "Unfortunately in real life situation every signal is affected by a measurement error; in this example we simulate it with the variable `noise_level`. Our ground truth is a 9th order polynomial.\n",
    "\n",
    "At first it would seem an obvius choice to use a 9th order polynomial to fit the signal. If you play a little with the following code you will discover that not using a regularization technique (`LinearRegression` doesn't allow any regularization), most of the time could be a bad choice, and a simpler (lower-order) model it is much better to avoid overfitting.\n",
    "\n",
    "Try to change the following variables:\n",
    "\n",
    "* `orders`: orders of the polynomials to fit\n",
    "* `n_samples`: when the number of the samples is small it's difficult to fit a high-order model and you have overfitting\n",
    "* `noise_level`: whit very low noise it's easier to fit higher-order polynomials\n",
    "\n",
    "*Keep in mind that we didn't fix the random generator seed, so every time you run the cell you'll have a different noise distribution on the samples*.\n",
    "\n",
    "**As you can see we use a linear algorithm to fit a nonlinear function, this is possible because we use the linear algorithm to fit the nonlinear coefficients that we define in the regressors**."
   ]
  },
  {
   "cell_type": "code",
   "execution_count": 13,
   "metadata": {},
   "outputs": [
    {
     "name": "stdout",
     "output_type": "stream",
     "text": [
      "Ground Truth coeff.:   +0.0  +0.0  +1.2  +0.1  +0.0  -0.6  +0.0  +0.0  +0.0  -0.8\n",
      "LinReg coefficients:   +0.0  -0.9  +4.3 +11.6 -18.2 -42.8 +35.3 +61.7 -21.4 -31.9\n"
     ]
    },
    {
     "data": {
      "text/html": [
       "\n",
       "<div class=\"bk-root\">\n",
       "    <div class=\"bk-plotdiv\" id=\"a5fa4a66-b74d-44b2-86e1-919d0735a4ab\"></div>\n",
       "</div>"
      ]
     },
     "metadata": {},
     "output_type": "display_data"
    },
    {
     "data": {
      "application/javascript": [
       "(function(root) {\n",
       "  function embed_document(root) {\n",
       "    \n",
       "  var docs_json = {\"62847b71-a080-43ee-b63e-19277091db71\":{\"roots\":{\"references\":[{\"attributes\":{\"label\":{\"value\":\"linreg order: 04\"},\"renderers\":[{\"id\":\"1fbd8af3-1395-4f3c-95ed-24051ee97093\",\"type\":\"GlyphRenderer\"}]},\"id\":\"b3ef51bd-c0c2-4954-9640-e33e394dcb94\",\"type\":\"LegendItem\"},{\"attributes\":{},\"id\":\"b1c91eac-2b4c-4c37-8289-cb66c5f8d8d9\",\"type\":\"LinearScale\"},{\"attributes\":{\"data_source\":{\"id\":\"2ae4bf1e-3067-4509-a264-cd559a4325ee\",\"type\":\"ColumnDataSource\"},\"glyph\":{\"id\":\"af4398cf-cb33-4c22-88fe-1a8244c06676\",\"type\":\"Line\"},\"hover_glyph\":null,\"muted_glyph\":null,\"nonselection_glyph\":{\"id\":\"8529ee42-5393-4d07-a5ab-82705e238ec0\",\"type\":\"Line\"},\"selection_glyph\":null,\"view\":{\"id\":\"3a22b122-c69d-4f9e-9227-7def12985b9d\",\"type\":\"CDSView\"}},\"id\":\"1fbd8af3-1395-4f3c-95ed-24051ee97093\",\"type\":\"GlyphRenderer\"},{\"attributes\":{\"callback\":null,\"column_names\":[\"x\",\"y\"],\"data\":{\"x\":{\"__ndarray__\":\"UGpLI1m0zL+IJBFmX2naP/6j3L6dmPG/ALqdfTnE3b/btmpwh1bpvyn+d0Gu/uy/nDwkp+2u5r/Q9CU/5vTXvwBvSEAPE9G/oBxYq8AioD+MJUYK2h7Mv9jGnEWJsdU/7jITkfd15b9oSIfZOs/nP4j/WtsFrvC/LF70LPm10z886Dxa46DMv/CXJEBswLI/GrNPbRjE6b+q80JwOOPlv67SNkErnOI/8D++Xv/d7T98ewo0mkbcv2x4tMjtpdY/hvAQdH+x5z8=\",\"dtype\":\"float64\",\"shape\":[25]},\"y\":{\"__ndarray__\":\"t8XmNxdKxT+5FyFE0b/HP8movBszMhJAF9TBh20X1T9BXYVrp3PzP7BjiAUsF/Y/yWtVbNFO4T8J3K6WbwPXP2adJoyl6aQ/X1cWd//XoD8YZaq8Nq3NP4i9FUDv470/xkfUXqHw2T/tx6p2oOXTP2BCAv70DAdA5cN0+mCHzz8yp0BGZO+nP9VtzKQc19W/89xyvT8D8T8wjY3N7azgPwr+Fxmg0ds/qBecwXhpqz9Kds309T29P6cU2mAkNss/qs2G+Ysx6z8=\",\"dtype\":\"float64\",\"shape\":[25]}}},\"id\":\"d0d7dd0d-7188-4a15-ba38-0cdbc5708401\",\"type\":\"ColumnDataSource\"},{\"attributes\":{\"source\":{\"id\":\"2ae4bf1e-3067-4509-a264-cd559a4325ee\",\"type\":\"ColumnDataSource\"}},\"id\":\"3a22b122-c69d-4f9e-9227-7def12985b9d\",\"type\":\"CDSView\"},{\"attributes\":{\"callback\":null,\"column_names\":[\"x\",\"y\"],\"data\":{\"x\":{\"__ndarray__\":\"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\",\"dtype\":\"float64\",\"shape\":[200]},\"y\":{\"__ndarray__\":\"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\",\"dtype\":\"float64\",\"shape\":[200]}}},\"id\":\"8d8600cf-264a-4dac-b136-d3f8ce6ebf5c\",\"type\":\"ColumnDataSource\"},{\"attributes\":{\"below\":[{\"id\":\"7611d5be-c9af-4d58-b752-1fea48542227\",\"type\":\"LinearAxis\"}],\"left\":[{\"id\":\"0fb44c94-fb60-4f79-8ccc-d91575206006\",\"type\":\"LinearAxis\"}],\"plot_height\":400,\"plot_width\":700,\"renderers\":[{\"id\":\"7611d5be-c9af-4d58-b752-1fea48542227\",\"type\":\"LinearAxis\"},{\"id\":\"967ba56b-7b53-40aa-a9a5-1ba0488ae4a8\",\"type\":\"Grid\"},{\"id\":\"0fb44c94-fb60-4f79-8ccc-d91575206006\",\"type\":\"LinearAxis\"},{\"id\":\"9cccbe7e-cf00-4e53-86c5-43a7745f6e1a\",\"type\":\"Grid\"},{\"id\":\"8872780d-c8a4-4f24-aaad-1cd3a184419b\",\"type\":\"BoxAnnotation\"},{\"id\":\"d5c6d951-8f9d-4a76-89cf-1fee48cbcd2b\",\"type\":\"GlyphRenderer\"},{\"id\":\"08af45db-7a99-47c6-94aa-ac88f33c98b5\",\"type\":\"Legend\"},{\"id\":\"1fbd8af3-1395-4f3c-95ed-24051ee97093\",\"type\":\"GlyphRenderer\"},{\"id\":\"debf0e0a-60bb-4440-b7d7-84af2b935f1f\",\"type\":\"GlyphRenderer\"},{\"id\":\"09141bdc-43a6-4ed2-9304-7d0827d5c792\",\"type\":\"GlyphRenderer\"}],\"title\":{\"id\":\"356e3a9d-86e8-4ec7-8d62-d52f003e58c7\",\"type\":\"Title\"},\"toolbar\":{\"id\":\"f99b5348-5313-4a07-be03-ccca6f5618e9\",\"type\":\"Toolbar\"},\"x_range\":{\"id\":\"8baf779e-4122-4342-9743-a1f45ce67f5e\",\"type\":\"DataRange1d\"},\"x_scale\":{\"id\":\"8e8fcd66-4d3d-49c4-acaa-4274f8ff0294\",\"type\":\"LinearScale\"},\"y_range\":{\"id\":\"41519e6f-6bd6-44a3-95a4-26f4b8691ca0\",\"type\":\"DataRange1d\"},\"y_scale\":{\"id\":\"b1c91eac-2b4c-4c37-8289-cb66c5f8d8d9\",\"type\":\"LinearScale\"}},\"id\":\"0f78a853-ca20-46a7-b9d5-1ee311d20194\",\"subtype\":\"Figure\",\"type\":\"Plot\"},{\"attributes\":{\"items\":[{\"id\":\"b3ef51bd-c0c2-4954-9640-e33e394dcb94\",\"type\":\"LegendItem\"},{\"id\":\"954b4ae4-167a-4a17-a138-537f7bea32f6\",\"type\":\"LegendItem\"},{\"id\":\"1da3b965-866b-4777-8fd8-d4f16dd32fd9\",\"type\":\"LegendItem\"}],\"label_text_font_size\":{\"value\":\"14pt\"},\"location\":\"top_left\",\"plot\":{\"id\":\"0f78a853-ca20-46a7-b9d5-1ee311d20194\",\"subtype\":\"Figure\",\"type\":\"Plot\"}},\"id\":\"08af45db-7a99-47c6-94aa-ac88f33c98b5\",\"type\":\"Legend\"},{\"attributes\":{\"data_source\":{\"id\":\"d0d7dd0d-7188-4a15-ba38-0cdbc5708401\",\"type\":\"ColumnDataSource\"},\"glyph\":{\"id\":\"30b36459-7409-408f-9c7c-8ede28f32934\",\"type\":\"Circle\"},\"hover_glyph\":null,\"muted_glyph\":null,\"nonselection_glyph\":{\"id\":\"2a8651e5-00a0-4ddc-a04c-2e9e13f562c5\",\"type\":\"Circle\"},\"selection_glyph\":null,\"view\":{\"id\":\"a87b0887-7f04-4a70-9c20-dc95d2ac9d31\",\"type\":\"CDSView\"}},\"id\":\"d5c6d951-8f9d-4a76-89cf-1fee48cbcd2b\",\"type\":\"GlyphRenderer\"},{\"attributes\":{\"label\":{\"value\":\"truth\"},\"renderers\":[{\"id\":\"09141bdc-43a6-4ed2-9304-7d0827d5c792\",\"type\":\"GlyphRenderer\"}]},\"id\":\"1da3b965-866b-4777-8fd8-d4f16dd32fd9\",\"type\":\"LegendItem\"},{\"attributes\":{\"plot\":null,\"text\":\"4th and a 9th order polynomial with Ground truth\"},\"id\":\"356e3a9d-86e8-4ec7-8d62-d52f003e58c7\",\"type\":\"Title\"},{\"attributes\":{\"callback\":null},\"id\":\"8baf779e-4122-4342-9743-a1f45ce67f5e\",\"type\":\"DataRange1d\"},{\"attributes\":{\"line_alpha\":0.1,\"line_color\":\"#1f77b4\",\"line_width\":3.0,\"x\":{\"field\":\"x\"},\"y\":{\"field\":\"y\"}},\"id\":\"e98a986a-a0ae-49f5-b682-920f35e498e4\",\"type\":\"Line\"},{\"attributes\":{\"plot\":{\"id\":\"0f78a853-ca20-46a7-b9d5-1ee311d20194\",\"subtype\":\"Figure\",\"type\":\"Plot\"},\"ticker\":{\"id\":\"8ae8903d-0673-4bc6-893b-425591cc73d7\",\"type\":\"BasicTicker\"}},\"id\":\"967ba56b-7b53-40aa-a9a5-1ba0488ae4a8\",\"type\":\"Grid\"},{\"attributes\":{\"line_color\":\"royalblue\",\"line_width\":3.0,\"x\":{\"field\":\"x\"},\"y\":{\"field\":\"y\"}},\"id\":\"d9477da8-ba14-422f-8510-eab99db2f6ca\",\"type\":\"Line\"},{\"attributes\":{\"formatter\":{\"id\":\"3d9d25a3-ad83-4195-872b-a2493131a688\",\"type\":\"BasicTickFormatter\"},\"plot\":{\"id\":\"0f78a853-ca20-46a7-b9d5-1ee311d20194\",\"subtype\":\"Figure\",\"type\":\"Plot\"},\"ticker\":{\"id\":\"bbd3bae9-130e-4408-8950-a8a2f44560b8\",\"type\":\"BasicTicker\"}},\"id\":\"0fb44c94-fb60-4f79-8ccc-d91575206006\",\"type\":\"LinearAxis\"},{\"attributes\":{\"active_drag\":\"auto\",\"active_inspect\":\"auto\",\"active_scroll\":\"auto\",\"active_tap\":\"auto\",\"tools\":[{\"id\":\"b4d006b2-3dac-49c0-bad3-9c0d86c7f726\",\"type\":\"PanTool\"},{\"id\":\"39bbefc3-3918-49e4-86f2-4625ed87b329\",\"type\":\"WheelZoomTool\"},{\"id\":\"74c1d225-ce18-49fc-af77-1ca4eb4d4927\",\"type\":\"BoxZoomTool\"},{\"id\":\"722f59bd-d4ce-4102-9cbe-0ebbd3222b05\",\"type\":\"SaveTool\"},{\"id\":\"0e18e7f9-09d8-4ab6-97c3-e2bb3e95efc6\",\"type\":\"ResetTool\"},{\"id\":\"b2c29fa9-c777-4b18-b1a7-d21d1e4bc757\",\"type\":\"HelpTool\"}]},\"id\":\"f99b5348-5313-4a07-be03-ccca6f5618e9\",\"type\":\"Toolbar\"},{\"attributes\":{\"data_source\":{\"id\":\"68e14890-9f96-4d43-9514-e303a8ec8bcb\",\"type\":\"ColumnDataSource\"},\"glyph\":{\"id\":\"3d539c17-b784-47a8-bf4e-ed5f14c524d4\",\"type\":\"Line\"},\"hover_glyph\":null,\"muted_glyph\":null,\"nonselection_glyph\":{\"id\":\"3d9d5758-e974-4772-b122-44025b178f4c\",\"type\":\"Line\"},\"selection_glyph\":null,\"view\":{\"id\":\"f8547a38-9e9e-4613-b28c-cf19373864c8\",\"type\":\"CDSView\"}},\"id\":\"09141bdc-43a6-4ed2-9304-7d0827d5c792\",\"type\":\"GlyphRenderer\"},{\"attributes\":{\"line_color\":\"green\",\"line_width\":3.0,\"x\":{\"field\":\"x\"},\"y\":{\"field\":\"y\"}},\"id\":\"af4398cf-cb33-4c22-88fe-1a8244c06676\",\"type\":\"Line\"},{\"attributes\":{\"label\":{\"value\":\"linreg order: 09\"},\"renderers\":[{\"id\":\"debf0e0a-60bb-4440-b7d7-84af2b935f1f\",\"type\":\"GlyphRenderer\"}]},\"id\":\"954b4ae4-167a-4a17-a138-537f7bea32f6\",\"type\":\"LegendItem\"},{\"attributes\":{},\"id\":\"8e8fcd66-4d3d-49c4-acaa-4274f8ff0294\",\"type\":\"LinearScale\"},{\"attributes\":{\"data_source\":{\"id\":\"8d8600cf-264a-4dac-b136-d3f8ce6ebf5c\",\"type\":\"ColumnDataSource\"},\"glyph\":{\"id\":\"d9477da8-ba14-422f-8510-eab99db2f6ca\",\"type\":\"Line\"},\"hover_glyph\":null,\"muted_glyph\":null,\"nonselection_glyph\":{\"id\":\"e98a986a-a0ae-49f5-b682-920f35e498e4\",\"type\":\"Line\"},\"selection_glyph\":null,\"view\":{\"id\":\"6d639b48-f268-4c32-bc19-aa1fcf13d74e\",\"type\":\"CDSView\"}},\"id\":\"debf0e0a-60bb-4440-b7d7-84af2b935f1f\",\"type\":\"GlyphRenderer\"},{\"attributes\":{\"callback\":null},\"id\":\"41519e6f-6bd6-44a3-95a4-26f4b8691ca0\",\"type\":\"DataRange1d\"},{\"attributes\":{\"source\":{\"id\":\"8d8600cf-264a-4dac-b136-d3f8ce6ebf5c\",\"type\":\"ColumnDataSource\"}},\"id\":\"6d639b48-f268-4c32-bc19-aa1fcf13d74e\",\"type\":\"CDSView\"},{\"attributes\":{},\"id\":\"bbd3bae9-130e-4408-8950-a8a2f44560b8\",\"type\":\"BasicTicker\"},{\"attributes\":{\"line_alpha\":0.1,\"line_color\":\"#1f77b4\",\"line_width\":3.0,\"x\":{\"field\":\"x\"},\"y\":{\"field\":\"y\"}},\"id\":\"8529ee42-5393-4d07-a5ab-82705e238ec0\",\"type\":\"Line\"},{\"attributes\":{\"formatter\":{\"id\":\"b5b6f855-cd36-4e51-86a7-5ccbee71025b\",\"type\":\"BasicTickFormatter\"},\"plot\":{\"id\":\"0f78a853-ca20-46a7-b9d5-1ee311d20194\",\"subtype\":\"Figure\",\"type\":\"Plot\"},\"ticker\":{\"id\":\"8ae8903d-0673-4bc6-893b-425591cc73d7\",\"type\":\"BasicTicker\"}},\"id\":\"7611d5be-c9af-4d58-b752-1fea48542227\",\"type\":\"LinearAxis\"},{\"attributes\":{\"callback\":null,\"column_names\":[\"x\",\"y\"],\"data\":{\"x\":{\"__ndarray__\":\"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\",\"dtype\":\"float64\",\"shape\":[200]},\"y\":{\"__ndarray__\":\"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\",\"dtype\":\"float64\",\"shape\":[200]}}},\"id\":\"2ae4bf1e-3067-4509-a264-cd559a4325ee\",\"type\":\"ColumnDataSource\"},{\"attributes\":{},\"id\":\"8ae8903d-0673-4bc6-893b-425591cc73d7\",\"type\":\"BasicTicker\"},{\"attributes\":{\"source\":{\"id\":\"68e14890-9f96-4d43-9514-e303a8ec8bcb\",\"type\":\"ColumnDataSource\"}},\"id\":\"f8547a38-9e9e-4613-b28c-cf19373864c8\",\"type\":\"CDSView\"},{\"attributes\":{\"dimension\":1,\"plot\":{\"id\":\"0f78a853-ca20-46a7-b9d5-1ee311d20194\",\"subtype\":\"Figure\",\"type\":\"Plot\"},\"ticker\":{\"id\":\"bbd3bae9-130e-4408-8950-a8a2f44560b8\",\"type\":\"BasicTicker\"}},\"id\":\"9cccbe7e-cf00-4e53-86c5-43a7745f6e1a\",\"type\":\"Grid\"},{\"attributes\":{\"fill_alpha\":{\"value\":0.1},\"fill_color\":{\"value\":\"#1f77b4\"},\"line_alpha\":{\"value\":0.1},\"line_color\":{\"value\":\"#1f77b4\"},\"size\":{\"units\":\"screen\",\"value\":8},\"x\":{\"field\":\"x\"},\"y\":{\"field\":\"y\"}},\"id\":\"2a8651e5-00a0-4ddc-a04c-2e9e13f562c5\",\"type\":\"Circle\"},{\"attributes\":{\"fill_alpha\":{\"value\":0.4},\"fill_color\":{\"value\":\"#1f77b4\"},\"line_color\":{\"value\":\"#1f77b4\"},\"size\":{\"units\":\"screen\",\"value\":8},\"x\":{\"field\":\"x\"},\"y\":{\"field\":\"y\"}},\"id\":\"30b36459-7409-408f-9c7c-8ede28f32934\",\"type\":\"Circle\"},{\"attributes\":{\"bottom_units\":\"screen\",\"fill_alpha\":{\"value\":0.5},\"fill_color\":{\"value\":\"lightgrey\"},\"left_units\":\"screen\",\"level\":\"overlay\",\"line_alpha\":{\"value\":1.0},\"line_color\":{\"value\":\"black\"},\"line_dash\":[4,4],\"line_width\":{\"value\":2},\"plot\":null,\"render_mode\":\"css\",\"right_units\":\"screen\",\"top_units\":\"screen\"},\"id\":\"8872780d-c8a4-4f24-aaad-1cd3a184419b\",\"type\":\"BoxAnnotation\"},{\"attributes\":{},\"id\":\"b4d006b2-3dac-49c0-bad3-9c0d86c7f726\",\"type\":\"PanTool\"},{\"attributes\":{\"source\":{\"id\":\"d0d7dd0d-7188-4a15-ba38-0cdbc5708401\",\"type\":\"ColumnDataSource\"}},\"id\":\"a87b0887-7f04-4a70-9c20-dc95d2ac9d31\",\"type\":\"CDSView\"},{\"attributes\":{},\"id\":\"39bbefc3-3918-49e4-86f2-4625ed87b329\",\"type\":\"WheelZoomTool\"},{\"attributes\":{\"overlay\":{\"id\":\"8872780d-c8a4-4f24-aaad-1cd3a184419b\",\"type\":\"BoxAnnotation\"}},\"id\":\"74c1d225-ce18-49fc-af77-1ca4eb4d4927\",\"type\":\"BoxZoomTool\"},{\"attributes\":{},\"id\":\"722f59bd-d4ce-4102-9cbe-0ebbd3222b05\",\"type\":\"SaveTool\"},{\"attributes\":{},\"id\":\"0e18e7f9-09d8-4ab6-97c3-e2bb3e95efc6\",\"type\":\"ResetTool\"},{\"attributes\":{},\"id\":\"b2c29fa9-c777-4b18-b1a7-d21d1e4bc757\",\"type\":\"HelpTool\"},{\"attributes\":{\"line_color\":\"red\",\"line_width\":4.0,\"x\":{\"field\":\"x\"},\"y\":{\"field\":\"y\"}},\"id\":\"3d539c17-b784-47a8-bf4e-ed5f14c524d4\",\"type\":\"Line\"},{\"attributes\":{},\"id\":\"3d9d25a3-ad83-4195-872b-a2493131a688\",\"type\":\"BasicTickFormatter\"},{\"attributes\":{},\"id\":\"b5b6f855-cd36-4e51-86a7-5ccbee71025b\",\"type\":\"BasicTickFormatter\"},{\"attributes\":{\"callback\":null,\"column_names\":[\"x\",\"y\"],\"data\":{\"x\":{\"__ndarray__\":\"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\",\"dtype\":\"float64\",\"shape\":[200]},\"y\":{\"__ndarray__\":\"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\",\"dtype\":\"float64\",\"shape\":[200]}}},\"id\":\"68e14890-9f96-4d43-9514-e303a8ec8bcb\",\"type\":\"ColumnDataSource\"},{\"attributes\":{\"line_alpha\":0.1,\"line_color\":\"#1f77b4\",\"line_width\":4.0,\"x\":{\"field\":\"x\"},\"y\":{\"field\":\"y\"}},\"id\":\"3d9d5758-e974-4772-b122-44025b178f4c\",\"type\":\"Line\"}],\"root_ids\":[\"0f78a853-ca20-46a7-b9d5-1ee311d20194\"]},\"title\":\"Bokeh Application\",\"version\":\"0.12.13\"}};\n",
       "  var render_items = [{\"docid\":\"62847b71-a080-43ee-b63e-19277091db71\",\"elementid\":\"a5fa4a66-b74d-44b2-86e1-919d0735a4ab\",\"modelid\":\"0f78a853-ca20-46a7-b9d5-1ee311d20194\"}];\n",
       "  root.Bokeh.embed.embed_items_notebook(docs_json, render_items);\n",
       "\n",
       "  }\n",
       "  if (root.Bokeh !== undefined) {\n",
       "    embed_document(root);\n",
       "  } else {\n",
       "    var attempts = 0;\n",
       "    var timer = setInterval(function(root) {\n",
       "      if (root.Bokeh !== undefined) {\n",
       "        embed_document(root);\n",
       "        clearInterval(timer);\n",
       "      }\n",
       "      attempts++;\n",
       "      if (attempts > 100) {\n",
       "        console.log(\"Bokeh: ERROR: Unable to run BokehJS code because BokehJS library is missing\")\n",
       "        clearInterval(timer);\n",
       "      }\n",
       "    }, 10, root)\n",
       "  }\n",
       "})(window);"
      ],
      "application/vnd.bokehjs_exec.v0+json": ""
     },
     "metadata": {
      "application/vnd.bokehjs_exec.v0+json": {
       "id": "0f78a853-ca20-46a7-b9d5-1ee311d20194"
      }
     },
     "output_type": "display_data"
    }
   ],
   "source": [
    "tmin, tmax = -1.1, 1.0\n",
    "n_samples = 25\n",
    "noise_level = 0.2\n",
    "orders = [4, 9]\n",
    "np.random.seed(1)\n",
    "t = tmin + np.random.rand(n_samples) * (tmax-tmin)              # Sample points\n",
    "y_noisy = f(t) + noise_level*np.random.normal(size=n_samples)   # Noisy measure\n",
    "\n",
    "fig = bk.figure(plot_width=700, plot_height=400,\n",
    "                title='4th and a 9th order polynomial with Ground truth')\n",
    "fig.circle(t, y_noisy, size=8, fill_alpha=0.4)\n",
    "\n",
    "p = np.linspace(tmin, tmax, 200)                                # Array to calc. the prediction\n",
    "colors = ['royalblue', 'green']\n",
    "for order in orders:\n",
    "    X = np.array([t**i for i in range(order+1)]).T              # Regressor\n",
    "    Xp = np.array([p**i for i in range(order+1)]).T             # Regressor for prediction\n",
    "    poly_linreg = linear_model.LinearRegression().fit(X, y_noisy)\n",
    "    fig.line(p, poly_linreg.predict(Xp), legend='linreg order: %02i' % order,\n",
    "             color=colors.pop(), line_width=3.0)\n",
    "\n",
    "fig.line(p, f(p), legend=\"truth\", color='red', line_width=4.0)\n",
    "fig.legend.label_text_font_size = '14pt'\n",
    "fig.legend.location = 'top_left'\n",
    "np.set_printoptions(precision=2)\n",
    "print('Ground Truth coeff.: ', ' '.join(['%+5.1f' %n for n in gt_coeff]))\n",
    "print('LinReg coefficients: ', ' '.join(['%+5.1f' %n for n in poly_linreg.coef_]))\n",
    "bk.show(fig)"
   ]
  },
  {
   "cell_type": "markdown",
   "metadata": {},
   "source": [
    "Now we compare the previous `LinearRegression` algorithm with the `Lasso` algorithm.\n",
    "\n",
    "`Lasso` (least absolute shrinkage and selection operator) is an alternative regularized version of least squares: it is a **shrinkage estimator**: unlike `ridge regression`, as the penalty term increases, lasso sets more coefficients to zero, this means that the lasso estimator produces smaller models."
   ]
  },
  {
   "cell_type": "code",
   "execution_count": 14,
   "metadata": {},
   "outputs": [
    {
     "name": "stdout",
     "output_type": "stream",
     "text": [
      "Ground Truth coeff.:   +0.0  +0.0  +1.2  +0.1  +0.0  -0.6  +0.0  +0.0  +0.0  -0.8\n",
      "LinReg coefficients:   +0.0  -0.0  +1.0  -0.0  +0.0  -0.0  +0.0  -0.0  +0.0  -1.3\n"
     ]
    },
    {
     "data": {
      "text/html": [
       "\n",
       "<div class=\"bk-root\">\n",
       "    <div class=\"bk-plotdiv\" id=\"a85e1e83-ebe8-4184-8d11-00d97f3a5ab0\"></div>\n",
       "</div>"
      ]
     },
     "metadata": {},
     "output_type": "display_data"
    },
    {
     "data": {
      "application/javascript": [
       "(function(root) {\n",
       "  function embed_document(root) {\n",
       "    \n",
       "  var docs_json = {\"9fcade5a-3b68-43c3-911f-e157d2db18bf\":{\"roots\":{\"references\":[{\"attributes\":{\"overlay\":{\"id\":\"84bb6a97-5dec-4e18-a0cf-9fc66b1d5ee7\",\"type\":\"BoxAnnotation\"}},\"id\":\"fc7dfe32-0e0a-4ce5-82a6-6b4bb0bc17dc\",\"type\":\"BoxZoomTool\"},{\"attributes\":{\"source\":{\"id\":\"82738749-3e0e-4c66-afc1-61df94535ac2\",\"type\":\"ColumnDataSource\"}},\"id\":\"8fb1d12b-d45a-4eca-9477-13a790b05771\",\"type\":\"CDSView\"},{\"attributes\":{},\"id\":\"2b8b8cbb-3876-471b-b9e9-746d717cfca2\",\"type\":\"BasicTickFormatter\"},{\"attributes\":{},\"id\":\"0448a095-0c2c-4e85-bb50-3d19c3cf64c5\",\"type\":\"HelpTool\"},{\"attributes\":{},\"id\":\"86a34061-58e1-4227-97ce-cb939b03961b\",\"type\":\"ResetTool\"},{\"attributes\":{\"line_alpha\":0.1,\"line_color\":\"#1f77b4\",\"line_width\":3.0,\"x\":{\"field\":\"x\"},\"y\":{\"field\":\"y\"}},\"id\":\"b047a38d-265a-44ce-8e97-33196d6fc2ab\",\"type\":\"Line\"},{\"attributes\":{\"data_source\":{\"id\":\"c8c8f4ea-1fc0-4d6a-b033-98bf2d38e1fa\",\"type\":\"ColumnDataSource\"},\"glyph\":{\"id\":\"9243a3cd-a144-4908-af7c-010c380212f9\",\"type\":\"Line\"},\"hover_glyph\":null,\"muted_glyph\":null,\"nonselection_glyph\":{\"id\":\"b047a38d-265a-44ce-8e97-33196d6fc2ab\",\"type\":\"Line\"},\"selection_glyph\":null,\"view\":{\"id\":\"6ab6ff21-7dff-48e1-8ec6-92e467c4a913\",\"type\":\"CDSView\"}},\"id\":\"cf7f34ee-918c-41cb-810b-b47ea9b311f8\",\"type\":\"GlyphRenderer\"},{\"attributes\":{\"label\":{\"value\":\"linreg order: 09\"},\"renderers\":[{\"id\":\"5b86fc8b-2c5f-4612-b3f4-ed5ba5b02d5e\",\"type\":\"GlyphRenderer\"}]},\"id\":\"3d662df0-00b0-43df-9eeb-7433bd857e4a\",\"type\":\"LegendItem\"},{\"attributes\":{\"callback\":null,\"column_names\":[\"x\",\"y\"],\"data\":{\"x\":{\"__ndarray__\":\"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\",\"dtype\":\"float64\",\"shape\":[200]},\"y\":{\"__ndarray__\":\"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\",\"dtype\":\"float64\",\"shape\":[200]}}},\"id\":\"9303a55c-4fd5-470b-8558-3c5a1cdecead\",\"type\":\"ColumnDataSource\"},{\"attributes\":{\"source\":{\"id\":\"1acb1408-dae8-47e7-8171-911da5c79fc9\",\"type\":\"ColumnDataSource\"}},\"id\":\"9221052f-ae7f-40fe-a2e7-27b2331f7321\",\"type\":\"CDSView\"},{\"attributes\":{\"callback\":null,\"column_names\":[\"x\",\"y\"],\"data\":{\"x\":{\"__ndarray__\":\"mpmZmZmZ8b9L1aE5YG7xv/wQqtkmQ/G/rEyyee0X8b9diLoZtOzwvw7Ewrl6wfC/vv/KWUGW8L9vO9P5B2vwvyB325nOP/C/0bLjOZUU8L8D3dezt9Lvv2RU6PNEfO+/xsv4M9Il778oQwl0X8/uv4m6GbTseO6/6jEq9Hki7r9MqTo0B8ztv64gS3SUde2/D5hbtCEf7b9wD2z0rsjsv9KGfDQ8cuy/NP6MdMkb7L+VdZ20VsXrv/bsrfTjbuu/WGS+NHEY67+62850/sHqvxtT37SLa+q/fMrv9BgV6r/eQQA1pr7pv0C5EHUzaOm/oTAhtcAR6b8CqDH1Tbvov2QfQjXbZOi/xpZSdWgO6L8nDmO19bfnv4iFc/WCYee/6vyDNRAL579MdJR1nbTmv63rpLUqXua/DmO19bcH5r9w2sU1RbHlv9JR1nXSWuW/M8nmtV8E5b+UQPf17K3kv/a3BzZ6V+S/WC8YdgcB5L+5pii2lKrjvxoeOfYhVOO/fJVJNq/94r/eDFp2PKfivz+EarbJUOK/oPt69lb64b8Cc4s25KPhv2Tqm3ZxTeG/xWGstv724L8m2bz2i6Dgv4hQzTYZSuC/1I+77Uzn37+WftxtZzrfv1ht/e2Bjd6/HFwebpzg3b/gSj/utjPdv6I5YG7Rhty/ZCiB7uvZ278oF6JuBi3bv+wFw+4ggNq/rvTjbjvT2b9w4wTvVSbZvzTSJW9wedi/+MBG74rM17+6r2dvpR/Xv3yeiO+/cta/QI2pb9rF1b8EfMrv9BjVv8Zq628PbNS/iFkM8Cm/079MSC1wRBLTvxA3TvBeZdK/0iVvcHm40b+UFJDwkwvRv1gDsXCuXtC/OOSj4ZFjz7+8weXhxgnOv0CfJ+L7r8y/yHxp4jBWy79QWqviZfzJv9Q37eKaosi/WBUv489Ix7/g8nDjBO/Fv2jQsuM5lcS/7K304247w79wizbko+HBv/hoeOTYh8C/AI10yRtcvr8ISPjJhai7vxADfMrv9Li/IL7/yllBtr8weYPLw42zv0A0B8wt2rC/gN4VmS9NrL+gVB2aA+amv8DKJJvXfqG/gIFYOFcvmL+A2850/sGKvwDQsuM5lWS/gHP1gmF3gD+AzWu/CAqTP4DhXL1g2J0/oPqmXVxTpD+AhJ9ciLqpP4AOmFu0Ia8/MExILXBEsj8gkcQsBvi0PxDWQCycq7c/ABu9KzJfuj8AYDkryBK9P/CktSpexr8/8PQYFfo8wT9wF9cUxZbCP+g5lRSQ8MM/YFxTFFtKxT/YfhEUJqTGP1ChzxPx/cc/0MONE7xXyT9I5ksTh7HKP8AIChNSC8w/QCvIEh1lzT+4TYYS6L7OPxg4IolZDNA/VEkBCT+50D+QWuCIJGbRP9BrvwgKE9I/DH2eiO+/0j9Ijn0I1WzTP4ifXIi6GdQ/xLA7CKDG1D8AwhqIhXPVPzzT+QdrINY/eOTYh1DN1j+49bcHNnrXP/QGl4cbJ9g/MBh2BwHU2D9wKVWH5oDZP6w6NAfMLdo/6EsTh7Ha2j8kXfIGl4fbP2Bu0YZ8NNw/oH+wBmLh3D/ckI+GR47dPxiibgYtO94/WLNNhhLo3j+UxCwG+JTfP+jqBcPuIOA/hnP1gmF34D8k/ORC1M3gP8SE1AJHJOE/Yg3Ewrl64T8AlrOCLNHhP6Aeo0KfJ+I/PqeSAhJ+4j/cL4LChNTiP3q4cYL3KuM/GEFhQmqB4z+4yVAC3dfjP1ZSQMJPLuQ/9NovgsKE5D+UYx9CNdvkPzLsDgKoMeU/0HT+wRqI5T9u/e2Bjd7lPwyG3UEANeY/rA7NAXOL5j9Kl7zB5eHmP+gfrIFYOOc/iKibQcuO5z8mMYsBPuXnP8S5esGwO+g/YkJqgSOS6D8Ay1lBlujoP6BTSQEJP+k/Ptw4wXuV6T/cZCiB7uvpP3ztF0FhQuo/GnYHAdSY6j+4/vbARu/qP1aH5oC5Res/9A/WQCyc6z+UmMUAn/LrPzIhtcARSew/0KmkgISf7D9wMpRA9/XsPwy7gwBqTO0/rENzwNyi7T9MzGKAT/ntP+hUUkDCT+4/iN1BADWm7j8kZjHAp/zuP8TuIIAaU+8/ZHcQQI2p7z8AAAAAAADwPw==\",\"dtype\":\"float64\",\"shape\":[200]},\"y\":{\"__ndarray__\":\"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\",\"dtype\":\"float64\",\"shape\":[200]}}},\"id\":\"c8c8f4ea-1fc0-4d6a-b033-98bf2d38e1fa\",\"type\":\"ColumnDataSource\"},{\"attributes\":{\"callback\":null,\"column_names\":[\"x\",\"y\"],\"data\":{\"x\":{\"__ndarray__\":\"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\",\"dtype\":\"float64\",\"shape\":[200]},\"y\":{\"__ndarray__\":\"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\",\"dtype\":\"float64\",\"shape\":[200]}}},\"id\":\"82738749-3e0e-4c66-afc1-61df94535ac2\",\"type\":\"ColumnDataSource\"},{\"attributes\":{\"callback\":null},\"id\":\"bb2c54f4-70b3-40ba-96b6-b97327f40098\",\"type\":\"DataRange1d\"},{\"attributes\":{\"line_color\":\"green\",\"line_width\":3.0,\"x\":{\"field\":\"x\"},\"y\":{\"field\":\"y\"}},\"id\":\"9243a3cd-a144-4908-af7c-010c380212f9\",\"type\":\"Line\"},{\"attributes\":{\"source\":{\"id\":\"9303a55c-4fd5-470b-8558-3c5a1cdecead\",\"type\":\"ColumnDataSource\"}},\"id\":\"4d4aee6a-5d85-4e31-b4b9-afbc84ca8bf9\",\"type\":\"CDSView\"},{\"attributes\":{\"fill_alpha\":{\"value\":0.1},\"fill_color\":{\"value\":\"#1f77b4\"},\"line_alpha\":{\"value\":0.1},\"line_color\":{\"value\":\"#1f77b4\"},\"size\":{\"units\":\"screen\",\"value\":8},\"x\":{\"field\":\"x\"},\"y\":{\"field\":\"y\"}},\"id\":\"dabe12c3-7770-4c85-855c-4fa7ac0c8eea\",\"type\":\"Circle\"},{\"attributes\":{\"data_source\":{\"id\":\"82738749-3e0e-4c66-afc1-61df94535ac2\",\"type\":\"ColumnDataSource\"},\"glyph\":{\"id\":\"c1eb2334-646c-4bcc-8c0d-1478f677c748\",\"type\":\"Line\"},\"hover_glyph\":null,\"muted_glyph\":null,\"nonselection_glyph\":{\"id\":\"cabbfc86-0e75-422f-aa15-0ddaa3c50ae1\",\"type\":\"Line\"},\"selection_glyph\":null,\"view\":{\"id\":\"8fb1d12b-d45a-4eca-9477-13a790b05771\",\"type\":\"CDSView\"}},\"id\":\"f9d3f98b-95bc-4247-ad3c-c5a5b027d7cf\",\"type\":\"GlyphRenderer\"},{\"attributes\":{\"bottom_units\":\"screen\",\"fill_alpha\":{\"value\":0.5},\"fill_color\":{\"value\":\"lightgrey\"},\"left_units\":\"screen\",\"level\":\"overlay\",\"line_alpha\":{\"value\":1.0},\"line_color\":{\"value\":\"black\"},\"line_dash\":[4,4],\"line_width\":{\"value\":2},\"plot\":null,\"render_mode\":\"css\",\"right_units\":\"screen\",\"top_units\":\"screen\"},\"id\":\"84bb6a97-5dec-4e18-a0cf-9fc66b1d5ee7\",\"type\":\"BoxAnnotation\"},{\"attributes\":{\"fill_alpha\":{\"value\":0.4},\"fill_color\":{\"value\":\"#1f77b4\"},\"line_alpha\":{\"value\":0.4},\"line_color\":{\"value\":\"#1f77b4\"},\"size\":{\"units\":\"screen\",\"value\":8},\"x\":{\"field\":\"x\"},\"y\":{\"field\":\"y\"}},\"id\":\"f8fa5f76-4a74-4e35-9582-db9cd3d26a52\",\"type\":\"Circle\"},{\"attributes\":{\"line_color\":\"royalblue\",\"line_width\":3.0,\"x\":{\"field\":\"x\"},\"y\":{\"field\":\"y\"}},\"id\":\"2e1a968f-4670-4862-8b04-3ad6f3c89a77\",\"type\":\"Line\"},{\"attributes\":{\"callback\":null,\"column_names\":[\"x\",\"y\"],\"data\":{\"x\":{\"__ndarray__\":\"UGpLI1m0zL+IJBFmX2naP/6j3L6dmPG/ALqdfTnE3b/btmpwh1bpvyn+d0Gu/uy/nDwkp+2u5r/Q9CU/5vTXvwBvSEAPE9G/oBxYq8AioD+MJUYK2h7Mv9jGnEWJsdU/7jITkfd15b9oSIfZOs/nP4j/WtsFrvC/LF70LPm10z886Dxa46DMv/CXJEBswLI/GrNPbRjE6b+q80JwOOPlv67SNkErnOI/8D++Xv/d7T98ewo0mkbcv2x4tMjtpdY/hvAQdH+x5z8=\",\"dtype\":\"float64\",\"shape\":[25]},\"y\":{\"__ndarray__\":\"t8XmNxdKxT+5FyFE0b/HP8movBszMhJAF9TBh20X1T9BXYVrp3PzP7BjiAUsF/Y/yWtVbNFO4T8J3K6WbwPXP2adJoyl6aQ/X1cWd//XoD8YZaq8Nq3NP4i9FUDv470/xkfUXqHw2T/tx6p2oOXTP2BCAv70DAdA5cN0+mCHzz8yp0BGZO+nP9VtzKQc19W/89xyvT8D8T8wjY3N7azgPwr+Fxmg0ds/qBecwXhpqz9Kds309T29P6cU2mAkNss/qs2G+Ysx6z8=\",\"dtype\":\"float64\",\"shape\":[25]}}},\"id\":\"1acb1408-dae8-47e7-8171-911da5c79fc9\",\"type\":\"ColumnDataSource\"},{\"attributes\":{\"active_drag\":\"auto\",\"active_inspect\":\"auto\",\"active_scroll\":\"auto\",\"active_tap\":\"auto\",\"tools\":[{\"id\":\"5515bcdf-a562-4f1f-8edc-9d4a0766eb68\",\"type\":\"PanTool\"},{\"id\":\"89c5536b-a609-4217-878a-e76e5071fc8e\",\"type\":\"WheelZoomTool\"},{\"id\":\"fc7dfe32-0e0a-4ce5-82a6-6b4bb0bc17dc\",\"type\":\"BoxZoomTool\"},{\"id\":\"33bb9455-d915-49d5-919a-5afe580b905a\",\"type\":\"SaveTool\"},{\"id\":\"86a34061-58e1-4227-97ce-cb939b03961b\",\"type\":\"ResetTool\"},{\"id\":\"0448a095-0c2c-4e85-bb50-3d19c3cf64c5\",\"type\":\"HelpTool\"}]},\"id\":\"4ec08a67-10fc-4aee-9adb-0a3824064bfb\",\"type\":\"Toolbar\"},{\"attributes\":{},\"id\":\"33bb9455-d915-49d5-919a-5afe580b905a\",\"type\":\"SaveTool\"},{\"attributes\":{\"callback\":null},\"id\":\"ec435775-2c53-4c79-8d60-62ad1ca12198\",\"type\":\"DataRange1d\"},{\"attributes\":{\"line_alpha\":0.1,\"line_color\":\"#1f77b4\",\"line_width\":3.0,\"x\":{\"field\":\"x\"},\"y\":{\"field\":\"y\"}},\"id\":\"f42a8a3f-2037-4f96-ada7-cb3d3ca7f823\",\"type\":\"Line\"},{\"attributes\":{\"data_source\":{\"id\":\"1acb1408-dae8-47e7-8171-911da5c79fc9\",\"type\":\"ColumnDataSource\"},\"glyph\":{\"id\":\"f8fa5f76-4a74-4e35-9582-db9cd3d26a52\",\"type\":\"Circle\"},\"hover_glyph\":null,\"muted_glyph\":null,\"nonselection_glyph\":{\"id\":\"dabe12c3-7770-4c85-855c-4fa7ac0c8eea\",\"type\":\"Circle\"},\"selection_glyph\":null,\"view\":{\"id\":\"9221052f-ae7f-40fe-a2e7-27b2331f7321\",\"type\":\"CDSView\"}},\"id\":\"53e880c4-914b-445e-9227-6f4bc664894b\",\"type\":\"GlyphRenderer\"},{\"attributes\":{\"label\":{\"value\":\"lasso order: 09\"},\"renderers\":[{\"id\":\"cf7f34ee-918c-41cb-810b-b47ea9b311f8\",\"type\":\"GlyphRenderer\"}]},\"id\":\"8f7127d5-9f5f-4d69-897f-e903ef4fc4c4\",\"type\":\"LegendItem\"},{\"attributes\":{\"data_source\":{\"id\":\"9303a55c-4fd5-470b-8558-3c5a1cdecead\",\"type\":\"ColumnDataSource\"},\"glyph\":{\"id\":\"2e1a968f-4670-4862-8b04-3ad6f3c89a77\",\"type\":\"Line\"},\"hover_glyph\":null,\"muted_glyph\":null,\"nonselection_glyph\":{\"id\":\"f42a8a3f-2037-4f96-ada7-cb3d3ca7f823\",\"type\":\"Line\"},\"selection_glyph\":null,\"view\":{\"id\":\"4d4aee6a-5d85-4e31-b4b9-afbc84ca8bf9\",\"type\":\"CDSView\"}},\"id\":\"5b86fc8b-2c5f-4612-b3f4-ed5ba5b02d5e\",\"type\":\"GlyphRenderer\"},{\"attributes\":{},\"id\":\"dc86a450-38f0-4131-a74c-853ac110af3c\",\"type\":\"BasicTickFormatter\"},{\"attributes\":{},\"id\":\"c3423c2a-75e5-41d0-86f6-9f24ffdd4518\",\"type\":\"LinearScale\"},{\"attributes\":{\"formatter\":{\"id\":\"2b8b8cbb-3876-471b-b9e9-746d717cfca2\",\"type\":\"BasicTickFormatter\"},\"plot\":{\"id\":\"94591e4e-092c-4236-ac59-72878f121f0e\",\"subtype\":\"Figure\",\"type\":\"Plot\"},\"ticker\":{\"id\":\"2829640d-0116-4ea9-854b-edea96c2c7a2\",\"type\":\"BasicTicker\"}},\"id\":\"040e8a05-2e9c-41fb-a143-600fcc6948dd\",\"type\":\"LinearAxis\"},{\"attributes\":{\"source\":{\"id\":\"c8c8f4ea-1fc0-4d6a-b033-98bf2d38e1fa\",\"type\":\"ColumnDataSource\"}},\"id\":\"6ab6ff21-7dff-48e1-8ec6-92e467c4a913\",\"type\":\"CDSView\"},{\"attributes\":{\"dimension\":1,\"plot\":{\"id\":\"94591e4e-092c-4236-ac59-72878f121f0e\",\"subtype\":\"Figure\",\"type\":\"Plot\"},\"ticker\":{\"id\":\"2829640d-0116-4ea9-854b-edea96c2c7a2\",\"type\":\"BasicTicker\"}},\"id\":\"a29ee109-0f0e-4ebf-8163-a2112637efc1\",\"type\":\"Grid\"},{\"attributes\":{\"items\":[{\"id\":\"3d662df0-00b0-43df-9eeb-7433bd857e4a\",\"type\":\"LegendItem\"},{\"id\":\"8f7127d5-9f5f-4d69-897f-e903ef4fc4c4\",\"type\":\"LegendItem\"},{\"id\":\"f07890ae-5aca-400f-bd2a-83e8d2b1d5b9\",\"type\":\"LegendItem\"}],\"label_text_font_size\":{\"value\":\"15pt\"},\"location\":\"top_left\",\"plot\":{\"id\":\"94591e4e-092c-4236-ac59-72878f121f0e\",\"subtype\":\"Figure\",\"type\":\"Plot\"}},\"id\":\"90545499-f3f3-4bfa-8952-2eee5182451f\",\"type\":\"Legend\"},{\"attributes\":{},\"id\":\"2829640d-0116-4ea9-854b-edea96c2c7a2\",\"type\":\"BasicTicker\"},{\"attributes\":{\"line_color\":\"red\",\"line_width\":4.0,\"x\":{\"field\":\"x\"},\"y\":{\"field\":\"y\"}},\"id\":\"c1eb2334-646c-4bcc-8c0d-1478f677c748\",\"type\":\"Line\"},{\"attributes\":{},\"id\":\"13a6bf52-17d0-4dfa-8500-92ecdcaf2009\",\"type\":\"LinearScale\"},{\"attributes\":{\"line_alpha\":0.1,\"line_color\":\"#1f77b4\",\"line_width\":4.0,\"x\":{\"field\":\"x\"},\"y\":{\"field\":\"y\"}},\"id\":\"cabbfc86-0e75-422f-aa15-0ddaa3c50ae1\",\"type\":\"Line\"},{\"attributes\":{},\"id\":\"745c19e8-801a-4bee-9fce-eeaa0c0ddec6\",\"type\":\"BasicTicker\"},{\"attributes\":{\"plot\":{\"id\":\"94591e4e-092c-4236-ac59-72878f121f0e\",\"subtype\":\"Figure\",\"type\":\"Plot\"},\"ticker\":{\"id\":\"745c19e8-801a-4bee-9fce-eeaa0c0ddec6\",\"type\":\"BasicTicker\"}},\"id\":\"e153fa98-30cc-42ba-ad7f-9dee0506ef4d\",\"type\":\"Grid\"},{\"attributes\":{\"formatter\":{\"id\":\"dc86a450-38f0-4131-a74c-853ac110af3c\",\"type\":\"BasicTickFormatter\"},\"plot\":{\"id\":\"94591e4e-092c-4236-ac59-72878f121f0e\",\"subtype\":\"Figure\",\"type\":\"Plot\"},\"ticker\":{\"id\":\"745c19e8-801a-4bee-9fce-eeaa0c0ddec6\",\"type\":\"BasicTicker\"}},\"id\":\"127ab622-8cd0-420d-b926-8e84bdc8c625\",\"type\":\"LinearAxis\"},{\"attributes\":{\"label\":{\"value\":\"truth\"},\"renderers\":[{\"id\":\"f9d3f98b-95bc-4247-ad3c-c5a5b027d7cf\",\"type\":\"GlyphRenderer\"}]},\"id\":\"f07890ae-5aca-400f-bd2a-83e8d2b1d5b9\",\"type\":\"LegendItem\"},{\"attributes\":{\"plot\":null,\"text\":\"9th order LinReg and Lasso with Ground truth\"},\"id\":\"31ed29ea-48f7-4f09-8b89-c14e1c7951ee\",\"type\":\"Title\"},{\"attributes\":{\"below\":[{\"id\":\"127ab622-8cd0-420d-b926-8e84bdc8c625\",\"type\":\"LinearAxis\"}],\"left\":[{\"id\":\"040e8a05-2e9c-41fb-a143-600fcc6948dd\",\"type\":\"LinearAxis\"}],\"plot_height\":400,\"plot_width\":700,\"renderers\":[{\"id\":\"127ab622-8cd0-420d-b926-8e84bdc8c625\",\"type\":\"LinearAxis\"},{\"id\":\"e153fa98-30cc-42ba-ad7f-9dee0506ef4d\",\"type\":\"Grid\"},{\"id\":\"040e8a05-2e9c-41fb-a143-600fcc6948dd\",\"type\":\"LinearAxis\"},{\"id\":\"a29ee109-0f0e-4ebf-8163-a2112637efc1\",\"type\":\"Grid\"},{\"id\":\"84bb6a97-5dec-4e18-a0cf-9fc66b1d5ee7\",\"type\":\"BoxAnnotation\"},{\"id\":\"53e880c4-914b-445e-9227-6f4bc664894b\",\"type\":\"GlyphRenderer\"},{\"id\":\"90545499-f3f3-4bfa-8952-2eee5182451f\",\"type\":\"Legend\"},{\"id\":\"5b86fc8b-2c5f-4612-b3f4-ed5ba5b02d5e\",\"type\":\"GlyphRenderer\"},{\"id\":\"cf7f34ee-918c-41cb-810b-b47ea9b311f8\",\"type\":\"GlyphRenderer\"},{\"id\":\"f9d3f98b-95bc-4247-ad3c-c5a5b027d7cf\",\"type\":\"GlyphRenderer\"}],\"title\":{\"id\":\"31ed29ea-48f7-4f09-8b89-c14e1c7951ee\",\"type\":\"Title\"},\"toolbar\":{\"id\":\"4ec08a67-10fc-4aee-9adb-0a3824064bfb\",\"type\":\"Toolbar\"},\"x_range\":{\"id\":\"ec435775-2c53-4c79-8d60-62ad1ca12198\",\"type\":\"DataRange1d\"},\"x_scale\":{\"id\":\"c3423c2a-75e5-41d0-86f6-9f24ffdd4518\",\"type\":\"LinearScale\"},\"y_range\":{\"id\":\"bb2c54f4-70b3-40ba-96b6-b97327f40098\",\"type\":\"DataRange1d\"},\"y_scale\":{\"id\":\"13a6bf52-17d0-4dfa-8500-92ecdcaf2009\",\"type\":\"LinearScale\"}},\"id\":\"94591e4e-092c-4236-ac59-72878f121f0e\",\"subtype\":\"Figure\",\"type\":\"Plot\"},{\"attributes\":{},\"id\":\"5515bcdf-a562-4f1f-8edc-9d4a0766eb68\",\"type\":\"PanTool\"},{\"attributes\":{},\"id\":\"89c5536b-a609-4217-878a-e76e5071fc8e\",\"type\":\"WheelZoomTool\"}],\"root_ids\":[\"94591e4e-092c-4236-ac59-72878f121f0e\"]},\"title\":\"Bokeh Application\",\"version\":\"0.12.13\"}};\n",
       "  var render_items = [{\"docid\":\"9fcade5a-3b68-43c3-911f-e157d2db18bf\",\"elementid\":\"a85e1e83-ebe8-4184-8d11-00d97f3a5ab0\",\"modelid\":\"94591e4e-092c-4236-ac59-72878f121f0e\"}];\n",
       "  root.Bokeh.embed.embed_items_notebook(docs_json, render_items);\n",
       "\n",
       "  }\n",
       "  if (root.Bokeh !== undefined) {\n",
       "    embed_document(root);\n",
       "  } else {\n",
       "    var attempts = 0;\n",
       "    var timer = setInterval(function(root) {\n",
       "      if (root.Bokeh !== undefined) {\n",
       "        embed_document(root);\n",
       "        clearInterval(timer);\n",
       "      }\n",
       "      attempts++;\n",
       "      if (attempts > 100) {\n",
       "        console.log(\"Bokeh: ERROR: Unable to run BokehJS code because BokehJS library is missing\")\n",
       "        clearInterval(timer);\n",
       "      }\n",
       "    }, 10, root)\n",
       "  }\n",
       "})(window);"
      ],
      "application/vnd.bokehjs_exec.v0+json": ""
     },
     "metadata": {
      "application/vnd.bokehjs_exec.v0+json": {
       "id": "94591e4e-092c-4236-ac59-72878f121f0e"
      }
     },
     "output_type": "display_data"
    }
   ],
   "source": [
    "order = 9\n",
    "np.random.seed(1)\n",
    "X = np.array([t**i for i in range(order+1)]).T\n",
    "Xp = np.array([p**i for i in range(order+1)]).T\n",
    "poly_linreg = linear_model.LinearRegression().fit(X, y_noisy)\n",
    "poly_lasso = linear_model.Lasso(alpha = 0.005).fit(X, y_noisy)\n",
    "\n",
    "fig = bk.figure(plot_width=700, plot_height=400)\n",
    "fig.circle(t, y_noisy, size=8, alpha=0.4)\n",
    "fig.line(p, poly_linreg.predict(Xp), legend='linreg order: %02i' % order,\n",
    "         color='royalblue', line_width=3.0)\n",
    "fig.line(p, poly_lasso.predict(Xp), legend='lasso order: %02i' % order,\n",
    "         line_width=3.0, color='green')\n",
    "fig.line(p, f(p), legend=\"truth\", color='red', line_width=4.0)\n",
    "\n",
    "fig.legend.label_text_font_size = '15pt'\n",
    "fig.legend.location = 'top_left'\n",
    "fig.title.text = '9th order LinReg and Lasso with Ground truth'\n",
    "\n",
    "np.set_printoptions(precision=2)\n",
    "print('Ground Truth coeff.: ', ' '.join(['%+5.1f' %n for n in gt_coeff]))\n",
    "print('LinReg coefficients: ', ' '.join(['%+5.1f' %n for n in poly_lasso.coef_]))\n",
    "bk.show(fig)"
   ]
  },
  {
   "cell_type": "markdown",
   "metadata": {},
   "source": [
    "Try by yourself: play a little with the code of the two previous cells by changing `n_samples` and `noise_level` to verify that:\n",
    "\n",
    "* When `n_samples` is very high (>1000) it's very unlikely to have overfitting. This means that with more data it's possible to fit more complex models without overfitting.\n",
    "* When `n_samples` is very low (<40) it's almost impossible to fit with Linear Regression without overfitting. In this case regularization is always required\n",
    "* When `n_samples` is very high (>1000) and `noise_level` is very low, the Lasso algorithm keeps just the coefficients actually used to calculate the ground truth function. This means that Lasso can deal with high dimesional problems where most of the features can be neglected producing compact linear models.\n",
    "\n",
    "Another way to look at the Bias-Variance tradeoff in previous examples is to consider how the model fits the data. As stated at the beginning of this section when model complexity increases Bias decrease while Variance increses. The optimal model performance is achieved when the level of complexity is such that an increase in Bias is equivalent in reduction of Variance. If the model complexity exceed this threshold we are overfitting (the model is to adapted to the data and does not generalize well) if the model is behind this threshold is said to be underfitting (the model does not fit well the data and it has a poor error for out of sample data)."
   ]
  },
  {
   "cell_type": "markdown",
   "metadata": {},
   "source": [
    "## 3 Separate Training and Validation Sets"
   ]
  },
  {
   "cell_type": "markdown",
   "metadata": {},
   "source": [
    "**Fitting a model and testing it on the same data is a methodological mistake:** a model could have a perfect score but would fail to predict anything useful on yet-unseen data. This situation is called <font color=\"Red\">overfitting</font>. To avoid it, it is common practice to hold out part of the available data as a **Validation  Set** `X_valid, y_valid`."
   ]
  },
  {
   "cell_type": "code",
   "execution_count": 15,
   "metadata": {},
   "outputs": [
    {
     "name": "stdout",
     "output_type": "stream",
     "text": [
      "LinearRegression(copy_X=True, fit_intercept=True, n_jobs=1, normalize=False)\n",
      "Model coefficient: 275.99550, and intercept: -145.41186\n",
      "Mean Squared Error: 23.04\n"
     ]
    }
   ],
   "source": [
    "from sklearn import datasets, preprocessing, metrics\n",
    "X, y = datasets.samples_generator.make_regression(n_samples=70,\n",
    "                                                  n_features=1, n_informative=1,\n",
    "                                                  random_state=0, noise=5)\n",
    "scaler = preprocessing.MinMaxScaler()\n",
    "X_sc = scaler.fit_transform(X)\n",
    "\n",
    "lin = linear_model.LinearRegression(fit_intercept=True)\n",
    "lin.fit(X_sc, y)\n",
    "\n",
    "print(lin)\n",
    "print(\"Model coefficient: %.5f, and intercept: %.5f\" % (lin.coef_, lin.intercept_))\n",
    "err = metrics.mean_squared_error(lin.predict(X_sc), y)\n",
    "print(\"Mean Squared Error: %.2f\" % err)"
   ]
  },
  {
   "cell_type": "markdown",
   "metadata": {},
   "source": [
    "In scikit-learn a random split into **Training** and **Validation** sets can be quickly computed with the `train_test_split` helper function:"
   ]
  },
  {
   "cell_type": "code",
   "execution_count": 16,
   "metadata": {},
   "outputs": [
    {
     "name": "stdout",
     "output_type": "stream",
     "text": [
      "Mean Squared Error: 23.34\n",
      "Model coefficient: 273.00288, and intercept: -143.70277\n"
     ]
    },
    {
     "data": {
      "text/html": [
       "\n",
       "<div class=\"bk-root\">\n",
       "    <div class=\"bk-plotdiv\" id=\"b44c8883-fce0-49ae-8dee-593a9d9c36a8\"></div>\n",
       "</div>"
      ]
     },
     "metadata": {},
     "output_type": "display_data"
    },
    {
     "data": {
      "application/javascript": [
       "(function(root) {\n",
       "  function embed_document(root) {\n",
       "    \n",
       "  var docs_json = {\"600f0c0a-533d-4ae1-a3be-716294071741\":{\"roots\":{\"references\":[{\"attributes\":{\"callback\":null,\"column_names\":[\"x\",\"y\"],\"data\":{\"x\":{\"__ndarray__\":\"AAAAAAAAAAAAAAAAAADwPw==\",\"dtype\":\"float64\",\"shape\":[2]},\"y\":{\"__ndarray__\":\"y7T4GH32YcBvxIaGmilgQA==\",\"dtype\":\"float64\",\"shape\":[2]}}},\"id\":\"84b47c28-6cf6-4668-a2c1-339553ca154a\",\"type\":\"ColumnDataSource\"},{\"attributes\":{\"label\":{\"value\":\"Validation Set\"},\"renderers\":[{\"id\":\"22cd4fdd-6465-4146-88a7-2ac7dc7cb705\",\"type\":\"GlyphRenderer\"}]},\"id\":\"4ed31efb-d195-46ed-a61b-e02a6c8872fd\",\"type\":\"LegendItem\"},{\"attributes\":{\"fill_alpha\":{\"value\":0.1},\"fill_color\":{\"value\":\"#1f77b4\"},\"line_alpha\":{\"value\":0.1},\"line_color\":{\"value\":\"#1f77b4\"},\"size\":{\"units\":\"screen\",\"value\":5},\"x\":{\"field\":\"x\"},\"y\":{\"field\":\"y\"}},\"id\":\"cbda7ee4-30be-4824-97ed-c41c15beadab\",\"type\":\"Circle\"},{\"attributes\":{\"items\":[{\"id\":\"bc9b25b5-b06c-4479-8c63-324dc9446831\",\"type\":\"LegendItem\"},{\"id\":\"4ed31efb-d195-46ed-a61b-e02a6c8872fd\",\"type\":\"LegendItem\"},{\"id\":\"aa7b07ec-d516-451f-825e-834219393a70\",\"type\":\"LegendItem\"}],\"location\":\"bottom_right\",\"plot\":{\"id\":\"4234ad06-cac0-4c02-9b64-a9d0ad60da8a\",\"subtype\":\"Figure\",\"type\":\"Plot\"}},\"id\":\"747d1f0a-b4bb-4fb3-b8cd-c0314462fe51\",\"type\":\"Legend\"},{\"attributes\":{\"data_source\":{\"id\":\"e44cfff6-685d-4612-8b1f-5cf27a23df1f\",\"type\":\"ColumnDataSource\"},\"glyph\":{\"id\":\"6cbc72b6-0974-47ab-93aa-1ecf7cafbebf\",\"type\":\"Circle\"},\"hover_glyph\":null,\"muted_glyph\":null,\"nonselection_glyph\":{\"id\":\"cbda7ee4-30be-4824-97ed-c41c15beadab\",\"type\":\"Circle\"},\"selection_glyph\":null,\"view\":{\"id\":\"deb7b140-fca5-42a8-8385-49c320069331\",\"type\":\"CDSView\"}},\"id\":\"22cd4fdd-6465-4146-88a7-2ac7dc7cb705\",\"type\":\"GlyphRenderer\"},{\"attributes\":{},\"id\":\"88496352-ff0e-44f9-a7ef-c2ac3dbd73b1\",\"type\":\"LinearScale\"},{\"attributes\":{\"source\":{\"id\":\"e44cfff6-685d-4612-8b1f-5cf27a23df1f\",\"type\":\"ColumnDataSource\"}},\"id\":\"deb7b140-fca5-42a8-8385-49c320069331\",\"type\":\"CDSView\"},{\"attributes\":{\"callback\":null,\"column_names\":[\"x\",\"y\"],\"data\":{\"x\":{\"__ndarray__\":\"lisXDJIozT9CCqfgVifjPwAAAAAAAAAAZvDQDikc6z+UHSXuKYzcP1P5ujzt9tM/38J5626w6j8wkXXz7h3iP6q/Gt7dENw/zNY7uPnO7z9F7UVqyBnbP2XNbZ8h+uE/IF6eJs+W6j8kvAd+zAfYP01MBxNZGuk/h+qEyUc+4T/W4jMuA3nGP45JjfekAuQ/AVK28cCB4z8IIhdi4X3IP0eTJJFEvdw/SgTUBpr02D/y+bTlCfHFP2CGNFD//tU/zubkZehy4z9sprxLAaXsP7AXcxqfG90/Y3Lfqjrl4T+1gxhCFxnWP9ZZ2Sfw6ug/MW+0767A4D8abVW0RJjjP4umvirA9+E/kk6aoagW1z/9wU9YDm/nP79+0UjN1tU/vgIblTYZ5j+U8Ak5ouzIP////////+8/VhYXjDlB4D8NMHozi4vWP/6gDiVhDt8/zLkZ+vERzj9fHgU4RP3lPz/iKRqC4uM/+Cx0VNJU7T+a5gbzODbSPwMUxZ5W8uI/zNquIMpI4T8=\",\"dtype\":\"float64\",\"shape\":[49]},\"y\":{\"__ndarray__\":\"xpRtyxvEU8DwK951GD02QPrzF2w5y2HArZqwqQ/VVEAiiBJS+/U4wDWg0kuMYkrALv6xn05/V0CEbO9MiesyQIdIxT5VBjrA5AWqUQRfYEDDc4CX7048wHTaPQpx3vg/Hg5wvLLYVkCcxi0+qtpEwCi7IBd0YFBAmVeLfGirFkBWRAxSK/RWwAcS65kLkDZA+TX6+gHHN0BHVRGG8MpVwDjyE7j7SDPAX5nTjYM3SMB/0pqS2mFZwHcvCYFnQEvARmNgK/8LNkAQspkDWCRZQOgamcrj9yrA9H8um7yDMUBr6MX0Iv1GwEAgo8QeDVFAJJYSR1Oh/b+sBxsnMn05QHWfnnsG4B5Al+pCVC3vRsAxBAVZ1hZKQMveFg7G60nAOJgoZaZpQUBJMVbgNCBXwG77dXMqB2FAzPW/JPwY9b8Tyrc0aw9KwClFxYBbWyfAOyYFfOwdUsBcXJmhUE1CQHfJasQbNjlAg4sGVNamWUCZoYGhnnRQwGAMd06S2zJAaz0zkUe1C8A=\",\"dtype\":\"float64\",\"shape\":[49]}}},\"id\":\"a110109e-f167-4432-977e-3c354cee4d0b\",\"type\":\"ColumnDataSource\"},{\"attributes\":{\"line_alpha\":0.1,\"line_color\":\"#1f77b4\",\"x\":{\"field\":\"x\"},\"y\":{\"field\":\"y\"}},\"id\":\"897aff82-80e4-4e6d-a890-7dec9e007e3f\",\"type\":\"Line\"},{\"attributes\":{\"dimension\":1,\"plot\":{\"id\":\"4234ad06-cac0-4c02-9b64-a9d0ad60da8a\",\"subtype\":\"Figure\",\"type\":\"Plot\"},\"ticker\":{\"id\":\"3a4aee73-f510-495e-9174-51fe7f8e5e58\",\"type\":\"BasicTicker\"}},\"id\":\"1b40b65f-b42f-4995-a30e-46323cd12702\",\"type\":\"Grid\"},{\"attributes\":{\"fill_alpha\":{\"value\":0.1},\"fill_color\":{\"value\":\"#1f77b4\"},\"line_alpha\":{\"value\":0.1},\"line_color\":{\"value\":\"#1f77b4\"},\"size\":{\"units\":\"screen\",\"value\":5},\"x\":{\"field\":\"x\"},\"y\":{\"field\":\"y\"}},\"id\":\"390119e0-2e4e-4475-b175-bc035510e748\",\"type\":\"Circle\"},{\"attributes\":{\"label\":{\"value\":\"Linear Regression\"},\"renderers\":[{\"id\":\"c02af0b2-b0b4-49df-94b2-e84353326f0f\",\"type\":\"GlyphRenderer\"}]},\"id\":\"aa7b07ec-d516-451f-825e-834219393a70\",\"type\":\"LegendItem\"},{\"attributes\":{\"below\":[{\"id\":\"75f91783-312a-45b8-a460-76c433ad4116\",\"type\":\"LinearAxis\"}],\"left\":[{\"id\":\"32b2bab1-ba4a-49d3-85cd-c049712aa93f\",\"type\":\"LinearAxis\"}],\"plot_height\":400,\"plot_width\":700,\"renderers\":[{\"id\":\"75f91783-312a-45b8-a460-76c433ad4116\",\"type\":\"LinearAxis\"},{\"id\":\"eac9521d-5a37-4ca0-be08-745e9178e5a6\",\"type\":\"Grid\"},{\"id\":\"32b2bab1-ba4a-49d3-85cd-c049712aa93f\",\"type\":\"LinearAxis\"},{\"id\":\"1b40b65f-b42f-4995-a30e-46323cd12702\",\"type\":\"Grid\"},{\"id\":\"16dc9b52-df23-49bf-9ebc-2d2fa6815035\",\"type\":\"BoxAnnotation\"},{\"id\":\"747d1f0a-b4bb-4fb3-b8cd-c0314462fe51\",\"type\":\"Legend\"},{\"id\":\"fee164d1-41b0-4329-9837-afb8207901af\",\"type\":\"GlyphRenderer\"},{\"id\":\"22cd4fdd-6465-4146-88a7-2ac7dc7cb705\",\"type\":\"GlyphRenderer\"},{\"id\":\"c02af0b2-b0b4-49df-94b2-e84353326f0f\",\"type\":\"GlyphRenderer\"}],\"title\":{\"id\":\"48367cbb-3f9f-48db-a7e2-e433746c41ee\",\"type\":\"Title\"},\"toolbar\":{\"id\":\"033d2748-78c6-42e6-85e2-0b68d699ea3a\",\"type\":\"Toolbar\"},\"x_range\":{\"id\":\"99dabea1-4c96-47d7-acc9-d26bb44e4946\",\"type\":\"DataRange1d\"},\"x_scale\":{\"id\":\"88496352-ff0e-44f9-a7ef-c2ac3dbd73b1\",\"type\":\"LinearScale\"},\"y_range\":{\"id\":\"4a7d4d46-bf5c-46ee-a6aa-e0fc1ee845b7\",\"type\":\"DataRange1d\"},\"y_scale\":{\"id\":\"1d8c329b-55c2-4884-82d5-d2ed990e8a3c\",\"type\":\"LinearScale\"}},\"id\":\"4234ad06-cac0-4c02-9b64-a9d0ad60da8a\",\"subtype\":\"Figure\",\"type\":\"Plot\"},{\"attributes\":{\"line_color\":\"blue\",\"x\":{\"field\":\"x\"},\"y\":{\"field\":\"y\"}},\"id\":\"4863f33c-7d03-416b-baf9-6e1435021466\",\"type\":\"Line\"},{\"attributes\":{\"formatter\":{\"id\":\"f01e2f84-dec6-4ea9-9731-76df80eb5cc0\",\"type\":\"BasicTickFormatter\"},\"plot\":{\"id\":\"4234ad06-cac0-4c02-9b64-a9d0ad60da8a\",\"subtype\":\"Figure\",\"type\":\"Plot\"},\"ticker\":{\"id\":\"3a4aee73-f510-495e-9174-51fe7f8e5e58\",\"type\":\"BasicTicker\"}},\"id\":\"32b2bab1-ba4a-49d3-85cd-c049712aa93f\",\"type\":\"LinearAxis\"},{\"attributes\":{\"source\":{\"id\":\"84b47c28-6cf6-4668-a2c1-339553ca154a\",\"type\":\"ColumnDataSource\"}},\"id\":\"a3446320-bb7d-4649-a31c-cdf0968cc9e7\",\"type\":\"CDSView\"},{\"attributes\":{\"source\":{\"id\":\"a110109e-f167-4432-977e-3c354cee4d0b\",\"type\":\"ColumnDataSource\"}},\"id\":\"ab6ef830-fb52-48e2-b5ad-83873674c2bc\",\"type\":\"CDSView\"},{\"attributes\":{\"data_source\":{\"id\":\"84b47c28-6cf6-4668-a2c1-339553ca154a\",\"type\":\"ColumnDataSource\"},\"glyph\":{\"id\":\"4863f33c-7d03-416b-baf9-6e1435021466\",\"type\":\"Line\"},\"hover_glyph\":null,\"muted_glyph\":null,\"nonselection_glyph\":{\"id\":\"897aff82-80e4-4e6d-a890-7dec9e007e3f\",\"type\":\"Line\"},\"selection_glyph\":null,\"view\":{\"id\":\"a3446320-bb7d-4649-a31c-cdf0968cc9e7\",\"type\":\"CDSView\"}},\"id\":\"c02af0b2-b0b4-49df-94b2-e84353326f0f\",\"type\":\"GlyphRenderer\"},{\"attributes\":{\"plot\":null,\"text\":\"Training and Validation Sets\"},\"id\":\"48367cbb-3f9f-48db-a7e2-e433746c41ee\",\"type\":\"Title\"},{\"attributes\":{\"callback\":null},\"id\":\"99dabea1-4c96-47d7-acc9-d26bb44e4946\",\"type\":\"DataRange1d\"},{\"attributes\":{},\"id\":\"1d8c329b-55c2-4884-82d5-d2ed990e8a3c\",\"type\":\"LinearScale\"},{\"attributes\":{\"active_drag\":\"auto\",\"active_inspect\":\"auto\",\"active_scroll\":\"auto\",\"active_tap\":\"auto\",\"tools\":[{\"id\":\"ac0be909-8a6d-42aa-9504-4614d894a29c\",\"type\":\"PanTool\"},{\"id\":\"6d97e778-0b93-46f3-9aa3-5e7f198c02af\",\"type\":\"WheelZoomTool\"},{\"id\":\"740a7a87-2498-4830-aa30-23bf463ec8ed\",\"type\":\"BoxZoomTool\"},{\"id\":\"6757a28a-497b-4e00-88d2-16252a53cbf9\",\"type\":\"SaveTool\"},{\"id\":\"85b256d6-bbba-4299-9732-fedb5ab2ed14\",\"type\":\"ResetTool\"},{\"id\":\"9983c79e-c8f1-4632-8e59-7406110d58ce\",\"type\":\"HelpTool\"}]},\"id\":\"033d2748-78c6-42e6-85e2-0b68d699ea3a\",\"type\":\"Toolbar\"},{\"attributes\":{\"callback\":null},\"id\":\"4a7d4d46-bf5c-46ee-a6aa-e0fc1ee845b7\",\"type\":\"DataRange1d\"},{\"attributes\":{\"plot\":{\"id\":\"4234ad06-cac0-4c02-9b64-a9d0ad60da8a\",\"subtype\":\"Figure\",\"type\":\"Plot\"},\"ticker\":{\"id\":\"83fd017c-5886-4950-ad09-ab70878b752d\",\"type\":\"BasicTicker\"}},\"id\":\"eac9521d-5a37-4ca0-be08-745e9178e5a6\",\"type\":\"Grid\"},{\"attributes\":{\"formatter\":{\"id\":\"05ec7d06-d3d7-42a6-840f-a3bf9f4b08d2\",\"type\":\"BasicTickFormatter\"},\"plot\":{\"id\":\"4234ad06-cac0-4c02-9b64-a9d0ad60da8a\",\"subtype\":\"Figure\",\"type\":\"Plot\"},\"ticker\":{\"id\":\"83fd017c-5886-4950-ad09-ab70878b752d\",\"type\":\"BasicTicker\"}},\"id\":\"75f91783-312a-45b8-a460-76c433ad4116\",\"type\":\"LinearAxis\"},{\"attributes\":{},\"id\":\"83fd017c-5886-4950-ad09-ab70878b752d\",\"type\":\"BasicTicker\"},{\"attributes\":{},\"id\":\"3a4aee73-f510-495e-9174-51fe7f8e5e58\",\"type\":\"BasicTicker\"},{\"attributes\":{\"data_source\":{\"id\":\"a110109e-f167-4432-977e-3c354cee4d0b\",\"type\":\"ColumnDataSource\"},\"glyph\":{\"id\":\"0fe89f35-f6a3-4b27-b4da-bee3614015f0\",\"type\":\"Circle\"},\"hover_glyph\":null,\"muted_glyph\":null,\"nonselection_glyph\":{\"id\":\"390119e0-2e4e-4475-b175-bc035510e748\",\"type\":\"Circle\"},\"selection_glyph\":null,\"view\":{\"id\":\"ab6ef830-fb52-48e2-b5ad-83873674c2bc\",\"type\":\"CDSView\"}},\"id\":\"fee164d1-41b0-4329-9837-afb8207901af\",\"type\":\"GlyphRenderer\"},{\"attributes\":{\"fill_color\":{\"value\":\"green\"},\"line_alpha\":{\"value\":0.85},\"line_color\":{\"value\":\"darkgreen\"},\"size\":{\"units\":\"screen\",\"value\":5},\"x\":{\"field\":\"x\"},\"y\":{\"field\":\"y\"}},\"id\":\"0fe89f35-f6a3-4b27-b4da-bee3614015f0\",\"type\":\"Circle\"},{\"attributes\":{\"callback\":null,\"column_names\":[\"x\",\"y\"],\"data\":{\"x\":{\"__ndarray__\":\"YAjFGS3i7T9XeZSI6d7fPwT2MVkd3t0/t5KhDwGq4z9zL7svEUHRP2Z6cqkqdtk/EYnKIbMd2z+Wj6IqIyjfP37mQVkgyOM/ED0IvIBfvj+dbHyhimHhPw+NuzBkPuc/Dxl0puas5j9mDyyFyhDdP7DLqGvNRuU/wbF6YDNl3z9KNWaiEOnUP8I3BHNs2uo/TCVBKlYE4z+4xXLJO7/hP2xx5TMrQ90/\",\"dtype\":\"float64\",\"shape\":[21]},\"y\":{\"__ndarray__\":\"qk9BquS2XUAQdeVNj/EtwChV8/1VIDrAq4xPJNUfM0AolOpHYD5TwMfwaz+fXUHAWH7zJyHDOMClguZOoN0ewEDqdjBL6zhA6logX/cdXsBk23/Iehfrv2Il4fLGNkxAJ/HVjNNTS0Dmf6Lh6NkywKJYsTSaL0JAMnEDfkGLJcDylGRtKZlJwLlwgWJZGlZA0IICQZGRNkCrYWZDiskhQMLJ7MLUsi/A\",\"dtype\":\"float64\",\"shape\":[21]}}},\"id\":\"e44cfff6-685d-4612-8b1f-5cf27a23df1f\",\"type\":\"ColumnDataSource\"},{\"attributes\":{\"bottom_units\":\"screen\",\"fill_alpha\":{\"value\":0.5},\"fill_color\":{\"value\":\"lightgrey\"},\"left_units\":\"screen\",\"level\":\"overlay\",\"line_alpha\":{\"value\":1.0},\"line_color\":{\"value\":\"black\"},\"line_dash\":[4,4],\"line_width\":{\"value\":2},\"plot\":null,\"render_mode\":\"css\",\"right_units\":\"screen\",\"top_units\":\"screen\"},\"id\":\"16dc9b52-df23-49bf-9ebc-2d2fa6815035\",\"type\":\"BoxAnnotation\"},{\"attributes\":{},\"id\":\"ac0be909-8a6d-42aa-9504-4614d894a29c\",\"type\":\"PanTool\"},{\"attributes\":{},\"id\":\"f01e2f84-dec6-4ea9-9731-76df80eb5cc0\",\"type\":\"BasicTickFormatter\"},{\"attributes\":{},\"id\":\"6d97e778-0b93-46f3-9aa3-5e7f198c02af\",\"type\":\"WheelZoomTool\"},{\"attributes\":{\"overlay\":{\"id\":\"16dc9b52-df23-49bf-9ebc-2d2fa6815035\",\"type\":\"BoxAnnotation\"}},\"id\":\"740a7a87-2498-4830-aa30-23bf463ec8ed\",\"type\":\"BoxZoomTool\"},{\"attributes\":{},\"id\":\"6757a28a-497b-4e00-88d2-16252a53cbf9\",\"type\":\"SaveTool\"},{\"attributes\":{},\"id\":\"85b256d6-bbba-4299-9732-fedb5ab2ed14\",\"type\":\"ResetTool\"},{\"attributes\":{},\"id\":\"9983c79e-c8f1-4632-8e59-7406110d58ce\",\"type\":\"HelpTool\"},{\"attributes\":{\"label\":{\"value\":\"Training Set\"},\"renderers\":[{\"id\":\"fee164d1-41b0-4329-9837-afb8207901af\",\"type\":\"GlyphRenderer\"}]},\"id\":\"bc9b25b5-b06c-4479-8c63-324dc9446831\",\"type\":\"LegendItem\"},{\"attributes\":{},\"id\":\"05ec7d06-d3d7-42a6-840f-a3bf9f4b08d2\",\"type\":\"BasicTickFormatter\"},{\"attributes\":{\"fill_color\":{\"value\":\"orangered\"},\"line_alpha\":{\"value\":0.85},\"line_color\":{\"value\":\"#1f77b4\"},\"size\":{\"units\":\"screen\",\"value\":5},\"x\":{\"field\":\"x\"},\"y\":{\"field\":\"y\"}},\"id\":\"6cbc72b6-0974-47ab-93aa-1ecf7cafbebf\",\"type\":\"Circle\"}],\"root_ids\":[\"4234ad06-cac0-4c02-9b64-a9d0ad60da8a\"]},\"title\":\"Bokeh Application\",\"version\":\"0.12.13\"}};\n",
       "  var render_items = [{\"docid\":\"600f0c0a-533d-4ae1-a3be-716294071741\",\"elementid\":\"b44c8883-fce0-49ae-8dee-593a9d9c36a8\",\"modelid\":\"4234ad06-cac0-4c02-9b64-a9d0ad60da8a\"}];\n",
       "  root.Bokeh.embed.embed_items_notebook(docs_json, render_items);\n",
       "\n",
       "  }\n",
       "  if (root.Bokeh !== undefined) {\n",
       "    embed_document(root);\n",
       "  } else {\n",
       "    var attempts = 0;\n",
       "    var timer = setInterval(function(root) {\n",
       "      if (root.Bokeh !== undefined) {\n",
       "        embed_document(root);\n",
       "        clearInterval(timer);\n",
       "      }\n",
       "      attempts++;\n",
       "      if (attempts > 100) {\n",
       "        console.log(\"Bokeh: ERROR: Unable to run BokehJS code because BokehJS library is missing\")\n",
       "        clearInterval(timer);\n",
       "      }\n",
       "    }, 10, root)\n",
       "  }\n",
       "})(window);"
      ],
      "application/vnd.bokehjs_exec.v0+json": ""
     },
     "metadata": {
      "application/vnd.bokehjs_exec.v0+json": {
       "id": "4234ad06-cac0-4c02-9b64-a9d0ad60da8a"
      }
     },
     "output_type": "display_data"
    }
   ],
   "source": [
    "from sklearn import model_selection\n",
    "X_tr, X_valid, y_tr, y_valid = model_selection.train_test_split(X_sc, y,\n",
    "                                                                test_size=0.30, \n",
    "                                                                random_state=0)\n",
    "lin.fit(X_tr, y_tr)\n",
    "MSE = metrics.mean_squared_error(lin.predict(X_valid), y_valid)\n",
    "print(\"Mean Squared Error: %.2f\" % MSE)\n",
    "print(\"Model coefficient: %.5f, and intercept: %.5f\" % (lin.coef_, lin.intercept_))\n",
    "\n",
    "X_predicted = np.linspace(0, 1, 2)[:, np.newaxis]\n",
    "y_predicted = lin.predict(X_predicted)\n",
    "fig = bk.figure(title='Training and Validation Sets', \n",
    "                plot_width=700, plot_height=400)\n",
    "fig.circle(X_tr.squeeze(), y_tr,\n",
    "           size=5, line_alpha=0.85, fill_color='green', line_color='darkgreen',\n",
    "           legend='Training Set')\n",
    "fig.circle(X_valid.squeeze(), y_valid, \n",
    "           size=5, line_alpha=0.85, fill_color='orangered', legend='Validation Set')\n",
    "fig.line(X_predicted.ravel(), y_predicted, line_color='blue', legend='Linear Regression')\n",
    "fig.legend.location = 'bottom_right'\n",
    "bk.show(fig)"
   ]
  },
  {
   "cell_type": "markdown",
   "metadata": {},
   "source": [
    "### 3.1 Example: Do a Regression Analysis on MATLAB<sup>&reg;</sup> data"
   ]
  },
  {
   "cell_type": "markdown",
   "metadata": {},
   "source": [
    "The data are generated with the following MATLAB code:\n",
    "\n",
    "    % Generate Regression Test Data 02 ----------------------------------------\n",
    "    samples = 100; features = 5;\n",
    "    \n",
    "    X = rand(samples, features)\n",
    "    for i = 1:samples\n",
    "        X(i,:) = (X(i,:)*i)+i+0.1;\n",
    "    end\n",
    "    % Calculate y as a linear combination of features with coeff. 1.5, 2.5, ...\n",
    "    % and add some noise\n",
    "    noise = 0.1;\n",
    "    lin_comb = (1:features) + 0.5\n",
    "    y = (X+rand(samples, features)*noise)*lin_comb'\n",
    "    % Define feature names as 'F001', ... , 'Fnnn' up to 9999 features\n",
    "    feat_names = sprintf('F%04i',1);\n",
    "    for i = 2:features\n",
    "        feat_names = strvcat(feat_names, sprintf('F%04i',i));\n",
    "    end\n",
    "    \n",
    "    save ('matlab_test_data_02', 'X','y', 'feat_names')"
   ]
  },
  {
   "cell_type": "code",
   "execution_count": 17,
   "metadata": {
    "collapsed": true
   },
   "outputs": [],
   "source": [
    "from sklearn import preprocessing, linear_model\n",
    "mat = scipy.io.loadmat('example_data/matlab_test_data_02.mat')\n",
    "col = [s.strip() for s in list(mat['feat_names'])]"
   ]
  },
  {
   "cell_type": "code",
   "execution_count": 18,
   "metadata": {
    "collapsed": true
   },
   "outputs": [],
   "source": [
    "Xt,Xv,yt,yv = model_selection.train_test_split(mat['X'], mat['y'],test_size=0.30,\n",
    "                                                random_state=0)\n",
    "Xt = pd.DataFrame(Xt, columns=col)\n",
    "Xv = pd.DataFrame(Xv, columns=col)\n",
    "yt = pd.DataFrame(yt, columns=['measured'])\n",
    "yv = pd.DataFrame(yv, columns=['measured'])"
   ]
  },
  {
   "cell_type": "code",
   "execution_count": 19,
   "metadata": {},
   "outputs": [
    {
     "data": {
      "text/html": [
       "<div>\n",
       "<style scoped>\n",
       "    .dataframe tbody tr th:only-of-type {\n",
       "        vertical-align: middle;\n",
       "    }\n",
       "\n",
       "    .dataframe tbody tr th {\n",
       "        vertical-align: top;\n",
       "    }\n",
       "\n",
       "    .dataframe thead th {\n",
       "        text-align: right;\n",
       "    }\n",
       "</style>\n",
       "<table border=\"1\" class=\"dataframe\">\n",
       "  <thead>\n",
       "    <tr style=\"text-align: right;\">\n",
       "      <th></th>\n",
       "      <th>F0001</th>\n",
       "      <th>F0002</th>\n",
       "      <th>F0003</th>\n",
       "      <th>F0004</th>\n",
       "      <th>F0005</th>\n",
       "      <th>F0006</th>\n",
       "    </tr>\n",
       "  </thead>\n",
       "  <tbody>\n",
       "    <tr>\n",
       "      <th>0</th>\n",
       "      <td>131.391611</td>\n",
       "      <td>178.588071</td>\n",
       "      <td>191.836028</td>\n",
       "      <td>206.928031</td>\n",
       "      <td>188.601869</td>\n",
       "      <td>195.879822</td>\n",
       "    </tr>\n",
       "    <tr>\n",
       "      <th>1</th>\n",
       "      <td>137.771630</td>\n",
       "      <td>91.462643</td>\n",
       "      <td>76.438656</td>\n",
       "      <td>104.585583</td>\n",
       "      <td>123.265090</td>\n",
       "      <td>73.587835</td>\n",
       "    </tr>\n",
       "    <tr>\n",
       "      <th>2</th>\n",
       "      <td>789.737369</td>\n",
       "      <td>671.934539</td>\n",
       "      <td>835.830887</td>\n",
       "      <td>515.921167</td>\n",
       "      <td>901.167154</td>\n",
       "      <td>813.659391</td>\n",
       "    </tr>\n",
       "  </tbody>\n",
       "</table>\n",
       "</div>"
      ],
      "text/plain": [
       "        F0001       F0002       F0003       F0004       F0005       F0006\n",
       "0  131.391611  178.588071  191.836028  206.928031  188.601869  195.879822\n",
       "1  137.771630   91.462643   76.438656  104.585583  123.265090   73.587835\n",
       "2  789.737369  671.934539  835.830887  515.921167  901.167154  813.659391"
      ]
     },
     "execution_count": 19,
     "metadata": {},
     "output_type": "execute_result"
    }
   ],
   "source": [
    "Xt.head(3)"
   ]
  },
  {
   "cell_type": "code",
   "execution_count": 20,
   "metadata": {},
   "outputs": [
    {
     "data": {
      "text/plain": [
       "array([[ 2.46,  0.88,  1.49,  2.39,  2.1 ,  2.5 ],\n",
       "       [ 0.5 ,  0.64,  0.64,  0.54,  0.43,  0.96],\n",
       "       [-0.75, -0.93, -0.81, -0.61, -0.44, -0.83],\n",
       "       ...,\n",
       "       [ 1.24,  2.17,  0.7 ,  2.22,  1.78,  2.63],\n",
       "       [ 0.4 , -0.15, -0.38,  0.05, -0.17,  0.4 ],\n",
       "       [-1.53, -1.55, -1.55, -1.55, -1.58, -1.55]])"
      ]
     },
     "execution_count": 20,
     "metadata": {},
     "output_type": "execute_result"
    }
   ],
   "source": [
    "# Scaler is fitted only on training data\n",
    "Xts = Xt.copy()\n",
    "Xvs = Xv.copy()\n",
    "scaler = preprocessing.StandardScaler(copy=False, with_mean=True, with_std=True).fit(Xt)\n",
    "scaler.transform(Xts)\n",
    "scaler.transform(Xv)"
   ]
  },
  {
   "cell_type": "code",
   "execution_count": 21,
   "metadata": {},
   "outputs": [
    {
     "data": {
      "text/html": [
       "<div>\n",
       "<style scoped>\n",
       "    .dataframe tbody tr th:only-of-type {\n",
       "        vertical-align: middle;\n",
       "    }\n",
       "\n",
       "    .dataframe tbody tr th {\n",
       "        vertical-align: top;\n",
       "    }\n",
       "\n",
       "    .dataframe thead th {\n",
       "        text-align: right;\n",
       "    }\n",
       "</style>\n",
       "<table border=\"1\" class=\"dataframe\">\n",
       "  <thead>\n",
       "    <tr style=\"text-align: right;\">\n",
       "      <th></th>\n",
       "      <th>F0001</th>\n",
       "      <th>F0002</th>\n",
       "      <th>F0003</th>\n",
       "      <th>F0004</th>\n",
       "      <th>F0005</th>\n",
       "      <th>F0006</th>\n",
       "    </tr>\n",
       "  </thead>\n",
       "  <tbody>\n",
       "    <tr>\n",
       "      <th>0</th>\n",
       "      <td>-1.294851</td>\n",
       "      <td>-1.210162</td>\n",
       "      <td>-1.171325</td>\n",
       "      <td>-1.148142</td>\n",
       "      <td>-1.198971</td>\n",
       "      <td>-1.160278</td>\n",
       "    </tr>\n",
       "    <tr>\n",
       "      <th>1</th>\n",
       "      <td>-1.281377</td>\n",
       "      <td>-1.399557</td>\n",
       "      <td>-1.416333</td>\n",
       "      <td>-1.371187</td>\n",
       "      <td>-1.344097</td>\n",
       "      <td>-1.424161</td>\n",
       "    </tr>\n",
       "    <tr>\n",
       "      <th>2</th>\n",
       "      <td>0.095500</td>\n",
       "      <td>-0.137716</td>\n",
       "      <td>0.195982</td>\n",
       "      <td>-0.474723</td>\n",
       "      <td>0.383782</td>\n",
       "      <td>0.172776</td>\n",
       "    </tr>\n",
       "  </tbody>\n",
       "</table>\n",
       "</div>"
      ],
      "text/plain": [
       "      F0001     F0002     F0003     F0004     F0005     F0006\n",
       "0 -1.294851 -1.210162 -1.171325 -1.148142 -1.198971 -1.160278\n",
       "1 -1.281377 -1.399557 -1.416333 -1.371187 -1.344097 -1.424161\n",
       "2  0.095500 -0.137716  0.195982 -0.474723  0.383782  0.172776"
      ]
     },
     "execution_count": 21,
     "metadata": {},
     "output_type": "execute_result"
    }
   ],
   "source": [
    "Xts.head(3)"
   ]
  },
  {
   "cell_type": "code",
   "execution_count": 22,
   "metadata": {},
   "outputs": [
    {
     "name": "stdout",
     "output_type": "stream",
     "text": [
      "[[ 708.82 1153.81 1647.24 2066.73 2474.24 3011.71]]\n",
      "[17692.81]\n"
     ]
    }
   ],
   "source": [
    "model = linear_model.LinearRegression(fit_intercept=True, normalize=True)\n",
    "model.fit(Xts, yt)\n",
    "# NOTICE: coefficients are much different from 1.5, 2.5, ... when fitting on scaled data\n",
    "print(model.coef_)\n",
    "print(model.intercept_)"
   ]
  },
  {
   "cell_type": "code",
   "execution_count": 23,
   "metadata": {},
   "outputs": [
    {
     "data": {
      "text/html": [
       "\n",
       "<div class=\"bk-root\">\n",
       "    <div class=\"bk-plotdiv\" id=\"4f3f3797-9a95-4241-9a95-c39abf4de1f4\"></div>\n",
       "</div>"
      ]
     },
     "metadata": {},
     "output_type": "display_data"
    },
    {
     "data": {
      "application/javascript": [
       "(function(root) {\n",
       "  function embed_document(root) {\n",
       "    \n",
       "  var docs_json = {\"d341afe3-d966-48c9-af50-cf58bf463bf8\":{\"roots\":{\"references\":[{\"attributes\":{\"dimension\":1,\"plot\":{\"id\":\"a1e9146e-c681-491c-ba34-f0d78a660e69\",\"subtype\":\"Figure\",\"type\":\"Plot\"},\"ticker\":{\"id\":\"a42e049b-03b2-4b04-b6f5-ce9134623f43\",\"type\":\"BasicTicker\"}},\"id\":\"f46e4259-3104-4d3e-b204-d57d1d2bc027\",\"type\":\"Grid\"},{\"attributes\":{\"plot\":null,\"text\":\"Measured Values VS Predicted Values\"},\"id\":\"f5d8895d-a4b7-4e34-bdac-4800062872fb\",\"type\":\"Title\"},{\"attributes\":{\"data_source\":{\"id\":\"e15e7e8e-0765-474c-9bfc-fb4d7df7b81e\",\"type\":\"ColumnDataSource\"},\"glyph\":{\"id\":\"589c643b-0404-4884-8664-2a257ddfe020\",\"type\":\"Circle\"},\"hover_glyph\":null,\"muted_glyph\":null,\"nonselection_glyph\":{\"id\":\"3de214dd-50b0-4e4e-aa0d-34be939e62e1\",\"type\":\"Circle\"},\"selection_glyph\":null,\"view\":{\"id\":\"daafd2c2-25f4-442a-b20f-1dbd92f62dc7\",\"type\":\"CDSView\"}},\"id\":\"f3220b0f-314e-41f0-bad3-2698cfa3bbd5\",\"type\":\"GlyphRenderer\"},{\"attributes\":{},\"id\":\"1125e96d-a2e2-44e9-b121-17e6e0a3ef9c\",\"type\":\"LinearScale\"},{\"attributes\":{\"callback\":null,\"column_names\":[\"x\",\"y\"],\"data\":{\"x\":{\"__ndarray__\":\"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\",\"dtype\":\"float64\",\"shape\":[300]},\"y\":{\"__ndarray__\":\"FG3ltkbUcUE9NlJ3XehlQS3iXEFXW1FBcJjF3aJqXkEAv25MN25nQS5gVZmKFXBBj/og2CxiIEFagLU8vB9PQV6s6VHXrldBljWDrlomZUE56+S7zYRhQS/QDLiA/FpB97w1p0ioZ0H1NQQ/i4tQQfE3AxsA0GBBjBTdjBSILUGDpJ2fpTxsQd5I4bVC0UZBh/OT3sa7DUH7oJ7IgNAyQc1OSasaJCJBHaCXzfjMX0FK7WN2n6xUQTuhpDTrSFNBUmDS2pA5akGLWH2/kp5pQekX+mj3NCZBjI50B8fjNkHLnQ55sMRpQWoIpRgbVedAM4bmxAkGa0HWzdvaK+dlQWuTbligs2JBbQxDMsKBZ0E0WiYi8MxYQfLooWsRKWNB9SCp0Y2fbEGMopCZaIhWQWtjqs7MtWxBrXJa0/CyUkHH2RngP/RNQTz4AavWA3BBsIYMOTtOZEHycblowIhmQZAaJ1zND1BBowfTtH/vZ0EOe7Gfrp1rQYdFP0dKyUBBUhw5ljWIVEE/QvsY+4ZiQZjowfmAoVRBKjKUvx4mVUGJF2FMwIlTQUqf0T7palpBLyrqehhMaEF5ybqd8WliQZQ9XxaHClBBfhyDZW4aUkG4xulSvpxuQXLB6msxhlRBsn3IVoL6YUFPN8RsPuJjQRB6EMb29EJB+5XhNOaVSUHy94HGFe9ZQeVKtuFZVUhBTavatjR3UkF6hAIzW71hQSsw7kNv6lFBuoycohr+YEHuXzohUR1jQbGmAs55zlJBQx+gm8jFZUHHGTiV0zNPQektukW/iG1Bze+VwwACXkEigfQJLOlaQTD8GEmgUmxB7meSyi9XX0EjGMcETFtlQZc0CfM9yE9Bmv2vxsqSW0Egqprpep5cQbOzzEyJB21Bsh6VLx5eb0H3mZwJLo9lQaaPSyi7dFBBcJPJQ3tnX0Fu5ccQlKBgQZlGcKUi/WtB6nqWVS7SX0F5uXd84cNcQb8IDJBQanFBapis5WmWUkGhdN9q4PBjQXWgeandSGBBENB1qAEDYUEL6NfZj8Y/QbasDFa2TllB8aY4mjRIZUHsB9nwEotpQW1pGwgXX2xBN6W4f0r2MUGgaicz3QtrQYerVTABuVVBPmVYy56IYUFGBYg4Eh1iQUEEwHYqt2VBQlIct38qb0G4iL78zi9MQZGAcpIztztBIsGQ3CraXkELuztxirRdQSn+2keuKmFBCwCkfPZCTEFO+2wzW6tYQRbdek42x2NBbFnOGO9jVUHgF8bf5IFdQTK9fxvwH1xBQZoTuoNIaEGtCE6aIpNuQaKbAa9kajtBm0+RFmMXcEFS0NUbiVguQeXEdPNk2WlBsJaAxuPnWkEpa4hJqVRSQfu9Abt8tWtBJMQ2wM/HYUGxTxmMyathQWNWeP30IGVB2KpeMNGaY0FZNMFO3ANmQYQs/S49hGZB1Byi2S+gY0E09Xg59fBTQeVlfVoG8QJBWLn9923bYUEG9KzB/CNsQegEgE/3HT1BRsgK+WXHYUFAR1S9qbhgQU2ysaiK6kxBM8iaiRDAUkGIuSHSmZNVQanvYu1cjFdBx4Qz78PJV0G/LwE/jJQtQU/c7tdvcCBBToyhjozOT0EOuKGZD3EiQW09CW4y8ltBwlvR+72WZ0G+QL0eOhJvQe2Et85Qpm5B5cZGPwjbXkEfL5amCCpWQcJHH0wZ5nBBMa7Dff1CYUEpRfYoYw1kQfmc7DodEGtBuodWP4GbZUGoMmAKe8NqQbs/ISi0QW5BSnnjdjtGVUHF0WZR9r5XQTe8+pNAEm5BinyJq425WEG9Miru0RlXQV9COhn8gG9B5qEhrEMgaUGA+atXSjBDQYaC8UEN32lBQMEgX32oW0GeLm5boUNnQfpa17g07E1BFfruZI3QYkFV0/1YSaxqQdoGi004ikJBmdmIxrlQbkEl/yNz1m5vQUfOMVZxgl9BjWvqXzCkUUE5JoHR9KFrQVbA3Bai1WpBfBhvSburZUHC5qZxVJJeQW7ePsSpf2lBzMpY/xvPSEEWWR8ERDhpQXD8yLgyJGlBqntp7l2BWkHGU7Vfhtf+QItxMeZ88mhBcITpg42IZkER7+h+9IJmQei8BuPNvkxBeS430p2NZEFQYhSFKBpGQVP6/5xFHWRBRNZRa7gtYEFZxttpwbRXQcoPdVZb1m9BTXIo2dUBaEGuztnslpphQV0K9x8mMWlBTw6iJOsxYEEcsehW3HZgQQR2SS59xW9BhLPfnUQzQEEwBB06rVhlQdJSF/RGBiRBcI+9dKQFa0HxoLOGzlxsQbZb3vIcXnFBXJq8S2VIRUGdKX5fCA5FQbW/+lBYGSVB7ir0ThknYUE9Z/PSIL9qQQLNsEpiMWBBtp1hM5jVbUEua6aQL5JTQWCawh6Z8VhB1c289bHBUEEzHLhiGq9hQS3EFf+11FxBSQbLgiq6FUHGW5UH+8FeQQ7qKYDLW2NB5ShRhe+wVEFmgROKPuJkQWkIEP7hN2xBfq2ZUCxaLkFcGZjNR1E2QRFh3U6OD2hB7V6RSxXYSEFWxdrLNTRoQcLIFq2q4UZBwTs0tMeAYUG9e8ys1VBeQS5NMt2xO01BWq2kPVJ1WUHiPj2j1ApxQVOlgLCpBGBBoV++D2v6U0GDpW6MBvDwQAGIpws54mBBUwNVh6L/ZUEXDz3spQFQQWTtoN/1WGZBwm7vGUA/NEHKhClmqO9uQcZz3ypUsTRBXk/LZ8WhaEEBZcC7nnNmQT5xozvMel5BXYbHOd6yakEmE/Vw8RwjQern5sbxEnBBHaqyySpoaEEvYl+oc0deQePaKsSJY0JBeKdQ+r4NaUHu/iaTO89hQSEBFr7r/GlBizmOKNO2XUFgEF7BmldWQTY03j5HAlxBJ8I2gbmtZEGkeZF+BupfQdwZlzJfjydBMQ/abj3LQ0ETr5rM+ZRkQeWsS8VgLGpB9RbbTHyja0F8yu4qrzBhQQM4Oyv/ul9B1GpjhQ8dQ0EVZwpKPRxuQQUuqd8pb1FBv6Uy9PaiV0F1Qi7RYABtQUwaJIIaimVBQZMKL7LOI0EGpxJfVGFpQe0YwfgnAW1BAXiQgdM/Q0EUa34A1v5JQZEzZTZzmGVBIK28vy0pS0EZanWtGWZmQca/SirH2mtB8roKDTdKZkH844xAf8BCQY+veEpXkm5BK4vnu+EscUHPxQL/2bdfQfZ6IA3XqwhB\",\"dtype\":\"float64\",\"shape\":[300]}}},\"id\":\"e15e7e8e-0765-474c-9bfc-fb4d7df7b81e\",\"type\":\"ColumnDataSource\"},{\"attributes\":{\"source\":{\"id\":\"e15e7e8e-0765-474c-9bfc-fb4d7df7b81e\",\"type\":\"ColumnDataSource\"}},\"id\":\"daafd2c2-25f4-442a-b20f-1dbd92f62dc7\",\"type\":\"CDSView\"},{\"attributes\":{\"callback\":null},\"id\":\"9bc10647-7091-4e72-b4ea-79d64f689d23\",\"type\":\"DataRange1d\"},{\"attributes\":{\"axis_label\":\"y pred\",\"formatter\":{\"id\":\"ce5d8412-ff15-41fb-9868-d662945890cd\",\"type\":\"BasicTickFormatter\"},\"plot\":{\"id\":\"a1e9146e-c681-491c-ba34-f0d78a660e69\",\"subtype\":\"Figure\",\"type\":\"Plot\"},\"ticker\":{\"id\":\"a42e049b-03b2-4b04-b6f5-ce9134623f43\",\"type\":\"BasicTicker\"}},\"id\":\"9dc0fc87-3ce4-4b3d-b4af-474a7f142866\",\"type\":\"LinearAxis\"},{\"attributes\":{},\"id\":\"8c6b97f2-b065-4658-af64-b8009e7a78f2\",\"type\":\"BasicTicker\"},{\"attributes\":{\"callback\":null},\"id\":\"16258ec1-271c-4c4e-bd0e-f28dec9a0888\",\"type\":\"DataRange1d\"},{\"attributes\":{},\"id\":\"1382d8b0-96db-4051-b0e5-b993737c0250\",\"type\":\"LinearScale\"},{\"attributes\":{\"axis_label\":\"y val\",\"formatter\":{\"id\":\"119d68f9-4485-4947-9021-84ab1ff66db7\",\"type\":\"BasicTickFormatter\"},\"plot\":{\"id\":\"a1e9146e-c681-491c-ba34-f0d78a660e69\",\"subtype\":\"Figure\",\"type\":\"Plot\"},\"ticker\":{\"id\":\"8c6b97f2-b065-4658-af64-b8009e7a78f2\",\"type\":\"BasicTicker\"}},\"id\":\"5bb2961f-c4d0-47cb-8bcc-025e9ab6f6e5\",\"type\":\"LinearAxis\"},{\"attributes\":{},\"id\":\"a42e049b-03b2-4b04-b6f5-ce9134623f43\",\"type\":\"BasicTicker\"},{\"attributes\":{\"active_drag\":\"auto\",\"active_inspect\":\"auto\",\"active_scroll\":\"auto\",\"active_tap\":\"auto\",\"tools\":[{\"id\":\"3716917b-14ec-401b-8948-2cad4295944c\",\"type\":\"PanTool\"},{\"id\":\"c1835545-34ad-4d9f-89e5-8eb62d360648\",\"type\":\"WheelZoomTool\"},{\"id\":\"a4f43a58-7e0c-4d53-ac98-87b56a15a146\",\"type\":\"BoxZoomTool\"},{\"id\":\"99198bfa-95dd-409d-83ff-027b780ae978\",\"type\":\"SaveTool\"},{\"id\":\"f6119d9c-8d5a-445d-b25b-47a3344e155f\",\"type\":\"ResetTool\"},{\"id\":\"2ea681f9-ff3d-47e1-9c4b-a486d4fdb740\",\"type\":\"HelpTool\"}]},\"id\":\"25912e8d-23f9-437e-b27c-9728bf35568e\",\"type\":\"Toolbar\"},{\"attributes\":{},\"id\":\"ce5d8412-ff15-41fb-9868-d662945890cd\",\"type\":\"BasicTickFormatter\"},{\"attributes\":{\"plot\":{\"id\":\"a1e9146e-c681-491c-ba34-f0d78a660e69\",\"subtype\":\"Figure\",\"type\":\"Plot\"},\"ticker\":{\"id\":\"8c6b97f2-b065-4658-af64-b8009e7a78f2\",\"type\":\"BasicTicker\"}},\"id\":\"4bd23748-1877-4600-9e1e-d197057ec3d2\",\"type\":\"Grid\"},{\"attributes\":{\"fill_alpha\":{\"value\":0.5},\"fill_color\":{\"value\":\"blue\"},\"line_alpha\":{\"value\":0.2},\"size\":{\"units\":\"screen\",\"value\":8},\"x\":{\"field\":\"x\"},\"y\":{\"field\":\"y\"}},\"id\":\"589c643b-0404-4884-8664-2a257ddfe020\",\"type\":\"Circle\"},{\"attributes\":{\"below\":[{\"id\":\"5bb2961f-c4d0-47cb-8bcc-025e9ab6f6e5\",\"type\":\"LinearAxis\"}],\"left\":[{\"id\":\"9dc0fc87-3ce4-4b3d-b4af-474a7f142866\",\"type\":\"LinearAxis\"}],\"plot_height\":400,\"renderers\":[{\"id\":\"5bb2961f-c4d0-47cb-8bcc-025e9ab6f6e5\",\"type\":\"LinearAxis\"},{\"id\":\"4bd23748-1877-4600-9e1e-d197057ec3d2\",\"type\":\"Grid\"},{\"id\":\"9dc0fc87-3ce4-4b3d-b4af-474a7f142866\",\"type\":\"LinearAxis\"},{\"id\":\"f46e4259-3104-4d3e-b204-d57d1d2bc027\",\"type\":\"Grid\"},{\"id\":\"0cd46635-bf72-4d9d-bb60-9c1085cc9090\",\"type\":\"BoxAnnotation\"},{\"id\":\"f3220b0f-314e-41f0-bad3-2698cfa3bbd5\",\"type\":\"GlyphRenderer\"}],\"title\":{\"id\":\"f5d8895d-a4b7-4e34-bdac-4800062872fb\",\"type\":\"Title\"},\"toolbar\":{\"id\":\"25912e8d-23f9-437e-b27c-9728bf35568e\",\"type\":\"Toolbar\"},\"x_range\":{\"id\":\"16258ec1-271c-4c4e-bd0e-f28dec9a0888\",\"type\":\"DataRange1d\"},\"x_scale\":{\"id\":\"1125e96d-a2e2-44e9-b121-17e6e0a3ef9c\",\"type\":\"LinearScale\"},\"y_range\":{\"id\":\"9bc10647-7091-4e72-b4ea-79d64f689d23\",\"type\":\"DataRange1d\"},\"y_scale\":{\"id\":\"1382d8b0-96db-4051-b0e5-b993737c0250\",\"type\":\"LinearScale\"}},\"id\":\"a1e9146e-c681-491c-ba34-f0d78a660e69\",\"subtype\":\"Figure\",\"type\":\"Plot\"},{\"attributes\":{\"bottom_units\":\"screen\",\"fill_alpha\":{\"value\":0.5},\"fill_color\":{\"value\":\"lightgrey\"},\"left_units\":\"screen\",\"level\":\"overlay\",\"line_alpha\":{\"value\":1.0},\"line_color\":{\"value\":\"black\"},\"line_dash\":[4,4],\"line_width\":{\"value\":2},\"plot\":null,\"render_mode\":\"css\",\"right_units\":\"screen\",\"top_units\":\"screen\"},\"id\":\"0cd46635-bf72-4d9d-bb60-9c1085cc9090\",\"type\":\"BoxAnnotation\"},{\"attributes\":{},\"id\":\"3716917b-14ec-401b-8948-2cad4295944c\",\"type\":\"PanTool\"},{\"attributes\":{},\"id\":\"2ea681f9-ff3d-47e1-9c4b-a486d4fdb740\",\"type\":\"HelpTool\"},{\"attributes\":{},\"id\":\"119d68f9-4485-4947-9021-84ab1ff66db7\",\"type\":\"BasicTickFormatter\"},{\"attributes\":{},\"id\":\"c1835545-34ad-4d9f-89e5-8eb62d360648\",\"type\":\"WheelZoomTool\"},{\"attributes\":{},\"id\":\"f6119d9c-8d5a-445d-b25b-47a3344e155f\",\"type\":\"ResetTool\"},{\"attributes\":{\"overlay\":{\"id\":\"0cd46635-bf72-4d9d-bb60-9c1085cc9090\",\"type\":\"BoxAnnotation\"}},\"id\":\"a4f43a58-7e0c-4d53-ac98-87b56a15a146\",\"type\":\"BoxZoomTool\"},{\"attributes\":{\"fill_alpha\":{\"value\":0.1},\"fill_color\":{\"value\":\"#1f77b4\"},\"line_alpha\":{\"value\":0.1},\"line_color\":{\"value\":\"#1f77b4\"},\"size\":{\"units\":\"screen\",\"value\":8},\"x\":{\"field\":\"x\"},\"y\":{\"field\":\"y\"}},\"id\":\"3de214dd-50b0-4e4e-aa0d-34be939e62e1\",\"type\":\"Circle\"},{\"attributes\":{},\"id\":\"99198bfa-95dd-409d-83ff-027b780ae978\",\"type\":\"SaveTool\"}],\"root_ids\":[\"a1e9146e-c681-491c-ba34-f0d78a660e69\"]},\"title\":\"Bokeh Application\",\"version\":\"0.12.13\"}};\n",
       "  var render_items = [{\"docid\":\"d341afe3-d966-48c9-af50-cf58bf463bf8\",\"elementid\":\"4f3f3797-9a95-4241-9a95-c39abf4de1f4\",\"modelid\":\"a1e9146e-c681-491c-ba34-f0d78a660e69\"}];\n",
       "  root.Bokeh.embed.embed_items_notebook(docs_json, render_items);\n",
       "\n",
       "  }\n",
       "  if (root.Bokeh !== undefined) {\n",
       "    embed_document(root);\n",
       "  } else {\n",
       "    var attempts = 0;\n",
       "    var timer = setInterval(function(root) {\n",
       "      if (root.Bokeh !== undefined) {\n",
       "        embed_document(root);\n",
       "        clearInterval(timer);\n",
       "      }\n",
       "      attempts++;\n",
       "      if (attempts > 100) {\n",
       "        console.log(\"Bokeh: ERROR: Unable to run BokehJS code because BokehJS library is missing\")\n",
       "        clearInterval(timer);\n",
       "      }\n",
       "    }, 10, root)\n",
       "  }\n",
       "})(window);"
      ],
      "application/vnd.bokehjs_exec.v0+json": ""
     },
     "metadata": {
      "application/vnd.bokehjs_exec.v0+json": {
       "id": "a1e9146e-c681-491c-ba34-f0d78a660e69"
      }
     },
     "output_type": "display_data"
    }
   ],
   "source": [
    "# Plot the data and the model prediction\n",
    "yp = model.predict(Xvs)\n",
    "fig = bk.figure(title='Measured Values VS Predicted Values',\n",
    "                x_axis_label='y val', y_axis_label='y pred',\n",
    "                plot_width=600, plot_height=400)\n",
    "fig.circle(yv['measured'], yp[:,0], size=8,\n",
    "           fill_color='blue', fill_alpha=0.5, line_color='black', alpha=0.2)\n",
    "bk.show(fig)"
   ]
  },
  {
   "cell_type": "markdown",
   "metadata": {},
   "source": [
    "### 3.2 Example: Training and a Validation Sets on a Classification Problem"
   ]
  },
  {
   "cell_type": "markdown",
   "metadata": {},
   "source": [
    "The K-neighbors is an instance-based classifier that predicts the label of an unknown point based on the labels of the *K* nearest points in the parameter space:"
   ]
  },
  {
   "cell_type": "code",
   "execution_count": 24,
   "metadata": {},
   "outputs": [
    {
     "name": "stdout",
     "output_type": "stream",
     "text": [
      "[[178   0   0   0   0   0   0   0   0   0]\n",
      " [  0 182   0   0   0   0   0   0   0   0]\n",
      " [  0   0 177   0   0   0   0   0   0   0]\n",
      " [  0   0   0 183   0   0   0   0   0   0]\n",
      " [  0   0   0   0 181   0   0   0   0   0]\n",
      " [  0   0   0   0   0 182   0   0   0   0]\n",
      " [  0   0   0   0   0   0 181   0   0   0]\n",
      " [  0   0   0   0   0   0   0 179   0   0]\n",
      " [  0   0   0   0   0   0   0   0 174   0]\n",
      " [  0   0   0   0   0   0   0   0   0 180]]\n",
      "\n",
      "F1 Score:   1.0\n"
     ]
    }
   ],
   "source": [
    "from sklearn import neighbors\n",
    "digits = datasets.load_digits()\n",
    "X, y = digits.data, digits.target\n",
    "\n",
    "clf = neighbors.KNeighborsClassifier(n_neighbors=1)\n",
    "clf.fit(X, y)\n",
    "y_pred = clf.predict(X)\n",
    "print(metrics.confusion_matrix(y_pred, y))\n",
    "print('\\nF1 Score:  ', metrics.f1_score(y_pred, y, average='weighted'))"
   ]
  },
  {
   "cell_type": "markdown",
   "metadata": {},
   "source": [
    "Apparently, we've found a perfect classifier!  But this is misleading for the reasons we saw before: the classifier essentially \"memorizes\" all the samples it has already seen.  To really test how well this algorithm does, we need to try some samples it *hasn't* yet seen.\n",
    "\n",
    "Here we split the original data in **Training** and **Validation** sets and run again the previous algorithm. In this case we see that we still have a good classifier but the precision is reduced:"
   ]
  },
  {
   "cell_type": "code",
   "execution_count": 25,
   "metadata": {},
   "outputs": [
    {
     "name": "stdout",
     "output_type": "stream",
     "text": [
      "[[60  0  0  0  0  0  0  0  0  0]\n",
      " [ 0 73  0  0  0  0  0  0  0  0]\n",
      " [ 0  0 71  0  0  0  0  0  0  0]\n",
      " [ 0  0  0 70  0  0  0  0  0  0]\n",
      " [ 0  0  0  0 63  0  0  0  0  0]\n",
      " [ 0  0  0  0  0 87  1  0  0  1]\n",
      " [ 0  0  0  0  0  0 76  0  0  0]\n",
      " [ 0  0  0  0  0  0  0 65  0  0]\n",
      " [ 0  2  0  1  0  0  0  0 74  1]\n",
      " [ 0  0  0  2  0  1  0  0  0 71]]\n",
      "\n",
      "F1 Score:   0.9874410807522929\n"
     ]
    }
   ],
   "source": [
    "X_tr, X_valid, y_tr, y_valid = model_selection.train_test_split(X, \n",
    "                                                                 y,\n",
    "                                                                 test_size=0.40, \n",
    "                                                                 random_state=0)\n",
    "clf = neighbors.KNeighborsClassifier(n_neighbors=1).fit(X_tr, y_tr)\n",
    "y_pred = clf.predict(X_valid)\n",
    "print(metrics.confusion_matrix(y_valid, y_pred))\n",
    "print('\\nF1 Score:  ', metrics.f1_score(y_valid, y_pred, average='weighted'))"
   ]
  },
  {
   "cell_type": "markdown",
   "metadata": {},
   "source": [
    "## 4 Do I need a Simple or a Complex Model?"
   ]
  },
  {
   "cell_type": "markdown",
   "metadata": {},
   "source": [
    "In order to show the relation between the size of the training dataset and the complexity of the model we generate some example data in the same way we did in the very first example but with more than ten times the number of samples. The we fit a polynomial model and we plot the error w.r.t. the degree of polynomial.\n",
    "\n",
    "Here **Training Data** are plotted in **Blue** while **Validation Data** are **Red**:"
   ]
  },
  {
   "cell_type": "code",
   "execution_count": 26,
   "metadata": {},
   "outputs": [
    {
     "data": {
      "text/html": [
       "\n",
       "<div class=\"bk-root\">\n",
       "    <div class=\"bk-plotdiv\" id=\"df6091c4-a851-438f-aecf-ebaabfe8de7f\"></div>\n",
       "</div>"
      ]
     },
     "metadata": {},
     "output_type": "display_data"
    },
    {
     "data": {
      "application/javascript": [
       "(function(root) {\n",
       "  function embed_document(root) {\n",
       "    \n",
       "  var docs_json = {\"e40a9595-e076-47a4-9ad8-4d014a38ab4e\":{\"roots\":{\"references\":[{\"attributes\":{\"callback\":null,\"column_names\":[\"x\",\"y\"],\"data\":{\"x\":{\"__ndarray__\":\"2Jc0FZVb4j/YtC75/V+9PwiUZbjGpMA/opmcsKa/4z9E7SpnxZjBP9hrK7v4eeA/uKul8Qen7j/k4TTmX9fHPwDuSBeDg2c/neT4rYY45j+QAhLRljK6Pyp5ma/kf9o/IADBm0mq3D8ikEts7uTjP5VwpuVAteo/MLX98H+TqT/z2gKTGavsPxAGNrP/++4/YcQpIqvo7D9YHIwadcW1P/aukVvL8tE/Ej4LSZfb4j8C8ws8+N/uP8CsZ0R+C5w/8NBvilMqxT+asU6MiXPZPwEljRqnBug/XCZTxOmB2j+guV+EKbqSP9yqBv8y+ME/sX2kAsCk7z+wWIEgYDvnP55Ll2of9eM/ShbrvIkZ7D/9xMIiC0TsP/yo8tAAvcU/QDBGrs7TwT+QpnkR/f6jP/t6YuA2E+0/8PwMl9hl2z8AwGFmkPsdP/8cFit86Ow/4A8jeWgx1D/dmkFMN2LuP4hk+hJCLbk//lqoMx+12j8wHSLL0PflPycjGXJR7eU/Am9qbbgH6D9o7nF5Jq7tP00Q/qnpOuU/VPhNfwDIwj/AqDEZ+fDnP1SfYpf8PeE/eDVkarf+0D+s6zRs5lbOP/Ss10Jcy9w/R1OPRM495T9YDr5IJA/UP5SWEsKBJ+Y/\",\"dtype\":\"float64\",\"shape\":[60]},\"y\":{\"__ndarray__\":\"bMFaU47VIkBYJsL0q1oXQBrjPviweh5AYBbTvsG2IEDmuSTD97QXQADov1M8iyBAFowrsy6XI0AbyorHKyMZQH7zfalzdQZAXXi2DAaGIkDvUgj352YXQKup2uyAuR1AGnvQct4qIUA4c7DxraIgQAwVKHiMfSJAooIV+1GIEECziR2q0n4fQD84n5NQSCJAnDmMdtIQI0AuSU7jU5gQQML49qfIVB1AYEW7Cd5GHUBLQ4DpsiAgQOBbmzOSLAJA4qKeifCnG0CHuq7VQXIgQF/g5qYZuiNAGwnFzaukG0DXDtBwTSMDQNiVI83o2xVAwdTBcUPdIkA3wLyZ4PMlQIBVv8Y3CSFAKm6Drtu1IkBkQqdESdkiQF22ZQYzyhpAjypkSh6YF0C0825J5CEQQKvRSW/C9yFAPJWQrG9bHkBYub8+q93SvyVt7c2AtiBA26OdSf2AHkBtwuUUsr4hQDFf8OBF6A5A/v8WxBmIIkAmkaRp9WsdQD539KzisCFATSDtV3RgIUCkYwFz7W4hQDJKTuO84CFAXLeci0ZfFUDHAggU6QgeQCRJavF2sCFAQKc2CtdoHkCqL1lDy4sUQABAxB7yVSJAGDdvlyMCIUCq7jzUBPMcQLDgc8MekCFA\",\"dtype\":\"float64\",\"shape\":[60]}}},\"id\":\"f269e8b2-aab4-46c3-9ce0-59df9581295c\",\"type\":\"ColumnDataSource\"},{\"attributes\":{\"callback\":null},\"id\":\"1e610f36-cf45-4812-b637-4c7ac027dd1e\",\"type\":\"DataRange1d\"},{\"attributes\":{\"fill_alpha\":{\"value\":0.5},\"fill_color\":{\"value\":\"red\"},\"line_alpha\":{\"value\":0.5},\"line_color\":{\"value\":\"red\"},\"size\":{\"units\":\"screen\",\"value\":6},\"x\":{\"field\":\"x\"},\"y\":{\"field\":\"y\"}},\"id\":\"a78b00af-6b50-4902-8d68-0c2ed8ef611b\",\"type\":\"Circle\"},{\"attributes\":{\"active_drag\":\"auto\",\"active_inspect\":\"auto\",\"active_scroll\":\"auto\",\"active_tap\":\"auto\",\"tools\":[{\"id\":\"54d35cf2-c75a-42a9-bbb4-d076f6e7f4b1\",\"type\":\"PanTool\"},{\"id\":\"421cbadc-2272-4e48-ba47-ef2184a68a2d\",\"type\":\"WheelZoomTool\"},{\"id\":\"30853b5d-29dd-4cd1-b008-7c10bb99af47\",\"type\":\"BoxZoomTool\"},{\"id\":\"1b5c1cce-9142-415b-a240-f756be17a881\",\"type\":\"SaveTool\"},{\"id\":\"1da6b74b-3173-4f48-a569-84deffaec00c\",\"type\":\"ResetTool\"},{\"id\":\"e63dc407-5f54-4578-bd83-44539f5db2b1\",\"type\":\"HelpTool\"}]},\"id\":\"1255233c-113a-4f08-8eb8-9cb4d5bf9e02\",\"type\":\"Toolbar\"},{\"attributes\":{\"fill_alpha\":{\"value\":0.1},\"fill_color\":{\"value\":\"#1f77b4\"},\"line_alpha\":{\"value\":0.1},\"line_color\":{\"value\":\"#1f77b4\"},\"size\":{\"units\":\"screen\",\"value\":6},\"x\":{\"field\":\"x\"},\"y\":{\"field\":\"y\"}},\"id\":\"48303f70-385c-44cd-ac78-a93fe8fe96ab\",\"type\":\"Circle\"},{\"attributes\":{\"callback\":null},\"id\":\"2c8de589-6e9f-4e48-a8ef-c39d121cdd1e\",\"type\":\"DataRange1d\"},{\"attributes\":{\"data_source\":{\"id\":\"9ad57d67-91f4-4685-b374-fdd26edfa580\",\"type\":\"ColumnDataSource\"},\"glyph\":{\"id\":\"a78b00af-6b50-4902-8d68-0c2ed8ef611b\",\"type\":\"Circle\"},\"hover_glyph\":null,\"muted_glyph\":null,\"nonselection_glyph\":{\"id\":\"48303f70-385c-44cd-ac78-a93fe8fe96ab\",\"type\":\"Circle\"},\"selection_glyph\":null,\"view\":{\"id\":\"6fe79169-8ede-451b-80d0-3bce60116d3f\",\"type\":\"CDSView\"}},\"id\":\"afa5e921-e356-4dcf-a593-40123beed091\",\"type\":\"GlyphRenderer\"},{\"attributes\":{\"fill_alpha\":{\"value\":0.1},\"fill_color\":{\"value\":\"#1f77b4\"},\"line_alpha\":{\"value\":0.1},\"line_color\":{\"value\":\"#1f77b4\"},\"size\":{\"units\":\"screen\",\"value\":6},\"x\":{\"field\":\"x\"},\"y\":{\"field\":\"y\"}},\"id\":\"4790e8c8-07a9-413c-b7b0-ffeaa635bf65\",\"type\":\"Circle\"},{\"attributes\":{\"source\":{\"id\":\"9ad57d67-91f4-4685-b374-fdd26edfa580\",\"type\":\"ColumnDataSource\"}},\"id\":\"6fe79169-8ede-451b-80d0-3bce60116d3f\",\"type\":\"CDSView\"},{\"attributes\":{\"data_source\":{\"id\":\"f269e8b2-aab4-46c3-9ce0-59df9581295c\",\"type\":\"ColumnDataSource\"},\"glyph\":{\"id\":\"c79962a2-b7df-4a3c-8d69-c14984a1ba12\",\"type\":\"Circle\"},\"hover_glyph\":null,\"muted_glyph\":null,\"nonselection_glyph\":{\"id\":\"4790e8c8-07a9-413c-b7b0-ffeaa635bf65\",\"type\":\"Circle\"},\"selection_glyph\":null,\"view\":{\"id\":\"af7d34d6-df7e-4466-b0fe-6bb855668315\",\"type\":\"CDSView\"}},\"id\":\"7ed7b8ad-5b30-4d27-9056-7d7a931243a3\",\"type\":\"GlyphRenderer\"},{\"attributes\":{\"fill_alpha\":{\"value\":0.5},\"fill_color\":{\"value\":\"blue\"},\"line_alpha\":{\"value\":0.5},\"line_color\":{\"value\":\"blue\"},\"size\":{\"units\":\"screen\",\"value\":6},\"x\":{\"field\":\"x\"},\"y\":{\"field\":\"y\"}},\"id\":\"c79962a2-b7df-4a3c-8d69-c14984a1ba12\",\"type\":\"Circle\"},{\"attributes\":{\"callback\":null,\"column_names\":[\"x\",\"y\"],\"data\":{\"x\":{\"__ndarray__\":\"REh0vGNbyT+KlYE6FdTaPy6MX2Vt89o/TC3aon9G0T/0CP63alnTP6nlp0d4dOU/PAXHo+XIwj8MYhjHfSvKP+dwxO8qguI/UfC68+UM5z94pYJBJtbpP06P7KRrZOY/HG8uOBAm4T/nnq5OvhnsPzTUrETvdd8/0P9YAgVtuj8LCbl9yeDhP+j7e2ejZNk/3sd1Q2EL7D+AKLSK7tSTP55047jGQek/P6x04itf4j/uGRu2WVTWP86jW72qHdY/UDKRTqEWyz+y3apLBbnlP+MLUSeeoOw/TtYJ0+ke2j+slCh52yPmP18n3RKzn+k/EMqwjICjtz8Q5zfkVVKrP7cBf6YuAeg/C1KIEw/F4j8iGjr/ksrSP8hKyqSwD+E/arf0QOlq0j8GPPoPfbDaPz+EHsgeOu4/7myRvMtB1j8=\",\"dtype\":\"float64\",\"shape\":[40]},\"y\":{\"__ndarray__\":\"tA6USt4GGEBweF/zYosgQIDAjoQzgCBA0GjnXrhBHUBmq7gOWK8gQCJUqqDDqSNAlvoKScS1GED6Od4L0y0YQFZGfM+ZeiFAQojTvPoIG0DvhPETWwgjQKoQQIyumSJAEhN1C67yIECCMXWZeCQjQGtVQsT4cBxARL/3RZvNGECKbi/ef1UhQP6dDCzbWCBAzsZCsS22IEAgmySyLSXOv6lbFXT0CR1ADJyHf9urIEAPwmHM8pweQCVrOzAyOB5A7Ezjil/WIEDKnLY4hucjQF52wLSdYiNAUvhmHAlyJECT55GTIfEgQNtVthRpoCJAwLYx31pAFkAUstSnE18RQDo/ObNa2x9A2OSoXXWWIkDwa0+2s7waQBJRm6wj3h1Ai/6Uls9jIUANRRaEUcMgQHyyezy60iNA0IJnDtFTFUA=\",\"dtype\":\"float64\",\"shape\":[40]}}},\"id\":\"9ad57d67-91f4-4685-b374-fdd26edfa580\",\"type\":\"ColumnDataSource\"},{\"attributes\":{},\"id\":\"7769d0f0-72fc-4295-b4f7-5451f7e9da05\",\"type\":\"BasicTicker\"},{\"attributes\":{},\"id\":\"f89d9a45-d5e0-4c48-aa1c-51ab2c7b30a5\",\"type\":\"BasicTickFormatter\"},{\"attributes\":{\"bottom_units\":\"screen\",\"fill_alpha\":{\"value\":0.5},\"fill_color\":{\"value\":\"lightgrey\"},\"left_units\":\"screen\",\"level\":\"overlay\",\"line_alpha\":{\"value\":1.0},\"line_color\":{\"value\":\"black\"},\"line_dash\":[4,4],\"line_width\":{\"value\":2},\"plot\":null,\"render_mode\":\"css\",\"right_units\":\"screen\",\"top_units\":\"screen\"},\"id\":\"0fe318e8-b466-45be-9936-4b8799f5b6ef\",\"type\":\"BoxAnnotation\"},{\"attributes\":{\"formatter\":{\"id\":\"a5865e3c-473a-4693-a468-d70c59e16469\",\"type\":\"BasicTickFormatter\"},\"plot\":{\"id\":\"ba020e87-9a52-419a-81c0-0f617eaf9e52\",\"subtype\":\"Figure\",\"type\":\"Plot\"},\"ticker\":{\"id\":\"7769d0f0-72fc-4295-b4f7-5451f7e9da05\",\"type\":\"BasicTicker\"}},\"id\":\"be220ae6-3666-47fe-99d1-3053c720e4d8\",\"type\":\"LinearAxis\"},{\"attributes\":{},\"id\":\"54d35cf2-c75a-42a9-bbb4-d076f6e7f4b1\",\"type\":\"PanTool\"},{\"attributes\":{\"plot\":{\"id\":\"ba020e87-9a52-419a-81c0-0f617eaf9e52\",\"subtype\":\"Figure\",\"type\":\"Plot\"},\"ticker\":{\"id\":\"7769d0f0-72fc-4295-b4f7-5451f7e9da05\",\"type\":\"BasicTicker\"}},\"id\":\"a47d7d6f-2393-476b-9e3f-d47752488cb9\",\"type\":\"Grid\"},{\"attributes\":{},\"id\":\"421cbadc-2272-4e48-ba47-ef2184a68a2d\",\"type\":\"WheelZoomTool\"},{\"attributes\":{},\"id\":\"be86ede0-78e3-46c1-b8e1-81f73ecc90b2\",\"type\":\"LinearScale\"},{\"attributes\":{},\"id\":\"55eb1a3b-d19d-43ea-b90e-b73e1f962514\",\"type\":\"LinearScale\"},{\"attributes\":{\"overlay\":{\"id\":\"0fe318e8-b466-45be-9936-4b8799f5b6ef\",\"type\":\"BoxAnnotation\"}},\"id\":\"30853b5d-29dd-4cd1-b008-7c10bb99af47\",\"type\":\"BoxZoomTool\"},{\"attributes\":{\"formatter\":{\"id\":\"f89d9a45-d5e0-4c48-aa1c-51ab2c7b30a5\",\"type\":\"BasicTickFormatter\"},\"plot\":{\"id\":\"ba020e87-9a52-419a-81c0-0f617eaf9e52\",\"subtype\":\"Figure\",\"type\":\"Plot\"},\"ticker\":{\"id\":\"c67ba309-6491-4693-a0de-a3214fce6112\",\"type\":\"BasicTicker\"}},\"id\":\"820237b3-5372-459a-ae55-da0ceab970a6\",\"type\":\"LinearAxis\"},{\"attributes\":{\"source\":{\"id\":\"f269e8b2-aab4-46c3-9ce0-59df9581295c\",\"type\":\"ColumnDataSource\"}},\"id\":\"af7d34d6-df7e-4466-b0fe-6bb855668315\",\"type\":\"CDSView\"},{\"attributes\":{},\"id\":\"1b5c1cce-9142-415b-a240-f756be17a881\",\"type\":\"SaveTool\"},{\"attributes\":{},\"id\":\"c67ba309-6491-4693-a0de-a3214fce6112\",\"type\":\"BasicTicker\"},{\"attributes\":{},\"id\":\"1da6b74b-3173-4f48-a569-84deffaec00c\",\"type\":\"ResetTool\"},{\"attributes\":{},\"id\":\"e63dc407-5f54-4578-bd83-44539f5db2b1\",\"type\":\"HelpTool\"},{\"attributes\":{},\"id\":\"a5865e3c-473a-4693-a468-d70c59e16469\",\"type\":\"BasicTickFormatter\"},{\"attributes\":{\"dimension\":1,\"plot\":{\"id\":\"ba020e87-9a52-419a-81c0-0f617eaf9e52\",\"subtype\":\"Figure\",\"type\":\"Plot\"},\"ticker\":{\"id\":\"c67ba309-6491-4693-a0de-a3214fce6112\",\"type\":\"BasicTicker\"}},\"id\":\"7889206e-e7da-4686-953c-da9178708ee1\",\"type\":\"Grid\"},{\"attributes\":{\"below\":[{\"id\":\"be220ae6-3666-47fe-99d1-3053c720e4d8\",\"type\":\"LinearAxis\"}],\"left\":[{\"id\":\"820237b3-5372-459a-ae55-da0ceab970a6\",\"type\":\"LinearAxis\"}],\"plot_height\":400,\"plot_width\":700,\"renderers\":[{\"id\":\"be220ae6-3666-47fe-99d1-3053c720e4d8\",\"type\":\"LinearAxis\"},{\"id\":\"a47d7d6f-2393-476b-9e3f-d47752488cb9\",\"type\":\"Grid\"},{\"id\":\"820237b3-5372-459a-ae55-da0ceab970a6\",\"type\":\"LinearAxis\"},{\"id\":\"7889206e-e7da-4686-953c-da9178708ee1\",\"type\":\"Grid\"},{\"id\":\"0fe318e8-b466-45be-9936-4b8799f5b6ef\",\"type\":\"BoxAnnotation\"},{\"id\":\"7ed7b8ad-5b30-4d27-9056-7d7a931243a3\",\"type\":\"GlyphRenderer\"},{\"id\":\"afa5e921-e356-4dcf-a593-40123beed091\",\"type\":\"GlyphRenderer\"}],\"title\":null,\"toolbar\":{\"id\":\"1255233c-113a-4f08-8eb8-9cb4d5bf9e02\",\"type\":\"Toolbar\"},\"x_range\":{\"id\":\"2c8de589-6e9f-4e48-a8ef-c39d121cdd1e\",\"type\":\"DataRange1d\"},\"x_scale\":{\"id\":\"55eb1a3b-d19d-43ea-b90e-b73e1f962514\",\"type\":\"LinearScale\"},\"y_range\":{\"id\":\"1e610f36-cf45-4812-b637-4c7ac027dd1e\",\"type\":\"DataRange1d\"},\"y_scale\":{\"id\":\"be86ede0-78e3-46c1-b8e1-81f73ecc90b2\",\"type\":\"LinearScale\"}},\"id\":\"ba020e87-9a52-419a-81c0-0f617eaf9e52\",\"subtype\":\"Figure\",\"type\":\"Plot\"}],\"root_ids\":[\"ba020e87-9a52-419a-81c0-0f617eaf9e52\"]},\"title\":\"Bokeh Application\",\"version\":\"0.12.13\"}};\n",
       "  var render_items = [{\"docid\":\"e40a9595-e076-47a4-9ad8-4d014a38ab4e\",\"elementid\":\"df6091c4-a851-438f-aecf-ebaabfe8de7f\",\"modelid\":\"ba020e87-9a52-419a-81c0-0f617eaf9e52\"}];\n",
       "  root.Bokeh.embed.embed_items_notebook(docs_json, render_items);\n",
       "\n",
       "  }\n",
       "  if (root.Bokeh !== undefined) {\n",
       "    embed_document(root);\n",
       "  } else {\n",
       "    var attempts = 0;\n",
       "    var timer = setInterval(function(root) {\n",
       "      if (root.Bokeh !== undefined) {\n",
       "        embed_document(root);\n",
       "        clearInterval(timer);\n",
       "      }\n",
       "      attempts++;\n",
       "      if (attempts > 100) {\n",
       "        console.log(\"Bokeh: ERROR: Unable to run BokehJS code because BokehJS library is missing\")\n",
       "        clearInterval(timer);\n",
       "      }\n",
       "    }, 10, root)\n",
       "  }\n",
       "})(window);"
      ],
      "application/vnd.bokehjs_exec.v0+json": ""
     },
     "metadata": {
      "application/vnd.bokehjs_exec.v0+json": {
       "id": "ba020e87-9a52-419a-81c0-0f617eaf9e52"
      }
     },
     "output_type": "display_data"
    }
   ],
   "source": [
    "from sklearn import model_selection\n",
    "N = 100\n",
    "test_size = 0.40\n",
    "error = 1.0\n",
    "np.random.seed(1)\n",
    "x = np.random.random(N)\n",
    "y = biasvariance.test_func(x, error)\n",
    "x_tr, x_valid, y_tr, y_valid = model_selection.train_test_split(x, y, test_size=test_size)\n",
    "fig = bk.figure(plot_width=700, plot_height=400, title=None)\n",
    "fig.circle(x_tr, y_tr, color='blue', size=6, alpha=0.5)\n",
    "fig.circle(x_valid, y_valid, color='red', size=6, alpha=0.5)\n",
    "bk.show(fig)"
   ]
  },
  {
   "cell_type": "markdown",
   "metadata": {},
   "source": [
    "The **model parameters** *(in our case, the coefficients of the polynomials)* are learned using the **training set**.\n",
    "\n",
    "The **meta-parameters** *(in our case, the degree of the polynomial)* are adjusted so that this **validation error** is minimized.\n",
    "\n",
    "Finally, the labels are predicted for the **test set**.\n",
    "\n",
    "The **validation error** of our polynomial classifier can be visualized by plotting the error as a function of the polynomial degree:"
   ]
  },
  {
   "cell_type": "code",
   "execution_count": 27,
   "metadata": {},
   "outputs": [
    {
     "data": {
      "text/html": [
       "\n",
       "<div class=\"bk-root\">\n",
       "    <div class=\"bk-plotdiv\" id=\"44671c56-5680-4619-a561-bd8e655fa2da\"></div>\n",
       "</div>"
      ]
     },
     "metadata": {},
     "output_type": "display_data"
    },
    {
     "data": {
      "application/javascript": [
       "(function(root) {\n",
       "  function embed_document(root) {\n",
       "    \n",
       "  var docs_json = {\"4e8c7927-f4c3-4630-87a1-03d4bc4ba558\":{\"roots\":{\"references\":[{\"attributes\":{\"bottom_units\":\"screen\",\"fill_alpha\":{\"value\":0.5},\"fill_color\":{\"value\":\"lightgrey\"},\"left_units\":\"screen\",\"level\":\"overlay\",\"line_alpha\":{\"value\":1.0},\"line_color\":{\"value\":\"black\"},\"line_dash\":[4,4],\"line_width\":{\"value\":2},\"plot\":null,\"render_mode\":\"css\",\"right_units\":\"screen\",\"top_units\":\"screen\"},\"id\":\"eee76d9d-7a32-4c12-bbea-404566baa690\",\"type\":\"BoxAnnotation\"},{\"attributes\":{},\"id\":\"e86b76a1-954f-4209-b013-62385bd2194a\",\"type\":\"WheelZoomTool\"},{\"attributes\":{\"callback\":null,\"column_names\":[\"x\",\"y\"],\"data\":{\"x\":[0,1,2,3,4,5,6,7,8,9,10,11,12,13,14,15,16,17,18,19,20,21,22,23,24,25,26,27,28,29,30,31,32,33,34,35,36,37,38,39,40],\"y\":{\"__ndarray__\":\"qC7ypKIP/z/P297JjFz3P/sGX/3aPfM/j9zC4g9L8T+PFcSjysXwP92c+POhi/A/1T8cn+Zl8D9WHZkX2MDwP+/4RsRr7fA/gziIXYXu8D+gZrGz9GHxP9lGduyNX/E/lIEUksJu8T8VE6RWTRzyPyEKaIQTSfI/lyCpg79f8j9LRSaKzH/yPzKx+G1RkvI/uBpR8f+b8j9JAJ+wp3ryP3VVMuXbwvI/8IA84dC18j9WLY9U8aHyP7JMgekzm/M/LZ4dAEy48z8oWGOrzrrzPxdX5P0HIfM/FBoZnagy8z/CNT98Pk3zP2goKnUbcvM/rS42OPT78j9HqyUKq/zyP+xNHy/NBvM/zL2JCHoh8z91W4gn1E/zPwckQjZA/PU/5+4TOtZn9T/g0fUhJNr0P2hujxKcZvQ/6DOCqc4Y9D+Zy+6zfLD6Pw==\",\"dtype\":\"float64\",\"shape\":[41]}}},\"id\":\"2de045fd-2cb1-4ba0-9476-e069717878c4\",\"type\":\"ColumnDataSource\"},{\"attributes\":{\"overlay\":{\"id\":\"eee76d9d-7a32-4c12-bbea-404566baa690\",\"type\":\"BoxAnnotation\"}},\"id\":\"8f633c52-9a2e-4281-ac5a-2011a7442592\",\"type\":\"BoxZoomTool\"},{\"attributes\":{},\"id\":\"762ecc6e-7863-4302-93ba-69920a2631ba\",\"type\":\"SaveTool\"},{\"attributes\":{},\"id\":\"7527d021-c0cb-4067-a05b-9cbd46c93773\",\"type\":\"ResetTool\"},{\"attributes\":{},\"id\":\"5c2cec5b-f1da-464c-bd45-06552bd81168\",\"type\":\"HelpTool\"},{\"attributes\":{\"line_color\":\"green\",\"line_width\":2,\"x\":{\"field\":\"x\"},\"y\":{\"field\":\"y\"}},\"id\":\"73632592-94fa-41d8-aa38-ea7b907b6a0e\",\"type\":\"Line\"},{\"attributes\":{\"items\":[{\"id\":\"fd184a1d-fb0d-4ac3-b871-ff449899cc0b\",\"type\":\"LegendItem\"},{\"id\":\"bed14e8e-f7e9-44b5-939b-c94bf98e3999\",\"type\":\"LegendItem\"},{\"id\":\"c4dc3889-933b-45db-8049-5dfa2d36bac0\",\"type\":\"LegendItem\"}],\"plot\":{\"id\":\"c0d6519e-7ce6-4e1e-b51c-b5cfa23ab863\",\"subtype\":\"Figure\",\"type\":\"Plot\"}},\"id\":\"adc20506-5421-4b0f-9855-436d99dc5495\",\"type\":\"Legend\"},{\"attributes\":{\"grid_line_color\":{\"value\":null},\"plot\":{\"id\":\"c0d6519e-7ce6-4e1e-b51c-b5cfa23ab863\",\"subtype\":\"Figure\",\"type\":\"Plot\"},\"ticker\":{\"id\":\"bb233f79-b70b-45fd-9636-25fc053084bf\",\"type\":\"BasicTicker\"}},\"id\":\"08d87a35-fb4d-42e8-8c39-b37361b90ea5\",\"type\":\"Grid\"},{\"attributes\":{\"label\":{\"value\":\"cross-validation error\"},\"renderers\":[{\"id\":\"e24175ae-2a16-4f14-9b5c-ecbebbe4f5d1\",\"type\":\"GlyphRenderer\"}]},\"id\":\"fd184a1d-fb0d-4ac3-b871-ff449899cc0b\",\"type\":\"LegendItem\"},{\"attributes\":{\"axis_label\":\"rms error\",\"formatter\":{\"id\":\"5ada0cd8-0db3-48c2-ad16-1427c8f18fd4\",\"type\":\"BasicTickFormatter\"},\"plot\":{\"id\":\"c0d6519e-7ce6-4e1e-b51c-b5cfa23ab863\",\"subtype\":\"Figure\",\"type\":\"Plot\"},\"ticker\":{\"id\":\"9914a185-1d06-425f-9cf1-b3a204e3d6a6\",\"type\":\"BasicTicker\"}},\"id\":\"d1c4bfa3-d036-44a7-8e4e-ccb1e1d35c8e\",\"type\":\"LinearAxis\"},{\"attributes\":{\"data_source\":{\"id\":\"ed6aa6b0-3b9e-4b50-9d6d-3cadd707188e\",\"type\":\"ColumnDataSource\"},\"glyph\":{\"id\":\"73632592-94fa-41d8-aa38-ea7b907b6a0e\",\"type\":\"Line\"},\"hover_glyph\":null,\"muted_glyph\":null,\"nonselection_glyph\":{\"id\":\"a106b017-85b2-4a5b-a52a-9b33667baac5\",\"type\":\"Line\"},\"selection_glyph\":null,\"view\":{\"id\":\"955334c5-b1fa-4af5-add5-8425d50069fb\",\"type\":\"CDSView\"}},\"id\":\"76130adf-7b4d-447f-b550-cd30e102cd29\",\"type\":\"GlyphRenderer\"},{\"attributes\":{\"line_alpha\":0.1,\"line_color\":\"#1f77b4\",\"line_width\":2,\"x\":{\"field\":\"x\"},\"y\":{\"field\":\"y\"}},\"id\":\"a106b017-85b2-4a5b-a52a-9b33667baac5\",\"type\":\"Line\"},{\"attributes\":{},\"id\":\"45a2289e-2e67-43ea-a167-b19b9256dddb\",\"type\":\"LinearScale\"},{\"attributes\":{\"callback\":null,\"column_names\":[\"x\",\"y\"],\"data\":{\"x\":[0,20],\"y\":[1.0,1.0]}},\"id\":\"8a0e536a-3b51-46ee-a7b2-e798a0ed1ea5\",\"type\":\"ColumnDataSource\"},{\"attributes\":{\"dimension\":1,\"grid_line_color\":{\"value\":null},\"plot\":{\"id\":\"c0d6519e-7ce6-4e1e-b51c-b5cfa23ab863\",\"subtype\":\"Figure\",\"type\":\"Plot\"},\"ticker\":{\"id\":\"9914a185-1d06-425f-9cf1-b3a204e3d6a6\",\"type\":\"BasicTicker\"}},\"id\":\"2afda7a7-abb5-4bdc-8cc4-18090e764f97\",\"type\":\"Grid\"},{\"attributes\":{\"label\":{\"value\":\"training error\"},\"renderers\":[{\"id\":\"76130adf-7b4d-447f-b550-cd30e102cd29\",\"type\":\"GlyphRenderer\"}]},\"id\":\"bed14e8e-f7e9-44b5-939b-c94bf98e3999\",\"type\":\"LegendItem\"},{\"attributes\":{\"active_drag\":\"auto\",\"active_inspect\":\"auto\",\"active_scroll\":\"auto\",\"active_tap\":\"auto\",\"tools\":[{\"id\":\"ed6292b4-a84a-46ee-b982-81e09ce052bd\",\"type\":\"PanTool\"},{\"id\":\"e86b76a1-954f-4209-b013-62385bd2194a\",\"type\":\"WheelZoomTool\"},{\"id\":\"8f633c52-9a2e-4281-ac5a-2011a7442592\",\"type\":\"BoxZoomTool\"},{\"id\":\"762ecc6e-7863-4302-93ba-69920a2631ba\",\"type\":\"SaveTool\"},{\"id\":\"7527d021-c0cb-4067-a05b-9cbd46c93773\",\"type\":\"ResetTool\"},{\"id\":\"5c2cec5b-f1da-464c-bd45-06552bd81168\",\"type\":\"HelpTool\"}]},\"id\":\"01d0781f-3780-4ea6-898c-db305fc7a997\",\"type\":\"Toolbar\"},{\"attributes\":{\"source\":{\"id\":\"8a0e536a-3b51-46ee-a7b2-e798a0ed1ea5\",\"type\":\"ColumnDataSource\"}},\"id\":\"3739b4f8-a5a4-41e3-a5bd-bc171c92e332\",\"type\":\"CDSView\"},{\"attributes\":{},\"id\":\"ed6292b4-a84a-46ee-b982-81e09ce052bd\",\"type\":\"PanTool\"},{\"attributes\":{\"source\":{\"id\":\"ed6aa6b0-3b9e-4b50-9d6d-3cadd707188e\",\"type\":\"ColumnDataSource\"}},\"id\":\"955334c5-b1fa-4af5-add5-8425d50069fb\",\"type\":\"CDSView\"},{\"attributes\":{\"callback\":null},\"id\":\"d09ae688-0028-41e3-8fa5-7f62d1c8efd0\",\"type\":\"DataRange1d\"},{\"attributes\":{\"line_dash\":[6],\"x\":{\"field\":\"x\"},\"y\":{\"field\":\"y\"}},\"id\":\"e004c496-86ae-4d58-a037-a6c19cab7b11\",\"type\":\"Line\"},{\"attributes\":{},\"id\":\"bb233f79-b70b-45fd-9636-25fc053084bf\",\"type\":\"BasicTicker\"},{\"attributes\":{\"label\":{\"value\":\"intrinsic error\"},\"renderers\":[{\"id\":\"decd37ab-77c9-4ef5-8e87-e9a6998b7211\",\"type\":\"GlyphRenderer\"}]},\"id\":\"c4dc3889-933b-45db-8049-5dfa2d36bac0\",\"type\":\"LegendItem\"},{\"attributes\":{\"line_alpha\":0.1,\"line_color\":\"#1f77b4\",\"line_dash\":[6],\"x\":{\"field\":\"x\"},\"y\":{\"field\":\"y\"}},\"id\":\"8c4f8770-faf1-44f6-bae9-7805b35ecfe9\",\"type\":\"Line\"},{\"attributes\":{\"data_source\":{\"id\":\"8a0e536a-3b51-46ee-a7b2-e798a0ed1ea5\",\"type\":\"ColumnDataSource\"},\"glyph\":{\"id\":\"e004c496-86ae-4d58-a037-a6c19cab7b11\",\"type\":\"Line\"},\"hover_glyph\":null,\"muted_glyph\":null,\"nonselection_glyph\":{\"id\":\"8c4f8770-faf1-44f6-bae9-7805b35ecfe9\",\"type\":\"Line\"},\"selection_glyph\":null,\"view\":{\"id\":\"3739b4f8-a5a4-41e3-a5bd-bc171c92e332\",\"type\":\"CDSView\"}},\"id\":\"decd37ab-77c9-4ef5-8e87-e9a6998b7211\",\"type\":\"GlyphRenderer\"},{\"attributes\":{\"line_color\":\"royalblue\",\"line_width\":2,\"x\":{\"field\":\"x\"},\"y\":{\"field\":\"y\"}},\"id\":\"9e898600-af4d-4f47-913d-d288cb43946b\",\"type\":\"Line\"},{\"attributes\":{},\"id\":\"5ada0cd8-0db3-48c2-ad16-1427c8f18fd4\",\"type\":\"BasicTickFormatter\"},{\"attributes\":{\"source\":{\"id\":\"2de045fd-2cb1-4ba0-9476-e069717878c4\",\"type\":\"ColumnDataSource\"}},\"id\":\"35649c7e-050a-400a-8ab1-2f7ec8c25380\",\"type\":\"CDSView\"},{\"attributes\":{},\"id\":\"9914a185-1d06-425f-9cf1-b3a204e3d6a6\",\"type\":\"BasicTicker\"},{\"attributes\":{},\"id\":\"3814737c-adcf-4661-9325-6c695fdae846\",\"type\":\"LinearScale\"},{\"attributes\":{\"callback\":null,\"column_names\":[\"x\",\"y\"],\"data\":{\"x\":[0,1,2,3,4,5,6,7,8,9,10,11,12,13,14,15,16,17,18,19,20,21,22,23,24,25,26,27,28,29,30,31,32,33,34,35,36,37,38,39,40],\"y\":{\"__ndarray__\":\"P1dp/luKAUAZEvIUYuH0Pz3LCcCX2+4/GQHqbXpf6z8M01mk+QbqP7SyDSmihuk/qcQmSV1g6T835yGu9vnoP0X+xuVr3Og/f9H08hfZ6D/1u5V1arroP9oFMI2Pr+g/utnC2Ryp6D+HfhkuznHoP6iNyDGpTug/NLVtlDtF6D9w4DK8CeznP1kH+1K/2+c/arUsu1Db5z+TBphnG9vnP3pP6TXfbec/PyWb36aY5z/xAOUVfrTnPwd31b0TkeY/d+C3OSW+5j/R1UjEvu3mP8ZgAQifgOY/E+1BUpCS5j+kN+/6cqXmP9hxRHW6t+Y/kWbRQOKU5j8SWMwI+aTmPzuBUl9qteY/TbVwECbF5j+a2j/uNNPmP2AKvGCgUuY/vh4WT95w5j9D7LUyXI/mP6KvRd5ArOY/gONz0rrF5j9bEyXe6LflPw==\",\"dtype\":\"float64\",\"shape\":[41]}}},\"id\":\"ed6aa6b0-3b9e-4b50-9d6d-3cadd707188e\",\"type\":\"ColumnDataSource\"},{\"attributes\":{\"line_alpha\":0.1,\"line_color\":\"#1f77b4\",\"line_width\":2,\"x\":{\"field\":\"x\"},\"y\":{\"field\":\"y\"}},\"id\":\"6675b1fe-b977-4ed4-b548-cb2d52f3968d\",\"type\":\"Line\"},{\"attributes\":{\"callback\":null},\"id\":\"433601ea-0919-4114-a3de-2bbab5e37f23\",\"type\":\"DataRange1d\"},{\"attributes\":{},\"id\":\"15e94d5f-0fe5-45c3-bbe4-192f43075c74\",\"type\":\"BasicTickFormatter\"},{\"attributes\":{\"data_source\":{\"id\":\"2de045fd-2cb1-4ba0-9476-e069717878c4\",\"type\":\"ColumnDataSource\"},\"glyph\":{\"id\":\"9e898600-af4d-4f47-913d-d288cb43946b\",\"type\":\"Line\"},\"hover_glyph\":null,\"muted_glyph\":null,\"nonselection_glyph\":{\"id\":\"6675b1fe-b977-4ed4-b548-cb2d52f3968d\",\"type\":\"Line\"},\"selection_glyph\":null,\"view\":{\"id\":\"35649c7e-050a-400a-8ab1-2f7ec8c25380\",\"type\":\"CDSView\"}},\"id\":\"e24175ae-2a16-4f14-9b5c-ecbebbe4f5d1\",\"type\":\"GlyphRenderer\"},{\"attributes\":{\"below\":[{\"id\":\"9d533366-5cfc-40b9-967e-cc807a3f2f95\",\"type\":\"LinearAxis\"}],\"left\":[{\"id\":\"d1c4bfa3-d036-44a7-8e4e-ccb1e1d35c8e\",\"type\":\"LinearAxis\"}],\"plot_height\":400,\"plot_width\":700,\"renderers\":[{\"id\":\"9d533366-5cfc-40b9-967e-cc807a3f2f95\",\"type\":\"LinearAxis\"},{\"id\":\"08d87a35-fb4d-42e8-8c39-b37361b90ea5\",\"type\":\"Grid\"},{\"id\":\"d1c4bfa3-d036-44a7-8e4e-ccb1e1d35c8e\",\"type\":\"LinearAxis\"},{\"id\":\"2afda7a7-abb5-4bdc-8cc4-18090e764f97\",\"type\":\"Grid\"},{\"id\":\"eee76d9d-7a32-4c12-bbea-404566baa690\",\"type\":\"BoxAnnotation\"},{\"id\":\"adc20506-5421-4b0f-9855-436d99dc5495\",\"type\":\"Legend\"},{\"id\":\"e24175ae-2a16-4f14-9b5c-ecbebbe4f5d1\",\"type\":\"GlyphRenderer\"},{\"id\":\"76130adf-7b4d-447f-b550-cd30e102cd29\",\"type\":\"GlyphRenderer\"},{\"id\":\"decd37ab-77c9-4ef5-8e87-e9a6998b7211\",\"type\":\"GlyphRenderer\"}],\"title\":null,\"toolbar\":{\"id\":\"01d0781f-3780-4ea6-898c-db305fc7a997\",\"type\":\"Toolbar\"},\"x_range\":{\"id\":\"433601ea-0919-4114-a3de-2bbab5e37f23\",\"type\":\"DataRange1d\"},\"x_scale\":{\"id\":\"3814737c-adcf-4661-9325-6c695fdae846\",\"type\":\"LinearScale\"},\"y_range\":{\"id\":\"d09ae688-0028-41e3-8fa5-7f62d1c8efd0\",\"type\":\"DataRange1d\"},\"y_scale\":{\"id\":\"45a2289e-2e67-43ea-a167-b19b9256dddb\",\"type\":\"LinearScale\"}},\"id\":\"c0d6519e-7ce6-4e1e-b51c-b5cfa23ab863\",\"subtype\":\"Figure\",\"type\":\"Plot\"},{\"attributes\":{\"axis_label\":\"degree of fit\",\"formatter\":{\"id\":\"15e94d5f-0fe5-45c3-bbe4-192f43075c74\",\"type\":\"BasicTickFormatter\"},\"plot\":{\"id\":\"c0d6519e-7ce6-4e1e-b51c-b5cfa23ab863\",\"subtype\":\"Figure\",\"type\":\"Plot\"},\"ticker\":{\"id\":\"bb233f79-b70b-45fd-9636-25fc053084bf\",\"type\":\"BasicTicker\"}},\"id\":\"9d533366-5cfc-40b9-967e-cc807a3f2f95\",\"type\":\"LinearAxis\"}],\"root_ids\":[\"c0d6519e-7ce6-4e1e-b51c-b5cfa23ab863\"]},\"title\":\"Bokeh Application\",\"version\":\"0.12.13\"}};\n",
       "  var render_items = [{\"docid\":\"4e8c7927-f4c3-4630-87a1-03d4bc4ba558\",\"elementid\":\"44671c56-5680-4619-a561-bd8e655fa2da\",\"modelid\":\"c0d6519e-7ce6-4e1e-b51c-b5cfa23ab863\"}];\n",
       "  root.Bokeh.embed.embed_items_notebook(docs_json, render_items);\n",
       "\n",
       "  }\n",
       "  if (root.Bokeh !== undefined) {\n",
       "    embed_document(root);\n",
       "  } else {\n",
       "    var attempts = 0;\n",
       "    var timer = setInterval(function(root) {\n",
       "      if (root.Bokeh !== undefined) {\n",
       "        embed_document(root);\n",
       "        clearInterval(timer);\n",
       "      }\n",
       "      attempts++;\n",
       "      if (attempts > 100) {\n",
       "        console.log(\"Bokeh: ERROR: Unable to run BokehJS code because BokehJS library is missing\")\n",
       "        clearInterval(timer);\n",
       "      }\n",
       "    }, 10, root)\n",
       "  }\n",
       "})(window);"
      ],
      "application/vnd.bokehjs_exec.v0+json": ""
     },
     "metadata": {
      "application/vnd.bokehjs_exec.v0+json": {
       "id": "c0d6519e-7ce6-4e1e-b51c-b5cfa23ab863"
      }
     },
     "output_type": "display_data"
    }
   ],
   "source": [
    "import warnings\n",
    "warnings.filterwarnings('ignore', message='Polyfit*')\n",
    "\n",
    "degrees = np.arange(41)\n",
    "train_err = np.zeros(len(degrees))\n",
    "validation_err = np.zeros(len(degrees))\n",
    "\n",
    "for i, d in enumerate(degrees):\n",
    "    p = np.polyfit(x_tr, y_tr, d)\n",
    "    train_err[i] = biasvariance.compute_error(x_tr, y_tr, p)\n",
    "    validation_err[i] = biasvariance.compute_error(x_valid, y_valid, p)\n",
    "\n",
    "fig = bk.figure(plot_width=700, plot_height=400, title=None)\n",
    "\n",
    "fig.line(degrees, validation_err,\n",
    "         line_width=2, legend='cross-validation error', color='royalblue')\n",
    "fig.line(degrees, train_err, line_width=2, legend='training error', color='green')\n",
    "fig.line([0, 20], [error, error], line_dash='dashed', legend='intrinsic error', color='black')\n",
    "\n",
    "fig.xaxis.axis_label = 'degree of fit'\n",
    "fig.yaxis.axis_label = 'rms error'\n",
    "\n",
    "fig.grid.grid_line_color = None\n",
    "\n",
    "bk.show(fig)"
   ]
  },
  {
   "cell_type": "markdown",
   "metadata": {},
   "source": [
    "For this toy dataset, error = 1.0 is the best we can hope to obtain. Choosing `d=6` in this case gets us very close to the optimal error.\n",
    "\n",
    "Notice that in the above plot, `d=6` gives the best results. But in the very first example, we found that `d=6` vastly over-fits the data. What’s going on here? The difference is the **number of training points** used:\n",
    "\n",
    "**As a general rule of thumb, the more the training points, the more complex the model can be.**"
   ]
  },
  {
   "cell_type": "markdown",
   "metadata": {},
   "source": [
    "## 5 Do I need More Training Samples?"
   ]
  },
  {
   "cell_type": "markdown",
   "metadata": {},
   "source": [
    "In order to exploit the relationship outlined above, between the complexity of the model and the number of examples, we use a tool called **Learning Curves**. Learning Curves works by plotting the training error and validation (or test) error as a **function of the number of training points**:"
   ]
  },
  {
   "cell_type": "code",
   "execution_count": 28,
   "metadata": {},
   "outputs": [],
   "source": [
    "def plot_learning_curve(d, N=100, y_range=None):\n",
    "    test_size = 0.40\n",
    "    n_sizes = 50       # Number of testing point in which to split the size\n",
    "    n_runs = 20        # Number of times to run the test for each training set size\n",
    "    sizes = np.linspace(2, N, n_sizes).astype(int)\n",
    "    train_err = np.zeros((n_runs, n_sizes))\n",
    "    validation_err = np.zeros((n_runs, n_sizes))\n",
    "    for run in range(n_runs):\n",
    "        for nsize, size in enumerate(sizes):\n",
    "            x_tr, x_valid, y_tr, y_valid = model_selection.train_test_split(x, y,\n",
    "                                           test_size=test_size, random_state=run)\n",
    "            # Train on only the first `size` points\n",
    "            p = np.polyfit(x_tr[:size], y_tr[:size], d)\n",
    "            # Validation error is on the *entire* validation set\n",
    "            validation_err[run, nsize] = biasvariance.compute_error(x_valid, y_valid, p)\n",
    "            # Training error is on only the points used for training\n",
    "            train_err[run, nsize] = biasvariance.compute_error(x_tr[:size], y_tr[:size], p)\n",
    "\n",
    "    fig = bk.figure(plot_width=400, plot_height=300, title='d = %i' % d,\n",
    "                    x_range=(0, N-1)) \n",
    "    fig.title.text_font_size = '11pt'\n",
    "    fig.xaxis.axis_label_text_font_size = '9pt'\n",
    "    fig.yaxis.axis_label_text_font_size = '9pt'\n",
    "    \n",
    "    fig.line(sizes, validation_err.mean(axis=0), \n",
    "             line_width=2, legend='mean validation error', color='royalblue')\n",
    "    fig.line(sizes, train_err.mean(axis=0),\n",
    "             line_width=2, legend='mean training error', color='green')\n",
    "    fig.line([0, N], [error, error],\n",
    "             line_dash='dashed', legend='intrinsic error', color='black')\n",
    "    \n",
    "    fig.xaxis.axis_label = 'traning set size'\n",
    "    fig.yaxis.axis_label = 'rms error'\n",
    "    fig.legend.location = 'top_right'\n",
    "    \n",
    "    if y_range:\n",
    "        fig.y_range = Range1d(y_range[0], y_range[1])\n",
    "\n",
    "    fig.grid.grid_line_color = None\n",
    "    bk.show(fig)"
   ]
  },
  {
   "cell_type": "markdown",
   "metadata": {},
   "source": [
    "Now we look at the behavior of <font color=\"royalblue\">$E_{train}$</font> and <font color=\"red\">$E_{test}$</font>.\n",
    "\n",
    "<font color=\"red\">As we increase $N$, $E_{test}$ decreases</font> until the limit of the algorithm, that is its $Bias$.\n",
    "\n",
    "<font color=\"royalblue\">As we increase $N$, $E_{train}$ increases</font>, because with few datapoints the task is simpler, while adding more data increase the difficulty of the algorithm to fit them.\n",
    "\n",
    "The discrepancy of the two curves is the **generalization error**. It should shrink and get tighter as generalization increases."
   ]
  },
  {
   "cell_type": "code",
   "execution_count": 29,
   "metadata": {},
   "outputs": [
    {
     "data": {
      "image/png": "[encoded data removed]",
      "text/plain": [
       "<IPython.core.display.Image object>"
      ]
     },
     "execution_count": 29,
     "metadata": {},
     "output_type": "execute_result"
    }
   ],
   "source": [
    "Image('utilities/learning_curves.png') "
   ]
  },
  {
   "cell_type": "markdown",
   "metadata": {},
   "source": [
    "In the left picture (simple model) we can see that the model \"true\" error (the best the model can do) is high and pretty soon (that is for lower values of $N$) we reach the point were both $E_{train}$ and $E_{test}$ are closer. In the right picture (complex model) we can see that, since it is more complex, it has a better approximation of the target function and thus can achieve (in principle) a lower $E_{test}$ error. The function is so complex that with few data points it fits them perfectly reaching a training error of zero. However if we look at the corresponding $E_{test}$ we can see that it is very high, we haven't learn anything. As the number of examples grows, $E_{test}$ starts lowering and it gets lower than the other model, but the discrepancy between the two errors remains higher than that of the previous example. \n",
    "\n",
    "Let's see a practical example:"
   ]
  },
  {
   "cell_type": "code",
   "execution_count": 30,
   "metadata": {},
   "outputs": [
    {
     "data": {
      "text/html": [
       "\n",
       "<div class=\"bk-root\">\n",
       "    <div class=\"bk-plotdiv\" id=\"84bc5027-468e-472d-bf30-bbbbc7acd491\"></div>\n",
       "</div>"
      ]
     },
     "metadata": {},
     "output_type": "display_data"
    },
    {
     "data": {
      "application/javascript": [
       "(function(root) {\n",
       "  function embed_document(root) {\n",
       "    \n",
       "  var docs_json = {\"1685d819-eadf-4d3f-817e-e4e0523bcffe\":{\"roots\":{\"references\":[{\"attributes\":{},\"id\":\"cc99419d-a02a-440b-85ca-4b588b57a6db\",\"type\":\"BasicTickFormatter\"},{\"attributes\":{\"line_alpha\":0.1,\"line_color\":\"#1f77b4\",\"line_dash\":[6],\"x\":{\"field\":\"x\"},\"y\":{\"field\":\"y\"}},\"id\":\"c286dea8-8207-4791-a8fd-739f676e1934\",\"type\":\"Line\"},{\"attributes\":{\"source\":{\"id\":\"4d0ef787-d11e-45a2-a54c-ee2dd07f1153\",\"type\":\"ColumnDataSource\"}},\"id\":\"851c6b4f-293d-4000-90a5-8858a92ecd14\",\"type\":\"CDSView\"},{\"attributes\":{\"callback\":null,\"column_names\":[\"x\",\"y\"],\"data\":{\"x\":[2,4,6,8,10,12,14,16,18,20,22,24,26,28,30,32,34,36,38,40,42,44,46,48,50,52,54,56,58,60,62,64,66,68,70,72,74,76,78,80,82,84,86,88,90,92,94,96,98,100],\"y\":{\"__ndarray__\":\"rnbVA+FUE0BY4ndMQXP+P8LPsJ0iX/k/+rRoW2pw+D/BYD+9xN73P06ZndZ///c/houwoRrv9z8YslrGnez3P0t2oq6rzvc/7JTEV09r9z97NffbUWH3P7Lk3yN+gvc/r5WNy4VL9z9vr2DG6VD3PzWQQlAfXPc/YQxYxKxY9z8oLrXzTBr3PyXuNDE+CPc/SpFLYUcF9z9C49iN/fb2P/0yDIEg/vY/iv82Aun/9j846zWyH+D2Px6+rPkM2fY/++mj00rV9j8TTjMk8772PzSZoldowvY//k6lcSHH9j9uGV2qBbn2P+MdGRrbtfY/4x0ZGtu19j/jHRka27X2P+MdGRrbtfY/4x0ZGtu19j/jHRka27X2P+MdGRrbtfY/4x0ZGtu19j/jHRka27X2P+MdGRrbtfY/4x0ZGtu19j/jHRka27X2P+MdGRrbtfY/4x0ZGtu19j/jHRka27X2P+MdGRrbtfY/4x0ZGtu19j/jHRka27X2P+MdGRrbtfY/4x0ZGtu19j/jHRka27X2Pw==\",\"dtype\":\"float64\",\"shape\":[50]}}},\"id\":\"987be9b2-ad5b-43fd-bfcb-260c39bd6aad\",\"type\":\"ColumnDataSource\"},{\"attributes\":{\"line_alpha\":0.1,\"line_color\":\"#1f77b4\",\"line_width\":2,\"x\":{\"field\":\"x\"},\"y\":{\"field\":\"y\"}},\"id\":\"fcd5fec4-f17c-4ff5-b630-ef5b191be12d\",\"type\":\"Line\"},{\"attributes\":{\"active_drag\":\"auto\",\"active_inspect\":\"auto\",\"active_scroll\":\"auto\",\"active_tap\":\"auto\",\"tools\":[{\"id\":\"3d9d4021-d564-4290-895c-3e3ddc744398\",\"type\":\"PanTool\"},{\"id\":\"fd021f59-1f8c-4cb0-aa4e-9a5786f7b519\",\"type\":\"WheelZoomTool\"},{\"id\":\"13f10fb9-7c5e-4772-a892-8270f3534c37\",\"type\":\"BoxZoomTool\"},{\"id\":\"76225f0e-73c0-4a41-80fe-7c3cffb887eb\",\"type\":\"SaveTool\"},{\"id\":\"4156a318-1907-41eb-829d-27d6a9189dd4\",\"type\":\"ResetTool\"},{\"id\":\"573c6705-2e68-4c36-b7d1-71dcaa0aaf9a\",\"type\":\"HelpTool\"}]},\"id\":\"5176959b-bf0c-4cf4-8cf1-be76832094f4\",\"type\":\"Toolbar\"},{\"attributes\":{},\"id\":\"e2589ed1-3db1-4d5e-9441-650307a4ba72\",\"type\":\"BasicTicker\"},{\"attributes\":{},\"id\":\"f684c2fb-3e56-4fec-94f0-f665f948b041\",\"type\":\"LinearScale\"},{\"attributes\":{\"callback\":null,\"end\":99},\"id\":\"928314be-acaa-4574-a55c-ab3699e4af7e\",\"type\":\"Range1d\"},{\"attributes\":{\"bottom_units\":\"screen\",\"fill_alpha\":{\"value\":0.5},\"fill_color\":{\"value\":\"lightgrey\"},\"left_units\":\"screen\",\"level\":\"overlay\",\"line_alpha\":{\"value\":1.0},\"line_color\":{\"value\":\"black\"},\"line_dash\":[4,4],\"line_width\":{\"value\":2},\"plot\":null,\"render_mode\":\"css\",\"right_units\":\"screen\",\"top_units\":\"screen\"},\"id\":\"37071f1a-f98a-438b-bd0f-fea0305e39c8\",\"type\":\"BoxAnnotation\"},{\"attributes\":{\"plot\":null,\"text\":\"d = 1\",\"text_font_size\":{\"value\":\"11pt\"}},\"id\":\"ab3bca88-8658-4c17-8a08-35da0049961f\",\"type\":\"Title\"},{\"attributes\":{\"grid_line_color\":{\"value\":null},\"plot\":{\"id\":\"118395f0-9d38-45c6-be72-d2fdb51c08d6\",\"subtype\":\"Figure\",\"type\":\"Plot\"},\"ticker\":{\"id\":\"e2589ed1-3db1-4d5e-9441-650307a4ba72\",\"type\":\"BasicTicker\"}},\"id\":\"aa5da419-0735-48cb-8759-9450a6a63461\",\"type\":\"Grid\"},{\"attributes\":{\"line_color\":\"royalblue\",\"line_width\":2,\"x\":{\"field\":\"x\"},\"y\":{\"field\":\"y\"}},\"id\":\"79ba2e10-e278-4ec3-9241-5e35bfba8389\",\"type\":\"Line\"},{\"attributes\":{\"below\":[{\"id\":\"f9b721a6-dacb-4562-bd2c-acfcb571d356\",\"type\":\"LinearAxis\"}],\"left\":[{\"id\":\"3a3469ed-2b25-4922-b3f6-8cacf210ae07\",\"type\":\"LinearAxis\"}],\"plot_height\":300,\"plot_width\":400,\"renderers\":[{\"id\":\"f9b721a6-dacb-4562-bd2c-acfcb571d356\",\"type\":\"LinearAxis\"},{\"id\":\"aa5da419-0735-48cb-8759-9450a6a63461\",\"type\":\"Grid\"},{\"id\":\"3a3469ed-2b25-4922-b3f6-8cacf210ae07\",\"type\":\"LinearAxis\"},{\"id\":\"794ddf9c-025e-4a73-8c48-8dfecb8b40fa\",\"type\":\"Grid\"},{\"id\":\"37071f1a-f98a-438b-bd0f-fea0305e39c8\",\"type\":\"BoxAnnotation\"},{\"id\":\"3bb81ce7-3ec2-4c9d-bc36-f8c61162bae8\",\"type\":\"Legend\"},{\"id\":\"73c662c3-7430-423c-b7ea-ab42b1148fc4\",\"type\":\"GlyphRenderer\"},{\"id\":\"b2b92ad4-b71f-4991-a3e5-059f2da88fc6\",\"type\":\"GlyphRenderer\"},{\"id\":\"952afa73-898a-4584-8f82-0b515bdb7d0d\",\"type\":\"GlyphRenderer\"}],\"title\":{\"id\":\"ab3bca88-8658-4c17-8a08-35da0049961f\",\"type\":\"Title\"},\"toolbar\":{\"id\":\"5176959b-bf0c-4cf4-8cf1-be76832094f4\",\"type\":\"Toolbar\"},\"x_range\":{\"id\":\"928314be-acaa-4574-a55c-ab3699e4af7e\",\"type\":\"Range1d\"},\"x_scale\":{\"id\":\"65893316-0e84-48bd-8c59-8b1b596fd8ec\",\"type\":\"LinearScale\"},\"y_range\":{\"id\":\"31556f3b-72c3-4e87-96ca-0c454fbc67f6\",\"type\":\"DataRange1d\"},\"y_scale\":{\"id\":\"f684c2fb-3e56-4fec-94f0-f665f948b041\",\"type\":\"LinearScale\"}},\"id\":\"118395f0-9d38-45c6-be72-d2fdb51c08d6\",\"subtype\":\"Figure\",\"type\":\"Plot\"},{\"attributes\":{\"line_alpha\":0.1,\"line_color\":\"#1f77b4\",\"line_width\":2,\"x\":{\"field\":\"x\"},\"y\":{\"field\":\"y\"}},\"id\":\"a52fa556-dbbc-4349-bf9e-75f6f4080e29\",\"type\":\"Line\"},{\"attributes\":{\"source\":{\"id\":\"488dda0b-5057-4011-9911-30b90a6593c9\",\"type\":\"ColumnDataSource\"}},\"id\":\"d045e0f6-04da-40b5-9ec3-6cf5f5bb5f96\",\"type\":\"CDSView\"},{\"attributes\":{\"callback\":null},\"id\":\"31556f3b-72c3-4e87-96ca-0c454fbc67f6\",\"type\":\"DataRange1d\"},{\"attributes\":{\"source\":{\"id\":\"987be9b2-ad5b-43fd-bfcb-260c39bd6aad\",\"type\":\"ColumnDataSource\"}},\"id\":\"f97a429d-73b3-4047-a73a-71a138003255\",\"type\":\"CDSView\"},{\"attributes\":{},\"id\":\"fd021f59-1f8c-4cb0-aa4e-9a5786f7b519\",\"type\":\"WheelZoomTool\"},{\"attributes\":{\"data_source\":{\"id\":\"987be9b2-ad5b-43fd-bfcb-260c39bd6aad\",\"type\":\"ColumnDataSource\"},\"glyph\":{\"id\":\"79ba2e10-e278-4ec3-9241-5e35bfba8389\",\"type\":\"Line\"},\"hover_glyph\":null,\"muted_glyph\":null,\"nonselection_glyph\":{\"id\":\"a52fa556-dbbc-4349-bf9e-75f6f4080e29\",\"type\":\"Line\"},\"selection_glyph\":null,\"view\":{\"id\":\"f97a429d-73b3-4047-a73a-71a138003255\",\"type\":\"CDSView\"}},\"id\":\"73c662c3-7430-423c-b7ea-ab42b1148fc4\",\"type\":\"GlyphRenderer\"},{\"attributes\":{\"axis_label\":\"traning set size\",\"axis_label_text_font_size\":{\"value\":\"9pt\"},\"formatter\":{\"id\":\"cc99419d-a02a-440b-85ca-4b588b57a6db\",\"type\":\"BasicTickFormatter\"},\"plot\":{\"id\":\"118395f0-9d38-45c6-be72-d2fdb51c08d6\",\"subtype\":\"Figure\",\"type\":\"Plot\"},\"ticker\":{\"id\":\"e2589ed1-3db1-4d5e-9441-650307a4ba72\",\"type\":\"BasicTicker\"}},\"id\":\"f9b721a6-dacb-4562-bd2c-acfcb571d356\",\"type\":\"LinearAxis\"},{\"attributes\":{\"dimension\":1,\"grid_line_color\":{\"value\":null},\"plot\":{\"id\":\"118395f0-9d38-45c6-be72-d2fdb51c08d6\",\"subtype\":\"Figure\",\"type\":\"Plot\"},\"ticker\":{\"id\":\"9d6692ac-3030-47f6-8957-dc0d53f89693\",\"type\":\"BasicTicker\"}},\"id\":\"794ddf9c-025e-4a73-8c48-8dfecb8b40fa\",\"type\":\"Grid\"},{\"attributes\":{\"line_dash\":[6],\"x\":{\"field\":\"x\"},\"y\":{\"field\":\"y\"}},\"id\":\"8025a721-fbb0-44a8-8359-76c444723df5\",\"type\":\"Line\"},{\"attributes\":{\"data_source\":{\"id\":\"4d0ef787-d11e-45a2-a54c-ee2dd07f1153\",\"type\":\"ColumnDataSource\"},\"glyph\":{\"id\":\"e7f17e64-c0af-421b-b383-fe53cb788014\",\"type\":\"Line\"},\"hover_glyph\":null,\"muted_glyph\":null,\"nonselection_glyph\":{\"id\":\"fcd5fec4-f17c-4ff5-b630-ef5b191be12d\",\"type\":\"Line\"},\"selection_glyph\":null,\"view\":{\"id\":\"851c6b4f-293d-4000-90a5-8858a92ecd14\",\"type\":\"CDSView\"}},\"id\":\"b2b92ad4-b71f-4991-a3e5-059f2da88fc6\",\"type\":\"GlyphRenderer\"},{\"attributes\":{},\"id\":\"573c6705-2e68-4c36-b7d1-71dcaa0aaf9a\",\"type\":\"HelpTool\"},{\"attributes\":{\"overlay\":{\"id\":\"37071f1a-f98a-438b-bd0f-fea0305e39c8\",\"type\":\"BoxAnnotation\"}},\"id\":\"13f10fb9-7c5e-4772-a892-8270f3534c37\",\"type\":\"BoxZoomTool\"},{\"attributes\":{},\"id\":\"4156a318-1907-41eb-829d-27d6a9189dd4\",\"type\":\"ResetTool\"},{\"attributes\":{\"label\":{\"value\":\"mean validation error\"},\"renderers\":[{\"id\":\"73c662c3-7430-423c-b7ea-ab42b1148fc4\",\"type\":\"GlyphRenderer\"}]},\"id\":\"205dd922-7d7c-42ed-bc80-5f469a5a0167\",\"type\":\"LegendItem\"},{\"attributes\":{},\"id\":\"9d6692ac-3030-47f6-8957-dc0d53f89693\",\"type\":\"BasicTicker\"},{\"attributes\":{},\"id\":\"a08e41b7-d1a3-473e-8444-d9944800fed0\",\"type\":\"BasicTickFormatter\"},{\"attributes\":{},\"id\":\"76225f0e-73c0-4a41-80fe-7c3cffb887eb\",\"type\":\"SaveTool\"},{\"attributes\":{\"line_color\":\"green\",\"line_width\":2,\"x\":{\"field\":\"x\"},\"y\":{\"field\":\"y\"}},\"id\":\"e7f17e64-c0af-421b-b383-fe53cb788014\",\"type\":\"Line\"},{\"attributes\":{\"label\":{\"value\":\"intrinsic error\"},\"renderers\":[{\"id\":\"952afa73-898a-4584-8f82-0b515bdb7d0d\",\"type\":\"GlyphRenderer\"}]},\"id\":\"177d4702-9bb8-4546-b3ad-c8a13fc3393b\",\"type\":\"LegendItem\"},{\"attributes\":{\"axis_label\":\"rms error\",\"axis_label_text_font_size\":{\"value\":\"9pt\"},\"formatter\":{\"id\":\"a08e41b7-d1a3-473e-8444-d9944800fed0\",\"type\":\"BasicTickFormatter\"},\"plot\":{\"id\":\"118395f0-9d38-45c6-be72-d2fdb51c08d6\",\"subtype\":\"Figure\",\"type\":\"Plot\"},\"ticker\":{\"id\":\"9d6692ac-3030-47f6-8957-dc0d53f89693\",\"type\":\"BasicTicker\"}},\"id\":\"3a3469ed-2b25-4922-b3f6-8cacf210ae07\",\"type\":\"LinearAxis\"},{\"attributes\":{\"data_source\":{\"id\":\"488dda0b-5057-4011-9911-30b90a6593c9\",\"type\":\"ColumnDataSource\"},\"glyph\":{\"id\":\"8025a721-fbb0-44a8-8359-76c444723df5\",\"type\":\"Line\"},\"hover_glyph\":null,\"muted_glyph\":null,\"nonselection_glyph\":{\"id\":\"c286dea8-8207-4791-a8fd-739f676e1934\",\"type\":\"Line\"},\"selection_glyph\":null,\"view\":{\"id\":\"d045e0f6-04da-40b5-9ec3-6cf5f5bb5f96\",\"type\":\"CDSView\"}},\"id\":\"952afa73-898a-4584-8f82-0b515bdb7d0d\",\"type\":\"GlyphRenderer\"},{\"attributes\":{},\"id\":\"3d9d4021-d564-4290-895c-3e3ddc744398\",\"type\":\"PanTool\"},{\"attributes\":{\"label\":{\"value\":\"mean training error\"},\"renderers\":[{\"id\":\"b2b92ad4-b71f-4991-a3e5-059f2da88fc6\",\"type\":\"GlyphRenderer\"}]},\"id\":\"a7e79d14-2ce6-4551-aee8-adc576469a25\",\"type\":\"LegendItem\"},{\"attributes\":{},\"id\":\"65893316-0e84-48bd-8c59-8b1b596fd8ec\",\"type\":\"LinearScale\"},{\"attributes\":{\"callback\":null,\"column_names\":[\"x\",\"y\"],\"data\":{\"x\":[2,4,6,8,10,12,14,16,18,20,22,24,26,28,30,32,34,36,38,40,42,44,46,48,50,52,54,56,58,60,62,64,66,68,70,72,74,76,78,80,82,84,86,88,90,92,94,96,98,100],\"y\":{\"__ndarray__\":\"/klTvtb75DxppHmMVG3mP2N9rHp6Cu8/Q0e8xzW47z83PBdEiafwP66+RJr3EPE/wq0+Rt9a8j+vEOyDhdLyPxMggfWYvfI/mtpAviPR8j8+Yu8bsXTzPwb/Z7/cxvM/JlTIz4mm9D+e3WZ0Bw71P3CBA3+3EfU/fKh5wIDd9D9vdurvCjr1P6p/BuTXFPU/OiBJy4rx9D+CDXywgwz1P2ItK7tE4/Q/61zHet3R9D+yltYv2Yj1PxrntT/RV/U/Sdzgm0tF9T8DNr0whlv1P/a+jxYeavU/L6dhXUZH9T+QKqyJPT31P9F/hZggFfU/0X+FmCAV9T/Rf4WYIBX1P9F/hZggFfU/0X+FmCAV9T/Rf4WYIBX1P9F/hZggFfU/0X+FmCAV9T/Rf4WYIBX1P9F/hZggFfU/0X+FmCAV9T/Rf4WYIBX1P9F/hZggFfU/0X+FmCAV9T/Rf4WYIBX1P9F/hZggFfU/0X+FmCAV9T/Rf4WYIBX1P9F/hZggFfU/0X+FmCAV9T/Rf4WYIBX1Pw==\",\"dtype\":\"float64\",\"shape\":[50]}}},\"id\":\"4d0ef787-d11e-45a2-a54c-ee2dd07f1153\",\"type\":\"ColumnDataSource\"},{\"attributes\":{\"items\":[{\"id\":\"205dd922-7d7c-42ed-bc80-5f469a5a0167\",\"type\":\"LegendItem\"},{\"id\":\"a7e79d14-2ce6-4551-aee8-adc576469a25\",\"type\":\"LegendItem\"},{\"id\":\"177d4702-9bb8-4546-b3ad-c8a13fc3393b\",\"type\":\"LegendItem\"}],\"plot\":{\"id\":\"118395f0-9d38-45c6-be72-d2fdb51c08d6\",\"subtype\":\"Figure\",\"type\":\"Plot\"}},\"id\":\"3bb81ce7-3ec2-4c9d-bc36-f8c61162bae8\",\"type\":\"Legend\"},{\"attributes\":{\"callback\":null,\"column_names\":[\"x\",\"y\"],\"data\":{\"x\":[0,100],\"y\":[1.0,1.0]}},\"id\":\"488dda0b-5057-4011-9911-30b90a6593c9\",\"type\":\"ColumnDataSource\"}],\"root_ids\":[\"118395f0-9d38-45c6-be72-d2fdb51c08d6\"]},\"title\":\"Bokeh Application\",\"version\":\"0.12.13\"}};\n",
       "  var render_items = [{\"docid\":\"1685d819-eadf-4d3f-817e-e4e0523bcffe\",\"elementid\":\"84bc5027-468e-472d-bf30-bbbbc7acd491\",\"modelid\":\"118395f0-9d38-45c6-be72-d2fdb51c08d6\"}];\n",
       "  root.Bokeh.embed.embed_items_notebook(docs_json, render_items);\n",
       "\n",
       "  }\n",
       "  if (root.Bokeh !== undefined) {\n",
       "    embed_document(root);\n",
       "  } else {\n",
       "    var attempts = 0;\n",
       "    var timer = setInterval(function(root) {\n",
       "      if (root.Bokeh !== undefined) {\n",
       "        embed_document(root);\n",
       "        clearInterval(timer);\n",
       "      }\n",
       "      attempts++;\n",
       "      if (attempts > 100) {\n",
       "        console.log(\"Bokeh: ERROR: Unable to run BokehJS code because BokehJS library is missing\")\n",
       "        clearInterval(timer);\n",
       "      }\n",
       "    }, 10, root)\n",
       "  }\n",
       "})(window);"
      ],
      "application/vnd.bokehjs_exec.v0+json": ""
     },
     "metadata": {
      "application/vnd.bokehjs_exec.v0+json": {
       "id": "118395f0-9d38-45c6-be72-d2fdb51c08d6"
      }
     },
     "output_type": "display_data"
    }
   ],
   "source": [
    "plot_learning_curve(d=1, N=100)"
   ]
  },
  {
   "cell_type": "markdown",
   "metadata": {},
   "source": [
    "A polynomial model with `d=1` is a **high-biased estimator** which under-fits the data. This is indicated by the fact that **both the training and validation errors are very high**.\n",
    "\n",
    "*Adding more data WON'T work in this case.*\n",
    "\n",
    "**When both TRAINING and VALIDATION curves converge to an high error, we have a HIGH BIAS model.** In this situation we can try one of the following actions:\n",
    "\n",
    "* Using a more sophisticated model (i.e. in this case, increase ``d``)\n",
    "* Gather more features for each sample.\n",
    "* Decrease regularlization.\n",
    "\n",
    "Now let's look at a model with higher degree (and thus higher variance):"
   ]
  },
  {
   "cell_type": "code",
   "execution_count": 31,
   "metadata": {},
   "outputs": [
    {
     "data": {
      "text/html": [
       "\n",
       "<div class=\"bk-root\">\n",
       "    <div class=\"bk-plotdiv\" id=\"445340d8-2114-46da-885f-faa0fd2072fe\"></div>\n",
       "</div>"
      ]
     },
     "metadata": {},
     "output_type": "display_data"
    },
    {
     "data": {
      "application/javascript": [
       "(function(root) {\n",
       "  function embed_document(root) {\n",
       "    \n",
       "  var docs_json = {\"92f60f90-29f7-4193-b418-67c1b099a0d1\":{\"roots\":{\"references\":[{\"attributes\":{\"items\":[{\"id\":\"1db2a0b1-dded-448b-88fc-91522812f76c\",\"type\":\"LegendItem\"},{\"id\":\"7868c7ba-da2f-4deb-8a82-4f2d1700bcbd\",\"type\":\"LegendItem\"},{\"id\":\"f868c35d-ca44-47af-b9f4-a1517aa05782\",\"type\":\"LegendItem\"}],\"plot\":{\"id\":\"bea9f319-b7b8-4101-9d62-23e50c917596\",\"subtype\":\"Figure\",\"type\":\"Plot\"}},\"id\":\"63256cce-819c-4ce4-a00d-f315d1a7684d\",\"type\":\"Legend\"},{\"attributes\":{\"line_color\":\"royalblue\",\"line_width\":2,\"x\":{\"field\":\"x\"},\"y\":{\"field\":\"y\"}},\"id\":\"7be5fff2-182a-48a3-addf-c691ce65d686\",\"type\":\"Line\"},{\"attributes\":{\"source\":{\"id\":\"d881ebd0-7870-4960-9e77-4c93b4184440\",\"type\":\"ColumnDataSource\"}},\"id\":\"5a811c98-01ec-4aac-836f-a9203e55d392\",\"type\":\"CDSView\"},{\"attributes\":{\"line_color\":\"green\",\"line_width\":2,\"x\":{\"field\":\"x\"},\"y\":{\"field\":\"y\"}},\"id\":\"cd7e5965-b0d1-4593-9427-7e06485f77ba\",\"type\":\"Line\"},{\"attributes\":{\"callback\":null,\"end\":12},\"id\":\"37775e55-0cda-4d08-9499-5aa43b0a0594\",\"type\":\"Range1d\"},{\"attributes\":{},\"id\":\"1f2291fe-bae1-47d4-a8b2-fda18103c5cf\",\"type\":\"BasicTickFormatter\"},{\"attributes\":{\"grid_line_color\":{\"value\":null},\"plot\":{\"id\":\"bea9f319-b7b8-4101-9d62-23e50c917596\",\"subtype\":\"Figure\",\"type\":\"Plot\"},\"ticker\":{\"id\":\"ce6732f9-622e-464a-aa86-659703868bc9\",\"type\":\"BasicTicker\"}},\"id\":\"55af3106-b0b9-413f-afe6-36d0c0cfe547\",\"type\":\"Grid\"},{\"attributes\":{\"line_alpha\":0.1,\"line_color\":\"#1f77b4\",\"line_dash\":[6],\"x\":{\"field\":\"x\"},\"y\":{\"field\":\"y\"}},\"id\":\"05d03d0f-6e37-4397-a94c-5a53bcc566de\",\"type\":\"Line\"},{\"attributes\":{\"callback\":null,\"end\":99},\"id\":\"f55dc8ec-b464-428f-8e9f-9d01d90b93de\",\"type\":\"Range1d\"},{\"attributes\":{\"label\":{\"value\":\"intrinsic error\"},\"renderers\":[{\"id\":\"452d5e75-f924-47b8-bf26-c9f9e03803d0\",\"type\":\"GlyphRenderer\"}]},\"id\":\"f868c35d-ca44-47af-b9f4-a1517aa05782\",\"type\":\"LegendItem\"},{\"attributes\":{\"bottom_units\":\"screen\",\"fill_alpha\":{\"value\":0.5},\"fill_color\":{\"value\":\"lightgrey\"},\"left_units\":\"screen\",\"level\":\"overlay\",\"line_alpha\":{\"value\":1.0},\"line_color\":{\"value\":\"black\"},\"line_dash\":[4,4],\"line_width\":{\"value\":2},\"plot\":null,\"render_mode\":\"css\",\"right_units\":\"screen\",\"top_units\":\"screen\"},\"id\":\"555d9976-d8c5-4629-bb94-3c824a991c3d\",\"type\":\"BoxAnnotation\"},{\"attributes\":{},\"id\":\"4b0b8ff3-fb73-4a09-bcc2-d1c2f3cfa171\",\"type\":\"HelpTool\"},{\"attributes\":{},\"id\":\"af1f5045-6b2f-4e5f-ae18-c7e31fb3a21e\",\"type\":\"ResetTool\"},{\"attributes\":{\"line_alpha\":0.1,\"line_color\":\"#1f77b4\",\"line_width\":2,\"x\":{\"field\":\"x\"},\"y\":{\"field\":\"y\"}},\"id\":\"8415a446-a530-4965-ba37-4765546f80a3\",\"type\":\"Line\"},{\"attributes\":{\"below\":[{\"id\":\"4315f4ec-85fc-4ea8-b411-4787a7a1fe21\",\"type\":\"LinearAxis\"}],\"left\":[{\"id\":\"b970d8bf-ec28-430a-ad29-7466d3f93600\",\"type\":\"LinearAxis\"}],\"plot_height\":300,\"plot_width\":400,\"renderers\":[{\"id\":\"4315f4ec-85fc-4ea8-b411-4787a7a1fe21\",\"type\":\"LinearAxis\"},{\"id\":\"55af3106-b0b9-413f-afe6-36d0c0cfe547\",\"type\":\"Grid\"},{\"id\":\"b970d8bf-ec28-430a-ad29-7466d3f93600\",\"type\":\"LinearAxis\"},{\"id\":\"d8d4307a-ceb1-4e01-933c-8eab21cdd83e\",\"type\":\"Grid\"},{\"id\":\"555d9976-d8c5-4629-bb94-3c824a991c3d\",\"type\":\"BoxAnnotation\"},{\"id\":\"63256cce-819c-4ce4-a00d-f315d1a7684d\",\"type\":\"Legend\"},{\"id\":\"4c49a637-80b2-4587-a03b-e71d0555e14f\",\"type\":\"GlyphRenderer\"},{\"id\":\"d607df9f-c735-4550-b9e8-58e6f51bd04d\",\"type\":\"GlyphRenderer\"},{\"id\":\"452d5e75-f924-47b8-bf26-c9f9e03803d0\",\"type\":\"GlyphRenderer\"}],\"title\":{\"id\":\"2ff253c8-86eb-449c-b217-72e18da72b86\",\"type\":\"Title\"},\"toolbar\":{\"id\":\"2c2e637b-722b-4bea-abd2-ce6a895aacce\",\"type\":\"Toolbar\"},\"x_range\":{\"id\":\"f55dc8ec-b464-428f-8e9f-9d01d90b93de\",\"type\":\"Range1d\"},\"x_scale\":{\"id\":\"5ec6601e-3efd-4320-be7c-2fef06b40935\",\"type\":\"LinearScale\"},\"y_range\":{\"id\":\"37775e55-0cda-4d08-9499-5aa43b0a0594\",\"type\":\"Range1d\"},\"y_scale\":{\"id\":\"712fe04e-4f98-4b54-959d-dd0e67d56d82\",\"type\":\"LinearScale\"}},\"id\":\"bea9f319-b7b8-4101-9d62-23e50c917596\",\"subtype\":\"Figure\",\"type\":\"Plot\"},{\"attributes\":{\"data_source\":{\"id\":\"7847d57e-1497-44af-ad9a-8868985ef0a3\",\"type\":\"ColumnDataSource\"},\"glyph\":{\"id\":\"cd7e5965-b0d1-4593-9427-7e06485f77ba\",\"type\":\"Line\"},\"hover_glyph\":null,\"muted_glyph\":null,\"nonselection_glyph\":{\"id\":\"8415a446-a530-4965-ba37-4765546f80a3\",\"type\":\"Line\"},\"selection_glyph\":null,\"view\":{\"id\":\"3aa7ba70-e3ab-403d-8ef3-895364a38142\",\"type\":\"CDSView\"}},\"id\":\"d607df9f-c735-4550-b9e8-58e6f51bd04d\",\"type\":\"GlyphRenderer\"},{\"attributes\":{\"label\":{\"value\":\"mean validation error\"},\"renderers\":[{\"id\":\"4c49a637-80b2-4587-a03b-e71d0555e14f\",\"type\":\"GlyphRenderer\"}]},\"id\":\"1db2a0b1-dded-448b-88fc-91522812f76c\",\"type\":\"LegendItem\"},{\"attributes\":{\"line_alpha\":0.1,\"line_color\":\"#1f77b4\",\"line_width\":2,\"x\":{\"field\":\"x\"},\"y\":{\"field\":\"y\"}},\"id\":\"95b628f6-8527-4931-b31f-d6eaf96b2e0a\",\"type\":\"Line\"},{\"attributes\":{\"data_source\":{\"id\":\"aeeae35b-2723-4929-be79-a9d0de25ea21\",\"type\":\"ColumnDataSource\"},\"glyph\":{\"id\":\"7a273c7c-2ad1-44cd-b32f-efaaf8e707eb\",\"type\":\"Line\"},\"hover_glyph\":null,\"muted_glyph\":null,\"nonselection_glyph\":{\"id\":\"05d03d0f-6e37-4397-a94c-5a53bcc566de\",\"type\":\"Line\"},\"selection_glyph\":null,\"view\":{\"id\":\"5995110b-34e2-4dca-ab7c-f2332ea7342a\",\"type\":\"CDSView\"}},\"id\":\"452d5e75-f924-47b8-bf26-c9f9e03803d0\",\"type\":\"GlyphRenderer\"},{\"attributes\":{\"axis_label\":\"rms error\",\"axis_label_text_font_size\":{\"value\":\"9pt\"},\"formatter\":{\"id\":\"912f9f5a-d2c7-47f0-a882-20ba0428a600\",\"type\":\"BasicTickFormatter\"},\"plot\":{\"id\":\"bea9f319-b7b8-4101-9d62-23e50c917596\",\"subtype\":\"Figure\",\"type\":\"Plot\"},\"ticker\":{\"id\":\"150c473b-f342-494d-b26b-be787779133e\",\"type\":\"BasicTicker\"}},\"id\":\"b970d8bf-ec28-430a-ad29-7466d3f93600\",\"type\":\"LinearAxis\"},{\"attributes\":{\"label\":{\"value\":\"mean training error\"},\"renderers\":[{\"id\":\"d607df9f-c735-4550-b9e8-58e6f51bd04d\",\"type\":\"GlyphRenderer\"}]},\"id\":\"7868c7ba-da2f-4deb-8a82-4f2d1700bcbd\",\"type\":\"LegendItem\"},{\"attributes\":{\"active_drag\":\"auto\",\"active_inspect\":\"auto\",\"active_scroll\":\"auto\",\"active_tap\":\"auto\",\"tools\":[{\"id\":\"30c492a1-718b-410d-80d9-79ada11b76af\",\"type\":\"PanTool\"},{\"id\":\"1280a9a0-00ff-43a0-9e70-2e0fb2692ab6\",\"type\":\"WheelZoomTool\"},{\"id\":\"75e1e83f-10c9-4abc-a852-c1c71b232e36\",\"type\":\"BoxZoomTool\"},{\"id\":\"f9013579-6ac1-4598-9e6b-2bb679a4bc0d\",\"type\":\"SaveTool\"},{\"id\":\"af1f5045-6b2f-4e5f-ae18-c7e31fb3a21e\",\"type\":\"ResetTool\"},{\"id\":\"4b0b8ff3-fb73-4a09-bcc2-d1c2f3cfa171\",\"type\":\"HelpTool\"}]},\"id\":\"2c2e637b-722b-4bea-abd2-ce6a895aacce\",\"type\":\"Toolbar\"},{\"attributes\":{},\"id\":\"912f9f5a-d2c7-47f0-a882-20ba0428a600\",\"type\":\"BasicTickFormatter\"},{\"attributes\":{\"callback\":null,\"column_names\":[\"x\",\"y\"],\"data\":{\"x\":[2,4,6,8,10,12,14,16,18,20,22,24,26,28,30,32,34,36,38,40,42,44,46,48,50,52,54,56,58,60,62,64,66,68,70,72,74,76,78,80,82,84,86,88,90,92,94,96,98,100],\"y\":{\"__ndarray__\":\"jnGMHuP35zzmIafsQR4tPYadzKDv6o09BkJdVgSw8D01WrVxcv5hPiZrEdrz3c4/5eHBUFZ+2D/Y6/T7lMjgP6qNTx8G7eI/6iHSr3pM5D9z5aUuF3blP3WH5mpPduY/onz8ydWL5z+qNbwTsb3oPwzA70faA+k/4Oo2QS9x6T+9Yuut5tzpP30ntzhOEeo/aLyOwamV6j/K65WgBnrqP+3EKEhSguo/NrrWAKua6j8lYUtBZ8rqP1AVKo8A/uo/AvmZGYch6z+dSVd3PXDrP/4ueZhekes/89OP8Tdt6z+Nmyrwxl/rP0YA/sOyZOs/RgD+w7Jk6z9GAP7DsmTrP0YA/sOyZOs/RgD+w7Jk6z9GAP7DsmTrP0YA/sOyZOs/RgD+w7Jk6z9GAP7DsmTrP0YA/sOyZOs/RgD+w7Jk6z9GAP7DsmTrP0YA/sOyZOs/RgD+w7Jk6z9GAP7DsmTrP0YA/sOyZOs/RgD+w7Jk6z9GAP7DsmTrP0YA/sOyZOs/RgD+w7Jk6z9GAP7DsmTrPw==\",\"dtype\":\"float64\",\"shape\":[50]}}},\"id\":\"7847d57e-1497-44af-ad9a-8868985ef0a3\",\"type\":\"ColumnDataSource\"},{\"attributes\":{},\"id\":\"1280a9a0-00ff-43a0-9e70-2e0fb2692ab6\",\"type\":\"WheelZoomTool\"},{\"attributes\":{\"source\":{\"id\":\"aeeae35b-2723-4929-be79-a9d0de25ea21\",\"type\":\"ColumnDataSource\"}},\"id\":\"5995110b-34e2-4dca-ab7c-f2332ea7342a\",\"type\":\"CDSView\"},{\"attributes\":{\"line_dash\":[6],\"x\":{\"field\":\"x\"},\"y\":{\"field\":\"y\"}},\"id\":\"7a273c7c-2ad1-44cd-b32f-efaaf8e707eb\",\"type\":\"Line\"},{\"attributes\":{\"overlay\":{\"id\":\"555d9976-d8c5-4629-bb94-3c824a991c3d\",\"type\":\"BoxAnnotation\"}},\"id\":\"75e1e83f-10c9-4abc-a852-c1c71b232e36\",\"type\":\"BoxZoomTool\"},{\"attributes\":{},\"id\":\"30c492a1-718b-410d-80d9-79ada11b76af\",\"type\":\"PanTool\"},{\"attributes\":{\"axis_label\":\"traning set size\",\"axis_label_text_font_size\":{\"value\":\"9pt\"},\"formatter\":{\"id\":\"1f2291fe-bae1-47d4-a8b2-fda18103c5cf\",\"type\":\"BasicTickFormatter\"},\"plot\":{\"id\":\"bea9f319-b7b8-4101-9d62-23e50c917596\",\"subtype\":\"Figure\",\"type\":\"Plot\"},\"ticker\":{\"id\":\"ce6732f9-622e-464a-aa86-659703868bc9\",\"type\":\"BasicTicker\"}},\"id\":\"4315f4ec-85fc-4ea8-b411-4787a7a1fe21\",\"type\":\"LinearAxis\"},{\"attributes\":{\"data_source\":{\"id\":\"d881ebd0-7870-4960-9e77-4c93b4184440\",\"type\":\"ColumnDataSource\"},\"glyph\":{\"id\":\"7be5fff2-182a-48a3-addf-c691ce65d686\",\"type\":\"Line\"},\"hover_glyph\":null,\"muted_glyph\":null,\"nonselection_glyph\":{\"id\":\"95b628f6-8527-4931-b31f-d6eaf96b2e0a\",\"type\":\"Line\"},\"selection_glyph\":null,\"view\":{\"id\":\"5a811c98-01ec-4aac-836f-a9203e55d392\",\"type\":\"CDSView\"}},\"id\":\"4c49a637-80b2-4587-a03b-e71d0555e14f\",\"type\":\"GlyphRenderer\"},{\"attributes\":{},\"id\":\"ce6732f9-622e-464a-aa86-659703868bc9\",\"type\":\"BasicTicker\"},{\"attributes\":{\"source\":{\"id\":\"7847d57e-1497-44af-ad9a-8868985ef0a3\",\"type\":\"ColumnDataSource\"}},\"id\":\"3aa7ba70-e3ab-403d-8ef3-895364a38142\",\"type\":\"CDSView\"},{\"attributes\":{\"callback\":null,\"column_names\":[\"x\",\"y\"],\"data\":{\"x\":[0,100],\"y\":[1.0,1.0]}},\"id\":\"aeeae35b-2723-4929-be79-a9d0de25ea21\",\"type\":\"ColumnDataSource\"},{\"attributes\":{},\"id\":\"5ec6601e-3efd-4320-be7c-2fef06b40935\",\"type\":\"LinearScale\"},{\"attributes\":{},\"id\":\"150c473b-f342-494d-b26b-be787779133e\",\"type\":\"BasicTicker\"},{\"attributes\":{},\"id\":\"712fe04e-4f98-4b54-959d-dd0e67d56d82\",\"type\":\"LinearScale\"},{\"attributes\":{\"dimension\":1,\"grid_line_color\":{\"value\":null},\"plot\":{\"id\":\"bea9f319-b7b8-4101-9d62-23e50c917596\",\"subtype\":\"Figure\",\"type\":\"Plot\"},\"ticker\":{\"id\":\"150c473b-f342-494d-b26b-be787779133e\",\"type\":\"BasicTicker\"}},\"id\":\"d8d4307a-ceb1-4e01-933c-8eab21cdd83e\",\"type\":\"Grid\"},{\"attributes\":{\"plot\":null,\"text\":\"d = 10\",\"text_font_size\":{\"value\":\"11pt\"}},\"id\":\"2ff253c8-86eb-449c-b217-72e18da72b86\",\"type\":\"Title\"},{\"attributes\":{},\"id\":\"f9013579-6ac1-4598-9e6b-2bb679a4bc0d\",\"type\":\"SaveTool\"},{\"attributes\":{\"callback\":null,\"column_names\":[\"x\",\"y\"],\"data\":{\"x\":[2,4,6,8,10,12,14,16,18,20,22,24,26,28,30,32,34,36,38,40,42,44,46,48,50,52,54,56,58,60,62,64,66,68,70,72,74,76,78,80,82,84,86,88,90,92,94,96,98,100],\"y\":{\"__ndarray__\":\"EqziHKreT0Gy781Tmol0QFYFPNDF6sBAFPas5Y5M40DlwUFHm9YxQYXg1Zv4zT9B6sPiRfNbvkD2ioeiz0eMQKrP2YwXX39A2ok+SwBVZkCusvrxoBkiQNa8+SbcDRVA2m39vUsyDkBmFkaTR5QGQKtu115wEwNAfk/N6swJAEDvqenJZJr4P5YMAJlCK/g/ZnW4mkqj9j9ewtvzqFb2PzqS16S3H/U/HVZuwJDr9D86eHn25eLyP5gAVqoK2PI/ARulwbxO8j/lUE2ctVLyP062aqmoOvI/9zFSyNOh8T87Rcq1QGnxP0AhsVQpDPE/QCGxVCkM8T9AIbFUKQzxP0AhsVQpDPE/QCGxVCkM8T9AIbFUKQzxP0AhsVQpDPE/QCGxVCkM8T9AIbFUKQzxP0AhsVQpDPE/QCGxVCkM8T9AIbFUKQzxP0AhsVQpDPE/QCGxVCkM8T9AIbFUKQzxP0AhsVQpDPE/QCGxVCkM8T9AIbFUKQzxP0AhsVQpDPE/QCGxVCkM8T9AIbFUKQzxPw==\",\"dtype\":\"float64\",\"shape\":[50]}}},\"id\":\"d881ebd0-7870-4960-9e77-4c93b4184440\",\"type\":\"ColumnDataSource\"}],\"root_ids\":[\"bea9f319-b7b8-4101-9d62-23e50c917596\"]},\"title\":\"Bokeh Application\",\"version\":\"0.12.13\"}};\n",
       "  var render_items = [{\"docid\":\"92f60f90-29f7-4193-b418-67c1b099a0d1\",\"elementid\":\"445340d8-2114-46da-885f-faa0fd2072fe\",\"modelid\":\"bea9f319-b7b8-4101-9d62-23e50c917596\"}];\n",
       "  root.Bokeh.embed.embed_items_notebook(docs_json, render_items);\n",
       "\n",
       "  }\n",
       "  if (root.Bokeh !== undefined) {\n",
       "    embed_document(root);\n",
       "  } else {\n",
       "    var attempts = 0;\n",
       "    var timer = setInterval(function(root) {\n",
       "      if (root.Bokeh !== undefined) {\n",
       "        embed_document(root);\n",
       "        clearInterval(timer);\n",
       "      }\n",
       "      attempts++;\n",
       "      if (attempts > 100) {\n",
       "        console.log(\"Bokeh: ERROR: Unable to run BokehJS code because BokehJS library is missing\")\n",
       "        clearInterval(timer);\n",
       "      }\n",
       "    }, 10, root)\n",
       "  }\n",
       "})(window);"
      ],
      "application/vnd.bokehjs_exec.v0+json": ""
     },
     "metadata": {
      "application/vnd.bokehjs_exec.v0+json": {
       "id": "bea9f319-b7b8-4101-9d62-23e50c917596"
      }
     },
     "output_type": "display_data"
    }
   ],
   "source": [
    "plot_learning_curve(d=10, N=100, y_range=(0,12))"
   ]
  },
  {
   "cell_type": "markdown",
   "metadata": {},
   "source": [
    "In this example it is possible to see that with `d=10` a **high-variance** estimator may **overfit data** when the number of samples is not sufficent. It is possible to note it by looking at the discrepancy between the two curves. When the number of samples is low we have a low training error, but the corresponding test error is really high. As the number of samples increase the test error decrease and converge to the model error but it may be to slow to converge and still have an higher discrepancy between the two curves.\n",
    "\n",
    "**When the learning curves does not converge using the full training set, it indicates a HIGH VARIANCE model, and the model is OVERFITTING the data.**\n",
    "\n",
    "A high-variance model can be improved by:\n",
    "\n",
    "* Gathering more training samples.\n",
    "* Using a less-sophisticated model (i.e. in this case, make `d` smaller)\n",
    "* Increase regularization.\n",
    "\n",
    "*In particular, gathering more features for each sample will not help the results.*"
   ]
  },
  {
   "cell_type": "markdown",
   "metadata": {},
   "source": [
    "## 6 Do the right thing"
   ]
  },
  {
   "cell_type": "markdown",
   "metadata": {},
   "source": [
    "### 6.1 High Bias"
   ]
  },
  {
   "cell_type": "markdown",
   "metadata": {},
   "source": [
    "If our algorithm shows high **bias**, the following actions might help:\n",
    "\n",
    "- **Add more features**. In our example of predicting home prices,\n",
    "  it may be helpful to make use of information such as the neighborhood\n",
    "  the house is in, the year the house was built, the size of the lot, etc.\n",
    "  Adding these features to the training and test sets can improve\n",
    "  a high-bias estimator\n",
    "- **Use a more sophisticated model**. Adding complexity to the model can\n",
    "  help improve on bias. For a polynomial fit, this can be accomplished\n",
    "  by increasing the degree d. Each learning technique has its own\n",
    "  methods of adding complexity.\n",
    "- **Use fewer samples**. Though this will not improve the classification,\n",
    "  a high-bias algorithm can attain nearly the same error with a smaller\n",
    "  training sample. For algorithms which are computationally expensive,\n",
    "  reducing the training sample size can lead to very large improvements\n",
    "  in speed.\n",
    "- **Decrease regularization**. Regularization is a technique used to impose\n",
    "  simplicity in some machine learning models, by adding a penalty term that\n",
    "  depends on the characteristics of the parameters. If a model has high bias,\n",
    "  decreasing the effect of regularization can lead to better results."
   ]
  },
  {
   "cell_type": "markdown",
   "metadata": {},
   "source": [
    "### 6.2 High Variance"
   ]
  },
  {
   "cell_type": "markdown",
   "metadata": {},
   "source": [
    "If our algorithm shows **high variance**, the following actions might help:\n",
    "\n",
    "- **Use fewer features**. Using a feature selection technique may be\n",
    "  useful, and decrease the over-fitting of the estimator.\n",
    "- **Use a simpler model**.  Model complexity and over-fitting go hand-in-hand.\n",
    "- **Use more training samples**. Adding training samples can reduce\n",
    "  the effect of over-fitting, and lead to improvements in a high\n",
    "  variance estimator.\n",
    "- **Increase Regularization**. Regularization is designed to prevent\n",
    "  over-fitting. In a high-variance model, increasing regularization\n",
    "  can lead to better results.\n",
    "\n",
    "These choices become very important in real-world situations. For example,\n",
    "due to limited telescope time, astronomers must seek a balance between\n",
    "observing a large number of objects, and observing a large number of\n",
    "features for each object. Determining which is more important for a\n",
    "particular learning task can inform the observing strategy that the\n",
    "astronomer employs. In a later exercise, we will explore the use of\n",
    "learning curves for the photometric redshift problem."
   ]
  },
  {
   "cell_type": "markdown",
   "metadata": {},
   "source": [
    "### 6.3 More Sophisticate Methods"
   ]
  },
  {
   "cell_type": "markdown",
   "metadata": {},
   "source": [
    "There are a lot more options for performing validation and model testing.\n",
    "In particular, there are several schemes for cross-validation, in which\n",
    "the model is fit multiple times with different training and test sets.\n",
    "The details are different, but the principles are the same as what we've\n",
    "seen here.\n",
    "\n",
    "For more information see the ``sklearn.model_selection`` module documentation,\n",
    "and the information on the scikit-learn website."
   ]
  },
  {
   "cell_type": "markdown",
   "metadata": {},
   "source": [
    "### 6.4 One Last Caution"
   ]
  },
  {
   "cell_type": "markdown",
   "metadata": {},
   "source": [
    "Using validation schemes to determine hyper-parameters means that we are\n",
    "fitting the hyper-parameters to the particular validation set.  In the same\n",
    "way that parameters can be over-fit to the training set, hyperparameters can\n",
    "be over-fit to the validation set.  Because of this, the validation error\n",
    "tends to under-predict the classification error of new data.\n",
    "\n",
    "For this reason, it is recommended to split the data into three sets:\n",
    "\n",
    "- The **training set**, used to train the model (usually ~60% of the data)\n",
    "- The **validation set**, used to validate the model (usually ~20% of the data)\n",
    "- The **test set**, used to evaluate the expected error of the validated model (usually ~20% of the data)\n",
    "\n",
    "*This may seem excessive, and many machine learning practitioners ignore the need\n",
    "for a test set.  But if your goal is to predict the error of a model on unknown\n",
    "data, using a test set is vital*."
   ]
  },
  {
   "cell_type": "markdown",
   "metadata": {},
   "source": [
    "## 7 Cross Validation (CV)"
   ]
  },
  {
   "cell_type": "markdown",
   "metadata": {},
   "source": [
    "By partitioning the available data into **Training** and **Validation** sets, we reduce the number of samples which can be used for learning the model.\n",
    "\n",
    "By using cross-validation **(CV)** the *validation set is defined automatically by the CV algoritm. * The training set is split into k smaller sets and:\n",
    "\n",
    "* A model is trained using k-1 of the folds as training data\n",
    "* The resulting model is validated on the remaining part of the data"
   ]
  },
  {
   "cell_type": "code",
   "execution_count": 32,
   "metadata": {},
   "outputs": [
    {
     "data": {
      "image/png": "[encoded data removed]",
      "text/plain": [
       "<IPython.core.display.Image object>"
      ]
     },
     "execution_count": 32,
     "metadata": {},
     "output_type": "execute_result"
    }
   ],
   "source": [
    "Image('images/k-fold.png') "
   ]
  },
  {
   "cell_type": "markdown",
   "metadata": {},
   "source": [
    "In this example we first calculate the Mean Squared Error on the Train DatasetSet (which is a methodological error) and then we calculate again the same MSE using a KFold CV. The MSE calculated with Cv is much larger:"
   ]
  },
  {
   "cell_type": "code",
   "execution_count": 33,
   "metadata": {},
   "outputs": [
    {
     "name": "stdout",
     "output_type": "stream",
     "text": [
      "MSE Calculated on the Training Set:    19.58765452634401\n",
      "MSE Calculated with Cross Validation: 49.85 (+/- 80.06)\n"
     ]
    }
   ],
   "source": [
    "X, y = datasets.samples_generator.make_regression(n_samples=7,\n",
    "                                                  n_features=1, n_informative=1,\n",
    "                                                  random_state=0, noise=5)\n",
    "lin = linear_model.LinearRegression(fit_intercept=True)\n",
    "lin.fit(X, y)\n",
    "MSE = metrics.mean_squared_error(lin.predict(X), y)\n",
    "print('MSE Calculated on the Training Set:   ', MSE)\n",
    "MSE_CV = model_selection.cross_val_score(lin, X, y, cv=5, scoring='neg_mean_squared_error')\n",
    "print(\"MSE Calculated with Cross Validation: %0.2f (+/- %0.2f)\"\n",
    "      % (abs(MSE_CV).mean(), abs(MSE_CV).std() * 2))"
   ]
  },
  {
   "cell_type": "markdown",
   "metadata": {},
   "source": [
    "When the `cv` argument is an integer like `cv=10`, `cross_val_score` uses the `KFold` or `StratifiedKFold` strategies. It is also possible to use other cross validation strategies by passing a cross validation iterator instead, for instance we can use `model_selection.ShuffleSplit` where `n_iter` is the number of re-shuffling and splitting operations:"
   ]
  },
  {
   "cell_type": "code",
   "execution_count": 34,
   "metadata": {},
   "outputs": [
    {
     "name": "stdout",
     "output_type": "stream",
     "text": [
      "MSE Calculated with Cross Validation: 31.07 (+/- 36.74)\n"
     ]
    }
   ],
   "source": [
    "n_samples = X.shape[0]\n",
    "cv_iter = model_selection.ShuffleSplit(n_samples, test_size=0.2, random_state=0)\n",
    "MSE_CV = model_selection.cross_val_score(lin, X, y, cv=cv_iter, scoring='neg_mean_squared_error')\n",
    "print(\"MSE Calculated with Cross Validation: %0.2f (+/- %0.2f)\"\n",
    "      % (abs(MSE_CV).mean(), abs(MSE_CV).std() * 2))"
   ]
  },
  {
   "cell_type": "markdown",
   "metadata": {},
   "source": [
    "### 7.1 Cross Validation: test many estimators on the same dataset:"
   ]
  },
  {
   "cell_type": "markdown",
   "metadata": {},
   "source": [
    "In this example *we use the \"diabetes\" dataset* to fit tree different linear models. For each model the default CV score is calculated and displayed:"
   ]
  },
  {
   "cell_type": "code",
   "execution_count": 35,
   "metadata": {},
   "outputs": [
    {
     "name": "stdout",
     "output_type": "stream",
     "text": [
      "LinearRegression :  0.4887027672471189\n",
      "Ridge :  0.40942743830329875\n",
      "Lasso :  0.35380008329932017\n"
     ]
    }
   ],
   "source": [
    "data = datasets.load_diabetes()\n",
    "X, y = data.data, data.target\n",
    "\n",
    "for Model in [linear_model.LinearRegression,\n",
    "              linear_model.Ridge,\n",
    "              linear_model.Lasso]:\n",
    "    model = Model()\n",
    "    print(Model.__name__, ': ', model_selection.cross_val_score(model, X, y).mean())"
   ]
  },
  {
   "cell_type": "markdown",
   "metadata": {},
   "source": [
    "### 7.2 Cross Validation: test many hyperparamaters and estimators on the same dataset:"
   ]
  },
  {
   "cell_type": "markdown",
   "metadata": {},
   "source": [
    "`Lasso` and `Ridge` accept a regularization parameter `alpha`. Here we plot the CV Score for different values of alpha"
   ]
  },
  {
   "cell_type": "code",
   "execution_count": 36,
   "metadata": {},
   "outputs": [
    {
     "data": {
      "text/html": [
       "\n",
       "<div class=\"bk-root\">\n",
       "    <div class=\"bk-plotdiv\" id=\"a6a739d1-7eab-4c98-9736-ab94ea85a8e4\"></div>\n",
       "</div>"
      ]
     },
     "metadata": {},
     "output_type": "display_data"
    },
    {
     "data": {
      "application/javascript": [
       "(function(root) {\n",
       "  function embed_document(root) {\n",
       "    \n",
       "  var docs_json = {\"f67fc7d8-ac22-43df-b0d4-9c53d8f8dfc6\":{\"roots\":{\"references\":[{\"attributes\":{},\"id\":\"669c1167-16e9-457f-86e8-f0d0adb7b063\",\"type\":\"WheelZoomTool\"},{\"attributes\":{\"num_minor_ticks\":10},\"id\":\"5bd3fdd8-81a9-4fc9-acd2-5729be117da0\",\"type\":\"LogTicker\"},{\"attributes\":{},\"id\":\"f16021ce-7208-4137-965a-49c2feed88b5\",\"type\":\"PanTool\"},{\"attributes\":{\"dimension\":1,\"plot\":{\"id\":\"0a35244f-cbc5-4871-b7ef-4c50d5df4aa6\",\"subtype\":\"Figure\",\"type\":\"Plot\"},\"ticker\":{\"id\":\"04d1f2d6-6210-473d-9024-588ff0abc195\",\"type\":\"BasicTicker\"}},\"id\":\"c105044c-3d51-41c5-972a-4937a38f250a\",\"type\":\"Grid\"},{\"attributes\":{\"line_color\":\"green\",\"x\":{\"field\":\"x\"},\"y\":{\"field\":\"y\"}},\"id\":\"4ebc052c-824d-4cb8-9e86-50d2a16a1722\",\"type\":\"Line\"},{\"attributes\":{\"data_source\":{\"id\":\"bb51e404-3485-4b8d-9fdd-8de2899e7886\",\"type\":\"ColumnDataSource\"},\"glyph\":{\"id\":\"2f481cad-7b97-418a-867f-c9fdfe30b452\",\"type\":\"Line\"},\"hover_glyph\":null,\"muted_glyph\":null,\"nonselection_glyph\":{\"id\":\"96765f87-6a26-40f3-aaa0-0870ab20f222\",\"type\":\"Line\"},\"selection_glyph\":null,\"view\":{\"id\":\"a39d576f-9477-4b57-a6f9-b803ee8f405e\",\"type\":\"CDSView\"}},\"id\":\"af6819ca-390a-4c13-8bb5-4d8f78262d43\",\"type\":\"GlyphRenderer\"},{\"attributes\":{},\"id\":\"1b2b8a28-04df-4dae-92bf-a8b907031bca\",\"type\":\"BasicTickFormatter\"},{\"attributes\":{},\"id\":\"0dac708f-ea92-423f-a051-85d23cfdab9e\",\"type\":\"HelpTool\"},{\"attributes\":{},\"id\":\"d3d570ed-6973-4d32-a39e-2a439a616d5e\",\"type\":\"ResetTool\"},{\"attributes\":{\"source\":{\"id\":\"bb51e404-3485-4b8d-9fdd-8de2899e7886\",\"type\":\"ColumnDataSource\"}},\"id\":\"a39d576f-9477-4b57-a6f9-b803ee8f405e\",\"type\":\"CDSView\"},{\"attributes\":{\"line_alpha\":0.1,\"line_color\":\"#1f77b4\",\"x\":{\"field\":\"x\"},\"y\":{\"field\":\"y\"}},\"id\":\"96765f87-6a26-40f3-aaa0-0870ab20f222\",\"type\":\"Line\"},{\"attributes\":{},\"id\":\"82f7b6d3-fd42-4c49-b198-8e84ce6a0dba\",\"type\":\"LogScale\"},{\"attributes\":{\"callback\":null,\"column_names\":[\"x\",\"y\"],\"data\":{\"x\":{\"__ndarray__\":\"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\",\"dtype\":\"float64\",\"shape\":[200]},\"y\":[0.4823198719804238,0.48231991884559233,0.48231996700377405,0.48232001435008465,0.4823200641088565,0.48232011438925626,0.4823201651660526,0.48232021628554095,0.4823202688235386,0.48232031506480577,0.4823203646383532,0.4823204159736383,0.48232046553209856,0.482320516352849,0.4823205652553114,0.4823206147625639,0.4823206609496345,0.48232070830886675,0.4823207512358609,0.482320797206757,0.4823208395067294,0.48232086987668144,0.4823209035572457,0.48232093772119244,0.4823209701433882,0.4823209937028287,0.4823210121764812,0.48232102938033955,0.4823210383036353,0.4823210382246398,0.4823210367267542,0.48232102291351353,0.48232100188189336,0.4823209750026871,0.4823209277652788,0.48232087933243156,0.48232080072971284,0.4823207262236314,0.48232062869260883,0.4823205123628167,0.48232038389357185,0.48232023409844027,0.4823200606957142,0.4823198630682636,0.4823196435370619,0.48231939042330474,0.4823191108923064,0.48231878968779507,0.48231843884325176,0.48231805021518487,0.482317618820265,0.48231712705368307,0.48231660577889623,0.4823160117270618,0.4823153648336954,0.48231465857648625,0.4823138863846255,0.48231304096732464,0.4823121039781089,0.48231108218033364,0.48230996012143973,0.4823087455313269,0.48230741896421864,0.482305978413876,0.482304406454792,0.4823027044475654,0.48230545853492474,0.48231236488885987,0.48232198419781025,0.48233192592164953,0.4823420813307693,0.48235254829327623,0.48236328171946086,0.48237432164243293,0.48238559388143454,0.48239721511385414,0.48240912808098085,0.4824213411520935,0.4824338789446873,0.48244661269627176,0.48245976034662946,0.4824682457515436,0.48247049879835613,0.4824726143270068,0.48247456686107026,0.48247632449469985,0.4824778429299572,0.48247920875228684,0.4824802464699305,0.4824810677509467,0.48248142894293655,0.4824815421097517,0.48248688644729876,0.48249238411036577,0.48249777820428585,0.48250292043971843,0.4825077757035716,0.4825123092297484,0.4825165537139525,0.4825202985083378,0.4825236486196308,0.48252651183548184,0.482528745396613,0.48253037056428844,0.48253113755992205,0.4825312510779879,0.48252725863151724,0.482519124511132,0.4825095818562354,0.4824991672498397,0.482487143299243,0.4824732775368445,0.48245738377572556,0.4824355164872955,0.48238751971959815,0.48233330431589894,0.4822766797802669,0.4822171802659293,0.48215421786198903,0.4820878622482356,0.48201796066394687,0.4819445464894012,0.4818668451908086,0.4817850519347996,0.48169878203634753,0.4816077538268825,0.4815119907254619,0.48141173238577817,0.48131684493045856,0.48125683521420565,0.4812150218369049,0.48116892423598606,0.4811179249238876,0.4810983464073743,0.4810991293643679,0.48111933133830787,0.48115650678595134,0.4811802956093871,0.4811998162709455,0.4812176290120428,0.48123329144705396,0.48124695209799845,0.4812844503876915,0.48134172073405673,0.4814039306194536,0.48146432253306076,0.48152029004309665,0.48157635653669484,0.4816320306416987,0.481687577177062,0.481717153147682,0.4817349085093469,0.4817519852888578,0.4817686187602728,0.48178530060589253,0.4818002392200416,0.4818144922628632,0.4818275421949744,0.481840393524093,0.4818499462414998,0.4818827756845915,0.4819158961621567,0.48194828087696584,0.4819797313850289,0.4820098554769894,0.482038668903985,0.48206586949108116,0.48208595408295735,0.4820995110582837,0.4821082651529761,0.4821152713189608,0.48211654452643826,0.48211416669872625,0.48210766275813344,0.4820967786702234,0.48208085909182874,0.4820630346952136,0.48204909514844074,0.4820428973029266,0.4820423170478307,0.48203535099700207,0.48202268559982053,0.48200295920617026,0.4819759672586835,0.4819411629935084,0.4818878476797265,0.48181757338938336,0.48173951676780763,0.4816510140889866,0.4815350476045719,0.48140495190257815,0.4812627586024198,0.4811058827242256,0.4809344025096175,0.48074660077664505,0.4805416840899059,0.48031758713672235,0.4800731162349868,0.4798063836521422,0.4795161392064994]}},\"id\":\"244ea410-e68d-4184-a174-6e4d5b7f7e99\",\"type\":\"ColumnDataSource\"},{\"attributes\":{\"formatter\":{\"id\":\"e6da5e75-e660-43fa-873f-ec1f1db94755\",\"type\":\"LogTickFormatter\"},\"plot\":{\"id\":\"0a35244f-cbc5-4871-b7ef-4c50d5df4aa6\",\"subtype\":\"Figure\",\"type\":\"Plot\"},\"ticker\":{\"id\":\"5bd3fdd8-81a9-4fc9-acd2-5729be117da0\",\"type\":\"LogTicker\"}},\"id\":\"bb0ea1e6-8ce9-4cc1-a07a-5c9a54f31086\",\"type\":\"LogAxis\"},{\"attributes\":{\"source\":{\"id\":\"244ea410-e68d-4184-a174-6e4d5b7f7e99\",\"type\":\"ColumnDataSource\"}},\"id\":\"90de6155-6749-474e-8c48-46af2855f9c1\",\"type\":\"CDSView\"},{\"attributes\":{\"line_alpha\":0.1,\"line_color\":\"#1f77b4\",\"x\":{\"field\":\"x\"},\"y\":{\"field\":\"y\"}},\"id\":\"3d639792-e408-4ff2-b3c1-b91fe8ee34b5\",\"type\":\"Line\"},{\"attributes\":{\"ticker\":null},\"id\":\"e6da5e75-e660-43fa-873f-ec1f1db94755\",\"type\":\"LogTickFormatter\"},{\"attributes\":{},\"id\":\"04d1f2d6-6210-473d-9024-588ff0abc195\",\"type\":\"BasicTicker\"},{\"attributes\":{\"overlay\":{\"id\":\"ecb3a458-c02a-4401-be17-83c8b367b921\",\"type\":\"BoxAnnotation\"}},\"id\":\"4326980f-3b9c-427b-86ae-ec90a33e061b\",\"type\":\"BoxZoomTool\"},{\"attributes\":{\"data_source\":{\"id\":\"244ea410-e68d-4184-a174-6e4d5b7f7e99\",\"type\":\"ColumnDataSource\"},\"glyph\":{\"id\":\"4ebc052c-824d-4cb8-9e86-50d2a16a1722\",\"type\":\"Line\"},\"hover_glyph\":null,\"muted_glyph\":null,\"nonselection_glyph\":{\"id\":\"3d639792-e408-4ff2-b3c1-b91fe8ee34b5\",\"type\":\"Line\"},\"selection_glyph\":null,\"view\":{\"id\":\"90de6155-6749-474e-8c48-46af2855f9c1\",\"type\":\"CDSView\"}},\"id\":\"f7ceb405-df58-466d-a4b0-cd5e01d0ae58\",\"type\":\"GlyphRenderer\"},{\"attributes\":{\"below\":[{\"id\":\"bb0ea1e6-8ce9-4cc1-a07a-5c9a54f31086\",\"type\":\"LogAxis\"}],\"left\":[{\"id\":\"7780edd7-5ec2-43af-b7be-bae3278c1869\",\"type\":\"LinearAxis\"}],\"plot_height\":300,\"plot_width\":700,\"renderers\":[{\"id\":\"bb0ea1e6-8ce9-4cc1-a07a-5c9a54f31086\",\"type\":\"LogAxis\"},{\"id\":\"f2a8410d-9bb6-44d5-b66a-ebaeb6e2f42e\",\"type\":\"Grid\"},{\"id\":\"7780edd7-5ec2-43af-b7be-bae3278c1869\",\"type\":\"LinearAxis\"},{\"id\":\"c105044c-3d51-41c5-972a-4937a38f250a\",\"type\":\"Grid\"},{\"id\":\"ecb3a458-c02a-4401-be17-83c8b367b921\",\"type\":\"BoxAnnotation\"},{\"id\":\"a22b25bd-386e-419e-9bef-acf6bc1f1c98\",\"type\":\"Legend\"},{\"id\":\"af6819ca-390a-4c13-8bb5-4d8f78262d43\",\"type\":\"GlyphRenderer\"},{\"id\":\"f7ceb405-df58-466d-a4b0-cd5e01d0ae58\",\"type\":\"GlyphRenderer\"}],\"title\":{\"id\":\"6bbfee29-a9a0-445a-b50b-1e1bbe304e38\",\"type\":\"Title\"},\"toolbar\":{\"id\":\"8934c519-f0ce-4909-82e4-9d442ddb857d\",\"type\":\"Toolbar\"},\"x_range\":{\"id\":\"7ddc8e02-aa65-413d-af08-30ea26bde253\",\"type\":\"Range1d\"},\"x_scale\":{\"id\":\"82f7b6d3-fd42-4c49-b198-8e84ce6a0dba\",\"type\":\"LogScale\"},\"y_range\":{\"id\":\"c99c999d-f8b2-4d60-bac2-27f7a843d0d9\",\"type\":\"DataRange1d\"},\"y_scale\":{\"id\":\"3600ed5c-138e-46b6-8df1-6f3139c17580\",\"type\":\"LinearScale\"}},\"id\":\"0a35244f-cbc5-4871-b7ef-4c50d5df4aa6\",\"subtype\":\"Figure\",\"type\":\"Plot\"},{\"attributes\":{\"callback\":null,\"end\":0.1,\"start\":0.0001},\"id\":\"7ddc8e02-aa65-413d-af08-30ea26bde253\",\"type\":\"Range1d\"},{\"attributes\":{\"callback\":null},\"id\":\"c99c999d-f8b2-4d60-bac2-27f7a843d0d9\",\"type\":\"DataRange1d\"},{\"attributes\":{\"label\":{\"value\":\"Lasso\"},\"renderers\":[{\"id\":\"f7ceb405-df58-466d-a4b0-cd5e01d0ae58\",\"type\":\"GlyphRenderer\"}]},\"id\":\"b4db7493-223f-4d74-9be8-8072581b0a62\",\"type\":\"LegendItem\"},{\"attributes\":{\"label\":{\"value\":\"Ridge\"},\"renderers\":[{\"id\":\"af6819ca-390a-4c13-8bb5-4d8f78262d43\",\"type\":\"GlyphRenderer\"}]},\"id\":\"a8db8e8b-2a8a-430f-8fc2-8d09f9e4987b\",\"type\":\"LegendItem\"},{\"attributes\":{\"active_drag\":\"auto\",\"active_inspect\":\"auto\",\"active_scroll\":\"auto\",\"active_tap\":\"auto\",\"tools\":[{\"id\":\"f16021ce-7208-4137-965a-49c2feed88b5\",\"type\":\"PanTool\"},{\"id\":\"669c1167-16e9-457f-86e8-f0d0adb7b063\",\"type\":\"WheelZoomTool\"},{\"id\":\"4326980f-3b9c-427b-86ae-ec90a33e061b\",\"type\":\"BoxZoomTool\"},{\"id\":\"e2c49ac6-2e11-4012-930b-40190cc4b982\",\"type\":\"SaveTool\"},{\"id\":\"d3d570ed-6973-4d32-a39e-2a439a616d5e\",\"type\":\"ResetTool\"},{\"id\":\"0dac708f-ea92-423f-a051-85d23cfdab9e\",\"type\":\"HelpTool\"}]},\"id\":\"8934c519-f0ce-4909-82e4-9d442ddb857d\",\"type\":\"Toolbar\"},{\"attributes\":{\"line_color\":\"blue\",\"x\":{\"field\":\"x\"},\"y\":{\"field\":\"y\"}},\"id\":\"2f481cad-7b97-418a-867f-c9fdfe30b452\",\"type\":\"Line\"},{\"attributes\":{},\"id\":\"e2c49ac6-2e11-4012-930b-40190cc4b982\",\"type\":\"SaveTool\"},{\"attributes\":{\"formatter\":{\"id\":\"1b2b8a28-04df-4dae-92bf-a8b907031bca\",\"type\":\"BasicTickFormatter\"},\"plot\":{\"id\":\"0a35244f-cbc5-4871-b7ef-4c50d5df4aa6\",\"subtype\":\"Figure\",\"type\":\"Plot\"},\"ticker\":{\"id\":\"04d1f2d6-6210-473d-9024-588ff0abc195\",\"type\":\"BasicTicker\"}},\"id\":\"7780edd7-5ec2-43af-b7be-bae3278c1869\",\"type\":\"LinearAxis\"},{\"attributes\":{\"callback\":null,\"column_names\":[\"x\",\"y\"],\"data\":{\"x\":{\"__ndarray__\":\"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\",\"dtype\":\"float64\",\"shape\":[200]},\"y\":[0.4823231384163484,0.48232328486322984,0.4823234343437866,0.48232358681895865,0.48232374223859775,0.4823239005404606,0.48232406164913294,0.48232422547487763,0.4823243919124029,0.4823245608395461,0.4823247321158702,0.4823249055811646,0.48232508105384736,0.48232525832926376,0.48232543717787435,0.4823256173433281,0.48232579854041296,0.48232598045288116,0.4823261627311388,0.48232634498979665,0.48232652680507615,0.48232670771205993,0.482326887201786,0.4823270647181747,0.48232723965478375,0.4823274113513851,0.4823275790903562,0.4823277420928795,0.48232789951494504,0.48232805044314964,0.48232819389028714,0.48232832879072374,0.482328453995556,0.48232856826754544,0.4823286702758273,0.48232875859039026,0.48232883167632623,0.482328887887849,0.4823289254620818,0.48232894251261804,0.4823289370228556,0.48232890683911045,0.4823288496635187,0.4823287630467341,0.48232864438043144,0.48232849088963226,0.482328299624867,0.4823280674541938,0.4823277910550961,0.4823274669062859,0.4823270912794409,0.48232666023091025,0.482326169593425,0.48232561496785814,0.4823249917150766,0.482324294947942,0.48232351952351216,0.4823226600355074,0.48232171080710984,0.48232066588416717,0.48231951902888,0.48231826371405717,0.48231689311802955,0.48231540012031865,0.4823137772981596,0.48231201692398845,0.4823101109640035,0.48230805107791924,0.4823058286200331,0.4823034346417322,0.4823008598955666,0.4822980948410214,0.4822951296521204,0.48229195422699433,0.4822885581995452,0.48228493095334,0.48228106163785966,0.4822769391872262,0.4822725523415256,0.4822678896708335,0.48226293960204336,0.4822576904485816,0.48225213044308307,0.48224624777308234,0.48224003061975795,0.4822334671997467,0.4822265458100225,0.48221925487580786,0.48221158300146055,0.4822035190242513,0.48219505207091035,0.4821861716167987,0.48217686754751715,0.48216713022273766,0.4821569505420043,0.4821463200122128,0.48213523081644905,0.48212367588382155,0.4821116489598998,0.4820991446773282,0.4820861586261609,0.4820726874234298,0.48205872878143835,0.4820442815742429,0.48202934590177604,0.4820139231510436,0.4819980160538243,0.48198162874029415,0.48196476678799993,0.48194743726561773,0.48192964877093897,0.48191141146255206,0.48189273708471153,0.48187363898491586,0.48185413212375555,0.4818342330766311,0.48181396002699295,0.48179333275080094,0.48177237259196176,0.48175110242855707,0.48172954662973666,0.48170773100321773,0.48168568273338447,0.481663430310057,0.48164100344805094,0.48161843299771423,0.4815957508466827,0.48157298981314955,0.4815501835309945,0.48152736632716076,0.4815045730917055,0.4814818391409862,0.48145920007446286,0.48143669162562325,0.4814143495075406,0.4813922092535833,0.48137030605378894,0.48134867458740355,0.48132734885206985,0.48130636199012305,0.48128574611241837,0.48126553212007794,0.4812457495245046,0.48122642626595413,0.4812075885309108,0.48118926056845435,0.48117146450574316,0.4811542201626783,0.48113754486575305,0.4811214532610223,0.4811059571260648,0.4810910651807472,0.4810767828965325,0.481063112304016,0.48105005179830973,0.4810375959418403,0.4810257352640681,0.48101445605758714,0.4810037401700134,0.48099356479102956,0.48098390223391013,0.48097471971082156,0.4809659791011561,0.48095763671213776,0.4809496430309176,0.4809419424673612,0.4809344730867252,0.4809271663314171,0.48091994673103555,0.48091273159990544,0.48090543072133307,0.48089794601783986,0.4808901712066616,0.48088199143984395,0.4808732829283164,0.48086391254938177,0.48085373743712934,0.4808426045553581,0.48083035025267806,0.48081679979956304,0.4808017669072296,0.4807850532283398,0.48076644783965394,0.48074572670690047,0.48072265213228516,0.4806969721852246,0.48066842011706595,0.4806367137607432,0.48060155491652,0.48056262872517913,0.48051960303023994,0.4804721277310173,0.4804198341285775,0.48036233426689295,0.48029922027175764,0.48023006369028814,0.4801544148341005,0.4800718021295253,0.4799817314784969,0.47988368563401884]}},\"id\":\"bb51e404-3485-4b8d-9fdd-8de2899e7886\",\"type\":\"ColumnDataSource\"},{\"attributes\":{},\"id\":\"3600ed5c-138e-46b6-8df1-6f3139c17580\",\"type\":\"LinearScale\"},{\"attributes\":{\"plot\":null,\"text\":\"Alpha sensitiveness on different models\"},\"id\":\"6bbfee29-a9a0-445a-b50b-1e1bbe304e38\",\"type\":\"Title\"},{\"attributes\":{\"items\":[{\"id\":\"a8db8e8b-2a8a-430f-8fc2-8d09f9e4987b\",\"type\":\"LegendItem\"},{\"id\":\"b4db7493-223f-4d74-9be8-8072581b0a62\",\"type\":\"LegendItem\"}],\"location\":\"bottom_left\",\"plot\":{\"id\":\"0a35244f-cbc5-4871-b7ef-4c50d5df4aa6\",\"subtype\":\"Figure\",\"type\":\"Plot\"}},\"id\":\"a22b25bd-386e-419e-9bef-acf6bc1f1c98\",\"type\":\"Legend\"},{\"attributes\":{\"plot\":{\"id\":\"0a35244f-cbc5-4871-b7ef-4c50d5df4aa6\",\"subtype\":\"Figure\",\"type\":\"Plot\"},\"ticker\":{\"id\":\"5bd3fdd8-81a9-4fc9-acd2-5729be117da0\",\"type\":\"LogTicker\"}},\"id\":\"f2a8410d-9bb6-44d5-b66a-ebaeb6e2f42e\",\"type\":\"Grid\"},{\"attributes\":{\"bottom_units\":\"screen\",\"fill_alpha\":{\"value\":0.5},\"fill_color\":{\"value\":\"lightgrey\"},\"left_units\":\"screen\",\"level\":\"overlay\",\"line_alpha\":{\"value\":1.0},\"line_color\":{\"value\":\"black\"},\"line_dash\":[4,4],\"line_width\":{\"value\":2},\"plot\":null,\"render_mode\":\"css\",\"right_units\":\"screen\",\"top_units\":\"screen\"},\"id\":\"ecb3a458-c02a-4401-be17-83c8b367b921\",\"type\":\"BoxAnnotation\"}],\"root_ids\":[\"0a35244f-cbc5-4871-b7ef-4c50d5df4aa6\"]},\"title\":\"Bokeh Application\",\"version\":\"0.12.13\"}};\n",
       "  var render_items = [{\"docid\":\"f67fc7d8-ac22-43df-b0d4-9c53d8f8dfc6\",\"elementid\":\"a6a739d1-7eab-4c98-9736-ab94ea85a8e4\",\"modelid\":\"0a35244f-cbc5-4871-b7ef-4c50d5df4aa6\"}];\n",
       "  root.Bokeh.embed.embed_items_notebook(docs_json, render_items);\n",
       "\n",
       "  }\n",
       "  if (root.Bokeh !== undefined) {\n",
       "    embed_document(root);\n",
       "  } else {\n",
       "    var attempts = 0;\n",
       "    var timer = setInterval(function(root) {\n",
       "      if (root.Bokeh !== undefined) {\n",
       "        embed_document(root);\n",
       "        clearInterval(timer);\n",
       "      }\n",
       "      attempts++;\n",
       "      if (attempts > 100) {\n",
       "        console.log(\"Bokeh: ERROR: Unable to run BokehJS code because BokehJS library is missing\")\n",
       "        clearInterval(timer);\n",
       "      }\n",
       "    }, 10, root)\n",
       "  }\n",
       "})(window);"
      ],
      "application/vnd.bokehjs_exec.v0+json": ""
     },
     "metadata": {
      "application/vnd.bokehjs_exec.v0+json": {
       "id": "0a35244f-cbc5-4871-b7ef-4c50d5df4aa6"
      }
     },
     "output_type": "display_data"
    }
   ],
   "source": [
    "from bokeh.models.axes import LogAxis\n",
    "\n",
    "alphas = np.logspace(-4, -1, 200)\n",
    "fig = bk.figure(title='Alpha sensitiveness on different models',\n",
    "                plot_width=700, plot_height=300,\n",
    "                x_axis_type='log', \n",
    "                x_range=(min(alphas), max(alphas)))\n",
    "\n",
    "for Model, color in [(linear_model.Ridge, 'blue'), (linear_model.Lasso, 'green')]:\n",
    "    scores = [model_selection.cross_val_score(Model(alpha=a), X, y, cv=5).mean()\n",
    "              for a in alphas]\n",
    "    fig.line(alphas, scores, line_color=color, legend=Model.__name__)\n",
    "\n",
    "fig.legend.location = 'bottom_left'\n",
    "bk.show(fig)"
   ]
  },
  {
   "cell_type": "markdown",
   "metadata": {},
   "source": [
    "### 7.3 Model specific Cross Validation:"
   ]
  },
  {
   "cell_type": "markdown",
   "metadata": {},
   "source": [
    "Some models can fit data for a range of parameters almost as efficiently as fitting for a single parameter. The most common parameter amenable to this strategy is the strength of the regularizer. In this case we say that we compute the regularization path of the estimator.\n",
    "\n",
    "This is a particular case of what we are going to see in the next paragraph: **Grid Search**.\n",
    "\n",
    "Model Specific Cross Validation is supported by the following models:\n",
    "\n",
    "* **RidgeCV**\n",
    "* **RidgeClassifierCV**\n",
    "* **LarsCV**\n",
    "* **LassoLarsCV**\n",
    "* **LassoCV**\n",
    "* **ElasticNetCV**"
   ]
  },
  {
   "cell_type": "code",
   "execution_count": 37,
   "metadata": {},
   "outputs": [
    {
     "name": "stdout",
     "output_type": "stream",
     "text": [
      "RidgeCV :  0.0003739937302478798\n",
      "LassoCV :  0.003827494478516311\n"
     ]
    }
   ],
   "source": [
    "for Model in [linear_model.RidgeCV, linear_model.LassoCV]:\n",
    "    model = Model(alphas=alphas, cv=5).fit(X, y)\n",
    "    print(Model.__name__, ': ', model.alpha_)"
   ]
  },
  {
   "cell_type": "markdown",
   "metadata": {},
   "source": [
    "### 7.4 Cross-validation iterators"
   ]
  },
  {
   "cell_type": "markdown",
   "metadata": {},
   "source": [
    "* **K-fold** - divide all samples in *K* groups, if *K=n* it is equivalent to leave-one-out.\n",
    "* **Statified K-fold** - each set contains the same prercentage of the target classes as the whole set\n",
    "* **Leave-One-Out (LOO)** - all samples except one\n",
    "* **Leave-P-Out (LPO)** - create all possible training sets by removing *p* samples from the whole set\n",
    "* **Leave-One-Label-Out (LOLO)** - holds out the samples according to a third-party provided label\n",
    "* **ShuffleSplit** - shuffles then split data in train and test sets\n",
    "* **StratifiedShuffleSplit** - ShuffleSplits by preserving percentage\n",
    "* **Bootstrap** - generate independent splits and then resample with replacement each split"
   ]
  },
  {
   "cell_type": "code",
   "execution_count": 38,
   "metadata": {
    "collapsed": true
   },
   "outputs": [],
   "source": [
    "X = np.arange(20).reshape(10,2)\n",
    "y = np.arange(10)"
   ]
  },
  {
   "cell_type": "markdown",
   "metadata": {},
   "source": [
    "**KFold** split dataset into k consecutive folds (without shuffling):"
   ]
  },
  {
   "cell_type": "code",
   "execution_count": 39,
   "metadata": {},
   "outputs": [
    {
     "name": "stdout",
     "output_type": "stream",
     "text": [
      "[2 3 4 5 6 7 8 9] [0 1]\n",
      "[0 1 4 5 6 7 8 9] [2 3]\n",
      "[0 1 2 3 6 7 8 9] [4 5]\n",
      "[0 1 2 3 4 5 8 9] [6 7]\n",
      "[0 1 2 3 4 5 6 7] [8 9]\n"
     ]
    }
   ],
   "source": [
    "kf = model_selection.KFold(n_splits=5)\n",
    "for train, test in kf.split(X):\n",
    "    print(train, test)"
   ]
  },
  {
   "cell_type": "markdown",
   "metadata": {},
   "source": [
    "**ShuffleSplit** do not guarantee that all folds will be different:"
   ]
  },
  {
   "cell_type": "code",
   "execution_count": 40,
   "metadata": {},
   "outputs": [
    {
     "name": "stdout",
     "output_type": "stream",
     "text": [
      "[5 3 9 8 0 7 1 4] [6 2]\n",
      "[1 9 2 3 5 8 7 4] [0 6]\n",
      "[4 3 6 2 9 5 7 0] [8 1]\n",
      "[9 5 8 7 2 0 1 6] [4 3]\n",
      "[5 8 2 3 1 6 4 7] [9 0]\n"
     ]
    }
   ],
   "source": [
    "ss = model_selection.ShuffleSplit(n_splits=5, test_size=0.2)\n",
    "for train, test in ss.split(X):\n",
    "    print(train, test)"
   ]
  },
  {
   "cell_type": "markdown",
   "metadata": {},
   "source": [
    "**Bootstrap** example:"
   ]
  },
  {
   "cell_type": "code",
   "execution_count": 41,
   "metadata": {},
   "outputs": [
    {
     "name": "stdout",
     "output_type": "stream",
     "text": [
      "[1 2 3 4 5 6 7 8 9] [0]\n",
      "[0 2 3 4 5 6 7 8 9] [1]\n",
      "[0 1 3 4 5 6 7 8 9] [2]\n",
      "[0 1 2 4 5 6 7 8 9] [3]\n",
      "[0 1 2 3 5 6 7 8 9] [4]\n",
      "[0 1 2 3 4 6 7 8 9] [5]\n",
      "[0 1 2 3 4 5 7 8 9] [6]\n",
      "[0 1 2 3 4 5 6 8 9] [7]\n",
      "[0 1 2 3 4 5 6 7 9] [8]\n",
      "[0 1 2 3 4 5 6 7 8] [9]\n"
     ]
    }
   ],
   "source": [
    "bs = model_selection.LeaveOneOut()\n",
    "for train, test in bs.split(X):\n",
    "    print(train, test)"
   ]
  },
  {
   "cell_type": "markdown",
   "metadata": {},
   "source": [
    "## 8 Grid Search: Searching for estimator hyperparameters"
   ]
  },
  {
   "cell_type": "markdown",
   "metadata": {},
   "source": [
    "`GridSearchCV` can optimize any parameter provided by `estimator.get_params()` by exhaustively fitting the model with any parameter combination.\n",
    "\n",
    "When evaluating different settings (“hyperparameters”) for estimators.\n",
    "\n",
    "`GridSearchCV` will optimize the hyperparameters on the **TRAINING set** (whereas the **VALIDATION set** is generated by CV). After the optimization has been done, the performances of the estimator can be evaluated on a third set called **TEST set**:"
   ]
  },
  {
   "cell_type": "markdown",
   "metadata": {},
   "source": [
    "### 8.1 Exhaustive Grid Search"
   ]
  },
  {
   "cell_type": "markdown",
   "metadata": {},
   "source": [
    "We'll pass to `GridSearchCV` a dictionary of parameters containing a list of hyperparameters to be searched. In this case we set `verbose=2` to see an output about all the searches done by the algorithm:"
   ]
  },
  {
   "cell_type": "code",
   "execution_count": 42,
   "metadata": {},
   "outputs": [
    {
     "name": "stdout",
     "output_type": "stream",
     "text": [
      "Fitting 5 folds for each of 4 candidates, totalling 20 fits\n",
      "[CV] C=1, kernel=linear ..............................................\n",
      "[CV] C=1, kernel=linear ..............................................\n",
      "[CV] C=1, kernel=linear ..............................................\n",
      "[CV] C=1, kernel=linear ..............................................\n",
      "[CV] ............................... C=1, kernel=linear, total=   0.0s\n",
      "[CV] C=10, kernel=linear .............................................\n",
      "[CV] C=10, kernel=linear .............................................\n",
      "[CV] ............................... C=1, kernel=linear, total=   0.0s\n",
      "[CV] C=2, gamma=0.1, kernel=rbf ......................................\n",
      "[CV] C=2, gamma=0.1, kernel=rbf ......................................\n",
      "[CV] ............................... C=1, kernel=linear, total=   0.0s\n",
      "[CV] C=2, gamma=0.1, kernel=rbf ......................................\n",
      "[CV] C=2, gamma=0.1, kernel=rbf ......................................\n",
      "[CV] .............................. C=10, kernel=linear, total=   0.0s\n",
      "[CV] C=2, gamma=0.1, kernel=rbf ......................................\n",
      "[CV] .............................. C=10, kernel=linear, total=   0.0s\n",
      "[CV] ............................... C=1, kernel=linear, total=   0.0s\n",
      "[CV] ....................... C=2, gamma=0.1, kernel=rbf, total=   0.0s\n",
      "[CV] ....................... C=2, gamma=0.1, kernel=rbf, total=   0.0s\n",
      "[CV] ....................... C=2, gamma=0.1, kernel=rbf, total=   0.0s\n",
      "[CV] ....................... C=2, gamma=0.1, kernel=rbf, total=   0.0s\n",
      "[CV] C=1, kernel=linear ..............................................\n",
      "[CV] C=10, kernel=linear .............................................\n",
      "[CV] C=2, gamma=0.01, kernel=rbf .....................................\n",
      "[CV] C=2, gamma=0.01, kernel=rbf .....................................\n",
      "[CV] ....................... C=2, gamma=0.1, kernel=rbf, total=   0.0s\n",
      "[CV] C=2, gamma=0.01, kernel=rbf .....................................\n",
      "[CV] C=2, gamma=0.01, kernel=rbf .....................................\n",
      "[CV] C=2, gamma=0.01, kernel=rbf .....................................\n",
      "[CV] C=10, kernel=linear .............................................\n",
      "[CV] ...................... C=2, gamma=0.01, kernel=rbf, total=   0.0s\n",
      "[CV] ............................... C=1, kernel=linear, total=   0.0s\n",
      "[CV] ...................... C=2, gamma=0.01, kernel=rbf, total=   0.0s\n",
      "[CV] .............................. C=10, kernel=linear, total=   0.0s\n",
      "[CV] ...................... C=2, gamma=0.01, kernel=rbf, total=   0.0s\n",
      "[CV] ...................... C=2, gamma=0.01, kernel=rbf, total=   0.0s\n",
      "[CV] ...................... C=2, gamma=0.01, kernel=rbf, total=   0.0s\n",
      "[CV] C=10, kernel=linear .............................................\n",
      "[CV] .............................. C=10, kernel=linear, total=   0.0s\n",
      "[CV] .............................. C=10, kernel=linear, total=   0.0s\n"
     ]
    },
    {
     "name": "stderr",
     "output_type": "stream",
     "text": [
      "[Parallel(n_jobs=-1)]: Done   8 out of  20 | elapsed:    0.0s remaining:    0.0s\n",
      "[Parallel(n_jobs=-1)]: Done  20 out of  20 | elapsed:    0.0s finished\n"
     ]
    },
    {
     "data": {
      "text/plain": [
       "GridSearchCV(cv=5, error_score='raise',\n",
       "       estimator=SVC(C=1.0, cache_size=200, class_weight=None, coef0=0.0,\n",
       "  decision_function_shape='ovr', degree=3, gamma='auto', kernel='rbf',\n",
       "  max_iter=-1, probability=False, random_state=None, shrinking=True,\n",
       "  tol=0.001, verbose=False),\n",
       "       fit_params=None, iid=True, n_jobs=-1,\n",
       "       param_grid=[{'C': [1, 10], 'kernel': ['linear']}, {'C': [2], 'gamma': [0.1, 0.01], 'kernel': ['rbf']}],\n",
       "       pre_dispatch='2*n_jobs', refit=True, return_train_score='warn',\n",
       "       scoring=None, verbose=2)"
      ]
     },
     "execution_count": 42,
     "metadata": {},
     "output_type": "execute_result"
    }
   ],
   "source": [
    "from sklearn import svm\n",
    "# Standardize the data\n",
    "iris = datasets.load_iris()\n",
    "scaler = preprocessing.StandardScaler(copy=True, with_mean=True, with_std=True)\n",
    "X = scaler.fit_transform(iris.data)\n",
    "# Keep out the Test Set\n",
    "X_tr, X_test, y_tr, y_test = model_selection.train_test_split(X, iris.target,\n",
    "                                                              test_size=0.30, random_state=0)\n",
    "# Define the Search Grid\n",
    "param_grid = [{'C': [1, 10], 'kernel': ['linear']},\n",
    "              {'C': [2], 'gamma': [0.1, 0.01], 'kernel': ['rbf']}]\n",
    "# GridSearchCV\n",
    "clf = model_selection.GridSearchCV(svm.SVC(), param_grid, cv=5, n_jobs=-1, verbose=2)\n",
    "clf.fit(X_tr, y_tr)"
   ]
  },
  {
   "cell_type": "code",
   "execution_count": 43,
   "metadata": {},
   "outputs": [
    {
     "name": "stdout",
     "output_type": "stream",
     "text": [
      "mean: 0.943, std: 0.0348, params: {'C': 1, 'kernel': 'linear'}\n",
      "mean: 0.933, std: 0.0469, params: {'C': 10, 'kernel': 'linear'}\n",
      "mean: 0.943, std: 0.0348, params: {'C': 2, 'gamma': 0.1, 'kernel': 'rbf'}\n",
      "mean: 0.895, std: 0.0981, params: {'C': 2, 'gamma': 0.01, 'kernel': 'rbf'}\n"
     ]
    }
   ],
   "source": [
    "for a,b,c in zip(clf.cv_results_['mean_test_score'], \n",
    "                 clf.cv_results_['std_test_score'], \n",
    "                 clf.cv_results_['params']):\n",
    "    print('mean: {:.3f}, std: {:.4f}, params: {}'.format(a,b,c))"
   ]
  },
  {
   "cell_type": "markdown",
   "metadata": {},
   "source": [
    "Then we can check the accuracy on the **Test Set**:"
   ]
  },
  {
   "cell_type": "code",
   "execution_count": 44,
   "metadata": {},
   "outputs": [
    {
     "name": "stdout",
     "output_type": "stream",
     "text": [
      "Best estimator:  SVC(C=1, cache_size=200, class_weight=None, coef0=0.0,\n",
      "  decision_function_shape='ovr', degree=3, gamma='auto', kernel='linear',\n",
      "  max_iter=-1, probability=False, random_state=None, shrinking=True,\n",
      "  tol=0.001, verbose=False)\n",
      "Accuracy: 0.91 (+/- 0.22)\n"
     ]
    }
   ],
   "source": [
    "best = clf.best_estimator_\n",
    "print('Best estimator: ', best)\n",
    "scores = model_selection.cross_val_score(best, X_test, y_test, cv=10)\n",
    "print(\"Accuracy: %0.2f (+/- %0.2f)\" % (scores.mean(), scores.std() * 2))"
   ]
  },
  {
   "cell_type": "markdown",
   "metadata": {},
   "source": [
    "Different `score` metrics can be used while doing `GridSearchCV`:"
   ]
  },
  {
   "cell_type": "code",
   "execution_count": 45,
   "metadata": {},
   "outputs": [
    {
     "name": "stdout",
     "output_type": "stream",
     "text": [
      "PRECISION: fraction of retrieved instances that are relevant\n",
      "RECALL:    fraction of relevant instances that are retrieved\n",
      "\n",
      "Tuning hyper-parameters for: precision_weighted\n",
      "\n",
      "Best parameters set found on development (training) set:\n",
      "SVC(C=0.5, cache_size=200, class_weight=None, coef0=0.0,\n",
      "  decision_function_shape='ovr', degree=3, gamma='auto', kernel='linear',\n",
      "  max_iter=-1, probability=False, random_state=None, shrinking=True,\n",
      "  tol=0.001, verbose=False)\n",
      "\n",
      "Grid Scores on development set:\n",
      "mean: 0.920, std: 0.0815, params: {'C': 0.125, 'kernel': 'linear'}\n",
      "mean: 0.953, std: 0.0648, params: {'C': 0.25, 'kernel': 'linear'}\n",
      "mean: 0.987, std: 0.0267, params: {'C': 0.5, 'kernel': 'linear'}\n",
      "mean: 0.974, std: 0.0340, params: {'C': 1.0, 'kernel': 'linear'}\n",
      "mean: 0.941, std: 0.0617, params: {'C': 1, 'gamma': 0.1, 'kernel': 'rbf'}\n",
      "mean: 0.974, std: 0.0340, params: {'C': 10, 'gamma': 0.1, 'kernel': 'rbf'}\n",
      "\n",
      "Detailed classification report (on Testing Set)\n",
      "             precision    recall  f1-score   support\n",
      "\n",
      "          0       1.00      1.00      1.00        26\n",
      "          1       0.89      1.00      0.94        33\n",
      "          2       1.00      0.87      0.93        31\n",
      "\n",
      "avg / total       0.96      0.96      0.96        90\n",
      "\n",
      "-----------------------------------------------------\n",
      "\n",
      "Tuning hyper-parameters for: recall_weighted\n",
      "\n",
      "Best parameters set found on development (training) set:\n",
      "SVC(C=0.5, cache_size=200, class_weight=None, coef0=0.0,\n",
      "  decision_function_shape='ovr', degree=3, gamma='auto', kernel='linear',\n",
      "  max_iter=-1, probability=False, random_state=None, shrinking=True,\n",
      "  tol=0.001, verbose=False)\n",
      "\n",
      "Grid Scores on development set:\n",
      "mean: 0.917, std: 0.0810, params: {'C': 0.125, 'kernel': 'linear'}\n",
      "mean: 0.950, std: 0.0659, params: {'C': 0.25, 'kernel': 'linear'}\n",
      "mean: 0.983, std: 0.0333, params: {'C': 0.5, 'kernel': 'linear'}\n",
      "mean: 0.967, std: 0.0441, params: {'C': 1.0, 'kernel': 'linear'}\n",
      "mean: 0.933, std: 0.0637, params: {'C': 1, 'gamma': 0.1, 'kernel': 'rbf'}\n",
      "mean: 0.967, std: 0.0441, params: {'C': 10, 'gamma': 0.1, 'kernel': 'rbf'}\n",
      "\n",
      "Detailed classification report (on Testing Set)\n",
      "             precision    recall  f1-score   support\n",
      "\n",
      "          0       1.00      1.00      1.00        26\n",
      "          1       0.89      1.00      0.94        33\n",
      "          2       1.00      0.87      0.93        31\n",
      "\n",
      "avg / total       0.96      0.96      0.96        90\n",
      "\n",
      "-----------------------------------------------------\n"
     ]
    }
   ],
   "source": [
    "X_tr, X_test, y_tr, y_test = model_selection.train_test_split(X, \n",
    "                                                              iris.target,\n",
    "                                                              test_size=0.60, \n",
    "                                                              random_state=0)\n",
    "scores = ['precision_weighted', 'recall_weighted']\n",
    "param_grid = [{'C': np.logspace(-3,0,4, base=2), 'kernel': ['linear']},\n",
    "              {'C': [1, 10], 'gamma': [0.1], 'kernel': ['rbf']}]\n",
    "print('PRECISION: fraction of retrieved instances that are relevant')\n",
    "print('RECALL:    fraction of relevant instances that are retrieved')\n",
    "for score in scores:\n",
    "    print('\\nTuning hyper-parameters for: %s' % score)\n",
    "    clf = model_selection.GridSearchCV(svm.SVC(), param_grid, cv=5, scoring=score)\n",
    "    clf.fit(X_tr, y_tr)\n",
    "    print('\\nBest parameters set found on development (training) set:')\n",
    "    print(clf.best_estimator_)\n",
    "    print('\\nGrid Scores on development set:')\n",
    "    for a,b,c in zip(clf.cv_results_['mean_test_score'], \n",
    "                     clf.cv_results_['std_test_score'], \n",
    "                     clf.cv_results_['params']):\n",
    "        print('mean: {:.3f}, std: {:.4f}, params: {}'.format(a,b,c))\n",
    "    print('\\nDetailed classification report (on Testing Set)')\n",
    "    y_true, y_pred = y_test, clf.predict(X_test)\n",
    "    print(metrics.classification_report(y_true, y_pred))\n",
    "    print('-----------------------------------------------------')"
   ]
  },
  {
   "cell_type": "markdown",
   "metadata": {},
   "source": [
    "### 8.2 Randomized Parameter Optimization"
   ]
  },
  {
   "cell_type": "markdown",
   "metadata": {},
   "source": [
    "`RandomizedSearchCV` implements a randomized search over parameters, where each setting is sampled from a distribution over possible parameter values. This has two main benefits:\n",
    "\n",
    "* A budget can be chosen independent of the number of parameters and possible values.\n",
    "* Adding parameters that do not influence the performance does not decrease efficiency.\n",
    "\n",
    "Specifying how parameters should be sampled is done using a dictionary. The number of sampling iterations, is specified using the `n_iter` parameter. For each parameter, either a distribution over possible values or a list of discrete choices (which will be sampled uniformly) can be specified. This is a little example of the many statistical distributions available in `scipy`:"
   ]
  },
  {
   "cell_type": "code",
   "execution_count": 46,
   "metadata": {},
   "outputs": [
    {
     "data": {
      "text/html": [
       "\n",
       "<div class=\"bk-root\">\n",
       "    <div class=\"bk-plotdiv\" id=\"d3f485ff-7245-40c5-aff2-9945935f6532\"></div>\n",
       "</div>"
      ]
     },
     "metadata": {},
     "output_type": "display_data"
    },
    {
     "data": {
      "application/javascript": [
       "(function(root) {\n",
       "  function embed_document(root) {\n",
       "    \n",
       "  var docs_json = {\"f83d80b2-b0a2-40c6-b053-fef399dfcb98\":{\"roots\":{\"references\":[{\"attributes\":{},\"id\":\"537aa808-829f-4447-804e-6fa614ba255f\",\"type\":\"LinearScale\"},{\"attributes\":{\"callback\":null},\"id\":\"b2feb8d2-8077-4765-9214-9cc42d4d37fa\",\"type\":\"DataRange1d\"},{\"attributes\":{},\"id\":\"b59ee37a-e2a6-469e-a4df-6ac0fff5bfae\",\"type\":\"BasicTickFormatter\"},{\"attributes\":{\"active_drag\":\"auto\",\"active_inspect\":\"auto\",\"active_scroll\":\"auto\",\"active_tap\":\"auto\",\"tools\":[{\"id\":\"04639059-29fe-48f9-aed2-d9577ad19dee\",\"type\":\"PanTool\"},{\"id\":\"b5e421b6-71d6-487e-b4c2-d918f7870be2\",\"type\":\"WheelZoomTool\"},{\"id\":\"004b70c3-807b-49cf-914a-53e79d20efd2\",\"type\":\"BoxZoomTool\"},{\"id\":\"45b8cd36-e7b7-4da8-9c11-1784e89e966e\",\"type\":\"SaveTool\"},{\"id\":\"57fcd2ad-8e5c-4aec-ba86-a9a5ef4ce8f1\",\"type\":\"ResetTool\"},{\"id\":\"860bc3fc-d629-4b5d-ae5f-82ce1e424f25\",\"type\":\"HelpTool\"}]},\"id\":\"ac648ac1-cbe2-49eb-9aa3-d3fa04680ef6\",\"type\":\"Toolbar\"},{\"attributes\":{\"bottom\":{\"value\":0},\"fill_alpha\":{\"value\":0.1},\"fill_color\":{\"value\":\"#1f77b4\"},\"left\":{\"field\":\"left\"},\"line_alpha\":{\"value\":0.1},\"line_color\":{\"value\":\"#1f77b4\"},\"right\":{\"field\":\"right\"},\"top\":{\"field\":\"top\"}},\"id\":\"0a0a4b2a-5d30-479b-befe-7c90940c4104\",\"type\":\"Quad\"},{\"attributes\":{\"active_drag\":\"auto\",\"active_inspect\":\"auto\",\"active_scroll\":\"auto\",\"active_tap\":\"auto\",\"tools\":[{\"id\":\"78c41b99-c2bd-4bed-9d65-9e5fccef2665\",\"type\":\"PanTool\"},{\"id\":\"36eb5f5a-1617-4d2c-8b3c-f719d302a570\",\"type\":\"WheelZoomTool\"},{\"id\":\"5670db0f-37f4-4056-b545-b725635eaec2\",\"type\":\"BoxZoomTool\"},{\"id\":\"85b64456-227d-464d-843b-6ecbcd8c7567\",\"type\":\"SaveTool\"},{\"id\":\"8fe46f26-6438-4175-a0d1-31f5576fae85\",\"type\":\"ResetTool\"},{\"id\":\"16be4cf5-fcb5-4208-96ae-02a084f81905\",\"type\":\"HelpTool\"}]},\"id\":\"020187b4-edc7-4c39-ab70-fa28f50dc2aa\",\"type\":\"Toolbar\"},{\"attributes\":{},\"id\":\"b51a7e43-1e0c-46e1-9abd-2ed586ea225a\",\"type\":\"LinearScale\"},{\"attributes\":{},\"id\":\"7174d299-0379-4242-bec7-081f08a61cbb\",\"type\":\"HelpTool\"},{\"attributes\":{\"plot\":null,\"text\":\"\"},\"id\":\"5926ccb5-4847-4280-b20e-18442c6dde50\",\"type\":\"Title\"},{\"attributes\":{},\"id\":\"f2060dc8-07ff-4400-8506-5d179b1a96ac\",\"type\":\"LinearScale\"},{\"attributes\":{\"plot\":{\"id\":\"c7c012e5-6e25-423a-9f14-71936ae12e4d\",\"subtype\":\"Figure\",\"type\":\"Plot\"},\"ticker\":{\"id\":\"7b0464a7-1be9-47ce-82e1-d0361ee8e81e\",\"type\":\"BasicTicker\"}},\"id\":\"ed947a40-87d1-47b0-a198-b5e8fa143230\",\"type\":\"Grid\"},{\"attributes\":{},\"id\":\"b71f2df5-234d-4a89-b4c7-5eed1b38e64e\",\"type\":\"BasicTickFormatter\"},{\"attributes\":{\"formatter\":{\"id\":\"98f08a80-523f-4cf8-b2f9-c9bcc13b6dc7\",\"type\":\"BasicTickFormatter\"},\"plot\":{\"id\":\"c7c012e5-6e25-423a-9f14-71936ae12e4d\",\"subtype\":\"Figure\",\"type\":\"Plot\"},\"ticker\":{\"id\":\"7b0464a7-1be9-47ce-82e1-d0361ee8e81e\",\"type\":\"BasicTicker\"}},\"id\":\"e09e6990-08f6-4466-a591-65804fba6e07\",\"type\":\"LinearAxis\"},{\"attributes\":{},\"id\":\"c18e2179-3a45-480f-89dc-b0b6b89cbf4d\",\"type\":\"BasicTickFormatter\"},{\"attributes\":{},\"id\":\"57fcd2ad-8e5c-4aec-ba86-a9a5ef4ce8f1\",\"type\":\"ResetTool\"},{\"attributes\":{},\"id\":\"7b0464a7-1be9-47ce-82e1-d0361ee8e81e\",\"type\":\"BasicTicker\"},{\"attributes\":{},\"id\":\"860bc3fc-d629-4b5d-ae5f-82ce1e424f25\",\"type\":\"HelpTool\"},{\"attributes\":{\"formatter\":{\"id\":\"612a3237-2549-46df-a7b9-bef823c48609\",\"type\":\"BasicTickFormatter\"},\"plot\":{\"id\":\"c7c012e5-6e25-423a-9f14-71936ae12e4d\",\"subtype\":\"Figure\",\"type\":\"Plot\"},\"ticker\":{\"id\":\"9782d349-bc81-42ae-9b7f-316dfb24d1d1\",\"type\":\"BasicTicker\"}},\"id\":\"909c2e8e-b09e-469f-aae6-07f2c2384b5b\",\"type\":\"LinearAxis\"},{\"attributes\":{},\"id\":\"009e13f4-2645-4d1a-be46-ca90a30a2bca\",\"type\":\"BasicTicker\"},{\"attributes\":{\"overlay\":{\"id\":\"214f2b48-032f-4c21-8ba1-426efd492085\",\"type\":\"BoxAnnotation\"}},\"id\":\"d3c4121b-20f8-401a-a402-1a9d5129804f\",\"type\":\"BoxZoomTool\"},{\"attributes\":{},\"id\":\"cc2577b4-36b0-426e-b64f-95a11164a481\",\"type\":\"BasicTicker\"},{\"attributes\":{},\"id\":\"9782d349-bc81-42ae-9b7f-316dfb24d1d1\",\"type\":\"BasicTicker\"},{\"attributes\":{},\"id\":\"45b8cd36-e7b7-4da8-9c11-1784e89e966e\",\"type\":\"SaveTool\"},{\"attributes\":{\"dimension\":1,\"plot\":{\"id\":\"c7c012e5-6e25-423a-9f14-71936ae12e4d\",\"subtype\":\"Figure\",\"type\":\"Plot\"},\"ticker\":{\"id\":\"9782d349-bc81-42ae-9b7f-316dfb24d1d1\",\"type\":\"BasicTicker\"}},\"id\":\"d3f45350-6825-4944-9c12-3055fe75a8d8\",\"type\":\"Grid\"},{\"attributes\":{\"bottom\":{\"value\":0},\"fill_color\":{\"value\":\"#1f77b4\"},\"left\":{\"field\":\"left\"},\"line_color\":{\"value\":\"#1f77b4\"},\"right\":{\"field\":\"right\"},\"top\":{\"field\":\"top\"}},\"id\":\"ad01d1c9-282e-493b-93fc-a357d7d8cdfa\",\"type\":\"Quad\"},{\"attributes\":{},\"id\":\"d267b66a-efb2-4ea2-b33e-5cdefa3bd026\",\"type\":\"WheelZoomTool\"},{\"attributes\":{},\"id\":\"98f08a80-523f-4cf8-b2f9-c9bcc13b6dc7\",\"type\":\"BasicTickFormatter\"},{\"attributes\":{\"children\":[{\"id\":\"93ab33da-e5cc-48ea-84c1-76f932a6cfd4\",\"type\":\"Row\"},{\"id\":\"5143de4f-dac1-474a-b053-f512bce644ec\",\"type\":\"Row\"}]},\"id\":\"9c0a631d-462d-44af-8bf3-9a0fee2c2ca5\",\"type\":\"Column\"},{\"attributes\":{},\"id\":\"3067529a-7dca-45a3-be8d-228614774b2d\",\"type\":\"SaveTool\"},{\"attributes\":{\"bottom\":{\"value\":0},\"fill_color\":{\"value\":\"#1f77b4\"},\"left\":{\"field\":\"left\"},\"line_color\":{\"value\":\"#1f77b4\"},\"right\":{\"field\":\"right\"},\"top\":{\"field\":\"top\"}},\"id\":\"8c12ceb3-9502-4070-813b-1ab8f3e0381a\",\"type\":\"Quad\"},{\"attributes\":{\"children\":[{\"id\":\"a97fe229-d0f9-4820-8a54-7a7dd3673bb8\",\"subtype\":\"Figure\",\"type\":\"Plot\"},{\"id\":\"904581be-c1ad-4b1b-b3b7-ff7bd78d73e0\",\"subtype\":\"Figure\",\"type\":\"Plot\"}]},\"id\":\"93ab33da-e5cc-48ea-84c1-76f932a6cfd4\",\"type\":\"Row\"},{\"attributes\":{},\"id\":\"2f4836c0-e631-439b-908f-c40962ebd8bc\",\"type\":\"ResetTool\"},{\"attributes\":{},\"id\":\"b5e421b6-71d6-487e-b4c2-d918f7870be2\",\"type\":\"WheelZoomTool\"},{\"attributes\":{\"bottom_units\":\"screen\",\"fill_alpha\":{\"value\":0.5},\"fill_color\":{\"value\":\"lightgrey\"},\"left_units\":\"screen\",\"level\":\"overlay\",\"line_alpha\":{\"value\":1.0},\"line_color\":{\"value\":\"black\"},\"line_dash\":[4,4],\"line_width\":{\"value\":2},\"plot\":null,\"render_mode\":\"css\",\"right_units\":\"screen\",\"top_units\":\"screen\"},\"id\":\"a12baa1d-4e23-4501-8262-c7edeaa44764\",\"type\":\"BoxAnnotation\"},{\"attributes\":{\"overlay\":{\"id\":\"e9bb5241-0b21-4b21-9334-2869500658bc\",\"type\":\"BoxAnnotation\"}},\"id\":\"004b70c3-807b-49cf-914a-53e79d20efd2\",\"type\":\"BoxZoomTool\"},{\"attributes\":{},\"id\":\"78c41b99-c2bd-4bed-9d65-9e5fccef2665\",\"type\":\"PanTool\"},{\"attributes\":{\"bottom_units\":\"screen\",\"fill_alpha\":{\"value\":0.5},\"fill_color\":{\"value\":\"lightgrey\"},\"left_units\":\"screen\",\"level\":\"overlay\",\"line_alpha\":{\"value\":1.0},\"line_color\":{\"value\":\"black\"},\"line_dash\":[4,4],\"line_width\":{\"value\":2},\"plot\":null,\"render_mode\":\"css\",\"right_units\":\"screen\",\"top_units\":\"screen\"},\"id\":\"214f2b48-032f-4c21-8ba1-426efd492085\",\"type\":\"BoxAnnotation\"},{\"attributes\":{\"data_source\":{\"id\":\"31bfea59-18b0-46c8-9611-ae7e0122e386\",\"type\":\"ColumnDataSource\"},\"glyph\":{\"id\":\"8c12ceb3-9502-4070-813b-1ab8f3e0381a\",\"type\":\"Quad\"},\"hover_glyph\":null,\"muted_glyph\":null,\"nonselection_glyph\":{\"id\":\"0a0a4b2a-5d30-479b-befe-7c90940c4104\",\"type\":\"Quad\"},\"selection_glyph\":null,\"view\":{\"id\":\"2035d2be-000c-4a42-aa78-c659f7fac5fa\",\"type\":\"CDSView\"}},\"id\":\"dad87863-ea90-452a-84c1-14f9a06bc9a0\",\"type\":\"GlyphRenderer\"},{\"attributes\":{},\"id\":\"36eb5f5a-1617-4d2c-8b3c-f719d302a570\",\"type\":\"WheelZoomTool\"},{\"attributes\":{\"data_source\":{\"id\":\"7be9d4f7-58db-4ff0-9a96-ce23f34eef8d\",\"type\":\"ColumnDataSource\"},\"glyph\":{\"id\":\"5c18d57b-83e1-4741-a439-5a47ff1ffe5f\",\"type\":\"Quad\"},\"hover_glyph\":null,\"muted_glyph\":null,\"nonselection_glyph\":{\"id\":\"e401ab93-d43f-40a5-9b64-5add585f1a15\",\"type\":\"Quad\"},\"selection_glyph\":null,\"view\":{\"id\":\"70b2b790-c89d-4b3b-a8e3-c4aee9e03d3d\",\"type\":\"CDSView\"}},\"id\":\"688a40a1-333c-4ee6-921b-fd31f69751d6\",\"type\":\"GlyphRenderer\"},{\"attributes\":{\"overlay\":{\"id\":\"a12baa1d-4e23-4501-8262-c7edeaa44764\",\"type\":\"BoxAnnotation\"}},\"id\":\"5670db0f-37f4-4056-b545-b725635eaec2\",\"type\":\"BoxZoomTool\"},{\"attributes\":{\"bottom\":{\"value\":0},\"fill_color\":{\"value\":\"#1f77b4\"},\"left\":{\"field\":\"left\"},\"line_color\":{\"value\":\"#1f77b4\"},\"right\":{\"field\":\"right\"},\"top\":{\"field\":\"top\"}},\"id\":\"6b1af2f3-6c1a-40c5-baea-6840ce304527\",\"type\":\"Quad\"},{\"attributes\":{},\"id\":\"041f765f-2caa-4e78-a2a1-507a5bf0611f\",\"type\":\"PanTool\"},{\"attributes\":{},\"id\":\"85b64456-227d-464d-843b-6ecbcd8c7567\",\"type\":\"SaveTool\"},{\"attributes\":{},\"id\":\"8fe46f26-6438-4175-a0d1-31f5576fae85\",\"type\":\"ResetTool\"},{\"attributes\":{\"data_source\":{\"id\":\"c68d301a-e6ab-414f-80bb-723e561b7e9b\",\"type\":\"ColumnDataSource\"},\"glyph\":{\"id\":\"6b1af2f3-6c1a-40c5-baea-6840ce304527\",\"type\":\"Quad\"},\"hover_glyph\":null,\"muted_glyph\":null,\"nonselection_glyph\":{\"id\":\"0cdd1660-1c77-4f52-9ce2-676a4d545f94\",\"type\":\"Quad\"},\"selection_glyph\":null,\"view\":{\"id\":\"574dcd88-c0f9-4229-9cd1-24db0ebd12ea\",\"type\":\"CDSView\"}},\"id\":\"10308dbc-699a-43ed-b85f-b44435221d9d\",\"type\":\"GlyphRenderer\"},{\"attributes\":{},\"id\":\"16be4cf5-fcb5-4208-96ae-02a084f81905\",\"type\":\"HelpTool\"},{\"attributes\":{\"bottom_units\":\"screen\",\"fill_alpha\":{\"value\":0.5},\"fill_color\":{\"value\":\"lightgrey\"},\"left_units\":\"screen\",\"level\":\"overlay\",\"line_alpha\":{\"value\":1.0},\"line_color\":{\"value\":\"black\"},\"line_dash\":[4,4],\"line_width\":{\"value\":2},\"plot\":null,\"render_mode\":\"css\",\"right_units\":\"screen\",\"top_units\":\"screen\"},\"id\":\"e9bb5241-0b21-4b21-9334-2869500658bc\",\"type\":\"BoxAnnotation\"},{\"attributes\":{\"children\":[{\"id\":\"79771df3-3ecd-4b61-be67-1c7138f385de\",\"subtype\":\"Figure\",\"type\":\"Plot\"},{\"id\":\"c7c012e5-6e25-423a-9f14-71936ae12e4d\",\"subtype\":\"Figure\",\"type\":\"Plot\"}]},\"id\":\"5143de4f-dac1-474a-b053-f512bce644ec\",\"type\":\"Row\"},{\"attributes\":{},\"id\":\"04639059-29fe-48f9-aed2-d9577ad19dee\",\"type\":\"PanTool\"},{\"attributes\":{\"overlay\":{\"id\":\"5785634e-3791-4738-bfdd-40202f7bc512\",\"type\":\"BoxAnnotation\"}},\"id\":\"88e3d3ae-b6f9-4b23-a775-345325c87fd7\",\"type\":\"BoxZoomTool\"},{\"attributes\":{\"below\":[{\"id\":\"ae6c6b1b-231c-4bb3-ab1d-9ca7a483c19c\",\"type\":\"LinearAxis\"}],\"left\":[{\"id\":\"032ce8d8-e744-445d-9f77-e997f6ac48c5\",\"type\":\"LinearAxis\"}],\"plot_height\":300,\"plot_width\":350,\"renderers\":[{\"id\":\"ae6c6b1b-231c-4bb3-ab1d-9ca7a483c19c\",\"type\":\"LinearAxis\"},{\"id\":\"3df2edd9-bc92-4b32-ade6-21c5b2830b94\",\"type\":\"Grid\"},{\"id\":\"032ce8d8-e744-445d-9f77-e997f6ac48c5\",\"type\":\"LinearAxis\"},{\"id\":\"82f39e97-d492-4e57-9a82-c975bca4e304\",\"type\":\"Grid\"},{\"id\":\"214f2b48-032f-4c21-8ba1-426efd492085\",\"type\":\"BoxAnnotation\"},{\"id\":\"10308dbc-699a-43ed-b85f-b44435221d9d\",\"type\":\"GlyphRenderer\"}],\"title\":{\"id\":\"6d2643cf-e3f2-4950-92a5-113af20d4dd9\",\"type\":\"Title\"},\"toolbar\":{\"id\":\"b8bd69fd-e98e-4efe-9723-09ad1f3669e7\",\"type\":\"Toolbar\"},\"toolbar_location\":null,\"x_range\":{\"id\":\"b649d74a-12ad-43a0-a14e-29e2893bbb0b\",\"type\":\"DataRange1d\"},\"x_scale\":{\"id\":\"725c7062-707f-4568-b489-34a53a6b618f\",\"type\":\"LinearScale\"},\"y_range\":{\"id\":\"a45ec967-7cb0-4152-9c5e-bdb0a056e310\",\"type\":\"DataRange1d\"},\"y_scale\":{\"id\":\"93e5a547-cda1-4b77-bb9a-5963ef6cccfc\",\"type\":\"LinearScale\"}},\"id\":\"904581be-c1ad-4b1b-b3b7-ff7bd78d73e0\",\"subtype\":\"Figure\",\"type\":\"Plot\"},{\"attributes\":{},\"id\":\"612a3237-2549-46df-a7b9-bef823c48609\",\"type\":\"BasicTickFormatter\"},{\"attributes\":{\"tools\":[{\"id\":\"631ee916-e6de-4896-86ba-482ecb32a3fd\",\"type\":\"PanTool\"},{\"id\":\"c7615217-e856-42c7-97bf-ce02b1049971\",\"type\":\"WheelZoomTool\"},{\"id\":\"88e3d3ae-b6f9-4b23-a775-345325c87fd7\",\"type\":\"BoxZoomTool\"},{\"id\":\"89116948-3598-4313-be6b-1f09602802a5\",\"type\":\"SaveTool\"},{\"id\":\"850a5423-0a97-416e-9cd8-25736f47f46e\",\"type\":\"ResetTool\"},{\"id\":\"f2098eb2-7de0-45e8-8f45-af95a5d30172\",\"type\":\"HelpTool\"},{\"id\":\"041f765f-2caa-4e78-a2a1-507a5bf0611f\",\"type\":\"PanTool\"},{\"id\":\"d267b66a-efb2-4ea2-b33e-5cdefa3bd026\",\"type\":\"WheelZoomTool\"},{\"id\":\"d3c4121b-20f8-401a-a402-1a9d5129804f\",\"type\":\"BoxZoomTool\"},{\"id\":\"3067529a-7dca-45a3-be8d-228614774b2d\",\"type\":\"SaveTool\"},{\"id\":\"2f4836c0-e631-439b-908f-c40962ebd8bc\",\"type\":\"ResetTool\"},{\"id\":\"7174d299-0379-4242-bec7-081f08a61cbb\",\"type\":\"HelpTool\"},{\"id\":\"04639059-29fe-48f9-aed2-d9577ad19dee\",\"type\":\"PanTool\"},{\"id\":\"b5e421b6-71d6-487e-b4c2-d918f7870be2\",\"type\":\"WheelZoomTool\"},{\"id\":\"004b70c3-807b-49cf-914a-53e79d20efd2\",\"type\":\"BoxZoomTool\"},{\"id\":\"45b8cd36-e7b7-4da8-9c11-1784e89e966e\",\"type\":\"SaveTool\"},{\"id\":\"57fcd2ad-8e5c-4aec-ba86-a9a5ef4ce8f1\",\"type\":\"ResetTool\"},{\"id\":\"860bc3fc-d629-4b5d-ae5f-82ce1e424f25\",\"type\":\"HelpTool\"},{\"id\":\"78c41b99-c2bd-4bed-9d65-9e5fccef2665\",\"type\":\"PanTool\"},{\"id\":\"36eb5f5a-1617-4d2c-8b3c-f719d302a570\",\"type\":\"WheelZoomTool\"},{\"id\":\"5670db0f-37f4-4056-b545-b725635eaec2\",\"type\":\"BoxZoomTool\"},{\"id\":\"85b64456-227d-464d-843b-6ecbcd8c7567\",\"type\":\"SaveTool\"},{\"id\":\"8fe46f26-6438-4175-a0d1-31f5576fae85\",\"type\":\"ResetTool\"},{\"id\":\"16be4cf5-fcb5-4208-96ae-02a084f81905\",\"type\":\"HelpTool\"}]},\"id\":\"fc173de1-068b-4c21-9506-fe9c81c1d6e4\",\"type\":\"ProxyToolbar\"},{\"attributes\":{\"callback\":null,\"column_names\":[\"left\",\"right\",\"top\"],\"data\":{\"left\":{\"__ndarray__\":\"iS8SuNkBNEC17so5vgE2QOKtg7uiAThADm08PYcBOkA6LPW+awE8QGfrrUBQAT5ASlUzYZoAQEDgtA+ijABBQHYU7OJ+AEJADHTII3EAQ0Ci06RkYwBEQDgzgaVVAEVAzpJd5kcARkBl8jknOgBHQPtRFmgsAEhAkrHyqB4ASUAoEc/pEABKQL5wqyoDAEtAVNCHa/X/S0DqL2Ss5/9MQICPQO3Z/01AFu8cLsz/TkCsTvluvv9PQCHX6lfYf1BA7AZZeNH/UEC4NseYyn9RQINmNbnD/1FATpaj2bx/UkAZxhH6tf9SQOT1fxqvf1NAryXuOqj/U0B6VVxboX9UQEWFynua/1RAELU4nJN/VUDb5Ka8jP9VQKYUFd2Ff1ZAcUSD/X7/VkA8dPEdeH9XQAikXz5x/1dA09PNXmp/WECeAzx/Y/9YQGkzqp9cf1lANGMYwFX/WUD/kobgTn9aQMrC9ABI/1pAlfJiIUF/W0BgItFBOv9bQCtSP2Izf1xA9oGtgiz/XEDCsRujJX9dQA==\",\"dtype\":\"float64\",\"shape\":[50]},\"right\":{\"__ndarray__\":\"te7KOb4BNkDirYO7ogE4QA5tPD2HATpAOiz1vmsBPEBn661AUAE+QEpVM2GaAEBA4LQPoowAQUB2FOzifgBCQAx0yCNxAENAotOkZGMAREA4M4GlVQBFQM6SXeZHAEZAZfI5JzoAR0D7URZoLABIQJKx8qgeAElAKBHP6RAASkC+cKsqAwBLQFTQh2v1/0tA6i9krOf/TECAj0Dt2f9NQBbvHC7M/05ArE75br7/T0Ah1+pX2H9QQOwGWXjR/1BAuDbHmMp/UUCDZjW5w/9RQE6Wo9m8f1JAGcYR+rX/UkDk9X8ar39TQK8l7jqo/1NAelVcW6F/VEBFhcp7mv9UQBC1OJyTf1VA2+SmvIz/VUCmFBXdhX9WQHFEg/1+/1ZAPHTxHXh/V0AIpF8+cf9XQNPTzV5qf1hAngM8f2P/WEBpM6qfXH9ZQDRjGMBV/1lA/5KG4E5/WkDKwvQASP9aQJXyYiFBf1tAYCLRQTr/W0ArUj9iM39cQPaBrYIs/1xAwrEboyV/XUCN4YnDHv9dQA==\",\"dtype\":\"float64\",\"shape\":[50]},\"top\":{\"__ndarray__\":\"tfpestbQhT9Pl7X8US2EP8edsfuUb4I/jFPJ37c5hj8iFtnBYIiGP0+XtfxRLYQ/FDhP0C2ChT+oC5o5vU2FP6zl4KGPW4M/fIq9/suohz8tFtnBYIiGP1a9bpR/H4Y/qa7sgnvsgT/uagBm4fiDP8ih9IT1Z4U/WZe1/FEthD+41KUaqd6DP8TDapPCYYQ/qAuaOb1NhT+CPkvPcMSDP39kBGeetoU/4Xs77cd1gz92T4ZWV0GDPzDwHyozloQ/kNSlGqnegz+s5eChj1uDPzDwHyozloQ/0bIvDNzkhD/Ew2qTwmGEP87Y6KMJ14Y/FxKWOACQgz8w8B8qM5aEP6zl4KGPW4M/FxKWOACQgz+SB1ewXFWCP0yo8IM4qoM/FxKWOACQgz/RWcXe+nuEP5/2Gyl22II/f2QEZ562hT/3f352KG6GP/FER86zBoI/8URHzrMGgj9KzqkbZpyFPzDwHyozloQ/f2QEZ562hT8HSYpXFP+EP7jUpRqp3oM/B/AfKjOWhD893+SiTBmFPw==\",\"dtype\":\"float64\",\"shape\":[50]}}},\"id\":\"7be9d4f7-58db-4ff0-9a96-ce23f34eef8d\",\"type\":\"ColumnDataSource\"},{\"attributes\":{\"below\":[{\"id\":\"a79bf6ab-c59b-4256-96aa-54caff944143\",\"type\":\"LinearAxis\"}],\"left\":[{\"id\":\"2186e350-d043-4876-b7a7-af19906ce1c4\",\"type\":\"LinearAxis\"}],\"plot_height\":300,\"plot_width\":350,\"renderers\":[{\"id\":\"a79bf6ab-c59b-4256-96aa-54caff944143\",\"type\":\"LinearAxis\"},{\"id\":\"081209bd-5282-4b92-9242-d900c665cab7\",\"type\":\"Grid\"},{\"id\":\"2186e350-d043-4876-b7a7-af19906ce1c4\",\"type\":\"LinearAxis\"},{\"id\":\"659e0cb6-d319-41bb-9563-93a5ee375254\",\"type\":\"Grid\"},{\"id\":\"e9bb5241-0b21-4b21-9334-2869500658bc\",\"type\":\"BoxAnnotation\"},{\"id\":\"688a40a1-333c-4ee6-921b-fd31f69751d6\",\"type\":\"GlyphRenderer\"}],\"title\":{\"id\":\"e64c034d-27b4-49a5-8bf1-ba414dff0c30\",\"type\":\"Title\"},\"toolbar\":{\"id\":\"ac648ac1-cbe2-49eb-9aa3-d3fa04680ef6\",\"type\":\"Toolbar\"},\"toolbar_location\":null,\"x_range\":{\"id\":\"b8182a1b-92c8-4c94-9e77-a49e5b6b87b7\",\"type\":\"DataRange1d\"},\"x_scale\":{\"id\":\"21c91b57-ba11-4f2c-9c61-44df33c0515e\",\"type\":\"LinearScale\"},\"y_range\":{\"id\":\"034a582f-3a73-47d6-a37a-49fc83992a9a\",\"type\":\"DataRange1d\"},\"y_scale\":{\"id\":\"f87296d4-1434-4fa0-b65d-c68b055c8d27\",\"type\":\"LinearScale\"}},\"id\":\"79771df3-3ecd-4b61-be67-1c7138f385de\",\"subtype\":\"Figure\",\"type\":\"Plot\"},{\"attributes\":{\"source\":{\"id\":\"31bfea59-18b0-46c8-9611-ae7e0122e386\",\"type\":\"ColumnDataSource\"}},\"id\":\"2035d2be-000c-4a42-aa78-c659f7fac5fa\",\"type\":\"CDSView\"},{\"attributes\":{},\"id\":\"64bde6c1-6319-4f45-b41f-1ddfb0ec782a\",\"type\":\"LinearScale\"},{\"attributes\":{},\"id\":\"c7615217-e856-42c7-97bf-ce02b1049971\",\"type\":\"WheelZoomTool\"},{\"attributes\":{},\"id\":\"aefc116d-f7bf-441f-addf-abc365186a08\",\"type\":\"BasicTickFormatter\"},{\"attributes\":{\"plot\":null,\"text\":\"\"},\"id\":\"5fa73980-2b99-41a0-9c71-3f29385bc1e0\",\"type\":\"Title\"},{\"attributes\":{\"bottom\":{\"value\":0},\"fill_alpha\":{\"value\":0.1},\"fill_color\":{\"value\":\"#1f77b4\"},\"left\":{\"field\":\"left\"},\"line_alpha\":{\"value\":0.1},\"line_color\":{\"value\":\"#1f77b4\"},\"right\":{\"field\":\"right\"},\"top\":{\"field\":\"top\"}},\"id\":\"e401ab93-d43f-40a5-9b64-5add585f1a15\",\"type\":\"Quad\"},{\"attributes\":{\"below\":[{\"id\":\"e09e6990-08f6-4466-a591-65804fba6e07\",\"type\":\"LinearAxis\"}],\"left\":[{\"id\":\"909c2e8e-b09e-469f-aae6-07f2c2384b5b\",\"type\":\"LinearAxis\"}],\"plot_height\":300,\"plot_width\":350,\"renderers\":[{\"id\":\"e09e6990-08f6-4466-a591-65804fba6e07\",\"type\":\"LinearAxis\"},{\"id\":\"ed947a40-87d1-47b0-a198-b5e8fa143230\",\"type\":\"Grid\"},{\"id\":\"909c2e8e-b09e-469f-aae6-07f2c2384b5b\",\"type\":\"LinearAxis\"},{\"id\":\"d3f45350-6825-4944-9c12-3055fe75a8d8\",\"type\":\"Grid\"},{\"id\":\"a12baa1d-4e23-4501-8262-c7edeaa44764\",\"type\":\"BoxAnnotation\"},{\"id\":\"dad87863-ea90-452a-84c1-14f9a06bc9a0\",\"type\":\"GlyphRenderer\"}],\"title\":{\"id\":\"5fa73980-2b99-41a0-9c71-3f29385bc1e0\",\"type\":\"Title\"},\"toolbar\":{\"id\":\"020187b4-edc7-4c39-ab70-fa28f50dc2aa\",\"type\":\"Toolbar\"},\"toolbar_location\":null,\"x_range\":{\"id\":\"af6eb9ee-c4ae-48cb-880d-4e3f9896eda6\",\"type\":\"DataRange1d\"},\"x_scale\":{\"id\":\"b51a7e43-1e0c-46e1-9abd-2ed586ea225a\",\"type\":\"LinearScale\"},\"y_range\":{\"id\":\"b2feb8d2-8077-4765-9214-9cc42d4d37fa\",\"type\":\"DataRange1d\"},\"y_scale\":{\"id\":\"f2060dc8-07ff-4400-8506-5d179b1a96ac\",\"type\":\"LinearScale\"}},\"id\":\"c7c012e5-6e25-423a-9f14-71936ae12e4d\",\"subtype\":\"Figure\",\"type\":\"Plot\"},{\"attributes\":{\"bottom\":{\"value\":0},\"fill_alpha\":{\"value\":0.1},\"fill_color\":{\"value\":\"#1f77b4\"},\"left\":{\"field\":\"left\"},\"line_alpha\":{\"value\":0.1},\"line_color\":{\"value\":\"#1f77b4\"},\"right\":{\"field\":\"right\"},\"top\":{\"field\":\"top\"}},\"id\":\"94ba56d5-b455-4b88-a454-2014c67b630d\",\"type\":\"Quad\"},{\"attributes\":{\"toolbar\":{\"id\":\"fc173de1-068b-4c21-9506-fe9c81c1d6e4\",\"type\":\"ProxyToolbar\"},\"toolbar_location\":\"above\"},\"id\":\"77a8bab0-ad31-4db6-8d75-1d17cc19b41c\",\"type\":\"ToolbarBox\"},{\"attributes\":{\"formatter\":{\"id\":\"b71f2df5-234d-4a89-b4c7-5eed1b38e64e\",\"type\":\"BasicTickFormatter\"},\"plot\":{\"id\":\"904581be-c1ad-4b1b-b3b7-ff7bd78d73e0\",\"subtype\":\"Figure\",\"type\":\"Plot\"},\"ticker\":{\"id\":\"d948d49f-d47c-400e-9673-8b1e69148b2c\",\"type\":\"BasicTicker\"}},\"id\":\"032ce8d8-e744-445d-9f77-e997f6ac48c5\",\"type\":\"LinearAxis\"},{\"attributes\":{\"dimension\":1,\"plot\":{\"id\":\"79771df3-3ecd-4b61-be67-1c7138f385de\",\"subtype\":\"Figure\",\"type\":\"Plot\"},\"ticker\":{\"id\":\"3f75d337-b7fe-4112-b00c-1e9cb1eeb5fe\",\"type\":\"BasicTicker\"}},\"id\":\"659e0cb6-d319-41bb-9563-93a5ee375254\",\"type\":\"Grid\"},{\"attributes\":{\"children\":[{\"id\":\"77a8bab0-ad31-4db6-8d75-1d17cc19b41c\",\"type\":\"ToolbarBox\"},{\"id\":\"9c0a631d-462d-44af-8bf3-9a0fee2c2ca5\",\"type\":\"Column\"}]},\"id\":\"7950b13c-1688-48c3-a77c-52c4267d43d4\",\"type\":\"Column\"},{\"attributes\":{\"callback\":null},\"id\":\"74691758-bb6f-4a51-899c-893b74036bee\",\"type\":\"DataRange1d\"},{\"attributes\":{},\"id\":\"725c7062-707f-4568-b489-34a53a6b618f\",\"type\":\"LinearScale\"},{\"attributes\":{},\"id\":\"d948d49f-d47c-400e-9673-8b1e69148b2c\",\"type\":\"BasicTicker\"},{\"attributes\":{\"dimension\":1,\"plot\":{\"id\":\"904581be-c1ad-4b1b-b3b7-ff7bd78d73e0\",\"subtype\":\"Figure\",\"type\":\"Plot\"},\"ticker\":{\"id\":\"d948d49f-d47c-400e-9673-8b1e69148b2c\",\"type\":\"BasicTicker\"}},\"id\":\"82f39e97-d492-4e57-9a82-c975bca4e304\",\"type\":\"Grid\"},{\"attributes\":{\"formatter\":{\"id\":\"b59ee37a-e2a6-469e-a4df-6ac0fff5bfae\",\"type\":\"BasicTickFormatter\"},\"plot\":{\"id\":\"79771df3-3ecd-4b61-be67-1c7138f385de\",\"subtype\":\"Figure\",\"type\":\"Plot\"},\"ticker\":{\"id\":\"3f75d337-b7fe-4112-b00c-1e9cb1eeb5fe\",\"type\":\"BasicTicker\"}},\"id\":\"2186e350-d043-4876-b7a7-af19906ce1c4\",\"type\":\"LinearAxis\"},{\"attributes\":{},\"id\":\"3f75d337-b7fe-4112-b00c-1e9cb1eeb5fe\",\"type\":\"BasicTicker\"},{\"attributes\":{\"callback\":null},\"id\":\"a45ec967-7cb0-4152-9c5e-bdb0a056e310\",\"type\":\"DataRange1d\"},{\"attributes\":{},\"id\":\"f9be9acc-eb4b-4d87-8157-4013efd4432b\",\"type\":\"BasicTicker\"},{\"attributes\":{},\"id\":\"40bbd37b-f3b4-43ca-83cb-d50d42314414\",\"type\":\"BasicTicker\"},{\"attributes\":{\"formatter\":{\"id\":\"9f0d999b-b6f1-49bf-9312-b4c961226b2a\",\"type\":\"BasicTickFormatter\"},\"plot\":{\"id\":\"a97fe229-d0f9-4820-8a54-7a7dd3673bb8\",\"subtype\":\"Figure\",\"type\":\"Plot\"},\"ticker\":{\"id\":\"cc2577b4-36b0-426e-b64f-95a11164a481\",\"type\":\"BasicTicker\"}},\"id\":\"dea36283-aff7-4cda-8d2d-2fb18a9ace27\",\"type\":\"LinearAxis\"},{\"attributes\":{\"bottom\":{\"value\":0},\"fill_alpha\":{\"value\":0.1},\"fill_color\":{\"value\":\"#1f77b4\"},\"left\":{\"field\":\"left\"},\"line_alpha\":{\"value\":0.1},\"line_color\":{\"value\":\"#1f77b4\"},\"right\":{\"field\":\"right\"},\"top\":{\"field\":\"top\"}},\"id\":\"0cdd1660-1c77-4f52-9ce2-676a4d545f94\",\"type\":\"Quad\"},{\"attributes\":{\"data_source\":{\"id\":\"0b16e92d-7ce7-4b71-8e97-83819e2830ce\",\"type\":\"ColumnDataSource\"},\"glyph\":{\"id\":\"ad01d1c9-282e-493b-93fc-a357d7d8cdfa\",\"type\":\"Quad\"},\"hover_glyph\":null,\"muted_glyph\":null,\"nonselection_glyph\":{\"id\":\"94ba56d5-b455-4b88-a454-2014c67b630d\",\"type\":\"Quad\"},\"selection_glyph\":null,\"view\":{\"id\":\"d4a8c1b3-05b5-4f1d-9c48-d084e434f24f\",\"type\":\"CDSView\"}},\"id\":\"efc584f1-f92e-48cf-be7e-217bf95a4aff\",\"type\":\"GlyphRenderer\"},{\"attributes\":{\"formatter\":{\"id\":\"aefc116d-f7bf-441f-addf-abc365186a08\",\"type\":\"BasicTickFormatter\"},\"plot\":{\"id\":\"904581be-c1ad-4b1b-b3b7-ff7bd78d73e0\",\"subtype\":\"Figure\",\"type\":\"Plot\"},\"ticker\":{\"id\":\"40bbd37b-f3b4-43ca-83cb-d50d42314414\",\"type\":\"BasicTicker\"}},\"id\":\"ae6c6b1b-231c-4bb3-ab1d-9ca7a483c19c\",\"type\":\"LinearAxis\"},{\"attributes\":{},\"id\":\"21c91b57-ba11-4f2c-9c61-44df33c0515e\",\"type\":\"LinearScale\"},{\"attributes\":{\"formatter\":{\"id\":\"c18e2179-3a45-480f-89dc-b0b6b89cbf4d\",\"type\":\"BasicTickFormatter\"},\"plot\":{\"id\":\"79771df3-3ecd-4b61-be67-1c7138f385de\",\"subtype\":\"Figure\",\"type\":\"Plot\"},\"ticker\":{\"id\":\"f9be9acc-eb4b-4d87-8157-4013efd4432b\",\"type\":\"BasicTicker\"}},\"id\":\"a79bf6ab-c59b-4256-96aa-54caff944143\",\"type\":\"LinearAxis\"},{\"attributes\":{\"active_drag\":\"auto\",\"active_inspect\":\"auto\",\"active_scroll\":\"auto\",\"active_tap\":\"auto\",\"tools\":[{\"id\":\"041f765f-2caa-4e78-a2a1-507a5bf0611f\",\"type\":\"PanTool\"},{\"id\":\"d267b66a-efb2-4ea2-b33e-5cdefa3bd026\",\"type\":\"WheelZoomTool\"},{\"id\":\"d3c4121b-20f8-401a-a402-1a9d5129804f\",\"type\":\"BoxZoomTool\"},{\"id\":\"3067529a-7dca-45a3-be8d-228614774b2d\",\"type\":\"SaveTool\"},{\"id\":\"2f4836c0-e631-439b-908f-c40962ebd8bc\",\"type\":\"ResetTool\"},{\"id\":\"7174d299-0379-4242-bec7-081f08a61cbb\",\"type\":\"HelpTool\"}]},\"id\":\"b8bd69fd-e98e-4efe-9723-09ad1f3669e7\",\"type\":\"Toolbar\"},{\"attributes\":{\"callback\":null},\"id\":\"034a582f-3a73-47d6-a37a-49fc83992a9a\",\"type\":\"DataRange1d\"},{\"attributes\":{\"plot\":{\"id\":\"904581be-c1ad-4b1b-b3b7-ff7bd78d73e0\",\"subtype\":\"Figure\",\"type\":\"Plot\"},\"ticker\":{\"id\":\"40bbd37b-f3b4-43ca-83cb-d50d42314414\",\"type\":\"BasicTicker\"}},\"id\":\"3df2edd9-bc92-4b32-ade6-21c5b2830b94\",\"type\":\"Grid\"},{\"attributes\":{},\"id\":\"93e5a547-cda1-4b77-bb9a-5963ef6cccfc\",\"type\":\"LinearScale\"},{\"attributes\":{\"callback\":null},\"id\":\"b649d74a-12ad-43a0-a14e-29e2893bbb0b\",\"type\":\"DataRange1d\"},{\"attributes\":{\"callback\":null},\"id\":\"b8182a1b-92c8-4c94-9e77-a49e5b6b87b7\",\"type\":\"DataRange1d\"},{\"attributes\":{\"plot\":{\"id\":\"79771df3-3ecd-4b61-be67-1c7138f385de\",\"subtype\":\"Figure\",\"type\":\"Plot\"},\"ticker\":{\"id\":\"f9be9acc-eb4b-4d87-8157-4013efd4432b\",\"type\":\"BasicTicker\"}},\"id\":\"081209bd-5282-4b92-9242-d900c665cab7\",\"type\":\"Grid\"},{\"attributes\":{\"callback\":null},\"id\":\"af6eb9ee-c4ae-48cb-880d-4e3f9896eda6\",\"type\":\"DataRange1d\"},{\"attributes\":{\"active_drag\":\"auto\",\"active_inspect\":\"auto\",\"active_scroll\":\"auto\",\"active_tap\":\"auto\",\"tools\":[{\"id\":\"631ee916-e6de-4896-86ba-482ecb32a3fd\",\"type\":\"PanTool\"},{\"id\":\"c7615217-e856-42c7-97bf-ce02b1049971\",\"type\":\"WheelZoomTool\"},{\"id\":\"88e3d3ae-b6f9-4b23-a775-345325c87fd7\",\"type\":\"BoxZoomTool\"},{\"id\":\"89116948-3598-4313-be6b-1f09602802a5\",\"type\":\"SaveTool\"},{\"id\":\"850a5423-0a97-416e-9cd8-25736f47f46e\",\"type\":\"ResetTool\"},{\"id\":\"f2098eb2-7de0-45e8-8f45-af95a5d30172\",\"type\":\"HelpTool\"}]},\"id\":\"2abc3131-a80f-4c32-b8a1-e06088abc8df\",\"type\":\"Toolbar\"},{\"attributes\":{\"callback\":null},\"id\":\"bef74871-5a04-46c9-948d-fddde0266a0a\",\"type\":\"DataRange1d\"},{\"attributes\":{\"plot\":{\"id\":\"a97fe229-d0f9-4820-8a54-7a7dd3673bb8\",\"subtype\":\"Figure\",\"type\":\"Plot\"},\"ticker\":{\"id\":\"009e13f4-2645-4d1a-be46-ca90a30a2bca\",\"type\":\"BasicTicker\"}},\"id\":\"6fea3712-1629-463e-8879-8c30cd7762e8\",\"type\":\"Grid\"},{\"attributes\":{\"callback\":null,\"column_names\":[\"left\",\"right\",\"top\"],\"data\":{\"left\":{\"__ndarray__\":\"QH4HNYH7/r8Y+3IhaUfSv7QATqTM1/U/GGB8yLkgCEDq32ifxqoSQMiPk1owRRlAqD++FZrfH0DDd3ToAT0jQLLPCcY2iiZAoSefo2vXKUCQfzSBoCQtQMDrZK/qODBAuJcvHoXfMUCvQ/qMH4YzQKfvxPu5LDVAnpuPalTTNkCWR1rZ7nk4QI7zJEiJIDpAhZ/vtiPHO0B9S7olvm09QHT3hJRYFD9AttGngXldQECyJw25xjBBQK59cvATBEJAqtPXJ2HXQkClKT1frqpDQKF/opb7fURAndUHzkhRRUCZK20FliRGQJWB0jzj90ZAkNc3dDDLR0CMLZ2rfZ5IQIiDAuPKcUlAhNlnGhhFSkCAL81RZRhLQHuFMomy60tAd9uXwP++TEBzMf33TJJNQG+HYi+aZU5Aat3HZuc4T0CzmRZPGgZQQLFEyerAb1BAr+97hmfZUECtmi4iDkNRQKtF4b20rFFAqfCTWVsWUkCnm0b1AYBSQKVG+ZCo6VJAo/GrLE9TU0CgnF7I9bxTQA==\",\"dtype\":\"float64\",\"shape\":[50]},\"right\":{\"__ndarray__\":\"GPtyIWlH0r+0AE6kzNf1PxhgfMi5IAhA6t9on8aqEkDIj5NaMEUZQKg/vhWa3x9Aw3d06AE9I0CyzwnGNoomQKEnn6Nr1ylAkH80gaAkLUDA62Sv6jgwQLiXLx6F3zFAr0P6jB+GM0Cn78T7uSw1QJ6bj2pU0zZAlkda2e55OECO8yRIiSA6QIWf77YjxztAfUu6Jb5tPUB094SUWBQ/QLbRp4F5XUBAsicNucYwQUCufXLwEwRCQKrT1ydh10JApSk9X66qQ0Chf6KW+31EQJ3VB85IUUVAmSttBZYkRkCVgdI84/dGQJDXN3Qwy0dAjC2dq32eSECIgwLjynFJQITZZxoYRUpAgC/NUWUYS0B7hTKJsutLQHfbl8D/vkxAczH990ySTUBvh2IvmmVOQGrdx2bnOE9As5kWTxoGUECxRMnqwG9QQK/ve4Zn2VBArZouIg5DUUCrReG9tKxRQKnwk1lbFlJAp5tG9QGAUkClRvmQqOlSQKPxqyxPU1NAoJxeyPW8U0CeRxFknCZUQA==\",\"dtype\":\"float64\",\"shape\":[50]},\"top\":{\"__ndarray__\":\"gkt6137CDz8AAAAAAAAAAIBLetd+wg8/AAAAAAAAAACDS3rXfsIPP3tLetd+wi8/Mm+sRo/ZMz+juJsh39FHP8ymAupWxk0/FAKL/C7KWz9n1EbzQshcP27PPSbVUmc/gMo0WWfdcT/X2o4oUBN3P5qED+PlhH4/iEFoPaPXhD9ktfeGWKyKP14abGnEIJA/gzTF7WSElj+8EICZMLCYPw4h2mgZ5p0/aYhJP6o2oT91yjRZZ92hP2iRn00AG6M/2E1i5n/hoz9C1DMOHwujP3z/fCPmMKQ/mpD2pp7Roz/rF3F1n0SiP7iqPEYbeKA/jJGyMiTYnD/oMnOgofGXP153Wa6DdJY/ZXJQ4RX/kD+hRnEKEU2KP8NjW0QUGYQ/Z9RG80LIfD/4ilcY8894P4rURvNCyGw/5BMkNLfVZT/rDhtnSWBgP/iKVxjzz1g/5BMkNLfVRT91yjRZZ91BPy1vrEaP2TM/LW+sRo/ZMz97S3rXfsIPP3tLetd+wg8/yEt6137CDz97S3rXfsIPPw==\",\"dtype\":\"float64\",\"shape\":[50]}}},\"id\":\"c68d301a-e6ab-414f-80bb-723e561b7e9b\",\"type\":\"ColumnDataSource\"},{\"attributes\":{\"below\":[{\"id\":\"abd54d69-5f99-41e4-b8aa-d4b84d6e200b\",\"type\":\"LinearAxis\"}],\"left\":[{\"id\":\"dea36283-aff7-4cda-8d2d-2fb18a9ace27\",\"type\":\"LinearAxis\"}],\"plot_height\":300,\"plot_width\":350,\"renderers\":[{\"id\":\"abd54d69-5f99-41e4-b8aa-d4b84d6e200b\",\"type\":\"LinearAxis\"},{\"id\":\"6fea3712-1629-463e-8879-8c30cd7762e8\",\"type\":\"Grid\"},{\"id\":\"dea36283-aff7-4cda-8d2d-2fb18a9ace27\",\"type\":\"LinearAxis\"},{\"id\":\"46bbc62d-4dae-4399-b010-e8a4a773458e\",\"type\":\"Grid\"},{\"id\":\"5785634e-3791-4738-bfdd-40202f7bc512\",\"type\":\"BoxAnnotation\"},{\"id\":\"efc584f1-f92e-48cf-be7e-217bf95a4aff\",\"type\":\"GlyphRenderer\"}],\"title\":{\"id\":\"5926ccb5-4847-4280-b20e-18442c6dde50\",\"type\":\"Title\"},\"toolbar\":{\"id\":\"2abc3131-a80f-4c32-b8a1-e06088abc8df\",\"type\":\"Toolbar\"},\"toolbar_location\":null,\"x_range\":{\"id\":\"bef74871-5a04-46c9-948d-fddde0266a0a\",\"type\":\"DataRange1d\"},\"x_scale\":{\"id\":\"537aa808-829f-4447-804e-6fa614ba255f\",\"type\":\"LinearScale\"},\"y_range\":{\"id\":\"74691758-bb6f-4a51-899c-893b74036bee\",\"type\":\"DataRange1d\"},\"y_scale\":{\"id\":\"64bde6c1-6319-4f45-b41f-1ddfb0ec782a\",\"type\":\"LinearScale\"}},\"id\":\"a97fe229-d0f9-4820-8a54-7a7dd3673bb8\",\"subtype\":\"Figure\",\"type\":\"Plot\"},{\"attributes\":{\"callback\":null,\"column_names\":[\"left\",\"right\",\"top\"],\"data\":{\"left\":{\"__ndarray__\":\"31vQaNToNEBIERLI7+I2QLDGUycL3ThAGXyVhibXOkCBMdflQdE8QOrmGEVdyz5AKU4tUrxiQEDeKM4Byl9BQJIDb7HXXEJARt4PYeVZQ0D6uLAQ81ZEQK6TUcAAVEVAY27ybw5RRkAXSZMfHE5HQMwjNM8pS0hAgP7UfjdISUA02XUuRUVKQOizFt5SQktAnI63jWA/TEBQaVg9bjxNQAZE+ex7OU5Auh6anIk2T0C3fB2myxlQQBHq7X1SmFBAa1e+VdkWUUDFxI4tYJVRQB8yXwXnE1JAep8v3W2SUkDUDAC19BBTQC560Ix7j1NAiOegZAIOVEDiVHE8iYxUQDzCQRQQC1VAly8S7JaJVUDxnOLDHQhWQEsKs5ukhlZApXeDcysFV0D/5FNLsoNXQFlSJCM5AlhAs7/0+r+AWEAOLcXSRv9YQGialarNfVlAwgdmglT8WUAcdTZa23paQHbiBjJi+VpA0E/XCel3W0Aqvafhb/ZbQIUqeLn2dFxA35dIkX3zXEA5BRlpBHJdQA==\",\"dtype\":\"float64\",\"shape\":[50]},\"right\":{\"__ndarray__\":\"SBESyO/iNkCwxlMnC904QBl8lYYm1zpAgTHX5UHRPEDq5hhFXcs+QClOLVK8YkBA3ijOAcpfQUCSA2+x11xCQEbeD2HlWUNA+riwEPNWRECuk1HAAFRFQGNu8m8OUUZAF0mTHxxOR0DMIzTPKUtIQID+1H43SElANNl1LkVFSkDosxbeUkJLQJyOt41gP0xAUGlYPW48TUAGRPnsezlOQLoempyJNk9At3wdpssZUEAR6u19UphQQGtXvlXZFlFAxcSOLWCVUUAfMl8F5xNSQHqfL91tklJA1AwAtfQQU0AuetCMe49TQIjnoGQCDlRA4lRxPImMVEA8wkEUEAtVQJcvEuyWiVVA8Zziwx0IVkBLCrObpIZWQKV3g3MrBVdA/+RTS7KDV0BZUiQjOQJYQLO/9Pq/gFhADi3F0kb/WEBompWqzX1ZQMIHZoJU/FlAHHU2Wtt6WkB24gYyYvlaQNBP1wnpd1tAKr2n4W/2W0CFKni59nRcQN+XSJF981xAOQUZaQRyXUCTculAi/BdQA==\",\"dtype\":\"float64\",\"shape\":[50]},\"top\":{\"__ndarray__\":\"La/NX/h9Tz++78UtsXljPxGX7mFDw2s/wk5RaCSTcD8/zG8PUsp2PyhVBdcp9nU/DyPe4J2gfT/e/0Nhn3iAPz+fC8tqBoI/f8do/A3Agj/Ne7WsC1eFP2suVQFIlYY/rGs3eR1YiD8K9nmcttyIP00zXBSMn4o/rGs3eR1YiD8aOGMn0KmOPy4j3uCdoI0/lSExhdxHjD8HDlmaa5eMPwZN6G0Cs48/WGDAWHNjjz9RmkgZxnSOP4j8LQu8P44/orqiz1I2kD/aDwb2LPCNP9Zx6+ciu40/zIMWd9ISjD90EbNR7kiPP+c0CXBN+Is/LiPe4J2gjT95cD6MYWKMPxczXBSMn4o/eXA+jGFijD8j9nmcttyIPzKCaRsRuoo/rGs3eR1YiD8UaoodXP+GP2rc7UJAyYM/SKJlgu23hD9PK/tJxeODP9NJjrZ/AX0/iPwtC7w/fj9+z8nG1Ht5P9eoGfHyGno/mnhb9Yilcj+s2kDnfnByP9eoGfHyGmo/VIqGhDj9YD/3wPjup9VNPw==\",\"dtype\":\"float64\",\"shape\":[50]}}},\"id\":\"31bfea59-18b0-46c8-9611-ae7e0122e386\",\"type\":\"ColumnDataSource\"},{\"attributes\":{\"callback\":null,\"column_names\":[\"left\",\"right\",\"top\"],\"data\":{\"left\":{\"__ndarray__\":\"/09DOfhNcz8DhVoA3f0xQOi6mJBC/UFATzMEoZb7SkDb1bdY9fxRQA+S7WAffFZAQk4jaUn7WkB1Cllxc3pfQFVjx7zO/GFAb0HiwGM8ZECJH/3E+HtmQKL9F8mNu2hAvNsyzSL7akDWuU3RtzptQO+XaNVMem9ABLvB7PDccEARKs9uu/xxQB6Z3PCFHHNAKwjqclA8dEA4d/f0Glx1QEXmBHfle3ZAUVUS+a+bd0BexB97ert4QGszLf1E23lAeKI6fw/7ekCFEUgB2hp8QJKAVYOkOn1An+9iBW9afkCrXnCHOXp/QN3mvgQCTYBAY57FRefcgEDqVcyGzGyBQHAN08ex/IFA9sTZCJeMgkB9fOBJfByDQAM054phrINAiuvty0Y8hEAQo/QMLMyEQJda+00RXIVAHRICj/brhUCkyQjQ23uGQCqBDxHBC4dAsDgWUqabh0A38ByTiyuIQL2nI9Rwu4hARF8qFVZLiUDKFjFWO9uJQFHON5cga4pA14U+2AX7ikBdPUUZ64qLQA==\",\"dtype\":\"float64\",\"shape\":[50]},\"right\":{\"__ndarray__\":\"A4VaAN39MUDoupiQQv1BQE8zBKGW+0pA29W3WPX8UUAPku1gH3xWQEJOI2lJ+1pAdQpZcXN6X0BVY8e8zvxhQG9B4sBjPGRAiR/9xPh7ZkCi/RfJjbtoQLzbMs0i+2pA1rlN0bc6bUDvl2jVTHpvQAS7wezw3HBAESrPbrv8cUAemdzwhRxzQCsI6nJQPHRAOHf39BpcdUBF5gR35Xt2QFFVEvmvm3dAXsQfe3q7eEBrMy39RNt5QHiiOn8P+3pAhRFIAdoafECSgFWDpDp9QJ/vYgVvWn5Aq15whzl6f0Dd5r4EAk2AQGOexUXn3IBA6lXMhsxsgUBwDdPHsfyBQPbE2QiXjIJAfXzgSXwcg0ADNOeKYayDQIrr7ctGPIRAEKP0DCzMhECXWvtNEVyFQB0SAo/264VApMkI0Nt7hkAqgQ8RwQuHQLA4FlKmm4dAN/Ack4sriEC9pyPUcLuIQERfKhVWS4lAyhYxVjvbiUBRzjeXIGuKQNeFPtgF+4pAXT1FGeuKi0Dk9Eta0BqMQA==\",\"dtype\":\"float64\",\"shape\":[50]},\"top\":{\"__ndarray__\":\"1pd2glCsgj9/gfhFSUWAPz85V1pdjHg/zU+OnGBodj82wK2ULn5zP3F8DF25gmw/37+5QexHaz86ir1g8P5kP7HxXjgb5mE//GXRiyEOXD8JtzeStIBYPwylO1FuI1g/mOwzc7DJTj8cS1cqOIJLP7R8BD+QUUc/3zQUO3fcRT+6v73QgOA9P5yOAIDWrjc/Itsn9hcKND88ty90i08zPz0w3chO9io/cW8/cHLaMT/FWAy9A5cmP5o5S62fwiA/f11DLyx9IT+f47VSDZseP3TE9EKpxhg/VwzlRsI7Cj9gXUMvLH0BP+6bxU70Jf0+pxVTKxMIED/um8VO9CX9Pu6bxU70Jf0+Au0jN15nBD++fAQ/kFHXPpV8BD+QUQc/vnwEP5BR5z6VfAQ/kFHnPr58BD+QUdc+lXwEP5BR1z4AAAAAAAAAAL58BD+QUec+AAAAAAAAAAAAAAAAAAAAAAAAAAAAAAAAAAAAAAAAAACVfAQ/kFHXPgAAAAAAAAAAAAAAAAAAAACVfAQ/kFHXPg==\",\"dtype\":\"float64\",\"shape\":[50]}}},\"id\":\"0b16e92d-7ce7-4b71-8e97-83819e2830ce\",\"type\":\"ColumnDataSource\"},{\"attributes\":{},\"id\":\"829a6528-16a1-4ca4-b429-6525777c819e\",\"type\":\"BasicTickFormatter\"},{\"attributes\":{\"source\":{\"id\":\"0b16e92d-7ce7-4b71-8e97-83819e2830ce\",\"type\":\"ColumnDataSource\"}},\"id\":\"d4a8c1b3-05b5-4f1d-9c48-d084e434f24f\",\"type\":\"CDSView\"},{\"attributes\":{\"source\":{\"id\":\"7be9d4f7-58db-4ff0-9a96-ce23f34eef8d\",\"type\":\"ColumnDataSource\"}},\"id\":\"70b2b790-c89d-4b3b-a8e3-c4aee9e03d3d\",\"type\":\"CDSView\"},{\"attributes\":{\"formatter\":{\"id\":\"829a6528-16a1-4ca4-b429-6525777c819e\",\"type\":\"BasicTickFormatter\"},\"plot\":{\"id\":\"a97fe229-d0f9-4820-8a54-7a7dd3673bb8\",\"subtype\":\"Figure\",\"type\":\"Plot\"},\"ticker\":{\"id\":\"009e13f4-2645-4d1a-be46-ca90a30a2bca\",\"type\":\"BasicTicker\"}},\"id\":\"abd54d69-5f99-41e4-b8aa-d4b84d6e200b\",\"type\":\"LinearAxis\"},{\"attributes\":{\"plot\":null,\"text\":\"\"},\"id\":\"e64c034d-27b4-49a5-8bf1-ba414dff0c30\",\"type\":\"Title\"},{\"attributes\":{},\"id\":\"89116948-3598-4313-be6b-1f09602802a5\",\"type\":\"SaveTool\"},{\"attributes\":{\"plot\":null,\"text\":\"\"},\"id\":\"6d2643cf-e3f2-4950-92a5-113af20d4dd9\",\"type\":\"Title\"},{\"attributes\":{},\"id\":\"631ee916-e6de-4896-86ba-482ecb32a3fd\",\"type\":\"PanTool\"},{\"attributes\":{},\"id\":\"850a5423-0a97-416e-9cd8-25736f47f46e\",\"type\":\"ResetTool\"},{\"attributes\":{},\"id\":\"9f0d999b-b6f1-49bf-9312-b4c961226b2a\",\"type\":\"BasicTickFormatter\"},{\"attributes\":{},\"id\":\"f2098eb2-7de0-45e8-8f45-af95a5d30172\",\"type\":\"HelpTool\"},{\"attributes\":{\"dimension\":1,\"plot\":{\"id\":\"a97fe229-d0f9-4820-8a54-7a7dd3673bb8\",\"subtype\":\"Figure\",\"type\":\"Plot\"},\"ticker\":{\"id\":\"cc2577b4-36b0-426e-b64f-95a11164a481\",\"type\":\"BasicTicker\"}},\"id\":\"46bbc62d-4dae-4399-b010-e8a4a773458e\",\"type\":\"Grid\"},{\"attributes\":{\"bottom\":{\"value\":0},\"fill_color\":{\"value\":\"#1f77b4\"},\"left\":{\"field\":\"left\"},\"line_color\":{\"value\":\"#1f77b4\"},\"right\":{\"field\":\"right\"},\"top\":{\"field\":\"top\"}},\"id\":\"5c18d57b-83e1-4741-a439-5a47ff1ffe5f\",\"type\":\"Quad\"},{\"attributes\":{},\"id\":\"f87296d4-1434-4fa0-b65d-c68b055c8d27\",\"type\":\"LinearScale\"},{\"attributes\":{\"bottom_units\":\"screen\",\"fill_alpha\":{\"value\":0.5},\"fill_color\":{\"value\":\"lightgrey\"},\"left_units\":\"screen\",\"level\":\"overlay\",\"line_alpha\":{\"value\":1.0},\"line_color\":{\"value\":\"black\"},\"line_dash\":[4,4],\"line_width\":{\"value\":2},\"plot\":null,\"render_mode\":\"css\",\"right_units\":\"screen\",\"top_units\":\"screen\"},\"id\":\"5785634e-3791-4738-bfdd-40202f7bc512\",\"type\":\"BoxAnnotation\"},{\"attributes\":{\"source\":{\"id\":\"c68d301a-e6ab-414f-80bb-723e561b7e9b\",\"type\":\"ColumnDataSource\"}},\"id\":\"574dcd88-c0f9-4229-9cd1-24db0ebd12ea\",\"type\":\"CDSView\"}],\"root_ids\":[\"7950b13c-1688-48c3-a77c-52c4267d43d4\"]},\"title\":\"Bokeh Application\",\"version\":\"0.12.13\"}};\n",
       "  var render_items = [{\"docid\":\"f83d80b2-b0a2-40c6-b053-fef399dfcb98\",\"elementid\":\"d3f485ff-7245-40c5-aff2-9945935f6532\",\"modelid\":\"7950b13c-1688-48c3-a77c-52c4267d43d4\"}];\n",
       "  root.Bokeh.embed.embed_items_notebook(docs_json, render_items);\n",
       "\n",
       "  }\n",
       "  if (root.Bokeh !== undefined) {\n",
       "    embed_document(root);\n",
       "  } else {\n",
       "    var attempts = 0;\n",
       "    var timer = setInterval(function(root) {\n",
       "      if (root.Bokeh !== undefined) {\n",
       "        embed_document(root);\n",
       "        clearInterval(timer);\n",
       "      }\n",
       "      attempts++;\n",
       "      if (attempts > 100) {\n",
       "        console.log(\"Bokeh: ERROR: Unable to run BokehJS code because BokehJS library is missing\")\n",
       "        clearInterval(timer);\n",
       "      }\n",
       "    }, 10, root)\n",
       "  }\n",
       "})(window);"
      ],
      "application/vnd.bokehjs_exec.v0+json": ""
     },
     "metadata": {
      "application/vnd.bokehjs_exec.v0+json": {
       "id": "7950b13c-1688-48c3-a77c-52c4267d43d4"
      }
     },
     "output_type": "display_data"
    }
   ],
   "source": [
    "import scipy.stats\n",
    "\n",
    "w, h = 350, 300\n",
    "\n",
    "dists = [\n",
    "    scipy.stats.expon(scale=100), # the frozed uniform distribution\n",
    "    scipy.stats.norm(loc=40, scale=10), # the frozed uniform distribution\n",
    "    scipy.stats.uniform(loc=20, scale=100), # the frozed uniform distribution\n",
    "    scipy.stats.beta(2,2,loc=20, scale=100) # the frozed uniform distribution\n",
    "]\n",
    "\n",
    "figs = []\n",
    "for dist in dists:\n",
    "    hist, edges = np.histogram(dist.rvs(int(1e4)), density=True, bins=50)\n",
    "    p = bk.figure(plot_width=w, plot_height=h)\n",
    "    p.quad(top=hist, bottom=0, left=edges[:-1], right=edges[1:])\n",
    "    figs.append(p)\n",
    "\n",
    "bk.show(bk.gridplot([[figs[0], figs[1]],\n",
    "                     [figs[2], figs[3]] \n",
    "                     ]))"
   ]
  },
  {
   "cell_type": "code",
   "execution_count": 47,
   "metadata": {},
   "outputs": [
    {
     "name": "stdout",
     "output_type": "stream",
     "text": [
      "Fitting 5 folds for each of 10 candidates, totalling 50 fits\n",
      "[CV] C=26.414479945822865, gamma=8.461920981407586, kernel=linear ....\n",
      "[CV] C=26.414479945822865, gamma=8.461920981407586, kernel=linear ....\n",
      "[CV] C=26.414479945822865, gamma=8.461920981407586, kernel=linear ....\n",
      "[CV] C=26.414479945822865, gamma=8.461920981407586, kernel=linear ....\n",
      "[CV]  C=26.414479945822865, gamma=8.461920981407586, kernel=linear, total=   0.0s\n",
      "[CV] C=55.93446930891519, gamma=3.894385938747857, kernel=linear .....\n",
      "[CV]  C=26.414479945822865, gamma=8.461920981407586, kernel=linear, total=   0.0s\n",
      "[CV] C=17.155859565449827, gamma=1.6913486247050757, kernel=linear ...\n",
      "[CV] C=17.155859565449827, gamma=1.6913486247050757, kernel=linear ...\n",
      "[CV] C=17.155859565449827, gamma=1.6913486247050757, kernel=linear ...\n",
      "[CV]  C=26.414479945822865, gamma=8.461920981407586, kernel=linear, total=   0.0s\n",
      "[CV]  C=55.93446930891519, gamma=3.894385938747857, kernel=linear, total=   0.0s\n",
      "[CV]  C=26.414479945822865, gamma=8.461920981407586, kernel=linear, total=   0.0s\n",
      "[CV] C=55.93446930891519, gamma=3.894385938747857, kernel=linear .....\n",
      "[CV]  C=17.155859565449827, gamma=1.6913486247050757, kernel=linear, total=   0.0s\n",
      "[CV]  C=17.155859565449827, gamma=1.6913486247050757, kernel=linear, total=   0.0s\n",
      "[CV] C=17.155859565449827, gamma=1.6913486247050757, kernel=linear ...\n",
      "[CV] C=17.155859565449827, gamma=1.6913486247050757, kernel=linear ...\n",
      "[CV] C=93.31554616176741, gamma=1.3888061075606983, kernel=linear ....\n",
      "[CV] C=93.31554616176741, gamma=1.3888061075606983, kernel=linear ....\n",
      "[CV]  C=93.31554616176741, gamma=1.3888061075606983, kernel=linear, total=   0.0s\n",
      "[CV] C=93.31554616176741, gamma=1.3888061075606983, kernel=linear ....\n",
      "[CV]  C=17.155859565449827, gamma=1.6913486247050757, kernel=linear, total=   0.0s\n",
      "[CV] C=93.31554616176741, gamma=1.3888061075606983, kernel=linear ....\n",
      "[CV] C=48.06153787597535, gamma=8.83503861242045, kernel=rbf .........\n",
      "[CV]  C=17.155859565449827, gamma=1.6913486247050757, kernel=linear, total=   0.0s\n",
      "[CV] C=93.31554616176741, gamma=1.3888061075606983, kernel=linear ....\n",
      "[CV]  C=93.31554616176741, gamma=1.3888061075606983, kernel=linear, total=   0.0s\n",
      "[CV]  C=55.93446930891519, gamma=3.894385938747857, kernel=linear, total=   0.0s\n",
      "[CV]  C=93.31554616176741, gamma=1.3888061075606983, kernel=linear, total=   0.0s\n",
      "[CV]  C=93.31554616176741, gamma=1.3888061075606983, kernel=linear, total=   0.0s\n",
      "[CV]  C=48.06153787597535, gamma=8.83503861242045, kernel=rbf, total=   0.0s\n",
      "[CV]  C=93.31554616176741, gamma=1.3888061075606983, kernel=linear, total=   0.0s\n",
      "[CV]  C=17.155859565449827, gamma=1.6913486247050757, kernel=linear, total=   0.0s\n",
      "[CV] C=48.06153787597535, gamma=8.83503861242045, kernel=rbf .........\n",
      "[CV] C=48.06153787597535, gamma=8.83503861242045, kernel=rbf .........\n",
      "[CV] C=26.414479945822865, gamma=8.461920981407586, kernel=linear ....\n",
      "[CV] C=48.06153787597535, gamma=8.83503861242045, kernel=rbf .........\n",
      "[CV] C=48.06153787597535, gamma=8.83503861242045, kernel=rbf .........\n",
      "[CV]  C=26.414479945822865, gamma=8.461920981407586, kernel=linear, total=   0.0s\n",
      "[CV]  C=48.06153787597535, gamma=8.83503861242045, kernel=rbf, total=   0.0s\n",
      "[CV] C=55.93446930891519, gamma=3.894385938747857, kernel=linear .....\n",
      "[CV]  C=48.06153787597535, gamma=8.83503861242045, kernel=rbf, total=   0.0s\n",
      "[CV] C=3.4384495595874522, gamma=5.027487326691249, kernel=rbf .......\n",
      "[CV]  C=48.06153787597535, gamma=8.83503861242045, kernel=rbf, total=   0.0s\n",
      "[CV] C=66.95572367936933, gamma=9.537084781812451, kernel=linear .....\n",
      "[CV]  C=48.06153787597535, gamma=8.83503861242045, kernel=rbf, total=   0.0s\n",
      "[CV]  C=66.95572367936933, gamma=9.537084781812451, kernel=linear, total=   0.0s\n",
      "[CV] C=55.93446930891519, gamma=3.894385938747857, kernel=linear .....\n",
      "[CV]  C=55.93446930891519, gamma=3.894385938747857, kernel=linear, total=   0.0s\n",
      "[CV] C=66.95572367936933, gamma=9.537084781812451, kernel=linear .....\n",
      "[CV]  C=3.4384495595874522, gamma=5.027487326691249, kernel=rbf, total=   0.0s\n",
      "[CV] C=3.4384495595874522, gamma=5.027487326691249, kernel=rbf .......\n",
      "[CV]  C=66.95572367936933, gamma=9.537084781812451, kernel=linear, total=   0.0s\n",
      "[CV] C=66.95572367936933, gamma=9.537084781812451, kernel=linear .....\n",
      "[CV]  C=55.93446930891519, gamma=3.894385938747857, kernel=linear, total=   0.0s\n",
      "[CV]  C=66.95572367936933, gamma=9.537084781812451, kernel=linear, total=   0.0s\n",
      "[CV]  C=3.4384495595874522, gamma=5.027487326691249, kernel=rbf, total=   0.0s\n",
      "[CV] C=66.95572367936933, gamma=9.537084781812451, kernel=linear .....\n",
      "[CV]  C=66.95572367936933, gamma=9.537084781812451, kernel=linear, total=   0.0s\n",
      "[CV] C=66.95572367936933, gamma=9.537084781812451, kernel=linear .....\n",
      "[CV]  C=66.95572367936933, gamma=9.537084781812451, kernel=linear, total=   0.0s\n",
      "[CV] C=83.3401698120732, gamma=6.423318313980214, kernel=rbf .........\n",
      "[CV]  C=83.3401698120732, gamma=6.423318313980214, kernel=rbf, total=   0.0s\n",
      "[CV] C=83.3401698120732, gamma=6.423318313980214, kernel=rbf .........\n",
      "[CV]  C=83.3401698120732, gamma=6.423318313980214, kernel=rbf, total=   0.0s\n",
      "[CV] C=83.3401698120732, gamma=6.423318313980214, kernel=rbf .........\n",
      "[CV] C=55.93446930891519, gamma=3.894385938747857, kernel=linear .....\n",
      "[CV]  C=83.3401698120732, gamma=6.423318313980214, kernel=rbf, total=   0.0s\n",
      "[CV] C=83.3401698120732, gamma=6.423318313980214, kernel=rbf .........\n",
      "[CV]  C=55.93446930891519, gamma=3.894385938747857, kernel=linear, total=   0.0s\n",
      "[CV]  C=83.3401698120732, gamma=6.423318313980214, kernel=rbf, total=   0.0s\n",
      "[CV] C=83.3401698120732, gamma=6.423318313980214, kernel=rbf .........\n",
      "[CV]  C=83.3401698120732, gamma=6.423318313980214, kernel=rbf, total=   0.0s\n",
      "[CV] C=68.48252946299827, gamma=9.5154416062423, kernel=rbf ..........\n",
      "[CV]  C=68.48252946299827, gamma=9.5154416062423, kernel=rbf, total=   0.0s\n",
      "[CV] C=68.48252946299827, gamma=9.5154416062423, kernel=rbf ..........\n",
      "[CV]  C=68.48252946299827, gamma=9.5154416062423, kernel=rbf, total=   0.0s\n",
      "[CV] C=68.48252946299827, gamma=9.5154416062423, kernel=rbf ..........\n",
      "[CV]  C=68.48252946299827, gamma=9.5154416062423, kernel=rbf, total=   0.0s\n",
      "[CV] C=68.48252946299827, gamma=9.5154416062423, kernel=rbf ..........\n",
      "[CV]  C=68.48252946299827, gamma=9.5154416062423, kernel=rbf, total=   0.0s\n",
      "[CV] C=68.48252946299827, gamma=9.5154416062423, kernel=rbf ..........\n",
      "[CV]  C=68.48252946299827, gamma=9.5154416062423, kernel=rbf, total=   0.0s\n",
      "[CV] C=60.95882351047934, gamma=8.31572018382552, kernel=linear ......\n",
      "[CV]  C=60.95882351047934, gamma=8.31572018382552, kernel=linear, total=   0.0s\n",
      "[CV] C=60.95882351047934, gamma=8.31572018382552, kernel=linear ......\n",
      "[CV]  C=60.95882351047934, gamma=8.31572018382552, kernel=linear, total=   0.0s\n",
      "[CV] C=60.95882351047934, gamma=8.31572018382552, kernel=linear ......\n",
      "[CV]  C=60.95882351047934, gamma=8.31572018382552, kernel=linear, total=   0.0s\n",
      "[CV] C=60.95882351047934, gamma=8.31572018382552, kernel=linear ......\n",
      "[CV]  C=60.95882351047934, gamma=8.31572018382552, kernel=linear, total=   0.0s\n",
      "[CV] C=60.95882351047934, gamma=8.31572018382552, kernel=linear ......\n",
      "[CV]  C=60.95882351047934, gamma=8.31572018382552, kernel=linear, total=   0.0s\n",
      "[CV] C=3.4384495595874522, gamma=5.027487326691249, kernel=rbf .......\n",
      "[CV]  C=3.4384495595874522, gamma=5.027487326691249, kernel=rbf, total=   0.0s\n",
      "[CV] C=3.4384495595874522, gamma=5.027487326691249, kernel=rbf .......\n",
      "[CV]  C=3.4384495595874522, gamma=5.027487326691249, kernel=rbf, total=   0.0s\n",
      "[CV] C=3.4384495595874522, gamma=5.027487326691249, kernel=rbf .......\n",
      "[CV]  C=3.4384495595874522, gamma=5.027487326691249, kernel=rbf, total=   0.0s\n"
     ]
    },
    {
     "name": "stderr",
     "output_type": "stream",
     "text": [
      "[Parallel(n_jobs=-1)]: Done  50 out of  50 | elapsed:    0.1s finished\n"
     ]
    },
    {
     "data": {
      "text/plain": [
       "RandomizedSearchCV(cv=5, error_score='raise',\n",
       "          estimator=SVC(C=1.0, cache_size=200, class_weight=None, coef0=0.0,\n",
       "  decision_function_shape='ovr', degree=3, gamma='auto', kernel='rbf',\n",
       "  max_iter=-1, probability=False, random_state=None, shrinking=True,\n",
       "  tol=0.001, verbose=False),\n",
       "          fit_params=None, iid=True, n_iter=10, n_jobs=-1,\n",
       "          param_distributions={'C': <scipy.stats._distn_infrastructure.rv_frozen object at 0x7f94c3cee630>, 'kernel': ['linear', 'rbf'], 'gamma': <scipy.stats._distn_infrastructure.rv_frozen object at 0x7f94c3f6ea20>},\n",
       "          pre_dispatch='2*n_jobs', random_state=None, refit=True,\n",
       "          return_train_score='warn', scoring=None, verbose=2)"
      ]
     },
     "execution_count": 47,
     "metadata": {},
     "output_type": "execute_result"
    }
   ],
   "source": [
    "# Standardize the data\n",
    "iris = datasets.load_iris()\n",
    "scaler = preprocessing.StandardScaler(copy=True, with_mean=True, with_std=True)\n",
    "X = scaler.fit_transform(iris.data)\n",
    "# Keep out the Test Set\n",
    "X_tr, X_test, y_tr, y_test = model_selection.train_test_split(X, iris.target,\n",
    "                                                              test_size=0.30, random_state=0)\n",
    "# Define the Search Grid\n",
    "param_grid = {'C': scipy.stats.uniform(loc=1, scale=100), 'kernel': ['linear','rbf'], \n",
    "              'gamma': scipy.stats.uniform(loc=0.01, scale=10)}\n",
    "# GridSearchCV\n",
    "clf = model_selection.RandomizedSearchCV(svm.SVC(), param_grid, cv=5, n_jobs=-1, verbose=2, n_iter=10)\n",
    "clf.fit(X_tr, y_tr)"
   ]
  },
  {
   "cell_type": "code",
   "execution_count": 48,
   "metadata": {},
   "outputs": [
    {
     "name": "stdout",
     "output_type": "stream",
     "text": [
      "mean: 0.962, std: 0.0360, params: {'C': 26.414479945822865, 'gamma': 8.461920981407586, 'kernel': 'linear'}\n",
      "mean: 0.962, std: 0.0360, params: {'C': 55.93446930891519, 'gamma': 3.894385938747857, 'kernel': 'linear'}\n",
      "mean: 0.943, std: 0.0348, params: {'C': 17.155859565449827, 'gamma': 1.6913486247050757, 'kernel': 'linear'}\n",
      "mean: 0.962, std: 0.0360, params: {'C': 93.31554616176741, 'gamma': 1.3888061075606983, 'kernel': 'linear'}\n",
      "mean: 0.857, std: 0.0813, params: {'C': 48.06153787597535, 'gamma': 8.83503861242045, 'kernel': 'rbf'}\n",
      "mean: 0.962, std: 0.0360, params: {'C': 66.95572367936933, 'gamma': 9.537084781812451, 'kernel': 'linear'}\n",
      "mean: 0.895, std: 0.0676, params: {'C': 83.3401698120732, 'gamma': 6.423318313980214, 'kernel': 'rbf'}\n",
      "mean: 0.857, std: 0.0813, params: {'C': 68.48252946299827, 'gamma': 9.5154416062423, 'kernel': 'rbf'}\n",
      "mean: 0.962, std: 0.0360, params: {'C': 60.95882351047934, 'gamma': 8.31572018382552, 'kernel': 'linear'}\n",
      "mean: 0.895, std: 0.0738, params: {'C': 3.4384495595874522, 'gamma': 5.027487326691249, 'kernel': 'rbf'}\n"
     ]
    }
   ],
   "source": [
    "for a,b,c in zip(clf.cv_results_['mean_test_score'], \n",
    "                 clf.cv_results_['std_test_score'], \n",
    "                 clf.cv_results_['params']):\n",
    "    print('mean: {:.3f}, std: {:.4f}, params: {}'.format(a,b,c))"
   ]
  },
  {
   "cell_type": "code",
   "execution_count": 49,
   "metadata": {},
   "outputs": [
    {
     "name": "stdout",
     "output_type": "stream",
     "text": [
      "Best estimator:  SVC(C=26.414479945822865, cache_size=200, class_weight=None, coef0=0.0,\n",
      "  decision_function_shape='ovr', degree=3, gamma=8.461920981407586,\n",
      "  kernel='linear', max_iter=-1, probability=False, random_state=None,\n",
      "  shrinking=True, tol=0.001, verbose=False)\n",
      "Accuracy: 0.96 (+/- 0.18)\n"
     ]
    }
   ],
   "source": [
    "best = clf.best_estimator_\n",
    "print('Best estimator: ', best)\n",
    "scores = model_selection.cross_val_score(best, X_test, y_test, cv=10)\n",
    "print(\"Accuracy: %0.2f (+/- %0.2f)\" % (scores.mean(), scores.std() * 2))"
   ]
  },
  {
   "cell_type": "markdown",
   "metadata": {},
   "source": [
    "## 9 Pipelines"
   ]
  },
  {
   "cell_type": "markdown",
   "metadata": {},
   "source": [
    "When we applied different preprocessing techniques, such as standardization for feature scaling or principal component analysis you learned that we have to reuse the parameters that were obtained during the fitting of the training data to scale and compress any new data, for example, the samples in the separate test dataset.\n",
    "\n",
    "In this section, you will learn about an extremely handy tool, the Pipeline class in scikit-learn. It allows us to fit a model including an arbitrary number of transformation steps and apply it to make predictions about new data.\n",
    "\n",
    "In this chapter, we will be working with the Breast Cancer Wisconsin dataset, which contains 569 samples of malignant and benign tumor cells. The first two columns in the dataset store the unique ID numbers of the samples and the corresponding diagnosis (M=malignant, B=benign), respectively. The columns 3-32 contain 30 real-value features that have been computed from digitized images of the cell nuclei, which can be used to build a model to predict whether a tumor is benign or malignant. The Breast Cancer Wisconsin dataset has been deposited on the UCI\n",
    "machine learning repository and more detailed information about this dataset can be found at [https://archive.ics.uci.edu/ml/datasets/Breast+Cancer+Wisconsin+(Diagnostic)](https://archive.ics.uci.edu/ml/datasets/Breast+Cancer+Wisconsin+(Diagnostic))\n",
    "\n",
    "In this section we will read in the dataset, and split it into training and test datasets in three simple steps.\n",
    "\n",
    "- We will start by reading in the dataset directly from the UCI website using pandas:"
   ]
  },
  {
   "cell_type": "code",
   "execution_count": 50,
   "metadata": {
    "collapsed": true
   },
   "outputs": [],
   "source": [
    "import pandas as pd\n",
    "df = pd.read_csv('https://archive.ics.uci.edu/ml/machine-learning-databases/breast-cancer-wisconsin/wdbc.data', \n",
    "                 header=None)"
   ]
  },
  {
   "cell_type": "markdown",
   "metadata": {},
   "source": [
    "- Next, we assign the 30 features to a NumPy array X . Using LabelEncoder, we transform the class labels from their original string representation ( M and B ) into integers:"
   ]
  },
  {
   "cell_type": "code",
   "execution_count": 51,
   "metadata": {
    "collapsed": true
   },
   "outputs": [],
   "source": [
    "from sklearn.preprocessing import LabelEncoder\n",
    "X = df.loc[:, 2:].values\n",
    "y = df.loc[:, 1].values\n",
    "le = LabelEncoder()\n",
    "y = le.fit_transform(y)"
   ]
  },
  {
   "cell_type": "markdown",
   "metadata": {},
   "source": [
    "After encoding the class labels (diagnosis) in an array y , the malignant\n",
    "tumors are now represented as class 1 , and the benign tumors are\n",
    "represented as class 0 , respectively, which we can illustrate by calling\n",
    "the transform method of LabelEncoder on two dummy class labels:"
   ]
  },
  {
   "cell_type": "code",
   "execution_count": 52,
   "metadata": {},
   "outputs": [
    {
     "data": {
      "text/plain": [
       "array([1, 0])"
      ]
     },
     "execution_count": 52,
     "metadata": {},
     "output_type": "execute_result"
    }
   ],
   "source": [
    "le.transform(['M', 'B'])"
   ]
  },
  {
   "cell_type": "markdown",
   "metadata": {},
   "source": [
    "- Before we construct our first model pipeline in the following subsection, let's divide the dataset into a separate training dataset (80 percent of the data) and a separate test dataset (20 percent of the data):"
   ]
  },
  {
   "cell_type": "code",
   "execution_count": 53,
   "metadata": {},
   "outputs": [],
   "source": [
    "from sklearn.model_selection import train_test_split\n",
    "X_train, X_test, y_train, y_test = train_test_split(X, y, test_size=0.20, random_state=1)"
   ]
  },
  {
   "cell_type": "markdown",
   "metadata": {},
   "source": [
    "Many learning algorithms require input features on the same scale for optimal performance. Thus, we need to standardize the columns in the Breast Cancer Wisconsin dataset before we can feed them to a linear classifier, such as logistic regression. Furthermore, let's assume that we want to compress our data from the initial 30 dimensions onto a lower two-dimensional subspace via principal component analysis (PCA). Instead of going through the fitting and transformation steps for the training and test dataset separately, we can chain the StandardScaler, PCA , and LogisticRegression objects in a pipeline:"
   ]
  },
  {
   "cell_type": "code",
   "execution_count": 54,
   "metadata": {},
   "outputs": [
    {
     "name": "stdout",
     "output_type": "stream",
     "text": [
      "Test Accuracy: 0.947\n"
     ]
    }
   ],
   "source": [
    "from sklearn.preprocessing import StandardScaler\n",
    "from sklearn.decomposition import PCA\n",
    "from sklearn.linear_model import LogisticRegression\n",
    "from sklearn.pipeline import Pipeline\n",
    "pipe_lr = Pipeline([('scl', StandardScaler()), ('pca', PCA(n_components=2)), \n",
    "                    ('clf', LogisticRegression(random_state=1))])\n",
    "pipe_lr.fit(X_train, y_train)\n",
    "print('Test Accuracy: %.3f' % pipe_lr.score(X_test, y_test))"
   ]
  },
  {
   "cell_type": "markdown",
   "metadata": {},
   "source": [
    "The intermediate steps in a pipeline constitute scikit-learn transformers, and the last step is an estimator. In the preceding code example, we built a pipeline that consisted of two intermediate steps, a StandardScaler and a PCA transformer, and a logistic regression classifier as a final estimator. When we executed the fit method on the pipeline pipe_lr , the StandardScaler performed fit and transform on the training data, and the transformed training data was then passed onto the next object in the pipeline, the PCA. Similar to the previous step, PCA also executed fit and transform on the scaled input data and passed it to the final element of the pipeline, the estimator. We should note that there is no limit to the number of intermediate steps in this pipeline. "
   ]
  },
  {
   "cell_type": "markdown",
   "metadata": {},
   "source": [
    "## 10 Performance Metrics"
   ]
  },
  {
   "cell_type": "markdown",
   "metadata": {},
   "source": [
    "In the previous sections and chapters, we evaluated our models using the mean squared error, which is a useful metric to quantify the performance of a model in general. However, there are several other performance metrics that can be used to measure a model's relevance, such as precision, recall, and the F1-score.\n",
    "\n",
    "Before we get into the details of different scoring metrics, let's print a so-called confusion matrix, a matrix that lays out the performance of a learning algorithm. The confusion matrix is simply a square matrix that reports the counts of the true positive, true negative, false positive, and false negative predictions of a classifier.\n",
    "\n",
    "Although these metrics can be easily computed manually by comparing the true and predicted class labels, cikit-learn provides a convenient confusion_matrix function that we can use as follows:"
   ]
  },
  {
   "cell_type": "code",
   "execution_count": 55,
   "metadata": {},
   "outputs": [
    {
     "name": "stdout",
     "output_type": "stream",
     "text": [
      "[[71  1]\n",
      " [ 5 37]]\n"
     ]
    }
   ],
   "source": [
    "from sklearn.metrics import confusion_matrix\n",
    "y_pred = pipe_lr.predict(X_test)\n",
    "confmat = confusion_matrix(y_true=y_test, y_pred=y_pred)\n",
    "print(confmat)"
   ]
  },
  {
   "cell_type": "markdown",
   "metadata": {},
   "source": [
    "The array that was returned after executing the preceding code provides us with information about the different types of errors the classifier made on the test dataset that we can map onto the confusion matrix illustration in the previous figure using matplotlib's matshow function:"
   ]
  },
  {
   "cell_type": "code",
   "execution_count": 56,
   "metadata": {},
   "outputs": [
    {
     "data": {
      "image/png": "[encoded data removed]",
      "text/plain": [
       "<matplotlib.figure.Figure at 0x7f94c3c82828>"
      ]
     },
     "metadata": {},
     "output_type": "display_data"
    }
   ],
   "source": [
    "fig, ax = plt.subplots(figsize=(5.5, 5.5))\n",
    "ax.matshow(confmat, cmap=plt.cm.Blues, alpha=0.3)\n",
    "for i in range(confmat.shape[0]):\n",
    "    for j in range(confmat.shape[1]):\n",
    "        ax.text(x=j, y=i,\n",
    "                s=confmat[i, j],\n",
    "                va='center', ha='center')\n",
    "plt.xlabel('predicted label')\n",
    "plt.ylabel('true label')\n",
    "plt.show()"
   ]
  },
  {
   "cell_type": "markdown",
   "metadata": {},
   "source": [
    "Assuming that class 1 (malignant) is the positive class in this example, our model correctly classified 71 of the samples that belong to class 0 (false negatives) and 37 samples that belong to class 1 (true positives), respectively. However, our model also incorrectly misclassified 5 samples from class 0 as class 1 (false negatives), and it predicted that 1 sample is benign although it is a malignant tumor (false positive). In the next section, we will learn how we can use this information to calculate various different error metrics.\n",
    "\n",
    "Both the prediction error (ERR) and accuracy (ACC) provide general information about how many samples are misclassified. The error can be understood as the sum of all false predictions divided by the number of total predictions, and the accuracy is calculated as the sum of correct predictions divided by the total number\n",
    "of predictions, respectively:\n",
    "\n",
    "$$ERR = \\frac{FP + FN}{Total}$$\n",
    "\n",
    "The prediction accuracy can then be calculated directly from the error:\n",
    "\n",
    "$$ACC = \\frac{TP + TN}{Total} = 1 − ERR$$\n",
    "\n",
    "In tumor diagnosis, for example, we are more concerned about the detection of malignant tumors in order to help a patient with the appropriate treatment. However, it is also important to decrease the number of benign tumors that were incorrectly classified as malignant (false positives) to not unnecessarily concern a patient. \n",
    "\n",
    "Precision (P) is defined as the number of true positives ($T_p$) over the number of true positives plus the number of false positives ($F_p$).\n",
    "\n",
    "$$P = \\frac{T_p}{T_p+F_p}$$\n",
    "\n",
    "Recall (R) is defined as the number of true positives ($T_p$) over the number of true positives plus the number of false negatives ($F_n$).\n",
    "\n",
    "$$R = \\frac{T_p}{T_p + F_n}$$\n",
    "\n",
    "These quantities are also related to the ($F_1$) score, which is defined as the harmonic mean of precision and recall.\n",
    "\n",
    "$$F_1 = 2\\frac{P \\times R}{P+R}$$\n",
    "\n",
    "It is important to note that the precision may not decrease with recall. The definition of precision ($\\frac{T_p}{T_p + F_p}$) shows that lowering the threshold of a classifier may increase the denominator, by increasing the number of results returned. If the threshold was previously set too high, the new results may all be true positives, which will increase precision. If the previous threshold was about right or too low, further lowering the threshold will introduce false positives, decreasing precision.\n",
    "\n",
    "Recall is defined as $\\frac{T_p}{T_p+F_n}$, where $T_p+F_n$ does not depend on the classifier threshold. This means that lowering the classifier threshold may increase recall, by increasing the number of true positive results. It is also possible that lowering the threshold may leave recall unchanged, while the precision fluctuates.\n",
    "\n",
    "These scoring metrics are all implemented in scikit-learn and can be imported from the sklearn.metrics module:"
   ]
  },
  {
   "cell_type": "code",
   "execution_count": 57,
   "metadata": {},
   "outputs": [
    {
     "name": "stdout",
     "output_type": "stream",
     "text": [
      "Precision: 0.974\n",
      "Recall: 0.881\n",
      "F1: 0.925\n"
     ]
    }
   ],
   "source": [
    "from sklearn.metrics import precision_score\n",
    "from sklearn.metrics import recall_score, f1_score\n",
    "print('Precision: %.3f' % precision_score(y_true=y_test, y_pred=y_pred))\n",
    "print('Recall: %.3f' % recall_score(y_true=y_test, y_pred=y_pred))\n",
    "print('F1: %.3f' % f1_score(y_true=y_test, y_pred=y_pred))"
   ]
  },
  {
   "cell_type": "markdown",
   "metadata": {},
   "source": [
    "---\n",
    "\n",
    "Visit [www.add-for.com](<http://www.add-for.com/IT>) for more tutorials and updates.\n",
    "\n",
    "This work is licensed under a <a rel=\"license\" href=\"http://creativecommons.org/licenses/by-sa/4.0/\">Creative Commons Attribution-ShareAlike 4.0 International License</a>."
   ]
  }
 ],
 "metadata": {
  "anaconda-cloud": {},
  "kernelspec": {
   "display_name": "Python [conda env:addfor_tutorials]",
   "language": "python",
   "name": "conda-env-addfor_tutorials-py"
  },
  "language_info": {
   "codemirror_mode": {
    "name": "ipython",
    "version": 3
   },
   "file_extension": ".py",
   "mimetype": "text/x-python",
   "name": "python",
   "nbconvert_exporter": "python",
   "pygments_lexer": "ipython3",
   "version": "3.6.4"
  }
 },
 "nbformat": 4,
 "nbformat_minor": 1
}
