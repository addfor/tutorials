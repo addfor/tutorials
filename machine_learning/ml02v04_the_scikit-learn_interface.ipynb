{
 "cells": [
  {
   "cell_type": "markdown",
   "metadata": {},
   "source": [
    "# The scikit-learn interface"
   ]
  },
  {
   "cell_type": "code",
   "execution_count": 1,
   "metadata": {
    "collapsed": false
   },
   "outputs": [
    {
     "data": {
      "text/html": [
       "<div id='toc-container'><script type='text/javascript'>\n",
       "$(function() {\n",
       "    function regenTOC(){\n",
       "        element = $(\"#toc-container\");\n",
       "\n",
       "\tvar toc = document.createElement(\"div\");\n",
       "\t$(toc).attr(\"class\", \"table-of-contents\");\n",
       "\n",
       "\tvar curLevel = 0;\n",
       "\tvar containerStack = [toc];\n",
       "\tvar levelOfTag = {\"h2\": 1, \"h3\": 2, \"h4\": 3, \"h5\": 4};\n",
       "\n",
       "\tfunction pushLevel() {\n",
       "            var list = document.createElement(\"ul\");\n",
       "            containerStack.push(list);\n",
       "            curLevel++;\n",
       "\t}\n",
       "\t\n",
       "\tfunction popLevel() {\n",
       "            var lastContainer = containerStack.pop();\n",
       "            $(lastContainer).appendTo(containerStack[containerStack.length - 1]);\n",
       "            curLevel--;\n",
       "\t}\n",
       "\t\n",
       "\t$(\".text_cell_render :header\").each(function (i, elem) {\n",
       "            var level = levelOfTag[ elem.tagName.toLowerCase() ];\n",
       "\n",
       "            if (level === undefined)\n",
       "\t\treturn;\n",
       "\n",
       "            while (curLevel < level)\n",
       "\t\tpushLevel();\n",
       "            while (curLevel > level)\n",
       "\t\tpopLevel();\n",
       "            \n",
       "            var listItem = document.createElement(\"li\");\n",
       "            var link = document.createElement(\"a\");\n",
       "            $(link)\n",
       "\t\t.text($(elem).contents().first().text()) // Remove the pilcrow sign\n",
       "\t\t.attr(\"href\", \"#\" + $(elem).attr(\"id\"))\n",
       "\t\t.appendTo(listItem);\n",
       "            $(listItem).appendTo(containerStack[containerStack.length - 1]);\n",
       "\t});\n",
       "\t\n",
       "\twhile (curLevel > 0)\n",
       "            popLevel();\n",
       "\n",
       "        $(\"<a class='btn-update' href='#'>Update</a>\")\n",
       "          .click(regenTOC).prependTo(toc);\n",
       "\n",
       "\t$(toc).prepend(\"<div class='title'>Contents</div>\")\n",
       "          .wrap(\"<div class='toc-headings'/>\");\n",
       "\n",
       "        $(element).empty();\n",
       "        $(element).append(toc);\n",
       "    }\n",
       "\n",
       "    if (typeof(IPython) !== 'undefined')\n",
       "        $([IPython.events]).on('notebook_loaded.Notebook', regenTOC);\n",
       "    regenTOC();\n",
       "});\n",
       "\n",
       "</script></div>"
      ],
      "text/plain": [
       "<IPython.core.display.HTML object>"
      ]
     },
     "execution_count": 1,
     "metadata": {},
     "output_type": "execute_result"
    }
   ],
   "source": [
    "import addutils.toc ; addutils.toc.js(ipy_notebook=True)"
   ]
  },
  {
   "cell_type": "code",
   "execution_count": 2,
   "metadata": {
    "collapsed": false
   },
   "outputs": [
    {
     "data": {
      "text/html": [
       "<style>\n",
       ".text_cell_render @font-face {\n",
       "    font-family: \"Computer Modern\";\n",
       "    src: url('http://mirrors.ctan.org/fonts/cm-unicode/fonts/otf/cmunss.otf');\n",
       "}\n",
       "\n",
       "div.cell {\n",
       "    width: 900px;\n",
       "    margin-left: 0% !important;\n",
       "    margin-right: 0%;\n",
       "}\n",
       "\n",
       "code {\n",
       "    font-size:10pt;\n",
       "}\n",
       "\n",
       ".text_cell_render  h1 {\n",
       "    font-family: Tahoma, sans-serif;\n",
       "    color: rgb( 10, 88, 126 );\n",
       "    font-size:28pt;\n",
       "}\n",
       ".text_cell_render h2 {\n",
       "    font-family: Tahoma, sans-serif;\n",
       "    color: rgb( 10, 88, 126 );\n",
       "    font-size:24pt;\n",
       "}\n",
       ".text_cell_render h3 {\n",
       "    font-family: Tahoma, sans-serif;\n",
       "    color: rgb( 10, 88, 126 );\n",
       "    font-size:20pt;\n",
       "}\n",
       ".text_cell_render h4 {\n",
       "    font-family: Tahoma, sans-serif;\n",
       "    color: rgb( 10, 88, 126 );\n",
       "    font-size:18pt;\n",
       "    margin-top:12px;\n",
       "    margin-bottom: 3px;\n",
       "}\n",
       "\n",
       ".text_cell_render h5 {\n",
       "    font-weight: 300;\n",
       "    font-size: 11pt;\n",
       "    color: rgb( 48, 48, 48 );\n",
       "    font-style: italic;\n",
       "    margin-bottom: .5em;\n",
       "    margin-top: 0.5em;\n",
       "    display: block;\n",
       "}\n",
       "\n",
       ".text_cell_render ul {\n",
       "    font-family: Tahoma, sans-serif;\n",
       "    color: rgb( 90, 90, 90 );\n",
       "    font-size:11pt;\n",
       "    line-height: 185%;\n",
       "}\n",
       "\n",
       ".text_cell_render yp {\n",
       "    font-family: Tahoma, sans-serif;\n",
       "    color: rgb( 90, 90, 90 );\n",
       "    font-size:11pt;\n",
       "}\n",
       "\n",
       ".text_cell_render strong {\n",
       "    font-family: Tahoma, sans-serif;\n",
       "    color: rgb( 30, 30, 30 );\n",
       "    font-size:11pt;\n",
       "}\n",
       "\n",
       ".text_cell_render a:link {\n",
       "    font-family: Tahoma, sans-serif;\n",
       "    color: rgb( 10, 88, 126 );\n",
       "    font-size:11pt;\n",
       "}\n",
       "\n",
       ".text_cell_render a:visited {\n",
       "    color:rgb( 10, 88, 126 );\n",
       "}\n",
       "\n",
       ".text_cell_render {\n",
       "    font-family: Helvetica, Courier, Computer Modern, \"Helvetica Neue\", Arial, Geneva, sans-serif;\n",
       "    color: rgb( 84, 84, 84 );\n",
       "    font-size:11pt;\n",
       "    line-height: 125%;\n",
       "    font-size: 100%;\n",
       "    width:800px;\n",
       "}\n",
       "\n",
       ".CodeMirror {\n",
       "    font-family: Courier, \"Source Code Pro\", source-code-pro,Consolas, monospace;\n",
       "}\n",
       "\n",
       ".warning {\n",
       "    color: rgb( 240, 20, 20 );\n",
       "}\n",
       "\n",
       "/* Pandas tables */\n",
       "/*\n",
       ".rendered_html td {\n",
       "    text-align: right;\n",
       "}\n",
       "*/\n",
       "\n",
       "table.dataframe td {\n",
       "    text-align: right;\n",
       "}\n",
       "\n",
       ".output .table-of-contents {\n",
       "    border: 1px #cecece solid;\n",
       "    background-color: #fafafa;\n",
       "    padding-top: 10px;\n",
       "    padding-bottom: 5px;\n",
       "    padding-right: 15px;\n",
       "    padding-left: 0px;\n",
       "    margin-bottom: 20px;\n",
       "    display: inline-block;\n",
       "    position: relative;\n",
       "}\n",
       "\n",
       ".output .table-of-contents ul {\n",
       "    list-style-type: none;\n",
       "    padding-left: 20px;\n",
       "}\n",
       "\n",
       ".output .table-of-contents .title {\n",
       "    font-weight: bold;\n",
       "    font-height: 11pt;\n",
       "    padding-left: 20px; /* looks better if it's the same to the <ul> */\n",
       "}\n",
       "\n",
       ".output .table-of-contents .btn-update {\n",
       "    position: absolute;\n",
       "    float: right;\n",
       "    right: 11px;\n",
       "    top: 4px;\n",
       "    font-size: 9pt;\n",
       "}\n",
       "\n",
       "</style>\n",
       "<script>\n",
       "    MathJax.Hub.Config({\n",
       "                        TeX: {\n",
       "                           extensions: [\"AMSmath.js\"]\n",
       "                           },\n",
       "                displayAlign: 'center', // Change this to 'center' to center equations.\n",
       "                \"HTML-CSS\": {\n",
       "                    styles: {'.MathJax_Display': {\"margin\": 4}}\n",
       "                }\n",
       "        });\n",
       "</script>\n"
      ],
      "text/plain": [
       "<IPython.core.display.HTML object>"
      ]
     },
     "execution_count": 2,
     "metadata": {},
     "output_type": "execute_result"
    }
   ],
   "source": [
    "import scipy.io\n",
    "import numpy as np\n",
    "import pandas as pd\n",
    "import warnings\n",
    "from addutils import css_notebook\n",
    "css_notebook()"
   ]
  },
  {
   "cell_type": "code",
   "execution_count": 3,
   "metadata": {
    "collapsed": true
   },
   "outputs": [],
   "source": [
    "warnings.filterwarnings('ignore')"
   ]
  },
  {
   "cell_type": "markdown",
   "metadata": {},
   "source": [
    "## 1 Defining the estimator object"
   ]
  },
  {
   "cell_type": "markdown",
   "metadata": {},
   "source": [
    "In scikit-learn, almost all operations are done through an **estimator object**. For example, a linear regression estimator can be instantiated as follows:"
   ]
  },
  {
   "cell_type": "code",
   "execution_count": 4,
   "metadata": {
    "collapsed": false
   },
   "outputs": [
    {
     "name": "stdout",
     "output_type": "stream",
     "text": [
      "LinearRegression(copy_X=True, fit_intercept=True, n_jobs=1, normalize=True)\n"
     ]
    }
   ],
   "source": [
    "from sklearn import linear_model\n",
    "model = linear_model.LinearRegression(fit_intercept=True, normalize=True)\n",
    "print(model)"
   ]
  },
  {
   "cell_type": "markdown",
   "metadata": {},
   "source": [
    "In brackets are displayed the current values for the “hyperparameters” of the estimator. To learn about the specific “hyperparameters” check the documentation:"
   ]
  },
  {
   "cell_type": "code",
   "execution_count": 5,
   "metadata": {
    "collapsed": false
   },
   "outputs": [],
   "source": [
    "# Try: model?"
   ]
  },
  {
   "cell_type": "markdown",
   "metadata": {},
   "source": [
    "Meta parameters can be changed after the model has been created:"
   ]
  },
  {
   "cell_type": "code",
   "execution_count": 6,
   "metadata": {
    "collapsed": false
   },
   "outputs": [
    {
     "name": "stdout",
     "output_type": "stream",
     "text": [
      "LinearRegression(copy_X=True, fit_intercept=False, n_jobs=1, normalize=True)\n"
     ]
    }
   ],
   "source": [
    "model.fit_intercept = False\n",
    "print(model)"
   ]
  },
  {
   "cell_type": "markdown",
   "metadata": {},
   "source": [
    "Given a scikit-learn *estimator* object named `model`, the following methods are available:\n",
    "\n",
    "* *Available in all Estimators*\n",
    "  * `model.fit()` : fit training data.\n",
    "      * For supervised learning, this accepts two arguments: `model.fit(X, y)`.\n",
    "      * For unsupervised learning, this accepts only a single argument `model.fit(X)`.\n",
    "* *Available in supervised estimators*\n",
    "  * `model.predict()` : predict the label of a new set of data. This accepts one argument `model.predict(X_new)`).\n",
    "  * `model.predict_proba()`: Returns the probability of a categorical label. The label itself is returned by `model.predict()`.\n",
    "  * `model.score()`: Scores are between 0 and 1, with a larger score indicating a better fit.\n",
    "* *Available in unsupervised estimators*\n",
    "  * `model.transform()`: Transform new data into the new basis. This accepts one argument `X_new`, and returns the new representation of the data.\n",
    "  * `model.fit_transform()`: some estimators implement this method, which more efficiently performs a fit and a transform on the same input data."
   ]
  },
  {
   "cell_type": "markdown",
   "metadata": {},
   "source": [
    "## 2 Simple estimator example: fit a linear regression model"
   ]
  },
  {
   "cell_type": "code",
   "execution_count": 7,
   "metadata": {
    "collapsed": false
   },
   "outputs": [
    {
     "data": {
      "text/html": [
       "\n",
       "    <div class=\"bk-root\">\n",
       "        <a href=\"http://bokeh.pydata.org\" target=\"_blank\" class=\"bk-logo bk-logo-small bk-logo-notebook\"></a>\n",
       "        <span id=\"cf34d05f-84a9-4ac5-a8b8-8b0d118dfae1\">Loading BokehJS ...</span>\n",
       "    </div>"
      ]
     },
     "metadata": {},
     "output_type": "display_data"
    },
    {
     "data": {
      "application/javascript": [
       "\n",
       "(function(global) {\n",
       "  function now() {\n",
       "    return new Date();\n",
       "  }\n",
       "\n",
       "  var force = true;\n",
       "\n",
       "  if (typeof (window._bokeh_onload_callbacks) === \"undefined\" || force === true) {\n",
       "    window._bokeh_onload_callbacks = [];\n",
       "    window._bokeh_is_loading = undefined;\n",
       "  }\n",
       "\n",
       "\n",
       "  \n",
       "  if (typeof (window._bokeh_timeout) === \"undefined\" || force === true) {\n",
       "    window._bokeh_timeout = Date.now() + 5000;\n",
       "    window._bokeh_failed_load = false;\n",
       "  }\n",
       "\n",
       "  var NB_LOAD_WARNING = {'data': {'text/html':\n",
       "     \"<div style='background-color: #fdd'>\\n\"+\n",
       "     \"<p>\\n\"+\n",
       "     \"BokehJS does not appear to have successfully loaded. If loading BokehJS from CDN, this \\n\"+\n",
       "     \"may be due to a slow or bad network connection. Possible fixes:\\n\"+\n",
       "     \"</p>\\n\"+\n",
       "     \"<ul>\\n\"+\n",
       "     \"<li>re-rerun `output_notebook()` to attempt to load from CDN again, or</li>\\n\"+\n",
       "     \"<li>use INLINE resources instead, as so:</li>\\n\"+\n",
       "     \"</ul>\\n\"+\n",
       "     \"<code>\\n\"+\n",
       "     \"from bokeh.resources import INLINE\\n\"+\n",
       "     \"output_notebook(resources=INLINE)\\n\"+\n",
       "     \"</code>\\n\"+\n",
       "     \"</div>\"}};\n",
       "\n",
       "  function display_loaded() {\n",
       "    if (window.Bokeh !== undefined) {\n",
       "      document.getElementById(\"cf34d05f-84a9-4ac5-a8b8-8b0d118dfae1\").textContent = \"BokehJS successfully loaded.\";\n",
       "    } else if (Date.now() < window._bokeh_timeout) {\n",
       "      setTimeout(display_loaded, 100)\n",
       "    }\n",
       "  }\n",
       "\n",
       "  function run_callbacks() {\n",
       "    window._bokeh_onload_callbacks.forEach(function(callback) { callback() });\n",
       "    delete window._bokeh_onload_callbacks\n",
       "    console.info(\"Bokeh: all callbacks have finished\");\n",
       "  }\n",
       "\n",
       "  function load_libs(js_urls, callback) {\n",
       "    window._bokeh_onload_callbacks.push(callback);\n",
       "    if (window._bokeh_is_loading > 0) {\n",
       "      console.log(\"Bokeh: BokehJS is being loaded, scheduling callback at\", now());\n",
       "      return null;\n",
       "    }\n",
       "    if (js_urls == null || js_urls.length === 0) {\n",
       "      run_callbacks();\n",
       "      return null;\n",
       "    }\n",
       "    console.log(\"Bokeh: BokehJS not loaded, scheduling load and callback at\", now());\n",
       "    window._bokeh_is_loading = js_urls.length;\n",
       "    for (var i = 0; i < js_urls.length; i++) {\n",
       "      var url = js_urls[i];\n",
       "      var s = document.createElement('script');\n",
       "      s.src = url;\n",
       "      s.async = false;\n",
       "      s.onreadystatechange = s.onload = function() {\n",
       "        window._bokeh_is_loading--;\n",
       "        if (window._bokeh_is_loading === 0) {\n",
       "          console.log(\"Bokeh: all BokehJS libraries loaded\");\n",
       "          run_callbacks()\n",
       "        }\n",
       "      };\n",
       "      s.onerror = function() {\n",
       "        console.warn(\"failed to load library \" + url);\n",
       "      };\n",
       "      console.log(\"Bokeh: injecting script tag for BokehJS library: \", url);\n",
       "      document.getElementsByTagName(\"head\")[0].appendChild(s);\n",
       "    }\n",
       "  };var element = document.getElementById(\"cf34d05f-84a9-4ac5-a8b8-8b0d118dfae1\");\n",
       "  if (element == null) {\n",
       "    console.log(\"Bokeh: ERROR: autoload.js configured with elementid 'cf34d05f-84a9-4ac5-a8b8-8b0d118dfae1' but no matching script tag was found. \")\n",
       "    return false;\n",
       "  }\n",
       "\n",
       "  var js_urls = [\"https://cdn.pydata.org/bokeh/release/bokeh-0.12.4.min.js\", \"https://cdn.pydata.org/bokeh/release/bokeh-widgets-0.12.4.min.js\"];\n",
       "\n",
       "  var inline_js = [\n",
       "    function(Bokeh) {\n",
       "      Bokeh.set_log_level(\"info\");\n",
       "    },\n",
       "    \n",
       "    function(Bokeh) {\n",
       "      \n",
       "      document.getElementById(\"cf34d05f-84a9-4ac5-a8b8-8b0d118dfae1\").textContent = \"BokehJS is loading...\";\n",
       "    },\n",
       "    function(Bokeh) {\n",
       "      console.log(\"Bokeh: injecting CSS: https://cdn.pydata.org/bokeh/release/bokeh-0.12.4.min.css\");\n",
       "      Bokeh.embed.inject_css(\"https://cdn.pydata.org/bokeh/release/bokeh-0.12.4.min.css\");\n",
       "      console.log(\"Bokeh: injecting CSS: https://cdn.pydata.org/bokeh/release/bokeh-widgets-0.12.4.min.css\");\n",
       "      Bokeh.embed.inject_css(\"https://cdn.pydata.org/bokeh/release/bokeh-widgets-0.12.4.min.css\");\n",
       "    }\n",
       "  ];\n",
       "\n",
       "  function run_inline_js() {\n",
       "    \n",
       "    if ((window.Bokeh !== undefined) || (force === true)) {\n",
       "      for (var i = 0; i < inline_js.length; i++) {\n",
       "        inline_js[i](window.Bokeh);\n",
       "      }if (force === true) {\n",
       "        display_loaded();\n",
       "      }} else if (Date.now() < window._bokeh_timeout) {\n",
       "      setTimeout(run_inline_js, 100);\n",
       "    } else if (!window._bokeh_failed_load) {\n",
       "      console.log(\"Bokeh: BokehJS failed to load within specified timeout.\");\n",
       "      window._bokeh_failed_load = true;\n",
       "    } else if (force !== true) {\n",
       "      var cell = $(document.getElementById(\"cf34d05f-84a9-4ac5-a8b8-8b0d118dfae1\")).parents('.cell').data().cell;\n",
       "      cell.output_area.append_execute_result(NB_LOAD_WARNING)\n",
       "    }\n",
       "\n",
       "  }\n",
       "\n",
       "  if (window._bokeh_is_loading === 0) {\n",
       "    console.log(\"Bokeh: BokehJS loaded, going straight to plotting\");\n",
       "    run_inline_js();\n",
       "  } else {\n",
       "    load_libs(js_urls, function() {\n",
       "      console.log(\"Bokeh: BokehJS plotting callback run at\", now());\n",
       "      run_inline_js();\n",
       "    });\n",
       "  }\n",
       "}(this));"
      ]
     },
     "metadata": {},
     "output_type": "display_data"
    }
   ],
   "source": [
    "import bokeh.plotting as bk\n",
    "bk.output_notebook()"
   ]
  },
  {
   "cell_type": "code",
   "execution_count": 8,
   "metadata": {
    "collapsed": false
   },
   "outputs": [
    {
     "name": "stdout",
     "output_type": "stream",
     "text": [
      "LinearRegression(copy_X=True, fit_intercept=True, n_jobs=1, normalize=False)\n",
      "Model coefficient: 275.99550, and intercept: -145.41186\n",
      "Mean Squared Error: 23.04\n"
     ]
    },
    {
     "data": {
      "text/html": [
       "\n",
       "\n",
       "    <div class=\"bk-root\">\n",
       "        <div class=\"bk-plotdiv\" id=\"3e9d6e5b-f0e1-47f5-bfba-917041d9a710\"></div>\n",
       "    </div>\n",
       "<script type=\"text/javascript\">\n",
       "  \n",
       "  (function(global) {\n",
       "    function now() {\n",
       "      return new Date();\n",
       "    }\n",
       "  \n",
       "    var force = false;\n",
       "  \n",
       "    if (typeof (window._bokeh_onload_callbacks) === \"undefined\" || force === true) {\n",
       "      window._bokeh_onload_callbacks = [];\n",
       "      window._bokeh_is_loading = undefined;\n",
       "    }\n",
       "  \n",
       "  \n",
       "    \n",
       "    if (typeof (window._bokeh_timeout) === \"undefined\" || force === true) {\n",
       "      window._bokeh_timeout = Date.now() + 0;\n",
       "      window._bokeh_failed_load = false;\n",
       "    }\n",
       "  \n",
       "    var NB_LOAD_WARNING = {'data': {'text/html':\n",
       "       \"<div style='background-color: #fdd'>\\n\"+\n",
       "       \"<p>\\n\"+\n",
       "       \"BokehJS does not appear to have successfully loaded. If loading BokehJS from CDN, this \\n\"+\n",
       "       \"may be due to a slow or bad network connection. Possible fixes:\\n\"+\n",
       "       \"</p>\\n\"+\n",
       "       \"<ul>\\n\"+\n",
       "       \"<li>re-rerun `output_notebook()` to attempt to load from CDN again, or</li>\\n\"+\n",
       "       \"<li>use INLINE resources instead, as so:</li>\\n\"+\n",
       "       \"</ul>\\n\"+\n",
       "       \"<code>\\n\"+\n",
       "       \"from bokeh.resources import INLINE\\n\"+\n",
       "       \"output_notebook(resources=INLINE)\\n\"+\n",
       "       \"</code>\\n\"+\n",
       "       \"</div>\"}};\n",
       "  \n",
       "    function display_loaded() {\n",
       "      if (window.Bokeh !== undefined) {\n",
       "        document.getElementById(\"3e9d6e5b-f0e1-47f5-bfba-917041d9a710\").textContent = \"BokehJS successfully loaded.\";\n",
       "      } else if (Date.now() < window._bokeh_timeout) {\n",
       "        setTimeout(display_loaded, 100)\n",
       "      }\n",
       "    }\n",
       "  \n",
       "    function run_callbacks() {\n",
       "      window._bokeh_onload_callbacks.forEach(function(callback) { callback() });\n",
       "      delete window._bokeh_onload_callbacks\n",
       "      console.info(\"Bokeh: all callbacks have finished\");\n",
       "    }\n",
       "  \n",
       "    function load_libs(js_urls, callback) {\n",
       "      window._bokeh_onload_callbacks.push(callback);\n",
       "      if (window._bokeh_is_loading > 0) {\n",
       "        console.log(\"Bokeh: BokehJS is being loaded, scheduling callback at\", now());\n",
       "        return null;\n",
       "      }\n",
       "      if (js_urls == null || js_urls.length === 0) {\n",
       "        run_callbacks();\n",
       "        return null;\n",
       "      }\n",
       "      console.log(\"Bokeh: BokehJS not loaded, scheduling load and callback at\", now());\n",
       "      window._bokeh_is_loading = js_urls.length;\n",
       "      for (var i = 0; i < js_urls.length; i++) {\n",
       "        var url = js_urls[i];\n",
       "        var s = document.createElement('script');\n",
       "        s.src = url;\n",
       "        s.async = false;\n",
       "        s.onreadystatechange = s.onload = function() {\n",
       "          window._bokeh_is_loading--;\n",
       "          if (window._bokeh_is_loading === 0) {\n",
       "            console.log(\"Bokeh: all BokehJS libraries loaded\");\n",
       "            run_callbacks()\n",
       "          }\n",
       "        };\n",
       "        s.onerror = function() {\n",
       "          console.warn(\"failed to load library \" + url);\n",
       "        };\n",
       "        console.log(\"Bokeh: injecting script tag for BokehJS library: \", url);\n",
       "        document.getElementsByTagName(\"head\")[0].appendChild(s);\n",
       "      }\n",
       "    };var element = document.getElementById(\"3e9d6e5b-f0e1-47f5-bfba-917041d9a710\");\n",
       "    if (element == null) {\n",
       "      console.log(\"Bokeh: ERROR: autoload.js configured with elementid '3e9d6e5b-f0e1-47f5-bfba-917041d9a710' but no matching script tag was found. \")\n",
       "      return false;\n",
       "    }\n",
       "  \n",
       "    var js_urls = [];\n",
       "  \n",
       "    var inline_js = [\n",
       "      function(Bokeh) {\n",
       "        (function() {\n",
       "          var fn = function() {\n",
       "            var docs_json = {\"20a24a98-8d19-42f1-9267-dd04018945f1\":{\"roots\":{\"references\":[{\"attributes\":{\"plot\":{\"id\":\"0f214eee-9c2c-4025-a6f3-a033625811e5\",\"subtype\":\"Figure\",\"type\":\"Plot\"}},\"id\":\"ed735434-f6db-4424-9dcc-536bda12a442\",\"type\":\"HelpTool\"},{\"attributes\":{\"data_source\":{\"id\":\"821efc7f-a514-4c04-a85e-cbde5473ed4f\",\"type\":\"ColumnDataSource\"},\"glyph\":{\"id\":\"18f84569-55ae-4357-a9e3-a990cb1b2b99\",\"type\":\"Circle\"},\"hover_glyph\":null,\"nonselection_glyph\":{\"id\":\"c4aabfee-7081-42cc-a145-873a1f9529ca\",\"type\":\"Circle\"},\"selection_glyph\":null},\"id\":\"61375134-5cef-49fb-b9a6-883f30ec72ab\",\"type\":\"GlyphRenderer\"},{\"attributes\":{\"label\":{\"value\":\"Predicted Values\"},\"renderers\":[{\"id\":\"296d09c0-6e25-4281-88f7-1ea509a930cd\",\"type\":\"GlyphRenderer\"}]},\"id\":\"296628e7-cd29-4dfc-b7a6-7dfae6e49031\",\"type\":\"LegendItem\"},{\"attributes\":{},\"id\":\"fa86c29b-db8d-46c8-b76a-b820b6bedf01\",\"type\":\"BasicTickFormatter\"},{\"attributes\":{\"plot\":{\"id\":\"0f214eee-9c2c-4025-a6f3-a033625811e5\",\"subtype\":\"Figure\",\"type\":\"Plot\"}},\"id\":\"1e0f9939-84ed-4265-ad63-daa2ce521e2e\",\"type\":\"WheelZoomTool\"},{\"attributes\":{\"below\":[{\"id\":\"175a697e-a3f8-4bc4-8ec4-dab19a65687a\",\"type\":\"LinearAxis\"}],\"left\":[{\"id\":\"6e3be0ed-8a54-4aaf-bb10-06cca2948775\",\"type\":\"LinearAxis\"}],\"plot_height\":300,\"renderers\":[{\"id\":\"175a697e-a3f8-4bc4-8ec4-dab19a65687a\",\"type\":\"LinearAxis\"},{\"id\":\"56f838ae-09dc-4f52-bd79-820b9b8e12f0\",\"type\":\"Grid\"},{\"id\":\"6e3be0ed-8a54-4aaf-bb10-06cca2948775\",\"type\":\"LinearAxis\"},{\"id\":\"8ad55265-1be5-4b27-aa46-5c76ad8afc3c\",\"type\":\"Grid\"},{\"id\":\"01b0bdc3-2940-4c6b-bab0-a56a845e315f\",\"type\":\"BoxAnnotation\"},{\"id\":\"68904578-b09e-44bc-ab4a-a4e41b6ec162\",\"type\":\"Legend\"},{\"id\":\"61375134-5cef-49fb-b9a6-883f30ec72ab\",\"type\":\"GlyphRenderer\"},{\"id\":\"296d09c0-6e25-4281-88f7-1ea509a930cd\",\"type\":\"GlyphRenderer\"}],\"title\":{\"id\":\"90808f85-b289-4f56-95c0-0551983955f6\",\"type\":\"Title\"},\"tool_events\":{\"id\":\"a6824599-4bb7-4db3-a90d-f0703eac7a22\",\"type\":\"ToolEvents\"},\"toolbar\":{\"id\":\"b5937d04-7a99-4c9b-adfb-5f7b21b8f250\",\"type\":\"Toolbar\"},\"x_range\":{\"id\":\"1b66ac22-7c79-4092-ab79-5628c52f9d52\",\"type\":\"DataRange1d\"},\"y_range\":{\"id\":\"7ff6b934-8a04-4338-a5c8-85e6d2fee9c1\",\"type\":\"DataRange1d\"}},\"id\":\"0f214eee-9c2c-4025-a6f3-a033625811e5\",\"subtype\":\"Figure\",\"type\":\"Plot\"},{\"attributes\":{\"data_source\":{\"id\":\"0cf36231-984d-4499-9783-040e8ff25ffe\",\"type\":\"ColumnDataSource\"},\"glyph\":{\"id\":\"533ce98a-211f-4a4d-bf35-b90f5eef8420\",\"type\":\"Line\"},\"hover_glyph\":null,\"nonselection_glyph\":{\"id\":\"64c9e80d-838a-44fe-9d44-f266cbb62c2e\",\"type\":\"Line\"},\"selection_glyph\":null},\"id\":\"296d09c0-6e25-4281-88f7-1ea509a930cd\",\"type\":\"GlyphRenderer\"},{\"attributes\":{},\"id\":\"a6824599-4bb7-4db3-a90d-f0703eac7a22\",\"type\":\"ToolEvents\"},{\"attributes\":{\"plot\":{\"id\":\"0f214eee-9c2c-4025-a6f3-a033625811e5\",\"subtype\":\"Figure\",\"type\":\"Plot\"}},\"id\":\"3c5175ca-fafe-43a0-8f77-c67e33e5f4eb\",\"type\":\"PanTool\"},{\"attributes\":{\"callback\":null},\"id\":\"7ff6b934-8a04-4338-a5c8-85e6d2fee9c1\",\"type\":\"DataRange1d\"},{\"attributes\":{},\"id\":\"cd05f5d3-9430-4920-9989-7033194b704b\",\"type\":\"BasicTickFormatter\"},{\"attributes\":{\"callback\":null,\"column_names\":[\"x\",\"y\"],\"data\":{\"x\":{\"__ndarray__\":\"R5MkkUS93D++AhuVNhnmP0IKp+BWJ+M/lB0l7imM3D+4xXLJO7/hP/L5tOUJ8cU//qAOJWEO3z8Ricohsx3bP7AXcxqfG90/+Cx0VNJU7T8wkXXz7h3iP2bw0A4pHOs/////////7z9jct+qOuXhPyS8B37MB9g/SgTUBpr02D9ghjRQ//7VPzFvtO+uwOA/CCIXYuF9yD+H6oTJRz7hP87m5GXocuM/P+IpGoLi4z+3kqEPAarjP8y5GfrxEc4/DTB6M4uL1j+1gxhCFxnWP2AIxRkt4u0/V3mUiOne3z8PjbswZD7nP9biMy4DecY/cy+7LxFB0T8PGXSm5qzmPyBenibPluo/sMuoa81G5T9+5kFZIMjjPwFStvHAgeM/Xx4FOET95T/WWdkn8OroP79+0UjN1tU//cFPWA5v5z8AAAAAAAAAAKq/Gt7dENw/Zg8shcoQ3T9MJUEqVgTjP8zariDKSOE/38J5626w6j+Lpr4qwPfhPwMUxZ5W8uI/BPYxWR3e3T/M1ju4+c7vP5YrFwySKM0/ZnpyqSp22T+OSY33pALkP0XtRWrIGds/U/m6PO320z/BsXpgM2XfP51sfKGKYeE/Zc1tnyH64T+U8Ak5ouzIP5aPoiojKN8/Gm1VtESY4z9WFheMOUHgP8I3BHNs2uo/kk6aoagW1z+a5gbzODbSP2xx5TMrQ90/bKa8SwGl7D9NTAcTWRrpP0o1ZqIQ6dQ/ED0IvIBfvj8=\",\"dtype\":\"float64\",\"shape\":[70]},\"y\":{\"__ndarray__\":\"OPITuPtIM8A4mChlpmlBQPAr3nUYPTZAIogSUvv1OMCrYWZDiskhQH/SmpLaYVnAKUXFgFtbJ8BYfvMnIcM4wOgamcrj9yrAg4sGVNamWUCEbO9MiesyQK2asKkP1VRAbvt1cyoHYUD0fy6bvIMxQJzGLT6q2kTAX5nTjYM3SMB3LwmBZ0BLwCSWEkdTof2/R1URhvDKVcCZV4t8aKsWQEZjYCv/CzZAd8lqxBs2OUCrjE8k1R8zQDsmBXzsHVLAE8q3NGsPSsBr6MX0Iv1GwKpPQarktl1AEHXlTY/xLcBiJeHyxjZMQFZEDFIr9FbAKJTqR2A+U8An8dWM01NLQB4OcLyy2FZAolixNJovQkBA6nYwS+s4QPk1+voBxzdAXFyZoVBNQkBAIKPEHg1RQMveFg7G60nAMQQFWdYWSkD68xdsOcthwIdIxT5VBjrA5n+i4ejZMsDQggJBkZE2QGs9M5FHtQvALv6xn05/V0B1n557BuAeQGAMd06S2zJAKFXz/VUgOsDkBapRBF9gQMaUbcsbxFPAx/BrP59dQcAHEuuZC5A2QMNzgJfvTjzANaDSS4xiSsAycQN+QYslwGTbf8h6F+u/dNo9CnHe+D9JMVbgNCBXwKWC5k6g3R7ArAcbJzJ9OUDM9b8k/Bj1v7lwgWJZGlZAl+pCVC3vRsCZoYGhnnRQwMLJ7MLUsi/AELKZA1gkWUAouyAXdGBQQPKUZG0pmUnA6logX/cdXsA=\",\"dtype\":\"float64\",\"shape\":[70]}}},\"id\":\"821efc7f-a514-4c04-a85e-cbde5473ed4f\",\"type\":\"ColumnDataSource\"},{\"attributes\":{\"axis_label\":\"X scaled\",\"formatter\":{\"id\":\"cd05f5d3-9430-4920-9989-7033194b704b\",\"type\":\"BasicTickFormatter\"},\"plot\":{\"id\":\"0f214eee-9c2c-4025-a6f3-a033625811e5\",\"subtype\":\"Figure\",\"type\":\"Plot\"},\"ticker\":{\"id\":\"0a6621a1-2cd8-4216-b3ef-bc66b205e055\",\"type\":\"BasicTicker\"}},\"id\":\"175a697e-a3f8-4bc4-8ec4-dab19a65687a\",\"type\":\"LinearAxis\"},{\"attributes\":{\"plot\":null,\"text\":\"Simple Regression\"},\"id\":\"90808f85-b289-4f56-95c0-0551983955f6\",\"type\":\"Title\"},{\"attributes\":{\"callback\":null},\"id\":\"1b66ac22-7c79-4092-ab79-5628c52f9d52\",\"type\":\"DataRange1d\"},{\"attributes\":{\"plot\":{\"id\":\"0f214eee-9c2c-4025-a6f3-a033625811e5\",\"subtype\":\"Figure\",\"type\":\"Plot\"}},\"id\":\"c7a6898f-35b6-404c-ab28-907e924e6f2f\",\"type\":\"SaveTool\"},{\"attributes\":{\"fill_alpha\":{\"value\":0.5},\"fill_color\":{\"value\":\"green\"},\"line_color\":{\"value\":\"darkgreen\"},\"size\":{\"units\":\"screen\",\"value\":10},\"x\":{\"field\":\"x\"},\"y\":{\"field\":\"y\"}},\"id\":\"18f84569-55ae-4357-a9e3-a990cb1b2b99\",\"type\":\"Circle\"},{\"attributes\":{\"items\":[{\"id\":\"7683d6f6-49c5-4060-82e5-382509bb78eb\",\"type\":\"LegendItem\"},{\"id\":\"296628e7-cd29-4dfc-b7a6-7dfae6e49031\",\"type\":\"LegendItem\"}],\"location\":\"bottom_right\",\"plot\":{\"id\":\"0f214eee-9c2c-4025-a6f3-a033625811e5\",\"subtype\":\"Figure\",\"type\":\"Plot\"}},\"id\":\"68904578-b09e-44bc-ab4a-a4e41b6ec162\",\"type\":\"Legend\"},{\"attributes\":{\"axis_label\":\"y\",\"formatter\":{\"id\":\"fa86c29b-db8d-46c8-b76a-b820b6bedf01\",\"type\":\"BasicTickFormatter\"},\"plot\":{\"id\":\"0f214eee-9c2c-4025-a6f3-a033625811e5\",\"subtype\":\"Figure\",\"type\":\"Plot\"},\"ticker\":{\"id\":\"82211a2b-90f9-4cd5-aff3-9887ef99988e\",\"type\":\"BasicTicker\"}},\"id\":\"6e3be0ed-8a54-4aaf-bb10-06cca2948775\",\"type\":\"LinearAxis\"},{\"attributes\":{\"line_color\":{\"value\":\"blue\"},\"x\":{\"field\":\"x\"},\"y\":{\"field\":\"y\"}},\"id\":\"533ce98a-211f-4a4d-bf35-b90f5eef8420\",\"type\":\"Line\"},{\"attributes\":{\"label\":{\"value\":\"Measured Data\"},\"renderers\":[{\"id\":\"61375134-5cef-49fb-b9a6-883f30ec72ab\",\"type\":\"GlyphRenderer\"}]},\"id\":\"7683d6f6-49c5-4060-82e5-382509bb78eb\",\"type\":\"LegendItem\"},{\"attributes\":{},\"id\":\"82211a2b-90f9-4cd5-aff3-9887ef99988e\",\"type\":\"BasicTicker\"},{\"attributes\":{\"plot\":{\"id\":\"0f214eee-9c2c-4025-a6f3-a033625811e5\",\"subtype\":\"Figure\",\"type\":\"Plot\"},\"ticker\":{\"id\":\"0a6621a1-2cd8-4216-b3ef-bc66b205e055\",\"type\":\"BasicTicker\"}},\"id\":\"56f838ae-09dc-4f52-bd79-820b9b8e12f0\",\"type\":\"Grid\"},{\"attributes\":{\"active_drag\":\"auto\",\"active_scroll\":\"auto\",\"active_tap\":\"auto\",\"tools\":[{\"id\":\"3c5175ca-fafe-43a0-8f77-c67e33e5f4eb\",\"type\":\"PanTool\"},{\"id\":\"1e0f9939-84ed-4265-ad63-daa2ce521e2e\",\"type\":\"WheelZoomTool\"},{\"id\":\"86b436d7-5d82-464f-8f75-a470faa1a244\",\"type\":\"BoxZoomTool\"},{\"id\":\"c7a6898f-35b6-404c-ab28-907e924e6f2f\",\"type\":\"SaveTool\"},{\"id\":\"67e73fdf-af80-42ee-8685-0bf7a2ce27af\",\"type\":\"ResetTool\"},{\"id\":\"ed735434-f6db-4424-9dcc-536bda12a442\",\"type\":\"HelpTool\"}]},\"id\":\"b5937d04-7a99-4c9b-adfb-5f7b21b8f250\",\"type\":\"Toolbar\"},{\"attributes\":{\"dimension\":1,\"plot\":{\"id\":\"0f214eee-9c2c-4025-a6f3-a033625811e5\",\"subtype\":\"Figure\",\"type\":\"Plot\"},\"ticker\":{\"id\":\"82211a2b-90f9-4cd5-aff3-9887ef99988e\",\"type\":\"BasicTicker\"}},\"id\":\"8ad55265-1be5-4b27-aa46-5c76ad8afc3c\",\"type\":\"Grid\"},{\"attributes\":{\"line_alpha\":{\"value\":0.1},\"line_color\":{\"value\":\"#1f77b4\"},\"x\":{\"field\":\"x\"},\"y\":{\"field\":\"y\"}},\"id\":\"64c9e80d-838a-44fe-9d44-f266cbb62c2e\",\"type\":\"Line\"},{\"attributes\":{\"fill_alpha\":{\"value\":0.1},\"fill_color\":{\"value\":\"#1f77b4\"},\"line_alpha\":{\"value\":0.1},\"line_color\":{\"value\":\"#1f77b4\"},\"size\":{\"units\":\"screen\",\"value\":10},\"x\":{\"field\":\"x\"},\"y\":{\"field\":\"y\"}},\"id\":\"c4aabfee-7081-42cc-a145-873a1f9529ca\",\"type\":\"Circle\"},{\"attributes\":{},\"id\":\"0a6621a1-2cd8-4216-b3ef-bc66b205e055\",\"type\":\"BasicTicker\"},{\"attributes\":{\"overlay\":{\"id\":\"01b0bdc3-2940-4c6b-bab0-a56a845e315f\",\"type\":\"BoxAnnotation\"},\"plot\":{\"id\":\"0f214eee-9c2c-4025-a6f3-a033625811e5\",\"subtype\":\"Figure\",\"type\":\"Plot\"}},\"id\":\"86b436d7-5d82-464f-8f75-a470faa1a244\",\"type\":\"BoxZoomTool\"},{\"attributes\":{\"callback\":null,\"column_names\":[\"x\",\"y\"],\"data\":{\"x\":{\"__ndarray__\":\"AAAAAAAAAAAAAAAAAADwPw==\",\"dtype\":\"float64\",\"shape\":[2]},\"y\":{\"__ndarray__\":\"796e/C0tYsBdvJQprVJgQA==\",\"dtype\":\"float64\",\"shape\":[2]}}},\"id\":\"0cf36231-984d-4499-9783-040e8ff25ffe\",\"type\":\"ColumnDataSource\"},{\"attributes\":{\"bottom_units\":\"screen\",\"fill_alpha\":{\"value\":0.5},\"fill_color\":{\"value\":\"lightgrey\"},\"left_units\":\"screen\",\"level\":\"overlay\",\"line_alpha\":{\"value\":1.0},\"line_color\":{\"value\":\"black\"},\"line_dash\":[4,4],\"line_width\":{\"value\":2},\"plot\":null,\"render_mode\":\"css\",\"right_units\":\"screen\",\"top_units\":\"screen\"},\"id\":\"01b0bdc3-2940-4c6b-bab0-a56a845e315f\",\"type\":\"BoxAnnotation\"},{\"attributes\":{\"plot\":{\"id\":\"0f214eee-9c2c-4025-a6f3-a033625811e5\",\"subtype\":\"Figure\",\"type\":\"Plot\"}},\"id\":\"67e73fdf-af80-42ee-8685-0bf7a2ce27af\",\"type\":\"ResetTool\"}],\"root_ids\":[\"0f214eee-9c2c-4025-a6f3-a033625811e5\"]},\"title\":\"Bokeh Application\",\"version\":\"0.12.4\"}};\n",
       "            var render_items = [{\"docid\":\"20a24a98-8d19-42f1-9267-dd04018945f1\",\"elementid\":\"3e9d6e5b-f0e1-47f5-bfba-917041d9a710\",\"modelid\":\"0f214eee-9c2c-4025-a6f3-a033625811e5\"}];\n",
       "            \n",
       "            Bokeh.embed.embed_items(docs_json, render_items);\n",
       "          };\n",
       "          if (document.readyState != \"loading\") fn();\n",
       "          else document.addEventListener(\"DOMContentLoaded\", fn);\n",
       "        })();\n",
       "      },\n",
       "      function(Bokeh) {\n",
       "      }\n",
       "    ];\n",
       "  \n",
       "    function run_inline_js() {\n",
       "      \n",
       "      if ((window.Bokeh !== undefined) || (force === true)) {\n",
       "        for (var i = 0; i < inline_js.length; i++) {\n",
       "          inline_js[i](window.Bokeh);\n",
       "        }if (force === true) {\n",
       "          display_loaded();\n",
       "        }} else if (Date.now() < window._bokeh_timeout) {\n",
       "        setTimeout(run_inline_js, 100);\n",
       "      } else if (!window._bokeh_failed_load) {\n",
       "        console.log(\"Bokeh: BokehJS failed to load within specified timeout.\");\n",
       "        window._bokeh_failed_load = true;\n",
       "      } else if (force !== true) {\n",
       "        var cell = $(document.getElementById(\"3e9d6e5b-f0e1-47f5-bfba-917041d9a710\")).parents('.cell').data().cell;\n",
       "        cell.output_area.append_execute_result(NB_LOAD_WARNING)\n",
       "      }\n",
       "  \n",
       "    }\n",
       "  \n",
       "    if (window._bokeh_is_loading === 0) {\n",
       "      console.log(\"Bokeh: BokehJS loaded, going straight to plotting\");\n",
       "      run_inline_js();\n",
       "    } else {\n",
       "      load_libs(js_urls, function() {\n",
       "        console.log(\"Bokeh: BokehJS plotting callback run at\", now());\n",
       "        run_inline_js();\n",
       "      });\n",
       "    }\n",
       "  }(this));\n",
       "</script>"
      ]
     },
     "metadata": {},
     "output_type": "display_data"
    }
   ],
   "source": [
    "from sklearn import datasets, preprocessing, metrics\n",
    "X, y = datasets.samples_generator.make_regression(n_samples=70,\n",
    "                                                  n_features=1, n_informative=1,\n",
    "                                                  random_state=0, noise=5)\n",
    "scaler = preprocessing.MinMaxScaler()\n",
    "X_sc = scaler.fit_transform(X)\n",
    "\n",
    "lin = linear_model.LinearRegression(fit_intercept=True)\n",
    "lin.fit(X_sc, y)\n",
    "\n",
    "print(lin)\n",
    "print(\"Model coefficient: %.5f, and intercept: %.5f\" % (lin.coef_, lin.intercept_))\n",
    "err = metrics.mean_squared_error(lin.predict(X_sc), y)\n",
    "print(\"Mean Squared Error: %.2f\" % err)\n",
    "\n",
    "# Plot the data and the model prediction\n",
    "X_p = np.linspace(0, 1, 2)[:, np.newaxis]\n",
    "y_p = lin.predict(X_p)\n",
    "\n",
    "fig = bk.figure(title='Simple Regression', \n",
    "                x_axis_label='X scaled',\n",
    "                y_axis_label='y',\n",
    "                plot_width=600, plot_height=300)\n",
    "fig.circle(X_sc.squeeze(), y, line_color='darkgreen', size=10,\n",
    "           fill_color='green', fill_alpha=0.5, legend='Measured Data')\n",
    "fig.line(X_p.ravel(), y_p, line_color='blue', legend='Predicted Values')\n",
    "fig.legend.location = 'bottom_right'\n",
    "bk.show(fig)"
   ]
  },
  {
   "cell_type": "markdown",
   "metadata": {},
   "source": [
    "## 3 Working with MATLAB files"
   ]
  },
  {
   "cell_type": "markdown",
   "metadata": {},
   "source": [
    "v4 (Level 1.0), v6 and v7 to 7.2 matfiles are supported.\n",
    "To read matlab 7.3 format mat files an HDF5 python library is required. Please check the scipy documentation for more information."
   ]
  },
  {
   "cell_type": "markdown",
   "metadata": {},
   "source": [
    "The data can be generated with the following MATLAB code:\n",
    "\n",
    "    % Generate Regression Test Data\n",
    "    X = [1 2 3\n",
    "         4 5 6\n",
    "         7 8 9\n",
    "         0 1 2] + 0.1;\n",
    "    y = sum(X,2);\n",
    "    feat_names = strvcat('Feature One', 'Feature Two', 'Feature Three');\n",
    "    save ('matlab_test_data_01', 'X','y', 'feat_names')"
   ]
  },
  {
   "cell_type": "code",
   "execution_count": 9,
   "metadata": {
    "collapsed": true
   },
   "outputs": [],
   "source": [
    "mat_data = scipy.io.loadmat('example_data/matlab_test_data_01.mat')"
   ]
  },
  {
   "cell_type": "markdown",
   "metadata": {},
   "source": [
    "Variables names included in the `.mat` file are keys of the `mat_data` dictionary. Moreover the key `'__header__'` contains the mat-file information.\n",
    "Here we load the two variables in Pandas varialbles:"
   ]
  },
  {
   "cell_type": "code",
   "execution_count": 10,
   "metadata": {
    "collapsed": false
   },
   "outputs": [
    {
     "data": {
      "text/plain": [
       "dict_keys(['X', 'feat_names', 'y', '__version__', '__globals__', '__header__'])"
      ]
     },
     "execution_count": 10,
     "metadata": {},
     "output_type": "execute_result"
    }
   ],
   "source": [
    "mat_data.keys()"
   ]
  },
  {
   "cell_type": "markdown",
   "metadata": {},
   "source": [
    "In the following code the `.strip()` method is used to remove the trailing white spaces used by MATLAB to make all the variable names of the same lenght:"
   ]
  },
  {
   "cell_type": "code",
   "execution_count": 11,
   "metadata": {
    "collapsed": false
   },
   "outputs": [
    {
     "name": "stdout",
     "output_type": "stream",
     "text": [
      "   Feature One  Feature Two  Feature Three\n",
      "0          1.1          2.1            3.1\n",
      "1          4.1          5.1            6.1\n",
      "2          7.1          8.1            9.1\n",
      "3          0.1          1.1            2.1 \n",
      "\n",
      "    measured\n",
      "0       6.3\n",
      "1      15.3\n",
      "2      24.3\n",
      "3       3.3\n"
     ]
    }
   ],
   "source": [
    "X = pd.DataFrame(mat_data['X'], columns=[s.strip() for s in list(mat_data['feat_names'])])\n",
    "y = pd.DataFrame(mat_data['y'], columns=['measured'])\n",
    "print(X, '\\n\\n', y)"
   ]
  },
  {
   "cell_type": "markdown",
   "metadata": {},
   "source": [
    "## 4 Datasets available in scikit-learn"
   ]
  },
  {
   "cell_type": "markdown",
   "metadata": {},
   "source": [
    "Typical *scikit-learn* dataset are dictionary-like object that holds all the data and metadata.\n",
    "\n",
    "* **Features** are usually stored in the `.data` field in the form of a 2D array `[n_samples, n_features]`.\n",
    "* **Explanatory variables (targets)** are usually stored in the `.target` field in the form of a 1D array.\n",
    "\n",
    "Scikit-learn makes available a host of datasets for testing learning algorithms:\n",
    "\n",
    "- **Packaged Data:** these small datasets can be downloaded with ``sklearn.datasets.load_*``\n",
    "- **Downloadable Data:** larger datasets that can be fetched from the web with ``sklearn.datasets.fetch_*``\n",
    "- **Generated Data:** can be created with `sklearn.datasets.make_*`\n",
    "\n",
    "Try by yourself:\n",
    "\n",
    "* `datasets.load_<TAB>`\n",
    "* `datasets.fetch_<TAB>`\n",
    "* `datasets.make_<TAB>`"
   ]
  },
  {
   "cell_type": "code",
   "execution_count": 12,
   "metadata": {
    "collapsed": true
   },
   "outputs": [],
   "source": [
    "#datasets.make_"
   ]
  },
  {
   "cell_type": "markdown",
   "metadata": {},
   "source": [
    "### 4.1 Example: the \"Iris\" Packaged Dataset"
   ]
  },
  {
   "cell_type": "markdown",
   "metadata": {},
   "source": [
    "- Features in the Iris dataset:\n",
    "\n",
    "  1. sepal length in cm\n",
    "  2. sepal width in cm\n",
    "  3. petal length in cm\n",
    "  4. petal width in cm\n",
    "\n",
    "- Target classes to predict:\n",
    "\n",
    "  1. Iris Setosa\n",
    "  2. Iris Versicolour\n",
    "  3. Iris Virginica"
   ]
  },
  {
   "cell_type": "code",
   "execution_count": 13,
   "metadata": {
    "collapsed": true
   },
   "outputs": [],
   "source": [
    "d = datasets.load_iris()"
   ]
  },
  {
   "cell_type": "markdown",
   "metadata": {},
   "source": [
    "Try by yourself one of the following commands where *'d'* is the variable containing the dataset:\n",
    "\n",
    "    print d.keys()           # Structure of the contained data\n",
    "    print d.DESCR            # A complete description of the dataset\n",
    "    print d.data.shape       # [n_samples, n_features]\n",
    "    print d.target.shape     # [n_samples,]\n",
    "    print d.feature_names\n",
    "    datasets.get_data_home() # This is where the datasets are stored"
   ]
  },
  {
   "cell_type": "code",
   "execution_count": 14,
   "metadata": {
    "collapsed": false
   },
   "outputs": [
    {
     "name": "stdout",
     "output_type": "stream",
     "text": [
      "dict_keys(['feature_names', 'data', 'DESCR', 'target_names', 'target'])\n",
      "['setosa' 'versicolor' 'virginica']\n",
      "['sepal length (cm)', 'sepal width (cm)', 'petal length (cm)', 'petal width (cm)']\n"
     ]
    }
   ],
   "source": [
    "print(d.keys())\n",
    "print(d.target_names)\n",
    "print(d.feature_names)"
   ]
  },
  {
   "cell_type": "markdown",
   "metadata": {},
   "source": [
    "### 4.2 Example: the \"Digits\" Packaged Dataset"
   ]
  },
  {
   "cell_type": "markdown",
   "metadata": {},
   "source": [
    "The *Digits* contains 1797 samples made of 64 features: each feature represents the grey-scale value of a 8x8 digit image:"
   ]
  },
  {
   "cell_type": "code",
   "execution_count": 15,
   "metadata": {
    "collapsed": false
   },
   "outputs": [
    {
     "data": {
      "text/html": [
       "\n",
       "    <div class=\"bk-root\">\n",
       "        <a href=\"http://bokeh.pydata.org\" target=\"_blank\" class=\"bk-logo bk-logo-small bk-logo-notebook\"></a>\n",
       "        <span id=\"8dcc0c8f-71d1-401e-b79c-937d0260a910\">Loading BokehJS ...</span>\n",
       "    </div>"
      ]
     },
     "metadata": {},
     "output_type": "display_data"
    },
    {
     "data": {
      "application/javascript": [
       "\n",
       "(function(global) {\n",
       "  function now() {\n",
       "    return new Date();\n",
       "  }\n",
       "\n",
       "  var force = true;\n",
       "\n",
       "  if (typeof (window._bokeh_onload_callbacks) === \"undefined\" || force === true) {\n",
       "    window._bokeh_onload_callbacks = [];\n",
       "    window._bokeh_is_loading = undefined;\n",
       "  }\n",
       "\n",
       "\n",
       "  \n",
       "  if (typeof (window._bokeh_timeout) === \"undefined\" || force === true) {\n",
       "    window._bokeh_timeout = Date.now() + 5000;\n",
       "    window._bokeh_failed_load = false;\n",
       "  }\n",
       "\n",
       "  var NB_LOAD_WARNING = {'data': {'text/html':\n",
       "     \"<div style='background-color: #fdd'>\\n\"+\n",
       "     \"<p>\\n\"+\n",
       "     \"BokehJS does not appear to have successfully loaded. If loading BokehJS from CDN, this \\n\"+\n",
       "     \"may be due to a slow or bad network connection. Possible fixes:\\n\"+\n",
       "     \"</p>\\n\"+\n",
       "     \"<ul>\\n\"+\n",
       "     \"<li>re-rerun `output_notebook()` to attempt to load from CDN again, or</li>\\n\"+\n",
       "     \"<li>use INLINE resources instead, as so:</li>\\n\"+\n",
       "     \"</ul>\\n\"+\n",
       "     \"<code>\\n\"+\n",
       "     \"from bokeh.resources import INLINE\\n\"+\n",
       "     \"output_notebook(resources=INLINE)\\n\"+\n",
       "     \"</code>\\n\"+\n",
       "     \"</div>\"}};\n",
       "\n",
       "  function display_loaded() {\n",
       "    if (window.Bokeh !== undefined) {\n",
       "      document.getElementById(\"8dcc0c8f-71d1-401e-b79c-937d0260a910\").textContent = \"BokehJS successfully loaded.\";\n",
       "    } else if (Date.now() < window._bokeh_timeout) {\n",
       "      setTimeout(display_loaded, 100)\n",
       "    }\n",
       "  }\n",
       "\n",
       "  function run_callbacks() {\n",
       "    window._bokeh_onload_callbacks.forEach(function(callback) { callback() });\n",
       "    delete window._bokeh_onload_callbacks\n",
       "    console.info(\"Bokeh: all callbacks have finished\");\n",
       "  }\n",
       "\n",
       "  function load_libs(js_urls, callback) {\n",
       "    window._bokeh_onload_callbacks.push(callback);\n",
       "    if (window._bokeh_is_loading > 0) {\n",
       "      console.log(\"Bokeh: BokehJS is being loaded, scheduling callback at\", now());\n",
       "      return null;\n",
       "    }\n",
       "    if (js_urls == null || js_urls.length === 0) {\n",
       "      run_callbacks();\n",
       "      return null;\n",
       "    }\n",
       "    console.log(\"Bokeh: BokehJS not loaded, scheduling load and callback at\", now());\n",
       "    window._bokeh_is_loading = js_urls.length;\n",
       "    for (var i = 0; i < js_urls.length; i++) {\n",
       "      var url = js_urls[i];\n",
       "      var s = document.createElement('script');\n",
       "      s.src = url;\n",
       "      s.async = false;\n",
       "      s.onreadystatechange = s.onload = function() {\n",
       "        window._bokeh_is_loading--;\n",
       "        if (window._bokeh_is_loading === 0) {\n",
       "          console.log(\"Bokeh: all BokehJS libraries loaded\");\n",
       "          run_callbacks()\n",
       "        }\n",
       "      };\n",
       "      s.onerror = function() {\n",
       "        console.warn(\"failed to load library \" + url);\n",
       "      };\n",
       "      console.log(\"Bokeh: injecting script tag for BokehJS library: \", url);\n",
       "      document.getElementsByTagName(\"head\")[0].appendChild(s);\n",
       "    }\n",
       "  };var element = document.getElementById(\"8dcc0c8f-71d1-401e-b79c-937d0260a910\");\n",
       "  if (element == null) {\n",
       "    console.log(\"Bokeh: ERROR: autoload.js configured with elementid '8dcc0c8f-71d1-401e-b79c-937d0260a910' but no matching script tag was found. \")\n",
       "    return false;\n",
       "  }\n",
       "\n",
       "  var js_urls = [\"https://cdn.pydata.org/bokeh/release/bokeh-0.12.4.min.js\", \"https://cdn.pydata.org/bokeh/release/bokeh-widgets-0.12.4.min.js\"];\n",
       "\n",
       "  var inline_js = [\n",
       "    function(Bokeh) {\n",
       "      Bokeh.set_log_level(\"info\");\n",
       "    },\n",
       "    \n",
       "    function(Bokeh) {\n",
       "      \n",
       "      document.getElementById(\"8dcc0c8f-71d1-401e-b79c-937d0260a910\").textContent = \"BokehJS is loading...\";\n",
       "    },\n",
       "    function(Bokeh) {\n",
       "      console.log(\"Bokeh: injecting CSS: https://cdn.pydata.org/bokeh/release/bokeh-0.12.4.min.css\");\n",
       "      Bokeh.embed.inject_css(\"https://cdn.pydata.org/bokeh/release/bokeh-0.12.4.min.css\");\n",
       "      console.log(\"Bokeh: injecting CSS: https://cdn.pydata.org/bokeh/release/bokeh-widgets-0.12.4.min.css\");\n",
       "      Bokeh.embed.inject_css(\"https://cdn.pydata.org/bokeh/release/bokeh-widgets-0.12.4.min.css\");\n",
       "    }\n",
       "  ];\n",
       "\n",
       "  function run_inline_js() {\n",
       "    \n",
       "    if ((window.Bokeh !== undefined) || (force === true)) {\n",
       "      for (var i = 0; i < inline_js.length; i++) {\n",
       "        inline_js[i](window.Bokeh);\n",
       "      }if (force === true) {\n",
       "        display_loaded();\n",
       "      }} else if (Date.now() < window._bokeh_timeout) {\n",
       "      setTimeout(run_inline_js, 100);\n",
       "    } else if (!window._bokeh_failed_load) {\n",
       "      console.log(\"Bokeh: BokehJS failed to load within specified timeout.\");\n",
       "      window._bokeh_failed_load = true;\n",
       "    } else if (force !== true) {\n",
       "      var cell = $(document.getElementById(\"8dcc0c8f-71d1-401e-b79c-937d0260a910\")).parents('.cell').data().cell;\n",
       "      cell.output_area.append_execute_result(NB_LOAD_WARNING)\n",
       "    }\n",
       "\n",
       "  }\n",
       "\n",
       "  if (window._bokeh_is_loading === 0) {\n",
       "    console.log(\"Bokeh: BokehJS loaded, going straight to plotting\");\n",
       "    run_inline_js();\n",
       "  } else {\n",
       "    load_libs(js_urls, function() {\n",
       "      console.log(\"Bokeh: BokehJS plotting callback run at\", now());\n",
       "      run_inline_js();\n",
       "    });\n",
       "  }\n",
       "}(this));"
      ]
     },
     "metadata": {},
     "output_type": "display_data"
    }
   ],
   "source": [
    "import bokeh.plotting as bk\n",
    "bk.output_notebook()"
   ]
  },
  {
   "cell_type": "code",
   "execution_count": 16,
   "metadata": {
    "collapsed": false
   },
   "outputs": [
    {
     "data": {
      "text/html": [
       "\n",
       "\n",
       "    <div class=\"bk-root\">\n",
       "        <div class=\"bk-plotdiv\" id=\"f7d63831-20b1-460a-99eb-83ec4c17518c\"></div>\n",
       "    </div>\n",
       "<script type=\"text/javascript\">\n",
       "  \n",
       "  (function(global) {\n",
       "    function now() {\n",
       "      return new Date();\n",
       "    }\n",
       "  \n",
       "    var force = false;\n",
       "  \n",
       "    if (typeof (window._bokeh_onload_callbacks) === \"undefined\" || force === true) {\n",
       "      window._bokeh_onload_callbacks = [];\n",
       "      window._bokeh_is_loading = undefined;\n",
       "    }\n",
       "  \n",
       "  \n",
       "    \n",
       "    if (typeof (window._bokeh_timeout) === \"undefined\" || force === true) {\n",
       "      window._bokeh_timeout = Date.now() + 0;\n",
       "      window._bokeh_failed_load = false;\n",
       "    }\n",
       "  \n",
       "    var NB_LOAD_WARNING = {'data': {'text/html':\n",
       "       \"<div style='background-color: #fdd'>\\n\"+\n",
       "       \"<p>\\n\"+\n",
       "       \"BokehJS does not appear to have successfully loaded. If loading BokehJS from CDN, this \\n\"+\n",
       "       \"may be due to a slow or bad network connection. Possible fixes:\\n\"+\n",
       "       \"</p>\\n\"+\n",
       "       \"<ul>\\n\"+\n",
       "       \"<li>re-rerun `output_notebook()` to attempt to load from CDN again, or</li>\\n\"+\n",
       "       \"<li>use INLINE resources instead, as so:</li>\\n\"+\n",
       "       \"</ul>\\n\"+\n",
       "       \"<code>\\n\"+\n",
       "       \"from bokeh.resources import INLINE\\n\"+\n",
       "       \"output_notebook(resources=INLINE)\\n\"+\n",
       "       \"</code>\\n\"+\n",
       "       \"</div>\"}};\n",
       "  \n",
       "    function display_loaded() {\n",
       "      if (window.Bokeh !== undefined) {\n",
       "        document.getElementById(\"f7d63831-20b1-460a-99eb-83ec4c17518c\").textContent = \"BokehJS successfully loaded.\";\n",
       "      } else if (Date.now() < window._bokeh_timeout) {\n",
       "        setTimeout(display_loaded, 100)\n",
       "      }\n",
       "    }\n",
       "  \n",
       "    function run_callbacks() {\n",
       "      window._bokeh_onload_callbacks.forEach(function(callback) { callback() });\n",
       "      delete window._bokeh_onload_callbacks\n",
       "      console.info(\"Bokeh: all callbacks have finished\");\n",
       "    }\n",
       "  \n",
       "    function load_libs(js_urls, callback) {\n",
       "      window._bokeh_onload_callbacks.push(callback);\n",
       "      if (window._bokeh_is_loading > 0) {\n",
       "        console.log(\"Bokeh: BokehJS is being loaded, scheduling callback at\", now());\n",
       "        return null;\n",
       "      }\n",
       "      if (js_urls == null || js_urls.length === 0) {\n",
       "        run_callbacks();\n",
       "        return null;\n",
       "      }\n",
       "      console.log(\"Bokeh: BokehJS not loaded, scheduling load and callback at\", now());\n",
       "      window._bokeh_is_loading = js_urls.length;\n",
       "      for (var i = 0; i < js_urls.length; i++) {\n",
       "        var url = js_urls[i];\n",
       "        var s = document.createElement('script');\n",
       "        s.src = url;\n",
       "        s.async = false;\n",
       "        s.onreadystatechange = s.onload = function() {\n",
       "          window._bokeh_is_loading--;\n",
       "          if (window._bokeh_is_loading === 0) {\n",
       "            console.log(\"Bokeh: all BokehJS libraries loaded\");\n",
       "            run_callbacks()\n",
       "          }\n",
       "        };\n",
       "        s.onerror = function() {\n",
       "          console.warn(\"failed to load library \" + url);\n",
       "        };\n",
       "        console.log(\"Bokeh: injecting script tag for BokehJS library: \", url);\n",
       "        document.getElementsByTagName(\"head\")[0].appendChild(s);\n",
       "      }\n",
       "    };var element = document.getElementById(\"f7d63831-20b1-460a-99eb-83ec4c17518c\");\n",
       "    if (element == null) {\n",
       "      console.log(\"Bokeh: ERROR: autoload.js configured with elementid 'f7d63831-20b1-460a-99eb-83ec4c17518c' but no matching script tag was found. \")\n",
       "      return false;\n",
       "    }\n",
       "  \n",
       "    var js_urls = [];\n",
       "  \n",
       "    var inline_js = [\n",
       "      function(Bokeh) {\n",
       "        (function() {\n",
       "          var fn = function() {\n",
       "            var docs_json = {\"daf5069f-3f72-485a-bc18-51859988065a\":{\"roots\":{\"references\":[{\"attributes\":{},\"id\":\"cfd4bda0-560b-4e26-a53a-461b98e6445e\",\"type\":\"BasicTicker\"},{\"attributes\":{\"bottom\":{\"field\":\"bottom\"},\"fill_color\":{\"value\":null},\"left\":{\"field\":\"left\"},\"right\":{\"field\":\"right\"},\"top\":{\"field\":\"top\"}},\"id\":\"2deec9d1-c265-4cde-8cde-25e8f47ad5aa\",\"type\":\"Quad\"},{\"attributes\":{\"grid_line_color\":{\"value\":null},\"plot\":{\"id\":\"1b3a350c-4bee-498e-84b4-c5dc116421db\",\"subtype\":\"Figure\",\"type\":\"Plot\"},\"ticker\":{\"id\":\"31c74f71-599c-4acd-bd66-813146b18798\",\"type\":\"BasicTicker\"}},\"id\":\"2bac495d-eff0-4d07-ab54-30229a42875a\",\"type\":\"Grid\"},{\"attributes\":{},\"id\":\"90eb1d74-3d9a-4eca-987e-442594ec559f\",\"type\":\"BasicTickFormatter\"},{\"attributes\":{},\"id\":\"31c74f71-599c-4acd-bd66-813146b18798\",\"type\":\"BasicTicker\"},{\"attributes\":{\"text_alpha\":{\"value\":0.1},\"text_color\":{\"value\":\"black\"},\"text_font_size\":{\"value\":\"9pt\"},\"x\":{\"field\":\"x\"},\"y\":{\"field\":\"y\"}},\"id\":\"e4ebb4f0-fa24-4a9b-ab54-1c1bbcc33cf7\",\"type\":\"Text\"},{\"attributes\":{\"palette\":[\"#ffffff\",\"#f0f0f0\",\"#d9d9d9\",\"#bdbdbd\",\"#969696\",\"#737373\",\"#525252\",\"#252525\",\"#000000\"]},\"id\":\"1df69ba1-459e-4aff-9a6a-dce7a7f59fb0\",\"type\":\"LinearColorMapper\"},{\"attributes\":{\"callback\":null,\"end\":24.21},\"id\":\"ef66ac2f-7e56-428e-874e-f078ba375ace\",\"type\":\"Range1d\"},{\"attributes\":{\"plot\":{\"id\":\"1b3a350c-4bee-498e-84b4-c5dc116421db\",\"subtype\":\"Figure\",\"type\":\"Plot\"}},\"id\":\"71897fe4-a9f0-4704-8110-7be6b8c865c4\",\"type\":\"HelpTool\"},{\"attributes\":{\"data_source\":{\"id\":\"2924f1e4-41e3-4780-a497-186b74fc9489\",\"type\":\"ColumnDataSource\"},\"glyph\":{\"id\":\"43869898-8a7e-49ab-9433-f5102eff9ea0\",\"type\":\"Text\"},\"hover_glyph\":null,\"nonselection_glyph\":{\"id\":\"e4ebb4f0-fa24-4a9b-ab54-1c1bbcc33cf7\",\"type\":\"Text\"},\"selection_glyph\":null},\"id\":\"e1800290-c7c7-4708-8c0f-8712bac8b8bb\",\"type\":\"GlyphRenderer\"},{\"attributes\":{\"bottom\":{\"field\":\"bottom\"},\"fill_alpha\":{\"value\":0.1},\"fill_color\":{\"value\":\"#1f77b4\"},\"left\":{\"field\":\"left\"},\"line_alpha\":{\"value\":0.1},\"line_color\":{\"value\":\"#1f77b4\"},\"right\":{\"field\":\"right\"},\"top\":{\"field\":\"top\"}},\"id\":\"6c7fcf67-68c7-4d19-b9af-b5fe38d5f84b\",\"type\":\"Quad\"},{\"attributes\":{\"text_color\":{\"value\":\"red\"},\"text_font_size\":{\"value\":\"9pt\"},\"x\":{\"field\":\"x\"},\"y\":{\"field\":\"y\"}},\"id\":\"43869898-8a7e-49ab-9433-f5102eff9ea0\",\"type\":\"Text\"},{\"attributes\":{\"color_mapper\":{\"id\":\"ea3ea41f-dcec-4e52-abb3-c4ab4df06cc0\",\"type\":\"LinearColorMapper\"},\"dh\":{\"units\":\"data\",\"value\":1.0},\"dw\":{\"units\":\"data\",\"value\":1.0},\"image\":{\"field\":\"image\"},\"x\":{\"field\":\"x\"},\"y\":{\"field\":\"y\"}},\"id\":\"f1967a10-fa08-42f2-9fd1-9a7f34b81309\",\"type\":\"Image\"},{\"attributes\":{\"plot\":{\"id\":\"1b3a350c-4bee-498e-84b4-c5dc116421db\",\"subtype\":\"Figure\",\"type\":\"Plot\"}},\"id\":\"f852f5bf-1511-4b5e-a464-0ccc0a351218\",\"type\":\"WheelZoomTool\"},{\"attributes\":{\"plot\":{\"id\":\"1b3a350c-4bee-498e-84b4-c5dc116421db\",\"subtype\":\"Figure\",\"type\":\"Plot\"}},\"id\":\"fd1506dc-0eae-4fd8-ba43-5d7034fbbaa7\",\"type\":\"SaveTool\"},{\"attributes\":{\"plot\":{\"id\":\"1b3a350c-4bee-498e-84b4-c5dc116421db\",\"subtype\":\"Figure\",\"type\":\"Plot\"}},\"id\":\"98689fb3-feca-4e31-b507-5323a8452c7a\",\"type\":\"PanTool\"},{\"attributes\":{\"color_mapper\":{\"id\":\"1df69ba1-459e-4aff-9a6a-dce7a7f59fb0\",\"type\":\"LinearColorMapper\"},\"dh\":{\"units\":\"data\",\"value\":1.0},\"dw\":{\"units\":\"data\",\"value\":1.0},\"image\":{\"field\":\"image\"},\"x\":{\"field\":\"x\"},\"y\":{\"field\":\"y\"}},\"id\":\"01d458db-5437-4fdb-90e0-17805e588591\",\"type\":\"Image\"},{\"attributes\":{\"callback\":null,\"column_names\":[\"left\",\"right\",\"top\",\"bottom\"],\"data\":{\"bottom\":{\"__ndarray__\":\"mpmZmZmZyT+amZmZmZnJP5qZmZmZmck/mpmZmZmZyT+amZmZmZnJP5qZmZmZmck/mpmZmZmZyT+amZmZmZnJP5qZmZmZmck/mpmZmZmZyT+amZmZmZnJP5qZmZmZmck/mpmZmZmZyT+amZmZmZnJP5qZmZmZmck/mpmZmZmZyT+amZmZmZnJP5qZmZmZmck/mpmZmZmZyT+amZmZmZnJP2ZmZmZmZvY/ZmZmZmZm9j9mZmZmZmb2P2ZmZmZmZvY/ZmZmZmZm9j9mZmZmZmb2P2ZmZmZmZvY/ZmZmZmZm9j9mZmZmZmb2P2ZmZmZmZvY/ZmZmZmZm9j9mZmZmZmb2P2ZmZmZmZvY/ZmZmZmZm9j9mZmZmZmb2P2ZmZmZmZvY/ZmZmZmZm9j9mZmZmZmb2P2ZmZmZmZvY/ZmZmZmZm9j8=\",\"dtype\":\"float64\",\"shape\":[40]},\"left\":{\"__ndarray__\":\"mpmZmZmZyT9mZmZmZmb2P83MzMzMzARAZmZmZmZmDkAAAAAAAAAUQM3MzMzMzBhAmZmZmZmZHUAzMzMzMzMhQJmZmZmZmSNA////////JUBmZmZmZmYoQMzMzMzMzCpAMjMzMzMzLUCZmZmZmZkvQAAAAAAAADFAMzMzMzMzMkBmZmZmZmYzQJmZmZmZmTRAzMzMzMzMNUAAAAAAAAA3QJqZmZmZmck/ZmZmZmZm9j/NzMzMzMwEQGZmZmZmZg5AAAAAAAAAFEDNzMzMzMwYQJmZmZmZmR1AMzMzMzMzIUCZmZmZmZkjQP///////yVAZmZmZmZmKEDMzMzMzMwqQDIzMzMzMy1AmZmZmZmZL0AAAAAAAAAxQDMzMzMzMzJAZmZmZmZmM0CZmZmZmZk0QMzMzMzMzDVAAAAAAAAAN0A=\",\"dtype\":\"float64\",\"shape\":[40]},\"right\":{\"__ndarray__\":\"MzMzMzMz8z8zMzMzMzMDQM3MzMzMzAxAMzMzMzMzE0AAAAAAAAAYQM3MzMzMzBxAzMzMzMzMIEAzMzMzMzMjQJmZmZmZmSVA////////J0BmZmZmZmYqQMzMzMzMzCxAMjMzMzMzL0DMzMzMzMwwQAAAAAAAADJAMzMzMzMzM0BmZmZmZmY0QJmZmZmZmTVAzMzMzMzMNkAAAAAAAAA4QDMzMzMzM/M/MzMzMzMzA0DNzMzMzMwMQDMzMzMzMxNAAAAAAAAAGEDNzMzMzMwcQMzMzMzMzCBAMzMzMzMzI0CZmZmZmZklQP///////ydAZmZmZmZmKkDMzMzMzMwsQDIzMzMzMy9AzMzMzMzMMEAAAAAAAAAyQDMzMzMzMzNAZmZmZmZmNECZmZmZmZk1QMzMzMzMzDZAAAAAAAAAOEA=\",\"dtype\":\"float64\",\"shape\":[40]},\"top\":{\"__ndarray__\":\"MzMzMzMz8z8zMzMzMzPzPzMzMzMzM/M/MzMzMzMz8z8zMzMzMzPzPzMzMzMzM/M/MzMzMzMz8z8zMzMzMzPzPzMzMzMzM/M/MzMzMzMz8z8zMzMzMzPzPzMzMzMzM/M/MzMzMzMz8z8zMzMzMzPzPzMzMzMzM/M/MzMzMzMz8z8zMzMzMzPzPzMzMzMzM/M/MzMzMzMz8z8zMzMzMzPzPzMzMzMzMwNAMzMzMzMzA0AzMzMzMzMDQDMzMzMzMwNAMzMzMzMzA0AzMzMzMzMDQDMzMzMzMwNAMzMzMzMzA0AzMzMzMzMDQDMzMzMzMwNAMzMzMzMzA0AzMzMzMzMDQDMzMzMzMwNAMzMzMzMzA0AzMzMzMzMDQDMzMzMzMwNAMzMzMzMzA0AzMzMzMzMDQDMzMzMzMwNAMzMzMzMzA0A=\",\"dtype\":\"float64\",\"shape\":[40]}}},\"id\":\"a7dca38d-9955-45ac-b43c-85fa072a4900\",\"type\":\"ColumnDataSource\"},{\"attributes\":{\"overlay\":{\"id\":\"fd32113b-967b-41b0-b532-d1e2b299f664\",\"type\":\"BoxAnnotation\"},\"plot\":{\"id\":\"1b3a350c-4bee-498e-84b4-c5dc116421db\",\"subtype\":\"Figure\",\"type\":\"Plot\"}},\"id\":\"08a770c0-a3d8-40ed-b9f7-0575a66149a1\",\"type\":\"BoxZoomTool\"},{\"attributes\":{\"axis_line_color\":{\"value\":null},\"formatter\":{\"id\":\"90eb1d74-3d9a-4eca-987e-442594ec559f\",\"type\":\"BasicTickFormatter\"},\"major_label_text_color\":{\"value\":null},\"major_tick_in\":0,\"major_tick_out\":0,\"minor_tick_out\":0,\"plot\":{\"id\":\"1b3a350c-4bee-498e-84b4-c5dc116421db\",\"subtype\":\"Figure\",\"type\":\"Plot\"},\"ticker\":{\"id\":\"31c74f71-599c-4acd-bd66-813146b18798\",\"type\":\"BasicTicker\"}},\"id\":\"cb9eeac2-6425-4945-8900-5ada81dec37c\",\"type\":\"LinearAxis\"},{\"attributes\":{\"callback\":null,\"end\":2.61},\"id\":\"3a7da551-94fc-492b-ab18-0083d3de7c5e\",\"type\":\"Range1d\"},{\"attributes\":{\"dimension\":1,\"grid_line_color\":{\"value\":null},\"plot\":{\"id\":\"1b3a350c-4bee-498e-84b4-c5dc116421db\",\"subtype\":\"Figure\",\"type\":\"Plot\"},\"ticker\":{\"id\":\"cfd4bda0-560b-4e26-a53a-461b98e6445e\",\"type\":\"BasicTicker\"}},\"id\":\"6e26e03e-d6c4-41e5-af03-0ed9ab50747f\",\"type\":\"Grid\"},{\"attributes\":{},\"id\":\"ef10fa49-cf61-4a53-8498-0d6a94ab1a6f\",\"type\":\"BasicTickFormatter\"},{\"attributes\":{\"data_source\":{\"id\":\"4b723d90-61f7-4bbe-b6ca-2bd141e241ab\",\"type\":\"ColumnDataSource\"},\"glyph\":{\"id\":\"f1967a10-fa08-42f2-9fd1-9a7f34b81309\",\"type\":\"Image\"},\"hover_glyph\":null,\"nonselection_glyph\":{\"id\":\"01d458db-5437-4fdb-90e0-17805e588591\",\"type\":\"Image\"},\"selection_glyph\":null},\"id\":\"4887f936-304c-4356-88bc-45e54dbf6621\",\"type\":\"GlyphRenderer\"},{\"attributes\":{\"plot\":{\"id\":\"1b3a350c-4bee-498e-84b4-c5dc116421db\",\"subtype\":\"Figure\",\"type\":\"Plot\"}},\"id\":\"e1b28642-75b5-4ee1-9108-625065eda586\",\"type\":\"ResetTool\"},{\"attributes\":{\"callback\":null,\"column_names\":[\"x\",\"y\",\"image\"],\"data\":{\"image\":[{\"__ndarray__\":\"AAAAAAAAAAAAAAAAAAAAAAAAAAAAABhAAAAAAAAAKkAAAAAAAAAkQAAAAAAAAAAAAAAAAAAAAAAAAAAAAAAAAAAAAAAAAAAAAAAAAAAAAEAAAAAAAAAsQAAAAAAAABRAAAAAAAAAJEAAAAAAAAAoQAAAAAAAAAAAAAAAAAAAAAAAAAAAAAAAAAAAAAAAABBAAAAAAAAAJkAAAAAAAAAAAAAAAAAAAPA/AAAAAAAAKEAAAAAAAAAcQAAAAAAAAAAAAAAAAAAAAAAAAAAAAAAUQAAAAAAAACBAAAAAAAAAAAAAAAAAAAAAAAAAAAAAACJAAAAAAAAAIEAAAAAAAAAAAAAAAAAAAAAAAAAAAAAAEEAAAAAAAAAoQAAAAAAAAAAAAAAAAAAAAAAAAAAAAAAgQAAAAAAAACBAAAAAAAAAAAAAAAAAAAAAAAAAAAAAAAhAAAAAAAAALkAAAAAAAAAAQAAAAAAAAAAAAAAAAAAAJkAAAAAAAAAgQAAAAAAAAAAAAAAAAAAAAAAAAAAAAAAAAAAAAAAAACpAAAAAAAAALkAAAAAAAAAkQAAAAAAAAC5AAAAAAAAAFEAAAAAAAAAAAAAAAAAAAAAAAAAAAAAAAAAAAAAAAAAUQAAAAAAAACpAAAAAAAAAIkAAAAAAAADwPwAAAAAAAAAAAAAAAAAAAAA=\",\"dtype\":\"float64\",\"shape\":[8,8]},{\"__ndarray__\":\"AAAAAAAAAAAAAAAAAAAAAAAAAAAAAAAAAAAAAAAAJkAAAAAAAAAwQAAAAAAAACRAAAAAAAAAAAAAAAAAAAAAAAAAAAAAAAAAAAAAAAAAAAAAAAAAAADwPwAAAAAAADBAAAAAAAAAMEAAAAAAAAAYQAAAAAAAAAAAAAAAAAAAAAAAAAAAAAAAAAAAAAAAAAAAAAAAAAAA8D8AAAAAAAAwQAAAAAAAADBAAAAAAAAAGEAAAAAAAAAAAAAAAAAAAAAAAAAAAAAAAAAAAAAAAAAAAAAAAAAAAPA/AAAAAAAAMEAAAAAAAAAwQAAAAAAAAAhAAAAAAAAAAAAAAAAAAAAAAAAAAAAAAAAAAAAAAAAAHEAAAAAAAAAuQAAAAAAAADBAAAAAAAAAMEAAAAAAAAAAQAAAAAAAAAAAAAAAAAAAAAAAAAAAAAAAAAAAAAAAAAAAAAAAAAAACEAAAAAAAAAuQAAAAAAAADBAAAAAAAAAGEAAAAAAAAAAAAAAAAAAAAAAAAAAAAAAAAAAAAAAAAAAAAAAAAAAAAAAAAAAAAAAJkAAAAAAAAAwQAAAAAAAACJAAAAAAAAAAAAAAAAAAAAAAAAAAAAAAAAAAAAAAAAAAAAAAAAAAAAAAAAAAAAAAChAAAAAAAAAKkAAAAAAAAAUQAAAAAAAAAAAAAAAAAAAAAA=\",\"dtype\":\"float64\",\"shape\":[8,8]},{\"__ndarray__\":\"AAAAAAAAAAAAAAAAAAAAAAAAAAAAAAAAAAAAAAAACEAAAAAAAAAmQAAAAAAAADBAAAAAAAAAIkAAAAAAAAAAAAAAAAAAAAAAAAAAAAAACEAAAAAAAAAqQAAAAAAAADBAAAAAAAAAMEAAAAAAAAAmQAAAAAAAABRAAAAAAAAAAAAAAAAAAAAAAAAAAAAAACJAAAAAAAAAMEAAAAAAAAAwQAAAAAAAABRAAAAAAAAAAAAAAAAAAAAAAAAAAAAAAAAAAAAAAAAAAAAAAAAAAADwPwAAAAAAACBAAAAAAAAAKkAAAAAAAAAuQAAAAAAAAPA/AAAAAAAAAAAAAAAAAAAAAAAAAAAAAAAAAAAAAAAAAAAAAAAAAADwPwAAAAAAABhAAAAAAAAALkAAAAAAAAAmQAAAAAAAAAAAAAAAAAAAAAAAAAAAAAAAAAAAAAAAAAAAAAAAAAAAIEAAAAAAAAAqQAAAAAAAACBAAAAAAAAAMEAAAAAAAAAAAAAAAAAAAAAAAAAAAAAAAAAAAAAAAAAAAAAAAAAAAAhAAAAAAAAAMEAAAAAAAAAuQAAAAAAAACxAAAAAAAAAAAAAAAAAAAAAAAAAAAAAAAAAAAAAAAAAAAAAAAAAAAAAAAAAAAAAABBAAAAAAAAALkAAAAAAAAAoQAAAAAAAAAAAAAAAAAAAAAA=\",\"dtype\":\"float64\",\"shape\":[8,8]},{\"__ndarray__\":\"AAAAAAAAAAAAAAAAAAAAAAAAAAAAABxAAAAAAAAAKkAAAAAAAAAqQAAAAAAAACJAAAAAAAAAAAAAAAAAAAAAAAAAAAAAAAAAAAAAAAAAAAAAAAAAAAAgQAAAAAAAABBAAAAAAAAAFEAAAAAAAAAsQAAAAAAAACJAAAAAAAAAAAAAAAAAAAAAAAAAAAAAAAAAAAAAAAAAAAAAAAAAAAAAAAAAAAAAAPA/AAAAAAAAJEAAAAAAAAAgQAAAAAAAAAAAAAAAAAAAAAAAAAAAAAAAAAAAAAAAAAAAAAAAAAAA8D8AAAAAAAAoQAAAAAAAAChAAAAAAAAA8D8AAAAAAAAAAAAAAAAAAAAAAAAAAAAAAAAAAAAAAAAAQAAAAAAAAC5AAAAAAAAAJkAAAAAAAADwPwAAAAAAAAAAAAAAAAAAAAAAAAAAAAAAAAAAAAAAAABAAAAAAAAA8D8AAAAAAAAqQAAAAAAAACpAAAAAAAAAAAAAAAAAAAAAAAAAAAAAAAAAAAAAAAAAAAAAAAAAAAAgQAAAAAAAACpAAAAAAAAAGEAAAAAAAAAuQAAAAAAAABBAAAAAAAAAAAAAAAAAAAAAAAAAAAAAAAAAAAAAAAAAAAAAAAAAAAAcQAAAAAAAAC5AAAAAAAAAKkAAAAAAAADwPwAAAAAAAAAAAAAAAAAAAAA=\",\"dtype\":\"float64\",\"shape\":[8,8]},{\"__ndarray__\":\"AAAAAAAAAAAAAAAAAAAAAAAAAAAAAAAAAAAAAAAAAEAAAAAAAAAwQAAAAAAAABBAAAAAAAAAAAAAAAAAAAAAAAAAAAAAAAAAAAAAAAAAAAAAAAAAAAAAAAAAAAAAAAhAAAAAAAAALkAAAAAAAAAkQAAAAAAAAAAAAAAAAAAAAAAAAAAAAAAAAAAAAAAAABBAAAAAAAAALkAAAAAAAAAwQAAAAAAAACpAAAAAAAAAMEAAAAAAAADwPwAAAAAAAAAAAAAAAAAAAAAAAAAAAAAUQAAAAAAAADBAAAAAAAAAJEAAAAAAAAAAAAAAAAAAADBAAAAAAAAAGEAAAAAAAAAAAAAAAAAAAAAAAAAAAAAAAAAAAAAAAAAcQAAAAAAAAC5AAAAAAAAAAAAAAAAAAAAiQAAAAAAAACBAAAAAAAAAAAAAAAAAAAAAAAAAAAAAAAAAAAAAAAAA8D8AAAAAAAAqQAAAAAAAABhAAAAAAAAAAEAAAAAAAAAAQAAAAAAAAAAAAAAAAAAAAAAAAAAAAAAAAAAAAAAAAAAAAAAAAAAAHEAAAAAAAAAgQAAAAAAAAAAAAAAAAAAAAAAAAAAAAAAAAAAAAAAAAAAAAAAAAAAAAAAAAAAAAAAAAAAAAAAAAPA/AAAAAAAAJkAAAAAAAAAAAAAAAAAAAAAAAAAAAAAAAAA=\",\"dtype\":\"float64\",\"shape\":[8,8]},{\"__ndarray__\":\"AAAAAAAAAAAAAAAAAAAAAAAAAAAAACJAAAAAAAAAMEAAAAAAAAAwQAAAAAAAACRAAAAAAAAAAAAAAAAAAAAAAAAAAAAAAAAAAAAAAAAAAAAAAAAAAAAUQAAAAAAAABBAAAAAAAAAKEAAAAAAAAAwQAAAAAAAABBAAAAAAAAAAAAAAAAAAAAAAAAAAAAAAAAAAAAAAAAAAAAAAAAAAAAAAAAAAAAAABBAAAAAAAAAMEAAAAAAAAAiQAAAAAAAAAAAAAAAAAAAAAAAAAAAAAAAAAAAAAAAAAAAAAAAAAAAEEAAAAAAAAAcQAAAAAAAADBAAAAAAAAAHEAAAAAAAAAAAAAAAAAAAAAAAAAAAAAAAAAAAAAAAAAmQAAAAAAAADBAAAAAAAAAMEAAAAAAAAAcQAAAAAAAAAAAAAAAAAAAAAAAAAAAAAAAAAAAAAAAAAAAAAAAAAAAKkAAAAAAAAAwQAAAAAAAAC5AAAAAAAAAJEAAAAAAAADwPwAAAAAAAAAAAAAAAAAAAAAAAAAAAAAAAAAAAAAAACxAAAAAAAAAMEAAAAAAAAAwQAAAAAAAACxAAAAAAAAAAAAAAAAAAAAAAAAAAAAAAAAAAAAAAAAAAAAAAAAAAAAoQAAAAAAAACRAAAAAAAAAAAAAAAAAAAAAAAAAAAAAAAAAAAAAAAAAAAA=\",\"dtype\":\"float64\",\"shape\":[8,8]},{\"__ndarray__\":\"AAAAAAAAAAAAAAAAAAAAAAAAAAAAAPA/AAAAAAAAIkAAAAAAAAAuQAAAAAAAACZAAAAAAAAACEAAAAAAAAAAAAAAAAAAAAAAAAAAAAAAAAAAAAAAAAAcQAAAAAAAADBAAAAAAAAAJkAAAAAAAAAuQAAAAAAAACBAAAAAAAAAAAAAAAAAAAAAAAAAAAAAAAAAAAAAAAAAKkAAAAAAAAAwQAAAAAAAACpAAAAAAAAAMEAAAAAAAAAIQAAAAAAAAAAAAAAAAAAAAAAAAAAAAAAAAAAAAAAAAC5AAAAAAAAAKEAAAAAAAAAcQAAAAAAAAABAAAAAAAAAAAAAAAAAAAAAAAAAAAAAAAAAAAAAAAAAAAAAAAAAAAAsQAAAAAAAACpAAAAAAAAAAAAAAAAAAAAAAAAAAAAAAAAAAAAAAAAAAAAAAAAAAAAAAAAAAAAAAAAAAAAAAAAAKkAAAAAAAAAwQAAAAAAAAAhAAAAAAAAAAAAAAAAAAAAAAAAAAAAAAAAAAAAAAAAAAAAAAAAAAAAAAAAAAAAAABRAAAAAAAAAMEAAAAAAAAAgQAAAAAAAAAAAAAAAAAAAAAAAAAAAAAAAAAAAAAAAAAAAAAAAAAAAAAAAAAAAAAAAAAAAAAAAAChAAAAAAAAAKkAAAAAAAAAAAAAAAAAAAAAAAAAAAAAAAAA=\",\"dtype\":\"float64\",\"shape\":[8,8]},{\"__ndarray__\":\"AAAAAAAAAAAAAAAAAAAAAAAAAAAAACpAAAAAAAAAFEAAAAAAAAAAAAAAAAAAAAAAAAAAAAAAAAAAAAAAAAAAAAAAAAAAAAAAAAAAAAAAAAAAAAAAAAAiQAAAAAAAAC5AAAAAAAAA8D8AAAAAAAAAAAAAAAAAAAAAAAAAAAAAAAAAAAAAAAAAAAAAAAAAAAAAAAAAAAAAAAAAAAAAAAAwQAAAAAAAABRAAAAAAAAAAAAAAAAAAAAAAAAAAAAAAAAAAAAAAAAAAAAAAAAAAAAAQAAAAAAAACZAAAAAAAAALkAAAAAAAAAuQAAAAAAAABBAAAAAAAAAAAAAAAAAAAAAAAAAAAAAAAAAAAAAAAAAEEAAAAAAAAAgQAAAAAAAACBAAAAAAAAALkAAAAAAAAAuQAAAAAAAABhAAAAAAAAAAAAAAAAAAAAAAAAAAAAAAAAAAAAAAAAAAAAAAAAAAAAAAAAAAAAAACBAAAAAAAAAKkAAAAAAAADwPwAAAAAAAAAAAAAAAAAAAAAAAAAAAAAAAAAAAAAAABxAAAAAAAAAHEAAAAAAAAAQQAAAAAAAACZAAAAAAAAAKEAAAAAAAAAAAAAAAAAAAAAAAAAAAAAAAAAAAAAAAAAcQAAAAAAAACBAAAAAAAAAKkAAAAAAAAAwQAAAAAAAAC5AAAAAAAAA8D8=\",\"dtype\":\"float64\",\"shape\":[8,8]},{\"__ndarray__\":\"AAAAAAAAAAAAAAAAAAAAAAAAAAAAACZAAAAAAAAAMEAAAAAAAAAuQAAAAAAAACZAAAAAAAAA8D8AAAAAAAAAAAAAAAAAAAAAAAAAAAAA8D8AAAAAAAAuQAAAAAAAAPA/AAAAAAAACEAAAAAAAAAwQAAAAAAAACBAAAAAAAAAAAAAAAAAAAAAAAAAAAAAAAhAAAAAAAAAMEAAAAAAAAAgQAAAAAAAACRAAAAAAAAAKkAAAAAAAAAAQAAAAAAAAAAAAAAAAAAAAAAAAAAAAAAAAAAAAAAAABBAAAAAAAAAMEAAAAAAAAAwQAAAAAAAAABAAAAAAAAAAAAAAAAAAAAAAAAAAAAAAAAAAAAAAAAAAAAAAAAAAAAIQAAAAAAAADBAAAAAAAAAKEAAAAAAAAAsQAAAAAAAAABAAAAAAAAAAAAAAAAAAAAAAAAAAAAAAAAAAAAAAAAAIkAAAAAAAAAkQAAAAAAAAAAAAAAAAAAALkAAAAAAAAAQQAAAAAAAAAAAAAAAAAAAAAAAAAAAAAAAAAAAAAAAAChAAAAAAAAALEAAAAAAAAAsQAAAAAAAAChAAAAAAAAAAAAAAAAAAAAAAAAAAAAAAAAAAAAAAAAAAAAAAAAAAAAiQAAAAAAAACxAAAAAAAAAIEAAAAAAAADwPwAAAAAAAAAAAAAAAAAAAAA=\",\"dtype\":\"float64\",\"shape\":[8,8]},{\"__ndarray__\":\"AAAAAAAAAAAAAAAAAAAAAAAAAAAAACJAAAAAAAAAKEAAAAAAAAAqQAAAAAAAAAhAAAAAAAAAAAAAAAAAAAAAAAAAAAAAAAAAAAAAAAAAAAAAAAAAAAAAAAAAAAAAAAAAAAAAAAAAIkAAAAAAAAAuQAAAAAAAABBAAAAAAAAAAAAAAAAAAAAAAAAAAAAAAAAAAAAAAAAAAAAAAAAAAAAIQAAAAAAAAAAAAAAAAAAAIkAAAAAAAAAmQAAAAAAAAAAAAAAAAAAAAAAAAAAAAAAAAAAAAAAAACpAAAAAAAAAMEAAAAAAAAAiQAAAAAAAAC5AAAAAAAAAAEAAAAAAAAAAAAAAAAAAAAAAAAAAAAAA8D8AAAAAAAAwQAAAAAAAAPA/AAAAAAAAKEAAAAAAAAAuQAAAAAAAAAAAAAAAAAAAAAAAAAAAAAAAAAAAAAAAAAhAAAAAAAAAMEAAAAAAAAAoQAAAAAAAACRAAAAAAAAALEAAAAAAAAAAAAAAAAAAAAAAAAAAAAAAAAAAAAAAAAAAQAAAAAAAADBAAAAAAAAAMEAAAAAAAAAwQAAAAAAAACpAAAAAAAAAAAAAAAAAAAAAAAAAAAAAAAAAAAAAAAAAAAAAAAAAAAAmQAAAAAAAAChAAAAAAAAAAAAAAAAAAAAAAAAAAAAAAAAAAAAAAAAAAAA=\",\"dtype\":\"float64\",\"shape\":[8,8]},{\"__ndarray__\":\"AAAAAAAAAAAAAAAAAAAAAAAAAAAAAPA/AAAAAAAAJEAAAAAAAAAqQAAAAAAAAAhAAAAAAAAAAAAAAAAAAAAAAAAAAAAAAAAAAAAAAAAAAAAAAAAAAAAoQAAAAAAAAChAAAAAAAAAJEAAAAAAAAAkQAAAAAAAAAAAAAAAAAAAAAAAAAAAAAAAAAAAAAAAAPA/AAAAAAAAMEAAAAAAAAAUQAAAAAAAAPA/AAAAAAAAJkAAAAAAAAAIQAAAAAAAAAAAAAAAAAAAAAAAAAAAAAAQQAAAAAAAADBAAAAAAAAAEEAAAAAAAAAAAAAAAAAAACBAAAAAAAAAIEAAAAAAAAAAAAAAAAAAAAAAAAAAAAAA8D8AAAAAAAAwQAAAAAAAABBAAAAAAAAAAAAAAAAAAAAgQAAAAAAAACBAAAAAAAAAAAAAAAAAAAAAAAAAAAAAAABAAAAAAAAAMEAAAAAAAAAkQAAAAAAAAAAAAAAAAAAAIkAAAAAAAAAiQAAAAAAAAAAAAAAAAAAAAAAAAAAAAAAAAAAAAAAAACZAAAAAAAAAMEAAAAAAAAAgQAAAAAAAACxAAAAAAAAAGEAAAAAAAAAAAAAAAAAAAAAAAAAAAAAAAAAAAAAAAADwPwAAAAAAACJAAAAAAAAALkAAAAAAAAAmQAAAAAAAAAAAAAAAAAAAAAA=\",\"dtype\":\"float64\",\"shape\":[8,8]},{\"__ndarray__\":\"AAAAAAAAAAAAAAAAAAAAAAAAAAAAAAAAAAAAAAAA8D8AAAAAAAAqQAAAAAAAADBAAAAAAAAA8D8AAAAAAAAAAAAAAAAAAAAAAAAAAAAAAAAAAAAAAAAAAAAAAAAAABBAAAAAAAAAMEAAAAAAAAAsQAAAAAAAAAAAAAAAAAAAAAAAAAAAAAAAAAAAAAAAAAAAAAAAAAAAAAAAAAAAAAAUQAAAAAAAADBAAAAAAAAALkAAAAAAAAAAAAAAAAAAAAAAAAAAAAAAAAAAAAAAAAAIQAAAAAAAAChAAAAAAAAALEAAAAAAAAAwQAAAAAAAACJAAAAAAAAAAAAAAAAAAAAAAAAAAAAAAAAAAAAAAAAA8D8AAAAAAAAkQAAAAAAAADBAAAAAAAAAMEAAAAAAAAAoQAAAAAAAAAAAAAAAAAAAAAAAAAAAAAAAAAAAAAAAAAAAAAAAAAAAAAAAAAAAAAAsQAAAAAAAADBAAAAAAAAAKEAAAAAAAAAAAAAAAAAAAAAAAAAAAAAAAAAAAAAAAAAAAAAAAAAAAAAAAAAAAAAAFEAAAAAAAAAwQAAAAAAAADBAAAAAAAAAAEAAAAAAAAAAAAAAAAAAAAAAAAAAAAAAAAAAAAAAAAAAAAAAAAAAAAAAAAAAAAAALEAAAAAAAAAqQAAAAAAAAPA/AAAAAAAAAAA=\",\"dtype\":\"float64\",\"shape\":[8,8]},{\"__ndarray__\":\"AAAAAAAAAAAAAAAAAAAAAAAAAAAAAAhAAAAAAAAAJkAAAAAAAAAgQAAAAAAAACpAAAAAAAAAKEAAAAAAAAAQQAAAAAAAAAAAAAAAAAAAAAAAAAAAAAAiQAAAAAAAADBAAAAAAAAALkAAAAAAAAAiQAAAAAAAACBAAAAAAAAAAEAAAAAAAAAAAAAAAAAAAAAAAAAAAAAAAAAAAAAAAAAYQAAAAAAAAC5AAAAAAAAAAAAAAAAAAAAAAAAAAAAAAAAAAAAAAAAAAAAAAAAAAAAAAAAAAAAAAABAAAAAAAAAAAAAAAAAAAAwQAAAAAAAAPA/AAAAAAAAAAAAAAAAAAAAAAAAAAAAAAAAAAAAAAAAAEAAAAAAAAAkQAAAAAAAAAAAAAAAAAAALEAAAAAAAAAAAAAAAAAAAAAAAAAAAAAAAAAAAAAAAAAAAAAAAAAAAAAAAAAAAAAAKkAAAAAAAADwPwAAAAAAAChAAAAAAAAAAAAAAAAAAAAAAAAAAAAAAAAAAAAAAAAAAAAAAAAAAAAAAAAAAAAAAC5AAAAAAAAALEAAAAAAAAAcQAAAAAAAAAAAAAAAAAAAAAAAAAAAAAAAAAAAAAAAAAAAAAAAAAAAAAAAAAAAAAAUQAAAAAAAAChAAAAAAAAA8D8AAAAAAAAAAAAAAAAAAAAAAAAAAAAAAAA=\",\"dtype\":\"float64\",\"shape\":[8,8]},{\"__ndarray__\":\"AAAAAAAAAAAAAAAAAAAAQAAAAAAAAChAAAAAAAAAKEAAAAAAAAAqQAAAAAAAACZAAAAAAAAAAAAAAAAAAAAAAAAAAAAAAAAAAAAAAAAA8D8AAAAAAAAUQAAAAAAAABhAAAAAAAAAKkAAAAAAAAAwQAAAAAAAABhAAAAAAAAAAAAAAAAAAAAAAAAAAAAAAAAAAAAAAAAAAAAAAAAAAAAAAAAAAAAAAABAAAAAAAAALkAAAAAAAAAQQAAAAAAAAAAAAAAAAAAAAAAAAAAAAAAAAAAAAAAAAAAAAAAAAAAAAEAAAAAAAAAuQAAAAAAAACZAAAAAAAAAAAAAAAAAAAAAAAAAAAAAAAAAAAAAAAAAAAAAAAAAAAAAAAAAAAAAACZAAAAAAAAALEAAAAAAAAAAQAAAAAAAAAAAAAAAAAAAAAAAAAAAAAAAAAAAAAAAAAAAAAAAAAAAAAAAAAAAAAAYQAAAAAAAACxAAAAAAAAALkAAAAAAAAAIQAAAAAAAAAAAAAAAAAAAAAAAAAAAAAAQQAAAAAAAACpAAAAAAAAAIEAAAAAAAAAiQAAAAAAAADBAAAAAAAAAIEAAAAAAAAAAAAAAAAAAAAAAAAAAAAAAAEAAAAAAAAAiQAAAAAAAAC5AAAAAAAAALEAAAAAAAAAiQAAAAAAAAAhAAAAAAAAAAAA=\",\"dtype\":\"float64\",\"shape\":[8,8]},{\"__ndarray__\":\"AAAAAAAAAAAAAAAAAAAAAAAAAAAAAAAAAAAAAAAAJEAAAAAAAAAuQAAAAAAAABBAAAAAAAAAAAAAAAAAAAAAAAAAAAAAAAAAAAAAAAAAAAAAAAAAAAAAAAAAAAAAAPA/AAAAAAAAMEAAAAAAAAAkQAAAAAAAAAAAAAAAAAAAAAAAAAAAAAAAAAAAAAAAAPA/AAAAAAAAJEAAAAAAAAAuQAAAAAAAADBAAAAAAAAALEAAAAAAAAAAAAAAAAAAAAAAAAAAAAAAAAAAAAAAAAAiQAAAAAAAADBAAAAAAAAAKkAAAAAAAAAsQAAAAAAAADBAAAAAAAAAFEAAAAAAAAAAAAAAAAAAAAAAAAAAAAAAHEAAAAAAAAAwQAAAAAAAABxAAAAAAAAA8D8AAAAAAAAwQAAAAAAAACBAAAAAAAAAAAAAAAAAAAAAAAAAAAAAAAAAAAAAAAAAJEAAAAAAAAAuQAAAAAAAAAhAAAAAAAAALkAAAAAAAAAmQAAAAAAAAAAAAAAAAAAAAAAAAAAAAAAAAAAAAAAAAPA/AAAAAAAALEAAAAAAAAAqQAAAAAAAAPA/AAAAAAAA8D8AAAAAAAAAAAAAAAAAAAAAAAAAAAAAAAAAAAAAAAAAAAAAAAAAACBAAAAAAAAALkAAAAAAAADwPwAAAAAAAAAAAAAAAAAAAAA=\",\"dtype\":\"float64\",\"shape\":[8,8]},{\"__ndarray__\":\"AAAAAAAAAAAAAAAAAAAQQAAAAAAAAC5AAAAAAAAAMEAAAAAAAAAAQAAAAAAAAAAAAAAAAAAAAAAAAAAAAAAAAAAAAAAAAAAAAAAAAAAA8D8AAAAAAAAUQAAAAAAAAC5AAAAAAAAAKkAAAAAAAAAAAAAAAAAAAAAAAAAAAAAAAAAAAAAAAAAAAAAAAAAAAAAAAAAAAAAAAAAAAAAAAAAUQAAAAAAAADBAAAAAAAAACEAAAAAAAAAAAAAAAAAAAAAAAAAAAAAAAAAAAAAAAADwPwAAAAAAABhAAAAAAAAAGEAAAAAAAAAwQAAAAAAAAAAAAAAAAAAAAAAAAAAAAAAAAAAAAAAAAAAAAAAAAAAAIEAAAAAAAAAwQAAAAAAAADBAAAAAAAAALEAAAAAAAAAAAAAAAAAAAAAAAAAAAAAAAAAAAAAAAAAAAAAAAAAAACBAAAAAAAAALEAAAAAAAAAmQAAAAAAAAPA/AAAAAAAAAAAAAAAAAAAAAAAAAAAAAAAAAAAAAAAAAAAAAAAAAAAmQAAAAAAAADBAAAAAAAAALkAAAAAAAAAgQAAAAAAAABBAAAAAAAAAAAAAAAAAAAAAAAAAAAAAAAAAAAAAAAAAFEAAAAAAAAAoQAAAAAAAACpAAAAAAAAAMEAAAAAAAAAwQAAAAAAAAABAAAAAAAAAAAA=\",\"dtype\":\"float64\",\"shape\":[8,8]},{\"__ndarray__\":\"AAAAAAAAAAAAAAAAAAAAAAAAAAAAAAAAAAAAAAAAHEAAAAAAAAAuQAAAAAAAADBAAAAAAAAAJkAAAAAAAAAAAAAAAAAAAAAAAAAAAAAAAAAAAAAAAAAIQAAAAAAAACxAAAAAAAAAIkAAAAAAAAAAQAAAAAAAADBAAAAAAAAAAEAAAAAAAAAAAAAAAAAAAAAAAAAAAAAALkAAAAAAAAAwQAAAAAAAACJAAAAAAAAAIkAAAAAAAAAsQAAAAAAAAAAAAAAAAAAAAAAAAAAAAAAAAAAAAAAAABxAAAAAAAAAMEAAAAAAAAAwQAAAAAAAACpAAAAAAAAAFEAAAAAAAAAAAAAAAAAAAAAAAAAAAAAAAAAAAAAAAAAYQAAAAAAAADBAAAAAAAAAAEAAAAAAAAAAAAAAAAAAAAAAAAAAAAAAAAAAAAAAAAAAAAAAAAAAAAAAAAAAAAAACEAAAAAAAAAwQAAAAAAAABxAAAAAAAAAAAAAAAAAAAAAAAAAAAAAAAAAAAAAAAAAAAAAAAAAAAAAAAAAAAAAAAAAAAAAAAAAKEAAAAAAAAAsQAAAAAAAAAAAAAAAAAAAAAAAAAAAAAAAAAAAAAAAAAAAAAAAAAAAAAAAAAAAAAAAAAAAAAAAACBAAAAAAAAALkAAAAAAAADwPwAAAAAAAAAAAAAAAAAAAAA=\",\"dtype\":\"float64\",\"shape\":[8,8]},{\"__ndarray__\":\"AAAAAAAAAAAAAAAAAAAAAAAAAAAAAAAAAAAAAAAAJkAAAAAAAAAiQAAAAAAAAAAAAAAAAAAAAAAAAAAAAAAAAAAAAAAAAAAAAAAAAAAAAAAAAAAAAAAAAAAAAAAAACRAAAAAAAAAKkAAAAAAAAAAAAAAAAAAAAAAAAAAAAAAAAAAAAAAAAAAAAAAAAAAAPA/AAAAAAAAIEAAAAAAAAAoQAAAAAAAACxAAAAAAAAAIEAAAAAAAAAIQAAAAAAAAAAAAAAAAAAAAAAAAAAAAAAAAAAAAAAAADBAAAAAAAAAMEAAAAAAAAAwQAAAAAAAADBAAAAAAAAAKEAAAAAAAAAAAAAAAAAAAAAAAAAAAAAAAAAAAAAAAAAIQAAAAAAAABRAAAAAAAAALkAAAAAAAAAkQAAAAAAAAABAAAAAAAAAAAAAAAAAAAAAAAAAAAAAABRAAAAAAAAAJEAAAAAAAAAAAAAAAAAAACRAAAAAAAAAKEAAAAAAAAAAAAAAAAAAAAAAAAAAAAAAAAAAAAAAAAAIQAAAAAAAACpAAAAAAAAALkAAAAAAAAAsQAAAAAAAACxAAAAAAAAAAAAAAAAAAAAAAAAAAAAAAAAAAAAAAAAAAAAAAAAAAADwPwAAAAAAACBAAAAAAAAALkAAAAAAAAAkQAAAAAAAAAAAAAAAAAAAAAA=\",\"dtype\":\"float64\",\"shape\":[8,8]},{\"__ndarray__\":\"AAAAAAAAAAAAAAAAAAAAAAAAAAAAACZAAAAAAAAALEAAAAAAAAAUQAAAAAAAAAAAAAAAAAAAAAAAAAAAAAAAAAAAAAAAAAAAAAAAAAAA8D8AAAAAAAAkQAAAAAAAAABAAAAAAAAALEAAAAAAAAAAAAAAAAAAAAAAAAAAAAAAAAAAAAAAAAAAAAAAAAAAAAAAAAAAAAAAKEAAAAAAAADwPwAAAAAAAChAAAAAAAAAAAAAAAAAAAAAAAAAAAAAAAAAAAAAAAAAAAAAAAAAAAAAAAAAAAAAAChAAAAAAAAAKkAAAAAAAAAQQAAAAAAAAAAAAAAAAAAAAAAAAAAAAAAAAAAAAAAAAAAAAAAAAAAAAAAAAAAAAADwPwAAAAAAADBAAAAAAAAAJEAAAAAAAADwPwAAAAAAAAAAAAAAAAAAAAAAAAAAAAAAAAAAAAAAAAAAAAAAAAAAEEAAAAAAAAAmQAAAAAAAACRAAAAAAAAAJkAAAAAAAAAAAAAAAAAAAAAAAAAAAAAAAAAAAAAAAAAAAAAAAAAAACJAAAAAAAAAJEAAAAAAAAAoQAAAAAAAAC5AAAAAAAAAAEAAAAAAAAAAAAAAAAAAAAAAAAAAAAAAAAAAAAAAAAAkQAAAAAAAABxAAAAAAAAAKkAAAAAAAAAiQAAAAAAAAAAAAAAAAAAAAAA=\",\"dtype\":\"float64\",\"shape\":[8,8]},{\"__ndarray__\":\"AAAAAAAAAAAAAAAAAAAAAAAAAAAAABxAAAAAAAAAMEAAAAAAAAAwQAAAAAAAACpAAAAAAAAAJkAAAAAAAADwPwAAAAAAAAAAAAAAAAAAAAAAAAAAAADwPwAAAAAAABBAAAAAAAAAEEAAAAAAAAAcQAAAAAAAADBAAAAAAAAAAEAAAAAAAAAAAAAAAAAAAAAAAAAAAAAAAAAAAAAAAAAAAAAAAAAAAAAAAAAAAAAAFEAAAAAAAAAmQAAAAAAAAAAAAAAAAAAAAAAAAAAAAAAAAAAAAAAAAAAAAAAAAAAAAAAAAAAAAAAAAAAAAAAAACZAAAAAAAAACEAAAAAAAAAAAAAAAAAAAAAAAAAAAAAAAAAAAAAAAADwPwAAAAAAAChAAAAAAAAAKEAAAAAAAAAmQAAAAAAAAAAAAAAAAAAAAAAAAAAAAAAAAAAAAAAAAAAAAAAAAAAAIEAAAAAAAAAsQAAAAAAAADBAAAAAAAAAAEAAAAAAAAAAAAAAAAAAAAAAAAAAAAAAAAAAAAAAAAAAAAAAAAAAACZAAAAAAAAAMEAAAAAAAAAkQAAAAAAAAAAAAAAAAAAAAAAAAAAAAAAAAAAAAAAAAAAAAAAAAAAAAAAAAAAAAAAYQAAAAAAAACxAAAAAAAAAEEAAAAAAAAAAAAAAAAAAAAAAAAAAAAAAAAA=\",\"dtype\":\"float64\",\"shape\":[8,8]},{\"__ndarray__\":\"AAAAAAAAAAAAAAAAAAAAAAAAAAAAAABAAAAAAAAAKEAAAAAAAAAqQAAAAAAAABBAAAAAAAAAAAAAAAAAAAAAAAAAAAAAAAAAAAAAAAAAAAAAAAAAAAAiQAAAAAAAACxAAAAAAAAAIkAAAAAAAAAsQAAAAAAAAPA/AAAAAAAAAAAAAAAAAAAAAAAAAAAAAAAAAAAAAAAALkAAAAAAAAAiQAAAAAAAAAAAAAAAAAAAKkAAAAAAAAAYQAAAAAAAAAAAAAAAAAAAAAAAAAAAAAAAAAAAAAAAADBAAAAAAAAA8D8AAAAAAAAAAAAAAAAAAChAAAAAAAAAIEAAAAAAAAAAAAAAAAAAAAAAAAAAAAAAEEAAAAAAAAAwQAAAAAAAAAAAAAAAAAAAAAAAAAAAAAAwQAAAAAAAAABAAAAAAAAAAAAAAAAAAAAAAAAAAAAAABBAAAAAAAAAMEAAAAAAAAAiQAAAAAAAAPA/AAAAAAAALEAAAAAAAAAAQAAAAAAAAAAAAAAAAAAAAAAAAAAAAAAAAAAAAAAAACZAAAAAAAAAMEAAAAAAAAAwQAAAAAAAADBAAAAAAAAAAEAAAAAAAAAAAAAAAAAAAAAAAAAAAAAAAAAAAAAAAAAIQAAAAAAAACpAAAAAAAAAJkAAAAAAAAAcQAAAAAAAAAAAAAAAAAAAAAA=\",\"dtype\":\"float64\",\"shape\":[8,8]},{\"__ndarray__\":\"AAAAAAAAAAAAAAAAAAAAAAAAAAAAAAAAAAAAAAAAAEAAAAAAAAAoQAAAAAAAAC5AAAAAAAAAEEAAAAAAAAAAAAAAAAAAAAAAAAAAAAAAAAAAAAAAAAAAAAAAAAAAABhAAAAAAAAAMEAAAAAAAAAwQAAAAAAAAABAAAAAAAAAAAAAAAAAAAAAAAAAAAAAAAAAAAAAAAAAAAAAAAAAAAAgQAAAAAAAADBAAAAAAAAAKEAAAAAAAAAAAAAAAAAAAAAAAAAAAAAAAAAAAAAAAAAAAAAAAAAAAAhAAAAAAAAAJEAAAAAAAAAwQAAAAAAAACxAAAAAAAAAAAAAAAAAAAAAAAAAAAAAAAAAAAAAAAAAHEAAAAAAAAAwQAAAAAAAADBAAAAAAAAAMEAAAAAAAAAoQAAAAAAAAAAAAAAAAAAAAAAAAAAAAAAAAAAAAAAAAPA/AAAAAAAAEEAAAAAAAAAoQAAAAAAAADBAAAAAAAAAKEAAAAAAAAAAAAAAAAAAAAAAAAAAAAAAAAAAAAAAAAAAAAAAAAAAAAAAAAAAAAAAEEAAAAAAAAAwQAAAAAAAADBAAAAAAAAAAEAAAAAAAAAAAAAAAAAAAAAAAAAAAAAAAAAAAAAAAAAAAAAAAAAAAABAAAAAAAAAMEAAAAAAAAAwQAAAAAAAAABAAAAAAAAAAAA=\",\"dtype\":\"float64\",\"shape\":[8,8]},{\"__ndarray__\":\"AAAAAAAAAAAAAAAAAAAAAAAAAAAAABxAAAAAAAAAKEAAAAAAAAAoQAAAAAAAAChAAAAAAAAAKkAAAAAAAADwPwAAAAAAAAAAAAAAAAAAAAAAAAAAAAAsQAAAAAAAAC5AAAAAAAAAIEAAAAAAAAAgQAAAAAAAAAhAAAAAAAAAAAAAAAAAAAAAAAAAAAAAAAAAAAAAAAAACEAAAAAAAAAuQAAAAAAAABRAAAAAAAAAAAAAAAAAAAAAAAAAAAAAAAAAAAAAAAAAAAAAAAAAAAAAAAAAAAAAAAAAAAAAAAAAIkAAAAAAAAAoQAAAAAAAAAAAAAAAAAAAAAAAAAAAAAAAAAAAAAAAAAAAAAAAAAAAAAAAAAAAAAAIQAAAAAAAAPA/AAAAAAAAMEAAAAAAAADwPwAAAAAAAAAAAAAAAAAAAAAAAAAAAAAAAAAAAAAAAAAAAAAAAAAAJEAAAAAAAAAAAAAAAAAAACpAAAAAAAAACEAAAAAAAAAAAAAAAAAAAAAAAAAAAAAAAAAAAAAAAADwPwAAAAAAACpAAAAAAAAAJkAAAAAAAAAwQAAAAAAAAAAAAAAAAAAAAAAAAAAAAAAAAAAAAAAAAAAAAAAAAAAAAAAAAAAAAAAgQAAAAAAAADBAAAAAAAAAFEAAAAAAAAAAAAAAAAAAAAAAAAAAAAAAAAA=\",\"dtype\":\"float64\",\"shape\":[8,8]},{\"__ndarray__\":\"AAAAAAAAAAAAAAAAAAAAAAAAAAAAACxAAAAAAAAALkAAAAAAAAAmQAAAAAAAAABAAAAAAAAAAAAAAAAAAAAAAAAAAAAAAAAAAAAAAAAAAAAAAAAAAAAcQAAAAAAAACBAAAAAAAAALEAAAAAAAAAuQAAAAAAAAAAAAAAAAAAAAAAAAAAAAAAAAAAAAAAAAAAAAAAAAAAAAAAAAAAAAAAAAAAAAAAAACJAAAAAAAAAKkAAAAAAAAAAAAAAAAAAAAAAAAAAAAAAAAAAAAAAAAAAAAAAAAAAAAAAAAAAAAAAAAAAAAAAAAAqQAAAAAAAABRAAAAAAAAAAAAAAAAAAAAAAAAAAAAAAAAAAAAAAAAAAAAAAAAAAAAAAAAAAAAAAABAAAAAAAAALkAAAAAAAAAoQAAAAAAAAPA/AAAAAAAAAAAAAAAAAAAAAAAAAAAAAAAAAAAAAAAAAAAAAAAAAAAAAAAAAAAAAABAAAAAAAAAKkAAAAAAAAAcQAAAAAAAAAAAAAAAAAAAAAAAAAAAAAAIQAAAAAAAACZAAAAAAAAAIEAAAAAAAAAgQAAAAAAAAChAAAAAAAAAKEAAAAAAAAAAAAAAAAAAAAAAAAAAAAAA8D8AAAAAAAAgQAAAAAAAAChAAAAAAAAALkAAAAAAAAAsQAAAAAAAABBAAAAAAAAAAAA=\",\"dtype\":\"float64\",\"shape\":[8,8]},{\"__ndarray__\":\"AAAAAAAAAAAAAAAAAAAAAAAAAAAAAAAAAAAAAAAAAAAAAAAAAAAoQAAAAAAAACBAAAAAAAAAAAAAAAAAAAAAAAAAAAAAAAAAAAAAAAAAAAAAAAAAAAAAAAAAAAAAAAAAAAAAAAAAGEAAAAAAAAAwQAAAAAAAAAAAAAAAAAAAAAAAAAAAAAAAAAAAAAAAAAAAAAAAAAAAFEAAAAAAAAAkQAAAAAAAACpAAAAAAAAAMEAAAAAAAAAAAAAAAAAAAAAAAAAAAAAAAAAAAAAAAAAYQAAAAAAAADBAAAAAAAAAJEAAAAAAAAAmQAAAAAAAADBAAAAAAAAAAAAAAAAAAAAAAAAAAAAAAAAAAAAAAAAAAAAAAAAAAAAqQAAAAAAAACJAAAAAAAAAAAAAAAAAAAAwQAAAAAAAABhAAAAAAAAAAAAAAAAAAAAAAAAAAAAAAAAAAAAAAAAAEEAAAAAAAAAwQAAAAAAAABxAAAAAAAAAIEAAAAAAAAAAAAAAAAAAAAAAAAAAAAAAAAAAAAAAAAAAAAAAAAAAAAAAAAAAAAAAGEAAAAAAAAAsQAAAAAAAAPA/AAAAAAAAAAAAAAAAAAAAAAAAAAAAAAAAAAAAAAAAAAAAAAAAAAAAAAAAAAAAAAAAAAAAAAAAKEAAAAAAAAAAQAAAAAAAAAAAAAAAAAAAAAA=\",\"dtype\":\"float64\",\"shape\":[8,8]},{\"__ndarray__\":\"AAAAAAAAAAAAAAAAAAAAAAAAAAAAACZAAAAAAAAALEAAAAAAAAAiQAAAAAAAAAAAAAAAAAAAAAAAAAAAAAAAAAAAAAAAAAAAAAAAAAAAAAAAAAAAAAAQQAAAAAAAACBAAAAAAAAAMEAAAAAAAAAQQAAAAAAAAAAAAAAAAAAAAAAAAAAAAAAAAAAAAAAAAAAAAAAAAAAAAAAAAAAAAAAAQAAAAAAAADBAAAAAAAAAAEAAAAAAAAAAAAAAAAAAAAAAAAAAAAAAAAAAAAAAAAAAQAAAAAAAAC5AAAAAAAAAMEAAAAAAAAAiQAAAAAAAAAAAAAAAAAAAAAAAAAAAAAAAAAAAAAAAAAAAAAAAAAAAFEAAAAAAAAAsQAAAAAAAABRAAAAAAAAAAAAAAAAAAAAAAAAAAAAAAAAAAAAAAAAAAAAAAAAAAAAAAAAAAAAAAABAAAAAAAAALEAAAAAAAADwPwAAAAAAAAAAAAAAAAAAAAAAAAAAAAAAAAAAAAAAAAAAAAAAAAAAAAAAAAAAAAAIQAAAAAAAADBAAAAAAAAAMEAAAAAAAAAmQAAAAAAAABxAAAAAAAAAAAAAAAAAAAAAAAAAAAAAAAAAAAAAAAAAAAAAAAAAAAAoQAAAAAAAACBAAAAAAAAAIEAAAAAAAAAcQAAAAAAAAAAAAAAAAAAAAAA=\",\"dtype\":\"float64\",\"shape\":[8,8]},{\"__ndarray__\":\"AAAAAAAAAAAAAAAAAAAAAAAAAAAAAAhAAAAAAAAAKEAAAAAAAAAuQAAAAAAAACxAAAAAAAAAHEAAAAAAAAAAAAAAAAAAAAAAAAAAAAAA8D8AAAAAAAAsQAAAAAAAADBAAAAAAAAAMEAAAAAAAAAwQAAAAAAAAChAAAAAAAAAAAAAAAAAAAAAAAAAAAAAAAhAAAAAAAAAMEAAAAAAAAAwQAAAAAAAADBAAAAAAAAAMEAAAAAAAAAYQAAAAAAAAAAAAAAAAAAAAAAAAAAAAAAUQAAAAAAAADBAAAAAAAAALEAAAAAAAAAUQAAAAAAAAAAAAAAAAAAAAAAAAAAAAAAAAAAAAAAAAAAAAAAAAAAACEAAAAAAAAAwQAAAAAAAAChAAAAAAAAA8D8AAAAAAAAAAAAAAAAAAAAAAAAAAAAAAAAAAAAAAAAAAAAAAAAAAABAAAAAAAAAMEAAAAAAAAAwQAAAAAAAAAhAAAAAAAAAAAAAAAAAAAAAAAAAAAAAAAAAAAAAAAAAAAAAAAAAAAAAAAAAAAAAACBAAAAAAAAAMEAAAAAAAAAqQAAAAAAAAABAAAAAAAAAAAAAAAAAAAAAAAAAAAAAAAAAAAAAAAAAAAAAAAAAAADwPwAAAAAAACpAAAAAAAAALEAAAAAAAAAIQAAAAAAAAAAAAAAAAAAAAAA=\",\"dtype\":\"float64\",\"shape\":[8,8]},{\"__ndarray__\":\"AAAAAAAAAAAAAAAAAAAAAAAAAAAAAAAAAAAAAAAAKEAAAAAAAAAqQAAAAAAAAPA/AAAAAAAAAAAAAAAAAAAAAAAAAAAAAAAAAAAAAAAAAAAAAAAAAAAAAAAAAAAAACJAAAAAAAAAMEAAAAAAAAAcQAAAAAAAAAAAAAAAAAAAAAAAAAAAAAAAAAAAAAAAAAAAAAAAAAAAAAAAAAAAAAAAAAAAAAAAACZAAAAAAAAALkAAAAAAAADwPwAAAAAAAAAAAAAAAAAAAAAAAAAAAAAgQAAAAAAAADBAAAAAAAAAMEAAAAAAAAAwQAAAAAAAADBAAAAAAAAAHEAAAAAAAAAAAAAAAAAAAAAAAAAAAAAAAEAAAAAAAAAgQAAAAAAAACZAAAAAAAAAKEAAAAAAAAAwQAAAAAAAACBAAAAAAAAAAAAAAAAAAAAAAAAAAAAAAAAAAAAAAAAAAAAAAAAAAAAAAAAAAAAAAAAAAAAAAAAALEAAAAAAAAAkQAAAAAAAAAAAAAAAAAAAAAAAAAAAAAAAAAAAAAAAAAAAAAAAAAAAGEAAAAAAAAAkQAAAAAAAAC5AAAAAAAAAJkAAAAAAAAAAAAAAAAAAAAAAAAAAAAAAAAAAAAAAAAAAAAAAAAAAACBAAAAAAAAALEAAAAAAAAAsQAAAAAAAAABAAAAAAAAAAAA=\",\"dtype\":\"float64\",\"shape\":[8,8]},{\"__ndarray__\":\"AAAAAAAAAAAAAAAAAAAAAAAAAAAAACBAAAAAAAAALEAAAAAAAAAcQAAAAAAAAPA/AAAAAAAAAAAAAAAAAAAAAAAAAAAAAAAAAAAAAAAAAAAAAAAAAAAsQAAAAAAAABhAAAAAAAAALkAAAAAAAAAkQAAAAAAAAAAAAAAAAAAAAAAAAAAAAAAAAAAAAAAAAPA/AAAAAAAALkAAAAAAAAAIQAAAAAAAACJAAAAAAAAAJEAAAAAAAAAAAAAAAAAAAAAAAAAAAAAAAAAAAAAAAADwPwAAAAAAACZAAAAAAAAAMEAAAAAAAAAwQAAAAAAAAAAAAAAAAAAAAAAAAAAAAAAAAAAAAAAAAAAAAAAAAAAAAAAAAAAAAAAAAAAAAAAAACpAAAAAAAAALkAAAAAAAAAqQAAAAAAAAAAAAAAAAAAAAAAAAAAAAAAAAAAAAAAAAAAAAAAAAAAAIEAAAAAAAAAmQAAAAAAAAAAAAAAAAAAALEAAAAAAAAAQQAAAAAAAAAAAAAAAAAAAAAAAAAAAAAAAAAAAAAAAACRAAAAAAAAALkAAAAAAAAAqQAAAAAAAACpAAAAAAAAA8D8AAAAAAAAAAAAAAAAAAAAAAAAAAAAAAAAAAAAAAAAkQAAAAAAAACZAAAAAAAAAEEAAAAAAAAAAAAAAAAAAAAAAAAAAAAAAAAA=\",\"dtype\":\"float64\",\"shape\":[8,8]},{\"__ndarray__\":\"AAAAAAAAAAAAAAAAAAAAAAAAAAAAABxAAAAAAAAAKEAAAAAAAAAoQAAAAAAAAChAAAAAAAAAJkAAAAAAAAAAAAAAAAAAAAAAAAAAAAAAAAAAAAAAAAAIQAAAAAAAABxAAAAAAAAAKEAAAAAAAAAsQAAAAAAAADBAAAAAAAAAAEAAAAAAAAAAAAAAAAAAAAAAAAAAAAAAAAAAAAAAAAAAAAAAAAAAAAAAAAAAAAAAIkAAAAAAAAAkQAAAAAAAAAAAAAAAAAAAAAAAAAAAAAAAAAAAAAAAAAAAAAAAAAAAAAAAAAAAAAAAQAAAAAAAADBAAAAAAAAACEAAAAAAAAAAAAAAAAAAAAAAAAAAAAAAAAAAAAAAAAAYQAAAAAAAADBAAAAAAAAAMEAAAAAAAAAsQAAAAAAAAAAAAAAAAAAAAAAAAAAAAAAAAAAAAAAAAAAAAAAAAAAAKEAAAAAAAAAqQAAAAAAAADBAAAAAAAAAGEAAAAAAAAAAAAAAAAAAAAAAAAAAAAAAAAAAAAAAAAAAAAAAAAAAAChAAAAAAAAAMEAAAAAAAAAwQAAAAAAAAABAAAAAAAAAAAAAAAAAAAAAAAAAAAAAAAAAAAAAAAAAAAAAAAAAAAAiQAAAAAAAACpAAAAAAAAAHEAAAAAAAAAAAAAAAAAAAAAAAAAAAAAAAAA=\",\"dtype\":\"float64\",\"shape\":[8,8]},{\"__ndarray__\":\"AAAAAAAAAAAAAAAAAAAAAAAAAAAAACZAAAAAAAAAMEAAAAAAAAAoQAAAAAAAAAhAAAAAAAAAAAAAAAAAAAAAAAAAAAAAAAAAAAAAAAAAEEAAAAAAAAAwQAAAAAAAAPA/AAAAAAAAJkAAAAAAAAAuQAAAAAAAAAAAAAAAAAAAAAAAAAAAAAAAAAAAAAAAACBAAAAAAAAAMEAAAAAAAAAAAAAAAAAAAPA/AAAAAAAAMEAAAAAAAADwPwAAAAAAAAAAAAAAAAAAAAAAAAAAAAAgQAAAAAAAADBAAAAAAAAAAAAAAAAAAAAAAAAAAAAAACxAAAAAAAAAEEAAAAAAAAAAAAAAAAAAAAAAAAAAAAAAIEAAAAAAAAAwQAAAAAAAAAAAAAAAAAAAAAAAAAAAAAAkQAAAAAAAABRAAAAAAAAAAAAAAAAAAAAAAAAAAAAAABBAAAAAAAAAMEAAAAAAAAAAQAAAAAAAAAAAAAAAAAAAJkAAAAAAAAAcQAAAAAAAAAAAAAAAAAAAAAAAAAAAAAAQQAAAAAAAADBAAAAAAAAAKkAAAAAAAAAYQAAAAAAAACxAAAAAAAAA8D8AAAAAAAAAAAAAAAAAAAAAAAAAAAAAAAAAAAAAAAAkQAAAAAAAACxAAAAAAAAAJkAAAAAAAAAIQAAAAAAAAAAAAAAAAAAAAAA=\",\"dtype\":\"float64\",\"shape\":[8,8]},{\"__ndarray__\":\"AAAAAAAAAAAAAAAAAAAAAAAAAAAAAABAAAAAAAAALkAAAAAAAAAqQAAAAAAAACxAAAAAAAAAKkAAAAAAAAAAQAAAAAAAAAAAAAAAAAAAAAAAAAAAAAAAAAAAAAAAAAhAAAAAAAAAEEAAAAAAAAAQQAAAAAAAADBAAAAAAAAAAEAAAAAAAAAAAAAAAAAAAAAAAAAAAAAAAAAAAAAAAAAAAAAAAAAAAAAAAAAAAAAAHEAAAAAAAAAmQAAAAAAAAAAAAAAAAAAAAAAAAAAAAAAAAAAAAAAAAAAAAAAAAAAAAAAAAAAAAAAAAAAAAAAAACxAAAAAAAAACEAAAAAAAAAAAAAAAAAAAAAAAAAAAAAAAAAAAAAAAAAAAAAAAAAAABxAAAAAAAAAMEAAAAAAAAAuQAAAAAAAAAAAAAAAAAAAAAAAAAAAAAAAAAAAAAAAAAAAAAAAAAAAFEAAAAAAAAAuQAAAAAAAACpAAAAAAAAAJkAAAAAAAAAAAAAAAAAAAAAAAAAAAAAAAAAAAAAAAAAAAAAAAAAAABhAAAAAAAAAMEAAAAAAAAAwQAAAAAAAABhAAAAAAAAAAAAAAAAAAAAAAAAAAAAAAAAAAAAAAAAAAAAAAAAAAAAAQAAAAAAAACpAAAAAAAAAIEAAAAAAAAAAAAAAAAAAAAAAAAAAAAAAAAA=\",\"dtype\":\"float64\",\"shape\":[8,8]},{\"__ndarray__\":\"AAAAAAAAAAAAAAAAAAAAQAAAAAAAADBAAAAAAAAALkAAAAAAAAAgQAAAAAAAAAAAAAAAAAAAAAAAAAAAAAAAAAAAAAAAAAAAAAAAAAAAAAAAAAAAAAAQQAAAAAAAACpAAAAAAAAAMEAAAAAAAAAYQAAAAAAAAAAAAAAAAAAAAAAAAAAAAAAAAAAAAAAAAAAAAAAAAAAAAAAAAAAAAADwPwAAAAAAAChAAAAAAAAALkAAAAAAAAAAAAAAAAAAAAAAAAAAAAAAAAAAAAAAAAAIQAAAAAAAACBAAAAAAAAAEEAAAAAAAAAmQAAAAAAAAC5AAAAAAAAAAAAAAAAAAAAAAAAAAAAAAAAAAAAAAAAAIkAAAAAAAAAwQAAAAAAAADBAAAAAAAAAMEAAAAAAAAAYQAAAAAAAAAAAAAAAAAAAAAAAAAAAAAAAAAAAAAAAABhAAAAAAAAAMEAAAAAAAAAcQAAAAAAAAAhAAAAAAAAAAAAAAAAAAAAAAAAAAAAAAAAAAAAAAAAAAAAAAAAAAAAUQAAAAAAAADBAAAAAAAAAJEAAAAAAAAAUQAAAAAAAABBAAAAAAAAA8D8AAAAAAAAAAAAAAAAAAAAAAAAAAAAAAEAAAAAAAAAqQAAAAAAAADBAAAAAAAAAMEAAAAAAAAAwQAAAAAAAACZAAAAAAAAAAAA=\",\"dtype\":\"float64\",\"shape\":[8,8]},{\"__ndarray__\":\"AAAAAAAAAAAAAAAAAAAQQAAAAAAAADBAAAAAAAAALkAAAAAAAAAIQAAAAAAAAAAAAAAAAAAAAAAAAAAAAAAAAAAAAAAAAAAAAAAAAAAA8D8AAAAAAAAgQAAAAAAAACpAAAAAAAAALkAAAAAAAAAIQAAAAAAAAAAAAAAAAAAAAAAAAAAAAAAAAAAAAAAAAAAAAAAAAAAAAAAAAAAAAAAIQAAAAAAAADBAAAAAAAAAIkAAAAAAAAAAAAAAAAAAAAAAAAAAAAAAAAAAAAAAAAAAAAAAAAAAABBAAAAAAAAAFEAAAAAAAAAuQAAAAAAAAChAAAAAAAAAAAAAAAAAAAAAAAAAAAAAAAAAAAAAAAAAGEAAAAAAAAAwQAAAAAAAADBAAAAAAAAALkAAAAAAAAAUQAAAAAAAAAAAAAAAAAAAAAAAAAAAAAAAAAAAAAAAABhAAAAAAAAAMEAAAAAAAAAiQAAAAAAAABhAAAAAAAAAEEAAAAAAAAAAAAAAAAAAAAAAAAAAAAAAAAAAAAAAAAAgQAAAAAAAADBAAAAAAAAAMEAAAAAAAAAwQAAAAAAAADBAAAAAAAAAGEAAAAAAAAAAAAAAAAAAAAAAAAAAAAAAGEAAAAAAAAAqQAAAAAAAABRAAAAAAAAAIEAAAAAAAAAgQAAAAAAAAPA/AAAAAAAAAAA=\",\"dtype\":\"float64\",\"shape\":[8,8]},{\"__ndarray__\":\"AAAAAAAAAAAAAAAAAAAAAAAAAAAAAAAAAAAAAAAAFEAAAAAAAAAwQAAAAAAAAC5AAAAAAAAACEAAAAAAAAAAAAAAAAAAAAAAAAAAAAAAAAAAAAAAAAAQQAAAAAAAADBAAAAAAAAAHEAAAAAAAAAqQAAAAAAAACJAAAAAAAAAAAAAAAAAAAAAAAAAAAAAAABAAAAAAAAAKkAAAAAAAAAsQAAAAAAAAPA/AAAAAAAAKEAAAAAAAAAiQAAAAAAAAAAAAAAAAAAAAAAAAAAAAADwPwAAAAAAAC5AAAAAAAAAMEAAAAAAAAAuQAAAAAAAACZAAAAAAAAA8D8AAAAAAAAAAAAAAAAAAAAAAAAAAAAAAAAAAAAAAAAYQAAAAAAAAC5AAAAAAAAAFEAAAAAAAAAAAAAAAAAAAAAAAAAAAAAAAAAAAAAAAAAAAAAAAAAAAAAAAAAAAAAAFEAAAAAAAAAwQAAAAAAAAABAAAAAAAAAAAAAAAAAAAAAAAAAAAAAAAAAAAAAAAAAAAAAAAAAAAAAAAAAAAAAAPA/AAAAAAAAKkAAAAAAAAAmQAAAAAAAAAAAAAAAAAAAAAAAAAAAAAAAAAAAAAAAAAAAAAAAAAAAAAAAAAAAAAAAAAAAAAAAABRAAAAAAAAALEAAAAAAAAAAQAAAAAAAAAAAAAAAAAAAAAA=\",\"dtype\":\"float64\",\"shape\":[8,8]},{\"__ndarray__\":\"AAAAAAAAAAAAAAAAAADwPwAAAAAAAC5AAAAAAAAALEAAAAAAAADwPwAAAAAAAAAAAAAAAAAAAAAAAAAAAAAAAAAAAAAAAAAAAAAAAAAAAAAAAAAAAAAUQAAAAAAAACxAAAAAAAAALkAAAAAAAAAAQAAAAAAAAAAAAAAAAAAAAAAAAAAAAAAAAAAAAAAAAAAAAAAAAAAAAAAAAAAAAADwPwAAAAAAACxAAAAAAAAAJEAAAAAAAAAAAAAAAAAAAAAAAAAAAAAAAAAAAAAAAAAAAAAAAAAAABxAAAAAAAAAGEAAAAAAAAAoQAAAAAAAACJAAAAAAAAAAAAAAAAAAAAAAAAAAAAAAAAAAAAAAAAAAEAAAAAAAAAwQAAAAAAAADBAAAAAAAAALkAAAAAAAAAIQAAAAAAAAAAAAAAAAAAAAAAAAAAAAAAAAAAAAAAAAAhAAAAAAAAAMEAAAAAAAAAiQAAAAAAAAABAAAAAAAAAAAAAAAAAAAAAAAAAAAAAAAAAAAAAAAAAAAAAAAAAAAAQQAAAAAAAADBAAAAAAAAAMEAAAAAAAAAwQAAAAAAAACpAAAAAAAAAAEAAAAAAAAAAAAAAAAAAAAAAAAAAAAAACEAAAAAAAAAuQAAAAAAAACBAAAAAAAAAIEAAAAAAAAAYQAAAAAAAAAAAAAAAAAAAAAA=\",\"dtype\":\"float64\",\"shape\":[8,8]},{\"__ndarray__\":\"AAAAAAAAAAAAAAAAAAAAAAAAAAAAABxAAAAAAAAAMEAAAAAAAAAmQAAAAAAAAPA/AAAAAAAAAAAAAAAAAAAAAAAAAAAAAAAAAAAAAAAAAAAAAAAAAAAwQAAAAAAAACZAAAAAAAAALEAAAAAAAAAkQAAAAAAAAAAAAAAAAAAAAAAAAAAAAAAAAAAAAAAAAPA/AAAAAAAALkAAAAAAAAAUQAAAAAAAABhAAAAAAAAAKkAAAAAAAADwPwAAAAAAAAAAAAAAAAAAAAAAAAAAAAAAAAAAAAAAADBAAAAAAAAACEAAAAAAAAAAAAAAAAAAACpAAAAAAAAAGEAAAAAAAAAAAAAAAAAAAAAAAAAAAAAA8D8AAAAAAAAwQAAAAAAAABRAAAAAAAAAAAAAAAAAAAAoQAAAAAAAABRAAAAAAAAAAAAAAAAAAAAAAAAAAAAAAABAAAAAAAAAMEAAAAAAAAAkQAAAAAAAAAAAAAAAAAAAKkAAAAAAAAAiQAAAAAAAAAAAAAAAAAAAAAAAAAAAAAAAAAAAAAAAAC5AAAAAAAAALkAAAAAAAAAqQAAAAAAAAC5AAAAAAAAACEAAAAAAAAAAAAAAAAAAAAAAAAAAAAAAAAAAAAAAAAAYQAAAAAAAACxAAAAAAAAAJEAAAAAAAAAAQAAAAAAAAAAAAAAAAAAAAAA=\",\"dtype\":\"float64\",\"shape\":[8,8]},{\"__ndarray__\":\"AAAAAAAAAAAAAAAAAAAAAAAAAAAAACpAAAAAAAAAKkAAAAAAAAAuQAAAAAAAADBAAAAAAAAAKkAAAAAAAAAAAAAAAAAAAAAAAAAAAAAAAAAAAAAAAAAUQAAAAAAAACBAAAAAAAAAFEAAAAAAAAAiQAAAAAAAACxAAAAAAAAAAAAAAAAAAAAAAAAAAAAAAAAAAAAAAAAAAAAAAAAAAAAAAAAAAAAAAAAAAAAAAAAAKkAAAAAAAAAYQAAAAAAAAAAAAAAAAAAAAAAAAAAAAAAAAAAAAAAAAPA/AAAAAAAAEEAAAAAAAAAiQAAAAAAAACpAAAAAAAAA8D8AAAAAAAAAAAAAAAAAAAAAAAAAAAAAAEAAAAAAAAAsQAAAAAAAADBAAAAAAAAAMEAAAAAAAAAYQAAAAAAAAAAAAAAAAAAAAAAAAAAAAAAAAAAAAAAAABBAAAAAAAAAMEAAAAAAAAAgQAAAAAAAACxAAAAAAAAAAAAAAAAAAAAAAAAAAAAAAAAAAAAAAAAAAAAAAAAAAAAUQAAAAAAAADBAAAAAAAAALEAAAAAAAAAcQAAAAAAAAAAAAAAAAAAAAAAAAAAAAAAAAAAAAAAAAAAAAAAAAAAAAAAAAAAAAAAqQAAAAAAAACRAAAAAAAAA8D8AAAAAAAAAAAAAAAAAAAAAAAAAAAAAAAA=\",\"dtype\":\"float64\",\"shape\":[8,8]},{\"__ndarray__\":\"AAAAAAAAAAAAAAAAAADwPwAAAAAAACZAAAAAAAAAMEAAAAAAAAAYQAAAAAAAAAAAAAAAAAAAAAAAAAAAAAAAAAAAAAAAAAAAAAAAAAAAEEAAAAAAAAAkQAAAAAAAACJAAAAAAAAAIEAAAAAAAAAAAAAAAAAAAAAAAAAAAAAAAAAAAAAAAAAAAAAAAAAAACBAAAAAAAAAIEAAAAAAAAAmQAAAAAAAABRAAAAAAAAAAAAAAAAAAAAAAAAAAAAAAAAAAAAAAAAAAAAAAAAAAAAIQAAAAAAAACxAAAAAAAAAMEAAAAAAAAAAAAAAAAAAAAAAAAAAAAAAAAAAAAAAAAAAAAAAAAAAAAAAAAAAAAAAAAAAAAAAAAAgQAAAAAAAADBAAAAAAAAAJEAAAAAAAAAAAAAAAAAAAAAAAAAAAAAAAAAAAAAAAAAAAAAAAAAAAAAAAAAAAAAAJEAAAAAAAAAQQAAAAAAAACRAAAAAAAAAJkAAAAAAAADwPwAAAAAAAAAAAAAAAAAAAAAAAAAAAAAAAAAAAAAAACpAAAAAAAAAKkAAAAAAAAAYQAAAAAAAAChAAAAAAAAAHEAAAAAAAAAAAAAAAAAAAAAAAAAAAAAAAAAAAAAAAAAcQAAAAAAAABxAAAAAAAAAKkAAAAAAAAAwQAAAAAAAABBAAAAAAAAAAAA=\",\"dtype\":\"float64\",\"shape\":[8,8]},{\"__ndarray__\":\"AAAAAAAAAAAAAAAAAAAAAAAAAAAAACJAAAAAAAAALEAAAAAAAAAqQAAAAAAAACRAAAAAAAAA8D8AAAAAAAAAAAAAAAAAAAAAAAAAAAAACEAAAAAAAAAqQAAAAAAAACBAAAAAAAAAFEAAAAAAAAAsQAAAAAAAABRAAAAAAAAAAAAAAAAAAAAAAAAAAAAAAAAAAAAAAAAAAAAAAAAAAAAAAAAAAAAAAAAAAAAAAAAAJkAAAAAAAAAYQAAAAAAAAAAAAAAAAAAAAAAAAAAAAAAAAAAAAAAAAAAAAAAAAAAAAAAAAAAAAAAAAAAAAAAAAC5AAAAAAAAAAEAAAAAAAAAAAAAAAAAAAAAAAAAAAAAAAAAAAAAAAAAiQAAAAAAAACZAAAAAAAAAHEAAAAAAAAAsQAAAAAAAAAAAAAAAAAAAAAAAAAAAAAAAAAAAAAAAABhAAAAAAAAALkAAAAAAAAAiQAAAAAAAADBAAAAAAAAAJkAAAAAAAAAAAAAAAAAAAAAAAAAAAAAAAAAAAAAAAAAcQAAAAAAAACxAAAAAAAAAEEAAAAAAAAAkQAAAAAAAAChAAAAAAAAAAAAAAAAAAAAAAAAAAAAAAAAAAAAAAAAA8D8AAAAAAAAiQAAAAAAAADBAAAAAAAAAKkAAAAAAAAAcQAAAAAAAAAAAAAAAAAAAAAA=\",\"dtype\":\"float64\",\"shape\":[8,8]}],\"x\":{\"__ndarray__\":\"mpmZmZmZyT9mZmZmZmb2P83MzMzMzARAZmZmZmZmDkAAAAAAAAAUQM3MzMzMzBhAmZmZmZmZHUAzMzMzMzMhQJmZmZmZmSNA////////JUBmZmZmZmYoQMzMzMzMzCpAMjMzMzMzLUCZmZmZmZkvQAAAAAAAADFAMzMzMzMzMkBmZmZmZmYzQJmZmZmZmTRAzMzMzMzMNUAAAAAAAAA3QJqZmZmZmck/ZmZmZmZm9j/NzMzMzMwEQGZmZmZmZg5AAAAAAAAAFEDNzMzMzMwYQJmZmZmZmR1AMzMzMzMzIUCZmZmZmZkjQP///////yVAZmZmZmZmKEDMzMzMzMwqQDIzMzMzMy1AmZmZmZmZL0AAAAAAAAAxQDMzMzMzMzJAZmZmZmZmM0CZmZmZmZk0QMzMzMzMzDVAAAAAAAAAN0A=\",\"dtype\":\"float64\",\"shape\":[40]},\"y\":{\"__ndarray__\":\"mpmZmZmZyT+amZmZmZnJP5qZmZmZmck/mpmZmZmZyT+amZmZmZnJP5qZmZmZmck/mpmZmZmZyT+amZmZmZnJP5qZmZmZmck/mpmZmZmZyT+amZmZmZnJP5qZmZmZmck/mpmZmZmZyT+amZmZmZnJP5qZmZmZmck/mpmZmZmZyT+amZmZmZnJP5qZmZmZmck/mpmZmZmZyT+amZmZmZnJP2ZmZmZmZvY/ZmZmZmZm9j9mZmZmZmb2P2ZmZmZmZvY/ZmZmZmZm9j9mZmZmZmb2P2ZmZmZmZvY/ZmZmZmZm9j9mZmZmZmb2P2ZmZmZmZvY/ZmZmZmZm9j9mZmZmZmb2P2ZmZmZmZvY/ZmZmZmZm9j9mZmZmZmb2P2ZmZmZmZvY/ZmZmZmZm9j9mZmZmZmb2P2ZmZmZmZvY/ZmZmZmZm9j8=\",\"dtype\":\"float64\",\"shape\":[40]}}},\"id\":\"4b723d90-61f7-4bbe-b6ca-2bd141e241ab\",\"type\":\"ColumnDataSource\"},{\"attributes\":{\"callback\":null,\"column_names\":[\"x\",\"y\",\"text\"],\"data\":{\"text\":[\"0\",\"1\",\"2\",\"3\",\"4\",\"5\",\"6\",\"7\",\"8\",\"9\",\"0\",\"1\",\"2\",\"3\",\"4\",\"5\",\"6\",\"7\",\"8\",\"9\",\"0\",\"1\",\"2\",\"3\",\"4\",\"5\",\"6\",\"7\",\"8\",\"9\",\"0\",\"1\",\"2\",\"3\",\"4\",\"5\",\"6\",\"7\",\"8\",\"9\"],\"x\":[0.21000000000000002,1.41,2.61,3.8099999999999996,5.01,6.21,7.409999999999999,8.61,9.809999999999999,11.009999999999998,12.209999999999999,13.409999999999998,14.609999999999998,15.809999999999999,17.01,18.21,19.41,20.61,21.81,23.01,0.21000000000000002,1.41,2.61,3.8099999999999996,5.01,6.21,7.409999999999999,8.61,9.809999999999999,11.009999999999998,12.209999999999999,13.409999999999998,14.609999999999998,15.809999999999999,17.01,18.21,19.41,20.61,21.81,23.01],\"y\":[0.18000000000000002,0.18000000000000002,0.18000000000000002,0.18000000000000002,0.18000000000000002,0.18000000000000002,0.18000000000000002,0.18000000000000002,0.18000000000000002,0.18000000000000002,0.18000000000000002,0.18000000000000002,0.18000000000000002,0.18000000000000002,0.18000000000000002,0.18000000000000002,0.18000000000000002,0.18000000000000002,0.18000000000000002,0.18000000000000002,1.38,1.38,1.38,1.38,1.38,1.38,1.38,1.38,1.38,1.38,1.38,1.38,1.38,1.38,1.38,1.38,1.38,1.38,1.38,1.38]}},\"id\":\"2924f1e4-41e3-4780-a497-186b74fc9489\",\"type\":\"ColumnDataSource\"},{\"attributes\":{\"below\":[{\"id\":\"cb9eeac2-6425-4945-8900-5ada81dec37c\",\"type\":\"LinearAxis\"}],\"left\":[{\"id\":\"904c8720-d981-4284-8004-d503553d3b3b\",\"type\":\"LinearAxis\"}],\"min_border\":0,\"plot_height\":100,\"plot_width\":760,\"renderers\":[{\"id\":\"cb9eeac2-6425-4945-8900-5ada81dec37c\",\"type\":\"LinearAxis\"},{\"id\":\"2bac495d-eff0-4d07-ab54-30229a42875a\",\"type\":\"Grid\"},{\"id\":\"904c8720-d981-4284-8004-d503553d3b3b\",\"type\":\"LinearAxis\"},{\"id\":\"6e26e03e-d6c4-41e5-af03-0ed9ab50747f\",\"type\":\"Grid\"},{\"id\":\"fd32113b-967b-41b0-b532-d1e2b299f664\",\"type\":\"BoxAnnotation\"},{\"id\":\"4887f936-304c-4356-88bc-45e54dbf6621\",\"type\":\"GlyphRenderer\"},{\"id\":\"63bb9fa9-f3b6-447c-9612-46976fbab597\",\"type\":\"GlyphRenderer\"},{\"id\":\"e1800290-c7c7-4708-8c0f-8712bac8b8bb\",\"type\":\"GlyphRenderer\"}],\"title\":null,\"tool_events\":{\"id\":\"41c4a16b-3c3f-4e33-9657-7e6927ef4b5d\",\"type\":\"ToolEvents\"},\"toolbar\":{\"id\":\"436e4edc-20ed-41d8-8a53-591a2dfcd416\",\"type\":\"Toolbar\"},\"x_range\":{\"id\":\"ef66ac2f-7e56-428e-874e-f078ba375ace\",\"type\":\"Range1d\"},\"y_range\":{\"id\":\"3a7da551-94fc-492b-ab18-0083d3de7c5e\",\"type\":\"Range1d\"}},\"id\":\"1b3a350c-4bee-498e-84b4-c5dc116421db\",\"subtype\":\"Figure\",\"type\":\"Plot\"},{\"attributes\":{\"palette\":[\"#ffffff\",\"#f0f0f0\",\"#d9d9d9\",\"#bdbdbd\",\"#969696\",\"#737373\",\"#525252\",\"#252525\",\"#000000\"]},\"id\":\"ea3ea41f-dcec-4e52-abb3-c4ab4df06cc0\",\"type\":\"LinearColorMapper\"},{\"attributes\":{\"bottom_units\":\"screen\",\"fill_alpha\":{\"value\":0.5},\"fill_color\":{\"value\":\"lightgrey\"},\"left_units\":\"screen\",\"level\":\"overlay\",\"line_alpha\":{\"value\":1.0},\"line_color\":{\"value\":\"black\"},\"line_dash\":[4,4],\"line_width\":{\"value\":2},\"plot\":null,\"render_mode\":\"css\",\"right_units\":\"screen\",\"top_units\":\"screen\"},\"id\":\"fd32113b-967b-41b0-b532-d1e2b299f664\",\"type\":\"BoxAnnotation\"},{\"attributes\":{\"data_source\":{\"id\":\"a7dca38d-9955-45ac-b43c-85fa072a4900\",\"type\":\"ColumnDataSource\"},\"glyph\":{\"id\":\"2deec9d1-c265-4cde-8cde-25e8f47ad5aa\",\"type\":\"Quad\"},\"hover_glyph\":null,\"nonselection_glyph\":{\"id\":\"6c7fcf67-68c7-4d19-b9af-b5fe38d5f84b\",\"type\":\"Quad\"},\"selection_glyph\":null},\"id\":\"63bb9fa9-f3b6-447c-9612-46976fbab597\",\"type\":\"GlyphRenderer\"},{\"attributes\":{\"active_drag\":\"auto\",\"active_scroll\":\"auto\",\"active_tap\":\"auto\",\"tools\":[{\"id\":\"98689fb3-feca-4e31-b507-5323a8452c7a\",\"type\":\"PanTool\"},{\"id\":\"f852f5bf-1511-4b5e-a464-0ccc0a351218\",\"type\":\"WheelZoomTool\"},{\"id\":\"08a770c0-a3d8-40ed-b9f7-0575a66149a1\",\"type\":\"BoxZoomTool\"},{\"id\":\"fd1506dc-0eae-4fd8-ba43-5d7034fbbaa7\",\"type\":\"SaveTool\"},{\"id\":\"e1b28642-75b5-4ee1-9108-625065eda586\",\"type\":\"ResetTool\"},{\"id\":\"71897fe4-a9f0-4704-8110-7be6b8c865c4\",\"type\":\"HelpTool\"}]},\"id\":\"436e4edc-20ed-41d8-8a53-591a2dfcd416\",\"type\":\"Toolbar\"},{\"attributes\":{\"axis_line_color\":{\"value\":null},\"formatter\":{\"id\":\"ef10fa49-cf61-4a53-8498-0d6a94ab1a6f\",\"type\":\"BasicTickFormatter\"},\"major_label_text_color\":{\"value\":null},\"major_tick_in\":0,\"major_tick_out\":0,\"minor_tick_out\":0,\"plot\":{\"id\":\"1b3a350c-4bee-498e-84b4-c5dc116421db\",\"subtype\":\"Figure\",\"type\":\"Plot\"},\"ticker\":{\"id\":\"cfd4bda0-560b-4e26-a53a-461b98e6445e\",\"type\":\"BasicTicker\"}},\"id\":\"904c8720-d981-4284-8004-d503553d3b3b\",\"type\":\"LinearAxis\"},{\"attributes\":{},\"id\":\"41c4a16b-3c3f-4e33-9657-7e6927ef4b5d\",\"type\":\"ToolEvents\"}],\"root_ids\":[\"1b3a350c-4bee-498e-84b4-c5dc116421db\"]},\"title\":\"Bokeh Application\",\"version\":\"0.12.4\"}};\n",
       "            var render_items = [{\"docid\":\"daf5069f-3f72-485a-bc18-51859988065a\",\"elementid\":\"f7d63831-20b1-460a-99eb-83ec4c17518c\",\"modelid\":\"1b3a350c-4bee-498e-84b4-c5dc116421db\"}];\n",
       "            \n",
       "            Bokeh.embed.embed_items(docs_json, render_items);\n",
       "          };\n",
       "          if (document.readyState != \"loading\") fn();\n",
       "          else document.addEventListener(\"DOMContentLoaded\", fn);\n",
       "        })();\n",
       "      },\n",
       "      function(Bokeh) {\n",
       "      }\n",
       "    ];\n",
       "  \n",
       "    function run_inline_js() {\n",
       "      \n",
       "      if ((window.Bokeh !== undefined) || (force === true)) {\n",
       "        for (var i = 0; i < inline_js.length; i++) {\n",
       "          inline_js[i](window.Bokeh);\n",
       "        }if (force === true) {\n",
       "          display_loaded();\n",
       "        }} else if (Date.now() < window._bokeh_timeout) {\n",
       "        setTimeout(run_inline_js, 100);\n",
       "      } else if (!window._bokeh_failed_load) {\n",
       "        console.log(\"Bokeh: BokehJS failed to load within specified timeout.\");\n",
       "        window._bokeh_failed_load = true;\n",
       "      } else if (force !== true) {\n",
       "        var cell = $(document.getElementById(\"f7d63831-20b1-460a-99eb-83ec4c17518c\")).parents('.cell').data().cell;\n",
       "        cell.output_area.append_execute_result(NB_LOAD_WARNING)\n",
       "      }\n",
       "  \n",
       "    }\n",
       "  \n",
       "    if (window._bokeh_is_loading === 0) {\n",
       "      console.log(\"Bokeh: BokehJS loaded, going straight to plotting\");\n",
       "      run_inline_js();\n",
       "    } else {\n",
       "      load_libs(js_urls, function() {\n",
       "        console.log(\"Bokeh: BokehJS plotting callback run at\", now());\n",
       "        run_inline_js();\n",
       "      });\n",
       "    }\n",
       "  }(this));\n",
       "</script>"
      ]
     },
     "metadata": {},
     "output_type": "display_data"
    }
   ],
   "source": [
    "from bokeh.palettes import Greys9\n",
    "from bokeh.models.ranges import Range1d\n",
    "import addutils.palette as pal\n",
    "import addutils.imagegrid as ig\n",
    "\n",
    "digits = datasets.load_digits()\n",
    "\n",
    "# plot the digits: each image is 8x8 pixels\n",
    "images = [ digits.images[i][::-1, :] for i in range(40) ]\n",
    "txt =    [ str(i) for i in range(10) ] * 4\n",
    "\n",
    "fig = ig.imagegrid_figure(figure_plot_width=760, figure_plot_height=100,\n",
    "                          figure_title=None,\n",
    "                          images=images, grid_size=(20, 2), \n",
    "                          text=txt, text_font_size='9pt', text_color='red',\n",
    "                          palette=Greys9[::-1], padding=0.2)\n",
    "bk.show(fig)"
   ]
  },
  {
   "cell_type": "markdown",
   "metadata": {},
   "source": [
    "### 4.3 Example: the \"Blob\" Generated Dataset"
   ]
  },
  {
   "cell_type": "code",
   "execution_count": 17,
   "metadata": {
    "collapsed": true
   },
   "outputs": [],
   "source": [
    "import seaborn as sns\n",
    "cat_colors = list(map(pal.to_hex, sns.color_palette('Paired', 7)))"
   ]
  },
  {
   "cell_type": "code",
   "execution_count": 18,
   "metadata": {
    "collapsed": false
   },
   "outputs": [
    {
     "data": {
      "text/html": [
       "\n",
       "\n",
       "    <div class=\"bk-root\">\n",
       "        <div class=\"bk-plotdiv\" id=\"79653585-a3a4-4aab-86b6-77b21ebd56b4\"></div>\n",
       "    </div>\n",
       "<script type=\"text/javascript\">\n",
       "  \n",
       "  (function(global) {\n",
       "    function now() {\n",
       "      return new Date();\n",
       "    }\n",
       "  \n",
       "    var force = false;\n",
       "  \n",
       "    if (typeof (window._bokeh_onload_callbacks) === \"undefined\" || force === true) {\n",
       "      window._bokeh_onload_callbacks = [];\n",
       "      window._bokeh_is_loading = undefined;\n",
       "    }\n",
       "  \n",
       "  \n",
       "    \n",
       "    if (typeof (window._bokeh_timeout) === \"undefined\" || force === true) {\n",
       "      window._bokeh_timeout = Date.now() + 0;\n",
       "      window._bokeh_failed_load = false;\n",
       "    }\n",
       "  \n",
       "    var NB_LOAD_WARNING = {'data': {'text/html':\n",
       "       \"<div style='background-color: #fdd'>\\n\"+\n",
       "       \"<p>\\n\"+\n",
       "       \"BokehJS does not appear to have successfully loaded. If loading BokehJS from CDN, this \\n\"+\n",
       "       \"may be due to a slow or bad network connection. Possible fixes:\\n\"+\n",
       "       \"</p>\\n\"+\n",
       "       \"<ul>\\n\"+\n",
       "       \"<li>re-rerun `output_notebook()` to attempt to load from CDN again, or</li>\\n\"+\n",
       "       \"<li>use INLINE resources instead, as so:</li>\\n\"+\n",
       "       \"</ul>\\n\"+\n",
       "       \"<code>\\n\"+\n",
       "       \"from bokeh.resources import INLINE\\n\"+\n",
       "       \"output_notebook(resources=INLINE)\\n\"+\n",
       "       \"</code>\\n\"+\n",
       "       \"</div>\"}};\n",
       "  \n",
       "    function display_loaded() {\n",
       "      if (window.Bokeh !== undefined) {\n",
       "        document.getElementById(\"79653585-a3a4-4aab-86b6-77b21ebd56b4\").textContent = \"BokehJS successfully loaded.\";\n",
       "      } else if (Date.now() < window._bokeh_timeout) {\n",
       "        setTimeout(display_loaded, 100)\n",
       "      }\n",
       "    }\n",
       "  \n",
       "    function run_callbacks() {\n",
       "      window._bokeh_onload_callbacks.forEach(function(callback) { callback() });\n",
       "      delete window._bokeh_onload_callbacks\n",
       "      console.info(\"Bokeh: all callbacks have finished\");\n",
       "    }\n",
       "  \n",
       "    function load_libs(js_urls, callback) {\n",
       "      window._bokeh_onload_callbacks.push(callback);\n",
       "      if (window._bokeh_is_loading > 0) {\n",
       "        console.log(\"Bokeh: BokehJS is being loaded, scheduling callback at\", now());\n",
       "        return null;\n",
       "      }\n",
       "      if (js_urls == null || js_urls.length === 0) {\n",
       "        run_callbacks();\n",
       "        return null;\n",
       "      }\n",
       "      console.log(\"Bokeh: BokehJS not loaded, scheduling load and callback at\", now());\n",
       "      window._bokeh_is_loading = js_urls.length;\n",
       "      for (var i = 0; i < js_urls.length; i++) {\n",
       "        var url = js_urls[i];\n",
       "        var s = document.createElement('script');\n",
       "        s.src = url;\n",
       "        s.async = false;\n",
       "        s.onreadystatechange = s.onload = function() {\n",
       "          window._bokeh_is_loading--;\n",
       "          if (window._bokeh_is_loading === 0) {\n",
       "            console.log(\"Bokeh: all BokehJS libraries loaded\");\n",
       "            run_callbacks()\n",
       "          }\n",
       "        };\n",
       "        s.onerror = function() {\n",
       "          console.warn(\"failed to load library \" + url);\n",
       "        };\n",
       "        console.log(\"Bokeh: injecting script tag for BokehJS library: \", url);\n",
       "        document.getElementsByTagName(\"head\")[0].appendChild(s);\n",
       "      }\n",
       "    };var element = document.getElementById(\"79653585-a3a4-4aab-86b6-77b21ebd56b4\");\n",
       "    if (element == null) {\n",
       "      console.log(\"Bokeh: ERROR: autoload.js configured with elementid '79653585-a3a4-4aab-86b6-77b21ebd56b4' but no matching script tag was found. \")\n",
       "      return false;\n",
       "    }\n",
       "  \n",
       "    var js_urls = [];\n",
       "  \n",
       "    var inline_js = [\n",
       "      function(Bokeh) {\n",
       "        (function() {\n",
       "          var fn = function() {\n",
       "            var docs_json = {\"5e6c0654-9965-4e91-965b-7f78e623236c\":{\"roots\":{\"references\":[{\"attributes\":{},\"id\":\"32072209-f5f6-4cc0-a55a-9fd6f9126ca3\",\"type\":\"BasicTickFormatter\"},{\"attributes\":{\"callback\":null},\"id\":\"d7701a46-a977-4160-867e-d9bf121e1b25\",\"type\":\"DataRange1d\"},{\"attributes\":{\"active_drag\":\"auto\",\"active_scroll\":\"auto\",\"active_tap\":\"auto\",\"tools\":[{\"id\":\"8be0ebfb-8ea3-4ae9-bd85-6fddeef451ba\",\"type\":\"PanTool\"},{\"id\":\"ae7be12a-37af-4e12-a5d1-25a533535e51\",\"type\":\"WheelZoomTool\"},{\"id\":\"9571d57a-aa1a-450f-ad70-2f5e42f383b2\",\"type\":\"BoxZoomTool\"},{\"id\":\"57833b20-87c8-4ddc-91d8-77f3c043e6af\",\"type\":\"SaveTool\"},{\"id\":\"57143599-212b-401b-8280-e5b9ddd610a4\",\"type\":\"ResetTool\"},{\"id\":\"c00fa378-7506-43c8-a8d5-4eb4faf25544\",\"type\":\"HelpTool\"}]},\"id\":\"7499ad0a-93c0-4854-890f-c7ff0e7153e5\",\"type\":\"Toolbar\"},{\"attributes\":{\"bottom_units\":\"screen\",\"fill_alpha\":{\"value\":0.5},\"fill_color\":{\"value\":\"lightgrey\"},\"left_units\":\"screen\",\"level\":\"overlay\",\"line_alpha\":{\"value\":1.0},\"line_color\":{\"value\":\"black\"},\"line_dash\":[4,4],\"line_width\":{\"value\":2},\"plot\":null,\"render_mode\":\"css\",\"right_units\":\"screen\",\"top_units\":\"screen\"},\"id\":\"69bbf753-c930-484b-ad9a-678f2f8d3bb3\",\"type\":\"BoxAnnotation\"},{\"attributes\":{\"plot\":{\"id\":\"bbca83a9-df87-453b-a2fa-7735ae992705\",\"subtype\":\"Figure\",\"type\":\"Plot\"}},\"id\":\"57833b20-87c8-4ddc-91d8-77f3c043e6af\",\"type\":\"SaveTool\"},{\"attributes\":{\"plot\":{\"id\":\"bbca83a9-df87-453b-a2fa-7735ae992705\",\"subtype\":\"Figure\",\"type\":\"Plot\"}},\"id\":\"8be0ebfb-8ea3-4ae9-bd85-6fddeef451ba\",\"type\":\"PanTool\"},{\"attributes\":{\"callback\":null},\"id\":\"7957f460-94a4-4918-b749-6e6c37bb8ef2\",\"type\":\"DataRange1d\"},{\"attributes\":{\"plot\":{\"id\":\"bbca83a9-df87-453b-a2fa-7735ae992705\",\"subtype\":\"Figure\",\"type\":\"Plot\"}},\"id\":\"57143599-212b-401b-8280-e5b9ddd610a4\",\"type\":\"ResetTool\"},{\"attributes\":{\"fill_alpha\":{\"value\":0.1},\"fill_color\":{\"value\":\"#1f77b4\"},\"line_alpha\":{\"value\":0.1},\"line_color\":{\"value\":\"#1f77b4\"},\"size\":{\"units\":\"screen\",\"value\":8},\"x\":{\"field\":\"x\"},\"y\":{\"field\":\"y\"}},\"id\":\"284d69e6-961d-4879-a35e-0b732f113214\",\"type\":\"Circle\"},{\"attributes\":{\"plot\":{\"id\":\"bbca83a9-df87-453b-a2fa-7735ae992705\",\"subtype\":\"Figure\",\"type\":\"Plot\"},\"ticker\":{\"id\":\"116aa2d1-5591-4d4b-ad9a-a9cbafd8588c\",\"type\":\"BasicTicker\"}},\"id\":\"d7132115-2381-478c-a000-1b71d44c65f7\",\"type\":\"Grid\"},{\"attributes\":{},\"id\":\"b5aa3a2d-3a2a-4138-b9e5-cfbf813e3259\",\"type\":\"ToolEvents\"},{\"attributes\":{\"formatter\":{\"id\":\"32072209-f5f6-4cc0-a55a-9fd6f9126ca3\",\"type\":\"BasicTickFormatter\"},\"plot\":{\"id\":\"bbca83a9-df87-453b-a2fa-7735ae992705\",\"subtype\":\"Figure\",\"type\":\"Plot\"},\"ticker\":{\"id\":\"2874cd63-b770-4875-9788-b05234ea33d1\",\"type\":\"BasicTicker\"}},\"id\":\"be288992-2261-4cae-bcae-ca202982d65e\",\"type\":\"LinearAxis\"},{\"attributes\":{\"formatter\":{\"id\":\"fe72a306-2658-46db-9d10-4d44e1c126cc\",\"type\":\"BasicTickFormatter\"},\"plot\":{\"id\":\"bbca83a9-df87-453b-a2fa-7735ae992705\",\"subtype\":\"Figure\",\"type\":\"Plot\"},\"ticker\":{\"id\":\"116aa2d1-5591-4d4b-ad9a-a9cbafd8588c\",\"type\":\"BasicTicker\"}},\"id\":\"7389bff7-822e-4c01-b124-43f17f29fdbc\",\"type\":\"LinearAxis\"},{\"attributes\":{\"plot\":{\"id\":\"bbca83a9-df87-453b-a2fa-7735ae992705\",\"subtype\":\"Figure\",\"type\":\"Plot\"}},\"id\":\"c00fa378-7506-43c8-a8d5-4eb4faf25544\",\"type\":\"HelpTool\"},{\"attributes\":{},\"id\":\"2874cd63-b770-4875-9788-b05234ea33d1\",\"type\":\"BasicTicker\"},{\"attributes\":{\"data_source\":{\"id\":\"f95bb76b-6843-486d-81a5-c46f9d131693\",\"type\":\"ColumnDataSource\"},\"glyph\":{\"id\":\"8c27d359-419a-4ee8-afc6-3251946304cd\",\"type\":\"Circle\"},\"hover_glyph\":null,\"nonselection_glyph\":{\"id\":\"284d69e6-961d-4879-a35e-0b732f113214\",\"type\":\"Circle\"},\"selection_glyph\":null},\"id\":\"bb101a00-688a-4662-9084-f247f1f301df\",\"type\":\"GlyphRenderer\"},{\"attributes\":{\"fill_color\":{\"field\":\"fill_color\"},\"line_alpha\":{\"value\":0.5},\"size\":{\"units\":\"screen\",\"value\":8},\"x\":{\"field\":\"x\"},\"y\":{\"field\":\"y\"}},\"id\":\"8c27d359-419a-4ee8-afc6-3251946304cd\",\"type\":\"Circle\"},{\"attributes\":{\"dimension\":1,\"plot\":{\"id\":\"bbca83a9-df87-453b-a2fa-7735ae992705\",\"subtype\":\"Figure\",\"type\":\"Plot\"},\"ticker\":{\"id\":\"2874cd63-b770-4875-9788-b05234ea33d1\",\"type\":\"BasicTicker\"}},\"id\":\"b5d41f6c-95ec-425b-abc2-83abd4c970e1\",\"type\":\"Grid\"},{\"attributes\":{\"overlay\":{\"id\":\"69bbf753-c930-484b-ad9a-678f2f8d3bb3\",\"type\":\"BoxAnnotation\"},\"plot\":{\"id\":\"bbca83a9-df87-453b-a2fa-7735ae992705\",\"subtype\":\"Figure\",\"type\":\"Plot\"}},\"id\":\"9571d57a-aa1a-450f-ad70-2f5e42f383b2\",\"type\":\"BoxZoomTool\"},{\"attributes\":{\"plot\":{\"id\":\"bbca83a9-df87-453b-a2fa-7735ae992705\",\"subtype\":\"Figure\",\"type\":\"Plot\"}},\"id\":\"ae7be12a-37af-4e12-a5d1-25a533535e51\",\"type\":\"WheelZoomTool\"},{\"attributes\":{},\"id\":\"fe72a306-2658-46db-9d10-4d44e1c126cc\",\"type\":\"BasicTickFormatter\"},{\"attributes\":{\"below\":[{\"id\":\"7389bff7-822e-4c01-b124-43f17f29fdbc\",\"type\":\"LinearAxis\"}],\"left\":[{\"id\":\"be288992-2261-4cae-bcae-ca202982d65e\",\"type\":\"LinearAxis\"}],\"renderers\":[{\"id\":\"7389bff7-822e-4c01-b124-43f17f29fdbc\",\"type\":\"LinearAxis\"},{\"id\":\"d7132115-2381-478c-a000-1b71d44c65f7\",\"type\":\"Grid\"},{\"id\":\"be288992-2261-4cae-bcae-ca202982d65e\",\"type\":\"LinearAxis\"},{\"id\":\"b5d41f6c-95ec-425b-abc2-83abd4c970e1\",\"type\":\"Grid\"},{\"id\":\"69bbf753-c930-484b-ad9a-678f2f8d3bb3\",\"type\":\"BoxAnnotation\"},{\"id\":\"bb101a00-688a-4662-9084-f247f1f301df\",\"type\":\"GlyphRenderer\"}],\"title\":null,\"tool_events\":{\"id\":\"b5aa3a2d-3a2a-4138-b9e5-cfbf813e3259\",\"type\":\"ToolEvents\"},\"toolbar\":{\"id\":\"7499ad0a-93c0-4854-890f-c7ff0e7153e5\",\"type\":\"Toolbar\"},\"x_range\":{\"id\":\"d7701a46-a977-4160-867e-d9bf121e1b25\",\"type\":\"DataRange1d\"},\"y_range\":{\"id\":\"7957f460-94a4-4918-b749-6e6c37bb8ef2\",\"type\":\"DataRange1d\"}},\"id\":\"bbca83a9-df87-453b-a2fa-7735ae992705\",\"subtype\":\"Figure\",\"type\":\"Plot\"},{\"attributes\":{},\"id\":\"116aa2d1-5591-4d4b-ad9a-a9cbafd8588c\",\"type\":\"BasicTicker\"},{\"attributes\":{\"callback\":null,\"column_names\":[\"x\",\"y\",\"fill_color\"],\"data\":{\"fill_color\":[\"#a6cee3\",\"#b2df8a\",\"#b2df8a\",\"#b2df8a\",\"#a6cee3\",\"#e31a1c\",\"#1f78b4\",\"#e31a1c\",\"#33a02c\",\"#fdbf6f\",\"#fb9a99\",\"#1f78b4\",\"#1f78b4\",\"#fdbf6f\",\"#b2df8a\",\"#fdbf6f\",\"#fb9a99\",\"#33a02c\",\"#b2df8a\",\"#b2df8a\",\"#1f78b4\",\"#fdbf6f\",\"#fdbf6f\",\"#fb9a99\",\"#1f78b4\",\"#33a02c\",\"#1f78b4\",\"#33a02c\",\"#1f78b4\",\"#a6cee3\",\"#1f78b4\",\"#a6cee3\",\"#fdbf6f\",\"#e31a1c\",\"#b2df8a\",\"#33a02c\",\"#fb9a99\",\"#b2df8a\",\"#e31a1c\",\"#1f78b4\",\"#fb9a99\",\"#1f78b4\",\"#1f78b4\",\"#fdbf6f\",\"#a6cee3\",\"#e31a1c\",\"#b2df8a\",\"#a6cee3\",\"#b2df8a\",\"#fb9a99\",\"#1f78b4\",\"#a6cee3\",\"#33a02c\",\"#1f78b4\",\"#a6cee3\",\"#b2df8a\",\"#33a02c\",\"#a6cee3\",\"#a6cee3\",\"#a6cee3\",\"#33a02c\",\"#e31a1c\",\"#a6cee3\",\"#b2df8a\",\"#e31a1c\",\"#fb9a99\",\"#1f78b4\",\"#a6cee3\",\"#fb9a99\",\"#fdbf6f\",\"#33a02c\",\"#fdbf6f\",\"#33a02c\",\"#1f78b4\",\"#fb9a99\",\"#33a02c\",\"#33a02c\",\"#fdbf6f\",\"#a6cee3\",\"#fdbf6f\",\"#1f78b4\",\"#e31a1c\",\"#fb9a99\",\"#e31a1c\",\"#fb9a99\",\"#33a02c\",\"#1f78b4\",\"#1f78b4\",\"#b2df8a\",\"#fdbf6f\",\"#a6cee3\",\"#fb9a99\",\"#fdbf6f\",\"#e31a1c\",\"#33a02c\",\"#a6cee3\",\"#33a02c\",\"#fb9a99\",\"#33a02c\",\"#b2df8a\",\"#b2df8a\",\"#e31a1c\",\"#1f78b4\",\"#fb9a99\",\"#fdbf6f\",\"#e31a1c\",\"#fdbf6f\",\"#fdbf6f\",\"#b2df8a\",\"#e31a1c\",\"#a6cee3\",\"#b2df8a\",\"#e31a1c\",\"#a6cee3\",\"#fb9a99\",\"#33a02c\",\"#1f78b4\",\"#b2df8a\",\"#e31a1c\",\"#b2df8a\",\"#b2df8a\",\"#fdbf6f\",\"#e31a1c\",\"#b2df8a\",\"#33a02c\",\"#b2df8a\",\"#fdbf6f\",\"#e31a1c\",\"#1f78b4\",\"#b2df8a\",\"#fb9a99\",\"#e31a1c\",\"#e31a1c\",\"#33a02c\",\"#33a02c\",\"#b2df8a\",\"#a6cee3\",\"#b2df8a\",\"#a6cee3\",\"#33a02c\",\"#fb9a99\",\"#b2df8a\",\"#fdbf6f\",\"#33a02c\",\"#fdbf6f\",\"#33a02c\",\"#e31a1c\",\"#b2df8a\",\"#1f78b4\",\"#fb9a99\",\"#a6cee3\",\"#33a02c\",\"#b2df8a\",\"#a6cee3\",\"#b2df8a\",\"#33a02c\",\"#33a02c\",\"#fb9a99\",\"#33a02c\",\"#fb9a99\",\"#1f78b4\",\"#b2df8a\",\"#1f78b4\",\"#b2df8a\",\"#a6cee3\",\"#1f78b4\",\"#1f78b4\",\"#e31a1c\",\"#33a02c\",\"#b2df8a\",\"#b2df8a\",\"#a6cee3\",\"#33a02c\",\"#fb9a99\",\"#a6cee3\",\"#fb9a99\",\"#e31a1c\",\"#e31a1c\",\"#e31a1c\",\"#b2df8a\",\"#b2df8a\",\"#1f78b4\",\"#fb9a99\",\"#fb9a99\",\"#33a02c\",\"#33a02c\",\"#fdbf6f\",\"#33a02c\",\"#a6cee3\",\"#e31a1c\",\"#e31a1c\",\"#fdbf6f\",\"#fb9a99\",\"#fb9a99\",\"#1f78b4\",\"#1f78b4\",\"#b2df8a\",\"#b2df8a\",\"#b2df8a\",\"#b2df8a\",\"#fb9a99\",\"#fdbf6f\",\"#fb9a99\",\"#33a02c\",\"#b2df8a\",\"#fb9a99\",\"#1f78b4\",\"#b2df8a\",\"#e31a1c\",\"#a6cee3\",\"#33a02c\",\"#fdbf6f\",\"#fb9a99\",\"#1f78b4\",\"#33a02c\",\"#33a02c\",\"#fb9a99\",\"#b2df8a\",\"#1f78b4\",\"#33a02c\",\"#fdbf6f\",\"#fb9a99\",\"#b2df8a\",\"#b2df8a\",\"#a6cee3\",\"#e31a1c\",\"#a6cee3\",\"#a6cee3\",\"#33a02c\",\"#e31a1c\",\"#fb9a99\",\"#e31a1c\",\"#fdbf6f\",\"#b2df8a\",\"#b2df8a\",\"#33a02c\",\"#b2df8a\",\"#33a02c\",\"#b2df8a\",\"#fdbf6f\",\"#e31a1c\",\"#fb9a99\",\"#fdbf6f\",\"#33a02c\",\"#a6cee3\",\"#b2df8a\",\"#33a02c\",\"#1f78b4\",\"#33a02c\",\"#fb9a99\",\"#fdbf6f\",\"#fdbf6f\",\"#1f78b4\",\"#a6cee3\",\"#fdbf6f\",\"#fb9a99\",\"#33a02c\",\"#fdbf6f\",\"#fdbf6f\",\"#e31a1c\",\"#33a02c\",\"#b2df8a\",\"#b2df8a\",\"#33a02c\",\"#e31a1c\",\"#e31a1c\",\"#a6cee3\",\"#e31a1c\",\"#b2df8a\",\"#fdbf6f\",\"#33a02c\",\"#fdbf6f\",\"#1f78b4\",\"#a6cee3\",\"#a6cee3\",\"#b2df8a\",\"#fdbf6f\",\"#e31a1c\",\"#1f78b4\",\"#b2df8a\",\"#b2df8a\",\"#e31a1c\",\"#e31a1c\",\"#a6cee3\",\"#b2df8a\",\"#b2df8a\",\"#a6cee3\",\"#b2df8a\",\"#fb9a99\",\"#a6cee3\",\"#a6cee3\",\"#a6cee3\",\"#1f78b4\",\"#a6cee3\",\"#b2df8a\",\"#33a02c\",\"#b2df8a\",\"#1f78b4\",\"#fdbf6f\",\"#a6cee3\",\"#fb9a99\",\"#fb9a99\",\"#1f78b4\",\"#e31a1c\",\"#e31a1c\",\"#fb9a99\",\"#b2df8a\",\"#e31a1c\",\"#fdbf6f\",\"#e31a1c\",\"#b2df8a\",\"#e31a1c\",\"#b2df8a\",\"#fb9a99\",\"#fb9a99\",\"#1f78b4\",\"#a6cee3\",\"#fb9a99\",\"#fdbf6f\",\"#fdbf6f\",\"#e31a1c\",\"#fb9a99\",\"#fb9a99\",\"#fdbf6f\",\"#1f78b4\",\"#fb9a99\",\"#a6cee3\",\"#fdbf6f\",\"#fb9a99\",\"#fb9a99\",\"#a6cee3\",\"#b2df8a\",\"#1f78b4\",\"#a6cee3\",\"#b2df8a\",\"#b2df8a\",\"#1f78b4\",\"#1f78b4\",\"#fb9a99\",\"#b2df8a\",\"#33a02c\",\"#e31a1c\",\"#fb9a99\",\"#a6cee3\",\"#1f78b4\",\"#a6cee3\",\"#fdbf6f\",\"#1f78b4\",\"#a6cee3\",\"#1f78b4\",\"#fdbf6f\",\"#a6cee3\",\"#1f78b4\",\"#33a02c\",\"#1f78b4\",\"#fdbf6f\",\"#e31a1c\",\"#33a02c\",\"#fdbf6f\",\"#33a02c\",\"#e31a1c\",\"#33a02c\",\"#fb9a99\",\"#33a02c\",\"#33a02c\",\"#fdbf6f\",\"#fdbf6f\",\"#b2df8a\",\"#fb9a99\",\"#33a02c\",\"#1f78b4\",\"#1f78b4\",\"#fdbf6f\",\"#fb9a99\",\"#fdbf6f\",\"#fb9a99\",\"#1f78b4\",\"#e31a1c\",\"#a6cee3\",\"#fb9a99\",\"#e31a1c\",\"#e31a1c\",\"#a6cee3\",\"#1f78b4\",\"#fb9a99\",\"#1f78b4\",\"#fdbf6f\",\"#a6cee3\",\"#a6cee3\",\"#33a02c\",\"#a6cee3\",\"#fdbf6f\",\"#a6cee3\",\"#e31a1c\",\"#1f78b4\",\"#e31a1c\",\"#e31a1c\",\"#33a02c\",\"#fb9a99\",\"#e31a1c\",\"#a6cee3\",\"#33a02c\",\"#33a02c\",\"#a6cee3\",\"#e31a1c\",\"#fb9a99\",\"#1f78b4\",\"#e31a1c\",\"#fb9a99\",\"#fdbf6f\",\"#b2df8a\",\"#a6cee3\",\"#e31a1c\",\"#fb9a99\",\"#1f78b4\",\"#1f78b4\",\"#fdbf6f\",\"#33a02c\",\"#33a02c\",\"#fb9a99\",\"#b2df8a\",\"#b2df8a\",\"#fb9a99\",\"#e31a1c\",\"#33a02c\",\"#b2df8a\",\"#b2df8a\",\"#1f78b4\",\"#a6cee3\",\"#e31a1c\",\"#b2df8a\",\"#1f78b4\",\"#1f78b4\",\"#a6cee3\",\"#fdbf6f\",\"#33a02c\",\"#a6cee3\",\"#b2df8a\",\"#fdbf6f\",\"#fb9a99\",\"#fdbf6f\",\"#33a02c\",\"#33a02c\",\"#a6cee3\",\"#b2df8a\",\"#fb9a99\",\"#a6cee3\",\"#a6cee3\",\"#fdbf6f\",\"#33a02c\",\"#1f78b4\",\"#fb9a99\",\"#fb9a99\",\"#b2df8a\",\"#b2df8a\",\"#fdbf6f\",\"#a6cee3\",\"#fdbf6f\",\"#fdbf6f\",\"#fdbf6f\",\"#e31a1c\",\"#a6cee3\",\"#fb9a99\",\"#fb9a99\",\"#fb9a99\",\"#e31a1c\",\"#33a02c\",\"#e31a1c\",\"#b2df8a\",\"#33a02c\",\"#fdbf6f\",\"#1f78b4\",\"#1f78b4\",\"#1f78b4\",\"#e31a1c\",\"#1f78b4\",\"#e31a1c\",\"#e31a1c\",\"#fdbf6f\",\"#1f78b4\",\"#1f78b4\",\"#33a02c\",\"#fb9a99\",\"#fb9a99\",\"#33a02c\",\"#33a02c\",\"#b2df8a\",\"#fb9a99\",\"#fdbf6f\",\"#33a02c\",\"#b2df8a\",\"#1f78b4\",\"#e31a1c\",\"#fb9a99\",\"#a6cee3\",\"#1f78b4\",\"#1f78b4\",\"#33a02c\",\"#b2df8a\",\"#fb9a99\",\"#b2df8a\",\"#e31a1c\",\"#a6cee3\",\"#fdbf6f\",\"#e31a1c\",\"#a6cee3\",\"#e31a1c\",\"#fb9a99\",\"#fb9a99\",\"#b2df8a\",\"#a6cee3\",\"#1f78b4\",\"#a6cee3\",\"#33a02c\",\"#a6cee3\",\"#b2df8a\",\"#a6cee3\",\"#1f78b4\",\"#a6cee3\",\"#1f78b4\",\"#1f78b4\",\"#fdbf6f\",\"#b2df8a\",\"#e31a1c\",\"#fdbf6f\",\"#e31a1c\",\"#33a02c\",\"#1f78b4\",\"#b2df8a\",\"#b2df8a\",\"#b2df8a\",\"#fdbf6f\",\"#b2df8a\",\"#33a02c\",\"#e31a1c\",\"#a6cee3\",\"#b2df8a\",\"#fdbf6f\",\"#a6cee3\",\"#fdbf6f\",\"#fdbf6f\",\"#e31a1c\",\"#a6cee3\",\"#a6cee3\",\"#fdbf6f\",\"#fb9a99\",\"#e31a1c\",\"#a6cee3\",\"#e31a1c\",\"#1f78b4\",\"#fdbf6f\",\"#e31a1c\",\"#33a02c\",\"#e31a1c\",\"#a6cee3\",\"#1f78b4\",\"#b2df8a\",\"#fb9a99\",\"#1f78b4\",\"#e31a1c\",\"#e31a1c\",\"#1f78b4\",\"#1f78b4\",\"#a6cee3\",\"#b2df8a\",\"#fb9a99\",\"#e31a1c\",\"#fb9a99\",\"#a6cee3\",\"#1f78b4\",\"#fb9a99\",\"#fb9a99\",\"#a6cee3\",\"#e31a1c\",\"#a6cee3\",\"#b2df8a\",\"#33a02c\",\"#1f78b4\",\"#b2df8a\",\"#fb9a99\",\"#33a02c\",\"#33a02c\",\"#e31a1c\",\"#b2df8a\",\"#a6cee3\",\"#fdbf6f\",\"#a6cee3\",\"#e31a1c\",\"#a6cee3\",\"#b2df8a\",\"#fb9a99\",\"#e31a1c\",\"#fdbf6f\",\"#fb9a99\",\"#33a02c\",\"#33a02c\",\"#33a02c\",\"#b2df8a\",\"#1f78b4\",\"#1f78b4\",\"#1f78b4\",\"#a6cee3\",\"#33a02c\",\"#b2df8a\",\"#33a02c\",\"#e31a1c\",\"#33a02c\",\"#33a02c\",\"#e31a1c\",\"#e31a1c\",\"#a6cee3\",\"#b2df8a\",\"#a6cee3\",\"#fb9a99\",\"#fb9a99\",\"#1f78b4\",\"#e31a1c\",\"#a6cee3\",\"#e31a1c\",\"#fb9a99\",\"#e31a1c\",\"#a6cee3\",\"#fdbf6f\",\"#e31a1c\",\"#fb9a99\",\"#fdbf6f\",\"#fdbf6f\",\"#33a02c\",\"#e31a1c\",\"#a6cee3\",\"#b2df8a\",\"#e31a1c\",\"#b2df8a\",\"#1f78b4\",\"#a6cee3\",\"#fdbf6f\",\"#a6cee3\",\"#a6cee3\",\"#e31a1c\",\"#b2df8a\",\"#1f78b4\",\"#e31a1c\",\"#b2df8a\",\"#fdbf6f\",\"#fb9a99\",\"#fb9a99\",\"#fdbf6f\",\"#fdbf6f\",\"#fdbf6f\",\"#e31a1c\",\"#fdbf6f\",\"#fb9a99\",\"#b2df8a\",\"#1f78b4\",\"#e31a1c\",\"#1f78b4\",\"#b2df8a\",\"#b2df8a\",\"#1f78b4\",\"#33a02c\",\"#fdbf6f\",\"#fb9a99\",\"#a6cee3\",\"#e31a1c\",\"#b2df8a\",\"#fb9a99\",\"#e31a1c\",\"#b2df8a\",\"#b2df8a\",\"#33a02c\",\"#b2df8a\",\"#e31a1c\",\"#33a02c\",\"#b2df8a\",\"#fdbf6f\",\"#fdbf6f\",\"#b2df8a\",\"#33a02c\",\"#33a02c\",\"#fdbf6f\",\"#a6cee3\",\"#b2df8a\",\"#fdbf6f\",\"#1f78b4\",\"#fb9a99\",\"#33a02c\",\"#fdbf6f\",\"#e31a1c\",\"#1f78b4\",\"#fb9a99\",\"#1f78b4\",\"#fdbf6f\",\"#fdbf6f\",\"#fdbf6f\",\"#33a02c\",\"#33a02c\",\"#b2df8a\",\"#fb9a99\",\"#e31a1c\",\"#fb9a99\",\"#33a02c\",\"#e31a1c\",\"#a6cee3\",\"#fdbf6f\",\"#33a02c\",\"#e31a1c\",\"#a6cee3\",\"#33a02c\",\"#fdbf6f\",\"#e31a1c\",\"#b2df8a\",\"#1f78b4\",\"#e31a1c\",\"#e31a1c\",\"#e31a1c\",\"#e31a1c\",\"#fdbf6f\",\"#b2df8a\",\"#33a02c\",\"#fdbf6f\",\"#fb9a99\",\"#1f78b4\",\"#a6cee3\",\"#fb9a99\",\"#e31a1c\",\"#e31a1c\",\"#33a02c\",\"#b2df8a\",\"#1f78b4\",\"#a6cee3\",\"#33a02c\",\"#33a02c\",\"#33a02c\",\"#33a02c\",\"#e31a1c\",\"#b2df8a\",\"#a6cee3\",\"#b2df8a\",\"#a6cee3\",\"#fb9a99\",\"#a6cee3\",\"#1f78b4\",\"#fb9a99\",\"#e31a1c\",\"#b2df8a\",\"#fb9a99\",\"#1f78b4\",\"#1f78b4\",\"#a6cee3\",\"#33a02c\",\"#a6cee3\",\"#a6cee3\",\"#fdbf6f\",\"#e31a1c\",\"#b2df8a\",\"#b2df8a\",\"#1f78b4\",\"#33a02c\",\"#fb9a99\",\"#fdbf6f\",\"#b2df8a\",\"#e31a1c\",\"#b2df8a\",\"#e31a1c\",\"#fb9a99\",\"#1f78b4\",\"#a6cee3\",\"#fb9a99\",\"#a6cee3\",\"#a6cee3\",\"#b2df8a\",\"#e31a1c\",\"#1f78b4\",\"#e31a1c\",\"#fb9a99\",\"#fb9a99\",\"#fb9a99\",\"#1f78b4\",\"#1f78b4\",\"#b2df8a\",\"#a6cee3\",\"#fdbf6f\",\"#a6cee3\",\"#fb9a99\",\"#b2df8a\",\"#a6cee3\",\"#fb9a99\",\"#33a02c\",\"#b2df8a\",\"#fdbf6f\",\"#b2df8a\",\"#33a02c\",\"#1f78b4\",\"#a6cee3\",\"#1f78b4\",\"#33a02c\",\"#1f78b4\",\"#fdbf6f\",\"#1f78b4\",\"#a6cee3\",\"#fb9a99\",\"#e31a1c\",\"#b2df8a\",\"#e31a1c\",\"#1f78b4\",\"#e31a1c\",\"#e31a1c\",\"#b2df8a\",\"#b2df8a\",\"#a6cee3\",\"#b2df8a\",\"#fb9a99\",\"#33a02c\",\"#fdbf6f\",\"#fdbf6f\",\"#b2df8a\",\"#1f78b4\",\"#fb9a99\",\"#b2df8a\",\"#a6cee3\",\"#1f78b4\",\"#fb9a99\",\"#b2df8a\",\"#e31a1c\",\"#fdbf6f\",\"#1f78b4\",\"#fb9a99\",\"#fb9a99\",\"#33a02c\",\"#1f78b4\",\"#fdbf6f\",\"#33a02c\",\"#fb9a99\",\"#fb9a99\",\"#b2df8a\",\"#b2df8a\",\"#e31a1c\",\"#e31a1c\",\"#33a02c\",\"#fb9a99\",\"#1f78b4\",\"#fdbf6f\",\"#a6cee3\",\"#e31a1c\",\"#fb9a99\",\"#a6cee3\",\"#e31a1c\",\"#a6cee3\",\"#33a02c\",\"#a6cee3\",\"#fdbf6f\",\"#fdbf6f\",\"#fb9a99\",\"#a6cee3\",\"#fdbf6f\",\"#1f78b4\",\"#fdbf6f\",\"#e31a1c\",\"#fb9a99\",\"#fdbf6f\",\"#fdbf6f\",\"#33a02c\",\"#e31a1c\",\"#a6cee3\",\"#e31a1c\",\"#fb9a99\",\"#a6cee3\",\"#1f78b4\",\"#fb9a99\",\"#b2df8a\",\"#a6cee3\",\"#33a02c\",\"#33a02c\",\"#1f78b4\",\"#fdbf6f\",\"#a6cee3\",\"#1f78b4\",\"#fdbf6f\",\"#1f78b4\",\"#b2df8a\",\"#fdbf6f\",\"#a6cee3\",\"#b2df8a\",\"#1f78b4\",\"#33a02c\",\"#33a02c\",\"#a6cee3\",\"#fb9a99\",\"#fdbf6f\",\"#fdbf6f\",\"#a6cee3\",\"#fb9a99\",\"#33a02c\",\"#1f78b4\",\"#e31a1c\",\"#33a02c\",\"#fb9a99\",\"#33a02c\",\"#b2df8a\",\"#fdbf6f\",\"#fdbf6f\",\"#33a02c\",\"#b2df8a\",\"#33a02c\",\"#a6cee3\",\"#e31a1c\",\"#a6cee3\",\"#a6cee3\",\"#b2df8a\",\"#b2df8a\",\"#33a02c\",\"#fdbf6f\",\"#33a02c\",\"#33a02c\",\"#b2df8a\",\"#e31a1c\",\"#33a02c\",\"#33a02c\",\"#fdbf6f\",\"#a6cee3\",\"#a6cee3\",\"#1f78b4\",\"#e31a1c\",\"#e31a1c\",\"#fdbf6f\",\"#fb9a99\",\"#fdbf6f\",\"#e31a1c\",\"#1f78b4\",\"#33a02c\",\"#1f78b4\",\"#b2df8a\",\"#1f78b4\",\"#fb9a99\",\"#e31a1c\",\"#a6cee3\",\"#fdbf6f\",\"#fb9a99\",\"#fdbf6f\",\"#b2df8a\",\"#b2df8a\",\"#fb9a99\",\"#e31a1c\",\"#e31a1c\",\"#1f78b4\",\"#1f78b4\",\"#fdbf6f\",\"#fdbf6f\",\"#fb9a99\",\"#b2df8a\",\"#33a02c\",\"#1f78b4\",\"#a6cee3\",\"#fb9a99\",\"#fb9a99\",\"#fdbf6f\",\"#fdbf6f\",\"#fdbf6f\",\"#fb9a99\",\"#33a02c\",\"#e31a1c\",\"#b2df8a\",\"#fdbf6f\",\"#a6cee3\",\"#e31a1c\",\"#33a02c\",\"#33a02c\",\"#e31a1c\",\"#33a02c\",\"#b2df8a\",\"#33a02c\",\"#fdbf6f\",\"#b2df8a\",\"#1f78b4\",\"#fb9a99\",\"#b2df8a\",\"#33a02c\",\"#33a02c\",\"#a6cee3\",\"#33a02c\",\"#b2df8a\",\"#b2df8a\",\"#33a02c\",\"#fdbf6f\",\"#a6cee3\",\"#a6cee3\",\"#1f78b4\",\"#fb9a99\",\"#a6cee3\",\"#a6cee3\",\"#b2df8a\",\"#fb9a99\",\"#b2df8a\",\"#fdbf6f\",\"#a6cee3\",\"#e31a1c\",\"#fb9a99\",\"#1f78b4\",\"#1f78b4\",\"#fdbf6f\",\"#1f78b4\",\"#fdbf6f\",\"#1f78b4\",\"#a6cee3\",\"#a6cee3\",\"#b2df8a\",\"#33a02c\",\"#33a02c\",\"#33a02c\",\"#1f78b4\",\"#fb9a99\",\"#fdbf6f\",\"#fdbf6f\",\"#b2df8a\",\"#33a02c\",\"#fdbf6f\",\"#fdbf6f\",\"#33a02c\",\"#a6cee3\",\"#fb9a99\",\"#a6cee3\",\"#a6cee3\",\"#e31a1c\",\"#33a02c\",\"#fb9a99\",\"#e31a1c\",\"#b2df8a\",\"#1f78b4\",\"#a6cee3\",\"#a6cee3\",\"#fb9a99\",\"#b2df8a\",\"#1f78b4\",\"#a6cee3\",\"#fb9a99\",\"#e31a1c\",\"#1f78b4\",\"#fb9a99\",\"#b2df8a\",\"#1f78b4\",\"#1f78b4\",\"#fdbf6f\",\"#fb9a99\",\"#fdbf6f\",\"#fdbf6f\",\"#fb9a99\",\"#e31a1c\",\"#1f78b4\",\"#1f78b4\",\"#1f78b4\",\"#a6cee3\",\"#1f78b4\",\"#fdbf6f\",\"#fdbf6f\",\"#33a02c\",\"#e31a1c\",\"#1f78b4\",\"#33a02c\",\"#fb9a99\",\"#fb9a99\",\"#fb9a99\",\"#fb9a99\",\"#a6cee3\",\"#fb9a99\",\"#a6cee3\",\"#1f78b4\",\"#b2df8a\",\"#a6cee3\",\"#fb9a99\",\"#1f78b4\",\"#33a02c\",\"#e31a1c\",\"#fdbf6f\",\"#fdbf6f\",\"#33a02c\",\"#1f78b4\",\"#33a02c\",\"#a6cee3\",\"#fb9a99\",\"#1f78b4\",\"#b2df8a\",\"#e31a1c\",\"#fb9a99\",\"#e31a1c\",\"#fb9a99\",\"#1f78b4\",\"#a6cee3\",\"#a6cee3\",\"#33a02c\",\"#33a02c\",\"#b2df8a\",\"#a6cee3\",\"#fdbf6f\",\"#33a02c\",\"#fdbf6f\",\"#33a02c\",\"#fb9a99\",\"#b2df8a\",\"#33a02c\",\"#33a02c\",\"#e31a1c\",\"#1f78b4\",\"#1f78b4\",\"#1f78b4\",\"#33a02c\",\"#e31a1c\",\"#fdbf6f\",\"#a6cee3\",\"#b2df8a\",\"#33a02c\",\"#b2df8a\",\"#1f78b4\",\"#fb9a99\",\"#fdbf6f\",\"#fb9a99\",\"#1f78b4\",\"#fb9a99\",\"#33a02c\",\"#b2df8a\",\"#fb9a99\",\"#a6cee3\",\"#fdbf6f\",\"#b2df8a\",\"#e31a1c\",\"#fdbf6f\",\"#b2df8a\",\"#1f78b4\",\"#33a02c\",\"#fdbf6f\",\"#a6cee3\",\"#1f78b4\",\"#a6cee3\",\"#a6cee3\",\"#fb9a99\",\"#b2df8a\",\"#33a02c\",\"#e31a1c\",\"#fdbf6f\",\"#1f78b4\",\"#b2df8a\",\"#a6cee3\",\"#e31a1c\",\"#e31a1c\",\"#fdbf6f\",\"#1f78b4\",\"#fb9a99\",\"#1f78b4\",\"#33a02c\",\"#a6cee3\",\"#33a02c\",\"#fb9a99\",\"#b2df8a\",\"#1f78b4\",\"#fdbf6f\",\"#fdbf6f\",\"#a6cee3\",\"#1f78b4\",\"#b2df8a\",\"#e31a1c\",\"#33a02c\",\"#b2df8a\",\"#e31a1c\",\"#b2df8a\",\"#1f78b4\",\"#1f78b4\",\"#e31a1c\",\"#fdbf6f\",\"#fdbf6f\",\"#fb9a99\",\"#fb9a99\",\"#fb9a99\",\"#1f78b4\",\"#33a02c\",\"#e31a1c\",\"#fdbf6f\",\"#fdbf6f\",\"#e31a1c\",\"#fdbf6f\",\"#e31a1c\",\"#33a02c\",\"#fdbf6f\",\"#33a02c\",\"#33a02c\",\"#a6cee3\",\"#a6cee3\",\"#33a02c\",\"#e31a1c\",\"#a6cee3\",\"#b2df8a\",\"#fdbf6f\",\"#1f78b4\",\"#33a02c\",\"#fb9a99\",\"#fdbf6f\",\"#b2df8a\",\"#33a02c\",\"#b2df8a\",\"#b2df8a\",\"#a6cee3\",\"#fb9a99\",\"#b2df8a\",\"#e31a1c\",\"#1f78b4\",\"#33a02c\",\"#1f78b4\",\"#a6cee3\",\"#1f78b4\",\"#1f78b4\",\"#1f78b4\",\"#e31a1c\",\"#fb9a99\",\"#e31a1c\",\"#1f78b4\",\"#a6cee3\",\"#fdbf6f\",\"#b2df8a\",\"#e31a1c\",\"#e31a1c\",\"#e31a1c\",\"#fdbf6f\",\"#b2df8a\",\"#e31a1c\",\"#1f78b4\",\"#1f78b4\",\"#b2df8a\",\"#e31a1c\",\"#e31a1c\",\"#33a02c\",\"#e31a1c\",\"#fb9a99\",\"#b2df8a\",\"#fdbf6f\",\"#b2df8a\",\"#fb9a99\",\"#1f78b4\",\"#e31a1c\",\"#a6cee3\",\"#e31a1c\",\"#fb9a99\",\"#a6cee3\",\"#e31a1c\",\"#1f78b4\",\"#fb9a99\",\"#fb9a99\",\"#a6cee3\",\"#1f78b4\",\"#1f78b4\",\"#fb9a99\",\"#b2df8a\",\"#33a02c\",\"#e31a1c\",\"#fb9a99\",\"#1f78b4\",\"#fdbf6f\",\"#33a02c\",\"#fb9a99\",\"#fdbf6f\",\"#33a02c\",\"#fdbf6f\",\"#1f78b4\",\"#b2df8a\",\"#a6cee3\",\"#fdbf6f\",\"#1f78b4\",\"#fb9a99\",\"#1f78b4\",\"#1f78b4\",\"#fdbf6f\",\"#fdbf6f\",\"#a6cee3\",\"#b2df8a\",\"#1f78b4\",\"#a6cee3\",\"#b2df8a\",\"#a6cee3\",\"#1f78b4\",\"#1f78b4\",\"#1f78b4\",\"#b2df8a\",\"#fdbf6f\",\"#fb9a99\",\"#fb9a99\",\"#33a02c\",\"#fdbf6f\",\"#33a02c\",\"#fdbf6f\",\"#1f78b4\",\"#33a02c\",\"#a6cee3\",\"#fb9a99\",\"#fdbf6f\",\"#e31a1c\",\"#a6cee3\",\"#fdbf6f\",\"#fb9a99\",\"#fdbf6f\",\"#33a02c\",\"#e31a1c\",\"#fb9a99\",\"#33a02c\",\"#fb9a99\",\"#fb9a99\",\"#e31a1c\",\"#fdbf6f\",\"#e31a1c\",\"#fdbf6f\",\"#fb9a99\",\"#b2df8a\",\"#33a02c\",\"#e31a1c\",\"#e31a1c\",\"#a6cee3\",\"#fdbf6f\",\"#1f78b4\",\"#33a02c\",\"#a6cee3\",\"#fb9a99\",\"#a6cee3\",\"#fb9a99\",\"#fb9a99\",\"#33a02c\",\"#1f78b4\",\"#1f78b4\",\"#a6cee3\",\"#33a02c\",\"#fdbf6f\",\"#e31a1c\",\"#33a02c\",\"#1f78b4\",\"#fb9a99\",\"#a6cee3\",\"#fdbf6f\",\"#b2df8a\",\"#b2df8a\",\"#fdbf6f\",\"#fdbf6f\",\"#a6cee3\",\"#e31a1c\",\"#33a02c\",\"#b2df8a\",\"#a6cee3\",\"#fdbf6f\",\"#1f78b4\",\"#a6cee3\",\"#a6cee3\",\"#1f78b4\",\"#e31a1c\",\"#b2df8a\",\"#fdbf6f\",\"#33a02c\",\"#b2df8a\",\"#e31a1c\",\"#fdbf6f\",\"#33a02c\",\"#fdbf6f\",\"#e31a1c\",\"#a6cee3\",\"#a6cee3\",\"#a6cee3\",\"#33a02c\",\"#fdbf6f\",\"#fdbf6f\",\"#1f78b4\",\"#fb9a99\",\"#fdbf6f\",\"#fdbf6f\",\"#e31a1c\",\"#1f78b4\",\"#33a02c\",\"#fdbf6f\",\"#a6cee3\",\"#33a02c\",\"#e31a1c\",\"#a6cee3\",\"#fb9a99\",\"#b2df8a\",\"#fb9a99\",\"#e31a1c\",\"#1f78b4\",\"#fdbf6f\",\"#1f78b4\",\"#33a02c\",\"#1f78b4\",\"#a6cee3\",\"#b2df8a\",\"#a6cee3\",\"#b2df8a\",\"#b2df8a\",\"#fb9a99\",\"#fb9a99\",\"#a6cee3\",\"#a6cee3\",\"#fdbf6f\",\"#33a02c\",\"#fb9a99\",\"#e31a1c\",\"#33a02c\",\"#33a02c\",\"#fdbf6f\",\"#fdbf6f\",\"#1f78b4\",\"#b2df8a\",\"#b2df8a\",\"#e31a1c\",\"#fdbf6f\",\"#1f78b4\",\"#fb9a99\",\"#33a02c\",\"#e31a1c\",\"#a6cee3\",\"#1f78b4\",\"#e31a1c\",\"#e31a1c\",\"#e31a1c\",\"#b2df8a\",\"#33a02c\",\"#33a02c\",\"#fb9a99\",\"#b2df8a\",\"#b2df8a\",\"#e31a1c\",\"#33a02c\",\"#fb9a99\",\"#33a02c\",\"#e31a1c\",\"#b2df8a\",\"#fdbf6f\",\"#fdbf6f\",\"#b2df8a\",\"#33a02c\",\"#a6cee3\",\"#e31a1c\",\"#b2df8a\",\"#e31a1c\",\"#e31a1c\",\"#fdbf6f\",\"#1f78b4\",\"#1f78b4\",\"#b2df8a\",\"#e31a1c\",\"#e31a1c\",\"#e31a1c\",\"#1f78b4\",\"#1f78b4\",\"#e31a1c\",\"#1f78b4\",\"#1f78b4\",\"#e31a1c\",\"#fb9a99\",\"#1f78b4\",\"#1f78b4\",\"#b2df8a\",\"#a6cee3\",\"#1f78b4\",\"#1f78b4\",\"#fb9a99\",\"#a6cee3\",\"#33a02c\",\"#1f78b4\",\"#33a02c\",\"#1f78b4\",\"#a6cee3\",\"#e31a1c\",\"#b2df8a\",\"#e31a1c\",\"#fdbf6f\",\"#1f78b4\",\"#fdbf6f\",\"#e31a1c\",\"#e31a1c\",\"#fb9a99\",\"#b2df8a\",\"#b2df8a\",\"#33a02c\",\"#fb9a99\",\"#fdbf6f\",\"#a6cee3\",\"#fdbf6f\",\"#e31a1c\",\"#fb9a99\",\"#fb9a99\",\"#b2df8a\",\"#b2df8a\",\"#fdbf6f\",\"#e31a1c\",\"#e31a1c\",\"#33a02c\",\"#fb9a99\",\"#33a02c\",\"#33a02c\",\"#1f78b4\",\"#1f78b4\",\"#1f78b4\",\"#1f78b4\",\"#fb9a99\",\"#a6cee3\",\"#a6cee3\",\"#b2df8a\",\"#33a02c\",\"#b2df8a\",\"#e31a1c\",\"#fb9a99\",\"#a6cee3\",\"#33a02c\",\"#33a02c\",\"#b2df8a\",\"#fdbf6f\",\"#a6cee3\",\"#e31a1c\",\"#33a02c\",\"#1f78b4\",\"#e31a1c\",\"#e31a1c\",\"#fdbf6f\",\"#1f78b4\",\"#33a02c\",\"#b2df8a\",\"#33a02c\",\"#fb9a99\",\"#b2df8a\",\"#e31a1c\",\"#fdbf6f\",\"#a6cee3\",\"#1f78b4\",\"#33a02c\",\"#e31a1c\",\"#e31a1c\",\"#1f78b4\",\"#33a02c\",\"#fb9a99\",\"#b2df8a\",\"#a6cee3\",\"#a6cee3\",\"#fb9a99\",\"#e31a1c\",\"#a6cee3\",\"#e31a1c\",\"#b2df8a\",\"#1f78b4\",\"#33a02c\",\"#33a02c\",\"#fb9a99\",\"#a6cee3\",\"#a6cee3\",\"#e31a1c\",\"#33a02c\",\"#a6cee3\",\"#b2df8a\",\"#fdbf6f\",\"#fb9a99\",\"#fdbf6f\",\"#a6cee3\",\"#e31a1c\",\"#e31a1c\",\"#fdbf6f\",\"#1f78b4\",\"#b2df8a\",\"#33a02c\",\"#33a02c\",\"#33a02c\",\"#fb9a99\",\"#fdbf6f\",\"#fdbf6f\",\"#a6cee3\",\"#33a02c\",\"#fb9a99\",\"#fdbf6f\",\"#fdbf6f\",\"#b2df8a\",\"#a6cee3\",\"#b2df8a\",\"#fb9a99\",\"#33a02c\",\"#fb9a99\",\"#b2df8a\",\"#e31a1c\",\"#1f78b4\",\"#fb9a99\",\"#fb9a99\",\"#fdbf6f\",\"#fb9a99\",\"#a6cee3\",\"#b2df8a\",\"#33a02c\",\"#b2df8a\",\"#b2df8a\",\"#33a02c\",\"#33a02c\",\"#fb9a99\",\"#1f78b4\",\"#b2df8a\",\"#b2df8a\",\"#b2df8a\",\"#a6cee3\",\"#1f78b4\",\"#e31a1c\",\"#fdbf6f\",\"#e31a1c\",\"#e31a1c\",\"#1f78b4\",\"#a6cee3\",\"#a6cee3\",\"#fb9a99\",\"#1f78b4\",\"#a6cee3\",\"#1f78b4\",\"#b2df8a\",\"#b2df8a\",\"#1f78b4\",\"#fb9a99\",\"#33a02c\",\"#1f78b4\",\"#a6cee3\",\"#e31a1c\",\"#a6cee3\",\"#33a02c\",\"#1f78b4\",\"#b2df8a\",\"#33a02c\",\"#fdbf6f\",\"#e31a1c\",\"#fb9a99\",\"#33a02c\",\"#fb9a99\",\"#33a02c\",\"#a6cee3\",\"#1f78b4\",\"#fdbf6f\",\"#e31a1c\",\"#fdbf6f\",\"#a6cee3\",\"#b2df8a\",\"#b2df8a\",\"#1f78b4\",\"#fdbf6f\",\"#1f78b4\",\"#fb9a99\",\"#a6cee3\",\"#b2df8a\",\"#fb9a99\",\"#fb9a99\",\"#fdbf6f\",\"#fdbf6f\",\"#fb9a99\",\"#1f78b4\",\"#e31a1c\",\"#a6cee3\",\"#fdbf6f\",\"#e31a1c\",\"#e31a1c\",\"#a6cee3\",\"#33a02c\",\"#fdbf6f\",\"#a6cee3\",\"#b2df8a\",\"#fb9a99\",\"#fdbf6f\",\"#a6cee3\",\"#e31a1c\",\"#fdbf6f\",\"#fdbf6f\",\"#fb9a99\",\"#33a02c\",\"#fdbf6f\",\"#fdbf6f\",\"#e31a1c\",\"#a6cee3\",\"#fb9a99\",\"#fdbf6f\",\"#fdbf6f\",\"#33a02c\",\"#33a02c\",\"#fb9a99\",\"#33a02c\",\"#fb9a99\",\"#e31a1c\",\"#33a02c\",\"#33a02c\",\"#b2df8a\",\"#fdbf6f\",\"#1f78b4\",\"#1f78b4\",\"#1f78b4\",\"#fdbf6f\",\"#fdbf6f\",\"#33a02c\",\"#fb9a99\",\"#e31a1c\",\"#e31a1c\",\"#1f78b4\",\"#e31a1c\",\"#b2df8a\",\"#a6cee3\",\"#fb9a99\",\"#a6cee3\",\"#e31a1c\",\"#1f78b4\",\"#a6cee3\",\"#33a02c\",\"#e31a1c\",\"#fdbf6f\",\"#a6cee3\",\"#fb9a99\",\"#1f78b4\",\"#fdbf6f\",\"#fb9a99\",\"#1f78b4\",\"#1f78b4\",\"#1f78b4\",\"#fdbf6f\",\"#fb9a99\",\"#b2df8a\",\"#e31a1c\",\"#1f78b4\",\"#fb9a99\",\"#b2df8a\",\"#a6cee3\",\"#a6cee3\",\"#fdbf6f\",\"#a6cee3\",\"#fdbf6f\",\"#fdbf6f\",\"#1f78b4\",\"#1f78b4\",\"#b2df8a\",\"#fb9a99\",\"#fb9a99\",\"#a6cee3\",\"#1f78b4\",\"#b2df8a\",\"#1f78b4\",\"#a6cee3\",\"#fdbf6f\",\"#a6cee3\",\"#e31a1c\",\"#1f78b4\",\"#33a02c\",\"#e31a1c\",\"#e31a1c\",\"#e31a1c\",\"#a6cee3\",\"#b2df8a\",\"#fdbf6f\",\"#1f78b4\",\"#fb9a99\",\"#e31a1c\",\"#a6cee3\",\"#fb9a99\",\"#33a02c\",\"#1f78b4\",\"#1f78b4\",\"#1f78b4\",\"#b2df8a\",\"#33a02c\",\"#b2df8a\",\"#a6cee3\",\"#a6cee3\",\"#fb9a99\",\"#33a02c\",\"#b2df8a\",\"#fdbf6f\",\"#b2df8a\",\"#a6cee3\",\"#1f78b4\",\"#e31a1c\",\"#fdbf6f\",\"#fb9a99\",\"#33a02c\",\"#e31a1c\",\"#b2df8a\",\"#1f78b4\",\"#b2df8a\",\"#fb9a99\",\"#e31a1c\",\"#fb9a99\",\"#fb9a99\",\"#33a02c\",\"#fdbf6f\",\"#b2df8a\",\"#fb9a99\",\"#e31a1c\",\"#33a02c\",\"#b2df8a\",\"#fdbf6f\",\"#33a02c\",\"#fb9a99\",\"#e31a1c\",\"#33a02c\",\"#e31a1c\",\"#fb9a99\",\"#b2df8a\",\"#b2df8a\",\"#fdbf6f\",\"#fb9a99\",\"#fdbf6f\",\"#1f78b4\",\"#e31a1c\",\"#e31a1c\",\"#fdbf6f\",\"#fdbf6f\",\"#fb9a99\",\"#a6cee3\",\"#b2df8a\",\"#a6cee3\",\"#1f78b4\",\"#b2df8a\",\"#33a02c\",\"#b2df8a\",\"#fb9a99\",\"#1f78b4\",\"#fdbf6f\",\"#a6cee3\",\"#fdbf6f\",\"#b2df8a\",\"#a6cee3\",\"#fb9a99\",\"#fb9a99\",\"#a6cee3\",\"#fb9a99\",\"#fdbf6f\",\"#33a02c\",\"#fb9a99\",\"#33a02c\",\"#fb9a99\",\"#33a02c\",\"#a6cee3\",\"#1f78b4\",\"#fb9a99\",\"#b2df8a\",\"#fb9a99\",\"#fb9a99\",\"#e31a1c\",\"#33a02c\",\"#e31a1c\",\"#b2df8a\",\"#fb9a99\",\"#fdbf6f\",\"#33a02c\",\"#a6cee3\",\"#33a02c\",\"#e31a1c\",\"#1f78b4\",\"#fb9a99\",\"#fdbf6f\",\"#a6cee3\",\"#b2df8a\",\"#fb9a99\",\"#a6cee3\",\"#b2df8a\",\"#33a02c\",\"#1f78b4\",\"#fdbf6f\",\"#a6cee3\",\"#1f78b4\",\"#33a02c\",\"#e31a1c\",\"#fdbf6f\",\"#fdbf6f\",\"#b2df8a\",\"#33a02c\",\"#33a02c\",\"#1f78b4\",\"#33a02c\",\"#33a02c\",\"#fdbf6f\",\"#b2df8a\",\"#fb9a99\",\"#1f78b4\",\"#1f78b4\",\"#33a02c\",\"#fb9a99\",\"#fdbf6f\",\"#33a02c\",\"#fb9a99\",\"#a6cee3\",\"#33a02c\",\"#fb9a99\",\"#33a02c\",\"#fb9a99\",\"#e31a1c\",\"#a6cee3\",\"#b2df8a\",\"#1f78b4\",\"#e31a1c\",\"#1f78b4\",\"#a6cee3\",\"#e31a1c\",\"#e31a1c\",\"#1f78b4\",\"#33a02c\",\"#b2df8a\",\"#a6cee3\",\"#fb9a99\",\"#a6cee3\",\"#1f78b4\",\"#fb9a99\",\"#fdbf6f\",\"#1f78b4\",\"#b2df8a\",\"#fb9a99\",\"#fdbf6f\",\"#e31a1c\",\"#1f78b4\",\"#33a02c\",\"#1f78b4\",\"#e31a1c\",\"#e31a1c\",\"#a6cee3\",\"#e31a1c\",\"#a6cee3\",\"#1f78b4\",\"#e31a1c\",\"#b2df8a\",\"#a6cee3\",\"#33a02c\",\"#e31a1c\",\"#33a02c\",\"#e31a1c\",\"#e31a1c\",\"#a6cee3\",\"#33a02c\",\"#fb9a99\",\"#a6cee3\",\"#33a02c\",\"#fdbf6f\",\"#fdbf6f\",\"#a6cee3\",\"#a6cee3\",\"#e31a1c\",\"#fb9a99\",\"#a6cee3\",\"#e31a1c\",\"#fb9a99\",\"#e31a1c\",\"#a6cee3\",\"#a6cee3\",\"#33a02c\",\"#b2df8a\",\"#33a02c\",\"#a6cee3\",\"#fdbf6f\",\"#fb9a99\",\"#a6cee3\",\"#fb9a99\",\"#a6cee3\",\"#a6cee3\",\"#fdbf6f\",\"#b2df8a\",\"#fdbf6f\",\"#b2df8a\",\"#1f78b4\",\"#fdbf6f\",\"#1f78b4\",\"#fdbf6f\",\"#fdbf6f\",\"#e31a1c\",\"#b2df8a\",\"#1f78b4\",\"#e31a1c\",\"#fb9a99\",\"#1f78b4\",\"#fdbf6f\",\"#e31a1c\",\"#b2df8a\",\"#1f78b4\",\"#fdbf6f\",\"#33a02c\",\"#33a02c\",\"#a6cee3\",\"#e31a1c\",\"#e31a1c\",\"#33a02c\",\"#a6cee3\",\"#fdbf6f\",\"#1f78b4\",\"#b2df8a\",\"#fdbf6f\",\"#33a02c\",\"#33a02c\",\"#fb9a99\",\"#33a02c\",\"#fb9a99\",\"#fdbf6f\",\"#e31a1c\",\"#33a02c\",\"#b2df8a\",\"#fdbf6f\",\"#e31a1c\",\"#33a02c\",\"#b2df8a\",\"#a6cee3\",\"#1f78b4\",\"#a6cee3\",\"#fb9a99\",\"#fb9a99\",\"#b2df8a\",\"#a6cee3\",\"#fdbf6f\",\"#b2df8a\",\"#b2df8a\"],\"x\":{\"__ndarray__\":\"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\",\"dtype\":\"float64\",\"shape\":[2000]},\"y\":{\"__ndarray__\":\"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\",\"dtype\":\"float64\",\"shape\":[2000]}}},\"id\":\"f95bb76b-6843-486d-81a5-c46f9d131693\",\"type\":\"ColumnDataSource\"}],\"root_ids\":[\"bbca83a9-df87-453b-a2fa-7735ae992705\"]},\"title\":\"Bokeh Application\",\"version\":\"0.12.4\"}};\n",
       "            var render_items = [{\"docid\":\"5e6c0654-9965-4e91-965b-7f78e623236c\",\"elementid\":\"79653585-a3a4-4aab-86b6-77b21ebd56b4\",\"modelid\":\"bbca83a9-df87-453b-a2fa-7735ae992705\"}];\n",
       "            \n",
       "            Bokeh.embed.embed_items(docs_json, render_items);\n",
       "          };\n",
       "          if (document.readyState != \"loading\") fn();\n",
       "          else document.addEventListener(\"DOMContentLoaded\", fn);\n",
       "        })();\n",
       "      },\n",
       "      function(Bokeh) {\n",
       "      }\n",
       "    ];\n",
       "  \n",
       "    function run_inline_js() {\n",
       "      \n",
       "      if ((window.Bokeh !== undefined) || (force === true)) {\n",
       "        for (var i = 0; i < inline_js.length; i++) {\n",
       "          inline_js[i](window.Bokeh);\n",
       "        }if (force === true) {\n",
       "          display_loaded();\n",
       "        }} else if (Date.now() < window._bokeh_timeout) {\n",
       "        setTimeout(run_inline_js, 100);\n",
       "      } else if (!window._bokeh_failed_load) {\n",
       "        console.log(\"Bokeh: BokehJS failed to load within specified timeout.\");\n",
       "        window._bokeh_failed_load = true;\n",
       "      } else if (force !== true) {\n",
       "        var cell = $(document.getElementById(\"79653585-a3a4-4aab-86b6-77b21ebd56b4\")).parents('.cell').data().cell;\n",
       "        cell.output_area.append_execute_result(NB_LOAD_WARNING)\n",
       "      }\n",
       "  \n",
       "    }\n",
       "  \n",
       "    if (window._bokeh_is_loading === 0) {\n",
       "      console.log(\"Bokeh: BokehJS loaded, going straight to plotting\");\n",
       "      run_inline_js();\n",
       "    } else {\n",
       "      load_libs(js_urls, function() {\n",
       "        console.log(\"Bokeh: BokehJS plotting callback run at\", now());\n",
       "        run_inline_js();\n",
       "      });\n",
       "    }\n",
       "  }(this));\n",
       "</script>"
      ]
     },
     "metadata": {},
     "output_type": "display_data"
    }
   ],
   "source": [
    "data, color_indices = datasets.make_blobs(n_samples=2000, n_features=2, centers=7,\n",
    "                                   center_box=(-4.0, 6.0), cluster_std=0.5)\n",
    "\n",
    "fig = bk.figure(title=None)\n",
    "fig.circle(data[:,0], data[:,1],\n",
    "            line_color='black', line_alpha=0.5, size=8,\n",
    "            fill_color=pal.linear_map(color_indices, cat_colors,\n",
    "                                      low=0, high=6))\n",
    "bk.show(fig)"
   ]
  },
  {
   "cell_type": "markdown",
   "metadata": {},
   "source": [
    "---\n",
    "\n",
    "Visit [www.add-for.com](<http://www.add-for.com/IT>) for more tutorials and updates.\n",
    "\n",
    "This work is licensed under a <a rel=\"license\" href=\"http://creativecommons.org/licenses/by-sa/4.0/\">Creative Commons Attribution-ShareAlike 4.0 International License</a>."
   ]
  }
 ],
 "metadata": {
  "anaconda-cloud": {},
  "kernelspec": {
   "display_name": "Python [default]",
   "language": "python",
   "name": "python3"
  },
  "language_info": {
   "codemirror_mode": {
    "name": "ipython",
    "version": 3
   },
   "file_extension": ".py",
   "mimetype": "text/x-python",
   "name": "python",
   "nbconvert_exporter": "python",
   "pygments_lexer": "ipython3",
   "version": "3.5.2"
  }
 },
 "nbformat": 4,
 "nbformat_minor": 0
}
