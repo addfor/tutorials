{
 "cells": [
  {
   "cell_type": "markdown",
   "metadata": {},
   "source": [
    "# Sources of Open Data"
   ]
  },
  {
   "cell_type": "code",
   "execution_count": null,
   "metadata": {},
   "outputs": [],
   "source": [
    "import addutils.toc ; addutils.toc.js(ipy_notebook=True)"
   ]
  },
  {
   "cell_type": "code",
   "execution_count": null,
   "metadata": {},
   "outputs": [],
   "source": [
    "import datetime\n",
    "import scipy.io\n",
    "import numpy as np\n",
    "import pandas as pd\n",
    "\n",
    "import pandas_datareader.data as web\n",
    "import bokeh.plotting as bk\n",
    "from IPython.display import display\n",
    "bk.output_notebook()"
   ]
  },
  {
   "cell_type": "code",
   "execution_count": null,
   "metadata": {},
   "outputs": [],
   "source": [
    "from addutils import css_notebook\n",
    "css_notebook()"
   ]
  },
  {
   "cell_type": "markdown",
   "metadata": {},
   "source": [
    "## 1 Yahoo! Finance"
   ]
  },
  {
   "cell_type": "code",
   "execution_count": null,
   "metadata": {},
   "outputs": [],
   "source": [
    "start = datetime.datetime(2000, 1, 1)\n",
    "end = datetime.datetime(2014, 5, 14)\n",
    "AAPL_yahoo = web.DataReader(\"AAPL\", 'yahoo', start, end)\n",
    "IBM_yahoo = web.DataReader(\"IBM\", 'yahoo', start, end)"
   ]
  },
  {
   "cell_type": "markdown",
   "metadata": {},
   "source": [
    "### 1.1 Plotting timeseries with bokeh:"
   ]
  },
  {
   "cell_type": "code",
   "execution_count": null,
   "metadata": {
    "scrolled": false
   },
   "outputs": [],
   "source": [
    "fig = bk.figure(x_axis_type = \"datetime\",\n",
    "       tools=\"pan,box_zoom,reset\", title = 'Closing Prices  - From Yahoo! Finance',\n",
    "       plot_width=750, plot_height=400)\n",
    "fig.line(AAPL_yahoo.index, AAPL_yahoo['Adj Close'],\n",
    "     line_width=2, color='darkred', legend='Apple')\n",
    "fig.line(IBM_yahoo.index, IBM_yahoo['Adj Close'],\n",
    "     line_width=2, color='royalblue', legend='IBM')\n",
    "fig.legend.location = \"top_left\"\n",
    "bk.show(fig)"
   ]
  },
  {
   "cell_type": "code",
   "execution_count": null,
   "metadata": {},
   "outputs": [],
   "source": [
    "df = AAPL_yahoo[-100:]\n",
    "mids = (df['High']+df['Low'])/2\n",
    "spans = df['Close']-df['Open']\n",
    "inc = df['Close']>=df['Open']\n",
    "dec = df['Close']<df['Open']\n",
    "w = 18*60*60*1000               # 2/3 of a day in ms"
   ]
  },
  {
   "cell_type": "markdown",
   "metadata": {},
   "source": [
    "### 1.2 Plotting candlesticks with bokeh:"
   ]
  },
  {
   "cell_type": "code",
   "execution_count": null,
   "metadata": {},
   "outputs": [],
   "source": [
    "fig = bk.figure(x_axis_type = \"datetime\",\n",
    "       tools=\"pan,box_zoom,reset\",\n",
    "       title = 'Candlesticks  - From Yahoo! Finance',\n",
    "       plot_width=750, plot_height=400)\n",
    "fig.segment(df.index, df['High'], df.index, df['Low'], color='black')\n",
    "fig.rect(df[inc].index, mids[inc], w, spans[inc],\n",
    "     fill_color=\"lawngreen\", line_color=\"black\")\n",
    "fig.rect(df[dec].index, mids[dec], w, spans[dec],\n",
    "     fill_color=\"crimson\", line_color=\"black\")\n",
    "fig.legend.location = \"top_left\"\n",
    "bk.show(fig)"
   ]
  },
  {
   "cell_type": "markdown",
   "metadata": {},
   "source": [
    "### 1.3 Plotting data ranges with bokeh:"
   ]
  },
  {
   "cell_type": "code",
   "execution_count": null,
   "metadata": {},
   "outputs": [],
   "source": [
    "x = df.index.append(df.iloc[::-1].index)\n",
    "y = df['Low'].append(df['High'].iloc[::-1])\n",
    "\n",
    "fig = bk.figure(x_axis_type = \"datetime\",\n",
    "       tools=\"pan,box_zoom,reset\",\n",
    "       title = \"Mid Trading Values with Range  - From Yahoo! Finance\",\n",
    "       plot_width=750, plot_height=400)\n",
    "fig.patch(x,y, color='darkred', alpha=0.3, line_color='violet', line_alpha=0.6)\n",
    "fig.line(df.index, mids, line_width=2, color='darkred', legend='Apple')\n",
    "bk.show(fig)"
   ]
  },
  {
   "cell_type": "markdown",
   "metadata": {},
   "source": [
    "### 1.4 Plotting multiple plots with matplotlib:"
   ]
  },
  {
   "cell_type": "code",
   "execution_count": null,
   "metadata": {},
   "outputs": [],
   "source": [
    "%matplotlib inline\n",
    "import matplotlib.pyplot as plt"
   ]
  },
  {
   "cell_type": "code",
   "execution_count": null,
   "metadata": {},
   "outputs": [],
   "source": [
    "import matplotlib.gridspec as gridspec\n",
    "fig = plt.figure(figsize=(15,10));\n",
    "fig = bk.figure(plot_width=300, plot_height=200)\n",
    "gs = gridspec.GridSpec(2, 2, height_ratios=[2,1], hspace=0.4)\n",
    "ax0 = plt.subplot(gs[0, :])\n",
    "ax1 = plt.subplot(gs[1, :])\n",
    "AAPL_yahoo.iloc[-200:,1:3].plot(ax=ax0)\n",
    "AAPL_yahoo['r_mean'] = AAPL_yahoo['High'].rolling(window=20, center=False).mean()\n",
    "AAPL_yahoo[['High', 'r_mean']][-200:].plot(ax=ax1)"
   ]
  },
  {
   "cell_type": "markdown",
   "metadata": {},
   "source": [
    "### 1.5 Plotting multiple plots with Bokeh:"
   ]
  },
  {
   "cell_type": "code",
   "execution_count": null,
   "metadata": {},
   "outputs": [],
   "source": [
    "ax0 = bk.figure(plot_width=700, plot_height=300, title=None)\n",
    "data0 = AAPL_yahoo.iloc[-200:,1:3]\n",
    "ax0.line(x=np.arange(len(data0)), y=data0['High'], \n",
    "         legend='High', line_color='blue')\n",
    "ax0.line(x=np.arange(len(data0)), y=data0['Low'], \n",
    "         legend='Low', line_color='green')\n",
    "\n",
    "ax1 = bk.figure(plot_width=700, plot_height=300, title=None)\n",
    "AAPL_yahoo['r_mean'] = AAPL_yahoo['High'].rolling(window=20, center=False).mean()\n",
    "data1 = AAPL_yahoo.iloc[-200:]\n",
    "ax1.line(x=np.arange(len(data1)), y=data1['High'],\n",
    "         legend='High', line_color='blue')\n",
    "ax1.line(x=np.arange(len(data1)), y=data1['r_mean'],\n",
    "        legend='r_mean', line_color='green')\n",
    "\n",
    "fig = bk.gridplot([[ax0], [ax1]])\n",
    "bk.show(fig)"
   ]
  },
  {
   "cell_type": "markdown",
   "metadata": {},
   "source": [
    "## 2 Google Finance"
   ]
  },
  {
   "cell_type": "code",
   "execution_count": null,
   "metadata": {},
   "outputs": [],
   "source": [
    "AAPL_google = web.DataReader(\"AAPL\", 'google', start, end)\n",
    "IBM_google = web.DataReader(\"IBM\", 'google', start, end)"
   ]
  },
  {
   "cell_type": "code",
   "execution_count": null,
   "metadata": {},
   "outputs": [],
   "source": [
    "fig = bk.figure(x_axis_type = \"datetime\",\n",
    "       tools=\"pan,box_zoom,reset\", title='Closing Prices - From Google Finance',\n",
    "       plot_width=750, plot_height=400)\n",
    "fig.line(AAPL_google.index, AAPL_google['Close'],\n",
    "         line_width=2, color='darkred', legend='Apple')\n",
    "fig.line(IBM_google.index, IBM_google['Close'],\n",
    "         line_width=2, color='royalblue', legend='IBM')\n",
    "fig.legend.orientation = \"top_left\"\n",
    "bk.show(fig)"
   ]
  },
  {
   "cell_type": "markdown",
   "metadata": {},
   "source": [
    "## 3 Federal Reserve Economic Data"
   ]
  },
  {
   "cell_type": "markdown",
   "metadata": {},
   "source": [
    "Federal Reserve Economic Data **(FRED)** is an online database consisting of more than 148,000 economic data time series from 59 national, international, public, and private sources."
   ]
  },
  {
   "cell_type": "code",
   "execution_count": null,
   "metadata": {},
   "outputs": [],
   "source": [
    "start = datetime.datetime(2005, 1, 1)\n",
    "end = datetime.datetime(2014, 2, 1)\n",
    "# LMUNRLTTATM647N Registered Unemployment Level for Austria\n",
    "# LMUNRLTTDKM647N Registered Unemployment Level for Denmark\n",
    "# LMUNRLTTDEM647N Registered Unemployment Level for Germany\n",
    "# LMUNRLTTIEM647N Registered Unemployment Level for Ireland\n",
    "unemployment = web.DataReader(['LMUNRLTTATM647N', 'LMUNRLTTDKM647N', 'LMUNRLTTDEM647N',\n",
    "                            'LMUNRLTTIEM647N'], 'fred', start, end)"
   ]
  },
  {
   "cell_type": "code",
   "execution_count": null,
   "metadata": {
    "scrolled": true
   },
   "outputs": [],
   "source": [
    "from bokeh.models.formatters import NumeralTickFormatter\n",
    "\n",
    "fig = bk.figure(x_axis_type = \"datetime\",\n",
    "               tools=\"pan,box_zoom,reset\", title = 'Unemployment - Europe',\n",
    "               plot_width=750, plot_height=300)\n",
    "fig.line(unemployment.index, unemployment['LMUNRLTTATM647N'], \n",
    "         color='#800080', line_width=2, legend='Austria')\n",
    "fig.line(unemployment.index, unemployment['LMUNRLTTDKM647N'],\n",
    "         color='#008B8B', line_width=2, legend='Denmark')\n",
    "fig.line(unemployment.index, unemployment['LMUNRLTTDEM647N'],\n",
    "         color='#FF0000', line_width=2, legend='Germany')\n",
    "fig.line(unemployment.index, unemployment['LMUNRLTTIEM647N'],\n",
    "         color='#2E8B57', line_width=2, legend='Ireland')\n",
    "fig.xaxis.major_label_text_font_size = \"12pt\"\n",
    "fig.yaxis.axis_label = \"Registered Unemployment Level\"\n",
    "fig.xaxis.axis_label = \"Year\"\n",
    "fig.legend.location = \"top_right\"\n",
    "fig.yaxis[0].formatter = NumeralTickFormatter(format='0,0')\n",
    "bk.show(fig)"
   ]
  },
  {
   "cell_type": "markdown",
   "metadata": {},
   "source": [
    "## 4 World Bank"
   ]
  },
  {
   "cell_type": "markdown",
   "metadata": {},
   "source": [
    "The [World Bank’s World Development Indicators](http://data.worldbank.org/) is a huge database with thousands of panel data series. With Pandas it's possible to use the `search` function in `pandas.io.wb` to find your data:"
   ]
  },
  {
   "cell_type": "code",
   "execution_count": null,
   "metadata": {},
   "outputs": [],
   "source": [
    "from pandas_datareader import wb"
   ]
  },
  {
   "cell_type": "markdown",
   "metadata": {},
   "source": [
    "If you wanted to compare the Gross Domestic Products per capita in constant dollars in North America:"
   ]
  },
  {
   "cell_type": "code",
   "execution_count": null,
   "metadata": {},
   "outputs": [],
   "source": [
    "wb.search('gdp.*capita.*const')"
   ]
  },
  {
   "cell_type": "code",
   "execution_count": null,
   "metadata": {},
   "outputs": [],
   "source": [
    "dat = wb.download(indicator='NY.GDP.PCAP.KD', country=['all'], start=2005, end=2012)"
   ]
  },
  {
   "cell_type": "code",
   "execution_count": null,
   "metadata": {},
   "outputs": [],
   "source": [
    "dat.head(10)"
   ]
  },
  {
   "cell_type": "code",
   "execution_count": null,
   "metadata": {},
   "outputs": [],
   "source": [
    "grouped = dat['NY.GDP.PCAP.KD'].groupby(level=0).mean()\n",
    "grouped.sort_values(axis=0, ascending=False, inplace=True)\n",
    "grouped = grouped.dropna()\n",
    "sample = 3\n",
    "rich_poor = grouped.ix[:sample].append(grouped.ix[-sample:])\n",
    "rich_poor.values"
   ]
  },
  {
   "cell_type": "code",
   "execution_count": null,
   "metadata": {},
   "outputs": [],
   "source": [
    "#%matplotlib inline"
   ]
  },
  {
   "cell_type": "code",
   "execution_count": null,
   "metadata": {},
   "outputs": [],
   "source": [
    "from bokeh.models.ranges import FactorRange\n",
    "\n",
    "index = list(rich_poor.index)\n",
    "fig = bk.figure(plot_width=750, plot_height=600, \n",
    "                title='Gross Domestic Products per capita - Rich vs Poor',\n",
    "                x_range=index, y_axis_type='log', y_range=(0, 1.45e5))\n",
    "fig.yaxis.minor_tick_out = 0\n",
    "fig.xaxis.major_tick_out = 0\n",
    "fig.segment(index, 0, index, rich_poor.values, line_width=35, color='#4C72B0')\n",
    "bk.show(fig)"
   ]
  },
  {
   "cell_type": "markdown",
   "metadata": {},
   "source": [
    "---\n",
    "\n",
    "Visit [www.add-for.com](<http://www.add-for.com/IT>) for more tutorials and updates.\n",
    "\n",
    "This work is licensed under a <a rel=\"license\" href=\"http://creativecommons.org/licenses/by-sa/4.0/\">Creative Commons Attribution-ShareAlike 4.0 International License</a>."
   ]
  }
 ],
 "metadata": {
  "kernelspec": {
   "display_name": "Python [conda env:addfor_tutorials]",
   "language": "python",
   "name": "conda-env-addfor_tutorials-py"
  },
  "language_info": {
   "codemirror_mode": {
    "name": "ipython",
    "version": 3
   },
   "file_extension": ".py",
   "mimetype": "text/x-python",
   "name": "python",
   "nbconvert_exporter": "python",
   "pygments_lexer": "ipython3",
   "version": "3.6.4"
  }
 },
 "nbformat": 4,
 "nbformat_minor": 1
}
