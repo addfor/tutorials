{
 "cells": [
  {
   "cell_type": "markdown",
   "metadata": {},
   "source": [
    "# Statistical tools"
   ]
  },
  {
   "cell_type": "code",
   "execution_count": 1,
   "metadata": {},
   "outputs": [
    {
     "data": {
      "text/html": [
       "<div id='toc-container'><script type='text/javascript'>\n",
       "$(function() {\n",
       "    function regenTOC(){\n",
       "        element = $(\"#toc-container\");\n",
       "\n",
       "\tvar toc = document.createElement(\"div\");\n",
       "\t$(toc).attr(\"class\", \"table-of-contents\");\n",
       "\n",
       "\tvar curLevel = 0;\n",
       "\tvar containerStack = [toc];\n",
       "\tvar levelOfTag = {\"h2\": 1, \"h3\": 2, \"h4\": 3, \"h5\": 4};\n",
       "\n",
       "\tfunction pushLevel() {\n",
       "            var list = document.createElement(\"ul\");\n",
       "            containerStack.push(list);\n",
       "            curLevel++;\n",
       "\t}\n",
       "\t\n",
       "\tfunction popLevel() {\n",
       "            var lastContainer = containerStack.pop();\n",
       "            $(lastContainer).appendTo(containerStack[containerStack.length - 1]);\n",
       "            curLevel--;\n",
       "\t}\n",
       "\t\n",
       "\t$(\".text_cell_render :header\").each(function (i, elem) {\n",
       "            var level = levelOfTag[ elem.tagName.toLowerCase() ];\n",
       "\n",
       "            if (level === undefined)\n",
       "\t\treturn;\n",
       "\n",
       "            while (curLevel < level)\n",
       "\t\tpushLevel();\n",
       "            while (curLevel > level)\n",
       "\t\tpopLevel();\n",
       "            \n",
       "            var listItem = document.createElement(\"li\");\n",
       "            var link = document.createElement(\"a\");\n",
       "            $(link)\n",
       "\t\t.text($(elem).contents().first().text()) // Remove the pilcrow sign\n",
       "\t\t.attr(\"href\", \"#\" + $(elem).attr(\"id\"))\n",
       "\t\t.appendTo(listItem);\n",
       "            $(listItem).appendTo(containerStack[containerStack.length - 1]);\n",
       "\t});\n",
       "\t\n",
       "\twhile (curLevel > 0)\n",
       "            popLevel();\n",
       "\n",
       "        $(\"<a class='btn-update' href='#'>Update</a>\")\n",
       "          .click(regenTOC).prependTo(toc);\n",
       "\n",
       "\t$(toc).prepend(\"<div class='title'>Contents</div>\")\n",
       "          .wrap(\"<div class='toc-headings'/>\");\n",
       "\n",
       "        $(element).empty();\n",
       "        $(element).append(toc);\n",
       "    }\n",
       "\n",
       "    if (typeof(IPython) !== 'undefined')\n",
       "        $([IPython.events]).on('notebook_loaded.Notebook', regenTOC);\n",
       "    regenTOC();\n",
       "});\n",
       "\n",
       "</script></div>"
      ],
      "text/plain": [
       "<IPython.core.display.HTML object>"
      ]
     },
     "execution_count": 1,
     "metadata": {},
     "output_type": "execute_result"
    }
   ],
   "source": [
    "import addutils.toc ; addutils.toc.js(ipy_notebook=True)"
   ]
  },
  {
   "cell_type": "markdown",
   "metadata": {},
   "source": [
    "With this tutorial we are going to see some of the statistical and computational tools offered by `pandas`."
   ]
  },
  {
   "cell_type": "code",
   "execution_count": 2,
   "metadata": {},
   "outputs": [
    {
     "data": {
      "text/html": [
       "<style>\n",
       ".text_cell_render @font-face {\n",
       "    font-family: \"Computer Modern\";\n",
       "    src: url('http://mirrors.ctan.org/fonts/cm-unicode/fonts/otf/cmunss.otf');\n",
       "}\n",
       "\n",
       "div.cell {\n",
       "    width: 900px;\n",
       "    margin-left: 0% !important;\n",
       "    margin-right: 0%;\n",
       "}\n",
       "\n",
       "code {\n",
       "    font-size:10pt;\n",
       "}\n",
       "\n",
       ".text_cell_render  h1 {\n",
       "    font-family: Tahoma, sans-serif;\n",
       "    color: rgb( 10, 88, 126 );\n",
       "    font-size:28pt;\n",
       "}\n",
       ".text_cell_render h2 {\n",
       "    font-family: Tahoma, sans-serif;\n",
       "    color: rgb( 10, 88, 126 );\n",
       "    font-size:24pt;\n",
       "}\n",
       ".text_cell_render h3 {\n",
       "    font-family: Tahoma, sans-serif;\n",
       "    color: rgb( 10, 88, 126 );\n",
       "    font-size:20pt;\n",
       "}\n",
       ".text_cell_render h4 {\n",
       "    font-family: Tahoma, sans-serif;\n",
       "    color: rgb( 10, 88, 126 );\n",
       "    font-size:18pt;\n",
       "    margin-top:12px;\n",
       "    margin-bottom: 3px;\n",
       "}\n",
       "\n",
       ".text_cell_render h5 {\n",
       "    font-weight: 300;\n",
       "    font-size: 11pt;\n",
       "    color: rgb( 48, 48, 48 );\n",
       "    font-style: italic;\n",
       "    margin-bottom: .5em;\n",
       "    margin-top: 0.5em;\n",
       "    display: block;\n",
       "}\n",
       "\n",
       ".text_cell_render ul {\n",
       "    font-family: Tahoma, sans-serif;\n",
       "    color: rgb( 90, 90, 90 );\n",
       "    font-size:11pt;\n",
       "    line-height: 185%;\n",
       "}\n",
       "\n",
       ".text_cell_render yp {\n",
       "    font-family: Tahoma, sans-serif;\n",
       "    color: rgb( 90, 90, 90 );\n",
       "    font-size:11pt;\n",
       "}\n",
       "\n",
       ".text_cell_render strong {\n",
       "    font-family: Tahoma, sans-serif;\n",
       "    color: rgb( 30, 30, 30 );\n",
       "    font-size:11pt;\n",
       "}\n",
       "\n",
       ".text_cell_render a:link {\n",
       "    font-family: Tahoma, sans-serif;\n",
       "    color: rgb( 10, 88, 126 );\n",
       "    font-size:11pt;\n",
       "}\n",
       "\n",
       ".text_cell_render a:visited {\n",
       "    color:rgb( 10, 88, 126 );\n",
       "}\n",
       "\n",
       ".text_cell_render {\n",
       "    font-family: Helvetica, Courier, Computer Modern, \"Helvetica Neue\", Arial, Geneva, sans-serif;\n",
       "    color: rgb( 84, 84, 84 );\n",
       "    font-size:11pt;\n",
       "    line-height: 125%;\n",
       "    font-size: 100%;\n",
       "    width:800px;\n",
       "}\n",
       "\n",
       ".CodeMirror {\n",
       "    font-family: Courier, \"Source Code Pro\", source-code-pro,Consolas, monospace;\n",
       "}\n",
       "\n",
       ".warning {\n",
       "    color: rgb( 240, 20, 20 );\n",
       "}\n",
       "\n",
       "/* Pandas tables */\n",
       "/*\n",
       ".rendered_html td {\n",
       "    text-align: right;\n",
       "}\n",
       "*/\n",
       "\n",
       "table.dataframe td {\n",
       "    text-align: right;\n",
       "}\n",
       "\n",
       ".output .table-of-contents {\n",
       "    border: 1px #cecece solid;\n",
       "    background-color: #fafafa;\n",
       "    padding-top: 10px;\n",
       "    padding-bottom: 5px;\n",
       "    padding-right: 15px;\n",
       "    padding-left: 0px;\n",
       "    margin-bottom: 20px;\n",
       "    display: inline-block;\n",
       "    position: relative;\n",
       "}\n",
       "\n",
       ".output .table-of-contents ul {\n",
       "    list-style-type: none;\n",
       "    padding-left: 20px;\n",
       "}\n",
       "\n",
       ".output .table-of-contents .title {\n",
       "    font-weight: bold;\n",
       "    font-height: 11pt;\n",
       "    padding-left: 20px; /* looks better if it's the same to the <ul> */\n",
       "}\n",
       "\n",
       ".output .table-of-contents .btn-update {\n",
       "    position: absolute;\n",
       "    float: right;\n",
       "    right: 11px;\n",
       "    top: 4px;\n",
       "    font-size: 9pt;\n",
       "}\n",
       "\n",
       "</style>\n",
       "<script>\n",
       "    MathJax.Hub.Config({\n",
       "                        TeX: {\n",
       "                           extensions: [\"AMSmath.js\"]\n",
       "                           },\n",
       "                displayAlign: 'center', // Change this to 'center' to center equations.\n",
       "                \"HTML-CSS\": {\n",
       "                    styles: {'.MathJax_Display': {\"margin\": 4}}\n",
       "                }\n",
       "        });\n",
       "</script>\n"
      ],
      "text/plain": [
       "<IPython.core.display.HTML object>"
      ]
     },
     "execution_count": 2,
     "metadata": {},
     "output_type": "execute_result"
    }
   ],
   "source": [
    "import datetime\n",
    "import scipy.io\n",
    "import numpy as np\n",
    "import pandas as pd\n",
    "import bokeh.plotting as bk\n",
    "from IPython.display import display, HTML\n",
    "from addutils import css_notebook, side_by_side2\n",
    "css_notebook()"
   ]
  },
  {
   "cell_type": "markdown",
   "metadata": {},
   "source": [
    "## 1 Percent change"
   ]
  },
  {
   "cell_type": "markdown",
   "metadata": {},
   "source": [
    "Given a `pandas.Series` the method `pct_change` returns a new `pandas.Series` object containing percent change over a given number of periods."
   ]
  },
  {
   "cell_type": "code",
   "execution_count": 3,
   "metadata": {},
   "outputs": [
    {
     "data": {
      "text/html": [
       "<div style=\"float:left;padding-right: 0.6em;\">\n",
       "<style scoped>\n",
       "    .dataframe tbody tr th:only-of-type {\n",
       "        vertical-align: middle;\n",
       "    }\n",
       "\n",
       "    .dataframe tbody tr th {\n",
       "        vertical-align: top;\n",
       "    }\n",
       "\n",
       "    .dataframe thead th {\n",
       "        text-align: right;\n",
       "    }\n",
       "</style>\n",
       "<table border=\"1\" class=\"dataframe\">\n",
       "  <thead>\n",
       "    <tr style=\"text-align: right;\">\n",
       "      <th></th>\n",
       "      <th>0</th>\n",
       "    </tr>\n",
       "  </thead>\n",
       "  <tbody>\n",
       "    <tr>\n",
       "      <th>0</th>\n",
       "      <td>9.986220</td>\n",
       "    </tr>\n",
       "    <tr>\n",
       "      <th>1</th>\n",
       "      <td>11.011012</td>\n",
       "    </tr>\n",
       "    <tr>\n",
       "      <th>2</th>\n",
       "      <td>12.019591</td>\n",
       "    </tr>\n",
       "    <tr>\n",
       "      <th>3</th>\n",
       "      <td>12.960166</td>\n",
       "    </tr>\n",
       "    <tr>\n",
       "      <th>4</th>\n",
       "      <td>14.031684</td>\n",
       "    </tr>\n",
       "    <tr>\n",
       "      <th>5</th>\n",
       "      <td>14.895877</td>\n",
       "    </tr>\n",
       "    <tr>\n",
       "      <th>6</th>\n",
       "      <td>16.096982</td>\n",
       "    </tr>\n",
       "    <tr>\n",
       "      <th>7</th>\n",
       "      <td>16.835873</td>\n",
       "    </tr>\n",
       "  </tbody>\n",
       "</table>\n",
       "</div><div style=\"float:left;padding-right: 0.6em;\">\n",
       "<style scoped>\n",
       "    .dataframe tbody tr th:only-of-type {\n",
       "        vertical-align: middle;\n",
       "    }\n",
       "\n",
       "    .dataframe tbody tr th {\n",
       "        vertical-align: top;\n",
       "    }\n",
       "\n",
       "    .dataframe thead th {\n",
       "        text-align: right;\n",
       "    }\n",
       "</style>\n",
       "<table border=\"1\" class=\"dataframe\">\n",
       "  <thead>\n",
       "    <tr style=\"text-align: right;\">\n",
       "      <th></th>\n",
       "      <th>0</th>\n",
       "    </tr>\n",
       "  </thead>\n",
       "  <tbody>\n",
       "    <tr>\n",
       "      <th>0</th>\n",
       "      <td>NaN</td>\n",
       "    </tr>\n",
       "    <tr>\n",
       "      <th>1</th>\n",
       "      <td>10.262067</td>\n",
       "    </tr>\n",
       "    <tr>\n",
       "      <th>2</th>\n",
       "      <td>9.159731</td>\n",
       "    </tr>\n",
       "    <tr>\n",
       "      <th>3</th>\n",
       "      <td>7.825347</td>\n",
       "    </tr>\n",
       "    <tr>\n",
       "      <th>4</th>\n",
       "      <td>8.267777</td>\n",
       "    </tr>\n",
       "    <tr>\n",
       "      <th>5</th>\n",
       "      <td>6.158871</td>\n",
       "    </tr>\n",
       "    <tr>\n",
       "      <th>6</th>\n",
       "      <td>8.063341</td>\n",
       "    </tr>\n",
       "    <tr>\n",
       "      <th>7</th>\n",
       "      <td>4.590243</td>\n",
       "    </tr>\n",
       "  </tbody>\n",
       "</table>\n",
       "</div><div style=\"float:left;padding-right: 0.6em;\">\n",
       "<style scoped>\n",
       "    .dataframe tbody tr th:only-of-type {\n",
       "        vertical-align: middle;\n",
       "    }\n",
       "\n",
       "    .dataframe tbody tr th {\n",
       "        vertical-align: top;\n",
       "    }\n",
       "\n",
       "    .dataframe thead th {\n",
       "        text-align: right;\n",
       "    }\n",
       "</style>\n",
       "<table border=\"1\" class=\"dataframe\">\n",
       "  <thead>\n",
       "    <tr style=\"text-align: right;\">\n",
       "      <th></th>\n",
       "      <th>0</th>\n",
       "    </tr>\n",
       "  </thead>\n",
       "  <tbody>\n",
       "    <tr>\n",
       "      <th>0</th>\n",
       "      <td>NaN</td>\n",
       "    </tr>\n",
       "    <tr>\n",
       "      <th>1</th>\n",
       "      <td>NaN</td>\n",
       "    </tr>\n",
       "    <tr>\n",
       "      <th>2</th>\n",
       "      <td>NaN</td>\n",
       "    </tr>\n",
       "    <tr>\n",
       "      <th>3</th>\n",
       "      <td>29.780503</td>\n",
       "    </tr>\n",
       "    <tr>\n",
       "      <th>4</th>\n",
       "      <td>27.433187</td>\n",
       "    </tr>\n",
       "    <tr>\n",
       "      <th>5</th>\n",
       "      <td>23.929980</td>\n",
       "    </tr>\n",
       "    <tr>\n",
       "      <th>6</th>\n",
       "      <td>24.203519</td>\n",
       "    </tr>\n",
       "    <tr>\n",
       "      <th>7</th>\n",
       "      <td>19.984695</td>\n",
       "    </tr>\n",
       "  </tbody>\n",
       "</table>\n",
       "</div>"
      ],
      "text/plain": [
       "<IPython.core.display.HTML object>"
      ]
     },
     "execution_count": 3,
     "metadata": {},
     "output_type": "execute_result"
    }
   ],
   "source": [
    "s1 = pd.Series(range(10, 18) + np.random.randn(8) / 10)\n",
    "\n",
    "pct_ch_1d = s1.pct_change() * 100\n",
    "pct_ch_3d = s1.pct_change(periods=3) * 100\n",
    "\n",
    "HTML(side_by_side2(s1, pct_ch_1d, pct_ch_3d))"
   ]
  },
  {
   "cell_type": "markdown",
   "metadata": {},
   "source": [
    "## 2 Covariance"
   ]
  },
  {
   "cell_type": "markdown",
   "metadata": {},
   "source": [
    "Given two `pandas.Series` the method `cov` computes covariance between them, excluding missing values."
   ]
  },
  {
   "cell_type": "code",
   "execution_count": 4,
   "metadata": {},
   "outputs": [
    {
     "data": {
      "text/html": [
       "<div style=\"float:left;padding-right: 0.6em;\">\n",
       "<style scoped>\n",
       "    .dataframe tbody tr th:only-of-type {\n",
       "        vertical-align: middle;\n",
       "    }\n",
       "\n",
       "    .dataframe tbody tr th {\n",
       "        vertical-align: top;\n",
       "    }\n",
       "\n",
       "    .dataframe thead th {\n",
       "        text-align: right;\n",
       "    }\n",
       "</style>\n",
       "<table border=\"1\" class=\"dataframe\">\n",
       "  <thead>\n",
       "    <tr style=\"text-align: right;\">\n",
       "      <th></th>\n",
       "      <th>0</th>\n",
       "    </tr>\n",
       "  </thead>\n",
       "  <tbody>\n",
       "    <tr>\n",
       "      <th>2000-01-03</th>\n",
       "      <td>-1.348669</td>\n",
       "    </tr>\n",
       "    <tr>\n",
       "      <th>2000-01-04</th>\n",
       "      <td>-0.550629</td>\n",
       "    </tr>\n",
       "    <tr>\n",
       "      <th>2000-01-05</th>\n",
       "      <td>-0.668182</td>\n",
       "    </tr>\n",
       "    <tr>\n",
       "      <th>2000-01-06</th>\n",
       "      <td>-0.359217</td>\n",
       "    </tr>\n",
       "    <tr>\n",
       "      <th>2000-01-07</th>\n",
       "      <td>0.010123</td>\n",
       "    </tr>\n",
       "    <tr>\n",
       "      <th>2000-01-10</th>\n",
       "      <td>-1.494454</td>\n",
       "    </tr>\n",
       "    <tr>\n",
       "      <th>2000-01-11</th>\n",
       "      <td>-1.115500</td>\n",
       "    </tr>\n",
       "  </tbody>\n",
       "</table>\n",
       "</div><div style=\"float:left;padding-right: 0.6em;\">\n",
       "<style scoped>\n",
       "    .dataframe tbody tr th:only-of-type {\n",
       "        vertical-align: middle;\n",
       "    }\n",
       "\n",
       "    .dataframe tbody tr th {\n",
       "        vertical-align: top;\n",
       "    }\n",
       "\n",
       "    .dataframe thead th {\n",
       "        text-align: right;\n",
       "    }\n",
       "</style>\n",
       "<table border=\"1\" class=\"dataframe\">\n",
       "  <thead>\n",
       "    <tr style=\"text-align: right;\">\n",
       "      <th></th>\n",
       "      <th>0</th>\n",
       "    </tr>\n",
       "  </thead>\n",
       "  <tbody>\n",
       "    <tr>\n",
       "      <th>2000-01-03</th>\n",
       "      <td>-1.570559</td>\n",
       "    </tr>\n",
       "    <tr>\n",
       "      <th>2000-01-04</th>\n",
       "      <td>-0.546077</td>\n",
       "    </tr>\n",
       "    <tr>\n",
       "      <th>2000-01-05</th>\n",
       "      <td>-0.506982</td>\n",
       "    </tr>\n",
       "    <tr>\n",
       "      <th>2000-01-06</th>\n",
       "      <td>-0.346936</td>\n",
       "    </tr>\n",
       "    <tr>\n",
       "      <th>2000-01-07</th>\n",
       "      <td>0.083605</td>\n",
       "    </tr>\n",
       "    <tr>\n",
       "      <th>2000-01-10</th>\n",
       "      <td>-1.195086</td>\n",
       "    </tr>\n",
       "    <tr>\n",
       "      <th>2000-01-11</th>\n",
       "      <td>-1.064149</td>\n",
       "    </tr>\n",
       "  </tbody>\n",
       "</table>\n",
       "</div>"
      ],
      "text/plain": [
       "<IPython.core.display.HTML object>"
      ]
     },
     "execution_count": 4,
     "metadata": {},
     "output_type": "execute_result"
    }
   ],
   "source": [
    "s1 = pd.util.testing.makeTimeSeries(7)\n",
    "s2 = s1 + np.random.randn(len(s1)) / 10\n",
    "HTML(side_by_side2(s1, s2))"
   ]
  },
  {
   "cell_type": "code",
   "execution_count": 5,
   "metadata": {},
   "outputs": [
    {
     "data": {
      "text/plain": [
       "0.29886732146355777"
      ]
     },
     "execution_count": 5,
     "metadata": {},
     "output_type": "execute_result"
    }
   ],
   "source": [
    "s1.cov(s2)"
   ]
  },
  {
   "cell_type": "markdown",
   "metadata": {},
   "source": [
    "It is also possibile to compute pairwise covariance of a `pandas.DataFrame` columns using `pandas.DataFrame.cov` method. Here we use the module `pandas.util.testing` in order to generate random data easily:"
   ]
  },
  {
   "cell_type": "code",
   "execution_count": 6,
   "metadata": {},
   "outputs": [
    {
     "name": "stdout",
     "output_type": "stream",
     "text": [
      "                   A         B         C         D\n",
      "2000-01-03  1.873764  0.006606  1.031176 -1.266077\n",
      "2000-01-04 -0.269824  1.588418  0.675261 -0.437837\n",
      "2000-01-05  0.223423  0.312011 -0.882502 -0.710833\n",
      "2000-01-06 -1.163556  1.019891 -0.310532 -1.039061\n",
      "2000-01-07  0.344085  0.833134 -2.606216 -3.023771\n",
      "          A         B         C         D\n",
      "A  1.222005 -0.284295 -0.085028 -0.272069\n",
      "B -0.284295  1.024260 -0.125176 -0.434902\n",
      "C -0.085028 -0.125176  1.353324  0.492702\n",
      "D -0.272069 -0.434902  0.492702  1.353826\n"
     ]
    }
   ],
   "source": [
    "d1 = pd.util.testing.makeTimeDataFrame()\n",
    "print (d1.head())\n",
    "print (d1.cov())"
   ]
  },
  {
   "cell_type": "markdown",
   "metadata": {},
   "source": [
    "## 3 Correlation"
   ]
  },
  {
   "cell_type": "markdown",
   "metadata": {},
   "source": [
    "`pandas.Series.corr` allows to compute correlation between two `pandas.Series`. By the `method` paramether it's possible to choose between:\n",
    "\n",
    "* Pearson\n",
    "* Kendall\n",
    "* Spearman"
   ]
  },
  {
   "cell_type": "code",
   "execution_count": 7,
   "metadata": {},
   "outputs": [
    {
     "data": {
      "text/plain": [
       "0.9596913637468012"
      ]
     },
     "execution_count": 7,
     "metadata": {},
     "output_type": "execute_result"
    }
   ],
   "source": [
    "s1.corr(s2, method='pearson')"
   ]
  },
  {
   "cell_type": "markdown",
   "metadata": {},
   "source": [
    "Like we just seen for covariance, it is possibile to call `pandas.DataFrame.corr` to obtain pairwise correlation of columns over a `pandas.DataFrame`"
   ]
  },
  {
   "cell_type": "code",
   "execution_count": 8,
   "metadata": {},
   "outputs": [
    {
     "data": {
      "text/html": [
       "<div>\n",
       "<style scoped>\n",
       "    .dataframe tbody tr th:only-of-type {\n",
       "        vertical-align: middle;\n",
       "    }\n",
       "\n",
       "    .dataframe tbody tr th {\n",
       "        vertical-align: top;\n",
       "    }\n",
       "\n",
       "    .dataframe thead th {\n",
       "        text-align: right;\n",
       "    }\n",
       "</style>\n",
       "<table border=\"1\" class=\"dataframe\">\n",
       "  <thead>\n",
       "    <tr style=\"text-align: right;\">\n",
       "      <th></th>\n",
       "      <th>A</th>\n",
       "      <th>B</th>\n",
       "      <th>C</th>\n",
       "      <th>D</th>\n",
       "    </tr>\n",
       "  </thead>\n",
       "  <tbody>\n",
       "    <tr>\n",
       "      <th>A</th>\n",
       "      <td>1.000000</td>\n",
       "      <td>-0.254113</td>\n",
       "      <td>-0.066119</td>\n",
       "      <td>-0.211525</td>\n",
       "    </tr>\n",
       "    <tr>\n",
       "      <th>B</th>\n",
       "      <td>-0.254113</td>\n",
       "      <td>1.000000</td>\n",
       "      <td>-0.106320</td>\n",
       "      <td>-0.369322</td>\n",
       "    </tr>\n",
       "    <tr>\n",
       "      <th>C</th>\n",
       "      <td>-0.066119</td>\n",
       "      <td>-0.106320</td>\n",
       "      <td>1.000000</td>\n",
       "      <td>0.364000</td>\n",
       "    </tr>\n",
       "    <tr>\n",
       "      <th>D</th>\n",
       "      <td>-0.211525</td>\n",
       "      <td>-0.369322</td>\n",
       "      <td>0.364000</td>\n",
       "      <td>1.000000</td>\n",
       "    </tr>\n",
       "  </tbody>\n",
       "</table>\n",
       "</div>"
      ],
      "text/plain": [
       "          A         B         C         D\n",
       "A  1.000000 -0.254113 -0.066119 -0.211525\n",
       "B -0.254113  1.000000 -0.106320 -0.369322\n",
       "C -0.066119 -0.106320  1.000000  0.364000\n",
       "D -0.211525 -0.369322  0.364000  1.000000"
      ]
     },
     "execution_count": 8,
     "metadata": {},
     "output_type": "execute_result"
    }
   ],
   "source": [
    "d1.corr()"
   ]
  },
  {
   "cell_type": "markdown",
   "metadata": {},
   "source": [
    "## 4 Rolling moments and Binary rolling moments"
   ]
  },
  {
   "cell_type": "markdown",
   "metadata": {},
   "source": [
    "`pandas` provides also a lot of methods for calculating rolling moments."
   ]
  },
  {
   "cell_type": "code",
   "execution_count": 9,
   "metadata": {},
   "outputs": [
    {
     "data": {
      "text/plain": [
       "['rolling_apply',\n",
       " 'rolling_corr',\n",
       " 'rolling_count',\n",
       " 'rolling_cov',\n",
       " 'rolling_kurt',\n",
       " 'rolling_max',\n",
       " 'rolling_mean',\n",
       " 'rolling_median',\n",
       " 'rolling_min',\n",
       " 'rolling_quantile',\n",
       " 'rolling_skew',\n",
       " 'rolling_std',\n",
       " 'rolling_sum',\n",
       " 'rolling_var',\n",
       " 'rolling_window']"
      ]
     },
     "execution_count": 9,
     "metadata": {},
     "output_type": "execute_result"
    }
   ],
   "source": [
    "[n for n in dir(pd) if n.startswith('rolling')]"
   ]
  },
  {
   "cell_type": "markdown",
   "metadata": {},
   "source": [
    "Let's see some examples:"
   ]
  },
  {
   "cell_type": "code",
   "execution_count": 10,
   "metadata": {},
   "outputs": [
    {
     "data": {
      "text/html": [
       "<div>\n",
       "<style scoped>\n",
       "    .dataframe tbody tr th:only-of-type {\n",
       "        vertical-align: middle;\n",
       "    }\n",
       "\n",
       "    .dataframe tbody tr th {\n",
       "        vertical-align: top;\n",
       "    }\n",
       "\n",
       "    .dataframe thead th {\n",
       "        text-align: right;\n",
       "    }\n",
       "</style>\n",
       "<table border=\"1\" class=\"dataframe\">\n",
       "  <thead>\n",
       "    <tr style=\"text-align: right;\">\n",
       "      <th></th>\n",
       "      <th>cumsum</th>\n",
       "      <th>max</th>\n",
       "      <th>mean</th>\n",
       "      <th>min</th>\n",
       "    </tr>\n",
       "  </thead>\n",
       "  <tbody>\n",
       "    <tr>\n",
       "      <th>2002-09-22</th>\n",
       "      <td>22.552347</td>\n",
       "      <td>22.552347</td>\n",
       "      <td>12.281759</td>\n",
       "      <td>3.117080</td>\n",
       "    </tr>\n",
       "    <tr>\n",
       "      <th>2002-09-23</th>\n",
       "      <td>22.350431</td>\n",
       "      <td>22.552347</td>\n",
       "      <td>12.577096</td>\n",
       "      <td>3.117080</td>\n",
       "    </tr>\n",
       "    <tr>\n",
       "      <th>2002-09-24</th>\n",
       "      <td>21.767979</td>\n",
       "      <td>22.552347</td>\n",
       "      <td>12.887944</td>\n",
       "      <td>3.675339</td>\n",
       "    </tr>\n",
       "    <tr>\n",
       "      <th>2002-09-25</th>\n",
       "      <td>21.627637</td>\n",
       "      <td>22.552347</td>\n",
       "      <td>13.187149</td>\n",
       "      <td>4.936078</td>\n",
       "    </tr>\n",
       "    <tr>\n",
       "      <th>2002-09-26</th>\n",
       "      <td>20.773243</td>\n",
       "      <td>22.552347</td>\n",
       "      <td>13.449934</td>\n",
       "      <td>4.936078</td>\n",
       "    </tr>\n",
       "  </tbody>\n",
       "</table>\n",
       "</div>"
      ],
      "text/plain": [
       "               cumsum        max       mean       min\n",
       "2002-09-22  22.552347  22.552347  12.281759  3.117080\n",
       "2002-09-23  22.350431  22.552347  12.577096  3.117080\n",
       "2002-09-24  21.767979  22.552347  12.887944  3.675339\n",
       "2002-09-25  21.627637  22.552347  13.187149  4.936078\n",
       "2002-09-26  20.773243  22.552347  13.449934  4.936078"
      ]
     },
     "execution_count": 10,
     "metadata": {},
     "output_type": "execute_result"
    }
   ],
   "source": [
    "s3 = pd.Series(np.random.randn(1000), index=pd.date_range('1/1/2000', periods=1000))\n",
    "s3 = s3.cumsum()\n",
    "s3_max = s3.rolling(60).max()\n",
    "s3_mean = s3.rolling(60).mean()\n",
    "s3_min = s3.rolling(60).min()\n",
    "data = {'cumsum':s3, 'max':s3_max, 'mean':s3_mean, 'min':s3_min}\n",
    "df = pd.DataFrame(data)\n",
    "df.tail()"
   ]
  },
  {
   "cell_type": "code",
   "execution_count": 11,
   "metadata": {},
   "outputs": [
    {
     "data": {
      "text/html": [
       "\n",
       "    <div class=\"bk-root\">\n",
       "        <a href=\"https://bokeh.pydata.org\" target=\"_blank\" class=\"bk-logo bk-logo-small bk-logo-notebook\"></a>\n",
       "        <span id=\"a24f60f0-6dd4-4c89-ba20-ef275a4fe98d\">Loading BokehJS ...</span>\n",
       "    </div>"
      ]
     },
     "metadata": {},
     "output_type": "display_data"
    },
    {
     "data": {
      "application/javascript": [
       "\n",
       "(function(root) {\n",
       "  function now() {\n",
       "    return new Date();\n",
       "  }\n",
       "\n",
       "  var force = true;\n",
       "\n",
       "  if (typeof (root._bokeh_onload_callbacks) === \"undefined\" || force === true) {\n",
       "    root._bokeh_onload_callbacks = [];\n",
       "    root._bokeh_is_loading = undefined;\n",
       "  }\n",
       "\n",
       "  var JS_MIME_TYPE = 'application/javascript';\n",
       "  var HTML_MIME_TYPE = 'text/html';\n",
       "  var EXEC_MIME_TYPE = 'application/vnd.bokehjs_exec.v0+json';\n",
       "  var CLASS_NAME = 'output_bokeh rendered_html';\n",
       "\n",
       "  /**\n",
       "   * Render data to the DOM node\n",
       "   */\n",
       "  function render(props, node) {\n",
       "    var script = document.createElement(\"script\");\n",
       "    node.appendChild(script);\n",
       "  }\n",
       "\n",
       "  /**\n",
       "   * Handle when an output is cleared or removed\n",
       "   */\n",
       "  function handleClearOutput(event, handle) {\n",
       "    var cell = handle.cell;\n",
       "\n",
       "    var id = cell.output_area._bokeh_element_id;\n",
       "    var server_id = cell.output_area._bokeh_server_id;\n",
       "    // Clean up Bokeh references\n",
       "    if (id !== undefined) {\n",
       "      Bokeh.index[id].model.document.clear();\n",
       "      delete Bokeh.index[id];\n",
       "    }\n",
       "\n",
       "    if (server_id !== undefined) {\n",
       "      // Clean up Bokeh references\n",
       "      var cmd = \"from bokeh.io.state import curstate; print(curstate().uuid_to_server['\" + server_id + \"'].get_sessions()[0].document.roots[0]._id)\";\n",
       "      cell.notebook.kernel.execute(cmd, {\n",
       "        iopub: {\n",
       "          output: function(msg) {\n",
       "            var element_id = msg.content.text.trim();\n",
       "            Bokeh.index[element_id].model.document.clear();\n",
       "            delete Bokeh.index[element_id];\n",
       "          }\n",
       "        }\n",
       "      });\n",
       "      // Destroy server and session\n",
       "      var cmd = \"import bokeh.io.notebook as ion; ion.destroy_server('\" + server_id + \"')\";\n",
       "      cell.notebook.kernel.execute(cmd);\n",
       "    }\n",
       "  }\n",
       "\n",
       "  /**\n",
       "   * Handle when a new output is added\n",
       "   */\n",
       "  function handleAddOutput(event, handle) {\n",
       "    var output_area = handle.output_area;\n",
       "    var output = handle.output;\n",
       "\n",
       "    // limit handleAddOutput to display_data with EXEC_MIME_TYPE content only\n",
       "    if ((output.output_type != \"display_data\") || (!output.data.hasOwnProperty(EXEC_MIME_TYPE))) {\n",
       "      return\n",
       "    }\n",
       "\n",
       "    var toinsert = output_area.element.find(\".\" + CLASS_NAME.split(' ')[0]);\n",
       "\n",
       "    if (output.metadata[EXEC_MIME_TYPE][\"id\"] !== undefined) {\n",
       "      toinsert[0].firstChild.textContent = output.data[JS_MIME_TYPE];\n",
       "      // store reference to embed id on output_area\n",
       "      output_area._bokeh_element_id = output.metadata[EXEC_MIME_TYPE][\"id\"];\n",
       "    }\n",
       "    if (output.metadata[EXEC_MIME_TYPE][\"server_id\"] !== undefined) {\n",
       "      var bk_div = document.createElement(\"div\");\n",
       "      bk_div.innerHTML = output.data[HTML_MIME_TYPE];\n",
       "      var script_attrs = bk_div.children[0].attributes;\n",
       "      for (var i = 0; i < script_attrs.length; i++) {\n",
       "        toinsert[0].firstChild.setAttribute(script_attrs[i].name, script_attrs[i].value);\n",
       "      }\n",
       "      // store reference to server id on output_area\n",
       "      output_area._bokeh_server_id = output.metadata[EXEC_MIME_TYPE][\"server_id\"];\n",
       "    }\n",
       "  }\n",
       "\n",
       "  function register_renderer(events, OutputArea) {\n",
       "\n",
       "    function append_mime(data, metadata, element) {\n",
       "      // create a DOM node to render to\n",
       "      var toinsert = this.create_output_subarea(\n",
       "        metadata,\n",
       "        CLASS_NAME,\n",
       "        EXEC_MIME_TYPE\n",
       "      );\n",
       "      this.keyboard_manager.register_events(toinsert);\n",
       "      // Render to node\n",
       "      var props = {data: data, metadata: metadata[EXEC_MIME_TYPE]};\n",
       "      render(props, toinsert[0]);\n",
       "      element.append(toinsert);\n",
       "      return toinsert\n",
       "    }\n",
       "\n",
       "    /* Handle when an output is cleared or removed */\n",
       "    events.on('clear_output.CodeCell', handleClearOutput);\n",
       "    events.on('delete.Cell', handleClearOutput);\n",
       "\n",
       "    /* Handle when a new output is added */\n",
       "    events.on('output_added.OutputArea', handleAddOutput);\n",
       "\n",
       "    /**\n",
       "     * Register the mime type and append_mime function with output_area\n",
       "     */\n",
       "    OutputArea.prototype.register_mime_type(EXEC_MIME_TYPE, append_mime, {\n",
       "      /* Is output safe? */\n",
       "      safe: true,\n",
       "      /* Index of renderer in `output_area.display_order` */\n",
       "      index: 0\n",
       "    });\n",
       "  }\n",
       "\n",
       "  // register the mime type if in Jupyter Notebook environment and previously unregistered\n",
       "  if (root.Jupyter !== undefined) {\n",
       "    var events = require('base/js/events');\n",
       "    var OutputArea = require('notebook/js/outputarea').OutputArea;\n",
       "\n",
       "    if (OutputArea.prototype.mime_types().indexOf(EXEC_MIME_TYPE) == -1) {\n",
       "      register_renderer(events, OutputArea);\n",
       "    }\n",
       "  }\n",
       "\n",
       "  \n",
       "  if (typeof (root._bokeh_timeout) === \"undefined\" || force === true) {\n",
       "    root._bokeh_timeout = Date.now() + 5000;\n",
       "    root._bokeh_failed_load = false;\n",
       "  }\n",
       "\n",
       "  var NB_LOAD_WARNING = {'data': {'text/html':\n",
       "     \"<div style='background-color: #fdd'>\\n\"+\n",
       "     \"<p>\\n\"+\n",
       "     \"BokehJS does not appear to have successfully loaded. If loading BokehJS from CDN, this \\n\"+\n",
       "     \"may be due to a slow or bad network connection. Possible fixes:\\n\"+\n",
       "     \"</p>\\n\"+\n",
       "     \"<ul>\\n\"+\n",
       "     \"<li>re-rerun `output_notebook()` to attempt to load from CDN again, or</li>\\n\"+\n",
       "     \"<li>use INLINE resources instead, as so:</li>\\n\"+\n",
       "     \"</ul>\\n\"+\n",
       "     \"<code>\\n\"+\n",
       "     \"from bokeh.resources import INLINE\\n\"+\n",
       "     \"output_notebook(resources=INLINE)\\n\"+\n",
       "     \"</code>\\n\"+\n",
       "     \"</div>\"}};\n",
       "\n",
       "  function display_loaded() {\n",
       "    var el = document.getElementById(\"a24f60f0-6dd4-4c89-ba20-ef275a4fe98d\");\n",
       "    if (el != null) {\n",
       "      el.textContent = \"BokehJS is loading...\";\n",
       "    }\n",
       "    if (root.Bokeh !== undefined) {\n",
       "      if (el != null) {\n",
       "        el.textContent = \"BokehJS \" + root.Bokeh.version + \" successfully loaded.\";\n",
       "      }\n",
       "    } else if (Date.now() < root._bokeh_timeout) {\n",
       "      setTimeout(display_loaded, 100)\n",
       "    }\n",
       "  }\n",
       "\n",
       "\n",
       "  function run_callbacks() {\n",
       "    try {\n",
       "      root._bokeh_onload_callbacks.forEach(function(callback) { callback() });\n",
       "    }\n",
       "    finally {\n",
       "      delete root._bokeh_onload_callbacks\n",
       "    }\n",
       "    console.info(\"Bokeh: all callbacks have finished\");\n",
       "  }\n",
       "\n",
       "  function load_libs(js_urls, callback) {\n",
       "    root._bokeh_onload_callbacks.push(callback);\n",
       "    if (root._bokeh_is_loading > 0) {\n",
       "      console.log(\"Bokeh: BokehJS is being loaded, scheduling callback at\", now());\n",
       "      return null;\n",
       "    }\n",
       "    if (js_urls == null || js_urls.length === 0) {\n",
       "      run_callbacks();\n",
       "      return null;\n",
       "    }\n",
       "    console.log(\"Bokeh: BokehJS not loaded, scheduling load and callback at\", now());\n",
       "    root._bokeh_is_loading = js_urls.length;\n",
       "    for (var i = 0; i < js_urls.length; i++) {\n",
       "      var url = js_urls[i];\n",
       "      var s = document.createElement('script');\n",
       "      s.src = url;\n",
       "      s.async = false;\n",
       "      s.onreadystatechange = s.onload = function() {\n",
       "        root._bokeh_is_loading--;\n",
       "        if (root._bokeh_is_loading === 0) {\n",
       "          console.log(\"Bokeh: all BokehJS libraries loaded\");\n",
       "          run_callbacks()\n",
       "        }\n",
       "      };\n",
       "      s.onerror = function() {\n",
       "        console.warn(\"failed to load library \" + url);\n",
       "      };\n",
       "      console.log(\"Bokeh: injecting script tag for BokehJS library: \", url);\n",
       "      document.getElementsByTagName(\"head\")[0].appendChild(s);\n",
       "    }\n",
       "  };var element = document.getElementById(\"a24f60f0-6dd4-4c89-ba20-ef275a4fe98d\");\n",
       "  if (element == null) {\n",
       "    console.log(\"Bokeh: ERROR: autoload.js configured with elementid 'a24f60f0-6dd4-4c89-ba20-ef275a4fe98d' but no matching script tag was found. \")\n",
       "    return false;\n",
       "  }\n",
       "\n",
       "  var js_urls = [\"https://cdn.pydata.org/bokeh/release/bokeh-0.12.13.min.js\", \"https://cdn.pydata.org/bokeh/release/bokeh-widgets-0.12.13.min.js\", \"https://cdn.pydata.org/bokeh/release/bokeh-tables-0.12.13.min.js\", \"https://cdn.pydata.org/bokeh/release/bokeh-gl-0.12.13.min.js\"];\n",
       "\n",
       "  var inline_js = [\n",
       "    function(Bokeh) {\n",
       "      Bokeh.set_log_level(\"info\");\n",
       "    },\n",
       "    \n",
       "    function(Bokeh) {\n",
       "      \n",
       "    },\n",
       "    function(Bokeh) {\n",
       "      console.log(\"Bokeh: injecting CSS: https://cdn.pydata.org/bokeh/release/bokeh-0.12.13.min.css\");\n",
       "      Bokeh.embed.inject_css(\"https://cdn.pydata.org/bokeh/release/bokeh-0.12.13.min.css\");\n",
       "      console.log(\"Bokeh: injecting CSS: https://cdn.pydata.org/bokeh/release/bokeh-widgets-0.12.13.min.css\");\n",
       "      Bokeh.embed.inject_css(\"https://cdn.pydata.org/bokeh/release/bokeh-widgets-0.12.13.min.css\");\n",
       "      console.log(\"Bokeh: injecting CSS: https://cdn.pydata.org/bokeh/release/bokeh-tables-0.12.13.min.css\");\n",
       "      Bokeh.embed.inject_css(\"https://cdn.pydata.org/bokeh/release/bokeh-tables-0.12.13.min.css\");\n",
       "    }\n",
       "  ];\n",
       "\n",
       "  function run_inline_js() {\n",
       "    \n",
       "    if ((root.Bokeh !== undefined) || (force === true)) {\n",
       "      for (var i = 0; i < inline_js.length; i++) {\n",
       "        inline_js[i].call(root, root.Bokeh);\n",
       "      }if (force === true) {\n",
       "        display_loaded();\n",
       "      }} else if (Date.now() < root._bokeh_timeout) {\n",
       "      setTimeout(run_inline_js, 100);\n",
       "    } else if (!root._bokeh_failed_load) {\n",
       "      console.log(\"Bokeh: BokehJS failed to load within specified timeout.\");\n",
       "      root._bokeh_failed_load = true;\n",
       "    } else if (force !== true) {\n",
       "      var cell = $(document.getElementById(\"a24f60f0-6dd4-4c89-ba20-ef275a4fe98d\")).parents('.cell').data().cell;\n",
       "      cell.output_area.append_execute_result(NB_LOAD_WARNING)\n",
       "    }\n",
       "\n",
       "  }\n",
       "\n",
       "  if (root._bokeh_is_loading === 0) {\n",
       "    console.log(\"Bokeh: BokehJS loaded, going straight to plotting\");\n",
       "    run_inline_js();\n",
       "  } else {\n",
       "    load_libs(js_urls, function() {\n",
       "      console.log(\"Bokeh: BokehJS plotting callback run at\", now());\n",
       "      run_inline_js();\n",
       "    });\n",
       "  }\n",
       "}(window));"
      ],
      "application/vnd.bokehjs_load.v0+json": "\n(function(root) {\n  function now() {\n    return new Date();\n  }\n\n  var force = true;\n\n  if (typeof (root._bokeh_onload_callbacks) === \"undefined\" || force === true) {\n    root._bokeh_onload_callbacks = [];\n    root._bokeh_is_loading = undefined;\n  }\n\n  \n\n  \n  if (typeof (root._bokeh_timeout) === \"undefined\" || force === true) {\n    root._bokeh_timeout = Date.now() + 5000;\n    root._bokeh_failed_load = false;\n  }\n\n  var NB_LOAD_WARNING = {'data': {'text/html':\n     \"<div style='background-color: #fdd'>\\n\"+\n     \"<p>\\n\"+\n     \"BokehJS does not appear to have successfully loaded. If loading BokehJS from CDN, this \\n\"+\n     \"may be due to a slow or bad network connection. Possible fixes:\\n\"+\n     \"</p>\\n\"+\n     \"<ul>\\n\"+\n     \"<li>re-rerun `output_notebook()` to attempt to load from CDN again, or</li>\\n\"+\n     \"<li>use INLINE resources instead, as so:</li>\\n\"+\n     \"</ul>\\n\"+\n     \"<code>\\n\"+\n     \"from bokeh.resources import INLINE\\n\"+\n     \"output_notebook(resources=INLINE)\\n\"+\n     \"</code>\\n\"+\n     \"</div>\"}};\n\n  function display_loaded() {\n    var el = document.getElementById(\"a24f60f0-6dd4-4c89-ba20-ef275a4fe98d\");\n    if (el != null) {\n      el.textContent = \"BokehJS is loading...\";\n    }\n    if (root.Bokeh !== undefined) {\n      if (el != null) {\n        el.textContent = \"BokehJS \" + root.Bokeh.version + \" successfully loaded.\";\n      }\n    } else if (Date.now() < root._bokeh_timeout) {\n      setTimeout(display_loaded, 100)\n    }\n  }\n\n\n  function run_callbacks() {\n    try {\n      root._bokeh_onload_callbacks.forEach(function(callback) { callback() });\n    }\n    finally {\n      delete root._bokeh_onload_callbacks\n    }\n    console.info(\"Bokeh: all callbacks have finished\");\n  }\n\n  function load_libs(js_urls, callback) {\n    root._bokeh_onload_callbacks.push(callback);\n    if (root._bokeh_is_loading > 0) {\n      console.log(\"Bokeh: BokehJS is being loaded, scheduling callback at\", now());\n      return null;\n    }\n    if (js_urls == null || js_urls.length === 0) {\n      run_callbacks();\n      return null;\n    }\n    console.log(\"Bokeh: BokehJS not loaded, scheduling load and callback at\", now());\n    root._bokeh_is_loading = js_urls.length;\n    for (var i = 0; i < js_urls.length; i++) {\n      var url = js_urls[i];\n      var s = document.createElement('script');\n      s.src = url;\n      s.async = false;\n      s.onreadystatechange = s.onload = function() {\n        root._bokeh_is_loading--;\n        if (root._bokeh_is_loading === 0) {\n          console.log(\"Bokeh: all BokehJS libraries loaded\");\n          run_callbacks()\n        }\n      };\n      s.onerror = function() {\n        console.warn(\"failed to load library \" + url);\n      };\n      console.log(\"Bokeh: injecting script tag for BokehJS library: \", url);\n      document.getElementsByTagName(\"head\")[0].appendChild(s);\n    }\n  };var element = document.getElementById(\"a24f60f0-6dd4-4c89-ba20-ef275a4fe98d\");\n  if (element == null) {\n    console.log(\"Bokeh: ERROR: autoload.js configured with elementid 'a24f60f0-6dd4-4c89-ba20-ef275a4fe98d' but no matching script tag was found. \")\n    return false;\n  }\n\n  var js_urls = [\"https://cdn.pydata.org/bokeh/release/bokeh-0.12.13.min.js\", \"https://cdn.pydata.org/bokeh/release/bokeh-widgets-0.12.13.min.js\", \"https://cdn.pydata.org/bokeh/release/bokeh-tables-0.12.13.min.js\", \"https://cdn.pydata.org/bokeh/release/bokeh-gl-0.12.13.min.js\"];\n\n  var inline_js = [\n    function(Bokeh) {\n      Bokeh.set_log_level(\"info\");\n    },\n    \n    function(Bokeh) {\n      \n    },\n    function(Bokeh) {\n      console.log(\"Bokeh: injecting CSS: https://cdn.pydata.org/bokeh/release/bokeh-0.12.13.min.css\");\n      Bokeh.embed.inject_css(\"https://cdn.pydata.org/bokeh/release/bokeh-0.12.13.min.css\");\n      console.log(\"Bokeh: injecting CSS: https://cdn.pydata.org/bokeh/release/bokeh-widgets-0.12.13.min.css\");\n      Bokeh.embed.inject_css(\"https://cdn.pydata.org/bokeh/release/bokeh-widgets-0.12.13.min.css\");\n      console.log(\"Bokeh: injecting CSS: https://cdn.pydata.org/bokeh/release/bokeh-tables-0.12.13.min.css\");\n      Bokeh.embed.inject_css(\"https://cdn.pydata.org/bokeh/release/bokeh-tables-0.12.13.min.css\");\n    }\n  ];\n\n  function run_inline_js() {\n    \n    if ((root.Bokeh !== undefined) || (force === true)) {\n      for (var i = 0; i < inline_js.length; i++) {\n        inline_js[i].call(root, root.Bokeh);\n      }if (force === true) {\n        display_loaded();\n      }} else if (Date.now() < root._bokeh_timeout) {\n      setTimeout(run_inline_js, 100);\n    } else if (!root._bokeh_failed_load) {\n      console.log(\"Bokeh: BokehJS failed to load within specified timeout.\");\n      root._bokeh_failed_load = true;\n    } else if (force !== true) {\n      var cell = $(document.getElementById(\"a24f60f0-6dd4-4c89-ba20-ef275a4fe98d\")).parents('.cell').data().cell;\n      cell.output_area.append_execute_result(NB_LOAD_WARNING)\n    }\n\n  }\n\n  if (root._bokeh_is_loading === 0) {\n    console.log(\"Bokeh: BokehJS loaded, going straight to plotting\");\n    run_inline_js();\n  } else {\n    load_libs(js_urls, function() {\n      console.log(\"Bokeh: BokehJS plotting callback run at\", now());\n      run_inline_js();\n    });\n  }\n}(window));"
     },
     "metadata": {},
     "output_type": "display_data"
    }
   ],
   "source": [
    "bk.output_notebook()"
   ]
  },
  {
   "cell_type": "code",
   "execution_count": 12,
   "metadata": {},
   "outputs": [
    {
     "data": {
      "text/html": [
       "\n",
       "<div class=\"bk-root\">\n",
       "    <div class=\"bk-plotdiv\" id=\"c0f4a81e-e2bf-452b-855b-53f8ac448830\"></div>\n",
       "</div>"
      ]
     },
     "metadata": {},
     "output_type": "display_data"
    },
    {
     "data": {
      "application/javascript": [
       "(function(root) {\n",
       "  function embed_document(root) {\n",
       "    \n",
       "  var docs_json = {\"f36c2b42-f499-4b8f-be8a-595909c495f7\":{\"roots\":{\"references\":[{\"attributes\":{\"days\":[1,15]},\"id\":\"51b2a9bf-10c6-4546-82d3-336c74b16d0e\",\"type\":\"DaysTicker\"},{\"attributes\":{\"callback\":null,\"column_names\":[\"x\",\"y\"],\"data\":{\"x\":{\"__ndarray__\":\"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\",\"dtype\":\"float64\",\"shape\":[1000]},\"y\":{\"__ndarray__\":\"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\",\"dtype\":\"float64\",\"shape\":[1000]}}},\"id\":\"aae180b8-85d9-468a-8624-983897279a34\",\"type\":\"ColumnDataSource\"},{\"attributes\":{\"months\":[0,1,2,3,4,5,6,7,8,9,10,11]},\"id\":\"1ce7bb23-3438-4e58-924e-ea968c6b989f\",\"type\":\"MonthsTicker\"},{\"attributes\":{\"callback\":null},\"id\":\"aa6a1086-9be0-415f-b4ce-16b8f00c8a50\",\"type\":\"DataRange1d\"},{\"attributes\":{\"months\":[0,2,4,6,8,10]},\"id\":\"37751edf-5b86-4b81-b556-2b0bfd14221c\",\"type\":\"MonthsTicker\"},{\"attributes\":{\"months\":[0,4,8]},\"id\":\"eb29ef0c-9b36-4b66-b070-9f6557ee8c0c\",\"type\":\"MonthsTicker\"},{\"attributes\":{\"months\":[0,6]},\"id\":\"1803acf6-e39a-4a4e-882a-422b5ccca5b7\",\"type\":\"MonthsTicker\"},{\"attributes\":{},\"id\":\"4a0855b6-6bc0-421a-b327-fd9377f2a28b\",\"type\":\"YearsTicker\"},{\"attributes\":{\"below\":[{\"id\":\"3096c9ec-2974-4fd1-b3ba-5a349b4e9e3d\",\"type\":\"DatetimeAxis\"}],\"left\":[{\"id\":\"27983764-9d04-4b3b-af28-9d054e02c84d\",\"type\":\"LinearAxis\"}],\"plot_height\":400,\"plot_width\":750,\"renderers\":[{\"id\":\"3096c9ec-2974-4fd1-b3ba-5a349b4e9e3d\",\"type\":\"DatetimeAxis\"},{\"id\":\"456f201e-8fd3-4210-85d7-7e097497dc67\",\"type\":\"Grid\"},{\"id\":\"27983764-9d04-4b3b-af28-9d054e02c84d\",\"type\":\"LinearAxis\"},{\"id\":\"4b5ad09a-766f-4db4-a05c-5eb7b702240e\",\"type\":\"Grid\"},{\"id\":\"c8fd5cf7-cc50-4e3f-964e-a6b979e02333\",\"type\":\"BoxAnnotation\"},{\"id\":\"1baee2c9-9174-49f3-ad82-1ab1f5e8bc19\",\"type\":\"Legend\"},{\"id\":\"7ea0c1fd-20e4-4898-a6b3-c24c7dca325d\",\"type\":\"GlyphRenderer\"},{\"id\":\"21cd27d6-7c63-495e-9033-cccebe5e9b51\",\"type\":\"GlyphRenderer\"},{\"id\":\"3c85aea8-5770-4ca0-8e47-c7b4ccd9427d\",\"type\":\"GlyphRenderer\"},{\"id\":\"a61f434a-b7e1-4a54-9374-ee1d21f53ad2\",\"type\":\"GlyphRenderer\"}],\"title\":{\"id\":\"faae205b-b544-478f-b027-921a8bdb5fb7\",\"type\":\"Title\"},\"toolbar\":{\"id\":\"1adc0cac-f198-423e-a072-5a93acca7b4f\",\"type\":\"Toolbar\"},\"x_range\":{\"id\":\"9e79dbe6-bd84-4902-81b4-8c284fcd49b0\",\"type\":\"DataRange1d\"},\"x_scale\":{\"id\":\"7a5e7045-511e-4f2a-a877-c8eaba3b5479\",\"type\":\"LinearScale\"},\"y_range\":{\"id\":\"aa6a1086-9be0-415f-b4ce-16b8f00c8a50\",\"type\":\"DataRange1d\"},\"y_scale\":{\"id\":\"8cba04a8-781d-436b-a315-0d040045d6f3\",\"type\":\"LinearScale\"}},\"id\":\"3023bfd2-811a-40a8-9fd4-3dd2135131da\",\"subtype\":\"Figure\",\"type\":\"Plot\"},{\"attributes\":{\"items\":[{\"id\":\"070ce500-902c-4339-86ce-6fb8f00361c5\",\"type\":\"LegendItem\"},{\"id\":\"22067ff9-4982-42f2-b209-fe2c0b3a7462\",\"type\":\"LegendItem\"},{\"id\":\"d167846a-6be8-41e1-82b1-6b1f4a92170e\",\"type\":\"LegendItem\"}],\"plot\":{\"id\":\"3023bfd2-811a-40a8-9fd4-3dd2135131da\",\"subtype\":\"Figure\",\"type\":\"Plot\"}},\"id\":\"1baee2c9-9174-49f3-ad82-1ab1f5e8bc19\",\"type\":\"Legend\"},{\"attributes\":{\"plot\":null,\"text\":\"Rolling Moments\"},\"id\":\"faae205b-b544-478f-b027-921a8bdb5fb7\",\"type\":\"Title\"},{\"attributes\":{\"line_color\":\"cadetblue\",\"x\":{\"field\":\"x\"},\"y\":{\"field\":\"y\"}},\"id\":\"b5ec5949-016b-4a70-a1e8-6bb0eabd60c3\",\"type\":\"Line\"},{\"attributes\":{\"callback\":null,\"column_names\":[\"x\",\"y\"],\"data\":{\"x\":{\"__ndarray__\":\"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\",\"dtype\":\"float64\",\"shape\":[1000]},\"y\":{\"__ndarray__\":\"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\",\"dtype\":\"float64\",\"shape\":[1000]}}},\"id\":\"636fcf3e-cd90-4b1a-a716-23052b8d3072\",\"type\":\"ColumnDataSource\"},{\"attributes\":{\"formatter\":{\"id\":\"8528b83b-55d6-4450-9422-7ca1ab22d70d\",\"type\":\"DatetimeTickFormatter\"},\"plot\":{\"id\":\"3023bfd2-811a-40a8-9fd4-3dd2135131da\",\"subtype\":\"Figure\",\"type\":\"Plot\"},\"ticker\":{\"id\":\"19600f7f-8517-4f53-99a4-d5bca07c5ecc\",\"type\":\"DatetimeTicker\"}},\"id\":\"3096c9ec-2974-4fd1-b3ba-5a349b4e9e3d\",\"type\":\"DatetimeAxis\"},{\"attributes\":{\"label\":{\"value\":\"Max\"},\"renderers\":[{\"id\":\"21cd27d6-7c63-495e-9033-cccebe5e9b51\",\"type\":\"GlyphRenderer\"}]},\"id\":\"22067ff9-4982-42f2-b209-fe2c0b3a7462\",\"type\":\"LegendItem\"},{\"attributes\":{\"label\":{\"value\":\"Cumulative Sum\"},\"renderers\":[{\"id\":\"7ea0c1fd-20e4-4898-a6b3-c24c7dca325d\",\"type\":\"GlyphRenderer\"}]},\"id\":\"070ce500-902c-4339-86ce-6fb8f00361c5\",\"type\":\"LegendItem\"},{\"attributes\":{\"line_color\":\"navy\",\"x\":{\"field\":\"x\"},\"y\":{\"field\":\"y\"}},\"id\":\"0d44e595-260c-4238-904f-a3caa7e34e47\",\"type\":\"Line\"},{\"attributes\":{},\"id\":\"8cba04a8-781d-436b-a315-0d040045d6f3\",\"type\":\"LinearScale\"},{\"attributes\":{\"data_source\":{\"id\":\"636fcf3e-cd90-4b1a-a716-23052b8d3072\",\"type\":\"ColumnDataSource\"},\"glyph\":{\"id\":\"dd43f3f7-2a43-4f5b-b74a-fbf5f54173b9\",\"type\":\"Line\"},\"hover_glyph\":null,\"muted_glyph\":null,\"nonselection_glyph\":{\"id\":\"279cbe77-c49f-4ea7-80d3-2f50ef8b55ec\",\"type\":\"Line\"},\"selection_glyph\":null,\"view\":{\"id\":\"797633ab-3610-4c1a-ad57-4dc3f827f0f9\",\"type\":\"CDSView\"}},\"id\":\"21cd27d6-7c63-495e-9033-cccebe5e9b51\",\"type\":\"GlyphRenderer\"},{\"attributes\":{},\"id\":\"7a5e7045-511e-4f2a-a877-c8eaba3b5479\",\"type\":\"LinearScale\"},{\"attributes\":{\"active_drag\":\"auto\",\"active_inspect\":\"auto\",\"active_scroll\":\"auto\",\"active_tap\":\"auto\",\"tools\":[{\"id\":\"ee006f5e-51d9-4db0-ae9a-f01e04420f48\",\"type\":\"PanTool\"},{\"id\":\"b528174c-03d6-4b97-aada-c19f2d7c8dd4\",\"type\":\"BoxZoomTool\"},{\"id\":\"fe57716f-6e80-4c64-b653-e6a8f4f00f2d\",\"type\":\"ResetTool\"}]},\"id\":\"1adc0cac-f198-423e-a072-5a93acca7b4f\",\"type\":\"Toolbar\"},{\"attributes\":{\"line_color\":\"mediumorchid\",\"x\":{\"field\":\"x\"},\"y\":{\"field\":\"y\"}},\"id\":\"dd43f3f7-2a43-4f5b-b74a-fbf5f54173b9\",\"type\":\"Line\"},{\"attributes\":{\"line_alpha\":0.1,\"line_color\":\"#1f77b4\",\"x\":{\"field\":\"x\"},\"y\":{\"field\":\"y\"}},\"id\":\"279cbe77-c49f-4ea7-80d3-2f50ef8b55ec\",\"type\":\"Line\"},{\"attributes\":{\"days\":[1,4,7,10,13,16,19,22,25,28]},\"id\":\"e6611235-a262-496e-b40f-7637d47f39e1\",\"type\":\"DaysTicker\"},{\"attributes\":{\"num_minor_ticks\":5,\"tickers\":[{\"id\":\"b9a512b3-cf93-41f9-9482-3751f4244889\",\"type\":\"AdaptiveTicker\"},{\"id\":\"b6348df8-07e9-4198-a8d4-a4b673e81e7e\",\"type\":\"AdaptiveTicker\"},{\"id\":\"78c3df30-4e90-4482-8721-e1b2e9f3efe4\",\"type\":\"AdaptiveTicker\"},{\"id\":\"1689aa12-9b04-40e7-9c99-8dd79191db3b\",\"type\":\"DaysTicker\"},{\"id\":\"e6611235-a262-496e-b40f-7637d47f39e1\",\"type\":\"DaysTicker\"},{\"id\":\"b172cc16-9eb3-4caa-ba8b-adefd0714711\",\"type\":\"DaysTicker\"},{\"id\":\"51b2a9bf-10c6-4546-82d3-336c74b16d0e\",\"type\":\"DaysTicker\"},{\"id\":\"1ce7bb23-3438-4e58-924e-ea968c6b989f\",\"type\":\"MonthsTicker\"},{\"id\":\"37751edf-5b86-4b81-b556-2b0bfd14221c\",\"type\":\"MonthsTicker\"},{\"id\":\"eb29ef0c-9b36-4b66-b070-9f6557ee8c0c\",\"type\":\"MonthsTicker\"},{\"id\":\"1803acf6-e39a-4a4e-882a-422b5ccca5b7\",\"type\":\"MonthsTicker\"},{\"id\":\"4a0855b6-6bc0-421a-b327-fd9377f2a28b\",\"type\":\"YearsTicker\"}]},\"id\":\"19600f7f-8517-4f53-99a4-d5bca07c5ecc\",\"type\":\"DatetimeTicker\"},{\"attributes\":{\"line_alpha\":0.1,\"line_color\":\"#1f77b4\",\"x\":{\"field\":\"x\"},\"y\":{\"field\":\"y\"}},\"id\":\"6929d79e-d5ab-4bf7-bf74-6da3b2df38a7\",\"type\":\"Line\"},{\"attributes\":{\"plot\":{\"id\":\"3023bfd2-811a-40a8-9fd4-3dd2135131da\",\"subtype\":\"Figure\",\"type\":\"Plot\"},\"ticker\":{\"id\":\"19600f7f-8517-4f53-99a4-d5bca07c5ecc\",\"type\":\"DatetimeTicker\"}},\"id\":\"456f201e-8fd3-4210-85d7-7e097497dc67\",\"type\":\"Grid\"},{\"attributes\":{\"source\":{\"id\":\"636fcf3e-cd90-4b1a-a716-23052b8d3072\",\"type\":\"ColumnDataSource\"}},\"id\":\"797633ab-3610-4c1a-ad57-4dc3f827f0f9\",\"type\":\"CDSView\"},{\"attributes\":{\"formatter\":{\"id\":\"e9d4a2c4-f87c-4b46-a4d5-51519e0d5c6d\",\"type\":\"BasicTickFormatter\"},\"plot\":{\"id\":\"3023bfd2-811a-40a8-9fd4-3dd2135131da\",\"subtype\":\"Figure\",\"type\":\"Plot\"},\"ticker\":{\"id\":\"b7109f80-8f85-4589-87fb-349c710127e7\",\"type\":\"BasicTicker\"}},\"id\":\"27983764-9d04-4b3b-af28-9d054e02c84d\",\"type\":\"LinearAxis\"},{\"attributes\":{\"line_alpha\":0.1,\"line_color\":\"#1f77b4\",\"x\":{\"field\":\"x\"},\"y\":{\"field\":\"y\"}},\"id\":\"c146e06a-c4c7-4943-8436-fb9500d6dd20\",\"type\":\"Line\"},{\"attributes\":{},\"id\":\"b7109f80-8f85-4589-87fb-349c710127e7\",\"type\":\"BasicTicker\"},{\"attributes\":{\"dimension\":1,\"plot\":{\"id\":\"3023bfd2-811a-40a8-9fd4-3dd2135131da\",\"subtype\":\"Figure\",\"type\":\"Plot\"},\"ticker\":{\"id\":\"b7109f80-8f85-4589-87fb-349c710127e7\",\"type\":\"BasicTicker\"}},\"id\":\"4b5ad09a-766f-4db4-a05c-5eb7b702240e\",\"type\":\"Grid\"},{\"attributes\":{\"callback\":null,\"column_names\":[\"x\",\"y\"],\"data\":{\"x\":{\"__ndarray__\":\"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\",\"dtype\":\"float64\",\"shape\":[1000]},\"y\":{\"__ndarray__\":\"67YrJDJ5678c/EUQcBfEv4BTcw5y7vq/F+flENnzA8DYwPB82pcHwNw73RGIDAfAoYY2+xh1B8CuirSe2Nb2v1/6q+olzPC/+JaAfkNn27++RCp3pp3pv4DNT9hhkXW/zrRmMTvBsb8DYrn88MwEwMgg+QrZzRHA93Nn0XGCE8D3T3P0n7MUwDmAhf9v6RnA6Sep/+pmGcBI8XBGZh0QwPExiW6jJhLAgaLh1BKAFsC7l3QoTvwXwOw/4m3yQRfAIIKXJUt4F8BV3bEbDs8YwPxZ2lVXkhvAEFCBOIYWGMD4GIvjFB0XwDeD+HrzGx3ALKqo5HVoIMBOvTQSh7oewPup/2f/ih3Aqqk/BNS4IMB+07TuhdkiwG6vfkll0CHAXNENYMg+IMDlayI8bCwhwJSgWMeW1SLAuT0bqKkiIcBUR2JNNQgYwIx/5r1bNxzAnolluMGuGMAHN1KQuGAYwBgWAlb6mxnAtdaC/bMVF8ATfmFcMUYbwOPNmQjxFxzA0qZUbzHjH8AihgC0KtwiwCUNUfdLUSTAhFjMkTzOJcDUR6Og9PgkwL4rgR81zyLA0EZeGS/+I8AZmdDoW3oiwFK+dpv9TCPAOT9TOKTjJcDPM4X1IRUmwGPdInSOXiXA7+bY8v1YI8DYFuefnL4fwClt209SZB7AHn85uUZAHsBLkeMuIDQbwHiQ3xTVchrAFtuWmvRDHsDGwkFmZTYfwKof2s0nyBnA6I9PsZE4HsAF2bf4Sb0dwAP2p+mNExzAJCMEjsb+F8Cqw62HUwwYwPd9DXWYshnAMA8cR7hoEMA6yAdbmw0PwN5rK16v7xPAbkdgHezFEcDBe1Xlv9cTwPkH44js9xHAvvKcSK3sGsB72+aSkvMawBww6HyUDhnAwRniwva+GMBObjc2/94UwHdvPjrnAhPAT8VFN8S4FMAK71HDAasNwEINpgETdwPAW7sqrvJIBcCHI+o26wMOwK76Tkar7ArAbtbBbnPREMC06abGON4QwLdfTN2VyhLApRyAg+b9E8BJxiqiuRsVwNRAfxQerBbABkqQgbtyEsCkDbd+WlcNwJzmTDaJDgrAuIIw/UEuCsCDA7SkwUYQwKREoWfCrAbAF2WGgeKY/b8ImTSxmikCwD6OIJcczfe/LIcZNswsDMAIeK9A8q4RwEYCQeOYZRLANv44aYppHMD82R2aFD4bwGDMvfdA0BfADCAcgOI4F8A6kTE91LEYwOQ1AE+4QxTAfvaYXgp/GMAZuMDoeJgVwEr2OGhj3RjAnSLWuWvNFsBnxjOHWfQSwHTbYtcQBBTAwK0EwYFIEcCh2PveCO0RwEAm1Vg4LAzAstlGe/H3BMAU+AO1nQ4JwLbftLqxFxHA1iE8xNumE8B8OmNrXBQYwEjpxB9ZkBTAPVoOcptdGcBcdSUoPrwXwOxD9z7p9R7AmVczFgOtF8CHZhsYdVEYwJxyhxCoXxPAICdARJFcGsCmGGWG+SsUwI4SNJHLdRfAp/FqszhwGsBypq9fmhMYwCBXWAu8dBTAHnpYICLgFMBi+1p3vPcRwLXEt/KBLxXAnOch5bsjEcCVojrZZUENwA62X9Ge/wDAhGjDOOXf+b88/N6lED4EwA/LUuLL1wPAbJ+IcJlT9L807VCTR3/nPwd17JFVSgBA+K3YLxi2AkCQsCXCiGMDQDZLq4riqfs/58DbZVUYA0AMdjjfAMPqP4QsgM48Ou4/kAmrEqLp5T8Gz+1d2i/uP2DRhkP6WPA/JLRfaMhH+T/8TSF+WP0EQMIn1PMjHAhAv37OoKTXCEAMlK4FMnv7PxOmIGrfdPg/MNavYTFQ4D92uHO1ukv/v116bEUFQv6/bmUrQsW+CcBk+c+87eMOwHZsMc6zhgPAeIQiBZuA7r9BIzBeNG31vyb4SY5B2gnAPU0jyFESBMCGBwML6pIQwEJSXdL1dxvA3bSdNZ2iIMDgVTHV5pEgwERGICu0zyLAceBwYhjtI8DfdEtetPAgwDNjJsm7pSHAwcDPh/TtHMChwsz89AoYwBLSrUvG5R7A8HDVTrnvH8DjDWlZyWMhwFoC3XspxR7AlqHadR7UHMAzONw3AeoawOvVAfVcaRbAUmy9ex0MF8BqcvSCaEASwPY/nKPdUArAgpSckO6nB8DpWMCOvrIRwFsML25CrBLAET4PHBVkFsAykUOa3HkQwP4Rrlq9qAfAeg5fWevPAcAuXyRhuHj1v99QdzlwIve/AuW5GRYtAcBo7FBzTcr2v3Y0g7tC5Oy/Deqkb98S8z/vtCkjofbrP69htPRAzfM/3viJUra31D+dt43/k8zRP1pXUwMXstw/wmb8BMJx5z9HQYc7QhbzP3wcU67+hfA/8CDBGUZfsL8tmj4QRfXWv+YaYG5OduG/PQUUXwxu/j8wyQTSntr1PxprI42ZywBAi7CpSWdABEDJa7at6qoDQLoHhCsaSgdA6vjHB/94BEBBU3JuH5EJQMZM8OObwwpAQbyW8xnyDkBaBsYuCGIKQFjtuAEgrwxAYKSPDgc5EEAwxeuUGHMPQBfQLLQGKRBAOtUzAIQIBEA+Oq03v57+P8g62f31Duc/cVukqYb3/z80SpqhxEbxP1KZsPAcEtg/xXbM4IWd7L+Wbjat/bkBwOEj+J3zJgPApMOMOGV9/7+66+EAX4AKwJdKjWfc2RPA+mS3x9X6CsD8ih+OfAQQwClSQevE7RTA94LL0wDFE8COtWCGunkTwEx1u+86PhPAUNDCap8dD8DzHPLi2LwHwDTtw9qqh/y/MkB2f8lFBcAuvWNajl8KwOQAeD3CKQbA1Sj7Z9MwCsB3977lRwIKwGg343B9/g3AOePSF4vcEsCFEjTwuAAUwPTDHuHINRDAmNTv+j6oFsA8TLHaySIdwL9XdAG0ZBvA6BRdK24qIMD4mLa9UUsiwHTSb+PQbSDAf3K/WjcQH8Bi9uNQS0oiwPI291pY8yPA1kFGGbosJcCJl8St3CojwFZWxGc49iLAuCY/XsipJsBCU38lvHglwDTdT1bagCfAjnbLwPuqJ8D/39KYI7MmwD2LWT2ZNCbA8mQZp3egJsA7Sd3noDsowN7LrOCmIinAT0SBfpafKcAnMCTHUGgpwO5lD5dE3SnAyKCUD52YKcALvqCBZsMmwB/BVMNzCiPA137z1HVJI8BOqmUA9RkhwOiXSaABIB7AZq5wICq3HcCn/j+CFLoawBrIlNthGRbAeCsfthp8F8Ao9sujFIsZwPFKJCr+LhvAin2llC90IMBVS7DO0aojwA9dvHvQFyPAEWOfgAC0I8CBdVaWkpUlwFPdaFDLliXARpEJtjH8JMAmok6wfhAnwK+PBIy1XinAyQDxtfpRJ8AVYZZLVjElwFej586/jCbAa9lWaDcQJMA/2HmKDhknwLZ05pAGUSjAF4RNV/s4J8CvZ6uEWqclwNyhWAjSyyHApsTFHkL8I8DS9x1EzxgiwDmv/BXoqiHAzBw9GLPGJsDGlcyV5mMowPpJk55YxirAYA4yKBDXK8DaBcBojvAswM6y6rpWpSvAxvrQ2E2UKMCkHdVa+oMrwCIwPSIDfirAntqMNnz5K8BbqjL8fAkpwLLyth5cmyXAcizwdQmlJMAHgLP4ENAlwBLWiiWRlyPA6X1uuGi+IcD4onUhUzQiwC9uFtTZxCPA5suGdyFeIcDrx+Ww2MohwJ1WlO83/CLAR3U5g4ELIsDM4KaI41chwKtql0twph7ABIr7bj7GHsCiNA5gTUIZwLD39mdsxhvAPDNEJS59H8DEhKJq9m8cwN73ueEJdxvA2Vt28hI8G8CqXPUVXMEYwOZBmQoXBxfA6hp9GFP/GcDRe1KJEJoVwIdXdFBqbhjAJM+kcnFPFMAcoKUNqdASwP6y1aBxBBPA/ZDOJ3NeFMCwed53Q2IPwDKQ6H6B1gXADpA4PI9ZB8BRII3ue60LwBd0wCFWsxjA7ZFfmX6rGsBAdrK/+bEfwILoK+eKhxzAfqDmwMvuHMANW7fvmiUcwDAR3c2yOhrAuvNJBXY8IsD1jEC8ihghwEOyLleIKyHAsmT1Wvv5IcAl+XcfGBsiwNlpLXtzYCHAmgssHnryIcBi/MOoAC8fwLPD4kORKCLA0oWW0BV+IMBciLpVc/gcwGcWKZRhLB7AjPDeePOVHMB7UiPMv2EYwDcWQmeJYxTAI+YROrLqBsBfLDsGnoj3vwJAyQEnvv2/7ewjL0aaAMBb67JnTPT1vyDEcuiBegPANJ6NR50wAcBIHXIJQ7MFwPqgGc/YJwDAx3uE/CvBA8C74C9e1M4EwCol139NwQzAPfeRxIhYDcB2cW18x/sKwEInuRqu4wPACJIslypbBsAaocTd6GEJwA6V1ZCkBxPAuZpJb/GZE8CERGEN8D4KwPrpQAgmGg/AaIqrN2VuDMD1WTNApUwEwCkEykWzogPAvlRytkp1/b9oPmuLd0UQwLzLKds9DBHAdP7OGU+CB8DsJ9iORW8FwAw7Hyc5/ADA4/4/ul8uB8CEm2kG6tsAwAKlKxzfsvS/VBrSH/J7BMAJrgJ/eRsBwFkdEueslP6/4XbUZevv/L9xCBk+J5gAwHDwbBJURvu/pECeu5l48b8EPtplTYf0v88RhWRm/ee/GlleZupu+L+UjaoPlXIGwB3EUuIFqQjAZIah8wkUEMCiXTSWqOkEwHDRSat2IQ3Au7p2DynCEMCTr3lSXkITwBrKkw6joQjAlSFdJQ31EMA5h0TguhEVwGQs4z14fRvA1tak/YdfH8C0CKJPktAjwP7nfUcfth7AlJSDYNBGIsBCElIhqtchwKSGKcGn6SXAI7cvEhyjKsDS4vz0JgErwGZKsUGfLirAtuc+/pc+LMCG/9eYvoAqwIAZmwykLyzAMQmWy3BgLsBW6rzJYnYxwCYcpx9aoTDAW5db/7IyMMCjD2sem+svwB1XZcaTrS7A7sSDStlbLcCFST7cmv0swND0TIlV6yzA9IpFah2+KsBf0Xnl/+IrwGxBklXebSvAzk78o0/mLsAqWTx+JIsuwD9c7NjFkyvAAa2NFHScKcBdu73L32IswH93ttKS+i3AapmBYekvMMD/zd940psswNlAenNCnSvAjd8z9D+2K8AjJc9Hyv4swLgAgpikci3AkGMMrXqkMMCO7KWMfrExwFdCay5ljzHAkVph/lN9McDW1Z38Yq0wwIr5bFhPHDDAadfTKQEBMMC1DuH/F2gzwFB15wuusTTAkLoVVoq2NcAg3iaIqCc0wA6xq7WfXzXACDcau2RjNMCaqcVu3680wKyy+k3QRzTAZ7FYfHfSNMCnh7Rl5MIywIWFDSm1AzTAwyNgt7B1NMANOTe6LXk0wBe2Kc5mnDTAXQt50q0oNcBHkojgxBk2wPC2uxI3DDfA/RtpzmoLN8DSAEwPCBk4wEg3hlhGZTjA4S+V195jOMDbBIJfKcg3wJgcNURS1zbArrMK2Fc0OMBpgnoExwc4wOWejiqw7zfAl6ImVbllOMDykcnIbEg4wIE0aQsh3zjAeMHn5YrROcCbF/N6+CQ5wE/e4WQ8sznA4Xf0IAbAOsDMMsMYDBs6wH01WbqRFjvAFN+BlEhjOsBKiaeGjXQ5wB6jqZsIszjAHECchGWaOMAp3Hgiy8U3wOtqsnh37DfAbS9R56dXN8DZl0IaPQ44wHj3XF1OwjfAFF4lQzyXN8ABtYkzZx44wJZA03DohzbAzKZzawrJNsBVulqjbIc1wDXjZu8LbjTApvB6TNxbM8BwI4HHoXs2wAkqSMrg1jXAO2zh6A2BNcCIhiLMMIo1wGDk/yFl7DTAM9hb0ZFpNcDfFk1McWY0wPoaxxMd2zPA7RpCor2qM8Ag54yEGlAzwHItPDsM1DHAyPwW4IwzMsA2FQjbFN4vwJYvlRJzGDPAkxSzm/4/MsDC39YjD/gxwCIxHUxWKDLArfmLzV9SMcAB5sxIah0xwOyp13VWdzLAOKsiOP+UMsADO3P7NaQxwBWUkYPVwTHAhUz2J//1McCWr9BiIYAxwBCF17G5gzLAPZihK5Q3MsCWC0Mc8XYywBFtpaeO/DLA+XQ3RR0lM8AVqqeKrwUywI+SX4EdyTHAXyCEDZaWMMCsoKUqe9YvwGrMTJJAgCvAU97zDl3/KMDse4bFcN8qwPO7h528MyjATHJtYDzzJ8BBx8aettAmwKzXaxn4oybAZ9Qugh4sJMC0VypO68EiwDHqx7jxniLAC/4B+V9QIsCbOjos64shwN7yEMgN3CLA0dXZaipPI8Bf3HRh/uAhwLfeUQnTeSLAT6vPLvM/IsB+TKnwkh4jwCYViYiW1yPAdL8o1uh/I8Dyn10zgU0kwK/gqcgU0SXAPzkJBs7sJMCXSZgKdVckwBvzcS98iiTAmg+ewgqCI8DYB8sd70MgwCVgW0l4fyPAQkK9YmJFI8D6kp1YeGolwGJH7nmcpCnAM3TmX3kRLMA05tPEBl8wwKUhgvlOIC7AaGHiTmWTL8DE8PA2cjwvwKM7zQ+nSizACqi+9K5NJ8Div3Ox7IAqwNsQ2wKKdivABvqEMGQIKsDh1okCuVUrwP/tfoeqNSvAOuoNV+l8KsB4VHHQbYMuwHDCUR5gpCzAwKGCeRYCLMBC5FOLoSgqwL3ucMtkpibAafGzyjgAKcCl1+54qy4rwDeIglDmrSzAwN7KBx1JLcD3E4PnSzQtwLxM+BxAZS3AgkV1M1uGLsBFQu2euM4qwP71lVVWgSzAkTSpp71/LsA9oodr5y0uwCyIYI8rDS/AmZLT5OtJLsAX8CkbGGMswJiCbu33mi7A6iAifmBlMMD8hrOoCkUvwARot1liwTDAxOVGKllCMMAfHqYJt0oxwISr1uhUvzHA+cPM1qyIMMD7M4P2Av0wwBrsT4kxrTDAbG94ou3XMMAZ5QQJAkIxwAiqRntL6jDA+aH/lLY7MsCofbFsCkczwFCN9vHKETLAjrm7h1JtMcCz5CJIbR8wwMZF4L3kKy3A5NB+y9n9K8BKLMQX7lArwEgvo5rFgyjAcDWtxnywKsAZ+26TuforwJzHOE01RCrAYLfQPPvnKcAx1mAgi8UnwJvBBEQOgSvA77VCI7+SKcB17sHphaMowMyzpYc6VizAi4hr0x+nLMCXIg4Ax4QtwMWM2f3JIizA8qxjjyKWLMAyFj1cHnIswG/rtFwEECnA4d/+LceqKcCeKgwR2/YpwEALFVwcrinAdbxaYnZSKMCtwB+W6aknwJ42oeCOqSjA1y2Nj561JcC72N3HDl0jwHjYaftevSPAhdYtaLVOI8A7hlm0S2EhwNjRbUvS6CPAkwK5cfhcJMBZBabuJiYlwImvSB8UQyXASncPCuKvJsAuaOfiiDcqwEW+ud1uKijANLwsTp/nKMDVwvxjZPgowJ4qdWQzWSfAazpOuDChJ8BmkXlcq4EmwPnmUm4RdiXAZccBwD2GJsAqOBzBvAgmwMenpj897inAhxuzspX4J8Bub/mu+t8nwJQcqxTMMyvArtOSgmaZKcBemwFloPsnwDR+X38P9CbA/wY4K+f8IsCIc3nhogkhwIwkIQ+nYhrAajtoHqqtHcB117tEdMkfwC29yHT4KiHA21wEhBpIH8CQOn/ZfMgYwDywFIon5RjAEQXLzQ95FsDknKnBVuwVwE865ro75hrAY3k5ZJVgF8DG9mmqWDgYwEyniK0p8R7AjqGTl+4IIcCi6UM6LTUhwGTVtbIsJSTA2LONFfD1JcBihXYDQ4gnwLvJPwAhryjAfvodbOLeKcBse6F1p9cpwGs4EUjEGyrAvn7KBmVEKMDiHjZulHYmwHIcaiM9HinAy+2KKPcQKsDOcqtglNUnwDF1/r2GMSrAAzfEIN64K8BxnFvgzvMnwJyowFWH9iXA2NtrvmuAJsDirMy9zCYnwJ1vezNg9CjAaig/ePi+KMCQ+RxdUU0rwJt8tS6uhSrAKL1hriDlLMAQgVlcRoEswC1IwI0vky3AOg5CZwWsLMAvwZQGc84rwAzWWHbitCzAMtJ5oMDfKsDj2wIKTpgtwObM5TaN/y/AHV3HGPFtMMBZlOaeiukswKUuhieKSSrAV1D2BPC2K8Boh5kwNCQswFpugKLYISnAmBAAa1qeJ8AYQiJkhs0qwP5ZiEC3qinAF9gFbciaJ8BnaDO0Gx8pwGSIW+iXHirAxCvO3rBFKcCi5aoK+l0nwFLLGzEAoCnAexqPC/eZJ8CgXQ5rr2UlwMjBI1ak2SbAVaRVXlgFJ8BVdOdDE+oowNxyzur1VCnAbsqGcFcKKMBXvcChWfIlwDJ+JlmXsyTAKYG/+13sI8D+SMhjdvYmwFjpuhqTtyjAdADUTG7JJ8A0XG1MWlQowHyOfyjABSfAh4Do+aXdJsBrfAGXhyAnwKfXYE3X0STA9lLKH3HWJsA1hN/w2PImwJT4ygfaPyXApWqAWuwcI8CQxM8B3+giwIklo2boCiLArrIMcKHMIcAAFrldzR8bwP40B9A62h3A1nm0JggUIsA8ygD2l88iwDYKeG/lTyLAGn3B/Ri1H8AGhSIW4qghwGoH0C+DXCDAyJQpDMAfGsDZHb8fLAUawKBhC4NJ5BTA2P4TvIjoFcBko7iMwwMUwDADj3HHsx7AsbhfIp6CIcBPzrSvvPwiwPa/HoJZ6STAZ6RV9dlKJsCuMkrvZGYnwDiQtffBlybAJDO1XW54JMA4XppduEokwHKRsk+dBCTAGkcjfdpxJ8AW8VVa9rUhwB0knNXNYCHAOrSeX98BI8DeD9b/3OwgwPZHe7J2CB/A994fNKoUGsD8eyfvBRUXwJx5j21K3xfAeFaol50+EsAIuKRLiC8TwNRf4SDoOhnAwPlf4EovGMBojDOytyIgwBMgj6y3jxvA+5/K9QOiGcC3g0FVYwQVwAknouOaPxPAxK7husQaE8DI+cGzrwQVwGAt6lnkQhbAWBZ1tTVYGcDloMV9HHoZwDOIN8EpEhnAr4U+ELN7F8Bv2C6VcmodwAHH9QCSYCDA62SFrXbTHsDU9N7cFP8YwBf/GmxqeBzAhIrs0gZsGcBLZnx92CISwN412U2hNQLAuDBQ0i9n5r8sMUqw5OLEPyPkKCKvhO+/bLujxpye4L/q4iT0IhPiv7uCGBUmr/0/BeZZPXSO/T8zMOcrX/7vP+TOLOL8vfU/McItm61G+D9uZ/ppI/HzP7ozZ8nJVv4/YqEjtzcXBEDsz/+GMUoLQCLavKJpJwFANhEfhLVmBEDyTzmGObEDQF4m2MYIpQFAUK7df2GE9T9gvKJ8iKW/P6SXHr4esPw/akun4x37AkDgsVdA/8HjP4J+HRV5evM//r0AQNk62T9XJWhhFdHvv/pxG5srUPa/kOA9rdNp87+IE9fV6u/9v3IxGoa/Hve/qJNeSvz+yr/bWUrYZ2jJv/lHm3ShBr+/Jfa9UBaE87+YF1K20hkBwFycJHHmLOC/nPYuKu/wzr9qiqe8VTbkv3JNExFi692//yo8oumu7j/uAbyDkKPoP1nswDAeoABApDB4+eSw5z/IDJJFBK/0PyLnyVcIbfA/uIcY0ja/9T/ke2y0f9DnPzYDj5MkVxBABOoyAG5fCkBdDq6ZuFT+PzJWqziVr+o/74nm44N17T/AdnB/4G2uPxHTAHSqs/0/vBEeN5vv/D9sDDDfE5nWP4z0sL0+6wBAn5JwM/Oo9D+wsoGyPQ7tP8QBAyBfjsM/UEIZOH+Esr/yC18WR13gv7onPj/kY8u/imJBpRud4D/uez/97L/jP8BbmOZG3QZAgoKYSO34EkBoYuSh1igTQLGUV4PcZhJAOyk74s4SD0COvgerDT0DQIqqA0AAt/s/yJWk9pUV8D9P54YEnLb5P/0g92GHGQJAYhcNibLoAUBBkqyw5Gj0P5z94UVnEAFAmBviWw6YB0AM5WUt21gCQK4HPThLcghAnQAIZrLqFECwh6pMIWMTQK2OYfVi7BRAYlO+gl6FEkAO9dN4x+8IQEJjqTkYZw1AV8YcRUQGFEDtw+06IRgYQDZFKkno3BdA1biUI+gZFUBO+Jkoi74TQDpMBVNAyBdAFpHERiznIEANmoQk48QjQGAitiAXFCRAOIRlb7x/IkCmoOVZihMlQCDPqkPnoCdAZfvmIB60J0CVTKc7a/QlQGU5p3lm9SNAYjJAkQjJIkBVY9H63LgkQMNz/ZoBRSZA+dGGqWYLJkBi9+iiJiolQLMSYN4YRSVAif5UYVtgIkCXw9Ab3F4fQHkywR3TVSFApfhyvIojIUBh1B0DgqQiQABauq99GCJADZEjRHH7IkCjUS5QUOAlQBgIVQjZbilA0WIkXcjyLEDCxtkdMTgvQIPISlYRVDBADOfNfbtZLkDboFxmnV8tQIPzS9QgjjBA8VcCdheXMEB8t5x9kNouQOaME/TRHC1A0xxQGghNK0AU8LmF06MuQJiQBNj3aDBApjyPwfcWMEA3pNlg34AwQDgAFP6dBC1ASpibmS7ZLUCYypF2Py0wQBXJF5O72jFA87YZ35qpMUD/pt+10g0xQNEYS0ovKjFAkJ6f+WIeMUAHZl0YK5gyQNSifHEcrzNAfOCWECGXM0Bc+nAwQ180QLIV+aNmjTZAh/nc07VZNkCWCzJBmsQ1QDWXVsusoDVA6255O/PFNEA=\",\"dtype\":\"float64\",\"shape\":[1000]}}},\"id\":\"4589b589-ef4f-4866-87e0-5fb252949aed\",\"type\":\"ColumnDataSource\"},{\"attributes\":{\"callback\":null,\"column_names\":[\"x\",\"y\"],\"data\":{\"x\":{\"__ndarray__\":\"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\",\"dtype\":\"float64\",\"shape\":[1000]},\"y\":{\"__ndarray__\":\"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\",\"dtype\":\"float64\",\"shape\":[1000]}}},\"id\":\"c8f4b244-2dc6-4ab2-a2e5-d4569be52bf6\",\"type\":\"ColumnDataSource\"},{\"attributes\":{\"bottom_units\":\"screen\",\"fill_alpha\":{\"value\":0.5},\"fill_color\":{\"value\":\"lightgrey\"},\"left_units\":\"screen\",\"level\":\"overlay\",\"line_alpha\":{\"value\":1.0},\"line_color\":{\"value\":\"black\"},\"line_dash\":[4,4],\"line_width\":{\"value\":2},\"plot\":null,\"render_mode\":\"css\",\"right_units\":\"screen\",\"top_units\":\"screen\"},\"id\":\"c8fd5cf7-cc50-4e3f-964e-a6b979e02333\",\"type\":\"BoxAnnotation\"},{\"attributes\":{\"label\":{\"value\":\"Min\"},\"renderers\":[{\"id\":\"3c85aea8-5770-4ca0-8e47-c7b4ccd9427d\",\"type\":\"GlyphRenderer\"},{\"id\":\"a61f434a-b7e1-4a54-9374-ee1d21f53ad2\",\"type\":\"GlyphRenderer\"}]},\"id\":\"d167846a-6be8-41e1-82b1-6b1f4a92170e\",\"type\":\"LegendItem\"},{\"attributes\":{},\"id\":\"ee006f5e-51d9-4db0-ae9a-f01e04420f48\",\"type\":\"PanTool\"},{\"attributes\":{\"line_color\":\"mediumpurple\",\"x\":{\"field\":\"x\"},\"y\":{\"field\":\"y\"}},\"id\":\"a52f72a2-1f15-4fc3-8348-66c27ace74e0\",\"type\":\"Line\"},{\"attributes\":{\"base\":60,\"mantissas\":[1,2,5,10,15,20,30],\"max_interval\":1800000.0,\"min_interval\":1000.0,\"num_minor_ticks\":0},\"id\":\"b6348df8-07e9-4198-a8d4-a4b673e81e7e\",\"type\":\"AdaptiveTicker\"},{\"attributes\":{\"data_source\":{\"id\":\"aae180b8-85d9-468a-8624-983897279a34\",\"type\":\"ColumnDataSource\"},\"glyph\":{\"id\":\"a52f72a2-1f15-4fc3-8348-66c27ace74e0\",\"type\":\"Line\"},\"hover_glyph\":null,\"muted_glyph\":null,\"nonselection_glyph\":{\"id\":\"6929d79e-d5ab-4bf7-bf74-6da3b2df38a7\",\"type\":\"Line\"},\"selection_glyph\":null,\"view\":{\"id\":\"e14aaeef-fed4-4c41-81a4-c049c7de6137\",\"type\":\"CDSView\"}},\"id\":\"3c85aea8-5770-4ca0-8e47-c7b4ccd9427d\",\"type\":\"GlyphRenderer\"},{\"attributes\":{\"overlay\":{\"id\":\"c8fd5cf7-cc50-4e3f-964e-a6b979e02333\",\"type\":\"BoxAnnotation\"}},\"id\":\"b528174c-03d6-4b97-aada-c19f2d7c8dd4\",\"type\":\"BoxZoomTool\"},{\"attributes\":{\"source\":{\"id\":\"aae180b8-85d9-468a-8624-983897279a34\",\"type\":\"ColumnDataSource\"}},\"id\":\"e14aaeef-fed4-4c41-81a4-c049c7de6137\",\"type\":\"CDSView\"},{\"attributes\":{},\"id\":\"fe57716f-6e80-4c64-b653-e6a8f4f00f2d\",\"type\":\"ResetTool\"},{\"attributes\":{\"line_alpha\":0.1,\"line_color\":\"#1f77b4\",\"x\":{\"field\":\"x\"},\"y\":{\"field\":\"y\"}},\"id\":\"fbdb28ba-8129-4528-a12e-fc6133a11294\",\"type\":\"Line\"},{\"attributes\":{},\"id\":\"e9d4a2c4-f87c-4b46-a4d5-51519e0d5c6d\",\"type\":\"BasicTickFormatter\"},{\"attributes\":{\"source\":{\"id\":\"4589b589-ef4f-4866-87e0-5fb252949aed\",\"type\":\"ColumnDataSource\"}},\"id\":\"991bd2fc-91bb-427d-be6a-9a19876b8f98\",\"type\":\"CDSView\"},{\"attributes\":{\"data_source\":{\"id\":\"4589b589-ef4f-4866-87e0-5fb252949aed\",\"type\":\"ColumnDataSource\"},\"glyph\":{\"id\":\"b5ec5949-016b-4a70-a1e8-6bb0eabd60c3\",\"type\":\"Line\"},\"hover_glyph\":null,\"muted_glyph\":null,\"nonselection_glyph\":{\"id\":\"c146e06a-c4c7-4943-8436-fb9500d6dd20\",\"type\":\"Line\"},\"selection_glyph\":null,\"view\":{\"id\":\"991bd2fc-91bb-427d-be6a-9a19876b8f98\",\"type\":\"CDSView\"}},\"id\":\"7ea0c1fd-20e4-4898-a6b3-c24c7dca325d\",\"type\":\"GlyphRenderer\"},{\"attributes\":{},\"id\":\"8528b83b-55d6-4450-9422-7ca1ab22d70d\",\"type\":\"DatetimeTickFormatter\"},{\"attributes\":{\"data_source\":{\"id\":\"c8f4b244-2dc6-4ab2-a2e5-d4569be52bf6\",\"type\":\"ColumnDataSource\"},\"glyph\":{\"id\":\"0d44e595-260c-4238-904f-a3caa7e34e47\",\"type\":\"Line\"},\"hover_glyph\":null,\"muted_glyph\":null,\"nonselection_glyph\":{\"id\":\"fbdb28ba-8129-4528-a12e-fc6133a11294\",\"type\":\"Line\"},\"selection_glyph\":null,\"view\":{\"id\":\"9407f704-7e76-4f97-83c5-34555ef855cc\",\"type\":\"CDSView\"}},\"id\":\"a61f434a-b7e1-4a54-9374-ee1d21f53ad2\",\"type\":\"GlyphRenderer\"},{\"attributes\":{\"base\":24,\"mantissas\":[1,2,4,6,8,12],\"max_interval\":43200000.0,\"min_interval\":3600000.0,\"num_minor_ticks\":0},\"id\":\"78c3df30-4e90-4482-8721-e1b2e9f3efe4\",\"type\":\"AdaptiveTicker\"},{\"attributes\":{\"source\":{\"id\":\"c8f4b244-2dc6-4ab2-a2e5-d4569be52bf6\",\"type\":\"ColumnDataSource\"}},\"id\":\"9407f704-7e76-4f97-83c5-34555ef855cc\",\"type\":\"CDSView\"},{\"attributes\":{\"days\":[1,8,15,22]},\"id\":\"b172cc16-9eb3-4caa-ba8b-adefd0714711\",\"type\":\"DaysTicker\"},{\"attributes\":{\"mantissas\":[1,2,5],\"max_interval\":500.0,\"num_minor_ticks\":0},\"id\":\"b9a512b3-cf93-41f9-9482-3751f4244889\",\"type\":\"AdaptiveTicker\"},{\"attributes\":{\"callback\":null},\"id\":\"9e79dbe6-bd84-4902-81b4-8c284fcd49b0\",\"type\":\"DataRange1d\"},{\"attributes\":{\"days\":[1,2,3,4,5,6,7,8,9,10,11,12,13,14,15,16,17,18,19,20,21,22,23,24,25,26,27,28,29,30,31]},\"id\":\"1689aa12-9b04-40e7-9c99-8dd79191db3b\",\"type\":\"DaysTicker\"}],\"root_ids\":[\"3023bfd2-811a-40a8-9fd4-3dd2135131da\"]},\"title\":\"Bokeh Application\",\"version\":\"0.12.13\"}};\n",
       "  var render_items = [{\"docid\":\"f36c2b42-f499-4b8f-be8a-595909c495f7\",\"elementid\":\"c0f4a81e-e2bf-452b-855b-53f8ac448830\",\"modelid\":\"3023bfd2-811a-40a8-9fd4-3dd2135131da\"}];\n",
       "  root.Bokeh.embed.embed_items_notebook(docs_json, render_items);\n",
       "\n",
       "  }\n",
       "  if (root.Bokeh !== undefined) {\n",
       "    embed_document(root);\n",
       "  } else {\n",
       "    var attempts = 0;\n",
       "    var timer = setInterval(function(root) {\n",
       "      if (root.Bokeh !== undefined) {\n",
       "        embed_document(root);\n",
       "        clearInterval(timer);\n",
       "      }\n",
       "      attempts++;\n",
       "      if (attempts > 100) {\n",
       "        console.log(\"Bokeh: ERROR: Unable to run BokehJS code because BokehJS library is missing\")\n",
       "        clearInterval(timer);\n",
       "      }\n",
       "    }, 10, root)\n",
       "  }\n",
       "})(window);"
      ],
      "application/vnd.bokehjs_exec.v0+json": ""
     },
     "metadata": {
      "application/vnd.bokehjs_exec.v0+json": {
       "id": "3023bfd2-811a-40a8-9fd4-3dd2135131da"
      }
     },
     "output_type": "display_data"
    }
   ],
   "source": [
    "fig = bk.figure(x_axis_type = \"datetime\",\n",
    "               tools=\"pan,box_zoom,reset\", title = 'Rolling Moments',\n",
    "               plot_width=750, plot_height=400)\n",
    "fig.line(df.index, df['cumsum'], color='cadetblue', legend='Cumulative Sum')\n",
    "fig.line(df.index, df['max'], color='mediumorchid', legend='Max')\n",
    "fig.line(df.index, df['min'], color='mediumpurple', legend='Min')\n",
    "fig.line(df.index, df['mean'], color='navy', legend='Mean')\n",
    "bk.show(fig)"
   ]
  },
  {
   "cell_type": "markdown",
   "metadata": {},
   "source": [
    "`pandas.Series.cumsum` returns a new `pandas.Series` containing the cumulative sum of the given values."
   ]
  },
  {
   "cell_type": "code",
   "execution_count": 13,
   "metadata": {
    "collapsed": true
   },
   "outputs": [],
   "source": [
    "s4 = s3 + np.random.randn(len(s3))\n",
    "rollc = s3.rolling(window=10).corr(s3)\n",
    "data2 = {'cumsum':s3, 'similar':s4, 'rolling correlation':rollc}\n",
    "df2 = pd.DataFrame(data2)"
   ]
  },
  {
   "cell_type": "code",
   "execution_count": 14,
   "metadata": {},
   "outputs": [
    {
     "data": {
      "text/html": [
       "\n",
       "<div class=\"bk-root\">\n",
       "    <div class=\"bk-plotdiv\" id=\"65752dd6-68f5-4886-97e6-d531d72e6aed\"></div>\n",
       "</div>"
      ]
     },
     "metadata": {},
     "output_type": "display_data"
    },
    {
     "data": {
      "application/javascript": [
       "(function(root) {\n",
       "  function embed_document(root) {\n",
       "    \n",
       "  var docs_json = {\"2ce91952-c8d9-456f-9eee-63c762b64df4\":{\"roots\":{\"references\":[{\"attributes\":{},\"id\":\"ae91378d-0536-44d7-91da-2efe7273da4d\",\"type\":\"YearsTicker\"},{\"attributes\":{\"line_alpha\":0.1,\"line_color\":\"#1f77b4\",\"x\":{\"field\":\"x\"},\"y\":{\"field\":\"y\"}},\"id\":\"0fbe422e-2937-4c02-8ee9-fad85ecb1793\",\"type\":\"Line\"},{\"attributes\":{\"months\":[0,6]},\"id\":\"038bd135-e5bd-4458-af6b-6aacbe1ce6bc\",\"type\":\"MonthsTicker\"},{\"attributes\":{\"active_drag\":\"auto\",\"active_inspect\":\"auto\",\"active_scroll\":\"auto\",\"active_tap\":\"auto\",\"tools\":[{\"id\":\"5ec7716b-37f0-401b-80fd-2df7048681a8\",\"type\":\"PanTool\"},{\"id\":\"51a06576-52f5-406f-94e5-60381edf3938\",\"type\":\"WheelZoomTool\"},{\"id\":\"8ee4c2fc-71b9-4507-b2ad-a9ef8b072eb5\",\"type\":\"BoxZoomTool\"},{\"id\":\"00a73307-dff3-4b8c-b309-992d09de5bce\",\"type\":\"SaveTool\"},{\"id\":\"b12d6c11-0c77-4f62-add1-e1b3942b2653\",\"type\":\"ResetTool\"},{\"id\":\"9d0b292c-cf9a-41a9-ae46-6f402faced46\",\"type\":\"HelpTool\"}]},\"id\":\"4ff2cb3e-7f95-46c2-bf32-44bef6a87b1c\",\"type\":\"Toolbar\"},{\"attributes\":{\"months\":[0,4,8]},\"id\":\"c4f211c4-d4f5-4f4a-9842-3020a19d5718\",\"type\":\"MonthsTicker\"},{\"attributes\":{\"plot\":{\"id\":\"2f7b0086-ed2c-4b6c-8394-edc54e8668fc\",\"subtype\":\"Figure\",\"type\":\"Plot\"},\"ticker\":{\"id\":\"7ccdb416-bac7-42ed-b36e-0a45084c711e\",\"type\":\"DatetimeTicker\"}},\"id\":\"1de7747d-3f57-40ab-9f0b-dc38dfb480d8\",\"type\":\"Grid\"},{\"attributes\":{\"months\":[0,2,4,6,8,10]},\"id\":\"a51df2e1-9628-4220-bd68-2d5c5c057233\",\"type\":\"MonthsTicker\"},{\"attributes\":{\"dimension\":1,\"plot\":{\"id\":\"2f7b0086-ed2c-4b6c-8394-edc54e8668fc\",\"subtype\":\"Figure\",\"type\":\"Plot\"},\"ticker\":{\"id\":\"593f36cf-5ad3-4d1d-aef8-518997e0cad8\",\"type\":\"BasicTicker\"}},\"id\":\"999e2d08-cb00-447f-8b22-65d2e7d79fe9\",\"type\":\"Grid\"},{\"attributes\":{\"line_color\":\"navy\",\"x\":{\"field\":\"x\"},\"y\":{\"field\":\"y\"}},\"id\":\"f7320358-1f97-4ecd-afba-f9763366ede3\",\"type\":\"Line\"},{\"attributes\":{},\"id\":\"593f36cf-5ad3-4d1d-aef8-518997e0cad8\",\"type\":\"BasicTicker\"},{\"attributes\":{\"line_alpha\":0.1,\"line_color\":\"#1f77b4\",\"x\":{\"field\":\"x\"},\"y\":{\"field\":\"y\"}},\"id\":\"7e343016-efd8-4c97-997d-000b1d038b28\",\"type\":\"Line\"},{\"attributes\":{\"formatter\":{\"id\":\"868e4e51-621e-4803-8243-94029180b130\",\"type\":\"BasicTickFormatter\"},\"plot\":{\"id\":\"2f7b0086-ed2c-4b6c-8394-edc54e8668fc\",\"subtype\":\"Figure\",\"type\":\"Plot\"},\"ticker\":{\"id\":\"593f36cf-5ad3-4d1d-aef8-518997e0cad8\",\"type\":\"BasicTicker\"}},\"id\":\"973a08b7-ce8b-4bef-83d9-7e8536b5f211\",\"type\":\"LinearAxis\"},{\"attributes\":{\"callback\":null,\"column_names\":[\"x\",\"y\"],\"data\":{\"x\":{\"__ndarray__\":\"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\",\"dtype\":\"float64\",\"shape\":[1000]},\"y\":{\"__ndarray__\":\"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\",\"dtype\":\"float64\",\"shape\":[1000]}}},\"id\":\"1ff6f4c7-b0cb-43e7-bf3c-ca9159bdf0b3\",\"type\":\"ColumnDataSource\"},{\"attributes\":{\"num_minor_ticks\":5,\"tickers\":[{\"id\":\"826c9db2-b551-4f0c-80f0-ebcbd3b6ed7e\",\"type\":\"AdaptiveTicker\"},{\"id\":\"1d011c45-092a-4731-b523-a7a4ea64f55b\",\"type\":\"AdaptiveTicker\"},{\"id\":\"726c5051-937c-444e-9aa6-b475d07992b6\",\"type\":\"AdaptiveTicker\"},{\"id\":\"7732141e-065a-4f17-8cfe-1f4fc1a9319f\",\"type\":\"DaysTicker\"},{\"id\":\"6a02f102-d3ee-46ca-a84f-247db07d6ceb\",\"type\":\"DaysTicker\"},{\"id\":\"84b72a34-d399-4d32-9c49-5efee52f8dff\",\"type\":\"DaysTicker\"},{\"id\":\"fa524493-310a-4962-bdf7-62a03a3169d7\",\"type\":\"DaysTicker\"},{\"id\":\"44cab794-dea2-4f8d-8947-e6904c77d558\",\"type\":\"MonthsTicker\"},{\"id\":\"a51df2e1-9628-4220-bd68-2d5c5c057233\",\"type\":\"MonthsTicker\"},{\"id\":\"c4f211c4-d4f5-4f4a-9842-3020a19d5718\",\"type\":\"MonthsTicker\"},{\"id\":\"038bd135-e5bd-4458-af6b-6aacbe1ce6bc\",\"type\":\"MonthsTicker\"},{\"id\":\"ae91378d-0536-44d7-91da-2efe7273da4d\",\"type\":\"YearsTicker\"}]},\"id\":\"7ccdb416-bac7-42ed-b36e-0a45084c711e\",\"type\":\"DatetimeTicker\"},{\"attributes\":{\"line_color\":\"mediumorchid\",\"x\":{\"field\":\"x\"},\"y\":{\"field\":\"y\"}},\"id\":\"ea3f2fbc-3430-463d-bf01-ebceb9e3ee04\",\"type\":\"Line\"},{\"attributes\":{\"formatter\":{\"id\":\"d1afc085-3b46-4c06-857c-4a3cb13bc825\",\"type\":\"DatetimeTickFormatter\"},\"plot\":{\"id\":\"2f7b0086-ed2c-4b6c-8394-edc54e8668fc\",\"subtype\":\"Figure\",\"type\":\"Plot\"},\"ticker\":{\"id\":\"7ccdb416-bac7-42ed-b36e-0a45084c711e\",\"type\":\"DatetimeTicker\"}},\"id\":\"19046d93-2e3f-44ca-9cc5-71de909fef7f\",\"type\":\"DatetimeAxis\"},{\"attributes\":{\"source\":{\"id\":\"8fd33abb-8635-4c67-a80a-2cdbf5f0a25f\",\"type\":\"ColumnDataSource\"}},\"id\":\"c17914eb-2c1d-4ad7-af8f-6df0690de247\",\"type\":\"CDSView\"},{\"attributes\":{\"callback\":null},\"id\":\"08459683-0190-4f32-840f-5d4aafb7161e\",\"type\":\"DataRange1d\"},{\"attributes\":{\"data_source\":{\"id\":\"8fd33abb-8635-4c67-a80a-2cdbf5f0a25f\",\"type\":\"ColumnDataSource\"},\"glyph\":{\"id\":\"ea3f2fbc-3430-463d-bf01-ebceb9e3ee04\",\"type\":\"Line\"},\"hover_glyph\":null,\"muted_glyph\":null,\"nonselection_glyph\":{\"id\":\"7e343016-efd8-4c97-997d-000b1d038b28\",\"type\":\"Line\"},\"selection_glyph\":null,\"view\":{\"id\":\"c17914eb-2c1d-4ad7-af8f-6df0690de247\",\"type\":\"CDSView\"}},\"id\":\"5535c732-993d-4258-9112-73f89a882f08\",\"type\":\"GlyphRenderer\"},{\"attributes\":{},\"id\":\"062e0ddd-831a-4bd9-9adb-a6c776c011eb\",\"type\":\"LinearScale\"},{\"attributes\":{\"label\":{\"value\":\"Similar\"},\"renderers\":[{\"id\":\"5535c732-993d-4258-9112-73f89a882f08\",\"type\":\"GlyphRenderer\"}]},\"id\":\"bc3e5cae-5f00-46d1-ad18-bc3246b467c7\",\"type\":\"LegendItem\"},{\"attributes\":{\"data_source\":{\"id\":\"9ac224a5-2ea0-4f70-bb7e-7876364c8184\",\"type\":\"ColumnDataSource\"},\"glyph\":{\"id\":\"b743abc2-2d8c-4af3-9aac-486dd8bd4bf9\",\"type\":\"Line\"},\"hover_glyph\":null,\"muted_glyph\":null,\"nonselection_glyph\":{\"id\":\"0fbe422e-2937-4c02-8ee9-fad85ecb1793\",\"type\":\"Line\"},\"selection_glyph\":null,\"view\":{\"id\":\"3e5e202b-f926-4e75-add5-a665459531c1\",\"type\":\"CDSView\"}},\"id\":\"693d5dac-bc0c-4105-837d-4651c18d1b6b\",\"type\":\"GlyphRenderer\"},{\"attributes\":{\"line_alpha\":0.1,\"line_color\":\"#1f77b4\",\"x\":{\"field\":\"x\"},\"y\":{\"field\":\"y\"}},\"id\":\"b9539e0a-6d4f-4b85-83ea-d12ca0a2881d\",\"type\":\"Line\"},{\"attributes\":{},\"id\":\"868e4e51-621e-4803-8243-94029180b130\",\"type\":\"BasicTickFormatter\"},{\"attributes\":{\"line_color\":\"cadetblue\",\"x\":{\"field\":\"x\"},\"y\":{\"field\":\"y\"}},\"id\":\"b743abc2-2d8c-4af3-9aac-486dd8bd4bf9\",\"type\":\"Line\"},{\"attributes\":{\"bottom_units\":\"screen\",\"fill_alpha\":{\"value\":0.5},\"fill_color\":{\"value\":\"lightgrey\"},\"left_units\":\"screen\",\"level\":\"overlay\",\"line_alpha\":{\"value\":1.0},\"line_color\":{\"value\":\"black\"},\"line_dash\":[4,4],\"line_width\":{\"value\":2},\"plot\":null,\"render_mode\":\"css\",\"right_units\":\"screen\",\"top_units\":\"screen\"},\"id\":\"e0fb5a08-538b-43c7-bcc0-3591bda7fb2e\",\"type\":\"BoxAnnotation\"},{\"attributes\":{\"source\":{\"id\":\"9ac224a5-2ea0-4f70-bb7e-7876364c8184\",\"type\":\"ColumnDataSource\"}},\"id\":\"3e5e202b-f926-4e75-add5-a665459531c1\",\"type\":\"CDSView\"},{\"attributes\":{\"label\":{\"value\":\"Rolling Corr.\"},\"renderers\":[{\"id\":\"8599014a-d5ae-42cc-b1e6-38b89229f39f\",\"type\":\"GlyphRenderer\"}]},\"id\":\"585bfd02-ef1f-42f4-a512-2d901c833289\",\"type\":\"LegendItem\"},{\"attributes\":{},\"id\":\"5ec7716b-37f0-401b-80fd-2df7048681a8\",\"type\":\"PanTool\"},{\"attributes\":{\"source\":{\"id\":\"1ff6f4c7-b0cb-43e7-bf3c-ca9159bdf0b3\",\"type\":\"ColumnDataSource\"}},\"id\":\"61596603-6890-450e-bab6-955f391c5cbf\",\"type\":\"CDSView\"},{\"attributes\":{},\"id\":\"00a73307-dff3-4b8c-b309-992d09de5bce\",\"type\":\"SaveTool\"},{\"attributes\":{\"data_source\":{\"id\":\"1ff6f4c7-b0cb-43e7-bf3c-ca9159bdf0b3\",\"type\":\"ColumnDataSource\"},\"glyph\":{\"id\":\"f7320358-1f97-4ecd-afba-f9763366ede3\",\"type\":\"Line\"},\"hover_glyph\":null,\"muted_glyph\":null,\"nonselection_glyph\":{\"id\":\"b9539e0a-6d4f-4b85-83ea-d12ca0a2881d\",\"type\":\"Line\"},\"selection_glyph\":null,\"view\":{\"id\":\"61596603-6890-450e-bab6-955f391c5cbf\",\"type\":\"CDSView\"}},\"id\":\"8599014a-d5ae-42cc-b1e6-38b89229f39f\",\"type\":\"GlyphRenderer\"},{\"attributes\":{\"overlay\":{\"id\":\"e0fb5a08-538b-43c7-bcc0-3591bda7fb2e\",\"type\":\"BoxAnnotation\"}},\"id\":\"8ee4c2fc-71b9-4507-b2ad-a9ef8b072eb5\",\"type\":\"BoxZoomTool\"},{\"attributes\":{},\"id\":\"51a06576-52f5-406f-94e5-60381edf3938\",\"type\":\"WheelZoomTool\"},{\"attributes\":{},\"id\":\"9d0b292c-cf9a-41a9-ae46-6f402faced46\",\"type\":\"HelpTool\"},{\"attributes\":{},\"id\":\"b12d6c11-0c77-4f62-add1-e1b3942b2653\",\"type\":\"ResetTool\"},{\"attributes\":{\"base\":60,\"mantissas\":[1,2,5,10,15,20,30],\"max_interval\":1800000.0,\"min_interval\":1000.0,\"num_minor_ticks\":0},\"id\":\"1d011c45-092a-4731-b523-a7a4ea64f55b\",\"type\":\"AdaptiveTicker\"},{\"attributes\":{\"label\":{\"value\":\"Cumulative Sum\"},\"renderers\":[{\"id\":\"693d5dac-bc0c-4105-837d-4651c18d1b6b\",\"type\":\"GlyphRenderer\"}]},\"id\":\"6c226609-24b3-4527-b296-72853b86c1b8\",\"type\":\"LegendItem\"},{\"attributes\":{},\"id\":\"98429354-1ed4-4079-8634-c9f2ed0a4929\",\"type\":\"LinearScale\"},{\"attributes\":{\"base\":24,\"mantissas\":[1,2,4,6,8,12],\"max_interval\":43200000.0,\"min_interval\":3600000.0,\"num_minor_ticks\":0},\"id\":\"726c5051-937c-444e-9aa6-b475d07992b6\",\"type\":\"AdaptiveTicker\"},{\"attributes\":{\"callback\":null},\"id\":\"868ef6ea-c4cb-4014-808d-f26cda014ee3\",\"type\":\"DataRange1d\"},{\"attributes\":{},\"id\":\"d1afc085-3b46-4c06-857c-4a3cb13bc825\",\"type\":\"DatetimeTickFormatter\"},{\"attributes\":{\"days\":[1,4,7,10,13,16,19,22,25,28]},\"id\":\"6a02f102-d3ee-46ca-a84f-247db07d6ceb\",\"type\":\"DaysTicker\"},{\"attributes\":{\"mantissas\":[1,2,5],\"max_interval\":500.0,\"num_minor_ticks\":0},\"id\":\"826c9db2-b551-4f0c-80f0-ebcbd3b6ed7e\",\"type\":\"AdaptiveTicker\"},{\"attributes\":{\"days\":[1,8,15,22]},\"id\":\"84b72a34-d399-4d32-9c49-5efee52f8dff\",\"type\":\"DaysTicker\"},{\"attributes\":{\"days\":[1,2,3,4,5,6,7,8,9,10,11,12,13,14,15,16,17,18,19,20,21,22,23,24,25,26,27,28,29,30,31]},\"id\":\"7732141e-065a-4f17-8cfe-1f4fc1a9319f\",\"type\":\"DaysTicker\"},{\"attributes\":{\"below\":[{\"id\":\"19046d93-2e3f-44ca-9cc5-71de909fef7f\",\"type\":\"DatetimeAxis\"}],\"left\":[{\"id\":\"973a08b7-ce8b-4bef-83d9-7e8536b5f211\",\"type\":\"LinearAxis\"}],\"plot_height\":400,\"plot_width\":750,\"renderers\":[{\"id\":\"19046d93-2e3f-44ca-9cc5-71de909fef7f\",\"type\":\"DatetimeAxis\"},{\"id\":\"1de7747d-3f57-40ab-9f0b-dc38dfb480d8\",\"type\":\"Grid\"},{\"id\":\"973a08b7-ce8b-4bef-83d9-7e8536b5f211\",\"type\":\"LinearAxis\"},{\"id\":\"999e2d08-cb00-447f-8b22-65d2e7d79fe9\",\"type\":\"Grid\"},{\"id\":\"e0fb5a08-538b-43c7-bcc0-3591bda7fb2e\",\"type\":\"BoxAnnotation\"},{\"id\":\"a8f4a285-643a-4a89-a9f9-2a9d5fbe01fe\",\"type\":\"Legend\"},{\"id\":\"693d5dac-bc0c-4105-837d-4651c18d1b6b\",\"type\":\"GlyphRenderer\"},{\"id\":\"5535c732-993d-4258-9112-73f89a882f08\",\"type\":\"GlyphRenderer\"},{\"id\":\"8599014a-d5ae-42cc-b1e6-38b89229f39f\",\"type\":\"GlyphRenderer\"}],\"title\":{\"id\":\"1d7acd20-8747-46a0-bb45-d77b85c535ec\",\"type\":\"Title\"},\"toolbar\":{\"id\":\"4ff2cb3e-7f95-46c2-bf32-44bef6a87b1c\",\"type\":\"Toolbar\"},\"x_range\":{\"id\":\"868ef6ea-c4cb-4014-808d-f26cda014ee3\",\"type\":\"DataRange1d\"},\"x_scale\":{\"id\":\"062e0ddd-831a-4bd9-9adb-a6c776c011eb\",\"type\":\"LinearScale\"},\"y_range\":{\"id\":\"08459683-0190-4f32-840f-5d4aafb7161e\",\"type\":\"DataRange1d\"},\"y_scale\":{\"id\":\"98429354-1ed4-4079-8634-c9f2ed0a4929\",\"type\":\"LinearScale\"}},\"id\":\"2f7b0086-ed2c-4b6c-8394-edc54e8668fc\",\"subtype\":\"Figure\",\"type\":\"Plot\"},{\"attributes\":{\"months\":[0,1,2,3,4,5,6,7,8,9,10,11]},\"id\":\"44cab794-dea2-4f8d-8947-e6904c77d558\",\"type\":\"MonthsTicker\"},{\"attributes\":{\"plot\":null,\"text\":\"Rolling Correlation\"},\"id\":\"1d7acd20-8747-46a0-bb45-d77b85c535ec\",\"type\":\"Title\"},{\"attributes\":{\"days\":[1,15]},\"id\":\"fa524493-310a-4962-bdf7-62a03a3169d7\",\"type\":\"DaysTicker\"},{\"attributes\":{\"callback\":null,\"column_names\":[\"x\",\"y\"],\"data\":{\"x\":{\"__ndarray__\":\"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\",\"dtype\":\"float64\",\"shape\":[1000]},\"y\":{\"__ndarray__\":\"67YrJDJ5678c/EUQcBfEv4BTcw5y7vq/F+flENnzA8DYwPB82pcHwNw73RGIDAfAoYY2+xh1B8CuirSe2Nb2v1/6q+olzPC/+JaAfkNn27++RCp3pp3pv4DNT9hhkXW/zrRmMTvBsb8DYrn88MwEwMgg+QrZzRHA93Nn0XGCE8D3T3P0n7MUwDmAhf9v6RnA6Sep/+pmGcBI8XBGZh0QwPExiW6jJhLAgaLh1BKAFsC7l3QoTvwXwOw/4m3yQRfAIIKXJUt4F8BV3bEbDs8YwPxZ2lVXkhvAEFCBOIYWGMD4GIvjFB0XwDeD+HrzGx3ALKqo5HVoIMBOvTQSh7oewPup/2f/ih3Aqqk/BNS4IMB+07TuhdkiwG6vfkll0CHAXNENYMg+IMDlayI8bCwhwJSgWMeW1SLAuT0bqKkiIcBUR2JNNQgYwIx/5r1bNxzAnolluMGuGMAHN1KQuGAYwBgWAlb6mxnAtdaC/bMVF8ATfmFcMUYbwOPNmQjxFxzA0qZUbzHjH8AihgC0KtwiwCUNUfdLUSTAhFjMkTzOJcDUR6Og9PgkwL4rgR81zyLA0EZeGS/+I8AZmdDoW3oiwFK+dpv9TCPAOT9TOKTjJcDPM4X1IRUmwGPdInSOXiXA7+bY8v1YI8DYFuefnL4fwClt209SZB7AHn85uUZAHsBLkeMuIDQbwHiQ3xTVchrAFtuWmvRDHsDGwkFmZTYfwKof2s0nyBnA6I9PsZE4HsAF2bf4Sb0dwAP2p+mNExzAJCMEjsb+F8Cqw62HUwwYwPd9DXWYshnAMA8cR7hoEMA6yAdbmw0PwN5rK16v7xPAbkdgHezFEcDBe1Xlv9cTwPkH44js9xHAvvKcSK3sGsB72+aSkvMawBww6HyUDhnAwRniwva+GMBObjc2/94UwHdvPjrnAhPAT8VFN8S4FMAK71HDAasNwEINpgETdwPAW7sqrvJIBcCHI+o26wMOwK76Tkar7ArAbtbBbnPREMC06abGON4QwLdfTN2VyhLApRyAg+b9E8BJxiqiuRsVwNRAfxQerBbABkqQgbtyEsCkDbd+WlcNwJzmTDaJDgrAuIIw/UEuCsCDA7SkwUYQwKREoWfCrAbAF2WGgeKY/b8ImTSxmikCwD6OIJcczfe/LIcZNswsDMAIeK9A8q4RwEYCQeOYZRLANv44aYppHMD82R2aFD4bwGDMvfdA0BfADCAcgOI4F8A6kTE91LEYwOQ1AE+4QxTAfvaYXgp/GMAZuMDoeJgVwEr2OGhj3RjAnSLWuWvNFsBnxjOHWfQSwHTbYtcQBBTAwK0EwYFIEcCh2PveCO0RwEAm1Vg4LAzAstlGe/H3BMAU+AO1nQ4JwLbftLqxFxHA1iE8xNumE8B8OmNrXBQYwEjpxB9ZkBTAPVoOcptdGcBcdSUoPrwXwOxD9z7p9R7AmVczFgOtF8CHZhsYdVEYwJxyhxCoXxPAICdARJFcGsCmGGWG+SsUwI4SNJHLdRfAp/FqszhwGsBypq9fmhMYwCBXWAu8dBTAHnpYICLgFMBi+1p3vPcRwLXEt/KBLxXAnOch5bsjEcCVojrZZUENwA62X9Ge/wDAhGjDOOXf+b88/N6lED4EwA/LUuLL1wPAbJ+IcJlT9L807VCTR3/nPwd17JFVSgBA+K3YLxi2AkCQsCXCiGMDQDZLq4riqfs/58DbZVUYA0AMdjjfAMPqP4QsgM48Ou4/kAmrEqLp5T8Gz+1d2i/uP2DRhkP6WPA/JLRfaMhH+T/8TSF+WP0EQMIn1PMjHAhAv37OoKTXCEAMlK4FMnv7PxOmIGrfdPg/MNavYTFQ4D92uHO1ukv/v116bEUFQv6/bmUrQsW+CcBk+c+87eMOwHZsMc6zhgPAeIQiBZuA7r9BIzBeNG31vyb4SY5B2gnAPU0jyFESBMCGBwML6pIQwEJSXdL1dxvA3bSdNZ2iIMDgVTHV5pEgwERGICu0zyLAceBwYhjtI8DfdEtetPAgwDNjJsm7pSHAwcDPh/TtHMChwsz89AoYwBLSrUvG5R7A8HDVTrnvH8DjDWlZyWMhwFoC3XspxR7AlqHadR7UHMAzONw3AeoawOvVAfVcaRbAUmy9ex0MF8BqcvSCaEASwPY/nKPdUArAgpSckO6nB8DpWMCOvrIRwFsML25CrBLAET4PHBVkFsAykUOa3HkQwP4Rrlq9qAfAeg5fWevPAcAuXyRhuHj1v99QdzlwIve/AuW5GRYtAcBo7FBzTcr2v3Y0g7tC5Oy/Deqkb98S8z/vtCkjofbrP69htPRAzfM/3viJUra31D+dt43/k8zRP1pXUwMXstw/wmb8BMJx5z9HQYc7QhbzP3wcU67+hfA/8CDBGUZfsL8tmj4QRfXWv+YaYG5OduG/PQUUXwxu/j8wyQTSntr1PxprI42ZywBAi7CpSWdABEDJa7at6qoDQLoHhCsaSgdA6vjHB/94BEBBU3JuH5EJQMZM8OObwwpAQbyW8xnyDkBaBsYuCGIKQFjtuAEgrwxAYKSPDgc5EEAwxeuUGHMPQBfQLLQGKRBAOtUzAIQIBEA+Oq03v57+P8g62f31Duc/cVukqYb3/z80SpqhxEbxP1KZsPAcEtg/xXbM4IWd7L+Wbjat/bkBwOEj+J3zJgPApMOMOGV9/7+66+EAX4AKwJdKjWfc2RPA+mS3x9X6CsD8ih+OfAQQwClSQevE7RTA94LL0wDFE8COtWCGunkTwEx1u+86PhPAUNDCap8dD8DzHPLi2LwHwDTtw9qqh/y/MkB2f8lFBcAuvWNajl8KwOQAeD3CKQbA1Sj7Z9MwCsB3977lRwIKwGg343B9/g3AOePSF4vcEsCFEjTwuAAUwPTDHuHINRDAmNTv+j6oFsA8TLHaySIdwL9XdAG0ZBvA6BRdK24qIMD4mLa9UUsiwHTSb+PQbSDAf3K/WjcQH8Bi9uNQS0oiwPI291pY8yPA1kFGGbosJcCJl8St3CojwFZWxGc49iLAuCY/XsipJsBCU38lvHglwDTdT1bagCfAjnbLwPuqJ8D/39KYI7MmwD2LWT2ZNCbA8mQZp3egJsA7Sd3noDsowN7LrOCmIinAT0SBfpafKcAnMCTHUGgpwO5lD5dE3SnAyKCUD52YKcALvqCBZsMmwB/BVMNzCiPA137z1HVJI8BOqmUA9RkhwOiXSaABIB7AZq5wICq3HcCn/j+CFLoawBrIlNthGRbAeCsfthp8F8Ao9sujFIsZwPFKJCr+LhvAin2llC90IMBVS7DO0aojwA9dvHvQFyPAEWOfgAC0I8CBdVaWkpUlwFPdaFDLliXARpEJtjH8JMAmok6wfhAnwK+PBIy1XinAyQDxtfpRJ8AVYZZLVjElwFej586/jCbAa9lWaDcQJMA/2HmKDhknwLZ05pAGUSjAF4RNV/s4J8CvZ6uEWqclwNyhWAjSyyHApsTFHkL8I8DS9x1EzxgiwDmv/BXoqiHAzBw9GLPGJsDGlcyV5mMowPpJk55YxirAYA4yKBDXK8DaBcBojvAswM6y6rpWpSvAxvrQ2E2UKMCkHdVa+oMrwCIwPSIDfirAntqMNnz5K8BbqjL8fAkpwLLyth5cmyXAcizwdQmlJMAHgLP4ENAlwBLWiiWRlyPA6X1uuGi+IcD4onUhUzQiwC9uFtTZxCPA5suGdyFeIcDrx+Ww2MohwJ1WlO83/CLAR3U5g4ELIsDM4KaI41chwKtql0twph7ABIr7bj7GHsCiNA5gTUIZwLD39mdsxhvAPDNEJS59H8DEhKJq9m8cwN73ueEJdxvA2Vt28hI8G8CqXPUVXMEYwOZBmQoXBxfA6hp9GFP/GcDRe1KJEJoVwIdXdFBqbhjAJM+kcnFPFMAcoKUNqdASwP6y1aBxBBPA/ZDOJ3NeFMCwed53Q2IPwDKQ6H6B1gXADpA4PI9ZB8BRII3ue60LwBd0wCFWsxjA7ZFfmX6rGsBAdrK/+bEfwILoK+eKhxzAfqDmwMvuHMANW7fvmiUcwDAR3c2yOhrAuvNJBXY8IsD1jEC8ihghwEOyLleIKyHAsmT1Wvv5IcAl+XcfGBsiwNlpLXtzYCHAmgssHnryIcBi/MOoAC8fwLPD4kORKCLA0oWW0BV+IMBciLpVc/gcwGcWKZRhLB7AjPDeePOVHMB7UiPMv2EYwDcWQmeJYxTAI+YROrLqBsBfLDsGnoj3vwJAyQEnvv2/7ewjL0aaAMBb67JnTPT1vyDEcuiBegPANJ6NR50wAcBIHXIJQ7MFwPqgGc/YJwDAx3uE/CvBA8C74C9e1M4EwCol139NwQzAPfeRxIhYDcB2cW18x/sKwEInuRqu4wPACJIslypbBsAaocTd6GEJwA6V1ZCkBxPAuZpJb/GZE8CERGEN8D4KwPrpQAgmGg/AaIqrN2VuDMD1WTNApUwEwCkEykWzogPAvlRytkp1/b9oPmuLd0UQwLzLKds9DBHAdP7OGU+CB8DsJ9iORW8FwAw7Hyc5/ADA4/4/ul8uB8CEm2kG6tsAwAKlKxzfsvS/VBrSH/J7BMAJrgJ/eRsBwFkdEueslP6/4XbUZevv/L9xCBk+J5gAwHDwbBJURvu/pECeu5l48b8EPtplTYf0v88RhWRm/ee/GlleZupu+L+UjaoPlXIGwB3EUuIFqQjAZIah8wkUEMCiXTSWqOkEwHDRSat2IQ3Au7p2DynCEMCTr3lSXkITwBrKkw6joQjAlSFdJQ31EMA5h0TguhEVwGQs4z14fRvA1tak/YdfH8C0CKJPktAjwP7nfUcfth7AlJSDYNBGIsBCElIhqtchwKSGKcGn6SXAI7cvEhyjKsDS4vz0JgErwGZKsUGfLirAtuc+/pc+LMCG/9eYvoAqwIAZmwykLyzAMQmWy3BgLsBW6rzJYnYxwCYcpx9aoTDAW5db/7IyMMCjD2sem+svwB1XZcaTrS7A7sSDStlbLcCFST7cmv0swND0TIlV6yzA9IpFah2+KsBf0Xnl/+IrwGxBklXebSvAzk78o0/mLsAqWTx+JIsuwD9c7NjFkyvAAa2NFHScKcBdu73L32IswH93ttKS+i3AapmBYekvMMD/zd940psswNlAenNCnSvAjd8z9D+2K8AjJc9Hyv4swLgAgpikci3AkGMMrXqkMMCO7KWMfrExwFdCay5ljzHAkVph/lN9McDW1Z38Yq0wwIr5bFhPHDDAadfTKQEBMMC1DuH/F2gzwFB15wuusTTAkLoVVoq2NcAg3iaIqCc0wA6xq7WfXzXACDcau2RjNMCaqcVu3680wKyy+k3QRzTAZ7FYfHfSNMCnh7Rl5MIywIWFDSm1AzTAwyNgt7B1NMANOTe6LXk0wBe2Kc5mnDTAXQt50q0oNcBHkojgxBk2wPC2uxI3DDfA/RtpzmoLN8DSAEwPCBk4wEg3hlhGZTjA4S+V195jOMDbBIJfKcg3wJgcNURS1zbArrMK2Fc0OMBpgnoExwc4wOWejiqw7zfAl6ImVbllOMDykcnIbEg4wIE0aQsh3zjAeMHn5YrROcCbF/N6+CQ5wE/e4WQ8sznA4Xf0IAbAOsDMMsMYDBs6wH01WbqRFjvAFN+BlEhjOsBKiaeGjXQ5wB6jqZsIszjAHECchGWaOMAp3Hgiy8U3wOtqsnh37DfAbS9R56dXN8DZl0IaPQ44wHj3XF1OwjfAFF4lQzyXN8ABtYkzZx44wJZA03DohzbAzKZzawrJNsBVulqjbIc1wDXjZu8LbjTApvB6TNxbM8BwI4HHoXs2wAkqSMrg1jXAO2zh6A2BNcCIhiLMMIo1wGDk/yFl7DTAM9hb0ZFpNcDfFk1McWY0wPoaxxMd2zPA7RpCor2qM8Ag54yEGlAzwHItPDsM1DHAyPwW4IwzMsA2FQjbFN4vwJYvlRJzGDPAkxSzm/4/MsDC39YjD/gxwCIxHUxWKDLArfmLzV9SMcAB5sxIah0xwOyp13VWdzLAOKsiOP+UMsADO3P7NaQxwBWUkYPVwTHAhUz2J//1McCWr9BiIYAxwBCF17G5gzLAPZihK5Q3MsCWC0Mc8XYywBFtpaeO/DLA+XQ3RR0lM8AVqqeKrwUywI+SX4EdyTHAXyCEDZaWMMCsoKUqe9YvwGrMTJJAgCvAU97zDl3/KMDse4bFcN8qwPO7h528MyjATHJtYDzzJ8BBx8aettAmwKzXaxn4oybAZ9Qugh4sJMC0VypO68EiwDHqx7jxniLAC/4B+V9QIsCbOjos64shwN7yEMgN3CLA0dXZaipPI8Bf3HRh/uAhwLfeUQnTeSLAT6vPLvM/IsB+TKnwkh4jwCYViYiW1yPAdL8o1uh/I8Dyn10zgU0kwK/gqcgU0SXAPzkJBs7sJMCXSZgKdVckwBvzcS98iiTAmg+ewgqCI8DYB8sd70MgwCVgW0l4fyPAQkK9YmJFI8D6kp1YeGolwGJH7nmcpCnAM3TmX3kRLMA05tPEBl8wwKUhgvlOIC7AaGHiTmWTL8DE8PA2cjwvwKM7zQ+nSizACqi+9K5NJ8Div3Ox7IAqwNsQ2wKKdivABvqEMGQIKsDh1okCuVUrwP/tfoeqNSvAOuoNV+l8KsB4VHHQbYMuwHDCUR5gpCzAwKGCeRYCLMBC5FOLoSgqwL3ucMtkpibAafGzyjgAKcCl1+54qy4rwDeIglDmrSzAwN7KBx1JLcD3E4PnSzQtwLxM+BxAZS3AgkV1M1uGLsBFQu2euM4qwP71lVVWgSzAkTSpp71/LsA9oodr5y0uwCyIYI8rDS/AmZLT5OtJLsAX8CkbGGMswJiCbu33mi7A6iAifmBlMMD8hrOoCkUvwARot1liwTDAxOVGKllCMMAfHqYJt0oxwISr1uhUvzHA+cPM1qyIMMD7M4P2Av0wwBrsT4kxrTDAbG94ou3XMMAZ5QQJAkIxwAiqRntL6jDA+aH/lLY7MsCofbFsCkczwFCN9vHKETLAjrm7h1JtMcCz5CJIbR8wwMZF4L3kKy3A5NB+y9n9K8BKLMQX7lArwEgvo5rFgyjAcDWtxnywKsAZ+26TuforwJzHOE01RCrAYLfQPPvnKcAx1mAgi8UnwJvBBEQOgSvA77VCI7+SKcB17sHphaMowMyzpYc6VizAi4hr0x+nLMCXIg4Ax4QtwMWM2f3JIizA8qxjjyKWLMAyFj1cHnIswG/rtFwEECnA4d/+LceqKcCeKgwR2/YpwEALFVwcrinAdbxaYnZSKMCtwB+W6aknwJ42oeCOqSjA1y2Nj561JcC72N3HDl0jwHjYaftevSPAhdYtaLVOI8A7hlm0S2EhwNjRbUvS6CPAkwK5cfhcJMBZBabuJiYlwImvSB8UQyXASncPCuKvJsAuaOfiiDcqwEW+ud1uKijANLwsTp/nKMDVwvxjZPgowJ4qdWQzWSfAazpOuDChJ8BmkXlcq4EmwPnmUm4RdiXAZccBwD2GJsAqOBzBvAgmwMenpj897inAhxuzspX4J8Bub/mu+t8nwJQcqxTMMyvArtOSgmaZKcBemwFloPsnwDR+X38P9CbA/wY4K+f8IsCIc3nhogkhwIwkIQ+nYhrAajtoHqqtHcB117tEdMkfwC29yHT4KiHA21wEhBpIH8CQOn/ZfMgYwDywFIon5RjAEQXLzQ95FsDknKnBVuwVwE865ro75hrAY3k5ZJVgF8DG9mmqWDgYwEyniK0p8R7AjqGTl+4IIcCi6UM6LTUhwGTVtbIsJSTA2LONFfD1JcBihXYDQ4gnwLvJPwAhryjAfvodbOLeKcBse6F1p9cpwGs4EUjEGyrAvn7KBmVEKMDiHjZulHYmwHIcaiM9HinAy+2KKPcQKsDOcqtglNUnwDF1/r2GMSrAAzfEIN64K8BxnFvgzvMnwJyowFWH9iXA2NtrvmuAJsDirMy9zCYnwJ1vezNg9CjAaig/ePi+KMCQ+RxdUU0rwJt8tS6uhSrAKL1hriDlLMAQgVlcRoEswC1IwI0vky3AOg5CZwWsLMAvwZQGc84rwAzWWHbitCzAMtJ5oMDfKsDj2wIKTpgtwObM5TaN/y/AHV3HGPFtMMBZlOaeiukswKUuhieKSSrAV1D2BPC2K8Boh5kwNCQswFpugKLYISnAmBAAa1qeJ8AYQiJkhs0qwP5ZiEC3qinAF9gFbciaJ8BnaDO0Gx8pwGSIW+iXHirAxCvO3rBFKcCi5aoK+l0nwFLLGzEAoCnAexqPC/eZJ8CgXQ5rr2UlwMjBI1ak2SbAVaRVXlgFJ8BVdOdDE+oowNxyzur1VCnAbsqGcFcKKMBXvcChWfIlwDJ+JlmXsyTAKYG/+13sI8D+SMhjdvYmwFjpuhqTtyjAdADUTG7JJ8A0XG1MWlQowHyOfyjABSfAh4Do+aXdJsBrfAGXhyAnwKfXYE3X0STA9lLKH3HWJsA1hN/w2PImwJT4ygfaPyXApWqAWuwcI8CQxM8B3+giwIklo2boCiLArrIMcKHMIcAAFrldzR8bwP40B9A62h3A1nm0JggUIsA8ygD2l88iwDYKeG/lTyLAGn3B/Ri1H8AGhSIW4qghwGoH0C+DXCDAyJQpDMAfGsDZHb8fLAUawKBhC4NJ5BTA2P4TvIjoFcBko7iMwwMUwDADj3HHsx7AsbhfIp6CIcBPzrSvvPwiwPa/HoJZ6STAZ6RV9dlKJsCuMkrvZGYnwDiQtffBlybAJDO1XW54JMA4XppduEokwHKRsk+dBCTAGkcjfdpxJ8AW8VVa9rUhwB0knNXNYCHAOrSeX98BI8DeD9b/3OwgwPZHe7J2CB/A994fNKoUGsD8eyfvBRUXwJx5j21K3xfAeFaol50+EsAIuKRLiC8TwNRf4SDoOhnAwPlf4EovGMBojDOytyIgwBMgj6y3jxvA+5/K9QOiGcC3g0FVYwQVwAknouOaPxPAxK7husQaE8DI+cGzrwQVwGAt6lnkQhbAWBZ1tTVYGcDloMV9HHoZwDOIN8EpEhnAr4U+ELN7F8Bv2C6VcmodwAHH9QCSYCDA62SFrXbTHsDU9N7cFP8YwBf/GmxqeBzAhIrs0gZsGcBLZnx92CISwN412U2hNQLAuDBQ0i9n5r8sMUqw5OLEPyPkKCKvhO+/bLujxpye4L/q4iT0IhPiv7uCGBUmr/0/BeZZPXSO/T8zMOcrX/7vP+TOLOL8vfU/McItm61G+D9uZ/ppI/HzP7ozZ8nJVv4/YqEjtzcXBEDsz/+GMUoLQCLavKJpJwFANhEfhLVmBEDyTzmGObEDQF4m2MYIpQFAUK7df2GE9T9gvKJ8iKW/P6SXHr4esPw/akun4x37AkDgsVdA/8HjP4J+HRV5evM//r0AQNk62T9XJWhhFdHvv/pxG5srUPa/kOA9rdNp87+IE9fV6u/9v3IxGoa/Hve/qJNeSvz+yr/bWUrYZ2jJv/lHm3ShBr+/Jfa9UBaE87+YF1K20hkBwFycJHHmLOC/nPYuKu/wzr9qiqe8VTbkv3JNExFi692//yo8oumu7j/uAbyDkKPoP1nswDAeoABApDB4+eSw5z/IDJJFBK/0PyLnyVcIbfA/uIcY0ja/9T/ke2y0f9DnPzYDj5MkVxBABOoyAG5fCkBdDq6ZuFT+PzJWqziVr+o/74nm44N17T/AdnB/4G2uPxHTAHSqs/0/vBEeN5vv/D9sDDDfE5nWP4z0sL0+6wBAn5JwM/Oo9D+wsoGyPQ7tP8QBAyBfjsM/UEIZOH+Esr/yC18WR13gv7onPj/kY8u/imJBpRud4D/uez/97L/jP8BbmOZG3QZAgoKYSO34EkBoYuSh1igTQLGUV4PcZhJAOyk74s4SD0COvgerDT0DQIqqA0AAt/s/yJWk9pUV8D9P54YEnLb5P/0g92GHGQJAYhcNibLoAUBBkqyw5Gj0P5z94UVnEAFAmBviWw6YB0AM5WUt21gCQK4HPThLcghAnQAIZrLqFECwh6pMIWMTQK2OYfVi7BRAYlO+gl6FEkAO9dN4x+8IQEJjqTkYZw1AV8YcRUQGFEDtw+06IRgYQDZFKkno3BdA1biUI+gZFUBO+Jkoi74TQDpMBVNAyBdAFpHERiznIEANmoQk48QjQGAitiAXFCRAOIRlb7x/IkCmoOVZihMlQCDPqkPnoCdAZfvmIB60J0CVTKc7a/QlQGU5p3lm9SNAYjJAkQjJIkBVY9H63LgkQMNz/ZoBRSZA+dGGqWYLJkBi9+iiJiolQLMSYN4YRSVAif5UYVtgIkCXw9Ab3F4fQHkywR3TVSFApfhyvIojIUBh1B0DgqQiQABauq99GCJADZEjRHH7IkCjUS5QUOAlQBgIVQjZbilA0WIkXcjyLEDCxtkdMTgvQIPISlYRVDBADOfNfbtZLkDboFxmnV8tQIPzS9QgjjBA8VcCdheXMEB8t5x9kNouQOaME/TRHC1A0xxQGghNK0AU8LmF06MuQJiQBNj3aDBApjyPwfcWMEA3pNlg34AwQDgAFP6dBC1ASpibmS7ZLUCYypF2Py0wQBXJF5O72jFA87YZ35qpMUD/pt+10g0xQNEYS0ovKjFAkJ6f+WIeMUAHZl0YK5gyQNSifHEcrzNAfOCWECGXM0Bc+nAwQ180QLIV+aNmjTZAh/nc07VZNkCWCzJBmsQ1QDWXVsusoDVA6255O/PFNEA=\",\"dtype\":\"float64\",\"shape\":[1000]}}},\"id\":\"9ac224a5-2ea0-4f70-bb7e-7876364c8184\",\"type\":\"ColumnDataSource\"},{\"attributes\":{\"callback\":null,\"column_names\":[\"x\",\"y\"],\"data\":{\"x\":{\"__ndarray__\":\"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\",\"dtype\":\"float64\",\"shape\":[1000]},\"y\":{\"__ndarray__\":\"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\",\"dtype\":\"float64\",\"shape\":[1000]}}},\"id\":\"8fd33abb-8635-4c67-a80a-2cdbf5f0a25f\",\"type\":\"ColumnDataSource\"},{\"attributes\":{\"items\":[{\"id\":\"6c226609-24b3-4527-b296-72853b86c1b8\",\"type\":\"LegendItem\"},{\"id\":\"bc3e5cae-5f00-46d1-ad18-bc3246b467c7\",\"type\":\"LegendItem\"},{\"id\":\"585bfd02-ef1f-42f4-a512-2d901c833289\",\"type\":\"LegendItem\"}],\"location\":\"bottom_right\",\"plot\":{\"id\":\"2f7b0086-ed2c-4b6c-8394-edc54e8668fc\",\"subtype\":\"Figure\",\"type\":\"Plot\"}},\"id\":\"a8f4a285-643a-4a89-a9f9-2a9d5fbe01fe\",\"type\":\"Legend\"}],\"root_ids\":[\"2f7b0086-ed2c-4b6c-8394-edc54e8668fc\"]},\"title\":\"Bokeh Application\",\"version\":\"0.12.13\"}};\n",
       "  var render_items = [{\"docid\":\"2ce91952-c8d9-456f-9eee-63c762b64df4\",\"elementid\":\"65752dd6-68f5-4886-97e6-d531d72e6aed\",\"modelid\":\"2f7b0086-ed2c-4b6c-8394-edc54e8668fc\"}];\n",
       "  root.Bokeh.embed.embed_items_notebook(docs_json, render_items);\n",
       "\n",
       "  }\n",
       "  if (root.Bokeh !== undefined) {\n",
       "    embed_document(root);\n",
       "  } else {\n",
       "    var attempts = 0;\n",
       "    var timer = setInterval(function(root) {\n",
       "      if (root.Bokeh !== undefined) {\n",
       "        embed_document(root);\n",
       "        clearInterval(timer);\n",
       "      }\n",
       "      attempts++;\n",
       "      if (attempts > 100) {\n",
       "        console.log(\"Bokeh: ERROR: Unable to run BokehJS code because BokehJS library is missing\")\n",
       "        clearInterval(timer);\n",
       "      }\n",
       "    }, 10, root)\n",
       "  }\n",
       "})(window);"
      ],
      "application/vnd.bokehjs_exec.v0+json": ""
     },
     "metadata": {
      "application/vnd.bokehjs_exec.v0+json": {
       "id": "2f7b0086-ed2c-4b6c-8394-edc54e8668fc"
      }
     },
     "output_type": "display_data"
    }
   ],
   "source": [
    "fig = bk.figure(x_axis_type = \"datetime\", title = 'Rolling Correlation',\n",
    "       plot_width=750, plot_height=400)\n",
    "fig.line(df2.index, df2['cumsum'], color='cadetblue', legend='Cumulative Sum')\n",
    "fig.line(df2.index, df2['similar'], color='mediumorchid', legend='Similar')\n",
    "fig.line(df2.index, df2['rolling correlation'], color='navy', legend='Rolling Corr.')\n",
    "fig.legend.location = \"bottom_right\"\n",
    "bk.show(fig)"
   ]
  },
  {
   "cell_type": "markdown",
   "metadata": {},
   "source": [
    "## 5 A pratical example: Return indexes and cumulative returns"
   ]
  },
  {
   "cell_type": "code",
   "execution_count": 15,
   "metadata": {},
   "outputs": [
    {
     "data": {
      "text/plain": [
       "Date\n",
       "2012-09-17    699.78\n",
       "2012-09-18    701.91\n",
       "2012-09-19    702.10\n",
       "2012-09-20    698.70\n",
       "2012-09-21    700.09\n",
       "Name: Adj Close, dtype: float64"
      ]
     },
     "metadata": {},
     "output_type": "display_data"
    }
   ],
   "source": [
    "AAPL = pd.read_csv('example_data/p03_AAPL.txt', index_col='Date', parse_dates=True)\n",
    "price = AAPL['Adj Close']\n",
    "display(price.tail())"
   ]
  },
  {
   "cell_type": "markdown",
   "metadata": {},
   "source": [
    "`pandas.Series.tail` returns the last n rows of a given `pandas.Series`."
   ]
  },
  {
   "cell_type": "code",
   "execution_count": 16,
   "metadata": {
    "collapsed": true
   },
   "outputs": [],
   "source": [
    "price['2011-10-03'] / price['2011-3-01'] - 1\n",
    "returns = price.pct_change()\n",
    "ret_index = (1 + returns).cumprod()\n",
    "ret_index[0] = 1\n",
    "monthly_returns = ret_index.resample('BM').last().pct_change()"
   ]
  },
  {
   "cell_type": "code",
   "execution_count": 17,
   "metadata": {},
   "outputs": [
    {
     "data": {
      "text/html": [
       "\n",
       "<div class=\"bk-root\">\n",
       "    <div class=\"bk-plotdiv\" id=\"eae71810-fd0b-4244-8afe-74e30ba50d8b\"></div>\n",
       "</div>"
      ]
     },
     "metadata": {},
     "output_type": "display_data"
    },
    {
     "data": {
      "application/javascript": [
       "(function(root) {\n",
       "  function embed_document(root) {\n",
       "    \n",
       "  var docs_json = {\"715d8b94-a637-4e4a-8fef-3ba53bbcc238\":{\"roots\":{\"references\":[{\"attributes\":{\"source\":{\"id\":\"13c486f6-754f-40e6-a1e5-d8bc4f5f4cfa\",\"type\":\"ColumnDataSource\"}},\"id\":\"5262fedc-649f-4e19-97d0-64604fc97de1\",\"type\":\"CDSView\"},{\"attributes\":{\"overlay\":{\"id\":\"07a85463-d91e-459d-a93b-f4fe400528d2\",\"type\":\"BoxAnnotation\"}},\"id\":\"6dce7e6e-4752-42c5-9b71-440efa914ea2\",\"type\":\"BoxZoomTool\"},{\"attributes\":{\"below\":[{\"id\":\"9a534db2-c821-4b69-9ddd-e240ba9becd8\",\"type\":\"DatetimeAxis\"}],\"left\":[{\"id\":\"d3a81782-417c-4f8a-9ffa-afe7d89ea889\",\"type\":\"LinearAxis\"}],\"plot_height\":400,\"plot_width\":750,\"renderers\":[{\"id\":\"9a534db2-c821-4b69-9ddd-e240ba9becd8\",\"type\":\"DatetimeAxis\"},{\"id\":\"70334575-9fa9-4f6a-b674-90be074d5962\",\"type\":\"Grid\"},{\"id\":\"d3a81782-417c-4f8a-9ffa-afe7d89ea889\",\"type\":\"LinearAxis\"},{\"id\":\"7f76e3b4-7638-40be-b841-09eef680795a\",\"type\":\"Grid\"},{\"id\":\"07a85463-d91e-459d-a93b-f4fe400528d2\",\"type\":\"BoxAnnotation\"},{\"id\":\"6ca5b797-7c3a-4e39-9d4d-b739b1163bb5\",\"type\":\"GlyphRenderer\"}],\"title\":{\"id\":\"b48a404c-4ed6-45a3-bdb4-91903af780ce\",\"type\":\"Title\"},\"toolbar\":{\"id\":\"2c7a3436-2d5c-44b7-8a1e-6601993583c0\",\"type\":\"Toolbar\"},\"x_range\":{\"id\":\"c208b2ce-f5a0-4739-91c4-23a3a28aade3\",\"type\":\"DataRange1d\"},\"x_scale\":{\"id\":\"fc0cfc47-8022-4f43-a343-609f0a62d258\",\"type\":\"LinearScale\"},\"y_range\":{\"id\":\"9db6ee1a-1629-42d6-bdb1-e83da1ed0412\",\"type\":\"DataRange1d\"},\"y_scale\":{\"id\":\"1b46683f-12dc-4901-9011-a922262378d5\",\"type\":\"LinearScale\"}},\"id\":\"b2ddc9fb-f652-4398-a5ab-e6426ec40e46\",\"subtype\":\"Figure\",\"type\":\"Plot\"},{\"attributes\":{\"callback\":null},\"id\":\"9db6ee1a-1629-42d6-bdb1-e83da1ed0412\",\"type\":\"DataRange1d\"},{\"attributes\":{},\"id\":\"67e174cd-fc50-4a26-9a20-daf79bbc1eeb\",\"type\":\"SaveTool\"},{\"attributes\":{\"callback\":null,\"column_names\":[\"x\",\"y\"],\"data\":{\"x\":{\"__ndarray__\":\"AABAI9yRcEIAAEBE35pwQgAAgJbZpHBCAACAt9ytcEIAAEDVe7hwQgAAwMEjwnBCAAAAFB7McEIAAEBmGNZwQgAAAO1t33BCAAAApbrpcEIAAICRYvNwQgAAQBi4/HBCAAAANlcHcUIAAABXWhBxQgAAgEMCGnFCAADAlfwjcUIAAADo9i1xQgAAwG5MN3FCAADAJplBcUIAAAB5k0txQgAAAJqWVHFCAADAtzVfcUIAAECk3WhxQgAAgPbXcnFCAADASNJ8cUIAAIDPJ4ZxQgAAwCEikHFCAABADsqZcUIAAMD6caNxQgAAAE1srXFCAABAn2a3cUIAAAAmvMBxQgAAAN4Iy3FCAABAMAPVcUIAAEBRBt5xQgAAAG+l6HFCAACAW03ycUIAAIB8UPtxQgAAgDSdBXJCAAAAIUUPckIAAMCnmhhyQgAAwF/nInJCAAAAsuEsckIAAEAE3DZyQgAAwPCDQHJCAABA3StKckIAAIAvJlRyQgAAwIEgXnJCAACACHZnckIAAIApeXByQgAAQEcYe3JCAADAM8CEckIAAACGuo5yQgAAgHJimHJCAAAAXwqickIAAAAXV6xyQgAAgAP/tXJCAABAilS/ckIAAEBCoclyQgAAgJSb03JCAADA5pXdckIAAMAHmeZyQgAAAFqT8HJCAADA4Oj5ckIAAMCYNQRzQgAAQIXdDXNCAAAADDMXc0IAAMAp0iFzQgAAQBZ6K3NCAACAaHQ1c0IAAABVHD9zQgAAgEHESHNCAACA+RBTc0IAAECAZlxzQgAAwGwOZnNCAAAAvwhwc0IAAEARA3pzQgAAAJhYg3NCAAAAUKWNc0IAAECin5dzQgAAQMOioHNC\",\"dtype\":\"float64\",\"shape\":[81]},\"y\":{\"__ndarray__\":\"AAAAAAAA+H8Y7w9Uhcy3v5BVVllllbW/gBD834hRvz/oKgklSlLDv/Ap1ERAVqW/OIdtyHnhxz8ATI2n/aFav6C9JZ/WOME/ALQBndNAqz+IFupaJbbAP+gbmyqHC7O/gFVVVVVVhT9A14yftaGKv7D28iRAGbk/cJvGHcT7sj+olzGL1W/LPwBnQoIs2nw/ICR27XFktD8AkrcheRuqPyB7DoQjs7s/uBaJ2Xduzj/g2DiMBNikv+A5gDxWR7Y/2jVBIMFD1L8YD4YNdIuzv5jbxLs168I/iIu2wxQpyz+QTrbpQ8W1P1BrIDKQ57y/UClMfTnzqb+wx86wXwyxP2oG+ikwGNW/kHxowXJTq784kLWiP8HBvwCgOp23MrS/QPvfPHmdrD8A8chSQ3yCv0D4ZhO2p8Y/SLTSk0w3yT/wx1k2XE+0P+B8FYtf86g/GE+84BXWwj/A1yeMSTaeP7DCR60zF7o/QPXJTMRdkT8grxz5KASvP2BDp7mOs6s/0BmyVjKutr8wDrOwDL+wP4iRnzzxAMM/UJOcL2BpvD8A4KL0CYGQv2CfkEudVpW/ABdl5iROlz/AA24A2ymsv/Ax+IbVZ8U/QOkU4vwTrz+gBv9RcU6hP2CYAPTxxaI/QGpzqBubqj/A0wpRKPWkPwD7G96XQIu/AIbq2N4Acz8AERmnpOd6v2BVlDYE56G/UAcvvAnnxD/Au8J4u6eNvwBQl9w1p4K/AMDcqw6Arz8AXZf5gI6svyCc5KcZiq4/sAfoPytFwD8YceTQWxrIP+ATX9dg9Lo/ICwkv5aamr8AWAfnOeiFvwAB8c4XN4Y/4D9oQP92pz8AnxjpLgi4P4Aduap70qo/\",\"dtype\":\"float64\",\"shape\":[81]}}},\"id\":\"13c486f6-754f-40e6-a1e5-d8bc4f5f4cfa\",\"type\":\"ColumnDataSource\"},{\"attributes\":{},\"id\":\"1b46683f-12dc-4901-9011-a922262378d5\",\"type\":\"LinearScale\"},{\"attributes\":{},\"id\":\"38153208-d52e-4155-83ec-31fda5115088\",\"type\":\"ResetTool\"},{\"attributes\":{\"num_minor_ticks\":5,\"tickers\":[{\"id\":\"60313cfd-257f-4120-8235-b814160775df\",\"type\":\"AdaptiveTicker\"},{\"id\":\"bcf7c0e2-1ee0-4e8e-9312-2c4e5c3269e8\",\"type\":\"AdaptiveTicker\"},{\"id\":\"97ca0bee-3300-4452-af38-fe7fa0e50f27\",\"type\":\"AdaptiveTicker\"},{\"id\":\"24bacabf-9150-40ae-a599-3b3d11bafd45\",\"type\":\"DaysTicker\"},{\"id\":\"aa6d7501-ba26-4d0a-ab7a-69e4344ca4dd\",\"type\":\"DaysTicker\"},{\"id\":\"868a450c-df94-40ac-8a7d-f49bb024434f\",\"type\":\"DaysTicker\"},{\"id\":\"84497817-065e-4264-8dde-d1c80a07f114\",\"type\":\"DaysTicker\"},{\"id\":\"56c3f3dc-f745-4b50-a68f-8d0a1074fd35\",\"type\":\"MonthsTicker\"},{\"id\":\"2a421cd2-27a2-40a6-b3cd-1c207b580926\",\"type\":\"MonthsTicker\"},{\"id\":\"91a997f2-0afa-4218-bdca-54ede0c97dc3\",\"type\":\"MonthsTicker\"},{\"id\":\"40e91e1e-1bc3-4fbf-9c36-0b08f9965161\",\"type\":\"MonthsTicker\"},{\"id\":\"6cab6682-1241-4a06-aee8-cd4a542df9bb\",\"type\":\"YearsTicker\"}]},\"id\":\"3d8d394b-cc85-4439-9c10-b017ead16a6a\",\"type\":\"DatetimeTicker\"},{\"attributes\":{\"plot\":{\"id\":\"b2ddc9fb-f652-4398-a5ab-e6426ec40e46\",\"subtype\":\"Figure\",\"type\":\"Plot\"},\"ticker\":{\"id\":\"3d8d394b-cc85-4439-9c10-b017ead16a6a\",\"type\":\"DatetimeTicker\"}},\"id\":\"70334575-9fa9-4f6a-b674-90be074d5962\",\"type\":\"Grid\"},{\"attributes\":{},\"id\":\"d0974b81-0f85-4af1-99bc-4191f54c30f5\",\"type\":\"HelpTool\"},{\"attributes\":{\"base\":60,\"mantissas\":[1,2,5,10,15,20,30],\"max_interval\":1800000.0,\"min_interval\":1000.0,\"num_minor_ticks\":0},\"id\":\"bcf7c0e2-1ee0-4e8e-9312-2c4e5c3269e8\",\"type\":\"AdaptiveTicker\"},{\"attributes\":{},\"id\":\"3e6f7d16-f0b3-40bf-9f24-8b74b8eb9a15\",\"type\":\"DatetimeTickFormatter\"},{\"attributes\":{\"base\":24,\"mantissas\":[1,2,4,6,8,12],\"max_interval\":43200000.0,\"min_interval\":3600000.0,\"num_minor_ticks\":0},\"id\":\"97ca0bee-3300-4452-af38-fe7fa0e50f27\",\"type\":\"AdaptiveTicker\"},{\"attributes\":{\"days\":[1,8,15,22]},\"id\":\"868a450c-df94-40ac-8a7d-f49bb024434f\",\"type\":\"DaysTicker\"},{\"attributes\":{\"mantissas\":[1,2,5],\"max_interval\":500.0,\"num_minor_ticks\":0},\"id\":\"60313cfd-257f-4120-8235-b814160775df\",\"type\":\"AdaptiveTicker\"},{\"attributes\":{\"days\":[1,4,7,10,13,16,19,22,25,28]},\"id\":\"aa6d7501-ba26-4d0a-ab7a-69e4344ca4dd\",\"type\":\"DaysTicker\"},{\"attributes\":{\"days\":[1,2,3,4,5,6,7,8,9,10,11,12,13,14,15,16,17,18,19,20,21,22,23,24,25,26,27,28,29,30,31]},\"id\":\"24bacabf-9150-40ae-a599-3b3d11bafd45\",\"type\":\"DaysTicker\"},{\"attributes\":{\"days\":[1,15]},\"id\":\"84497817-065e-4264-8dde-d1c80a07f114\",\"type\":\"DaysTicker\"},{\"attributes\":{\"months\":[0,1,2,3,4,5,6,7,8,9,10,11]},\"id\":\"56c3f3dc-f745-4b50-a68f-8d0a1074fd35\",\"type\":\"MonthsTicker\"},{\"attributes\":{\"formatter\":{\"id\":\"3e6f7d16-f0b3-40bf-9f24-8b74b8eb9a15\",\"type\":\"DatetimeTickFormatter\"},\"plot\":{\"id\":\"b2ddc9fb-f652-4398-a5ab-e6426ec40e46\",\"subtype\":\"Figure\",\"type\":\"Plot\"},\"ticker\":{\"id\":\"3d8d394b-cc85-4439-9c10-b017ead16a6a\",\"type\":\"DatetimeTicker\"}},\"id\":\"9a534db2-c821-4b69-9ddd-e240ba9becd8\",\"type\":\"DatetimeAxis\"},{\"attributes\":{\"months\":[0,2,4,6,8,10]},\"id\":\"2a421cd2-27a2-40a6-b3cd-1c207b580926\",\"type\":\"MonthsTicker\"},{\"attributes\":{\"months\":[0,4,8]},\"id\":\"91a997f2-0afa-4218-bdca-54ede0c97dc3\",\"type\":\"MonthsTicker\"},{\"attributes\":{\"months\":[0,6]},\"id\":\"40e91e1e-1bc3-4fbf-9c36-0b08f9965161\",\"type\":\"MonthsTicker\"},{\"attributes\":{},\"id\":\"6cab6682-1241-4a06-aee8-cd4a542df9bb\",\"type\":\"YearsTicker\"},{\"attributes\":{\"active_drag\":\"auto\",\"active_inspect\":\"auto\",\"active_scroll\":\"auto\",\"active_tap\":\"auto\",\"tools\":[{\"id\":\"47972e1e-eff3-447b-b107-54186e534816\",\"type\":\"PanTool\"},{\"id\":\"9e1d00cf-d74d-4d3c-bb3e-11ab351c3d01\",\"type\":\"WheelZoomTool\"},{\"id\":\"6dce7e6e-4752-42c5-9b71-440efa914ea2\",\"type\":\"BoxZoomTool\"},{\"id\":\"67e174cd-fc50-4a26-9a20-daf79bbc1eeb\",\"type\":\"SaveTool\"},{\"id\":\"38153208-d52e-4155-83ec-31fda5115088\",\"type\":\"ResetTool\"},{\"id\":\"d0974b81-0f85-4af1-99bc-4191f54c30f5\",\"type\":\"HelpTool\"}]},\"id\":\"2c7a3436-2d5c-44b7-8a1e-6601993583c0\",\"type\":\"Toolbar\"},{\"attributes\":{},\"id\":\"f9940958-9abb-49f2-8dde-8c194011c0c2\",\"type\":\"BasicTicker\"},{\"attributes\":{},\"id\":\"fc0cfc47-8022-4f43-a343-609f0a62d258\",\"type\":\"LinearScale\"},{\"attributes\":{\"line_alpha\":0.1,\"line_color\":\"#1f77b4\",\"x\":{\"field\":\"x\"},\"y\":{\"field\":\"y\"}},\"id\":\"a6c33234-9ca6-446e-89ef-1f7926d19b9c\",\"type\":\"Line\"},{\"attributes\":{\"bottom_units\":\"screen\",\"fill_alpha\":{\"value\":0.5},\"fill_color\":{\"value\":\"lightgrey\"},\"left_units\":\"screen\",\"level\":\"overlay\",\"line_alpha\":{\"value\":1.0},\"line_color\":{\"value\":\"black\"},\"line_dash\":[4,4],\"line_width\":{\"value\":2},\"plot\":null,\"render_mode\":\"css\",\"right_units\":\"screen\",\"top_units\":\"screen\"},\"id\":\"07a85463-d91e-459d-a93b-f4fe400528d2\",\"type\":\"BoxAnnotation\"},{\"attributes\":{},\"id\":\"2d5b77f7-90f0-4d73-b821-7993d61f8880\",\"type\":\"BasicTickFormatter\"},{\"attributes\":{\"dimension\":1,\"plot\":{\"id\":\"b2ddc9fb-f652-4398-a5ab-e6426ec40e46\",\"subtype\":\"Figure\",\"type\":\"Plot\"},\"ticker\":{\"id\":\"f9940958-9abb-49f2-8dde-8c194011c0c2\",\"type\":\"BasicTicker\"}},\"id\":\"7f76e3b4-7638-40be-b841-09eef680795a\",\"type\":\"Grid\"},{\"attributes\":{\"formatter\":{\"id\":\"2d5b77f7-90f0-4d73-b821-7993d61f8880\",\"type\":\"BasicTickFormatter\"},\"plot\":{\"id\":\"b2ddc9fb-f652-4398-a5ab-e6426ec40e46\",\"subtype\":\"Figure\",\"type\":\"Plot\"},\"ticker\":{\"id\":\"f9940958-9abb-49f2-8dde-8c194011c0c2\",\"type\":\"BasicTicker\"}},\"id\":\"d3a81782-417c-4f8a-9ffa-afe7d89ea889\",\"type\":\"LinearAxis\"},{\"attributes\":{\"line_color\":\"#1f77b4\",\"x\":{\"field\":\"x\"},\"y\":{\"field\":\"y\"}},\"id\":\"2f3858a1-ebe1-42a9-954b-79dba1f566f7\",\"type\":\"Line\"},{\"attributes\":{},\"id\":\"47972e1e-eff3-447b-b107-54186e534816\",\"type\":\"PanTool\"},{\"attributes\":{\"data_source\":{\"id\":\"13c486f6-754f-40e6-a1e5-d8bc4f5f4cfa\",\"type\":\"ColumnDataSource\"},\"glyph\":{\"id\":\"2f3858a1-ebe1-42a9-954b-79dba1f566f7\",\"type\":\"Line\"},\"hover_glyph\":null,\"muted_glyph\":null,\"nonselection_glyph\":{\"id\":\"a6c33234-9ca6-446e-89ef-1f7926d19b9c\",\"type\":\"Line\"},\"selection_glyph\":null,\"view\":{\"id\":\"5262fedc-649f-4e19-97d0-64604fc97de1\",\"type\":\"CDSView\"}},\"id\":\"6ca5b797-7c3a-4e39-9d4d-b739b1163bb5\",\"type\":\"GlyphRenderer\"},{\"attributes\":{\"plot\":null,\"text\":\"Monthly Returns\"},\"id\":\"b48a404c-4ed6-45a3-bdb4-91903af780ce\",\"type\":\"Title\"},{\"attributes\":{\"callback\":null},\"id\":\"c208b2ce-f5a0-4739-91c4-23a3a28aade3\",\"type\":\"DataRange1d\"},{\"attributes\":{},\"id\":\"9e1d00cf-d74d-4d3c-bb3e-11ab351c3d01\",\"type\":\"WheelZoomTool\"}],\"root_ids\":[\"b2ddc9fb-f652-4398-a5ab-e6426ec40e46\"]},\"title\":\"Bokeh Application\",\"version\":\"0.12.13\"}};\n",
       "  var render_items = [{\"docid\":\"715d8b94-a637-4e4a-8fef-3ba53bbcc238\",\"elementid\":\"eae71810-fd0b-4244-8afe-74e30ba50d8b\",\"modelid\":\"b2ddc9fb-f652-4398-a5ab-e6426ec40e46\"}];\n",
       "  root.Bokeh.embed.embed_items_notebook(docs_json, render_items);\n",
       "\n",
       "  }\n",
       "  if (root.Bokeh !== undefined) {\n",
       "    embed_document(root);\n",
       "  } else {\n",
       "    var attempts = 0;\n",
       "    var timer = setInterval(function(root) {\n",
       "      if (root.Bokeh !== undefined) {\n",
       "        embed_document(root);\n",
       "        clearInterval(timer);\n",
       "      }\n",
       "      attempts++;\n",
       "      if (attempts > 100) {\n",
       "        console.log(\"Bokeh: ERROR: Unable to run BokehJS code because BokehJS library is missing\")\n",
       "        clearInterval(timer);\n",
       "      }\n",
       "    }, 10, root)\n",
       "  }\n",
       "})(window);"
      ],
      "application/vnd.bokehjs_exec.v0+json": ""
     },
     "metadata": {
      "application/vnd.bokehjs_exec.v0+json": {
       "id": "b2ddc9fb-f652-4398-a5ab-e6426ec40e46"
      }
     },
     "output_type": "display_data"
    }
   ],
   "source": [
    "fig = bk.figure(x_axis_type = 'datetime', title = 'Monthly Returns',\n",
    "                plot_width=750, plot_height=400)\n",
    "fig.line(monthly_returns.index, monthly_returns)\n",
    "bk.show(fig)"
   ]
  },
  {
   "cell_type": "markdown",
   "metadata": {},
   "source": [
    "---\n",
    "\n",
    "Visit [www.add-for.com](<http://www.add-for.com/IT>) for more tutorials and updates.\n",
    "\n",
    "This work is licensed under a <a rel=\"license\" href=\"http://creativecommons.org/licenses/by-sa/4.0/\">Creative Commons Attribution-ShareAlike 4.0 International License</a>."
   ]
  }
 ],
 "metadata": {
  "kernelspec": {
   "display_name": "Python [conda env:addfor_tutorials]",
   "language": "python",
   "name": "conda-env-addfor_tutorials-py"
  },
  "language_info": {
   "codemirror_mode": {
    "name": "ipython",
    "version": 3
   },
   "file_extension": ".py",
   "mimetype": "text/x-python",
   "name": "python",
   "nbconvert_exporter": "python",
   "pygments_lexer": "ipython3",
   "version": "3.6.4"
  }
 },
 "nbformat": 4,
 "nbformat_minor": 1
}
