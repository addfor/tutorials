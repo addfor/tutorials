{
 "cells": [
  {
   "cell_type": "markdown",
   "metadata": {},
   "source": [
    "# Integration of Python with compiled languages"
   ]
  },
  {
   "cell_type": "code",
   "execution_count": null,
   "metadata": {},
   "outputs": [],
   "source": [
    "import addutils.toc ; addutils.toc.js(ipy_notebook=True)"
   ]
  },
  {
   "cell_type": "code",
   "execution_count": null,
   "metadata": {},
   "outputs": [],
   "source": [
    "from addutils import css_notebook\n",
    "css_notebook()"
   ]
  },
  {
   "cell_type": "markdown",
   "metadata": {},
   "source": [
    "## 1 Introduction"
   ]
  },
  {
   "cell_type": "markdown",
   "metadata": {},
   "source": [
    "Python users and developers can use many tools for integrating Python with other languages. For example it's possible to link Python code to external libraries, such as C or Fortran ones, usually with a more efficient processing and a general speed up.  These tools are tipically multi-platform, so that you can develop in Linux, Windows or MacOS, at your will. Here we will consider only the most quoted tools, i.e. **Cython**, **Weave** and **ctypes**. Other tools, such as F2PY (Fortran, C) and SWIG, are available. SWIG (Simplified Wrapper Interface Generator) automates the generation of wrapper code for interfacing C/C++ with many languages (Guile, Java, Ocaml, Perl, Pike, PHP, Python, Ruby, and Tcl). A good primer on F2PY and SWIG is in Langtangen - A Primer on Scientific Programming with Python.\n",
    "CXX, Boost.Python, and SCXX are C++ tools that simplify programming with the Python C API."
   ]
  },
  {
   "cell_type": "markdown",
   "metadata": {},
   "source": [
    "## 2 Speeding up Python code with Cython"
   ]
  },
  {
   "cell_type": "markdown",
   "metadata": {},
   "source": [
    "Cython is (almost) a superset of Python. With Cython you can assign C types to Python variables, coding in something similar to Python but getting the speed advantages of C. The resulting run time can be much shorter, even with improvements of 200-300x."
   ]
  },
  {
   "cell_type": "markdown",
   "metadata": {},
   "source": [
    "Cython code is translated in C code using Python setup scripts based on the `distutils` library. An example is below: it represents the setup script for the three compiled extensions that we will  consider in this paragraph. Setup scripts are run from the command lines.\n",
    "\n",
    "NB: the following examples are meant to be run in MacOSX. Before running them on other Operating Systems it is necessary to install a C compiler and to modify them accordingly."
   ]
  },
  {
   "cell_type": "markdown",
   "metadata": {},
   "source": [
    "```python\n",
    "from distutils.core import setup\n",
    "from distutils.extension import Extension\n",
    "from Cython.Distutils import build_ext\n",
    "\n",
    "setup(\n",
    "  cmdclass = {'build_ext': build_ext},\n",
    "  ext_modules = [\n",
    "    Extension(\"integrate_compiled\",\n",
    "              [\"integrate.py\"],\n",
    "             ),\n",
    "    Extension(\"integrate_hints\",\n",
    "              [\"integrate_hints.py\"],\n",
    "             ),\n",
    "    Extension(\"integrate_cy\",\n",
    "              [\"integrate_cy.pyx\"],\n",
    "             ),\n",
    "  ])\n",
    "```"
   ]
  },
  {
   "cell_type": "markdown",
   "metadata": {},
   "source": [
    "The C code is compiled as a Python library, in **pyd** format, that can be imported in Python scripts as a normal Python module (such as Numpy and Pandas)."
   ]
  },
  {
   "cell_type": "markdown",
   "metadata": {},
   "source": [
    "We consider as a specific example a case of integration of a power function, deriving from a presentation by van der Walt at the 2010 Summer School in Trento. Execution times for Python and Cython versions have been measured on a normal laptop (Windows Vista, 4 GB RAM)."
   ]
  },
  {
   "cell_type": "markdown",
   "metadata": {},
   "source": [
    "We try to compute the approximate integral of $$\\int_{a}^{b} f(x)dx$$ by using rectangular discretisation."
   ]
  },
  {
   "cell_type": "markdown",
   "metadata": {},
   "source": [
    "<img style=\"max-width: 50%;\" src=\"images/integration.png\" />"
   ]
  },
  {
   "cell_type": "code",
   "execution_count": null,
   "metadata": {},
   "outputs": [],
   "source": [
    "# integrate.py\n",
    "from __future__ import division\n",
    "\n",
    "def f(x):\n",
    "    return x**4 - 3 * x\n",
    "\n",
    "def integrate_f(a, b, N):\n",
    "    \"\"\"Rectangle integration of a function.\n",
    "\n",
    "    Parameters\n",
    "    ----------\n",
    "    a, b : ints\n",
    "        Interval over which to integrate.\n",
    "    N : int\n",
    "        Number of intervals to use in the discretisation.\n",
    "\n",
    "    \"\"\"\n",
    "    s = 0\n",
    "    dx = (b - a) / N\n",
    "    for i in range(N):\n",
    "        s += f(a + i * dx)\n",
    "    return s * dx"
   ]
  },
  {
   "cell_type": "markdown",
   "metadata": {},
   "source": [
    "After running the setup script on the integrate.py script, we obtain a integrate.pyd module that we can import and test."
   ]
  },
  {
   "cell_type": "code",
   "execution_count": null,
   "metadata": {},
   "outputs": [],
   "source": [
    "import timeit\n",
    "\n",
    "setup_statement=\"import utilities.integrate as i0\"\n",
    "\n",
    "s = \"\"\"\\\n",
    "i0.integrate_f(0,10,100000)\n",
    "\"\"\"\n",
    "t = timeit.Timer( s, setup_statement )\n",
    "\n",
    "print(\"Execution time: {:.2f} msec/pass\".format( 1000 * t.timeit(number=100)/100 ))"
   ]
  },
  {
   "cell_type": "markdown",
   "metadata": {},
   "source": [
    "If we modify the code with Cython decorators ('@cython.locals'), we can attribute a type to the function arguments and to local variables, as is the norm for static languages. This code is still compatible with Python. "
   ]
  },
  {
   "cell_type": "code",
   "execution_count": null,
   "metadata": {},
   "outputs": [],
   "source": [
    "from __future__ import division\n",
    "import cython\n",
    "\n",
    "@cython.locals(x=cython.double)\n",
    "def f(x):\n",
    "    # Note: x**4 translates to slow code in Cython\n",
    "    # Use x*x*x*x to avoid calling 'pow'\n",
    "    return x**4 - 3 * x\n",
    "\n",
    "@cython.locals(a=cython.double, b=cython.double,\n",
    "               N=cython.int, s=cython.double,\n",
    "               dx=cython.double, i=cython.int)\n",
    "def integrate_f(a, b, N):\n",
    "\n",
    "    s = 0\n",
    "    dx = (b - a) / N\n",
    "    for i in range(N):\n",
    "        s += f(a + i * dx)\n",
    "    return s * dx"
   ]
  },
  {
   "cell_type": "markdown",
   "metadata": {},
   "source": [
    "If we compile the code with the setup scripts, we obtain a `pyd dll` that we can import and use."
   ]
  },
  {
   "cell_type": "code",
   "execution_count": null,
   "metadata": {},
   "outputs": [],
   "source": [
    "setup_statement=\"import utilities.integrate_hints as i1\"\n",
    "\n",
    "s = \"\"\"i1.integrate_f(0,10,100000)\"\"\"\n",
    "t = timeit.Timer( s, setup_statement )\n",
    "\n",
    "print(\"Execution time: {:.2f} msec/pass\".format( 1000 * t.timeit(number=100)/100))"
   ]
  },
  {
   "cell_type": "markdown",
   "metadata": {},
   "source": [
    "The execution time should get a 3x improvement."
   ]
  },
  {
   "cell_type": "markdown",
   "metadata": {},
   "source": [
    "We can further optimize the code, using cdef (c definitions), in a way that **this code is no longer compatible with Python**, but, when compiled, it run much faster than the original code."
   ]
  },
  {
   "cell_type": "markdown",
   "metadata": {},
   "source": [
    "```python\n",
    "# cython: cdivision=True\n",
    "\n",
    "# ^^^ Could also use @cython.cdivision(True) decorator\n",
    "\n",
    "cdef double f(double x):\n",
    "    return x*x*x*x - 3 * x\n",
    "\n",
    "def integrate_f(double a, double b, int N):\n",
    "    cdef double s = 0\n",
    "    cdef double dx = (b - a) / N\n",
    "    cdef int i\n",
    "    for i in range(N):\n",
    "        s += f(a + i * dx)\n",
    "    return s * dx\n",
    "```"
   ]
  },
  {
   "cell_type": "code",
   "execution_count": null,
   "metadata": {},
   "outputs": [],
   "source": [
    "setup_statement=\"import utilities.integrate_cy as i2\"\n",
    "\n",
    "s = \"\"\"\\\n",
    "i2.integrate_f(0,10,100000)\n",
    "\"\"\"\n",
    "t = timeit.Timer( s, setup_statement )\n",
    "\n",
    "print(\"Execution time: {:.2f} msec/pass\".format( 1000 * t.timeit(number=100)/100 ))\n"
   ]
  },
  {
   "cell_type": "markdown",
   "metadata": {},
   "source": [
    "We obtain an improvement of about 150x, and the code is still quite readable, at the (small) price of having the cython code automatically translated into C by the setup scripts."
   ]
  },
  {
   "cell_type": "markdown",
   "metadata": {},
   "source": [
    "### 2.1 References"
   ]
  },
  {
   "cell_type": "markdown",
   "metadata": {},
   "source": [
    "Cython for NumPy users - http://docs.cython.org/src/userguide/numpy_tutorial.html#numpy-tutorial\n",
    "  \n",
    "A good introduction is: van der Walt, Summer School 2010 Trento - https://python.g-node.org/python-autumnschool-2010/start\n",
    "  \n",
    "   "
   ]
  },
  {
   "cell_type": "markdown",
   "metadata": {},
   "source": [
    "## 3 Integrating C/C++ code into Python with Weave"
   ]
  },
  {
   "cell_type": "markdown",
   "metadata": {},
   "source": [
    "Can we insert C code into Python scripts? With Weave it is possible.\n",
    "Thanks to the 'inline' function, it is possible to integrate C code lines as text into a Python script. At the first execution of the script, the C code is compiled, so that the total run time can get longer (generally a few seconds), but the compiled code is saved in cache in the computer and is then directly executed the next times. Usually the compiled code is tens of times faster than the interpreted version. "
   ]
  },
  {
   "cell_type": "markdown",
   "metadata": {},
   "source": [
    "There is also another Weave functionality, 'blitz', that allows to directly compile a single Python expression into C++. For instance, the following Python expression (from http://docs.scipy.org/doc/scipy/reference/tutorial/weave.html):"
   ]
  },
  {
   "cell_type": "code",
   "execution_count": null,
   "metadata": {},
   "outputs": [],
   "source": [
    "from scipy import *  # or from NumPy import *\n",
    "import numpy as np\n",
    "a = np.zeros((512,512), float)\n",
    "b = np.ones((512,512), float)"
   ]
  },
  {
   "cell_type": "code",
   "execution_count": null,
   "metadata": {},
   "outputs": [],
   "source": [
    "a[1:-1,1:-1] =  (b[1:-1,1:-1] + b[2:,1:-1] + 3*b[:-2,1:-1] \\\n",
    "               + b[1:-1,2:] + b[1:-1,:-2]) / 6.0\n",
    "print a"
   ]
  },
  {
   "cell_type": "markdown",
   "metadata": {},
   "source": [
    "can be compiled with blitz in this way:"
   ]
  },
  {
   "cell_type": "code",
   "execution_count": null,
   "metadata": {},
   "outputs": [],
   "source": [
    "import scipy.weave\n",
    "from scipy import *  # or from NumPy import *\n",
    "\n",
    "a = np.zeros((512,512), float)\n",
    "b = np.ones((512,512), float)\n",
    "\n",
    "expr = \"a[1:-1,1:-1] =  (b[1:-1,1:-1] + b[2:,1:-1] + 3*b[:-2,1:-1]\" \\\n",
    "                      \"+ b[1:-1,2:] + b[1:-1,:-2]) / 5.0\"\n",
    "scipy.weave.blitz(expr)\n",
    "print a"
   ]
  },
  {
   "cell_type": "markdown",
   "metadata": {},
   "source": [
    "Generally the increase in run speed with 'blitz' is lower to the one that we obtain with 'inline'."
   ]
  },
  {
   "cell_type": "markdown",
   "metadata": {},
   "source": [
    "An example of stochastic simulation of stocks with 'inline' is here exemplified. The C code is inserted as a text string. It do FOR loops on a Numpy array (named S), passed by reference. The function arguments are passed as list elements in the weave.inline arguments.  "
   ]
  },
  {
   "cell_type": "markdown",
   "metadata": {},
   "source": [
    "Original version:"
   ]
  },
  {
   "cell_type": "code",
   "execution_count": null,
   "metadata": {},
   "outputs": [],
   "source": [
    "import numpy as np\n",
    "import pandas as pd\n",
    "from pandas.io.data import read_csv\n",
    "\n",
    "AAPL = read_csv('example_data/p03_AAPL.txt',\n",
    "                index_col='Date', parse_dates=True)\n",
    "\n",
    "AAPL['Ret'] = np.log(AAPL.Close/AAPL.Close.shift(1)) \n",
    "vol = np.std(AAPL['Ret'])*np.sqrt(252)               \n",
    "r = 0.025                                            # Constant Short Rate\n",
    "S0 = AAPL['Close'][-1]                               # End Value                                                                                      \n",
    "K = S0 * 1.1                                         # OTM Call Option                                                                                \n",
    "T = 1.0                                              # Maturity Year\n",
    "M = 100; dt = T / M                                  # Time Steps                                                                                     \n",
    "I = 10000                                            # Simulation Paths\n",
    "S = np.zeros((M + 1, I))\n",
    "S[0,:] = S0\n",
    "for t in range(1, M + 1):\n",
    "    ran = np.random.standard_normal(I)\n",
    "    S[t, :] = S[t - 1, :] * np.exp((r - vol**2 / 2) * dt + vol * np.sqrt(dt) * ran)\n"
   ]
  },
  {
   "cell_type": "markdown",
   "metadata": {},
   "source": [
    "Modified version:"
   ]
  },
  {
   "cell_type": "code",
   "execution_count": null,
   "metadata": {},
   "outputs": [],
   "source": [
    "from scipy import weave\n",
    "from scipy.weave import converters\n",
    "# changes for C compatibility\n",
    "vol_c = float(vol) # vol is a np array, would give error in C code\n",
    "ran = np.random.normal(0, 1, (M+1)*I)\n",
    "ran = np.reshape(ran, (M+1,I)) \n",
    "\n",
    "S = np.zeros((M+1,I))\n",
    "\n",
    "code = r\"\"\"\n",
    "\n",
    "for ( int i = 0; i < I; i++ ) S(0,i) = S0;\n",
    "\n",
    "for ( int t = 1; t < M+1; t++ )\n",
    "{\n",
    "  for ( int i = 0; i < I; i++ ) S(t,i) = S(t-1,i) * exp( (r - vol_c * vol_c/2.0) * dt + vol_c * sqrt(dt) * ran(t,i) );\n",
    "}\n",
    "\n",
    "\"\"\"\n",
    " \n",
    "weave.inline(code,['S', 'M', 'dt', 'I', 'vol_c','r', 'S0', 'ran'], type_converters=converters.blitz, compiler='gcc')\n"
   ]
  },
  {
   "cell_type": "markdown",
   "metadata": {},
   "source": [
    "### 3.1 References"
   ]
  },
  {
   "cell_type": "markdown",
   "metadata": {},
   "source": [
    "Weave (scipy.weave) - http://docs.scipy.org/doc/scipy/reference/tutorial/weave.html\n",
    "  \n",
    "Weave (Sage) - http://www.sagemath.org/doc/numerical_sage/weave.html"
   ]
  },
  {
   "cell_type": "markdown",
   "metadata": {},
   "source": [
    "## 4 Access to external libraries with ctypes"
   ]
  },
  {
   "cell_type": "markdown",
   "metadata": {},
   "source": [
    "Numerical libraries such as Blas, Lapack or Atlas are routinely available in Python. We can access other libraries from Python with the ctypes module. ctypes presents many functionalities: it has wrappers for C data, it allows to create pointers and to return the referenced values, it can call functions from the C library (libc)."
   ]
  },
  {
   "cell_type": "markdown",
   "metadata": {},
   "source": [
    "As an example, we consider the creation of a simple function in a shared library, created and tested in C in Linux (Ubuntu) (from http://stackoverflow.com/questions/5862915/passing-numpy-arrays-to-a-c-function-for-input-and-output). The C source code is the following:"
   ]
  },
  {
   "cell_type": "raw",
   "metadata": {},
   "source": [
    "/*  double_array.c   */\n",
    "\n",
    "#include <stdio.h>\n",
    "\n",
    "void cdouble(const double *indata, size_t size, double *outdata) \n",
    "{\n",
    "    size_t i;\n",
    "    for (i = 0; i < size; ++i)\n",
    "        outdata[i] = indata[i] * 2.0;\n",
    "}"
   ]
  },
  {
   "cell_type": "markdown",
   "metadata": {},
   "source": [
    "We can compile this file as shared library in Linux:"
   ]
  },
  {
   "cell_type": "raw",
   "metadata": {},
   "source": [
    "gcc -fPIC -shared -o double_array.so double_array.c"
   ]
  },
  {
   "cell_type": "markdown",
   "metadata": {},
   "source": [
    "and use this new library from Python:"
   ]
  },
  {
   "cell_type": "raw",
   "metadata": {},
   "source": [
    "import numpy as np\n",
    "import ctypes\n",
    "from numpy.ctypeslib import ndpointer\n",
    "lib = ctypes.cdll.LoadLibrary('./double_array.so')\n",
    "\n",
    "cdouble = lib.cdouble\n",
    "cdouble.restype = None\n",
    "cdouble.argtypes = [ndpointer(ctypes.c_double),\n",
    "                ctypes.c_size_t,\n",
    "                ndpointer(ctypes.c_double)]\n",
    "\t\t\t\t\n",
    "indata = np.ones((10,10))\n",
    "outdata = np.empty((10,10))\n",
    "cdouble(indata, indata.size, outdata)\n",
    "\n",
    "print 'array originale: %s' % indata\n",
    "print 'nuovo array: %s' % outdata"
   ]
  },
  {
   "cell_type": "markdown",
   "metadata": {},
   "source": [
    "A tested compilation setting for Windows with gcc that allows to create dll recognised by ctypes is:"
   ]
  },
  {
   "cell_type": "raw",
   "metadata": {},
   "source": [
    "gcc -c -DBUILD_DLL sourcename.c gcc -shared -o sourcename.dll sourcename.o "
   ]
  },
  {
   "cell_type": "markdown",
   "metadata": {},
   "source": [
    "See: http://codespeak.net/pipermail/cython-dev/2009-May/005517.html"
   ]
  },
  {
   "cell_type": "markdown",
   "metadata": {},
   "source": [
    "### 4.1 References"
   ]
  },
  {
   "cell_type": "markdown",
   "metadata": {},
   "source": [
    "ctypes — A foreign function library for Python - http://docs.python.org/library/ctypes.html\n",
    "  \n",
    "ctypes (Sage) - http://www.sagemath.org/doc/numerical_sage/ctypes.html "
   ]
  },
  {
   "cell_type": "markdown",
   "metadata": {},
   "source": [
    "## 5 Embedding Python in C"
   ]
  },
  {
   "cell_type": "markdown",
   "metadata": {},
   "source": [
    "Incorporating Python in C presents a greater complexity and more freedom degrees than incorporating C in Python. It also requires the knowledge of the C APIs in Python.\n",
    "The first step for Python embedding is the inclusion of the Python header file 'Python.h' in our C program. 'Py_Initialize()' and 'Py_Finalize()' initialize and close the Python interpreter, respectively.\n",
    "There are many possible ways to interface C and Python: \n",
    "\n",
    "* insert in C static (or dinamically constructed) string of Python code (in a way similar to Weave.inline) and execute them with 'PyRun_SimpleString()'. Since the compilation is a slow process, it is better to precompile them as Python bytecode;\n",
    "* call Python objects associating a list of arguments;\n",
    "* call and execute entire Python scripts with 'PyRun_SimpleFile()'.\n",
    "\n",
    "When a Python object is no longer used, the memory can be set free with 'Py_DECREF'.\n",
    "The incorporated Python code can be in turn extended with C, using the previously described techniques.\n",
    "Considering the difficulties of embedding in C, there are no largely used tools that can simplify the work of integrating of Python in C.\n",
    "\n"
   ]
  },
  {
   "cell_type": "markdown",
   "metadata": {},
   "source": [
    "### 5.1 References"
   ]
  },
  {
   "cell_type": "markdown",
   "metadata": {},
   "source": [
    "Supercharging C++ Code With Embedded Python – EuroPython 2012 Talk - http://realmike.org/blog/2012/07/05/supercharging-c-code-with-embedded-python/\n",
    "  \n",
    "Embedding Python in Another Application - http://docs.python.org/extending/embedding.html\n",
    "  \n",
    "Python/C API Reference Manual - http://docs.python.org/c-api/index.html#c-api-index "
   ]
  },
  {
   "cell_type": "markdown",
   "metadata": {},
   "source": [
    "---\n",
    "\n",
    "Visit [www.add-for.com](<http://www.add-for.com/IT>) for more tutorials and updates.\n",
    "\n",
    "This work is licensed under a <a rel=\"license\" href=\"http://creativecommons.org/licenses/by-sa/4.0/\">Creative Commons Attribution-ShareAlike 4.0 International License</a>."
   ]
  }
 ],
 "metadata": {
  "kernelspec": {
   "display_name": "Python [conda env:addfor_tutorials]",
   "language": "python",
   "name": "conda-env-addfor_tutorials-py"
  },
  "language_info": {
   "codemirror_mode": {
    "name": "ipython",
    "version": 3
   },
   "file_extension": ".py",
   "mimetype": "text/x-python",
   "name": "python",
   "nbconvert_exporter": "python",
   "pygments_lexer": "ipython3",
   "version": "3.6.4"
  }
 },
 "nbformat": 4,
 "nbformat_minor": 1
}
