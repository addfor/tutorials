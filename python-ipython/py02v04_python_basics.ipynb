{
 "cells": [
  {
   "cell_type": "markdown",
   "metadata": {},
   "source": [
    "# Python Basic Concepts"
   ]
  },
  {
   "cell_type": "code",
   "execution_count": 1,
   "metadata": {},
   "outputs": [
    {
     "data": {
      "text/html": [
       "<div id='toc-container'><script type='text/javascript'>\n",
       "$(function() {\n",
       "    function regenTOC(){\n",
       "        element = $(\"#toc-container\");\n",
       "\n",
       "\tvar toc = document.createElement(\"div\");\n",
       "\t$(toc).attr(\"class\", \"table-of-contents\");\n",
       "\n",
       "\tvar curLevel = 0;\n",
       "\tvar containerStack = [toc];\n",
       "\tvar levelOfTag = {\"h2\": 1, \"h3\": 2, \"h4\": 3, \"h5\": 4};\n",
       "\n",
       "\tfunction pushLevel() {\n",
       "            var list = document.createElement(\"ul\");\n",
       "            containerStack.push(list);\n",
       "            curLevel++;\n",
       "\t}\n",
       "\t\n",
       "\tfunction popLevel() {\n",
       "            var lastContainer = containerStack.pop();\n",
       "            $(lastContainer).appendTo(containerStack[containerStack.length - 1]);\n",
       "            curLevel--;\n",
       "\t}\n",
       "\t\n",
       "\t$(\".text_cell_render :header\").each(function (i, elem) {\n",
       "            var level = levelOfTag[ elem.tagName.toLowerCase() ];\n",
       "\n",
       "            if (level === undefined)\n",
       "\t\treturn;\n",
       "\n",
       "            while (curLevel < level)\n",
       "\t\tpushLevel();\n",
       "            while (curLevel > level)\n",
       "\t\tpopLevel();\n",
       "            \n",
       "            var listItem = document.createElement(\"li\");\n",
       "            var link = document.createElement(\"a\");\n",
       "            $(link)\n",
       "\t\t.text($(elem).contents().first().text()) // Remove the pilcrow sign\n",
       "\t\t.attr(\"href\", \"#\" + $(elem).attr(\"id\"))\n",
       "\t\t.appendTo(listItem);\n",
       "            $(listItem).appendTo(containerStack[containerStack.length - 1]);\n",
       "\t});\n",
       "\t\n",
       "\twhile (curLevel > 0)\n",
       "            popLevel();\n",
       "\n",
       "        $(\"<a class='btn-update' href='#'>Update</a>\")\n",
       "          .click(regenTOC).prependTo(toc);\n",
       "\n",
       "\t$(toc).prepend(\"<div class='title'>Contents</div>\")\n",
       "          .wrap(\"<div class='toc-headings'/>\");\n",
       "\n",
       "        $(element).empty();\n",
       "        $(element).append(toc);\n",
       "    }\n",
       "\n",
       "    if (typeof(IPython) !== 'undefined')\n",
       "        $([IPython.events]).on('notebook_loaded.Notebook', regenTOC);\n",
       "    regenTOC();\n",
       "});\n",
       "\n",
       "</script></div>"
      ],
      "text/plain": [
       "<IPython.core.display.HTML object>"
      ]
     },
     "execution_count": 1,
     "metadata": {},
     "output_type": "execute_result"
    }
   ],
   "source": [
    "import addutils.toc ; addutils.toc.js(ipy_notebook=True)"
   ]
  },
  {
   "cell_type": "code",
   "execution_count": 2,
   "metadata": {},
   "outputs": [
    {
     "data": {
      "text/html": [
       "<style>\n",
       ".text_cell_render @font-face {\n",
       "    font-family: \"Computer Modern\";\n",
       "    src: url('http://mirrors.ctan.org/fonts/cm-unicode/fonts/otf/cmunss.otf');\n",
       "}\n",
       "\n",
       "div.cell {\n",
       "    width: 900px;\n",
       "    margin-left: 0% !important;\n",
       "    margin-right: 0%;\n",
       "}\n",
       "\n",
       "code {\n",
       "    font-size:10pt;\n",
       "}\n",
       "\n",
       ".text_cell_render  h1 {\n",
       "    font-family: Tahoma, sans-serif;\n",
       "    color: rgb( 10, 88, 126 );\n",
       "    font-size:28pt;\n",
       "}\n",
       ".text_cell_render h2 {\n",
       "    font-family: Tahoma, sans-serif;\n",
       "    color: rgb( 10, 88, 126 );\n",
       "    font-size:24pt;\n",
       "}\n",
       ".text_cell_render h3 {\n",
       "    font-family: Tahoma, sans-serif;\n",
       "    color: rgb( 10, 88, 126 );\n",
       "    font-size:20pt;\n",
       "}\n",
       ".text_cell_render h4 {\n",
       "    font-family: Tahoma, sans-serif;\n",
       "    color: rgb( 10, 88, 126 );\n",
       "    font-size:18pt;\n",
       "    margin-top:12px;\n",
       "    margin-bottom: 3px;\n",
       "}\n",
       "\n",
       ".text_cell_render h5 {\n",
       "    font-weight: 300;\n",
       "    font-size: 11pt;\n",
       "    color: rgb( 48, 48, 48 );\n",
       "    font-style: italic;\n",
       "    margin-bottom: .5em;\n",
       "    margin-top: 0.5em;\n",
       "    display: block;\n",
       "}\n",
       "\n",
       ".text_cell_render ul {\n",
       "    font-family: Tahoma, sans-serif;\n",
       "    color: rgb( 90, 90, 90 );\n",
       "    font-size:11pt;\n",
       "    line-height: 185%;\n",
       "}\n",
       "\n",
       ".text_cell_render yp {\n",
       "    font-family: Tahoma, sans-serif;\n",
       "    color: rgb( 90, 90, 90 );\n",
       "    font-size:11pt;\n",
       "}\n",
       "\n",
       ".text_cell_render strong {\n",
       "    font-family: Tahoma, sans-serif;\n",
       "    color: rgb( 30, 30, 30 );\n",
       "    font-size:11pt;\n",
       "}\n",
       "\n",
       ".text_cell_render a:link {\n",
       "    font-family: Tahoma, sans-serif;\n",
       "    color: rgb( 10, 88, 126 );\n",
       "    font-size:11pt;\n",
       "}\n",
       "\n",
       ".text_cell_render a:visited {\n",
       "    color:rgb( 10, 88, 126 );\n",
       "}\n",
       "\n",
       ".text_cell_render {\n",
       "    font-family: Helvetica, Courier, Computer Modern, \"Helvetica Neue\", Arial, Geneva, sans-serif;\n",
       "    color: rgb( 84, 84, 84 );\n",
       "    font-size:11pt;\n",
       "    line-height: 125%;\n",
       "    font-size: 100%;\n",
       "    width:800px;\n",
       "}\n",
       "\n",
       ".CodeMirror {\n",
       "    font-family: Courier, \"Source Code Pro\", source-code-pro,Consolas, monospace;\n",
       "}\n",
       "\n",
       ".warning {\n",
       "    color: rgb( 240, 20, 20 );\n",
       "}\n",
       "\n",
       "/* Pandas tables */\n",
       "/*\n",
       ".rendered_html td {\n",
       "    text-align: right;\n",
       "}\n",
       "*/\n",
       "\n",
       "table.dataframe td {\n",
       "    text-align: right;\n",
       "}\n",
       "\n",
       ".output .table-of-contents {\n",
       "    border: 1px #cecece solid;\n",
       "    background-color: #fafafa;\n",
       "    padding-top: 10px;\n",
       "    padding-bottom: 5px;\n",
       "    padding-right: 15px;\n",
       "    padding-left: 0px;\n",
       "    margin-bottom: 20px;\n",
       "    display: inline-block;\n",
       "    position: relative;\n",
       "}\n",
       "\n",
       ".output .table-of-contents ul {\n",
       "    list-style-type: none;\n",
       "    padding-left: 20px;\n",
       "}\n",
       "\n",
       ".output .table-of-contents .title {\n",
       "    font-weight: bold;\n",
       "    font-height: 11pt;\n",
       "    padding-left: 20px; /* looks better if it's the same to the <ul> */\n",
       "}\n",
       "\n",
       ".output .table-of-contents .btn-update {\n",
       "    position: absolute;\n",
       "    float: right;\n",
       "    right: 11px;\n",
       "    top: 4px;\n",
       "    font-size: 9pt;\n",
       "}\n",
       "\n",
       "</style>\n",
       "<script>\n",
       "    MathJax.Hub.Config({\n",
       "                        TeX: {\n",
       "                           extensions: [\"AMSmath.js\"]\n",
       "                           },\n",
       "                displayAlign: 'center', // Change this to 'center' to center equations.\n",
       "                \"HTML-CSS\": {\n",
       "                    styles: {'.MathJax_Display': {\"margin\": 4}}\n",
       "                }\n",
       "        });\n",
       "</script>\n"
      ],
      "text/plain": [
       "<IPython.core.display.HTML object>"
      ]
     },
     "execution_count": 2,
     "metadata": {},
     "output_type": "execute_result"
    }
   ],
   "source": [
    "from addutils import css_notebook\n",
    "css_notebook()"
   ]
  },
  {
   "cell_type": "markdown",
   "metadata": {},
   "source": [
    "## 1 Why Python?"
   ]
  },
  {
   "cell_type": "markdown",
   "metadata": {},
   "source": [
    "As far as scientific computing is concerned, it's hard to find a good alternative to Python. Python is the do it all language. If you want to perform a statistical analysis, then model some data, and then come up with a GUI and web platform to share with other users, you can perfectly do this with Python.\n",
    "\n",
    "Nevertheless Python tutorials for Data Analysis in Engineering, Finance and Scientific applications are difficult to find.\n",
    "For this reason we made a complete set of courses and tutorials to address the scientist's and engineer's needs:\n",
    "\n",
    "* **Get data** (simulation, experiment control)\n",
    "* **Manipulate and process data.**\n",
    "* **Visualize results**... to understand what we are doing!\n",
    "* **Communicate results:** produce figures for reports or publications, write presentations.\n",
    "\n",
    "We use Python because it's:\n",
    "\n",
    "* **OPEN**: The Python implementation is under an open source license that makes it freely usable and distributable, even for commercial use.\n",
    "* **BATTERIES INCLUDED**: Rich collection of advanced scientific computing libraries and general libraries: we don’t want to re-program the plotting of a curve, a Fourier transform or a fitting algorithm. Don’t reinvent the wheel!\n",
    "* **FRIENDLY and EASY TO LEARN**: Python allows you to do almost anything possible\n",
    "with a compiled language (C/C++/Fortran) without requiring all the complexity. It is\n",
    "extensible in C or C++. Clear syntax enhances readability: “Executable Pseudo Code”\n",
    "* **RUNS EVERYWERE**: It runs on many Unix variants, on the Mac, and on PCs under MSDOS,\n",
    "Windows, Windows NT, and OS/2, Android and many other platforms.\n",
    "\n",
    "###<font color=\"Green\">Alternatives to Python…</font>\n",
    "\n",
    "* **Compiled languages: C, C++, Fortran, etc.**\n",
    "    * *Advantages:* Fast, Optimized compilers, Very optimized scientific libraries. Example: BLAS (vector/matrix operations)\n",
    "    * *Drawbacks:* Painful usage: These are difficult languages for non computer scientists.\n",
    "\n",
    "* **Scripting languages: Matlab**\n",
    "    * *Advantages:* Very rich collection of libraries, Fast execution, Good development environment.\n",
    "    * *Drawbacks:* Base language quite poor, can become restrictive for advanced users, Expensive.\n",
    "\n",
    "* **Other scripting languages: Scilab, Octave, Igor, R, IDL, etc.**\n",
    "    * *Advantages:* Open-source, free, or at least cheaper than Matlab, Some advanced features (statistics in R, figures in Igor, etc.)\n",
    "    * *Drawbacks:* Fewer available algorithms than in Matlab, very powerful, but they are restricted to a single type of usage."
   ]
  },
  {
   "cell_type": "markdown",
   "metadata": {},
   "source": [
    "## 2 Python101"
   ]
  },
  {
   "cell_type": "markdown",
   "metadata": {},
   "source": [
    "### 2.1 Two important language features:"
   ]
  },
  {
   "cell_type": "markdown",
   "metadata": {},
   "source": [
    "1. *Python is interpreted*\n",
    "    1. The code doesn't require compilation \n",
    "    2. In IPython Notebook, code in cells is executed immediately\n",
    "2. ***The indentation is part of the syntax***"
   ]
  },
  {
   "cell_type": "markdown",
   "metadata": {},
   "source": [
    "### 2.2 The bricks of Python are:"
   ]
  },
  {
   "cell_type": "markdown",
   "metadata": {},
   "source": [
    "* Built-in operators: +, -, log, sqrt, and so on.\n",
    "* Built-in high level data types: strings, lists, dictionaries, etc.\n",
    "* Control structures: if, if-else, if-elif-else, while, plus a powerful collection iterator (for).\n",
    "* Multiple levels of organizational structure: functions, classes, scripts, modules, and packages. These assist in organizing code. An excellent and large example is the [Python standard library](http://docs.python.org/2/library/).\n",
    "\n",
    "The operators are much like as in Matlab.\n",
    "We will see and play later with the different data types and control structures, that are very handy and useful.\n",
    "\n",
    "We defer functions and classes discussion to a more advanced tutorial. However, functions are much like Matlab functions, and classes are the basic concept of object-oriented programming, very useful for more structured, large projects. Put simply, an object is an instance of a class, as the Colosseum is an instance of the buildings class."
   ]
  },
  {
   "cell_type": "markdown",
   "metadata": {},
   "source": [
    "### 2.3 Variables, as everything else, in Python are objects"
   ]
  },
  {
   "cell_type": "markdown",
   "metadata": {},
   "source": [
    "Objects have many properties. For example every object has an univocal **id**. In the following example three variables are assigned in the same codeline, then `d = a` define d to be the `a` object. In other words, `d` and `a` are two different names for the same object: this is confirmed by the same object id."
   ]
  },
  {
   "cell_type": "code",
   "execution_count": 3,
   "metadata": {},
   "outputs": [
    {
     "name": "stdout",
     "output_type": "stream",
     "text": [
      "5 5 94796251806336 94796251806336\n"
     ]
    }
   ],
   "source": [
    "a, b, c = 5, 6, 7\n",
    "d = a\n",
    "print (a, d, id(a), id(d))"
   ]
  },
  {
   "cell_type": "markdown",
   "metadata": {},
   "source": [
    "Unlike \"real\" pointers like those in C and C++, things change, when we assign a new value to y. In this case d will receive a separate memory location. Basically, Python creates only real copies, if it has to, i.e. if the user, the programmer, explicitly demands it:"
   ]
  },
  {
   "cell_type": "code",
   "execution_count": 4,
   "metadata": {},
   "outputs": [
    {
     "name": "stdout",
     "output_type": "stream",
     "text": [
      "5 8 94796251806336 94796251806432\n"
     ]
    }
   ],
   "source": [
    "d = 8\n",
    "print (a, d, id(a), id(d))"
   ]
  },
  {
   "cell_type": "markdown",
   "metadata": {},
   "source": [
    "Pay attention to this behavour (shallow copy) when copying mutable objects (check the next chapters). In this case we reassign an element of list_02: the mutable object doesn't change, so list_01 stll maintain the same id() of list_02 and consequently results updated:"
   ]
  },
  {
   "cell_type": "code",
   "execution_count": 5,
   "metadata": {},
   "outputs": [
    {
     "data": {
      "text/plain": [
       "[1, 5, 3]"
      ]
     },
     "execution_count": 5,
     "metadata": {},
     "output_type": "execute_result"
    }
   ],
   "source": [
    "list_01 = [1, 2, 3]\n",
    "list_02 = list_01\n",
    "list_02[1] = 5\n",
    "list_01"
   ]
  },
  {
   "cell_type": "markdown",
   "metadata": {},
   "source": [
    "**'isinstance'** checks if the passed value correspond to one of the listed instances: in this case 'a' is a float:"
   ]
  },
  {
   "cell_type": "code",
   "execution_count": 6,
   "metadata": {},
   "outputs": [
    {
     "data": {
      "text/plain": [
       "True"
      ]
     },
     "execution_count": 6,
     "metadata": {},
     "output_type": "execute_result"
    }
   ],
   "source": [
    "isinstance(a, (int, float, bool))"
   ]
  },
  {
   "cell_type": "markdown",
   "metadata": {},
   "source": [
    "### 2.4 Mutable / Immutable Objects"
   ]
  },
  {
   "cell_type": "markdown",
   "metadata": {},
   "source": [
    "* **Mutable Objects** can be modified after being created (elements can be changed).\n",
    "* **Immutable objects** can be read but not modified (rewritten) after being created. For example, a string is immutable, so you cannot add caracters to a string without reassign the string itself.\n",
    "\n",
    "Some Examples:\n",
    "\n",
    "* **Strings**      are IMMUTABLE\n",
    "* **Lists**        are MUTABLE\n",
    "* **Tuples**       are IMMUTABLE\n",
    "* **Sets**         are MUTABLE\n",
    "* **Dictionaries** are MUTABLE"
   ]
  },
  {
   "cell_type": "markdown",
   "metadata": {},
   "source": [
    "### 2.5 Scripts, modules and namespaces"
   ]
  },
  {
   "cell_type": "markdown",
   "metadata": {},
   "source": [
    "Some words on the organizational structure of Python code:\n",
    "\n",
    "    \n",
    "* A **script is the operational unit of programming**: it is a collection of many constructs, built using operators, datatypes, control structures, functions and classes, logically connected into a single body and saved as a single file with the .py or .pyw extension, that accomplish a complete programming task. \n",
    "    * You can run a script from the Python interpreter or from Ipython. \n",
    "    * You can import the functions of a script into another script thanks to the import statement: than you treat it as a module.\n",
    "* **Packages are collections of modules**, stored into a single folder that can have multiple folders, each corresponding to a subpackage. Each folder contains a special file, named `__init__.py`, that can be empty, that signal that the folder is a (sub)package. [Numpy](http://www.scipy.org/NumPy_for_Matlab_Users) and [Matplotlib](http://matplotlib.org/gallery.html) are examples of  packages.\n",
    "\n",
    "\n",
    "Python is expanded by modules. To use a module it must first be imported. There are three ways to import modules:\n",
    "\n",
    "* `import modulename` - will preserve the full package name in the namespace. To use a module keyword in the code you will use `modulename.keyword`\n",
    "* `import modulename as name` - will replace the full package name with a suitable alias. To use a module keyword in the code you will use `name.keyword`\n",
    "* `from modulename import *` - *THIS IS NOT ADVISABLE IN MOST CASES*: will include the package keywords in the base namespace, this means that some keywords could be overvritten. To use a module keyword in the code you will use `keyword`\n",
    "\n",
    "Some examples:\n",
    "\n",
    "    import math             # Then math. must be used before using any command\n",
    "    import numpy as np      # Then the alias np. must be used before any command\n",
    "    from pandas import *    # Import EVERYTHING in the current namespace"
   ]
  },
  {
   "cell_type": "code",
   "execution_count": 7,
   "metadata": {},
   "outputs": [
    {
     "data": {
      "text/plain": [
       "0.1411200080598672"
      ]
     },
     "execution_count": 7,
     "metadata": {},
     "output_type": "execute_result"
    }
   ],
   "source": [
    "import math             # Then 'math.'must be used before using any command\n",
    "math.sin(3)"
   ]
  },
  {
   "cell_type": "markdown",
   "metadata": {},
   "source": [
    "## 3 Strings"
   ]
  },
  {
   "cell_type": "markdown",
   "metadata": {},
   "source": [
    "Strings can be defined with both double or single quotes. Escape codes like `\\t [tab]`, `\\n [newline]` or `\\xHH [special character]` can be used. The output can be printed multiple times by using `*k`"
   ]
  },
  {
   "cell_type": "code",
   "execution_count": 8,
   "metadata": {},
   "outputs": [
    {
     "name": "stdout",
     "output_type": "stream",
     "text": [
      "hello-----HELLO-----Hello, how's going?\n"
     ]
    }
   ],
   "source": [
    "a, b, c = 'hello', \"HELLO\", \"Hello, how's going?\"\n",
    "\n",
    "print(a, b, c, sep=\"-\"*5)"
   ]
  },
  {
   "cell_type": "markdown",
   "metadata": {},
   "source": [
    "The **in** function can be used to find substrings:"
   ]
  },
  {
   "cell_type": "code",
   "execution_count": 9,
   "metadata": {},
   "outputs": [
    {
     "data": {
      "text/plain": [
       "True"
      ]
     },
     "execution_count": 9,
     "metadata": {},
     "output_type": "execute_result"
    }
   ],
   "source": [
    "a = '\\t abcdefβγδ♻_gh \\n '\n",
    "'δ♻' in a"
   ]
  },
  {
   "cell_type": "markdown",
   "metadata": {},
   "source": [
    "`strip` is one of the most used functions while working with strings in Python. **Discover by yourself what it is** by using `<b>?</b>` !"
   ]
  },
  {
   "cell_type": "code",
   "execution_count": 10,
   "metadata": {},
   "outputs": [
    {
     "name": "stdout",
     "output_type": "stream",
     "text": [
      "abcdefβγδ♻_gh\n"
     ]
    }
   ],
   "source": [
    "print(a.strip())"
   ]
  },
  {
   "cell_type": "markdown",
   "metadata": {},
   "source": [
    "***Try by yourself*** &nbsp;the power of `split` by running the following code (`strip`, `split` and many other functions can be put in the same statement by using the **'.'** operator:\n",
    "\n",
    "    a.strip().split('_')\n",
    "    b = '236 23 32           23 55'\n",
    "    b.split()"
   ]
  },
  {
   "cell_type": "code",
   "execution_count": 11,
   "metadata": {},
   "outputs": [
    {
     "data": {
      "text/plain": [
       "['236', '23', '32', '23', '55']"
      ]
     },
     "execution_count": 11,
     "metadata": {},
     "output_type": "execute_result"
    }
   ],
   "source": [
    "b = '236 23 32           23 55'\n",
    "b.split()"
   ]
  },
  {
   "cell_type": "markdown",
   "metadata": {},
   "source": [
    "***Try by yourself*** &nbsp;the following commands:\n",
    "\n",
    "    c = a.strip()\n",
    "    print(c)                                     # 'abcdefβγδ♻_gh'\n",
    "    print(c.upper())                             # 'ABCDEFΒΓΔ♻_GH'\n",
    "    print(c.title())                             # 'Abcdefβγδ♻_Gh'\n",
    "    print(c.center(30,'='))                      # '========abcdefβγδ♻_gh========='\n",
    "    print(c.find('c'))                           # 2 (index start from zero)\n",
    "    print(c.split('_'))                          # ['abcdefβγδ♻', 'gh']\n",
    "    print(c.replace('_',''))                     # 'abcdefβγδ♻gh'\n",
    "    print(' *** '.join(['one', 'two', 'three'])) # one *** two *** three\n"
   ]
  },
  {
   "cell_type": "code",
   "execution_count": null,
   "metadata": {},
   "outputs": [],
   "source": []
  },
  {
   "cell_type": "markdown",
   "metadata": {},
   "source": [
    "**Exercise:** format the following string and remove trailing and leading escape characters and internal separation characters, format the name to have the first letter capitalized and the other lowercase (output must be: **Johnn Richard Thompson**). Everything can be done in just one line!"
   ]
  },
  {
   "cell_type": "code",
   "execution_count": 12,
   "metadata": {},
   "outputs": [
    {
     "name": "stdout",
     "output_type": "stream",
     "text": [
      "Johnn Richard Thompson\n"
     ]
    }
   ],
   "source": [
    "name = '   JOHNN - Richard-Thompson  '\n",
    "print (' '.join(name.strip().replace('-',' ').title().split()))"
   ]
  },
  {
   "cell_type": "markdown",
   "metadata": {},
   "source": [
    "More examples for `split`:  \n",
    "```python\n",
    "    # Split\n",
    "    s1 = '236 23 32           23 55'\n",
    "    s1.split()    # ['236', '23', '32', '23', '55'] - Multiple separators\n",
    "\n",
    "    s3 = '236 32 ||  23  ||32--44||2|5||6'\n",
    "    s3.split('||')      # ['236 32 ', '  23  ', '32--44', '2|5', '6']\n",
    "\n",
    "    s3.split('||', 1)   # ['236 32 ', '  23  ||32--44||2|5||6']\n",
    "    \n",
    "    # Dealing with multiple separators using 'split' \n",
    "    s4 = 'a;b,c;d'\n",
    "    s4.replace(';',',').upper().split(',')\n",
    "\n",
    "    # Alternative solution: 'regexp'\n",
    "    import re\n",
    "    phrase = \"Hey, '32' you - what are you doing here???\"\n",
    "    print ' '.join(re.findall('\\w+', phrase))\n",
    "```  "
   ]
  },
  {
   "cell_type": "markdown",
   "metadata": {},
   "source": [
    "## 4 String formatting"
   ]
  },
  {
   "cell_type": "markdown",
   "metadata": {},
   "source": [
    "This shows how the string method `.format()` works for positional parameters::"
   ]
  },
  {
   "cell_type": "code",
   "execution_count": 13,
   "metadata": {},
   "outputs": [
    {
     "name": "stdout",
     "output_type": "stream",
     "text": [
      "First Argument: 47.99 --- second one: 11.55\n",
      "First Argument: 47.99 --- second one: 11.55\n",
      "First Argument: 11.55 --- second one: 47.99\n"
     ]
    }
   ],
   "source": [
    "print('First Argument: {} --- second one: {}'.format(47.99,11.55))\n",
    "print('First Argument: {0} --- second one: {1}'.format(47.99,11.55))\n",
    "print('First Argument: {1} --- second one: {0}'.format(47.99,11.55))"
   ]
  },
  {
   "cell_type": "markdown",
   "metadata": {},
   "source": [
    "This shows how to use heyword parameters:"
   ]
  },
  {
   "cell_type": "code",
   "execution_count": 14,
   "metadata": {},
   "outputs": [
    {
     "name": "stdout",
     "output_type": "stream",
     "text": [
      "First Argument: 11.55 --- second one: 47.99\n"
     ]
    }
   ],
   "source": [
    "print('First Argument: {a} --- second one: {b}'.format(b=47.99, a=11.55))"
   ]
  },
  {
   "cell_type": "markdown",
   "metadata": {},
   "source": [
    "Of course the parameters can be formatted individually:"
   ]
  },
  {
   "cell_type": "code",
   "execution_count": 15,
   "metadata": {},
   "outputs": [
    {
     "name": "stdout",
     "output_type": "stream",
     "text": [
      "First Argument: 00000012 --- second one: 0047.990\n"
     ]
    }
   ],
   "source": [
    "print('First Argument: {a:08.0f} --- second one: {b:08.3f}'.format(b=47.99, a=11.55))"
   ]
  },
  {
   "cell_type": "markdown",
   "metadata": {
    "collapsed": true
   },
   "source": [
    "Conversion Table:\n",
    "\n",
    "* d Signed integer decimal.\n",
    "* i Signed integer decimal.\n",
    "* o\tUnsigned octal.\n",
    "* u\tUnsigned decimal.\n",
    "* x\tUnsigned hexadecimal (lowercase).\n",
    "* X\tUnsigned hexadecimal (uppercase).\n",
    "* e\tFloating point exponential format (lowercase).\n",
    "* E Floating point exponential format (uppercase).\n",
    "* f Floating point decimal format.\n",
    "* F\tFloating point decimal format.\n",
    "* g\tSame as \"e\" if exponent is greater than -4 or less than precision, \"f\" otherwise.\n",
    "* G\tSame as \"E\" if exponent is greater than -4 or less than precision, \"F\" otherwise.\n",
    "* c\tSingle character (accepts integer or single character string).\n",
    "* r\tString (converts any python object using repr()).\n",
    "* s\tString (converts any python object using str()).\n",
    "* %\tNo argument is converted, results in a \"%\" character in the result.\n",
    "\n",
    "Flags:\n",
    "\n",
    "* \"#\" Used with o, x or X specifiers the value is preceded with 0, 0o, 0O, 0x or 0X respectively.\n",
    "* \"0\" The conversion result will be zero padded for numeric values.\n",
    "* \"-\" The converted value is left adjusted\n",
    "* \" \" If no sign (minus sign e.g.) is going to be written, a blank space is inserted before the value.\n",
    "* \"+\" A sign character (\"+\" or \"-\") will precede the conversion (overrides a \"space\" flag).\n",
    "\n",
    "\n"
   ]
  },
  {
   "cell_type": "code",
   "execution_count": 16,
   "metadata": {},
   "outputs": [
    {
     "name": "stdout",
     "output_type": "stream",
     "text": [
      "Signed Integer Decimal:                                  12222\n",
      "Signed Integer Decimal with thousands separator:        12,222\n",
      "Signed Integer Decimal padded with zeroes:        000000012222\n",
      "Signed Integer Decimal padded with zeroes signed: +00000012222\n",
      "Signed Integer Decimal leading space if positive:  00000012222\n",
      "Signed Integer Decimal aligned to the left:       12222       \n",
      "Signed Integer Decimal centered:                     12222    \n",
      "Floating point decimal format:                        12222.00\n",
      "Unsigned hexadecimal (uppercase):                         2FBE\n",
      "Unsigned hexadecimal (uppercase):                 0X0000002FBE\n",
      "Unsigned octal:                                          27676\n",
      "Floating point exponential format (lowercase):    1.222200e+04\n",
      "String using repr():                              'βγδ♻'\n",
      "String using str():                               βγδ♻\n",
      "--------------------- \n",
      "\n",
      "           Description: 000000012222\n",
      "        Description x2: 000000024444\n",
      " Longer Description x4: 000000048888\n"
     ]
    }
   ],
   "source": [
    "x = 12222\n",
    "a = 'βγδ♻'\n",
    "print('Signed Integer Decimal:                           {0:12d}'.format(x))\n",
    "print('Signed Integer Decimal with thousands separator:  {0:12,d}'.format(x))\n",
    "print('Signed Integer Decimal padded with zeroes:        {0:012d}'.format(x))\n",
    "print('Signed Integer Decimal padded with zeroes signed: {0:+012d}'.format(x))\n",
    "print('Signed Integer Decimal leading space if positive: {0: 012d}'.format(x))\n",
    "print('Signed Integer Decimal aligned to the left:       {0:<12d}'.format(x))\n",
    "print('Signed Integer Decimal centered:                  {0:^12d}'.format(x))\n",
    "print('Floating point decimal format:                    {0:12.2F}'.format(x))\n",
    "print('Unsigned hexadecimal (uppercase):                 {0:12X}'.format(x))\n",
    "print('Unsigned hexadecimal (uppercase):                 {0:#012X}'.format(x))\n",
    "print('Unsigned octal:                                   {0:12o}'.format(x))\n",
    "print('Floating point exponential format (lowercase):    {0:12e}'.format(x))\n",
    "print('String using repr():                              {0!r}'.format(a))\n",
    "print('String using str():                               {0!s}'.format(a))\n",
    "print('-'*21, '\\n') # '-'*21 is the same as '-'+'-'+'-'+... 21 times\n",
    "print('{0:>22s}: {1:012d}'.format('Description', x))\n",
    "print('{0:>22s}: {1:012d}'.format('Description x2', x*2))\n",
    "print('{0:>22s}: {1:012d}'.format('Longer Description x4', x*4))\n"
   ]
  },
  {
   "cell_type": "markdown",
   "metadata": {},
   "source": [
    "## 5 Lists"
   ]
  },
  {
   "cell_type": "markdown",
   "metadata": {},
   "source": [
    "List are ordered Non-Homogeneus containers. The main properties of Python lists are the following:\n",
    "\n",
    "* They **MUTABLE**, i.e. the elements can be changed without redefining the list object\n",
    "* The contain arbitrary objects\n",
    "* They are ordered\n",
    "* Elements can be accessed by an index\n",
    "* They are arbitrarily nestable, i.e. they can contain other lists as sublists\n",
    "* Variable size\n",
    "* The index starts from 0, not from 1!"
   ]
  },
  {
   "cell_type": "code",
   "execution_count": 17,
   "metadata": {},
   "outputs": [
    {
     "name": "stdout",
     "output_type": "stream",
     "text": [
      "[2, 3, 4, 5, 'six', 8]\n"
     ]
    }
   ],
   "source": [
    "ls = [2, 3, 4, 5, 'six', 9]\n",
    "ls[-1] = 8                  # Redefine the last element\n",
    "print(ls)"
   ]
  },
  {
   "cell_type": "markdown",
   "metadata": {},
   "source": [
    "***Try by yourself*** &nbsp;the following commands:\n",
    "```python\n",
    "    ls = [1, 2, 3]\n",
    "    ls.append([11, 12, 'one'])\n",
    "    ls.extend([33,44])\n",
    "    ls.insert(2,[55,66])\n",
    "    ls[1:1] = [77, 88, 99]     # See 'slicing' next\n",
    "    ls = ls + ['aa', 'bb']\n",
    "```"
   ]
  },
  {
   "cell_type": "code",
   "execution_count": 18,
   "metadata": {},
   "outputs": [
    {
     "name": "stdout",
     "output_type": "stream",
     "text": [
      "[2, 77, 88, 99, 3, 4, 5, 'six', 8]\n"
     ]
    }
   ],
   "source": [
    "ls[1:1] = [77, 88, 99]\n",
    "print(ls)"
   ]
  },
  {
   "cell_type": "markdown",
   "metadata": {},
   "source": [
    "***Try by yourself*** &nbsp;more commands:\n",
    "```python\n",
    "    ls = [5, 6, 3, 7, 3, 9, 7]\n",
    "    ls.sort()\n",
    "    ls.reverse()\n",
    "    ls.pop()\n",
    "    ls.count(7)\n",
    "    len(ls)          # Length\n",
    "    range(10)        # Generate a list of integers\n",
    "    range(4,20,3)    # range(start, stop, step)\n",
    "```"
   ]
  },
  {
   "cell_type": "code",
   "execution_count": 19,
   "metadata": {},
   "outputs": [
    {
     "data": {
      "text/plain": [
       "2"
      ]
     },
     "execution_count": 19,
     "metadata": {},
     "output_type": "execute_result"
    }
   ],
   "source": [
    "ls = [5, 6, 3, 7, 3, 9, 7]\n",
    "ls.count(7)"
   ]
  },
  {
   "cell_type": "markdown",
   "metadata": {},
   "source": [
    "`sort` can be used with a secondary sort key (a function to generate the key): in this case the sort key is the lenght of the strings"
   ]
  },
  {
   "cell_type": "code",
   "execution_count": 20,
   "metadata": {},
   "outputs": [
    {
     "data": {
      "text/plain": [
       "['I', 'Zr', 'wax', 'Sir', 'grid', 'zirconium']"
      ]
     },
     "execution_count": 20,
     "metadata": {},
     "output_type": "execute_result"
    }
   ],
   "source": [
    "ls= ['Zr', 'wax', 'grid', 'I', 'Sir', 'zirconium']\n",
    "ls.sort(key=len)\n",
    "ls "
   ]
  },
  {
   "cell_type": "markdown",
   "metadata": {},
   "source": [
    "`sort` modifies the list (sort in place). If you don't want to modify the list use the 'sorted' function"
   ]
  },
  {
   "cell_type": "code",
   "execution_count": 21,
   "metadata": {},
   "outputs": [
    {
     "name": "stdout",
     "output_type": "stream",
     "text": [
      "['I', 'Sir', 'Zr', 'grid', 'wax', 'zirconium']\n"
     ]
    }
   ],
   "source": [
    "print(sorted(ls))"
   ]
  },
  {
   "cell_type": "markdown",
   "metadata": {},
   "source": [
    "`in` checks if one element is in the list"
   ]
  },
  {
   "cell_type": "code",
   "execution_count": 22,
   "metadata": {},
   "outputs": [
    {
     "data": {
      "text/plain": [
       "True"
      ]
     },
     "execution_count": 22,
     "metadata": {},
     "output_type": "execute_result"
    }
   ],
   "source": [
    "'wax' in ls"
   ]
  },
  {
   "cell_type": "markdown",
   "metadata": {},
   "source": [
    "`index` finds the position of a given element in a list"
   ]
  },
  {
   "cell_type": "code",
   "execution_count": 23,
   "metadata": {},
   "outputs": [
    {
     "name": "stdout",
     "output_type": "stream",
     "text": [
      "['I', 'Zr', 'wax', 'Sir', 'grid', 'zirconium'] 4\n"
     ]
    }
   ],
   "source": [
    "print(ls, ls.index('grid'))"
   ]
  },
  {
   "cell_type": "markdown",
   "metadata": {},
   "source": [
    "Lists can be iterated with `for`. In Python the index is not requires but you can have one if you need it for your purposes. Check the following two examples"
   ]
  },
  {
   "cell_type": "code",
   "execution_count": 24,
   "metadata": {},
   "outputs": [
    {
     "name": "stdout",
     "output_type": "stream",
     "text": [
      "         I\n",
      "        Zr\n",
      "       wax\n",
      "       Sir\n",
      "      grid\n",
      " zirconium\n"
     ]
    }
   ],
   "source": [
    "for string in ls:\n",
    "    print(string.rjust(10))"
   ]
  },
  {
   "cell_type": "code",
   "execution_count": 25,
   "metadata": {},
   "outputs": [
    {
     "name": "stdout",
     "output_type": "stream",
     "text": [
      "0          I\n",
      "1         Zr\n",
      "2        wax\n",
      "3        Sir\n",
      "4       grid\n",
      "5  zirconium\n"
     ]
    }
   ],
   "source": [
    "for index, string in enumerate(ls):\n",
    "    print(index, string.rjust(10))"
   ]
  },
  {
   "cell_type": "markdown",
   "metadata": {},
   "source": [
    "***List comprehension*** is one of the more important constructs in Python. The general syntax is:\n",
    "\n",
    "    [expression(argument) for argument in list if boolean_expression]\n",
    "\n",
    "Expression can contain control structures such as `if ... else`.\n",
    "Lets see one example. Imagine to start from a list of numbers and build a second list containing just the string representation of the numbers that can be divided by three (in Python `x%y` is the reminder of the division x/y):"
   ]
  },
  {
   "cell_type": "code",
   "execution_count": 26,
   "metadata": {},
   "outputs": [
    {
     "name": "stdout",
     "output_type": "stream",
     "text": [
      "['6', '9', '12', '15', '18']\n"
     ]
    }
   ],
   "source": [
    "numbers = range(4, 20)\n",
    "strings = [str(number) for number in numbers if not number%3]\n",
    "print(strings)"
   ]
  },
  {
   "cell_type": "markdown",
   "metadata": {},
   "source": [
    "## 6 Slicing"
   ]
  },
  {
   "cell_type": "markdown",
   "metadata": {},
   "source": [
    "Slicing can be done on any sequential object (like strings and list) and is used to extract (slice) a part of the object, delete or add elements to the object.\n",
    "\n",
    "It works like this:\n",
    "\n",
    "    s[begin: end: step]\n",
    "    \n",
    "The resulting sequence consists of the following elements:\n",
    "\n",
    "    s[begin], s[begin + 1*step], ... s[begin + i*step] for all (begin + i*step) < end\n",
    "\n",
    "***Try by yourself*** &nbsp;some slicing on a string:\n",
    "```python    \n",
    "    s = 'abcdefghi' + '123'       # s is a string\n",
    "    s[:4]\n",
    "    s[5:]\n",
    "    s[::2]\n",
    "    ls = list('abcdefghi')        # ls is a list\n",
    "    ls[-1:-1] = ['i', 1, 2, 3]\n",
    "    ls[0:3] = ['A', 'B', 'C']\n",
    "    s1 = ''.join(str(s) for s in ls)\n",
    "```"
   ]
  },
  {
   "cell_type": "code",
   "execution_count": 27,
   "metadata": {},
   "outputs": [
    {
     "name": "stdout",
     "output_type": "stream",
     "text": [
      "['a', 'b', 'c', 'd', 'e', 'f', 'g', 'h', 'i', 1, 2, 3, 'i']\n"
     ]
    }
   ],
   "source": [
    "s = 'abcdefghi' + '123'       # s is a string\n",
    "s[:4]\n",
    "\n",
    "ls = list('abcdefghi')        # ls is a list\n",
    "ls[-1:-1] = ['i', 1, 2, 3]\n",
    "print(ls)"
   ]
  },
  {
   "cell_type": "markdown",
   "metadata": {},
   "source": [
    "## 7 Sets"
   ]
  },
  {
   "cell_type": "markdown",
   "metadata": {},
   "source": [
    "Sets are lists with **UNIQUE** elements. The main properties of Python sets are the following:\n",
    "\n",
    "* Sets are **MUTABLE** but CANNOT contain mutable objects\n",
    "* To have and **IMMUTABLE** set use `frozenset`\n",
    "* Sets cannot be indexed: to index, sets must be transformed in List\n",
    "* Variable size\n",
    "* The index starts from 0, not from 1!\n"
   ]
  },
  {
   "cell_type": "code",
   "execution_count": 28,
   "metadata": {},
   "outputs": [
    {
     "name": "stdout",
     "output_type": "stream",
     "text": [
      "{1, 2, 7, 9, 'xyz', 'a'} {'6', '8', '4', '5', '7'}\n"
     ]
    }
   ],
   "source": [
    "set1 = set([1, 2, 'a', 7, 7, 9])\n",
    "set1.add('xyz')\n",
    "set2 = set('54677788')\n",
    "print (set1, set2)"
   ]
  },
  {
   "cell_type": "markdown",
   "metadata": {},
   "source": [
    "***Try by yourself*** &nbsp;the following commands:\n",
    "```python\n",
    "    set1 & set2      # AND\n",
    "    set1 | set2      # OR\n",
    "    set1 ^ set2      # XOR\n",
    "    set1 - set2\n",
    "    ls = list(set1)  # To index a set, first transform it to a list\n",
    "```"
   ]
  },
  {
   "cell_type": "code",
   "execution_count": 29,
   "metadata": {},
   "outputs": [
    {
     "data": {
      "application/vnd.jupyter.widget-view+json": {
       "model_id": "5fca12b0269a4713a1ee9bf65839a10f",
       "version_major": 2,
       "version_minor": 0
      },
      "text/html": [
       "<p>Failed to display Jupyter Widget of type <code>HBox</code>.</p>\n",
       "<p>\n",
       "  If you're reading this message in the Jupyter Notebook or JupyterLab Notebook, it may mean\n",
       "  that the widgets JavaScript is still loading. If this message persists, it\n",
       "  likely means that the widgets JavaScript library is either not installed or\n",
       "  not enabled. See the <a href=\"https://ipywidgets.readthedocs.io/en/stable/user_install.html\">Jupyter\n",
       "  Widgets Documentation</a> for setup instructions.\n",
       "</p>\n",
       "<p>\n",
       "  If you're reading this message in another frontend (for example, a static\n",
       "  rendering on GitHub or <a href=\"https://nbviewer.jupyter.org/\">NBViewer</a>),\n",
       "  it may mean that your frontend doesn't currently support widgets.\n",
       "</p>\n"
      ],
      "text/plain": [
       "HBox(children=(Text(value='123ab'), Text(value='345bc')))"
      ]
     },
     "metadata": {},
     "output_type": "display_data"
    },
    {
     "data": {
      "application/vnd.jupyter.widget-view+json": {
       "model_id": "9fa3959bb42241b6b62eaaf4a21dbeb9",
       "version_major": 2,
       "version_minor": 0
      },
      "text/html": [
       "<p>Failed to display Jupyter Widget of type <code>HBox</code>.</p>\n",
       "<p>\n",
       "  If you're reading this message in the Jupyter Notebook or JupyterLab Notebook, it may mean\n",
       "  that the widgets JavaScript is still loading. If this message persists, it\n",
       "  likely means that the widgets JavaScript library is either not installed or\n",
       "  not enabled. See the <a href=\"https://ipywidgets.readthedocs.io/en/stable/user_install.html\">Jupyter\n",
       "  Widgets Documentation</a> for setup instructions.\n",
       "</p>\n",
       "<p>\n",
       "  If you're reading this message in another frontend (for example, a static\n",
       "  rendering on GitHub or <a href=\"https://nbviewer.jupyter.org/\">NBViewer</a>),\n",
       "  it may mean that your frontend doesn't currently support widgets.\n",
       "</p>\n"
      ],
      "text/plain": [
       "HBox(children=(Button(description='JOIN SETS', style=ButtonStyle(), tooltip='Join'), Text(value='---', description='JOIN:')))"
      ]
     },
     "metadata": {},
     "output_type": "display_data"
    }
   ],
   "source": [
    "import ipywidgets\n",
    "from IPython.display import display\n",
    "\n",
    "\n",
    "\n",
    "text01 = ipywidgets.Text(value='123ab')\n",
    "text02 = ipywidgets.Text(value='345bc')\n",
    "text03 = ipywidgets.Text(description='JOIN:', value='---', width=450,\n",
    "                         border_color='black', color='white', background_color='green')\n",
    "button01 = ipywidgets.Button(description='JOIN SETS', tooltip='Join', value=False,\n",
    "                             border_color='black', color='white', background_color='red')\n",
    "\n",
    "box01 = ipywidgets.HBox(children=[text01, text02])\n",
    "box02 = ipywidgets.HBox(children=[button01, text03])\n",
    "display(box01, box02)\n",
    "\n",
    "def click(b):\n",
    "    set01 = set(str(text01.value))\n",
    "    set02 = set(str(text02.value))\n",
    "    text03.value = str(set01 | set02)\n",
    "button01.on_click(click)"
   ]
  },
  {
   "cell_type": "markdown",
   "metadata": {},
   "source": [
    "## 8 Tuples"
   ]
  },
  {
   "cell_type": "markdown",
   "metadata": {},
   "source": [
    "A tuple is an **IMMUTABLE** list, i.e. a tuple cannot be changed in any way once it has been created. A tuple is defined analogously to lists, except that the set of elements is enclosed in parentheses instead of square brackets. The rules for indices are the same as for lists. Once a tuple has been created, you can't add elements to a tuple or remove elements from a tuple. \n",
    "\n",
    "So, what is the reason to use tuples? Mainly three:\n",
    "\n",
    "* Tuples are faster than lists.\n",
    "* If you know that some data doesn't have to be changed, you should use tuples instead of lists, because this protect your data against accidental changes to these data.\n",
    "* Tuples can be used as keys in dictionaries, while lists can't (see next chapter)."
   ]
  },
  {
   "cell_type": "code",
   "execution_count": 30,
   "metadata": {},
   "outputs": [
    {
     "name": "stdout",
     "output_type": "stream",
     "text": [
      "5\n"
     ]
    }
   ],
   "source": [
    "def myfunction(pack):\n",
    "    a, b, c, d = pack\n",
    "    print(a+b+c+d[0]-d[1])\n",
    "    \n",
    "t = 1, 2, 3, (8, 9)  # Pack arguments to pass it to a function\n",
    "\n",
    "myfunction(t)"
   ]
  },
  {
   "cell_type": "code",
   "execution_count": 31,
   "metadata": {},
   "outputs": [
    {
     "name": "stdout",
     "output_type": "stream",
     "text": [
      "1 2 3\n",
      "4 5 6\n",
      "7 8 9\n"
     ]
    }
   ],
   "source": [
    "seq = [(1, 2, 3), (4, 5, 6), (7, 8, 9)]\n",
    "for a, b, c in seq:\n",
    "    print(a, b, c)     # Common use for tuple unpacking"
   ]
  },
  {
   "cell_type": "markdown",
   "metadata": {},
   "source": [
    "**'zip'** can be used to reorganize (transpose) columns of data:"
   ]
  },
  {
   "cell_type": "code",
   "execution_count": 32,
   "metadata": {},
   "outputs": [
    {
     "name": "stdout",
     "output_type": "stream",
     "text": [
      "Chloe Stuart\n",
      "Emily Winsor\n",
      "Sophia Davidson\n"
     ]
    }
   ],
   "source": [
    "names = [('Chloe', 'Emily', 'Sophia'), ('Stuart', 'Winsor', 'Davidson')]\n",
    "for firstname, lastname in zip(*names):\n",
    "    print(firstname, lastname)"
   ]
  },
  {
   "cell_type": "markdown",
   "metadata": {},
   "source": [
    "## 9 Dictionaries"
   ]
  },
  {
   "cell_type": "markdown",
   "metadata": {},
   "source": [
    "Dictionaries are **'Associative Arrays'**: values are indexed by generic keys. In other words the indexing kay can be an integer number but can be a string, a tuple or any other immutable object."
   ]
  },
  {
   "cell_type": "markdown",
   "metadata": {},
   "source": [
    "Here we make a dictionary using tuples as keys and telephone numbers as values. Then we access a dictionary item by providing a key (tuple)"
   ]
  },
  {
   "cell_type": "code",
   "execution_count": 33,
   "metadata": {},
   "outputs": [
    {
     "name": "stdout",
     "output_type": "stream",
     "text": [
      "(831) 758-7214\n"
     ]
    }
   ],
   "source": [
    "data = [(('Chloe', 'Stuart'), '(831) 758-7214'),\n",
    "        (('Emily', 'Winsor'), '(877) 359-8474'),\n",
    "        (('Sophia', 'Davidson'), '(800) 445-2854')]\n",
    "d = dict(data)\n",
    "print(d[('Chloe', 'Stuart')])"
   ]
  },
  {
   "cell_type": "markdown",
   "metadata": {},
   "source": [
    "***Try by yourself*** &nbsp;the following commands:\n",
    "```python\n",
    "    d.keys()\n",
    "    d.values()\n",
    "    d.items()\n",
    "```"
   ]
  },
  {
   "cell_type": "code",
   "execution_count": 34,
   "metadata": {},
   "outputs": [
    {
     "name": "stdout",
     "output_type": "stream",
     "text": [
      "dict_keys([('Chloe', 'Stuart'), ('Emily', 'Winsor'), ('Sophia', 'Davidson')])\n"
     ]
    }
   ],
   "source": [
    "print(d.keys())"
   ]
  },
  {
   "cell_type": "markdown",
   "metadata": {},
   "source": [
    "When reading the dictionary you must check if the dictionary contain the key by using `in`. If you ask for an unknown key, Python rises an exception. Alternatively you can use `get` with a default value to be used if the key is not found"
   ]
  },
  {
   "cell_type": "code",
   "execution_count": 35,
   "metadata": {},
   "outputs": [
    {
     "data": {
      "text/plain": [
       "False"
      ]
     },
     "execution_count": 35,
     "metadata": {},
     "output_type": "execute_result"
    }
   ],
   "source": [
    "('Chloe', 'Winsor') in d"
   ]
  },
  {
   "cell_type": "code",
   "execution_count": 36,
   "metadata": {},
   "outputs": [
    {
     "name": "stdout",
     "output_type": "stream",
     "text": [
      "Number not available\n"
     ]
    }
   ],
   "source": [
    "print(d.get(('Chloe', 'Winsor'),'Number not available'))"
   ]
  },
  {
   "cell_type": "markdown",
   "metadata": {},
   "source": [
    "When iterating a dictionary, the items order is not guaranteed:"
   ]
  },
  {
   "cell_type": "code",
   "execution_count": 37,
   "metadata": {},
   "outputs": [
    {
     "name": "stdout",
     "output_type": "stream",
     "text": [
      "KEY:  ('Chloe', 'Stuart') \t\t VALUE:  (831) 758-7214\n",
      "KEY:  ('Emily', 'Winsor') \t\t VALUE:  (877) 359-8474\n",
      "KEY:  ('Sophia', 'Davidson') \t\t VALUE:  (800) 445-2854\n"
     ]
    }
   ],
   "source": [
    "for key, value in d.items():\n",
    "    print('KEY: ', key, '\\t\\t VALUE: ', value)"
   ]
  },
  {
   "cell_type": "code",
   "execution_count": 38,
   "metadata": {},
   "outputs": [
    {
     "name": "stdout",
     "output_type": "stream",
     "text": [
      "('Chloe', 'Stuart') \t\t (831) 758-7214\n",
      "('Emily', 'Winsor') \t\t (877) 359-8474\n",
      "('Sophia', 'Davidson') \t\t (800) 445-2854\n"
     ]
    }
   ],
   "source": [
    "# Iterators work on keys by default\n",
    "for key in d:\n",
    "    print(key, '\\t\\t', d[key])"
   ]
  },
  {
   "cell_type": "markdown",
   "metadata": {},
   "source": [
    "Some more examples:"
   ]
  },
  {
   "cell_type": "code",
   "execution_count": 39,
   "metadata": {},
   "outputs": [
    {
     "name": "stdout",
     "output_type": "stream",
     "text": [
      "{0: '0', 1: '1', 2: '2', 3: '3', 4: '4'}\n"
     ]
    }
   ],
   "source": [
    "# How to create a dictionary with a for loop (from a list of tuples)\n",
    "d1 = dict([(n, str(n)) for n in range(5)])\n",
    "print(d1)              # {0: '0', 1: '1', 2: '2', 3: '3', 4: '4'}"
   ]
  },
  {
   "cell_type": "code",
   "execution_count": 40,
   "metadata": {},
   "outputs": [
    {
     "name": "stdout",
     "output_type": "stream",
     "text": [
      "{0: '0', 1: '1', 3: '3', 4: '4', '10': 'ten', '11': 'eleven'}\n"
     ]
    }
   ],
   "source": [
    "d1.pop(2)\n",
    "d2 = {'10': 'ten', '11': 'eleven'}\n",
    "d1.update(d2)   # {0: '0', 1: '1', 2: '2', 3: '3', '10': 'ten', '11': 'eleven'}\n",
    "print(d1)"
   ]
  },
  {
   "cell_type": "code",
   "execution_count": 41,
   "metadata": {},
   "outputs": [
    {
     "name": "stdout",
     "output_type": "stream",
     "text": [
      "{'a': '1', 'b': '2', 'c': '3', 'd': '4'}\n"
     ]
    }
   ],
   "source": [
    "# Creating dict from sequences\n",
    "d3 = {}\n",
    "for key, value in zip(list('abcd'), list('1234')):\n",
    "    d3[key] = value\n",
    "print(d3)"
   ]
  },
  {
   "cell_type": "markdown",
   "metadata": {},
   "source": [
    "## 10 Counters"
   ]
  },
  {
   "cell_type": "markdown",
   "metadata": {},
   "source": [
    "Counters are a very special type of dictionaries: they give you a simple and effective way to count items."
   ]
  },
  {
   "cell_type": "code",
   "execution_count": 42,
   "metadata": {},
   "outputs": [
    {
     "name": "stdout",
     "output_type": "stream",
     "text": [
      "Total of all counts:    9\n",
      "Most common elements:  \n",
      "\t\t blue 4\n",
      "\t\t red 2\n",
      "\t\t green 2\n",
      "Least common elements:  \n",
      "\t\t cyan 1\n",
      "\t\t green 2\n",
      "\t\t red 2\n"
     ]
    }
   ],
   "source": [
    "from collections import Counter\n",
    "\n",
    "colorlist = ['red', 'blue', 'red', 'green', 'blue', 'blue', 'green', 'blue', 'cyan']\n",
    "cnt = Counter(colorlist)\n",
    "\n",
    "print('Total of all counts:   ', sum(cnt.values()))\n",
    "print('Most common elements:  ')\n",
    "for item, number in cnt.most_common(3):\n",
    "    print('\\t'*2, item, number)\n",
    "    \n",
    "print('Least common elements:  ')\n",
    "for item, number in cnt.most_common()[:-4:-1]:\n",
    "    print('\\t'*2, item, number)"
   ]
  },
  {
   "cell_type": "markdown",
   "metadata": {},
   "source": [
    "## 11 IF - FOR - WHILE"
   ]
  },
  {
   "cell_type": "markdown",
   "metadata": {},
   "source": [
    "This is a brief overview of the flow-control instructions in Python"
   ]
  },
  {
   "cell_type": "markdown",
   "metadata": {},
   "source": [
    "### 11.1 IF"
   ]
  },
  {
   "cell_type": "code",
   "execution_count": 43,
   "metadata": {},
   "outputs": [
    {
     "name": "stdout",
     "output_type": "stream",
     "text": [
      "'a' is not 7\n",
      "'a' is greater than 15\n"
     ]
    }
   ],
   "source": [
    "a = 34\n",
    "if a != 7:\n",
    "    print(\"'a' is not 7\")\n",
    "if a > 15:\n",
    "    print(\"'a' is greater than 15\")\n",
    "elif a == 15:\n",
    "    print(\"'a' is exactly 15!\")\n",
    "else:\n",
    "    print(\"'a' is less than 15\")"
   ]
  },
  {
   "cell_type": "markdown",
   "metadata": {},
   "source": [
    "### 11.2 FOR - ELSE"
   ]
  },
  {
   "cell_type": "markdown",
   "metadata": {},
   "source": [
    "In Python you can iterate Lists, Dictionaries, Lines in a file and all the 'ITERABLE' Objects"
   ]
  },
  {
   "cell_type": "code",
   "execution_count": 44,
   "metadata": {},
   "outputs": [
    {
     "name": "stdout",
     "output_type": "stream",
     "text": [
      "a\n",
      "c\n",
      "d\n",
      "Done !\n"
     ]
    }
   ],
   "source": [
    "l = ['a', 'b', 'c', 'd', 'e', 'f']\n",
    "for v in l:\n",
    "    if v == 'e':\n",
    "        break            # Skip all loops and go the 'else' statement\n",
    "    elif v == 'b':\n",
    "        continue         # Skip this loop\n",
    "    print(v)\n",
    "print('Done !')           # Executed upon completion of the for loop"
   ]
  },
  {
   "cell_type": "code",
   "execution_count": 45,
   "metadata": {},
   "outputs": [
    {
     "name": "stdout",
     "output_type": "stream",
     "text": [
      "3\n",
      "4\n",
      "5\n",
      "7\n",
      "8\n",
      "9\n",
      "a\n",
      "b\n",
      "c\n",
      "First Second\n",
      "10     0.32432\n",
      "20  1.324\n",
      "21 7.237923\n",
      "36 .83298932\n",
      "56        237.327823\n"
     ]
    }
   ],
   "source": [
    "for element in [3,4,5]:           # Elements in LISTS        \n",
    "    print(element)\n",
    "for element in (7,8,9):           # Elements in TUPLES        \n",
    "    print(element)\n",
    "for char in 'abc':                # Elements in STRINGS\n",
    "    print(char)\n",
    "import os.path\n",
    "path = os.path.join(os.path.curdir, \"example_data\", \"my_input.txt\")\n",
    "for line in open(path): # Elements in FILES    \n",
    "    print(line, end='')"
   ]
  },
  {
   "cell_type": "code",
   "execution_count": 46,
   "metadata": {},
   "outputs": [
    {
     "name": "stdout",
     "output_type": "stream",
     "text": [
      "0 Spring\n",
      "1 Summer\n",
      "2 Fall\n",
      "3 Winter\n"
     ]
    }
   ],
   "source": [
    "# Enumerate returns an enumerate object:\n",
    "for i, season in enumerate(['Spring', 'Summer', 'Fall', 'Winter']):\n",
    "    print(i, season)"
   ]
  },
  {
   "cell_type": "markdown",
   "metadata": {},
   "source": [
    "### 11.3 WHILE"
   ]
  },
  {
   "cell_type": "code",
   "execution_count": 47,
   "metadata": {},
   "outputs": [
    {
     "name": "stdout",
     "output_type": "stream",
     "text": [
      "12345678910"
     ]
    }
   ],
   "source": [
    "a = 0\n",
    "while a < 10:\n",
    "    a += 1\n",
    "    print(a, end='')"
   ]
  },
  {
   "cell_type": "code",
   "execution_count": 48,
   "metadata": {},
   "outputs": [
    {
     "name": "stdout",
     "output_type": "stream",
     "text": [
      "1024.0 - 512.0 - 256.0 - 128.0 - 64.0 - 32.0 - 16.0 - 8.0 - 4.0 - 2.0 - 1.0 - "
     ]
    }
   ],
   "source": [
    "a = 2**10\n",
    "while a>0.5:\n",
    "    print('{0:.1f}'.format(a), end=' - ')\n",
    "    a = a/2"
   ]
  },
  {
   "cell_type": "markdown",
   "metadata": {},
   "source": [
    "---\n",
    "\n",
    "Visit [www.add-for.com](<http://www.add-for.com/IT>) for more tutorials and updates.\n",
    "\n",
    "This work is licensed under a <a rel=\"license\" href=\"http://creativecommons.org/licenses/by-sa/4.0/\">Creative Commons Attribution-ShareAlike 4.0 International License</a>."
   ]
  }
 ],
 "metadata": {
  "kernelspec": {
   "display_name": "Python [conda env:addfor_tutorials]",
   "language": "python",
   "name": "conda-env-addfor_tutorials-py"
  },
  "language_info": {
   "codemirror_mode": {
    "name": "ipython",
    "version": 3
   },
   "file_extension": ".py",
   "mimetype": "text/x-python",
   "name": "python",
   "nbconvert_exporter": "python",
   "pygments_lexer": "ipython3",
   "version": "3.6.4"
  }
 },
 "nbformat": 4,
 "nbformat_minor": 1
}
