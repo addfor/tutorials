{
 "cells": [
  {
   "cell_type": "markdown",
   "metadata": {},
   "source": [
    "# Python More Examples"
   ]
  },
  {
   "cell_type": "code",
   "execution_count": null,
   "metadata": {},
   "outputs": [],
   "source": [
    "import addutils.toc ; addutils.toc.js(ipy_notebook=True)"
   ]
  },
  {
   "cell_type": "code",
   "execution_count": null,
   "metadata": {},
   "outputs": [],
   "source": [
    "from addutils import css_notebook\n",
    "css_notebook()"
   ]
  },
  {
   "cell_type": "markdown",
   "metadata": {},
   "source": [
    "## 1 Working with Win32Com - Excel example"
   ]
  },
  {
   "cell_type": "markdown",
   "metadata": {},
   "source": [
    "`win32com.client` allows Python to control most windows applications. In this case we automate an **Excel** application.\n",
    "NB: the following examples assume that Microsoft Excel is installed on the current PC."
   ]
  },
  {
   "cell_type": "code",
   "execution_count": null,
   "metadata": {},
   "outputs": [],
   "source": [
    "from win32com.client import Dispatch   # Import the 'win32com' module\n",
    "import os"
   ]
  },
  {
   "cell_type": "code",
   "execution_count": null,
   "metadata": {},
   "outputs": [],
   "source": [
    "xlApp = Dispatch('Excel.Application')  # reference to an excel instance"
   ]
  },
  {
   "cell_type": "markdown",
   "metadata": {},
   "source": [
    "Now Excel has been started but is invisible. Let's make Excel visible. Then we create a new Sheet named *'My First Try'*:"
   ]
  },
  {
   "cell_type": "code",
   "execution_count": null,
   "metadata": {},
   "outputs": [],
   "source": [
    "xlApp.Visible = 1                      # Make Excel visible\n",
    "xlBook = xlApp.Workbooks.Add()         # New workbook (standard three sheets)\n",
    "xlSheet = xlBook.Sheets(1)             # Handle to the first sheet (ONE BASED!)\n",
    "xlSheet.Name = 'My First Try'          # Change sheet name"
   ]
  },
  {
   "cell_type": "markdown",
   "metadata": {},
   "source": [
    "Cells can be initialized (here we assign two text values) and formatted from code:"
   ]
  },
  {
   "cell_type": "code",
   "execution_count": null,
   "metadata": {},
   "outputs": [],
   "source": [
    "rng = xlSheet.Range(\"C3\",\"D3\")\n",
    "rng.Value = ('Hello', 'World!')\n",
    "rng.NumberFormat = '@'  # Assign the 'Text' cell format\n",
    "rng.Font.Bold = True\n",
    "rng.Font.Name = \"Arial\"\n",
    "rng.Font.Size = 12\n",
    "rng.Interior.ColorIndex = 8\n",
    "rng.Interior.Pattern = 2"
   ]
  },
  {
   "cell_type": "code",
   "execution_count": null,
   "metadata": {},
   "outputs": [],
   "source": [
    "v = xlSheet.Cells(3,4).Value           # Read a single value from a cell\n",
    "print(v, type(v))"
   ]
  },
  {
   "cell_type": "markdown",
   "metadata": {},
   "source": [
    "How to assign numerical values and formulas to cells (notice that formulas are assigned as strings):"
   ]
  },
  {
   "cell_type": "code",
   "execution_count": null,
   "metadata": {},
   "outputs": [],
   "source": [
    "xlSheet.Cells(4,4).Value == None       # Check if the cell is empty\n",
    "xlSheet.Cells(5,4).Value = '12'\n",
    "xlSheet.Cells(6,4).Value = '15'\n",
    "xlSheet.Cells(7,4).Value = '=D5+D6'    # Formulas"
   ]
  },
  {
   "cell_type": "markdown",
   "metadata": {},
   "source": [
    "We can write and read values to whole cell ranges as well:"
   ]
  },
  {
   "cell_type": "code",
   "execution_count": null,
   "metadata": {},
   "outputs": [],
   "source": [
    "rng = xlSheet.Range(xlSheet.Cells(3,3), xlSheet.Cells(7,4))\n",
    "rng.Value"
   ]
  },
  {
   "cell_type": "code",
   "execution_count": null,
   "metadata": {},
   "outputs": [],
   "source": [
    "vals=tuple([(x,y,z) for x,y,z in zip('abcdefghijklmn',range(14),range(14))])\n",
    "xlSheet.Range(\"C8\",\"E21\").Value = vals"
   ]
  },
  {
   "cell_type": "markdown",
   "metadata": {},
   "source": [
    "Save the workbook with a given name:"
   ]
  },
  {
   "cell_type": "code",
   "execution_count": null,
   "metadata": {},
   "outputs": [],
   "source": [
    "current_dir = os.path.abspath(os.path.curdir)\n",
    "file_path = os.path.join(current_dir, 'tmp', 'my_excel_file.xlsx')\n",
    "print(file_path)\n",
    "xlBook.SaveAs(file_path)"
   ]
  },
  {
   "cell_type": "markdown",
   "metadata": {},
   "source": [
    "To quit the application do this:"
   ]
  },
  {
   "cell_type": "code",
   "execution_count": null,
   "metadata": {},
   "outputs": [],
   "source": [
    "xlBook.Close(SaveChanges=0)           # Book force closing without saving\n",
    "xlApp.Quit()                          # Quit the excel App\n",
    "del xlApp                             # Release the local reference"
   ]
  },
  {
   "cell_type": "markdown",
   "metadata": {},
   "source": [
    "\n"
   ]
  },
  {
   "cell_type": "markdown",
   "metadata": {},
   "source": [
    "## 2 Sending an e-mail from a gmail account"
   ]
  },
  {
   "cell_type": "markdown",
   "metadata": {},
   "source": [
    "This example is about sending mails using Python smtplib through an SMTP server."
   ]
  },
  {
   "cell_type": "code",
   "execution_count": null,
   "metadata": {},
   "outputs": [],
   "source": [
    "sender = 'ACCOUNT E-MAIL'\n",
    "password = 'PASSWORD'\n",
    "recipient = 'RECIPIENT'\n",
    "subject = 'A mail using Python'\n",
    "body = 'This is the body of the message'"
   ]
  },
  {
   "cell_type": "markdown",
   "metadata": {},
   "source": [
    "**NOTE**: If you want to use Gmail, please consider that it has strong security mechanism and it may block your mail.  "
   ]
  },
  {
   "cell_type": "markdown",
   "metadata": {},
   "source": [
    "The smtplib module defines an SMTP client session object that can be used to send mail to any Internet machine with an SMTP or ESMTP listener daemon.\n",
    "The first step is to create a SMTP connection to the server. The `smtplib.SMTP` class encapsulates an SMTP connection. If the optional host and port parameters are given, the SMTP `connect()` method is called with those parameters during initialization. An `SMTPConnectError` is raised if the specified host doesn’t respond correctly. The optional timeout parameter specifies a timeout in seconds for blocking operations like the connection attempt (if not specified, the global default timeout setting will be used).\n",
    "\n",
    "Next we will identify ourself to an ESMTP server using HELO. The SMTP HELO clause is the stage of the SMTP protocol where SMTP servers get introduced each other. EHLO is just like HELO except that the server’s response text provides computer-readable information about the server’s abilities.\n",
    "\n",
    "Remember Google’s SMTP server is ‘smtp.gmail.com’ and the port is 587."
   ]
  },
  {
   "cell_type": "code",
   "execution_count": null,
   "metadata": {},
   "outputs": [],
   "source": [
    "import smtplib\n",
    "session = smtplib.SMTP('smtp.gmail.com', 587)"
   ]
  },
  {
   "cell_type": "markdown",
   "metadata": {},
   "source": [
    "Next we call `SMTP.starttls` function to put the SMTP connection in TLS (Transport Layer Security) mode. All SMTP commands that follow will be encrypted. You should then call `ehlo()` again. If keyfile and certfile are provided, these are passed to the socket module’s `ssl()` function.If there has been no previous EHLO or HELO command this session, this method tries ESMTP EHLO first."
   ]
  },
  {
   "cell_type": "code",
   "execution_count": null,
   "metadata": {},
   "outputs": [],
   "source": [
    "session.starttls()\n",
    "session.ehlo()"
   ]
  },
  {
   "cell_type": "markdown",
   "metadata": {},
   "source": [
    "OK, now we are safe to login to the server using SMTP.login(user, password). After successful login we use SMTP.sendmail(from_addr, to_addrs, msg[, mail_options, rcpt_options]) to send mails via Gmail."
   ]
  },
  {
   "cell_type": "code",
   "execution_count": null,
   "metadata": {},
   "outputs": [],
   "source": [
    "session.login(sender, password)"
   ]
  },
  {
   "cell_type": "code",
   "execution_count": null,
   "metadata": {},
   "outputs": [],
   "source": [
    "headers = [\"from: \" + sender,\n",
    "           \"subject: \" + subject,\n",
    "           \"to: \" + recipient,\n",
    "           \"mime-version: 1.0\",\n",
    "           \"content-type: text/html\"]\n",
    "headers = \"\\r\\n\".join(headers)"
   ]
  },
  {
   "cell_type": "code",
   "execution_count": null,
   "metadata": {},
   "outputs": [],
   "source": [
    "session.sendmail(sender, recipient, headers + \"\\r\\n\\r\\n\" + body)"
   ]
  },
  {
   "cell_type": "markdown",
   "metadata": {},
   "source": [
    "## 3 Automating DuckDuckGo search"
   ]
  },
  {
   "cell_type": "markdown",
   "metadata": {},
   "source": [
    "Using duckduckgo API is possible to query duckduckgo search engine. Say we are going to search \"barack obama\""
   ]
  },
  {
   "cell_type": "code",
   "execution_count": null,
   "metadata": {},
   "outputs": [],
   "source": [
    "import json\n",
    "import urllib\n",
    "\n",
    "searchfor = 'barack obama'"
   ]
  },
  {
   "cell_type": "markdown",
   "metadata": {},
   "source": [
    "To do this we need to create a specially crafted url to pass to the google api. `urllib` is a standard `python` library that allows to create and retrive URL(s).\n"
   ]
  },
  {
   "cell_type": "code",
   "execution_count": null,
   "metadata": {},
   "outputs": [],
   "source": [
    "query = urllib.parse.urlencode({'q': searchfor})\n",
    "url = 'http://api.duckduckgo.com/?format=json&{}'.format(query)\n",
    "search_response = urllib.request.urlopen(url)\n",
    "search_results = search_response.read()"
   ]
  },
  {
   "cell_type": "markdown",
   "metadata": {},
   "source": [
    "Now we have a json encoded string containing our results, we are going to use `json.loads` in order to get what we are interested to (say Total results and top hits)."
   ]
  },
  {
   "cell_type": "code",
   "execution_count": null,
   "metadata": {},
   "outputs": [],
   "source": [
    "results = json.loads(search_results.decode(encoding='UTF-8'))\n",
    "related_topics = results['RelatedTopics']\n",
    "hits = results['Results']\n",
    "print('Related Topics: {}'.format(len(related_topics)))\n",
    "print('Total results: {}'.format(len(hits)))\n",
    "print('Top {} hits:'.format(len(hits)))\n",
    "for h in hits:\n",
    "    print(' ', h['FirstURL'])"
   ]
  },
  {
   "cell_type": "markdown",
   "metadata": {},
   "source": [
    "---\n",
    "\n",
    "Visit [www.add-for.com](<http://www.add-for.com/IT>) for more tutorials and updates.\n",
    "\n",
    "This work is licensed under a <a rel=\"license\" href=\"http://creativecommons.org/licenses/by-sa/4.0/\">Creative Commons Attribution-ShareAlike 4.0 International License</a>."
   ]
  }
 ],
 "metadata": {
  "kernelspec": {
   "display_name": "Python [conda env:addfor_tutorials]",
   "language": "python",
   "name": "conda-env-addfor_tutorials-py"
  },
  "language_info": {
   "codemirror_mode": {
    "name": "ipython",
    "version": 3
   },
   "file_extension": ".py",
   "mimetype": "text/x-python",
   "name": "python",
   "nbconvert_exporter": "python",
   "pygments_lexer": "ipython3",
   "version": "3.6.4"
  }
 },
 "nbformat": 4,
 "nbformat_minor": 1
}
