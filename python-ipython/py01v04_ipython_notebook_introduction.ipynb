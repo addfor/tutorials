{
 "cells": [
  {
   "cell_type": "markdown",
   "metadata": {},
   "source": [
    "# An introduction to the Jupyther Notebook (formerly known as IPython notebook)"
   ]
  },
  {
   "cell_type": "code",
   "execution_count": 1,
   "metadata": {},
   "outputs": [
    {
     "data": {
      "text/html": [
       "<div id='toc-container'><script type='text/javascript'>\n",
       "$(function() {\n",
       "    function regenTOC(){\n",
       "        element = $(\"#toc-container\");\n",
       "\n",
       "\tvar toc = document.createElement(\"div\");\n",
       "\t$(toc).attr(\"class\", \"table-of-contents\");\n",
       "\n",
       "\tvar curLevel = 0;\n",
       "\tvar containerStack = [toc];\n",
       "\tvar levelOfTag = {\"h2\": 1, \"h3\": 2, \"h4\": 3, \"h5\": 4};\n",
       "\n",
       "\tfunction pushLevel() {\n",
       "            var list = document.createElement(\"ul\");\n",
       "            containerStack.push(list);\n",
       "            curLevel++;\n",
       "\t}\n",
       "\t\n",
       "\tfunction popLevel() {\n",
       "            var lastContainer = containerStack.pop();\n",
       "            $(lastContainer).appendTo(containerStack[containerStack.length - 1]);\n",
       "            curLevel--;\n",
       "\t}\n",
       "\t\n",
       "\t$(\".text_cell_render :header\").each(function (i, elem) {\n",
       "            var level = levelOfTag[ elem.tagName.toLowerCase() ];\n",
       "\n",
       "            if (level === undefined)\n",
       "\t\treturn;\n",
       "\n",
       "            while (curLevel < level)\n",
       "\t\tpushLevel();\n",
       "            while (curLevel > level)\n",
       "\t\tpopLevel();\n",
       "            \n",
       "            var listItem = document.createElement(\"li\");\n",
       "            var link = document.createElement(\"a\");\n",
       "            $(link)\n",
       "\t\t.text($(elem).contents().first().text()) // Remove the pilcrow sign\n",
       "\t\t.attr(\"href\", \"#\" + $(elem).attr(\"id\"))\n",
       "\t\t.appendTo(listItem);\n",
       "            $(listItem).appendTo(containerStack[containerStack.length - 1]);\n",
       "\t});\n",
       "\t\n",
       "\twhile (curLevel > 0)\n",
       "            popLevel();\n",
       "\n",
       "        $(\"<a class='btn-update' href='#'>Update</a>\")\n",
       "          .click(regenTOC).prependTo(toc);\n",
       "\n",
       "\t$(toc).prepend(\"<div class='title'>Contents</div>\")\n",
       "          .wrap(\"<div class='toc-headings'/>\");\n",
       "\n",
       "        $(element).empty();\n",
       "        $(element).append(toc);\n",
       "    }\n",
       "\n",
       "    if (typeof(IPython) !== 'undefined')\n",
       "        $([IPython.events]).on('notebook_loaded.Notebook', regenTOC);\n",
       "    regenTOC();\n",
       "});\n",
       "\n",
       "</script></div>"
      ],
      "text/plain": [
       "<IPython.core.display.HTML object>"
      ]
     },
     "execution_count": 1,
     "metadata": {},
     "output_type": "execute_result"
    }
   ],
   "source": [
    "import addutils.toc ; addutils.toc.js(ipy_notebook=True)"
   ]
  },
  {
   "cell_type": "code",
   "execution_count": 2,
   "metadata": {},
   "outputs": [
    {
     "data": {
      "text/html": [
       "<style>\n",
       ".text_cell_render @font-face {\n",
       "    font-family: \"Computer Modern\";\n",
       "    src: url('http://mirrors.ctan.org/fonts/cm-unicode/fonts/otf/cmunss.otf');\n",
       "}\n",
       "\n",
       "div.cell {\n",
       "    width: 900px;\n",
       "    margin-left: 0% !important;\n",
       "    margin-right: 0%;\n",
       "}\n",
       "\n",
       "code {\n",
       "    font-size:10pt;\n",
       "}\n",
       "\n",
       ".text_cell_render  h1 {\n",
       "    font-family: Tahoma, sans-serif;\n",
       "    color: rgb( 10, 88, 126 );\n",
       "    font-size:28pt;\n",
       "}\n",
       ".text_cell_render h2 {\n",
       "    font-family: Tahoma, sans-serif;\n",
       "    color: rgb( 10, 88, 126 );\n",
       "    font-size:24pt;\n",
       "}\n",
       ".text_cell_render h3 {\n",
       "    font-family: Tahoma, sans-serif;\n",
       "    color: rgb( 10, 88, 126 );\n",
       "    font-size:20pt;\n",
       "}\n",
       ".text_cell_render h4 {\n",
       "    font-family: Tahoma, sans-serif;\n",
       "    color: rgb( 10, 88, 126 );\n",
       "    font-size:18pt;\n",
       "    margin-top:12px;\n",
       "    margin-bottom: 3px;\n",
       "}\n",
       "\n",
       ".text_cell_render h5 {\n",
       "    font-weight: 300;\n",
       "    font-size: 11pt;\n",
       "    color: rgb( 48, 48, 48 );\n",
       "    font-style: italic;\n",
       "    margin-bottom: .5em;\n",
       "    margin-top: 0.5em;\n",
       "    display: block;\n",
       "}\n",
       "\n",
       ".text_cell_render ul {\n",
       "    font-family: Tahoma, sans-serif;\n",
       "    color: rgb( 90, 90, 90 );\n",
       "    font-size:11pt;\n",
       "    line-height: 185%;\n",
       "}\n",
       "\n",
       ".text_cell_render yp {\n",
       "    font-family: Tahoma, sans-serif;\n",
       "    color: rgb( 90, 90, 90 );\n",
       "    font-size:11pt;\n",
       "}\n",
       "\n",
       ".text_cell_render strong {\n",
       "    font-family: Tahoma, sans-serif;\n",
       "    color: rgb( 30, 30, 30 );\n",
       "    font-size:11pt;\n",
       "}\n",
       "\n",
       ".text_cell_render a:link {\n",
       "    font-family: Tahoma, sans-serif;\n",
       "    color: rgb( 10, 88, 126 );\n",
       "    font-size:11pt;\n",
       "}\n",
       "\n",
       ".text_cell_render a:visited {\n",
       "    color:rgb( 10, 88, 126 );\n",
       "}\n",
       "\n",
       ".text_cell_render {\n",
       "    font-family: Helvetica, Courier, Computer Modern, \"Helvetica Neue\", Arial, Geneva, sans-serif;\n",
       "    color: rgb( 84, 84, 84 );\n",
       "    font-size:11pt;\n",
       "    line-height: 125%;\n",
       "    font-size: 100%;\n",
       "    width:800px;\n",
       "}\n",
       "\n",
       ".CodeMirror {\n",
       "    font-family: Courier, \"Source Code Pro\", source-code-pro,Consolas, monospace;\n",
       "}\n",
       "\n",
       ".warning {\n",
       "    color: rgb( 240, 20, 20 );\n",
       "}\n",
       "\n",
       "/* Pandas tables */\n",
       "/*\n",
       ".rendered_html td {\n",
       "    text-align: right;\n",
       "}\n",
       "*/\n",
       "\n",
       "table.dataframe td {\n",
       "    text-align: right;\n",
       "}\n",
       "\n",
       ".output .table-of-contents {\n",
       "    border: 1px #cecece solid;\n",
       "    background-color: #fafafa;\n",
       "    padding-top: 10px;\n",
       "    padding-bottom: 5px;\n",
       "    padding-right: 15px;\n",
       "    padding-left: 0px;\n",
       "    margin-bottom: 20px;\n",
       "    display: inline-block;\n",
       "    position: relative;\n",
       "}\n",
       "\n",
       ".output .table-of-contents ul {\n",
       "    list-style-type: none;\n",
       "    padding-left: 20px;\n",
       "}\n",
       "\n",
       ".output .table-of-contents .title {\n",
       "    font-weight: bold;\n",
       "    font-height: 11pt;\n",
       "    padding-left: 20px; /* looks better if it's the same to the <ul> */\n",
       "}\n",
       "\n",
       ".output .table-of-contents .btn-update {\n",
       "    position: absolute;\n",
       "    float: right;\n",
       "    right: 11px;\n",
       "    top: 4px;\n",
       "    font-size: 9pt;\n",
       "}\n",
       "\n",
       "</style>\n",
       "<script>\n",
       "    MathJax.Hub.Config({\n",
       "                        TeX: {\n",
       "                           extensions: [\"AMSmath.js\"]\n",
       "                           },\n",
       "                displayAlign: 'center', // Change this to 'center' to center equations.\n",
       "                \"HTML-CSS\": {\n",
       "                    styles: {'.MathJax_Display': {\"margin\": 4}}\n",
       "                }\n",
       "        });\n",
       "</script>\n"
      ],
      "text/plain": [
       "<IPython.core.display.HTML object>"
      ]
     },
     "execution_count": 2,
     "metadata": {},
     "output_type": "execute_result"
    }
   ],
   "source": [
    "from addutils import css_notebook\n",
    "css_notebook()"
   ]
  },
  {
   "cell_type": "markdown",
   "metadata": {},
   "source": [
    "## 1 Before starting..."
   ]
  },
  {
   "cell_type": "markdown",
   "metadata": {},
   "source": [
    "The Jupyter Notebook is an interactive computing environment that enables users to author notebook documents that include:\n",
    "\n",
    "* Live code\n",
    "* Interactive widgets\n",
    "* Plots\n",
    "* Narrative text\n",
    "* Equations\n",
    "* Images\n",
    "* Video\n",
    "\n",
    "These documents provide a complete and self-contained record of a computation that can be converted to various formats and shared with others using email, [Dropbox](http://dropbox.com), version control systems (like git/[GitHub](http://github.com)) or [nbviewer.jupyter.org](http://nbviewer.jupyter.org).\n",
    "\n",
    "To find more documentation and examples check the follwing links:\n",
    "\n",
    "* [Jupyter Project page](http://jupyter.org/)\n",
    "* [Jupyther Documentation](http://jupyter.readthedocs.org/en/latest/)\n",
    "* [Notebook Gallery](http://nb.bianp.net/sort/views/)\n",
    "\n",
    "The document you are reading now is precisely an example of one such notebook, and we will show you here how to best use this new interface. The first thing to understand is that a notebook consists of a sequence of 'cells' that can contain either text or code meant for execution:\n",
    "\n",
    "* Text cells can be written using [Markdown syntax](http://daringfireball.net/projects/markdown/syntax) (in a future release there will be support for reStructuredText and Sphinx integration).\n",
    "* Code cells take IPython input (i.e. Python code, `%magics, !system calls`, etc). When you type `Shift-Enter`, the cell content is executed, output displayed and a new cell is created below.  **Try it now** by putting your cursor on the next cell and typing `Shift-Enter`:"
   ]
  },
  {
   "cell_type": "code",
   "execution_count": 3,
   "metadata": {},
   "outputs": [
    {
     "name": "stdout",
     "output_type": "stream",
     "text": [
      "This is the new IPython notebook\n"
     ]
    }
   ],
   "source": [
    "print ('This is the new IPython notebook')"
   ]
  },
  {
   "cell_type": "markdown",
   "metadata": {},
   "source": [
    "*You can re-execute the same cell over and over as many times as you want.*  Simply put your\n",
    "cursor in the cell again, edit at will, and type `Shift-Enter` to execute.  \n",
    "\n",
    "**Tip:** A cell can also be executed\n",
    "*in-place*, where IPython executes its content but leaves the cursor in the same cell.  This is done by\n",
    "typing `Ctrl-Enter` instead, and is useful if you want to quickly run a command to check something \n",
    "before typing the real content you want to leave in the cell. For example, in the next cell, try issuing\n",
    "several system commands in-place with `Ctrl-Enter`, such as `pwd` and then `ls`:"
   ]
  },
  {
   "cell_type": "code",
   "execution_count": 4,
   "metadata": {},
   "outputs": [
    {
     "data": {
      "text/plain": [
       "'/home/matteo/Projects/tutorials/python-ipython'"
      ]
     },
     "execution_count": 4,
     "metadata": {},
     "output_type": "execute_result"
    }
   ],
   "source": [
    "pwd"
   ]
  },
  {
   "cell_type": "markdown",
   "metadata": {},
   "source": [
    "In a cell, you can type anything from a single python expression to an arbitrarily long amount of code \n",
    "(although for reasons of readability, you should probably limit this to a few dozen lines):"
   ]
  },
  {
   "cell_type": "code",
   "execution_count": 5,
   "metadata": {},
   "outputs": [
    {
     "name": "stdout",
     "output_type": "stream",
     "text": [
      "f(3.00)= 3.00\n"
     ]
    }
   ],
   "source": [
    "def f(x):\n",
    "    '''My function description'''\n",
    "    return x+6\n",
    "\n",
    "value = 3\n",
    "print ('f({0:.2f})= {0:.2f}'.format(value, f(value)))"
   ]
  },
  {
   "cell_type": "markdown",
   "metadata": {},
   "source": [
    "### 1.1 Kernels"
   ]
  },
  {
   "cell_type": "markdown",
   "metadata": {},
   "source": [
    "The Notebook allows code to be run in a range of different programming languages. For each notebook document that a user opens, the web application starts a kernel that runs the code for that notebook. Each kernel is capable of running code in a single programming language and there are kernels available in the following languages:\n",
    "\n",
    "* Python(https://github.com/ipython/ipython)\n",
    "* Julia (https://github.com/JuliaLang/IJulia.jl)\n",
    "* R (https://github.com/takluyver/IRkernel)\n",
    "* Ruby (https://github.com/minrk/iruby)\n",
    "* Haskell (https://github.com/gibiansky/IHaskell)\n",
    "* Scala (https://github.com/Bridgewater/scala-notebook)\n",
    "* node.js (https://gist.github.com/Carreau/4279371)\n",
    "* Go (https://github.com/takluyver/igo)\n",
    "\n",
    "The default kernel runs Python code. The notebook provides a simple way for users to pick which of these kernels is used for a given notebook.\n",
    "\n",
    "Each of these kernels communicate with the notebook web application and web browser using a JSON over ZeroMQ/WebSockets message protocol."
   ]
  },
  {
   "cell_type": "markdown",
   "metadata": {},
   "source": [
    "## 2 User interface"
   ]
  },
  {
   "cell_type": "markdown",
   "metadata": {},
   "source": [
    "When you start a new notebook server with `ipython notebook`, your\n",
    "browser should open into the *Dashboard*, a page listing all notebooks\n",
    "available in the current directory, which allow to create new\n",
    "notebooks.  In this page, you can also drag and drop existing `.py` files\n",
    "over the file list to import them as notebooks (see the manual for \n",
    "[further details on how these files are \n",
    "interpreted](http://ipython.org/ipython-doc/stable/interactive/htmlnotebook.html)).\n",
    "\n",
    "Once you open an existing notebook (like this one) or create a new one,\n",
    "you are in the main notebook interface, which consists of a main editing\n",
    "area (where these cells are contained) as well as a menu and \n",
    "permanent header area at the top, and a pager that rises from the\n",
    "bottom when needed and can be collapsed again."
   ]
  },
  {
   "cell_type": "markdown",
   "metadata": {},
   "source": [
    "### 2.1 Main editing area"
   ]
  },
  {
   "cell_type": "markdown",
   "metadata": {},
   "source": [
    "Here, you can move with the arrow keys or use the \n",
    "scroll bars.  The cursor enters code cells immediately, but only selects\n",
    "text (markdown) cells without entering them; to enter a text cell,\n",
    "use `Enter` (or double-click), and `Shift-Enter` to exit it again (just like executing a \n",
    "code cell)."
   ]
  },
  {
   "cell_type": "markdown",
   "metadata": {},
   "source": [
    "### 2.2 Menu"
   ]
  },
  {
   "cell_type": "markdown",
   "metadata": {},
   "source": [
    "The menu bar contains all the commands you can use to manipulate the notebook.\n",
    "\n",
    "* The ***File*** menu has the usual open/save file operations, as well as Export, for downloading the notebook to your computer.\n",
    "* ***Edit*** has controls for cut/copy/paste.\n",
    "* ***View*** lets you toggle visibility of the header elements.\n",
    "* The ***Cell*** menu lets you manipulate individual cells.\n",
    "* The ***Kernel*** menu lets you signal the kernel executing your code. \n",
    "`Interrupt` stops the running computation while\n",
    "`Restart` fully kills the kernel and starts a fresh one.  Obviously this means that all your previous variables are destroyed, but it also makes it easy to get a fresh kernel in which to re-execute a notebook, perhaps after changing an extension module for which Python's `reload` mechanism does not work.\n",
    "* The ***Help*** menu contains links to the documentation of some projects closely related to IPython as well as the minimal keybindings you need to know.  You should use `Ctrl-m h` (or click the `QuickHelp` button at\n",
    "the top) to show keybindings.\n",
    "* You will also see a ***few buttons*** there for common actions, and hovering over each button will tell you which command they correspond to, if the icons are not clear enough."
   ]
  },
  {
   "cell_type": "markdown",
   "metadata": {},
   "source": [
    "### 2.3 Help and Keyboard Shortcuts"
   ]
  },
  {
   "cell_type": "markdown",
   "metadata": {},
   "source": [
    "Go to **Help -> Keyboard Shortcuts** to see the complete shortcuts list"
   ]
  },
  {
   "cell_type": "markdown",
   "metadata": {},
   "source": [
    "To access the help system symply type `help()` in a code cell. Use `quit` to finish:"
   ]
  },
  {
   "cell_type": "code",
   "execution_count": 6,
   "metadata": {},
   "outputs": [
    {
     "name": "stdout",
     "output_type": "stream",
     "text": [
      "\n",
      "Welcome to Python 3.6's help utility!\n",
      "\n",
      "If this is your first time using Python, you should definitely check out\n",
      "the tutorial on the Internet at http://docs.python.org/3.6/tutorial/.\n",
      "\n",
      "Enter the name of any module, keyword, or topic to get help on writing\n",
      "Python programs and using Python modules.  To quit this help utility and\n",
      "return to the interpreter, just type \"quit\".\n",
      "\n",
      "To get a list of available modules, keywords, symbols, or topics, type\n",
      "\"modules\", \"keywords\", \"symbols\", or \"topics\".  Each module also comes\n",
      "with a one-line summary of what it does; to list the modules whose name\n",
      "or summary contain a given string such as \"spam\", type \"modules spam\".\n",
      "\n",
      "help> \n",
      "\n",
      "You are now leaving help and returning to the Python interpreter.\n",
      "If you want to ask for help on a particular object directly from the\n",
      "interpreter, you can type \"help(object)\".  Executing \"help('string')\"\n",
      "has the same effect as typing a particular string at the help> prompt.\n"
     ]
    }
   ],
   "source": [
    "help()"
   ]
  },
  {
   "cell_type": "markdown",
   "metadata": {},
   "source": [
    "### 2.4 Header bar"
   ]
  },
  {
   "cell_type": "markdown",
   "metadata": {},
   "source": [
    "The header area at the top allows you to rename an existing notebook.  This area also indicates whenever the kernel is busy executing code."
   ]
  },
  {
   "cell_type": "markdown",
   "metadata": {},
   "source": [
    "### 2.5 The pager at the bottom"
   ]
  },
  {
   "cell_type": "markdown",
   "metadata": {},
   "source": [
    "Whenever IPython needs to display additional  information, such as when you type `somefunction?` in a cell, the notebook\n",
    "opens a pane at the bottom.  You can keep this pager pane open for reference (it doesn't block input in the main area) or dismiss it by clicking on its divider bar. Try this:"
   ]
  },
  {
   "cell_type": "code",
   "execution_count": 7,
   "metadata": {},
   "outputs": [],
   "source": [
    "print??"
   ]
  },
  {
   "cell_type": "markdown",
   "metadata": {},
   "source": [
    "## 3 Tab completion and tooltips"
   ]
  },
  {
   "cell_type": "markdown",
   "metadata": {},
   "source": [
    "Whey you complete with the `Tab` key, IPython shows a drop list with all available completions.  If you type more characters while this list is open, IPython automatically refines the search; once there is only one option left you can hit `Tab` once more (or `Enter`) to complete.  You can also select the completion you want with the arrow keys or the mouse, and then hit `Enter`.\n",
    "\n",
    "In addition, if you hit `Tab` inside of open parentheses, IPython will  search for the docstring of the last object left of the parens and will display it on a tooltip. For example, type `list(<TAB>` and you will see the docstring for the builtin `list` constructor. Moreover, pressing tab several time in a row allows you change the behaviour of the tooltip:"
   ]
  },
  {
   "cell_type": "code",
   "execution_count": 8,
   "metadata": {},
   "outputs": [],
   "source": [
    "# Remove comment, then position your cursor after the ( and hit the Tab key:\n",
    "#list("
   ]
  },
  {
   "cell_type": "markdown",
   "metadata": {},
   "source": [
    "## 4 Plotting support"
   ]
  },
  {
   "cell_type": "markdown",
   "metadata": {},
   "source": [
    "You can enable inline plotting with `%pylab inline`:"
   ]
  },
  {
   "cell_type": "code",
   "execution_count": 9,
   "metadata": {},
   "outputs": [
    {
     "data": {
      "text/html": [
       "\n",
       "    <div class=\"bk-root\">\n",
       "        <a href=\"https://bokeh.pydata.org\" target=\"_blank\" class=\"bk-logo bk-logo-small bk-logo-notebook\"></a>\n",
       "        <span id=\"19e4f1f2-ef42-408e-aaed-d44ddb62d798\">Loading BokehJS ...</span>\n",
       "    </div>"
      ]
     },
     "metadata": {},
     "output_type": "display_data"
    },
    {
     "data": {
      "application/javascript": [
       "\n",
       "(function(root) {\n",
       "  function now() {\n",
       "    return new Date();\n",
       "  }\n",
       "\n",
       "  var force = true;\n",
       "\n",
       "  if (typeof (root._bokeh_onload_callbacks) === \"undefined\" || force === true) {\n",
       "    root._bokeh_onload_callbacks = [];\n",
       "    root._bokeh_is_loading = undefined;\n",
       "  }\n",
       "\n",
       "  var JS_MIME_TYPE = 'application/javascript';\n",
       "  var HTML_MIME_TYPE = 'text/html';\n",
       "  var EXEC_MIME_TYPE = 'application/vnd.bokehjs_exec.v0+json';\n",
       "  var CLASS_NAME = 'output_bokeh rendered_html';\n",
       "\n",
       "  /**\n",
       "   * Render data to the DOM node\n",
       "   */\n",
       "  function render(props, node) {\n",
       "    var script = document.createElement(\"script\");\n",
       "    node.appendChild(script);\n",
       "  }\n",
       "\n",
       "  /**\n",
       "   * Handle when an output is cleared or removed\n",
       "   */\n",
       "  function handleClearOutput(event, handle) {\n",
       "    var cell = handle.cell;\n",
       "\n",
       "    var id = cell.output_area._bokeh_element_id;\n",
       "    var server_id = cell.output_area._bokeh_server_id;\n",
       "    // Clean up Bokeh references\n",
       "    if (id !== undefined) {\n",
       "      Bokeh.index[id].model.document.clear();\n",
       "      delete Bokeh.index[id];\n",
       "    }\n",
       "\n",
       "    if (server_id !== undefined) {\n",
       "      // Clean up Bokeh references\n",
       "      var cmd = \"from bokeh.io.state import curstate; print(curstate().uuid_to_server['\" + server_id + \"'].get_sessions()[0].document.roots[0]._id)\";\n",
       "      cell.notebook.kernel.execute(cmd, {\n",
       "        iopub: {\n",
       "          output: function(msg) {\n",
       "            var element_id = msg.content.text.trim();\n",
       "            Bokeh.index[element_id].model.document.clear();\n",
       "            delete Bokeh.index[element_id];\n",
       "          }\n",
       "        }\n",
       "      });\n",
       "      // Destroy server and session\n",
       "      var cmd = \"import bokeh.io.notebook as ion; ion.destroy_server('\" + server_id + \"')\";\n",
       "      cell.notebook.kernel.execute(cmd);\n",
       "    }\n",
       "  }\n",
       "\n",
       "  /**\n",
       "   * Handle when a new output is added\n",
       "   */\n",
       "  function handleAddOutput(event, handle) {\n",
       "    var output_area = handle.output_area;\n",
       "    var output = handle.output;\n",
       "\n",
       "    // limit handleAddOutput to display_data with EXEC_MIME_TYPE content only\n",
       "    if ((output.output_type != \"display_data\") || (!output.data.hasOwnProperty(EXEC_MIME_TYPE))) {\n",
       "      return\n",
       "    }\n",
       "\n",
       "    var toinsert = output_area.element.find(\".\" + CLASS_NAME.split(' ')[0]);\n",
       "\n",
       "    if (output.metadata[EXEC_MIME_TYPE][\"id\"] !== undefined) {\n",
       "      toinsert[0].firstChild.textContent = output.data[JS_MIME_TYPE];\n",
       "      // store reference to embed id on output_area\n",
       "      output_area._bokeh_element_id = output.metadata[EXEC_MIME_TYPE][\"id\"];\n",
       "    }\n",
       "    if (output.metadata[EXEC_MIME_TYPE][\"server_id\"] !== undefined) {\n",
       "      var bk_div = document.createElement(\"div\");\n",
       "      bk_div.innerHTML = output.data[HTML_MIME_TYPE];\n",
       "      var script_attrs = bk_div.children[0].attributes;\n",
       "      for (var i = 0; i < script_attrs.length; i++) {\n",
       "        toinsert[0].firstChild.setAttribute(script_attrs[i].name, script_attrs[i].value);\n",
       "      }\n",
       "      // store reference to server id on output_area\n",
       "      output_area._bokeh_server_id = output.metadata[EXEC_MIME_TYPE][\"server_id\"];\n",
       "    }\n",
       "  }\n",
       "\n",
       "  function register_renderer(events, OutputArea) {\n",
       "\n",
       "    function append_mime(data, metadata, element) {\n",
       "      // create a DOM node to render to\n",
       "      var toinsert = this.create_output_subarea(\n",
       "        metadata,\n",
       "        CLASS_NAME,\n",
       "        EXEC_MIME_TYPE\n",
       "      );\n",
       "      this.keyboard_manager.register_events(toinsert);\n",
       "      // Render to node\n",
       "      var props = {data: data, metadata: metadata[EXEC_MIME_TYPE]};\n",
       "      render(props, toinsert[0]);\n",
       "      element.append(toinsert);\n",
       "      return toinsert\n",
       "    }\n",
       "\n",
       "    /* Handle when an output is cleared or removed */\n",
       "    events.on('clear_output.CodeCell', handleClearOutput);\n",
       "    events.on('delete.Cell', handleClearOutput);\n",
       "\n",
       "    /* Handle when a new output is added */\n",
       "    events.on('output_added.OutputArea', handleAddOutput);\n",
       "\n",
       "    /**\n",
       "     * Register the mime type and append_mime function with output_area\n",
       "     */\n",
       "    OutputArea.prototype.register_mime_type(EXEC_MIME_TYPE, append_mime, {\n",
       "      /* Is output safe? */\n",
       "      safe: true,\n",
       "      /* Index of renderer in `output_area.display_order` */\n",
       "      index: 0\n",
       "    });\n",
       "  }\n",
       "\n",
       "  // register the mime type if in Jupyter Notebook environment and previously unregistered\n",
       "  if (root.Jupyter !== undefined) {\n",
       "    var events = require('base/js/events');\n",
       "    var OutputArea = require('notebook/js/outputarea').OutputArea;\n",
       "\n",
       "    if (OutputArea.prototype.mime_types().indexOf(EXEC_MIME_TYPE) == -1) {\n",
       "      register_renderer(events, OutputArea);\n",
       "    }\n",
       "  }\n",
       "\n",
       "  \n",
       "  if (typeof (root._bokeh_timeout) === \"undefined\" || force === true) {\n",
       "    root._bokeh_timeout = Date.now() + 5000;\n",
       "    root._bokeh_failed_load = false;\n",
       "  }\n",
       "\n",
       "  var NB_LOAD_WARNING = {'data': {'text/html':\n",
       "     \"<div style='background-color: #fdd'>\\n\"+\n",
       "     \"<p>\\n\"+\n",
       "     \"BokehJS does not appear to have successfully loaded. If loading BokehJS from CDN, this \\n\"+\n",
       "     \"may be due to a slow or bad network connection. Possible fixes:\\n\"+\n",
       "     \"</p>\\n\"+\n",
       "     \"<ul>\\n\"+\n",
       "     \"<li>re-rerun `output_notebook()` to attempt to load from CDN again, or</li>\\n\"+\n",
       "     \"<li>use INLINE resources instead, as so:</li>\\n\"+\n",
       "     \"</ul>\\n\"+\n",
       "     \"<code>\\n\"+\n",
       "     \"from bokeh.resources import INLINE\\n\"+\n",
       "     \"output_notebook(resources=INLINE)\\n\"+\n",
       "     \"</code>\\n\"+\n",
       "     \"</div>\"}};\n",
       "\n",
       "  function display_loaded() {\n",
       "    var el = document.getElementById(\"19e4f1f2-ef42-408e-aaed-d44ddb62d798\");\n",
       "    if (el != null) {\n",
       "      el.textContent = \"BokehJS is loading...\";\n",
       "    }\n",
       "    if (root.Bokeh !== undefined) {\n",
       "      if (el != null) {\n",
       "        el.textContent = \"BokehJS \" + root.Bokeh.version + \" successfully loaded.\";\n",
       "      }\n",
       "    } else if (Date.now() < root._bokeh_timeout) {\n",
       "      setTimeout(display_loaded, 100)\n",
       "    }\n",
       "  }\n",
       "\n",
       "\n",
       "  function run_callbacks() {\n",
       "    try {\n",
       "      root._bokeh_onload_callbacks.forEach(function(callback) { callback() });\n",
       "    }\n",
       "    finally {\n",
       "      delete root._bokeh_onload_callbacks\n",
       "    }\n",
       "    console.info(\"Bokeh: all callbacks have finished\");\n",
       "  }\n",
       "\n",
       "  function load_libs(js_urls, callback) {\n",
       "    root._bokeh_onload_callbacks.push(callback);\n",
       "    if (root._bokeh_is_loading > 0) {\n",
       "      console.log(\"Bokeh: BokehJS is being loaded, scheduling callback at\", now());\n",
       "      return null;\n",
       "    }\n",
       "    if (js_urls == null || js_urls.length === 0) {\n",
       "      run_callbacks();\n",
       "      return null;\n",
       "    }\n",
       "    console.log(\"Bokeh: BokehJS not loaded, scheduling load and callback at\", now());\n",
       "    root._bokeh_is_loading = js_urls.length;\n",
       "    for (var i = 0; i < js_urls.length; i++) {\n",
       "      var url = js_urls[i];\n",
       "      var s = document.createElement('script');\n",
       "      s.src = url;\n",
       "      s.async = false;\n",
       "      s.onreadystatechange = s.onload = function() {\n",
       "        root._bokeh_is_loading--;\n",
       "        if (root._bokeh_is_loading === 0) {\n",
       "          console.log(\"Bokeh: all BokehJS libraries loaded\");\n",
       "          run_callbacks()\n",
       "        }\n",
       "      };\n",
       "      s.onerror = function() {\n",
       "        console.warn(\"failed to load library \" + url);\n",
       "      };\n",
       "      console.log(\"Bokeh: injecting script tag for BokehJS library: \", url);\n",
       "      document.getElementsByTagName(\"head\")[0].appendChild(s);\n",
       "    }\n",
       "  };var element = document.getElementById(\"19e4f1f2-ef42-408e-aaed-d44ddb62d798\");\n",
       "  if (element == null) {\n",
       "    console.log(\"Bokeh: ERROR: autoload.js configured with elementid '19e4f1f2-ef42-408e-aaed-d44ddb62d798' but no matching script tag was found. \")\n",
       "    return false;\n",
       "  }\n",
       "\n",
       "  var js_urls = [\"https://cdn.pydata.org/bokeh/release/bokeh-0.12.13.min.js\", \"https://cdn.pydata.org/bokeh/release/bokeh-widgets-0.12.13.min.js\", \"https://cdn.pydata.org/bokeh/release/bokeh-tables-0.12.13.min.js\", \"https://cdn.pydata.org/bokeh/release/bokeh-gl-0.12.13.min.js\"];\n",
       "\n",
       "  var inline_js = [\n",
       "    function(Bokeh) {\n",
       "      Bokeh.set_log_level(\"info\");\n",
       "    },\n",
       "    \n",
       "    function(Bokeh) {\n",
       "      \n",
       "    },\n",
       "    function(Bokeh) {\n",
       "      console.log(\"Bokeh: injecting CSS: https://cdn.pydata.org/bokeh/release/bokeh-0.12.13.min.css\");\n",
       "      Bokeh.embed.inject_css(\"https://cdn.pydata.org/bokeh/release/bokeh-0.12.13.min.css\");\n",
       "      console.log(\"Bokeh: injecting CSS: https://cdn.pydata.org/bokeh/release/bokeh-widgets-0.12.13.min.css\");\n",
       "      Bokeh.embed.inject_css(\"https://cdn.pydata.org/bokeh/release/bokeh-widgets-0.12.13.min.css\");\n",
       "      console.log(\"Bokeh: injecting CSS: https://cdn.pydata.org/bokeh/release/bokeh-tables-0.12.13.min.css\");\n",
       "      Bokeh.embed.inject_css(\"https://cdn.pydata.org/bokeh/release/bokeh-tables-0.12.13.min.css\");\n",
       "    }\n",
       "  ];\n",
       "\n",
       "  function run_inline_js() {\n",
       "    \n",
       "    if ((root.Bokeh !== undefined) || (force === true)) {\n",
       "      for (var i = 0; i < inline_js.length; i++) {\n",
       "        inline_js[i].call(root, root.Bokeh);\n",
       "      }if (force === true) {\n",
       "        display_loaded();\n",
       "      }} else if (Date.now() < root._bokeh_timeout) {\n",
       "      setTimeout(run_inline_js, 100);\n",
       "    } else if (!root._bokeh_failed_load) {\n",
       "      console.log(\"Bokeh: BokehJS failed to load within specified timeout.\");\n",
       "      root._bokeh_failed_load = true;\n",
       "    } else if (force !== true) {\n",
       "      var cell = $(document.getElementById(\"19e4f1f2-ef42-408e-aaed-d44ddb62d798\")).parents('.cell').data().cell;\n",
       "      cell.output_area.append_execute_result(NB_LOAD_WARNING)\n",
       "    }\n",
       "\n",
       "  }\n",
       "\n",
       "  if (root._bokeh_is_loading === 0) {\n",
       "    console.log(\"Bokeh: BokehJS loaded, going straight to plotting\");\n",
       "    run_inline_js();\n",
       "  } else {\n",
       "    load_libs(js_urls, function() {\n",
       "      console.log(\"Bokeh: BokehJS plotting callback run at\", now());\n",
       "      run_inline_js();\n",
       "    });\n",
       "  }\n",
       "}(window));"
      ],
      "application/vnd.bokehjs_load.v0+json": "\n(function(root) {\n  function now() {\n    return new Date();\n  }\n\n  var force = true;\n\n  if (typeof (root._bokeh_onload_callbacks) === \"undefined\" || force === true) {\n    root._bokeh_onload_callbacks = [];\n    root._bokeh_is_loading = undefined;\n  }\n\n  \n\n  \n  if (typeof (root._bokeh_timeout) === \"undefined\" || force === true) {\n    root._bokeh_timeout = Date.now() + 5000;\n    root._bokeh_failed_load = false;\n  }\n\n  var NB_LOAD_WARNING = {'data': {'text/html':\n     \"<div style='background-color: #fdd'>\\n\"+\n     \"<p>\\n\"+\n     \"BokehJS does not appear to have successfully loaded. If loading BokehJS from CDN, this \\n\"+\n     \"may be due to a slow or bad network connection. Possible fixes:\\n\"+\n     \"</p>\\n\"+\n     \"<ul>\\n\"+\n     \"<li>re-rerun `output_notebook()` to attempt to load from CDN again, or</li>\\n\"+\n     \"<li>use INLINE resources instead, as so:</li>\\n\"+\n     \"</ul>\\n\"+\n     \"<code>\\n\"+\n     \"from bokeh.resources import INLINE\\n\"+\n     \"output_notebook(resources=INLINE)\\n\"+\n     \"</code>\\n\"+\n     \"</div>\"}};\n\n  function display_loaded() {\n    var el = document.getElementById(\"19e4f1f2-ef42-408e-aaed-d44ddb62d798\");\n    if (el != null) {\n      el.textContent = \"BokehJS is loading...\";\n    }\n    if (root.Bokeh !== undefined) {\n      if (el != null) {\n        el.textContent = \"BokehJS \" + root.Bokeh.version + \" successfully loaded.\";\n      }\n    } else if (Date.now() < root._bokeh_timeout) {\n      setTimeout(display_loaded, 100)\n    }\n  }\n\n\n  function run_callbacks() {\n    try {\n      root._bokeh_onload_callbacks.forEach(function(callback) { callback() });\n    }\n    finally {\n      delete root._bokeh_onload_callbacks\n    }\n    console.info(\"Bokeh: all callbacks have finished\");\n  }\n\n  function load_libs(js_urls, callback) {\n    root._bokeh_onload_callbacks.push(callback);\n    if (root._bokeh_is_loading > 0) {\n      console.log(\"Bokeh: BokehJS is being loaded, scheduling callback at\", now());\n      return null;\n    }\n    if (js_urls == null || js_urls.length === 0) {\n      run_callbacks();\n      return null;\n    }\n    console.log(\"Bokeh: BokehJS not loaded, scheduling load and callback at\", now());\n    root._bokeh_is_loading = js_urls.length;\n    for (var i = 0; i < js_urls.length; i++) {\n      var url = js_urls[i];\n      var s = document.createElement('script');\n      s.src = url;\n      s.async = false;\n      s.onreadystatechange = s.onload = function() {\n        root._bokeh_is_loading--;\n        if (root._bokeh_is_loading === 0) {\n          console.log(\"Bokeh: all BokehJS libraries loaded\");\n          run_callbacks()\n        }\n      };\n      s.onerror = function() {\n        console.warn(\"failed to load library \" + url);\n      };\n      console.log(\"Bokeh: injecting script tag for BokehJS library: \", url);\n      document.getElementsByTagName(\"head\")[0].appendChild(s);\n    }\n  };var element = document.getElementById(\"19e4f1f2-ef42-408e-aaed-d44ddb62d798\");\n  if (element == null) {\n    console.log(\"Bokeh: ERROR: autoload.js configured with elementid '19e4f1f2-ef42-408e-aaed-d44ddb62d798' but no matching script tag was found. \")\n    return false;\n  }\n\n  var js_urls = [\"https://cdn.pydata.org/bokeh/release/bokeh-0.12.13.min.js\", \"https://cdn.pydata.org/bokeh/release/bokeh-widgets-0.12.13.min.js\", \"https://cdn.pydata.org/bokeh/release/bokeh-tables-0.12.13.min.js\", \"https://cdn.pydata.org/bokeh/release/bokeh-gl-0.12.13.min.js\"];\n\n  var inline_js = [\n    function(Bokeh) {\n      Bokeh.set_log_level(\"info\");\n    },\n    \n    function(Bokeh) {\n      \n    },\n    function(Bokeh) {\n      console.log(\"Bokeh: injecting CSS: https://cdn.pydata.org/bokeh/release/bokeh-0.12.13.min.css\");\n      Bokeh.embed.inject_css(\"https://cdn.pydata.org/bokeh/release/bokeh-0.12.13.min.css\");\n      console.log(\"Bokeh: injecting CSS: https://cdn.pydata.org/bokeh/release/bokeh-widgets-0.12.13.min.css\");\n      Bokeh.embed.inject_css(\"https://cdn.pydata.org/bokeh/release/bokeh-widgets-0.12.13.min.css\");\n      console.log(\"Bokeh: injecting CSS: https://cdn.pydata.org/bokeh/release/bokeh-tables-0.12.13.min.css\");\n      Bokeh.embed.inject_css(\"https://cdn.pydata.org/bokeh/release/bokeh-tables-0.12.13.min.css\");\n    }\n  ];\n\n  function run_inline_js() {\n    \n    if ((root.Bokeh !== undefined) || (force === true)) {\n      for (var i = 0; i < inline_js.length; i++) {\n        inline_js[i].call(root, root.Bokeh);\n      }if (force === true) {\n        display_loaded();\n      }} else if (Date.now() < root._bokeh_timeout) {\n      setTimeout(run_inline_js, 100);\n    } else if (!root._bokeh_failed_load) {\n      console.log(\"Bokeh: BokehJS failed to load within specified timeout.\");\n      root._bokeh_failed_load = true;\n    } else if (force !== true) {\n      var cell = $(document.getElementById(\"19e4f1f2-ef42-408e-aaed-d44ddb62d798\")).parents('.cell').data().cell;\n      cell.output_area.append_execute_result(NB_LOAD_WARNING)\n    }\n\n  }\n\n  if (root._bokeh_is_loading === 0) {\n    console.log(\"Bokeh: BokehJS loaded, going straight to plotting\");\n    run_inline_js();\n  } else {\n    load_libs(js_urls, function() {\n      console.log(\"Bokeh: BokehJS plotting callback run at\", now());\n      run_inline_js();\n    });\n  }\n}(window));"
     },
     "metadata": {},
     "output_type": "display_data"
    }
   ],
   "source": [
    "import numpy as np\n",
    "import bokeh.plotting as bk\n",
    "bk.output_notebook()"
   ]
  },
  {
   "cell_type": "code",
   "execution_count": 10,
   "metadata": {},
   "outputs": [
    {
     "data": {
      "text/html": [
       "\n",
       "<div class=\"bk-root\">\n",
       "    <div class=\"bk-plotdiv\" id=\"227ea7ba-29f4-4754-8a87-893ce053c8fe\"></div>\n",
       "</div>"
      ]
     },
     "metadata": {},
     "output_type": "display_data"
    },
    {
     "data": {
      "application/javascript": [
       "(function(root) {\n",
       "  function embed_document(root) {\n",
       "    \n",
       "  var docs_json = {\"47b29999-a5e7-4ecc-bc06-8b3e16ac1a31\":{\"roots\":{\"references\":[{\"attributes\":{\"callback\":null,\"column_names\":[\"x\",\"y\"],\"data\":{\"x\":{\"__ndarray__\":\"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\",\"dtype\":\"float64\",\"shape\":[700]},\"y\":{\"__ndarray__\":\"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\",\"dtype\":\"float64\",\"shape\":[700]}}},\"id\":\"af45adba-8cdc-42bf-ba5e-2d90a2449251\",\"type\":\"ColumnDataSource\"},{\"attributes\":{\"line_color\":\"magenta\",\"line_width\":2,\"x\":{\"field\":\"x\"},\"y\":{\"field\":\"y\"}},\"id\":\"2109d04f-1241-46dc-928d-999cf40de841\",\"type\":\"Line\"},{\"attributes\":{\"bottom_units\":\"screen\",\"fill_alpha\":{\"value\":0.5},\"fill_color\":{\"value\":\"lightgrey\"},\"left_units\":\"screen\",\"level\":\"overlay\",\"line_alpha\":{\"value\":1.0},\"line_color\":{\"value\":\"black\"},\"line_dash\":[4,4],\"line_width\":{\"value\":2},\"plot\":null,\"render_mode\":\"css\",\"right_units\":\"screen\",\"top_units\":\"screen\"},\"id\":\"f3ea42a5-18cd-4ce8-90b5-b9dba9629774\",\"type\":\"BoxAnnotation\"},{\"attributes\":{},\"id\":\"913b5c9a-495c-4d1c-833b-e3e72d7d63c6\",\"type\":\"PanTool\"},{\"attributes\":{\"plot\":null,\"text\":\"A simple Chirp\",\"text_font_size\":{\"value\":\"18pt\"}},\"id\":\"94109c38-6364-42af-815a-de0fad662c12\",\"type\":\"Title\"},{\"attributes\":{\"source\":{\"id\":\"af45adba-8cdc-42bf-ba5e-2d90a2449251\",\"type\":\"ColumnDataSource\"}},\"id\":\"88c01b6c-95b6-4c54-a375-3b0e8a5da359\",\"type\":\"CDSView\"},{\"attributes\":{\"callback\":null},\"id\":\"f4ca60d9-5719-44c0-8098-070f02f1fb52\",\"type\":\"DataRange1d\"},{\"attributes\":{},\"id\":\"b7421ba0-b454-4e47-8ed2-1cf92cef5d8f\",\"type\":\"WheelZoomTool\"},{\"attributes\":{},\"id\":\"017846b5-4a4a-45d9-915a-823eac0acdbe\",\"type\":\"LinearScale\"},{\"attributes\":{},\"id\":\"38639514-4a04-4775-affb-bb8ae557c7d8\",\"type\":\"BasicTickFormatter\"},{\"attributes\":{\"line_alpha\":0.1,\"line_color\":\"#1f77b4\",\"line_width\":2,\"x\":{\"field\":\"x\"},\"y\":{\"field\":\"y\"}},\"id\":\"c7b76ed7-2541-4555-a7ca-d8db8f5f0b4c\",\"type\":\"Line\"},{\"attributes\":{\"formatter\":{\"id\":\"3ab261bd-33a2-4fc8-9509-278240a5ab67\",\"type\":\"BasicTickFormatter\"},\"plot\":{\"id\":\"70e10303-43fc-44ae-a1ec-f3193400a7b1\",\"subtype\":\"Figure\",\"type\":\"Plot\"},\"ticker\":{\"id\":\"1603bc4b-c829-4897-806b-558f5ff17cb1\",\"type\":\"BasicTicker\"}},\"id\":\"6437be4c-7a5b-43ed-8fcf-d8344c3e6517\",\"type\":\"LinearAxis\"},{\"attributes\":{\"overlay\":{\"id\":\"f3ea42a5-18cd-4ce8-90b5-b9dba9629774\",\"type\":\"BoxAnnotation\"}},\"id\":\"e983bc5a-45cf-4931-9585-1463f551d476\",\"type\":\"BoxZoomTool\"},{\"attributes\":{\"data_source\":{\"id\":\"af45adba-8cdc-42bf-ba5e-2d90a2449251\",\"type\":\"ColumnDataSource\"},\"glyph\":{\"id\":\"2109d04f-1241-46dc-928d-999cf40de841\",\"type\":\"Line\"},\"hover_glyph\":null,\"muted_glyph\":null,\"nonselection_glyph\":{\"id\":\"c7b76ed7-2541-4555-a7ca-d8db8f5f0b4c\",\"type\":\"Line\"},\"selection_glyph\":null,\"view\":{\"id\":\"88c01b6c-95b6-4c54-a375-3b0e8a5da359\",\"type\":\"CDSView\"}},\"id\":\"d77fcda3-5f9c-4a8b-9ba7-5419895529c5\",\"type\":\"GlyphRenderer\"},{\"attributes\":{},\"id\":\"ac6e4b05-8b21-4ca4-98be-e5a5fd682907\",\"type\":\"SaveTool\"},{\"attributes\":{\"active_drag\":\"auto\",\"active_inspect\":\"auto\",\"active_scroll\":\"auto\",\"active_tap\":\"auto\",\"tools\":[{\"id\":\"913b5c9a-495c-4d1c-833b-e3e72d7d63c6\",\"type\":\"PanTool\"},{\"id\":\"b7421ba0-b454-4e47-8ed2-1cf92cef5d8f\",\"type\":\"WheelZoomTool\"},{\"id\":\"e983bc5a-45cf-4931-9585-1463f551d476\",\"type\":\"BoxZoomTool\"},{\"id\":\"ac6e4b05-8b21-4ca4-98be-e5a5fd682907\",\"type\":\"SaveTool\"},{\"id\":\"e5700ed0-2f6f-41da-aa4f-3355d3176907\",\"type\":\"ResetTool\"},{\"id\":\"c7d35a5d-7a19-41d2-b22d-e85dc235f619\",\"type\":\"HelpTool\"}]},\"id\":\"56eedf3a-6441-4c12-bbf8-08e34dfda225\",\"type\":\"Toolbar\"},{\"attributes\":{},\"id\":\"3ab261bd-33a2-4fc8-9509-278240a5ab67\",\"type\":\"BasicTickFormatter\"},{\"attributes\":{},\"id\":\"e5700ed0-2f6f-41da-aa4f-3355d3176907\",\"type\":\"ResetTool\"},{\"attributes\":{\"callback\":null},\"id\":\"def48a5e-ccd0-44ca-a4c4-04ed07ee2e3f\",\"type\":\"DataRange1d\"},{\"attributes\":{},\"id\":\"c7d35a5d-7a19-41d2-b22d-e85dc235f619\",\"type\":\"HelpTool\"},{\"attributes\":{},\"id\":\"bf7fc4ef-b643-4d93-b3a6-bb2ff800d9a9\",\"type\":\"LinearScale\"},{\"attributes\":{},\"id\":\"1603bc4b-c829-4897-806b-558f5ff17cb1\",\"type\":\"BasicTicker\"},{\"attributes\":{\"plot\":{\"id\":\"70e10303-43fc-44ae-a1ec-f3193400a7b1\",\"subtype\":\"Figure\",\"type\":\"Plot\"},\"ticker\":{\"id\":\"1603bc4b-c829-4897-806b-558f5ff17cb1\",\"type\":\"BasicTicker\"}},\"id\":\"554859af-aad3-4282-8c22-68a0ba30945d\",\"type\":\"Grid\"},{\"attributes\":{\"formatter\":{\"id\":\"38639514-4a04-4775-affb-bb8ae557c7d8\",\"type\":\"BasicTickFormatter\"},\"plot\":{\"id\":\"70e10303-43fc-44ae-a1ec-f3193400a7b1\",\"subtype\":\"Figure\",\"type\":\"Plot\"},\"ticker\":{\"id\":\"4801e300-cd71-457a-b0c1-7babf53db771\",\"type\":\"BasicTicker\"}},\"id\":\"6b62e388-5254-4b78-868d-0c9e97178eb0\",\"type\":\"LinearAxis\"},{\"attributes\":{},\"id\":\"4801e300-cd71-457a-b0c1-7babf53db771\",\"type\":\"BasicTicker\"},{\"attributes\":{\"dimension\":1,\"plot\":{\"id\":\"70e10303-43fc-44ae-a1ec-f3193400a7b1\",\"subtype\":\"Figure\",\"type\":\"Plot\"},\"ticker\":{\"id\":\"4801e300-cd71-457a-b0c1-7babf53db771\",\"type\":\"BasicTicker\"}},\"id\":\"fd3d6cc7-5e71-492e-b0ba-eff599c9cfe2\",\"type\":\"Grid\"},{\"attributes\":{\"below\":[{\"id\":\"6437be4c-7a5b-43ed-8fcf-d8344c3e6517\",\"type\":\"LinearAxis\"}],\"left\":[{\"id\":\"6b62e388-5254-4b78-868d-0c9e97178eb0\",\"type\":\"LinearAxis\"}],\"plot_height\":300,\"plot_width\":700,\"renderers\":[{\"id\":\"6437be4c-7a5b-43ed-8fcf-d8344c3e6517\",\"type\":\"LinearAxis\"},{\"id\":\"554859af-aad3-4282-8c22-68a0ba30945d\",\"type\":\"Grid\"},{\"id\":\"6b62e388-5254-4b78-868d-0c9e97178eb0\",\"type\":\"LinearAxis\"},{\"id\":\"fd3d6cc7-5e71-492e-b0ba-eff599c9cfe2\",\"type\":\"Grid\"},{\"id\":\"f3ea42a5-18cd-4ce8-90b5-b9dba9629774\",\"type\":\"BoxAnnotation\"},{\"id\":\"d77fcda3-5f9c-4a8b-9ba7-5419895529c5\",\"type\":\"GlyphRenderer\"}],\"title\":{\"id\":\"94109c38-6364-42af-815a-de0fad662c12\",\"type\":\"Title\"},\"toolbar\":{\"id\":\"56eedf3a-6441-4c12-bbf8-08e34dfda225\",\"type\":\"Toolbar\"},\"x_range\":{\"id\":\"f4ca60d9-5719-44c0-8098-070f02f1fb52\",\"type\":\"DataRange1d\"},\"x_scale\":{\"id\":\"017846b5-4a4a-45d9-915a-823eac0acdbe\",\"type\":\"LinearScale\"},\"y_range\":{\"id\":\"def48a5e-ccd0-44ca-a4c4-04ed07ee2e3f\",\"type\":\"DataRange1d\"},\"y_scale\":{\"id\":\"bf7fc4ef-b643-4d93-b3a6-bb2ff800d9a9\",\"type\":\"LinearScale\"}},\"id\":\"70e10303-43fc-44ae-a1ec-f3193400a7b1\",\"subtype\":\"Figure\",\"type\":\"Plot\"}],\"root_ids\":[\"70e10303-43fc-44ae-a1ec-f3193400a7b1\"]},\"title\":\"Bokeh Application\",\"version\":\"0.12.13\"}};\n",
       "  var render_items = [{\"docid\":\"47b29999-a5e7-4ecc-bc06-8b3e16ac1a31\",\"elementid\":\"227ea7ba-29f4-4754-8a87-893ce053c8fe\",\"modelid\":\"70e10303-43fc-44ae-a1ec-f3193400a7b1\"}];\n",
       "  root.Bokeh.embed.embed_items_notebook(docs_json, render_items);\n",
       "\n",
       "  }\n",
       "  if (root.Bokeh !== undefined) {\n",
       "    embed_document(root);\n",
       "  } else {\n",
       "    var attempts = 0;\n",
       "    var timer = setInterval(function(root) {\n",
       "      if (root.Bokeh !== undefined) {\n",
       "        embed_document(root);\n",
       "        clearInterval(timer);\n",
       "      }\n",
       "      attempts++;\n",
       "      if (attempts > 100) {\n",
       "        console.log(\"Bokeh: ERROR: Unable to run BokehJS code because BokehJS library is missing\")\n",
       "        clearInterval(timer);\n",
       "      }\n",
       "    }, 10, root)\n",
       "  }\n",
       "})(window);"
      ],
      "application/vnd.bokehjs_exec.v0+json": ""
     },
     "metadata": {
      "application/vnd.bokehjs_exec.v0+json": {
       "id": "70e10303-43fc-44ae-a1ec-f3193400a7b1"
      }
     },
     "output_type": "display_data"
    }
   ],
   "source": [
    "# NOTICE: In Jupyter and Python3 you can use UNICODE identifiers as variable names.\n",
    "#         Example: just type \\alpha and press <TAB>\n",
    "β = np.linspace(0, 3*np.pi, 700)\n",
    "fig = bk.figure(title=\"A simple Chirp\",\n",
    "                plot_width = 700, plot_height = 300)\n",
    "fig.title.text_font_size=\"18pt\"\n",
    "fig.line(β, np.sin(β**2), line_width=2, line_color='magenta')\n",
    "bk.show(fig)"
   ]
  },
  {
   "cell_type": "markdown",
   "metadata": {},
   "source": [
    "## 5 Interactive Widgets"
   ]
  },
  {
   "cell_type": "markdown",
   "metadata": {},
   "source": [
    "IPython comes with basic widgets that represent common interactive controls."
   ]
  },
  {
   "cell_type": "markdown",
   "metadata": {},
   "source": [
    "### 5.1 Plot controlled by Widgets"
   ]
  },
  {
   "cell_type": "code",
   "execution_count": 11,
   "metadata": {},
   "outputs": [
    {
     "data": {
      "application/vnd.jupyter.widget-view+json": {
       "model_id": "88dff6e9460c4d18a6d5b0264087eb2b",
       "version_major": 2,
       "version_minor": 0
      },
      "text/html": [
       "<p>Failed to display Jupyter Widget of type <code>interactive</code>.</p>\n",
       "<p>\n",
       "  If you're reading this message in the Jupyter Notebook or JupyterLab Notebook, it may mean\n",
       "  that the widgets JavaScript is still loading. If this message persists, it\n",
       "  likely means that the widgets JavaScript library is either not installed or\n",
       "  not enabled. See the <a href=\"https://ipywidgets.readthedocs.io/en/stable/user_install.html\">Jupyter\n",
       "  Widgets Documentation</a> for setup instructions.\n",
       "</p>\n",
       "<p>\n",
       "  If you're reading this message in another frontend (for example, a static\n",
       "  rendering on GitHub or <a href=\"https://nbviewer.jupyter.org/\">NBViewer</a>),\n",
       "  it may mean that your frontend doesn't currently support widgets.\n",
       "</p>\n"
      ],
      "text/plain": [
       "interactive(children=(FloatSlider(value=2.0, description='n', max=30.0, min=2.0), FloatSlider(value=1.0, description='lw', max=10.0, min=0.5, step=0.5), Dropdown(description='c', options=('blue', 'green', 'red'), value='blue'), Output()), _dom_classes=('widget-interact',))"
      ]
     },
     "metadata": {},
     "output_type": "display_data"
    }
   ],
   "source": [
    "import ipywidgets\n",
    "from ipywidgets import interact\n",
    "\n",
    "# Here \"interact\" is used as a decorator:\n",
    "@interact(n=(2.0,30.0), lw=(0.5, 10.0, 0.5), c=(['blue', 'green', 'red']))\n",
    "def edit_myplot(n=2.0, lw=1.0, c='blue'):\n",
    "    fig = bk.figure(title=\"An interactive Chirp\",\n",
    "                    plot_width = 700, plot_height = 300)\n",
    "    fig.title.text_font_size=\"18pt\"\n",
    "    fig.line(β, np.sin(β**n), line_width=lw, line_color=c)\n",
    "    bk.show(fig)\n",
    "    return"
   ]
  },
  {
   "cell_type": "markdown",
   "metadata": {},
   "source": [
    "### 5.2 Factorization Example using Interactive Widgets and SimPy"
   ]
  },
  {
   "cell_type": "code",
   "execution_count": 12,
   "metadata": {},
   "outputs": [],
   "source": [
    "from IPython.display import display\n",
    "from sympy import Symbol, Eq, factor, init_printing\n",
    "init_printing(use_latex='mathjax')"
   ]
  },
  {
   "cell_type": "code",
   "execution_count": 13,
   "metadata": {},
   "outputs": [],
   "source": [
    "def factorit(n):\n",
    "    x = Symbol('x')\n",
    "    display(Eq(x**n-1, factor(x**n-1)))"
   ]
  },
  {
   "cell_type": "code",
   "execution_count": 14,
   "metadata": {},
   "outputs": [
    {
     "data": {
      "application/vnd.jupyter.widget-view+json": {
       "model_id": "d0a9c338069f40738531eb33ed915f0e",
       "version_major": 2,
       "version_minor": 0
      },
      "text/html": [
       "<p>Failed to display Jupyter Widget of type <code>interactive</code>.</p>\n",
       "<p>\n",
       "  If you're reading this message in the Jupyter Notebook or JupyterLab Notebook, it may mean\n",
       "  that the widgets JavaScript is still loading. If this message persists, it\n",
       "  likely means that the widgets JavaScript library is either not installed or\n",
       "  not enabled. See the <a href=\"https://ipywidgets.readthedocs.io/en/stable/user_install.html\">Jupyter\n",
       "  Widgets Documentation</a> for setup instructions.\n",
       "</p>\n",
       "<p>\n",
       "  If you're reading this message in another frontend (for example, a static\n",
       "  rendering on GitHub or <a href=\"https://nbviewer.jupyter.org/\">NBViewer</a>),\n",
       "  it may mean that your frontend doesn't currently support widgets.\n",
       "</p>\n"
      ],
      "text/plain": [
       "interactive(children=(IntSlider(value=31, description='n', max=60, min=2), Output()), _dom_classes=('widget-interact',))"
      ]
     },
     "metadata": {},
     "output_type": "display_data"
    }
   ],
   "source": [
    "interact(factorit, n=(2,60));\n"
   ]
  },
  {
   "cell_type": "markdown",
   "metadata": {},
   "source": [
    "## 6 Markdown cells can contain formatted text and code"
   ]
  },
  {
   "cell_type": "markdown",
   "metadata": {},
   "source": [
    "You can *italicize*, **boldface** or `typewrite` text\n",
    "\n",
    "* build\n",
    "* lists\n",
    "\n",
    "and embed code meant for illustration instead of execution in Python:\n",
    "\n",
    "    def f(x):\n",
    "        \"\"\"a docstring\"\"\"\n",
    "        return x**2\n",
    "\n",
    "or other languages:\n",
    "\n",
    "    if (i=0; i<n; i++) {\n",
    "      printf(\"hello %d\\n\", i);\n",
    "      x += 4;\n",
    "    }\n",
    "\n",
    "Courtesy of [MathJax](http://www.mathjax.org/), you can include mathematical expressions both inline: \n",
    "$e^{i\\pi} + 1 = 0$  and displayed:\n",
    "\n",
    "$$ {\\partial{\\bf u}\\over{\\partial t}} + ({\\bf u} \\cdot \\nabla) {\\bf u} = - {1\\over\\rho} \\nabla p + \\gamma\\nabla^2{\\bf u} + {1\\over\\rho}{\\bf F} $$"
   ]
  },
  {
   "cell_type": "markdown",
   "metadata": {},
   "source": [
    "## 7 Rich display: include anything a browser can show"
   ]
  },
  {
   "cell_type": "markdown",
   "metadata": {},
   "source": [
    "Note that we have an actual protocol for this, see the `display_protocol` notebook for further details."
   ]
  },
  {
   "cell_type": "markdown",
   "metadata": {},
   "source": [
    "### 7.1 Videos"
   ]
  },
  {
   "cell_type": "code",
   "execution_count": 15,
   "metadata": {},
   "outputs": [
    {
     "data": {
      "image/jpeg": "[encoded data removed]",
      "text/html": [
       "\n",
       "        <iframe\n",
       "            width=\"800\"\n",
       "            height=\"420\"\n",
       "            src=\"https://www.youtube.com/embed/Rc4JQWowG5I\"\n",
       "            frameborder=\"0\"\n",
       "            allowfullscreen\n",
       "        ></iframe>\n",
       "        "
      ],
      "text/plain": [
       "<IPython.lib.display.YouTubeVideo at 0x7fd8d0321f98>"
      ]
     },
     "execution_count": 15,
     "metadata": {},
     "output_type": "execute_result"
    }
   ],
   "source": [
    "# Video credit: Fernando Pérez, Brian E. Granger, Min Ragan-Kelley\n",
    "from IPython.display import YouTubeVideo\n",
    "YouTubeVideo('Rc4JQWowG5I', width=800, height=420)"
   ]
  },
  {
   "cell_type": "markdown",
   "metadata": {},
   "source": [
    "### 7.2 External Websites"
   ]
  },
  {
   "cell_type": "markdown",
   "metadata": {},
   "source": [
    "You can even embed an entire page from another site in an iframe; for example this is today's Wikipedia\n",
    "page for mobile users:"
   ]
  },
  {
   "cell_type": "code",
   "execution_count": 16,
   "metadata": {},
   "outputs": [
    {
     "data": {
      "text/html": [
       "<iframe src=\"http://jupyter.org/\" width=800 height=350>"
      ],
      "text/plain": [
       "<IPython.core.display.HTML object>"
      ]
     },
     "execution_count": 16,
     "metadata": {},
     "output_type": "execute_result"
    }
   ],
   "source": [
    "from IPython.display import HTML\n",
    "HTML('<iframe src=\"http://jupyter.org/\" width=800 height=350>')\n"
   ]
  },
  {
   "cell_type": "markdown",
   "metadata": {},
   "source": [
    "## 8 Loading external codes"
   ]
  },
  {
   "cell_type": "markdown",
   "metadata": {},
   "source": [
    "* Drag and drop a ``.py`` in the dashboard\n",
    "* Use ``%load`` with any local or remote url: [the Matplotlib Gallery!](http://matplotlib.sourceforge.net/gallery.html)\n",
    "\n",
    "In this notebook we've kept the output saved so you can see the result, remove the comment `#` and run the next cell (with an active internet connection)."
   ]
  },
  {
   "cell_type": "code",
   "execution_count": 17,
   "metadata": {},
   "outputs": [],
   "source": [
    "%matplotlib inline"
   ]
  },
  {
   "cell_type": "code",
   "execution_count": 18,
   "metadata": {},
   "outputs": [],
   "source": [
    "# %load http://matplotlib.org/mpl_examples/pie_and_polar_charts/polar_scatter_demo.py"
   ]
  },
  {
   "cell_type": "code",
   "execution_count": 19,
   "metadata": {},
   "outputs": [
    {
     "data": {
      "image/png": "[encoded data removed]",
      "text/plain": [
       "<matplotlib.figure.Figure at 0x7fd8cc74c3c8>"
      ]
     },
     "metadata": {},
     "output_type": "display_data"
    }
   ],
   "source": [
    "\"\"\"\n",
    "Demo of scatter plot on a polar axis.\n",
    "\n",
    "Size increases radially in this example and color increases with angle (just to\n",
    "verify the symbols are being scattered correctly).\n",
    "\"\"\"\n",
    "import numpy as np\n",
    "import matplotlib.pyplot as plt\n",
    "\n",
    "\n",
    "N = 150\n",
    "r = 2 * np.random.rand(N)\n",
    "theta = 2 * np.pi * np.random.rand(N)\n",
    "area = 200 * r**2 * np.random.rand(N)\n",
    "colors = theta\n",
    "\n",
    "ax = plt.subplot(111, polar=True)\n",
    "c = plt.scatter(theta, r, c=colors, s=area, cmap=plt.cm.hsv)\n",
    "c.set_alpha(0.75)\n",
    "\n",
    "plt.show()"
   ]
  },
  {
   "cell_type": "markdown",
   "metadata": {},
   "source": [
    "---\n",
    "\n",
    "Visit [www.add-for.com](<http://www.add-for.com/IT>) for more tutorials and updates.\n",
    "\n",
    "This work is licensed under a <a rel=\"license\" href=\"http://creativecommons.org/licenses/by-sa/4.0/\">Creative Commons Attribution-ShareAlike 4.0 International License</a>."
   ]
  }
 ],
 "metadata": {
  "anaconda-cloud": {},
  "kernelspec": {
   "display_name": "Python [conda env:addfor_tutorials]",
   "language": "python",
   "name": "conda-env-addfor_tutorials-py"
  },
  "language_info": {
   "codemirror_mode": {
    "name": "ipython",
    "version": 3
   },
   "file_extension": ".py",
   "mimetype": "text/x-python",
   "name": "python",
   "nbconvert_exporter": "python",
   "pygments_lexer": "ipython3",
   "version": "3.6.4"
  },
  "widgets": {
   "state": {
    "290219aef8f04d10ba6dfb0a7015c10c": {
     "views": [
      {
       "cell_index": 37
      }
     ]
    },
    "dd4169ebfaba4975a24ba63fcb2ca1f7": {
     "views": [
      {
       "cell_index": 41
      }
     ]
    }
   },
   "version": "1.2.0"
  }
 },
 "nbformat": 4,
 "nbformat_minor": 1
}
