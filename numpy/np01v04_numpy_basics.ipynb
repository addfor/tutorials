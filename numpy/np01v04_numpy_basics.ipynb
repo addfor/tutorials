{
 "cells": [
  {
   "cell_type": "markdown",
   "metadata": {},
   "source": [
    "# Numpy Basic Concepts"
   ]
  },
  {
   "cell_type": "code",
   "execution_count": 1,
   "metadata": {},
   "outputs": [
    {
     "data": {
      "text/html": [
       "<div id='toc-container'><script type='text/javascript'>\n",
       "$(function() {\n",
       "    function regenTOC(){\n",
       "        element = $(\"#toc-container\");\n",
       "\n",
       "\tvar toc = document.createElement(\"div\");\n",
       "\t$(toc).attr(\"class\", \"table-of-contents\");\n",
       "\n",
       "\tvar curLevel = 0;\n",
       "\tvar containerStack = [toc];\n",
       "\tvar levelOfTag = {\"h2\": 1, \"h3\": 2, \"h4\": 3, \"h5\": 4};\n",
       "\n",
       "\tfunction pushLevel() {\n",
       "            var list = document.createElement(\"ul\");\n",
       "            containerStack.push(list);\n",
       "            curLevel++;\n",
       "\t}\n",
       "\t\n",
       "\tfunction popLevel() {\n",
       "            var lastContainer = containerStack.pop();\n",
       "            $(lastContainer).appendTo(containerStack[containerStack.length - 1]);\n",
       "            curLevel--;\n",
       "\t}\n",
       "\t\n",
       "\t$(\".text_cell_render :header\").each(function (i, elem) {\n",
       "            var level = levelOfTag[ elem.tagName.toLowerCase() ];\n",
       "\n",
       "            if (level === undefined)\n",
       "\t\treturn;\n",
       "\n",
       "            while (curLevel < level)\n",
       "\t\tpushLevel();\n",
       "            while (curLevel > level)\n",
       "\t\tpopLevel();\n",
       "            \n",
       "            var listItem = document.createElement(\"li\");\n",
       "            var link = document.createElement(\"a\");\n",
       "            $(link)\n",
       "\t\t.text($(elem).contents().first().text()) // Remove the pilcrow sign\n",
       "\t\t.attr(\"href\", \"#\" + $(elem).attr(\"id\"))\n",
       "\t\t.appendTo(listItem);\n",
       "            $(listItem).appendTo(containerStack[containerStack.length - 1]);\n",
       "\t});\n",
       "\t\n",
       "\twhile (curLevel > 0)\n",
       "            popLevel();\n",
       "\n",
       "        $(\"<a class='btn-update' href='#'>Update</a>\")\n",
       "          .click(regenTOC).prependTo(toc);\n",
       "\n",
       "\t$(toc).prepend(\"<div class='title'>Contents</div>\")\n",
       "          .wrap(\"<div class='toc-headings'/>\");\n",
       "\n",
       "        $(element).empty();\n",
       "        $(element).append(toc);\n",
       "    }\n",
       "\n",
       "    if (typeof(IPython) !== 'undefined')\n",
       "        $([IPython.events]).on('notebook_loaded.Notebook', regenTOC);\n",
       "    regenTOC();\n",
       "});\n",
       "\n",
       "</script></div>"
      ],
      "text/plain": [
       "<IPython.core.display.HTML object>"
      ]
     },
     "execution_count": 1,
     "metadata": {},
     "output_type": "execute_result"
    }
   ],
   "source": [
    "import addutils.toc ; addutils.toc.js(ipy_notebook=True)"
   ]
  },
  {
   "cell_type": "code",
   "execution_count": 2,
   "metadata": {},
   "outputs": [
    {
     "data": {
      "text/html": [
       "<style>\n",
       ".text_cell_render @font-face {\n",
       "    font-family: \"Computer Modern\";\n",
       "    src: url('http://mirrors.ctan.org/fonts/cm-unicode/fonts/otf/cmunss.otf');\n",
       "}\n",
       "\n",
       "div.cell {\n",
       "    width: 900px;\n",
       "    margin-left: 0% !important;\n",
       "    margin-right: 0%;\n",
       "}\n",
       "\n",
       "code {\n",
       "    font-size:10pt;\n",
       "}\n",
       "\n",
       ".text_cell_render  h1 {\n",
       "    font-family: Tahoma, sans-serif;\n",
       "    color: rgb( 10, 88, 126 );\n",
       "    font-size:28pt;\n",
       "}\n",
       ".text_cell_render h2 {\n",
       "    font-family: Tahoma, sans-serif;\n",
       "    color: rgb( 10, 88, 126 );\n",
       "    font-size:24pt;\n",
       "}\n",
       ".text_cell_render h3 {\n",
       "    font-family: Tahoma, sans-serif;\n",
       "    color: rgb( 10, 88, 126 );\n",
       "    font-size:20pt;\n",
       "}\n",
       ".text_cell_render h4 {\n",
       "    font-family: Tahoma, sans-serif;\n",
       "    color: rgb( 10, 88, 126 );\n",
       "    font-size:18pt;\n",
       "    margin-top:12px;\n",
       "    margin-bottom: 3px;\n",
       "}\n",
       "\n",
       ".text_cell_render h5 {\n",
       "    font-weight: 300;\n",
       "    font-size: 11pt;\n",
       "    color: rgb( 48, 48, 48 );\n",
       "    font-style: italic;\n",
       "    margin-bottom: .5em;\n",
       "    margin-top: 0.5em;\n",
       "    display: block;\n",
       "}\n",
       "\n",
       ".text_cell_render ul {\n",
       "    font-family: Tahoma, sans-serif;\n",
       "    color: rgb( 90, 90, 90 );\n",
       "    font-size:11pt;\n",
       "    line-height: 185%;\n",
       "}\n",
       "\n",
       ".text_cell_render yp {\n",
       "    font-family: Tahoma, sans-serif;\n",
       "    color: rgb( 90, 90, 90 );\n",
       "    font-size:11pt;\n",
       "}\n",
       "\n",
       ".text_cell_render strong {\n",
       "    font-family: Tahoma, sans-serif;\n",
       "    color: rgb( 30, 30, 30 );\n",
       "    font-size:11pt;\n",
       "}\n",
       "\n",
       ".text_cell_render a:link {\n",
       "    font-family: Tahoma, sans-serif;\n",
       "    color: rgb( 10, 88, 126 );\n",
       "    font-size:11pt;\n",
       "}\n",
       "\n",
       ".text_cell_render a:visited {\n",
       "    color:rgb( 10, 88, 126 );\n",
       "}\n",
       "\n",
       ".text_cell_render {\n",
       "    font-family: Helvetica, Courier, Computer Modern, \"Helvetica Neue\", Arial, Geneva, sans-serif;\n",
       "    color: rgb( 84, 84, 84 );\n",
       "    font-size:11pt;\n",
       "    line-height: 125%;\n",
       "    font-size: 100%;\n",
       "    width:800px;\n",
       "}\n",
       "\n",
       ".CodeMirror {\n",
       "    font-family: Courier, \"Source Code Pro\", source-code-pro,Consolas, monospace;\n",
       "}\n",
       "\n",
       ".warning {\n",
       "    color: rgb( 240, 20, 20 );\n",
       "}\n",
       "\n",
       "/* Pandas tables */\n",
       "/*\n",
       ".rendered_html td {\n",
       "    text-align: right;\n",
       "}\n",
       "*/\n",
       "\n",
       "table.dataframe td {\n",
       "    text-align: right;\n",
       "}\n",
       "\n",
       ".output .table-of-contents {\n",
       "    border: 1px #cecece solid;\n",
       "    background-color: #fafafa;\n",
       "    padding-top: 10px;\n",
       "    padding-bottom: 5px;\n",
       "    padding-right: 15px;\n",
       "    padding-left: 0px;\n",
       "    margin-bottom: 20px;\n",
       "    display: inline-block;\n",
       "    position: relative;\n",
       "}\n",
       "\n",
       ".output .table-of-contents ul {\n",
       "    list-style-type: none;\n",
       "    padding-left: 20px;\n",
       "}\n",
       "\n",
       ".output .table-of-contents .title {\n",
       "    font-weight: bold;\n",
       "    font-height: 11pt;\n",
       "    padding-left: 20px; /* looks better if it's the same to the <ul> */\n",
       "}\n",
       "\n",
       ".output .table-of-contents .btn-update {\n",
       "    position: absolute;\n",
       "    float: right;\n",
       "    right: 11px;\n",
       "    top: 4px;\n",
       "    font-size: 9pt;\n",
       "}\n",
       "\n",
       "</style>\n",
       "<script>\n",
       "    MathJax.Hub.Config({\n",
       "                        TeX: {\n",
       "                           extensions: [\"AMSmath.js\"]\n",
       "                           },\n",
       "                displayAlign: 'center', // Change this to 'center' to center equations.\n",
       "                \"HTML-CSS\": {\n",
       "                    styles: {'.MathJax_Display': {\"margin\": 4}}\n",
       "                }\n",
       "        });\n",
       "</script>\n"
      ],
      "text/plain": [
       "<IPython.core.display.HTML object>"
      ]
     },
     "execution_count": 2,
     "metadata": {},
     "output_type": "execute_result"
    }
   ],
   "source": [
    "from addutils import css_notebook\n",
    "css_notebook()"
   ]
  },
  {
   "cell_type": "markdown",
   "metadata": {},
   "source": [
    "## 1 What is Numpy ?"
   ]
  },
  {
   "cell_type": "markdown",
   "metadata": {},
   "source": [
    "NumPy is the fundamental package for scientific computing with Python. It is:\n",
    "\n",
    "* a powerful Python extension for N-dimensional array\n",
    "* a tool for integrating C/C++ and Fortran code\n",
    "* designed for scientific computation: linear algebra and Signal Analysis\n",
    "\n",
    "If you are a MATLAB&reg; user we recommend to read [Numpy for MATLAB Users](http://www.scipy.org/NumPy_for_Matlab_Users) and [Benefit of Open Source Python versus commercial packages](http://www.scipy.org/NumPyProConPage). For an idea of the Open Source Approach to science, we suggest the [Science Code Manifesto](http://sciencecodemanifesto.org/)"
   ]
  },
  {
   "cell_type": "markdown",
   "metadata": {},
   "source": [
    "### 1.1 Documentation and reference:"
   ]
  },
  {
   "cell_type": "markdown",
   "metadata": {},
   "source": [
    "* [Numpy Reference guide](http://docs.scipy.org/doc/numpy/reference/)\n",
    "* [SciPy Reference](http://docs.scipy.org/doc/scipy/reference/)\n",
    "* [Scipy Topical Software](http://www.scipy.org/Topical_Software)\n",
    "* [Numpy Functions by Category](http://www.scipy.org/Numpy_Functions_by_Category)\n",
    "* [Numpy Example List With Doc](http://www.scipy.org/Numpy_Example_List_With_Doc)  "
   ]
  },
  {
   "cell_type": "markdown",
   "metadata": {},
   "source": [
    "Lets start by checking the Numpy version used in this Notebook:"
   ]
  },
  {
   "cell_type": "code",
   "execution_count": 3,
   "metadata": {},
   "outputs": [
    {
     "name": "stdout",
     "output_type": "stream",
     "text": [
      "numpy version:  1.14.0\n"
     ]
    }
   ],
   "source": [
    "import numpy as np\n",
    "print ('numpy version: ', np.__version__)"
   ]
  },
  {
   "cell_type": "markdown",
   "metadata": {},
   "source": [
    "## 2 Array Creation"
   ]
  },
  {
   "cell_type": "markdown",
   "metadata": {},
   "source": [
    "NumPy's main object is the homogeneous ***multidimensional array***. It is a table of elements (usually numbers), all of the same type. In Numpy dimensions are called ***axes***. The number of axes is called ***rank***. The most important attributes of an ndarray object are:\n",
    "\n",
    "* **ndarray.ndim**     - the number of axes (dimensions) of the array. \n",
    "* **ndarray.shape**    - the dimensions of the array. For a matrix with n rows and m columns, shape will be (n,m). \n",
    "* **ndarray.size**     - the total number of elements of the array. \n",
    "* **ndarray.dtype**    - numpy.int32, numpy.int16, and numpy.float64 are some examples. \n",
    "* **ndarray.itemsize** - the size in bytes of elements of the array. For example, elements of type float64 has itemsize 8 (=64/8) "
   ]
  },
  {
   "cell_type": "code",
   "execution_count": 4,
   "metadata": {},
   "outputs": [
    {
     "name": "stdout",
     "output_type": "stream",
     "text": [
      "Rows:003 ; Cols:003\n"
     ]
    }
   ],
   "source": [
    "a = np.array([[0,1,2,3], [4,5,6,7], [8,9,10,11]])\n",
    "rows, cols = np.shape(a)\n",
    "print ('Rows:{0:03d} ; Cols:{0:03d}'.format(rows, cols))"
   ]
  },
  {
   "cell_type": "markdown",
   "metadata": {},
   "source": [
    "**Try by yourself**   the following commands *(type or paste the commands in the cell below)*:\n",
    "\n",
    "    a.ndim                  # Number of dimensions\n",
    "    print a.dtype.name      # Type of data\n",
    "    a.itemsize              # Size in bytes of elements\n",
    "    a.size                  # Number of elements in the array"
   ]
  },
  {
   "cell_type": "code",
   "execution_count": 5,
   "metadata": {},
   "outputs": [
    {
     "data": {
      "text/plain": [
       "2"
      ]
     },
     "execution_count": 5,
     "metadata": {},
     "output_type": "execute_result"
    }
   ],
   "source": [
    "a.ndim"
   ]
  },
  {
   "cell_type": "markdown",
   "metadata": {},
   "source": [
    "The type of the array can be specified at creation time:"
   ]
  },
  {
   "cell_type": "code",
   "execution_count": 6,
   "metadata": {},
   "outputs": [
    {
     "name": "stdout",
     "output_type": "stream",
     "text": [
      "[[2.+0.j 3.+0.j]\n",
      " [6.+0.j 7.+0.j]]\n"
     ]
    }
   ],
   "source": [
    "b = np.array([[2,3], [6,7]], dtype=np.complex64)\n",
    "print (b)"
   ]
  },
  {
   "cell_type": "markdown",
   "metadata": {},
   "source": [
    "### 2.1 Array creation functions"
   ]
  },
  {
   "cell_type": "markdown",
   "metadata": {},
   "source": [
    "Often, the elements of an array are originally unknown, but its size is known. Hence, **NumPy** offers several functions to create arrays with initial placeholder content.\n",
    "\n",
    "The function `zeros` creates an array full of zeros, the function `ones` creates an array full of ones, and the function `empty` creates an array whose initial content is random and depends on the state of the memory. By default, the dtype of the created array is float64.  \n",
    "***Try by yourself*** the following commands:\n",
    "\n",
    "    zeros((3,4))\n",
    "    ones((3,4))\n",
    "    empty((2,3))\n",
    "    eye(3)\n",
    "    diag(np.arange(5))\n",
    "    np.tile(np.array([[6, 7], [8, 9]]), (2, 2))"
   ]
  },
  {
   "cell_type": "code",
   "execution_count": 7,
   "metadata": {},
   "outputs": [
    {
     "data": {
      "text/plain": [
       "array([[0., 0., 0., 0.],\n",
       "       [0., 0., 0., 0.],\n",
       "       [0., 0., 0., 0.]])"
      ]
     },
     "execution_count": 7,
     "metadata": {},
     "output_type": "execute_result"
    }
   ],
   "source": [
    "np.zeros((3,4))"
   ]
  },
  {
   "cell_type": "markdown",
   "metadata": {},
   "source": [
    "`zeros_like, ones_like` and `empty_like` can be used to create arrays of the same type of a given one"
   ]
  },
  {
   "cell_type": "code",
   "execution_count": 8,
   "metadata": {},
   "outputs": [
    {
     "data": {
      "text/plain": [
       "array([[0.+0.j, 0.+0.j],\n",
       "       [0.+0.j, 0.+0.j]], dtype=complex64)"
      ]
     },
     "execution_count": 8,
     "metadata": {},
     "output_type": "execute_result"
    }
   ],
   "source": [
    "np.zeros_like(b)"
   ]
  },
  {
   "cell_type": "markdown",
   "metadata": {},
   "source": [
    "### 2.2 Sequences and reshaping"
   ]
  },
  {
   "cell_type": "markdown",
   "metadata": {},
   "source": [
    "Arrays can be created with ***linspace***, ***logspace*** (returning evenly spaced numbers, linear or logarithmic) or ***arange*** and then shaped in matrix form. **mgrid** is like the equivaled \"meshgrid\" in MATLAB."
   ]
  },
  {
   "cell_type": "code",
   "execution_count": 9,
   "metadata": {},
   "outputs": [
    {
     "data": {
      "text/plain": [
       "array([1.e+01, 1.e+03, 1.e+05])"
      ]
     },
     "execution_count": 9,
     "metadata": {},
     "output_type": "execute_result"
    }
   ],
   "source": [
    "np.logspace(1,5,3)"
   ]
  },
  {
   "cell_type": "code",
   "execution_count": 10,
   "metadata": {
    "collapsed": true
   },
   "outputs": [],
   "source": [
    "x = np.arange(4).reshape(2,2)"
   ]
  },
  {
   "cell_type": "code",
   "execution_count": 11,
   "metadata": {},
   "outputs": [
    {
     "name": "stdout",
     "output_type": "stream",
     "text": [
      "[[ 0  1  2]\n",
      " [10 11 12]\n",
      " [20 21 22]\n",
      " [30 31 32]]\n"
     ]
    }
   ],
   "source": [
    "# Use List comprehention to create a matrix\n",
    "c = np.array([[10*j+i for i in range(3)] for j in range(4)])\n",
    "print (c)"
   ]
  },
  {
   "cell_type": "markdown",
   "metadata": {},
   "source": [
    "Use *'newaxis'* to add a dimension (as for turning a row vector in a column vector):"
   ]
  },
  {
   "cell_type": "code",
   "execution_count": 12,
   "metadata": {},
   "outputs": [
    {
     "name": "stdout",
     "output_type": "stream",
     "text": [
      "[ 0.  3.  6.  9. 12.]\n",
      "[[ 0.]\n",
      " [ 3.]\n",
      " [ 6.]\n",
      " [ 9.]\n",
      " [12.]]\n"
     ]
    }
   ],
   "source": [
    "d = np.linspace(0, 12, 5)\n",
    "print (d)\n",
    "print (d[:, np.newaxis])       # make into a column vector"
   ]
  },
  {
   "cell_type": "code",
   "execution_count": 13,
   "metadata": {},
   "outputs": [
    {
     "data": {
      "text/plain": [
       "array([[0, 0, 0, 0, 0],\n",
       "       [1, 1, 1, 1, 1],\n",
       "       [2, 2, 2, 2, 2],\n",
       "       [3, 3, 3, 3, 3],\n",
       "       [4, 4, 4, 4, 4]])"
      ]
     },
     "execution_count": 13,
     "metadata": {},
     "output_type": "execute_result"
    }
   ],
   "source": [
    "X, Y = np.mgrid[0:5, 0:5] # similar to meshgrid in MATLAB\n",
    "X"
   ]
  },
  {
   "cell_type": "code",
   "execution_count": 14,
   "metadata": {},
   "outputs": [
    {
     "data": {
      "text/plain": [
       "array([[0, 1, 2, 3, 4],\n",
       "       [0, 1, 2, 3, 4],\n",
       "       [0, 1, 2, 3, 4],\n",
       "       [0, 1, 2, 3, 4],\n",
       "       [0, 1, 2, 3, 4]])"
      ]
     },
     "execution_count": 14,
     "metadata": {},
     "output_type": "execute_result"
    }
   ],
   "source": [
    "Y"
   ]
  },
  {
   "cell_type": "markdown",
   "metadata": {},
   "source": [
    "### 2.3 Sparse Matrices"
   ]
  },
  {
   "cell_type": "markdown",
   "metadata": {},
   "source": [
    "We can create and manipulate sparse matrices as follows:"
   ]
  },
  {
   "cell_type": "code",
   "execution_count": 15,
   "metadata": {},
   "outputs": [
    {
     "name": "stdout",
     "output_type": "stream",
     "text": [
      "[[0.         0.98504109 0.         0.         0.         0.        ]\n",
      " [0.         0.         0.         0.         0.         0.        ]\n",
      " [0.9162166  0.98541899 0.         0.         0.         0.92056172]\n",
      " [0.         0.         0.         0.         0.         0.        ]\n",
      " [0.96641771 0.         0.         0.85129445 0.         0.        ]]\n",
      "  (0, 1)\t0.9850410857596115\n",
      "  (2, 0)\t0.9162165982459893\n",
      "  (2, 1)\t0.9854189872420578\n",
      "  (2, 5)\t0.9205617206831753\n",
      "  (4, 0)\t0.9664177063354042\n",
      "  (4, 3)\t0.8512944469813816\n"
     ]
    }
   ],
   "source": [
    "from scipy import sparse\n",
    "X = np.random.random((5, 6)) # Create an array with many zeros\n",
    "X[X < 0.85] = 0\n",
    "print (X)\n",
    "X_csr = sparse.csr_matrix(X) # turn X into a csr (Compressed-Sparse-Row) matrix\n",
    "print (X_csr)"
   ]
  },
  {
   "cell_type": "code",
   "execution_count": 16,
   "metadata": {},
   "outputs": [
    {
     "name": "stdout",
     "output_type": "stream",
     "text": [
      "[[0.         0.98504109 0.         0.         0.         0.        ]\n",
      " [0.         0.         0.         0.         0.         0.        ]\n",
      " [0.9162166  0.98541899 0.         0.         0.         0.92056172]\n",
      " [0.         0.         0.         0.         0.         0.        ]\n",
      " [0.96641771 0.         0.         0.85129445 0.         0.        ]]\n"
     ]
    }
   ],
   "source": [
    "print (X_csr.toarray())       # convert back to a dense array"
   ]
  },
  {
   "cell_type": "markdown",
   "metadata": {},
   "source": [
    "There are several other sparse formats that can be useful for various problems:\n",
    "\n",
    "- `CSC` (compressed sparse column)\n",
    "- `BSR` (block sparse row)\n",
    "- `COO` (coordinate)\n",
    "- `DIA` (diagonal)\n",
    "- `DOK` (dictionary of keys)\n",
    "\n",
    "The ``scipy.sparse`` submodule also has a lot of functions for sparse matrices\n",
    "including linear algebra, sparse solvers, graph algorithms, and much more."
   ]
  },
  {
   "cell_type": "markdown",
   "metadata": {},
   "source": [
    "### 2.4 Random Numbers"
   ]
  },
  {
   "cell_type": "code",
   "execution_count": 17,
   "metadata": {},
   "outputs": [
    {
     "data": {
      "text/plain": [
       "array([[0.00951438, 0.67024968, 0.31266326, 0.24734842, 0.88910001],\n",
       "       [0.13621409, 0.07298403, 0.40775148, 0.3479568 , 0.77568373],\n",
       "       [0.0965207 , 0.45848056, 0.92937254, 0.36836279, 0.08428623],\n",
       "       [0.80448692, 0.62520354, 0.82029522, 0.90013625, 0.61436391]])"
      ]
     },
     "execution_count": 17,
     "metadata": {},
     "output_type": "execute_result"
    }
   ],
   "source": [
    "np.random.rand(4,5) # uniform random numbers in [0,1]"
   ]
  },
  {
   "cell_type": "code",
   "execution_count": 18,
   "metadata": {},
   "outputs": [
    {
     "data": {
      "text/plain": [
       "array([[ 0.96330277, -1.03009588, -0.33519208, -0.57506637,  1.58926967],\n",
       "       [ 0.03670511, -0.0458585 ,  0.44499843, -1.26472212,  0.68910083],\n",
       "       [ 1.16036821, -0.26354943,  0.64565866,  1.48429238, -1.94999384],\n",
       "       [-0.41986821,  1.70296555,  0.39815986, -0.07464821, -0.1471213 ]])"
      ]
     },
     "execution_count": 18,
     "metadata": {},
     "output_type": "execute_result"
    }
   ],
   "source": [
    "np.random.randn(4,5) # standard normal distributed random numbers"
   ]
  },
  {
   "cell_type": "markdown",
   "metadata": {},
   "source": [
    "### 2.5 Casting"
   ]
  },
  {
   "cell_type": "markdown",
   "metadata": {},
   "source": [
    "Forced casts:"
   ]
  },
  {
   "cell_type": "code",
   "execution_count": 19,
   "metadata": {},
   "outputs": [
    {
     "data": {
      "text/plain": [
       "array([1, 1, 1])"
      ]
     },
     "execution_count": 19,
     "metadata": {},
     "output_type": "execute_result"
    }
   ],
   "source": [
    "a = np.array([1.7, 1.2, 1.6])\n",
    "b = a.astype(int)           # <-- truncates to integer\n",
    "b"
   ]
  },
  {
   "cell_type": "markdown",
   "metadata": {},
   "source": [
    "Rounding:"
   ]
  },
  {
   "cell_type": "code",
   "execution_count": 20,
   "metadata": {},
   "outputs": [
    {
     "name": "stdout",
     "output_type": "stream",
     "text": [
      "[1. 2. 2. 2. 4. 4.]\n",
      "[1 2 2 2 4 4]\n"
     ]
    }
   ],
   "source": [
    "a = np.array([1.2, 1.5, 1.6, 2.5, 3.5, 4.5])\n",
    "b = np.around(a)\n",
    "print (b)                     # still floating-point\n",
    "c = np.around(a).astype(int)\n",
    "print (c)"
   ]
  },
  {
   "cell_type": "markdown",
   "metadata": {},
   "source": [
    "## 3 Basic Visualization with Bokeh"
   ]
  },
  {
   "cell_type": "code",
   "execution_count": 21,
   "metadata": {},
   "outputs": [
    {
     "data": {
      "text/html": [
       "\n",
       "    <div class=\"bk-root\">\n",
       "        <a href=\"https://bokeh.pydata.org\" target=\"_blank\" class=\"bk-logo bk-logo-small bk-logo-notebook\"></a>\n",
       "        <span id=\"54e5bc7d-ea16-44dd-aa68-717050391d13\">Loading BokehJS ...</span>\n",
       "    </div>"
      ]
     },
     "metadata": {},
     "output_type": "display_data"
    },
    {
     "data": {
      "application/javascript": [
       "\n",
       "(function(root) {\n",
       "  function now() {\n",
       "    return new Date();\n",
       "  }\n",
       "\n",
       "  var force = true;\n",
       "\n",
       "  if (typeof (root._bokeh_onload_callbacks) === \"undefined\" || force === true) {\n",
       "    root._bokeh_onload_callbacks = [];\n",
       "    root._bokeh_is_loading = undefined;\n",
       "  }\n",
       "\n",
       "  var JS_MIME_TYPE = 'application/javascript';\n",
       "  var HTML_MIME_TYPE = 'text/html';\n",
       "  var EXEC_MIME_TYPE = 'application/vnd.bokehjs_exec.v0+json';\n",
       "  var CLASS_NAME = 'output_bokeh rendered_html';\n",
       "\n",
       "  /**\n",
       "   * Render data to the DOM node\n",
       "   */\n",
       "  function render(props, node) {\n",
       "    var script = document.createElement(\"script\");\n",
       "    node.appendChild(script);\n",
       "  }\n",
       "\n",
       "  /**\n",
       "   * Handle when an output is cleared or removed\n",
       "   */\n",
       "  function handleClearOutput(event, handle) {\n",
       "    var cell = handle.cell;\n",
       "\n",
       "    var id = cell.output_area._bokeh_element_id;\n",
       "    var server_id = cell.output_area._bokeh_server_id;\n",
       "    // Clean up Bokeh references\n",
       "    if (id !== undefined) {\n",
       "      Bokeh.index[id].model.document.clear();\n",
       "      delete Bokeh.index[id];\n",
       "    }\n",
       "\n",
       "    if (server_id !== undefined) {\n",
       "      // Clean up Bokeh references\n",
       "      var cmd = \"from bokeh.io.state import curstate; print(curstate().uuid_to_server['\" + server_id + \"'].get_sessions()[0].document.roots[0]._id)\";\n",
       "      cell.notebook.kernel.execute(cmd, {\n",
       "        iopub: {\n",
       "          output: function(msg) {\n",
       "            var element_id = msg.content.text.trim();\n",
       "            Bokeh.index[element_id].model.document.clear();\n",
       "            delete Bokeh.index[element_id];\n",
       "          }\n",
       "        }\n",
       "      });\n",
       "      // Destroy server and session\n",
       "      var cmd = \"import bokeh.io.notebook as ion; ion.destroy_server('\" + server_id + \"')\";\n",
       "      cell.notebook.kernel.execute(cmd);\n",
       "    }\n",
       "  }\n",
       "\n",
       "  /**\n",
       "   * Handle when a new output is added\n",
       "   */\n",
       "  function handleAddOutput(event, handle) {\n",
       "    var output_area = handle.output_area;\n",
       "    var output = handle.output;\n",
       "\n",
       "    // limit handleAddOutput to display_data with EXEC_MIME_TYPE content only\n",
       "    if ((output.output_type != \"display_data\") || (!output.data.hasOwnProperty(EXEC_MIME_TYPE))) {\n",
       "      return\n",
       "    }\n",
       "\n",
       "    var toinsert = output_area.element.find(\".\" + CLASS_NAME.split(' ')[0]);\n",
       "\n",
       "    if (output.metadata[EXEC_MIME_TYPE][\"id\"] !== undefined) {\n",
       "      toinsert[0].firstChild.textContent = output.data[JS_MIME_TYPE];\n",
       "      // store reference to embed id on output_area\n",
       "      output_area._bokeh_element_id = output.metadata[EXEC_MIME_TYPE][\"id\"];\n",
       "    }\n",
       "    if (output.metadata[EXEC_MIME_TYPE][\"server_id\"] !== undefined) {\n",
       "      var bk_div = document.createElement(\"div\");\n",
       "      bk_div.innerHTML = output.data[HTML_MIME_TYPE];\n",
       "      var script_attrs = bk_div.children[0].attributes;\n",
       "      for (var i = 0; i < script_attrs.length; i++) {\n",
       "        toinsert[0].firstChild.setAttribute(script_attrs[i].name, script_attrs[i].value);\n",
       "      }\n",
       "      // store reference to server id on output_area\n",
       "      output_area._bokeh_server_id = output.metadata[EXEC_MIME_TYPE][\"server_id\"];\n",
       "    }\n",
       "  }\n",
       "\n",
       "  function register_renderer(events, OutputArea) {\n",
       "\n",
       "    function append_mime(data, metadata, element) {\n",
       "      // create a DOM node to render to\n",
       "      var toinsert = this.create_output_subarea(\n",
       "        metadata,\n",
       "        CLASS_NAME,\n",
       "        EXEC_MIME_TYPE\n",
       "      );\n",
       "      this.keyboard_manager.register_events(toinsert);\n",
       "      // Render to node\n",
       "      var props = {data: data, metadata: metadata[EXEC_MIME_TYPE]};\n",
       "      render(props, toinsert[0]);\n",
       "      element.append(toinsert);\n",
       "      return toinsert\n",
       "    }\n",
       "\n",
       "    /* Handle when an output is cleared or removed */\n",
       "    events.on('clear_output.CodeCell', handleClearOutput);\n",
       "    events.on('delete.Cell', handleClearOutput);\n",
       "\n",
       "    /* Handle when a new output is added */\n",
       "    events.on('output_added.OutputArea', handleAddOutput);\n",
       "\n",
       "    /**\n",
       "     * Register the mime type and append_mime function with output_area\n",
       "     */\n",
       "    OutputArea.prototype.register_mime_type(EXEC_MIME_TYPE, append_mime, {\n",
       "      /* Is output safe? */\n",
       "      safe: true,\n",
       "      /* Index of renderer in `output_area.display_order` */\n",
       "      index: 0\n",
       "    });\n",
       "  }\n",
       "\n",
       "  // register the mime type if in Jupyter Notebook environment and previously unregistered\n",
       "  if (root.Jupyter !== undefined) {\n",
       "    var events = require('base/js/events');\n",
       "    var OutputArea = require('notebook/js/outputarea').OutputArea;\n",
       "\n",
       "    if (OutputArea.prototype.mime_types().indexOf(EXEC_MIME_TYPE) == -1) {\n",
       "      register_renderer(events, OutputArea);\n",
       "    }\n",
       "  }\n",
       "\n",
       "  \n",
       "  if (typeof (root._bokeh_timeout) === \"undefined\" || force === true) {\n",
       "    root._bokeh_timeout = Date.now() + 5000;\n",
       "    root._bokeh_failed_load = false;\n",
       "  }\n",
       "\n",
       "  var NB_LOAD_WARNING = {'data': {'text/html':\n",
       "     \"<div style='background-color: #fdd'>\\n\"+\n",
       "     \"<p>\\n\"+\n",
       "     \"BokehJS does not appear to have successfully loaded. If loading BokehJS from CDN, this \\n\"+\n",
       "     \"may be due to a slow or bad network connection. Possible fixes:\\n\"+\n",
       "     \"</p>\\n\"+\n",
       "     \"<ul>\\n\"+\n",
       "     \"<li>re-rerun `output_notebook()` to attempt to load from CDN again, or</li>\\n\"+\n",
       "     \"<li>use INLINE resources instead, as so:</li>\\n\"+\n",
       "     \"</ul>\\n\"+\n",
       "     \"<code>\\n\"+\n",
       "     \"from bokeh.resources import INLINE\\n\"+\n",
       "     \"output_notebook(resources=INLINE)\\n\"+\n",
       "     \"</code>\\n\"+\n",
       "     \"</div>\"}};\n",
       "\n",
       "  function display_loaded() {\n",
       "    var el = document.getElementById(\"54e5bc7d-ea16-44dd-aa68-717050391d13\");\n",
       "    if (el != null) {\n",
       "      el.textContent = \"BokehJS is loading...\";\n",
       "    }\n",
       "    if (root.Bokeh !== undefined) {\n",
       "      if (el != null) {\n",
       "        el.textContent = \"BokehJS \" + root.Bokeh.version + \" successfully loaded.\";\n",
       "      }\n",
       "    } else if (Date.now() < root._bokeh_timeout) {\n",
       "      setTimeout(display_loaded, 100)\n",
       "    }\n",
       "  }\n",
       "\n",
       "\n",
       "  function run_callbacks() {\n",
       "    try {\n",
       "      root._bokeh_onload_callbacks.forEach(function(callback) { callback() });\n",
       "    }\n",
       "    finally {\n",
       "      delete root._bokeh_onload_callbacks\n",
       "    }\n",
       "    console.info(\"Bokeh: all callbacks have finished\");\n",
       "  }\n",
       "\n",
       "  function load_libs(js_urls, callback) {\n",
       "    root._bokeh_onload_callbacks.push(callback);\n",
       "    if (root._bokeh_is_loading > 0) {\n",
       "      console.log(\"Bokeh: BokehJS is being loaded, scheduling callback at\", now());\n",
       "      return null;\n",
       "    }\n",
       "    if (js_urls == null || js_urls.length === 0) {\n",
       "      run_callbacks();\n",
       "      return null;\n",
       "    }\n",
       "    console.log(\"Bokeh: BokehJS not loaded, scheduling load and callback at\", now());\n",
       "    root._bokeh_is_loading = js_urls.length;\n",
       "    for (var i = 0; i < js_urls.length; i++) {\n",
       "      var url = js_urls[i];\n",
       "      var s = document.createElement('script');\n",
       "      s.src = url;\n",
       "      s.async = false;\n",
       "      s.onreadystatechange = s.onload = function() {\n",
       "        root._bokeh_is_loading--;\n",
       "        if (root._bokeh_is_loading === 0) {\n",
       "          console.log(\"Bokeh: all BokehJS libraries loaded\");\n",
       "          run_callbacks()\n",
       "        }\n",
       "      };\n",
       "      s.onerror = function() {\n",
       "        console.warn(\"failed to load library \" + url);\n",
       "      };\n",
       "      console.log(\"Bokeh: injecting script tag for BokehJS library: \", url);\n",
       "      document.getElementsByTagName(\"head\")[0].appendChild(s);\n",
       "    }\n",
       "  };var element = document.getElementById(\"54e5bc7d-ea16-44dd-aa68-717050391d13\");\n",
       "  if (element == null) {\n",
       "    console.log(\"Bokeh: ERROR: autoload.js configured with elementid '54e5bc7d-ea16-44dd-aa68-717050391d13' but no matching script tag was found. \")\n",
       "    return false;\n",
       "  }\n",
       "\n",
       "  var js_urls = [\"https://cdn.pydata.org/bokeh/release/bokeh-0.12.13.min.js\", \"https://cdn.pydata.org/bokeh/release/bokeh-widgets-0.12.13.min.js\", \"https://cdn.pydata.org/bokeh/release/bokeh-tables-0.12.13.min.js\", \"https://cdn.pydata.org/bokeh/release/bokeh-gl-0.12.13.min.js\"];\n",
       "\n",
       "  var inline_js = [\n",
       "    function(Bokeh) {\n",
       "      Bokeh.set_log_level(\"info\");\n",
       "    },\n",
       "    \n",
       "    function(Bokeh) {\n",
       "      \n",
       "    },\n",
       "    function(Bokeh) {\n",
       "      console.log(\"Bokeh: injecting CSS: https://cdn.pydata.org/bokeh/release/bokeh-0.12.13.min.css\");\n",
       "      Bokeh.embed.inject_css(\"https://cdn.pydata.org/bokeh/release/bokeh-0.12.13.min.css\");\n",
       "      console.log(\"Bokeh: injecting CSS: https://cdn.pydata.org/bokeh/release/bokeh-widgets-0.12.13.min.css\");\n",
       "      Bokeh.embed.inject_css(\"https://cdn.pydata.org/bokeh/release/bokeh-widgets-0.12.13.min.css\");\n",
       "      console.log(\"Bokeh: injecting CSS: https://cdn.pydata.org/bokeh/release/bokeh-tables-0.12.13.min.css\");\n",
       "      Bokeh.embed.inject_css(\"https://cdn.pydata.org/bokeh/release/bokeh-tables-0.12.13.min.css\");\n",
       "    }\n",
       "  ];\n",
       "\n",
       "  function run_inline_js() {\n",
       "    \n",
       "    if ((root.Bokeh !== undefined) || (force === true)) {\n",
       "      for (var i = 0; i < inline_js.length; i++) {\n",
       "        inline_js[i].call(root, root.Bokeh);\n",
       "      }if (force === true) {\n",
       "        display_loaded();\n",
       "      }} else if (Date.now() < root._bokeh_timeout) {\n",
       "      setTimeout(run_inline_js, 100);\n",
       "    } else if (!root._bokeh_failed_load) {\n",
       "      console.log(\"Bokeh: BokehJS failed to load within specified timeout.\");\n",
       "      root._bokeh_failed_load = true;\n",
       "    } else if (force !== true) {\n",
       "      var cell = $(document.getElementById(\"54e5bc7d-ea16-44dd-aa68-717050391d13\")).parents('.cell').data().cell;\n",
       "      cell.output_area.append_execute_result(NB_LOAD_WARNING)\n",
       "    }\n",
       "\n",
       "  }\n",
       "\n",
       "  if (root._bokeh_is_loading === 0) {\n",
       "    console.log(\"Bokeh: BokehJS loaded, going straight to plotting\");\n",
       "    run_inline_js();\n",
       "  } else {\n",
       "    load_libs(js_urls, function() {\n",
       "      console.log(\"Bokeh: BokehJS plotting callback run at\", now());\n",
       "      run_inline_js();\n",
       "    });\n",
       "  }\n",
       "}(window));"
      ],
      "application/vnd.bokehjs_load.v0+json": "\n(function(root) {\n  function now() {\n    return new Date();\n  }\n\n  var force = true;\n\n  if (typeof (root._bokeh_onload_callbacks) === \"undefined\" || force === true) {\n    root._bokeh_onload_callbacks = [];\n    root._bokeh_is_loading = undefined;\n  }\n\n  \n\n  \n  if (typeof (root._bokeh_timeout) === \"undefined\" || force === true) {\n    root._bokeh_timeout = Date.now() + 5000;\n    root._bokeh_failed_load = false;\n  }\n\n  var NB_LOAD_WARNING = {'data': {'text/html':\n     \"<div style='background-color: #fdd'>\\n\"+\n     \"<p>\\n\"+\n     \"BokehJS does not appear to have successfully loaded. If loading BokehJS from CDN, this \\n\"+\n     \"may be due to a slow or bad network connection. Possible fixes:\\n\"+\n     \"</p>\\n\"+\n     \"<ul>\\n\"+\n     \"<li>re-rerun `output_notebook()` to attempt to load from CDN again, or</li>\\n\"+\n     \"<li>use INLINE resources instead, as so:</li>\\n\"+\n     \"</ul>\\n\"+\n     \"<code>\\n\"+\n     \"from bokeh.resources import INLINE\\n\"+\n     \"output_notebook(resources=INLINE)\\n\"+\n     \"</code>\\n\"+\n     \"</div>\"}};\n\n  function display_loaded() {\n    var el = document.getElementById(\"54e5bc7d-ea16-44dd-aa68-717050391d13\");\n    if (el != null) {\n      el.textContent = \"BokehJS is loading...\";\n    }\n    if (root.Bokeh !== undefined) {\n      if (el != null) {\n        el.textContent = \"BokehJS \" + root.Bokeh.version + \" successfully loaded.\";\n      }\n    } else if (Date.now() < root._bokeh_timeout) {\n      setTimeout(display_loaded, 100)\n    }\n  }\n\n\n  function run_callbacks() {\n    try {\n      root._bokeh_onload_callbacks.forEach(function(callback) { callback() });\n    }\n    finally {\n      delete root._bokeh_onload_callbacks\n    }\n    console.info(\"Bokeh: all callbacks have finished\");\n  }\n\n  function load_libs(js_urls, callback) {\n    root._bokeh_onload_callbacks.push(callback);\n    if (root._bokeh_is_loading > 0) {\n      console.log(\"Bokeh: BokehJS is being loaded, scheduling callback at\", now());\n      return null;\n    }\n    if (js_urls == null || js_urls.length === 0) {\n      run_callbacks();\n      return null;\n    }\n    console.log(\"Bokeh: BokehJS not loaded, scheduling load and callback at\", now());\n    root._bokeh_is_loading = js_urls.length;\n    for (var i = 0; i < js_urls.length; i++) {\n      var url = js_urls[i];\n      var s = document.createElement('script');\n      s.src = url;\n      s.async = false;\n      s.onreadystatechange = s.onload = function() {\n        root._bokeh_is_loading--;\n        if (root._bokeh_is_loading === 0) {\n          console.log(\"Bokeh: all BokehJS libraries loaded\");\n          run_callbacks()\n        }\n      };\n      s.onerror = function() {\n        console.warn(\"failed to load library \" + url);\n      };\n      console.log(\"Bokeh: injecting script tag for BokehJS library: \", url);\n      document.getElementsByTagName(\"head\")[0].appendChild(s);\n    }\n  };var element = document.getElementById(\"54e5bc7d-ea16-44dd-aa68-717050391d13\");\n  if (element == null) {\n    console.log(\"Bokeh: ERROR: autoload.js configured with elementid '54e5bc7d-ea16-44dd-aa68-717050391d13' but no matching script tag was found. \")\n    return false;\n  }\n\n  var js_urls = [\"https://cdn.pydata.org/bokeh/release/bokeh-0.12.13.min.js\", \"https://cdn.pydata.org/bokeh/release/bokeh-widgets-0.12.13.min.js\", \"https://cdn.pydata.org/bokeh/release/bokeh-tables-0.12.13.min.js\", \"https://cdn.pydata.org/bokeh/release/bokeh-gl-0.12.13.min.js\"];\n\n  var inline_js = [\n    function(Bokeh) {\n      Bokeh.set_log_level(\"info\");\n    },\n    \n    function(Bokeh) {\n      \n    },\n    function(Bokeh) {\n      console.log(\"Bokeh: injecting CSS: https://cdn.pydata.org/bokeh/release/bokeh-0.12.13.min.css\");\n      Bokeh.embed.inject_css(\"https://cdn.pydata.org/bokeh/release/bokeh-0.12.13.min.css\");\n      console.log(\"Bokeh: injecting CSS: https://cdn.pydata.org/bokeh/release/bokeh-widgets-0.12.13.min.css\");\n      Bokeh.embed.inject_css(\"https://cdn.pydata.org/bokeh/release/bokeh-widgets-0.12.13.min.css\");\n      console.log(\"Bokeh: injecting CSS: https://cdn.pydata.org/bokeh/release/bokeh-tables-0.12.13.min.css\");\n      Bokeh.embed.inject_css(\"https://cdn.pydata.org/bokeh/release/bokeh-tables-0.12.13.min.css\");\n    }\n  ];\n\n  function run_inline_js() {\n    \n    if ((root.Bokeh !== undefined) || (force === true)) {\n      for (var i = 0; i < inline_js.length; i++) {\n        inline_js[i].call(root, root.Bokeh);\n      }if (force === true) {\n        display_loaded();\n      }} else if (Date.now() < root._bokeh_timeout) {\n      setTimeout(run_inline_js, 100);\n    } else if (!root._bokeh_failed_load) {\n      console.log(\"Bokeh: BokehJS failed to load within specified timeout.\");\n      root._bokeh_failed_load = true;\n    } else if (force !== true) {\n      var cell = $(document.getElementById(\"54e5bc7d-ea16-44dd-aa68-717050391d13\")).parents('.cell').data().cell;\n      cell.output_area.append_execute_result(NB_LOAD_WARNING)\n    }\n\n  }\n\n  if (root._bokeh_is_loading === 0) {\n    console.log(\"Bokeh: BokehJS loaded, going straight to plotting\");\n    run_inline_js();\n  } else {\n    load_libs(js_urls, function() {\n      console.log(\"Bokeh: BokehJS plotting callback run at\", now());\n      run_inline_js();\n    });\n  }\n}(window));"
     },
     "metadata": {},
     "output_type": "display_data"
    }
   ],
   "source": [
    "import bokeh.plotting as bk\n",
    "bk.output_notebook()"
   ]
  },
  {
   "cell_type": "markdown",
   "metadata": {},
   "source": [
    "### 3.1 D Plotting"
   ]
  },
  {
   "cell_type": "code",
   "execution_count": 22,
   "metadata": {
    "scrolled": false
   },
   "outputs": [
    {
     "data": {
      "text/html": [
       "\n",
       "<div class=\"bk-root\">\n",
       "    <div class=\"bk-plotdiv\" id=\"8260cf9d-80c9-4f37-832d-3c46d05037d7\"></div>\n",
       "</div>"
      ]
     },
     "metadata": {},
     "output_type": "display_data"
    },
    {
     "data": {
      "application/javascript": [
       "(function(root) {\n",
       "  function embed_document(root) {\n",
       "    \n",
       "  var docs_json = {\"5241c245-52cd-44c1-808f-2be9381b9015\":{\"roots\":{\"references\":[{\"attributes\":{\"plot\":null,\"text\":\"\"},\"id\":\"f1064fbc-3e29-47c9-abbe-74db9485637d\",\"type\":\"Title\"},{\"attributes\":{},\"id\":\"0b99b56d-2672-4bcf-b9cb-30f67323066f\",\"type\":\"BasicTickFormatter\"},{\"attributes\":{\"line_alpha\":0.1,\"line_color\":\"#1f77b4\",\"x\":{\"field\":\"x\"},\"y\":{\"field\":\"y\"}},\"id\":\"0ee86a61-9bce-45ef-b9bd-537ea50eae80\",\"type\":\"Line\"},{\"attributes\":{\"data_source\":{\"id\":\"80b25978-8ca8-4a9f-9dc6-47a63d02cd04\",\"type\":\"ColumnDataSource\"},\"glyph\":{\"id\":\"b7a950b5-af28-418a-850b-87113e957f6f\",\"type\":\"Line\"},\"hover_glyph\":null,\"muted_glyph\":null,\"nonselection_glyph\":{\"id\":\"0ee86a61-9bce-45ef-b9bd-537ea50eae80\",\"type\":\"Line\"},\"selection_glyph\":null,\"view\":{\"id\":\"ab3f50c3-daa2-465e-90dd-ceb8765f6291\",\"type\":\"CDSView\"}},\"id\":\"0be2c546-70cd-49c4-bfd1-8bb22d965dd9\",\"type\":\"GlyphRenderer\"},{\"attributes\":{\"source\":{\"id\":\"80b25978-8ca8-4a9f-9dc6-47a63d02cd04\",\"type\":\"ColumnDataSource\"}},\"id\":\"ab3f50c3-daa2-465e-90dd-ceb8765f6291\",\"type\":\"CDSView\"},{\"attributes\":{\"active_drag\":\"auto\",\"active_inspect\":\"auto\",\"active_scroll\":\"auto\",\"active_tap\":\"auto\",\"tools\":[{\"id\":\"586b59c6-8257-4cc0-b7fb-3f00c177a3bd\",\"type\":\"PanTool\"},{\"id\":\"47758adf-1cd4-49cc-8bf8-2f545f65fc58\",\"type\":\"WheelZoomTool\"},{\"id\":\"e848010a-c8ac-4137-b79e-33afebe648e7\",\"type\":\"BoxZoomTool\"},{\"id\":\"ec968473-68b8-4b30-abe5-43ee6b27b1fc\",\"type\":\"SaveTool\"},{\"id\":\"946c06a3-7ec4-4991-8da1-2a00be5df8e2\",\"type\":\"ResetTool\"},{\"id\":\"f82faa03-469c-46ca-bae1-5f6dfdee2429\",\"type\":\"HelpTool\"}]},\"id\":\"0b07aee5-7b92-4715-973c-c75b3cca6e1f\",\"type\":\"Toolbar\"},{\"attributes\":{\"fill_alpha\":{\"value\":0.1},\"fill_color\":{\"value\":\"#1f77b4\"},\"line_alpha\":{\"value\":0.1},\"line_color\":{\"value\":\"#1f77b4\"},\"x\":{\"field\":\"x\"},\"y\":{\"field\":\"y\"}},\"id\":\"a8b470ea-45e7-4be7-90dd-e77ffea95e01\",\"type\":\"Circle\"},{\"attributes\":{\"data_source\":{\"id\":\"a3d93e42-e589-4c77-b558-414dd09f7a52\",\"type\":\"ColumnDataSource\"},\"glyph\":{\"id\":\"43279c99-5abf-4be6-8d50-b81369c87072\",\"type\":\"Circle\"},\"hover_glyph\":null,\"muted_glyph\":null,\"nonselection_glyph\":{\"id\":\"a8b470ea-45e7-4be7-90dd-e77ffea95e01\",\"type\":\"Circle\"},\"selection_glyph\":null,\"view\":{\"id\":\"6db37140-bbdc-453a-ab2f-76c336a58dad\",\"type\":\"CDSView\"}},\"id\":\"4a2ad15b-a97c-4836-819f-e75e6cc60ca6\",\"type\":\"GlyphRenderer\"},{\"attributes\":{\"callback\":null},\"id\":\"05ec1d2f-cadd-479a-b06e-116d49ef64f6\",\"type\":\"DataRange1d\"},{\"attributes\":{\"source\":{\"id\":\"a3d93e42-e589-4c77-b558-414dd09f7a52\",\"type\":\"ColumnDataSource\"}},\"id\":\"6db37140-bbdc-453a-ab2f-76c336a58dad\",\"type\":\"CDSView\"},{\"attributes\":{\"callback\":null,\"column_names\":[\"x\",\"y\"],\"data\":{\"x\":{\"__ndarray__\":\"AAAAAAAAAABeQ3kN5TXEP15DeQ3lNdQ/DeU1lNdQ3j9eQ3kN5TXkPzaU11BeQ+k/DeU1lNdQ7j/yGsprKK/xP15DeQ3lNfQ/ymsor6G89j82lNdQXkP5P6G8hvIayvs/DeU1lNdQ/j+8hvIaymsAQPIaymsorwFAKK+hvIbyAkBeQ3kN5TUEQJTXUF5DeQVAymsor6G8BkAAAAAAAAAIQA==\",\"dtype\":\"float64\",\"shape\":[20]},\"y\":{\"__ndarray__\":\"AAAAAAAAAAAN5TWU11DePw3lNZTXUO4/ymsor6G89j8N5TWU11D+PyivobyG8gJAymsor6G8BkBrKK+hvIYKQA3lNZTXUA5A11BeQ3kNEUAor6G8hvISQHkN5TWU1xRAymsor6G8FkAbymsor6EYQGsor6G8hhpAvIbyGsprHEAN5TWU11AeQK+hvIbyGiBA11BeQ3kNIUAAAAAAAAAiQA==\",\"dtype\":\"float64\",\"shape\":[20]}}},\"id\":\"80b25978-8ca8-4a9f-9dc6-47a63d02cd04\",\"type\":\"ColumnDataSource\"},{\"attributes\":{\"below\":[{\"id\":\"ad877b95-a08b-4126-aa27-acc7f1e83295\",\"type\":\"LinearAxis\"}],\"left\":[{\"id\":\"f819c0f2-8c2d-443b-bad5-205067b5ec38\",\"type\":\"LinearAxis\"}],\"renderers\":[{\"id\":\"ad877b95-a08b-4126-aa27-acc7f1e83295\",\"type\":\"LinearAxis\"},{\"id\":\"8652f1cd-806c-4d47-abdd-10b0071b0736\",\"type\":\"Grid\"},{\"id\":\"f819c0f2-8c2d-443b-bad5-205067b5ec38\",\"type\":\"LinearAxis\"},{\"id\":\"8e181e76-90bc-4c59-8067-06df7ab17a95\",\"type\":\"Grid\"},{\"id\":\"f0e484bd-588b-450b-8f34-f6195d832027\",\"type\":\"BoxAnnotation\"},{\"id\":\"0be2c546-70cd-49c4-bfd1-8bb22d965dd9\",\"type\":\"GlyphRenderer\"},{\"id\":\"4a2ad15b-a97c-4836-819f-e75e6cc60ca6\",\"type\":\"GlyphRenderer\"}],\"title\":{\"id\":\"f1064fbc-3e29-47c9-abbe-74db9485637d\",\"type\":\"Title\"},\"toolbar\":{\"id\":\"0b07aee5-7b92-4715-973c-c75b3cca6e1f\",\"type\":\"Toolbar\"},\"x_range\":{\"id\":\"05ec1d2f-cadd-479a-b06e-116d49ef64f6\",\"type\":\"DataRange1d\"},\"x_scale\":{\"id\":\"d52cbda9-6039-49ec-8926-1dfe258670a1\",\"type\":\"LinearScale\"},\"y_range\":{\"id\":\"9b43456a-7817-4fe3-8d9b-fed406a2f600\",\"type\":\"DataRange1d\"},\"y_scale\":{\"id\":\"291af1f8-7842-4f34-a4bf-c9b68534b4a3\",\"type\":\"LinearScale\"}},\"id\":\"9cdaa243-9486-439f-8371-3ad667ec68b7\",\"subtype\":\"Figure\",\"type\":\"Plot\"},{\"attributes\":{\"callback\":null},\"id\":\"9b43456a-7817-4fe3-8d9b-fed406a2f600\",\"type\":\"DataRange1d\"},{\"attributes\":{},\"id\":\"d52cbda9-6039-49ec-8926-1dfe258670a1\",\"type\":\"LinearScale\"},{\"attributes\":{},\"id\":\"7001aead-beb3-4576-a28f-2a2d1cf9a7bc\",\"type\":\"BasicTickFormatter\"},{\"attributes\":{},\"id\":\"291af1f8-7842-4f34-a4bf-c9b68534b4a3\",\"type\":\"LinearScale\"},{\"attributes\":{\"formatter\":{\"id\":\"7001aead-beb3-4576-a28f-2a2d1cf9a7bc\",\"type\":\"BasicTickFormatter\"},\"plot\":{\"id\":\"9cdaa243-9486-439f-8371-3ad667ec68b7\",\"subtype\":\"Figure\",\"type\":\"Plot\"},\"ticker\":{\"id\":\"4bcfe86e-7d6c-4388-a974-8a06d917ac11\",\"type\":\"BasicTicker\"}},\"id\":\"ad877b95-a08b-4126-aa27-acc7f1e83295\",\"type\":\"LinearAxis\"},{\"attributes\":{},\"id\":\"4bcfe86e-7d6c-4388-a974-8a06d917ac11\",\"type\":\"BasicTicker\"},{\"attributes\":{\"plot\":{\"id\":\"9cdaa243-9486-439f-8371-3ad667ec68b7\",\"subtype\":\"Figure\",\"type\":\"Plot\"},\"ticker\":{\"id\":\"4bcfe86e-7d6c-4388-a974-8a06d917ac11\",\"type\":\"BasicTicker\"}},\"id\":\"8652f1cd-806c-4d47-abdd-10b0071b0736\",\"type\":\"Grid\"},{\"attributes\":{\"formatter\":{\"id\":\"0b99b56d-2672-4bcf-b9cb-30f67323066f\",\"type\":\"BasicTickFormatter\"},\"plot\":{\"id\":\"9cdaa243-9486-439f-8371-3ad667ec68b7\",\"subtype\":\"Figure\",\"type\":\"Plot\"},\"ticker\":{\"id\":\"905469f9-44d9-404d-9064-3b0f6f3e6ec7\",\"type\":\"BasicTicker\"}},\"id\":\"f819c0f2-8c2d-443b-bad5-205067b5ec38\",\"type\":\"LinearAxis\"},{\"attributes\":{},\"id\":\"905469f9-44d9-404d-9064-3b0f6f3e6ec7\",\"type\":\"BasicTicker\"},{\"attributes\":{\"dimension\":1,\"plot\":{\"id\":\"9cdaa243-9486-439f-8371-3ad667ec68b7\",\"subtype\":\"Figure\",\"type\":\"Plot\"},\"ticker\":{\"id\":\"905469f9-44d9-404d-9064-3b0f6f3e6ec7\",\"type\":\"BasicTicker\"}},\"id\":\"8e181e76-90bc-4c59-8067-06df7ab17a95\",\"type\":\"Grid\"},{\"attributes\":{\"callback\":null,\"column_names\":[\"x\",\"y\"],\"data\":{\"x\":{\"__ndarray__\":\"AAAAAAAAAABeQ3kN5TXEP15DeQ3lNdQ/DeU1lNdQ3j9eQ3kN5TXkPzaU11BeQ+k/DeU1lNdQ7j/yGsprKK/xP15DeQ3lNfQ/ymsor6G89j82lNdQXkP5P6G8hvIayvs/DeU1lNdQ/j+8hvIaymsAQPIaymsorwFAKK+hvIbyAkBeQ3kN5TUEQJTXUF5DeQVAymsor6G8BkAAAAAAAAAIQA==\",\"dtype\":\"float64\",\"shape\":[20]},\"y\":{\"__ndarray__\":\"AAAAAAAAAAAN5TWU11DePw3lNZTXUO4/ymsor6G89j8N5TWU11D+PyivobyG8gJAymsor6G8BkBrKK+hvIYKQA3lNZTXUA5A11BeQ3kNEUAor6G8hvISQHkN5TWU1xRAymsor6G8FkAbymsor6EYQGsor6G8hhpAvIbyGsprHEAN5TWU11AeQK+hvIbyGiBA11BeQ3kNIUAAAAAAAAAiQA==\",\"dtype\":\"float64\",\"shape\":[20]}}},\"id\":\"a3d93e42-e589-4c77-b558-414dd09f7a52\",\"type\":\"ColumnDataSource\"},{\"attributes\":{\"line_color\":\"#1f77b4\",\"x\":{\"field\":\"x\"},\"y\":{\"field\":\"y\"}},\"id\":\"b7a950b5-af28-418a-850b-87113e957f6f\",\"type\":\"Line\"},{\"attributes\":{\"fill_color\":{\"value\":\"green\"},\"line_color\":{\"value\":\"green\"},\"x\":{\"field\":\"x\"},\"y\":{\"field\":\"y\"}},\"id\":\"43279c99-5abf-4be6-8d50-b81369c87072\",\"type\":\"Circle\"},{\"attributes\":{},\"id\":\"586b59c6-8257-4cc0-b7fb-3f00c177a3bd\",\"type\":\"PanTool\"},{\"attributes\":{\"bottom_units\":\"screen\",\"fill_alpha\":{\"value\":0.5},\"fill_color\":{\"value\":\"lightgrey\"},\"left_units\":\"screen\",\"level\":\"overlay\",\"line_alpha\":{\"value\":1.0},\"line_color\":{\"value\":\"black\"},\"line_dash\":[4,4],\"line_width\":{\"value\":2},\"plot\":null,\"render_mode\":\"css\",\"right_units\":\"screen\",\"top_units\":\"screen\"},\"id\":\"f0e484bd-588b-450b-8f34-f6195d832027\",\"type\":\"BoxAnnotation\"},{\"attributes\":{},\"id\":\"47758adf-1cd4-49cc-8bf8-2f545f65fc58\",\"type\":\"WheelZoomTool\"},{\"attributes\":{\"overlay\":{\"id\":\"f0e484bd-588b-450b-8f34-f6195d832027\",\"type\":\"BoxAnnotation\"}},\"id\":\"e848010a-c8ac-4137-b79e-33afebe648e7\",\"type\":\"BoxZoomTool\"},{\"attributes\":{},\"id\":\"ec968473-68b8-4b30-abe5-43ee6b27b1fc\",\"type\":\"SaveTool\"},{\"attributes\":{},\"id\":\"946c06a3-7ec4-4991-8da1-2a00be5df8e2\",\"type\":\"ResetTool\"},{\"attributes\":{},\"id\":\"f82faa03-469c-46ca-bae1-5f6dfdee2429\",\"type\":\"HelpTool\"}],\"root_ids\":[\"9cdaa243-9486-439f-8371-3ad667ec68b7\"]},\"title\":\"Bokeh Application\",\"version\":\"0.12.13\"}};\n",
       "  var render_items = [{\"docid\":\"5241c245-52cd-44c1-808f-2be9381b9015\",\"elementid\":\"8260cf9d-80c9-4f37-832d-3c46d05037d7\",\"modelid\":\"9cdaa243-9486-439f-8371-3ad667ec68b7\"}];\n",
       "  root.Bokeh.embed.embed_items_notebook(docs_json, render_items);\n",
       "\n",
       "  }\n",
       "  if (root.Bokeh !== undefined) {\n",
       "    embed_document(root);\n",
       "  } else {\n",
       "    var attempts = 0;\n",
       "    var timer = setInterval(function(root) {\n",
       "      if (root.Bokeh !== undefined) {\n",
       "        embed_document(root);\n",
       "        clearInterval(timer);\n",
       "      }\n",
       "      attempts++;\n",
       "      if (attempts > 100) {\n",
       "        console.log(\"Bokeh: ERROR: Unable to run BokehJS code because BokehJS library is missing\")\n",
       "        clearInterval(timer);\n",
       "      }\n",
       "    }, 10, root)\n",
       "  }\n",
       "})(window);"
      ],
      "application/vnd.bokehjs_exec.v0+json": ""
     },
     "metadata": {
      "application/vnd.bokehjs_exec.v0+json": {
       "id": "9cdaa243-9486-439f-8371-3ad667ec68b7"
      }
     },
     "output_type": "display_data"
    }
   ],
   "source": [
    "x = np.linspace(0, 3, 20)\n",
    "y = np.linspace(0, 9, 20)\n",
    "fig = bk.figure()\n",
    "fig.line(x, y)\n",
    "fig.circle(x, y, color='green')\n",
    "bk.show(fig)"
   ]
  },
  {
   "cell_type": "markdown",
   "metadata": {},
   "source": [
    "Somethimes, if the code is not relevant for the topic we are developing, we can put the code in a separate file and run it from the Notebook:"
   ]
  },
  {
   "cell_type": "code",
   "execution_count": 23,
   "metadata": {
    "scrolled": false
   },
   "outputs": [
    {
     "data": {
      "text/html": [
       "\n",
       "<div class=\"bk-root\">\n",
       "    <div class=\"bk-plotdiv\" id=\"56fa6d71-8fbe-4fc5-aa02-93159540991e\"></div>\n",
       "</div>"
      ]
     },
     "metadata": {},
     "output_type": "display_data"
    },
    {
     "data": {
      "application/javascript": [
       "(function(root) {\n",
       "  function embed_document(root) {\n",
       "    \n",
       "  var docs_json = {\"c141f314-aefd-45cf-8471-bade11b8149a\":{\"roots\":{\"references\":[{\"attributes\":{\"color_mapper\":{\"id\":\"56d43454-66cd-48a7-beac-b526146fd6b2\",\"type\":\"LinearColorMapper\"},\"dh\":{\"field\":\"dh\",\"units\":\"data\"},\"dw\":{\"field\":\"dw\",\"units\":\"data\"},\"image\":{\"field\":\"image\"},\"x\":{\"field\":\"x\"},\"y\":{\"field\":\"y\"}},\"id\":\"a91c0d15-e613-472d-bb6e-108955eeb929\",\"type\":\"Image\"},{\"attributes\":{\"plot\":{\"id\":\"2436494f-3224-448d-b104-0ba6a8606e0b\",\"subtype\":\"Figure\",\"type\":\"Plot\"},\"ticker\":{\"id\":\"4ac9cc76-f751-485b-9eec-2940b207d6c7\",\"type\":\"BasicTicker\"}},\"id\":\"63172305-422c-4aea-85be-70c108e99606\",\"type\":\"Grid\"},{\"attributes\":{},\"id\":\"75108d73-f8a6-4dd2-8b56-b6744762fb33\",\"type\":\"BasicTickFormatter\"},{\"attributes\":{},\"id\":\"103affab-d6cc-4e36-b103-b87f0089c9de\",\"type\":\"WheelZoomTool\"},{\"attributes\":{\"active_drag\":\"auto\",\"active_inspect\":\"auto\",\"active_scroll\":\"auto\",\"active_tap\":\"auto\",\"tools\":[{\"id\":\"9ff8cd6c-9007-4a26-bd15-32f22540749e\",\"type\":\"PanTool\"},{\"id\":\"103affab-d6cc-4e36-b103-b87f0089c9de\",\"type\":\"WheelZoomTool\"},{\"id\":\"e0c99602-3c01-497d-a663-f7e0ba562824\",\"type\":\"BoxZoomTool\"},{\"id\":\"79a7dd32-d933-4a3b-82c2-4b8119b029b3\",\"type\":\"SaveTool\"},{\"id\":\"bbb12a9e-b955-4286-b60f-7226faccc996\",\"type\":\"ResetTool\"},{\"id\":\"ced1a971-ea00-4fa1-a40b-e0e119d41627\",\"type\":\"HelpTool\"}]},\"id\":\"76a06356-0f93-470b-ad61-0343dd84c2a2\",\"type\":\"Toolbar\"},{\"attributes\":{\"palette\":[\"#7f0000\",\"#b30000\",\"#d7301f\",\"#ef6548\",\"#fc8d59\",\"#fdbb84\",\"#fdd49e\",\"#fee8c8\",\"#fff7ec\"]},\"id\":\"86bef688-ccd0-4e6b-846b-6d4e2766fde7\",\"type\":\"LinearColorMapper\"},{\"attributes\":{\"data_source\":{\"id\":\"0b016220-ca15-4143-a6c3-cd5c08846b3b\",\"type\":\"ColumnDataSource\"},\"glyph\":{\"id\":\"2c02632d-86a1-41ee-ab3c-f7a1a3edb425\",\"type\":\"Image\"},\"hover_glyph\":null,\"muted_glyph\":null,\"nonselection_glyph\":{\"id\":\"a91c0d15-e613-472d-bb6e-108955eeb929\",\"type\":\"Image\"},\"selection_glyph\":null,\"view\":{\"id\":\"7d5c3d0f-6494-4925-828d-4deca4ec0261\",\"type\":\"CDSView\"}},\"id\":\"4bf83942-39a0-4930-a3da-d3a691eace2b\",\"type\":\"GlyphRenderer\"},{\"attributes\":{},\"id\":\"2535a6fb-5b95-4e27-8bc0-84b90ea65a2d\",\"type\":\"LinearScale\"},{\"attributes\":{},\"id\":\"9ff8cd6c-9007-4a26-bd15-32f22540749e\",\"type\":\"PanTool\"},{\"attributes\":{},\"id\":\"4ac9cc76-f751-485b-9eec-2940b207d6c7\",\"type\":\"BasicTicker\"},{\"attributes\":{\"bottom_units\":\"screen\",\"fill_alpha\":{\"value\":0.5},\"fill_color\":{\"value\":\"lightgrey\"},\"left_units\":\"screen\",\"level\":\"overlay\",\"line_alpha\":{\"value\":1.0},\"line_color\":{\"value\":\"black\"},\"line_dash\":[4,4],\"line_width\":{\"value\":2},\"plot\":null,\"render_mode\":\"css\",\"right_units\":\"screen\",\"top_units\":\"screen\"},\"id\":\"6c0bc273-01a0-4140-b3bc-8a6ea856b128\",\"type\":\"BoxAnnotation\"},{\"attributes\":{\"formatter\":{\"id\":\"e3e9ec9b-59e9-46d9-90ba-75e0a6296c94\",\"type\":\"BasicTickFormatter\"},\"plot\":{\"id\":\"2436494f-3224-448d-b104-0ba6a8606e0b\",\"subtype\":\"Figure\",\"type\":\"Plot\"},\"ticker\":{\"id\":\"4ac9cc76-f751-485b-9eec-2940b207d6c7\",\"type\":\"BasicTicker\"}},\"id\":\"c98b7a98-9f9e-4211-a025-d564375db5f7\",\"type\":\"LinearAxis\"},{\"attributes\":{\"color_mapper\":{\"id\":\"86bef688-ccd0-4e6b-846b-6d4e2766fde7\",\"type\":\"LinearColorMapper\"},\"dh\":{\"field\":\"dh\",\"units\":\"data\"},\"dw\":{\"field\":\"dw\",\"units\":\"data\"},\"image\":{\"field\":\"image\"},\"x\":{\"field\":\"x\"},\"y\":{\"field\":\"y\"}},\"id\":\"2c02632d-86a1-41ee-ab3c-f7a1a3edb425\",\"type\":\"Image\"},{\"attributes\":{},\"id\":\"569e9c87-6b61-4c64-b50f-83975e247106\",\"type\":\"LinearScale\"},{\"attributes\":{},\"id\":\"ced1a971-ea00-4fa1-a40b-e0e119d41627\",\"type\":\"HelpTool\"},{\"attributes\":{},\"id\":\"79a7dd32-d933-4a3b-82c2-4b8119b029b3\",\"type\":\"SaveTool\"},{\"attributes\":{\"overlay\":{\"id\":\"6c0bc273-01a0-4140-b3bc-8a6ea856b128\",\"type\":\"BoxAnnotation\"}},\"id\":\"e0c99602-3c01-497d-a663-f7e0ba562824\",\"type\":\"BoxZoomTool\"},{\"attributes\":{\"callback\":null,\"column_names\":[\"image\",\"x\",\"y\",\"dw\",\"dh\"],\"data\":{\"dh\":[1],\"dw\":[1],\"image\":[{\"__ndarray__\":\"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\",\"dtype\":\"float64\",\"shape\":[120,120]}],\"x\":[0],\"y\":[0]}},\"id\":\"0b016220-ca15-4143-a6c3-cd5c08846b3b\",\"type\":\"ColumnDataSource\"},{\"attributes\":{\"source\":{\"id\":\"0b016220-ca15-4143-a6c3-cd5c08846b3b\",\"type\":\"ColumnDataSource\"}},\"id\":\"7d5c3d0f-6494-4925-828d-4deca4ec0261\",\"type\":\"CDSView\"},{\"attributes\":{\"palette\":[\"#7f0000\",\"#b30000\",\"#d7301f\",\"#ef6548\",\"#fc8d59\",\"#fdbb84\",\"#fdd49e\",\"#fee8c8\",\"#fff7ec\"]},\"id\":\"56d43454-66cd-48a7-beac-b526146fd6b2\",\"type\":\"LinearColorMapper\"},{\"attributes\":{\"plot\":null,\"text\":\"\"},\"id\":\"51b3c4c2-1228-4004-962f-87677ef0ae5c\",\"type\":\"Title\"},{\"attributes\":{\"formatter\":{\"id\":\"75108d73-f8a6-4dd2-8b56-b6744762fb33\",\"type\":\"BasicTickFormatter\"},\"plot\":{\"id\":\"2436494f-3224-448d-b104-0ba6a8606e0b\",\"subtype\":\"Figure\",\"type\":\"Plot\"},\"ticker\":{\"id\":\"15721a9e-2e81-4c6b-9698-28e59527de5d\",\"type\":\"BasicTicker\"}},\"id\":\"7971f7dc-268b-4300-a593-513ef1e2afea\",\"type\":\"LinearAxis\"},{\"attributes\":{},\"id\":\"bbb12a9e-b955-4286-b60f-7226faccc996\",\"type\":\"ResetTool\"},{\"attributes\":{\"dimension\":1,\"plot\":{\"id\":\"2436494f-3224-448d-b104-0ba6a8606e0b\",\"subtype\":\"Figure\",\"type\":\"Plot\"},\"ticker\":{\"id\":\"15721a9e-2e81-4c6b-9698-28e59527de5d\",\"type\":\"BasicTicker\"}},\"id\":\"60ae35e2-1099-4d22-aafa-c8b35882a8e2\",\"type\":\"Grid\"},{\"attributes\":{\"below\":[{\"id\":\"c98b7a98-9f9e-4211-a025-d564375db5f7\",\"type\":\"LinearAxis\"}],\"left\":[{\"id\":\"7971f7dc-268b-4300-a593-513ef1e2afea\",\"type\":\"LinearAxis\"}],\"renderers\":[{\"id\":\"c98b7a98-9f9e-4211-a025-d564375db5f7\",\"type\":\"LinearAxis\"},{\"id\":\"63172305-422c-4aea-85be-70c108e99606\",\"type\":\"Grid\"},{\"id\":\"7971f7dc-268b-4300-a593-513ef1e2afea\",\"type\":\"LinearAxis\"},{\"id\":\"60ae35e2-1099-4d22-aafa-c8b35882a8e2\",\"type\":\"Grid\"},{\"id\":\"6c0bc273-01a0-4140-b3bc-8a6ea856b128\",\"type\":\"BoxAnnotation\"},{\"id\":\"4bf83942-39a0-4930-a3da-d3a691eace2b\",\"type\":\"GlyphRenderer\"}],\"title\":{\"id\":\"51b3c4c2-1228-4004-962f-87677ef0ae5c\",\"type\":\"Title\"},\"toolbar\":{\"id\":\"76a06356-0f93-470b-ad61-0343dd84c2a2\",\"type\":\"Toolbar\"},\"x_range\":{\"id\":\"729ab52f-c657-4daa-8e47-b2d22432610f\",\"type\":\"DataRange1d\"},\"x_scale\":{\"id\":\"2535a6fb-5b95-4e27-8bc0-84b90ea65a2d\",\"type\":\"LinearScale\"},\"y_range\":{\"id\":\"d9b29233-6ba5-4bf7-9e01-a8be3fab1deb\",\"type\":\"DataRange1d\"},\"y_scale\":{\"id\":\"569e9c87-6b61-4c64-b50f-83975e247106\",\"type\":\"LinearScale\"}},\"id\":\"2436494f-3224-448d-b104-0ba6a8606e0b\",\"subtype\":\"Figure\",\"type\":\"Plot\"},{\"attributes\":{},\"id\":\"15721a9e-2e81-4c6b-9698-28e59527de5d\",\"type\":\"BasicTicker\"},{\"attributes\":{},\"id\":\"e3e9ec9b-59e9-46d9-90ba-75e0a6296c94\",\"type\":\"BasicTickFormatter\"},{\"attributes\":{\"callback\":null},\"id\":\"d9b29233-6ba5-4bf7-9e01-a8be3fab1deb\",\"type\":\"DataRange1d\"},{\"attributes\":{\"callback\":null},\"id\":\"729ab52f-c657-4daa-8e47-b2d22432610f\",\"type\":\"DataRange1d\"}],\"root_ids\":[\"2436494f-3224-448d-b104-0ba6a8606e0b\"]},\"title\":\"Bokeh Application\",\"version\":\"0.12.13\"}};\n",
       "  var render_items = [{\"docid\":\"c141f314-aefd-45cf-8471-bade11b8149a\",\"elementid\":\"56fa6d71-8fbe-4fc5-aa02-93159540991e\",\"modelid\":\"2436494f-3224-448d-b104-0ba6a8606e0b\"}];\n",
       "  root.Bokeh.embed.embed_items_notebook(docs_json, render_items);\n",
       "\n",
       "  }\n",
       "  if (root.Bokeh !== undefined) {\n",
       "    embed_document(root);\n",
       "  } else {\n",
       "    var attempts = 0;\n",
       "    var timer = setInterval(function(root) {\n",
       "      if (root.Bokeh !== undefined) {\n",
       "        embed_document(root);\n",
       "        clearInterval(timer);\n",
       "      }\n",
       "      attempts++;\n",
       "      if (attempts > 100) {\n",
       "        console.log(\"Bokeh: ERROR: Unable to run BokehJS code because BokehJS library is missing\")\n",
       "        clearInterval(timer);\n",
       "      }\n",
       "    }, 10, root)\n",
       "  }\n",
       "})(window);"
      ],
      "application/vnd.bokehjs_exec.v0+json": ""
     },
     "metadata": {
      "application/vnd.bokehjs_exec.v0+json": {
       "id": "2436494f-3224-448d-b104-0ba6a8606e0b"
      }
     },
     "output_type": "display_data"
    }
   ],
   "source": [
    "from utilities import plot_01\n",
    "bk.show(plot_01())"
   ]
  },
  {
   "cell_type": "markdown",
   "metadata": {},
   "source": [
    "At any time if you want to see the code, you can load it and run it directly from the cell in the Notebook:"
   ]
  },
  {
   "cell_type": "code",
   "execution_count": 24,
   "metadata": {},
   "outputs": [
    {
     "data": {
      "text/html": [
       "\n",
       "    <div class=\"bk-root\">\n",
       "        <a href=\"https://bokeh.pydata.org\" target=\"_blank\" class=\"bk-logo bk-logo-small bk-logo-notebook\"></a>\n",
       "        <span id=\"96fb5de1-93b3-419d-9792-8eb96f0a4f1d\">Loading BokehJS ...</span>\n",
       "    </div>"
      ]
     },
     "metadata": {},
     "output_type": "display_data"
    },
    {
     "data": {
      "application/javascript": [
       "\n",
       "(function(root) {\n",
       "  function now() {\n",
       "    return new Date();\n",
       "  }\n",
       "\n",
       "  var force = true;\n",
       "\n",
       "  if (typeof (root._bokeh_onload_callbacks) === \"undefined\" || force === true) {\n",
       "    root._bokeh_onload_callbacks = [];\n",
       "    root._bokeh_is_loading = undefined;\n",
       "  }\n",
       "\n",
       "  var JS_MIME_TYPE = 'application/javascript';\n",
       "  var HTML_MIME_TYPE = 'text/html';\n",
       "  var EXEC_MIME_TYPE = 'application/vnd.bokehjs_exec.v0+json';\n",
       "  var CLASS_NAME = 'output_bokeh rendered_html';\n",
       "\n",
       "  /**\n",
       "   * Render data to the DOM node\n",
       "   */\n",
       "  function render(props, node) {\n",
       "    var script = document.createElement(\"script\");\n",
       "    node.appendChild(script);\n",
       "  }\n",
       "\n",
       "  /**\n",
       "   * Handle when an output is cleared or removed\n",
       "   */\n",
       "  function handleClearOutput(event, handle) {\n",
       "    var cell = handle.cell;\n",
       "\n",
       "    var id = cell.output_area._bokeh_element_id;\n",
       "    var server_id = cell.output_area._bokeh_server_id;\n",
       "    // Clean up Bokeh references\n",
       "    if (id !== undefined) {\n",
       "      Bokeh.index[id].model.document.clear();\n",
       "      delete Bokeh.index[id];\n",
       "    }\n",
       "\n",
       "    if (server_id !== undefined) {\n",
       "      // Clean up Bokeh references\n",
       "      var cmd = \"from bokeh.io.state import curstate; print(curstate().uuid_to_server['\" + server_id + \"'].get_sessions()[0].document.roots[0]._id)\";\n",
       "      cell.notebook.kernel.execute(cmd, {\n",
       "        iopub: {\n",
       "          output: function(msg) {\n",
       "            var element_id = msg.content.text.trim();\n",
       "            Bokeh.index[element_id].model.document.clear();\n",
       "            delete Bokeh.index[element_id];\n",
       "          }\n",
       "        }\n",
       "      });\n",
       "      // Destroy server and session\n",
       "      var cmd = \"import bokeh.io.notebook as ion; ion.destroy_server('\" + server_id + \"')\";\n",
       "      cell.notebook.kernel.execute(cmd);\n",
       "    }\n",
       "  }\n",
       "\n",
       "  /**\n",
       "   * Handle when a new output is added\n",
       "   */\n",
       "  function handleAddOutput(event, handle) {\n",
       "    var output_area = handle.output_area;\n",
       "    var output = handle.output;\n",
       "\n",
       "    // limit handleAddOutput to display_data with EXEC_MIME_TYPE content only\n",
       "    if ((output.output_type != \"display_data\") || (!output.data.hasOwnProperty(EXEC_MIME_TYPE))) {\n",
       "      return\n",
       "    }\n",
       "\n",
       "    var toinsert = output_area.element.find(\".\" + CLASS_NAME.split(' ')[0]);\n",
       "\n",
       "    if (output.metadata[EXEC_MIME_TYPE][\"id\"] !== undefined) {\n",
       "      toinsert[0].firstChild.textContent = output.data[JS_MIME_TYPE];\n",
       "      // store reference to embed id on output_area\n",
       "      output_area._bokeh_element_id = output.metadata[EXEC_MIME_TYPE][\"id\"];\n",
       "    }\n",
       "    if (output.metadata[EXEC_MIME_TYPE][\"server_id\"] !== undefined) {\n",
       "      var bk_div = document.createElement(\"div\");\n",
       "      bk_div.innerHTML = output.data[HTML_MIME_TYPE];\n",
       "      var script_attrs = bk_div.children[0].attributes;\n",
       "      for (var i = 0; i < script_attrs.length; i++) {\n",
       "        toinsert[0].firstChild.setAttribute(script_attrs[i].name, script_attrs[i].value);\n",
       "      }\n",
       "      // store reference to server id on output_area\n",
       "      output_area._bokeh_server_id = output.metadata[EXEC_MIME_TYPE][\"server_id\"];\n",
       "    }\n",
       "  }\n",
       "\n",
       "  function register_renderer(events, OutputArea) {\n",
       "\n",
       "    function append_mime(data, metadata, element) {\n",
       "      // create a DOM node to render to\n",
       "      var toinsert = this.create_output_subarea(\n",
       "        metadata,\n",
       "        CLASS_NAME,\n",
       "        EXEC_MIME_TYPE\n",
       "      );\n",
       "      this.keyboard_manager.register_events(toinsert);\n",
       "      // Render to node\n",
       "      var props = {data: data, metadata: metadata[EXEC_MIME_TYPE]};\n",
       "      render(props, toinsert[0]);\n",
       "      element.append(toinsert);\n",
       "      return toinsert\n",
       "    }\n",
       "\n",
       "    /* Handle when an output is cleared or removed */\n",
       "    events.on('clear_output.CodeCell', handleClearOutput);\n",
       "    events.on('delete.Cell', handleClearOutput);\n",
       "\n",
       "    /* Handle when a new output is added */\n",
       "    events.on('output_added.OutputArea', handleAddOutput);\n",
       "\n",
       "    /**\n",
       "     * Register the mime type and append_mime function with output_area\n",
       "     */\n",
       "    OutputArea.prototype.register_mime_type(EXEC_MIME_TYPE, append_mime, {\n",
       "      /* Is output safe? */\n",
       "      safe: true,\n",
       "      /* Index of renderer in `output_area.display_order` */\n",
       "      index: 0\n",
       "    });\n",
       "  }\n",
       "\n",
       "  // register the mime type if in Jupyter Notebook environment and previously unregistered\n",
       "  if (root.Jupyter !== undefined) {\n",
       "    var events = require('base/js/events');\n",
       "    var OutputArea = require('notebook/js/outputarea').OutputArea;\n",
       "\n",
       "    if (OutputArea.prototype.mime_types().indexOf(EXEC_MIME_TYPE) == -1) {\n",
       "      register_renderer(events, OutputArea);\n",
       "    }\n",
       "  }\n",
       "\n",
       "  \n",
       "  if (typeof (root._bokeh_timeout) === \"undefined\" || force === true) {\n",
       "    root._bokeh_timeout = Date.now() + 5000;\n",
       "    root._bokeh_failed_load = false;\n",
       "  }\n",
       "\n",
       "  var NB_LOAD_WARNING = {'data': {'text/html':\n",
       "     \"<div style='background-color: #fdd'>\\n\"+\n",
       "     \"<p>\\n\"+\n",
       "     \"BokehJS does not appear to have successfully loaded. If loading BokehJS from CDN, this \\n\"+\n",
       "     \"may be due to a slow or bad network connection. Possible fixes:\\n\"+\n",
       "     \"</p>\\n\"+\n",
       "     \"<ul>\\n\"+\n",
       "     \"<li>re-rerun `output_notebook()` to attempt to load from CDN again, or</li>\\n\"+\n",
       "     \"<li>use INLINE resources instead, as so:</li>\\n\"+\n",
       "     \"</ul>\\n\"+\n",
       "     \"<code>\\n\"+\n",
       "     \"from bokeh.resources import INLINE\\n\"+\n",
       "     \"output_notebook(resources=INLINE)\\n\"+\n",
       "     \"</code>\\n\"+\n",
       "     \"</div>\"}};\n",
       "\n",
       "  function display_loaded() {\n",
       "    var el = document.getElementById(\"96fb5de1-93b3-419d-9792-8eb96f0a4f1d\");\n",
       "    if (el != null) {\n",
       "      el.textContent = \"BokehJS is loading...\";\n",
       "    }\n",
       "    if (root.Bokeh !== undefined) {\n",
       "      if (el != null) {\n",
       "        el.textContent = \"BokehJS \" + root.Bokeh.version + \" successfully loaded.\";\n",
       "      }\n",
       "    } else if (Date.now() < root._bokeh_timeout) {\n",
       "      setTimeout(display_loaded, 100)\n",
       "    }\n",
       "  }\n",
       "\n",
       "\n",
       "  function run_callbacks() {\n",
       "    try {\n",
       "      root._bokeh_onload_callbacks.forEach(function(callback) { callback() });\n",
       "    }\n",
       "    finally {\n",
       "      delete root._bokeh_onload_callbacks\n",
       "    }\n",
       "    console.info(\"Bokeh: all callbacks have finished\");\n",
       "  }\n",
       "\n",
       "  function load_libs(js_urls, callback) {\n",
       "    root._bokeh_onload_callbacks.push(callback);\n",
       "    if (root._bokeh_is_loading > 0) {\n",
       "      console.log(\"Bokeh: BokehJS is being loaded, scheduling callback at\", now());\n",
       "      return null;\n",
       "    }\n",
       "    if (js_urls == null || js_urls.length === 0) {\n",
       "      run_callbacks();\n",
       "      return null;\n",
       "    }\n",
       "    console.log(\"Bokeh: BokehJS not loaded, scheduling load and callback at\", now());\n",
       "    root._bokeh_is_loading = js_urls.length;\n",
       "    for (var i = 0; i < js_urls.length; i++) {\n",
       "      var url = js_urls[i];\n",
       "      var s = document.createElement('script');\n",
       "      s.src = url;\n",
       "      s.async = false;\n",
       "      s.onreadystatechange = s.onload = function() {\n",
       "        root._bokeh_is_loading--;\n",
       "        if (root._bokeh_is_loading === 0) {\n",
       "          console.log(\"Bokeh: all BokehJS libraries loaded\");\n",
       "          run_callbacks()\n",
       "        }\n",
       "      };\n",
       "      s.onerror = function() {\n",
       "        console.warn(\"failed to load library \" + url);\n",
       "      };\n",
       "      console.log(\"Bokeh: injecting script tag for BokehJS library: \", url);\n",
       "      document.getElementsByTagName(\"head\")[0].appendChild(s);\n",
       "    }\n",
       "  };var element = document.getElementById(\"96fb5de1-93b3-419d-9792-8eb96f0a4f1d\");\n",
       "  if (element == null) {\n",
       "    console.log(\"Bokeh: ERROR: autoload.js configured with elementid '96fb5de1-93b3-419d-9792-8eb96f0a4f1d' but no matching script tag was found. \")\n",
       "    return false;\n",
       "  }\n",
       "\n",
       "  var js_urls = [\"https://cdn.pydata.org/bokeh/release/bokeh-0.12.13.min.js\", \"https://cdn.pydata.org/bokeh/release/bokeh-widgets-0.12.13.min.js\", \"https://cdn.pydata.org/bokeh/release/bokeh-tables-0.12.13.min.js\", \"https://cdn.pydata.org/bokeh/release/bokeh-gl-0.12.13.min.js\"];\n",
       "\n",
       "  var inline_js = [\n",
       "    function(Bokeh) {\n",
       "      Bokeh.set_log_level(\"info\");\n",
       "    },\n",
       "    \n",
       "    function(Bokeh) {\n",
       "      \n",
       "    },\n",
       "    function(Bokeh) {\n",
       "      console.log(\"Bokeh: injecting CSS: https://cdn.pydata.org/bokeh/release/bokeh-0.12.13.min.css\");\n",
       "      Bokeh.embed.inject_css(\"https://cdn.pydata.org/bokeh/release/bokeh-0.12.13.min.css\");\n",
       "      console.log(\"Bokeh: injecting CSS: https://cdn.pydata.org/bokeh/release/bokeh-widgets-0.12.13.min.css\");\n",
       "      Bokeh.embed.inject_css(\"https://cdn.pydata.org/bokeh/release/bokeh-widgets-0.12.13.min.css\");\n",
       "      console.log(\"Bokeh: injecting CSS: https://cdn.pydata.org/bokeh/release/bokeh-tables-0.12.13.min.css\");\n",
       "      Bokeh.embed.inject_css(\"https://cdn.pydata.org/bokeh/release/bokeh-tables-0.12.13.min.css\");\n",
       "    }\n",
       "  ];\n",
       "\n",
       "  function run_inline_js() {\n",
       "    \n",
       "    if ((root.Bokeh !== undefined) || (force === true)) {\n",
       "      for (var i = 0; i < inline_js.length; i++) {\n",
       "        inline_js[i].call(root, root.Bokeh);\n",
       "      }if (force === true) {\n",
       "        display_loaded();\n",
       "      }} else if (Date.now() < root._bokeh_timeout) {\n",
       "      setTimeout(run_inline_js, 100);\n",
       "    } else if (!root._bokeh_failed_load) {\n",
       "      console.log(\"Bokeh: BokehJS failed to load within specified timeout.\");\n",
       "      root._bokeh_failed_load = true;\n",
       "    } else if (force !== true) {\n",
       "      var cell = $(document.getElementById(\"96fb5de1-93b3-419d-9792-8eb96f0a4f1d\")).parents('.cell').data().cell;\n",
       "      cell.output_area.append_execute_result(NB_LOAD_WARNING)\n",
       "    }\n",
       "\n",
       "  }\n",
       "\n",
       "  if (root._bokeh_is_loading === 0) {\n",
       "    console.log(\"Bokeh: BokehJS loaded, going straight to plotting\");\n",
       "    run_inline_js();\n",
       "  } else {\n",
       "    load_libs(js_urls, function() {\n",
       "      console.log(\"Bokeh: BokehJS plotting callback run at\", now());\n",
       "      run_inline_js();\n",
       "    });\n",
       "  }\n",
       "}(window));"
      ],
      "application/vnd.bokehjs_load.v0+json": "\n(function(root) {\n  function now() {\n    return new Date();\n  }\n\n  var force = true;\n\n  if (typeof (root._bokeh_onload_callbacks) === \"undefined\" || force === true) {\n    root._bokeh_onload_callbacks = [];\n    root._bokeh_is_loading = undefined;\n  }\n\n  \n\n  \n  if (typeof (root._bokeh_timeout) === \"undefined\" || force === true) {\n    root._bokeh_timeout = Date.now() + 5000;\n    root._bokeh_failed_load = false;\n  }\n\n  var NB_LOAD_WARNING = {'data': {'text/html':\n     \"<div style='background-color: #fdd'>\\n\"+\n     \"<p>\\n\"+\n     \"BokehJS does not appear to have successfully loaded. If loading BokehJS from CDN, this \\n\"+\n     \"may be due to a slow or bad network connection. Possible fixes:\\n\"+\n     \"</p>\\n\"+\n     \"<ul>\\n\"+\n     \"<li>re-rerun `output_notebook()` to attempt to load from CDN again, or</li>\\n\"+\n     \"<li>use INLINE resources instead, as so:</li>\\n\"+\n     \"</ul>\\n\"+\n     \"<code>\\n\"+\n     \"from bokeh.resources import INLINE\\n\"+\n     \"output_notebook(resources=INLINE)\\n\"+\n     \"</code>\\n\"+\n     \"</div>\"}};\n\n  function display_loaded() {\n    var el = document.getElementById(\"96fb5de1-93b3-419d-9792-8eb96f0a4f1d\");\n    if (el != null) {\n      el.textContent = \"BokehJS is loading...\";\n    }\n    if (root.Bokeh !== undefined) {\n      if (el != null) {\n        el.textContent = \"BokehJS \" + root.Bokeh.version + \" successfully loaded.\";\n      }\n    } else if (Date.now() < root._bokeh_timeout) {\n      setTimeout(display_loaded, 100)\n    }\n  }\n\n\n  function run_callbacks() {\n    try {\n      root._bokeh_onload_callbacks.forEach(function(callback) { callback() });\n    }\n    finally {\n      delete root._bokeh_onload_callbacks\n    }\n    console.info(\"Bokeh: all callbacks have finished\");\n  }\n\n  function load_libs(js_urls, callback) {\n    root._bokeh_onload_callbacks.push(callback);\n    if (root._bokeh_is_loading > 0) {\n      console.log(\"Bokeh: BokehJS is being loaded, scheduling callback at\", now());\n      return null;\n    }\n    if (js_urls == null || js_urls.length === 0) {\n      run_callbacks();\n      return null;\n    }\n    console.log(\"Bokeh: BokehJS not loaded, scheduling load and callback at\", now());\n    root._bokeh_is_loading = js_urls.length;\n    for (var i = 0; i < js_urls.length; i++) {\n      var url = js_urls[i];\n      var s = document.createElement('script');\n      s.src = url;\n      s.async = false;\n      s.onreadystatechange = s.onload = function() {\n        root._bokeh_is_loading--;\n        if (root._bokeh_is_loading === 0) {\n          console.log(\"Bokeh: all BokehJS libraries loaded\");\n          run_callbacks()\n        }\n      };\n      s.onerror = function() {\n        console.warn(\"failed to load library \" + url);\n      };\n      console.log(\"Bokeh: injecting script tag for BokehJS library: \", url);\n      document.getElementsByTagName(\"head\")[0].appendChild(s);\n    }\n  };var element = document.getElementById(\"96fb5de1-93b3-419d-9792-8eb96f0a4f1d\");\n  if (element == null) {\n    console.log(\"Bokeh: ERROR: autoload.js configured with elementid '96fb5de1-93b3-419d-9792-8eb96f0a4f1d' but no matching script tag was found. \")\n    return false;\n  }\n\n  var js_urls = [\"https://cdn.pydata.org/bokeh/release/bokeh-0.12.13.min.js\", \"https://cdn.pydata.org/bokeh/release/bokeh-widgets-0.12.13.min.js\", \"https://cdn.pydata.org/bokeh/release/bokeh-tables-0.12.13.min.js\", \"https://cdn.pydata.org/bokeh/release/bokeh-gl-0.12.13.min.js\"];\n\n  var inline_js = [\n    function(Bokeh) {\n      Bokeh.set_log_level(\"info\");\n    },\n    \n    function(Bokeh) {\n      \n    },\n    function(Bokeh) {\n      console.log(\"Bokeh: injecting CSS: https://cdn.pydata.org/bokeh/release/bokeh-0.12.13.min.css\");\n      Bokeh.embed.inject_css(\"https://cdn.pydata.org/bokeh/release/bokeh-0.12.13.min.css\");\n      console.log(\"Bokeh: injecting CSS: https://cdn.pydata.org/bokeh/release/bokeh-widgets-0.12.13.min.css\");\n      Bokeh.embed.inject_css(\"https://cdn.pydata.org/bokeh/release/bokeh-widgets-0.12.13.min.css\");\n      console.log(\"Bokeh: injecting CSS: https://cdn.pydata.org/bokeh/release/bokeh-tables-0.12.13.min.css\");\n      Bokeh.embed.inject_css(\"https://cdn.pydata.org/bokeh/release/bokeh-tables-0.12.13.min.css\");\n    }\n  ];\n\n  function run_inline_js() {\n    \n    if ((root.Bokeh !== undefined) || (force === true)) {\n      for (var i = 0; i < inline_js.length; i++) {\n        inline_js[i].call(root, root.Bokeh);\n      }if (force === true) {\n        display_loaded();\n      }} else if (Date.now() < root._bokeh_timeout) {\n      setTimeout(run_inline_js, 100);\n    } else if (!root._bokeh_failed_load) {\n      console.log(\"Bokeh: BokehJS failed to load within specified timeout.\");\n      root._bokeh_failed_load = true;\n    } else if (force !== true) {\n      var cell = $(document.getElementById(\"96fb5de1-93b3-419d-9792-8eb96f0a4f1d\")).parents('.cell').data().cell;\n      cell.output_area.append_execute_result(NB_LOAD_WARNING)\n    }\n\n  }\n\n  if (root._bokeh_is_loading === 0) {\n    console.log(\"Bokeh: BokehJS loaded, going straight to plotting\");\n    run_inline_js();\n  } else {\n    load_libs(js_urls, function() {\n      console.log(\"Bokeh: BokehJS plotting callback run at\", now());\n      run_inline_js();\n    });\n  }\n}(window));"
     },
     "metadata": {},
     "output_type": "display_data"
    },
    {
     "data": {
      "text/html": [
       "\n",
       "<div class=\"bk-root\">\n",
       "    <div class=\"bk-plotdiv\" id=\"045ebd9f-2599-4ec5-8108-08cc6d69920a\"></div>\n",
       "</div>"
      ]
     },
     "metadata": {},
     "output_type": "display_data"
    },
    {
     "data": {
      "application/javascript": [
       "(function(root) {\n",
       "  function embed_document(root) {\n",
       "    \n",
       "  var docs_json = {\"68be72ad-43c2-4946-9e0c-a0ae9e5c0414\":{\"roots\":{\"references\":[{\"attributes\":{\"callback\":null},\"id\":\"e40b6675-bd32-4ae0-aeba-d2de68800eee\",\"type\":\"DataRange1d\"},{\"attributes\":{\"color_mapper\":{\"id\":\"aeb31919-7a46-41f7-8108-14c2ba99deb0\",\"type\":\"LinearColorMapper\"},\"dh\":{\"field\":\"dh\",\"units\":\"data\"},\"dw\":{\"field\":\"dw\",\"units\":\"data\"},\"image\":{\"field\":\"image\"},\"x\":{\"field\":\"x\"},\"y\":{\"field\":\"y\"}},\"id\":\"e0bc60fc-19d0-47e1-a901-99f0a487bd2d\",\"type\":\"Image\"},{\"attributes\":{},\"id\":\"2d4bd6f7-9e7a-4ad2-a92b-ef0783f95b67\",\"type\":\"PanTool\"},{\"attributes\":{\"plot\":null,\"text\":\"\"},\"id\":\"91ce0018-a84d-47ef-b0f0-2c54a9f8e547\",\"type\":\"Title\"},{\"attributes\":{},\"id\":\"33f4c8ff-78d1-46af-b8be-ad5d71d3bc3f\",\"type\":\"LinearScale\"},{\"attributes\":{\"palette\":[\"#7f0000\",\"#b30000\",\"#d7301f\",\"#ef6548\",\"#fc8d59\",\"#fdbb84\",\"#fdd49e\",\"#fee8c8\",\"#fff7ec\"]},\"id\":\"af34abff-f6b0-492a-8e28-e0f1983dee32\",\"type\":\"LinearColorMapper\"},{\"attributes\":{},\"id\":\"3360338c-0b68-4c5d-9fcd-2a346af5bfe0\",\"type\":\"HelpTool\"},{\"attributes\":{\"callback\":null,\"column_names\":[\"image\",\"x\",\"y\",\"dw\",\"dh\"],\"data\":{\"dh\":[1],\"dw\":[1],\"image\":[{\"__ndarray__\":\"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\",\"dtype\":\"float64\",\"shape\":[120,120]}],\"x\":[0],\"y\":[0]}},\"id\":\"cadb98f8-0068-4bfd-9e35-883574fd78b3\",\"type\":\"ColumnDataSource\"},{\"attributes\":{},\"id\":\"56b9a8c7-1694-466a-ad8c-09d7e2e19700\",\"type\":\"LinearScale\"},{\"attributes\":{},\"id\":\"ca30b95f-bd32-437d-88c4-8d002bd96c15\",\"type\":\"SaveTool\"},{\"attributes\":{},\"id\":\"6bf671e5-f605-4479-8710-fec742ee7df0\",\"type\":\"BasicTicker\"},{\"attributes\":{\"callback\":null},\"id\":\"bdbe9064-175e-4ff5-bfb2-65086e129aa9\",\"type\":\"DataRange1d\"},{\"attributes\":{\"dimension\":1,\"plot\":{\"id\":\"43b4dc46-a74b-4192-a55c-ff3fc82ed3df\",\"subtype\":\"Figure\",\"type\":\"Plot\"},\"ticker\":{\"id\":\"6bf671e5-f605-4479-8710-fec742ee7df0\",\"type\":\"BasicTicker\"}},\"id\":\"9b5cdbf7-deb8-4c54-915d-107650fffcce\",\"type\":\"Grid\"},{\"attributes\":{},\"id\":\"39e7a7a1-676f-42b6-8bd6-17796a7d8833\",\"type\":\"ResetTool\"},{\"attributes\":{\"formatter\":{\"id\":\"2c1b3f64-8a16-44f1-9f2f-6cf032aaa4eb\",\"type\":\"BasicTickFormatter\"},\"plot\":{\"id\":\"43b4dc46-a74b-4192-a55c-ff3fc82ed3df\",\"subtype\":\"Figure\",\"type\":\"Plot\"},\"ticker\":{\"id\":\"738048e2-d341-4598-b6bf-50adbe4e22fe\",\"type\":\"BasicTicker\"}},\"id\":\"845afbee-a65b-4398-9414-5db3ef4e45fd\",\"type\":\"LinearAxis\"},{\"attributes\":{\"palette\":[\"#7f0000\",\"#b30000\",\"#d7301f\",\"#ef6548\",\"#fc8d59\",\"#fdbb84\",\"#fdd49e\",\"#fee8c8\",\"#fff7ec\"]},\"id\":\"aeb31919-7a46-41f7-8108-14c2ba99deb0\",\"type\":\"LinearColorMapper\"},{\"attributes\":{},\"id\":\"2c1b3f64-8a16-44f1-9f2f-6cf032aaa4eb\",\"type\":\"BasicTickFormatter\"},{\"attributes\":{\"active_drag\":\"auto\",\"active_inspect\":\"auto\",\"active_scroll\":\"auto\",\"active_tap\":\"auto\",\"tools\":[{\"id\":\"2d4bd6f7-9e7a-4ad2-a92b-ef0783f95b67\",\"type\":\"PanTool\"},{\"id\":\"9739d19d-43ca-492f-b731-81e17e8d073a\",\"type\":\"WheelZoomTool\"},{\"id\":\"20f34d50-fbc3-436b-b9dd-34813966f0a6\",\"type\":\"BoxZoomTool\"},{\"id\":\"ca30b95f-bd32-437d-88c4-8d002bd96c15\",\"type\":\"SaveTool\"},{\"id\":\"39e7a7a1-676f-42b6-8bd6-17796a7d8833\",\"type\":\"ResetTool\"},{\"id\":\"3360338c-0b68-4c5d-9fcd-2a346af5bfe0\",\"type\":\"HelpTool\"}]},\"id\":\"404b93ef-82d7-4051-b03a-99232ef22a3e\",\"type\":\"Toolbar\"},{\"attributes\":{\"data_source\":{\"id\":\"cadb98f8-0068-4bfd-9e35-883574fd78b3\",\"type\":\"ColumnDataSource\"},\"glyph\":{\"id\":\"62ff8c09-8d1a-41e3-b544-7b09456718f7\",\"type\":\"Image\"},\"hover_glyph\":null,\"muted_glyph\":null,\"nonselection_glyph\":{\"id\":\"e0bc60fc-19d0-47e1-a901-99f0a487bd2d\",\"type\":\"Image\"},\"selection_glyph\":null,\"view\":{\"id\":\"6337cd16-db6c-4809-9b51-398ffa01a0de\",\"type\":\"CDSView\"}},\"id\":\"49366081-64ef-434a-b4c4-0d6c79dddc04\",\"type\":\"GlyphRenderer\"},{\"attributes\":{\"formatter\":{\"id\":\"31393c34-5f41-4822-86be-befe3eae467c\",\"type\":\"BasicTickFormatter\"},\"plot\":{\"id\":\"43b4dc46-a74b-4192-a55c-ff3fc82ed3df\",\"subtype\":\"Figure\",\"type\":\"Plot\"},\"ticker\":{\"id\":\"6bf671e5-f605-4479-8710-fec742ee7df0\",\"type\":\"BasicTicker\"}},\"id\":\"307120c4-cdfe-4c5a-9085-a99ab44f31b7\",\"type\":\"LinearAxis\"},{\"attributes\":{},\"id\":\"31393c34-5f41-4822-86be-befe3eae467c\",\"type\":\"BasicTickFormatter\"},{\"attributes\":{\"below\":[{\"id\":\"845afbee-a65b-4398-9414-5db3ef4e45fd\",\"type\":\"LinearAxis\"}],\"left\":[{\"id\":\"307120c4-cdfe-4c5a-9085-a99ab44f31b7\",\"type\":\"LinearAxis\"}],\"renderers\":[{\"id\":\"845afbee-a65b-4398-9414-5db3ef4e45fd\",\"type\":\"LinearAxis\"},{\"id\":\"53a686f1-926c-4252-8f1f-42a2bc96ae0a\",\"type\":\"Grid\"},{\"id\":\"307120c4-cdfe-4c5a-9085-a99ab44f31b7\",\"type\":\"LinearAxis\"},{\"id\":\"9b5cdbf7-deb8-4c54-915d-107650fffcce\",\"type\":\"Grid\"},{\"id\":\"979e10de-f039-4cdb-ad26-448a82f91373\",\"type\":\"BoxAnnotation\"},{\"id\":\"49366081-64ef-434a-b4c4-0d6c79dddc04\",\"type\":\"GlyphRenderer\"}],\"title\":{\"id\":\"91ce0018-a84d-47ef-b0f0-2c54a9f8e547\",\"type\":\"Title\"},\"toolbar\":{\"id\":\"404b93ef-82d7-4051-b03a-99232ef22a3e\",\"type\":\"Toolbar\"},\"x_range\":{\"id\":\"bdbe9064-175e-4ff5-bfb2-65086e129aa9\",\"type\":\"DataRange1d\"},\"x_scale\":{\"id\":\"33f4c8ff-78d1-46af-b8be-ad5d71d3bc3f\",\"type\":\"LinearScale\"},\"y_range\":{\"id\":\"e40b6675-bd32-4ae0-aeba-d2de68800eee\",\"type\":\"DataRange1d\"},\"y_scale\":{\"id\":\"56b9a8c7-1694-466a-ad8c-09d7e2e19700\",\"type\":\"LinearScale\"}},\"id\":\"43b4dc46-a74b-4192-a55c-ff3fc82ed3df\",\"subtype\":\"Figure\",\"type\":\"Plot\"},{\"attributes\":{},\"id\":\"738048e2-d341-4598-b6bf-50adbe4e22fe\",\"type\":\"BasicTicker\"},{\"attributes\":{\"color_mapper\":{\"id\":\"af34abff-f6b0-492a-8e28-e0f1983dee32\",\"type\":\"LinearColorMapper\"},\"dh\":{\"field\":\"dh\",\"units\":\"data\"},\"dw\":{\"field\":\"dw\",\"units\":\"data\"},\"image\":{\"field\":\"image\"},\"x\":{\"field\":\"x\"},\"y\":{\"field\":\"y\"}},\"id\":\"62ff8c09-8d1a-41e3-b544-7b09456718f7\",\"type\":\"Image\"},{\"attributes\":{\"source\":{\"id\":\"cadb98f8-0068-4bfd-9e35-883574fd78b3\",\"type\":\"ColumnDataSource\"}},\"id\":\"6337cd16-db6c-4809-9b51-398ffa01a0de\",\"type\":\"CDSView\"},{\"attributes\":{\"overlay\":{\"id\":\"979e10de-f039-4cdb-ad26-448a82f91373\",\"type\":\"BoxAnnotation\"}},\"id\":\"20f34d50-fbc3-436b-b9dd-34813966f0a6\",\"type\":\"BoxZoomTool\"},{\"attributes\":{},\"id\":\"9739d19d-43ca-492f-b731-81e17e8d073a\",\"type\":\"WheelZoomTool\"},{\"attributes\":{\"bottom_units\":\"screen\",\"fill_alpha\":{\"value\":0.5},\"fill_color\":{\"value\":\"lightgrey\"},\"left_units\":\"screen\",\"level\":\"overlay\",\"line_alpha\":{\"value\":1.0},\"line_color\":{\"value\":\"black\"},\"line_dash\":[4,4],\"line_width\":{\"value\":2},\"plot\":null,\"render_mode\":\"css\",\"right_units\":\"screen\",\"top_units\":\"screen\"},\"id\":\"979e10de-f039-4cdb-ad26-448a82f91373\",\"type\":\"BoxAnnotation\"},{\"attributes\":{\"plot\":{\"id\":\"43b4dc46-a74b-4192-a55c-ff3fc82ed3df\",\"subtype\":\"Figure\",\"type\":\"Plot\"},\"ticker\":{\"id\":\"738048e2-d341-4598-b6bf-50adbe4e22fe\",\"type\":\"BasicTicker\"}},\"id\":\"53a686f1-926c-4252-8f1f-42a2bc96ae0a\",\"type\":\"Grid\"}],\"root_ids\":[\"43b4dc46-a74b-4192-a55c-ff3fc82ed3df\"]},\"title\":\"Bokeh Application\",\"version\":\"0.12.13\"}};\n",
       "  var render_items = [{\"docid\":\"68be72ad-43c2-4946-9e0c-a0ae9e5c0414\",\"elementid\":\"045ebd9f-2599-4ec5-8108-08cc6d69920a\",\"modelid\":\"43b4dc46-a74b-4192-a55c-ff3fc82ed3df\"}];\n",
       "  root.Bokeh.embed.embed_items_notebook(docs_json, render_items);\n",
       "\n",
       "  }\n",
       "  if (root.Bokeh !== undefined) {\n",
       "    embed_document(root);\n",
       "  } else {\n",
       "    var attempts = 0;\n",
       "    var timer = setInterval(function(root) {\n",
       "      if (root.Bokeh !== undefined) {\n",
       "        embed_document(root);\n",
       "        clearInterval(timer);\n",
       "      }\n",
       "      attempts++;\n",
       "      if (attempts > 100) {\n",
       "        console.log(\"Bokeh: ERROR: Unable to run BokehJS code because BokehJS library is missing\")\n",
       "        clearInterval(timer);\n",
       "      }\n",
       "    }, 10, root)\n",
       "  }\n",
       "})(window);"
      ],
      "application/vnd.bokehjs_exec.v0+json": ""
     },
     "metadata": {
      "application/vnd.bokehjs_exec.v0+json": {
       "id": "43b4dc46-a74b-4192-a55c-ff3fc82ed3df"
      }
     },
     "output_type": "display_data"
    }
   ],
   "source": [
    "# %load utilities/plot_utilities.py\n",
    "import numpy as np\n",
    "import bokeh.plotting as bk\n",
    "bk.output_notebook()\n",
    "    \n",
    "def plot_01():\n",
    "    image = np.random.randn(120, 120)\n",
    "    fig = bk.figure()\n",
    "    fig.image([image], x=[0], y=[0], dw=[1], dh=[1], palette='OrRd9')\n",
    "    return fig\n",
    "\n",
    "if __name__ == '__main__':\n",
    "    fig = plot_01()\n",
    "    bk.show(fig)\n"
   ]
  },
  {
   "cell_type": "markdown",
   "metadata": {},
   "source": [
    "## 4 Basic Linear Algebra"
   ]
  },
  {
   "cell_type": "code",
   "execution_count": 25,
   "metadata": {},
   "outputs": [
    {
     "name": "stdout",
     "output_type": "stream",
     "text": [
      "[0.         0.15789474 0.31578947 0.47368421 0.63157895 0.78947368\n",
      " 0.94736842 1.10526316 1.26315789 1.42105263 1.57894737 1.73684211\n",
      " 1.89473684 2.05263158 2.21052632 2.36842105 2.52631579 2.68421053\n",
      " 2.84210526 3.        ]\n"
     ]
    }
   ],
   "source": [
    "# Transpose\n",
    "print (x.T)"
   ]
  },
  {
   "cell_type": "markdown",
   "metadata": {},
   "source": [
    "Explore the available commands for numpy arrays (press x.+TAB) ***Try by yourself:*** \n",
    "    \n",
    "    x.min()\n",
    "    x.max()\n",
    "    x.mean()\n",
    "    x.cumsum()"
   ]
  },
  {
   "cell_type": "code",
   "execution_count": 26,
   "metadata": {},
   "outputs": [
    {
     "data": {
      "text/plain": [
       "0.0"
      ]
     },
     "execution_count": 26,
     "metadata": {},
     "output_type": "execute_result"
    }
   ],
   "source": [
    "x.min()"
   ]
  },
  {
   "cell_type": "code",
   "execution_count": 27,
   "metadata": {},
   "outputs": [
    {
     "name": "stdout",
     "output_type": "stream",
     "text": [
      "[ 0.          0.78947368  1.57894737  2.36842105  3.15789474  3.94736842\n",
      "  4.73684211  5.52631579  6.31578947  7.10526316  7.89473684  8.68421053\n",
      "  9.47368421 10.26315789 11.05263158 11.84210526 12.63157895 13.42105263\n",
      " 14.21052632 15.        ]\n",
      "[3.         3.15789474 3.31578947 3.47368421 3.63157895 3.78947368\n",
      " 3.94736842 4.10526316 4.26315789 4.42105263 4.57894737 4.73684211\n",
      " 4.89473684 5.05263158 5.21052632 5.36842105 5.52631579 5.68421053\n",
      " 5.84210526 6.        ]\n"
     ]
    }
   ],
   "source": [
    "print (x*5)         # Scalar expansion\n",
    "print (x+3)"
   ]
  },
  {
   "cell_type": "code",
   "execution_count": 28,
   "metadata": {},
   "outputs": [
    {
     "name": "stdout",
     "output_type": "stream",
     "text": [
      "[0.         0.02493075 0.09972299 0.22437673 0.39889197 0.6232687\n",
      " 0.89750693 1.22160665 1.59556787 2.01939058 2.49307479 3.0166205\n",
      " 3.5900277  4.2132964  4.88642659 5.60941828 6.38227147 7.20498615\n",
      " 8.07756233 9.        ]\n",
      "61.578947368421055\n"
     ]
    }
   ],
   "source": [
    "print (x*x.T)       # Elementwise product\n",
    "print (np.dot(x,x.T))  # Dot (matrix) product"
   ]
  },
  {
   "cell_type": "markdown",
   "metadata": {},
   "source": [
    "### 4.1 Determinant of a square matrix"
   ]
  },
  {
   "cell_type": "markdown",
   "metadata": {},
   "source": [
    "The `scipy.linalg.det()` function computes the determinant of a square matrix:"
   ]
  },
  {
   "cell_type": "code",
   "execution_count": 29,
   "metadata": {},
   "outputs": [
    {
     "data": {
      "text/plain": [
       "-2.0"
      ]
     },
     "execution_count": 29,
     "metadata": {},
     "output_type": "execute_result"
    }
   ],
   "source": [
    "from scipy import linalg\n",
    "arr = np.array([[1, 2],\n",
    "               [3, 4]])\n",
    "linalg.det(arr)"
   ]
  },
  {
   "cell_type": "markdown",
   "metadata": {},
   "source": [
    "### 4.2 Inverse of a square matrix"
   ]
  },
  {
   "cell_type": "markdown",
   "metadata": {},
   "source": [
    "The `scipy.linalg.inv()` function computes the inverse of a square matrix:"
   ]
  },
  {
   "cell_type": "code",
   "execution_count": 30,
   "metadata": {},
   "outputs": [
    {
     "name": "stdout",
     "output_type": "stream",
     "text": [
      "[[-2.   1. ]\n",
      " [ 1.5 -0.5]]\n"
     ]
    }
   ],
   "source": [
    "print (linalg.inv(arr))"
   ]
  },
  {
   "cell_type": "markdown",
   "metadata": {},
   "source": [
    "### 4.3 Advanced Linear Algebra"
   ]
  },
  {
   "cell_type": "markdown",
   "metadata": {},
   "source": [
    "In **Scipy** many advanced operations are available (check the Scipy Reference), for example singular-value decomposition (SVD):"
   ]
  },
  {
   "cell_type": "code",
   "execution_count": 31,
   "metadata": {
    "collapsed": true
   },
   "outputs": [],
   "source": [
    "arr = np.arange(9).reshape((3, 3)) + np.diag([1, 0, 1])\n",
    "uarr, spec, vharr = linalg.svd(arr)"
   ]
  },
  {
   "cell_type": "markdown",
   "metadata": {},
   "source": [
    "The resulting array spectrum is:"
   ]
  },
  {
   "cell_type": "code",
   "execution_count": 32,
   "metadata": {},
   "outputs": [
    {
     "data": {
      "text/plain": [
       "array([14.88982544,  0.45294236,  0.29654967])"
      ]
     },
     "execution_count": 32,
     "metadata": {},
     "output_type": "execute_result"
    }
   ],
   "source": [
    "spec"
   ]
  },
  {
   "cell_type": "markdown",
   "metadata": {},
   "source": [
    "## 5 Slicing -Indexing for MATLAB<sup>&reg;</sup> Users-"
   ]
  },
  {
   "cell_type": "markdown",
   "metadata": {},
   "source": [
    "For MATLAB<sup>&reg;</sup> users: in Python, like many other languages, indexing start from **zero** and not from one like MATLAB.\n",
    "\n",
    "Remember: slices (indexed subarrays) are references to memory in the original array, this means that if you modify a slice, you modify the original array. In other words a slice is a pointer to the original array."
   ]
  },
  {
   "cell_type": "code",
   "execution_count": 33,
   "metadata": {},
   "outputs": [
    {
     "name": "stdout",
     "output_type": "stream",
     "text": [
      "[[0 1 2 3]\n",
      " [4 5 6 7]]\n"
     ]
    }
   ],
   "source": [
    "b = np.arange(8).reshape(2,4)\n",
    "print (b)"
   ]
  },
  {
   "cell_type": "markdown",
   "metadata": {},
   "source": [
    "### 5.1 Indexing single elements"
   ]
  },
  {
   "cell_type": "markdown",
   "metadata": {},
   "source": [
    "***Try by yourself:***\n",
    "\n",
    "    print b[0,0]\n",
    "    print b[-1,-1]   # Last element\n",
    "    print b[:,1]     # column number 1 (second column)"
   ]
  },
  {
   "cell_type": "code",
   "execution_count": 34,
   "metadata": {
    "collapsed": true
   },
   "outputs": [],
   "source": [
    "# Indexing single elements\n"
   ]
  },
  {
   "cell_type": "markdown",
   "metadata": {},
   "source": [
    "<img src=\"images/numpy_array.jpg\" > *Figure 01*"
   ]
  },
  {
   "cell_type": "markdown",
   "metadata": {},
   "source": [
    "### 5.2 Indexing by rows and columns"
   ]
  },
  {
   "cell_type": "code",
   "execution_count": 35,
   "metadata": {
    "collapsed": true
   },
   "outputs": [],
   "source": [
    "# With reference to Figure 01:\n",
    "a = np.array([[10*j+i for i in range(6)] for j in range(6)])"
   ]
  },
  {
   "cell_type": "markdown",
   "metadata": {},
   "source": [
    "***Try by yourself:***\n",
    "\n",
    "    print a[0,3:5]     # Orange\n",
    "    print a[4:,4:]     # Blue\n",
    "    print a[:, 2]      # Red\n",
    "    print a[2::2, ::2] # Green"
   ]
  },
  {
   "cell_type": "code",
   "execution_count": 36,
   "metadata": {
    "collapsed": true
   },
   "outputs": [],
   "source": [
    "#Indexing multiple elements\n"
   ]
  },
  {
   "cell_type": "markdown",
   "metadata": {},
   "source": [
    "To replicate an array use 'copy':"
   ]
  },
  {
   "cell_type": "code",
   "execution_count": 37,
   "metadata": {
    "collapsed": true
   },
   "outputs": [],
   "source": [
    "c = np.array(a, copy=True)"
   ]
  },
  {
   "cell_type": "markdown",
   "metadata": {},
   "source": [
    "## 6 File Input / Output"
   ]
  },
  {
   "cell_type": "markdown",
   "metadata": {},
   "source": [
    "Numpy has special functions for:\n",
    "\n",
    "* Load/Save text files: `numpy.loadtxt()`/`numpy.savetxt()`\n",
    "* Clever loading of text/csv files: `numpy.genfromtxt()`/`numpy.recfromcsv()`\n",
    "* Fast and efficient, but numpy-specific, binary format: `numpy.save()`/`numpy.load()`\n",
    "\n",
    "In particular Numpy can load and save native MATLAB<sup>&reg;</sup> files:"
   ]
  },
  {
   "cell_type": "code",
   "execution_count": 38,
   "metadata": {},
   "outputs": [
    {
     "data": {
      "text/plain": [
       "array([[ 0,  1,  2,  3,  4,  5],\n",
       "       [10, 11, 12, 13, 14, 15],\n",
       "       [20, 21, 22, 23, 24, 25],\n",
       "       [30, 31, 32, 33, 34, 35],\n",
       "       [40, 41, 42, 43, 44, 45],\n",
       "       [50, 51, 52, 53, 54, 55]])"
      ]
     },
     "execution_count": 38,
     "metadata": {},
     "output_type": "execute_result"
    }
   ],
   "source": [
    "from scipy import io as spio\n",
    "spio.savemat('temp/test.mat', {'c': c}, oned_as='row') # savemat expects a dictionary\n",
    "data = spio.loadmat('temp/test.mat')\n",
    "data['c']"
   ]
  },
  {
   "cell_type": "markdown",
   "metadata": {},
   "source": [
    "---\n",
    "\n",
    "Visit [www.add-for.com](<http://www.add-for.com/IT>) for more tutorials and updates.\n",
    "\n",
    "This work is licensed under a <a rel=\"license\" href=\"http://creativecommons.org/licenses/by-sa/4.0/\">Creative Commons Attribution-ShareAlike 4.0 International License</a>."
   ]
  }
 ],
 "metadata": {
  "kernelspec": {
   "display_name": "Python [conda env:addfor_tutorials]",
   "language": "python",
   "name": "conda-env-addfor_tutorials-py"
  },
  "language_info": {
   "codemirror_mode": {
    "name": "ipython",
    "version": 3
   },
   "file_extension": ".py",
   "mimetype": "text/x-python",
   "name": "python",
   "nbconvert_exporter": "python",
   "pygments_lexer": "ipython3",
   "version": "3.6.4"
  }
 },
 "nbformat": 4,
 "nbformat_minor": 1
}
