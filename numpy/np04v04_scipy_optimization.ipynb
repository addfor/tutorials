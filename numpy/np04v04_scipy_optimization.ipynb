{
 "cells": [
  {
   "cell_type": "markdown",
   "metadata": {},
   "source": [
    "# Scipy - Optimization"
   ]
  },
  {
   "cell_type": "code",
   "execution_count": 1,
   "metadata": {},
   "outputs": [
    {
     "data": {
      "text/html": [
       "<div id='toc-container'><script type='text/javascript'>\n",
       "$(function() {\n",
       "    function regenTOC(){\n",
       "        element = $(\"#toc-container\");\n",
       "\n",
       "\tvar toc = document.createElement(\"div\");\n",
       "\t$(toc).attr(\"class\", \"table-of-contents\");\n",
       "\n",
       "\tvar curLevel = 0;\n",
       "\tvar containerStack = [toc];\n",
       "\tvar levelOfTag = {\"h2\": 1, \"h3\": 2, \"h4\": 3, \"h5\": 4};\n",
       "\n",
       "\tfunction pushLevel() {\n",
       "            var list = document.createElement(\"ul\");\n",
       "            containerStack.push(list);\n",
       "            curLevel++;\n",
       "\t}\n",
       "\t\n",
       "\tfunction popLevel() {\n",
       "            var lastContainer = containerStack.pop();\n",
       "            $(lastContainer).appendTo(containerStack[containerStack.length - 1]);\n",
       "            curLevel--;\n",
       "\t}\n",
       "\t\n",
       "\t$(\".text_cell_render :header\").each(function (i, elem) {\n",
       "            var level = levelOfTag[ elem.tagName.toLowerCase() ];\n",
       "\n",
       "            if (level === undefined)\n",
       "\t\treturn;\n",
       "\n",
       "            while (curLevel < level)\n",
       "\t\tpushLevel();\n",
       "            while (curLevel > level)\n",
       "\t\tpopLevel();\n",
       "            \n",
       "            var listItem = document.createElement(\"li\");\n",
       "            var link = document.createElement(\"a\");\n",
       "            $(link)\n",
       "\t\t.text($(elem).contents().first().text()) // Remove the pilcrow sign\n",
       "\t\t.attr(\"href\", \"#\" + $(elem).attr(\"id\"))\n",
       "\t\t.appendTo(listItem);\n",
       "            $(listItem).appendTo(containerStack[containerStack.length - 1]);\n",
       "\t});\n",
       "\t\n",
       "\twhile (curLevel > 0)\n",
       "            popLevel();\n",
       "\n",
       "        $(\"<a class='btn-update' href='#'>Update</a>\")\n",
       "          .click(regenTOC).prependTo(toc);\n",
       "\n",
       "\t$(toc).prepend(\"<div class='title'>Contents</div>\")\n",
       "          .wrap(\"<div class='toc-headings'/>\");\n",
       "\n",
       "        $(element).empty();\n",
       "        $(element).append(toc);\n",
       "    }\n",
       "\n",
       "    if (typeof(IPython) !== 'undefined')\n",
       "        $([IPython.events]).on('notebook_loaded.Notebook', regenTOC);\n",
       "    regenTOC();\n",
       "});\n",
       "\n",
       "</script></div>"
      ],
      "text/plain": [
       "<IPython.core.display.HTML object>"
      ]
     },
     "execution_count": 1,
     "metadata": {},
     "output_type": "execute_result"
    }
   ],
   "source": [
    "import addutils.toc ; addutils.toc.js(ipy_notebook=True)"
   ]
  },
  {
   "cell_type": "code",
   "execution_count": 2,
   "metadata": {},
   "outputs": [
    {
     "data": {
      "text/html": [
       "<style>\n",
       ".text_cell_render @font-face {\n",
       "    font-family: \"Computer Modern\";\n",
       "    src: url('http://mirrors.ctan.org/fonts/cm-unicode/fonts/otf/cmunss.otf');\n",
       "}\n",
       "\n",
       "div.cell {\n",
       "    width: 900px;\n",
       "    margin-left: 0% !important;\n",
       "    margin-right: 0%;\n",
       "}\n",
       "\n",
       "code {\n",
       "    font-size:10pt;\n",
       "}\n",
       "\n",
       ".text_cell_render  h1 {\n",
       "    font-family: Tahoma, sans-serif;\n",
       "    color: rgb( 10, 88, 126 );\n",
       "    font-size:28pt;\n",
       "}\n",
       ".text_cell_render h2 {\n",
       "    font-family: Tahoma, sans-serif;\n",
       "    color: rgb( 10, 88, 126 );\n",
       "    font-size:24pt;\n",
       "}\n",
       ".text_cell_render h3 {\n",
       "    font-family: Tahoma, sans-serif;\n",
       "    color: rgb( 10, 88, 126 );\n",
       "    font-size:20pt;\n",
       "}\n",
       ".text_cell_render h4 {\n",
       "    font-family: Tahoma, sans-serif;\n",
       "    color: rgb( 10, 88, 126 );\n",
       "    font-size:18pt;\n",
       "    margin-top:12px;\n",
       "    margin-bottom: 3px;\n",
       "}\n",
       "\n",
       ".text_cell_render h5 {\n",
       "    font-weight: 300;\n",
       "    font-size: 11pt;\n",
       "    color: rgb( 48, 48, 48 );\n",
       "    font-style: italic;\n",
       "    margin-bottom: .5em;\n",
       "    margin-top: 0.5em;\n",
       "    display: block;\n",
       "}\n",
       "\n",
       ".text_cell_render ul {\n",
       "    font-family: Tahoma, sans-serif;\n",
       "    color: rgb( 90, 90, 90 );\n",
       "    font-size:11pt;\n",
       "    line-height: 185%;\n",
       "}\n",
       "\n",
       ".text_cell_render yp {\n",
       "    font-family: Tahoma, sans-serif;\n",
       "    color: rgb( 90, 90, 90 );\n",
       "    font-size:11pt;\n",
       "}\n",
       "\n",
       ".text_cell_render strong {\n",
       "    font-family: Tahoma, sans-serif;\n",
       "    color: rgb( 30, 30, 30 );\n",
       "    font-size:11pt;\n",
       "}\n",
       "\n",
       ".text_cell_render a:link {\n",
       "    font-family: Tahoma, sans-serif;\n",
       "    color: rgb( 10, 88, 126 );\n",
       "    font-size:11pt;\n",
       "}\n",
       "\n",
       ".text_cell_render a:visited {\n",
       "    color:rgb( 10, 88, 126 );\n",
       "}\n",
       "\n",
       ".text_cell_render {\n",
       "    font-family: Helvetica, Courier, Computer Modern, \"Helvetica Neue\", Arial, Geneva, sans-serif;\n",
       "    color: rgb( 84, 84, 84 );\n",
       "    font-size:11pt;\n",
       "    line-height: 125%;\n",
       "    font-size: 100%;\n",
       "    width:800px;\n",
       "}\n",
       "\n",
       ".CodeMirror {\n",
       "    font-family: Courier, \"Source Code Pro\", source-code-pro,Consolas, monospace;\n",
       "}\n",
       "\n",
       ".warning {\n",
       "    color: rgb( 240, 20, 20 );\n",
       "}\n",
       "\n",
       "/* Pandas tables */\n",
       "/*\n",
       ".rendered_html td {\n",
       "    text-align: right;\n",
       "}\n",
       "*/\n",
       "\n",
       "table.dataframe td {\n",
       "    text-align: right;\n",
       "}\n",
       "\n",
       ".output .table-of-contents {\n",
       "    border: 1px #cecece solid;\n",
       "    background-color: #fafafa;\n",
       "    padding-top: 10px;\n",
       "    padding-bottom: 5px;\n",
       "    padding-right: 15px;\n",
       "    padding-left: 0px;\n",
       "    margin-bottom: 20px;\n",
       "    display: inline-block;\n",
       "    position: relative;\n",
       "}\n",
       "\n",
       ".output .table-of-contents ul {\n",
       "    list-style-type: none;\n",
       "    padding-left: 20px;\n",
       "}\n",
       "\n",
       ".output .table-of-contents .title {\n",
       "    font-weight: bold;\n",
       "    font-height: 11pt;\n",
       "    padding-left: 20px; /* looks better if it's the same to the <ul> */\n",
       "}\n",
       "\n",
       ".output .table-of-contents .btn-update {\n",
       "    position: absolute;\n",
       "    float: right;\n",
       "    right: 11px;\n",
       "    top: 4px;\n",
       "    font-size: 9pt;\n",
       "}\n",
       "\n",
       "</style>\n",
       "<script>\n",
       "    MathJax.Hub.Config({\n",
       "                        TeX: {\n",
       "                           extensions: [\"AMSmath.js\"]\n",
       "                           },\n",
       "                displayAlign: 'center', // Change this to 'center' to center equations.\n",
       "                \"HTML-CSS\": {\n",
       "                    styles: {'.MathJax_Display': {\"margin\": 4}}\n",
       "                }\n",
       "        });\n",
       "</script>\n"
      ],
      "text/plain": [
       "<IPython.core.display.HTML object>"
      ]
     },
     "execution_count": 2,
     "metadata": {},
     "output_type": "execute_result"
    }
   ],
   "source": [
    "import bokeh.plotting as bk\n",
    "from addutils import css_notebook\n",
    "css_notebook()"
   ]
  },
  {
   "cell_type": "code",
   "execution_count": 3,
   "metadata": {},
   "outputs": [
    {
     "data": {
      "text/html": [
       "\n",
       "    <div class=\"bk-root\">\n",
       "        <a href=\"https://bokeh.pydata.org\" target=\"_blank\" class=\"bk-logo bk-logo-small bk-logo-notebook\"></a>\n",
       "        <span id=\"2c5b3fbd-bd65-43e1-aee8-e67963952e40\">Loading BokehJS ...</span>\n",
       "    </div>"
      ]
     },
     "metadata": {},
     "output_type": "display_data"
    },
    {
     "data": {
      "application/javascript": [
       "\n",
       "(function(root) {\n",
       "  function now() {\n",
       "    return new Date();\n",
       "  }\n",
       "\n",
       "  var force = true;\n",
       "\n",
       "  if (typeof (root._bokeh_onload_callbacks) === \"undefined\" || force === true) {\n",
       "    root._bokeh_onload_callbacks = [];\n",
       "    root._bokeh_is_loading = undefined;\n",
       "  }\n",
       "\n",
       "  var JS_MIME_TYPE = 'application/javascript';\n",
       "  var HTML_MIME_TYPE = 'text/html';\n",
       "  var EXEC_MIME_TYPE = 'application/vnd.bokehjs_exec.v0+json';\n",
       "  var CLASS_NAME = 'output_bokeh rendered_html';\n",
       "\n",
       "  /**\n",
       "   * Render data to the DOM node\n",
       "   */\n",
       "  function render(props, node) {\n",
       "    var script = document.createElement(\"script\");\n",
       "    node.appendChild(script);\n",
       "  }\n",
       "\n",
       "  /**\n",
       "   * Handle when an output is cleared or removed\n",
       "   */\n",
       "  function handleClearOutput(event, handle) {\n",
       "    var cell = handle.cell;\n",
       "\n",
       "    var id = cell.output_area._bokeh_element_id;\n",
       "    var server_id = cell.output_area._bokeh_server_id;\n",
       "    // Clean up Bokeh references\n",
       "    if (id !== undefined) {\n",
       "      Bokeh.index[id].model.document.clear();\n",
       "      delete Bokeh.index[id];\n",
       "    }\n",
       "\n",
       "    if (server_id !== undefined) {\n",
       "      // Clean up Bokeh references\n",
       "      var cmd = \"from bokeh.io.state import curstate; print(curstate().uuid_to_server['\" + server_id + \"'].get_sessions()[0].document.roots[0]._id)\";\n",
       "      cell.notebook.kernel.execute(cmd, {\n",
       "        iopub: {\n",
       "          output: function(msg) {\n",
       "            var element_id = msg.content.text.trim();\n",
       "            Bokeh.index[element_id].model.document.clear();\n",
       "            delete Bokeh.index[element_id];\n",
       "          }\n",
       "        }\n",
       "      });\n",
       "      // Destroy server and session\n",
       "      var cmd = \"import bokeh.io.notebook as ion; ion.destroy_server('\" + server_id + \"')\";\n",
       "      cell.notebook.kernel.execute(cmd);\n",
       "    }\n",
       "  }\n",
       "\n",
       "  /**\n",
       "   * Handle when a new output is added\n",
       "   */\n",
       "  function handleAddOutput(event, handle) {\n",
       "    var output_area = handle.output_area;\n",
       "    var output = handle.output;\n",
       "\n",
       "    // limit handleAddOutput to display_data with EXEC_MIME_TYPE content only\n",
       "    if ((output.output_type != \"display_data\") || (!output.data.hasOwnProperty(EXEC_MIME_TYPE))) {\n",
       "      return\n",
       "    }\n",
       "\n",
       "    var toinsert = output_area.element.find(\".\" + CLASS_NAME.split(' ')[0]);\n",
       "\n",
       "    if (output.metadata[EXEC_MIME_TYPE][\"id\"] !== undefined) {\n",
       "      toinsert[0].firstChild.textContent = output.data[JS_MIME_TYPE];\n",
       "      // store reference to embed id on output_area\n",
       "      output_area._bokeh_element_id = output.metadata[EXEC_MIME_TYPE][\"id\"];\n",
       "    }\n",
       "    if (output.metadata[EXEC_MIME_TYPE][\"server_id\"] !== undefined) {\n",
       "      var bk_div = document.createElement(\"div\");\n",
       "      bk_div.innerHTML = output.data[HTML_MIME_TYPE];\n",
       "      var script_attrs = bk_div.children[0].attributes;\n",
       "      for (var i = 0; i < script_attrs.length; i++) {\n",
       "        toinsert[0].firstChild.setAttribute(script_attrs[i].name, script_attrs[i].value);\n",
       "      }\n",
       "      // store reference to server id on output_area\n",
       "      output_area._bokeh_server_id = output.metadata[EXEC_MIME_TYPE][\"server_id\"];\n",
       "    }\n",
       "  }\n",
       "\n",
       "  function register_renderer(events, OutputArea) {\n",
       "\n",
       "    function append_mime(data, metadata, element) {\n",
       "      // create a DOM node to render to\n",
       "      var toinsert = this.create_output_subarea(\n",
       "        metadata,\n",
       "        CLASS_NAME,\n",
       "        EXEC_MIME_TYPE\n",
       "      );\n",
       "      this.keyboard_manager.register_events(toinsert);\n",
       "      // Render to node\n",
       "      var props = {data: data, metadata: metadata[EXEC_MIME_TYPE]};\n",
       "      render(props, toinsert[0]);\n",
       "      element.append(toinsert);\n",
       "      return toinsert\n",
       "    }\n",
       "\n",
       "    /* Handle when an output is cleared or removed */\n",
       "    events.on('clear_output.CodeCell', handleClearOutput);\n",
       "    events.on('delete.Cell', handleClearOutput);\n",
       "\n",
       "    /* Handle when a new output is added */\n",
       "    events.on('output_added.OutputArea', handleAddOutput);\n",
       "\n",
       "    /**\n",
       "     * Register the mime type and append_mime function with output_area\n",
       "     */\n",
       "    OutputArea.prototype.register_mime_type(EXEC_MIME_TYPE, append_mime, {\n",
       "      /* Is output safe? */\n",
       "      safe: true,\n",
       "      /* Index of renderer in `output_area.display_order` */\n",
       "      index: 0\n",
       "    });\n",
       "  }\n",
       "\n",
       "  // register the mime type if in Jupyter Notebook environment and previously unregistered\n",
       "  if (root.Jupyter !== undefined) {\n",
       "    var events = require('base/js/events');\n",
       "    var OutputArea = require('notebook/js/outputarea').OutputArea;\n",
       "\n",
       "    if (OutputArea.prototype.mime_types().indexOf(EXEC_MIME_TYPE) == -1) {\n",
       "      register_renderer(events, OutputArea);\n",
       "    }\n",
       "  }\n",
       "\n",
       "  \n",
       "  if (typeof (root._bokeh_timeout) === \"undefined\" || force === true) {\n",
       "    root._bokeh_timeout = Date.now() + 5000;\n",
       "    root._bokeh_failed_load = false;\n",
       "  }\n",
       "\n",
       "  var NB_LOAD_WARNING = {'data': {'text/html':\n",
       "     \"<div style='background-color: #fdd'>\\n\"+\n",
       "     \"<p>\\n\"+\n",
       "     \"BokehJS does not appear to have successfully loaded. If loading BokehJS from CDN, this \\n\"+\n",
       "     \"may be due to a slow or bad network connection. Possible fixes:\\n\"+\n",
       "     \"</p>\\n\"+\n",
       "     \"<ul>\\n\"+\n",
       "     \"<li>re-rerun `output_notebook()` to attempt to load from CDN again, or</li>\\n\"+\n",
       "     \"<li>use INLINE resources instead, as so:</li>\\n\"+\n",
       "     \"</ul>\\n\"+\n",
       "     \"<code>\\n\"+\n",
       "     \"from bokeh.resources import INLINE\\n\"+\n",
       "     \"output_notebook(resources=INLINE)\\n\"+\n",
       "     \"</code>\\n\"+\n",
       "     \"</div>\"}};\n",
       "\n",
       "  function display_loaded() {\n",
       "    var el = document.getElementById(\"2c5b3fbd-bd65-43e1-aee8-e67963952e40\");\n",
       "    if (el != null) {\n",
       "      el.textContent = \"BokehJS is loading...\";\n",
       "    }\n",
       "    if (root.Bokeh !== undefined) {\n",
       "      if (el != null) {\n",
       "        el.textContent = \"BokehJS \" + root.Bokeh.version + \" successfully loaded.\";\n",
       "      }\n",
       "    } else if (Date.now() < root._bokeh_timeout) {\n",
       "      setTimeout(display_loaded, 100)\n",
       "    }\n",
       "  }\n",
       "\n",
       "\n",
       "  function run_callbacks() {\n",
       "    try {\n",
       "      root._bokeh_onload_callbacks.forEach(function(callback) { callback() });\n",
       "    }\n",
       "    finally {\n",
       "      delete root._bokeh_onload_callbacks\n",
       "    }\n",
       "    console.info(\"Bokeh: all callbacks have finished\");\n",
       "  }\n",
       "\n",
       "  function load_libs(js_urls, callback) {\n",
       "    root._bokeh_onload_callbacks.push(callback);\n",
       "    if (root._bokeh_is_loading > 0) {\n",
       "      console.log(\"Bokeh: BokehJS is being loaded, scheduling callback at\", now());\n",
       "      return null;\n",
       "    }\n",
       "    if (js_urls == null || js_urls.length === 0) {\n",
       "      run_callbacks();\n",
       "      return null;\n",
       "    }\n",
       "    console.log(\"Bokeh: BokehJS not loaded, scheduling load and callback at\", now());\n",
       "    root._bokeh_is_loading = js_urls.length;\n",
       "    for (var i = 0; i < js_urls.length; i++) {\n",
       "      var url = js_urls[i];\n",
       "      var s = document.createElement('script');\n",
       "      s.src = url;\n",
       "      s.async = false;\n",
       "      s.onreadystatechange = s.onload = function() {\n",
       "        root._bokeh_is_loading--;\n",
       "        if (root._bokeh_is_loading === 0) {\n",
       "          console.log(\"Bokeh: all BokehJS libraries loaded\");\n",
       "          run_callbacks()\n",
       "        }\n",
       "      };\n",
       "      s.onerror = function() {\n",
       "        console.warn(\"failed to load library \" + url);\n",
       "      };\n",
       "      console.log(\"Bokeh: injecting script tag for BokehJS library: \", url);\n",
       "      document.getElementsByTagName(\"head\")[0].appendChild(s);\n",
       "    }\n",
       "  };var element = document.getElementById(\"2c5b3fbd-bd65-43e1-aee8-e67963952e40\");\n",
       "  if (element == null) {\n",
       "    console.log(\"Bokeh: ERROR: autoload.js configured with elementid '2c5b3fbd-bd65-43e1-aee8-e67963952e40' but no matching script tag was found. \")\n",
       "    return false;\n",
       "  }\n",
       "\n",
       "  var js_urls = [\"https://cdn.pydata.org/bokeh/release/bokeh-0.12.13.min.js\", \"https://cdn.pydata.org/bokeh/release/bokeh-widgets-0.12.13.min.js\", \"https://cdn.pydata.org/bokeh/release/bokeh-tables-0.12.13.min.js\", \"https://cdn.pydata.org/bokeh/release/bokeh-gl-0.12.13.min.js\"];\n",
       "\n",
       "  var inline_js = [\n",
       "    function(Bokeh) {\n",
       "      Bokeh.set_log_level(\"info\");\n",
       "    },\n",
       "    \n",
       "    function(Bokeh) {\n",
       "      \n",
       "    },\n",
       "    function(Bokeh) {\n",
       "      console.log(\"Bokeh: injecting CSS: https://cdn.pydata.org/bokeh/release/bokeh-0.12.13.min.css\");\n",
       "      Bokeh.embed.inject_css(\"https://cdn.pydata.org/bokeh/release/bokeh-0.12.13.min.css\");\n",
       "      console.log(\"Bokeh: injecting CSS: https://cdn.pydata.org/bokeh/release/bokeh-widgets-0.12.13.min.css\");\n",
       "      Bokeh.embed.inject_css(\"https://cdn.pydata.org/bokeh/release/bokeh-widgets-0.12.13.min.css\");\n",
       "      console.log(\"Bokeh: injecting CSS: https://cdn.pydata.org/bokeh/release/bokeh-tables-0.12.13.min.css\");\n",
       "      Bokeh.embed.inject_css(\"https://cdn.pydata.org/bokeh/release/bokeh-tables-0.12.13.min.css\");\n",
       "    }\n",
       "  ];\n",
       "\n",
       "  function run_inline_js() {\n",
       "    \n",
       "    if ((root.Bokeh !== undefined) || (force === true)) {\n",
       "      for (var i = 0; i < inline_js.length; i++) {\n",
       "        inline_js[i].call(root, root.Bokeh);\n",
       "      }if (force === true) {\n",
       "        display_loaded();\n",
       "      }} else if (Date.now() < root._bokeh_timeout) {\n",
       "      setTimeout(run_inline_js, 100);\n",
       "    } else if (!root._bokeh_failed_load) {\n",
       "      console.log(\"Bokeh: BokehJS failed to load within specified timeout.\");\n",
       "      root._bokeh_failed_load = true;\n",
       "    } else if (force !== true) {\n",
       "      var cell = $(document.getElementById(\"2c5b3fbd-bd65-43e1-aee8-e67963952e40\")).parents('.cell').data().cell;\n",
       "      cell.output_area.append_execute_result(NB_LOAD_WARNING)\n",
       "    }\n",
       "\n",
       "  }\n",
       "\n",
       "  if (root._bokeh_is_loading === 0) {\n",
       "    console.log(\"Bokeh: BokehJS loaded, going straight to plotting\");\n",
       "    run_inline_js();\n",
       "  } else {\n",
       "    load_libs(js_urls, function() {\n",
       "      console.log(\"Bokeh: BokehJS plotting callback run at\", now());\n",
       "      run_inline_js();\n",
       "    });\n",
       "  }\n",
       "}(window));"
      ],
      "application/vnd.bokehjs_load.v0+json": "\n(function(root) {\n  function now() {\n    return new Date();\n  }\n\n  var force = true;\n\n  if (typeof (root._bokeh_onload_callbacks) === \"undefined\" || force === true) {\n    root._bokeh_onload_callbacks = [];\n    root._bokeh_is_loading = undefined;\n  }\n\n  \n\n  \n  if (typeof (root._bokeh_timeout) === \"undefined\" || force === true) {\n    root._bokeh_timeout = Date.now() + 5000;\n    root._bokeh_failed_load = false;\n  }\n\n  var NB_LOAD_WARNING = {'data': {'text/html':\n     \"<div style='background-color: #fdd'>\\n\"+\n     \"<p>\\n\"+\n     \"BokehJS does not appear to have successfully loaded. If loading BokehJS from CDN, this \\n\"+\n     \"may be due to a slow or bad network connection. Possible fixes:\\n\"+\n     \"</p>\\n\"+\n     \"<ul>\\n\"+\n     \"<li>re-rerun `output_notebook()` to attempt to load from CDN again, or</li>\\n\"+\n     \"<li>use INLINE resources instead, as so:</li>\\n\"+\n     \"</ul>\\n\"+\n     \"<code>\\n\"+\n     \"from bokeh.resources import INLINE\\n\"+\n     \"output_notebook(resources=INLINE)\\n\"+\n     \"</code>\\n\"+\n     \"</div>\"}};\n\n  function display_loaded() {\n    var el = document.getElementById(\"2c5b3fbd-bd65-43e1-aee8-e67963952e40\");\n    if (el != null) {\n      el.textContent = \"BokehJS is loading...\";\n    }\n    if (root.Bokeh !== undefined) {\n      if (el != null) {\n        el.textContent = \"BokehJS \" + root.Bokeh.version + \" successfully loaded.\";\n      }\n    } else if (Date.now() < root._bokeh_timeout) {\n      setTimeout(display_loaded, 100)\n    }\n  }\n\n\n  function run_callbacks() {\n    try {\n      root._bokeh_onload_callbacks.forEach(function(callback) { callback() });\n    }\n    finally {\n      delete root._bokeh_onload_callbacks\n    }\n    console.info(\"Bokeh: all callbacks have finished\");\n  }\n\n  function load_libs(js_urls, callback) {\n    root._bokeh_onload_callbacks.push(callback);\n    if (root._bokeh_is_loading > 0) {\n      console.log(\"Bokeh: BokehJS is being loaded, scheduling callback at\", now());\n      return null;\n    }\n    if (js_urls == null || js_urls.length === 0) {\n      run_callbacks();\n      return null;\n    }\n    console.log(\"Bokeh: BokehJS not loaded, scheduling load and callback at\", now());\n    root._bokeh_is_loading = js_urls.length;\n    for (var i = 0; i < js_urls.length; i++) {\n      var url = js_urls[i];\n      var s = document.createElement('script');\n      s.src = url;\n      s.async = false;\n      s.onreadystatechange = s.onload = function() {\n        root._bokeh_is_loading--;\n        if (root._bokeh_is_loading === 0) {\n          console.log(\"Bokeh: all BokehJS libraries loaded\");\n          run_callbacks()\n        }\n      };\n      s.onerror = function() {\n        console.warn(\"failed to load library \" + url);\n      };\n      console.log(\"Bokeh: injecting script tag for BokehJS library: \", url);\n      document.getElementsByTagName(\"head\")[0].appendChild(s);\n    }\n  };var element = document.getElementById(\"2c5b3fbd-bd65-43e1-aee8-e67963952e40\");\n  if (element == null) {\n    console.log(\"Bokeh: ERROR: autoload.js configured with elementid '2c5b3fbd-bd65-43e1-aee8-e67963952e40' but no matching script tag was found. \")\n    return false;\n  }\n\n  var js_urls = [\"https://cdn.pydata.org/bokeh/release/bokeh-0.12.13.min.js\", \"https://cdn.pydata.org/bokeh/release/bokeh-widgets-0.12.13.min.js\", \"https://cdn.pydata.org/bokeh/release/bokeh-tables-0.12.13.min.js\", \"https://cdn.pydata.org/bokeh/release/bokeh-gl-0.12.13.min.js\"];\n\n  var inline_js = [\n    function(Bokeh) {\n      Bokeh.set_log_level(\"info\");\n    },\n    \n    function(Bokeh) {\n      \n    },\n    function(Bokeh) {\n      console.log(\"Bokeh: injecting CSS: https://cdn.pydata.org/bokeh/release/bokeh-0.12.13.min.css\");\n      Bokeh.embed.inject_css(\"https://cdn.pydata.org/bokeh/release/bokeh-0.12.13.min.css\");\n      console.log(\"Bokeh: injecting CSS: https://cdn.pydata.org/bokeh/release/bokeh-widgets-0.12.13.min.css\");\n      Bokeh.embed.inject_css(\"https://cdn.pydata.org/bokeh/release/bokeh-widgets-0.12.13.min.css\");\n      console.log(\"Bokeh: injecting CSS: https://cdn.pydata.org/bokeh/release/bokeh-tables-0.12.13.min.css\");\n      Bokeh.embed.inject_css(\"https://cdn.pydata.org/bokeh/release/bokeh-tables-0.12.13.min.css\");\n    }\n  ];\n\n  function run_inline_js() {\n    \n    if ((root.Bokeh !== undefined) || (force === true)) {\n      for (var i = 0; i < inline_js.length; i++) {\n        inline_js[i].call(root, root.Bokeh);\n      }if (force === true) {\n        display_loaded();\n      }} else if (Date.now() < root._bokeh_timeout) {\n      setTimeout(run_inline_js, 100);\n    } else if (!root._bokeh_failed_load) {\n      console.log(\"Bokeh: BokehJS failed to load within specified timeout.\");\n      root._bokeh_failed_load = true;\n    } else if (force !== true) {\n      var cell = $(document.getElementById(\"2c5b3fbd-bd65-43e1-aee8-e67963952e40\")).parents('.cell').data().cell;\n      cell.output_area.append_execute_result(NB_LOAD_WARNING)\n    }\n\n  }\n\n  if (root._bokeh_is_loading === 0) {\n    console.log(\"Bokeh: BokehJS loaded, going straight to plotting\");\n    run_inline_js();\n  } else {\n    load_libs(js_urls, function() {\n      console.log(\"Bokeh: BokehJS plotting callback run at\", now());\n      run_inline_js();\n    });\n  }\n}(window));"
     },
     "metadata": {},
     "output_type": "display_data"
    }
   ],
   "source": [
    "bk.output_notebook()"
   ]
  },
  {
   "cell_type": "markdown",
   "metadata": {},
   "source": [
    "## 1 Brief Introduction to Optimization"
   ]
  },
  {
   "cell_type": "markdown",
   "metadata": {},
   "source": [
    "### 1.1 Dimensionality of the problem"
   ]
  },
  {
   "cell_type": "markdown",
   "metadata": {},
   "source": [
    "The scale of an optimization problem is pretty much set by the dimensionality of the problem, i.e. the number of scalar variables on which the search is performed."
   ]
  },
  {
   "cell_type": "markdown",
   "metadata": {},
   "source": [
    "### 1.2 Convex versus non-convex optimization"
   ]
  },
  {
   "cell_type": "markdown",
   "metadata": {},
   "source": [
    "Convex functions can be optimized easily with gradient-descend algorithms. Non-convex functions optimization problems are much more difficult, expecially for higher dimensionality problems. This second class of optimization problems are not analyzed in this brief tutorial but are part of a specialised course."
   ]
  },
  {
   "cell_type": "markdown",
   "metadata": {},
   "source": [
    "<div style=\"float:left;\"><img src=\"images/convex_function.png\"><br />Convex function</div>\n",
    "<div><img src=\"images/non_convex_function.png\"><br />Non Convex Function</div>"
   ]
  },
  {
   "cell_type": "markdown",
   "metadata": {},
   "source": [
    "### 1.3 Smooth and non-smooth problems"
   ]
  },
  {
   "cell_type": "markdown",
   "metadata": {},
   "source": [
    "In a smooth problem the gradient is defined everywhere: this helps in speeding-up the optimization algorithms."
   ]
  },
  {
   "cell_type": "markdown",
   "metadata": {},
   "source": [
    "<div style=\"float:left;\"><img src=\"images/smooth_function.png\"><br />Smooth function</div>\n",
    "<div><img src=\"images/non_smooth_function.png\"><br />Non Smooth Function</div>"
   ]
  },
  {
   "cell_type": "markdown",
   "metadata": {},
   "source": [
    "## 2 A Simpe Optimization Example"
   ]
  },
  {
   "cell_type": "markdown",
   "metadata": {},
   "source": [
    "The `scipy.optimize` module provides useful algorithms for function minimization (scalar or multi-dimensional), curve fitting and root finding.\n",
    "\n",
    "Let's find the minimum of this simple smooth non-convex function:"
   ]
  },
  {
   "cell_type": "code",
   "execution_count": 4,
   "metadata": {},
   "outputs": [],
   "source": [
    "import numpy as np"
   ]
  },
  {
   "cell_type": "code",
   "execution_count": 5,
   "metadata": {},
   "outputs": [
    {
     "data": {
      "text/html": [
       "\n",
       "<div class=\"bk-root\">\n",
       "    <div class=\"bk-plotdiv\" id=\"57a7d456-0550-4d35-bb10-39aaf8376a88\"></div>\n",
       "</div>"
      ]
     },
     "metadata": {},
     "output_type": "display_data"
    },
    {
     "data": {
      "application/javascript": [
       "(function(root) {\n",
       "  function embed_document(root) {\n",
       "    \n",
       "  var docs_json = {\"ee0c8e98-2530-4e48-aa2e-4546548c5f84\":{\"roots\":{\"references\":[{\"attributes\":{\"bottom_units\":\"screen\",\"fill_alpha\":{\"value\":0.5},\"fill_color\":{\"value\":\"lightgrey\"},\"left_units\":\"screen\",\"level\":\"overlay\",\"line_alpha\":{\"value\":1.0},\"line_color\":{\"value\":\"black\"},\"line_dash\":[4,4],\"line_width\":{\"value\":2},\"plot\":null,\"render_mode\":\"css\",\"right_units\":\"screen\",\"top_units\":\"screen\"},\"id\":\"0df6ace0-84a3-4eb3-b4ee-d8002f5936e2\",\"type\":\"BoxAnnotation\"},{\"attributes\":{\"plot\":null,\"text\":\"\"},\"id\":\"45309dad-5a70-4ef8-bde9-6bf295cfbf3f\",\"type\":\"Title\"},{\"attributes\":{},\"id\":\"88083e82-efbf-476a-a8fd-87e487bcda39\",\"type\":\"BasicTickFormatter\"},{\"attributes\":{},\"id\":\"06d213ee-e8d3-4d64-ad85-d06ace5b3394\",\"type\":\"PanTool\"},{\"attributes\":{\"callback\":null,\"column_names\":[\"x\",\"y\"],\"data\":{\"x\":{\"__ndarray__\":\"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\",\"dtype\":\"float64\",\"shape\":[200]},\"y\":{\"__ndarray__\":\"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\",\"dtype\":\"float64\",\"shape\":[200]}}},\"id\":\"f7959421-8a67-4534-94fc-1da2de6d679d\",\"type\":\"ColumnDataSource\"},{\"attributes\":{\"line_alpha\":0.1,\"line_color\":\"#1f77b4\",\"x\":{\"field\":\"x\"},\"y\":{\"field\":\"y\"}},\"id\":\"a1209649-4526-4f68-9188-104dfac44683\",\"type\":\"Line\"},{\"attributes\":{},\"id\":\"d8d6bfc8-6de8-410f-8a51-ca60a350b7ca\",\"type\":\"WheelZoomTool\"},{\"attributes\":{\"below\":[{\"id\":\"5c49d41e-3293-4d77-a053-6295a6769ca3\",\"type\":\"LinearAxis\"}],\"left\":[{\"id\":\"b8c7fd17-b0e7-46b9-a590-0bca16cbabab\",\"type\":\"LinearAxis\"}],\"renderers\":[{\"id\":\"5c49d41e-3293-4d77-a053-6295a6769ca3\",\"type\":\"LinearAxis\"},{\"id\":\"3cfcfee6-01af-474e-8be1-dabd8c227fe7\",\"type\":\"Grid\"},{\"id\":\"b8c7fd17-b0e7-46b9-a590-0bca16cbabab\",\"type\":\"LinearAxis\"},{\"id\":\"84ef8615-66ff-4ef0-b89f-7bb8297a7533\",\"type\":\"Grid\"},{\"id\":\"0df6ace0-84a3-4eb3-b4ee-d8002f5936e2\",\"type\":\"BoxAnnotation\"},{\"id\":\"8d8e09c7-f40d-44aa-9ddb-d5255e15e25d\",\"type\":\"GlyphRenderer\"}],\"title\":{\"id\":\"45309dad-5a70-4ef8-bde9-6bf295cfbf3f\",\"type\":\"Title\"},\"toolbar\":{\"id\":\"e878cc52-9255-4478-8a8d-1197fe6b2888\",\"type\":\"Toolbar\"},\"x_range\":{\"id\":\"f610be87-6e79-4ea9-8e3a-b6dcfe758b52\",\"type\":\"DataRange1d\"},\"x_scale\":{\"id\":\"a15b3f6a-dd72-41ca-93da-1be92c6fa0d3\",\"type\":\"LinearScale\"},\"y_range\":{\"id\":\"6dae5e5f-4985-4211-a8e5-89dbbbc8299a\",\"type\":\"DataRange1d\"},\"y_scale\":{\"id\":\"aae79d68-b9ce-4700-810b-3b5cdef99b7b\",\"type\":\"LinearScale\"}},\"id\":\"66ba1f2f-8a13-42cc-95e7-487e02a646e0\",\"subtype\":\"Figure\",\"type\":\"Plot\"},{\"attributes\":{\"overlay\":{\"id\":\"0df6ace0-84a3-4eb3-b4ee-d8002f5936e2\",\"type\":\"BoxAnnotation\"}},\"id\":\"23da490b-b051-4dbe-9a81-0725e030d3af\",\"type\":\"BoxZoomTool\"},{\"attributes\":{\"active_drag\":\"auto\",\"active_inspect\":\"auto\",\"active_scroll\":\"auto\",\"active_tap\":\"auto\",\"tools\":[{\"id\":\"06d213ee-e8d3-4d64-ad85-d06ace5b3394\",\"type\":\"PanTool\"},{\"id\":\"d8d6bfc8-6de8-410f-8a51-ca60a350b7ca\",\"type\":\"WheelZoomTool\"},{\"id\":\"23da490b-b051-4dbe-9a81-0725e030d3af\",\"type\":\"BoxZoomTool\"},{\"id\":\"dd5ae7a3-fce6-4ae0-bf77-84c5d55fed37\",\"type\":\"SaveTool\"},{\"id\":\"4d20c4cb-00ec-4ba5-91bd-1d02dae4bca6\",\"type\":\"ResetTool\"},{\"id\":\"d6a2a933-3065-475f-9173-9a29cd6db87f\",\"type\":\"HelpTool\"}]},\"id\":\"e878cc52-9255-4478-8a8d-1197fe6b2888\",\"type\":\"Toolbar\"},{\"attributes\":{\"data_source\":{\"id\":\"f7959421-8a67-4534-94fc-1da2de6d679d\",\"type\":\"ColumnDataSource\"},\"glyph\":{\"id\":\"f0f6e03d-6a50-4b4e-a81c-a284d19917d6\",\"type\":\"Line\"},\"hover_glyph\":null,\"muted_glyph\":null,\"nonselection_glyph\":{\"id\":\"a1209649-4526-4f68-9188-104dfac44683\",\"type\":\"Line\"},\"selection_glyph\":null,\"view\":{\"id\":\"4fb73b20-a290-4340-83a3-5d061daf8176\",\"type\":\"CDSView\"}},\"id\":\"8d8e09c7-f40d-44aa-9ddb-d5255e15e25d\",\"type\":\"GlyphRenderer\"},{\"attributes\":{},\"id\":\"dd5ae7a3-fce6-4ae0-bf77-84c5d55fed37\",\"type\":\"SaveTool\"},{\"attributes\":{\"callback\":null},\"id\":\"f610be87-6e79-4ea9-8e3a-b6dcfe758b52\",\"type\":\"DataRange1d\"},{\"attributes\":{\"source\":{\"id\":\"f7959421-8a67-4534-94fc-1da2de6d679d\",\"type\":\"ColumnDataSource\"}},\"id\":\"4fb73b20-a290-4340-83a3-5d061daf8176\",\"type\":\"CDSView\"},{\"attributes\":{},\"id\":\"4d20c4cb-00ec-4ba5-91bd-1d02dae4bca6\",\"type\":\"ResetTool\"},{\"attributes\":{},\"id\":\"dc5ca6d4-4240-4fb8-8338-4ce535c38fa9\",\"type\":\"BasicTicker\"},{\"attributes\":{},\"id\":\"d6a2a933-3065-475f-9173-9a29cd6db87f\",\"type\":\"HelpTool\"},{\"attributes\":{\"dimension\":1,\"plot\":{\"id\":\"66ba1f2f-8a13-42cc-95e7-487e02a646e0\",\"subtype\":\"Figure\",\"type\":\"Plot\"},\"ticker\":{\"id\":\"dc5ca6d4-4240-4fb8-8338-4ce535c38fa9\",\"type\":\"BasicTicker\"}},\"id\":\"84ef8615-66ff-4ef0-b89f-7bb8297a7533\",\"type\":\"Grid\"},{\"attributes\":{\"formatter\":{\"id\":\"88083e82-efbf-476a-a8fd-87e487bcda39\",\"type\":\"BasicTickFormatter\"},\"plot\":{\"id\":\"66ba1f2f-8a13-42cc-95e7-487e02a646e0\",\"subtype\":\"Figure\",\"type\":\"Plot\"},\"ticker\":{\"id\":\"dc5ca6d4-4240-4fb8-8338-4ce535c38fa9\",\"type\":\"BasicTicker\"}},\"id\":\"b8c7fd17-b0e7-46b9-a590-0bca16cbabab\",\"type\":\"LinearAxis\"},{\"attributes\":{\"callback\":null},\"id\":\"6dae5e5f-4985-4211-a8e5-89dbbbc8299a\",\"type\":\"DataRange1d\"},{\"attributes\":{},\"id\":\"a15b3f6a-dd72-41ca-93da-1be92c6fa0d3\",\"type\":\"LinearScale\"},{\"attributes\":{},\"id\":\"aae79d68-b9ce-4700-810b-3b5cdef99b7b\",\"type\":\"LinearScale\"},{\"attributes\":{},\"id\":\"f447a5fc-96f9-487f-83ed-4441550e49f4\",\"type\":\"BasicTickFormatter\"},{\"attributes\":{\"formatter\":{\"id\":\"f447a5fc-96f9-487f-83ed-4441550e49f4\",\"type\":\"BasicTickFormatter\"},\"plot\":{\"id\":\"66ba1f2f-8a13-42cc-95e7-487e02a646e0\",\"subtype\":\"Figure\",\"type\":\"Plot\"},\"ticker\":{\"id\":\"b3922834-59b7-4be1-b4be-ff0c4506efda\",\"type\":\"BasicTicker\"}},\"id\":\"5c49d41e-3293-4d77-a053-6295a6769ca3\",\"type\":\"LinearAxis\"},{\"attributes\":{\"line_color\":\"#1f77b4\",\"x\":{\"field\":\"x\"},\"y\":{\"field\":\"y\"}},\"id\":\"f0f6e03d-6a50-4b4e-a81c-a284d19917d6\",\"type\":\"Line\"},{\"attributes\":{},\"id\":\"b3922834-59b7-4be1-b4be-ff0c4506efda\",\"type\":\"BasicTicker\"},{\"attributes\":{\"plot\":{\"id\":\"66ba1f2f-8a13-42cc-95e7-487e02a646e0\",\"subtype\":\"Figure\",\"type\":\"Plot\"},\"ticker\":{\"id\":\"b3922834-59b7-4be1-b4be-ff0c4506efda\",\"type\":\"BasicTicker\"}},\"id\":\"3cfcfee6-01af-474e-8be1-dabd8c227fe7\",\"type\":\"Grid\"}],\"root_ids\":[\"66ba1f2f-8a13-42cc-95e7-487e02a646e0\"]},\"title\":\"Bokeh Application\",\"version\":\"0.12.13\"}};\n",
       "  var render_items = [{\"docid\":\"ee0c8e98-2530-4e48-aa2e-4546548c5f84\",\"elementid\":\"57a7d456-0550-4d35-bb10-39aaf8376a88\",\"modelid\":\"66ba1f2f-8a13-42cc-95e7-487e02a646e0\"}];\n",
       "  root.Bokeh.embed.embed_items_notebook(docs_json, render_items);\n",
       "\n",
       "  }\n",
       "  if (root.Bokeh !== undefined) {\n",
       "    embed_document(root);\n",
       "  } else {\n",
       "    var attempts = 0;\n",
       "    var timer = setInterval(function(root) {\n",
       "      if (root.Bokeh !== undefined) {\n",
       "        embed_document(root);\n",
       "        clearInterval(timer);\n",
       "      }\n",
       "      attempts++;\n",
       "      if (attempts > 100) {\n",
       "        console.log(\"Bokeh: ERROR: Unable to run BokehJS code because BokehJS library is missing\")\n",
       "        clearInterval(timer);\n",
       "      }\n",
       "    }, 10, root)\n",
       "  }\n",
       "})(window);"
      ],
      "application/vnd.bokehjs_exec.v0+json": ""
     },
     "metadata": {
      "application/vnd.bokehjs_exec.v0+json": {
       "id": "66ba1f2f-8a13-42cc-95e7-487e02a646e0"
      }
     },
     "output_type": "display_data"
    }
   ],
   "source": [
    "from scipy import optimize\n",
    "import numpy as np\n",
    "\n",
    "def f(x):\n",
    "    return x**2 + 10*np.sin(x)\n",
    "\n",
    "x = np.arange(-10, 10, 0.1)\n",
    "\n",
    "fig = bk.figure()\n",
    "fig.plot_height = 600\n",
    "fig.plot_width = 600\n",
    "fig.line(x, f(x))\n",
    "bk.show(fig)"
   ]
  },
  {
   "cell_type": "markdown",
   "metadata": {},
   "source": [
    "This function has a global minimum around -1.3 and a local minimum around 3.8.\n",
    "\n",
    "The general and efficient way to find a minimum for this function is to conduct a gradient descent starting from a given initial point. The [BFGS](http://docs.scipy.org/doc/scipy/reference/generated/scipy.optimize.fmin_bfgs.html?highlight=bfgs#scipy.optimize.fmin_bfgs) (quasi-Newton method of Broyden, Fletcher, Goldfarb, and Shanno) algorithm is a good way of doing this:"
   ]
  },
  {
   "cell_type": "code",
   "execution_count": 6,
   "metadata": {},
   "outputs": [
    {
     "name": "stdout",
     "output_type": "stream",
     "text": [
      "Optimization terminated successfully.\n",
      "         Current function value: -7.945823\n",
      "         Iterations: 5\n",
      "         Function evaluations: 18\n",
      "         Gradient evaluations: 6\n"
     ]
    },
    {
     "data": {
      "text/plain": [
       "array([-1.30644012])"
      ]
     },
     "execution_count": 6,
     "metadata": {},
     "output_type": "execute_result"
    }
   ],
   "source": [
    "optimize.fmin_bfgs(f, 0)"
   ]
  },
  {
   "cell_type": "markdown",
   "metadata": {},
   "source": [
    "A possible issue with this approach is that, if the function has local minima, the algorithm may find these local minima instead of the global minimum. `scipy.optimize.anneal()` provides an alternative, using simulated annealing. More efficient algorithms for different classes of global optimization problems exist, but this is out of the scope of scipy. Some useful packages for global optimization are [OpenOpt](http://openopt.org/Welcome), [PyGMO](http://pagmo.sourceforge.net/pygmo/index.html) and [PyEvolve](http://pyevolve.sourceforge.net/)."
   ]
  },
  {
   "cell_type": "markdown",
   "metadata": {},
   "source": [
    "## 3 Finding the roots of a scalar function"
   ]
  },
  {
   "cell_type": "markdown",
   "metadata": {},
   "source": [
    "To find a root, i.e. a point where `f(x) = 0`, of the function f above we can use for example `scipy.optimize.fsolve()`:"
   ]
  },
  {
   "cell_type": "code",
   "execution_count": 7,
   "metadata": {},
   "outputs": [
    {
     "data": {
      "text/plain": [
       "array([0.])"
      ]
     },
     "execution_count": 7,
     "metadata": {},
     "output_type": "execute_result"
    }
   ],
   "source": [
    "root = optimize.fsolve(f, 1)\n",
    "root"
   ]
  },
  {
   "cell_type": "markdown",
   "metadata": {},
   "source": [
    "Note that only one root is found. Inspecting the plot of f reveals that there is a second root around -2.5. We find the exact value of it by adjusting our initial guess:"
   ]
  },
  {
   "cell_type": "code",
   "execution_count": 8,
   "metadata": {},
   "outputs": [
    {
     "data": {
      "text/plain": [
       "array([-2.47948183])"
      ]
     },
     "execution_count": 8,
     "metadata": {},
     "output_type": "execute_result"
    }
   ],
   "source": [
    "root2 = optimize.fsolve(f, -2.5)\n",
    "root2"
   ]
  },
  {
   "cell_type": "markdown",
   "metadata": {},
   "source": [
    "## 4 Curve Fitting"
   ]
  },
  {
   "cell_type": "markdown",
   "metadata": {},
   "source": [
    "Suppose we have data sampled from `f` with some noise:"
   ]
  },
  {
   "cell_type": "code",
   "execution_count": 9,
   "metadata": {},
   "outputs": [],
   "source": [
    "xdata = np.linspace(-10, 10, num=20)\n",
    "ydata = f(xdata) + np.random.randn(xdata.size)"
   ]
  },
  {
   "cell_type": "markdown",
   "metadata": {},
   "source": [
    "Now if we know the functional form of the function from which the samples were drawn (`x^2 + sin(x)` in this case) but not the amplitudes of the terms, we can find those by least squares curve fitting. First we have to define the function to fit:"
   ]
  },
  {
   "cell_type": "code",
   "execution_count": 10,
   "metadata": {},
   "outputs": [],
   "source": [
    "def f2(x, a, b):\n",
    "    return a*x**2 + b*np.sin(x)"
   ]
  },
  {
   "cell_type": "markdown",
   "metadata": {},
   "source": [
    "Then we can use `scipy.optimize.curve_fit()` to find `a` and `b`:"
   ]
  },
  {
   "cell_type": "code",
   "execution_count": 11,
   "metadata": {},
   "outputs": [
    {
     "data": {
      "text/html": [
       "\n",
       "<div class=\"bk-root\">\n",
       "    <div class=\"bk-plotdiv\" id=\"71165d60-dac7-4c93-8497-9a726e9f88c6\"></div>\n",
       "</div>"
      ]
     },
     "metadata": {},
     "output_type": "display_data"
    },
    {
     "data": {
      "application/javascript": [
       "(function(root) {\n",
       "  function embed_document(root) {\n",
       "    \n",
       "  var docs_json = {\"2deb6ac2-ad6f-4cb5-80a4-0e0b1c49a61d\":{\"roots\":{\"references\":[{\"attributes\":{\"source\":{\"id\":\"00a54620-833b-46bb-b585-e744dce52445\",\"type\":\"ColumnDataSource\"}},\"id\":\"60341410-2e6c-43cb-a58d-03f19c00f0f3\",\"type\":\"CDSView\"},{\"attributes\":{},\"id\":\"14d08be6-e0ba-4f08-a7b7-147b20483cb7\",\"type\":\"LinearScale\"},{\"attributes\":{\"fill_alpha\":{\"value\":0.1},\"fill_color\":{\"value\":\"#1f77b4\"},\"line_alpha\":{\"value\":0.1},\"line_color\":{\"value\":\"#1f77b4\"},\"size\":{\"units\":\"screen\",\"value\":9},\"x\":{\"field\":\"x\"},\"y\":{\"field\":\"y\"}},\"id\":\"00776519-4eb8-47c7-a925-68196f48c109\",\"type\":\"Triangle\"},{\"attributes\":{\"callback\":null},\"id\":\"c3f4bc38-b786-4c71-9531-b467156a6f13\",\"type\":\"DataRange1d\"},{\"attributes\":{\"data_source\":{\"id\":\"fc6b5cde-a093-4575-9525-11ae103e8bbb\",\"type\":\"ColumnDataSource\"},\"glyph\":{\"id\":\"f2ef6334-ce97-4149-8a85-3256ab6e52b2\",\"type\":\"Triangle\"},\"hover_glyph\":null,\"muted_glyph\":null,\"nonselection_glyph\":{\"id\":\"00776519-4eb8-47c7-a925-68196f48c109\",\"type\":\"Triangle\"},\"selection_glyph\":null,\"view\":{\"id\":\"cfd75e62-7b6f-44c3-a6c2-219fc107a48b\",\"type\":\"CDSView\"}},\"id\":\"c265ea8a-b0c3-4192-af32-6334925373e0\",\"type\":\"GlyphRenderer\"},{\"attributes\":{},\"id\":\"2ee9258d-a0cd-4a1c-8091-b2abebaa64f8\",\"type\":\"LinearScale\"},{\"attributes\":{\"source\":{\"id\":\"fc6b5cde-a093-4575-9525-11ae103e8bbb\",\"type\":\"ColumnDataSource\"}},\"id\":\"cfd75e62-7b6f-44c3-a6c2-219fc107a48b\",\"type\":\"CDSView\"},{\"attributes\":{\"plot\":{\"id\":\"81726608-2ae3-458a-af3f-bb3c0a041134\",\"subtype\":\"Figure\",\"type\":\"Plot\"},\"ticker\":{\"id\":\"1ff9724a-0fbc-49ad-9ce6-5b2abde24aac\",\"type\":\"BasicTicker\"}},\"id\":\"e9b75cc5-c19d-4592-a94a-c11a99558c13\",\"type\":\"Grid\"},{\"attributes\":{\"axis_label\":\"x\",\"formatter\":{\"id\":\"691c4759-aedf-4503-8233-c68cb24a4a91\",\"type\":\"BasicTickFormatter\"},\"plot\":{\"id\":\"81726608-2ae3-458a-af3f-bb3c0a041134\",\"subtype\":\"Figure\",\"type\":\"Plot\"},\"ticker\":{\"id\":\"1ff9724a-0fbc-49ad-9ce6-5b2abde24aac\",\"type\":\"BasicTicker\"}},\"id\":\"b4439382-d469-4170-a10c-f9ae7cb190c6\",\"type\":\"LinearAxis\"},{\"attributes\":{\"label\":{\"value\":\"Roots\"},\"renderers\":[{\"id\":\"c265ea8a-b0c3-4192-af32-6334925373e0\",\"type\":\"GlyphRenderer\"}]},\"id\":\"0a9b0b61-7ca4-4325-a1f1-0463a69abad5\",\"type\":\"LegendItem\"},{\"attributes\":{},\"id\":\"1ff9724a-0fbc-49ad-9ce6-5b2abde24aac\",\"type\":\"BasicTicker\"},{\"attributes\":{\"axis_label\":\"f(x)\",\"formatter\":{\"id\":\"6d8b7cf1-b666-4868-b227-071e0608521f\",\"type\":\"BasicTickFormatter\"},\"plot\":{\"id\":\"81726608-2ae3-458a-af3f-bb3c0a041134\",\"subtype\":\"Figure\",\"type\":\"Plot\"},\"ticker\":{\"id\":\"bf54eacf-c670-468b-a7c3-95e3532b9d12\",\"type\":\"BasicTicker\"}},\"id\":\"a813353d-ccc8-4496-bf72-3417a3ef9f7f\",\"type\":\"LinearAxis\"},{\"attributes\":{},\"id\":\"bf54eacf-c670-468b-a7c3-95e3532b9d12\",\"type\":\"BasicTicker\"},{\"attributes\":{\"dimension\":1,\"plot\":{\"id\":\"81726608-2ae3-458a-af3f-bb3c0a041134\",\"subtype\":\"Figure\",\"type\":\"Plot\"},\"ticker\":{\"id\":\"bf54eacf-c670-468b-a7c3-95e3532b9d12\",\"type\":\"BasicTicker\"}},\"id\":\"08fff544-3925-4c9e-b343-abd461b8430d\",\"type\":\"Grid\"},{\"attributes\":{\"data_source\":{\"id\":\"00a54620-833b-46bb-b585-e744dce52445\",\"type\":\"ColumnDataSource\"},\"glyph\":{\"id\":\"12b718a9-0fd7-4bce-b38e-c6ea88c36d15\",\"type\":\"Line\"},\"hover_glyph\":null,\"muted_glyph\":null,\"nonselection_glyph\":{\"id\":\"a6f198b5-4d6e-4be0-a0f7-af145dfe3b71\",\"type\":\"Line\"},\"selection_glyph\":null,\"view\":{\"id\":\"60341410-2e6c-43cb-a58d-03f19c00f0f3\",\"type\":\"CDSView\"}},\"id\":\"edab7719-d031-49ed-b125-4857b8e63375\",\"type\":\"GlyphRenderer\"},{\"attributes\":{\"line_color\":\"blue\",\"line_width\":2,\"x\":{\"field\":\"x\"},\"y\":{\"field\":\"y\"}},\"id\":\"12b718a9-0fd7-4bce-b38e-c6ea88c36d15\",\"type\":\"Line\"},{\"attributes\":{\"callback\":null,\"column_names\":[\"x\",\"y\"],\"data\":{\"x\":{\"__ndarray__\":\"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\",\"dtype\":\"float64\",\"shape\":[200]},\"y\":{\"__ndarray__\":\"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\",\"dtype\":\"float64\",\"shape\":[200]}}},\"id\":\"8dfffda7-5974-4c3d-a78b-a6d3d302bafd\",\"type\":\"ColumnDataSource\"},{\"attributes\":{\"bottom_units\":\"screen\",\"fill_alpha\":{\"value\":0.5},\"fill_color\":{\"value\":\"lightgrey\"},\"left_units\":\"screen\",\"level\":\"overlay\",\"line_alpha\":{\"value\":1.0},\"line_color\":{\"value\":\"black\"},\"line_dash\":[4,4],\"line_width\":{\"value\":2},\"plot\":null,\"render_mode\":\"css\",\"right_units\":\"screen\",\"top_units\":\"screen\"},\"id\":\"6145ed9a-4390-4d35-8122-e72e48611909\",\"type\":\"BoxAnnotation\"},{\"attributes\":{},\"id\":\"82ad4a3c-f2ff-48f8-9ed1-74e1589e211b\",\"type\":\"PanTool\"},{\"attributes\":{},\"id\":\"691c4759-aedf-4503-8233-c68cb24a4a91\",\"type\":\"BasicTickFormatter\"},{\"attributes\":{},\"id\":\"eb4695e1-7532-46a1-a7c4-f4d36978d1c0\",\"type\":\"WheelZoomTool\"},{\"attributes\":{\"overlay\":{\"id\":\"6145ed9a-4390-4d35-8122-e72e48611909\",\"type\":\"BoxAnnotation\"}},\"id\":\"512aa49c-c0b4-42c5-abc7-8704766d4a71\",\"type\":\"BoxZoomTool\"},{\"attributes\":{\"below\":[{\"id\":\"b4439382-d469-4170-a10c-f9ae7cb190c6\",\"type\":\"LinearAxis\"}],\"left\":[{\"id\":\"a813353d-ccc8-4496-bf72-3417a3ef9f7f\",\"type\":\"LinearAxis\"}],\"renderers\":[{\"id\":\"b4439382-d469-4170-a10c-f9ae7cb190c6\",\"type\":\"LinearAxis\"},{\"id\":\"e9b75cc5-c19d-4592-a94a-c11a99558c13\",\"type\":\"Grid\"},{\"id\":\"a813353d-ccc8-4496-bf72-3417a3ef9f7f\",\"type\":\"LinearAxis\"},{\"id\":\"08fff544-3925-4c9e-b343-abd461b8430d\",\"type\":\"Grid\"},{\"id\":\"6145ed9a-4390-4d35-8122-e72e48611909\",\"type\":\"BoxAnnotation\"},{\"id\":\"e63ee42e-596a-4206-a9c3-855d5e134ec9\",\"type\":\"Legend\"},{\"id\":\"edab7719-d031-49ed-b125-4857b8e63375\",\"type\":\"GlyphRenderer\"},{\"id\":\"e8de3e10-2c9d-4828-b66b-aa1debe07844\",\"type\":\"GlyphRenderer\"},{\"id\":\"f3d518bf-a7ef-42c3-83a4-a85d983355c4\",\"type\":\"GlyphRenderer\"},{\"id\":\"c265ea8a-b0c3-4192-af32-6334925373e0\",\"type\":\"GlyphRenderer\"}],\"title\":null,\"toolbar\":{\"id\":\"257320de-5b5d-4337-8371-78c8d536600f\",\"type\":\"Toolbar\"},\"x_range\":{\"id\":\"ccb06ecf-a9ef-472f-bacb-8a578fc72ff2\",\"type\":\"DataRange1d\"},\"x_scale\":{\"id\":\"14d08be6-e0ba-4f08-a7b7-147b20483cb7\",\"type\":\"LinearScale\"},\"y_range\":{\"id\":\"c3f4bc38-b786-4c71-9531-b467156a6f13\",\"type\":\"DataRange1d\"},\"y_scale\":{\"id\":\"2ee9258d-a0cd-4a1c-8091-b2abebaa64f8\",\"type\":\"LinearScale\"}},\"id\":\"81726608-2ae3-458a-af3f-bb3c0a041134\",\"subtype\":\"Figure\",\"type\":\"Plot\"},{\"attributes\":{},\"id\":\"d7839ab3-3bda-44b1-8450-ab21a2baf348\",\"type\":\"SaveTool\"},{\"attributes\":{},\"id\":\"0b3438c4-2d13-431f-b322-c6695f2914c0\",\"type\":\"ResetTool\"},{\"attributes\":{},\"id\":\"5f2116cb-c198-4ae0-b8bb-63af3f63e5a8\",\"type\":\"HelpTool\"},{\"attributes\":{\"data_source\":{\"id\":\"8dfffda7-5974-4c3d-a78b-a6d3d302bafd\",\"type\":\"ColumnDataSource\"},\"glyph\":{\"id\":\"8c2faad4-4fa0-4ffa-89d8-fc4da08f7f05\",\"type\":\"Line\"},\"hover_glyph\":null,\"muted_glyph\":null,\"nonselection_glyph\":{\"id\":\"c655ce74-83f2-4be5-bd69-cca51aa43817\",\"type\":\"Line\"},\"selection_glyph\":null,\"view\":{\"id\":\"1cb6eae9-f529-4495-a910-502d12d77642\",\"type\":\"CDSView\"}},\"id\":\"e8de3e10-2c9d-4828-b66b-aa1debe07844\",\"type\":\"GlyphRenderer\"},{\"attributes\":{\"line_color\":\"red\",\"line_dash\":[5],\"line_width\":2,\"x\":{\"field\":\"x\"},\"y\":{\"field\":\"y\"}},\"id\":\"8c2faad4-4fa0-4ffa-89d8-fc4da08f7f05\",\"type\":\"Line\"},{\"attributes\":{\"label\":{\"value\":\"f(x)\"},\"renderers\":[{\"id\":\"edab7719-d031-49ed-b125-4857b8e63375\",\"type\":\"GlyphRenderer\"}]},\"id\":\"44ba5988-c35c-4d87-a305-24af5f81a309\",\"type\":\"LegendItem\"},{\"attributes\":{\"source\":{\"id\":\"8dfffda7-5974-4c3d-a78b-a6d3d302bafd\",\"type\":\"ColumnDataSource\"}},\"id\":\"1cb6eae9-f529-4495-a910-502d12d77642\",\"type\":\"CDSView\"},{\"attributes\":{\"callback\":null,\"column_names\":[\"x\",\"y\"],\"data\":{\"x\":{\"__ndarray__\":\"AAAAAAAAAACEsFCS+tUDwA==\",\"dtype\":\"float64\",\"shape\":[2]},\"y\":{\"__ndarray__\":\"AAAAAAAAAAAAAAAAAADgvA==\",\"dtype\":\"float64\",\"shape\":[2]}}},\"id\":\"fc6b5cde-a093-4575-9525-11ae103e8bbb\",\"type\":\"ColumnDataSource\"},{\"attributes\":{\"label\":{\"value\":\"Minima\"},\"renderers\":[{\"id\":\"f3d518bf-a7ef-42c3-83a4-a85d983355c4\",\"type\":\"GlyphRenderer\"}]},\"id\":\"c5e8c034-0f61-455e-aebd-5305b760bb32\",\"type\":\"LegendItem\"},{\"attributes\":{\"line_alpha\":0.1,\"line_color\":\"#1f77b4\",\"line_dash\":[5],\"line_width\":2,\"x\":{\"field\":\"x\"},\"y\":{\"field\":\"y\"}},\"id\":\"c655ce74-83f2-4be5-bd69-cca51aa43817\",\"type\":\"Line\"},{\"attributes\":{\"data_source\":{\"id\":\"322d1895-2fea-4492-a768-6b414a2b7c43\",\"type\":\"ColumnDataSource\"},\"glyph\":{\"id\":\"ac23789f-317b-4a6b-8af1-0738912570ea\",\"type\":\"Circle\"},\"hover_glyph\":null,\"muted_glyph\":null,\"nonselection_glyph\":{\"id\":\"05286bb8-6f84-446b-91b4-aa70baa9afc6\",\"type\":\"Circle\"},\"selection_glyph\":null,\"view\":{\"id\":\"f67cb51b-2493-49d0-bd1c-08c0a447e556\",\"type\":\"CDSView\"}},\"id\":\"f3d518bf-a7ef-42c3-83a4-a85d983355c4\",\"type\":\"GlyphRenderer\"},{\"attributes\":{\"fill_color\":{\"value\":\"green\"},\"line_color\":{\"value\":\"green\"},\"size\":{\"units\":\"screen\",\"value\":9},\"x\":{\"field\":\"x\"},\"y\":{\"field\":\"y\"}},\"id\":\"ac23789f-317b-4a6b-8af1-0738912570ea\",\"type\":\"Circle\"},{\"attributes\":{\"line_alpha\":0.1,\"line_color\":\"#1f77b4\",\"line_width\":2,\"x\":{\"field\":\"x\"},\"y\":{\"field\":\"y\"}},\"id\":\"a6f198b5-4d6e-4be0-a0f7-af145dfe3b71\",\"type\":\"Line\"},{\"attributes\":{\"label\":{\"value\":\"Curve fit result\"},\"renderers\":[{\"id\":\"e8de3e10-2c9d-4828-b66b-aa1debe07844\",\"type\":\"GlyphRenderer\"}]},\"id\":\"b8a42ac5-07a5-4d67-8a32-d4adde9f0335\",\"type\":\"LegendItem\"},{\"attributes\":{\"callback\":null,\"column_names\":[\"x\",\"y\"],\"data\":{\"x\":{\"__ndarray__\":\"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\",\"dtype\":\"float64\",\"shape\":[200]},\"y\":{\"__ndarray__\":\"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\",\"dtype\":\"float64\",\"shape\":[200]}}},\"id\":\"00a54620-833b-46bb-b585-e744dce52445\",\"type\":\"ColumnDataSource\"},{\"attributes\":{\"source\":{\"id\":\"322d1895-2fea-4492-a768-6b414a2b7c43\",\"type\":\"ColumnDataSource\"}},\"id\":\"f67cb51b-2493-49d0-bd1c-08c0a447e556\",\"type\":\"CDSView\"},{\"attributes\":{\"callback\":null},\"id\":\"ccb06ecf-a9ef-472f-bacb-8a578fc72ff2\",\"type\":\"DataRange1d\"},{\"attributes\":{\"callback\":null,\"column_names\":[\"x\",\"y\"],\"data\":{\"x\":{\"__ndarray__\":\"TvYoXA/n9L9dxA32IbMOQA==\",\"dtype\":\"float64\",\"shape\":[2]},\"y\":{\"__ndarray__\":\"68f064XIH8DK491ulKEgQA==\",\"dtype\":\"float64\",\"shape\":[2]}}},\"id\":\"322d1895-2fea-4492-a768-6b414a2b7c43\",\"type\":\"ColumnDataSource\"},{\"attributes\":{\"active_drag\":\"auto\",\"active_inspect\":\"auto\",\"active_scroll\":\"auto\",\"active_tap\":\"auto\",\"tools\":[{\"id\":\"82ad4a3c-f2ff-48f8-9ed1-74e1589e211b\",\"type\":\"PanTool\"},{\"id\":\"eb4695e1-7532-46a1-a7c4-f4d36978d1c0\",\"type\":\"WheelZoomTool\"},{\"id\":\"512aa49c-c0b4-42c5-abc7-8704766d4a71\",\"type\":\"BoxZoomTool\"},{\"id\":\"d7839ab3-3bda-44b1-8450-ab21a2baf348\",\"type\":\"SaveTool\"},{\"id\":\"0b3438c4-2d13-431f-b322-c6695f2914c0\",\"type\":\"ResetTool\"},{\"id\":\"5f2116cb-c198-4ae0-b8bb-63af3f63e5a8\",\"type\":\"HelpTool\"}]},\"id\":\"257320de-5b5d-4337-8371-78c8d536600f\",\"type\":\"Toolbar\"},{\"attributes\":{\"fill_alpha\":{\"value\":0.1},\"fill_color\":{\"value\":\"#1f77b4\"},\"line_alpha\":{\"value\":0.1},\"line_color\":{\"value\":\"#1f77b4\"},\"size\":{\"units\":\"screen\",\"value\":9},\"x\":{\"field\":\"x\"},\"y\":{\"field\":\"y\"}},\"id\":\"05286bb8-6f84-446b-91b4-aa70baa9afc6\",\"type\":\"Circle\"},{\"attributes\":{\"items\":[{\"id\":\"44ba5988-c35c-4d87-a305-24af5f81a309\",\"type\":\"LegendItem\"},{\"id\":\"b8a42ac5-07a5-4d67-8a32-d4adde9f0335\",\"type\":\"LegendItem\"},{\"id\":\"c5e8c034-0f61-455e-aebd-5305b760bb32\",\"type\":\"LegendItem\"},{\"id\":\"0a9b0b61-7ca4-4325-a1f1-0463a69abad5\",\"type\":\"LegendItem\"}],\"plot\":{\"id\":\"81726608-2ae3-458a-af3f-bb3c0a041134\",\"subtype\":\"Figure\",\"type\":\"Plot\"}},\"id\":\"e63ee42e-596a-4206-a9c3-855d5e134ec9\",\"type\":\"Legend\"},{\"attributes\":{\"fill_color\":{\"value\":\"black\"},\"size\":{\"units\":\"screen\",\"value\":9},\"x\":{\"field\":\"x\"},\"y\":{\"field\":\"y\"}},\"id\":\"f2ef6334-ce97-4149-8a85-3256ab6e52b2\",\"type\":\"Triangle\"},{\"attributes\":{},\"id\":\"6d8b7cf1-b666-4868-b227-071e0608521f\",\"type\":\"BasicTickFormatter\"}],\"root_ids\":[\"81726608-2ae3-458a-af3f-bb3c0a041134\"]},\"title\":\"Bokeh Application\",\"version\":\"0.12.13\"}};\n",
       "  var render_items = [{\"docid\":\"2deb6ac2-ad6f-4cb5-80a4-0e0b1c49a61d\",\"elementid\":\"71165d60-dac7-4c93-8497-9a726e9f88c6\",\"modelid\":\"81726608-2ae3-458a-af3f-bb3c0a041134\"}];\n",
       "  root.Bokeh.embed.embed_items_notebook(docs_json, render_items);\n",
       "\n",
       "  }\n",
       "  if (root.Bokeh !== undefined) {\n",
       "    embed_document(root);\n",
       "  } else {\n",
       "    var attempts = 0;\n",
       "    var timer = setInterval(function(root) {\n",
       "      if (root.Bokeh !== undefined) {\n",
       "        embed_document(root);\n",
       "        clearInterval(timer);\n",
       "      }\n",
       "      attempts++;\n",
       "      if (attempts > 100) {\n",
       "        console.log(\"Bokeh: ERROR: Unable to run BokehJS code because BokehJS library is missing\")\n",
       "        clearInterval(timer);\n",
       "      }\n",
       "    }, 10, root)\n",
       "  }\n",
       "})(window);"
      ],
      "application/vnd.bokehjs_exec.v0+json": ""
     },
     "metadata": {
      "application/vnd.bokehjs_exec.v0+json": {
       "id": "81726608-2ae3-458a-af3f-bb3c0a041134"
      }
     },
     "output_type": "display_data"
    }
   ],
   "source": [
    "guess = [2, 2]\n",
    "params, params_covariance = optimize.curve_fit(f2, xdata, ydata, guess)\n",
    "\n",
    "grid = (-10, 10, 0.1)\n",
    "xmin_global = optimize.brute(f, (grid,))\n",
    "xmin_local = optimize.fminbound(f, 0, 10)\n",
    "\n",
    "fig = bk.figure(title=None)\n",
    "fig.line(x, f(x), color='blue', line_width=2, legend=\"f(x)\")\n",
    "fig.line(x, f2(x, *params), color='red', line_width=2, line_dash=[5], legend=\"Curve fit result\")\n",
    "\n",
    "xmins = np.array([xmin_global[0], xmin_local])\n",
    "\n",
    "fig.circle(xmins, f(xmins), size=9, color='green', legend=\"Minima\")\n",
    "\n",
    "roots = np.array([root[0], root2[0]])\n",
    "\n",
    "fig.triangle(roots, f(roots), size=9, color=\"black\", legend=\"Roots\")\n",
    "fig.xaxis[0].axis_label = 'x'\n",
    "fig.yaxis[0].axis_label = 'f(x)'\n",
    "bk.show(fig)\n"
   ]
  },
  {
   "cell_type": "markdown",
   "metadata": {},
   "source": [
    "## 5 Optimizing with Box-Bound Constraints"
   ]
  },
  {
   "cell_type": "markdown",
   "metadata": {},
   "source": [
    "Box bounds correspond to limiting each of the individual parameters of the optimization. Note that some problems that are not originally written as box bounds can be rewritten as such be a change of variables.\n",
    "\n",
    "* `scipy.optimize.fminbound()` for 1D-optimization\n",
    "* `scipy.optimize.fmin_l_bfgs_b()` a quasi-Newton method with bound constraints"
   ]
  },
  {
   "cell_type": "code",
   "execution_count": 12,
   "metadata": {},
   "outputs": [],
   "source": [
    "import warnings\n",
    "warnings.filterwarnings('ignore', category=UnicodeWarning)"
   ]
  },
  {
   "cell_type": "code",
   "execution_count": 13,
   "metadata": {},
   "outputs": [
    {
     "data": {
      "text/plain": [
       "[<matplotlib.lines.Line2D at 0x7fd7a482d470>]"
      ]
     },
     "execution_count": 13,
     "metadata": {},
     "output_type": "execute_result"
    },
    {
     "data": {
      "image/png": "[encoded data removed]",
      "text/plain": [
       "<matplotlib.figure.Figure at 0x7fd79a16b208>"
      ]
     },
     "metadata": {},
     "output_type": "display_data"
    },
    {
     "data": {
      "image/png": "[encoded data removed]",
      "text/plain": [
       "<matplotlib.figure.Figure at 0x7fd79a087b38>"
      ]
     },
     "metadata": {},
     "output_type": "display_data"
    }
   ],
   "source": [
    "%matplotlib inline\n",
    "import matplotlib.pyplot as plt\n",
    "\n",
    "x, y = np.mgrid[-2.9:5.8:.05, -2.5:5:.05]\n",
    "x = x.T\n",
    "y = y.T\n",
    "\n",
    "for i in (1, 2):\n",
    "    # Create 2 figure: only the second one will have the optimization\n",
    "    # path\n",
    "    plt.figure(i, figsize=(3, 2.5))\n",
    "    plt.clf()\n",
    "    plt.axes([0, 0, 1, 1])\n",
    "\n",
    "    contours = plt.contour(np.sqrt((x - 3)**2 + (y - 2)**2),\n",
    "                           extent=[-3, 6, -2.5, 5], cmap=plt.cm.gnuplot)\n",
    "    plt.clabel(contours, inline=1, fmt='%1.1f', fontsize=14)\n",
    "\n",
    "    plt.plot([-1.5, -1.5,  1.5,  1.5, -1.5],\n",
    "             [-1.5,  1.5,  1.5, -1.5, -1.5], 'k', linewidth=2)\n",
    "    plt.fill_between([ -1.5,  1.5],\n",
    "                     [ -1.5, -1.5],\n",
    "                     [  1.5,  1.5],\n",
    "                     color='.8')\n",
    "    plt.axvline(0, color='k')\n",
    "    plt.axhline(0, color='k')\n",
    "\n",
    "    plt.text(-.9, 4.4, '$x_2$', size=20)\n",
    "    plt.text(5.6, -.6, '$x_1$', size=20)\n",
    "    plt.axis('equal')\n",
    "    plt.axis('off')\n",
    "\n",
    "# And now plot the optimization path\n",
    "accumulator = list()\n",
    "\n",
    "def f(x):\n",
    "    # Store the list of function calls\n",
    "    accumulator.append(x)\n",
    "    return np.sqrt((x[0] - 3)**2 + (x[1] - 2)**2)\n",
    "\n",
    "# We don't use the gradient, as with the gradient, L-BFGS is too fast,\n",
    "# and finds the optimum without showing us a pretty path\n",
    "def f_prime(x):\n",
    "    r = np.sqrt((x[0] - 3)**2 + (x[0] - 2)**2)\n",
    "    return np.array(((x[0] - 3)/r, (x[0] - 2)/r))\n",
    "\n",
    "optimize.fmin_l_bfgs_b(f, np.array([0, 0]), approx_grad=1,\n",
    "                       bounds=((-1.5, 1.5), (-1.5, 1.5)))\n",
    "\n",
    "accumulated = np.array(accumulator)\n",
    "plt.plot(accumulated[:, 0], accumulated[:, 1])"
   ]
  },
  {
   "cell_type": "markdown",
   "metadata": {},
   "source": [
    "---\n",
    "\n",
    "Visit [www.add-for.com](<http://www.add-for.com/IT>) for more tutorials and updates.\n",
    "\n",
    "This work is licensed under a <a rel=\"license\" href=\"http://creativecommons.org/licenses/by-sa/4.0/\">Creative Commons Attribution-ShareAlike 4.0 International License</a>."
   ]
  }
 ],
 "metadata": {
  "kernelspec": {
   "display_name": "Python [conda env:addfor_tutorials]",
   "language": "python",
   "name": "conda-env-addfor_tutorials-py"
  },
  "language_info": {
   "codemirror_mode": {
    "name": "ipython",
    "version": 3
   },
   "file_extension": ".py",
   "mimetype": "text/x-python",
   "name": "python",
   "nbconvert_exporter": "python",
   "pygments_lexer": "ipython3",
   "version": "3.6.4"
  }
 },
 "nbformat": 4,
 "nbformat_minor": 1
}
